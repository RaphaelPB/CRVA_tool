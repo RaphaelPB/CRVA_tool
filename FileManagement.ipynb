{
 "cells": [
  {
   "cell_type": "markdown",
   "id": "c64945eb",
   "metadata": {},
   "source": [
    "This file aims to regroup all function involved in file management"
   ]
  },
  {
   "cell_type": "code",
   "execution_count": 1,
   "id": "e27ad997",
   "metadata": {},
   "outputs": [],
   "source": [
    "import os\n",
    "import os.path\n",
    "import numpy as np\n",
    "from netCDF4 import Dataset"
   ]
  },
  {
   "cell_type": "code",
   "execution_count": 2,
   "id": "db7bc601",
   "metadata": {},
   "outputs": [],
   "source": [
    "# Gros bug sur cette function\n",
    "\n",
    "def download_extract(path_file,path_for_file):\n",
    "    #if not os.path.isdir(path_for_file): # path_for_file does not exists, need to ensure that is is created\n",
    "    #    os.makedirs(path_for_file) # to ensure the creation of the path\n",
    "    # unzip the downloaded file\n",
    "    from zipfile import ZipFile\n",
    "  \n",
    "    # loading the temp.zip and creating a zip object\n",
    "    os.chdir(path_file)\n",
    "    with ZipFile(path_for_file, 'r') as zObject:\n",
    "      \n",
    "    # Extracting all the members of the zip \n",
    "    # into a specific location.\n",
    "        print(zObject)\n",
    "        zObject.extractall()\n",
    "    \n",
    "    print('\\n ----------------------------- The downloaded file is extracted in the indicated file -----------------------------')\n",
    "    return"
   ]
  },
  {
   "cell_type": "code",
   "execution_count": 3,
   "id": "8c7bda39",
   "metadata": {},
   "outputs": [],
   "source": [
    "def path_length(str1):\n",
    "    if len(str1)>250:\n",
    "        path = os.path.abspath(str1) # normalize path\n",
    "        if path.startswith(u\"\\\\\\\\\"):\n",
    "            path=u\"\\\\\\\\?\\\\UNC\\\\\"+path[2:]\n",
    "        else:\n",
    "            path=u\"\\\\\\\\?\\\\\"+path\n",
    "        return path\n",
    "    else:\n",
    "        return str1"
   ]
  },
  {
   "cell_type": "code",
   "execution_count": 4,
   "id": "79b3ca77",
   "metadata": {},
   "outputs": [],
   "source": [
    "def read_nc_file(path):\n",
    "    name_variable = find_column_name(path)\n",
    "    \n",
    "    #df=Dataset(path)\n",
    "    \n",
    "    lat=get_data_nc(path,'lat')\n",
    "    lon=get_data_nc(path,'lon')\n",
    "    time=get_data_nc(path,'time')\n",
    "    variable=return_NaN(path,name_variable)\n",
    "    \n",
    "    return lat, lon, time, variable"
   ]
  },
  {
   "cell_type": "code",
   "execution_count": 5,
   "id": "66e6537f",
   "metadata": {},
   "outputs": [],
   "source": [
    "def get_data_nc(path,name_variable):\n",
    "    variable = np.ma.getdata(Dataset(path).variables[name_variable]).data\n",
    "    return variable"
   ]
  },
  {
   "cell_type": "code",
   "execution_count": 6,
   "id": "38dd9a15",
   "metadata": {},
   "outputs": [],
   "source": [
    "# function to return column name in the netCDF file\n",
    "# all netCDF file form copernicus have this format for their variables names\n",
    "# ['time', 'time_bnds', 'lat', 'lat_bnds', 'lon', 'lon_bnds', Name of climate variable of interest]\n",
    "# take of 'time', 'time_bnds', 'lat', 'lat_bnds', 'lon', 'lon_bnds'\n",
    "def find_column_name(path):\n",
    "    # make a list with every variables of the netCDF file of interest\n",
    "    climate_variable_variables=list(Dataset(path).variables)\n",
    "    # variables that are not the column name of interest \n",
    "    elements_not_climate_var =['time', 'time_bnds', 'bnds','lat', 'lat_bnds', 'lon', 'lon_bnds','time_bounds','bounds','lat_bounds','lon_bounds']\n",
    "    for str in elements_not_climate_var:\n",
    "        if str in climate_variable_variables:\n",
    "            climate_variable_variables.remove(str)\n",
    "    return climate_variable_variables[0]"
   ]
  },
  {
   "cell_type": "code",
   "execution_count": 10,
   "id": "a8b31939",
   "metadata": {},
   "outputs": [],
   "source": [
    "def return_NaN(path,name_variable):\n",
    "    variable = get_data_nc(path,name_variable)\n",
    "    value_NaN = Dataset(path).variables[name_variable]._FillValue\n",
    "    import math\n",
    "    #variable[variable==value_NaN] = math.nan#float('NaN')\n",
    "    return variable"
   ]
  },
  {
   "cell_type": "code",
   "execution_count": null,
   "id": "1caa2e12",
   "metadata": {},
   "outputs": [],
   "source": []
  }
 ],
 "metadata": {
  "kernelspec": {
   "display_name": "Python 3 (ipykernel)",
   "language": "python",
   "name": "python3"
  },
  "language_info": {
   "codemirror_mode": {
    "name": "ipython",
    "version": 3
   },
   "file_extension": ".py",
   "mimetype": "text/x-python",
   "name": "python",
   "nbconvert_exporter": "python",
   "pygments_lexer": "ipython3",
   "version": "3.10.6"
  }
 },
 "nbformat": 4,
 "nbformat_minor": 5
}
