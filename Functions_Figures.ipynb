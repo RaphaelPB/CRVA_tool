{
 "cells": [
  {
   "cell_type": "markdown",
   "id": "bcd537d0",
   "metadata": {},
   "source": [
    "This file contains function to be used to produce plots."
   ]
  },
  {
   "cell_type": "code",
   "execution_count": 1,
   "id": "d4799101",
   "metadata": {},
   "outputs": [],
   "source": [
    "# Packages\n",
    "import matplotlib.pyplot as plt\n",
    "import pandas as pd\n",
    "import numpy as np"
   ]
  },
  {
   "cell_type": "markdown",
   "id": "e28db054",
   "metadata": {},
   "source": [
    "# Plot\n",
    "\n",
    "the function produces a graph with \n",
    "\n",
    "several set of data\n",
    "the x ticks can be rotate\n",
    "x label\n",
    "y label\n",
    "a title\n",
    "a legend\n",
    "the possibility to save the image"
   ]
  },
  {
   "cell_type": "code",
   "execution_count": null,
   "id": "ff461df1",
   "metadata": {},
   "outputs": [],
   "source": [
    "# this function is to plot the statistics of the evolution of the climate variable of interest for a certain station\n",
    "def plot_(data_obs,data_model,stats,climate_var,title_column_obs,title_column_modeled,source_obs,source_modeled,name_station,start_year,stop_year):\n",
    "    if stats == 'sum':\n",
    "        for model in list_models_NEX_GDDP_CMIP6:\n",
    "            yearly_climate_var_NEX_GDDP_CMIP6 = data_model[data_model['Model']==model].groupby('Year')[[title_column_modeled]].sum().rename(columns = {title_column_modeled:'Yearly '+climate_var+' mm/year'})\n",
    "            plt.plot(yearly_climate_var_NEX_GDDP_CMIP6.index,yearly_climate_var_NEX_GDDP_CMIP6,label=model)\n",
    "        climate_var_yearly_obs=data_obs.groupby('Year')[[title_column_obs]].sum()\n",
    "        plt.plot(climate_var_yearly_obs.index,climate_var_yearly_obs,'k',label='observation')\n",
    "        plt.xlabel('Years')\n",
    "        plt.ylabel('Yearly '+climate_var+' mm/year')\n",
    "        plt.title('Yearly '+climate_var+' mm accross models from '+source_modeled+', with observation\\nfrom '+source_obs+', at station '+name_station+', between '+str(start_year)+' and '+str(stop_year))\n",
    "        plt.legend(loc='center left', bbox_to_anchor=(1, 0.5))\n",
    "        plt.show()\n",
    "    if stats == 'average':\n",
    "        for model in list_models_NEX_GDDP_CMIP6:\n",
    "            yearly_climate_var_NEX_GDDP_CMIP6 = data_model[data_model['Model']==model].groupby('Year')[[title_column_modeled]].mean().rename(columns = {title_column_modeled:'Average yearly '+climate_var+' mm/day'})\n",
    "            plt.plot(yearly_climate_var_NEX_GDDP_CMIP6.index,yearly_climate_var_NEX_GDDP_CMIP6,label=model)\n",
    "\n",
    "        climate_var_yearly_obs=data_obs.groupby('Year')[[title_column_obs]].mean()\n",
    "        plt.plot(climate_var_yearly_obs.index,climate_var_yearly_obs,'k',label='observation')    \n",
    "        #plt.ylim(0,1.5)\n",
    "        plt.xlabel('Years')\n",
    "        plt.ylabel('Average yearly '+climate_var+' mm/day')\n",
    "        plt.title('Average yearly '+climate_var+' mm accross models from '+source_modeled+', with observation\\nfrom '+source_obs+', at name station '+name_station+', between '+str(start_year)+' and '+str(stop_year))\n",
    "        plt.legend(loc='center left', bbox_to_anchor=(1, 0.5))\n",
    "        plt.show()\n",
    "    if stats == 'median':\n",
    "        for model in list_models_NEX_GDDP_CMIP6:\n",
    "            yearly_climate_var_NEX_GDDP_CMIP6 = data_model[data_model['Model']==model].groupby('Year')[[title_column_modeled]].median().rename(columns = {title_column_modeled:'Median yearly '+climate_var+' mm/day'})\n",
    "            plt.plot(yearly_climate_var_NEX_GDDP_CMIP6.index,yearly_climate_var_NEX_GDDP_CMIP6,label=model)\n",
    "\n",
    "        climate_var_yearly_obs=data_obs.groupby('Year')[[title_column_obs]].median()\n",
    "        plt.plot(climate_var_yearly_obs.index,climate_var_yearly_obs,'k',label='observation')    \n",
    "        plt.ylim(0,1.5)\n",
    "        plt.xlabel('Years')\n",
    "        plt.ylabel('Median yearly '+climate_var+' mm/day')\n",
    "        plt.title('Median yearly '+climate_var+' mm accross models from '+source_modeled+', with observation\\nfrom '+source_obs+', at name station '+name_station+', between '+str(start_year)+' and '+str(stop_year))\n",
    "        plt.legend(loc='center left', bbox_to_anchor=(1, 0.5))\n",
    "        plt.show()"
   ]
  },
  {
   "cell_type": "markdown",
   "id": "94a0ced2",
   "metadata": {},
   "source": [
    "# Boxplot\n",
    "\n",
    "several set of data\n",
    "the x ticks can be rotate\n",
    "x label\n",
    "y label\n",
    "a title\n",
    "a legend\n",
    "possibility to color the boxes\n",
    "the possibility to save the image"
   ]
  },
  {
   "cell_type": "code",
   "execution_count": null,
   "id": "f2371e9e",
   "metadata": {},
   "outputs": [],
   "source": [
    "# box_plot is a function to plot one boxplot in a graph\n",
    "# the inputs are\n",
    "#    data to put in boxplots\n",
    "#    label of the data\n",
    "#    the color of the box\n",
    "# the function returns the properties of the boxplot graphe with bp\n",
    "def box_plot(data, label, fill_color):\n",
    "    \n",
    "    bp = plt.boxplot(data,labels = [label],notch=True, whis =(10,90), patch_artist=True,showfliers=False)\n",
    "\n",
    "    for patch in bp['boxes']:\n",
    "        patch.set(facecolor=fill_color)       \n",
    "        \n",
    "    return bp\n",
    "\n",
    "# the function several_boxplot is a function to plot several boxplots in one graph (to compare them)\n",
    "# the inputs:\n",
    "#    the data in a certainn format, the length should be the same as the text_label\n",
    "#    text_label contains the name of each set of data to be presented in boxplots\n",
    "#   All the following inputs are used for titles or labels\n",
    "#    climate_var is the climate variable of interest (example:'precipitation')\n",
    "#    source_obs is the source of the observation data\n",
    "#    source_modeled is the source of the modeled data\n",
    "#    full_name_climate_var is the complete name of the climate variable of interest (example:'Mean of the daily precipitation rate mm/day')\n",
    "#    y_label_text is the label for the y axis (example:'Observational data vs Models')\n",
    "#    path is the out_path where to register data\n",
    "def several_boxplot(data_boxplot,text_label,climate_var,source_obs,source_modeled,full_name_climate_var,y_label_text,path_figure):\n",
    "    fig, ax = plt.subplots()\n",
    "    colors = []\n",
    "    bp=plt.boxplot(data_boxplot,labels = text_label,notch=True, whis =(10,90),patch_artist = True,showfliers=False)\n",
    "    # showfliers=False permits to have the boxplot without outliers\n",
    "    # documentation about boxplot\n",
    "    # ... present boxplot over the period for each models\n",
    "    # this functions returns varius parameters of the boxplot in the dict_boxplot. This funcitons also returns an image of it\n",
    "    # here, numpy_array is a vector. But can also include array with several columns. Each columns will have a boxplot\n",
    "    # 'notch' is true to enhance part where the median is\n",
    "    # 'whis' is the percentile value for the whiskers, every data out of the range indicted by those 2 floats are represented as points\n",
    "    # 'widths' determine width of the boxes\n",
    "    # 'patch_artist' colors the boxplots\n",
    "    # 'labels' gives a name to every column included in the data part\n",
    "\n",
    "    # prepare color depending on content of labels\n",
    "    for i in np.arange(0,len(text_label)):\n",
    "        if ('obs' in text_label[i]) or ('Obs' in text_label[i]):\n",
    "            colors.append('lightpink')\n",
    "        else:\n",
    "            colors.append('lightblue')\n",
    "    # fill colors with vector just prepared\n",
    "    for patch, color in zip(bp['boxes'], colors):\n",
    "        patch.set_facecolor(color)\n",
    "    \n",
    "    plt.xticks(rotation=90) # to have the labels vertical\n",
    "    # label axes and figure\n",
    "    plt.xlabel(y_label_text)\n",
    "    plt.ylabel(full_name_climate_var)\n",
    "    plt.title('Boxplot presenting ditribution of '+climate_var+' data of the\\n'+source_obs+' observation data vs '+source_modeled+' modeled data')\n",
    "    # add legend\n",
    "    ax.legend([bp['boxes'][0],bp['boxes'][1]], ['Observed', 'Modeled'])\n",
    "    #title_png = climate_var+'_'+source_obs+'_'+source_modeled+'.png'\n",
    "    #plt.savefig(os.path.join(path_figure,'figures','Boxplots',title_png),format ='png') # savefig or save text must be before plt.show. for savefig, format should be explicity written\n",
    "\n",
    "    plt.show()"
   ]
  },
  {
   "cell_type": "code",
   "execution_count": 2,
   "id": "8f662ec7",
   "metadata": {},
   "outputs": [
    {
     "ename": "ImportError",
     "evalue": "Missing optional dependency 'xlrd'. Install xlrd >= 2.0.1 for xls Excel support Use pip or conda to install xlrd.",
     "output_type": "error",
     "traceback": [
      "\u001b[1;31m---------------------------------------------------------------------------\u001b[0m",
      "\u001b[1;31mModuleNotFoundError\u001b[0m                       Traceback (most recent call last)",
      "File \u001b[1;32m~\\AppData\\Local\\miniconda3\\envs\\geodata\\lib\\site-packages\\pandas\\compat\\_optional.py:142\u001b[0m, in \u001b[0;36mimport_optional_dependency\u001b[1;34m(name, extra, errors, min_version)\u001b[0m\n\u001b[0;32m    141\u001b[0m \u001b[38;5;28;01mtry\u001b[39;00m:\n\u001b[1;32m--> 142\u001b[0m     module \u001b[38;5;241m=\u001b[39m \u001b[43mimportlib\u001b[49m\u001b[38;5;241;43m.\u001b[39;49m\u001b[43mimport_module\u001b[49m\u001b[43m(\u001b[49m\u001b[43mname\u001b[49m\u001b[43m)\u001b[49m\n\u001b[0;32m    143\u001b[0m \u001b[38;5;28;01mexcept\u001b[39;00m \u001b[38;5;167;01mImportError\u001b[39;00m:\n",
      "File \u001b[1;32m~\\AppData\\Local\\miniconda3\\envs\\geodata\\lib\\importlib\\__init__.py:126\u001b[0m, in \u001b[0;36mimport_module\u001b[1;34m(name, package)\u001b[0m\n\u001b[0;32m    125\u001b[0m         level \u001b[38;5;241m+\u001b[39m\u001b[38;5;241m=\u001b[39m \u001b[38;5;241m1\u001b[39m\n\u001b[1;32m--> 126\u001b[0m \u001b[38;5;28;01mreturn\u001b[39;00m \u001b[43m_bootstrap\u001b[49m\u001b[38;5;241;43m.\u001b[39;49m\u001b[43m_gcd_import\u001b[49m\u001b[43m(\u001b[49m\u001b[43mname\u001b[49m\u001b[43m[\u001b[49m\u001b[43mlevel\u001b[49m\u001b[43m:\u001b[49m\u001b[43m]\u001b[49m\u001b[43m,\u001b[49m\u001b[43m \u001b[49m\u001b[43mpackage\u001b[49m\u001b[43m,\u001b[49m\u001b[43m \u001b[49m\u001b[43mlevel\u001b[49m\u001b[43m)\u001b[49m\n",
      "File \u001b[1;32m<frozen importlib._bootstrap>:1050\u001b[0m, in \u001b[0;36m_gcd_import\u001b[1;34m(name, package, level)\u001b[0m\n",
      "File \u001b[1;32m<frozen importlib._bootstrap>:1027\u001b[0m, in \u001b[0;36m_find_and_load\u001b[1;34m(name, import_)\u001b[0m\n",
      "File \u001b[1;32m<frozen importlib._bootstrap>:1004\u001b[0m, in \u001b[0;36m_find_and_load_unlocked\u001b[1;34m(name, import_)\u001b[0m\n",
      "\u001b[1;31mModuleNotFoundError\u001b[0m: No module named 'xlrd'",
      "\nDuring handling of the above exception, another exception occurred:\n",
      "\u001b[1;31mImportError\u001b[0m                               Traceback (most recent call last)",
      "Cell \u001b[1;32mIn[2], line 2\u001b[0m\n\u001b[0;32m      1\u001b[0m path_file_SIPA \u001b[38;5;241m=\u001b[39m \u001b[38;5;124mr\u001b[39m\u001b[38;5;124m'\u001b[39m\u001b[38;5;124mC:\u001b[39m\u001b[38;5;124m\\\u001b[39m\u001b[38;5;124mUsers\u001b[39m\u001b[38;5;124m\\\u001b[39m\u001b[38;5;124mCLMRX\u001b[39m\u001b[38;5;124m\\\u001b[39m\u001b[38;5;124mCOWI\u001b[39m\u001b[38;5;124m\\\u001b[39m\u001b[38;5;124mA248363 - Climate analysis - Documents\u001b[39m\u001b[38;5;124m\\\u001b[39m\u001b[38;5;124mGeneral\u001b[39m\u001b[38;5;124m\\\u001b[39m\u001b[38;5;124mCRVA_tool\u001b[39m\u001b[38;5;124m\\\u001b[39m\u001b[38;5;124mMaster_thesis\u001b[39m\u001b[38;5;124m\\\u001b[39m\u001b[38;5;124mProject\u001b[39m\u001b[38;5;124m\\\u001b[39m\u001b[38;5;124m3 - Implementation\u001b[39m\u001b[38;5;124m\\\u001b[39m\u001b[38;5;124m1 - Data\u001b[39m\u001b[38;5;124m\\\u001b[39m\u001b[38;5;124m1-BC\u001b[39m\u001b[38;5;124m\\\u001b[39m\u001b[38;5;124mDirecltyfromMoz\u001b[39m\u001b[38;5;124m\\\u001b[39m\u001b[38;5;124mDados_e_grafico_P_812.xls\u001b[39m\u001b[38;5;124m'\u001b[39m\n\u001b[1;32m----> 2\u001b[0m obs_SIPA\u001b[38;5;241m=\u001b[39m\u001b[43mpd\u001b[49m\u001b[38;5;241;43m.\u001b[39;49m\u001b[43mread_excel\u001b[49m\u001b[43m(\u001b[49m\u001b[43mpath_file_SIPA\u001b[49m\u001b[43m)\u001b[49m\n\u001b[0;32m      3\u001b[0m obs_SIPA\n",
      "File \u001b[1;32m~\\AppData\\Local\\miniconda3\\envs\\geodata\\lib\\site-packages\\pandas\\io\\excel\\_base.py:478\u001b[0m, in \u001b[0;36mread_excel\u001b[1;34m(io, sheet_name, header, names, index_col, usecols, dtype, engine, converters, true_values, false_values, skiprows, nrows, na_values, keep_default_na, na_filter, verbose, parse_dates, date_parser, date_format, thousands, decimal, comment, skipfooter, storage_options, dtype_backend)\u001b[0m\n\u001b[0;32m    476\u001b[0m \u001b[38;5;28;01mif\u001b[39;00m \u001b[38;5;129;01mnot\u001b[39;00m \u001b[38;5;28misinstance\u001b[39m(io, ExcelFile):\n\u001b[0;32m    477\u001b[0m     should_close \u001b[38;5;241m=\u001b[39m \u001b[38;5;28;01mTrue\u001b[39;00m\n\u001b[1;32m--> 478\u001b[0m     io \u001b[38;5;241m=\u001b[39m \u001b[43mExcelFile\u001b[49m\u001b[43m(\u001b[49m\u001b[43mio\u001b[49m\u001b[43m,\u001b[49m\u001b[43m \u001b[49m\u001b[43mstorage_options\u001b[49m\u001b[38;5;241;43m=\u001b[39;49m\u001b[43mstorage_options\u001b[49m\u001b[43m,\u001b[49m\u001b[43m \u001b[49m\u001b[43mengine\u001b[49m\u001b[38;5;241;43m=\u001b[39;49m\u001b[43mengine\u001b[49m\u001b[43m)\u001b[49m\n\u001b[0;32m    479\u001b[0m \u001b[38;5;28;01melif\u001b[39;00m engine \u001b[38;5;129;01mand\u001b[39;00m engine \u001b[38;5;241m!=\u001b[39m io\u001b[38;5;241m.\u001b[39mengine:\n\u001b[0;32m    480\u001b[0m     \u001b[38;5;28;01mraise\u001b[39;00m \u001b[38;5;167;01mValueError\u001b[39;00m(\n\u001b[0;32m    481\u001b[0m         \u001b[38;5;124m\"\u001b[39m\u001b[38;5;124mEngine should not be specified when passing \u001b[39m\u001b[38;5;124m\"\u001b[39m\n\u001b[0;32m    482\u001b[0m         \u001b[38;5;124m\"\u001b[39m\u001b[38;5;124man ExcelFile - ExcelFile already has the engine set\u001b[39m\u001b[38;5;124m\"\u001b[39m\n\u001b[0;32m    483\u001b[0m     )\n",
      "File \u001b[1;32m~\\AppData\\Local\\miniconda3\\envs\\geodata\\lib\\site-packages\\pandas\\io\\excel\\_base.py:1513\u001b[0m, in \u001b[0;36mExcelFile.__init__\u001b[1;34m(self, path_or_buffer, engine, storage_options)\u001b[0m\n\u001b[0;32m   1510\u001b[0m \u001b[38;5;28mself\u001b[39m\u001b[38;5;241m.\u001b[39mengine \u001b[38;5;241m=\u001b[39m engine\n\u001b[0;32m   1511\u001b[0m \u001b[38;5;28mself\u001b[39m\u001b[38;5;241m.\u001b[39mstorage_options \u001b[38;5;241m=\u001b[39m storage_options\n\u001b[1;32m-> 1513\u001b[0m \u001b[38;5;28mself\u001b[39m\u001b[38;5;241m.\u001b[39m_reader \u001b[38;5;241m=\u001b[39m \u001b[38;5;28;43mself\u001b[39;49m\u001b[38;5;241;43m.\u001b[39;49m\u001b[43m_engines\u001b[49m\u001b[43m[\u001b[49m\u001b[43mengine\u001b[49m\u001b[43m]\u001b[49m\u001b[43m(\u001b[49m\u001b[38;5;28;43mself\u001b[39;49m\u001b[38;5;241;43m.\u001b[39;49m\u001b[43m_io\u001b[49m\u001b[43m,\u001b[49m\u001b[43m \u001b[49m\u001b[43mstorage_options\u001b[49m\u001b[38;5;241;43m=\u001b[39;49m\u001b[43mstorage_options\u001b[49m\u001b[43m)\u001b[49m\n",
      "File \u001b[1;32m~\\AppData\\Local\\miniconda3\\envs\\geodata\\lib\\site-packages\\pandas\\io\\excel\\_xlrd.py:34\u001b[0m, in \u001b[0;36mXlrdReader.__init__\u001b[1;34m(self, filepath_or_buffer, storage_options)\u001b[0m\n\u001b[0;32m     24\u001b[0m \u001b[38;5;250m\u001b[39m\u001b[38;5;124;03m\"\"\"\u001b[39;00m\n\u001b[0;32m     25\u001b[0m \u001b[38;5;124;03mReader using xlrd engine.\u001b[39;00m\n\u001b[0;32m     26\u001b[0m \n\u001b[1;32m   (...)\u001b[0m\n\u001b[0;32m     31\u001b[0m \u001b[38;5;124;03m{storage_options}\u001b[39;00m\n\u001b[0;32m     32\u001b[0m \u001b[38;5;124;03m\"\"\"\u001b[39;00m\n\u001b[0;32m     33\u001b[0m err_msg \u001b[38;5;241m=\u001b[39m \u001b[38;5;124m\"\u001b[39m\u001b[38;5;124mInstall xlrd >= 2.0.1 for xls Excel support\u001b[39m\u001b[38;5;124m\"\u001b[39m\n\u001b[1;32m---> 34\u001b[0m \u001b[43mimport_optional_dependency\u001b[49m\u001b[43m(\u001b[49m\u001b[38;5;124;43m\"\u001b[39;49m\u001b[38;5;124;43mxlrd\u001b[39;49m\u001b[38;5;124;43m\"\u001b[39;49m\u001b[43m,\u001b[49m\u001b[43m \u001b[49m\u001b[43mextra\u001b[49m\u001b[38;5;241;43m=\u001b[39;49m\u001b[43merr_msg\u001b[49m\u001b[43m)\u001b[49m\n\u001b[0;32m     35\u001b[0m \u001b[38;5;28msuper\u001b[39m()\u001b[38;5;241m.\u001b[39m\u001b[38;5;21m__init__\u001b[39m(filepath_or_buffer, storage_options\u001b[38;5;241m=\u001b[39mstorage_options)\n",
      "File \u001b[1;32m~\\AppData\\Local\\miniconda3\\envs\\geodata\\lib\\site-packages\\pandas\\compat\\_optional.py:145\u001b[0m, in \u001b[0;36mimport_optional_dependency\u001b[1;34m(name, extra, errors, min_version)\u001b[0m\n\u001b[0;32m    143\u001b[0m \u001b[38;5;28;01mexcept\u001b[39;00m \u001b[38;5;167;01mImportError\u001b[39;00m:\n\u001b[0;32m    144\u001b[0m     \u001b[38;5;28;01mif\u001b[39;00m errors \u001b[38;5;241m==\u001b[39m \u001b[38;5;124m\"\u001b[39m\u001b[38;5;124mraise\u001b[39m\u001b[38;5;124m\"\u001b[39m:\n\u001b[1;32m--> 145\u001b[0m         \u001b[38;5;28;01mraise\u001b[39;00m \u001b[38;5;167;01mImportError\u001b[39;00m(msg)\n\u001b[0;32m    146\u001b[0m     \u001b[38;5;28;01mreturn\u001b[39;00m \u001b[38;5;28;01mNone\u001b[39;00m\n\u001b[0;32m    148\u001b[0m \u001b[38;5;66;03m# Handle submodules: if we have submodule, grab parent module from sys.modules\u001b[39;00m\n",
      "\u001b[1;31mImportError\u001b[0m: Missing optional dependency 'xlrd'. Install xlrd >= 2.0.1 for xls Excel support Use pip or conda to install xlrd."
     ]
    }
   ],
   "source": [
    "path_file_SIPA = r'C:\\Users\\CLMRX\\COWI\\A248363 - Climate analysis - Documents\\General\\CRVA_tool\\Master_thesis\\Project\\3 - Implementation\\1 - Data\\1-BC\\DirecltyfromMoz\\Dados_e_grafico_P_812.xls'\n",
    "obs_SIPA=pd.read_excel(path_file_SIPA)\n",
    "obs_SIPA"
   ]
  },
  {
   "cell_type": "code",
   "execution_count": null,
   "id": "cdd33e42",
   "metadata": {},
   "outputs": [],
   "source": []
  }
 ],
 "metadata": {
  "kernelspec": {
   "display_name": "Python 3 (ipykernel)",
   "language": "python",
   "name": "python3"
  },
  "language_info": {
   "codemirror_mode": {
    "name": "ipython",
    "version": 3
   },
   "file_extension": ".py",
   "mimetype": "text/x-python",
   "name": "python",
   "nbconvert_exporter": "python",
   "pygments_lexer": "ipython3",
   "version": "3.10.6"
  }
 },
 "nbformat": 4,
 "nbformat_minor": 5
}
