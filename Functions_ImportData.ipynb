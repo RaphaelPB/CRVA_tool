{
 "cells": [
  {
   "cell_type": "code",
   "execution_count": 10,
   "id": "4091e1cb",
   "metadata": {},
   "outputs": [],
   "source": [
    "import pandas as pd\n",
    "import numpy as np\n",
    "import os\n",
    "import os.path\n",
    "\n",
    "from Functions_Indicators import str_month\n",
    "from Functions_Indicators import add_year_month_season"
   ]
  },
  {
   "cell_type": "code",
   "execution_count": 6,
   "id": "c59fd951",
   "metadata": {},
   "outputs": [],
   "source": [
    "def treat_NOAA_data(daily_sum_obs_from_NOAA):\n",
    "    \n",
    "    daily_sum_obs_from_NOAA = add_year_month_season(daily_sum_obs_from_NOAA,'DATE')\n",
    "    \n",
    "    daily_sum_obs_from_NOAA = daily_sum_obs_from_NOAA[daily_sum_obs_from_NOAA['Year'].between(1970,2014)]\n",
    "    \n",
    "    daily_sum_obs_from_NOAA=count_na_in_df_NOAA(daily_sum_obs_from_NOAA,'PRCP')\n",
    "    daily_sum_obs_from_NOAA=count_na_in_df_NOAA(daily_sum_obs_from_NOAA,'TAVG')\n",
    "    daily_sum_obs_from_NOAA=count_na_in_df_NOAA(daily_sum_obs_from_NOAA,'TMAX')\n",
    "    daily_sum_obs_from_NOAA=count_na_in_df_NOAA(daily_sum_obs_from_NOAA,'TMIN')\n",
    "    \n",
    "    return daily_sum_obs_from_NOAA"
   ]
  },
  {
   "cell_type": "code",
   "execution_count": 7,
   "id": "028c2ca6",
   "metadata": {},
   "outputs": [],
   "source": [
    "def import_treat_modeled_NEX_GDDP_CMIP6_close_to_stationNOAA(climate_var, unit):\n",
    "    # import data\n",
    "    \n",
    "    path_NEX_GDDP_CMIP6_EmplacementStation=os.path.join(r'\\\\COWI.net\\projects\\A245000\\A248363\\CRVA\\Datasets\\NEX-GDDP-CMIP6-AllMoz\\csv_file',climate_var,climate_var+'_'+unit+'_day_1970-2014_closest_point_to_NOAA','NEXGDDPCMIP6_at_same_emplacement_as_NOAA_stationPembaChimoioBeira_'+climate_var+'_1970-2014_projectsMoz.csv')\n",
    "    \n",
    "    data_NEX_GDDP_CMIP6_EmplacementStation = pd.read_csv(path_NEX_GDDP_CMIP6_EmplacementStation)\n",
    "    \n",
    "    data_NEX_GDDP_CMIP6_EmplacementStation = add_year_month_season(data_NEX_GDDP_CMIP6_EmplacementStation,'Date')\n",
    "    \n",
    "    return data_NEX_GDDP_CMIP6_EmplacementStation"
   ]
  },
  {
   "cell_type": "code",
   "execution_count": 8,
   "id": "7269f510",
   "metadata": {},
   "outputs": [],
   "source": [
    "def import_treat_modeled_NEX_GDDP_CMIP6(climate_var, unit,temporal_resolution,start_y,stop_y):\n",
    "    # import data\n",
    "    \n",
    "    path_NEX_GDDP_CMIP6=os.path.join(r'\\\\COWI.net\\projects\\A245000\\A248363\\CRVA\\Datasets\\NEX-GDDP-CMIP6-AllMoz\\csv_file',climate_var,climate_var+'_'+unit+'_'+temporal_resolution+'_'+str(start_y)+'-'+str(stop_y),climate_var+'_'+str(start_y)+'-'+str(stop_y)+'_projectsMoz.csv')\n",
    "    \n",
    "    data_NEX_GDDP_CMIP6 = pd.read_csv(path_NEX_GDDP_CMIP6)\n",
    "    \n",
    "    data_NEX_GDDP_CMIP6 = add_year_month_season(data_NEX_GDDP_CMIP6,'Date')\n",
    "    \n",
    "    return data_NEX_GDDP_CMIP6"
   ]
  },
  {
   "cell_type": "code",
   "execution_count": null,
   "id": "7bbf75eb",
   "metadata": {},
   "outputs": [],
   "source": []
  }
 ],
 "metadata": {
  "kernelspec": {
   "display_name": "Python 3 (ipykernel)",
   "language": "python",
   "name": "python3"
  },
  "language_info": {
   "codemirror_mode": {
    "name": "ipython",
    "version": 3
   },
   "file_extension": ".py",
   "mimetype": "text/x-python",
   "name": "python",
   "nbconvert_exporter": "python",
   "pygments_lexer": "ipython3",
   "version": "3.10.6"
  }
 },
 "nbformat": 4,
 "nbformat_minor": 5
}
