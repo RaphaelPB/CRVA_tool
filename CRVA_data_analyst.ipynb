{
 "cells": [
  {
   "cell_type": "markdown",
   "id": "c6fb3dd0",
   "metadata": {},
   "source": [
    "<a id='beginning_CRVA'></a>\n",
    "# Climate Risk and Vulnerability Analysis\n",
    "This notebook helps you download and visualize climate data to perform Climate Risk and Vulnerability analyses\n",
    "\n",
    "## Usage\n",
    "this is how to use this script\n",
    "\n",
    "1. [Define user input](#user_input)\n",
    "2. [Run wanted climate variables](#climate_variables)\n",
    "    1. [Atmosphere's climate variables](#atmosphere_climate_variables)\n",
    "    2. [Land climate's variables](#land_climate_variables)\n",
    "    3. [Hydrosphere's climate variables](#hydrosphere_climate_variables)\n",
    "    4. [Second effect's climate variables](#second_effect_climate_variables)\n",
    "3. [Export data](#Export)\n",
    "\n",
    "## Input data\n",
    "\n",
    "* [Shapefile with project location(s) as points or polygon](#load_shapefile)\n",
    "* List of variables\n",
    "* List of SSP's\n",
    "* List of time horizons\n",
    "\n",
    "## [Climate variables](#climate_variables)\n",
    "### [Atmosphere's climate variables](#atmosphere_climate_variables)\n",
    "* [Precipitation](#worldbank)\n",
    "* [Temperature](#worldbank)\n",
    "* [Wind](#wind)\n",
    "* [Humidity](#humidity)\n",
    "* [Solar radiation](#solar_radiation)\n",
    "* Air quality deterioration\n",
    "### [Land's climate variables](#land_climate_variables)\n",
    "* [Landslides](#landslides)\n",
    "* Coastal erosion\n",
    "* Soil erosion\n",
    "* Soil salinity\n",
    "### [Hydrosphere's climate variables](#hydrosphere_climate_variables)\n",
    "* [Relative sea level rise](#relative_sea_level_rise)\n",
    "* [Seawater temperature](#sea_water_temperature)\n",
    "* [Water availability](#water_availability)\n",
    "* floods (fluvial)\n",
    "* floods (coastal)\n",
    "* forest fires\n",
    "### [Second effects of climate variables](#second_effect_climate_variables)\n",
    "* Storms\n",
    "* Dust storms\n",
    "* Wildfire\n",
    "* Urban heat island\n",
    "* Growinf season length\n",
    "* [cyclone risk](#cyclone_risk)\n",
    "\n",
    "\n",
    "\n",
    "* earthquakes (not climate related)\n",
    "\n",
    "## Climate impacts\n",
    "* calculate impact on yields\n",
    "\n",
    "## [Climate change information concerning the projects in the study area](#climate_change_info_for_each_project_in_study_area)\n",
    "\n",
    "\n",
    "## Contact\n",
    "\n",
    "rapy@cowi.com\n"
   ]
  },
  {
   "cell_type": "markdown",
   "id": "93fe4ed9",
   "metadata": {},
   "source": [
    "<a id='user_input'></a>\n",
    "## User inputs\n",
    "\n",
    "[Home](#beginning_CRVA)"
   ]
  },
  {
   "cell_type": "code",
   "execution_count": null,
   "id": "51f07a6b",
   "metadata": {},
   "outputs": [],
   "source": [
    "#User inputs\n",
    "import os.path\n",
    "\n",
    "\n",
    "#project locations (shapefile with location of elements to evaluate)\n",
    "data_folder=r'\\\\COWI.net\\projects\\A245000\\A248363\\CRVA\\Datasets'\n",
    "#data_folder=os.path.join(os.pardir,'dataset')\n",
    "project_location_path=os.path.join(data_folder,'Mozambique_PPIS/EIB_locations_few.shp')\n",
    "project_id='Name' #name of column used as id\n",
    "\n",
    "#study boundary (optional)\n",
    "study_area_path=os.path.join(data_folder,'Mozambique_PPIS/mozambique.shp')\n",
    "\n",
    "#output folder\n",
    "#out_path=r'\\\\COWI.net\\projects\\A245000\\A248363\\CRVA\\Scripts\\outputs'\n",
    "out_path=r'C:\\Users\\CLMRX\\OneDrive - COWI\\Documents\\GitHub\\CRVA_tool\\outputs'\n",
    "\n",
    "#projection CRS (default = 'EPSG:4326')\n",
    "bCRS='EPSG:4326'\n",
    "\n",
    "#buffer for climate/grid variables\n",
    "buffer=40000 #buffer in meters, 0 = no buffer is computed\n",
    "\n",
    "mCRS='EPSG:31983' #metric CRS for buffer in meters (find relevant metric CRS for location!)\n",
    "\n",
    "\n",
    "#### Year of study\n",
    "#IDEA IS TO GIVE POSSIBILITY FOR THE USER TO CHOOSE DEPENDING on PROJECT (could choose on year or a period but precise period make more sense)\n",
    "#SET by default for the moment\n",
    "\n",
    "first_year = 2025 # start year included\n",
    "last_year = 2026 # last year included\n",
    "\n",
    "\n",
    "# For data coming from copernicus, historical data are commonly 1850-2005"
   ]
  },
  {
   "cell_type": "markdown",
   "id": "f62ceae0",
   "metadata": {},
   "source": [
    "## Import python packages"
   ]
  },
  {
   "cell_type": "code",
   "execution_count": null,
   "id": "2fd37531",
   "metadata": {},
   "outputs": [],
   "source": [
    "#Import python packages\n",
    "from rasterstats import zonal_stats\n",
    "import pandas as pd\n",
    "import geopandas as gpd\n",
    "import rasterio\n",
    "from rasterio.plot import show\n",
    "import rioxarray #used when calling ncdata.rio.write_crs\n",
    "import xarray as xr\n",
    "import os\n",
    "import os.path\n",
    "import matplotlib.pyplot as plt\n",
    "import netCDF4 as nc#not directly used but needs to be imported for some nc4 files manipulations, use for nc files\n",
    "from netCDF4 import Dataset\n",
    "import csv #REMOVE ? not in use ?\n",
    "import numpy as np\n",
    "import numpy.ma as ma\n",
    "from mpl_toolkits.basemap import Basemap\n",
    "import shutil # to move folders\n",
    "import warnings\n",
    "warnings.filterwarnings('ignore') # to ignore the warnings\n",
    "#import numpy as np\n",
    "#import io\n",
    "import cdsapi # for copernicus function\n",
    "import datetime # to have actual date\n",
    "from osgeo import gdal, ogr, osr # in order to convert shp in raster\n",
    "\n",
    "# import functions and class defined in another file named FunctionsAndClass\n",
    "## Functions\n",
    "from FunctionsAndClass import copernicus_data\n",
    "from FunctionsAndClass import year_copernicus\n",
    "from FunctionsAndClass import date_copernicus\n",
    "from FunctionsAndClass import dataframe_csv_copernicus\n",
    "from FunctionsAndClass import Display_map\n",
    "from FunctionsAndClass import read_cckp_ncdata\n",
    "from FunctionsAndClass import get_cckp_file_name\n",
    "\n",
    "## Class\n",
    "from FunctionsAndClass import time\n",
    "from FunctionsAndClass import copernicus_elements\n",
    "from FunctionsAndClass import map_elements"
   ]
  },
  {
   "cell_type": "markdown",
   "id": "e907e131",
   "metadata": {},
   "source": [
    "<a id='load_shapefile'></a>\n",
    "## Load shapefiles and plot"
   ]
  },
  {
   "cell_type": "code",
   "execution_count": null,
   "id": "7213162f",
   "metadata": {},
   "outputs": [],
   "source": [
    "#load shapefiles\n",
    "projects = gpd.read_file(project_location_path).to_crs(bCRS)\n",
    "study_area = gpd.read_file(study_area_path).to_crs(bCRS)\n",
    "\n",
    "#calculate buffer around points/shape\n",
    "if buffer != 0:\n",
    "    projects_buf=projects.to_crs(mCRS)  #project to crs with metric units to get buffer in meters\n",
    "    projects_buf['geometry']=projects.to_crs(mCRS).buffer(buffer) #assign the buffer as the new geometry - \n",
    "    projects_buf=projects_buf.to_crs(bCRS)#project back to orginal crs\n",
    "\n",
    "    \n",
    "#plot shapefiles\n",
    "study_area.plot()\n",
    "projects.plot()\n",
    "projects_buf.plot() \n",
    "\n",
    "#show table\n",
    "projects[[project_id]]\n",
    "\n",
    "# register geographic information concerning projects\n",
    "lon_projects = projects['geometry'].x\n",
    "lat_projects = projects['geometry'].y\n",
    "area_projects = [lat_projects - 5, lat_projects+5, lon_projects-5,lon_projects+5] # list format\n",
    "\n",
    "#### determination of the geographical zone of interest \n",
    "lat_min_wanted = min(study_area['LAT'])-10\n",
    "lat_max_wanted = max(study_area['LAT'])+10\n",
    "lon_min_wanted = min(study_area['LON'])-20\n",
    "lon_max_wanted = max(study_area['LON'])+20\n",
    "# addind and substracting to lon and lat to have margin\n",
    "# substracting more to longitude because the range of longitude is -180 to 180. The range of latitude is -90 to 90\n",
    "\n",
    "area = [lat_min_wanted, lon_min_wanted, lat_max_wanted,lon_max_wanted,] # used to download from copernicus\n",
    "\n",
    "### YEAR\n",
    "year = np.arange(first_year,(last_year+1),1) # create vector of years\n",
    "year_str = [0]*len(year) # create initiale empty vector to convert years in int\n",
    "index = np.arange(0,len(year)) # create vector of index for year\n",
    "i = 0 # initialize index\n",
    "for i in index: # convert all the date in string format\n",
    "    year_str[i]=str(year[i])\n",
    "\n",
    "start_date = \"01-01-\"+year_str[0] # string start date based on start year\n",
    "stop_date = \"31-12-\"+year_str[len(year)-1] # string stop date based on stop year\n",
    "dates = pd.date_range(start_date,stop_date) # vector of dates between start date and stop date\n",
    "index_dates = np.arange(0,len(dates)) # vector containning index o dates vector"
   ]
  },
  {
   "cell_type": "markdown",
   "id": "a84709b2",
   "metadata": {},
   "source": [
    "<a id='climate_variables'></a>\n",
    "# Climate variables\n",
    "\n",
    "[Home](#beginning_CRVA)"
   ]
  },
  {
   "cell_type": "markdown",
   "id": "fded3e5a",
   "metadata": {},
   "source": [
    "<a id='atmosphere_climate_variables'></a>\n",
    "# ATMOSPHERE\n",
    "\n",
    "[Home](#beginning_CRVA)"
   ]
  },
  {
   "cell_type": "markdown",
   "id": "5df87640",
   "metadata": {},
   "source": [
    "<a id='worldbank'></a>\n",
    "## World Bank Climate knowledge portal, Precipitation and Temperature - Atmosphere\n",
    "data source: https://climateknowledgeportal.worldbank.org/download-data\n",
    "\n",
    "List of different variables:\n",
    "\n",
    "### Precipitation \n",
    "* return period of current 50 and 100 year event\n",
    "* yearly average precipitation\n",
    "* seasonal average precipitation - OR MONTH? i word documnet: average dry season precipitation \n",
    "* maximum precipitation in one day - NOT REALLY, instead \"Average of the largest daily precipitation amount\" rx1day \n",
    "* maximum precipitation in five days - NOT REALLY, instead \"Average of the largest 5-day consecutive precipitation amount\".\n",
    "* FORSLAG: Could also include: precipitation amount from very wet days/ days >50mm. eg. \n",
    "\n",
    "### Temperature\n",
    "* Yearly mean temperature (average) - tas \n",
    "* Number of hot days >40 degrees C (average)\n",
    "* Number of hot days >35 degrees C (average) \n",
    "* Maximum of daily max-temperature (per year) -txx\n",
    "* Average of maximum temperature (daily??) - tasmax \n",
    "\n",
    "### How to use\n",
    "define \n",
    "\n",
    "`variables = {variablename1:{'periods':['2020-2039'],'ssps':['ssp245','ssp370'],'gcms':['median','p10','p90']}, variablename2:...}`\n",
    "\n",
    "where variablename corresponds to a variable name in the cckp, periods include the desired periods, ssps the desired ssp-rcp scenarios, and gcms can be either median, p10, or p90 (50%, 10%, and 90% percentile of ensemble models)."
   ]
  },
  {
   "cell_type": "code",
   "execution_count": null,
   "id": "d8b0eada",
   "metadata": {},
   "outputs": [],
   "source": [
    "#Read downloaded precipitation and temperature data\n",
    "#settings\n",
    "\n",
    "variables= {\n",
    "    #Temperature\n",
    "        #era/cru\n",
    "            #'climatology-hd35-annual-mean_era':{'periods':['1991-2020']},\n",
    "            'climatology-hd40-annual-mean_era':{'periods':['1991-2020']},\n",
    "            'climatology-tasmax-annual-mean_era':{'periods':['1991-2020']}, \n",
    "            'climatology-tas-annual-mean_era':{'periods':['1991-2020']},\n",
    "            'climatology-tasmax-annual-mean_cru':{'periods':['1991-2020']}, \n",
    "        #realtime\n",
    "            'climatology-hd40':{'periods':['2020-2039'],'ssps':['ssp245','ssp370'],'gcms':['median','p10','p90']},\n",
    "            'anomaly-hd40':{'periods':['2020-2039'],'ssps':['ssp245','ssp370'],'gcms':['median']},\n",
    "            #'anomaly-hd35':{'periods':['2020-2039'],'ssps':['ssp245','ssp370'],'gcms':['median','p10','p90']},\n",
    "            #'anomaly-tasmax':{'periods':['2020-2039','2040-2059'],'ssps':['ssp245','ssp370'],'gcms':['median','p10','p90']}, \n",
    "            'anomaly-txx':{'periods':['2020-2039','2040-2059'],'ssps':['ssp245','ssp370'],'gcms':['median','p10','p90']}, #txx=maximum of daily max temperature\n",
    "            'climatology-txx':{'periods':['2020-2039','2040-2059'],'ssps':['ssp245','ssp370'],'gcms':['median','p10','p90']},\n",
    "            'anomaly-tas':{'periods':['2020-2039'],'ssps':['ssp245','ssp370'],'gcms':['median','p10','p90']},\n",
    "            'climatology-tas':{'periods':['2020-2039','2040-2059'],'ssps':['ssp245','ssp370'],'gcms':['median','p10','p90']}, #data not downloaded \n",
    "    #Precipitation\n",
    "       #era/cru\n",
    "            #'climatology-r50mm-annual-mean_era_annual':{'periods':['1991-2020']},\n",
    "            'climatology-rx1day-monthly-mean_era_monthly':{'periods':['1991-2020']},\n",
    "            'climatology-rx1day-annual-mean_era_annual':{'periods':['1991-2020']},\n",
    "            'climatology-pr-annual-mean_era_annual':{'periods':['1991-2020']},\n",
    "            'climatology-pr-monthly-mean_era_monthly':{'periods':['1991-2020']},\n",
    "            'climatology-pr-annual-mean_cru':{'periods':['1991-2020']},\n",
    "        #realtime\n",
    "            'frp100yr-rx1day-period-mean_cmip6_period':{'periods':['2010-2039','2035-2064'],'ssps':['ssp245','ssp370'],'gcms':['median','p10','p90']}, \n",
    "            'frp50yr-rx1day-period-mean_cmip6_period':{'periods':['2010-2039'],'ssps':['ssp245','ssp370'],'gcms':['median','p10','p90']},\n",
    "            'climatology-rx5day-annual-mean_cmip6_annual':{'periods':['2020-2039','2040-2059'],'ssps':['ssp245','ssp370'],'gcms':['median','p10','p90']},\n",
    "            'climatology-rx1day-annual-mean_cmip6_annual':{'periods':['2020-2039','2040-2059'],'ssps':['ssp245','ssp370'],'gcms':['median','p10','p90']},\n",
    "            'climatology-pr-monthly-mean_cmip6_monthly':{'periods':['2020-2039','2040-2059'],'ssps':['ssp245','ssp370'],'gcms':['median','p10','p90']},\n",
    "            'climatology-pr-annual-mean_cmip6_annual':{'periods':['2020-2039','2040-2059'],'ssps':['ssp245','ssp370'],'gcms':['median','p10','p90']},\n",
    "            'climatology-pr-seasonal-mean_cmip6_seasonal':{'periods':['2020-2039','2040-2059'],'ssps':['ssp245','ssp370'],'gcms':['median','p10','p90']},\n",
    "            'changefactorfaep100yr-rx1day-period-mean_cmip6_period':{'periods':['2010-2039'],'ssps':['ssp245','ssp370'],'gcms':['median','p10','p90']},\n",
    "            #'anomaly-pr-monthly-mean_cmip6_monthly':{'periods':['2040-2059'],'ssps':['ssp245','ssp370'],'gcms':['median','p10','p90']}\n",
    "            }\n",
    "       ## 'timeseries-rx1day':{'periods':['2015-2100'],'ssps':['ssp245'],'gcms':['median']} # Den kan ikke læse den - brokker sig over Dimension time=0. \n",
    "       \n",
    "#Create multi index for cckp_output\n",
    "idx=pd.IndexSlice\n",
    "mindex=[]\n",
    "for var in variables.keys():\n",
    "    for period in variables[var]['periods']:\n",
    "        if period in ['1991-2020']:\n",
    "            mindex.append((var,period,None,None))\n",
    "        else:\n",
    "            for ssp in variables[var]['ssps']:\n",
    "                    for gcm in variables[var]['gcms']:\n",
    "                        mindex.append((var,period,ssp,gcm))\n",
    "mindex=pd.MultiIndex.from_tuples(mindex, names=['variable', 'period','ssp','gcm'])\n",
    "#cckp_output=pd.DataFrame(index=projects[project_id],columns=mindex)\n",
    "cckp_output=pd.DataFrame(index=mindex,columns=projects[project_id])\n",
    "\n",
    "#read data from cckp and spatial statistics\n",
    "for var in variables.keys():\n",
    "    for period in variables[var]['periods']:\n",
    "        if period in ['1991-2020']: # for era/cru data\n",
    "            varname='_'.join((var,period))\n",
    "            data_path=get_cckp_file_name(var,period=period)\n",
    "            if os.path.exists(data_path):\n",
    "                data=read_cckp_ncdata(data_path)\n",
    "                stats=pd.DataFrame(zonal_stats(vectors=projects_buf, raster=data,all_touched=True, stats='mean'))\n",
    "                projects[varname]=stats\n",
    "                #cckp_output.loc[:,idx[var,period,:,:]]=stats.values\n",
    "                cckp_output.loc[idx[var,period,:,:],:]=stats.T.values\n",
    "            else:\n",
    "                print(data_path,\"not found\")\n",
    "                projects[varname]='not found'\n",
    "        elif period not in ['1991-2020']: #for realtime data \n",
    "                for ssp in variables[var]['ssps']:\n",
    "                    for gcm in variables[var]['gcms']:\n",
    "                        varname='_'.join((var,period,ssp,gcm))\n",
    "                        data_path=get_cckp_file_name(var,ssp=ssp,period=period,gcm=gcm)\n",
    "                        if os.path.exists(data_path):\n",
    "                            data=read_cckp_ncdata(data_path)\n",
    "                            stats=pd.DataFrame(zonal_stats(vectors=projects_buf, raster=data,all_touched=True, stats='mean'))\n",
    "                            projects[varname]=stats\n",
    "                            #cckp_output.loc[:,idx[var,period,ssp,gcm]]=stats.values\n",
    "                            cckp_output.loc[idx[var,period,ssp,gcm],:]=stats.T.values\n",
    "                        else:\n",
    "                            print(data_path,\"not found\")\n",
    "                            projects[varname]='not found'\n",
    "                           \n",
    "\n",
    "#plot, show #ADD enlarge the clip + something wierd with nodata value\n",
    "cckp_output.to_csv('outputs/csv/cckp_output.csv')\n",
    "projects[[project_id,varname]].head()\n",
    "\n",
    "fig, ax = plt.subplots()\n",
    "precip = rioxarray.open_rasterio(data)\n",
    "precip_clip = precip.rio.clip(study_area.geometry, study_area.crs, drop=True)\n",
    "precip_clip.plot(ax=ax)\n",
    "projects.plot(ax=ax)\n",
    "\n",
    "#close\n",
    "precip.close()"
   ]
  },
  {
   "cell_type": "markdown",
   "id": "2a84cafc",
   "metadata": {},
   "source": [
    "<a id='wind'></a>\n",
    "## Wind Speed\n",
    "\n",
    "Daily wind speed, historical and projected.\n",
    "\n",
    "Data source : https://cds.climate.copernicus.eu/cdsapp#!/dataset/projections-cmip6?tab=form"
   ]
  },
  {
   "cell_type": "code",
   "execution_count": null,
   "id": "65af01ca",
   "metadata": {},
   "outputs": [],
   "source": [
    "### Extraction of Near-surface wind speed data\n",
    "global_variable = 'Wind'\n",
    "name_variable = 'near_surface_wind_speed'"
   ]
  },
  {
   "cell_type": "markdown",
   "id": "df282104",
   "metadata": {},
   "source": [
    "#### Historical data for wind speed"
   ]
  },
  {
   "cell_type": "code",
   "execution_count": null,
   "id": "bc673a78",
   "metadata": {},
   "outputs": [],
   "source": [
    "(year_historical, year_str_historical, index_historical)=year_copernicus(1950,2014)\n",
    "temporal_resolution = 'daily'\n",
    "# Register data from copernicus for humidity in a dataframe and production of a csv file for the period indicated above\n",
    "(Wind_historical,period_historical) = dataframe_csv_copernicus(temporal_resolution,year_str_historical,copernicus_elements.experiments_historical,copernicus_elements.models,out_path, name_variable,'sfcWind',area)    "
   ]
  },
  {
   "cell_type": "markdown",
   "id": "2ac960da",
   "metadata": {},
   "source": [
    "#### Projection data for wind speed"
   ]
  },
  {
   "cell_type": "code",
   "execution_count": null,
   "id": "e7b914dc",
   "metadata": {
    "scrolled": false
   },
   "outputs": [],
   "source": [
    "(year, year_str, index)=year_copernicus(2098,2099)\n",
    "temporal_resolution = 'daily'\n",
    "\n",
    "(df,period) = dataframe_csv_copernicus(temporal_resolution,year_str,copernicus_elements.experiments,copernicus_elements.models,out_path,global_variable, name_variable,'sfcWind',projects.Name[0],[area_projects[0][0],area_projects[1][0],area_projects[2][0],area_projects[3][0]])\n",
    "\n",
    "\n",
    "# Register data from copernicus for humidity in a dataframe and production of a csv file for the period indicated above\n",
    "#k=0\n",
    "\n",
    "#Temp=[]\n",
    "#for name_projects in projects['Name']:\n",
    "#    (df,period) = dataframe_csv_copernicus(temporal_resolution,year_str,copernicus_elements.experiments,copernicus_elements.models,out_path,global_variable, name_variable,'sfcWind',name_projects,[area_projects[0][k],area_projects[1][k],area_projects[2][k],area_projects[3][k]])\n",
    "#    Temp.append(df)\n",
    "#    k+=1\n",
    "# last parameter is the area of one project, elements are fisrt col (min lat = 0, max lat = 1, min lon = 0, max lon = 1), then line (each ligne is coordinates for a project)"
   ]
  },
  {
   "cell_type": "code",
   "execution_count": null,
   "id": "956ecc34",
   "metadata": {},
   "outputs": [],
   "source": [
    "df"
   ]
  },
  {
   "cell_type": "code",
   "execution_count": null,
   "id": "2b786dba",
   "metadata": {},
   "outputs": [],
   "source": [
    "### BOXPLOTS\n",
    "\n",
    "\n",
    "df_reordered2 = df.reorder_levels(['Experiment', 'Model', 'Latitude', 'Date']) # reordering to ...\n",
    "df_reordered2_mean=df_reordered2.groupby(level=[0,1,2],axis=0,group_keys=True).mean()\n",
    "numpy_array = df_reordered2_mean.loc['ssp1_2_6','access_cm2'].values\n",
    "numpy_array=numpy_array.flatten() # make the array a vector to use it in boxplot function\n",
    "numpy_array1 = numpy_array[~np.isnan(numpy_array)]\n",
    "\n",
    "numpy_array = df_reordered2_mean.loc['ssp1_2_6','awi_cm_1_1_mr'].values\n",
    "numpy_array=numpy_array.flatten() # make the array a vector to use it in boxplot function\n",
    "numpy_array2 = numpy_array[~np.isnan(numpy_array)]\n",
    "\n",
    "numpy_array = df_reordered2_mean.loc['ssp1_2_6','bcc_csm2_mr'].values\n",
    "numpy_array=numpy_array.flatten() # make the array a vector to use it in boxplot function\n",
    "numpy_array3 = numpy_array[~np.isnan(numpy_array)]\n",
    "# boxplot do not deal with NaN, have to take them out\n",
    "dict_boxplot = plt.boxplot([numpy_array1,numpy_array2,numpy_array3],notch=True, whis =(10,90),widths = 0.15, patch_artist=True,labels=('access_cm2','awi_cm_1_1_mr','bcc_csm2_mr'))#,labels = 'access_cm2')# ... present boxplot over the period for each models\n",
    "# this functions returns varius parameters of the boxplot in the dict_boxplot. This funcitons also returns an image of it\n",
    "# here, numpy_array is a vector. But can also include array with several columns. Each columns will have a boxplot\n",
    "# 'notch' is true to enhance part where the median is\n",
    "# 'whis' is the percentile value for the whiskers, every data out of the range indicted by those 2 floats are represented as points\n",
    "# 'widths' determine width of the boxes\n",
    "# 'patch_artist' colors the boxplots\n",
    "# 'labels' gives a name to every column included in the data part\n",
    "str = 'Distribution of the average daily wind speed for different models \\nfor the year '+period+' and under scenario ssp1_2_6'\n",
    "title_png = 'Boxplot_models_ssp1_2_6'\n",
    "plt.title(str)\n",
    "plt.xlabel('Models')\n",
    "plt.ylabel('Average wind speed m/s')\n",
    "plt.savefig(os.path.join(out_path,'figures','Boxplots',title_png),format ='png') # savefig or save text must be before plt.show. for savefig, format should be explicity written\n",
    "plt.show()"
   ]
  },
  {
   "cell_type": "code",
   "execution_count": null,
   "id": "246da20e",
   "metadata": {},
   "outputs": [],
   "source": [
    "#### BOXPLOTS\n",
    "\n",
    "\n",
    "df_reordered3 = df.reorder_levels(['Experiment', 'Model', 'Latitude', 'Date']) # reordering to ...\n",
    "df_reordered3_mean=df_reordered3.groupby(level=[0,1,2],axis=0,group_keys=True).mean()\n",
    "numpy_array = df_reordered3_mean.loc['ssp1_2_6'].values\n",
    "numpy_array=numpy_array.flatten() # make the array a vector to use it in boxplot function\n",
    "numpy_array4 = numpy_array[~np.isnan(numpy_array)]\n",
    "# boxplot do not deal with NaN, have to take them out\n",
    "dict_boxplot = plt.boxplot(numpy_array4,notch=True, whis =(10,90),widths = 0.15, patch_artist=True,labels=('ssp1_2_6',))# ... present boxplot over the period for each models\n",
    "# this functions returns varius parameters of the boxplot in the dict_boxplot. This funcitons also returns an image of it\n",
    "# here, numpy_array is a vector. But can also include array with several columns. Each columns will have a boxplot\n",
    "# 'notch' is true to enhance part where the median is\n",
    "# 'whis' is the percentile value for the whiskers, every data out of the range indicted by those 2 floats are represented as points\n",
    "# 'widths' determine width of the boxes\n",
    "# 'patch_artist' colors the boxplots\n",
    "# 'labels' gives a name to every column included in the data part\n",
    "str = 'Distribution of the average daily wind speed accross models\\nfor the year 2099-2100 and under scenario ssp1_2_6'\n",
    "title_png = 'Boxplot_ssp1_2_6'\n",
    "plt.title(str)\n",
    "plt.xlabel('Models')\n",
    "plt.ylabel('Average wind speed m/s')\n",
    "plt.savefig(os.path.join(out_path,'figures','Boxplots',title_png),format ='png') # savefig or save text must be before plt.show. for savefig, format should be explicity written\n",
    "plt.show()"
   ]
  },
  {
   "cell_type": "markdown",
   "id": "b7b74e8a",
   "metadata": {},
   "source": [
    "<a id='humidity'></a>\n",
    "## Humidity\n",
    "\n",
    "Source : https://cds.climate.copernicus.eu/cdsapp#!/dataset/projections-cmip6?tab=form\n",
    "\n",
    "### Relative humidity\n",
    "\n",
    "Relative humidity of air: amount if moisture it contains compared to the maximum amount of moisture it can have at a specific temperature\n",
    "\n",
    "### Extraction of Relative humidity data"
   ]
  },
  {
   "cell_type": "code",
   "execution_count": null,
   "id": "0442d22b",
   "metadata": {},
   "outputs": [],
   "source": [
    "global_variable = 'Relative_Humidity'\n",
    "name_variable = 'near_surface_relative_humidity' # only available on a monthly basis"
   ]
  },
  {
   "cell_type": "markdown",
   "id": "0844c1b4",
   "metadata": {},
   "source": [
    "#### Historical data"
   ]
  },
  {
   "cell_type": "code",
   "execution_count": null,
   "id": "ecbd47e6",
   "metadata": {},
   "outputs": [],
   "source": [
    "(year_historical, year_str_historical, index_historical) = year_copernicus(1850,2014)\n",
    "temporal_resolution = 'monthly'\n",
    "\n",
    "# Register data from copernicus for humidity in a dataframe and production of a csv file for the period indicated above\n",
    "Humidity_historical = dataframe_csv_copernicus(temporal_resolution,year_str_historical,copernicus_elements.experiments_historical,copernicus_elements.models,out_path,global_variable, name_variable,area)    "
   ]
  },
  {
   "cell_type": "markdown",
   "id": "cadf53af",
   "metadata": {},
   "source": [
    "#### Projections"
   ]
  },
  {
   "cell_type": "code",
   "execution_count": null,
   "id": "81a6062f",
   "metadata": {},
   "outputs": [],
   "source": [
    "(year, year_str, index) = year_copernicus(2020,2100)\n",
    "temporal_resolution = 'monthly'\n",
    "\n",
    "# Register data from copernicus for humidity in a dataframe and production of a csv file for the period indicated above\n",
    "Humidity = dataframe_csv_copernicus(temporal_resolution,year_str,copernicus_elements.experiments,copernicus_elements.models,out_path,global_variable, name_variable,area)    "
   ]
  },
  {
   "cell_type": "markdown",
   "id": "5190f3f0",
   "metadata": {},
   "source": [
    "<a id='solar_radiation'></a>\n",
    "## Solar radiation"
   ]
  },
  {
   "cell_type": "code",
   "execution_count": null,
   "id": "85fd4321",
   "metadata": {},
   "outputs": [],
   "source": [
    "global_variable = 'Solar_radiation'\n",
    "# choose of the climate variable from copernicus to represent : choose of surface_downwelling_shortwave_radiation because\n",
    "# 1. interest for project located at the surface of the Earth\n",
    "# 2. for most project (for example solar panels), we are interest in radiation going down, not up\n",
    "# 3. Shortwave radiation are the ones produce by the sun\n",
    "name_variable = 'surface_downwelling_shortwave_radiation' # only available on a monthly basis"
   ]
  },
  {
   "cell_type": "markdown",
   "id": "b0a4ed45",
   "metadata": {},
   "source": [
    "#### Historical data for solar radiation"
   ]
  },
  {
   "cell_type": "code",
   "execution_count": null,
   "id": "480c7b0d",
   "metadata": {},
   "outputs": [],
   "source": [
    "(year_historical, year_str_historical, index_historical)=year_copernicus(1850,2016)\n",
    "temporal_resolution = 'monthly'\n",
    "# Register data from copernicus for humidity in a dataframe and production of a csv file for the period indicated above\n",
    "Solar_radiation_historical = dataframe_csv_copernicus(temporal_resolution,year_str_historical,copernicus_elements.experiments_historical,copernicus_elements.models,out_path,global_variable, name_variable,area)    "
   ]
  },
  {
   "cell_type": "markdown",
   "id": "b8a5e939",
   "metadata": {},
   "source": [
    "#### Projection for data solar radiation"
   ]
  },
  {
   "cell_type": "code",
   "execution_count": null,
   "id": "db6d7c5b",
   "metadata": {},
   "outputs": [],
   "source": [
    "(year, year_str, index)=year_copernicus(2020,2100)\n",
    "temporal_resolution = 'monthly'\n",
    "# Register data from copernicus for humidity in a dataframe and production of a csv file for the period indicated above\n",
    "Solar_radiation = dataframe_csv_copernicus(temporal_resolution,year_str,copernicus_elements.experiments,copernicus_elements.models,out_path,global_variable, name_variable,area)    "
   ]
  },
  {
   "cell_type": "markdown",
   "id": "788310cb",
   "metadata": {},
   "source": [
    "<a id='land_climate_variables'></a>\n",
    "# LAND\n",
    "\n",
    "[Home](#beginning_CRVA)"
   ]
  },
  {
   "cell_type": "markdown",
   "id": "338692f1",
   "metadata": {},
   "source": [
    "<a id='landslides'></a>\n",
    "## Landslides - Land\n",
    "\n",
    "source: https://datacatalog.worldbank.org/search/dataset/0037584 (Global Landslide Hazard Map, The World Bank)\n",
    "\n",
    "### Description of LS_TH : \n",
    "The Global Landslide Hazard Map presents a qualitative representation of global landslide hazard at a global scale. It is the combination of the The Global Landslide Hazard Map: Median Annual Rainfall-Triggered Landslide Hazard (1980-2018) and The Global Landslide Hazard Map: Earthquake-Triggered Landslide Hazard which has then been simplified to four rank categories, ranging from Very low to High landslide hazard, based on the existing system used by ThinkHazard! (www.thinkhazard.org)\n",
    "\n",
    "### Description of LS_RF_Median_1980-2018 :\n",
    "The Global Rainfall-Triggered Landslide Hazard Map presents a quantitative representation of landslide hazard. This component is the median annual rainfall-triggered landslide hazard assessment for the period 1980 – 2018. Raster values represent the modelled average annual frequency of significant rainfall-triggered landslides per sq. km."
   ]
  },
  {
   "cell_type": "code",
   "execution_count": null,
   "id": "1e1bd3c3",
   "metadata": {},
   "outputs": [],
   "source": [
    "\n",
    "#Landslides data path\n",
    "landslidesTH_path=os.path.join(data_folder,'landslides/wb_GlLandslHazard/ls_th/LS_TH.tif') ## Global landslide hazard map (TH ranks --> Think hazard ranks)\n",
    "landslidesRF_path=os.path.join(data_folder,'landslides/wb_GlLandslHazard/ls_rf_median_1980-2018/LS_RF_Median_1980-2018.tif')\n",
    "\n",
    "#spatial stats\n",
    "projects['landslides_THmax']=pd.DataFrame(zonal_stats(vectors=projects_buf, raster=landslidesTH_path, \n",
    "                                                            all_touched=True, stats='max'))\n",
    "projects['landslidesRF_medianMax']=pd.DataFrame(zonal_stats(vectors=projects_buf, raster=landslidesRF_path, \n",
    "                                                            all_touched=True, stats='max'))\n",
    "#show table\n",
    "projects[[project_id,'landslides_THmax','landslidesRF_medianMax']].head()\n",
    "\n",
    "#plot landslides TH\n",
    "fig, ax = plt.subplots()\n",
    "landslides = rioxarray.open_rasterio(landslidesTH_path)\n",
    "landslides_clip = landslides.rio.clip(study_area.geometry, study_area.crs, drop=True)\n",
    "landslides_clip.plot(ax=ax, cmap='Reds',vmin=1, vmax=4)\n",
    "points=projects.plot(ax=ax,cmap='Greys') # what are those points ????\n",
    "\n",
    "#close\n",
    "landslides.close()\n",
    "landslides_clip.close()\n",
    "\n",
    "# didn't achieved to present the RF datas\n",
    "#plot landslides RF\n",
    "#fig, ax = plt.subplots()\n",
    "#landslides = rioxarray.open_rasterio(landslidesRF_path)\n",
    "#landslides_clip = landslides.rio.clip(study_area.geometry, study_area.crs, drop=True)\n",
    "#landslides_clip.plot(ax=ax, cmap='Reds',vmin=1, vmax=4)\n",
    "#points=projects.plot(ax=ax,cmap='Greys') # what are those points ????\n",
    "#landslides.close()"
   ]
  },
  {
   "cell_type": "markdown",
   "id": "7b840dac",
   "metadata": {},
   "source": [
    "## Global wildfire hazard - Land\n",
    "\n",
    "This jupyter notebook is to study the global wildfire hazard\n",
    "\n",
    "Source : https://datacatalog.worldbank.org/search/dataset/0042058/Global-wildfire-hazard\n",
    "\n",
    "Description of the source : The approach to classify wildfire hazard levels used is based solely on fire weather index climatology. Fire weather indices are used in many countries to assess both the onset of conditions that will allow fires to spread, as well as the likelihood of fire at any point in the landscape. The method presented uses statistical modelling (extreme value analysis) of a 30 year fire weather climatology to assess the predicted fire weather intensity for specific return period intervals. These intensities are classified based on thresholds using conventions to provide hazard classes that correspond to conditions that can support problematic fire spread in the landscape if an ignition and sufficient fuel were to be present.\n",
    "\n",
    "Date of export : 23.03.23\n",
    "\n",
    "Projection FWI for europe : https://cds.climate.copernicus.eu/cdsapp#!/dataset/sis-tourism-fire-danger-indicators?tab=overview\n",
    "\n",
    "Projection seasonal severity rating of for EUrope : https://www.eea.europa.eu/data-and-maps/figures/projected-meteorological-forest-fire-danger\n",
    "\n",
    "Calculation of the FWI : https://cwfis.cfs.nrcan.gc.ca/background/summary/fwi\n",
    "\n",
    "GLOBAL PROJeTIONS NOT FOUND\n"
   ]
  },
  {
   "cell_type": "markdown",
   "id": "91c1bf95",
   "metadata": {},
   "source": [
    "## Soil erosion - Land\n",
    "\n",
    "Source for global actual situations : https://data.jrc.ec.europa.eu/dataset/jrc-esdac-120"
   ]
  },
  {
   "cell_type": "markdown",
   "id": "c064cf21",
   "metadata": {},
   "source": [
    "<a id='hydrosphere_climate_variables'></a>\n",
    "# HYDROSPHERE\n",
    "\n",
    "[Home](#beginning_CRVA)"
   ]
  },
  {
   "cell_type": "markdown",
   "id": "db1a31ad",
   "metadata": {},
   "source": [
    "<a id='relative_sea_level_rise'></a>\n",
    "## Relative sea level rise"
   ]
  },
  {
   "cell_type": "code",
   "execution_count": null,
   "id": "ae5e6708",
   "metadata": {},
   "outputs": [],
   "source": [
    "## use copernicus or NASA data ? NASA data are in COWI servor \\\\COWI.net\\projects\\A245000\\A248363\\CRVA\\Datasets\\SeaLevelRise\\Nasa\n",
    "# use mean sea level > https://cds.climate.copernicus.eu/cdsapp#!/dataset/sis-water-level-change-indicators-cmip6?tab=overview"
   ]
  },
  {
   "cell_type": "markdown",
   "id": "68ac7c48",
   "metadata": {},
   "source": [
    "<a id='sea_water_temperature'></a>\n",
    "## Sea water temperature"
   ]
  },
  {
   "cell_type": "code",
   "execution_count": null,
   "id": "992b5f1c",
   "metadata": {},
   "outputs": [],
   "source": [
    "global_variable = 'Sea_water_temperature'\n",
    "name_variable = 'sea_surface_temperature' # only estimate for the surface in the copernicus CMIP6"
   ]
  },
  {
   "cell_type": "markdown",
   "id": "91c53183",
   "metadata": {},
   "source": [
    "#### Historical data"
   ]
  },
  {
   "cell_type": "code",
   "execution_count": null,
   "id": "7ca3cac1",
   "metadata": {},
   "outputs": [],
   "source": [
    "(year_historical, year_str_historical, index_historical)=year_copernicus(1850,2014)\n",
    "temporal_resolution = 'monthly'\n",
    "# Register data from copernicus for humidity in a dataframe and production of a csv file for the period indicated above\n",
    "Sea_water_temperature_historical = dataframe_csv_copernicus(temporal_resolution,year_str_historical,copernicus_elements.experiments_historical,copernicus_elements.models,out_path,global_variable, name_variable,area)    "
   ]
  },
  {
   "cell_type": "markdown",
   "id": "d8909323",
   "metadata": {},
   "source": [
    "#### Projection data"
   ]
  },
  {
   "cell_type": "code",
   "execution_count": null,
   "id": "2d135b21",
   "metadata": {},
   "outputs": [],
   "source": [
    "(year, year_str, index)=year_copernicus(2020,2100)\n",
    "temporal_resolution = 'monthly'\n",
    "# Register data from copernicus for humidity in a dataframe and production of a csv file for the period indicated above\n",
    "Sea_water_temperature = dataframe_csv_copernicus(temporal_resolution,year_str,copernicus_elements.experiments,copernicus_elements.models,out_path,global_variable, name_variable,area)    "
   ]
  },
  {
   "cell_type": "markdown",
   "id": "534cc101",
   "metadata": {},
   "source": [
    "<a id='water_availability'></a>\n",
    "### Water availability\n",
    "Represented with water stress\n",
    "\n",
    "Did not find historical data, look into world bank\n",
    "\n",
    "Source for projections from 2020 to 2050 : https://www.wri.org/data/aqueduct-water-stress-projections-data\n",
    "Informations about how the shp is designed located here : data_folder, Water_Availability_WaterStress\\aqueduct_projections_20150309_shp\\aqueduct_projections_schematic_20140615 (excel sheet)"
   ]
  },
  {
   "cell_type": "code",
   "execution_count": null,
   "id": "723dea81",
   "metadata": {},
   "outputs": [],
   "source": [
    "## Projection of water stress\n",
    "\n",
    "# register path to water stress data\n",
    "water_stress_location_path=os.path.join(data_folder,'Water_Availability_WaterStress/aqueduct_projections_20150309_shp/aqueduct_projections_20150309.shp')\n",
    "# register data in default projection 4326\n",
    "water_indicators = gpd.read_file(water_stress_location_path).to_crs(bCRS) # uncertain that projeciton is the default one\n",
    "# filter columns of dataframe that are not water stress related\n",
    "water_indicators1=water_indicators.drop(water_indicators.filter(regex='sv').columns, axis=1)\n",
    "water_indicators2=water_indicators1.drop(water_indicators1.filter(regex='ut').columns, axis=1)\n",
    "water_stress=water_indicators2.drop(water_indicators2.filter(regex='bt').columns, axis=1)\n",
    "\n",
    "years_ws = [30,40]\n",
    "scenario_ws= [24,28,38]\n",
    "# register information of water stress for each project\n",
    "#projects['landslides_THmax']=pd.DataFrame(zonal_stats(vectors=projects_buf, raster=landslidesTH_path, \n",
    "#                                                            all_touched=True, stats='max'))"
   ]
  },
  {
   "cell_type": "code",
   "execution_count": null,
   "id": "554f1d55",
   "metadata": {},
   "outputs": [],
   "source": [
    "water_indicators"
   ]
  },
  {
   "cell_type": "code",
   "execution_count": null,
   "id": "9374bc8c",
   "metadata": {},
   "outputs": [],
   "source": [
    "######### convert shp in raster tif #########\n",
    "input_shp = ogr.Open(water_stress_location_path)\n",
    "source_layer = input_shp.GetLayer()\n",
    "defn =source_layer.GetLayerDefn()\n",
    "column_names = []\n",
    "for n in range(defn.GetFieldCount()):\n",
    "    fdefn = defn. GetFieldDefn(n)\n",
    "    column_names.append(fdefn.name)\n",
    "len(column_names) # gives the list of columns names"
   ]
  },
  {
   "cell_type": "code",
   "execution_count": null,
   "id": "0b44bf6c",
   "metadata": {},
   "outputs": [],
   "source": [
    "#output_raster_location = 'outputs\\Output_raster_location\\Water_stress.tif'\n",
    "output_raster_location = 'tempfile.tif'\n",
    "pixel_size = 0.000325872\n",
    "xmin, xmax, ymin, ymax = source_layer.GetExtent()\n",
    "x_res = int(round(xmax-xmin)/pixel_size)\n",
    "y_res = int(round(ymax-ymin)/pixel_size)\n",
    "target_ds = gdal.GetDriverByName('GTiff').Create(output_raster_location,x_res,y_res,1,gdal.GDT_Float32,options=['SPARSE_OK=True'])\n",
    "target_ds.SetGeoTransform((xmin,pixel_size,0.0,ymax,0.0,-pixel_size))\n",
    "srse = osr.SpatialReference()\n",
    "proj = bCRS # default projection\n",
    "srse.SetWellKnownGeogCS(proj)\n",
    "target_ds.SetProjection(srse.ExportToWkt())\n",
    "band = target_ds.GetRasterBand(1)\n",
    "target_ds.GetRasterBand(1).SetNoDataValue(-9999)\n",
    "band.Fill(-9999)\n",
    "gdal.RasterizeLayer(target_ds,[1],source_layer,None,None,[1],options =[\"ALL_TOUCHED=TRUE\",\"ATTRIBUTE='ws3024tr'\"])\n",
    "target_ds = None"
   ]
  },
  {
   "cell_type": "code",
   "execution_count": null,
   "id": "db943966",
   "metadata": {},
   "outputs": [],
   "source": [
    "#output_raster_location = 'outputs\\Output_raster_location\\Water_stress.tif'\n",
    "\n",
    "# success to create tif but nothing inside ......\n",
    "\n",
    "output_raster_location = 'tempfile2.tif'\n",
    "pixel_size = 0.000325872\n",
    "(xmin, xmax, ymin, ymax) = (lon_min_wanted,lon_max_wanted,lat_min_wanted,lat_max_wanted)\n",
    "x_res = int(round(xmax-xmin)/pixel_size)\n",
    "y_res = int(round(ymax-ymin)/pixel_size)\n",
    "target_ds = gdal.GetDriverByName('GTiff').Create(output_raster_location,x_res,y_res,1,gdal.GDT_Float32,options=['SPARSE_OK=True'])\n",
    "target_ds.SetGeoTransform((xmin,pixel_size,0.0,ymax,0.0,-pixel_size))\n",
    "srse = osr.SpatialReference()\n",
    "proj = bCRS # default projection\n",
    "srse.SetWellKnownGeogCS(proj)\n",
    "target_ds.SetProjection(srse.ExportToWkt())\n",
    "band = target_ds.GetRasterBand(1)\n",
    "target_ds.GetRasterBand(1).SetNoDataValue(-9999)\n",
    "band.Fill(-9999)\n",
    "gdal.RasterizeLayer(target_ds,[1],source_layer,None,None,[1],options =[\"ALL_TOUCHED=TRUE\",\"ATTRIBUTE='ws3028tr'\"])\n",
    "target_ds = None"
   ]
  },
  {
   "cell_type": "code",
   "execution_count": null,
   "id": "e7e94c54",
   "metadata": {},
   "outputs": [],
   "source": [
    "projects['NEW']=pd.DataFrame(zonal_stats(vectors=projects_buf, raster='tempfile2.tif',all_touched=True, stats='mean'))\n",
    "projects"
   ]
  },
  {
   "cell_type": "code",
   "execution_count": null,
   "id": "81a6c817",
   "metadata": {},
   "outputs": [],
   "source": [
    "#plot landslides TH\n",
    "fig, ax = plt.subplots()\n",
    "landslides = rioxarray.open_rasterio('tempfile2.tif')\n",
    "landslides_clip = landslides.rio.clip(study_area.geometry, study_area.crs, drop=True)\n",
    "landslides_clip.plot(ax=ax, cmap='Reds',vmin=1, vmax=4)\n",
    "points=projects.plot(ax=ax,cmap='Greys') # what are those points ????\n",
    "\n",
    "#close\n",
    "landslides.close()\n",
    "landslides_clip.close()"
   ]
  },
  {
   "cell_type": "code",
   "execution_count": null,
   "id": "9511671f",
   "metadata": {},
   "outputs": [],
   "source": [
    "landslides"
   ]
  },
  {
   "cell_type": "markdown",
   "id": "e6564dce",
   "metadata": {},
   "source": [
    "<a id='floods'></a>\n",
    "## Floods - Hydrosphere\n",
    "\n",
    "####  Fluvial\n",
    "Sources:\n",
    "1) JRC Flood Hazard Map, http://data.europa.eu/89h/jrc-floods-floodmapgl_rp100y-tif : The map depicts flood prone areas at global scale for flood events with 100-year return period. Resolution is 30 arcseconds (approx. 1km). Cell values indicate water depth (in m). The map can be used to assess flood exposure and risk of population and assets. NOTE: this dataset is based on JRC elaborations and is not an official flood hazard map (for details and limitations please refer to related publications).\n",
    "2) Dataset of tropical cyclone Idai and subsequent flood disaster in Southern Africa (March 2019). National Tibetan Plateau Data Center, https://data.tpdc.ac.cn/en/data/8d836d13-a8e6-492b-9324-00fbfce40619/ \n",
    "\n",
    "#### Coastal \n",
    "Source: WRI Aqueduct database"
   ]
  },
  {
   "cell_type": "code",
   "execution_count": null,
   "id": "14df49eb",
   "metadata": {},
   "outputs": [],
   "source": [
    "# save the path for the image presenting the floods which have a return period of a 100 year\n",
    "flood_path=os.path.join(data_folder,'floodMapGL_rp100y/floodMapGL_rp100y.tif')\n",
    "\n",
    "buffer_flood=1000#meters # pas sure : sert a avoir les \n",
    "if buffer_flood != 0:\n",
    "    projects_bufFlood=projects.to_crs(mCRS)  #project to crs with metric units to get buffer in meters\n",
    "    projects_bufFlood['geometry']=projects.to_crs(mCRS).buffer(buffer_flood) #assign the buffer as the new geometry - \n",
    "    projects_bufFlood=projects_bufFlood.to_crs(bCRS)#project back to orginal crs\n",
    "\n",
    "projects['floods100yr_max']=pd.DataFrame(zonal_stats(vectors=projects_bufFlood, raster=flood_path, \n",
    "                                                            all_touched=True, stats='max'))\n",
    "#plot\n",
    "fig, ax = plt.subplots()\n",
    "floods = rioxarray.open_rasterio(flood_path)\n",
    "floods_clip = floods.rio.clip(study_area.geometry, study_area.crs, drop=True)\n",
    "floods_clip.plot(ax=ax,cmap='Blues',vmin=0,vmax=25)\n",
    "projects.plot(ax=ax,color='Black') # mapping the projects located in the study area\n",
    "#cb.set_label('Water depth (m)') # name for color scale ne fonctionne pas car cette ligne appartient a basemap language\n",
    "ax.set_title('Floods extent with a\\nreturn period of 100 years') # set a title to the image\n",
    "\n",
    "#close\n",
    "floods_clip.close()\n",
    "floods.close()"
   ]
  },
  {
   "cell_type": "markdown",
   "id": "9a2421d5",
   "metadata": {},
   "source": [
    "#### Sea level rise\n",
    "\n",
    "Global Mean Sea Level\n",
    "Source : https://climate.nasa.gov/vital-signs/sea-level/ ; used the Global Mean Sea Level (Global Isostatic Adjustment (GIA) applied) variation (mm) with respect to 20-year TOPEX/Jason collinear mean reference \n",
    "\n",
    "Sea Level Trends\n",
    "Source : https://sealevel.colorado.edu/trend-map : sea level trend from 1992 to 2022"
   ]
  },
  {
   "cell_type": "markdown",
   "id": "b0881784",
   "metadata": {},
   "source": [
    "<a id='second_effect_climate_variables'></a>\n",
    "# Second effect climate variables\n",
    "\n",
    "[Home](#beginning_CRVA)"
   ]
  },
  {
   "cell_type": "markdown",
   "id": "ce6fbd21",
   "metadata": {},
   "source": [
    "<a id='cyclone_risk'></a>\n",
    "## Cyclones\n",
    "data source: https://wesr.unepgrid.ch/?project=MX-XVK-HPH-OGN-HVE-GGN&language=en UNEP-GRID, \n",
    "\n",
    "cyclone risk level from 1 (low) to 5 (extreme)"
   ]
  },
  {
   "cell_type": "code",
   "execution_count": null,
   "id": "a4a6dd62",
   "metadata": {},
   "outputs": [],
   "source": [
    "#cyclone data path\n",
    "cyclone_path=os.path.join(data_folder,'cyclones/unep_grid/cy_risk.tif')\n",
    " \n",
    "   # \\\\COWI.net\\projects\\A245000\\A248363\\CRVA\\Datasets\\cyclones\\unep_grid\n",
    "#spatial stats\n",
    "projects['cyclone_risk']=pd.DataFrame(zonal_stats(vectors=projects_buf, raster=cyclone_path, all_touched=True, stats='max'))\n",
    "\n",
    "#show table\n",
    "projects[[project_id,'cyclone_risk']].head()\n",
    "\n",
    "#plot\n",
    "fig, ax = plt.subplots()\n",
    "cyclone = rioxarray.open_rasterio(cyclone_path)\n",
    "cyclone_clip = cyclone.rio.clip(study_area.geometry, study_area.crs, drop=True)\n",
    "cyclone_clip.plot(ax=ax)\n",
    "projects.plot(ax=ax) # plot the projects on the map\n",
    "\n",
    "plt.title('Cyclone risk level') # title of the graph\n",
    "\n",
    "#close\n",
    "cyclone_clip.close()\n",
    "cyclone.close()"
   ]
  },
  {
   "cell_type": "markdown",
   "id": "c263a351",
   "metadata": {},
   "source": [
    "<a id='climate_change_info_for_each_project_in_study_area'></a>\n",
    "# Climate change information concerning the projects in the study area\n",
    "\n",
    "Display climate change information concerning the project you are looking into.\n",
    "\n",
    "[Home](#beginning_CRVA)"
   ]
  },
  {
   "cell_type": "code",
   "execution_count": null,
   "id": "8b397fbc",
   "metadata": {},
   "outputs": [],
   "source": [
    "# selection of projects in the study area\n",
    "#RAPY: not useful since study area is just for plotting purposes, projects should be only the relevant ones already\n",
    "#projects_of_interest=projects[projects.within(study_area)]\n",
    "\n",
    "# selection of the information to display\n",
    "list_of_names=['Name','province','climatology-hd40_2020-2039_ssp245_median',\n",
    "               'daily-median-Wind-2100-ssp5_8_5','landslides_THmax','floods100yr_max','cyclone_risk']\n",
    "\n",
    "# display selected climate change information of the projects in the study area\n",
    "projects_of_interest_filtered = projects[list_of_names]\n",
    "projects_of_interest_filtered"
   ]
  },
  {
   "cell_type": "markdown",
   "id": "6cae4afe",
   "metadata": {},
   "source": [
    "# Export\n",
    "Exports the calculated climate variables to a csv file\n",
    "\n",
    "[Home](#beginning_CRVA)"
   ]
  },
  {
   "cell_type": "code",
   "execution_count": null,
   "id": "9f64fe4a",
   "metadata": {},
   "outputs": [],
   "source": [
    "projects.T.to_csv('outputs/csv/projects_climate_risks.csv')"
   ]
  },
  {
   "cell_type": "code",
   "execution_count": null,
   "id": "6c912f49",
   "metadata": {},
   "outputs": [],
   "source": []
  },
  {
   "cell_type": "code",
   "execution_count": null,
   "id": "1702c5cb",
   "metadata": {},
   "outputs": [],
   "source": []
  }
 ],
 "metadata": {
  "kernelspec": {
   "display_name": "Python 3 (ipykernel)",
   "language": "python",
   "name": "python3"
  },
  "language_info": {
   "codemirror_mode": {
    "name": "ipython",
    "version": 3
   },
   "file_extension": ".py",
   "mimetype": "text/x-python",
   "name": "python",
   "nbconvert_exporter": "python",
   "pygments_lexer": "ipython3",
   "version": "3.10.6"
  }
 },
 "nbformat": 4,
 "nbformat_minor": 5
}
