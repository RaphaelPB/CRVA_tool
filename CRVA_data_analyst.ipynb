{
 "cells": [
  {
   "cell_type": "markdown",
   "id": "c6fb3dd0",
   "metadata": {},
   "source": [
    "<a id='beginning_CRVA'></a>\n",
    "# Climate Risk and Vulnerability Analysis\n",
    "This notebook helps you download and visualize climate data to perform Climate Risk and Vulnerability analyses\n",
    "\n",
    "## Usage\n",
    "this is how to use this script\n",
    "\n",
    "1. [Define user input](#user_input)\n",
    "2. [Run wanted climate variables](#climate_variables)\n",
    "    1. [Atmosphere's climate variables](#atmosphere_climate_variables)\n",
    "    2. [Land climate's variables](#land_climate_variables)\n",
    "    3. [Hydrosphere's climate variables](#hydrosphere_climate_variables)\n",
    "    4. [Second effect's climate variables](#second_effect_climate_variables)\n",
    "3. [Export data](#Export)\n",
    "\n",
    "## Input data\n",
    "\n",
    "* [Shapefile with project location(s) as points or polygon](#load_shapefile)\n",
    "* List of variables\n",
    "* List of SSP's\n",
    "* List of time horizons\n",
    "\n",
    "## [Climate variables](#climate_variables)\n",
    "### [Atmosphere's climate variables](#atmosphere_climate_variables)\n",
    "* [Precipitation](#worldbank)\n",
    "* [Temperature](#worldbank)\n",
    "* [Wind](#wind)\n",
    "* [Humidity](#humidity)\n",
    "* [Solar radiation](#solar_radiation)\n",
    "* Air quality deterioration\n",
    "### [Land's climate variables](#land_climate_variables)\n",
    "* [Landslides](#landslides)\n",
    "* Coastal erosion\n",
    "* Soil erosion\n",
    "* Soil salinity\n",
    "### [Hydrosphere's climate variables](#hydrosphere_climate_variables)\n",
    "* [Relative sea level rise](#relative_sea_level_rise)\n",
    "* [Seawater temperature](#sea_water_temperature)\n",
    "* [Water availability](#water_availability)\n",
    "* floods (fluvial)\n",
    "* floods (coastal)\n",
    "* forest fires\n",
    "### [Second effects of climate variables](#second_effect_climate_variables)\n",
    "* Storms\n",
    "* Dust storms\n",
    "* Wildfire\n",
    "* Urban heat island\n",
    "* Growinf season length\n",
    "* [cyclone risk](#cyclone_risk)\n",
    "\n",
    "\n",
    "\n",
    "* earthquakes (not climate related)\n",
    "\n",
    "## Climate impacts\n",
    "* calculate impact on yields\n",
    "\n",
    "## [Climate change information concerning the projects in the study area](#climate_change_info_for_each_project_in_study_area)\n",
    "\n",
    "\n",
    "## Contact\n",
    "\n",
    "rapy@cowi.com\n"
   ]
  },
  {
   "cell_type": "markdown",
   "id": "93fe4ed9",
   "metadata": {},
   "source": [
    "<a id='user_input'></a>\n",
    "## User inputs\n",
    "\n",
    "[Home](#beginning_CRVA)"
   ]
  },
  {
   "cell_type": "code",
   "execution_count": 1,
   "id": "51f07a6b",
   "metadata": {},
   "outputs": [],
   "source": [
    "#User inputs\n",
    "import os.path\n",
    "\n",
    "\n",
    "#project locations (shapefile with location of elements to evaluate)\n",
    "data_folder=r'\\\\COWI.net\\projects\\A245000\\A248363\\CRVA\\Datasets'\n",
    "#data_folder=os.path.join(os.pardir,'dataset')\n",
    "project_location_path=os.path.join(data_folder,'Mozambique_PPIS/EIB_locations_few.shp')\n",
    "project_id='Name' #name of column used as id\n",
    "\n",
    "#study boundary (optional)\n",
    "study_area_path=os.path.join(data_folder,'Mozambique_PPIS/mozambique.shp')\n",
    "\n",
    "#output folder\n",
    "#out_path=r'\\\\COWI.net\\projects\\A245000\\A248363\\CRVA\\Scripts\\outputs'\n",
    "out_path=r'C:\\Users\\CLMRX\\OneDrive - COWI\\Documents\\GitHub\\CRVA_tool\\outputs'\n",
    "\n",
    "#projection CRS (default = 'EPSG:4326')\n",
    "bCRS='EPSG:4326'\n",
    "\n",
    "#buffer for climate/grid variables\n",
    "buffer=40000 #buffer in meters, 0 = no buffer is computed\n",
    "\n",
    "mCRS='EPSG:31983' #metric CRS for buffer in meters (find relevant metric CRS for location!)\n",
    "\n",
    "\n",
    "#### Year of study\n",
    "#IDEA IS TO GIVE POSSIBILITY FOR THE USER TO CHOOSE DEPENDING on PROJECT (could choose on year or a period but precise period make more sense)\n",
    "#SET by default for the moment\n",
    "\n",
    "first_year = 2025 # start year included\n",
    "last_year = 2026 # last year included\n",
    "\n",
    "\n",
    "# For data coming from copernicus, historical data are commonly 1850-2005"
   ]
  },
  {
   "cell_type": "markdown",
   "id": "f62ceae0",
   "metadata": {},
   "source": [
    "## Import python packages"
   ]
  },
  {
   "cell_type": "code",
   "execution_count": 15,
   "id": "2fd37531",
   "metadata": {},
   "outputs": [
    {
     "ename": "ModuleNotFoundError",
     "evalue": "No module named 'h5py'",
     "output_type": "error",
     "traceback": [
      "\u001b[1;31m---------------------------------------------------------------------------\u001b[0m",
      "\u001b[1;31mModuleNotFoundError\u001b[0m                       Traceback (most recent call last)",
      "Cell \u001b[1;32mIn[15], line 14\u001b[0m\n\u001b[0;32m     12\u001b[0m \u001b[38;5;28;01mimport\u001b[39;00m \u001b[38;5;21;01mnetCDF4\u001b[39;00m \u001b[38;5;28;01mas\u001b[39;00m \u001b[38;5;21;01mnc\u001b[39;00m\u001b[38;5;66;03m#not directly used but needs to be imported for some nc4 files manipulations, use for nc files\u001b[39;00m\n\u001b[0;32m     13\u001b[0m \u001b[38;5;28;01mfrom\u001b[39;00m \u001b[38;5;21;01mnetCDF4\u001b[39;00m \u001b[38;5;28;01mimport\u001b[39;00m Dataset\n\u001b[1;32m---> 14\u001b[0m \u001b[38;5;28;01mimport\u001b[39;00m \u001b[38;5;21;01mh5py\u001b[39;00m\n\u001b[0;32m     15\u001b[0m \u001b[38;5;28;01mimport\u001b[39;00m \u001b[38;5;21;01mcsv\u001b[39;00m \u001b[38;5;66;03m#REMOVE ? not in use ?\u001b[39;00m\n\u001b[0;32m     16\u001b[0m \u001b[38;5;28;01mimport\u001b[39;00m \u001b[38;5;21;01mnumpy\u001b[39;00m \u001b[38;5;28;01mas\u001b[39;00m \u001b[38;5;21;01mnp\u001b[39;00m\n",
      "\u001b[1;31mModuleNotFoundError\u001b[0m: No module named 'h5py'"
     ]
    }
   ],
   "source": [
    "#Import python packages\n",
    "from rasterstats import zonal_stats\n",
    "import pandas as pd\n",
    "import geopandas as gpd\n",
    "import rasterio\n",
    "from rasterio.plot import show\n",
    "import rioxarray #used when calling ncdata.rio.write_crs\n",
    "import xarray as xr\n",
    "import os\n",
    "import os.path\n",
    "import matplotlib.pyplot as plt\n",
    "import netCDF4 as nc#not directly used but needs to be imported for some nc4 files manipulations, use for nc files\n",
    "from netCDF4 import Dataset\n",
    "import h5py\n",
    "import csv #REMOVE ? not in use ?\n",
    "import numpy as np\n",
    "import numpy.ma as ma\n",
    "from mpl_toolkits.basemap import Basemap\n",
    "import shutil # to move folders\n",
    "import warnings\n",
    "warnings.filterwarnings('ignore') # to ignore the warnings\n",
    "#import io\n",
    "import cdsapi # for copernicus function\n",
    "import datetime # to have actual date\n",
    "from osgeo import gdal, ogr, osr # in order to convert shp in raster\n",
    "from geopandas import GeoDataFrame\n",
    "from shapely.geometry import Point\n",
    "from matplotlib.lines import Line2D\n",
    "\n",
    "# to perform bias correction\n",
    "from bias_correction import BiasCorrection, XBiasCorrection\n",
    "from statsmodels.distributions.empirical_distribution import ECDF\n",
    "from scipy.stats import gamma, norm\n",
    "from scipy.signal import detrend\n",
    "\n",
    "# import functions and class defined in another file named FunctionsAndClass\n",
    "## Functions\n",
    "from FunctionsAndClass import copernicus_data\n",
    "from FunctionsAndClass import year_copernicus\n",
    "from FunctionsAndClass import date_copernicus\n",
    "from FunctionsAndClass import csv_copernicus\n",
    "from FunctionsAndClass import Display_map\n",
    "from FunctionsAndClass import read_cckp_ncdata\n",
    "from FunctionsAndClass import get_cckp_file_name\n",
    "from FunctionsAndClass import Display_map_projects\n",
    "from FunctionsAndClass import register_data # import to test\n",
    "from FunctionsAndClass import find_column_name # import to test\n",
    "from FunctionsAndClass import search_for_nc # import to test\n",
    "from FunctionsAndClass import try_download_copernicus # import to test\n",
    "\n",
    "\n",
    "## Class\n",
    "from FunctionsAndClass import calendar\n",
    "from FunctionsAndClass import copernicus_elements\n",
    "from FunctionsAndClass import map_elements"
   ]
  },
  {
   "cell_type": "markdown",
   "id": "e907e131",
   "metadata": {},
   "source": [
    "<a id='load_shapefile'></a>\n",
    "## Load shapefiles and plot"
   ]
  },
  {
   "cell_type": "code",
   "execution_count": 3,
   "id": "7213162f",
   "metadata": {},
   "outputs": [
    {
     "data": {
      "image/png": "[encoded data removed]",
      "text/plain": [
       "<Figure size 640x480 with 1 Axes>"
      ]
     },
     "metadata": {},
     "output_type": "display_data"
    },
    {
     "data": {
      "image/png": "[encoded data removed]",
      "text/plain": [
       "<Figure size 640x480 with 1 Axes>"
      ]
     },
     "metadata": {},
     "output_type": "display_data"
    },
    {
     "data": {
      "image/png": "[encoded data removed]",
      "text/plain": [
       "<Figure size 640x480 with 1 Axes>"
      ]
     },
     "metadata": {},
     "output_type": "display_data"
    }
   ],
   "source": [
    "#load shapefiles\n",
    "projects = gpd.read_file(project_location_path).to_crs(bCRS)\n",
    "study_area = gpd.read_file(study_area_path).to_crs(bCRS)\n",
    "\n",
    "#calculate buffer around points/shape\n",
    "if buffer != 0:\n",
    "    projects_buf=projects.to_crs(mCRS)  #project to crs with metric units to get buffer in meters\n",
    "    projects_buf['geometry']=projects.to_crs(mCRS).buffer(buffer) #assign the buffer as the new geometry - \n",
    "    projects_buf=projects_buf.to_crs(bCRS)#project back to orginal crs\n",
    "\n",
    "    \n",
    "#plot shapefiles\n",
    "study_area.plot()\n",
    "projects.plot()\n",
    "projects_buf.plot() \n",
    "\n",
    "\n",
    "#show table\n",
    "projects[[project_id]]\n",
    "\n",
    "# register geographic information concerning projects\n",
    "lon_projects = projects['geometry'].x\n",
    "lat_projects = projects['geometry'].y\n",
    "area_projects = [lat_projects - 5, lat_projects+5, lon_projects-5,lon_projects+5] # list format\n",
    "# 5 degres trop grand \n",
    "#### determination of the geographical zone of interest \n",
    "lat_min_wanted = min(study_area['LAT'])-10\n",
    "lat_max_wanted = max(study_area['LAT'])+10\n",
    "lon_min_wanted = min(study_area['LON'])-20\n",
    "lon_max_wanted = max(study_area['LON'])+20\n",
    "# addind and substracting to lon and lat to have margin\n",
    "# substracting more to longitude because the range of longitude is -180 to 180. The range of latitude is -90 to 90\n",
    "\n",
    "area = [lat_min_wanted, lon_min_wanted, lat_max_wanted,lon_max_wanted,] # used to download from copernicus\n",
    "\n",
    "### YEAR\n",
    "year = np.arange(first_year,(last_year+1),1) # create vector of years\n",
    "year_str = [0]*len(year) # create initiale empty vector to convert years in int\n",
    "index = np.arange(0,len(year)) # create vector of index for year\n",
    "i = 0 # initialize index\n",
    "for i in index: # convert all the date in string format\n",
    "    year_str[i]=str(year[i])\n",
    "\n",
    "start_date = \"01-01-\"+year_str[0] # string start date based on start year\n",
    "stop_date = \"31-12-\"+year_str[len(year)-1] # string stop date based on stop year\n",
    "dates = pd.date_range(start_date,stop_date) # vector of dates between start date and stop date\n",
    "index_dates = np.arange(0,len(dates)) # vector containning index o dates vector"
   ]
  },
  {
   "cell_type": "code",
   "execution_count": 4,
   "id": "5b27e633",
   "metadata": {},
   "outputs": [
    {
     "data": {
      "image/png": "[encoded data removed]",
      "text/plain": [
       "<Figure size 640x480 with 1 Axes>"
      ]
     },
     "metadata": {},
     "output_type": "display_data"
    }
   ],
   "source": [
    "base = study_area.plot(color='white', edgecolor='black')\n",
    "projects.plot(ax=base, marker='o', color='blue', markersize=5);"
   ]
  },
  {
   "cell_type": "code",
   "execution_count": 9,
   "id": "60b8f956",
   "metadata": {},
   "outputs": [
    {
     "ename": "SyntaxError",
     "evalue": "positional argument follows keyword argument (262115310.py, line 10)",
     "output_type": "error",
     "traceback": [
      "\u001b[1;36m  Cell \u001b[1;32mIn[9], line 10\u001b[1;36m\u001b[0m\n\u001b[1;33m    slice = 'ssp245')\u001b[0m\n\u001b[1;37m                    ^\u001b[0m\n\u001b[1;31mSyntaxError\u001b[0m\u001b[1;31m:\u001b[0m positional argument follows keyword argument\n"
     ]
    }
   ],
   "source": [
    "library(NASAaccess)\n",
    "\n",
    "NEX_GDDP_CMIP6(Dir = \"./NEX_GDDP_CMIP6/\", \n",
    "               watershed = shape_path,\n",
    "              dem_path,  \n",
    "              start = \"2060-12-1\", \n",
    "              end = \"2060-12-3\",\n",
    "              model = 'ACCESS-CM2', \n",
    "              type = 'tas', \n",
    "              slice = 'ssp245')"
   ]
  },
  {
   "cell_type": "code",
   "execution_count": 23,
   "id": "8e883cc3",
   "metadata": {},
   "outputs": [
    {
     "ename": "CalledProcessError",
     "evalue": "Command '['curl', '-s', '-o', 'hurs_day_ACCESS-CM2_historical_r1i1p1f1_gn_1950.nc', 'https://ds.nccs.nasa.gov/thredds2/fileServer/AMES/NEX/GDDP-CMIP6/ACCESS-CM2/historical/r1i1p1f1/hurs/hurs_day_ACCESS-CM2_historical_r1i1p1f1_gn_1950.nc']' returned non-zero exit status 18.",
     "output_type": "error",
     "traceback": [
      "\u001b[1;31m---------------------------------------------------------------------------\u001b[0m",
      "\u001b[1;31mCalledProcessError\u001b[0m                        Traceback (most recent call last)",
      "Cell \u001b[1;32mIn[23], line 22\u001b[0m\n\u001b[0;32m     20\u001b[0m prsout \u001b[38;5;241m=\u001b[39m urlparse(uri)\n\u001b[0;32m     21\u001b[0m ofile \u001b[38;5;241m=\u001b[39m os\u001b[38;5;241m.\u001b[39mpath\u001b[38;5;241m.\u001b[39msplit(prsout\u001b[38;5;241m.\u001b[39mpath)[\u001b[38;5;241m1\u001b[39m]\n\u001b[1;32m---> 22\u001b[0m \u001b[43mdownload\u001b[49m\u001b[43m(\u001b[49m\u001b[43muri\u001b[49m\u001b[43m,\u001b[49m\u001b[43m \u001b[49m\u001b[43mofile\u001b[49m\u001b[43m,\u001b[49m\u001b[43m \u001b[49m\u001b[43mmd5\u001b[49m\u001b[43m)\u001b[49m\n",
      "Cell \u001b[1;32mIn[23], line 9\u001b[0m, in \u001b[0;36mdownload\u001b[1;34m(uri, ofile, md5)\u001b[0m\n\u001b[0;32m      8\u001b[0m \u001b[38;5;28;01mdef\u001b[39;00m \u001b[38;5;21mdownload\u001b[39m(uri, ofile, md5):\n\u001b[1;32m----> 9\u001b[0m     \u001b[43msrun\u001b[49m\u001b[43m(\u001b[49m\u001b[43m[\u001b[49m\u001b[38;5;124;43m'\u001b[39;49m\u001b[38;5;124;43mcurl\u001b[39;49m\u001b[38;5;124;43m'\u001b[39;49m\u001b[43m,\u001b[49m\u001b[43m \u001b[49m\u001b[38;5;124;43m'\u001b[39;49m\u001b[38;5;124;43m-s\u001b[39;49m\u001b[38;5;124;43m'\u001b[39;49m\u001b[43m,\u001b[49m\u001b[43m \u001b[49m\u001b[38;5;124;43m'\u001b[39;49m\u001b[38;5;124;43m-o\u001b[39;49m\u001b[38;5;124;43m'\u001b[39;49m\u001b[43m,\u001b[49m\u001b[43m \u001b[49m\u001b[43mofile\u001b[49m\u001b[43m,\u001b[49m\u001b[43m \u001b[49m\u001b[43muri\u001b[49m\u001b[43m]\u001b[49m\u001b[43m,\u001b[49m\u001b[43m \u001b[49m\u001b[43mcapture_output\u001b[49m\u001b[38;5;241;43m=\u001b[39;49m\u001b[38;5;28;43;01mTrue\u001b[39;49;00m\u001b[43m,\u001b[49m\u001b[43m \u001b[49m\u001b[43mcheck\u001b[49m\u001b[38;5;241;43m=\u001b[39;49m\u001b[38;5;28;43;01mTrue\u001b[39;49;00m\u001b[43m)\u001b[49m\n\u001b[0;32m     10\u001b[0m     md5dld \u001b[38;5;241m=\u001b[39m \u001b[38;5;28mstr\u001b[39m(hashlib\u001b[38;5;241m.\u001b[39mmd5(\u001b[38;5;28mopen\u001b[39m(ofile, \u001b[38;5;124m'\u001b[39m\u001b[38;5;124mrb\u001b[39m\u001b[38;5;124m'\u001b[39m)\u001b[38;5;241m.\u001b[39mread())\u001b[38;5;241m.\u001b[39mhexdigest())\n\u001b[0;32m     11\u001b[0m     \u001b[38;5;28;01mif\u001b[39;00m md5 \u001b[38;5;241m!=\u001b[39m md5dld:\n",
      "File \u001b[1;32m~\\AppData\\Local\\miniconda3\\envs\\geodata\\lib\\subprocess.py:524\u001b[0m, in \u001b[0;36mrun\u001b[1;34m(input, capture_output, timeout, check, *popenargs, **kwargs)\u001b[0m\n\u001b[0;32m    522\u001b[0m     retcode \u001b[38;5;241m=\u001b[39m process\u001b[38;5;241m.\u001b[39mpoll()\n\u001b[0;32m    523\u001b[0m     \u001b[38;5;28;01mif\u001b[39;00m check \u001b[38;5;129;01mand\u001b[39;00m retcode:\n\u001b[1;32m--> 524\u001b[0m         \u001b[38;5;28;01mraise\u001b[39;00m CalledProcessError(retcode, process\u001b[38;5;241m.\u001b[39margs,\n\u001b[0;32m    525\u001b[0m                                  output\u001b[38;5;241m=\u001b[39mstdout, stderr\u001b[38;5;241m=\u001b[39mstderr)\n\u001b[0;32m    526\u001b[0m \u001b[38;5;28;01mreturn\u001b[39;00m CompletedProcess(process\u001b[38;5;241m.\u001b[39margs, retcode, stdout, stderr)\n",
      "\u001b[1;31mCalledProcessError\u001b[0m: Command '['curl', '-s', '-o', 'hurs_day_ACCESS-CM2_historical_r1i1p1f1_gn_1950.nc', 'https://ds.nccs.nasa.gov/thredds2/fileServer/AMES/NEX/GDDP-CMIP6/ACCESS-CM2/historical/r1i1p1f1/hurs/hurs_day_ACCESS-CM2_historical_r1i1p1f1_gn_1950.nc']' returned non-zero exit status 18."
     ]
    }
   ],
   "source": [
    "import csv\n",
    "import os\n",
    "import hashlib\n",
    "import logging\n",
    "from subprocess import run as srun\n",
    "from urllib.parse import urlparse\n",
    "logging.basicConfig(level=logging.INFO)\n",
    "def download(uri, ofile, md5):\n",
    "    srun(['curl', '-s', '-o', ofile, uri], capture_output=True, check=True) # without curl, file is corrupted\n",
    "    md5dld = str(hashlib.md5(open(ofile, 'rb').read()).hexdigest())\n",
    "    if md5 != md5dld:\n",
    "        logging.warning(\"%s != %s\", md5, md5dld)\n",
    "    logging.info(\"uri %s (%s == %s) : %s\", uri, md5, md5dld, ofile)\n",
    "\n",
    "with open('gddp-cmip6-thredds-fileserver.csv') as index:\n",
    "    fobjects = csv.reader(index)\n",
    "    next(fobjects)\n",
    "    for objs in fobjects:\n",
    "        md5, uri = [o.strip() for o in objs]\n",
    "        prsout = urlparse(uri)\n",
    "        ofile = os.path.split(prsout.path)[1]\n",
    "        download(uri, ofile, md5)"
   ]
  },
  {
   "cell_type": "code",
   "execution_count": 22,
   "id": "e567cf0a",
   "metadata": {},
   "outputs": [
    {
     "data": {
      "text/plain": [
       "False"
      ]
     },
     "execution_count": 22,
     "metadata": {},
     "output_type": "execute_result"
    }
   ],
   "source": [
    "os.path.isfile('hurs_day_ACCESS-CM2_historical_r1i1p1f1_gn_1950.nc')"
   ]
  },
  {
   "cell_type": "code",
   "execution_count": 19,
   "id": "575d98e0",
   "metadata": {},
   "outputs": [
    {
     "ename": "OSError",
     "evalue": "[Errno -101] NetCDF: HDF error: b'hurs_day_ACCESS-CM2_historical_r1i1p1f1_gn_1950.nc'",
     "output_type": "error",
     "traceback": [
      "\u001b[1;31m---------------------------------------------------------------------------\u001b[0m",
      "\u001b[1;31mOSError\u001b[0m                                   Traceback (most recent call last)",
      "Cell \u001b[1;32mIn[19], line 1\u001b[0m\n\u001b[1;32m----> 1\u001b[0m \u001b[43mDataset\u001b[49m\u001b[43m(\u001b[49m\u001b[38;5;124;43mr\u001b[39;49m\u001b[38;5;124;43m'\u001b[39;49m\u001b[38;5;124;43mhurs_day_ACCESS-CM2_historical_r1i1p1f1_gn_1950.nc\u001b[39;49m\u001b[38;5;124;43m'\u001b[39;49m\u001b[43m)\u001b[49m\n",
      "File \u001b[1;32msrc\\netCDF4\\_netCDF4.pyx:2463\u001b[0m, in \u001b[0;36mnetCDF4._netCDF4.Dataset.__init__\u001b[1;34m()\u001b[0m\n",
      "File \u001b[1;32msrc\\netCDF4\\_netCDF4.pyx:2026\u001b[0m, in \u001b[0;36mnetCDF4._netCDF4._ensure_nc_success\u001b[1;34m()\u001b[0m\n",
      "\u001b[1;31mOSError\u001b[0m: [Errno -101] NetCDF: HDF error: b'hurs_day_ACCESS-CM2_historical_r1i1p1f1_gn_1950.nc'"
     ]
    }
   ],
   "source": [
    "Dataset(r'hurs_day_ACCESS-CM2_historical_r1i1p1f1_gn_1950.nc')"
   ]
  },
  {
   "cell_type": "markdown",
   "id": "a84709b2",
   "metadata": {},
   "source": [
    "<a id='climate_variables'></a>\n",
    "# Climate variables\n",
    "\n",
    "[Home](#beginning_CRVA)"
   ]
  },
  {
   "cell_type": "markdown",
   "id": "fded3e5a",
   "metadata": {},
   "source": [
    "<a id='atmosphere_climate_variables'></a>\n",
    "# ATMOSPHERE\n",
    "\n",
    "[Home](#beginning_CRVA)"
   ]
  },
  {
   "cell_type": "markdown",
   "id": "5df87640",
   "metadata": {},
   "source": [
    "<a id='worldbank'></a>\n",
    "## World Bank Climate knowledge portal, Precipitation and Temperature - Atmosphere\n",
    "data source: https://climateknowledgeportal.worldbank.org/download-data\n",
    "\n",
    "List of different variables:\n",
    "\n",
    "### Precipitation \n",
    "* return period of current 50 and 100 year event\n",
    "* yearly average precipitation\n",
    "* seasonal average precipitation - OR MONTH? i word documnet: average dry season precipitation \n",
    "* maximum precipitation in one day - NOT REALLY, instead \"Average of the largest daily precipitation amount\" rx1day \n",
    "* maximum precipitation in five days - NOT REALLY, instead \"Average of the largest 5-day consecutive precipitation amount\".\n",
    "* FORSLAG: Could also include: precipitation amount from very wet days/ days >50mm. eg. \n",
    "\n",
    "### Temperature\n",
    "* Yearly mean temperature (average) - tas \n",
    "* Number of hot days >40 degrees C (average)\n",
    "* Number of hot days >35 degrees C (average) \n",
    "* Maximum of daily max-temperature (per year) -txx\n",
    "* Average of maximum temperature (daily??) - tasmax \n",
    "\n",
    "### How to use\n",
    "define \n",
    "\n",
    "`variables = {variablename1:{'periods':['2020-2039'],'ssps':['ssp245','ssp370'],'gcms':['median','p10','p90']}, variablename2:...}`\n",
    "\n",
    "where variablename corresponds to a variable name in the cckp, periods include the desired periods, ssps the desired ssp-rcp scenarios, and gcms can be either median, p10, or p90 (50%, 10%, and 90% percentile of ensemble models)."
   ]
  },
  {
   "cell_type": "code",
   "execution_count": null,
   "id": "d8b0eada",
   "metadata": {},
   "outputs": [],
   "source": [
    "#Read downloaded precipitation and temperature data\n",
    "#settings\n",
    "\n",
    "variables= {\n",
    "    #Temperature\n",
    "        #era/cru\n",
    "            #'climatology-hd35-annual-mean_era':{'periods':['1991-2020']},\n",
    "            'climatology-hd40-annual-mean_era':{'periods':['1991-2020']},\n",
    "            'climatology-tasmax-annual-mean_era':{'periods':['1991-2020']}, \n",
    "            'climatology-tas-annual-mean_era':{'periods':['1991-2020']},\n",
    "            'climatology-tasmax-annual-mean_cru':{'periods':['1991-2020']}, \n",
    "        #realtime\n",
    "            'climatology-hd40':{'periods':['2020-2039'],'ssps':['ssp245','ssp370'],'gcms':['median','p10','p90']},\n",
    "            'anomaly-hd40':{'periods':['2020-2039'],'ssps':['ssp245','ssp370'],'gcms':['median']},\n",
    "            #'anomaly-hd35':{'periods':['2020-2039'],'ssps':['ssp245','ssp370'],'gcms':['median','p10','p90']},\n",
    "            #'anomaly-tasmax':{'periods':['2020-2039','2040-2059'],'ssps':['ssp245','ssp370'],'gcms':['median','p10','p90']}, \n",
    "            'anomaly-txx':{'periods':['2020-2039','2040-2059'],'ssps':['ssp245','ssp370'],'gcms':['median','p10','p90']}, #txx=maximum of daily max temperature\n",
    "            'climatology-txx':{'periods':['2020-2039','2040-2059'],'ssps':['ssp245','ssp370'],'gcms':['median','p10','p90']},\n",
    "            'anomaly-tas':{'periods':['2020-2039'],'ssps':['ssp245','ssp370'],'gcms':['median','p10','p90']},\n",
    "            'climatology-tas':{'periods':['2020-2039','2040-2059'],'ssps':['ssp245','ssp370'],'gcms':['median','p10','p90']}, #data not downloaded \n",
    "    #Precipitation\n",
    "       #era/cru\n",
    "            #'climatology-r50mm-annual-mean_era_annual':{'periods':['1991-2020']},\n",
    "            'climatology-rx1day-monthly-mean_era_monthly':{'periods':['1991-2020']},\n",
    "            'climatology-rx1day-annual-mean_era_annual':{'periods':['1991-2020']},\n",
    "            'climatology-pr-annual-mean_era_annual':{'periods':['1991-2020']},\n",
    "            'climatology-pr-monthly-mean_era_monthly':{'periods':['1991-2020']},\n",
    "            'climatology-pr-annual-mean_cru':{'periods':['1991-2020']},\n",
    "        #realtime\n",
    "            'frp100yr-rx1day-period-mean_cmip6_period':{'periods':['2010-2039','2035-2064'],'ssps':['ssp245','ssp370'],'gcms':['median','p10','p90']}, \n",
    "            'frp50yr-rx1day-period-mean_cmip6_period':{'periods':['2010-2039'],'ssps':['ssp245','ssp370'],'gcms':['median','p10','p90']},\n",
    "            'climatology-rx5day-annual-mean_cmip6_annual':{'periods':['2020-2039','2040-2059'],'ssps':['ssp245','ssp370'],'gcms':['median','p10','p90']},\n",
    "            'climatology-rx1day-annual-mean_cmip6_annual':{'periods':['2020-2039','2040-2059'],'ssps':['ssp245','ssp370'],'gcms':['median','p10','p90']},\n",
    "            'climatology-pr-monthly-mean_cmip6_monthly':{'periods':['2020-2039','2040-2059'],'ssps':['ssp245','ssp370'],'gcms':['median','p10','p90']},\n",
    "            'climatology-pr-annual-mean_cmip6_annual':{'periods':['2020-2039','2040-2059'],'ssps':['ssp245','ssp370'],'gcms':['median','p10','p90']},\n",
    "            'climatology-pr-seasonal-mean_cmip6_seasonal':{'periods':['2020-2039','2040-2059'],'ssps':['ssp245','ssp370'],'gcms':['median','p10','p90']},\n",
    "            'changefactorfaep100yr-rx1day-period-mean_cmip6_period':{'periods':['2010-2039'],'ssps':['ssp245','ssp370'],'gcms':['median','p10','p90']},\n",
    "            #'anomaly-pr-monthly-mean_cmip6_monthly':{'periods':['2040-2059'],'ssps':['ssp245','ssp370'],'gcms':['median','p10','p90']}\n",
    "            }\n",
    "       ## 'timeseries-rx1day':{'periods':['2015-2100'],'ssps':['ssp245'],'gcms':['median']} # Den kan ikke læse den - brokker sig over Dimension time=0. \n",
    "       \n",
    "#Create multi index for cckp_output\n",
    "idx=pd.IndexSlice\n",
    "mindex=[]\n",
    "for var in variables.keys():\n",
    "    for period in variables[var]['periods']:\n",
    "        if period in ['1991-2020']:\n",
    "            mindex.append((var,period,None,None))\n",
    "        else:\n",
    "            for ssp in variables[var]['ssps']:\n",
    "                    for gcm in variables[var]['gcms']:\n",
    "                        mindex.append((var,period,ssp,gcm))\n",
    "mindex=pd.MultiIndex.from_tuples(mindex, names=['variable', 'period','ssp','gcm'])\n",
    "#cckp_output=pd.DataFrame(index=projects[project_id],columns=mindex)\n",
    "cckp_output=pd.DataFrame(index=mindex,columns=projects[project_id])\n",
    "\n",
    "#read data from cckp and spatial statistics\n",
    "for var in variables.keys():\n",
    "    for period in variables[var]['periods']:\n",
    "        if period in ['1991-2020']: # for era/cru data\n",
    "            varname='_'.join((var,period))\n",
    "            data_path=get_cckp_file_name(var,period=period)\n",
    "            if os.path.exists(data_path):\n",
    "                data=read_cckp_ncdata(data_path)\n",
    "                stats=pd.DataFrame(zonal_stats(vectors=projects_buf, raster=data,all_touched=True, stats='mean'))\n",
    "                projects[varname]=stats\n",
    "                #cckp_output.loc[:,idx[var,period,:,:]]=stats.values\n",
    "                cckp_output.loc[idx[var,period,:,:],:]=stats.T.values\n",
    "            else:\n",
    "                print(data_path,\"not found\")\n",
    "                projects[varname]='not found'\n",
    "        elif period not in ['1991-2020']: #for realtime data \n",
    "                for ssp in variables[var]['ssps']:\n",
    "                    for gcm in variables[var]['gcms']:\n",
    "                        varname='_'.join((var,period,ssp,gcm))\n",
    "                        data_path=get_cckp_file_name(var,ssp=ssp,period=period,gcm=gcm)\n",
    "                        if os.path.exists(data_path):\n",
    "                            data=read_cckp_ncdata(data_path)\n",
    "                            stats=pd.DataFrame(zonal_stats(vectors=projects_buf, raster=data,all_touched=True, stats='mean'))\n",
    "                            projects[varname]=stats\n",
    "                            #cckp_output.loc[:,idx[var,period,ssp,gcm]]=stats.values\n",
    "                            cckp_output.loc[idx[var,period,ssp,gcm],:]=stats.T.values\n",
    "                        else:\n",
    "                            print(data_path,\"not found\")\n",
    "                            projects[varname]='not found'\n",
    "\n",
    "\n",
    "#plot, show #ADD enlarge the clip + something wierd with nodata value\n",
    "cckp_output.to_csv('outputs/csv/cckp_output.csv')\n",
    "projects[[project_id,varname]].head()\n",
    "\n",
    "fig, ax = plt.subplots()\n",
    "precip = rioxarray.open_rasterio(data)\n",
    "precip_clip = precip.rio.clip(study_area.geometry, study_area.crs, drop=True)\n",
    "precip_clip.plot(ax=ax)\n",
    "projects.plot(ax=ax)\n",
    "\n",
    "#close\n",
    "precip.close()"
   ]
  },
  {
   "cell_type": "markdown",
   "id": "2a84cafc",
   "metadata": {},
   "source": [
    "<a id='wind'></a>\n",
    "## Wind Speed\n",
    "\n",
    "Daily wind speed, historical and projected.\n",
    "\n",
    "Data source : https://cds.climate.copernicus.eu/cdsapp#!/dataset/projections-cmip6?tab=form"
   ]
  },
  {
   "cell_type": "code",
   "execution_count": null,
   "id": "65af01ca",
   "metadata": {},
   "outputs": [],
   "source": [
    "### Extraction of Near-surface wind speed data\n",
    "global_variable = 'Wind'\n",
    "name_variable = 'near_surface_wind_speed'"
   ]
  },
  {
   "cell_type": "markdown",
   "id": "df282104",
   "metadata": {},
   "source": [
    "#### Historical data for wind speed"
   ]
  },
  {
   "cell_type": "code",
   "execution_count": null,
   "id": "bc673a78",
   "metadata": {},
   "outputs": [],
   "source": [
    "(year_historical, year_str_historical, index_historical)=year_copernicus(1950,2014)\n",
    "temporal_resolution = 'daily'\n",
    "# Register data from copernicus for humidity in a dataframe and production of a csv file for the period indicated above\n",
    "(Wind_historical,period_historical) = dataframe_csv_copernicus(temporal_resolution,year_str_historical,copernicus_elements.experiments_historical,copernicus_elements.models,out_path, name_variable,'sfcWind',area)    "
   ]
  },
  {
   "cell_type": "markdown",
   "id": "2ac960da",
   "metadata": {},
   "source": [
    "#### Projection data for wind speed"
   ]
  },
  {
   "cell_type": "code",
   "execution_count": null,
   "id": "e7b914dc",
   "metadata": {
    "scrolled": false
   },
   "outputs": [],
   "source": [
    "(year, year_str, index)=year_copernicus(2098,2099)\n",
    "temporal_resolution = 'daily'\n",
    "\n",
    "#(df,period) = dataframe_csv_copernicus(temporal_resolution,year_str,copernicus_elements.experiments,copernicus_elements.models,out_path,global_variable, name_variable,'sfcWind',projects.Name[0],[area_projects[0][0],area_projects[1][0],area_projects[2][0],area_projects[3][0]])\n",
    "\n",
    "# df with separation of different projects\n",
    "# separate dataframe function\n",
    "NameProjects=list(projects['Name'])\n",
    "#NameProjects.remove('PT1_Pemba - Breidge Paquite')\n",
    "\n",
    "# Register data from copernicus for humidity in a dataframe and production of a csv file for the period indicated above\n",
    "k=0\n",
    "Temp=[]\n",
    "for name_project in NameProjects:\n",
    "    (df,period) = dataframe_csv_copernicus(temporal_resolution,year_str,copernicus_elements.experiments,copernicus_elements.models,out_path,global_variable, name_variable,name_project,[area_projects[0][k],area_projects[1][k],area_projects[2][k],area_projects[3][k]])  \n",
    "    Temp.append(df)\n",
    "    k+=1\n",
    "# last parameter is the area of one project, elements are fisrt col (min lat = 0, max lat = 1, min lon = 0, max lon = 1), then line (each ligne is coordinates for a project)"
   ]
  },
  {
   "cell_type": "code",
   "execution_count": null,
   "id": "c71a1716",
   "metadata": {},
   "outputs": [],
   "source": [
    "(year, year_str, index)=year_copernicus(2098,2099)\n",
    "temporal_resolution = 'daily'\n",
    "### does not work for PT1_Pemba - Breidge Paquite. When extract all, try to extract a json file (no need for it I think)\n",
    "### this makes everything going bad\n",
    "(df,period) = dataframe_csv_copernicus(temporal_resolution,year_str,copernicus_elements.experiments,copernicus_elements.models,out_path,global_variable, name_variable,'sfcWind','PT_ Dumping Site',[area_projects[0][6],area_projects[1][6],area_projects[2][6],area_projects[3][6]])"
   ]
  },
  {
   "cell_type": "code",
   "execution_count": null,
   "id": "1862670e",
   "metadata": {},
   "outputs": [],
   "source": [
    "projects['Name']"
   ]
  },
  {
   "cell_type": "code",
   "execution_count": null,
   "id": "956ecc34",
   "metadata": {},
   "outputs": [],
   "source": [
    "df"
   ]
  },
  {
   "cell_type": "code",
   "execution_count": null,
   "id": "2b786dba",
   "metadata": {},
   "outputs": [],
   "source": [
    "### BOXPLOTS\n",
    "\n",
    "\n",
    "df_reordered2 = df.reorder_levels(['Experiment', 'Model', 'Latitude', 'Date']) # reordering to ...\n",
    "df_reordered2_mean=df_reordered2.groupby(level=[0,1,2],axis=0,group_keys=True).mean()\n",
    "numpy_array = df_reordered2_mean.loc['ssp1_2_6','access_cm2'].values\n",
    "numpy_array=numpy_array.flatten() # make the array a vector to use it in boxplot function\n",
    "numpy_array1 = numpy_array[~np.isnan(numpy_array)]\n",
    "\n",
    "numpy_array = df_reordered2_mean.loc['ssp1_2_6','awi_cm_1_1_mr'].values\n",
    "numpy_array=numpy_array.flatten() # make the array a vector to use it in boxplot function\n",
    "numpy_array2 = numpy_array[~np.isnan(numpy_array)]\n",
    "\n",
    "numpy_array = df_reordered2_mean.loc['ssp1_2_6','bcc_csm2_mr'].values\n",
    "numpy_array=numpy_array.flatten() # make the array a vector to use it in boxplot function\n",
    "numpy_array3 = numpy_array[~np.isnan(numpy_array)]\n",
    "# boxplot do not deal with NaN, have to take them out\n",
    "dict_boxplot = plt.boxplot([numpy_array1,numpy_array2,numpy_array3],notch=True, whis =(10,90),widths = 0.15, patch_artist=True,labels=('access_cm2','awi_cm_1_1_mr','bcc_csm2_mr'))#,labels = 'access_cm2')# ... present boxplot over the period for each models\n",
    "# this functions returns varius parameters of the boxplot in the dict_boxplot. This funcitons also returns an image of it\n",
    "# here, numpy_array is a vector. But can also include array with several columns. Each columns will have a boxplot\n",
    "# 'notch' is true to enhance part where the median is\n",
    "# 'whis' is the percentile value for the whiskers, every data out of the range indicted by those 2 floats are represented as points\n",
    "# 'widths' determine width of the boxes\n",
    "# 'patch_artist' colors the boxplots\n",
    "# 'labels' gives a name to every column included in the data part\n",
    "str = 'Distribution of the average daily wind speed for different models \\nfor the year '+period+' and under scenario ssp1_2_6'\n",
    "title_png = 'Boxplot_models_ssp1_2_6'\n",
    "plt.title(str)\n",
    "plt.xlabel('Models')\n",
    "plt.ylabel('Average wind speed m/s')\n",
    "plt.savefig(os.path.join(out_path,'figures','Boxplots',title_png),format ='png') # savefig or save text must be before plt.show. for savefig, format should be explicity written\n",
    "plt.show()"
   ]
  },
  {
   "cell_type": "code",
   "execution_count": null,
   "id": "246da20e",
   "metadata": {},
   "outputs": [],
   "source": [
    "#### BOXPLOTS\n",
    "\n",
    "\n",
    "df_reordered3 = df.reorder_levels(['Experiment', 'Model', 'Latitude', 'Date']) # reordering to ...\n",
    "df_reordered3_mean=df_reordered3.groupby(level=[0,1,2],axis=0,group_keys=True).mean()\n",
    "numpy_array = df_reordered3_mean.loc['ssp1_2_6'].values\n",
    "numpy_array=numpy_array.flatten() # make the array a vector to use it in boxplot function\n",
    "numpy_array4 = numpy_array[~np.isnan(numpy_array)]\n",
    "# boxplot do not deal with NaN, have to take them out\n",
    "dict_boxplot = plt.boxplot(numpy_array4,notch=True, whis =(10,90),widths = 0.15, patch_artist=True,labels=('ssp1_2_6',))# ... present boxplot over the period for each models\n",
    "# this functions returns varius parameters of the boxplot in the dict_boxplot. This funcitons also returns an image of it\n",
    "# here, numpy_array is a vector. But can also include array with several columns. Each columns will have a boxplot\n",
    "# 'notch' is true to enhance part where the median is\n",
    "# 'whis' is the percentile value for the whiskers, every data out of the range indicted by those 2 floats are represented as points\n",
    "# 'widths' determine width of the boxes\n",
    "# 'patch_artist' colors the boxplots\n",
    "# 'labels' gives a name to every column included in the data part\n",
    "str = 'Distribution of the average daily wind speed accross models\\nfor the year 2099-2100 and under scenario ssp1_2_6'\n",
    "title_png = 'Boxplot_ssp1_2_6'\n",
    "plt.title(str)\n",
    "plt.xlabel('Models')\n",
    "plt.ylabel('Average wind speed m/s')\n",
    "plt.savefig(os.path.join(out_path,'figures','Boxplots',title_png),format ='png') # savefig or save text must be before plt.show. for savefig, format should be explicity written\n",
    "plt.show()"
   ]
  },
  {
   "cell_type": "markdown",
   "id": "b7b74e8a",
   "metadata": {},
   "source": [
    "<a id='humidity'></a>\n",
    "## Humidity\n",
    "\n",
    "Source : https://cds.climate.copernicus.eu/cdsapp#!/dataset/projections-cmip6?tab=form\n",
    "\n",
    "### Relative humidity\n",
    "\n",
    "Relative humidity of air: amount if moisture it contains compared to the maximum amount of moisture it can have at a specific temperature\n",
    "\n",
    "### Extraction of Relative humidity data"
   ]
  },
  {
   "cell_type": "code",
   "execution_count": null,
   "id": "0442d22b",
   "metadata": {},
   "outputs": [],
   "source": [
    "global_variable = 'Relative_Humidity'\n",
    "name_variable = 'near_surface_relative_humidity' # only available on a monthly basis"
   ]
  },
  {
   "cell_type": "markdown",
   "id": "0844c1b4",
   "metadata": {},
   "source": [
    "#### Historical data"
   ]
  },
  {
   "cell_type": "code",
   "execution_count": null,
   "id": "ecbd47e6",
   "metadata": {},
   "outputs": [],
   "source": [
    "(year_historical, year_str_historical, index_historical) = year_copernicus(1850,2014)\n",
    "temporal_resolution = 'monthly'\n",
    "\n",
    "# Register data from copernicus for humidity in a dataframe and production of a csv file for the period indicated above\n",
    "Humidity_historical = dataframe_csv_copernicus(temporal_resolution,year_str_historical,copernicus_elements.experiments_historical,copernicus_elements.models,out_path,global_variable, name_variable,area)    "
   ]
  },
  {
   "cell_type": "markdown",
   "id": "cadf53af",
   "metadata": {},
   "source": [
    "#### Projections"
   ]
  },
  {
   "cell_type": "code",
   "execution_count": null,
   "id": "81a6062f",
   "metadata": {},
   "outputs": [],
   "source": [
    "(year, year_str, index) = year_copernicus(2020,2100)\n",
    "temporal_resolution = 'monthly'\n",
    "\n",
    "# Register data from copernicus for humidity in a dataframe and production of a csv file for the period indicated above\n",
    "Humidity = dataframe_csv_copernicus(temporal_resolution,year_str,copernicus_elements.experiments,copernicus_elements.models,out_path,global_variable, name_variable,area)    "
   ]
  },
  {
   "cell_type": "markdown",
   "id": "5190f3f0",
   "metadata": {},
   "source": [
    "<a id='solar_radiation'></a>\n",
    "## Solar radiation"
   ]
  },
  {
   "cell_type": "code",
   "execution_count": null,
   "id": "85fd4321",
   "metadata": {},
   "outputs": [],
   "source": [
    "global_variable = 'Solar_radiation'\n",
    "# choose of the climate variable from copernicus to represent : choose of surface_downwelling_shortwave_radiation because\n",
    "# 1. interest for project located at the surface of the Earth\n",
    "# 2. for most project (for example solar panels), we are interest in radiation going down, not up\n",
    "# 3. Shortwave radiation are the ones produce by the sun\n",
    "name_variable = 'surface_downwelling_shortwave_radiation' # only available on a monthly basis"
   ]
  },
  {
   "cell_type": "markdown",
   "id": "b0a4ed45",
   "metadata": {},
   "source": [
    "#### Historical data for solar radiation"
   ]
  },
  {
   "cell_type": "code",
   "execution_count": null,
   "id": "480c7b0d",
   "metadata": {},
   "outputs": [],
   "source": [
    "(year_historical, year_str_historical, index_historical)=year_copernicus(1850,2016)\n",
    "temporal_resolution = 'monthly'\n",
    "# Register data from copernicus for humidity in a dataframe and production of a csv file for the period indicated above\n",
    "Solar_radiation_historical = dataframe_csv_copernicus(temporal_resolution,year_str_historical,copernicus_elements.experiments_historical,copernicus_elements.models,out_path,global_variable, name_variable,area)    "
   ]
  },
  {
   "cell_type": "markdown",
   "id": "b8a5e939",
   "metadata": {},
   "source": [
    "#### Projection for data solar radiation"
   ]
  },
  {
   "cell_type": "code",
   "execution_count": null,
   "id": "fbbc4df5",
   "metadata": {
    "scrolled": false
   },
   "outputs": [],
   "source": [
    "(year, year_str, index)=year_copernicus(2016,2017)#,2099)\n",
    "temporal_resolution = 'monthly'\n",
    "\n",
    "Projections_solar_radiation_projects = pd.DataFrame() # create an empty dataframe\n",
    "for (name_project,k) in zip(projects['Name'],np.arange(0,len(projects['Name']))):\n",
    "    (df,period) = csv_copernicus(temporal_resolution,year_str,copernicus_elements.experiments,copernicus_elements.models,out_path,global_variable, name_variable,name_project,[area_projects[0][k],area_projects[1][k],area_projects[2][k],area_projects[3][k]])  \n",
    "    Projections_solar_radiation_projects = pd.concat([Projections_solar_radiation_projects,df])\n",
    "path_for_csv = os.path.join(out_path,'csv','data',name_variable)\n",
    "Projections_solar_radiation_projects.to_csv('outputs/csv/data/Projections_solar_radiation_projects.csv')"
   ]
  },
  {
   "cell_type": "code",
   "execution_count": null,
   "id": "fdc20e08",
   "metadata": {},
   "outputs": [],
   "source": [
    "# create string for name of folder depending on type of period\n",
    "if temporal_resolution == 'fixed':\n",
    "    period = 'fixed'\n",
    "else:\n",
    "    period=year_str[0]+'-'+year_str[len(year_str)-1]\n",
    "name_project = name_project.replace('-','_') # take off every blank space of project names\n",
    "name_project = name_project.replace('/','_') # take off every / of project names\n",
    "name_project = name_project.replace(r'\"\\\"','_') # take off every \\ of project names\n",
    "path_for_csv = os.path.join(out_path,'csv','data',name_variable,name_project,period) # create path for csv file\n",
    "if len(os.listdir(path_for_csv)) == 0: #test if the directory is empty\n",
    "    # the csv file does not exist, even if the path exist\n",
    "    # the dataframe_copernicus functions aims to test if the data with the specific parameters exists (with copernicus_data)\n",
    "    # and then produce a csv file if the data exists\n",
    "    print('lalalalala')\n",
    "    (df,period)=dataframe_copernicus(temporal_resolution,year_str,experiments,models,out_path, global_variable, name_variable, name_project,area)\n",
    "else: # the directory is not empty\n",
    "    df=file_already_downloaded(path_for_csv,title_file)"
   ]
  },
  {
   "cell_type": "code",
   "execution_count": null,
   "id": "4266ed91",
   "metadata": {},
   "outputs": [],
   "source": [
    "Future_solar_radiation"
   ]
  },
  {
   "cell_type": "code",
   "execution_count": null,
   "id": "d1c85b54",
   "metadata": {
    "scrolled": true
   },
   "outputs": [],
   "source": [
    "(year, year_str, index)=year_copernicus(2015,2099)\n",
    "temporal_resolution = 'monthly'\n",
    "name_project = 'CompleteMozambique'\n",
    "\n",
    "Projections_solar_radiation_country = pd.DataFrame() # create an empty dataframe\n",
    "(Projections_solar_radiation_country,period) = csv_copernicus(temporal_resolution,year_str,copernicus_elements.experiments,copernicus_elements.models,out_path,global_variable, name_variable,name_project,area,'CMIP6-copernicus-GCM')  "
   ]
  },
  {
   "cell_type": "code",
   "execution_count": null,
   "id": "f07ec606",
   "metadata": {},
   "outputs": [],
   "source": [
    "### TEST to resolve probleme with path 'C:\\Users\\CLMRX\\OneDrive - COWI\\Documents\\GitHub\\CRVA_tool\\outputs\\Datasets\\surface_downwelling_shortwave_radiation\\CompleteMozambique\\ssp5_3_4os\\fgoals_g3\\2015-2099\\CMIP6-copernicus-GCM\\rsds_Amon_FGOALS-g3_ssp534-over_r1i1p1f1_gn_20150116-20991216_v20200410.nc'\n",
    "path_file = r'C:\\Users\\CLMRX\\OneDrive - COWI\\Documents\\GitHub\\CRVA_tool\\outputs\\Datasets\\surface_downwelling_shortwave_radiation\\CompleteMozambique\\ssp5_3_4os\\fgoals_g3\\2015-2099\\CMIP6-copernicus-GCM'\n",
    "#path_file = try_download_copernicus(temporal_resolution,SSP,name_variable,model,area,year,path_for_file,file_download,source)\n",
    "final_path=search_for_nc(path_file) # looking for the netCDF file in format .nc and look if path length is a problem at the same time\n"
   ]
  },
  {
   "cell_type": "code",
   "execution_count": null,
   "id": "9a3fbd14",
   "metadata": {},
   "outputs": [],
   "source": [
    "len(path_file)"
   ]
  },
  {
   "cell_type": "code",
   "execution_count": null,
   "id": "723e8cff",
   "metadata": {},
   "outputs": [],
   "source": [
    "# need to find name of column\n",
    "\n",
    "(year, year_str, index)=year_copernicus(2020,2100)\n",
    "temporal_resolution = 'monthly'\n",
    "name_project = 'CompleteMozambique'\n",
    "# Register data from copernicus for humidity in a dataframe and production of a csv file for the period indicated above\n",
    "#Solar_radiation = dataframe_csv_copernicus(temporal_resolution,year_str,copernicus_elements.experiments,copernicus_elements.models,out_path,global_variable, name_variable,area)\n",
    "if temporal_resolution == 'fixed':\n",
    "    period = 'fixed'\n",
    "else:\n",
    "    period=year_str[0]+'-'+year_str[len(year_str)-1]\n",
    "\n",
    "(dates, index_dates)=date_copernicus(temporal_resolution,year_str) # create time vector depending on temporal resolution\n",
    "\n",
    "path_for_file= os.path.join(out_path,'Datasets',name_variable,name_project,copernicus_elements.experiments[0],copernicus_elements.models[0],period)#,'')\n",
    "\n",
    "climate_variable_path=copernicus_data(temporal_resolution,copernicus_elements.experiments[0],name_variable,copernicus_elements.models[0],year_str,area,path_for_file,out_path,name_project)\n",
    "\n",
    "df = pd.DataFrame()\n",
    "experiment = (copernicus_elements.experiments[0],)\n",
    "model = (copernicus_elements.models[0],)\n",
    "df=register_data(climate_variable_path,name_project,index_dates,dates,experiment,model,df)\n"
   ]
  },
  {
   "cell_type": "code",
   "execution_count": null,
   "id": "db6d7c5b",
   "metadata": {},
   "outputs": [],
   "source": [
    "# need to find name of column\n",
    "\n",
    "(year, year_str, index)=year_copernicus(2020,2100)\n",
    "temporal_resolution = 'monthly'\n",
    "name_project = 'CompleteMozambique'\n",
    "# Register data from copernicus for humidity in a dataframe and production of a csv file for the period indicated above\n",
    "#Solar_radiation = dataframe_csv_copernicus(temporal_resolution,year_str,copernicus_elements.experiments,copernicus_elements.models,out_path,global_variable, name_variable,area)\n",
    "if temporal_resolution == 'fixed':\n",
    "    period = 'fixed'\n",
    "else:\n",
    "    period=year_str[0]+'-'+year_str[len(year_str)-1]\n",
    "\n",
    "(dates, index_dates)=date_copernicus(temporal_resolution,year_str) # create time vector depending on temporal resolution\n",
    "\n",
    "path_for_file= os.path.join(out_path,'Datasets',name_variable,name_project,copernicus_elements.experiments[0],copernicus_elements.models[0],period)#,'')\n",
    "\n",
    "climate_variable_path=copernicus_data(temporal_resolution,copernicus_elements.experiments[0],name_variable,copernicus_elements.models[0],year_str,area,path_for_file,out_path,name_project)\n",
    "#Open_path = Dataset(climate_variable_path) # open netcdf file\n",
    "df = pd.DataFrame()\n",
    "#df=register_data(climate_variable_path,index_dates,dates,copernicus_elements.experiments[0],copernicus_elements.models[0],df)\n",
    "Open_path = Dataset(climate_variable_path) # open netcdf file\n",
    "lat_dataframe = np.ma.getdata(Open_path.variables['lat']).data\n",
    "lon_dataframe = np.ma.getdata(Open_path.variables['lon']).data\n",
    "column_name = find_column_name(Open_path)\n",
    "data_with_all = ma.getdata(Open_path.variables[column_name]).data\n",
    "\n",
    "for moment in index_dates: # case if temporal resolution is daily\n",
    "    data_dataframe = data_with_all[moment,:,:]\n",
    "    Date = (dates[moment],) # create tuple for iteration of dataframe\n",
    "    \n",
    "    experiment = (copernicus_elements.experiments[0],)\n",
    "    model = (copernicus_elements.models[0],)\n",
    "    Name_Project = (name_project,)\n",
    "    \n",
    "    # Create the MultiIndex\n",
    "    midx = pd.MultiIndex.from_product([Name_Project,experiment,model, Date, lat_dataframe],names=['Name project','Experiment', 'Model', 'Date', 'Latitude'])\n",
    "    # multiindex to name the columns\n",
    "    lon_str = ('Longitude',)\n",
    "    cols = pd.MultiIndex.from_product([lon_str,lon_dataframe])\n",
    "    # Create the Dataframe\n",
    "    Variable_dataframe = pd.DataFrame(data = data_dataframe, \n",
    "                                index = midx,\n",
    "                                columns = cols)\n",
    "    # Concatenate former and new dataframe\n",
    "    df = pd.concat([df,Variable_dataframe])# register information for project\n",
    "\n",
    "Open_path.close # to spare memory\n",
    "#(df,period)=dataframe_csv_copernicus(temporal_resolution,year_str,experiments,models,out_path, global_variable, name_variable, name_project,area):    \n",
    "\n"
   ]
  },
  {
   "cell_type": "code",
   "execution_count": null,
   "id": "3142c046",
   "metadata": {},
   "outputs": [],
   "source": [
    "df"
   ]
  },
  {
   "cell_type": "code",
   "execution_count": null,
   "id": "b455d699",
   "metadata": {},
   "outputs": [],
   "source": [
    "climate_variables_variables=list(Open_path.variables)\n",
    "elements_not_climate_var =['time', 'time_bnds', 'lat', 'lat_bnds', 'lon', 'lon_bnds']\n",
    "\n",
    "column_name = list(set(climate_variables_variables).difference(elements_not_climate_var))\n",
    "column_name[0]"
   ]
  },
  {
   "cell_type": "code",
   "execution_count": null,
   "id": "0318b5b1",
   "metadata": {},
   "outputs": [],
   "source": [
    "start_date = \"01-01-\"+year_str[0] # string start date based on start year\n",
    "stop_date = \"31-12-\"+year_str[len(year_str)-1] # string stop date based on stop year\n",
    "\n",
    "dates = pd.date_range(start_date,stop_date,freq='MS') # vector of dates between start date and stop date\n",
    "# freq='MS' is month start frequency\n",
    "type(dates)"
   ]
  },
  {
   "cell_type": "code",
   "execution_count": null,
   "id": "89ff06a0",
   "metadata": {},
   "outputs": [],
   "source": [
    "dates=list(dates.strftime('%m-%Y'))\n",
    "#dates=list(dates)\n",
    "dates[0]"
   ]
  },
  {
   "cell_type": "markdown",
   "id": "788310cb",
   "metadata": {},
   "source": [
    "<a id='land_climate_variables'></a>\n",
    "# LAND\n",
    "\n",
    "[Home](#beginning_CRVA)"
   ]
  },
  {
   "cell_type": "markdown",
   "id": "338692f1",
   "metadata": {},
   "source": [
    "<a id='landslides'></a>\n",
    "## Landslides - Land\n",
    "\n",
    "source: https://datacatalog.worldbank.org/search/dataset/0037584 (Global Landslide Hazard Map, The World Bank)\n",
    "\n",
    "### Description of LS_TH : \n",
    "The Global Landslide Hazard Map presents a qualitative representation of global landslide hazard at a global scale. It is the combination of the The Global Landslide Hazard Map: Median Annual Rainfall-Triggered Landslide Hazard (1980-2018) and The Global Landslide Hazard Map: Earthquake-Triggered Landslide Hazard which has then been simplified to four rank categories, ranging from Very low to High landslide hazard, based on the existing system used by ThinkHazard! (www.thinkhazard.org)\n",
    "\n",
    "### Description of LS_RF_Median_1980-2018 :\n",
    "The Global Rainfall-Triggered Landslide Hazard Map presents a quantitative representation of landslide hazard. This component is the median annual rainfall-triggered landslide hazard assessment for the period 1980 – 2018. Raster values represent the modelled average annual frequency of significant rainfall-triggered landslides per sq. km."
   ]
  },
  {
   "cell_type": "code",
   "execution_count": null,
   "id": "1e1bd3c3",
   "metadata": {},
   "outputs": [],
   "source": [
    "\n",
    "#Landslides data path\n",
    "landslidesTH_path=os.path.join(data_folder,'landslides/wb_GlLandslHazard/ls_th/LS_TH.tif') ## Global landslide hazard map (TH ranks --> Think hazard ranks)\n",
    "landslidesRF_path=os.path.join(data_folder,'landslides/wb_GlLandslHazard/ls_rf_median_1980-2018/LS_RF_Median_1980-2018.tif')\n",
    "\n",
    "#spatial stats\n",
    "projects['landslides_THmax']=pd.DataFrame(zonal_stats(vectors=projects_buf, raster=landslidesTH_path, \n",
    "                                                            all_touched=True, stats='max'))\n",
    "projects['landslidesRF_medianMax']=pd.DataFrame(zonal_stats(vectors=projects_buf, raster=landslidesRF_path, \n",
    "                                                            all_touched=True, stats='max'))\n",
    "#show table\n",
    "projects[[project_id,'landslides_THmax','landslidesRF_medianMax']].head()\n",
    "\n",
    "#plot landslides TH\n",
    "fig, ax = plt.subplots()\n",
    "landslides = rioxarray.open_rasterio(landslidesTH_path)\n",
    "landslides_clip = landslides.rio.clip(study_area.geometry, study_area.crs, drop=True)\n",
    "landslides_clip.plot(ax=ax, cmap='Reds',vmin=1, vmax=4)\n",
    "points=projects.plot(ax=ax,cmap='Greys') # what are those points ????\n",
    "\n",
    "#close\n",
    "landslides.close()\n",
    "landslides_clip.close()\n",
    "\n",
    "# didn't achieved to present the RF datas\n",
    "#plot landslides RF\n",
    "#fig, ax = plt.subplots()\n",
    "#landslides = rioxarray.open_rasterio(landslidesRF_path)\n",
    "#landslides_clip = landslides.rio.clip(study_area.geometry, study_area.crs, drop=True)\n",
    "#landslides_clip.plot(ax=ax, cmap='Reds',vmin=1, vmax=4)\n",
    "#points=projects.plot(ax=ax,cmap='Greys') # what are those points ????\n",
    "#landslides.close()"
   ]
  },
  {
   "cell_type": "markdown",
   "id": "7b840dac",
   "metadata": {},
   "source": [
    "## Global wildfire hazard - Land\n",
    "\n",
    "This jupyter notebook is to study the global wildfire hazard\n",
    "\n",
    "Source : https://datacatalog.worldbank.org/search/dataset/0042058/Global-wildfire-hazard\n",
    "\n",
    "Description of the source : The approach to classify wildfire hazard levels used is based solely on fire weather index climatology. Fire weather indices are used in many countries to assess both the onset of conditions that will allow fires to spread, as well as the likelihood of fire at any point in the landscape. The method presented uses statistical modelling (extreme value analysis) of a 30 year fire weather climatology to assess the predicted fire weather intensity for specific return period intervals. These intensities are classified based on thresholds using conventions to provide hazard classes that correspond to conditions that can support problematic fire spread in the landscape if an ignition and sufficient fuel were to be present.\n",
    "\n",
    "Date of export : 23.03.23\n",
    "\n",
    "Projection FWI for europe : https://cds.climate.copernicus.eu/cdsapp#!/dataset/sis-tourism-fire-danger-indicators?tab=overview\n",
    "\n",
    "Projection seasonal severity rating of for EUrope : https://www.eea.europa.eu/data-and-maps/figures/projected-meteorological-forest-fire-danger\n",
    "\n",
    "Calculation of the FWI : https://cwfis.cfs.nrcan.gc.ca/background/summary/fwi\n",
    "\n",
    "GLOBAL PROJeTIONS NOT FOUND\n"
   ]
  },
  {
   "cell_type": "markdown",
   "id": "91c1bf95",
   "metadata": {},
   "source": [
    "## Soil erosion - Land\n",
    "\n",
    "Source for global actual situations : https://data.jrc.ec.europa.eu/dataset/jrc-esdac-120"
   ]
  },
  {
   "cell_type": "markdown",
   "id": "c064cf21",
   "metadata": {},
   "source": [
    "<a id='hydrosphere_climate_variables'></a>\n",
    "# HYDROSPHERE\n",
    "\n",
    "[Home](#beginning_CRVA)"
   ]
  },
  {
   "cell_type": "markdown",
   "id": "db1a31ad",
   "metadata": {},
   "source": [
    "<a id='relative_sea_level_rise'></a>\n",
    "## Relative sea level rise"
   ]
  },
  {
   "cell_type": "code",
   "execution_count": null,
   "id": "ae5e6708",
   "metadata": {},
   "outputs": [],
   "source": [
    "## use copernicus or NASA data ? NASA data are in COWI servor \\\\COWI.net\\projects\\A245000\\A248363\\CRVA\\Datasets\\SeaLevelRise\\Nasa\n",
    "# use mean sea level > https://cds.climate.copernicus.eu/cdsapp#!/dataset/sis-water-level-change-indicators-cmip6?tab=overview"
   ]
  },
  {
   "cell_type": "markdown",
   "id": "68ac7c48",
   "metadata": {},
   "source": [
    "<a id='sea_water_temperature'></a>\n",
    "## Sea water temperature"
   ]
  },
  {
   "cell_type": "code",
   "execution_count": null,
   "id": "992b5f1c",
   "metadata": {},
   "outputs": [],
   "source": [
    "global_variable = 'Sea_water_temperature'\n",
    "name_variable = 'sea_surface_temperature' # only estimate for the surface in the copernicus CMIP6"
   ]
  },
  {
   "cell_type": "markdown",
   "id": "91c53183",
   "metadata": {},
   "source": [
    "#### Historical data"
   ]
  },
  {
   "cell_type": "code",
   "execution_count": null,
   "id": "7ca3cac1",
   "metadata": {},
   "outputs": [],
   "source": [
    "(year_historical, year_str_historical, index_historical)=year_copernicus(1850,2014)\n",
    "temporal_resolution = 'monthly'\n",
    "# Register data from copernicus for humidity in a dataframe and production of a csv file for the period indicated above\n",
    "Sea_water_temperature_historical = dataframe_csv_copernicus(temporal_resolution,year_str_historical,copernicus_elements.experiments_historical,copernicus_elements.models,out_path,global_variable, name_variable,area)    "
   ]
  },
  {
   "cell_type": "markdown",
   "id": "d8909323",
   "metadata": {},
   "source": [
    "#### Projection data"
   ]
  },
  {
   "cell_type": "code",
   "execution_count": null,
   "id": "2d135b21",
   "metadata": {},
   "outputs": [],
   "source": [
    "(year, year_str, index)=year_copernicus(2020,2100)\n",
    "temporal_resolution = 'monthly'\n",
    "# Register data from copernicus for humidity in a dataframe and production of a csv file for the period indicated above\n",
    "Sea_water_temperature = dataframe_csv_copernicus(temporal_resolution,year_str,copernicus_elements.experiments,copernicus_elements.models,out_path,global_variable, name_variable,area)    "
   ]
  },
  {
   "cell_type": "markdown",
   "id": "534cc101",
   "metadata": {},
   "source": [
    "<a id='water_availability'></a>\n",
    "### Water availability\n",
    "Represented with water stress\n",
    "\n",
    "Did not find historical data, look into world bank\n",
    "\n",
    "Source for projections from 2020 to 2050 : https://www.wri.org/data/aqueduct-water-stress-projections-data\n",
    "Informations about how the shp is designed located here : data_folder, Water_Availability_WaterStress\\aqueduct_projections_20150309_shp\\aqueduct_projections_schematic_20140615 (excel sheet)"
   ]
  },
  {
   "cell_type": "code",
   "execution_count": null,
   "id": "9d1d4569",
   "metadata": {},
   "outputs": [],
   "source": [
    "## Projection of water stress\n",
    "# register path to water stress data\n",
    "water_stress_location_path=os.path.join(data_folder,'Water_Availability_WaterStress/aqueduct_projections_20150309_shp/aqueduct_projections_20150309.shp')\n",
    "# register data in default projection 4326\n",
    "water_stress = gpd.read_file(water_stress_location_path).to_crs(bCRS) # uncertain that projeciton is the default one\n",
    "ws_geometry = water_stress.geometry # register geometry for later\n",
    "# filter columns of dataframe that are not water stress related\n",
    "elements_to_drop=('sv','ut','bt','r','u','c','20','BasinID','dwnBasinID','Shape_Leng','Shape_Le_1') # if a column contains a str in this list, the column should be drop\n",
    "# 20 to remove the projections for 2020 (the projections were made in 2015)\n",
    "\n",
    "for name_column_out in elements_to_drop:\n",
    "    water_stress=water_stress.drop(water_stress.filter(regex=name_column_out).columns, axis=1)\n",
    "    \n",
    "# making name of columns more precise\n",
    "# information on column names come from \n",
    "#\\\\COWI.net\\projects\\A245000\\A248363\\CRVA\\Datasets\\Water_Availability_WaterStress\\aqueduct_projections_20150309_shp\\aqueduct_projections_schematic_20140615\n",
    "scenarios_ws=['ssp2_rcp45','ssp2_rcp85','ssp3_rcp85']\n",
    "projections_ws = ['projection_2030 ','projection_2040 ']\n",
    "old_name = ['ws', '30','40','24','28','38','tl']\n",
    "new_name = ['water stress ','projection_2030 ','projection_2040 ','ssp2_rcp45','ssp2_rcp85','ssp3_rcp85','']\n",
    "\n",
    "for o,n in zip(old_name,new_name): # iterate accross the two list at a time\n",
    "    water_stress.columns = water_stress.columns.str.replace(o, n) # replacing \"40\" by \"projection_2040\" in names of columns\n",
    "        \n",
    "# water_stress is a panda dataframe, not geopanda.dataframe. Need to convert it again in geopandas.geodataframe.GeoDataFrame. \n",
    "# Otherwise, impossible to use sjoin later\n",
    "water_stress = GeoDataFrame(water_stress, crs=bCRS, geometry=ws_geometry) # convert panda.dataframe in geopandas.geodataframe.GeoDataFrame\n",
    "\n",
    "# join information from water stress to projects\n",
    "\n",
    "projects=projects.sjoin(water_stress,how='left',predicate='within', lsuffix=\"_left\") # need to rename name of columns to make it understandable\n",
    "projects.drop('index_right', axis=1, inplace=True) # drop column containing index from water stress\n",
    "projects # projects stays a geopandas.geodataframe.GeoDataFrame"
   ]
  },
  {
   "cell_type": "code",
   "execution_count": null,
   "id": "e076e5c1",
   "metadata": {},
   "outputs": [],
   "source": [
    "Display_map_projects(projects,study_area,'water stress','Map presenting water stress projections for Mozambique projects', 2, 3, out_path)\n",
    "# This function aims to display every projects wanted by the user with a map as a background\n",
    "### Parameters of the function : \n",
    "# projects: geopanda.dataframe containing projects information\n",
    "# study_area: geopanda.dataframe containing study_area information\n",
    "# str_interest: string of the climate variable of interest to be represented\n",
    "# title_for_image: title for image composed of subplots\n",
    "# number_rows: the user should indicate the number of rows for the subplots\n",
    "# number_cols: the user should indicate the number of cols for the subplots\n",
    "# out_path: begenning of the path to register the image"
   ]
  },
  {
   "cell_type": "code",
   "execution_count": null,
   "id": "94dd92ea",
   "metadata": {
    "scrolled": true
   },
   "outputs": [],
   "source": [
    "# select climate variable to be represented\n",
    "columns_to_represent= list(projects.filter(regex='water stress').columns) # select columns that should be presented in plots\n",
    "columns_to_represent2=[ ('\\n').join(k.split(' ')[-2:])  for k in columns_to_represent] # delete 'water stress' from \n",
    "# the list column_to_represent and insert \\n to do a back to line\n",
    "number_plots = len(columns_to_represent)\n",
    "\n",
    "# create figure\n",
    "fig, axs = plt.subplots(nrows=2,ncols=3, sharex=True, sharey=True,figsize=(8,8))\n",
    "\n",
    "color_dict = {'Low':'green', 'Antarctica':'white', 'Asia':'pink', \n",
    "              'Europe':'green', 'North America':'brown',\n",
    "              'Oceania':'blue', 'Seven seas (open ocean)':'gray',\n",
    "              'South America':'red'}\n",
    "\n",
    "# map in the subplot\n",
    "k = 0\n",
    "\n",
    "for i in np.arange(0,3):# columns\n",
    "    for j in np.arange(0,2): # lines\n",
    "        base = study_area.plot(ax=axs[j][i],color='white', edgecolor='black')# background is map of the study area presenting \n",
    "        # country borders of this area\n",
    "        projects.plot(ax=axs[j][i], column=columns_to_represent[k])# plot the projects as points; legeng = True \n",
    "        # impose a color for the projects point depending on the value in the column\n",
    "        \n",
    "        # give subplot a title\n",
    "        ax_created = axs[j][i]\n",
    "        ax_created.title.set_text(columns_to_represent2[k])\n",
    "        \n",
    "        k+=1 # incrementation to iterate columns_to_represent\n",
    "plr\n",
    "plt.suptitle('Map presenting water stress projections for Mozambique projects') # give a global name to the image\n",
    "plt.savefig(os.path.join(out_path,'figures','water stress','Map presenting water stress projections for Mozambique projects'),format ='png') # savefig or save text must be before plt.show. for savefig, format should be explicity written\n",
    "plt.show()"
   ]
  },
  {
   "cell_type": "code",
   "execution_count": null,
   "id": "edbca3c9",
   "metadata": {},
   "outputs": [],
   "source": [
    "np.arange(0,3)"
   ]
  },
  {
   "cell_type": "code",
   "execution_count": null,
   "id": "7a2e45de",
   "metadata": {},
   "outputs": [],
   "source": [
    "axs"
   ]
  },
  {
   "cell_type": "code",
   "execution_count": null,
   "id": "e2840572",
   "metadata": {},
   "outputs": [],
   "source": [
    "projects"
   ]
  },
  {
   "cell_type": "code",
   "execution_count": null,
   "id": "1e1321c9",
   "metadata": {},
   "outputs": [],
   "source": [
    "columns_to_represent= list(projects.filter(regex='water stress').columns) # select columns that should be presented in plots\n",
    "columns_to_represent=[ (' ').join(k.split(' ')[-2:])  for k in columns_to_represent] # delete 'water stress' from the list column_to_represent"
   ]
  },
  {
   "cell_type": "code",
   "execution_count": null,
   "id": "1ccbd298",
   "metadata": {},
   "outputs": [],
   "source": [
    "columns_to_represent"
   ]
  },
  {
   "cell_type": "code",
   "execution_count": null,
   "id": "7234cf58",
   "metadata": {},
   "outputs": [],
   "source": [
    "[s.replace('water stress ', '') for s in columns_to_represent]\n",
    "columns_to_represent"
   ]
  },
  {
   "cell_type": "code",
   "execution_count": null,
   "id": "66bb0686",
   "metadata": {},
   "outputs": [],
   "source": [
    "# plot results for projects\n",
    "columns_to_represent= list(projects.filter(regex='water stress').columns) # select columns that should be presented in plots\n",
    "number_plots = len(columns_to_represent)\n",
    "\n",
    "# trying to do a map with shape of area and points projets\n",
    "#projects.plot(column='water stress projection_2030 ssp2_rcp45', legend=True)"
   ]
  },
  {
   "cell_type": "code",
   "execution_count": null,
   "id": "90469688",
   "metadata": {},
   "outputs": [],
   "source": [
    "fig, (ax1, ax2,ax3) = plt.subplots(ncols=3, sharex=True, sharey=True,figsize=(8,8))\n",
    "#norm = plt.colors.Normalize(vmin=projects.val.min(), vmax=projects.val.max()) # to normalize legend between the different plots\n",
    "# wait to see if new intallation worked\n",
    "base = study_area.plot(ax=ax1,color='white', edgecolor='black')\n",
    "projects.plot(ax=ax1, column='water stress projection_2030 ssp2_rcp45',legend=True)\n",
    "base = study_area.plot(ax=ax2,color='white', edgecolor='black')\n",
    "projects.plot(ax=ax2, column='water stress projection_2040 ssp2_rcp45',legend=True)\n",
    "base = study_area.plot(ax=ax3,color='white', edgecolor='black')\n",
    "projects.plot(ax=ax3, column='water stress projection_2030 ssp2_rcp85',legend=True)\n",
    "#projects.plot(column='water stress projection_2030 ssp2_rcp45',ax=base, legend=True);"
   ]
  },
  {
   "cell_type": "markdown",
   "id": "e6564dce",
   "metadata": {},
   "source": [
    "<a id='floods'></a>\n",
    "## Floods - Hydrosphere\n",
    "\n",
    "####  Fluvial\n",
    "Sources:\n",
    "1) JRC Flood Hazard Map, http://data.europa.eu/89h/jrc-floods-floodmapgl_rp100y-tif : The map depicts flood prone areas at global scale for flood events with 100-year return period. Resolution is 30 arcseconds (approx. 1km). Cell values indicate water depth (in m). The map can be used to assess flood exposure and risk of population and assets. NOTE: this dataset is based on JRC elaborations and is not an official flood hazard map (for details and limitations please refer to related publications).\n",
    "2) Dataset of tropical cyclone Idai and subsequent flood disaster in Southern Africa (March 2019). National Tibetan Plateau Data Center, https://data.tpdc.ac.cn/en/data/8d836d13-a8e6-492b-9324-00fbfce40619/ \n",
    "\n",
    "#### Coastal \n",
    "Source: WRI Aqueduct database"
   ]
  },
  {
   "cell_type": "code",
   "execution_count": null,
   "id": "14df49eb",
   "metadata": {},
   "outputs": [],
   "source": [
    "# save the path for the image presenting the floods which have a return period of a 100 year\n",
    "flood_path=os.path.join(data_folder,'floodMapGL_rp100y/floodMapGL_rp100y.tif')\n",
    "\n",
    "buffer_flood=1000#meters # pas sure : sert a avoir les \n",
    "if buffer_flood != 0:\n",
    "    projects_bufFlood=projects.to_crs(mCRS)  #project to crs with metric units to get buffer in meters\n",
    "    projects_bufFlood['geometry']=projects.to_crs(mCRS).buffer(buffer_flood) #assign the buffer as the new geometry - \n",
    "    projects_bufFlood=projects_bufFlood.to_crs(bCRS)#project back to orginal crs\n",
    "\n",
    "projects['floods100yr_max']=pd.DataFrame(zonal_stats(vectors=projects_bufFlood, raster=flood_path, \n",
    "                                                            all_touched=True, stats='max'))\n",
    "#plot\n",
    "fig, ax = plt.subplots()\n",
    "floods = rioxarray.open_rasterio(flood_path)\n",
    "floods_clip = floods.rio.clip(study_area.geometry, study_area.crs, drop=True)\n",
    "floods_clip.plot(ax=ax,cmap='Blues',vmin=0,vmax=25)\n",
    "projects.plot(ax=ax,color='Black') # mapping the projects located in the study area\n",
    "#cb.set_label('Water depth (m)') # name for color scale ne fonctionne pas car cette ligne appartient a basemap language\n",
    "ax.set_title('Floods extent with a\\nreturn period of 100 years') # set a title to the image\n",
    "\n",
    "#close\n",
    "floods_clip.close()\n",
    "floods.close()"
   ]
  },
  {
   "cell_type": "markdown",
   "id": "9a2421d5",
   "metadata": {},
   "source": [
    "#### Sea level rise\n",
    "\n",
    "Global Mean Sea Level\n",
    "Source : https://climate.nasa.gov/vital-signs/sea-level/ ; used the Global Mean Sea Level (Global Isostatic Adjustment (GIA) applied) variation (mm) with respect to 20-year TOPEX/Jason collinear mean reference \n",
    "\n",
    "Sea Level Trends\n",
    "Source : https://sealevel.colorado.edu/trend-map : sea level trend from 1992 to 2022"
   ]
  },
  {
   "cell_type": "markdown",
   "id": "b0881784",
   "metadata": {},
   "source": [
    "<a id='second_effect_climate_variables'></a>\n",
    "# Second effect climate variables\n",
    "\n",
    "[Home](#beginning_CRVA)"
   ]
  },
  {
   "cell_type": "markdown",
   "id": "ce6fbd21",
   "metadata": {},
   "source": [
    "<a id='cyclone_risk'></a>\n",
    "## Cyclones\n",
    "data source: https://wesr.unepgrid.ch/?project=MX-XVK-HPH-OGN-HVE-GGN&language=en UNEP-GRID, \n",
    "\n",
    "cyclone risk level from 1 (low) to 5 (extreme)"
   ]
  },
  {
   "cell_type": "code",
   "execution_count": null,
   "id": "a4a6dd62",
   "metadata": {},
   "outputs": [],
   "source": [
    "#cyclone data path\n",
    "cyclone_path=os.path.join(data_folder,'cyclones/unep_grid/cy_risk.tif')\n",
    " \n",
    "   # \\\\COWI.net\\projects\\A245000\\A248363\\CRVA\\Datasets\\cyclones\\unep_grid\n",
    "#spatial stats\n",
    "projects['cyclone_risk']=pd.DataFrame(zonal_stats(vectors=projects_buf, raster=cyclone_path, all_touched=True, stats='max'))\n",
    "\n",
    "#show table\n",
    "projects[[project_id,'cyclone_risk']].head()\n",
    "\n",
    "#plot\n",
    "fig, ax = plt.subplots()\n",
    "cyclone = rioxarray.open_rasterio(cyclone_path)\n",
    "cyclone_clip = cyclone.rio.clip(study_area.geometry, study_area.crs, drop=True)\n",
    "cyclone_clip.plot(ax=ax)\n",
    "projects.plot(ax=ax) # plot the projects on the map\n",
    "\n",
    "plt.title('Cyclone risk level') # title of the graph\n",
    "\n",
    "#close\n",
    "cyclone_clip.close()\n",
    "cyclone.close()"
   ]
  },
  {
   "cell_type": "markdown",
   "id": "c263a351",
   "metadata": {},
   "source": [
    "<a id='climate_change_info_for_each_project_in_study_area'></a>\n",
    "# Climate change information concerning the projects in the study area\n",
    "\n",
    "Display climate change information concerning the project you are looking into.\n",
    "\n",
    "[Home](#beginning_CRVA)"
   ]
  },
  {
   "cell_type": "code",
   "execution_count": null,
   "id": "8b397fbc",
   "metadata": {},
   "outputs": [],
   "source": [
    "# selection of projects in the study area\n",
    "#RAPY: not useful since study area is just for plotting purposes, projects should be only the relevant ones already\n",
    "#projects_of_interest=projects[projects.within(study_area)]\n",
    "\n",
    "# selection of the information to display\n",
    "list_of_names=['Name','province','climatology-hd40_2020-2039_ssp245_median',\n",
    "               'daily-median-Wind-2100-ssp5_8_5','landslides_THmax','floods100yr_max','cyclone_risk']\n",
    "\n",
    "# display selected climate change information of the projects in the study area\n",
    "projects_of_interest_filtered = projects[list_of_names]\n",
    "projects_of_interest_filtered"
   ]
  },
  {
   "cell_type": "markdown",
   "id": "6cae4afe",
   "metadata": {},
   "source": [
    "# Export\n",
    "Exports the calculated climate variables to a csv file\n",
    "\n",
    "[Home](#beginning_CRVA)"
   ]
  },
  {
   "cell_type": "code",
   "execution_count": null,
   "id": "9f64fe4a",
   "metadata": {},
   "outputs": [],
   "source": [
    "projects.T.to_csv('outputs/csv/projects_climate_risks.csv')"
   ]
  },
  {
   "cell_type": "code",
   "execution_count": null,
   "id": "1702c5cb",
   "metadata": {},
   "outputs": [],
   "source": []
  }
 ],
 "metadata": {
  "kernelspec": {
   "display_name": "Python 3 (ipykernel)",
   "language": "python",
   "name": "python3"
  },
  "language_info": {
   "codemirror_mode": {
    "name": "ipython",
    "version": 3
   },
   "file_extension": ".py",
   "mimetype": "text/x-python",
   "name": "python",
   "nbconvert_exporter": "python",
   "pygments_lexer": "ipython3",
   "version": "3.10.6"
  }
 },
 "nbformat": 4,
 "nbformat_minor": 5
}
