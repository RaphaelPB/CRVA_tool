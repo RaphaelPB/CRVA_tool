{
 "cells": [
  {
   "cell_type": "markdown",
   "id": "c6fb3dd0",
   "metadata": {},
   "source": [
    "<a id='beginning_CRVA'></a>\n",
    "# Climate Risk and Vulnerability Analysis\n",
    "This notebook helps you download and visualize climate data to perform Climate Risk and Vulnerability analyses\n",
    "\n",
    "## Usage\n",
    "this is how to use this script\n",
    "\n",
    "1. [Define user input](#user_input)\n",
    "2. [Run wanted climate variables](#climate_variables)\n",
    "    1. [Atmosphere's climate variables](#atmosphere_climate_variables)\n",
    "    2. [Land climate's variables](#land_climate_variables)\n",
    "    3. [Hydrosphere's climate variables](#hydrosphere_climate_variables)\n",
    "    4. [Second effect's climate variables](#second_effect_climate_variables)\n",
    "3. [Export data](#Export)\n",
    "\n",
    "## Input data\n",
    "\n",
    "* [Shapefile with project location(s) as points or polygon](#load_shapefile)\n",
    "* List of variables\n",
    "* List of SSP's\n",
    "* List of time horizons\n",
    "\n",
    "## [Climate variables](#climate_variables)\n",
    "### [Atmosphere's climate variables](#atmosphere_climate_variables)\n",
    "* [Precipitation](#worldbank)\n",
    "* [Temperature](#worldbank)\n",
    "* [Wind](#wind)\n",
    "* [Humidity](#humidity)\n",
    "* [Solar radiation](#solar_radiation)\n",
    "* Air quality deterioration\n",
    "### [Land's climate variables](#land_climate_variables)\n",
    "* [Landslides](#landslides)\n",
    "* Coastal erosion\n",
    "* Soil erosion\n",
    "* Soil salinity\n",
    "### [Hydrosphere's climate variables](#hydrosphere_climate_variables)\n",
    "* [Relative sea level rise](#relative_sea_level_rise)\n",
    "* [Seawater temperature](#sea_water_temperature)\n",
    "* [Water availability](#water_availability)\n",
    "* floods (fluvial)\n",
    "* floods (coastal)\n",
    "* forest fires\n",
    "### [Second effects of climate variables](#second_effect_climate_variables)\n",
    "* Storms\n",
    "* Dust storms\n",
    "* Wildfire\n",
    "* Urban heat island\n",
    "* Growinf season length\n",
    "* [cyclone risk](#cyclone_risk)\n",
    "\n",
    "\n",
    "\n",
    "* earthquakes (not climate related)\n",
    "\n",
    "## Climate impacts\n",
    "* calculate impact on yields\n",
    "\n",
    "## [Climate change information concerning the projects in the study area](#climate_change_info_for_each_project_in_study_area)\n",
    "\n",
    "\n",
    "## Contact\n",
    "\n",
    "rapy@cowi.com\n"
   ]
  },
  {
   "cell_type": "markdown",
   "id": "93fe4ed9",
   "metadata": {},
   "source": [
    "<a id='user_input'></a>\n",
    "## User inputs\n",
    "\n",
    "[Home](#beginning_CRVA)"
   ]
  },
  {
   "cell_type": "code",
   "execution_count": 1,
   "id": "51f07a6b",
   "metadata": {},
   "outputs": [],
   "source": [
    "#User inputs\n",
    "import os.path\n",
    "\n",
    "\n",
    "#project locations (shapefile with location of elements to evaluate)\n",
    "data_folder=r'\\\\COWI.net\\projects\\A245000\\A248363\\CRVA\\Datasets'\n",
    "#data_folder=os.path.join(os.pardir,'dataset')\n",
    "project_location_path=os.path.join(data_folder,'Mozambique_PPIS/EIB_locations_few.shp')\n",
    "project_id='Name' #name of column used as id\n",
    "\n",
    "#study boundary (optional)\n",
    "study_area_path=os.path.join(data_folder,'Mozambique_PPIS/mozambique.shp')\n",
    "\n",
    "#output folder\n",
    "#out_path=r'\\\\COWI.net\\projects\\A245000\\A248363\\CRVA\\Scripts\\outputs'\n",
    "out_path=r'C:\\Users\\CLMRX\\OneDrive - COWI\\Documents\\GitHub\\CRVA_tool\\outputs'\n",
    "\n",
    "#projection CRS (default = 'EPSG:4326')\n",
    "bCRS='EPSG:4326'\n",
    "\n",
    "#buffer for climate/grid variables\n",
    "buffer=40000 #buffer in meters, 0 = no buffer is computed\n",
    "\n",
    "mCRS='EPSG:31983' #metric CRS for buffer in meters (find relevant metric CRS for location!)\n",
    "\n",
    "\n",
    "#### Year of study\n",
    "#IDEA IS TO GIVE POSSIBILITY FOR THE USER TO CHOOSE DEPENDING on PROJECT (could choose on year or a period but precise period make more sense)\n",
    "#SET by default for the moment\n",
    "\n",
    "first_year = 2025 # start year included\n",
    "last_year = 2026 # last year included\n",
    "\n",
    "\n",
    "# For data coming from copernicus, historical data are commonly 1850-2005"
   ]
  },
  {
   "cell_type": "markdown",
   "id": "f62ceae0",
   "metadata": {},
   "source": [
    "## Import python packages"
   ]
  },
  {
   "cell_type": "code",
   "execution_count": 2,
   "id": "2fd37531",
   "metadata": {},
   "outputs": [
    {
     "name": "stderr",
     "output_type": "stream",
     "text": [
      "C:\\Users\\CLMRX\\AppData\\Local\\Temp\\1\\ipykernel_226936\\3509116232.py:4: UserWarning: Shapely 2.0 is installed, but because PyGEOS is also installed, GeoPandas will still use PyGEOS by default for now. To force to use and test Shapely 2.0, you have to set the environment variable USE_PYGEOS=0. You can do this before starting the Python process, or in your code before importing geopandas:\n",
      "\n",
      "import os\n",
      "os.environ['USE_PYGEOS'] = '0'\n",
      "import geopandas\n",
      "\n",
      "In a future release, GeoPandas will switch to using Shapely by default. If you are using PyGEOS directly (calling PyGEOS functions on geometries from GeoPandas), this will then stop working and you are encouraged to migrate from PyGEOS to Shapely 2.0 (https://shapely.readthedocs.io/en/latest/migration_pygeos.html).\n",
      "  import geopandas as gpd\n"
     ]
    }
   ],
   "source": [
    "#Import python packages\n",
    "from rasterstats import zonal_stats\n",
    "import pandas as pd\n",
    "import geopandas as gpd\n",
    "import rasterio\n",
    "from rasterio.plot import show\n",
    "import rioxarray #used when calling ncdata.rio.write_crs\n",
    "import xarray as xr\n",
    "import os\n",
    "import os.path\n",
    "import matplotlib.pyplot as plt\n",
    "import netCDF4 as nc#not directly used but needs to be imported for some nc4 files manipulations, use for nc files\n",
    "from netCDF4 import Dataset\n",
    "import csv #REMOVE ? not in use ?\n",
    "import numpy as np\n",
    "import numpy.ma as ma\n",
    "from mpl_toolkits.basemap import Basemap\n",
    "import shutil # to move folders\n",
    "import warnings\n",
    "warnings.filterwarnings('ignore') # to ignore the warnings\n",
    "#import io\n",
    "import cdsapi # for copernicus function\n",
    "import datetime # to have actual date\n",
    "from osgeo import gdal, ogr, osr # in order to convert shp in raster\n",
    "from geopandas import GeoDataFrame\n",
    "from shapely.geometry import Point\n",
    "from matplotlib.lines import Line2D\n",
    "\n",
    "# to perform bias correction\n",
    "from bias_correction import BiasCorrection, XBiasCorrection\n",
    "from statsmodels.distributions.empirical_distribution import ECDF\n",
    "from scipy.stats import gamma, norm\n",
    "from scipy.signal import detrend\n",
    "\n",
    "# import functions and class defined in another file named FunctionsAndClass\n",
    "## Functions\n",
    "from FunctionsAndClass import copernicus_data\n",
    "from FunctionsAndClass import year_copernicus\n",
    "from FunctionsAndClass import date_copernicus\n",
    "from FunctionsAndClass import csv_copernicus\n",
    "from FunctionsAndClass import Display_map\n",
    "from FunctionsAndClass import read_cckp_ncdata\n",
    "from FunctionsAndClass import get_cckp_file_name\n",
    "from FunctionsAndClass import Display_map_projects\n",
    "from FunctionsAndClass import register_data # import to test\n",
    "from FunctionsAndClass import find_column_name # import to test\n",
    "from FunctionsAndClass import search_for_nc # import to test\n",
    "from FunctionsAndClass import try_download_copernicus # import to test\n",
    "\n",
    "\n",
    "## Class\n",
    "from FunctionsAndClass import calendar\n",
    "from FunctionsAndClass import copernicus_elements\n",
    "from FunctionsAndClass import map_elements"
   ]
  },
  {
   "cell_type": "markdown",
   "id": "e907e131",
   "metadata": {},
   "source": [
    "<a id='load_shapefile'></a>\n",
    "## Load shapefiles and plot"
   ]
  },
  {
   "cell_type": "code",
   "execution_count": 3,
   "id": "7213162f",
   "metadata": {},
   "outputs": [
    {
     "data": {
      "image/png": "[encoded data removed]",
      "text/plain": [
       "<Figure size 640x480 with 1 Axes>"
      ]
     },
     "metadata": {},
     "output_type": "display_data"
    },
    {
     "data": {
      "image/png": "[encoded data removed]",
      "text/plain": [
       "<Figure size 640x480 with 1 Axes>"
      ]
     },
     "metadata": {},
     "output_type": "display_data"
    },
    {
     "data": {
      "image/png": "[encoded data removed]",
      "text/plain": [
       "<Figure size 640x480 with 1 Axes>"
      ]
     },
     "metadata": {},
     "output_type": "display_data"
    }
   ],
   "source": [
    "#load shapefiles\n",
    "projects = gpd.read_file(project_location_path).to_crs(bCRS)\n",
    "study_area = gpd.read_file(study_area_path).to_crs(bCRS)\n",
    "\n",
    "#calculate buffer around points/shape\n",
    "if buffer != 0:\n",
    "    projects_buf=projects.to_crs(mCRS)  #project to crs with metric units to get buffer in meters\n",
    "    projects_buf['geometry']=projects.to_crs(mCRS).buffer(buffer) #assign the buffer as the new geometry - \n",
    "    projects_buf=projects_buf.to_crs(bCRS)#project back to orginal crs\n",
    "\n",
    "    \n",
    "#plot shapefiles\n",
    "study_area.plot()\n",
    "projects.plot()\n",
    "projects_buf.plot() \n",
    "\n",
    "\n",
    "#show table\n",
    "projects[[project_id]]\n",
    "\n",
    "# register geographic information concerning projects\n",
    "lon_projects = projects['geometry'].x\n",
    "lat_projects = projects['geometry'].y\n",
    "area_projects = [lat_projects - 5, lat_projects+5, lon_projects-5,lon_projects+5] # list format\n",
    "# 5 degres trop grand \n",
    "#### determination of the geographical zone of interest \n",
    "lat_min_wanted = min(study_area['LAT'])-10\n",
    "lat_max_wanted = max(study_area['LAT'])+10\n",
    "lon_min_wanted = min(study_area['LON'])-20\n",
    "lon_max_wanted = max(study_area['LON'])+20\n",
    "# addind and substracting to lon and lat to have margin\n",
    "# substracting more to longitude because the range of longitude is -180 to 180. The range of latitude is -90 to 90\n",
    "\n",
    "area = [lat_min_wanted, lon_min_wanted, lat_max_wanted,lon_max_wanted,] # used to download from copernicus\n",
    "\n",
    "### YEAR\n",
    "year = np.arange(first_year,(last_year+1),1) # create vector of years\n",
    "year_str = [0]*len(year) # create initiale empty vector to convert years in int\n",
    "index = np.arange(0,len(year)) # create vector of index for year\n",
    "i = 0 # initialize index\n",
    "for i in index: # convert all the date in string format\n",
    "    year_str[i]=str(year[i])\n",
    "\n",
    "start_date = \"01-01-\"+year_str[0] # string start date based on start year\n",
    "stop_date = \"31-12-\"+year_str[len(year)-1] # string stop date based on stop year\n",
    "dates = pd.date_range(start_date,stop_date) # vector of dates between start date and stop date\n",
    "index_dates = np.arange(0,len(dates)) # vector containning index o dates vector"
   ]
  },
  {
   "cell_type": "code",
   "execution_count": null,
   "id": "5b27e633",
   "metadata": {},
   "outputs": [],
   "source": [
    "base = study_area.plot(color='white', edgecolor='black')\n",
    "projects.plot(ax=base, marker='o', color='blue', markersize=5);"
   ]
  },
  {
   "cell_type": "code",
   "execution_count": null,
   "id": "71e843bc",
   "metadata": {},
   "outputs": [],
   "source": [
    "library(NASAaccess)\n",
    "\n",
    "NEX_GDDP_CMIP6(Dir = \"./NEX_GDDP_CMIP6/\", \n",
    "               watershed = shape_path,\n",
    "              dem_path,  \n",
    "              start = \"2060-12-1\", \n",
    "              end = \"2060-12-3\",\n",
    "              model = 'ACCESS-CM2', \n",
    "              type = 'tas', \n",
    "              slice = 'ssp245')"
   ]
  },
  {
   "cell_type": "code",
   "execution_count": null,
   "id": "dc2a670b",
   "metadata": {},
   "outputs": [],
   "source": [
    "import requests\n",
    "\n",
    "filepath = 'https://ds.nccs.nasa.gov/thredds2/fileServer/AMES/NEX/GDDP-CMIP6/ACCESS-CM2/historical/r1i1p1f1/hurs/hurs_day_ACCESS-CM2_historical_r1i1p1f1_gn_1950.nc'\n"
   ]
  },
  {
   "cell_type": "code",
   "execution_count": null,
   "id": "83e8b31f",
   "metadata": {},
   "outputs": [],
   "source": [
    "import csv\n",
    "import os\n",
    "import hashlib\n",
    "import logging\n",
    "from subprocess import run as srun\n",
    "from urllib.parse import urlparse\n",
    "logging.basicConfig(level=logging.INFO)\n",
    "def download(uri, ofile, md5):\n",
    "    srun(['curl', '-s', '-o', ofile, uri], capture_output=True, check=True) # without curl, file is corrupted\n",
    "    md5dld = str(hashlib.md5(open(ofile, 'rb').read()).hexdigest())\n",
    "    if md5 != md5dld:\n",
    "        logging.warning(\"%s != %s\", md5, md5dld)\n",
    "    logging.info(\"uri %s (%s == %s) : %s\", uri, md5, md5dld, ofile)\n",
    "\n",
    "with open('gddp-cmip6-thredds-fileserver.csv') as index:\n",
    "    fobjects = csv.reader(index)\n",
    "    next(fobjects)\n",
    "    next(fobjects)\n",
    "    next(fobjects)\n",
    "    next(fobjects)\n",
    "    for objs in fobjects:\n",
    "        md5, uri = [o.strip() for o in objs]\n",
    "        prsout = urlparse(uri)\n",
    "        ofile = os.path.split(prsout.path)[1]\n",
    "        download(uri, ofile, md5)"
   ]
  },
  {
   "cell_type": "code",
   "execution_count": null,
   "id": "81c4a35d",
   "metadata": {},
   "outputs": [],
   "source": [
    "os.path.isfile('hurs_day_ACCESS-CM2_historical_r1i1p1f1_gn_1950.nc')"
   ]
  },
  {
   "cell_type": "code",
   "execution_count": null,
   "id": "727a45a4",
   "metadata": {},
   "outputs": [],
   "source": []
  },
  {
   "cell_type": "code",
   "execution_count": null,
   "id": "097b7ee5",
   "metadata": {},
   "outputs": [],
   "source": [
    "Dataset(\"hurs_day_ACCESS-CM2_historical_r1i1p1f1_gn_1950.nc\", format='NETCDF4_CLASSIC')"
   ]
  },
  {
   "cell_type": "code",
   "execution_count": null,
   "id": "3a28efab",
   "metadata": {},
   "outputs": [],
   "source": [
    "import gc\n",
    "import os\n",
    "\n",
    "import click\n",
    "import pandas as pd\n",
    "import xarray as xr\n",
    "from xsd.bcsd import bcsd, disagg\n",
    "\n"
   ]
  },
  {
   "cell_type": "markdown",
   "id": "a84709b2",
   "metadata": {},
   "source": [
    "<a id='climate_variables'></a>\n",
    "# Climate variables\n",
    "\n",
    "[Home](#beginning_CRVA)"
   ]
  },
  {
   "cell_type": "markdown",
   "id": "fded3e5a",
   "metadata": {},
   "source": [
    "<a id='atmosphere_climate_variables'></a>\n",
    "# ATMOSPHERE\n",
    "\n",
    "[Home](#beginning_CRVA)"
   ]
  },
  {
   "cell_type": "markdown",
   "id": "5df87640",
   "metadata": {},
   "source": [
    "<a id='worldbank'></a>\n",
    "## World Bank Climate knowledge portal, Precipitation and Temperature - Atmosphere\n",
    "data source: https://climateknowledgeportal.worldbank.org/download-data\n",
    "\n",
    "List of different variables:\n",
    "\n",
    "### Precipitation \n",
    "* return period of current 50 and 100 year event\n",
    "* yearly average precipitation\n",
    "* seasonal average precipitation - OR MONTH? i word documnet: average dry season precipitation \n",
    "* maximum precipitation in one day - NOT REALLY, instead \"Average of the largest daily precipitation amount\" rx1day \n",
    "* maximum precipitation in five days - NOT REALLY, instead \"Average of the largest 5-day consecutive precipitation amount\".\n",
    "* FORSLAG: Could also include: precipitation amount from very wet days/ days >50mm. eg. \n",
    "\n",
    "### Temperature\n",
    "* Yearly mean temperature (average) - tas \n",
    "* Number of hot days >40 degrees C (average)\n",
    "* Number of hot days >35 degrees C (average) \n",
    "* Maximum of daily max-temperature (per year) -txx\n",
    "* Average of maximum temperature (daily??) - tasmax \n",
    "\n",
    "### How to use\n",
    "define \n",
    "\n",
    "`variables = {variablename1:{'periods':['2020-2039'],'ssps':['ssp245','ssp370'],'gcms':['median','p10','p90']}, variablename2:...}`\n",
    "\n",
    "where variablename corresponds to a variable name in the cckp, periods include the desired periods, ssps the desired ssp-rcp scenarios, and gcms can be either median, p10, or p90 (50%, 10%, and 90% percentile of ensemble models)."
   ]
  },
  {
   "cell_type": "code",
   "execution_count": null,
   "id": "d8b0eada",
   "metadata": {},
   "outputs": [],
   "source": [
    "#Read downloaded precipitation and temperature data\n",
    "#settings\n",
    "\n",
    "variables= {\n",
    "    #Temperature\n",
    "        #era/cru\n",
    "            #'climatology-hd35-annual-mean_era':{'periods':['1991-2020']},\n",
    "            'climatology-hd40-annual-mean_era':{'periods':['1991-2020']},\n",
    "            'climatology-tasmax-annual-mean_era':{'periods':['1991-2020']}, \n",
    "            'climatology-tas-annual-mean_era':{'periods':['1991-2020']},\n",
    "            'climatology-tasmax-annual-mean_cru':{'periods':['1991-2020']}, \n",
    "        #realtime\n",
    "            'climatology-hd40':{'periods':['2020-2039'],'ssps':['ssp245','ssp370'],'gcms':['median','p10','p90']},\n",
    "            'anomaly-hd40':{'periods':['2020-2039'],'ssps':['ssp245','ssp370'],'gcms':['median']},\n",
    "            #'anomaly-hd35':{'periods':['2020-2039'],'ssps':['ssp245','ssp370'],'gcms':['median','p10','p90']},\n",
    "            #'anomaly-tasmax':{'periods':['2020-2039','2040-2059'],'ssps':['ssp245','ssp370'],'gcms':['median','p10','p90']}, \n",
    "            'anomaly-txx':{'periods':['2020-2039','2040-2059'],'ssps':['ssp245','ssp370'],'gcms':['median','p10','p90']}, #txx=maximum of daily max temperature\n",
    "            'climatology-txx':{'periods':['2020-2039','2040-2059'],'ssps':['ssp245','ssp370'],'gcms':['median','p10','p90']},\n",
    "            'anomaly-tas':{'periods':['2020-2039'],'ssps':['ssp245','ssp370'],'gcms':['median','p10','p90']},\n",
    "            'climatology-tas':{'periods':['2020-2039','2040-2059'],'ssps':['ssp245','ssp370'],'gcms':['median','p10','p90']}, #data not downloaded \n",
    "    #Precipitation\n",
    "       #era/cru\n",
    "            #'climatology-r50mm-annual-mean_era_annual':{'periods':['1991-2020']},\n",
    "            'climatology-rx1day-monthly-mean_era_monthly':{'periods':['1991-2020']},\n",
    "            'climatology-rx1day-annual-mean_era_annual':{'periods':['1991-2020']},\n",
    "            'climatology-pr-annual-mean_era_annual':{'periods':['1991-2020']},\n",
    "            'climatology-pr-monthly-mean_era_monthly':{'periods':['1991-2020']},\n",
    "            'climatology-pr-annual-mean_cru':{'periods':['1991-2020']},\n",
    "        #realtime\n",
    "            'frp100yr-rx1day-period-mean_cmip6_period':{'periods':['2010-2039','2035-2064'],'ssps':['ssp245','ssp370'],'gcms':['median','p10','p90']}, \n",
    "            'frp50yr-rx1day-period-mean_cmip6_period':{'periods':['2010-2039'],'ssps':['ssp245','ssp370'],'gcms':['median','p10','p90']},\n",
    "            'climatology-rx5day-annual-mean_cmip6_annual':{'periods':['2020-2039','2040-2059'],'ssps':['ssp245','ssp370'],'gcms':['median','p10','p90']},\n",
    "            'climatology-rx1day-annual-mean_cmip6_annual':{'periods':['2020-2039','2040-2059'],'ssps':['ssp245','ssp370'],'gcms':['median','p10','p90']},\n",
    "            'climatology-pr-monthly-mean_cmip6_monthly':{'periods':['2020-2039','2040-2059'],'ssps':['ssp245','ssp370'],'gcms':['median','p10','p90']},\n",
    "            'climatology-pr-annual-mean_cmip6_annual':{'periods':['2020-2039','2040-2059'],'ssps':['ssp245','ssp370'],'gcms':['median','p10','p90']},\n",
    "            'climatology-pr-seasonal-mean_cmip6_seasonal':{'periods':['2020-2039','2040-2059'],'ssps':['ssp245','ssp370'],'gcms':['median','p10','p90']},\n",
    "            'changefactorfaep100yr-rx1day-period-mean_cmip6_period':{'periods':['2010-2039'],'ssps':['ssp245','ssp370'],'gcms':['median','p10','p90']},\n",
    "            #'anomaly-pr-monthly-mean_cmip6_monthly':{'periods':['2040-2059'],'ssps':['ssp245','ssp370'],'gcms':['median','p10','p90']}\n",
    "            }\n",
    "       ## 'timeseries-rx1day':{'periods':['2015-2100'],'ssps':['ssp245'],'gcms':['median']} # Den kan ikke læse den - brokker sig over Dimension time=0. \n",
    "       \n",
    "#Create multi index for cckp_output\n",
    "idx=pd.IndexSlice\n",
    "mindex=[]\n",
    "for var in variables.keys():\n",
    "    for period in variables[var]['periods']:\n",
    "        if period in ['1991-2020']:\n",
    "            mindex.append((var,period,None,None))\n",
    "        else:\n",
    "            for ssp in variables[var]['ssps']:\n",
    "                    for gcm in variables[var]['gcms']:\n",
    "                        mindex.append((var,period,ssp,gcm))\n",
    "mindex=pd.MultiIndex.from_tuples(mindex, names=['variable', 'period','ssp','gcm'])\n",
    "#cckp_output=pd.DataFrame(index=projects[project_id],columns=mindex)\n",
    "cckp_output=pd.DataFrame(index=mindex,columns=projects[project_id])\n",
    "\n",
    "#read data from cckp and spatial statistics\n",
    "for var in variables.keys():\n",
    "    for period in variables[var]['periods']:\n",
    "        if period in ['1991-2020']: # for era/cru data\n",
    "            varname='_'.join((var,period))\n",
    "            data_path=get_cckp_file_name(var,period=period)\n",
    "            if os.path.exists(data_path):\n",
    "                data=read_cckp_ncdata(data_path)\n",
    "                stats=pd.DataFrame(zonal_stats(vectors=projects_buf, raster=data,all_touched=True, stats='mean'))\n",
    "                projects[varname]=stats\n",
    "                #cckp_output.loc[:,idx[var,period,:,:]]=stats.values\n",
    "                cckp_output.loc[idx[var,period,:,:],:]=stats.T.values\n",
    "            else:\n",
    "                print(data_path,\"not found\")\n",
    "                projects[varname]='not found'\n",
    "        elif period not in ['1991-2020']: #for realtime data \n",
    "                for ssp in variables[var]['ssps']:\n",
    "                    for gcm in variables[var]['gcms']:\n",
    "                        varname='_'.join((var,period,ssp,gcm))\n",
    "                        data_path=get_cckp_file_name(var,ssp=ssp,period=period,gcm=gcm)\n",
    "                        if os.path.exists(data_path):\n",
    "                            data=read_cckp_ncdata(data_path)\n",
    "                            stats=pd.DataFrame(zonal_stats(vectors=projects_buf, raster=data,all_touched=True, stats='mean'))\n",
    "                            projects[varname]=stats\n",
    "                            #cckp_output.loc[:,idx[var,period,ssp,gcm]]=stats.values\n",
    "                            cckp_output.loc[idx[var,period,ssp,gcm],:]=stats.T.values\n",
    "                        else:\n",
    "                            print(data_path,\"not found\")\n",
    "                            projects[varname]='not found'\n",
    "\n",
    "\n",
    "#plot, show #ADD enlarge the clip + something wierd with nodata value\n",
    "cckp_output.to_csv('outputs/csv/cckp_output.csv')\n",
    "projects[[project_id,varname]].head()\n",
    "\n",
    "fig, ax = plt.subplots()\n",
    "precip = rioxarray.open_rasterio(data)\n",
    "precip_clip = precip.rio.clip(study_area.geometry, study_area.crs, drop=True)\n",
    "precip_clip.plot(ax=ax)\n",
    "projects.plot(ax=ax)\n",
    "\n",
    "#close\n",
    "precip.close()"
   ]
  },
  {
   "cell_type": "markdown",
   "id": "2a84cafc",
   "metadata": {},
   "source": [
    "<a id='wind'></a>\n",
    "## Wind Speed\n",
    "\n",
    "Daily wind speed, historical and projected.\n",
    "\n",
    "Data source : https://cds.climate.copernicus.eu/cdsapp#!/dataset/projections-cmip6?tab=form"
   ]
  },
  {
   "cell_type": "code",
   "execution_count": null,
   "id": "65af01ca",
   "metadata": {},
   "outputs": [],
   "source": [
    "### Extraction of Near-surface wind speed data\n",
    "global_variable = 'Wind'\n",
    "name_variable = 'near_surface_wind_speed'"
   ]
  },
  {
   "cell_type": "markdown",
   "id": "df282104",
   "metadata": {},
   "source": [
    "#### Historical data for wind speed"
   ]
  },
  {
   "cell_type": "code",
   "execution_count": null,
   "id": "bc673a78",
   "metadata": {},
   "outputs": [],
   "source": [
    "(year_historical, year_str_historical, index_historical)=year_copernicus(1950,2014)\n",
    "temporal_resolution = 'daily'\n",
    "# Register data from copernicus for humidity in a dataframe and production of a csv file for the period indicated above\n",
    "(Wind_historical,period_historical) = dataframe_csv_copernicus(temporal_resolution,year_str_historical,copernicus_elements.experiments_historical,copernicus_elements.models,out_path, name_variable,'sfcWind',area)    "
   ]
  },
  {
   "cell_type": "markdown",
   "id": "2ac960da",
   "metadata": {},
   "source": [
    "#### Projection data for wind speed"
   ]
  },
  {
   "cell_type": "code",
   "execution_count": null,
   "id": "e7b914dc",
   "metadata": {
    "scrolled": false
   },
   "outputs": [],
   "source": [
    "(year, year_str, index)=year_copernicus(2098,2099)\n",
    "temporal_resolution = 'daily'\n",
    "\n",
    "#(df,period) = dataframe_csv_copernicus(temporal_resolution,year_str,copernicus_elements.experiments,copernicus_elements.models,out_path,global_variable, name_variable,'sfcWind',projects.Name[0],[area_projects[0][0],area_projects[1][0],area_projects[2][0],area_projects[3][0]])\n",
    "\n",
    "# df with separation of different projects\n",
    "# separate dataframe function\n",
    "NameProjects=list(projects['Name'])\n",
    "#NameProjects.remove('PT1_Pemba - Breidge Paquite')\n",
    "\n",
    "# Register data from copernicus for humidity in a dataframe and production of a csv file for the period indicated above\n",
    "k=0\n",
    "Temp=[]\n",
    "for name_project in NameProjects:\n",
    "    (df,period) = dataframe_csv_copernicus(temporal_resolution,year_str,copernicus_elements.experiments,copernicus_elements.models,out_path,global_variable, name_variable,name_project,[area_projects[0][k],area_projects[1][k],area_projects[2][k],area_projects[3][k]])  \n",
    "    Temp.append(df)\n",
    "    k+=1\n",
    "# last parameter is the area of one project, elements are fisrt col (min lat = 0, max lat = 1, min lon = 0, max lon = 1), then line (each ligne is coordinates for a project)"
   ]
  },
  {
   "cell_type": "code",
   "execution_count": null,
   "id": "c71a1716",
   "metadata": {},
   "outputs": [],
   "source": [
    "(year, year_str, index)=year_copernicus(2098,2099)\n",
    "temporal_resolution = 'daily'\n",
    "### does not work for PT1_Pemba - Breidge Paquite. When extract all, try to extract a json file (no need for it I think)\n",
    "### this makes everything going bad\n",
    "(df,period) = dataframe_csv_copernicus(temporal_resolution,year_str,copernicus_elements.experiments,copernicus_elements.models,out_path,global_variable, name_variable,'sfcWind','PT_ Dumping Site',[area_projects[0][6],area_projects[1][6],area_projects[2][6],area_projects[3][6]])"
   ]
  },
  {
   "cell_type": "code",
   "execution_count": null,
   "id": "1862670e",
   "metadata": {},
   "outputs": [],
   "source": [
    "projects['Name']"
   ]
  },
  {
   "cell_type": "code",
   "execution_count": null,
   "id": "956ecc34",
   "metadata": {},
   "outputs": [],
   "source": [
    "df"
   ]
  },
  {
   "cell_type": "code",
   "execution_count": null,
   "id": "2b786dba",
   "metadata": {},
   "outputs": [],
   "source": [
    "### BOXPLOTS\n",
    "\n",
    "\n",
    "df_reordered2 = df.reorder_levels(['Experiment', 'Model', 'Latitude', 'Date']) # reordering to ...\n",
    "df_reordered2_mean=df_reordered2.groupby(level=[0,1,2],axis=0,group_keys=True).mean()\n",
    "numpy_array = df_reordered2_mean.loc['ssp1_2_6','access_cm2'].values\n",
    "numpy_array=numpy_array.flatten() # make the array a vector to use it in boxplot function\n",
    "numpy_array1 = numpy_array[~np.isnan(numpy_array)]\n",
    "\n",
    "numpy_array = df_reordered2_mean.loc['ssp1_2_6','awi_cm_1_1_mr'].values\n",
    "numpy_array=numpy_array.flatten() # make the array a vector to use it in boxplot function\n",
    "numpy_array2 = numpy_array[~np.isnan(numpy_array)]\n",
    "\n",
    "numpy_array = df_reordered2_mean.loc['ssp1_2_6','bcc_csm2_mr'].values\n",
    "numpy_array=numpy_array.flatten() # make the array a vector to use it in boxplot function\n",
    "numpy_array3 = numpy_array[~np.isnan(numpy_array)]\n",
    "# boxplot do not deal with NaN, have to take them out\n",
    "dict_boxplot = plt.boxplot([numpy_array1,numpy_array2,numpy_array3],notch=True, whis =(10,90),widths = 0.15, patch_artist=True,labels=('access_cm2','awi_cm_1_1_mr','bcc_csm2_mr'))#,labels = 'access_cm2')# ... present boxplot over the period for each models\n",
    "# this functions returns varius parameters of the boxplot in the dict_boxplot. This funcitons also returns an image of it\n",
    "# here, numpy_array is a vector. But can also include array with several columns. Each columns will have a boxplot\n",
    "# 'notch' is true to enhance part where the median is\n",
    "# 'whis' is the percentile value for the whiskers, every data out of the range indicted by those 2 floats are represented as points\n",
    "# 'widths' determine width of the boxes\n",
    "# 'patch_artist' colors the boxplots\n",
    "# 'labels' gives a name to every column included in the data part\n",
    "str = 'Distribution of the average daily wind speed for different models \\nfor the year '+period+' and under scenario ssp1_2_6'\n",
    "title_png = 'Boxplot_models_ssp1_2_6'\n",
    "plt.title(str)\n",
    "plt.xlabel('Models')\n",
    "plt.ylabel('Average wind speed m/s')\n",
    "plt.savefig(os.path.join(out_path,'figures','Boxplots',title_png),format ='png') # savefig or save text must be before plt.show. for savefig, format should be explicity written\n",
    "plt.show()"
   ]
  },
  {
   "cell_type": "code",
   "execution_count": null,
   "id": "246da20e",
   "metadata": {},
   "outputs": [],
   "source": [
    "#### BOXPLOTS\n",
    "\n",
    "\n",
    "df_reordered3 = df.reorder_levels(['Experiment', 'Model', 'Latitude', 'Date']) # reordering to ...\n",
    "df_reordered3_mean=df_reordered3.groupby(level=[0,1,2],axis=0,group_keys=True).mean()\n",
    "numpy_array = df_reordered3_mean.loc['ssp1_2_6'].values\n",
    "numpy_array=numpy_array.flatten() # make the array a vector to use it in boxplot function\n",
    "numpy_array4 = numpy_array[~np.isnan(numpy_array)]\n",
    "# boxplot do not deal with NaN, have to take them out\n",
    "dict_boxplot = plt.boxplot(numpy_array4,notch=True, whis =(10,90),widths = 0.15, patch_artist=True,labels=('ssp1_2_6',))# ... present boxplot over the period for each models\n",
    "# this functions returns varius parameters of the boxplot in the dict_boxplot. This funcitons also returns an image of it\n",
    "# here, numpy_array is a vector. But can also include array with several columns. Each columns will have a boxplot\n",
    "# 'notch' is true to enhance part where the median is\n",
    "# 'whis' is the percentile value for the whiskers, every data out of the range indicted by those 2 floats are represented as points\n",
    "# 'widths' determine width of the boxes\n",
    "# 'patch_artist' colors the boxplots\n",
    "# 'labels' gives a name to every column included in the data part\n",
    "str = 'Distribution of the average daily wind speed accross models\\nfor the year 2099-2100 and under scenario ssp1_2_6'\n",
    "title_png = 'Boxplot_ssp1_2_6'\n",
    "plt.title(str)\n",
    "plt.xlabel('Models')\n",
    "plt.ylabel('Average wind speed m/s')\n",
    "plt.savefig(os.path.join(out_path,'figures','Boxplots',title_png),format ='png') # savefig or save text must be before plt.show. for savefig, format should be explicity written\n",
    "plt.show()"
   ]
  },
  {
   "cell_type": "markdown",
   "id": "b7b74e8a",
   "metadata": {},
   "source": [
    "<a id='humidity'></a>\n",
    "## Humidity\n",
    "\n",
    "Source : https://cds.climate.copernicus.eu/cdsapp#!/dataset/projections-cmip6?tab=form\n",
    "\n",
    "### Relative humidity\n",
    "\n",
    "Relative humidity of air: amount if moisture it contains compared to the maximum amount of moisture it can have at a specific temperature\n",
    "\n",
    "### Extraction of Relative humidity data"
   ]
  },
  {
   "cell_type": "code",
   "execution_count": null,
   "id": "0442d22b",
   "metadata": {},
   "outputs": [],
   "source": [
    "global_variable = 'Relative_Humidity'\n",
    "name_variable = 'near_surface_relative_humidity' # only available on a monthly basis"
   ]
  },
  {
   "cell_type": "markdown",
   "id": "0844c1b4",
   "metadata": {},
   "source": [
    "#### Historical data"
   ]
  },
  {
   "cell_type": "code",
   "execution_count": null,
   "id": "ecbd47e6",
   "metadata": {},
   "outputs": [],
   "source": [
    "(year_historical, year_str_historical, index_historical) = year_copernicus(1850,2014)\n",
    "temporal_resolution = 'monthly'\n",
    "\n",
    "# Register data from copernicus for humidity in a dataframe and production of a csv file for the period indicated above\n",
    "Humidity_historical = dataframe_csv_copernicus(temporal_resolution,year_str_historical,copernicus_elements.experiments_historical,copernicus_elements.models,out_path,global_variable, name_variable,area)    "
   ]
  },
  {
   "cell_type": "markdown",
   "id": "cadf53af",
   "metadata": {},
   "source": [
    "#### Projections"
   ]
  },
  {
   "cell_type": "code",
   "execution_count": null,
   "id": "81a6062f",
   "metadata": {},
   "outputs": [],
   "source": [
    "(year, year_str, index) = year_copernicus(2020,2100)\n",
    "temporal_resolution = 'monthly'\n",
    "\n",
    "# Register data from copernicus for humidity in a dataframe and production of a csv file for the period indicated above\n",
    "Humidity = dataframe_csv_copernicus(temporal_resolution,year_str,copernicus_elements.experiments,copernicus_elements.models,out_path,global_variable, name_variable,area)    "
   ]
  },
  {
   "cell_type": "markdown",
   "id": "5190f3f0",
   "metadata": {},
   "source": [
    "<a id='solar_radiation'></a>\n",
    "## Solar radiation"
   ]
  },
  {
   "cell_type": "code",
   "execution_count": 4,
   "id": "85fd4321",
   "metadata": {},
   "outputs": [],
   "source": [
    "global_variable = 'Solar_radiation'\n",
    "# choose of the climate variable from copernicus to represent : choose of surface_downwelling_shortwave_radiation because\n",
    "# 1. interest for project located at the surface of the Earth\n",
    "# 2. for most project (for example solar panels), we are interest in radiation going down, not up\n",
    "# 3. Shortwave radiation are the ones produce by the sun\n",
    "name_variable = 'surface_downwelling_shortwave_radiation' # only available on a monthly basis"
   ]
  },
  {
   "cell_type": "markdown",
   "id": "b0a4ed45",
   "metadata": {},
   "source": [
    "#### Historical data for solar radiation"
   ]
  },
  {
   "cell_type": "code",
   "execution_count": null,
   "id": "480c7b0d",
   "metadata": {},
   "outputs": [],
   "source": [
    "(year_historical, year_str_historical, index_historical)=year_copernicus(1850,2016)\n",
    "temporal_resolution = 'monthly'\n",
    "# Register data from copernicus for humidity in a dataframe and production of a csv file for the period indicated above\n",
    "Solar_radiation_historical = dataframe_csv_copernicus(temporal_resolution,year_str_historical,copernicus_elements.experiments_historical,copernicus_elements.models,out_path,global_variable, name_variable,area)    "
   ]
  },
  {
   "cell_type": "markdown",
   "id": "b8a5e939",
   "metadata": {},
   "source": [
    "#### Projection for data solar radiation"
   ]
  },
  {
   "cell_type": "code",
   "execution_count": null,
   "id": "fbbc4df5",
   "metadata": {
    "scrolled": false
   },
   "outputs": [
    {
     "name": "stdout",
     "output_type": "stream",
     "text": [
      "############################### Project name: PT_Revubue 2 (Rev 2/01) ###############################\n",
      "FUNCTION DATAFRAME_COPERNICUS\n",
      "Test with scenario ssp1_1_9\n",
      "Test with model access_cm2\n",
      "path_for_file does not exist: the data may not have been downloaded\n",
      "file_download does not exist: the data were not downloaded\n"
     ]
    },
    {
     "name": "stderr",
     "output_type": "stream",
     "text": [
      "2023-05-16 16:35:57,679 INFO Welcome to the CDS\n",
      "2023-05-16 16:35:57,680 INFO Sending request to https://cds.climate.copernicus.eu/api/v2/resources/projections-cmip6\n",
      "2023-05-16 16:35:57,725 INFO Request is queued\n",
      "2023-05-16 16:35:58,763 INFO Request is failed\n",
      "2023-05-16 16:35:58,764 ERROR Message: an internal error occurred processing your request\n",
      "2023-05-16 16:35:58,764 ERROR Reason:  No matching data for request {'experiment': 'ssp119', 'model': 'ACCESS-CM2', 'temporal_resolution': 'mon', 'variable': 'rsds'}\n",
      "2023-05-16 16:35:58,765 ERROR   Traceback (most recent call last):\n",
      "2023-05-16 16:35:58,766 ERROR     File \"/opt/cdstoolbox/cdscompute/cdscompute/cdshandlers/services/handler.py\", line 59, in handle_request\n",
      "2023-05-16 16:35:58,767 ERROR       result = cached(context.method, proc, context, context.args, context.kwargs)\n",
      "2023-05-16 16:35:58,768 ERROR     File \"/opt/cdstoolbox/cdscompute/cdscompute/caching.py\", line 108, in cached\n",
      "2023-05-16 16:35:58,769 ERROR       result = proc(context, *context.args, **context.kwargs)\n",
      "2023-05-16 16:35:58,770 ERROR     File \"/opt/cdstoolbox/cdscompute/cdscompute/services.py\", line 124, in __call__\n",
      "2023-05-16 16:35:58,770 ERROR       return p(*args, **kwargs)\n",
      "2023-05-16 16:35:58,770 ERROR     File \"/opt/cdstoolbox/cdscompute/cdscompute/services.py\", line 60, in __call__\n",
      "2023-05-16 16:35:58,771 ERROR       return self.proc(context, *args, **kwargs)\n",
      "2023-05-16 16:35:58,771 ERROR     File \"/home/cds/cdsservices/services/esgf_wps/__init__.py\", line 30, in execute\n",
      "2023-05-16 16:35:58,771 ERROR       request_facets, request = facets.search(context, request)\n",
      "2023-05-16 16:35:58,772 ERROR     File \"/home/cds/cdsservices/services/esgf_wps/facets.py\", line 61, in search\n",
      "2023-05-16 16:35:58,773 ERROR       raise ValueError(f'No matching data for request {tmp_request}')\n",
      "2023-05-16 16:35:58,774 ERROR   ValueError: No matching data for request {'experiment': 'ssp119', 'model': 'ACCESS-CM2', 'temporal_resolution': 'mon', 'variable': 'rsds'}\n",
      "2023-05-16 16:35:58,809 INFO Welcome to the CDS\n",
      "2023-05-16 16:35:58,810 INFO Sending request to https://cds.climate.copernicus.eu/api/v2/resources/projections-cmip6\n",
      "2023-05-16 16:35:58,853 INFO Request is queued\n"
     ]
    },
    {
     "name": "stdout",
     "output_type": "stream",
     "text": [
      "Some parameters are not matching\n",
      "\n",
      "No value were found for the period and the project tested\n",
      "\n",
      "Test with model awi_cm_1_1_mr\n",
      "path_for_file does not exist: the data may not have been downloaded\n",
      "file_download does not exist: the data were not downloaded\n"
     ]
    },
    {
     "name": "stderr",
     "output_type": "stream",
     "text": [
      "2023-05-16 16:35:59,901 INFO Request is failed\n",
      "2023-05-16 16:35:59,902 ERROR Message: an internal error occurred processing your request\n",
      "2023-05-16 16:35:59,902 ERROR Reason:  No matching data for request {'experiment': 'ssp119', 'model': 'AWI-CM-1-1-MR', 'temporal_resolution': 'mon', 'variable': 'rsds'}\n",
      "2023-05-16 16:35:59,903 ERROR   Traceback (most recent call last):\n",
      "2023-05-16 16:35:59,903 ERROR     File \"/opt/cdstoolbox/cdscompute/cdscompute/cdshandlers/services/handler.py\", line 59, in handle_request\n",
      "2023-05-16 16:35:59,905 ERROR       result = cached(context.method, proc, context, context.args, context.kwargs)\n",
      "2023-05-16 16:35:59,907 ERROR     File \"/opt/cdstoolbox/cdscompute/cdscompute/caching.py\", line 108, in cached\n",
      "2023-05-16 16:35:59,907 ERROR       result = proc(context, *context.args, **context.kwargs)\n",
      "2023-05-16 16:35:59,907 ERROR     File \"/opt/cdstoolbox/cdscompute/cdscompute/services.py\", line 124, in __call__\n",
      "2023-05-16 16:35:59,910 ERROR       return p(*args, **kwargs)\n",
      "2023-05-16 16:35:59,911 ERROR     File \"/opt/cdstoolbox/cdscompute/cdscompute/services.py\", line 60, in __call__\n",
      "2023-05-16 16:35:59,912 ERROR       return self.proc(context, *args, **kwargs)\n",
      "2023-05-16 16:35:59,912 ERROR     File \"/home/cds/cdsservices/services/esgf_wps/__init__.py\", line 30, in execute\n",
      "2023-05-16 16:35:59,914 ERROR       request_facets, request = facets.search(context, request)\n",
      "2023-05-16 16:35:59,914 ERROR     File \"/home/cds/cdsservices/services/esgf_wps/facets.py\", line 61, in search\n",
      "2023-05-16 16:35:59,914 ERROR       raise ValueError(f'No matching data for request {tmp_request}')\n",
      "2023-05-16 16:35:59,914 ERROR   ValueError: No matching data for request {'experiment': 'ssp119', 'model': 'AWI-CM-1-1-MR', 'temporal_resolution': 'mon', 'variable': 'rsds'}\n",
      "2023-05-16 16:35:59,950 INFO Welcome to the CDS\n",
      "2023-05-16 16:35:59,951 INFO Sending request to https://cds.climate.copernicus.eu/api/v2/resources/projections-cmip6\n",
      "2023-05-16 16:36:00,040 INFO Request is queued\n"
     ]
    },
    {
     "name": "stdout",
     "output_type": "stream",
     "text": [
      "Some parameters are not matching\n",
      "\n",
      "No value were found for the period and the project tested\n",
      "\n",
      "Test with model bcc_csm2_mr\n",
      "path_for_file does not exist: the data may not have been downloaded\n",
      "file_download does not exist: the data were not downloaded\n"
     ]
    },
    {
     "name": "stderr",
     "output_type": "stream",
     "text": [
      "2023-05-16 16:36:01,090 INFO Request is failed\n",
      "2023-05-16 16:36:01,091 ERROR Message: an internal error occurred processing your request\n",
      "2023-05-16 16:36:01,091 ERROR Reason:  No matching data for request {'experiment': 'ssp119', 'model': 'BCC-CSM2-MR', 'temporal_resolution': 'mon', 'variable': 'rsds'}\n",
      "2023-05-16 16:36:01,093 ERROR   Traceback (most recent call last):\n",
      "2023-05-16 16:36:01,094 ERROR     File \"/opt/cdstoolbox/cdscompute/cdscompute/cdshandlers/services/handler.py\", line 59, in handle_request\n",
      "2023-05-16 16:36:01,095 ERROR       result = cached(context.method, proc, context, context.args, context.kwargs)\n",
      "2023-05-16 16:36:01,096 ERROR     File \"/opt/cdstoolbox/cdscompute/cdscompute/caching.py\", line 108, in cached\n",
      "2023-05-16 16:36:01,097 ERROR       result = proc(context, *context.args, **context.kwargs)\n",
      "2023-05-16 16:36:01,098 ERROR     File \"/opt/cdstoolbox/cdscompute/cdscompute/services.py\", line 124, in __call__\n",
      "2023-05-16 16:36:01,099 ERROR       return p(*args, **kwargs)\n",
      "2023-05-16 16:36:01,100 ERROR     File \"/opt/cdstoolbox/cdscompute/cdscompute/services.py\", line 60, in __call__\n",
      "2023-05-16 16:36:01,101 ERROR       return self.proc(context, *args, **kwargs)\n",
      "2023-05-16 16:36:01,102 ERROR     File \"/home/cds/cdsservices/services/esgf_wps/__init__.py\", line 30, in execute\n",
      "2023-05-16 16:36:01,102 ERROR       request_facets, request = facets.search(context, request)\n",
      "2023-05-16 16:36:01,103 ERROR     File \"/home/cds/cdsservices/services/esgf_wps/facets.py\", line 61, in search\n",
      "2023-05-16 16:36:01,104 ERROR       raise ValueError(f'No matching data for request {tmp_request}')\n",
      "2023-05-16 16:36:01,105 ERROR   ValueError: No matching data for request {'experiment': 'ssp119', 'model': 'BCC-CSM2-MR', 'temporal_resolution': 'mon', 'variable': 'rsds'}\n"
     ]
    },
    {
     "name": "stdout",
     "output_type": "stream",
     "text": [
      "Some parameters are not matching\n",
      "\n",
      "No value were found for the period and the project tested\n",
      "\n",
      "Test with model cams_csm1_0\n",
      "path_for_file does exist Function copernicus search for nc\n",
      "The file is in the path Function copernicus search for nc\n",
      "\n",
      "Before path_length, The final path for the nc file is: C:\\Users\\CLMRX\\OneDrive - COWI\\Documents\\GitHub\\CRVA_tool\\outputs\\Datasets\\surface_downwelling_shortwave_radiation\\PT_Revubue 2 (Rev 2_01)\\ssp1_1_9\\cams_csm1_0\\2016-2099\\CMIP6-copernicus-GCM\\rsds_Amon_CAMS-CSM1-0_ssp119_r1i1p1f1_gn_20160116-20991216_v20190708.nc\n",
      "\n",
      " The final path for nc file exists ? False\n",
      "\n",
      "After path_length, The final path for the nc file is: \\\\?\\C:\\Users\\CLMRX\\OneDrive - COWI\\Documents\\GitHub\\CRVA_tool\\outputs\\Datasets\\surface_downwelling_shortwave_radiation\\PT_Revubue 2 (Rev 2_01)\\ssp1_1_9\\cams_csm1_0\\2016-2099\\CMIP6-copernicus-GCM\\rsds_Amon_CAMS-CSM1-0_ssp119_r1i1p1f1_gn_20160116-20991216_v20190708.nc\n",
      "\n",
      " The final path for nc file exists ? True\n",
      "\n",
      "Registering the data in a dataframe\n"
     ]
    },
    {
     "name": "stderr",
     "output_type": "stream",
     "text": [
      "2023-05-16 16:36:23,009 INFO Welcome to the CDS\n",
      "2023-05-16 16:36:23,010 INFO Sending request to https://cds.climate.copernicus.eu/api/v2/resources/projections-cmip6\n",
      "2023-05-16 16:36:23,057 INFO Request is queued\n"
     ]
    },
    {
     "name": "stdout",
     "output_type": "stream",
     "text": [
      "\n",
      "Value were found for the period and the project tested\n",
      "\n",
      "Test with model canesm5_canoe\n",
      "path_for_file does not exist: the data may not have been downloaded\n",
      "file_download does not exist: the data were not downloaded\n"
     ]
    },
    {
     "name": "stderr",
     "output_type": "stream",
     "text": [
      "2023-05-16 16:36:24,098 INFO Request is failed\n",
      "2023-05-16 16:36:24,098 ERROR Message: an internal error occurred processing your request\n",
      "2023-05-16 16:36:24,099 ERROR Reason:  No matching data for request {'experiment': 'ssp119', 'model': 'CanESM5-CanOE', 'temporal_resolution': 'mon', 'variable': 'rsds'}\n",
      "2023-05-16 16:36:24,100 ERROR   Traceback (most recent call last):\n",
      "2023-05-16 16:36:24,101 ERROR     File \"/opt/cdstoolbox/cdscompute/cdscompute/cdshandlers/services/handler.py\", line 59, in handle_request\n",
      "2023-05-16 16:36:24,102 ERROR       result = cached(context.method, proc, context, context.args, context.kwargs)\n",
      "2023-05-16 16:36:24,102 ERROR     File \"/opt/cdstoolbox/cdscompute/cdscompute/caching.py\", line 108, in cached\n",
      "2023-05-16 16:36:24,104 ERROR       result = proc(context, *context.args, **context.kwargs)\n",
      "2023-05-16 16:36:24,104 ERROR     File \"/opt/cdstoolbox/cdscompute/cdscompute/services.py\", line 124, in __call__\n",
      "2023-05-16 16:36:24,105 ERROR       return p(*args, **kwargs)\n",
      "2023-05-16 16:36:24,105 ERROR     File \"/opt/cdstoolbox/cdscompute/cdscompute/services.py\", line 60, in __call__\n",
      "2023-05-16 16:36:24,106 ERROR       return self.proc(context, *args, **kwargs)\n",
      "2023-05-16 16:36:24,106 ERROR     File \"/home/cds/cdsservices/services/esgf_wps/__init__.py\", line 30, in execute\n",
      "2023-05-16 16:36:24,106 ERROR       request_facets, request = facets.search(context, request)\n",
      "2023-05-16 16:36:24,107 ERROR     File \"/home/cds/cdsservices/services/esgf_wps/facets.py\", line 61, in search\n",
      "2023-05-16 16:36:24,107 ERROR       raise ValueError(f'No matching data for request {tmp_request}')\n",
      "2023-05-16 16:36:24,110 ERROR   ValueError: No matching data for request {'experiment': 'ssp119', 'model': 'CanESM5-CanOE', 'temporal_resolution': 'mon', 'variable': 'rsds'}\n",
      "2023-05-16 16:36:24,150 INFO Welcome to the CDS\n",
      "2023-05-16 16:36:24,151 INFO Sending request to https://cds.climate.copernicus.eu/api/v2/resources/projections-cmip6\n",
      "2023-05-16 16:36:24,248 INFO Request is queued\n"
     ]
    },
    {
     "name": "stdout",
     "output_type": "stream",
     "text": [
      "Some parameters are not matching\n",
      "\n",
      "No value were found for the period and the project tested\n",
      "\n",
      "Test with model cesm2_fv2\n",
      "path_for_file does not exist: the data may not have been downloaded\n",
      "file_download does not exist: the data were not downloaded\n"
     ]
    },
    {
     "name": "stderr",
     "output_type": "stream",
     "text": [
      "2023-05-16 16:36:25,284 INFO Request is failed\n",
      "2023-05-16 16:36:25,285 ERROR Message: an internal error occurred processing your request\n",
      "2023-05-16 16:36:25,285 ERROR Reason:  No matching data for request {'experiment': 'ssp119', 'model': 'CESM2-FV2', 'temporal_resolution': 'mon', 'variable': 'rsds'}\n",
      "2023-05-16 16:36:25,286 ERROR   Traceback (most recent call last):\n",
      "2023-05-16 16:36:25,287 ERROR     File \"/opt/cdstoolbox/cdscompute/cdscompute/cdshandlers/services/handler.py\", line 59, in handle_request\n",
      "2023-05-16 16:36:25,288 ERROR       result = cached(context.method, proc, context, context.args, context.kwargs)\n",
      "2023-05-16 16:36:25,289 ERROR     File \"/opt/cdstoolbox/cdscompute/cdscompute/caching.py\", line 108, in cached\n",
      "2023-05-16 16:36:25,290 ERROR       result = proc(context, *context.args, **context.kwargs)\n",
      "2023-05-16 16:36:25,290 ERROR     File \"/opt/cdstoolbox/cdscompute/cdscompute/services.py\", line 124, in __call__\n",
      "2023-05-16 16:36:25,292 ERROR       return p(*args, **kwargs)\n",
      "2023-05-16 16:36:25,293 ERROR     File \"/opt/cdstoolbox/cdscompute/cdscompute/services.py\", line 60, in __call__\n",
      "2023-05-16 16:36:25,293 ERROR       return self.proc(context, *args, **kwargs)\n",
      "2023-05-16 16:36:25,294 ERROR     File \"/home/cds/cdsservices/services/esgf_wps/__init__.py\", line 30, in execute\n",
      "2023-05-16 16:36:25,295 ERROR       request_facets, request = facets.search(context, request)\n",
      "2023-05-16 16:36:25,296 ERROR     File \"/home/cds/cdsservices/services/esgf_wps/facets.py\", line 61, in search\n",
      "2023-05-16 16:36:25,296 ERROR       raise ValueError(f'No matching data for request {tmp_request}')\n",
      "2023-05-16 16:36:25,297 ERROR   ValueError: No matching data for request {'experiment': 'ssp119', 'model': 'CESM2-FV2', 'temporal_resolution': 'mon', 'variable': 'rsds'}\n",
      "2023-05-16 16:36:25,328 INFO Welcome to the CDS\n",
      "2023-05-16 16:36:25,329 INFO Sending request to https://cds.climate.copernicus.eu/api/v2/resources/projections-cmip6\n",
      "2023-05-16 16:36:25,383 INFO Request is queued\n"
     ]
    },
    {
     "name": "stdout",
     "output_type": "stream",
     "text": [
      "Some parameters are not matching\n",
      "\n",
      "No value were found for the period and the project tested\n",
      "\n",
      "Test with model cesm2_waccm_fv2\n",
      "path_for_file does not exist: the data may not have been downloaded\n",
      "file_download does not exist: the data were not downloaded\n"
     ]
    },
    {
     "name": "stderr",
     "output_type": "stream",
     "text": [
      "2023-05-16 16:36:26,421 INFO Request is failed\n",
      "2023-05-16 16:36:26,422 ERROR Message: an internal error occurred processing your request\n",
      "2023-05-16 16:36:26,422 ERROR Reason:  No matching data for request {'experiment': 'ssp119', 'model': 'CESM2-WACCM-FV2', 'temporal_resolution': 'mon', 'variable': 'rsds'}\n",
      "2023-05-16 16:36:26,423 ERROR   Traceback (most recent call last):\n",
      "2023-05-16 16:36:26,424 ERROR     File \"/opt/cdstoolbox/cdscompute/cdscompute/cdshandlers/services/handler.py\", line 59, in handle_request\n",
      "2023-05-16 16:36:26,426 ERROR       result = cached(context.method, proc, context, context.args, context.kwargs)\n",
      "2023-05-16 16:36:26,426 ERROR     File \"/opt/cdstoolbox/cdscompute/cdscompute/caching.py\", line 108, in cached\n",
      "2023-05-16 16:36:26,427 ERROR       result = proc(context, *context.args, **context.kwargs)\n",
      "2023-05-16 16:36:26,427 ERROR     File \"/opt/cdstoolbox/cdscompute/cdscompute/services.py\", line 124, in __call__\n",
      "2023-05-16 16:36:26,428 ERROR       return p(*args, **kwargs)\n",
      "2023-05-16 16:36:26,430 ERROR     File \"/opt/cdstoolbox/cdscompute/cdscompute/services.py\", line 60, in __call__\n",
      "2023-05-16 16:36:26,430 ERROR       return self.proc(context, *args, **kwargs)\n",
      "2023-05-16 16:36:26,430 ERROR     File \"/home/cds/cdsservices/services/esgf_wps/__init__.py\", line 30, in execute\n",
      "2023-05-16 16:36:26,431 ERROR       request_facets, request = facets.search(context, request)\n",
      "2023-05-16 16:36:26,431 ERROR     File \"/home/cds/cdsservices/services/esgf_wps/facets.py\", line 61, in search\n",
      "2023-05-16 16:36:26,432 ERROR       raise ValueError(f'No matching data for request {tmp_request}')\n",
      "2023-05-16 16:36:26,432 ERROR   ValueError: No matching data for request {'experiment': 'ssp119', 'model': 'CESM2-WACCM-FV2', 'temporal_resolution': 'mon', 'variable': 'rsds'}\n",
      "2023-05-16 16:36:26,468 INFO Welcome to the CDS\n",
      "2023-05-16 16:36:26,470 INFO Sending request to https://cds.climate.copernicus.eu/api/v2/resources/projections-cmip6\n",
      "2023-05-16 16:36:26,533 INFO Request is queued\n"
     ]
    },
    {
     "name": "stdout",
     "output_type": "stream",
     "text": [
      "Some parameters are not matching\n",
      "\n",
      "No value were found for the period and the project tested\n",
      "\n",
      "Test with model cmcc_cm2_hr4\n",
      "path_for_file does not exist: the data may not have been downloaded\n",
      "file_download does not exist: the data were not downloaded\n"
     ]
    },
    {
     "name": "stderr",
     "output_type": "stream",
     "text": [
      "2023-05-16 16:36:27,579 INFO Request is failed\n",
      "2023-05-16 16:36:27,580 ERROR Message: an internal error occurred processing your request\n",
      "2023-05-16 16:36:27,582 ERROR Reason:  No matching data for request {'experiment': 'ssp119', 'model': 'CMCC-CM2-HR4', 'temporal_resolution': 'mon', 'variable': 'rsds'}\n",
      "2023-05-16 16:36:27,583 ERROR   Traceback (most recent call last):\n",
      "2023-05-16 16:36:27,586 ERROR     File \"/opt/cdstoolbox/cdscompute/cdscompute/cdshandlers/services/handler.py\", line 59, in handle_request\n",
      "2023-05-16 16:36:27,587 ERROR       result = cached(context.method, proc, context, context.args, context.kwargs)\n",
      "2023-05-16 16:36:27,588 ERROR     File \"/opt/cdstoolbox/cdscompute/cdscompute/caching.py\", line 108, in cached\n",
      "2023-05-16 16:36:27,589 ERROR       result = proc(context, *context.args, **context.kwargs)\n",
      "2023-05-16 16:36:27,590 ERROR     File \"/opt/cdstoolbox/cdscompute/cdscompute/services.py\", line 124, in __call__\n",
      "2023-05-16 16:36:27,591 ERROR       return p(*args, **kwargs)\n",
      "2023-05-16 16:36:27,592 ERROR     File \"/opt/cdstoolbox/cdscompute/cdscompute/services.py\", line 60, in __call__\n",
      "2023-05-16 16:36:27,593 ERROR       return self.proc(context, *args, **kwargs)\n",
      "2023-05-16 16:36:27,594 ERROR     File \"/home/cds/cdsservices/services/esgf_wps/__init__.py\", line 30, in execute\n",
      "2023-05-16 16:36:27,595 ERROR       request_facets, request = facets.search(context, request)\n",
      "2023-05-16 16:36:27,596 ERROR     File \"/home/cds/cdsservices/services/esgf_wps/facets.py\", line 61, in search\n",
      "2023-05-16 16:36:27,597 ERROR       raise ValueError(f'No matching data for request {tmp_request}')\n",
      "2023-05-16 16:36:27,598 ERROR   ValueError: No matching data for request {'experiment': 'ssp119', 'model': 'CMCC-CM2-HR4', 'temporal_resolution': 'mon', 'variable': 'rsds'}\n",
      "2023-05-16 16:36:27,630 INFO Welcome to the CDS\n",
      "2023-05-16 16:36:27,631 INFO Sending request to https://cds.climate.copernicus.eu/api/v2/resources/projections-cmip6\n",
      "2023-05-16 16:36:27,672 INFO Request is queued\n"
     ]
    },
    {
     "name": "stdout",
     "output_type": "stream",
     "text": [
      "Some parameters are not matching\n",
      "\n",
      "No value were found for the period and the project tested\n",
      "\n",
      "Test with model cmcc_esm2\n",
      "path_for_file does not exist: the data may not have been downloaded\n",
      "file_download does not exist: the data were not downloaded\n"
     ]
    },
    {
     "name": "stderr",
     "output_type": "stream",
     "text": [
      "2023-05-16 16:36:28,720 INFO Request is failed\n",
      "2023-05-16 16:36:28,722 ERROR Message: an internal error occurred processing your request\n",
      "2023-05-16 16:36:28,722 ERROR Reason:  No matching data for request {'experiment': 'ssp119', 'model': 'CMCC-ESM2', 'temporal_resolution': 'mon', 'variable': 'rsds'}\n",
      "2023-05-16 16:36:28,723 ERROR   Traceback (most recent call last):\n",
      "2023-05-16 16:36:28,723 ERROR     File \"/opt/cdstoolbox/cdscompute/cdscompute/cdshandlers/services/handler.py\", line 59, in handle_request\n",
      "2023-05-16 16:36:28,724 ERROR       result = cached(context.method, proc, context, context.args, context.kwargs)\n",
      "2023-05-16 16:36:28,725 ERROR     File \"/opt/cdstoolbox/cdscompute/cdscompute/caching.py\", line 108, in cached\n",
      "2023-05-16 16:36:28,725 ERROR       result = proc(context, *context.args, **context.kwargs)\n",
      "2023-05-16 16:36:28,727 ERROR     File \"/opt/cdstoolbox/cdscompute/cdscompute/services.py\", line 124, in __call__\n",
      "2023-05-16 16:36:28,727 ERROR       return p(*args, **kwargs)\n",
      "2023-05-16 16:36:28,728 ERROR     File \"/opt/cdstoolbox/cdscompute/cdscompute/services.py\", line 60, in __call__\n",
      "2023-05-16 16:36:28,729 ERROR       return self.proc(context, *args, **kwargs)\n",
      "2023-05-16 16:36:28,729 ERROR     File \"/home/cds/cdsservices/services/esgf_wps/__init__.py\", line 30, in execute\n",
      "2023-05-16 16:36:28,730 ERROR       request_facets, request = facets.search(context, request)\n",
      "2023-05-16 16:36:28,731 ERROR     File \"/home/cds/cdsservices/services/esgf_wps/facets.py\", line 61, in search\n",
      "2023-05-16 16:36:28,732 ERROR       raise ValueError(f'No matching data for request {tmp_request}')\n",
      "2023-05-16 16:36:28,733 ERROR   ValueError: No matching data for request {'experiment': 'ssp119', 'model': 'CMCC-ESM2', 'temporal_resolution': 'mon', 'variable': 'rsds'}\n",
      "2023-05-16 16:36:28,765 INFO Welcome to the CDS\n",
      "2023-05-16 16:36:28,766 INFO Sending request to https://cds.climate.copernicus.eu/api/v2/resources/projections-cmip6\n",
      "2023-05-16 16:36:28,808 INFO Request is queued\n"
     ]
    },
    {
     "name": "stdout",
     "output_type": "stream",
     "text": [
      "Some parameters are not matching\n",
      "\n",
      "No value were found for the period and the project tested\n",
      "\n",
      "Test with model cnrm_cm6_1_hr\n",
      "path_for_file does not exist: the data may not have been downloaded\n",
      "file_download does not exist: the data were not downloaded\n"
     ]
    },
    {
     "name": "stderr",
     "output_type": "stream",
     "text": [
      "2023-05-16 16:36:29,844 INFO Request is failed\n",
      "2023-05-16 16:36:29,845 ERROR Message: an internal error occurred processing your request\n",
      "2023-05-16 16:36:29,846 ERROR Reason:  No matching data for request {'experiment': 'ssp119', 'model': 'CNRM-CM6-1-HR', 'temporal_resolution': 'mon', 'variable': 'rsds'}\n",
      "2023-05-16 16:36:29,847 ERROR   Traceback (most recent call last):\n",
      "2023-05-16 16:36:29,849 ERROR     File \"/opt/cdstoolbox/cdscompute/cdscompute/cdshandlers/services/handler.py\", line 59, in handle_request\n",
      "2023-05-16 16:36:29,850 ERROR       result = cached(context.method, proc, context, context.args, context.kwargs)\n",
      "2023-05-16 16:36:29,850 ERROR     File \"/opt/cdstoolbox/cdscompute/cdscompute/caching.py\", line 108, in cached\n",
      "2023-05-16 16:36:29,852 ERROR       result = proc(context, *context.args, **context.kwargs)\n",
      "2023-05-16 16:36:29,853 ERROR     File \"/opt/cdstoolbox/cdscompute/cdscompute/services.py\", line 124, in __call__\n",
      "2023-05-16 16:36:29,853 ERROR       return p(*args, **kwargs)\n",
      "2023-05-16 16:36:29,854 ERROR     File \"/opt/cdstoolbox/cdscompute/cdscompute/services.py\", line 60, in __call__\n",
      "2023-05-16 16:36:29,854 ERROR       return self.proc(context, *args, **kwargs)\n",
      "2023-05-16 16:36:29,854 ERROR     File \"/home/cds/cdsservices/services/esgf_wps/__init__.py\", line 30, in execute\n",
      "2023-05-16 16:36:29,855 ERROR       request_facets, request = facets.search(context, request)\n",
      "2023-05-16 16:36:29,856 ERROR     File \"/home/cds/cdsservices/services/esgf_wps/facets.py\", line 61, in search\n",
      "2023-05-16 16:36:29,856 ERROR       raise ValueError(f'No matching data for request {tmp_request}')\n",
      "2023-05-16 16:36:29,857 ERROR   ValueError: No matching data for request {'experiment': 'ssp119', 'model': 'CNRM-CM6-1-HR', 'temporal_resolution': 'mon', 'variable': 'rsds'}\n",
      "2023-05-16 16:36:29,889 INFO Welcome to the CDS\n",
      "2023-05-16 16:36:29,891 INFO Sending request to https://cds.climate.copernicus.eu/api/v2/resources/projections-cmip6\n",
      "2023-05-16 16:36:29,932 INFO Request is queued\n"
     ]
    },
    {
     "name": "stdout",
     "output_type": "stream",
     "text": [
      "Some parameters are not matching\n",
      "\n",
      "No value were found for the period and the project tested\n",
      "\n",
      "Test with model e3sm_1_0\n",
      "path_for_file does not exist: the data may not have been downloaded\n",
      "file_download does not exist: the data were not downloaded\n"
     ]
    },
    {
     "name": "stderr",
     "output_type": "stream",
     "text": [
      "2023-05-16 16:36:30,974 INFO Request is failed\n",
      "2023-05-16 16:36:30,975 ERROR Message: an internal error occurred processing your request\n",
      "2023-05-16 16:36:30,976 ERROR Reason:  No matching data for request {'experiment': 'ssp119', 'model': 'E3SM-1-0', 'temporal_resolution': 'mon', 'variable': 'rsds'}\n",
      "2023-05-16 16:36:30,977 ERROR   Traceback (most recent call last):\n",
      "2023-05-16 16:36:30,978 ERROR     File \"/opt/cdstoolbox/cdscompute/cdscompute/cdshandlers/services/handler.py\", line 59, in handle_request\n",
      "2023-05-16 16:36:30,978 ERROR       result = cached(context.method, proc, context, context.args, context.kwargs)\n",
      "2023-05-16 16:36:30,979 ERROR     File \"/opt/cdstoolbox/cdscompute/cdscompute/caching.py\", line 108, in cached\n",
      "2023-05-16 16:36:30,980 ERROR       result = proc(context, *context.args, **context.kwargs)\n",
      "2023-05-16 16:36:30,982 ERROR     File \"/opt/cdstoolbox/cdscompute/cdscompute/services.py\", line 124, in __call__\n",
      "2023-05-16 16:36:30,983 ERROR       return p(*args, **kwargs)\n",
      "2023-05-16 16:36:30,984 ERROR     File \"/opt/cdstoolbox/cdscompute/cdscompute/services.py\", line 60, in __call__\n",
      "2023-05-16 16:36:30,984 ERROR       return self.proc(context, *args, **kwargs)\n",
      "2023-05-16 16:36:30,985 ERROR     File \"/home/cds/cdsservices/services/esgf_wps/__init__.py\", line 30, in execute\n",
      "2023-05-16 16:36:30,985 ERROR       request_facets, request = facets.search(context, request)\n",
      "2023-05-16 16:36:30,985 ERROR     File \"/home/cds/cdsservices/services/esgf_wps/facets.py\", line 61, in search\n",
      "2023-05-16 16:36:30,987 ERROR       raise ValueError(f'No matching data for request {tmp_request}')\n",
      "2023-05-16 16:36:30,987 ERROR   ValueError: No matching data for request {'experiment': 'ssp119', 'model': 'E3SM-1-0', 'temporal_resolution': 'mon', 'variable': 'rsds'}\n",
      "2023-05-16 16:36:31,020 INFO Welcome to the CDS\n",
      "2023-05-16 16:36:31,022 INFO Sending request to https://cds.climate.copernicus.eu/api/v2/resources/projections-cmip6\n",
      "2023-05-16 16:36:31,089 INFO Request is queued\n"
     ]
    },
    {
     "name": "stdout",
     "output_type": "stream",
     "text": [
      "Some parameters are not matching\n",
      "\n",
      "No value were found for the period and the project tested\n",
      "\n",
      "Test with model e3sm_1_1_eca\n",
      "path_for_file does not exist: the data may not have been downloaded\n",
      "file_download does not exist: the data were not downloaded\n"
     ]
    },
    {
     "name": "stderr",
     "output_type": "stream",
     "text": [
      "2023-05-16 16:36:32,125 INFO Request is failed\n",
      "2023-05-16 16:36:32,125 ERROR Message: an internal error occurred processing your request\n",
      "2023-05-16 16:36:32,126 ERROR Reason:  No matching data for request {'experiment': 'ssp119', 'model': 'E3SM-1-1-ECA', 'temporal_resolution': 'mon', 'variable': 'rsds'}\n",
      "2023-05-16 16:36:32,127 ERROR   Traceback (most recent call last):\n",
      "2023-05-16 16:36:32,127 ERROR     File \"/opt/cdstoolbox/cdscompute/cdscompute/cdshandlers/services/handler.py\", line 59, in handle_request\n",
      "2023-05-16 16:36:32,128 ERROR       result = cached(context.method, proc, context, context.args, context.kwargs)\n",
      "2023-05-16 16:36:32,129 ERROR     File \"/opt/cdstoolbox/cdscompute/cdscompute/caching.py\", line 108, in cached\n",
      "2023-05-16 16:36:32,130 ERROR       result = proc(context, *context.args, **context.kwargs)\n",
      "2023-05-16 16:36:32,131 ERROR     File \"/opt/cdstoolbox/cdscompute/cdscompute/services.py\", line 124, in __call__\n",
      "2023-05-16 16:36:32,131 ERROR       return p(*args, **kwargs)\n",
      "2023-05-16 16:36:32,132 ERROR     File \"/opt/cdstoolbox/cdscompute/cdscompute/services.py\", line 60, in __call__\n",
      "2023-05-16 16:36:32,133 ERROR       return self.proc(context, *args, **kwargs)\n",
      "2023-05-16 16:36:32,133 ERROR     File \"/home/cds/cdsservices/services/esgf_wps/__init__.py\", line 30, in execute\n",
      "2023-05-16 16:36:32,134 ERROR       request_facets, request = facets.search(context, request)\n",
      "2023-05-16 16:36:32,136 ERROR     File \"/home/cds/cdsservices/services/esgf_wps/facets.py\", line 61, in search\n",
      "2023-05-16 16:36:32,137 ERROR       raise ValueError(f'No matching data for request {tmp_request}')\n",
      "2023-05-16 16:36:32,138 ERROR   ValueError: No matching data for request {'experiment': 'ssp119', 'model': 'E3SM-1-1-ECA', 'temporal_resolution': 'mon', 'variable': 'rsds'}\n",
      "2023-05-16 16:36:32,171 INFO Welcome to the CDS\n",
      "2023-05-16 16:36:32,172 INFO Sending request to https://cds.climate.copernicus.eu/api/v2/resources/projections-cmip6\n",
      "2023-05-16 16:36:32,229 INFO Request is queued\n"
     ]
    },
    {
     "name": "stdout",
     "output_type": "stream",
     "text": [
      "Some parameters are not matching\n",
      "\n",
      "No value were found for the period and the project tested\n",
      "\n",
      "Test with model ec_earth3_aerchem\n",
      "path_for_file does not exist: the data may not have been downloaded\n",
      "file_download does not exist: the data were not downloaded\n"
     ]
    },
    {
     "name": "stderr",
     "output_type": "stream",
     "text": [
      "2023-05-16 16:36:33,268 INFO Request is failed\n",
      "2023-05-16 16:36:33,269 ERROR Message: an internal error occurred processing your request\n",
      "2023-05-16 16:36:33,270 ERROR Reason:  No matching data for request {'experiment': 'ssp119', 'model': 'EC-Earth3-AerChem', 'temporal_resolution': 'mon', 'variable': 'rsds'}\n",
      "2023-05-16 16:36:33,271 ERROR   Traceback (most recent call last):\n",
      "2023-05-16 16:36:33,271 ERROR     File \"/opt/cdstoolbox/cdscompute/cdscompute/cdshandlers/services/handler.py\", line 59, in handle_request\n",
      "2023-05-16 16:36:33,272 ERROR       result = cached(context.method, proc, context, context.args, context.kwargs)\n",
      "2023-05-16 16:36:33,272 ERROR     File \"/opt/cdstoolbox/cdscompute/cdscompute/caching.py\", line 108, in cached\n",
      "2023-05-16 16:36:33,273 ERROR       result = proc(context, *context.args, **context.kwargs)\n",
      "2023-05-16 16:36:33,274 ERROR     File \"/opt/cdstoolbox/cdscompute/cdscompute/services.py\", line 124, in __call__\n",
      "2023-05-16 16:36:33,274 ERROR       return p(*args, **kwargs)\n",
      "2023-05-16 16:36:33,274 ERROR     File \"/opt/cdstoolbox/cdscompute/cdscompute/services.py\", line 60, in __call__\n",
      "2023-05-16 16:36:33,275 ERROR       return self.proc(context, *args, **kwargs)\n",
      "2023-05-16 16:36:33,275 ERROR     File \"/home/cds/cdsservices/services/esgf_wps/__init__.py\", line 30, in execute\n",
      "2023-05-16 16:36:33,276 ERROR       request_facets, request = facets.search(context, request)\n",
      "2023-05-16 16:36:33,276 ERROR     File \"/home/cds/cdsservices/services/esgf_wps/facets.py\", line 61, in search\n",
      "2023-05-16 16:36:33,277 ERROR       raise ValueError(f'No matching data for request {tmp_request}')\n",
      "2023-05-16 16:36:33,278 ERROR   ValueError: No matching data for request {'experiment': 'ssp119', 'model': 'EC-Earth3-AerChem', 'temporal_resolution': 'mon', 'variable': 'rsds'}\n"
     ]
    },
    {
     "name": "stdout",
     "output_type": "stream",
     "text": [
      "Some parameters are not matching\n",
      "\n",
      "No value were found for the period and the project tested\n",
      "\n",
      "Test with model ec_earth3_veg\n",
      "path_for_file does exist Function copernicus search for nc\n",
      "The file is in the path Function copernicus search for nc\n",
      "\n",
      "Before path_length, The final path for the nc file is: C:\\Users\\CLMRX\\OneDrive - COWI\\Documents\\GitHub\\CRVA_tool\\outputs\\Datasets\\surface_downwelling_shortwave_radiation\\PT_Revubue 2 (Rev 2_01)\\ssp1_1_9\\ec_earth3_veg\\2016-2099\\CMIP6-copernicus-GCM\\rsds_Amon_EC-Earth3-Veg_ssp119_r1i1p1f1_gr_20160116-20991216_v20200226.nc\n",
      "\n",
      " The final path for nc file exists ? False\n",
      "\n",
      "After path_length, The final path for the nc file is: \\\\?\\C:\\Users\\CLMRX\\OneDrive - COWI\\Documents\\GitHub\\CRVA_tool\\outputs\\Datasets\\surface_downwelling_shortwave_radiation\\PT_Revubue 2 (Rev 2_01)\\ssp1_1_9\\ec_earth3_veg\\2016-2099\\CMIP6-copernicus-GCM\\rsds_Amon_EC-Earth3-Veg_ssp119_r1i1p1f1_gr_20160116-20991216_v20200226.nc\n",
      "\n",
      " The final path for nc file exists ? True\n",
      "\n",
      "Registering the data in a dataframe\n",
      "\n",
      "Value were found for the period and the project tested\n",
      "\n",
      "Test with model fgoals_f3_l\n",
      "path_for_file does not exist: the data may not have been downloaded\n",
      "file_download does not exist: the data were not downloaded\n"
     ]
    },
    {
     "name": "stderr",
     "output_type": "stream",
     "text": [
      "2023-05-16 16:37:56,771 INFO Welcome to the CDS\n",
      "2023-05-16 16:37:56,772 INFO Sending request to https://cds.climate.copernicus.eu/api/v2/resources/projections-cmip6\n",
      "2023-05-16 16:37:56,817 INFO Request is queued\n",
      "2023-05-16 16:37:57,852 INFO Request is failed\n",
      "2023-05-16 16:37:57,853 ERROR Message: an internal error occurred processing your request\n",
      "2023-05-16 16:37:57,854 ERROR Reason:  No matching data for request {'experiment': 'ssp119', 'model': 'FGOALS-f3-L', 'temporal_resolution': 'mon', 'variable': 'rsds'}\n",
      "2023-05-16 16:37:57,855 ERROR   Traceback (most recent call last):\n",
      "2023-05-16 16:37:57,856 ERROR     File \"/opt/cdstoolbox/cdscompute/cdscompute/cdshandlers/services/handler.py\", line 59, in handle_request\n",
      "2023-05-16 16:37:57,856 ERROR       result = cached(context.method, proc, context, context.args, context.kwargs)\n",
      "2023-05-16 16:37:57,857 ERROR     File \"/opt/cdstoolbox/cdscompute/cdscompute/caching.py\", line 108, in cached\n",
      "2023-05-16 16:37:57,859 ERROR       result = proc(context, *context.args, **context.kwargs)\n",
      "2023-05-16 16:37:57,860 ERROR     File \"/opt/cdstoolbox/cdscompute/cdscompute/services.py\", line 124, in __call__\n",
      "2023-05-16 16:37:57,861 ERROR       return p(*args, **kwargs)\n",
      "2023-05-16 16:37:57,862 ERROR     File \"/opt/cdstoolbox/cdscompute/cdscompute/services.py\", line 60, in __call__\n",
      "2023-05-16 16:37:57,862 ERROR       return self.proc(context, *args, **kwargs)\n",
      "2023-05-16 16:37:57,863 ERROR     File \"/home/cds/cdsservices/services/esgf_wps/__init__.py\", line 30, in execute\n",
      "2023-05-16 16:37:57,864 ERROR       request_facets, request = facets.search(context, request)\n",
      "2023-05-16 16:37:57,864 ERROR     File \"/home/cds/cdsservices/services/esgf_wps/facets.py\", line 61, in search\n",
      "2023-05-16 16:37:57,866 ERROR       raise ValueError(f'No matching data for request {tmp_request}')\n",
      "2023-05-16 16:37:57,867 ERROR   ValueError: No matching data for request {'experiment': 'ssp119', 'model': 'FGOALS-f3-L', 'temporal_resolution': 'mon', 'variable': 'rsds'}\n",
      "2023-05-16 16:37:57,902 INFO Welcome to the CDS\n",
      "2023-05-16 16:37:57,902 INFO Sending request to https://cds.climate.copernicus.eu/api/v2/resources/projections-cmip6\n",
      "2023-05-16 16:37:57,946 INFO Request is queued\n"
     ]
    },
    {
     "name": "stdout",
     "output_type": "stream",
     "text": [
      "Some parameters are not matching\n",
      "\n",
      "No value were found for the period and the project tested\n",
      "\n",
      "Test with model fio_esm_2_0\n",
      "path_for_file does not exist: the data may not have been downloaded\n",
      "file_download does not exist: the data were not downloaded\n"
     ]
    },
    {
     "name": "stderr",
     "output_type": "stream",
     "text": [
      "2023-05-16 16:37:58,985 INFO Request is failed\n",
      "2023-05-16 16:37:58,986 ERROR Message: an internal error occurred processing your request\n",
      "2023-05-16 16:37:58,987 ERROR Reason:  No matching data for request {'experiment': 'ssp119', 'model': 'FIO-ESM-2-0', 'temporal_resolution': 'mon', 'variable': 'rsds'}\n",
      "2023-05-16 16:37:58,988 ERROR   Traceback (most recent call last):\n",
      "2023-05-16 16:37:58,988 ERROR     File \"/opt/cdstoolbox/cdscompute/cdscompute/cdshandlers/services/handler.py\", line 59, in handle_request\n",
      "2023-05-16 16:37:58,989 ERROR       result = cached(context.method, proc, context, context.args, context.kwargs)\n",
      "2023-05-16 16:37:58,990 ERROR     File \"/opt/cdstoolbox/cdscompute/cdscompute/caching.py\", line 108, in cached\n",
      "2023-05-16 16:37:58,991 ERROR       result = proc(context, *context.args, **context.kwargs)\n",
      "2023-05-16 16:37:58,991 ERROR     File \"/opt/cdstoolbox/cdscompute/cdscompute/services.py\", line 124, in __call__\n",
      "2023-05-16 16:37:58,992 ERROR       return p(*args, **kwargs)\n",
      "2023-05-16 16:37:58,993 ERROR     File \"/opt/cdstoolbox/cdscompute/cdscompute/services.py\", line 60, in __call__\n",
      "2023-05-16 16:37:58,993 ERROR       return self.proc(context, *args, **kwargs)\n",
      "2023-05-16 16:37:58,994 ERROR     File \"/home/cds/cdsservices/services/esgf_wps/__init__.py\", line 30, in execute\n",
      "2023-05-16 16:37:58,995 ERROR       request_facets, request = facets.search(context, request)\n",
      "2023-05-16 16:37:58,996 ERROR     File \"/home/cds/cdsservices/services/esgf_wps/facets.py\", line 61, in search\n",
      "2023-05-16 16:37:58,997 ERROR       raise ValueError(f'No matching data for request {tmp_request}')\n",
      "2023-05-16 16:37:58,998 ERROR   ValueError: No matching data for request {'experiment': 'ssp119', 'model': 'FIO-ESM-2-0', 'temporal_resolution': 'mon', 'variable': 'rsds'}\n"
     ]
    },
    {
     "name": "stdout",
     "output_type": "stream",
     "text": [
      "Some parameters are not matching\n",
      "\n",
      "No value were found for the period and the project tested\n",
      "\n",
      "Test with model giss_e2_1_g\n",
      "path_for_file does exist Function copernicus search for nc\n",
      "The file is in the path Function copernicus search for nc\n",
      "\n",
      "Before path_length, The final path for the nc file is: C:\\Users\\CLMRX\\OneDrive - COWI\\Documents\\GitHub\\CRVA_tool\\outputs\\Datasets\\surface_downwelling_shortwave_radiation\\PT_Revubue 2 (Rev 2_01)\\ssp1_1_9\\giss_e2_1_g\\2016-2099\\CMIP6-copernicus-GCM\\rsds_Amon_GISS-E2-1-G_ssp119_r1i1p1f2_gn_20160116-20991216_v20200115.nc\n",
      "\n",
      " The final path for nc file exists ? False\n",
      "\n",
      "After path_length, The final path for the nc file is: \\\\?\\C:\\Users\\CLMRX\\OneDrive - COWI\\Documents\\GitHub\\CRVA_tool\\outputs\\Datasets\\surface_downwelling_shortwave_radiation\\PT_Revubue 2 (Rev 2_01)\\ssp1_1_9\\giss_e2_1_g\\2016-2099\\CMIP6-copernicus-GCM\\rsds_Amon_GISS-E2-1-G_ssp119_r1i1p1f2_gn_20160116-20991216_v20200115.nc\n",
      "\n",
      " The final path for nc file exists ? True\n",
      "\n",
      "Registering the data in a dataframe\n",
      "\n",
      "Value were found for the period and the project tested\n",
      "\n",
      "Test with model hadgem3_gc31_ll\n",
      "path_for_file does not exist: the data may not have been downloaded\n",
      "file_download does not exist: the data were not downloaded\n"
     ]
    },
    {
     "name": "stderr",
     "output_type": "stream",
     "text": [
      "2023-05-16 16:40:16,116 INFO Welcome to the CDS\n",
      "2023-05-16 16:40:16,118 INFO Sending request to https://cds.climate.copernicus.eu/api/v2/resources/projections-cmip6\n",
      "2023-05-16 16:40:16,200 INFO Request is queued\n",
      "2023-05-16 16:40:17,241 INFO Request is failed\n",
      "2023-05-16 16:40:17,244 ERROR Message: an internal error occurred processing your request\n",
      "2023-05-16 16:40:17,244 ERROR Reason:  No matching data for request {'experiment': 'ssp119', 'model': 'HadGEM3-GC31-LL', 'temporal_resolution': 'mon', 'variable': 'rsds'}\n",
      "2023-05-16 16:40:17,247 ERROR   Traceback (most recent call last):\n",
      "2023-05-16 16:40:17,249 ERROR     File \"/opt/cdstoolbox/cdscompute/cdscompute/cdshandlers/services/handler.py\", line 59, in handle_request\n",
      "2023-05-16 16:40:17,250 ERROR       result = cached(context.method, proc, context, context.args, context.kwargs)\n",
      "2023-05-16 16:40:17,252 ERROR     File \"/opt/cdstoolbox/cdscompute/cdscompute/caching.py\", line 108, in cached\n",
      "2023-05-16 16:40:17,254 ERROR       result = proc(context, *context.args, **context.kwargs)\n",
      "2023-05-16 16:40:17,256 ERROR     File \"/opt/cdstoolbox/cdscompute/cdscompute/services.py\", line 124, in __call__\n",
      "2023-05-16 16:40:17,257 ERROR       return p(*args, **kwargs)\n",
      "2023-05-16 16:40:17,258 ERROR     File \"/opt/cdstoolbox/cdscompute/cdscompute/services.py\", line 60, in __call__\n",
      "2023-05-16 16:40:17,259 ERROR       return self.proc(context, *args, **kwargs)\n",
      "2023-05-16 16:40:17,261 ERROR     File \"/home/cds/cdsservices/services/esgf_wps/__init__.py\", line 30, in execute\n",
      "2023-05-16 16:40:17,262 ERROR       request_facets, request = facets.search(context, request)\n",
      "2023-05-16 16:40:17,264 ERROR     File \"/home/cds/cdsservices/services/esgf_wps/facets.py\", line 61, in search\n",
      "2023-05-16 16:40:17,266 ERROR       raise ValueError(f'No matching data for request {tmp_request}')\n",
      "2023-05-16 16:40:17,267 ERROR   ValueError: No matching data for request {'experiment': 'ssp119', 'model': 'HadGEM3-GC31-LL', 'temporal_resolution': 'mon', 'variable': 'rsds'}\n",
      "2023-05-16 16:40:17,304 INFO Welcome to the CDS\n",
      "2023-05-16 16:40:17,305 INFO Sending request to https://cds.climate.copernicus.eu/api/v2/resources/projections-cmip6\n",
      "2023-05-16 16:40:17,365 INFO Request is queued\n"
     ]
    },
    {
     "name": "stdout",
     "output_type": "stream",
     "text": [
      "Some parameters are not matching\n",
      "\n",
      "No value were found for the period and the project tested\n",
      "\n",
      "Test with model iitm_esm\n",
      "path_for_file does not exist: the data may not have been downloaded\n",
      "file_download does not exist: the data were not downloaded\n"
     ]
    },
    {
     "name": "stderr",
     "output_type": "stream",
     "text": [
      "2023-05-16 16:40:18,404 INFO Request is failed\n",
      "2023-05-16 16:40:18,406 ERROR Message: an internal error occurred processing your request\n",
      "2023-05-16 16:40:18,408 ERROR Reason:  No matching data for request {'experiment': 'ssp119', 'model': 'IITM-ESM', 'temporal_resolution': 'mon', 'variable': 'rsds'}\n",
      "2023-05-16 16:40:18,411 ERROR   Traceback (most recent call last):\n",
      "2023-05-16 16:40:18,413 ERROR     File \"/opt/cdstoolbox/cdscompute/cdscompute/cdshandlers/services/handler.py\", line 59, in handle_request\n",
      "2023-05-16 16:40:18,415 ERROR       result = cached(context.method, proc, context, context.args, context.kwargs)\n",
      "2023-05-16 16:40:18,416 ERROR     File \"/opt/cdstoolbox/cdscompute/cdscompute/caching.py\", line 108, in cached\n",
      "2023-05-16 16:40:18,418 ERROR       result = proc(context, *context.args, **context.kwargs)\n",
      "2023-05-16 16:40:18,419 ERROR     File \"/opt/cdstoolbox/cdscompute/cdscompute/services.py\", line 124, in __call__\n",
      "2023-05-16 16:40:18,421 ERROR       return p(*args, **kwargs)\n",
      "2023-05-16 16:40:18,422 ERROR     File \"/opt/cdstoolbox/cdscompute/cdscompute/services.py\", line 60, in __call__\n",
      "2023-05-16 16:40:18,423 ERROR       return self.proc(context, *args, **kwargs)\n",
      "2023-05-16 16:40:18,424 ERROR     File \"/home/cds/cdsservices/services/esgf_wps/__init__.py\", line 30, in execute\n",
      "2023-05-16 16:40:18,426 ERROR       request_facets, request = facets.search(context, request)\n",
      "2023-05-16 16:40:18,429 ERROR     File \"/home/cds/cdsservices/services/esgf_wps/facets.py\", line 61, in search\n",
      "2023-05-16 16:40:18,430 ERROR       raise ValueError(f'No matching data for request {tmp_request}')\n",
      "2023-05-16 16:40:18,431 ERROR   ValueError: No matching data for request {'experiment': 'ssp119', 'model': 'IITM-ESM', 'temporal_resolution': 'mon', 'variable': 'rsds'}\n",
      "2023-05-16 16:40:18,481 INFO Welcome to the CDS\n",
      "2023-05-16 16:40:18,482 INFO Sending request to https://cds.climate.copernicus.eu/api/v2/resources/projections-cmip6\n",
      "2023-05-16 16:40:18,560 INFO Request is queued\n"
     ]
    },
    {
     "name": "stdout",
     "output_type": "stream",
     "text": [
      "Some parameters are not matching\n",
      "\n",
      "No value were found for the period and the project tested\n",
      "\n",
      "Test with model inm_cm5_0\n",
      "path_for_file does not exist: the data may not have been downloaded\n",
      "file_download does not exist: the data were not downloaded\n"
     ]
    },
    {
     "name": "stderr",
     "output_type": "stream",
     "text": [
      "2023-05-16 16:40:19,602 INFO Request is failed\n",
      "2023-05-16 16:40:19,603 ERROR Message: an internal error occurred processing your request\n",
      "2023-05-16 16:40:19,605 ERROR Reason:  No matching data for request {'experiment': 'ssp119', 'model': 'INM-CM5-0', 'temporal_resolution': 'mon', 'variable': 'rsds'}\n",
      "2023-05-16 16:40:19,608 ERROR   Traceback (most recent call last):\n",
      "2023-05-16 16:40:19,610 ERROR     File \"/opt/cdstoolbox/cdscompute/cdscompute/cdshandlers/services/handler.py\", line 59, in handle_request\n",
      "2023-05-16 16:40:19,612 ERROR       result = cached(context.method, proc, context, context.args, context.kwargs)\n",
      "2023-05-16 16:40:19,615 ERROR     File \"/opt/cdstoolbox/cdscompute/cdscompute/caching.py\", line 108, in cached\n",
      "2023-05-16 16:40:19,617 ERROR       result = proc(context, *context.args, **context.kwargs)\n",
      "2023-05-16 16:40:19,618 ERROR     File \"/opt/cdstoolbox/cdscompute/cdscompute/services.py\", line 124, in __call__\n",
      "2023-05-16 16:40:19,621 ERROR       return p(*args, **kwargs)\n",
      "2023-05-16 16:40:19,622 ERROR     File \"/opt/cdstoolbox/cdscompute/cdscompute/services.py\", line 60, in __call__\n",
      "2023-05-16 16:40:19,623 ERROR       return self.proc(context, *args, **kwargs)\n",
      "2023-05-16 16:40:19,624 ERROR     File \"/home/cds/cdsservices/services/esgf_wps/__init__.py\", line 30, in execute\n",
      "2023-05-16 16:40:19,626 ERROR       request_facets, request = facets.search(context, request)\n",
      "2023-05-16 16:40:19,631 ERROR     File \"/home/cds/cdsservices/services/esgf_wps/facets.py\", line 61, in search\n",
      "2023-05-16 16:40:19,633 ERROR       raise ValueError(f'No matching data for request {tmp_request}')\n",
      "2023-05-16 16:40:19,635 ERROR   ValueError: No matching data for request {'experiment': 'ssp119', 'model': 'INM-CM5-0', 'temporal_resolution': 'mon', 'variable': 'rsds'}\n"
     ]
    },
    {
     "name": "stdout",
     "output_type": "stream",
     "text": [
      "Some parameters are not matching\n",
      "\n",
      "No value were found for the period and the project tested\n",
      "\n",
      "Test with model ipsl_cm6a_lr\n",
      "path_for_file does exist Function copernicus search for nc\n",
      "The file is in the path Function copernicus search for nc\n",
      "\n",
      "Before path_length, The final path for the nc file is: C:\\Users\\CLMRX\\OneDrive - COWI\\Documents\\GitHub\\CRVA_tool\\outputs\\Datasets\\surface_downwelling_shortwave_radiation\\PT_Revubue 2 (Rev 2_01)\\ssp1_1_9\\ipsl_cm6a_lr\\2016-2099\\CMIP6-copernicus-GCM\\rsds_Amon_IPSL-CM6A-LR_ssp119_r1i1p1f1_gr_20160116-20991216_v20190410.nc\n",
      "\n",
      " The final path for nc file exists ? False\n",
      "\n",
      "After path_length, The final path for the nc file is: \\\\?\\C:\\Users\\CLMRX\\OneDrive - COWI\\Documents\\GitHub\\CRVA_tool\\outputs\\Datasets\\surface_downwelling_shortwave_radiation\\PT_Revubue 2 (Rev 2_01)\\ssp1_1_9\\ipsl_cm6a_lr\\2016-2099\\CMIP6-copernicus-GCM\\rsds_Amon_IPSL-CM6A-LR_ssp119_r1i1p1f1_gr_20160116-20991216_v20190410.nc\n",
      "\n",
      " The final path for nc file exists ? True\n",
      "\n",
      "Registering the data in a dataframe\n",
      "\n",
      "Value were found for the period and the project tested\n",
      "\n",
      "Test with model kiost_esm\n",
      "path_for_file does not exist: the data may not have been downloaded\n",
      "file_download does not exist: the data were not downloaded\n"
     ]
    },
    {
     "name": "stderr",
     "output_type": "stream",
     "text": [
      "2023-05-16 16:42:53,798 INFO Welcome to the CDS\n",
      "2023-05-16 16:42:53,799 INFO Sending request to https://cds.climate.copernicus.eu/api/v2/resources/projections-cmip6\n",
      "2023-05-16 16:42:53,843 INFO Request is queued\n",
      "2023-05-16 16:42:54,888 INFO Request is failed\n",
      "2023-05-16 16:42:54,889 ERROR Message: an internal error occurred processing your request\n",
      "2023-05-16 16:42:54,891 ERROR Reason:  No matching data for request {'experiment': 'ssp119', 'model': 'KIOST-ESM', 'temporal_resolution': 'mon', 'variable': 'rsds'}\n",
      "2023-05-16 16:42:54,892 ERROR   Traceback (most recent call last):\n",
      "2023-05-16 16:42:54,895 ERROR     File \"/opt/cdstoolbox/cdscompute/cdscompute/cdshandlers/services/handler.py\", line 59, in handle_request\n",
      "2023-05-16 16:42:54,896 ERROR       result = cached(context.method, proc, context, context.args, context.kwargs)\n",
      "2023-05-16 16:42:54,898 ERROR     File \"/opt/cdstoolbox/cdscompute/cdscompute/caching.py\", line 108, in cached\n",
      "2023-05-16 16:42:54,899 ERROR       result = proc(context, *context.args, **context.kwargs)\n",
      "2023-05-16 16:42:54,901 ERROR     File \"/opt/cdstoolbox/cdscompute/cdscompute/services.py\", line 124, in __call__\n",
      "2023-05-16 16:42:54,905 ERROR       return p(*args, **kwargs)\n",
      "2023-05-16 16:42:54,907 ERROR     File \"/opt/cdstoolbox/cdscompute/cdscompute/services.py\", line 60, in __call__\n",
      "2023-05-16 16:42:54,907 ERROR       return self.proc(context, *args, **kwargs)\n",
      "2023-05-16 16:42:54,909 ERROR     File \"/home/cds/cdsservices/services/esgf_wps/__init__.py\", line 30, in execute\n",
      "2023-05-16 16:42:54,911 ERROR       request_facets, request = facets.search(context, request)\n",
      "2023-05-16 16:42:54,913 ERROR     File \"/home/cds/cdsservices/services/esgf_wps/facets.py\", line 61, in search\n",
      "2023-05-16 16:42:54,916 ERROR       raise ValueError(f'No matching data for request {tmp_request}')\n",
      "2023-05-16 16:42:54,917 ERROR   ValueError: No matching data for request {'experiment': 'ssp119', 'model': 'KIOST-ESM', 'temporal_resolution': 'mon', 'variable': 'rsds'}\n"
     ]
    },
    {
     "name": "stdout",
     "output_type": "stream",
     "text": [
      "Some parameters are not matching\n",
      "\n",
      "No value were found for the period and the project tested\n",
      "\n",
      "Test with model miroc6\n",
      "path_for_file does exist Function copernicus search for nc\n",
      "The file is in the path Function copernicus search for nc\n",
      "\n",
      "Before path_length, The final path for the nc file is: C:\\Users\\CLMRX\\OneDrive - COWI\\Documents\\GitHub\\CRVA_tool\\outputs\\Datasets\\surface_downwelling_shortwave_radiation\\PT_Revubue 2 (Rev 2_01)\\ssp1_1_9\\miroc6\\2016-2099\\CMIP6-copernicus-GCM\\rsds_Amon_MIROC6_ssp119_r1i1p1f1_gn_20160116-20991216_v201908.nc\n",
      "\n",
      " The final path for nc file exists ? True\n",
      "\n",
      "After path_length, The final path for the nc file is: C:\\Users\\CLMRX\\OneDrive - COWI\\Documents\\GitHub\\CRVA_tool\\outputs\\Datasets\\surface_downwelling_shortwave_radiation\\PT_Revubue 2 (Rev 2_01)\\ssp1_1_9\\miroc6\\2016-2099\\CMIP6-copernicus-GCM\\rsds_Amon_MIROC6_ssp119_r1i1p1f1_gn_20160116-20991216_v201908.nc\n",
      "\n",
      " The final path for nc file exists ? True\n",
      "\n",
      "Registering the data in a dataframe\n",
      "\n",
      "Value were found for the period and the project tested\n",
      "\n",
      "Test with model miroc_es2l\n",
      "path_for_file does exist Function copernicus search for nc\n",
      "The file is in the path Function copernicus search for nc\n",
      "\n",
      "Before path_length, The final path for the nc file is: C:\\Users\\CLMRX\\OneDrive - COWI\\Documents\\GitHub\\CRVA_tool\\outputs\\Datasets\\surface_downwelling_shortwave_radiation\\PT_Revubue 2 (Rev 2_01)\\ssp1_1_9\\miroc_es2l\\2016-2099\\CMIP6-copernicus-GCM\\rsds_Amon_MIROC-ES2L_ssp119_r1i1p1f2_gn_20160116-20991216_v20190823.nc\n",
      "\n",
      " The final path for nc file exists ? False\n",
      "\n",
      "After path_length, The final path for the nc file is: \\\\?\\C:\\Users\\CLMRX\\OneDrive - COWI\\Documents\\GitHub\\CRVA_tool\\outputs\\Datasets\\surface_downwelling_shortwave_radiation\\PT_Revubue 2 (Rev 2_01)\\ssp1_1_9\\miroc_es2l\\2016-2099\\CMIP6-copernicus-GCM\\rsds_Amon_MIROC-ES2L_ssp119_r1i1p1f2_gn_20160116-20991216_v20190823.nc\n",
      "\n",
      " The final path for nc file exists ? True\n",
      "\n",
      "Registering the data in a dataframe\n",
      "\n",
      "Value were found for the period and the project tested\n",
      "\n",
      "Test with model mpi_esm1_2_hr\n",
      "path_for_file does not exist: the data may not have been downloaded\n",
      "file_download does not exist: the data were not downloaded\n"
     ]
    },
    {
     "name": "stderr",
     "output_type": "stream",
     "text": [
      "2023-05-16 16:50:00,607 INFO Welcome to the CDS\n",
      "2023-05-16 16:50:00,608 INFO Sending request to https://cds.climate.copernicus.eu/api/v2/resources/projections-cmip6\n",
      "2023-05-16 16:50:00,662 INFO Request is queued\n",
      "2023-05-16 16:50:01,701 INFO Request is failed\n",
      "2023-05-16 16:50:01,702 ERROR Message: an internal error occurred processing your request\n",
      "2023-05-16 16:50:01,703 ERROR Reason:  No matching data for request {'experiment': 'ssp119', 'model': 'MPI-ESM1-2-HR', 'temporal_resolution': 'mon', 'variable': 'rsds'}\n",
      "2023-05-16 16:50:01,703 ERROR   Traceback (most recent call last):\n",
      "2023-05-16 16:50:01,704 ERROR     File \"/opt/cdstoolbox/cdscompute/cdscompute/cdshandlers/services/handler.py\", line 59, in handle_request\n",
      "2023-05-16 16:50:01,704 ERROR       result = cached(context.method, proc, context, context.args, context.kwargs)\n",
      "2023-05-16 16:50:01,706 ERROR     File \"/opt/cdstoolbox/cdscompute/cdscompute/caching.py\", line 108, in cached\n",
      "2023-05-16 16:50:01,706 ERROR       result = proc(context, *context.args, **context.kwargs)\n",
      "2023-05-16 16:50:01,708 ERROR     File \"/opt/cdstoolbox/cdscompute/cdscompute/services.py\", line 124, in __call__\n",
      "2023-05-16 16:50:01,709 ERROR       return p(*args, **kwargs)\n",
      "2023-05-16 16:50:01,710 ERROR     File \"/opt/cdstoolbox/cdscompute/cdscompute/services.py\", line 60, in __call__\n",
      "2023-05-16 16:50:01,711 ERROR       return self.proc(context, *args, **kwargs)\n",
      "2023-05-16 16:50:01,711 ERROR     File \"/home/cds/cdsservices/services/esgf_wps/__init__.py\", line 30, in execute\n",
      "2023-05-16 16:50:01,711 ERROR       request_facets, request = facets.search(context, request)\n",
      "2023-05-16 16:50:01,712 ERROR     File \"/home/cds/cdsservices/services/esgf_wps/facets.py\", line 61, in search\n",
      "2023-05-16 16:50:01,713 ERROR       raise ValueError(f'No matching data for request {tmp_request}')\n",
      "2023-05-16 16:50:01,715 ERROR   ValueError: No matching data for request {'experiment': 'ssp119', 'model': 'MPI-ESM1-2-HR', 'temporal_resolution': 'mon', 'variable': 'rsds'}\n",
      "2023-05-16 16:50:01,749 INFO Welcome to the CDS\n",
      "2023-05-16 16:50:01,751 INFO Sending request to https://cds.climate.copernicus.eu/api/v2/resources/projections-cmip6\n",
      "2023-05-16 16:50:01,805 INFO Request is queued\n"
     ]
    },
    {
     "name": "stdout",
     "output_type": "stream",
     "text": [
      "Some parameters are not matching\n",
      "\n",
      "No value were found for the period and the project tested\n",
      "\n",
      "Test with model mri_esm2_0\n",
      "path_for_file does not exist: the data may not have been downloaded\n",
      "file_download does not exist: the data were not downloaded\n"
     ]
    },
    {
     "name": "stderr",
     "output_type": "stream",
     "text": [
      "2023-05-16 16:50:02,852 INFO Request is running\n",
      "2023-05-16 16:50:51,423 INFO Request is completed\n",
      "2023-05-16 16:50:51,425 INFO Downloading https://download-0006-clone.copernicus-climate.eu/cache-compute-0006/cache/data3/adaptor.esgf_wps.retrieve-1684248646.576751-25806-15-52ecea40-c506-4d60-a237-1242df8dd5cf.zip to download.zip (5.9M)\n",
      "2023-05-16 16:50:52,663 INFO Download rate 4.8M/s                                                                      \n"
     ]
    },
    {
     "name": "stdout",
     "output_type": "stream",
     "text": [
      "\n",
      " The downloaded file is extracted\n",
      "path_for_file does exist Function copernicus search for nc\n",
      "The file is in the path Function copernicus search for nc\n",
      "\n",
      "Before path_length, The final path for the nc file is: C:\\Users\\CLMRX\\OneDrive - COWI\\Documents\\GitHub\\CRVA_tool\\outputs\\Datasets\\surface_downwelling_shortwave_radiation\\PT_Revubue 2 (Rev 2_01)\\ssp1_1_9\\mri_esm2_0\\2016-2099\\CMIP6-copernicus-GCM\\rsds_Amon_MRI-ESM2-0_ssp119_r1i1p1f1_gn_20160116-20991216_v20190222.nc\n",
      "\n",
      " The final path for nc file exists ? False\n",
      "\n",
      "After path_length, The final path for the nc file is: \\\\?\\C:\\Users\\CLMRX\\OneDrive - COWI\\Documents\\GitHub\\CRVA_tool\\outputs\\Datasets\\surface_downwelling_shortwave_radiation\\PT_Revubue 2 (Rev 2_01)\\ssp1_1_9\\mri_esm2_0\\2016-2099\\CMIP6-copernicus-GCM\\rsds_Amon_MRI-ESM2-0_ssp119_r1i1p1f1_gn_20160116-20991216_v20190222.nc\n",
      "\n",
      " The final path for nc file exists ? True\n",
      "\n",
      "\n",
      "\n",
      "---------------  Path to nc file exists ?? ---------------\n",
      "\n",
      "True\n",
      "\n",
      "\n",
      "Registering the data in a dataframe\n",
      "\n",
      "Value were found for the period and the project tested\n",
      "\n",
      "Test with model norcpm1\n",
      "path_for_file does not exist: the data may not have been downloaded\n",
      "file_download does not exist: the data were not downloaded\n"
     ]
    },
    {
     "name": "stderr",
     "output_type": "stream",
     "text": [
      "2023-05-16 16:54:51,787 INFO Welcome to the CDS\n",
      "2023-05-16 16:54:51,789 INFO Sending request to https://cds.climate.copernicus.eu/api/v2/resources/projections-cmip6\n",
      "2023-05-16 16:54:51,834 INFO Request is queued\n",
      "2023-05-16 16:54:52,886 INFO Request is failed\n",
      "2023-05-16 16:54:52,888 ERROR Message: an internal error occurred processing your request\n",
      "2023-05-16 16:54:52,890 ERROR Reason:  No matching data for request {'experiment': 'ssp119', 'model': 'NorCPM1', 'temporal_resolution': 'mon', 'variable': 'rsds'}\n",
      "2023-05-16 16:54:52,891 ERROR   Traceback (most recent call last):\n",
      "2023-05-16 16:54:52,893 ERROR     File \"/opt/cdstoolbox/cdscompute/cdscompute/cdshandlers/services/handler.py\", line 59, in handle_request\n",
      "2023-05-16 16:54:52,894 ERROR       result = cached(context.method, proc, context, context.args, context.kwargs)\n",
      "2023-05-16 16:54:52,895 ERROR     File \"/opt/cdstoolbox/cdscompute/cdscompute/caching.py\", line 108, in cached\n",
      "2023-05-16 16:54:52,896 ERROR       result = proc(context, *context.args, **context.kwargs)\n",
      "2023-05-16 16:54:52,896 ERROR     File \"/opt/cdstoolbox/cdscompute/cdscompute/services.py\", line 124, in __call__\n",
      "2023-05-16 16:54:52,897 ERROR       return p(*args, **kwargs)\n",
      "2023-05-16 16:54:52,898 ERROR     File \"/opt/cdstoolbox/cdscompute/cdscompute/services.py\", line 60, in __call__\n",
      "2023-05-16 16:54:52,898 ERROR       return self.proc(context, *args, **kwargs)\n",
      "2023-05-16 16:54:52,899 ERROR     File \"/home/cds/cdsservices/services/esgf_wps/__init__.py\", line 30, in execute\n",
      "2023-05-16 16:54:52,899 ERROR       request_facets, request = facets.search(context, request)\n",
      "2023-05-16 16:54:52,900 ERROR     File \"/home/cds/cdsservices/services/esgf_wps/facets.py\", line 61, in search\n",
      "2023-05-16 16:54:52,900 ERROR       raise ValueError(f'No matching data for request {tmp_request}')\n",
      "2023-05-16 16:54:52,901 ERROR   ValueError: No matching data for request {'experiment': 'ssp119', 'model': 'NorCPM1', 'temporal_resolution': 'mon', 'variable': 'rsds'}\n",
      "2023-05-16 16:54:52,939 INFO Welcome to the CDS\n",
      "2023-05-16 16:54:52,940 INFO Sending request to https://cds.climate.copernicus.eu/api/v2/resources/projections-cmip6\n",
      "2023-05-16 16:54:53,060 INFO Request is queued\n"
     ]
    },
    {
     "name": "stdout",
     "output_type": "stream",
     "text": [
      "Some parameters are not matching\n",
      "\n",
      "No value were found for the period and the project tested\n",
      "\n",
      "Test with model noresm2_mm\n",
      "path_for_file does not exist: the data may not have been downloaded\n",
      "file_download does not exist: the data were not downloaded\n"
     ]
    },
    {
     "name": "stderr",
     "output_type": "stream",
     "text": [
      "2023-05-16 16:54:54,101 INFO Request is failed\n",
      "2023-05-16 16:54:54,102 ERROR Message: an internal error occurred processing your request\n",
      "2023-05-16 16:54:54,103 ERROR Reason:  No matching data for request {'experiment': 'ssp119', 'model': 'NorESM2-MM', 'temporal_resolution': 'mon', 'variable': 'rsds'}\n",
      "2023-05-16 16:54:54,104 ERROR   Traceback (most recent call last):\n",
      "2023-05-16 16:54:54,105 ERROR     File \"/opt/cdstoolbox/cdscompute/cdscompute/cdshandlers/services/handler.py\", line 59, in handle_request\n",
      "2023-05-16 16:54:54,107 ERROR       result = cached(context.method, proc, context, context.args, context.kwargs)\n",
      "2023-05-16 16:54:54,109 ERROR     File \"/opt/cdstoolbox/cdscompute/cdscompute/caching.py\", line 108, in cached\n",
      "2023-05-16 16:54:54,110 ERROR       result = proc(context, *context.args, **context.kwargs)\n",
      "2023-05-16 16:54:54,110 ERROR     File \"/opt/cdstoolbox/cdscompute/cdscompute/services.py\", line 124, in __call__\n",
      "2023-05-16 16:54:54,111 ERROR       return p(*args, **kwargs)\n",
      "2023-05-16 16:54:54,112 ERROR     File \"/opt/cdstoolbox/cdscompute/cdscompute/services.py\", line 60, in __call__\n",
      "2023-05-16 16:54:54,114 ERROR       return self.proc(context, *args, **kwargs)\n",
      "2023-05-16 16:54:54,115 ERROR     File \"/home/cds/cdsservices/services/esgf_wps/__init__.py\", line 30, in execute\n",
      "2023-05-16 16:54:54,115 ERROR       request_facets, request = facets.search(context, request)\n",
      "2023-05-16 16:54:54,116 ERROR     File \"/home/cds/cdsservices/services/esgf_wps/facets.py\", line 61, in search\n",
      "2023-05-16 16:54:54,117 ERROR       raise ValueError(f'No matching data for request {tmp_request}')\n",
      "2023-05-16 16:54:54,119 ERROR   ValueError: No matching data for request {'experiment': 'ssp119', 'model': 'NorESM2-MM', 'temporal_resolution': 'mon', 'variable': 'rsds'}\n",
      "2023-05-16 16:54:54,154 INFO Welcome to the CDS\n",
      "2023-05-16 16:54:54,155 INFO Sending request to https://cds.climate.copernicus.eu/api/v2/resources/projections-cmip6\n",
      "2023-05-16 16:54:54,211 INFO Request is queued\n"
     ]
    },
    {
     "name": "stdout",
     "output_type": "stream",
     "text": [
      "Some parameters are not matching\n",
      "\n",
      "No value were found for the period and the project tested\n",
      "\n",
      "Test with model taiesm1\n",
      "path_for_file does not exist: the data may not have been downloaded\n",
      "file_download does not exist: the data were not downloaded\n"
     ]
    },
    {
     "name": "stderr",
     "output_type": "stream",
     "text": [
      "2023-05-16 16:54:55,253 INFO Request is failed\n",
      "2023-05-16 16:54:55,254 ERROR Message: an internal error occurred processing your request\n",
      "2023-05-16 16:54:55,256 ERROR Reason:  No matching data for request {'experiment': 'ssp119', 'model': 'TaiESM1', 'temporal_resolution': 'mon', 'variable': 'rsds'}\n",
      "2023-05-16 16:54:55,258 ERROR   Traceback (most recent call last):\n",
      "2023-05-16 16:54:55,261 ERROR     File \"/opt/cdstoolbox/cdscompute/cdscompute/cdshandlers/services/handler.py\", line 59, in handle_request\n",
      "2023-05-16 16:54:55,262 ERROR       result = cached(context.method, proc, context, context.args, context.kwargs)\n",
      "2023-05-16 16:54:55,262 ERROR     File \"/opt/cdstoolbox/cdscompute/cdscompute/caching.py\", line 108, in cached\n",
      "2023-05-16 16:54:55,265 ERROR       result = proc(context, *context.args, **context.kwargs)\n",
      "2023-05-16 16:54:55,266 ERROR     File \"/opt/cdstoolbox/cdscompute/cdscompute/services.py\", line 124, in __call__\n",
      "2023-05-16 16:54:55,270 ERROR       return p(*args, **kwargs)\n",
      "2023-05-16 16:54:55,270 ERROR     File \"/opt/cdstoolbox/cdscompute/cdscompute/services.py\", line 60, in __call__\n",
      "2023-05-16 16:54:55,271 ERROR       return self.proc(context, *args, **kwargs)\n",
      "2023-05-16 16:54:55,272 ERROR     File \"/home/cds/cdsservices/services/esgf_wps/__init__.py\", line 30, in execute\n",
      "2023-05-16 16:54:55,273 ERROR       request_facets, request = facets.search(context, request)\n",
      "2023-05-16 16:54:55,276 ERROR     File \"/home/cds/cdsservices/services/esgf_wps/facets.py\", line 61, in search\n",
      "2023-05-16 16:54:55,277 ERROR       raise ValueError(f'No matching data for request {tmp_request}')\n",
      "2023-05-16 16:54:55,277 ERROR   ValueError: No matching data for request {'experiment': 'ssp119', 'model': 'TaiESM1', 'temporal_resolution': 'mon', 'variable': 'rsds'}\n",
      "2023-05-16 16:54:55,314 INFO Welcome to the CDS\n",
      "2023-05-16 16:54:55,315 INFO Sending request to https://cds.climate.copernicus.eu/api/v2/resources/projections-cmip6\n",
      "2023-05-16 16:54:55,370 INFO Request is queued\n"
     ]
    },
    {
     "name": "stdout",
     "output_type": "stream",
     "text": [
      "Some parameters are not matching\n",
      "\n",
      "No value were found for the period and the project tested\n",
      "\n",
      "Test with model access_esm1_5\n",
      "path_for_file does not exist: the data may not have been downloaded\n",
      "file_download does not exist: the data were not downloaded\n"
     ]
    },
    {
     "name": "stderr",
     "output_type": "stream",
     "text": [
      "2023-05-16 16:54:56,411 INFO Request is failed\n",
      "2023-05-16 16:54:56,413 ERROR Message: an internal error occurred processing your request\n",
      "2023-05-16 16:54:56,415 ERROR Reason:  No matching data for request {'experiment': 'ssp119', 'model': 'ACCESS-ESM1-5', 'temporal_resolution': 'mon', 'variable': 'rsds'}\n",
      "2023-05-16 16:54:56,418 ERROR   Traceback (most recent call last):\n",
      "2023-05-16 16:54:56,420 ERROR     File \"/opt/cdstoolbox/cdscompute/cdscompute/cdshandlers/services/handler.py\", line 59, in handle_request\n",
      "2023-05-16 16:54:56,421 ERROR       result = cached(context.method, proc, context, context.args, context.kwargs)\n",
      "2023-05-16 16:54:56,422 ERROR     File \"/opt/cdstoolbox/cdscompute/cdscompute/caching.py\", line 108, in cached\n",
      "2023-05-16 16:54:56,423 ERROR       result = proc(context, *context.args, **context.kwargs)\n",
      "2023-05-16 16:54:56,425 ERROR     File \"/opt/cdstoolbox/cdscompute/cdscompute/services.py\", line 124, in __call__\n",
      "2023-05-16 16:54:56,426 ERROR       return p(*args, **kwargs)\n",
      "2023-05-16 16:54:56,426 ERROR     File \"/opt/cdstoolbox/cdscompute/cdscompute/services.py\", line 60, in __call__\n",
      "2023-05-16 16:54:56,428 ERROR       return self.proc(context, *args, **kwargs)\n",
      "2023-05-16 16:54:56,428 ERROR     File \"/home/cds/cdsservices/services/esgf_wps/__init__.py\", line 30, in execute\n",
      "2023-05-16 16:54:56,430 ERROR       request_facets, request = facets.search(context, request)\n",
      "2023-05-16 16:54:56,431 ERROR     File \"/home/cds/cdsservices/services/esgf_wps/facets.py\", line 61, in search\n",
      "2023-05-16 16:54:56,432 ERROR       raise ValueError(f'No matching data for request {tmp_request}')\n",
      "2023-05-16 16:54:56,432 ERROR   ValueError: No matching data for request {'experiment': 'ssp119', 'model': 'ACCESS-ESM1-5', 'temporal_resolution': 'mon', 'variable': 'rsds'}\n",
      "2023-05-16 16:54:56,465 INFO Welcome to the CDS\n",
      "2023-05-16 16:54:56,466 INFO Sending request to https://cds.climate.copernicus.eu/api/v2/resources/projections-cmip6\n",
      "2023-05-16 16:54:56,527 INFO Request is queued\n"
     ]
    },
    {
     "name": "stdout",
     "output_type": "stream",
     "text": [
      "Some parameters are not matching\n",
      "\n",
      "No value were found for the period and the project tested\n",
      "\n",
      "Test with model awi_esm_1_1_lr\n",
      "path_for_file does not exist: the data may not have been downloaded\n",
      "file_download does not exist: the data were not downloaded\n"
     ]
    },
    {
     "name": "stderr",
     "output_type": "stream",
     "text": [
      "2023-05-16 16:54:57,577 INFO Request is failed\n",
      "2023-05-16 16:54:57,578 ERROR Message: an internal error occurred processing your request\n",
      "2023-05-16 16:54:57,580 ERROR Reason:  No matching data for request {'experiment': 'ssp119', 'model': 'AWI-ESM-1-1-LR', 'temporal_resolution': 'mon', 'variable': 'rsds'}\n",
      "2023-05-16 16:54:57,582 ERROR   Traceback (most recent call last):\n",
      "2023-05-16 16:54:57,584 ERROR     File \"/opt/cdstoolbox/cdscompute/cdscompute/cdshandlers/services/handler.py\", line 59, in handle_request\n",
      "2023-05-16 16:54:57,585 ERROR       result = cached(context.method, proc, context, context.args, context.kwargs)\n",
      "2023-05-16 16:54:57,586 ERROR     File \"/opt/cdstoolbox/cdscompute/cdscompute/caching.py\", line 108, in cached\n",
      "2023-05-16 16:54:57,591 ERROR       result = proc(context, *context.args, **context.kwargs)\n",
      "2023-05-16 16:54:57,593 ERROR     File \"/opt/cdstoolbox/cdscompute/cdscompute/services.py\", line 124, in __call__\n",
      "2023-05-16 16:54:57,595 ERROR       return p(*args, **kwargs)\n",
      "2023-05-16 16:54:57,597 ERROR     File \"/opt/cdstoolbox/cdscompute/cdscompute/services.py\", line 60, in __call__\n",
      "2023-05-16 16:54:57,598 ERROR       return self.proc(context, *args, **kwargs)\n",
      "2023-05-16 16:54:57,599 ERROR     File \"/home/cds/cdsservices/services/esgf_wps/__init__.py\", line 30, in execute\n",
      "2023-05-16 16:54:57,601 ERROR       request_facets, request = facets.search(context, request)\n",
      "2023-05-16 16:54:57,602 ERROR     File \"/home/cds/cdsservices/services/esgf_wps/facets.py\", line 61, in search\n",
      "2023-05-16 16:54:57,602 ERROR       raise ValueError(f'No matching data for request {tmp_request}')\n",
      "2023-05-16 16:54:57,604 ERROR   ValueError: No matching data for request {'experiment': 'ssp119', 'model': 'AWI-ESM-1-1-LR', 'temporal_resolution': 'mon', 'variable': 'rsds'}\n",
      "2023-05-16 16:54:57,636 INFO Welcome to the CDS\n",
      "2023-05-16 16:54:57,638 INFO Sending request to https://cds.climate.copernicus.eu/api/v2/resources/projections-cmip6\n",
      "2023-05-16 16:54:57,743 INFO Request is queued\n"
     ]
    },
    {
     "name": "stdout",
     "output_type": "stream",
     "text": [
      "Some parameters are not matching\n",
      "\n",
      "No value were found for the period and the project tested\n",
      "\n",
      "Test with model bcc_esm1\n",
      "path_for_file does not exist: the data may not have been downloaded\n",
      "file_download does not exist: the data were not downloaded\n"
     ]
    },
    {
     "name": "stderr",
     "output_type": "stream",
     "text": [
      "2023-05-16 16:54:58,793 INFO Request is failed\n",
      "2023-05-16 16:54:58,795 ERROR Message: an internal error occurred processing your request\n",
      "2023-05-16 16:54:58,795 ERROR Reason:  No matching data for request {'experiment': 'ssp119', 'model': 'BCC-ESM1', 'temporal_resolution': 'mon', 'variable': 'rsds'}\n",
      "2023-05-16 16:54:58,795 ERROR   Traceback (most recent call last):\n",
      "2023-05-16 16:54:58,796 ERROR     File \"/opt/cdstoolbox/cdscompute/cdscompute/cdshandlers/services/handler.py\", line 59, in handle_request\n",
      "2023-05-16 16:54:58,797 ERROR       result = cached(context.method, proc, context, context.args, context.kwargs)\n",
      "2023-05-16 16:54:58,799 ERROR     File \"/opt/cdstoolbox/cdscompute/cdscompute/caching.py\", line 108, in cached\n",
      "2023-05-16 16:54:58,802 ERROR       result = proc(context, *context.args, **context.kwargs)\n",
      "2023-05-16 16:54:58,803 ERROR     File \"/opt/cdstoolbox/cdscompute/cdscompute/services.py\", line 124, in __call__\n",
      "2023-05-16 16:54:58,804 ERROR       return p(*args, **kwargs)\n",
      "2023-05-16 16:54:58,806 ERROR     File \"/opt/cdstoolbox/cdscompute/cdscompute/services.py\", line 60, in __call__\n",
      "2023-05-16 16:54:58,807 ERROR       return self.proc(context, *args, **kwargs)\n",
      "2023-05-16 16:54:58,808 ERROR     File \"/home/cds/cdsservices/services/esgf_wps/__init__.py\", line 30, in execute\n",
      "2023-05-16 16:54:58,810 ERROR       request_facets, request = facets.search(context, request)\n",
      "2023-05-16 16:54:58,812 ERROR     File \"/home/cds/cdsservices/services/esgf_wps/facets.py\", line 61, in search\n",
      "2023-05-16 16:54:58,813 ERROR       raise ValueError(f'No matching data for request {tmp_request}')\n",
      "2023-05-16 16:54:58,815 ERROR   ValueError: No matching data for request {'experiment': 'ssp119', 'model': 'BCC-ESM1', 'temporal_resolution': 'mon', 'variable': 'rsds'}\n",
      "2023-05-16 16:54:58,853 INFO Welcome to the CDS\n",
      "2023-05-16 16:54:58,855 INFO Sending request to https://cds.climate.copernicus.eu/api/v2/resources/projections-cmip6\n",
      "2023-05-16 16:54:58,916 INFO Request is queued\n"
     ]
    },
    {
     "name": "stdout",
     "output_type": "stream",
     "text": [
      "Some parameters are not matching\n",
      "\n",
      "No value were found for the period and the project tested\n",
      "\n",
      "Test with model canesm5\n",
      "path_for_file does not exist: the data may not have been downloaded\n",
      "file_download does not exist: the data were not downloaded\n"
     ]
    },
    {
     "name": "stderr",
     "output_type": "stream",
     "text": [
      "2023-05-16 16:54:59,965 INFO Request is running\n",
      "2023-05-16 16:55:12,314 INFO Request is completed\n",
      "2023-05-16 16:55:12,316 INFO Downloading https://download-0013-clone.copernicus-climate.eu/cache-compute-0013/cache/data0/adaptor.esgf_wps.retrieve-1684248909.4250329-8679-16-d386cc76-6861-42b0-82a9-dac70cca8954.zip to download.zip (1.4M)\n",
      "2023-05-16 16:55:13,269 INFO Download rate 1.4M/s                                                                      \n"
     ]
    },
    {
     "name": "stdout",
     "output_type": "stream",
     "text": [
      "\n",
      " The downloaded file is extracted\n",
      "path_for_file does exist Function copernicus search for nc\n",
      "The file is in the path Function copernicus search for nc\n",
      "\n",
      "Before path_length, The final path for the nc file is: C:\\Users\\CLMRX\\OneDrive - COWI\\Documents\\GitHub\\CRVA_tool\\outputs\\Datasets\\surface_downwelling_shortwave_radiation\\PT_Revubue 2 (Rev 2_01)\\ssp1_1_9\\canesm5\\2016-2099\\CMIP6-copernicus-GCM\\rsds_Amon_CanESM5_ssp119_r1i1p1f1_gn_20160116-20991216_v20190429.nc\n",
      "\n",
      " The final path for nc file exists ? True\n",
      "\n",
      "After path_length, The final path for the nc file is: \\\\?\\C:\\Users\\CLMRX\\OneDrive - COWI\\Documents\\GitHub\\CRVA_tool\\outputs\\Datasets\\surface_downwelling_shortwave_radiation\\PT_Revubue 2 (Rev 2_01)\\ssp1_1_9\\canesm5\\2016-2099\\CMIP6-copernicus-GCM\\rsds_Amon_CanESM5_ssp119_r1i1p1f1_gn_20160116-20991216_v20190429.nc\n",
      "\n",
      " The final path for nc file exists ? True\n",
      "\n",
      "\n",
      "\n",
      "---------------  Path to nc file exists ?? ---------------\n",
      "\n",
      "True\n",
      "\n",
      "\n",
      "Registering the data in a dataframe\n",
      "\n",
      "Value were found for the period and the project tested\n",
      "\n",
      "Test with model cesm2\n",
      "path_for_file does not exist: the data may not have been downloaded\n",
      "file_download does not exist: the data were not downloaded\n"
     ]
    },
    {
     "name": "stderr",
     "output_type": "stream",
     "text": [
      "2023-05-16 16:59:22,469 INFO Welcome to the CDS\n",
      "2023-05-16 16:59:22,470 INFO Sending request to https://cds.climate.copernicus.eu/api/v2/resources/projections-cmip6\n",
      "2023-05-16 16:59:22,572 INFO Request is queued\n",
      "2023-05-16 16:59:23,626 INFO Request is failed\n",
      "2023-05-16 16:59:23,627 ERROR Message: an internal error occurred processing your request\n",
      "2023-05-16 16:59:23,629 ERROR Reason:  No matching data for request {'experiment': 'ssp119', 'model': 'CESM2', 'temporal_resolution': 'mon', 'variable': 'rsds'}\n",
      "2023-05-16 16:59:23,630 ERROR   Traceback (most recent call last):\n",
      "2023-05-16 16:59:23,631 ERROR     File \"/opt/cdstoolbox/cdscompute/cdscompute/cdshandlers/services/handler.py\", line 59, in handle_request\n",
      "2023-05-16 16:59:23,632 ERROR       result = cached(context.method, proc, context, context.args, context.kwargs)\n",
      "2023-05-16 16:59:23,634 ERROR     File \"/opt/cdstoolbox/cdscompute/cdscompute/caching.py\", line 108, in cached\n",
      "2023-05-16 16:59:23,634 ERROR       result = proc(context, *context.args, **context.kwargs)\n",
      "2023-05-16 16:59:23,636 ERROR     File \"/opt/cdstoolbox/cdscompute/cdscompute/services.py\", line 124, in __call__\n",
      "2023-05-16 16:59:23,637 ERROR       return p(*args, **kwargs)\n",
      "2023-05-16 16:59:23,638 ERROR     File \"/opt/cdstoolbox/cdscompute/cdscompute/services.py\", line 60, in __call__\n",
      "2023-05-16 16:59:23,639 ERROR       return self.proc(context, *args, **kwargs)\n",
      "2023-05-16 16:59:23,639 ERROR     File \"/home/cds/cdsservices/services/esgf_wps/__init__.py\", line 30, in execute\n",
      "2023-05-16 16:59:23,640 ERROR       request_facets, request = facets.search(context, request)\n",
      "2023-05-16 16:59:23,641 ERROR     File \"/home/cds/cdsservices/services/esgf_wps/facets.py\", line 61, in search\n",
      "2023-05-16 16:59:23,642 ERROR       raise ValueError(f'No matching data for request {tmp_request}')\n",
      "2023-05-16 16:59:23,642 ERROR   ValueError: No matching data for request {'experiment': 'ssp119', 'model': 'CESM2', 'temporal_resolution': 'mon', 'variable': 'rsds'}\n",
      "2023-05-16 16:59:23,681 INFO Welcome to the CDS\n",
      "2023-05-16 16:59:23,683 INFO Sending request to https://cds.climate.copernicus.eu/api/v2/resources/projections-cmip6\n",
      "2023-05-16 16:59:23,726 INFO Request is queued\n"
     ]
    },
    {
     "name": "stdout",
     "output_type": "stream",
     "text": [
      "Some parameters are not matching\n",
      "\n",
      "No value were found for the period and the project tested\n",
      "\n",
      "Test with model cesm2_waccm\n",
      "path_for_file does not exist: the data may not have been downloaded\n",
      "file_download does not exist: the data were not downloaded\n"
     ]
    },
    {
     "name": "stderr",
     "output_type": "stream",
     "text": [
      "2023-05-16 16:59:24,772 INFO Request is failed\n",
      "2023-05-16 16:59:24,773 ERROR Message: an internal error occurred processing your request\n",
      "2023-05-16 16:59:24,776 ERROR Reason:  No matching data for request {'experiment': 'ssp119', 'model': 'CESM2-WACCM', 'temporal_resolution': 'mon', 'variable': 'rsds'}\n",
      "2023-05-16 16:59:24,778 ERROR   Traceback (most recent call last):\n",
      "2023-05-16 16:59:24,779 ERROR     File \"/opt/cdstoolbox/cdscompute/cdscompute/cdshandlers/services/handler.py\", line 59, in handle_request\n",
      "2023-05-16 16:59:24,780 ERROR       result = cached(context.method, proc, context, context.args, context.kwargs)\n",
      "2023-05-16 16:59:24,781 ERROR     File \"/opt/cdstoolbox/cdscompute/cdscompute/caching.py\", line 108, in cached\n",
      "2023-05-16 16:59:24,783 ERROR       result = proc(context, *context.args, **context.kwargs)\n",
      "2023-05-16 16:59:24,785 ERROR     File \"/opt/cdstoolbox/cdscompute/cdscompute/services.py\", line 124, in __call__\n",
      "2023-05-16 16:59:24,786 ERROR       return p(*args, **kwargs)\n",
      "2023-05-16 16:59:24,788 ERROR     File \"/opt/cdstoolbox/cdscompute/cdscompute/services.py\", line 60, in __call__\n",
      "2023-05-16 16:59:24,791 ERROR       return self.proc(context, *args, **kwargs)\n",
      "2023-05-16 16:59:24,791 ERROR     File \"/home/cds/cdsservices/services/esgf_wps/__init__.py\", line 30, in execute\n",
      "2023-05-16 16:59:24,793 ERROR       request_facets, request = facets.search(context, request)\n",
      "2023-05-16 16:59:24,796 ERROR     File \"/home/cds/cdsservices/services/esgf_wps/facets.py\", line 61, in search\n",
      "2023-05-16 16:59:24,797 ERROR       raise ValueError(f'No matching data for request {tmp_request}')\n",
      "2023-05-16 16:59:24,798 ERROR   ValueError: No matching data for request {'experiment': 'ssp119', 'model': 'CESM2-WACCM', 'temporal_resolution': 'mon', 'variable': 'rsds'}\n",
      "2023-05-16 16:59:24,834 INFO Welcome to the CDS\n",
      "2023-05-16 16:59:24,835 INFO Sending request to https://cds.climate.copernicus.eu/api/v2/resources/projections-cmip6\n",
      "2023-05-16 16:59:24,905 INFO Request is queued\n"
     ]
    },
    {
     "name": "stdout",
     "output_type": "stream",
     "text": [
      "Some parameters are not matching\n",
      "\n",
      "No value were found for the period and the project tested\n",
      "\n",
      "Test with model ciesm\n",
      "path_for_file does not exist: the data may not have been downloaded\n",
      "file_download does not exist: the data were not downloaded\n"
     ]
    },
    {
     "name": "stderr",
     "output_type": "stream",
     "text": [
      "2023-05-16 16:59:25,958 INFO Request is failed\n",
      "2023-05-16 16:59:25,959 ERROR Message: an internal error occurred processing your request\n",
      "2023-05-16 16:59:25,961 ERROR Reason:  No matching data for request {'experiment': 'ssp119', 'model': 'CIESM', 'temporal_resolution': 'mon', 'variable': 'rsds'}\n",
      "2023-05-16 16:59:25,963 ERROR   Traceback (most recent call last):\n",
      "2023-05-16 16:59:25,967 ERROR     File \"/opt/cdstoolbox/cdscompute/cdscompute/cdshandlers/services/handler.py\", line 59, in handle_request\n",
      "2023-05-16 16:59:25,969 ERROR       result = cached(context.method, proc, context, context.args, context.kwargs)\n",
      "2023-05-16 16:59:25,972 ERROR     File \"/opt/cdstoolbox/cdscompute/cdscompute/caching.py\", line 108, in cached\n",
      "2023-05-16 16:59:25,975 ERROR       result = proc(context, *context.args, **context.kwargs)\n",
      "2023-05-16 16:59:25,977 ERROR     File \"/opt/cdstoolbox/cdscompute/cdscompute/services.py\", line 124, in __call__\n",
      "2023-05-16 16:59:25,980 ERROR       return p(*args, **kwargs)\n",
      "2023-05-16 16:59:25,982 ERROR     File \"/opt/cdstoolbox/cdscompute/cdscompute/services.py\", line 60, in __call__\n",
      "2023-05-16 16:59:25,984 ERROR       return self.proc(context, *args, **kwargs)\n",
      "2023-05-16 16:59:25,987 ERROR     File \"/home/cds/cdsservices/services/esgf_wps/__init__.py\", line 30, in execute\n",
      "2023-05-16 16:59:25,988 ERROR       request_facets, request = facets.search(context, request)\n",
      "2023-05-16 16:59:25,989 ERROR     File \"/home/cds/cdsservices/services/esgf_wps/facets.py\", line 61, in search\n",
      "2023-05-16 16:59:25,991 ERROR       raise ValueError(f'No matching data for request {tmp_request}')\n",
      "2023-05-16 16:59:25,992 ERROR   ValueError: No matching data for request {'experiment': 'ssp119', 'model': 'CIESM', 'temporal_resolution': 'mon', 'variable': 'rsds'}\n",
      "2023-05-16 16:59:26,032 INFO Welcome to the CDS\n",
      "2023-05-16 16:59:26,033 INFO Sending request to https://cds.climate.copernicus.eu/api/v2/resources/projections-cmip6\n",
      "2023-05-16 16:59:26,083 INFO Request is queued\n"
     ]
    },
    {
     "name": "stdout",
     "output_type": "stream",
     "text": [
      "Some parameters are not matching\n",
      "\n",
      "No value were found for the period and the project tested\n",
      "\n",
      "Test with model cmcc_cm2_sr5\n",
      "path_for_file does not exist: the data may not have been downloaded\n",
      "file_download does not exist: the data were not downloaded\n"
     ]
    },
    {
     "name": "stderr",
     "output_type": "stream",
     "text": [
      "2023-05-16 16:59:27,134 INFO Request is failed\n",
      "2023-05-16 16:59:27,135 ERROR Message: an internal error occurred processing your request\n",
      "2023-05-16 16:59:27,136 ERROR Reason:  No matching data for request {'experiment': 'ssp119', 'model': 'CMCC-CM2-SR5', 'temporal_resolution': 'mon', 'variable': 'rsds'}\n",
      "2023-05-16 16:59:27,138 ERROR   Traceback (most recent call last):\n",
      "2023-05-16 16:59:27,140 ERROR     File \"/opt/cdstoolbox/cdscompute/cdscompute/cdshandlers/services/handler.py\", line 59, in handle_request\n",
      "2023-05-16 16:59:27,142 ERROR       result = cached(context.method, proc, context, context.args, context.kwargs)\n",
      "2023-05-16 16:59:27,144 ERROR     File \"/opt/cdstoolbox/cdscompute/cdscompute/caching.py\", line 108, in cached\n",
      "2023-05-16 16:59:27,146 ERROR       result = proc(context, *context.args, **context.kwargs)\n",
      "2023-05-16 16:59:27,147 ERROR     File \"/opt/cdstoolbox/cdscompute/cdscompute/services.py\", line 124, in __call__\n",
      "2023-05-16 16:59:27,151 ERROR       return p(*args, **kwargs)\n",
      "2023-05-16 16:59:27,153 ERROR     File \"/opt/cdstoolbox/cdscompute/cdscompute/services.py\", line 60, in __call__\n",
      "2023-05-16 16:59:27,154 ERROR       return self.proc(context, *args, **kwargs)\n",
      "2023-05-16 16:59:27,155 ERROR     File \"/home/cds/cdsservices/services/esgf_wps/__init__.py\", line 30, in execute\n",
      "2023-05-16 16:59:27,157 ERROR       request_facets, request = facets.search(context, request)\n",
      "2023-05-16 16:59:27,158 ERROR     File \"/home/cds/cdsservices/services/esgf_wps/facets.py\", line 61, in search\n",
      "2023-05-16 16:59:27,159 ERROR       raise ValueError(f'No matching data for request {tmp_request}')\n",
      "2023-05-16 16:59:27,160 ERROR   ValueError: No matching data for request {'experiment': 'ssp119', 'model': 'CMCC-CM2-SR5', 'temporal_resolution': 'mon', 'variable': 'rsds'}\n",
      "2023-05-16 16:59:27,204 INFO Welcome to the CDS\n",
      "2023-05-16 16:59:27,206 INFO Sending request to https://cds.climate.copernicus.eu/api/v2/resources/projections-cmip6\n",
      "2023-05-16 16:59:27,285 INFO Request is queued\n"
     ]
    },
    {
     "name": "stdout",
     "output_type": "stream",
     "text": [
      "Some parameters are not matching\n",
      "\n",
      "No value were found for the period and the project tested\n",
      "\n",
      "Test with model cnrm_cm6_1\n",
      "path_for_file does not exist: the data may not have been downloaded\n",
      "file_download does not exist: the data were not downloaded\n"
     ]
    },
    {
     "name": "stderr",
     "output_type": "stream",
     "text": [
      "2023-05-16 16:59:28,333 INFO Request is failed\n",
      "2023-05-16 16:59:28,334 ERROR Message: an internal error occurred processing your request\n",
      "2023-05-16 16:59:28,335 ERROR Reason:  No matching data for request {'experiment': 'ssp119', 'model': 'CNRM-CM6-1', 'temporal_resolution': 'mon', 'variable': 'rsds'}\n",
      "2023-05-16 16:59:28,336 ERROR   Traceback (most recent call last):\n",
      "2023-05-16 16:59:28,336 ERROR     File \"/opt/cdstoolbox/cdscompute/cdscompute/cdshandlers/services/handler.py\", line 59, in handle_request\n",
      "2023-05-16 16:59:28,338 ERROR       result = cached(context.method, proc, context, context.args, context.kwargs)\n",
      "2023-05-16 16:59:28,339 ERROR     File \"/opt/cdstoolbox/cdscompute/cdscompute/caching.py\", line 108, in cached\n",
      "2023-05-16 16:59:28,340 ERROR       result = proc(context, *context.args, **context.kwargs)\n",
      "2023-05-16 16:59:28,341 ERROR     File \"/opt/cdstoolbox/cdscompute/cdscompute/services.py\", line 124, in __call__\n",
      "2023-05-16 16:59:28,342 ERROR       return p(*args, **kwargs)\n",
      "2023-05-16 16:59:28,344 ERROR     File \"/opt/cdstoolbox/cdscompute/cdscompute/services.py\", line 60, in __call__\n",
      "2023-05-16 16:59:28,344 ERROR       return self.proc(context, *args, **kwargs)\n",
      "2023-05-16 16:59:28,345 ERROR     File \"/home/cds/cdsservices/services/esgf_wps/__init__.py\", line 30, in execute\n",
      "2023-05-16 16:59:28,345 ERROR       request_facets, request = facets.search(context, request)\n",
      "2023-05-16 16:59:28,346 ERROR     File \"/home/cds/cdsservices/services/esgf_wps/facets.py\", line 61, in search\n",
      "2023-05-16 16:59:28,348 ERROR       raise ValueError(f'No matching data for request {tmp_request}')\n",
      "2023-05-16 16:59:28,350 ERROR   ValueError: No matching data for request {'experiment': 'ssp119', 'model': 'CNRM-CM6-1', 'temporal_resolution': 'mon', 'variable': 'rsds'}\n",
      "2023-05-16 16:59:28,389 INFO Welcome to the CDS\n",
      "2023-05-16 16:59:28,391 INFO Sending request to https://cds.climate.copernicus.eu/api/v2/resources/projections-cmip6\n",
      "2023-05-16 16:59:28,498 INFO Request is queued\n"
     ]
    },
    {
     "name": "stdout",
     "output_type": "stream",
     "text": [
      "Some parameters are not matching\n",
      "\n",
      "No value were found for the period and the project tested\n",
      "\n",
      "Test with model cnrm_esm2_1\n",
      "path_for_file does not exist: the data may not have been downloaded\n",
      "file_download does not exist: the data were not downloaded\n"
     ]
    },
    {
     "name": "stderr",
     "output_type": "stream",
     "text": [
      "2023-05-16 16:59:29,545 INFO Request is running\n",
      "2023-05-16 17:00:01,021 INFO Request is completed\n",
      "2023-05-16 17:00:01,023 INFO Downloading https://download-0001-clone.copernicus-climate.eu/cache-compute-0001/cache/data4/adaptor.esgf_wps.retrieve-1684249197.5813513-25753-12-ce07a423-8b98-4ead-9641-56a2a64b5fa4.zip to download.zip (3.9M)\n",
      "2023-05-16 17:00:01,989 INFO Download rate 4M/s                                                                        \n"
     ]
    },
    {
     "name": "stdout",
     "output_type": "stream",
     "text": [
      "\n",
      " The downloaded file is extracted\n",
      "path_for_file does exist Function copernicus search for nc\n",
      "The file is in the path Function copernicus search for nc\n",
      "\n",
      "Before path_length, The final path for the nc file is: C:\\Users\\CLMRX\\OneDrive - COWI\\Documents\\GitHub\\CRVA_tool\\outputs\\Datasets\\surface_downwelling_shortwave_radiation\\PT_Revubue 2 (Rev 2_01)\\ssp1_1_9\\cnrm_esm2_1\\2016-2099\\CMIP6-copernicus-GCM\\rsds_Amon_CNRM-ESM2-1_ssp119_r1i1p1f2_gr_20160116-20991216_v20190328.nc\n",
      "\n",
      " The final path for nc file exists ? False\n",
      "\n",
      "After path_length, The final path for the nc file is: \\\\?\\C:\\Users\\CLMRX\\OneDrive - COWI\\Documents\\GitHub\\CRVA_tool\\outputs\\Datasets\\surface_downwelling_shortwave_radiation\\PT_Revubue 2 (Rev 2_01)\\ssp1_1_9\\cnrm_esm2_1\\2016-2099\\CMIP6-copernicus-GCM\\rsds_Amon_CNRM-ESM2-1_ssp119_r1i1p1f2_gr_20160116-20991216_v20190328.nc\n",
      "\n",
      " The final path for nc file exists ? True\n",
      "\n",
      "\n",
      "\n",
      "---------------  Path to nc file exists ?? ---------------\n",
      "\n",
      "True\n",
      "\n",
      "\n",
      "Registering the data in a dataframe\n",
      "\n",
      "Value were found for the period and the project tested\n",
      "\n",
      "Test with model e3sm_1_1\n",
      "path_for_file does not exist: the data may not have been downloaded\n",
      "file_download does not exist: the data were not downloaded\n"
     ]
    },
    {
     "name": "stderr",
     "output_type": "stream",
     "text": [
      "2023-05-16 17:04:33,401 INFO Welcome to the CDS\n",
      "2023-05-16 17:04:33,403 INFO Sending request to https://cds.climate.copernicus.eu/api/v2/resources/projections-cmip6\n",
      "2023-05-16 17:04:33,467 INFO Request is queued\n",
      "2023-05-16 17:04:34,516 INFO Request is failed\n",
      "2023-05-16 17:04:34,517 ERROR Message: an internal error occurred processing your request\n",
      "2023-05-16 17:04:34,520 ERROR Reason:  No matching data for request {'experiment': 'ssp119', 'model': 'E3SM-1-1', 'temporal_resolution': 'mon', 'variable': 'rsds'}\n",
      "2023-05-16 17:04:34,521 ERROR   Traceback (most recent call last):\n",
      "2023-05-16 17:04:34,522 ERROR     File \"/opt/cdstoolbox/cdscompute/cdscompute/cdshandlers/services/handler.py\", line 59, in handle_request\n",
      "2023-05-16 17:04:34,524 ERROR       result = cached(context.method, proc, context, context.args, context.kwargs)\n",
      "2023-05-16 17:04:34,525 ERROR     File \"/opt/cdstoolbox/cdscompute/cdscompute/caching.py\", line 108, in cached\n",
      "2023-05-16 17:04:34,527 ERROR       result = proc(context, *context.args, **context.kwargs)\n",
      "2023-05-16 17:04:34,529 ERROR     File \"/opt/cdstoolbox/cdscompute/cdscompute/services.py\", line 124, in __call__\n",
      "2023-05-16 17:04:34,530 ERROR       return p(*args, **kwargs)\n",
      "2023-05-16 17:04:34,531 ERROR     File \"/opt/cdstoolbox/cdscompute/cdscompute/services.py\", line 60, in __call__\n",
      "2023-05-16 17:04:34,532 ERROR       return self.proc(context, *args, **kwargs)\n",
      "2023-05-16 17:04:34,533 ERROR     File \"/home/cds/cdsservices/services/esgf_wps/__init__.py\", line 30, in execute\n",
      "2023-05-16 17:04:34,533 ERROR       request_facets, request = facets.search(context, request)\n",
      "2023-05-16 17:04:34,533 ERROR     File \"/home/cds/cdsservices/services/esgf_wps/facets.py\", line 61, in search\n",
      "2023-05-16 17:04:34,534 ERROR       raise ValueError(f'No matching data for request {tmp_request}')\n",
      "2023-05-16 17:04:34,535 ERROR   ValueError: No matching data for request {'experiment': 'ssp119', 'model': 'E3SM-1-1', 'temporal_resolution': 'mon', 'variable': 'rsds'}\n",
      "2023-05-16 17:04:34,570 INFO Welcome to the CDS\n",
      "2023-05-16 17:04:34,570 INFO Sending request to https://cds.climate.copernicus.eu/api/v2/resources/projections-cmip6\n",
      "2023-05-16 17:04:34,628 INFO Request is queued\n"
     ]
    },
    {
     "name": "stdout",
     "output_type": "stream",
     "text": [
      "Some parameters are not matching\n",
      "\n",
      "No value were found for the period and the project tested\n",
      "\n",
      "Test with model ec_earth3\n",
      "path_for_file does not exist: the data may not have been downloaded\n",
      "file_download does not exist: the data were not downloaded\n"
     ]
    },
    {
     "name": "stderr",
     "output_type": "stream",
     "text": [
      "2023-05-16 17:04:35,674 INFO Request is running\n",
      "2023-05-16 17:05:24,243 INFO Request is completed\n",
      "2023-05-16 17:05:24,244 INFO Downloading https://download-0008-clone.copernicus-climate.eu/cache-compute-0008/cache/data3/adaptor.esgf_wps.retrieve-1684249507.3091128-7572-18-76b10c6d-8cf6-4330-a4ce-09e82b8976ff.zip to download.zip (17.6M)\n",
      "2023-05-16 17:05:26,151 INFO Download rate 9.2M/s                                                                      \n"
     ]
    },
    {
     "name": "stdout",
     "output_type": "stream",
     "text": [
      "\n",
      " The downloaded file is extracted\n",
      "path_for_file does exist Function copernicus search for nc\n",
      "The file is in the path Function copernicus search for nc\n",
      "\n",
      "Before path_length, The final path for the nc file is: C:\\Users\\CLMRX\\OneDrive - COWI\\Documents\\GitHub\\CRVA_tool\\outputs\\Datasets\\surface_downwelling_shortwave_radiation\\PT_Revubue 2 (Rev 2_01)\\ssp1_1_9\\ec_earth3\\2016-2099\\CMIP6-copernicus-GCM\\rsds_Amon_EC-Earth3_ssp119_r4i1p1f1_gr_20160116-20991216_v20200425.nc\n",
      "\n",
      " The final path for nc file exists ? True\n",
      "\n",
      "After path_length, The final path for the nc file is: \\\\?\\C:\\Users\\CLMRX\\OneDrive - COWI\\Documents\\GitHub\\CRVA_tool\\outputs\\Datasets\\surface_downwelling_shortwave_radiation\\PT_Revubue 2 (Rev 2_01)\\ssp1_1_9\\ec_earth3\\2016-2099\\CMIP6-copernicus-GCM\\rsds_Amon_EC-Earth3_ssp119_r4i1p1f1_gr_20160116-20991216_v20200425.nc\n",
      "\n",
      " The final path for nc file exists ? True\n",
      "\n",
      "\n",
      "\n",
      "---------------  Path to nc file exists ?? ---------------\n",
      "\n",
      "True\n",
      "\n",
      "\n",
      "Registering the data in a dataframe\n",
      "\n",
      "Value were found for the period and the project tested\n",
      "\n",
      "Test with model ec_earth3_cc\n",
      "path_for_file does not exist: the data may not have been downloaded\n",
      "file_download does not exist: the data were not downloaded\n"
     ]
    },
    {
     "name": "stderr",
     "output_type": "stream",
     "text": [
      "2023-05-16 17:10:49,913 INFO Welcome to the CDS\n",
      "2023-05-16 17:10:49,915 INFO Sending request to https://cds.climate.copernicus.eu/api/v2/resources/projections-cmip6\n",
      "2023-05-16 17:10:49,976 INFO Request is queued\n",
      "2023-05-16 17:10:51,026 INFO Request is failed\n",
      "2023-05-16 17:10:51,027 ERROR Message: an internal error occurred processing your request\n",
      "2023-05-16 17:10:51,028 ERROR Reason:  No matching data for request {'experiment': 'ssp119', 'model': 'EC-Earth3-CC', 'temporal_resolution': 'mon', 'variable': 'rsds'}\n",
      "2023-05-16 17:10:51,028 ERROR   Traceback (most recent call last):\n",
      "2023-05-16 17:10:51,030 ERROR     File \"/opt/cdstoolbox/cdscompute/cdscompute/cdshandlers/services/handler.py\", line 59, in handle_request\n",
      "2023-05-16 17:10:51,031 ERROR       result = cached(context.method, proc, context, context.args, context.kwargs)\n",
      "2023-05-16 17:10:51,032 ERROR     File \"/opt/cdstoolbox/cdscompute/cdscompute/caching.py\", line 108, in cached\n",
      "2023-05-16 17:10:51,033 ERROR       result = proc(context, *context.args, **context.kwargs)\n",
      "2023-05-16 17:10:51,033 ERROR     File \"/opt/cdstoolbox/cdscompute/cdscompute/services.py\", line 124, in __call__\n",
      "2023-05-16 17:10:51,034 ERROR       return p(*args, **kwargs)\n",
      "2023-05-16 17:10:51,034 ERROR     File \"/opt/cdstoolbox/cdscompute/cdscompute/services.py\", line 60, in __call__\n",
      "2023-05-16 17:10:51,036 ERROR       return self.proc(context, *args, **kwargs)\n",
      "2023-05-16 17:10:51,037 ERROR     File \"/home/cds/cdsservices/services/esgf_wps/__init__.py\", line 30, in execute\n",
      "2023-05-16 17:10:51,039 ERROR       request_facets, request = facets.search(context, request)\n",
      "2023-05-16 17:10:51,041 ERROR     File \"/home/cds/cdsservices/services/esgf_wps/facets.py\", line 61, in search\n",
      "2023-05-16 17:10:51,045 ERROR       raise ValueError(f'No matching data for request {tmp_request}')\n",
      "2023-05-16 17:10:51,046 ERROR   ValueError: No matching data for request {'experiment': 'ssp119', 'model': 'EC-Earth3-CC', 'temporal_resolution': 'mon', 'variable': 'rsds'}\n",
      "2023-05-16 17:10:51,090 INFO Welcome to the CDS\n",
      "2023-05-16 17:10:51,092 INFO Sending request to https://cds.climate.copernicus.eu/api/v2/resources/projections-cmip6\n",
      "2023-05-16 17:10:51,159 INFO Request is queued\n"
     ]
    },
    {
     "name": "stdout",
     "output_type": "stream",
     "text": [
      "Some parameters are not matching\n",
      "\n",
      "No value were found for the period and the project tested\n",
      "\n",
      "Test with model ec_earth3_veg_lr\n",
      "path_for_file does not exist: the data may not have been downloaded\n",
      "file_download does not exist: the data were not downloaded\n"
     ]
    },
    {
     "name": "stderr",
     "output_type": "stream",
     "text": [
      "2023-05-16 17:10:52,210 INFO Request is running\n",
      "2023-05-16 17:11:40,775 INFO Request is completed\n",
      "2023-05-16 17:11:40,776 INFO Downloading https://download-0008-clone.copernicus-climate.eu/cache-compute-0008/cache/data1/adaptor.esgf_wps.retrieve-1684249887.3195794-8774-17-f0279a40-3b74-4225-a375-01af878d28ae.zip to download.zip (7.4M)\n",
      "2023-05-16 17:11:41,872 INFO Download rate 6.8M/s                                                                      \n"
     ]
    },
    {
     "name": "stdout",
     "output_type": "stream",
     "text": [
      "\n",
      " The downloaded file is extracted\n",
      "path_for_file does exist Function copernicus search for nc\n",
      "The file is in the path Function copernicus search for nc\n",
      "\n",
      "Before path_length, The final path for the nc file is: C:\\Users\\CLMRX\\OneDrive - COWI\\Documents\\GitHub\\CRVA_tool\\outputs\\Datasets\\surface_downwelling_shortwave_radiation\\PT_Revubue 2 (Rev 2_01)\\ssp1_1_9\\ec_earth3_veg_lr\\2016-2099\\CMIP6-copernicus-GCM\\rsds_Amon_EC-Earth3-Veg-LR_ssp119_r1i1p1f1_gr_20160116-20991216_v20201201.nc\n",
      "\n",
      " The final path for nc file exists ? False\n",
      "\n",
      "After path_length, The final path for the nc file is: \\\\?\\C:\\Users\\CLMRX\\OneDrive - COWI\\Documents\\GitHub\\CRVA_tool\\outputs\\Datasets\\surface_downwelling_shortwave_radiation\\PT_Revubue 2 (Rev 2_01)\\ssp1_1_9\\ec_earth3_veg_lr\\2016-2099\\CMIP6-copernicus-GCM\\rsds_Amon_EC-Earth3-Veg-LR_ssp119_r1i1p1f1_gr_20160116-20991216_v20201201.nc\n",
      "\n",
      " The final path for nc file exists ? True\n",
      "\n",
      "\n",
      "\n",
      "---------------  Path to nc file exists ?? ---------------\n",
      "\n",
      "True\n",
      "\n",
      "\n",
      "Registering the data in a dataframe\n",
      "\n",
      "Value were found for the period and the project tested\n",
      "\n",
      "Test with model fgoals_g3\n",
      "path_for_file does not exist: the data may not have been downloaded\n",
      "file_download does not exist: the data were not downloaded\n"
     ]
    },
    {
     "name": "stderr",
     "output_type": "stream",
     "text": [
      "2023-05-16 17:17:52,199 INFO Welcome to the CDS\n",
      "2023-05-16 17:17:52,201 INFO Sending request to https://cds.climate.copernicus.eu/api/v2/resources/projections-cmip6\n",
      "2023-05-16 17:17:52,249 INFO Request is queued\n",
      "2023-05-16 17:17:53,295 INFO Request is running\n",
      "2023-05-16 17:18:05,661 INFO Request is completed\n",
      "2023-05-16 17:18:05,663 INFO Downloading https://download-0012-clone.copernicus-climate.eu/cache-compute-0012/cache/data0/adaptor.esgf_wps.retrieve-1684250280.1151319-19706-18-3f8eb7ae-3d9c-4ade-b57c-585fd9f441a7.zip to download.zip (3.3M)\n",
      "2023-05-16 17:18:06,684 INFO Download rate 3.2M/s                                                                      \n"
     ]
    },
    {
     "name": "stdout",
     "output_type": "stream",
     "text": [
      "\n",
      " The downloaded file is extracted\n",
      "path_for_file does exist Function copernicus search for nc\n",
      "The file is in the path Function copernicus search for nc\n",
      "\n",
      "Before path_length, The final path for the nc file is: C:\\Users\\CLMRX\\OneDrive - COWI\\Documents\\GitHub\\CRVA_tool\\outputs\\Datasets\\surface_downwelling_shortwave_radiation\\PT_Revubue 2 (Rev 2_01)\\ssp1_1_9\\fgoals_g3\\2016-2099\\CMIP6-copernicus-GCM\\rsds_Amon_FGOALS-g3_ssp119_r1i1p1f1_gn_20160116-20991216_v20200527.nc\n",
      "\n",
      " The final path for nc file exists ? True\n",
      "\n",
      "After path_length, The final path for the nc file is: \\\\?\\C:\\Users\\CLMRX\\OneDrive - COWI\\Documents\\GitHub\\CRVA_tool\\outputs\\Datasets\\surface_downwelling_shortwave_radiation\\PT_Revubue 2 (Rev 2_01)\\ssp1_1_9\\fgoals_g3\\2016-2099\\CMIP6-copernicus-GCM\\rsds_Amon_FGOALS-g3_ssp119_r1i1p1f1_gn_20160116-20991216_v20200527.nc\n",
      "\n",
      " The final path for nc file exists ? True\n",
      "\n",
      "\n",
      "\n",
      "---------------  Path to nc file exists ?? ---------------\n",
      "\n",
      "True\n",
      "\n",
      "\n",
      "Registering the data in a dataframe\n",
      "\n",
      "Value were found for the period and the project tested\n",
      "\n",
      "Test with model gfdl_esm4\n",
      "path_for_file does not exist: the data may not have been downloaded\n",
      "file_download does not exist: the data were not downloaded\n"
     ]
    },
    {
     "name": "stderr",
     "output_type": "stream",
     "text": [
      "2023-05-16 17:24:58,780 INFO Welcome to the CDS\n",
      "2023-05-16 17:24:58,781 INFO Sending request to https://cds.climate.copernicus.eu/api/v2/resources/projections-cmip6\n",
      "2023-05-16 17:24:58,829 INFO Request is queued\n",
      "2023-05-16 17:24:59,868 INFO Request is running\n",
      "2023-05-16 17:25:48,429 INFO Request is completed\n",
      "2023-05-16 17:25:48,432 INFO Downloading https://download-0011-clone.copernicus-climate.eu/cache-compute-0011/cache/data2/adaptor.esgf_wps.retrieve-1684250737.752609-11182-10-454c04c2-2c53-4223-96b3-8149c7c0a21e.zip to download.zip (6M)\n",
      "2023-05-16 17:25:49,554 INFO Download rate 5.4M/s                                                                      \n"
     ]
    },
    {
     "name": "stdout",
     "output_type": "stream",
     "text": [
      "\n",
      " The downloaded file is extracted\n",
      "path_for_file does exist Function copernicus search for nc\n",
      "The file is in the path Function copernicus search for nc\n",
      "\n",
      "Before path_length, The final path for the nc file is: C:\\Users\\CLMRX\\OneDrive - COWI\\Documents\\GitHub\\CRVA_tool\\outputs\\Datasets\\surface_downwelling_shortwave_radiation\\PT_Revubue 2 (Rev 2_01)\\ssp1_1_9\\gfdl_esm4\\2016-2099\\CMIP6-copernicus-GCM\\rsds_Amon_GFDL-ESM4_ssp119_r1i1p1f1_gr1_20160116-20991216_v20180701.nc\n",
      "\n",
      " The final path for nc file exists ? True\n",
      "\n",
      "After path_length, The final path for the nc file is: \\\\?\\C:\\Users\\CLMRX\\OneDrive - COWI\\Documents\\GitHub\\CRVA_tool\\outputs\\Datasets\\surface_downwelling_shortwave_radiation\\PT_Revubue 2 (Rev 2_01)\\ssp1_1_9\\gfdl_esm4\\2016-2099\\CMIP6-copernicus-GCM\\rsds_Amon_GFDL-ESM4_ssp119_r1i1p1f1_gr1_20160116-20991216_v20180701.nc\n",
      "\n",
      " The final path for nc file exists ? True\n",
      "\n",
      "\n",
      "\n",
      "---------------  Path to nc file exists ?? ---------------\n",
      "\n",
      "True\n",
      "\n",
      "\n",
      "Registering the data in a dataframe\n",
      "\n",
      "Value were found for the period and the project tested\n",
      "\n",
      "Test with model giss_e2_1_h\n",
      "path_for_file does not exist: the data may not have been downloaded\n",
      "file_download does not exist: the data were not downloaded\n"
     ]
    },
    {
     "name": "stderr",
     "output_type": "stream",
     "text": [
      "2023-05-16 17:34:45,076 INFO Welcome to the CDS\n",
      "2023-05-16 17:34:45,078 INFO Sending request to https://cds.climate.copernicus.eu/api/v2/resources/projections-cmip6\n",
      "2023-05-16 17:34:45,209 INFO Request is queued\n",
      "2023-05-16 17:34:46,252 INFO Request is failed\n",
      "2023-05-16 17:34:46,253 ERROR Message: an internal error occurred processing your request\n",
      "2023-05-16 17:34:46,256 ERROR Reason:  No matching data for request {'experiment': 'ssp119', 'model': 'GISS-E2-1-H', 'temporal_resolution': 'mon', 'variable': 'rsds'}\n",
      "2023-05-16 17:34:46,257 ERROR   Traceback (most recent call last):\n",
      "2023-05-16 17:34:46,258 ERROR     File \"/opt/cdstoolbox/cdscompute/cdscompute/cdshandlers/services/handler.py\", line 59, in handle_request\n",
      "2023-05-16 17:34:46,259 ERROR       result = cached(context.method, proc, context, context.args, context.kwargs)\n",
      "2023-05-16 17:34:46,260 ERROR     File \"/opt/cdstoolbox/cdscompute/cdscompute/caching.py\", line 108, in cached\n",
      "2023-05-16 17:34:46,261 ERROR       result = proc(context, *context.args, **context.kwargs)\n",
      "2023-05-16 17:34:46,262 ERROR     File \"/opt/cdstoolbox/cdscompute/cdscompute/services.py\", line 124, in __call__\n",
      "2023-05-16 17:34:46,263 ERROR       return p(*args, **kwargs)\n",
      "2023-05-16 17:34:46,263 ERROR     File \"/opt/cdstoolbox/cdscompute/cdscompute/services.py\", line 60, in __call__\n",
      "2023-05-16 17:34:46,264 ERROR       return self.proc(context, *args, **kwargs)\n",
      "2023-05-16 17:34:46,265 ERROR     File \"/home/cds/cdsservices/services/esgf_wps/__init__.py\", line 30, in execute\n",
      "2023-05-16 17:34:46,266 ERROR       request_facets, request = facets.search(context, request)\n",
      "2023-05-16 17:34:46,266 ERROR     File \"/home/cds/cdsservices/services/esgf_wps/facets.py\", line 61, in search\n",
      "2023-05-16 17:34:46,267 ERROR       raise ValueError(f'No matching data for request {tmp_request}')\n",
      "2023-05-16 17:34:46,267 ERROR   ValueError: No matching data for request {'experiment': 'ssp119', 'model': 'GISS-E2-1-H', 'temporal_resolution': 'mon', 'variable': 'rsds'}\n",
      "2023-05-16 17:34:46,314 INFO Welcome to the CDS\n",
      "2023-05-16 17:34:46,316 INFO Sending request to https://cds.climate.copernicus.eu/api/v2/resources/projections-cmip6\n",
      "2023-05-16 17:34:46,384 INFO Request is queued\n"
     ]
    },
    {
     "name": "stdout",
     "output_type": "stream",
     "text": [
      "Some parameters are not matching\n",
      "\n",
      "No value were found for the period and the project tested\n",
      "\n",
      "Test with model hadgem3_gc31_mm\n",
      "path_for_file does not exist: the data may not have been downloaded\n",
      "file_download does not exist: the data were not downloaded\n"
     ]
    },
    {
     "name": "stderr",
     "output_type": "stream",
     "text": [
      "2023-05-16 17:34:47,445 INFO Request is failed\n",
      "2023-05-16 17:34:47,446 ERROR Message: an internal error occurred processing your request\n",
      "2023-05-16 17:34:47,447 ERROR Reason:  No matching data for request {'experiment': 'ssp119', 'model': 'HadGEM3-GC31-MM', 'temporal_resolution': 'mon', 'variable': 'rsds'}\n",
      "2023-05-16 17:34:47,449 ERROR   Traceback (most recent call last):\n",
      "2023-05-16 17:34:47,450 ERROR     File \"/opt/cdstoolbox/cdscompute/cdscompute/cdshandlers/services/handler.py\", line 59, in handle_request\n",
      "2023-05-16 17:34:47,450 ERROR       result = cached(context.method, proc, context, context.args, context.kwargs)\n",
      "2023-05-16 17:34:47,451 ERROR     File \"/opt/cdstoolbox/cdscompute/cdscompute/caching.py\", line 108, in cached\n",
      "2023-05-16 17:34:47,452 ERROR       result = proc(context, *context.args, **context.kwargs)\n",
      "2023-05-16 17:34:47,454 ERROR     File \"/opt/cdstoolbox/cdscompute/cdscompute/services.py\", line 124, in __call__\n",
      "2023-05-16 17:34:47,456 ERROR       return p(*args, **kwargs)\n",
      "2023-05-16 17:34:47,457 ERROR     File \"/opt/cdstoolbox/cdscompute/cdscompute/services.py\", line 60, in __call__\n",
      "2023-05-16 17:34:47,458 ERROR       return self.proc(context, *args, **kwargs)\n",
      "2023-05-16 17:34:47,459 ERROR     File \"/home/cds/cdsservices/services/esgf_wps/__init__.py\", line 30, in execute\n",
      "2023-05-16 17:34:47,460 ERROR       request_facets, request = facets.search(context, request)\n",
      "2023-05-16 17:34:47,461 ERROR     File \"/home/cds/cdsservices/services/esgf_wps/facets.py\", line 61, in search\n",
      "2023-05-16 17:34:47,462 ERROR       raise ValueError(f'No matching data for request {tmp_request}')\n",
      "2023-05-16 17:34:47,463 ERROR   ValueError: No matching data for request {'experiment': 'ssp119', 'model': 'HadGEM3-GC31-MM', 'temporal_resolution': 'mon', 'variable': 'rsds'}\n",
      "2023-05-16 17:34:47,516 INFO Welcome to the CDS\n",
      "2023-05-16 17:34:47,517 INFO Sending request to https://cds.climate.copernicus.eu/api/v2/resources/projections-cmip6\n",
      "2023-05-16 17:34:47,631 INFO Request is queued\n"
     ]
    },
    {
     "name": "stdout",
     "output_type": "stream",
     "text": [
      "Some parameters are not matching\n",
      "\n",
      "No value were found for the period and the project tested\n",
      "\n",
      "Test with model inm_cm4_8\n",
      "path_for_file does not exist: the data may not have been downloaded\n",
      "file_download does not exist: the data were not downloaded\n"
     ]
    },
    {
     "name": "stderr",
     "output_type": "stream",
     "text": [
      "2023-05-16 17:34:48,676 INFO Request is failed\n",
      "2023-05-16 17:34:48,677 ERROR Message: an internal error occurred processing your request\n",
      "2023-05-16 17:34:48,678 ERROR Reason:  No matching data for request {'experiment': 'ssp119', 'model': 'INM-CM4-8', 'temporal_resolution': 'mon', 'variable': 'rsds'}\n",
      "2023-05-16 17:34:48,680 ERROR   Traceback (most recent call last):\n",
      "2023-05-16 17:34:48,680 ERROR     File \"/opt/cdstoolbox/cdscompute/cdscompute/cdshandlers/services/handler.py\", line 59, in handle_request\n",
      "2023-05-16 17:34:48,682 ERROR       result = cached(context.method, proc, context, context.args, context.kwargs)\n",
      "2023-05-16 17:34:48,686 ERROR     File \"/opt/cdstoolbox/cdscompute/cdscompute/caching.py\", line 108, in cached\n",
      "2023-05-16 17:34:48,689 ERROR       result = proc(context, *context.args, **context.kwargs)\n",
      "2023-05-16 17:34:48,691 ERROR     File \"/opt/cdstoolbox/cdscompute/cdscompute/services.py\", line 124, in __call__\n",
      "2023-05-16 17:34:48,693 ERROR       return p(*args, **kwargs)\n",
      "2023-05-16 17:34:48,694 ERROR     File \"/opt/cdstoolbox/cdscompute/cdscompute/services.py\", line 60, in __call__\n",
      "2023-05-16 17:34:48,695 ERROR       return self.proc(context, *args, **kwargs)\n",
      "2023-05-16 17:34:48,697 ERROR     File \"/home/cds/cdsservices/services/esgf_wps/__init__.py\", line 30, in execute\n",
      "2023-05-16 17:34:48,697 ERROR       request_facets, request = facets.search(context, request)\n",
      "2023-05-16 17:34:48,698 ERROR     File \"/home/cds/cdsservices/services/esgf_wps/facets.py\", line 61, in search\n",
      "2023-05-16 17:34:48,699 ERROR       raise ValueError(f'No matching data for request {tmp_request}')\n",
      "2023-05-16 17:34:48,700 ERROR   ValueError: No matching data for request {'experiment': 'ssp119', 'model': 'INM-CM4-8', 'temporal_resolution': 'mon', 'variable': 'rsds'}\n",
      "2023-05-16 17:34:48,747 INFO Welcome to the CDS\n",
      "2023-05-16 17:34:48,748 INFO Sending request to https://cds.climate.copernicus.eu/api/v2/resources/projections-cmip6\n",
      "2023-05-16 17:34:48,826 INFO Request is queued\n"
     ]
    },
    {
     "name": "stdout",
     "output_type": "stream",
     "text": [
      "Some parameters are not matching\n",
      "\n",
      "No value were found for the period and the project tested\n",
      "\n",
      "Test with model ipsl_cm5a2_inca\n",
      "path_for_file does not exist: the data may not have been downloaded\n",
      "file_download does not exist: the data were not downloaded\n"
     ]
    },
    {
     "name": "stderr",
     "output_type": "stream",
     "text": [
      "2023-05-16 17:34:49,870 INFO Request is failed\n",
      "2023-05-16 17:34:49,872 ERROR Message: an internal error occurred processing your request\n",
      "2023-05-16 17:34:49,874 ERROR Reason:  No matching data for request {'experiment': 'ssp119', 'model': 'IPSL-CM5A2-INCA', 'temporal_resolution': 'mon', 'variable': 'rsds'}\n",
      "2023-05-16 17:34:49,877 ERROR   Traceback (most recent call last):\n",
      "2023-05-16 17:34:49,879 ERROR     File \"/opt/cdstoolbox/cdscompute/cdscompute/cdshandlers/services/handler.py\", line 59, in handle_request\n",
      "2023-05-16 17:34:49,879 ERROR       result = cached(context.method, proc, context, context.args, context.kwargs)\n",
      "2023-05-16 17:34:49,881 ERROR     File \"/opt/cdstoolbox/cdscompute/cdscompute/caching.py\", line 108, in cached\n",
      "2023-05-16 17:34:49,882 ERROR       result = proc(context, *context.args, **context.kwargs)\n",
      "2023-05-16 17:34:49,883 ERROR     File \"/opt/cdstoolbox/cdscompute/cdscompute/services.py\", line 124, in __call__\n",
      "2023-05-16 17:34:49,884 ERROR       return p(*args, **kwargs)\n",
      "2023-05-16 17:34:49,884 ERROR     File \"/opt/cdstoolbox/cdscompute/cdscompute/services.py\", line 60, in __call__\n",
      "2023-05-16 17:34:49,885 ERROR       return self.proc(context, *args, **kwargs)\n",
      "2023-05-16 17:34:49,885 ERROR     File \"/home/cds/cdsservices/services/esgf_wps/__init__.py\", line 30, in execute\n",
      "2023-05-16 17:34:49,886 ERROR       request_facets, request = facets.search(context, request)\n",
      "2023-05-16 17:34:49,886 ERROR     File \"/home/cds/cdsservices/services/esgf_wps/facets.py\", line 61, in search\n",
      "2023-05-16 17:34:49,887 ERROR       raise ValueError(f'No matching data for request {tmp_request}')\n",
      "2023-05-16 17:34:49,887 ERROR   ValueError: No matching data for request {'experiment': 'ssp119', 'model': 'IPSL-CM5A2-INCA', 'temporal_resolution': 'mon', 'variable': 'rsds'}\n",
      "2023-05-16 17:34:49,932 INFO Welcome to the CDS\n",
      "2023-05-16 17:34:49,933 INFO Sending request to https://cds.climate.copernicus.eu/api/v2/resources/projections-cmip6\n",
      "2023-05-16 17:34:49,986 INFO Request is queued\n"
     ]
    },
    {
     "name": "stdout",
     "output_type": "stream",
     "text": [
      "Some parameters are not matching\n",
      "\n",
      "No value were found for the period and the project tested\n",
      "\n",
      "Test with model kace_1_0_g\n",
      "path_for_file does not exist: the data may not have been downloaded\n",
      "file_download does not exist: the data were not downloaded\n"
     ]
    },
    {
     "name": "stderr",
     "output_type": "stream",
     "text": [
      "2023-05-16 17:34:51,044 INFO Request is failed\n",
      "2023-05-16 17:34:51,045 ERROR Message: an internal error occurred processing your request\n",
      "2023-05-16 17:34:51,046 ERROR Reason:  No matching data for request {'experiment': 'ssp119', 'model': 'KACE-1-0-G', 'temporal_resolution': 'mon', 'variable': 'rsds'}\n",
      "2023-05-16 17:34:51,047 ERROR   Traceback (most recent call last):\n",
      "2023-05-16 17:34:51,049 ERROR     File \"/opt/cdstoolbox/cdscompute/cdscompute/cdshandlers/services/handler.py\", line 59, in handle_request\n",
      "2023-05-16 17:34:51,050 ERROR       result = cached(context.method, proc, context, context.args, context.kwargs)\n",
      "2023-05-16 17:34:51,051 ERROR     File \"/opt/cdstoolbox/cdscompute/cdscompute/caching.py\", line 108, in cached\n",
      "2023-05-16 17:34:51,052 ERROR       result = proc(context, *context.args, **context.kwargs)\n",
      "2023-05-16 17:34:51,053 ERROR     File \"/opt/cdstoolbox/cdscompute/cdscompute/services.py\", line 124, in __call__\n",
      "2023-05-16 17:34:51,055 ERROR       return p(*args, **kwargs)\n",
      "2023-05-16 17:34:51,056 ERROR     File \"/opt/cdstoolbox/cdscompute/cdscompute/services.py\", line 60, in __call__\n",
      "2023-05-16 17:34:51,057 ERROR       return self.proc(context, *args, **kwargs)\n",
      "2023-05-16 17:34:51,058 ERROR     File \"/home/cds/cdsservices/services/esgf_wps/__init__.py\", line 30, in execute\n",
      "2023-05-16 17:34:51,059 ERROR       request_facets, request = facets.search(context, request)\n",
      "2023-05-16 17:34:51,061 ERROR     File \"/home/cds/cdsservices/services/esgf_wps/facets.py\", line 61, in search\n",
      "2023-05-16 17:34:51,062 ERROR       raise ValueError(f'No matching data for request {tmp_request}')\n",
      "2023-05-16 17:34:51,063 ERROR   ValueError: No matching data for request {'experiment': 'ssp119', 'model': 'KACE-1-0-G', 'temporal_resolution': 'mon', 'variable': 'rsds'}\n",
      "2023-05-16 17:34:51,106 INFO Welcome to the CDS\n",
      "2023-05-16 17:34:51,108 INFO Sending request to https://cds.climate.copernicus.eu/api/v2/resources/projections-cmip6\n",
      "2023-05-16 17:34:51,151 INFO Request is queued\n"
     ]
    },
    {
     "name": "stdout",
     "output_type": "stream",
     "text": [
      "Some parameters are not matching\n",
      "\n",
      "No value were found for the period and the project tested\n",
      "\n",
      "Test with model mcm_ua_1_0\n",
      "path_for_file does not exist: the data may not have been downloaded\n",
      "file_download does not exist: the data were not downloaded\n"
     ]
    },
    {
     "name": "stderr",
     "output_type": "stream",
     "text": [
      "2023-05-16 17:34:52,202 INFO Request is failed\n",
      "2023-05-16 17:34:52,203 ERROR Message: an internal error occurred processing your request\n",
      "2023-05-16 17:34:52,203 ERROR Reason:  No matching data for request {'experiment': 'ssp119', 'model': 'MCM-UA-1-0', 'temporal_resolution': 'mon', 'variable': 'rsds'}\n",
      "2023-05-16 17:34:52,205 ERROR   Traceback (most recent call last):\n",
      "2023-05-16 17:34:52,205 ERROR     File \"/opt/cdstoolbox/cdscompute/cdscompute/cdshandlers/services/handler.py\", line 59, in handle_request\n",
      "2023-05-16 17:34:52,206 ERROR       result = cached(context.method, proc, context, context.args, context.kwargs)\n",
      "2023-05-16 17:34:52,207 ERROR     File \"/opt/cdstoolbox/cdscompute/cdscompute/caching.py\", line 108, in cached\n",
      "2023-05-16 17:34:52,208 ERROR       result = proc(context, *context.args, **context.kwargs)\n",
      "2023-05-16 17:34:52,209 ERROR     File \"/opt/cdstoolbox/cdscompute/cdscompute/services.py\", line 124, in __call__\n",
      "2023-05-16 17:34:52,210 ERROR       return p(*args, **kwargs)\n",
      "2023-05-16 17:34:52,211 ERROR     File \"/opt/cdstoolbox/cdscompute/cdscompute/services.py\", line 60, in __call__\n",
      "2023-05-16 17:34:52,212 ERROR       return self.proc(context, *args, **kwargs)\n",
      "2023-05-16 17:34:52,213 ERROR     File \"/home/cds/cdsservices/services/esgf_wps/__init__.py\", line 30, in execute\n",
      "2023-05-16 17:34:52,214 ERROR       request_facets, request = facets.search(context, request)\n",
      "2023-05-16 17:34:52,214 ERROR     File \"/home/cds/cdsservices/services/esgf_wps/facets.py\", line 61, in search\n",
      "2023-05-16 17:34:52,215 ERROR       raise ValueError(f'No matching data for request {tmp_request}')\n",
      "2023-05-16 17:34:52,215 ERROR   ValueError: No matching data for request {'experiment': 'ssp119', 'model': 'MCM-UA-1-0', 'temporal_resolution': 'mon', 'variable': 'rsds'}\n",
      "2023-05-16 17:34:52,256 INFO Welcome to the CDS\n",
      "2023-05-16 17:34:52,258 INFO Sending request to https://cds.climate.copernicus.eu/api/v2/resources/projections-cmip6\n",
      "2023-05-16 17:34:52,323 INFO Request is queued\n"
     ]
    },
    {
     "name": "stdout",
     "output_type": "stream",
     "text": [
      "Some parameters are not matching\n",
      "\n",
      "No value were found for the period and the project tested\n",
      "\n",
      "Test with model miroc_es2h\n",
      "path_for_file does not exist: the data may not have been downloaded\n",
      "file_download does not exist: the data were not downloaded\n"
     ]
    },
    {
     "name": "stderr",
     "output_type": "stream",
     "text": [
      "2023-05-16 17:34:53,364 INFO Request is failed\n",
      "2023-05-16 17:34:53,366 ERROR Message: an internal error occurred processing your request\n",
      "2023-05-16 17:34:53,367 ERROR Reason:  No matching data for request {'experiment': 'ssp119', 'model': 'MIROC-ES2H', 'temporal_resolution': 'mon', 'variable': 'rsds'}\n",
      "2023-05-16 17:34:53,367 ERROR   Traceback (most recent call last):\n",
      "2023-05-16 17:34:53,367 ERROR     File \"/opt/cdstoolbox/cdscompute/cdscompute/cdshandlers/services/handler.py\", line 59, in handle_request\n",
      "2023-05-16 17:34:53,368 ERROR       result = cached(context.method, proc, context, context.args, context.kwargs)\n",
      "2023-05-16 17:34:53,369 ERROR     File \"/opt/cdstoolbox/cdscompute/cdscompute/caching.py\", line 108, in cached\n",
      "2023-05-16 17:34:53,370 ERROR       result = proc(context, *context.args, **context.kwargs)\n",
      "2023-05-16 17:34:53,371 ERROR     File \"/opt/cdstoolbox/cdscompute/cdscompute/services.py\", line 124, in __call__\n",
      "2023-05-16 17:34:53,371 ERROR       return p(*args, **kwargs)\n",
      "2023-05-16 17:34:53,373 ERROR     File \"/opt/cdstoolbox/cdscompute/cdscompute/services.py\", line 60, in __call__\n",
      "2023-05-16 17:34:53,374 ERROR       return self.proc(context, *args, **kwargs)\n",
      "2023-05-16 17:34:53,374 ERROR     File \"/home/cds/cdsservices/services/esgf_wps/__init__.py\", line 30, in execute\n",
      "2023-05-16 17:34:53,375 ERROR       request_facets, request = facets.search(context, request)\n",
      "2023-05-16 17:34:53,375 ERROR     File \"/home/cds/cdsservices/services/esgf_wps/facets.py\", line 61, in search\n",
      "2023-05-16 17:34:53,377 ERROR       raise ValueError(f'No matching data for request {tmp_request}')\n",
      "2023-05-16 17:34:53,377 ERROR   ValueError: No matching data for request {'experiment': 'ssp119', 'model': 'MIROC-ES2H', 'temporal_resolution': 'mon', 'variable': 'rsds'}\n",
      "2023-05-16 17:34:53,425 INFO Welcome to the CDS\n",
      "2023-05-16 17:34:53,427 INFO Sending request to https://cds.climate.copernicus.eu/api/v2/resources/projections-cmip6\n",
      "2023-05-16 17:34:53,488 INFO Request is queued\n"
     ]
    },
    {
     "name": "stdout",
     "output_type": "stream",
     "text": [
      "Some parameters are not matching\n",
      "\n",
      "No value were found for the period and the project tested\n",
      "\n",
      "Test with model mpi_esm_1_2_ham\n",
      "path_for_file does not exist: the data may not have been downloaded\n",
      "file_download does not exist: the data were not downloaded\n"
     ]
    },
    {
     "name": "stderr",
     "output_type": "stream",
     "text": [
      "2023-05-16 17:34:54,532 INFO Request is failed\n",
      "2023-05-16 17:34:54,533 ERROR Message: an internal error occurred processing your request\n",
      "2023-05-16 17:34:54,534 ERROR Reason:  No matching data for request {'experiment': 'ssp119', 'model': 'MPI-ESM-1-2-HAM', 'temporal_resolution': 'mon', 'variable': 'rsds'}\n",
      "2023-05-16 17:34:54,536 ERROR   Traceback (most recent call last):\n",
      "2023-05-16 17:34:54,537 ERROR     File \"/opt/cdstoolbox/cdscompute/cdscompute/cdshandlers/services/handler.py\", line 59, in handle_request\n",
      "2023-05-16 17:34:54,539 ERROR       result = cached(context.method, proc, context, context.args, context.kwargs)\n",
      "2023-05-16 17:34:54,541 ERROR     File \"/opt/cdstoolbox/cdscompute/cdscompute/caching.py\", line 108, in cached\n",
      "2023-05-16 17:34:54,542 ERROR       result = proc(context, *context.args, **context.kwargs)\n",
      "2023-05-16 17:34:54,543 ERROR     File \"/opt/cdstoolbox/cdscompute/cdscompute/services.py\", line 124, in __call__\n",
      "2023-05-16 17:34:54,545 ERROR       return p(*args, **kwargs)\n",
      "2023-05-16 17:34:54,547 ERROR     File \"/opt/cdstoolbox/cdscompute/cdscompute/services.py\", line 60, in __call__\n",
      "2023-05-16 17:34:54,548 ERROR       return self.proc(context, *args, **kwargs)\n",
      "2023-05-16 17:34:54,554 ERROR     File \"/home/cds/cdsservices/services/esgf_wps/__init__.py\", line 30, in execute\n",
      "2023-05-16 17:34:54,556 ERROR       request_facets, request = facets.search(context, request)\n",
      "2023-05-16 17:34:54,557 ERROR     File \"/home/cds/cdsservices/services/esgf_wps/facets.py\", line 61, in search\n",
      "2023-05-16 17:34:54,558 ERROR       raise ValueError(f'No matching data for request {tmp_request}')\n",
      "2023-05-16 17:34:54,560 ERROR   ValueError: No matching data for request {'experiment': 'ssp119', 'model': 'MPI-ESM-1-2-HAM', 'temporal_resolution': 'mon', 'variable': 'rsds'}\n",
      "2023-05-16 17:34:54,600 INFO Welcome to the CDS\n",
      "2023-05-16 17:34:54,601 INFO Sending request to https://cds.climate.copernicus.eu/api/v2/resources/projections-cmip6\n",
      "2023-05-16 17:34:54,665 INFO Request is queued\n"
     ]
    },
    {
     "name": "stdout",
     "output_type": "stream",
     "text": [
      "Some parameters are not matching\n",
      "\n",
      "No value were found for the period and the project tested\n",
      "\n",
      "Test with model mpi_esm1_2_lr\n",
      "path_for_file does not exist: the data may not have been downloaded\n",
      "file_download does not exist: the data were not downloaded\n"
     ]
    },
    {
     "name": "stderr",
     "output_type": "stream",
     "text": [
      "2023-05-16 17:34:55,711 INFO Request is failed\n",
      "2023-05-16 17:34:55,712 ERROR Message: an internal error occurred processing your request\n",
      "2023-05-16 17:34:55,714 ERROR Reason:  No matching data for request {'experiment': 'ssp119', 'model': 'MPI-ESM1-2-LR', 'temporal_resolution': 'mon', 'variable': 'rsds'}\n",
      "2023-05-16 17:34:55,714 ERROR   Traceback (most recent call last):\n",
      "2023-05-16 17:34:55,716 ERROR     File \"/opt/cdstoolbox/cdscompute/cdscompute/cdshandlers/services/handler.py\", line 59, in handle_request\n",
      "2023-05-16 17:34:55,717 ERROR       result = cached(context.method, proc, context, context.args, context.kwargs)\n",
      "2023-05-16 17:34:55,718 ERROR     File \"/opt/cdstoolbox/cdscompute/cdscompute/caching.py\", line 108, in cached\n",
      "2023-05-16 17:34:55,719 ERROR       result = proc(context, *context.args, **context.kwargs)\n",
      "2023-05-16 17:34:55,720 ERROR     File \"/opt/cdstoolbox/cdscompute/cdscompute/services.py\", line 124, in __call__\n",
      "2023-05-16 17:34:55,721 ERROR       return p(*args, **kwargs)\n",
      "2023-05-16 17:34:55,722 ERROR     File \"/opt/cdstoolbox/cdscompute/cdscompute/services.py\", line 60, in __call__\n",
      "2023-05-16 17:34:55,722 ERROR       return self.proc(context, *args, **kwargs)\n",
      "2023-05-16 17:34:55,723 ERROR     File \"/home/cds/cdsservices/services/esgf_wps/__init__.py\", line 30, in execute\n",
      "2023-05-16 17:34:55,724 ERROR       request_facets, request = facets.search(context, request)\n",
      "2023-05-16 17:34:55,724 ERROR     File \"/home/cds/cdsservices/services/esgf_wps/facets.py\", line 61, in search\n",
      "2023-05-16 17:34:55,725 ERROR       raise ValueError(f'No matching data for request {tmp_request}')\n",
      "2023-05-16 17:34:55,726 ERROR   ValueError: No matching data for request {'experiment': 'ssp119', 'model': 'MPI-ESM1-2-LR', 'temporal_resolution': 'mon', 'variable': 'rsds'}\n",
      "2023-05-16 17:34:55,768 INFO Welcome to the CDS\n",
      "2023-05-16 17:34:55,769 INFO Sending request to https://cds.climate.copernicus.eu/api/v2/resources/projections-cmip6\n",
      "2023-05-16 17:34:55,834 INFO Request is queued\n"
     ]
    },
    {
     "name": "stdout",
     "output_type": "stream",
     "text": [
      "Some parameters are not matching\n",
      "\n",
      "No value were found for the period and the project tested\n",
      "\n",
      "Test with model nesm3\n",
      "path_for_file does not exist: the data may not have been downloaded\n",
      "file_download does not exist: the data were not downloaded\n"
     ]
    },
    {
     "name": "stderr",
     "output_type": "stream",
     "text": [
      "2023-05-16 17:34:56,875 INFO Request is failed\n",
      "2023-05-16 17:34:56,877 ERROR Message: an internal error occurred processing your request\n",
      "2023-05-16 17:34:56,879 ERROR Reason:  No matching data for request {'experiment': 'ssp119', 'model': 'NESM3', 'temporal_resolution': 'mon', 'variable': 'rsds'}\n",
      "2023-05-16 17:34:56,881 ERROR   Traceback (most recent call last):\n",
      "2023-05-16 17:34:56,881 ERROR     File \"/opt/cdstoolbox/cdscompute/cdscompute/cdshandlers/services/handler.py\", line 59, in handle_request\n",
      "2023-05-16 17:34:56,883 ERROR       result = cached(context.method, proc, context, context.args, context.kwargs)\n",
      "2023-05-16 17:34:56,884 ERROR     File \"/opt/cdstoolbox/cdscompute/cdscompute/caching.py\", line 108, in cached\n",
      "2023-05-16 17:34:56,886 ERROR       result = proc(context, *context.args, **context.kwargs)\n",
      "2023-05-16 17:34:56,887 ERROR     File \"/opt/cdstoolbox/cdscompute/cdscompute/services.py\", line 124, in __call__\n",
      "2023-05-16 17:34:56,888 ERROR       return p(*args, **kwargs)\n",
      "2023-05-16 17:34:56,889 ERROR     File \"/opt/cdstoolbox/cdscompute/cdscompute/services.py\", line 60, in __call__\n",
      "2023-05-16 17:34:56,890 ERROR       return self.proc(context, *args, **kwargs)\n",
      "2023-05-16 17:34:56,890 ERROR     File \"/home/cds/cdsservices/services/esgf_wps/__init__.py\", line 30, in execute\n",
      "2023-05-16 17:34:56,891 ERROR       request_facets, request = facets.search(context, request)\n",
      "2023-05-16 17:34:56,892 ERROR     File \"/home/cds/cdsservices/services/esgf_wps/facets.py\", line 61, in search\n",
      "2023-05-16 17:34:56,893 ERROR       raise ValueError(f'No matching data for request {tmp_request}')\n",
      "2023-05-16 17:34:56,895 ERROR   ValueError: No matching data for request {'experiment': 'ssp119', 'model': 'NESM3', 'temporal_resolution': 'mon', 'variable': 'rsds'}\n",
      "2023-05-16 17:34:56,932 INFO Welcome to the CDS\n",
      "2023-05-16 17:34:56,933 INFO Sending request to https://cds.climate.copernicus.eu/api/v2/resources/projections-cmip6\n",
      "2023-05-16 17:34:56,979 INFO Request is queued\n"
     ]
    },
    {
     "name": "stdout",
     "output_type": "stream",
     "text": [
      "Some parameters are not matching\n",
      "\n",
      "No value were found for the period and the project tested\n",
      "\n",
      "Test with model noresm2_lm\n",
      "path_for_file does not exist: the data may not have been downloaded\n",
      "file_download does not exist: the data were not downloaded\n"
     ]
    },
    {
     "name": "stderr",
     "output_type": "stream",
     "text": [
      "2023-05-16 17:34:58,029 INFO Request is failed\n",
      "2023-05-16 17:34:58,030 ERROR Message: an internal error occurred processing your request\n",
      "2023-05-16 17:34:58,032 ERROR Reason:  No matching data for request {'experiment': 'ssp119', 'model': 'NorESM2-LM', 'temporal_resolution': 'mon', 'variable': 'rsds'}\n",
      "2023-05-16 17:34:58,032 ERROR   Traceback (most recent call last):\n",
      "2023-05-16 17:34:58,033 ERROR     File \"/opt/cdstoolbox/cdscompute/cdscompute/cdshandlers/services/handler.py\", line 59, in handle_request\n",
      "2023-05-16 17:34:58,034 ERROR       result = cached(context.method, proc, context, context.args, context.kwargs)\n",
      "2023-05-16 17:34:58,034 ERROR     File \"/opt/cdstoolbox/cdscompute/cdscompute/caching.py\", line 108, in cached\n",
      "2023-05-16 17:34:58,035 ERROR       result = proc(context, *context.args, **context.kwargs)\n",
      "2023-05-16 17:34:58,035 ERROR     File \"/opt/cdstoolbox/cdscompute/cdscompute/services.py\", line 124, in __call__\n",
      "2023-05-16 17:34:58,036 ERROR       return p(*args, **kwargs)\n",
      "2023-05-16 17:34:58,036 ERROR     File \"/opt/cdstoolbox/cdscompute/cdscompute/services.py\", line 60, in __call__\n",
      "2023-05-16 17:34:58,037 ERROR       return self.proc(context, *args, **kwargs)\n",
      "2023-05-16 17:34:58,037 ERROR     File \"/home/cds/cdsservices/services/esgf_wps/__init__.py\", line 30, in execute\n",
      "2023-05-16 17:34:58,038 ERROR       request_facets, request = facets.search(context, request)\n",
      "2023-05-16 17:34:58,038 ERROR     File \"/home/cds/cdsservices/services/esgf_wps/facets.py\", line 61, in search\n",
      "2023-05-16 17:34:58,039 ERROR       raise ValueError(f'No matching data for request {tmp_request}')\n",
      "2023-05-16 17:34:58,040 ERROR   ValueError: No matching data for request {'experiment': 'ssp119', 'model': 'NorESM2-LM', 'temporal_resolution': 'mon', 'variable': 'rsds'}\n",
      "2023-05-16 17:34:58,076 INFO Welcome to the CDS\n",
      "2023-05-16 17:34:58,076 INFO Sending request to https://cds.climate.copernicus.eu/api/v2/resources/projections-cmip6\n",
      "2023-05-16 17:34:58,133 INFO Request is queued\n"
     ]
    },
    {
     "name": "stdout",
     "output_type": "stream",
     "text": [
      "Some parameters are not matching\n",
      "\n",
      "No value were found for the period and the project tested\n",
      "\n",
      "Test with model sam0_unicon\n",
      "path_for_file does not exist: the data may not have been downloaded\n",
      "file_download does not exist: the data were not downloaded\n"
     ]
    },
    {
     "name": "stderr",
     "output_type": "stream",
     "text": [
      "2023-05-16 17:34:59,178 INFO Request is failed\n",
      "2023-05-16 17:34:59,180 ERROR Message: an internal error occurred processing your request\n",
      "2023-05-16 17:34:59,182 ERROR Reason:  No matching data for request {'experiment': 'ssp119', 'model': 'SAM0-UNICON', 'temporal_resolution': 'mon', 'variable': 'rsds'}\n",
      "2023-05-16 17:34:59,183 ERROR   Traceback (most recent call last):\n",
      "2023-05-16 17:34:59,185 ERROR     File \"/opt/cdstoolbox/cdscompute/cdscompute/cdshandlers/services/handler.py\", line 59, in handle_request\n",
      "2023-05-16 17:34:59,186 ERROR       result = cached(context.method, proc, context, context.args, context.kwargs)\n",
      "2023-05-16 17:34:59,187 ERROR     File \"/opt/cdstoolbox/cdscompute/cdscompute/caching.py\", line 108, in cached\n",
      "2023-05-16 17:34:59,189 ERROR       result = proc(context, *context.args, **context.kwargs)\n",
      "2023-05-16 17:34:59,189 ERROR     File \"/opt/cdstoolbox/cdscompute/cdscompute/services.py\", line 124, in __call__\n",
      "2023-05-16 17:34:59,190 ERROR       return p(*args, **kwargs)\n",
      "2023-05-16 17:34:59,191 ERROR     File \"/opt/cdstoolbox/cdscompute/cdscompute/services.py\", line 60, in __call__\n",
      "2023-05-16 17:34:59,192 ERROR       return self.proc(context, *args, **kwargs)\n",
      "2023-05-16 17:34:59,195 ERROR     File \"/home/cds/cdsservices/services/esgf_wps/__init__.py\", line 30, in execute\n",
      "2023-05-16 17:34:59,196 ERROR       request_facets, request = facets.search(context, request)\n",
      "2023-05-16 17:34:59,197 ERROR     File \"/home/cds/cdsservices/services/esgf_wps/facets.py\", line 61, in search\n",
      "2023-05-16 17:34:59,198 ERROR       raise ValueError(f'No matching data for request {tmp_request}')\n",
      "2023-05-16 17:34:59,199 ERROR   ValueError: No matching data for request {'experiment': 'ssp119', 'model': 'SAM0-UNICON', 'temporal_resolution': 'mon', 'variable': 'rsds'}\n",
      "2023-05-16 17:34:59,237 INFO Welcome to the CDS\n",
      "2023-05-16 17:34:59,238 INFO Sending request to https://cds.climate.copernicus.eu/api/v2/resources/projections-cmip6\n",
      "2023-05-16 17:34:59,304 INFO Request is queued\n"
     ]
    },
    {
     "name": "stdout",
     "output_type": "stream",
     "text": [
      "Some parameters are not matching\n",
      "\n",
      "No value were found for the period and the project tested\n",
      "\n",
      "Test with model ukesm1_0_ll\n",
      "path_for_file does not exist: the data may not have been downloaded\n",
      "file_download does not exist: the data were not downloaded\n"
     ]
    },
    {
     "name": "stderr",
     "output_type": "stream",
     "text": [
      "2023-05-16 17:35:00,343 INFO Request is running\n",
      "2023-05-16 17:35:12,709 INFO Request is completed\n",
      "2023-05-16 17:35:12,711 INFO Downloading https://download-0007-clone.copernicus-climate.eu/cache-compute-0007/cache/data9/adaptor.esgf_wps.retrieve-1684251310.568108-8343-18-5f6104a8-7247-4646-acef-fa21c74bda81.zip to download.zip (3.5M)\n",
      "2023-05-16 17:35:13,733 INFO Download rate 3.5M/s                                                                      \n"
     ]
    },
    {
     "name": "stdout",
     "output_type": "stream",
     "text": [
      "\n",
      " The downloaded file is extracted\n",
      "path_for_file does exist Function copernicus search for nc\n",
      "The file is in the path Function copernicus search for nc\n",
      "\n",
      "Before path_length, The final path for the nc file is: C:\\Users\\CLMRX\\OneDrive - COWI\\Documents\\GitHub\\CRVA_tool\\outputs\\Datasets\\surface_downwelling_shortwave_radiation\\PT_Revubue 2 (Rev 2_01)\\ssp1_1_9\\ukesm1_0_ll\\2016-2099\\CMIP6-copernicus-GCM\\rsds_Amon_UKESM1-0-LL_ssp119_r1i1p1f2_gn_20160116-20991216_v20190830.nc\n",
      "\n",
      " The final path for nc file exists ? False\n",
      "\n",
      "After path_length, The final path for the nc file is: \\\\?\\C:\\Users\\CLMRX\\OneDrive - COWI\\Documents\\GitHub\\CRVA_tool\\outputs\\Datasets\\surface_downwelling_shortwave_radiation\\PT_Revubue 2 (Rev 2_01)\\ssp1_1_9\\ukesm1_0_ll\\2016-2099\\CMIP6-copernicus-GCM\\rsds_Amon_UKESM1-0-LL_ssp119_r1i1p1f2_gn_20160116-20991216_v20190830.nc\n",
      "\n",
      " The final path for nc file exists ? True\n",
      "\n",
      "\n",
      "\n",
      "---------------  Path to nc file exists ?? ---------------\n",
      "\n",
      "True\n",
      "\n",
      "\n",
      "Registering the data in a dataframe\n",
      "\n",
      "Value were found for the period and the project tested\n",
      "\n",
      "Test with scenario ssp1_2_6\n",
      "Test with model access_cm2\n",
      "path_for_file does not exist: the data may not have been downloaded\n",
      "file_download does not exist: the data were not downloaded\n"
     ]
    },
    {
     "name": "stderr",
     "output_type": "stream",
     "text": [
      "2023-05-16 17:44:58,039 INFO Welcome to the CDS\n",
      "2023-05-16 17:44:58,041 INFO Sending request to https://cds.climate.copernicus.eu/api/v2/resources/projections-cmip6\n",
      "2023-05-16 17:44:58,084 INFO Request is queued\n",
      "2023-05-16 17:44:59,127 INFO Request is running\n",
      "2023-05-16 17:45:30,562 INFO Request is completed\n",
      "2023-05-16 17:45:30,564 INFO Downloading https://download-0014-clone.copernicus-climate.eu/cache-compute-0014/cache/data7/adaptor.esgf_wps.retrieve-1684251928.2174256-27844-6-a4aae8d3-ce85-438b-a5d6-bb756a6aade8.zip to download.zip (3.9M)\n",
      "2023-05-16 17:45:32,174 INFO Download rate 2.4M/s                                                                      \n"
     ]
    },
    {
     "name": "stdout",
     "output_type": "stream",
     "text": [
      "\n",
      " The downloaded file is extracted\n",
      "path_for_file does exist Function copernicus search for nc\n",
      "The file is in the path Function copernicus search for nc\n",
      "\n",
      "Before path_length, The final path for the nc file is: C:\\Users\\CLMRX\\OneDrive - COWI\\Documents\\GitHub\\CRVA_tool\\outputs\\Datasets\\surface_downwelling_shortwave_radiation\\PT_Revubue 2 (Rev 2_01)\\ssp1_2_6\\access_cm2\\2016-2099\\CMIP6-copernicus-GCM\\rsds_Amon_ACCESS-CM2_ssp126_r1i1p1f1_gn_20160116-20991216_v20191108.nc\n",
      "\n",
      " The final path for nc file exists ? False\n",
      "\n",
      "After path_length, The final path for the nc file is: \\\\?\\C:\\Users\\CLMRX\\OneDrive - COWI\\Documents\\GitHub\\CRVA_tool\\outputs\\Datasets\\surface_downwelling_shortwave_radiation\\PT_Revubue 2 (Rev 2_01)\\ssp1_2_6\\access_cm2\\2016-2099\\CMIP6-copernicus-GCM\\rsds_Amon_ACCESS-CM2_ssp126_r1i1p1f1_gn_20160116-20991216_v20191108.nc\n",
      "\n",
      " The final path for nc file exists ? True\n",
      "\n",
      "\n",
      "\n",
      "---------------  Path to nc file exists ?? ---------------\n",
      "\n",
      "True\n",
      "\n",
      "\n",
      "Registering the data in a dataframe\n",
      "\n",
      "Value were found for the period and the project tested\n",
      "\n",
      "Test with model awi_cm_1_1_mr\n",
      "path_for_file does not exist: the data may not have been downloaded\n",
      "file_download does not exist: the data were not downloaded\n"
     ]
    },
    {
     "name": "stderr",
     "output_type": "stream",
     "text": [
      "2023-05-16 17:55:52,370 INFO Welcome to the CDS\n",
      "2023-05-16 17:55:52,371 INFO Sending request to https://cds.climate.copernicus.eu/api/v2/resources/projections-cmip6\n",
      "2023-05-16 17:55:52,452 INFO Request is queued\n",
      "2023-05-16 17:55:53,490 INFO Request is running\n",
      "2023-05-16 17:56:24,976 INFO Request is completed\n",
      "2023-05-16 17:56:24,977 INFO Downloading https://download-0003-clone.copernicus-climate.eu/cache-compute-0003/cache/data5/adaptor.esgf_wps.retrieve-1684252573.1404471-13367-10-eed10a33-3aa9-4ca7-9542-a1c4839461c2.zip to download.zip (10.4M)\n",
      "2023-05-16 17:56:26,523 INFO Download rate 6.8M/s                                                                      \n"
     ]
    },
    {
     "name": "stdout",
     "output_type": "stream",
     "text": [
      "\n",
      " The downloaded file is extracted\n",
      "path_for_file does exist Function copernicus search for nc\n",
      "The file is in the path Function copernicus search for nc\n",
      "\n",
      "Before path_length, The final path for the nc file is: C:\\Users\\CLMRX\\OneDrive - COWI\\Documents\\GitHub\\CRVA_tool\\outputs\\Datasets\\surface_downwelling_shortwave_radiation\\PT_Revubue 2 (Rev 2_01)\\ssp1_2_6\\awi_cm_1_1_mr\\2016-2099\\CMIP6-copernicus-GCM\\rsds_Amon_AWI-CM-1-1-MR_ssp126_r1i1p1f1_gn_20160116-20991216_v20190529.nc\n",
      "\n",
      " The final path for nc file exists ? False\n",
      "\n",
      "After path_length, The final path for the nc file is: \\\\?\\C:\\Users\\CLMRX\\OneDrive - COWI\\Documents\\GitHub\\CRVA_tool\\outputs\\Datasets\\surface_downwelling_shortwave_radiation\\PT_Revubue 2 (Rev 2_01)\\ssp1_2_6\\awi_cm_1_1_mr\\2016-2099\\CMIP6-copernicus-GCM\\rsds_Amon_AWI-CM-1-1-MR_ssp126_r1i1p1f1_gn_20160116-20991216_v20190529.nc\n",
      "\n",
      " The final path for nc file exists ? True\n",
      "\n",
      "\n",
      "\n",
      "---------------  Path to nc file exists ?? ---------------\n",
      "\n",
      "True\n",
      "\n",
      "\n",
      "Registering the data in a dataframe\n",
      "\n",
      "Value were found for the period and the project tested\n",
      "\n",
      "Test with model bcc_csm2_mr\n",
      "path_for_file does not exist: the data may not have been downloaded\n",
      "file_download does not exist: the data were not downloaded\n"
     ]
    },
    {
     "name": "stderr",
     "output_type": "stream",
     "text": [
      "2023-05-16 18:08:18,717 INFO Welcome to the CDS\n",
      "2023-05-16 18:08:18,719 INFO Sending request to https://cds.climate.copernicus.eu/api/v2/resources/projections-cmip6\n",
      "2023-05-16 18:08:18,794 INFO Request is queued\n",
      "2023-05-16 18:08:19,839 INFO Request is running\n",
      "2023-05-16 18:08:39,835 INFO Request is completed\n",
      "2023-05-16 18:08:39,836 INFO Downloading https://download-0007-clone.copernicus-climate.eu/cache-compute-0007/cache/data3/adaptor.esgf_wps.retrieve-1684253316.0-22726-14-ca2a8ddd-0ecf-41b8-83ec-557acfd4aa1b.zip to download.zip (7.9M)\n",
      "2023-05-16 18:08:41,059 INFO Download rate 6.5M/s                                                                      \n"
     ]
    },
    {
     "name": "stdout",
     "output_type": "stream",
     "text": [
      "\n",
      " The downloaded file is extracted\n",
      "path_for_file does exist Function copernicus search for nc\n",
      "The file is in the path Function copernicus search for nc\n",
      "\n",
      "Before path_length, The final path for the nc file is: C:\\Users\\CLMRX\\OneDrive - COWI\\Documents\\GitHub\\CRVA_tool\\outputs\\Datasets\\surface_downwelling_shortwave_radiation\\PT_Revubue 2 (Rev 2_01)\\ssp1_2_6\\bcc_csm2_mr\\2016-2099\\CMIP6-copernicus-GCM\\rsds_Amon_BCC-CSM2-MR_ssp126_r1i1p1f1_gn_20160116-20991216_v20190314.nc\n",
      "\n",
      " The final path for nc file exists ? False\n",
      "\n",
      "After path_length, The final path for the nc file is: \\\\?\\C:\\Users\\CLMRX\\OneDrive - COWI\\Documents\\GitHub\\CRVA_tool\\outputs\\Datasets\\surface_downwelling_shortwave_radiation\\PT_Revubue 2 (Rev 2_01)\\ssp1_2_6\\bcc_csm2_mr\\2016-2099\\CMIP6-copernicus-GCM\\rsds_Amon_BCC-CSM2-MR_ssp126_r1i1p1f1_gn_20160116-20991216_v20190314.nc\n",
      "\n",
      " The final path for nc file exists ? True\n",
      "\n",
      "\n",
      "\n",
      "---------------  Path to nc file exists ?? ---------------\n",
      "\n",
      "True\n",
      "\n",
      "\n",
      "Registering the data in a dataframe\n",
      "\n",
      "Value were found for the period and the project tested\n",
      "\n",
      "Test with model cams_csm1_0\n",
      "path_for_file does not exist: the data may not have been downloaded\n",
      "file_download does not exist: the data were not downloaded\n"
     ]
    },
    {
     "name": "stderr",
     "output_type": "stream",
     "text": [
      "2023-05-16 18:20:47,533 INFO Welcome to the CDS\n",
      "2023-05-16 18:20:47,535 INFO Sending request to https://cds.climate.copernicus.eu/api/v2/resources/projections-cmip6\n",
      "2023-05-16 18:20:47,805 INFO Request is queued\n",
      "2023-05-16 18:20:48,850 INFO Request is running\n",
      "2023-05-16 18:21:08,844 INFO Request is completed\n",
      "2023-05-16 18:21:08,845 INFO Downloading https://download-0008-clone.copernicus-climate.eu/cache-compute-0008/cache/data1/adaptor.esgf_wps.retrieve-1684254061.685509-5809-12-e857f440-c86c-491d-a44f-2792ac913858.zip to download.zip (7.9M)\n",
      "2023-05-16 18:21:09,916 INFO Download rate 7.4M/s                                                                      \n"
     ]
    },
    {
     "name": "stdout",
     "output_type": "stream",
     "text": [
      "\n",
      " The downloaded file is extracted\n",
      "path_for_file does exist Function copernicus search for nc\n",
      "The file is in the path Function copernicus search for nc\n",
      "\n",
      "Before path_length, The final path for the nc file is: C:\\Users\\CLMRX\\OneDrive - COWI\\Documents\\GitHub\\CRVA_tool\\outputs\\Datasets\\surface_downwelling_shortwave_radiation\\PT_Revubue 2 (Rev 2_01)\\ssp1_2_6\\cams_csm1_0\\2016-2099\\CMIP6-copernicus-GCM\\rsds_Amon_CAMS-CSM1-0_ssp126_r1i1p1f1_gn_20160116-20991216_v20190708.nc\n",
      "\n",
      " The final path for nc file exists ? False\n",
      "\n",
      "After path_length, The final path for the nc file is: \\\\?\\C:\\Users\\CLMRX\\OneDrive - COWI\\Documents\\GitHub\\CRVA_tool\\outputs\\Datasets\\surface_downwelling_shortwave_radiation\\PT_Revubue 2 (Rev 2_01)\\ssp1_2_6\\cams_csm1_0\\2016-2099\\CMIP6-copernicus-GCM\\rsds_Amon_CAMS-CSM1-0_ssp126_r1i1p1f1_gn_20160116-20991216_v20190708.nc\n",
      "\n",
      " The final path for nc file exists ? True\n",
      "\n",
      "\n",
      "\n",
      "---------------  Path to nc file exists ?? ---------------\n",
      "\n",
      "True\n",
      "\n",
      "\n",
      "Registering the data in a dataframe\n"
     ]
    }
   ],
   "source": [
    "(year, year_str, index)=year_copernicus(2016,2099)\n",
    "temporal_resolution = 'monthly'\n",
    "\n",
    "Projections_solar_radiation_projects = pd.DataFrame() # create an empty dataframe\n",
    "for (name_project,k) in zip(projects['Name'],np.arange(0,len(projects['Name']))):\n",
    "    (df,period) = csv_copernicus(temporal_resolution,year_str,copernicus_elements.experiments,copernicus_elements.models,out_path,global_variable, name_variable,name_project,[area_projects[0][k],area_projects[1][k],area_projects[2][k],area_projects[3][k]],'CMIP6-copernicus-GCM')  \n",
    "    Projections_solar_radiation_projects = pd.concat([Projections_solar_radiation_projects,df])\n",
    "path_for_csv = os.path.join(out_path,'csv','data',name_variable)\n",
    "Projections_solar_radiation_projects.to_csv('outputs/csv/data/Projections_solar_radiation_projects.csv')"
   ]
  },
  {
   "cell_type": "code",
   "execution_count": null,
   "id": "9d1ff428",
   "metadata": {},
   "outputs": [],
   "source": [
    "os.path.isfile(r'C:\\Users\\CLMRX\\OneDrive - COWI\\Documents\\GitHub\\CRVA_tool\\outputs\\Datasets\\surface_downwelling_shortwave_radiation\\PT_Revubue 2 (Rev 2_01)\\ssp1_1_9\\miroc_es2l\\2016-2099\\CMIP6-copernicus-GCM\\rsds_Amon_MIROC-ES2L_ssp119_r1i1p1f2_gn_20160116-20991216_v20190823.nc')"
   ]
  },
  {
   "cell_type": "code",
   "execution_count": null,
   "id": "2d66899e",
   "metadata": {},
   "outputs": [],
   "source": [
    "os.path.isfile(r'C:\\\\Users\\\\CLMRX\\\\OneDrive - COWI\\\\Documents\\\\GitHub\\\\CRVA_tool\\\\outputs\\\\Datasets\\\\surface_downwelling_shortwave_radiation\\\\PT_Revubue 2 (Rev 2_01)\\\\ssp1_1_9\\\\miroc_es2l\\\\2016-2099\\\\CMIP6-copernicus-GCM\\\\rsds_Amon_MIROC-ES2L_ssp119_r1i1p1f2_gn_20160116-20991216_v20190823.nc')"
   ]
  },
  {
   "cell_type": "code",
   "execution_count": null,
   "id": "3287f0d3",
   "metadata": {},
   "outputs": [],
   "source": [
    "len('C:\\\\Users\\\\CLMRX\\\\OneDrive - COWI\\\\Documents\\\\GitHub\\\\CRVA_tool\\\\outputs\\\\Datasets\\\\surface_downwelling_shortwave_radiation\\\\PT_Revubue 2 (Rev 2_01)\\\\ssp1_1_9\\\\miroc_es2l\\\\2016-2099\\\\CMIP6-copernicus-GCM\\\\rsds_Amon_MIROC-ES2L_ssp119_r1i1p1f2_gn_20160116-20991216_v20190823.nc')"
   ]
  },
  {
   "cell_type": "code",
   "execution_count": null,
   "id": "fdc20e08",
   "metadata": {},
   "outputs": [],
   "source": [
    "# create string for name of folder depending on type of period\n",
    "if temporal_resolution == 'fixed':\n",
    "    period = 'fixed'\n",
    "else:\n",
    "    period=year_str[0]+'-'+year_str[len(year_str)-1]\n",
    "name_project = name_project.replace('-','_') # take off every blank space of project names\n",
    "name_project = name_project.replace('/','_') # take off every / of project names\n",
    "name_project = name_project.replace(r'\"\\\"','_') # take off every \\ of project names\n",
    "path_for_csv = os.path.join(out_path,'csv','data',name_variable,name_project,period) # create path for csv file\n",
    "if len(os.listdir(path_for_csv)) == 0: #test if the directory is empty\n",
    "    # the csv file does not exist, even if the path exist\n",
    "    # the dataframe_copernicus functions aims to test if the data with the specific parameters exists (with copernicus_data)\n",
    "    # and then produce a csv file if the data exists\n",
    "    print('lalalalala')\n",
    "    (df,period)=dataframe_copernicus(temporal_resolution,year_str,experiments,models,out_path, global_variable, name_variable, name_project,area)\n",
    "else: # the directory is not empty\n",
    "    df=file_already_downloaded(path_for_csv,title_file)"
   ]
  },
  {
   "cell_type": "code",
   "execution_count": null,
   "id": "4266ed91",
   "metadata": {},
   "outputs": [],
   "source": [
    "Future_solar_radiation"
   ]
  },
  {
   "cell_type": "code",
   "execution_count": null,
   "id": "d1c85b54",
   "metadata": {
    "scrolled": true
   },
   "outputs": [],
   "source": [
    "(year, year_str, index)=year_copernicus(2015,2099)\n",
    "temporal_resolution = 'monthly'\n",
    "name_project = 'CompleteMozambique'\n",
    "\n",
    "Projections_solar_radiation_country = pd.DataFrame() # create an empty dataframe\n",
    "(Projections_solar_radiation_country,period) = csv_copernicus(temporal_resolution,year_str,copernicus_elements.experiments,copernicus_elements.models,out_path,global_variable, name_variable,name_project,area,'CMIP6-copernicus-GCM')  "
   ]
  },
  {
   "cell_type": "code",
   "execution_count": null,
   "id": "f07ec606",
   "metadata": {},
   "outputs": [],
   "source": [
    "### TEST to resolve probleme with path 'C:\\Users\\CLMRX\\OneDrive - COWI\\Documents\\GitHub\\CRVA_tool\\outputs\\Datasets\\surface_downwelling_shortwave_radiation\\CompleteMozambique\\ssp5_3_4os\\fgoals_g3\\2015-2099\\CMIP6-copernicus-GCM\\rsds_Amon_FGOALS-g3_ssp534-over_r1i1p1f1_gn_20150116-20991216_v20200410.nc'\n",
    "path_file = r'C:\\Users\\CLMRX\\OneDrive - COWI\\Documents\\GitHub\\CRVA_tool\\outputs\\Datasets\\surface_downwelling_shortwave_radiation\\CompleteMozambique\\ssp5_3_4os\\fgoals_g3\\2015-2099\\CMIP6-copernicus-GCM'\n",
    "#path_file = try_download_copernicus(temporal_resolution,SSP,name_variable,model,area,year,path_for_file,file_download,source)\n",
    "final_path=search_for_nc(path_file) # looking for the netCDF file in format .nc and look if path length is a problem at the same time\n"
   ]
  },
  {
   "cell_type": "code",
   "execution_count": null,
   "id": "9a3fbd14",
   "metadata": {},
   "outputs": [],
   "source": [
    "len(path_file)"
   ]
  },
  {
   "cell_type": "code",
   "execution_count": null,
   "id": "723e8cff",
   "metadata": {},
   "outputs": [],
   "source": [
    "# need to find name of column\n",
    "\n",
    "(year, year_str, index)=year_copernicus(2020,2100)\n",
    "temporal_resolution = 'monthly'\n",
    "name_project = 'CompleteMozambique'\n",
    "# Register data from copernicus for humidity in a dataframe and production of a csv file for the period indicated above\n",
    "#Solar_radiation = dataframe_csv_copernicus(temporal_resolution,year_str,copernicus_elements.experiments,copernicus_elements.models,out_path,global_variable, name_variable,area)\n",
    "if temporal_resolution == 'fixed':\n",
    "    period = 'fixed'\n",
    "else:\n",
    "    period=year_str[0]+'-'+year_str[len(year_str)-1]\n",
    "\n",
    "(dates, index_dates)=date_copernicus(temporal_resolution,year_str) # create time vector depending on temporal resolution\n",
    "\n",
    "path_for_file= os.path.join(out_path,'Datasets',name_variable,name_project,copernicus_elements.experiments[0],copernicus_elements.models[0],period)#,'')\n",
    "\n",
    "climate_variable_path=copernicus_data(temporal_resolution,copernicus_elements.experiments[0],name_variable,copernicus_elements.models[0],year_str,area,path_for_file,out_path,name_project)\n",
    "\n",
    "df = pd.DataFrame()\n",
    "experiment = (copernicus_elements.experiments[0],)\n",
    "model = (copernicus_elements.models[0],)\n",
    "df=register_data(climate_variable_path,name_project,index_dates,dates,experiment,model,df)\n"
   ]
  },
  {
   "cell_type": "code",
   "execution_count": null,
   "id": "db6d7c5b",
   "metadata": {},
   "outputs": [],
   "source": [
    "# need to find name of column\n",
    "\n",
    "(year, year_str, index)=year_copernicus(2020,2100)\n",
    "temporal_resolution = 'monthly'\n",
    "name_project = 'CompleteMozambique'\n",
    "# Register data from copernicus for humidity in a dataframe and production of a csv file for the period indicated above\n",
    "#Solar_radiation = dataframe_csv_copernicus(temporal_resolution,year_str,copernicus_elements.experiments,copernicus_elements.models,out_path,global_variable, name_variable,area)\n",
    "if temporal_resolution == 'fixed':\n",
    "    period = 'fixed'\n",
    "else:\n",
    "    period=year_str[0]+'-'+year_str[len(year_str)-1]\n",
    "\n",
    "(dates, index_dates)=date_copernicus(temporal_resolution,year_str) # create time vector depending on temporal resolution\n",
    "\n",
    "path_for_file= os.path.join(out_path,'Datasets',name_variable,name_project,copernicus_elements.experiments[0],copernicus_elements.models[0],period)#,'')\n",
    "\n",
    "climate_variable_path=copernicus_data(temporal_resolution,copernicus_elements.experiments[0],name_variable,copernicus_elements.models[0],year_str,area,path_for_file,out_path,name_project)\n",
    "#Open_path = Dataset(climate_variable_path) # open netcdf file\n",
    "df = pd.DataFrame()\n",
    "#df=register_data(climate_variable_path,index_dates,dates,copernicus_elements.experiments[0],copernicus_elements.models[0],df)\n",
    "Open_path = Dataset(climate_variable_path) # open netcdf file\n",
    "lat_dataframe = np.ma.getdata(Open_path.variables['lat']).data\n",
    "lon_dataframe = np.ma.getdata(Open_path.variables['lon']).data\n",
    "column_name = find_column_name(Open_path)\n",
    "data_with_all = ma.getdata(Open_path.variables[column_name]).data\n",
    "\n",
    "for moment in index_dates: # case if temporal resolution is daily\n",
    "    data_dataframe = data_with_all[moment,:,:]\n",
    "    Date = (dates[moment],) # create tuple for iteration of dataframe\n",
    "    \n",
    "    experiment = (copernicus_elements.experiments[0],)\n",
    "    model = (copernicus_elements.models[0],)\n",
    "    Name_Project = (name_project,)\n",
    "    \n",
    "    # Create the MultiIndex\n",
    "    midx = pd.MultiIndex.from_product([Name_Project,experiment,model, Date, lat_dataframe],names=['Name project','Experiment', 'Model', 'Date', 'Latitude'])\n",
    "    # multiindex to name the columns\n",
    "    lon_str = ('Longitude',)\n",
    "    cols = pd.MultiIndex.from_product([lon_str,lon_dataframe])\n",
    "    # Create the Dataframe\n",
    "    Variable_dataframe = pd.DataFrame(data = data_dataframe, \n",
    "                                index = midx,\n",
    "                                columns = cols)\n",
    "    # Concatenate former and new dataframe\n",
    "    df = pd.concat([df,Variable_dataframe])# register information for project\n",
    "\n",
    "Open_path.close # to spare memory\n",
    "#(df,period)=dataframe_csv_copernicus(temporal_resolution,year_str,experiments,models,out_path, global_variable, name_variable, name_project,area):    \n",
    "\n"
   ]
  },
  {
   "cell_type": "code",
   "execution_count": null,
   "id": "3142c046",
   "metadata": {},
   "outputs": [],
   "source": [
    "df"
   ]
  },
  {
   "cell_type": "code",
   "execution_count": null,
   "id": "b455d699",
   "metadata": {},
   "outputs": [],
   "source": [
    "climate_variables_variables=list(Open_path.variables)\n",
    "elements_not_climate_var =['time', 'time_bnds', 'lat', 'lat_bnds', 'lon', 'lon_bnds']\n",
    "\n",
    "column_name = list(set(climate_variables_variables).difference(elements_not_climate_var))\n",
    "column_name[0]"
   ]
  },
  {
   "cell_type": "code",
   "execution_count": null,
   "id": "0318b5b1",
   "metadata": {},
   "outputs": [],
   "source": [
    "start_date = \"01-01-\"+year_str[0] # string start date based on start year\n",
    "stop_date = \"31-12-\"+year_str[len(year_str)-1] # string stop date based on stop year\n",
    "\n",
    "dates = pd.date_range(start_date,stop_date,freq='MS') # vector of dates between start date and stop date\n",
    "# freq='MS' is month start frequency\n",
    "type(dates)"
   ]
  },
  {
   "cell_type": "code",
   "execution_count": null,
   "id": "89ff06a0",
   "metadata": {},
   "outputs": [],
   "source": [
    "dates=list(dates.strftime('%m-%Y'))\n",
    "#dates=list(dates)\n",
    "dates[0]"
   ]
  },
  {
   "cell_type": "markdown",
   "id": "788310cb",
   "metadata": {},
   "source": [
    "<a id='land_climate_variables'></a>\n",
    "# LAND\n",
    "\n",
    "[Home](#beginning_CRVA)"
   ]
  },
  {
   "cell_type": "markdown",
   "id": "338692f1",
   "metadata": {},
   "source": [
    "<a id='landslides'></a>\n",
    "## Landslides - Land\n",
    "\n",
    "source: https://datacatalog.worldbank.org/search/dataset/0037584 (Global Landslide Hazard Map, The World Bank)\n",
    "\n",
    "### Description of LS_TH : \n",
    "The Global Landslide Hazard Map presents a qualitative representation of global landslide hazard at a global scale. It is the combination of the The Global Landslide Hazard Map: Median Annual Rainfall-Triggered Landslide Hazard (1980-2018) and The Global Landslide Hazard Map: Earthquake-Triggered Landslide Hazard which has then been simplified to four rank categories, ranging from Very low to High landslide hazard, based on the existing system used by ThinkHazard! (www.thinkhazard.org)\n",
    "\n",
    "### Description of LS_RF_Median_1980-2018 :\n",
    "The Global Rainfall-Triggered Landslide Hazard Map presents a quantitative representation of landslide hazard. This component is the median annual rainfall-triggered landslide hazard assessment for the period 1980 – 2018. Raster values represent the modelled average annual frequency of significant rainfall-triggered landslides per sq. km."
   ]
  },
  {
   "cell_type": "code",
   "execution_count": null,
   "id": "1e1bd3c3",
   "metadata": {},
   "outputs": [],
   "source": [
    "\n",
    "#Landslides data path\n",
    "landslidesTH_path=os.path.join(data_folder,'landslides/wb_GlLandslHazard/ls_th/LS_TH.tif') ## Global landslide hazard map (TH ranks --> Think hazard ranks)\n",
    "landslidesRF_path=os.path.join(data_folder,'landslides/wb_GlLandslHazard/ls_rf_median_1980-2018/LS_RF_Median_1980-2018.tif')\n",
    "\n",
    "#spatial stats\n",
    "projects['landslides_THmax']=pd.DataFrame(zonal_stats(vectors=projects_buf, raster=landslidesTH_path, \n",
    "                                                            all_touched=True, stats='max'))\n",
    "projects['landslidesRF_medianMax']=pd.DataFrame(zonal_stats(vectors=projects_buf, raster=landslidesRF_path, \n",
    "                                                            all_touched=True, stats='max'))\n",
    "#show table\n",
    "projects[[project_id,'landslides_THmax','landslidesRF_medianMax']].head()\n",
    "\n",
    "#plot landslides TH\n",
    "fig, ax = plt.subplots()\n",
    "landslides = rioxarray.open_rasterio(landslidesTH_path)\n",
    "landslides_clip = landslides.rio.clip(study_area.geometry, study_area.crs, drop=True)\n",
    "landslides_clip.plot(ax=ax, cmap='Reds',vmin=1, vmax=4)\n",
    "points=projects.plot(ax=ax,cmap='Greys') # what are those points ????\n",
    "\n",
    "#close\n",
    "landslides.close()\n",
    "landslides_clip.close()\n",
    "\n",
    "# didn't achieved to present the RF datas\n",
    "#plot landslides RF\n",
    "#fig, ax = plt.subplots()\n",
    "#landslides = rioxarray.open_rasterio(landslidesRF_path)\n",
    "#landslides_clip = landslides.rio.clip(study_area.geometry, study_area.crs, drop=True)\n",
    "#landslides_clip.plot(ax=ax, cmap='Reds',vmin=1, vmax=4)\n",
    "#points=projects.plot(ax=ax,cmap='Greys') # what are those points ????\n",
    "#landslides.close()"
   ]
  },
  {
   "cell_type": "markdown",
   "id": "7b840dac",
   "metadata": {},
   "source": [
    "## Global wildfire hazard - Land\n",
    "\n",
    "This jupyter notebook is to study the global wildfire hazard\n",
    "\n",
    "Source : https://datacatalog.worldbank.org/search/dataset/0042058/Global-wildfire-hazard\n",
    "\n",
    "Description of the source : The approach to classify wildfire hazard levels used is based solely on fire weather index climatology. Fire weather indices are used in many countries to assess both the onset of conditions that will allow fires to spread, as well as the likelihood of fire at any point in the landscape. The method presented uses statistical modelling (extreme value analysis) of a 30 year fire weather climatology to assess the predicted fire weather intensity for specific return period intervals. These intensities are classified based on thresholds using conventions to provide hazard classes that correspond to conditions that can support problematic fire spread in the landscape if an ignition and sufficient fuel were to be present.\n",
    "\n",
    "Date of export : 23.03.23\n",
    "\n",
    "Projection FWI for europe : https://cds.climate.copernicus.eu/cdsapp#!/dataset/sis-tourism-fire-danger-indicators?tab=overview\n",
    "\n",
    "Projection seasonal severity rating of for EUrope : https://www.eea.europa.eu/data-and-maps/figures/projected-meteorological-forest-fire-danger\n",
    "\n",
    "Calculation of the FWI : https://cwfis.cfs.nrcan.gc.ca/background/summary/fwi\n",
    "\n",
    "GLOBAL PROJeTIONS NOT FOUND\n"
   ]
  },
  {
   "cell_type": "markdown",
   "id": "91c1bf95",
   "metadata": {},
   "source": [
    "## Soil erosion - Land\n",
    "\n",
    "Source for global actual situations : https://data.jrc.ec.europa.eu/dataset/jrc-esdac-120"
   ]
  },
  {
   "cell_type": "markdown",
   "id": "c064cf21",
   "metadata": {},
   "source": [
    "<a id='hydrosphere_climate_variables'></a>\n",
    "# HYDROSPHERE\n",
    "\n",
    "[Home](#beginning_CRVA)"
   ]
  },
  {
   "cell_type": "markdown",
   "id": "db1a31ad",
   "metadata": {},
   "source": [
    "<a id='relative_sea_level_rise'></a>\n",
    "## Relative sea level rise"
   ]
  },
  {
   "cell_type": "code",
   "execution_count": null,
   "id": "ae5e6708",
   "metadata": {},
   "outputs": [],
   "source": [
    "## use copernicus or NASA data ? NASA data are in COWI servor \\\\COWI.net\\projects\\A245000\\A248363\\CRVA\\Datasets\\SeaLevelRise\\Nasa\n",
    "# use mean sea level > https://cds.climate.copernicus.eu/cdsapp#!/dataset/sis-water-level-change-indicators-cmip6?tab=overview"
   ]
  },
  {
   "cell_type": "markdown",
   "id": "68ac7c48",
   "metadata": {},
   "source": [
    "<a id='sea_water_temperature'></a>\n",
    "## Sea water temperature"
   ]
  },
  {
   "cell_type": "code",
   "execution_count": null,
   "id": "992b5f1c",
   "metadata": {},
   "outputs": [],
   "source": [
    "global_variable = 'Sea_water_temperature'\n",
    "name_variable = 'sea_surface_temperature' # only estimate for the surface in the copernicus CMIP6"
   ]
  },
  {
   "cell_type": "markdown",
   "id": "91c53183",
   "metadata": {},
   "source": [
    "#### Historical data"
   ]
  },
  {
   "cell_type": "code",
   "execution_count": null,
   "id": "7ca3cac1",
   "metadata": {},
   "outputs": [],
   "source": [
    "(year_historical, year_str_historical, index_historical)=year_copernicus(1850,2014)\n",
    "temporal_resolution = 'monthly'\n",
    "# Register data from copernicus for humidity in a dataframe and production of a csv file for the period indicated above\n",
    "Sea_water_temperature_historical = dataframe_csv_copernicus(temporal_resolution,year_str_historical,copernicus_elements.experiments_historical,copernicus_elements.models,out_path,global_variable, name_variable,area)    "
   ]
  },
  {
   "cell_type": "markdown",
   "id": "d8909323",
   "metadata": {},
   "source": [
    "#### Projection data"
   ]
  },
  {
   "cell_type": "code",
   "execution_count": null,
   "id": "2d135b21",
   "metadata": {},
   "outputs": [],
   "source": [
    "(year, year_str, index)=year_copernicus(2020,2100)\n",
    "temporal_resolution = 'monthly'\n",
    "# Register data from copernicus for humidity in a dataframe and production of a csv file for the period indicated above\n",
    "Sea_water_temperature = dataframe_csv_copernicus(temporal_resolution,year_str,copernicus_elements.experiments,copernicus_elements.models,out_path,global_variable, name_variable,area)    "
   ]
  },
  {
   "cell_type": "markdown",
   "id": "534cc101",
   "metadata": {},
   "source": [
    "<a id='water_availability'></a>\n",
    "### Water availability\n",
    "Represented with water stress\n",
    "\n",
    "Did not find historical data, look into world bank\n",
    "\n",
    "Source for projections from 2020 to 2050 : https://www.wri.org/data/aqueduct-water-stress-projections-data\n",
    "Informations about how the shp is designed located here : data_folder, Water_Availability_WaterStress\\aqueduct_projections_20150309_shp\\aqueduct_projections_schematic_20140615 (excel sheet)"
   ]
  },
  {
   "cell_type": "code",
   "execution_count": null,
   "id": "9d1d4569",
   "metadata": {},
   "outputs": [],
   "source": [
    "## Projection of water stress\n",
    "# register path to water stress data\n",
    "water_stress_location_path=os.path.join(data_folder,'Water_Availability_WaterStress/aqueduct_projections_20150309_shp/aqueduct_projections_20150309.shp')\n",
    "# register data in default projection 4326\n",
    "water_stress = gpd.read_file(water_stress_location_path).to_crs(bCRS) # uncertain that projeciton is the default one\n",
    "ws_geometry = water_stress.geometry # register geometry for later\n",
    "# filter columns of dataframe that are not water stress related\n",
    "elements_to_drop=('sv','ut','bt','r','u','c','20','BasinID','dwnBasinID','Shape_Leng','Shape_Le_1') # if a column contains a str in this list, the column should be drop\n",
    "# 20 to remove the projections for 2020 (the projections were made in 2015)\n",
    "\n",
    "for name_column_out in elements_to_drop:\n",
    "    water_stress=water_stress.drop(water_stress.filter(regex=name_column_out).columns, axis=1)\n",
    "    \n",
    "# making name of columns more precise\n",
    "# information on column names come from \n",
    "#\\\\COWI.net\\projects\\A245000\\A248363\\CRVA\\Datasets\\Water_Availability_WaterStress\\aqueduct_projections_20150309_shp\\aqueduct_projections_schematic_20140615\n",
    "scenarios_ws=['ssp2_rcp45','ssp2_rcp85','ssp3_rcp85']\n",
    "projections_ws = ['projection_2030 ','projection_2040 ']\n",
    "old_name = ['ws', '30','40','24','28','38','tl']\n",
    "new_name = ['water stress ','projection_2030 ','projection_2040 ','ssp2_rcp45','ssp2_rcp85','ssp3_rcp85','']\n",
    "\n",
    "for o,n in zip(old_name,new_name): # iterate accross the two list at a time\n",
    "    water_stress.columns = water_stress.columns.str.replace(o, n) # replacing \"40\" by \"projection_2040\" in names of columns\n",
    "        \n",
    "# water_stress is a panda dataframe, not geopanda.dataframe. Need to convert it again in geopandas.geodataframe.GeoDataFrame. \n",
    "# Otherwise, impossible to use sjoin later\n",
    "water_stress = GeoDataFrame(water_stress, crs=bCRS, geometry=ws_geometry) # convert panda.dataframe in geopandas.geodataframe.GeoDataFrame\n",
    "\n",
    "# join information from water stress to projects\n",
    "\n",
    "projects=projects.sjoin(water_stress,how='left',predicate='within', lsuffix=\"_left\") # need to rename name of columns to make it understandable\n",
    "projects.drop('index_right', axis=1, inplace=True) # drop column containing index from water stress\n",
    "projects # projects stays a geopandas.geodataframe.GeoDataFrame"
   ]
  },
  {
   "cell_type": "code",
   "execution_count": null,
   "id": "e076e5c1",
   "metadata": {},
   "outputs": [],
   "source": [
    "Display_map_projects(projects,study_area,'water stress','Map presenting water stress projections for Mozambique projects', 2, 3, out_path)\n",
    "# This function aims to display every projects wanted by the user with a map as a background\n",
    "### Parameters of the function : \n",
    "# projects: geopanda.dataframe containing projects information\n",
    "# study_area: geopanda.dataframe containing study_area information\n",
    "# str_interest: string of the climate variable of interest to be represented\n",
    "# title_for_image: title for image composed of subplots\n",
    "# number_rows: the user should indicate the number of rows for the subplots\n",
    "# number_cols: the user should indicate the number of cols for the subplots\n",
    "# out_path: begenning of the path to register the image"
   ]
  },
  {
   "cell_type": "code",
   "execution_count": null,
   "id": "94dd92ea",
   "metadata": {
    "scrolled": true
   },
   "outputs": [],
   "source": [
    "# select climate variable to be represented\n",
    "columns_to_represent= list(projects.filter(regex='water stress').columns) # select columns that should be presented in plots\n",
    "columns_to_represent2=[ ('\\n').join(k.split(' ')[-2:])  for k in columns_to_represent] # delete 'water stress' from \n",
    "# the list column_to_represent and insert \\n to do a back to line\n",
    "number_plots = len(columns_to_represent)\n",
    "\n",
    "# create figure\n",
    "fig, axs = plt.subplots(nrows=2,ncols=3, sharex=True, sharey=True,figsize=(8,8))\n",
    "\n",
    "color_dict = {'Low':'green', 'Antarctica':'white', 'Asia':'pink', \n",
    "              'Europe':'green', 'North America':'brown',\n",
    "              'Oceania':'blue', 'Seven seas (open ocean)':'gray',\n",
    "              'South America':'red'}\n",
    "\n",
    "# map in the subplot\n",
    "k = 0\n",
    "\n",
    "for i in np.arange(0,3):# columns\n",
    "    for j in np.arange(0,2): # lines\n",
    "        base = study_area.plot(ax=axs[j][i],color='white', edgecolor='black')# background is map of the study area presenting \n",
    "        # country borders of this area\n",
    "        projects.plot(ax=axs[j][i], column=columns_to_represent[k])# plot the projects as points; legeng = True \n",
    "        # impose a color for the projects point depending on the value in the column\n",
    "        \n",
    "        # give subplot a title\n",
    "        ax_created = axs[j][i]\n",
    "        ax_created.title.set_text(columns_to_represent2[k])\n",
    "        \n",
    "        k+=1 # incrementation to iterate columns_to_represent\n",
    "plr\n",
    "plt.suptitle('Map presenting water stress projections for Mozambique projects') # give a global name to the image\n",
    "plt.savefig(os.path.join(out_path,'figures','water stress','Map presenting water stress projections for Mozambique projects'),format ='png') # savefig or save text must be before plt.show. for savefig, format should be explicity written\n",
    "plt.show()"
   ]
  },
  {
   "cell_type": "code",
   "execution_count": null,
   "id": "edbca3c9",
   "metadata": {},
   "outputs": [],
   "source": [
    "np.arange(0,3)"
   ]
  },
  {
   "cell_type": "code",
   "execution_count": null,
   "id": "7a2e45de",
   "metadata": {},
   "outputs": [],
   "source": [
    "axs"
   ]
  },
  {
   "cell_type": "code",
   "execution_count": null,
   "id": "e2840572",
   "metadata": {},
   "outputs": [],
   "source": [
    "projects"
   ]
  },
  {
   "cell_type": "code",
   "execution_count": null,
   "id": "1e1321c9",
   "metadata": {},
   "outputs": [],
   "source": [
    "columns_to_represent= list(projects.filter(regex='water stress').columns) # select columns that should be presented in plots\n",
    "columns_to_represent=[ (' ').join(k.split(' ')[-2:])  for k in columns_to_represent] # delete 'water stress' from the list column_to_represent"
   ]
  },
  {
   "cell_type": "code",
   "execution_count": null,
   "id": "1ccbd298",
   "metadata": {},
   "outputs": [],
   "source": [
    "columns_to_represent"
   ]
  },
  {
   "cell_type": "code",
   "execution_count": null,
   "id": "7234cf58",
   "metadata": {},
   "outputs": [],
   "source": [
    "[s.replace('water stress ', '') for s in columns_to_represent]\n",
    "columns_to_represent"
   ]
  },
  {
   "cell_type": "code",
   "execution_count": null,
   "id": "66bb0686",
   "metadata": {},
   "outputs": [],
   "source": [
    "# plot results for projects\n",
    "columns_to_represent= list(projects.filter(regex='water stress').columns) # select columns that should be presented in plots\n",
    "number_plots = len(columns_to_represent)\n",
    "\n",
    "# trying to do a map with shape of area and points projets\n",
    "#projects.plot(column='water stress projection_2030 ssp2_rcp45', legend=True)"
   ]
  },
  {
   "cell_type": "code",
   "execution_count": null,
   "id": "90469688",
   "metadata": {},
   "outputs": [],
   "source": [
    "fig, (ax1, ax2,ax3) = plt.subplots(ncols=3, sharex=True, sharey=True,figsize=(8,8))\n",
    "#norm = plt.colors.Normalize(vmin=projects.val.min(), vmax=projects.val.max()) # to normalize legend between the different plots\n",
    "# wait to see if new intallation worked\n",
    "base = study_area.plot(ax=ax1,color='white', edgecolor='black')\n",
    "projects.plot(ax=ax1, column='water stress projection_2030 ssp2_rcp45',legend=True)\n",
    "base = study_area.plot(ax=ax2,color='white', edgecolor='black')\n",
    "projects.plot(ax=ax2, column='water stress projection_2040 ssp2_rcp45',legend=True)\n",
    "base = study_area.plot(ax=ax3,color='white', edgecolor='black')\n",
    "projects.plot(ax=ax3, column='water stress projection_2030 ssp2_rcp85',legend=True)\n",
    "#projects.plot(column='water stress projection_2030 ssp2_rcp45',ax=base, legend=True);"
   ]
  },
  {
   "cell_type": "markdown",
   "id": "e6564dce",
   "metadata": {},
   "source": [
    "<a id='floods'></a>\n",
    "## Floods - Hydrosphere\n",
    "\n",
    "####  Fluvial\n",
    "Sources:\n",
    "1) JRC Flood Hazard Map, http://data.europa.eu/89h/jrc-floods-floodmapgl_rp100y-tif : The map depicts flood prone areas at global scale for flood events with 100-year return period. Resolution is 30 arcseconds (approx. 1km). Cell values indicate water depth (in m). The map can be used to assess flood exposure and risk of population and assets. NOTE: this dataset is based on JRC elaborations and is not an official flood hazard map (for details and limitations please refer to related publications).\n",
    "2) Dataset of tropical cyclone Idai and subsequent flood disaster in Southern Africa (March 2019). National Tibetan Plateau Data Center, https://data.tpdc.ac.cn/en/data/8d836d13-a8e6-492b-9324-00fbfce40619/ \n",
    "\n",
    "#### Coastal \n",
    "Source: WRI Aqueduct database"
   ]
  },
  {
   "cell_type": "code",
   "execution_count": null,
   "id": "14df49eb",
   "metadata": {},
   "outputs": [],
   "source": [
    "# save the path for the image presenting the floods which have a return period of a 100 year\n",
    "flood_path=os.path.join(data_folder,'floodMapGL_rp100y/floodMapGL_rp100y.tif')\n",
    "\n",
    "buffer_flood=1000#meters # pas sure : sert a avoir les \n",
    "if buffer_flood != 0:\n",
    "    projects_bufFlood=projects.to_crs(mCRS)  #project to crs with metric units to get buffer in meters\n",
    "    projects_bufFlood['geometry']=projects.to_crs(mCRS).buffer(buffer_flood) #assign the buffer as the new geometry - \n",
    "    projects_bufFlood=projects_bufFlood.to_crs(bCRS)#project back to orginal crs\n",
    "\n",
    "projects['floods100yr_max']=pd.DataFrame(zonal_stats(vectors=projects_bufFlood, raster=flood_path, \n",
    "                                                            all_touched=True, stats='max'))\n",
    "#plot\n",
    "fig, ax = plt.subplots()\n",
    "floods = rioxarray.open_rasterio(flood_path)\n",
    "floods_clip = floods.rio.clip(study_area.geometry, study_area.crs, drop=True)\n",
    "floods_clip.plot(ax=ax,cmap='Blues',vmin=0,vmax=25)\n",
    "projects.plot(ax=ax,color='Black') # mapping the projects located in the study area\n",
    "#cb.set_label('Water depth (m)') # name for color scale ne fonctionne pas car cette ligne appartient a basemap language\n",
    "ax.set_title('Floods extent with a\\nreturn period of 100 years') # set a title to the image\n",
    "\n",
    "#close\n",
    "floods_clip.close()\n",
    "floods.close()"
   ]
  },
  {
   "cell_type": "markdown",
   "id": "9a2421d5",
   "metadata": {},
   "source": [
    "#### Sea level rise\n",
    "\n",
    "Global Mean Sea Level\n",
    "Source : https://climate.nasa.gov/vital-signs/sea-level/ ; used the Global Mean Sea Level (Global Isostatic Adjustment (GIA) applied) variation (mm) with respect to 20-year TOPEX/Jason collinear mean reference \n",
    "\n",
    "Sea Level Trends\n",
    "Source : https://sealevel.colorado.edu/trend-map : sea level trend from 1992 to 2022"
   ]
  },
  {
   "cell_type": "markdown",
   "id": "b0881784",
   "metadata": {},
   "source": [
    "<a id='second_effect_climate_variables'></a>\n",
    "# Second effect climate variables\n",
    "\n",
    "[Home](#beginning_CRVA)"
   ]
  },
  {
   "cell_type": "markdown",
   "id": "ce6fbd21",
   "metadata": {},
   "source": [
    "<a id='cyclone_risk'></a>\n",
    "## Cyclones\n",
    "data source: https://wesr.unepgrid.ch/?project=MX-XVK-HPH-OGN-HVE-GGN&language=en UNEP-GRID, \n",
    "\n",
    "cyclone risk level from 1 (low) to 5 (extreme)"
   ]
  },
  {
   "cell_type": "code",
   "execution_count": null,
   "id": "a4a6dd62",
   "metadata": {},
   "outputs": [],
   "source": [
    "#cyclone data path\n",
    "cyclone_path=os.path.join(data_folder,'cyclones/unep_grid/cy_risk.tif')\n",
    " \n",
    "   # \\\\COWI.net\\projects\\A245000\\A248363\\CRVA\\Datasets\\cyclones\\unep_grid\n",
    "#spatial stats\n",
    "projects['cyclone_risk']=pd.DataFrame(zonal_stats(vectors=projects_buf, raster=cyclone_path, all_touched=True, stats='max'))\n",
    "\n",
    "#show table\n",
    "projects[[project_id,'cyclone_risk']].head()\n",
    "\n",
    "#plot\n",
    "fig, ax = plt.subplots()\n",
    "cyclone = rioxarray.open_rasterio(cyclone_path)\n",
    "cyclone_clip = cyclone.rio.clip(study_area.geometry, study_area.crs, drop=True)\n",
    "cyclone_clip.plot(ax=ax)\n",
    "projects.plot(ax=ax) # plot the projects on the map\n",
    "\n",
    "plt.title('Cyclone risk level') # title of the graph\n",
    "\n",
    "#close\n",
    "cyclone_clip.close()\n",
    "cyclone.close()"
   ]
  },
  {
   "cell_type": "markdown",
   "id": "c263a351",
   "metadata": {},
   "source": [
    "<a id='climate_change_info_for_each_project_in_study_area'></a>\n",
    "# Climate change information concerning the projects in the study area\n",
    "\n",
    "Display climate change information concerning the project you are looking into.\n",
    "\n",
    "[Home](#beginning_CRVA)"
   ]
  },
  {
   "cell_type": "code",
   "execution_count": null,
   "id": "8b397fbc",
   "metadata": {},
   "outputs": [],
   "source": [
    "# selection of projects in the study area\n",
    "#RAPY: not useful since study area is just for plotting purposes, projects should be only the relevant ones already\n",
    "#projects_of_interest=projects[projects.within(study_area)]\n",
    "\n",
    "# selection of the information to display\n",
    "list_of_names=['Name','province','climatology-hd40_2020-2039_ssp245_median',\n",
    "               'daily-median-Wind-2100-ssp5_8_5','landslides_THmax','floods100yr_max','cyclone_risk']\n",
    "\n",
    "# display selected climate change information of the projects in the study area\n",
    "projects_of_interest_filtered = projects[list_of_names]\n",
    "projects_of_interest_filtered"
   ]
  },
  {
   "cell_type": "markdown",
   "id": "6cae4afe",
   "metadata": {},
   "source": [
    "# Export\n",
    "Exports the calculated climate variables to a csv file\n",
    "\n",
    "[Home](#beginning_CRVA)"
   ]
  },
  {
   "cell_type": "code",
   "execution_count": null,
   "id": "9f64fe4a",
   "metadata": {},
   "outputs": [],
   "source": [
    "projects.T.to_csv('outputs/csv/projects_climate_risks.csv')"
   ]
  },
  {
   "cell_type": "code",
   "execution_count": null,
   "id": "1702c5cb",
   "metadata": {},
   "outputs": [],
   "source": []
  }
 ],
 "metadata": {
  "kernelspec": {
   "display_name": "Python 3 (ipykernel)",
   "language": "python",
   "name": "python3"
  },
  "language_info": {
   "codemirror_mode": {
    "name": "ipython",
    "version": 3
   },
   "file_extension": ".py",
   "mimetype": "text/x-python",
   "name": "python",
   "nbconvert_exporter": "python",
   "pygments_lexer": "ipython3",
   "version": "3.10.6"
  }
 },
 "nbformat": 4,
 "nbformat_minor": 5
}
