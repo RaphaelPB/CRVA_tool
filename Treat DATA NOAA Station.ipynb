{
 "cells": [
  {
   "cell_type": "markdown",
   "id": "971d6a54",
   "metadata": {},
   "source": [
    "This notebook contains the treatment of the data from the NOAA stations. Some of the data were absurd. So dataset needed to be treated"
   ]
  },
  {
   "cell_type": "code",
   "execution_count": null,
   "id": "df1ec686",
   "metadata": {},
   "outputs": [],
   "source": [
    "df.to_csv('file_name.csv')"
   ]
  }
 ],
 "metadata": {
  "kernelspec": {
   "display_name": "Python 3 (ipykernel)",
   "language": "python",
   "name": "python3"
  },
  "language_info": {
   "codemirror_mode": {
    "name": "ipython",
    "version": 3
   },
   "file_extension": ".py",
   "mimetype": "text/x-python",
   "name": "python",
   "nbconvert_exporter": "python",
   "pygments_lexer": "ipython3",
   "version": "3.10.6"
  }
 },
 "nbformat": 4,
 "nbformat_minor": 5
}
