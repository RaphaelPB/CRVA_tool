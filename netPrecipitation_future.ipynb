{
 "cells": [
  {
   "cell_type": "code",
   "execution_count": 32,
   "id": "12797d19",
   "metadata": {},
   "outputs": [],
   "source": [
    "import numpy as np\n",
    "import pandas as pd\n",
    "\n",
    "import os\n",
    "import os.path\n",
    "#from Functions_ImportData import import_treat_modeled_NEX_GDDP_CMIP6\n",
    "#from Functions_ImportData import import_BC_NOAA_NEX_GDDP_CMIP6\n",
    "#from Functions_ImportData import import_BC_Gorongosa_NEX_GDDP_CMIP6\n",
    "from Functions_ImportData import add_year_month_season\n",
    "\n",
    "from Potential_evapostranspiration_function import PET\n",
    "\n",
    "def filter_data(df,loc,mod_excl): # Filter data by location, models, and time period\n",
    "    df = df[df['Name project']==loc]\n",
    "    df = df[~df['Model'].isin(mod_excl)]\n",
    "    df=add_year_month_season(df,'Date')\n",
    "    return df"
   ]
  },
  {
   "cell_type": "markdown",
   "id": "5fd5ac69",
   "metadata": {},
   "source": [
    "Source of image : https://link.springer.com/article/10.1007/s10584-021-03122-z, section 3.2\n",
    "\n",
    "Indications are misleading the results : RH_mean should be [-] (divide the value in percent by 100). The equation used here divide by 100 the number of RH_mean placed in the equation"
   ]
  },
  {
   "cell_type": "code",
   "execution_count": 2,
   "id": "16bae6b1",
   "metadata": {},
   "outputs": [],
   "source": [
    "# ctrl * for at udkommentere tekst!!!! "
   ]
  },
  {
   "cell_type": "markdown",
   "id": "063e5511",
   "metadata": {},
   "source": [
    "Objectif: find the number of cumulative days per year with positive net precipitation (Pr - E)"
   ]
  },
  {
   "cell_type": "markdown",
   "id": "f54da056",
   "metadata": {},
   "source": [
    "# Project information that could be useful"
   ]
  },
  {
   "attachments": {
    "image.png": {
     "image/png": "[encoded data removed]"
    }
   },
   "cell_type": "markdown",
   "id": "30696c8d",
   "metadata": {},
   "source": [
    "![image.png](attachment:image.png)"
   ]
  },
  {
   "cell_type": "markdown",
   "id": "73f13725",
   "metadata": {},
   "source": [
    "# Defined by user "
   ]
  },
  {
   "cell_type": "code",
   "execution_count": 33,
   "id": "708b5e0a",
   "metadata": {},
   "outputs": [],
   "source": [
    "# CHANGE ACCORDING TO PURPOSE \n",
    "loc='Gorongosa_EIB'\n",
    "mod_excl=['NESM3','CMCC-CM2-SR5','TaiESM1']\n",
    "yr_past=np.array([1980, 2014])\n",
    "yr_future=np.array([2030,2060])\n",
    "\n",
    "#PATHS DATA INPUT\n",
    "#precipitation \n",
    "path_pr=r'\\\\cowi.net\\projects\\A245000\\A248363\\CRVA\\Datasets\\NEX-GDDP-CMIP6-AllMoz\\csv_file\\pr\\pr_mm_per_day_day_1950-2100\\pr_1950-2100_projectsMoz.csv'\n",
    "#tas: daily mean temperature\n",
    "path_tas=r'\\\\cowi.net\\projects\\A245000\\A248363\\CRVA\\Datasets\\NEX-GDDP-CMIP6-AllMoz\\csv_file\\tas\\tas_Celsius_day_1950-2100\\tas_1950-2100_projectsMoz.csv'\n",
    "#tasmin: minimum daily temperature \n",
    "path_tasmin=r'\\\\cowi.net\\projects\\A245000\\A248363\\CRVA\\Datasets\\NEX-GDDP-CMIP6-AllMoz\\csv_file\\tasmin\\tasmin_Celsius_day_1950-2100\\tasmin_1950-2100_projectsMoz.csv'\n",
    "#tasmax: maximum daily temperature \n",
    "path_tasmax=r'\\\\cowi.net\\projects\\A245000\\A248363\\CRVA\\Datasets\\NEX-GDDP-CMIP6-AllMoz\\csv_file\\tasmax\\tasmax_Celsius_day_1950-2100\\tasmax_1950-2100_projectsMoz.csv'\n",
    "#rs: radiaion (MJ.m-2.day-1)\n",
    "path_rs=r'\\\\cowi.net\\projects\\A245000\\A248363\\CRVA\\Datasets\\NEX-GDDP-CMIP6-AllMoz\\csv_file\\rsds\\rsds_MJ.m-2.day-1_day_1950-2100\\rsds_1950-2100_projectsMoz.csv'\n",
    "# near surface relative humidity RH \n",
    "path_RH=r'\\\\cowi.net\\projects\\A245000\\A248363\\CRVA\\Datasets\\NEX-GDDP-CMIP6-AllMoz\\csv_file\\hurs\\hurs_%_day_1950-2100\\hurs_1950-2100_projectsMoz.csv'\n",
    "# Daily-Mean Near-Surface Wind Speed [m_s-1]\n",
    "path_wind10=r'\\\\cowi.net\\projects\\A245000\\A248363\\CRVA\\Datasets\\NEX-GDDP-CMIP6-AllMoz\\csv_file\\sfcWind\\sfcWind_m_s-1_day_1950-2100\\sfcWind_1950-2100_projectsMoz.csv'\n"
   ]
  },
  {
   "cell_type": "markdown",
   "id": "91f6cd9c",
   "metadata": {},
   "source": [
    "# Evapotranspiration at Gorongosa"
   ]
  },
  {
   "cell_type": "markdown",
   "id": "c53053db",
   "metadata": {},
   "source": [
    "#### needed parameters\n",
    "\n",
    "Air temperature in degrees, normal, max and min\n",
    "\n",
    "Downwelling short Rs in MJ/(m^2.day)\n",
    "\n",
    "For calculation of Rnl (net longwave radiaiton, used for calculation of net radiation), need to know lat and month for the calculation to calculate Ra\n",
    "\n",
    "Wind at 2 m [m/s], height where measurement taken is approx 10 m\n",
    "\n",
    "Mean relative humidity in %"
   ]
  },
  {
   "cell_type": "markdown",
   "id": "e1bd7627",
   "metadata": {},
   "source": [
    "## Read all data sheets "
   ]
  },
  {
   "cell_type": "code",
   "execution_count": 13,
   "id": "a5cdb50c",
   "metadata": {},
   "outputs": [],
   "source": [
    "#READ PRECIPITATION \n",
    "df_pr=pd.read_csv(path_pr)\n",
    "df_pr=filter_data(df_pr,loc,mod_excl)\n",
    "df_pr_past=df_pr[df_pr['Year'].between(yr_past[0],yr_past[1])]\n",
    "df_pr_future=df_pr[df_pr['Year'].between(yr_future[0],yr_future[1])]\n",
    "\n",
    "#READ TAS (DAILY MEAN TEMPERATURE)\n",
    "df_tas=pd.read_csv(path_tas)\n",
    "df_tas=filter_data(df_tas,loc,mod_excl)\n",
    "df_tas_past=df_tas[df_tas['Year'].between(yr_past[0],yr_past[1])]\n",
    "df_tas_future=df_tas[df_tas['Year'].between(yr_future[0],yr_future[1])]\n",
    "\n",
    "#READ TASMIN (DAILY MINIMUM TEMPERATURE)\n",
    "df_tasmin=pd.read_csv(path_tasmin)\n",
    "df_tasmin=filter_data(df_tasmin,loc,mod_excl)\n",
    "df_tasmin_past=df_tasmin[df_tasmin['Year'].between(yr_past[0],yr_past[1])]\n",
    "df_tasmin_future=df_tasmin[df_tasmin['Year'].between(yr_future[0],yr_future[1])]\n",
    "\n",
    "#READ TASMAX (DAILY MAXIMUM TEMPERATURE)\n",
    "df_tasmax=pd.read_csv(path_tasmax)\n",
    "df_tasmax=filter_data(df_tasmax,loc,mod_excl)\n",
    "df_tasmax_past=df_tasmax[df_tasmax['Year'].between(yr_past[0],yr_past[1])]\n",
    "df_tasmax_future=df_tasmax[df_tasmax['Year'].between(yr_future[0],yr_future[1])]\n",
    "\n",
    "#READ RADIATION DATA  (MJ.m-2.day-1)\n",
    "df_rs=pd.read_csv(path_rs)\n",
    "# evt. udkommentér  # camille laver noget med drop (se Netprecipitation file), men tror ikke det er aktuelt her\n",
    "df_rs=filter_data(df_rs,loc,mod_excl)\n",
    "df_rs_past=df_rs[df_rs['Year'].between(yr_past[0],yr_past[1])]\n",
    "df_rs_future=df_rs[df_rs['Year'].between(yr_future[0],yr_future[1])]\n",
    "\n",
    "#READ NEAR SURFACE RELATIVE HUMIDITY PERCENTAGE \n",
    "df_RH=pd.read_csv(path_RH)\n",
    "df_RH=filter_data(df_RH,loc,mod_excl)\n",
    "df_RH_past=df_RH[df_RH['Year'].between(yr_past[0],yr_past[1])]\n",
    "df_RH_future=df_RH[df_RH['Year'].between(yr_future[0],yr_future[1])]\n",
    "\n",
    "#READ WIND SPEED DATA: Daily-Mean Near-Surface Wind Speed [m_s-1]\n",
    "df_wind10=pd.read_csv(path_wind10)\n",
    "df_wind10=filter_data(df_wind10,loc,mod_excl)\n",
    "df_wind2=df_wind10.copy(deep=True) #Convert to 2 meters above ground instead of initial 10 meters\n",
    "z=10 #height above ground where the wind was measures \n",
    "df_wind2[['Daily-Mean Near-Surface Wind Speed m_s-1']]=df_wind2[['Daily-Mean Near-Surface Wind Speed m_s-1']]*(4.87/(np.log((67.8*z)-5.42)))\n",
    "df_wind2_past=df_wind2[df_wind2['Year'].between(yr_past[0],yr_past[1])]\n",
    "df_wind2_future=df_wind2[df_wind2['Year'].between(yr_future[0],yr_future[1])]\n",
    "\n",
    "#READ sheet for radiation data acoording to month and latitude\n",
    "path_Ra = r'\\\\cowi.net\\projects\\A245000\\A248363\\CRVA\\Datasets\\calculate_PET\\Ra\\Table2-Ra.csv'\n",
    "Ra=pd.read_csv(path_Ra)\n"
   ]
  },
  {
   "cell_type": "markdown",
   "id": "97ba1238",
   "metadata": {},
   "source": [
    "##  Dataframe to record the PET\n",
    "Duplicate the one with pr, put nan in it.\n",
    "Need to take in account changing month and lat"
   ]
  },
  {
   "cell_type": "raw",
   "id": "5555013b",
   "metadata": {},
   "source": [
    "df_PET = df_pr.copy(deep=True)\n",
    "df_PET.rename(columns={'Mean of the daily precipitation rate mm_per_day':'Potential evapotranspiration mm'},inplace=True)\n",
    "df_PET[['Potential evapotranspiration mm']] = np.nan\n",
    "# dataframe for net precipitation\n",
    "df_Net_Pr = df_PET.copy(deep=True)\n",
    "df_Net_Pr.rename(columns={'Potential evapotranspiration mm':'Net precipitation mm'},inplace=True)\n",
    "\n",
    "#list(df_PET.Experiment.unique()) \n",
    "list(set(df_PET['Date']))[1]\n",
    "\n",
    "# model in list(set(df_PET['Model']))\n",
    "# date in list(set(df_PET['Date']))"
   ]
  },
  {
   "cell_type": "code",
   "execution_count": 14,
   "id": "1e2520ef",
   "metadata": {},
   "outputs": [
    {
     "name": "stdout",
     "output_type": "stream",
     "text": [
      "['historical', 'ssp245', 'ssp585', 'ssp126', 'ssp370']\n",
      "['ssp126', 'historical', 'ssp585', 'ssp370', 'ssp245']\n"
     ]
    }
   ],
   "source": [
    "df_PET = df_pr.copy(deep=True)\n",
    "ssps=list(df_PET.Experiment.unique())\n",
    "ssps2=list(set(df_PET['Experiment']))\n",
    "print(ssps)\n",
    "print(ssps2)"
   ]
  },
  {
   "cell_type": "code",
   "execution_count": 19,
   "id": "1ab6236b",
   "metadata": {},
   "outputs": [],
   "source": [
    "latitude = -18.680637 # gorongosa\n",
    "z_station= 383 #gorongosa m above sealevel\n",
    "def filtr(df,date,model,ssp,col):\n",
    "    dfa=df.set_index(['Model','Experiment','Date'])\n",
    "    if (model,ssp,date) in dfa.index:\n",
    "        return dfa.loc[(model,ssp,date),col]\n",
    "    else:\n",
    "        return np.nan\n",
    "    \n",
    "def dataframe_net_pr(df_pr,df_tas,df_tasmax,df_tasmin,df_Rs,df_RH,df_wind2,latitude,z_station,Ra):   \n",
    "    # prepare dataframe to fill\n",
    "    # dataframe for potential evapotranspiration\n",
    "    df_PET = df_pr.copy(deep=True)\n",
    "    df_PET.rename(columns={'Mean of the daily precipitation rate mm_per_day':'Potential evapotranspiration mm'},inplace=True)\n",
    "    ssps=list(df_PET.Experiment.unique())\n",
    "    models=list(df_PET.Model.unique())\n",
    "    dates=list(df_PET.Date.unique())\n",
    "    df_PET=df_PET.set_index(['Model','Experiment','Date'])\n",
    "    df_PET[['Potential evapotranspiration mm']] = np.nan\n",
    "    # dataframe for net precipitation\n",
    "    df_Net_Pr = df_PET.copy(deep=True)\n",
    "    df_Net_Pr.rename(columns={'Potential evapotranspiration mm':'Net precipitation mm'},inplace=True)\n",
    "\n",
    "    for ssp in ssps[1:3]: #remove the [1] when know it runs \n",
    "        for model in models[1:3]:  #remove the [1] when know it runs\n",
    "            for date in dates[1:3]:  #remove the [1:100] when know it runs\n",
    "                \n",
    "                # what are the values of the parameters for the ssp, model and date precised ?\n",
    "                T=filtr(df_tas,date,model,ssp,'Daily Near-Surface Air Temperature °C')\n",
    "                #print('T=',T)\n",
    "                T_max=filtr(df_tasmax,date,model,ssp,'Daily Maximum Near-Surface Air Temperature °C')\n",
    "                #print('Tmax=',T_max)\n",
    "                T_min=filtr(df_tasmin,date,model,ssp,'Daily Minimum Near-Surface Air Temperature °C')\n",
    "                #print('Tmin=',T_min)\n",
    "                Rs_=filtr(df_Rs,date,model,ssp,'Surface Downwelling Shortwave Radiation MJ.m-2.day-1')\n",
    "                #print('Rs=',Rs_)\n",
    "                RH_mean=filtr(df_RH,date,model,ssp,'Near-Surface Relative Humidity %')\n",
    "                wind2=filtr(df_wind2,date,model,ssp,'Daily-Mean Near-Surface Wind Speed m_s-1')\n",
    "                \n",
    "                month=filtr(df_pr,date,model,ssp,'Month')\n",
    "                df_PET.loc[(model,ssp,date),'Potential evapotranspiration mm']=PET(T,T_max,T_min,Rs_,RH_mean,wind2,z_station,latitude,month,Ra)*1.2 # Open water evaporation from reservoirs may be estimated by multiplying PET by a factor of 1.2. source: 3.Evapotranspiration -FAO\n",
    "                df_Net_Pr.loc[(model,ssp,date),'Net precipitation mm']=filtr(df_pr,date,model, ssp,'Mean of the daily precipitation rate mm_per_day')-df_PET.loc[(model,ssp,date),'Potential evapotranspiration mm']*1.2 #filtr(df_PET, date, model, ssp, 'Potential evapotranspiration mm')\n",
    "               # filtr(df_PET,date,model,ssp,'Potential evapotranspiration mm')=PET(T,T_max,T_min,Rs_,RH_mean,wind2,z_station_elevation,lat,month)\n",
    "               # filtr(df_Net_pr,date,model,ssp,'Net precipitation mm') = filtr(df_pr,date,model, ssp,'Mean of the daily precipitation rate mm_per_day')- filtr(df_PET, date, model, ssp, 'Potential evapotranspiration mm')\n",
    "\n",
    "\n",
    "#                 month = df_pr.at[df_pr[(df_pr['Date']==date)&(df_pr['Model']==model)&(df_pr['Experiment']==ssp)].index[0],'Month']   # calculate value of PET\n",
    "#                 df_PET.loc[(df_PET['Date']==date)&(df_PET['Model']==model)&(df_PET['Experiment']==ssp),'Potential evapotranspiration mm'] = PET(T,T_max,T_min,Rs_,RH_mean,wind2,z_station_elevation,lat,month)\n",
    "#                 df_Net_Pr.loc[(df_Net_Pr['Date']==date)&(df_Net_Pr['Model']==model)&(df_Net_Pr['Experiment']==ssp),'Net precipitation mm'] = df_pr.loc[(df_pr['Date']==date)&(df_pr['Model']==model)&(df_pr['Experiment']==ssp),'Mean of the daily precipitation rate mm_per_day'] - df_PET.loc[(df_PET['Date']==date)&(df_PET['Model']==model)&(df_PET['Experiment']==ssp),'Potential evapotranspiration mm']\n",
    "\n",
    "    return df_PET, df_Net_Pr\n"
   ]
  },
  {
   "cell_type": "code",
   "execution_count": 20,
   "id": "78b57441",
   "metadata": {},
   "outputs": [
    {
     "name": "stderr",
     "output_type": "stream",
     "text": [
      "C:\\Users\\nadb\\AppData\\Local\\Temp\\1\\ipykernel_3816\\1879462526.py:41: PerformanceWarning: indexing past lexsort depth may impact performance.\n",
      "  df_PET.loc[(model,ssp,date),'Potential evapotranspiration mm']=PET(T,T_max,T_min,Rs_,RH_mean,wind2,z_station,latitude,month,Ra)*1.2 # Open water evaporation from reservoirs may be estimated by multiplying PET by a factor of 1.2. source: 3.Evapotranspiration -FAO\n",
      "C:\\Users\\nadb\\AppData\\Local\\Temp\\1\\ipykernel_3816\\1879462526.py:42: PerformanceWarning: indexing past lexsort depth may impact performance.\n",
      "  df_Net_Pr.loc[(model,ssp,date),'Net precipitation mm']=filtr(df_pr,date,model, ssp,'Mean of the daily precipitation rate mm_per_day')-df_PET.loc[(model,ssp,date),'Potential evapotranspiration mm']*1.2 #filtr(df_PET, date, model, ssp, 'Potential evapotranspiration mm')\n",
      "C:\\Users\\nadb\\AppData\\Local\\Temp\\1\\ipykernel_3816\\1879462526.py:41: PerformanceWarning: indexing past lexsort depth may impact performance.\n",
      "  df_PET.loc[(model,ssp,date),'Potential evapotranspiration mm']=PET(T,T_max,T_min,Rs_,RH_mean,wind2,z_station,latitude,month,Ra)*1.2 # Open water evaporation from reservoirs may be estimated by multiplying PET by a factor of 1.2. source: 3.Evapotranspiration -FAO\n",
      "C:\\Users\\nadb\\AppData\\Local\\Temp\\1\\ipykernel_3816\\1879462526.py:42: PerformanceWarning: indexing past lexsort depth may impact performance.\n",
      "  df_Net_Pr.loc[(model,ssp,date),'Net precipitation mm']=filtr(df_pr,date,model, ssp,'Mean of the daily precipitation rate mm_per_day')-df_PET.loc[(model,ssp,date),'Potential evapotranspiration mm']*1.2 #filtr(df_PET, date, model, ssp, 'Potential evapotranspiration mm')\n",
      "C:\\Users\\nadb\\AppData\\Local\\Temp\\1\\ipykernel_3816\\1879462526.py:41: PerformanceWarning: indexing past lexsort depth may impact performance.\n",
      "  df_PET.loc[(model,ssp,date),'Potential evapotranspiration mm']=PET(T,T_max,T_min,Rs_,RH_mean,wind2,z_station,latitude,month,Ra)*1.2 # Open water evaporation from reservoirs may be estimated by multiplying PET by a factor of 1.2. source: 3.Evapotranspiration -FAO\n",
      "C:\\Users\\nadb\\AppData\\Local\\Temp\\1\\ipykernel_3816\\1879462526.py:42: PerformanceWarning: indexing past lexsort depth may impact performance.\n",
      "  df_Net_Pr.loc[(model,ssp,date),'Net precipitation mm']=filtr(df_pr,date,model, ssp,'Mean of the daily precipitation rate mm_per_day')-df_PET.loc[(model,ssp,date),'Potential evapotranspiration mm']*1.2 #filtr(df_PET, date, model, ssp, 'Potential evapotranspiration mm')\n",
      "C:\\Users\\nadb\\AppData\\Local\\Temp\\1\\ipykernel_3816\\1879462526.py:41: PerformanceWarning: indexing past lexsort depth may impact performance.\n",
      "  df_PET.loc[(model,ssp,date),'Potential evapotranspiration mm']=PET(T,T_max,T_min,Rs_,RH_mean,wind2,z_station,latitude,month,Ra)*1.2 # Open water evaporation from reservoirs may be estimated by multiplying PET by a factor of 1.2. source: 3.Evapotranspiration -FAO\n",
      "C:\\Users\\nadb\\AppData\\Local\\Temp\\1\\ipykernel_3816\\1879462526.py:42: PerformanceWarning: indexing past lexsort depth may impact performance.\n",
      "  df_Net_Pr.loc[(model,ssp,date),'Net precipitation mm']=filtr(df_pr,date,model, ssp,'Mean of the daily precipitation rate mm_per_day')-df_PET.loc[(model,ssp,date),'Potential evapotranspiration mm']*1.2 #filtr(df_PET, date, model, ssp, 'Potential evapotranspiration mm')\n",
      "C:\\Users\\nadb\\AppData\\Local\\Temp\\1\\ipykernel_3816\\1879462526.py:41: PerformanceWarning: indexing past lexsort depth may impact performance.\n",
      "  df_PET.loc[(model,ssp,date),'Potential evapotranspiration mm']=PET(T,T_max,T_min,Rs_,RH_mean,wind2,z_station,latitude,month,Ra)*1.2 # Open water evaporation from reservoirs may be estimated by multiplying PET by a factor of 1.2. source: 3.Evapotranspiration -FAO\n",
      "C:\\Users\\nadb\\AppData\\Local\\Temp\\1\\ipykernel_3816\\1879462526.py:42: PerformanceWarning: indexing past lexsort depth may impact performance.\n",
      "  df_Net_Pr.loc[(model,ssp,date),'Net precipitation mm']=filtr(df_pr,date,model, ssp,'Mean of the daily precipitation rate mm_per_day')-df_PET.loc[(model,ssp,date),'Potential evapotranspiration mm']*1.2 #filtr(df_PET, date, model, ssp, 'Potential evapotranspiration mm')\n",
      "C:\\Users\\nadb\\AppData\\Local\\Temp\\1\\ipykernel_3816\\1879462526.py:41: PerformanceWarning: indexing past lexsort depth may impact performance.\n",
      "  df_PET.loc[(model,ssp,date),'Potential evapotranspiration mm']=PET(T,T_max,T_min,Rs_,RH_mean,wind2,z_station,latitude,month,Ra)*1.2 # Open water evaporation from reservoirs may be estimated by multiplying PET by a factor of 1.2. source: 3.Evapotranspiration -FAO\n",
      "C:\\Users\\nadb\\AppData\\Local\\Temp\\1\\ipykernel_3816\\1879462526.py:42: PerformanceWarning: indexing past lexsort depth may impact performance.\n",
      "  df_Net_Pr.loc[(model,ssp,date),'Net precipitation mm']=filtr(df_pr,date,model, ssp,'Mean of the daily precipitation rate mm_per_day')-df_PET.loc[(model,ssp,date),'Potential evapotranspiration mm']*1.2 #filtr(df_PET, date, model, ssp, 'Potential evapotranspiration mm')\n",
      "C:\\Users\\nadb\\AppData\\Local\\Temp\\1\\ipykernel_3816\\1879462526.py:41: PerformanceWarning: indexing past lexsort depth may impact performance.\n",
      "  df_PET.loc[(model,ssp,date),'Potential evapotranspiration mm']=PET(T,T_max,T_min,Rs_,RH_mean,wind2,z_station,latitude,month,Ra)*1.2 # Open water evaporation from reservoirs may be estimated by multiplying PET by a factor of 1.2. source: 3.Evapotranspiration -FAO\n",
      "C:\\Users\\nadb\\AppData\\Local\\Temp\\1\\ipykernel_3816\\1879462526.py:42: PerformanceWarning: indexing past lexsort depth may impact performance.\n",
      "  df_Net_Pr.loc[(model,ssp,date),'Net precipitation mm']=filtr(df_pr,date,model, ssp,'Mean of the daily precipitation rate mm_per_day')-df_PET.loc[(model,ssp,date),'Potential evapotranspiration mm']*1.2 #filtr(df_PET, date, model, ssp, 'Potential evapotranspiration mm')\n",
      "C:\\Users\\nadb\\AppData\\Local\\Temp\\1\\ipykernel_3816\\1879462526.py:41: PerformanceWarning: indexing past lexsort depth may impact performance.\n",
      "  df_PET.loc[(model,ssp,date),'Potential evapotranspiration mm']=PET(T,T_max,T_min,Rs_,RH_mean,wind2,z_station,latitude,month,Ra)*1.2 # Open water evaporation from reservoirs may be estimated by multiplying PET by a factor of 1.2. source: 3.Evapotranspiration -FAO\n",
      "C:\\Users\\nadb\\AppData\\Local\\Temp\\1\\ipykernel_3816\\1879462526.py:42: PerformanceWarning: indexing past lexsort depth may impact performance.\n",
      "  df_Net_Pr.loc[(model,ssp,date),'Net precipitation mm']=filtr(df_pr,date,model, ssp,'Mean of the daily precipitation rate mm_per_day')-df_PET.loc[(model,ssp,date),'Potential evapotranspiration mm']*1.2 #filtr(df_PET, date, model, ssp, 'Potential evapotranspiration mm')\n"
     ]
    }
   ],
   "source": [
    "(df_PET_future, df_netPr_future)=dataframe_net_pr(df_pr_future,df_tas_future,df_tasmax_future,df_tasmin_future,df_rs_future,df_RH_future,df_wind2_future,latitude,z_station,Ra)"
   ]
  },
  {
   "cell_type": "code",
   "execution_count": 31,
   "id": "f6bdf70c",
   "metadata": {},
   "outputs": [],
   "source": [
    "\n",
    "\n",
    "\n",
    "d = {'col1': [1, 2], 'col2': [3, 4]}\n",
    "PET_test= pd.DataFrame(data=d)\n",
    "out_path=r'\\\\cowi.net\\projects\\A245000\\A248363\\CRVA\\Datasets\\calculate_PET\\netPrec_future'\n",
    "netPre_path=os.path.join(out_path,\"df_netPr_future_2030_2060.csv\")\n",
    "PET_path=os.path.join(out_path,\"df_PET_future_2030_2060.csv\")\n",
    "PET_test.to_csv(PET_path,sep=';')\n",
    "\n",
    "# if not os.path.isdir(path_for_csv):\n",
    "#          # the path to the file does not exist\n",
    "#     os.makedirs(path_for_csv) # to ensure creation of the folder\n",
    "#             # creation of the path for the csv file, in a string format\n",
    "# full_name = os.path.join(path_for_csv,title_file)\n",
    "#         # ..... and the dataframe is registered in a csv file\n",
    "# df.to_csv(full_name) \n",
    "#df_netPr_future.to_csv(netPre_path)\n",
    "#df_PET_future.to_csv(df_PET_future)\n"
   ]
  },
  {
   "cell_type": "code",
   "execution_count": 41,
   "id": "45fd43b3",
   "metadata": {
    "scrolled": true
   },
   "outputs": [
    {
     "data": {
      "text/html": [
       "<div>\n",
       "<style scoped>\n",
       "    .dataframe tbody tr th:only-of-type {\n",
       "        vertical-align: middle;\n",
       "    }\n",
       "\n",
       "    .dataframe tbody tr th {\n",
       "        vertical-align: top;\n",
       "    }\n",
       "\n",
       "    .dataframe thead th {\n",
       "        text-align: right;\n",
       "    }\n",
       "</style>\n",
       "<table border=\"1\" class=\"dataframe\">\n",
       "  <thead>\n",
       "    <tr style=\"text-align: right;\">\n",
       "      <th></th>\n",
       "      <th>Model</th>\n",
       "      <th>Experiment</th>\n",
       "      <th>Date</th>\n",
       "      <th>Name project</th>\n",
       "      <th>Latitude</th>\n",
       "      <th>Longitude</th>\n",
       "      <th>Net precipitation mm</th>\n",
       "      <th>Year</th>\n",
       "      <th>Month</th>\n",
       "      <th>Season</th>\n",
       "    </tr>\n",
       "  </thead>\n",
       "  <tbody>\n",
       "    <tr>\n",
       "      <th>147200</th>\n",
       "      <td>ACCESS-ESM1-5</td>\n",
       "      <td>ssp585</td>\n",
       "      <td>02-01-2030</td>\n",
       "      <td>Gorongosa_EIB</td>\n",
       "      <td>-18.625</td>\n",
       "      <td>34.125</td>\n",
       "      <td>23.266443</td>\n",
       "      <td>2030</td>\n",
       "      <td>Jan</td>\n",
       "      <td>Humid</td>\n",
       "    </tr>\n",
       "    <tr>\n",
       "      <th>147201</th>\n",
       "      <td>ACCESS-ESM1-5</td>\n",
       "      <td>ssp585</td>\n",
       "      <td>03-01-2030</td>\n",
       "      <td>Gorongosa_EIB</td>\n",
       "      <td>-18.625</td>\n",
       "      <td>34.125</td>\n",
       "      <td>24.742159</td>\n",
       "      <td>2030</td>\n",
       "      <td>Jan</td>\n",
       "      <td>Humid</td>\n",
       "    </tr>\n",
       "    <tr>\n",
       "      <th>283076</th>\n",
       "      <td>ACCESS-ESM1-5</td>\n",
       "      <td>ssp126</td>\n",
       "      <td>02-01-2030</td>\n",
       "      <td>Gorongosa_EIB</td>\n",
       "      <td>-18.625</td>\n",
       "      <td>34.125</td>\n",
       "      <td>20.102673</td>\n",
       "      <td>2030</td>\n",
       "      <td>Jan</td>\n",
       "      <td>Humid</td>\n",
       "    </tr>\n",
       "    <tr>\n",
       "      <th>283077</th>\n",
       "      <td>ACCESS-ESM1-5</td>\n",
       "      <td>ssp126</td>\n",
       "      <td>03-01-2030</td>\n",
       "      <td>Gorongosa_EIB</td>\n",
       "      <td>-18.625</td>\n",
       "      <td>34.125</td>\n",
       "      <td>11.105224</td>\n",
       "      <td>2030</td>\n",
       "      <td>Jan</td>\n",
       "      <td>Humid</td>\n",
       "    </tr>\n",
       "  </tbody>\n",
       "</table>\n",
       "</div>"
      ],
      "text/plain": [
       "                Model Experiment        Date   Name project  Latitude  \\\n",
       "147200  ACCESS-ESM1-5     ssp585  02-01-2030  Gorongosa_EIB   -18.625   \n",
       "147201  ACCESS-ESM1-5     ssp585  03-01-2030  Gorongosa_EIB   -18.625   \n",
       "283076  ACCESS-ESM1-5     ssp126  02-01-2030  Gorongosa_EIB   -18.625   \n",
       "283077  ACCESS-ESM1-5     ssp126  03-01-2030  Gorongosa_EIB   -18.625   \n",
       "\n",
       "        Longitude  Net precipitation mm  Year Month Season  \n",
       "147200     34.125             23.266443  2030   Jan  Humid  \n",
       "147201     34.125             24.742159  2030   Jan  Humid  \n",
       "283076     34.125             20.102673  2030   Jan  Humid  \n",
       "283077     34.125             11.105224  2030   Jan  Humid  "
      ]
     },
     "execution_count": 41,
     "metadata": {},
     "output_type": "execute_result"
    }
   ],
   "source": [
    "path_netPr=r'\\\\cowi.net\\projects\\A245000\\A248363\\CRVA\\Datasets\\calculate_PET\\netPrec_future\\df_netPr_future_2030_2060.csv'\n",
    "df_netPr=pd.read_csv(path_netPr,sep=';')\n",
    "df_netPr[~df_netPr['Net precipitation mm'].isna()]\n",
    "\n",
    "#df_netPr['Net precipitaion mm']\n",
    "#df_RH=filter_data(df_RH,loc,mod_excl)\n",
    "#df_RH_past=df_RH[df_RH['Year'].between(yr_past[0],yr_past[1])]\n",
    "#df_RH_future=df_RH[df_RH['Year'].between(yr_future[0],yr_future[1])]"
   ]
  },
  {
   "cell_type": "code",
   "execution_count": null,
   "id": "6276677a",
   "metadata": {},
   "outputs": [],
   "source": []
  }
 ],
 "metadata": {
  "kernelspec": {
   "display_name": "Python 3 (ipykernel)",
   "language": "python",
   "name": "python3"
  },
  "language_info": {
   "codemirror_mode": {
    "name": "ipython",
    "version": 3
   },
   "file_extension": ".py",
   "mimetype": "text/x-python",
   "name": "python",
   "nbconvert_exporter": "python",
   "pygments_lexer": "ipython3",
   "version": "3.10.8"
  }
 },
 "nbformat": 4,
 "nbformat_minor": 5
}
