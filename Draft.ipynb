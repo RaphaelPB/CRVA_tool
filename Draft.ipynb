{
 "cells": [
  {
   "cell_type": "markdown",
   "id": "bf7c954a",
   "metadata": {},
   "source": [
    "This notebook aims to contains part of code that I don't want to suppress, but I don't know what to do with it"
   ]
  },
  {
   "cell_type": "code",
   "execution_count": null,
   "id": "8ee0caed",
   "metadata": {},
   "outputs": [],
   "source": [
    "test=precipitation_2021_2060_copy.loc[(precipitation_2021_2060_copy.index.levels[0][0],precipitation_2021_2060_copy.index.levels[1][0],precipitation_2021_2060_copy.index.levels[2][0])]\n",
    "test=test.droplevel(level=1) # drop latitude index\n",
    "test=test[[('Longitude','36.875')]]\n",
    "test.columns = test.columns.droplevel(0) # drop first level of column name\n",
    "test=test.rename(columns={test.columns[0]:'Precipitation mm/day'})\n",
    "#test = test.filter(like = str(2021), axis=0) # select only data for one year\n",
    "test#['Precipitation mm'].values  "
   ]
  },
  {
   "cell_type": "code",
   "execution_count": null,
   "id": "b9971ca0",
   "metadata": {},
   "outputs": [],
   "source": [
    "df_year = df_year[df_year['Date'].str.contains('2021')]"
   ]
  },
  {
   "cell_type": "code",
   "execution_count": null,
   "id": "16e2ce64",
   "metadata": {},
   "outputs": [],
   "source": [
    "precipitation_2021_2060_copy.groupby(like='2021')"
   ]
  },
  {
   "cell_type": "code",
   "execution_count": null,
   "id": "33a94066",
   "metadata": {},
   "outputs": [],
   "source": [
    "DF_describe=DF.groupby(['Name project','Experiment', 'Model']).describe(percentiles=[.1, .5, .9]) #default percentiles are [.25, .5, .75],"
   ]
  }
 ],
 "metadata": {
  "kernelspec": {
   "display_name": "Python 3 (ipykernel)",
   "language": "python",
   "name": "python3"
  },
  "language_info": {
   "codemirror_mode": {
    "name": "ipython",
    "version": 3
   },
   "file_extension": ".py",
   "mimetype": "text/x-python",
   "name": "python",
   "nbconvert_exporter": "python",
   "pygments_lexer": "ipython3",
   "version": "3.10.6"
  }
 },
 "nbformat": 4,
 "nbformat_minor": 5
}
