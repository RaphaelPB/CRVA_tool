{
 "cells": [
  {
   "cell_type": "markdown",
   "id": "3774ae1c",
   "metadata": {},
   "source": [
    "This notebook aims to contains part of code that I don't want to suppress, but I don't know what to do with it"
   ]
  },
  {
   "cell_type": "code",
   "execution_count": null,
   "id": "9e40529c",
   "metadata": {},
   "outputs": [],
   "source": []
  }
 ],
 "metadata": {
  "kernelspec": {
   "display_name": "Python 3 (ipykernel)",
   "language": "python",
   "name": "python3"
  },
  "language_info": {
   "codemirror_mode": {
    "name": "ipython",
    "version": 3
   },
   "file_extension": ".py",
   "mimetype": "text/x-python",
   "name": "python",
   "nbconvert_exporter": "python",
   "pygments_lexer": "ipython3",
   "version": "3.10.6"
  }
 },
 "nbformat": 4,
 "nbformat_minor": 5
}
