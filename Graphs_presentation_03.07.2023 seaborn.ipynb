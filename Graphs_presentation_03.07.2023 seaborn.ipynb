{
 "cells": [
  {
   "cell_type": "markdown",
   "id": "ae77d39c",
   "metadata": {},
   "source": [
    "This notebook was meant to contain the graphs to be used for the presentation of the 3 July 2023, with people from the sub project from Gorongosa.\n",
    "\n",
    "Plots to do, with only temperature and precipitation for the moment:\n",
    "\n",
    ">Compare historic observed v historic model​\n",
    "\n",
    ">Compare WB v downscaled/bc data​\n",
    "\n",
    ">Create overview of trends (monthly, annual evolution)​\n",
    "\n",
    ">Compare historic model v historic projection​ (some analysis require separation of SSPs / model uncertainty)\n",
    "\n",
    ">Taste of indicators:​\n",
    "\n",
    ">SSP3: days above 40C (over time)​\n",
    "\n",
    ">100yr precipitation​"
   ]
  },
  {
   "cell_type": "code",
   "execution_count": 1,
   "id": "7109f654",
   "metadata": {},
   "outputs": [],
   "source": [
    "# packages\n",
    "import pandas as pd\n",
    "import numpy as np\n",
    "import os\n",
    "import os.path\n",
    "import seaborn as sns"
   ]
  },
  {
   "cell_type": "code",
   "execution_count": null,
   "id": "2350192d",
   "metadata": {},
   "outputs": [],
   "source": [
    "# functions\n",
    "\n",
    "def import_treat_modeled_NEX_GDDP_CMIP6(climate_var):\n",
    "    # import data\n",
    "    #path_NEX_GDDP_CMIP6_EmplacementStation = r'\\\\COWI.net\\projects\\A245000\\A248363\\CRVA\\Datasets\\NEX-GDDP-CMIP6-AllMoz\\csv_file\\'+climate_var+'\\pr_mm_per_day_day_1970-2014\\Station_at_same_emplacement_as_NOAA_stationBeiraPembaChimoio_pr_1970-2014_projectsMoz.csv'\n",
    "    #out_path = r'\\\\COWI.net\\projects\\A245000\\A248363\\CRVA\\Datasets\\NEX-GDDP-CMIP6-AllMoz\\csv_file'\n",
    "    if climate_var =='pr':\n",
    "        path_NEX_GDDP_CMIP6_EmplacementStation=os.path.join(r'\\\\COWI.net\\projects\\A245000\\A248363\\CRVA\\Datasets\\NEX-GDDP-CMIP6-AllMoz\\csv_file',climate_var,climate_var+'_mm_per_day_day_1970-2014','NEXGDDPCMIP6_at_same_emplacement_as_NOAA_stationPembaChimoioBeira_'+climate_var+'_1970-2014_projectsMoz.csv')\n",
    "    else: # temperature\n",
    "        path_NEX_GDDP_CMIP6_EmplacementStation=os.path.join(r'\\\\COWI.net\\projects\\A245000\\A248363\\CRVA\\Datasets\\NEX-GDDP-CMIP6-AllMoz\\csv_file',climate_var,climate_var+'_Celsius_day_1970-2014','NEXGDDPCMIP6_at_same_emplacement_as_NOAA_stationPembaChimoioBeira_'+climate_var+'_1970-2014_projectsMoz.csv')\n",
    "        \n",
    "    data_NEX_GDDP_CMIP6_EmplacementStation = pd.read_csv(path_NEX_GDDP_CMIP6_EmplacementStation)\n",
    "    data_NEX_GDDP_CMIP6_EmplacementStation = data_NEX_GDDP_CMIP6_EmplacementStation.drop(['Experiment','Latitude','Longitude'],axis=1)\n",
    "    \n",
    "    # add Year, month and season columns for graphs\n",
    "    Year = data_NEX_GDDP_CMIP6_EmplacementStation[['Date']].values.reshape(len(data_NEX_GDDP_CMIP6_EmplacementStation[['Date']].values),)\n",
    "    Month = data_NEX_GDDP_CMIP6_EmplacementStation[['Date']].values.reshape(len(data_NEX_GDDP_CMIP6_EmplacementStation[['Date']].values),)\n",
    "    Season = data_NEX_GDDP_CMIP6_EmplacementStation[['Date']].values.reshape(len(data_NEX_GDDP_CMIP6_EmplacementStation[['Date']].values),)\n",
    "    \n",
    "    for i in np.arange(0,len(data_NEX_GDDP_CMIP6_EmplacementStation[['Date']].values)):\n",
    "        Year[i]=int(Year[i][6:10])\n",
    "        Month[i]=int(Month[i][3:5])\n",
    "        if int(Month[i])>3 and int(Month[i])<10: # dry season in Mozambique is between April and September\n",
    "            Season[i]='Dry'\n",
    "        else:# humid season is between October and March\n",
    "            Season[i]='Humid'\n",
    "\n",
    "    data_NEX_GDDP_CMIP6_EmplacementStation['Year'] = Year\n",
    "    data_NEX_GDDP_CMIP6_EmplacementStation['Month'] = Month\n",
    "    data_NEX_GDDP_CMIP6_EmplacementStation['Season'] = Season\n",
    "    \n",
    "    return data_NEX_GDDP_CMIP6_EmplacementStation"
   ]
  },
  {
   "cell_type": "code",
   "execution_count": null,
   "id": "3497c4f5",
   "metadata": {},
   "outputs": [],
   "source": [
    "# Compare historic observed vs historic model\n"
   ]
  }
 ],
 "metadata": {
  "kernelspec": {
   "display_name": "Python 3 (ipykernel)",
   "language": "python",
   "name": "python3"
  },
  "language_info": {
   "codemirror_mode": {
    "name": "ipython",
    "version": 3
   },
   "file_extension": ".py",
   "mimetype": "text/x-python",
   "name": "python",
   "nbconvert_exporter": "python",
   "pygments_lexer": "ipython3",
   "version": "3.10.6"
  }
 },
 "nbformat": 4,
 "nbformat_minor": 5
}
