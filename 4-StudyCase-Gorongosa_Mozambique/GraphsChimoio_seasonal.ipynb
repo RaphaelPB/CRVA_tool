{
 "cells": [
  {
   "cell_type": "code",
   "execution_count": 14,
   "id": "73eebb9a",
   "metadata": {},
   "outputs": [],
   "source": [
    "import sys \n",
    "sys.path.append(\"../0-Functions\")\n",
    "import numpy as np\n",
    "\n",
    "from Graphs_functions import trends_month\n",
    "from Graphs_functions import cdf_plot_period\n",
    "from Functions_ImportData import import_filtered_NOAA_obs\n",
    "from Functions_ImportData import import_gorongosa_obs_pr\n",
    "from Functions_ImportData import import_treat_modeled_NEX_GDDP_CMIP6_close_to_stationNOAA\n",
    "from Functions_ImportData import import_treat_modeled_NEX_GDDP_CMIP6"
   ]
  },
  {
   "cell_type": "code",
   "execution_count": 2,
   "id": "7e970916",
   "metadata": {},
   "outputs": [],
   "source": [
    "from Functions_Indicators import filter_dataframe"
   ]
  },
  {
   "cell_type": "code",
   "execution_count": 3,
   "id": "d806c32f",
   "metadata": {},
   "outputs": [],
   "source": [
    "# to do\n",
    "# pr: season historique, dry, wet, past, all scenarios\n",
    "# tas: season historique, dry, wet, past, all scenarios\n",
    "# tasmax: season historique, dry, wet, past, all scenarios"
   ]
  },
  {
   "cell_type": "code",
   "execution_count": 4,
   "id": "b29747de",
   "metadata": {},
   "outputs": [],
   "source": [
    "# observation data\n",
    "obs_NOAA=import_filtered_NOAA_obs()\n",
    "pr_obs= import_gorongosa_obs_pr()"
   ]
  },
  {
   "cell_type": "code",
   "execution_count": 5,
   "id": "057ba434",
   "metadata": {},
   "outputs": [],
   "source": [
    "# modelled\n",
    "tas=import_treat_modeled_NEX_GDDP_CMIP6_close_to_stationNOAA('tas', 'Celsius')\n",
    "tasmax=import_treat_modeled_NEX_GDDP_CMIP6_close_to_stationNOAA('tasmax', 'Celsius')\n",
    "tasmin=import_treat_modeled_NEX_GDDP_CMIP6_close_to_stationNOAA('tasmin', 'Celsius')\n",
    "pr=import_treat_modeled_NEX_GDDP_CMIP6_close_to_stationNOAA('pr', 'mm_per_day')\n",
    "pr_proj=import_treat_modeled_NEX_GDDP_CMIP6('pr', 'mm_per_day','day',1950,2100)"
   ]
  },
  {
   "cell_type": "code",
   "execution_count": 6,
   "id": "a769abf7",
   "metadata": {},
   "outputs": [],
   "source": [
    "# filter data"
   ]
  },
  {
   "cell_type": "code",
   "execution_count": 7,
   "id": "3f332e1f",
   "metadata": {},
   "outputs": [],
   "source": [
    "tas_chimoio=filter_dataframe(tas,['CHIMOIO, MZ'],['TaiESM1','NESM3','CMCC-CM2-SR5'])\n",
    "tasmax_chimoio=filter_dataframe(tasmax,['CHIMOIO, MZ'],['TaiESM1','NESM3','CMCC-CM2-SR5'])\n",
    "tasmin_chimoio=filter_dataframe(tasmin,['CHIMOIO, MZ'],['TaiESM1','NESM3','CMCC-CM2-SR5'])\n",
    "pr_chimoio=filter_dataframe(pr,['CHIMOIO, MZ'],['TaiESM1','NESM3','CMCC-CM2-SR5'])\n",
    "pr_proj_gorongosa=filter_dataframe(pr_proj,['Gorongosa_EIB'],['TaiESM1','NESM3','CMCC-CM2-SR5'])"
   ]
  },
  {
   "cell_type": "code",
   "execution_count": 8,
   "id": "b3dfb96a",
   "metadata": {},
   "outputs": [],
   "source": [
    "obs_NOAA_chimoio=obs_NOAA[obs_NOAA['NAME']=='CHIMOIO, MZ']"
   ]
  },
  {
   "cell_type": "code",
   "execution_count": 9,
   "id": "1af9ba46",
   "metadata": {},
   "outputs": [],
   "source": [
    "# graphs"
   ]
  },
  {
   "cell_type": "code",
   "execution_count": null,
   "id": "21d5e17b",
   "metadata": {},
   "outputs": [],
   "source": [
    "# trends_month"
   ]
  },
  {
   "cell_type": "code",
   "execution_count": null,
   "id": "6089c0da",
   "metadata": {},
   "outputs": [],
   "source": [
    "pr_obs.rename(columns = {'pr':'PRCP'}, inplace = True)"
   ]
  },
  {
   "cell_type": "code",
   "execution_count": null,
   "id": "cde344cf",
   "metadata": {},
   "outputs": [],
   "source": [
    "trends_month('pr',pr_proj_gorongosa,'NEX-GDDP-CMIP6',pr_obs,'NOAA','Average','Gorongosa',temporal_resolution='Month',start_year_line=1970,stop_year_line=2014,start_year_boxplot=1950,stop_year_boxplot=2100,dry_season='no')"
   ]
  },
  {
   "cell_type": "code",
   "execution_count": null,
   "id": "c15d82d0",
   "metadata": {},
   "outputs": [],
   "source": [
    "trends_month('pr',pr_proj_gorongosa,'NEX-GDDP-CMIP6',pr_obs,'NOAA','Average','Gorongosa',temporal_resolution='Month',start_year_line=1970,stop_year_line=2014,start_year_boxplot=1950,stop_year_boxplot=2100,dry_season='yes')"
   ]
  },
  {
   "cell_type": "code",
   "execution_count": null,
   "id": "095fe561",
   "metadata": {},
   "outputs": [],
   "source": [
    "# cdf"
   ]
  },
  {
   "cell_type": "code",
   "execution_count": 11,
   "id": "d0c92700",
   "metadata": {},
   "outputs": [],
   "source": [
    "def cdf_plot_period(df,periods,name_column,df_obs,name_col_obs):\n",
    "\n",
    "    df_copy = df.copy(deep=True) # do a copy of the dataframe\n",
    "    # create two new columns to register the periods and cdfs\n",
    "    df_copy['Period'] = df_copy['Year']\n",
    "    df_copy['CDF'] = df_copy['Year']\n",
    "    # register historical information to concatenate them with each period\n",
    "    df_historical = df_copy[df_copy['Experiment']=='historical']\n",
    "    df_historical=cdf_(df_historical,name_column)\n",
    "    df_obs.loc[:,'Experiment']='Observation'\n",
    "    df_obs=cdf_(df_obs,name_col_obs)\n",
    "    # create an empty dataframe for the information to plot\n",
    "    df_final=pd.DataFrame()\n",
    "    for period in periods: # go throught all the periods wnated\n",
    "        df_temp = df_copy[df_copy['Year'].between(int(period[0:4]),int(period[5:9]))]\n",
    "        df_temp.loc[:,'Period'] = period\n",
    "        df_historical.loc[:,'Period'] = period\n",
    "        df_obs.loc[:,'Period'] = period\n",
    "        df_ssp = pd.DataFrame()\n",
    "        for ssp in list(set(df['Experiment'])): # go throught all the spp wanted\n",
    "            # select the ssp and sort the data\n",
    "            df_temp_ssp = df_temp[df_temp['Experiment']==ssp]#.sort_values(name_column,na_position='first').dropna()# sort value in cdf_ function\n",
    "            # calulate the cdf\n",
    "            df_temp_ssp=cdf_(df_temp_ssp,name_column)\n",
    "            # concat the result with the other ssps\n",
    "            df_ssp = pd.concat([df_ssp,df_temp_ssp])\n",
    "        # concat the results with the other ssps and periods\n",
    "        df_final = pd.concat([df_final,df_obs,df_historical,df_ssp])\n",
    "        \n",
    "    # plot the different periods with the historical data\n",
    "    \n",
    "    Palette = [\"black\", \"blue\",\"red\", \"green\",\"orange\"]\n",
    "    sns.set_palette(Palette) #use the list defined in the function\n",
    "    g = sns.FacetGrid(df_final, col=\"Period\", height=3, aspect=.8)\n",
    "    g.map(sns.lineplot, name_column,'CDF','Experiment')\n",
    "    g.add_legend(title='Legend')\n",
    "    g.fig.subplots_adjust(top=0.75) # adjust the Figure in rp\n",
    "    g.fig.suptitle('Cumulative distribution function of the yearly average temperature\\nof the modeled data NEX-GDDP-CMIP6')\n",
    "    g.fig.tight_layout() # Adjust the padding between and around subplots.\n",
    "    sns.move_legend(g, \"right\", bbox_to_anchor=(1.25, .45))#, frameon=False)\n",
    "    plt.show()\n",
    "\n",
    "    return df_final\n",
    "\n",
    "\n",
    "# In[ ]:\n",
    "\n",
    "\n",
    "# the dataframe given in this function should have a column named 'CDF'\n",
    "def cdf_(df,name_column_df):\n",
    "    df=df.sort_values(name_column_df,na_position='first').dropna() # sort the values\n",
    "    df['CDF'] = np.arange(len(df[name_column_df])) / float(len(df[name_column_df]))\n",
    "    return df"
   ]
  },
  {
   "cell_type": "code",
   "execution_count": null,
   "id": "9e222443",
   "metadata": {},
   "outputs": [],
   "source": [
    "cdf_plot_period(tasmax_chimoio,['2020-2040','2040-2060'],'Daily Maximum Near-Surface Air Temperature °C',obs_NOAA_chimoio,'TMAX')"
   ]
  },
  {
   "cell_type": "code",
   "execution_count": null,
   "id": "c3774c0b",
   "metadata": {},
   "outputs": [],
   "source": []
  }
 ],
 "metadata": {
  "kernelspec": {
   "display_name": "Python 3 (ipykernel)",
   "language": "python",
   "name": "python3"
  },
  "language_info": {
   "codemirror_mode": {
    "name": "ipython",
    "version": 3
   },
   "file_extension": ".py",
   "mimetype": "text/x-python",
   "name": "python",
   "nbconvert_exporter": "python",
   "pygments_lexer": "ipython3",
   "version": "3.10.6"
  }
 },
 "nbformat": 4,
 "nbformat_minor": 5
}
