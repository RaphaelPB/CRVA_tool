{
 "cells": [
  {
   "cell_type": "markdown",
   "id": "40a9eb76",
   "metadata": {},
   "source": [
    "This notebook contains the comparaison between observed and modeled NEX GDDP CMIP6 data.\n",
    "\n",
    "Notice: The modeled data only contains one point. Good to do it again but with a zone"
   ]
  },
  {
   "cell_type": "markdown",
   "id": "14feb4ee",
   "metadata": {},
   "source": [
    "# Packages"
   ]
  },
  {
   "cell_type": "code",
   "execution_count": 1,
   "id": "8fd163ef",
   "metadata": {},
   "outputs": [],
   "source": [
    "import pandas as pd\n",
    "import numpy as np\n",
    "import os\n",
    "import os.path\n",
    "import seaborn as sns\n",
    "import matplotlib\n",
    "import geopy.distance\n",
    "from matplotlib import pyplot as plt"
   ]
  },
  {
   "cell_type": "markdown",
   "id": "35356864",
   "metadata": {},
   "source": [
    "# Functions"
   ]
  },
  {
   "cell_type": "code",
   "execution_count": null,
   "id": "114b16ec",
   "metadata": {},
   "outputs": [],
   "source": []
  },
  {
   "cell_type": "markdown",
   "id": "74580d1f",
   "metadata": {},
   "source": [
    "# Import data"
   ]
  },
  {
   "cell_type": "markdown",
   "id": "bda449f6",
   "metadata": {},
   "source": [
    "## Observations data"
   ]
  },
  {
   "cell_type": "markdown",
   "id": "7cc62ed0",
   "metadata": {},
   "source": [
    "### Precipitation and temperature NOAA"
   ]
  },
  {
   "cell_type": "code",
   "execution_count": null,
   "id": "ed7722c9",
   "metadata": {},
   "outputs": [],
   "source": []
  },
  {
   "cell_type": "code",
   "execution_count": null,
   "id": "4d240e08",
   "metadata": {},
   "outputs": [],
   "source": []
  }
 ],
 "metadata": {
  "kernelspec": {
   "display_name": "Python 3 (ipykernel)",
   "language": "python",
   "name": "python3"
  },
  "language_info": {
   "codemirror_mode": {
    "name": "ipython",
    "version": 3
   },
   "file_extension": ".py",
   "mimetype": "text/x-python",
   "name": "python",
   "nbconvert_exporter": "python",
   "pygments_lexer": "ipython3",
   "version": "3.10.6"
  }
 },
 "nbformat": 4,
 "nbformat_minor": 5
}
