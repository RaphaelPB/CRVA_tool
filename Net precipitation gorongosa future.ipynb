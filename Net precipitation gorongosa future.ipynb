{
 "cells": [
  {
   "cell_type": "code",
   "execution_count": 1,
   "id": "12797d19",
   "metadata": {},
   "outputs": [],
   "source": [
    "import numpy as np\n",
    "import pandas as pd\n",
    "\n",
    "from Functions_ImportData import import_treat_modeled_NEX_GDDP_CMIP6\n",
    "from Functions_ImportData import import_BC_NOAA_NEX_GDDP_CMIP6\n",
    "from Functions_ImportData import import_BC_Gorongosa_NEX_GDDP_CMIP6\n",
    "from Functions_ImportData import add_year_month_season\n",
    "\n",
    "from Potential_evapostranspiration_function import PET"
   ]
  },
  {
   "cell_type": "markdown",
   "id": "063e5511",
   "metadata": {},
   "source": [
    "Objectif: find the number of cumulative days per year with positive net precipitation (Pr - E)"
   ]
  },
  {
   "cell_type": "markdown",
   "id": "f54da056",
   "metadata": {},
   "source": [
    "# Project information that could be useful"
   ]
  },
  {
   "attachments": {
    "image.png": {
     "image/png": "[encoded data removed]"
    }
   },
   "cell_type": "markdown",
   "id": "30696c8d",
   "metadata": {},
   "source": [
    "![image.png](attachment:image.png)"
   ]
  },
  {
   "cell_type": "markdown",
   "id": "73f13725",
   "metadata": {},
   "source": [
    "# Functions"
   ]
  },
  {
   "cell_type": "code",
   "execution_count": 2,
   "id": "708b5e0a",
   "metadata": {},
   "outputs": [],
   "source": [
    "def treat_data_Gorongosa_model(df):\n",
    "    df = df[df['Name project']=='Gorongosa_EIB']\n",
    "    df = df[df['Model']!='NESM3']\n",
    "    df = df[df['Model']!='CMCC-CM2-SR5']\n",
    "    df = df[df['Model']!='TaiESM1']\n",
    "    return df"
   ]
  },
  {
   "cell_type": "code",
   "execution_count": 3,
   "id": "d565c00b",
   "metadata": {},
   "outputs": [],
   "source": [
    "def change_date_format(date):\n",
    "    d=date.split('-')\n",
    "    date = d[2]+'-'+d[1]+'-'+d[0]\n",
    "    return date"
   ]
  },
  {
   "cell_type": "markdown",
   "id": "91f6cd9c",
   "metadata": {},
   "source": [
    "# Evapotranspiration at Gorongosa"
   ]
  },
  {
   "cell_type": "markdown",
   "id": "c53053db",
   "metadata": {},
   "source": [
    "#### needed parameters\n",
    "\n",
    "Air temperature in degrees, normal, max and min\n",
    "\n",
    "Downwelling short Rs in MJ/(m^2.day)\n",
    "\n",
    "For calculation of Rnl (net longwave radiaiton, used for calculation of net radiation), need to know lat and month for the calculation to calculate Ra\n",
    "\n",
    "Wind at 2 m [m/s], height where measurement taken is approx 10 m\n",
    "\n",
    "Mean relative humidity in %"
   ]
  },
  {
   "cell_type": "markdown",
   "id": "19a0c2d9",
   "metadata": {},
   "source": [
    "## Import data\n",
    "Pr, temperature data will be bias corrected. \n",
    "Rs, RH, Wind are not bias corrected"
   ]
  },
  {
   "cell_type": "code",
   "execution_count": 4,
   "id": "a5cdb50c",
   "metadata": {},
   "outputs": [],
   "source": [
    "df_pr_BC_NOAA_NEX_GDDP_CMIP6_past = import_BC_NOAA_NEX_GDDP_CMIP6('pr',1970,2014,EmplacementStationNOAA='no',resolution ='day')"
   ]
  },
  {
   "cell_type": "code",
   "execution_count": 5,
   "id": "c0837b7d",
   "metadata": {},
   "outputs": [],
   "source": [
    "df_pr_BC_NOAA_NEX_GDDP_CMIP6_past_gorongosa = treat_data_Gorongosa_model(df_pr_BC_NOAA_NEX_GDDP_CMIP6_past)"
   ]
  },
  {
   "cell_type": "code",
   "execution_count": 6,
   "id": "c9ad9b7b",
   "metadata": {},
   "outputs": [],
   "source": [
    "df_pr_BC_NOAA_NEX_GDDP_CMIP6_future = import_BC_NOAA_NEX_GDDP_CMIP6('pr',2030,2065,EmplacementStationNOAA='no',resolution ='day')"
   ]
  },
  {
   "cell_type": "code",
   "execution_count": 7,
   "id": "c0b1b943",
   "metadata": {},
   "outputs": [],
   "source": [
    "df_pr_BC_NOAA_NEX_GDDP_CMIP6_future_gorongosa = treat_data_Gorongosa_model(df_pr_BC_NOAA_NEX_GDDP_CMIP6_future)"
   ]
  },
  {
   "cell_type": "code",
   "execution_count": 8,
   "id": "b0d0018d",
   "metadata": {},
   "outputs": [],
   "source": [
    "df_tas_BC_NOAA_NEX_GDDP_CMIP6_past = import_BC_NOAA_NEX_GDDP_CMIP6('tas',1970,2014,EmplacementStationNOAA='no',resolution ='day')"
   ]
  },
  {
   "cell_type": "code",
   "execution_count": 9,
   "id": "99f2aa0d",
   "metadata": {},
   "outputs": [],
   "source": [
    "df_tas_BC_NOAA_NEX_GDDP_CMIP6_past_gorongosa = treat_data_Gorongosa_model(df_tas_BC_NOAA_NEX_GDDP_CMIP6_past)"
   ]
  },
  {
   "cell_type": "code",
   "execution_count": 10,
   "id": "0b76f0ab",
   "metadata": {},
   "outputs": [],
   "source": [
    "df_tas_BC_NOAA_NEX_GDDP_CMIP6_future = import_BC_NOAA_NEX_GDDP_CMIP6('tas',2030,2065,EmplacementStationNOAA='no',resolution ='day')"
   ]
  },
  {
   "cell_type": "code",
   "execution_count": 11,
   "id": "4e74de07",
   "metadata": {},
   "outputs": [],
   "source": [
    "df_tas_BC_NOAA_NEX_GDDP_CMIP6_future_gorongosa = treat_data_Gorongosa_model(df_tas_BC_NOAA_NEX_GDDP_CMIP6_future)"
   ]
  },
  {
   "cell_type": "code",
   "execution_count": 12,
   "id": "46ef28c9",
   "metadata": {},
   "outputs": [],
   "source": [
    "df_tasmin_BC_NOAA_NEX_GDDP_CMIP6_past = import_BC_NOAA_NEX_GDDP_CMIP6('tasmin',1970,2014,EmplacementStationNOAA='no',resolution ='day')"
   ]
  },
  {
   "cell_type": "code",
   "execution_count": 13,
   "id": "1818378c",
   "metadata": {},
   "outputs": [],
   "source": [
    "df_tasmin_BC_NOAA_NEX_GDDP_CMIP6_past_gorongosa = treat_data_Gorongosa_model(df_tasmin_BC_NOAA_NEX_GDDP_CMIP6_past)"
   ]
  },
  {
   "cell_type": "code",
   "execution_count": 14,
   "id": "2d65f563",
   "metadata": {},
   "outputs": [],
   "source": [
    "df_tasmin_BC_NOAA_NEX_GDDP_CMIP6_future = import_BC_NOAA_NEX_GDDP_CMIP6('tasmin',2030,2065,EmplacementStationNOAA='no',resolution ='day')"
   ]
  },
  {
   "cell_type": "code",
   "execution_count": 15,
   "id": "8814edc9",
   "metadata": {},
   "outputs": [
    {
     "data": {
      "text/html": [
       "<div>\n",
       "<style scoped>\n",
       "    .dataframe tbody tr th:only-of-type {\n",
       "        vertical-align: middle;\n",
       "    }\n",
       "\n",
       "    .dataframe tbody tr th {\n",
       "        vertical-align: top;\n",
       "    }\n",
       "\n",
       "    .dataframe thead th {\n",
       "        text-align: right;\n",
       "    }\n",
       "</style>\n",
       "<table border=\"1\" class=\"dataframe\">\n",
       "  <thead>\n",
       "    <tr style=\"text-align: right;\">\n",
       "      <th></th>\n",
       "      <th>Date</th>\n",
       "      <th>Daily Minimum Near-Surface Air Temperature °C</th>\n",
       "      <th>Name project</th>\n",
       "      <th>Experiment</th>\n",
       "      <th>Model</th>\n",
       "      <th>Year</th>\n",
       "      <th>Month</th>\n",
       "      <th>Season</th>\n",
       "    </tr>\n",
       "  </thead>\n",
       "  <tbody>\n",
       "    <tr>\n",
       "      <th>0</th>\n",
       "      <td>2030-01-01</td>\n",
       "      <td>22.029268</td>\n",
       "      <td>Chimoio_WTP_EIB</td>\n",
       "      <td>ssp126</td>\n",
       "      <td>CMCC-ESM2</td>\n",
       "      <td>2030</td>\n",
       "      <td>Jan</td>\n",
       "      <td>Humid</td>\n",
       "    </tr>\n",
       "    <tr>\n",
       "      <th>1</th>\n",
       "      <td>2030-01-02</td>\n",
       "      <td>22.771426</td>\n",
       "      <td>Chimoio_WTP_EIB</td>\n",
       "      <td>ssp126</td>\n",
       "      <td>CMCC-ESM2</td>\n",
       "      <td>2030</td>\n",
       "      <td>Jan</td>\n",
       "      <td>Humid</td>\n",
       "    </tr>\n",
       "    <tr>\n",
       "      <th>2</th>\n",
       "      <td>2030-01-03</td>\n",
       "      <td>21.293142</td>\n",
       "      <td>Chimoio_WTP_EIB</td>\n",
       "      <td>ssp126</td>\n",
       "      <td>CMCC-ESM2</td>\n",
       "      <td>2030</td>\n",
       "      <td>Jan</td>\n",
       "      <td>Humid</td>\n",
       "    </tr>\n",
       "    <tr>\n",
       "      <th>3</th>\n",
       "      <td>2030-01-04</td>\n",
       "      <td>20.440858</td>\n",
       "      <td>Chimoio_WTP_EIB</td>\n",
       "      <td>ssp126</td>\n",
       "      <td>CMCC-ESM2</td>\n",
       "      <td>2030</td>\n",
       "      <td>Jan</td>\n",
       "      <td>Humid</td>\n",
       "    </tr>\n",
       "    <tr>\n",
       "      <th>4</th>\n",
       "      <td>2030-01-05</td>\n",
       "      <td>20.455193</td>\n",
       "      <td>Chimoio_WTP_EIB</td>\n",
       "      <td>ssp126</td>\n",
       "      <td>CMCC-ESM2</td>\n",
       "      <td>2030</td>\n",
       "      <td>Jan</td>\n",
       "      <td>Humid</td>\n",
       "    </tr>\n",
       "    <tr>\n",
       "      <th>...</th>\n",
       "      <td>...</td>\n",
       "      <td>...</td>\n",
       "      <td>...</td>\n",
       "      <td>...</td>\n",
       "      <td>...</td>\n",
       "      <td>...</td>\n",
       "      <td>...</td>\n",
       "      <td>...</td>\n",
       "    </tr>\n",
       "    <tr>\n",
       "      <th>2310579</th>\n",
       "      <td>2065-12-27</td>\n",
       "      <td>27.859478</td>\n",
       "      <td>WTP_Mutua_EIB</td>\n",
       "      <td>ssp245</td>\n",
       "      <td>BCC-CSM2-MR</td>\n",
       "      <td>2065</td>\n",
       "      <td>Dec</td>\n",
       "      <td>Humid</td>\n",
       "    </tr>\n",
       "    <tr>\n",
       "      <th>2310580</th>\n",
       "      <td>2065-12-28</td>\n",
       "      <td>29.396100</td>\n",
       "      <td>WTP_Mutua_EIB</td>\n",
       "      <td>ssp245</td>\n",
       "      <td>BCC-CSM2-MR</td>\n",
       "      <td>2065</td>\n",
       "      <td>Dec</td>\n",
       "      <td>Humid</td>\n",
       "    </tr>\n",
       "    <tr>\n",
       "      <th>2310581</th>\n",
       "      <td>2065-12-29</td>\n",
       "      <td>28.590368</td>\n",
       "      <td>WTP_Mutua_EIB</td>\n",
       "      <td>ssp245</td>\n",
       "      <td>BCC-CSM2-MR</td>\n",
       "      <td>2065</td>\n",
       "      <td>Dec</td>\n",
       "      <td>Humid</td>\n",
       "    </tr>\n",
       "    <tr>\n",
       "      <th>2310582</th>\n",
       "      <td>2065-12-30</td>\n",
       "      <td>27.320952</td>\n",
       "      <td>WTP_Mutua_EIB</td>\n",
       "      <td>ssp245</td>\n",
       "      <td>BCC-CSM2-MR</td>\n",
       "      <td>2065</td>\n",
       "      <td>Dec</td>\n",
       "      <td>Humid</td>\n",
       "    </tr>\n",
       "    <tr>\n",
       "      <th>2310583</th>\n",
       "      <td>2065-12-31</td>\n",
       "      <td>26.188078</td>\n",
       "      <td>WTP_Mutua_EIB</td>\n",
       "      <td>ssp245</td>\n",
       "      <td>BCC-CSM2-MR</td>\n",
       "      <td>2065</td>\n",
       "      <td>Dec</td>\n",
       "      <td>Humid</td>\n",
       "    </tr>\n",
       "  </tbody>\n",
       "</table>\n",
       "<p>2310584 rows × 8 columns</p>\n",
       "</div>"
      ],
      "text/plain": [
       "               Date  Daily Minimum Near-Surface Air Temperature °C  \\\n",
       "0        2030-01-01                                      22.029268   \n",
       "1        2030-01-02                                      22.771426   \n",
       "2        2030-01-03                                      21.293142   \n",
       "3        2030-01-04                                      20.440858   \n",
       "4        2030-01-05                                      20.455193   \n",
       "...             ...                                            ...   \n",
       "2310579  2065-12-27                                      27.859478   \n",
       "2310580  2065-12-28                                      29.396100   \n",
       "2310581  2065-12-29                                      28.590368   \n",
       "2310582  2065-12-30                                      27.320952   \n",
       "2310583  2065-12-31                                      26.188078   \n",
       "\n",
       "            Name project Experiment        Model  Year Month Season  \n",
       "0        Chimoio_WTP_EIB     ssp126    CMCC-ESM2  2030   Jan  Humid  \n",
       "1        Chimoio_WTP_EIB     ssp126    CMCC-ESM2  2030   Jan  Humid  \n",
       "2        Chimoio_WTP_EIB     ssp126    CMCC-ESM2  2030   Jan  Humid  \n",
       "3        Chimoio_WTP_EIB     ssp126    CMCC-ESM2  2030   Jan  Humid  \n",
       "4        Chimoio_WTP_EIB     ssp126    CMCC-ESM2  2030   Jan  Humid  \n",
       "...                  ...        ...          ...   ...   ...    ...  \n",
       "2310579    WTP_Mutua_EIB     ssp245  BCC-CSM2-MR  2065   Dec  Humid  \n",
       "2310580    WTP_Mutua_EIB     ssp245  BCC-CSM2-MR  2065   Dec  Humid  \n",
       "2310581    WTP_Mutua_EIB     ssp245  BCC-CSM2-MR  2065   Dec  Humid  \n",
       "2310582    WTP_Mutua_EIB     ssp245  BCC-CSM2-MR  2065   Dec  Humid  \n",
       "2310583    WTP_Mutua_EIB     ssp245  BCC-CSM2-MR  2065   Dec  Humid  \n",
       "\n",
       "[2310584 rows x 8 columns]"
      ]
     },
     "execution_count": 15,
     "metadata": {},
     "output_type": "execute_result"
    }
   ],
   "source": [
    "df_tasmin_BC_NOAA_NEX_GDDP_CMIP6_future"
   ]
  },
  {
   "cell_type": "code",
   "execution_count": 16,
   "id": "e3590bfa",
   "metadata": {},
   "outputs": [],
   "source": [
    "df_tasmin_BC_NOAA_NEX_GDDP_CMIP6_future_gorongosa = treat_data_Gorongosa_model(df_tasmin_BC_NOAA_NEX_GDDP_CMIP6_future)"
   ]
  },
  {
   "cell_type": "code",
   "execution_count": 17,
   "id": "00345a77",
   "metadata": {},
   "outputs": [],
   "source": [
    "df_tasmax_BC_NOAA_NEX_GDDP_CMIP6_past = import_BC_NOAA_NEX_GDDP_CMIP6('tasmax',1970,2014,EmplacementStationNOAA='no',resolution ='day')"
   ]
  },
  {
   "cell_type": "code",
   "execution_count": 18,
   "id": "b8e9f6d8",
   "metadata": {},
   "outputs": [],
   "source": [
    "df_tasmax_BC_NOAA_NEX_GDDP_CMIP6_past_gorongosa = treat_data_Gorongosa_model(df_tasmax_BC_NOAA_NEX_GDDP_CMIP6_past)"
   ]
  },
  {
   "cell_type": "code",
   "execution_count": 19,
   "id": "02b4141a",
   "metadata": {},
   "outputs": [],
   "source": [
    "df_tasmax_BC_NOAA_NEX_GDDP_CMIP6_future = import_BC_NOAA_NEX_GDDP_CMIP6('tasmax',2030,2065,EmplacementStationNOAA='no',resolution ='day')"
   ]
  },
  {
   "cell_type": "code",
   "execution_count": 20,
   "id": "323fa8e5",
   "metadata": {},
   "outputs": [],
   "source": [
    "df_tasmax_BC_NOAA_NEX_GDDP_CMIP6_future_gorongosa = treat_data_Gorongosa_model(df_tasmax_BC_NOAA_NEX_GDDP_CMIP6_future)"
   ]
  },
  {
   "cell_type": "code",
   "execution_count": 21,
   "id": "7ea19fcc",
   "metadata": {},
   "outputs": [
    {
     "data": {
      "text/html": [
       "<div>\n",
       "<style scoped>\n",
       "    .dataframe tbody tr th:only-of-type {\n",
       "        vertical-align: middle;\n",
       "    }\n",
       "\n",
       "    .dataframe tbody tr th {\n",
       "        vertical-align: top;\n",
       "    }\n",
       "\n",
       "    .dataframe thead th {\n",
       "        text-align: right;\n",
       "    }\n",
       "</style>\n",
       "<table border=\"1\" class=\"dataframe\">\n",
       "  <thead>\n",
       "    <tr style=\"text-align: right;\">\n",
       "      <th></th>\n",
       "      <th>Date</th>\n",
       "      <th>Daily Maximum Near-Surface Air Temperature °C</th>\n",
       "      <th>Name project</th>\n",
       "      <th>Experiment</th>\n",
       "      <th>Model</th>\n",
       "      <th>Year</th>\n",
       "      <th>Month</th>\n",
       "      <th>Season</th>\n",
       "    </tr>\n",
       "  </thead>\n",
       "  <tbody>\n",
       "    <tr>\n",
       "      <th>1892808</th>\n",
       "      <td>2030-01-01</td>\n",
       "      <td>29.825729</td>\n",
       "      <td>Gorongosa_EIB</td>\n",
       "      <td>ssp245</td>\n",
       "      <td>ACCESS-CM2</td>\n",
       "      <td>2030</td>\n",
       "      <td>Jan</td>\n",
       "      <td>Humid</td>\n",
       "    </tr>\n",
       "    <tr>\n",
       "      <th>1892809</th>\n",
       "      <td>2030-01-02</td>\n",
       "      <td>30.163790</td>\n",
       "      <td>Gorongosa_EIB</td>\n",
       "      <td>ssp245</td>\n",
       "      <td>ACCESS-CM2</td>\n",
       "      <td>2030</td>\n",
       "      <td>Jan</td>\n",
       "      <td>Humid</td>\n",
       "    </tr>\n",
       "    <tr>\n",
       "      <th>1892810</th>\n",
       "      <td>2030-01-03</td>\n",
       "      <td>31.931390</td>\n",
       "      <td>Gorongosa_EIB</td>\n",
       "      <td>ssp245</td>\n",
       "      <td>ACCESS-CM2</td>\n",
       "      <td>2030</td>\n",
       "      <td>Jan</td>\n",
       "      <td>Humid</td>\n",
       "    </tr>\n",
       "    <tr>\n",
       "      <th>1892811</th>\n",
       "      <td>2030-01-04</td>\n",
       "      <td>30.706314</td>\n",
       "      <td>Gorongosa_EIB</td>\n",
       "      <td>ssp245</td>\n",
       "      <td>ACCESS-CM2</td>\n",
       "      <td>2030</td>\n",
       "      <td>Jan</td>\n",
       "      <td>Humid</td>\n",
       "    </tr>\n",
       "    <tr>\n",
       "      <th>1892812</th>\n",
       "      <td>2030-01-05</td>\n",
       "      <td>30.480226</td>\n",
       "      <td>Gorongosa_EIB</td>\n",
       "      <td>ssp245</td>\n",
       "      <td>ACCESS-CM2</td>\n",
       "      <td>2030</td>\n",
       "      <td>Jan</td>\n",
       "      <td>Humid</td>\n",
       "    </tr>\n",
       "    <tr>\n",
       "      <th>...</th>\n",
       "      <td>...</td>\n",
       "      <td>...</td>\n",
       "      <td>...</td>\n",
       "      <td>...</td>\n",
       "      <td>...</td>\n",
       "      <td>...</td>\n",
       "      <td>...</td>\n",
       "      <td>...</td>\n",
       "    </tr>\n",
       "    <tr>\n",
       "      <th>2523739</th>\n",
       "      <td>2065-12-27</td>\n",
       "      <td>34.339382</td>\n",
       "      <td>Gorongosa_EIB</td>\n",
       "      <td>ssp370</td>\n",
       "      <td>MIROC6</td>\n",
       "      <td>2065</td>\n",
       "      <td>Dec</td>\n",
       "      <td>Humid</td>\n",
       "    </tr>\n",
       "    <tr>\n",
       "      <th>2523740</th>\n",
       "      <td>2065-12-28</td>\n",
       "      <td>34.341650</td>\n",
       "      <td>Gorongosa_EIB</td>\n",
       "      <td>ssp370</td>\n",
       "      <td>MIROC6</td>\n",
       "      <td>2065</td>\n",
       "      <td>Dec</td>\n",
       "      <td>Humid</td>\n",
       "    </tr>\n",
       "    <tr>\n",
       "      <th>2523741</th>\n",
       "      <td>2065-12-29</td>\n",
       "      <td>34.802549</td>\n",
       "      <td>Gorongosa_EIB</td>\n",
       "      <td>ssp370</td>\n",
       "      <td>MIROC6</td>\n",
       "      <td>2065</td>\n",
       "      <td>Dec</td>\n",
       "      <td>Humid</td>\n",
       "    </tr>\n",
       "    <tr>\n",
       "      <th>2523742</th>\n",
       "      <td>2065-12-30</td>\n",
       "      <td>35.585190</td>\n",
       "      <td>Gorongosa_EIB</td>\n",
       "      <td>ssp370</td>\n",
       "      <td>MIROC6</td>\n",
       "      <td>2065</td>\n",
       "      <td>Dec</td>\n",
       "      <td>Humid</td>\n",
       "    </tr>\n",
       "    <tr>\n",
       "      <th>2523743</th>\n",
       "      <td>2065-12-31</td>\n",
       "      <td>34.115591</td>\n",
       "      <td>Gorongosa_EIB</td>\n",
       "      <td>ssp370</td>\n",
       "      <td>MIROC6</td>\n",
       "      <td>2065</td>\n",
       "      <td>Dec</td>\n",
       "      <td>Humid</td>\n",
       "    </tr>\n",
       "  </tbody>\n",
       "</table>\n",
       "<p>578376 rows × 8 columns</p>\n",
       "</div>"
      ],
      "text/plain": [
       "               Date  Daily Maximum Near-Surface Air Temperature °C  \\\n",
       "1892808  2030-01-01                                      29.825729   \n",
       "1892809  2030-01-02                                      30.163790   \n",
       "1892810  2030-01-03                                      31.931390   \n",
       "1892811  2030-01-04                                      30.706314   \n",
       "1892812  2030-01-05                                      30.480226   \n",
       "...             ...                                            ...   \n",
       "2523739  2065-12-27                                      34.339382   \n",
       "2523740  2065-12-28                                      34.341650   \n",
       "2523741  2065-12-29                                      34.802549   \n",
       "2523742  2065-12-30                                      35.585190   \n",
       "2523743  2065-12-31                                      34.115591   \n",
       "\n",
       "          Name project Experiment       Model  Year Month Season  \n",
       "1892808  Gorongosa_EIB     ssp245  ACCESS-CM2  2030   Jan  Humid  \n",
       "1892809  Gorongosa_EIB     ssp245  ACCESS-CM2  2030   Jan  Humid  \n",
       "1892810  Gorongosa_EIB     ssp245  ACCESS-CM2  2030   Jan  Humid  \n",
       "1892811  Gorongosa_EIB     ssp245  ACCESS-CM2  2030   Jan  Humid  \n",
       "1892812  Gorongosa_EIB     ssp245  ACCESS-CM2  2030   Jan  Humid  \n",
       "...                ...        ...         ...   ...   ...    ...  \n",
       "2523739  Gorongosa_EIB     ssp370      MIROC6  2065   Dec  Humid  \n",
       "2523740  Gorongosa_EIB     ssp370      MIROC6  2065   Dec  Humid  \n",
       "2523741  Gorongosa_EIB     ssp370      MIROC6  2065   Dec  Humid  \n",
       "2523742  Gorongosa_EIB     ssp370      MIROC6  2065   Dec  Humid  \n",
       "2523743  Gorongosa_EIB     ssp370      MIROC6  2065   Dec  Humid  \n",
       "\n",
       "[578376 rows x 8 columns]"
      ]
     },
     "execution_count": 21,
     "metadata": {},
     "output_type": "execute_result"
    }
   ],
   "source": [
    "df_tasmax_BC_NOAA_NEX_GDDP_CMIP6_future_gorongosa"
   ]
  },
  {
   "cell_type": "code",
   "execution_count": null,
   "id": "dcdd377a",
   "metadata": {},
   "outputs": [],
   "source": [
    "Rs = import_treat_modeled_NEX_GDDP_CMIP6('rsds', 'MJ.m-2.day-1','day',1950,2100)"
   ]
  },
  {
   "cell_type": "code",
   "execution_count": null,
   "id": "7d70a74e",
   "metadata": {},
   "outputs": [],
   "source": [
    "Rs_NEX_GDDP_CMIP6_gorongosa#.drop(['Year','Month','Season'],axis=1)"
   ]
  },
  {
   "cell_type": "code",
   "execution_count": null,
   "id": "0c7c66ed",
   "metadata": {},
   "outputs": [],
   "source": [
    "#Rs_NEX_GDDP_CMIP6_gorongosa = treat_data_Gorongosa_model(Rs)"
   ]
  },
  {
   "cell_type": "code",
   "execution_count": null,
   "id": "598aad01",
   "metadata": {},
   "outputs": [],
   "source": [
    "Rs_NEX_GDDP_CMIP6_gorongosa = Rs[Rs['Name project']=='WTP_Mutua_EIB']\n",
    "Rs_NEX_GDDP_CMIP6_gorongosa = Rs_NEX_GDDP_CMIP6_gorongosa[Rs_NEX_GDDP_CMIP6_gorongosa['Model']!='NESM3']\n",
    "Rs_NEX_GDDP_CMIP6_gorongosa = Rs_NEX_GDDP_CMIP6_gorongosa[Rs_NEX_GDDP_CMIP6_gorongosa['Model']!='CMCC-CM2-SR5']\n",
    "Rs_NEX_GDDP_CMIP6_gorongosa = Rs_NEX_GDDP_CMIP6_gorongosa[Rs_NEX_GDDP_CMIP6_gorongosa['Model']!='TaiESM1']"
   ]
  },
  {
   "cell_type": "code",
   "execution_count": null,
   "id": "72d19605",
   "metadata": {},
   "outputs": [],
   "source": [
    "Rs_NEX_GDDP_CMIP6_gorongosa = add_year_month_season(Rs_NEX_GDDP_CMIP6_gorongosa.drop(['Year','Month','Season'],axis=1),'Date')"
   ]
  },
  {
   "cell_type": "code",
   "execution_count": null,
   "id": "6123de56",
   "metadata": {},
   "outputs": [],
   "source": [
    "Rs_NEX_GDDP_CMIP6_past_gorongosa = Rs_NEX_GDDP_CMIP6_gorongosa[Rs_NEX_GDDP_CMIP6_gorongosa['Year'].between(1970,2014)]"
   ]
  },
  {
   "cell_type": "code",
   "execution_count": null,
   "id": "67ed8b45",
   "metadata": {},
   "outputs": [],
   "source": [
    "Rs_NEX_GDDP_CMIP6_future_gorongosa = Rs_NEX_GDDP_CMIP6_gorongosa[Rs_NEX_GDDP_CMIP6_gorongosa['Year'].between(2030,2065)]"
   ]
  },
  {
   "cell_type": "code",
   "execution_count": null,
   "id": "9c7bbe08",
   "metadata": {},
   "outputs": [],
   "source": [
    "Rs_NEX_GDDP_CMIP6_future_gorongosa[['Date']]=Rs_NEX_GDDP_CMIP6_future_gorongosa[['Date']].applymap(change_date_format)"
   ]
  },
  {
   "cell_type": "code",
   "execution_count": null,
   "id": "7bf97626",
   "metadata": {},
   "outputs": [],
   "source": [
    "Rs_NEX_GDDP_CMIP6_future_gorongosa"
   ]
  },
  {
   "cell_type": "code",
   "execution_count": 22,
   "id": "29328dda",
   "metadata": {},
   "outputs": [],
   "source": [
    "RH = import_treat_modeled_NEX_GDDP_CMIP6('hurs', '%','day',1950,2100)"
   ]
  },
  {
   "cell_type": "code",
   "execution_count": 23,
   "id": "f577d09e",
   "metadata": {},
   "outputs": [],
   "source": [
    "RH_NEX_GDDP_CMIP6_gorongosa = treat_data_Gorongosa_model(RH)"
   ]
  },
  {
   "cell_type": "code",
   "execution_count": 24,
   "id": "e488b256",
   "metadata": {},
   "outputs": [],
   "source": [
    "RH_NEX_GDDP_CMIP6_past_gorongosa = RH_NEX_GDDP_CMIP6_gorongosa[RH_NEX_GDDP_CMIP6_gorongosa['Year'].between(1970,2014)]"
   ]
  },
  {
   "cell_type": "code",
   "execution_count": 25,
   "id": "19f2204d",
   "metadata": {},
   "outputs": [],
   "source": [
    "RH_NEX_GDDP_CMIP6_future_gorongosa = RH_NEX_GDDP_CMIP6_gorongosa[RH_NEX_GDDP_CMIP6_gorongosa['Year'].between(2030,2065)]"
   ]
  },
  {
   "cell_type": "code",
   "execution_count": 26,
   "id": "976fd18a",
   "metadata": {},
   "outputs": [
    {
     "name": "stderr",
     "output_type": "stream",
     "text": [
      "C:\\Users\\CLMRX\\AppData\\Local\\Temp\\1\\ipykernel_10252\\1867960232.py:1: SettingWithCopyWarning: \n",
      "A value is trying to be set on a copy of a slice from a DataFrame.\n",
      "Try using .loc[row_indexer,col_indexer] = value instead\n",
      "\n",
      "See the caveats in the documentation: https://pandas.pydata.org/pandas-docs/stable/user_guide/indexing.html#returning-a-view-versus-a-copy\n",
      "  RH_NEX_GDDP_CMIP6_future_gorongosa[['Date']]=RH_NEX_GDDP_CMIP6_future_gorongosa[['Date']].applymap(change_date_format)\n"
     ]
    }
   ],
   "source": [
    "RH_NEX_GDDP_CMIP6_future_gorongosa[['Date']]=RH_NEX_GDDP_CMIP6_future_gorongosa[['Date']].applymap(change_date_format)"
   ]
  },
  {
   "cell_type": "code",
   "execution_count": 27,
   "id": "2ecf77ff",
   "metadata": {},
   "outputs": [],
   "source": [
    "Wind_10 = import_treat_modeled_NEX_GDDP_CMIP6('sfcWind', 'm_s-1','day',1950,2100)"
   ]
  },
  {
   "cell_type": "code",
   "execution_count": 28,
   "id": "2c301de4",
   "metadata": {},
   "outputs": [],
   "source": [
    "def convert_wind_height(U,z=10): # 10 is the distance above the ground where the wind was measured\n",
    "    U_2 = U*(4.87/(np.log((67.8*z)-5.42)))\n",
    "    return U_2"
   ]
  },
  {
   "cell_type": "code",
   "execution_count": 29,
   "id": "f95286d8",
   "metadata": {},
   "outputs": [],
   "source": [
    "Wind_2 = Wind_10.copy(deep=True) # convert wind to have at the height of 2"
   ]
  },
  {
   "cell_type": "code",
   "execution_count": 30,
   "id": "a11b3da8",
   "metadata": {},
   "outputs": [],
   "source": [
    "Wind_2[['Daily-Mean Near-Surface Wind Speed m_s-1']]=Wind_10[['Daily-Mean Near-Surface Wind Speed m_s-1']].applymap(convert_wind_height)"
   ]
  },
  {
   "cell_type": "code",
   "execution_count": 31,
   "id": "63a837ce",
   "metadata": {},
   "outputs": [],
   "source": [
    "Wind_2_NEX_GDDP_CMIP6_gorongosa = treat_data_Gorongosa_model(Wind_2)"
   ]
  },
  {
   "cell_type": "code",
   "execution_count": 32,
   "id": "e5d32b77",
   "metadata": {},
   "outputs": [],
   "source": [
    "Wind_2_NEX_GDDP_CMIP6_past_gorongosa = Wind_2_NEX_GDDP_CMIP6_gorongosa[Wind_2_NEX_GDDP_CMIP6_gorongosa['Year'].between(1970,2014)]"
   ]
  },
  {
   "cell_type": "code",
   "execution_count": 33,
   "id": "9db16c8c",
   "metadata": {},
   "outputs": [],
   "source": [
    "Wind_2_NEX_GDDP_CMIP6_future_gorongosa = Wind_2_NEX_GDDP_CMIP6_gorongosa[Wind_2_NEX_GDDP_CMIP6_gorongosa['Year'].between(2030,2065)]"
   ]
  },
  {
   "cell_type": "code",
   "execution_count": 34,
   "id": "c100c1cb",
   "metadata": {},
   "outputs": [
    {
     "name": "stderr",
     "output_type": "stream",
     "text": [
      "C:\\Users\\CLMRX\\AppData\\Local\\Temp\\1\\ipykernel_10252\\3332290068.py:1: SettingWithCopyWarning: \n",
      "A value is trying to be set on a copy of a slice from a DataFrame.\n",
      "Try using .loc[row_indexer,col_indexer] = value instead\n",
      "\n",
      "See the caveats in the documentation: https://pandas.pydata.org/pandas-docs/stable/user_guide/indexing.html#returning-a-view-versus-a-copy\n",
      "  Wind_2_NEX_GDDP_CMIP6_future_gorongosa[['Date']]=Wind_2_NEX_GDDP_CMIP6_future_gorongosa[['Date']].applymap(change_date_format)\n"
     ]
    }
   ],
   "source": [
    "Wind_2_NEX_GDDP_CMIP6_future_gorongosa[['Date']]=Wind_2_NEX_GDDP_CMIP6_future_gorongosa[['Date']].applymap(change_date_format)"
   ]
  },
  {
   "cell_type": "code",
   "execution_count": 35,
   "id": "97428118",
   "metadata": {},
   "outputs": [
    {
     "data": {
      "text/html": [
       "<div>\n",
       "<style scoped>\n",
       "    .dataframe tbody tr th:only-of-type {\n",
       "        vertical-align: middle;\n",
       "    }\n",
       "\n",
       "    .dataframe tbody tr th {\n",
       "        vertical-align: top;\n",
       "    }\n",
       "\n",
       "    .dataframe thead th {\n",
       "        text-align: right;\n",
       "    }\n",
       "</style>\n",
       "<table border=\"1\" class=\"dataframe\">\n",
       "  <thead>\n",
       "    <tr style=\"text-align: right;\">\n",
       "      <th></th>\n",
       "      <th>Name project</th>\n",
       "      <th>Experiment</th>\n",
       "      <th>Model</th>\n",
       "      <th>Latitude</th>\n",
       "      <th>Longitude</th>\n",
       "      <th>Date</th>\n",
       "      <th>Daily-Mean Near-Surface Wind Speed m_s-1</th>\n",
       "      <th>Year</th>\n",
       "      <th>Month</th>\n",
       "      <th>Season</th>\n",
       "    </tr>\n",
       "  </thead>\n",
       "  <tbody>\n",
       "    <tr>\n",
       "      <th>2602369</th>\n",
       "      <td>Gorongosa_EIB</td>\n",
       "      <td>ssp245</td>\n",
       "      <td>ACCESS-CM2</td>\n",
       "      <td>-18.625</td>\n",
       "      <td>34.125</td>\n",
       "      <td>2030-01-01</td>\n",
       "      <td>1.290142</td>\n",
       "      <td>2030</td>\n",
       "      <td>Jan</td>\n",
       "      <td>Humid</td>\n",
       "    </tr>\n",
       "    <tr>\n",
       "      <th>2602370</th>\n",
       "      <td>Gorongosa_EIB</td>\n",
       "      <td>ssp245</td>\n",
       "      <td>ACCESS-CM2</td>\n",
       "      <td>-18.625</td>\n",
       "      <td>34.125</td>\n",
       "      <td>2030-01-02</td>\n",
       "      <td>1.406987</td>\n",
       "      <td>2030</td>\n",
       "      <td>Jan</td>\n",
       "      <td>Humid</td>\n",
       "    </tr>\n",
       "    <tr>\n",
       "      <th>2602371</th>\n",
       "      <td>Gorongosa_EIB</td>\n",
       "      <td>ssp245</td>\n",
       "      <td>ACCESS-CM2</td>\n",
       "      <td>-18.625</td>\n",
       "      <td>34.125</td>\n",
       "      <td>2030-01-03</td>\n",
       "      <td>1.158303</td>\n",
       "      <td>2030</td>\n",
       "      <td>Jan</td>\n",
       "      <td>Humid</td>\n",
       "    </tr>\n",
       "    <tr>\n",
       "      <th>2602372</th>\n",
       "      <td>Gorongosa_EIB</td>\n",
       "      <td>ssp245</td>\n",
       "      <td>ACCESS-CM2</td>\n",
       "      <td>-18.625</td>\n",
       "      <td>34.125</td>\n",
       "      <td>2030-01-04</td>\n",
       "      <td>1.720645</td>\n",
       "      <td>2030</td>\n",
       "      <td>Jan</td>\n",
       "      <td>Humid</td>\n",
       "    </tr>\n",
       "    <tr>\n",
       "      <th>2602373</th>\n",
       "      <td>Gorongosa_EIB</td>\n",
       "      <td>ssp245</td>\n",
       "      <td>ACCESS-CM2</td>\n",
       "      <td>-18.625</td>\n",
       "      <td>34.125</td>\n",
       "      <td>2030-01-05</td>\n",
       "      <td>1.945903</td>\n",
       "      <td>2030</td>\n",
       "      <td>Jan</td>\n",
       "      <td>Humid</td>\n",
       "    </tr>\n",
       "    <tr>\n",
       "      <th>...</th>\n",
       "      <td>...</td>\n",
       "      <td>...</td>\n",
       "      <td>...</td>\n",
       "      <td>...</td>\n",
       "      <td>...</td>\n",
       "      <td>...</td>\n",
       "      <td>...</td>\n",
       "      <td>...</td>\n",
       "      <td>...</td>\n",
       "      <td>...</td>\n",
       "    </tr>\n",
       "    <tr>\n",
       "      <th>4437351</th>\n",
       "      <td>Gorongosa_EIB</td>\n",
       "      <td>ssp370</td>\n",
       "      <td>NorESM2-MM</td>\n",
       "      <td>-18.625</td>\n",
       "      <td>34.125</td>\n",
       "      <td>2065-12-27</td>\n",
       "      <td>NaN</td>\n",
       "      <td>2065</td>\n",
       "      <td>Dec</td>\n",
       "      <td>Humid</td>\n",
       "    </tr>\n",
       "    <tr>\n",
       "      <th>4437352</th>\n",
       "      <td>Gorongosa_EIB</td>\n",
       "      <td>ssp370</td>\n",
       "      <td>NorESM2-MM</td>\n",
       "      <td>-18.625</td>\n",
       "      <td>34.125</td>\n",
       "      <td>2065-12-28</td>\n",
       "      <td>NaN</td>\n",
       "      <td>2065</td>\n",
       "      <td>Dec</td>\n",
       "      <td>Humid</td>\n",
       "    </tr>\n",
       "    <tr>\n",
       "      <th>4437353</th>\n",
       "      <td>Gorongosa_EIB</td>\n",
       "      <td>ssp370</td>\n",
       "      <td>NorESM2-MM</td>\n",
       "      <td>-18.625</td>\n",
       "      <td>34.125</td>\n",
       "      <td>2065-12-29</td>\n",
       "      <td>NaN</td>\n",
       "      <td>2065</td>\n",
       "      <td>Dec</td>\n",
       "      <td>Humid</td>\n",
       "    </tr>\n",
       "    <tr>\n",
       "      <th>4437354</th>\n",
       "      <td>Gorongosa_EIB</td>\n",
       "      <td>ssp370</td>\n",
       "      <td>NorESM2-MM</td>\n",
       "      <td>-18.625</td>\n",
       "      <td>34.125</td>\n",
       "      <td>2065-12-30</td>\n",
       "      <td>NaN</td>\n",
       "      <td>2065</td>\n",
       "      <td>Dec</td>\n",
       "      <td>Humid</td>\n",
       "    </tr>\n",
       "    <tr>\n",
       "      <th>4437355</th>\n",
       "      <td>Gorongosa_EIB</td>\n",
       "      <td>ssp370</td>\n",
       "      <td>NorESM2-MM</td>\n",
       "      <td>-18.625</td>\n",
       "      <td>34.125</td>\n",
       "      <td>2065-12-31</td>\n",
       "      <td>NaN</td>\n",
       "      <td>2065</td>\n",
       "      <td>Dec</td>\n",
       "      <td>Humid</td>\n",
       "    </tr>\n",
       "  </tbody>\n",
       "</table>\n",
       "<p>631152 rows × 10 columns</p>\n",
       "</div>"
      ],
      "text/plain": [
       "          Name project Experiment       Model  Latitude  Longitude  \\\n",
       "2602369  Gorongosa_EIB     ssp245  ACCESS-CM2   -18.625     34.125   \n",
       "2602370  Gorongosa_EIB     ssp245  ACCESS-CM2   -18.625     34.125   \n",
       "2602371  Gorongosa_EIB     ssp245  ACCESS-CM2   -18.625     34.125   \n",
       "2602372  Gorongosa_EIB     ssp245  ACCESS-CM2   -18.625     34.125   \n",
       "2602373  Gorongosa_EIB     ssp245  ACCESS-CM2   -18.625     34.125   \n",
       "...                ...        ...         ...       ...        ...   \n",
       "4437351  Gorongosa_EIB     ssp370  NorESM2-MM   -18.625     34.125   \n",
       "4437352  Gorongosa_EIB     ssp370  NorESM2-MM   -18.625     34.125   \n",
       "4437353  Gorongosa_EIB     ssp370  NorESM2-MM   -18.625     34.125   \n",
       "4437354  Gorongosa_EIB     ssp370  NorESM2-MM   -18.625     34.125   \n",
       "4437355  Gorongosa_EIB     ssp370  NorESM2-MM   -18.625     34.125   \n",
       "\n",
       "               Date  Daily-Mean Near-Surface Wind Speed m_s-1  Year Month  \\\n",
       "2602369  2030-01-01                                  1.290142  2030   Jan   \n",
       "2602370  2030-01-02                                  1.406987  2030   Jan   \n",
       "2602371  2030-01-03                                  1.158303  2030   Jan   \n",
       "2602372  2030-01-04                                  1.720645  2030   Jan   \n",
       "2602373  2030-01-05                                  1.945903  2030   Jan   \n",
       "...             ...                                       ...   ...   ...   \n",
       "4437351  2065-12-27                                       NaN  2065   Dec   \n",
       "4437352  2065-12-28                                       NaN  2065   Dec   \n",
       "4437353  2065-12-29                                       NaN  2065   Dec   \n",
       "4437354  2065-12-30                                       NaN  2065   Dec   \n",
       "4437355  2065-12-31                                       NaN  2065   Dec   \n",
       "\n",
       "        Season  \n",
       "2602369  Humid  \n",
       "2602370  Humid  \n",
       "2602371  Humid  \n",
       "2602372  Humid  \n",
       "2602373  Humid  \n",
       "...        ...  \n",
       "4437351  Humid  \n",
       "4437352  Humid  \n",
       "4437353  Humid  \n",
       "4437354  Humid  \n",
       "4437355  Humid  \n",
       "\n",
       "[631152 rows x 10 columns]"
      ]
     },
     "execution_count": 35,
     "metadata": {},
     "output_type": "execute_result"
    }
   ],
   "source": [
    "Wind_2_NEX_GDDP_CMIP6_future_gorongosa"
   ]
  },
  {
   "cell_type": "markdown",
   "id": "e8da4f0e",
   "metadata": {},
   "source": [
    "### Data to calculate the PET"
   ]
  },
  {
   "cell_type": "markdown",
   "id": "747b8733",
   "metadata": {},
   "source": [
    "### Precipitation data"
   ]
  },
  {
   "cell_type": "markdown",
   "id": "97ba1238",
   "metadata": {},
   "source": [
    "##  Dataframe to record the PET\n",
    "Duplicate the one with pr, put nan in it.\n",
    "Need to take in account changing month and lat"
   ]
  },
  {
   "cell_type": "code",
   "execution_count": null,
   "id": "292e4dd5",
   "metadata": {},
   "outputs": [],
   "source": [
    "# future"
   ]
  },
  {
   "cell_type": "code",
   "execution_count": 36,
   "id": "0adaa98f",
   "metadata": {},
   "outputs": [],
   "source": [
    "PET_future_gorongosa = df_pr_BC_NOAA_NEX_GDDP_CMIP6_future_gorongosa.copy(deep=True)"
   ]
  },
  {
   "cell_type": "code",
   "execution_count": 37,
   "id": "6a8c79c0",
   "metadata": {},
   "outputs": [],
   "source": [
    "PET_future_gorongosa.rename(columns={'Mean of the daily precipitation rate mm_per_day':'Potential evapotranspiration kg_m2_day-1'},inplace=True)"
   ]
  },
  {
   "cell_type": "code",
   "execution_count": 38,
   "id": "e355a269",
   "metadata": {},
   "outputs": [],
   "source": [
    "PET_future_gorongosa[['Potential evapotranspiration kg_m2_day-1']] = np.nan"
   ]
  },
  {
   "cell_type": "code",
   "execution_count": 39,
   "id": "ded63573",
   "metadata": {},
   "outputs": [],
   "source": [
    "date = '2030-01-01'\n",
    "model = 'MRI-ESM2-0'\n",
    "ssp='ssp245'"
   ]
  },
  {
   "cell_type": "code",
   "execution_count": null,
   "id": "1c7a4da6",
   "metadata": {},
   "outputs": [],
   "source": [
    "PET_future_gorongosa.loc[(PET_future_gorongosa['Date']==date)&(PET_future_gorongosa['Model']==model)&(PET_future_gorongosa['Experiment']==ssp),'Potential evapotranspiration kg_m2_day-1'] = np.nan"
   ]
  },
  {
   "cell_type": "code",
   "execution_count": null,
   "id": "e7ed9526",
   "metadata": {},
   "outputs": [],
   "source": [
    "PET_future_gorongosa.loc[(PET_future_gorongosa['Date']==date)&(PET_future_gorongosa['Model']==model)&(PET_future_gorongosa['Experiment']==ssp),'Potential evapotranspiration kg_m2_day-1'] "
   ]
  },
  {
   "cell_type": "code",
   "execution_count": null,
   "id": "f7499bf3",
   "metadata": {},
   "outputs": [],
   "source": [
    "PET_future_gorongosa"
   ]
  },
  {
   "cell_type": "code",
   "execution_count": null,
   "id": "8b5c773a",
   "metadata": {},
   "outputs": [],
   "source": [
    "PET_future_gorongosa"
   ]
  },
  {
   "cell_type": "code",
   "execution_count": 40,
   "id": "7351fb46",
   "metadata": {},
   "outputs": [],
   "source": [
    "lat = -18.680637 # latitude of the project 'Gorongosa_EIB'\n",
    "z_station_elevation = 383 # 383 is the elevation above sea level [m] of Gorongosa"
   ]
  },
  {
   "cell_type": "code",
   "execution_count": null,
   "id": "6e9e5312",
   "metadata": {},
   "outputs": [],
   "source": [
    "for ssp in list(set(PET_future_gorongosa['Experiment'])):\n",
    "    for model in list(set(PET_future_gorongosa['Model'])):\n",
    "        for date in list(set(PET_future_gorongosa['Date'])):\n",
    "            # what are the values of the parameters for the ssp, model and date precised ?\n",
    "            T = df_tas_BC_NOAA_NEX_GDDP_CMIP6_future_gorongosa.loc[(df_tas_BC_NOAA_NEX_GDDP_CMIP6_future_gorongosa['Date']==date)&(df_tas_BC_NOAA_NEX_GDDP_CMIP6_future_gorongosa['Model']==model)&(df_tas_BC_NOAA_NEX_GDDP_CMIP6_future_gorongosa['Experiment']==ssp),'Daily Near-Surface Air Temperature °C'].values\n",
    "            T_max = df_tasmax_BC_NOAA_NEX_GDDP_CMIP6_future_gorongosa.loc[(df_tasmax_BC_NOAA_NEX_GDDP_CMIP6_future_gorongosa['Date']==date)&(df_tasmax_BC_NOAA_NEX_GDDP_CMIP6_future_gorongosa['Model']==model)&(df_tasmax_BC_NOAA_NEX_GDDP_CMIP6_future_gorongosa['Experiment']==ssp),'Daily Near-Surface Air Temperature °C'].values\n",
    "            T_min = df_tasmin_BC_NOAA_NEX_GDDP_CMIP6_future_gorongosa.loc[(df_tasmin_BC_NOAA_NEX_GDDP_CMIP6_future_gorongosa['Date']==date)&(df_tasmin_BC_NOAA_NEX_GDDP_CMIP6_future_gorongosa['Model']==model)&(df_tasmin_BC_NOAA_NEX_GDDP_CMIP6_future_gorongosa['Experiment']==ssp),'Daily Near-Surface Air Temperature °C'].values\n",
    "            Rs_ = Rs_NEX_GDDP_CMIP6_future_gorongosa.loc[(Rs_NEX_GDDP_CMIP6_future_gorongosa['Date']==date)&(Rs_NEX_GDDP_CMIP6_future_gorongosa['Model']==model)&(Rs_NEX_GDDP_CMIP6_future_gorongosa['Experiment']==ssp),'Daily Near-Surface Air Temperature °C'].values\n",
    "            RH_mean = RH_NEX_GDDP_CMIP6_future_gorongosa.loc[(RH_NEX_GDDP_CMIP6_future_gorongosa['Date']==date)&(RH_NEX_GDDP_CMIP6_future_gorongosa['Model']==model)&(RH_NEX_GDDP_CMIP6_future_gorongosa['Experiment']==ssp),'Daily Near-Surface Air Temperature °C'].values\n",
    "            U_2 = Wind_2_NEX_GDDP_CMIP6_future_gorongosa.loc[(Wind_2_NEX_GDDP_CMIP6_future_gorongosa['Date']==date)&(Wind_2_NEX_GDDP_CMIP6_future_gorongosa['Model']==model)&(Wind_2_NEX_GDDP_CMIP6_future_gorongosa['Experiment']==ssp),'Daily Near-Surface Air Temperature °C'].values\n",
    "            \n",
    "            month = df_tas_BC_NOAA_NEX_GDDP_CMIP6_future_gorongosa.at[df_tas_BC_NOAA_NEX_GDDP_CMIP6_future_gorongosa[(df_tas_BC_NOAA_NEX_GDDP_CMIP6_future_gorongosa['Date']==date)&(df_tas_BC_NOAA_NEX_GDDP_CMIP6_future_gorongosa['Model']==model)&(df_tas_BC_NOAA_NEX_GDDP_CMIP6_future_gorongosa['Experiment']==ssp)].index[0],'Month']            \n",
    "            # calculate value of PET\n",
    "            PET(T,T_max,T_min,Rs_,RH_mean,U_2,z_station_elevation,lat,month)"
   ]
  },
  {
   "cell_type": "code",
   "execution_count": null,
   "id": "aabda31f",
   "metadata": {},
   "outputs": [],
   "source": [
    "list(set(PET_future_gorongosa['Date']))"
   ]
  },
  {
   "cell_type": "code",
   "execution_count": null,
   "id": "16498d36",
   "metadata": {},
   "outputs": [],
   "source": [
    "Wind_2_NEX_GDDP_CMIP6_future_gorongosa"
   ]
  },
  {
   "cell_type": "code",
   "execution_count": null,
   "id": "39a1b64e",
   "metadata": {},
   "outputs": [],
   "source": [
    "T = df_tas_BC_NOAA_NEX_GDDP_CMIP6_future_gorongosa.loc[(df_tas_BC_NOAA_NEX_GDDP_CMIP6_future_gorongosa['Date']==date)&(df_tas_BC_NOAA_NEX_GDDP_CMIP6_future_gorongosa['Model']==model)&(df_tas_BC_NOAA_NEX_GDDP_CMIP6_future_gorongosa['Experiment']==ssp),'Daily Near-Surface Air Temperature °C'].values\n",
    "            # calculate value of PET"
   ]
  },
  {
   "cell_type": "code",
   "execution_count": null,
   "id": "8536cba0",
   "metadata": {},
   "outputs": [],
   "source": [
    "df_tasmin_BC_NOAA_NEX_GDDP_CMIP6_future_gorongosa"
   ]
  },
  {
   "cell_type": "code",
   "execution_count": 45,
   "id": "0b8a9c40",
   "metadata": {},
   "outputs": [],
   "source": [
    "T = df_tas_BC_NOAA_NEX_GDDP_CMIP6_future_gorongosa.loc[df_tas_BC_NOAA_NEX_GDDP_CMIP6_future_gorongosa[(df_tas_BC_NOAA_NEX_GDDP_CMIP6_future_gorongosa['Date']==date)&(df_tas_BC_NOAA_NEX_GDDP_CMIP6_future_gorongosa['Model']==model)&(df_tas_BC_NOAA_NEX_GDDP_CMIP6_future_gorongosa['Experiment']==ssp)].index[0],'Daily Near-Surface Air Temperature °C']\n",
    "T_max = df_tasmax_BC_NOAA_NEX_GDDP_CMIP6_future_gorongosa.loc[df_tasmax_BC_NOAA_NEX_GDDP_CMIP6_future_gorongosa[(df_tasmax_BC_NOAA_NEX_GDDP_CMIP6_future_gorongosa['Date']==date)&(df_tasmax_BC_NOAA_NEX_GDDP_CMIP6_future_gorongosa['Model']==model)&(df_tasmax_BC_NOAA_NEX_GDDP_CMIP6_future_gorongosa['Experiment']==ssp)].index[0],'Daily Maximum Near-Surface Air Temperature °C']\n",
    "T_min = df_tasmin_BC_NOAA_NEX_GDDP_CMIP6_future_gorongosa.loc[df_tasmin_BC_NOAA_NEX_GDDP_CMIP6_future_gorongosa[(df_tasmin_BC_NOAA_NEX_GDDP_CMIP6_future_gorongosa['Date']==date)&(df_tasmin_BC_NOAA_NEX_GDDP_CMIP6_future_gorongosa['Model']==model)&(df_tasmin_BC_NOAA_NEX_GDDP_CMIP6_future_gorongosa['Experiment']==ssp)].index[0],'Daily Minimum Near-Surface Air Temperature °C']\n",
    "#Rs_ = Rs_NEX_GDDP_CMIP6_future_gorongosa.loc[Rs_NEX_GDDP_CMIP6_future_gorongosa[(Rs_NEX_GDDP_CMIP6_future_gorongosa['Date']==date)&(Rs_NEX_GDDP_CMIP6_future_gorongosa['Model']==model)&(Rs_NEX_GDDP_CMIP6_future_gorongosa['Experiment']==ssp)].index[0],'Daily-Mean Near-Surface Wind Speed MJ.m-2.day-1']\n",
    "RH_mean = RH_NEX_GDDP_CMIP6_future_gorongosa.loc[RH_NEX_GDDP_CMIP6_future_gorongosa[(RH_NEX_GDDP_CMIP6_future_gorongosa['Date']==date)&(RH_NEX_GDDP_CMIP6_future_gorongosa['Model']==model)&(RH_NEX_GDDP_CMIP6_future_gorongosa['Experiment']==ssp)].index[0],'Near-Surface Relative Humidity %']\n",
    "U_2 = Wind_2_NEX_GDDP_CMIP6_future_gorongosa.loc[Wind_2_NEX_GDDP_CMIP6_future_gorongosa[(Wind_2_NEX_GDDP_CMIP6_future_gorongosa['Date']==date)&(Wind_2_NEX_GDDP_CMIP6_future_gorongosa['Model']==model)&(Wind_2_NEX_GDDP_CMIP6_future_gorongosa['Experiment']==ssp)].index[0],'Daily-Mean Near-Surface Wind Speed m_s-1']\n",
    "Rs_ = 28"
   ]
  },
  {
   "cell_type": "code",
   "execution_count": null,
   "id": "da2c31ec",
   "metadata": {},
   "outputs": [],
   "source": [
    "Rs_NEX_GDDP_CMIP6_future_gorongosa"
   ]
  },
  {
   "cell_type": "code",
   "execution_count": null,
   "id": "1b52af81",
   "metadata": {},
   "outputs": [],
   "source": [
    "df_tasmin_BC_NOAA_NEX_GDDP_CMIP6_future_gorongosa[(df_tasmin_BC_NOAA_NEX_GDDP_CMIP6_future_gorongosa['Date']==date)&(df_tasmin_BC_NOAA_NEX_GDDP_CMIP6_future_gorongosa['Model']==model)&(df_tasmin_BC_NOAA_NEX_GDDP_CMIP6_future_gorongosa['Experiment']==ssp)]#.index[0]"
   ]
  },
  {
   "cell_type": "code",
   "execution_count": null,
   "id": "9b85edba",
   "metadata": {},
   "outputs": [],
   "source": [
    "df_tasmin_BC_NOAA_NEX_GDDP_CMIP6_future_gorongosa"
   ]
  },
  {
   "cell_type": "code",
   "execution_count": null,
   "id": "ef71c172",
   "metadata": {},
   "outputs": [],
   "source": [
    "df_tas_BC_NOAA_NEX_GDDP_CMIP6_future_gorongosa[(df_tas_BC_NOAA_NEX_GDDP_CMIP6_future_gorongosa['Date']==date)&(df_tas_BC_NOAA_NEX_GDDP_CMIP6_future_gorongosa['Model']==model)&(df_tas_BC_NOAA_NEX_GDDP_CMIP6_future_gorongosa['Experiment']==ssp)].index[0]"
   ]
  },
  {
   "cell_type": "code",
   "execution_count": 42,
   "id": "e785f233",
   "metadata": {},
   "outputs": [],
   "source": [
    "month = df_tas_BC_NOAA_NEX_GDDP_CMIP6_future_gorongosa.at[df_tas_BC_NOAA_NEX_GDDP_CMIP6_future_gorongosa[(df_tas_BC_NOAA_NEX_GDDP_CMIP6_future_gorongosa['Date']==date)&(df_tas_BC_NOAA_NEX_GDDP_CMIP6_future_gorongosa['Model']==model)&(df_tas_BC_NOAA_NEX_GDDP_CMIP6_future_gorongosa['Experiment']==ssp)].index[0],'Month']"
   ]
  },
  {
   "cell_type": "code",
   "execution_count": 43,
   "id": "ca6b6f0d",
   "metadata": {},
   "outputs": [
    {
     "data": {
      "text/plain": [
       "'Jan'"
      ]
     },
     "execution_count": 43,
     "metadata": {},
     "output_type": "execute_result"
    }
   ],
   "source": [
    "month"
   ]
  },
  {
   "cell_type": "code",
   "execution_count": 46,
   "id": "a920fe08",
   "metadata": {},
   "outputs": [
    {
     "name": "stdout",
     "output_type": "stream",
     "text": [
      "_delta 0.23049569770246406\n",
      "R_n 27.019999861066562\n",
      "_gamma 0.06728080497555754\n",
      "U_2 1.0347380481637687\n",
      "RH_mean 77.4313735961914\n",
      "_lambda 2.4327301832304036\n"
     ]
    },
    {
     "data": {
      "text/plain": [
       "9.41739581822332"
      ]
     },
     "execution_count": 46,
     "metadata": {},
     "output_type": "execute_result"
    }
   ],
   "source": [
    "PET(T,T_max,T_min,Rs_,RH_mean,U_2,z_station_elevation,lat,month)"
   ]
  },
  {
   "cell_type": "markdown",
   "id": "e9f5ad4b",
   "metadata": {},
   "source": [
    "## Calculate Net Precipitation\n",
    "duplicate Pr, put Nan in it, rename column\n",
    "do a loop going in each ssp and model for Pr and E and register value."
   ]
  },
  {
   "cell_type": "code",
   "execution_count": null,
   "id": "19df8de3",
   "metadata": {},
   "outputs": [],
   "source": []
  },
  {
   "cell_type": "markdown",
   "id": "2878f693",
   "metadata": {},
   "source": [
    "## Number of consecutive days with Net Pr positive\n",
    "\n",
    "go through each ssp, model\n",
    "need to initialize with a value, look if next one are also positive\n",
    "when meet a negative one, append number of consecutive days to a list"
   ]
  },
  {
   "cell_type": "code",
   "execution_count": null,
   "id": "11623ef6",
   "metadata": {},
   "outputs": [],
   "source": [
    "# IN THE END, HAVE A list with numbers inside\n",
    "# could be nice to have numbers per month, period over it is occuring"
   ]
  }
 ],
 "metadata": {
  "kernelspec": {
   "display_name": "Python 3 (ipykernel)",
   "language": "python",
   "name": "python3"
  },
  "language_info": {
   "codemirror_mode": {
    "name": "ipython",
    "version": 3
   },
   "file_extension": ".py",
   "mimetype": "text/x-python",
   "name": "python",
   "nbconvert_exporter": "python",
   "pygments_lexer": "ipython3",
   "version": "3.10.6"
  }
 },
 "nbformat": 4,
 "nbformat_minor": 5
}
