{
 "cells": [
  {
   "cell_type": "code",
   "execution_count": 2,
   "id": "0bfd5959",
   "metadata": {},
   "outputs": [],
   "source": [
    "from Functions_ImportData import import_treat_modeled_NEX_GDDP_CMIP6\n",
    "from Functions_ImportData import import_BC_NOAA_NEX_GDDP_CMIP6\n",
    "from Functions_ImportData import import_BC_Gorongosa_NEX_GDDP_CMIP6\n",
    "\n",
    "from Potential_evapostranspiration_function import PET"
   ]
  },
  {
   "cell_type": "markdown",
   "id": "a23b87b3",
   "metadata": {},
   "source": [
    "Objectif: find the number of cumulative days per year with positive net precipitation (Pr - E)"
   ]
  },
  {
   "cell_type": "markdown",
   "id": "f4e66560",
   "metadata": {},
   "source": [
    "# Evapotranspiration at Gorongosa"
   ]
  },
  {
   "cell_type": "markdown",
   "id": "e19b21e4",
   "metadata": {},
   "source": [
    "#### needed parameters\n",
    "\n",
    "Air temperature in degrees, normal, max and min\n",
    "\n",
    "Downwelling short Rs in MJ/(m^2.day)\n",
    "\n",
    "For calculation of Rnl (net longwave radiaiton, used for calculation of net radiation), need to know lat and month for the calculation to calculate Ra\n",
    "\n",
    "Wind at 2 m [m/s], height where measurement taken is approx 10 m\n",
    "\n",
    "Mean relative humidity in %"
   ]
  },
  {
   "cell_type": "markdown",
   "id": "52c6eb0c",
   "metadata": {},
   "source": [
    "## Import data\n",
    "Pr, temperature data will be bias corrected. \n",
    "Rs, RH, Wind are not bias corrected"
   ]
  },
  {
   "cell_type": "markdown",
   "id": "d80d31b4",
   "metadata": {},
   "source": [
    "### Data to calculate the PET"
   ]
  },
  {
   "cell_type": "markdown",
   "id": "de473b7a",
   "metadata": {},
   "source": [
    "### Precipitation data"
   ]
  },
  {
   "cell_type": "markdown",
   "id": "17dfbd3a",
   "metadata": {},
   "source": [
    "##  Dataframe to record the PET\n",
    "Duplicate the one with pr, put nan in it.\n",
    "Need to take in account changing month and lat"
   ]
  },
  {
   "cell_type": "code",
   "execution_count": null,
   "id": "e1a1ccf6",
   "metadata": {},
   "outputs": [],
   "source": [
    "Wind needs to be at 2 m, but modelled at 10"
   ]
  },
  {
   "cell_type": "code",
   "execution_count": null,
   "id": "50843f3e",
   "metadata": {},
   "outputs": [],
   "source": [
    "PET(T,T_max,T_min,Rs,RH_mean,U_z,z_station_elevation,lat,month)"
   ]
  },
  {
   "cell_type": "markdown",
   "id": "e73b2a87",
   "metadata": {},
   "source": [
    "## Calculate Net Precipitation\n",
    "duplicate Pr, put Nan in it, rename column\n",
    "do a loop going in each ssp and model for Pr and E and register value."
   ]
  },
  {
   "cell_type": "code",
   "execution_count": null,
   "id": "93316902",
   "metadata": {},
   "outputs": [],
   "source": []
  },
  {
   "cell_type": "markdown",
   "id": "c47fcfb9",
   "metadata": {},
   "source": [
    "## Number of consecutive days with Net Pr positive\n",
    "\n",
    "go through each ssp, model\n",
    "need to initialize with a value, look if next one are also positive\n",
    "when meet a negative one, append number of consecutive days to a list"
   ]
  },
  {
   "cell_type": "code",
   "execution_count": null,
   "id": "af498334",
   "metadata": {},
   "outputs": [],
   "source": [
    "# IN THE END, HAVE A list with numbers inside\n",
    "# could be nice to have numbers per month, period over it is occuring"
   ]
  }
 ],
 "metadata": {
  "kernelspec": {
   "display_name": "Python 3 (ipykernel)",
   "language": "python",
   "name": "python3"
  },
  "language_info": {
   "codemirror_mode": {
    "name": "ipython",
    "version": 3
   },
   "file_extension": ".py",
   "mimetype": "text/x-python",
   "name": "python",
   "nbconvert_exporter": "python",
   "pygments_lexer": "ipython3",
   "version": "3.10.6"
  }
 },
 "nbformat": 4,
 "nbformat_minor": 5
}
