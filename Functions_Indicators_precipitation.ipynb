{
 "cells": [
  {
   "cell_type": "markdown",
   "id": "ebaef011",
   "metadata": {},
   "source": [
    "This notebook aims to contain all functions for indicators."
   ]
  },
  {
   "cell_type": "code",
   "execution_count": 1,
   "id": "fcba406d",
   "metadata": {},
   "outputs": [],
   "source": [
    "from scipy import stats\n",
    "import pandas as pd\n",
    "from matplotlib import pyplot as plt\n",
    "import numpy as np\n",
    "from scipy.stats import gumbel_r\n",
    "from scipy.stats import gumbel_l\n",
    "import os\n",
    "import os.path\n",
    "import math"
   ]
  },
  {
   "cell_type": "markdown",
   "id": "387b3b6c",
   "metadata": {},
   "source": [
    "# Precipitation"
   ]
  },
  {
   "cell_type": "code",
   "execution_count": 2,
   "id": "db015289",
   "metadata": {},
   "outputs": [],
   "source": [
    "# import data"
   ]
  },
  {
   "cell_type": "code",
   "execution_count": 3,
   "id": "6155f1fb",
   "metadata": {},
   "outputs": [],
   "source": [
    "out_path = r'\\\\COWI.net\\projects\\A245000\\A248363\\CRVA\\Datasets\\NEX-GDDP-CMIP6'\n",
    "csv_path = os.path.join(out_path,'csv_file','pr_day_2021-2060','All_projects_moz_precipitation_2021-2060_without_month_year.csv')\n",
    "precipitation_2021_2060 = pd.read_csv(csv_path,header=[0,1],index_col=[0,1,2,3,4])*86400 # units kg.m^(-2).s^(-1)\n",
    "# convert precipitation data from kg.m^(-2).s^(-1) to mm/day :  1 kg/m2/s = 86400 mm/day\n",
    "# source: https://www.researchgate.net/post/How-do-I-convert-ERA-Interim-precipitation-estimates-from-kg-m2-s-to-mm-day\n",
    "list_time_2021_2060=pd.date_range('01-01-2021','31-12-2060', freq='D').strftime('%d-%m-%Y').values.tolist()"
   ]
  },
  {
   "cell_type": "code",
   "execution_count": 4,
   "id": "4851cd62",
   "metadata": {},
   "outputs": [],
   "source": [
    "precipitation_2021_2060_copy = precipitation_2021_2060.copy(deep=True)"
   ]
  },
  {
   "cell_type": "code",
   "execution_count": 5,
   "id": "769370b9",
   "metadata": {},
   "outputs": [],
   "source": [
    "df_year=precipitation_2021_2060_copy.reset_index()"
   ]
  },
  {
   "cell_type": "code",
   "execution_count": 6,
   "id": "ca115d8c",
   "metadata": {},
   "outputs": [
    {
     "data": {
      "text/html": [
       "<div>\n",
       "<style scoped>\n",
       "    .dataframe tbody tr th:only-of-type {\n",
       "        vertical-align: middle;\n",
       "    }\n",
       "\n",
       "    .dataframe tbody tr th {\n",
       "        vertical-align: top;\n",
       "    }\n",
       "\n",
       "    .dataframe thead tr th {\n",
       "        text-align: left;\n",
       "    }\n",
       "</style>\n",
       "<table border=\"1\" class=\"dataframe\">\n",
       "  <thead>\n",
       "    <tr>\n",
       "      <th></th>\n",
       "      <th>Name project</th>\n",
       "      <th>Experiment</th>\n",
       "      <th>Model</th>\n",
       "      <th>Date</th>\n",
       "      <th>Latitude</th>\n",
       "      <th colspan=\"4\" halign=\"left\">Longitude</th>\n",
       "    </tr>\n",
       "    <tr>\n",
       "      <th></th>\n",
       "      <th></th>\n",
       "      <th></th>\n",
       "      <th></th>\n",
       "      <th></th>\n",
       "      <th></th>\n",
       "      <th>33.625</th>\n",
       "      <th>39.875</th>\n",
       "      <th>36.875</th>\n",
       "      <th>40.375</th>\n",
       "    </tr>\n",
       "  </thead>\n",
       "  <tbody>\n",
       "    <tr>\n",
       "      <th>0</th>\n",
       "      <td>PT_Revubue_2_Rev_2_01</td>\n",
       "      <td>ssp245</td>\n",
       "      <td>ACCESS-CM2</td>\n",
       "      <td>01-01-2021</td>\n",
       "      <td>-16.125</td>\n",
       "      <td>5.057179</td>\n",
       "      <td>NaN</td>\n",
       "      <td>NaN</td>\n",
       "      <td>NaN</td>\n",
       "    </tr>\n",
       "    <tr>\n",
       "      <th>1</th>\n",
       "      <td>PT_Revubue_2_Rev_2_01</td>\n",
       "      <td>ssp245</td>\n",
       "      <td>ACCESS-CM2</td>\n",
       "      <td>02-01-2021</td>\n",
       "      <td>-16.125</td>\n",
       "      <td>17.624178</td>\n",
       "      <td>NaN</td>\n",
       "      <td>NaN</td>\n",
       "      <td>NaN</td>\n",
       "    </tr>\n",
       "    <tr>\n",
       "      <th>2</th>\n",
       "      <td>PT_Revubue_2_Rev_2_01</td>\n",
       "      <td>ssp245</td>\n",
       "      <td>ACCESS-CM2</td>\n",
       "      <td>03-01-2021</td>\n",
       "      <td>-16.125</td>\n",
       "      <td>7.632648</td>\n",
       "      <td>NaN</td>\n",
       "      <td>NaN</td>\n",
       "      <td>NaN</td>\n",
       "    </tr>\n",
       "    <tr>\n",
       "      <th>3</th>\n",
       "      <td>PT_Revubue_2_Rev_2_01</td>\n",
       "      <td>ssp245</td>\n",
       "      <td>ACCESS-CM2</td>\n",
       "      <td>04-01-2021</td>\n",
       "      <td>-16.125</td>\n",
       "      <td>4.736492</td>\n",
       "      <td>NaN</td>\n",
       "      <td>NaN</td>\n",
       "      <td>NaN</td>\n",
       "    </tr>\n",
       "    <tr>\n",
       "      <th>4</th>\n",
       "      <td>PT_Revubue_2_Rev_2_01</td>\n",
       "      <td>ssp245</td>\n",
       "      <td>ACCESS-CM2</td>\n",
       "      <td>05-01-2021</td>\n",
       "      <td>-16.125</td>\n",
       "      <td>4.981353</td>\n",
       "      <td>NaN</td>\n",
       "      <td>NaN</td>\n",
       "      <td>NaN</td>\n",
       "    </tr>\n",
       "    <tr>\n",
       "      <th>...</th>\n",
       "      <td>...</td>\n",
       "      <td>...</td>\n",
       "      <td>...</td>\n",
       "      <td>...</td>\n",
       "      <td>...</td>\n",
       "      <td>...</td>\n",
       "      <td>...</td>\n",
       "      <td>...</td>\n",
       "      <td>...</td>\n",
       "    </tr>\n",
       "    <tr>\n",
       "      <th>6121950</th>\n",
       "      <td>PT__Dumping_Site</td>\n",
       "      <td>ssp370</td>\n",
       "      <td>TaiESM1</td>\n",
       "      <td>27-12-2021</td>\n",
       "      <td>-13.125</td>\n",
       "      <td>NaN</td>\n",
       "      <td>NaN</td>\n",
       "      <td>NaN</td>\n",
       "      <td>2.239485</td>\n",
       "    </tr>\n",
       "    <tr>\n",
       "      <th>6121951</th>\n",
       "      <td>PT__Dumping_Site</td>\n",
       "      <td>ssp370</td>\n",
       "      <td>TaiESM1</td>\n",
       "      <td>28-12-2021</td>\n",
       "      <td>-13.125</td>\n",
       "      <td>NaN</td>\n",
       "      <td>NaN</td>\n",
       "      <td>NaN</td>\n",
       "      <td>11.965019</td>\n",
       "    </tr>\n",
       "    <tr>\n",
       "      <th>6121952</th>\n",
       "      <td>PT__Dumping_Site</td>\n",
       "      <td>ssp370</td>\n",
       "      <td>TaiESM1</td>\n",
       "      <td>29-12-2021</td>\n",
       "      <td>-13.125</td>\n",
       "      <td>NaN</td>\n",
       "      <td>NaN</td>\n",
       "      <td>NaN</td>\n",
       "      <td>8.953759</td>\n",
       "    </tr>\n",
       "    <tr>\n",
       "      <th>6121953</th>\n",
       "      <td>PT__Dumping_Site</td>\n",
       "      <td>ssp370</td>\n",
       "      <td>TaiESM1</td>\n",
       "      <td>30-12-2021</td>\n",
       "      <td>-13.125</td>\n",
       "      <td>NaN</td>\n",
       "      <td>NaN</td>\n",
       "      <td>NaN</td>\n",
       "      <td>1.699712</td>\n",
       "    </tr>\n",
       "    <tr>\n",
       "      <th>6121954</th>\n",
       "      <td>PT__Dumping_Site</td>\n",
       "      <td>ssp370</td>\n",
       "      <td>TaiESM1</td>\n",
       "      <td>31-12-2021</td>\n",
       "      <td>-13.125</td>\n",
       "      <td>NaN</td>\n",
       "      <td>NaN</td>\n",
       "      <td>NaN</td>\n",
       "      <td>0.000000</td>\n",
       "    </tr>\n",
       "  </tbody>\n",
       "</table>\n",
       "<p>153300 rows × 9 columns</p>\n",
       "</div>"
      ],
      "text/plain": [
       "                  Name project Experiment       Model        Date Latitude  \\\n",
       "                                                                             \n",
       "0        PT_Revubue_2_Rev_2_01     ssp245  ACCESS-CM2  01-01-2021  -16.125   \n",
       "1        PT_Revubue_2_Rev_2_01     ssp245  ACCESS-CM2  02-01-2021  -16.125   \n",
       "2        PT_Revubue_2_Rev_2_01     ssp245  ACCESS-CM2  03-01-2021  -16.125   \n",
       "3        PT_Revubue_2_Rev_2_01     ssp245  ACCESS-CM2  04-01-2021  -16.125   \n",
       "4        PT_Revubue_2_Rev_2_01     ssp245  ACCESS-CM2  05-01-2021  -16.125   \n",
       "...                        ...        ...         ...         ...      ...   \n",
       "6121950       PT__Dumping_Site     ssp370     TaiESM1  27-12-2021  -13.125   \n",
       "6121951       PT__Dumping_Site     ssp370     TaiESM1  28-12-2021  -13.125   \n",
       "6121952       PT__Dumping_Site     ssp370     TaiESM1  29-12-2021  -13.125   \n",
       "6121953       PT__Dumping_Site     ssp370     TaiESM1  30-12-2021  -13.125   \n",
       "6121954       PT__Dumping_Site     ssp370     TaiESM1  31-12-2021  -13.125   \n",
       "\n",
       "         Longitude                           \n",
       "            33.625 39.875 36.875     40.375  \n",
       "0         5.057179    NaN    NaN        NaN  \n",
       "1        17.624178    NaN    NaN        NaN  \n",
       "2         7.632648    NaN    NaN        NaN  \n",
       "3         4.736492    NaN    NaN        NaN  \n",
       "4         4.981353    NaN    NaN        NaN  \n",
       "...            ...    ...    ...        ...  \n",
       "6121950        NaN    NaN    NaN   2.239485  \n",
       "6121951        NaN    NaN    NaN  11.965019  \n",
       "6121952        NaN    NaN    NaN   8.953759  \n",
       "6121953        NaN    NaN    NaN   1.699712  \n",
       "6121954        NaN    NaN    NaN   0.000000  \n",
       "\n",
       "[153300 rows x 9 columns]"
      ]
     },
     "execution_count": 6,
     "metadata": {},
     "output_type": "execute_result"
    }
   ],
   "source": [
    "df_year[df_year['Date'].str.contains('2021')]"
   ]
  },
  {
   "cell_type": "code",
   "execution_count": null,
   "id": "38db2205",
   "metadata": {},
   "outputs": [],
   "source": [
    "# return period for each project, model, scenario"
   ]
  },
  {
   "cell_type": "code",
   "execution_count": null,
   "id": "dd7f73d7",
   "metadata": {},
   "outputs": [],
   "source": [
    "# define function that with adjustement gumbel r"
   ]
  },
  {
   "cell_type": "code",
   "execution_count": null,
   "id": "127202c4",
   "metadata": {},
   "outputs": [],
   "source": [
    "test=precipitation_2021_2060_copy.loc[(precipitation_2021_2060_copy.index.levels[0][0],precipitation_2021_2060_copy.index.levels[1][0],precipitation_2021_2060_copy.index.levels[2][0])]\n",
    "test=test.droplevel(level=1) # drop latitude index\n",
    "test=test[[('Longitude','36.875')]]\n",
    "test.columns = test.columns.droplevel(0) # drop first level of column name\n",
    "test=test.rename(columns={test.columns[0]:'Precipitation mm/day'})\n",
    "test = test.filter(like = str(2021), axis=0) # select only data for one year\n",
    "test#['Precipitation mm'].values"
   ]
  },
  {
   "cell_type": "code",
   "execution_count": null,
   "id": "1fe21af0",
   "metadata": {},
   "outputs": [],
   "source": [
    "# test indicator return period of current 50 and 100 year event"
   ]
  },
  {
   "cell_type": "code",
   "execution_count": null,
   "id": "8dd81392",
   "metadata": {},
   "outputs": [],
   "source": [
    "# function value for return period"
   ]
  },
  {
   "cell_type": "code",
   "execution_count": null,
   "id": "4c7fba9d",
   "metadata": {},
   "outputs": [],
   "source": [
    "def value_return_period(Z,T):\n",
    "    (loc,scale)=stats.gumbel_r.fit(Z) # return the function necessary to establish the continous function\n",
    "    # gumbel_r is chosen because\n",
    "    p_non_exceedance = 1 - (1/T)\n",
    "    try:\n",
    "        threshold_coresponding = round(gumbel_r.ppf(p_non_exceedance,loc,scale))\n",
    "    except OverflowError: # the result is not finite\n",
    "        if math.isinf(gumbel_r.ppf(p_non_exceedance,loc,scale)) and gumbel_r.ppf(p_non_exceedance,loc,scale)<0:\n",
    "            # the result is -inf\n",
    "            threshold_coresponding = 0 # the value of wero is imposed\n",
    "    return threshold_coresponding\n",
    "    # ppf: Percent point function\n",
    "    #print('Threshold '+str(threshold_coresponding)+' mm/day will be exceeded at least once in '+str(n)+' year, with a probability of '+str(round(p_exceedance*100))+ ' %')\n",
    "    #print('This threshold corresponds to a return period of '+str(round(return_period))+ ' year event over a '+str(n)+' year period')"
   ]
  },
  {
   "cell_type": "code",
   "execution_count": null,
   "id": "7beeee83",
   "metadata": {},
   "outputs": [],
   "source": [
    "year5_value=value_return_period(test['Precipitation mm/day'].values,5)"
   ]
  },
  {
   "cell_type": "code",
   "execution_count": null,
   "id": "4ad615cf",
   "metadata": {},
   "outputs": [],
   "source": [
    "year5_value"
   ]
  },
  {
   "cell_type": "code",
   "execution_count": null,
   "id": "563a6d9e",
   "metadata": {},
   "outputs": [],
   "source": [
    "Z = test['Precipitation mm/day'].values\n",
    "Z.sort()\n",
    "(loc,scale)=stats.gumbel_r.fit(Z) # return the function necessary to establish the continous function\n",
    "# xaxis is precipitation and yaxis is densiy of probability\n",
    "myHist = plt.hist(Z,density=True) # If ``True``, draw and return a probability density: each bin \n",
    "# will display the bin's raw count divided by the total number of counts *and the bin width*\n",
    "h = plt.plot(Z,gumbel_r.pdf(Z,loc,scale))\n",
    "plt.xlabel('Precipitation value mm/day')\n",
    "plt.ylabel('Density of probability' )\n",
    "plt.title('Histogram and probability density function of precipitation values\\nfor year 2021 for one project ,\\n one scenario and one model',fontdict={'fontsize': 10})\n",
    "plt.legend(['Probability density function','Histogramm'])\n",
    "title_png = 'test_density.png'\n",
    "path_figure = os.path.join(out_path,'figures')\n",
    "if not os.path.isdir(path_figure):\n",
    "    os.makedirs(path_figure)\n",
    "#plt.savefig(os.path.join(path_figure,title_png),format ='png')\n",
    "plt.show()"
   ]
  },
  {
   "cell_type": "code",
   "execution_count": null,
   "id": "4db74bff",
   "metadata": {},
   "outputs": [],
   "source": [
    "# accross models and scenarios"
   ]
  },
  {
   "cell_type": "code",
   "execution_count": null,
   "id": "6ecf80be",
   "metadata": {},
   "outputs": [],
   "source": [
    "test=precipitation_2021_2060_copy.loc[(precipitation_2021_2060_copy.index.levels[0][0])]\n",
    "test=test[[('Longitude','36.875')]]\n",
    "test=test.droplevel(level=3) # drop latitude index\n",
    "test.columns = test.columns.droplevel(0) # drop first level of column name\n",
    "test=test.rename(columns={test.columns[0]:'Precipitation mm/day'})\n",
    "test=test.swaplevel(0,2,axis=0)\n",
    "test = test.filter(like = str(2021), axis=0) # select only data for one year\n",
    "#test#['Precipitation mm'].values\n",
    "test.drop(labels='NESM3',level=1,inplace=True)"
   ]
  },
  {
   "cell_type": "code",
   "execution_count": null,
   "id": "1ac0cd20",
   "metadata": {},
   "outputs": [],
   "source": [
    "Z = test['Precipitation mm/day'].values\n",
    "Z.sort()\n",
    "(loc,scale)=stats.gumbel_r.fit(Z) # return the function necessary to establish the continous function\n",
    "# xaxis is precipitation and yaxis is densiy of probability\n",
    "myHist = plt.hist(Z,density=True) # If ``True``, draw and return a probability density: each bin \n",
    "# will display the bin's raw count divided by the total number of counts *and the bin width*\n",
    "h = plt.plot(Z,gumbel_r.pdf(Z,loc,scale))\n",
    "plt.xlabel('Precipitation value mm/day')\n",
    "plt.ylabel('Density of probability' )\n",
    "plt.title('Histogram and probability density function of precipitation values\\nfor year 2021 for one project ,\\n with all scenarios and models',fontdict={'fontsize': 10})\n",
    "plt.legend(['Probability density function','Histogramm'])\n",
    "title_png = 'test_density.png'\n",
    "path_figure = os.path.join(out_path,'figures')\n",
    "if not os.path.isdir(path_figure):\n",
    "    os.makedirs(path_figure)\n",
    "#plt.savefig(os.path.join(path_figure,title_png),format ='png')\n",
    "plt.show()"
   ]
  },
  {
   "cell_type": "code",
   "execution_count": null,
   "id": "dfac3cb7",
   "metadata": {},
   "outputs": [],
   "source": [
    "precipitation_2021_2060_copy.index.levels[0]"
   ]
  },
  {
   "cell_type": "code",
   "execution_count": null,
   "id": "01687c47",
   "metadata": {},
   "outputs": [],
   "source": [
    "# questions Temps retour :\n",
    "#      tjs avec maximum ? oui\n",
    "#      besoin de caler mieux distribution ? package pour le faire automatiquement ?"
   ]
  },
  {
   "cell_type": "code",
   "execution_count": null,
   "id": "6454bc5a",
   "metadata": {},
   "outputs": [],
   "source": [
    "years=[precipitation_2021_2060_copy.index.levels[3].values[i][6:10] for i in np.arange(0,len(precipitation_2021_2060_copy.index.levels[3]))]"
   ]
  },
  {
   "cell_type": "code",
   "execution_count": null,
   "id": "7051e89e",
   "metadata": {},
   "outputs": [],
   "source": [
    "years"
   ]
  },
  {
   "cell_type": "code",
   "execution_count": null,
   "id": "7bd61ec5",
   "metadata": {},
   "outputs": [],
   "source": [
    "len(years)"
   ]
  },
  {
   "cell_type": "code",
   "execution_count": null,
   "id": "98f24aa8",
   "metadata": {},
   "outputs": [],
   "source": [
    "len(precipitation_2021_2060_copy.index.levels[3])"
   ]
  },
  {
   "cell_type": "code",
   "execution_count": null,
   "id": "0aab30cc",
   "metadata": {},
   "outputs": [],
   "source": [
    "precipitation_2021_2060_copy.index.levels[3]"
   ]
  },
  {
   "cell_type": "code",
   "execution_count": null,
   "id": "bafc2e91",
   "metadata": {},
   "outputs": [],
   "source": [
    "precipitation_2021_2060_copy.groupby(like='2021')"
   ]
  },
  {
   "cell_type": "code",
   "execution_count": null,
   "id": "28b3b741",
   "metadata": {},
   "outputs": [],
   "source": [
    "# indicator average per year"
   ]
  },
  {
   "cell_type": "code",
   "execution_count": null,
   "id": "b077a02c",
   "metadata": {},
   "outputs": [],
   "source": []
  },
  {
   "cell_type": "code",
   "execution_count": null,
   "id": "42dc03bb",
   "metadata": {},
   "outputs": [],
   "source": []
  },
  {
   "cell_type": "code",
   "execution_count": null,
   "id": "051817a6",
   "metadata": {},
   "outputs": [],
   "source": []
  }
 ],
 "metadata": {
  "kernelspec": {
   "display_name": "Python 3 (ipykernel)",
   "language": "python",
   "name": "python3"
  },
  "language_info": {
   "codemirror_mode": {
    "name": "ipython",
    "version": 3
   },
   "file_extension": ".py",
   "mimetype": "text/x-python",
   "name": "python",
   "nbconvert_exporter": "python",
   "pygments_lexer": "ipython3",
   "version": "3.10.6"
  }
 },
 "nbformat": 4,
 "nbformat_minor": 5
}
