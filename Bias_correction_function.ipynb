{
 "cells": [
  {
   "cell_type": "markdown",
   "id": "76bbfc5c",
   "metadata": {},
   "source": [
    "This notebook aims to contain all the functions that will permit to apply bias correction.\n",
    "\n",
    "TO DO :\n",
    "\n",
    "NEED TO CHECK FUNCTIONALITY OF THE CODE for other methods than bscd precipitation\n",
    "apply cdf for quantile ..\n",
    "impose a version for the past and for the future (without y test, not used for BC, just for presentation of results)"
   ]
  },
  {
   "cell_type": "code",
   "execution_count": 1,
   "id": "9e514190",
   "metadata": {},
   "outputs": [],
   "source": [
    "# function to calculte return period\n",
    "\n",
    "from scipy import stats\n",
    "from scipy.stats import gumbel_r\n",
    "from scipy.stats import gumbel_l\n",
    "\n",
    "# function qui marche pour precipitation return period\n",
    "\n",
    "\n",
    "def threshold_coresponding_to_return_period(loc,scale,T):\n",
    "    p_non_exceedance = 1 - (1/T)\n",
    "    try:\n",
    "        threshold_coresponding = round(gumbel_r.ppf(p_non_exceedance,loc,scale))\n",
    "    except OverflowError: # the result is not finite\n",
    "        if math.isinf(gumbel_r.ppf(p_non_exceedance,loc,scale)) and gumbel_r.ppf(p_non_exceedance,loc,scale)<0:\n",
    "            # ppf is the inverse of cdf\n",
    "            # the result is -inf\n",
    "            threshold_coresponding = 0 # the value of wero is imposed\n",
    "    return threshold_coresponding\n",
    "\n",
    "from Functions_Indicators import add_year_month_season # need to add conversion of time"
   ]
  },
  {
   "cell_type": "markdown",
   "id": "8baedebe",
   "metadata": {},
   "source": [
    "# BIAS CORRECTION - POINT WISE METHOD\n",
    "\n",
    "[Scikit-downscale](https://github.com/pangeo-data/scikit-downscale/tree/main)\n",
    "[Detailed process here](https://github.com/pangeo-data/scikit-downscale/blob/main/examples/2020ECAHM-scikit-downscale.ipynb)"
   ]
  },
  {
   "cell_type": "code",
   "execution_count": 2,
   "id": "e8752f11",
   "metadata": {},
   "outputs": [],
   "source": [
    "%load_ext autoreload\n",
    "%autoreload 2\n",
    "%matplotlib inline\n",
    "\n",
    "\n",
    "import numpy as np\n",
    "import pandas as pd\n",
    "import scipy\n",
    "import xarray as xr\n",
    "import os\n",
    "import os.path\n",
    "\n",
    "import warnings\n",
    "warnings.filterwarnings(\"ignore\")  # sklearn\n",
    "\n",
    "import matplotlib.pyplot as plt\n",
    "import seaborn as sns\n",
    "\n",
    "\n",
    "\n",
    "# exploratory data analysis for arrm model\n",
    "import seaborn as sns\n",
    "import numpy as np\n",
    "from sklearn.model_selection import train_test_split\n",
    "# train_test_split Quick utility that wraps input validation and\n",
    "#    ``next(ShuffleSplit().split(X, y))`` and application to input data\n",
    "#    into a single call for splitting (and optionally subsampling) data in a\n",
    "#    oneliner.\n",
    "#    Returns\n",
    "#    -------\n",
    "#    splitting : list, length=2 * len(arrays)\n",
    "#        List containing train-test split of inputs.\n",
    "\n",
    "#        .. versionadded:: 0.16\n",
    "#            If the input is sparse, the output will be a\n",
    "#            ``scipy.sparse.csr_matrix``. Else, output type is the same as the\n",
    "#            input type.\n",
    "\n",
    "#from utils import get_sample_data\n",
    "\n",
    "from sklearn.preprocessing import KBinsDiscretizer\n",
    "# use for discretization\n",
    "\n",
    "sns.set(style='darkgrid')"
   ]
  },
  {
   "cell_type": "code",
   "execution_count": 3,
   "id": "27eb55dd",
   "metadata": {},
   "outputs": [],
   "source": [
    "# function to prepare data for the fitting\n",
    "def treat_data_for_test(df_obs,name_col_obs,df_model_past,name_col_model,name_station,model):\n",
    "    \n",
    "    if 'pr' in name_col_model.lower():\n",
    "        new_name = 'pcp'\n",
    "    \n",
    "    # prepare training data\n",
    "    df_model_past_BC=df_model_past[df_model_past['Name station']==name_station].drop(['Name station','Year','Month','Season'],axis =1)\n",
    "    df_model_past_BC = df_model_past_BC[df_model_past_BC['Model'] ==model].drop(['Model','Experiment','Latitude','Longitude'],axis=1)\n",
    "    training = df_model_past_BC.rename(columns = {'Date':'time',name_col_model:new_name}).reset_index(drop=True)\n",
    "    \n",
    "    Date1 = training['time'].values\n",
    "    for i in np.arange(0,len(training)):\n",
    "        training['time'][i] = Date1[i][6:10]+'-'+Date1[i][3:5]+'-'+Date1[i][0:2]#datetime.strptime(, '%Y-%M-%d').date()\n",
    "        #print(training['time'][i])\n",
    "    # .date() to avoid having the hours in the datetime\n",
    "    training=training.set_index('time')\n",
    "    \n",
    "    # prepare targets data\n",
    "    targets = df_obs[['NAME','DATE',name_col_obs]] # select only 3 columns of interest\n",
    "    targets = targets[targets['NAME']==name_station].rename(columns = {'DATE':'time',name_col_obs:new_name}).set_index('time').drop(['NAME'],axis=1) # the targets data is meant to represent our \"observations\"\n",
    "    \n",
    "    if len(targets)>len(training):\n",
    "        targets = targets.dropna() # drop rows with NaN\n",
    "        training = training[training.index.isin(list(targets.index))]\n",
    "    if len(targets)<len(training):\n",
    "        training = training.dropna() # drop rows with NaN\n",
    "        targets = targets[targets.index.isin(list(training.index))]\n",
    "    \n",
    "    # concat training and target data in one dataframe\n",
    "    df=pd.concat({'training': training, 'targets': targets}, axis=1)\n",
    "    df=df.dropna()\n",
    "    \n",
    "    return df"
   ]
  },
  {
   "cell_type": "code",
   "execution_count": 26,
   "id": "19ac64cd",
   "metadata": {},
   "outputs": [],
   "source": [
    "# df_obs and df_model should be under a dataframe format, with no nan values, with a common timelaps, with the data as a string format '%Y-%m-%d', and as index\n",
    "\n",
    "# Method could be :\n",
    "#        piecewise_regressor\n",
    "#        Quantile_Linear_Regression\n",
    "\n",
    "def BC(df,name_col,method):\n",
    "    \n",
    "    if method == 'piecewise_regressor':\n",
    "        (X_train, X_test, y_train, y_test,pred)=piecewise_regressor(df,name_col)\n",
    "    if method == 'Quantile_Linear_Regression':\n",
    "        (X_train, X_test, y_train, y_test,pred)=Quantile_Linear_Regression(df,name_col)\n",
    "    if method == 'Bcsd_Precipitation':\n",
    "        (X_train, X_test, y_train, y_test,pred)=BCSD_Precipitation(df)\n",
    "    return (X_train, X_test, y_train, y_test,pred)\n",
    "    plot_train_test(X_train, X_test, y_train, y_test)\n",
    "    plot_train_test_pred(X_train, X_test, y_train, y_test,pred)\n",
    "    plot_test_pred(X_test,y_test, y_train, pred)\n",
    "    \n",
    "    out = plot_cdfs(X_test,y_test,pred)\n",
    "    return out "
   ]
  },
  {
   "cell_type": "code",
   "execution_count": 5,
   "id": "65a78c0a",
   "metadata": {},
   "outputs": [],
   "source": [
    "def piecewise_regressor(df,name_col):\n",
    "    from mlinsights.mlmodel import PiecewiseRegressor # in piecewise estimator\n",
    "    #     Uses a :epkg:`decision tree` to split the space of features\n",
    "    #    into buckets and trains a linear regression (default) on each of them.\n",
    "    #    The second estimator is usually a :epkg:`sklearn:linear_model:LinearRegression`.\n",
    "    #    It can also be :epkg:`sklearn:dummy:DummyRegressor` to just get\n",
    "    #    the average on each bucket.\n",
    "    \n",
    "    X = df[('training',name_col)][min(df.index)[0:4]: max(df.index)[0:4]].values#training[[name_col]]['1980': '2000'].values\n",
    "    y = df[('targets',name_col)][min(df.index)[0:4]: max(df.index)[0:4]].values#targets[[name_col]]['1980': '2000'].values\n",
    "    \n",
    "    X_train, X_test, y_train, y_test = train_test_split(X, y)# splits data\n",
    "    \n",
    "    # parameters for Quantile transforms\n",
    "    qqwargs = {'n_quantiles': int(1e6), 'copy': True, 'subsample': int(1e6)} # add int for n_quantiles and subsample to avoid\n",
    "    # following problem:  InvalidParameterError: The 'n_quantiles' parameter of QuantileTransformer must be an int in the range [1, inf). Got 1000000.0 instead.\n",
    "    n_bins = 7\n",
    "    \n",
    "    y_train = y_train[:, 0]\n",
    "    \n",
    "    score_strat =[]\n",
    "    name_strat = ['kmeans', 'uniform', 'quantile']\n",
    "    for strat in name_strat:\n",
    "        model = PiecewiseRegressor(binner=KBinsDiscretizer(n_bins=n_bins, strategy=strat))\n",
    "        model.fit(X_train, y_train)\n",
    "        pred = model.predict(X_test)\n",
    "        score_strat.append(model.score(X_test, y_test))\n",
    "        # how is the score calculated ? r2 score\n",
    "    \n",
    "    model = PiecewiseRegressor(binner=KBinsDiscretizer(n_bins=n_bins, strategy=name_strat[np.where(score_strat == min(score_strat))[0]]))\n",
    "    model.fit(X_train, y_train)\n",
    "    pred = model.predict(X_test)\n",
    "    \n",
    "    time=df.index\n",
    "    df_ = pd.DataFrame()\n",
    "    df_['time'] = time\n",
    "    df_['pcp'] = pred\n",
    "    \n",
    "    return X_train, X_test, y_train, y_test,df_"
   ]
  },
  {
   "cell_type": "code",
   "execution_count": 23,
   "id": "99e5af18",
   "metadata": {},
   "outputs": [],
   "source": [
    "def Quantile_Linear_Regression(df,name_col):\n",
    "    from mlinsights.mlmodel import QuantileLinearRegression # in quantile_regression\n",
    "    \n",
    "    X = df[('training',name_col)][min(df.index)[0:4]: max(df.index)[0:4]].values#training[[name_col]]['1980': '2000'].values\n",
    "    y = df[('targets',name_col)][min(df.index)[0:4]: max(df.index)[0:4]].values#targets[[name_col]]['1980': '2000'].values\n",
    "    \n",
    "    X_train, X_test, y_train, y_test = train_test_split(X, y)# splits data\n",
    "    \n",
    "    #y_train = y_train[:, 0]\n",
    "    \n",
    "    model = QuantileLinearRegression()\n",
    "\n",
    "    model.fit(X_train.reshape((len(X_train),1)), y_train.reshape((len(y_train),)))\n",
    "    pred = model.predict(X_test.reshape((len(X_test),1)))\n",
    "    print(model.score(X_test.reshape((len(X_test),1)), y_test.reshape((len(y_test),1))))# mean absolute error\n",
    "    \n",
    "    time=df.index\n",
    "    df_ = pd.DataFrame()\n",
    "    df_['time'] = time\n",
    "    df_['pcp'] = pred\n",
    "    \n",
    "    #out = pd.DataFrame()\n",
    "    #out['time'] = y_train.index\n",
    "    #out['pcp'] = pred\n",
    "    #out = out.set_index('time')\n",
    "    #columns=[('training','pcp')]\n",
    "    #out.columns=pd.MultiIndex.from_tuples(columns)\n",
    "    return (X_train, X_test, y_train, y_test,pred)"
   ]
  },
  {
   "cell_type": "code",
   "execution_count": 29,
   "id": "30cbdafd",
   "metadata": {},
   "outputs": [],
   "source": [
    "def BCSD_Precipitation(df):\n",
    "    from skdownscale.pointwise_models import BcsdPrecipitation\n",
    "\n",
    "    training = df['training']\n",
    "    targets = df['targets']\n",
    "    training.index = pd.to_datetime(training.index)\n",
    "    targets.index = pd.to_datetime(targets.index)\n",
    "    X_pcp = training[[\"pcp\"]]#.resample(\"MS\").sum()#MS\n",
    "    y_pcp = targets[[\"pcp\"]]#.resample(\"MS\").sum()\n",
    "    # Fit/predict the BCSD Temperature model\n",
    "    bcsd_temp = BcsdPrecipitation()\n",
    "    bcsd_temp.fit(X_pcp, y_pcp)\n",
    "    out = bcsd_temp.predict(X_pcp) * X_pcp # additive for temperature, multiplicative for precipitation\n",
    "    \n",
    "    #out = plot_cdfs(X_test,y_test,out)\n",
    "    #out = plot_cdf(X=X_pcp, y=y_pcp, out=out)\n",
    "    return (X_pcp,X_pcp,y_pcp,y_pcp,out)"
   ]
  },
  {
   "cell_type": "code",
   "execution_count": 8,
   "id": "df4ee592",
   "metadata": {},
   "outputs": [],
   "source": [
    "def BCSD_Precipitation_one_more_time(df,out):\n",
    "    \n",
    "    df=df.loc[out.index]\n",
    "    df['training'] = out['pcp']\n",
    "    print(df)\n",
    "    out = BCSD_Precipitation(df)\n",
    "    \n",
    "    return out"
   ]
  },
  {
   "cell_type": "code",
   "execution_count": 9,
   "id": "5d43704a",
   "metadata": {},
   "outputs": [],
   "source": [
    "# missing graphs\n",
    "\n",
    "def BCSD_Temperature(df):\n",
    "    from skdownscale.pointwise_models import BcsdTemperature\n",
    "    X_train = df[['training']].loc['1970-01-01':'1990-01-01']\n",
    "    X_test = df[['training']].loc['1990-01-01':'2010-01-01']\n",
    "    y_train = df[['targets']].loc['1970-01-01':'1990-01-01']\n",
    "    y_test = df[['targets']].loc['1990-01-01':'2010-01-01']    \n",
    "    \n",
    "    X_train.index = pd.to_datetime(X_train.index)\n",
    "    y_train.index = pd.to_datetime(y_train.index)\n",
    "    X_test.index = pd.to_datetime(X_test.index)\n",
    "    y_test.index = pd.to_datetime(y_test.index)\n",
    "    return"
   ]
  },
  {
   "cell_type": "code",
   "execution_count": 18,
   "id": "d61b70a3",
   "metadata": {},
   "outputs": [],
   "source": [
    "# plot results\n",
    "\n",
    "def plot_train_test(X_train, X_test, y_train, y_test):\n",
    "    sns.set(style='whitegrid')\n",
    "    c = {'train': 'black', 'predict': 'blue', 'test': 'grey'}\n",
    "    \n",
    "    fig, ax = plt.subplots(1, 1, figsize=(8, 8))\n",
    "    plt.scatter(X_train, y_train, c=c['train'], s=5, label='train')\n",
    "    plt.scatter(X_test, y_test, c=c['test'], s=5, label='test')\n",
    "    plt.title('Train and test data')\n",
    "    plt.xlabel('modeled data')\n",
    "    plt.ylabel('observed data')\n",
    "    ax.legend()\n",
    "    return\n",
    "\n",
    "def plot_train_test_pred(X_train, X_test, y_train, y_test,pred):\n",
    "    sns.set(style='whitegrid')\n",
    "    c = {'train': 'black', 'predict': 'blue', 'test': 'grey'}\n",
    "    \n",
    "    fig, ax = plt.subplots(1, 1, figsize=(8, 8))\n",
    "    plt.scatter(np.sort(X_train, axis=0), np.sort(y_train, axis=0), c=c['train'], s=5, label='train')\n",
    "    plt.scatter(np.sort(X_test, axis=0), np.sort(y_test, axis=0), c=c['test'], s=5, label='test')\n",
    "    plt.plot(np.sort(X_test, axis=0), np.sort(pred, axis=0), c=c['predict'], lw=2, label='predictions')\n",
    "    plt.title('Sorted train and test data')\n",
    "    plt.xlabel('modeled data')\n",
    "    plt.ylabel('observed data and prediction')\n",
    "    ax.legend()\n",
    "    return\n",
    "    \n",
    "def plot_test_pred(X_test,y_test, y_train, pred):\n",
    "    sns.set(style='whitegrid')\n",
    "    c = {'train': 'black', 'predict': 'blue', 'test': 'grey'}\n",
    "\n",
    "    fig, ax = plt.subplots(1, 1, figsize=(8, 8))\n",
    "    #ax.plot(X_test[:, 0], y_test, \".\", label='data', c=c['test'])\n",
    "    #ax.plot(X_test[:, 0], pred, \".\", label=\"predictions\", c=c['predict'])\n",
    "    ax.plot(X_test, y_test, \".\", label='data', c=c['test'])\n",
    "    ax.plot(X_test, pred, \".\", label=\"predictions\", c=c['predict'])\n",
    "    #ax.set_title(f\"Piecewise Linear Regression\\n{n_bins} buckets\")\n",
    "    plt.title('Test data and prediction')\n",
    "    plt.xlabel('modeled data')\n",
    "    plt.ylabel('observed data and prediction')\n",
    "    ax.legend()\n",
    "    return\n",
    "\n",
    "\n",
    "def plot_cdfs(X_test,y_test,out):\n",
    "    \n",
    "    fig, ax = plt.subplots(1, 1, figsize=(8, 8))\n",
    "    plot_cdf(X=X_test, y=y_test, out=out)\n",
    "    out.plot()\n",
    "    out=out.rename(columns={'training':'pcp'})\n",
    "    \n",
    "    #plot_cdf_by_month(X=X_test, y=y_test.loc[list(X_test.index)], out=out)\n",
    "    plot_cdf_by_month(X=X_test, y=y_test, out=out)\n",
    "    \n",
    "    out.index = out.index.strftime('%Y-%m-%d')\n",
    "    \n",
    "    \n",
    "    fig, axes = plt.subplots(ncols=1, nrows=3, figsize=(8, 9), sharex=True)\n",
    "    time_slice = slice('1980-01-01', '1980-12-31')\n",
    "\n",
    "    # plot-temperature\n",
    "    #training[time_slice]['pcp'].plot(ax=axes[0], label='training')\n",
    "    #X_test[time_slice]['pcp'].plot(ax=axes[0], label='training')\n",
    "    X_test[time_slice][[('training','pcp')]].plot(ax=axes[0], label='training')\n",
    "    axes[0].legend()\n",
    "    axes[0].set_ylabel('Precipitation [mm/day]')\n",
    "    axes[0].set_ylim(0,250)\n",
    "\n",
    "\n",
    "    # plot-precipitation\n",
    "    #targets[time_slice]['pcp'].plot(ax=axes[1], label='target')\n",
    "    #y_test[time_slice]['pcp'].plot(ax=axes[1], label='target')\n",
    "    y_test[time_slice][[('targets','pcp')]].plot(ax=axes[1], label='target')\n",
    "    axes[1].legend()\n",
    "    _ = axes[1].set_ylabel('Precipitation [mm/day]')\n",
    "    axes[1].set_ylim(0,250)\n",
    "\n",
    "    # plot-precipitation\n",
    "    #out[time_slice]['pcp'].plot(ax=axes[2], label='out')\n",
    "    out[time_slice][[('training','pcp')]].plot(ax=axes[2], label='out')\n",
    "    axes[2].legend()\n",
    "    _ = axes[2].set_ylabel('Precipitation [mm/day]')\n",
    "    axes[2].set_ylim(0,250)\n",
    "    \n",
    "    return out\n",
    "\n",
    "# utilities for plotting cdfs\n",
    "def plot_cdf(ax=None, **kwargs):\n",
    "    if ax:\n",
    "        plt.sca(ax)\n",
    "    else:\n",
    "        ax = plt.gca()\n",
    "\n",
    "    for label, X in kwargs.items():\n",
    "        vals = np.sort(X, axis=0)\n",
    "        pp = scipy.stats.mstats.plotting_positions(vals)\n",
    "        ax.plot(pp, vals, label=label)\n",
    "    ax.legend()\n",
    "    return ax\n",
    "\n",
    "\n",
    "def plot_cdf_by_month(ax=None, **kwargs):\n",
    "    fig, axes = plt.subplots(4, 3, sharex=True, sharey=False, figsize=(12, 8))\n",
    "\n",
    "    for label, X in kwargs.items():\n",
    "        for month, ax in zip(range(1, 13), axes.flat):\n",
    "\n",
    "            vals = np.sort(X[X.index.month == month], axis=0)\n",
    "            pp = scipy.stats.mstats.plotting_positions(vals)\n",
    "            ax.plot(pp, vals, label=label)\n",
    "            ax.set_title(month)\n",
    "    ax.legend()\n",
    "    return ax"
   ]
  },
  {
   "cell_type": "code",
   "execution_count": 11,
   "id": "2d60d78e",
   "metadata": {},
   "outputs": [],
   "source": [
    "# import data\n",
    "from Functions_ImportData import import_treat_modeled_NEX_GDDP_CMIP6\n",
    "from Functions_ImportData import import_treat_obs_NOAA\n",
    "from Functions_ImportData import import_treat_modeled_NEX_GDDP_CMIP6_close_to_stationNOAA"
   ]
  },
  {
   "cell_type": "code",
   "execution_count": null,
   "id": "2fc818cc",
   "metadata": {},
   "outputs": [],
   "source": []
  },
  {
   "cell_type": "code",
   "execution_count": 12,
   "id": "86ca7953",
   "metadata": {},
   "outputs": [],
   "source": [
    "climate_var = 'pr' # 'tas'\n",
    "\n",
    "# precipitation : 'pr'\n",
    "\n",
    "name_station = 'BEIRA, MZ'"
   ]
  },
  {
   "cell_type": "code",
   "execution_count": 13,
   "id": "07b3312a",
   "metadata": {},
   "outputs": [],
   "source": [
    "climate_var_NEX_GDDP_CMIP6_Project=import_treat_modeled_NEX_GDDP_CMIP6(climate_var,'mm_per_day','day',1950,2100)\n",
    "data_obs_NOAA=import_treat_obs_NOAA()"
   ]
  },
  {
   "cell_type": "code",
   "execution_count": 14,
   "id": "ab3aa4f8",
   "metadata": {},
   "outputs": [
    {
     "data": {
      "text/html": [
       "<div>\n",
       "<style scoped>\n",
       "    .dataframe tbody tr th:only-of-type {\n",
       "        vertical-align: middle;\n",
       "    }\n",
       "\n",
       "    .dataframe tbody tr th {\n",
       "        vertical-align: top;\n",
       "    }\n",
       "\n",
       "    .dataframe thead th {\n",
       "        text-align: right;\n",
       "    }\n",
       "</style>\n",
       "<table border=\"1\" class=\"dataframe\">\n",
       "  <thead>\n",
       "    <tr style=\"text-align: right;\">\n",
       "      <th></th>\n",
       "      <th>Name project</th>\n",
       "      <th>Experiment</th>\n",
       "      <th>Model</th>\n",
       "      <th>Latitude</th>\n",
       "      <th>Longitude</th>\n",
       "      <th>Date</th>\n",
       "      <th>Mean of the daily precipitation rate mm_per_day</th>\n",
       "      <th>Year</th>\n",
       "      <th>Month</th>\n",
       "      <th>Season</th>\n",
       "    </tr>\n",
       "  </thead>\n",
       "  <tbody>\n",
       "    <tr>\n",
       "      <th>0</th>\n",
       "      <td>WTP_Mutua_EIB</td>\n",
       "      <td>historical</td>\n",
       "      <td>ACCESS-CM2</td>\n",
       "      <td>-19.375</td>\n",
       "      <td>34.625</td>\n",
       "      <td>1/1/1950</td>\n",
       "      <td>0.657509</td>\n",
       "      <td>1/1/1950</td>\n",
       "      <td>1/1/1950</td>\n",
       "      <td>1/1/1950</td>\n",
       "    </tr>\n",
       "    <tr>\n",
       "      <th>1</th>\n",
       "      <td>WTP_Mutua_EIB</td>\n",
       "      <td>historical</td>\n",
       "      <td>ACCESS-CM2</td>\n",
       "      <td>-19.375</td>\n",
       "      <td>34.625</td>\n",
       "      <td>2/1/1950</td>\n",
       "      <td>0.442182</td>\n",
       "      <td>2/1/1950</td>\n",
       "      <td>2/1/1950</td>\n",
       "      <td>2/1/1950</td>\n",
       "    </tr>\n",
       "    <tr>\n",
       "      <th>2</th>\n",
       "      <td>WTP_Mutua_EIB</td>\n",
       "      <td>historical</td>\n",
       "      <td>ACCESS-CM2</td>\n",
       "      <td>-19.375</td>\n",
       "      <td>34.625</td>\n",
       "      <td>3/1/1950</td>\n",
       "      <td>0.031404</td>\n",
       "      <td>3/1/1950</td>\n",
       "      <td>3/1/1950</td>\n",
       "      <td>3/1/1950</td>\n",
       "    </tr>\n",
       "    <tr>\n",
       "      <th>3</th>\n",
       "      <td>WTP_Mutua_EIB</td>\n",
       "      <td>historical</td>\n",
       "      <td>ACCESS-CM2</td>\n",
       "      <td>-19.375</td>\n",
       "      <td>34.625</td>\n",
       "      <td>4/1/1950</td>\n",
       "      <td>15.071664</td>\n",
       "      <td>4/1/1950</td>\n",
       "      <td>4/1/1950</td>\n",
       "      <td>4/1/1950</td>\n",
       "    </tr>\n",
       "    <tr>\n",
       "      <th>4</th>\n",
       "      <td>WTP_Mutua_EIB</td>\n",
       "      <td>historical</td>\n",
       "      <td>ACCESS-CM2</td>\n",
       "      <td>-19.375</td>\n",
       "      <td>34.625</td>\n",
       "      <td>5/1/1950</td>\n",
       "      <td>12.865736</td>\n",
       "      <td>5/1/1950</td>\n",
       "      <td>5/1/1950</td>\n",
       "      <td>5/1/1950</td>\n",
       "    </tr>\n",
       "    <tr>\n",
       "      <th>...</th>\n",
       "      <td>...</td>\n",
       "      <td>...</td>\n",
       "      <td>...</td>\n",
       "      <td>...</td>\n",
       "      <td>...</td>\n",
       "      <td>...</td>\n",
       "      <td>...</td>\n",
       "      <td>...</td>\n",
       "      <td>...</td>\n",
       "      <td>...</td>\n",
       "    </tr>\n",
       "    <tr>\n",
       "      <th>1048570</th>\n",
       "      <td>WTP_Mutua_EIB</td>\n",
       "      <td>ssp585</td>\n",
       "      <td>MIROC6</td>\n",
       "      <td>-19.375</td>\n",
       "      <td>34.625</td>\n",
       "      <td>14-11-2018</td>\n",
       "      <td>0.941626</td>\n",
       "      <td>14-11-2018</td>\n",
       "      <td>14-11-2018</td>\n",
       "      <td>14-11-2018</td>\n",
       "    </tr>\n",
       "    <tr>\n",
       "      <th>1048571</th>\n",
       "      <td>WTP_Mutua_EIB</td>\n",
       "      <td>ssp585</td>\n",
       "      <td>MIROC6</td>\n",
       "      <td>-19.375</td>\n",
       "      <td>34.625</td>\n",
       "      <td>15-11-2018</td>\n",
       "      <td>2.936360</td>\n",
       "      <td>15-11-2018</td>\n",
       "      <td>15-11-2018</td>\n",
       "      <td>15-11-2018</td>\n",
       "    </tr>\n",
       "    <tr>\n",
       "      <th>1048572</th>\n",
       "      <td>WTP_Mutua_EIB</td>\n",
       "      <td>ssp585</td>\n",
       "      <td>MIROC6</td>\n",
       "      <td>-19.375</td>\n",
       "      <td>34.625</td>\n",
       "      <td>16-11-2018</td>\n",
       "      <td>0.000000</td>\n",
       "      <td>16-11-2018</td>\n",
       "      <td>16-11-2018</td>\n",
       "      <td>16-11-2018</td>\n",
       "    </tr>\n",
       "    <tr>\n",
       "      <th>1048573</th>\n",
       "      <td>WTP_Mutua_EIB</td>\n",
       "      <td>ssp585</td>\n",
       "      <td>MIROC6</td>\n",
       "      <td>-19.375</td>\n",
       "      <td>34.625</td>\n",
       "      <td>17-11-2018</td>\n",
       "      <td>0.000000</td>\n",
       "      <td>17-11-2018</td>\n",
       "      <td>17-11-2018</td>\n",
       "      <td>17-11-2018</td>\n",
       "    </tr>\n",
       "    <tr>\n",
       "      <th>1048574</th>\n",
       "      <td>WTP_Mutua_EIB</td>\n",
       "      <td>ssp585</td>\n",
       "      <td>MIROC6</td>\n",
       "      <td>-19.375</td>\n",
       "      <td>34.625</td>\n",
       "      <td>18-11-2018</td>\n",
       "      <td>0.000000</td>\n",
       "      <td>18-11-2018</td>\n",
       "      <td>18-11-2018</td>\n",
       "      <td>18-11-2018</td>\n",
       "    </tr>\n",
       "  </tbody>\n",
       "</table>\n",
       "<p>1048575 rows × 10 columns</p>\n",
       "</div>"
      ],
      "text/plain": [
       "          Name project  Experiment       Model  Latitude  Longitude  \\\n",
       "0        WTP_Mutua_EIB  historical  ACCESS-CM2   -19.375     34.625   \n",
       "1        WTP_Mutua_EIB  historical  ACCESS-CM2   -19.375     34.625   \n",
       "2        WTP_Mutua_EIB  historical  ACCESS-CM2   -19.375     34.625   \n",
       "3        WTP_Mutua_EIB  historical  ACCESS-CM2   -19.375     34.625   \n",
       "4        WTP_Mutua_EIB  historical  ACCESS-CM2   -19.375     34.625   \n",
       "...                ...         ...         ...       ...        ...   \n",
       "1048570  WTP_Mutua_EIB      ssp585      MIROC6   -19.375     34.625   \n",
       "1048571  WTP_Mutua_EIB      ssp585      MIROC6   -19.375     34.625   \n",
       "1048572  WTP_Mutua_EIB      ssp585      MIROC6   -19.375     34.625   \n",
       "1048573  WTP_Mutua_EIB      ssp585      MIROC6   -19.375     34.625   \n",
       "1048574  WTP_Mutua_EIB      ssp585      MIROC6   -19.375     34.625   \n",
       "\n",
       "               Date  Mean of the daily precipitation rate mm_per_day  \\\n",
       "0          1/1/1950                                         0.657509   \n",
       "1          2/1/1950                                         0.442182   \n",
       "2          3/1/1950                                         0.031404   \n",
       "3          4/1/1950                                        15.071664   \n",
       "4          5/1/1950                                        12.865736   \n",
       "...             ...                                              ...   \n",
       "1048570  14-11-2018                                         0.941626   \n",
       "1048571  15-11-2018                                         2.936360   \n",
       "1048572  16-11-2018                                         0.000000   \n",
       "1048573  17-11-2018                                         0.000000   \n",
       "1048574  18-11-2018                                         0.000000   \n",
       "\n",
       "               Year       Month      Season  \n",
       "0          1/1/1950    1/1/1950    1/1/1950  \n",
       "1          2/1/1950    2/1/1950    2/1/1950  \n",
       "2          3/1/1950    3/1/1950    3/1/1950  \n",
       "3          4/1/1950    4/1/1950    4/1/1950  \n",
       "4          5/1/1950    5/1/1950    5/1/1950  \n",
       "...             ...         ...         ...  \n",
       "1048570  14-11-2018  14-11-2018  14-11-2018  \n",
       "1048571  15-11-2018  15-11-2018  15-11-2018  \n",
       "1048572  16-11-2018  16-11-2018  16-11-2018  \n",
       "1048573  17-11-2018  17-11-2018  17-11-2018  \n",
       "1048574  18-11-2018  18-11-2018  18-11-2018  \n",
       "\n",
       "[1048575 rows x 10 columns]"
      ]
     },
     "execution_count": 14,
     "metadata": {},
     "output_type": "execute_result"
    }
   ],
   "source": [
    "climate_var_NEX_GDDP_CMIP6_Project[climate_var_NEX_GDDP_CMIP6_Project['Name project']=='WTP_Mutua_EIB']"
   ]
  },
  {
   "cell_type": "code",
   "execution_count": 15,
   "id": "de1ec631",
   "metadata": {},
   "outputs": [],
   "source": [
    "climate_var_NEX_GDDP_CMIP6_EmplacementStation=import_treat_modeled_NEX_GDDP_CMIP6_close_to_stationNOAA(climate_var, 'mm_per_day')"
   ]
  },
  {
   "cell_type": "code",
   "execution_count": 16,
   "id": "869a1c4f",
   "metadata": {},
   "outputs": [],
   "source": [
    "df = treat_data_for_test(data_obs_NOAA,'PRCP',climate_var_NEX_GDDP_CMIP6_EmplacementStation,'Mean of the daily precipitation rate mm/day','BEIRA, MZ','TaiESM1')"
   ]
  },
  {
   "cell_type": "code",
   "execution_count": null,
   "id": "3f2a4aaf",
   "metadata": {},
   "outputs": [],
   "source": [
    "df[('training','pcp')]"
   ]
  },
  {
   "cell_type": "code",
   "execution_count": 27,
   "id": "73f8d3fe",
   "metadata": {},
   "outputs": [
    {
     "name": "stdout",
     "output_type": "stream",
     "text": [
      "4.644602317257766\n"
     ]
    },
    {
     "ename": "ValueError",
     "evalue": "Length of values (2564) does not match length of index (10337)",
     "output_type": "error",
     "traceback": [
      "\u001b[1;31m---------------------------------------------------------------------------\u001b[0m",
      "\u001b[1;31mValueError\u001b[0m                                Traceback (most recent call last)",
      "Cell \u001b[1;32mIn[27], line 1\u001b[0m\n\u001b[1;32m----> 1\u001b[0m (X_train, X_test, y_train, y_test,pred)\u001b[38;5;241m=\u001b[39m\u001b[43mBC\u001b[49m\u001b[43m(\u001b[49m\u001b[43mdf\u001b[49m\u001b[43m,\u001b[49m\u001b[38;5;124;43m'\u001b[39;49m\u001b[38;5;124;43mpcp\u001b[39;49m\u001b[38;5;124;43m'\u001b[39;49m\u001b[43m,\u001b[49m\u001b[38;5;124;43m'\u001b[39;49m\u001b[38;5;124;43mQuantile_Linear_Regression\u001b[39;49m\u001b[38;5;124;43m'\u001b[39;49m\u001b[43m)\u001b[49m\n",
      "Cell \u001b[1;32mIn[26], line 12\u001b[0m, in \u001b[0;36mBC\u001b[1;34m(df, name_col, method)\u001b[0m\n\u001b[0;32m     10\u001b[0m     (X_train, X_test, y_train, y_test,pred)\u001b[38;5;241m=\u001b[39mpiecewise_regressor(df,name_col)\n\u001b[0;32m     11\u001b[0m \u001b[38;5;28;01mif\u001b[39;00m method \u001b[38;5;241m==\u001b[39m \u001b[38;5;124m'\u001b[39m\u001b[38;5;124mQuantile_Linear_Regression\u001b[39m\u001b[38;5;124m'\u001b[39m:\n\u001b[1;32m---> 12\u001b[0m     (X_train, X_test, y_train, y_test,pred)\u001b[38;5;241m=\u001b[39m\u001b[43mQuantile_Linear_Regression\u001b[49m\u001b[43m(\u001b[49m\u001b[43mdf\u001b[49m\u001b[43m,\u001b[49m\u001b[43mname_col\u001b[49m\u001b[43m)\u001b[49m\n\u001b[0;32m     13\u001b[0m \u001b[38;5;28;01mif\u001b[39;00m method \u001b[38;5;241m==\u001b[39m \u001b[38;5;124m'\u001b[39m\u001b[38;5;124mBcsd_Precipitation\u001b[39m\u001b[38;5;124m'\u001b[39m:\n\u001b[0;32m     14\u001b[0m     (X_train, X_test, y_train, y_test,pred)\u001b[38;5;241m=\u001b[39mBCSD_Precipitation(df)\n",
      "Cell \u001b[1;32mIn[23], line 20\u001b[0m, in \u001b[0;36mQuantile_Linear_Regression\u001b[1;34m(df, name_col)\u001b[0m\n\u001b[0;32m     18\u001b[0m df_ \u001b[38;5;241m=\u001b[39m pd\u001b[38;5;241m.\u001b[39mDataFrame()\n\u001b[0;32m     19\u001b[0m df_[\u001b[38;5;124m'\u001b[39m\u001b[38;5;124mtime\u001b[39m\u001b[38;5;124m'\u001b[39m] \u001b[38;5;241m=\u001b[39m time\n\u001b[1;32m---> 20\u001b[0m \u001b[43mdf_\u001b[49m\u001b[43m[\u001b[49m\u001b[38;5;124;43m'\u001b[39;49m\u001b[38;5;124;43mpcp\u001b[39;49m\u001b[38;5;124;43m'\u001b[39;49m\u001b[43m]\u001b[49m \u001b[38;5;241m=\u001b[39m pred\n\u001b[0;32m     22\u001b[0m \u001b[38;5;66;03m#out = pd.DataFrame()\u001b[39;00m\n\u001b[0;32m     23\u001b[0m \u001b[38;5;66;03m#out['time'] = y_train.index\u001b[39;00m\n\u001b[0;32m     24\u001b[0m \u001b[38;5;66;03m#out['pcp'] = pred\u001b[39;00m\n\u001b[0;32m     25\u001b[0m \u001b[38;5;66;03m#out = out.set_index('time')\u001b[39;00m\n\u001b[0;32m     26\u001b[0m \u001b[38;5;66;03m#columns=[('training','pcp')]\u001b[39;00m\n\u001b[0;32m     27\u001b[0m \u001b[38;5;66;03m#out.columns=pd.MultiIndex.from_tuples(columns)\u001b[39;00m\n\u001b[0;32m     28\u001b[0m \u001b[38;5;28;01mreturn\u001b[39;00m (X_train, X_test, y_train, y_test,pred)\n",
      "File \u001b[1;32m~\\AppData\\Local\\miniconda3\\envs\\geodata\\lib\\site-packages\\pandas\\core\\frame.py:3950\u001b[0m, in \u001b[0;36mDataFrame.__setitem__\u001b[1;34m(self, key, value)\u001b[0m\n\u001b[0;32m   3947\u001b[0m     \u001b[38;5;28mself\u001b[39m\u001b[38;5;241m.\u001b[39m_setitem_array([key], value)\n\u001b[0;32m   3948\u001b[0m \u001b[38;5;28;01melse\u001b[39;00m:\n\u001b[0;32m   3949\u001b[0m     \u001b[38;5;66;03m# set column\u001b[39;00m\n\u001b[1;32m-> 3950\u001b[0m     \u001b[38;5;28;43mself\u001b[39;49m\u001b[38;5;241;43m.\u001b[39;49m\u001b[43m_set_item\u001b[49m\u001b[43m(\u001b[49m\u001b[43mkey\u001b[49m\u001b[43m,\u001b[49m\u001b[43m \u001b[49m\u001b[43mvalue\u001b[49m\u001b[43m)\u001b[49m\n",
      "File \u001b[1;32m~\\AppData\\Local\\miniconda3\\envs\\geodata\\lib\\site-packages\\pandas\\core\\frame.py:4143\u001b[0m, in \u001b[0;36mDataFrame._set_item\u001b[1;34m(self, key, value)\u001b[0m\n\u001b[0;32m   4133\u001b[0m \u001b[38;5;28;01mdef\u001b[39;00m \u001b[38;5;21m_set_item\u001b[39m(\u001b[38;5;28mself\u001b[39m, key, value) \u001b[38;5;241m-\u001b[39m\u001b[38;5;241m>\u001b[39m \u001b[38;5;28;01mNone\u001b[39;00m:\n\u001b[0;32m   4134\u001b[0m \u001b[38;5;250m    \u001b[39m\u001b[38;5;124;03m\"\"\"\u001b[39;00m\n\u001b[0;32m   4135\u001b[0m \u001b[38;5;124;03m    Add series to DataFrame in specified column.\u001b[39;00m\n\u001b[0;32m   4136\u001b[0m \n\u001b[1;32m   (...)\u001b[0m\n\u001b[0;32m   4141\u001b[0m \u001b[38;5;124;03m    ensure homogeneity.\u001b[39;00m\n\u001b[0;32m   4142\u001b[0m \u001b[38;5;124;03m    \"\"\"\u001b[39;00m\n\u001b[1;32m-> 4143\u001b[0m     value \u001b[38;5;241m=\u001b[39m \u001b[38;5;28;43mself\u001b[39;49m\u001b[38;5;241;43m.\u001b[39;49m\u001b[43m_sanitize_column\u001b[49m\u001b[43m(\u001b[49m\u001b[43mvalue\u001b[49m\u001b[43m)\u001b[49m\n\u001b[0;32m   4145\u001b[0m     \u001b[38;5;28;01mif\u001b[39;00m (\n\u001b[0;32m   4146\u001b[0m         key \u001b[38;5;129;01min\u001b[39;00m \u001b[38;5;28mself\u001b[39m\u001b[38;5;241m.\u001b[39mcolumns\n\u001b[0;32m   4147\u001b[0m         \u001b[38;5;129;01mand\u001b[39;00m value\u001b[38;5;241m.\u001b[39mndim \u001b[38;5;241m==\u001b[39m \u001b[38;5;241m1\u001b[39m\n\u001b[0;32m   4148\u001b[0m         \u001b[38;5;129;01mand\u001b[39;00m \u001b[38;5;129;01mnot\u001b[39;00m is_extension_array_dtype(value)\n\u001b[0;32m   4149\u001b[0m     ):\n\u001b[0;32m   4150\u001b[0m         \u001b[38;5;66;03m# broadcast across multiple columns if necessary\u001b[39;00m\n\u001b[0;32m   4151\u001b[0m         \u001b[38;5;28;01mif\u001b[39;00m \u001b[38;5;129;01mnot\u001b[39;00m \u001b[38;5;28mself\u001b[39m\u001b[38;5;241m.\u001b[39mcolumns\u001b[38;5;241m.\u001b[39mis_unique \u001b[38;5;129;01mor\u001b[39;00m \u001b[38;5;28misinstance\u001b[39m(\u001b[38;5;28mself\u001b[39m\u001b[38;5;241m.\u001b[39mcolumns, MultiIndex):\n",
      "File \u001b[1;32m~\\AppData\\Local\\miniconda3\\envs\\geodata\\lib\\site-packages\\pandas\\core\\frame.py:4870\u001b[0m, in \u001b[0;36mDataFrame._sanitize_column\u001b[1;34m(self, value)\u001b[0m\n\u001b[0;32m   4867\u001b[0m     \u001b[38;5;28;01mreturn\u001b[39;00m _reindex_for_setitem(Series(value), \u001b[38;5;28mself\u001b[39m\u001b[38;5;241m.\u001b[39mindex)\n\u001b[0;32m   4869\u001b[0m \u001b[38;5;28;01mif\u001b[39;00m is_list_like(value):\n\u001b[1;32m-> 4870\u001b[0m     \u001b[43mcom\u001b[49m\u001b[38;5;241;43m.\u001b[39;49m\u001b[43mrequire_length_match\u001b[49m\u001b[43m(\u001b[49m\u001b[43mvalue\u001b[49m\u001b[43m,\u001b[49m\u001b[43m \u001b[49m\u001b[38;5;28;43mself\u001b[39;49m\u001b[38;5;241;43m.\u001b[39;49m\u001b[43mindex\u001b[49m\u001b[43m)\u001b[49m\n\u001b[0;32m   4871\u001b[0m \u001b[38;5;28;01mreturn\u001b[39;00m sanitize_array(value, \u001b[38;5;28mself\u001b[39m\u001b[38;5;241m.\u001b[39mindex, copy\u001b[38;5;241m=\u001b[39m\u001b[38;5;28;01mTrue\u001b[39;00m, allow_2d\u001b[38;5;241m=\u001b[39m\u001b[38;5;28;01mTrue\u001b[39;00m)\n",
      "File \u001b[1;32m~\\AppData\\Local\\miniconda3\\envs\\geodata\\lib\\site-packages\\pandas\\core\\common.py:576\u001b[0m, in \u001b[0;36mrequire_length_match\u001b[1;34m(data, index)\u001b[0m\n\u001b[0;32m    572\u001b[0m \u001b[38;5;250m\u001b[39m\u001b[38;5;124;03m\"\"\"\u001b[39;00m\n\u001b[0;32m    573\u001b[0m \u001b[38;5;124;03mCheck the length of data matches the length of the index.\u001b[39;00m\n\u001b[0;32m    574\u001b[0m \u001b[38;5;124;03m\"\"\"\u001b[39;00m\n\u001b[0;32m    575\u001b[0m \u001b[38;5;28;01mif\u001b[39;00m \u001b[38;5;28mlen\u001b[39m(data) \u001b[38;5;241m!=\u001b[39m \u001b[38;5;28mlen\u001b[39m(index):\n\u001b[1;32m--> 576\u001b[0m     \u001b[38;5;28;01mraise\u001b[39;00m \u001b[38;5;167;01mValueError\u001b[39;00m(\n\u001b[0;32m    577\u001b[0m         \u001b[38;5;124m\"\u001b[39m\u001b[38;5;124mLength of values \u001b[39m\u001b[38;5;124m\"\u001b[39m\n\u001b[0;32m    578\u001b[0m         \u001b[38;5;124mf\u001b[39m\u001b[38;5;124m\"\u001b[39m\u001b[38;5;124m(\u001b[39m\u001b[38;5;132;01m{\u001b[39;00m\u001b[38;5;28mlen\u001b[39m(data)\u001b[38;5;132;01m}\u001b[39;00m\u001b[38;5;124m) \u001b[39m\u001b[38;5;124m\"\u001b[39m\n\u001b[0;32m    579\u001b[0m         \u001b[38;5;124m\"\u001b[39m\u001b[38;5;124mdoes not match length of index \u001b[39m\u001b[38;5;124m\"\u001b[39m\n\u001b[0;32m    580\u001b[0m         \u001b[38;5;124mf\u001b[39m\u001b[38;5;124m\"\u001b[39m\u001b[38;5;124m(\u001b[39m\u001b[38;5;132;01m{\u001b[39;00m\u001b[38;5;28mlen\u001b[39m(index)\u001b[38;5;132;01m}\u001b[39;00m\u001b[38;5;124m)\u001b[39m\u001b[38;5;124m\"\u001b[39m\n\u001b[0;32m    581\u001b[0m     )\n",
      "\u001b[1;31mValueError\u001b[0m: Length of values (2564) does not match length of index (10337)"
     ]
    }
   ],
   "source": [
    "(X_train, X_test, y_train, y_test,pred)=BC(df,'pcp','Quantile_Linear_Regression')"
   ]
  },
  {
   "cell_type": "code",
   "execution_count": 21,
   "id": "60dbee64",
   "metadata": {},
   "outputs": [
    {
     "data": {
      "text/plain": [
       "(array([ 6.40184996,  0.48491583,  0.        , ...,  0.10471207,\n",
       "         0.        , 15.89117437]),\n",
       " array([11.78825204,  0.        ,  0.5503845 , ...,  4.87627108,\n",
       "         3.78698786,  1.27225275]),\n",
       " array([ 34.7,   0. , 147.1, ...,   3. ,   0. ,   0. ]),\n",
       " array([0. , 0. , 1. , ..., 0. , 0. , 9.5]),\n",
       " array([0.39629146, 0.07990827, 0.09467996, ..., 0.21078181, 0.18154669,\n",
       "        0.11405408]))"
      ]
     },
     "execution_count": 21,
     "metadata": {},
     "output_type": "execute_result"
    }
   ],
   "source": [
    "pred"
   ]
  },
  {
   "cell_type": "code",
   "execution_count": null,
   "id": "605d96f9",
   "metadata": {},
   "outputs": [],
   "source": []
  },
  {
   "cell_type": "code",
   "execution_count": 28,
   "id": "bdeab63a",
   "metadata": {},
   "outputs": [
    {
     "data": {
      "image/png": "[encoded data removed]",
      "text/plain": [
       "<Figure size 640x480 with 1 Axes>"
      ]
     },
     "metadata": {},
     "output_type": "display_data"
    }
   ],
   "source": [
    "(X_train, X_test, y_train, y_test,pred)=BC(df,'pcp','Bcsd_Precipitation')"
   ]
  },
  {
   "cell_type": "code",
   "execution_count": 30,
   "id": "8352bfe1",
   "metadata": {},
   "outputs": [
    {
     "data": {
      "text/plain": [
       "<Axes: >"
      ]
     },
     "execution_count": 30,
     "metadata": {},
     "output_type": "execute_result"
    }
   ],
   "source": [
    "pred"
   ]
  },
  {
   "cell_type": "code",
   "execution_count": null,
   "id": "d2d3d6e1",
   "metadata": {},
   "outputs": [],
   "source": []
  },
  {
   "cell_type": "code",
   "execution_count": null,
   "id": "a210dbd6",
   "metadata": {},
   "outputs": [],
   "source": []
  },
  {
   "cell_type": "code",
   "execution_count": null,
   "id": "0d60ae83",
   "metadata": {},
   "outputs": [],
   "source": []
  },
  {
   "cell_type": "code",
   "execution_count": null,
   "id": "ed2e1535",
   "metadata": {},
   "outputs": [],
   "source": []
  },
  {
   "cell_type": "code",
   "execution_count": null,
   "id": "a93f22c7",
   "metadata": {},
   "outputs": [],
   "source": [
    "# comment on fait pour savoir chronologie de donnees corrigees ?"
   ]
  },
  {
   "cell_type": "code",
   "execution_count": null,
   "id": "d1ca3d5a",
   "metadata": {},
   "outputs": [],
   "source": []
  },
  {
   "cell_type": "code",
   "execution_count": null,
   "id": "9e945d26",
   "metadata": {},
   "outputs": [],
   "source": []
  },
  {
   "cell_type": "code",
   "execution_count": null,
   "id": "bde6b95e",
   "metadata": {},
   "outputs": [],
   "source": []
  },
  {
   "cell_type": "code",
   "execution_count": null,
   "id": "02f3349d",
   "metadata": {},
   "outputs": [],
   "source": []
  },
  {
   "cell_type": "code",
   "execution_count": null,
   "id": "05001007",
   "metadata": {},
   "outputs": [],
   "source": []
  },
  {
   "cell_type": "code",
   "execution_count": null,
   "id": "4a4a57c8",
   "metadata": {},
   "outputs": [],
   "source": []
  },
  {
   "cell_type": "code",
   "execution_count": null,
   "id": "a08dabfc",
   "metadata": {},
   "outputs": [],
   "source": []
  },
  {
   "cell_type": "code",
   "execution_count": null,
   "id": "1ac44e10",
   "metadata": {},
   "outputs": [],
   "source": []
  },
  {
   "cell_type": "code",
   "execution_count": null,
   "id": "8393a7a5",
   "metadata": {},
   "outputs": [],
   "source": []
  },
  {
   "cell_type": "code",
   "execution_count": null,
   "id": "2f6fd7d8",
   "metadata": {},
   "outputs": [],
   "source": []
  },
  {
   "cell_type": "code",
   "execution_count": null,
   "id": "45f531fe",
   "metadata": {},
   "outputs": [],
   "source": []
  },
  {
   "cell_type": "code",
   "execution_count": null,
   "id": "fc3c0987",
   "metadata": {},
   "outputs": [],
   "source": []
  },
  {
   "cell_type": "code",
   "execution_count": null,
   "id": "6f2790a7",
   "metadata": {},
   "outputs": [],
   "source": []
  },
  {
   "cell_type": "code",
   "execution_count": null,
   "id": "5777492a",
   "metadata": {},
   "outputs": [],
   "source": [
    "# test bcsd one more time"
   ]
  },
  {
   "cell_type": "code",
   "execution_count": null,
   "id": "ac02a281",
   "metadata": {},
   "outputs": [],
   "source": [
    "climate_var_NEX_GDDP_CMIP6_EmplacementStation_BC=climate_var_NEX_GDDP_CMIP6_EmplacementStation[climate_var_NEX_GDDP_CMIP6_EmplacementStation['Name project']==name_station].drop(['Name project','Year','Month','Season'],axis =1)\n",
    "climate_var_NEX_GDDP_CMIP6_EmplacementStation_BC_model = climate_var_NEX_GDDP_CMIP6_EmplacementStation_BC[climate_var_NEX_GDDP_CMIP6_EmplacementStation_BC['Model'] =='ACCESS-CM2'].drop(['Model'],axis=1)\n",
    "training = climate_var_NEX_GDDP_CMIP6_EmplacementStation_BC_model.rename(columns = {'Date':'time','Mean of the daily precipitation rate mm/day':'pcp'}).reset_index()\n",
    "\n",
    "# changing format of Date for training\n",
    "Date1 = training['time'].values\n",
    "for i in np.arange(0,len(training)):\n",
    "    training['time'][i] = Date1[i][6:10]+'-'+Date1[i][3:5]+'-'+Date1[i][0:2]#datetime.strptime(, '%Y-%M-%d').date()\n",
    "    print(training['time'][i])\n",
    "# .date() to avoid having the hours in the datetime\n",
    "training=training.set_index('time').drop(['index'],axis=1)\n",
    "\n",
    "\n",
    "# targets\n",
    "targets = data_obs_NOAA[['NAME','DATE','PRCP']] # select only 3 columns of interest\n",
    "targets = targets[targets['NAME']==name_station].rename(columns = {'DATE':'time','PRCP':'pcp'}).set_index('time').drop(['NAME'],axis=1) # the targets data is meant to represent our \"observations\"\n",
    "\n",
    "\n",
    "# to have the same size of vectors\n",
    "targets = targets.dropna() # drop rows with NaN\n",
    "training = training[training.index.isin(list(targets.index))]"
   ]
  },
  {
   "cell_type": "code",
   "execution_count": null,
   "id": "e135897a",
   "metadata": {},
   "outputs": [],
   "source": [
    "df=pd.concat({'training': training, 'targets': targets}, axis=1)\n",
    "\n",
    "df=df.dropna()"
   ]
  },
  {
   "cell_type": "code",
   "execution_count": null,
   "id": "c2ca5917",
   "metadata": {},
   "outputs": [],
   "source": [
    "df = df.droplevel(1,axis=1)\n",
    "df"
   ]
  },
  {
   "cell_type": "code",
   "execution_count": null,
   "id": "fdfdb021",
   "metadata": {},
   "outputs": [],
   "source": [
    "out=BCSD_Precipitation(df)"
   ]
  },
  {
   "cell_type": "code",
   "execution_count": null,
   "id": "6de7bdb7",
   "metadata": {},
   "outputs": [],
   "source": [
    "out"
   ]
  },
  {
   "cell_type": "code",
   "execution_count": null,
   "id": "1514efa6",
   "metadata": {},
   "outputs": [],
   "source": [
    "# return period before first BC\n",
    "out3 = add_year_month_season(out.reset_index(),'time')\n",
    "Z=out3.groupby('Year')[['pcp']].max()\n",
    "(loc1,scale)=stats.gumbel_r.fit(Z) # return the function necessary to establish the continous function\n",
    "# choice of gumbel because suits to extreme precipitation\n",
    "#return_period.loc[(name_p,ssp,model),('Value for return period 50 years mm/day')] = \n",
    "#threshold_coresponding_to_return_period(loc1,scale,50) ## 113\n",
    "#return_period.loc[(name_p,ssp,model),('Value for return period 100 years mm/day')] = \n",
    "threshold_coresponding_to_return_period(loc1,scale,100) # 124"
   ]
  },
  {
   "cell_type": "code",
   "execution_count": null,
   "id": "a8ad233d",
   "metadata": {},
   "outputs": [],
   "source": [
    "out=BCSD_Precipitation_one_more_time(df,out) # second time"
   ]
  },
  {
   "cell_type": "code",
   "execution_count": null,
   "id": "d789e8cf",
   "metadata": {
    "scrolled": true
   },
   "outputs": [],
   "source": [
    "out"
   ]
  },
  {
   "cell_type": "code",
   "execution_count": null,
   "id": "01ecf698",
   "metadata": {},
   "outputs": [],
   "source": [
    "out=BCSD_Precipitation_one_more_time(df,out) # third time"
   ]
  },
  {
   "cell_type": "code",
   "execution_count": null,
   "id": "aa92c3f8",
   "metadata": {},
   "outputs": [],
   "source": [
    "out"
   ]
  },
  {
   "cell_type": "code",
   "execution_count": null,
   "id": "f4c340d8",
   "metadata": {},
   "outputs": [],
   "source": [
    "out=BCSD_Precipitation_one_more_time(df,out) # fourth time"
   ]
  },
  {
   "cell_type": "code",
   "execution_count": null,
   "id": "04dc61d7",
   "metadata": {},
   "outputs": [],
   "source": [
    "out3 = add_year_month_season(out.reset_index(),'time')"
   ]
  },
  {
   "cell_type": "code",
   "execution_count": null,
   "id": "e3273049",
   "metadata": {},
   "outputs": [],
   "source": [
    "out3"
   ]
  },
  {
   "cell_type": "code",
   "execution_count": null,
   "id": "d5571101",
   "metadata": {},
   "outputs": [],
   "source": [
    "Z=out3.groupby('Year')[['pcp']].max()"
   ]
  },
  {
   "cell_type": "code",
   "execution_count": null,
   "id": "216b4780",
   "metadata": {},
   "outputs": [],
   "source": [
    "out"
   ]
  },
  {
   "cell_type": "code",
   "execution_count": null,
   "id": "08728c9e",
   "metadata": {},
   "outputs": [],
   "source": [
    "(loc1,scale)=stats.gumbel_r.fit(Z) # return the function necessary to establish the continous function\n",
    "# choice of gumbel because suits to extreme precipitation\n",
    "#return_period.loc[(name_p,ssp,model),('Value for return period 50 years mm/day')] = \n",
    "threshold_coresponding_to_return_period(loc1,scale,50) ## 220\n",
    "#return_period.loc[(name_p,ssp,model),('Value for return period 100 years mm/day')] = \n",
    "#threshold_coresponding_to_return_period(loc1,scale,100) # 245"
   ]
  },
  {
   "cell_type": "code",
   "execution_count": null,
   "id": "6aa0234e",
   "metadata": {},
   "outputs": [],
   "source": [
    "out=BCSD_Precipitation_one_more_time(df,out) # fifth time"
   ]
  },
  {
   "cell_type": "code",
   "execution_count": null,
   "id": "689a3bea",
   "metadata": {},
   "outputs": [],
   "source": [
    "out"
   ]
  },
  {
   "cell_type": "code",
   "execution_count": null,
   "id": "2c8bae70",
   "metadata": {},
   "outputs": [],
   "source": [
    "out = add_year_month_season(out.reset_index(),'time')"
   ]
  },
  {
   "cell_type": "code",
   "execution_count": null,
   "id": "f555b7c0",
   "metadata": {},
   "outputs": [],
   "source": [
    "Z=out.groupby('Year')[['pcp']].max()"
   ]
  },
  {
   "cell_type": "code",
   "execution_count": null,
   "id": "ffdceefb",
   "metadata": {},
   "outputs": [],
   "source": [
    "(loc1,scale)=stats.gumbel_r.fit(Z) # return the function necessary to establish the continous function\n",
    "# choice of gumbel because suits to extreme precipitation\n",
    "#return_period.loc[(name_p,ssp,model),('Value for return period 50 years mm/day')] = \n",
    "threshold_coresponding_to_return_period(loc1,scale,50) ## 245\n",
    "#return_period.loc[(name_p,ssp,model),('Value for return period 100 years mm/day')] = \n",
    "#threshold_coresponding_to_return_period(loc1,scale,100) # 274"
   ]
  },
  {
   "cell_type": "code",
   "execution_count": null,
   "id": "d025688a",
   "metadata": {},
   "outputs": [],
   "source": []
  },
  {
   "cell_type": "code",
   "execution_count": null,
   "id": "7c4269f8",
   "metadata": {},
   "outputs": [],
   "source": []
  }
 ],
 "metadata": {
  "kernelspec": {
   "display_name": "Python 3 (ipykernel)",
   "language": "python",
   "name": "python3"
  },
  "language_info": {
   "codemirror_mode": {
    "name": "ipython",
    "version": 3
   },
   "file_extension": ".py",
   "mimetype": "text/x-python",
   "name": "python",
   "nbconvert_exporter": "python",
   "pygments_lexer": "ipython3",
   "version": "3.10.6"
  }
 },
 "nbformat": 4,
 "nbformat_minor": 5
}
