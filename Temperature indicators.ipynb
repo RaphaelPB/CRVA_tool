{
 "cells": [
  {
   "cell_type": "markdown",
   "id": "469656f4",
   "metadata": {},
   "source": [
    "# User Input"
   ]
  },
  {
   "cell_type": "code",
   "execution_count": null,
   "id": "f8c8726e",
   "metadata": {},
   "outputs": [],
   "source": [
    "variable_of_interest = 'tas_day_' # add list of available name variable\n",
    "# the user should indicate the years of the period of interest\n",
    "start_year = 1950\n",
    "stop_year = 2100 # if the user only wants one year, the same year as the start_year should be indicated"
   ]
  },
  {
   "cell_type": "markdown",
   "id": "ae26b2cd",
   "metadata": {},
   "source": [
    "# Import packages and functions"
   ]
  },
  {
   "cell_type": "code",
   "execution_count": null,
   "id": "05bec744",
   "metadata": {},
   "outputs": [],
   "source": [
    "import pandas as pd\n",
    "\n",
    "import os\n",
    "import os.path\n",
    "\n",
    "from netCDF4 import Dataset\n",
    "\n",
    "import xarray as xr\n",
    "\n",
    "import numpy as np\n",
    "import numpy.ma as ma"
   ]
  },
  {
   "cell_type": "markdown",
   "id": "5e431347",
   "metadata": {},
   "source": [
    "# Indicators"
   ]
  },
  {
   "cell_type": "code",
   "execution_count": null,
   "id": "3e7228fe",
   "metadata": {},
   "outputs": [],
   "source": [
    "## Average yearly temperature\n",
    "# use of tas day"
   ]
  },
  {
   "cell_type": "code",
   "execution_count": null,
   "id": "fe903ea3",
   "metadata": {},
   "outputs": [],
   "source": [
    "## Average annnual number of days with temperatures above 40 deg\n",
    "## MAXIM temperature in year"
   ]
  }
 ],
 "metadata": {
  "kernelspec": {
   "display_name": "Python 3 (ipykernel)",
   "language": "python",
   "name": "python3"
  },
  "language_info": {
   "codemirror_mode": {
    "name": "ipython",
    "version": 3
   },
   "file_extension": ".py",
   "mimetype": "text/x-python",
   "name": "python",
   "nbconvert_exporter": "python",
   "pygments_lexer": "ipython3",
   "version": "3.10.6"
  }
 },
 "nbformat": 4,
 "nbformat_minor": 5
}
