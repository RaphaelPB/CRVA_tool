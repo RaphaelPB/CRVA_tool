{
 "cells": [
  {
   "cell_type": "code",
   "execution_count": null,
   "id": "d93f7e3c",
   "metadata": {},
   "outputs": [],
   "source": [
    "from scipy import stats\n",
    "import pandas as pd\n",
    "from matplotlib import pyplot as plt\n",
    "import numpy as np\n",
    "from scipy.stats import gumbel_r\n",
    "from scipy.stats import gumbel_l\n",
    "import os\n",
    "import os.path"
   ]
  },
  {
   "cell_type": "code",
   "execution_count": null,
   "id": "3617617a",
   "metadata": {},
   "outputs": [],
   "source": [
    "out_path = r'\\\\COWI.net\\projects\\A245000\\A248363\\CRVA\\Datasets\\NEX-GDDP-CMIP6'\n",
    "csv_path = os.path.join(out_path,'csv_file','pr_day_2021-2060','All_projects_moz_precipitation_2021-2060.csv')\n",
    "precipitation_2021_2060 = pd.read_csv(csv_path,header=[0,1],index_col=[0,1,2,3,4])*86400 # units kg.m^(-2).s^(-1)\n",
    "# convert precipitation data from kg.m^(-2).s^(-1) to mm/day :  1 kg/m2/s = 86400 mm/day\n",
    "# source: https://www.researchgate.net/post/How-do-I-convert-ERA-Interim-precipitation-estimates-from-kg-m2-s-to-mm-day\n",
    "list_time_2021_2060=pd.date_range('01-01-2021','31-12-2060', freq='D').strftime('%d-%m-%Y').values.tolist()"
   ]
  },
  {
   "cell_type": "code",
   "execution_count": null,
   "id": "30081c9f",
   "metadata": {},
   "outputs": [],
   "source": [
    "# some models to not have any values for some scenarios\n",
    "# need to delete them from the global dataset\n",
    "\n",
    "# PROBLEM AVEC CETTE FUNCTION\n",
    "\n",
    "def delete_NaN_model(df):\n",
    "    df_copy=df.copy(deep=True) # copy the original dataframe, not to modify the original one    \n",
    "    model_to_delete =[]\n",
    "    longitude=[]\n",
    "    for project in df_copy.index.levels[0].tolist(): # projects\n",
    "        # look value of longitude for each project\n",
    "        for j in np.arange(0,len(df_copy.loc[[project]].columns)):\n",
    "            if ~df_copy[[df_copy.columns[j]]].isnull().values.all():\n",
    "                longitude.append(df_copy.columns[j])\n",
    "                continue\n",
    "        \n",
    "        for scenario in df_copy.index.levels[1].tolist(): # scenarios\n",
    "            for model in df_copy.index.levels[2].tolist(): # models\n",
    "                if df_copy.loc[(project,scenario, model)].isnull().values.all():\n",
    "                    print('No data for Project '+ project+', scenario '+scenario+', model '+model)\n",
    "                    # all the values for the given project, scenario and model are NaN\n",
    "                    if model not in model_to_delete:\n",
    "                        model_to_delete.append(model)# keep unique values\n",
    "    \n",
    "    if model_to_delete!=[]:\n",
    "        # for some given project, scenario and model, there is no values\n",
    "        for model in model_to_delete:\n",
    "            models_index = df_copy.index.levels[2].tolist()\n",
    "            models_index.remove(model)\n",
    "            df_copy.drop(labels=model,level=2,inplace=True)\n",
    "        \n",
    "        return models_index\n",
    "        # create new dataframe with correct index\n",
    "    return []\n",
    "    r'''\n",
    "    df = pd.DataFrame()\n",
    "    list_time_2021_2060=pd.date_range('01-01-2021','31-12-2060', freq='D').strftime('%d-%m-%Y').values.tolist()        \n",
    "    for i in np.arange(0,len(list(set(df_copy.reset_index()['Name project'].tolist())))):\n",
    "        midx = pd.MultiIndex.from_product([(list(set(df_copy.reset_index()['Name project'].tolist()))[i],),list(set(df_copy.reset_index()['Experiment'].tolist())), models_index, list_time_2021_2060, (str(np.array(df_copy.reset_index()['Latitude'])[np.where(np.array(df_copy.reset_index()['Name project'].tolist())==list(set(df_copy.reset_index()['Name project'].tolist()))[i])[0][0]]),)],names=['Name project','Experiment', 'Model', 'Date', 'Latitude'])\n",
    "        cols = pd.MultiIndex.from_product([(longitude[i][0],),(longitude[i][1],)])\n",
    "        Variable_dataframe = pd.DataFrame(data = df_copy.loc[(list(set(df_copy.reset_index()['Name project'].tolist()))[i]),((longitude[i][0],),(longitude[i][1],))].values, \n",
    "                                    index = midx,\n",
    "                                    columns = cols)\n",
    "        df = pd.concat([df,Variable_dataframe])\n",
    "        \n",
    "    return df,model_to_delete''' ## PAS tout ne s'enregistre corrrectement"
   ]
  },
  {
   "cell_type": "markdown",
   "id": "e02334c6",
   "metadata": {},
   "source": [
    "Project Chimoio_2ML_Reservoir, scenario ssp370, model NESM3\n",
    "The model NESM3 has no data"
   ]
  },
  {
   "cell_type": "code",
   "execution_count": null,
   "id": "550f87d0",
   "metadata": {},
   "outputs": [],
   "source": [
    "models_index=delete_NaN_model(precipitation_2021_2060)"
   ]
  },
  {
   "cell_type": "code",
   "execution_count": null,
   "id": "eebc4c2c",
   "metadata": {},
   "outputs": [],
   "source": [
    "models_index"
   ]
  },
  {
   "cell_type": "code",
   "execution_count": null,
   "id": "c6f59a84",
   "metadata": {},
   "outputs": [],
   "source": [
    "precipitation_2021_2060_no_NaN"
   ]
  },
  {
   "cell_type": "code",
   "execution_count": null,
   "id": "bc8294a9",
   "metadata": {},
   "outputs": [],
   "source": [
    "precipitation_2021_2060_copy.loc['PT_Nicoadala_F5','ssp585','ACCESS-CM2']"
   ]
  },
  {
   "cell_type": "code",
   "execution_count": null,
   "id": "75219adb",
   "metadata": {},
   "outputs": [],
   "source": []
  },
  {
   "cell_type": "code",
   "execution_count": null,
   "id": "eb0c1225",
   "metadata": {},
   "outputs": [],
   "source": [
    "# have statistiques for every climate var"
   ]
  },
  {
   "cell_type": "code",
   "execution_count": null,
   "id": "16b890b7",
   "metadata": {},
   "outputs": [],
   "source": [
    "df_test=precipitation_2021_2060.droplevel(level=4)\n",
    "df_test = df_test.loc[[precipitation_2021_2060.index.levels[0][0]],[df_test.columns[2]]]\n",
    "df_test.columns = df_test.columns.droplevel(0)\n",
    "df_test=df_test.rename(columns={'36.875':'Precipitation mm/day'})"
   ]
  },
  {
   "cell_type": "code",
   "execution_count": null,
   "id": "e38aef9e",
   "metadata": {},
   "outputs": [],
   "source": [
    "df_test"
   ]
  },
  {
   "cell_type": "code",
   "execution_count": null,
   "id": "789231ff",
   "metadata": {},
   "outputs": [],
   "source": [
    "df_test.index.levels[3]"
   ]
  },
  {
   "cell_type": "code",
   "execution_count": null,
   "id": "80d52b88",
   "metadata": {},
   "outputs": [],
   "source": [
    "df_test1 = df_test.reset_index()\n",
    "df_test1"
   ]
  },
  {
   "cell_type": "code",
   "execution_count": null,
   "id": "6821b2d9",
   "metadata": {
    "scrolled": true
   },
   "outputs": [],
   "source": [
    "df_projet0_percentile=df_test.groupby(['Date']).describe(percentiles=[.1, .5, .9])"
   ]
  },
  {
   "cell_type": "code",
   "execution_count": null,
   "id": "0155a8a2",
   "metadata": {},
   "outputs": [],
   "source": [
    "df_projet0_percentile"
   ]
  },
  {
   "cell_type": "code",
   "execution_count": null,
   "id": "b15dc9a6",
   "metadata": {},
   "outputs": [],
   "source": [
    "df_projet0_percentile.columns"
   ]
  },
  {
   "cell_type": "code",
   "execution_count": null,
   "id": "309da3dc",
   "metadata": {},
   "outputs": [],
   "source": [
    "df_projet0_percentile[[('Precipitation mm/day', '10%')]].plot()"
   ]
  },
  {
   "cell_type": "markdown",
   "id": "75ce8719",
   "metadata": {},
   "source": [
    "# Exposure"
   ]
  },
  {
   "cell_type": "code",
   "execution_count": null,
   "id": "56170086",
   "metadata": {},
   "outputs": [],
   "source": [
    "# Indicator number "
   ]
  },
  {
   "cell_type": "code",
   "execution_count": null,
   "id": "fc278062",
   "metadata": {},
   "outputs": [],
   "source": [
    "# this functions aims to calculate the n_day_event\n",
    "def n_day_maximum_rainfall(number_day,df):\n",
    "    df1=df.copy(deep=True)\n",
    "    # df.use function rolling(n).sum() to calculate cumulative precipitation over n days\n",
    "    df1[['Precipitation mm']]=df1[['Precipitation mm']].rolling(number_day).sum()\n",
    "    time=df1.index.tolist()\n",
    "    for k in np.arange(len(time)-number_day,-1,-1):\n",
    "        time[number_day-1+k] = time[k] + ' to '+time[number_day-1+k]\n",
    "    df1.drop(df1.index[np.arange(0,number_day-1)], inplace=True) # delete first elements which are NaNs\n",
    "    del time[0:number_day-1] # delete firsts elements, which have no value associated with\n",
    "    #midx = pd.MultiIndex.from_product([ time],names=['Date'])\n",
    "    name_col = ['Precipitation mm']\n",
    "    Dataframe_n_day_event = pd.DataFrame(data = df1.values, \n",
    "                                index = [time],\n",
    "                                columns = name_col)\n",
    "    return Dataframe_n_day_event"
   ]
  },
  {
   "cell_type": "code",
   "execution_count": null,
   "id": "bed5f561",
   "metadata": {},
   "outputs": [],
   "source": [
    "# this function aims to create the empty dataframe that will be filled\n",
    "\n",
    "def fill_dataframe(name_project,scenario,model,time,data_df):\n",
    "    #df = pd.DataFrame()\n",
    "    for i in np.arange(0,len(name_project)):\n",
    "        midx = pd.MultiIndex.from_product([(name_project,),(scenario,),(model,) , time],names=['Name project','Experiment', 'Model', 'Date'])\n",
    "        name_col = ['Precipitation mm']#['Precipitation '+str(number_day)+' day event mm']\n",
    "        Variable_dataframe = pd.DataFrame(data = data_df, \n",
    "                                    index = midx,\n",
    "                                    columns = name_col)\n",
    "        #df = pd.concat([df,Variable_dataframe])\n",
    "    return Variable_dataframe"
   ]
  },
  {
   "cell_type": "code",
   "execution_count": null,
   "id": "f3dbb312",
   "metadata": {},
   "outputs": [],
   "source": [
    "# function dataframe_n_day_event produce a dataframe, with the n_day event precipitation for the period, models and scenarios asked\n",
    "# this function use the function : 'delete_NaN_model', 'n_day_maximum_rainfall' and 'fill_dataframe'\n",
    "\n",
    "\n",
    "def dataframe_n_day_event(df,number_day):\n",
    "    df_copy=df.copy(deep=True) # copy the original dataframe, not to modify the original one    \n",
    "    df_n_day_event = pd.DataFrame() # create empty dataframe, that will be filled later\n",
    "    # extract years of the period of interest, make a vector containing all the years of interest\n",
    "    years = np.arange(int(df.index.levels[3].tolist()[0][6:10]),int(df.index.levels[3].tolist()[len(df.index.levels[3].tolist())-1][6:10])+1)\n",
    "    models_index=delete_NaN_model(precipitation_2021_2060) # use function 'delete_NaN_model' to know which models have no Nan values\n",
    "    df_copy=df_copy.droplevel(level=4) # drop latitude index\n",
    "    df_copy.columns = df_copy.columns.droplevel(0) # drop first level of column name\n",
    "    for project in df_copy.index.levels[0].tolist(): # projects\n",
    "        for scenario in df_copy.index.levels[1].tolist(): # scenarios\n",
    "            for model in models_index: # models\n",
    "                print('Project '+ project+', scenario '+scenario+', model '+model)\n",
    "                # select on project, one scenario, one model and drop Latitude index\n",
    "                df_temp_all_years = df_copy.loc[(project,scenario,model)]\n",
    "                # find which columns does not only have NaN\n",
    "                for j in np.arange(0,len(df_temp_all_years.columns)): # for loop to have number of the column\n",
    "                    if ~df_temp_all_years[[df_temp_all_years.columns[j]]].isnull().values.all():\n",
    "                        # the column does not only have Nan values\n",
    "                        df_temp_all_years=df_temp_all_years[[df_temp_all_years.columns[j]]] # register only column with values, and not the NaN values\n",
    "                        df_temp_all_years=df_temp_all_years.rename(columns={df_temp_all_years.columns[0]:'Precipitation mm'})\n",
    "                        # rename the column\n",
    "                        break # stop the for loop with the number of columns, because values were found\n",
    "                        # go to line if df_temp_all_years.columns.nlevels!=1:\n",
    "                if df_temp_all_years.columns.nlevels!=1:\n",
    "                    # the dataframe still has two levels of columns, so the precedent if condition was never fullfilled\n",
    "                    print('The model '+model+' has no data')\n",
    "                    continue # try with the next model\n",
    "                else:\n",
    "                    # the dataframe still has one level of columns, there was one column not containing only NaN values\n",
    "                    for year in years:\n",
    "                        print(year)\n",
    "                        df_temp_one_year = df_temp_all_years.filter(like = str(year), axis=0) # select only data for one year\n",
    "                        #return df_temp_one_year\n",
    "                        df_temp_one_year_n_event=n_day_maximum_rainfall(number_day,df_temp_one_year) # use function to calculate cumulative precipitation\n",
    "                        #return df_temp_one_year_n_event\n",
    "                        # format time vector differently\n",
    "                        time = [df_temp_one_year_n_event.index.tolist()[i][0] for i in np.arange(0,len(df_temp_one_year_n_event.index.tolist()))]\n",
    "                        # fill dataframe\n",
    "                        df_temp_one_year_n_event = fill_dataframe(project,scenario,model,time,df_temp_one_year_n_event.values)\n",
    "                        df_n_day_event = pd.concat([df_n_day_event,df_temp_one_year_n_event])\n",
    "    return df_n_day_event # return a dataframe, with all the projects, scenarios, models and period of n day"
   ]
  },
  {
   "cell_type": "code",
   "execution_count": null,
   "id": "09295156",
   "metadata": {},
   "outputs": [],
   "source": [
    "df_5_day_event=dataframe_n_day_event(precipitation_2021_2060,5) # checker si ca joue. a commencer a 19h35"
   ]
  },
  {
   "cell_type": "code",
   "execution_count": null,
   "id": "fa337821",
   "metadata": {},
   "outputs": [],
   "source": [
    "df_f"
   ]
  },
  {
   "cell_type": "code",
   "execution_count": null,
   "id": "107b650a",
   "metadata": {},
   "outputs": [],
   "source": [
    "precipitation_2021_2060_copy=precipitation_2021_2060.copy(deep=True)\n",
    "precipitation_2021_2060_copy"
   ]
  },
  {
   "cell_type": "code",
   "execution_count": null,
   "id": "5fdb86f1",
   "metadata": {},
   "outputs": [],
   "source": [
    "precipitation_2021_2060_copy.index.levels[0]"
   ]
  },
  {
   "cell_type": "code",
   "execution_count": null,
   "id": "b480b5f4",
   "metadata": {},
   "outputs": [],
   "source": [
    "precipitation_2021_2060_copy.loc[('Chimoio_2ML_Reservoir','ssp126','ACCESS-CM2'),('Longitude','36.875')][5]"
   ]
  },
  {
   "cell_type": "code",
   "execution_count": null,
   "id": "a5b64e45",
   "metadata": {},
   "outputs": [],
   "source": [
    "original=precipitation_2021_2060_copy.loc[('Chimoio_2ML_Reservoir','ssp126','ACCESS-CM2'),('Longitude','36.875')]"
   ]
  },
  {
   "cell_type": "code",
   "execution_count": null,
   "id": "95eddc62",
   "metadata": {},
   "outputs": [],
   "source": [
    "original = original.rolling(5).sum()\n",
    "original"
   ]
  },
  {
   "cell_type": "code",
   "execution_count": null,
   "id": "ca60b3c3",
   "metadata": {},
   "outputs": [],
   "source": [
    "original = original[4:len(original)]"
   ]
  },
  {
   "cell_type": "code",
   "execution_count": null,
   "id": "e2e46d96",
   "metadata": {},
   "outputs": [],
   "source": [
    "original"
   ]
  },
  {
   "cell_type": "code",
   "execution_count": null,
   "id": "4626347d",
   "metadata": {},
   "outputs": [],
   "source": []
  },
  {
   "cell_type": "code",
   "execution_count": null,
   "id": "13fa1c13",
   "metadata": {},
   "outputs": [],
   "source": [
    "(df_temp,time)=dataframe_n_day_event(precipitation_2021_2060,5) # checker si ca joue. a commencer a 19h35"
   ]
  },
  {
   "cell_type": "code",
   "execution_count": null,
   "id": "58510a7d",
   "metadata": {},
   "outputs": [],
   "source": [
    "df_temp"
   ]
  },
  {
   "cell_type": "code",
   "execution_count": null,
   "id": "7011eb7d",
   "metadata": {},
   "outputs": [],
   "source": [
    "time"
   ]
  },
  {
   "cell_type": "code",
   "execution_count": null,
   "id": "9e4a3066",
   "metadata": {},
   "outputs": [],
   "source": [
    "df_temp.index.tolist()"
   ]
  },
  {
   "cell_type": "code",
   "execution_count": null,
   "id": "bb7c690f",
   "metadata": {},
   "outputs": [],
   "source": [
    "precipitation_2021_2060.index.levels[0]"
   ]
  },
  {
   "cell_type": "code",
   "execution_count": null,
   "id": "220e6e03",
   "metadata": {},
   "outputs": [],
   "source": []
  },
  {
   "cell_type": "code",
   "execution_count": null,
   "id": "34da4160",
   "metadata": {},
   "outputs": [],
   "source": []
  },
  {
   "cell_type": "code",
   "execution_count": null,
   "id": "9990c3ac",
   "metadata": {},
   "outputs": [],
   "source": []
  },
  {
   "cell_type": "code",
   "execution_count": null,
   "id": "cf7826cc",
   "metadata": {},
   "outputs": [],
   "source": [
    "df_copy=precipitation_2021_2060.copy(deep=True)\n",
    "df_copy=df_copy.droplevel(level=4) # drop latitude index\n",
    "df_copy.columns = df_copy.columns.droplevel(0) # drop first level of column name\n",
    "df_copy=df_copy.loc[('Chimoio_2ML_Reservoir','ssp126','ACCESS-CM2')]#,('36.875')]\n",
    "#df_copydf_temp_all_years=df_temp_all_years.rename(columns={df_temp_all_years.columns[0]:'Precipitation mm'})\n",
    "df_copy=df_copy[['36.875']]\n",
    "df_copy=df_copy.rename(columns={df_copy.columns[0]:'Precipitation mm'})\n",
    "#df_copy['Precipitation mm']=df_copy['Precipitation mm'].rolling(5).sum\n",
    "#=df_copy[4:len(df_copy)]\n",
    "#df_copy"
   ]
  },
  {
   "cell_type": "code",
   "execution_count": null,
   "id": "571c8dbf",
   "metadata": {},
   "outputs": [],
   "source": [
    "type(df_copy)"
   ]
  },
  {
   "cell_type": "code",
   "execution_count": null,
   "id": "7cf5efdf",
   "metadata": {},
   "outputs": [],
   "source": [
    "dataf_test=n_day_maximum_rainfall(number_day,df)"
   ]
  },
  {
   "cell_type": "code",
   "execution_count": null,
   "id": "d0219aa2",
   "metadata": {},
   "outputs": [],
   "source": []
  },
  {
   "cell_type": "code",
   "execution_count": null,
   "id": "0a135d34",
   "metadata": {},
   "outputs": [],
   "source": []
  },
  {
   "cell_type": "code",
   "execution_count": null,
   "id": "06834f7d",
   "metadata": {},
   "outputs": [],
   "source": []
  },
  {
   "cell_type": "code",
   "execution_count": null,
   "id": "fca744ff",
   "metadata": {},
   "outputs": [],
   "source": [
    "# find non finite values"
   ]
  },
  {
   "cell_type": "code",
   "execution_count": null,
   "id": "3516ae3c",
   "metadata": {},
   "outputs": [],
   "source": [
    "non_finite_index=np.where(~np.isfinite(precipitation_2020_2060))[0].tolist()\n",
    "non_finite_index"
   ]
  },
  {
   "cell_type": "code",
   "execution_count": null,
   "id": "0cac8389",
   "metadata": {},
   "outputs": [],
   "source": [
    "len(non_finite_index)"
   ]
  },
  {
   "cell_type": "code",
   "execution_count": null,
   "id": "21722e12",
   "metadata": {},
   "outputs": [],
   "source": [
    "df_non_finite=precipitation_2020_2060.iloc[non_finite_index]\n",
    "df_non_finite"
   ]
  },
  {
   "cell_type": "code",
   "execution_count": null,
   "id": "ebc94400",
   "metadata": {},
   "outputs": [],
   "source": [
    "models_to_delete = []\n",
    "for i in (np.arange(0,len(df_non_finite.index.tolist())-1)):\n",
    "    if df_non_finite.index.tolist()[i][2] not in models_to_delete:\n",
    "        models_to_delete.append(df_non_finite.index.tolist()[i][2])"
   ]
  },
  {
   "cell_type": "code",
   "execution_count": null,
   "id": "169e5181",
   "metadata": {},
   "outputs": [],
   "source": [
    "models_to_delete"
   ]
  },
  {
   "cell_type": "code",
   "execution_count": null,
   "id": "d70e1e11",
   "metadata": {},
   "outputs": [],
   "source": [
    "precipitation_2020_2060.shape"
   ]
  },
  {
   "cell_type": "code",
   "execution_count": null,
   "id": "b7caea9b",
   "metadata": {},
   "outputs": [],
   "source": [
    "precipitation_2020_2060_no_NaN = precipitation_2020_2060.drop(models_to_delete,level=2)"
   ]
  },
  {
   "cell_type": "code",
   "execution_count": null,
   "id": "c9509f3b",
   "metadata": {},
   "outputs": [],
   "source": [
    "precipitation_2020_2060_no_NaN.shape"
   ]
  },
  {
   "cell_type": "code",
   "execution_count": null,
   "id": "be9287a0",
   "metadata": {},
   "outputs": [],
   "source": [
    "precipitation_2020_2060_no_NaN.index.levels[2].tolist()"
   ]
  },
  {
   "cell_type": "code",
   "execution_count": null,
   "id": "68a428a4",
   "metadata": {},
   "outputs": [],
   "source": [
    "new_index_models=[]\n",
    "for item in precipitation_2020_2060.index.levels[2].tolist():\n",
    "    if item in models_to_delete:\n",
    "        continue\n",
    "    else:\n",
    "        new_index_models.append(item)"
   ]
  },
  {
   "cell_type": "code",
   "execution_count": null,
   "id": "e91fbf04",
   "metadata": {},
   "outputs": [],
   "source": [
    "type(new_index_models)"
   ]
  },
  {
   "cell_type": "code",
   "execution_count": null,
   "id": "c3904bb2",
   "metadata": {},
   "outputs": [],
   "source": [
    "new_index_models"
   ]
  },
  {
   "cell_type": "code",
   "execution_count": null,
   "id": "0b20529f",
   "metadata": {},
   "outputs": [],
   "source": [
    "time_2020_2060=pd.date_range('01-01-2030','31-12-2060', freq='D').strftime('%d-%m-%Y').values.tolist()\n",
    "list_time_2020_2060= [item[6:10] for item in time_2020_2060]\n",
    "list_time_2020_2060"
   ]
  },
  {
   "cell_type": "code",
   "execution_count": null,
   "id": "54633781",
   "metadata": {},
   "outputs": [],
   "source": [
    "df = pd.DataFrame()\n",
    "midx = pd.MultiIndex.from_product([[precipitation_2020_2060_no_NaN.index.levels[0].tolist()[0],],precipitation_2020_2060_no_NaN.index.levels[1].tolist(), new_index_models, list_time_2020_2060],names=['Name project','Experiment', 'Model', 'Year'])\n",
    "cols = pd.MultiIndex.from_product([('Precipitation mm/day',)])\n",
    "Variable_dataframe = pd.DataFrame(data = precipitation_2020_2060_no_NaN.values*86400, \n",
    "                            index = midx,\n",
    "                            columns = cols)\n",
    "df = pd.concat([df,Variable_dataframe])\n",
    "#df['year']=df.reset_index()['Month and year'].apply(lambda k: int(k.split('-')[1]))"
   ]
  },
  {
   "cell_type": "code",
   "execution_count": null,
   "id": "5c6cb673",
   "metadata": {},
   "outputs": [],
   "source": [
    "DF=df.groupby(['Name project','Experiment', 'Model', 'Year']).max()"
   ]
  },
  {
   "cell_type": "code",
   "execution_count": null,
   "id": "ab96b4bf",
   "metadata": {},
   "outputs": [],
   "source": [
    "DF"
   ]
  },
  {
   "cell_type": "code",
   "execution_count": null,
   "id": "8d4e3b77",
   "metadata": {},
   "outputs": [],
   "source": [
    "DF_median=DF.groupby(['Name project','Experiment', 'Model']).median()"
   ]
  },
  {
   "cell_type": "code",
   "execution_count": null,
   "id": "c1e87e43",
   "metadata": {},
   "outputs": [],
   "source": [
    "DF_median"
   ]
  },
  {
   "cell_type": "code",
   "execution_count": null,
   "id": "f17b2610",
   "metadata": {},
   "outputs": [],
   "source": [
    "DF_describe=DF.groupby(['Name project','Experiment', 'Model']).describe(percentiles=[.1, .5, .9]) #default percentiles are [.25, .5, .75]"
   ]
  },
  {
   "cell_type": "code",
   "execution_count": null,
   "id": "ec636afc",
   "metadata": {},
   "outputs": [],
   "source": [
    "DF_describe"
   ]
  },
  {
   "cell_type": "code",
   "execution_count": null,
   "id": "87f89be8",
   "metadata": {},
   "outputs": [],
   "source": []
  },
  {
   "cell_type": "code",
   "execution_count": null,
   "id": "d3932fc8",
   "metadata": {},
   "outputs": [],
   "source": []
  },
  {
   "cell_type": "code",
   "execution_count": null,
   "id": "d84c2d1a",
   "metadata": {},
   "outputs": [],
   "source": []
  },
  {
   "cell_type": "code",
   "execution_count": null,
   "id": "450028e9",
   "metadata": {},
   "outputs": [],
   "source": []
  },
  {
   "cell_type": "code",
   "execution_count": null,
   "id": "186a9095",
   "metadata": {},
   "outputs": [],
   "source": []
  },
  {
   "cell_type": "code",
   "execution_count": null,
   "id": "644e4a7b",
   "metadata": {},
   "outputs": [],
   "source": []
  },
  {
   "cell_type": "code",
   "execution_count": null,
   "id": "d30587de",
   "metadata": {},
   "outputs": [],
   "source": []
  },
  {
   "cell_type": "code",
   "execution_count": null,
   "id": "22dbede1",
   "metadata": {},
   "outputs": [],
   "source": [
    "# test return period"
   ]
  },
  {
   "cell_type": "code",
   "execution_count": null,
   "id": "2e7f088e",
   "metadata": {},
   "outputs": [],
   "source": [
    "Z=DF.loc[('PT_Revubue_2_Rev_2_01','ssp126','ACCESS-CM2'),'Precipitation mm/day'].values"
   ]
  },
  {
   "cell_type": "code",
   "execution_count": null,
   "id": "c547be94",
   "metadata": {},
   "outputs": [],
   "source": [
    "Z.reshape((31,)).sort()"
   ]
  },
  {
   "cell_type": "code",
   "execution_count": null,
   "id": "018ea67b",
   "metadata": {},
   "outputs": [],
   "source": [
    "Z"
   ]
  },
  {
   "cell_type": "code",
   "execution_count": null,
   "id": "74fa07c2",
   "metadata": {},
   "outputs": [],
   "source": [
    "(loc,scale)=stats.gumbel_r.fit(Z) # renvoie les deux parametres necessaire pour etablir la fonction continue\n",
    "loc"
   ]
  },
  {
   "cell_type": "code",
   "execution_count": null,
   "id": "ab5e2b57",
   "metadata": {},
   "outputs": [],
   "source": [
    "scale"
   ]
  },
  {
   "cell_type": "code",
   "execution_count": null,
   "id": "aac1783d",
   "metadata": {},
   "outputs": [],
   "source": [
    "x = 25 # precipitation data\n",
    "gumbel_r.pdf(x,loc,scale)"
   ]
  },
  {
   "cell_type": "code",
   "execution_count": null,
   "id": "a31c2b6b",
   "metadata": {},
   "outputs": [],
   "source": [
    "p = 0.995 # percentile of non-exceedance\n",
    "return_period = 1/(1-p)\n",
    "print('For a return period '+str(round(return_period))+' years')\n",
    "print(round(gumbel_r.ppf(p,loc,scale))) # Percent point function\n",
    "print('mm/day')"
   ]
  },
  {
   "cell_type": "code",
   "execution_count": null,
   "id": "41beaf0e",
   "metadata": {},
   "outputs": [],
   "source": [
    "p_non_exceedance = 0.99 # percentile of non-exceedance\n",
    "p_exceedance = 1 - p_non_exceedance\n",
    "return_period = 1/p_exceedance\n",
    "threshold_coresponding = round(gumbel_r.ppf(p_non_exceedance,loc,scale)) # ppf: Percent point function\n",
    "print('Threshold '+str(threshold_coresponding)+' mm/day will be exceeded at least once in 1 year, with a probability of '+str(round(p_exceedance*100))+ ' %')\n",
    "print('A probability of '+str(round(p_exceedance*100))+' % correspond to a return period of '+str(round(return_period))+ ' years')"
   ]
  },
  {
   "cell_type": "code",
   "execution_count": null,
   "id": "9c16370e",
   "metadata": {},
   "outputs": [],
   "source": [
    "n = 1 # number of year of the period over which the threshold \n",
    "# could be exceeded with a certain probability\n",
    "p_non_exceedance = 0.99 # percentile of non-exceedance\n",
    "p_exceedance = 1 - p_non_exceedance**n\n",
    "return_period = 1/(1-p_non_exceedance)\n",
    "threshold_coresponding = round(gumbel_r.ppf(p_non_exceedance,loc,scale)) \n",
    "# ppf: Percent point function\n",
    "print('Threshold '+str(threshold_coresponding)+' mm/day will be exceeded at least once in '+str(n)+' year, with a probability of '+str(round(p_exceedance*100))+ ' %')\n",
    "print('This threshold corresponds to a return period of '+str(round(return_period))+ ' year event over a '+str(n)+' year period')"
   ]
  },
  {
   "cell_type": "code",
   "execution_count": null,
   "id": "c39337cb",
   "metadata": {},
   "outputs": [],
   "source": [
    "fig, ax = plt.subplots(1, 1)\n",
    "ax.plot(Z,gumbel_r.pdf(Z,loc,scale))"
   ]
  },
  {
   "cell_type": "code",
   "execution_count": null,
   "id": "c0d364e6",
   "metadata": {},
   "outputs": [],
   "source": [
    "fig, ax = plt.subplots(1, 1)\n",
    "ax.plot(Z,gumbel_r.pdf((Z-loc)/scale) / scale)"
   ]
  },
  {
   "cell_type": "code",
   "execution_count": null,
   "id": "f2599880",
   "metadata": {},
   "outputs": [],
   "source": [
    "# xaxis is precipitation and yaxis is densiy of probability\n",
    "myHist = plt.hist(Z,density=True) # If ``True``, draw and return a probability density: each bin \n",
    "# will display the bin's raw count divided by the total number of counts *and the bin width*\n",
    "h = plt.plot(Z,gumbel_r.pdf(Z,loc,scale))\n",
    "plt.xlabel('Precipitation value mm/day')\n",
    "plt.ylabel('Density of probability' )\n",
    "plt.title('Histogram and probability density function of annual maximum precipitation values\\nbetween 2030 and 2060 for project PT_Revubue_2_Rev_2_01,\\nscenario ssp126 and model ACCESS-CM2',fontdict={'fontsize': 10})\n",
    "plt.legend(['Probability density function','Histogramm'])\n",
    "title_png = 'test_density.png'\n",
    "path_figure = os.path.join(out_path,'figures')\n",
    "if not os.path.isdir(path_figure):\n",
    "    os.makedirs(path_figure)\n",
    "plt.savefig(os.path.join(path_figure,title_png),format ='png')\n",
    "plt.show()"
   ]
  },
  {
   "cell_type": "code",
   "execution_count": null,
   "id": "b0453ef9",
   "metadata": {},
   "outputs": [],
   "source": []
  },
  {
   "cell_type": "code",
   "execution_count": null,
   "id": "bf9bbd73",
   "metadata": {},
   "outputs": [],
   "source": []
  },
  {
   "cell_type": "code",
   "execution_count": null,
   "id": "6b1a4953",
   "metadata": {},
   "outputs": [],
   "source": []
  },
  {
   "cell_type": "code",
   "execution_count": null,
   "id": "ce2ae030",
   "metadata": {},
   "outputs": [],
   "source": []
  },
  {
   "cell_type": "code",
   "execution_count": null,
   "id": "18f8a753",
   "metadata": {},
   "outputs": [],
   "source": []
  },
  {
   "cell_type": "code",
   "execution_count": null,
   "id": "c9657ac0",
   "metadata": {},
   "outputs": [],
   "source": [
    "DF.index.levels[1].tolist()"
   ]
  },
  {
   "cell_type": "code",
   "execution_count": null,
   "id": "753cc038",
   "metadata": {},
   "outputs": [],
   "source": [
    "DF.loc[('PT_Revubue_2_Rev_2_01','ssp245'),'Precipitation mm/day'].values.reshape(186,)"
   ]
  },
  {
   "cell_type": "code",
   "execution_count": null,
   "id": "5e95be02",
   "metadata": {},
   "outputs": [],
   "source": [
    "#### BOXPLOTS\n",
    "\n",
    "\n",
    "#df_reordered3 = df.reorder_levels(['Experiment', 'Model', 'Latitude', 'Date']) # reordering to ...\n",
    "#df_reordered3_mean=df_reordered3.groupby(level=[0,1,2],axis=0,group_keys=True).mean()\n",
    "#numpy_array = df_reordered3_mean.loc['ssp1_2_6'].values\n",
    "#numpy_array=numpy_array.flatten() # make the array a vector to use it in boxplot function\n",
    "#numpy_array4 = numpy_array[~np.isnan(numpy_array)]\n",
    "# boxplot do not deal with NaN, have to take them out\n",
    "\n",
    "dict_boxplot = plt.boxplot([DF.loc[('PT_Revubue_2_Rev_2_01','ssp126'),'Precipitation mm/day'].values.reshape(186,),DF.loc[('PT_Revubue_2_Rev_2_01','ssp245'),'Precipitation mm/day'].values.reshape(186,),DF.loc[('PT_Revubue_2_Rev_2_01','ssp370'),'Precipitation mm/day'].values.reshape(186,),DF.loc[('PT_Revubue_2_Rev_2_01','ssp585'),'Precipitation mm/day'].values.reshape(186,)],notch=True, whis =(10,90),widths = 0.15, patch_artist=True,labels=DF.index.levels[1].tolist())\n",
    "# ... present boxplot over the period for each models\n",
    "# this functions returns varius parameters of the boxplot in the dict_boxplot. This funcitons also returns an image of it\n",
    "# here, numpy_array is a vector. But can also include array with several columns. Each columns will have a boxplot\n",
    "# 'notch' is true to enhance part where the median is\n",
    "# 'whis' is the percentile value for the whiskers, every data out of the range indicted by those 2 floats are represented as points\n",
    "# 'widths' determine width of the boxes\n",
    "# 'patch_artist' colors the boxplots\n",
    "# 'labels' gives a name to every column included in the data part\n",
    "str = 'Annual maximum precipitation mm/day\\naccross different scenarios between 2030 and 2060'\n",
    "title_png = 'Annual maximum precipitation mm.day accross different scenarios between 2030 and 2060.png'\n",
    "plt.title(str)\n",
    "plt.xlabel('Scenarios')\n",
    "plt.ylabel('Annual maximum precipitation mm/day')\n",
    "path_boxplot = os.path.join(path_figure,'Boxplots')\n",
    "if not os.path.isdir(path_boxplot):\n",
    "    os.makedirs(path_boxplot)\n",
    "plt.savefig(os.path.join(path_boxplot,title_png),format ='png') # savefig or save text must be before plt.show. for savefig, format should be explicity written\n",
    "plt.show()"
   ]
  },
  {
   "cell_type": "code",
   "execution_count": null,
   "id": "6d5fd2e6",
   "metadata": {},
   "outputs": [],
   "source": []
  },
  {
   "cell_type": "code",
   "execution_count": null,
   "id": "4506ade5",
   "metadata": {},
   "outputs": [],
   "source": [
    "# need to find which law to apply when"
   ]
  }
 ],
 "metadata": {
  "kernelspec": {
   "display_name": "Python 3 (ipykernel)",
   "language": "python",
   "name": "python3"
  },
  "language_info": {
   "codemirror_mode": {
    "name": "ipython",
    "version": 3
   },
   "file_extension": ".py",
   "mimetype": "text/x-python",
   "name": "python",
   "nbconvert_exporter": "python",
   "pygments_lexer": "ipython3",
   "version": "3.10.6"
  }
 },
 "nbformat": 4,
 "nbformat_minor": 5
}
