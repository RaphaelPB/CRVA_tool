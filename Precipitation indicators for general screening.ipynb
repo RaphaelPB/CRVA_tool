{
 "cells": [
  {
   "cell_type": "markdown",
   "id": "24370235",
   "metadata": {},
   "source": [
    "# User input"
   ]
  },
  {
   "cell_type": "code",
   "execution_count": 1,
   "id": "82ac0f29",
   "metadata": {},
   "outputs": [],
   "source": [
    "start_year = 1950\n",
    "stop_year = 2100\n",
    "\n",
    "start_year_past = 1950\n",
    "stop_year_past = 2014\n",
    "\n",
    "start_year_future = 2015\n",
    "stop_year_future = 2100\n",
    "\n",
    "tuple_error_bar = ('pi',80)\n",
    "name_project = 'WTP_Mutua_EIB'\n",
    "name_city = 'Mutua'"
   ]
  },
  {
   "cell_type": "markdown",
   "id": "faf21865",
   "metadata": {},
   "source": [
    "# Import package"
   ]
  },
  {
   "cell_type": "code",
   "execution_count": 2,
   "id": "accf3a22",
   "metadata": {},
   "outputs": [],
   "source": [
    "from scipy import stats\n",
    "import pandas as pd\n",
    "from matplotlib import pyplot as plt\n",
    "import numpy as np\n",
    "from scipy.stats import gumbel_r\n",
    "from scipy.stats import gumbel_l\n",
    "import os\n",
    "import os.path\n",
    "import math\n",
    "import seaborn as sns\n",
    "\n",
    "from Functions_Indicators import add_year_month_season\n",
    "from Functions_Indicators import filter_dataframe\n",
    "#from Functions_Indicators_precipitation import changes_in_indicators"
   ]
  },
  {
   "cell_type": "markdown",
   "id": "a0138c42",
   "metadata": {},
   "source": [
    "# Import data"
   ]
  },
  {
   "cell_type": "code",
   "execution_count": 3,
   "id": "dad90c37",
   "metadata": {},
   "outputs": [],
   "source": [
    "out_path = r'\\\\COWI.net\\projects\\A245000\\A248363\\CRVA\\Datasets\\NEX-GDDP-CMIP6-AllMoz'\n",
    "csv_path = os.path.join(out_path,'csv_file','pr','pr_mm_per_day_day_1950-2100','pr_1950-2100_projectsMoz.csv')\n",
    "precipitation = pd.read_csv(csv_path,header=[0],index_col=[0,1,2,3,4])\n",
    "#list_time_2021_2060=pd.date_range('01-01-2021','31-12-2060', freq='D').strftime('%d-%m-%Y').values.tolist()"
   ]
  },
  {
   "cell_type": "code",
   "execution_count": 4,
   "id": "a12a15ae",
   "metadata": {},
   "outputs": [],
   "source": [
    "precipitation_filtered = filter_dataframe(precipitation,name_project,['NESM3']) # kill NESM3 because no value for it"
   ]
  },
  {
   "cell_type": "code",
   "execution_count": 109,
   "id": "e32d4808",
   "metadata": {},
   "outputs": [
    {
     "data": {
      "text/plain": [
       "Index(['Chimoio_WTP_EIB', 'Gorongosa_EIB', 'Pemba_EIB', 'WTP_Mutua_EIB'], dtype='object', name='Name project')"
      ]
     },
     "execution_count": 109,
     "metadata": {},
     "output_type": "execute_result"
    }
   ],
   "source": [
    "precipitation.index.levels[0]"
   ]
  },
  {
   "cell_type": "markdown",
   "id": "31e48e62",
   "metadata": {},
   "source": [
    "## Average yearly precipitation"
   ]
  },
  {
   "cell_type": "code",
   "execution_count": 9,
   "id": "e6480ef3",
   "metadata": {},
   "outputs": [],
   "source": [
    "from Functions_Indicators import temporal_avg\n",
    "from Functions_Indicators import yearly_avg_distr"
   ]
  },
  {
   "cell_type": "code",
   "execution_count": 10,
   "id": "5fcf043a",
   "metadata": {},
   "outputs": [],
   "source": [
    "df_yearly_avg=precipitation_filtered.copy(deep=True)"
   ]
  },
  {
   "cell_type": "code",
   "execution_count": 11,
   "id": "f0ec46f4",
   "metadata": {},
   "outputs": [
    {
     "ename": "TypeError",
     "evalue": "temporal_avg() takes 3 positional arguments but 4 were given",
     "output_type": "error",
     "traceback": [
      "\u001b[1;31m---------------------------------------------------------------------------\u001b[0m",
      "\u001b[1;31mTypeError\u001b[0m                                 Traceback (most recent call last)",
      "Cell \u001b[1;32mIn[11], line 1\u001b[0m\n\u001b[1;32m----> 1\u001b[0m df_yearly_avg\u001b[38;5;241m=\u001b[39m\u001b[43mtemporal_avg\u001b[49m\u001b[43m(\u001b[49m\u001b[43mdf_yearly_avg\u001b[49m\u001b[43m,\u001b[49m\u001b[38;5;124;43m'\u001b[39;49m\u001b[38;5;124;43mprecipitation\u001b[39;49m\u001b[38;5;124;43m'\u001b[39;49m\u001b[43m,\u001b[49m\u001b[38;5;124;43m'\u001b[39;49m\u001b[38;5;124;43mAverage yearly precipitation mm/year\u001b[39;49m\u001b[38;5;124;43m'\u001b[39;49m\u001b[43m,\u001b[49m\u001b[43m \u001b[49m\u001b[38;5;124;43m'\u001b[39;49m\u001b[38;5;124;43myear\u001b[39;49m\u001b[38;5;124;43m'\u001b[39;49m\u001b[43m)\u001b[49m\n",
      "\u001b[1;31mTypeError\u001b[0m: temporal_avg() takes 3 positional arguments but 4 were given"
     ]
    }
   ],
   "source": [
    "df_yearly_avg=temporal_avg(df_yearly_avg,'precipitation','Average yearly precipitation mm/year', 'year')"
   ]
  },
  {
   "cell_type": "code",
   "execution_count": null,
   "id": "f39c8ac2",
   "metadata": {},
   "outputs": [],
   "source": [
    "fig,ax=plt.subplots()\n",
    "sns.lineplot(df_yearly_avg,x='Year',y=df_yearly_avg.columns[0],hue='Experiment',errorbar=('pi',80))\n",
    "handles, labels=ax.get_legend_handles_labels()\n",
    "fig.legend(handles, labels, loc='upper right', ncol=1, bbox_to_anchor=(1.1, 0.6),title='Legend')\n",
    "ax.get_legend().remove() # this line permits to have a common legend for the boxplots and the line\n",
    "plt.ylabel('Mean precipitation mm per year')\n",
    "plt.title('Mean precipitation mm per year, depending on scenario and\\naccross models, between 1950 to 2100 at Gorongosa, MZ\\ndata modeled with NEX-GDDP-CMIP6')"
   ]
  },
  {
   "cell_type": "code",
   "execution_count": null,
   "id": "26da1aaa",
   "metadata": {},
   "outputs": [],
   "source": [
    "df_yearly_avg=yearly_avg(df_yearly_avg,'Average yearly precipitation mm/year', 'month')"
   ]
  },
  {
   "cell_type": "code",
   "execution_count": null,
   "id": "28b1507e",
   "metadata": {},
   "outputs": [],
   "source": []
  },
  {
   "cell_type": "code",
   "execution_count": null,
   "id": "dbd5769a",
   "metadata": {},
   "outputs": [],
   "source": [
    "month_order = ['Jan','Feb','Mar','Apr','May','Jun','Jul','Aug','Sep','Oct','Nov','Dec']\n",
    "data_boxplot=df_yearly_avg.reset_index().set_index('Month').loc[month_order].reset_index()\n",
    "#data_line=data_line.reset_index().set_index(temporal_resolution).loc[month_order].reset_index()   "
   ]
  },
  {
   "cell_type": "code",
   "execution_count": null,
   "id": "ebe47108",
   "metadata": {},
   "outputs": [],
   "source": []
  },
  {
   "cell_type": "code",
   "execution_count": null,
   "id": "31d514d5",
   "metadata": {},
   "outputs": [],
   "source": []
  },
  {
   "cell_type": "code",
   "execution_count": null,
   "id": "c2f90b8c",
   "metadata": {},
   "outputs": [],
   "source": [
    "sns.boxplot(data=data_boxplot,x='Month',y='Mean of the daily precipitation rate mm_per_month',hue='Experiment')"
   ]
  },
  {
   "cell_type": "code",
   "execution_count": null,
   "id": "4ed63dc7",
   "metadata": {},
   "outputs": [],
   "source": []
  },
  {
   "cell_type": "code",
   "execution_count": null,
   "id": "d964eaa7",
   "metadata": {},
   "outputs": [],
   "source": [
    "# For future period\n",
    "title_column = 'Yearly average precipitation mm/year period '+str(start_year_future)+'-'+str(stop_year_future)\n",
    "\n",
    "df_years_avg_future_distribution= yearly_avg_pr(df_future,title_column)"
   ]
  },
  {
   "cell_type": "code",
   "execution_count": null,
   "id": "1f2b2ca2",
   "metadata": {},
   "outputs": [],
   "source": [
    "sns.lineplot(tas_yearly_avg,x='Year',y='Yearly average temperature',hue='Experiment',errorbar=tuple_error_bar)"
   ]
  },
  {
   "cell_type": "code",
   "execution_count": null,
   "id": "f2d2fa12",
   "metadata": {},
   "outputs": [],
   "source": [
    "# Comparaison between past and future period"
   ]
  },
  {
   "cell_type": "code",
   "execution_count": null,
   "id": "cc87ad27",
   "metadata": {},
   "outputs": [],
   "source": [
    "changes_past_future_indicator = pd.DataFrame()\n",
    "changes_past_future_indicator1 = changes_in_indicators(df_years_avg_past_distribution,df_years_avg_future_distribution,'Average yearly precipitation','mm/year','Incremental rainfall change')\n",
    "changes_past_future_indicator=pd.concat([changes_past_future_indicator,changes_past_future_indicator1])\n",
    "changes_past_future_indicator"
   ]
  },
  {
   "cell_type": "code",
   "execution_count": null,
   "id": "abcf00eb",
   "metadata": {},
   "outputs": [],
   "source": [
    "df_past"
   ]
  },
  {
   "cell_type": "code",
   "execution_count": null,
   "id": "67157a03",
   "metadata": {},
   "outputs": [],
   "source": [
    "# boxplot\n",
    "\n",
    "df_yearly_avg = df_past.copy(deep =True)\n",
    "df_yearly_avg=df_yearly_avg.drop(labels='Date',axis=1)\n",
    "df_yearly_avg=df_yearly_avg.rename(columns={df_yearly_avg.columns[3]:'Yearly precipitation mm/year'})\n",
    "df_yearly_avg = df_yearly_avg.groupby(['Name project','Experiment','Model','Year']).sum() # sum per year\n",
    "#df_yearly_avg = df_yearly_avg.groupby(['Name project','Experiment','Model']).mean()\n",
    "\n",
    "dict_boxplot = plt.boxplot([df_yearly_avg.loc[('PT_Revubue_2_Rev_2_01','ssp126'),'Yearly precipitation mm/year'].values.reshape(len(df_yearly_avg.loc[('PT_Revubue_2_Rev_2_01','ssp126'),'Yearly precipitation mm/year']),),df_yearly_avg.loc[('PT_Revubue_2_Rev_2_01','ssp245'),'Yearly precipitation mm/year'].values.reshape(len(df_yearly_avg.loc[('PT_Revubue_2_Rev_2_01','ssp245'),'Yearly precipitation mm/year']),),df_yearly_avg.loc[('PT_Revubue_2_Rev_2_01','ssp370'),'Yearly precipitation mm/year'].values.reshape(len(df_yearly_avg.loc[('PT_Revubue_2_Rev_2_01','ssp370'),'Yearly precipitation mm/year']),),df_yearly_avg.loc[('PT_Revubue_2_Rev_2_01','ssp585'),'Yearly precipitation mm/year'].values.reshape(len(df_yearly_avg.loc[('PT_Revubue_2_Rev_2_01','ssp126'),'Yearly precipitation mm/year']),)],notch=True, whis =(10,90),widths = 0.15, patch_artist=True,labels=df_yearly_avg.index.levels[1].tolist())\n",
    "# ... present boxplot over the period for each models\n",
    "# this functions returns varius parameters of the boxplot in the dict_boxplot. This funcitons also returns an image of it\n",
    "# here, numpy_array is a vector. But can also include array with several columns. Each columns will have a boxplot\n",
    "# 'notch' is true to enhance part where the median is\n",
    "# 'whis' is the percentile value for the whiskers, every data out of the range indicted by those 2 floats are represented as points\n",
    "# 'widths' determine width of the boxes\n",
    "# 'patch_artist' colors the boxplots\n",
    "# 'labels' gives a name to every column included in the data part\n",
    "\n",
    "#str = 'Annual maximum precipitation mm/day\\naccross different scenarios between 2030 and 2060'\n",
    "#title_png = 'Annual maximum precipitation mm.day accross different scenarios between 2030 and 2060.png'\n",
    "#plt.title(str)\n",
    "plt.xlabel('Scenarios')\n",
    "plt.ylabel('Yearly precipitation mm/year for project PT_Revubue_2_Rev_2_01')\n",
    "#path_boxplot = os.path.join(path_figure,'Boxplots')\n",
    "#if not os.path.isdir(path_boxplot):\n",
    "#    os.makedirs(path_boxplot)\n",
    "#plt.savefig(os.path.join(path_boxplot,title_png),format ='png') # savefig or save text must be before plt.show. for savefig, format should be explicity written\n",
    "plt.show()"
   ]
  },
  {
   "cell_type": "code",
   "execution_count": null,
   "id": "318356f7",
   "metadata": {},
   "outputs": [],
   "source": [
    "df_yearly_avg = df_yearly_avg.groupby(['Name project','Experiment','Model']).mean()\n",
    "title_column = 'Yearly average precipitation mm/year'\n",
    "df_yearly_avg=df_yearly_avg.rename(columns={df_yearly_avg.columns[0]:title_column})\n",
    "df_yearly_avg"
   ]
  },
  {
   "cell_type": "code",
   "execution_count": null,
   "id": "039d7e5c",
   "metadata": {},
   "outputs": [],
   "source": [
    "dict_boxplot = plt.boxplot([df_yearly_avg.loc[(df_yearly_avg.index.levels[0][0]),title_column].values.reshape(len(df_yearly_avg.loc[(df_yearly_avg.index.levels[0][0]),title_column]),),df_yearly_avg.loc[(df_yearly_avg.index.levels[0][1]),title_column].values.reshape(len(df_yearly_avg.loc[(df_yearly_avg.index.levels[0][1]),title_column]),),df_yearly_avg.loc[(df_yearly_avg.index.levels[0][2]),title_column].values.reshape(len(df_yearly_avg.loc[(df_yearly_avg.index.levels[0][2]),title_column]),),df_yearly_avg.loc[(df_yearly_avg.index.levels[0][3]),title_column].values.reshape(len(df_yearly_avg.loc[(df_yearly_avg.index.levels[0][3]),title_column]),),df_yearly_avg.loc[(df_yearly_avg.index.levels[0][4]),title_column].values.reshape(len(df_yearly_avg.loc[(df_yearly_avg.index.levels[0][4]),title_column]),),df_yearly_avg.loc[(df_yearly_avg.index.levels[0][5]),title_column].values.reshape(len(df_yearly_avg.loc[(df_yearly_avg.index.levels[0][5]),title_column]),),df_yearly_avg.loc[(df_yearly_avg.index.levels[0][6]),title_column].values.reshape(len(df_yearly_avg.loc[(df_yearly_avg.index.levels[0][6]),title_column]),)],notch=True, whis =(10,90),widths = 0.15, patch_artist=True,labels=df_yearly_avg.index.levels[0].tolist())\n",
    "# ... present boxplot over the period for each models\n",
    "# this functions returns varius parameters of the boxplot in the dict_boxplot. This funcitons also returns an image of it\n",
    "# here, numpy_array is a vector. But can also include array with several columns. Each columns will have a boxplot\n",
    "# 'notch' is true to enhance part where the median is\n",
    "# 'whis' is the percentile value for the whiskers, every data out of the range indicted by those 2 floats are represented as points\n",
    "# 'widths' determine width of the boxes\n",
    "# 'patch_artist' colors the boxplots\n",
    "# 'labels' gives a name to every column included in the data part\n",
    "\n",
    "#str = 'Annual maximum precipitation mm/day\\naccross different scenarios between 2030 and 2060'\n",
    "#title_png = 'Annual maximum precipitation mm.day accross different scenarios between 2030 and 2060.png'\n",
    "#plt.title(str)\n",
    "plt.xlabel('Projects')\n",
    "plt.ylabel('Average yearly precipitation mm/year for project PT_Revubue_2_Rev_2_01')\n",
    "#path_boxplot = os.path.join(path_figure,'Boxplots')\n",
    "#if not os.path.isdir(path_boxplot):\n",
    "#    os.makedirs(path_boxplot)\n",
    "#plt.savefig(os.path.join(path_boxplot,title_png),format ='png') # savefig or save text must be before plt.show. for savefig, format should be explicity written\n",
    "plt.show()"
   ]
  },
  {
   "cell_type": "markdown",
   "id": "6126accb",
   "metadata": {},
   "source": [
    "## Seasonal average precipitation"
   ]
  },
  {
   "cell_type": "code",
   "execution_count": null,
   "id": "7dc7caa6",
   "metadata": {},
   "outputs": [],
   "source": [
    "from Functions_Indicators_precipitation import avg_dry_season_precipitation"
   ]
  },
  {
   "cell_type": "markdown",
   "id": "87135901",
   "metadata": {},
   "source": [
    "In mozambique, dry season from April to september. Humid season from October to March"
   ]
  },
  {
   "cell_type": "code",
   "execution_count": null,
   "id": "7a258257",
   "metadata": {},
   "outputs": [],
   "source": [
    "# historic"
   ]
  },
  {
   "cell_type": "code",
   "execution_count": null,
   "id": "e65ba35f",
   "metadata": {},
   "outputs": [],
   "source": [
    "title_column1 = 'Yearly average precipitation mm/season per year for the period '+str(start_year_past)+'-'+str(stop_year_past)\n",
    "pr_past_dry_season_mean_distribution = avg_dry_season_precipitation(df_past,title_column1)"
   ]
  },
  {
   "cell_type": "code",
   "execution_count": null,
   "id": "81f940df",
   "metadata": {},
   "outputs": [],
   "source": [
    "# future"
   ]
  },
  {
   "cell_type": "code",
   "execution_count": null,
   "id": "86ca8ec1",
   "metadata": {},
   "outputs": [],
   "source": [
    "title_column1 = 'Yearly average precipitation mm/dry season for the period '+str(start_year_future)+'-'+str(stop_year_future)\n",
    "pr_future_dry_season_mean_distribution = avg_dry_season_precipitation(df_future,title_column1)"
   ]
  },
  {
   "cell_type": "code",
   "execution_count": null,
   "id": "510d2a62",
   "metadata": {},
   "outputs": [],
   "source": [
    "pr_future_dry_season_mean_distribution"
   ]
  },
  {
   "cell_type": "code",
   "execution_count": null,
   "id": "25b9bdf8",
   "metadata": {},
   "outputs": [],
   "source": [
    "# Comparaison between past and future period"
   ]
  },
  {
   "cell_type": "code",
   "execution_count": null,
   "id": "3fd6869f",
   "metadata": {},
   "outputs": [],
   "source": [
    "changes_past_future_indicator1 = changes_in_indicators(pr_past_dry_season_mean_distribution,pr_future_dry_season_mean_distribution,'Average dry season precipitation','mm/(months of dry season)','Incremental rainfall change')\n",
    "changes_past_future_indicator=pd.merge(changes_past_future_indicator, changes_past_future_indicator1, left_index=True, right_index=True, how='outer')"
   ]
  },
  {
   "cell_type": "code",
   "execution_count": null,
   "id": "13241a7c",
   "metadata": {},
   "outputs": [],
   "source": [
    "changes_past_future_indicator"
   ]
  },
  {
   "cell_type": "markdown",
   "id": "9015fbc2",
   "metadata": {},
   "source": [
    "## Return period"
   ]
  },
  {
   "cell_type": "code",
   "execution_count": 13,
   "id": "d423e272",
   "metadata": {},
   "outputs": [],
   "source": [
    " #INDICATOR NOT FINISHED\n",
    "#from Functions_Indicators_precipitation import threshold_coresponding_to_return_period\n",
    "from Functions_Indicators import dataframe_threshold_coresponding_to_return_period\n",
    "#from Functions_Indicators_precipitation import dataframe_future_return_period_of_1_day_event"
   ]
  },
  {
   "cell_type": "code",
   "execution_count": 23,
   "id": "6d1d97a7",
   "metadata": {},
   "outputs": [],
   "source": [
    "precipitation_filtered_copy = precipitation_filtered.copy(deep=True)"
   ]
  },
  {
   "cell_type": "code",
   "execution_count": 26,
   "id": "f523a6ca",
   "metadata": {},
   "outputs": [],
   "source": [
    "precipitation_filtered_copy=precipitation_filtered_copy[precipitation_filtered_copy['Model']!='IITM-ESM']\n",
    "precipitation_filtered_copy=precipitation_filtered_copy[precipitation_filtered_copy['Model']!='MRI-ESM2-0']\n",
    "precipitation_filtered_copy=precipitation_filtered_copy[precipitation_filtered_copy['Model']!='ACCESS-CM2'] \n",
    "precipitation_filtered_copy=precipitation_filtered_copy[precipitation_filtered_copy['Model']!='MPI-ESM1-2-HR']"
   ]
  },
  {
   "cell_type": "code",
   "execution_count": 29,
   "id": "b0ad7287",
   "metadata": {},
   "outputs": [
    {
     "name": "stdout",
     "output_type": "stream",
     "text": [
      "Name project WTP_Mutua_EIB ssp historical model ACCESS-ESM1-5\n",
      "Name project WTP_Mutua_EIB ssp historical model BCC-CSM2-MR\n",
      "Name project WTP_Mutua_EIB ssp historical model CMCC-CM2-SR5\n",
      "Name project WTP_Mutua_EIB ssp historical model CMCC-ESM2\n",
      "Name project WTP_Mutua_EIB ssp historical model CanESM5\n",
      "Name project WTP_Mutua_EIB ssp historical model MIROC6\n",
      "Name project WTP_Mutua_EIB ssp historical model MPI-ESM1-2-LR\n",
      "Name project WTP_Mutua_EIB ssp historical model NorESM2-LM\n",
      "Name project WTP_Mutua_EIB ssp historical model NorESM2-MM\n",
      "Name project WTP_Mutua_EIB ssp historical model TaiESM1\n"
     ]
    }
   ],
   "source": [
    "return_period_past=dataframe_threshold_coresponding_to_return_period(precipitation_filtered_copy[precipitation_filtered_copy['Experiment']=='historical'])"
   ]
  },
  {
   "cell_type": "code",
   "execution_count": 32,
   "id": "77dfc954",
   "metadata": {},
   "outputs": [],
   "source": [
    "precipitation_filtered_copy_future=precipitation_filtered_copy[precipitation_filtered_copy['Experiment']!='historical']"
   ]
  },
  {
   "cell_type": "code",
   "execution_count": 38,
   "id": "d714545e",
   "metadata": {},
   "outputs": [
    {
     "name": "stdout",
     "output_type": "stream",
     "text": [
      "Name project WTP_Mutua_EIB ssp ssp126 model ACCESS-ESM1-5\n",
      "Name project WTP_Mutua_EIB ssp ssp126 model BCC-CSM2-MR\n",
      "Name project WTP_Mutua_EIB ssp ssp126 model CMCC-CM2-SR5\n",
      "Name project WTP_Mutua_EIB ssp ssp126 model CMCC-ESM2\n",
      "Name project WTP_Mutua_EIB ssp ssp126 model CanESM5\n",
      "Name project WTP_Mutua_EIB ssp ssp126 model MIROC6\n",
      "Name project WTP_Mutua_EIB ssp ssp126 model MPI-ESM1-2-LR\n",
      "Name project WTP_Mutua_EIB ssp ssp126 model NorESM2-LM\n",
      "Name project WTP_Mutua_EIB ssp ssp126 model NorESM2-MM\n",
      "Name project WTP_Mutua_EIB ssp ssp126 model TaiESM1\n",
      "Name project WTP_Mutua_EIB ssp ssp245 model ACCESS-ESM1-5\n",
      "Name project WTP_Mutua_EIB ssp ssp245 model BCC-CSM2-MR\n",
      "Name project WTP_Mutua_EIB ssp ssp245 model CMCC-CM2-SR5\n",
      "Name project WTP_Mutua_EIB ssp ssp245 model CMCC-ESM2\n",
      "Name project WTP_Mutua_EIB ssp ssp245 model CanESM5\n",
      "Name project WTP_Mutua_EIB ssp ssp245 model MIROC6\n",
      "Name project WTP_Mutua_EIB ssp ssp245 model MPI-ESM1-2-LR\n",
      "Name project WTP_Mutua_EIB ssp ssp245 model NorESM2-LM\n",
      "Name project WTP_Mutua_EIB ssp ssp245 model NorESM2-MM\n",
      "Name project WTP_Mutua_EIB ssp ssp245 model TaiESM1\n",
      "Name project WTP_Mutua_EIB ssp ssp370 model ACCESS-ESM1-5\n",
      "Name project WTP_Mutua_EIB ssp ssp370 model BCC-CSM2-MR\n",
      "Name project WTP_Mutua_EIB ssp ssp370 model CMCC-CM2-SR5\n",
      "Name project WTP_Mutua_EIB ssp ssp370 model CMCC-ESM2\n",
      "Name project WTP_Mutua_EIB ssp ssp370 model CanESM5\n",
      "Name project WTP_Mutua_EIB ssp ssp370 model MIROC6\n",
      "Name project WTP_Mutua_EIB ssp ssp370 model MPI-ESM1-2-LR\n",
      "Name project WTP_Mutua_EIB ssp ssp370 model NorESM2-LM\n",
      "Name project WTP_Mutua_EIB ssp ssp370 model NorESM2-MM\n",
      "Name project WTP_Mutua_EIB ssp ssp370 model TaiESM1\n",
      "Name project WTP_Mutua_EIB ssp ssp585 model ACCESS-ESM1-5\n",
      "Name project WTP_Mutua_EIB ssp ssp585 model BCC-CSM2-MR\n",
      "Name project WTP_Mutua_EIB ssp ssp585 model CMCC-CM2-SR5\n",
      "Name project WTP_Mutua_EIB ssp ssp585 model CMCC-ESM2\n",
      "Name project WTP_Mutua_EIB ssp ssp585 model CanESM5\n",
      "Name project WTP_Mutua_EIB ssp ssp585 model MIROC6\n",
      "Name project WTP_Mutua_EIB ssp ssp585 model MPI-ESM1-2-LR\n",
      "Name project WTP_Mutua_EIB ssp ssp585 model NorESM2-LM\n",
      "Name project WTP_Mutua_EIB ssp ssp585 model NorESM2-MM\n",
      "Name project WTP_Mutua_EIB ssp ssp585 model TaiESM1\n"
     ]
    }
   ],
   "source": [
    "return_period_future_2020_2060=dataframe_threshold_coresponding_to_return_period(precipitation_filtered_copy_future[precipitation_filtered_copy_future['Year'].between(2020,2060)])"
   ]
  },
  {
   "cell_type": "code",
   "execution_count": 39,
   "id": "f4b0b894",
   "metadata": {},
   "outputs": [
    {
     "name": "stdout",
     "output_type": "stream",
     "text": [
      "Name project WTP_Mutua_EIB ssp ssp126 model ACCESS-ESM1-5\n",
      "Name project WTP_Mutua_EIB ssp ssp126 model BCC-CSM2-MR\n",
      "Name project WTP_Mutua_EIB ssp ssp126 model CMCC-CM2-SR5\n",
      "Name project WTP_Mutua_EIB ssp ssp126 model CMCC-ESM2\n",
      "Name project WTP_Mutua_EIB ssp ssp126 model CanESM5\n",
      "Name project WTP_Mutua_EIB ssp ssp126 model MIROC6\n",
      "Name project WTP_Mutua_EIB ssp ssp126 model MPI-ESM1-2-LR\n",
      "Name project WTP_Mutua_EIB ssp ssp126 model NorESM2-LM\n",
      "Name project WTP_Mutua_EIB ssp ssp126 model NorESM2-MM\n",
      "Name project WTP_Mutua_EIB ssp ssp126 model TaiESM1\n",
      "Name project WTP_Mutua_EIB ssp ssp245 model ACCESS-ESM1-5\n",
      "Name project WTP_Mutua_EIB ssp ssp245 model BCC-CSM2-MR\n",
      "Name project WTP_Mutua_EIB ssp ssp245 model CMCC-CM2-SR5\n",
      "Name project WTP_Mutua_EIB ssp ssp245 model CMCC-ESM2\n",
      "Name project WTP_Mutua_EIB ssp ssp245 model CanESM5\n",
      "Name project WTP_Mutua_EIB ssp ssp245 model MIROC6\n",
      "Name project WTP_Mutua_EIB ssp ssp245 model MPI-ESM1-2-LR\n",
      "Name project WTP_Mutua_EIB ssp ssp245 model NorESM2-LM\n",
      "Name project WTP_Mutua_EIB ssp ssp245 model NorESM2-MM\n",
      "Name project WTP_Mutua_EIB ssp ssp245 model TaiESM1\n",
      "Name project WTP_Mutua_EIB ssp ssp370 model ACCESS-ESM1-5\n",
      "Name project WTP_Mutua_EIB ssp ssp370 model BCC-CSM2-MR\n",
      "Name project WTP_Mutua_EIB ssp ssp370 model CMCC-CM2-SR5\n",
      "Name project WTP_Mutua_EIB ssp ssp370 model CMCC-ESM2\n",
      "Name project WTP_Mutua_EIB ssp ssp370 model CanESM5\n",
      "Name project WTP_Mutua_EIB ssp ssp370 model MIROC6\n",
      "Name project WTP_Mutua_EIB ssp ssp370 model MPI-ESM1-2-LR\n",
      "Name project WTP_Mutua_EIB ssp ssp370 model NorESM2-LM\n",
      "Name project WTP_Mutua_EIB ssp ssp370 model NorESM2-MM\n",
      "Name project WTP_Mutua_EIB ssp ssp370 model TaiESM1\n",
      "Name project WTP_Mutua_EIB ssp ssp585 model ACCESS-ESM1-5\n",
      "Name project WTP_Mutua_EIB ssp ssp585 model BCC-CSM2-MR\n",
      "Name project WTP_Mutua_EIB ssp ssp585 model CMCC-CM2-SR5\n",
      "Name project WTP_Mutua_EIB ssp ssp585 model CMCC-ESM2\n",
      "Name project WTP_Mutua_EIB ssp ssp585 model CanESM5\n",
      "Name project WTP_Mutua_EIB ssp ssp585 model MIROC6\n",
      "Name project WTP_Mutua_EIB ssp ssp585 model MPI-ESM1-2-LR\n",
      "Name project WTP_Mutua_EIB ssp ssp585 model NorESM2-LM\n",
      "Name project WTP_Mutua_EIB ssp ssp585 model NorESM2-MM\n",
      "Name project WTP_Mutua_EIB ssp ssp585 model TaiESM1\n"
     ]
    }
   ],
   "source": [
    "return_period_future_2060_2100=dataframe_threshold_coresponding_to_return_period(precipitation_filtered_copy_future[precipitation_filtered_copy_future['Year'].between(2060,2100)])"
   ]
  },
  {
   "cell_type": "code",
   "execution_count": null,
   "id": "90c0b6b5",
   "metadata": {},
   "outputs": [],
   "source": []
  },
  {
   "cell_type": "code",
   "execution_count": 44,
   "id": "46bc570a",
   "metadata": {},
   "outputs": [],
   "source": [
    "return_period_future_2020_2060['Period'] ='2020-2060'"
   ]
  },
  {
   "cell_type": "code",
   "execution_count": 45,
   "id": "00c5e100",
   "metadata": {},
   "outputs": [],
   "source": [
    "return_period_future_2060_2100['Period'] ='2060-2100'"
   ]
  },
  {
   "cell_type": "code",
   "execution_count": 46,
   "id": "58c7d44f",
   "metadata": {},
   "outputs": [],
   "source": [
    "return_period_past['Period']='historic'"
   ]
  },
  {
   "cell_type": "code",
   "execution_count": null,
   "id": "cff42c3a",
   "metadata": {},
   "outputs": [],
   "source": []
  },
  {
   "cell_type": "code",
   "execution_count": 58,
   "id": "fc9a9084",
   "metadata": {},
   "outputs": [
    {
     "data": {
      "text/plain": [
       "array([86], dtype=object)"
      ]
     },
     "execution_count": 58,
     "metadata": {},
     "output_type": "execute_result"
    }
   ],
   "source": [
    "return_period_past[['Value for return period 100 years mm/day']].loc['WTP_Mutua_EIB','historical','NorESM2-MM'].values"
   ]
  },
  {
   "cell_type": "code",
   "execution_count": 47,
   "id": "1a173800",
   "metadata": {},
   "outputs": [
    {
     "data": {
      "text/html": [
       "<div>\n",
       "<style scoped>\n",
       "    .dataframe tbody tr th:only-of-type {\n",
       "        vertical-align: middle;\n",
       "    }\n",
       "\n",
       "    .dataframe tbody tr th {\n",
       "        vertical-align: top;\n",
       "    }\n",
       "\n",
       "    .dataframe thead th {\n",
       "        text-align: right;\n",
       "    }\n",
       "</style>\n",
       "<table border=\"1\" class=\"dataframe\">\n",
       "  <thead>\n",
       "    <tr style=\"text-align: right;\">\n",
       "      <th></th>\n",
       "      <th></th>\n",
       "      <th></th>\n",
       "      <th>Value for return period 50 years mm/day</th>\n",
       "      <th>Value for return period 100 years mm/day</th>\n",
       "      <th>Period</th>\n",
       "    </tr>\n",
       "    <tr>\n",
       "      <th>Name project</th>\n",
       "      <th>Experiment</th>\n",
       "      <th>Model</th>\n",
       "      <th></th>\n",
       "      <th></th>\n",
       "      <th></th>\n",
       "    </tr>\n",
       "  </thead>\n",
       "  <tbody>\n",
       "    <tr>\n",
       "      <th rowspan=\"40\" valign=\"top\">WTP_Mutua_EIB</th>\n",
       "      <th rowspan=\"10\" valign=\"top\">ssp585</th>\n",
       "      <th>NorESM2-MM</th>\n",
       "      <td>83</td>\n",
       "      <td>90</td>\n",
       "      <td>2020-2060</td>\n",
       "    </tr>\n",
       "    <tr>\n",
       "      <th>MIROC6</th>\n",
       "      <td>80</td>\n",
       "      <td>87</td>\n",
       "      <td>2020-2060</td>\n",
       "    </tr>\n",
       "    <tr>\n",
       "      <th>CanESM5</th>\n",
       "      <td>67</td>\n",
       "      <td>73</td>\n",
       "      <td>2020-2060</td>\n",
       "    </tr>\n",
       "    <tr>\n",
       "      <th>TaiESM1</th>\n",
       "      <td>86</td>\n",
       "      <td>93</td>\n",
       "      <td>2020-2060</td>\n",
       "    </tr>\n",
       "    <tr>\n",
       "      <th>NorESM2-LM</th>\n",
       "      <td>76</td>\n",
       "      <td>82</td>\n",
       "      <td>2020-2060</td>\n",
       "    </tr>\n",
       "    <tr>\n",
       "      <th>BCC-CSM2-MR</th>\n",
       "      <td>77</td>\n",
       "      <td>84</td>\n",
       "      <td>2020-2060</td>\n",
       "    </tr>\n",
       "    <tr>\n",
       "      <th>ACCESS-ESM1-5</th>\n",
       "      <td>81</td>\n",
       "      <td>88</td>\n",
       "      <td>2020-2060</td>\n",
       "    </tr>\n",
       "    <tr>\n",
       "      <th>CMCC-CM2-SR5</th>\n",
       "      <td>93</td>\n",
       "      <td>101</td>\n",
       "      <td>2020-2060</td>\n",
       "    </tr>\n",
       "    <tr>\n",
       "      <th>MPI-ESM1-2-LR</th>\n",
       "      <td>80</td>\n",
       "      <td>87</td>\n",
       "      <td>2020-2060</td>\n",
       "    </tr>\n",
       "    <tr>\n",
       "      <th>CMCC-ESM2</th>\n",
       "      <td>85</td>\n",
       "      <td>92</td>\n",
       "      <td>2020-2060</td>\n",
       "    </tr>\n",
       "    <tr>\n",
       "      <th rowspan=\"10\" valign=\"top\">ssp126</th>\n",
       "      <th>NorESM2-MM</th>\n",
       "      <td>86</td>\n",
       "      <td>93</td>\n",
       "      <td>2020-2060</td>\n",
       "    </tr>\n",
       "    <tr>\n",
       "      <th>MIROC6</th>\n",
       "      <td>78</td>\n",
       "      <td>85</td>\n",
       "      <td>2020-2060</td>\n",
       "    </tr>\n",
       "    <tr>\n",
       "      <th>CanESM5</th>\n",
       "      <td>66</td>\n",
       "      <td>71</td>\n",
       "      <td>2020-2060</td>\n",
       "    </tr>\n",
       "    <tr>\n",
       "      <th>TaiESM1</th>\n",
       "      <td>80</td>\n",
       "      <td>86</td>\n",
       "      <td>2020-2060</td>\n",
       "    </tr>\n",
       "    <tr>\n",
       "      <th>NorESM2-LM</th>\n",
       "      <td>77</td>\n",
       "      <td>84</td>\n",
       "      <td>2020-2060</td>\n",
       "    </tr>\n",
       "    <tr>\n",
       "      <th>BCC-CSM2-MR</th>\n",
       "      <td>78</td>\n",
       "      <td>84</td>\n",
       "      <td>2020-2060</td>\n",
       "    </tr>\n",
       "    <tr>\n",
       "      <th>ACCESS-ESM1-5</th>\n",
       "      <td>67</td>\n",
       "      <td>72</td>\n",
       "      <td>2020-2060</td>\n",
       "    </tr>\n",
       "    <tr>\n",
       "      <th>CMCC-CM2-SR5</th>\n",
       "      <td>89</td>\n",
       "      <td>97</td>\n",
       "      <td>2020-2060</td>\n",
       "    </tr>\n",
       "    <tr>\n",
       "      <th>MPI-ESM1-2-LR</th>\n",
       "      <td>74</td>\n",
       "      <td>80</td>\n",
       "      <td>2020-2060</td>\n",
       "    </tr>\n",
       "    <tr>\n",
       "      <th>CMCC-ESM2</th>\n",
       "      <td>74</td>\n",
       "      <td>80</td>\n",
       "      <td>2020-2060</td>\n",
       "    </tr>\n",
       "    <tr>\n",
       "      <th rowspan=\"10\" valign=\"top\">ssp370</th>\n",
       "      <th>NorESM2-MM</th>\n",
       "      <td>89</td>\n",
       "      <td>97</td>\n",
       "      <td>2020-2060</td>\n",
       "    </tr>\n",
       "    <tr>\n",
       "      <th>MIROC6</th>\n",
       "      <td>85</td>\n",
       "      <td>92</td>\n",
       "      <td>2020-2060</td>\n",
       "    </tr>\n",
       "    <tr>\n",
       "      <th>CanESM5</th>\n",
       "      <td>69</td>\n",
       "      <td>75</td>\n",
       "      <td>2020-2060</td>\n",
       "    </tr>\n",
       "    <tr>\n",
       "      <th>TaiESM1</th>\n",
       "      <td>97</td>\n",
       "      <td>106</td>\n",
       "      <td>2020-2060</td>\n",
       "    </tr>\n",
       "    <tr>\n",
       "      <th>NorESM2-LM</th>\n",
       "      <td>70</td>\n",
       "      <td>76</td>\n",
       "      <td>2020-2060</td>\n",
       "    </tr>\n",
       "    <tr>\n",
       "      <th>BCC-CSM2-MR</th>\n",
       "      <td>84</td>\n",
       "      <td>92</td>\n",
       "      <td>2020-2060</td>\n",
       "    </tr>\n",
       "    <tr>\n",
       "      <th>ACCESS-ESM1-5</th>\n",
       "      <td>69</td>\n",
       "      <td>75</td>\n",
       "      <td>2020-2060</td>\n",
       "    </tr>\n",
       "    <tr>\n",
       "      <th>CMCC-CM2-SR5</th>\n",
       "      <td>91</td>\n",
       "      <td>100</td>\n",
       "      <td>2020-2060</td>\n",
       "    </tr>\n",
       "    <tr>\n",
       "      <th>MPI-ESM1-2-LR</th>\n",
       "      <td>73</td>\n",
       "      <td>79</td>\n",
       "      <td>2020-2060</td>\n",
       "    </tr>\n",
       "    <tr>\n",
       "      <th>CMCC-ESM2</th>\n",
       "      <td>77</td>\n",
       "      <td>84</td>\n",
       "      <td>2020-2060</td>\n",
       "    </tr>\n",
       "    <tr>\n",
       "      <th rowspan=\"10\" valign=\"top\">ssp245</th>\n",
       "      <th>NorESM2-MM</th>\n",
       "      <td>87</td>\n",
       "      <td>94</td>\n",
       "      <td>2020-2060</td>\n",
       "    </tr>\n",
       "    <tr>\n",
       "      <th>MIROC6</th>\n",
       "      <td>69</td>\n",
       "      <td>75</td>\n",
       "      <td>2020-2060</td>\n",
       "    </tr>\n",
       "    <tr>\n",
       "      <th>CanESM5</th>\n",
       "      <td>71</td>\n",
       "      <td>77</td>\n",
       "      <td>2020-2060</td>\n",
       "    </tr>\n",
       "    <tr>\n",
       "      <th>TaiESM1</th>\n",
       "      <td>92</td>\n",
       "      <td>101</td>\n",
       "      <td>2020-2060</td>\n",
       "    </tr>\n",
       "    <tr>\n",
       "      <th>NorESM2-LM</th>\n",
       "      <td>78</td>\n",
       "      <td>85</td>\n",
       "      <td>2020-2060</td>\n",
       "    </tr>\n",
       "    <tr>\n",
       "      <th>BCC-CSM2-MR</th>\n",
       "      <td>79</td>\n",
       "      <td>86</td>\n",
       "      <td>2020-2060</td>\n",
       "    </tr>\n",
       "    <tr>\n",
       "      <th>ACCESS-ESM1-5</th>\n",
       "      <td>84</td>\n",
       "      <td>92</td>\n",
       "      <td>2020-2060</td>\n",
       "    </tr>\n",
       "    <tr>\n",
       "      <th>CMCC-CM2-SR5</th>\n",
       "      <td>94</td>\n",
       "      <td>103</td>\n",
       "      <td>2020-2060</td>\n",
       "    </tr>\n",
       "    <tr>\n",
       "      <th>MPI-ESM1-2-LR</th>\n",
       "      <td>79</td>\n",
       "      <td>86</td>\n",
       "      <td>2020-2060</td>\n",
       "    </tr>\n",
       "    <tr>\n",
       "      <th>CMCC-ESM2</th>\n",
       "      <td>85</td>\n",
       "      <td>92</td>\n",
       "      <td>2020-2060</td>\n",
       "    </tr>\n",
       "  </tbody>\n",
       "</table>\n",
       "</div>"
      ],
      "text/plain": [
       "                                       Value for return period 50 years mm/day  \\\n",
       "Name project  Experiment Model                                                   \n",
       "WTP_Mutua_EIB ssp585     NorESM2-MM                                         83   \n",
       "                         MIROC6                                             80   \n",
       "                         CanESM5                                            67   \n",
       "                         TaiESM1                                            86   \n",
       "                         NorESM2-LM                                         76   \n",
       "                         BCC-CSM2-MR                                        77   \n",
       "                         ACCESS-ESM1-5                                      81   \n",
       "                         CMCC-CM2-SR5                                       93   \n",
       "                         MPI-ESM1-2-LR                                      80   \n",
       "                         CMCC-ESM2                                          85   \n",
       "              ssp126     NorESM2-MM                                         86   \n",
       "                         MIROC6                                             78   \n",
       "                         CanESM5                                            66   \n",
       "                         TaiESM1                                            80   \n",
       "                         NorESM2-LM                                         77   \n",
       "                         BCC-CSM2-MR                                        78   \n",
       "                         ACCESS-ESM1-5                                      67   \n",
       "                         CMCC-CM2-SR5                                       89   \n",
       "                         MPI-ESM1-2-LR                                      74   \n",
       "                         CMCC-ESM2                                          74   \n",
       "              ssp370     NorESM2-MM                                         89   \n",
       "                         MIROC6                                             85   \n",
       "                         CanESM5                                            69   \n",
       "                         TaiESM1                                            97   \n",
       "                         NorESM2-LM                                         70   \n",
       "                         BCC-CSM2-MR                                        84   \n",
       "                         ACCESS-ESM1-5                                      69   \n",
       "                         CMCC-CM2-SR5                                       91   \n",
       "                         MPI-ESM1-2-LR                                      73   \n",
       "                         CMCC-ESM2                                          77   \n",
       "              ssp245     NorESM2-MM                                         87   \n",
       "                         MIROC6                                             69   \n",
       "                         CanESM5                                            71   \n",
       "                         TaiESM1                                            92   \n",
       "                         NorESM2-LM                                         78   \n",
       "                         BCC-CSM2-MR                                        79   \n",
       "                         ACCESS-ESM1-5                                      84   \n",
       "                         CMCC-CM2-SR5                                       94   \n",
       "                         MPI-ESM1-2-LR                                      79   \n",
       "                         CMCC-ESM2                                          85   \n",
       "\n",
       "                                       Value for return period 100 years mm/day  \\\n",
       "Name project  Experiment Model                                                    \n",
       "WTP_Mutua_EIB ssp585     NorESM2-MM                                          90   \n",
       "                         MIROC6                                              87   \n",
       "                         CanESM5                                             73   \n",
       "                         TaiESM1                                             93   \n",
       "                         NorESM2-LM                                          82   \n",
       "                         BCC-CSM2-MR                                         84   \n",
       "                         ACCESS-ESM1-5                                       88   \n",
       "                         CMCC-CM2-SR5                                       101   \n",
       "                         MPI-ESM1-2-LR                                       87   \n",
       "                         CMCC-ESM2                                           92   \n",
       "              ssp126     NorESM2-MM                                          93   \n",
       "                         MIROC6                                              85   \n",
       "                         CanESM5                                             71   \n",
       "                         TaiESM1                                             86   \n",
       "                         NorESM2-LM                                          84   \n",
       "                         BCC-CSM2-MR                                         84   \n",
       "                         ACCESS-ESM1-5                                       72   \n",
       "                         CMCC-CM2-SR5                                        97   \n",
       "                         MPI-ESM1-2-LR                                       80   \n",
       "                         CMCC-ESM2                                           80   \n",
       "              ssp370     NorESM2-MM                                          97   \n",
       "                         MIROC6                                              92   \n",
       "                         CanESM5                                             75   \n",
       "                         TaiESM1                                            106   \n",
       "                         NorESM2-LM                                          76   \n",
       "                         BCC-CSM2-MR                                         92   \n",
       "                         ACCESS-ESM1-5                                       75   \n",
       "                         CMCC-CM2-SR5                                       100   \n",
       "                         MPI-ESM1-2-LR                                       79   \n",
       "                         CMCC-ESM2                                           84   \n",
       "              ssp245     NorESM2-MM                                          94   \n",
       "                         MIROC6                                              75   \n",
       "                         CanESM5                                             77   \n",
       "                         TaiESM1                                            101   \n",
       "                         NorESM2-LM                                          85   \n",
       "                         BCC-CSM2-MR                                         86   \n",
       "                         ACCESS-ESM1-5                                       92   \n",
       "                         CMCC-CM2-SR5                                       103   \n",
       "                         MPI-ESM1-2-LR                                       86   \n",
       "                         CMCC-ESM2                                           92   \n",
       "\n",
       "                                           Period  \n",
       "Name project  Experiment Model                     \n",
       "WTP_Mutua_EIB ssp585     NorESM2-MM     2020-2060  \n",
       "                         MIROC6         2020-2060  \n",
       "                         CanESM5        2020-2060  \n",
       "                         TaiESM1        2020-2060  \n",
       "                         NorESM2-LM     2020-2060  \n",
       "                         BCC-CSM2-MR    2020-2060  \n",
       "                         ACCESS-ESM1-5  2020-2060  \n",
       "                         CMCC-CM2-SR5   2020-2060  \n",
       "                         MPI-ESM1-2-LR  2020-2060  \n",
       "                         CMCC-ESM2      2020-2060  \n",
       "              ssp126     NorESM2-MM     2020-2060  \n",
       "                         MIROC6         2020-2060  \n",
       "                         CanESM5        2020-2060  \n",
       "                         TaiESM1        2020-2060  \n",
       "                         NorESM2-LM     2020-2060  \n",
       "                         BCC-CSM2-MR    2020-2060  \n",
       "                         ACCESS-ESM1-5  2020-2060  \n",
       "                         CMCC-CM2-SR5   2020-2060  \n",
       "                         MPI-ESM1-2-LR  2020-2060  \n",
       "                         CMCC-ESM2      2020-2060  \n",
       "              ssp370     NorESM2-MM     2020-2060  \n",
       "                         MIROC6         2020-2060  \n",
       "                         CanESM5        2020-2060  \n",
       "                         TaiESM1        2020-2060  \n",
       "                         NorESM2-LM     2020-2060  \n",
       "                         BCC-CSM2-MR    2020-2060  \n",
       "                         ACCESS-ESM1-5  2020-2060  \n",
       "                         CMCC-CM2-SR5   2020-2060  \n",
       "                         MPI-ESM1-2-LR  2020-2060  \n",
       "                         CMCC-ESM2      2020-2060  \n",
       "              ssp245     NorESM2-MM     2020-2060  \n",
       "                         MIROC6         2020-2060  \n",
       "                         CanESM5        2020-2060  \n",
       "                         TaiESM1        2020-2060  \n",
       "                         NorESM2-LM     2020-2060  \n",
       "                         BCC-CSM2-MR    2020-2060  \n",
       "                         ACCESS-ESM1-5  2020-2060  \n",
       "                         CMCC-CM2-SR5   2020-2060  \n",
       "                         MPI-ESM1-2-LR  2020-2060  \n",
       "                         CMCC-ESM2      2020-2060  "
      ]
     },
     "execution_count": 47,
     "metadata": {},
     "output_type": "execute_result"
    }
   ],
   "source": [
    "return_period_future_2020_2060"
   ]
  },
  {
   "cell_type": "code",
   "execution_count": 63,
   "id": "ed5e2ec8",
   "metadata": {},
   "outputs": [],
   "source": [
    "return_period_future_2020_2060[['Relative change for 100 year event between past and period 2020-2060 %']]=return_period_future_2020_2060[['Value for return period 100 years mm/day']]"
   ]
  },
  {
   "cell_type": "code",
   "execution_count": 69,
   "id": "2abb80e4",
   "metadata": {},
   "outputs": [
    {
     "name": "stdout",
     "output_type": "stream",
     "text": [
      "past_value [68]\n",
      "future_value Value for return period 100 years mm/day    72\n",
      "Name: (WTP_Mutua_EIB, ssp126, ACCESS-ESM1-5), dtype: object\n",
      "past_value [84]\n",
      "future_value Value for return period 100 years mm/day    84\n",
      "Name: (WTP_Mutua_EIB, ssp126, BCC-CSM2-MR), dtype: object\n",
      "past_value [84]\n",
      "future_value Value for return period 100 years mm/day    97\n",
      "Name: (WTP_Mutua_EIB, ssp126, CMCC-CM2-SR5), dtype: object\n",
      "past_value [90]\n",
      "future_value Value for return period 100 years mm/day    80\n",
      "Name: (WTP_Mutua_EIB, ssp126, CMCC-ESM2), dtype: object\n",
      "past_value [69]\n",
      "future_value Value for return period 100 years mm/day    71\n",
      "Name: (WTP_Mutua_EIB, ssp126, CanESM5), dtype: object\n",
      "past_value [73]\n",
      "future_value Value for return period 100 years mm/day    85\n",
      "Name: (WTP_Mutua_EIB, ssp126, MIROC6), dtype: object\n",
      "past_value [69]\n",
      "future_value Value for return period 100 years mm/day    80\n",
      "Name: (WTP_Mutua_EIB, ssp126, MPI-ESM1-2-LR), dtype: object\n",
      "past_value [71]\n",
      "future_value Value for return period 100 years mm/day    84\n",
      "Name: (WTP_Mutua_EIB, ssp126, NorESM2-LM), dtype: object\n",
      "past_value [86]\n",
      "future_value Value for return period 100 years mm/day    93\n",
      "Name: (WTP_Mutua_EIB, ssp126, NorESM2-MM), dtype: object\n",
      "past_value [86]\n",
      "future_value Value for return period 100 years mm/day    86\n",
      "Name: (WTP_Mutua_EIB, ssp126, TaiESM1), dtype: object\n",
      "past_value [68]\n",
      "future_value Value for return period 100 years mm/day    92\n",
      "Name: (WTP_Mutua_EIB, ssp245, ACCESS-ESM1-5), dtype: object\n",
      "past_value [84]\n",
      "future_value Value for return period 100 years mm/day    86\n",
      "Name: (WTP_Mutua_EIB, ssp245, BCC-CSM2-MR), dtype: object\n",
      "past_value [84]\n",
      "future_value Value for return period 100 years mm/day    103\n",
      "Name: (WTP_Mutua_EIB, ssp245, CMCC-CM2-SR5), dtype: object\n",
      "past_value [90]\n",
      "future_value Value for return period 100 years mm/day    92\n",
      "Name: (WTP_Mutua_EIB, ssp245, CMCC-ESM2), dtype: object\n",
      "past_value [69]\n",
      "future_value Value for return period 100 years mm/day    77\n",
      "Name: (WTP_Mutua_EIB, ssp245, CanESM5), dtype: object\n",
      "past_value [73]\n",
      "future_value Value for return period 100 years mm/day    75\n",
      "Name: (WTP_Mutua_EIB, ssp245, MIROC6), dtype: object\n",
      "past_value [69]\n",
      "future_value Value for return period 100 years mm/day    86\n",
      "Name: (WTP_Mutua_EIB, ssp245, MPI-ESM1-2-LR), dtype: object\n",
      "past_value [71]\n",
      "future_value Value for return period 100 years mm/day    85\n",
      "Name: (WTP_Mutua_EIB, ssp245, NorESM2-LM), dtype: object\n",
      "past_value [86]\n",
      "future_value Value for return period 100 years mm/day    94\n",
      "Name: (WTP_Mutua_EIB, ssp245, NorESM2-MM), dtype: object\n",
      "past_value [86]\n",
      "future_value Value for return period 100 years mm/day    101\n",
      "Name: (WTP_Mutua_EIB, ssp245, TaiESM1), dtype: object\n",
      "past_value [68]\n",
      "future_value Value for return period 100 years mm/day    75\n",
      "Name: (WTP_Mutua_EIB, ssp370, ACCESS-ESM1-5), dtype: object\n",
      "past_value [84]\n",
      "future_value Value for return period 100 years mm/day    92\n",
      "Name: (WTP_Mutua_EIB, ssp370, BCC-CSM2-MR), dtype: object\n",
      "past_value [84]\n",
      "future_value Value for return period 100 years mm/day    100\n",
      "Name: (WTP_Mutua_EIB, ssp370, CMCC-CM2-SR5), dtype: object\n",
      "past_value [90]\n",
      "future_value Value for return period 100 years mm/day    84\n",
      "Name: (WTP_Mutua_EIB, ssp370, CMCC-ESM2), dtype: object\n",
      "past_value [69]\n",
      "future_value Value for return period 100 years mm/day    75\n",
      "Name: (WTP_Mutua_EIB, ssp370, CanESM5), dtype: object\n",
      "past_value [73]\n",
      "future_value Value for return period 100 years mm/day    92\n",
      "Name: (WTP_Mutua_EIB, ssp370, MIROC6), dtype: object\n",
      "past_value [69]\n",
      "future_value Value for return period 100 years mm/day    79\n",
      "Name: (WTP_Mutua_EIB, ssp370, MPI-ESM1-2-LR), dtype: object\n",
      "past_value [71]\n",
      "future_value Value for return period 100 years mm/day    76\n",
      "Name: (WTP_Mutua_EIB, ssp370, NorESM2-LM), dtype: object\n",
      "past_value [86]\n",
      "future_value Value for return period 100 years mm/day    97\n",
      "Name: (WTP_Mutua_EIB, ssp370, NorESM2-MM), dtype: object\n",
      "past_value [86]\n",
      "future_value Value for return period 100 years mm/day    106\n",
      "Name: (WTP_Mutua_EIB, ssp370, TaiESM1), dtype: object\n",
      "past_value [68]\n",
      "future_value Value for return period 100 years mm/day    88\n",
      "Name: (WTP_Mutua_EIB, ssp585, ACCESS-ESM1-5), dtype: object\n",
      "past_value [84]\n",
      "future_value Value for return period 100 years mm/day    84\n",
      "Name: (WTP_Mutua_EIB, ssp585, BCC-CSM2-MR), dtype: object\n",
      "past_value [84]\n",
      "future_value Value for return period 100 years mm/day    101\n",
      "Name: (WTP_Mutua_EIB, ssp585, CMCC-CM2-SR5), dtype: object\n",
      "past_value [90]\n",
      "future_value Value for return period 100 years mm/day    92\n",
      "Name: (WTP_Mutua_EIB, ssp585, CMCC-ESM2), dtype: object\n",
      "past_value [69]\n",
      "future_value Value for return period 100 years mm/day    73\n",
      "Name: (WTP_Mutua_EIB, ssp585, CanESM5), dtype: object\n",
      "past_value [73]\n",
      "future_value Value for return period 100 years mm/day    87\n",
      "Name: (WTP_Mutua_EIB, ssp585, MIROC6), dtype: object\n",
      "past_value [69]\n",
      "future_value Value for return period 100 years mm/day    87\n",
      "Name: (WTP_Mutua_EIB, ssp585, MPI-ESM1-2-LR), dtype: object\n",
      "past_value [71]\n",
      "future_value Value for return period 100 years mm/day    82\n",
      "Name: (WTP_Mutua_EIB, ssp585, NorESM2-LM), dtype: object\n",
      "past_value [86]\n",
      "future_value Value for return period 100 years mm/day    90\n",
      "Name: (WTP_Mutua_EIB, ssp585, NorESM2-MM), dtype: object\n",
      "past_value [86]\n",
      "future_value Value for return period 100 years mm/day    93\n",
      "Name: (WTP_Mutua_EIB, ssp585, TaiESM1), dtype: object\n"
     ]
    }
   ],
   "source": [
    "for ssp in list(return_period_future_2020_2060.index.levels[1]):\n",
    "    for model in list(return_period_future_2020_2060.index.levels[2]):\n",
    "        past_value=return_period_past[['Value for return period 100 years mm/day']].loc['WTP_Mutua_EIB','historical',model].values\n",
    "        print('past_value '+str(past_value))\n",
    "        future_value=return_period_future_2020_2060[['Value for return period 100 years mm/day']].loc['WTP_Mutua_EIB',ssp,model]\n",
    "        print('future_value '+str(future_value))\n",
    "        return_period_future_2020_2060['Relative change for 100 year event between past and period 2020-2060 %'].loc['WTP_Mutua_EIB',ssp,model]=(future_value-past_value)/past_value*100"
   ]
  },
  {
   "cell_type": "code",
   "execution_count": null,
   "id": "7e656260",
   "metadata": {},
   "outputs": [],
   "source": []
  },
  {
   "cell_type": "code",
   "execution_count": 71,
   "id": "1fde098e",
   "metadata": {
    "scrolled": true
   },
   "outputs": [
    {
     "data": {
      "text/html": [
       "<div>\n",
       "<style scoped>\n",
       "    .dataframe tbody tr th:only-of-type {\n",
       "        vertical-align: middle;\n",
       "    }\n",
       "\n",
       "    .dataframe tbody tr th {\n",
       "        vertical-align: top;\n",
       "    }\n",
       "\n",
       "    .dataframe thead th {\n",
       "        text-align: right;\n",
       "    }\n",
       "</style>\n",
       "<table border=\"1\" class=\"dataframe\">\n",
       "  <thead>\n",
       "    <tr style=\"text-align: right;\">\n",
       "      <th></th>\n",
       "      <th></th>\n",
       "      <th></th>\n",
       "      <th>Value for return period 50 years mm/day</th>\n",
       "      <th>Value for return period 100 years mm/day</th>\n",
       "      <th>Period</th>\n",
       "      <th>Relative change for 100 year event between past and period 2020-2060 %</th>\n",
       "    </tr>\n",
       "    <tr>\n",
       "      <th>Name project</th>\n",
       "      <th>Experiment</th>\n",
       "      <th>Model</th>\n",
       "      <th></th>\n",
       "      <th></th>\n",
       "      <th></th>\n",
       "      <th></th>\n",
       "    </tr>\n",
       "  </thead>\n",
       "  <tbody>\n",
       "    <tr>\n",
       "      <th rowspan=\"40\" valign=\"top\">WTP_Mutua_EIB</th>\n",
       "      <th rowspan=\"10\" valign=\"top\">ssp585</th>\n",
       "      <th>NorESM2-MM</th>\n",
       "      <td>83</td>\n",
       "      <td>90</td>\n",
       "      <td>2020-2060</td>\n",
       "      <td>4.651162790697675</td>\n",
       "    </tr>\n",
       "    <tr>\n",
       "      <th>MIROC6</th>\n",
       "      <td>80</td>\n",
       "      <td>87</td>\n",
       "      <td>2020-2060</td>\n",
       "      <td>19.17808219178082</td>\n",
       "    </tr>\n",
       "    <tr>\n",
       "      <th>CanESM5</th>\n",
       "      <td>67</td>\n",
       "      <td>73</td>\n",
       "      <td>2020-2060</td>\n",
       "      <td>5.797101449275362</td>\n",
       "    </tr>\n",
       "    <tr>\n",
       "      <th>TaiESM1</th>\n",
       "      <td>86</td>\n",
       "      <td>93</td>\n",
       "      <td>2020-2060</td>\n",
       "      <td>8.13953488372093</td>\n",
       "    </tr>\n",
       "    <tr>\n",
       "      <th>NorESM2-LM</th>\n",
       "      <td>76</td>\n",
       "      <td>82</td>\n",
       "      <td>2020-2060</td>\n",
       "      <td>15.492957746478872</td>\n",
       "    </tr>\n",
       "    <tr>\n",
       "      <th>BCC-CSM2-MR</th>\n",
       "      <td>77</td>\n",
       "      <td>84</td>\n",
       "      <td>2020-2060</td>\n",
       "      <td>0.0</td>\n",
       "    </tr>\n",
       "    <tr>\n",
       "      <th>ACCESS-ESM1-5</th>\n",
       "      <td>81</td>\n",
       "      <td>88</td>\n",
       "      <td>2020-2060</td>\n",
       "      <td>29.411764705882355</td>\n",
       "    </tr>\n",
       "    <tr>\n",
       "      <th>CMCC-CM2-SR5</th>\n",
       "      <td>93</td>\n",
       "      <td>101</td>\n",
       "      <td>2020-2060</td>\n",
       "      <td>20.238095238095237</td>\n",
       "    </tr>\n",
       "    <tr>\n",
       "      <th>MPI-ESM1-2-LR</th>\n",
       "      <td>80</td>\n",
       "      <td>87</td>\n",
       "      <td>2020-2060</td>\n",
       "      <td>26.08695652173913</td>\n",
       "    </tr>\n",
       "    <tr>\n",
       "      <th>CMCC-ESM2</th>\n",
       "      <td>85</td>\n",
       "      <td>92</td>\n",
       "      <td>2020-2060</td>\n",
       "      <td>2.2222222222222223</td>\n",
       "    </tr>\n",
       "    <tr>\n",
       "      <th rowspan=\"10\" valign=\"top\">ssp126</th>\n",
       "      <th>NorESM2-MM</th>\n",
       "      <td>86</td>\n",
       "      <td>93</td>\n",
       "      <td>2020-2060</td>\n",
       "      <td>8.13953488372093</td>\n",
       "    </tr>\n",
       "    <tr>\n",
       "      <th>MIROC6</th>\n",
       "      <td>78</td>\n",
       "      <td>85</td>\n",
       "      <td>2020-2060</td>\n",
       "      <td>16.43835616438356</td>\n",
       "    </tr>\n",
       "    <tr>\n",
       "      <th>CanESM5</th>\n",
       "      <td>66</td>\n",
       "      <td>71</td>\n",
       "      <td>2020-2060</td>\n",
       "      <td>2.898550724637681</td>\n",
       "    </tr>\n",
       "    <tr>\n",
       "      <th>TaiESM1</th>\n",
       "      <td>80</td>\n",
       "      <td>86</td>\n",
       "      <td>2020-2060</td>\n",
       "      <td>0.0</td>\n",
       "    </tr>\n",
       "    <tr>\n",
       "      <th>NorESM2-LM</th>\n",
       "      <td>77</td>\n",
       "      <td>84</td>\n",
       "      <td>2020-2060</td>\n",
       "      <td>18.30985915492958</td>\n",
       "    </tr>\n",
       "    <tr>\n",
       "      <th>BCC-CSM2-MR</th>\n",
       "      <td>78</td>\n",
       "      <td>84</td>\n",
       "      <td>2020-2060</td>\n",
       "      <td>0.0</td>\n",
       "    </tr>\n",
       "    <tr>\n",
       "      <th>ACCESS-ESM1-5</th>\n",
       "      <td>67</td>\n",
       "      <td>72</td>\n",
       "      <td>2020-2060</td>\n",
       "      <td>5.88235294117647</td>\n",
       "    </tr>\n",
       "    <tr>\n",
       "      <th>CMCC-CM2-SR5</th>\n",
       "      <td>89</td>\n",
       "      <td>97</td>\n",
       "      <td>2020-2060</td>\n",
       "      <td>15.476190476190476</td>\n",
       "    </tr>\n",
       "    <tr>\n",
       "      <th>MPI-ESM1-2-LR</th>\n",
       "      <td>74</td>\n",
       "      <td>80</td>\n",
       "      <td>2020-2060</td>\n",
       "      <td>15.942028985507244</td>\n",
       "    </tr>\n",
       "    <tr>\n",
       "      <th>CMCC-ESM2</th>\n",
       "      <td>74</td>\n",
       "      <td>80</td>\n",
       "      <td>2020-2060</td>\n",
       "      <td>-11.11111111111111</td>\n",
       "    </tr>\n",
       "    <tr>\n",
       "      <th rowspan=\"10\" valign=\"top\">ssp370</th>\n",
       "      <th>NorESM2-MM</th>\n",
       "      <td>89</td>\n",
       "      <td>97</td>\n",
       "      <td>2020-2060</td>\n",
       "      <td>12.790697674418606</td>\n",
       "    </tr>\n",
       "    <tr>\n",
       "      <th>MIROC6</th>\n",
       "      <td>85</td>\n",
       "      <td>92</td>\n",
       "      <td>2020-2060</td>\n",
       "      <td>26.027397260273972</td>\n",
       "    </tr>\n",
       "    <tr>\n",
       "      <th>CanESM5</th>\n",
       "      <td>69</td>\n",
       "      <td>75</td>\n",
       "      <td>2020-2060</td>\n",
       "      <td>8.695652173913043</td>\n",
       "    </tr>\n",
       "    <tr>\n",
       "      <th>TaiESM1</th>\n",
       "      <td>97</td>\n",
       "      <td>106</td>\n",
       "      <td>2020-2060</td>\n",
       "      <td>23.25581395348837</td>\n",
       "    </tr>\n",
       "    <tr>\n",
       "      <th>NorESM2-LM</th>\n",
       "      <td>70</td>\n",
       "      <td>76</td>\n",
       "      <td>2020-2060</td>\n",
       "      <td>7.042253521126761</td>\n",
       "    </tr>\n",
       "    <tr>\n",
       "      <th>BCC-CSM2-MR</th>\n",
       "      <td>84</td>\n",
       "      <td>92</td>\n",
       "      <td>2020-2060</td>\n",
       "      <td>9.523809523809524</td>\n",
       "    </tr>\n",
       "    <tr>\n",
       "      <th>ACCESS-ESM1-5</th>\n",
       "      <td>69</td>\n",
       "      <td>75</td>\n",
       "      <td>2020-2060</td>\n",
       "      <td>10.294117647058822</td>\n",
       "    </tr>\n",
       "    <tr>\n",
       "      <th>CMCC-CM2-SR5</th>\n",
       "      <td>91</td>\n",
       "      <td>100</td>\n",
       "      <td>2020-2060</td>\n",
       "      <td>19.047619047619047</td>\n",
       "    </tr>\n",
       "    <tr>\n",
       "      <th>MPI-ESM1-2-LR</th>\n",
       "      <td>73</td>\n",
       "      <td>79</td>\n",
       "      <td>2020-2060</td>\n",
       "      <td>14.492753623188406</td>\n",
       "    </tr>\n",
       "    <tr>\n",
       "      <th>CMCC-ESM2</th>\n",
       "      <td>77</td>\n",
       "      <td>84</td>\n",
       "      <td>2020-2060</td>\n",
       "      <td>-6.666666666666667</td>\n",
       "    </tr>\n",
       "    <tr>\n",
       "      <th rowspan=\"10\" valign=\"top\">ssp245</th>\n",
       "      <th>NorESM2-MM</th>\n",
       "      <td>87</td>\n",
       "      <td>94</td>\n",
       "      <td>2020-2060</td>\n",
       "      <td>9.30232558139535</td>\n",
       "    </tr>\n",
       "    <tr>\n",
       "      <th>MIROC6</th>\n",
       "      <td>69</td>\n",
       "      <td>75</td>\n",
       "      <td>2020-2060</td>\n",
       "      <td>2.73972602739726</td>\n",
       "    </tr>\n",
       "    <tr>\n",
       "      <th>CanESM5</th>\n",
       "      <td>71</td>\n",
       "      <td>77</td>\n",
       "      <td>2020-2060</td>\n",
       "      <td>11.594202898550725</td>\n",
       "    </tr>\n",
       "    <tr>\n",
       "      <th>TaiESM1</th>\n",
       "      <td>92</td>\n",
       "      <td>101</td>\n",
       "      <td>2020-2060</td>\n",
       "      <td>17.441860465116278</td>\n",
       "    </tr>\n",
       "    <tr>\n",
       "      <th>NorESM2-LM</th>\n",
       "      <td>78</td>\n",
       "      <td>85</td>\n",
       "      <td>2020-2060</td>\n",
       "      <td>19.718309859154928</td>\n",
       "    </tr>\n",
       "    <tr>\n",
       "      <th>BCC-CSM2-MR</th>\n",
       "      <td>79</td>\n",
       "      <td>86</td>\n",
       "      <td>2020-2060</td>\n",
       "      <td>2.380952380952381</td>\n",
       "    </tr>\n",
       "    <tr>\n",
       "      <th>ACCESS-ESM1-5</th>\n",
       "      <td>84</td>\n",
       "      <td>92</td>\n",
       "      <td>2020-2060</td>\n",
       "      <td>35.294117647058826</td>\n",
       "    </tr>\n",
       "    <tr>\n",
       "      <th>CMCC-CM2-SR5</th>\n",
       "      <td>94</td>\n",
       "      <td>103</td>\n",
       "      <td>2020-2060</td>\n",
       "      <td>22.61904761904762</td>\n",
       "    </tr>\n",
       "    <tr>\n",
       "      <th>MPI-ESM1-2-LR</th>\n",
       "      <td>79</td>\n",
       "      <td>86</td>\n",
       "      <td>2020-2060</td>\n",
       "      <td>24.637681159420293</td>\n",
       "    </tr>\n",
       "    <tr>\n",
       "      <th>CMCC-ESM2</th>\n",
       "      <td>85</td>\n",
       "      <td>92</td>\n",
       "      <td>2020-2060</td>\n",
       "      <td>2.2222222222222223</td>\n",
       "    </tr>\n",
       "  </tbody>\n",
       "</table>\n",
       "</div>"
      ],
      "text/plain": [
       "                                       Value for return period 50 years mm/day  \\\n",
       "Name project  Experiment Model                                                   \n",
       "WTP_Mutua_EIB ssp585     NorESM2-MM                                         83   \n",
       "                         MIROC6                                             80   \n",
       "                         CanESM5                                            67   \n",
       "                         TaiESM1                                            86   \n",
       "                         NorESM2-LM                                         76   \n",
       "                         BCC-CSM2-MR                                        77   \n",
       "                         ACCESS-ESM1-5                                      81   \n",
       "                         CMCC-CM2-SR5                                       93   \n",
       "                         MPI-ESM1-2-LR                                      80   \n",
       "                         CMCC-ESM2                                          85   \n",
       "              ssp126     NorESM2-MM                                         86   \n",
       "                         MIROC6                                             78   \n",
       "                         CanESM5                                            66   \n",
       "                         TaiESM1                                            80   \n",
       "                         NorESM2-LM                                         77   \n",
       "                         BCC-CSM2-MR                                        78   \n",
       "                         ACCESS-ESM1-5                                      67   \n",
       "                         CMCC-CM2-SR5                                       89   \n",
       "                         MPI-ESM1-2-LR                                      74   \n",
       "                         CMCC-ESM2                                          74   \n",
       "              ssp370     NorESM2-MM                                         89   \n",
       "                         MIROC6                                             85   \n",
       "                         CanESM5                                            69   \n",
       "                         TaiESM1                                            97   \n",
       "                         NorESM2-LM                                         70   \n",
       "                         BCC-CSM2-MR                                        84   \n",
       "                         ACCESS-ESM1-5                                      69   \n",
       "                         CMCC-CM2-SR5                                       91   \n",
       "                         MPI-ESM1-2-LR                                      73   \n",
       "                         CMCC-ESM2                                          77   \n",
       "              ssp245     NorESM2-MM                                         87   \n",
       "                         MIROC6                                             69   \n",
       "                         CanESM5                                            71   \n",
       "                         TaiESM1                                            92   \n",
       "                         NorESM2-LM                                         78   \n",
       "                         BCC-CSM2-MR                                        79   \n",
       "                         ACCESS-ESM1-5                                      84   \n",
       "                         CMCC-CM2-SR5                                       94   \n",
       "                         MPI-ESM1-2-LR                                      79   \n",
       "                         CMCC-ESM2                                          85   \n",
       "\n",
       "                                       Value for return period 100 years mm/day  \\\n",
       "Name project  Experiment Model                                                    \n",
       "WTP_Mutua_EIB ssp585     NorESM2-MM                                          90   \n",
       "                         MIROC6                                              87   \n",
       "                         CanESM5                                             73   \n",
       "                         TaiESM1                                             93   \n",
       "                         NorESM2-LM                                          82   \n",
       "                         BCC-CSM2-MR                                         84   \n",
       "                         ACCESS-ESM1-5                                       88   \n",
       "                         CMCC-CM2-SR5                                       101   \n",
       "                         MPI-ESM1-2-LR                                       87   \n",
       "                         CMCC-ESM2                                           92   \n",
       "              ssp126     NorESM2-MM                                          93   \n",
       "                         MIROC6                                              85   \n",
       "                         CanESM5                                             71   \n",
       "                         TaiESM1                                             86   \n",
       "                         NorESM2-LM                                          84   \n",
       "                         BCC-CSM2-MR                                         84   \n",
       "                         ACCESS-ESM1-5                                       72   \n",
       "                         CMCC-CM2-SR5                                        97   \n",
       "                         MPI-ESM1-2-LR                                       80   \n",
       "                         CMCC-ESM2                                           80   \n",
       "              ssp370     NorESM2-MM                                          97   \n",
       "                         MIROC6                                              92   \n",
       "                         CanESM5                                             75   \n",
       "                         TaiESM1                                            106   \n",
       "                         NorESM2-LM                                          76   \n",
       "                         BCC-CSM2-MR                                         92   \n",
       "                         ACCESS-ESM1-5                                       75   \n",
       "                         CMCC-CM2-SR5                                       100   \n",
       "                         MPI-ESM1-2-LR                                       79   \n",
       "                         CMCC-ESM2                                           84   \n",
       "              ssp245     NorESM2-MM                                          94   \n",
       "                         MIROC6                                              75   \n",
       "                         CanESM5                                             77   \n",
       "                         TaiESM1                                            101   \n",
       "                         NorESM2-LM                                          85   \n",
       "                         BCC-CSM2-MR                                         86   \n",
       "                         ACCESS-ESM1-5                                       92   \n",
       "                         CMCC-CM2-SR5                                       103   \n",
       "                         MPI-ESM1-2-LR                                       86   \n",
       "                         CMCC-ESM2                                           92   \n",
       "\n",
       "                                           Period  \\\n",
       "Name project  Experiment Model                      \n",
       "WTP_Mutua_EIB ssp585     NorESM2-MM     2020-2060   \n",
       "                         MIROC6         2020-2060   \n",
       "                         CanESM5        2020-2060   \n",
       "                         TaiESM1        2020-2060   \n",
       "                         NorESM2-LM     2020-2060   \n",
       "                         BCC-CSM2-MR    2020-2060   \n",
       "                         ACCESS-ESM1-5  2020-2060   \n",
       "                         CMCC-CM2-SR5   2020-2060   \n",
       "                         MPI-ESM1-2-LR  2020-2060   \n",
       "                         CMCC-ESM2      2020-2060   \n",
       "              ssp126     NorESM2-MM     2020-2060   \n",
       "                         MIROC6         2020-2060   \n",
       "                         CanESM5        2020-2060   \n",
       "                         TaiESM1        2020-2060   \n",
       "                         NorESM2-LM     2020-2060   \n",
       "                         BCC-CSM2-MR    2020-2060   \n",
       "                         ACCESS-ESM1-5  2020-2060   \n",
       "                         CMCC-CM2-SR5   2020-2060   \n",
       "                         MPI-ESM1-2-LR  2020-2060   \n",
       "                         CMCC-ESM2      2020-2060   \n",
       "              ssp370     NorESM2-MM     2020-2060   \n",
       "                         MIROC6         2020-2060   \n",
       "                         CanESM5        2020-2060   \n",
       "                         TaiESM1        2020-2060   \n",
       "                         NorESM2-LM     2020-2060   \n",
       "                         BCC-CSM2-MR    2020-2060   \n",
       "                         ACCESS-ESM1-5  2020-2060   \n",
       "                         CMCC-CM2-SR5   2020-2060   \n",
       "                         MPI-ESM1-2-LR  2020-2060   \n",
       "                         CMCC-ESM2      2020-2060   \n",
       "              ssp245     NorESM2-MM     2020-2060   \n",
       "                         MIROC6         2020-2060   \n",
       "                         CanESM5        2020-2060   \n",
       "                         TaiESM1        2020-2060   \n",
       "                         NorESM2-LM     2020-2060   \n",
       "                         BCC-CSM2-MR    2020-2060   \n",
       "                         ACCESS-ESM1-5  2020-2060   \n",
       "                         CMCC-CM2-SR5   2020-2060   \n",
       "                         MPI-ESM1-2-LR  2020-2060   \n",
       "                         CMCC-ESM2      2020-2060   \n",
       "\n",
       "                                       Relative change for 100 year event between past and period 2020-2060 %  \n",
       "Name project  Experiment Model                                                                                 \n",
       "WTP_Mutua_EIB ssp585     NorESM2-MM                                     4.651162790697675                      \n",
       "                         MIROC6                                         19.17808219178082                      \n",
       "                         CanESM5                                        5.797101449275362                      \n",
       "                         TaiESM1                                         8.13953488372093                      \n",
       "                         NorESM2-LM                                    15.492957746478872                      \n",
       "                         BCC-CSM2-MR                                                  0.0                      \n",
       "                         ACCESS-ESM1-5                                 29.411764705882355                      \n",
       "                         CMCC-CM2-SR5                                  20.238095238095237                      \n",
       "                         MPI-ESM1-2-LR                                  26.08695652173913                      \n",
       "                         CMCC-ESM2                                     2.2222222222222223                      \n",
       "              ssp126     NorESM2-MM                                      8.13953488372093                      \n",
       "                         MIROC6                                         16.43835616438356                      \n",
       "                         CanESM5                                        2.898550724637681                      \n",
       "                         TaiESM1                                                      0.0                      \n",
       "                         NorESM2-LM                                     18.30985915492958                      \n",
       "                         BCC-CSM2-MR                                                  0.0                      \n",
       "                         ACCESS-ESM1-5                                   5.88235294117647                      \n",
       "                         CMCC-CM2-SR5                                  15.476190476190476                      \n",
       "                         MPI-ESM1-2-LR                                 15.942028985507244                      \n",
       "                         CMCC-ESM2                                     -11.11111111111111                      \n",
       "              ssp370     NorESM2-MM                                    12.790697674418606                      \n",
       "                         MIROC6                                        26.027397260273972                      \n",
       "                         CanESM5                                        8.695652173913043                      \n",
       "                         TaiESM1                                        23.25581395348837                      \n",
       "                         NorESM2-LM                                     7.042253521126761                      \n",
       "                         BCC-CSM2-MR                                    9.523809523809524                      \n",
       "                         ACCESS-ESM1-5                                 10.294117647058822                      \n",
       "                         CMCC-CM2-SR5                                  19.047619047619047                      \n",
       "                         MPI-ESM1-2-LR                                 14.492753623188406                      \n",
       "                         CMCC-ESM2                                     -6.666666666666667                      \n",
       "              ssp245     NorESM2-MM                                      9.30232558139535                      \n",
       "                         MIROC6                                          2.73972602739726                      \n",
       "                         CanESM5                                       11.594202898550725                      \n",
       "                         TaiESM1                                       17.441860465116278                      \n",
       "                         NorESM2-LM                                    19.718309859154928                      \n",
       "                         BCC-CSM2-MR                                    2.380952380952381                      \n",
       "                         ACCESS-ESM1-5                                 35.294117647058826                      \n",
       "                         CMCC-CM2-SR5                                   22.61904761904762                      \n",
       "                         MPI-ESM1-2-LR                                 24.637681159420293                      \n",
       "                         CMCC-ESM2                                     2.2222222222222223                      "
      ]
     },
     "execution_count": 71,
     "metadata": {},
     "output_type": "execute_result"
    }
   ],
   "source": [
    "return_period_future_2020_2060.drop('Relative change for 100 year event between past and period 2020-2060',axis=1)"
   ]
  },
  {
   "cell_type": "code",
   "execution_count": null,
   "id": "a0faf258",
   "metadata": {},
   "outputs": [],
   "source": []
  },
  {
   "cell_type": "code",
   "execution_count": 72,
   "id": "07230416",
   "metadata": {},
   "outputs": [],
   "source": [
    "return_period_future_2060_2100[['Relative change for 100 year event between past and period 2060-2100 %']]=return_period_future_2060_2100[['Value for return period 100 years mm/day']]"
   ]
  },
  {
   "cell_type": "code",
   "execution_count": 74,
   "id": "f1cf7af1",
   "metadata": {},
   "outputs": [
    {
     "name": "stdout",
     "output_type": "stream",
     "text": [
      "past_value [68]\n",
      "future_value Value for return period 100 years mm/day    89\n",
      "Name: (WTP_Mutua_EIB, ssp126, ACCESS-ESM1-5), dtype: object\n",
      "past_value [84]\n",
      "future_value Value for return period 100 years mm/day    86\n",
      "Name: (WTP_Mutua_EIB, ssp126, BCC-CSM2-MR), dtype: object\n",
      "past_value [84]\n",
      "future_value Value for return period 100 years mm/day    106\n",
      "Name: (WTP_Mutua_EIB, ssp126, CMCC-CM2-SR5), dtype: object\n",
      "past_value [90]\n",
      "future_value Value for return period 100 years mm/day    92\n",
      "Name: (WTP_Mutua_EIB, ssp126, CMCC-ESM2), dtype: object\n",
      "past_value [69]\n",
      "future_value Value for return period 100 years mm/day    67\n",
      "Name: (WTP_Mutua_EIB, ssp126, CanESM5), dtype: object\n",
      "past_value [73]\n",
      "future_value Value for return period 100 years mm/day    94\n",
      "Name: (WTP_Mutua_EIB, ssp126, MIROC6), dtype: object\n",
      "past_value [69]\n",
      "future_value Value for return period 100 years mm/day    80\n",
      "Name: (WTP_Mutua_EIB, ssp126, MPI-ESM1-2-LR), dtype: object\n",
      "past_value [71]\n",
      "future_value Value for return period 100 years mm/day    80\n",
      "Name: (WTP_Mutua_EIB, ssp126, NorESM2-LM), dtype: object\n",
      "past_value [86]\n",
      "future_value Value for return period 100 years mm/day    83\n",
      "Name: (WTP_Mutua_EIB, ssp126, NorESM2-MM), dtype: object\n",
      "past_value [86]\n",
      "future_value Value for return period 100 years mm/day    103\n",
      "Name: (WTP_Mutua_EIB, ssp126, TaiESM1), dtype: object\n",
      "past_value [68]\n",
      "future_value Value for return period 100 years mm/day    95\n",
      "Name: (WTP_Mutua_EIB, ssp245, ACCESS-ESM1-5), dtype: object\n",
      "past_value [84]\n",
      "future_value Value for return period 100 years mm/day    95\n",
      "Name: (WTP_Mutua_EIB, ssp245, BCC-CSM2-MR), dtype: object\n",
      "past_value [84]\n",
      "future_value Value for return period 100 years mm/day    95\n",
      "Name: (WTP_Mutua_EIB, ssp245, CMCC-CM2-SR5), dtype: object\n",
      "past_value [90]\n",
      "future_value Value for return period 100 years mm/day    103\n",
      "Name: (WTP_Mutua_EIB, ssp245, CMCC-ESM2), dtype: object\n",
      "past_value [69]\n",
      "future_value Value for return period 100 years mm/day    81\n",
      "Name: (WTP_Mutua_EIB, ssp245, CanESM5), dtype: object\n",
      "past_value [73]\n",
      "future_value Value for return period 100 years mm/day    88\n",
      "Name: (WTP_Mutua_EIB, ssp245, MIROC6), dtype: object\n",
      "past_value [69]\n",
      "future_value Value for return period 100 years mm/day    81\n",
      "Name: (WTP_Mutua_EIB, ssp245, MPI-ESM1-2-LR), dtype: object\n",
      "past_value [71]\n",
      "future_value Value for return period 100 years mm/day    81\n",
      "Name: (WTP_Mutua_EIB, ssp245, NorESM2-LM), dtype: object\n",
      "past_value [86]\n",
      "future_value Value for return period 100 years mm/day    95\n",
      "Name: (WTP_Mutua_EIB, ssp245, NorESM2-MM), dtype: object\n",
      "past_value [86]\n",
      "future_value Value for return period 100 years mm/day    92\n",
      "Name: (WTP_Mutua_EIB, ssp245, TaiESM1), dtype: object\n",
      "past_value [68]\n",
      "future_value Value for return period 100 years mm/day    106\n",
      "Name: (WTP_Mutua_EIB, ssp370, ACCESS-ESM1-5), dtype: object\n",
      "past_value [84]\n",
      "future_value Value for return period 100 years mm/day    89\n",
      "Name: (WTP_Mutua_EIB, ssp370, BCC-CSM2-MR), dtype: object\n",
      "past_value [84]\n",
      "future_value Value for return period 100 years mm/day    98\n",
      "Name: (WTP_Mutua_EIB, ssp370, CMCC-CM2-SR5), dtype: object\n",
      "past_value [90]\n",
      "future_value Value for return period 100 years mm/day    98\n",
      "Name: (WTP_Mutua_EIB, ssp370, CMCC-ESM2), dtype: object\n",
      "past_value [69]\n",
      "future_value Value for return period 100 years mm/day    73\n",
      "Name: (WTP_Mutua_EIB, ssp370, CanESM5), dtype: object\n",
      "past_value [73]\n",
      "future_value Value for return period 100 years mm/day    89\n",
      "Name: (WTP_Mutua_EIB, ssp370, MIROC6), dtype: object\n",
      "past_value [69]\n",
      "future_value Value for return period 100 years mm/day    77\n",
      "Name: (WTP_Mutua_EIB, ssp370, MPI-ESM1-2-LR), dtype: object\n",
      "past_value [71]\n",
      "future_value Value for return period 100 years mm/day    98\n",
      "Name: (WTP_Mutua_EIB, ssp370, NorESM2-LM), dtype: object\n",
      "past_value [86]\n",
      "future_value Value for return period 100 years mm/day    97\n",
      "Name: (WTP_Mutua_EIB, ssp370, NorESM2-MM), dtype: object\n",
      "past_value [86]\n",
      "future_value Value for return period 100 years mm/day    110\n",
      "Name: (WTP_Mutua_EIB, ssp370, TaiESM1), dtype: object\n",
      "past_value [68]\n",
      "future_value Value for return period 100 years mm/day    94\n",
      "Name: (WTP_Mutua_EIB, ssp585, ACCESS-ESM1-5), dtype: object\n",
      "past_value [84]\n",
      "future_value Value for return period 100 years mm/day    81\n",
      "Name: (WTP_Mutua_EIB, ssp585, BCC-CSM2-MR), dtype: object\n",
      "past_value [84]\n",
      "future_value Value for return period 100 years mm/day    109\n",
      "Name: (WTP_Mutua_EIB, ssp585, CMCC-CM2-SR5), dtype: object\n",
      "past_value [90]\n",
      "future_value Value for return period 100 years mm/day    104\n",
      "Name: (WTP_Mutua_EIB, ssp585, CMCC-ESM2), dtype: object\n",
      "past_value [69]\n",
      "future_value Value for return period 100 years mm/day    82\n",
      "Name: (WTP_Mutua_EIB, ssp585, CanESM5), dtype: object\n",
      "past_value [73]\n",
      "future_value Value for return period 100 years mm/day    97\n",
      "Name: (WTP_Mutua_EIB, ssp585, MIROC6), dtype: object\n",
      "past_value [69]\n",
      "future_value Value for return period 100 years mm/day    90\n",
      "Name: (WTP_Mutua_EIB, ssp585, MPI-ESM1-2-LR), dtype: object\n",
      "past_value [71]\n",
      "future_value Value for return period 100 years mm/day    97\n",
      "Name: (WTP_Mutua_EIB, ssp585, NorESM2-LM), dtype: object\n",
      "past_value [86]\n",
      "future_value Value for return period 100 years mm/day    105\n",
      "Name: (WTP_Mutua_EIB, ssp585, NorESM2-MM), dtype: object\n",
      "past_value [86]\n",
      "future_value Value for return period 100 years mm/day    95\n",
      "Name: (WTP_Mutua_EIB, ssp585, TaiESM1), dtype: object\n"
     ]
    }
   ],
   "source": [
    "for ssp in list(return_period_future_2060_2100.index.levels[1]):\n",
    "    for model in list(return_period_future_2060_2100.index.levels[2]):\n",
    "        past_value=return_period_past[['Value for return period 100 years mm/day']].loc['WTP_Mutua_EIB','historical',model].values\n",
    "        print('past_value '+str(past_value))\n",
    "        future_value=return_period_future_2060_2100[['Value for return period 100 years mm/day']].loc['WTP_Mutua_EIB',ssp,model]\n",
    "        print('future_value '+str(future_value))\n",
    "        return_period_future_2060_2100['Relative change for 100 year event between past and period 2060-2100 %'].loc['WTP_Mutua_EIB',ssp,model]=(future_value-past_value)/past_value*100"
   ]
  },
  {
   "cell_type": "code",
   "execution_count": 84,
   "id": "f78499a0",
   "metadata": {},
   "outputs": [],
   "source": [
    "data_boxplot= pd.concat([return_period_future_2020_2060[['Relative change for 100 year event between past and period 2020-2060 %','Period']],return_period_future_2060_2100[['Relative change for 100 year event between past and period 2060-2100 %','Period']]])"
   ]
  },
  {
   "cell_type": "code",
   "execution_count": 94,
   "id": "94a3d436",
   "metadata": {},
   "outputs": [],
   "source": [
    "data_boxplot = data_boxplot.fillna(0)"
   ]
  },
  {
   "cell_type": "code",
   "execution_count": 98,
   "id": "05445545",
   "metadata": {},
   "outputs": [],
   "source": [
    "data_boxplot['Relative change between past and future period'] = data_boxplot['Relative change for 100 year event between past and period 2020-2060 %']+data_boxplot['Relative change for 100 year event between past and period 2060-2100 %']"
   ]
  },
  {
   "cell_type": "code",
   "execution_count": 99,
   "id": "8da427a2",
   "metadata": {},
   "outputs": [],
   "source": [
    "data_boxplot=data_boxplot.reset_index()"
   ]
  },
  {
   "cell_type": "code",
   "execution_count": 100,
   "id": "12ebd263",
   "metadata": {},
   "outputs": [
    {
     "data": {
      "text/html": [
       "<div>\n",
       "<style scoped>\n",
       "    .dataframe tbody tr th:only-of-type {\n",
       "        vertical-align: middle;\n",
       "    }\n",
       "\n",
       "    .dataframe tbody tr th {\n",
       "        vertical-align: top;\n",
       "    }\n",
       "\n",
       "    .dataframe thead th {\n",
       "        text-align: right;\n",
       "    }\n",
       "</style>\n",
       "<table border=\"1\" class=\"dataframe\">\n",
       "  <thead>\n",
       "    <tr style=\"text-align: right;\">\n",
       "      <th></th>\n",
       "      <th>level_0</th>\n",
       "      <th>index</th>\n",
       "      <th>Name project</th>\n",
       "      <th>Experiment</th>\n",
       "      <th>Model</th>\n",
       "      <th>Relative change for 100 year event between past and period 2020-2060 %</th>\n",
       "      <th>Period</th>\n",
       "      <th>Relative change for 100 year event between past and period 2060-2100 %</th>\n",
       "      <th>Relative change between past and future period</th>\n",
       "    </tr>\n",
       "  </thead>\n",
       "  <tbody>\n",
       "    <tr>\n",
       "      <th>0</th>\n",
       "      <td>0</td>\n",
       "      <td>0</td>\n",
       "      <td>WTP_Mutua_EIB</td>\n",
       "      <td>ssp585</td>\n",
       "      <td>NorESM2-MM</td>\n",
       "      <td>4.651162790697675</td>\n",
       "      <td>2020-2060</td>\n",
       "      <td>0</td>\n",
       "      <td>4.651163</td>\n",
       "    </tr>\n",
       "    <tr>\n",
       "      <th>1</th>\n",
       "      <td>1</td>\n",
       "      <td>1</td>\n",
       "      <td>WTP_Mutua_EIB</td>\n",
       "      <td>ssp585</td>\n",
       "      <td>MIROC6</td>\n",
       "      <td>19.17808219178082</td>\n",
       "      <td>2020-2060</td>\n",
       "      <td>0</td>\n",
       "      <td>19.178082</td>\n",
       "    </tr>\n",
       "    <tr>\n",
       "      <th>2</th>\n",
       "      <td>2</td>\n",
       "      <td>2</td>\n",
       "      <td>WTP_Mutua_EIB</td>\n",
       "      <td>ssp585</td>\n",
       "      <td>CanESM5</td>\n",
       "      <td>5.797101449275362</td>\n",
       "      <td>2020-2060</td>\n",
       "      <td>0</td>\n",
       "      <td>5.797101</td>\n",
       "    </tr>\n",
       "    <tr>\n",
       "      <th>3</th>\n",
       "      <td>3</td>\n",
       "      <td>3</td>\n",
       "      <td>WTP_Mutua_EIB</td>\n",
       "      <td>ssp585</td>\n",
       "      <td>TaiESM1</td>\n",
       "      <td>8.13953488372093</td>\n",
       "      <td>2020-2060</td>\n",
       "      <td>0</td>\n",
       "      <td>8.139535</td>\n",
       "    </tr>\n",
       "    <tr>\n",
       "      <th>4</th>\n",
       "      <td>4</td>\n",
       "      <td>4</td>\n",
       "      <td>WTP_Mutua_EIB</td>\n",
       "      <td>ssp585</td>\n",
       "      <td>NorESM2-LM</td>\n",
       "      <td>15.492957746478872</td>\n",
       "      <td>2020-2060</td>\n",
       "      <td>0</td>\n",
       "      <td>15.492958</td>\n",
       "    </tr>\n",
       "    <tr>\n",
       "      <th>...</th>\n",
       "      <td>...</td>\n",
       "      <td>...</td>\n",
       "      <td>...</td>\n",
       "      <td>...</td>\n",
       "      <td>...</td>\n",
       "      <td>...</td>\n",
       "      <td>...</td>\n",
       "      <td>...</td>\n",
       "      <td>...</td>\n",
       "    </tr>\n",
       "    <tr>\n",
       "      <th>75</th>\n",
       "      <td>75</td>\n",
       "      <td>75</td>\n",
       "      <td>WTP_Mutua_EIB</td>\n",
       "      <td>ssp245</td>\n",
       "      <td>BCC-CSM2-MR</td>\n",
       "      <td>0</td>\n",
       "      <td>2060-2100</td>\n",
       "      <td>13.095238095238097</td>\n",
       "      <td>13.095238</td>\n",
       "    </tr>\n",
       "    <tr>\n",
       "      <th>76</th>\n",
       "      <td>76</td>\n",
       "      <td>76</td>\n",
       "      <td>WTP_Mutua_EIB</td>\n",
       "      <td>ssp245</td>\n",
       "      <td>ACCESS-ESM1-5</td>\n",
       "      <td>0</td>\n",
       "      <td>2060-2100</td>\n",
       "      <td>39.705882352941174</td>\n",
       "      <td>39.705882</td>\n",
       "    </tr>\n",
       "    <tr>\n",
       "      <th>77</th>\n",
       "      <td>77</td>\n",
       "      <td>77</td>\n",
       "      <td>WTP_Mutua_EIB</td>\n",
       "      <td>ssp245</td>\n",
       "      <td>CMCC-CM2-SR5</td>\n",
       "      <td>0</td>\n",
       "      <td>2060-2100</td>\n",
       "      <td>13.095238095238097</td>\n",
       "      <td>13.095238</td>\n",
       "    </tr>\n",
       "    <tr>\n",
       "      <th>78</th>\n",
       "      <td>78</td>\n",
       "      <td>78</td>\n",
       "      <td>WTP_Mutua_EIB</td>\n",
       "      <td>ssp245</td>\n",
       "      <td>MPI-ESM1-2-LR</td>\n",
       "      <td>0</td>\n",
       "      <td>2060-2100</td>\n",
       "      <td>17.391304347826086</td>\n",
       "      <td>17.391304</td>\n",
       "    </tr>\n",
       "    <tr>\n",
       "      <th>79</th>\n",
       "      <td>79</td>\n",
       "      <td>79</td>\n",
       "      <td>WTP_Mutua_EIB</td>\n",
       "      <td>ssp245</td>\n",
       "      <td>CMCC-ESM2</td>\n",
       "      <td>0</td>\n",
       "      <td>2060-2100</td>\n",
       "      <td>14.444444444444443</td>\n",
       "      <td>14.444444</td>\n",
       "    </tr>\n",
       "  </tbody>\n",
       "</table>\n",
       "<p>80 rows × 9 columns</p>\n",
       "</div>"
      ],
      "text/plain": [
       "    level_0  index   Name project Experiment          Model  \\\n",
       "0         0      0  WTP_Mutua_EIB     ssp585     NorESM2-MM   \n",
       "1         1      1  WTP_Mutua_EIB     ssp585         MIROC6   \n",
       "2         2      2  WTP_Mutua_EIB     ssp585        CanESM5   \n",
       "3         3      3  WTP_Mutua_EIB     ssp585        TaiESM1   \n",
       "4         4      4  WTP_Mutua_EIB     ssp585     NorESM2-LM   \n",
       "..      ...    ...            ...        ...            ...   \n",
       "75       75     75  WTP_Mutua_EIB     ssp245    BCC-CSM2-MR   \n",
       "76       76     76  WTP_Mutua_EIB     ssp245  ACCESS-ESM1-5   \n",
       "77       77     77  WTP_Mutua_EIB     ssp245   CMCC-CM2-SR5   \n",
       "78       78     78  WTP_Mutua_EIB     ssp245  MPI-ESM1-2-LR   \n",
       "79       79     79  WTP_Mutua_EIB     ssp245      CMCC-ESM2   \n",
       "\n",
       "   Relative change for 100 year event between past and period 2020-2060 %  \\\n",
       "0                                   4.651162790697675                       \n",
       "1                                   19.17808219178082                       \n",
       "2                                   5.797101449275362                       \n",
       "3                                    8.13953488372093                       \n",
       "4                                  15.492957746478872                       \n",
       "..                                                ...                       \n",
       "75                                                  0                       \n",
       "76                                                  0                       \n",
       "77                                                  0                       \n",
       "78                                                  0                       \n",
       "79                                                  0                       \n",
       "\n",
       "       Period  \\\n",
       "0   2020-2060   \n",
       "1   2020-2060   \n",
       "2   2020-2060   \n",
       "3   2020-2060   \n",
       "4   2020-2060   \n",
       "..        ...   \n",
       "75  2060-2100   \n",
       "76  2060-2100   \n",
       "77  2060-2100   \n",
       "78  2060-2100   \n",
       "79  2060-2100   \n",
       "\n",
       "   Relative change for 100 year event between past and period 2060-2100 %  \\\n",
       "0                                                   0                       \n",
       "1                                                   0                       \n",
       "2                                                   0                       \n",
       "3                                                   0                       \n",
       "4                                                   0                       \n",
       "..                                                ...                       \n",
       "75                                 13.095238095238097                       \n",
       "76                                 39.705882352941174                       \n",
       "77                                 13.095238095238097                       \n",
       "78                                 17.391304347826086                       \n",
       "79                                 14.444444444444443                       \n",
       "\n",
       "   Relative change between past and future period  \n",
       "0                                        4.651163  \n",
       "1                                       19.178082  \n",
       "2                                        5.797101  \n",
       "3                                        8.139535  \n",
       "4                                       15.492958  \n",
       "..                                            ...  \n",
       "75                                      13.095238  \n",
       "76                                      39.705882  \n",
       "77                                      13.095238  \n",
       "78                                      17.391304  \n",
       "79                                      14.444444  \n",
       "\n",
       "[80 rows x 9 columns]"
      ]
     },
     "execution_count": 100,
     "metadata": {},
     "output_type": "execute_result"
    }
   ],
   "source": [
    "data_boxplot"
   ]
  },
  {
   "cell_type": "code",
   "execution_count": 106,
   "id": "89f1e3bb",
   "metadata": {},
   "outputs": [
    {
     "data": {
      "text/plain": [
       "Text(0.5, 1.0, 'Relative change of value for return period 100 years mm/day\\nbetween historical period 1950-2014 and future periods,\\ndepending on scenario and accross models,\\nat Mutua, MZ, data modeled with NEX-GDDP-CMIP6')"
      ]
     },
     "execution_count": 106,
     "metadata": {},
     "output_type": "execute_result"
    },
    {
     "data": {
      "image/png": "[encoded data removed]",
      "text/plain": [
       "<Figure size 640x480 with 1 Axes>"
      ]
     },
     "metadata": {},
     "output_type": "display_data"
    }
   ],
   "source": [
    "fig,ax=plt.subplots()\n",
    "sns.boxplot(data=data_boxplot[['Name project','Experiment','Model','Relative change between past and future period','Period']],x='Period',y='Relative change between past and future period',hue='Experiment')\n",
    "\n",
    "#ax.set_xticklabels(ax.get_xticklabels(),rotation=90)\n",
    "#handles, labels=ax.get_legend_handles_labels()\n",
    "#fig.legend(handles, labels, loc='upper right', ncol=1, bbox_to_anchor=(1.1, 0.6),title='Legend')\n",
    "#ax.get_legend().remove() # this line permits to have a common legend for the boxplots and the line\n",
    "\n",
    "plt.title('Relative change of value for return period 100 years mm/day\\nbetween historical period 1950-2014 and future periods,\\ndepending on scenario and accross models,\\nat Mutua, MZ, data modeled with NEX-GDDP-CMIP6')"
   ]
  },
  {
   "cell_type": "code",
   "execution_count": null,
   "id": "7cdc7bb5",
   "metadata": {},
   "outputs": [],
   "source": []
  },
  {
   "cell_type": "code",
   "execution_count": null,
   "id": "2d2d3c95",
   "metadata": {},
   "outputs": [],
   "source": []
  },
  {
   "cell_type": "code",
   "execution_count": null,
   "id": "bf85dce7",
   "metadata": {},
   "outputs": [],
   "source": []
  },
  {
   "cell_type": "code",
   "execution_count": null,
   "id": "c1625390",
   "metadata": {},
   "outputs": [],
   "source": [
    "df_years_gorongosa"
   ]
  },
  {
   "cell_type": "code",
   "execution_count": 16,
   "id": "65001d32",
   "metadata": {},
   "outputs": [],
   "source": [
    "def dataframe_threshold_coresponding_to_return_period(df):\n",
    "    df_copy=df.copy(deep=True)\n",
    "    df_copy=df_copy.drop(labels='Date',axis=1)\n",
    "    df_max = df_copy.groupby(['Name project','Experiment','Model','Year']).agg(np.nanmax) # maximum    \n",
    "    midx = pd.MultiIndex.from_product([list(set(df_copy[df_copy.columns[0]])),list(set(df_copy[df_copy.columns[1]])),list(set(df_copy[df_copy.columns[2]]))],names=['Name project','Experiment', 'Model'])\n",
    "    cols = ['Value for return period 50 years mm/day','Value for return period 100 years mm/day']\n",
    "    return_period = pd.DataFrame(data = [], \n",
    "                                index = midx,\n",
    "                                columns = cols)\n",
    "    for name_p in return_period.index.levels[0].tolist():\n",
    "        for ssp in return_period.index.levels[1].tolist():\n",
    "            for model in return_period.index.levels[2].tolist():\n",
    "                print('Name project '+name_p+ ' ssp '+ssp+ ' model '+model)\n",
    "                Z=df_max.loc[(name_p,ssp,model)]['Mean of the daily precipitation rate mm_per_day'].values.reshape(len(df_max.loc[(name_p,ssp,model)]['Mean of the daily precipitation rate mm_per_day']),)\n",
    "                (loc1,scale)=stats.gumbel_r.fit(Z) # return the function necessary to establish the continous function\n",
    "                # choice of gumbel because suits to extreme precipitation\n",
    "                return_period.loc[(name_p,ssp,model),('Value for return period 50 years mm/day')] = threshold_coresponding_to_return_period(loc1,scale,50)\n",
    "                return_period.loc[(name_p,ssp,model),('Value for return period 100 years mm/day')] = threshold_coresponding_to_return_period(loc1,scale,100)\n",
    "                \n",
    "    return return_period"
   ]
  },
  {
   "cell_type": "code",
   "execution_count": null,
   "id": "bd30753f",
   "metadata": {},
   "outputs": [],
   "source": [
    "df_years"
   ]
  },
  {
   "cell_type": "code",
   "execution_count": null,
   "id": "16b74e05",
   "metadata": {},
   "outputs": [],
   "source": [
    "#def dataframe_threshold_coresponding_to_return_period(df):\n",
    "df_years=df_years[df_years['Model']!='IITM-ESM']\n",
    "df_years=df_years[df_years['Model']!='MRI-ESM2-0']\n",
    "df_years=df_years[df_years['Model']!='ACCESS-CM2'] \n",
    "df_years = df_years[df_years['Model']!='MPI-ESM1-2-HR']"
   ]
  },
  {
   "cell_type": "code",
   "execution_count": null,
   "id": "b976e26b",
   "metadata": {},
   "outputs": [],
   "source": [
    "return_period_future=dataframe_threshold_coresponding_to_return_period(df_years[df_years['Experiment']!='historical'])"
   ]
  },
  {
   "cell_type": "code",
   "execution_count": null,
   "id": "34c549fc",
   "metadata": {},
   "outputs": [],
   "source": [
    "return_period_past=dataframe_threshold_coresponding_to_return_period(df_years[df_years['Experiment']=='historical'])"
   ]
  },
  {
   "cell_type": "code",
   "execution_count": null,
   "id": "cbd9f202",
   "metadata": {},
   "outputs": [],
   "source": [
    "return_period_past=return_period_past.reset_index()\n",
    "return_period_past_gorongosa=return_period_past[return_period_past['Name project']=='Gorongosa_EIB']"
   ]
  },
  {
   "cell_type": "code",
   "execution_count": null,
   "id": "1e902073",
   "metadata": {},
   "outputs": [],
   "source": [
    "return_period_past_gorongosa_clean = return_period_past_gorongosa.drop('Name project',axis=1)"
   ]
  },
  {
   "cell_type": "code",
   "execution_count": null,
   "id": "187cbbfe",
   "metadata": {},
   "outputs": [],
   "source": [
    "return_period_future=return_period_future.reset_index()\n",
    "return_period_future=return_period_future[return_period_future['Name project']=='Gorongosa_EIB']\n",
    "return_period_future_clean = return_period_future.drop('Name project',axis=1)"
   ]
  },
  {
   "cell_type": "code",
   "execution_count": null,
   "id": "2eb30e55",
   "metadata": {
    "scrolled": true
   },
   "outputs": [],
   "source": [
    "fig,ax=plt.subplots()\n",
    "sns.pointplot(data=return_period_future_clean[['Experiment','Model','Value for return period 100 years mm/day']],x='Model',y='Value for return period 100 years mm/day',hue='Experiment')\n",
    "\n",
    "sns.pointplot(data=return_period_past_gorongosa_clean[['Experiment','Model','Value for return period 100 years mm/day']],x='Model',y='Value for return period 100 years mm/day',hue='Experiment',color='black')\n",
    "ax.set_xticklabels(ax.get_xticklabels(),rotation=90)\n",
    "handles, labels=ax.get_legend_handles_labels()\n",
    "fig.legend(handles, labels, loc='upper right', ncol=1, bbox_to_anchor=(1.1, 0.6),title='Legend')\n",
    "ax.get_legend().remove() # this line permits to have a common legend for the boxplots and the line\n",
    "\n",
    "plt.title('Value for return period 100 years mm/day, depending on scenario and models,\\n between 1950 to 2014 for historical scenario and between 2015 to 2100\\nfor projections at Gorongosa, MZ, data modeled with NEX-GDDP-CMIP6')"
   ]
  },
  {
   "cell_type": "code",
   "execution_count": null,
   "id": "a3be1c0c",
   "metadata": {},
   "outputs": [],
   "source": [
    "return_period_past_gorongosa_clean"
   ]
  },
  {
   "cell_type": "code",
   "execution_count": null,
   "id": "6c0ae6aa",
   "metadata": {},
   "outputs": [],
   "source": [
    "return_period_future_clean"
   ]
  },
  {
   "cell_type": "code",
   "execution_count": null,
   "id": "63c0e218",
   "metadata": {},
   "outputs": [],
   "source": [
    "df_boxplot = pd.concat([return_period_past_gorongosa_clean,return_period_future_clean])"
   ]
  },
  {
   "cell_type": "code",
   "execution_count": null,
   "id": "66216b17",
   "metadata": {},
   "outputs": [],
   "source": [
    "df_boxplot"
   ]
  },
  {
   "cell_type": "code",
   "execution_count": null,
   "id": "f429763f",
   "metadata": {},
   "outputs": [],
   "source": [
    "fig,ax=plt.subplots()\n",
    "sns.boxplot(data=df_boxplot[['Experiment','Model','Value for return period 100 years mm/day']],x='Experiment',y='Value for return period 100 years mm/day')#,hue='Experiment')\n",
    "\n",
    "#ax.set_xticklabels(ax.get_xticklabels(),rotation=90)\n",
    "#handles, labels=ax.get_legend_handles_labels()\n",
    "#fig.legend(handles, labels, loc='upper right', ncol=1, bbox_to_anchor=(1.1, 0.6),title='Legend')\n",
    "#ax.get_legend().remove() # this line permits to have a common legend for the boxplots and the line\n",
    "\n",
    "plt.title('Value for return period 100 years mm/day, depending on scenario and accross models,\\n between 1950 to 2014 for historical scenario and between 2015 to 2100\\nfor projections at Gorongosa, MZ, data modeled with NEX-GDDP-CMIP6')"
   ]
  },
  {
   "cell_type": "code",
   "execution_count": null,
   "id": "1aa8251f",
   "metadata": {},
   "outputs": [],
   "source": [
    "df_future = df_years[df_years['Experiment']!='historical']\n",
    "df_future_2020_2060 = df_future[df_future['Year'].between(2020,2060)]\n",
    "df_future_2060_2100 = df_future[df_future['Year'].between(2060,2100)]"
   ]
  },
  {
   "cell_type": "code",
   "execution_count": null,
   "id": "c255c6cd",
   "metadata": {},
   "outputs": [],
   "source": [
    "return_period_future_2020_2060=dataframe_threshold_coresponding_to_return_period(df_future_2020_2060)"
   ]
  },
  {
   "cell_type": "code",
   "execution_count": null,
   "id": "9485536e",
   "metadata": {},
   "outputs": [],
   "source": [
    "return_period_future_2060_2100=dataframe_threshold_coresponding_to_return_period(df_future_2060_2100)"
   ]
  },
  {
   "cell_type": "code",
   "execution_count": null,
   "id": "0a772275",
   "metadata": {},
   "outputs": [],
   "source": [
    "return_period_future_2020_2060['Period'] = '2020-2060'"
   ]
  },
  {
   "cell_type": "code",
   "execution_count": null,
   "id": "5fc03b88",
   "metadata": {},
   "outputs": [],
   "source": [
    "return_period_future_2060_2100['Period'] = '2060-2100'"
   ]
  },
  {
   "cell_type": "code",
   "execution_count": null,
   "id": "8d922308",
   "metadata": {},
   "outputs": [],
   "source": [
    "return_period_future_2020_2060"
   ]
  },
  {
   "cell_type": "code",
   "execution_count": null,
   "id": "646bb014",
   "metadata": {},
   "outputs": [],
   "source": [
    "return_period_future_2020_2060 = return_period_future_2020_2060.reset_index()\n",
    "return_period_future_2020_2060_gorongosa = return_period_future_2020_2060[return_period_future_2020_2060['Name project']=='Gorongosa_EIB']"
   ]
  },
  {
   "cell_type": "code",
   "execution_count": null,
   "id": "b519a83e",
   "metadata": {},
   "outputs": [],
   "source": [
    "return_period_future_2020_2060_gorongosa = return_period_future_2020_2060_gorongosa.drop('Name project',axis=1)"
   ]
  },
  {
   "cell_type": "code",
   "execution_count": null,
   "id": "a1ec0fce",
   "metadata": {},
   "outputs": [],
   "source": [
    "return_period_future_2060_2100 = return_period_future_2060_2100.reset_index()\n",
    "return_period_future_2060_2100_gorongosa = return_period_future_2060_2100[return_period_future_2060_2100['Name project']=='Gorongosa_EIB']\n",
    "return_period_future_2060_2100_gorongosa = return_period_future_2060_2100_gorongosa.drop('Name project',axis=1)"
   ]
  },
  {
   "cell_type": "code",
   "execution_count": null,
   "id": "37b145fd",
   "metadata": {},
   "outputs": [],
   "source": []
  },
  {
   "cell_type": "code",
   "execution_count": null,
   "id": "a02a1241",
   "metadata": {},
   "outputs": [],
   "source": [
    "return_period_past_gorongosa_clean['Period'] = '1950-2014'"
   ]
  },
  {
   "cell_type": "code",
   "execution_count": null,
   "id": "f49f0d44",
   "metadata": {},
   "outputs": [],
   "source": []
  },
  {
   "cell_type": "code",
   "execution_count": null,
   "id": "f6712f2e",
   "metadata": {},
   "outputs": [],
   "source": [
    "df_boxplot = pd.concat([return_period_past_gorongosa_clean,return_period_future_2020_2060_gorongosa,return_period_future_2060_2100_gorongosa])"
   ]
  },
  {
   "cell_type": "code",
   "execution_count": null,
   "id": "95e7e13d",
   "metadata": {},
   "outputs": [],
   "source": [
    "df_boxplot"
   ]
  },
  {
   "cell_type": "code",
   "execution_count": null,
   "id": "09413aee",
   "metadata": {
    "scrolled": true
   },
   "outputs": [],
   "source": [
    "fig,ax=plt.subplots()\n",
    "sns.boxplot(data=df_boxplot[['Experiment','Model','Value for return period 100 years mm/day','Period']],x='Period',y='Value for return period 100 years mm/day',hue='Experiment')\n",
    "\n",
    "handles, labels=ax.get_legend_handles_labels()\n",
    "fig.legend(handles, labels, loc='upper right', ncol=1, bbox_to_anchor=(1.15, 0.6),title='Legend')\n",
    "ax.get_legend().remove() # this line permits to have a common legend for the boxplots and the line\n",
    "\n",
    "plt.title('Value for return period 100 years mm/day, depending on period\\n and scenario, presented accross models, at Gorongosa, MZ\\ndata modeled with NEX-GDDP-CMIP6')"
   ]
  },
  {
   "cell_type": "code",
   "execution_count": null,
   "id": "fbebf8b0",
   "metadata": {},
   "outputs": [],
   "source": [
    "df_years_gorongosa"
   ]
  },
  {
   "cell_type": "code",
   "execution_count": null,
   "id": "bfcfee8d",
   "metadata": {},
   "outputs": [],
   "source": [
    "data1=df_years_gorongosa.groupby(['Experiment','Model','Year'])[['Mean of the daily precipitation rate mm_per_day']].agg(np.nanmax).reset_index()"
   ]
  },
  {
   "cell_type": "code",
   "execution_count": null,
   "id": "6e8592b2",
   "metadata": {},
   "outputs": [],
   "source": [
    "data1"
   ]
  },
  {
   "cell_type": "code",
   "execution_count": null,
   "id": "4f11fd0a",
   "metadata": {},
   "outputs": [],
   "source": [
    "sns.lineplot(data=data1,x='Year',y='Mean of the daily precipitation rate mm_per_day',hue='Experiment')"
   ]
  },
  {
   "cell_type": "code",
   "execution_count": null,
   "id": "c25ee578",
   "metadata": {},
   "outputs": [],
   "source": []
  },
  {
   "cell_type": "code",
   "execution_count": null,
   "id": "b49d584b",
   "metadata": {},
   "outputs": [],
   "source": [
    "fig,ax=plt.subplots()\n",
    "sns.pointplot(data=return_period_future_clean[['Experiment','Model','Value for return period 50 years mm/day']],x='Model',y='Value for return period 50 years mm/day',hue='Experiment')\n",
    "\n",
    "sns.pointplot(data=return_period_past_gorongosa_clean[['Experiment','Model','Value for return period 50 years mm/day']],x='Model',y='Value for return period 50 years mm/day',hue='Experiment',color='black')\n",
    "ax.set_xticklabels(ax.get_xticklabels(),rotation=90)\n",
    "handles, labels=ax.get_legend_handles_labels()\n",
    "fig.legend(handles, labels, loc='upper right', ncol=1, bbox_to_anchor=(1.1, 0.6),title='Legend')\n",
    "ax.get_legend().remove() # this line permits to have a common legend for the boxplots and the line\n",
    "\n",
    "plt.title('Value for return period 50 years mm/day, depending on scenario and models,\\n between 1950 to 2014 for historical scenario and between 2015 to 2100\\nfor projections at Gorongosa, MZ, data modeled with NEX-GDDP-CMIP6')"
   ]
  },
  {
   "cell_type": "code",
   "execution_count": null,
   "id": "35f5f8dc",
   "metadata": {},
   "outputs": [],
   "source": [
    "return_period_future_clean"
   ]
  },
  {
   "cell_type": "code",
   "execution_count": null,
   "id": "af8031d7",
   "metadata": {},
   "outputs": [],
   "source": []
  },
  {
   "cell_type": "code",
   "execution_count": 19,
   "id": "0e43c9af",
   "metadata": {},
   "outputs": [],
   "source": [
    "def threshold_coresponding_to_return_period(loc,scale,T):\n",
    "    p_non_exceedance = 1 - (1/T)\n",
    "    try:\n",
    "        threshold_coresponding = round(gumbel_r.ppf(p_non_exceedance,loc,scale))\n",
    "    except OverflowError: # the result is not finite\n",
    "        if math.isinf(gumbel_r.ppf(p_non_exceedance,loc,scale)) and gumbel_r.ppf(p_non_exceedance,loc,scale)<0:\n",
    "            # ppf is the inverse of cdf\n",
    "            # the result is -inf\n",
    "            threshold_coresponding = 0 # the value of wero is imposed\n",
    "    return threshold_coresponding\n",
    "    # ppf: Percent point function\n",
    "    #print('Threshold '+str(threshold_coresponding)+' mm/day will be exceeded at least once in '+str(n)+' year, with a probability of '+str(round(p_exceedance*100))+ ' %')\n",
    "    #print('This threshold corresponds to a return period of '+str(round(return_period))+ ' year event over a '+str(n)+' year period')"
   ]
  },
  {
   "cell_type": "code",
   "execution_count": null,
   "id": "81069e78",
   "metadata": {},
   "outputs": [],
   "source": []
  },
  {
   "cell_type": "code",
   "execution_count": null,
   "id": "1401f6ed",
   "metadata": {},
   "outputs": [],
   "source": [
    "def dataframe_threshold_coresponding_to_return_period_year(df):\n",
    "    df_copy=df.copy(deep=True)\n",
    "    #df_copy=df_copy.drop(labels='Date',axis=1)\n",
    "    #df_max = df_copy.groupby(['Name project','Experiment','Model','Year']).max() # maximum    \n",
    "    midx = pd.MultiIndex.from_product([list(set(df_copy[df_copy.columns[0]])),list(set(df_copy[df_copy.columns[1]])),list(set(df_copy[df_copy.columns[2]])),list(set(df_copy[df_copy.columns[5]]))],names=['Name project','Experiment', 'Model','Year'])\n",
    "    cols = ['Value for return period 50 years mm/day','Value for return period 100 years mm/day']\n",
    "    return_period = pd.DataFrame(data = [], \n",
    "                                index = midx,\n",
    "                                columns = cols)\n",
    "    for name_p in return_period.index.levels[0].tolist():\n",
    "        for ssp in return_period.index.levels[1].tolist():\n",
    "            for model in return_period.index.levels[2].tolist():\n",
    "                for year in return_period.index.levels[3].tolist():\n",
    "                    print('Name project '+name_p+ ' ssp '+ssp+ ' model '+model+' year '+str(year))\n",
    "                    df_copy2=df_copy[df_copy['Name project']==name_p]\n",
    "                    df_copy2 = df_copy2[df_copy2['Experiment']==ssp]\n",
    "                    df_copy2=df_copy2[df_copy2['Model']==model]\n",
    "                    df_copy2= df_copy2[df_copy2['Year']==year]\n",
    "                    Z=df_copy2['Mean of the daily precipitation rate mm_per_day'].values.reshape(len(df_copy2['Mean of the daily precipitation rate mm_per_day']),)\n",
    "                    (loc1,scale)=stats.gumbel_r.fit(Z) # return the function necessary to establish the continous function\n",
    "                    # choice of gumbel because suits to extreme precipitation\n",
    "                    return_period.loc[(name_p,ssp,model,year),('Value for return period 50 years mm/day')] = threshold_coresponding_to_return_period(loc1,scale,50)\n",
    "                    return_period.loc[(name_p,ssp,model,year),('Value for return period 100 years mm/day')] = threshold_coresponding_to_return_period(loc1,scale,100)\n",
    "\n",
    "    return return_period"
   ]
  },
  {
   "cell_type": "code",
   "execution_count": null,
   "id": "818c9e75",
   "metadata": {},
   "outputs": [],
   "source": [
    "df_copy=df_years.copy(deep=True)\n",
    "df_copy=df_copy.drop(labels='Date',axis=1)\n",
    "df_max = df_copy.groupby(['Name project','Experiment','Model','Year'])#.max() # maximum   "
   ]
  },
  {
   "cell_type": "code",
   "execution_count": null,
   "id": "d6ffa0a9",
   "metadata": {},
   "outputs": [],
   "source": [
    "df_years[df_years['Experiment']=='historical' & df_years['Model']=='ACCESS-ESM1-5' ]"
   ]
  },
  {
   "cell_type": "code",
   "execution_count": null,
   "id": "0e73cb79",
   "metadata": {},
   "outputs": [],
   "source": [
    "df_year_past=dataframe_threshold_coresponding_to_return_period_year(df_years[df_years['Experiment']=='historical'])\n",
    "df_year_past"
   ]
  },
  {
   "cell_type": "code",
   "execution_count": null,
   "id": "b9eedfe3",
   "metadata": {},
   "outputs": [],
   "source": [
    "df_years2=df_years[df_years['Model']!='BCC-CSM2-MR']\n",
    "df_years2=df_years2[df_years2['Model']!='CMCC-CM2-SR5']\n",
    "df_years2=df_years2[df_years2['Model']!='CMCC-ESM2']\n",
    "df_years2=df_years2[df_years2['Model']!='CanESM5']"
   ]
  },
  {
   "cell_type": "code",
   "execution_count": null,
   "id": "34708a6a",
   "metadata": {},
   "outputs": [],
   "source": [
    "df_years2=df_years[df_years['Year'].between(2020,2080)]"
   ]
  },
  {
   "cell_type": "code",
   "execution_count": null,
   "id": "f0fcd8a2",
   "metadata": {},
   "outputs": [],
   "source": [
    "df_years2_past=df_years2[df_years2['Experiment']!='historical']\n",
    "df_years2_past = df_years2_past[df_years2_past['Name project']=='Gorongosa_EIB']"
   ]
  },
  {
   "cell_type": "code",
   "execution_count": null,
   "id": "aadb613b",
   "metadata": {},
   "outputs": [],
   "source": [
    "df_year_future=dataframe_threshold_coresponding_to_return_period_year(df_years2_past)\n",
    "df_year_future"
   ]
  },
  {
   "cell_type": "code",
   "execution_count": null,
   "id": "6067652b",
   "metadata": {},
   "outputs": [],
   "source": [
    "fig,ax=plt.subplots()\n",
    "sns.pointplot(data=return_period_future_clean[['Experiment','Model','Value for return period 50 years mm/day']],x='Model',y='Value for return period 50 years mm/day',hue='Experiment')\n",
    "\n",
    "sns.pointplot(data=return_period_past_gorongosa_clean[['Experiment','Model','Value for return period 50 years mm/day']],x='Model',y='Value for return period 50 years mm/day',hue='Experiment',color='black')\n",
    "ax.set_xticklabels(ax.get_xticklabels(),rotation=90)\n",
    "handles, labels=ax.get_legend_handles_labels()\n",
    "fig.legend(handles, labels, loc='upper right', ncol=1, bbox_to_anchor=(1.1, 0.6),title='Legend')\n",
    "ax.get_legend().remove() # this line permits to have a common legend for the boxplots and the line\n",
    "\n",
    "plt.title('Value for return period 50 years mm/day, depending on scenario and models,\\n between 1950 to 2014 for historical scenario and between 2015 to 2100\\nfor projections at Gorongosa, MZ, data modeled with NEX-GDDP-CMIP6')"
   ]
  },
  {
   "cell_type": "code",
   "execution_count": null,
   "id": "db6d02ba",
   "metadata": {},
   "outputs": [],
   "source": []
  },
  {
   "cell_type": "code",
   "execution_count": null,
   "id": "0076f913",
   "metadata": {},
   "outputs": [],
   "source": [
    "df_years[df_years['Experiment']=='historical']"
   ]
  },
  {
   "cell_type": "code",
   "execution_count": null,
   "id": "971e0c68",
   "metadata": {},
   "outputs": [],
   "source": []
  },
  {
   "cell_type": "code",
   "execution_count": null,
   "id": "0e6be4fd",
   "metadata": {},
   "outputs": [],
   "source": []
  },
  {
   "cell_type": "code",
   "execution_count": null,
   "id": "e9974bed",
   "metadata": {},
   "outputs": [],
   "source": []
  },
  {
   "cell_type": "code",
   "execution_count": null,
   "id": "4af48bc0",
   "metadata": {},
   "outputs": [],
   "source": []
  },
  {
   "cell_type": "code",
   "execution_count": null,
   "id": "80c49d25",
   "metadata": {},
   "outputs": [],
   "source": []
  },
  {
   "cell_type": "code",
   "execution_count": null,
   "id": "b144eb68",
   "metadata": {},
   "outputs": [],
   "source": [
    "# past"
   ]
  },
  {
   "cell_type": "code",
   "execution_count": null,
   "id": "090fb8cd",
   "metadata": {},
   "outputs": [],
   "source": [
    "return_period_past=dataframe_threshold_coresponding_to_return_period(df_past)\n",
    "return_period_past"
   ]
  },
  {
   "cell_type": "code",
   "execution_count": null,
   "id": "92ce0101",
   "metadata": {},
   "outputs": [],
   "source": [
    "df_years[df_years['Experiment']=='historical'].groupby('Year').max().reset_index()"
   ]
  },
  {
   "cell_type": "code",
   "execution_count": null,
   "id": "c22b5bf8",
   "metadata": {},
   "outputs": [],
   "source": [
    "return_period1=dataframe_threshold_coresponding_to_return_period(return_period_past=dataframe_threshold_coresponding_to_return_period(df_years[df_years['Experiment']=='historical']))\n",
    "return_period1"
   ]
  },
  {
   "cell_type": "code",
   "execution_count": null,
   "id": "43f3c0bc",
   "metadata": {},
   "outputs": [],
   "source": [
    "df_years"
   ]
  },
  {
   "cell_type": "code",
   "execution_count": null,
   "id": "0b058504",
   "metadata": {},
   "outputs": [],
   "source": [
    "# give each time different Z values\n",
    "\n",
    "\n",
    "# ca va etre bizarre dans avec distribution, parce qu'avant juste valeur de 100, donc oui changement, meme valeur pour median, p10 et p90 pour valeur actuel\n",
    "df_copy=df_years.copy(deep=True)\n",
    "df_copy=df_copy.drop(labels='Date',axis=1)\n",
    "df_copy=df_copy.drop(['Month','Season'],axis=1)\n",
    "df_max_future = df_copy.groupby(['Name project','Experiment','Model','Year'])[['Mean of the daily precipitation rate mm_per_day']].max() # maximum\n",
    "\n",
    "midx = pd.MultiIndex.from_product([list(set(df_copy[df_copy.columns[0]])),list(set(df_copy[df_copy.columns[1]])),list(set(df_copy[df_copy.columns[2]]))],names=['Name project','Experiment', 'Model'])\n",
    "cols = ['Return period years of current 100 year return period']\n",
    "return_period_future = pd.DataFrame(data = [], \n",
    "                            index = midx,\n",
    "                            columns = cols)\n",
    "for name_p in return_period_future.index.levels[0].tolist():\n",
    "    for ssp in return_period_future.index.levels[1].tolist():\n",
    "        for model in return_period_future.index.levels[2].tolist():\n",
    "            Z=df_max_future.loc[(name_p,ssp,model)].values.reshape(len(df_max_future.index.levels[3]),)\n",
    "            (loc1,scale1)=stats.gumbel_r.fit(Z) # return the function necessary to establish the continous function\n",
    "            #return_period_coresponding = 1/(1-gumbel_r.cdf(return_period_past.loc[(name_p,ssp,model),('Value for return period 100 years mm/day')],loc1,scale))\n",
    "            return_period_future.loc[(name_p,ssp,model),('Return period years of current 100 year return period')] = 1/(1-stats.gumbel_r.cdf(return_period_past.loc[(name_p,ssp,model),('Value for return period 100 years mm/day')],loc1,scale1)**(stop_year_future-start_year_future+1))\n",
    "            \n",
    "            #return_period_future.loc[(name_p,ssp,model),('Return period years of current 100 year return period')] = 1/(1-stats.gumbel_r.cdf(return_period_past.loc[(name_p,ssp,model),('Value for return period 100 years mm/day')],loc1,scale1))\n",
    "            #p_non_exceedance = stats.gumbel_r.cdf(return_period_past.loc[(name_p,ssp,model),('Value for return period 100 years mm/day')],loc1,scale1)\n",
    "            #return_period_future.loc[(name_p,ssp,model),('Return period years of current 100 year return period')] = stats.gumbel_r.ppf(p_non_exceedance,loc=loc1,scale=scale1)\n",
    "            print('former value corresponding to 100 years return period '+str(return_period_past.loc[(name_p,ssp,model),('Value for return period 100 years mm/day')]))\n",
    "            print('p non exceedance '+str(stats.gumbel_r.cdf(return_period_past.loc[(name_p,ssp,model),('Value for return period 100 years mm/day')],loc1,scale1)))\n",
    "            print('n = '+str(stop_year_future-start_year_future+1))\n",
    "            print('New return period '+str(return_period_future.loc[(name_p,ssp,model),('Return period years of current 100 year return period')]))"
   ]
  },
  {
   "cell_type": "code",
   "execution_count": null,
   "id": "8e98c705",
   "metadata": {},
   "outputs": [],
   "source": [
    "df_max_future.index.levels[3]"
   ]
  },
  {
   "cell_type": "code",
   "execution_count": null,
   "id": "9c8e0acb",
   "metadata": {},
   "outputs": [],
   "source": [
    "df_max_future.loc[(name_p,ssp,model)]"
   ]
  },
  {
   "cell_type": "code",
   "execution_count": null,
   "id": "d3e9b4c6",
   "metadata": {},
   "outputs": [],
   "source": [
    "return_period_future_distribution = return_period_future.astype(int).groupby(['Name project']).describe(percentiles=[.1, .5, .9])\n",
    "return_period_future_distribution"
   ]
  },
  {
   "cell_type": "code",
   "execution_count": null,
   "id": "9768dcd0",
   "metadata": {},
   "outputs": [],
   "source": [
    "return_period_past_100 = return_period_future.copy(deep=True)\n",
    "return_period_past_100['Return period years of current 100 year return period']=100\n",
    "return_period_past_100=return_period_past_100.rename(columns={return_period_past_100.columns[0]:'Current return period of interest years'})\n",
    "return_period_past_100"
   ]
  },
  {
   "cell_type": "code",
   "execution_count": null,
   "id": "21621b03",
   "metadata": {},
   "outputs": [],
   "source": [
    "return_period_past_100_distribution = return_period_past_100.astype(int).groupby(['Name project']).describe(percentiles=[.1, .5, .9])\n",
    "return_period_past_100_distribution"
   ]
  },
  {
   "cell_type": "code",
   "execution_count": null,
   "id": "b5b1f74a",
   "metadata": {},
   "outputs": [],
   "source": [
    "# Comparaison between past and future period\n",
    "changes_past_future_indicator1 = changes_in_indicators(return_period_past_100_distribution,return_period_future_distribution,'Future return period of one day with a current return period of 100 years','[years]','Extreme rainfall change')\n",
    "changes_past_future_indicator=pd.merge(changes_past_future_indicator, changes_past_future_indicator1, left_index=True, right_index=True, how='outer')\n",
    "changes_past_future_indicator"
   ]
  },
  {
   "cell_type": "markdown",
   "id": "458670b9",
   "metadata": {},
   "source": [
    "## N-day event"
   ]
  },
  {
   "cell_type": "markdown",
   "id": "dd283fe5",
   "metadata": {},
   "source": [
    "### 1-day event"
   ]
  },
  {
   "cell_type": "code",
   "execution_count": null,
   "id": "896fd69b",
   "metadata": {},
   "outputs": [],
   "source": [
    "from Functions_Indicators_precipitation import dataframe_1_day_event"
   ]
  },
  {
   "cell_type": "code",
   "execution_count": null,
   "id": "5ae2726e",
   "metadata": {},
   "outputs": [],
   "source": [
    "# past\n",
    "df_1_day_event_past = dataframe_1_day_event(df_past)\n",
    "df_1_day_event_past"
   ]
  },
  {
   "cell_type": "code",
   "execution_count": null,
   "id": "64b93b97",
   "metadata": {},
   "outputs": [],
   "source": [
    "# past\n",
    "df_1_day_event_future = dataframe_1_day_event(df_future)\n",
    "df_1_day_event_future"
   ]
  },
  {
   "cell_type": "code",
   "execution_count": null,
   "id": "40638aa7",
   "metadata": {},
   "outputs": [],
   "source": [
    "df_1_day_event_past_distribution = df_1_day_event_past.astype(int).groupby(['Name project']).describe(percentiles=[.1, .5, .9]) # astype(int) necessary to have stats min, max and percentiles\n",
    "df_1_day_event_future_distribution = df_1_day_event_future.astype(int).groupby(['Name project']).describe(percentiles=[.1, .5, .9]) # astype(int) necessary to have stats min, max and percentiles"
   ]
  },
  {
   "cell_type": "code",
   "execution_count": null,
   "id": "bbff6625",
   "metadata": {
    "scrolled": true
   },
   "outputs": [],
   "source": [
    "# Comparaison between past and future period\n",
    "changes_past_future_indicator1 = changes_in_indicators(df_1_day_event_past_distribution,df_1_day_event_future_distribution,'Maximum one day rainfall','mm','Extreme rainfall change')\n",
    "changes_past_future_indicator=pd.merge(changes_past_future_indicator, changes_past_future_indicator1, left_index=True, right_index=True, how='outer')\n",
    "changes_past_future_indicator"
   ]
  },
  {
   "cell_type": "markdown",
   "id": "fcc126c6",
   "metadata": {},
   "source": [
    "### 5-day event"
   ]
  },
  {
   "cell_type": "code",
   "execution_count": null,
   "id": "b5e64524",
   "metadata": {},
   "outputs": [],
   "source": [
    "from Functions_Indicators_precipitation import dataframe_n_day_event\n",
    "from Functions_Indicators_precipitation import df_to_csv"
   ]
  },
  {
   "cell_type": "code",
   "execution_count": null,
   "id": "63efad40",
   "metadata": {},
   "outputs": [],
   "source": [
    "# file of 5 day event\n",
    "title_file = 'pr_5_day_event_'+str(start_year_past)+'-'+str(stop_year_future)+'.csv'\n",
    "path_for_csv = os.path.join(out_path,'csv_file','pr_5_day_event')\n",
    "path_to_csv_5_day_event = os.path.join(path_for_csv,title_file)\n",
    "if not os.path.isfile(path_to_csv_5_day_event):\n",
    "    print('The file has not been computed')\n",
    "    df_5_day_event=dataframe_n_day_event(precipitation_2021_2060_copy,5)\n",
    "    # first parameter is a dataframe, second is the number of days\n",
    "    path_to_csv_5_day_event = df_to_csv(path_for_csv,title_file)\n",
    "else:\n",
    "    print('The file has already been computed')\n",
    "    df_5_day_event = pd.read_csv(path_to_csv_5_day_event,header=[0],index_col=[0,1,2,3])\n",
    "df_5_day_event"
   ]
  },
  {
   "cell_type": "code",
   "execution_count": null,
   "id": "f57e73d3",
   "metadata": {},
   "outputs": [],
   "source": [
    "df_5_day_event = df_5_day_event.reset_index()\n",
    "\n",
    "Year = df_5_day_event[['Date']].values.reshape(len(df_5_day_event[['Date']].values),)\n",
    "for i in np.arange(0,len(df_5_day_event[['Date']].values)):\n",
    "    Year[i]=int(Year[i][6:10])\n",
    "\n",
    "df_5_day_event['Year'] = Year\n",
    "df_5_day_event"
   ]
  },
  {
   "cell_type": "code",
   "execution_count": null,
   "id": "3738344e",
   "metadata": {},
   "outputs": [],
   "source": [
    "df_5_day_event = df_5_day_event.groupby(['Name project', 'Experiment','Model','Year']).max().drop(labels='Date',axis=1)\n",
    "df_5_day_event"
   ]
  },
  {
   "cell_type": "code",
   "execution_count": null,
   "id": "41f9d6dc",
   "metadata": {},
   "outputs": [],
   "source": [
    "df_5_day_event_bis = df_5_day_event.reset_index()\n",
    "df_5_day_event_past=df_5_day_event_bis.loc[df_5_day_event_bis['Year'].between(start_year_past,stop_year_past)]\n",
    "df_5_day_event_future=df_5_day_event_bis.loc[df_5_day_event_bis['Year'].between(start_year_future,stop_year_future)]"
   ]
  },
  {
   "cell_type": "code",
   "execution_count": null,
   "id": "b66a8647",
   "metadata": {},
   "outputs": [],
   "source": [
    "df_5_day_event_bis"
   ]
  },
  {
   "cell_type": "code",
   "execution_count": null,
   "id": "d3c44795",
   "metadata": {},
   "outputs": [],
   "source": [
    "df_5_day_event_past"
   ]
  },
  {
   "cell_type": "code",
   "execution_count": null,
   "id": "16172fe9",
   "metadata": {},
   "outputs": [],
   "source": [
    "df_5_day_event_future"
   ]
  },
  {
   "cell_type": "code",
   "execution_count": null,
   "id": "9490a458",
   "metadata": {},
   "outputs": [],
   "source": [
    "NaN_values= df_5_day_event_past.loc[df_5_day_event_past['Maximum 5 days rainfall mm'].isnull()]\n",
    "model_to_delete=list(set(NaN_values['Model'].values))"
   ]
  },
  {
   "cell_type": "code",
   "execution_count": null,
   "id": "28400c6c",
   "metadata": {},
   "outputs": [],
   "source": [
    "df_5_day_event_past.Model"
   ]
  },
  {
   "cell_type": "code",
   "execution_count": null,
   "id": "5777c3e3",
   "metadata": {},
   "outputs": [],
   "source": [
    "# delete Nan Model\n",
    "df_5_day_event_past = df_5_day_event_past[df_5_day_event_past.Model.isin(model_to_delete) == False]\n",
    "df_5_day_event_past"
   ]
  },
  {
   "cell_type": "code",
   "execution_count": null,
   "id": "b5228404",
   "metadata": {},
   "outputs": [],
   "source": [
    "df_5_day_event_past = df_5_day_event_past.groupby(['Name project', 'Experiment','Model','Year']).max()#.drop(labels=['level_0','index'],axis=1)\n",
    "df_5_day_event_future = df_5_day_event_future.groupby(['Name project', 'Experiment','Model','Year']).max()#.drop(labels=['level_0','index'],axis=1)"
   ]
  },
  {
   "cell_type": "code",
   "execution_count": null,
   "id": "f0a8fcea",
   "metadata": {},
   "outputs": [],
   "source": [
    "df_5_day_event_future"
   ]
  },
  {
   "cell_type": "code",
   "execution_count": null,
   "id": "2e578f2a",
   "metadata": {},
   "outputs": [],
   "source": [
    "df_5_day_event_past_distribution = df_5_day_event_past.astype(int).groupby(['Name project']).describe(percentiles=[.1, .5, .9]) # astype(int) necessary to have stats min, max and percentiles\n",
    "df_5_day_event_future_distribution = df_5_day_event_future.astype(int).groupby(['Name project']).describe(percentiles=[.1, .5, .9]) # astype(int) necessary to have stats min, max and percentiles\n",
    "df_5_day_event_future_distribution"
   ]
  },
  {
   "cell_type": "code",
   "execution_count": null,
   "id": "f1df8981",
   "metadata": {},
   "outputs": [],
   "source": [
    "# Comparaison between past and future period\n",
    "changes_past_future_indicator1 = changes_in_indicators(df_5_day_event_past_distribution,df_5_day_event_future_distribution,'Maximum 5 days rainfall','mm','Extreme rainfall change')\n",
    "changes_past_future_indicator=pd.merge(changes_past_future_indicator, changes_past_future_indicator1, left_index=True, right_index=True, how='outer')\n",
    "changes_past_future_indicator"
   ]
  },
  {
   "cell_type": "code",
   "execution_count": null,
   "id": "6ea903d1",
   "metadata": {},
   "outputs": [],
   "source": [
    "changes_past_future_indicator['Extreme rainfall change']"
   ]
  },
  {
   "cell_type": "markdown",
   "id": "a75b07e3",
   "metadata": {},
   "source": [
    "# Exposure level"
   ]
  },
  {
   "cell_type": "code",
   "execution_count": null,
   "id": "aa3a7309",
   "metadata": {},
   "outputs": [],
   "source": [
    "from Functions_Indicators_precipitation import level_exposure\n",
    "# Are project vulnerable ? Exposure level\n",
    "#from Functions_Indicators_precipitation import level_exposure\n",
    "Exposure=level_exposure(changes_past_future_indicator)\n",
    "Exposure"
   ]
  },
  {
   "cell_type": "code",
   "execution_count": null,
   "id": "e25f3b13",
   "metadata": {},
   "outputs": [],
   "source": []
  },
  {
   "cell_type": "code",
   "execution_count": null,
   "id": "efe58c7c",
   "metadata": {},
   "outputs": [],
   "source": []
  },
  {
   "cell_type": "code",
   "execution_count": null,
   "id": "ea691908",
   "metadata": {},
   "outputs": [],
   "source": []
  },
  {
   "cell_type": "code",
   "execution_count": null,
   "id": "9c5885d0",
   "metadata": {},
   "outputs": [],
   "source": []
  },
  {
   "cell_type": "code",
   "execution_count": null,
   "id": "e87d7c0e",
   "metadata": {},
   "outputs": [],
   "source": []
  },
  {
   "cell_type": "code",
   "execution_count": null,
   "id": "d4fe3811",
   "metadata": {},
   "outputs": [],
   "source": []
  },
  {
   "cell_type": "code",
   "execution_count": null,
   "id": "5497b386",
   "metadata": {},
   "outputs": [],
   "source": []
  },
  {
   "cell_type": "code",
   "execution_count": null,
   "id": "447ba9de",
   "metadata": {},
   "outputs": [],
   "source": []
  },
  {
   "cell_type": "code",
   "execution_count": null,
   "id": "aedef50a",
   "metadata": {},
   "outputs": [],
   "source": []
  },
  {
   "cell_type": "code",
   "execution_count": null,
   "id": "6aa2f359",
   "metadata": {},
   "outputs": [],
   "source": []
  },
  {
   "cell_type": "code",
   "execution_count": null,
   "id": "ccc14d72",
   "metadata": {},
   "outputs": [],
   "source": []
  },
  {
   "cell_type": "code",
   "execution_count": null,
   "id": "90a6d35e",
   "metadata": {},
   "outputs": [],
   "source": []
  },
  {
   "cell_type": "code",
   "execution_count": null,
   "id": "a511165d",
   "metadata": {},
   "outputs": [],
   "source": []
  },
  {
   "cell_type": "code",
   "execution_count": null,
   "id": "140fcbf5",
   "metadata": {},
   "outputs": [],
   "source": []
  }
 ],
 "metadata": {
  "kernelspec": {
   "display_name": "Python 3 (ipykernel)",
   "language": "python",
   "name": "python3"
  },
  "language_info": {
   "codemirror_mode": {
    "name": "ipython",
    "version": 3
   },
   "file_extension": ".py",
   "mimetype": "text/x-python",
   "name": "python",
   "nbconvert_exporter": "python",
   "pygments_lexer": "ipython3",
   "version": "3.10.6"
  }
 },
 "nbformat": 4,
 "nbformat_minor": 5
}
