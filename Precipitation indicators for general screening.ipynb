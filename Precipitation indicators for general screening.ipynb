{
 "cells": [
  {
   "cell_type": "markdown",
   "id": "24370235",
   "metadata": {},
   "source": [
    "# User input"
   ]
  },
  {
   "cell_type": "code",
   "execution_count": 1,
   "id": "82ac0f29",
   "metadata": {},
   "outputs": [],
   "source": [
    "start_year_past = 2021\n",
    "stop_year_past = 2040\n",
    "start_year_future = 2041\n",
    "stop_year_future = 2060"
   ]
  },
  {
   "cell_type": "markdown",
   "id": "faf21865",
   "metadata": {},
   "source": [
    "# Import package"
   ]
  },
  {
   "cell_type": "code",
   "execution_count": 2,
   "id": "accf3a22",
   "metadata": {},
   "outputs": [],
   "source": [
    "from scipy import stats\n",
    "import pandas as pd\n",
    "from matplotlib import pyplot as plt\n",
    "import numpy as np\n",
    "from scipy.stats import gumbel_r\n",
    "from scipy.stats import gumbel_l\n",
    "import os\n",
    "import os.path\n",
    "import math\n",
    "\n",
    "from Functions_Indicators_precipitation import changes_in_indicators"
   ]
  },
  {
   "cell_type": "markdown",
   "id": "a0138c42",
   "metadata": {},
   "source": [
    "# Import data"
   ]
  },
  {
   "cell_type": "code",
   "execution_count": 3,
   "id": "dad90c37",
   "metadata": {},
   "outputs": [],
   "source": [
    "out_path = r'\\\\COWI.net\\projects\\A245000\\A248363\\CRVA\\Datasets\\NEX-GDDP-CMIP6'\n",
    "csv_path = os.path.join(out_path,'csv_file','pr_day_2021-2060','All_projects_moz_precipitation_2021-2060_without_month_year.csv')\n",
    "precipitation_2021_2060 = pd.read_csv(csv_path,header=[0,1],index_col=[0,1,2,3,4])*86400 # units mm/day :  1 kg/m2/s = 86400 mm/day\n",
    "# source: https://www.researchgate.net/post/How-do-I-convert-ERA-Interim-precipitation-estimates-from-kg-m2-s-to-mm-day\n",
    "list_time_2021_2060=pd.date_range('01-01-2021','31-12-2060', freq='D').strftime('%d-%m-%Y').values.tolist()"
   ]
  },
  {
   "cell_type": "code",
   "execution_count": 4,
   "id": "75813e96",
   "metadata": {},
   "outputs": [],
   "source": [
    "precipitation_2021_2060_copy = precipitation_2021_2060.copy(deep=True) # make a coåy that can be modified without changin the original"
   ]
  },
  {
   "cell_type": "code",
   "execution_count": 5,
   "id": "80be5dc5",
   "metadata": {},
   "outputs": [
    {
     "data": {
      "text/html": [
       "<div>\n",
       "<style scoped>\n",
       "    .dataframe tbody tr th:only-of-type {\n",
       "        vertical-align: middle;\n",
       "    }\n",
       "\n",
       "    .dataframe tbody tr th {\n",
       "        vertical-align: top;\n",
       "    }\n",
       "\n",
       "    .dataframe thead tr th {\n",
       "        text-align: left;\n",
       "    }\n",
       "\n",
       "    .dataframe thead tr:last-of-type th {\n",
       "        text-align: right;\n",
       "    }\n",
       "</style>\n",
       "<table border=\"1\" class=\"dataframe\">\n",
       "  <thead>\n",
       "    <tr>\n",
       "      <th></th>\n",
       "      <th></th>\n",
       "      <th></th>\n",
       "      <th></th>\n",
       "      <th></th>\n",
       "      <th colspan=\"4\" halign=\"left\">Longitude</th>\n",
       "    </tr>\n",
       "    <tr>\n",
       "      <th></th>\n",
       "      <th></th>\n",
       "      <th></th>\n",
       "      <th></th>\n",
       "      <th></th>\n",
       "      <th>33.625</th>\n",
       "      <th>39.875</th>\n",
       "      <th>36.875</th>\n",
       "      <th>40.375</th>\n",
       "    </tr>\n",
       "    <tr>\n",
       "      <th>Name project</th>\n",
       "      <th>Experiment</th>\n",
       "      <th>Model</th>\n",
       "      <th>Date</th>\n",
       "      <th>Latitude</th>\n",
       "      <th></th>\n",
       "      <th></th>\n",
       "      <th></th>\n",
       "      <th></th>\n",
       "    </tr>\n",
       "  </thead>\n",
       "  <tbody>\n",
       "    <tr>\n",
       "      <th rowspan=\"5\" valign=\"top\">PT_Revubue_2_Rev_2_01</th>\n",
       "      <th rowspan=\"5\" valign=\"top\">ssp245</th>\n",
       "      <th rowspan=\"5\" valign=\"top\">ACCESS-CM2</th>\n",
       "      <th>01-01-2021</th>\n",
       "      <th>-16.125</th>\n",
       "      <td>5.057179</td>\n",
       "      <td>NaN</td>\n",
       "      <td>NaN</td>\n",
       "      <td>NaN</td>\n",
       "    </tr>\n",
       "    <tr>\n",
       "      <th>02-01-2021</th>\n",
       "      <th>-16.125</th>\n",
       "      <td>17.624178</td>\n",
       "      <td>NaN</td>\n",
       "      <td>NaN</td>\n",
       "      <td>NaN</td>\n",
       "    </tr>\n",
       "    <tr>\n",
       "      <th>03-01-2021</th>\n",
       "      <th>-16.125</th>\n",
       "      <td>7.632648</td>\n",
       "      <td>NaN</td>\n",
       "      <td>NaN</td>\n",
       "      <td>NaN</td>\n",
       "    </tr>\n",
       "    <tr>\n",
       "      <th>04-01-2021</th>\n",
       "      <th>-16.125</th>\n",
       "      <td>4.736492</td>\n",
       "      <td>NaN</td>\n",
       "      <td>NaN</td>\n",
       "      <td>NaN</td>\n",
       "    </tr>\n",
       "    <tr>\n",
       "      <th>05-01-2021</th>\n",
       "      <th>-16.125</th>\n",
       "      <td>4.981353</td>\n",
       "      <td>NaN</td>\n",
       "      <td>NaN</td>\n",
       "      <td>NaN</td>\n",
       "    </tr>\n",
       "    <tr>\n",
       "      <th>...</th>\n",
       "      <th>...</th>\n",
       "      <th>...</th>\n",
       "      <th>...</th>\n",
       "      <th>...</th>\n",
       "      <td>...</td>\n",
       "      <td>...</td>\n",
       "      <td>...</td>\n",
       "      <td>...</td>\n",
       "    </tr>\n",
       "    <tr>\n",
       "      <th rowspan=\"5\" valign=\"top\">PT__Dumping_Site</th>\n",
       "      <th rowspan=\"5\" valign=\"top\">ssp370</th>\n",
       "      <th rowspan=\"5\" valign=\"top\">TaiESM1</th>\n",
       "      <th>27-12-2060</th>\n",
       "      <th>-13.125</th>\n",
       "      <td>NaN</td>\n",
       "      <td>NaN</td>\n",
       "      <td>NaN</td>\n",
       "      <td>0.000000</td>\n",
       "    </tr>\n",
       "    <tr>\n",
       "      <th>28-12-2060</th>\n",
       "      <th>-13.125</th>\n",
       "      <td>NaN</td>\n",
       "      <td>NaN</td>\n",
       "      <td>NaN</td>\n",
       "      <td>0.435942</td>\n",
       "    </tr>\n",
       "    <tr>\n",
       "      <th>29-12-2060</th>\n",
       "      <th>-13.125</th>\n",
       "      <td>NaN</td>\n",
       "      <td>NaN</td>\n",
       "      <td>NaN</td>\n",
       "      <td>6.300328</td>\n",
       "    </tr>\n",
       "    <tr>\n",
       "      <th>30-12-2060</th>\n",
       "      <th>-13.125</th>\n",
       "      <td>NaN</td>\n",
       "      <td>NaN</td>\n",
       "      <td>NaN</td>\n",
       "      <td>8.168522</td>\n",
       "    </tr>\n",
       "    <tr>\n",
       "      <th>31-12-2060</th>\n",
       "      <th>-13.125</th>\n",
       "      <td>NaN</td>\n",
       "      <td>NaN</td>\n",
       "      <td>NaN</td>\n",
       "      <td>0.737792</td>\n",
       "    </tr>\n",
       "  </tbody>\n",
       "</table>\n",
       "<p>6136200 rows × 4 columns</p>\n",
       "</div>"
      ],
      "text/plain": [
       "                                                                 Longitude  \\\n",
       "                                                                    33.625   \n",
       "Name project          Experiment Model      Date       Latitude              \n",
       "PT_Revubue_2_Rev_2_01 ssp245     ACCESS-CM2 01-01-2021 -16.125    5.057179   \n",
       "                                            02-01-2021 -16.125   17.624178   \n",
       "                                            03-01-2021 -16.125    7.632648   \n",
       "                                            04-01-2021 -16.125    4.736492   \n",
       "                                            05-01-2021 -16.125    4.981353   \n",
       "...                                                                    ...   \n",
       "PT__Dumping_Site      ssp370     TaiESM1    27-12-2060 -13.125         NaN   \n",
       "                                            28-12-2060 -13.125         NaN   \n",
       "                                            29-12-2060 -13.125         NaN   \n",
       "                                            30-12-2060 -13.125         NaN   \n",
       "                                            31-12-2060 -13.125         NaN   \n",
       "\n",
       "                                                                               \\\n",
       "                                                                39.875 36.875   \n",
       "Name project          Experiment Model      Date       Latitude                 \n",
       "PT_Revubue_2_Rev_2_01 ssp245     ACCESS-CM2 01-01-2021 -16.125     NaN    NaN   \n",
       "                                            02-01-2021 -16.125     NaN    NaN   \n",
       "                                            03-01-2021 -16.125     NaN    NaN   \n",
       "                                            04-01-2021 -16.125     NaN    NaN   \n",
       "                                            05-01-2021 -16.125     NaN    NaN   \n",
       "...                                                                ...    ...   \n",
       "PT__Dumping_Site      ssp370     TaiESM1    27-12-2060 -13.125     NaN    NaN   \n",
       "                                            28-12-2060 -13.125     NaN    NaN   \n",
       "                                            29-12-2060 -13.125     NaN    NaN   \n",
       "                                            30-12-2060 -13.125     NaN    NaN   \n",
       "                                            31-12-2060 -13.125     NaN    NaN   \n",
       "\n",
       "                                                                           \n",
       "                                                                   40.375  \n",
       "Name project          Experiment Model      Date       Latitude            \n",
       "PT_Revubue_2_Rev_2_01 ssp245     ACCESS-CM2 01-01-2021 -16.125        NaN  \n",
       "                                            02-01-2021 -16.125        NaN  \n",
       "                                            03-01-2021 -16.125        NaN  \n",
       "                                            04-01-2021 -16.125        NaN  \n",
       "                                            05-01-2021 -16.125        NaN  \n",
       "...                                                                   ...  \n",
       "PT__Dumping_Site      ssp370     TaiESM1    27-12-2060 -13.125   0.000000  \n",
       "                                            28-12-2060 -13.125   0.435942  \n",
       "                                            29-12-2060 -13.125   6.300328  \n",
       "                                            30-12-2060 -13.125   8.168522  \n",
       "                                            31-12-2060 -13.125   0.737792  \n",
       "\n",
       "[6136200 rows x 4 columns]"
      ]
     },
     "execution_count": 5,
     "metadata": {},
     "output_type": "execute_result"
    }
   ],
   "source": [
    "precipitation_2021_2060_copy"
   ]
  },
  {
   "cell_type": "code",
   "execution_count": 6,
   "id": "6a2d8360",
   "metadata": {},
   "outputs": [
    {
     "name": "stdout",
     "output_type": "stream",
     "text": [
      "KeyError\n"
     ]
    },
    {
     "name": "stderr",
     "output_type": "stream",
     "text": [
      "C:\\Users\\CLMRX\\AppData\\Local\\Temp\\1\\ipykernel_4788\\3815715974.py:5: PerformanceWarning: indexing past lexsort depth may impact performance.\n",
      "  precipitation_2021_2060_copy.loc[(precipitation_2021_2060_copy.index.levels[0][0],precipitation_2021_2060_copy.index.levels[1][0],'NESM3')]\n"
     ]
    }
   ],
   "source": [
    "# delete model 'NESM3' that does not have any value\n",
    "try:\n",
    "    precipitation_2021_2060_copy = precipitation_2021_2060.copy(deep=True)\n",
    "    precipitation_2021_2060_copy.drop('NESM3', level=2, axis=0, inplace=True)\n",
    "    precipitation_2021_2060_copy.loc[(precipitation_2021_2060_copy.index.levels[0][0],precipitation_2021_2060_copy.index.levels[1][0],'NESM3')]\n",
    "except KeyError:\n",
    "    print('KeyError')"
   ]
  },
  {
   "cell_type": "code",
   "execution_count": 7,
   "id": "cee7c0ee",
   "metadata": {},
   "outputs": [
    {
     "data": {
      "text/html": [
       "<div>\n",
       "<style scoped>\n",
       "    .dataframe tbody tr th:only-of-type {\n",
       "        vertical-align: middle;\n",
       "    }\n",
       "\n",
       "    .dataframe tbody tr th {\n",
       "        vertical-align: top;\n",
       "    }\n",
       "\n",
       "    .dataframe thead th {\n",
       "        text-align: right;\n",
       "    }\n",
       "</style>\n",
       "<table border=\"1\" class=\"dataframe\">\n",
       "  <thead>\n",
       "    <tr style=\"text-align: right;\">\n",
       "      <th></th>\n",
       "      <th>Name project</th>\n",
       "      <th>Experiment</th>\n",
       "      <th>Model</th>\n",
       "      <th>Date</th>\n",
       "      <th>Precipitation mm/day period 2021-2060</th>\n",
       "      <th>Year</th>\n",
       "    </tr>\n",
       "  </thead>\n",
       "  <tbody>\n",
       "    <tr>\n",
       "      <th>0</th>\n",
       "      <td>PT_Revubue_2_Rev_2_01</td>\n",
       "      <td>ssp245</td>\n",
       "      <td>ACCESS-CM2</td>\n",
       "      <td>01-01-2021</td>\n",
       "      <td>5.057179</td>\n",
       "      <td>2021</td>\n",
       "    </tr>\n",
       "    <tr>\n",
       "      <th>1</th>\n",
       "      <td>PT_Revubue_2_Rev_2_01</td>\n",
       "      <td>ssp245</td>\n",
       "      <td>ACCESS-CM2</td>\n",
       "      <td>02-01-2021</td>\n",
       "      <td>17.624178</td>\n",
       "      <td>2021</td>\n",
       "    </tr>\n",
       "    <tr>\n",
       "      <th>2</th>\n",
       "      <td>PT_Revubue_2_Rev_2_01</td>\n",
       "      <td>ssp245</td>\n",
       "      <td>ACCESS-CM2</td>\n",
       "      <td>03-01-2021</td>\n",
       "      <td>7.632648</td>\n",
       "      <td>2021</td>\n",
       "    </tr>\n",
       "    <tr>\n",
       "      <th>3</th>\n",
       "      <td>PT_Revubue_2_Rev_2_01</td>\n",
       "      <td>ssp245</td>\n",
       "      <td>ACCESS-CM2</td>\n",
       "      <td>04-01-2021</td>\n",
       "      <td>4.736492</td>\n",
       "      <td>2021</td>\n",
       "    </tr>\n",
       "    <tr>\n",
       "      <th>4</th>\n",
       "      <td>PT_Revubue_2_Rev_2_01</td>\n",
       "      <td>ssp245</td>\n",
       "      <td>ACCESS-CM2</td>\n",
       "      <td>05-01-2021</td>\n",
       "      <td>4.981353</td>\n",
       "      <td>2021</td>\n",
       "    </tr>\n",
       "    <tr>\n",
       "      <th>...</th>\n",
       "      <td>...</td>\n",
       "      <td>...</td>\n",
       "      <td>...</td>\n",
       "      <td>...</td>\n",
       "      <td>...</td>\n",
       "      <td>...</td>\n",
       "    </tr>\n",
       "    <tr>\n",
       "      <th>5727115</th>\n",
       "      <td>PT__Dumping_Site</td>\n",
       "      <td>ssp370</td>\n",
       "      <td>TaiESM1</td>\n",
       "      <td>27-12-2060</td>\n",
       "      <td>0.000000</td>\n",
       "      <td>2060</td>\n",
       "    </tr>\n",
       "    <tr>\n",
       "      <th>5727116</th>\n",
       "      <td>PT__Dumping_Site</td>\n",
       "      <td>ssp370</td>\n",
       "      <td>TaiESM1</td>\n",
       "      <td>28-12-2060</td>\n",
       "      <td>0.435942</td>\n",
       "      <td>2060</td>\n",
       "    </tr>\n",
       "    <tr>\n",
       "      <th>5727117</th>\n",
       "      <td>PT__Dumping_Site</td>\n",
       "      <td>ssp370</td>\n",
       "      <td>TaiESM1</td>\n",
       "      <td>29-12-2060</td>\n",
       "      <td>6.300328</td>\n",
       "      <td>2060</td>\n",
       "    </tr>\n",
       "    <tr>\n",
       "      <th>5727118</th>\n",
       "      <td>PT__Dumping_Site</td>\n",
       "      <td>ssp370</td>\n",
       "      <td>TaiESM1</td>\n",
       "      <td>30-12-2060</td>\n",
       "      <td>8.168522</td>\n",
       "      <td>2060</td>\n",
       "    </tr>\n",
       "    <tr>\n",
       "      <th>5727119</th>\n",
       "      <td>PT__Dumping_Site</td>\n",
       "      <td>ssp370</td>\n",
       "      <td>TaiESM1</td>\n",
       "      <td>31-12-2060</td>\n",
       "      <td>0.737792</td>\n",
       "      <td>2060</td>\n",
       "    </tr>\n",
       "  </tbody>\n",
       "</table>\n",
       "<p>5727120 rows × 6 columns</p>\n",
       "</div>"
      ],
      "text/plain": [
       "                  Name project Experiment       Model        Date  \\\n",
       "0        PT_Revubue_2_Rev_2_01     ssp245  ACCESS-CM2  01-01-2021   \n",
       "1        PT_Revubue_2_Rev_2_01     ssp245  ACCESS-CM2  02-01-2021   \n",
       "2        PT_Revubue_2_Rev_2_01     ssp245  ACCESS-CM2  03-01-2021   \n",
       "3        PT_Revubue_2_Rev_2_01     ssp245  ACCESS-CM2  04-01-2021   \n",
       "4        PT_Revubue_2_Rev_2_01     ssp245  ACCESS-CM2  05-01-2021   \n",
       "...                        ...        ...         ...         ...   \n",
       "5727115       PT__Dumping_Site     ssp370     TaiESM1  27-12-2060   \n",
       "5727116       PT__Dumping_Site     ssp370     TaiESM1  28-12-2060   \n",
       "5727117       PT__Dumping_Site     ssp370     TaiESM1  29-12-2060   \n",
       "5727118       PT__Dumping_Site     ssp370     TaiESM1  30-12-2060   \n",
       "5727119       PT__Dumping_Site     ssp370     TaiESM1  31-12-2060   \n",
       "\n",
       "         Precipitation mm/day period 2021-2060  Year  \n",
       "0                                     5.057179  2021  \n",
       "1                                    17.624178  2021  \n",
       "2                                     7.632648  2021  \n",
       "3                                     4.736492  2021  \n",
       "4                                     4.981353  2021  \n",
       "...                                        ...   ...  \n",
       "5727115                               0.000000  2060  \n",
       "5727116                               0.435942  2060  \n",
       "5727117                               6.300328  2060  \n",
       "5727118                               8.168522  2060  \n",
       "5727119                               0.737792  2060  \n",
       "\n",
       "[5727120 rows x 6 columns]"
      ]
     },
     "execution_count": 7,
     "metadata": {},
     "output_type": "execute_result"
    }
   ],
   "source": [
    "# treatment of dataframe to make useable\n",
    "df_years=precipitation_2021_2060_copy.copy(deep=True)\n",
    "#df_year = df_year1.loc[('PT_Revubue_2_Rev_2_01')] # select one project\n",
    "df_years.columns = df_years.columns.droplevel(0) # drop first level of column name\n",
    "df_years['33.625'] = df_years['33.625'].fillna(0)\n",
    "df_years['39.875'] = df_years['39.875'].fillna(0)\n",
    "df_years['36.875'] = df_years['36.875'].fillna(0)\n",
    "df_years['40.375'] = df_years['40.375'].fillna(0)\n",
    "df_years['33.625'] = df_years['33.625'] + df_years['39.875'] + df_years['36.875'] + df_years['40.375']\n",
    "df_years = df_years[['33.625']]\n",
    "df_years=df_years.rename(columns={df_years.columns[0]:'Precipitation mm/day period 2021-2060'})\n",
    "df_years=df_years.droplevel(level=4) # drop latitude index\n",
    "df_years=df_years.reset_index()\n",
    "\n",
    "Year = df_years[['Date']].values.reshape(len(df_years[['Date']].values),)\n",
    "for i in np.arange(0,len(df_years[['Date']].values)):\n",
    "    Year[i]=int(Year[i][6:10])\n",
    "\n",
    "df_years['Year'] = Year\n",
    "df_years"
   ]
  },
  {
   "cell_type": "code",
   "execution_count": 8,
   "id": "76737979",
   "metadata": {},
   "outputs": [
    {
     "data": {
      "text/html": [
       "<div>\n",
       "<style scoped>\n",
       "    .dataframe tbody tr th:only-of-type {\n",
       "        vertical-align: middle;\n",
       "    }\n",
       "\n",
       "    .dataframe tbody tr th {\n",
       "        vertical-align: top;\n",
       "    }\n",
       "\n",
       "    .dataframe thead th {\n",
       "        text-align: right;\n",
       "    }\n",
       "</style>\n",
       "<table border=\"1\" class=\"dataframe\">\n",
       "  <thead>\n",
       "    <tr style=\"text-align: right;\">\n",
       "      <th></th>\n",
       "      <th>Name project</th>\n",
       "      <th>Experiment</th>\n",
       "      <th>Model</th>\n",
       "      <th>Date</th>\n",
       "      <th>Precipitation mm/day period 2021-2060</th>\n",
       "      <th>Year</th>\n",
       "    </tr>\n",
       "  </thead>\n",
       "  <tbody>\n",
       "    <tr>\n",
       "      <th>0</th>\n",
       "      <td>PT_Revubue_2_Rev_2_01</td>\n",
       "      <td>ssp245</td>\n",
       "      <td>ACCESS-CM2</td>\n",
       "      <td>01-01-2021</td>\n",
       "      <td>5.057179</td>\n",
       "      <td>2021</td>\n",
       "    </tr>\n",
       "    <tr>\n",
       "      <th>1</th>\n",
       "      <td>PT_Revubue_2_Rev_2_01</td>\n",
       "      <td>ssp245</td>\n",
       "      <td>ACCESS-CM2</td>\n",
       "      <td>02-01-2021</td>\n",
       "      <td>17.624178</td>\n",
       "      <td>2021</td>\n",
       "    </tr>\n",
       "    <tr>\n",
       "      <th>2</th>\n",
       "      <td>PT_Revubue_2_Rev_2_01</td>\n",
       "      <td>ssp245</td>\n",
       "      <td>ACCESS-CM2</td>\n",
       "      <td>03-01-2021</td>\n",
       "      <td>7.632648</td>\n",
       "      <td>2021</td>\n",
       "    </tr>\n",
       "    <tr>\n",
       "      <th>3</th>\n",
       "      <td>PT_Revubue_2_Rev_2_01</td>\n",
       "      <td>ssp245</td>\n",
       "      <td>ACCESS-CM2</td>\n",
       "      <td>04-01-2021</td>\n",
       "      <td>4.736492</td>\n",
       "      <td>2021</td>\n",
       "    </tr>\n",
       "    <tr>\n",
       "      <th>4</th>\n",
       "      <td>PT_Revubue_2_Rev_2_01</td>\n",
       "      <td>ssp245</td>\n",
       "      <td>ACCESS-CM2</td>\n",
       "      <td>05-01-2021</td>\n",
       "      <td>4.981353</td>\n",
       "      <td>2021</td>\n",
       "    </tr>\n",
       "    <tr>\n",
       "      <th>...</th>\n",
       "      <td>...</td>\n",
       "      <td>...</td>\n",
       "      <td>...</td>\n",
       "      <td>...</td>\n",
       "      <td>...</td>\n",
       "      <td>...</td>\n",
       "    </tr>\n",
       "    <tr>\n",
       "      <th>5719810</th>\n",
       "      <td>PT__Dumping_Site</td>\n",
       "      <td>ssp370</td>\n",
       "      <td>TaiESM1</td>\n",
       "      <td>27-12-2040</td>\n",
       "      <td>0.184525</td>\n",
       "      <td>2040</td>\n",
       "    </tr>\n",
       "    <tr>\n",
       "      <th>5719811</th>\n",
       "      <td>PT__Dumping_Site</td>\n",
       "      <td>ssp370</td>\n",
       "      <td>TaiESM1</td>\n",
       "      <td>28-12-2040</td>\n",
       "      <td>5.674063</td>\n",
       "      <td>2040</td>\n",
       "    </tr>\n",
       "    <tr>\n",
       "      <th>5719812</th>\n",
       "      <td>PT__Dumping_Site</td>\n",
       "      <td>ssp370</td>\n",
       "      <td>TaiESM1</td>\n",
       "      <td>29-12-2040</td>\n",
       "      <td>0.471744</td>\n",
       "      <td>2040</td>\n",
       "    </tr>\n",
       "    <tr>\n",
       "      <th>5719813</th>\n",
       "      <td>PT__Dumping_Site</td>\n",
       "      <td>ssp370</td>\n",
       "      <td>TaiESM1</td>\n",
       "      <td>30-12-2040</td>\n",
       "      <td>5.973260</td>\n",
       "      <td>2040</td>\n",
       "    </tr>\n",
       "    <tr>\n",
       "      <th>5719814</th>\n",
       "      <td>PT__Dumping_Site</td>\n",
       "      <td>ssp370</td>\n",
       "      <td>TaiESM1</td>\n",
       "      <td>31-12-2040</td>\n",
       "      <td>11.779283</td>\n",
       "      <td>2040</td>\n",
       "    </tr>\n",
       "  </tbody>\n",
       "</table>\n",
       "<p>2863560 rows × 6 columns</p>\n",
       "</div>"
      ],
      "text/plain": [
       "                  Name project Experiment       Model        Date  \\\n",
       "0        PT_Revubue_2_Rev_2_01     ssp245  ACCESS-CM2  01-01-2021   \n",
       "1        PT_Revubue_2_Rev_2_01     ssp245  ACCESS-CM2  02-01-2021   \n",
       "2        PT_Revubue_2_Rev_2_01     ssp245  ACCESS-CM2  03-01-2021   \n",
       "3        PT_Revubue_2_Rev_2_01     ssp245  ACCESS-CM2  04-01-2021   \n",
       "4        PT_Revubue_2_Rev_2_01     ssp245  ACCESS-CM2  05-01-2021   \n",
       "...                        ...        ...         ...         ...   \n",
       "5719810       PT__Dumping_Site     ssp370     TaiESM1  27-12-2040   \n",
       "5719811       PT__Dumping_Site     ssp370     TaiESM1  28-12-2040   \n",
       "5719812       PT__Dumping_Site     ssp370     TaiESM1  29-12-2040   \n",
       "5719813       PT__Dumping_Site     ssp370     TaiESM1  30-12-2040   \n",
       "5719814       PT__Dumping_Site     ssp370     TaiESM1  31-12-2040   \n",
       "\n",
       "         Precipitation mm/day period 2021-2060  Year  \n",
       "0                                     5.057179  2021  \n",
       "1                                    17.624178  2021  \n",
       "2                                     7.632648  2021  \n",
       "3                                     4.736492  2021  \n",
       "4                                     4.981353  2021  \n",
       "...                                        ...   ...  \n",
       "5719810                               0.184525  2040  \n",
       "5719811                               5.674063  2040  \n",
       "5719812                               0.471744  2040  \n",
       "5719813                               5.973260  2040  \n",
       "5719814                              11.779283  2040  \n",
       "\n",
       "[2863560 rows x 6 columns]"
      ]
     },
     "execution_count": 8,
     "metadata": {},
     "output_type": "execute_result"
    }
   ],
   "source": [
    "# select past datas, between start_year_future and stop_year_future\n",
    "df_past = df_years.loc[df_years['Year'].between(start_year_past,stop_year_past)]\n",
    "df_past"
   ]
  },
  {
   "cell_type": "code",
   "execution_count": 9,
   "id": "74e22b77",
   "metadata": {},
   "outputs": [
    {
     "data": {
      "text/html": [
       "<div>\n",
       "<style scoped>\n",
       "    .dataframe tbody tr th:only-of-type {\n",
       "        vertical-align: middle;\n",
       "    }\n",
       "\n",
       "    .dataframe tbody tr th {\n",
       "        vertical-align: top;\n",
       "    }\n",
       "\n",
       "    .dataframe thead th {\n",
       "        text-align: right;\n",
       "    }\n",
       "</style>\n",
       "<table border=\"1\" class=\"dataframe\">\n",
       "  <thead>\n",
       "    <tr style=\"text-align: right;\">\n",
       "      <th></th>\n",
       "      <th>Name project</th>\n",
       "      <th>Experiment</th>\n",
       "      <th>Model</th>\n",
       "      <th>Date</th>\n",
       "      <th>Precipitation mm/day period 2021-2060</th>\n",
       "      <th>Year</th>\n",
       "    </tr>\n",
       "  </thead>\n",
       "  <tbody>\n",
       "    <tr>\n",
       "      <th>7305</th>\n",
       "      <td>PT_Revubue_2_Rev_2_01</td>\n",
       "      <td>ssp245</td>\n",
       "      <td>ACCESS-CM2</td>\n",
       "      <td>01-01-2041</td>\n",
       "      <td>12.308317</td>\n",
       "      <td>2041</td>\n",
       "    </tr>\n",
       "    <tr>\n",
       "      <th>7306</th>\n",
       "      <td>PT_Revubue_2_Rev_2_01</td>\n",
       "      <td>ssp245</td>\n",
       "      <td>ACCESS-CM2</td>\n",
       "      <td>02-01-2041</td>\n",
       "      <td>8.492493</td>\n",
       "      <td>2041</td>\n",
       "    </tr>\n",
       "    <tr>\n",
       "      <th>7307</th>\n",
       "      <td>PT_Revubue_2_Rev_2_01</td>\n",
       "      <td>ssp245</td>\n",
       "      <td>ACCESS-CM2</td>\n",
       "      <td>03-01-2041</td>\n",
       "      <td>10.244099</td>\n",
       "      <td>2041</td>\n",
       "    </tr>\n",
       "    <tr>\n",
       "      <th>7308</th>\n",
       "      <td>PT_Revubue_2_Rev_2_01</td>\n",
       "      <td>ssp245</td>\n",
       "      <td>ACCESS-CM2</td>\n",
       "      <td>04-01-2041</td>\n",
       "      <td>30.440408</td>\n",
       "      <td>2041</td>\n",
       "    </tr>\n",
       "    <tr>\n",
       "      <th>7309</th>\n",
       "      <td>PT_Revubue_2_Rev_2_01</td>\n",
       "      <td>ssp245</td>\n",
       "      <td>ACCESS-CM2</td>\n",
       "      <td>05-01-2041</td>\n",
       "      <td>23.266100</td>\n",
       "      <td>2041</td>\n",
       "    </tr>\n",
       "    <tr>\n",
       "      <th>...</th>\n",
       "      <td>...</td>\n",
       "      <td>...</td>\n",
       "      <td>...</td>\n",
       "      <td>...</td>\n",
       "      <td>...</td>\n",
       "      <td>...</td>\n",
       "    </tr>\n",
       "    <tr>\n",
       "      <th>5727115</th>\n",
       "      <td>PT__Dumping_Site</td>\n",
       "      <td>ssp370</td>\n",
       "      <td>TaiESM1</td>\n",
       "      <td>27-12-2060</td>\n",
       "      <td>0.000000</td>\n",
       "      <td>2060</td>\n",
       "    </tr>\n",
       "    <tr>\n",
       "      <th>5727116</th>\n",
       "      <td>PT__Dumping_Site</td>\n",
       "      <td>ssp370</td>\n",
       "      <td>TaiESM1</td>\n",
       "      <td>28-12-2060</td>\n",
       "      <td>0.435942</td>\n",
       "      <td>2060</td>\n",
       "    </tr>\n",
       "    <tr>\n",
       "      <th>5727117</th>\n",
       "      <td>PT__Dumping_Site</td>\n",
       "      <td>ssp370</td>\n",
       "      <td>TaiESM1</td>\n",
       "      <td>29-12-2060</td>\n",
       "      <td>6.300328</td>\n",
       "      <td>2060</td>\n",
       "    </tr>\n",
       "    <tr>\n",
       "      <th>5727118</th>\n",
       "      <td>PT__Dumping_Site</td>\n",
       "      <td>ssp370</td>\n",
       "      <td>TaiESM1</td>\n",
       "      <td>30-12-2060</td>\n",
       "      <td>8.168522</td>\n",
       "      <td>2060</td>\n",
       "    </tr>\n",
       "    <tr>\n",
       "      <th>5727119</th>\n",
       "      <td>PT__Dumping_Site</td>\n",
       "      <td>ssp370</td>\n",
       "      <td>TaiESM1</td>\n",
       "      <td>31-12-2060</td>\n",
       "      <td>0.737792</td>\n",
       "      <td>2060</td>\n",
       "    </tr>\n",
       "  </tbody>\n",
       "</table>\n",
       "<p>2863560 rows × 6 columns</p>\n",
       "</div>"
      ],
      "text/plain": [
       "                  Name project Experiment       Model        Date  \\\n",
       "7305     PT_Revubue_2_Rev_2_01     ssp245  ACCESS-CM2  01-01-2041   \n",
       "7306     PT_Revubue_2_Rev_2_01     ssp245  ACCESS-CM2  02-01-2041   \n",
       "7307     PT_Revubue_2_Rev_2_01     ssp245  ACCESS-CM2  03-01-2041   \n",
       "7308     PT_Revubue_2_Rev_2_01     ssp245  ACCESS-CM2  04-01-2041   \n",
       "7309     PT_Revubue_2_Rev_2_01     ssp245  ACCESS-CM2  05-01-2041   \n",
       "...                        ...        ...         ...         ...   \n",
       "5727115       PT__Dumping_Site     ssp370     TaiESM1  27-12-2060   \n",
       "5727116       PT__Dumping_Site     ssp370     TaiESM1  28-12-2060   \n",
       "5727117       PT__Dumping_Site     ssp370     TaiESM1  29-12-2060   \n",
       "5727118       PT__Dumping_Site     ssp370     TaiESM1  30-12-2060   \n",
       "5727119       PT__Dumping_Site     ssp370     TaiESM1  31-12-2060   \n",
       "\n",
       "         Precipitation mm/day period 2021-2060  Year  \n",
       "7305                                 12.308317  2041  \n",
       "7306                                  8.492493  2041  \n",
       "7307                                 10.244099  2041  \n",
       "7308                                 30.440408  2041  \n",
       "7309                                 23.266100  2041  \n",
       "...                                        ...   ...  \n",
       "5727115                               0.000000  2060  \n",
       "5727116                               0.435942  2060  \n",
       "5727117                               6.300328  2060  \n",
       "5727118                               8.168522  2060  \n",
       "5727119                               0.737792  2060  \n",
       "\n",
       "[2863560 rows x 6 columns]"
      ]
     },
     "execution_count": 9,
     "metadata": {},
     "output_type": "execute_result"
    }
   ],
   "source": [
    "# select future data, between start_year_future and stop_year_future\n",
    "df_future = df_years.loc[df_years['Year'].between(start_year_future,stop_year_future)]\n",
    "df_future"
   ]
  },
  {
   "cell_type": "markdown",
   "id": "31e48e62",
   "metadata": {},
   "source": [
    "## Average yearly precipitation"
   ]
  },
  {
   "cell_type": "code",
   "execution_count": 10,
   "id": "e6480ef3",
   "metadata": {},
   "outputs": [],
   "source": [
    "from Functions_Indicators_precipitation import yearly_avg_pr\n",
    "from Functions_Indicators_precipitation import yearly_avg_pr_distr"
   ]
  },
  {
   "cell_type": "code",
   "execution_count": 11,
   "id": "f1464577",
   "metadata": {},
   "outputs": [],
   "source": [
    "# For historical period\n",
    "title_column = 'Yearly average precipitation mm/year period '+str(start_year_past)+'-'+str(stop_year_past)\n",
    "df_yearly_avg= yearly_avg_pr(df_past,title_column)\n",
    "df_years_avg_distribution = yearly_avg_pr_distr(df_yearly_avg)"
   ]
  },
  {
   "cell_type": "code",
   "execution_count": 13,
   "id": "09922564",
   "metadata": {},
   "outputs": [
    {
     "data": {
      "text/html": [
       "<div>\n",
       "<style scoped>\n",
       "    .dataframe tbody tr th:only-of-type {\n",
       "        vertical-align: middle;\n",
       "    }\n",
       "\n",
       "    .dataframe tbody tr th {\n",
       "        vertical-align: top;\n",
       "    }\n",
       "\n",
       "    .dataframe thead th {\n",
       "        text-align: right;\n",
       "    }\n",
       "</style>\n",
       "<table border=\"1\" class=\"dataframe\">\n",
       "  <thead>\n",
       "    <tr style=\"text-align: right;\">\n",
       "      <th></th>\n",
       "      <th></th>\n",
       "      <th></th>\n",
       "      <th>Yearly average precipitation mm/year period 2021-2040</th>\n",
       "    </tr>\n",
       "    <tr>\n",
       "      <th>Name project</th>\n",
       "      <th>Experiment</th>\n",
       "      <th>Model</th>\n",
       "      <th></th>\n",
       "    </tr>\n",
       "  </thead>\n",
       "  <tbody>\n",
       "    <tr>\n",
       "      <th rowspan=\"5\" valign=\"top\">Chimoio_2ML_Reservoir</th>\n",
       "      <th rowspan=\"5\" valign=\"top\">ssp126</th>\n",
       "      <th>ACCESS-CM2</th>\n",
       "      <td>915.694165</td>\n",
       "    </tr>\n",
       "    <tr>\n",
       "      <th>ACCESS-ESM1-5</th>\n",
       "      <td>941.803783</td>\n",
       "    </tr>\n",
       "    <tr>\n",
       "      <th>BCC-CSM2-MR</th>\n",
       "      <td>949.558937</td>\n",
       "    </tr>\n",
       "    <tr>\n",
       "      <th>CMCC-CM2-SR5</th>\n",
       "      <td>1005.862911</td>\n",
       "    </tr>\n",
       "    <tr>\n",
       "      <th>CMCC-ESM2</th>\n",
       "      <td>1041.000086</td>\n",
       "    </tr>\n",
       "    <tr>\n",
       "      <th>...</th>\n",
       "      <th>...</th>\n",
       "      <th>...</th>\n",
       "      <td>...</td>\n",
       "    </tr>\n",
       "    <tr>\n",
       "      <th rowspan=\"5\" valign=\"top\">WTP_gate_cnr1</th>\n",
       "      <th rowspan=\"5\" valign=\"top\">ssp585</th>\n",
       "      <th>MPI-ESM1-2-LR</th>\n",
       "      <td>634.809814</td>\n",
       "    </tr>\n",
       "    <tr>\n",
       "      <th>MRI-ESM2-0</th>\n",
       "      <td>629.812801</td>\n",
       "    </tr>\n",
       "    <tr>\n",
       "      <th>NorESM2-LM</th>\n",
       "      <td>630.305049</td>\n",
       "    </tr>\n",
       "    <tr>\n",
       "      <th>NorESM2-MM</th>\n",
       "      <td>701.689807</td>\n",
       "    </tr>\n",
       "    <tr>\n",
       "      <th>TaiESM1</th>\n",
       "      <td>665.478532</td>\n",
       "    </tr>\n",
       "  </tbody>\n",
       "</table>\n",
       "<p>392 rows × 1 columns</p>\n",
       "</div>"
      ],
      "text/plain": [
       "                                                Yearly average precipitation mm/year period 2021-2040\n",
       "Name project          Experiment Model                                                               \n",
       "Chimoio_2ML_Reservoir ssp126     ACCESS-CM2                                            915.694165    \n",
       "                                 ACCESS-ESM1-5                                         941.803783    \n",
       "                                 BCC-CSM2-MR                                           949.558937    \n",
       "                                 CMCC-CM2-SR5                                         1005.862911    \n",
       "                                 CMCC-ESM2                                            1041.000086    \n",
       "...                                                                                           ...    \n",
       "WTP_gate_cnr1         ssp585     MPI-ESM1-2-LR                                         634.809814    \n",
       "                                 MRI-ESM2-0                                            629.812801    \n",
       "                                 NorESM2-LM                                            630.305049    \n",
       "                                 NorESM2-MM                                            701.689807    \n",
       "                                 TaiESM1                                               665.478532    \n",
       "\n",
       "[392 rows x 1 columns]"
      ]
     },
     "execution_count": 13,
     "metadata": {},
     "output_type": "execute_result"
    }
   ],
   "source": [
    "df_yearly_avg"
   ]
  },
  {
   "cell_type": "code",
   "execution_count": 12,
   "id": "d964eaa7",
   "metadata": {},
   "outputs": [],
   "source": [
    "# For future period\n",
    "title_column = 'Yearly average precipitation mm/year period '+str(start_year_future)+'-'+str(stop_year_future)\n",
    "df_years_avg_future_distribution= yearly_avg_pr(df_future,title_column)"
   ]
  },
  {
   "cell_type": "code",
   "execution_count": null,
   "id": "f2d2fa12",
   "metadata": {},
   "outputs": [],
   "source": [
    "# Comparaison between past and future period"
   ]
  },
  {
   "cell_type": "code",
   "execution_count": null,
   "id": "cc87ad27",
   "metadata": {},
   "outputs": [],
   "source": [
    "changes_past_future_indicator = pd.DataFrame()\n",
    "changes_past_future_indicator1 = changes_in_indicators(df_years_avg_past_distribution,df_years_avg_future_distribution,'Average yearly precipitation','mm/year','Incremental rainfall change')\n",
    "changes_past_future_indicator=pd.concat([changes_past_future_indicator,changes_past_future_indicator1])\n",
    "changes_past_future_indicator"
   ]
  },
  {
   "cell_type": "code",
   "execution_count": null,
   "id": "abcf00eb",
   "metadata": {},
   "outputs": [],
   "source": [
    "df_past"
   ]
  },
  {
   "cell_type": "code",
   "execution_count": null,
   "id": "67157a03",
   "metadata": {},
   "outputs": [],
   "source": [
    "# boxplot\n",
    "\n",
    "df_yearly_avg = df_past.copy(deep =True)\n",
    "df_yearly_avg=df_yearly_avg.drop(labels='Date',axis=1)\n",
    "df_yearly_avg=df_yearly_avg.rename(columns={df_yearly_avg.columns[3]:'Yearly precipitation mm/year'})\n",
    "df_yearly_avg = df_yearly_avg.groupby(['Name project','Experiment','Model','Year']).sum() # sum per year\n",
    "#df_yearly_avg = df_yearly_avg.groupby(['Name project','Experiment','Model']).mean()\n",
    "\n",
    "dict_boxplot = plt.boxplot([df_yearly_avg.loc[('PT_Revubue_2_Rev_2_01','ssp126'),'Yearly precipitation mm/year'].values.reshape(len(df_yearly_avg.loc[('PT_Revubue_2_Rev_2_01','ssp126'),'Yearly precipitation mm/year']),),df_yearly_avg.loc[('PT_Revubue_2_Rev_2_01','ssp245'),'Yearly precipitation mm/year'].values.reshape(len(df_yearly_avg.loc[('PT_Revubue_2_Rev_2_01','ssp245'),'Yearly precipitation mm/year']),),df_yearly_avg.loc[('PT_Revubue_2_Rev_2_01','ssp370'),'Yearly precipitation mm/year'].values.reshape(len(df_yearly_avg.loc[('PT_Revubue_2_Rev_2_01','ssp370'),'Yearly precipitation mm/year']),),df_yearly_avg.loc[('PT_Revubue_2_Rev_2_01','ssp585'),'Yearly precipitation mm/year'].values.reshape(len(df_yearly_avg.loc[('PT_Revubue_2_Rev_2_01','ssp126'),'Yearly precipitation mm/year']),)],notch=True, whis =(10,90),widths = 0.15, patch_artist=True,labels=df_yearly_avg.index.levels[1].tolist())\n",
    "# ... present boxplot over the period for each models\n",
    "# this functions returns varius parameters of the boxplot in the dict_boxplot. This funcitons also returns an image of it\n",
    "# here, numpy_array is a vector. But can also include array with several columns. Each columns will have a boxplot\n",
    "# 'notch' is true to enhance part where the median is\n",
    "# 'whis' is the percentile value for the whiskers, every data out of the range indicted by those 2 floats are represented as points\n",
    "# 'widths' determine width of the boxes\n",
    "# 'patch_artist' colors the boxplots\n",
    "# 'labels' gives a name to every column included in the data part\n",
    "\n",
    "#str = 'Annual maximum precipitation mm/day\\naccross different scenarios between 2030 and 2060'\n",
    "#title_png = 'Annual maximum precipitation mm.day accross different scenarios between 2030 and 2060.png'\n",
    "#plt.title(str)\n",
    "plt.xlabel('Scenarios')\n",
    "plt.ylabel('Yearly precipitation mm/year for project PT_Revubue_2_Rev_2_01')\n",
    "#path_boxplot = os.path.join(path_figure,'Boxplots')\n",
    "#if not os.path.isdir(path_boxplot):\n",
    "#    os.makedirs(path_boxplot)\n",
    "#plt.savefig(os.path.join(path_boxplot,title_png),format ='png') # savefig or save text must be before plt.show. for savefig, format should be explicity written\n",
    "plt.show()"
   ]
  },
  {
   "cell_type": "code",
   "execution_count": null,
   "id": "318356f7",
   "metadata": {},
   "outputs": [],
   "source": [
    "df_yearly_avg = df_yearly_avg.groupby(['Name project','Experiment','Model']).mean()\n",
    "title_column = 'Yearly average precipitation mm/year'\n",
    "df_yearly_avg=df_yearly_avg.rename(columns={df_yearly_avg.columns[0]:title_column})\n",
    "df_yearly_avg"
   ]
  },
  {
   "cell_type": "code",
   "execution_count": null,
   "id": "039d7e5c",
   "metadata": {},
   "outputs": [],
   "source": [
    "dict_boxplot = plt.boxplot([df_yearly_avg.loc[(df_yearly_avg.index.levels[0][0]),title_column].values.reshape(len(df_yearly_avg.loc[(df_yearly_avg.index.levels[0][0]),title_column]),),df_yearly_avg.loc[(df_yearly_avg.index.levels[0][1]),title_column].values.reshape(len(df_yearly_avg.loc[(df_yearly_avg.index.levels[0][1]),title_column]),),df_yearly_avg.loc[(df_yearly_avg.index.levels[0][2]),title_column].values.reshape(len(df_yearly_avg.loc[(df_yearly_avg.index.levels[0][2]),title_column]),),df_yearly_avg.loc[(df_yearly_avg.index.levels[0][3]),title_column].values.reshape(len(df_yearly_avg.loc[(df_yearly_avg.index.levels[0][3]),title_column]),),df_yearly_avg.loc[(df_yearly_avg.index.levels[0][4]),title_column].values.reshape(len(df_yearly_avg.loc[(df_yearly_avg.index.levels[0][4]),title_column]),),df_yearly_avg.loc[(df_yearly_avg.index.levels[0][5]),title_column].values.reshape(len(df_yearly_avg.loc[(df_yearly_avg.index.levels[0][5]),title_column]),),df_yearly_avg.loc[(df_yearly_avg.index.levels[0][6]),title_column].values.reshape(len(df_yearly_avg.loc[(df_yearly_avg.index.levels[0][6]),title_column]),)],notch=True, whis =(10,90),widths = 0.15, patch_artist=True,labels=df_yearly_avg.index.levels[0].tolist())\n",
    "# ... present boxplot over the period for each models\n",
    "# this functions returns varius parameters of the boxplot in the dict_boxplot. This funcitons also returns an image of it\n",
    "# here, numpy_array is a vector. But can also include array with several columns. Each columns will have a boxplot\n",
    "# 'notch' is true to enhance part where the median is\n",
    "# 'whis' is the percentile value for the whiskers, every data out of the range indicted by those 2 floats are represented as points\n",
    "# 'widths' determine width of the boxes\n",
    "# 'patch_artist' colors the boxplots\n",
    "# 'labels' gives a name to every column included in the data part\n",
    "\n",
    "#str = 'Annual maximum precipitation mm/day\\naccross different scenarios between 2030 and 2060'\n",
    "#title_png = 'Annual maximum precipitation mm.day accross different scenarios between 2030 and 2060.png'\n",
    "#plt.title(str)\n",
    "plt.xlabel('Projects')\n",
    "plt.ylabel('Average yearly precipitation mm/year for project PT_Revubue_2_Rev_2_01')\n",
    "#path_boxplot = os.path.join(path_figure,'Boxplots')\n",
    "#if not os.path.isdir(path_boxplot):\n",
    "#    os.makedirs(path_boxplot)\n",
    "#plt.savefig(os.path.join(path_boxplot,title_png),format ='png') # savefig or save text must be before plt.show. for savefig, format should be explicity written\n",
    "plt.show()"
   ]
  },
  {
   "cell_type": "markdown",
   "id": "6126accb",
   "metadata": {},
   "source": [
    "## Seasonal average precipitation"
   ]
  },
  {
   "cell_type": "code",
   "execution_count": null,
   "id": "7dc7caa6",
   "metadata": {},
   "outputs": [],
   "source": [
    "from Functions_Indicators_precipitation import avg_dry_season_precipitation"
   ]
  },
  {
   "cell_type": "markdown",
   "id": "87135901",
   "metadata": {},
   "source": [
    "In mozambique, dry season from April to september. Humid season from October to March"
   ]
  },
  {
   "cell_type": "code",
   "execution_count": null,
   "id": "7a258257",
   "metadata": {},
   "outputs": [],
   "source": [
    "# historic"
   ]
  },
  {
   "cell_type": "code",
   "execution_count": null,
   "id": "e65ba35f",
   "metadata": {},
   "outputs": [],
   "source": [
    "title_column1 = 'Yearly average precipitation mm/season per year for the period '+str(start_year_past)+'-'+str(stop_year_past)\n",
    "pr_past_dry_season_mean_distribution = avg_dry_season_precipitation(df_past,title_column1)"
   ]
  },
  {
   "cell_type": "code",
   "execution_count": null,
   "id": "81f940df",
   "metadata": {},
   "outputs": [],
   "source": [
    "# future"
   ]
  },
  {
   "cell_type": "code",
   "execution_count": null,
   "id": "86ca8ec1",
   "metadata": {},
   "outputs": [],
   "source": [
    "title_column1 = 'Yearly average precipitation mm/dry season for the period '+str(start_year_future)+'-'+str(stop_year_future)\n",
    "pr_future_dry_season_mean_distribution = avg_dry_season_precipitation(df_future,title_column1)"
   ]
  },
  {
   "cell_type": "code",
   "execution_count": null,
   "id": "510d2a62",
   "metadata": {},
   "outputs": [],
   "source": [
    "pr_future_dry_season_mean_distribution"
   ]
  },
  {
   "cell_type": "code",
   "execution_count": null,
   "id": "25b9bdf8",
   "metadata": {},
   "outputs": [],
   "source": [
    "# Comparaison between past and future period"
   ]
  },
  {
   "cell_type": "code",
   "execution_count": null,
   "id": "3fd6869f",
   "metadata": {},
   "outputs": [],
   "source": [
    "changes_past_future_indicator1 = changes_in_indicators(pr_past_dry_season_mean_distribution,pr_future_dry_season_mean_distribution,'Average dry season precipitation','mm/(months of dry season)','Incremental rainfall change')\n",
    "changes_past_future_indicator=pd.merge(changes_past_future_indicator, changes_past_future_indicator1, left_index=True, right_index=True, how='outer')"
   ]
  },
  {
   "cell_type": "code",
   "execution_count": null,
   "id": "13241a7c",
   "metadata": {},
   "outputs": [],
   "source": [
    "changes_past_future_indicator"
   ]
  },
  {
   "cell_type": "markdown",
   "id": "9015fbc2",
   "metadata": {},
   "source": [
    "## Return period"
   ]
  },
  {
   "cell_type": "code",
   "execution_count": null,
   "id": "d423e272",
   "metadata": {},
   "outputs": [],
   "source": [
    " #INDICATOR NOT FINISHED\n",
    "#from Functions_Indicators_precipitation import threshold_coresponding_to_return_period\n",
    "from Functions_Indicators_precipitation import dataframe_threshold_coresponding_to_return_period\n",
    "#from Functions_Indicators_precipitation import dataframe_future_return_period_of_1_day_event"
   ]
  },
  {
   "cell_type": "code",
   "execution_count": null,
   "id": "b144eb68",
   "metadata": {},
   "outputs": [],
   "source": [
    "# past"
   ]
  },
  {
   "cell_type": "code",
   "execution_count": null,
   "id": "090fb8cd",
   "metadata": {},
   "outputs": [],
   "source": [
    "return_period_past=dataframe_threshold_coresponding_to_return_period(df_past)\n",
    "return_period_past"
   ]
  },
  {
   "cell_type": "code",
   "execution_count": null,
   "id": "0b058504",
   "metadata": {},
   "outputs": [],
   "source": [
    "# give each time different Z values\n",
    "\n",
    "\n",
    "# ca va etre bizarre dans avec distribution, parce qu'avant juste valeur de 100, donc oui changement, meme valeur pour median, p10 et p90 pour valeur actuel\n",
    "df_copy=df_future.copy(deep=True)\n",
    "df_copy=df_copy.drop(labels='Date',axis=1)\n",
    "df_max_future = df_copy.groupby(['Name project','Experiment','Model','Year']).max() # maximum\n",
    "\n",
    "midx = pd.MultiIndex.from_product([list(set(df_copy[df_copy.columns[0]])),list(set(df_copy[df_copy.columns[1]])),list(set(df_future[df_copy.columns[2]]))],names=['Name project','Experiment', 'Model'])\n",
    "cols = ['Return period years of current 100 year return period']\n",
    "return_period_future = pd.DataFrame(data = [], \n",
    "                            index = midx,\n",
    "                            columns = cols)\n",
    "for name_p in return_period_future.index.levels[0].tolist():\n",
    "    for ssp in return_period_future.index.levels[1].tolist():\n",
    "        for model in return_period_future.index.levels[2].tolist():\n",
    "            Z=df_max_future.loc[(name_p,ssp,model)].values.reshape(len(df_max_future.index.levels[3]),)\n",
    "            (loc1,scale1)=stats.gumbel_r.fit(Z) # return the function necessary to establish the continous function\n",
    "            #return_period_coresponding = 1/(1-gumbel_r.cdf(return_period_past.loc[(name_p,ssp,model),('Value for return period 100 years mm/day')],loc1,scale))\n",
    "            return_period_future.loc[(name_p,ssp,model),('Return period years of current 100 year return period')] = 1/(1-stats.gumbel_r.cdf(return_period_past.loc[(name_p,ssp,model),('Value for return period 100 years mm/day')],loc1,scale1)**(stop_year_future-start_year_future+1))\n",
    "            \n",
    "            #return_period_future.loc[(name_p,ssp,model),('Return period years of current 100 year return period')] = 1/(1-stats.gumbel_r.cdf(return_period_past.loc[(name_p,ssp,model),('Value for return period 100 years mm/day')],loc1,scale1))\n",
    "            #p_non_exceedance = stats.gumbel_r.cdf(return_period_past.loc[(name_p,ssp,model),('Value for return period 100 years mm/day')],loc1,scale1)\n",
    "            #return_period_future.loc[(name_p,ssp,model),('Return period years of current 100 year return period')] = stats.gumbel_r.ppf(p_non_exceedance,loc=loc1,scale=scale1)\n",
    "            print('former value corresponding to 100 years return period '+str(return_period_past.loc[(name_p,ssp,model),('Value for return period 100 years mm/day')]))\n",
    "            print('p non exceedance '+str(stats.gumbel_r.cdf(return_period_past.loc[(name_p,ssp,model),('Value for return period 100 years mm/day')],loc1,scale1)))\n",
    "            print('n = '+str(stop_year_future-start_year_future+1))\n",
    "            print('New return period '+str(return_period_future.loc[(name_p,ssp,model),('Return period years of current 100 year return period')]))"
   ]
  },
  {
   "cell_type": "code",
   "execution_count": null,
   "id": "d3e9b4c6",
   "metadata": {},
   "outputs": [],
   "source": [
    "return_period_future_distribution = return_period_future.astype(int).groupby(['Name project']).describe(percentiles=[.1, .5, .9])\n",
    "return_period_future_distribution"
   ]
  },
  {
   "cell_type": "code",
   "execution_count": null,
   "id": "9768dcd0",
   "metadata": {},
   "outputs": [],
   "source": [
    "return_period_past_100 = return_period_future.copy(deep=True)\n",
    "return_period_past_100['Return period years of current 100 year return period']=100\n",
    "return_period_past_100=return_period_past_100.rename(columns={return_period_past_100.columns[0]:'Current return period of interest years'})\n",
    "return_period_past_100"
   ]
  },
  {
   "cell_type": "code",
   "execution_count": null,
   "id": "21621b03",
   "metadata": {},
   "outputs": [],
   "source": [
    "return_period_past_100_distribution = return_period_past_100.astype(int).groupby(['Name project']).describe(percentiles=[.1, .5, .9])\n",
    "return_period_past_100_distribution"
   ]
  },
  {
   "cell_type": "code",
   "execution_count": null,
   "id": "b5b1f74a",
   "metadata": {},
   "outputs": [],
   "source": [
    "# Comparaison between past and future period\n",
    "changes_past_future_indicator1 = changes_in_indicators(return_period_past_100_distribution,return_period_future_distribution,'Future return period of one day with a current return period of 100 years','[years]','Extreme rainfall change')\n",
    "changes_past_future_indicator=pd.merge(changes_past_future_indicator, changes_past_future_indicator1, left_index=True, right_index=True, how='outer')\n",
    "changes_past_future_indicator"
   ]
  },
  {
   "cell_type": "markdown",
   "id": "458670b9",
   "metadata": {},
   "source": [
    "## N-day event"
   ]
  },
  {
   "cell_type": "markdown",
   "id": "dd283fe5",
   "metadata": {},
   "source": [
    "### 1-day event"
   ]
  },
  {
   "cell_type": "code",
   "execution_count": null,
   "id": "896fd69b",
   "metadata": {},
   "outputs": [],
   "source": [
    "from Functions_Indicators_precipitation import dataframe_1_day_event"
   ]
  },
  {
   "cell_type": "code",
   "execution_count": null,
   "id": "5ae2726e",
   "metadata": {},
   "outputs": [],
   "source": [
    "# past\n",
    "df_1_day_event_past = dataframe_1_day_event(df_past)\n",
    "df_1_day_event_past"
   ]
  },
  {
   "cell_type": "code",
   "execution_count": null,
   "id": "64b93b97",
   "metadata": {},
   "outputs": [],
   "source": [
    "# past\n",
    "df_1_day_event_future = dataframe_1_day_event(df_future)\n",
    "df_1_day_event_future"
   ]
  },
  {
   "cell_type": "code",
   "execution_count": null,
   "id": "40638aa7",
   "metadata": {},
   "outputs": [],
   "source": [
    "df_1_day_event_past_distribution = df_1_day_event_past.astype(int).groupby(['Name project']).describe(percentiles=[.1, .5, .9]) # astype(int) necessary to have stats min, max and percentiles\n",
    "df_1_day_event_future_distribution = df_1_day_event_future.astype(int).groupby(['Name project']).describe(percentiles=[.1, .5, .9]) # astype(int) necessary to have stats min, max and percentiles"
   ]
  },
  {
   "cell_type": "code",
   "execution_count": null,
   "id": "bbff6625",
   "metadata": {
    "scrolled": true
   },
   "outputs": [],
   "source": [
    "# Comparaison between past and future period\n",
    "changes_past_future_indicator1 = changes_in_indicators(df_1_day_event_past_distribution,df_1_day_event_future_distribution,'Maximum one day rainfall','mm','Extreme rainfall change')\n",
    "changes_past_future_indicator=pd.merge(changes_past_future_indicator, changes_past_future_indicator1, left_index=True, right_index=True, how='outer')\n",
    "changes_past_future_indicator"
   ]
  },
  {
   "cell_type": "markdown",
   "id": "fcc126c6",
   "metadata": {},
   "source": [
    "### 5-day event"
   ]
  },
  {
   "cell_type": "code",
   "execution_count": null,
   "id": "b5e64524",
   "metadata": {},
   "outputs": [],
   "source": [
    "from Functions_Indicators_precipitation import dataframe_n_day_event\n",
    "from Functions_Indicators_precipitation import df_to_csv"
   ]
  },
  {
   "cell_type": "code",
   "execution_count": null,
   "id": "63efad40",
   "metadata": {},
   "outputs": [],
   "source": [
    "# file of 5 day event\n",
    "title_file = 'pr_5_day_event_'+str(start_year_past)+'-'+str(stop_year_future)+'.csv'\n",
    "path_for_csv = os.path.join(out_path,'csv_file','pr_5_day_event')\n",
    "path_to_csv_5_day_event = os.path.join(path_for_csv,title_file)\n",
    "if not os.path.isfile(path_to_csv_5_day_event):\n",
    "    print('The file has not been computed')\n",
    "    df_5_day_event=dataframe_n_day_event(precipitation_2021_2060_copy,5)\n",
    "    # first parameter is a dataframe, second is the number of days\n",
    "    path_to_csv_5_day_event = df_to_csv(path_for_csv,title_file)\n",
    "else:\n",
    "    print('The file has already been computed')\n",
    "    df_5_day_event = pd.read_csv(path_to_csv_5_day_event,header=[0],index_col=[0,1,2,3])\n",
    "df_5_day_event"
   ]
  },
  {
   "cell_type": "code",
   "execution_count": null,
   "id": "f57e73d3",
   "metadata": {},
   "outputs": [],
   "source": [
    "df_5_day_event = df_5_day_event.reset_index()\n",
    "\n",
    "Year = df_5_day_event[['Date']].values.reshape(len(df_5_day_event[['Date']].values),)\n",
    "for i in np.arange(0,len(df_5_day_event[['Date']].values)):\n",
    "    Year[i]=int(Year[i][6:10])\n",
    "\n",
    "df_5_day_event['Year'] = Year\n",
    "df_5_day_event"
   ]
  },
  {
   "cell_type": "code",
   "execution_count": null,
   "id": "3738344e",
   "metadata": {},
   "outputs": [],
   "source": [
    "df_5_day_event = df_5_day_event.groupby(['Name project', 'Experiment','Model','Year']).max().drop(labels='Date',axis=1)\n",
    "df_5_day_event"
   ]
  },
  {
   "cell_type": "code",
   "execution_count": null,
   "id": "41f9d6dc",
   "metadata": {},
   "outputs": [],
   "source": [
    "df_5_day_event_bis = df_5_day_event.reset_index()\n",
    "df_5_day_event_past=df_5_day_event_bis.loc[df_5_day_event_bis['Year'].between(start_year_past,stop_year_past)]\n",
    "df_5_day_event_future=df_5_day_event_bis.loc[df_5_day_event_bis['Year'].between(start_year_future,stop_year_future)]"
   ]
  },
  {
   "cell_type": "code",
   "execution_count": null,
   "id": "b66a8647",
   "metadata": {},
   "outputs": [],
   "source": [
    "df_5_day_event_bis"
   ]
  },
  {
   "cell_type": "code",
   "execution_count": null,
   "id": "d3c44795",
   "metadata": {},
   "outputs": [],
   "source": [
    "df_5_day_event_past"
   ]
  },
  {
   "cell_type": "code",
   "execution_count": null,
   "id": "16172fe9",
   "metadata": {},
   "outputs": [],
   "source": [
    "df_5_day_event_future"
   ]
  },
  {
   "cell_type": "code",
   "execution_count": null,
   "id": "9490a458",
   "metadata": {},
   "outputs": [],
   "source": [
    "NaN_values= df_5_day_event_past.loc[df_5_day_event_past['Maximum 5 days rainfall mm'].isnull()]\n",
    "model_to_delete=list(set(NaN_values['Model'].values))"
   ]
  },
  {
   "cell_type": "code",
   "execution_count": null,
   "id": "28400c6c",
   "metadata": {},
   "outputs": [],
   "source": [
    "df_5_day_event_past.Model"
   ]
  },
  {
   "cell_type": "code",
   "execution_count": null,
   "id": "5777c3e3",
   "metadata": {},
   "outputs": [],
   "source": [
    "# delete Nan Model\n",
    "df_5_day_event_past = df_5_day_event_past[df_5_day_event_past.Model.isin(model_to_delete) == False]\n",
    "df_5_day_event_past"
   ]
  },
  {
   "cell_type": "code",
   "execution_count": null,
   "id": "b5228404",
   "metadata": {},
   "outputs": [],
   "source": [
    "df_5_day_event_past = df_5_day_event_past.groupby(['Name project', 'Experiment','Model','Year']).max()#.drop(labels=['level_0','index'],axis=1)\n",
    "df_5_day_event_future = df_5_day_event_future.groupby(['Name project', 'Experiment','Model','Year']).max()#.drop(labels=['level_0','index'],axis=1)"
   ]
  },
  {
   "cell_type": "code",
   "execution_count": null,
   "id": "f0a8fcea",
   "metadata": {},
   "outputs": [],
   "source": [
    "df_5_day_event_future"
   ]
  },
  {
   "cell_type": "code",
   "execution_count": null,
   "id": "2e578f2a",
   "metadata": {},
   "outputs": [],
   "source": [
    "df_5_day_event_past_distribution = df_5_day_event_past.astype(int).groupby(['Name project']).describe(percentiles=[.1, .5, .9]) # astype(int) necessary to have stats min, max and percentiles\n",
    "df_5_day_event_future_distribution = df_5_day_event_future.astype(int).groupby(['Name project']).describe(percentiles=[.1, .5, .9]) # astype(int) necessary to have stats min, max and percentiles\n",
    "df_5_day_event_future_distribution"
   ]
  },
  {
   "cell_type": "code",
   "execution_count": null,
   "id": "f1df8981",
   "metadata": {},
   "outputs": [],
   "source": [
    "# Comparaison between past and future period\n",
    "changes_past_future_indicator1 = changes_in_indicators(df_5_day_event_past_distribution,df_5_day_event_future_distribution,'Maximum 5 days rainfall','mm','Extreme rainfall change')\n",
    "changes_past_future_indicator=pd.merge(changes_past_future_indicator, changes_past_future_indicator1, left_index=True, right_index=True, how='outer')\n",
    "changes_past_future_indicator"
   ]
  },
  {
   "cell_type": "code",
   "execution_count": null,
   "id": "6ea903d1",
   "metadata": {},
   "outputs": [],
   "source": [
    "changes_past_future_indicator['Extreme rainfall change']"
   ]
  },
  {
   "cell_type": "markdown",
   "id": "a75b07e3",
   "metadata": {},
   "source": [
    "# Exposure level"
   ]
  },
  {
   "cell_type": "code",
   "execution_count": null,
   "id": "aa3a7309",
   "metadata": {},
   "outputs": [],
   "source": [
    "from Functions_Indicators_precipitation import level_exposure\n",
    "# Are project vulnerable ? Exposure level\n",
    "#from Functions_Indicators_precipitation import level_exposure\n",
    "Exposure=level_exposure(changes_past_future_indicator)\n",
    "Exposure"
   ]
  },
  {
   "cell_type": "code",
   "execution_count": null,
   "id": "e25f3b13",
   "metadata": {},
   "outputs": [],
   "source": []
  },
  {
   "cell_type": "code",
   "execution_count": null,
   "id": "efe58c7c",
   "metadata": {},
   "outputs": [],
   "source": []
  },
  {
   "cell_type": "code",
   "execution_count": null,
   "id": "ea691908",
   "metadata": {},
   "outputs": [],
   "source": []
  },
  {
   "cell_type": "code",
   "execution_count": null,
   "id": "9c5885d0",
   "metadata": {},
   "outputs": [],
   "source": []
  },
  {
   "cell_type": "code",
   "execution_count": null,
   "id": "e87d7c0e",
   "metadata": {},
   "outputs": [],
   "source": []
  },
  {
   "cell_type": "code",
   "execution_count": null,
   "id": "d4fe3811",
   "metadata": {},
   "outputs": [],
   "source": []
  },
  {
   "cell_type": "code",
   "execution_count": null,
   "id": "5497b386",
   "metadata": {},
   "outputs": [],
   "source": []
  },
  {
   "cell_type": "code",
   "execution_count": null,
   "id": "447ba9de",
   "metadata": {},
   "outputs": [],
   "source": []
  },
  {
   "cell_type": "code",
   "execution_count": null,
   "id": "aedef50a",
   "metadata": {},
   "outputs": [],
   "source": []
  },
  {
   "cell_type": "code",
   "execution_count": null,
   "id": "6aa2f359",
   "metadata": {},
   "outputs": [],
   "source": []
  },
  {
   "cell_type": "code",
   "execution_count": null,
   "id": "ccc14d72",
   "metadata": {},
   "outputs": [],
   "source": []
  },
  {
   "cell_type": "code",
   "execution_count": null,
   "id": "90a6d35e",
   "metadata": {},
   "outputs": [],
   "source": []
  },
  {
   "cell_type": "code",
   "execution_count": null,
   "id": "a511165d",
   "metadata": {},
   "outputs": [],
   "source": []
  },
  {
   "cell_type": "code",
   "execution_count": null,
   "id": "140fcbf5",
   "metadata": {},
   "outputs": [],
   "source": []
  }
 ],
 "metadata": {
  "kernelspec": {
   "display_name": "Python 3 (ipykernel)",
   "language": "python",
   "name": "python3"
  },
  "language_info": {
   "codemirror_mode": {
    "name": "ipython",
    "version": 3
   },
   "file_extension": ".py",
   "mimetype": "text/x-python",
   "name": "python",
   "nbconvert_exporter": "python",
   "pygments_lexer": "ipython3",
   "version": "3.10.6"
  }
 },
 "nbformat": 4,
 "nbformat_minor": 5
}
