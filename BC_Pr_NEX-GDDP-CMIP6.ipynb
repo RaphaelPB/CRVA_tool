{
 "cells": [
  {
   "cell_type": "markdown",
   "id": "47c62270",
   "metadata": {},
   "source": [
    "This notebook contains the Bias correction over precipitation with the method BcsdPrecipitation(return_anoms=False)"
   ]
  },
  {
   "cell_type": "code",
   "execution_count": 1,
   "id": "36c4adab",
   "metadata": {},
   "outputs": [],
   "source": [
    "# import modules and functions\n",
    "\n",
    "import pandas as pd\n",
    "import numpy as np\n",
    "\n",
    "import matplotlib.pyplot as plt\n",
    "\n",
    "# import data\n",
    "from Functions_ImportData import import_treat_modeled_NEX_GDDP_CMIP6\n",
    "from Functions_ImportData import import_filtered_NOAA_obs\n",
    "from Functions_ImportData import import_treat_obs_NOAA\n",
    "from Functions_ImportData import import_treat_modeled_NEX_GDDP_CMIP6_close_to_stationNOAA\n",
    "from Bias_correction_function import BC\n",
    "from Bias_correction_function import treat_data_for_test\n",
    "from Bias_correction_function import BCSD_Precipitation_return_anoms_to_apply"
   ]
  },
  {
   "cell_type": "code",
   "execution_count": 2,
   "id": "d3f440f3",
   "metadata": {},
   "outputs": [],
   "source": [
    "climate_var = 'pr' # 'tas'\n",
    "unit='mm_per_day'\n",
    "resolution = 'day'\n",
    "\n",
    "start_y = 2030\n",
    "stop_y = 2065\n",
    "# precipitation : 'pr'\n",
    "\n",
    "name_station = 'BEIRA, MZ'\n",
    "name_project = 'WTP_Mutua_EIB'"
   ]
  },
  {
   "cell_type": "code",
   "execution_count": 3,
   "id": "dd9cc4f4",
   "metadata": {},
   "outputs": [],
   "source": [
    "# import observation data\n",
    "data_obs_NOAA_filtered=import_filtered_NOAA_obs()"
   ]
  },
  {
   "cell_type": "code",
   "execution_count": 4,
   "id": "b03f93c8",
   "metadata": {},
   "outputs": [],
   "source": [
    "name_model = 'ACCESS-CM2'"
   ]
  },
  {
   "cell_type": "code",
   "execution_count": null,
   "id": "37eb2861",
   "metadata": {},
   "outputs": [],
   "source": []
  },
  {
   "cell_type": "code",
   "execution_count": 5,
   "id": "f18d7286",
   "metadata": {},
   "outputs": [],
   "source": [
    "# import historic modeled data\n",
    "climate_var_NEX_GDDP_CMIP6_EmplacementStation=import_treat_modeled_NEX_GDDP_CMIP6_close_to_stationNOAA(climate_var, 'mm_per_day')"
   ]
  },
  {
   "cell_type": "code",
   "execution_count": 6,
   "id": "0a7c0b63",
   "metadata": {},
   "outputs": [],
   "source": [
    "# import data to correct\n",
    "climate_var_NEX_GDDP_CMIP6_Project=import_treat_modeled_NEX_GDDP_CMIP6(climate_var,'mm_per_day','day',1950,2100)"
   ]
  },
  {
   "cell_type": "code",
   "execution_count": 7,
   "id": "e14d9870",
   "metadata": {},
   "outputs": [
    {
     "data": {
      "text/html": [
       "<div>\n",
       "<style scoped>\n",
       "    .dataframe tbody tr th:only-of-type {\n",
       "        vertical-align: middle;\n",
       "    }\n",
       "\n",
       "    .dataframe tbody tr th {\n",
       "        vertical-align: top;\n",
       "    }\n",
       "\n",
       "    .dataframe thead th {\n",
       "        text-align: right;\n",
       "    }\n",
       "</style>\n",
       "<table border=\"1\" class=\"dataframe\">\n",
       "  <thead>\n",
       "    <tr style=\"text-align: right;\">\n",
       "      <th></th>\n",
       "      <th>Name project</th>\n",
       "      <th>Experiment</th>\n",
       "      <th>Model</th>\n",
       "      <th>Latitude</th>\n",
       "      <th>Longitude</th>\n",
       "      <th>Date</th>\n",
       "      <th>Mean of the daily precipitation rate mm_per_day</th>\n",
       "      <th>Year</th>\n",
       "      <th>Month</th>\n",
       "      <th>Season</th>\n",
       "    </tr>\n",
       "  </thead>\n",
       "  <tbody>\n",
       "    <tr>\n",
       "      <th>0</th>\n",
       "      <td>WTP_Mutua_EIB</td>\n",
       "      <td>historical</td>\n",
       "      <td>ACCESS-CM2</td>\n",
       "      <td>-19.375</td>\n",
       "      <td>34.625</td>\n",
       "      <td>01-01-1950</td>\n",
       "      <td>0.657509</td>\n",
       "      <td>1950</td>\n",
       "      <td>Jan</td>\n",
       "      <td>Humid</td>\n",
       "    </tr>\n",
       "    <tr>\n",
       "      <th>1</th>\n",
       "      <td>WTP_Mutua_EIB</td>\n",
       "      <td>historical</td>\n",
       "      <td>ACCESS-CM2</td>\n",
       "      <td>-19.375</td>\n",
       "      <td>34.625</td>\n",
       "      <td>02-01-1950</td>\n",
       "      <td>0.442182</td>\n",
       "      <td>1950</td>\n",
       "      <td>Jan</td>\n",
       "      <td>Humid</td>\n",
       "    </tr>\n",
       "    <tr>\n",
       "      <th>2</th>\n",
       "      <td>WTP_Mutua_EIB</td>\n",
       "      <td>historical</td>\n",
       "      <td>ACCESS-CM2</td>\n",
       "      <td>-19.375</td>\n",
       "      <td>34.625</td>\n",
       "      <td>03-01-1950</td>\n",
       "      <td>0.031404</td>\n",
       "      <td>1950</td>\n",
       "      <td>Jan</td>\n",
       "      <td>Humid</td>\n",
       "    </tr>\n",
       "    <tr>\n",
       "      <th>3</th>\n",
       "      <td>WTP_Mutua_EIB</td>\n",
       "      <td>historical</td>\n",
       "      <td>ACCESS-CM2</td>\n",
       "      <td>-19.375</td>\n",
       "      <td>34.625</td>\n",
       "      <td>04-01-1950</td>\n",
       "      <td>15.071664</td>\n",
       "      <td>1950</td>\n",
       "      <td>Jan</td>\n",
       "      <td>Humid</td>\n",
       "    </tr>\n",
       "    <tr>\n",
       "      <th>4</th>\n",
       "      <td>WTP_Mutua_EIB</td>\n",
       "      <td>historical</td>\n",
       "      <td>ACCESS-CM2</td>\n",
       "      <td>-19.375</td>\n",
       "      <td>34.625</td>\n",
       "      <td>05-01-1950</td>\n",
       "      <td>12.865736</td>\n",
       "      <td>1950</td>\n",
       "      <td>Jan</td>\n",
       "      <td>Humid</td>\n",
       "    </tr>\n",
       "    <tr>\n",
       "      <th>...</th>\n",
       "      <td>...</td>\n",
       "      <td>...</td>\n",
       "      <td>...</td>\n",
       "      <td>...</td>\n",
       "      <td>...</td>\n",
       "      <td>...</td>\n",
       "      <td>...</td>\n",
       "      <td>...</td>\n",
       "      <td>...</td>\n",
       "      <td>...</td>\n",
       "    </tr>\n",
       "    <tr>\n",
       "      <th>8963095</th>\n",
       "      <td>Pemba_EIB</td>\n",
       "      <td>ssp370</td>\n",
       "      <td>TaiESM1</td>\n",
       "      <td>-12.875</td>\n",
       "      <td>40.625</td>\n",
       "      <td>27-12-2100</td>\n",
       "      <td>0.286506</td>\n",
       "      <td>2100</td>\n",
       "      <td>Dec</td>\n",
       "      <td>Humid</td>\n",
       "    </tr>\n",
       "    <tr>\n",
       "      <th>8963096</th>\n",
       "      <td>Pemba_EIB</td>\n",
       "      <td>ssp370</td>\n",
       "      <td>TaiESM1</td>\n",
       "      <td>-12.875</td>\n",
       "      <td>40.625</td>\n",
       "      <td>28-12-2100</td>\n",
       "      <td>0.050367</td>\n",
       "      <td>2100</td>\n",
       "      <td>Dec</td>\n",
       "      <td>Humid</td>\n",
       "    </tr>\n",
       "    <tr>\n",
       "      <th>8963097</th>\n",
       "      <td>Pemba_EIB</td>\n",
       "      <td>ssp370</td>\n",
       "      <td>TaiESM1</td>\n",
       "      <td>-12.875</td>\n",
       "      <td>40.625</td>\n",
       "      <td>29-12-2100</td>\n",
       "      <td>0.000000</td>\n",
       "      <td>2100</td>\n",
       "      <td>Dec</td>\n",
       "      <td>Humid</td>\n",
       "    </tr>\n",
       "    <tr>\n",
       "      <th>8963098</th>\n",
       "      <td>Pemba_EIB</td>\n",
       "      <td>ssp370</td>\n",
       "      <td>TaiESM1</td>\n",
       "      <td>-12.875</td>\n",
       "      <td>40.625</td>\n",
       "      <td>30-12-2100</td>\n",
       "      <td>0.581391</td>\n",
       "      <td>2100</td>\n",
       "      <td>Dec</td>\n",
       "      <td>Humid</td>\n",
       "    </tr>\n",
       "    <tr>\n",
       "      <th>8963099</th>\n",
       "      <td>Pemba_EIB</td>\n",
       "      <td>ssp370</td>\n",
       "      <td>TaiESM1</td>\n",
       "      <td>-12.875</td>\n",
       "      <td>40.625</td>\n",
       "      <td>31-12-2100</td>\n",
       "      <td>6.940897</td>\n",
       "      <td>2100</td>\n",
       "      <td>Dec</td>\n",
       "      <td>Humid</td>\n",
       "    </tr>\n",
       "  </tbody>\n",
       "</table>\n",
       "<p>8963100 rows × 10 columns</p>\n",
       "</div>"
      ],
      "text/plain": [
       "          Name project  Experiment       Model  Latitude  Longitude  \\\n",
       "0        WTP_Mutua_EIB  historical  ACCESS-CM2   -19.375     34.625   \n",
       "1        WTP_Mutua_EIB  historical  ACCESS-CM2   -19.375     34.625   \n",
       "2        WTP_Mutua_EIB  historical  ACCESS-CM2   -19.375     34.625   \n",
       "3        WTP_Mutua_EIB  historical  ACCESS-CM2   -19.375     34.625   \n",
       "4        WTP_Mutua_EIB  historical  ACCESS-CM2   -19.375     34.625   \n",
       "...                ...         ...         ...       ...        ...   \n",
       "8963095      Pemba_EIB      ssp370     TaiESM1   -12.875     40.625   \n",
       "8963096      Pemba_EIB      ssp370     TaiESM1   -12.875     40.625   \n",
       "8963097      Pemba_EIB      ssp370     TaiESM1   -12.875     40.625   \n",
       "8963098      Pemba_EIB      ssp370     TaiESM1   -12.875     40.625   \n",
       "8963099      Pemba_EIB      ssp370     TaiESM1   -12.875     40.625   \n",
       "\n",
       "               Date  Mean of the daily precipitation rate mm_per_day  Year  \\\n",
       "0        01-01-1950                                         0.657509  1950   \n",
       "1        02-01-1950                                         0.442182  1950   \n",
       "2        03-01-1950                                         0.031404  1950   \n",
       "3        04-01-1950                                        15.071664  1950   \n",
       "4        05-01-1950                                        12.865736  1950   \n",
       "...             ...                                              ...   ...   \n",
       "8963095  27-12-2100                                         0.286506  2100   \n",
       "8963096  28-12-2100                                         0.050367  2100   \n",
       "8963097  29-12-2100                                         0.000000  2100   \n",
       "8963098  30-12-2100                                         0.581391  2100   \n",
       "8963099  31-12-2100                                         6.940897  2100   \n",
       "\n",
       "        Month Season  \n",
       "0         Jan  Humid  \n",
       "1         Jan  Humid  \n",
       "2         Jan  Humid  \n",
       "3         Jan  Humid  \n",
       "4         Jan  Humid  \n",
       "...       ...    ...  \n",
       "8963095   Dec  Humid  \n",
       "8963096   Dec  Humid  \n",
       "8963097   Dec  Humid  \n",
       "8963098   Dec  Humid  \n",
       "8963099   Dec  Humid  \n",
       "\n",
       "[8963100 rows x 10 columns]"
      ]
     },
     "execution_count": 7,
     "metadata": {},
     "output_type": "execute_result"
    }
   ],
   "source": [
    "climate_var_NEX_GDDP_CMIP6_Project"
   ]
  },
  {
   "cell_type": "code",
   "execution_count": 8,
   "id": "cffb6723",
   "metadata": {},
   "outputs": [],
   "source": [
    "climate_var_NEX_GDDP_CMIP6_Project_to_correct=climate_var_NEX_GDDP_CMIP6_Project[climate_var_NEX_GDDP_CMIP6_Project['Year'].between(2030,2064)]"
   ]
  },
  {
   "cell_type": "code",
   "execution_count": 9,
   "id": "7cc7264a",
   "metadata": {},
   "outputs": [],
   "source": [
    "list_model=list(set(climate_var_NEX_GDDP_CMIP6_Project_to_correct['Model']))#.remove('NESM3')\n",
    "list_model.remove('NESM3')"
   ]
  },
  {
   "cell_type": "code",
   "execution_count": 10,
   "id": "afed00c4",
   "metadata": {},
   "outputs": [
    {
     "name": "stdout",
     "output_type": "stream",
     "text": [
      "For Chimoio_WTP_EIB, ssp370 and TaiESM1\n"
     ]
    },
    {
     "ename": "NameError",
     "evalue": "name 'df_pr' is not defined",
     "output_type": "error",
     "traceback": [
      "\u001b[1;31m---------------------------------------------------------------------------\u001b[0m",
      "\u001b[1;31mNameError\u001b[0m                                 Traceback (most recent call last)",
      "Cell \u001b[1;32mIn[10], line 9\u001b[0m\n\u001b[0;32m      7\u001b[0m \u001b[38;5;28mprint\u001b[39m(\u001b[38;5;124m'\u001b[39m\u001b[38;5;124mFor \u001b[39m\u001b[38;5;124m'\u001b[39m\u001b[38;5;241m+\u001b[39mname_project\u001b[38;5;241m+\u001b[39m\u001b[38;5;124m'\u001b[39m\u001b[38;5;124m, \u001b[39m\u001b[38;5;124m'\u001b[39m\u001b[38;5;241m+\u001b[39mscenario\u001b[38;5;241m+\u001b[39m\u001b[38;5;124m'\u001b[39m\u001b[38;5;124m and \u001b[39m\u001b[38;5;124m'\u001b[39m\u001b[38;5;241m+\u001b[39mmodel)\n\u001b[0;32m      8\u001b[0m climate_var_NEX_GDDP_CMIP6_Project_temp_3\u001b[38;5;241m=\u001b[39mclimate_var_NEX_GDDP_CMIP6_Project_temp_2[climate_var_NEX_GDDP_CMIP6_Project_temp_2[\u001b[38;5;124m'\u001b[39m\u001b[38;5;124mModel\u001b[39m\u001b[38;5;124m'\u001b[39m]\u001b[38;5;241m==\u001b[39mmodel]\n\u001b[1;32m----> 9\u001b[0m (X_pcp,y_pcp,out)\u001b[38;5;241m=\u001b[39mBCSD_Precipitation_return_anoms_to_apply(\u001b[43mdf_pr\u001b[49m,climate_var_NEX_GDDP_CMIP6_Project_temp_3[[\u001b[38;5;124m'\u001b[39m\u001b[38;5;124mDate\u001b[39m\u001b[38;5;124m'\u001b[39m,\u001b[38;5;124m'\u001b[39m\u001b[38;5;124mMean of the daily precipitation rate mm_per_day\u001b[39m\u001b[38;5;124m'\u001b[39m]]\u001b[38;5;241m.\u001b[39mdropna()\u001b[38;5;241m.\u001b[39mreset_index(drop\u001b[38;5;241m=\u001b[39m\u001b[38;5;28;01mTrue\u001b[39;00m))\n\u001b[0;32m     10\u001b[0m out \u001b[38;5;241m=\u001b[39m out\u001b[38;5;241m.\u001b[39mreset_index()\n\u001b[0;32m     11\u001b[0m out[\u001b[38;5;124m'\u001b[39m\u001b[38;5;124mName project\u001b[39m\u001b[38;5;124m'\u001b[39m]\u001b[38;5;241m=\u001b[39mname_project\n",
      "\u001b[1;31mNameError\u001b[0m: name 'df_pr' is not defined"
     ]
    }
   ],
   "source": [
    "df_pr_bc_corrected=pd.DataFrame()\n",
    "for name_project in list(set(climate_var_NEX_GDDP_CMIP6_Project_to_correct['Name project'])):\n",
    "    climate_var_NEX_GDDP_CMIP6_Project_temp=climate_var_NEX_GDDP_CMIP6_Project_to_correct[climate_var_NEX_GDDP_CMIP6_Project_to_correct['Name project']==name_project]\n",
    "    for scenario in list(set(climate_var_NEX_GDDP_CMIP6_Project_to_correct['Experiment'])):\n",
    "        climate_var_NEX_GDDP_CMIP6_Project_temp_2=climate_var_NEX_GDDP_CMIP6_Project_temp[climate_var_NEX_GDDP_CMIP6_Project_temp['Experiment']==scenario]\n",
    "        for model in list_model:\n",
    "            print('For '+name_project+', '+scenario+' and '+model)\n",
    "            climate_var_NEX_GDDP_CMIP6_Project_temp_3=climate_var_NEX_GDDP_CMIP6_Project_temp_2[climate_var_NEX_GDDP_CMIP6_Project_temp_2['Model']==model]\n",
    "            (X_pcp,y_pcp,out)=BCSD_Precipitation_return_anoms_to_apply(df_pr,climate_var_NEX_GDDP_CMIP6_Project_temp_3[['Date','Mean of the daily precipitation rate mm_per_day']].dropna().reset_index(drop=True))\n",
    "            out = out.reset_index()\n",
    "            out['Name project']=name_project\n",
    "            out['Experiment']=scenario\n",
    "            out['Model']=model\n",
    "            df_pr_bc_corrected=pd.concat([df_pr_bc_corrected,out])"
   ]
  },
  {
   "cell_type": "code",
   "execution_count": null,
   "id": "94755d8e",
   "metadata": {},
   "outputs": [],
   "source": [
    "df_pr_bc_corrected"
   ]
  },
  {
   "cell_type": "code",
   "execution_count": null,
   "id": "32c219b9",
   "metadata": {},
   "outputs": [],
   "source": []
  },
  {
   "cell_type": "code",
   "execution_count": null,
   "id": "770c4666",
   "metadata": {},
   "outputs": [],
   "source": [
    "path = r'\\\\COWI.net\\projects\\A245000\\A248363\\CRVA\\Datasets\\NEX-GDDP-CMIP6-AllMoz\\csv_file'"
   ]
  },
  {
   "cell_type": "code",
   "execution_count": null,
   "id": "f8f9952b",
   "metadata": {},
   "outputs": [],
   "source": []
  },
  {
   "cell_type": "code",
   "execution_count": null,
   "id": "464d0acc",
   "metadata": {},
   "outputs": [],
   "source": [
    "df.to_csv(os.path.join(path,climate_var,climate_var+'_'+unit+'_'+resolution+'_'+str(start_y)+'-'+str(stop_y)+'_BiasCorrected',climate_var+'_'+'mm_per_day'+resolution+str(start_y)+'-'+str(stop_y)+'_BiasCorrected.csv'))"
   ]
  },
  {
   "cell_type": "code",
   "execution_count": null,
   "id": "5c83a866",
   "metadata": {},
   "outputs": [],
   "source": []
  }
 ],
 "metadata": {
  "kernelspec": {
   "display_name": "Python 3 (ipykernel)",
   "language": "python",
   "name": "python3"
  },
  "language_info": {
   "codemirror_mode": {
    "name": "ipython",
    "version": 3
   },
   "file_extension": ".py",
   "mimetype": "text/x-python",
   "name": "python",
   "nbconvert_exporter": "python",
   "pygments_lexer": "ipython3",
   "version": "3.10.6"
  }
 },
 "nbformat": 4,
 "nbformat_minor": 5
}
