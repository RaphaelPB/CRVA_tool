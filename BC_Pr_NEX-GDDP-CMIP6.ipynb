{
 "cells": [
  {
   "cell_type": "markdown",
   "id": "9ed4bcbb",
   "metadata": {},
   "source": [
    "This notebook contains the Bias correction over precipitation with the method BcsdPrecipitation(return_anoms=False)"
   ]
  },
  {
   "cell_type": "code",
   "execution_count": null,
   "id": "ba3d1573",
   "metadata": {},
   "outputs": [],
   "source": [
    "# import modules and functions\n",
    "\n",
    "import pandas as pd\n",
    "import numpy as np\n",
    "\n",
    "import matplotlib.pyplot as plt\n",
    "\n",
    "# import data\n",
    "from Functions_ImportData import import_treat_modeled_NEX_GDDP_CMIP6\n",
    "from Functions_ImportData import import_filtered_NOAA_obs\n",
    "from Functions_ImportData import import_treat_obs_NOAA\n",
    "from Functions_ImportData import import_treat_modeled_NEX_GDDP_CMIP6_close_to_stationNOAA\n",
    "from Bias_correction_function import BC\n",
    "from Bias_correction_function import treat_data_for_test\n",
    "from Bias_correction_function import BCSD_Precipitation_return_anoms_to_apply\n",
    "from Functions_Indicators import add_year_month_season"
   ]
  },
  {
   "cell_type": "code",
   "execution_count": null,
   "id": "1dd17700",
   "metadata": {},
   "outputs": [],
   "source": [
    "climate_var = 'pr' # 'tas'\n",
    "unit='mm_per_day'\n",
    "resolution = 'day'\n",
    "\n",
    "start_y = 2030\n",
    "stop_y = 2065\n",
    "# precipitation : 'pr'\n",
    "\n",
    "name_station = 'BEIRA, MZ'\n",
    "name_project = 'WTP_Mutua_EIB'"
   ]
  },
  {
   "cell_type": "code",
   "execution_count": null,
   "id": "8314dd51",
   "metadata": {},
   "outputs": [],
   "source": [
    "# import observation data\n",
    "data_obs_NOAA_filtered=import_filtered_NOAA_obs()"
   ]
  },
  {
   "cell_type": "code",
   "execution_count": null,
   "id": "e2ac54d5",
   "metadata": {},
   "outputs": [],
   "source": []
  },
  {
   "cell_type": "code",
   "execution_count": null,
   "id": "d9900f40",
   "metadata": {},
   "outputs": [],
   "source": [
    "# import historic modeled data\n",
    "climate_var_NEX_GDDP_CMIP6_EmplacementStation=import_treat_modeled_NEX_GDDP_CMIP6_close_to_stationNOAA(climate_var, 'mm_per_day')"
   ]
  },
  {
   "cell_type": "code",
   "execution_count": null,
   "id": "13a01365",
   "metadata": {},
   "outputs": [],
   "source": [
    "# import data to correct\n",
    "climate_var_NEX_GDDP_CMIP6_Project=import_treat_modeled_NEX_GDDP_CMIP6(climate_var,'mm_per_day','day',1950,2100)"
   ]
  },
  {
   "cell_type": "code",
   "execution_count": null,
   "id": "7031018e",
   "metadata": {},
   "outputs": [],
   "source": [
    "climate_var_NEX_GDDP_CMIP6_Project"
   ]
  },
  {
   "cell_type": "code",
   "execution_count": null,
   "id": "3e514dd9",
   "metadata": {},
   "outputs": [],
   "source": [
    "climate_var_NEX_GDDP_CMIP6_Project_to_correct=climate_var_NEX_GDDP_CMIP6_Project[climate_var_NEX_GDDP_CMIP6_Project['Year'].between(start_y,stop_y)]"
   ]
  },
  {
   "cell_type": "code",
   "execution_count": null,
   "id": "b719cafe",
   "metadata": {},
   "outputs": [],
   "source": [
    "list_model=list(set(climate_var_NEX_GDDP_CMIP6_Project_to_correct['Model']))#.remove('NESM3')\n",
    "list_model.remove('NESM3')"
   ]
  },
  {
   "cell_type": "code",
   "execution_count": null,
   "id": "57a35b5b",
   "metadata": {},
   "outputs": [],
   "source": [
    "df_pr_bc_corrected=pd.DataFrame()\n",
    "for name_project in list(set(climate_var_NEX_GDDP_CMIP6_Project_to_correct['Name project'])):\n",
    "    climate_var_NEX_GDDP_CMIP6_Project_temp=climate_var_NEX_GDDP_CMIP6_Project_to_correct[climate_var_NEX_GDDP_CMIP6_Project_to_correct['Name project']==name_project]\n",
    "    for scenario in list(set(climate_var_NEX_GDDP_CMIP6_Project_to_correct['Experiment'])):\n",
    "        climate_var_NEX_GDDP_CMIP6_Project_temp_2=climate_var_NEX_GDDP_CMIP6_Project_temp[climate_var_NEX_GDDP_CMIP6_Project_temp['Experiment']==scenario]\n",
    "        for model in list_model:\n",
    "            print('For '+name_project+', '+scenario+' and '+model)\n",
    "            climate_var_NEX_GDDP_CMIP6_Project_temp_3=climate_var_NEX_GDDP_CMIP6_Project_temp_2[climate_var_NEX_GDDP_CMIP6_Project_temp_2['Model']==model]\n",
    "            df_pr = treat_data_for_test(data_obs_NOAA_filtered,'PRCP',climate_var_NEX_GDDP_CMIP6_EmplacementStation,'Mean of the daily precipitation rate mm/day','BEIRA, MZ',model)\n",
    "            (X_pcp,y_pcp,out)=BCSD_Precipitation_return_anoms_to_apply(df_pr,climate_var_NEX_GDDP_CMIP6_Project_temp_3[['Date','Mean of the daily precipitation rate mm_per_day']].dropna().reset_index(drop=True))\n",
    "            out = out.reset_index()\n",
    "            out['Name project']=name_project\n",
    "            out['Experiment']=scenario\n",
    "            out['Model']=model\n",
    "            df_pr_bc_corrected=pd.concat([df_pr_bc_corrected,out])"
   ]
  },
  {
   "cell_type": "code",
   "execution_count": null,
   "id": "2942adef",
   "metadata": {},
   "outputs": [],
   "source": [
    "#df_pr_bc_corrected[['Date']].iloc[1000][0].strftime('%Y-%m-%d')"
   ]
  },
  {
   "cell_type": "code",
   "execution_count": null,
   "id": "fcee11dc",
   "metadata": {},
   "outputs": [],
   "source": [
    "#df_pr_bc_corrected[['Date']].iloc[1000][0]"
   ]
  },
  {
   "cell_type": "code",
   "execution_count": null,
   "id": "b2f891df",
   "metadata": {},
   "outputs": [],
   "source": [
    "#len(df_pr_bc_corrected[['Date']])"
   ]
  },
  {
   "cell_type": "code",
   "execution_count": null,
   "id": "c1fcb889",
   "metadata": {},
   "outputs": [],
   "source": [
    "# convert date in str format"
   ]
  },
  {
   "cell_type": "code",
   "execution_count": null,
   "id": "bbaf3bb7",
   "metadata": {},
   "outputs": [],
   "source": [
    "for date in np.arange(0,len(df_pr_bc_corrected[['Date']])):\n",
    "    df_pr_bc_corrected[['Date']].iloc[date][0]=df_pr_bc_corrected[['Date']].iloc[date][0].strftime('%Y-%m-%d')"
   ]
  },
  {
   "cell_type": "code",
   "execution_count": null,
   "id": "f1b75736",
   "metadata": {},
   "outputs": [],
   "source": []
  },
  {
   "cell_type": "code",
   "execution_count": null,
   "id": "3dbf5112",
   "metadata": {},
   "outputs": [],
   "source": []
  },
  {
   "cell_type": "code",
   "execution_count": null,
   "id": "2749fddb",
   "metadata": {},
   "outputs": [],
   "source": [
    "df_pr_bc_corrected = add_year_month_season(df_pr_bc_corrected,'Date')"
   ]
  },
  {
   "cell_type": "code",
   "execution_count": null,
   "id": "4da7a1f2",
   "metadata": {},
   "outputs": [],
   "source": [
    "df_pr_bc_corrected"
   ]
  },
  {
   "cell_type": "code",
   "execution_count": null,
   "id": "a951ff41",
   "metadata": {},
   "outputs": [],
   "source": [
    "path = r'\\\\COWI.net\\projects\\A245000\\A248363\\CRVA\\Datasets\\NEX-GDDP-CMIP6-AllMoz\\csv_file'"
   ]
  },
  {
   "cell_type": "code",
   "execution_count": null,
   "id": "03a86e32",
   "metadata": {},
   "outputs": [],
   "source": []
  },
  {
   "cell_type": "code",
   "execution_count": null,
   "id": "f2f99706",
   "metadata": {},
   "outputs": [],
   "source": [
    "df_pr_bc_corrected.to_csv(os.path.join(path,climate_var,climate_var+'_'+unit+'_'+resolution+'_'+str(start_y)+'-'+str(stop_y)+'_BiasCorrected',climate_var+'_'+'mm_per_day'+resolution+str(start_y)+'-'+str(stop_y)+'_BiasCorrected.csv'))"
   ]
  },
  {
   "cell_type": "code",
   "execution_count": null,
   "id": "d6f03705",
   "metadata": {},
   "outputs": [],
   "source": []
  }
 ],
 "metadata": {
  "kernelspec": {
   "display_name": "Python 3 (ipykernel)",
   "language": "python",
   "name": "python3"
  },
  "language_info": {
   "codemirror_mode": {
    "name": "ipython",
    "version": 3
   },
   "file_extension": ".py",
   "mimetype": "text/x-python",
   "name": "python",
   "nbconvert_exporter": "python",
   "pygments_lexer": "ipython3",
   "version": "3.10.6"
  }
 },
 "nbformat": 4,
 "nbformat_minor": 5
}
