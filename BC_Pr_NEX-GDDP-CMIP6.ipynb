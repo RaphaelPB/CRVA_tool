{
 "cells": [
  {
   "cell_type": "markdown",
   "id": "e8343075",
   "metadata": {},
   "source": [
    "This notebook contains the Bias correction over precipitation with the method BcsdPrecipitation(return_anoms=False)"
   ]
  },
  {
   "cell_type": "code",
   "execution_count": 2,
   "id": "db10a2ca",
   "metadata": {},
   "outputs": [],
   "source": [
    "# import modules and functions\n",
    "\n",
    "import pandas as pd\n",
    "import numpy as np\n",
    "\n",
    "import matplotlib.pyplot as plt\n",
    "\n",
    "# import data\n",
    "from Functions_ImportData import import_treat_modeled_NEX_GDDP_CMIP6\n",
    "from Functions_ImportData import import_filtered_NOAA_obs\n",
    "from Functions_ImportData import import_treat_obs_NOAA\n",
    "from Functions_ImportData import import_treat_modeled_NEX_GDDP_CMIP6_close_to_stationNOAA\n",
    "from Bias_correction_function import BC\n",
    "from Bias_correction_function import treat_data_for_test\n",
    "from Bias_correction_function import BCSD_Precipitation_return_anoms_to_apply\n",
    "from Functions_Indicators import add_year_month_season"
   ]
  },
  {
   "cell_type": "code",
   "execution_count": 3,
   "id": "b7ffcc2b",
   "metadata": {},
   "outputs": [],
   "source": [
    "climate_var = 'pr' # 'tas'\n",
    "unit='mm_per_day'\n",
    "resolution = 'day'\n",
    "\n",
    "start_y = 2030\n",
    "stop_y = 2065\n",
    "# precipitation : 'pr'\n",
    "\n",
    "name_station = 'BEIRA, MZ'\n",
    "name_project = 'WTP_Mutua_EIB'"
   ]
  },
  {
   "cell_type": "code",
   "execution_count": 4,
   "id": "428acdf9",
   "metadata": {},
   "outputs": [],
   "source": [
    "# import observation data\n",
    "data_obs_NOAA_filtered=import_filtered_NOAA_obs()"
   ]
  },
  {
   "cell_type": "code",
   "execution_count": 8,
   "id": "5341cc8f",
   "metadata": {},
   "outputs": [],
   "source": [
    "# import historic modeled data\n",
    "climate_var_NEX_GDDP_CMIP6_EmplacementStation=import_treat_modeled_NEX_GDDP_CMIP6_close_to_stationNOAA(climate_var, unit)"
   ]
  },
  {
   "cell_type": "code",
   "execution_count": 9,
   "id": "c89f9d67",
   "metadata": {},
   "outputs": [],
   "source": [
    "# import data to correct\n",
    "climate_var_NEX_GDDP_CMIP6_Project=import_treat_modeled_NEX_GDDP_CMIP6(climate_var,'mm_per_day','day',1950,2100)"
   ]
  },
  {
   "cell_type": "code",
   "execution_count": 10,
   "id": "bfccd5f9",
   "metadata": {},
   "outputs": [
    {
     "data": {
      "text/html": [
       "<div>\n",
       "<style scoped>\n",
       "    .dataframe tbody tr th:only-of-type {\n",
       "        vertical-align: middle;\n",
       "    }\n",
       "\n",
       "    .dataframe tbody tr th {\n",
       "        vertical-align: top;\n",
       "    }\n",
       "\n",
       "    .dataframe thead th {\n",
       "        text-align: right;\n",
       "    }\n",
       "</style>\n",
       "<table border=\"1\" class=\"dataframe\">\n",
       "  <thead>\n",
       "    <tr style=\"text-align: right;\">\n",
       "      <th></th>\n",
       "      <th>Name project</th>\n",
       "      <th>Experiment</th>\n",
       "      <th>Model</th>\n",
       "      <th>Latitude</th>\n",
       "      <th>Longitude</th>\n",
       "      <th>Date</th>\n",
       "      <th>Mean of the daily precipitation rate mm_per_day</th>\n",
       "      <th>Year</th>\n",
       "      <th>Month</th>\n",
       "      <th>Season</th>\n",
       "    </tr>\n",
       "  </thead>\n",
       "  <tbody>\n",
       "    <tr>\n",
       "      <th>0</th>\n",
       "      <td>WTP_Mutua_EIB</td>\n",
       "      <td>historical</td>\n",
       "      <td>ACCESS-CM2</td>\n",
       "      <td>-19.375</td>\n",
       "      <td>34.625</td>\n",
       "      <td>01-01-1950</td>\n",
       "      <td>0.657509</td>\n",
       "      <td>1950</td>\n",
       "      <td>Jan</td>\n",
       "      <td>Humid</td>\n",
       "    </tr>\n",
       "    <tr>\n",
       "      <th>1</th>\n",
       "      <td>WTP_Mutua_EIB</td>\n",
       "      <td>historical</td>\n",
       "      <td>ACCESS-CM2</td>\n",
       "      <td>-19.375</td>\n",
       "      <td>34.625</td>\n",
       "      <td>02-01-1950</td>\n",
       "      <td>0.442182</td>\n",
       "      <td>1950</td>\n",
       "      <td>Jan</td>\n",
       "      <td>Humid</td>\n",
       "    </tr>\n",
       "    <tr>\n",
       "      <th>2</th>\n",
       "      <td>WTP_Mutua_EIB</td>\n",
       "      <td>historical</td>\n",
       "      <td>ACCESS-CM2</td>\n",
       "      <td>-19.375</td>\n",
       "      <td>34.625</td>\n",
       "      <td>03-01-1950</td>\n",
       "      <td>0.031404</td>\n",
       "      <td>1950</td>\n",
       "      <td>Jan</td>\n",
       "      <td>Humid</td>\n",
       "    </tr>\n",
       "    <tr>\n",
       "      <th>3</th>\n",
       "      <td>WTP_Mutua_EIB</td>\n",
       "      <td>historical</td>\n",
       "      <td>ACCESS-CM2</td>\n",
       "      <td>-19.375</td>\n",
       "      <td>34.625</td>\n",
       "      <td>04-01-1950</td>\n",
       "      <td>15.071664</td>\n",
       "      <td>1950</td>\n",
       "      <td>Jan</td>\n",
       "      <td>Humid</td>\n",
       "    </tr>\n",
       "    <tr>\n",
       "      <th>4</th>\n",
       "      <td>WTP_Mutua_EIB</td>\n",
       "      <td>historical</td>\n",
       "      <td>ACCESS-CM2</td>\n",
       "      <td>-19.375</td>\n",
       "      <td>34.625</td>\n",
       "      <td>05-01-1950</td>\n",
       "      <td>12.865736</td>\n",
       "      <td>1950</td>\n",
       "      <td>Jan</td>\n",
       "      <td>Humid</td>\n",
       "    </tr>\n",
       "    <tr>\n",
       "      <th>...</th>\n",
       "      <td>...</td>\n",
       "      <td>...</td>\n",
       "      <td>...</td>\n",
       "      <td>...</td>\n",
       "      <td>...</td>\n",
       "      <td>...</td>\n",
       "      <td>...</td>\n",
       "      <td>...</td>\n",
       "      <td>...</td>\n",
       "      <td>...</td>\n",
       "    </tr>\n",
       "    <tr>\n",
       "      <th>8963095</th>\n",
       "      <td>Pemba_EIB</td>\n",
       "      <td>ssp370</td>\n",
       "      <td>TaiESM1</td>\n",
       "      <td>-12.875</td>\n",
       "      <td>40.625</td>\n",
       "      <td>27-12-2100</td>\n",
       "      <td>0.286506</td>\n",
       "      <td>2100</td>\n",
       "      <td>Dec</td>\n",
       "      <td>Humid</td>\n",
       "    </tr>\n",
       "    <tr>\n",
       "      <th>8963096</th>\n",
       "      <td>Pemba_EIB</td>\n",
       "      <td>ssp370</td>\n",
       "      <td>TaiESM1</td>\n",
       "      <td>-12.875</td>\n",
       "      <td>40.625</td>\n",
       "      <td>28-12-2100</td>\n",
       "      <td>0.050367</td>\n",
       "      <td>2100</td>\n",
       "      <td>Dec</td>\n",
       "      <td>Humid</td>\n",
       "    </tr>\n",
       "    <tr>\n",
       "      <th>8963097</th>\n",
       "      <td>Pemba_EIB</td>\n",
       "      <td>ssp370</td>\n",
       "      <td>TaiESM1</td>\n",
       "      <td>-12.875</td>\n",
       "      <td>40.625</td>\n",
       "      <td>29-12-2100</td>\n",
       "      <td>0.000000</td>\n",
       "      <td>2100</td>\n",
       "      <td>Dec</td>\n",
       "      <td>Humid</td>\n",
       "    </tr>\n",
       "    <tr>\n",
       "      <th>8963098</th>\n",
       "      <td>Pemba_EIB</td>\n",
       "      <td>ssp370</td>\n",
       "      <td>TaiESM1</td>\n",
       "      <td>-12.875</td>\n",
       "      <td>40.625</td>\n",
       "      <td>30-12-2100</td>\n",
       "      <td>0.581391</td>\n",
       "      <td>2100</td>\n",
       "      <td>Dec</td>\n",
       "      <td>Humid</td>\n",
       "    </tr>\n",
       "    <tr>\n",
       "      <th>8963099</th>\n",
       "      <td>Pemba_EIB</td>\n",
       "      <td>ssp370</td>\n",
       "      <td>TaiESM1</td>\n",
       "      <td>-12.875</td>\n",
       "      <td>40.625</td>\n",
       "      <td>31-12-2100</td>\n",
       "      <td>6.940897</td>\n",
       "      <td>2100</td>\n",
       "      <td>Dec</td>\n",
       "      <td>Humid</td>\n",
       "    </tr>\n",
       "  </tbody>\n",
       "</table>\n",
       "<p>8963100 rows × 10 columns</p>\n",
       "</div>"
      ],
      "text/plain": [
       "          Name project  Experiment       Model  Latitude  Longitude  \\\n",
       "0        WTP_Mutua_EIB  historical  ACCESS-CM2   -19.375     34.625   \n",
       "1        WTP_Mutua_EIB  historical  ACCESS-CM2   -19.375     34.625   \n",
       "2        WTP_Mutua_EIB  historical  ACCESS-CM2   -19.375     34.625   \n",
       "3        WTP_Mutua_EIB  historical  ACCESS-CM2   -19.375     34.625   \n",
       "4        WTP_Mutua_EIB  historical  ACCESS-CM2   -19.375     34.625   \n",
       "...                ...         ...         ...       ...        ...   \n",
       "8963095      Pemba_EIB      ssp370     TaiESM1   -12.875     40.625   \n",
       "8963096      Pemba_EIB      ssp370     TaiESM1   -12.875     40.625   \n",
       "8963097      Pemba_EIB      ssp370     TaiESM1   -12.875     40.625   \n",
       "8963098      Pemba_EIB      ssp370     TaiESM1   -12.875     40.625   \n",
       "8963099      Pemba_EIB      ssp370     TaiESM1   -12.875     40.625   \n",
       "\n",
       "               Date  Mean of the daily precipitation rate mm_per_day  Year  \\\n",
       "0        01-01-1950                                         0.657509  1950   \n",
       "1        02-01-1950                                         0.442182  1950   \n",
       "2        03-01-1950                                         0.031404  1950   \n",
       "3        04-01-1950                                        15.071664  1950   \n",
       "4        05-01-1950                                        12.865736  1950   \n",
       "...             ...                                              ...   ...   \n",
       "8963095  27-12-2100                                         0.286506  2100   \n",
       "8963096  28-12-2100                                         0.050367  2100   \n",
       "8963097  29-12-2100                                         0.000000  2100   \n",
       "8963098  30-12-2100                                         0.581391  2100   \n",
       "8963099  31-12-2100                                         6.940897  2100   \n",
       "\n",
       "        Month Season  \n",
       "0         Jan  Humid  \n",
       "1         Jan  Humid  \n",
       "2         Jan  Humid  \n",
       "3         Jan  Humid  \n",
       "4         Jan  Humid  \n",
       "...       ...    ...  \n",
       "8963095   Dec  Humid  \n",
       "8963096   Dec  Humid  \n",
       "8963097   Dec  Humid  \n",
       "8963098   Dec  Humid  \n",
       "8963099   Dec  Humid  \n",
       "\n",
       "[8963100 rows x 10 columns]"
      ]
     },
     "execution_count": 10,
     "metadata": {},
     "output_type": "execute_result"
    }
   ],
   "source": [
    "climate_var_NEX_GDDP_CMIP6_Project"
   ]
  },
  {
   "cell_type": "code",
   "execution_count": 11,
   "id": "f079c85a",
   "metadata": {},
   "outputs": [],
   "source": [
    "climate_var_NEX_GDDP_CMIP6_Project_to_correct=climate_var_NEX_GDDP_CMIP6_Project[climate_var_NEX_GDDP_CMIP6_Project['Year'].between(start_y,stop_y)]"
   ]
  },
  {
   "cell_type": "code",
   "execution_count": 12,
   "id": "521104de",
   "metadata": {},
   "outputs": [],
   "source": [
    "list_model=list(set(climate_var_NEX_GDDP_CMIP6_Project_to_correct['Model']))#.remove('NESM3')\n",
    "list_model.remove('NESM3')"
   ]
  },
  {
   "cell_type": "code",
   "execution_count": 37,
   "id": "949f060b",
   "metadata": {},
   "outputs": [
    {
     "name": "stdout",
     "output_type": "stream",
     "text": [
      "For Chimoio_WTP_EIB, ssp126 and ACCESS-CM2\n",
      "For Chimoio_WTP_EIB, ssp126 and TaiESM1\n",
      "For Chimoio_WTP_EIB, ssp126 and NorESM2-MM\n",
      "For Chimoio_WTP_EIB, ssp126 and CMCC-CM2-SR5\n",
      "For Chimoio_WTP_EIB, ssp126 and MPI-ESM1-2-LR\n",
      "For Chimoio_WTP_EIB, ssp126 and NorESM2-LM\n",
      "For Chimoio_WTP_EIB, ssp126 and MPI-ESM1-2-HR\n",
      "For Chimoio_WTP_EIB, ssp126 and MIROC6\n",
      "For Chimoio_WTP_EIB, ssp126 and CanESM5\n",
      "For Chimoio_WTP_EIB, ssp126 and ACCESS-ESM1-5\n",
      "For Chimoio_WTP_EIB, ssp126 and BCC-CSM2-MR\n",
      "For Chimoio_WTP_EIB, ssp126 and CMCC-ESM2\n",
      "For Chimoio_WTP_EIB, ssp126 and IITM-ESM\n",
      "For Chimoio_WTP_EIB, ssp126 and MRI-ESM2-0\n",
      "For Chimoio_WTP_EIB, ssp370 and ACCESS-CM2\n",
      "For Chimoio_WTP_EIB, ssp370 and TaiESM1\n",
      "For Chimoio_WTP_EIB, ssp370 and NorESM2-MM\n",
      "For Chimoio_WTP_EIB, ssp370 and CMCC-CM2-SR5\n",
      "For Chimoio_WTP_EIB, ssp370 and MPI-ESM1-2-LR\n",
      "For Chimoio_WTP_EIB, ssp370 and NorESM2-LM\n",
      "For Chimoio_WTP_EIB, ssp370 and MPI-ESM1-2-HR\n",
      "For Chimoio_WTP_EIB, ssp370 and MIROC6\n",
      "For Chimoio_WTP_EIB, ssp370 and CanESM5\n",
      "For Chimoio_WTP_EIB, ssp370 and ACCESS-ESM1-5\n",
      "For Chimoio_WTP_EIB, ssp370 and BCC-CSM2-MR\n",
      "For Chimoio_WTP_EIB, ssp370 and CMCC-ESM2\n",
      "For Chimoio_WTP_EIB, ssp370 and IITM-ESM\n",
      "For Chimoio_WTP_EIB, ssp370 and MRI-ESM2-0\n",
      "For Chimoio_WTP_EIB, ssp585 and ACCESS-CM2\n",
      "For Chimoio_WTP_EIB, ssp585 and TaiESM1\n",
      "For Chimoio_WTP_EIB, ssp585 and NorESM2-MM\n",
      "For Chimoio_WTP_EIB, ssp585 and CMCC-CM2-SR5\n",
      "For Chimoio_WTP_EIB, ssp585 and MPI-ESM1-2-LR\n",
      "For Chimoio_WTP_EIB, ssp585 and NorESM2-LM\n",
      "For Chimoio_WTP_EIB, ssp585 and MPI-ESM1-2-HR\n",
      "For Chimoio_WTP_EIB, ssp585 and MIROC6\n",
      "For Chimoio_WTP_EIB, ssp585 and CanESM5\n",
      "For Chimoio_WTP_EIB, ssp585 and ACCESS-ESM1-5\n",
      "For Chimoio_WTP_EIB, ssp585 and BCC-CSM2-MR\n",
      "For Chimoio_WTP_EIB, ssp585 and CMCC-ESM2\n",
      "For Chimoio_WTP_EIB, ssp585 and IITM-ESM\n",
      "For Chimoio_WTP_EIB, ssp585 and MRI-ESM2-0\n",
      "For Chimoio_WTP_EIB, ssp245 and ACCESS-CM2\n",
      "For Chimoio_WTP_EIB, ssp245 and TaiESM1\n",
      "For Chimoio_WTP_EIB, ssp245 and NorESM2-MM\n",
      "For Chimoio_WTP_EIB, ssp245 and CMCC-CM2-SR5\n",
      "For Chimoio_WTP_EIB, ssp245 and MPI-ESM1-2-LR\n",
      "For Chimoio_WTP_EIB, ssp245 and NorESM2-LM\n",
      "For Chimoio_WTP_EIB, ssp245 and MPI-ESM1-2-HR\n",
      "For Chimoio_WTP_EIB, ssp245 and MIROC6\n",
      "For Chimoio_WTP_EIB, ssp245 and CanESM5\n",
      "For Chimoio_WTP_EIB, ssp245 and ACCESS-ESM1-5\n",
      "For Chimoio_WTP_EIB, ssp245 and BCC-CSM2-MR\n",
      "For Chimoio_WTP_EIB, ssp245 and CMCC-ESM2\n",
      "For Chimoio_WTP_EIB, ssp245 and IITM-ESM\n",
      "For Chimoio_WTP_EIB, ssp245 and MRI-ESM2-0\n",
      "For Gorongosa_EIB, ssp126 and ACCESS-CM2\n",
      "For Gorongosa_EIB, ssp126 and TaiESM1\n",
      "For Gorongosa_EIB, ssp126 and NorESM2-MM\n",
      "For Gorongosa_EIB, ssp126 and CMCC-CM2-SR5\n",
      "For Gorongosa_EIB, ssp126 and MPI-ESM1-2-LR\n",
      "For Gorongosa_EIB, ssp126 and NorESM2-LM\n",
      "For Gorongosa_EIB, ssp126 and MPI-ESM1-2-HR\n",
      "For Gorongosa_EIB, ssp126 and MIROC6\n",
      "For Gorongosa_EIB, ssp126 and CanESM5\n",
      "For Gorongosa_EIB, ssp126 and ACCESS-ESM1-5\n",
      "For Gorongosa_EIB, ssp126 and BCC-CSM2-MR\n",
      "For Gorongosa_EIB, ssp126 and CMCC-ESM2\n",
      "For Gorongosa_EIB, ssp126 and IITM-ESM\n",
      "For Gorongosa_EIB, ssp126 and MRI-ESM2-0\n",
      "For Gorongosa_EIB, ssp370 and ACCESS-CM2\n",
      "For Gorongosa_EIB, ssp370 and TaiESM1\n",
      "For Gorongosa_EIB, ssp370 and NorESM2-MM\n",
      "For Gorongosa_EIB, ssp370 and CMCC-CM2-SR5\n",
      "For Gorongosa_EIB, ssp370 and MPI-ESM1-2-LR\n",
      "For Gorongosa_EIB, ssp370 and NorESM2-LM\n",
      "For Gorongosa_EIB, ssp370 and MPI-ESM1-2-HR\n",
      "For Gorongosa_EIB, ssp370 and MIROC6\n",
      "For Gorongosa_EIB, ssp370 and CanESM5\n",
      "For Gorongosa_EIB, ssp370 and ACCESS-ESM1-5\n",
      "For Gorongosa_EIB, ssp370 and BCC-CSM2-MR\n",
      "For Gorongosa_EIB, ssp370 and CMCC-ESM2\n",
      "For Gorongosa_EIB, ssp370 and IITM-ESM\n",
      "For Gorongosa_EIB, ssp370 and MRI-ESM2-0\n",
      "For Gorongosa_EIB, ssp585 and ACCESS-CM2\n",
      "For Gorongosa_EIB, ssp585 and TaiESM1\n",
      "For Gorongosa_EIB, ssp585 and NorESM2-MM\n",
      "For Gorongosa_EIB, ssp585 and CMCC-CM2-SR5\n",
      "For Gorongosa_EIB, ssp585 and MPI-ESM1-2-LR\n",
      "For Gorongosa_EIB, ssp585 and NorESM2-LM\n",
      "For Gorongosa_EIB, ssp585 and MPI-ESM1-2-HR\n",
      "For Gorongosa_EIB, ssp585 and MIROC6\n",
      "For Gorongosa_EIB, ssp585 and CanESM5\n",
      "For Gorongosa_EIB, ssp585 and ACCESS-ESM1-5\n",
      "For Gorongosa_EIB, ssp585 and BCC-CSM2-MR\n",
      "For Gorongosa_EIB, ssp585 and CMCC-ESM2\n",
      "For Gorongosa_EIB, ssp585 and IITM-ESM\n",
      "For Gorongosa_EIB, ssp585 and MRI-ESM2-0\n",
      "For Gorongosa_EIB, ssp245 and ACCESS-CM2\n",
      "For Gorongosa_EIB, ssp245 and TaiESM1\n",
      "For Gorongosa_EIB, ssp245 and NorESM2-MM\n",
      "For Gorongosa_EIB, ssp245 and CMCC-CM2-SR5\n",
      "For Gorongosa_EIB, ssp245 and MPI-ESM1-2-LR\n",
      "For Gorongosa_EIB, ssp245 and NorESM2-LM\n",
      "For Gorongosa_EIB, ssp245 and MPI-ESM1-2-HR\n",
      "For Gorongosa_EIB, ssp245 and MIROC6\n",
      "For Gorongosa_EIB, ssp245 and CanESM5\n",
      "For Gorongosa_EIB, ssp245 and ACCESS-ESM1-5\n",
      "For Gorongosa_EIB, ssp245 and BCC-CSM2-MR\n",
      "For Gorongosa_EIB, ssp245 and CMCC-ESM2\n",
      "For Gorongosa_EIB, ssp245 and IITM-ESM\n",
      "For Gorongosa_EIB, ssp245 and MRI-ESM2-0\n",
      "For WTP_Mutua_EIB, ssp126 and ACCESS-CM2\n",
      "For WTP_Mutua_EIB, ssp126 and TaiESM1\n",
      "For WTP_Mutua_EIB, ssp126 and NorESM2-MM\n",
      "For WTP_Mutua_EIB, ssp126 and CMCC-CM2-SR5\n",
      "For WTP_Mutua_EIB, ssp126 and MPI-ESM1-2-LR\n",
      "For WTP_Mutua_EIB, ssp126 and NorESM2-LM\n",
      "For WTP_Mutua_EIB, ssp126 and MPI-ESM1-2-HR\n",
      "For WTP_Mutua_EIB, ssp126 and MIROC6\n",
      "For WTP_Mutua_EIB, ssp126 and CanESM5\n",
      "For WTP_Mutua_EIB, ssp126 and ACCESS-ESM1-5\n",
      "For WTP_Mutua_EIB, ssp126 and BCC-CSM2-MR\n",
      "For WTP_Mutua_EIB, ssp126 and CMCC-ESM2\n",
      "For WTP_Mutua_EIB, ssp126 and IITM-ESM\n",
      "For WTP_Mutua_EIB, ssp126 and MRI-ESM2-0\n",
      "For WTP_Mutua_EIB, ssp370 and ACCESS-CM2\n",
      "For WTP_Mutua_EIB, ssp370 and TaiESM1\n",
      "For WTP_Mutua_EIB, ssp370 and NorESM2-MM\n",
      "For WTP_Mutua_EIB, ssp370 and CMCC-CM2-SR5\n",
      "For WTP_Mutua_EIB, ssp370 and MPI-ESM1-2-LR\n",
      "For WTP_Mutua_EIB, ssp370 and NorESM2-LM\n",
      "For WTP_Mutua_EIB, ssp370 and MPI-ESM1-2-HR\n",
      "For WTP_Mutua_EIB, ssp370 and MIROC6\n",
      "For WTP_Mutua_EIB, ssp370 and CanESM5\n",
      "For WTP_Mutua_EIB, ssp370 and ACCESS-ESM1-5\n",
      "For WTP_Mutua_EIB, ssp370 and BCC-CSM2-MR\n",
      "For WTP_Mutua_EIB, ssp370 and CMCC-ESM2\n",
      "For WTP_Mutua_EIB, ssp370 and IITM-ESM\n",
      "For WTP_Mutua_EIB, ssp370 and MRI-ESM2-0\n",
      "For WTP_Mutua_EIB, ssp585 and ACCESS-CM2\n",
      "For WTP_Mutua_EIB, ssp585 and TaiESM1\n",
      "For WTP_Mutua_EIB, ssp585 and NorESM2-MM\n",
      "For WTP_Mutua_EIB, ssp585 and CMCC-CM2-SR5\n",
      "For WTP_Mutua_EIB, ssp585 and MPI-ESM1-2-LR\n",
      "For WTP_Mutua_EIB, ssp585 and NorESM2-LM\n",
      "For WTP_Mutua_EIB, ssp585 and MPI-ESM1-2-HR\n",
      "For WTP_Mutua_EIB, ssp585 and MIROC6\n",
      "For WTP_Mutua_EIB, ssp585 and CanESM5\n",
      "For WTP_Mutua_EIB, ssp585 and ACCESS-ESM1-5\n",
      "For WTP_Mutua_EIB, ssp585 and BCC-CSM2-MR\n",
      "For WTP_Mutua_EIB, ssp585 and CMCC-ESM2\n",
      "For WTP_Mutua_EIB, ssp585 and IITM-ESM\n",
      "For WTP_Mutua_EIB, ssp585 and MRI-ESM2-0\n",
      "For WTP_Mutua_EIB, ssp245 and ACCESS-CM2\n",
      "For WTP_Mutua_EIB, ssp245 and TaiESM1\n",
      "For WTP_Mutua_EIB, ssp245 and NorESM2-MM\n",
      "For WTP_Mutua_EIB, ssp245 and CMCC-CM2-SR5\n",
      "For WTP_Mutua_EIB, ssp245 and MPI-ESM1-2-LR\n",
      "For WTP_Mutua_EIB, ssp245 and NorESM2-LM\n",
      "For WTP_Mutua_EIB, ssp245 and MPI-ESM1-2-HR\n",
      "For WTP_Mutua_EIB, ssp245 and MIROC6\n",
      "For WTP_Mutua_EIB, ssp245 and CanESM5\n",
      "For WTP_Mutua_EIB, ssp245 and ACCESS-ESM1-5\n",
      "For WTP_Mutua_EIB, ssp245 and BCC-CSM2-MR\n",
      "For WTP_Mutua_EIB, ssp245 and CMCC-ESM2\n",
      "For WTP_Mutua_EIB, ssp245 and IITM-ESM\n",
      "For WTP_Mutua_EIB, ssp245 and MRI-ESM2-0\n",
      "For Pemba_EIB, ssp126 and ACCESS-CM2\n",
      "For Pemba_EIB, ssp126 and TaiESM1\n",
      "For Pemba_EIB, ssp126 and NorESM2-MM\n",
      "For Pemba_EIB, ssp126 and CMCC-CM2-SR5\n",
      "For Pemba_EIB, ssp126 and MPI-ESM1-2-LR\n",
      "For Pemba_EIB, ssp126 and NorESM2-LM\n",
      "For Pemba_EIB, ssp126 and MPI-ESM1-2-HR\n",
      "For Pemba_EIB, ssp126 and MIROC6\n",
      "For Pemba_EIB, ssp126 and CanESM5\n",
      "For Pemba_EIB, ssp126 and ACCESS-ESM1-5\n",
      "For Pemba_EIB, ssp126 and BCC-CSM2-MR\n",
      "For Pemba_EIB, ssp126 and CMCC-ESM2\n",
      "For Pemba_EIB, ssp126 and IITM-ESM\n",
      "For Pemba_EIB, ssp126 and MRI-ESM2-0\n",
      "For Pemba_EIB, ssp370 and ACCESS-CM2\n",
      "For Pemba_EIB, ssp370 and TaiESM1\n",
      "For Pemba_EIB, ssp370 and NorESM2-MM\n",
      "For Pemba_EIB, ssp370 and CMCC-CM2-SR5\n",
      "For Pemba_EIB, ssp370 and MPI-ESM1-2-LR\n",
      "For Pemba_EIB, ssp370 and NorESM2-LM\n",
      "For Pemba_EIB, ssp370 and MPI-ESM1-2-HR\n",
      "For Pemba_EIB, ssp370 and MIROC6\n",
      "For Pemba_EIB, ssp370 and CanESM5\n",
      "For Pemba_EIB, ssp370 and ACCESS-ESM1-5\n",
      "For Pemba_EIB, ssp370 and BCC-CSM2-MR\n",
      "For Pemba_EIB, ssp370 and CMCC-ESM2\n",
      "For Pemba_EIB, ssp370 and IITM-ESM\n",
      "For Pemba_EIB, ssp370 and MRI-ESM2-0\n",
      "For Pemba_EIB, ssp585 and ACCESS-CM2\n",
      "For Pemba_EIB, ssp585 and TaiESM1\n",
      "For Pemba_EIB, ssp585 and NorESM2-MM\n",
      "For Pemba_EIB, ssp585 and CMCC-CM2-SR5\n",
      "For Pemba_EIB, ssp585 and MPI-ESM1-2-LR\n"
     ]
    },
    {
     "name": "stdout",
     "output_type": "stream",
     "text": [
      "For Pemba_EIB, ssp585 and NorESM2-LM\n",
      "For Pemba_EIB, ssp585 and MPI-ESM1-2-HR\n",
      "For Pemba_EIB, ssp585 and MIROC6\n",
      "For Pemba_EIB, ssp585 and CanESM5\n",
      "For Pemba_EIB, ssp585 and ACCESS-ESM1-5\n",
      "For Pemba_EIB, ssp585 and BCC-CSM2-MR\n",
      "For Pemba_EIB, ssp585 and CMCC-ESM2\n",
      "For Pemba_EIB, ssp585 and IITM-ESM\n",
      "For Pemba_EIB, ssp585 and MRI-ESM2-0\n",
      "For Pemba_EIB, ssp245 and ACCESS-CM2\n",
      "For Pemba_EIB, ssp245 and TaiESM1\n",
      "For Pemba_EIB, ssp245 and NorESM2-MM\n",
      "For Pemba_EIB, ssp245 and CMCC-CM2-SR5\n",
      "For Pemba_EIB, ssp245 and MPI-ESM1-2-LR\n",
      "For Pemba_EIB, ssp245 and NorESM2-LM\n",
      "For Pemba_EIB, ssp245 and MPI-ESM1-2-HR\n",
      "For Pemba_EIB, ssp245 and MIROC6\n",
      "For Pemba_EIB, ssp245 and CanESM5\n",
      "For Pemba_EIB, ssp245 and ACCESS-ESM1-5\n",
      "For Pemba_EIB, ssp245 and BCC-CSM2-MR\n",
      "For Pemba_EIB, ssp245 and CMCC-ESM2\n",
      "For Pemba_EIB, ssp245 and IITM-ESM\n",
      "For Pemba_EIB, ssp245 and MRI-ESM2-0\n"
     ]
    }
   ],
   "source": [
    "df_pr_bc_corrected=pd.DataFrame()\n",
    "for name_project in list(set(climate_var_NEX_GDDP_CMIP6_Project_to_correct['Name project'])):\n",
    "    climate_var_NEX_GDDP_CMIP6_Project_temp=climate_var_NEX_GDDP_CMIP6_Project_to_correct[climate_var_NEX_GDDP_CMIP6_Project_to_correct['Name project']==name_project]\n",
    "    for scenario in list(set(climate_var_NEX_GDDP_CMIP6_Project_to_correct['Experiment'])):\n",
    "        climate_var_NEX_GDDP_CMIP6_Project_temp_2=climate_var_NEX_GDDP_CMIP6_Project_temp[climate_var_NEX_GDDP_CMIP6_Project_temp['Experiment']==scenario]\n",
    "        for model in list_model:\n",
    "            print('For '+name_project+', '+scenario+' and '+model)\n",
    "            climate_var_NEX_GDDP_CMIP6_Project_temp_3=climate_var_NEX_GDDP_CMIP6_Project_temp_2[climate_var_NEX_GDDP_CMIP6_Project_temp_2['Model']==model]\n",
    "            df_pr = treat_data_for_test(data_obs_NOAA_filtered,'PRCP',climate_var_NEX_GDDP_CMIP6_EmplacementStation,'Mean of the daily precipitation rate mm/day','BEIRA, MZ',model)\n",
    "            (X_pcp,y_pcp,out)=BCSD_Precipitation_return_anoms_to_apply(df_pr,climate_var_NEX_GDDP_CMIP6_Project_temp_3[['Date','Mean of the daily precipitation rate mm_per_day']].dropna().reset_index(drop=True))\n",
    "            out = out.reset_index()\n",
    "            out['Name project']=name_project\n",
    "            out['Experiment']=scenario\n",
    "            out['Model']=model\n",
    "            df_pr_bc_corrected=pd.concat([df_pr_bc_corrected,out])"
   ]
  },
  {
   "cell_type": "code",
   "execution_count": 14,
   "id": "a9fa33e9",
   "metadata": {},
   "outputs": [],
   "source": [
    "df_pr_bc_corrected=df_pr_bc_corrected.reset_index(drop=True)"
   ]
  },
  {
   "cell_type": "code",
   "execution_count": 34,
   "id": "8f2f563d",
   "metadata": {},
   "outputs": [],
   "source": [
    "df_t=pd.to_datetime(df_pr_bc_corrected[['Date']].Date,format='%Y-%d-%m')"
   ]
  },
  {
   "cell_type": "code",
   "execution_count": 36,
   "id": "6d9a7ae3",
   "metadata": {},
   "outputs": [
    {
     "data": {
      "text/html": [
       "<div>\n",
       "<style scoped>\n",
       "    .dataframe tbody tr th:only-of-type {\n",
       "        vertical-align: middle;\n",
       "    }\n",
       "\n",
       "    .dataframe tbody tr th {\n",
       "        vertical-align: top;\n",
       "    }\n",
       "\n",
       "    .dataframe thead th {\n",
       "        text-align: right;\n",
       "    }\n",
       "</style>\n",
       "<table border=\"1\" class=\"dataframe\">\n",
       "  <thead>\n",
       "    <tr style=\"text-align: right;\">\n",
       "      <th></th>\n",
       "      <th>Date</th>\n",
       "    </tr>\n",
       "  </thead>\n",
       "  <tbody>\n",
       "    <tr>\n",
       "      <th>0</th>\n",
       "      <td>NaN</td>\n",
       "    </tr>\n",
       "    <tr>\n",
       "      <th>1</th>\n",
       "      <td>NaN</td>\n",
       "    </tr>\n",
       "    <tr>\n",
       "      <th>2</th>\n",
       "      <td>NaN</td>\n",
       "    </tr>\n",
       "    <tr>\n",
       "      <th>3</th>\n",
       "      <td>NaN</td>\n",
       "    </tr>\n",
       "    <tr>\n",
       "      <th>4</th>\n",
       "      <td>NaN</td>\n",
       "    </tr>\n",
       "    <tr>\n",
       "      <th>...</th>\n",
       "      <td>...</td>\n",
       "    </tr>\n",
       "    <tr>\n",
       "      <th>2942775</th>\n",
       "      <td>NaN</td>\n",
       "    </tr>\n",
       "    <tr>\n",
       "      <th>2942776</th>\n",
       "      <td>NaN</td>\n",
       "    </tr>\n",
       "    <tr>\n",
       "      <th>2942777</th>\n",
       "      <td>NaN</td>\n",
       "    </tr>\n",
       "    <tr>\n",
       "      <th>2942778</th>\n",
       "      <td>NaN</td>\n",
       "    </tr>\n",
       "    <tr>\n",
       "      <th>2942779</th>\n",
       "      <td>NaN</td>\n",
       "    </tr>\n",
       "  </tbody>\n",
       "</table>\n",
       "<p>2942780 rows × 1 columns</p>\n",
       "</div>"
      ],
      "text/plain": [
       "        Date\n",
       "0        NaN\n",
       "1        NaN\n",
       "2        NaN\n",
       "3        NaN\n",
       "4        NaN\n",
       "...      ...\n",
       "2942775  NaN\n",
       "2942776  NaN\n",
       "2942777  NaN\n",
       "2942778  NaN\n",
       "2942779  NaN\n",
       "\n",
       "[2942780 rows x 1 columns]"
      ]
     },
     "execution_count": 36,
     "metadata": {},
     "output_type": "execute_result"
    }
   ],
   "source": [
    "df_pr_bc_corrected[['Date']]"
   ]
  },
  {
   "cell_type": "code",
   "execution_count": 35,
   "id": "ee8ad38c",
   "metadata": {},
   "outputs": [
    {
     "data": {
      "text/plain": [
       "NaT"
      ]
     },
     "execution_count": 35,
     "metadata": {},
     "output_type": "execute_result"
    }
   ],
   "source": [
    "df_t[0]"
   ]
  },
  {
   "cell_type": "code",
   "execution_count": null,
   "id": "7e405d82",
   "metadata": {},
   "outputs": [],
   "source": [
    "#df_pr_bc_corrected[['Date']].iloc[1000][0].strftime('%Y-%m-%d')"
   ]
  },
  {
   "cell_type": "code",
   "execution_count": null,
   "id": "9395ccdc",
   "metadata": {},
   "outputs": [],
   "source": [
    "#df_pr_bc_corrected[['Date']].iloc[1000][0]"
   ]
  },
  {
   "cell_type": "code",
   "execution_count": null,
   "id": "28247291",
   "metadata": {},
   "outputs": [],
   "source": [
    "#len(df_pr_bc_corrected[['Date']])"
   ]
  },
  {
   "cell_type": "code",
   "execution_count": null,
   "id": "2df51953",
   "metadata": {},
   "outputs": [],
   "source": [
    "# convert date in str format"
   ]
  },
  {
   "cell_type": "code",
   "execution_count": null,
   "id": "74c38acc",
   "metadata": {},
   "outputs": [],
   "source": [
    "# teste .date()"
   ]
  },
  {
   "cell_type": "code",
   "execution_count": 15,
   "id": "28349a15",
   "metadata": {},
   "outputs": [],
   "source": [
    "Time = df_pr_bc_corrected[['Date']]"
   ]
  },
  {
   "cell_type": "code",
   "execution_count": 16,
   "id": "e2889253",
   "metadata": {},
   "outputs": [],
   "source": [
    "df_pr_bc_corrected[['Date']]= np.nan"
   ]
  },
  {
   "cell_type": "code",
   "execution_count": 25,
   "id": "08177680",
   "metadata": {},
   "outputs": [],
   "source": [
    "df_pr_bc_corrected.loc[5,'Date']=Time.loc[6,'Date']#.date().strftime('%Y-%m-%d')"
   ]
  },
  {
   "cell_type": "code",
   "execution_count": 18,
   "id": "efd95e8f",
   "metadata": {},
   "outputs": [
    {
     "data": {
      "text/plain": [
       "'2030-01-06'"
      ]
     },
     "execution_count": 18,
     "metadata": {},
     "output_type": "execute_result"
    }
   ],
   "source": [
    "df_pr_bc_corrected.loc[5,'Date']"
   ]
  },
  {
   "cell_type": "code",
   "execution_count": 19,
   "id": "95e485d9",
   "metadata": {},
   "outputs": [],
   "source": [
    "column_date = 'Date'\n",
    "df = df_pr_bc_corrected#.reset_index()"
   ]
  },
  {
   "cell_type": "code",
   "execution_count": 20,
   "id": "c665131a",
   "metadata": {},
   "outputs": [],
   "source": [
    "Year = df[[column_date]].values.reshape(len(df[[column_date]].values),)"
   ]
  },
  {
   "cell_type": "code",
   "execution_count": 21,
   "id": "c0a9188d",
   "metadata": {},
   "outputs": [
    {
     "data": {
      "text/plain": [
       "'2030'"
      ]
     },
     "execution_count": 21,
     "metadata": {},
     "output_type": "execute_result"
    }
   ],
   "source": [
    "Year[5][0:4]"
   ]
  },
  {
   "cell_type": "code",
   "execution_count": null,
   "id": "3043cdd7",
   "metadata": {},
   "outputs": [],
   "source": []
  },
  {
   "cell_type": "code",
   "execution_count": null,
   "id": "afb5d76d",
   "metadata": {},
   "outputs": [],
   "source": []
  },
  {
   "cell_type": "code",
   "execution_count": null,
   "id": "a707fa64",
   "metadata": {},
   "outputs": [],
   "source": [
    "for date in np.arange(0,len(df_pr_bc_corrected[['Date']])):\n",
    "    df_pr_bc_corrected.loc[date,'Date']=Time.loc[date,'Date'].date().strftime('%Y-%m-%d')"
   ]
  },
  {
   "cell_type": "code",
   "execution_count": null,
   "id": "de4589d6",
   "metadata": {},
   "outputs": [],
   "source": [
    "df_pr_bc_corrected[['Date']].reset_index().loc[0]['Date']"
   ]
  },
  {
   "cell_type": "code",
   "execution_count": null,
   "id": "0d69f509",
   "metadata": {},
   "outputs": [],
   "source": [
    "df_pr_bc_corrected[['Date']].reset_index(drop=True)"
   ]
  },
  {
   "cell_type": "code",
   "execution_count": null,
   "id": "5181c99b",
   "metadata": {},
   "outputs": [],
   "source": [
    "df_pr_bc_corrected = add_year_month_season(df_pr_bc_corrected.reset_index(),'Date')"
   ]
  },
  {
   "cell_type": "code",
   "execution_count": 1,
   "id": "52e4ab61",
   "metadata": {},
   "outputs": [
    {
     "ename": "NameError",
     "evalue": "name 'df_pr_bc_corrected' is not defined",
     "output_type": "error",
     "traceback": [
      "\u001b[1;31m---------------------------------------------------------------------------\u001b[0m",
      "\u001b[1;31mNameError\u001b[0m                                 Traceback (most recent call last)",
      "Cell \u001b[1;32mIn[1], line 2\u001b[0m\n\u001b[0;32m      1\u001b[0m column_date \u001b[38;5;241m=\u001b[39m \u001b[38;5;124m'\u001b[39m\u001b[38;5;124mDate\u001b[39m\u001b[38;5;124m'\u001b[39m\n\u001b[1;32m----> 2\u001b[0m df \u001b[38;5;241m=\u001b[39m \u001b[43mdf_pr_bc_corrected\u001b[49m\u001b[38;5;66;03m#.reset_index()\u001b[39;00m\n",
      "\u001b[1;31mNameError\u001b[0m: name 'df_pr_bc_corrected' is not defined"
     ]
    }
   ],
   "source": [
    "column_date = 'Date'\n",
    "df = df_pr_bc_corrected#.reset_index()"
   ]
  },
  {
   "cell_type": "code",
   "execution_count": null,
   "id": "89c22d6c",
   "metadata": {},
   "outputs": [],
   "source": [
    "Year = df[[column_date]].values.reshape(len(df[[column_date]].values),)\n",
    "Month = df[[column_date]].values.reshape(len(df[[column_date]].values),)\n",
    "Season = df[[column_date]].values.reshape(len(df[[column_date]].values),)\n",
    "\n",
    "if str(Year[1]).find('-')==2 or str(Year[1]).find('/')==2:\n",
    "    for i in np.arange(0,len(df[[column_date]].values)):\n",
    "        Year[i]=int(Year[i][6:10])\n",
    "        Month[i]=int(Month[i][3:5])\n",
    "        if Month[i]>3 and Month[i]<10: # dry season in Mozambique is between April and September\n",
    "            Season[i]='Dry'\n",
    "        else:# humid season is between October and March\n",
    "            Season[i]='Humid'\n",
    "\n",
    "        Month[i]=str_month(Month[i])\n",
    "\n",
    "if str(Year[1]).find('-')==4 or str(Year[1]).find('/')==4:\n",
    "    for i in np.arange(0,len(df[[column_date]].values)):\n",
    "        Year[i]=int(Year[i][0:4])\n",
    "        Month[i]=int(Month[i][5:7])\n",
    "        if Month[i]>3 and Month[i]<10: # dry season in Mozambique is between April and September\n",
    "            Season[i]='Dry'\n",
    "        else:# humid season is between October and March\n",
    "            Season[i]='Humid'\n",
    "\n",
    "        Month[i]=str_month(Month[i])\n",
    "\n",
    "df['Year'] = Year\n",
    "df['Month'] = Month\n",
    "df['Season'] = Season"
   ]
  },
  {
   "cell_type": "code",
   "execution_count": null,
   "id": "f18d47ac",
   "metadata": {},
   "outputs": [],
   "source": [
    "Year"
   ]
  },
  {
   "cell_type": "code",
   "execution_count": null,
   "id": "19901bc5",
   "metadata": {},
   "outputs": [],
   "source": []
  },
  {
   "cell_type": "code",
   "execution_count": null,
   "id": "61d2ef1a",
   "metadata": {},
   "outputs": [],
   "source": []
  },
  {
   "cell_type": "code",
   "execution_count": null,
   "id": "e0f271f4",
   "metadata": {},
   "outputs": [],
   "source": []
  },
  {
   "cell_type": "code",
   "execution_count": null,
   "id": "15b7004c",
   "metadata": {},
   "outputs": [],
   "source": []
  },
  {
   "cell_type": "code",
   "execution_count": null,
   "id": "4e273878",
   "metadata": {},
   "outputs": [],
   "source": [
    "df_pr_bc_corrected"
   ]
  },
  {
   "cell_type": "code",
   "execution_count": null,
   "id": "702fc87b",
   "metadata": {},
   "outputs": [],
   "source": [
    "path = r'\\\\COWI.net\\projects\\A245000\\A248363\\CRVA\\Datasets\\NEX-GDDP-CMIP6-AllMoz\\csv_file'"
   ]
  },
  {
   "cell_type": "code",
   "execution_count": null,
   "id": "b6d64c56",
   "metadata": {},
   "outputs": [],
   "source": []
  },
  {
   "cell_type": "code",
   "execution_count": null,
   "id": "46164134",
   "metadata": {},
   "outputs": [],
   "source": [
    "df_pr_bc_corrected.to_csv(os.path.join(path,climate_var,climate_var+'_'+unit+'_'+resolution+'_'+str(start_y)+'-'+str(stop_y)+'_BiasCorrected',climate_var+'_'+'mm_per_day'+resolution+str(start_y)+'-'+str(stop_y)+'_BiasCorrected.csv'))"
   ]
  },
  {
   "cell_type": "code",
   "execution_count": null,
   "id": "89e00a06",
   "metadata": {},
   "outputs": [],
   "source": []
  }
 ],
 "metadata": {
  "kernelspec": {
   "display_name": "Python 3 (ipykernel)",
   "language": "python",
   "name": "python3"
  },
  "language_info": {
   "codemirror_mode": {
    "name": "ipython",
    "version": 3
   },
   "file_extension": ".py",
   "mimetype": "text/x-python",
   "name": "python",
   "nbconvert_exporter": "python",
   "pygments_lexer": "ipython3",
   "version": "3.10.6"
  }
 },
 "nbformat": 4,
 "nbformat_minor": 5
}
