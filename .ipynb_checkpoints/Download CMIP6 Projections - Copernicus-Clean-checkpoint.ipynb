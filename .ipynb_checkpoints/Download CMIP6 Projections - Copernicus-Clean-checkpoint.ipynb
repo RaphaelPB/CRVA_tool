{
 "cells": [
  {
   "cell_type": "markdown",
   "id": "00d8f61d",
   "metadata": {},
   "source": [
    "This notebook aims to group the download of data coming from https://cds.climate.copernicus.eu/cdsapp#!/dataset/projections-cmip6?tab=form ."
   ]
  },
  {
   "cell_type": "markdown",
   "id": "c264152c",
   "metadata": {},
   "source": [
    "# Packages, functions and paths"
   ]
  },
  {
   "cell_type": "code",
   "execution_count": null,
   "id": "a91887ff",
   "metadata": {},
   "outputs": [],
   "source": [
    "import geopandas as gpd\n",
    "import os\n",
    "import os.path\n",
    "from netCDF4 import Dataset\n",
    "import numpy as np"
   ]
  },
  {
   "cell_type": "code",
   "execution_count": null,
   "id": "376dc014",
   "metadata": {},
   "outputs": [],
   "source": [
    "def download_extract(path_file,path_for_file):\n",
    "    #if not os.path.isdir(path_for_file): # path_for_file does not exists, need to ensure that is is created\n",
    "    #    os.makedirs(path_for_file) # to ensure the creation of the path\n",
    "    # unzip the downloaded file\n",
    "    from zipfile import ZipFile\n",
    "  \n",
    "    # loading the temp.zip and creating a zip object\n",
    "    os.chdir(path_file)\n",
    "    with ZipFile(path_for_file, 'r') as zObject:\n",
    "      \n",
    "    # Extracting all the members of the zip \n",
    "    # into a specific location.\n",
    "        print(zObject)\n",
    "        zObject.extractall()\n",
    "    \n",
    "    print('\\n ----------------------------- The downloaded file is extracted in the indicated file -----------------------------')\n",
    "    return"
   ]
  },
  {
   "cell_type": "code",
   "execution_count": null,
   "id": "7ed46997",
   "metadata": {},
   "outputs": [],
   "source": [
    "# This functions aims to check if the path is too long, and if yes to deal with it\n",
    "# this function was created because a bug exist when using python on windows. When the path is too long (more than 250 characters), \n",
    "# '\\\\\\\\?\\\\' should be added before the path in order for Windows to understand it \n",
    "# (source: https://stackoverflow.com/questions/29557760/long-paths-in-python-on-windows)\n",
    "\n",
    "# the input is a path in a string format\n",
    "# the output is the path in a string format\n",
    "def path_length(str1):\n",
    "    if len(str1)>250:\n",
    "        # the path has more than 250 characters\n",
    "        path = os.path.abspath(str1) # normalize path\n",
    "        if path.startswith(u\"\\\\\\\\\"):\n",
    "            path=u\"\\\\\\\\?\\\\UNC\\\\\"+path[2:]\n",
    "        else:\n",
    "            path=u\"\\\\\\\\?\\\\\"+path\n",
    "        return path\n",
    "    else:\n",
    "        # the path has less than 250 characters, the path is not too long\n",
    "        return str1"
   ]
  },
  {
   "cell_type": "code",
   "execution_count": null,
   "id": "0767b7d7",
   "metadata": {},
   "outputs": [],
   "source": [
    "# seach_for_nc is a function looking in path_for_file for a document in .nc format\n",
    "\n",
    "def search_for_nc(path_for_file):\n",
    "    print('path_for_file does exist Function copernicus search for nc')\n",
    "    for file in os.listdir(path_for_file):\n",
    "        if file.endswith(\".nc\"):\n",
    "            final_path=os.path.join(path_for_file, file)\n",
    "            \n",
    "            print('The file is in the path Function copernicus search for nc\\n')\n",
    "            print('Before path_length, The final path for the nc file is: '+final_path)\n",
    "            answer = str(os.path.isfile(final_path))\n",
    "            print('\\n The final path for nc file exists ? '+answer+'\\n')\n",
    "            final_path=path_length(final_path) # check if length of path is too long\n",
    "            print('After path_length, The final path for the nc file is: '+final_path)\n",
    "            answer = str(os.path.isfile(final_path))\n",
    "            print('\\n The final path for nc file exists ? '+answer+'\\n')\n",
    "            return final_path # the function returns the path of the nc file of interest\n",
    "            break # stop the function if a nc file was found \n",
    "        else:\n",
    "            pass\n",
    "    # the all folder has been search and there is no nc file in it\n",
    "    print('Problem : No nc file was found Function copernicus Function copernicus search for nc')# this line is out of the for loop, \n",
    "    #because it should only appear once all the folder has been examinated and if the break of the if was not used"
   ]
  },
  {
   "cell_type": "code",
   "execution_count": null,
   "id": "c6cc7611",
   "metadata": {},
   "outputs": [],
   "source": [
    "#project locations (shapefile with location of elements to evaluate)\n",
    "data_folder=r'\\\\COWI.net\\projects\\A245000\\A248363\\CRVA\\Datasets'\n",
    "#data_folder=os.path.join(os.pardir,'dataset')\n",
    "project_location_path=os.path.join(data_folder,'Mozambique_PPIS/EIB_locations_few.shp')\n",
    "project_id='Name' #name of column used as id\n",
    "\n",
    "#study boundary (optional)\n",
    "study_area_path=os.path.join(data_folder,'Mozambique_PPIS/mozambique.shp')\n",
    "\n",
    "#output folder\n",
    "#out_path=r'\\\\COWI.net\\projects\\A245000\\A248363\\CRVA\\Scripts\\outputs'\n",
    "out_path=r'C:\\Users\\CLMRX\\OneDrive - COWI\\Documents\\GitHub\\CRVA_tool\\outputs'\n",
    "out_path_database=r'\\\\COWI.net\\projects\\A245000\\A248363\\CRVA\\Datasets'\n",
    "#projection CRS (default = 'EPSG:4326')\n",
    "bCRS='EPSG:4326'\n",
    "\n",
    "#buffer for climate/grid variables\n",
    "buffer=40000 #buffer in meters, 0 = no buffer is computed\n",
    "\n",
    "mCRS='EPSG:31983' #metric CRS for buffer in meters (find relevant metric CRS for location!)"
   ]
  },
  {
   "cell_type": "markdown",
   "id": "8046d66d",
   "metadata": {},
   "source": [
    "# User input\n",
    "Only the part of interest for the user will be downloaded."
   ]
  },
  {
   "cell_type": "code",
   "execution_count": null,
   "id": "bc8d8acc",
   "metadata": {},
   "outputs": [],
   "source": [
    "#load shapefiles\n",
    "projects = gpd.read_file(project_location_path).to_crs(bCRS)\n",
    "study_area = gpd.read_file(study_area_path).to_crs(bCRS)\n",
    "\n",
    "#calculate buffer around points/shape\n",
    "if buffer != 0:\n",
    "    projects_buf=projects.to_crs(mCRS)  #project to crs with metric units to get buffer in meters\n",
    "    projects_buf['geometry']=projects.to_crs(mCRS).buffer(buffer) #assign the buffer as the new geometry - \n",
    "    projects_buf=projects_buf.to_crs(bCRS)#project back to orginal crs\n",
    "\n",
    "    \n",
    "#plot shapefiles\n",
    "study_area.plot()\n",
    "projects.plot()\n",
    "projects_buf.plot() \n",
    "\n",
    "\n",
    "#show table\n",
    "projects[[project_id]]\n",
    "\n",
    "# register geographic information concerning projects\n",
    "lon_projects = projects['geometry'].x\n",
    "lat_projects = projects['geometry'].y\n",
    "buffer_project = 0.1\n",
    "area_projects = [lat_projects - buffer_project, lat_projects+buffer_project, lon_projects-buffer_project,lon_projects+buffer_project] # list format\n",
    "\n",
    "#### determination of the geographical zone of interest \n",
    "lat_min_wanted = min(study_area['LAT'])-10\n",
    "lat_max_wanted = max(study_area['LAT'])+10\n",
    "lon_min_wanted = min(study_area['LON'])-20\n",
    "lon_max_wanted = max(study_area['LON'])+20\n",
    "# addind and substracting to lon and lat to have margin\n",
    "# substracting more to longitude because the range of longitude is -180 to 180. The range of latitude is -90 to 90\n",
    "\n",
    "area = [lat_min_wanted, lon_min_wanted, lat_max_wanted,lon_max_wanted,] # used to download from copernicus"
   ]
  },
  {
   "cell_type": "markdown",
   "id": "237daebd",
   "metadata": {},
   "source": [
    "# Temperature\n",
    "\n",
    "Need the maximum monthly near-surface temperature to compare to CRU data for downscaling\n",
    "!!!! NEED TO CONVERT !!!! Need to sustract 273.15 to have data in degrees celsius, not in K anymore"
   ]
  },
  {
   "cell_type": "code",
   "execution_count": null,
   "id": "0a122898",
   "metadata": {},
   "outputs": [],
   "source": [
    "name_variable = 'daily_maximum_near_surface_air_temperature'\n",
    "temporal_resolution = 'monthly'"
   ]
  },
  {
   "cell_type": "markdown",
   "id": "e71147f9",
   "metadata": {},
   "source": [
    "### Historical : from 1950 to 2014"
   ]
  },
  {
   "cell_type": "code",
   "execution_count": null,
   "id": "d2e1931a",
   "metadata": {},
   "outputs": [],
   "source": [
    "out_path = r'\\\\COWI.net\\projects\\A245000\\A248363\\CRVA\\Datasets\\temperature\\Copernicus-CMIP6'"
   ]
  },
  {
   "cell_type": "code",
   "execution_count": null,
   "id": "abd1ad40",
   "metadata": {
    "scrolled": true
   },
   "outputs": [],
   "source": [
    "# download only for one model first\n",
    "\n",
    "model = 'ec_earth3_cc'\n",
    "name_project = projects['Name'][0]\n",
    "name_project = name_project.replace('/','')\n",
    "name_project = name_project.replace(' ','')\n",
    "\n",
    "path_file = os.path.join(out_path, name_variable,name_project,'historical-1950-2013', temporal_resolution)\n",
    "path_file_download = os.path.join(path_file,'download.zip')\n",
    "path_file=path_length(path_file)\n",
    "path_file_download=path_length(path_file_download)\n",
    "\n",
    "import cdsapi\n",
    "\n",
    "c = cdsapi.Client()\n",
    "\n",
    "c.retrieve(\n",
    "    'projections-cmip6',\n",
    "    {\n",
    "        'format': 'zip',\n",
    "        'variable': 'daily_maximum_near_surface_air_temperature',\n",
    "        'temporal_resolution': 'monthly',\n",
    "        'experiment': 'historical',\n",
    "        'month': [\n",
    "            '01', '02', '03',\n",
    "            '04', '05', '06',\n",
    "            '07', '08', '09',\n",
    "            '10', '11', '12',\n",
    "        ],\n",
    "        'year': [\n",
    "            '1950', '1951',\n",
    "            '1952', '1953', '1954',\n",
    "            '1955', '1956', '1957',\n",
    "            '1958', '1959', '1960',\n",
    "            '1961', '1962', '1963',\n",
    "            '1964', '1965', '1966',\n",
    "            '1967', '1968', '1969',\n",
    "            '1970', '1971', '1972',\n",
    "            '1973', '1974', '1975',\n",
    "            '1976', '1977', '1978',\n",
    "            '1979', '1980', '1981',\n",
    "            '1982', '1983', '1984',\n",
    "            '1985', '1986', '1987',\n",
    "            '1988', '1989', '1990',\n",
    "            '1991', '1992', '1993',\n",
    "            '1994', '1995', '1996',\n",
    "            '1997', '1998', '1999',\n",
    "            '2000', '2001', '2002',\n",
    "            '2003', '2004', '2005',\n",
    "            '2006', '2007', '2008',\n",
    "            '2009', '2010', '2011',\n",
    "            '2012', '2013',\n",
    "        ],\n",
    "        'model': model,\n",
    "        'area': [\n",
    "            area_projects[0][0], area_projects[1][0], area_projects[2][0],\n",
    "            area_projects[3][0],\n",
    "        ],\n",
    "    },\n",
    "    path_file_download)\n",
    "\n",
    "download_extract(path_file,path_file_download)\n",
    "os.remove(path_file_download)"
   ]
  }
 ],
 "metadata": {
  "kernelspec": {
   "display_name": "Python 3 (ipykernel)",
   "language": "python",
   "name": "python3"
  },
  "language_info": {
   "codemirror_mode": {
    "name": "ipython",
    "version": 3
   },
   "file_extension": ".py",
   "mimetype": "text/x-python",
   "name": "python",
   "nbconvert_exporter": "python",
   "pygments_lexer": "ipython3",
   "version": "3.10.6"
  }
 },
 "nbformat": 4,
 "nbformat_minor": 5
}
