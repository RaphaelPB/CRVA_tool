{
 "cells": [
  {
   "cell_type": "markdown",
   "id": "acb983ff",
   "metadata": {},
   "source": [
    "This notebook contains the Bias correction (BC) process.\n",
    "\n",
    "The user can choose either to correct precipitation (with the method BcsdPrecipitation(return_anoms=False), either temperature (with the method BcsdTemperature(return_anoms=False)).\n",
    "\n",
    "The set of data is corrected following the following process: \n",
    "\n",
    "1) observation data and historic modeled data, both for the same period of time, are used to fit the model. Both set of data are at the emplacement of the closest NOAA meteorological station to the project\n",
    "2) the data at the same emplacement is corrected by the fitted model. This permit ot compare the historic corrected data with the fitted model"
   ]
  },
  {
   "cell_type": "markdown",
   "id": "289f7a05",
   "metadata": {},
   "source": [
    "# User input"
   ]
  },
  {
   "cell_type": "code",
   "execution_count": 1,
   "id": "fba3d802",
   "metadata": {},
   "outputs": [],
   "source": [
    "climate_var = 'tasmin' \n",
    "\n",
    "name_col_NOAA = 'TMIN'\n",
    "name_col_mod_hist = 'Daily Minimum Near-Surface Air Temperature °C'\n",
    "name_col_mod_proj = 'Daily Minimum Near-Surface Air Temperature °C'\n",
    "\n",
    "unit='Celsius'\n",
    "resolution = 'day'\n",
    "\n",
    "start_y_fit = 1970#1970\n",
    "stop_y_fit = 2014\n",
    "\n",
    "start_y_correct = 2030\n",
    "stop_y_correct = 2065\n",
    "# precipitation : 'pr',name_col_NOAA = 'PRCP', name_col_mod_hist='Mean of the daily precipitation rate mm/day', name_col_mod_proj = 'Mean of the daily precipitation rate mm_per_day', unit = 'mm_per_day', resolution = 'day'\n",
    "# temperature : 'tas', name_col_NOAA = 'TAVG', name_col_mod_proj = 'Daily Near-Surface Air Temperature °C', unit = 'Celsius', resolution = 'day'\n",
    "# maximum temperature : 'tasmax', name_col_NOAA = 'TMAX', name_col_mod_proj = 'Daily Maximum Near-Surface Air Temperature °C', unit = 'Celsius', resolution = 'day'\n",
    "# minimum temperature : 'tasmin', name_col_NOAA = 'TMIN', name_col_mod_proj = 'Daily Minimum Near-Surface Air Temperature °C', unit = 'Celsius', resolution = 'day'\n"
   ]
  },
  {
   "cell_type": "markdown",
   "id": "0348e9de",
   "metadata": {},
   "source": [
    "# Import packages and functions"
   ]
  },
  {
   "cell_type": "code",
   "execution_count": null,
   "id": "87806e1c",
   "metadata": {},
   "outputs": [],
   "source": [
    "# import modules and functions\n",
    "\n",
    "import pandas as pd\n",
    "import numpy as np\n",
    "import os\n",
    "import os.path\n",
    "\n",
    "import matplotlib.pyplot as plt\n",
    "\n",
    "# import data\n",
    "from Functions_ImportData import import_treat_modeled_NEX_GDDP_CMIP6\n",
    "from Functions_ImportData import import_filtered_NOAA_obs\n",
    "from Functions_ImportData import import_treat_obs_NOAA\n",
    "from Functions_ImportData import import_treat_modeled_NEX_GDDP_CMIP6_close_to_stationNOAA\n",
    "from Bias_correction_function import BC\n",
    "from Bias_correction_function import treat_data_for_test\n",
    "from Bias_correction_function import BCSD_Precipitation_return_anoms_to_apply\n",
    "from Bias_correction_function import BCSD_Temperature_return_anoms_to_apply\n",
    "from Functions_Indicators import add_year_month_season"
   ]
  },
  {
   "cell_type": "markdown",
   "id": "14fc70a6",
   "metadata": {},
   "source": [
    "# Import data"
   ]
  },
  {
   "cell_type": "code",
   "execution_count": null,
   "id": "1959b849",
   "metadata": {},
   "outputs": [],
   "source": [
    "# import observation data\n",
    "data_obs_NOAA_filtered=import_filtered_NOAA_obs()"
   ]
  },
  {
   "cell_type": "code",
   "execution_count": null,
   "id": "19b5bc5b",
   "metadata": {},
   "outputs": [],
   "source": [
    "data_obs_NOAA_filtered_to_fit = data_obs_NOAA_filtered[data_obs_NOAA_filtered['Year'].between(start_y_fit,stop_y_fit)]"
   ]
  },
  {
   "cell_type": "code",
   "execution_count": null,
   "id": "8b089ad0",
   "metadata": {},
   "outputs": [],
   "source": [
    "# import historic modeled data\n",
    "climate_var_NEX_GDDP_CMIP6_EmplacementStation=import_treat_modeled_NEX_GDDP_CMIP6_close_to_stationNOAA(climate_var, unit)"
   ]
  },
  {
   "cell_type": "code",
   "execution_count": null,
   "id": "9dad5670",
   "metadata": {},
   "outputs": [],
   "source": [
    "climate_var_NEX_GDDP_CMIP6_EmplacementStation"
   ]
  },
  {
   "cell_type": "code",
   "execution_count": null,
   "id": "6595fbe5",
   "metadata": {},
   "outputs": [],
   "source": [
    "climate_var_NEX_GDDP_CMIP6_to_fit=climate_var_NEX_GDDP_CMIP6_EmplacementStation[climate_var_NEX_GDDP_CMIP6_EmplacementStation['Year'].between(start_y_fit,stop_y_fit)]"
   ]
  },
  {
   "cell_type": "code",
   "execution_count": null,
   "id": "92181400",
   "metadata": {},
   "outputs": [],
   "source": [
    "# select years between which the data should be corrected. Usually, the data are not corrected for the same number of years over which the model was fitted\n",
    "climate_var_NEX_GDDP_CMIP6_to_correct=climate_var_NEX_GDDP_CMIP6_EmplacementStation[climate_var_NEX_GDDP_CMIP6_EmplacementStation['Year'].between(start_y_correct,stop_y_correct)]"
   ]
  },
  {
   "cell_type": "markdown",
   "id": "da98de7f",
   "metadata": {},
   "source": [
    "# Apply BC"
   ]
  },
  {
   "cell_type": "code",
   "execution_count": null,
   "id": "20ef71cd",
   "metadata": {},
   "outputs": [],
   "source": [
    "# preprare list of model to BC\n",
    "list_model=list(set(climate_var_NEX_GDDP_CMIP6_to_correct['Model']))\n",
    "list_model.remove('NESM3') # this model has too much Nan to be interesting\n",
    "list_model.remove('CMCC-CM2-SR5')\n",
    "list_model.remove('TaiESM1')"
   ]
  },
  {
   "cell_type": "code",
   "execution_count": null,
   "id": "8ba1cd0a",
   "metadata": {},
   "outputs": [],
   "source": [
    "climate_var_NEX_GDDP_CMIP6_to_correct"
   ]
  },
  {
   "cell_type": "code",
   "execution_count": null,
   "id": "1b296dae",
   "metadata": {},
   "outputs": [],
   "source": [
    "df_bc_corrected=pd.DataFrame()\n",
    "for name_project in list(set(climate_var_NEX_GDDP_CMIP6_to_correct['Name station'])):\n",
    "    # select data for one project\n",
    "    climate_var_NEX_GDDP_CMIP6_Project_temp=climate_var_NEX_GDDP_CMIP6_to_correct[climate_var_NEX_GDDP_CMIP6_to_correct['Name station']==name_project]\n",
    "    # depending on project, don t fit the model with the same station data\n",
    "    name_station = name_project\n",
    "    for scenario in list(set(climate_var_NEX_GDDP_CMIP6_to_correct['Experiment'])):\n",
    "        # select data for one scenario\n",
    "        climate_var_NEX_GDDP_CMIP6_Project_temp_2=climate_var_NEX_GDDP_CMIP6_Project_temp[climate_var_NEX_GDDP_CMIP6_Project_temp['Experiment']==scenario]\n",
    "        for model in list_model:\n",
    "            print('For '+name_project+', '+scenario+' and '+model)\n",
    "            # select data for one model\n",
    "            climate_var_NEX_GDDP_CMIP6_Project_temp_3=climate_var_NEX_GDDP_CMIP6_Project_temp_2[climate_var_NEX_GDDP_CMIP6_Project_temp_2['Model']==model]\n",
    "            # concatenate observed and historic modeled data in one dataframe df\n",
    "            df = treat_data_for_test(data_obs_NOAA_filtered_to_fit,name_col_NOAA,climate_var_NEX_GDDP_CMIP6_to_fit,name_col_mod_hist,name_station,model)\n",
    "            # apply method; choose method based on if climate_var is precipitation or temperature\n",
    "            # X is the modeled historic set of data used to fit the model\n",
    "            # y is the observed set of data used to fit the model\n",
    "            # out is the product of the bias correction\n",
    "            if climate_var == 'pr':\n",
    "                (X_pcp,y_pcp,out)=BCSD_Precipitation_return_anoms_to_apply(df,climate_var_NEX_GDDP_CMIP6_Project_temp_3[['Date',name_col_mod_proj]].dropna().reset_index(drop=True))\n",
    "            else:\n",
    "                (X_temp,y_temp,out)=BCSD_Temperature_return_anoms_to_apply(df,climate_var_NEX_GDDP_CMIP6_Project_temp_3[['Date',name_col_mod_proj]].dropna().reset_index(drop=True))\n",
    "            out = out.reset_index() # date is no longer the index\n",
    "            out['Name project']=name_project # impose the name of the project in the dataframe\n",
    "            out['Experiment']=scenario # impose the name of the scenario in the dataframe\n",
    "            out['Model']=model # impose the name of the model in the dataframe\n",
    "            df_bc_corrected=pd.concat([df_bc_corrected,out]) # concat the result to the other results"
   ]
  },
  {
   "cell_type": "code",
   "execution_count": null,
   "id": "6d8d1e91",
   "metadata": {},
   "outputs": [],
   "source": [
    "df_t = df_bc_corrected.copy(deep=True)"
   ]
  },
  {
   "cell_type": "code",
   "execution_count": null,
   "id": "2cff100a",
   "metadata": {},
   "outputs": [],
   "source": [
    "df_bc_corrected = df_bc_corrected.reset_index(drop=True) # reset index not to have several time the same index"
   ]
  },
  {
   "cell_type": "code",
   "execution_count": null,
   "id": "8f2161a6",
   "metadata": {},
   "outputs": [],
   "source": [
    "df_bc_corrected['Date']=pd.to_datetime(df_bc_corrected[['Date']].Date,format='%Y-%d-%m')\n",
    "df_bc_corrected['Date']=df_bc_corrected['Date'].astype(str)"
   ]
  },
  {
   "cell_type": "code",
   "execution_count": null,
   "id": "c548a629",
   "metadata": {},
   "outputs": [],
   "source": [
    "df_bc_corrected"
   ]
  },
  {
   "cell_type": "code",
   "execution_count": null,
   "id": "6d24a0cc",
   "metadata": {},
   "outputs": [],
   "source": [
    "# add month, year and season. Will be usefull to apply CRVA\n",
    "df_bc_corrected = add_year_month_season(df_bc_corrected,'Date')"
   ]
  },
  {
   "cell_type": "code",
   "execution_count": null,
   "id": "aa4bf7fe",
   "metadata": {},
   "outputs": [],
   "source": [
    "df_bc_corrected"
   ]
  },
  {
   "cell_type": "markdown",
   "id": "0cac1e13",
   "metadata": {},
   "source": [
    "# Export result as csv file"
   ]
  },
  {
   "cell_type": "code",
   "execution_count": null,
   "id": "3ac104de",
   "metadata": {},
   "outputs": [],
   "source": [
    "path = r'\\\\COWI.net\\projects\\A245000\\A248363\\CRVA\\Datasets\\NEX-GDDP-CMIP6-AllMoz\\csv_file'"
   ]
  },
  {
   "cell_type": "code",
   "execution_count": null,
   "id": "19a67553",
   "metadata": {},
   "outputs": [],
   "source": [
    "if not os.path.isdir(os.path.join(path,climate_var,climate_var+'_'+unit+'_'+resolution+'_'+str(start_y_correct)+'-'+str(stop_y_correct)+'_BiasCorrected')):\n",
    "    os.makedirs(os.path.join(path,climate_var,climate_var+'_'+unit+'_'+resolution+'_'+str(start_y_correct)+'-'+str(stop_y_correct)+'_BiasCorrected'))"
   ]
  },
  {
   "cell_type": "code",
   "execution_count": null,
   "id": "15f1b41c",
   "metadata": {},
   "outputs": [],
   "source": [
    "df_bc_corrected.to_csv(os.path.join(path,climate_var,climate_var+'_'+unit+'_'+resolution+'_'+str(start_y_correct)+'-'+str(stop_y_correct)+'_BiasCorrected',climate_var+'_'+unit+resolution+str(start_y_correct)+'-'+str(stop_y_correct)+'_BiasCorrected_EmplacementStationNOAA.csv'))"
   ]
  },
  {
   "cell_type": "code",
   "execution_count": null,
   "id": "89b76f0b",
   "metadata": {},
   "outputs": [],
   "source": []
  },
  {
   "cell_type": "code",
   "execution_count": null,
   "id": "8ed260b3",
   "metadata": {},
   "outputs": [],
   "source": []
  },
  {
   "cell_type": "code",
   "execution_count": null,
   "id": "57d9fd39",
   "metadata": {},
   "outputs": [],
   "source": []
  },
  {
   "cell_type": "code",
   "execution_count": null,
   "id": "3e7e9c02",
   "metadata": {},
   "outputs": [],
   "source": []
  },
  {
   "cell_type": "code",
   "execution_count": null,
   "id": "f9ecdd72",
   "metadata": {},
   "outputs": [],
   "source": []
  },
  {
   "cell_type": "code",
   "execution_count": null,
   "id": "57606f20",
   "metadata": {},
   "outputs": [],
   "source": []
  },
  {
   "cell_type": "code",
   "execution_count": null,
   "id": "e17a4508",
   "metadata": {},
   "outputs": [],
   "source": []
  },
  {
   "cell_type": "code",
   "execution_count": null,
   "id": "9691fde6",
   "metadata": {},
   "outputs": [],
   "source": []
  },
  {
   "cell_type": "code",
   "execution_count": null,
   "id": "cb6a36f2",
   "metadata": {},
   "outputs": [],
   "source": []
  },
  {
   "cell_type": "code",
   "execution_count": null,
   "id": "b96a7ab0",
   "metadata": {},
   "outputs": [],
   "source": []
  },
  {
   "cell_type": "code",
   "execution_count": null,
   "id": "827249f5",
   "metadata": {},
   "outputs": [],
   "source": []
  },
  {
   "cell_type": "code",
   "execution_count": null,
   "id": "48ca56e2",
   "metadata": {},
   "outputs": [],
   "source": []
  },
  {
   "cell_type": "code",
   "execution_count": null,
   "id": "300b7583",
   "metadata": {},
   "outputs": [],
   "source": []
  },
  {
   "cell_type": "code",
   "execution_count": null,
   "id": "82cda859",
   "metadata": {},
   "outputs": [],
   "source": []
  },
  {
   "cell_type": "code",
   "execution_count": null,
   "id": "dd4b88ad",
   "metadata": {},
   "outputs": [],
   "source": []
  },
  {
   "cell_type": "code",
   "execution_count": null,
   "id": "ffd3e03d",
   "metadata": {},
   "outputs": [],
   "source": []
  }
 ],
 "metadata": {
  "kernelspec": {
   "display_name": "Python 3 (ipykernel)",
   "language": "python",
   "name": "python3"
  },
  "language_info": {
   "codemirror_mode": {
    "name": "ipython",
    "version": 3
   },
   "file_extension": ".py",
   "mimetype": "text/x-python",
   "name": "python",
   "nbconvert_exporter": "python",
   "pygments_lexer": "ipython3",
   "version": "3.10.6"
  }
 },
 "nbformat": 4,
 "nbformat_minor": 5
}
