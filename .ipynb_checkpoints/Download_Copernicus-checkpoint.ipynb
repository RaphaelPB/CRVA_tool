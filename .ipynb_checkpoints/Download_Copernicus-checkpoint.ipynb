{
 "cells": [
  {
   "cell_type": "markdown",
   "id": "b93dcc14",
   "metadata": {},
   "source": [
    "This notebook is meant to download data from copernicus CMIP6.\n",
    "\n",
    "Data source : https://cds.climate.copernicus.eu/cdsapp#!/dataset/projections-cmip6?tab=form"
   ]
  },
  {
   "cell_type": "markdown",
   "id": "161c8b78",
   "metadata": {},
   "source": [
    "# User input"
   ]
  },
  {
   "cell_type": "code",
   "execution_count": 1,
   "id": "59a4269d",
   "metadata": {},
   "outputs": [],
   "source": [
    "period_of_interest = 'future' # 'future' (2015-2100) or 'past' (1950-2014)\n",
    "global_variable = 'temperature'\n",
    "name_variable = 'daily_maximum_near_surface_air_temperature' \n",
    "\n",
    "# 'tas' 'near_surface_air_temperature'\n",
    "# 'tasmax' 'daily_maximum_near_surface_air_temperature'\n",
    "# 'tasmin' 'daily_minimum_near_surface_air_temperature'\n",
    "# 'hurs' 'near_surface_specific_humidity'\n",
    "# 'Wind' 'near_surface_wind_speed'\n",
    "\n",
    "temporal_resolution = 'daily'\n",
    "\n",
    "# wind register at 10 m"
   ]
  },
  {
   "cell_type": "markdown",
   "id": "843fe416",
   "metadata": {},
   "source": [
    "# Functions and packages"
   ]
  },
  {
   "cell_type": "code",
   "execution_count": 2,
   "id": "9510fc3b",
   "metadata": {},
   "outputs": [],
   "source": [
    "import pandas as pd\n",
    "import numpy as np\n",
    "import numpy.ma as ma\n",
    "import netCDF4 as nc#not directly used but needs to be imported for some nc4 files manipulations, use for nc files\n",
    "from netCDF4 import Dataset\n",
    "import xarray as xr\n",
    "import datetime # to have actual date\n",
    "import os\n",
    "import os.path\n",
    "import cdsapi # for copernicus function\n",
    "import shutil\n",
    "from datetime import datetime"
   ]
  },
  {
   "cell_type": "markdown",
   "id": "c3262e08",
   "metadata": {},
   "source": [
    "# Out path"
   ]
  },
  {
   "cell_type": "code",
   "execution_count": 3,
   "id": "ead08c23",
   "metadata": {},
   "outputs": [],
   "source": [
    "out_path=r'\\\\COWI.net\\projects\\A245000\\A248363\\CRVA\\Datasets'"
   ]
  },
  {
   "cell_type": "markdown",
   "id": "53516663",
   "metadata": {},
   "source": [
    "# Area information\n",
    "\n",
    "This code download data one area at the time. The user must indicate which part of the word he/she wnats to download.\n",
    "\n",
    "Reminder: \n",
    "\n",
    "latitude is vertical, it specifies North-South positions.\n",
    "\n",
    "longitude is horizontal, it specifies West-East positions."
   ]
  },
  {
   "cell_type": "code",
   "execution_count": 4,
   "id": "1f2fba23",
   "metadata": {},
   "outputs": [],
   "source": [
    "# default coordinates are the ones of Mozambique\n",
    "\n",
    "name_area = 'all-Mozambique'\n",
    "\n",
    "North = -10\n",
    "South = -27\n",
    "West = 30\n",
    "East = 41\n",
    "\n",
    "area = [North, West, South, East] # list format"
   ]
  },
  {
   "cell_type": "markdown",
   "id": "e9b3f294",
   "metadata": {},
   "source": [
    "# Class"
   ]
  },
  {
   "cell_type": "markdown",
   "id": "b9e29fa6",
   "metadata": {},
   "source": [
    "### Calendar class"
   ]
  },
  {
   "cell_type": "code",
   "execution_count": 5,
   "id": "d2d6a2c5",
   "metadata": {},
   "outputs": [],
   "source": [
    "# class to define parameter of time that remain constant durinf the whole script\n",
    "class calendar:\n",
    "    default_month = [ \n",
    "                '01', '02', '03',\n",
    "                '04', '05', '06',\n",
    "                '07', '08', '09',\n",
    "                '10', '11', '12',\n",
    "                ]\n",
    "    default_day = [\n",
    "                '01', '02', '03',\n",
    "                '04', '05', '06',\n",
    "                '07', '08', '09',\n",
    "                '10', '11', '12',\n",
    "                '13', '14', '15',\n",
    "                '16', '17', '18',\n",
    "                '19', '20', '21',\n",
    "                '22', '23', '24',\n",
    "                '25', '26', '27',\n",
    "                '28', '29', '30',\n",
    "                '31',\n",
    "                ]\n",
    "    #actual_date = datetime.date.today()\n",
    "    #actual_year = actual_date.year"
   ]
  },
  {
   "cell_type": "markdown",
   "id": "c24c5e67",
   "metadata": {},
   "source": [
    "### Copernicus class"
   ]
  },
  {
   "cell_type": "code",
   "execution_count": 6,
   "id": "d8f79fb3",
   "metadata": {},
   "outputs": [],
   "source": [
    "## Definition of tuples that will be useful to search which data are available or not\n",
    "# make it tuples to make unchangeable\n",
    "class copernicus_elements:\n",
    "    # there is 58 models\n",
    "    models =('access_cm2','awi_cm_1_1_mr','bcc_csm2_mr','cams_csm1_0','canesm5_canoe','cesm2_fv2','cesm2_waccm_fv2','cmcc_cm2_hr4','cmcc_esm2','cnrm_cm6_1_hr','e3sm_1_0','e3sm_1_1_eca','ec_earth3_aerchem','ec_earth3_veg','fgoals_f3_l','fio_esm_2_0','giss_e2_1_g','hadgem3_gc31_ll','iitm_esm','inm_cm5_0','ipsl_cm6a_lr','kiost_esm','miroc6','miroc_es2l','mpi_esm1_2_hr','mri_esm2_0','norcpm1','noresm2_mm','taiesm1','access_esm1_5','awi_esm_1_1_lr','bcc_esm1','canesm5','cesm2','cesm2_waccm','ciesm','cmcc_cm2_sr5','cnrm_cm6_1','cnrm_esm2_1','e3sm_1_1','ec_earth3','ec_earth3_cc','ec_earth3_veg_lr','fgoals_g3','gfdl_esm4','giss_e2_1_h','hadgem3_gc31_mm','inm_cm4_8','ipsl_cm5a2_inca','kace_1_0_g','mcm_ua_1_0','miroc_es2h','mpi_esm_1_2_ham','mpi_esm1_2_lr','nesm3','noresm2_lm','sam0_unicon','ukesm1_0_ll')\n",
    "    experiments = ('ssp1_1_9','ssp1_2_6','ssp4_3_4','ssp5_3_4os','ssp2_4_5','ssp4_6_0','ssp3_7_0','ssp5_8_5')\n",
    "    experiments_historical=('historical',)"
   ]
  },
  {
   "cell_type": "code",
   "execution_count": 7,
   "id": "e9a04313",
   "metadata": {},
   "outputs": [],
   "source": [
    "if period_of_interest == 'past':\n",
    "    y_start = 1950\n",
    "    y_end = 2014\n",
    "    scenarios = copernicus_elements.experiments_historical\n",
    "if period_of_interest == 'future':\n",
    "    y_start = 2015\n",
    "    y_end = 2100\n",
    "    scenarios = copernicus_elements.experiments"
   ]
  },
  {
   "cell_type": "markdown",
   "id": "80c51b12",
   "metadata": {},
   "source": [
    "## Functions"
   ]
  },
  {
   "cell_type": "code",
   "execution_count": 8,
   "id": "503373bb",
   "metadata": {},
   "outputs": [],
   "source": [
    "################################################ Period for copernicus function ################################################\n",
    "# Aim of the function: by giving it a first and last year of the period that must analyzed, this function produce several \n",
    "# vectors,containing time informations, useful to download and treat data from CMIP6 projections (https://cds.climate.copernicus.eu/cdsapp#!/dataset/projections-cmip6?tab=overview )\n",
    "# Those time vectors are used in the copernicus_data and the dataframe_copernicus and csv_copernicus functions\n",
    "\n",
    "# function year_copernicus produce \n",
    "# year: a vector containing all the year in the period of interest\n",
    "# year_str: an array containing all the year in the period of interest in the string format\n",
    "# index: an array containing the index of the year and year_str\n",
    "#### Parameters of the function\n",
    "# first_year: number in int format, of the first year of the period of interest\n",
    "# last_year: number in int format, of the last year of the period of interest\n",
    "def year_copernicus(first_year,last_year):\n",
    "    year = np.arange(first_year,(last_year+1),1) # create vector of years\n",
    "    year_str = [0]*len(year) # create initiale empty vector to convert years in int\n",
    "    index = np.arange(0,len(year)) # create vector of index for year\n",
    "    i = 0 # initialize index\n",
    "    for i in index: # convert all the date in string format\n",
    "        year_str[i]=str(year[i])\n",
    "    return (year, year_str, index)\n",
    "\n",
    "# function date_copernicus produce \n",
    "# dates: the format depend on the temporal reolution, but always contain the dates of the period of interest.\n",
    "#        with temporal_resolution=daily, dates is a DatetimeIndex\n",
    "#        with temporal_resolution=monthly, dates is a list\n",
    "# index_dates: an array containing the index of the dates\n",
    "#### Parameters of the function\n",
    "# temporal_resolution: daily or monthly\n",
    "# year_str: ???? produce by function year_copernicus, containing the year of the period of interest in string format\n",
    "def date_copernicus(temporal_resolution,year_str):\n",
    "    start_date = \"01-01-\"+year_str[0] # string start date based on start year\n",
    "    stop_date = \"31-12-\"+year_str[len(year_str)-1] # string stop date based on stop year\n",
    "    if temporal_resolution =='daily':\n",
    "        # vector of dates between start date and stop date\n",
    "        dates = pd.date_range(start_date,stop_date)# dates is a pandas.core.indexes.datetimes.DatetimeIndex\n",
    "        # By default, freq = 'D', which means calendar day frequency (source : https://pandas.pydata.org/docs/user_guide/timeseries.html#timeseries-offset-aliases)\n",
    "        #index_dates = np.arange(0,len(dates)) # vector containning index o dates vector\n",
    "    if temporal_resolution =='monthly':\n",
    "        dates = pd.date_range(start_date,stop_date,freq='MS') # vector of dates between start date and stop date\n",
    "        dates=list(dates.strftime('%m-%Y')) # dates is an pandas.core.indexes.base.Index, not a pandas.core.indexes.datetimes.DatetimeIndex\n",
    "    #if temporal_resolution =='fixed': trouver donnees pour gerer cela\n",
    "    index_dates = np.arange(0,len(dates)) # vector containning index o dates vector\n",
    "    return (dates, index_dates)"
   ]
  },
  {
   "cell_type": "code",
   "execution_count": 9,
   "id": "1bec7c7b",
   "metadata": {},
   "outputs": [],
   "source": [
    "########################################### Download data from Copernicus Website ############################################\n",
    "# Aim of the function: this function aims to downloaded with the function copernicus_data the files of interest from the website\n",
    "# Copernicus CMIP6\n",
    "# Actions of this function\n",
    "#     1) Create the string indicating the period of interest\n",
    "#     2) Download data, with its corresponding experiments and models\n",
    "#        2 a) Creates path for file\n",
    "#        2 b) Thanks to function 'copernicus_data', download the data inthe path just created\n",
    "\n",
    "# Parameters of the function\n",
    "# temporal_resolution: 'daily', 'monthly', or 'fixed'. String type \n",
    "# year_str: list containing all the years under the string type and in the period of interest\n",
    "# experiments: copernicus_elements.experiments\n",
    "# models: copernicus_elements.models\n",
    "# out_path: path were the outputs are registered. Defined by the user at the beginning of the code \n",
    "# global_variable: global name of the climate variable of interest (example: Wind)\n",
    "# name_variable: name of the elements downloaded from copernicus (example: 'near_surface_wind_speed')\n",
    "# area: list containing latitudes and longitudes of area of interest\n",
    "# name_area: Name of the area of interest\n",
    "# source: name of the source of the data, by default it is 'Copernicus-CMIP6'\n",
    "\n",
    "def download_copernicus(temporal_resolution,year_str,experiments,models,out_path, global_variable, name_variable,area, name_area,source='Copernicus-CMIP6'):    \n",
    "    # create string for name of folder depending on type of period\n",
    "    if temporal_resolution == 'fixed':\n",
    "        period = 'fixed'\n",
    "    else:\n",
    "        period=year_str[0]+'-'+year_str[len(year_str)-1]\n",
    "        \n",
    "    for SSP in experiments:\n",
    "        experiment = (SSP,) # create tuple for iteration of dataframe\n",
    "        for model_simulation in models:\n",
    "            model =(model_simulation,) # create tuple for iteration of dataframe\n",
    "            print('Test with scenario '+SSP+' and model '+model_simulation)\n",
    "            # path were the futur downloaded file is registered\n",
    "            path_for_file= os.path.join(out_path,global_variable,name_variable,source,'raw_data',period,SSP,model_simulation)\n",
    "            #path_for_file = path_length(path_for_file)\n",
    "            # existence of path_for_file tested in copernicus function\n",
    "            copernicus_data(temporal_resolution,SSP,name_variable,model_simulation,year_str,area,path_for_file,out_path,name_area,source)\n",
    "\n",
    "    return"
   ]
  },
  {
   "cell_type": "code",
   "execution_count": 10,
   "id": "350b5a88",
   "metadata": {},
   "outputs": [],
   "source": [
    "################################################### Copernicus data function ###################################################\n",
    "# Aim of the function : Determine if the data were already downloadeed or not. If the data were not downloaded, call\n",
    "# function 'try_download_copernicus' to download them. If the data were already downloaded but not extracted, call function\n",
    "# 'download_extract'\n",
    "# Actions of this function\n",
    "#     1) create the string of the path where the data will be registered \n",
    "#        \n",
    "#     2) Check if the path where the data will be registered already exists or not\n",
    "#        2 a) The path where the data will be registered does not exist\n",
    "#             The path where are the compressed data exists ?\n",
    "#                   ---> no : call the 'try_download_copernicus' to download and extract the data of interest\n",
    "#                   ---> yes : is the path empty ?\n",
    "#                              > yes : use 'try_download_copernicus' to download and extract the data of interest\n",
    "#                              > no : call function 'download_extract' to extract the files in this path to path_for_file\n",
    "#        2 b) The path where the data will be registered does exist\n",
    "#             Is the path empty ?\n",
    "#                   ---> yes : the path where the compressed data are exists ?\n",
    "#                             > no : use 'try_download_copernicus' to download and extract the data of interest\n",
    "#                             > yes : is the folder empty ?\n",
    "#                                     * yes : use 'try_download_copernicus' to download and extract the data of interest\n",
    "#                                     * no : call function 'download_extract' to extract the files in this path to path_for_file\n",
    "#                   ---> no : the data were downloaded and extracted for the elements of interest \n",
    "\n",
    "#### Parameters of the function\n",
    "# temporal_resolution : daily or monthly or fixed\n",
    "# SSP : scenario that is studied \"Historical\", \"SSP1-1.9\", \"SSP1-2.6\" ...\n",
    "# name_variable : variable to be studied\n",
    "# model: model of projection to choose\n",
    "# year: year(s) of study to choose\n",
    "# area: area of study, if not specific, area should be an empty array area=[]\n",
    "# path_for_file: path where the file must be unzipped\n",
    "# out_path: path were all the outputs are registered, defined by the user in the begining of the main code\n",
    "# name_area :  Name of the area of interest\n",
    "# source: name of the source of the data (here 'Copernicus-CMIP6')\n",
    "\n",
    "def copernicus_data(temporal_resolution,SSP,name_variable,model,year,area,path_for_file,out_path,name_area,source): \n",
    "    # create path for the downloaded file\n",
    "    start_path = os.path.join(out_path,'Data_download_zip')\n",
    "    file_download=create_file_download_path(start_path,name_variable,name_area,SSP,model,year,temporal_resolution,source)\n",
    "    \n",
    "    if not os.path.isdir(path_for_file):\n",
    "        # the path for the file does not exist\n",
    "        print('path_for_file does not exist: the data may not have been downloaded') \n",
    "        if not os.path.isdir(file_download):\n",
    "            print('file_download does not exist: the data were not downloaded')\n",
    "            # function try to download from copernicus\n",
    "            try_download_copernicus(temporal_resolution,SSP,name_variable,model,area,year,path_for_file,file_download,name_area)\n",
    "            return\n",
    "            \n",
    "        else: # if the path already exist, the data in zip format should also exists\n",
    "            if not os.path.isfile(os.path.join(file_download,'download.zip')):\n",
    "                print('The path for the download file exists, but is empty')\n",
    "                # function try to download from copernicus\n",
    "                try_download_copernicus(temporal_resolution,SSP,name_variable,model,area,year,path_for_file,file_download,name_area)                \n",
    "                return\n",
    "            else:\n",
    "                print('file_download does exist, the data have been downloaded, but not extracted')\n",
    "                download_extract(path_for_file,file_download,name_area)\n",
    "                return\n",
    "                \n",
    "    else: \n",
    "        # the path for the file exists\n",
    "        if not os.listdir(path_for_file): # if the path is empty\n",
    "            if not os.path.isdir(file_download):\n",
    "                print('file_download does not exist: the data were not downloaded')\n",
    "                # function try to download from copernicus\n",
    "                try_download_copernicus(temporal_resolution,SSP,name_variable,model,area,year,path_for_file,file_download,name_area)\n",
    "                return\n",
    "\n",
    "            else: # if the path already exist, the data in zip format should also exists\n",
    "                if not os.path.isfile(os.path.join(file_download,'download.zip')):\n",
    "                    print('The path for the download file exists, but is empty')\n",
    "                    # function try to download from copernicus\n",
    "                    try_download_copernicus(temporal_resolution,SSP,name_variable,model,area,year,path_for_file,file_download,name_area)\n",
    "                    return\n",
    "                else:\n",
    "                    print('file_download does exist, the data have been downloaded, but not extracted')\n",
    "                    download_extract(path_for_file,file_download,name_area)\n",
    "                    return\n",
    "        \n",
    "        else: # if the path is not empty\n",
    "            print(f'The data has already been downloaded and extracted at {path_for_file}')\n",
    "            return"
   ]
  },
  {
   "cell_type": "code",
   "execution_count": 11,
   "id": "3c6d6b4b",
   "metadata": {},
   "outputs": [],
   "source": [
    "################################################### try_download_copernicus function ###################################################\n",
    "# Aim of the function : download compressed files from the Copernicus CMIP6 website (indicated at the beginning of the website)\n",
    "\n",
    "##### Actions of the functions :\n",
    "#     1) import function cdsapi.Client(). Will be use in step 3, with c.retrieve\n",
    "#     2) Create the variables dictionnary, depending on the parameters of 'try_download_copernicus'. this dictionnary will then\n",
    "#        be used in the c.retrieve function\n",
    "#     3) Try to downloaded compressed file from Copernicus CMIP6 website. If parameters are not matching, will fall in except \n",
    "#        and continue\n",
    "#     4) Use function 'download_extract' to extract compressed files in path_for_file\n",
    "\n",
    "##### Parameters :\n",
    "# temporal_resolution : daily or monthly or fixed\n",
    "# SSP : scenario that is studied \"Historical\", \"SSP1-1.9\", \"SSP1-2.6\" ...\n",
    "# name_variable : variable to be studied\n",
    "# model: model of projection to choose\n",
    "# area: area of study, if not specific, area should be an empty array area=[]\n",
    "# year: year(s) of study to choose\n",
    "# path_for_file: path where the file must be unzipped\n",
    "# file_download : path where the compressed files under a zip format are registered\n",
    "# name_area : Name of the area of interest\n",
    "\n",
    "def try_download_copernicus(temporal_resolution,SSP,name_variable,model,area,year,path_for_file,file_download,name_area):\n",
    "    c = cdsapi.Client()# function to use the c.retrieve\n",
    "    # basic needed dictionnary to give to the c.retrieve function the parameters asked by the user\n",
    "    variables = {\n",
    "                'format': 'zip', # this function is only designed to download and unzip zip files\n",
    "                'temporal_resolution': temporal_resolution,\n",
    "                'experiment': SSP,\n",
    "                'variable': name_variable,\n",
    "                'model': model,\n",
    "    }\n",
    "\n",
    "    if area != []: # the user is interested by a sub region and not the whole region \n",
    "        variables.update({'area':area}) \n",
    "\n",
    "    if (name_variable=='air_temperature') or (name_variable=='relative_humidity') or (name_variable=='specific_humidity') or (name_variable=='eastward_wind') or (name_variable=='northward_wind') or (name_variable=='geopotential_height'): # test if variable is temperature\n",
    "        variables['level'] = '1000' # [hPa], value of the standard pressure at sea level is 1013.25 [hPa], so 1000 [hPa] is the neareste value. Other pressure value are available but there is no interest for the aim of this project\n",
    "\n",
    "    if temporal_resolution != 'fixed':# if 'fixed', no year, month, date to choose\n",
    "        variables['year']=year # period chosen by the user\n",
    "        variables['month']= calendar.default_month  # be default, all the months are given; defined in class calendar\n",
    "        if temporal_resolution == 'daily':\n",
    "            variables['day']= calendar.default_day # be default, all the days are given; defined in class calendar\n",
    "    # c.retrieve download the data from the website\n",
    "    try:\n",
    "        c.retrieve(\n",
    "            'projections-cmip6',\n",
    "            variables,\n",
    "            'download.zip') # the file in a zip format is registered in the current directory\n",
    "    except:\n",
    "        print('Some parameters are not matching')\n",
    "        return # stop the function, because some data the user entered are not matching\n",
    "    print('The file has been download')\n",
    "    # function to extract the downloaded zip\n",
    "    download_extract(path_for_file,file_download,name_area)\n",
    "    print('The file has been extracted')\n",
    "    return"
   ]
  },
  {
   "cell_type": "code",
   "execution_count": 12,
   "id": "f4958584",
   "metadata": {},
   "outputs": [],
   "source": [
    "# 'download_extract' function aims to extract in path_for_file, the downloaded file in zip format which is registered \n",
    "# in file_download\n",
    "\n",
    "#### Actions of the function :\n",
    "#     1) Check if the path_for_file, where the decompressed file should be registered, exists\n",
    "#        > no : ensure the creation of the path with os.makedirs\n",
    "#     2) Check if the compressed file is in the working directory\n",
    "#        > no : move the compressed fil to the working directory\n",
    "#     3) Extract the compressed file, in a folder named 'name_area'\n",
    "#     4) Check if the file_download, where the compressed file should be registered, exists\n",
    "#        > no : ensure the creation of the path with os.makedirs\n",
    "#     5) move the files to the appropriate places\n",
    "\n",
    "def download_extract(path_for_file,file_download,name_area):\n",
    "    # step 1\n",
    "    path_for_file = os.path.join(path_for_file,name_area)\n",
    "    if not os.path.isdir(path_for_file): # path_for_file does not exists, need to ensure that is is created\n",
    "        os.makedirs(path_for_file) # to ensure the creation of the path\n",
    "        print(path_for_file)\n",
    "        print('Path for the file is created, did not existed before')\n",
    "    \n",
    "    # step 2\n",
    "    if 'download.zip' not in os.listdir(): # check if download is in the working directory\n",
    "        print('The download zip is moved to the working directory')\n",
    "        path_downloaded_zip=os.path.join(file_download,'download.zip')\n",
    "        shutil.move(path_downloaded_zip,r'C:\\Users\\CLMRX\\OneDrive - COWI\\Documents\\GitHub\\CRVA_tool') # move download file to working directory\n",
    "    \n",
    "    # step 3\n",
    "    from zipfile import ZipFile\n",
    "    zf = ZipFile('download.zip', 'r')\n",
    "    zf.extractall(name_area) # if no precision of directory, extract in current directory\n",
    "    zf.close()\n",
    "\n",
    "    # step 4\n",
    "    if not os.path.isdir(file_download): # path_for_file does not exists, need to ensure that is is created\n",
    "        os.makedirs(file_download) # to ensure the creation of the path\n",
    "    \n",
    "    # step 5\n",
    "    # moving download to appropriate place\n",
    "    shutil.move('download.zip',file_download) # no need to delete 'download.zip' from inital place\n",
    "    for file in os.listdir(name_area):\n",
    "        try:\n",
    "            shutil.move(os.path.join(r'C:\\Users\\CLMRX\\OneDrive - COWI\\Documents\\GitHub\\CRVA_tool',name_area,file),os.path.join(path_for_file,file)) # move extracted data to the path created for them\n",
    "        except:\n",
    "            #os.remove(file) # does not work\n",
    "            pass\n",
    "    #if name_area in os.listdir():\n",
    "    #    print(name_area + ' is here')\n",
    "    #    shutil.rmtree(name_area)\n",
    "    #    print(name_area + ' has been deleted')\n",
    "    print('\\n The downloaded file is extracted')\n",
    "    return"
   ]
  },
  {
   "cell_type": "code",
   "execution_count": 13,
   "id": "a1770731",
   "metadata": {},
   "outputs": [],
   "source": [
    "# 'create_file_download_path' function to create path for the downloaded compressed folder\n",
    "\n",
    "def create_file_download_path(start_path,name_variable,name_area,SSP,model,year,temporal_resolution,source):\n",
    "    # adapt the name of the folder for the period, depending on the type of period\n",
    "    if len(year)==1:\n",
    "        file_download = os.path.join(start_path,name_variable,source,year,SSP,model,name_area)\n",
    "    elif len(year)>1:\n",
    "        period=year[0]+'-'+year[len(year)-1]\n",
    "        file_download = os.path.join(start_path,name_variable,source,period,SSP,model,name_area)\n",
    "    elif temporal_resolution == 'fixed':\n",
    "        file_download = os.path.join(start_path,name_variable,source,'fixed_period',SSP,model,name_area)\n",
    "    #file_download = path_length(file_download)\n",
    "    return file_download # returns string of the path where the downloaded compressed folder must be registered"
   ]
  },
  {
   "cell_type": "code",
   "execution_count": 14,
   "id": "306fbfef",
   "metadata": {},
   "outputs": [],
   "source": [
    "# seach_for_nc is a function looking in path_for_file for a document in .nc format\n",
    "\n",
    "def search_for_nc(path_for_file):\n",
    "    print('path_for_file does exist Function copernicus search for nc')\n",
    "    for file in os.listdir(path_for_file):\n",
    "        if file.endswith(\".nc\"):\n",
    "            final_path=os.path.join(path_for_file, file)\n",
    "            \n",
    "            print('The file is in the path Function copernicus search for nc\\n')\n",
    "            print('Before path_length, The final path for the nc file is: '+final_path)\n",
    "            answer = str(os.path.isfile(final_path))\n",
    "            print('\\n The final path for nc file exists ? '+answer+'\\n')\n",
    "            final_path=path_length(final_path) # check if length of path is too long\n",
    "            print('After path_length, The final path for the nc file is: '+final_path)\n",
    "            answer = str(os.path.isfile(final_path))\n",
    "            print('\\n The final path for nc file exists ? '+answer+'\\n')\n",
    "            return final_path # the function returns the path of the nc file of interest\n",
    "            break # stop the function if a nc file was found \n",
    "        else:\n",
    "            pass\n",
    "    # the all folder has been search and there is no nc file in it\n",
    "    print('Problem : No nc file was found Function copernicus Function copernicus search for nc')# this line is out of the for loop, \n",
    "    #because it should only appear once all the folder has been examinated and if the break of the if was not used"
   ]
  },
  {
   "cell_type": "code",
   "execution_count": 15,
   "id": "073da551",
   "metadata": {},
   "outputs": [],
   "source": [
    "# this functions test if the path is too long\n",
    "# if the path is more than 250 char, the path wll be modified in order for windows to accept is as a path\n",
    "\n",
    "def path_length(str1):\n",
    "    if len(str1)>250:\n",
    "        path = os.path.abspath(str1) # normalize path\n",
    "        if path.startswith(u\"\\\\\\\\\"):\n",
    "            path=u\"\\\\\\\\?\\\\UNC\\\\\"+path[2:]\n",
    "        else:\n",
    "            path=u\"\\\\\\\\?\\\\\"+path\n",
    "        return path\n",
    "    else:\n",
    "        return str1"
   ]
  },
  {
   "cell_type": "markdown",
   "id": "feccff81",
   "metadata": {},
   "source": [
    "# Register copernicus data"
   ]
  },
  {
   "cell_type": "code",
   "execution_count": 16,
   "id": "f3f80c2f",
   "metadata": {},
   "outputs": [],
   "source": [
    "(year, year_str, index)=year_copernicus(y_start,y_end)"
   ]
  },
  {
   "cell_type": "code",
   "execution_count": null,
   "id": "2844115c",
   "metadata": {},
   "outputs": [
    {
     "name": "stdout",
     "output_type": "stream",
     "text": [
      "Test with scenario ssp1_1_9 and model access_cm2\n",
      "path_for_file does not exist: the data may not have been downloaded\n",
      "file_download does not exist: the data were not downloaded\n"
     ]
    },
    {
     "name": "stderr",
     "output_type": "stream",
     "text": [
      "2023-07-14 09:42:48,219 INFO Welcome to the CDS\n",
      "2023-07-14 09:42:48,219 INFO Sending request to https://cds.climate.copernicus.eu/api/v2/resources/projections-cmip6\n",
      "2023-07-14 09:42:48,295 INFO Request is queued\n",
      "2023-07-14 09:42:49,336 INFO Request is failed\n",
      "2023-07-14 09:42:49,337 ERROR Message: an internal error occurred processing your request\n",
      "2023-07-14 09:42:49,337 ERROR Reason:  No matching data for request {'experiment': 'ssp119', 'model': 'ACCESS-CM2', 'temporal_resolution': 'day', 'variable': 'tasmax'}\n",
      "2023-07-14 09:42:49,338 ERROR   Traceback (most recent call last):\n",
      "2023-07-14 09:42:49,338 ERROR     File \"/opt/cdstoolbox/cdscompute/cdscompute/cdshandlers/services/handler.py\", line 59, in handle_request\n",
      "2023-07-14 09:42:49,339 ERROR       result = cached(context.method, proc, context, context.args, context.kwargs)\n",
      "2023-07-14 09:42:49,339 ERROR     File \"/opt/cdstoolbox/cdscompute/cdscompute/caching.py\", line 108, in cached\n",
      "2023-07-14 09:42:49,340 ERROR       result = proc(context, *context.args, **context.kwargs)\n",
      "2023-07-14 09:42:49,340 ERROR     File \"/opt/cdstoolbox/cdscompute/cdscompute/services.py\", line 124, in __call__\n",
      "2023-07-14 09:42:49,342 ERROR       return p(*args, **kwargs)\n",
      "2023-07-14 09:42:49,343 ERROR     File \"/opt/cdstoolbox/cdscompute/cdscompute/services.py\", line 60, in __call__\n",
      "2023-07-14 09:42:49,343 ERROR       return self.proc(context, *args, **kwargs)\n",
      "2023-07-14 09:42:49,344 ERROR     File \"/home/cds/cdsservices/services/esgf_wps/__init__.py\", line 30, in execute\n",
      "2023-07-14 09:42:49,344 ERROR       request_facets, request = facets.search(context, request)\n",
      "2023-07-14 09:42:49,345 ERROR     File \"/home/cds/cdsservices/services/esgf_wps/facets.py\", line 61, in search\n",
      "2023-07-14 09:42:49,345 ERROR       raise ValueError(f'No matching data for request {tmp_request}')\n",
      "2023-07-14 09:42:49,346 ERROR   ValueError: No matching data for request {'experiment': 'ssp119', 'model': 'ACCESS-CM2', 'temporal_resolution': 'day', 'variable': 'tasmax'}\n",
      "2023-07-14 09:42:49,388 INFO Welcome to the CDS\n",
      "2023-07-14 09:42:49,389 INFO Sending request to https://cds.climate.copernicus.eu/api/v2/resources/projections-cmip6\n",
      "2023-07-14 09:42:49,458 INFO Request is queued\n"
     ]
    },
    {
     "name": "stdout",
     "output_type": "stream",
     "text": [
      "Some parameters are not matching\n",
      "Test with scenario ssp1_1_9 and model awi_cm_1_1_mr\n",
      "path_for_file does not exist: the data may not have been downloaded\n",
      "file_download does not exist: the data were not downloaded\n"
     ]
    },
    {
     "name": "stderr",
     "output_type": "stream",
     "text": [
      "2023-07-14 09:42:50,495 INFO Request is failed\n",
      "2023-07-14 09:42:50,496 ERROR Message: an internal error occurred processing your request\n",
      "2023-07-14 09:42:50,497 ERROR Reason:  No matching data for request {'experiment': 'ssp119', 'model': 'AWI-CM-1-1-MR', 'temporal_resolution': 'day', 'variable': 'tasmax'}\n",
      "2023-07-14 09:42:50,500 ERROR   Traceback (most recent call last):\n",
      "2023-07-14 09:42:50,501 ERROR     File \"/opt/cdstoolbox/cdscompute/cdscompute/cdshandlers/services/handler.py\", line 59, in handle_request\n",
      "2023-07-14 09:42:50,502 ERROR       result = cached(context.method, proc, context, context.args, context.kwargs)\n",
      "2023-07-14 09:42:50,503 ERROR     File \"/opt/cdstoolbox/cdscompute/cdscompute/caching.py\", line 108, in cached\n",
      "2023-07-14 09:42:50,504 ERROR       result = proc(context, *context.args, **context.kwargs)\n",
      "2023-07-14 09:42:50,505 ERROR     File \"/opt/cdstoolbox/cdscompute/cdscompute/services.py\", line 124, in __call__\n",
      "2023-07-14 09:42:50,506 ERROR       return p(*args, **kwargs)\n",
      "2023-07-14 09:42:50,506 ERROR     File \"/opt/cdstoolbox/cdscompute/cdscompute/services.py\", line 60, in __call__\n",
      "2023-07-14 09:42:50,506 ERROR       return self.proc(context, *args, **kwargs)\n",
      "2023-07-14 09:42:50,507 ERROR     File \"/home/cds/cdsservices/services/esgf_wps/__init__.py\", line 30, in execute\n",
      "2023-07-14 09:42:50,508 ERROR       request_facets, request = facets.search(context, request)\n",
      "2023-07-14 09:42:50,509 ERROR     File \"/home/cds/cdsservices/services/esgf_wps/facets.py\", line 61, in search\n",
      "2023-07-14 09:42:50,509 ERROR       raise ValueError(f'No matching data for request {tmp_request}')\n",
      "2023-07-14 09:42:50,509 ERROR   ValueError: No matching data for request {'experiment': 'ssp119', 'model': 'AWI-CM-1-1-MR', 'temporal_resolution': 'day', 'variable': 'tasmax'}\n",
      "2023-07-14 09:42:50,548 INFO Welcome to the CDS\n",
      "2023-07-14 09:42:50,548 INFO Sending request to https://cds.climate.copernicus.eu/api/v2/resources/projections-cmip6\n",
      "2023-07-14 09:42:50,608 INFO Request is queued\n"
     ]
    },
    {
     "name": "stdout",
     "output_type": "stream",
     "text": [
      "Some parameters are not matching\n",
      "Test with scenario ssp1_1_9 and model bcc_csm2_mr\n",
      "path_for_file does not exist: the data may not have been downloaded\n",
      "file_download does not exist: the data were not downloaded\n"
     ]
    },
    {
     "name": "stderr",
     "output_type": "stream",
     "text": [
      "2023-07-14 09:42:51,644 INFO Request is failed\n",
      "2023-07-14 09:42:51,646 ERROR Message: an internal error occurred processing your request\n",
      "2023-07-14 09:42:51,647 ERROR Reason:  No matching data for request {'experiment': 'ssp119', 'model': 'BCC-CSM2-MR', 'temporal_resolution': 'day', 'variable': 'tasmax'}\n",
      "2023-07-14 09:42:51,648 ERROR   Traceback (most recent call last):\n",
      "2023-07-14 09:42:51,649 ERROR     File \"/opt/cdstoolbox/cdscompute/cdscompute/cdshandlers/services/handler.py\", line 59, in handle_request\n",
      "2023-07-14 09:42:51,649 ERROR       result = cached(context.method, proc, context, context.args, context.kwargs)\n",
      "2023-07-14 09:42:51,650 ERROR     File \"/opt/cdstoolbox/cdscompute/cdscompute/caching.py\", line 108, in cached\n",
      "2023-07-14 09:42:51,651 ERROR       result = proc(context, *context.args, **context.kwargs)\n",
      "2023-07-14 09:42:51,652 ERROR     File \"/opt/cdstoolbox/cdscompute/cdscompute/services.py\", line 124, in __call__\n",
      "2023-07-14 09:42:51,653 ERROR       return p(*args, **kwargs)\n",
      "2023-07-14 09:42:51,654 ERROR     File \"/opt/cdstoolbox/cdscompute/cdscompute/services.py\", line 60, in __call__\n",
      "2023-07-14 09:42:51,654 ERROR       return self.proc(context, *args, **kwargs)\n",
      "2023-07-14 09:42:51,654 ERROR     File \"/home/cds/cdsservices/services/esgf_wps/__init__.py\", line 30, in execute\n",
      "2023-07-14 09:42:51,655 ERROR       request_facets, request = facets.search(context, request)\n",
      "2023-07-14 09:42:51,655 ERROR     File \"/home/cds/cdsservices/services/esgf_wps/facets.py\", line 61, in search\n",
      "2023-07-14 09:42:51,657 ERROR       raise ValueError(f'No matching data for request {tmp_request}')\n",
      "2023-07-14 09:42:51,658 ERROR   ValueError: No matching data for request {'experiment': 'ssp119', 'model': 'BCC-CSM2-MR', 'temporal_resolution': 'day', 'variable': 'tasmax'}\n",
      "2023-07-14 09:42:51,708 INFO Welcome to the CDS\n",
      "2023-07-14 09:42:51,709 INFO Sending request to https://cds.climate.copernicus.eu/api/v2/resources/projections-cmip6\n"
     ]
    },
    {
     "name": "stdout",
     "output_type": "stream",
     "text": [
      "Some parameters are not matching\n",
      "Test with scenario ssp1_1_9 and model cams_csm1_0\n",
      "path_for_file does not exist: the data may not have been downloaded\n",
      "file_download does not exist: the data were not downloaded\n"
     ]
    },
    {
     "name": "stderr",
     "output_type": "stream",
     "text": [
      "2023-07-14 09:42:51,860 INFO Request is queued\n",
      "2023-07-14 09:42:52,901 INFO Request is running\n",
      "2023-07-14 09:51:10,981 INFO Request is failed\n",
      "2023-07-14 09:51:10,982 ERROR Message: an internal error occurred processing your request\n",
      "2023-07-14 09:51:10,983 ERROR Reason:  Process error: 2100\n",
      "2023-07-14 09:51:10,983 ERROR   Traceback (most recent call last):\n",
      "2023-07-14 09:51:10,983 ERROR     File \"/usr/local/lib/python3.6/site-packages/rooki/results.py\", line 33, in url\n",
      "2023-07-14 09:51:10,985 ERROR       return self.response.get()[0]\n",
      "2023-07-14 09:51:10,986 ERROR     File \"/usr/local/lib/python3.6/site-packages/birdy/client/outputs.py\", line 40, in get\n",
      "2023-07-14 09:51:10,986 ERROR       raise ProcessFailed(\"Sorry, process failed.\")\n",
      "2023-07-14 09:51:10,987 ERROR   birdy.exceptions.ProcessFailed: Sorry, process failed.\n",
      "2023-07-14 09:51:11,043 INFO Welcome to the CDS\n",
      "2023-07-14 09:51:11,044 INFO Sending request to https://cds.climate.copernicus.eu/api/v2/resources/projections-cmip6\n",
      "2023-07-14 09:51:11,129 INFO Request is queued\n"
     ]
    },
    {
     "name": "stdout",
     "output_type": "stream",
     "text": [
      "Some parameters are not matching\n",
      "Test with scenario ssp1_1_9 and model canesm5_canoe\n",
      "path_for_file does not exist: the data may not have been downloaded\n",
      "file_download does not exist: the data were not downloaded\n"
     ]
    },
    {
     "name": "stderr",
     "output_type": "stream",
     "text": [
      "2023-07-14 09:51:12,174 INFO Request is failed\n",
      "2023-07-14 09:51:12,176 ERROR Message: an internal error occurred processing your request\n",
      "2023-07-14 09:51:12,177 ERROR Reason:  No matching data for request {'experiment': 'ssp119', 'model': 'CanESM5-CanOE', 'temporal_resolution': 'day', 'variable': 'tasmax'}\n",
      "2023-07-14 09:51:12,178 ERROR   Traceback (most recent call last):\n",
      "2023-07-14 09:51:12,178 ERROR     File \"/opt/cdstoolbox/cdscompute/cdscompute/cdshandlers/services/handler.py\", line 59, in handle_request\n",
      "2023-07-14 09:51:12,179 ERROR       result = cached(context.method, proc, context, context.args, context.kwargs)\n",
      "2023-07-14 09:51:12,182 ERROR     File \"/opt/cdstoolbox/cdscompute/cdscompute/caching.py\", line 108, in cached\n",
      "2023-07-14 09:51:12,182 ERROR       result = proc(context, *context.args, **context.kwargs)\n",
      "2023-07-14 09:51:12,183 ERROR     File \"/opt/cdstoolbox/cdscompute/cdscompute/services.py\", line 124, in __call__\n",
      "2023-07-14 09:51:12,184 ERROR       return p(*args, **kwargs)\n",
      "2023-07-14 09:51:12,185 ERROR     File \"/opt/cdstoolbox/cdscompute/cdscompute/services.py\", line 60, in __call__\n",
      "2023-07-14 09:51:12,185 ERROR       return self.proc(context, *args, **kwargs)\n",
      "2023-07-14 09:51:12,185 ERROR     File \"/home/cds/cdsservices/services/esgf_wps/__init__.py\", line 30, in execute\n",
      "2023-07-14 09:51:12,186 ERROR       request_facets, request = facets.search(context, request)\n",
      "2023-07-14 09:51:12,186 ERROR     File \"/home/cds/cdsservices/services/esgf_wps/facets.py\", line 61, in search\n",
      "2023-07-14 09:51:12,188 ERROR       raise ValueError(f'No matching data for request {tmp_request}')\n",
      "2023-07-14 09:51:12,188 ERROR   ValueError: No matching data for request {'experiment': 'ssp119', 'model': 'CanESM5-CanOE', 'temporal_resolution': 'day', 'variable': 'tasmax'}\n",
      "2023-07-14 09:51:12,223 INFO Welcome to the CDS\n",
      "2023-07-14 09:51:12,224 INFO Sending request to https://cds.climate.copernicus.eu/api/v2/resources/projections-cmip6\n",
      "2023-07-14 09:51:12,310 INFO Request is queued\n"
     ]
    },
    {
     "name": "stdout",
     "output_type": "stream",
     "text": [
      "Some parameters are not matching\n",
      "Test with scenario ssp1_1_9 and model cesm2_fv2\n",
      "path_for_file does not exist: the data may not have been downloaded\n",
      "file_download does not exist: the data were not downloaded\n"
     ]
    },
    {
     "name": "stderr",
     "output_type": "stream",
     "text": [
      "2023-07-14 09:51:13,351 INFO Request is running\n",
      "2023-07-14 09:51:14,896 INFO Request is failed\n",
      "2023-07-14 09:51:14,899 ERROR Message: an internal error occurred processing your request\n",
      "2023-07-14 09:51:14,900 ERROR Reason:  No matching data for request {'experiment': 'ssp119', 'model': 'CESM2-FV2', 'temporal_resolution': 'day', 'variable': 'tasmax'}\n",
      "2023-07-14 09:51:14,900 ERROR   Traceback (most recent call last):\n",
      "2023-07-14 09:51:14,901 ERROR     File \"/opt/cdstoolbox/cdscompute/cdscompute/cdshandlers/services/handler.py\", line 59, in handle_request\n",
      "2023-07-14 09:51:14,902 ERROR       result = cached(context.method, proc, context, context.args, context.kwargs)\n",
      "2023-07-14 09:51:14,903 ERROR     File \"/opt/cdstoolbox/cdscompute/cdscompute/caching.py\", line 108, in cached\n",
      "2023-07-14 09:51:14,904 ERROR       result = proc(context, *context.args, **context.kwargs)\n",
      "2023-07-14 09:51:14,905 ERROR     File \"/opt/cdstoolbox/cdscompute/cdscompute/services.py\", line 124, in __call__\n",
      "2023-07-14 09:51:14,906 ERROR       return p(*args, **kwargs)\n",
      "2023-07-14 09:51:14,906 ERROR     File \"/opt/cdstoolbox/cdscompute/cdscompute/services.py\", line 60, in __call__\n",
      "2023-07-14 09:51:14,907 ERROR       return self.proc(context, *args, **kwargs)\n",
      "2023-07-14 09:51:14,907 ERROR     File \"/home/cds/cdsservices/services/esgf_wps/__init__.py\", line 30, in execute\n",
      "2023-07-14 09:51:14,908 ERROR       request_facets, request = facets.search(context, request)\n",
      "2023-07-14 09:51:14,908 ERROR     File \"/home/cds/cdsservices/services/esgf_wps/facets.py\", line 61, in search\n",
      "2023-07-14 09:51:14,910 ERROR       raise ValueError(f'No matching data for request {tmp_request}')\n",
      "2023-07-14 09:51:14,910 ERROR   ValueError: No matching data for request {'experiment': 'ssp119', 'model': 'CESM2-FV2', 'temporal_resolution': 'day', 'variable': 'tasmax'}\n",
      "2023-07-14 09:51:14,946 INFO Welcome to the CDS\n",
      "2023-07-14 09:51:14,947 INFO Sending request to https://cds.climate.copernicus.eu/api/v2/resources/projections-cmip6\n",
      "2023-07-14 09:51:15,050 INFO Request is queued\n"
     ]
    },
    {
     "name": "stdout",
     "output_type": "stream",
     "text": [
      "Some parameters are not matching\n",
      "Test with scenario ssp1_1_9 and model cesm2_waccm_fv2\n",
      "path_for_file does not exist: the data may not have been downloaded\n",
      "file_download does not exist: the data were not downloaded\n"
     ]
    },
    {
     "name": "stderr",
     "output_type": "stream",
     "text": [
      "2023-07-14 09:51:16,087 INFO Request is failed\n",
      "2023-07-14 09:51:16,088 ERROR Message: an internal error occurred processing your request\n",
      "2023-07-14 09:51:16,089 ERROR Reason:  No matching data for request {'experiment': 'ssp119', 'model': 'CESM2-WACCM-FV2', 'temporal_resolution': 'day', 'variable': 'tasmax'}\n",
      "2023-07-14 09:51:16,091 ERROR   Traceback (most recent call last):\n",
      "2023-07-14 09:51:16,092 ERROR     File \"/opt/cdstoolbox/cdscompute/cdscompute/cdshandlers/services/handler.py\", line 59, in handle_request\n",
      "2023-07-14 09:51:16,093 ERROR       result = cached(context.method, proc, context, context.args, context.kwargs)\n",
      "2023-07-14 09:51:16,093 ERROR     File \"/opt/cdstoolbox/cdscompute/cdscompute/caching.py\", line 108, in cached\n",
      "2023-07-14 09:51:16,094 ERROR       result = proc(context, *context.args, **context.kwargs)\n",
      "2023-07-14 09:51:16,094 ERROR     File \"/opt/cdstoolbox/cdscompute/cdscompute/services.py\", line 124, in __call__\n",
      "2023-07-14 09:51:16,095 ERROR       return p(*args, **kwargs)\n",
      "2023-07-14 09:51:16,096 ERROR     File \"/opt/cdstoolbox/cdscompute/cdscompute/services.py\", line 60, in __call__\n",
      "2023-07-14 09:51:16,096 ERROR       return self.proc(context, *args, **kwargs)\n",
      "2023-07-14 09:51:16,096 ERROR     File \"/home/cds/cdsservices/services/esgf_wps/__init__.py\", line 30, in execute\n",
      "2023-07-14 09:51:16,097 ERROR       request_facets, request = facets.search(context, request)\n",
      "2023-07-14 09:51:16,097 ERROR     File \"/home/cds/cdsservices/services/esgf_wps/facets.py\", line 61, in search\n",
      "2023-07-14 09:51:16,099 ERROR       raise ValueError(f'No matching data for request {tmp_request}')\n",
      "2023-07-14 09:51:16,099 ERROR   ValueError: No matching data for request {'experiment': 'ssp119', 'model': 'CESM2-WACCM-FV2', 'temporal_resolution': 'day', 'variable': 'tasmax'}\n",
      "2023-07-14 09:51:16,136 INFO Welcome to the CDS\n",
      "2023-07-14 09:51:16,137 INFO Sending request to https://cds.climate.copernicus.eu/api/v2/resources/projections-cmip6\n",
      "2023-07-14 09:51:16,229 INFO Request is queued\n"
     ]
    },
    {
     "name": "stdout",
     "output_type": "stream",
     "text": [
      "Some parameters are not matching\n",
      "Test with scenario ssp1_1_9 and model cmcc_cm2_hr4\n",
      "path_for_file does not exist: the data may not have been downloaded\n",
      "file_download does not exist: the data were not downloaded\n"
     ]
    },
    {
     "name": "stderr",
     "output_type": "stream",
     "text": [
      "2023-07-14 09:51:17,274 INFO Request is failed\n",
      "2023-07-14 09:51:17,275 ERROR Message: an internal error occurred processing your request\n",
      "2023-07-14 09:51:17,276 ERROR Reason:  No matching data for request {'experiment': 'ssp119', 'model': 'CMCC-CM2-HR4', 'temporal_resolution': 'day', 'variable': 'tasmax'}\n",
      "2023-07-14 09:51:17,276 ERROR   Traceback (most recent call last):\n",
      "2023-07-14 09:51:17,277 ERROR     File \"/opt/cdstoolbox/cdscompute/cdscompute/cdshandlers/services/handler.py\", line 59, in handle_request\n",
      "2023-07-14 09:51:17,278 ERROR       result = cached(context.method, proc, context, context.args, context.kwargs)\n",
      "2023-07-14 09:51:17,278 ERROR     File \"/opt/cdstoolbox/cdscompute/cdscompute/caching.py\", line 108, in cached\n",
      "2023-07-14 09:51:17,279 ERROR       result = proc(context, *context.args, **context.kwargs)\n",
      "2023-07-14 09:51:17,279 ERROR     File \"/opt/cdstoolbox/cdscompute/cdscompute/services.py\", line 124, in __call__\n",
      "2023-07-14 09:51:17,280 ERROR       return p(*args, **kwargs)\n",
      "2023-07-14 09:51:17,281 ERROR     File \"/opt/cdstoolbox/cdscompute/cdscompute/services.py\", line 60, in __call__\n",
      "2023-07-14 09:51:17,281 ERROR       return self.proc(context, *args, **kwargs)\n",
      "2023-07-14 09:51:17,282 ERROR     File \"/home/cds/cdsservices/services/esgf_wps/__init__.py\", line 30, in execute\n",
      "2023-07-14 09:51:17,284 ERROR       request_facets, request = facets.search(context, request)\n",
      "2023-07-14 09:51:17,284 ERROR     File \"/home/cds/cdsservices/services/esgf_wps/facets.py\", line 61, in search\n",
      "2023-07-14 09:51:17,284 ERROR       raise ValueError(f'No matching data for request {tmp_request}')\n",
      "2023-07-14 09:51:17,285 ERROR   ValueError: No matching data for request {'experiment': 'ssp119', 'model': 'CMCC-CM2-HR4', 'temporal_resolution': 'day', 'variable': 'tasmax'}\n",
      "2023-07-14 09:51:17,322 INFO Welcome to the CDS\n",
      "2023-07-14 09:51:17,322 INFO Sending request to https://cds.climate.copernicus.eu/api/v2/resources/projections-cmip6\n",
      "2023-07-14 09:51:17,401 INFO Request is queued\n"
     ]
    },
    {
     "name": "stdout",
     "output_type": "stream",
     "text": [
      "Some parameters are not matching\n",
      "Test with scenario ssp1_1_9 and model cmcc_esm2\n",
      "path_for_file does not exist: the data may not have been downloaded\n",
      "file_download does not exist: the data were not downloaded\n"
     ]
    },
    {
     "name": "stderr",
     "output_type": "stream",
     "text": [
      "2023-07-14 09:51:18,442 INFO Request is failed\n",
      "2023-07-14 09:51:18,443 ERROR Message: an internal error occurred processing your request\n",
      "2023-07-14 09:51:18,444 ERROR Reason:  No matching data for request {'experiment': 'ssp119', 'model': 'CMCC-ESM2', 'temporal_resolution': 'day', 'variable': 'tasmax'}\n",
      "2023-07-14 09:51:18,444 ERROR   Traceback (most recent call last):\n",
      "2023-07-14 09:51:18,446 ERROR     File \"/opt/cdstoolbox/cdscompute/cdscompute/cdshandlers/services/handler.py\", line 59, in handle_request\n",
      "2023-07-14 09:51:18,447 ERROR       result = cached(context.method, proc, context, context.args, context.kwargs)\n",
      "2023-07-14 09:51:18,448 ERROR     File \"/opt/cdstoolbox/cdscompute/cdscompute/caching.py\", line 108, in cached\n",
      "2023-07-14 09:51:18,448 ERROR       result = proc(context, *context.args, **context.kwargs)\n",
      "2023-07-14 09:51:18,449 ERROR     File \"/opt/cdstoolbox/cdscompute/cdscompute/services.py\", line 124, in __call__\n",
      "2023-07-14 09:51:18,449 ERROR       return p(*args, **kwargs)\n",
      "2023-07-14 09:51:18,450 ERROR     File \"/opt/cdstoolbox/cdscompute/cdscompute/services.py\", line 60, in __call__\n",
      "2023-07-14 09:51:18,451 ERROR       return self.proc(context, *args, **kwargs)\n",
      "2023-07-14 09:51:18,452 ERROR     File \"/home/cds/cdsservices/services/esgf_wps/__init__.py\", line 30, in execute\n",
      "2023-07-14 09:51:18,452 ERROR       request_facets, request = facets.search(context, request)\n",
      "2023-07-14 09:51:18,455 ERROR     File \"/home/cds/cdsservices/services/esgf_wps/facets.py\", line 61, in search\n",
      "2023-07-14 09:51:18,455 ERROR       raise ValueError(f'No matching data for request {tmp_request}')\n",
      "2023-07-14 09:51:18,456 ERROR   ValueError: No matching data for request {'experiment': 'ssp119', 'model': 'CMCC-ESM2', 'temporal_resolution': 'day', 'variable': 'tasmax'}\n",
      "2023-07-14 09:51:18,492 INFO Welcome to the CDS\n",
      "2023-07-14 09:51:18,493 INFO Sending request to https://cds.climate.copernicus.eu/api/v2/resources/projections-cmip6\n",
      "2023-07-14 09:51:18,578 INFO Request is queued\n"
     ]
    },
    {
     "name": "stdout",
     "output_type": "stream",
     "text": [
      "Some parameters are not matching\n",
      "Test with scenario ssp1_1_9 and model cnrm_cm6_1_hr\n",
      "path_for_file does not exist: the data may not have been downloaded\n",
      "file_download does not exist: the data were not downloaded\n"
     ]
    },
    {
     "name": "stderr",
     "output_type": "stream",
     "text": [
      "2023-07-14 09:51:19,629 INFO Request is running\n",
      "2023-07-14 09:51:21,172 INFO Request is failed\n",
      "2023-07-14 09:51:21,174 ERROR Message: an internal error occurred processing your request\n",
      "2023-07-14 09:51:21,176 ERROR Reason:  No matching data for request {'experiment': 'ssp119', 'model': 'CNRM-CM6-1-HR', 'temporal_resolution': 'day', 'variable': 'tasmax'}\n",
      "2023-07-14 09:51:21,176 ERROR   Traceback (most recent call last):\n",
      "2023-07-14 09:51:21,177 ERROR     File \"/opt/cdstoolbox/cdscompute/cdscompute/cdshandlers/services/handler.py\", line 59, in handle_request\n",
      "2023-07-14 09:51:21,177 ERROR       result = cached(context.method, proc, context, context.args, context.kwargs)\n",
      "2023-07-14 09:51:21,179 ERROR     File \"/opt/cdstoolbox/cdscompute/cdscompute/caching.py\", line 108, in cached\n",
      "2023-07-14 09:51:21,180 ERROR       result = proc(context, *context.args, **context.kwargs)\n",
      "2023-07-14 09:51:21,181 ERROR     File \"/opt/cdstoolbox/cdscompute/cdscompute/services.py\", line 124, in __call__\n",
      "2023-07-14 09:51:21,181 ERROR       return p(*args, **kwargs)\n",
      "2023-07-14 09:51:21,183 ERROR     File \"/opt/cdstoolbox/cdscompute/cdscompute/services.py\", line 60, in __call__\n",
      "2023-07-14 09:51:21,183 ERROR       return self.proc(context, *args, **kwargs)\n",
      "2023-07-14 09:51:21,183 ERROR     File \"/home/cds/cdsservices/services/esgf_wps/__init__.py\", line 30, in execute\n",
      "2023-07-14 09:51:21,184 ERROR       request_facets, request = facets.search(context, request)\n",
      "2023-07-14 09:51:21,184 ERROR     File \"/home/cds/cdsservices/services/esgf_wps/facets.py\", line 61, in search\n",
      "2023-07-14 09:51:21,185 ERROR       raise ValueError(f'No matching data for request {tmp_request}')\n",
      "2023-07-14 09:51:21,185 ERROR   ValueError: No matching data for request {'experiment': 'ssp119', 'model': 'CNRM-CM6-1-HR', 'temporal_resolution': 'day', 'variable': 'tasmax'}\n",
      "2023-07-14 09:51:21,220 INFO Welcome to the CDS\n",
      "2023-07-14 09:51:21,221 INFO Sending request to https://cds.climate.copernicus.eu/api/v2/resources/projections-cmip6\n",
      "2023-07-14 09:51:21,310 INFO Request is queued\n"
     ]
    },
    {
     "name": "stdout",
     "output_type": "stream",
     "text": [
      "Some parameters are not matching\n",
      "Test with scenario ssp1_1_9 and model e3sm_1_0\n",
      "path_for_file does not exist: the data may not have been downloaded\n",
      "file_download does not exist: the data were not downloaded\n"
     ]
    },
    {
     "name": "stderr",
     "output_type": "stream",
     "text": [
      "2023-07-14 09:51:22,348 INFO Request is failed\n",
      "2023-07-14 09:51:22,349 ERROR Message: an internal error occurred processing your request\n",
      "2023-07-14 09:51:22,350 ERROR Reason:  No matching data for request {'experiment': 'ssp119', 'model': 'E3SM-1-0', 'temporal_resolution': 'day', 'variable': 'tasmax'}\n",
      "2023-07-14 09:51:22,350 ERROR   Traceback (most recent call last):\n",
      "2023-07-14 09:51:22,351 ERROR     File \"/opt/cdstoolbox/cdscompute/cdscompute/cdshandlers/services/handler.py\", line 59, in handle_request\n",
      "2023-07-14 09:51:22,352 ERROR       result = cached(context.method, proc, context, context.args, context.kwargs)\n",
      "2023-07-14 09:51:22,352 ERROR     File \"/opt/cdstoolbox/cdscompute/cdscompute/caching.py\", line 108, in cached\n",
      "2023-07-14 09:51:22,353 ERROR       result = proc(context, *context.args, **context.kwargs)\n",
      "2023-07-14 09:51:22,354 ERROR     File \"/opt/cdstoolbox/cdscompute/cdscompute/services.py\", line 124, in __call__\n",
      "2023-07-14 09:51:22,354 ERROR       return p(*args, **kwargs)\n",
      "2023-07-14 09:51:22,355 ERROR     File \"/opt/cdstoolbox/cdscompute/cdscompute/services.py\", line 60, in __call__\n",
      "2023-07-14 09:51:22,355 ERROR       return self.proc(context, *args, **kwargs)\n",
      "2023-07-14 09:51:22,356 ERROR     File \"/home/cds/cdsservices/services/esgf_wps/__init__.py\", line 30, in execute\n",
      "2023-07-14 09:51:22,357 ERROR       request_facets, request = facets.search(context, request)\n",
      "2023-07-14 09:51:22,358 ERROR     File \"/home/cds/cdsservices/services/esgf_wps/facets.py\", line 61, in search\n",
      "2023-07-14 09:51:22,359 ERROR       raise ValueError(f'No matching data for request {tmp_request}')\n",
      "2023-07-14 09:51:22,359 ERROR   ValueError: No matching data for request {'experiment': 'ssp119', 'model': 'E3SM-1-0', 'temporal_resolution': 'day', 'variable': 'tasmax'}\n",
      "2023-07-14 09:51:22,403 INFO Welcome to the CDS\n",
      "2023-07-14 09:51:22,404 INFO Sending request to https://cds.climate.copernicus.eu/api/v2/resources/projections-cmip6\n",
      "2023-07-14 09:51:22,497 INFO Request is queued\n"
     ]
    },
    {
     "name": "stdout",
     "output_type": "stream",
     "text": [
      "Some parameters are not matching\n",
      "Test with scenario ssp1_1_9 and model e3sm_1_1_eca\n",
      "path_for_file does not exist: the data may not have been downloaded\n",
      "file_download does not exist: the data were not downloaded\n"
     ]
    },
    {
     "name": "stderr",
     "output_type": "stream",
     "text": [
      "2023-07-14 09:51:23,602 INFO Request is failed\n",
      "2023-07-14 09:51:23,603 ERROR Message: an internal error occurred processing your request\n",
      "2023-07-14 09:51:23,605 ERROR Reason:  No matching data for request {'experiment': 'ssp119', 'model': 'E3SM-1-1-ECA', 'temporal_resolution': 'day', 'variable': 'tasmax'}\n",
      "2023-07-14 09:51:23,605 ERROR   Traceback (most recent call last):\n",
      "2023-07-14 09:51:23,605 ERROR     File \"/opt/cdstoolbox/cdscompute/cdscompute/cdshandlers/services/handler.py\", line 59, in handle_request\n",
      "2023-07-14 09:51:23,606 ERROR       result = cached(context.method, proc, context, context.args, context.kwargs)\n",
      "2023-07-14 09:51:23,606 ERROR     File \"/opt/cdstoolbox/cdscompute/cdscompute/caching.py\", line 108, in cached\n",
      "2023-07-14 09:51:23,607 ERROR       result = proc(context, *context.args, **context.kwargs)\n",
      "2023-07-14 09:51:23,607 ERROR     File \"/opt/cdstoolbox/cdscompute/cdscompute/services.py\", line 124, in __call__\n",
      "2023-07-14 09:51:23,608 ERROR       return p(*args, **kwargs)\n",
      "2023-07-14 09:51:23,608 ERROR     File \"/opt/cdstoolbox/cdscompute/cdscompute/services.py\", line 60, in __call__\n",
      "2023-07-14 09:51:23,609 ERROR       return self.proc(context, *args, **kwargs)\n",
      "2023-07-14 09:51:23,610 ERROR     File \"/home/cds/cdsservices/services/esgf_wps/__init__.py\", line 30, in execute\n",
      "2023-07-14 09:51:23,611 ERROR       request_facets, request = facets.search(context, request)\n",
      "2023-07-14 09:51:23,611 ERROR     File \"/home/cds/cdsservices/services/esgf_wps/facets.py\", line 61, in search\n",
      "2023-07-14 09:51:23,611 ERROR       raise ValueError(f'No matching data for request {tmp_request}')\n",
      "2023-07-14 09:51:23,612 ERROR   ValueError: No matching data for request {'experiment': 'ssp119', 'model': 'E3SM-1-1-ECA', 'temporal_resolution': 'day', 'variable': 'tasmax'}\n",
      "2023-07-14 09:51:23,648 INFO Welcome to the CDS\n",
      "2023-07-14 09:51:23,649 INFO Sending request to https://cds.climate.copernicus.eu/api/v2/resources/projections-cmip6\n",
      "2023-07-14 09:51:23,768 INFO Request is queued\n"
     ]
    },
    {
     "name": "stdout",
     "output_type": "stream",
     "text": [
      "Some parameters are not matching\n",
      "Test with scenario ssp1_1_9 and model ec_earth3_aerchem\n",
      "path_for_file does not exist: the data may not have been downloaded\n",
      "file_download does not exist: the data were not downloaded\n"
     ]
    },
    {
     "name": "stderr",
     "output_type": "stream",
     "text": [
      "2023-07-14 09:51:24,819 INFO Request is running\n",
      "2023-07-14 09:51:26,357 INFO Request is failed\n",
      "2023-07-14 09:51:26,358 ERROR Message: an internal error occurred processing your request\n",
      "2023-07-14 09:51:26,359 ERROR Reason:  No matching data for request {'experiment': 'ssp119', 'model': 'EC-Earth3-AerChem', 'temporal_resolution': 'day', 'variable': 'tasmax'}\n",
      "2023-07-14 09:51:26,360 ERROR   Traceback (most recent call last):\n",
      "2023-07-14 09:51:26,360 ERROR     File \"/opt/cdstoolbox/cdscompute/cdscompute/cdshandlers/services/handler.py\", line 59, in handle_request\n",
      "2023-07-14 09:51:26,361 ERROR       result = cached(context.method, proc, context, context.args, context.kwargs)\n",
      "2023-07-14 09:51:26,362 ERROR     File \"/opt/cdstoolbox/cdscompute/cdscompute/caching.py\", line 108, in cached\n",
      "2023-07-14 09:51:26,362 ERROR       result = proc(context, *context.args, **context.kwargs)\n",
      "2023-07-14 09:51:26,362 ERROR     File \"/opt/cdstoolbox/cdscompute/cdscompute/services.py\", line 124, in __call__\n",
      "2023-07-14 09:51:26,363 ERROR       return p(*args, **kwargs)\n",
      "2023-07-14 09:51:26,363 ERROR     File \"/opt/cdstoolbox/cdscompute/cdscompute/services.py\", line 60, in __call__\n",
      "2023-07-14 09:51:26,364 ERROR       return self.proc(context, *args, **kwargs)\n",
      "2023-07-14 09:51:26,364 ERROR     File \"/home/cds/cdsservices/services/esgf_wps/__init__.py\", line 30, in execute\n",
      "2023-07-14 09:51:26,364 ERROR       request_facets, request = facets.search(context, request)\n",
      "2023-07-14 09:51:26,365 ERROR     File \"/home/cds/cdsservices/services/esgf_wps/facets.py\", line 61, in search\n",
      "2023-07-14 09:51:26,366 ERROR       raise ValueError(f'No matching data for request {tmp_request}')\n",
      "2023-07-14 09:51:26,367 ERROR   ValueError: No matching data for request {'experiment': 'ssp119', 'model': 'EC-Earth3-AerChem', 'temporal_resolution': 'day', 'variable': 'tasmax'}\n",
      "2023-07-14 09:51:26,401 INFO Welcome to the CDS\n",
      "2023-07-14 09:51:26,402 INFO Sending request to https://cds.climate.copernicus.eu/api/v2/resources/projections-cmip6\n",
      "2023-07-14 09:51:26,500 INFO Request is queued\n"
     ]
    },
    {
     "name": "stdout",
     "output_type": "stream",
     "text": [
      "Some parameters are not matching\n",
      "Test with scenario ssp1_1_9 and model ec_earth3_veg\n",
      "path_for_file does not exist: the data may not have been downloaded\n",
      "file_download does not exist: the data were not downloaded\n"
     ]
    },
    {
     "name": "stderr",
     "output_type": "stream",
     "text": [
      "2023-07-14 09:51:27,539 INFO Request is running\n",
      "2023-07-14 09:57:45,728 INFO Request is completed\n",
      "2023-07-14 09:57:45,729 INFO Downloading https://download-0018.copernicus-climate.eu/cache-compute-0018/cache/data0/adaptor.esgf_wps.retrieve-1689321437.9005592-26754-18-1260cccf-b796-4ee3-875e-63920e08e764.zip to download.zip (32.9M)\n",
      "2023-07-14 09:57:54,934 INFO Download rate 3.6M/s                                                                      \n"
     ]
    },
    {
     "name": "stdout",
     "output_type": "stream",
     "text": [
      "The file has been download\n",
      "\\\\COWI.net\\projects\\A245000\\A248363\\CRVA\\Datasets\\temperature\\daily_maximum_near_surface_air_temperature\\Copernicus-CMIP6\\raw_data\\2015-2100\\ssp1_1_9\\ec_earth3_veg\\all-Mozambique\n",
      "Path for the file is created, did not existed before\n"
     ]
    },
    {
     "name": "stderr",
     "output_type": "stream",
     "text": [
      "2023-07-14 09:57:58,085 INFO Welcome to the CDS\n",
      "2023-07-14 09:57:58,086 INFO Sending request to https://cds.climate.copernicus.eu/api/v2/resources/projections-cmip6\n"
     ]
    },
    {
     "name": "stdout",
     "output_type": "stream",
     "text": [
      "\n",
      " The downloaded file is extracted\n",
      "The file has been extracted\n",
      "Test with scenario ssp1_1_9 and model fgoals_f3_l\n",
      "path_for_file does not exist: the data may not have been downloaded\n",
      "file_download does not exist: the data were not downloaded\n"
     ]
    },
    {
     "name": "stderr",
     "output_type": "stream",
     "text": [
      "2023-07-14 09:57:58,324 INFO Request is queued\n",
      "2023-07-14 09:57:59,365 INFO Request is failed\n",
      "2023-07-14 09:57:59,366 ERROR Message: an internal error occurred processing your request\n",
      "2023-07-14 09:57:59,366 ERROR Reason:  No matching data for request {'experiment': 'ssp119', 'model': 'FGOALS-f3-L', 'temporal_resolution': 'day', 'variable': 'tasmax'}\n",
      "2023-07-14 09:57:59,367 ERROR   Traceback (most recent call last):\n",
      "2023-07-14 09:57:59,367 ERROR     File \"/opt/cdstoolbox/cdscompute/cdscompute/cdshandlers/services/handler.py\", line 59, in handle_request\n",
      "2023-07-14 09:57:59,368 ERROR       result = cached(context.method, proc, context, context.args, context.kwargs)\n",
      "2023-07-14 09:57:59,369 ERROR     File \"/opt/cdstoolbox/cdscompute/cdscompute/caching.py\", line 108, in cached\n",
      "2023-07-14 09:57:59,371 ERROR       result = proc(context, *context.args, **context.kwargs)\n",
      "2023-07-14 09:57:59,371 ERROR     File \"/opt/cdstoolbox/cdscompute/cdscompute/services.py\", line 124, in __call__\n",
      "2023-07-14 09:57:59,372 ERROR       return p(*args, **kwargs)\n",
      "2023-07-14 09:57:59,372 ERROR     File \"/opt/cdstoolbox/cdscompute/cdscompute/services.py\", line 60, in __call__\n",
      "2023-07-14 09:57:59,373 ERROR       return self.proc(context, *args, **kwargs)\n",
      "2023-07-14 09:57:59,374 ERROR     File \"/home/cds/cdsservices/services/esgf_wps/__init__.py\", line 30, in execute\n",
      "2023-07-14 09:57:59,375 ERROR       request_facets, request = facets.search(context, request)\n",
      "2023-07-14 09:57:59,375 ERROR     File \"/home/cds/cdsservices/services/esgf_wps/facets.py\", line 61, in search\n",
      "2023-07-14 09:57:59,376 ERROR       raise ValueError(f'No matching data for request {tmp_request}')\n",
      "2023-07-14 09:57:59,377 ERROR   ValueError: No matching data for request {'experiment': 'ssp119', 'model': 'FGOALS-f3-L', 'temporal_resolution': 'day', 'variable': 'tasmax'}\n",
      "2023-07-14 09:57:59,412 INFO Welcome to the CDS\n",
      "2023-07-14 09:57:59,413 INFO Sending request to https://cds.climate.copernicus.eu/api/v2/resources/projections-cmip6\n",
      "2023-07-14 09:57:59,494 INFO Request is queued\n"
     ]
    },
    {
     "name": "stdout",
     "output_type": "stream",
     "text": [
      "Some parameters are not matching\n",
      "Test with scenario ssp1_1_9 and model fio_esm_2_0\n",
      "path_for_file does not exist: the data may not have been downloaded\n",
      "file_download does not exist: the data were not downloaded\n"
     ]
    },
    {
     "name": "stderr",
     "output_type": "stream",
     "text": [
      "2023-07-14 09:58:00,545 INFO Request is failed\n",
      "2023-07-14 09:58:00,547 ERROR Message: an internal error occurred processing your request\n",
      "2023-07-14 09:58:00,548 ERROR Reason:  No matching data for request {'experiment': 'ssp119', 'model': 'FIO-ESM-2-0', 'temporal_resolution': 'day', 'variable': 'tasmax'}\n",
      "2023-07-14 09:58:00,549 ERROR   Traceback (most recent call last):\n",
      "2023-07-14 09:58:00,550 ERROR     File \"/opt/cdstoolbox/cdscompute/cdscompute/cdshandlers/services/handler.py\", line 59, in handle_request\n",
      "2023-07-14 09:58:00,550 ERROR       result = cached(context.method, proc, context, context.args, context.kwargs)\n",
      "2023-07-14 09:58:00,552 ERROR     File \"/opt/cdstoolbox/cdscompute/cdscompute/caching.py\", line 108, in cached\n",
      "2023-07-14 09:58:00,553 ERROR       result = proc(context, *context.args, **context.kwargs)\n",
      "2023-07-14 09:58:00,554 ERROR     File \"/opt/cdstoolbox/cdscompute/cdscompute/services.py\", line 124, in __call__\n",
      "2023-07-14 09:58:00,555 ERROR       return p(*args, **kwargs)\n",
      "2023-07-14 09:58:00,556 ERROR     File \"/opt/cdstoolbox/cdscompute/cdscompute/services.py\", line 60, in __call__\n",
      "2023-07-14 09:58:00,556 ERROR       return self.proc(context, *args, **kwargs)\n",
      "2023-07-14 09:58:00,557 ERROR     File \"/home/cds/cdsservices/services/esgf_wps/__init__.py\", line 30, in execute\n",
      "2023-07-14 09:58:00,557 ERROR       request_facets, request = facets.search(context, request)\n",
      "2023-07-14 09:58:00,558 ERROR     File \"/home/cds/cdsservices/services/esgf_wps/facets.py\", line 61, in search\n",
      "2023-07-14 09:58:00,559 ERROR       raise ValueError(f'No matching data for request {tmp_request}')\n",
      "2023-07-14 09:58:00,559 ERROR   ValueError: No matching data for request {'experiment': 'ssp119', 'model': 'FIO-ESM-2-0', 'temporal_resolution': 'day', 'variable': 'tasmax'}\n",
      "2023-07-14 09:58:00,611 INFO Welcome to the CDS\n",
      "2023-07-14 09:58:00,613 INFO Sending request to https://cds.climate.copernicus.eu/api/v2/resources/projections-cmip6\n",
      "2023-07-14 09:58:00,735 INFO Request is queued\n"
     ]
    },
    {
     "name": "stdout",
     "output_type": "stream",
     "text": [
      "Some parameters are not matching\n",
      "Test with scenario ssp1_1_9 and model giss_e2_1_g\n",
      "path_for_file does not exist: the data may not have been downloaded\n",
      "file_download does not exist: the data were not downloaded\n"
     ]
    },
    {
     "name": "stderr",
     "output_type": "stream",
     "text": [
      "2023-07-14 09:58:01,778 INFO Request is running\n",
      "2023-07-14 09:58:03,314 INFO Request is failed\n",
      "2023-07-14 09:58:03,315 ERROR Message: an internal error occurred processing your request\n",
      "2023-07-14 09:58:03,316 ERROR Reason:  No matching data for request {'experiment': 'ssp119', 'model': 'GISS-E2-1-G', 'temporal_resolution': 'day', 'variable': 'tasmax'}\n",
      "2023-07-14 09:58:03,317 ERROR   Traceback (most recent call last):\n",
      "2023-07-14 09:58:03,318 ERROR     File \"/opt/cdstoolbox/cdscompute/cdscompute/cdshandlers/services/handler.py\", line 59, in handle_request\n",
      "2023-07-14 09:58:03,318 ERROR       result = cached(context.method, proc, context, context.args, context.kwargs)\n",
      "2023-07-14 09:58:03,319 ERROR     File \"/opt/cdstoolbox/cdscompute/cdscompute/caching.py\", line 108, in cached\n",
      "2023-07-14 09:58:03,320 ERROR       result = proc(context, *context.args, **context.kwargs)\n",
      "2023-07-14 09:58:03,320 ERROR     File \"/opt/cdstoolbox/cdscompute/cdscompute/services.py\", line 124, in __call__\n",
      "2023-07-14 09:58:03,321 ERROR       return p(*args, **kwargs)\n",
      "2023-07-14 09:58:03,321 ERROR     File \"/opt/cdstoolbox/cdscompute/cdscompute/services.py\", line 60, in __call__\n",
      "2023-07-14 09:58:03,322 ERROR       return self.proc(context, *args, **kwargs)\n",
      "2023-07-14 09:58:03,322 ERROR     File \"/home/cds/cdsservices/services/esgf_wps/__init__.py\", line 30, in execute\n",
      "2023-07-14 09:58:03,323 ERROR       request_facets, request = facets.search(context, request)\n",
      "2023-07-14 09:58:03,323 ERROR     File \"/home/cds/cdsservices/services/esgf_wps/facets.py\", line 61, in search\n",
      "2023-07-14 09:58:03,324 ERROR       raise ValueError(f'No matching data for request {tmp_request}')\n",
      "2023-07-14 09:58:03,325 ERROR   ValueError: No matching data for request {'experiment': 'ssp119', 'model': 'GISS-E2-1-G', 'temporal_resolution': 'day', 'variable': 'tasmax'}\n",
      "2023-07-14 09:58:03,359 INFO Welcome to the CDS\n",
      "2023-07-14 09:58:03,361 INFO Sending request to https://cds.climate.copernicus.eu/api/v2/resources/projections-cmip6\n",
      "2023-07-14 09:58:03,433 INFO Request is queued\n"
     ]
    },
    {
     "name": "stdout",
     "output_type": "stream",
     "text": [
      "Some parameters are not matching\n",
      "Test with scenario ssp1_1_9 and model hadgem3_gc31_ll\n",
      "path_for_file does not exist: the data may not have been downloaded\n",
      "file_download does not exist: the data were not downloaded\n"
     ]
    },
    {
     "name": "stderr",
     "output_type": "stream",
     "text": [
      "2023-07-14 09:58:04,475 INFO Request is failed\n",
      "2023-07-14 09:58:04,476 ERROR Message: an internal error occurred processing your request\n",
      "2023-07-14 09:58:04,477 ERROR Reason:  No matching data for request {'experiment': 'ssp119', 'model': 'HadGEM3-GC31-LL', 'temporal_resolution': 'day', 'variable': 'tasmax'}\n",
      "2023-07-14 09:58:04,478 ERROR   Traceback (most recent call last):\n",
      "2023-07-14 09:58:04,479 ERROR     File \"/opt/cdstoolbox/cdscompute/cdscompute/cdshandlers/services/handler.py\", line 59, in handle_request\n",
      "2023-07-14 09:58:04,479 ERROR       result = cached(context.method, proc, context, context.args, context.kwargs)\n",
      "2023-07-14 09:58:04,479 ERROR     File \"/opt/cdstoolbox/cdscompute/cdscompute/caching.py\", line 108, in cached\n",
      "2023-07-14 09:58:04,481 ERROR       result = proc(context, *context.args, **context.kwargs)\n",
      "2023-07-14 09:58:04,481 ERROR     File \"/opt/cdstoolbox/cdscompute/cdscompute/services.py\", line 124, in __call__\n",
      "2023-07-14 09:58:04,482 ERROR       return p(*args, **kwargs)\n",
      "2023-07-14 09:58:04,483 ERROR     File \"/opt/cdstoolbox/cdscompute/cdscompute/services.py\", line 60, in __call__\n",
      "2023-07-14 09:58:04,484 ERROR       return self.proc(context, *args, **kwargs)\n",
      "2023-07-14 09:58:04,484 ERROR     File \"/home/cds/cdsservices/services/esgf_wps/__init__.py\", line 30, in execute\n",
      "2023-07-14 09:58:04,485 ERROR       request_facets, request = facets.search(context, request)\n",
      "2023-07-14 09:58:04,485 ERROR     File \"/home/cds/cdsservices/services/esgf_wps/facets.py\", line 61, in search\n",
      "2023-07-14 09:58:04,486 ERROR       raise ValueError(f'No matching data for request {tmp_request}')\n",
      "2023-07-14 09:58:04,487 ERROR   ValueError: No matching data for request {'experiment': 'ssp119', 'model': 'HadGEM3-GC31-LL', 'temporal_resolution': 'day', 'variable': 'tasmax'}\n",
      "2023-07-14 09:58:04,544 INFO Welcome to the CDS\n",
      "2023-07-14 09:58:04,545 INFO Sending request to https://cds.climate.copernicus.eu/api/v2/resources/projections-cmip6\n",
      "2023-07-14 09:58:04,657 INFO Request is queued\n"
     ]
    },
    {
     "name": "stdout",
     "output_type": "stream",
     "text": [
      "Some parameters are not matching\n",
      "Test with scenario ssp1_1_9 and model iitm_esm\n",
      "path_for_file does not exist: the data may not have been downloaded\n",
      "file_download does not exist: the data were not downloaded\n"
     ]
    },
    {
     "name": "stderr",
     "output_type": "stream",
     "text": [
      "2023-07-14 09:58:05,703 INFO Request is running\n",
      "2023-07-14 09:58:07,252 INFO Request is failed\n",
      "2023-07-14 09:58:07,253 ERROR Message: an internal error occurred processing your request\n",
      "2023-07-14 09:58:07,255 ERROR Reason:  No matching data for request {'experiment': 'ssp119', 'model': 'IITM-ESM', 'temporal_resolution': 'day', 'variable': 'tasmax'}\n",
      "2023-07-14 09:58:07,260 ERROR   Traceback (most recent call last):\n",
      "2023-07-14 09:58:07,266 ERROR     File \"/opt/cdstoolbox/cdscompute/cdscompute/cdshandlers/services/handler.py\", line 59, in handle_request\n",
      "2023-07-14 09:58:07,267 ERROR       result = cached(context.method, proc, context, context.args, context.kwargs)\n",
      "2023-07-14 09:58:07,269 ERROR     File \"/opt/cdstoolbox/cdscompute/cdscompute/caching.py\", line 108, in cached\n",
      "2023-07-14 09:58:07,269 ERROR       result = proc(context, *context.args, **context.kwargs)\n",
      "2023-07-14 09:58:07,269 ERROR     File \"/opt/cdstoolbox/cdscompute/cdscompute/services.py\", line 124, in __call__\n",
      "2023-07-14 09:58:07,270 ERROR       return p(*args, **kwargs)\n",
      "2023-07-14 09:58:07,271 ERROR     File \"/opt/cdstoolbox/cdscompute/cdscompute/services.py\", line 60, in __call__\n",
      "2023-07-14 09:58:07,272 ERROR       return self.proc(context, *args, **kwargs)\n",
      "2023-07-14 09:58:07,277 ERROR     File \"/home/cds/cdsservices/services/esgf_wps/__init__.py\", line 30, in execute\n",
      "2023-07-14 09:58:07,283 ERROR       request_facets, request = facets.search(context, request)\n",
      "2023-07-14 09:58:07,284 ERROR     File \"/home/cds/cdsservices/services/esgf_wps/facets.py\", line 61, in search\n",
      "2023-07-14 09:58:07,285 ERROR       raise ValueError(f'No matching data for request {tmp_request}')\n",
      "2023-07-14 09:58:07,286 ERROR   ValueError: No matching data for request {'experiment': 'ssp119', 'model': 'IITM-ESM', 'temporal_resolution': 'day', 'variable': 'tasmax'}\n",
      "2023-07-14 09:58:07,333 INFO Welcome to the CDS\n",
      "2023-07-14 09:58:07,334 INFO Sending request to https://cds.climate.copernicus.eu/api/v2/resources/projections-cmip6\n",
      "2023-07-14 09:58:07,418 INFO Request is queued\n"
     ]
    },
    {
     "name": "stdout",
     "output_type": "stream",
     "text": [
      "Some parameters are not matching\n",
      "Test with scenario ssp1_1_9 and model inm_cm5_0\n",
      "path_for_file does not exist: the data may not have been downloaded\n",
      "file_download does not exist: the data were not downloaded\n"
     ]
    },
    {
     "name": "stderr",
     "output_type": "stream",
     "text": [
      "2023-07-14 09:58:08,469 INFO Request is running\n",
      "2023-07-14 09:58:10,013 INFO Request is failed\n",
      "2023-07-14 09:58:10,014 ERROR Message: an internal error occurred processing your request\n",
      "2023-07-14 09:58:10,015 ERROR Reason:  No matching data for request {'experiment': 'ssp119', 'model': 'INM-CM5-0', 'temporal_resolution': 'day', 'variable': 'tasmax'}\n",
      "2023-07-14 09:58:10,016 ERROR   Traceback (most recent call last):\n",
      "2023-07-14 09:58:10,016 ERROR     File \"/opt/cdstoolbox/cdscompute/cdscompute/cdshandlers/services/handler.py\", line 59, in handle_request\n",
      "2023-07-14 09:58:10,017 ERROR       result = cached(context.method, proc, context, context.args, context.kwargs)\n",
      "2023-07-14 09:58:10,019 ERROR     File \"/opt/cdstoolbox/cdscompute/cdscompute/caching.py\", line 108, in cached\n",
      "2023-07-14 09:58:10,019 ERROR       result = proc(context, *context.args, **context.kwargs)\n",
      "2023-07-14 09:58:10,019 ERROR     File \"/opt/cdstoolbox/cdscompute/cdscompute/services.py\", line 124, in __call__\n",
      "2023-07-14 09:58:10,020 ERROR       return p(*args, **kwargs)\n",
      "2023-07-14 09:58:10,020 ERROR     File \"/opt/cdstoolbox/cdscompute/cdscompute/services.py\", line 60, in __call__\n",
      "2023-07-14 09:58:10,021 ERROR       return self.proc(context, *args, **kwargs)\n",
      "2023-07-14 09:58:10,023 ERROR     File \"/home/cds/cdsservices/services/esgf_wps/__init__.py\", line 30, in execute\n",
      "2023-07-14 09:58:10,023 ERROR       request_facets, request = facets.search(context, request)\n",
      "2023-07-14 09:58:10,024 ERROR     File \"/home/cds/cdsservices/services/esgf_wps/facets.py\", line 61, in search\n",
      "2023-07-14 09:58:10,024 ERROR       raise ValueError(f'No matching data for request {tmp_request}')\n",
      "2023-07-14 09:58:10,025 ERROR   ValueError: No matching data for request {'experiment': 'ssp119', 'model': 'INM-CM5-0', 'temporal_resolution': 'day', 'variable': 'tasmax'}\n",
      "2023-07-14 09:58:10,065 INFO Welcome to the CDS\n",
      "2023-07-14 09:58:10,066 INFO Sending request to https://cds.climate.copernicus.eu/api/v2/resources/projections-cmip6\n",
      "2023-07-14 09:58:10,151 INFO Request is queued\n"
     ]
    },
    {
     "name": "stdout",
     "output_type": "stream",
     "text": [
      "Some parameters are not matching\n",
      "Test with scenario ssp1_1_9 and model ipsl_cm6a_lr\n",
      "path_for_file does not exist: the data may not have been downloaded\n",
      "file_download does not exist: the data were not downloaded\n"
     ]
    },
    {
     "name": "stderr",
     "output_type": "stream",
     "text": [
      "2023-07-14 09:58:11,196 INFO Request is running\n",
      "2023-07-14 10:01:01,657 INFO Request is completed\n",
      "2023-07-14 10:01:01,658 INFO Downloading https://download-0008-clone.copernicus-climate.eu/cache-compute-0008/cache/data1/adaptor.esgf_wps.retrieve-1689321602.3797088-31766-17-0a0f5c59-51f7-4c27-876f-74aa919f2694.zip to download.zip (11.5M)\n",
      "2023-07-14 10:01:03,244 INFO Download rate 7.2M/s                                                                      \n"
     ]
    },
    {
     "name": "stdout",
     "output_type": "stream",
     "text": [
      "The file has been download\n",
      "\\\\COWI.net\\projects\\A245000\\A248363\\CRVA\\Datasets\\temperature\\daily_maximum_near_surface_air_temperature\\Copernicus-CMIP6\\raw_data\\2015-2100\\ssp1_1_9\\ipsl_cm6a_lr\\all-Mozambique\n",
      "Path for the file is created, did not existed before\n"
     ]
    },
    {
     "name": "stderr",
     "output_type": "stream",
     "text": [
      "2023-07-14 10:01:04,314 INFO Welcome to the CDS\n",
      "2023-07-14 10:01:04,315 INFO Sending request to https://cds.climate.copernicus.eu/api/v2/resources/projections-cmip6\n",
      "2023-07-14 10:01:04,414 INFO Request is queued\n"
     ]
    },
    {
     "name": "stdout",
     "output_type": "stream",
     "text": [
      "\n",
      " The downloaded file is extracted\n",
      "The file has been extracted\n",
      "Test with scenario ssp1_1_9 and model kiost_esm\n",
      "path_for_file does not exist: the data may not have been downloaded\n",
      "file_download does not exist: the data were not downloaded\n"
     ]
    },
    {
     "name": "stderr",
     "output_type": "stream",
     "text": [
      "2023-07-14 10:01:05,458 INFO Request is failed\n",
      "2023-07-14 10:01:05,459 ERROR Message: an internal error occurred processing your request\n",
      "2023-07-14 10:01:05,460 ERROR Reason:  No matching data for request {'experiment': 'ssp119', 'model': 'KIOST-ESM', 'temporal_resolution': 'day', 'variable': 'tasmax'}\n",
      "2023-07-14 10:01:05,460 ERROR   Traceback (most recent call last):\n",
      "2023-07-14 10:01:05,461 ERROR     File \"/opt/cdstoolbox/cdscompute/cdscompute/cdshandlers/services/handler.py\", line 59, in handle_request\n",
      "2023-07-14 10:01:05,462 ERROR       result = cached(context.method, proc, context, context.args, context.kwargs)\n",
      "2023-07-14 10:01:05,462 ERROR     File \"/opt/cdstoolbox/cdscompute/cdscompute/caching.py\", line 108, in cached\n",
      "2023-07-14 10:01:05,463 ERROR       result = proc(context, *context.args, **context.kwargs)\n",
      "2023-07-14 10:01:05,463 ERROR     File \"/opt/cdstoolbox/cdscompute/cdscompute/services.py\", line 124, in __call__\n",
      "2023-07-14 10:01:05,464 ERROR       return p(*args, **kwargs)\n",
      "2023-07-14 10:01:05,465 ERROR     File \"/opt/cdstoolbox/cdscompute/cdscompute/services.py\", line 60, in __call__\n",
      "2023-07-14 10:01:05,465 ERROR       return self.proc(context, *args, **kwargs)\n",
      "2023-07-14 10:01:05,466 ERROR     File \"/home/cds/cdsservices/services/esgf_wps/__init__.py\", line 30, in execute\n",
      "2023-07-14 10:01:05,466 ERROR       request_facets, request = facets.search(context, request)\n",
      "2023-07-14 10:01:05,467 ERROR     File \"/home/cds/cdsservices/services/esgf_wps/facets.py\", line 61, in search\n",
      "2023-07-14 10:01:05,468 ERROR       raise ValueError(f'No matching data for request {tmp_request}')\n",
      "2023-07-14 10:01:05,469 ERROR   ValueError: No matching data for request {'experiment': 'ssp119', 'model': 'KIOST-ESM', 'temporal_resolution': 'day', 'variable': 'tasmax'}\n",
      "2023-07-14 10:01:05,514 INFO Welcome to the CDS\n",
      "2023-07-14 10:01:05,515 INFO Sending request to https://cds.climate.copernicus.eu/api/v2/resources/projections-cmip6\n",
      "2023-07-14 10:01:05,604 INFO Request is queued\n"
     ]
    },
    {
     "name": "stdout",
     "output_type": "stream",
     "text": [
      "Some parameters are not matching\n",
      "Test with scenario ssp1_1_9 and model miroc6\n",
      "path_for_file does not exist: the data may not have been downloaded\n",
      "file_download does not exist: the data were not downloaded\n"
     ]
    },
    {
     "name": "stderr",
     "output_type": "stream",
     "text": [
      "2023-07-14 10:01:06,643 INFO Request is running\n",
      "2023-07-14 10:02:59,426 INFO Request is completed\n",
      "2023-07-14 10:02:59,427 INFO Downloading https://download-0009-clone.copernicus-climate.eu/cache-compute-0009/cache/data5/adaptor.esgf_wps.retrieve-1689321774.6654756-19556-11-456f7c73-7ef1-4dff-8a47-2afb271dd478.zip to download.zip (7.3M)\n",
      "2023-07-14 10:03:00,325 INFO Download rate 8.1M/s                                                                      \n"
     ]
    },
    {
     "name": "stdout",
     "output_type": "stream",
     "text": [
      "The file has been download\n",
      "\\\\COWI.net\\projects\\A245000\\A248363\\CRVA\\Datasets\\temperature\\daily_maximum_near_surface_air_temperature\\Copernicus-CMIP6\\raw_data\\2015-2100\\ssp1_1_9\\miroc6\\all-Mozambique\n",
      "Path for the file is created, did not existed before\n"
     ]
    },
    {
     "name": "stderr",
     "output_type": "stream",
     "text": [
      "2023-07-14 10:03:01,434 INFO Welcome to the CDS\n",
      "2023-07-14 10:03:01,435 INFO Sending request to https://cds.climate.copernicus.eu/api/v2/resources/projections-cmip6\n",
      "2023-07-14 10:03:01,478 INFO Request is queued\n"
     ]
    },
    {
     "name": "stdout",
     "output_type": "stream",
     "text": [
      "\n",
      " The downloaded file is extracted\n",
      "The file has been extracted\n",
      "Test with scenario ssp1_1_9 and model miroc_es2l\n",
      "path_for_file does not exist: the data may not have been downloaded\n",
      "file_download does not exist: the data were not downloaded\n"
     ]
    },
    {
     "name": "stderr",
     "output_type": "stream",
     "text": [
      "2023-07-14 10:03:02,516 INFO Request is running\n",
      "2023-07-14 10:05:52,945 INFO Request is completed\n",
      "2023-07-14 10:05:52,947 INFO Downloading https://download-0020.copernicus-climate.eu/cache-compute-0020/cache/data0/adaptor.esgf_wps.retrieve-1689321921.8256507-32437-12-2b3d7678-c36a-45db-9612-552b4b79a4a0.zip to download.zip (2.1M)\n",
      "2023-07-14 10:05:53,715 INFO Download rate 2.8M/s                                                                      \n"
     ]
    },
    {
     "name": "stdout",
     "output_type": "stream",
     "text": [
      "The file has been download\n",
      "\\\\COWI.net\\projects\\A245000\\A248363\\CRVA\\Datasets\\temperature\\daily_maximum_near_surface_air_temperature\\Copernicus-CMIP6\\raw_data\\2015-2100\\ssp1_1_9\\miroc_es2l\\all-Mozambique\n",
      "Path for the file is created, did not existed before\n"
     ]
    },
    {
     "name": "stderr",
     "output_type": "stream",
     "text": [
      "2023-07-14 10:05:54,663 INFO Welcome to the CDS\n",
      "2023-07-14 10:05:54,664 INFO Sending request to https://cds.climate.copernicus.eu/api/v2/resources/projections-cmip6\n",
      "2023-07-14 10:05:54,757 INFO Request is queued\n"
     ]
    },
    {
     "name": "stdout",
     "output_type": "stream",
     "text": [
      "\n",
      " The downloaded file is extracted\n",
      "The file has been extracted\n",
      "Test with scenario ssp1_1_9 and model mpi_esm1_2_hr\n",
      "path_for_file does not exist: the data may not have been downloaded\n",
      "file_download does not exist: the data were not downloaded\n"
     ]
    },
    {
     "name": "stderr",
     "output_type": "stream",
     "text": [
      "2023-07-14 10:05:55,805 INFO Request is failed\n",
      "2023-07-14 10:05:55,806 ERROR Message: an internal error occurred processing your request\n",
      "2023-07-14 10:05:55,807 ERROR Reason:  No matching data for request {'experiment': 'ssp119', 'model': 'MPI-ESM1-2-HR', 'temporal_resolution': 'day', 'variable': 'tasmax'}\n",
      "2023-07-14 10:05:55,807 ERROR   Traceback (most recent call last):\n",
      "2023-07-14 10:05:55,807 ERROR     File \"/opt/cdstoolbox/cdscompute/cdscompute/cdshandlers/services/handler.py\", line 59, in handle_request\n",
      "2023-07-14 10:05:55,808 ERROR       result = cached(context.method, proc, context, context.args, context.kwargs)\n",
      "2023-07-14 10:05:55,808 ERROR     File \"/opt/cdstoolbox/cdscompute/cdscompute/caching.py\", line 108, in cached\n",
      "2023-07-14 10:05:55,809 ERROR       result = proc(context, *context.args, **context.kwargs)\n",
      "2023-07-14 10:05:55,809 ERROR     File \"/opt/cdstoolbox/cdscompute/cdscompute/services.py\", line 124, in __call__\n",
      "2023-07-14 10:05:55,810 ERROR       return p(*args, **kwargs)\n",
      "2023-07-14 10:05:55,810 ERROR     File \"/opt/cdstoolbox/cdscompute/cdscompute/services.py\", line 60, in __call__\n",
      "2023-07-14 10:05:55,811 ERROR       return self.proc(context, *args, **kwargs)\n",
      "2023-07-14 10:05:55,811 ERROR     File \"/home/cds/cdsservices/services/esgf_wps/__init__.py\", line 30, in execute\n",
      "2023-07-14 10:05:55,812 ERROR       request_facets, request = facets.search(context, request)\n",
      "2023-07-14 10:05:55,812 ERROR     File \"/home/cds/cdsservices/services/esgf_wps/facets.py\", line 61, in search\n",
      "2023-07-14 10:05:55,813 ERROR       raise ValueError(f'No matching data for request {tmp_request}')\n",
      "2023-07-14 10:05:55,814 ERROR   ValueError: No matching data for request {'experiment': 'ssp119', 'model': 'MPI-ESM1-2-HR', 'temporal_resolution': 'day', 'variable': 'tasmax'}\n",
      "2023-07-14 10:05:55,850 INFO Welcome to the CDS\n",
      "2023-07-14 10:05:55,851 INFO Sending request to https://cds.climate.copernicus.eu/api/v2/resources/projections-cmip6\n"
     ]
    },
    {
     "name": "stdout",
     "output_type": "stream",
     "text": [
      "Some parameters are not matching\n",
      "Test with scenario ssp1_1_9 and model mri_esm2_0\n",
      "path_for_file does not exist: the data may not have been downloaded\n",
      "file_download does not exist: the data were not downloaded\n"
     ]
    },
    {
     "name": "stderr",
     "output_type": "stream",
     "text": [
      "2023-07-14 10:05:56,052 INFO Request is queued\n",
      "2023-07-14 10:05:57,098 INFO Request is running\n",
      "2023-07-14 10:10:14,480 INFO Request is completed\n",
      "2023-07-14 10:10:14,482 INFO Downloading https://download-0004-clone.copernicus-climate.eu/cache-compute-0004/cache/data7/adaptor.esgf_wps.retrieve-1689322129.371112-18977-15-9b6956e3-ba6a-4ef8-8d2d-26e6c1433466.zip to download.zip (11.3M)\n",
      "2023-07-14 10:10:16,163 INFO Download rate 6.7M/s                                                                      \n"
     ]
    },
    {
     "name": "stdout",
     "output_type": "stream",
     "text": [
      "The file has been download\n",
      "\\\\COWI.net\\projects\\A245000\\A248363\\CRVA\\Datasets\\temperature\\daily_maximum_near_surface_air_temperature\\Copernicus-CMIP6\\raw_data\\2015-2100\\ssp1_1_9\\mri_esm2_0\\all-Mozambique\n",
      "Path for the file is created, did not existed before\n"
     ]
    },
    {
     "name": "stderr",
     "output_type": "stream",
     "text": [
      "2023-07-14 10:10:17,100 INFO Welcome to the CDS\n",
      "2023-07-14 10:10:17,100 INFO Sending request to https://cds.climate.copernicus.eu/api/v2/resources/projections-cmip6\n",
      "2023-07-14 10:10:17,200 INFO Request is queued\n"
     ]
    },
    {
     "name": "stdout",
     "output_type": "stream",
     "text": [
      "\n",
      " The downloaded file is extracted\n",
      "The file has been extracted\n",
      "Test with scenario ssp1_1_9 and model norcpm1\n",
      "path_for_file does not exist: the data may not have been downloaded\n",
      "file_download does not exist: the data were not downloaded\n"
     ]
    },
    {
     "name": "stderr",
     "output_type": "stream",
     "text": [
      "2023-07-14 10:10:18,250 INFO Request is failed\n",
      "2023-07-14 10:10:18,251 ERROR Message: an internal error occurred processing your request\n",
      "2023-07-14 10:10:18,251 ERROR Reason:  No matching data for request {'experiment': 'ssp119', 'model': 'NorCPM1', 'temporal_resolution': 'day', 'variable': 'tasmax'}\n",
      "2023-07-14 10:10:18,252 ERROR   Traceback (most recent call last):\n",
      "2023-07-14 10:10:18,253 ERROR     File \"/opt/cdstoolbox/cdscompute/cdscompute/cdshandlers/services/handler.py\", line 59, in handle_request\n",
      "2023-07-14 10:10:18,254 ERROR       result = cached(context.method, proc, context, context.args, context.kwargs)\n",
      "2023-07-14 10:10:18,254 ERROR     File \"/opt/cdstoolbox/cdscompute/cdscompute/caching.py\", line 108, in cached\n",
      "2023-07-14 10:10:18,254 ERROR       result = proc(context, *context.args, **context.kwargs)\n",
      "2023-07-14 10:10:18,255 ERROR     File \"/opt/cdstoolbox/cdscompute/cdscompute/services.py\", line 124, in __call__\n",
      "2023-07-14 10:10:18,255 ERROR       return p(*args, **kwargs)\n",
      "2023-07-14 10:10:18,256 ERROR     File \"/opt/cdstoolbox/cdscompute/cdscompute/services.py\", line 60, in __call__\n",
      "2023-07-14 10:10:18,256 ERROR       return self.proc(context, *args, **kwargs)\n",
      "2023-07-14 10:10:18,258 ERROR     File \"/home/cds/cdsservices/services/esgf_wps/__init__.py\", line 30, in execute\n",
      "2023-07-14 10:10:18,259 ERROR       request_facets, request = facets.search(context, request)\n",
      "2023-07-14 10:10:18,259 ERROR     File \"/home/cds/cdsservices/services/esgf_wps/facets.py\", line 61, in search\n",
      "2023-07-14 10:10:18,259 ERROR       raise ValueError(f'No matching data for request {tmp_request}')\n",
      "2023-07-14 10:10:18,260 ERROR   ValueError: No matching data for request {'experiment': 'ssp119', 'model': 'NorCPM1', 'temporal_resolution': 'day', 'variable': 'tasmax'}\n",
      "2023-07-14 10:10:18,295 INFO Welcome to the CDS\n",
      "2023-07-14 10:10:18,296 INFO Sending request to https://cds.climate.copernicus.eu/api/v2/resources/projections-cmip6\n",
      "2023-07-14 10:10:18,368 INFO Request is queued\n"
     ]
    },
    {
     "name": "stdout",
     "output_type": "stream",
     "text": [
      "Some parameters are not matching\n",
      "Test with scenario ssp1_1_9 and model noresm2_mm\n",
      "path_for_file does not exist: the data may not have been downloaded\n",
      "file_download does not exist: the data were not downloaded\n"
     ]
    },
    {
     "name": "stderr",
     "output_type": "stream",
     "text": [
      "2023-07-14 10:10:19,414 INFO Request is failed\n",
      "2023-07-14 10:10:19,415 ERROR Message: an internal error occurred processing your request\n",
      "2023-07-14 10:10:19,416 ERROR Reason:  No matching data for request {'experiment': 'ssp119', 'model': 'NorESM2-MM', 'temporal_resolution': 'day', 'variable': 'tasmax'}\n",
      "2023-07-14 10:10:19,416 ERROR   Traceback (most recent call last):\n",
      "2023-07-14 10:10:19,417 ERROR     File \"/opt/cdstoolbox/cdscompute/cdscompute/cdshandlers/services/handler.py\", line 59, in handle_request\n",
      "2023-07-14 10:10:19,417 ERROR       result = cached(context.method, proc, context, context.args, context.kwargs)\n",
      "2023-07-14 10:10:19,418 ERROR     File \"/opt/cdstoolbox/cdscompute/cdscompute/caching.py\", line 108, in cached\n",
      "2023-07-14 10:10:19,419 ERROR       result = proc(context, *context.args, **context.kwargs)\n",
      "2023-07-14 10:10:19,419 ERROR     File \"/opt/cdstoolbox/cdscompute/cdscompute/services.py\", line 124, in __call__\n",
      "2023-07-14 10:10:19,420 ERROR       return p(*args, **kwargs)\n",
      "2023-07-14 10:10:19,421 ERROR     File \"/opt/cdstoolbox/cdscompute/cdscompute/services.py\", line 60, in __call__\n",
      "2023-07-14 10:10:19,421 ERROR       return self.proc(context, *args, **kwargs)\n",
      "2023-07-14 10:10:19,422 ERROR     File \"/home/cds/cdsservices/services/esgf_wps/__init__.py\", line 30, in execute\n",
      "2023-07-14 10:10:19,422 ERROR       request_facets, request = facets.search(context, request)\n",
      "2023-07-14 10:10:19,423 ERROR     File \"/home/cds/cdsservices/services/esgf_wps/facets.py\", line 61, in search\n",
      "2023-07-14 10:10:19,424 ERROR       raise ValueError(f'No matching data for request {tmp_request}')\n",
      "2023-07-14 10:10:19,424 ERROR   ValueError: No matching data for request {'experiment': 'ssp119', 'model': 'NorESM2-MM', 'temporal_resolution': 'day', 'variable': 'tasmax'}\n",
      "2023-07-14 10:10:19,458 INFO Welcome to the CDS\n",
      "2023-07-14 10:10:19,458 INFO Sending request to https://cds.climate.copernicus.eu/api/v2/resources/projections-cmip6\n",
      "2023-07-14 10:10:19,538 INFO Request is queued\n"
     ]
    },
    {
     "name": "stdout",
     "output_type": "stream",
     "text": [
      "Some parameters are not matching\n",
      "Test with scenario ssp1_1_9 and model taiesm1\n",
      "path_for_file does not exist: the data may not have been downloaded\n",
      "file_download does not exist: the data were not downloaded\n"
     ]
    },
    {
     "name": "stderr",
     "output_type": "stream",
     "text": [
      "2023-07-14 10:10:20,580 INFO Request is failed\n",
      "2023-07-14 10:10:20,581 ERROR Message: an internal error occurred processing your request\n",
      "2023-07-14 10:10:20,582 ERROR Reason:  No matching data for request {'experiment': 'ssp119', 'model': 'TaiESM1', 'temporal_resolution': 'day', 'variable': 'tasmax'}\n",
      "2023-07-14 10:10:20,582 ERROR   Traceback (most recent call last):\n",
      "2023-07-14 10:10:20,583 ERROR     File \"/opt/cdstoolbox/cdscompute/cdscompute/cdshandlers/services/handler.py\", line 59, in handle_request\n",
      "2023-07-14 10:10:20,583 ERROR       result = cached(context.method, proc, context, context.args, context.kwargs)\n",
      "2023-07-14 10:10:20,584 ERROR     File \"/opt/cdstoolbox/cdscompute/cdscompute/caching.py\", line 108, in cached\n",
      "2023-07-14 10:10:20,584 ERROR       result = proc(context, *context.args, **context.kwargs)\n",
      "2023-07-14 10:10:20,585 ERROR     File \"/opt/cdstoolbox/cdscompute/cdscompute/services.py\", line 124, in __call__\n",
      "2023-07-14 10:10:20,585 ERROR       return p(*args, **kwargs)\n",
      "2023-07-14 10:10:20,586 ERROR     File \"/opt/cdstoolbox/cdscompute/cdscompute/services.py\", line 60, in __call__\n",
      "2023-07-14 10:10:20,587 ERROR       return self.proc(context, *args, **kwargs)\n",
      "2023-07-14 10:10:20,588 ERROR     File \"/home/cds/cdsservices/services/esgf_wps/__init__.py\", line 30, in execute\n",
      "2023-07-14 10:10:20,588 ERROR       request_facets, request = facets.search(context, request)\n",
      "2023-07-14 10:10:20,589 ERROR     File \"/home/cds/cdsservices/services/esgf_wps/facets.py\", line 61, in search\n",
      "2023-07-14 10:10:20,590 ERROR       raise ValueError(f'No matching data for request {tmp_request}')\n",
      "2023-07-14 10:10:20,590 ERROR   ValueError: No matching data for request {'experiment': 'ssp119', 'model': 'TaiESM1', 'temporal_resolution': 'day', 'variable': 'tasmax'}\n",
      "2023-07-14 10:10:20,629 INFO Welcome to the CDS\n",
      "2023-07-14 10:10:20,629 INFO Sending request to https://cds.climate.copernicus.eu/api/v2/resources/projections-cmip6\n",
      "2023-07-14 10:10:20,763 INFO Request is queued\n"
     ]
    },
    {
     "name": "stdout",
     "output_type": "stream",
     "text": [
      "Some parameters are not matching\n",
      "Test with scenario ssp1_1_9 and model access_esm1_5\n",
      "path_for_file does not exist: the data may not have been downloaded\n",
      "file_download does not exist: the data were not downloaded\n"
     ]
    },
    {
     "name": "stderr",
     "output_type": "stream",
     "text": [
      "2023-07-14 10:10:21,814 INFO Request is failed\n",
      "2023-07-14 10:10:21,816 ERROR Message: an internal error occurred processing your request\n",
      "2023-07-14 10:10:21,816 ERROR Reason:  No matching data for request {'experiment': 'ssp119', 'model': 'ACCESS-ESM1-5', 'temporal_resolution': 'day', 'variable': 'tasmax'}\n",
      "2023-07-14 10:10:21,817 ERROR   Traceback (most recent call last):\n",
      "2023-07-14 10:10:21,817 ERROR     File \"/opt/cdstoolbox/cdscompute/cdscompute/cdshandlers/services/handler.py\", line 59, in handle_request\n",
      "2023-07-14 10:10:21,818 ERROR       result = cached(context.method, proc, context, context.args, context.kwargs)\n",
      "2023-07-14 10:10:21,818 ERROR     File \"/opt/cdstoolbox/cdscompute/cdscompute/caching.py\", line 108, in cached\n",
      "2023-07-14 10:10:21,819 ERROR       result = proc(context, *context.args, **context.kwargs)\n",
      "2023-07-14 10:10:21,820 ERROR     File \"/opt/cdstoolbox/cdscompute/cdscompute/services.py\", line 124, in __call__\n",
      "2023-07-14 10:10:21,820 ERROR       return p(*args, **kwargs)\n",
      "2023-07-14 10:10:21,821 ERROR     File \"/opt/cdstoolbox/cdscompute/cdscompute/services.py\", line 60, in __call__\n",
      "2023-07-14 10:10:21,821 ERROR       return self.proc(context, *args, **kwargs)\n",
      "2023-07-14 10:10:21,822 ERROR     File \"/home/cds/cdsservices/services/esgf_wps/__init__.py\", line 30, in execute\n",
      "2023-07-14 10:10:21,823 ERROR       request_facets, request = facets.search(context, request)\n",
      "2023-07-14 10:10:21,823 ERROR     File \"/home/cds/cdsservices/services/esgf_wps/facets.py\", line 61, in search\n",
      "2023-07-14 10:10:21,824 ERROR       raise ValueError(f'No matching data for request {tmp_request}')\n",
      "2023-07-14 10:10:21,824 ERROR   ValueError: No matching data for request {'experiment': 'ssp119', 'model': 'ACCESS-ESM1-5', 'temporal_resolution': 'day', 'variable': 'tasmax'}\n",
      "2023-07-14 10:10:21,864 INFO Welcome to the CDS\n",
      "2023-07-14 10:10:21,865 INFO Sending request to https://cds.climate.copernicus.eu/api/v2/resources/projections-cmip6\n",
      "2023-07-14 10:10:21,997 INFO Request is queued\n"
     ]
    },
    {
     "name": "stdout",
     "output_type": "stream",
     "text": [
      "Some parameters are not matching\n",
      "Test with scenario ssp1_1_9 and model awi_esm_1_1_lr\n",
      "path_for_file does not exist: the data may not have been downloaded\n",
      "file_download does not exist: the data were not downloaded\n"
     ]
    },
    {
     "name": "stderr",
     "output_type": "stream",
     "text": [
      "2023-07-14 10:10:23,037 INFO Request is failed\n",
      "2023-07-14 10:10:23,039 ERROR Message: an internal error occurred processing your request\n",
      "2023-07-14 10:10:23,039 ERROR Reason:  No matching data for request {'experiment': 'ssp119', 'model': 'AWI-ESM-1-1-LR', 'temporal_resolution': 'day', 'variable': 'tasmax'}\n",
      "2023-07-14 10:10:23,040 ERROR   Traceback (most recent call last):\n",
      "2023-07-14 10:10:23,040 ERROR     File \"/opt/cdstoolbox/cdscompute/cdscompute/cdshandlers/services/handler.py\", line 59, in handle_request\n",
      "2023-07-14 10:10:23,041 ERROR       result = cached(context.method, proc, context, context.args, context.kwargs)\n",
      "2023-07-14 10:10:23,041 ERROR     File \"/opt/cdstoolbox/cdscompute/cdscompute/caching.py\", line 108, in cached\n",
      "2023-07-14 10:10:23,043 ERROR       result = proc(context, *context.args, **context.kwargs)\n",
      "2023-07-14 10:10:23,043 ERROR     File \"/opt/cdstoolbox/cdscompute/cdscompute/services.py\", line 124, in __call__\n",
      "2023-07-14 10:10:23,044 ERROR       return p(*args, **kwargs)\n",
      "2023-07-14 10:10:23,044 ERROR     File \"/opt/cdstoolbox/cdscompute/cdscompute/services.py\", line 60, in __call__\n",
      "2023-07-14 10:10:23,046 ERROR       return self.proc(context, *args, **kwargs)\n",
      "2023-07-14 10:10:23,047 ERROR     File \"/home/cds/cdsservices/services/esgf_wps/__init__.py\", line 30, in execute\n",
      "2023-07-14 10:10:23,048 ERROR       request_facets, request = facets.search(context, request)\n",
      "2023-07-14 10:10:23,049 ERROR     File \"/home/cds/cdsservices/services/esgf_wps/facets.py\", line 61, in search\n",
      "2023-07-14 10:10:23,050 ERROR       raise ValueError(f'No matching data for request {tmp_request}')\n",
      "2023-07-14 10:10:23,050 ERROR   ValueError: No matching data for request {'experiment': 'ssp119', 'model': 'AWI-ESM-1-1-LR', 'temporal_resolution': 'day', 'variable': 'tasmax'}\n",
      "2023-07-14 10:10:23,085 INFO Welcome to the CDS\n",
      "2023-07-14 10:10:23,086 INFO Sending request to https://cds.climate.copernicus.eu/api/v2/resources/projections-cmip6\n",
      "2023-07-14 10:10:23,128 INFO Request is queued\n"
     ]
    },
    {
     "name": "stdout",
     "output_type": "stream",
     "text": [
      "Some parameters are not matching\n",
      "Test with scenario ssp1_1_9 and model bcc_esm1\n",
      "path_for_file does not exist: the data may not have been downloaded\n",
      "file_download does not exist: the data were not downloaded\n"
     ]
    },
    {
     "name": "stderr",
     "output_type": "stream",
     "text": [
      "2023-07-14 10:10:25,745 INFO Request is failed\n",
      "2023-07-14 10:10:25,746 ERROR Message: an internal error occurred processing your request\n",
      "2023-07-14 10:10:25,747 ERROR Reason:  No matching data for request {'experiment': 'ssp119', 'model': 'BCC-ESM1', 'temporal_resolution': 'day', 'variable': 'tasmax'}\n",
      "2023-07-14 10:10:25,747 ERROR   Traceback (most recent call last):\n",
      "2023-07-14 10:10:25,748 ERROR     File \"/opt/cdstoolbox/cdscompute/cdscompute/cdshandlers/services/handler.py\", line 59, in handle_request\n",
      "2023-07-14 10:10:25,749 ERROR       result = cached(context.method, proc, context, context.args, context.kwargs)\n",
      "2023-07-14 10:10:25,749 ERROR     File \"/opt/cdstoolbox/cdscompute/cdscompute/caching.py\", line 108, in cached\n",
      "2023-07-14 10:10:25,750 ERROR       result = proc(context, *context.args, **context.kwargs)\n",
      "2023-07-14 10:10:25,750 ERROR     File \"/opt/cdstoolbox/cdscompute/cdscompute/services.py\", line 124, in __call__\n",
      "2023-07-14 10:10:25,751 ERROR       return p(*args, **kwargs)\n",
      "2023-07-14 10:10:25,751 ERROR     File \"/opt/cdstoolbox/cdscompute/cdscompute/services.py\", line 60, in __call__\n",
      "2023-07-14 10:10:25,752 ERROR       return self.proc(context, *args, **kwargs)\n",
      "2023-07-14 10:10:25,752 ERROR     File \"/home/cds/cdsservices/services/esgf_wps/__init__.py\", line 30, in execute\n",
      "2023-07-14 10:10:25,753 ERROR       request_facets, request = facets.search(context, request)\n",
      "2023-07-14 10:10:25,754 ERROR     File \"/home/cds/cdsservices/services/esgf_wps/facets.py\", line 61, in search\n",
      "2023-07-14 10:10:25,754 ERROR       raise ValueError(f'No matching data for request {tmp_request}')\n",
      "2023-07-14 10:10:25,755 ERROR   ValueError: No matching data for request {'experiment': 'ssp119', 'model': 'BCC-ESM1', 'temporal_resolution': 'day', 'variable': 'tasmax'}\n",
      "2023-07-14 10:10:25,787 INFO Welcome to the CDS\n",
      "2023-07-14 10:10:25,788 INFO Sending request to https://cds.climate.copernicus.eu/api/v2/resources/projections-cmip6\n"
     ]
    },
    {
     "name": "stdout",
     "output_type": "stream",
     "text": [
      "Some parameters are not matching\n",
      "Test with scenario ssp1_1_9 and model canesm5\n",
      "path_for_file does not exist: the data may not have been downloaded\n",
      "file_download does not exist: the data were not downloaded\n"
     ]
    },
    {
     "name": "stderr",
     "output_type": "stream",
     "text": [
      "2023-07-14 10:10:25,955 INFO Request is queued\n",
      "2023-07-14 10:10:28,539 INFO Request is running\n",
      "2023-07-14 10:11:41,253 INFO Request is completed\n",
      "2023-07-14 10:11:41,253 INFO Downloading https://download-0014-clone.copernicus-climate.eu/cache-compute-0014/cache/data7/adaptor.esgf_wps.retrieve-1689322281.2334573-23901-10-9e8d6513-b511-4570-9bab-3aee5415796a.zip to download.zip (8.5M)\n",
      "2023-07-14 10:11:42,811 INFO Download rate 5.5M/s                                                                      \n"
     ]
    },
    {
     "name": "stdout",
     "output_type": "stream",
     "text": [
      "The file has been download\n",
      "\\\\COWI.net\\projects\\A245000\\A248363\\CRVA\\Datasets\\temperature\\daily_maximum_near_surface_air_temperature\\Copernicus-CMIP6\\raw_data\\2015-2100\\ssp1_1_9\\canesm5\\all-Mozambique\n",
      "Path for the file is created, did not existed before\n"
     ]
    },
    {
     "name": "stderr",
     "output_type": "stream",
     "text": [
      "2023-07-14 10:11:43,923 INFO Welcome to the CDS\n",
      "2023-07-14 10:11:43,925 INFO Sending request to https://cds.climate.copernicus.eu/api/v2/resources/projections-cmip6\n",
      "2023-07-14 10:11:44,015 INFO Request is queued\n"
     ]
    },
    {
     "name": "stdout",
     "output_type": "stream",
     "text": [
      "\n",
      " The downloaded file is extracted\n",
      "The file has been extracted\n",
      "Test with scenario ssp1_1_9 and model cesm2\n",
      "path_for_file does not exist: the data may not have been downloaded\n",
      "file_download does not exist: the data were not downloaded\n"
     ]
    },
    {
     "name": "stderr",
     "output_type": "stream",
     "text": [
      "2023-07-14 10:11:46,694 INFO Request is failed\n",
      "2023-07-14 10:11:46,695 ERROR Message: an internal error occurred processing your request\n",
      "2023-07-14 10:11:46,695 ERROR Reason:  No matching data for request {'experiment': 'ssp119', 'model': 'CESM2', 'temporal_resolution': 'day', 'variable': 'tasmax'}\n",
      "2023-07-14 10:11:46,696 ERROR   Traceback (most recent call last):\n",
      "2023-07-14 10:11:46,696 ERROR     File \"/opt/cdstoolbox/cdscompute/cdscompute/cdshandlers/services/handler.py\", line 59, in handle_request\n",
      "2023-07-14 10:11:46,698 ERROR       result = cached(context.method, proc, context, context.args, context.kwargs)\n",
      "2023-07-14 10:11:46,698 ERROR     File \"/opt/cdstoolbox/cdscompute/cdscompute/caching.py\", line 108, in cached\n",
      "2023-07-14 10:11:46,700 ERROR       result = proc(context, *context.args, **context.kwargs)\n",
      "2023-07-14 10:11:46,700 ERROR     File \"/opt/cdstoolbox/cdscompute/cdscompute/services.py\", line 124, in __call__\n",
      "2023-07-14 10:11:46,700 ERROR       return p(*args, **kwargs)\n",
      "2023-07-14 10:11:46,701 ERROR     File \"/opt/cdstoolbox/cdscompute/cdscompute/services.py\", line 60, in __call__\n",
      "2023-07-14 10:11:46,702 ERROR       return self.proc(context, *args, **kwargs)\n",
      "2023-07-14 10:11:46,703 ERROR     File \"/home/cds/cdsservices/services/esgf_wps/__init__.py\", line 30, in execute\n",
      "2023-07-14 10:11:46,703 ERROR       request_facets, request = facets.search(context, request)\n",
      "2023-07-14 10:11:46,704 ERROR     File \"/home/cds/cdsservices/services/esgf_wps/facets.py\", line 61, in search\n",
      "2023-07-14 10:11:46,704 ERROR       raise ValueError(f'No matching data for request {tmp_request}')\n",
      "2023-07-14 10:11:46,705 ERROR   ValueError: No matching data for request {'experiment': 'ssp119', 'model': 'CESM2', 'temporal_resolution': 'day', 'variable': 'tasmax'}\n",
      "2023-07-14 10:11:46,751 INFO Welcome to the CDS\n",
      "2023-07-14 10:11:46,751 INFO Sending request to https://cds.climate.copernicus.eu/api/v2/resources/projections-cmip6\n",
      "2023-07-14 10:11:46,811 INFO Request is queued\n"
     ]
    },
    {
     "name": "stdout",
     "output_type": "stream",
     "text": [
      "Some parameters are not matching\n",
      "Test with scenario ssp1_1_9 and model cesm2_waccm\n",
      "path_for_file does not exist: the data may not have been downloaded\n",
      "file_download does not exist: the data were not downloaded\n"
     ]
    },
    {
     "name": "stderr",
     "output_type": "stream",
     "text": [
      "2023-07-14 10:11:47,857 INFO Request is failed\n",
      "2023-07-14 10:11:47,858 ERROR Message: an internal error occurred processing your request\n",
      "2023-07-14 10:11:47,859 ERROR Reason:  No matching data for request {'experiment': 'ssp119', 'model': 'CESM2-WACCM', 'temporal_resolution': 'day', 'variable': 'tasmax'}\n",
      "2023-07-14 10:11:47,860 ERROR   Traceback (most recent call last):\n",
      "2023-07-14 10:11:47,860 ERROR     File \"/opt/cdstoolbox/cdscompute/cdscompute/cdshandlers/services/handler.py\", line 59, in handle_request\n",
      "2023-07-14 10:11:47,861 ERROR       result = cached(context.method, proc, context, context.args, context.kwargs)\n",
      "2023-07-14 10:11:47,863 ERROR     File \"/opt/cdstoolbox/cdscompute/cdscompute/caching.py\", line 108, in cached\n",
      "2023-07-14 10:11:47,864 ERROR       result = proc(context, *context.args, **context.kwargs)\n",
      "2023-07-14 10:11:47,865 ERROR     File \"/opt/cdstoolbox/cdscompute/cdscompute/services.py\", line 124, in __call__\n",
      "2023-07-14 10:11:47,865 ERROR       return p(*args, **kwargs)\n",
      "2023-07-14 10:11:47,866 ERROR     File \"/opt/cdstoolbox/cdscompute/cdscompute/services.py\", line 60, in __call__\n",
      "2023-07-14 10:11:47,867 ERROR       return self.proc(context, *args, **kwargs)\n",
      "2023-07-14 10:11:47,868 ERROR     File \"/home/cds/cdsservices/services/esgf_wps/__init__.py\", line 30, in execute\n",
      "2023-07-14 10:11:47,869 ERROR       request_facets, request = facets.search(context, request)\n",
      "2023-07-14 10:11:47,872 ERROR     File \"/home/cds/cdsservices/services/esgf_wps/facets.py\", line 61, in search\n",
      "2023-07-14 10:11:47,872 ERROR       raise ValueError(f'No matching data for request {tmp_request}')\n",
      "2023-07-14 10:11:47,874 ERROR   ValueError: No matching data for request {'experiment': 'ssp119', 'model': 'CESM2-WACCM', 'temporal_resolution': 'day', 'variable': 'tasmax'}\n",
      "2023-07-14 10:11:47,925 INFO Welcome to the CDS\n",
      "2023-07-14 10:11:47,926 INFO Sending request to https://cds.climate.copernicus.eu/api/v2/resources/projections-cmip6\n",
      "2023-07-14 10:11:47,981 INFO Request is queued\n"
     ]
    },
    {
     "name": "stdout",
     "output_type": "stream",
     "text": [
      "Some parameters are not matching\n",
      "Test with scenario ssp1_1_9 and model ciesm\n",
      "path_for_file does not exist: the data may not have been downloaded\n",
      "file_download does not exist: the data were not downloaded\n"
     ]
    },
    {
     "name": "stderr",
     "output_type": "stream",
     "text": [
      "2023-07-14 10:11:49,029 INFO Request is failed\n",
      "2023-07-14 10:11:49,030 ERROR Message: an internal error occurred processing your request\n",
      "2023-07-14 10:11:49,030 ERROR Reason:  No matching data for request {'experiment': 'ssp119', 'model': 'CIESM', 'temporal_resolution': 'day', 'variable': 'tasmax'}\n",
      "2023-07-14 10:11:49,031 ERROR   Traceback (most recent call last):\n",
      "2023-07-14 10:11:49,032 ERROR     File \"/opt/cdstoolbox/cdscompute/cdscompute/cdshandlers/services/handler.py\", line 59, in handle_request\n",
      "2023-07-14 10:11:49,033 ERROR       result = cached(context.method, proc, context, context.args, context.kwargs)\n",
      "2023-07-14 10:11:49,034 ERROR     File \"/opt/cdstoolbox/cdscompute/cdscompute/caching.py\", line 108, in cached\n",
      "2023-07-14 10:11:49,036 ERROR       result = proc(context, *context.args, **context.kwargs)\n",
      "2023-07-14 10:11:49,036 ERROR     File \"/opt/cdstoolbox/cdscompute/cdscompute/services.py\", line 124, in __call__\n",
      "2023-07-14 10:11:49,036 ERROR       return p(*args, **kwargs)\n",
      "2023-07-14 10:11:49,037 ERROR     File \"/opt/cdstoolbox/cdscompute/cdscompute/services.py\", line 60, in __call__\n",
      "2023-07-14 10:11:49,038 ERROR       return self.proc(context, *args, **kwargs)\n",
      "2023-07-14 10:11:49,039 ERROR     File \"/home/cds/cdsservices/services/esgf_wps/__init__.py\", line 30, in execute\n",
      "2023-07-14 10:11:49,040 ERROR       request_facets, request = facets.search(context, request)\n",
      "2023-07-14 10:11:49,041 ERROR     File \"/home/cds/cdsservices/services/esgf_wps/facets.py\", line 61, in search\n",
      "2023-07-14 10:11:49,043 ERROR       raise ValueError(f'No matching data for request {tmp_request}')\n",
      "2023-07-14 10:11:49,044 ERROR   ValueError: No matching data for request {'experiment': 'ssp119', 'model': 'CIESM', 'temporal_resolution': 'day', 'variable': 'tasmax'}\n",
      "2023-07-14 10:11:49,080 INFO Welcome to the CDS\n",
      "2023-07-14 10:11:49,082 INFO Sending request to https://cds.climate.copernicus.eu/api/v2/resources/projections-cmip6\n",
      "2023-07-14 10:11:49,211 INFO Request is queued\n"
     ]
    },
    {
     "name": "stdout",
     "output_type": "stream",
     "text": [
      "Some parameters are not matching\n",
      "Test with scenario ssp1_1_9 and model cmcc_cm2_sr5\n",
      "path_for_file does not exist: the data may not have been downloaded\n",
      "file_download does not exist: the data were not downloaded\n"
     ]
    },
    {
     "name": "stderr",
     "output_type": "stream",
     "text": [
      "2023-07-14 10:11:50,248 INFO Request is failed\n",
      "2023-07-14 10:11:50,248 ERROR Message: an internal error occurred processing your request\n",
      "2023-07-14 10:11:50,249 ERROR Reason:  No matching data for request {'experiment': 'ssp119', 'model': 'CMCC-CM2-SR5', 'temporal_resolution': 'day', 'variable': 'tasmax'}\n",
      "2023-07-14 10:11:50,250 ERROR   Traceback (most recent call last):\n",
      "2023-07-14 10:11:50,251 ERROR     File \"/opt/cdstoolbox/cdscompute/cdscompute/cdshandlers/services/handler.py\", line 59, in handle_request\n",
      "2023-07-14 10:11:50,252 ERROR       result = cached(context.method, proc, context, context.args, context.kwargs)\n",
      "2023-07-14 10:11:50,253 ERROR     File \"/opt/cdstoolbox/cdscompute/cdscompute/caching.py\", line 108, in cached\n",
      "2023-07-14 10:11:50,254 ERROR       result = proc(context, *context.args, **context.kwargs)\n",
      "2023-07-14 10:11:50,255 ERROR     File \"/opt/cdstoolbox/cdscompute/cdscompute/services.py\", line 124, in __call__\n",
      "2023-07-14 10:11:50,256 ERROR       return p(*args, **kwargs)\n",
      "2023-07-14 10:11:50,258 ERROR     File \"/opt/cdstoolbox/cdscompute/cdscompute/services.py\", line 60, in __call__\n",
      "2023-07-14 10:11:50,259 ERROR       return self.proc(context, *args, **kwargs)\n",
      "2023-07-14 10:11:50,260 ERROR     File \"/home/cds/cdsservices/services/esgf_wps/__init__.py\", line 30, in execute\n",
      "2023-07-14 10:11:50,261 ERROR       request_facets, request = facets.search(context, request)\n",
      "2023-07-14 10:11:50,261 ERROR     File \"/home/cds/cdsservices/services/esgf_wps/facets.py\", line 61, in search\n",
      "2023-07-14 10:11:50,262 ERROR       raise ValueError(f'No matching data for request {tmp_request}')\n",
      "2023-07-14 10:11:50,264 ERROR   ValueError: No matching data for request {'experiment': 'ssp119', 'model': 'CMCC-CM2-SR5', 'temporal_resolution': 'day', 'variable': 'tasmax'}\n",
      "2023-07-14 10:11:50,317 INFO Welcome to the CDS\n",
      "2023-07-14 10:11:50,318 INFO Sending request to https://cds.climate.copernicus.eu/api/v2/resources/projections-cmip6\n",
      "2023-07-14 10:11:50,380 INFO Request is queued\n"
     ]
    },
    {
     "name": "stdout",
     "output_type": "stream",
     "text": [
      "Some parameters are not matching\n",
      "Test with scenario ssp1_1_9 and model cnrm_cm6_1\n",
      "path_for_file does not exist: the data may not have been downloaded\n",
      "file_download does not exist: the data were not downloaded\n"
     ]
    },
    {
     "name": "stderr",
     "output_type": "stream",
     "text": [
      "2023-07-14 10:11:52,955 INFO Request is failed\n",
      "2023-07-14 10:11:52,956 ERROR Message: an internal error occurred processing your request\n",
      "2023-07-14 10:11:52,957 ERROR Reason:  No matching data for request {'experiment': 'ssp119', 'model': 'CNRM-CM6-1', 'temporal_resolution': 'day', 'variable': 'tasmax'}\n",
      "2023-07-14 10:11:52,958 ERROR   Traceback (most recent call last):\n",
      "2023-07-14 10:11:52,959 ERROR     File \"/opt/cdstoolbox/cdscompute/cdscompute/cdshandlers/services/handler.py\", line 59, in handle_request\n",
      "2023-07-14 10:11:52,960 ERROR       result = cached(context.method, proc, context, context.args, context.kwargs)\n",
      "2023-07-14 10:11:52,960 ERROR     File \"/opt/cdstoolbox/cdscompute/cdscompute/caching.py\", line 108, in cached\n",
      "2023-07-14 10:11:52,961 ERROR       result = proc(context, *context.args, **context.kwargs)\n",
      "2023-07-14 10:11:52,962 ERROR     File \"/opt/cdstoolbox/cdscompute/cdscompute/services.py\", line 124, in __call__\n",
      "2023-07-14 10:11:52,962 ERROR       return p(*args, **kwargs)\n",
      "2023-07-14 10:11:52,964 ERROR     File \"/opt/cdstoolbox/cdscompute/cdscompute/services.py\", line 60, in __call__\n",
      "2023-07-14 10:11:52,965 ERROR       return self.proc(context, *args, **kwargs)\n",
      "2023-07-14 10:11:52,966 ERROR     File \"/home/cds/cdsservices/services/esgf_wps/__init__.py\", line 30, in execute\n",
      "2023-07-14 10:11:52,967 ERROR       request_facets, request = facets.search(context, request)\n",
      "2023-07-14 10:11:52,968 ERROR     File \"/home/cds/cdsservices/services/esgf_wps/facets.py\", line 61, in search\n",
      "2023-07-14 10:11:52,969 ERROR       raise ValueError(f'No matching data for request {tmp_request}')\n",
      "2023-07-14 10:11:52,971 ERROR   ValueError: No matching data for request {'experiment': 'ssp119', 'model': 'CNRM-CM6-1', 'temporal_resolution': 'day', 'variable': 'tasmax'}\n",
      "2023-07-14 10:11:53,013 INFO Welcome to the CDS\n",
      "2023-07-14 10:11:53,014 INFO Sending request to https://cds.climate.copernicus.eu/api/v2/resources/projections-cmip6\n",
      "2023-07-14 10:11:53,092 INFO Request is queued\n"
     ]
    },
    {
     "name": "stdout",
     "output_type": "stream",
     "text": [
      "Some parameters are not matching\n",
      "Test with scenario ssp1_1_9 and model cnrm_esm2_1\n",
      "path_for_file does not exist: the data may not have been downloaded\n",
      "file_download does not exist: the data were not downloaded\n"
     ]
    },
    {
     "name": "stderr",
     "output_type": "stream",
     "text": [
      "2023-07-14 10:11:54,142 INFO Request is running\n"
     ]
    }
   ],
   "source": [
    "download_copernicus(temporal_resolution,year_str,scenarios,copernicus_elements.models,out_path, global_variable, name_variable,area,name_area)"
   ]
  },
  {
   "cell_type": "code",
   "execution_count": null,
   "id": "c8ff3c17",
   "metadata": {},
   "outputs": [],
   "source": []
  },
  {
   "cell_type": "code",
   "execution_count": null,
   "id": "8f249741",
   "metadata": {},
   "outputs": [],
   "source": []
  }
 ],
 "metadata": {
  "kernelspec": {
   "display_name": "Python 3 (ipykernel)",
   "language": "python",
   "name": "python3"
  },
  "language_info": {
   "codemirror_mode": {
    "name": "ipython",
    "version": 3
   },
   "file_extension": ".py",
   "mimetype": "text/x-python",
   "name": "python",
   "nbconvert_exporter": "python",
   "pygments_lexer": "ipython3",
   "version": "3.10.6"
  }
 },
 "nbformat": 4,
 "nbformat_minor": 5
}
