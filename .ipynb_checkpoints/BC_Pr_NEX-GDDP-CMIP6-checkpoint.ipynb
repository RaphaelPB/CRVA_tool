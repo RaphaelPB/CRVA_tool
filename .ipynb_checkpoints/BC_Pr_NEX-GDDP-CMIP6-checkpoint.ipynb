{
 "cells": [
  {
   "cell_type": "markdown",
   "id": "6ff50efd",
   "metadata": {},
   "source": [
    "This notebook contains the Bias correction over precipitation with the method BcsdPrecipitation(return_anoms=False)"
   ]
  },
  {
   "cell_type": "code",
   "execution_count": 1,
   "id": "6a91cd32",
   "metadata": {},
   "outputs": [],
   "source": [
    "# import modules and functions\n",
    "\n",
    "import pandas as pd\n",
    "import numpy as np\n",
    "\n",
    "import matplotlib.pyplot as plt\n",
    "\n",
    "# import data\n",
    "from Functions_ImportData import import_treat_modeled_NEX_GDDP_CMIP6\n",
    "from Functions_ImportData import import_filtered_NOAA_obs\n",
    "from Functions_ImportData import import_treat_obs_NOAA\n",
    "from Functions_ImportData import import_treat_modeled_NEX_GDDP_CMIP6_close_to_stationNOAA\n",
    "from Bias_correction_function import BC\n",
    "from Bias_correction_function import treat_data_for_test\n",
    "from Bias_correction_function import BCSD_Precipitation_return_anoms_to_apply"
   ]
  },
  {
   "cell_type": "code",
   "execution_count": 2,
   "id": "c4e93b48",
   "metadata": {},
   "outputs": [],
   "source": [
    "climate_var = 'pr' # 'tas'\n",
    "unit='mm_per_day'\n",
    "resolution = 'day'\n",
    "\n",
    "start_y = 2030\n",
    "stop_y = 2065\n",
    "# precipitation : 'pr'\n",
    "\n",
    "name_station = 'BEIRA, MZ'\n",
    "name_project = 'WTP_Mutua_EIB'"
   ]
  },
  {
   "cell_type": "code",
   "execution_count": 3,
   "id": "d4d28b4c",
   "metadata": {},
   "outputs": [],
   "source": [
    "# import observation data\n",
    "data_obs_NOAA_filtered=import_filtered_NOAA_obs()"
   ]
  },
  {
   "cell_type": "code",
   "execution_count": 4,
   "id": "8707856d",
   "metadata": {},
   "outputs": [],
   "source": [
    "name_model = 'ACCESS-CM2'"
   ]
  },
  {
   "cell_type": "code",
   "execution_count": null,
   "id": "67d3d3af",
   "metadata": {},
   "outputs": [],
   "source": []
  },
  {
   "cell_type": "code",
   "execution_count": 5,
   "id": "88cfbd56",
   "metadata": {},
   "outputs": [],
   "source": [
    "# import historic modeled data\n",
    "climate_var_NEX_GDDP_CMIP6_EmplacementStation=import_treat_modeled_NEX_GDDP_CMIP6_close_to_stationNOAA(climate_var, 'mm_per_day')"
   ]
  },
  {
   "cell_type": "code",
   "execution_count": null,
   "id": "68e40197",
   "metadata": {},
   "outputs": [],
   "source": [
    "# import data to correct\n",
    "climate_var_NEX_GDDP_CMIP6_Project=import_treat_modeled_NEX_GDDP_CMIP6(climate_var,'mm_per_day','day',1950,2100)"
   ]
  },
  {
   "cell_type": "code",
   "execution_count": null,
   "id": "91613d80",
   "metadata": {},
   "outputs": [],
   "source": [
    "climate_var_NEX_GDDP_CMIP6_Project"
   ]
  },
  {
   "cell_type": "code",
   "execution_count": null,
   "id": "0cf367f9",
   "metadata": {},
   "outputs": [],
   "source": [
    "climate_var_NEX_GDDP_CMIP6_Project_to_correct=climate_var_NEX_GDDP_CMIP6_Project[climate_var_NEX_GDDP_CMIP6_Project['Year'].between(2030,2064)]"
   ]
  },
  {
   "cell_type": "code",
   "execution_count": null,
   "id": "77326773",
   "metadata": {},
   "outputs": [],
   "source": [
    "list_model=list(set(climate_var_NEX_GDDP_CMIP6_Project_to_correct['Model']))#.remove('NESM3')\n",
    "list_model.remove('NESM3')"
   ]
  },
  {
   "cell_type": "code",
   "execution_count": null,
   "id": "cc69b631",
   "metadata": {},
   "outputs": [],
   "source": [
    "df_pr_bc_corrected=pd.DataFrame()\n",
    "for name_project in list(set(climate_var_NEX_GDDP_CMIP6_Project_to_correct['Name project'])):\n",
    "    climate_var_NEX_GDDP_CMIP6_Project_temp=climate_var_NEX_GDDP_CMIP6_Project_to_correct[climate_var_NEX_GDDP_CMIP6_Project_to_correct['Name project']==name_project]\n",
    "    for scenario in list(set(climate_var_NEX_GDDP_CMIP6_Project_to_correct['Experiment'])):\n",
    "        climate_var_NEX_GDDP_CMIP6_Project_temp_2=climate_var_NEX_GDDP_CMIP6_Project_temp[climate_var_NEX_GDDP_CMIP6_Project_temp['Experiment']==scenario]\n",
    "        for model in list_model:\n",
    "            print('For '+name_project+', '+scenario+' and '+model)\n",
    "            climate_var_NEX_GDDP_CMIP6_Project_temp_3=climate_var_NEX_GDDP_CMIP6_Project_temp_2[climate_var_NEX_GDDP_CMIP6_Project_temp_2['Model']==model]\n",
    "            (X_pcp,y_pcp,out)=BCSD_Precipitation_return_anoms_to_apply(df_pr,climate_var_NEX_GDDP_CMIP6_Project_temp_3[['Date','Mean of the daily precipitation rate mm_per_day']].dropna().reset_index(drop=True))\n",
    "            out = out.reset_index()\n",
    "            out['Name project']=name_project\n",
    "            out['Experiment']=scenario\n",
    "            out['Model']=model\n",
    "            df_pr_bc_corrected=pd.concat([df_pr_bc_corrected,out])"
   ]
  },
  {
   "cell_type": "code",
   "execution_count": null,
   "id": "2f08ff2a",
   "metadata": {},
   "outputs": [],
   "source": [
    "df_pr_bc_corrected"
   ]
  },
  {
   "cell_type": "code",
   "execution_count": null,
   "id": "6d5223a7",
   "metadata": {},
   "outputs": [],
   "source": []
  },
  {
   "cell_type": "code",
   "execution_count": null,
   "id": "77a12a17",
   "metadata": {},
   "outputs": [],
   "source": [
    "path = r'\\\\COWI.net\\projects\\A245000\\A248363\\CRVA\\Datasets\\NEX-GDDP-CMIP6-AllMoz\\csv_file'"
   ]
  },
  {
   "cell_type": "code",
   "execution_count": null,
   "id": "e15316bc",
   "metadata": {},
   "outputs": [],
   "source": []
  },
  {
   "cell_type": "code",
   "execution_count": null,
   "id": "ba2294b1",
   "metadata": {},
   "outputs": [],
   "source": [
    "df.to_csv(os.path.join(path,climate_var,climate_var+'_'+unit+'_'+resolution+'_'+str(start_y)+'-'+str(stop_y)+'_BiasCorrected',climate_var+'_'+'mm_per_day'+resolution+str(start_y)+'-'+str(stop_y)+'_BiasCorrected.csv'))"
   ]
  },
  {
   "cell_type": "code",
   "execution_count": null,
   "id": "92dc2bf6",
   "metadata": {},
   "outputs": [],
   "source": []
  }
 ],
 "metadata": {
  "kernelspec": {
   "display_name": "Python 3 (ipykernel)",
   "language": "python",
   "name": "python3"
  },
  "language_info": {
   "codemirror_mode": {
    "name": "ipython",
    "version": 3
   },
   "file_extension": ".py",
   "mimetype": "text/x-python",
   "name": "python",
   "nbconvert_exporter": "python",
   "pygments_lexer": "ipython3",
   "version": "3.10.6"
  }
 },
 "nbformat": 4,
 "nbformat_minor": 5
}
