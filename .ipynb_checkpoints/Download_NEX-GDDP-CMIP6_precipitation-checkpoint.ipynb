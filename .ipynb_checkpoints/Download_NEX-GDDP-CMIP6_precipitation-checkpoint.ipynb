{
 "cells": [
  {
   "cell_type": "markdown",
   "id": "dbcbb322",
   "metadata": {},
   "source": [
    "# Import Packages"
   ]
  },
  {
   "cell_type": "code",
   "execution_count": 1,
   "id": "1f277db0",
   "metadata": {},
   "outputs": [],
   "source": [
    "import requests\n",
    "import pandas as pd\n",
    "\n",
    "import os\n",
    "import os.path\n",
    "\n",
    "from netCDF4 import Dataset\n",
    "\n",
    "import numpy as np\n",
    "import numpy.ma as ma\n",
    "\n",
    "import multiprocessing as mp# to download several file in parrallel\n",
    "from multiprocessing.pool import ThreadPool"
   ]
  },
  {
   "cell_type": "markdown",
   "id": "6a8847fc",
   "metadata": {},
   "source": [
    "# Define Functions"
   ]
  },
  {
   "cell_type": "code",
   "execution_count": 2,
   "id": "aeddbf1a",
   "metadata": {},
   "outputs": [],
   "source": [
    "# function to display a map\n",
    "def Display_map(lat,lon,lat_min_wanted,lat_max_wanted,lon_min_wanted,lon_max_wanted,data,title_png,title_to_adapt,label,parallels,meridians):#,projects):\n",
    "\n",
    "    lon_moz, lat_moz = np.meshgrid(lon, lat) # this is necessary to have a map\n",
    "    \n",
    "    # create Map\n",
    "    fig = plt.figure()\n",
    "    plt.title(title_to_adapt) # title of the map # automatized with year\n",
    "    map = Basemap(projection ='merc',llcrnrlon=lon_min_wanted+5,llcrnrlat=lat_min_wanted+2,urcrnrlon=lon_max_wanted-5,urcrnrlat=lat_max_wanted-2,resolution='i', epsg = 4326) # projection, lat/lon extents an\n",
    "    # adding and substracting a quantity to the lon and lat to have a bit of margin when presenting it\n",
    "    # substracting more to longitude because the range of longitude is -180 to 180. The range of latitude is -90 to 90\n",
    "    map.drawcountries()\n",
    "    map.drawcoastlines()\n",
    "    map.drawparallels(parallels,labels=[1,0,0,0],fontsize=10)\n",
    "    map.drawmeridians(meridians,labels=[0,0,0,1],fontsize=10)\n",
    "\n",
    "    temp = map.contourf(lon_moz,lat_moz,data)\n",
    "    #projects.plot(ax=ax) # project in projection EPSG:4326\n",
    "    cb = map.colorbar(temp,\"right\", size=\"5%\", pad=\"2%\") # color scale, second parameter can be locationNone or {'left', 'right', 'top', 'bottom'}\n",
    "    cb.set_label(label) # name for color scale\n",
    "    plt.savefig(os.path.join(out_path,'figures',title_png),format ='png') # savefig or save text must be before plt.show. for savefig, format should be explicity written\n",
    "    plt.show()"
   ]
  },
  {
   "cell_type": "code",
   "execution_count": 3,
   "id": "a8bea1a2",
   "metadata": {},
   "outputs": [],
   "source": [
    "# function to extract the name of the file from its url\n",
    "# the imput is an url\n",
    "def extract_name_file(url):\n",
    "    index_before_name=url.rfind('/') # returns the highest index where the last character '/' was found, which is just before the name of the file    \n",
    "    name = url[index_before_name+1:len(url)] # return the name of the file as a string, with the suffix '.nc'\n",
    "    return name\n",
    "\n",
    "# function 'produce_name_list' produce a list of files' name, with the suffix '.nc'\n",
    "# 'produce_name_list' use the function 'extract_name_file' to have the name of a file from its url\n",
    "# the input is a list of url, from which we want to extract the corresponding names of files\n",
    "def produce_name_list(url_list):\n",
    "    name_list=[] # create empty list\n",
    "    for file in url_list:\n",
    "        f_name = extract_name_file(file) # return the name of the file as a string, with the suffix '.nc'\n",
    "        name_list.append(f_name) # add extracted name in the list\n",
    "    return name_list # return the list of names in the url_list"
   ]
  },
  {
   "cell_type": "code",
   "execution_count": 4,
   "id": "81fbadcb",
   "metadata": {},
   "outputs": [],
   "source": [
    "# function download_file download the file in the url given as input\n",
    "# the input is an url of a file\n",
    "def download_file(file):\n",
    "    # find the name of the file\n",
    "    f_name = extract_name_file(file) # return the name of the file as a string, with the suffix '.nc' at the end of the name\n",
    "    # check if the file was already downloaded\n",
    "    #test = os.path.join('//COWI.net/projects/A245000/A248363/CRVA/Datasets/NEX-GDDP-CMIP6/',f_name+'.nc')\n",
    "    #if os.path.isfile(test): # if the file was aleready download\n",
    "        #continue # continue the for loop without executing the code after this line. The code follonwing download the file\n",
    "    #    return# if we entered the if, the file was already dowloaded, no need to downloaded it again\n",
    "    # the file was not downloaded, the following code will permit to download it in the servor for dataset\n",
    "    r = requests.get(file) # return the url were data need to be downloaded\n",
    "    # download data in the servor for datasets\n",
    "    with open(f'//COWI.net/projects/A245000/A248363/CRVA/Datasets/NEX-GDDP-CMIP6/{f_name}', 'wb') as f:\n",
    "        f.write(r.content)\n",
    "    return file\n",
    "#results = ThreadPool(NBCORES).imap_unordered(download_file, url_list_precipitation)\n",
    "#for r in results: #I don't understand why, ut without this step it does not work\n",
    "#     print(r)"
   ]
  },
  {
   "cell_type": "code",
   "execution_count": 5,
   "id": "ddaeb090",
   "metadata": {},
   "outputs": [
    {
     "data": {
      "text/plain": [
       "\"\\nfor file in url_list_precipitation: # for loop to download the file in each url\\n    # check if the file was already downloaded\\n    #test = os.path.join('//COWI.net/projects/A245000/A248363/CRVA/Datasets/NEX-GDDP-CMIP6/',f_name+'.nc')\\n    #if os.path.isfile(test): # if the file was aleready download\\n        #continue # continue the for loop without executing the code after this line. The code follonwing download the file\\n        # if we entered the if, the file was already dowloaded, no need to downloaded it again\\n    # the file was not downloaded, the following code will permit to download it in the servor for dataset\\n    download_file(file)\\n\""
      ]
     },
     "execution_count": 5,
     "metadata": {},
     "output_type": "execute_result"
    }
   ],
   "source": [
    "#### Former version of download_file function\n",
    "# download only precipitation files\n",
    "r'''\n",
    "for file in url_list_precipitation: # for loop to download the file in each url\n",
    "    # check if the file was already downloaded\n",
    "    #test = os.path.join('//COWI.net/projects/A245000/A248363/CRVA/Datasets/NEX-GDDP-CMIP6/',f_name+'.nc')\n",
    "    #if os.path.isfile(test): # if the file was aleready download\n",
    "        #continue # continue the for loop without executing the code after this line. The code follonwing download the file\n",
    "        # if we entered the if, the file was already dowloaded, no need to downloaded it again\n",
    "    # the file was not downloaded, the following code will permit to download it in the servor for dataset\n",
    "    download_file(file)\n",
    "'''"
   ]
  },
  {
   "cell_type": "code",
   "execution_count": 6,
   "id": "b3faafb0",
   "metadata": {},
   "outputs": [],
   "source": [
    "# function 'list_name_corrupted_file' aims to return a list of names, corresponding to the names of the corrupted files\n",
    "# in the name_list given as input\n",
    "def list_name_corrupted_file(name_list):\n",
    "    ## Hypothesis: some files are corrupted\n",
    "    # check if files are corrupted and count the corrupted ones\n",
    "    invalid_files = [] # create an empty list to register the names of the corrupted files\n",
    "    for name in name_list:\n",
    "        if not name.endswith('.nc'):\n",
    "            name = name + '.nc'\n",
    "        try:\n",
    "            path=os.path.join(out_path,name)\n",
    "            im = Dataset(path)\n",
    "        except (IOError, OSError):\n",
    "            # the files is corrupted\n",
    "            invalid_files.append(name) # register name of the corrupted files\n",
    "    return invalid_files # return the name with suffix '.nc' of corrupted files"
   ]
  },
  {
   "cell_type": "code",
   "execution_count": 7,
   "id": "58ad974d",
   "metadata": {},
   "outputs": [],
   "source": [
    "# list urls that should be downloaded again\n",
    "def url_to_download_again(url_list,invalid_files):\n",
    "    url_corrupted_file = []\n",
    "    for url in url_list:\n",
    "        f_name = extract_name_file(url) # return the name of the file as a string\n",
    "        if f_name in invalid_files:\n",
    "            url_corrupted_file.append(url)\n",
    "\n",
    "    dict ={' fileUrl':url_corrupted_file}\n",
    "    df = pd.DataFrame(dict)\n",
    "    path = os.path.join(out_path,'file_to_download_again.csv')\n",
    "    df.to_csv(path)\n",
    "    return url_corrupted_file"
   ]
  },
  {
   "cell_type": "code",
   "execution_count": 8,
   "id": "0e598389",
   "metadata": {},
   "outputs": [],
   "source": [
    "## those three function are used to have the information concerning a file\n",
    "## information are in the name of the file, so the name of the file is used to find its related information\n",
    "## information mean variable, time_aggregation, model, scenario, year of the file\n",
    "\n",
    "### this function permit to extract the word before the first character '_' in the input 'name'\n",
    "### the input name is in format str\n",
    "### returning the new_name, without the word found, will permit to re-use the function to find all \n",
    "#     the information concerning the studied file\n",
    "def name_next_boundary(name):\n",
    "    index_before_name=name.find('_') # returns the lowest index where the character '_' was found\n",
    "    word = name[0:index_before_name] # first word in the string 'name', before the first character '_'\n",
    "    new_name = name.replace(word+'_','') # delete the word found from the string 'name'\n",
    "    return word, new_name # return, in string format, the word found (which is an information of the studied file), \n",
    "                    # and the string 'new_name', which is 'name' without the word found\n",
    "\n",
    "# this function permit to extract the year of the studied file\n",
    "# the year is always writen at the end of the name's file\n",
    "# the input name is in format str\n",
    "def find_year(name):\n",
    "    index_before_name=name.rfind('_') # returns the highest index where the character '_' was found\n",
    "    # the last character '_' is just before the year in the string 'name'\n",
    "    # determine if the string 'name' ends with '.nc'\n",
    "    if name.endswith('.nc'):\n",
    "        # 'name' ends with '.nc'\n",
    "        name_end = 3 # the three last character of the string name will be removed to find the year of the studied file\n",
    "    else:\n",
    "        # 'name' does not end with '.nc'\n",
    "        name_end = 0 # no character will be removed at the end of 'name' to find the year of the studied file\n",
    "    year = name[index_before_name+1:len(name)-name_end] # the year is extracted from the name of the file studied\n",
    "    # based on the index_before_name (highest index where the character '_' was found) and the suffix of 'name'\n",
    "    return year # the year in string format is returned\n",
    "\n",
    "# This function use the functions 'name_next_boundary' and 'find_year' to extract the information of the file studied\n",
    "# the input name is in format str, the name of the file from which we want information\n",
    "def data_information(name):\n",
    "    #### use of the function 'name_next_boundary': each time it is used, \n",
    "    # returns an information, and the name of the studied file without this information\n",
    "    (variable, shorten_name) = name_next_boundary(name)\n",
    "    (time_aggregation, shorten_name) = name_next_boundary(shorten_name)\n",
    "    (model, shorten_name) = name_next_boundary(shorten_name)\n",
    "    (scenario, shorten_name) = name_next_boundary(shorten_name)\n",
    "    #### use the function 'find_year' to extract the information 'year' from the string 'shorten_name'\n",
    "    year = find_year(shorten_name)\n",
    "    # the function returns all the information of the studied file\n",
    "    return variable, time_aggregation, model, scenario, year"
   ]
  },
  {
   "cell_type": "markdown",
   "id": "32cfefa6",
   "metadata": {},
   "source": [
    "# Projects information"
   ]
  },
  {
   "cell_type": "code",
   "execution_count": 9,
   "id": "3943e0dd",
   "metadata": {},
   "outputs": [
    {
     "name": "stderr",
     "output_type": "stream",
     "text": [
      "C:\\Users\\CLMRX\\AppData\\Local\\Temp\\1\\ipykernel_41020\\555398840.py:1: UserWarning: Shapely 2.0 is installed, but because PyGEOS is also installed, GeoPandas will still use PyGEOS by default for now. To force to use and test Shapely 2.0, you have to set the environment variable USE_PYGEOS=0. You can do this before starting the Python process, or in your code before importing geopandas:\n",
      "\n",
      "import os\n",
      "os.environ['USE_PYGEOS'] = '0'\n",
      "import geopandas\n",
      "\n",
      "In a future release, GeoPandas will switch to using Shapely by default. If you are using PyGEOS directly (calling PyGEOS functions on geometries from GeoPandas), this will then stop working and you are encouraged to migrate from PyGEOS to Shapely 2.0 (https://shapely.readthedocs.io/en/latest/migration_pygeos.html).\n",
      "  import geopandas as gpd\n"
     ]
    },
    {
     "data": {
      "image/png": "[encoded data removed]",
      "text/plain": [
       "<Figure size 640x480 with 1 Axes>"
      ]
     },
     "metadata": {},
     "output_type": "display_data"
    },
    {
     "data": {
      "image/png": "[encoded data removed]",
      "text/plain": [
       "<Figure size 640x480 with 1 Axes>"
      ]
     },
     "metadata": {},
     "output_type": "display_data"
    },
    {
     "data": {
      "image/png": "[encoded data removed]",
      "text/plain": [
       "<Figure size 640x480 with 1 Axes>"
      ]
     },
     "metadata": {},
     "output_type": "display_data"
    }
   ],
   "source": [
    "import geopandas as gpd\n",
    "import os\n",
    "import os.path\n",
    "\n",
    "data_folder=r'\\\\COWI.net\\projects\\A245000\\A248363\\CRVA\\Datasets'\n",
    "project_location_path=os.path.join(data_folder,'Mozambique_PPIS/EIB_locations_few.shp')\n",
    "#study boundary (optional)\n",
    "study_area_path=os.path.join(data_folder,'Mozambique_PPIS/mozambique.shp')\n",
    "\n",
    "\n",
    "#projection CRS (default = 'EPSG:4326')\n",
    "bCRS='EPSG:4326'\n",
    "\n",
    "#buffer for climate/grid variables\n",
    "buffer=40000 #buffer in meters, 0 = no buffer is computed\n",
    "\n",
    "mCRS='EPSG:31983' #metric CRS for buffer in meters (find relevant metric CRS for location!)\n",
    "\n",
    "#load shapefiles\n",
    "projects = gpd.read_file(project_location_path).to_crs(bCRS)\n",
    "project_id='Name' #name of column used as id\n",
    "\n",
    "study_area = gpd.read_file(study_area_path).to_crs(bCRS)\n",
    "\n",
    "#calculate buffer around points/shape\n",
    "if buffer != 0:\n",
    "    projects_buf=projects.to_crs(mCRS)  #project to crs with metric units to get buffer in meters\n",
    "    projects_buf['geometry']=projects.to_crs(mCRS).buffer(buffer) #assign the buffer as the new geometry - \n",
    "    projects_buf=projects_buf.to_crs(bCRS)#project back to orginal crs\n",
    "\n",
    "    \n",
    "#plot shapefiles\n",
    "study_area.plot()\n",
    "projects.plot()\n",
    "projects_buf.plot() \n",
    "\n",
    "\n",
    "#show table\n",
    "projects[[project_id]]\n",
    "\n",
    "# register geographic information concerning projects\n",
    "lon_projects = projects['geometry'].x\n",
    "lat_projects = projects['geometry'].y\n",
    "buf_projects = 1\n",
    "area_projects = [lat_projects - buf_projects, lat_projects+buf_projects, lon_projects-buf_projects,lon_projects+buf_projects] # list format\n",
    "#### determination of the geographical zone of interest \n",
    "lat_min_wanted = min(study_area['LAT'])-10\n",
    "lat_max_wanted = max(study_area['LAT'])+10\n",
    "lon_min_wanted = min(study_area['LON'])-20\n",
    "lon_max_wanted = max(study_area['LON'])+20\n",
    "# addind and substracting to lon and lat to have margin\n",
    "# substracting more to longitude because the range of longitude is -180 to 180. The range of latitude is -90 to 90"
   ]
  },
  {
   "cell_type": "markdown",
   "id": "6d2e80bd",
   "metadata": {},
   "source": [
    "# Define Paths"
   ]
  },
  {
   "cell_type": "code",
   "execution_count": 10,
   "id": "dcdb42ed",
   "metadata": {},
   "outputs": [],
   "source": [
    "out_path=r'\\\\COWI.net\\projects\\A245000\\A248363\\CRVA\\Datasets\\NEX-GDDP-CMIP6'"
   ]
  },
  {
   "cell_type": "markdown",
   "id": "9aa548ce",
   "metadata": {},
   "source": [
    "# Infos for Multiprocessing"
   ]
  },
  {
   "cell_type": "code",
   "execution_count": 11,
   "id": "9c31a5b8",
   "metadata": {},
   "outputs": [
    {
     "data": {
      "text/plain": [
       "8"
      ]
     },
     "execution_count": 11,
     "metadata": {},
     "output_type": "execute_result"
    }
   ],
   "source": [
    "# count the number of CPU/cores\n",
    "mp.cpu_count()"
   ]
  },
  {
   "cell_type": "code",
   "execution_count": 12,
   "id": "b9829133",
   "metadata": {},
   "outputs": [],
   "source": [
    "NBCORES=5"
   ]
  },
  {
   "cell_type": "markdown",
   "id": "89eb488f",
   "metadata": {},
   "source": [
    "# Complete list of url with files to download"
   ]
  },
  {
   "cell_type": "code",
   "execution_count": 13,
   "id": "09add4c7",
   "metadata": {},
   "outputs": [],
   "source": [
    "# register information from csv file\n",
    "#all_urls = pd.read_csv(r'C:\\Users\\CLMRX\\OneDrive - COWI\\Documents\\GitHub\\CRVA_tool\\outputs\\NEX-GDDP-CMIP6\\gddp-cmip6-thredds-fileserver.csv')\n",
    "csv_path = os.path.join(out_path,'gddp-cmip6-thredds-fileserver.csv')\n",
    "all_urls = pd.read_csv(csv_path)"
   ]
  },
  {
   "cell_type": "code",
   "execution_count": 14,
   "id": "2e4f2839",
   "metadata": {},
   "outputs": [],
   "source": [
    "### make all elements of the csv into a readable list\n",
    "\n",
    "temp_list = all_urls[[' fileUrl']].T# transpose csv\n",
    "temp_list=temp_list.values.tolist()\n",
    "temp_list=temp_list[0]\n",
    "url_list=[s.replace(' ', '') for s in temp_list]"
   ]
  },
  {
   "cell_type": "markdown",
   "id": "3bb674bf",
   "metadata": {},
   "source": [
    "# Interest in precipitation files\n",
    "Define list of url and files' names corresponding to precipitation files between 2021 and 2060"
   ]
  },
  {
   "cell_type": "code",
   "execution_count": 15,
   "id": "9128938b",
   "metadata": {},
   "outputs": [],
   "source": [
    "## download only precipitation data\n",
    "# select only precipitation files, between 2040 and 2080\n",
    "url_list_precipitation = [url for url in url_list if 'pr_day_' in url and int(url[len(url)-7:len(url)-3])>2020 and int(url[len(url)-7:len(url)-3])<2061]"
   ]
  },
  {
   "cell_type": "code",
   "execution_count": null,
   "id": "d927414d",
   "metadata": {},
   "outputs": [],
   "source": [
    "len(url_list_precipitation)"
   ]
  },
  {
   "cell_type": "code",
   "execution_count": 16,
   "id": "69676d2a",
   "metadata": {},
   "outputs": [],
   "source": [
    "name_list_precipitation = produce_name_list(url_list_precipitation)"
   ]
  },
  {
   "cell_type": "code",
   "execution_count": null,
   "id": "25a834a5",
   "metadata": {},
   "outputs": [],
   "source": [
    "name_list_precipitation"
   ]
  },
  {
   "cell_type": "markdown",
   "id": "22c24713",
   "metadata": {},
   "source": [
    "# List of corrupted files to download again"
   ]
  },
  {
   "cell_type": "code",
   "execution_count": null,
   "id": "e691f289",
   "metadata": {},
   "outputs": [],
   "source": [
    "name_list_precipitation_corrupted = list_name_corrupted_file(name_list_precipitation)\n",
    "url_corrupted_file=url_to_download_again(url_list_precipitation,name_list_precipitation_corrupted)\n",
    "len(name_list_precipitation_corrupted)"
   ]
  },
  {
   "cell_type": "code",
   "execution_count": null,
   "id": "95ecedc1",
   "metadata": {},
   "outputs": [],
   "source": [
    "name_list_precipitation_corrupted"
   ]
  },
  {
   "cell_type": "markdown",
   "id": "abcb433f",
   "metadata": {},
   "source": [
    "# Download file of interest"
   ]
  },
  {
   "cell_type": "code",
   "execution_count": null,
   "id": "eb63d8c0",
   "metadata": {},
   "outputs": [],
   "source": [
    "# try download again corrupted files\n",
    "results = ThreadPool(NBCORES).imap_unordered(download_file, url_corrupted_file) \n",
    "# first input is the function, second input must be an iterable\n",
    "for r in results: #I don't understand why, without this step, it does not work\n",
    "     print(r)"
   ]
  },
  {
   "cell_type": "code",
   "execution_count": null,
   "id": "67cdc45d",
   "metadata": {},
   "outputs": [],
   "source": [
    "# same aim as cell before, but performing without ThreadPool\n",
    "for file in url_corrupted_file: # for loop to download the file in each url\n",
    "    # check if the file was already downloaded\n",
    "    #test = os.path.join('//COWI.net/projects/A245000/A248363/CRVA/Datasets/NEX-GDDP-CMIP6/',f_name+'.nc')\n",
    "    #if os.path.isfile(test): # if the file was aleready download\n",
    "        #continue # continue the for loop without executing the code after this line. The code follonwing download the file\n",
    "        # if we entered the if, the file was already dowloaded, no need to downloaded it again\n",
    "    # the file was not downloaded, the following code will permit to download it in the servor for dataset\n",
    "    download_file(file)"
   ]
  },
  {
   "cell_type": "code",
   "execution_count": null,
   "id": "a71522f8",
   "metadata": {},
   "outputs": [],
   "source": [
    "while len(url_corrupted_file) != 0: # while the list 'url_corrupted_file' is not empty, the following code will continue\n",
    "    for file in url_corrupted_file: # for loop to download the file in each url\n",
    "        download_file(file)\n",
    "    name_list_precipitation_corrupted = list_name_corrupted_file(name_list_precipitation)\n",
    "    url_corrupted_file=url_to_download_again(url_list_precipitation,name_list_precipitation_corrupted) "
   ]
  },
  {
   "cell_type": "markdown",
   "id": "7cf332f0",
   "metadata": {},
   "source": [
    "# Check if download files are corrupted or not"
   ]
  },
  {
   "cell_type": "code",
   "execution_count": null,
   "id": "bf4184bf",
   "metadata": {},
   "outputs": [],
   "source": [
    "name_list_precipitation_corrupted = list_name_corrupted_file(name_list_precipitation)\n",
    "url_corrupted_file=url_to_download_again(url_list_precipitation,name_list_precipitation_corrupted)\n",
    "len(name_list_precipitation_corrupted)"
   ]
  },
  {
   "cell_type": "code",
   "execution_count": null,
   "id": "9e3517b3",
   "metadata": {},
   "outputs": [],
   "source": [
    "name = 'pr_day_ACCESS-CM2_ssp585_r1i1p1f1_gn_2035.nc'\n",
    "path = r'\\\\COWI.net\\projects\\A245000\\A248363\\CRVA\\Datasets\\NEX-GDDP-CMIP6\\pr_day_ACCESS-CM2_ssp585_r1i1p1f1_gn_2035.nc'\n",
    "Dataset(path)"
   ]
  },
  {
   "cell_type": "markdown",
   "id": "7c34ecd4",
   "metadata": {},
   "source": [
    "###### Basics to read nc files"
   ]
  },
  {
   "cell_type": "code",
   "execution_count": null,
   "id": "673fbdd8",
   "metadata": {},
   "outputs": [],
   "source": [
    "## read data, _FillValue should be NaN\n",
    "solar_1950=Dataset(r'\\\\COWI.net\\projects\\A245000\\A248363\\CRVA\\Datasets\\NEX-GDDP-CMIP6\\hurs_day_ACCESS-CM2_historical_r1i1p1f1_gn_1950.nc')\n",
    "r'''\n",
    "hurs=solar_1950.variables['hurs']\n",
    "hurs\n",
    "hurs._FillValue\n",
    "solar_dataframe = np.ma.getdata(solar_1950.variables['hurs']).data\n",
    "solar_dataframe\n",
    "len(solar_dataframe[solar_dataframe!=1.e+20])\n",
    "len(solar_dataframe[solar_dataframe==1.e+20])\n",
    "type(solar_dataframe)\n",
    "solar_dataframe.size\n",
    "solar_dataframe.size-len(solar_dataframe[solar_dataframe!=1.e+20])-len(solar_dataframe[solar_dataframe==1.e+20])\n",
    "'''"
   ]
  },
  {
   "cell_type": "code",
   "execution_count": null,
   "id": "7aa4149d",
   "metadata": {},
   "outputs": [],
   "source": [
    "solar_dataframe=np.ma.getdata(pr_2052.variables['pr']).data\n",
    "len(solar_dataframe[solar_dataframe!=1.e+20])"
   ]
  },
  {
   "cell_type": "code",
   "execution_count": null,
   "id": "09cd2342",
   "metadata": {},
   "outputs": [],
   "source": [
    "len(solar_dataframe[solar_dataframe==1.e+20])"
   ]
  },
  {
   "cell_type": "markdown",
   "id": "de90440d",
   "metadata": {},
   "source": [
    "# Produce csv files with data to use"
   ]
  },
  {
   "cell_type": "code",
   "execution_count": null,
   "id": "65c4fc7e",
   "metadata": {},
   "outputs": [],
   "source": [
    "name=non_corrupted_file_pr[0]\n",
    "name.replace('.nc','')\n",
    "(variable, time_aggregation, model, scenario, year) = data_information(name)"
   ]
  },
  {
   "cell_type": "code",
   "execution_count": null,
   "id": "5f8bd17f",
   "metadata": {},
   "outputs": [],
   "source": [
    "variable"
   ]
  },
  {
   "cell_type": "code",
   "execution_count": null,
   "id": "c04fab56",
   "metadata": {},
   "outputs": [],
   "source": [
    "year"
   ]
  },
  {
   "cell_type": "code",
   "execution_count": null,
   "id": "a1ab0699",
   "metadata": {},
   "outputs": [],
   "source": [
    "name"
   ]
  },
  {
   "cell_type": "code",
   "execution_count": null,
   "id": "79b1dc78",
   "metadata": {},
   "outputs": [],
   "source": [
    "[area_projects[0][0],area_projects[1][0],area_projects[2][0],area_projects[3][0]]"
   ]
  },
  {
   "cell_type": "code",
   "execution_count": null,
   "id": "578081c3",
   "metadata": {},
   "outputs": [],
   "source": [
    "from FunctionsAndClass import register_data\n",
    "from FunctionsAndClass import dataframe_copernicus"
   ]
  },
  {
   "cell_type": "code",
   "execution_count": 17,
   "id": "1189dd3c",
   "metadata": {},
   "outputs": [
    {
     "data": {
      "image/png": "[encoded data removed]",
      "text/plain": [
       "<Figure size 640x480 with 1 Axes>"
      ]
     },
     "metadata": {},
     "output_type": "display_data"
    },
    {
     "data": {
      "image/png": "[encoded data removed]",
      "text/plain": [
       "<Figure size 640x480 with 2 Axes>"
      ]
     },
     "metadata": {},
     "output_type": "display_data"
    }
   ],
   "source": [
    "from FunctionsAndClass import year_copernicus"
   ]
  },
  {
   "cell_type": "code",
   "execution_count": 18,
   "id": "a60acef5",
   "metadata": {},
   "outputs": [],
   "source": [
    "(year, year_str, index_dates) = year_copernicus(2021,2060)"
   ]
  },
  {
   "cell_type": "code",
   "execution_count": null,
   "id": "ef83940e",
   "metadata": {},
   "outputs": [],
   "source": []
  },
  {
   "cell_type": "code",
   "execution_count": 19,
   "id": "ecf495b5",
   "metadata": {},
   "outputs": [],
   "source": [
    "variables= []\n",
    "time_aggregations= []\n",
    "models= []\n",
    "scenarios= []\n",
    "for file_name in name_list_precipitation:\n",
    "    (variable, time_aggregation, model, scenario, year) = data_information(file_name) \n",
    "    # use function data_information to find information concerning the file_name\n",
    "    if variable not in variables:\n",
    "        variables.append(variable)\n",
    "    if time_aggregation not in time_aggregations:\n",
    "        time_aggregations.append(time_aggregation)\n",
    "    if model not in models:\n",
    "        models.append(model)\n",
    "    if scenario not in scenarios:\n",
    "        scenarios.append(scenario)\n",
    "title_file = variable +'_'+year_str[0] +'_'+year_str[len(year_str)-1]\n",
    "name_variable = 'pr_day'"
   ]
  },
  {
   "cell_type": "code",
   "execution_count": null,
   "id": "1b0b4407",
   "metadata": {},
   "outputs": [],
   "source": [
    "scenarios"
   ]
  },
  {
   "cell_type": "code",
   "execution_count": 45,
   "id": "0ace9bed",
   "metadata": {},
   "outputs": [],
   "source": [
    "path1 = os.path.join(out_path,name_found[0])\n",
    "Dataset(path1).variables\n",
    "from FileManagement import get_data_nc\n",
    "precipitation = get_data_nc(path1,'pr')\n",
    "lat = get_data_nc(path1,'lat')\n",
    "lon = get_data_nc(path1,'lon')"
   ]
  },
  {
   "cell_type": "code",
   "execution_count": 59,
   "id": "3c4132b7",
   "metadata": {},
   "outputs": [
    {
     "data": {
      "text/plain": [
       "numpy.ndarray"
      ]
     },
     "execution_count": 59,
     "metadata": {},
     "output_type": "execute_result"
    }
   ],
   "source": [
    "type(lat)"
   ]
  },
  {
   "cell_type": "code",
   "execution_count": 71,
   "id": "e41c29ad",
   "metadata": {},
   "outputs": [],
   "source": [
    "lat_project =[latitude for latitude in lat if latitude > area_projects[0][0] and latitude < area_projects[1][0]]"
   ]
  },
  {
   "cell_type": "code",
   "execution_count": 80,
   "id": "08b72eb3",
   "metadata": {},
   "outputs": [
    {
     "name": "stdout",
     "output_type": "stream",
     "text": [
      "-16.875\n",
      "-16.625\n",
      "-16.375\n",
      "-16.125\n",
      "-15.875\n",
      "-15.625\n",
      "-15.375\n",
      "-15.125\n"
     ]
    }
   ],
   "source": [
    "index_lat_project =[]\n",
    "for lat_p in lat_project:\n",
    "    print(lat_p)\n",
    "    index_lat_project.append(np.where(lat == lat_p)[0][0])"
   ]
  },
  {
   "cell_type": "code",
   "execution_count": 81,
   "id": "52369dd9",
   "metadata": {},
   "outputs": [
    {
     "data": {
      "text/plain": [
       "[172, 173, 174, 175, 176, 177, 178, 179]"
      ]
     },
     "execution_count": 81,
     "metadata": {},
     "output_type": "execute_result"
    }
   ],
   "source": [
    "index_lat_project"
   ]
  },
  {
   "cell_type": "code",
   "execution_count": 88,
   "id": "6c55c310",
   "metadata": {},
   "outputs": [
    {
     "data": {
      "text/plain": [
       "315360000"
      ]
     },
     "execution_count": 88,
     "metadata": {},
     "output_type": "execute_result"
    }
   ],
   "source": [
    "precipitation.size"
   ]
  },
  {
   "cell_type": "code",
   "execution_count": 89,
   "id": "51347a2e",
   "metadata": {},
   "outputs": [
    {
     "data": {
      "text/plain": [
       "4204800"
      ]
     },
     "execution_count": 89,
     "metadata": {},
     "output_type": "execute_result"
    }
   ],
   "source": [
    "precipitation[:,index_lat_project,:].size"
   ]
  },
  {
   "cell_type": "code",
   "execution_count": 76,
   "id": "35f5a564",
   "metadata": {},
   "outputs": [
    {
     "data": {
      "text/plain": [
       "array([-59.875, -59.625, -59.375, -59.125, -58.875, -58.625, -58.375,\n",
       "       -58.125, -57.875, -57.625, -57.375, -57.125, -56.875, -56.625,\n",
       "       -56.375, -56.125, -55.875, -55.625, -55.375, -55.125, -54.875,\n",
       "       -54.625, -54.375, -54.125, -53.875, -53.625, -53.375, -53.125,\n",
       "       -52.875, -52.625, -52.375, -52.125, -51.875, -51.625, -51.375,\n",
       "       -51.125, -50.875, -50.625, -50.375, -50.125, -49.875, -49.625,\n",
       "       -49.375, -49.125, -48.875, -48.625, -48.375, -48.125, -47.875,\n",
       "       -47.625, -47.375, -47.125, -46.875, -46.625, -46.375, -46.125,\n",
       "       -45.875, -45.625, -45.375, -45.125, -44.875, -44.625, -44.375,\n",
       "       -44.125, -43.875, -43.625, -43.375, -43.125, -42.875, -42.625,\n",
       "       -42.375, -42.125, -41.875, -41.625, -41.375, -41.125, -40.875,\n",
       "       -40.625, -40.375, -40.125, -39.875, -39.625, -39.375, -39.125,\n",
       "       -38.875, -38.625, -38.375, -38.125, -37.875, -37.625, -37.375,\n",
       "       -37.125, -36.875, -36.625, -36.375, -36.125, -35.875, -35.625,\n",
       "       -35.375, -35.125, -34.875, -34.625, -34.375, -34.125, -33.875,\n",
       "       -33.625, -33.375, -33.125, -32.875, -32.625, -32.375, -32.125,\n",
       "       -31.875, -31.625, -31.375, -31.125, -30.875, -30.625, -30.375,\n",
       "       -30.125, -29.875, -29.625, -29.375, -29.125, -28.875, -28.625,\n",
       "       -28.375, -28.125, -27.875, -27.625, -27.375, -27.125, -26.875,\n",
       "       -26.625, -26.375, -26.125, -25.875, -25.625, -25.375, -25.125,\n",
       "       -24.875, -24.625, -24.375, -24.125, -23.875, -23.625, -23.375,\n",
       "       -23.125, -22.875, -22.625, -22.375, -22.125, -21.875, -21.625,\n",
       "       -21.375, -21.125, -20.875, -20.625, -20.375, -20.125, -19.875,\n",
       "       -19.625, -19.375, -19.125, -18.875, -18.625, -18.375, -18.125,\n",
       "       -17.875, -17.625, -17.375, -17.125, -16.875, -16.625, -16.375,\n",
       "       -16.125, -15.875, -15.625, -15.375, -15.125, -14.875, -14.625,\n",
       "       -14.375, -14.125, -13.875, -13.625, -13.375, -13.125, -12.875,\n",
       "       -12.625, -12.375, -12.125, -11.875, -11.625, -11.375, -11.125,\n",
       "       -10.875, -10.625, -10.375, -10.125,  -9.875,  -9.625,  -9.375,\n",
       "        -9.125,  -8.875,  -8.625,  -8.375,  -8.125,  -7.875,  -7.625,\n",
       "        -7.375,  -7.125,  -6.875,  -6.625,  -6.375,  -6.125,  -5.875,\n",
       "        -5.625,  -5.375,  -5.125,  -4.875,  -4.625,  -4.375,  -4.125,\n",
       "        -3.875,  -3.625,  -3.375,  -3.125,  -2.875,  -2.625,  -2.375,\n",
       "        -2.125,  -1.875,  -1.625,  -1.375,  -1.125,  -0.875,  -0.625,\n",
       "        -0.375,  -0.125,   0.125,   0.375,   0.625,   0.875,   1.125,\n",
       "         1.375,   1.625,   1.875,   2.125,   2.375,   2.625,   2.875,\n",
       "         3.125,   3.375,   3.625,   3.875,   4.125,   4.375,   4.625,\n",
       "         4.875,   5.125,   5.375,   5.625,   5.875,   6.125,   6.375,\n",
       "         6.625,   6.875,   7.125,   7.375,   7.625,   7.875,   8.125,\n",
       "         8.375,   8.625,   8.875,   9.125,   9.375,   9.625,   9.875,\n",
       "        10.125,  10.375,  10.625,  10.875,  11.125,  11.375,  11.625,\n",
       "        11.875,  12.125,  12.375,  12.625,  12.875,  13.125,  13.375,\n",
       "        13.625,  13.875,  14.125,  14.375,  14.625,  14.875,  15.125,\n",
       "        15.375,  15.625,  15.875,  16.125,  16.375,  16.625,  16.875,\n",
       "        17.125,  17.375,  17.625,  17.875,  18.125,  18.375,  18.625,\n",
       "        18.875,  19.125,  19.375,  19.625,  19.875,  20.125,  20.375,\n",
       "        20.625,  20.875,  21.125,  21.375,  21.625,  21.875,  22.125,\n",
       "        22.375,  22.625,  22.875,  23.125,  23.375,  23.625,  23.875,\n",
       "        24.125,  24.375,  24.625,  24.875,  25.125,  25.375,  25.625,\n",
       "        25.875,  26.125,  26.375,  26.625,  26.875,  27.125,  27.375,\n",
       "        27.625,  27.875,  28.125,  28.375,  28.625,  28.875,  29.125,\n",
       "        29.375,  29.625,  29.875,  30.125,  30.375,  30.625,  30.875,\n",
       "        31.125,  31.375,  31.625,  31.875,  32.125,  32.375,  32.625,\n",
       "        32.875,  33.125,  33.375,  33.625,  33.875,  34.125,  34.375,\n",
       "        34.625,  34.875,  35.125,  35.375,  35.625,  35.875,  36.125,\n",
       "        36.375,  36.625,  36.875,  37.125,  37.375,  37.625,  37.875,\n",
       "        38.125,  38.375,  38.625,  38.875,  39.125,  39.375,  39.625,\n",
       "        39.875,  40.125,  40.375,  40.625,  40.875,  41.125,  41.375,\n",
       "        41.625,  41.875,  42.125,  42.375,  42.625,  42.875,  43.125,\n",
       "        43.375,  43.625,  43.875,  44.125,  44.375,  44.625,  44.875,\n",
       "        45.125,  45.375,  45.625,  45.875,  46.125,  46.375,  46.625,\n",
       "        46.875,  47.125,  47.375,  47.625,  47.875,  48.125,  48.375,\n",
       "        48.625,  48.875,  49.125,  49.375,  49.625,  49.875,  50.125,\n",
       "        50.375,  50.625,  50.875,  51.125,  51.375,  51.625,  51.875,\n",
       "        52.125,  52.375,  52.625,  52.875,  53.125,  53.375,  53.625,\n",
       "        53.875,  54.125,  54.375,  54.625,  54.875,  55.125,  55.375,\n",
       "        55.625,  55.875,  56.125,  56.375,  56.625,  56.875,  57.125,\n",
       "        57.375,  57.625,  57.875,  58.125,  58.375,  58.625,  58.875,\n",
       "        59.125,  59.375,  59.625,  59.875,  60.125,  60.375,  60.625,\n",
       "        60.875,  61.125,  61.375,  61.625,  61.875,  62.125,  62.375,\n",
       "        62.625,  62.875,  63.125,  63.375,  63.625,  63.875,  64.125,\n",
       "        64.375,  64.625,  64.875,  65.125,  65.375,  65.625,  65.875,\n",
       "        66.125,  66.375,  66.625,  66.875,  67.125,  67.375,  67.625,\n",
       "        67.875,  68.125,  68.375,  68.625,  68.875,  69.125,  69.375,\n",
       "        69.625,  69.875,  70.125,  70.375,  70.625,  70.875,  71.125,\n",
       "        71.375,  71.625,  71.875,  72.125,  72.375,  72.625,  72.875,\n",
       "        73.125,  73.375,  73.625,  73.875,  74.125,  74.375,  74.625,\n",
       "        74.875,  75.125,  75.375,  75.625,  75.875,  76.125,  76.375,\n",
       "        76.625,  76.875,  77.125,  77.375,  77.625,  77.875,  78.125,\n",
       "        78.375,  78.625,  78.875,  79.125,  79.375,  79.625,  79.875,\n",
       "        80.125,  80.375,  80.625,  80.875,  81.125,  81.375,  81.625,\n",
       "        81.875,  82.125,  82.375,  82.625,  82.875,  83.125,  83.375,\n",
       "        83.625,  83.875,  84.125,  84.375,  84.625,  84.875,  85.125,\n",
       "        85.375,  85.625,  85.875,  86.125,  86.375,  86.625,  86.875,\n",
       "        87.125,  87.375,  87.625,  87.875,  88.125,  88.375,  88.625,\n",
       "        88.875,  89.125,  89.375,  89.625,  89.875])"
      ]
     },
     "execution_count": 76,
     "metadata": {},
     "output_type": "execute_result"
    }
   ],
   "source": [
    "lat"
   ]
  },
  {
   "cell_type": "code",
   "execution_count": null,
   "id": "d91c3a25",
   "metadata": {},
   "outputs": [],
   "source": [
    "lat_project =[np.where(latitude) for latitude in lat if latitude > area_projects[0][0] and latitude < area_projects[1][0]]"
   ]
  },
  {
   "cell_type": "code",
   "execution_count": 62,
   "id": "47388fba",
   "metadata": {},
   "outputs": [
    {
     "data": {
      "text/plain": [
       "(array([], dtype=int64),)"
      ]
     },
     "execution_count": 62,
     "metadata": {},
     "output_type": "execute_result"
    }
   ],
   "source": [
    "np.where(lat==lat_project)"
   ]
  },
  {
   "cell_type": "code",
   "execution_count": 52,
   "id": "9b87f7fd",
   "metadata": {},
   "outputs": [
    {
     "ename": "IndexError",
     "evalue": "only integers, slices (`:`), ellipsis (`...`), and 1-d integer or boolean arrays are valid indices",
     "output_type": "error",
     "traceback": [
      "\u001b[1;31m---------------------------------------------------------------------------\u001b[0m",
      "\u001b[1;31mTypeError\u001b[0m                                 Traceback (most recent call last)",
      "File \u001b[1;32m~\\AppData\\Local\\miniconda3\\envs\\geodata\\lib\\site-packages\\netCDF4\\utils.py:289\u001b[0m, in \u001b[0;36m_StartCountStride\u001b[1;34m(elem, shape, dimensions, grp, datashape, put, use_get_vars)\u001b[0m\n\u001b[0;32m    288\u001b[0m \u001b[38;5;28;01mtry\u001b[39;00m:\n\u001b[1;32m--> 289\u001b[0m     e \u001b[38;5;241m=\u001b[39m \u001b[38;5;28;43mint\u001b[39;49m\u001b[43m(\u001b[49m\u001b[43me\u001b[49m\u001b[43m)\u001b[49m\n\u001b[0;32m    290\u001b[0m     newElem\u001b[38;5;241m.\u001b[39mappend(e)\n",
      "\u001b[1;31mTypeError\u001b[0m: int() argument must be a string, a bytes-like object or a real number, not 'list'",
      "\nDuring handling of the above exception, another exception occurred:\n",
      "\u001b[1;31mIndexError\u001b[0m                                Traceback (most recent call last)",
      "Cell \u001b[1;32mIn[52], line 2\u001b[0m\n\u001b[0;32m      1\u001b[0m prec\u001b[38;5;241m=\u001b[39mDataset(path1)\u001b[38;5;241m.\u001b[39mvariables[\u001b[38;5;124m'\u001b[39m\u001b[38;5;124mpr\u001b[39m\u001b[38;5;124m'\u001b[39m]\n\u001b[1;32m----> 2\u001b[0m \u001b[43mprec\u001b[49m\u001b[43m[\u001b[49m\u001b[43m:\u001b[49m\u001b[43m,\u001b[49m\u001b[43mlat_project\u001b[49m\u001b[43m,\u001b[49m\u001b[43m:\u001b[49m\u001b[43m]\u001b[49m\n",
      "File \u001b[1;32msrc\\netCDF4\\_netCDF4.pyx:4943\u001b[0m, in \u001b[0;36mnetCDF4._netCDF4.Variable.__getitem__\u001b[1;34m()\u001b[0m\n",
      "File \u001b[1;32m~\\AppData\\Local\\miniconda3\\envs\\geodata\\lib\\site-packages\\netCDF4\\utils.py:292\u001b[0m, in \u001b[0;36m_StartCountStride\u001b[1;34m(elem, shape, dimensions, grp, datashape, put, use_get_vars)\u001b[0m\n\u001b[0;32m    290\u001b[0m         newElem\u001b[38;5;241m.\u001b[39mappend(e)\n\u001b[0;32m    291\u001b[0m     \u001b[38;5;28;01mexcept\u001b[39;00m:\n\u001b[1;32m--> 292\u001b[0m         \u001b[38;5;28;01mraise\u001b[39;00m \u001b[38;5;167;01mIndexError\u001b[39;00m(IndexErrorMsg)\n\u001b[0;32m    293\u001b[0m \u001b[38;5;28;01mif\u001b[39;00m \u001b[38;5;28mtype\u001b[39m(e)\u001b[38;5;241m==\u001b[39m\u001b[38;5;28mtype\u001b[39m(\u001b[38;5;28mEllipsis\u001b[39m):\n\u001b[0;32m    294\u001b[0m     i\u001b[38;5;241m+\u001b[39m\u001b[38;5;241m=\u001b[39m\u001b[38;5;241m1\u001b[39m\u001b[38;5;241m+\u001b[39mnDims\u001b[38;5;241m-\u001b[39m\u001b[38;5;28mlen\u001b[39m(elem)\n",
      "\u001b[1;31mIndexError\u001b[0m: only integers, slices (`:`), ellipsis (`...`), and 1-d integer or boolean arrays are valid indices"
     ]
    }
   ],
   "source": [
    "prec=Dataset(path1).variables['pr']\n",
    "prec[:,lat_project,:]"
   ]
  },
  {
   "cell_type": "code",
   "execution_count": null,
   "id": "f61ac6f2",
   "metadata": {},
   "outputs": [],
   "source": [
    "# make one csv file for each projects\n",
    "# create a new file name each time\n",
    "for i in np.arange(0,len(projects['Name'])):\n",
    "    title_file = projects['Name'][i]+'2021-2060'\n",
    "    create_dataframe('daily',year_str,scenarios,models,out_path, name_variable, projects['Name'][i],area_projects,'2021-2060',index_dates,dates,title_file):    "
   ]
  },
  {
   "cell_type": "code",
   "execution_count": 44,
   "id": "da617215",
   "metadata": {},
   "outputs": [
    {
     "data": {
      "text/plain": [
       "array([0, 1, 2, 3, 4, 5, 6])"
      ]
     },
     "execution_count": 44,
     "metadata": {},
     "output_type": "execute_result"
    }
   ],
   "source": [
    "np.arange(0,len(projects['Name']))"
   ]
  },
  {
   "cell_type": "code",
   "execution_count": 36,
   "id": "8f896f70",
   "metadata": {},
   "outputs": [],
   "source": [
    "# the dataframe_copernicus functions aims to test if the data with the specific parameters exists (with copernicus_data)\n",
    "# and then produce a csv file if the data exists\n",
    "\n",
    "def create_dataframe(temporal_resolution,year_str,experiments,models,out_path, name_variable, name_project,area,period,index_dates,dates,title_file):    \n",
    "    path_for_csv = os.path.join(out_path,'csv_file',name_variable+period)\n",
    "    df = pd.DataFrame() # create an empty dataframe\n",
    "    for year in year_str:\n",
    "        for SSP in experiments:\n",
    "            experiment = (SSP,) # create tuple for iteration of dataframe\n",
    "            print('Test with scenario '+SSP)\n",
    "            for model_simulation in models:\n",
    "                model =(model_simulation,) # create tuple for iteration of dataframe\n",
    "                print('Test with model '+model_simulation)\n",
    "                # path were the futur downloaded file is registered\n",
    "                #path_for_file= os.path.join(out_path,'Datasets','NEX-GDDP-CMIP6',name_variable,name_project,SSP,model_simulation,period)\n",
    "                # existence of path_for_file tested in copernicus function\n",
    "                # climate_variable_path=copernicus_data(temporal_resolution,SSP,name_variable,model_simulation,year_str,area,path_for_file,out_path,name_project,source)\n",
    "                climate_variable_path = find_path_file(out_path,url_list,variable,model,scenario,int(year))\n",
    "                # area is determined in the \"Load shapefiles and plot\" part\n",
    "                if (climate_variable_path is not None):\n",
    "                    # register data concerning each project under the form of a csv, with the model, scenario, period, latitude and longitude\n",
    "                    df=register_data(climate_variable_path,name_project,index_dates,dates,experiment,model,df)\n",
    "                    print('\\nValue were found for the period and the project tested\\n')\n",
    "                else:\n",
    "                    print('\\nNo value were found for the period and the project tested\\n')\n",
    "                    continue # do the next for loop\n",
    "        # test if dataframe is empty, if values exist for this period\n",
    "    if not df.empty: # if dataframe is not empty, value were registered, the first part is run : a path to register the csv file is created, and the dataframe is registered in a csv file\n",
    "        full_name = os.path.join(path_for_csv,title_file)\n",
    "        print(full_name)\n",
    "        df.to_csv(full_name) # register dataframe in csv file\n",
    "        return #df,period \n",
    "    else: # if the dataframe is empty, no value were found, there is no value to register or to return\n",
    "        #os.remove(path_for_file)# remove path\n",
    "        return #df,period# there is no dataframe to return"
   ]
  },
  {
   "cell_type": "code",
   "execution_count": null,
   "id": "2c60b641",
   "metadata": {},
   "outputs": [],
   "source": [
    "# register data concerning each project under the form of a csv, with the model, scenario, period, latitude and longitude\n",
    "def register_data(climate_variable_path,name_project,index_dates,dates,experiment,model,df):\n",
    "    print('Registering the data in a dataframe')\n",
    "    Open_path = Dataset(climate_variable_path) # open netcdf file\n",
    "    lat_dataframe = np.ma.getdata(Open_path.variables['lat']).data\n",
    "    lon_dataframe = np.ma.getdata(Open_path.variables['lon']).data\n",
    "    column_name = find_column_name(Open_path)\n",
    "    data_with_all = ma.getdata(Open_path.variables[column_name]).data\n",
    "\n",
    "    for moment in index_dates: # case if temporal resolution is daily\n",
    "        data_dataframe = data_with_all[moment,:,:]\n",
    "        Date = (dates[moment],) # create tuple for iteration of dataframe\n",
    "        Name_Project = (name_project,)\n",
    "\n",
    "        # Create the MultiIndex\n",
    "        midx = pd.MultiIndex.from_product([Name_Project,experiment, model, Date, lat_dataframe],names=['Name project','Experiment', 'Model', 'Date', 'Latitude'])\n",
    "        # multiindex to name the columns\n",
    "        lon_str = ('Longitude',)\n",
    "        cols = pd.MultiIndex.from_product([lon_str,lon_dataframe])\n",
    "        # Create the Dataframe\n",
    "        Variable_dataframe = pd.DataFrame(data = data_dataframe, \n",
    "                                    index = midx,\n",
    "                                    columns = cols)\n",
    "        # Concatenate former and new dataframe\n",
    "        df = pd.concat([df,Variable_dataframe])# register information for project\n",
    "\n",
    "    Open_path.close # to spare memory\n",
    "    return df"
   ]
  }
 ],
 "metadata": {
  "kernelspec": {
   "display_name": "Python 3 (ipykernel)",
   "language": "python",
   "name": "python3"
  },
  "language_info": {
   "codemirror_mode": {
    "name": "ipython",
    "version": 3
   },
   "file_extension": ".py",
   "mimetype": "text/x-python",
   "name": "python",
   "nbconvert_exporter": "python",
   "pygments_lexer": "ipython3",
   "version": "3.10.6"
  }
 },
 "nbformat": 4,
 "nbformat_minor": 5
}
