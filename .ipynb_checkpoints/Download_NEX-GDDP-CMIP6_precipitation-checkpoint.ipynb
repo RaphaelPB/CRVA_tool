{
 "cells": [
  {
   "cell_type": "markdown",
   "id": "dbcbb322",
   "metadata": {},
   "source": [
    "# Import Packages"
   ]
  },
  {
   "cell_type": "code",
   "execution_count": null,
   "id": "1f277db0",
   "metadata": {},
   "outputs": [],
   "source": [
    "import requests\n",
    "import pandas as pd\n",
    "\n",
    "import os\n",
    "import os.path\n",
    "\n",
    "from netCDF4 import Dataset\n",
    "\n",
    "import numpy as np\n",
    "import numpy.ma as ma\n",
    "\n",
    "import multiprocessing as mp# to download several file in parrallel\n",
    "from multiprocessing.pool import ThreadPool"
   ]
  },
  {
   "cell_type": "markdown",
   "id": "6a8847fc",
   "metadata": {},
   "source": [
    "# Define Functions"
   ]
  },
  {
   "cell_type": "code",
   "execution_count": null,
   "id": "aeddbf1a",
   "metadata": {},
   "outputs": [],
   "source": [
    "# function to display a map\n",
    "def Display_map(lat,lon,lat_min_wanted,lat_max_wanted,lon_min_wanted,lon_max_wanted,data,title_png,title_to_adapt,label,parallels,meridians):#,projects):\n",
    "\n",
    "    lon_moz, lat_moz = np.meshgrid(lon, lat) # this is necessary to have a map\n",
    "    \n",
    "    # create Map\n",
    "    fig = plt.figure()\n",
    "    plt.title(title_to_adapt) # title of the map # automatized with year\n",
    "    map = Basemap(projection ='merc',llcrnrlon=lon_min_wanted+5,llcrnrlat=lat_min_wanted+2,urcrnrlon=lon_max_wanted-5,urcrnrlat=lat_max_wanted-2,resolution='i', epsg = 4326) # projection, lat/lon extents an\n",
    "    # adding and substracting a quantity to the lon and lat to have a bit of margin when presenting it\n",
    "    # substracting more to longitude because the range of longitude is -180 to 180. The range of latitude is -90 to 90\n",
    "    map.drawcountries()\n",
    "    map.drawcoastlines()\n",
    "    map.drawparallels(parallels,labels=[1,0,0,0],fontsize=10)\n",
    "    map.drawmeridians(meridians,labels=[0,0,0,1],fontsize=10)\n",
    "\n",
    "    temp = map.contourf(lon_moz,lat_moz,data)\n",
    "    #projects.plot(ax=ax) # project in projection EPSG:4326\n",
    "    cb = map.colorbar(temp,\"right\", size=\"5%\", pad=\"2%\") # color scale, second parameter can be locationNone or {'left', 'right', 'top', 'bottom'}\n",
    "    cb.set_label(label) # name for color scale\n",
    "    plt.savefig(os.path.join(out_path,'figures',title_png),format ='png') # savefig or save text must be before plt.show. for savefig, format should be explicity written\n",
    "    plt.show()"
   ]
  },
  {
   "cell_type": "code",
   "execution_count": null,
   "id": "a8bea1a2",
   "metadata": {},
   "outputs": [],
   "source": [
    "# function to extract the name of the file from its url\n",
    "# the imput is an url\n",
    "def extract_name_file(url):\n",
    "    index_before_name=url.rfind('/') # returns the highest index where the last character '/' was found, which is just before the name of the file    \n",
    "    name = url[index_before_name+1:len(url)] # return the name of the file as a string, with the suffix '.nc'\n",
    "    return name\n",
    "\n",
    "# function 'produce_name_list' produce a list of files' name, with the suffix '.nc'\n",
    "# 'produce_name_list' use the function 'extract_name_file' to have the name of a file from its url\n",
    "# the input is a list of url, from which we want to extract the corresponding names of files\n",
    "def produce_name_list(url_list):\n",
    "    name_list=[] # create empty list\n",
    "    for file in url_list:\n",
    "        f_name = extract_name_file(file) # return the name of the file as a string, with the suffix '.nc'\n",
    "        name_list.append(f_name) # add extracted name in the list\n",
    "    return name_list # return the list of names in the url_list"
   ]
  },
  {
   "cell_type": "code",
   "execution_count": null,
   "id": "81fbadcb",
   "metadata": {},
   "outputs": [],
   "source": [
    "# function download_file download the file in the url given as input\n",
    "# the input is an url of a file\n",
    "def download_file(file):\n",
    "    # find the name of the file\n",
    "    f_name = extract_name_file(file) # return the name of the file as a string, with the suffix '.nc' at the end of the name\n",
    "    # check if the file was already downloaded\n",
    "    #test = os.path.join('//COWI.net/projects/A245000/A248363/CRVA/Datasets/NEX-GDDP-CMIP6/',f_name+'.nc')\n",
    "    #if os.path.isfile(test): # if the file was aleready download\n",
    "        #continue # continue the for loop without executing the code after this line. The code follonwing download the file\n",
    "    #    return# if we entered the if, the file was already dowloaded, no need to downloaded it again\n",
    "    # the file was not downloaded, the following code will permit to download it in the servor for dataset\n",
    "    r = requests.get(file) # return the url were data need to be downloaded\n",
    "    # download data in the servor for datasets\n",
    "    with open(f'//COWI.net/projects/A245000/A248363/CRVA/Datasets/NEX-GDDP-CMIP6/{f_name}', 'wb') as f:\n",
    "        f.write(r.content)\n",
    "    return file\n",
    "#results = ThreadPool(NBCORES).imap_unordered(download_file, url_list_precipitation)\n",
    "#for r in results: #I don't understand why, ut without this step it does not work\n",
    "#     print(r)"
   ]
  },
  {
   "cell_type": "code",
   "execution_count": null,
   "id": "ddaeb090",
   "metadata": {},
   "outputs": [],
   "source": [
    "#### Former version of download_file function\n",
    "# download only precipitation files\n",
    "r'''\n",
    "for file in url_list_precipitation: # for loop to download the file in each url\n",
    "    # check if the file was already downloaded\n",
    "    #test = os.path.join('//COWI.net/projects/A245000/A248363/CRVA/Datasets/NEX-GDDP-CMIP6/',f_name+'.nc')\n",
    "    #if os.path.isfile(test): # if the file was aleready download\n",
    "        #continue # continue the for loop without executing the code after this line. The code follonwing download the file\n",
    "        # if we entered the if, the file was already dowloaded, no need to downloaded it again\n",
    "    # the file was not downloaded, the following code will permit to download it in the servor for dataset\n",
    "    download_file(file)\n",
    "'''"
   ]
  },
  {
   "cell_type": "code",
   "execution_count": null,
   "id": "b3faafb0",
   "metadata": {},
   "outputs": [],
   "source": [
    "# function 'list_name_corrupted_file' aims to return a list of names, corresponding to the names of the corrupted files\n",
    "# in the name_list given as input\n",
    "def list_name_corrupted_file(name_list):\n",
    "    ## Hypothesis: some files are corrupted\n",
    "    # check if files are corrupted and count the corrupted ones\n",
    "    invalid_files = [] # create an empty list to register the names of the corrupted files\n",
    "    for name in name_list:\n",
    "        if not name.endswith('.nc'):\n",
    "            name = name + '.nc'\n",
    "        try:\n",
    "            path=os.path.join(out_path,name)\n",
    "            im = Dataset(path)\n",
    "        except (IOError, OSError):\n",
    "            # the files is corrupted\n",
    "            invalid_files.append(name) # register name of the corrupted files\n",
    "    return invalid_files # return the name with suffix '.nc' of corrupted files"
   ]
  },
  {
   "cell_type": "code",
   "execution_count": null,
   "id": "58ad974d",
   "metadata": {},
   "outputs": [],
   "source": [
    "# list urls that should be downloaded again\n",
    "def url_to_download_again(url_list,invalid_files):\n",
    "    url_corrupted_file = []\n",
    "    for url in url_list:\n",
    "        f_name = extract_name_file(url) # return the name of the file as a string\n",
    "        if f_name in invalid_files:\n",
    "            url_corrupted_file.append(url)\n",
    "\n",
    "    dict ={' fileUrl':url_corrupted_file}\n",
    "    df = pd.DataFrame(dict)\n",
    "    path = os.path.join(out_path,'file_to_download_again.csv')\n",
    "    df.to_csv(path)\n",
    "    return url_corrupted_file"
   ]
  },
  {
   "cell_type": "code",
   "execution_count": null,
   "id": "0e598389",
   "metadata": {},
   "outputs": [],
   "source": [
    "## those three function are used to have the information concerning a file\n",
    "## information are in the name of the file, so the name of the file is used to find its related information\n",
    "## information mean variable, time_aggregation, model, scenario, year of the file\n",
    "\n",
    "### this function permit to extract the word before the first character '_' in the input 'name'\n",
    "### the input name is in format str\n",
    "### returning the new_name, without the word found, will permit to re-use the function to find all \n",
    "#     the information concerning the studied file\n",
    "def name_next_boundary(name):\n",
    "    index_before_name=name.find('_') # returns the lowest index where the character '_' was found\n",
    "    word = name[0:index_before_name] # first word in the string 'name', before the first character '_'\n",
    "    new_name = name.replace(word+'_','') # delete the word found from the string 'name'\n",
    "    return word, new_name # return, in string format, the word found (which is an information of the studied file), \n",
    "                    # and the string 'new_name', which is 'name' without the word found\n",
    "\n",
    "# this function permit to extract the year of the studied file\n",
    "# the year is always writen at the end of the name's file\n",
    "# the input name is in format str\n",
    "def find_year(name):\n",
    "    index_before_name=name.rfind('_') # returns the highest index where the character '_' was found\n",
    "    # the last character '_' is just before the year in the string 'name'\n",
    "    # determine if the string 'name' ends with '.nc'\n",
    "    if name.endswith('.nc'):\n",
    "        # 'name' ends with '.nc'\n",
    "        name_end = 3 # the three last character of the string name will be removed to find the year of the studied file\n",
    "    else:\n",
    "        # 'name' does not end with '.nc'\n",
    "        name_end = 0 # no character will be removed at the end of 'name' to find the year of the studied file\n",
    "    year = name[index_before_name+1:len(name)-name_end] # the year is extracted from the name of the file studied\n",
    "    # based on the index_before_name (highest index where the character '_' was found) and the suffix of 'name'\n",
    "    return year # the year in string format is returned\n",
    "\n",
    "# This function use the functions 'name_next_boundary' and 'find_year' to extract the information of the file studied\n",
    "# the input name is in format str, the name of the file from which we want information\n",
    "def data_information(name):\n",
    "    #### use of the function 'name_next_boundary': each time it is used, \n",
    "    # returns an information, and the name of the studied file without this information\n",
    "    (variable, shorten_name) = name_next_boundary(name)\n",
    "    (time_aggregation, shorten_name) = name_next_boundary(shorten_name)\n",
    "    (model, shorten_name) = name_next_boundary(shorten_name)\n",
    "    (scenario, shorten_name) = name_next_boundary(shorten_name)\n",
    "    #### use the function 'find_year' to extract the information 'year' from the string 'shorten_name'\n",
    "    year = find_year(shorten_name)\n",
    "    # the function returns all the information of the studied file\n",
    "    return variable, time_aggregation, model, scenario, year"
   ]
  },
  {
   "cell_type": "markdown",
   "id": "1c49ff76",
   "metadata": {},
   "source": [
    "# Projects information"
   ]
  },
  {
   "cell_type": "code",
   "execution_count": 13,
   "id": "6bc4d1c9",
   "metadata": {},
   "outputs": [
    {
     "data": {
      "image/png": "[encoded data removed]",
      "text/plain": [
       "<Figure size 640x480 with 1 Axes>"
      ]
     },
     "metadata": {},
     "output_type": "display_data"
    },
    {
     "data": {
      "image/png": "[encoded data removed]",
      "text/plain": [
       "<Figure size 640x480 with 1 Axes>"
      ]
     },
     "metadata": {},
     "output_type": "display_data"
    },
    {
     "data": {
      "image/png": "[encoded data removed]",
      "text/plain": [
       "<Figure size 640x480 with 1 Axes>"
      ]
     },
     "metadata": {},
     "output_type": "display_data"
    }
   ],
   "source": [
    "import geopandas as gpd\n",
    "import os\n",
    "import os.path\n",
    "\n",
    "data_folder=r'\\\\COWI.net\\projects\\A245000\\A248363\\CRVA\\Datasets'\n",
    "project_location_path=os.path.join(data_folder,'Mozambique_PPIS/EIB_locations_few.shp')\n",
    "#study boundary (optional)\n",
    "study_area_path=os.path.join(data_folder,'Mozambique_PPIS/mozambique.shp')\n",
    "\n",
    "\n",
    "#projection CRS (default = 'EPSG:4326')\n",
    "bCRS='EPSG:4326'\n",
    "\n",
    "#buffer for climate/grid variables\n",
    "buffer=40000 #buffer in meters, 0 = no buffer is computed\n",
    "\n",
    "mCRS='EPSG:31983' #metric CRS for buffer in meters (find relevant metric CRS for location!)\n",
    "\n",
    "#load shapefiles\n",
    "projects = gpd.read_file(project_location_path).to_crs(bCRS)\n",
    "project_id='Name' #name of column used as id\n",
    "\n",
    "study_area = gpd.read_file(study_area_path).to_crs(bCRS)\n",
    "\n",
    "#calculate buffer around points/shape\n",
    "if buffer != 0:\n",
    "    projects_buf=projects.to_crs(mCRS)  #project to crs with metric units to get buffer in meters\n",
    "    projects_buf['geometry']=projects.to_crs(mCRS).buffer(buffer) #assign the buffer as the new geometry - \n",
    "    projects_buf=projects_buf.to_crs(bCRS)#project back to orginal crs\n",
    "\n",
    "    \n",
    "#plot shapefiles\n",
    "study_area.plot()\n",
    "projects.plot()\n",
    "projects_buf.plot() \n",
    "\n",
    "\n",
    "#show table\n",
    "projects[[project_id]]\n",
    "\n",
    "# register geographic information concerning projects\n",
    "lon_projects = projects['geometry'].x\n",
    "lat_projects = projects['geometry'].y\n",
    "buf_projects = 1\n",
    "area_projects = [lat_projects - buf_projects, lat_projects+buf_projects, lon_projects-buf_projects,lon_projects+buf_projects] # list format\n",
    "#### determination of the geographical zone of interest \n",
    "lat_min_wanted = min(study_area['LAT'])-10\n",
    "lat_max_wanted = max(study_area['LAT'])+10\n",
    "lon_min_wanted = min(study_area['LON'])-20\n",
    "lon_max_wanted = max(study_area['LON'])+20\n",
    "# addind and substracting to lon and lat to have margin\n",
    "# substracting more to longitude because the range of longitude is -180 to 180. The range of latitude is -90 to 90"
   ]
  },
  {
   "cell_type": "markdown",
   "id": "6d2e80bd",
   "metadata": {},
   "source": [
    "# Define Paths"
   ]
  },
  {
   "cell_type": "code",
   "execution_count": null,
   "id": "dcdb42ed",
   "metadata": {},
   "outputs": [],
   "source": [
    "out_path=r'\\\\COWI.net\\projects\\A245000\\A248363\\CRVA\\Datasets\\NEX-GDDP-CMIP6'"
   ]
  },
  {
   "cell_type": "markdown",
   "id": "9aa548ce",
   "metadata": {},
   "source": [
    "# Infos for Multiprocessing"
   ]
  },
  {
   "cell_type": "code",
   "execution_count": null,
   "id": "9c31a5b8",
   "metadata": {},
   "outputs": [],
   "source": [
    "# count the number of CPU/cores\n",
    "mp.cpu_count()"
   ]
  },
  {
   "cell_type": "code",
   "execution_count": null,
   "id": "b9829133",
   "metadata": {},
   "outputs": [],
   "source": [
    "NBCORES=5"
   ]
  },
  {
   "cell_type": "markdown",
   "id": "89eb488f",
   "metadata": {},
   "source": [
    "# Complete list of url with files to download"
   ]
  },
  {
   "cell_type": "code",
   "execution_count": null,
   "id": "09add4c7",
   "metadata": {},
   "outputs": [],
   "source": [
    "# register information from csv file\n",
    "#all_urls = pd.read_csv(r'C:\\Users\\CLMRX\\OneDrive - COWI\\Documents\\GitHub\\CRVA_tool\\outputs\\NEX-GDDP-CMIP6\\gddp-cmip6-thredds-fileserver.csv')\n",
    "csv_path = os.path.join(out_path,'gddp-cmip6-thredds-fileserver.csv')\n",
    "all_urls = pd.read_csv(csv_path)"
   ]
  },
  {
   "cell_type": "code",
   "execution_count": null,
   "id": "2e4f2839",
   "metadata": {},
   "outputs": [],
   "source": [
    "### make all elements of the csv into a readable list\n",
    "\n",
    "temp_list = all_urls[[' fileUrl']].T# transpose csv\n",
    "temp_list=temp_list.values.tolist()\n",
    "temp_list=temp_list[0]\n",
    "url_list=[s.replace(' ', '') for s in temp_list]"
   ]
  },
  {
   "cell_type": "markdown",
   "id": "3bb674bf",
   "metadata": {},
   "source": [
    "# Interest in precipitation files\n",
    "Define list of url and files' names corresponding to precipitation files between 2021 and 2060"
   ]
  },
  {
   "cell_type": "code",
   "execution_count": null,
   "id": "9128938b",
   "metadata": {},
   "outputs": [],
   "source": [
    "## download only precipitation data\n",
    "# select only precipitation files, between 2040 and 2080\n",
    "url_list_precipitation = [url for url in url_list if 'pr_day_' in url and int(url[len(url)-7:len(url)-3])>2020 and int(url[len(url)-7:len(url)-3])<2061]"
   ]
  },
  {
   "cell_type": "code",
   "execution_count": null,
   "id": "d927414d",
   "metadata": {},
   "outputs": [],
   "source": [
    "len(url_list_precipitation)"
   ]
  },
  {
   "cell_type": "code",
   "execution_count": null,
   "id": "69676d2a",
   "metadata": {},
   "outputs": [],
   "source": [
    "name_list_precipitation = produce_name_list(url_list_precipitation)"
   ]
  },
  {
   "cell_type": "code",
   "execution_count": null,
   "id": "25a834a5",
   "metadata": {},
   "outputs": [],
   "source": [
    "name_list_precipitation"
   ]
  },
  {
   "cell_type": "markdown",
   "id": "22c24713",
   "metadata": {},
   "source": [
    "# List of corrupted files to download again"
   ]
  },
  {
   "cell_type": "code",
   "execution_count": null,
   "id": "e691f289",
   "metadata": {},
   "outputs": [],
   "source": [
    "name_list_precipitation_corrupted = list_name_corrupted_file(name_list_precipitation)\n",
    "url_corrupted_file=url_to_download_again(url_list_precipitation,name_list_precipitation_corrupted)\n",
    "len(name_list_precipitation_corrupted)"
   ]
  },
  {
   "cell_type": "code",
   "execution_count": null,
   "id": "95ecedc1",
   "metadata": {},
   "outputs": [],
   "source": [
    "name_list_precipitation_corrupted"
   ]
  },
  {
   "cell_type": "markdown",
   "id": "abcb433f",
   "metadata": {},
   "source": [
    "# Download file of interest"
   ]
  },
  {
   "cell_type": "code",
   "execution_count": null,
   "id": "eb63d8c0",
   "metadata": {},
   "outputs": [],
   "source": [
    "# try download again corrupted files\n",
    "results = ThreadPool(NBCORES).imap_unordered(download_file, url_corrupted_file) \n",
    "# first input is the function, second input must be an iterable\n",
    "for r in results: #I don't understand why, without this step, it does not work\n",
    "     print(r)"
   ]
  },
  {
   "cell_type": "code",
   "execution_count": null,
   "id": "67cdc45d",
   "metadata": {},
   "outputs": [],
   "source": [
    "# same aim as cell before, but performing without ThreadPool\n",
    "for file in url_corrupted_file: # for loop to download the file in each url\n",
    "    # check if the file was already downloaded\n",
    "    #test = os.path.join('//COWI.net/projects/A245000/A248363/CRVA/Datasets/NEX-GDDP-CMIP6/',f_name+'.nc')\n",
    "    #if os.path.isfile(test): # if the file was aleready download\n",
    "        #continue # continue the for loop without executing the code after this line. The code follonwing download the file\n",
    "        # if we entered the if, the file was already dowloaded, no need to downloaded it again\n",
    "    # the file was not downloaded, the following code will permit to download it in the servor for dataset\n",
    "    download_file(file)"
   ]
  },
  {
   "cell_type": "code",
   "execution_count": null,
   "id": "a71522f8",
   "metadata": {},
   "outputs": [],
   "source": [
    "while len(url_corrupted_file) != 0: # while the list 'url_corrupted_file' is not empty, the following code will continue\n",
    "    for file in url_corrupted_file: # for loop to download the file in each url\n",
    "        download_file(file)\n",
    "    name_list_precipitation_corrupted = list_name_corrupted_file(name_list_precipitation)\n",
    "    url_corrupted_file=url_to_download_again(url_list_precipitation,name_list_precipitation_corrupted) "
   ]
  },
  {
   "cell_type": "markdown",
   "id": "7cf332f0",
   "metadata": {},
   "source": [
    "# Check if download files are corrupted or not"
   ]
  },
  {
   "cell_type": "code",
   "execution_count": null,
   "id": "bf4184bf",
   "metadata": {},
   "outputs": [],
   "source": [
    "name_list_precipitation_corrupted = list_name_corrupted_file(name_list_precipitation)\n",
    "url_corrupted_file=url_to_download_again(url_list_precipitation,name_list_precipitation_corrupted)\n",
    "len(name_list_precipitation_corrupted)"
   ]
  },
  {
   "cell_type": "code",
   "execution_count": null,
   "id": "9e3517b3",
   "metadata": {},
   "outputs": [],
   "source": [
    "name = 'pr_day_ACCESS-CM2_ssp585_r1i1p1f1_gn_2035.nc'\n",
    "path = r'\\\\COWI.net\\projects\\A245000\\A248363\\CRVA\\Datasets\\NEX-GDDP-CMIP6\\pr_day_ACCESS-CM2_ssp585_r1i1p1f1_gn_2035.nc'\n",
    "Dataset(path)"
   ]
  },
  {
   "cell_type": "markdown",
   "id": "7c34ecd4",
   "metadata": {},
   "source": [
    "###### Basics to read nc files"
   ]
  },
  {
   "cell_type": "code",
   "execution_count": null,
   "id": "673fbdd8",
   "metadata": {},
   "outputs": [],
   "source": [
    "## read data, _FillValue should be NaN\n",
    "solar_1950=Dataset(r'\\\\COWI.net\\projects\\A245000\\A248363\\CRVA\\Datasets\\NEX-GDDP-CMIP6\\hurs_day_ACCESS-CM2_historical_r1i1p1f1_gn_1950.nc')\n",
    "r'''\n",
    "hurs=solar_1950.variables['hurs']\n",
    "hurs\n",
    "hurs._FillValue\n",
    "solar_dataframe = np.ma.getdata(solar_1950.variables['hurs']).data\n",
    "solar_dataframe\n",
    "len(solar_dataframe[solar_dataframe!=1.e+20])\n",
    "len(solar_dataframe[solar_dataframe==1.e+20])\n",
    "type(solar_dataframe)\n",
    "solar_dataframe.size\n",
    "solar_dataframe.size-len(solar_dataframe[solar_dataframe!=1.e+20])-len(solar_dataframe[solar_dataframe==1.e+20])\n",
    "'''"
   ]
  },
  {
   "cell_type": "code",
   "execution_count": null,
   "id": "7aa4149d",
   "metadata": {},
   "outputs": [],
   "source": [
    "solar_dataframe=np.ma.getdata(pr_2052.variables['pr']).data\n",
    "len(solar_dataframe[solar_dataframe!=1.e+20])"
   ]
  },
  {
   "cell_type": "code",
   "execution_count": null,
   "id": "09cd2342",
   "metadata": {},
   "outputs": [],
   "source": [
    "len(solar_dataframe[solar_dataframe==1.e+20])"
   ]
  },
  {
   "cell_type": "markdown",
   "id": "de90440d",
   "metadata": {},
   "source": [
    "# Produce csv files with data to use"
   ]
  },
  {
   "cell_type": "code",
   "execution_count": null,
   "id": "420185bc",
   "metadata": {},
   "outputs": [],
   "source": [
    "from Filemanagement import create_dataframe"
   ]
  },
  {
   "cell_type": "code",
   "execution_count": null,
   "id": "65c4fc7e",
   "metadata": {},
   "outputs": [],
   "source": [
    "name=non_corrupted_file_pr[0]\n",
    "name.replace('.nc','')\n",
    "(variable, time_aggregation, model, scenario, year) = data_information(name)"
   ]
  },
  {
   "cell_type": "code",
   "execution_count": null,
   "id": "5f8bd17f",
   "metadata": {},
   "outputs": [],
   "source": [
    "variable"
   ]
  },
  {
   "cell_type": "code",
   "execution_count": null,
   "id": "c04fab56",
   "metadata": {},
   "outputs": [],
   "source": [
    "year"
   ]
  },
  {
   "cell_type": "code",
   "execution_count": null,
   "id": "a1ab0699",
   "metadata": {},
   "outputs": [],
   "source": [
    "name"
   ]
  },
  {
   "cell_type": "code",
   "execution_count": 17,
   "id": "79b1dc78",
   "metadata": {},
   "outputs": [
    {
     "data": {
      "text/plain": [
       "[-17.1180719828059, -15.118071982805901, 32.6516262963414, 34.6516262963414]"
      ]
     },
     "execution_count": 17,
     "metadata": {},
     "output_type": "execute_result"
    }
   ],
   "source": [
    "[area_projects[0][0],area_projects[1][0],area_projects[2][0],area_projects[3][0]]"
   ]
  },
  {
   "cell_type": "code",
   "execution_count": null,
   "id": "b16028d7",
   "metadata": {},
   "outputs": [],
   "source": [
    "from FunctionsAndClass import register_data\n",
    "from FunctionsAndClass import dataframe_copernicus"
   ]
  },
  {
   "cell_type": "code",
   "execution_count": 20,
   "id": "75bd2d67",
   "metadata": {},
   "outputs": [
    {
     "data": {
      "image/png": "[encoded data removed]",
      "text/plain": [
       "<Figure size 640x480 with 1 Axes>"
      ]
     },
     "metadata": {},
     "output_type": "display_data"
    },
    {
     "data": {
      "image/png": "[encoded data removed]",
      "text/plain": [
       "<Figure size 640x480 with 2 Axes>"
      ]
     },
     "metadata": {},
     "output_type": "display_data"
    }
   ],
   "source": [
    "from FunctionsAndClass import year_copernicus"
   ]
  },
  {
   "cell_type": "code",
   "execution_count": 21,
   "id": "9308178c",
   "metadata": {},
   "outputs": [],
   "source": [
    "(year, year_str, index_dates) = year_copernicus(2021,2060)"
   ]
  },
  {
   "cell_type": "code",
   "execution_count": null,
   "id": "44a7b2f9",
   "metadata": {},
   "outputs": [],
   "source": [
    "(variable, time_aggregation, model, scenario, year) = data_information(file_name)\n",
    "\n",
    "title_file = variable +'_'+year_str[0] +'_'+year_str[len(year_str)-1]\n",
    "name_variable = 'pr_day'"
   ]
  },
  {
   "cell_type": "code",
   "execution_count": null,
   "id": "212b2534",
   "metadata": {},
   "outputs": [],
   "source": [
    "create_dataframe('daily',year_str,experiments,models,out_path, global_variable, name_variable, name_project,area,period,index_dates,dates,path_for_csv,title_file,source):    "
   ]
  }
 ],
 "metadata": {
  "kernelspec": {
   "display_name": "Python 3 (ipykernel)",
   "language": "python",
   "name": "python3"
  },
  "language_info": {
   "codemirror_mode": {
    "name": "ipython",
    "version": 3
   },
   "file_extension": ".py",
   "mimetype": "text/x-python",
   "name": "python",
   "nbconvert_exporter": "python",
   "pygments_lexer": "ipython3",
   "version": "3.10.6"
  }
 },
 "nbformat": 4,
 "nbformat_minor": 5
}
