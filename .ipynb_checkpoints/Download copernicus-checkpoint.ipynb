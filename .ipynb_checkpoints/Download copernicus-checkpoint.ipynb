{
 "cells": [
  {
   "cell_type": "markdown",
   "id": "1d1fc3f2",
   "metadata": {},
   "source": [
    "This notebook is meant to download data from copernicus CMIP6.\n",
    "\n",
    "Data source : https://cds.climate.copernicus.eu/cdsapp#!/dataset/projections-cmip6?tab=form"
   ]
  },
  {
   "cell_type": "code",
   "execution_count": 1,
   "id": "0e9cfbcb",
   "metadata": {},
   "outputs": [],
   "source": [
    "### User input\n",
    "global_variable = 'sfcWind'\n",
    "name_variable = 'near_surface_wind_speed'\n",
    "\n",
    "temporal_resolution = 'daily'\n",
    "\n",
    "y_start = 1950\n",
    "y_end = 2014\n",
    "\n",
    "# wind register at 10 m"
   ]
  },
  {
   "cell_type": "markdown",
   "id": "41e1a2cd",
   "metadata": {},
   "source": [
    "# Functions and packages"
   ]
  },
  {
   "cell_type": "code",
   "execution_count": 2,
   "id": "a0e26a1c",
   "metadata": {},
   "outputs": [],
   "source": [
    "import pandas as pd\n",
    "import numpy as np\n",
    "import numpy.ma as ma\n",
    "import netCDF4 as nc#not directly used but needs to be imported for some nc4 files manipulations, use for nc files\n",
    "from netCDF4 import Dataset\n",
    "import xarray as xr\n",
    "import datetime # to have actual date\n",
    "import os\n",
    "import os.path\n",
    "import cdsapi # for copernicus function"
   ]
  },
  {
   "cell_type": "markdown",
   "id": "a690455f",
   "metadata": {},
   "source": [
    "# Out path"
   ]
  },
  {
   "cell_type": "code",
   "execution_count": 3,
   "id": "c2b52172",
   "metadata": {},
   "outputs": [],
   "source": [
    "out_path=r'\\\\COWI.net\\projects\\A245000\\A248363\\CRVA\\Datasets'"
   ]
  },
  {
   "cell_type": "markdown",
   "id": "28e50acc",
   "metadata": {},
   "source": [
    "# Project information"
   ]
  },
  {
   "cell_type": "code",
   "execution_count": 4,
   "id": "27e2471b",
   "metadata": {},
   "outputs": [],
   "source": [
    "name_projects = np.array(['WTP_Mutua_EIB', 'Gorongosa_EIB', 'Chimoio_WTP_EIB', 'Pemba_EIB'])\n",
    "\n",
    "lon_projects_data = np.array([34.5927839939706, 34.07824286310398 , 33.47333313659342, 40.52545156033736])\n",
    "lon_projects = pd.Series(lon_projects_data)\n",
    "\n",
    "lat_projects_data = np.array([-19.495079648575242, -18.68063728746643, -19.125095255188334,-12.973942656747809])\n",
    "lat_projects = pd.Series(lat_projects_data)\n",
    "\n",
    "area_projects = [lat_projects - 5, lat_projects+5, lon_projects-5,lon_projects+5] # list format"
   ]
  },
  {
   "cell_type": "markdown",
   "id": "fefb865b",
   "metadata": {},
   "source": [
    "# Class"
   ]
  },
  {
   "cell_type": "markdown",
   "id": "c35b7678",
   "metadata": {},
   "source": [
    "### Calendar class"
   ]
  },
  {
   "cell_type": "code",
   "execution_count": 5,
   "id": "12e38755",
   "metadata": {},
   "outputs": [],
   "source": [
    "# class to define parameter of time that remain constant durinf the whole script\n",
    "class calendar:\n",
    "    default_month = [ \n",
    "                '01', '02', '03',\n",
    "                '04', '05', '06',\n",
    "                '07', '08', '09',\n",
    "                '10', '11', '12',\n",
    "                ]\n",
    "    default_day = [\n",
    "                '01', '02', '03',\n",
    "                '04', '05', '06',\n",
    "                '07', '08', '09',\n",
    "                '10', '11', '12',\n",
    "                '13', '14', '15',\n",
    "                '16', '17', '18',\n",
    "                '19', '20', '21',\n",
    "                '22', '23', '24',\n",
    "                '25', '26', '27',\n",
    "                '28', '29', '30',\n",
    "                '31',\n",
    "                ]\n",
    "    actual_date = datetime.date.today()\n",
    "    actual_year = actual_date.year"
   ]
  },
  {
   "cell_type": "markdown",
   "id": "a4eac75e",
   "metadata": {},
   "source": [
    "### Copernicus class"
   ]
  },
  {
   "cell_type": "code",
   "execution_count": 6,
   "id": "a5a508f8",
   "metadata": {},
   "outputs": [],
   "source": [
    "## Definition of tuples that will be useful to search which data are available or not\n",
    "# make it tuples to make unchangeable\n",
    "class copernicus_elements:\n",
    "    # there is 58 models\n",
    "    models =('access_cm2','awi_cm_1_1_mr','bcc_csm2_mr','cams_csm1_0','canesm5_canoe','cesm2_fv2','cesm2_waccm_fv2','cmcc_cm2_hr4','cmcc_esm2','cnrm_cm6_1_hr','e3sm_1_0','e3sm_1_1_eca','ec_earth3_aerchem','ec_earth3_veg','fgoals_f3_l','fio_esm_2_0','giss_e2_1_g','hadgem3_gc31_ll','iitm_esm','inm_cm5_0','ipsl_cm6a_lr','kiost_esm','miroc6','miroc_es2l','mpi_esm1_2_hr','mri_esm2_0','norcpm1','noresm2_mm','taiesm1','access_esm1_5','awi_esm_1_1_lr','bcc_esm1','canesm5','cesm2','cesm2_waccm','ciesm','cmcc_cm2_sr5','cnrm_cm6_1','cnrm_esm2_1','e3sm_1_1','ec_earth3','ec_earth3_cc','ec_earth3_veg_lr','fgoals_g3','gfdl_esm4','giss_e2_1_h','hadgem3_gc31_mm','inm_cm4_8','ipsl_cm5a2_inca','kace_1_0_g','mcm_ua_1_0','miroc_es2h','mpi_esm_1_2_ham','mpi_esm1_2_lr','nesm3','noresm2_lm','sam0_unicon','ukesm1_0_ll')\n",
    "    experiments = ('ssp1_1_9','ssp1_2_6','ssp4_3_4','ssp5_3_4os','ssp2_4_5','ssp4_6_0','ssp3_7_0','ssp5_8_5')\n",
    "    #'ssp1_1_9',\n",
    "    experiments_historical=('historical',)"
   ]
  },
  {
   "cell_type": "markdown",
   "id": "106449f3",
   "metadata": {},
   "source": [
    "## Functions"
   ]
  },
  {
   "cell_type": "code",
   "execution_count": 7,
   "id": "e4258e86",
   "metadata": {},
   "outputs": [],
   "source": [
    "# separer la fonciton qui download de celle qui fait les files ?? Comme ca possible de choisir closest lat et lon avec fichier existant,\n",
    "# ou bien laisser comme ca mais trouver un momyen pour que ca run pas a chaque fois, ca doit runner une fois pour chaque projet"
   ]
  },
  {
   "cell_type": "code",
   "execution_count": 8,
   "id": "22558118",
   "metadata": {},
   "outputs": [],
   "source": [
    "########################################### Register data from nc file of Copernicus ############################################\n",
    "# Aim of the function: this function aims to register in a dataframe and a csv file the data from the nc file downloaded with\n",
    "# the function copernicus_data\n",
    "# Actions of this function\n",
    "#     1) Create the string indicating the period of interest\n",
    "#     2) Creating path and file name to register dataframe in csv file\n",
    "#     3) Register data, with its corresponding experiments and models, in dataframe and csv file\n",
    "#        3 a) Test if path does not exists (if dataframe is not registered) : \n",
    "#                1 . Thanks to copernicus_data, download nc fils from copernicus CMIP6 website for each experiment and each model\n",
    "#                2 . Open the dowloaded nc file in the jupyter notebook if it exists\n",
    "#                3 . In a dataframe, register the value in the nc file, for each experiment, model and day\n",
    "#                4 . If there no value for each experiments and models tested, the datfram is empty and the user is informed\n",
    "#        3 b) Test if path exists (dataframe is registered) : no need to register again, return in dataframe the existing \n",
    "#             csv file in a dataframe\n",
    "\n",
    "# Parameters of the function\n",
    "# temporal_resolution: 'daily', 'monthly', or 'fixed'. String type \n",
    "# year_str: list containing all the years under the string type and in the period of interest\n",
    "# experiments: copernicus_elements.experiments\n",
    "# models: copernicus_elements.models\n",
    "# out_path: path were the outputs are registered. Defined by the user at the beginning of the code \n",
    "# global_variable: global name of the climate variable of interest (example: Wind)\n",
    "# name_variable: name of the elements downloaded from copernicus (example: 'near_surface_wind_speed')\n",
    "# name_project: Name of the project for which the data are taken\n",
    "# area: list containing latitudes and logitudes around the project\n",
    "\n",
    "def csv_copernicus(temporal_resolution,year_str,experiments,models,out_path, global_variable, name_variable, name_projects,area,source):    \n",
    "    ### PROBLEM WITH DATES, CAN T just pass one year. year str is a list, so if one year (2020,)\n",
    "    ## PROBLEM WITH PATH: not coherent between data csv, datasets, download. And not achieving to have project name in path for dataset\n",
    "    ## maybe the name for dataset is too long, but even if end at name project, does not work. Try doing one string with name project in it\n",
    "    ## PROBLEM WITH PATH: WORK BUT NOT IDEAL\n",
    "    ## pourquoi mettre toutes les donnees dans un dataframe ?? permet d'avoir cette organisation en multiindex. Sinon, on ne peut pas faire ca\n",
    "    df_final = []\n",
    "    \n",
    "    # create string for name of folder depending on type of period\n",
    "    if temporal_resolution == 'fixed':\n",
    "        period = 'fixed'\n",
    "    else:\n",
    "        period=year_str[0]+'-'+year_str[len(year_str)-1]\n",
    "    \n",
    "    (dates, index_dates)=date_copernicus(temporal_resolution,year_str) # create time vector depending on temporal resolution\n",
    "    \n",
    "    k = 0 # to find closest latitude and longitude for each project, without making the loop for each, ssp, each model, year and project\n",
    "    i = 0 # to have indexes of projects    \n",
    "        \n",
    "    for name_project in name_projects:\n",
    "        print('############################### Project name: '+name_project+' ###############################')\n",
    "        \n",
    "        # modification on name_project str to ensure no problem whent using this str as name of a folder\n",
    "        name_project = name_project.replace('-','_') # take off every blank space of project names\n",
    "        name_project = name_project.replace('/','_') # take off every / of project names\n",
    "        name_project = name_project.replace(r'\"\\\"','_') # take off every \\ of project names\n",
    "        # brackets shouldn't be a problem for name projects\n",
    "\n",
    "        title_file = name_project +'_' +period+ '_' + temporal_resolution + '_' +name_variable+'.csv'\n",
    "\n",
    "        path_for_csv = os.path.join(out_path,'csv',source,name_variable,name_project,period) # create path for csv file\n",
    "\n",
    "        if not os.path.isdir(path_for_csv): # test if the data were already downloaded; if not, first part if the if is applied\n",
    "            os.makedirs(path_for_csv) # to ensure the creation of the path\n",
    "            # the dataframe_copernicus functions aims to test if the data with the specific parameters exists (with copernicus_data)\n",
    "            # and then produce a csv file if the data exists\n",
    "            (df,k)=dataframe_copernicus(temporal_resolution,year_str,experiments,models,out_path, global_variable, name_variable, name_project,area,period,index_dates,dates,path_for_csv,title_file,source,k,i)\n",
    "            #return df\n",
    "        else:# test if the data were already downloaded; if yes, this part of the if is applied\n",
    "            if len(os.listdir(path_for_csv)) == 0: #test if the directory is empty\n",
    "                # the csv file does not exist, even if the path exist\n",
    "                # the dataframe_copernicus functions aims to test if the data with the specific parameters exists (with copernicus_data)\n",
    "                # and then produce a csv file if the data exists\n",
    "                (df,k)=dataframe_copernicus(temporal_resolution,year_str,experiments,models,out_path, global_variable, name_variable, name_project,area,period,index_dates,dates,path_for_csv,title_file,source,k,i)\n",
    "            else: # the directory is not empty\n",
    "                df=file_already_downloaded(path_for_csv,title_file,name_variable)\n",
    "                \n",
    "        #df_final = pd.concat([df_final,df])\n",
    "        i+=1 # iterate indexes projects\n",
    "\n",
    "    return df#df_final"
   ]
  },
  {
   "cell_type": "code",
   "execution_count": 9,
   "id": "8c547ff7",
   "metadata": {},
   "outputs": [],
   "source": [
    "# the dataframe_copernicus functions aims to test if the data with the specific parameters exists (with copernicus_data)\n",
    "# and then produce a csv file if the data exists\n",
    "\n",
    "def dataframe_copernicus(temporal_resolution,year_str,experiments,models,out_path, global_variable, name_variable, name_project,area,period,index_dates,dates,path_for_csv,title_file,source,k,i):    \n",
    "    print('FUNCTION DATAFRAME_COPERNICUS')\n",
    "    df = pd.DataFrame() # create an empty dataframe\n",
    "    for SSP in experiments:\n",
    "        experiment = (SSP,) # create tuple for iteration of dataframe\n",
    "        print('Test with scenario '+SSP)\n",
    "        for model_simulation in models:\n",
    "            model =(model_simulation,) # create tuple for iteration of dataframe\n",
    "            print('Test with model '+model_simulation)\n",
    "            # path were the futur downloaded file is registered\n",
    "            path_for_file= os.path.join(out_path,'Datasets',name_variable,name_project,SSP,model_simulation,period)\n",
    "            # existence of path_for_file tested in copernicus function\n",
    "            climate_variable_path=copernicus_data(temporal_resolution,SSP,name_variable,model_simulation,year_str,area,path_for_file,out_path,name_project,source)\n",
    "            # area is determined in the \"Load shapefiles and plot\" part\n",
    "            if (climate_variable_path is not None):\n",
    "                if k == 0:\n",
    "                    (index_closest_lat,index_closest_lon,closest_value_lat,closest_value_lon)=_lat_lon(climate_variable_path,lat_projects,lon_projects)\n",
    "                    k = 1\n",
    "                # register data concerning each project under the form of a csv, with the model, scenario, period, latitude and longitude\n",
    "                df=register_data(climate_variable_path,name_project,name_variable,index_dates,dates,experiment,model,index_closest_lat,index_closest_lon,closest_value_lat,closest_value_lon,df,i)\n",
    "                print('\\nValue were found for the period and the project tested\\n')\n",
    "            else:\n",
    "                print('\\nNo value were found for the period and the project tested\\n')\n",
    "                continue # do the next for loop\n",
    "        # test if dataframe is empty, if values exist for this period\n",
    "    if not df.empty: # if dataframe is not empty, value were registered, the first part is run : a path to register the csv file is created, and the dataframe is registered in a csv file\n",
    "        full_name = os.path.join(path_for_csv,title_file)\n",
    "        print(full_name)\n",
    "        df.to_csv(full_name) # register dataframe in csv file\n",
    "        return (df,k)\n",
    "    else: # if the dataframe is empty, no value were found, there is no value to register or to return\n",
    "        #os.remove(path_for_file)# remove path\n",
    "        return (df,k)# no df to return"
   ]
  },
  {
   "cell_type": "code",
   "execution_count": 10,
   "id": "ed28e3fd",
   "metadata": {},
   "outputs": [],
   "source": [
    "# register data concerning each project under the form of a csv, with the model, scenario, period, latitude and longitude\n",
    "def register_data(climate_variable_path,name_project,name_variable,index_dates,dates,experiment,model,index_closest_lat,index_closest_lon,closest_value_lat,closest_value_lon,df,i):\n",
    "    print('Registering the data in a dataframe')\n",
    "    #Open_path = Dataset(climate_variable_path) # open netcdf file\n",
    "    #lat_dataframe = np.ma.getdata(Open_path.variables['lat']).data\n",
    "    #lon_dataframe = np.ma.getdata(Open_path.variables['lon']).data\n",
    "    #column_name = find_column_name(Open_path)\n",
    "    #data_with_all = ma.getdata(Open_path.variables[column_name]).data\n",
    "    \n",
    "    ds = xr.open_dataset(climate_variable_path)\n",
    "    r'''\n",
    "    for moment in index_dates: # case if temporal resolution is daily\n",
    "        data_dataframe = ds.variables[global_variable].isel(time=moment,lat=index_closest_lat[i],lon=index_closest_lon[i]) # data_with_all[moment,:,:]\n",
    "        Date = (dates[moment],) # create tuple for iteration of dataframe\n",
    "        Name_Project = (name_project,)\n",
    "\n",
    "        # Create the MultiIndex\n",
    "        midx = pd.MultiIndex.from_product([Name_Project,closest_value_lat[i],closest_value_lon[i],experiment, model, Date],names=['Name project', 'Latitude', 'Longitude','Experiment', 'Model', 'Date'])\n",
    "        # multiindex to name the columns\n",
    "        cols_str = [name_variable]\n",
    "        #cols = pd.MultiIndex.from_product([lon_str,lon_dataframe])\n",
    "        # Create the Dataframe\n",
    "        Variable_dataframe = pd.DataFrame(data = data_dataframe, \n",
    "                                    index = midx,\n",
    "                                    columns = cols_str)\n",
    "        Variable_dataframe\n",
    "        # Concatenate former and new dataframe\n",
    "        df = pd.concat([df,Variable_dataframe])# register information for project\n",
    "    '''\n",
    "    data_dataframe = ds.variables[global_variable].isel(time=index_dates,lat=index_closest_lat[i],lon=index_closest_lon[i]).values # data_with_all[moment,:,:]\n",
    "    Date = dates.tolist() # create tuple for iteration of dataframe\n",
    "    Name_Project = (name_project,)\n",
    "\n",
    "    # Create the MultiIndex\n",
    "    midx = pd.MultiIndex.from_product([Name_Project,(closest_value_lat[i],),(closest_value_lon[i],),experiment, model, Date],names=['Name project', 'Latitude', 'Longitude','Experiment', 'Model', 'Date'])\n",
    "    # multiindex to name the columns\n",
    "    cols_str = [name_variable]\n",
    "    #cols = pd.MultiIndex.from_product([lon_str,lon_dataframe])\n",
    "    # Create the Dataframe\n",
    "    Variable_dataframe = pd.DataFrame(data = data_dataframe, \n",
    "                                index = midx,\n",
    "                                columns = cols_str)\n",
    "    Variable_dataframe\n",
    "    # Concatenate former and new dataframe\n",
    "    df = pd.concat([df,Variable_dataframe])# register information for project\n",
    "    \n",
    "    ds.close() # to spare memory\n",
    "    #Open_path.close # to spare memory\n",
    "    return df"
   ]
  },
  {
   "cell_type": "code",
   "execution_count": 11,
   "id": "b013bab3",
   "metadata": {},
   "outputs": [],
   "source": [
    "# function to return column name in the netCDF file\n",
    "# all netCDF file form copernicus have this format for their variables names\n",
    "# ['time', 'time_bnds', 'lat', 'lat_bnds', 'lon', 'lon_bnds', Name of climate variable of interest]\n",
    "# take of 'time', 'time_bnds', 'lat', 'lat_bnds', 'lon', 'lon_bnds'\n",
    "def find_column_name(Open_path):\n",
    "    # make a list with every variables of the netCDF file of interest\n",
    "    climate_variable_variables=list(Open_path.variables)\n",
    "    # variables that are not the column name of interest \n",
    "    elements_not_climate_var =['time', 'time_bnds', 'bnds','lat', 'lat_bnds', 'lon', 'lon_bnds','time_bounds','bounds','lat_bounds','lon_bounds','height']\n",
    "    for str in elements_not_climate_var:\n",
    "        if str in climate_variable_variables:\n",
    "            climate_variable_variables.remove(str)\n",
    "    return climate_variable_variables[0]"
   ]
  },
  {
   "cell_type": "code",
   "execution_count": 12,
   "id": "e9a2e5e4",
   "metadata": {},
   "outputs": [],
   "source": [
    "def file_already_downloaded(path_for_csv,title_file,name_variable):\n",
    "    print('The file was already downloaded')\n",
    "    df = pd.read_csv(os.path.join(path_for_csv,title_file)) # read the downloaded data for the analysis\n",
    "\n",
    "    # changing name of columns\n",
    "    name_columns=df.iloc[0].array\n",
    "    df.rename(columns={'Unnamed: 0':'Experiment','Unnamed: 1':'Model','Unnamed: 2':'Date','Unnamed: 3':'Latitude'}, inplace=True)\n",
    "\n",
    "    lon_dataframe=name_columns[4:len(name_columns)] # register data for columns of multiindex\n",
    "\n",
    "    df.drop([0,1], axis=0,inplace=True) # remove 2 first lines\n",
    "\n",
    "    # recreate multiindex \n",
    "\n",
    "    # .... with columns\n",
    "    df.set_index(['Name project', 'Latitude', 'Longitude','Experiment', 'Model', 'Date'],inplace=True)\n",
    "\n",
    "    # .... with lines\n",
    "\n",
    "    cols_str = [name_variable]\n",
    "    df.columns=cols_str\n",
    "    return df"
   ]
  },
  {
   "cell_type": "code",
   "execution_count": 13,
   "id": "356ac25d",
   "metadata": {},
   "outputs": [],
   "source": [
    "################################################ Period for copernicus function ################################################\n",
    "# Aim of the function: by giving it a first and last year of the period that must analyzed, this function produce several \n",
    "# vectors,containing time informations, useful to download and treat data from CMIP6 projections (https://cds.climate.copernicus.eu/cdsapp#!/dataset/projections-cmip6?tab=overview )\n",
    "# Those time vectors are used in the copernicus_data and the dataframe_copernicus and csv_copernicus functions\n",
    "\n",
    "# function year_copernicus produce \n",
    "# year: a vector containing all the year in the period of interest\n",
    "# year_str: an array containing all the year in the period of interest in the string format\n",
    "# index: an array containing the index of the year and year_str\n",
    "#### Parameters of the function\n",
    "# first_year: number in int format, of the first year of the period of interest\n",
    "# last_year: number in int format, of the last year of the period of interest\n",
    "def year_copernicus(first_year,last_year):\n",
    "    year = np.arange(first_year,(last_year+1),1) # create vector of years\n",
    "    year_str = [0]*len(year) # create initiale empty vector to convert years in int\n",
    "    index = np.arange(0,len(year)) # create vector of index for year\n",
    "    i = 0 # initialize index\n",
    "    for i in index: # convert all the date in string format\n",
    "        year_str[i]=str(year[i])\n",
    "    return (year, year_str, index)\n",
    "\n",
    "# function date_copernicus produce \n",
    "# dates: the format depend on the temporal reolution, but always contain the dates of the period of interest.\n",
    "#        with temporal_resolution=daily, dates is a DatetimeIndex\n",
    "#        with temporal_resolution=monthly, dates is a list\n",
    "# index_dates: an array containing the index of the dates\n",
    "#### Parameters of the function\n",
    "# temporal_resolution: daily or monthly\n",
    "# year_str: ???? produce by function year_copernicus, containing the year of the period of interest in string format\n",
    "def date_copernicus(temporal_resolution,year_str):\n",
    "    start_date = \"01-01-\"+year_str[0] # string start date based on start year\n",
    "    stop_date = \"31-12-\"+year_str[len(year_str)-1] # string stop date based on stop year\n",
    "    if temporal_resolution =='daily':\n",
    "        # vector of dates between start date and stop date\n",
    "        dates = pd.date_range(start_date,stop_date)# dates is a pandas.core.indexes.datetimes.DatetimeIndex\n",
    "        # By default, freq = 'D', which means calendar day frequency (source : https://pandas.pydata.org/docs/user_guide/timeseries.html#timeseries-offset-aliases)\n",
    "        #index_dates = np.arange(0,len(dates)) # vector containning index o dates vector\n",
    "    if temporal_resolution =='monthly':\n",
    "        dates = pd.date_range(start_date,stop_date,freq='MS') # vector of dates between start date and stop date\n",
    "        dates=list(dates.strftime('%m-%Y')) # dates is an pandas.core.indexes.base.Index, not a pandas.core.indexes.datetimes.DatetimeIndex\n",
    "    #if temporal_resolution =='fixed': trouver donnees pour gerer cela\n",
    "    index_dates = np.arange(0,len(dates)) # vector containning index o dates vector\n",
    "    return (dates, index_dates)"
   ]
  },
  {
   "cell_type": "markdown",
   "id": "e8e3229e",
   "metadata": {},
   "source": [
    "### Copernicus function\n",
    "Some data comes from copernicus and can be directly taken form the website thans to CDS. The following functions serves this purpose\n",
    "#### Parameters of the function :\n",
    "projections-cmip6 : name of the web page, in this case, 'projections-cmip6'\n",
    "format : zip or tar.gz\n",
    "temporal_resolution : daily or monthly or fixed\n",
    "SSP : sscenario that is studied \"Historical\", \"SSP1-1.9\", \"SSP1-2.6\" ...\n",
    "Variable : variable to be studied\n",
    "model: model of projection to choose\n",
    "year: year of study to choose\n",
    "area: area of study\n",
    "month: month to be studied"
   ]
  },
  {
   "cell_type": "code",
   "execution_count": 14,
   "id": "89ed3275",
   "metadata": {},
   "outputs": [],
   "source": [
    "################################################### Copernicus data function ###################################################\n",
    "# Aim of the function : read nc data found on copernicus CMIP6 projections (https://cds.climate.copernicus.eu/cdsapp#!/dataset/projections-cmip6?tab=overview )\n",
    "# Actions of this function\n",
    "#     1) check which parameters are asked or not in the variables dictionnary, and modify the last depend on the parameters \n",
    "#        chosen by the user before\n",
    "#     2) All this step is done in function try_download_copernicus: thanks to c.retrieve function and the variables dictionnary, \n",
    "#        the chosen data are download in zip format, dezipped and registered in a specific folder. \n",
    "#     3) the function looks in the specific folder for a nc format file, and once found, return the path of this nc format file\n",
    "\n",
    "#### Parameters of the function\n",
    "# temporal_resolution : daily or monthly or fixed\n",
    "# SSP : sscenario that is studied \"Historical\", \"SSP1-1.9\", \"SSP1-2.6\" ...\n",
    "# name_variable : variable to be studied\n",
    "# model: model of projection to choose\n",
    "# year: year(s) of study to choose\n",
    "# area: area of study, if not specific, area should be an empty array area=[]\n",
    "# path_for_file: path where the file must be unzipped\n",
    "# out_path: path were all the outputs are registered, defined by the user in the begining of the main code\n",
    "# name_area : to specify if we are only looking data for a project or for a wider zone\n",
    "\n",
    "def copernicus_data(temporal_resolution,SSP,name_variable,model,year,area,path_for_file,out_path,name_area,source): \n",
    "    # create path for the downloaded file\n",
    "    start_path = os.path.join(out_path,'Data_download_zip')\n",
    "    file_download=create_file_download_path(start_path,name_variable,name_area,SSP,model,year,temporal_resolution,source) \n",
    "    if not os.path.isdir(path_for_file):\n",
    "        print('path_for_file does not exist: the data may not have been downloaded') \n",
    "        if not os.path.isdir(file_download):\n",
    "            print('file_download does not exist: the data were not downloaded')\n",
    "            # function try to download from copernicus\n",
    "            path_file = try_download_copernicus(temporal_resolution,SSP,name_variable,model,area,year,path_for_file,file_download,source)\n",
    "            if path_file is None: # for this climate variable, the parameter do not fit\n",
    "                return path_file\n",
    "            final_path=search_for_nc(path_file) # looking for the netCDF file in format .nc and look if path length is a problem at the same time\n",
    "            print('\\n')\n",
    "            print('---------------  Path to nc file exists ?? ---------------\\n')\n",
    "            print(os.path.isfile(final_path))\n",
    "            print('\\n')\n",
    "            return final_path\n",
    "            \n",
    "        else: # if the path already exist, the data in zip format should also exists\n",
    "            print('file_download does exist, the data have been downloaded, but not extracted')\n",
    "            #path_file=os.path.join(path_for_file,source)# source was added because of a problem during downloading\n",
    "            final_path=download_extract(path_for_file,file_download,source)\n",
    "            #final_path=search_for_nc(path_file) # looking for the netCDF file in format .nc and look if path length is a problem at the same time\n",
    "            #if final_path is None:# if no nc file exists, need to check again if the file with those parameters exists\n",
    "            #    final_path = try_download_copernicus(temporal_resolution,SSP,name_variable,model,area,year,path_for_file,file_download,source)\n",
    "            final_path = search_for_nc(final_path) # looking for the netCDF file in format .nc and look if path length is a problem at the same time\n",
    "            return final_path\n",
    "                \n",
    "    else: # the path for the file exists\n",
    "        if not os.listdir(path_for_file): # if the path is empty\n",
    "            final_path=download_extract(path_for_file,file_download,source)\n",
    "            final_path = search_for_nc(final_path) # looking for the netCDF file in format .nc and look if path length is a problem at the same time\n",
    "        else: # if the path is not empty\n",
    "            path_file=os.path.join(path_for_file,source)# data was added because of a problem during downloading\n",
    "            final_path=search_for_nc(path_file) # looking for the netCDF file in format .nc and look if path length is a problem at the same time\n",
    "            if final_path is None: # if no nc file exists, need to check again if the file with those parameters exists\n",
    "                test= os.path.join(file_download,source,'download.zip')\n",
    "                if not os.path.join(test):# the file was not downloaded \n",
    "                    final_path = try_download_copernicus(temporal_resolution,SSP,name_variable,model,area,year,path_for_file,file_download,source)\n",
    "                else: # the file was already downloaded but not not extracted\n",
    "                    final_path=download_extract(path_for_file,file_download,source)\n",
    "                final_path = search_for_nc(final_path) # looking for the netCDF file in format .nc and look if path length is a problem at the same time\n",
    "        return final_path"
   ]
  },
  {
   "cell_type": "code",
   "execution_count": 15,
   "id": "97e16965",
   "metadata": {},
   "outputs": [],
   "source": [
    "def try_download_copernicus(temporal_resolution,SSP,name_variable,model,area,year,path_for_file,file_download,source):\n",
    "    c = cdsapi.Client()# function to use the c.retrieve\n",
    "    # basic needed dictionnary to give to the c.retrieve function the parameters asked by the user\n",
    "    variables = {\n",
    "                'format': 'zip', # this function is only designed to download and unzip zip files\n",
    "                'temporal_resolution': temporal_resolution,\n",
    "                'experiment': SSP,\n",
    "                'variable': name_variable,\n",
    "                'model': model,\n",
    "    }\n",
    "\n",
    "    if area != []: # the user is interested by a sub region and not the whole region \n",
    "        variables.update({'area':area}) \n",
    "\n",
    "    if name_variable == 'air_temperature':\n",
    "        variables['level'] = '1000' # [hPa], value of the standard pressure at sea level is 1013.25 [hPa], so 1000 [hPa] is the neareste value. Other pressure value are available but there is no interest for the aim of this project\n",
    "\n",
    "    if temporal_resolution != 'fixed':# if 'fixed', no year, month, date to choose\n",
    "        variables['year']=year # period chosen by the user\n",
    "        variables['month']= calendar.default_month  # be default, all the months are given; defined in class calendar\n",
    "        if temporal_resolution == 'daily':\n",
    "            variables['day']= calendar.default_day # be default, all the days are given; defined in class calendar\n",
    "    # c.retrieve download the data from the website\n",
    "    try:\n",
    "        c.retrieve(\n",
    "            'projections-cmip6',\n",
    "            variables,\n",
    "            'download.zip') # the file in a zip format is registered in the current directory\n",
    "    except:\n",
    "        print('Some parameters are not matching')\n",
    "        return # stop the function, because some data the user entered are not matching\n",
    "    \n",
    "    # function to extract the downloaded zip\n",
    "    path_file=download_extract(path_for_file,file_download,source)\n",
    "    return path_file"
   ]
  },
  {
   "cell_type": "code",
   "execution_count": 16,
   "id": "a69769c9",
   "metadata": {},
   "outputs": [],
   "source": [
    "# download_extract functions aims to return the path were the downloaded file in zip format is extracted\n",
    "\n",
    "def download_extract(path_for_file,file_download,source):\n",
    "    if not os.path.isdir(path_for_file): # path_for_file does not exists, need to ensure that is is created\n",
    "        os.makedirs(path_for_file) # to ensure the creation of the path\n",
    "    # unzip the downloaded file\n",
    "    if 'download.zip' not in os.listdir(): # check if download is in the working directory\n",
    "        print('The download zip is moved to the working directory')\n",
    "        path_downloaded_zip=os.path.join(file_download,'download.zip')\n",
    "        shutil.move(path_downloaded_zip,r'C:\\Users\\CLMRX\\OneDrive - COWI\\Documents\\GitHub\\CRVA_tool') # move download fil to working directory\n",
    "    \n",
    "    from zipfile import ZipFile\n",
    "    zf = ZipFile('download.zip', 'r')\n",
    "    zf.extractall(source) # if no precision of directory, extract in current directory\n",
    "    zf.close()\n",
    "\n",
    "    if not os.path.isdir(file_download): # path_for_file does not exists, need to ensure that is is created\n",
    "        os.makedirs(file_download) # to ensure the creation of the path\n",
    "    # moving download to appropriate place\n",
    "    #test = os.path.join(file_download,'download.zip')\n",
    "    #if not os.path.isfile(test):\n",
    "    shutil.move('download.zip',file_download) # no need to delete 'download.zip' from inital place\n",
    "    #test = os.path.join(path_for_file,source)\n",
    "    #if not os.path.isdir(test):\n",
    "    shutil.move(source,path_for_file) # move extracted data to the path created for them\n",
    "    path_file=os.path.join(path_for_file,source)\n",
    "    print('\\n The downloaded file is extracted')\n",
    "    return path_file"
   ]
  },
  {
   "cell_type": "code",
   "execution_count": 17,
   "id": "eb7e3bba",
   "metadata": {},
   "outputs": [],
   "source": [
    "# seach_for_nc is a function looking in path_for_file for a document in .nc format\n",
    "\n",
    "def search_for_nc(path_for_file):\n",
    "    print('path_for_file does exist Function copernicus search for nc')\n",
    "    for file in os.listdir(path_for_file):\n",
    "        if file.endswith(\".nc\"):\n",
    "            final_path=os.path.join(path_for_file, file)\n",
    "            \n",
    "            print('The file is in the path Function copernicus search for nc\\n')\n",
    "            print('Before path_length, The final path for the nc file is: '+final_path)\n",
    "            answer = str(os.path.isfile(final_path))\n",
    "            print('\\n The final path for nc file exists ? '+answer+'\\n')\n",
    "            final_path=path_length(final_path) # check if length of path is too long\n",
    "            print('After path_length, The final path for the nc file is: '+final_path)\n",
    "            answer = str(os.path.isfile(final_path))\n",
    "            print('\\n The final path for nc file exists ? '+answer+'\\n')\n",
    "            return final_path # the function returns the path of the nc file of interest\n",
    "            break # stop the function if a nc file was found \n",
    "        else:\n",
    "            pass\n",
    "    # the all folder has been search and there is no nc file in it\n",
    "    print('Problem : No nc file was found Function copernicus Function copernicus search for nc')# this line is out of the for loop, \n",
    "    #because it should only appear once all the folder has been examinated and if the break of the if was not used"
   ]
  },
  {
   "cell_type": "code",
   "execution_count": 18,
   "id": "b236379e",
   "metadata": {},
   "outputs": [],
   "source": [
    "# this functions test if the path is too long\n",
    "# if the path is more than 250 char, the path wll be modified in order for windows to accept is as a path\n",
    "\n",
    "def path_length(str1):\n",
    "    if len(str1)>250:\n",
    "        path = os.path.abspath(str1) # normalize path\n",
    "        if path.startswith(u\"\\\\\\\\\"):\n",
    "            path=u\"\\\\\\\\?\\\\UNC\\\\\"+path[2:]\n",
    "        else:\n",
    "            path=u\"\\\\\\\\?\\\\\"+path\n",
    "        return path\n",
    "    else:\n",
    "        return str1"
   ]
  },
  {
   "cell_type": "code",
   "execution_count": 19,
   "id": "a934dbf4",
   "metadata": {},
   "outputs": [],
   "source": [
    "# function to create path for the downloaded file\n",
    "def create_file_download_path(start_path,name_variable,name_area,SSP,model,year,temporal_resolution,source):\n",
    "    # adapt the name of the folder fot the period, depending on the type of period\n",
    "    if len(year)==1:\n",
    "        file_download = os.path.join(start_path,name_variable,name_area,SSP,model,year,source)\n",
    "    elif len(year)>1:\n",
    "        period=year[0]+'-'+year[len(year)-1]\n",
    "        file_download = os.path.join(start_path,name_variable,name_area,SSP,model,period,source)\n",
    "    elif temporal_resolution == 'fixed':\n",
    "        file_download = os.path.join(start_path,name_variable,name_area,SSP,model,'fixed_period',source)\n",
    "    return file_download"
   ]
  },
  {
   "cell_type": "code",
   "execution_count": 20,
   "id": "0da545ec",
   "metadata": {},
   "outputs": [],
   "source": [
    "### Identify index of latitudes and longitudes"
   ]
  },
  {
   "cell_type": "code",
   "execution_count": 21,
   "id": "463d1a1e",
   "metadata": {},
   "outputs": [],
   "source": [
    "# this functions aims to return the closest latitudes and longitudes to the projects, and the respectives index \n",
    "#  in the lat and lon vectors of the file\n",
    "def _lat_lon(path,lat_projects,lon_projects):\n",
    "    ds =  xr.open_dataset(path) \n",
    "    # ds.indexes['time'] gives back CFTimeIndex format, with hours. The strftime('%d-%m-%Y') permits to have time \n",
    "    # as an index, with format '%d-%m-%Y'. The .values permits to have an array\n",
    "    lat  = ds.lat.values\n",
    "    lon  = ds.lon.values\n",
    "    ds.close() # to spare memory\n",
    "    # preallocate space for the future vectors\n",
    "    index_closest_lat = []\n",
    "    index_closest_lon = []\n",
    "    closest_value_lat = []\n",
    "    closest_value_lon = []\n",
    "    for j in np.arange(0,len(lat_projects)):\n",
    "        (A,B)=closest_lat_lon_to_proj(lat_projects[j],lat)\n",
    "        index_closest_lat.append(A[0])\n",
    "        closest_value_lat.append(B[0])\n",
    "        (C,D)=closest_lat_lon_to_proj(lon_projects[j],lon)\n",
    "        index_closest_lon.append(C[0])\n",
    "        closest_value_lon.append(D[0])\n",
    "    return index_closest_lat,index_closest_lon,closest_value_lat,closest_value_lon\n",
    "\n",
    "\n",
    "# this function aims to select the closest point to the geographical point of the project\n",
    "# the function takes as input \n",
    "#     location_project, which is a numpy.float64\n",
    "#     vector, which is a numpy.ndarray\n",
    "# the function returns\n",
    "#     closest_value[0], a numpy.float64\n",
    "\n",
    "def closest_lat_lon_to_proj(location_project,vector):\n",
    "    # the function any() returns a boolean value. Here, the function test if there are elements in the array \n",
    "    # containing the difference between the vector and the location_project, equal to the minimum of the absolute \n",
    "    # value of the difference between the vector and the location_project\n",
    "    if any(np.where((vector - location_project) == min(abs(vector - location_project)))[0]):\n",
    "        # the function any() returned True\n",
    "        # there is an element in the vector that is equal to the minimum of the absolute value of the difference \n",
    "        # between the vector and the location_project\n",
    "        \n",
    "        # the function np.where() returns the index for which (vector - location_project) == min(abs(vector - location_project))\n",
    "        index_closest = np.where((vector - location_project) == min(abs(vector - location_project)))[0]\n",
    "        closest_value = vector[index_closest]\n",
    "    else:\n",
    "        # the function any() returned False\n",
    "        # there is NO element in the vector that is equal to the minimum of the absolute value of the difference \n",
    "        # between the vector and the location_project\n",
    "        \n",
    "        # the function np.where() returns the index for which (vector - location_project) == -min(abs(vector - location_project))\n",
    "        index_closest = np.where((vector - location_project) == -min(abs(vector - location_project)))[0]\n",
    "        closest_value = vector[index_closest]\n",
    "    return index_closest, closest_value \n",
    "    # the function returns\n",
    "    #     first, the value of the index of the element of vector, that is the closest to location_project    \n",
    "    #     second, the array containing the element of vector, that is the closest to location_project\n"
   ]
  },
  {
   "cell_type": "markdown",
   "id": "e19ab5be",
   "metadata": {},
   "source": [
    "# Register copernicus data"
   ]
  },
  {
   "cell_type": "code",
   "execution_count": 22,
   "id": "ce5dc264",
   "metadata": {},
   "outputs": [
    {
     "name": "stdout",
     "output_type": "stream",
     "text": [
      "############################### Project name: WTP_Mutua_EIB ###############################\n",
      "FUNCTION DATAFRAME_COPERNICUS\n",
      "Test with scenario historical\n",
      "Test with model access_cm2\n",
      "path_for_file does not exist: the data may not have been downloaded\n",
      "file_download does not exist: the data were not downloaded\n"
     ]
    },
    {
     "name": "stderr",
     "output_type": "stream",
     "text": [
      "2023-06-26 12:52:06,677 INFO Welcome to the CDS\n",
      "2023-06-26 12:52:06,679 INFO Sending request to https://cds.climate.copernicus.eu/api/v2/resources/projections-cmip6\n",
      "2023-06-26 12:52:06,868 INFO Welcome to the CDS\n"
     ]
    },
    {
     "name": "stdout",
     "output_type": "stream",
     "text": [
      "Some parameters are not matching\n",
      "\n",
      "No value were found for the period and the project tested\n",
      "\n",
      "Test with model awi_cm_1_1_mr\n",
      "path_for_file does not exist: the data may not have been downloaded\n",
      "file_download does not exist: the data were not downloaded\n"
     ]
    },
    {
     "name": "stderr",
     "output_type": "stream",
     "text": [
      "2023-06-26 12:52:06,871 INFO Sending request to https://cds.climate.copernicus.eu/api/v2/resources/projections-cmip6\n",
      "2023-06-26 12:52:07,021 INFO Welcome to the CDS\n",
      "2023-06-26 12:52:07,023 INFO Sending request to https://cds.climate.copernicus.eu/api/v2/resources/projections-cmip6\n"
     ]
    },
    {
     "name": "stdout",
     "output_type": "stream",
     "text": [
      "Some parameters are not matching\n",
      "\n",
      "No value were found for the period and the project tested\n",
      "\n",
      "Test with model bcc_csm2_mr\n",
      "path_for_file does not exist: the data may not have been downloaded\n",
      "file_download does not exist: the data were not downloaded\n",
      "Some parameters are not matching\n",
      "\n",
      "No value were found for the period and the project tested\n",
      "\n",
      "Test with model cams_csm1_0\n",
      "path_for_file does not exist: the data may not have been downloaded\n"
     ]
    },
    {
     "name": "stderr",
     "output_type": "stream",
     "text": [
      "2023-06-26 12:52:07,185 INFO Welcome to the CDS\n",
      "2023-06-26 12:52:07,187 INFO Sending request to https://cds.climate.copernicus.eu/api/v2/resources/projections-cmip6\n",
      "2023-06-26 12:52:07,293 INFO Welcome to the CDS\n",
      "2023-06-26 12:52:07,294 INFO Sending request to https://cds.climate.copernicus.eu/api/v2/resources/projections-cmip6\n"
     ]
    },
    {
     "name": "stdout",
     "output_type": "stream",
     "text": [
      "file_download does not exist: the data were not downloaded\n",
      "Some parameters are not matching\n",
      "\n",
      "No value were found for the period and the project tested\n",
      "\n",
      "Test with model canesm5_canoe\n",
      "path_for_file does not exist: the data may not have been downloaded\n",
      "file_download does not exist: the data were not downloaded\n",
      "Some parameters are not matching\n",
      "\n",
      "No value were found for the period and the project tested\n",
      "\n",
      "Test with model cesm2_fv2\n"
     ]
    },
    {
     "name": "stderr",
     "output_type": "stream",
     "text": [
      "2023-06-26 12:52:07,469 INFO Welcome to the CDS\n",
      "2023-06-26 12:52:07,471 INFO Sending request to https://cds.climate.copernicus.eu/api/v2/resources/projections-cmip6\n"
     ]
    },
    {
     "name": "stdout",
     "output_type": "stream",
     "text": [
      "path_for_file does not exist: the data may not have been downloaded\n",
      "file_download does not exist: the data were not downloaded\n",
      "Some parameters are not matching\n",
      "\n",
      "No value were found for the period and the project tested\n",
      "\n",
      "Test with model cesm2_waccm_fv2\n",
      "path_for_file does not exist: the data may not have been downloaded\n",
      "file_download does not exist: the data were not downloaded\n"
     ]
    },
    {
     "name": "stderr",
     "output_type": "stream",
     "text": [
      "2023-06-26 12:52:07,617 INFO Welcome to the CDS\n",
      "2023-06-26 12:52:07,619 INFO Sending request to https://cds.climate.copernicus.eu/api/v2/resources/projections-cmip6\n"
     ]
    },
    {
     "name": "stdout",
     "output_type": "stream",
     "text": [
      "Some parameters are not matching\n",
      "\n",
      "No value were found for the period and the project tested\n",
      "\n",
      "Test with model cmcc_cm2_hr4\n",
      "path_for_file does not exist: the data may not have been downloaded\n",
      "file_download does not exist: the data were not downloaded\n"
     ]
    },
    {
     "name": "stderr",
     "output_type": "stream",
     "text": [
      "2023-06-26 12:52:07,845 INFO Welcome to the CDS\n",
      "2023-06-26 12:52:07,846 INFO Sending request to https://cds.climate.copernicus.eu/api/v2/resources/projections-cmip6\n"
     ]
    },
    {
     "name": "stdout",
     "output_type": "stream",
     "text": [
      "Some parameters are not matching\n",
      "\n",
      "No value were found for the period and the project tested\n",
      "\n",
      "Test with model cmcc_esm2\n",
      "path_for_file does not exist: the data may not have been downloaded\n",
      "file_download does not exist: the data were not downloaded\n"
     ]
    },
    {
     "name": "stderr",
     "output_type": "stream",
     "text": [
      "2023-06-26 12:52:08,091 INFO Welcome to the CDS\n",
      "2023-06-26 12:52:08,093 INFO Sending request to https://cds.climate.copernicus.eu/api/v2/resources/projections-cmip6\n"
     ]
    },
    {
     "name": "stdout",
     "output_type": "stream",
     "text": [
      "Some parameters are not matching\n",
      "\n",
      "No value were found for the period and the project tested\n",
      "\n",
      "Test with model cnrm_cm6_1_hr\n",
      "path_for_file does not exist: the data may not have been downloaded\n",
      "file_download does not exist: the data were not downloaded\n"
     ]
    },
    {
     "name": "stderr",
     "output_type": "stream",
     "text": [
      "2023-06-26 12:52:08,320 INFO Welcome to the CDS\n",
      "2023-06-26 12:52:08,323 INFO Sending request to https://cds.climate.copernicus.eu/api/v2/resources/projections-cmip6\n"
     ]
    },
    {
     "name": "stdout",
     "output_type": "stream",
     "text": [
      "Some parameters are not matching\n",
      "\n",
      "No value were found for the period and the project tested\n",
      "\n",
      "Test with model e3sm_1_0\n",
      "path_for_file does not exist: the data may not have been downloaded\n",
      "file_download does not exist: the data were not downloaded\n"
     ]
    },
    {
     "name": "stderr",
     "output_type": "stream",
     "text": [
      "2023-06-26 12:52:08,535 INFO Welcome to the CDS\n",
      "2023-06-26 12:52:08,536 INFO Sending request to https://cds.climate.copernicus.eu/api/v2/resources/projections-cmip6\n",
      "2023-06-26 12:52:08,701 INFO Welcome to the CDS\n",
      "2023-06-26 12:52:08,703 INFO Sending request to https://cds.climate.copernicus.eu/api/v2/resources/projections-cmip6\n"
     ]
    },
    {
     "name": "stdout",
     "output_type": "stream",
     "text": [
      "Some parameters are not matching\n",
      "\n",
      "No value were found for the period and the project tested\n",
      "\n",
      "Test with model e3sm_1_1_eca\n",
      "path_for_file does not exist: the data may not have been downloaded\n",
      "file_download does not exist: the data were not downloaded\n",
      "Some parameters are not matching\n",
      "\n",
      "No value were found for the period and the project tested\n",
      "\n",
      "Test with model ec_earth3_aerchem\n"
     ]
    },
    {
     "name": "stderr",
     "output_type": "stream",
     "text": [
      "2023-06-26 12:52:08,875 INFO Welcome to the CDS\n",
      "2023-06-26 12:52:08,877 INFO Sending request to https://cds.climate.copernicus.eu/api/v2/resources/projections-cmip6\n"
     ]
    },
    {
     "name": "stdout",
     "output_type": "stream",
     "text": [
      "path_for_file does not exist: the data may not have been downloaded\n",
      "file_download does not exist: the data were not downloaded\n",
      "Some parameters are not matching\n",
      "\n",
      "No value were found for the period and the project tested\n",
      "\n",
      "Test with model ec_earth3_veg\n",
      "path_for_file does not exist: the data may not have been downloaded\n",
      "file_download does not exist: the data were not downloaded\n"
     ]
    },
    {
     "name": "stderr",
     "output_type": "stream",
     "text": [
      "2023-06-26 12:52:09,030 INFO Welcome to the CDS\n",
      "2023-06-26 12:52:09,031 INFO Sending request to https://cds.climate.copernicus.eu/api/v2/resources/projections-cmip6\n",
      "2023-06-26 12:52:09,195 INFO Welcome to the CDS\n",
      "2023-06-26 12:52:09,197 INFO Sending request to https://cds.climate.copernicus.eu/api/v2/resources/projections-cmip6\n"
     ]
    },
    {
     "name": "stdout",
     "output_type": "stream",
     "text": [
      "Some parameters are not matching\n",
      "\n",
      "No value were found for the period and the project tested\n",
      "\n",
      "Test with model fgoals_f3_l\n",
      "path_for_file does not exist: the data may not have been downloaded\n",
      "file_download does not exist: the data were not downloaded\n",
      "Some parameters are not matching\n",
      "\n",
      "No value were found for the period and the project tested\n",
      "\n",
      "Test with model fio_esm_2_0\n"
     ]
    },
    {
     "name": "stderr",
     "output_type": "stream",
     "text": [
      "2023-06-26 12:52:09,341 INFO Welcome to the CDS\n",
      "2023-06-26 12:52:09,342 INFO Sending request to https://cds.climate.copernicus.eu/api/v2/resources/projections-cmip6\n"
     ]
    },
    {
     "name": "stdout",
     "output_type": "stream",
     "text": [
      "path_for_file does not exist: the data may not have been downloaded\n",
      "file_download does not exist: the data were not downloaded\n",
      "Some parameters are not matching\n",
      "\n",
      "No value were found for the period and the project tested\n",
      "\n",
      "Test with model giss_e2_1_g\n",
      "path_for_file does not exist: the data may not have been downloaded\n",
      "file_download does not exist: the data were not downloaded\n"
     ]
    },
    {
     "name": "stderr",
     "output_type": "stream",
     "text": [
      "2023-06-26 12:52:09,475 INFO Welcome to the CDS\n",
      "2023-06-26 12:52:09,476 INFO Sending request to https://cds.climate.copernicus.eu/api/v2/resources/projections-cmip6\n",
      "2023-06-26 12:52:09,583 INFO Welcome to the CDS\n",
      "2023-06-26 12:52:09,584 INFO Sending request to https://cds.climate.copernicus.eu/api/v2/resources/projections-cmip6\n"
     ]
    },
    {
     "name": "stdout",
     "output_type": "stream",
     "text": [
      "Some parameters are not matching\n",
      "\n",
      "No value were found for the period and the project tested\n",
      "\n",
      "Test with model hadgem3_gc31_ll\n",
      "path_for_file does not exist: the data may not have been downloaded\n",
      "file_download does not exist: the data were not downloaded\n",
      "Some parameters are not matching\n",
      "\n",
      "No value were found for the period and the project tested\n",
      "\n",
      "Test with model iitm_esm\n",
      "path_for_file does not exist: the data may not have been downloaded\n",
      "file_download does not exist: the data were not downloaded\n"
     ]
    },
    {
     "name": "stderr",
     "output_type": "stream",
     "text": [
      "2023-06-26 12:52:09,713 INFO Welcome to the CDS\n",
      "2023-06-26 12:52:09,714 INFO Sending request to https://cds.climate.copernicus.eu/api/v2/resources/projections-cmip6\n",
      "2023-06-26 12:52:09,865 INFO Welcome to the CDS\n",
      "2023-06-26 12:52:09,866 INFO Sending request to https://cds.climate.copernicus.eu/api/v2/resources/projections-cmip6\n"
     ]
    },
    {
     "name": "stdout",
     "output_type": "stream",
     "text": [
      "Some parameters are not matching\n",
      "\n",
      "No value were found for the period and the project tested\n",
      "\n",
      "Test with model inm_cm5_0\n",
      "path_for_file does not exist: the data may not have been downloaded\n",
      "file_download does not exist: the data were not downloaded\n",
      "Some parameters are not matching\n",
      "\n",
      "No value were found for the period and the project tested\n",
      "\n",
      "Test with model ipsl_cm6a_lr\n",
      "path_for_file does not exist: the data may not have been downloaded\n"
     ]
    },
    {
     "name": "stderr",
     "output_type": "stream",
     "text": [
      "2023-06-26 12:52:10,001 INFO Welcome to the CDS\n",
      "2023-06-26 12:52:10,003 INFO Sending request to https://cds.climate.copernicus.eu/api/v2/resources/projections-cmip6\n",
      "2023-06-26 12:52:10,108 INFO Welcome to the CDS\n",
      "2023-06-26 12:52:10,109 INFO Sending request to https://cds.climate.copernicus.eu/api/v2/resources/projections-cmip6\n"
     ]
    },
    {
     "name": "stdout",
     "output_type": "stream",
     "text": [
      "file_download does not exist: the data were not downloaded\n",
      "Some parameters are not matching\n",
      "\n",
      "No value were found for the period and the project tested\n",
      "\n",
      "Test with model kiost_esm\n",
      "path_for_file does not exist: the data may not have been downloaded\n",
      "file_download does not exist: the data were not downloaded\n",
      "Some parameters are not matching\n",
      "\n",
      "No value were found for the period and the project tested\n",
      "\n",
      "Test with model miroc6\n"
     ]
    },
    {
     "name": "stderr",
     "output_type": "stream",
     "text": [
      "2023-06-26 12:52:10,307 INFO Welcome to the CDS\n",
      "2023-06-26 12:52:10,309 INFO Sending request to https://cds.climate.copernicus.eu/api/v2/resources/projections-cmip6\n"
     ]
    },
    {
     "name": "stdout",
     "output_type": "stream",
     "text": [
      "path_for_file does not exist: the data may not have been downloaded\n",
      "file_download does not exist: the data were not downloaded\n",
      "Some parameters are not matching\n",
      "\n",
      "No value were found for the period and the project tested\n",
      "\n",
      "Test with model miroc_es2l\n",
      "path_for_file does not exist: the data may not have been downloaded\n"
     ]
    },
    {
     "name": "stderr",
     "output_type": "stream",
     "text": [
      "2023-06-26 12:52:10,465 INFO Welcome to the CDS\n",
      "2023-06-26 12:52:10,466 INFO Sending request to https://cds.climate.copernicus.eu/api/v2/resources/projections-cmip6\n"
     ]
    },
    {
     "name": "stdout",
     "output_type": "stream",
     "text": [
      "file_download does not exist: the data were not downloaded\n",
      "Some parameters are not matching\n",
      "\n",
      "No value were found for the period and the project tested\n",
      "\n",
      "Test with model mpi_esm1_2_hr\n",
      "path_for_file does not exist: the data may not have been downloaded\n",
      "file_download does not exist: the data were not downloaded\n"
     ]
    },
    {
     "name": "stderr",
     "output_type": "stream",
     "text": [
      "2023-06-26 12:52:10,631 INFO Welcome to the CDS\n",
      "2023-06-26 12:52:10,633 INFO Sending request to https://cds.climate.copernicus.eu/api/v2/resources/projections-cmip6\n",
      "2023-06-26 12:52:10,820 INFO Welcome to the CDS\n"
     ]
    },
    {
     "name": "stdout",
     "output_type": "stream",
     "text": [
      "Some parameters are not matching\n",
      "\n",
      "No value were found for the period and the project tested\n",
      "\n",
      "Test with model mri_esm2_0\n",
      "path_for_file does not exist: the data may not have been downloaded\n",
      "file_download does not exist: the data were not downloaded\n"
     ]
    },
    {
     "name": "stderr",
     "output_type": "stream",
     "text": [
      "2023-06-26 12:52:10,822 INFO Sending request to https://cds.climate.copernicus.eu/api/v2/resources/projections-cmip6\n",
      "2023-06-26 12:52:11,018 INFO Welcome to the CDS\n"
     ]
    },
    {
     "name": "stdout",
     "output_type": "stream",
     "text": [
      "Some parameters are not matching\n",
      "\n",
      "No value were found for the period and the project tested\n",
      "\n",
      "Test with model norcpm1\n",
      "path_for_file does not exist: the data may not have been downloaded\n",
      "file_download does not exist: the data were not downloaded\n"
     ]
    },
    {
     "name": "stderr",
     "output_type": "stream",
     "text": [
      "2023-06-26 12:52:11,020 INFO Sending request to https://cds.climate.copernicus.eu/api/v2/resources/projections-cmip6\n"
     ]
    },
    {
     "name": "stdout",
     "output_type": "stream",
     "text": [
      "Some parameters are not matching\n",
      "\n",
      "No value were found for the period and the project tested\n",
      "\n",
      "Test with model noresm2_mm\n",
      "path_for_file does not exist: the data may not have been downloaded\n",
      "file_download does not exist: the data were not downloaded\n"
     ]
    },
    {
     "name": "stderr",
     "output_type": "stream",
     "text": [
      "2023-06-26 12:52:11,249 INFO Welcome to the CDS\n",
      "2023-06-26 12:52:11,251 INFO Sending request to https://cds.climate.copernicus.eu/api/v2/resources/projections-cmip6\n",
      "2023-06-26 12:52:11,437 INFO Welcome to the CDS\n",
      "2023-06-26 12:52:11,439 INFO Sending request to https://cds.climate.copernicus.eu/api/v2/resources/projections-cmip6\n"
     ]
    },
    {
     "name": "stdout",
     "output_type": "stream",
     "text": [
      "Some parameters are not matching\n",
      "\n",
      "No value were found for the period and the project tested\n",
      "\n",
      "Test with model taiesm1\n",
      "path_for_file does not exist: the data may not have been downloaded\n",
      "file_download does not exist: the data were not downloaded\n",
      "Some parameters are not matching\n",
      "\n",
      "No value were found for the period and the project tested\n",
      "\n",
      "Test with model access_esm1_5\n",
      "path_for_file does not exist: the data may not have been downloaded\n",
      "file_download does not exist: the data were not downloaded\n"
     ]
    },
    {
     "name": "stderr",
     "output_type": "stream",
     "text": [
      "2023-06-26 12:52:11,666 INFO Welcome to the CDS\n",
      "2023-06-26 12:52:11,669 INFO Sending request to https://cds.climate.copernicus.eu/api/v2/resources/projections-cmip6\n",
      "2023-06-26 12:52:11,851 INFO Welcome to the CDS\n"
     ]
    },
    {
     "name": "stdout",
     "output_type": "stream",
     "text": [
      "Some parameters are not matching\n",
      "\n",
      "No value were found for the period and the project tested\n",
      "\n",
      "Test with model awi_esm_1_1_lr\n",
      "path_for_file does not exist: the data may not have been downloaded\n",
      "file_download does not exist: the data were not downloaded\n"
     ]
    },
    {
     "name": "stderr",
     "output_type": "stream",
     "text": [
      "2023-06-26 12:52:11,854 INFO Sending request to https://cds.climate.copernicus.eu/api/v2/resources/projections-cmip6\n",
      "2023-06-26 12:52:11,989 INFO Welcome to the CDS\n",
      "2023-06-26 12:52:11,990 INFO Sending request to https://cds.climate.copernicus.eu/api/v2/resources/projections-cmip6\n"
     ]
    },
    {
     "name": "stdout",
     "output_type": "stream",
     "text": [
      "Some parameters are not matching\n",
      "\n",
      "No value were found for the period and the project tested\n",
      "\n",
      "Test with model bcc_esm1\n",
      "path_for_file does not exist: the data may not have been downloaded\n",
      "file_download does not exist: the data were not downloaded\n",
      "Some parameters are not matching\n",
      "\n",
      "No value were found for the period and the project tested\n",
      "\n",
      "Test with model canesm5\n",
      "path_for_file does not exist: the data may not have been downloaded\n"
     ]
    },
    {
     "name": "stderr",
     "output_type": "stream",
     "text": [
      "2023-06-26 12:52:12,135 INFO Welcome to the CDS\n",
      "2023-06-26 12:52:12,137 INFO Sending request to https://cds.climate.copernicus.eu/api/v2/resources/projections-cmip6\n"
     ]
    },
    {
     "name": "stdout",
     "output_type": "stream",
     "text": [
      "file_download does not exist: the data were not downloaded\n",
      "Some parameters are not matching\n",
      "\n",
      "No value were found for the period and the project tested\n",
      "\n",
      "Test with model cesm2\n",
      "path_for_file does not exist: the data may not have been downloaded\n",
      "file_download does not exist: the data were not downloaded\n"
     ]
    },
    {
     "name": "stderr",
     "output_type": "stream",
     "text": [
      "2023-06-26 12:52:12,315 INFO Welcome to the CDS\n",
      "2023-06-26 12:52:12,316 INFO Sending request to https://cds.climate.copernicus.eu/api/v2/resources/projections-cmip6\n",
      "2023-06-26 12:52:12,490 INFO Welcome to the CDS\n",
      "2023-06-26 12:52:12,491 INFO Sending request to https://cds.climate.copernicus.eu/api/v2/resources/projections-cmip6\n"
     ]
    },
    {
     "name": "stdout",
     "output_type": "stream",
     "text": [
      "Some parameters are not matching\n",
      "\n",
      "No value were found for the period and the project tested\n",
      "\n",
      "Test with model cesm2_waccm\n",
      "path_for_file does not exist: the data may not have been downloaded\n",
      "file_download does not exist: the data were not downloaded\n",
      "Some parameters are not matching\n",
      "\n",
      "No value were found for the period and the project tested\n",
      "\n",
      "Test with model ciesm\n"
     ]
    },
    {
     "name": "stderr",
     "output_type": "stream",
     "text": [
      "2023-06-26 12:52:12,682 INFO Welcome to the CDS\n",
      "2023-06-26 12:52:12,683 INFO Sending request to https://cds.climate.copernicus.eu/api/v2/resources/projections-cmip6\n"
     ]
    },
    {
     "name": "stdout",
     "output_type": "stream",
     "text": [
      "path_for_file does not exist: the data may not have been downloaded\n",
      "file_download does not exist: the data were not downloaded\n",
      "Some parameters are not matching\n",
      "\n",
      "No value were found for the period and the project tested\n",
      "\n",
      "Test with model cmcc_cm2_sr5\n",
      "path_for_file does not exist: the data may not have been downloaded\n"
     ]
    },
    {
     "name": "stderr",
     "output_type": "stream",
     "text": [
      "2023-06-26 12:52:12,855 INFO Welcome to the CDS\n",
      "2023-06-26 12:52:12,857 INFO Sending request to https://cds.climate.copernicus.eu/api/v2/resources/projections-cmip6\n"
     ]
    },
    {
     "name": "stdout",
     "output_type": "stream",
     "text": [
      "file_download does not exist: the data were not downloaded\n",
      "Some parameters are not matching\n",
      "\n",
      "No value were found for the period and the project tested\n",
      "\n",
      "Test with model cnrm_cm6_1\n",
      "path_for_file does not exist: the data may not have been downloaded\n",
      "file_download does not exist: the data were not downloaded\n"
     ]
    },
    {
     "name": "stderr",
     "output_type": "stream",
     "text": [
      "2023-06-26 12:52:13,026 INFO Welcome to the CDS\n",
      "2023-06-26 12:52:13,027 INFO Sending request to https://cds.climate.copernicus.eu/api/v2/resources/projections-cmip6\n",
      "2023-06-26 12:52:13,169 INFO Welcome to the CDS\n",
      "2023-06-26 12:52:13,170 INFO Sending request to https://cds.climate.copernicus.eu/api/v2/resources/projections-cmip6\n"
     ]
    },
    {
     "name": "stdout",
     "output_type": "stream",
     "text": [
      "Some parameters are not matching\n",
      "\n",
      "No value were found for the period and the project tested\n",
      "\n",
      "Test with model cnrm_esm2_1\n",
      "path_for_file does not exist: the data may not have been downloaded\n",
      "file_download does not exist: the data were not downloaded\n",
      "Some parameters are not matching\n",
      "\n",
      "No value were found for the period and the project tested\n",
      "\n",
      "Test with model e3sm_1_1\n",
      "path_for_file does not exist: the data may not have been downloaded\n"
     ]
    },
    {
     "name": "stderr",
     "output_type": "stream",
     "text": [
      "2023-06-26 12:52:13,303 INFO Welcome to the CDS\n",
      "2023-06-26 12:52:13,304 INFO Sending request to https://cds.climate.copernicus.eu/api/v2/resources/projections-cmip6\n",
      "2023-06-26 12:52:13,398 INFO Welcome to the CDS\n",
      "2023-06-26 12:52:13,399 INFO Sending request to https://cds.climate.copernicus.eu/api/v2/resources/projections-cmip6\n"
     ]
    },
    {
     "name": "stdout",
     "output_type": "stream",
     "text": [
      "file_download does not exist: the data were not downloaded\n",
      "Some parameters are not matching\n",
      "\n",
      "No value were found for the period and the project tested\n",
      "\n",
      "Test with model ec_earth3\n",
      "path_for_file does not exist: the data may not have been downloaded\n",
      "file_download does not exist: the data were not downloaded\n",
      "Some parameters are not matching\n",
      "\n",
      "No value were found for the period and the project tested\n",
      "\n",
      "Test with model ec_earth3_cc\n"
     ]
    },
    {
     "name": "stderr",
     "output_type": "stream",
     "text": [
      "2023-06-26 12:52:13,529 INFO Welcome to the CDS\n",
      "2023-06-26 12:52:13,530 INFO Sending request to https://cds.climate.copernicus.eu/api/v2/resources/projections-cmip6\n"
     ]
    },
    {
     "name": "stdout",
     "output_type": "stream",
     "text": [
      "path_for_file does not exist: the data may not have been downloaded\n",
      "file_download does not exist: the data were not downloaded\n",
      "Some parameters are not matching\n",
      "\n",
      "No value were found for the period and the project tested\n",
      "\n",
      "Test with model ec_earth3_veg_lr\n",
      "path_for_file does not exist: the data may not have been downloaded\n",
      "file_download does not exist: the data were not downloaded\n"
     ]
    },
    {
     "name": "stderr",
     "output_type": "stream",
     "text": [
      "2023-06-26 12:52:13,653 INFO Welcome to the CDS\n",
      "2023-06-26 12:52:13,654 INFO Sending request to https://cds.climate.copernicus.eu/api/v2/resources/projections-cmip6\n",
      "2023-06-26 12:52:13,711 INFO Welcome to the CDS\n",
      "2023-06-26 12:52:13,712 INFO Sending request to https://cds.climate.copernicus.eu/api/v2/resources/projections-cmip6\n",
      "2023-06-26 12:52:13,776 INFO Welcome to the CDS\n",
      "2023-06-26 12:52:13,778 INFO Sending request to https://cds.climate.copernicus.eu/api/v2/resources/projections-cmip6\n",
      "2023-06-26 12:52:13,843 INFO Welcome to the CDS\n"
     ]
    },
    {
     "name": "stdout",
     "output_type": "stream",
     "text": [
      "Some parameters are not matching\n",
      "\n",
      "No value were found for the period and the project tested\n",
      "\n",
      "Test with model fgoals_g3\n",
      "path_for_file does not exist: the data may not have been downloaded\n",
      "file_download does not exist: the data were not downloaded\n",
      "Some parameters are not matching\n",
      "\n",
      "No value were found for the period and the project tested\n",
      "\n",
      "Test with model gfdl_esm4\n",
      "path_for_file does not exist: the data may not have been downloaded\n",
      "file_download does not exist: the data were not downloaded\n",
      "Some parameters are not matching\n",
      "\n",
      "No value were found for the period and the project tested\n",
      "\n",
      "Test with model giss_e2_1_h\n",
      "path_for_file does not exist: the data may not have been downloaded\n",
      "file_download does not exist: the data were not downloaded\n"
     ]
    },
    {
     "name": "stderr",
     "output_type": "stream",
     "text": [
      "2023-06-26 12:52:13,846 INFO Sending request to https://cds.climate.copernicus.eu/api/v2/resources/projections-cmip6\n",
      "2023-06-26 12:52:13,933 INFO Welcome to the CDS\n",
      "2023-06-26 12:52:13,935 INFO Sending request to https://cds.climate.copernicus.eu/api/v2/resources/projections-cmip6\n",
      "2023-06-26 12:52:13,998 INFO Welcome to the CDS\n",
      "2023-06-26 12:52:14,001 INFO Sending request to https://cds.climate.copernicus.eu/api/v2/resources/projections-cmip6\n"
     ]
    },
    {
     "name": "stdout",
     "output_type": "stream",
     "text": [
      "Some parameters are not matching\n",
      "\n",
      "No value were found for the period and the project tested\n",
      "\n",
      "Test with model hadgem3_gc31_mm\n",
      "path_for_file does not exist: the data may not have been downloaded\n",
      "file_download does not exist: the data were not downloaded\n",
      "Some parameters are not matching\n",
      "\n",
      "No value were found for the period and the project tested\n",
      "\n",
      "Test with model inm_cm4_8\n",
      "path_for_file does not exist: the data may not have been downloaded\n",
      "file_download does not exist: the data were not downloaded\n",
      "Some parameters are not matching\n",
      "\n",
      "No value were found for the period and the project tested\n",
      "\n",
      "Test with model ipsl_cm5a2_inca\n",
      "path_for_file does not exist: the data may not have been downloaded\n",
      "file_download does not exist: the data were not downloaded\n"
     ]
    },
    {
     "name": "stderr",
     "output_type": "stream",
     "text": [
      "2023-06-26 12:52:14,084 INFO Welcome to the CDS\n",
      "2023-06-26 12:52:14,086 INFO Sending request to https://cds.climate.copernicus.eu/api/v2/resources/projections-cmip6\n",
      "2023-06-26 12:52:14,153 INFO Welcome to the CDS\n",
      "2023-06-26 12:52:14,154 INFO Sending request to https://cds.climate.copernicus.eu/api/v2/resources/projections-cmip6\n",
      "2023-06-26 12:52:14,214 INFO Welcome to the CDS\n",
      "2023-06-26 12:52:14,215 INFO Sending request to https://cds.climate.copernicus.eu/api/v2/resources/projections-cmip6\n",
      "2023-06-26 12:52:14,275 INFO Welcome to the CDS\n"
     ]
    },
    {
     "name": "stdout",
     "output_type": "stream",
     "text": [
      "Some parameters are not matching\n",
      "\n",
      "No value were found for the period and the project tested\n",
      "\n",
      "Test with model kace_1_0_g\n",
      "path_for_file does not exist: the data may not have been downloaded\n",
      "file_download does not exist: the data were not downloaded\n",
      "Some parameters are not matching\n",
      "\n",
      "No value were found for the period and the project tested\n",
      "\n",
      "Test with model mcm_ua_1_0\n",
      "path_for_file does not exist: the data may not have been downloaded\n",
      "file_download does not exist: the data were not downloaded\n",
      "Some parameters are not matching\n",
      "\n",
      "No value were found for the period and the project tested\n",
      "\n",
      "Test with model miroc_es2h\n",
      "path_for_file does not exist: the data may not have been downloaded\n",
      "file_download does not exist: the data were not downloaded\n"
     ]
    },
    {
     "name": "stderr",
     "output_type": "stream",
     "text": [
      "2023-06-26 12:52:14,278 INFO Sending request to https://cds.climate.copernicus.eu/api/v2/resources/projections-cmip6\n",
      "2023-06-26 12:52:14,341 INFO Welcome to the CDS\n",
      "2023-06-26 12:52:14,342 INFO Sending request to https://cds.climate.copernicus.eu/api/v2/resources/projections-cmip6\n",
      "2023-06-26 12:52:14,400 INFO Welcome to the CDS\n",
      "2023-06-26 12:52:14,402 INFO Sending request to https://cds.climate.copernicus.eu/api/v2/resources/projections-cmip6\n",
      "2023-06-26 12:52:14,452 INFO Welcome to the CDS\n",
      "2023-06-26 12:52:14,454 INFO Sending request to https://cds.climate.copernicus.eu/api/v2/resources/projections-cmip6\n"
     ]
    },
    {
     "name": "stdout",
     "output_type": "stream",
     "text": [
      "Some parameters are not matching\n",
      "\n",
      "No value were found for the period and the project tested\n",
      "\n",
      "Test with model mpi_esm_1_2_ham\n",
      "path_for_file does not exist: the data may not have been downloaded\n",
      "file_download does not exist: the data were not downloaded\n",
      "Some parameters are not matching\n",
      "\n",
      "No value were found for the period and the project tested\n",
      "\n",
      "Test with model mpi_esm1_2_lr\n",
      "path_for_file does not exist: the data may not have been downloaded\n",
      "file_download does not exist: the data were not downloaded\n",
      "Some parameters are not matching\n",
      "\n",
      "No value were found for the period and the project tested\n",
      "\n",
      "Test with model nesm3\n",
      "path_for_file does not exist: the data may not have been downloaded\n",
      "file_download does not exist: the data were not downloaded\n",
      "Some parameters are not matching\n",
      "\n",
      "No value were found for the period and the project tested\n",
      "\n",
      "Test with model noresm2_lm\n",
      "path_for_file does not exist: the data may not have been downloaded\n",
      "file_download does not exist: the data were not downloaded\n"
     ]
    },
    {
     "name": "stderr",
     "output_type": "stream",
     "text": [
      "2023-06-26 12:52:14,519 INFO Welcome to the CDS\n",
      "2023-06-26 12:52:14,520 INFO Sending request to https://cds.climate.copernicus.eu/api/v2/resources/projections-cmip6\n",
      "2023-06-26 12:52:14,570 INFO Welcome to the CDS\n",
      "2023-06-26 12:52:14,572 INFO Sending request to https://cds.climate.copernicus.eu/api/v2/resources/projections-cmip6\n",
      "2023-06-26 12:52:14,649 INFO Welcome to the CDS\n",
      "2023-06-26 12:52:14,651 INFO Sending request to https://cds.climate.copernicus.eu/api/v2/resources/projections-cmip6\n"
     ]
    },
    {
     "name": "stdout",
     "output_type": "stream",
     "text": [
      "Some parameters are not matching\n",
      "\n",
      "No value were found for the period and the project tested\n",
      "\n",
      "Test with model sam0_unicon\n",
      "path_for_file does not exist: the data may not have been downloaded\n",
      "file_download does not exist: the data were not downloaded\n",
      "Some parameters are not matching\n",
      "\n",
      "No value were found for the period and the project tested\n",
      "\n",
      "Test with model ukesm1_0_ll\n",
      "path_for_file does not exist: the data may not have been downloaded\n",
      "file_download does not exist: the data were not downloaded\n",
      "Some parameters are not matching\n",
      "\n",
      "No value were found for the period and the project tested\n",
      "\n",
      "############################### Project name: Gorongosa_EIB ###############################\n"
     ]
    },
    {
     "name": "stderr",
     "output_type": "stream",
     "text": [
      "2023-06-26 12:52:15,056 INFO Welcome to the CDS\n",
      "2023-06-26 12:52:15,058 INFO Sending request to https://cds.climate.copernicus.eu/api/v2/resources/projections-cmip6\n",
      "2023-06-26 12:52:15,122 INFO Welcome to the CDS\n",
      "2023-06-26 12:52:15,123 INFO Sending request to https://cds.climate.copernicus.eu/api/v2/resources/projections-cmip6\n",
      "2023-06-26 12:52:15,192 INFO Welcome to the CDS\n"
     ]
    },
    {
     "name": "stdout",
     "output_type": "stream",
     "text": [
      "FUNCTION DATAFRAME_COPERNICUS\n",
      "Test with scenario historical\n",
      "Test with model access_cm2\n",
      "path_for_file does not exist: the data may not have been downloaded\n",
      "file_download does not exist: the data were not downloaded\n",
      "Some parameters are not matching\n",
      "\n",
      "No value were found for the period and the project tested\n",
      "\n",
      "Test with model awi_cm_1_1_mr\n",
      "path_for_file does not exist: the data may not have been downloaded\n",
      "file_download does not exist: the data were not downloaded\n",
      "Some parameters are not matching\n",
      "\n",
      "No value were found for the period and the project tested\n",
      "\n",
      "Test with model bcc_csm2_mr\n",
      "path_for_file does not exist: the data may not have been downloaded\n",
      "file_download does not exist: the data were not downloaded\n"
     ]
    },
    {
     "name": "stderr",
     "output_type": "stream",
     "text": [
      "2023-06-26 12:52:15,194 INFO Sending request to https://cds.climate.copernicus.eu/api/v2/resources/projections-cmip6\n",
      "2023-06-26 12:52:15,260 INFO Welcome to the CDS\n",
      "2023-06-26 12:52:15,262 INFO Sending request to https://cds.climate.copernicus.eu/api/v2/resources/projections-cmip6\n",
      "2023-06-26 12:52:15,323 INFO Welcome to the CDS\n",
      "2023-06-26 12:52:15,326 INFO Sending request to https://cds.climate.copernicus.eu/api/v2/resources/projections-cmip6\n",
      "2023-06-26 12:52:15,382 INFO Welcome to the CDS\n"
     ]
    },
    {
     "name": "stdout",
     "output_type": "stream",
     "text": [
      "Some parameters are not matching\n",
      "\n",
      "No value were found for the period and the project tested\n",
      "\n",
      "Test with model cams_csm1_0\n",
      "path_for_file does not exist: the data may not have been downloaded\n",
      "file_download does not exist: the data were not downloaded\n",
      "Some parameters are not matching\n",
      "\n",
      "No value were found for the period and the project tested\n",
      "\n",
      "Test with model canesm5_canoe\n",
      "path_for_file does not exist: the data may not have been downloaded\n",
      "file_download does not exist: the data were not downloaded\n",
      "Some parameters are not matching\n",
      "\n",
      "No value were found for the period and the project tested\n",
      "\n",
      "Test with model cesm2_fv2\n",
      "path_for_file does not exist: the data may not have been downloaded\n",
      "file_download does not exist: the data were not downloaded\n"
     ]
    },
    {
     "name": "stderr",
     "output_type": "stream",
     "text": [
      "2023-06-26 12:52:15,383 INFO Sending request to https://cds.climate.copernicus.eu/api/v2/resources/projections-cmip6\n",
      "2023-06-26 12:52:15,435 INFO Welcome to the CDS\n",
      "2023-06-26 12:52:15,436 INFO Sending request to https://cds.climate.copernicus.eu/api/v2/resources/projections-cmip6\n",
      "2023-06-26 12:52:15,493 INFO Welcome to the CDS\n",
      "2023-06-26 12:52:15,495 INFO Sending request to https://cds.climate.copernicus.eu/api/v2/resources/projections-cmip6\n",
      "2023-06-26 12:52:15,573 INFO Welcome to the CDS\n"
     ]
    },
    {
     "name": "stdout",
     "output_type": "stream",
     "text": [
      "Some parameters are not matching\n",
      "\n",
      "No value were found for the period and the project tested\n",
      "\n",
      "Test with model cesm2_waccm_fv2\n",
      "path_for_file does not exist: the data may not have been downloaded\n",
      "file_download does not exist: the data were not downloaded\n",
      "Some parameters are not matching\n",
      "\n",
      "No value were found for the period and the project tested\n",
      "\n",
      "Test with model cmcc_cm2_hr4\n",
      "path_for_file does not exist: the data may not have been downloaded\n",
      "file_download does not exist: the data were not downloaded\n",
      "Some parameters are not matching\n",
      "\n",
      "No value were found for the period and the project tested\n",
      "\n",
      "Test with model cmcc_esm2\n",
      "path_for_file does not exist: the data may not have been downloaded\n",
      "file_download does not exist: the data were not downloaded\n"
     ]
    },
    {
     "name": "stderr",
     "output_type": "stream",
     "text": [
      "2023-06-26 12:52:15,574 INFO Sending request to https://cds.climate.copernicus.eu/api/v2/resources/projections-cmip6\n",
      "2023-06-26 12:52:15,654 INFO Welcome to the CDS\n",
      "2023-06-26 12:52:15,657 INFO Sending request to https://cds.climate.copernicus.eu/api/v2/resources/projections-cmip6\n",
      "2023-06-26 12:52:15,716 INFO Welcome to the CDS\n",
      "2023-06-26 12:52:15,718 INFO Sending request to https://cds.climate.copernicus.eu/api/v2/resources/projections-cmip6\n"
     ]
    },
    {
     "name": "stdout",
     "output_type": "stream",
     "text": [
      "Some parameters are not matching\n",
      "\n",
      "No value were found for the period and the project tested\n",
      "\n",
      "Test with model cnrm_cm6_1_hr\n",
      "path_for_file does not exist: the data may not have been downloaded\n",
      "file_download does not exist: the data were not downloaded\n",
      "Some parameters are not matching\n",
      "\n",
      "No value were found for the period and the project tested\n",
      "\n",
      "Test with model e3sm_1_0\n",
      "path_for_file does not exist: the data may not have been downloaded\n",
      "file_download does not exist: the data were not downloaded\n",
      "Some parameters are not matching\n",
      "\n",
      "No value were found for the period and the project tested\n",
      "\n",
      "Test with model e3sm_1_1_eca\n",
      "path_for_file does not exist: the data may not have been downloaded\n",
      "file_download does not exist: the data were not downloaded\n"
     ]
    },
    {
     "name": "stderr",
     "output_type": "stream",
     "text": [
      "2023-06-26 12:52:15,818 INFO Welcome to the CDS\n",
      "2023-06-26 12:52:15,819 INFO Sending request to https://cds.climate.copernicus.eu/api/v2/resources/projections-cmip6\n",
      "2023-06-26 12:52:15,945 INFO Welcome to the CDS\n",
      "2023-06-26 12:52:15,946 INFO Sending request to https://cds.climate.copernicus.eu/api/v2/resources/projections-cmip6\n"
     ]
    },
    {
     "name": "stdout",
     "output_type": "stream",
     "text": [
      "Some parameters are not matching\n",
      "\n",
      "No value were found for the period and the project tested\n",
      "\n",
      "Test with model ec_earth3_aerchem\n",
      "path_for_file does not exist: the data may not have been downloaded\n",
      "file_download does not exist: the data were not downloaded\n",
      "Some parameters are not matching\n",
      "\n",
      "No value were found for the period and the project tested\n",
      "\n",
      "Test with model ec_earth3_veg\n",
      "path_for_file does not exist: the data may not have been downloaded\n",
      "file_download does not exist: the data were not downloaded\n"
     ]
    },
    {
     "name": "stderr",
     "output_type": "stream",
     "text": [
      "2023-06-26 12:52:16,043 INFO Welcome to the CDS\n",
      "2023-06-26 12:52:16,044 INFO Sending request to https://cds.climate.copernicus.eu/api/v2/resources/projections-cmip6\n",
      "2023-06-26 12:52:16,205 INFO Welcome to the CDS\n",
      "2023-06-26 12:52:16,207 INFO Sending request to https://cds.climate.copernicus.eu/api/v2/resources/projections-cmip6\n"
     ]
    },
    {
     "name": "stdout",
     "output_type": "stream",
     "text": [
      "Some parameters are not matching\n",
      "\n",
      "No value were found for the period and the project tested\n",
      "\n",
      "Test with model fgoals_f3_l\n",
      "path_for_file does not exist: the data may not have been downloaded\n",
      "file_download does not exist: the data were not downloaded\n",
      "Some parameters are not matching\n",
      "\n",
      "No value were found for the period and the project tested\n",
      "\n",
      "Test with model fio_esm_2_0\n"
     ]
    },
    {
     "name": "stderr",
     "output_type": "stream",
     "text": [
      "2023-06-26 12:52:16,342 INFO Welcome to the CDS\n",
      "2023-06-26 12:52:16,344 INFO Sending request to https://cds.climate.copernicus.eu/api/v2/resources/projections-cmip6\n"
     ]
    },
    {
     "name": "stdout",
     "output_type": "stream",
     "text": [
      "path_for_file does not exist: the data may not have been downloaded\n",
      "file_download does not exist: the data were not downloaded\n",
      "Some parameters are not matching\n",
      "\n",
      "No value were found for the period and the project tested\n",
      "\n",
      "Test with model giss_e2_1_g\n",
      "path_for_file does not exist: the data may not have been downloaded\n",
      "file_download does not exist: the data were not downloaded\n"
     ]
    },
    {
     "name": "stderr",
     "output_type": "stream",
     "text": [
      "2023-06-26 12:52:16,479 INFO Welcome to the CDS\n",
      "2023-06-26 12:52:16,480 INFO Sending request to https://cds.climate.copernicus.eu/api/v2/resources/projections-cmip6\n",
      "2023-06-26 12:52:16,630 INFO Welcome to the CDS\n",
      "2023-06-26 12:52:16,631 INFO Sending request to https://cds.climate.copernicus.eu/api/v2/resources/projections-cmip6\n"
     ]
    },
    {
     "name": "stdout",
     "output_type": "stream",
     "text": [
      "Some parameters are not matching\n",
      "\n",
      "No value were found for the period and the project tested\n",
      "\n",
      "Test with model hadgem3_gc31_ll\n",
      "path_for_file does not exist: the data may not have been downloaded\n",
      "file_download does not exist: the data were not downloaded\n",
      "Some parameters are not matching\n",
      "\n",
      "No value were found for the period and the project tested\n",
      "\n",
      "Test with model iitm_esm\n",
      "path_for_file does not exist: the data may not have been downloaded\n"
     ]
    },
    {
     "name": "stderr",
     "output_type": "stream",
     "text": [
      "2023-06-26 12:52:16,759 INFO Welcome to the CDS\n",
      "2023-06-26 12:52:16,760 INFO Sending request to https://cds.climate.copernicus.eu/api/v2/resources/projections-cmip6\n",
      "2023-06-26 12:52:16,903 INFO Welcome to the CDS\n"
     ]
    },
    {
     "name": "stdout",
     "output_type": "stream",
     "text": [
      "file_download does not exist: the data were not downloaded\n",
      "Some parameters are not matching\n",
      "\n",
      "No value were found for the period and the project tested\n",
      "\n",
      "Test with model inm_cm5_0\n",
      "path_for_file does not exist: the data may not have been downloaded\n",
      "file_download does not exist: the data were not downloaded\n"
     ]
    },
    {
     "name": "stderr",
     "output_type": "stream",
     "text": [
      "2023-06-26 12:52:16,905 INFO Sending request to https://cds.climate.copernicus.eu/api/v2/resources/projections-cmip6\n",
      "2023-06-26 12:52:17,072 INFO Welcome to the CDS\n",
      "2023-06-26 12:52:17,073 INFO Sending request to https://cds.climate.copernicus.eu/api/v2/resources/projections-cmip6\n"
     ]
    },
    {
     "name": "stdout",
     "output_type": "stream",
     "text": [
      "Some parameters are not matching\n",
      "\n",
      "No value were found for the period and the project tested\n",
      "\n",
      "Test with model ipsl_cm6a_lr\n",
      "path_for_file does not exist: the data may not have been downloaded\n",
      "file_download does not exist: the data were not downloaded\n",
      "Some parameters are not matching\n",
      "\n",
      "No value were found for the period and the project tested\n",
      "\n",
      "Test with model kiost_esm\n"
     ]
    },
    {
     "name": "stderr",
     "output_type": "stream",
     "text": [
      "2023-06-26 12:52:17,250 INFO Welcome to the CDS\n",
      "2023-06-26 12:52:17,251 INFO Sending request to https://cds.climate.copernicus.eu/api/v2/resources/projections-cmip6\n"
     ]
    },
    {
     "name": "stdout",
     "output_type": "stream",
     "text": [
      "path_for_file does not exist: the data may not have been downloaded\n",
      "file_download does not exist: the data were not downloaded\n",
      "Some parameters are not matching\n",
      "\n",
      "No value were found for the period and the project tested\n",
      "\n",
      "Test with model miroc6\n",
      "path_for_file does not exist: the data may not have been downloaded\n"
     ]
    },
    {
     "name": "stderr",
     "output_type": "stream",
     "text": [
      "2023-06-26 12:52:17,432 INFO Welcome to the CDS\n",
      "2023-06-26 12:52:17,434 INFO Sending request to https://cds.climate.copernicus.eu/api/v2/resources/projections-cmip6\n"
     ]
    },
    {
     "name": "stdout",
     "output_type": "stream",
     "text": [
      "file_download does not exist: the data were not downloaded\n",
      "Some parameters are not matching\n",
      "\n",
      "No value were found for the period and the project tested\n",
      "\n",
      "Test with model miroc_es2l\n",
      "path_for_file does not exist: the data may not have been downloaded\n",
      "file_download does not exist: the data were not downloaded\n"
     ]
    },
    {
     "name": "stderr",
     "output_type": "stream",
     "text": [
      "2023-06-26 12:52:17,597 INFO Welcome to the CDS\n",
      "2023-06-26 12:52:17,598 INFO Sending request to https://cds.climate.copernicus.eu/api/v2/resources/projections-cmip6\n",
      "2023-06-26 12:52:17,767 INFO Welcome to the CDS\n",
      "2023-06-26 12:52:17,769 INFO Sending request to https://cds.climate.copernicus.eu/api/v2/resources/projections-cmip6\n"
     ]
    },
    {
     "name": "stdout",
     "output_type": "stream",
     "text": [
      "Some parameters are not matching\n",
      "\n",
      "No value were found for the period and the project tested\n",
      "\n",
      "Test with model mpi_esm1_2_hr\n",
      "path_for_file does not exist: the data may not have been downloaded\n",
      "file_download does not exist: the data were not downloaded\n",
      "Some parameters are not matching\n",
      "\n",
      "No value were found for the period and the project tested\n",
      "\n",
      "Test with model mri_esm2_0\n"
     ]
    },
    {
     "name": "stderr",
     "output_type": "stream",
     "text": [
      "2023-06-26 12:52:17,914 INFO Welcome to the CDS\n",
      "2023-06-26 12:52:17,915 INFO Sending request to https://cds.climate.copernicus.eu/api/v2/resources/projections-cmip6\n"
     ]
    },
    {
     "name": "stdout",
     "output_type": "stream",
     "text": [
      "path_for_file does not exist: the data may not have been downloaded\n",
      "file_download does not exist: the data were not downloaded\n",
      "Some parameters are not matching\n",
      "\n",
      "No value were found for the period and the project tested\n",
      "\n",
      "Test with model norcpm1\n",
      "path_for_file does not exist: the data may not have been downloaded\n"
     ]
    },
    {
     "name": "stderr",
     "output_type": "stream",
     "text": [
      "2023-06-26 12:52:18,115 INFO Welcome to the CDS\n",
      "2023-06-26 12:52:18,117 INFO Sending request to https://cds.climate.copernicus.eu/api/v2/resources/projections-cmip6\n"
     ]
    },
    {
     "name": "stdout",
     "output_type": "stream",
     "text": [
      "file_download does not exist: the data were not downloaded\n",
      "Some parameters are not matching\n",
      "\n",
      "No value were found for the period and the project tested\n",
      "\n",
      "Test with model noresm2_mm\n",
      "path_for_file does not exist: the data may not have been downloaded\n",
      "file_download does not exist: the data were not downloaded\n"
     ]
    },
    {
     "name": "stderr",
     "output_type": "stream",
     "text": [
      "2023-06-26 12:52:18,263 INFO Welcome to the CDS\n",
      "2023-06-26 12:52:18,263 INFO Sending request to https://cds.climate.copernicus.eu/api/v2/resources/projections-cmip6\n",
      "2023-06-26 12:52:18,388 INFO Welcome to the CDS\n",
      "2023-06-26 12:52:18,389 INFO Sending request to https://cds.climate.copernicus.eu/api/v2/resources/projections-cmip6\n"
     ]
    },
    {
     "name": "stdout",
     "output_type": "stream",
     "text": [
      "Some parameters are not matching\n",
      "\n",
      "No value were found for the period and the project tested\n",
      "\n",
      "Test with model taiesm1\n",
      "path_for_file does not exist: the data may not have been downloaded\n",
      "file_download does not exist: the data were not downloaded\n",
      "Some parameters are not matching\n",
      "\n",
      "No value were found for the period and the project tested\n",
      "\n",
      "Test with model access_esm1_5\n",
      "path_for_file does not exist: the data may not have been downloaded\n"
     ]
    },
    {
     "name": "stderr",
     "output_type": "stream",
     "text": [
      "2023-06-26 12:52:18,536 INFO Welcome to the CDS\n",
      "2023-06-26 12:52:18,538 INFO Sending request to https://cds.climate.copernicus.eu/api/v2/resources/projections-cmip6\n"
     ]
    },
    {
     "name": "stdout",
     "output_type": "stream",
     "text": [
      "file_download does not exist: the data were not downloaded\n",
      "Some parameters are not matching\n",
      "\n",
      "No value were found for the period and the project tested\n",
      "\n",
      "Test with model awi_esm_1_1_lr\n",
      "path_for_file does not exist: the data may not have been downloaded\n",
      "file_download does not exist: the data were not downloaded\n"
     ]
    },
    {
     "name": "stderr",
     "output_type": "stream",
     "text": [
      "2023-06-26 12:52:18,693 INFO Welcome to the CDS\n",
      "2023-06-26 12:52:18,694 INFO Sending request to https://cds.climate.copernicus.eu/api/v2/resources/projections-cmip6\n",
      "2023-06-26 12:52:18,853 INFO Welcome to the CDS\n",
      "2023-06-26 12:52:18,854 INFO Sending request to https://cds.climate.copernicus.eu/api/v2/resources/projections-cmip6\n"
     ]
    },
    {
     "name": "stdout",
     "output_type": "stream",
     "text": [
      "Some parameters are not matching\n",
      "\n",
      "No value were found for the period and the project tested\n",
      "\n",
      "Test with model bcc_esm1\n",
      "path_for_file does not exist: the data may not have been downloaded\n",
      "file_download does not exist: the data were not downloaded\n",
      "Some parameters are not matching\n",
      "\n",
      "No value were found for the period and the project tested\n",
      "\n",
      "Test with model canesm5\n",
      "path_for_file does not exist: the data may not have been downloaded\n"
     ]
    },
    {
     "name": "stderr",
     "output_type": "stream",
     "text": [
      "2023-06-26 12:52:19,113 INFO Welcome to the CDS\n",
      "2023-06-26 12:52:19,115 INFO Sending request to https://cds.climate.copernicus.eu/api/v2/resources/projections-cmip6\n"
     ]
    },
    {
     "name": "stdout",
     "output_type": "stream",
     "text": [
      "file_download does not exist: the data were not downloaded\n",
      "Some parameters are not matching\n",
      "\n",
      "No value were found for the period and the project tested\n",
      "\n",
      "Test with model cesm2\n",
      "path_for_file does not exist: the data may not have been downloaded\n"
     ]
    },
    {
     "name": "stderr",
     "output_type": "stream",
     "text": [
      "2023-06-26 12:52:19,979 INFO Welcome to the CDS\n",
      "2023-06-26 12:52:19,981 INFO Sending request to https://cds.climate.copernicus.eu/api/v2/resources/projections-cmip6\n"
     ]
    },
    {
     "name": "stdout",
     "output_type": "stream",
     "text": [
      "file_download does not exist: the data were not downloaded\n",
      "Some parameters are not matching\n",
      "\n",
      "No value were found for the period and the project tested\n",
      "\n",
      "Test with model cesm2_waccm\n",
      "path_for_file does not exist: the data may not have been downloaded\n"
     ]
    },
    {
     "name": "stderr",
     "output_type": "stream",
     "text": [
      "2023-06-26 12:52:20,944 INFO Welcome to the CDS\n",
      "2023-06-26 12:52:20,946 INFO Sending request to https://cds.climate.copernicus.eu/api/v2/resources/projections-cmip6\n"
     ]
    },
    {
     "name": "stdout",
     "output_type": "stream",
     "text": [
      "file_download does not exist: the data were not downloaded\n",
      "Some parameters are not matching\n",
      "\n",
      "No value were found for the period and the project tested\n",
      "\n",
      "Test with model ciesm\n",
      "path_for_file does not exist: the data may not have been downloaded\n"
     ]
    },
    {
     "name": "stderr",
     "output_type": "stream",
     "text": [
      "2023-06-26 12:52:21,862 INFO Welcome to the CDS\n",
      "2023-06-26 12:52:21,863 INFO Sending request to https://cds.climate.copernicus.eu/api/v2/resources/projections-cmip6\n"
     ]
    },
    {
     "name": "stdout",
     "output_type": "stream",
     "text": [
      "file_download does not exist: the data were not downloaded\n",
      "Some parameters are not matching\n",
      "\n",
      "No value were found for the period and the project tested\n",
      "\n",
      "Test with model cmcc_cm2_sr5\n",
      "path_for_file does not exist: the data may not have been downloaded\n"
     ]
    },
    {
     "name": "stderr",
     "output_type": "stream",
     "text": [
      "2023-06-26 12:52:22,699 INFO Welcome to the CDS\n",
      "2023-06-26 12:52:22,701 INFO Sending request to https://cds.climate.copernicus.eu/api/v2/resources/projections-cmip6\n"
     ]
    },
    {
     "name": "stdout",
     "output_type": "stream",
     "text": [
      "file_download does not exist: the data were not downloaded\n",
      "Some parameters are not matching\n",
      "\n",
      "No value were found for the period and the project tested\n",
      "\n",
      "Test with model cnrm_cm6_1\n",
      "path_for_file does not exist: the data may not have been downloaded\n"
     ]
    },
    {
     "name": "stderr",
     "output_type": "stream",
     "text": [
      "2023-06-26 12:52:23,559 INFO Welcome to the CDS\n",
      "2023-06-26 12:52:23,561 INFO Sending request to https://cds.climate.copernicus.eu/api/v2/resources/projections-cmip6\n"
     ]
    },
    {
     "name": "stdout",
     "output_type": "stream",
     "text": [
      "file_download does not exist: the data were not downloaded\n",
      "Some parameters are not matching\n",
      "\n",
      "No value were found for the period and the project tested\n",
      "\n",
      "Test with model cnrm_esm2_1\n",
      "path_for_file does not exist: the data may not have been downloaded\n"
     ]
    },
    {
     "name": "stderr",
     "output_type": "stream",
     "text": [
      "2023-06-26 12:52:24,389 INFO Welcome to the CDS\n",
      "2023-06-26 12:52:24,390 INFO Sending request to https://cds.climate.copernicus.eu/api/v2/resources/projections-cmip6\n"
     ]
    },
    {
     "name": "stdout",
     "output_type": "stream",
     "text": [
      "file_download does not exist: the data were not downloaded\n",
      "Some parameters are not matching\n",
      "\n",
      "No value were found for the period and the project tested\n",
      "\n",
      "Test with model e3sm_1_1\n",
      "path_for_file does not exist: the data may not have been downloaded\n"
     ]
    },
    {
     "name": "stderr",
     "output_type": "stream",
     "text": [
      "2023-06-26 12:52:25,353 INFO Welcome to the CDS\n",
      "2023-06-26 12:52:25,354 INFO Sending request to https://cds.climate.copernicus.eu/api/v2/resources/projections-cmip6\n"
     ]
    },
    {
     "name": "stdout",
     "output_type": "stream",
     "text": [
      "file_download does not exist: the data were not downloaded\n",
      "Some parameters are not matching\n",
      "\n",
      "No value were found for the period and the project tested\n",
      "\n",
      "Test with model ec_earth3\n",
      "path_for_file does not exist: the data may not have been downloaded\n"
     ]
    },
    {
     "name": "stderr",
     "output_type": "stream",
     "text": [
      "2023-06-26 12:52:26,393 INFO Welcome to the CDS\n",
      "2023-06-26 12:52:26,394 INFO Sending request to https://cds.climate.copernicus.eu/api/v2/resources/projections-cmip6\n"
     ]
    },
    {
     "name": "stdout",
     "output_type": "stream",
     "text": [
      "file_download does not exist: the data were not downloaded\n",
      "Some parameters are not matching\n",
      "\n",
      "No value were found for the period and the project tested\n",
      "\n",
      "Test with model ec_earth3_cc\n",
      "path_for_file does not exist: the data may not have been downloaded\n"
     ]
    },
    {
     "name": "stderr",
     "output_type": "stream",
     "text": [
      "2023-06-26 12:52:27,892 INFO Welcome to the CDS\n",
      "2023-06-26 12:52:27,897 INFO Sending request to https://cds.climate.copernicus.eu/api/v2/resources/projections-cmip6\n"
     ]
    },
    {
     "name": "stdout",
     "output_type": "stream",
     "text": [
      "file_download does not exist: the data were not downloaded\n",
      "Some parameters are not matching\n",
      "\n",
      "No value were found for the period and the project tested\n",
      "\n",
      "Test with model ec_earth3_veg_lr\n",
      "path_for_file does not exist: the data may not have been downloaded\n",
      "file_download does not exist: the data were not downloaded\n"
     ]
    },
    {
     "name": "stderr",
     "output_type": "stream",
     "text": [
      "2023-06-26 12:52:30,404 INFO Welcome to the CDS\n",
      "2023-06-26 12:52:30,405 INFO Sending request to https://cds.climate.copernicus.eu/api/v2/resources/projections-cmip6\n"
     ]
    },
    {
     "name": "stdout",
     "output_type": "stream",
     "text": [
      "Some parameters are not matching\n",
      "\n",
      "No value were found for the period and the project tested\n",
      "\n",
      "Test with model fgoals_g3\n"
     ]
    },
    {
     "name": "stderr",
     "output_type": "stream",
     "text": [
      "2023-06-26 12:52:30,889 INFO Welcome to the CDS\n",
      "2023-06-26 12:52:30,890 INFO Sending request to https://cds.climate.copernicus.eu/api/v2/resources/projections-cmip6\n"
     ]
    },
    {
     "name": "stdout",
     "output_type": "stream",
     "text": [
      "path_for_file does not exist: the data may not have been downloaded\n",
      "file_download does not exist: the data were not downloaded\n",
      "Some parameters are not matching\n",
      "\n",
      "No value were found for the period and the project tested\n",
      "\n",
      "Test with model gfdl_esm4\n",
      "path_for_file does not exist: the data may not have been downloaded\n"
     ]
    },
    {
     "name": "stderr",
     "output_type": "stream",
     "text": [
      "2023-06-26 12:52:31,061 INFO Welcome to the CDS\n",
      "2023-06-26 12:52:31,062 INFO Sending request to https://cds.climate.copernicus.eu/api/v2/resources/projections-cmip6\n"
     ]
    },
    {
     "name": "stdout",
     "output_type": "stream",
     "text": [
      "file_download does not exist: the data were not downloaded\n",
      "Some parameters are not matching\n",
      "\n",
      "No value were found for the period and the project tested\n",
      "\n",
      "Test with model giss_e2_1_h\n",
      "path_for_file does not exist: the data may not have been downloaded\n",
      "file_download does not exist: the data were not downloaded\n"
     ]
    },
    {
     "name": "stderr",
     "output_type": "stream",
     "text": [
      "2023-06-26 12:52:31,187 INFO Welcome to the CDS\n",
      "2023-06-26 12:52:31,189 INFO Sending request to https://cds.climate.copernicus.eu/api/v2/resources/projections-cmip6\n",
      "2023-06-26 12:52:31,295 INFO Welcome to the CDS\n",
      "2023-06-26 12:52:31,297 INFO Sending request to https://cds.climate.copernicus.eu/api/v2/resources/projections-cmip6\n"
     ]
    },
    {
     "name": "stdout",
     "output_type": "stream",
     "text": [
      "Some parameters are not matching\n",
      "\n",
      "No value were found for the period and the project tested\n",
      "\n",
      "Test with model hadgem3_gc31_mm\n",
      "path_for_file does not exist: the data may not have been downloaded\n",
      "file_download does not exist: the data were not downloaded\n",
      "Some parameters are not matching\n",
      "\n",
      "No value were found for the period and the project tested\n",
      "\n",
      "Test with model inm_cm4_8\n",
      "path_for_file does not exist: the data may not have been downloaded\n",
      "file_download does not exist: the data were not downloaded\n"
     ]
    },
    {
     "name": "stderr",
     "output_type": "stream",
     "text": [
      "2023-06-26 12:52:31,411 INFO Welcome to the CDS\n",
      "2023-06-26 12:52:31,413 INFO Sending request to https://cds.climate.copernicus.eu/api/v2/resources/projections-cmip6\n",
      "2023-06-26 12:52:31,564 INFO Welcome to the CDS\n",
      "2023-06-26 12:52:31,565 INFO Sending request to https://cds.climate.copernicus.eu/api/v2/resources/projections-cmip6\n"
     ]
    },
    {
     "name": "stdout",
     "output_type": "stream",
     "text": [
      "Some parameters are not matching\n",
      "\n",
      "No value were found for the period and the project tested\n",
      "\n",
      "Test with model ipsl_cm5a2_inca\n",
      "path_for_file does not exist: the data may not have been downloaded\n",
      "file_download does not exist: the data were not downloaded\n",
      "Some parameters are not matching\n",
      "\n",
      "No value were found for the period and the project tested\n",
      "\n",
      "Test with model kace_1_0_g\n",
      "path_for_file does not exist: the data may not have been downloaded\n",
      "file_download does not exist: the data were not downloaded\n"
     ]
    },
    {
     "name": "stderr",
     "output_type": "stream",
     "text": [
      "2023-06-26 12:52:31,660 INFO Welcome to the CDS\n",
      "2023-06-26 12:52:31,661 INFO Sending request to https://cds.climate.copernicus.eu/api/v2/resources/projections-cmip6\n",
      "2023-06-26 12:52:31,776 INFO Welcome to the CDS\n",
      "2023-06-26 12:52:31,778 INFO Sending request to https://cds.climate.copernicus.eu/api/v2/resources/projections-cmip6\n",
      "2023-06-26 12:52:31,854 INFO Welcome to the CDS\n"
     ]
    },
    {
     "name": "stdout",
     "output_type": "stream",
     "text": [
      "Some parameters are not matching\n",
      "\n",
      "No value were found for the period and the project tested\n",
      "\n",
      "Test with model mcm_ua_1_0\n",
      "path_for_file does not exist: the data may not have been downloaded\n",
      "file_download does not exist: the data were not downloaded\n",
      "Some parameters are not matching\n",
      "\n",
      "No value were found for the period and the project tested\n",
      "\n",
      "Test with model miroc_es2h\n",
      "path_for_file does not exist: the data may not have been downloaded\n",
      "file_download does not exist: the data were not downloaded\n"
     ]
    },
    {
     "name": "stderr",
     "output_type": "stream",
     "text": [
      "2023-06-26 12:52:31,856 INFO Sending request to https://cds.climate.copernicus.eu/api/v2/resources/projections-cmip6\n",
      "2023-06-26 12:52:31,996 INFO Welcome to the CDS\n",
      "2023-06-26 12:52:31,997 INFO Sending request to https://cds.climate.copernicus.eu/api/v2/resources/projections-cmip6\n"
     ]
    },
    {
     "name": "stdout",
     "output_type": "stream",
     "text": [
      "Some parameters are not matching\n",
      "\n",
      "No value were found for the period and the project tested\n",
      "\n",
      "Test with model mpi_esm_1_2_ham\n",
      "path_for_file does not exist: the data may not have been downloaded\n",
      "file_download does not exist: the data were not downloaded\n",
      "Some parameters are not matching\n",
      "\n",
      "No value were found for the period and the project tested\n",
      "\n",
      "Test with model mpi_esm1_2_lr\n",
      "path_for_file does not exist: the data may not have been downloaded\n"
     ]
    },
    {
     "name": "stderr",
     "output_type": "stream",
     "text": [
      "2023-06-26 12:52:32,163 INFO Welcome to the CDS\n",
      "2023-06-26 12:52:32,165 INFO Sending request to https://cds.climate.copernicus.eu/api/v2/resources/projections-cmip6\n"
     ]
    },
    {
     "name": "stdout",
     "output_type": "stream",
     "text": [
      "file_download does not exist: the data were not downloaded\n",
      "Some parameters are not matching\n",
      "\n",
      "No value were found for the period and the project tested\n",
      "\n",
      "Test with model nesm3\n",
      "path_for_file does not exist: the data may not have been downloaded\n",
      "file_download does not exist: the data were not downloaded\n"
     ]
    },
    {
     "name": "stderr",
     "output_type": "stream",
     "text": [
      "2023-06-26 12:52:32,285 INFO Welcome to the CDS\n",
      "2023-06-26 12:52:32,287 INFO Sending request to https://cds.climate.copernicus.eu/api/v2/resources/projections-cmip6\n",
      "2023-06-26 12:52:32,422 INFO Welcome to the CDS\n",
      "2023-06-26 12:52:32,424 INFO Sending request to https://cds.climate.copernicus.eu/api/v2/resources/projections-cmip6\n"
     ]
    },
    {
     "name": "stdout",
     "output_type": "stream",
     "text": [
      "Some parameters are not matching\n",
      "\n",
      "No value were found for the period and the project tested\n",
      "\n",
      "Test with model noresm2_lm\n",
      "path_for_file does not exist: the data may not have been downloaded\n",
      "file_download does not exist: the data were not downloaded\n",
      "Some parameters are not matching\n",
      "\n",
      "No value were found for the period and the project tested\n",
      "\n",
      "Test with model sam0_unicon\n",
      "path_for_file does not exist: the data may not have been downloaded\n"
     ]
    },
    {
     "name": "stderr",
     "output_type": "stream",
     "text": [
      "2023-06-26 12:52:32,576 INFO Welcome to the CDS\n",
      "2023-06-26 12:52:32,578 INFO Sending request to https://cds.climate.copernicus.eu/api/v2/resources/projections-cmip6\n"
     ]
    },
    {
     "name": "stdout",
     "output_type": "stream",
     "text": [
      "file_download does not exist: the data were not downloaded\n",
      "Some parameters are not matching\n",
      "\n",
      "No value were found for the period and the project tested\n",
      "\n",
      "Test with model ukesm1_0_ll\n",
      "path_for_file does not exist: the data may not have been downloaded\n",
      "file_download does not exist: the data were not downloaded\n"
     ]
    },
    {
     "name": "stderr",
     "output_type": "stream",
     "text": [
      "2023-06-26 12:52:32,725 INFO Welcome to the CDS\n",
      "2023-06-26 12:52:32,727 INFO Sending request to https://cds.climate.copernicus.eu/api/v2/resources/projections-cmip6\n"
     ]
    },
    {
     "name": "stdout",
     "output_type": "stream",
     "text": [
      "Some parameters are not matching\n",
      "\n",
      "No value were found for the period and the project tested\n",
      "\n",
      "############################### Project name: Chimoio_WTP_EIB ###############################\n"
     ]
    },
    {
     "name": "stderr",
     "output_type": "stream",
     "text": [
      "2023-06-26 12:52:34,189 INFO Welcome to the CDS\n",
      "2023-06-26 12:52:34,192 INFO Sending request to https://cds.climate.copernicus.eu/api/v2/resources/projections-cmip6\n",
      "2023-06-26 12:52:34,257 INFO Welcome to the CDS\n",
      "2023-06-26 12:52:34,258 INFO Sending request to https://cds.climate.copernicus.eu/api/v2/resources/projections-cmip6\n",
      "2023-06-26 12:52:34,317 INFO Welcome to the CDS\n"
     ]
    },
    {
     "name": "stdout",
     "output_type": "stream",
     "text": [
      "FUNCTION DATAFRAME_COPERNICUS\n",
      "Test with scenario historical\n",
      "Test with model access_cm2\n",
      "path_for_file does not exist: the data may not have been downloaded\n",
      "file_download does not exist: the data were not downloaded\n",
      "Some parameters are not matching\n",
      "\n",
      "No value were found for the period and the project tested\n",
      "\n",
      "Test with model awi_cm_1_1_mr\n",
      "path_for_file does not exist: the data may not have been downloaded\n",
      "file_download does not exist: the data were not downloaded\n",
      "Some parameters are not matching\n",
      "\n",
      "No value were found for the period and the project tested\n",
      "\n",
      "Test with model bcc_csm2_mr\n",
      "path_for_file does not exist: the data may not have been downloaded\n",
      "file_download does not exist: the data were not downloaded\n"
     ]
    },
    {
     "name": "stderr",
     "output_type": "stream",
     "text": [
      "2023-06-26 12:52:34,319 INFO Sending request to https://cds.climate.copernicus.eu/api/v2/resources/projections-cmip6\n",
      "2023-06-26 12:52:34,387 INFO Welcome to the CDS\n",
      "2023-06-26 12:52:34,389 INFO Sending request to https://cds.climate.copernicus.eu/api/v2/resources/projections-cmip6\n",
      "2023-06-26 12:52:34,462 INFO Welcome to the CDS\n",
      "2023-06-26 12:52:34,464 INFO Sending request to https://cds.climate.copernicus.eu/api/v2/resources/projections-cmip6\n"
     ]
    },
    {
     "name": "stdout",
     "output_type": "stream",
     "text": [
      "Some parameters are not matching\n",
      "\n",
      "No value were found for the period and the project tested\n",
      "\n",
      "Test with model cams_csm1_0\n",
      "path_for_file does not exist: the data may not have been downloaded\n",
      "file_download does not exist: the data were not downloaded\n",
      "Some parameters are not matching\n",
      "\n",
      "No value were found for the period and the project tested\n",
      "\n",
      "Test with model canesm5_canoe\n",
      "path_for_file does not exist: the data may not have been downloaded\n",
      "file_download does not exist: the data were not downloaded\n",
      "Some parameters are not matching\n",
      "\n",
      "No value were found for the period and the project tested\n",
      "\n",
      "Test with model cesm2_fv2\n",
      "path_for_file does not exist: the data may not have been downloaded\n",
      "file_download does not exist: the data were not downloaded\n"
     ]
    },
    {
     "name": "stderr",
     "output_type": "stream",
     "text": [
      "2023-06-26 12:52:34,537 INFO Welcome to the CDS\n",
      "2023-06-26 12:52:34,540 INFO Sending request to https://cds.climate.copernicus.eu/api/v2/resources/projections-cmip6\n",
      "2023-06-26 12:52:34,609 INFO Welcome to the CDS\n",
      "2023-06-26 12:52:34,612 INFO Sending request to https://cds.climate.copernicus.eu/api/v2/resources/projections-cmip6\n",
      "2023-06-26 12:52:34,684 INFO Welcome to the CDS\n",
      "2023-06-26 12:52:34,687 INFO Sending request to https://cds.climate.copernicus.eu/api/v2/resources/projections-cmip6\n"
     ]
    },
    {
     "name": "stdout",
     "output_type": "stream",
     "text": [
      "Some parameters are not matching\n",
      "\n",
      "No value were found for the period and the project tested\n",
      "\n",
      "Test with model cesm2_waccm_fv2\n",
      "path_for_file does not exist: the data may not have been downloaded\n",
      "file_download does not exist: the data were not downloaded\n",
      "Some parameters are not matching\n",
      "\n",
      "No value were found for the period and the project tested\n",
      "\n",
      "Test with model cmcc_cm2_hr4\n",
      "path_for_file does not exist: the data may not have been downloaded\n",
      "file_download does not exist: the data were not downloaded\n",
      "Some parameters are not matching\n",
      "\n",
      "No value were found for the period and the project tested\n",
      "\n",
      "Test with model cmcc_esm2\n",
      "path_for_file does not exist: the data may not have been downloaded\n",
      "file_download does not exist: the data were not downloaded\n"
     ]
    },
    {
     "name": "stderr",
     "output_type": "stream",
     "text": [
      "2023-06-26 12:52:34,752 INFO Welcome to the CDS\n",
      "2023-06-26 12:52:34,753 INFO Sending request to https://cds.climate.copernicus.eu/api/v2/resources/projections-cmip6\n",
      "2023-06-26 12:52:34,821 INFO Welcome to the CDS\n",
      "2023-06-26 12:52:34,823 INFO Sending request to https://cds.climate.copernicus.eu/api/v2/resources/projections-cmip6\n",
      "2023-06-26 12:52:34,879 INFO Welcome to the CDS\n",
      "2023-06-26 12:52:34,881 INFO Sending request to https://cds.climate.copernicus.eu/api/v2/resources/projections-cmip6\n",
      "2023-06-26 12:52:34,954 INFO Welcome to the CDS\n"
     ]
    },
    {
     "name": "stdout",
     "output_type": "stream",
     "text": [
      "Some parameters are not matching\n",
      "\n",
      "No value were found for the period and the project tested\n",
      "\n",
      "Test with model cnrm_cm6_1_hr\n",
      "path_for_file does not exist: the data may not have been downloaded\n",
      "file_download does not exist: the data were not downloaded\n",
      "Some parameters are not matching\n",
      "\n",
      "No value were found for the period and the project tested\n",
      "\n",
      "Test with model e3sm_1_0\n",
      "path_for_file does not exist: the data may not have been downloaded\n",
      "file_download does not exist: the data were not downloaded\n",
      "Some parameters are not matching\n",
      "\n",
      "No value were found for the period and the project tested\n",
      "\n",
      "Test with model e3sm_1_1_eca\n",
      "path_for_file does not exist: the data may not have been downloaded\n",
      "file_download does not exist: the data were not downloaded\n"
     ]
    },
    {
     "name": "stderr",
     "output_type": "stream",
     "text": [
      "2023-06-26 12:52:34,956 INFO Sending request to https://cds.climate.copernicus.eu/api/v2/resources/projections-cmip6\n",
      "2023-06-26 12:52:35,039 INFO Welcome to the CDS\n",
      "2023-06-26 12:52:35,041 INFO Sending request to https://cds.climate.copernicus.eu/api/v2/resources/projections-cmip6\n",
      "2023-06-26 12:52:35,105 INFO Welcome to the CDS\n",
      "2023-06-26 12:52:35,106 INFO Sending request to https://cds.climate.copernicus.eu/api/v2/resources/projections-cmip6\n"
     ]
    },
    {
     "name": "stdout",
     "output_type": "stream",
     "text": [
      "Some parameters are not matching\n",
      "\n",
      "No value were found for the period and the project tested\n",
      "\n",
      "Test with model ec_earth3_aerchem\n",
      "path_for_file does not exist: the data may not have been downloaded\n",
      "file_download does not exist: the data were not downloaded\n",
      "Some parameters are not matching\n",
      "\n",
      "No value were found for the period and the project tested\n",
      "\n",
      "Test with model ec_earth3_veg\n",
      "path_for_file does not exist: the data may not have been downloaded\n",
      "file_download does not exist: the data were not downloaded\n",
      "Some parameters are not matching\n",
      "\n",
      "No value were found for the period and the project tested\n",
      "\n",
      "Test with model fgoals_f3_l\n",
      "path_for_file does not exist: the data may not have been downloaded\n",
      "file_download does not exist: the data were not downloaded\n"
     ]
    },
    {
     "name": "stderr",
     "output_type": "stream",
     "text": [
      "2023-06-26 12:52:35,181 INFO Welcome to the CDS\n",
      "2023-06-26 12:52:35,183 INFO Sending request to https://cds.climate.copernicus.eu/api/v2/resources/projections-cmip6\n",
      "2023-06-26 12:52:35,263 INFO Welcome to the CDS\n",
      "2023-06-26 12:52:35,265 INFO Sending request to https://cds.climate.copernicus.eu/api/v2/resources/projections-cmip6\n",
      "2023-06-26 12:52:35,333 INFO Welcome to the CDS\n",
      "2023-06-26 12:52:35,335 INFO Sending request to https://cds.climate.copernicus.eu/api/v2/resources/projections-cmip6\n"
     ]
    },
    {
     "name": "stdout",
     "output_type": "stream",
     "text": [
      "Some parameters are not matching\n",
      "\n",
      "No value were found for the period and the project tested\n",
      "\n",
      "Test with model fio_esm_2_0\n",
      "path_for_file does not exist: the data may not have been downloaded\n",
      "file_download does not exist: the data were not downloaded\n",
      "Some parameters are not matching\n",
      "\n",
      "No value were found for the period and the project tested\n",
      "\n",
      "Test with model giss_e2_1_g\n",
      "path_for_file does not exist: the data may not have been downloaded\n",
      "file_download does not exist: the data were not downloaded\n",
      "Some parameters are not matching\n",
      "\n",
      "No value were found for the period and the project tested\n",
      "\n",
      "Test with model hadgem3_gc31_ll\n",
      "path_for_file does not exist: the data may not have been downloaded\n",
      "file_download does not exist: the data were not downloaded\n"
     ]
    },
    {
     "name": "stderr",
     "output_type": "stream",
     "text": [
      "2023-06-26 12:52:35,398 INFO Welcome to the CDS\n",
      "2023-06-26 12:52:35,400 INFO Sending request to https://cds.climate.copernicus.eu/api/v2/resources/projections-cmip6\n",
      "2023-06-26 12:52:35,503 INFO Welcome to the CDS\n",
      "2023-06-26 12:52:35,506 INFO Sending request to https://cds.climate.copernicus.eu/api/v2/resources/projections-cmip6\n",
      "2023-06-26 12:52:35,582 INFO Welcome to the CDS\n"
     ]
    },
    {
     "name": "stdout",
     "output_type": "stream",
     "text": [
      "Some parameters are not matching\n",
      "\n",
      "No value were found for the period and the project tested\n",
      "\n",
      "Test with model iitm_esm\n",
      "path_for_file does not exist: the data may not have been downloaded\n",
      "file_download does not exist: the data were not downloaded\n",
      "Some parameters are not matching\n",
      "\n",
      "No value were found for the period and the project tested\n",
      "\n",
      "Test with model inm_cm5_0\n",
      "path_for_file does not exist: the data may not have been downloaded\n",
      "file_download does not exist: the data were not downloaded\n"
     ]
    },
    {
     "name": "stderr",
     "output_type": "stream",
     "text": [
      "2023-06-26 12:52:35,585 INFO Sending request to https://cds.climate.copernicus.eu/api/v2/resources/projections-cmip6\n",
      "2023-06-26 12:52:35,671 INFO Welcome to the CDS\n",
      "2023-06-26 12:52:35,673 INFO Sending request to https://cds.climate.copernicus.eu/api/v2/resources/projections-cmip6\n",
      "2023-06-26 12:52:35,747 INFO Welcome to the CDS\n",
      "2023-06-26 12:52:35,749 INFO Sending request to https://cds.climate.copernicus.eu/api/v2/resources/projections-cmip6\n"
     ]
    },
    {
     "name": "stdout",
     "output_type": "stream",
     "text": [
      "Some parameters are not matching\n",
      "\n",
      "No value were found for the period and the project tested\n",
      "\n",
      "Test with model ipsl_cm6a_lr\n",
      "path_for_file does not exist: the data may not have been downloaded\n",
      "file_download does not exist: the data were not downloaded\n",
      "Some parameters are not matching\n",
      "\n",
      "No value were found for the period and the project tested\n",
      "\n",
      "Test with model kiost_esm\n",
      "path_for_file does not exist: the data may not have been downloaded\n",
      "file_download does not exist: the data were not downloaded\n",
      "Some parameters are not matching\n",
      "\n",
      "No value were found for the period and the project tested\n",
      "\n",
      "Test with model miroc6\n",
      "path_for_file does not exist: the data may not have been downloaded\n",
      "file_download does not exist: the data were not downloaded\n"
     ]
    },
    {
     "name": "stderr",
     "output_type": "stream",
     "text": [
      "2023-06-26 12:52:35,813 INFO Welcome to the CDS\n",
      "2023-06-26 12:52:35,814 INFO Sending request to https://cds.climate.copernicus.eu/api/v2/resources/projections-cmip6\n",
      "2023-06-26 12:52:35,882 INFO Welcome to the CDS\n",
      "2023-06-26 12:52:35,884 INFO Sending request to https://cds.climate.copernicus.eu/api/v2/resources/projections-cmip6\n",
      "2023-06-26 12:52:35,950 INFO Welcome to the CDS\n",
      "2023-06-26 12:52:35,952 INFO Sending request to https://cds.climate.copernicus.eu/api/v2/resources/projections-cmip6\n"
     ]
    },
    {
     "name": "stdout",
     "output_type": "stream",
     "text": [
      "Some parameters are not matching\n",
      "\n",
      "No value were found for the period and the project tested\n",
      "\n",
      "Test with model miroc_es2l\n",
      "path_for_file does not exist: the data may not have been downloaded\n",
      "file_download does not exist: the data were not downloaded\n",
      "Some parameters are not matching\n",
      "\n",
      "No value were found for the period and the project tested\n",
      "\n",
      "Test with model mpi_esm1_2_hr\n",
      "path_for_file does not exist: the data may not have been downloaded\n",
      "file_download does not exist: the data were not downloaded\n",
      "Some parameters are not matching\n",
      "\n",
      "No value were found for the period and the project tested\n",
      "\n",
      "Test with model mri_esm2_0\n",
      "path_for_file does not exist: the data may not have been downloaded\n",
      "file_download does not exist: the data were not downloaded\n"
     ]
    },
    {
     "name": "stderr",
     "output_type": "stream",
     "text": [
      "2023-06-26 12:52:36,045 INFO Welcome to the CDS\n",
      "2023-06-26 12:52:36,048 INFO Sending request to https://cds.climate.copernicus.eu/api/v2/resources/projections-cmip6\n",
      "2023-06-26 12:52:36,126 INFO Welcome to the CDS\n",
      "2023-06-26 12:52:36,129 INFO Sending request to https://cds.climate.copernicus.eu/api/v2/resources/projections-cmip6\n",
      "2023-06-26 12:52:36,214 INFO Welcome to the CDS\n",
      "2023-06-26 12:52:36,216 INFO Sending request to https://cds.climate.copernicus.eu/api/v2/resources/projections-cmip6\n"
     ]
    },
    {
     "name": "stdout",
     "output_type": "stream",
     "text": [
      "Some parameters are not matching\n",
      "\n",
      "No value were found for the period and the project tested\n",
      "\n",
      "Test with model norcpm1\n",
      "path_for_file does not exist: the data may not have been downloaded\n",
      "file_download does not exist: the data were not downloaded\n",
      "Some parameters are not matching\n",
      "\n",
      "No value were found for the period and the project tested\n",
      "\n",
      "Test with model noresm2_mm\n",
      "path_for_file does not exist: the data may not have been downloaded\n",
      "file_download does not exist: the data were not downloaded\n",
      "Some parameters are not matching\n",
      "\n",
      "No value were found for the period and the project tested\n",
      "\n",
      "Test with model taiesm1\n",
      "path_for_file does not exist: the data may not have been downloaded\n",
      "file_download does not exist: the data were not downloaded\n"
     ]
    },
    {
     "name": "stderr",
     "output_type": "stream",
     "text": [
      "2023-06-26 12:52:36,295 INFO Welcome to the CDS\n",
      "2023-06-26 12:52:36,297 INFO Sending request to https://cds.climate.copernicus.eu/api/v2/resources/projections-cmip6\n",
      "2023-06-26 12:52:36,422 INFO Welcome to the CDS\n",
      "2023-06-26 12:52:36,425 INFO Sending request to https://cds.climate.copernicus.eu/api/v2/resources/projections-cmip6\n",
      "2023-06-26 12:52:36,491 INFO Welcome to the CDS\n"
     ]
    },
    {
     "name": "stdout",
     "output_type": "stream",
     "text": [
      "Some parameters are not matching\n",
      "\n",
      "No value were found for the period and the project tested\n",
      "\n",
      "Test with model access_esm1_5\n",
      "path_for_file does not exist: the data may not have been downloaded\n",
      "file_download does not exist: the data were not downloaded\n",
      "Some parameters are not matching\n",
      "\n",
      "No value were found for the period and the project tested\n",
      "\n",
      "Test with model awi_esm_1_1_lr\n",
      "path_for_file does not exist: the data may not have been downloaded\n",
      "file_download does not exist: the data were not downloaded\n"
     ]
    },
    {
     "name": "stderr",
     "output_type": "stream",
     "text": [
      "2023-06-26 12:52:36,494 INFO Sending request to https://cds.climate.copernicus.eu/api/v2/resources/projections-cmip6\n",
      "2023-06-26 12:52:36,570 INFO Welcome to the CDS\n",
      "2023-06-26 12:52:36,572 INFO Sending request to https://cds.climate.copernicus.eu/api/v2/resources/projections-cmip6\n",
      "2023-06-26 12:52:36,655 INFO Welcome to the CDS\n",
      "2023-06-26 12:52:36,657 INFO Sending request to https://cds.climate.copernicus.eu/api/v2/resources/projections-cmip6\n"
     ]
    },
    {
     "name": "stdout",
     "output_type": "stream",
     "text": [
      "Some parameters are not matching\n",
      "\n",
      "No value were found for the period and the project tested\n",
      "\n",
      "Test with model bcc_esm1\n",
      "path_for_file does not exist: the data may not have been downloaded\n",
      "file_download does not exist: the data were not downloaded\n",
      "Some parameters are not matching\n",
      "\n",
      "No value were found for the period and the project tested\n",
      "\n",
      "Test with model canesm5\n",
      "path_for_file does not exist: the data may not have been downloaded\n",
      "file_download does not exist: the data were not downloaded\n",
      "Some parameters are not matching\n",
      "\n",
      "No value were found for the period and the project tested\n",
      "\n",
      "Test with model cesm2\n",
      "path_for_file does not exist: the data may not have been downloaded\n",
      "file_download does not exist: the data were not downloaded\n"
     ]
    },
    {
     "name": "stderr",
     "output_type": "stream",
     "text": [
      "2023-06-26 12:52:36,715 INFO Welcome to the CDS\n",
      "2023-06-26 12:52:36,717 INFO Sending request to https://cds.climate.copernicus.eu/api/v2/resources/projections-cmip6\n",
      "2023-06-26 12:52:36,772 INFO Welcome to the CDS\n",
      "2023-06-26 12:52:36,774 INFO Sending request to https://cds.climate.copernicus.eu/api/v2/resources/projections-cmip6\n",
      "2023-06-26 12:52:36,842 INFO Welcome to the CDS\n",
      "2023-06-26 12:52:36,844 INFO Sending request to https://cds.climate.copernicus.eu/api/v2/resources/projections-cmip6\n",
      "2023-06-26 12:52:36,905 INFO Welcome to the CDS\n"
     ]
    },
    {
     "name": "stdout",
     "output_type": "stream",
     "text": [
      "Some parameters are not matching\n",
      "\n",
      "No value were found for the period and the project tested\n",
      "\n",
      "Test with model cesm2_waccm\n",
      "path_for_file does not exist: the data may not have been downloaded\n",
      "file_download does not exist: the data were not downloaded\n",
      "Some parameters are not matching\n",
      "\n",
      "No value were found for the period and the project tested\n",
      "\n",
      "Test with model ciesm\n",
      "path_for_file does not exist: the data may not have been downloaded\n",
      "file_download does not exist: the data were not downloaded\n",
      "Some parameters are not matching\n",
      "\n",
      "No value were found for the period and the project tested\n",
      "\n",
      "Test with model cmcc_cm2_sr5\n",
      "path_for_file does not exist: the data may not have been downloaded\n",
      "file_download does not exist: the data were not downloaded\n"
     ]
    },
    {
     "name": "stderr",
     "output_type": "stream",
     "text": [
      "2023-06-26 12:52:36,908 INFO Sending request to https://cds.climate.copernicus.eu/api/v2/resources/projections-cmip6\n",
      "2023-06-26 12:52:37,005 INFO Welcome to the CDS\n",
      "2023-06-26 12:52:37,007 INFO Sending request to https://cds.climate.copernicus.eu/api/v2/resources/projections-cmip6\n",
      "2023-06-26 12:52:37,079 INFO Welcome to the CDS\n",
      "2023-06-26 12:52:37,082 INFO Sending request to https://cds.climate.copernicus.eu/api/v2/resources/projections-cmip6\n"
     ]
    },
    {
     "name": "stdout",
     "output_type": "stream",
     "text": [
      "Some parameters are not matching\n",
      "\n",
      "No value were found for the period and the project tested\n",
      "\n",
      "Test with model cnrm_cm6_1\n",
      "path_for_file does not exist: the data may not have been downloaded\n",
      "file_download does not exist: the data were not downloaded\n",
      "Some parameters are not matching\n",
      "\n",
      "No value were found for the period and the project tested\n",
      "\n",
      "Test with model cnrm_esm2_1\n",
      "path_for_file does not exist: the data may not have been downloaded\n",
      "file_download does not exist: the data were not downloaded\n",
      "Some parameters are not matching\n",
      "\n",
      "No value were found for the period and the project tested\n",
      "\n",
      "Test with model e3sm_1_1\n",
      "path_for_file does not exist: the data may not have been downloaded\n",
      "file_download does not exist: the data were not downloaded\n"
     ]
    },
    {
     "name": "stderr",
     "output_type": "stream",
     "text": [
      "2023-06-26 12:52:37,182 INFO Welcome to the CDS\n",
      "2023-06-26 12:52:37,183 INFO Sending request to https://cds.climate.copernicus.eu/api/v2/resources/projections-cmip6\n",
      "2023-06-26 12:52:37,243 INFO Welcome to the CDS\n",
      "2023-06-26 12:52:37,245 INFO Sending request to https://cds.climate.copernicus.eu/api/v2/resources/projections-cmip6\n",
      "2023-06-26 12:52:37,314 INFO Welcome to the CDS\n",
      "2023-06-26 12:52:37,316 INFO Sending request to https://cds.climate.copernicus.eu/api/v2/resources/projections-cmip6\n",
      "2023-06-26 12:52:37,383 INFO Welcome to the CDS\n"
     ]
    },
    {
     "name": "stdout",
     "output_type": "stream",
     "text": [
      "Some parameters are not matching\n",
      "\n",
      "No value were found for the period and the project tested\n",
      "\n",
      "Test with model ec_earth3\n",
      "path_for_file does not exist: the data may not have been downloaded\n",
      "file_download does not exist: the data were not downloaded\n",
      "Some parameters are not matching\n",
      "\n",
      "No value were found for the period and the project tested\n",
      "\n",
      "Test with model ec_earth3_cc\n",
      "path_for_file does not exist: the data may not have been downloaded\n",
      "file_download does not exist: the data were not downloaded\n",
      "Some parameters are not matching\n",
      "\n",
      "No value were found for the period and the project tested\n",
      "\n",
      "Test with model ec_earth3_veg_lr\n",
      "path_for_file does not exist: the data may not have been downloaded\n",
      "file_download does not exist: the data were not downloaded\n"
     ]
    },
    {
     "name": "stderr",
     "output_type": "stream",
     "text": [
      "2023-06-26 12:52:37,384 INFO Sending request to https://cds.climate.copernicus.eu/api/v2/resources/projections-cmip6\n",
      "2023-06-26 12:52:37,455 INFO Welcome to the CDS\n",
      "2023-06-26 12:52:37,457 INFO Sending request to https://cds.climate.copernicus.eu/api/v2/resources/projections-cmip6\n",
      "2023-06-26 12:52:37,548 INFO Welcome to the CDS\n",
      "2023-06-26 12:52:37,550 INFO Sending request to https://cds.climate.copernicus.eu/api/v2/resources/projections-cmip6\n"
     ]
    },
    {
     "name": "stdout",
     "output_type": "stream",
     "text": [
      "Some parameters are not matching\n",
      "\n",
      "No value were found for the period and the project tested\n",
      "\n",
      "Test with model fgoals_g3\n",
      "path_for_file does not exist: the data may not have been downloaded\n",
      "file_download does not exist: the data were not downloaded\n",
      "Some parameters are not matching\n",
      "\n",
      "No value were found for the period and the project tested\n",
      "\n",
      "Test with model gfdl_esm4\n",
      "path_for_file does not exist: the data may not have been downloaded\n",
      "file_download does not exist: the data were not downloaded\n",
      "Some parameters are not matching\n",
      "\n",
      "No value were found for the period and the project tested\n",
      "\n",
      "Test with model giss_e2_1_h\n",
      "path_for_file does not exist: the data may not have been downloaded\n",
      "file_download does not exist: the data were not downloaded\n"
     ]
    },
    {
     "name": "stderr",
     "output_type": "stream",
     "text": [
      "2023-06-26 12:52:37,624 INFO Welcome to the CDS\n",
      "2023-06-26 12:52:37,627 INFO Sending request to https://cds.climate.copernicus.eu/api/v2/resources/projections-cmip6\n",
      "2023-06-26 12:52:37,692 INFO Welcome to the CDS\n",
      "2023-06-26 12:52:37,694 INFO Sending request to https://cds.climate.copernicus.eu/api/v2/resources/projections-cmip6\n",
      "2023-06-26 12:52:37,768 INFO Welcome to the CDS\n",
      "2023-06-26 12:52:37,770 INFO Sending request to https://cds.climate.copernicus.eu/api/v2/resources/projections-cmip6\n"
     ]
    },
    {
     "name": "stdout",
     "output_type": "stream",
     "text": [
      "Some parameters are not matching\n",
      "\n",
      "No value were found for the period and the project tested\n",
      "\n",
      "Test with model hadgem3_gc31_mm\n",
      "path_for_file does not exist: the data may not have been downloaded\n",
      "file_download does not exist: the data were not downloaded\n",
      "Some parameters are not matching\n",
      "\n",
      "No value were found for the period and the project tested\n",
      "\n",
      "Test with model inm_cm4_8\n",
      "path_for_file does not exist: the data may not have been downloaded\n",
      "file_download does not exist: the data were not downloaded\n",
      "Some parameters are not matching\n",
      "\n",
      "No value were found for the period and the project tested\n",
      "\n",
      "Test with model ipsl_cm5a2_inca\n",
      "path_for_file does not exist: the data may not have been downloaded\n",
      "file_download does not exist: the data were not downloaded\n"
     ]
    },
    {
     "name": "stderr",
     "output_type": "stream",
     "text": [
      "2023-06-26 12:52:37,829 INFO Welcome to the CDS\n",
      "2023-06-26 12:52:37,830 INFO Sending request to https://cds.climate.copernicus.eu/api/v2/resources/projections-cmip6\n",
      "2023-06-26 12:52:37,894 INFO Welcome to the CDS\n",
      "2023-06-26 12:52:37,896 INFO Sending request to https://cds.climate.copernicus.eu/api/v2/resources/projections-cmip6\n",
      "2023-06-26 12:52:37,982 INFO Welcome to the CDS\n",
      "2023-06-26 12:52:37,984 INFO Sending request to https://cds.climate.copernicus.eu/api/v2/resources/projections-cmip6\n"
     ]
    },
    {
     "name": "stdout",
     "output_type": "stream",
     "text": [
      "Some parameters are not matching\n",
      "\n",
      "No value were found for the period and the project tested\n",
      "\n",
      "Test with model kace_1_0_g\n",
      "path_for_file does not exist: the data may not have been downloaded\n",
      "file_download does not exist: the data were not downloaded\n",
      "Some parameters are not matching\n",
      "\n",
      "No value were found for the period and the project tested\n",
      "\n",
      "Test with model mcm_ua_1_0\n",
      "path_for_file does not exist: the data may not have been downloaded\n",
      "file_download does not exist: the data were not downloaded\n",
      "Some parameters are not matching\n",
      "\n",
      "No value were found for the period and the project tested\n",
      "\n",
      "Test with model miroc_es2h\n",
      "path_for_file does not exist: the data may not have been downloaded\n",
      "file_download does not exist: the data were not downloaded\n"
     ]
    },
    {
     "name": "stderr",
     "output_type": "stream",
     "text": [
      "2023-06-26 12:52:38,044 INFO Welcome to the CDS\n",
      "2023-06-26 12:52:38,046 INFO Sending request to https://cds.climate.copernicus.eu/api/v2/resources/projections-cmip6\n",
      "2023-06-26 12:52:38,110 INFO Welcome to the CDS\n",
      "2023-06-26 12:52:38,111 INFO Sending request to https://cds.climate.copernicus.eu/api/v2/resources/projections-cmip6\n",
      "2023-06-26 12:52:38,171 INFO Welcome to the CDS\n",
      "2023-06-26 12:52:38,173 INFO Sending request to https://cds.climate.copernicus.eu/api/v2/resources/projections-cmip6\n",
      "2023-06-26 12:52:38,237 INFO Welcome to the CDS\n"
     ]
    },
    {
     "name": "stdout",
     "output_type": "stream",
     "text": [
      "Some parameters are not matching\n",
      "\n",
      "No value were found for the period and the project tested\n",
      "\n",
      "Test with model mpi_esm_1_2_ham\n",
      "path_for_file does not exist: the data may not have been downloaded\n",
      "file_download does not exist: the data were not downloaded\n",
      "Some parameters are not matching\n",
      "\n",
      "No value were found for the period and the project tested\n",
      "\n",
      "Test with model mpi_esm1_2_lr\n",
      "path_for_file does not exist: the data may not have been downloaded\n",
      "file_download does not exist: the data were not downloaded\n",
      "Some parameters are not matching\n",
      "\n",
      "No value were found for the period and the project tested\n",
      "\n",
      "Test with model nesm3\n",
      "path_for_file does not exist: the data may not have been downloaded\n",
      "file_download does not exist: the data were not downloaded\n"
     ]
    },
    {
     "name": "stderr",
     "output_type": "stream",
     "text": [
      "2023-06-26 12:52:38,240 INFO Sending request to https://cds.climate.copernicus.eu/api/v2/resources/projections-cmip6\n",
      "2023-06-26 12:52:38,329 INFO Welcome to the CDS\n",
      "2023-06-26 12:52:38,332 INFO Sending request to https://cds.climate.copernicus.eu/api/v2/resources/projections-cmip6\n",
      "2023-06-26 12:52:38,431 INFO Welcome to the CDS\n"
     ]
    },
    {
     "name": "stdout",
     "output_type": "stream",
     "text": [
      "Some parameters are not matching\n",
      "\n",
      "No value were found for the period and the project tested\n",
      "\n",
      "Test with model noresm2_lm\n",
      "path_for_file does not exist: the data may not have been downloaded\n",
      "file_download does not exist: the data were not downloaded\n",
      "Some parameters are not matching\n",
      "\n",
      "No value were found for the period and the project tested\n",
      "\n",
      "Test with model sam0_unicon\n",
      "path_for_file does not exist: the data may not have been downloaded\n",
      "file_download does not exist: the data were not downloaded\n"
     ]
    },
    {
     "name": "stderr",
     "output_type": "stream",
     "text": [
      "2023-06-26 12:52:38,433 INFO Sending request to https://cds.climate.copernicus.eu/api/v2/resources/projections-cmip6\n",
      "2023-06-26 12:52:38,496 INFO Welcome to the CDS\n",
      "2023-06-26 12:52:38,498 INFO Sending request to https://cds.climate.copernicus.eu/api/v2/resources/projections-cmip6\n"
     ]
    },
    {
     "name": "stdout",
     "output_type": "stream",
     "text": [
      "Some parameters are not matching\n",
      "\n",
      "No value were found for the period and the project tested\n",
      "\n",
      "Test with model ukesm1_0_ll\n",
      "path_for_file does not exist: the data may not have been downloaded\n",
      "file_download does not exist: the data were not downloaded\n",
      "Some parameters are not matching\n",
      "\n",
      "No value were found for the period and the project tested\n",
      "\n",
      "############################### Project name: Pemba_EIB ###############################\n"
     ]
    },
    {
     "name": "stderr",
     "output_type": "stream",
     "text": [
      "2023-06-26 12:52:39,102 INFO Welcome to the CDS\n",
      "2023-06-26 12:52:39,104 INFO Sending request to https://cds.climate.copernicus.eu/api/v2/resources/projections-cmip6\n",
      "2023-06-26 12:52:39,181 INFO Welcome to the CDS\n",
      "2023-06-26 12:52:39,183 INFO Sending request to https://cds.climate.copernicus.eu/api/v2/resources/projections-cmip6\n",
      "2023-06-26 12:52:39,247 INFO Welcome to the CDS\n"
     ]
    },
    {
     "name": "stdout",
     "output_type": "stream",
     "text": [
      "FUNCTION DATAFRAME_COPERNICUS\n",
      "Test with scenario historical\n",
      "Test with model access_cm2\n",
      "path_for_file does not exist: the data may not have been downloaded\n",
      "file_download does not exist: the data were not downloaded\n",
      "Some parameters are not matching\n",
      "\n",
      "No value were found for the period and the project tested\n",
      "\n",
      "Test with model awi_cm_1_1_mr\n",
      "path_for_file does not exist: the data may not have been downloaded\n",
      "file_download does not exist: the data were not downloaded\n",
      "Some parameters are not matching\n",
      "\n",
      "No value were found for the period and the project tested\n",
      "\n",
      "Test with model bcc_csm2_mr\n",
      "path_for_file does not exist: the data may not have been downloaded\n",
      "file_download does not exist: the data were not downloaded\n"
     ]
    },
    {
     "name": "stderr",
     "output_type": "stream",
     "text": [
      "2023-06-26 12:52:39,249 INFO Sending request to https://cds.climate.copernicus.eu/api/v2/resources/projections-cmip6\n",
      "2023-06-26 12:52:39,309 INFO Welcome to the CDS\n",
      "2023-06-26 12:52:39,311 INFO Sending request to https://cds.climate.copernicus.eu/api/v2/resources/projections-cmip6\n",
      "2023-06-26 12:52:39,370 INFO Welcome to the CDS\n",
      "2023-06-26 12:52:39,372 INFO Sending request to https://cds.climate.copernicus.eu/api/v2/resources/projections-cmip6\n",
      "2023-06-26 12:52:39,442 INFO Welcome to the CDS\n"
     ]
    },
    {
     "name": "stdout",
     "output_type": "stream",
     "text": [
      "Some parameters are not matching\n",
      "\n",
      "No value were found for the period and the project tested\n",
      "\n",
      "Test with model cams_csm1_0\n",
      "path_for_file does not exist: the data may not have been downloaded\n",
      "file_download does not exist: the data were not downloaded\n",
      "Some parameters are not matching\n",
      "\n",
      "No value were found for the period and the project tested\n",
      "\n",
      "Test with model canesm5_canoe\n",
      "path_for_file does not exist: the data may not have been downloaded\n",
      "file_download does not exist: the data were not downloaded\n",
      "Some parameters are not matching\n",
      "\n",
      "No value were found for the period and the project tested\n",
      "\n",
      "Test with model cesm2_fv2\n",
      "path_for_file does not exist: the data may not have been downloaded\n",
      "file_download does not exist: the data were not downloaded\n"
     ]
    },
    {
     "name": "stderr",
     "output_type": "stream",
     "text": [
      "2023-06-26 12:52:39,444 INFO Sending request to https://cds.climate.copernicus.eu/api/v2/resources/projections-cmip6\n",
      "2023-06-26 12:52:39,519 INFO Welcome to the CDS\n",
      "2023-06-26 12:52:39,520 INFO Sending request to https://cds.climate.copernicus.eu/api/v2/resources/projections-cmip6\n",
      "2023-06-26 12:52:39,625 INFO Welcome to the CDS\n",
      "2023-06-26 12:52:39,626 INFO Sending request to https://cds.climate.copernicus.eu/api/v2/resources/projections-cmip6\n"
     ]
    },
    {
     "name": "stdout",
     "output_type": "stream",
     "text": [
      "Some parameters are not matching\n",
      "\n",
      "No value were found for the period and the project tested\n",
      "\n",
      "Test with model cesm2_waccm_fv2\n",
      "path_for_file does not exist: the data may not have been downloaded\n",
      "file_download does not exist: the data were not downloaded\n",
      "Some parameters are not matching\n",
      "\n",
      "No value were found for the period and the project tested\n",
      "\n",
      "Test with model cmcc_cm2_hr4\n",
      "path_for_file does not exist: the data may not have been downloaded\n",
      "file_download does not exist: the data were not downloaded\n"
     ]
    },
    {
     "name": "stderr",
     "output_type": "stream",
     "text": [
      "2023-06-26 12:52:39,703 INFO Welcome to the CDS\n",
      "2023-06-26 12:52:39,705 INFO Sending request to https://cds.climate.copernicus.eu/api/v2/resources/projections-cmip6\n",
      "2023-06-26 12:52:39,783 INFO Welcome to the CDS\n",
      "2023-06-26 12:52:39,785 INFO Sending request to https://cds.climate.copernicus.eu/api/v2/resources/projections-cmip6\n"
     ]
    },
    {
     "name": "stdout",
     "output_type": "stream",
     "text": [
      "Some parameters are not matching\n",
      "\n",
      "No value were found for the period and the project tested\n",
      "\n",
      "Test with model cmcc_esm2\n",
      "path_for_file does not exist: the data may not have been downloaded\n",
      "file_download does not exist: the data were not downloaded\n",
      "Some parameters are not matching\n",
      "\n",
      "No value were found for the period and the project tested\n",
      "\n",
      "Test with model cnrm_cm6_1_hr\n",
      "path_for_file does not exist: the data may not have been downloaded\n",
      "file_download does not exist: the data were not downloaded\n",
      "Some parameters are not matching\n",
      "\n",
      "No value were found for the period and the project tested\n",
      "\n",
      "Test with model e3sm_1_0\n",
      "path_for_file does not exist: the data may not have been downloaded\n"
     ]
    },
    {
     "name": "stderr",
     "output_type": "stream",
     "text": [
      "2023-06-26 12:52:39,871 INFO Welcome to the CDS\n",
      "2023-06-26 12:52:39,872 INFO Sending request to https://cds.climate.copernicus.eu/api/v2/resources/projections-cmip6\n",
      "2023-06-26 12:52:39,951 INFO Welcome to the CDS\n",
      "2023-06-26 12:52:39,952 INFO Sending request to https://cds.climate.copernicus.eu/api/v2/resources/projections-cmip6\n",
      "2023-06-26 12:52:40,031 INFO Welcome to the CDS\n"
     ]
    },
    {
     "name": "stdout",
     "output_type": "stream",
     "text": [
      "file_download does not exist: the data were not downloaded\n",
      "Some parameters are not matching\n",
      "\n",
      "No value were found for the period and the project tested\n",
      "\n",
      "Test with model e3sm_1_1_eca\n",
      "path_for_file does not exist: the data may not have been downloaded\n",
      "file_download does not exist: the data were not downloaded\n",
      "Some parameters are not matching\n",
      "\n",
      "No value were found for the period and the project tested\n",
      "\n",
      "Test with model ec_earth3_aerchem\n",
      "path_for_file does not exist: the data may not have been downloaded\n",
      "file_download does not exist: the data were not downloaded\n"
     ]
    },
    {
     "name": "stderr",
     "output_type": "stream",
     "text": [
      "2023-06-26 12:52:40,032 INFO Sending request to https://cds.climate.copernicus.eu/api/v2/resources/projections-cmip6\n",
      "2023-06-26 12:52:40,116 INFO Welcome to the CDS\n",
      "2023-06-26 12:52:40,118 INFO Sending request to https://cds.climate.copernicus.eu/api/v2/resources/projections-cmip6\n",
      "2023-06-26 12:52:40,207 INFO Welcome to the CDS\n",
      "2023-06-26 12:52:40,209 INFO Sending request to https://cds.climate.copernicus.eu/api/v2/resources/projections-cmip6\n"
     ]
    },
    {
     "name": "stdout",
     "output_type": "stream",
     "text": [
      "Some parameters are not matching\n",
      "\n",
      "No value were found for the period and the project tested\n",
      "\n",
      "Test with model ec_earth3_veg\n",
      "path_for_file does not exist: the data may not have been downloaded\n",
      "file_download does not exist: the data were not downloaded\n",
      "Some parameters are not matching\n",
      "\n",
      "No value were found for the period and the project tested\n",
      "\n",
      "Test with model fgoals_f3_l\n",
      "path_for_file does not exist: the data may not have been downloaded\n",
      "file_download does not exist: the data were not downloaded\n",
      "Some parameters are not matching\n",
      "\n",
      "No value were found for the period and the project tested\n",
      "\n",
      "Test with model fio_esm_2_0\n",
      "path_for_file does not exist: the data may not have been downloaded\n",
      "file_download does not exist: the data were not downloaded\n"
     ]
    },
    {
     "name": "stderr",
     "output_type": "stream",
     "text": [
      "2023-06-26 12:52:40,281 INFO Welcome to the CDS\n",
      "2023-06-26 12:52:40,283 INFO Sending request to https://cds.climate.copernicus.eu/api/v2/resources/projections-cmip6\n",
      "2023-06-26 12:52:40,393 INFO Welcome to the CDS\n",
      "2023-06-26 12:52:40,395 INFO Sending request to https://cds.climate.copernicus.eu/api/v2/resources/projections-cmip6\n",
      "2023-06-26 12:52:40,461 INFO Welcome to the CDS\n",
      "2023-06-26 12:52:40,462 INFO Sending request to https://cds.climate.copernicus.eu/api/v2/resources/projections-cmip6\n"
     ]
    },
    {
     "name": "stdout",
     "output_type": "stream",
     "text": [
      "Some parameters are not matching\n",
      "\n",
      "No value were found for the period and the project tested\n",
      "\n",
      "Test with model giss_e2_1_g\n",
      "path_for_file does not exist: the data may not have been downloaded\n",
      "file_download does not exist: the data were not downloaded\n",
      "Some parameters are not matching\n",
      "\n",
      "No value were found for the period and the project tested\n",
      "\n",
      "Test with model hadgem3_gc31_ll\n",
      "path_for_file does not exist: the data may not have been downloaded\n",
      "file_download does not exist: the data were not downloaded\n",
      "Some parameters are not matching\n",
      "\n",
      "No value were found for the period and the project tested\n",
      "\n",
      "Test with model iitm_esm\n",
      "path_for_file does not exist: the data may not have been downloaded\n",
      "file_download does not exist: the data were not downloaded\n"
     ]
    },
    {
     "name": "stderr",
     "output_type": "stream",
     "text": [
      "2023-06-26 12:52:40,520 INFO Welcome to the CDS\n",
      "2023-06-26 12:52:40,522 INFO Sending request to https://cds.climate.copernicus.eu/api/v2/resources/projections-cmip6\n",
      "2023-06-26 12:52:40,609 INFO Welcome to the CDS\n",
      "2023-06-26 12:52:40,611 INFO Sending request to https://cds.climate.copernicus.eu/api/v2/resources/projections-cmip6\n",
      "2023-06-26 12:52:40,694 INFO Welcome to the CDS\n",
      "2023-06-26 12:52:40,696 INFO Sending request to https://cds.climate.copernicus.eu/api/v2/resources/projections-cmip6\n"
     ]
    },
    {
     "name": "stdout",
     "output_type": "stream",
     "text": [
      "Some parameters are not matching\n",
      "\n",
      "No value were found for the period and the project tested\n",
      "\n",
      "Test with model inm_cm5_0\n",
      "path_for_file does not exist: the data may not have been downloaded\n",
      "file_download does not exist: the data were not downloaded\n",
      "Some parameters are not matching\n",
      "\n",
      "No value were found for the period and the project tested\n",
      "\n",
      "Test with model ipsl_cm6a_lr\n",
      "path_for_file does not exist: the data may not have been downloaded\n",
      "file_download does not exist: the data were not downloaded\n",
      "Some parameters are not matching\n",
      "\n",
      "No value were found for the period and the project tested\n",
      "\n",
      "Test with model kiost_esm\n",
      "path_for_file does not exist: the data may not have been downloaded\n",
      "file_download does not exist: the data were not downloaded\n"
     ]
    },
    {
     "name": "stderr",
     "output_type": "stream",
     "text": [
      "2023-06-26 12:52:40,772 INFO Welcome to the CDS\n",
      "2023-06-26 12:52:40,773 INFO Sending request to https://cds.climate.copernicus.eu/api/v2/resources/projections-cmip6\n",
      "2023-06-26 12:52:40,858 INFO Welcome to the CDS\n",
      "2023-06-26 12:52:40,860 INFO Sending request to https://cds.climate.copernicus.eu/api/v2/resources/projections-cmip6\n",
      "2023-06-26 12:52:40,927 INFO Welcome to the CDS\n",
      "2023-06-26 12:52:40,929 INFO Sending request to https://cds.climate.copernicus.eu/api/v2/resources/projections-cmip6\n"
     ]
    },
    {
     "name": "stdout",
     "output_type": "stream",
     "text": [
      "Some parameters are not matching\n",
      "\n",
      "No value were found for the period and the project tested\n",
      "\n",
      "Test with model miroc6\n",
      "path_for_file does not exist: the data may not have been downloaded\n",
      "file_download does not exist: the data were not downloaded\n",
      "Some parameters are not matching\n",
      "\n",
      "No value were found for the period and the project tested\n",
      "\n",
      "Test with model miroc_es2l\n",
      "path_for_file does not exist: the data may not have been downloaded\n",
      "file_download does not exist: the data were not downloaded\n",
      "Some parameters are not matching\n",
      "\n",
      "No value were found for the period and the project tested\n",
      "\n",
      "Test with model mpi_esm1_2_hr\n",
      "path_for_file does not exist: the data may not have been downloaded\n",
      "file_download does not exist: the data were not downloaded\n"
     ]
    },
    {
     "name": "stderr",
     "output_type": "stream",
     "text": [
      "2023-06-26 12:52:41,002 INFO Welcome to the CDS\n",
      "2023-06-26 12:52:41,003 INFO Sending request to https://cds.climate.copernicus.eu/api/v2/resources/projections-cmip6\n",
      "2023-06-26 12:52:41,102 INFO Welcome to the CDS\n",
      "2023-06-26 12:52:41,104 INFO Sending request to https://cds.climate.copernicus.eu/api/v2/resources/projections-cmip6\n"
     ]
    },
    {
     "name": "stdout",
     "output_type": "stream",
     "text": [
      "Some parameters are not matching\n",
      "\n",
      "No value were found for the period and the project tested\n",
      "\n",
      "Test with model mri_esm2_0\n",
      "path_for_file does not exist: the data may not have been downloaded\n",
      "file_download does not exist: the data were not downloaded\n",
      "Some parameters are not matching\n",
      "\n",
      "No value were found for the period and the project tested\n",
      "\n",
      "Test with model norcpm1\n",
      "path_for_file does not exist: the data may not have been downloaded\n",
      "file_download does not exist: the data were not downloaded\n"
     ]
    },
    {
     "name": "stderr",
     "output_type": "stream",
     "text": [
      "2023-06-26 12:52:44,028 INFO Welcome to the CDS\n",
      "2023-06-26 12:52:44,030 INFO Sending request to https://cds.climate.copernicus.eu/api/v2/resources/projections-cmip6\n",
      "2023-06-26 12:52:44,113 INFO Welcome to the CDS\n",
      "2023-06-26 12:52:44,115 INFO Sending request to https://cds.climate.copernicus.eu/api/v2/resources/projections-cmip6\n",
      "2023-06-26 12:52:44,190 INFO Welcome to the CDS\n",
      "2023-06-26 12:52:44,192 INFO Sending request to https://cds.climate.copernicus.eu/api/v2/resources/projections-cmip6\n"
     ]
    },
    {
     "name": "stdout",
     "output_type": "stream",
     "text": [
      "Some parameters are not matching\n",
      "\n",
      "No value were found for the period and the project tested\n",
      "\n",
      "Test with model noresm2_mm\n",
      "path_for_file does not exist: the data may not have been downloaded\n",
      "file_download does not exist: the data were not downloaded\n",
      "Some parameters are not matching\n",
      "\n",
      "No value were found for the period and the project tested\n",
      "\n",
      "Test with model taiesm1\n",
      "path_for_file does not exist: the data may not have been downloaded\n",
      "file_download does not exist: the data were not downloaded\n",
      "Some parameters are not matching\n",
      "\n",
      "No value were found for the period and the project tested\n",
      "\n",
      "Test with model access_esm1_5\n",
      "path_for_file does not exist: the data may not have been downloaded\n"
     ]
    },
    {
     "name": "stderr",
     "output_type": "stream",
     "text": [
      "2023-06-26 12:52:44,264 INFO Welcome to the CDS\n",
      "2023-06-26 12:52:44,265 INFO Sending request to https://cds.climate.copernicus.eu/api/v2/resources/projections-cmip6\n",
      "2023-06-26 12:52:44,344 INFO Welcome to the CDS\n",
      "2023-06-26 12:52:44,346 INFO Sending request to https://cds.climate.copernicus.eu/api/v2/resources/projections-cmip6\n",
      "2023-06-26 12:52:44,425 INFO Welcome to the CDS\n"
     ]
    },
    {
     "name": "stdout",
     "output_type": "stream",
     "text": [
      "file_download does not exist: the data were not downloaded\n",
      "Some parameters are not matching\n",
      "\n",
      "No value were found for the period and the project tested\n",
      "\n",
      "Test with model awi_esm_1_1_lr\n",
      "path_for_file does not exist: the data may not have been downloaded\n",
      "file_download does not exist: the data were not downloaded\n",
      "Some parameters are not matching\n",
      "\n",
      "No value were found for the period and the project tested\n",
      "\n",
      "Test with model bcc_esm1\n",
      "path_for_file does not exist: the data may not have been downloaded\n",
      "file_download does not exist: the data were not downloaded\n"
     ]
    },
    {
     "name": "stderr",
     "output_type": "stream",
     "text": [
      "2023-06-26 12:52:44,426 INFO Sending request to https://cds.climate.copernicus.eu/api/v2/resources/projections-cmip6\n",
      "2023-06-26 12:52:44,503 INFO Welcome to the CDS\n",
      "2023-06-26 12:52:44,505 INFO Sending request to https://cds.climate.copernicus.eu/api/v2/resources/projections-cmip6\n",
      "2023-06-26 12:52:44,589 INFO Welcome to the CDS\n",
      "2023-06-26 12:52:44,591 INFO Sending request to https://cds.climate.copernicus.eu/api/v2/resources/projections-cmip6\n"
     ]
    },
    {
     "name": "stdout",
     "output_type": "stream",
     "text": [
      "Some parameters are not matching\n",
      "\n",
      "No value were found for the period and the project tested\n",
      "\n",
      "Test with model canesm5\n",
      "path_for_file does not exist: the data may not have been downloaded\n",
      "file_download does not exist: the data were not downloaded\n",
      "Some parameters are not matching\n",
      "\n",
      "No value were found for the period and the project tested\n",
      "\n",
      "Test with model cesm2\n",
      "path_for_file does not exist: the data may not have been downloaded\n",
      "file_download does not exist: the data were not downloaded\n",
      "Some parameters are not matching\n",
      "\n",
      "No value were found for the period and the project tested\n",
      "\n",
      "Test with model cesm2_waccm\n",
      "path_for_file does not exist: the data may not have been downloaded\n",
      "file_download does not exist: the data were not downloaded\n"
     ]
    },
    {
     "name": "stderr",
     "output_type": "stream",
     "text": [
      "2023-06-26 12:52:44,670 INFO Welcome to the CDS\n",
      "2023-06-26 12:52:44,672 INFO Sending request to https://cds.climate.copernicus.eu/api/v2/resources/projections-cmip6\n",
      "2023-06-26 12:52:44,754 INFO Welcome to the CDS\n",
      "2023-06-26 12:52:44,756 INFO Sending request to https://cds.climate.copernicus.eu/api/v2/resources/projections-cmip6\n",
      "2023-06-26 12:52:44,816 INFO Welcome to the CDS\n",
      "2023-06-26 12:52:44,819 INFO Sending request to https://cds.climate.copernicus.eu/api/v2/resources/projections-cmip6\n"
     ]
    },
    {
     "name": "stdout",
     "output_type": "stream",
     "text": [
      "Some parameters are not matching\n",
      "\n",
      "No value were found for the period and the project tested\n",
      "\n",
      "Test with model ciesm\n",
      "path_for_file does not exist: the data may not have been downloaded\n",
      "file_download does not exist: the data were not downloaded\n",
      "Some parameters are not matching\n",
      "\n",
      "No value were found for the period and the project tested\n",
      "\n",
      "Test with model cmcc_cm2_sr5\n",
      "path_for_file does not exist: the data may not have been downloaded\n",
      "file_download does not exist: the data were not downloaded\n",
      "Some parameters are not matching\n",
      "\n",
      "No value were found for the period and the project tested\n",
      "\n",
      "Test with model cnrm_cm6_1\n",
      "path_for_file does not exist: the data may not have been downloaded\n",
      "file_download does not exist: the data were not downloaded\n"
     ]
    },
    {
     "name": "stderr",
     "output_type": "stream",
     "text": [
      "2023-06-26 12:52:44,899 INFO Welcome to the CDS\n",
      "2023-06-26 12:52:44,901 INFO Sending request to https://cds.climate.copernicus.eu/api/v2/resources/projections-cmip6\n",
      "2023-06-26 12:52:44,983 INFO Welcome to the CDS\n",
      "2023-06-26 12:52:44,985 INFO Sending request to https://cds.climate.copernicus.eu/api/v2/resources/projections-cmip6\n",
      "2023-06-26 12:52:45,039 INFO Welcome to the CDS\n",
      "2023-06-26 12:52:45,041 INFO Sending request to https://cds.climate.copernicus.eu/api/v2/resources/projections-cmip6\n",
      "2023-06-26 12:52:45,106 INFO Welcome to the CDS\n"
     ]
    },
    {
     "name": "stdout",
     "output_type": "stream",
     "text": [
      "Some parameters are not matching\n",
      "\n",
      "No value were found for the period and the project tested\n",
      "\n",
      "Test with model cnrm_esm2_1\n",
      "path_for_file does not exist: the data may not have been downloaded\n",
      "file_download does not exist: the data were not downloaded\n",
      "Some parameters are not matching\n",
      "\n",
      "No value were found for the period and the project tested\n",
      "\n",
      "Test with model e3sm_1_1\n",
      "path_for_file does not exist: the data may not have been downloaded\n",
      "file_download does not exist: the data were not downloaded\n",
      "Some parameters are not matching\n",
      "\n",
      "No value were found for the period and the project tested\n",
      "\n",
      "Test with model ec_earth3\n",
      "path_for_file does not exist: the data may not have been downloaded\n",
      "file_download does not exist: the data were not downloaded\n"
     ]
    },
    {
     "name": "stderr",
     "output_type": "stream",
     "text": [
      "2023-06-26 12:52:45,108 INFO Sending request to https://cds.climate.copernicus.eu/api/v2/resources/projections-cmip6\n",
      "2023-06-26 12:52:45,171 INFO Welcome to the CDS\n",
      "2023-06-26 12:52:45,172 INFO Sending request to https://cds.climate.copernicus.eu/api/v2/resources/projections-cmip6\n",
      "2023-06-26 12:52:45,258 INFO Welcome to the CDS\n",
      "2023-06-26 12:52:45,260 INFO Sending request to https://cds.climate.copernicus.eu/api/v2/resources/projections-cmip6\n"
     ]
    },
    {
     "name": "stdout",
     "output_type": "stream",
     "text": [
      "Some parameters are not matching\n",
      "\n",
      "No value were found for the period and the project tested\n",
      "\n",
      "Test with model ec_earth3_cc\n",
      "path_for_file does not exist: the data may not have been downloaded\n",
      "file_download does not exist: the data were not downloaded\n",
      "Some parameters are not matching\n",
      "\n",
      "No value were found for the period and the project tested\n",
      "\n",
      "Test with model ec_earth3_veg_lr\n",
      "path_for_file does not exist: the data may not have been downloaded\n",
      "file_download does not exist: the data were not downloaded\n",
      "Some parameters are not matching\n",
      "\n",
      "No value were found for the period and the project tested\n",
      "\n",
      "Test with model fgoals_g3\n",
      "path_for_file does not exist: the data may not have been downloaded\n",
      "file_download does not exist: the data were not downloaded\n"
     ]
    },
    {
     "name": "stderr",
     "output_type": "stream",
     "text": [
      "2023-06-26 12:52:45,346 INFO Welcome to the CDS\n",
      "2023-06-26 12:52:45,348 INFO Sending request to https://cds.climate.copernicus.eu/api/v2/resources/projections-cmip6\n",
      "2023-06-26 12:52:45,404 INFO Welcome to the CDS\n",
      "2023-06-26 12:52:45,406 INFO Sending request to https://cds.climate.copernicus.eu/api/v2/resources/projections-cmip6\n",
      "2023-06-26 12:52:45,482 INFO Welcome to the CDS\n",
      "2023-06-26 12:52:45,484 INFO Sending request to https://cds.climate.copernicus.eu/api/v2/resources/projections-cmip6\n",
      "2023-06-26 12:52:45,543 INFO Welcome to the CDS\n"
     ]
    },
    {
     "name": "stdout",
     "output_type": "stream",
     "text": [
      "Some parameters are not matching\n",
      "\n",
      "No value were found for the period and the project tested\n",
      "\n",
      "Test with model gfdl_esm4\n",
      "path_for_file does not exist: the data may not have been downloaded\n",
      "file_download does not exist: the data were not downloaded\n",
      "Some parameters are not matching\n",
      "\n",
      "No value were found for the period and the project tested\n",
      "\n",
      "Test with model giss_e2_1_h\n",
      "path_for_file does not exist: the data may not have been downloaded\n",
      "file_download does not exist: the data were not downloaded\n",
      "Some parameters are not matching\n",
      "\n",
      "No value were found for the period and the project tested\n",
      "\n",
      "Test with model hadgem3_gc31_mm\n",
      "path_for_file does not exist: the data may not have been downloaded\n",
      "file_download does not exist: the data were not downloaded\n"
     ]
    },
    {
     "name": "stderr",
     "output_type": "stream",
     "text": [
      "2023-06-26 12:52:45,545 INFO Sending request to https://cds.climate.copernicus.eu/api/v2/resources/projections-cmip6\n",
      "2023-06-26 12:52:45,608 INFO Welcome to the CDS\n",
      "2023-06-26 12:52:45,610 INFO Sending request to https://cds.climate.copernicus.eu/api/v2/resources/projections-cmip6\n",
      "2023-06-26 12:52:45,749 INFO Welcome to the CDS\n"
     ]
    },
    {
     "name": "stdout",
     "output_type": "stream",
     "text": [
      "Some parameters are not matching\n",
      "\n",
      "No value were found for the period and the project tested\n",
      "\n",
      "Test with model inm_cm4_8\n",
      "path_for_file does not exist: the data may not have been downloaded\n",
      "file_download does not exist: the data were not downloaded\n",
      "Some parameters are not matching\n",
      "\n",
      "No value were found for the period and the project tested\n",
      "\n",
      "Test with model ipsl_cm5a2_inca\n",
      "path_for_file does not exist: the data may not have been downloaded\n",
      "file_download does not exist: the data were not downloaded\n"
     ]
    },
    {
     "name": "stderr",
     "output_type": "stream",
     "text": [
      "2023-06-26 12:52:45,752 INFO Sending request to https://cds.climate.copernicus.eu/api/v2/resources/projections-cmip6\n",
      "2023-06-26 12:52:45,882 INFO Welcome to the CDS\n",
      "2023-06-26 12:52:45,884 INFO Sending request to https://cds.climate.copernicus.eu/api/v2/resources/projections-cmip6\n"
     ]
    },
    {
     "name": "stdout",
     "output_type": "stream",
     "text": [
      "Some parameters are not matching\n",
      "\n",
      "No value were found for the period and the project tested\n",
      "\n",
      "Test with model kace_1_0_g\n",
      "path_for_file does not exist: the data may not have been downloaded\n",
      "file_download does not exist: the data were not downloaded\n",
      "Some parameters are not matching\n",
      "\n",
      "No value were found for the period and the project tested\n",
      "\n",
      "Test with model mcm_ua_1_0\n",
      "path_for_file does not exist: the data may not have been downloaded\n",
      "file_download does not exist: the data were not downloaded\n"
     ]
    },
    {
     "name": "stderr",
     "output_type": "stream",
     "text": [
      "2023-06-26 12:52:46,231 INFO Welcome to the CDS\n",
      "2023-06-26 12:52:46,233 INFO Sending request to https://cds.climate.copernicus.eu/api/v2/resources/projections-cmip6\n"
     ]
    },
    {
     "name": "stdout",
     "output_type": "stream",
     "text": [
      "Some parameters are not matching\n",
      "\n",
      "No value were found for the period and the project tested\n",
      "\n",
      "Test with model miroc_es2h\n",
      "path_for_file does not exist: the data may not have been downloaded\n",
      "file_download does not exist: the data were not downloaded\n"
     ]
    },
    {
     "name": "stderr",
     "output_type": "stream",
     "text": [
      "2023-06-26 12:52:46,481 INFO Welcome to the CDS\n",
      "2023-06-26 12:52:46,483 INFO Sending request to https://cds.climate.copernicus.eu/api/v2/resources/projections-cmip6\n",
      "2023-06-26 12:52:46,685 INFO Welcome to the CDS\n"
     ]
    },
    {
     "name": "stdout",
     "output_type": "stream",
     "text": [
      "Some parameters are not matching\n",
      "\n",
      "No value were found for the period and the project tested\n",
      "\n",
      "Test with model mpi_esm_1_2_ham\n",
      "path_for_file does not exist: the data may not have been downloaded\n",
      "file_download does not exist: the data were not downloaded\n"
     ]
    },
    {
     "name": "stderr",
     "output_type": "stream",
     "text": [
      "2023-06-26 12:52:46,690 INFO Sending request to https://cds.climate.copernicus.eu/api/v2/resources/projections-cmip6\n",
      "2023-06-26 12:52:46,872 INFO Welcome to the CDS\n",
      "2023-06-26 12:52:46,874 INFO Sending request to https://cds.climate.copernicus.eu/api/v2/resources/projections-cmip6\n"
     ]
    },
    {
     "name": "stdout",
     "output_type": "stream",
     "text": [
      "Some parameters are not matching\n",
      "\n",
      "No value were found for the period and the project tested\n",
      "\n",
      "Test with model mpi_esm1_2_lr\n",
      "path_for_file does not exist: the data may not have been downloaded\n",
      "file_download does not exist: the data were not downloaded\n",
      "Some parameters are not matching\n",
      "\n",
      "No value were found for the period and the project tested\n",
      "\n",
      "Test with model nesm3\n"
     ]
    },
    {
     "name": "stderr",
     "output_type": "stream",
     "text": [
      "2023-06-26 12:52:47,018 INFO Welcome to the CDS\n",
      "2023-06-26 12:52:47,021 INFO Sending request to https://cds.climate.copernicus.eu/api/v2/resources/projections-cmip6\n"
     ]
    },
    {
     "name": "stdout",
     "output_type": "stream",
     "text": [
      "path_for_file does not exist: the data may not have been downloaded\n",
      "file_download does not exist: the data were not downloaded\n",
      "Some parameters are not matching\n",
      "\n",
      "No value were found for the period and the project tested\n",
      "\n",
      "Test with model noresm2_lm\n",
      "path_for_file does not exist: the data may not have been downloaded\n",
      "file_download does not exist: the data were not downloaded\n"
     ]
    },
    {
     "name": "stderr",
     "output_type": "stream",
     "text": [
      "2023-06-26 12:52:47,127 INFO Welcome to the CDS\n",
      "2023-06-26 12:52:47,128 INFO Sending request to https://cds.climate.copernicus.eu/api/v2/resources/projections-cmip6\n",
      "2023-06-26 12:52:47,342 INFO Welcome to the CDS\n"
     ]
    },
    {
     "name": "stdout",
     "output_type": "stream",
     "text": [
      "Some parameters are not matching\n",
      "\n",
      "No value were found for the period and the project tested\n",
      "\n",
      "Test with model sam0_unicon\n",
      "path_for_file does not exist: the data may not have been downloaded\n",
      "file_download does not exist: the data were not downloaded\n"
     ]
    },
    {
     "name": "stderr",
     "output_type": "stream",
     "text": [
      "2023-06-26 12:52:47,346 INFO Sending request to https://cds.climate.copernicus.eu/api/v2/resources/projections-cmip6\n"
     ]
    },
    {
     "name": "stdout",
     "output_type": "stream",
     "text": [
      "Some parameters are not matching\n",
      "\n",
      "No value were found for the period and the project tested\n",
      "\n",
      "Test with model ukesm1_0_ll\n",
      "path_for_file does not exist: the data may not have been downloaded\n",
      "file_download does not exist: the data were not downloaded\n"
     ]
    },
    {
     "name": "stderr",
     "output_type": "stream",
     "text": [
      "2023-06-26 12:52:47,564 INFO Welcome to the CDS\n",
      "2023-06-26 12:52:47,566 INFO Sending request to https://cds.climate.copernicus.eu/api/v2/resources/projections-cmip6\n"
     ]
    },
    {
     "name": "stdout",
     "output_type": "stream",
     "text": [
      "Some parameters are not matching\n",
      "\n",
      "No value were found for the period and the project tested\n",
      "\n"
     ]
    }
   ],
   "source": [
    "(year, year_str, index)=year_copernicus(y_start,y_end)\n",
    "\n",
    "df = csv_copernicus(temporal_resolution,year_str,copernicus_elements.experiments_historical,copernicus_elements.models,out_path,global_variable, name_variable,name_projects,area_projects,'Copernicus-CMIP6')  "
   ]
  },
  {
   "cell_type": "code",
   "execution_count": null,
   "id": "b4d62cbb",
   "metadata": {},
   "outputs": [],
   "source": []
  }
 ],
 "metadata": {
  "kernelspec": {
   "display_name": "Python 3 (ipykernel)",
   "language": "python",
   "name": "python3"
  },
  "language_info": {
   "codemirror_mode": {
    "name": "ipython",
    "version": 3
   },
   "file_extension": ".py",
   "mimetype": "text/x-python",
   "name": "python",
   "nbconvert_exporter": "python",
   "pygments_lexer": "ipython3",
   "version": "3.10.6"
  }
 },
 "nbformat": 4,
 "nbformat_minor": 5
}
