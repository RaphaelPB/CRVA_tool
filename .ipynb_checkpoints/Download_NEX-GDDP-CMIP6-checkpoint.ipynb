{
 "cells": [
  {
   "cell_type": "code",
   "execution_count": 1,
   "id": "7e486722",
   "metadata": {},
   "outputs": [],
   "source": [
    "import requests\n",
    "import pandas as pd\n",
    "\n",
    "import os\n",
    "import os.path\n",
    "import netCDF4 #as nc#not directly used but needs to be imported for some nc4 files manipulations, use for nc files\n",
    "#from scipy.io import netcdf\n",
    "from netCDF4 import Dataset\n",
    "#import h5netcdf.legacyapi as netCDF4\n",
    "import numpy as np\n",
    "import numpy.ma as ma\n",
    "\n",
    "import multiprocessing as mp# to download several file in parrallel\n",
    "from multiprocessing import Pool"
   ]
  },
  {
   "cell_type": "code",
   "execution_count": 2,
   "id": "b7837b62",
   "metadata": {},
   "outputs": [],
   "source": [
    "out_path=r'//COWI.net/projects/A245000/A248363/CRVA/Datasets/NEX-GDDP-CMIP6'"
   ]
  },
  {
   "cell_type": "code",
   "execution_count": null,
   "id": "9c31a5b8",
   "metadata": {},
   "outputs": [],
   "source": [
    "# count the number of CPU/cores\n",
    "mp.cpu_count()"
   ]
  },
  {
   "cell_type": "code",
   "execution_count": null,
   "id": "b9829133",
   "metadata": {},
   "outputs": [],
   "source": [
    "NBCORES=5"
   ]
  },
  {
   "cell_type": "code",
   "execution_count": null,
   "id": "09add4c7",
   "metadata": {},
   "outputs": [],
   "source": [
    "# register information from csv file\n",
    "#all_urls = pd.read_csv(r'C:\\Users\\CLMRX\\OneDrive - COWI\\Documents\\GitHub\\CRVA_tool\\outputs\\NEX-GDDP-CMIP6\\gddp-cmip6-thredds-fileserver.csv')\n",
    "csv_path = os.path.join(out_path,'gddp-cmip6-thredds-fileserver.csv')\n",
    "all_urls = pd.read_csv(csv_path)"
   ]
  },
  {
   "cell_type": "code",
   "execution_count": null,
   "id": "2e4f2839",
   "metadata": {},
   "outputs": [],
   "source": [
    "### make all elements of the csv into a readable list\n",
    "\n",
    "# transpose csv\n",
    "temp_list = all_urls[[' fileUrl']].T\n",
    "temp_list=temp_list.values.tolist()\n",
    "temp_list=temp_list[0]\n",
    "url_list=[s.replace(' ', '') for s in temp_list]"
   ]
  },
  {
   "cell_type": "code",
   "execution_count": null,
   "id": "9128938b",
   "metadata": {},
   "outputs": [],
   "source": [
    "## download only precipitation data\n",
    "# select only precipitation files, between 2040 and 2080\n",
    "url_list_precipitation = [url for url in url_list if 'pr_day_' in url and int(url[len(url)-7:len(url)-3])>2020 and int(url[len(url)-7:len(url)-3])<2061]"
   ]
  },
  {
   "cell_type": "code",
   "execution_count": null,
   "id": "dc265391",
   "metadata": {},
   "outputs": [],
   "source": [
    "len(url_list_precipitation)"
   ]
  },
  {
   "cell_type": "code",
   "execution_count": null,
   "id": "e894c48e",
   "metadata": {},
   "outputs": [],
   "source": [
    "#### Former version\n",
    "# download only precipitation files\n",
    "r'''\n",
    "for file in url_list_precipitation: # for loop to download the file in each url\n",
    "    # find the name of the file\n",
    "    index_before_name=file.rfind('/') # returns the highest index where the last character '/' was found, which is just before the name of the file    \n",
    "    f_name = file[index_before_name+1:len(file)-3] # return the name of the file as a string\n",
    "    # check if the file was already downloaded\n",
    "    test = os.path.join('//COWI.net/projects/A245000/A248363/CRVA/Datasets/NEX-GDDP-CMIP6/',f_name+'.nc')\n",
    "    if os.path.isfile(test): # if the file was aleready download\n",
    "        continue # continue the for loop without executing the code after this line. The code follonwing download the file\n",
    "        # if we entered the if, the file was already dowloaded, no need to downloaded it again\n",
    "    # the file was not downloaded, the following code will permit to download it in the servor for dataset\n",
    "    r = requests.get(file) # return the url were data need to be downloaded\n",
    "    # download data in the servor for datasets\n",
    "    with open(f'//COWI.net/projects/A245000/A248363/CRVA/Datasets/NEX-GDDP-CMIP6/{f_name}.nc', 'wb') as f:\n",
    "        f.write(r.content)\n",
    "'''"
   ]
  },
  {
   "cell_type": "code",
   "execution_count": null,
   "id": "fec1e96e",
   "metadata": {},
   "outputs": [],
   "source": [
    "def download_file(file):\n",
    "    # find the name of the file\n",
    "    index_before_name=file.rfind('/') # returns the highest index where the last character '/' was found, which is just before the name of the file    \n",
    "    f_name = file[index_before_name+1:len(file)-3] # return the name of the file as a string\n",
    "    # check if the file was already downloaded\n",
    "    test = os.path.join('//COWI.net/projects/A245000/A248363/CRVA/Datasets/NEX-GDDP-CMIP6/',f_name+'.nc')\n",
    "    if os.path.isfile(test): # if the file was aleready download\n",
    "        #continue # continue the for loop without executing the code after this line. The code follonwing download the file\n",
    "        return# if we entered the if, the file was already dowloaded, no need to downloaded it again\n",
    "    # the file was not downloaded, the following code will permit to download it in the servor for dataset\n",
    "    r = requests.get(file) # return the url were data need to be downloaded\n",
    "    # download data in the servor for datasets\n",
    "    with open(f'//COWI.net/projects/A245000/A248363/CRVA/Datasets/NEX-GDDP-CMIP6/{f_name}.nc', 'wb') as f:\n",
    "        f.write(r.content)\n",
    "    return file\n",
    "results = ThreadPool(NBCORES).imap_unordered(download_file, url_list)\n",
    "for r in results: #I don't understand why, ut without this step it does not work\n",
    "     print(r)"
   ]
  },
  {
   "cell_type": "code",
   "execution_count": null,
   "id": "673fbdd8",
   "metadata": {},
   "outputs": [],
   "source": [
    "## read data, _FillValue should be NaN\n",
    "solar_1950=Dataset(r'\\\\COWI.net\\projects\\A245000\\A248363\\CRVA\\Datasets\\NEX-GDDP-CMIP6\\hurs_day_ACCESS-CM2_historical_r1i1p1f1_gn_1950.nc')\n",
    "r'''\n",
    "hurs=solar_1950.variables['hurs']\n",
    "hurs\n",
    "hurs._FillValue\n",
    "solar_dataframe = np.ma.getdata(solar_1950.variables['hurs']).data\n",
    "solar_dataframe\n",
    "len(solar_dataframe[solar_dataframe!=1.e+20])\n",
    "len(solar_dataframe[solar_dataframe==1.e+20])\n",
    "type(solar_dataframe)\n",
    "solar_dataframe.size\n",
    "solar_dataframe.size-len(solar_dataframe[solar_dataframe!=1.e+20])-len(solar_dataframe[solar_dataframe==1.e+20])\n",
    "'''"
   ]
  },
  {
   "cell_type": "code",
   "execution_count": 5,
   "id": "444534fa",
   "metadata": {},
   "outputs": [],
   "source": [
    "# some files only 1 KB\n",
    "#name = 'pr_day_UKESM1-0-LL_ssp370_r1i1p1f2_gn_2052.nc'\n",
    "#path_file = os.path.join(out_path,name)\n",
    "pr_2052 = Dataset(r'\\\\COWI.net\\projects\\A245000\\A248363\\CRVA\\Datasets\\NEX-GDDP-CMIP6\\hurs_day_ACCESS-CM2_historical_r1i1p1f1_gn_1951.nc')"
   ]
  },
  {
   "cell_type": "code",
   "execution_count": null,
   "id": "39b74af0",
   "metadata": {},
   "outputs": [],
   "source": [
    "solar_dataframe=np.ma.getdata(pr_2052.variables['pr']).data\n",
    "len(solar_dataframe[solar_dataframe!=1.e+20])"
   ]
  },
  {
   "cell_type": "code",
   "execution_count": null,
   "id": "3260be95",
   "metadata": {},
   "outputs": [],
   "source": [
    "len(solar_dataframe[solar_dataframe==1.e+20])"
   ]
  },
  {
   "cell_type": "code",
   "execution_count": null,
   "id": "52c091c1",
   "metadata": {},
   "outputs": [],
   "source": [
    "netCDF4.Dataset(r'\\\\COWI.net\\projects\\A245000\\A248363\\CRVA\\Datasets\\NEX-GDDP-CMIP6\\pr_day_UKESM1-0-LL_ssp370_r1i1p1f2_gn_2052.nc')"
   ]
  },
  {
   "cell_type": "code",
   "execution_count": null,
   "id": "a1a13f80",
   "metadata": {},
   "outputs": [],
   "source": [
    "os.path.isfile(r'\\\\COWI.net\\projects\\A245000\\A248363\\CRVA\\Datasets\\NEX-GDDP-CMIP6\\pr_day_UKESM1-0-LL_ssp370_r1i1p1f2_gn_2052.nc')"
   ]
  },
  {
   "cell_type": "code",
   "execution_count": null,
   "id": "7970d48e",
   "metadata": {},
   "outputs": [],
   "source": [
    "Dataset(r'\\\\COWI.net\\projects\\A245000\\A248363\\CRVA\\Datasets\\NEX-GDDP-CMIP6\\pr_day_BCC-CSM2-MR_ssp585_r1i1p1f1_gn_2060.nc', 'r', format='NETCDF4')"
   ]
  },
  {
   "cell_type": "code",
   "execution_count": null,
   "id": "2930b9cb",
   "metadata": {},
   "outputs": [],
   "source": [
    "os.path.isfile(r'\\\\COWI.net\\projects\\A245000\\A248363\\CRVA\\Datasets\\NEX-GDDP-CMIP6\\pr_day_BCC-CSM2-MR_ssp585_r1i1p1f1_gn_2060.nc')"
   ]
  },
  {
   "cell_type": "code",
   "execution_count": null,
   "id": "93855219",
   "metadata": {},
   "outputs": [],
   "source": [
    "## Hypothesis: some files are corrupted\n",
    "\n"
   ]
  }
 ],
 "metadata": {
  "kernelspec": {
   "display_name": "Python 3 (ipykernel)",
   "language": "python",
   "name": "python3"
  },
  "language_info": {
   "codemirror_mode": {
    "name": "ipython",
    "version": 3
   },
   "file_extension": ".py",
   "mimetype": "text/x-python",
   "name": "python",
   "nbconvert_exporter": "python",
   "pygments_lexer": "ipython3",
   "version": "3.10.6"
  }
 },
 "nbformat": 4,
 "nbformat_minor": 5
}
