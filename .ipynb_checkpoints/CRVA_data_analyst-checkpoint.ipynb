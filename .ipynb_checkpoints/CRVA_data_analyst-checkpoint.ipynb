{
 "cells": [
  {
   "cell_type": "markdown",
   "id": "c6fb3dd0",
   "metadata": {},
   "source": [
    "<a id='beginning_CRVA'></a>\n",
    "# Climate Risk and Vulnerability Analysis\n",
    "This notebook helps you download and visualize climate data to perform Climate Risk and Vulnerability analyses\n",
    "\n",
    "## Usage\n",
    "this is how to use this script\n",
    "\n",
    "1. [Define user input](#user_input)\n",
    "2. [Run wanted climate variables](#climate_variables)\n",
    "    1. [Atmosphere's climate variables](#atmosphere_climate_variables)\n",
    "    2. [Land climate's variables](#land_climate_variables)\n",
    "    3. [Hydrosphere's climate variables](#hydrosphere_climate_variables)\n",
    "    4. [Second effect's climate variables](#second_effect_climate_variables)\n",
    "3. [Export data](#Export)\n",
    "\n",
    "## Input data\n",
    "\n",
    "* [Shapefile with project location(s) as points or polygon](#load_shapefile)\n",
    "* List of variables\n",
    "* List of SSP's\n",
    "* List of time horizons\n",
    "\n",
    "## [Climate variables](#climate_variables)\n",
    "### [Atmosphere's climate variables](#atmosphere_climate_variables)\n",
    "* [Precipitation](#worldbank)\n",
    "* [Temperature](#worldbank)\n",
    "* [Wind](#wind)\n",
    "* [Humidity](#humidity)\n",
    "* [Solar radiation](#solar_radiation)\n",
    "* Air quality deterioration\n",
    "### [Land's climate variables](#land_climate_variables)\n",
    "* [Landslides](#landslides)\n",
    "* Coastal erosion\n",
    "* Soil erosion\n",
    "* Soil salinity\n",
    "### [Hydrosphere's climate variables](#hydrosphere_climate_variables)\n",
    "* [Relative sea level rise](#relative_sea_level_rise)\n",
    "* [Seawater temperature](#sea_water_temperature)\n",
    "* [Water availability](#water_availability)\n",
    "* floods (fluvial)\n",
    "* floods (coastal)\n",
    "* forest fires\n",
    "### [Second effects of climate variables](#second_effect_climate_variables)\n",
    "* Storms\n",
    "* Dust storms\n",
    "* Wildfire\n",
    "* Urban heat island\n",
    "* Growinf season length\n",
    "* [cyclone risk](#cyclone_risk)\n",
    "\n",
    "\n",
    "\n",
    "* earthquakes (not climate related)\n",
    "\n",
    "## Climate impacts\n",
    "* calculate impact on yields\n",
    "\n",
    "## [Climate change information concerning the projects in the study area](#climate_change_info_for_each_project_in_study_area)\n",
    "\n",
    "\n",
    "## Contact\n",
    "\n",
    "rapy@cowi.com"
   ]
  },
  {
   "cell_type": "markdown",
   "id": "93fe4ed9",
   "metadata": {},
   "source": [
    "<a id='user_input'></a>\n",
    "## User inputs\n",
    "\n",
    "[Home](#beginning_CRVA)"
   ]
  },
  {
   "cell_type": "code",
   "execution_count": 1,
   "id": "51f07a6b",
   "metadata": {},
   "outputs": [],
   "source": [
    "#User inputs\n",
    "import os.path\n",
    "\n",
    "\n",
    "#project locations (shapefile with location of elements to evaluate)\n",
    "data_folder=r'\\\\COWI.net\\projects\\A245000\\A248363\\CRVA\\Datasets'\n",
    "#data_folder=os.path.join(os.pardir,'dataset')\n",
    "project_location_path=os.path.join(data_folder,'Mozambique_PPIS/EIB_locations_few.shp')\n",
    "project_id='Name' #name of column used as id\n",
    "\n",
    "#study boundary (optional)\n",
    "study_area_path=os.path.join(data_folder,'Mozambique_PPIS/mozambique.shp')\n",
    "\n",
    "#output folder\n",
    "#out_path=r'\\\\COWI.net\\projects\\A245000\\A248363\\CRVA\\Scripts\\outputs'\n",
    "out_path=r'C:\\Users\\CLMRX\\OneDrive - COWI\\Documents\\GitHub\\CRVA_tool\\outputs'\n",
    "out_path_database=r'\\\\COWI.net\\projects\\A245000\\A248363\\CRVA\\Datasets'\n",
    "#projection CRS (default = 'EPSG:4326')\n",
    "bCRS='EPSG:4326'\n",
    "\n",
    "#buffer for climate/grid variables\n",
    "buffer=40000 #buffer in meters, 0 = no buffer is computed\n",
    "\n",
    "mCRS='EPSG:31983' #metric CRS for buffer in meters (find relevant metric CRS for location!)"
   ]
  },
  {
   "cell_type": "markdown",
   "id": "f62ceae0",
   "metadata": {},
   "source": [
    "## Import python packages"
   ]
  },
  {
   "cell_type": "code",
   "execution_count": 2,
   "id": "2fd37531",
   "metadata": {},
   "outputs": [
    {
     "name": "stderr",
     "output_type": "stream",
     "text": [
      "C:\\Users\\CLMRX\\AppData\\Local\\Temp\\1\\ipykernel_16132\\34720416.py:4: UserWarning: Shapely 2.0 is installed, but because PyGEOS is also installed, GeoPandas will still use PyGEOS by default for now. To force to use and test Shapely 2.0, you have to set the environment variable USE_PYGEOS=0. You can do this before starting the Python process, or in your code before importing geopandas:\n",
      "\n",
      "import os\n",
      "os.environ['USE_PYGEOS'] = '0'\n",
      "import geopandas\n",
      "\n",
      "In a future release, GeoPandas will switch to using Shapely by default. If you are using PyGEOS directly (calling PyGEOS functions on geometries from GeoPandas), this will then stop working and you are encouraged to migrate from PyGEOS to Shapely 2.0 (https://shapely.readthedocs.io/en/latest/migration_pygeos.html).\n",
      "  import geopandas as gpd\n"
     ]
    }
   ],
   "source": [
    "#Import python packages\n",
    "from rasterstats import zonal_stats\n",
    "import pandas as pd\n",
    "import geopandas as gpd\n",
    "import rasterio\n",
    "from rasterio.plot import show\n",
    "import rioxarray #used when calling ncdata.rio.write_crs\n",
    "import xarray as xr\n",
    "import os\n",
    "import os.path\n",
    "import matplotlib.pyplot as plt\n",
    "import netCDF4 as nc#not directly used but needs to be imported for some nc4 files manipulations, use for nc files\n",
    "from netCDF4 import Dataset\n",
    "import csv #REMOVE ? not in use ?\n",
    "import numpy as np\n",
    "import numpy.ma as ma\n",
    "from mpl_toolkits.basemap import Basemap\n",
    "import shutil # to move folders\n",
    "import warnings\n",
    "warnings.filterwarnings('ignore') # to ignore the warnings\n",
    "#import io\n",
    "import cdsapi # for copernicus function\n",
    "import datetime # to have actual date\n",
    "from osgeo import gdal, ogr, osr # in order to convert shp in raster\n",
    "from geopandas import GeoDataFrame\n",
    "from shapely.geometry import Point\n",
    "from matplotlib.lines import Line2D\n",
    "import seaborn as sns\n",
    "\n",
    "from FunctionsAndClass import read_cckp_ncdata\n",
    "from FunctionsAndClass import get_cckp_file_name\n",
    "\n",
    "from Functions_Indicators import temporal_avg\n",
    "from Functions_Indicators import temporal_max\n",
    "from Functions_Indicators import df_stat_distr\n",
    "from Functions_Indicators import number_day_above_threshold\n",
    "from Functions_Indicators import filter_dataframe\n",
    "from Functions_Indicators import changes_in_indicators\n",
    "from Functions_Indicators import level_exposure\n",
    "from Functions_Indicators import vulnerability\n",
    "\n",
    "from Functions_ImportData import import_treat_modeled_NEX_GDDP_CMIP6\n",
    "from Functions_ImportData import sensitivity\n",
    "from Functions_ImportData import import_BC_NOAA_NEX_GDDP_CMIP6\n",
    "\n",
    "from Graphs_functions import plot_lines\n",
    "\n",
    "from Functions_likelihood import likelihood_accross_models\n",
    "from Functions_likelihood import likelihood_accross_models_and_ssps\n",
    "\n",
    "from Functions_exposure import look_best_distr\n",
    "from Functions_exposure import range_likelihood"
   ]
  },
  {
   "cell_type": "markdown",
   "id": "e907e131",
   "metadata": {},
   "source": [
    "<a id='load_shapefile'></a>\n",
    "## Load shapefiles and plot"
   ]
  },
  {
   "cell_type": "code",
   "execution_count": null,
   "id": "7213162f",
   "metadata": {},
   "outputs": [],
   "source": [
    "#load shapefiles\n",
    "projects = gpd.read_file(project_location_path).to_crs(bCRS)\n",
    "study_area = gpd.read_file(study_area_path).to_crs(bCRS)\n",
    "\n",
    "#calculate buffer around points/shape\n",
    "if buffer != 0:\n",
    "    projects_buf=projects.to_crs(mCRS)  #project to crs with metric units to get buffer in meters\n",
    "    projects_buf['geometry']=projects.to_crs(mCRS).buffer(buffer) #assign the buffer as the new geometry - \n",
    "    projects_buf=projects_buf.to_crs(bCRS)#project back to orginal crs\n",
    "\n",
    "    \n",
    "#plot shapefiles\n",
    "study_area.plot()\n",
    "projects.plot()\n",
    "projects_buf.plot() \n",
    "\n",
    "\n",
    "#show table\n",
    "projects[[project_id]]\n",
    "\n",
    "# prepare name_project for use \n",
    "name_project = projects['Name'].str.replace(' ','_') # take off every blank space of project names\n",
    "name_project = name_project.str.replace('(','') # take off every ( of project names\n",
    "name_project = name_project.str.replace(')','') # take off every ) of project names\n",
    "name_project = name_project.str.replace('-','') # take off every - of project names\n",
    "name_project = name_project.str.replace('/','_') # take off every / of project names\n",
    "name_project = name_project.str.replace(r'\"\\\"','_') # take off every \\ of project names\n",
    "\n",
    "# register geographic information concerning projects\n",
    "lon_projects = projects['geometry'].x\n",
    "lat_projects = projects['geometry'].y\n",
    "area_projects = [lat_projects - 5, lat_projects+5, lon_projects-5,lon_projects+5] # list format\n",
    "# 5 degres trop grand \n",
    "#### determination of the geographical zone of interest \n",
    "lat_min_wanted = min(study_area['LAT'])-10\n",
    "lat_max_wanted = max(study_area['LAT'])+10\n",
    "lon_min_wanted = min(study_area['LON'])-20\n",
    "lon_max_wanted = max(study_area['LON'])+20\n",
    "# addind and substracting to lon and lat to have margin\n",
    "# substracting more to longitude because the range of longitude is -180 to 180. The range of latitude is -90 to 90\n",
    "\n",
    "area = [lat_min_wanted, lon_min_wanted, lat_max_wanted,lon_max_wanted,] # used to download from copernicus\n",
    "first_year=1950\n",
    "last_year =2100\n",
    "### YEAR\n",
    "year = np.arange(first_year,(last_year+1),1) # create vector of years\n",
    "year_str = [0]*len(year) # create initiale empty vector to convert years in int\n",
    "index = np.arange(0,len(year)) # create vector of index for year\n",
    "i = 0 # initialize index\n",
    "for i in index: # convert all the date in string format\n",
    "    year_str[i]=str(year[i])\n",
    "\n",
    "start_date = \"01-01-\"+year_str[0] # string start date based on start year\n",
    "stop_date = \"31-12-\"+year_str[len(year)-1] # string stop date based on stop year\n",
    "dates = pd.date_range(start_date,stop_date) # vector of dates between start date and stop date\n",
    "index_dates = np.arange(0,len(dates)) # vector containning index or dates vector"
   ]
  },
  {
   "cell_type": "code",
   "execution_count": 3,
   "id": "fa4d0222",
   "metadata": {},
   "outputs": [
    {
     "data": {
      "text/html": [
       "<div>\n",
       "<style scoped>\n",
       "    .dataframe tbody tr th:only-of-type {\n",
       "        vertical-align: middle;\n",
       "    }\n",
       "\n",
       "    .dataframe tbody tr th {\n",
       "        vertical-align: top;\n",
       "    }\n",
       "\n",
       "    .dataframe thead th {\n",
       "        text-align: right;\n",
       "    }\n",
       "</style>\n",
       "<table border=\"1\" class=\"dataframe\">\n",
       "  <thead>\n",
       "    <tr style=\"text-align: right;\">\n",
       "      <th></th>\n",
       "      <th>Name project</th>\n",
       "      <th>Longitude DD</th>\n",
       "      <th>Latitude DD</th>\n",
       "      <th>Elevation above sea level m</th>\n",
       "    </tr>\n",
       "  </thead>\n",
       "  <tbody>\n",
       "    <tr>\n",
       "      <th>0</th>\n",
       "      <td>WTP_Mutua_EIB</td>\n",
       "      <td>34.592784</td>\n",
       "      <td>-19.495080</td>\n",
       "      <td>15</td>\n",
       "    </tr>\n",
       "    <tr>\n",
       "      <th>1</th>\n",
       "      <td>Gorongosa_EIB</td>\n",
       "      <td>34.078243</td>\n",
       "      <td>-18.680637</td>\n",
       "      <td>383</td>\n",
       "    </tr>\n",
       "    <tr>\n",
       "      <th>2</th>\n",
       "      <td>Chimoio_WTP_EIB</td>\n",
       "      <td>33.473333</td>\n",
       "      <td>-19.125095</td>\n",
       "      <td>723</td>\n",
       "    </tr>\n",
       "    <tr>\n",
       "      <th>3</th>\n",
       "      <td>Pemba_EIB</td>\n",
       "      <td>40.525452</td>\n",
       "      <td>-12.973943</td>\n",
       "      <td>47</td>\n",
       "    </tr>\n",
       "  </tbody>\n",
       "</table>\n",
       "</div>"
      ],
      "text/plain": [
       "      Name project  Longitude DD  Latitude DD  Elevation above sea level m\n",
       "0    WTP_Mutua_EIB     34.592784   -19.495080                           15\n",
       "1    Gorongosa_EIB     34.078243   -18.680637                          383\n",
       "2  Chimoio_WTP_EIB     33.473333   -19.125095                          723\n",
       "3        Pemba_EIB     40.525452   -12.973943                           47"
      ]
     },
     "execution_count": 3,
     "metadata": {},
     "output_type": "execute_result"
    }
   ],
   "source": [
    "# name project in mozambique, those ones were added in the shp (there were initially not in the shapefile)\n",
    "name_projects = np.array(['WTP_Mutua_EIB', 'Gorongosa_EIB', 'Chimoio_WTP_EIB', 'Pemba_EIB'])\n",
    "\n",
    "lon_projects_data = np.array([34.5927839939706, 34.07824286310398 , 33.47333313659342, 40.52545156033736]) # decimal degrees\n",
    "lon_projects = pd.Series(lon_projects_data)\n",
    "\n",
    "lat_projects_data = np.array([-19.495079648575242, -18.68063728746643, -19.125095255188334,-12.973942656747809]) # decimal degrees\n",
    "lat_projects = pd.Series(lat_projects_data) \n",
    "buffer_area_project=2\n",
    "area_projects = [lat_projects - buffer_area_project, lat_projects+buffer_area_project, lon_projects-buffer_area_project,lon_projects+buffer_area_project] # list format\n",
    "\n",
    "# elevation above sea level \n",
    "elevation_asl_data = np.array([15, 383, 723, 47]) # unit m \n",
    "elevation_asl = pd.Series(elevation_asl_data) # unit m \n",
    "\n",
    "# add informations of projects in one dataframe\n",
    "infos_projects = pd.DataFrame()\n",
    "infos_projects['Name project'] = name_projects\n",
    "infos_projects['Longitude DD'] = lon_projects\n",
    "infos_projects['Latitude DD'] = lat_projects\n",
    "infos_projects['Elevation above sea level m'] = elevation_asl\n",
    "infos_projects"
   ]
  },
  {
   "cell_type": "markdown",
   "id": "a84709b2",
   "metadata": {},
   "source": [
    "<a id='climate_variables'></a>\n",
    "# Climate variables\n",
    "\n",
    "[Home](#beginning_CRVA)"
   ]
  },
  {
   "cell_type": "markdown",
   "id": "fded3e5a",
   "metadata": {},
   "source": [
    "<a id='atmosphere_climate_variables'></a>\n",
    "# ATMOSPHERE\n",
    "\n",
    "[Home](#beginning_CRVA)"
   ]
  },
  {
   "cell_type": "markdown",
   "id": "5df87640",
   "metadata": {},
   "source": [
    "<a id='worldbank'></a>\n",
    "## World Bank Climate knowledge portal, Precipitation and Temperature - Atmosphere\n",
    "data source: https://climateknowledgeportal.worldbank.org/download-data\n",
    "\n",
    "List of different variables:\n",
    "\n",
    "### Precipitation \n",
    "* return period of current 50 and 100 year event\n",
    "* yearly average precipitation\n",
    "* seasonal average precipitation - OR MONTH? i word documnet: average dry season precipitation \n",
    "* maximum precipitation in one day - NOT REALLY, instead \"Average of the largest daily precipitation amount\" rx1day \n",
    "* maximum precipitation in five days - NOT REALLY, instead \"Average of the largest 5-day consecutive precipitation amount\".\n",
    "* FORSLAG: Could also include: precipitation amount from very wet days/ days >50mm. eg. \n",
    "\n",
    "### Temperature\n",
    "* Yearly mean temperature (average) - tas \n",
    "* Number of hot days >40 degrees C (average)\n",
    "* Number of hot days >35 degrees C (average) \n",
    "* Maximum of daily max-temperature (per year) -txx\n",
    "* Average of maximum temperature (daily??) - tasmax \n",
    "\n",
    "### How to use\n",
    "define \n",
    "\n",
    "`variables = {variablename1:{'periods':['2020-2039'],'ssps':['ssp245','ssp370'],'gcms':['median','p10','p90']}, variablename2:...}`\n",
    "\n",
    "where variablename corresponds to a variable name in the cckp, periods include the desired periods, ssps the desired ssp-rcp scenarios, and gcms can be either median, p10, or p90 (50%, 10%, and 90% percentile of ensemble models)."
   ]
  },
  {
   "cell_type": "code",
   "execution_count": null,
   "id": "d8b0eada",
   "metadata": {},
   "outputs": [],
   "source": [
    "#Read downloaded precipitation and temperature data\n",
    "#settings\n",
    "\n",
    "variables= {\n",
    "    #Temperature\n",
    "        #era/cru\n",
    "            #'climatology-hd35-annual-mean_era':{'periods':['1991-2020']},\n",
    "            'climatology-hd40-annual-mean_era':{'periods':['1991-2020']},\n",
    "            'climatology-tasmax-annual-mean_era':{'periods':['1991-2020']}, \n",
    "            'climatology-tas-annual-mean_era':{'periods':['1991-2020']},\n",
    "            'climatology-tasmax-annual-mean_cru':{'periods':['1991-2020']}, \n",
    "        #realtime\n",
    "            'climatology-hd40':{'periods':['2020-2039'],'ssps':['ssp245','ssp370'],'gcms':['median','p10','p90']},\n",
    "            'anomaly-hd40':{'periods':['2020-2039'],'ssps':['ssp245','ssp370'],'gcms':['median']},\n",
    "            #'anomaly-hd35':{'periods':['2020-2039'],'ssps':['ssp245','ssp370'],'gcms':['median','p10','p90']},\n",
    "            #'anomaly-tasmax':{'periods':['2020-2039','2040-2059'],'ssps':['ssp245','ssp370'],'gcms':['median','p10','p90']}, \n",
    "            'anomaly-txx':{'periods':['2020-2039','2040-2059'],'ssps':['ssp245','ssp370'],'gcms':['median','p10','p90']}, #txx=maximum of daily max temperature\n",
    "            'climatology-txx':{'periods':['2020-2039','2040-2059'],'ssps':['ssp245','ssp370'],'gcms':['median','p10','p90']},\n",
    "            'anomaly-tas':{'periods':['2020-2039'],'ssps':['ssp245','ssp370'],'gcms':['median','p10','p90']},\n",
    "            'climatology-tas':{'periods':['2020-2039','2040-2059'],'ssps':['ssp245','ssp370'],'gcms':['median','p10','p90']}, #data not downloaded \n",
    "    #Precipitation\n",
    "       #era/cru\n",
    "            #'climatology-r50mm-annual-mean_era_annual':{'periods':['1991-2020']},\n",
    "            'climatology-rx1day-monthly-mean_era_monthly':{'periods':['1991-2020']},\n",
    "            'climatology-rx1day-annual-mean_era_annual':{'periods':['1991-2020']},\n",
    "            'climatology-pr-annual-mean_era_annual':{'periods':['1991-2020']},\n",
    "            'climatology-pr-monthly-mean_era_monthly':{'periods':['1991-2020']},\n",
    "            'climatology-pr-annual-mean_cru':{'periods':['1991-2020']},\n",
    "        #realtime\n",
    "            'frp100yr-rx1day-period-mean_cmip6_period':{'periods':['2010-2039','2035-2064'],'ssps':['ssp245','ssp370'],'gcms':['median','p10','p90']}, \n",
    "            'frp50yr-rx1day-period-mean_cmip6_period':{'periods':['2010-2039'],'ssps':['ssp245','ssp370'],'gcms':['median','p10','p90']},\n",
    "            'climatology-rx5day-annual-mean_cmip6_annual':{'periods':['2020-2039','2040-2059'],'ssps':['ssp245','ssp370'],'gcms':['median','p10','p90']},\n",
    "            'climatology-rx1day-annual-mean_cmip6_annual':{'periods':['2020-2039','2040-2059'],'ssps':['ssp245','ssp370'],'gcms':['median','p10','p90']},\n",
    "            'climatology-pr-monthly-mean_cmip6_monthly':{'periods':['2020-2039','2040-2059'],'ssps':['ssp245','ssp370'],'gcms':['median','p10','p90']},\n",
    "            'climatology-pr-annual-mean_cmip6_annual':{'periods':['2020-2039','2040-2059'],'ssps':['ssp245','ssp370'],'gcms':['median','p10','p90']},\n",
    "            'climatology-pr-seasonal-mean_cmip6_seasonal':{'periods':['2020-2039','2040-2059'],'ssps':['ssp245','ssp370'],'gcms':['median','p10','p90']},\n",
    "            'changefactorfaep100yr-rx1day-period-mean_cmip6_period':{'periods':['2010-2039'],'ssps':['ssp245','ssp370'],'gcms':['median','p10','p90']},\n",
    "            #'anomaly-pr-monthly-mean_cmip6_monthly':{'periods':['2040-2059'],'ssps':['ssp245','ssp370'],'gcms':['median','p10','p90']}\n",
    "            }\n",
    "       ## 'timeseries-rx1day':{'periods':['2015-2100'],'ssps':['ssp245'],'gcms':['median']} # Den kan ikke læse den - brokker sig over Dimension time=0. \n",
    "       \n",
    "#Create multi index for cckp_output\n",
    "idx=pd.IndexSlice\n",
    "mindex=[]\n",
    "for var in variables.keys():\n",
    "    for period in variables[var]['periods']:\n",
    "        if period in ['1991-2020']:\n",
    "            mindex.append((var,period,None,None))\n",
    "        else:\n",
    "            for ssp in variables[var]['ssps']:\n",
    "                    for gcm in variables[var]['gcms']:\n",
    "                        mindex.append((var,period,ssp,gcm))\n",
    "mindex=pd.MultiIndex.from_tuples(mindex, names=['variable', 'period','ssp','gcm'])\n",
    "#cckp_output=pd.DataFrame(index=projects[project_id],columns=mindex)\n",
    "cckp_output=pd.DataFrame(index=mindex,columns=projects[project_id])\n",
    "\n",
    "#read data from cckp and spatial statistics\n",
    "for var in variables.keys():\n",
    "    for period in variables[var]['periods']:\n",
    "        if period in ['1991-2020']: # for era/cru data\n",
    "            varname='_'.join((var,period))\n",
    "            data_path=get_cckp_file_name(var,period=period)\n",
    "            if os.path.exists(data_path):\n",
    "                data=read_cckp_ncdata(data_path)\n",
    "                stats=pd.DataFrame(zonal_stats(vectors=projects_buf, raster=data,all_touched=True, stats='mean'))\n",
    "                projects[varname]=stats\n",
    "                #cckp_output.loc[:,idx[var,period,:,:]]=stats.values\n",
    "                cckp_output.loc[idx[var,period,:,:],:]=stats.T.values\n",
    "            else:\n",
    "                print(data_path,\"not found\")\n",
    "                projects[varname]='not found'\n",
    "        elif period not in ['1991-2020']: #for realtime data \n",
    "                for ssp in variables[var]['ssps']:\n",
    "                    for gcm in variables[var]['gcms']:\n",
    "                        varname='_'.join((var,period,ssp,gcm))\n",
    "                        data_path=get_cckp_file_name(var,ssp=ssp,period=period,gcm=gcm)\n",
    "                        if os.path.exists(data_path):\n",
    "                            data=read_cckp_ncdata(data_path)\n",
    "                            stats=pd.DataFrame(zonal_stats(vectors=projects_buf, raster=data,all_touched=True, stats='mean'))\n",
    "                            projects[varname]=stats\n",
    "                            #cckp_output.loc[:,idx[var,period,ssp,gcm]]=stats.values\n",
    "                            cckp_output.loc[idx[var,period,ssp,gcm],:]=stats.T.values\n",
    "                        else:\n",
    "                            print(data_path,\"not found\")\n",
    "                            projects[varname]='not found'\n",
    "\n",
    "\n",
    "#plot, show #ADD enlarge the clip + something wierd with nodata value\n",
    "cckp_output.to_csv('outputs/csv/cckp_output.csv')\n",
    "projects[[project_id,varname]].head()\n",
    "\n",
    "fig, ax = plt.subplots()\n",
    "precip = rioxarray.open_rasterio(data)\n",
    "precip_clip = precip.rio.clip(study_area.geometry, study_area.crs, drop=True)\n",
    "precip_clip.plot(ax=ax)\n",
    "projects.plot(ax=ax)\n",
    "\n",
    "#close\n",
    "precip.close()"
   ]
  },
  {
   "cell_type": "markdown",
   "id": "def416cf",
   "metadata": {},
   "source": [
    "## Temperature - Not BC\n",
    "\n",
    "By comparing NEX GDDP CMIP6 data to observed data, we know that the models 'TAIESM1' and 'CMCC-CM2-SR5' do not comply to the observed data. We are taking them off the analysis.\n",
    "A bias correction does not better the queality of the data. It follows oberved data enough"
   ]
  },
  {
   "cell_type": "code",
   "execution_count": 129,
   "id": "9f1e4be2",
   "metadata": {},
   "outputs": [],
   "source": [
    "df_tas_NEXGDDPCMIP6=import_treat_modeled_NEX_GDDP_CMIP6('tas','Celsius','day',1950,2100)"
   ]
  },
  {
   "cell_type": "code",
   "execution_count": null,
   "id": "3c966eca",
   "metadata": {},
   "outputs": [],
   "source": []
  },
  {
   "cell_type": "code",
   "execution_count": 130,
   "id": "8b49655a",
   "metadata": {},
   "outputs": [
    {
     "name": "stdout",
     "output_type": "stream",
     "text": [
      "delete models\n"
     ]
    }
   ],
   "source": [
    "df_tas_NEXGDDPCMIP6_gorongosa = filter_dataframe(df_tas_NEXGDDPCMIP6,['Gorongosa_EIB'],['TaiESM1','CMCC-CM2-SR5','NESM3'])"
   ]
  },
  {
   "cell_type": "code",
   "execution_count": 131,
   "id": "3ac6811d",
   "metadata": {},
   "outputs": [
    {
     "name": "stdout",
     "output_type": "stream",
     "text": [
      "delete models\n"
     ]
    }
   ],
   "source": [
    "df_tas_NEXGDDPCMIP6_all_projects = filter_dataframe(df_tas_NEXGDDPCMIP6,list(set(df_tas_NEXGDDPCMIP6['Name project'])),['TaiESM1','CMCC-CM2-SR5'])"
   ]
  },
  {
   "cell_type": "markdown",
   "id": "76b51606",
   "metadata": {},
   "source": [
    "### Incremental air temperature change"
   ]
  },
  {
   "cell_type": "code",
   "execution_count": 132,
   "id": "f3d8d3c1",
   "metadata": {},
   "outputs": [],
   "source": [
    "# calculate mean per year for gorongosa \n",
    "df_yearly_avg_tas_NEXGDDPCMIP6_gorongosa=temporal_avg(df_tas_NEXGDDPCMIP6_gorongosa,'temperature','Yearly average temperature','year')"
   ]
  },
  {
   "cell_type": "code",
   "execution_count": 133,
   "id": "af2b50a9",
   "metadata": {},
   "outputs": [
    {
     "data": {
      "text/html": [
       "<div>\n",
       "<style scoped>\n",
       "    .dataframe tbody tr th:only-of-type {\n",
       "        vertical-align: middle;\n",
       "    }\n",
       "\n",
       "    .dataframe tbody tr th {\n",
       "        vertical-align: top;\n",
       "    }\n",
       "\n",
       "    .dataframe thead th {\n",
       "        text-align: right;\n",
       "    }\n",
       "</style>\n",
       "<table border=\"1\" class=\"dataframe\">\n",
       "  <thead>\n",
       "    <tr style=\"text-align: right;\">\n",
       "      <th></th>\n",
       "      <th></th>\n",
       "      <th></th>\n",
       "      <th></th>\n",
       "      <th>Yearly average temperature</th>\n",
       "    </tr>\n",
       "    <tr>\n",
       "      <th>Name project</th>\n",
       "      <th>Experiment</th>\n",
       "      <th>Model</th>\n",
       "      <th>Year</th>\n",
       "      <th></th>\n",
       "    </tr>\n",
       "  </thead>\n",
       "  <tbody>\n",
       "    <tr>\n",
       "      <th rowspan=\"11\" valign=\"top\">Gorongosa_EIB</th>\n",
       "      <th rowspan=\"5\" valign=\"top\">historical</th>\n",
       "      <th rowspan=\"5\" valign=\"top\">ACCESS-CM2</th>\n",
       "      <th>1950</th>\n",
       "      <td>23.864192</td>\n",
       "    </tr>\n",
       "    <tr>\n",
       "      <th>1951</th>\n",
       "      <td>23.243487</td>\n",
       "    </tr>\n",
       "    <tr>\n",
       "      <th>1952</th>\n",
       "      <td>23.682020</td>\n",
       "    </tr>\n",
       "    <tr>\n",
       "      <th>1953</th>\n",
       "      <td>23.113887</td>\n",
       "    </tr>\n",
       "    <tr>\n",
       "      <th>1954</th>\n",
       "      <td>23.167121</td>\n",
       "    </tr>\n",
       "    <tr>\n",
       "      <th>...</th>\n",
       "      <th>...</th>\n",
       "      <th>...</th>\n",
       "      <td>...</td>\n",
       "    </tr>\n",
       "    <tr>\n",
       "      <th rowspan=\"5\" valign=\"top\">ssp585</th>\n",
       "      <th rowspan=\"5\" valign=\"top\">NorESM2-MM</th>\n",
       "      <th>2096</th>\n",
       "      <td>27.957476</td>\n",
       "    </tr>\n",
       "    <tr>\n",
       "      <th>2097</th>\n",
       "      <td>29.012003</td>\n",
       "    </tr>\n",
       "    <tr>\n",
       "      <th>2098</th>\n",
       "      <td>28.393526</td>\n",
       "    </tr>\n",
       "    <tr>\n",
       "      <th>2099</th>\n",
       "      <td>28.864844</td>\n",
       "    </tr>\n",
       "    <tr>\n",
       "      <th>2100</th>\n",
       "      <td>29.560559</td>\n",
       "    </tr>\n",
       "  </tbody>\n",
       "</table>\n",
       "<p>4908 rows × 1 columns</p>\n",
       "</div>"
      ],
      "text/plain": [
       "                                          Yearly average temperature\n",
       "Name project  Experiment Model      Year                            \n",
       "Gorongosa_EIB historical ACCESS-CM2 1950                   23.864192\n",
       "                                    1951                   23.243487\n",
       "                                    1952                   23.682020\n",
       "                                    1953                   23.113887\n",
       "                                    1954                   23.167121\n",
       "...                                                              ...\n",
       "              ssp585     NorESM2-MM 2096                   27.957476\n",
       "                                    2097                   29.012003\n",
       "                                    2098                   28.393526\n",
       "                                    2099                   28.864844\n",
       "                                    2100                   29.560559\n",
       "\n",
       "[4908 rows x 1 columns]"
      ]
     },
     "execution_count": 133,
     "metadata": {},
     "output_type": "execute_result"
    }
   ],
   "source": [
    "df_yearly_avg_tas_NEXGDDPCMIP6_gorongosa"
   ]
  },
  {
   "cell_type": "markdown",
   "id": "d21e2f63",
   "metadata": {},
   "source": [
    "#### Vulnerability - Exposure"
   ]
  },
  {
   "cell_type": "code",
   "execution_count": 134,
   "id": "cc6b3b99",
   "metadata": {},
   "outputs": [],
   "source": [
    "# statistical distribution for temperature past and future\n",
    "df_stat_distr_yearly_avg_tas_NEXGDDPCMIP6_gorongosa_past = df_stat_distr(df_yearly_avg_tas_NEXGDDPCMIP6_gorongosa.reset_index()[df_yearly_avg_tas_NEXGDDPCMIP6_gorongosa.reset_index()['Year'].between(1970,2014)][['Name project','Yearly average temperature']])\n",
    "df_stat_distr_yearly_avg_tas_NEXGDDPCMIP6_gorongosa_future = df_stat_distr(df_yearly_avg_tas_NEXGDDPCMIP6_gorongosa.reset_index()[df_yearly_avg_tas_NEXGDDPCMIP6_gorongosa.reset_index()['Year'].between(2030,2065)][['Name project','Yearly average temperature']])"
   ]
  },
  {
   "cell_type": "code",
   "execution_count": 135,
   "id": "873ac63b",
   "metadata": {},
   "outputs": [
    {
     "data": {
      "text/html": [
       "<div>\n",
       "<style scoped>\n",
       "    .dataframe tbody tr th:only-of-type {\n",
       "        vertical-align: middle;\n",
       "    }\n",
       "\n",
       "    .dataframe tbody tr th {\n",
       "        vertical-align: top;\n",
       "    }\n",
       "\n",
       "    .dataframe thead tr th {\n",
       "        text-align: left;\n",
       "    }\n",
       "\n",
       "    .dataframe thead tr:last-of-type th {\n",
       "        text-align: right;\n",
       "    }\n",
       "</style>\n",
       "<table border=\"1\" class=\"dataframe\">\n",
       "  <thead>\n",
       "    <tr>\n",
       "      <th></th>\n",
       "      <th colspan=\"8\" halign=\"left\">Yearly average temperature</th>\n",
       "    </tr>\n",
       "    <tr>\n",
       "      <th></th>\n",
       "      <th>count</th>\n",
       "      <th>mean</th>\n",
       "      <th>std</th>\n",
       "      <th>min</th>\n",
       "      <th>10%</th>\n",
       "      <th>50%</th>\n",
       "      <th>90%</th>\n",
       "      <th>max</th>\n",
       "    </tr>\n",
       "    <tr>\n",
       "      <th>Name project</th>\n",
       "      <th></th>\n",
       "      <th></th>\n",
       "      <th></th>\n",
       "      <th></th>\n",
       "      <th></th>\n",
       "      <th></th>\n",
       "      <th></th>\n",
       "      <th></th>\n",
       "    </tr>\n",
       "  </thead>\n",
       "  <tbody>\n",
       "    <tr>\n",
       "      <th>Gorongosa_EIB</th>\n",
       "      <td>540.0</td>\n",
       "      <td>23.719323</td>\n",
       "      <td>0.519314</td>\n",
       "      <td>22.059981</td>\n",
       "      <td>23.091981</td>\n",
       "      <td>23.679981</td>\n",
       "      <td>24.412787</td>\n",
       "      <td>25.72493</td>\n",
       "    </tr>\n",
       "  </tbody>\n",
       "</table>\n",
       "</div>"
      ],
      "text/plain": [
       "              Yearly average temperature                                  \\\n",
       "                                   count       mean       std        min   \n",
       "Name project                                                               \n",
       "Gorongosa_EIB                      540.0  23.719323  0.519314  22.059981   \n",
       "\n",
       "                                                          \n",
       "                     10%        50%        90%       max  \n",
       "Name project                                              \n",
       "Gorongosa_EIB  23.091981  23.679981  24.412787  25.72493  "
      ]
     },
     "execution_count": 135,
     "metadata": {},
     "output_type": "execute_result"
    }
   ],
   "source": [
    "df_stat_distr_yearly_avg_tas_NEXGDDPCMIP6_gorongosa_past"
   ]
  },
  {
   "cell_type": "code",
   "execution_count": 136,
   "id": "7c07d1b4",
   "metadata": {},
   "outputs": [],
   "source": [
    "changes_past_future_indicator_tas=changes_in_indicators(df_stat_distr_yearly_avg_tas_NEXGDDPCMIP6_gorongosa_past,df_stat_distr_yearly_avg_tas_NEXGDDPCMIP6_gorongosa_future,'Mean temperature per year', '°C','Incremental temperature increase')"
   ]
  },
  {
   "cell_type": "code",
   "execution_count": 137,
   "id": "a82a5d39",
   "metadata": {},
   "outputs": [
    {
     "data": {
      "text/html": [
       "<div>\n",
       "<style scoped>\n",
       "    .dataframe tbody tr th:only-of-type {\n",
       "        vertical-align: middle;\n",
       "    }\n",
       "\n",
       "    .dataframe tbody tr th {\n",
       "        vertical-align: top;\n",
       "    }\n",
       "\n",
       "    .dataframe thead tr th {\n",
       "        text-align: left;\n",
       "    }\n",
       "</style>\n",
       "<table border=\"1\" class=\"dataframe\">\n",
       "  <thead>\n",
       "    <tr>\n",
       "      <th></th>\n",
       "      <th colspan=\"6\" halign=\"left\">Incremental temperature increase</th>\n",
       "    </tr>\n",
       "    <tr>\n",
       "      <th></th>\n",
       "      <th colspan=\"6\" halign=\"left\">Mean temperature per year</th>\n",
       "    </tr>\n",
       "    <tr>\n",
       "      <th></th>\n",
       "      <th>Median for the past period °C</th>\n",
       "      <th>Change in the median in %</th>\n",
       "      <th>10-th percentile for the past period °C</th>\n",
       "      <th>Change in 10-th percentile %</th>\n",
       "      <th>90-th percentile for the past period °C</th>\n",
       "      <th>Change in 90-th percentile %</th>\n",
       "    </tr>\n",
       "  </thead>\n",
       "  <tbody>\n",
       "    <tr>\n",
       "      <th>Gorongosa_EIB</th>\n",
       "      <td>23.679981</td>\n",
       "      <td>7.163409</td>\n",
       "      <td>23.091981</td>\n",
       "      <td>5.894822</td>\n",
       "      <td>24.412787</td>\n",
       "      <td>8.714579</td>\n",
       "    </tr>\n",
       "  </tbody>\n",
       "</table>\n",
       "</div>"
      ],
      "text/plain": [
       "              Incremental temperature increase                            \\\n",
       "                     Mean temperature per year                             \n",
       "                 Median for the past period °C Change in the median in %   \n",
       "Gorongosa_EIB                        23.679981                  7.163409   \n",
       "\n",
       "                                                       \\\n",
       "                                                        \n",
       "              10-th percentile for the past period °C   \n",
       "Gorongosa_EIB                               23.091981   \n",
       "\n",
       "                                            \\\n",
       "                                             \n",
       "              Change in 10-th percentile %   \n",
       "Gorongosa_EIB                     5.894822   \n",
       "\n",
       "                                                       \\\n",
       "                                                        \n",
       "              90-th percentile for the past period °C   \n",
       "Gorongosa_EIB                               24.412787   \n",
       "\n",
       "                                            \n",
       "                                            \n",
       "              Change in 90-th percentile %  \n",
       "Gorongosa_EIB                     8.714579  "
      ]
     },
     "execution_count": 137,
     "metadata": {},
     "output_type": "execute_result"
    }
   ],
   "source": [
    "changes_past_future_indicator_tas"
   ]
  },
  {
   "cell_type": "markdown",
   "id": "c70b92b3",
   "metadata": {},
   "source": [
    "#### Risk assessment - Likelihood"
   ]
  },
  {
   "cell_type": "code",
   "execution_count": null,
   "id": "ebeb6412",
   "metadata": {},
   "outputs": [],
   "source": [
    "# as the elements of the project is not vulnerable regarding yearly temperature, no need to do risk assessment\n",
    "(proba_event_accross_model_and_ssp_gorongosa_tas,likelihood_accross_model_and_ssp_gorongosa_tas)=likelihood_accross_models_and_ssps(df_yearly_avg_tas_NEXGDDPCMIP6_gorongosa.reset_index()[df_yearly_avg_tas_NEXGDDPCMIP6_gorongosa.reset_index()['Year'].between(2030,2065)],'tas','°C','Yearly average temperature',40,'>')"
   ]
  },
  {
   "cell_type": "code",
   "execution_count": null,
   "id": "46b07866",
   "metadata": {},
   "outputs": [],
   "source": [
    "proba_event_accross_model_and_ssp_gorongosa_tas"
   ]
  },
  {
   "cell_type": "code",
   "execution_count": null,
   "id": "fc8becd5",
   "metadata": {},
   "outputs": [],
   "source": [
    "likelihood_accross_model_and_ssp_gorongosa_tas"
   ]
  },
  {
   "cell_type": "code",
   "execution_count": null,
   "id": "81c1bf42",
   "metadata": {},
   "outputs": [],
   "source": [
    "#df_yearly_avg_tas_NEXGDDPCMIP6_gorongosa"
   ]
  },
  {
   "cell_type": "code",
   "execution_count": null,
   "id": "aa5f6620",
   "metadata": {},
   "outputs": [],
   "source": []
  },
  {
   "cell_type": "markdown",
   "id": "3a350fe4",
   "metadata": {},
   "source": [
    "### Extreme temperature increase"
   ]
  },
  {
   "cell_type": "code",
   "execution_count": 138,
   "id": "f8d131f4",
   "metadata": {},
   "outputs": [],
   "source": [
    "df_tasmax_NEXGDDPCMIP6 = import_treat_modeled_NEX_GDDP_CMIP6('tasmax','Celsius','day',1950,2100)"
   ]
  },
  {
   "cell_type": "code",
   "execution_count": 139,
   "id": "7b6d111e",
   "metadata": {},
   "outputs": [
    {
     "name": "stdout",
     "output_type": "stream",
     "text": [
      "delete models\n"
     ]
    }
   ],
   "source": [
    "df_tasmax_NEXGDDPCMIP6_past = filter_dataframe(df_tasmax_NEXGDDPCMIP6,['Gorongosa_EIB'],['TaiESM1','CMCC-CM2-SR5','NESM3'],start_y=1970,stop_y=2014)"
   ]
  },
  {
   "cell_type": "code",
   "execution_count": 140,
   "id": "fd2e893b",
   "metadata": {},
   "outputs": [
    {
     "name": "stdout",
     "output_type": "stream",
     "text": [
      "delete models\n"
     ]
    }
   ],
   "source": [
    "df_tasmax_NEXGDDPCMIP6_future = filter_dataframe(df_tasmax_NEXGDDPCMIP6,['Gorongosa_EIB'],['TaiESM1','CMCC-CM2-SR5','NESM3'],start_y=2030,stop_y=2065)"
   ]
  },
  {
   "cell_type": "code",
   "execution_count": 141,
   "id": "9d9d33af",
   "metadata": {},
   "outputs": [
    {
     "data": {
      "text/html": [
       "<div>\n",
       "<style scoped>\n",
       "    .dataframe tbody tr th:only-of-type {\n",
       "        vertical-align: middle;\n",
       "    }\n",
       "\n",
       "    .dataframe tbody tr th {\n",
       "        vertical-align: top;\n",
       "    }\n",
       "\n",
       "    .dataframe thead th {\n",
       "        text-align: right;\n",
       "    }\n",
       "</style>\n",
       "<table border=\"1\" class=\"dataframe\">\n",
       "  <thead>\n",
       "    <tr style=\"text-align: right;\">\n",
       "      <th></th>\n",
       "      <th>Name project</th>\n",
       "      <th>Experiment</th>\n",
       "      <th>Model</th>\n",
       "      <th>Latitude</th>\n",
       "      <th>Longitude</th>\n",
       "      <th>Date</th>\n",
       "      <th>Daily Maximum Near-Surface Air Temperature °C</th>\n",
       "      <th>Year</th>\n",
       "      <th>Month</th>\n",
       "      <th>Season</th>\n",
       "    </tr>\n",
       "  </thead>\n",
       "  <tbody>\n",
       "    <tr>\n",
       "      <th>2429243</th>\n",
       "      <td>Gorongosa_EIB</td>\n",
       "      <td>ssp245</td>\n",
       "      <td>ACCESS-CM2</td>\n",
       "      <td>-18.625</td>\n",
       "      <td>34.125</td>\n",
       "      <td>01-01-2030</td>\n",
       "      <td>30.775543</td>\n",
       "      <td>2030</td>\n",
       "      <td>Jan</td>\n",
       "      <td>Humid</td>\n",
       "    </tr>\n",
       "    <tr>\n",
       "      <th>2429244</th>\n",
       "      <td>Gorongosa_EIB</td>\n",
       "      <td>ssp245</td>\n",
       "      <td>ACCESS-CM2</td>\n",
       "      <td>-18.625</td>\n",
       "      <td>34.125</td>\n",
       "      <td>02-01-2030</td>\n",
       "      <td>30.960052</td>\n",
       "      <td>2030</td>\n",
       "      <td>Jan</td>\n",
       "      <td>Humid</td>\n",
       "    </tr>\n",
       "    <tr>\n",
       "      <th>2429245</th>\n",
       "      <td>Gorongosa_EIB</td>\n",
       "      <td>ssp245</td>\n",
       "      <td>ACCESS-CM2</td>\n",
       "      <td>-18.625</td>\n",
       "      <td>34.125</td>\n",
       "      <td>03-01-2030</td>\n",
       "      <td>32.110382</td>\n",
       "      <td>2030</td>\n",
       "      <td>Jan</td>\n",
       "      <td>Humid</td>\n",
       "    </tr>\n",
       "    <tr>\n",
       "      <th>2429246</th>\n",
       "      <td>Gorongosa_EIB</td>\n",
       "      <td>ssp245</td>\n",
       "      <td>ACCESS-CM2</td>\n",
       "      <td>-18.625</td>\n",
       "      <td>34.125</td>\n",
       "      <td>04-01-2030</td>\n",
       "      <td>31.183472</td>\n",
       "      <td>2030</td>\n",
       "      <td>Jan</td>\n",
       "      <td>Humid</td>\n",
       "    </tr>\n",
       "    <tr>\n",
       "      <th>2429247</th>\n",
       "      <td>Gorongosa_EIB</td>\n",
       "      <td>ssp245</td>\n",
       "      <td>ACCESS-CM2</td>\n",
       "      <td>-18.625</td>\n",
       "      <td>34.125</td>\n",
       "      <td>05-01-2030</td>\n",
       "      <td>30.880676</td>\n",
       "      <td>2030</td>\n",
       "      <td>Jan</td>\n",
       "      <td>Humid</td>\n",
       "    </tr>\n",
       "    <tr>\n",
       "      <th>...</th>\n",
       "      <td>...</td>\n",
       "      <td>...</td>\n",
       "      <td>...</td>\n",
       "      <td>...</td>\n",
       "      <td>...</td>\n",
       "      <td>...</td>\n",
       "      <td>...</td>\n",
       "      <td>...</td>\n",
       "      <td>...</td>\n",
       "      <td>...</td>\n",
       "    </tr>\n",
       "    <tr>\n",
       "      <th>4138581</th>\n",
       "      <td>Gorongosa_EIB</td>\n",
       "      <td>ssp370</td>\n",
       "      <td>NorESM2-MM</td>\n",
       "      <td>-18.625</td>\n",
       "      <td>34.125</td>\n",
       "      <td>27-12-2065</td>\n",
       "      <td>39.657288</td>\n",
       "      <td>2065</td>\n",
       "      <td>Dec</td>\n",
       "      <td>Humid</td>\n",
       "    </tr>\n",
       "    <tr>\n",
       "      <th>4138582</th>\n",
       "      <td>Gorongosa_EIB</td>\n",
       "      <td>ssp370</td>\n",
       "      <td>NorESM2-MM</td>\n",
       "      <td>-18.625</td>\n",
       "      <td>34.125</td>\n",
       "      <td>28-12-2065</td>\n",
       "      <td>41.028595</td>\n",
       "      <td>2065</td>\n",
       "      <td>Dec</td>\n",
       "      <td>Humid</td>\n",
       "    </tr>\n",
       "    <tr>\n",
       "      <th>4138583</th>\n",
       "      <td>Gorongosa_EIB</td>\n",
       "      <td>ssp370</td>\n",
       "      <td>NorESM2-MM</td>\n",
       "      <td>-18.625</td>\n",
       "      <td>34.125</td>\n",
       "      <td>29-12-2065</td>\n",
       "      <td>38.614014</td>\n",
       "      <td>2065</td>\n",
       "      <td>Dec</td>\n",
       "      <td>Humid</td>\n",
       "    </tr>\n",
       "    <tr>\n",
       "      <th>4138584</th>\n",
       "      <td>Gorongosa_EIB</td>\n",
       "      <td>ssp370</td>\n",
       "      <td>NorESM2-MM</td>\n",
       "      <td>-18.625</td>\n",
       "      <td>34.125</td>\n",
       "      <td>30-12-2065</td>\n",
       "      <td>37.060669</td>\n",
       "      <td>2065</td>\n",
       "      <td>Dec</td>\n",
       "      <td>Humid</td>\n",
       "    </tr>\n",
       "    <tr>\n",
       "      <th>4138585</th>\n",
       "      <td>Gorongosa_EIB</td>\n",
       "      <td>ssp370</td>\n",
       "      <td>NorESM2-MM</td>\n",
       "      <td>-18.625</td>\n",
       "      <td>34.125</td>\n",
       "      <td>31-12-2065</td>\n",
       "      <td>37.085846</td>\n",
       "      <td>2065</td>\n",
       "      <td>Dec</td>\n",
       "      <td>Humid</td>\n",
       "    </tr>\n",
       "  </tbody>\n",
       "</table>\n",
       "<p>578556 rows × 10 columns</p>\n",
       "</div>"
      ],
      "text/plain": [
       "          Name project Experiment       Model  Latitude  Longitude  \\\n",
       "2429243  Gorongosa_EIB     ssp245  ACCESS-CM2   -18.625     34.125   \n",
       "2429244  Gorongosa_EIB     ssp245  ACCESS-CM2   -18.625     34.125   \n",
       "2429245  Gorongosa_EIB     ssp245  ACCESS-CM2   -18.625     34.125   \n",
       "2429246  Gorongosa_EIB     ssp245  ACCESS-CM2   -18.625     34.125   \n",
       "2429247  Gorongosa_EIB     ssp245  ACCESS-CM2   -18.625     34.125   \n",
       "...                ...        ...         ...       ...        ...   \n",
       "4138581  Gorongosa_EIB     ssp370  NorESM2-MM   -18.625     34.125   \n",
       "4138582  Gorongosa_EIB     ssp370  NorESM2-MM   -18.625     34.125   \n",
       "4138583  Gorongosa_EIB     ssp370  NorESM2-MM   -18.625     34.125   \n",
       "4138584  Gorongosa_EIB     ssp370  NorESM2-MM   -18.625     34.125   \n",
       "4138585  Gorongosa_EIB     ssp370  NorESM2-MM   -18.625     34.125   \n",
       "\n",
       "               Date  Daily Maximum Near-Surface Air Temperature °C  Year  \\\n",
       "2429243  01-01-2030                                      30.775543  2030   \n",
       "2429244  02-01-2030                                      30.960052  2030   \n",
       "2429245  03-01-2030                                      32.110382  2030   \n",
       "2429246  04-01-2030                                      31.183472  2030   \n",
       "2429247  05-01-2030                                      30.880676  2030   \n",
       "...             ...                                            ...   ...   \n",
       "4138581  27-12-2065                                      39.657288  2065   \n",
       "4138582  28-12-2065                                      41.028595  2065   \n",
       "4138583  29-12-2065                                      38.614014  2065   \n",
       "4138584  30-12-2065                                      37.060669  2065   \n",
       "4138585  31-12-2065                                      37.085846  2065   \n",
       "\n",
       "        Month Season  \n",
       "2429243   Jan  Humid  \n",
       "2429244   Jan  Humid  \n",
       "2429245   Jan  Humid  \n",
       "2429246   Jan  Humid  \n",
       "2429247   Jan  Humid  \n",
       "...       ...    ...  \n",
       "4138581   Dec  Humid  \n",
       "4138582   Dec  Humid  \n",
       "4138583   Dec  Humid  \n",
       "4138584   Dec  Humid  \n",
       "4138585   Dec  Humid  \n",
       "\n",
       "[578556 rows x 10 columns]"
      ]
     },
     "execution_count": 141,
     "metadata": {},
     "output_type": "execute_result"
    }
   ],
   "source": [
    "df_tasmax_NEXGDDPCMIP6_future"
   ]
  },
  {
   "cell_type": "code",
   "execution_count": 142,
   "id": "d442a1ee",
   "metadata": {},
   "outputs": [],
   "source": [
    "# maximum daily temperature"
   ]
  },
  {
   "cell_type": "markdown",
   "id": "04000c98",
   "metadata": {},
   "source": [
    "#### Vulnerability - Exposure - Event : Daily maximum temperature above 40 °"
   ]
  },
  {
   "cell_type": "code",
   "execution_count": 143,
   "id": "99ac5177",
   "metadata": {},
   "outputs": [],
   "source": [
    "# statistical distribution for daily maximum temperature past and future\n",
    "df_stat_distr_tasmax_NEXGDDPCMIP6_gorongosa_past = df_stat_distr(df_tasmax_NEXGDDPCMIP6_past[['Name project','Daily Maximum Near-Surface Air Temperature °C']])\n",
    "df_stat_distr_tasmax_NEXGDDPCMIP6_gorongosa_future = df_stat_distr(df_tasmax_NEXGDDPCMIP6_future[['Name project','Daily Maximum Near-Surface Air Temperature °C']])"
   ]
  },
  {
   "cell_type": "code",
   "execution_count": 144,
   "id": "6774a27f",
   "metadata": {},
   "outputs": [],
   "source": [
    "changes_past_future_indicator_tasmax=changes_in_indicators(df_stat_distr_tasmax_NEXGDDPCMIP6_gorongosa_past,df_stat_distr_tasmax_NEXGDDPCMIP6_gorongosa_future,'Daily maximum temperature', '°C','Extreme temperature increase')"
   ]
  },
  {
   "cell_type": "code",
   "execution_count": 145,
   "id": "7b73665d",
   "metadata": {},
   "outputs": [
    {
     "data": {
      "text/html": [
       "<div>\n",
       "<style scoped>\n",
       "    .dataframe tbody tr th:only-of-type {\n",
       "        vertical-align: middle;\n",
       "    }\n",
       "\n",
       "    .dataframe tbody tr th {\n",
       "        vertical-align: top;\n",
       "    }\n",
       "\n",
       "    .dataframe thead tr th {\n",
       "        text-align: left;\n",
       "    }\n",
       "</style>\n",
       "<table border=\"1\" class=\"dataframe\">\n",
       "  <thead>\n",
       "    <tr>\n",
       "      <th></th>\n",
       "      <th colspan=\"6\" halign=\"left\">Incremental temperature increase</th>\n",
       "      <th colspan=\"6\" halign=\"left\">Extreme temperature increase</th>\n",
       "    </tr>\n",
       "    <tr>\n",
       "      <th></th>\n",
       "      <th colspan=\"6\" halign=\"left\">Mean temperature per year</th>\n",
       "      <th colspan=\"6\" halign=\"left\">Daily maximum temperature</th>\n",
       "    </tr>\n",
       "    <tr>\n",
       "      <th></th>\n",
       "      <th>Median for the past period °C</th>\n",
       "      <th>Change in the median in %</th>\n",
       "      <th>10-th percentile for the past period °C</th>\n",
       "      <th>Change in 10-th percentile %</th>\n",
       "      <th>90-th percentile for the past period °C</th>\n",
       "      <th>Change in 90-th percentile %</th>\n",
       "      <th>Median for the past period °C</th>\n",
       "      <th>Change in the median in %</th>\n",
       "      <th>10-th percentile for the past period °C</th>\n",
       "      <th>Change in 10-th percentile %</th>\n",
       "      <th>90-th percentile for the past period °C</th>\n",
       "      <th>Change in 90-th percentile %</th>\n",
       "    </tr>\n",
       "  </thead>\n",
       "  <tbody>\n",
       "    <tr>\n",
       "      <th>Gorongosa_EIB</th>\n",
       "      <td>23.679981</td>\n",
       "      <td>7.163409</td>\n",
       "      <td>23.091981</td>\n",
       "      <td>5.894822</td>\n",
       "      <td>24.412787</td>\n",
       "      <td>8.714579</td>\n",
       "      <td>29.008484</td>\n",
       "      <td>6.005734</td>\n",
       "      <td>24.57019</td>\n",
       "      <td>5.970692</td>\n",
       "      <td>33.540161</td>\n",
       "      <td>6.666476</td>\n",
       "    </tr>\n",
       "  </tbody>\n",
       "</table>\n",
       "</div>"
      ],
      "text/plain": [
       "              Incremental temperature increase                            \\\n",
       "                     Mean temperature per year                             \n",
       "                 Median for the past period °C Change in the median in %   \n",
       "Gorongosa_EIB                        23.679981                  7.163409   \n",
       "\n",
       "                                                       \\\n",
       "                                                        \n",
       "              10-th percentile for the past period °C   \n",
       "Gorongosa_EIB                               23.091981   \n",
       "\n",
       "                                            \\\n",
       "                                             \n",
       "              Change in 10-th percentile %   \n",
       "Gorongosa_EIB                     5.894822   \n",
       "\n",
       "                                                       \\\n",
       "                                                        \n",
       "              90-th percentile for the past period °C   \n",
       "Gorongosa_EIB                               24.412787   \n",
       "\n",
       "                                            Extreme temperature increase  \\\n",
       "                                               Daily maximum temperature   \n",
       "              Change in 90-th percentile % Median for the past period °C   \n",
       "Gorongosa_EIB                     8.714579                     29.008484   \n",
       "\n",
       "                                         \\\n",
       "                                          \n",
       "              Change in the median in %   \n",
       "Gorongosa_EIB                  6.005734   \n",
       "\n",
       "                                                       \\\n",
       "                                                        \n",
       "              10-th percentile for the past period °C   \n",
       "Gorongosa_EIB                                24.57019   \n",
       "\n",
       "                                            \\\n",
       "                                             \n",
       "              Change in 10-th percentile %   \n",
       "Gorongosa_EIB                     5.970692   \n",
       "\n",
       "                                                       \\\n",
       "                                                        \n",
       "              90-th percentile for the past period °C   \n",
       "Gorongosa_EIB                               33.540161   \n",
       "\n",
       "                                            \n",
       "                                            \n",
       "              Change in 90-th percentile %  \n",
       "Gorongosa_EIB                     6.666476  "
      ]
     },
     "execution_count": 145,
     "metadata": {},
     "output_type": "execute_result"
    }
   ],
   "source": [
    "df = pd.concat([changes_past_future_indicator_tas,changes_past_future_indicator_tasmax],axis=1)\n",
    "df"
   ]
  },
  {
   "cell_type": "markdown",
   "id": "0eb59a73",
   "metadata": {},
   "source": [
    "#### Risk - Likelihood - Daily maximum temperature above 40 °"
   ]
  },
  {
   "cell_type": "code",
   "execution_count": null,
   "id": "51ad6b0d",
   "metadata": {},
   "outputs": [],
   "source": [
    "(proba_event_accross_model_and_ssp_gorongosa_tasmax_daily,likelihood_accross_model_and_ssp_gorongosa_tasmax_daily)=likelihood_accross_models_and_ssps(df_tasmax_NEXGDDPCMIP6_future[['Experiment','Model','Daily Maximum Near-Surface Air Temperature °C']].dropna(),'tasmax','°C','Daily Maximum Near-Surface Air Temperature °C',40,'>')"
   ]
  },
  {
   "cell_type": "code",
   "execution_count": null,
   "id": "50b0f5d8",
   "metadata": {},
   "outputs": [],
   "source": [
    "proba_event_accross_model_and_ssp_gorongosa_tasmax_daily"
   ]
  },
  {
   "cell_type": "code",
   "execution_count": null,
   "id": "ad51269b",
   "metadata": {},
   "outputs": [],
   "source": [
    "likelihood_accross_model_and_ssp_gorongosa_tasmax_daily"
   ]
  },
  {
   "cell_type": "markdown",
   "id": "4a0acd37",
   "metadata": {},
   "source": [
    "### maximum temperature in year"
   ]
  },
  {
   "cell_type": "code",
   "execution_count": 146,
   "id": "c0ce963a",
   "metadata": {},
   "outputs": [],
   "source": [
    "df_tasmax_NEXGDDPCMIP6_past_max_per_year= temporal_max(df_tasmax_NEXGDDPCMIP6_past[['Name project','Experiment','Model','Year','Daily Maximum Near-Surface Air Temperature °C']],'temperature','Daily Maximum Near-Surface Air Temperature °C','year')"
   ]
  },
  {
   "cell_type": "code",
   "execution_count": 147,
   "id": "687e0b97",
   "metadata": {},
   "outputs": [],
   "source": [
    "df_tasmax_NEXGDDPCMIP6_future_max_per_year= temporal_max(df_tasmax_NEXGDDPCMIP6_future[['Name project','Experiment','Model','Year','Daily Maximum Near-Surface Air Temperature °C']],'temperature','Daily Maximum Near-Surface Air Temperature °C','year')"
   ]
  },
  {
   "cell_type": "markdown",
   "id": "17595d71",
   "metadata": {},
   "source": [
    "#### Vulnerability - Exposure - Maximum temperature per year"
   ]
  },
  {
   "cell_type": "code",
   "execution_count": 148,
   "id": "b70cfaf0",
   "metadata": {},
   "outputs": [],
   "source": [
    "df_stat_distr_max_temp_past=df_stat_distr(df_tasmax_NEXGDDPCMIP6_past_max_per_year.reset_index()[['Name project','Daily Maximum Near-Surface Air Temperature °C']])\n",
    "df_stat_distr_max_temp_future=df_stat_distr(df_tasmax_NEXGDDPCMIP6_future_max_per_year.reset_index()[['Name project','Daily Maximum Near-Surface Air Temperature °C']])"
   ]
  },
  {
   "cell_type": "code",
   "execution_count": 149,
   "id": "62b4bb9c",
   "metadata": {},
   "outputs": [],
   "source": [
    "changes_past_future_indicator_tasmax_yearly_max=changes_in_indicators(df_stat_distr_max_temp_past,df_stat_distr_max_temp_future,'Yearly maximum temperature', '°C','Extreme temperature increase')"
   ]
  },
  {
   "cell_type": "markdown",
   "id": "7c3bbde4",
   "metadata": {},
   "source": [
    "#### Risk - Likelihood, temperature above 40 degrees"
   ]
  },
  {
   "cell_type": "code",
   "execution_count": null,
   "id": "8cc867f8",
   "metadata": {},
   "outputs": [],
   "source": [
    "(proba_event_accross_model_and_ssp_gorongosa_tasmax_yearly,likelihood_accross_model_and_ssp_gorongosa_tasmax_yearly)=likelihood_accross_models_and_ssps(df_tasmax_NEXGDDPCMIP6_future_max_per_year[['Experiment','Model','Daily Maximum Near-Surface Air Temperature °C']].dropna(),'tasmax','°C','Daily Maximum Near-Surface Air Temperature °C',40,'>')"
   ]
  },
  {
   "cell_type": "code",
   "execution_count": null,
   "id": "e460d4f6",
   "metadata": {},
   "outputs": [],
   "source": [
    "proba_event_accross_model_and_ssp_gorongosa_tasmax_yearly"
   ]
  },
  {
   "cell_type": "code",
   "execution_count": null,
   "id": "a0217a0b",
   "metadata": {},
   "outputs": [],
   "source": [
    "likelihood_accross_model_and_ssp_gorongosa_tasmax_yearly"
   ]
  },
  {
   "cell_type": "markdown",
   "id": "77a89e2d",
   "metadata": {},
   "source": [
    "### Number of days above 40 - as done in ccpk, work with max temp"
   ]
  },
  {
   "cell_type": "code",
   "execution_count": 152,
   "id": "72a4df2e",
   "metadata": {},
   "outputs": [],
   "source": [
    "df_tasmax_NEXGDDPCMIP6_past_days_above_40 = number_day_above_threshold(df_tasmax_NEXGDDPCMIP6_past,'Maximum Temperature','Daily Maximum Near-Surface Air Temperature °C',40)"
   ]
  },
  {
   "cell_type": "code",
   "execution_count": 153,
   "id": "b3993a20",
   "metadata": {},
   "outputs": [],
   "source": [
    "df_tasmax_NEXGDDPCMIP6_future_days_above_40 = number_day_above_threshold(df_tasmax_NEXGDDPCMIP6_future,'Maximum Temperature','Daily Maximum Near-Surface Air Temperature °C',40)"
   ]
  },
  {
   "cell_type": "markdown",
   "id": "4de9f407",
   "metadata": {},
   "source": [
    "#### Vulnerability - Number of days above 40 "
   ]
  },
  {
   "cell_type": "code",
   "execution_count": 154,
   "id": "c85f11ba",
   "metadata": {},
   "outputs": [],
   "source": [
    "df_stat_distr_max_temp_past_days_above_40=df_stat_distr(df_tasmax_NEXGDDPCMIP6_past_days_above_40.reset_index()[['Name project','Average annual number of days with Maximum Temperature above 40']])\n",
    "df_stat_distr_max_temp_future_days_above_40=df_stat_distr(df_tasmax_NEXGDDPCMIP6_future_days_above_40.reset_index()[['Name project','Average annual number of days with Maximum Temperature above 40']])"
   ]
  },
  {
   "cell_type": "code",
   "execution_count": 155,
   "id": "6a4573b6",
   "metadata": {},
   "outputs": [],
   "source": [
    "changes_past_future_indicator_tasmax_days_above_40=changes_in_indicators(df_stat_distr_max_temp_past_days_above_40,df_stat_distr_max_temp_future_days_above_40,'Days with max temeprature above 40', '°C','Extreme temperature increase')"
   ]
  },
  {
   "cell_type": "code",
   "execution_count": 156,
   "id": "d4f01e71",
   "metadata": {},
   "outputs": [],
   "source": [
    "df = pd.concat([df,changes_past_future_indicator_tasmax_days_above_40],axis=1)"
   ]
  },
  {
   "cell_type": "markdown",
   "id": "244a4f34",
   "metadata": {},
   "source": [
    "#### Risk - Likelihood, temeprature above 40 degrees"
   ]
  },
  {
   "cell_type": "code",
   "execution_count": null,
   "id": "de66b192",
   "metadata": {},
   "outputs": [],
   "source": [
    "(proba_event_accross_model_and_ssp_gorongosa_tasmax_above40,likelihood_accross_model_and_ssp_gorongosa_tasmax_above40)=likelihood_accross_models_and_ssps(df_tasmax_NEXGDDPCMIP6_future_days_above_40[['Experiment','Model','Average annual number of days with Maximum Temperature above 40']].dropna(),'tasmax','°C','Number of days above 40 degrees',30,'>')"
   ]
  },
  {
   "cell_type": "code",
   "execution_count": null,
   "id": "e315f230",
   "metadata": {},
   "outputs": [],
   "source": []
  },
  {
   "cell_type": "markdown",
   "id": "e51411ab",
   "metadata": {},
   "source": [
    "# Exposure and vulnerability"
   ]
  },
  {
   "cell_type": "code",
   "execution_count": 157,
   "id": "6cdf2835",
   "metadata": {},
   "outputs": [
    {
     "name": "stdout",
     "output_type": "stream",
     "text": [
      "For project Gorongosa_EIB, climate variable Extreme temperature increase\n",
      "For project Gorongosa_EIB, climate variable Incremental temperature increase\n",
      "Gorongosa_EIB\n",
      "i = 0\n",
      "i = 1\n",
      "i = 0\n",
      "i = 1\n",
      "i = 0\n",
      "i = 1\n",
      "i = 0\n",
      "i = 1\n"
     ]
    }
   ],
   "source": [
    "ExposureLevel_ = level_exposure(df)\n",
    "df_sen = sensitivity()\n",
    "df_v = vulnerability(df_sen,ExposureLevel_)"
   ]
  },
  {
   "cell_type": "code",
   "execution_count": 117,
   "id": "8aeb0d7f",
   "metadata": {},
   "outputs": [
    {
     "data": {
      "text/html": [
       "<div>\n",
       "<style scoped>\n",
       "    .dataframe tbody tr th:only-of-type {\n",
       "        vertical-align: middle;\n",
       "    }\n",
       "\n",
       "    .dataframe tbody tr th {\n",
       "        vertical-align: top;\n",
       "    }\n",
       "\n",
       "    .dataframe thead tr th {\n",
       "        text-align: left;\n",
       "    }\n",
       "\n",
       "    .dataframe thead tr:last-of-type th {\n",
       "        text-align: right;\n",
       "    }\n",
       "</style>\n",
       "<table border=\"1\" class=\"dataframe\">\n",
       "  <thead>\n",
       "    <tr>\n",
       "      <th></th>\n",
       "      <th></th>\n",
       "      <th colspan=\"2\" halign=\"left\">Vulnerability level</th>\n",
       "    </tr>\n",
       "    <tr>\n",
       "      <th></th>\n",
       "      <th></th>\n",
       "      <th>Incremental air temperature increase</th>\n",
       "      <th>Extreme temperature increase</th>\n",
       "    </tr>\n",
       "    <tr>\n",
       "      <th>Name project</th>\n",
       "      <th>Sensitivity theme</th>\n",
       "      <th></th>\n",
       "      <th></th>\n",
       "    </tr>\n",
       "  </thead>\n",
       "  <tbody>\n",
       "    <tr>\n",
       "      <th rowspan=\"4\" valign=\"top\">Gorongosa_EIB</th>\n",
       "      <th>On-site assets and processes</th>\n",
       "      <td>No</td>\n",
       "      <td>No</td>\n",
       "    </tr>\n",
       "    <tr>\n",
       "      <th>Inputs</th>\n",
       "      <td>No</td>\n",
       "      <td>No</td>\n",
       "    </tr>\n",
       "    <tr>\n",
       "      <th>Output</th>\n",
       "      <td>No</td>\n",
       "      <td>No</td>\n",
       "    </tr>\n",
       "    <tr>\n",
       "      <th>Transport links</th>\n",
       "      <td>No</td>\n",
       "      <td>No</td>\n",
       "    </tr>\n",
       "  </tbody>\n",
       "</table>\n",
       "</div>"
      ],
      "text/plain": [
       "                                                            Vulnerability level  \\\n",
       "                                           Incremental air temperature increase   \n",
       "Name project  Sensitivity theme                                                   \n",
       "Gorongosa_EIB On-site assets and processes                                   No   \n",
       "              Inputs                                                         No   \n",
       "              Output                                                         No   \n",
       "              Transport links                                                No   \n",
       "\n",
       "                                                                         \n",
       "                                           Extreme temperature increase  \n",
       "Name project  Sensitivity theme                                          \n",
       "Gorongosa_EIB On-site assets and processes                           No  \n",
       "              Inputs                                                 No  \n",
       "              Output                                                 No  \n",
       "              Transport links                                        No  "
      ]
     },
     "execution_count": 117,
     "metadata": {},
     "output_type": "execute_result"
    }
   ],
   "source": [
    "df_v"
   ]
  },
  {
   "cell_type": "code",
   "execution_count": null,
   "id": "50c1be4d",
   "metadata": {},
   "outputs": [],
   "source": []
  },
  {
   "cell_type": "code",
   "execution_count": null,
   "id": "2eb85f14",
   "metadata": {},
   "outputs": [],
   "source": []
  },
  {
   "cell_type": "code",
   "execution_count": null,
   "id": "21556e82",
   "metadata": {},
   "outputs": [],
   "source": [
    "df_tasmax_NEXGDDPCMIP6"
   ]
  },
  {
   "cell_type": "code",
   "execution_count": null,
   "id": "cb82a414",
   "metadata": {},
   "outputs": [],
   "source": [
    "df=df_tasmax_NEXGDDPCMIP6[['Name project','Experiment','Model','Year','Daily Maximum Near-Surface Air Temperature °C']].groupby(['Name project','Experiment','Model','Year'])[['Daily Maximum Near-Surface Air Temperature °C']].mean().reset_index()"
   ]
  },
  {
   "cell_type": "code",
   "execution_count": null,
   "id": "b33701ef",
   "metadata": {},
   "outputs": [],
   "source": [
    "df"
   ]
  },
  {
   "cell_type": "code",
   "execution_count": null,
   "id": "4ee9dffb",
   "metadata": {},
   "outputs": [],
   "source": [
    "plot_lines(df[(df['Name project']=='Gorongosa_EIB') & (df['Year'].between(2030,2065))],'Year','Daily Maximum Near-Surface Air Temperature °C','Experiment','NEX-GDDP-CMIP6','Yearly average Maximum Near-Surface Air Temperature °C','Yearly average maximum daily temperature','Gorongosa',y_start=2030,y_stop=2065,tuple_error_bar=('pi',80))"
   ]
  },
  {
   "cell_type": "code",
   "execution_count": null,
   "id": "34473636",
   "metadata": {},
   "outputs": [],
   "source": [
    "plot_lines(df[(df['Name project']=='Gorongosa_EIB') & (df['Year'].between(1970,2014))],'Year','Daily Maximum Near-Surface Air Temperature °C','Experiment','NEX-GDDP-CMIP6','Yearly average Maximum Near-Surface Air Temperature °C','Yearly average maximum daily temperature','Gorongosa',y_start=1970,y_stop=2014,tuple_error_bar=('pi',80))"
   ]
  },
  {
   "cell_type": "code",
   "execution_count": null,
   "id": "e23337e1",
   "metadata": {},
   "outputs": [],
   "source": [
    "# tasmax with BC data "
   ]
  },
  {
   "cell_type": "code",
   "execution_count": null,
   "id": "2ecd5753",
   "metadata": {},
   "outputs": [],
   "source": [
    "df_tasmax_NEXGDDPCMIP6_BC_NOAA_proj=import_BC_NOAA_NEX_GDDP_CMIP6('tasmax',2030,2065,EmplacementStationNOAA='no')"
   ]
  },
  {
   "cell_type": "code",
   "execution_count": null,
   "id": "e2fe173e",
   "metadata": {},
   "outputs": [],
   "source": [
    "df_tasmax_NEXGDDPCMIP6_BC_NOAA_past=import_BC_NOAA_NEX_GDDP_CMIP6('tasmax',1970,2014,EmplacementStationNOAA='no')"
   ]
  },
  {
   "cell_type": "code",
   "execution_count": null,
   "id": "875d5c77",
   "metadata": {},
   "outputs": [],
   "source": [
    "df_tasmax_NEXGDDPCMIP6_BC_NOAA_proj_gorongosa=df_tasmax_NEXGDDPCMIP6_BC_NOAA_proj[df_tasmax_NEXGDDPCMIP6_BC_NOAA_proj['Name project']=='Gorongosa_EIB']"
   ]
  },
  {
   "cell_type": "code",
   "execution_count": null,
   "id": "92f8548a",
   "metadata": {},
   "outputs": [],
   "source": [
    "df_tasmax_NEXGDDPCMIP6_BC_NOAA_past_gorongosa=df_tasmax_NEXGDDPCMIP6_BC_NOAA_past[df_tasmax_NEXGDDPCMIP6_BC_NOAA_past['Name project']=='Gorongosa_EIB']"
   ]
  },
  {
   "cell_type": "code",
   "execution_count": null,
   "id": "02923180",
   "metadata": {},
   "outputs": [],
   "source": [
    "plot_lines(df_tasmax_NEXGDDPCMIP6_BC_NOAA_proj,'Year','Daily Maximum Near-Surface Air Temperature °C','Experiment','NEX-GDDP-CMIP6','Yearly average Maximum Near-Surface Air Temperature °C','Yearly average maximum daily temperature','Gorongosa',y_start=2030,y_stop=2065,tuple_error_bar=('pi',80))"
   ]
  },
  {
   "cell_type": "code",
   "execution_count": null,
   "id": "c4b8d683",
   "metadata": {},
   "outputs": [],
   "source": [
    "plot_lines(df_tasmax_NEXGDDPCMIP6_BC_NOAA_past_gorongosa,'Year','Daily Maximum Near-Surface Air Temperature °C','Experiment','NEX-GDDP-CMIP6','Yearly average Maximum Near-Surface Air Temperature °C','Yearly average maximum daily temperature','Gorongosa',y_start=1970,y_stop=2014,tuple_error_bar=('pi',80))"
   ]
  },
  {
   "cell_type": "code",
   "execution_count": null,
   "id": "7220fa59",
   "metadata": {},
   "outputs": [],
   "source": [
    "# vulnerability"
   ]
  },
  {
   "cell_type": "code",
   "execution_count": null,
   "id": "96e39054",
   "metadata": {},
   "outputs": [],
   "source": [
    "df_tasmax_NEXGDDPCMIP6_past = df_tasmax_NEXGDDPCMIP6_BC_NOAA_past\n",
    "df_tasmax_NEXGDDPCMIP6_future = df_tasmax_NEXGDDPCMIP6_BC_NOAA_proj"
   ]
  },
  {
   "cell_type": "code",
   "execution_count": null,
   "id": "bb200531",
   "metadata": {},
   "outputs": [],
   "source": [
    "df_stat_distr_yearly_avg_tasmax_NEXGDDPCMIP6_past=df_stat_distr(df_tasmax_NEXGDDPCMIP6_past[['Name project','Daily Maximum Near-Surface Air Temperature °C']])\n",
    "df_stat_distr_yearly_avg_tasmax_NEXGDDPCMIP6_future=df_stat_distr(df_tasmax_NEXGDDPCMIP6_future[['Name project','Daily Maximum Near-Surface Air Temperature °C']])"
   ]
  },
  {
   "cell_type": "code",
   "execution_count": null,
   "id": "2a0819de",
   "metadata": {},
   "outputs": [],
   "source": [
    "df_stat_distr_yearly_avg_tasmax_NEXGDDPCMIP6_past"
   ]
  },
  {
   "cell_type": "code",
   "execution_count": null,
   "id": "70829fb1",
   "metadata": {},
   "outputs": [],
   "source": [
    "df_stat_distr_yearly_avg_tasmax_NEXGDDPCMIP6_future"
   ]
  },
  {
   "cell_type": "code",
   "execution_count": null,
   "id": "1e170533",
   "metadata": {},
   "outputs": [],
   "source": [
    "changes_past_future_indicator=changes_in_indicators(df_stat_distr_yearly_avg_tasmax_NEXGDDPCMIP6_past,df_stat_distr_yearly_avg_tasmax_NEXGDDPCMIP6_future,'Maximum temperature in year', '°C','Extreme temperature increase')"
   ]
  },
  {
   "cell_type": "code",
   "execution_count": null,
   "id": "89f268a5",
   "metadata": {},
   "outputs": [],
   "source": [
    "changes_past_future_indicator"
   ]
  },
  {
   "cell_type": "code",
   "execution_count": null,
   "id": "397339f4",
   "metadata": {},
   "outputs": [],
   "source": [
    "ExposureLevel_tasmax = level_exposure(changes_past_future_indicator)"
   ]
  },
  {
   "cell_type": "code",
   "execution_count": null,
   "id": "99bb1005",
   "metadata": {},
   "outputs": [],
   "source": [
    "ExposureLevel_tasmax"
   ]
  },
  {
   "cell_type": "code",
   "execution_count": null,
   "id": "382f5678",
   "metadata": {},
   "outputs": [],
   "source": [
    "# vulnerability with BC data"
   ]
  },
  {
   "cell_type": "code",
   "execution_count": null,
   "id": "d6d5dfb4",
   "metadata": {},
   "outputs": [],
   "source": [
    "df_tasmax_NEXGDDPCMIP6_BC_past = df_tasmax_NEXGDDPCMIP6[df_tasmax_NEXGDDPCMIP6['Experiment']=='historical']\n",
    "df_tasmax_NEXGDDPCMIP6_BC_future = df_tasmax_NEXGDDPCMIP6[df_tasmax_NEXGDDPCMIP6['Experiment']!='historical']\n",
    "df_stat_distr_yearly_avg_tasmax_NEXGDDPCMIP6_BC_past=df_stat_distr(df_tasmax_NEXGDDPCMIP6_BC_past[['Name project','Daily Maximum Near-Surface Air Temperature °C']])\n",
    "df_stat_distr_yearly_avg_tasmax_NEXGDDPCMIP6_BC_future=df_stat_distr(df_tasmax_NEXGDDPCMIP6_BC_future[['Name project','Daily Maximum Near-Surface Air Temperature °C']])\n",
    "changes_past_future_indicator_BC=changes_in_indicators(df_stat_distr_yearly_avg_tasmax_NEXGDDPCMIP6_BC_past,df_stat_distr_yearly_avg_tasmax_NEXGDDPCMIP6_BC_future,'Maximum temperature in year', '°C','Extreme temperature increase')\n",
    "ExposureLevel_tasmax_BC = level_exposure(changes_past_future_indicator_BC)"
   ]
  },
  {
   "cell_type": "code",
   "execution_count": null,
   "id": "bf3b3e8a",
   "metadata": {},
   "outputs": [],
   "source": [
    "df_stat_distr_yearly_avg_tasmax_NEXGDDPCMIP6_BC_past"
   ]
  },
  {
   "cell_type": "code",
   "execution_count": null,
   "id": "d0bbca03",
   "metadata": {},
   "outputs": [],
   "source": [
    "df_stat_distr_yearly_avg_tasmax_NEXGDDPCMIP6_BC_future"
   ]
  },
  {
   "cell_type": "code",
   "execution_count": null,
   "id": "599c9521",
   "metadata": {},
   "outputs": [],
   "source": [
    "ExposureLevel_tasmax_BC"
   ]
  },
  {
   "cell_type": "code",
   "execution_count": null,
   "id": "1db54aca",
   "metadata": {},
   "outputs": [],
   "source": [
    "# Likelihood"
   ]
  },
  {
   "cell_type": "code",
   "execution_count": null,
   "id": "91685986",
   "metadata": {},
   "outputs": [],
   "source": [
    "# accross all the models and scenarios # way too long\n",
    "#(name_distr,param_distr)=look_best_distr(df_tasmax_NEXGDDPCMIP6_mutua['Daily Maximum Near-Surface Air Temperature °C'].dropna(),'tasmax','°C')"
   ]
  },
  {
   "cell_type": "code",
   "execution_count": null,
   "id": "d5717312",
   "metadata": {},
   "outputs": [],
   "source": [
    "df_tasmax_NEXGDDPCMIP6_Gorongosa_EIB = df_tasmax_NEXGDDPCMIP6[df_tasmax_NEXGDDPCMIP6['Name project']=='Gorongosa_EIB']"
   ]
  },
  {
   "cell_type": "code",
   "execution_count": null,
   "id": "34fd2c1d",
   "metadata": {},
   "outputs": [],
   "source": [
    "df_tasmax_NEXGDDPCMIP6_gorongosa_modelACCESS=df_tasmax_NEXGDDPCMIP6_Gorongosa_EIB[df_tasmax_NEXGDDPCMIP6_Gorongosa_EIB['Model']=='ACCESS-CM2']"
   ]
  },
  {
   "cell_type": "code",
   "execution_count": null,
   "id": "74b8fee3",
   "metadata": {},
   "outputs": [],
   "source": [
    "df_tasmax_NEXGDDPCMIP6_gorongosa_modelACCESS_ssp370=df_tasmax_NEXGDDPCMIP6_gorongosa_modelACCESS[df_tasmax_NEXGDDPCMIP6_gorongosa_modelACCESS['Experiment']=='ssp370']"
   ]
  },
  {
   "cell_type": "code",
   "execution_count": null,
   "id": "e726b6cc",
   "metadata": {},
   "outputs": [],
   "source": [
    "df_tasmax_NEXGDDPCMIP6_gorongosa_modelACCESS_ssp370"
   ]
  },
  {
   "cell_type": "code",
   "execution_count": null,
   "id": "0285323f",
   "metadata": {},
   "outputs": [],
   "source": [
    "(name_distr,param_distr)=look_best_distr(df_tasmax_NEXGDDPCMIP6_gorongosa_modelACCESS_ssp370['Daily Maximum Near-Surface Air Temperature °C'],'tasmax','°C')"
   ]
  },
  {
   "cell_type": "code",
   "execution_count": null,
   "id": "8d5c3a9f",
   "metadata": {},
   "outputs": [],
   "source": [
    "# do for each model, do the mean of all the probability"
   ]
  },
  {
   "cell_type": "code",
   "execution_count": null,
   "id": "8a22ceaa",
   "metadata": {},
   "outputs": [],
   "source": [
    "# probability with BC corrected data at Gorongosa\n",
    "(proba_event_accross_model_gorongosa_BC,likelihood_gorongosa_BC)=likelihood_accross_models(df_tasmax_NEXGDDPCMIP6_BC_future[df_tasmax_NEXGDDPCMIP6_BC_future['Name project']=='Gorongosa_EIB'].dropna(),'tasmax','°C','Daily Maximum Near-Surface Air Temperature °C',40,'>')"
   ]
  },
  {
   "cell_type": "code",
   "execution_count": null,
   "id": "11817a1a",
   "metadata": {},
   "outputs": [],
   "source": [
    "# probability with not BC data at Gorongosa\n",
    "(proba_event_accross_model_gorongosa,likelihood_gorongosa)=likelihood_accross_models(df[(df['Name project']=='Gorongosa_EIB') & (df['Year'].between(2030,2065))].dropna(),'tasmax','°C','Daily Maximum Near-Surface Air Temperature °C',40,'>')"
   ]
  },
  {
   "cell_type": "code",
   "execution_count": null,
   "id": "79ebc40c",
   "metadata": {},
   "outputs": [],
   "source": [
    "proba_event_accross_model_gorongosa_BC"
   ]
  },
  {
   "cell_type": "code",
   "execution_count": null,
   "id": "8d1cdba2",
   "metadata": {},
   "outputs": [],
   "source": [
    "likelihood_gorongosa_BC"
   ]
  },
  {
   "cell_type": "code",
   "execution_count": null,
   "id": "f6d1e8c9",
   "metadata": {},
   "outputs": [],
   "source": [
    "proba_event_accross_model_gorongosa"
   ]
  },
  {
   "cell_type": "code",
   "execution_count": null,
   "id": "9c5ad69d",
   "metadata": {},
   "outputs": [],
   "source": [
    "likelihood_gorongosa"
   ]
  },
  {
   "cell_type": "markdown",
   "id": "0db73ac8",
   "metadata": {},
   "source": [
    "## Precipitation : Future return period of one day rainfall event with a current return period of 100 years"
   ]
  },
  {
   "cell_type": "markdown",
   "id": "1c72aa50",
   "metadata": {},
   "source": [
    "### Import data"
   ]
  },
  {
   "cell_type": "code",
   "execution_count": null,
   "id": "cfd4f84e",
   "metadata": {},
   "outputs": [],
   "source": [
    "from Functions_ImportData import import_filtered_NOAA_obs\n",
    "df_obs_NOAA = import_filtered_NOAA_obs()"
   ]
  },
  {
   "cell_type": "code",
   "execution_count": null,
   "id": "8f687e87",
   "metadata": {},
   "outputs": [],
   "source": [
    "# import original modeled NEX-GDDP-CMIP6\n",
    "df_tas_NEXGDDPCMIP6=import_treat_modeled_NEX_GDDP_CMIP6('pr','mm_per_day','day',1950,2100)"
   ]
  },
  {
   "cell_type": "code",
   "execution_count": null,
   "id": "b069f3d0",
   "metadata": {},
   "outputs": [],
   "source": [
    "df_tas_NEXGDDPCMIP6"
   ]
  },
  {
   "cell_type": "code",
   "execution_count": null,
   "id": "86dd1ca6",
   "metadata": {},
   "outputs": [],
   "source": [
    "# import BC NEX-GDDP-CMIP6 past\n",
    "df_tasmax_NEXGDDPCMIP6_BC_NOAA_past=import_BC_NOAA_NEX_GDDP_CMIP6('pr',1970,2014,EmplacementStationNOAA='no')"
   ]
  },
  {
   "cell_type": "code",
   "execution_count": null,
   "id": "c33ef3ee",
   "metadata": {},
   "outputs": [],
   "source": [
    "# import BC NEX-GDDP-CMIP6 future\n",
    "df_tasmax_NEXGDDPCMIP6_BC_NOAA_proj=import_BC_NOAA_NEX_GDDP_CMIP6('pr',2030,2065,EmplacementStationNOAA='no')"
   ]
  },
  {
   "cell_type": "code",
   "execution_count": null,
   "id": "2eb4b899",
   "metadata": {},
   "outputs": [],
   "source": [
    "# select Part of interest in data"
   ]
  },
  {
   "cell_type": "code",
   "execution_count": null,
   "id": "90817b41",
   "metadata": {},
   "outputs": [],
   "source": [
    "from Functions_Indicators import dataframe_threshold_coresponding_to_return_period_obs"
   ]
  },
  {
   "cell_type": "code",
   "execution_count": null,
   "id": "463879d4",
   "metadata": {},
   "outputs": [],
   "source": [
    "from Functions_Indicators import dataframe_threshold_coresponding_to_return_period_model"
   ]
  },
  {
   "cell_type": "code",
   "execution_count": null,
   "id": "eb2eff65",
   "metadata": {},
   "outputs": [],
   "source": [
    "df_tas_NEXGDDPCMIP6 = df_tas_NEXGDDPCMIP6[df_tas_NEXGDDPCMIP6['Model']!='NESM3']\n",
    "df_tas_NEXGDDPCMIP6 = df_tas_NEXGDDPCMIP6[df_tas_NEXGDDPCMIP6['Model']!='TaiESM1']\n",
    "df_tas_NEXGDDPCMIP6 = df_tas_NEXGDDPCMIP6[df_tas_NEXGDDPCMIP6['Model']!='CMCC-CM2-SR5']"
   ]
  },
  {
   "cell_type": "code",
   "execution_count": null,
   "id": "07a507a0",
   "metadata": {},
   "outputs": [],
   "source": [
    "df_model_past=df_tas_NEXGDDPCMIP6[df_tas_NEXGDDPCMIP6['Year'].between(1970,2014)]"
   ]
  },
  {
   "cell_type": "code",
   "execution_count": null,
   "id": "08371315",
   "metadata": {},
   "outputs": [],
   "source": [
    "df_model_past"
   ]
  },
  {
   "cell_type": "code",
   "execution_count": null,
   "id": "74c0cebd",
   "metadata": {},
   "outputs": [],
   "source": [
    "# past for modelled and non BC data\n",
    "df_return_period_NEX_GDDP_CMIP6_past=dataframe_threshold_coresponding_to_return_period_model(df_model_past.dropna(),'Mean of the daily precipitation rate mm_per_day')"
   ]
  },
  {
   "cell_type": "code",
   "execution_count": null,
   "id": "80463d19",
   "metadata": {},
   "outputs": [],
   "source": [
    "df_return_period_NEX_GDDP_CMIP6_past['Period'] = '1970-2014'"
   ]
  },
  {
   "cell_type": "code",
   "execution_count": null,
   "id": "5b9131be",
   "metadata": {},
   "outputs": [],
   "source": [
    "df_return_period_NEX_GDDP_CMIP6"
   ]
  },
  {
   "cell_type": "code",
   "execution_count": null,
   "id": "69b42dbc",
   "metadata": {},
   "outputs": [],
   "source": [
    "df_model_future=df_tas_NEXGDDPCMIP6[df_tas_NEXGDDPCMIP6['Year'].between(2030,2065)]"
   ]
  },
  {
   "cell_type": "code",
   "execution_count": null,
   "id": "622e3d52",
   "metadata": {},
   "outputs": [],
   "source": [
    "df_return_period_NEX_GDDP_CMIP6_future=dataframe_threshold_coresponding_to_return_period_model(df_model_future.dropna(),'Mean of the daily precipitation rate mm_per_day')"
   ]
  },
  {
   "cell_type": "code",
   "execution_count": null,
   "id": "e591d94a",
   "metadata": {},
   "outputs": [],
   "source": [
    "df_return_period_NEX_GDDP_CMIP6_future['Period'] = '2030-2065'"
   ]
  },
  {
   "cell_type": "code",
   "execution_count": null,
   "id": "d87828e2",
   "metadata": {},
   "outputs": [],
   "source": [
    "df_return_period_NEX_GDDP_CMIP6_future"
   ]
  },
  {
   "cell_type": "code",
   "execution_count": null,
   "id": "92f9ba8a",
   "metadata": {},
   "outputs": [],
   "source": [
    "# calculate return period with observation data"
   ]
  },
  {
   "cell_type": "code",
   "execution_count": null,
   "id": "31bdb562",
   "metadata": {},
   "outputs": [],
   "source": [
    "# sure de cette function\n",
    "import scipy\n",
    "from scipy import stats\n",
    "from scipy.stats import gumbel_r\n",
    "from scipy.stats import gumbel_l\n",
    "def return_period(df,T,start_y,stop_y):\n",
    "    Z = df[df['Year'].between(start_y,stop_y)].groupby('Year')[['pr']].agg(np.nanmax)#.reshape(len(pr_obs_gorongosa_from_gorongosa.groupby('Year')[['pr']].max()),)\n",
    "    #Z = Z[~np.isnan(Z)]\n",
    "    (loc1,scale1)=scipy.stats.gumbel_r.fit(Z) # return the function necessary to establish the continous function\n",
    "    value_for_T=threshold_coresponding_to_return_period(loc1,scale1,T)\n",
    "    return value_for_T"
   ]
  },
  {
   "cell_type": "code",
   "execution_count": null,
   "id": "4929c61e",
   "metadata": {},
   "outputs": [],
   "source": [
    "def threshold_coresponding_to_return_period(loc,scale,T):\n",
    "    p_non_exceedance = 1 - (1/T)\n",
    "    try:\n",
    "        threshold_coresponding = round(gumbel_r.ppf(p_non_exceedance,loc,scale))\n",
    "    except OverflowError: # the result is not finite\n",
    "        if math.isinf(gumbel_r.ppf(p_non_exceedance,loc,scale)) and gumbel_r.ppf(p_non_exceedance,loc,scale)<0:\n",
    "            # ppf is the inverse of cdf\n",
    "            # the result is -inf\n",
    "            threshold_coresponding = 0 # the value of wero is imposed\n",
    "    return threshold_coresponding"
   ]
  },
  {
   "cell_type": "code",
   "execution_count": null,
   "id": "3e94568e",
   "metadata": {},
   "outputs": [],
   "source": [
    "df_obs_NOAA = df_obs_NOAA.rename(columns={'PRCP':'pr'})"
   ]
  },
  {
   "cell_type": "code",
   "execution_count": null,
   "id": "70b0dc21",
   "metadata": {},
   "outputs": [],
   "source": [
    "df_obs_NOAA_Chimoio = df_obs_NOAA[df_obs_NOAA['NAME']=='CHIMOIO, MZ']"
   ]
  },
  {
   "cell_type": "code",
   "execution_count": null,
   "id": "019bbb94",
   "metadata": {},
   "outputs": [],
   "source": [
    "df_return_period_obs=return_period(df_obs_NOAA_Chimoio[['pr','Year']],50,1970,2014)"
   ]
  },
  {
   "cell_type": "code",
   "execution_count": null,
   "id": "c0fe4ce4",
   "metadata": {},
   "outputs": [],
   "source": [
    "df_return_period_obs"
   ]
  },
  {
   "cell_type": "code",
   "execution_count": null,
   "id": "854d0308",
   "metadata": {},
   "outputs": [],
   "source": []
  },
  {
   "cell_type": "code",
   "execution_count": null,
   "id": "0ecf28de",
   "metadata": {},
   "outputs": [],
   "source": [
    "df_return_period_NEX_GDDP_CMIP6 = pd.concat([df_return_period_NEX_GDDP_CMIP6_past,df_return_period_NEX_GDDP_CMIP6_future])"
   ]
  },
  {
   "cell_type": "code",
   "execution_count": null,
   "id": "24f3adb1",
   "metadata": {},
   "outputs": [],
   "source": [
    "df_return_period_NEX_GDDP_CMIP6"
   ]
  },
  {
   "cell_type": "code",
   "execution_count": null,
   "id": "bcf9ded2",
   "metadata": {},
   "outputs": [],
   "source": [
    "df_return_period_NEX_GDDP_CMIP6_gorongosa = df_return_period_NEX_GDDP_CMIP6.reset_index()[df_return_period_NEX_GDDP_CMIP6.reset_index()['Name project']=='Gorongosa_EIB']"
   ]
  },
  {
   "cell_type": "code",
   "execution_count": null,
   "id": "fcdf3c00",
   "metadata": {},
   "outputs": [],
   "source": [
    "plt.rcdefaults()"
   ]
  },
  {
   "cell_type": "code",
   "execution_count": null,
   "id": "e977197a",
   "metadata": {},
   "outputs": [],
   "source": [
    "sns.boxplot(data=df_return_period_NEX_GDDP_CMIP6_gorongosa,x='Period',y='Value for return period 100 years mm/day',hue='Experiment')"
   ]
  },
  {
   "cell_type": "code",
   "execution_count": null,
   "id": "905092b5",
   "metadata": {},
   "outputs": [],
   "source": [
    "sns.boxplot(data=df_return_period_NEX_GDDP_CMIP6_gorongosa,x='Period',y='Value for return period 50 years mm/day',hue='Experiment')"
   ]
  },
  {
   "cell_type": "code",
   "execution_count": null,
   "id": "adef731a",
   "metadata": {},
   "outputs": [],
   "source": [
    "sns.boxplot(data=df_return_period_NEX_GDDP_CMIP6_gorongosa[df_return_period_NEX_GDDP_CMIP6_gorongosa['Period']=='2030-2065'],x='Period',y='Value for return period 100 years mm/day',hue='Model')\n",
    "plt.legend(bbox_to_anchor=(1.02, 1), loc='upper left', borderaxespad=0)"
   ]
  },
  {
   "cell_type": "code",
   "execution_count": null,
   "id": "819b9e0e",
   "metadata": {},
   "outputs": [],
   "source": [
    "sns.boxplot(data=df_return_period_NEX_GDDP_CMIP6_gorongosa[df_return_period_NEX_GDDP_CMIP6_gorongosa['Period']=='2030-2065'],x='Period',y='Value for return period 50 years mm/day',hue='Model')\n",
    "plt.legend(bbox_to_anchor=(1.02, 1), loc='upper left', borderaxespad=0)"
   ]
  },
  {
   "cell_type": "code",
   "execution_count": null,
   "id": "a1b79c9f",
   "metadata": {},
   "outputs": [],
   "source": [
    "# same with modeled data"
   ]
  },
  {
   "cell_type": "code",
   "execution_count": null,
   "id": "b192c7ff",
   "metadata": {},
   "outputs": [],
   "source": [
    "# return return period for dataframe of modelled data\n",
    "def dataframe_threshold_coresponding_to_return_period_model(df,name_col):\n",
    "    df_copy=df.copy(deep=True)\n",
    "    df_copy=df_copy.drop(labels='Date',axis=1)\n",
    "    df_max = df_copy.groupby(['Name project','Experiment','Model','Year']).max() # maximum    \n",
    "    #return df_max\n",
    "    midx = pd.MultiIndex.from_product([df_max.index.levels[0].tolist(),df_max.index.levels[1].tolist(),df_max.index.levels[2].tolist()],names=['Name project','Experiment', 'Model'])\n",
    "    cols = ['Value for return period 50 years mm/day','Value for return period 100 years mm/day']\n",
    "    return_period = pd.DataFrame(data = [], \n",
    "                                index = midx,\n",
    "                                columns = cols)\n",
    "    for name_p in df_max.index.levels[0].tolist():\n",
    "        print(name_p)\n",
    "        for ssp in df_max.index.levels[1].tolist():\n",
    "            print(ssp)\n",
    "            for model in df_max.index.levels[2].tolist():\n",
    "                print(model)\n",
    "                print('Name project '+name_p+ ' ssp '+ssp+ ' model '+model)\n",
    "                Z=df_max.loc[(name_p,ssp,model)][name_col].values.reshape(len(df_max.loc[(name_p,ssp,model)][name_col]),)\n",
    "                (loc1,scale)=stats.gumbel_r.fit(Z) # return the function necessary to establish the continous function\n",
    "                # choice of gumbel because suits to extreme precipitation\n",
    "                return_period.loc[(name_p,ssp,model),('Value for return period 50 years mm/day')] = threshold_coresponding_to_return_period(loc1,scale,50)\n",
    "                return_period.loc[(name_p,ssp,model),('Value for return period 100 years mm/day')] = threshold_coresponding_to_return_period(loc1,scale,100)\n",
    "                \n",
    "    return return_period"
   ]
  },
  {
   "cell_type": "code",
   "execution_count": null,
   "id": "003819f7",
   "metadata": {},
   "outputs": [],
   "source": [
    "df_tasmax_NEXGDDPCMIP6_BC_NOAA_past"
   ]
  },
  {
   "cell_type": "code",
   "execution_count": null,
   "id": "d655aaf5",
   "metadata": {},
   "outputs": [],
   "source": [
    "df_tasmax_NEXGDDPCMIP6_BC_NOAA_proj"
   ]
  },
  {
   "cell_type": "code",
   "execution_count": null,
   "id": "872af140",
   "metadata": {},
   "outputs": [],
   "source": [
    "df_return_period_NEX_GDDP_CMIP6_past=dataframe_threshold_coresponding_to_return_period_model(df_tasmax_NEXGDDPCMIP6_BC_NOAA_past.dropna(),'Mean of the daily precipitation rate mm_per_day')"
   ]
  },
  {
   "cell_type": "code",
   "execution_count": null,
   "id": "09e64c45",
   "metadata": {},
   "outputs": [],
   "source": [
    "df_return_period_NEX_GDDP_CMIP6_past['Period']='1970-2014'"
   ]
  },
  {
   "cell_type": "code",
   "execution_count": null,
   "id": "e8dda563",
   "metadata": {},
   "outputs": [],
   "source": [
    "df_return_period_NEX_GDDP_CMIP6_past"
   ]
  },
  {
   "cell_type": "code",
   "execution_count": null,
   "id": "ad07d5da",
   "metadata": {},
   "outputs": [],
   "source": [
    "df_return_period_NEX_GDDP_CMIP6_proj=dataframe_threshold_coresponding_to_return_period_model(df_tasmax_NEXGDDPCMIP6_BC_NOAA_proj.dropna(),'Mean of the daily precipitation rate mm_per_day')"
   ]
  },
  {
   "cell_type": "code",
   "execution_count": null,
   "id": "703a27b4",
   "metadata": {},
   "outputs": [],
   "source": [
    "df_return_period_NEX_GDDP_CMIP6_proj"
   ]
  },
  {
   "cell_type": "code",
   "execution_count": null,
   "id": "be3da770",
   "metadata": {},
   "outputs": [],
   "source": [
    "df_return_period_NEX_GDDP_CMIP6_proj['Period']='2030-2065'"
   ]
  },
  {
   "cell_type": "code",
   "execution_count": null,
   "id": "409c303f",
   "metadata": {},
   "outputs": [],
   "source": [
    "df_return_BC = pd.concat([df_return_period_NEX_GDDP_CMIP6_past,df_return_period_NEX_GDDP_CMIP6_proj])"
   ]
  },
  {
   "cell_type": "code",
   "execution_count": null,
   "id": "3f549092",
   "metadata": {},
   "outputs": [],
   "source": [
    "df_return_BC"
   ]
  },
  {
   "cell_type": "code",
   "execution_count": null,
   "id": "c9e07709",
   "metadata": {},
   "outputs": [],
   "source": [
    "df_return_BC_gorongosa = df_return_BC.loc['Gorongosa_EIB']"
   ]
  },
  {
   "cell_type": "code",
   "execution_count": null,
   "id": "74e8d2ab",
   "metadata": {},
   "outputs": [],
   "source": [
    "df_return_BC_gorongosa"
   ]
  },
  {
   "cell_type": "code",
   "execution_count": null,
   "id": "1fecb8a7",
   "metadata": {},
   "outputs": [],
   "source": [
    "sns.boxplot(data=df_return_BC_gorongosa.reset_index(),x='Period',y='Value for return period 100 years mm/day',hue='Experiment')\n",
    "plt.legend(bbox_to_anchor=(1.02, 1), loc='upper left', borderaxespad=0)"
   ]
  },
  {
   "cell_type": "code",
   "execution_count": null,
   "id": "90bce100",
   "metadata": {},
   "outputs": [],
   "source": [
    "sns.boxplot(data=df_return_BC_gorongosa.reset_index()[df_return_BC_gorongosa.reset_index()['Period']=='2030-2065'],x='Period',y='Value for return period 100 years mm/day',hue='Model')\n",
    "plt.legend(bbox_to_anchor=(1.02, 1), loc='upper left', borderaxespad=0)"
   ]
  },
  {
   "cell_type": "code",
   "execution_count": null,
   "id": "939dc45d",
   "metadata": {},
   "outputs": [],
   "source": [
    "sns.boxplot(data=df_return_BC_gorongosa.reset_index(),x='Period',y='Value for return period 50 years mm/day',hue='Experiment')\n",
    "plt.legend(bbox_to_anchor=(1.02, 1), loc='upper left', borderaxespad=0)"
   ]
  },
  {
   "cell_type": "code",
   "execution_count": null,
   "id": "ef3426f3",
   "metadata": {},
   "outputs": [],
   "source": [
    "sns.boxplot(data=df_return_BC_gorongosa.reset_index()[df_return_BC_gorongosa.reset_index()['Period']=='2030-2065'],x='Period',y='Value for return period 50 years mm/day',hue='Model')\n",
    "plt.legend(bbox_to_anchor=(1.02, 1), loc='upper left', borderaxespad=0)"
   ]
  },
  {
   "cell_type": "code",
   "execution_count": null,
   "id": "69e96423",
   "metadata": {},
   "outputs": [],
   "source": [
    "df_obs_NOAA_Chimoio['Period']= 'Observation data from Chimoio 1970-2014'"
   ]
  },
  {
   "cell_type": "code",
   "execution_count": null,
   "id": "db3cd5cd",
   "metadata": {},
   "outputs": [],
   "source": [
    "df_obs_NOAA_Chimoio.columns"
   ]
  },
  {
   "cell_type": "code",
   "execution_count": null,
   "id": "0c56d781",
   "metadata": {},
   "outputs": [],
   "source": [
    "df_obs_NOAA_Chimoio_pr=df_obs_NOAA_Chimoio[['DATE','pr','Period']]"
   ]
  },
  {
   "cell_type": "code",
   "execution_count": null,
   "id": "c4f739e8",
   "metadata": {},
   "outputs": [],
   "source": [
    "df_tasmax_NEXGDDPCMIP6_BC_NOAA_proj_gorongosa = df_tasmax_NEXGDDPCMIP6_BC_NOAA_proj[df_tasmax_NEXGDDPCMIP6_BC_NOAA_proj['Name project']=='Gorongosa_EIB']"
   ]
  },
  {
   "cell_type": "code",
   "execution_count": null,
   "id": "d9442206",
   "metadata": {},
   "outputs": [],
   "source": [
    "df_tasmax_NEXGDDPCMIP6_BC_NOAA_proj_gorongosa['Period']='Modelled and BC 2030-2065'"
   ]
  },
  {
   "cell_type": "code",
   "execution_count": null,
   "id": "ad99fdec",
   "metadata": {},
   "outputs": [],
   "source": [
    "df_tasmax_NEXGDDPCMIP6_BC_NOAA_past_gorongosa=df_tasmax_NEXGDDPCMIP6_BC_NOAA_past[df_tasmax_NEXGDDPCMIP6_BC_NOAA_past['Name project']=='Gorongosa_EIB']"
   ]
  },
  {
   "cell_type": "code",
   "execution_count": null,
   "id": "39d011d1",
   "metadata": {},
   "outputs": [],
   "source": [
    "df_tasmax_NEXGDDPCMIP6_BC_NOAA_past_gorongosa['Period']='Modelled and BC 1970-2014'"
   ]
  },
  {
   "cell_type": "code",
   "execution_count": null,
   "id": "5d2080ef",
   "metadata": {},
   "outputs": [],
   "source": [
    "df_tas_NEXGDDPCMIP6_past_gorongosa = df_tas_NEXGDDPCMIP6[(df_tas_NEXGDDPCMIP6['Name project']=='Gorongosa_EIB') & (df_tas_NEXGDDPCMIP6['Year'].between(1970,2014))]"
   ]
  },
  {
   "cell_type": "code",
   "execution_count": null,
   "id": "70d5cfde",
   "metadata": {},
   "outputs": [],
   "source": [
    "df_tas_NEXGDDPCMIP6_past_gorongosa['Period']='Modelled 1970-2014'"
   ]
  },
  {
   "cell_type": "code",
   "execution_count": null,
   "id": "921af832",
   "metadata": {},
   "outputs": [],
   "source": [
    "df_tas_NEXGDDPCMIP6_future_gorongosa = df_tas_NEXGDDPCMIP6[(df_tas_NEXGDDPCMIP6['Name project']=='Gorongosa_EIB') & (df_tas_NEXGDDPCMIP6['Year'].between(2030,2065))]"
   ]
  },
  {
   "cell_type": "code",
   "execution_count": null,
   "id": "187e1027",
   "metadata": {},
   "outputs": [],
   "source": [
    "df_tas_NEXGDDPCMIP6_future_gorongosa['Period']='Modelled 2030-2065'"
   ]
  },
  {
   "cell_type": "code",
   "execution_count": null,
   "id": "f828eef3",
   "metadata": {},
   "outputs": [],
   "source": [
    "df_obs_NOAA_Chimoio_pr['Model']='Observation data from Chimoio 1970-2014'"
   ]
  },
  {
   "cell_type": "code",
   "execution_count": null,
   "id": "d48cfecc",
   "metadata": {},
   "outputs": [],
   "source": [
    "df_obs_NOAA_Chimoio_pr.rename(columns={'DATE':'Date','pr':'Mean of the daily precipitation rate mm_per_day'},inplace=True)"
   ]
  },
  {
   "cell_type": "code",
   "execution_count": null,
   "id": "77d2e047",
   "metadata": {},
   "outputs": [],
   "source": [
    "df_tas_NEXGDDPCMIP6_past_gorongosa.columns"
   ]
  },
  {
   "cell_type": "code",
   "execution_count": null,
   "id": "cf1e3757",
   "metadata": {},
   "outputs": [],
   "source": [
    "df_tas_NEXGDDPCMIP6_future_gorongosa.columns"
   ]
  },
  {
   "cell_type": "code",
   "execution_count": null,
   "id": "8c101c3a",
   "metadata": {},
   "outputs": [],
   "source": [
    "df_tasmax_NEXGDDPCMIP6_BC_NOAA_past_gorongosa.columns"
   ]
  },
  {
   "cell_type": "code",
   "execution_count": null,
   "id": "99b13785",
   "metadata": {},
   "outputs": [],
   "source": [
    "df_tasmax_NEXGDDPCMIP6_BC_NOAA_proj_gorongosa.columns"
   ]
  },
  {
   "cell_type": "code",
   "execution_count": null,
   "id": "a40452d3",
   "metadata": {},
   "outputs": [],
   "source": [
    "df_data=pd.concat([df_obs_NOAA_Chimoio_pr,df_tas_NEXGDDPCMIP6_past_gorongosa,df_tas_NEXGDDPCMIP6_future_gorongosa,df_tasmax_NEXGDDPCMIP6_BC_NOAA_past_gorongosa,df_tasmax_NEXGDDPCMIP6_BC_NOAA_proj_gorongosa])"
   ]
  },
  {
   "cell_type": "code",
   "execution_count": null,
   "id": "adc61b06",
   "metadata": {},
   "outputs": [],
   "source": [
    "sns.boxplot(data= df_data, x='Period',y= 'Mean of the daily precipitation rate mm_per_day',hue='Experiment')"
   ]
  },
  {
   "cell_type": "code",
   "execution_count": null,
   "id": "438f833c",
   "metadata": {},
   "outputs": [],
   "source": [
    "df_data"
   ]
  },
  {
   "cell_type": "code",
   "execution_count": null,
   "id": "65b8b350",
   "metadata": {},
   "outputs": [],
   "source": []
  },
  {
   "cell_type": "code",
   "execution_count": null,
   "id": "cd6c3f64",
   "metadata": {},
   "outputs": [],
   "source": [
    "# do the same presentation but with gorongosa data"
   ]
  },
  {
   "cell_type": "code",
   "execution_count": null,
   "id": "9c6a2692",
   "metadata": {},
   "outputs": [],
   "source": [
    "from Functions_ImportData import import_gorongosa_obs_pr\n",
    "obs_data_pr = import_gorongosa_obs_pr() "
   ]
  },
  {
   "cell_type": "code",
   "execution_count": null,
   "id": "6ed327a6",
   "metadata": {},
   "outputs": [],
   "source": [
    "obs_data_pr = obs_data_pr[obs_data_pr['Year'].between(1980,2014)]"
   ]
  },
  {
   "cell_type": "code",
   "execution_count": null,
   "id": "a1e09486",
   "metadata": {},
   "outputs": [],
   "source": [
    "df_return_period_obs=return_period(obs_data_pr[['pr','Year']].dropna(),100,1980,2014)"
   ]
  },
  {
   "cell_type": "code",
   "execution_count": null,
   "id": "e8dddfaf",
   "metadata": {},
   "outputs": [],
   "source": [
    "df_return_period_obs"
   ]
  },
  {
   "cell_type": "code",
   "execution_count": null,
   "id": "c8dc2f3a",
   "metadata": {},
   "outputs": [],
   "source": [
    "from Functions_ImportData import import_BC_Gorongosa_NEX_GDDP_CMIP6"
   ]
  },
  {
   "cell_type": "code",
   "execution_count": null,
   "id": "9af3e351",
   "metadata": {},
   "outputs": [],
   "source": [
    "BC_Gorongosa_NEX_GDDP_CMIP6_past=import_BC_Gorongosa_NEX_GDDP_CMIP6(1980,2014, climate_var='pr',resolution='day',unit='mm_per_day')"
   ]
  },
  {
   "cell_type": "code",
   "execution_count": null,
   "id": "49412e6b",
   "metadata": {},
   "outputs": [],
   "source": [
    "BC_Gorongosa_NEX_GDDP_CMIP6_future=import_BC_Gorongosa_NEX_GDDP_CMIP6(2030,2065, climate_var='pr',resolution='day',unit='mm_per_day')"
   ]
  },
  {
   "cell_type": "code",
   "execution_count": null,
   "id": "ba1f485e",
   "metadata": {},
   "outputs": [],
   "source": [
    "df_return_period_BC_NEX_GDDP_CMIP6_past=dataframe_threshold_coresponding_to_return_period_model(BC_Gorongosa_NEX_GDDP_CMIP6_past.dropna(),'Mean of the daily precipitation rate mm_per_day')"
   ]
  },
  {
   "cell_type": "code",
   "execution_count": null,
   "id": "c500d941",
   "metadata": {},
   "outputs": [],
   "source": [
    "df_return_period_BC_NEX_GDDP_CMIP6_future=dataframe_threshold_coresponding_to_return_period_model(BC_Gorongosa_NEX_GDDP_CMIP6_future.dropna(),'Mean of the daily precipitation rate mm_per_day')"
   ]
  },
  {
   "cell_type": "code",
   "execution_count": null,
   "id": "5536b0dd",
   "metadata": {},
   "outputs": [],
   "source": [
    "df_return_period_BC_NEX_GDDP_CMIP6_past['Period'] = '1980-2014'"
   ]
  },
  {
   "cell_type": "code",
   "execution_count": null,
   "id": "07b61e6d",
   "metadata": {},
   "outputs": [],
   "source": [
    "df_return_period_BC_NEX_GDDP_CMIP6_future['Period'] = '2030-2065'"
   ]
  },
  {
   "cell_type": "code",
   "execution_count": null,
   "id": "45c2e4d5",
   "metadata": {},
   "outputs": [],
   "source": [
    "df_return_BC_gorongosa = pd.concat([df_return_period_BC_NEX_GDDP_CMIP6_past,df_return_period_BC_NEX_GDDP_CMIP6_future])"
   ]
  },
  {
   "cell_type": "code",
   "execution_count": null,
   "id": "1a9d0f41",
   "metadata": {},
   "outputs": [],
   "source": [
    "sns.boxplot(data=df_return_BC_gorongosa.reset_index(),x='Period',y='Value for return period 100 years mm/day',hue='Experiment')\n",
    "plt.legend(bbox_to_anchor=(1.02, 1), loc='upper left', borderaxespad=0)"
   ]
  },
  {
   "cell_type": "code",
   "execution_count": null,
   "id": "220c820e",
   "metadata": {},
   "outputs": [],
   "source": [
    "sns.boxplot(data=df_return_BC_gorongosa.reset_index()[df_return_BC_gorongosa.reset_index()['Period']=='2030-2065'],x='Period',y='Value for return period 100 years mm/day',hue='Model')\n",
    "plt.legend(bbox_to_anchor=(1.02, 1), loc='upper left', borderaxespad=0)"
   ]
  },
  {
   "cell_type": "code",
   "execution_count": null,
   "id": "702a9b48",
   "metadata": {},
   "outputs": [],
   "source": []
  },
  {
   "cell_type": "code",
   "execution_count": null,
   "id": "1b7f5562",
   "metadata": {},
   "outputs": [],
   "source": []
  },
  {
   "cell_type": "code",
   "execution_count": null,
   "id": "049dd8c7",
   "metadata": {},
   "outputs": [],
   "source": []
  },
  {
   "cell_type": "code",
   "execution_count": null,
   "id": "7685fef9",
   "metadata": {},
   "outputs": [],
   "source": []
  },
  {
   "cell_type": "code",
   "execution_count": null,
   "id": "19435575",
   "metadata": {},
   "outputs": [],
   "source": []
  },
  {
   "cell_type": "code",
   "execution_count": null,
   "id": "a0a76a14",
   "metadata": {},
   "outputs": [],
   "source": []
  },
  {
   "cell_type": "code",
   "execution_count": null,
   "id": "50f28a77",
   "metadata": {},
   "outputs": [],
   "source": []
  },
  {
   "cell_type": "markdown",
   "id": "2a84cafc",
   "metadata": {},
   "source": [
    "<a id='wind'></a>\n",
    "## Wind Speed\n",
    "\n",
    "Daily wind speed, historical and projected.\n",
    "\n",
    "Data source : https://cds.climate.copernicus.eu/cdsapp#!/dataset/projections-cmip6?tab=form"
   ]
  },
  {
   "cell_type": "code",
   "execution_count": null,
   "id": "65af01ca",
   "metadata": {},
   "outputs": [],
   "source": [
    "### Extraction of Near-surface wind speed data\n",
    "global_variable = 'Wind'\n",
    "name_variable = 'near_surface_wind_speed'"
   ]
  },
  {
   "cell_type": "markdown",
   "id": "df282104",
   "metadata": {},
   "source": [
    "#### Historical data for wind speed"
   ]
  },
  {
   "cell_type": "markdown",
   "id": "2ac960da",
   "metadata": {},
   "source": [
    "#### Projection data for wind speed"
   ]
  },
  {
   "cell_type": "markdown",
   "id": "b7b74e8a",
   "metadata": {},
   "source": [
    "<a id='humidity'></a>\n",
    "## Humidity\n",
    "\n",
    "Source : https://cds.climate.copernicus.eu/cdsapp#!/dataset/projections-cmip6?tab=form\n",
    "\n",
    "### Relative humidity\n",
    "\n",
    "Relative humidity of air: amount if moisture it contains compared to the maximum amount of moisture it can have at a specific temperature\n",
    "\n",
    "### Extraction of Relative humidity data"
   ]
  },
  {
   "cell_type": "code",
   "execution_count": null,
   "id": "0442d22b",
   "metadata": {},
   "outputs": [],
   "source": [
    "global_variable = 'Relative_Humidity'\n",
    "name_variable = 'near_surface_relative_humidity' # only available on a monthly basis"
   ]
  },
  {
   "cell_type": "markdown",
   "id": "0844c1b4",
   "metadata": {},
   "source": [
    "#### Historical data"
   ]
  },
  {
   "cell_type": "markdown",
   "id": "cadf53af",
   "metadata": {},
   "source": [
    "#### Projections"
   ]
  },
  {
   "cell_type": "markdown",
   "id": "5190f3f0",
   "metadata": {},
   "source": [
    "<a id='solar_radiation'></a>\n",
    "## Solar radiation"
   ]
  },
  {
   "cell_type": "code",
   "execution_count": null,
   "id": "85fd4321",
   "metadata": {},
   "outputs": [],
   "source": [
    "global_variable = 'Solar_radiation'\n",
    "# choose of the climate variable from copernicus to represent : choose of surface_downwelling_shortwave_radiation because\n",
    "# 1. interest for project located at the surface of the Earth\n",
    "# 2. for most project (for example solar panels), we are interest in radiation going down, not up\n",
    "# 3. Shortwave radiation are the ones produce by the sun\n",
    "name_variable = 'surface_downwelling_shortwave_radiation' # only available on a monthly basis"
   ]
  },
  {
   "cell_type": "markdown",
   "id": "b0a4ed45",
   "metadata": {},
   "source": [
    "#### Historical data for solar radiation"
   ]
  },
  {
   "cell_type": "markdown",
   "id": "b8a5e939",
   "metadata": {},
   "source": [
    "#### Projection for data solar radiation"
   ]
  },
  {
   "cell_type": "markdown",
   "id": "788310cb",
   "metadata": {},
   "source": [
    "<a id='land_climate_variables'></a>\n",
    "# LAND\n",
    "\n",
    "[Home](#beginning_CRVA)"
   ]
  },
  {
   "cell_type": "markdown",
   "id": "338692f1",
   "metadata": {},
   "source": [
    "<a id='landslides'></a>\n",
    "## Landslides - Land\n",
    "\n",
    "source: https://datacatalog.worldbank.org/search/dataset/0037584 (Global Landslide Hazard Map, The World Bank)\n",
    "\n",
    "### Description of LS_TH : \n",
    "The Global Landslide Hazard Map presents a qualitative representation of global landslide hazard at a global scale. It is the combination of the The Global Landslide Hazard Map: Median Annual Rainfall-Triggered Landslide Hazard (1980-2018) and The Global Landslide Hazard Map: Earthquake-Triggered Landslide Hazard which has then been simplified to four rank categories, ranging from Very low to High landslide hazard, based on the existing system used by ThinkHazard! (www.thinkhazard.org)\n",
    "\n",
    "### Description of LS_RF_Median_1980-2018 :\n",
    "The Global Rainfall-Triggered Landslide Hazard Map presents a quantitative representation of landslide hazard. This component is the median annual rainfall-triggered landslide hazard assessment for the period 1980 – 2018. Raster values represent the modelled average annual frequency of significant rainfall-triggered landslides per sq. km."
   ]
  },
  {
   "cell_type": "code",
   "execution_count": null,
   "id": "1e1bd3c3",
   "metadata": {},
   "outputs": [],
   "source": [
    "\n",
    "#Landslides data path\n",
    "landslidesTH_path=os.path.join(data_folder,'landslides/wb_GlLandslHazard/ls_th/LS_TH.tif') ## Global landslide hazard map (TH ranks --> Think hazard ranks)\n",
    "landslidesRF_path=os.path.join(data_folder,'landslides/wb_GlLandslHazard/ls_rf_median_1980-2018/LS_RF_Median_1980-2018.tif')\n",
    "\n",
    "#spatial stats\n",
    "projects['landslides_THmax']=pd.DataFrame(zonal_stats(vectors=projects_buf, raster=landslidesTH_path, \n",
    "                                                            all_touched=True, stats='max'))\n",
    "projects['landslidesRF_medianMax']=pd.DataFrame(zonal_stats(vectors=projects_buf, raster=landslidesRF_path, \n",
    "                                                            all_touched=True, stats='max'))\n",
    "#show table\n",
    "projects[[project_id,'landslides_THmax','landslidesRF_medianMax']].head()\n",
    "\n",
    "#plot landslides TH\n",
    "fig, ax = plt.subplots()\n",
    "landslides = rioxarray.open_rasterio(landslidesTH_path)\n",
    "landslides_clip = landslides.rio.clip(study_area.geometry, study_area.crs, drop=True)\n",
    "landslides_clip.plot(ax=ax, cmap='Reds',vmin=1, vmax=4)\n",
    "points=projects.plot(ax=ax,cmap='Greys') # what are those points ????\n",
    "\n",
    "#close\n",
    "landslides.close()\n",
    "landslides_clip.close()\n",
    "\n",
    "# didn't achieved to present the RF datas\n",
    "#plot landslides RF\n",
    "#fig, ax = plt.subplots()\n",
    "#landslides = rioxarray.open_rasterio(landslidesRF_path)\n",
    "#landslides_clip = landslides.rio.clip(study_area.geometry, study_area.crs, drop=True)\n",
    "#landslides_clip.plot(ax=ax, cmap='Reds',vmin=1, vmax=4)\n",
    "#points=projects.plot(ax=ax,cmap='Greys') # what are those points ????\n",
    "#landslides.close()"
   ]
  },
  {
   "cell_type": "markdown",
   "id": "7b840dac",
   "metadata": {},
   "source": [
    "## Global wildfire hazard - Land\n",
    "\n",
    "This jupyter notebook is to study the global wildfire hazard\n",
    "\n",
    "Source : https://datacatalog.worldbank.org/search/dataset/0042058/Global-wildfire-hazard\n",
    "\n",
    "Description of the source : The approach to classify wildfire hazard levels used is based solely on fire weather index climatology. Fire weather indices are used in many countries to assess both the onset of conditions that will allow fires to spread, as well as the likelihood of fire at any point in the landscape. The method presented uses statistical modelling (extreme value analysis) of a 30 year fire weather climatology to assess the predicted fire weather intensity for specific return period intervals. These intensities are classified based on thresholds using conventions to provide hazard classes that correspond to conditions that can support problematic fire spread in the landscape if an ignition and sufficient fuel were to be present.\n",
    "\n",
    "Date of export : 23.03.23\n",
    "\n",
    "Projection FWI for europe : https://cds.climate.copernicus.eu/cdsapp#!/dataset/sis-tourism-fire-danger-indicators?tab=overview\n",
    "\n",
    "Projection seasonal severity rating of for EUrope : https://www.eea.europa.eu/data-and-maps/figures/projected-meteorological-forest-fire-danger\n",
    "\n",
    "Calculation of the FWI : https://cwfis.cfs.nrcan.gc.ca/background/summary/fwi\n",
    "\n",
    "GLOBAL PROJeTIONS NOT FOUND\n"
   ]
  },
  {
   "cell_type": "markdown",
   "id": "91c1bf95",
   "metadata": {},
   "source": [
    "## Soil erosion - Land\n",
    "\n",
    "Source for global actual situations : https://data.jrc.ec.europa.eu/dataset/jrc-esdac-120"
   ]
  },
  {
   "cell_type": "markdown",
   "id": "c064cf21",
   "metadata": {},
   "source": [
    "<a id='hydrosphere_climate_variables'></a>\n",
    "# HYDROSPHERE\n",
    "\n",
    "[Home](#beginning_CRVA)"
   ]
  },
  {
   "cell_type": "markdown",
   "id": "db1a31ad",
   "metadata": {},
   "source": [
    "<a id='relative_sea_level_rise'></a>\n",
    "## Relative sea level rise"
   ]
  },
  {
   "cell_type": "code",
   "execution_count": null,
   "id": "ae5e6708",
   "metadata": {},
   "outputs": [],
   "source": [
    "## use copernicus or NASA data ? NASA data are in COWI servor \\\\COWI.net\\projects\\A245000\\A248363\\CRVA\\Datasets\\SeaLevelRise\\Nasa\n",
    "# use mean sea level > https://cds.climate.copernicus.eu/cdsapp#!/dataset/sis-water-level-change-indicators-cmip6?tab=overview"
   ]
  },
  {
   "cell_type": "markdown",
   "id": "68ac7c48",
   "metadata": {},
   "source": [
    "<a id='sea_water_temperature'></a>\n",
    "## Sea water temperature"
   ]
  },
  {
   "cell_type": "code",
   "execution_count": null,
   "id": "992b5f1c",
   "metadata": {},
   "outputs": [],
   "source": [
    "global_variable = 'Sea_water_temperature'\n",
    "name_variable = 'sea_surface_temperature' # only estimate for the surface in the copernicus CMIP6"
   ]
  },
  {
   "cell_type": "markdown",
   "id": "91c53183",
   "metadata": {},
   "source": [
    "#### Historical data"
   ]
  },
  {
   "cell_type": "code",
   "execution_count": null,
   "id": "7ca3cac1",
   "metadata": {},
   "outputs": [],
   "source": [
    "(year_historical, year_str_historical, index_historical)=year_copernicus(1850,2014)\n",
    "temporal_resolution = 'monthly'\n",
    "# Register data from copernicus for humidity in a dataframe and production of a csv file for the period indicated above\n",
    "Sea_water_temperature_historical = dataframe_csv_copernicus(temporal_resolution,year_str_historical,copernicus_elements.experiments_historical,copernicus_elements.models,out_path,global_variable, name_variable,area)    "
   ]
  },
  {
   "cell_type": "markdown",
   "id": "d8909323",
   "metadata": {},
   "source": [
    "#### Projection data"
   ]
  },
  {
   "cell_type": "code",
   "execution_count": null,
   "id": "2d135b21",
   "metadata": {},
   "outputs": [],
   "source": [
    "(year, year_str, index)=year_copernicus(2020,2100)\n",
    "temporal_resolution = 'monthly'\n",
    "# Register data from copernicus for humidity in a dataframe and production of a csv file for the period indicated above\n",
    "Sea_water_temperature = dataframe_csv_copernicus(temporal_resolution,year_str,copernicus_elements.experiments,copernicus_elements.models,out_path,global_variable, name_variable,area)    "
   ]
  },
  {
   "cell_type": "markdown",
   "id": "534cc101",
   "metadata": {},
   "source": [
    "<a id='water_availability'></a>\n",
    "### Water availability\n",
    "Represented with water stress\n",
    "\n",
    "Did not find historical data, look into world bank\n",
    "\n",
    "Source for projections from 2020 to 2050 : https://www.wri.org/data/aqueduct-water-stress-projections-data\n",
    "Informations about how the shp is designed located here : data_folder, Water_Availability_WaterStress\\aqueduct_projections_20150309_shp\\aqueduct_projections_schematic_20140615 (excel sheet)"
   ]
  },
  {
   "cell_type": "code",
   "execution_count": null,
   "id": "9d1d4569",
   "metadata": {},
   "outputs": [],
   "source": [
    "## Projection of water stress\n",
    "# register path to water stress data\n",
    "water_stress_location_path=os.path.join(data_folder,'Water_Availability_WaterStress/aqueduct_projections_20150309_shp/aqueduct_projections_20150309.shp')\n",
    "# register data in default projection 4326\n",
    "water_stress = gpd.read_file(water_stress_location_path).to_crs(bCRS) # uncertain that projeciton is the default one\n",
    "ws_geometry = water_stress.geometry # register geometry for later\n",
    "# filter columns of dataframe that are not water stress related\n",
    "elements_to_drop=('sv','ut','bt','r','u','c','20','BasinID','dwnBasinID','Shape_Leng','Shape_Le_1') # if a column contains a str in this list, the column should be drop\n",
    "# 20 to remove the projections for 2020 (the projections were made in 2015)\n",
    "\n",
    "for name_column_out in elements_to_drop:\n",
    "    water_stress=water_stress.drop(water_stress.filter(regex=name_column_out).columns, axis=1)\n",
    "    \n",
    "# making name of columns more precise\n",
    "# information on column names come from \n",
    "#\\\\COWI.net\\projects\\A245000\\A248363\\CRVA\\Datasets\\Water_Availability_WaterStress\\aqueduct_projections_20150309_shp\\aqueduct_projections_schematic_20140615\n",
    "scenarios_ws=['ssp2_rcp45','ssp2_rcp85','ssp3_rcp85']\n",
    "projections_ws = ['projection_2030 ','projection_2040 ']\n",
    "old_name = ['ws', '30','40','24','28','38','tl']\n",
    "new_name = ['water stress ','projection_2030 ','projection_2040 ','ssp2_rcp45','ssp2_rcp85','ssp3_rcp85','']\n",
    "\n",
    "for o,n in zip(old_name,new_name): # iterate accross the two list at a time\n",
    "    water_stress.columns = water_stress.columns.str.replace(o, n) # replacing \"40\" by \"projection_2040\" in names of columns\n",
    "        \n",
    "# water_stress is a panda dataframe, not geopanda.dataframe. Need to convert it again in geopandas.geodataframe.GeoDataFrame. \n",
    "# Otherwise, impossible to use sjoin later\n",
    "water_stress = GeoDataFrame(water_stress, crs=bCRS, geometry=ws_geometry) # convert panda.dataframe in geopandas.geodataframe.GeoDataFrame\n",
    "\n",
    "# join information from water stress to projects\n",
    "\n",
    "projects=projects.sjoin(water_stress,how='left',predicate='within', lsuffix=\"_left\") # need to rename name of columns to make it understandable\n",
    "projects.drop('index_right', axis=1, inplace=True) # drop column containing index from water stress\n",
    "projects # projects stays a geopandas.geodataframe.GeoDataFrame"
   ]
  },
  {
   "cell_type": "code",
   "execution_count": null,
   "id": "e076e5c1",
   "metadata": {},
   "outputs": [],
   "source": [
    "Display_map_projects(projects,study_area,'water stress','Map presenting water stress projections for Mozambique projects', 2, 3, out_path)\n",
    "# This function aims to display every projects wanted by the user with a map as a background\n",
    "### Parameters of the function : \n",
    "# projects: geopanda.dataframe containing projects information\n",
    "# study_area: geopanda.dataframe containing study_area information\n",
    "# str_interest: string of the climate variable of interest to be represented\n",
    "# title_for_image: title for image composed of subplots\n",
    "# number_rows: the user should indicate the number of rows for the subplots\n",
    "# number_cols: the user should indicate the number of cols for the subplots\n",
    "# out_path: begenning of the path to register the image"
   ]
  },
  {
   "cell_type": "code",
   "execution_count": null,
   "id": "94dd92ea",
   "metadata": {
    "scrolled": true
   },
   "outputs": [],
   "source": [
    "# select climate variable to be represented\n",
    "columns_to_represent= list(projects.filter(regex='water stress').columns) # select columns that should be presented in plots\n",
    "columns_to_represent2=[ ('\\n').join(k.split(' ')[-2:])  for k in columns_to_represent] # delete 'water stress' from \n",
    "# the list column_to_represent and insert \\n to do a back to line\n",
    "number_plots = len(columns_to_represent)\n",
    "\n",
    "# create figure\n",
    "fig, axs = plt.subplots(nrows=2,ncols=3, sharex=True, sharey=True,figsize=(8,8))\n",
    "\n",
    "color_dict = {'Low':'green', 'Antarctica':'white', 'Asia':'pink', \n",
    "              'Europe':'green', 'North America':'brown',\n",
    "              'Oceania':'blue', 'Seven seas (open ocean)':'gray',\n",
    "              'South America':'red'}\n",
    "\n",
    "# map in the subplot\n",
    "k = 0\n",
    "\n",
    "for i in np.arange(0,3):# columns\n",
    "    for j in np.arange(0,2): # lines\n",
    "        base = study_area.plot(ax=axs[j][i],color='white', edgecolor='black')# background is map of the study area presenting \n",
    "        # country borders of this area\n",
    "        projects.plot(ax=axs[j][i], column=columns_to_represent[k])# plot the projects as points; legeng = True \n",
    "        # impose a color for the projects point depending on the value in the column\n",
    "        \n",
    "        # give subplot a title\n",
    "        ax_created = axs[j][i]\n",
    "        ax_created.title.set_text(columns_to_represent2[k])\n",
    "        \n",
    "        k+=1 # incrementation to iterate columns_to_represent\n",
    "plr\n",
    "plt.suptitle('Map presenting water stress projections for Mozambique projects') # give a global name to the image\n",
    "plt.savefig(os.path.join(out_path,'figures','water stress','Map presenting water stress projections for Mozambique projects'),format ='png') # savefig or save text must be before plt.show. for savefig, format should be explicity written\n",
    "plt.show()"
   ]
  },
  {
   "cell_type": "code",
   "execution_count": null,
   "id": "edbca3c9",
   "metadata": {},
   "outputs": [],
   "source": [
    "np.arange(0,3)"
   ]
  },
  {
   "cell_type": "code",
   "execution_count": null,
   "id": "7a2e45de",
   "metadata": {},
   "outputs": [],
   "source": [
    "axs"
   ]
  },
  {
   "cell_type": "code",
   "execution_count": null,
   "id": "e2840572",
   "metadata": {},
   "outputs": [],
   "source": [
    "projects"
   ]
  },
  {
   "cell_type": "code",
   "execution_count": null,
   "id": "1e1321c9",
   "metadata": {},
   "outputs": [],
   "source": [
    "columns_to_represent= list(projects.filter(regex='water stress').columns) # select columns that should be presented in plots\n",
    "columns_to_represent=[ (' ').join(k.split(' ')[-2:])  for k in columns_to_represent] # delete 'water stress' from the list column_to_represent"
   ]
  },
  {
   "cell_type": "code",
   "execution_count": null,
   "id": "1ccbd298",
   "metadata": {},
   "outputs": [],
   "source": [
    "columns_to_represent"
   ]
  },
  {
   "cell_type": "code",
   "execution_count": null,
   "id": "7234cf58",
   "metadata": {},
   "outputs": [],
   "source": [
    "[s.replace('water stress ', '') for s in columns_to_represent]\n",
    "columns_to_represent"
   ]
  },
  {
   "cell_type": "code",
   "execution_count": null,
   "id": "66bb0686",
   "metadata": {},
   "outputs": [],
   "source": [
    "# plot results for projects\n",
    "columns_to_represent= list(projects.filter(regex='water stress').columns) # select columns that should be presented in plots\n",
    "number_plots = len(columns_to_represent)\n",
    "\n",
    "# trying to do a map with shape of area and points projets\n",
    "#projects.plot(column='water stress projection_2030 ssp2_rcp45', legend=True)"
   ]
  },
  {
   "cell_type": "code",
   "execution_count": null,
   "id": "90469688",
   "metadata": {},
   "outputs": [],
   "source": [
    "fig, (ax1, ax2,ax3) = plt.subplots(ncols=3, sharex=True, sharey=True,figsize=(8,8))\n",
    "#norm = plt.colors.Normalize(vmin=projects.val.min(), vmax=projects.val.max()) # to normalize legend between the different plots\n",
    "# wait to see if new intallation worked\n",
    "base = study_area.plot(ax=ax1,color='white', edgecolor='black')\n",
    "projects.plot(ax=ax1, column='water stress projection_2030 ssp2_rcp45',legend=True)\n",
    "base = study_area.plot(ax=ax2,color='white', edgecolor='black')\n",
    "projects.plot(ax=ax2, column='water stress projection_2040 ssp2_rcp45',legend=True)\n",
    "base = study_area.plot(ax=ax3,color='white', edgecolor='black')\n",
    "projects.plot(ax=ax3, column='water stress projection_2030 ssp2_rcp85',legend=True)\n",
    "#projects.plot(column='water stress projection_2030 ssp2_rcp45',ax=base, legend=True);"
   ]
  },
  {
   "cell_type": "markdown",
   "id": "e6564dce",
   "metadata": {},
   "source": [
    "<a id='floods'></a>\n",
    "## Floods - Hydrosphere\n",
    "\n",
    "####  Fluvial\n",
    "Sources:\n",
    "1) JRC Flood Hazard Map, http://data.europa.eu/89h/jrc-floods-floodmapgl_rp100y-tif : The map depicts flood prone areas at global scale for flood events with 100-year return period. Resolution is 30 arcseconds (approx. 1km). Cell values indicate water depth (in m). The map can be used to assess flood exposure and risk of population and assets. NOTE: this dataset is based on JRC elaborations and is not an official flood hazard map (for details and limitations please refer to related publications).\n",
    "2) Dataset of tropical cyclone Idai and subsequent flood disaster in Southern Africa (March 2019). National Tibetan Plateau Data Center, https://data.tpdc.ac.cn/en/data/8d836d13-a8e6-492b-9324-00fbfce40619/ \n",
    "\n",
    "#### Coastal \n",
    "Source: WRI Aqueduct database"
   ]
  },
  {
   "cell_type": "code",
   "execution_count": null,
   "id": "14df49eb",
   "metadata": {},
   "outputs": [],
   "source": [
    "# save the path for the image presenting the floods which have a return period of a 100 year\n",
    "flood_path=os.path.join(data_folder,'floodMapGL_rp100y/floodMapGL_rp100y.tif')\n",
    "\n",
    "buffer_flood=1000#meters # pas sure : sert a avoir les \n",
    "if buffer_flood != 0:\n",
    "    projects_bufFlood=projects.to_crs(mCRS)  #project to crs with metric units to get buffer in meters\n",
    "    projects_bufFlood['geometry']=projects.to_crs(mCRS).buffer(buffer_flood) #assign the buffer as the new geometry - \n",
    "    projects_bufFlood=projects_bufFlood.to_crs(bCRS)#project back to orginal crs\n",
    "\n",
    "projects['floods100yr_max']=pd.DataFrame(zonal_stats(vectors=projects_bufFlood, raster=flood_path, \n",
    "                                                            all_touched=True, stats='max'))\n",
    "#plot\n",
    "fig, ax = plt.subplots()\n",
    "floods = rioxarray.open_rasterio(flood_path)\n",
    "floods_clip = floods.rio.clip(study_area.geometry, study_area.crs, drop=True)\n",
    "floods_clip.plot(ax=ax,cmap='Blues',vmin=0,vmax=25)\n",
    "projects.plot(ax=ax,color='Black') # mapping the projects located in the study area\n",
    "#cb.set_label('Water depth (m)') # name for color scale ne fonctionne pas car cette ligne appartient a basemap language\n",
    "ax.set_title('Floods extent with a\\nreturn period of 100 years') # set a title to the image\n",
    "\n",
    "#close\n",
    "floods_clip.close()\n",
    "floods.close()"
   ]
  },
  {
   "cell_type": "markdown",
   "id": "9a2421d5",
   "metadata": {},
   "source": [
    "#### Sea level rise\n",
    "\n",
    "Global Mean Sea Level\n",
    "Source : https://climate.nasa.gov/vital-signs/sea-level/ ; used the Global Mean Sea Level (Global Isostatic Adjustment (GIA) applied) variation (mm) with respect to 20-year TOPEX/Jason collinear mean reference \n",
    "\n",
    "Sea Level Trends\n",
    "Source : https://sealevel.colorado.edu/trend-map : sea level trend from 1992 to 2022"
   ]
  },
  {
   "cell_type": "markdown",
   "id": "b0881784",
   "metadata": {},
   "source": [
    "<a id='second_effect_climate_variables'></a>\n",
    "# Second effect climate variables\n",
    "\n",
    "[Home](#beginning_CRVA)"
   ]
  },
  {
   "cell_type": "markdown",
   "id": "ce6fbd21",
   "metadata": {},
   "source": [
    "<a id='cyclone_risk'></a>\n",
    "## Cyclones\n",
    "data source: https://wesr.unepgrid.ch/?project=MX-XVK-HPH-OGN-HVE-GGN&language=en UNEP-GRID, \n",
    "\n",
    "cyclone risk level from 1 (low) to 5 (extreme)"
   ]
  },
  {
   "cell_type": "code",
   "execution_count": null,
   "id": "a4a6dd62",
   "metadata": {},
   "outputs": [],
   "source": [
    "#cyclone data path\n",
    "cyclone_path=os.path.join(data_folder,'cyclones/unep_grid/cy_risk.tif')\n",
    " \n",
    "   # \\\\COWI.net\\projects\\A245000\\A248363\\CRVA\\Datasets\\cyclones\\unep_grid\n",
    "#spatial stats\n",
    "projects['cyclone_risk']=pd.DataFrame(zonal_stats(vectors=projects_buf, raster=cyclone_path, all_touched=True, stats='max'))\n",
    "\n",
    "#show table\n",
    "projects[[project_id,'cyclone_risk']].head()\n",
    "\n",
    "#plot\n",
    "fig, ax = plt.subplots()\n",
    "cyclone = rioxarray.open_rasterio(cyclone_path)\n",
    "cyclone_clip = cyclone.rio.clip(study_area.geometry, study_area.crs, drop=True)\n",
    "cyclone_clip.plot(ax=ax)\n",
    "projects.plot(ax=ax) # plot the projects on the map\n",
    "\n",
    "plt.title('Cyclone risk level') # title of the graph\n",
    "\n",
    "#close\n",
    "cyclone_clip.close()\n",
    "cyclone.close()"
   ]
  },
  {
   "cell_type": "markdown",
   "id": "c263a351",
   "metadata": {},
   "source": [
    "<a id='climate_change_info_for_each_project_in_study_area'></a>\n",
    "# Climate change information concerning the projects in the study area\n",
    "\n",
    "Display climate change information concerning the project you are looking into.\n",
    "\n",
    "[Home](#beginning_CRVA)"
   ]
  },
  {
   "cell_type": "code",
   "execution_count": null,
   "id": "8b397fbc",
   "metadata": {},
   "outputs": [],
   "source": [
    "# selection of projects in the study area\n",
    "#RAPY: not useful since study area is just for plotting purposes, projects should be only the relevant ones already\n",
    "#projects_of_interest=projects[projects.within(study_area)]\n",
    "\n",
    "# selection of the information to display\n",
    "list_of_names=['Name','province','climatology-hd40_2020-2039_ssp245_median',\n",
    "               'daily-median-Wind-2100-ssp5_8_5','landslides_THmax','floods100yr_max','cyclone_risk']\n",
    "\n",
    "# display selected climate change information of the projects in the study area\n",
    "projects_of_interest_filtered = projects[list_of_names]\n",
    "projects_of_interest_filtered"
   ]
  },
  {
   "cell_type": "markdown",
   "id": "6cae4afe",
   "metadata": {},
   "source": [
    "# Export\n",
    "Exports the calculated climate variables to a csv file\n",
    "\n",
    "[Home](#beginning_CRVA)"
   ]
  },
  {
   "cell_type": "code",
   "execution_count": null,
   "id": "9f64fe4a",
   "metadata": {},
   "outputs": [],
   "source": [
    "projects.T.to_csv('outputs/csv/projects_climate_risks.csv')"
   ]
  },
  {
   "cell_type": "code",
   "execution_count": null,
   "id": "1702c5cb",
   "metadata": {},
   "outputs": [],
   "source": []
  }
 ],
 "metadata": {
  "kernelspec": {
   "display_name": "Python 3 (ipykernel)",
   "language": "python",
   "name": "python3"
  },
  "language_info": {
   "codemirror_mode": {
    "name": "ipython",
    "version": 3
   },
   "file_extension": ".py",
   "mimetype": "text/x-python",
   "name": "python",
   "nbconvert_exporter": "python",
   "pygments_lexer": "ipython3",
   "version": "3.10.6"
  }
 },
 "nbformat": 4,
 "nbformat_minor": 5
}
