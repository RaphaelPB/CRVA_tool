{
 "cells": [
  {
   "cell_type": "markdown",
   "id": "c6fb3dd0",
   "metadata": {},
   "source": [
    "<a id='beginning_CRVA'></a>\n",
    "# Climate Risk and Vulnerability Analysis\n",
    "This notebook helps you download and visualize climate data to perform Climate Risk and Vulnerability analyses\n",
    "\n",
    "## Usage\n",
    "this is how to use this script\n",
    "\n",
    "1. [Define user input](#user_input)\n",
    "2. [Run wanted climate variables](#climate_variables)\n",
    "    1. [Atmosphere's climate variables](#atmosphere_climate_variables)\n",
    "    2. [Land climate's variables](#land_climate_variables)\n",
    "    3. [Hydrosphere's climate variables](#hydrosphere_climate_variables)\n",
    "    4. [Second effect's climate variables](#second_effect_climate_variables)\n",
    "3. [Export data](#Export)\n",
    "\n",
    "## Input data\n",
    "\n",
    "* [Shapefile with project location(s) as points or polygon](#load_shapefile)\n",
    "* List of variables\n",
    "* List of SSP's\n",
    "* List of time horizons\n",
    "\n",
    "## [Climate variables](#climate_variables)\n",
    "### [Atmosphere's climate variables](#atmosphere_climate_variables)\n",
    "* [Precipitation](#worldbank)\n",
    "* [Temperature](#worldbank)\n",
    "* [Wind](#wind)\n",
    "* [Humidity](#humidity)\n",
    "* [Solar radiation](#solar_radiation)\n",
    "* Air quality deterioration\n",
    "### [Land's climate variables](#land_climate_variables)\n",
    "* [Landslides](#landslides)\n",
    "* Coastal erosion\n",
    "* Soil erosion\n",
    "* Soil salinity\n",
    "### [Hydrosphere's climate variables](#hydrosphere_climate_variables)\n",
    "* [Relative sea level rise](#relative_sea_level_rise)\n",
    "* [Seawater temperature](#sea_water_temperature)\n",
    "* [Water availability](#water_availability)\n",
    "* floods (fluvial)\n",
    "* floods (coastal)\n",
    "* forest fires\n",
    "### [Second effects of climate variables](#second_effect_climate_variables)\n",
    "* Storms\n",
    "* Dust storms\n",
    "* Wildfire\n",
    "* Urban heat island\n",
    "* Growinf season length\n",
    "* [cyclone risk](#cyclone_risk)\n",
    "\n",
    "\n",
    "\n",
    "* earthquakes (not climate related)\n",
    "\n",
    "## Climate impacts\n",
    "* calculate impact on yields\n",
    "\n",
    "## [Climate change information concerning the projects in the study area](#climate_change_info_for_each_project_in_study_area)\n",
    "\n",
    "\n",
    "## Contact\n",
    "\n",
    "rapy@cowi.com\n"
   ]
  },
  {
   "cell_type": "markdown",
   "id": "93fe4ed9",
   "metadata": {},
   "source": [
    "<a id='user_input'></a>\n",
    "## User inputs\n",
    "\n",
    "[Home](#beginning_CRVA)"
   ]
  },
  {
   "cell_type": "code",
   "execution_count": 1,
   "id": "51f07a6b",
   "metadata": {},
   "outputs": [],
   "source": [
    "#User inputs\n",
    "import os.path\n",
    "\n",
    "\n",
    "#project locations (shapefile with location of elements to evaluate)\n",
    "data_folder=r'\\\\COWI.net\\projects\\A245000\\A248363\\CRVA\\Datasets'\n",
    "#data_folder=os.path.join(os.pardir,'dataset')\n",
    "project_location_path=os.path.join(data_folder,'Mozambique_PPIS/EIB_locations_few.shp')\n",
    "project_id='Name' #name of column used as id\n",
    "\n",
    "#study boundary (optional)\n",
    "study_area_path=os.path.join(data_folder,'Mozambique_PPIS/mozambique.shp')\n",
    "\n",
    "#output folder\n",
    "#out_path=r'\\\\COWI.net\\projects\\A245000\\A248363\\CRVA\\Scripts\\outputs'\n",
    "out_path=r'C:\\Users\\CLMRX\\OneDrive - COWI\\Documents\\GitHub\\CRVA_tool\\outputs'\n",
    "\n",
    "#projection CRS (default = 'EPSG:4326')\n",
    "bCRS='EPSG:4326'\n",
    "\n",
    "#buffer for climate/grid variables\n",
    "buffer=40000 #buffer in meters, 0 = no buffer is computed\n",
    "\n",
    "mCRS='EPSG:31983' #metric CRS for buffer in meters (find relevant metric CRS for location!)\n",
    "\n",
    "\n",
    "#### Year of study\n",
    "#IDEA IS TO GIVE POSSIBILITY FOR THE USER TO CHOOSE DEPENDING on PROJECT (could choose on year or a period but precise period make more sense)\n",
    "#SET by default for the moment\n",
    "\n",
    "first_year = 2025 # start year included\n",
    "last_year = 2026 # last year included\n",
    "\n",
    "\n",
    "# For data coming from copernicus, historical data are commonly 1850-2005"
   ]
  },
  {
   "cell_type": "markdown",
   "id": "f62ceae0",
   "metadata": {},
   "source": [
    "## Import python packages"
   ]
  },
  {
   "cell_type": "code",
   "execution_count": 2,
   "id": "2fd37531",
   "metadata": {},
   "outputs": [
    {
     "name": "stderr",
     "output_type": "stream",
     "text": [
      "C:\\Users\\CLMRX\\AppData\\Local\\Temp\\1\\ipykernel_52796\\3011952660.py:4: UserWarning: Shapely 2.0 is installed, but because PyGEOS is also installed, GeoPandas will still use PyGEOS by default for now. To force to use and test Shapely 2.0, you have to set the environment variable USE_PYGEOS=0. You can do this before starting the Python process, or in your code before importing geopandas:\n",
      "\n",
      "import os\n",
      "os.environ['USE_PYGEOS'] = '0'\n",
      "import geopandas\n",
      "\n",
      "In a future release, GeoPandas will switch to using Shapely by default. If you are using PyGEOS directly (calling PyGEOS functions on geometries from GeoPandas), this will then stop working and you are encouraged to migrate from PyGEOS to Shapely 2.0 (https://shapely.readthedocs.io/en/latest/migration_pygeos.html).\n",
      "  import geopandas as gpd\n"
     ]
    }
   ],
   "source": [
    "#Import python packages\n",
    "from rasterstats import zonal_stats\n",
    "import pandas as pd\n",
    "import geopandas as gpd\n",
    "import rasterio\n",
    "from rasterio.plot import show\n",
    "import rioxarray #used when calling ncdata.rio.write_crs\n",
    "import xarray as xr\n",
    "import os\n",
    "import os.path\n",
    "import matplotlib.pyplot as plt\n",
    "import netCDF4 as nc#not directly used but needs to be imported for some nc4 files manipulations, use for nc files\n",
    "from netCDF4 import Dataset\n",
    "import csv #REMOVE ? not in use ?\n",
    "import numpy as np\n",
    "import numpy.ma as ma\n",
    "from mpl_toolkits.basemap import Basemap\n",
    "import shutil # to move folders\n",
    "import warnings\n",
    "warnings.filterwarnings('ignore') # to ignore the warnings\n",
    "#import io\n",
    "import cdsapi # for copernicus function\n",
    "import datetime # to have actual date\n",
    "from osgeo import gdal, ogr, osr # in order to convert shp in raster\n",
    "from geopandas import GeoDataFrame\n",
    "from shapely.geometry import Point\n",
    "from matplotlib.lines import Line2D\n",
    "\n",
    "# to perform bias correction\n",
    "from bias_correction import BiasCorrection, XBiasCorrection\n",
    "from statsmodels.distributions.empirical_distribution import ECDF\n",
    "from scipy.stats import gamma, norm\n",
    "from scipy.signal import detrend\n",
    "\n",
    "# import functions and class defined in another file named FunctionsAndClass\n",
    "## Functions\n",
    "from FunctionsAndClass import copernicus_data\n",
    "from FunctionsAndClass import year_copernicus\n",
    "from FunctionsAndClass import date_copernicus\n",
    "from FunctionsAndClass import csv_copernicus\n",
    "from FunctionsAndClass import Display_map\n",
    "from FunctionsAndClass import read_cckp_ncdata\n",
    "from FunctionsAndClass import get_cckp_file_name\n",
    "from FunctionsAndClass import Display_map_projects\n",
    "from FunctionsAndClass import register_data # import to test\n",
    "from FunctionsAndClass import find_column_name # import to test\n",
    "\n",
    "## Class\n",
    "from FunctionsAndClass import calendar\n",
    "from FunctionsAndClass import copernicus_elements\n",
    "from FunctionsAndClass import map_elements"
   ]
  },
  {
   "cell_type": "markdown",
   "id": "e907e131",
   "metadata": {},
   "source": [
    "<a id='load_shapefile'></a>\n",
    "## Load shapefiles and plot"
   ]
  },
  {
   "cell_type": "code",
   "execution_count": 3,
   "id": "7213162f",
   "metadata": {},
   "outputs": [
    {
     "data": {
      "image/png": "[encoded data removed]",
      "text/plain": [
       "<Figure size 640x480 with 1 Axes>"
      ]
     },
     "metadata": {},
     "output_type": "display_data"
    },
    {
     "data": {
      "image/png": "[encoded data removed]",
      "text/plain": [
       "<Figure size 640x480 with 1 Axes>"
      ]
     },
     "metadata": {},
     "output_type": "display_data"
    },
    {
     "data": {
      "image/png": "[encoded data removed]",
      "text/plain": [
       "<Figure size 640x480 with 1 Axes>"
      ]
     },
     "metadata": {},
     "output_type": "display_data"
    }
   ],
   "source": [
    "#load shapefiles\n",
    "projects = gpd.read_file(project_location_path).to_crs(bCRS)\n",
    "study_area = gpd.read_file(study_area_path).to_crs(bCRS)\n",
    "\n",
    "#calculate buffer around points/shape\n",
    "if buffer != 0:\n",
    "    projects_buf=projects.to_crs(mCRS)  #project to crs with metric units to get buffer in meters\n",
    "    projects_buf['geometry']=projects.to_crs(mCRS).buffer(buffer) #assign the buffer as the new geometry - \n",
    "    projects_buf=projects_buf.to_crs(bCRS)#project back to orginal crs\n",
    "\n",
    "    \n",
    "#plot shapefiles\n",
    "study_area.plot()\n",
    "projects.plot()\n",
    "projects_buf.plot() \n",
    "\n",
    "\n",
    "#show table\n",
    "projects[[project_id]]\n",
    "\n",
    "# register geographic information concerning projects\n",
    "lon_projects = projects['geometry'].x\n",
    "lat_projects = projects['geometry'].y\n",
    "area_projects = [lat_projects - 5, lat_projects+5, lon_projects-5,lon_projects+5] # list format\n",
    "\n",
    "#### determination of the geographical zone of interest \n",
    "lat_min_wanted = min(study_area['LAT'])-10\n",
    "lat_max_wanted = max(study_area['LAT'])+10\n",
    "lon_min_wanted = min(study_area['LON'])-20\n",
    "lon_max_wanted = max(study_area['LON'])+20\n",
    "# addind and substracting to lon and lat to have margin\n",
    "# substracting more to longitude because the range of longitude is -180 to 180. The range of latitude is -90 to 90\n",
    "\n",
    "area = [lat_min_wanted, lon_min_wanted, lat_max_wanted,lon_max_wanted,] # used to download from copernicus\n",
    "\n",
    "### YEAR\n",
    "year = np.arange(first_year,(last_year+1),1) # create vector of years\n",
    "year_str = [0]*len(year) # create initiale empty vector to convert years in int\n",
    "index = np.arange(0,len(year)) # create vector of index for year\n",
    "i = 0 # initialize index\n",
    "for i in index: # convert all the date in string format\n",
    "    year_str[i]=str(year[i])\n",
    "\n",
    "start_date = \"01-01-\"+year_str[0] # string start date based on start year\n",
    "stop_date = \"31-12-\"+year_str[len(year)-1] # string stop date based on stop year\n",
    "dates = pd.date_range(start_date,stop_date) # vector of dates between start date and stop date\n",
    "index_dates = np.arange(0,len(dates)) # vector containning index o dates vector"
   ]
  },
  {
   "cell_type": "code",
   "execution_count": 4,
   "id": "5b27e633",
   "metadata": {},
   "outputs": [
    {
     "data": {
      "image/png": "[encoded data removed]",
      "text/plain": [
       "<Figure size 640x480 with 1 Axes>"
      ]
     },
     "metadata": {},
     "output_type": "display_data"
    }
   ],
   "source": [
    "base = study_area.plot(color='white', edgecolor='black')\n",
    "projects.plot(ax=base, marker='o', color='blue', markersize=5);"
   ]
  },
  {
   "cell_type": "markdown",
   "id": "a84709b2",
   "metadata": {},
   "source": [
    "<a id='climate_variables'></a>\n",
    "# Climate variables\n",
    "\n",
    "[Home](#beginning_CRVA)"
   ]
  },
  {
   "cell_type": "markdown",
   "id": "fded3e5a",
   "metadata": {},
   "source": [
    "<a id='atmosphere_climate_variables'></a>\n",
    "# ATMOSPHERE\n",
    "\n",
    "[Home](#beginning_CRVA)"
   ]
  },
  {
   "cell_type": "markdown",
   "id": "5df87640",
   "metadata": {},
   "source": [
    "<a id='worldbank'></a>\n",
    "## World Bank Climate knowledge portal, Precipitation and Temperature - Atmosphere\n",
    "data source: https://climateknowledgeportal.worldbank.org/download-data\n",
    "\n",
    "List of different variables:\n",
    "\n",
    "### Precipitation \n",
    "* return period of current 50 and 100 year event\n",
    "* yearly average precipitation\n",
    "* seasonal average precipitation - OR MONTH? i word documnet: average dry season precipitation \n",
    "* maximum precipitation in one day - NOT REALLY, instead \"Average of the largest daily precipitation amount\" rx1day \n",
    "* maximum precipitation in five days - NOT REALLY, instead \"Average of the largest 5-day consecutive precipitation amount\".\n",
    "* FORSLAG: Could also include: precipitation amount from very wet days/ days >50mm. eg. \n",
    "\n",
    "### Temperature\n",
    "* Yearly mean temperature (average) - tas \n",
    "* Number of hot days >40 degrees C (average)\n",
    "* Number of hot days >35 degrees C (average) \n",
    "* Maximum of daily max-temperature (per year) -txx\n",
    "* Average of maximum temperature (daily??) - tasmax \n",
    "\n",
    "### How to use\n",
    "define \n",
    "\n",
    "`variables = {variablename1:{'periods':['2020-2039'],'ssps':['ssp245','ssp370'],'gcms':['median','p10','p90']}, variablename2:...}`\n",
    "\n",
    "where variablename corresponds to a variable name in the cckp, periods include the desired periods, ssps the desired ssp-rcp scenarios, and gcms can be either median, p10, or p90 (50%, 10%, and 90% percentile of ensemble models)."
   ]
  },
  {
   "cell_type": "code",
   "execution_count": null,
   "id": "d8b0eada",
   "metadata": {},
   "outputs": [],
   "source": [
    "#Read downloaded precipitation and temperature data\n",
    "#settings\n",
    "\n",
    "variables= {\n",
    "    #Temperature\n",
    "        #era/cru\n",
    "            #'climatology-hd35-annual-mean_era':{'periods':['1991-2020']},\n",
    "            'climatology-hd40-annual-mean_era':{'periods':['1991-2020']},\n",
    "            'climatology-tasmax-annual-mean_era':{'periods':['1991-2020']}, \n",
    "            'climatology-tas-annual-mean_era':{'periods':['1991-2020']},\n",
    "            'climatology-tasmax-annual-mean_cru':{'periods':['1991-2020']}, \n",
    "        #realtime\n",
    "            'climatology-hd40':{'periods':['2020-2039'],'ssps':['ssp245','ssp370'],'gcms':['median','p10','p90']},\n",
    "            'anomaly-hd40':{'periods':['2020-2039'],'ssps':['ssp245','ssp370'],'gcms':['median']},\n",
    "            #'anomaly-hd35':{'periods':['2020-2039'],'ssps':['ssp245','ssp370'],'gcms':['median','p10','p90']},\n",
    "            #'anomaly-tasmax':{'periods':['2020-2039','2040-2059'],'ssps':['ssp245','ssp370'],'gcms':['median','p10','p90']}, \n",
    "            'anomaly-txx':{'periods':['2020-2039','2040-2059'],'ssps':['ssp245','ssp370'],'gcms':['median','p10','p90']}, #txx=maximum of daily max temperature\n",
    "            'climatology-txx':{'periods':['2020-2039','2040-2059'],'ssps':['ssp245','ssp370'],'gcms':['median','p10','p90']},\n",
    "            'anomaly-tas':{'periods':['2020-2039'],'ssps':['ssp245','ssp370'],'gcms':['median','p10','p90']},\n",
    "            'climatology-tas':{'periods':['2020-2039','2040-2059'],'ssps':['ssp245','ssp370'],'gcms':['median','p10','p90']}, #data not downloaded \n",
    "    #Precipitation\n",
    "       #era/cru\n",
    "            #'climatology-r50mm-annual-mean_era_annual':{'periods':['1991-2020']},\n",
    "            'climatology-rx1day-monthly-mean_era_monthly':{'periods':['1991-2020']},\n",
    "            'climatology-rx1day-annual-mean_era_annual':{'periods':['1991-2020']},\n",
    "            'climatology-pr-annual-mean_era_annual':{'periods':['1991-2020']},\n",
    "            'climatology-pr-monthly-mean_era_monthly':{'periods':['1991-2020']},\n",
    "            'climatology-pr-annual-mean_cru':{'periods':['1991-2020']},\n",
    "        #realtime\n",
    "            'frp100yr-rx1day-period-mean_cmip6_period':{'periods':['2010-2039','2035-2064'],'ssps':['ssp245','ssp370'],'gcms':['median','p10','p90']}, \n",
    "            'frp50yr-rx1day-period-mean_cmip6_period':{'periods':['2010-2039'],'ssps':['ssp245','ssp370'],'gcms':['median','p10','p90']},\n",
    "            'climatology-rx5day-annual-mean_cmip6_annual':{'periods':['2020-2039','2040-2059'],'ssps':['ssp245','ssp370'],'gcms':['median','p10','p90']},\n",
    "            'climatology-rx1day-annual-mean_cmip6_annual':{'periods':['2020-2039','2040-2059'],'ssps':['ssp245','ssp370'],'gcms':['median','p10','p90']},\n",
    "            'climatology-pr-monthly-mean_cmip6_monthly':{'periods':['2020-2039','2040-2059'],'ssps':['ssp245','ssp370'],'gcms':['median','p10','p90']},\n",
    "            'climatology-pr-annual-mean_cmip6_annual':{'periods':['2020-2039','2040-2059'],'ssps':['ssp245','ssp370'],'gcms':['median','p10','p90']},\n",
    "            'climatology-pr-seasonal-mean_cmip6_seasonal':{'periods':['2020-2039','2040-2059'],'ssps':['ssp245','ssp370'],'gcms':['median','p10','p90']},\n",
    "            'changefactorfaep100yr-rx1day-period-mean_cmip6_period':{'periods':['2010-2039'],'ssps':['ssp245','ssp370'],'gcms':['median','p10','p90']},\n",
    "            #'anomaly-pr-monthly-mean_cmip6_monthly':{'periods':['2040-2059'],'ssps':['ssp245','ssp370'],'gcms':['median','p10','p90']}\n",
    "            }\n",
    "       ## 'timeseries-rx1day':{'periods':['2015-2100'],'ssps':['ssp245'],'gcms':['median']} # Den kan ikke læse den - brokker sig over Dimension time=0. \n",
    "       \n",
    "#Create multi index for cckp_output\n",
    "idx=pd.IndexSlice\n",
    "mindex=[]\n",
    "for var in variables.keys():\n",
    "    for period in variables[var]['periods']:\n",
    "        if period in ['1991-2020']:\n",
    "            mindex.append((var,period,None,None))\n",
    "        else:\n",
    "            for ssp in variables[var]['ssps']:\n",
    "                    for gcm in variables[var]['gcms']:\n",
    "                        mindex.append((var,period,ssp,gcm))\n",
    "mindex=pd.MultiIndex.from_tuples(mindex, names=['variable', 'period','ssp','gcm'])\n",
    "#cckp_output=pd.DataFrame(index=projects[project_id],columns=mindex)\n",
    "cckp_output=pd.DataFrame(index=mindex,columns=projects[project_id])\n",
    "\n",
    "#read data from cckp and spatial statistics\n",
    "for var in variables.keys():\n",
    "    for period in variables[var]['periods']:\n",
    "        if period in ['1991-2020']: # for era/cru data\n",
    "            varname='_'.join((var,period))\n",
    "            data_path=get_cckp_file_name(var,period=period)\n",
    "            if os.path.exists(data_path):\n",
    "                data=read_cckp_ncdata(data_path)\n",
    "                stats=pd.DataFrame(zonal_stats(vectors=projects_buf, raster=data,all_touched=True, stats='mean'))\n",
    "                projects[varname]=stats\n",
    "                #cckp_output.loc[:,idx[var,period,:,:]]=stats.values\n",
    "                cckp_output.loc[idx[var,period,:,:],:]=stats.T.values\n",
    "            else:\n",
    "                print(data_path,\"not found\")\n",
    "                projects[varname]='not found'\n",
    "        elif period not in ['1991-2020']: #for realtime data \n",
    "                for ssp in variables[var]['ssps']:\n",
    "                    for gcm in variables[var]['gcms']:\n",
    "                        varname='_'.join((var,period,ssp,gcm))\n",
    "                        data_path=get_cckp_file_name(var,ssp=ssp,period=period,gcm=gcm)\n",
    "                        if os.path.exists(data_path):\n",
    "                            data=read_cckp_ncdata(data_path)\n",
    "                            stats=pd.DataFrame(zonal_stats(vectors=projects_buf, raster=data,all_touched=True, stats='mean'))\n",
    "                            projects[varname]=stats\n",
    "                            #cckp_output.loc[:,idx[var,period,ssp,gcm]]=stats.values\n",
    "                            cckp_output.loc[idx[var,period,ssp,gcm],:]=stats.T.values\n",
    "                        else:\n",
    "                            print(data_path,\"not found\")\n",
    "                            projects[varname]='not found'\n",
    "\n",
    "\n",
    "#plot, show #ADD enlarge the clip + something wierd with nodata value\n",
    "cckp_output.to_csv('outputs/csv/cckp_output.csv')\n",
    "projects[[project_id,varname]].head()\n",
    "\n",
    "fig, ax = plt.subplots()\n",
    "precip = rioxarray.open_rasterio(data)\n",
    "precip_clip = precip.rio.clip(study_area.geometry, study_area.crs, drop=True)\n",
    "precip_clip.plot(ax=ax)\n",
    "projects.plot(ax=ax)\n",
    "\n",
    "#close\n",
    "precip.close()"
   ]
  },
  {
   "cell_type": "markdown",
   "id": "2a84cafc",
   "metadata": {},
   "source": [
    "<a id='wind'></a>\n",
    "## Wind Speed\n",
    "\n",
    "Daily wind speed, historical and projected.\n",
    "\n",
    "Data source : https://cds.climate.copernicus.eu/cdsapp#!/dataset/projections-cmip6?tab=form"
   ]
  },
  {
   "cell_type": "code",
   "execution_count": null,
   "id": "65af01ca",
   "metadata": {},
   "outputs": [],
   "source": [
    "### Extraction of Near-surface wind speed data\n",
    "global_variable = 'Wind'\n",
    "name_variable = 'near_surface_wind_speed'"
   ]
  },
  {
   "cell_type": "markdown",
   "id": "df282104",
   "metadata": {},
   "source": [
    "#### Historical data for wind speed"
   ]
  },
  {
   "cell_type": "code",
   "execution_count": null,
   "id": "bc673a78",
   "metadata": {},
   "outputs": [],
   "source": [
    "(year_historical, year_str_historical, index_historical)=year_copernicus(1950,2014)\n",
    "temporal_resolution = 'daily'\n",
    "# Register data from copernicus for humidity in a dataframe and production of a csv file for the period indicated above\n",
    "(Wind_historical,period_historical) = dataframe_csv_copernicus(temporal_resolution,year_str_historical,copernicus_elements.experiments_historical,copernicus_elements.models,out_path, name_variable,'sfcWind',area)    "
   ]
  },
  {
   "cell_type": "markdown",
   "id": "2ac960da",
   "metadata": {},
   "source": [
    "#### Projection data for wind speed"
   ]
  },
  {
   "cell_type": "code",
   "execution_count": null,
   "id": "e7b914dc",
   "metadata": {
    "scrolled": false
   },
   "outputs": [],
   "source": [
    "(year, year_str, index)=year_copernicus(2098,2099)\n",
    "temporal_resolution = 'daily'\n",
    "\n",
    "#(df,period) = dataframe_csv_copernicus(temporal_resolution,year_str,copernicus_elements.experiments,copernicus_elements.models,out_path,global_variable, name_variable,'sfcWind',projects.Name[0],[area_projects[0][0],area_projects[1][0],area_projects[2][0],area_projects[3][0]])\n",
    "\n",
    "# df with separation of different projects\n",
    "# separate dataframe function\n",
    "NameProjects=list(projects['Name'])\n",
    "#NameProjects.remove('PT1_Pemba - Breidge Paquite')\n",
    "\n",
    "# Register data from copernicus for humidity in a dataframe and production of a csv file for the period indicated above\n",
    "k=0\n",
    "Temp=[]\n",
    "for name_project in NameProjects:\n",
    "    (df,period) = dataframe_csv_copernicus(temporal_resolution,year_str,copernicus_elements.experiments,copernicus_elements.models,out_path,global_variable, name_variable,name_project,[area_projects[0][k],area_projects[1][k],area_projects[2][k],area_projects[3][k]])  \n",
    "    Temp.append(df)\n",
    "    k+=1\n",
    "# last parameter is the area of one project, elements are fisrt col (min lat = 0, max lat = 1, min lon = 0, max lon = 1), then line (each ligne is coordinates for a project)"
   ]
  },
  {
   "cell_type": "code",
   "execution_count": null,
   "id": "c71a1716",
   "metadata": {},
   "outputs": [],
   "source": [
    "(year, year_str, index)=year_copernicus(2098,2099)\n",
    "temporal_resolution = 'daily'\n",
    "### does not work for PT1_Pemba - Breidge Paquite. When extract all, try to extract a json file (no need for it I think)\n",
    "### this makes everything going bad\n",
    "(df,period) = dataframe_csv_copernicus(temporal_resolution,year_str,copernicus_elements.experiments,copernicus_elements.models,out_path,global_variable, name_variable,'sfcWind','PT_ Dumping Site',[area_projects[0][6],area_projects[1][6],area_projects[2][6],area_projects[3][6]])"
   ]
  },
  {
   "cell_type": "code",
   "execution_count": null,
   "id": "1862670e",
   "metadata": {},
   "outputs": [],
   "source": [
    "projects['Name']"
   ]
  },
  {
   "cell_type": "code",
   "execution_count": null,
   "id": "956ecc34",
   "metadata": {},
   "outputs": [],
   "source": [
    "df"
   ]
  },
  {
   "cell_type": "code",
   "execution_count": null,
   "id": "2b786dba",
   "metadata": {},
   "outputs": [],
   "source": [
    "### BOXPLOTS\n",
    "\n",
    "\n",
    "df_reordered2 = df.reorder_levels(['Experiment', 'Model', 'Latitude', 'Date']) # reordering to ...\n",
    "df_reordered2_mean=df_reordered2.groupby(level=[0,1,2],axis=0,group_keys=True).mean()\n",
    "numpy_array = df_reordered2_mean.loc['ssp1_2_6','access_cm2'].values\n",
    "numpy_array=numpy_array.flatten() # make the array a vector to use it in boxplot function\n",
    "numpy_array1 = numpy_array[~np.isnan(numpy_array)]\n",
    "\n",
    "numpy_array = df_reordered2_mean.loc['ssp1_2_6','awi_cm_1_1_mr'].values\n",
    "numpy_array=numpy_array.flatten() # make the array a vector to use it in boxplot function\n",
    "numpy_array2 = numpy_array[~np.isnan(numpy_array)]\n",
    "\n",
    "numpy_array = df_reordered2_mean.loc['ssp1_2_6','bcc_csm2_mr'].values\n",
    "numpy_array=numpy_array.flatten() # make the array a vector to use it in boxplot function\n",
    "numpy_array3 = numpy_array[~np.isnan(numpy_array)]\n",
    "# boxplot do not deal with NaN, have to take them out\n",
    "dict_boxplot = plt.boxplot([numpy_array1,numpy_array2,numpy_array3],notch=True, whis =(10,90),widths = 0.15, patch_artist=True,labels=('access_cm2','awi_cm_1_1_mr','bcc_csm2_mr'))#,labels = 'access_cm2')# ... present boxplot over the period for each models\n",
    "# this functions returns varius parameters of the boxplot in the dict_boxplot. This funcitons also returns an image of it\n",
    "# here, numpy_array is a vector. But can also include array with several columns. Each columns will have a boxplot\n",
    "# 'notch' is true to enhance part where the median is\n",
    "# 'whis' is the percentile value for the whiskers, every data out of the range indicted by those 2 floats are represented as points\n",
    "# 'widths' determine width of the boxes\n",
    "# 'patch_artist' colors the boxplots\n",
    "# 'labels' gives a name to every column included in the data part\n",
    "str = 'Distribution of the average daily wind speed for different models \\nfor the year '+period+' and under scenario ssp1_2_6'\n",
    "title_png = 'Boxplot_models_ssp1_2_6'\n",
    "plt.title(str)\n",
    "plt.xlabel('Models')\n",
    "plt.ylabel('Average wind speed m/s')\n",
    "plt.savefig(os.path.join(out_path,'figures','Boxplots',title_png),format ='png') # savefig or save text must be before plt.show. for savefig, format should be explicity written\n",
    "plt.show()"
   ]
  },
  {
   "cell_type": "code",
   "execution_count": null,
   "id": "246da20e",
   "metadata": {},
   "outputs": [],
   "source": [
    "#### BOXPLOTS\n",
    "\n",
    "\n",
    "df_reordered3 = df.reorder_levels(['Experiment', 'Model', 'Latitude', 'Date']) # reordering to ...\n",
    "df_reordered3_mean=df_reordered3.groupby(level=[0,1,2],axis=0,group_keys=True).mean()\n",
    "numpy_array = df_reordered3_mean.loc['ssp1_2_6'].values\n",
    "numpy_array=numpy_array.flatten() # make the array a vector to use it in boxplot function\n",
    "numpy_array4 = numpy_array[~np.isnan(numpy_array)]\n",
    "# boxplot do not deal with NaN, have to take them out\n",
    "dict_boxplot = plt.boxplot(numpy_array4,notch=True, whis =(10,90),widths = 0.15, patch_artist=True,labels=('ssp1_2_6',))# ... present boxplot over the period for each models\n",
    "# this functions returns varius parameters of the boxplot in the dict_boxplot. This funcitons also returns an image of it\n",
    "# here, numpy_array is a vector. But can also include array with several columns. Each columns will have a boxplot\n",
    "# 'notch' is true to enhance part where the median is\n",
    "# 'whis' is the percentile value for the whiskers, every data out of the range indicted by those 2 floats are represented as points\n",
    "# 'widths' determine width of the boxes\n",
    "# 'patch_artist' colors the boxplots\n",
    "# 'labels' gives a name to every column included in the data part\n",
    "str = 'Distribution of the average daily wind speed accross models\\nfor the year 2099-2100 and under scenario ssp1_2_6'\n",
    "title_png = 'Boxplot_ssp1_2_6'\n",
    "plt.title(str)\n",
    "plt.xlabel('Models')\n",
    "plt.ylabel('Average wind speed m/s')\n",
    "plt.savefig(os.path.join(out_path,'figures','Boxplots',title_png),format ='png') # savefig or save text must be before plt.show. for savefig, format should be explicity written\n",
    "plt.show()"
   ]
  },
  {
   "cell_type": "markdown",
   "id": "b7b74e8a",
   "metadata": {},
   "source": [
    "<a id='humidity'></a>\n",
    "## Humidity\n",
    "\n",
    "Source : https://cds.climate.copernicus.eu/cdsapp#!/dataset/projections-cmip6?tab=form\n",
    "\n",
    "### Relative humidity\n",
    "\n",
    "Relative humidity of air: amount if moisture it contains compared to the maximum amount of moisture it can have at a specific temperature\n",
    "\n",
    "### Extraction of Relative humidity data"
   ]
  },
  {
   "cell_type": "code",
   "execution_count": null,
   "id": "0442d22b",
   "metadata": {},
   "outputs": [],
   "source": [
    "global_variable = 'Relative_Humidity'\n",
    "name_variable = 'near_surface_relative_humidity' # only available on a monthly basis"
   ]
  },
  {
   "cell_type": "markdown",
   "id": "0844c1b4",
   "metadata": {},
   "source": [
    "#### Historical data"
   ]
  },
  {
   "cell_type": "code",
   "execution_count": null,
   "id": "ecbd47e6",
   "metadata": {},
   "outputs": [],
   "source": [
    "(year_historical, year_str_historical, index_historical) = year_copernicus(1850,2014)\n",
    "temporal_resolution = 'monthly'\n",
    "\n",
    "# Register data from copernicus for humidity in a dataframe and production of a csv file for the period indicated above\n",
    "Humidity_historical = dataframe_csv_copernicus(temporal_resolution,year_str_historical,copernicus_elements.experiments_historical,copernicus_elements.models,out_path,global_variable, name_variable,area)    "
   ]
  },
  {
   "cell_type": "markdown",
   "id": "cadf53af",
   "metadata": {},
   "source": [
    "#### Projections"
   ]
  },
  {
   "cell_type": "code",
   "execution_count": null,
   "id": "81a6062f",
   "metadata": {},
   "outputs": [],
   "source": [
    "(year, year_str, index) = year_copernicus(2020,2100)\n",
    "temporal_resolution = 'monthly'\n",
    "\n",
    "# Register data from copernicus for humidity in a dataframe and production of a csv file for the period indicated above\n",
    "Humidity = dataframe_csv_copernicus(temporal_resolution,year_str,copernicus_elements.experiments,copernicus_elements.models,out_path,global_variable, name_variable,area)    "
   ]
  },
  {
   "cell_type": "markdown",
   "id": "5190f3f0",
   "metadata": {},
   "source": [
    "<a id='solar_radiation'></a>\n",
    "## Solar radiation"
   ]
  },
  {
   "cell_type": "code",
   "execution_count": 5,
   "id": "85fd4321",
   "metadata": {},
   "outputs": [],
   "source": [
    "global_variable = 'Solar_radiation'\n",
    "# choose of the climate variable from copernicus to represent : choose of surface_downwelling_shortwave_radiation because\n",
    "# 1. interest for project located at the surface of the Earth\n",
    "# 2. for most project (for example solar panels), we are interest in radiation going down, not up\n",
    "# 3. Shortwave radiation are the ones produce by the sun\n",
    "name_variable = 'surface_downwelling_shortwave_radiation' # only available on a monthly basis"
   ]
  },
  {
   "cell_type": "markdown",
   "id": "b0a4ed45",
   "metadata": {},
   "source": [
    "#### Historical data for solar radiation"
   ]
  },
  {
   "cell_type": "code",
   "execution_count": null,
   "id": "480c7b0d",
   "metadata": {},
   "outputs": [],
   "source": [
    "(year_historical, year_str_historical, index_historical)=year_copernicus(1850,2016)\n",
    "temporal_resolution = 'monthly'\n",
    "# Register data from copernicus for humidity in a dataframe and production of a csv file for the period indicated above\n",
    "Solar_radiation_historical = dataframe_csv_copernicus(temporal_resolution,year_str_historical,copernicus_elements.experiments_historical,copernicus_elements.models,out_path,global_variable, name_variable,area)    "
   ]
  },
  {
   "cell_type": "markdown",
   "id": "b8a5e939",
   "metadata": {},
   "source": [
    "#### Projection for data solar radiation"
   ]
  },
  {
   "cell_type": "code",
   "execution_count": null,
   "id": "fbbc4df5",
   "metadata": {
    "scrolled": false
   },
   "outputs": [],
   "source": [
    "(year, year_str, index)=year_copernicus(2016,2017)#,2099)\n",
    "temporal_resolution = 'monthly'\n",
    "\n",
    "Projections_solar_radiation_projects = pd.DataFrame() # create an empty dataframe\n",
    "for (name_project,k) in zip(projects['Name'],np.arange(0,len(projects['Name']))):\n",
    "    (df,period) = csv_copernicus(temporal_resolution,year_str,copernicus_elements.experiments,copernicus_elements.models,out_path,global_variable, name_variable,name_project,[area_projects[0][k],area_projects[1][k],area_projects[2][k],area_projects[3][k]])  \n",
    "    Projections_solar_radiation_projects = pd.concat([Projections_solar_radiation_projects,df])\n",
    "path_for_csv = os.path.join(out_path,'csv','data',name_variable)\n",
    "Projections_solar_radiation_projects.to_csv('outputs/csv/data/Projections_solar_radiation_projects.csv')"
   ]
  },
  {
   "cell_type": "code",
   "execution_count": null,
   "id": "fdc20e08",
   "metadata": {},
   "outputs": [],
   "source": [
    "# create string for name of folder depending on type of period\n",
    "if temporal_resolution == 'fixed':\n",
    "    period = 'fixed'\n",
    "else:\n",
    "    period=year_str[0]+'-'+year_str[len(year_str)-1]\n",
    "name_project = name_project.replace('-','_') # take off every blank space of project names\n",
    "name_project = name_project.replace('/','_') # take off every / of project names\n",
    "name_project = name_project.replace(r'\"\\\"','_') # take off every \\ of project names\n",
    "path_for_csv = os.path.join(out_path,'csv','data',name_variable,name_project,period) # create path for csv file\n",
    "if len(os.listdir(path_for_csv)) == 0: #test if the directory is empty\n",
    "    # the csv file does not exist, even if the path exist\n",
    "    # the dataframe_copernicus functions aims to test if the data with the specific parameters exists (with copernicus_data)\n",
    "    # and then produce a csv file if the data exists\n",
    "    print('lalalalala')\n",
    "    (df,period)=dataframe_copernicus(temporal_resolution,year_str,experiments,models,out_path, global_variable, name_variable, name_project,area)\n",
    "else: # the directory is not empty\n",
    "    df=file_already_downloaded(path_for_csv,title_file)"
   ]
  },
  {
   "cell_type": "code",
   "execution_count": null,
   "id": "4266ed91",
   "metadata": {},
   "outputs": [],
   "source": [
    "Future_solar_radiation"
   ]
  },
  {
   "cell_type": "code",
   "execution_count": null,
   "id": "d1c85b54",
   "metadata": {
    "scrolled": true
   },
   "outputs": [
    {
     "name": "stdout",
     "output_type": "stream",
     "text": [
      "############################### Project name: CompleteMozambique ###############################\n",
      "FUNCTION DATAFRAME_COPERNICUS\n",
      "Test with scenario ssp1_1_9\n",
      "Test with model access_cm2\n",
      "path_for_file does not exist: the data may not have been downloaded\n",
      "file_download does not exist: the data were not downloaded\n"
     ]
    },
    {
     "name": "stderr",
     "output_type": "stream",
     "text": [
      "2023-05-05 14:16:50,219 INFO Welcome to the CDS\n",
      "2023-05-05 14:16:50,220 INFO Sending request to https://cds.climate.copernicus.eu/api/v2/resources/projections-cmip6\n",
      "2023-05-05 14:16:50,272 INFO Request is queued\n",
      "2023-05-05 14:16:51,325 INFO Request is failed\n",
      "2023-05-05 14:16:51,325 ERROR Message: an internal error occurred processing your request\n",
      "2023-05-05 14:16:51,326 ERROR Reason:  No matching data for request {'experiment': 'ssp119', 'model': 'ACCESS-CM2', 'temporal_resolution': 'mon', 'variable': 'rsds'}\n",
      "2023-05-05 14:16:51,327 ERROR   Traceback (most recent call last):\n",
      "2023-05-05 14:16:51,328 ERROR     File \"/opt/cdstoolbox/cdscompute/cdscompute/cdshandlers/services/handler.py\", line 59, in handle_request\n",
      "2023-05-05 14:16:51,328 ERROR       result = cached(context.method, proc, context, context.args, context.kwargs)\n",
      "2023-05-05 14:16:51,329 ERROR     File \"/opt/cdstoolbox/cdscompute/cdscompute/caching.py\", line 108, in cached\n",
      "2023-05-05 14:16:51,330 ERROR       result = proc(context, *context.args, **context.kwargs)\n",
      "2023-05-05 14:16:51,330 ERROR     File \"/opt/cdstoolbox/cdscompute/cdscompute/services.py\", line 124, in __call__\n",
      "2023-05-05 14:16:51,331 ERROR       return p(*args, **kwargs)\n",
      "2023-05-05 14:16:51,331 ERROR     File \"/opt/cdstoolbox/cdscompute/cdscompute/services.py\", line 60, in __call__\n",
      "2023-05-05 14:16:51,332 ERROR       return self.proc(context, *args, **kwargs)\n",
      "2023-05-05 14:16:51,332 ERROR     File \"/home/cds/cdsservices/services/esgf_wps/__init__.py\", line 30, in execute\n",
      "2023-05-05 14:16:51,332 ERROR       request_facets, request = facets.search(context, request)\n",
      "2023-05-05 14:16:51,333 ERROR     File \"/home/cds/cdsservices/services/esgf_wps/facets.py\", line 61, in search\n",
      "2023-05-05 14:16:51,333 ERROR       raise ValueError(f'No matching data for request {tmp_request}')\n",
      "2023-05-05 14:16:51,334 ERROR   ValueError: No matching data for request {'experiment': 'ssp119', 'model': 'ACCESS-CM2', 'temporal_resolution': 'mon', 'variable': 'rsds'}\n",
      "2023-05-05 14:16:51,378 INFO Welcome to the CDS\n",
      "2023-05-05 14:16:51,379 INFO Sending request to https://cds.climate.copernicus.eu/api/v2/resources/projections-cmip6\n",
      "2023-05-05 14:16:51,429 INFO Request is queued\n"
     ]
    },
    {
     "name": "stdout",
     "output_type": "stream",
     "text": [
      "Some parameters are not matching\n",
      "\n",
      "No value were found for the period and the project tested\n",
      "\n",
      "Test with model awi_cm_1_1_mr\n",
      "path_for_file does not exist: the data may not have been downloaded\n",
      "file_download does not exist: the data were not downloaded\n"
     ]
    },
    {
     "name": "stderr",
     "output_type": "stream",
     "text": [
      "2023-05-05 14:16:52,480 INFO Request is failed\n",
      "2023-05-05 14:16:52,482 ERROR Message: an internal error occurred processing your request\n",
      "2023-05-05 14:16:52,483 ERROR Reason:  No matching data for request {'experiment': 'ssp119', 'model': 'AWI-CM-1-1-MR', 'temporal_resolution': 'mon', 'variable': 'rsds'}\n",
      "2023-05-05 14:16:52,485 ERROR   Traceback (most recent call last):\n",
      "2023-05-05 14:16:52,485 ERROR     File \"/opt/cdstoolbox/cdscompute/cdscompute/cdshandlers/services/handler.py\", line 59, in handle_request\n",
      "2023-05-05 14:16:52,486 ERROR       result = cached(context.method, proc, context, context.args, context.kwargs)\n",
      "2023-05-05 14:16:52,487 ERROR     File \"/opt/cdstoolbox/cdscompute/cdscompute/caching.py\", line 108, in cached\n",
      "2023-05-05 14:16:52,488 ERROR       result = proc(context, *context.args, **context.kwargs)\n",
      "2023-05-05 14:16:52,488 ERROR     File \"/opt/cdstoolbox/cdscompute/cdscompute/services.py\", line 124, in __call__\n",
      "2023-05-05 14:16:52,489 ERROR       return p(*args, **kwargs)\n",
      "2023-05-05 14:16:52,489 ERROR     File \"/opt/cdstoolbox/cdscompute/cdscompute/services.py\", line 60, in __call__\n",
      "2023-05-05 14:16:52,490 ERROR       return self.proc(context, *args, **kwargs)\n",
      "2023-05-05 14:16:52,490 ERROR     File \"/home/cds/cdsservices/services/esgf_wps/__init__.py\", line 30, in execute\n",
      "2023-05-05 14:16:52,491 ERROR       request_facets, request = facets.search(context, request)\n",
      "2023-05-05 14:16:52,491 ERROR     File \"/home/cds/cdsservices/services/esgf_wps/facets.py\", line 61, in search\n",
      "2023-05-05 14:16:52,491 ERROR       raise ValueError(f'No matching data for request {tmp_request}')\n",
      "2023-05-05 14:16:52,492 ERROR   ValueError: No matching data for request {'experiment': 'ssp119', 'model': 'AWI-CM-1-1-MR', 'temporal_resolution': 'mon', 'variable': 'rsds'}\n",
      "2023-05-05 14:16:52,532 INFO Welcome to the CDS\n",
      "2023-05-05 14:16:52,533 INFO Sending request to https://cds.climate.copernicus.eu/api/v2/resources/projections-cmip6\n",
      "2023-05-05 14:16:52,582 INFO Request is queued\n"
     ]
    },
    {
     "name": "stdout",
     "output_type": "stream",
     "text": [
      "Some parameters are not matching\n",
      "\n",
      "No value were found for the period and the project tested\n",
      "\n",
      "Test with model bcc_csm2_mr\n",
      "path_for_file does not exist: the data may not have been downloaded\n",
      "file_download does not exist: the data were not downloaded\n"
     ]
    },
    {
     "name": "stderr",
     "output_type": "stream",
     "text": [
      "2023-05-05 14:16:53,632 INFO Request is failed\n",
      "2023-05-05 14:16:53,633 ERROR Message: an internal error occurred processing your request\n",
      "2023-05-05 14:16:53,633 ERROR Reason:  No matching data for request {'experiment': 'ssp119', 'model': 'BCC-CSM2-MR', 'temporal_resolution': 'mon', 'variable': 'rsds'}\n",
      "2023-05-05 14:16:53,634 ERROR   Traceback (most recent call last):\n",
      "2023-05-05 14:16:53,634 ERROR     File \"/opt/cdstoolbox/cdscompute/cdscompute/cdshandlers/services/handler.py\", line 59, in handle_request\n",
      "2023-05-05 14:16:53,635 ERROR       result = cached(context.method, proc, context, context.args, context.kwargs)\n",
      "2023-05-05 14:16:53,636 ERROR     File \"/opt/cdstoolbox/cdscompute/cdscompute/caching.py\", line 108, in cached\n",
      "2023-05-05 14:16:53,637 ERROR       result = proc(context, *context.args, **context.kwargs)\n",
      "2023-05-05 14:16:53,638 ERROR     File \"/opt/cdstoolbox/cdscompute/cdscompute/services.py\", line 124, in __call__\n",
      "2023-05-05 14:16:53,638 ERROR       return p(*args, **kwargs)\n",
      "2023-05-05 14:16:53,639 ERROR     File \"/opt/cdstoolbox/cdscompute/cdscompute/services.py\", line 60, in __call__\n",
      "2023-05-05 14:16:53,639 ERROR       return self.proc(context, *args, **kwargs)\n",
      "2023-05-05 14:16:53,640 ERROR     File \"/home/cds/cdsservices/services/esgf_wps/__init__.py\", line 30, in execute\n",
      "2023-05-05 14:16:53,640 ERROR       request_facets, request = facets.search(context, request)\n",
      "2023-05-05 14:16:53,641 ERROR     File \"/home/cds/cdsservices/services/esgf_wps/facets.py\", line 61, in search\n",
      "2023-05-05 14:16:53,642 ERROR       raise ValueError(f'No matching data for request {tmp_request}')\n",
      "2023-05-05 14:16:53,643 ERROR   ValueError: No matching data for request {'experiment': 'ssp119', 'model': 'BCC-CSM2-MR', 'temporal_resolution': 'mon', 'variable': 'rsds'}\n"
     ]
    },
    {
     "name": "stdout",
     "output_type": "stream",
     "text": [
      "Some parameters are not matching\n",
      "\n",
      "No value were found for the period and the project tested\n",
      "\n",
      "Test with model cams_csm1_0\n",
      "path_for_file does exist Function copernicus search for nc\n",
      "The file is in the path Function copernicus search for nc\n",
      "\n",
      "The final path for the nc file is: C:\\Users\\CLMRX\\OneDrive - COWI\\Documents\\GitHub\\CRVA_tool\\outputs\\Datasets\\surface_downwelling_shortwave_radiation\\CompleteMozambique\\ssp1_1_9\\cams_csm1_0\\2015-2099\\CMIP6-copernicus-GCM\\rsds_Amon_CAMS-CSM1-0_ssp119_r1i1p1f1_gn_20150116-20991216_v20190708.nc\n",
      "\n",
      " The final path for nc file exists ? True\n",
      "\n",
      "Registering the data in a dataframe\n"
     ]
    },
    {
     "name": "stderr",
     "output_type": "stream",
     "text": [
      "2023-05-05 14:16:59,031 INFO Welcome to the CDS\n",
      "2023-05-05 14:16:59,032 INFO Sending request to https://cds.climate.copernicus.eu/api/v2/resources/projections-cmip6\n",
      "2023-05-05 14:16:59,082 INFO Request is queued\n"
     ]
    },
    {
     "name": "stdout",
     "output_type": "stream",
     "text": [
      "\n",
      "Value were found for the period and the project tested\n",
      "\n",
      "Test with model canesm5_canoe\n",
      "path_for_file does not exist: the data may not have been downloaded\n",
      "file_download does not exist: the data were not downloaded\n"
     ]
    },
    {
     "name": "stderr",
     "output_type": "stream",
     "text": [
      "2023-05-05 14:17:00,131 INFO Request is failed\n",
      "2023-05-05 14:17:00,131 ERROR Message: an internal error occurred processing your request\n",
      "2023-05-05 14:17:00,132 ERROR Reason:  No matching data for request {'experiment': 'ssp119', 'model': 'CanESM5-CanOE', 'temporal_resolution': 'mon', 'variable': 'rsds'}\n",
      "2023-05-05 14:17:00,133 ERROR   Traceback (most recent call last):\n",
      "2023-05-05 14:17:00,133 ERROR     File \"/opt/cdstoolbox/cdscompute/cdscompute/cdshandlers/services/handler.py\", line 59, in handle_request\n",
      "2023-05-05 14:17:00,135 ERROR       result = cached(context.method, proc, context, context.args, context.kwargs)\n",
      "2023-05-05 14:17:00,136 ERROR     File \"/opt/cdstoolbox/cdscompute/cdscompute/caching.py\", line 108, in cached\n",
      "2023-05-05 14:17:00,136 ERROR       result = proc(context, *context.args, **context.kwargs)\n",
      "2023-05-05 14:17:00,137 ERROR     File \"/opt/cdstoolbox/cdscompute/cdscompute/services.py\", line 124, in __call__\n",
      "2023-05-05 14:17:00,137 ERROR       return p(*args, **kwargs)\n",
      "2023-05-05 14:17:00,137 ERROR     File \"/opt/cdstoolbox/cdscompute/cdscompute/services.py\", line 60, in __call__\n",
      "2023-05-05 14:17:00,139 ERROR       return self.proc(context, *args, **kwargs)\n",
      "2023-05-05 14:17:00,140 ERROR     File \"/home/cds/cdsservices/services/esgf_wps/__init__.py\", line 30, in execute\n",
      "2023-05-05 14:17:00,140 ERROR       request_facets, request = facets.search(context, request)\n",
      "2023-05-05 14:17:00,141 ERROR     File \"/home/cds/cdsservices/services/esgf_wps/facets.py\", line 61, in search\n",
      "2023-05-05 14:17:00,141 ERROR       raise ValueError(f'No matching data for request {tmp_request}')\n",
      "2023-05-05 14:17:00,141 ERROR   ValueError: No matching data for request {'experiment': 'ssp119', 'model': 'CanESM5-CanOE', 'temporal_resolution': 'mon', 'variable': 'rsds'}\n",
      "2023-05-05 14:17:00,183 INFO Welcome to the CDS\n",
      "2023-05-05 14:17:00,184 INFO Sending request to https://cds.climate.copernicus.eu/api/v2/resources/projections-cmip6\n",
      "2023-05-05 14:17:00,234 INFO Request is queued\n"
     ]
    },
    {
     "name": "stdout",
     "output_type": "stream",
     "text": [
      "Some parameters are not matching\n",
      "\n",
      "No value were found for the period and the project tested\n",
      "\n",
      "Test with model cesm2_fv2\n",
      "path_for_file does not exist: the data may not have been downloaded\n",
      "file_download does not exist: the data were not downloaded\n"
     ]
    },
    {
     "name": "stderr",
     "output_type": "stream",
     "text": [
      "2023-05-05 14:17:01,289 INFO Request is failed\n",
      "2023-05-05 14:17:01,290 ERROR Message: an internal error occurred processing your request\n",
      "2023-05-05 14:17:01,292 ERROR Reason:  No matching data for request {'experiment': 'ssp119', 'model': 'CESM2-FV2', 'temporal_resolution': 'mon', 'variable': 'rsds'}\n",
      "2023-05-05 14:17:01,292 ERROR   Traceback (most recent call last):\n",
      "2023-05-05 14:17:01,293 ERROR     File \"/opt/cdstoolbox/cdscompute/cdscompute/cdshandlers/services/handler.py\", line 59, in handle_request\n",
      "2023-05-05 14:17:01,294 ERROR       result = cached(context.method, proc, context, context.args, context.kwargs)\n",
      "2023-05-05 14:17:01,294 ERROR     File \"/opt/cdstoolbox/cdscompute/cdscompute/caching.py\", line 108, in cached\n",
      "2023-05-05 14:17:01,294 ERROR       result = proc(context, *context.args, **context.kwargs)\n",
      "2023-05-05 14:17:01,295 ERROR     File \"/opt/cdstoolbox/cdscompute/cdscompute/services.py\", line 124, in __call__\n",
      "2023-05-05 14:17:01,296 ERROR       return p(*args, **kwargs)\n",
      "2023-05-05 14:17:01,296 ERROR     File \"/opt/cdstoolbox/cdscompute/cdscompute/services.py\", line 60, in __call__\n",
      "2023-05-05 14:17:01,297 ERROR       return self.proc(context, *args, **kwargs)\n",
      "2023-05-05 14:17:01,297 ERROR     File \"/home/cds/cdsservices/services/esgf_wps/__init__.py\", line 30, in execute\n",
      "2023-05-05 14:17:01,298 ERROR       request_facets, request = facets.search(context, request)\n",
      "2023-05-05 14:17:01,298 ERROR     File \"/home/cds/cdsservices/services/esgf_wps/facets.py\", line 61, in search\n",
      "2023-05-05 14:17:01,299 ERROR       raise ValueError(f'No matching data for request {tmp_request}')\n",
      "2023-05-05 14:17:01,299 ERROR   ValueError: No matching data for request {'experiment': 'ssp119', 'model': 'CESM2-FV2', 'temporal_resolution': 'mon', 'variable': 'rsds'}\n",
      "2023-05-05 14:17:01,343 INFO Welcome to the CDS\n",
      "2023-05-05 14:17:01,344 INFO Sending request to https://cds.climate.copernicus.eu/api/v2/resources/projections-cmip6\n",
      "2023-05-05 14:17:01,420 INFO Request is queued\n"
     ]
    },
    {
     "name": "stdout",
     "output_type": "stream",
     "text": [
      "Some parameters are not matching\n",
      "\n",
      "No value were found for the period and the project tested\n",
      "\n",
      "Test with model cesm2_waccm_fv2\n",
      "path_for_file does not exist: the data may not have been downloaded\n",
      "file_download does not exist: the data were not downloaded\n"
     ]
    },
    {
     "name": "stderr",
     "output_type": "stream",
     "text": [
      "2023-05-05 14:17:02,487 INFO Request is failed\n",
      "2023-05-05 14:17:02,489 ERROR Message: an internal error occurred processing your request\n",
      "2023-05-05 14:17:02,490 ERROR Reason:  No matching data for request {'experiment': 'ssp119', 'model': 'CESM2-WACCM-FV2', 'temporal_resolution': 'mon', 'variable': 'rsds'}\n",
      "2023-05-05 14:17:02,491 ERROR   Traceback (most recent call last):\n",
      "2023-05-05 14:17:02,491 ERROR     File \"/opt/cdstoolbox/cdscompute/cdscompute/cdshandlers/services/handler.py\", line 59, in handle_request\n",
      "2023-05-05 14:17:02,491 ERROR       result = cached(context.method, proc, context, context.args, context.kwargs)\n",
      "2023-05-05 14:17:02,492 ERROR     File \"/opt/cdstoolbox/cdscompute/cdscompute/caching.py\", line 108, in cached\n",
      "2023-05-05 14:17:02,493 ERROR       result = proc(context, *context.args, **context.kwargs)\n",
      "2023-05-05 14:17:02,493 ERROR     File \"/opt/cdstoolbox/cdscompute/cdscompute/services.py\", line 124, in __call__\n",
      "2023-05-05 14:17:02,494 ERROR       return p(*args, **kwargs)\n",
      "2023-05-05 14:17:02,495 ERROR     File \"/opt/cdstoolbox/cdscompute/cdscompute/services.py\", line 60, in __call__\n",
      "2023-05-05 14:17:02,495 ERROR       return self.proc(context, *args, **kwargs)\n",
      "2023-05-05 14:17:02,495 ERROR     File \"/home/cds/cdsservices/services/esgf_wps/__init__.py\", line 30, in execute\n",
      "2023-05-05 14:17:02,496 ERROR       request_facets, request = facets.search(context, request)\n",
      "2023-05-05 14:17:02,497 ERROR     File \"/home/cds/cdsservices/services/esgf_wps/facets.py\", line 61, in search\n",
      "2023-05-05 14:17:02,497 ERROR       raise ValueError(f'No matching data for request {tmp_request}')\n",
      "2023-05-05 14:17:02,498 ERROR   ValueError: No matching data for request {'experiment': 'ssp119', 'model': 'CESM2-WACCM-FV2', 'temporal_resolution': 'mon', 'variable': 'rsds'}\n",
      "2023-05-05 14:17:02,541 INFO Welcome to the CDS\n",
      "2023-05-05 14:17:02,542 INFO Sending request to https://cds.climate.copernicus.eu/api/v2/resources/projections-cmip6\n",
      "2023-05-05 14:17:02,617 INFO Request is queued\n"
     ]
    },
    {
     "name": "stdout",
     "output_type": "stream",
     "text": [
      "Some parameters are not matching\n",
      "\n",
      "No value were found for the period and the project tested\n",
      "\n",
      "Test with model cmcc_cm2_hr4\n",
      "path_for_file does not exist: the data may not have been downloaded\n",
      "file_download does not exist: the data were not downloaded\n"
     ]
    },
    {
     "name": "stderr",
     "output_type": "stream",
     "text": [
      "2023-05-05 14:17:03,662 INFO Request is failed\n",
      "2023-05-05 14:17:03,663 ERROR Message: an internal error occurred processing your request\n",
      "2023-05-05 14:17:03,664 ERROR Reason:  No matching data for request {'experiment': 'ssp119', 'model': 'CMCC-CM2-HR4', 'temporal_resolution': 'mon', 'variable': 'rsds'}\n",
      "2023-05-05 14:17:03,664 ERROR   Traceback (most recent call last):\n",
      "2023-05-05 14:17:03,665 ERROR     File \"/opt/cdstoolbox/cdscompute/cdscompute/cdshandlers/services/handler.py\", line 59, in handle_request\n",
      "2023-05-05 14:17:03,665 ERROR       result = cached(context.method, proc, context, context.args, context.kwargs)\n",
      "2023-05-05 14:17:03,666 ERROR     File \"/opt/cdstoolbox/cdscompute/cdscompute/caching.py\", line 108, in cached\n",
      "2023-05-05 14:17:03,666 ERROR       result = proc(context, *context.args, **context.kwargs)\n",
      "2023-05-05 14:17:03,667 ERROR     File \"/opt/cdstoolbox/cdscompute/cdscompute/services.py\", line 124, in __call__\n",
      "2023-05-05 14:17:03,668 ERROR       return p(*args, **kwargs)\n",
      "2023-05-05 14:17:03,669 ERROR     File \"/opt/cdstoolbox/cdscompute/cdscompute/services.py\", line 60, in __call__\n",
      "2023-05-05 14:17:03,669 ERROR       return self.proc(context, *args, **kwargs)\n",
      "2023-05-05 14:17:03,669 ERROR     File \"/home/cds/cdsservices/services/esgf_wps/__init__.py\", line 30, in execute\n",
      "2023-05-05 14:17:03,671 ERROR       request_facets, request = facets.search(context, request)\n",
      "2023-05-05 14:17:03,672 ERROR     File \"/home/cds/cdsservices/services/esgf_wps/facets.py\", line 61, in search\n",
      "2023-05-05 14:17:03,672 ERROR       raise ValueError(f'No matching data for request {tmp_request}')\n",
      "2023-05-05 14:17:03,673 ERROR   ValueError: No matching data for request {'experiment': 'ssp119', 'model': 'CMCC-CM2-HR4', 'temporal_resolution': 'mon', 'variable': 'rsds'}\n",
      "2023-05-05 14:17:03,713 INFO Welcome to the CDS\n",
      "2023-05-05 14:17:03,714 INFO Sending request to https://cds.climate.copernicus.eu/api/v2/resources/projections-cmip6\n",
      "2023-05-05 14:17:03,855 INFO Request is queued\n"
     ]
    },
    {
     "name": "stdout",
     "output_type": "stream",
     "text": [
      "Some parameters are not matching\n",
      "\n",
      "No value were found for the period and the project tested\n",
      "\n",
      "Test with model cmcc_esm2\n",
      "path_for_file does not exist: the data may not have been downloaded\n",
      "file_download does not exist: the data were not downloaded\n"
     ]
    },
    {
     "name": "stderr",
     "output_type": "stream",
     "text": [
      "2023-05-05 14:17:04,907 INFO Request is failed\n",
      "2023-05-05 14:17:04,908 ERROR Message: an internal error occurred processing your request\n",
      "2023-05-05 14:17:04,909 ERROR Reason:  No matching data for request {'experiment': 'ssp119', 'model': 'CMCC-ESM2', 'temporal_resolution': 'mon', 'variable': 'rsds'}\n",
      "2023-05-05 14:17:04,910 ERROR   Traceback (most recent call last):\n",
      "2023-05-05 14:17:04,910 ERROR     File \"/opt/cdstoolbox/cdscompute/cdscompute/cdshandlers/services/handler.py\", line 59, in handle_request\n",
      "2023-05-05 14:17:04,911 ERROR       result = cached(context.method, proc, context, context.args, context.kwargs)\n",
      "2023-05-05 14:17:04,911 ERROR     File \"/opt/cdstoolbox/cdscompute/cdscompute/caching.py\", line 108, in cached\n",
      "2023-05-05 14:17:04,911 ERROR       result = proc(context, *context.args, **context.kwargs)\n",
      "2023-05-05 14:17:04,912 ERROR     File \"/opt/cdstoolbox/cdscompute/cdscompute/services.py\", line 124, in __call__\n",
      "2023-05-05 14:17:04,913 ERROR       return p(*args, **kwargs)\n",
      "2023-05-05 14:17:04,914 ERROR     File \"/opt/cdstoolbox/cdscompute/cdscompute/services.py\", line 60, in __call__\n",
      "2023-05-05 14:17:04,914 ERROR       return self.proc(context, *args, **kwargs)\n",
      "2023-05-05 14:17:04,914 ERROR     File \"/home/cds/cdsservices/services/esgf_wps/__init__.py\", line 30, in execute\n",
      "2023-05-05 14:17:04,915 ERROR       request_facets, request = facets.search(context, request)\n",
      "2023-05-05 14:17:04,915 ERROR     File \"/home/cds/cdsservices/services/esgf_wps/facets.py\", line 61, in search\n",
      "2023-05-05 14:17:04,916 ERROR       raise ValueError(f'No matching data for request {tmp_request}')\n",
      "2023-05-05 14:17:04,916 ERROR   ValueError: No matching data for request {'experiment': 'ssp119', 'model': 'CMCC-ESM2', 'temporal_resolution': 'mon', 'variable': 'rsds'}\n",
      "2023-05-05 14:17:04,957 INFO Welcome to the CDS\n",
      "2023-05-05 14:17:04,957 INFO Sending request to https://cds.climate.copernicus.eu/api/v2/resources/projections-cmip6\n",
      "2023-05-05 14:17:05,005 INFO Request is queued\n"
     ]
    },
    {
     "name": "stdout",
     "output_type": "stream",
     "text": [
      "Some parameters are not matching\n",
      "\n",
      "No value were found for the period and the project tested\n",
      "\n",
      "Test with model cnrm_cm6_1_hr\n",
      "path_for_file does not exist: the data may not have been downloaded\n",
      "file_download does not exist: the data were not downloaded\n"
     ]
    },
    {
     "name": "stderr",
     "output_type": "stream",
     "text": [
      "2023-05-05 14:17:06,062 INFO Request is failed\n",
      "2023-05-05 14:17:06,064 ERROR Message: an internal error occurred processing your request\n",
      "2023-05-05 14:17:06,065 ERROR Reason:  No matching data for request {'experiment': 'ssp119', 'model': 'CNRM-CM6-1-HR', 'temporal_resolution': 'mon', 'variable': 'rsds'}\n",
      "2023-05-05 14:17:06,065 ERROR   Traceback (most recent call last):\n",
      "2023-05-05 14:17:06,066 ERROR     File \"/opt/cdstoolbox/cdscompute/cdscompute/cdshandlers/services/handler.py\", line 59, in handle_request\n",
      "2023-05-05 14:17:06,067 ERROR       result = cached(context.method, proc, context, context.args, context.kwargs)\n",
      "2023-05-05 14:17:06,067 ERROR     File \"/opt/cdstoolbox/cdscompute/cdscompute/caching.py\", line 108, in cached\n",
      "2023-05-05 14:17:06,068 ERROR       result = proc(context, *context.args, **context.kwargs)\n",
      "2023-05-05 14:17:06,068 ERROR     File \"/opt/cdstoolbox/cdscompute/cdscompute/services.py\", line 124, in __call__\n",
      "2023-05-05 14:17:06,069 ERROR       return p(*args, **kwargs)\n",
      "2023-05-05 14:17:06,069 ERROR     File \"/opt/cdstoolbox/cdscompute/cdscompute/services.py\", line 60, in __call__\n",
      "2023-05-05 14:17:06,070 ERROR       return self.proc(context, *args, **kwargs)\n",
      "2023-05-05 14:17:06,070 ERROR     File \"/home/cds/cdsservices/services/esgf_wps/__init__.py\", line 30, in execute\n",
      "2023-05-05 14:17:06,071 ERROR       request_facets, request = facets.search(context, request)\n",
      "2023-05-05 14:17:06,072 ERROR     File \"/home/cds/cdsservices/services/esgf_wps/facets.py\", line 61, in search\n",
      "2023-05-05 14:17:06,072 ERROR       raise ValueError(f'No matching data for request {tmp_request}')\n",
      "2023-05-05 14:17:06,074 ERROR   ValueError: No matching data for request {'experiment': 'ssp119', 'model': 'CNRM-CM6-1-HR', 'temporal_resolution': 'mon', 'variable': 'rsds'}\n",
      "2023-05-05 14:17:06,117 INFO Welcome to the CDS\n",
      "2023-05-05 14:17:06,118 INFO Sending request to https://cds.climate.copernicus.eu/api/v2/resources/projections-cmip6\n",
      "2023-05-05 14:17:06,167 INFO Request is queued\n"
     ]
    },
    {
     "name": "stdout",
     "output_type": "stream",
     "text": [
      "Some parameters are not matching\n",
      "\n",
      "No value were found for the period and the project tested\n",
      "\n",
      "Test with model e3sm_1_0\n",
      "path_for_file does not exist: the data may not have been downloaded\n",
      "file_download does not exist: the data were not downloaded\n"
     ]
    },
    {
     "name": "stderr",
     "output_type": "stream",
     "text": [
      "2023-05-05 14:17:07,215 INFO Request is failed\n",
      "2023-05-05 14:17:07,216 ERROR Message: an internal error occurred processing your request\n",
      "2023-05-05 14:17:07,217 ERROR Reason:  No matching data for request {'experiment': 'ssp119', 'model': 'E3SM-1-0', 'temporal_resolution': 'mon', 'variable': 'rsds'}\n",
      "2023-05-05 14:17:07,218 ERROR   Traceback (most recent call last):\n",
      "2023-05-05 14:17:07,220 ERROR     File \"/opt/cdstoolbox/cdscompute/cdscompute/cdshandlers/services/handler.py\", line 59, in handle_request\n",
      "2023-05-05 14:17:07,220 ERROR       result = cached(context.method, proc, context, context.args, context.kwargs)\n",
      "2023-05-05 14:17:07,220 ERROR     File \"/opt/cdstoolbox/cdscompute/cdscompute/caching.py\", line 108, in cached\n",
      "2023-05-05 14:17:07,221 ERROR       result = proc(context, *context.args, **context.kwargs)\n",
      "2023-05-05 14:17:07,221 ERROR     File \"/opt/cdstoolbox/cdscompute/cdscompute/services.py\", line 124, in __call__\n",
      "2023-05-05 14:17:07,222 ERROR       return p(*args, **kwargs)\n",
      "2023-05-05 14:17:07,222 ERROR     File \"/opt/cdstoolbox/cdscompute/cdscompute/services.py\", line 60, in __call__\n",
      "2023-05-05 14:17:07,222 ERROR       return self.proc(context, *args, **kwargs)\n",
      "2023-05-05 14:17:07,223 ERROR     File \"/home/cds/cdsservices/services/esgf_wps/__init__.py\", line 30, in execute\n",
      "2023-05-05 14:17:07,223 ERROR       request_facets, request = facets.search(context, request)\n",
      "2023-05-05 14:17:07,223 ERROR     File \"/home/cds/cdsservices/services/esgf_wps/facets.py\", line 61, in search\n",
      "2023-05-05 14:17:07,224 ERROR       raise ValueError(f'No matching data for request {tmp_request}')\n",
      "2023-05-05 14:17:07,224 ERROR   ValueError: No matching data for request {'experiment': 'ssp119', 'model': 'E3SM-1-0', 'temporal_resolution': 'mon', 'variable': 'rsds'}\n",
      "2023-05-05 14:17:07,265 INFO Welcome to the CDS\n",
      "2023-05-05 14:17:07,266 INFO Sending request to https://cds.climate.copernicus.eu/api/v2/resources/projections-cmip6\n",
      "2023-05-05 14:17:07,313 INFO Request is queued\n"
     ]
    },
    {
     "name": "stdout",
     "output_type": "stream",
     "text": [
      "Some parameters are not matching\n",
      "\n",
      "No value were found for the period and the project tested\n",
      "\n",
      "Test with model e3sm_1_1_eca\n",
      "path_for_file does not exist: the data may not have been downloaded\n",
      "file_download does not exist: the data were not downloaded\n"
     ]
    },
    {
     "name": "stderr",
     "output_type": "stream",
     "text": [
      "2023-05-05 14:17:08,358 INFO Request is failed\n",
      "2023-05-05 14:17:08,360 ERROR Message: an internal error occurred processing your request\n",
      "2023-05-05 14:17:08,361 ERROR Reason:  No matching data for request {'experiment': 'ssp119', 'model': 'E3SM-1-1-ECA', 'temporal_resolution': 'mon', 'variable': 'rsds'}\n",
      "2023-05-05 14:17:08,361 ERROR   Traceback (most recent call last):\n",
      "2023-05-05 14:17:08,362 ERROR     File \"/opt/cdstoolbox/cdscompute/cdscompute/cdshandlers/services/handler.py\", line 59, in handle_request\n",
      "2023-05-05 14:17:08,363 ERROR       result = cached(context.method, proc, context, context.args, context.kwargs)\n",
      "2023-05-05 14:17:08,363 ERROR     File \"/opt/cdstoolbox/cdscompute/cdscompute/caching.py\", line 108, in cached\n",
      "2023-05-05 14:17:08,364 ERROR       result = proc(context, *context.args, **context.kwargs)\n",
      "2023-05-05 14:17:08,364 ERROR     File \"/opt/cdstoolbox/cdscompute/cdscompute/services.py\", line 124, in __call__\n",
      "2023-05-05 14:17:08,365 ERROR       return p(*args, **kwargs)\n",
      "2023-05-05 14:17:08,365 ERROR     File \"/opt/cdstoolbox/cdscompute/cdscompute/services.py\", line 60, in __call__\n",
      "2023-05-05 14:17:08,366 ERROR       return self.proc(context, *args, **kwargs)\n",
      "2023-05-05 14:17:08,366 ERROR     File \"/home/cds/cdsservices/services/esgf_wps/__init__.py\", line 30, in execute\n",
      "2023-05-05 14:17:08,367 ERROR       request_facets, request = facets.search(context, request)\n",
      "2023-05-05 14:17:08,368 ERROR     File \"/home/cds/cdsservices/services/esgf_wps/facets.py\", line 61, in search\n",
      "2023-05-05 14:17:08,368 ERROR       raise ValueError(f'No matching data for request {tmp_request}')\n",
      "2023-05-05 14:17:08,369 ERROR   ValueError: No matching data for request {'experiment': 'ssp119', 'model': 'E3SM-1-1-ECA', 'temporal_resolution': 'mon', 'variable': 'rsds'}\n",
      "2023-05-05 14:17:08,413 INFO Welcome to the CDS\n",
      "2023-05-05 14:17:08,414 INFO Sending request to https://cds.climate.copernicus.eu/api/v2/resources/projections-cmip6\n",
      "2023-05-05 14:17:08,462 INFO Request is queued\n"
     ]
    },
    {
     "name": "stdout",
     "output_type": "stream",
     "text": [
      "Some parameters are not matching\n",
      "\n",
      "No value were found for the period and the project tested\n",
      "\n",
      "Test with model ec_earth3_aerchem\n",
      "path_for_file does not exist: the data may not have been downloaded\n",
      "file_download does not exist: the data were not downloaded\n"
     ]
    },
    {
     "name": "stderr",
     "output_type": "stream",
     "text": [
      "2023-05-05 14:17:09,514 INFO Request is failed\n",
      "2023-05-05 14:17:09,515 ERROR Message: an internal error occurred processing your request\n",
      "2023-05-05 14:17:09,517 ERROR Reason:  No matching data for request {'experiment': 'ssp119', 'model': 'EC-Earth3-AerChem', 'temporal_resolution': 'mon', 'variable': 'rsds'}\n",
      "2023-05-05 14:17:09,518 ERROR   Traceback (most recent call last):\n",
      "2023-05-05 14:17:09,518 ERROR     File \"/opt/cdstoolbox/cdscompute/cdscompute/cdshandlers/services/handler.py\", line 59, in handle_request\n",
      "2023-05-05 14:17:09,519 ERROR       result = cached(context.method, proc, context, context.args, context.kwargs)\n",
      "2023-05-05 14:17:09,519 ERROR     File \"/opt/cdstoolbox/cdscompute/cdscompute/caching.py\", line 108, in cached\n",
      "2023-05-05 14:17:09,520 ERROR       result = proc(context, *context.args, **context.kwargs)\n",
      "2023-05-05 14:17:09,521 ERROR     File \"/opt/cdstoolbox/cdscompute/cdscompute/services.py\", line 124, in __call__\n",
      "2023-05-05 14:17:09,521 ERROR       return p(*args, **kwargs)\n",
      "2023-05-05 14:17:09,522 ERROR     File \"/opt/cdstoolbox/cdscompute/cdscompute/services.py\", line 60, in __call__\n",
      "2023-05-05 14:17:09,522 ERROR       return self.proc(context, *args, **kwargs)\n",
      "2023-05-05 14:17:09,522 ERROR     File \"/home/cds/cdsservices/services/esgf_wps/__init__.py\", line 30, in execute\n",
      "2023-05-05 14:17:09,523 ERROR       request_facets, request = facets.search(context, request)\n",
      "2023-05-05 14:17:09,524 ERROR     File \"/home/cds/cdsservices/services/esgf_wps/facets.py\", line 61, in search\n",
      "2023-05-05 14:17:09,524 ERROR       raise ValueError(f'No matching data for request {tmp_request}')\n",
      "2023-05-05 14:17:09,525 ERROR   ValueError: No matching data for request {'experiment': 'ssp119', 'model': 'EC-Earth3-AerChem', 'temporal_resolution': 'mon', 'variable': 'rsds'}\n"
     ]
    },
    {
     "name": "stdout",
     "output_type": "stream",
     "text": [
      "Some parameters are not matching\n",
      "\n",
      "No value were found for the period and the project tested\n",
      "\n",
      "Test with model ec_earth3_veg\n",
      "path_for_file does exist Function copernicus search for nc\n",
      "The file is in the path Function copernicus search for nc\n",
      "\n",
      "The final path for the nc file is: C:\\Users\\CLMRX\\OneDrive - COWI\\Documents\\GitHub\\CRVA_tool\\outputs\\Datasets\\surface_downwelling_shortwave_radiation\\CompleteMozambique\\ssp1_1_9\\ec_earth3_veg\\2015-2099\\CMIP6-copernicus-GCM\\rsds_Amon_EC-Earth3-Veg_ssp119_r1i1p1f1_gr_20150116-20991216_v20200226.nc\n",
      "\n",
      " The final path for nc file exists ? True\n",
      "\n",
      "Registering the data in a dataframe\n"
     ]
    },
    {
     "name": "stderr",
     "output_type": "stream",
     "text": [
      "2023-05-05 14:17:28,459 INFO Welcome to the CDS\n",
      "2023-05-05 14:17:28,461 INFO Sending request to https://cds.climate.copernicus.eu/api/v2/resources/projections-cmip6\n",
      "2023-05-05 14:17:28,514 INFO Request is queued\n"
     ]
    },
    {
     "name": "stdout",
     "output_type": "stream",
     "text": [
      "\n",
      "Value were found for the period and the project tested\n",
      "\n",
      "Test with model fgoals_f3_l\n",
      "path_for_file does not exist: the data may not have been downloaded\n",
      "file_download does not exist: the data were not downloaded\n"
     ]
    },
    {
     "name": "stderr",
     "output_type": "stream",
     "text": [
      "2023-05-05 14:17:29,565 INFO Request is failed\n",
      "2023-05-05 14:17:29,566 ERROR Message: an internal error occurred processing your request\n",
      "2023-05-05 14:17:29,567 ERROR Reason:  No matching data for request {'experiment': 'ssp119', 'model': 'FGOALS-f3-L', 'temporal_resolution': 'mon', 'variable': 'rsds'}\n",
      "2023-05-05 14:17:29,567 ERROR   Traceback (most recent call last):\n",
      "2023-05-05 14:17:29,568 ERROR     File \"/opt/cdstoolbox/cdscompute/cdscompute/cdshandlers/services/handler.py\", line 59, in handle_request\n",
      "2023-05-05 14:17:29,568 ERROR       result = cached(context.method, proc, context, context.args, context.kwargs)\n",
      "2023-05-05 14:17:29,569 ERROR     File \"/opt/cdstoolbox/cdscompute/cdscompute/caching.py\", line 108, in cached\n",
      "2023-05-05 14:17:29,569 ERROR       result = proc(context, *context.args, **context.kwargs)\n",
      "2023-05-05 14:17:29,570 ERROR     File \"/opt/cdstoolbox/cdscompute/cdscompute/services.py\", line 124, in __call__\n",
      "2023-05-05 14:17:29,571 ERROR       return p(*args, **kwargs)\n",
      "2023-05-05 14:17:29,572 ERROR     File \"/opt/cdstoolbox/cdscompute/cdscompute/services.py\", line 60, in __call__\n",
      "2023-05-05 14:17:29,572 ERROR       return self.proc(context, *args, **kwargs)\n",
      "2023-05-05 14:17:29,573 ERROR     File \"/home/cds/cdsservices/services/esgf_wps/__init__.py\", line 30, in execute\n",
      "2023-05-05 14:17:29,573 ERROR       request_facets, request = facets.search(context, request)\n",
      "2023-05-05 14:17:29,574 ERROR     File \"/home/cds/cdsservices/services/esgf_wps/facets.py\", line 61, in search\n",
      "2023-05-05 14:17:29,574 ERROR       raise ValueError(f'No matching data for request {tmp_request}')\n",
      "2023-05-05 14:17:29,575 ERROR   ValueError: No matching data for request {'experiment': 'ssp119', 'model': 'FGOALS-f3-L', 'temporal_resolution': 'mon', 'variable': 'rsds'}\n",
      "2023-05-05 14:17:29,617 INFO Welcome to the CDS\n",
      "2023-05-05 14:17:29,618 INFO Sending request to https://cds.climate.copernicus.eu/api/v2/resources/projections-cmip6\n",
      "2023-05-05 14:17:29,685 INFO Request is queued\n"
     ]
    },
    {
     "name": "stdout",
     "output_type": "stream",
     "text": [
      "Some parameters are not matching\n",
      "\n",
      "No value were found for the period and the project tested\n",
      "\n",
      "Test with model fio_esm_2_0\n",
      "path_for_file does not exist: the data may not have been downloaded\n",
      "file_download does not exist: the data were not downloaded\n"
     ]
    },
    {
     "name": "stderr",
     "output_type": "stream",
     "text": [
      "2023-05-05 14:17:30,736 INFO Request is failed\n",
      "2023-05-05 14:17:30,737 ERROR Message: an internal error occurred processing your request\n",
      "2023-05-05 14:17:30,738 ERROR Reason:  No matching data for request {'experiment': 'ssp119', 'model': 'FIO-ESM-2-0', 'temporal_resolution': 'mon', 'variable': 'rsds'}\n",
      "2023-05-05 14:17:30,739 ERROR   Traceback (most recent call last):\n",
      "2023-05-05 14:17:30,739 ERROR     File \"/opt/cdstoolbox/cdscompute/cdscompute/cdshandlers/services/handler.py\", line 59, in handle_request\n",
      "2023-05-05 14:17:30,740 ERROR       result = cached(context.method, proc, context, context.args, context.kwargs)\n",
      "2023-05-05 14:17:30,741 ERROR     File \"/opt/cdstoolbox/cdscompute/cdscompute/caching.py\", line 108, in cached\n",
      "2023-05-05 14:17:30,742 ERROR       result = proc(context, *context.args, **context.kwargs)\n",
      "2023-05-05 14:17:30,742 ERROR     File \"/opt/cdstoolbox/cdscompute/cdscompute/services.py\", line 124, in __call__\n",
      "2023-05-05 14:17:30,742 ERROR       return p(*args, **kwargs)\n",
      "2023-05-05 14:17:30,743 ERROR     File \"/opt/cdstoolbox/cdscompute/cdscompute/services.py\", line 60, in __call__\n",
      "2023-05-05 14:17:30,744 ERROR       return self.proc(context, *args, **kwargs)\n",
      "2023-05-05 14:17:30,744 ERROR     File \"/home/cds/cdsservices/services/esgf_wps/__init__.py\", line 30, in execute\n",
      "2023-05-05 14:17:30,745 ERROR       request_facets, request = facets.search(context, request)\n",
      "2023-05-05 14:17:30,745 ERROR     File \"/home/cds/cdsservices/services/esgf_wps/facets.py\", line 61, in search\n",
      "2023-05-05 14:17:30,746 ERROR       raise ValueError(f'No matching data for request {tmp_request}')\n",
      "2023-05-05 14:17:30,746 ERROR   ValueError: No matching data for request {'experiment': 'ssp119', 'model': 'FIO-ESM-2-0', 'temporal_resolution': 'mon', 'variable': 'rsds'}\n"
     ]
    },
    {
     "name": "stdout",
     "output_type": "stream",
     "text": [
      "Some parameters are not matching\n",
      "\n",
      "No value were found for the period and the project tested\n",
      "\n",
      "Test with model giss_e2_1_g\n",
      "path_for_file does exist Function copernicus search for nc\n",
      "The file is in the path Function copernicus search for nc\n",
      "\n",
      "The final path for the nc file is: C:\\Users\\CLMRX\\OneDrive - COWI\\Documents\\GitHub\\CRVA_tool\\outputs\\Datasets\\surface_downwelling_shortwave_radiation\\CompleteMozambique\\ssp1_1_9\\giss_e2_1_g\\2015-2099\\CMIP6-copernicus-GCM\\rsds_Amon_GISS-E2-1-G_ssp119_r1i1p1f2_gn_20150116-20991216_v20200115.nc\n",
      "\n",
      " The final path for nc file exists ? True\n",
      "\n",
      "Registering the data in a dataframe\n"
     ]
    },
    {
     "name": "stderr",
     "output_type": "stream",
     "text": [
      "2023-05-05 14:18:00,847 INFO Welcome to the CDS\n",
      "2023-05-05 14:18:00,849 INFO Sending request to https://cds.climate.copernicus.eu/api/v2/resources/projections-cmip6\n",
      "2023-05-05 14:18:00,904 INFO Request is queued\n"
     ]
    },
    {
     "name": "stdout",
     "output_type": "stream",
     "text": [
      "\n",
      "Value were found for the period and the project tested\n",
      "\n",
      "Test with model hadgem3_gc31_ll\n",
      "path_for_file does not exist: the data may not have been downloaded\n",
      "file_download does not exist: the data were not downloaded\n"
     ]
    },
    {
     "name": "stderr",
     "output_type": "stream",
     "text": [
      "2023-05-05 14:18:01,961 INFO Request is failed\n",
      "2023-05-05 14:18:01,962 ERROR Message: an internal error occurred processing your request\n",
      "2023-05-05 14:18:01,963 ERROR Reason:  No matching data for request {'experiment': 'ssp119', 'model': 'HadGEM3-GC31-LL', 'temporal_resolution': 'mon', 'variable': 'rsds'}\n",
      "2023-05-05 14:18:01,964 ERROR   Traceback (most recent call last):\n",
      "2023-05-05 14:18:01,964 ERROR     File \"/opt/cdstoolbox/cdscompute/cdscompute/cdshandlers/services/handler.py\", line 59, in handle_request\n",
      "2023-05-05 14:18:01,965 ERROR       result = cached(context.method, proc, context, context.args, context.kwargs)\n",
      "2023-05-05 14:18:01,965 ERROR     File \"/opt/cdstoolbox/cdscompute/cdscompute/caching.py\", line 108, in cached\n",
      "2023-05-05 14:18:01,966 ERROR       result = proc(context, *context.args, **context.kwargs)\n",
      "2023-05-05 14:18:01,966 ERROR     File \"/opt/cdstoolbox/cdscompute/cdscompute/services.py\", line 124, in __call__\n",
      "2023-05-05 14:18:01,967 ERROR       return p(*args, **kwargs)\n",
      "2023-05-05 14:18:01,968 ERROR     File \"/opt/cdstoolbox/cdscompute/cdscompute/services.py\", line 60, in __call__\n",
      "2023-05-05 14:18:01,968 ERROR       return self.proc(context, *args, **kwargs)\n",
      "2023-05-05 14:18:01,969 ERROR     File \"/home/cds/cdsservices/services/esgf_wps/__init__.py\", line 30, in execute\n",
      "2023-05-05 14:18:01,970 ERROR       request_facets, request = facets.search(context, request)\n",
      "2023-05-05 14:18:01,970 ERROR     File \"/home/cds/cdsservices/services/esgf_wps/facets.py\", line 61, in search\n",
      "2023-05-05 14:18:01,971 ERROR       raise ValueError(f'No matching data for request {tmp_request}')\n",
      "2023-05-05 14:18:01,971 ERROR   ValueError: No matching data for request {'experiment': 'ssp119', 'model': 'HadGEM3-GC31-LL', 'temporal_resolution': 'mon', 'variable': 'rsds'}\n",
      "2023-05-05 14:18:02,013 INFO Welcome to the CDS\n",
      "2023-05-05 14:18:02,014 INFO Sending request to https://cds.climate.copernicus.eu/api/v2/resources/projections-cmip6\n",
      "2023-05-05 14:18:02,065 INFO Request is queued\n"
     ]
    },
    {
     "name": "stdout",
     "output_type": "stream",
     "text": [
      "Some parameters are not matching\n",
      "\n",
      "No value were found for the period and the project tested\n",
      "\n",
      "Test with model iitm_esm\n",
      "path_for_file does not exist: the data may not have been downloaded\n",
      "file_download does not exist: the data were not downloaded\n"
     ]
    },
    {
     "name": "stderr",
     "output_type": "stream",
     "text": [
      "2023-05-05 14:18:03,112 INFO Request is failed\n",
      "2023-05-05 14:18:03,113 ERROR Message: an internal error occurred processing your request\n",
      "2023-05-05 14:18:03,114 ERROR Reason:  No matching data for request {'experiment': 'ssp119', 'model': 'IITM-ESM', 'temporal_resolution': 'mon', 'variable': 'rsds'}\n",
      "2023-05-05 14:18:03,116 ERROR   Traceback (most recent call last):\n",
      "2023-05-05 14:18:03,117 ERROR     File \"/opt/cdstoolbox/cdscompute/cdscompute/cdshandlers/services/handler.py\", line 59, in handle_request\n",
      "2023-05-05 14:18:03,117 ERROR       result = cached(context.method, proc, context, context.args, context.kwargs)\n",
      "2023-05-05 14:18:03,118 ERROR     File \"/opt/cdstoolbox/cdscompute/cdscompute/caching.py\", line 108, in cached\n",
      "2023-05-05 14:18:03,119 ERROR       result = proc(context, *context.args, **context.kwargs)\n",
      "2023-05-05 14:18:03,120 ERROR     File \"/opt/cdstoolbox/cdscompute/cdscompute/services.py\", line 124, in __call__\n",
      "2023-05-05 14:18:03,121 ERROR       return p(*args, **kwargs)\n",
      "2023-05-05 14:18:03,122 ERROR     File \"/opt/cdstoolbox/cdscompute/cdscompute/services.py\", line 60, in __call__\n",
      "2023-05-05 14:18:03,122 ERROR       return self.proc(context, *args, **kwargs)\n",
      "2023-05-05 14:18:03,123 ERROR     File \"/home/cds/cdsservices/services/esgf_wps/__init__.py\", line 30, in execute\n",
      "2023-05-05 14:18:03,123 ERROR       request_facets, request = facets.search(context, request)\n",
      "2023-05-05 14:18:03,124 ERROR     File \"/home/cds/cdsservices/services/esgf_wps/facets.py\", line 61, in search\n",
      "2023-05-05 14:18:03,124 ERROR       raise ValueError(f'No matching data for request {tmp_request}')\n",
      "2023-05-05 14:18:03,125 ERROR   ValueError: No matching data for request {'experiment': 'ssp119', 'model': 'IITM-ESM', 'temporal_resolution': 'mon', 'variable': 'rsds'}\n",
      "2023-05-05 14:18:03,164 INFO Welcome to the CDS\n",
      "2023-05-05 14:18:03,165 INFO Sending request to https://cds.climate.copernicus.eu/api/v2/resources/projections-cmip6\n",
      "2023-05-05 14:18:03,214 INFO Request is queued\n"
     ]
    },
    {
     "name": "stdout",
     "output_type": "stream",
     "text": [
      "Some parameters are not matching\n",
      "\n",
      "No value were found for the period and the project tested\n",
      "\n",
      "Test with model inm_cm5_0\n",
      "path_for_file does not exist: the data may not have been downloaded\n",
      "file_download does not exist: the data were not downloaded\n"
     ]
    },
    {
     "name": "stderr",
     "output_type": "stream",
     "text": [
      "2023-05-05 14:18:04,268 INFO Request is failed\n",
      "2023-05-05 14:18:04,269 ERROR Message: an internal error occurred processing your request\n",
      "2023-05-05 14:18:04,269 ERROR Reason:  No matching data for request {'experiment': 'ssp119', 'model': 'INM-CM5-0', 'temporal_resolution': 'mon', 'variable': 'rsds'}\n",
      "2023-05-05 14:18:04,270 ERROR   Traceback (most recent call last):\n",
      "2023-05-05 14:18:04,270 ERROR     File \"/opt/cdstoolbox/cdscompute/cdscompute/cdshandlers/services/handler.py\", line 59, in handle_request\n",
      "2023-05-05 14:18:04,271 ERROR       result = cached(context.method, proc, context, context.args, context.kwargs)\n",
      "2023-05-05 14:18:04,272 ERROR     File \"/opt/cdstoolbox/cdscompute/cdscompute/caching.py\", line 108, in cached\n",
      "2023-05-05 14:18:04,273 ERROR       result = proc(context, *context.args, **context.kwargs)\n",
      "2023-05-05 14:18:04,274 ERROR     File \"/opt/cdstoolbox/cdscompute/cdscompute/services.py\", line 124, in __call__\n",
      "2023-05-05 14:18:04,275 ERROR       return p(*args, **kwargs)\n",
      "2023-05-05 14:18:04,275 ERROR     File \"/opt/cdstoolbox/cdscompute/cdscompute/services.py\", line 60, in __call__\n",
      "2023-05-05 14:18:04,276 ERROR       return self.proc(context, *args, **kwargs)\n",
      "2023-05-05 14:18:04,276 ERROR     File \"/home/cds/cdsservices/services/esgf_wps/__init__.py\", line 30, in execute\n",
      "2023-05-05 14:18:04,278 ERROR       request_facets, request = facets.search(context, request)\n",
      "2023-05-05 14:18:04,279 ERROR     File \"/home/cds/cdsservices/services/esgf_wps/facets.py\", line 61, in search\n",
      "2023-05-05 14:18:04,279 ERROR       raise ValueError(f'No matching data for request {tmp_request}')\n",
      "2023-05-05 14:18:04,279 ERROR   ValueError: No matching data for request {'experiment': 'ssp119', 'model': 'INM-CM5-0', 'temporal_resolution': 'mon', 'variable': 'rsds'}\n"
     ]
    },
    {
     "name": "stdout",
     "output_type": "stream",
     "text": [
      "Some parameters are not matching\n",
      "\n",
      "No value were found for the period and the project tested\n",
      "\n",
      "Test with model ipsl_cm6a_lr\n",
      "path_for_file does exist Function copernicus search for nc\n",
      "The file is in the path Function copernicus search for nc\n",
      "\n",
      "The final path for the nc file is: C:\\Users\\CLMRX\\OneDrive - COWI\\Documents\\GitHub\\CRVA_tool\\outputs\\Datasets\\surface_downwelling_shortwave_radiation\\CompleteMozambique\\ssp1_1_9\\ipsl_cm6a_lr\\2015-2099\\CMIP6-copernicus-GCM\\rsds_Amon_IPSL-CM6A-LR_ssp119_r1i1p1f1_gr_20150116-20991216_v20190410.nc\n",
      "\n",
      " The final path for nc file exists ? True\n",
      "\n",
      "Registering the data in a dataframe\n"
     ]
    },
    {
     "name": "stderr",
     "output_type": "stream",
     "text": [
      "2023-05-05 14:18:39,547 INFO Welcome to the CDS\n",
      "2023-05-05 14:18:39,548 INFO Sending request to https://cds.climate.copernicus.eu/api/v2/resources/projections-cmip6\n",
      "2023-05-05 14:18:39,613 INFO Request is queued\n"
     ]
    },
    {
     "name": "stdout",
     "output_type": "stream",
     "text": [
      "\n",
      "Value were found for the period and the project tested\n",
      "\n",
      "Test with model kiost_esm\n",
      "path_for_file does not exist: the data may not have been downloaded\n",
      "file_download does not exist: the data were not downloaded\n"
     ]
    },
    {
     "name": "stderr",
     "output_type": "stream",
     "text": [
      "2023-05-05 14:18:40,669 INFO Request is failed\n",
      "2023-05-05 14:18:40,671 ERROR Message: an internal error occurred processing your request\n",
      "2023-05-05 14:18:40,671 ERROR Reason:  No matching data for request {'experiment': 'ssp119', 'model': 'KIOST-ESM', 'temporal_resolution': 'mon', 'variable': 'rsds'}\n",
      "2023-05-05 14:18:40,673 ERROR   Traceback (most recent call last):\n",
      "2023-05-05 14:18:40,673 ERROR     File \"/opt/cdstoolbox/cdscompute/cdscompute/cdshandlers/services/handler.py\", line 59, in handle_request\n",
      "2023-05-05 14:18:40,674 ERROR       result = cached(context.method, proc, context, context.args, context.kwargs)\n",
      "2023-05-05 14:18:40,675 ERROR     File \"/opt/cdstoolbox/cdscompute/cdscompute/caching.py\", line 108, in cached\n",
      "2023-05-05 14:18:40,675 ERROR       result = proc(context, *context.args, **context.kwargs)\n",
      "2023-05-05 14:18:40,676 ERROR     File \"/opt/cdstoolbox/cdscompute/cdscompute/services.py\", line 124, in __call__\n",
      "2023-05-05 14:18:40,677 ERROR       return p(*args, **kwargs)\n",
      "2023-05-05 14:18:40,677 ERROR     File \"/opt/cdstoolbox/cdscompute/cdscompute/services.py\", line 60, in __call__\n",
      "2023-05-05 14:18:40,678 ERROR       return self.proc(context, *args, **kwargs)\n",
      "2023-05-05 14:18:40,678 ERROR     File \"/home/cds/cdsservices/services/esgf_wps/__init__.py\", line 30, in execute\n",
      "2023-05-05 14:18:40,679 ERROR       request_facets, request = facets.search(context, request)\n",
      "2023-05-05 14:18:40,679 ERROR     File \"/home/cds/cdsservices/services/esgf_wps/facets.py\", line 61, in search\n",
      "2023-05-05 14:18:40,680 ERROR       raise ValueError(f'No matching data for request {tmp_request}')\n",
      "2023-05-05 14:18:40,680 ERROR   ValueError: No matching data for request {'experiment': 'ssp119', 'model': 'KIOST-ESM', 'temporal_resolution': 'mon', 'variable': 'rsds'}\n"
     ]
    },
    {
     "name": "stdout",
     "output_type": "stream",
     "text": [
      "Some parameters are not matching\n",
      "\n",
      "No value were found for the period and the project tested\n",
      "\n",
      "Test with model miroc6\n",
      "path_for_file does exist Function copernicus search for nc\n",
      "The file is in the path Function copernicus search for nc\n",
      "\n",
      "The final path for the nc file is: C:\\Users\\CLMRX\\OneDrive - COWI\\Documents\\GitHub\\CRVA_tool\\outputs\\Datasets\\surface_downwelling_shortwave_radiation\\CompleteMozambique\\ssp1_1_9\\miroc6\\2015-2099\\CMIP6-copernicus-GCM\\rsds_Amon_MIROC6_ssp119_r1i1p1f1_gn_20150116-20991216_v20190807.nc\n",
      "\n",
      " The final path for nc file exists ? True\n",
      "\n",
      "Registering the data in a dataframe\n",
      "\n",
      "Value were found for the period and the project tested\n",
      "\n",
      "Test with model miroc_es2l\n",
      "path_for_file does exist Function copernicus search for nc\n",
      "The file is in the path Function copernicus search for nc\n",
      "\n",
      "The final path for the nc file is: C:\\Users\\CLMRX\\OneDrive - COWI\\Documents\\GitHub\\CRVA_tool\\outputs\\Datasets\\surface_downwelling_shortwave_radiation\\CompleteMozambique\\ssp1_1_9\\miroc_es2l\\2015-2099\\CMIP6-copernicus-GCM\\rsds_Amon_MIROC-ES2L_ssp119_r1i1p1f2_gn_20150116-20991216_v20190823.nc\n",
      "\n",
      " The final path for nc file exists ? True\n",
      "\n",
      "Registering the data in a dataframe\n",
      "\n",
      "Value were found for the period and the project tested\n",
      "\n",
      "Test with model mpi_esm1_2_hr\n",
      "path_for_file does not exist: the data may not have been downloaded\n",
      "file_download does not exist: the data were not downloaded\n"
     ]
    },
    {
     "name": "stderr",
     "output_type": "stream",
     "text": [
      "2023-05-05 14:20:15,107 INFO Welcome to the CDS\n",
      "2023-05-05 14:20:15,108 INFO Sending request to https://cds.climate.copernicus.eu/api/v2/resources/projections-cmip6\n",
      "2023-05-05 14:20:15,231 INFO Request is queued\n",
      "2023-05-05 14:20:16,278 INFO Request is failed\n",
      "2023-05-05 14:20:16,278 ERROR Message: an internal error occurred processing your request\n",
      "2023-05-05 14:20:16,280 ERROR Reason:  No matching data for request {'experiment': 'ssp119', 'model': 'MPI-ESM1-2-HR', 'temporal_resolution': 'mon', 'variable': 'rsds'}\n",
      "2023-05-05 14:20:16,280 ERROR   Traceback (most recent call last):\n",
      "2023-05-05 14:20:16,281 ERROR     File \"/opt/cdstoolbox/cdscompute/cdscompute/cdshandlers/services/handler.py\", line 59, in handle_request\n",
      "2023-05-05 14:20:16,282 ERROR       result = cached(context.method, proc, context, context.args, context.kwargs)\n",
      "2023-05-05 14:20:16,283 ERROR     File \"/opt/cdstoolbox/cdscompute/cdscompute/caching.py\", line 108, in cached\n",
      "2023-05-05 14:20:16,284 ERROR       result = proc(context, *context.args, **context.kwargs)\n",
      "2023-05-05 14:20:16,285 ERROR     File \"/opt/cdstoolbox/cdscompute/cdscompute/services.py\", line 124, in __call__\n",
      "2023-05-05 14:20:16,286 ERROR       return p(*args, **kwargs)\n",
      "2023-05-05 14:20:16,286 ERROR     File \"/opt/cdstoolbox/cdscompute/cdscompute/services.py\", line 60, in __call__\n",
      "2023-05-05 14:20:16,286 ERROR       return self.proc(context, *args, **kwargs)\n",
      "2023-05-05 14:20:16,286 ERROR     File \"/home/cds/cdsservices/services/esgf_wps/__init__.py\", line 30, in execute\n",
      "2023-05-05 14:20:16,287 ERROR       request_facets, request = facets.search(context, request)\n",
      "2023-05-05 14:20:16,287 ERROR     File \"/home/cds/cdsservices/services/esgf_wps/facets.py\", line 61, in search\n",
      "2023-05-05 14:20:16,288 ERROR       raise ValueError(f'No matching data for request {tmp_request}')\n",
      "2023-05-05 14:20:16,288 ERROR   ValueError: No matching data for request {'experiment': 'ssp119', 'model': 'MPI-ESM1-2-HR', 'temporal_resolution': 'mon', 'variable': 'rsds'}\n"
     ]
    },
    {
     "name": "stdout",
     "output_type": "stream",
     "text": [
      "Some parameters are not matching\n",
      "\n",
      "No value were found for the period and the project tested\n",
      "\n",
      "Test with model mri_esm2_0\n",
      "path_for_file does exist Function copernicus search for nc\n",
      "The file is in the path Function copernicus search for nc\n",
      "\n",
      "The final path for the nc file is: C:\\Users\\CLMRX\\OneDrive - COWI\\Documents\\GitHub\\CRVA_tool\\outputs\\Datasets\\surface_downwelling_shortwave_radiation\\CompleteMozambique\\ssp1_1_9\\mri_esm2_0\\2015-2099\\CMIP6-copernicus-GCM\\rsds_Amon_MRI-ESM2-0_ssp119_r1i1p1f1_gn_20150116-20991216_v20190222.nc\n",
      "\n",
      " The final path for nc file exists ? True\n",
      "\n",
      "Registering the data in a dataframe\n"
     ]
    },
    {
     "name": "stderr",
     "output_type": "stream",
     "text": [
      "2023-05-05 14:21:08,858 INFO Welcome to the CDS\n",
      "2023-05-05 14:21:08,859 INFO Sending request to https://cds.climate.copernicus.eu/api/v2/resources/projections-cmip6\n",
      "2023-05-05 14:21:08,930 INFO Request is queued\n"
     ]
    },
    {
     "name": "stdout",
     "output_type": "stream",
     "text": [
      "\n",
      "Value were found for the period and the project tested\n",
      "\n",
      "Test with model norcpm1\n",
      "path_for_file does not exist: the data may not have been downloaded\n",
      "file_download does not exist: the data were not downloaded\n"
     ]
    },
    {
     "name": "stderr",
     "output_type": "stream",
     "text": [
      "2023-05-05 14:21:09,988 INFO Request is failed\n",
      "2023-05-05 14:21:09,990 ERROR Message: an internal error occurred processing your request\n",
      "2023-05-05 14:21:09,990 ERROR Reason:  No matching data for request {'experiment': 'ssp119', 'model': 'NorCPM1', 'temporal_resolution': 'mon', 'variable': 'rsds'}\n",
      "2023-05-05 14:21:09,991 ERROR   Traceback (most recent call last):\n",
      "2023-05-05 14:21:09,992 ERROR     File \"/opt/cdstoolbox/cdscompute/cdscompute/cdshandlers/services/handler.py\", line 59, in handle_request\n",
      "2023-05-05 14:21:09,993 ERROR       result = cached(context.method, proc, context, context.args, context.kwargs)\n",
      "2023-05-05 14:21:09,995 ERROR     File \"/opt/cdstoolbox/cdscompute/cdscompute/caching.py\", line 108, in cached\n",
      "2023-05-05 14:21:09,995 ERROR       result = proc(context, *context.args, **context.kwargs)\n",
      "2023-05-05 14:21:09,996 ERROR     File \"/opt/cdstoolbox/cdscompute/cdscompute/services.py\", line 124, in __call__\n",
      "2023-05-05 14:21:09,997 ERROR       return p(*args, **kwargs)\n",
      "2023-05-05 14:21:09,998 ERROR     File \"/opt/cdstoolbox/cdscompute/cdscompute/services.py\", line 60, in __call__\n",
      "2023-05-05 14:21:09,999 ERROR       return self.proc(context, *args, **kwargs)\n",
      "2023-05-05 14:21:09,999 ERROR     File \"/home/cds/cdsservices/services/esgf_wps/__init__.py\", line 30, in execute\n",
      "2023-05-05 14:21:10,000 ERROR       request_facets, request = facets.search(context, request)\n",
      "2023-05-05 14:21:10,000 ERROR     File \"/home/cds/cdsservices/services/esgf_wps/facets.py\", line 61, in search\n",
      "2023-05-05 14:21:10,001 ERROR       raise ValueError(f'No matching data for request {tmp_request}')\n",
      "2023-05-05 14:21:10,001 ERROR   ValueError: No matching data for request {'experiment': 'ssp119', 'model': 'NorCPM1', 'temporal_resolution': 'mon', 'variable': 'rsds'}\n",
      "2023-05-05 14:21:10,045 INFO Welcome to the CDS\n",
      "2023-05-05 14:21:10,046 INFO Sending request to https://cds.climate.copernicus.eu/api/v2/resources/projections-cmip6\n",
      "2023-05-05 14:21:10,094 INFO Request is queued\n"
     ]
    },
    {
     "name": "stdout",
     "output_type": "stream",
     "text": [
      "Some parameters are not matching\n",
      "\n",
      "No value were found for the period and the project tested\n",
      "\n",
      "Test with model noresm2_mm\n",
      "path_for_file does not exist: the data may not have been downloaded\n",
      "file_download does not exist: the data were not downloaded\n"
     ]
    },
    {
     "name": "stderr",
     "output_type": "stream",
     "text": [
      "2023-05-05 14:21:11,139 INFO Request is failed\n",
      "2023-05-05 14:21:11,140 ERROR Message: an internal error occurred processing your request\n",
      "2023-05-05 14:21:11,141 ERROR Reason:  No matching data for request {'experiment': 'ssp119', 'model': 'NorESM2-MM', 'temporal_resolution': 'mon', 'variable': 'rsds'}\n",
      "2023-05-05 14:21:11,141 ERROR   Traceback (most recent call last):\n",
      "2023-05-05 14:21:11,142 ERROR     File \"/opt/cdstoolbox/cdscompute/cdscompute/cdshandlers/services/handler.py\", line 59, in handle_request\n",
      "2023-05-05 14:21:11,142 ERROR       result = cached(context.method, proc, context, context.args, context.kwargs)\n",
      "2023-05-05 14:21:11,143 ERROR     File \"/opt/cdstoolbox/cdscompute/cdscompute/caching.py\", line 108, in cached\n",
      "2023-05-05 14:21:11,143 ERROR       result = proc(context, *context.args, **context.kwargs)\n",
      "2023-05-05 14:21:11,144 ERROR     File \"/opt/cdstoolbox/cdscompute/cdscompute/services.py\", line 124, in __call__\n",
      "2023-05-05 14:21:11,144 ERROR       return p(*args, **kwargs)\n",
      "2023-05-05 14:21:11,145 ERROR     File \"/opt/cdstoolbox/cdscompute/cdscompute/services.py\", line 60, in __call__\n",
      "2023-05-05 14:21:11,145 ERROR       return self.proc(context, *args, **kwargs)\n",
      "2023-05-05 14:21:11,145 ERROR     File \"/home/cds/cdsservices/services/esgf_wps/__init__.py\", line 30, in execute\n",
      "2023-05-05 14:21:11,146 ERROR       request_facets, request = facets.search(context, request)\n",
      "2023-05-05 14:21:11,146 ERROR     File \"/home/cds/cdsservices/services/esgf_wps/facets.py\", line 61, in search\n",
      "2023-05-05 14:21:11,147 ERROR       raise ValueError(f'No matching data for request {tmp_request}')\n",
      "2023-05-05 14:21:11,147 ERROR   ValueError: No matching data for request {'experiment': 'ssp119', 'model': 'NorESM2-MM', 'temporal_resolution': 'mon', 'variable': 'rsds'}\n",
      "2023-05-05 14:21:11,189 INFO Welcome to the CDS\n",
      "2023-05-05 14:21:11,189 INFO Sending request to https://cds.climate.copernicus.eu/api/v2/resources/projections-cmip6\n",
      "2023-05-05 14:21:11,260 INFO Request is queued\n"
     ]
    },
    {
     "name": "stdout",
     "output_type": "stream",
     "text": [
      "Some parameters are not matching\n",
      "\n",
      "No value were found for the period and the project tested\n",
      "\n",
      "Test with model taiesm1\n",
      "path_for_file does not exist: the data may not have been downloaded\n",
      "file_download does not exist: the data were not downloaded\n"
     ]
    },
    {
     "name": "stderr",
     "output_type": "stream",
     "text": [
      "2023-05-05 14:21:12,311 INFO Request is failed\n",
      "2023-05-05 14:21:12,312 ERROR Message: an internal error occurred processing your request\n",
      "2023-05-05 14:21:12,313 ERROR Reason:  No matching data for request {'experiment': 'ssp119', 'model': 'TaiESM1', 'temporal_resolution': 'mon', 'variable': 'rsds'}\n",
      "2023-05-05 14:21:12,313 ERROR   Traceback (most recent call last):\n",
      "2023-05-05 14:21:12,314 ERROR     File \"/opt/cdstoolbox/cdscompute/cdscompute/cdshandlers/services/handler.py\", line 59, in handle_request\n",
      "2023-05-05 14:21:12,314 ERROR       result = cached(context.method, proc, context, context.args, context.kwargs)\n",
      "2023-05-05 14:21:12,315 ERROR     File \"/opt/cdstoolbox/cdscompute/cdscompute/caching.py\", line 108, in cached\n",
      "2023-05-05 14:21:12,316 ERROR       result = proc(context, *context.args, **context.kwargs)\n",
      "2023-05-05 14:21:12,316 ERROR     File \"/opt/cdstoolbox/cdscompute/cdscompute/services.py\", line 124, in __call__\n",
      "2023-05-05 14:21:12,317 ERROR       return p(*args, **kwargs)\n",
      "2023-05-05 14:21:12,317 ERROR     File \"/opt/cdstoolbox/cdscompute/cdscompute/services.py\", line 60, in __call__\n",
      "2023-05-05 14:21:12,318 ERROR       return self.proc(context, *args, **kwargs)\n",
      "2023-05-05 14:21:12,318 ERROR     File \"/home/cds/cdsservices/services/esgf_wps/__init__.py\", line 30, in execute\n",
      "2023-05-05 14:21:12,319 ERROR       request_facets, request = facets.search(context, request)\n",
      "2023-05-05 14:21:12,319 ERROR     File \"/home/cds/cdsservices/services/esgf_wps/facets.py\", line 61, in search\n",
      "2023-05-05 14:21:12,320 ERROR       raise ValueError(f'No matching data for request {tmp_request}')\n",
      "2023-05-05 14:21:12,321 ERROR   ValueError: No matching data for request {'experiment': 'ssp119', 'model': 'TaiESM1', 'temporal_resolution': 'mon', 'variable': 'rsds'}\n",
      "2023-05-05 14:21:12,364 INFO Welcome to the CDS\n",
      "2023-05-05 14:21:12,365 INFO Sending request to https://cds.climate.copernicus.eu/api/v2/resources/projections-cmip6\n",
      "2023-05-05 14:21:12,446 INFO Request is queued\n"
     ]
    },
    {
     "name": "stdout",
     "output_type": "stream",
     "text": [
      "Some parameters are not matching\n",
      "\n",
      "No value were found for the period and the project tested\n",
      "\n",
      "Test with model access_esm1_5\n",
      "path_for_file does not exist: the data may not have been downloaded\n",
      "file_download does not exist: the data were not downloaded\n"
     ]
    },
    {
     "name": "stderr",
     "output_type": "stream",
     "text": [
      "2023-05-05 14:21:13,491 INFO Request is failed\n",
      "2023-05-05 14:21:13,492 ERROR Message: an internal error occurred processing your request\n",
      "2023-05-05 14:21:13,493 ERROR Reason:  No matching data for request {'experiment': 'ssp119', 'model': 'ACCESS-ESM1-5', 'temporal_resolution': 'mon', 'variable': 'rsds'}\n",
      "2023-05-05 14:21:13,494 ERROR   Traceback (most recent call last):\n",
      "2023-05-05 14:21:13,497 ERROR     File \"/opt/cdstoolbox/cdscompute/cdscompute/cdshandlers/services/handler.py\", line 59, in handle_request\n",
      "2023-05-05 14:21:13,498 ERROR       result = cached(context.method, proc, context, context.args, context.kwargs)\n",
      "2023-05-05 14:21:13,498 ERROR     File \"/opt/cdstoolbox/cdscompute/cdscompute/caching.py\", line 108, in cached\n",
      "2023-05-05 14:21:13,499 ERROR       result = proc(context, *context.args, **context.kwargs)\n",
      "2023-05-05 14:21:13,499 ERROR     File \"/opt/cdstoolbox/cdscompute/cdscompute/services.py\", line 124, in __call__\n",
      "2023-05-05 14:21:13,500 ERROR       return p(*args, **kwargs)\n",
      "2023-05-05 14:21:13,501 ERROR     File \"/opt/cdstoolbox/cdscompute/cdscompute/services.py\", line 60, in __call__\n",
      "2023-05-05 14:21:13,502 ERROR       return self.proc(context, *args, **kwargs)\n",
      "2023-05-05 14:21:13,502 ERROR     File \"/home/cds/cdsservices/services/esgf_wps/__init__.py\", line 30, in execute\n",
      "2023-05-05 14:21:13,503 ERROR       request_facets, request = facets.search(context, request)\n",
      "2023-05-05 14:21:13,503 ERROR     File \"/home/cds/cdsservices/services/esgf_wps/facets.py\", line 61, in search\n",
      "2023-05-05 14:21:13,503 ERROR       raise ValueError(f'No matching data for request {tmp_request}')\n",
      "2023-05-05 14:21:13,504 ERROR   ValueError: No matching data for request {'experiment': 'ssp119', 'model': 'ACCESS-ESM1-5', 'temporal_resolution': 'mon', 'variable': 'rsds'}\n",
      "2023-05-05 14:21:13,548 INFO Welcome to the CDS\n",
      "2023-05-05 14:21:13,549 INFO Sending request to https://cds.climate.copernicus.eu/api/v2/resources/projections-cmip6\n",
      "2023-05-05 14:21:13,598 INFO Request is queued\n"
     ]
    },
    {
     "name": "stdout",
     "output_type": "stream",
     "text": [
      "Some parameters are not matching\n",
      "\n",
      "No value were found for the period and the project tested\n",
      "\n",
      "Test with model awi_esm_1_1_lr\n",
      "path_for_file does not exist: the data may not have been downloaded\n",
      "file_download does not exist: the data were not downloaded\n"
     ]
    },
    {
     "name": "stderr",
     "output_type": "stream",
     "text": [
      "2023-05-05 14:21:14,655 INFO Request is failed\n",
      "2023-05-05 14:21:14,656 ERROR Message: an internal error occurred processing your request\n",
      "2023-05-05 14:21:14,658 ERROR Reason:  No matching data for request {'experiment': 'ssp119', 'model': 'AWI-ESM-1-1-LR', 'temporal_resolution': 'mon', 'variable': 'rsds'}\n",
      "2023-05-05 14:21:14,658 ERROR   Traceback (most recent call last):\n",
      "2023-05-05 14:21:14,660 ERROR     File \"/opt/cdstoolbox/cdscompute/cdscompute/cdshandlers/services/handler.py\", line 59, in handle_request\n",
      "2023-05-05 14:21:14,660 ERROR       result = cached(context.method, proc, context, context.args, context.kwargs)\n",
      "2023-05-05 14:21:14,661 ERROR     File \"/opt/cdstoolbox/cdscompute/cdscompute/caching.py\", line 108, in cached\n",
      "2023-05-05 14:21:14,662 ERROR       result = proc(context, *context.args, **context.kwargs)\n",
      "2023-05-05 14:21:14,662 ERROR     File \"/opt/cdstoolbox/cdscompute/cdscompute/services.py\", line 124, in __call__\n",
      "2023-05-05 14:21:14,663 ERROR       return p(*args, **kwargs)\n",
      "2023-05-05 14:21:14,664 ERROR     File \"/opt/cdstoolbox/cdscompute/cdscompute/services.py\", line 60, in __call__\n",
      "2023-05-05 14:21:14,664 ERROR       return self.proc(context, *args, **kwargs)\n",
      "2023-05-05 14:21:14,665 ERROR     File \"/home/cds/cdsservices/services/esgf_wps/__init__.py\", line 30, in execute\n",
      "2023-05-05 14:21:14,665 ERROR       request_facets, request = facets.search(context, request)\n",
      "2023-05-05 14:21:14,666 ERROR     File \"/home/cds/cdsservices/services/esgf_wps/facets.py\", line 61, in search\n",
      "2023-05-05 14:21:14,666 ERROR       raise ValueError(f'No matching data for request {tmp_request}')\n",
      "2023-05-05 14:21:14,666 ERROR   ValueError: No matching data for request {'experiment': 'ssp119', 'model': 'AWI-ESM-1-1-LR', 'temporal_resolution': 'mon', 'variable': 'rsds'}\n",
      "2023-05-05 14:21:14,710 INFO Welcome to the CDS\n",
      "2023-05-05 14:21:14,711 INFO Sending request to https://cds.climate.copernicus.eu/api/v2/resources/projections-cmip6\n",
      "2023-05-05 14:21:14,786 INFO Request is queued\n"
     ]
    },
    {
     "name": "stdout",
     "output_type": "stream",
     "text": [
      "Some parameters are not matching\n",
      "\n",
      "No value were found for the period and the project tested\n",
      "\n",
      "Test with model bcc_esm1\n",
      "path_for_file does not exist: the data may not have been downloaded\n",
      "file_download does not exist: the data were not downloaded\n"
     ]
    },
    {
     "name": "stderr",
     "output_type": "stream",
     "text": [
      "2023-05-05 14:21:15,839 INFO Request is failed\n",
      "2023-05-05 14:21:15,841 ERROR Message: an internal error occurred processing your request\n",
      "2023-05-05 14:21:15,842 ERROR Reason:  No matching data for request {'experiment': 'ssp119', 'model': 'BCC-ESM1', 'temporal_resolution': 'mon', 'variable': 'rsds'}\n",
      "2023-05-05 14:21:15,842 ERROR   Traceback (most recent call last):\n",
      "2023-05-05 14:21:15,843 ERROR     File \"/opt/cdstoolbox/cdscompute/cdscompute/cdshandlers/services/handler.py\", line 59, in handle_request\n",
      "2023-05-05 14:21:15,843 ERROR       result = cached(context.method, proc, context, context.args, context.kwargs)\n",
      "2023-05-05 14:21:15,844 ERROR     File \"/opt/cdstoolbox/cdscompute/cdscompute/caching.py\", line 108, in cached\n",
      "2023-05-05 14:21:15,845 ERROR       result = proc(context, *context.args, **context.kwargs)\n",
      "2023-05-05 14:21:15,846 ERROR     File \"/opt/cdstoolbox/cdscompute/cdscompute/services.py\", line 124, in __call__\n",
      "2023-05-05 14:21:15,846 ERROR       return p(*args, **kwargs)\n",
      "2023-05-05 14:21:15,847 ERROR     File \"/opt/cdstoolbox/cdscompute/cdscompute/services.py\", line 60, in __call__\n",
      "2023-05-05 14:21:15,847 ERROR       return self.proc(context, *args, **kwargs)\n",
      "2023-05-05 14:21:15,848 ERROR     File \"/home/cds/cdsservices/services/esgf_wps/__init__.py\", line 30, in execute\n",
      "2023-05-05 14:21:15,848 ERROR       request_facets, request = facets.search(context, request)\n",
      "2023-05-05 14:21:15,849 ERROR     File \"/home/cds/cdsservices/services/esgf_wps/facets.py\", line 61, in search\n",
      "2023-05-05 14:21:15,849 ERROR       raise ValueError(f'No matching data for request {tmp_request}')\n",
      "2023-05-05 14:21:15,850 ERROR   ValueError: No matching data for request {'experiment': 'ssp119', 'model': 'BCC-ESM1', 'temporal_resolution': 'mon', 'variable': 'rsds'}\n"
     ]
    },
    {
     "name": "stdout",
     "output_type": "stream",
     "text": [
      "Some parameters are not matching\n",
      "\n",
      "No value were found for the period and the project tested\n",
      "\n",
      "Test with model canesm5\n",
      "path_for_file does exist Function copernicus search for nc\n",
      "The file is in the path Function copernicus search for nc\n",
      "\n",
      "The final path for the nc file is: C:\\Users\\CLMRX\\OneDrive - COWI\\Documents\\GitHub\\CRVA_tool\\outputs\\Datasets\\surface_downwelling_shortwave_radiation\\CompleteMozambique\\ssp1_1_9\\canesm5\\2015-2099\\CMIP6-copernicus-GCM\\rsds_Amon_CanESM5_ssp119_r1i1p1f1_gn_20150116-20991216_v20190429.nc\n",
      "\n",
      " The final path for nc file exists ? True\n",
      "\n",
      "Registering the data in a dataframe\n"
     ]
    },
    {
     "name": "stderr",
     "output_type": "stream",
     "text": [
      "2023-05-05 14:22:17,586 INFO Welcome to the CDS\n",
      "2023-05-05 14:22:17,589 INFO Sending request to https://cds.climate.copernicus.eu/api/v2/resources/projections-cmip6\n",
      "2023-05-05 14:22:17,669 INFO Request is queued\n"
     ]
    },
    {
     "name": "stdout",
     "output_type": "stream",
     "text": [
      "\n",
      "Value were found for the period and the project tested\n",
      "\n",
      "Test with model cesm2\n",
      "path_for_file does not exist: the data may not have been downloaded\n",
      "file_download does not exist: the data were not downloaded\n"
     ]
    },
    {
     "name": "stderr",
     "output_type": "stream",
     "text": [
      "2023-05-05 14:22:18,724 INFO Request is failed\n",
      "2023-05-05 14:22:18,725 ERROR Message: an internal error occurred processing your request\n",
      "2023-05-05 14:22:18,726 ERROR Reason:  No matching data for request {'experiment': 'ssp119', 'model': 'CESM2', 'temporal_resolution': 'mon', 'variable': 'rsds'}\n",
      "2023-05-05 14:22:18,726 ERROR   Traceback (most recent call last):\n",
      "2023-05-05 14:22:18,727 ERROR     File \"/opt/cdstoolbox/cdscompute/cdscompute/cdshandlers/services/handler.py\", line 59, in handle_request\n",
      "2023-05-05 14:22:18,728 ERROR       result = cached(context.method, proc, context, context.args, context.kwargs)\n",
      "2023-05-05 14:22:18,728 ERROR     File \"/opt/cdstoolbox/cdscompute/cdscompute/caching.py\", line 108, in cached\n",
      "2023-05-05 14:22:18,729 ERROR       result = proc(context, *context.args, **context.kwargs)\n",
      "2023-05-05 14:22:18,729 ERROR     File \"/opt/cdstoolbox/cdscompute/cdscompute/services.py\", line 124, in __call__\n",
      "2023-05-05 14:22:18,730 ERROR       return p(*args, **kwargs)\n",
      "2023-05-05 14:22:18,732 ERROR     File \"/opt/cdstoolbox/cdscompute/cdscompute/services.py\", line 60, in __call__\n",
      "2023-05-05 14:22:18,733 ERROR       return self.proc(context, *args, **kwargs)\n",
      "2023-05-05 14:22:18,734 ERROR     File \"/home/cds/cdsservices/services/esgf_wps/__init__.py\", line 30, in execute\n",
      "2023-05-05 14:22:18,735 ERROR       request_facets, request = facets.search(context, request)\n",
      "2023-05-05 14:22:18,735 ERROR     File \"/home/cds/cdsservices/services/esgf_wps/facets.py\", line 61, in search\n",
      "2023-05-05 14:22:18,736 ERROR       raise ValueError(f'No matching data for request {tmp_request}')\n",
      "2023-05-05 14:22:18,737 ERROR   ValueError: No matching data for request {'experiment': 'ssp119', 'model': 'CESM2', 'temporal_resolution': 'mon', 'variable': 'rsds'}\n",
      "2023-05-05 14:22:18,777 INFO Welcome to the CDS\n",
      "2023-05-05 14:22:18,778 INFO Sending request to https://cds.climate.copernicus.eu/api/v2/resources/projections-cmip6\n",
      "2023-05-05 14:22:18,828 INFO Request is queued\n"
     ]
    },
    {
     "name": "stdout",
     "output_type": "stream",
     "text": [
      "Some parameters are not matching\n",
      "\n",
      "No value were found for the period and the project tested\n",
      "\n",
      "Test with model cesm2_waccm\n",
      "path_for_file does not exist: the data may not have been downloaded\n",
      "file_download does not exist: the data were not downloaded\n"
     ]
    },
    {
     "name": "stderr",
     "output_type": "stream",
     "text": [
      "2023-05-05 14:22:19,879 INFO Request is failed\n",
      "2023-05-05 14:22:19,880 ERROR Message: an internal error occurred processing your request\n",
      "2023-05-05 14:22:19,882 ERROR Reason:  No matching data for request {'experiment': 'ssp119', 'model': 'CESM2-WACCM', 'temporal_resolution': 'mon', 'variable': 'rsds'}\n",
      "2023-05-05 14:22:19,883 ERROR   Traceback (most recent call last):\n",
      "2023-05-05 14:22:19,884 ERROR     File \"/opt/cdstoolbox/cdscompute/cdscompute/cdshandlers/services/handler.py\", line 59, in handle_request\n",
      "2023-05-05 14:22:19,885 ERROR       result = cached(context.method, proc, context, context.args, context.kwargs)\n",
      "2023-05-05 14:22:19,885 ERROR     File \"/opt/cdstoolbox/cdscompute/cdscompute/caching.py\", line 108, in cached\n",
      "2023-05-05 14:22:19,886 ERROR       result = proc(context, *context.args, **context.kwargs)\n",
      "2023-05-05 14:22:19,887 ERROR     File \"/opt/cdstoolbox/cdscompute/cdscompute/services.py\", line 124, in __call__\n",
      "2023-05-05 14:22:19,887 ERROR       return p(*args, **kwargs)\n",
      "2023-05-05 14:22:19,888 ERROR     File \"/opt/cdstoolbox/cdscompute/cdscompute/services.py\", line 60, in __call__\n",
      "2023-05-05 14:22:19,888 ERROR       return self.proc(context, *args, **kwargs)\n",
      "2023-05-05 14:22:19,889 ERROR     File \"/home/cds/cdsservices/services/esgf_wps/__init__.py\", line 30, in execute\n",
      "2023-05-05 14:22:19,889 ERROR       request_facets, request = facets.search(context, request)\n",
      "2023-05-05 14:22:19,890 ERROR     File \"/home/cds/cdsservices/services/esgf_wps/facets.py\", line 61, in search\n",
      "2023-05-05 14:22:19,890 ERROR       raise ValueError(f'No matching data for request {tmp_request}')\n",
      "2023-05-05 14:22:19,891 ERROR   ValueError: No matching data for request {'experiment': 'ssp119', 'model': 'CESM2-WACCM', 'temporal_resolution': 'mon', 'variable': 'rsds'}\n",
      "2023-05-05 14:22:19,931 INFO Welcome to the CDS\n",
      "2023-05-05 14:22:19,932 INFO Sending request to https://cds.climate.copernicus.eu/api/v2/resources/projections-cmip6\n"
     ]
    },
    {
     "name": "stdout",
     "output_type": "stream",
     "text": [
      "Some parameters are not matching\n",
      "\n",
      "No value were found for the period and the project tested\n",
      "\n",
      "Test with model ciesm\n",
      "path_for_file does not exist: the data may not have been downloaded\n",
      "file_download does not exist: the data were not downloaded\n"
     ]
    },
    {
     "name": "stderr",
     "output_type": "stream",
     "text": [
      "2023-05-05 14:22:20,094 INFO Request is queued\n",
      "2023-05-05 14:22:21,146 INFO Request is failed\n",
      "2023-05-05 14:22:21,146 ERROR Message: an internal error occurred processing your request\n",
      "2023-05-05 14:22:21,147 ERROR Reason:  No matching data for request {'experiment': 'ssp119', 'model': 'CIESM', 'temporal_resolution': 'mon', 'variable': 'rsds'}\n",
      "2023-05-05 14:22:21,148 ERROR   Traceback (most recent call last):\n",
      "2023-05-05 14:22:21,148 ERROR     File \"/opt/cdstoolbox/cdscompute/cdscompute/cdshandlers/services/handler.py\", line 59, in handle_request\n",
      "2023-05-05 14:22:21,149 ERROR       result = cached(context.method, proc, context, context.args, context.kwargs)\n",
      "2023-05-05 14:22:21,150 ERROR     File \"/opt/cdstoolbox/cdscompute/cdscompute/caching.py\", line 108, in cached\n",
      "2023-05-05 14:22:21,150 ERROR       result = proc(context, *context.args, **context.kwargs)\n",
      "2023-05-05 14:22:21,152 ERROR     File \"/opt/cdstoolbox/cdscompute/cdscompute/services.py\", line 124, in __call__\n",
      "2023-05-05 14:22:21,153 ERROR       return p(*args, **kwargs)\n",
      "2023-05-05 14:22:21,154 ERROR     File \"/opt/cdstoolbox/cdscompute/cdscompute/services.py\", line 60, in __call__\n",
      "2023-05-05 14:22:21,154 ERROR       return self.proc(context, *args, **kwargs)\n",
      "2023-05-05 14:22:21,155 ERROR     File \"/home/cds/cdsservices/services/esgf_wps/__init__.py\", line 30, in execute\n",
      "2023-05-05 14:22:21,155 ERROR       request_facets, request = facets.search(context, request)\n",
      "2023-05-05 14:22:21,156 ERROR     File \"/home/cds/cdsservices/services/esgf_wps/facets.py\", line 61, in search\n",
      "2023-05-05 14:22:21,156 ERROR       raise ValueError(f'No matching data for request {tmp_request}')\n",
      "2023-05-05 14:22:21,157 ERROR   ValueError: No matching data for request {'experiment': 'ssp119', 'model': 'CIESM', 'temporal_resolution': 'mon', 'variable': 'rsds'}\n",
      "2023-05-05 14:22:21,198 INFO Welcome to the CDS\n",
      "2023-05-05 14:22:21,199 INFO Sending request to https://cds.climate.copernicus.eu/api/v2/resources/projections-cmip6\n",
      "2023-05-05 14:22:21,267 INFO Request is queued\n"
     ]
    },
    {
     "name": "stdout",
     "output_type": "stream",
     "text": [
      "Some parameters are not matching\n",
      "\n",
      "No value were found for the period and the project tested\n",
      "\n",
      "Test with model cmcc_cm2_sr5\n",
      "path_for_file does not exist: the data may not have been downloaded\n",
      "file_download does not exist: the data were not downloaded\n"
     ]
    },
    {
     "name": "stderr",
     "output_type": "stream",
     "text": [
      "2023-05-05 14:22:22,327 INFO Request is failed\n",
      "2023-05-05 14:22:22,327 ERROR Message: an internal error occurred processing your request\n",
      "2023-05-05 14:22:22,328 ERROR Reason:  No matching data for request {'experiment': 'ssp119', 'model': 'CMCC-CM2-SR5', 'temporal_resolution': 'mon', 'variable': 'rsds'}\n",
      "2023-05-05 14:22:22,329 ERROR   Traceback (most recent call last):\n",
      "2023-05-05 14:22:22,330 ERROR     File \"/opt/cdstoolbox/cdscompute/cdscompute/cdshandlers/services/handler.py\", line 59, in handle_request\n",
      "2023-05-05 14:22:22,331 ERROR       result = cached(context.method, proc, context, context.args, context.kwargs)\n",
      "2023-05-05 14:22:22,331 ERROR     File \"/opt/cdstoolbox/cdscompute/cdscompute/caching.py\", line 108, in cached\n",
      "2023-05-05 14:22:22,332 ERROR       result = proc(context, *context.args, **context.kwargs)\n",
      "2023-05-05 14:22:22,332 ERROR     File \"/opt/cdstoolbox/cdscompute/cdscompute/services.py\", line 124, in __call__\n",
      "2023-05-05 14:22:22,333 ERROR       return p(*args, **kwargs)\n",
      "2023-05-05 14:22:22,334 ERROR     File \"/opt/cdstoolbox/cdscompute/cdscompute/services.py\", line 60, in __call__\n",
      "2023-05-05 14:22:22,334 ERROR       return self.proc(context, *args, **kwargs)\n",
      "2023-05-05 14:22:22,334 ERROR     File \"/home/cds/cdsservices/services/esgf_wps/__init__.py\", line 30, in execute\n",
      "2023-05-05 14:22:22,335 ERROR       request_facets, request = facets.search(context, request)\n",
      "2023-05-05 14:22:22,335 ERROR     File \"/home/cds/cdsservices/services/esgf_wps/facets.py\", line 61, in search\n",
      "2023-05-05 14:22:22,336 ERROR       raise ValueError(f'No matching data for request {tmp_request}')\n",
      "2023-05-05 14:22:22,336 ERROR   ValueError: No matching data for request {'experiment': 'ssp119', 'model': 'CMCC-CM2-SR5', 'temporal_resolution': 'mon', 'variable': 'rsds'}\n",
      "2023-05-05 14:22:22,378 INFO Welcome to the CDS\n",
      "2023-05-05 14:22:22,379 INFO Sending request to https://cds.climate.copernicus.eu/api/v2/resources/projections-cmip6\n",
      "2023-05-05 14:22:22,429 INFO Request is queued\n"
     ]
    },
    {
     "name": "stdout",
     "output_type": "stream",
     "text": [
      "Some parameters are not matching\n",
      "\n",
      "No value were found for the period and the project tested\n",
      "\n",
      "Test with model cnrm_cm6_1\n",
      "path_for_file does not exist: the data may not have been downloaded\n",
      "file_download does not exist: the data were not downloaded\n"
     ]
    },
    {
     "name": "stderr",
     "output_type": "stream",
     "text": [
      "2023-05-05 14:22:23,473 INFO Request is failed\n",
      "2023-05-05 14:22:23,474 ERROR Message: an internal error occurred processing your request\n",
      "2023-05-05 14:22:23,475 ERROR Reason:  No matching data for request {'experiment': 'ssp119', 'model': 'CNRM-CM6-1', 'temporal_resolution': 'mon', 'variable': 'rsds'}\n",
      "2023-05-05 14:22:23,476 ERROR   Traceback (most recent call last):\n",
      "2023-05-05 14:22:23,476 ERROR     File \"/opt/cdstoolbox/cdscompute/cdscompute/cdshandlers/services/handler.py\", line 59, in handle_request\n",
      "2023-05-05 14:22:23,476 ERROR       result = cached(context.method, proc, context, context.args, context.kwargs)\n",
      "2023-05-05 14:22:23,478 ERROR     File \"/opt/cdstoolbox/cdscompute/cdscompute/caching.py\", line 108, in cached\n",
      "2023-05-05 14:22:23,478 ERROR       result = proc(context, *context.args, **context.kwargs)\n",
      "2023-05-05 14:22:23,479 ERROR     File \"/opt/cdstoolbox/cdscompute/cdscompute/services.py\", line 124, in __call__\n",
      "2023-05-05 14:22:23,480 ERROR       return p(*args, **kwargs)\n",
      "2023-05-05 14:22:23,481 ERROR     File \"/opt/cdstoolbox/cdscompute/cdscompute/services.py\", line 60, in __call__\n",
      "2023-05-05 14:22:23,482 ERROR       return self.proc(context, *args, **kwargs)\n",
      "2023-05-05 14:22:23,482 ERROR     File \"/home/cds/cdsservices/services/esgf_wps/__init__.py\", line 30, in execute\n",
      "2023-05-05 14:22:23,483 ERROR       request_facets, request = facets.search(context, request)\n",
      "2023-05-05 14:22:23,484 ERROR     File \"/home/cds/cdsservices/services/esgf_wps/facets.py\", line 61, in search\n",
      "2023-05-05 14:22:23,484 ERROR       raise ValueError(f'No matching data for request {tmp_request}')\n",
      "2023-05-05 14:22:23,484 ERROR   ValueError: No matching data for request {'experiment': 'ssp119', 'model': 'CNRM-CM6-1', 'temporal_resolution': 'mon', 'variable': 'rsds'}\n"
     ]
    },
    {
     "name": "stdout",
     "output_type": "stream",
     "text": [
      "Some parameters are not matching\n",
      "\n",
      "No value were found for the period and the project tested\n",
      "\n",
      "Test with model cnrm_esm2_1\n",
      "path_for_file does exist Function copernicus search for nc\n",
      "The file is in the path Function copernicus search for nc\n",
      "\n",
      "The final path for the nc file is: C:\\Users\\CLMRX\\OneDrive - COWI\\Documents\\GitHub\\CRVA_tool\\outputs\\Datasets\\surface_downwelling_shortwave_radiation\\CompleteMozambique\\ssp1_1_9\\cnrm_esm2_1\\2015-2099\\CMIP6-copernicus-GCM\\rsds_Amon_CNRM-ESM2-1_ssp119_r1i1p1f2_gr_20150116-20991216_v20190328.nc\n",
      "\n",
      " The final path for nc file exists ? True\n",
      "\n",
      "Registering the data in a dataframe\n",
      "\n",
      "Value were found for the period and the project tested\n",
      "\n",
      "Test with model e3sm_1_1\n",
      "path_for_file does not exist: the data may not have been downloaded\n",
      "file_download does not exist: the data were not downloaded\n"
     ]
    },
    {
     "name": "stderr",
     "output_type": "stream",
     "text": [
      "2023-05-05 14:23:30,485 INFO Welcome to the CDS\n",
      "2023-05-05 14:23:30,486 INFO Sending request to https://cds.climate.copernicus.eu/api/v2/resources/projections-cmip6\n",
      "2023-05-05 14:23:30,556 INFO Request is queued\n",
      "2023-05-05 14:23:31,610 INFO Request is failed\n",
      "2023-05-05 14:23:31,612 ERROR Message: an internal error occurred processing your request\n",
      "2023-05-05 14:23:31,612 ERROR Reason:  No matching data for request {'experiment': 'ssp119', 'model': 'E3SM-1-1', 'temporal_resolution': 'mon', 'variable': 'rsds'}\n",
      "2023-05-05 14:23:31,612 ERROR   Traceback (most recent call last):\n",
      "2023-05-05 14:23:31,613 ERROR     File \"/opt/cdstoolbox/cdscompute/cdscompute/cdshandlers/services/handler.py\", line 59, in handle_request\n",
      "2023-05-05 14:23:31,613 ERROR       result = cached(context.method, proc, context, context.args, context.kwargs)\n",
      "2023-05-05 14:23:31,614 ERROR     File \"/opt/cdstoolbox/cdscompute/cdscompute/caching.py\", line 108, in cached\n",
      "2023-05-05 14:23:31,614 ERROR       result = proc(context, *context.args, **context.kwargs)\n",
      "2023-05-05 14:23:31,615 ERROR     File \"/opt/cdstoolbox/cdscompute/cdscompute/services.py\", line 124, in __call__\n",
      "2023-05-05 14:23:31,616 ERROR       return p(*args, **kwargs)\n",
      "2023-05-05 14:23:31,616 ERROR     File \"/opt/cdstoolbox/cdscompute/cdscompute/services.py\", line 60, in __call__\n",
      "2023-05-05 14:23:31,616 ERROR       return self.proc(context, *args, **kwargs)\n",
      "2023-05-05 14:23:31,617 ERROR     File \"/home/cds/cdsservices/services/esgf_wps/__init__.py\", line 30, in execute\n",
      "2023-05-05 14:23:31,618 ERROR       request_facets, request = facets.search(context, request)\n",
      "2023-05-05 14:23:31,618 ERROR     File \"/home/cds/cdsservices/services/esgf_wps/facets.py\", line 61, in search\n",
      "2023-05-05 14:23:31,618 ERROR       raise ValueError(f'No matching data for request {tmp_request}')\n",
      "2023-05-05 14:23:31,619 ERROR   ValueError: No matching data for request {'experiment': 'ssp119', 'model': 'E3SM-1-1', 'temporal_resolution': 'mon', 'variable': 'rsds'}\n"
     ]
    },
    {
     "name": "stdout",
     "output_type": "stream",
     "text": [
      "Some parameters are not matching\n",
      "\n",
      "No value were found for the period and the project tested\n",
      "\n",
      "Test with model ec_earth3\n",
      "path_for_file does exist Function copernicus search for nc\n",
      "The file is in the path Function copernicus search for nc\n",
      "\n",
      "The final path for the nc file is: C:\\Users\\CLMRX\\OneDrive - COWI\\Documents\\GitHub\\CRVA_tool\\outputs\\Datasets\\surface_downwelling_shortwave_radiation\\CompleteMozambique\\ssp1_1_9\\ec_earth3\\2015-2099\\CMIP6-copernicus-GCM\\rsds_Amon_EC-Earth3_ssp119_r4i1p1f1_gr_20150116-20991216_v20200425.nc\n",
      "\n",
      " The final path for nc file exists ? True\n",
      "\n",
      "Registering the data in a dataframe\n",
      "\n",
      "Value were found for the period and the project tested\n",
      "\n",
      "Test with model ec_earth3_cc\n",
      "path_for_file does not exist: the data may not have been downloaded\n",
      "file_download does not exist: the data were not downloaded\n"
     ]
    },
    {
     "name": "stderr",
     "output_type": "stream",
     "text": [
      "2023-05-05 14:24:56,096 INFO Welcome to the CDS\n",
      "2023-05-05 14:24:56,098 INFO Sending request to https://cds.climate.copernicus.eu/api/v2/resources/projections-cmip6\n",
      "2023-05-05 14:24:56,149 INFO Request is queued\n",
      "2023-05-05 14:24:57,194 INFO Request is failed\n",
      "2023-05-05 14:24:57,196 ERROR Message: an internal error occurred processing your request\n",
      "2023-05-05 14:24:57,196 ERROR Reason:  No matching data for request {'experiment': 'ssp119', 'model': 'EC-Earth3-CC', 'temporal_resolution': 'mon', 'variable': 'rsds'}\n",
      "2023-05-05 14:24:57,197 ERROR   Traceback (most recent call last):\n",
      "2023-05-05 14:24:57,198 ERROR     File \"/opt/cdstoolbox/cdscompute/cdscompute/cdshandlers/services/handler.py\", line 59, in handle_request\n",
      "2023-05-05 14:24:57,198 ERROR       result = cached(context.method, proc, context, context.args, context.kwargs)\n",
      "2023-05-05 14:24:57,199 ERROR     File \"/opt/cdstoolbox/cdscompute/cdscompute/caching.py\", line 108, in cached\n",
      "2023-05-05 14:24:57,199 ERROR       result = proc(context, *context.args, **context.kwargs)\n",
      "2023-05-05 14:24:57,200 ERROR     File \"/opt/cdstoolbox/cdscompute/cdscompute/services.py\", line 124, in __call__\n",
      "2023-05-05 14:24:57,200 ERROR       return p(*args, **kwargs)\n",
      "2023-05-05 14:24:57,201 ERROR     File \"/opt/cdstoolbox/cdscompute/cdscompute/services.py\", line 60, in __call__\n",
      "2023-05-05 14:24:57,201 ERROR       return self.proc(context, *args, **kwargs)\n",
      "2023-05-05 14:24:57,203 ERROR     File \"/home/cds/cdsservices/services/esgf_wps/__init__.py\", line 30, in execute\n",
      "2023-05-05 14:24:57,203 ERROR       request_facets, request = facets.search(context, request)\n",
      "2023-05-05 14:24:57,204 ERROR     File \"/home/cds/cdsservices/services/esgf_wps/facets.py\", line 61, in search\n",
      "2023-05-05 14:24:57,205 ERROR       raise ValueError(f'No matching data for request {tmp_request}')\n",
      "2023-05-05 14:24:57,205 ERROR   ValueError: No matching data for request {'experiment': 'ssp119', 'model': 'EC-Earth3-CC', 'temporal_resolution': 'mon', 'variable': 'rsds'}\n"
     ]
    },
    {
     "name": "stdout",
     "output_type": "stream",
     "text": [
      "Some parameters are not matching\n",
      "\n",
      "No value were found for the period and the project tested\n",
      "\n",
      "Test with model ec_earth3_veg_lr\n",
      "path_for_file does exist Function copernicus search for nc\n",
      "The file is in the path Function copernicus search for nc\n",
      "\n",
      "The final path for the nc file is: C:\\Users\\CLMRX\\OneDrive - COWI\\Documents\\GitHub\\CRVA_tool\\outputs\\Datasets\\surface_downwelling_shortwave_radiation\\CompleteMozambique\\ssp1_1_9\\ec_earth3_veg_lr\\2015-2099\\CMIP6-copernicus-GCM\\rsds_Amon_EC-Earth3-Veg-LR_ssp119_r1i1p1f1_gr_20150116-20991216_v20201201.nc\n",
      "\n",
      " The final path for nc file exists ? True\n",
      "\n",
      "Registering the data in a dataframe\n",
      "\n",
      "Value were found for the period and the project tested\n",
      "\n",
      "Test with model fgoals_g3\n",
      "path_for_file does exist Function copernicus search for nc\n",
      "The file is in the path Function copernicus search for nc\n",
      "\n",
      "The final path for the nc file is: C:\\Users\\CLMRX\\OneDrive - COWI\\Documents\\GitHub\\CRVA_tool\\outputs\\Datasets\\surface_downwelling_shortwave_radiation\\CompleteMozambique\\ssp1_1_9\\fgoals_g3\\2015-2099\\CMIP6-copernicus-GCM\\rsds_Amon_FGOALS-g3_ssp119_r1i1p1f1_gn_20150116-20991216_v20200527.nc\n",
      "\n",
      " The final path for nc file exists ? True\n",
      "\n",
      "Registering the data in a dataframe\n",
      "\n",
      "Value were found for the period and the project tested\n",
      "\n",
      "Test with model gfdl_esm4\n",
      "path_for_file does exist Function copernicus search for nc\n",
      "The file is in the path Function copernicus search for nc\n",
      "\n",
      "The final path for the nc file is: C:\\Users\\CLMRX\\OneDrive - COWI\\Documents\\GitHub\\CRVA_tool\\outputs\\Datasets\\surface_downwelling_shortwave_radiation\\CompleteMozambique\\ssp1_1_9\\gfdl_esm4\\2015-2099\\CMIP6-copernicus-GCM\\rsds_Amon_GFDL-ESM4_ssp119_r1i1p1f1_gr1_20150116-20991216_v20180701.nc\n",
      "\n",
      " The final path for nc file exists ? True\n",
      "\n",
      "Registering the data in a dataframe\n",
      "\n",
      "Value were found for the period and the project tested\n",
      "\n",
      "Test with model giss_e2_1_h\n",
      "path_for_file does not exist: the data may not have been downloaded\n",
      "file_download does not exist: the data were not downloaded\n"
     ]
    },
    {
     "name": "stderr",
     "output_type": "stream",
     "text": [
      "2023-05-05 14:31:17,783 INFO Welcome to the CDS\n",
      "2023-05-05 14:31:17,784 INFO Sending request to https://cds.climate.copernicus.eu/api/v2/resources/projections-cmip6\n",
      "2023-05-05 14:31:17,836 INFO Request is queued\n",
      "2023-05-05 14:31:18,892 INFO Request is failed\n",
      "2023-05-05 14:31:18,892 ERROR Message: an internal error occurred processing your request\n",
      "2023-05-05 14:31:18,894 ERROR Reason:  No matching data for request {'experiment': 'ssp119', 'model': 'GISS-E2-1-H', 'temporal_resolution': 'mon', 'variable': 'rsds'}\n",
      "2023-05-05 14:31:18,894 ERROR   Traceback (most recent call last):\n",
      "2023-05-05 14:31:18,895 ERROR     File \"/opt/cdstoolbox/cdscompute/cdscompute/cdshandlers/services/handler.py\", line 59, in handle_request\n",
      "2023-05-05 14:31:18,896 ERROR       result = cached(context.method, proc, context, context.args, context.kwargs)\n",
      "2023-05-05 14:31:18,897 ERROR     File \"/opt/cdstoolbox/cdscompute/cdscompute/caching.py\", line 108, in cached\n",
      "2023-05-05 14:31:18,898 ERROR       result = proc(context, *context.args, **context.kwargs)\n",
      "2023-05-05 14:31:18,899 ERROR     File \"/opt/cdstoolbox/cdscompute/cdscompute/services.py\", line 124, in __call__\n",
      "2023-05-05 14:31:18,900 ERROR       return p(*args, **kwargs)\n",
      "2023-05-05 14:31:18,900 ERROR     File \"/opt/cdstoolbox/cdscompute/cdscompute/services.py\", line 60, in __call__\n",
      "2023-05-05 14:31:18,901 ERROR       return self.proc(context, *args, **kwargs)\n",
      "2023-05-05 14:31:18,901 ERROR     File \"/home/cds/cdsservices/services/esgf_wps/__init__.py\", line 30, in execute\n",
      "2023-05-05 14:31:18,902 ERROR       request_facets, request = facets.search(context, request)\n",
      "2023-05-05 14:31:18,902 ERROR     File \"/home/cds/cdsservices/services/esgf_wps/facets.py\", line 61, in search\n",
      "2023-05-05 14:31:18,903 ERROR       raise ValueError(f'No matching data for request {tmp_request}')\n",
      "2023-05-05 14:31:18,903 ERROR   ValueError: No matching data for request {'experiment': 'ssp119', 'model': 'GISS-E2-1-H', 'temporal_resolution': 'mon', 'variable': 'rsds'}\n",
      "2023-05-05 14:31:18,946 INFO Welcome to the CDS\n",
      "2023-05-05 14:31:18,948 INFO Sending request to https://cds.climate.copernicus.eu/api/v2/resources/projections-cmip6\n",
      "2023-05-05 14:31:19,026 INFO Request is queued\n"
     ]
    },
    {
     "name": "stdout",
     "output_type": "stream",
     "text": [
      "Some parameters are not matching\n",
      "\n",
      "No value were found for the period and the project tested\n",
      "\n",
      "Test with model hadgem3_gc31_mm\n",
      "path_for_file does not exist: the data may not have been downloaded\n",
      "file_download does not exist: the data were not downloaded\n"
     ]
    },
    {
     "name": "stderr",
     "output_type": "stream",
     "text": [
      "2023-05-05 14:31:20,073 INFO Request is failed\n",
      "2023-05-05 14:31:20,074 ERROR Message: an internal error occurred processing your request\n",
      "2023-05-05 14:31:20,075 ERROR Reason:  No matching data for request {'experiment': 'ssp119', 'model': 'HadGEM3-GC31-MM', 'temporal_resolution': 'mon', 'variable': 'rsds'}\n",
      "2023-05-05 14:31:20,077 ERROR   Traceback (most recent call last):\n",
      "2023-05-05 14:31:20,077 ERROR     File \"/opt/cdstoolbox/cdscompute/cdscompute/cdshandlers/services/handler.py\", line 59, in handle_request\n",
      "2023-05-05 14:31:20,079 ERROR       result = cached(context.method, proc, context, context.args, context.kwargs)\n",
      "2023-05-05 14:31:20,080 ERROR     File \"/opt/cdstoolbox/cdscompute/cdscompute/caching.py\", line 108, in cached\n",
      "2023-05-05 14:31:20,081 ERROR       result = proc(context, *context.args, **context.kwargs)\n",
      "2023-05-05 14:31:20,082 ERROR     File \"/opt/cdstoolbox/cdscompute/cdscompute/services.py\", line 124, in __call__\n",
      "2023-05-05 14:31:20,083 ERROR       return p(*args, **kwargs)\n",
      "2023-05-05 14:31:20,084 ERROR     File \"/opt/cdstoolbox/cdscompute/cdscompute/services.py\", line 60, in __call__\n",
      "2023-05-05 14:31:20,084 ERROR       return self.proc(context, *args, **kwargs)\n",
      "2023-05-05 14:31:20,085 ERROR     File \"/home/cds/cdsservices/services/esgf_wps/__init__.py\", line 30, in execute\n",
      "2023-05-05 14:31:20,085 ERROR       request_facets, request = facets.search(context, request)\n",
      "2023-05-05 14:31:20,086 ERROR     File \"/home/cds/cdsservices/services/esgf_wps/facets.py\", line 61, in search\n",
      "2023-05-05 14:31:20,087 ERROR       raise ValueError(f'No matching data for request {tmp_request}')\n",
      "2023-05-05 14:31:20,087 ERROR   ValueError: No matching data for request {'experiment': 'ssp119', 'model': 'HadGEM3-GC31-MM', 'temporal_resolution': 'mon', 'variable': 'rsds'}\n",
      "2023-05-05 14:31:20,133 INFO Welcome to the CDS\n",
      "2023-05-05 14:31:20,134 INFO Sending request to https://cds.climate.copernicus.eu/api/v2/resources/projections-cmip6\n",
      "2023-05-05 14:31:20,198 INFO Request is queued\n"
     ]
    },
    {
     "name": "stdout",
     "output_type": "stream",
     "text": [
      "Some parameters are not matching\n",
      "\n",
      "No value were found for the period and the project tested\n",
      "\n",
      "Test with model inm_cm4_8\n",
      "path_for_file does not exist: the data may not have been downloaded\n",
      "file_download does not exist: the data were not downloaded\n"
     ]
    },
    {
     "name": "stderr",
     "output_type": "stream",
     "text": [
      "2023-05-05 14:31:21,250 INFO Request is failed\n",
      "2023-05-05 14:31:21,251 ERROR Message: an internal error occurred processing your request\n",
      "2023-05-05 14:31:21,252 ERROR Reason:  No matching data for request {'experiment': 'ssp119', 'model': 'INM-CM4-8', 'temporal_resolution': 'mon', 'variable': 'rsds'}\n",
      "2023-05-05 14:31:21,253 ERROR   Traceback (most recent call last):\n",
      "2023-05-05 14:31:21,254 ERROR     File \"/opt/cdstoolbox/cdscompute/cdscompute/cdshandlers/services/handler.py\", line 59, in handle_request\n",
      "2023-05-05 14:31:21,255 ERROR       result = cached(context.method, proc, context, context.args, context.kwargs)\n",
      "2023-05-05 14:31:21,255 ERROR     File \"/opt/cdstoolbox/cdscompute/cdscompute/caching.py\", line 108, in cached\n",
      "2023-05-05 14:31:21,256 ERROR       result = proc(context, *context.args, **context.kwargs)\n",
      "2023-05-05 14:31:21,256 ERROR     File \"/opt/cdstoolbox/cdscompute/cdscompute/services.py\", line 124, in __call__\n",
      "2023-05-05 14:31:21,257 ERROR       return p(*args, **kwargs)\n",
      "2023-05-05 14:31:21,257 ERROR     File \"/opt/cdstoolbox/cdscompute/cdscompute/services.py\", line 60, in __call__\n",
      "2023-05-05 14:31:21,258 ERROR       return self.proc(context, *args, **kwargs)\n",
      "2023-05-05 14:31:21,258 ERROR     File \"/home/cds/cdsservices/services/esgf_wps/__init__.py\", line 30, in execute\n",
      "2023-05-05 14:31:21,258 ERROR       request_facets, request = facets.search(context, request)\n",
      "2023-05-05 14:31:21,259 ERROR     File \"/home/cds/cdsservices/services/esgf_wps/facets.py\", line 61, in search\n",
      "2023-05-05 14:31:21,259 ERROR       raise ValueError(f'No matching data for request {tmp_request}')\n",
      "2023-05-05 14:31:21,260 ERROR   ValueError: No matching data for request {'experiment': 'ssp119', 'model': 'INM-CM4-8', 'temporal_resolution': 'mon', 'variable': 'rsds'}\n",
      "2023-05-05 14:31:21,304 INFO Welcome to the CDS\n",
      "2023-05-05 14:31:21,305 INFO Sending request to https://cds.climate.copernicus.eu/api/v2/resources/projections-cmip6\n",
      "2023-05-05 14:31:21,354 INFO Request is queued\n"
     ]
    },
    {
     "name": "stdout",
     "output_type": "stream",
     "text": [
      "Some parameters are not matching\n",
      "\n",
      "No value were found for the period and the project tested\n",
      "\n",
      "Test with model ipsl_cm5a2_inca\n",
      "path_for_file does not exist: the data may not have been downloaded\n",
      "file_download does not exist: the data were not downloaded\n"
     ]
    },
    {
     "name": "stderr",
     "output_type": "stream",
     "text": [
      "2023-05-05 14:31:22,400 INFO Request is failed\n",
      "2023-05-05 14:31:22,401 ERROR Message: an internal error occurred processing your request\n",
      "2023-05-05 14:31:22,402 ERROR Reason:  No matching data for request {'experiment': 'ssp119', 'model': 'IPSL-CM5A2-INCA', 'temporal_resolution': 'mon', 'variable': 'rsds'}\n",
      "2023-05-05 14:31:22,403 ERROR   Traceback (most recent call last):\n",
      "2023-05-05 14:31:22,403 ERROR     File \"/opt/cdstoolbox/cdscompute/cdscompute/cdshandlers/services/handler.py\", line 59, in handle_request\n",
      "2023-05-05 14:31:22,404 ERROR       result = cached(context.method, proc, context, context.args, context.kwargs)\n",
      "2023-05-05 14:31:22,404 ERROR     File \"/opt/cdstoolbox/cdscompute/cdscompute/caching.py\", line 108, in cached\n",
      "2023-05-05 14:31:22,405 ERROR       result = proc(context, *context.args, **context.kwargs)\n",
      "2023-05-05 14:31:22,405 ERROR     File \"/opt/cdstoolbox/cdscompute/cdscompute/services.py\", line 124, in __call__\n",
      "2023-05-05 14:31:22,406 ERROR       return p(*args, **kwargs)\n",
      "2023-05-05 14:31:22,406 ERROR     File \"/opt/cdstoolbox/cdscompute/cdscompute/services.py\", line 60, in __call__\n",
      "2023-05-05 14:31:22,406 ERROR       return self.proc(context, *args, **kwargs)\n",
      "2023-05-05 14:31:22,407 ERROR     File \"/home/cds/cdsservices/services/esgf_wps/__init__.py\", line 30, in execute\n",
      "2023-05-05 14:31:22,407 ERROR       request_facets, request = facets.search(context, request)\n",
      "2023-05-05 14:31:22,407 ERROR     File \"/home/cds/cdsservices/services/esgf_wps/facets.py\", line 61, in search\n",
      "2023-05-05 14:31:22,408 ERROR       raise ValueError(f'No matching data for request {tmp_request}')\n",
      "2023-05-05 14:31:22,409 ERROR   ValueError: No matching data for request {'experiment': 'ssp119', 'model': 'IPSL-CM5A2-INCA', 'temporal_resolution': 'mon', 'variable': 'rsds'}\n",
      "2023-05-05 14:31:22,454 INFO Welcome to the CDS\n",
      "2023-05-05 14:31:22,455 INFO Sending request to https://cds.climate.copernicus.eu/api/v2/resources/projections-cmip6\n",
      "2023-05-05 14:31:22,503 INFO Request is queued\n"
     ]
    },
    {
     "name": "stdout",
     "output_type": "stream",
     "text": [
      "Some parameters are not matching\n",
      "\n",
      "No value were found for the period and the project tested\n",
      "\n",
      "Test with model kace_1_0_g\n",
      "path_for_file does not exist: the data may not have been downloaded\n",
      "file_download does not exist: the data were not downloaded\n"
     ]
    },
    {
     "name": "stderr",
     "output_type": "stream",
     "text": [
      "2023-05-05 14:31:23,555 INFO Request is failed\n",
      "2023-05-05 14:31:23,556 ERROR Message: an internal error occurred processing your request\n",
      "2023-05-05 14:31:23,557 ERROR Reason:  No matching data for request {'experiment': 'ssp119', 'model': 'KACE-1-0-G', 'temporal_resolution': 'mon', 'variable': 'rsds'}\n",
      "2023-05-05 14:31:23,558 ERROR   Traceback (most recent call last):\n",
      "2023-05-05 14:31:23,559 ERROR     File \"/opt/cdstoolbox/cdscompute/cdscompute/cdshandlers/services/handler.py\", line 59, in handle_request\n",
      "2023-05-05 14:31:23,559 ERROR       result = cached(context.method, proc, context, context.args, context.kwargs)\n",
      "2023-05-05 14:31:23,560 ERROR     File \"/opt/cdstoolbox/cdscompute/cdscompute/caching.py\", line 108, in cached\n",
      "2023-05-05 14:31:23,561 ERROR       result = proc(context, *context.args, **context.kwargs)\n",
      "2023-05-05 14:31:23,561 ERROR     File \"/opt/cdstoolbox/cdscompute/cdscompute/services.py\", line 124, in __call__\n",
      "2023-05-05 14:31:23,562 ERROR       return p(*args, **kwargs)\n",
      "2023-05-05 14:31:23,562 ERROR     File \"/opt/cdstoolbox/cdscompute/cdscompute/services.py\", line 60, in __call__\n",
      "2023-05-05 14:31:23,563 ERROR       return self.proc(context, *args, **kwargs)\n",
      "2023-05-05 14:31:23,564 ERROR     File \"/home/cds/cdsservices/services/esgf_wps/__init__.py\", line 30, in execute\n",
      "2023-05-05 14:31:23,564 ERROR       request_facets, request = facets.search(context, request)\n",
      "2023-05-05 14:31:23,565 ERROR     File \"/home/cds/cdsservices/services/esgf_wps/facets.py\", line 61, in search\n",
      "2023-05-05 14:31:23,565 ERROR       raise ValueError(f'No matching data for request {tmp_request}')\n",
      "2023-05-05 14:31:23,566 ERROR   ValueError: No matching data for request {'experiment': 'ssp119', 'model': 'KACE-1-0-G', 'temporal_resolution': 'mon', 'variable': 'rsds'}\n",
      "2023-05-05 14:31:23,610 INFO Welcome to the CDS\n",
      "2023-05-05 14:31:23,612 INFO Sending request to https://cds.climate.copernicus.eu/api/v2/resources/projections-cmip6\n",
      "2023-05-05 14:31:23,695 INFO Request is queued\n"
     ]
    },
    {
     "name": "stdout",
     "output_type": "stream",
     "text": [
      "Some parameters are not matching\n",
      "\n",
      "No value were found for the period and the project tested\n",
      "\n",
      "Test with model mcm_ua_1_0\n",
      "path_for_file does not exist: the data may not have been downloaded\n",
      "file_download does not exist: the data were not downloaded\n"
     ]
    },
    {
     "name": "stderr",
     "output_type": "stream",
     "text": [
      "2023-05-05 14:31:24,742 INFO Request is failed\n",
      "2023-05-05 14:31:24,743 ERROR Message: an internal error occurred processing your request\n",
      "2023-05-05 14:31:24,744 ERROR Reason:  No matching data for request {'experiment': 'ssp119', 'model': 'MCM-UA-1-0', 'temporal_resolution': 'mon', 'variable': 'rsds'}\n",
      "2023-05-05 14:31:24,744 ERROR   Traceback (most recent call last):\n",
      "2023-05-05 14:31:24,744 ERROR     File \"/opt/cdstoolbox/cdscompute/cdscompute/cdshandlers/services/handler.py\", line 59, in handle_request\n",
      "2023-05-05 14:31:24,745 ERROR       result = cached(context.method, proc, context, context.args, context.kwargs)\n",
      "2023-05-05 14:31:24,746 ERROR     File \"/opt/cdstoolbox/cdscompute/cdscompute/caching.py\", line 108, in cached\n",
      "2023-05-05 14:31:24,747 ERROR       result = proc(context, *context.args, **context.kwargs)\n",
      "2023-05-05 14:31:24,747 ERROR     File \"/opt/cdstoolbox/cdscompute/cdscompute/services.py\", line 124, in __call__\n",
      "2023-05-05 14:31:24,748 ERROR       return p(*args, **kwargs)\n",
      "2023-05-05 14:31:24,748 ERROR     File \"/opt/cdstoolbox/cdscompute/cdscompute/services.py\", line 60, in __call__\n",
      "2023-05-05 14:31:24,749 ERROR       return self.proc(context, *args, **kwargs)\n",
      "2023-05-05 14:31:24,749 ERROR     File \"/home/cds/cdsservices/services/esgf_wps/__init__.py\", line 30, in execute\n",
      "2023-05-05 14:31:24,750 ERROR       request_facets, request = facets.search(context, request)\n",
      "2023-05-05 14:31:24,751 ERROR     File \"/home/cds/cdsservices/services/esgf_wps/facets.py\", line 61, in search\n",
      "2023-05-05 14:31:24,751 ERROR       raise ValueError(f'No matching data for request {tmp_request}')\n",
      "2023-05-05 14:31:24,752 ERROR   ValueError: No matching data for request {'experiment': 'ssp119', 'model': 'MCM-UA-1-0', 'temporal_resolution': 'mon', 'variable': 'rsds'}\n",
      "2023-05-05 14:31:24,793 INFO Welcome to the CDS\n",
      "2023-05-05 14:31:24,794 INFO Sending request to https://cds.climate.copernicus.eu/api/v2/resources/projections-cmip6\n",
      "2023-05-05 14:31:24,843 INFO Request is queued\n"
     ]
    },
    {
     "name": "stdout",
     "output_type": "stream",
     "text": [
      "Some parameters are not matching\n",
      "\n",
      "No value were found for the period and the project tested\n",
      "\n",
      "Test with model miroc_es2h\n",
      "path_for_file does not exist: the data may not have been downloaded\n",
      "file_download does not exist: the data were not downloaded\n"
     ]
    },
    {
     "name": "stderr",
     "output_type": "stream",
     "text": [
      "2023-05-05 14:31:25,901 INFO Request is failed\n",
      "2023-05-05 14:31:25,902 ERROR Message: an internal error occurred processing your request\n",
      "2023-05-05 14:31:25,902 ERROR Reason:  No matching data for request {'experiment': 'ssp119', 'model': 'MIROC-ES2H', 'temporal_resolution': 'mon', 'variable': 'rsds'}\n",
      "2023-05-05 14:31:25,903 ERROR   Traceback (most recent call last):\n",
      "2023-05-05 14:31:25,903 ERROR     File \"/opt/cdstoolbox/cdscompute/cdscompute/cdshandlers/services/handler.py\", line 59, in handle_request\n",
      "2023-05-05 14:31:25,904 ERROR       result = cached(context.method, proc, context, context.args, context.kwargs)\n",
      "2023-05-05 14:31:25,905 ERROR     File \"/opt/cdstoolbox/cdscompute/cdscompute/caching.py\", line 108, in cached\n",
      "2023-05-05 14:31:25,905 ERROR       result = proc(context, *context.args, **context.kwargs)\n",
      "2023-05-05 14:31:25,905 ERROR     File \"/opt/cdstoolbox/cdscompute/cdscompute/services.py\", line 124, in __call__\n",
      "2023-05-05 14:31:25,906 ERROR       return p(*args, **kwargs)\n",
      "2023-05-05 14:31:25,906 ERROR     File \"/opt/cdstoolbox/cdscompute/cdscompute/services.py\", line 60, in __call__\n",
      "2023-05-05 14:31:25,907 ERROR       return self.proc(context, *args, **kwargs)\n",
      "2023-05-05 14:31:25,907 ERROR     File \"/home/cds/cdsservices/services/esgf_wps/__init__.py\", line 30, in execute\n",
      "2023-05-05 14:31:25,908 ERROR       request_facets, request = facets.search(context, request)\n",
      "2023-05-05 14:31:25,908 ERROR     File \"/home/cds/cdsservices/services/esgf_wps/facets.py\", line 61, in search\n",
      "2023-05-05 14:31:25,908 ERROR       raise ValueError(f'No matching data for request {tmp_request}')\n",
      "2023-05-05 14:31:25,910 ERROR   ValueError: No matching data for request {'experiment': 'ssp119', 'model': 'MIROC-ES2H', 'temporal_resolution': 'mon', 'variable': 'rsds'}\n",
      "2023-05-05 14:31:25,954 INFO Welcome to the CDS\n",
      "2023-05-05 14:31:25,955 INFO Sending request to https://cds.climate.copernicus.eu/api/v2/resources/projections-cmip6\n",
      "2023-05-05 14:31:26,003 INFO Request is queued\n"
     ]
    },
    {
     "name": "stdout",
     "output_type": "stream",
     "text": [
      "Some parameters are not matching\n",
      "\n",
      "No value were found for the period and the project tested\n",
      "\n",
      "Test with model mpi_esm_1_2_ham\n",
      "path_for_file does not exist: the data may not have been downloaded\n",
      "file_download does not exist: the data were not downloaded\n"
     ]
    },
    {
     "name": "stderr",
     "output_type": "stream",
     "text": [
      "2023-05-05 14:31:27,059 INFO Request is failed\n",
      "2023-05-05 14:31:27,060 ERROR Message: an internal error occurred processing your request\n",
      "2023-05-05 14:31:27,061 ERROR Reason:  No matching data for request {'experiment': 'ssp119', 'model': 'MPI-ESM-1-2-HAM', 'temporal_resolution': 'mon', 'variable': 'rsds'}\n",
      "2023-05-05 14:31:27,062 ERROR   Traceback (most recent call last):\n",
      "2023-05-05 14:31:27,063 ERROR     File \"/opt/cdstoolbox/cdscompute/cdscompute/cdshandlers/services/handler.py\", line 59, in handle_request\n",
      "2023-05-05 14:31:27,064 ERROR       result = cached(context.method, proc, context, context.args, context.kwargs)\n",
      "2023-05-05 14:31:27,064 ERROR     File \"/opt/cdstoolbox/cdscompute/cdscompute/caching.py\", line 108, in cached\n",
      "2023-05-05 14:31:27,065 ERROR       result = proc(context, *context.args, **context.kwargs)\n",
      "2023-05-05 14:31:27,066 ERROR     File \"/opt/cdstoolbox/cdscompute/cdscompute/services.py\", line 124, in __call__\n",
      "2023-05-05 14:31:27,066 ERROR       return p(*args, **kwargs)\n",
      "2023-05-05 14:31:27,067 ERROR     File \"/opt/cdstoolbox/cdscompute/cdscompute/services.py\", line 60, in __call__\n",
      "2023-05-05 14:31:27,068 ERROR       return self.proc(context, *args, **kwargs)\n",
      "2023-05-05 14:31:27,068 ERROR     File \"/home/cds/cdsservices/services/esgf_wps/__init__.py\", line 30, in execute\n",
      "2023-05-05 14:31:27,069 ERROR       request_facets, request = facets.search(context, request)\n",
      "2023-05-05 14:31:27,069 ERROR     File \"/home/cds/cdsservices/services/esgf_wps/facets.py\", line 61, in search\n",
      "2023-05-05 14:31:27,070 ERROR       raise ValueError(f'No matching data for request {tmp_request}')\n",
      "2023-05-05 14:31:27,070 ERROR   ValueError: No matching data for request {'experiment': 'ssp119', 'model': 'MPI-ESM-1-2-HAM', 'temporal_resolution': 'mon', 'variable': 'rsds'}\n",
      "2023-05-05 14:31:27,110 INFO Welcome to the CDS\n",
      "2023-05-05 14:31:27,111 INFO Sending request to https://cds.climate.copernicus.eu/api/v2/resources/projections-cmip6\n",
      "2023-05-05 14:31:27,162 INFO Request is queued\n"
     ]
    },
    {
     "name": "stdout",
     "output_type": "stream",
     "text": [
      "Some parameters are not matching\n",
      "\n",
      "No value were found for the period and the project tested\n",
      "\n",
      "Test with model mpi_esm1_2_lr\n",
      "path_for_file does not exist: the data may not have been downloaded\n",
      "file_download does not exist: the data were not downloaded\n"
     ]
    },
    {
     "name": "stderr",
     "output_type": "stream",
     "text": [
      "2023-05-05 14:31:28,218 INFO Request is failed\n",
      "2023-05-05 14:31:28,219 ERROR Message: an internal error occurred processing your request\n",
      "2023-05-05 14:31:28,219 ERROR Reason:  No matching data for request {'experiment': 'ssp119', 'model': 'MPI-ESM1-2-LR', 'temporal_resolution': 'mon', 'variable': 'rsds'}\n",
      "2023-05-05 14:31:28,220 ERROR   Traceback (most recent call last):\n",
      "2023-05-05 14:31:28,221 ERROR     File \"/opt/cdstoolbox/cdscompute/cdscompute/cdshandlers/services/handler.py\", line 59, in handle_request\n",
      "2023-05-05 14:31:28,222 ERROR       result = cached(context.method, proc, context, context.args, context.kwargs)\n",
      "2023-05-05 14:31:28,223 ERROR     File \"/opt/cdstoolbox/cdscompute/cdscompute/caching.py\", line 108, in cached\n",
      "2023-05-05 14:31:28,223 ERROR       result = proc(context, *context.args, **context.kwargs)\n",
      "2023-05-05 14:31:28,224 ERROR     File \"/opt/cdstoolbox/cdscompute/cdscompute/services.py\", line 124, in __call__\n",
      "2023-05-05 14:31:28,224 ERROR       return p(*args, **kwargs)\n",
      "2023-05-05 14:31:28,224 ERROR     File \"/opt/cdstoolbox/cdscompute/cdscompute/services.py\", line 60, in __call__\n",
      "2023-05-05 14:31:28,225 ERROR       return self.proc(context, *args, **kwargs)\n",
      "2023-05-05 14:31:28,226 ERROR     File \"/home/cds/cdsservices/services/esgf_wps/__init__.py\", line 30, in execute\n",
      "2023-05-05 14:31:28,226 ERROR       request_facets, request = facets.search(context, request)\n",
      "2023-05-05 14:31:28,227 ERROR     File \"/home/cds/cdsservices/services/esgf_wps/facets.py\", line 61, in search\n",
      "2023-05-05 14:31:28,227 ERROR       raise ValueError(f'No matching data for request {tmp_request}')\n",
      "2023-05-05 14:31:28,229 ERROR   ValueError: No matching data for request {'experiment': 'ssp119', 'model': 'MPI-ESM1-2-LR', 'temporal_resolution': 'mon', 'variable': 'rsds'}\n",
      "2023-05-05 14:31:28,270 INFO Welcome to the CDS\n",
      "2023-05-05 14:31:28,271 INFO Sending request to https://cds.climate.copernicus.eu/api/v2/resources/projections-cmip6\n",
      "2023-05-05 14:31:28,332 INFO Request is queued\n"
     ]
    },
    {
     "name": "stdout",
     "output_type": "stream",
     "text": [
      "Some parameters are not matching\n",
      "\n",
      "No value were found for the period and the project tested\n",
      "\n",
      "Test with model nesm3\n",
      "path_for_file does not exist: the data may not have been downloaded\n",
      "file_download does not exist: the data were not downloaded\n"
     ]
    },
    {
     "name": "stderr",
     "output_type": "stream",
     "text": [
      "2023-05-05 14:31:29,380 INFO Request is failed\n",
      "2023-05-05 14:31:29,381 ERROR Message: an internal error occurred processing your request\n",
      "2023-05-05 14:31:29,381 ERROR Reason:  No matching data for request {'experiment': 'ssp119', 'model': 'NESM3', 'temporal_resolution': 'mon', 'variable': 'rsds'}\n",
      "2023-05-05 14:31:29,382 ERROR   Traceback (most recent call last):\n",
      "2023-05-05 14:31:29,382 ERROR     File \"/opt/cdstoolbox/cdscompute/cdscompute/cdshandlers/services/handler.py\", line 59, in handle_request\n",
      "2023-05-05 14:31:29,383 ERROR       result = cached(context.method, proc, context, context.args, context.kwargs)\n",
      "2023-05-05 14:31:29,384 ERROR     File \"/opt/cdstoolbox/cdscompute/cdscompute/caching.py\", line 108, in cached\n",
      "2023-05-05 14:31:29,385 ERROR       result = proc(context, *context.args, **context.kwargs)\n",
      "2023-05-05 14:31:29,386 ERROR     File \"/opt/cdstoolbox/cdscompute/cdscompute/services.py\", line 124, in __call__\n",
      "2023-05-05 14:31:29,386 ERROR       return p(*args, **kwargs)\n",
      "2023-05-05 14:31:29,386 ERROR     File \"/opt/cdstoolbox/cdscompute/cdscompute/services.py\", line 60, in __call__\n",
      "2023-05-05 14:31:29,387 ERROR       return self.proc(context, *args, **kwargs)\n",
      "2023-05-05 14:31:29,387 ERROR     File \"/home/cds/cdsservices/services/esgf_wps/__init__.py\", line 30, in execute\n",
      "2023-05-05 14:31:29,387 ERROR       request_facets, request = facets.search(context, request)\n",
      "2023-05-05 14:31:29,388 ERROR     File \"/home/cds/cdsservices/services/esgf_wps/facets.py\", line 61, in search\n",
      "2023-05-05 14:31:29,389 ERROR       raise ValueError(f'No matching data for request {tmp_request}')\n",
      "2023-05-05 14:31:29,389 ERROR   ValueError: No matching data for request {'experiment': 'ssp119', 'model': 'NESM3', 'temporal_resolution': 'mon', 'variable': 'rsds'}\n",
      "2023-05-05 14:31:29,432 INFO Welcome to the CDS\n",
      "2023-05-05 14:31:29,433 INFO Sending request to https://cds.climate.copernicus.eu/api/v2/resources/projections-cmip6\n",
      "2023-05-05 14:31:29,494 INFO Request is queued\n"
     ]
    },
    {
     "name": "stdout",
     "output_type": "stream",
     "text": [
      "Some parameters are not matching\n",
      "\n",
      "No value were found for the period and the project tested\n",
      "\n",
      "Test with model noresm2_lm\n",
      "path_for_file does not exist: the data may not have been downloaded\n",
      "file_download does not exist: the data were not downloaded\n"
     ]
    },
    {
     "name": "stderr",
     "output_type": "stream",
     "text": [
      "2023-05-05 14:31:30,542 INFO Request is failed\n",
      "2023-05-05 14:31:30,542 ERROR Message: an internal error occurred processing your request\n",
      "2023-05-05 14:31:30,543 ERROR Reason:  No matching data for request {'experiment': 'ssp119', 'model': 'NorESM2-LM', 'temporal_resolution': 'mon', 'variable': 'rsds'}\n",
      "2023-05-05 14:31:30,544 ERROR   Traceback (most recent call last):\n",
      "2023-05-05 14:31:30,545 ERROR     File \"/opt/cdstoolbox/cdscompute/cdscompute/cdshandlers/services/handler.py\", line 59, in handle_request\n",
      "2023-05-05 14:31:30,546 ERROR       result = cached(context.method, proc, context, context.args, context.kwargs)\n",
      "2023-05-05 14:31:30,547 ERROR     File \"/opt/cdstoolbox/cdscompute/cdscompute/caching.py\", line 108, in cached\n",
      "2023-05-05 14:31:30,548 ERROR       result = proc(context, *context.args, **context.kwargs)\n",
      "2023-05-05 14:31:30,548 ERROR     File \"/opt/cdstoolbox/cdscompute/cdscompute/services.py\", line 124, in __call__\n",
      "2023-05-05 14:31:30,549 ERROR       return p(*args, **kwargs)\n",
      "2023-05-05 14:31:30,550 ERROR     File \"/opt/cdstoolbox/cdscompute/cdscompute/services.py\", line 60, in __call__\n",
      "2023-05-05 14:31:30,550 ERROR       return self.proc(context, *args, **kwargs)\n",
      "2023-05-05 14:31:30,551 ERROR     File \"/home/cds/cdsservices/services/esgf_wps/__init__.py\", line 30, in execute\n",
      "2023-05-05 14:31:30,551 ERROR       request_facets, request = facets.search(context, request)\n",
      "2023-05-05 14:31:30,552 ERROR     File \"/home/cds/cdsservices/services/esgf_wps/facets.py\", line 61, in search\n",
      "2023-05-05 14:31:30,552 ERROR       raise ValueError(f'No matching data for request {tmp_request}')\n",
      "2023-05-05 14:31:30,553 ERROR   ValueError: No matching data for request {'experiment': 'ssp119', 'model': 'NorESM2-LM', 'temporal_resolution': 'mon', 'variable': 'rsds'}\n",
      "2023-05-05 14:31:30,596 INFO Welcome to the CDS\n",
      "2023-05-05 14:31:30,599 INFO Sending request to https://cds.climate.copernicus.eu/api/v2/resources/projections-cmip6\n",
      "2023-05-05 14:31:30,658 INFO Request is queued\n"
     ]
    },
    {
     "name": "stdout",
     "output_type": "stream",
     "text": [
      "Some parameters are not matching\n",
      "\n",
      "No value were found for the period and the project tested\n",
      "\n",
      "Test with model sam0_unicon\n",
      "path_for_file does not exist: the data may not have been downloaded\n",
      "file_download does not exist: the data were not downloaded\n"
     ]
    },
    {
     "name": "stderr",
     "output_type": "stream",
     "text": [
      "2023-05-05 14:31:31,714 INFO Request is failed\n",
      "2023-05-05 14:31:31,714 ERROR Message: an internal error occurred processing your request\n",
      "2023-05-05 14:31:31,715 ERROR Reason:  No matching data for request {'experiment': 'ssp119', 'model': 'SAM0-UNICON', 'temporal_resolution': 'mon', 'variable': 'rsds'}\n",
      "2023-05-05 14:31:31,717 ERROR   Traceback (most recent call last):\n",
      "2023-05-05 14:31:31,717 ERROR     File \"/opt/cdstoolbox/cdscompute/cdscompute/cdshandlers/services/handler.py\", line 59, in handle_request\n",
      "2023-05-05 14:31:31,718 ERROR       result = cached(context.method, proc, context, context.args, context.kwargs)\n",
      "2023-05-05 14:31:31,719 ERROR     File \"/opt/cdstoolbox/cdscompute/cdscompute/caching.py\", line 108, in cached\n",
      "2023-05-05 14:31:31,719 ERROR       result = proc(context, *context.args, **context.kwargs)\n",
      "2023-05-05 14:31:31,720 ERROR     File \"/opt/cdstoolbox/cdscompute/cdscompute/services.py\", line 124, in __call__\n",
      "2023-05-05 14:31:31,721 ERROR       return p(*args, **kwargs)\n",
      "2023-05-05 14:31:31,722 ERROR     File \"/opt/cdstoolbox/cdscompute/cdscompute/services.py\", line 60, in __call__\n",
      "2023-05-05 14:31:31,723 ERROR       return self.proc(context, *args, **kwargs)\n",
      "2023-05-05 14:31:31,723 ERROR     File \"/home/cds/cdsservices/services/esgf_wps/__init__.py\", line 30, in execute\n",
      "2023-05-05 14:31:31,724 ERROR       request_facets, request = facets.search(context, request)\n",
      "2023-05-05 14:31:31,724 ERROR     File \"/home/cds/cdsservices/services/esgf_wps/facets.py\", line 61, in search\n",
      "2023-05-05 14:31:31,725 ERROR       raise ValueError(f'No matching data for request {tmp_request}')\n",
      "2023-05-05 14:31:31,725 ERROR   ValueError: No matching data for request {'experiment': 'ssp119', 'model': 'SAM0-UNICON', 'temporal_resolution': 'mon', 'variable': 'rsds'}\n",
      "2023-05-05 14:31:31,773 INFO Welcome to the CDS\n",
      "2023-05-05 14:31:31,773 INFO Sending request to https://cds.climate.copernicus.eu/api/v2/resources/projections-cmip6\n",
      "2023-05-05 14:31:31,834 INFO Request is queued\n"
     ]
    },
    {
     "name": "stdout",
     "output_type": "stream",
     "text": [
      "Some parameters are not matching\n",
      "\n",
      "No value were found for the period and the project tested\n",
      "\n",
      "Test with model ukesm1_0_ll\n",
      "path_for_file does not exist: the data may not have been downloaded\n",
      "file_download does not exist: the data were not downloaded\n"
     ]
    },
    {
     "name": "stderr",
     "output_type": "stream",
     "text": [
      "2023-05-05 14:31:32,888 INFO Request is running\n",
      "2023-05-05 14:31:45,292 INFO Request is completed\n",
      "2023-05-05 14:31:45,294 INFO Downloading https://download-0020.copernicus-climate.eu/cache-compute-0020/cache/data6/adaptor.esgf_wps.retrieve-1683289902.5030003-26297-19-c8d0d0d1-5177-4742-a9da-099e6070db76.zip to download.zip (1.1M)\n",
      "2023-05-05 14:31:46,172 INFO Download rate 1.3M/s                                                                      \n"
     ]
    },
    {
     "name": "stdout",
     "output_type": "stream",
     "text": [
      "\n",
      " The downloaded file is extracted\n",
      "path_for_file does exist Function copernicus search for nc\n",
      "The file is in the path Function copernicus search for nc\n",
      "\n",
      "The final path for the nc file is: C:\\Users\\CLMRX\\OneDrive - COWI\\Documents\\GitHub\\CRVA_tool\\outputs\\Datasets\\surface_downwelling_shortwave_radiation\\CompleteMozambique\\ssp1_1_9\\ukesm1_0_ll\\2015-2099\\CMIP6-copernicus-GCM\\rsds_Amon_UKESM1-0-LL_ssp119_r1i1p1f2_gn_20150116-20991216_v20190830.nc\n",
      "\n",
      " The final path for nc file exists ? True\n",
      "\n",
      "\n",
      "\n",
      "---------------  Path to nc file exists ?? ---------------\n",
      "\n",
      "False\n",
      "\n",
      "\n",
      "Registering the data in a dataframe\n",
      "\n",
      "Value were found for the period and the project tested\n",
      "\n",
      "Test with scenario ssp1_2_6\n",
      "Test with model access_cm2\n",
      "path_for_file does not exist: the data may not have been downloaded\n",
      "file_download does not exist: the data were not downloaded\n"
     ]
    },
    {
     "name": "stderr",
     "output_type": "stream",
     "text": [
      "2023-05-05 14:34:16,618 INFO Welcome to the CDS\n",
      "2023-05-05 14:34:16,620 INFO Sending request to https://cds.climate.copernicus.eu/api/v2/resources/projections-cmip6\n",
      "2023-05-05 14:34:16,672 INFO Request is queued\n",
      "2023-05-05 14:34:17,730 INFO Request is running\n",
      "2023-05-05 14:34:37,783 INFO Request is completed\n",
      "2023-05-05 14:34:37,784 INFO Downloading https://download-0011-clone.copernicus-climate.eu/cache-compute-0011/cache/data2/adaptor.esgf_wps.retrieve-1683290070.4509134-19709-13-30851c7e-fd4b-4dce-a139-ef396c98110b.zip to download.zip (1.5M)\n",
      "2023-05-05 14:34:38,603 INFO Download rate 1.8M/s                                                                      \n"
     ]
    },
    {
     "name": "stdout",
     "output_type": "stream",
     "text": [
      "\n",
      " The downloaded file is extracted\n",
      "path_for_file does exist Function copernicus search for nc\n",
      "The file is in the path Function copernicus search for nc\n",
      "\n",
      "The final path for the nc file is: C:\\Users\\CLMRX\\OneDrive - COWI\\Documents\\GitHub\\CRVA_tool\\outputs\\Datasets\\surface_downwelling_shortwave_radiation\\CompleteMozambique\\ssp1_2_6\\access_cm2\\2015-2099\\CMIP6-copernicus-GCM\\rsds_Amon_ACCESS-CM2_ssp126_r1i1p1f1_gn_20150116-20991216_v20191108.nc\n",
      "\n",
      " The final path for nc file exists ? True\n",
      "\n",
      "\n",
      "\n",
      "---------------  Path to nc file exists ?? ---------------\n",
      "\n",
      "False\n",
      "\n",
      "\n",
      "Registering the data in a dataframe\n",
      "\n",
      "Value were found for the period and the project tested\n",
      "\n",
      "Test with model awi_cm_1_1_mr\n",
      "path_for_file does not exist: the data may not have been downloaded\n",
      "file_download does not exist: the data were not downloaded\n"
     ]
    },
    {
     "name": "stderr",
     "output_type": "stream",
     "text": [
      "2023-05-05 14:37:23,624 INFO Welcome to the CDS\n",
      "2023-05-05 14:37:23,625 INFO Sending request to https://cds.climate.copernicus.eu/api/v2/resources/projections-cmip6\n",
      "2023-05-05 14:37:23,704 INFO Request is queued\n",
      "2023-05-05 14:37:24,769 INFO Request is running\n",
      "2023-05-05 14:37:56,244 INFO Request is completed\n",
      "2023-05-05 14:37:56,245 INFO Downloading https://download-0020.copernicus-climate.eu/cache-compute-0020/cache/data5/adaptor.esgf_wps.retrieve-1683290267.065495-30975-16-ed0bcb85-7cd2-4f41-9c85-dda9810c23bd.zip to download.zip (3.2M)\n",
      "2023-05-05 14:37:57,031 INFO Download rate 4M/s                                                                        \n"
     ]
    },
    {
     "name": "stdout",
     "output_type": "stream",
     "text": [
      "\n",
      " The downloaded file is extracted\n",
      "path_for_file does exist Function copernicus search for nc\n",
      "The file is in the path Function copernicus search for nc\n",
      "\n",
      "The final path for the nc file is: C:\\Users\\CLMRX\\OneDrive - COWI\\Documents\\GitHub\\CRVA_tool\\outputs\\Datasets\\surface_downwelling_shortwave_radiation\\CompleteMozambique\\ssp1_2_6\\awi_cm_1_1_mr\\2015-2099\\CMIP6-copernicus-GCM\\rsds_Amon_AWI-CM-1-1-MR_ssp126_r1i1p1f1_gn_20150116-20991216_v20190529.nc\n",
      "\n",
      " The final path for nc file exists ? True\n",
      "\n",
      "\n",
      "\n",
      "---------------  Path to nc file exists ?? ---------------\n",
      "\n",
      "False\n",
      "\n",
      "\n",
      "Registering the data in a dataframe\n",
      "\n",
      "Value were found for the period and the project tested\n",
      "\n",
      "Test with model bcc_csm2_mr\n",
      "path_for_file does not exist: the data may not have been downloaded\n",
      "file_download does not exist: the data were not downloaded\n"
     ]
    },
    {
     "name": "stderr",
     "output_type": "stream",
     "text": [
      "2023-05-05 14:40:56,448 INFO Welcome to the CDS\n",
      "2023-05-05 14:40:56,449 INFO Sending request to https://cds.climate.copernicus.eu/api/v2/resources/projections-cmip6\n",
      "2023-05-05 14:40:56,510 INFO Request is queued\n",
      "2023-05-05 14:40:57,567 INFO Request is running\n",
      "2023-05-05 14:41:17,592 INFO Request is completed\n",
      "2023-05-05 14:41:17,593 INFO Downloading https://download-0001-clone.copernicus-climate.eu/cache-compute-0001/cache/data3/adaptor.esgf_wps.retrieve-1683290476.3181663-4965-10-d3573c5a-327f-421a-b0cc-d0536e0f5bff.zip to download.zip (2.9M)\n",
      "2023-05-05 14:41:18,322 INFO Download rate 3.9M/s                                                                      \n"
     ]
    },
    {
     "name": "stdout",
     "output_type": "stream",
     "text": [
      "\n",
      " The downloaded file is extracted\n",
      "path_for_file does exist Function copernicus search for nc\n",
      "The file is in the path Function copernicus search for nc\n",
      "\n",
      "The final path for the nc file is: C:\\Users\\CLMRX\\OneDrive - COWI\\Documents\\GitHub\\CRVA_tool\\outputs\\Datasets\\surface_downwelling_shortwave_radiation\\CompleteMozambique\\ssp1_2_6\\bcc_csm2_mr\\2015-2099\\CMIP6-copernicus-GCM\\rsds_Amon_BCC-CSM2-MR_ssp126_r1i1p1f1_gn_20150116-20991216_v20190314.nc\n",
      "\n",
      " The final path for nc file exists ? True\n",
      "\n",
      "\n",
      "\n",
      "---------------  Path to nc file exists ?? ---------------\n",
      "\n",
      "False\n",
      "\n",
      "\n",
      "Registering the data in a dataframe\n",
      "\n",
      "Value were found for the period and the project tested\n",
      "\n",
      "Test with model cams_csm1_0\n",
      "path_for_file does not exist: the data may not have been downloaded\n",
      "file_download does not exist: the data were not downloaded\n"
     ]
    },
    {
     "name": "stderr",
     "output_type": "stream",
     "text": [
      "2023-05-05 14:44:37,355 INFO Welcome to the CDS\n",
      "2023-05-05 14:44:37,357 INFO Sending request to https://cds.climate.copernicus.eu/api/v2/resources/projections-cmip6\n",
      "2023-05-05 14:44:37,424 INFO Request is queued\n",
      "2023-05-05 14:44:38,470 INFO Request is running\n",
      "2023-05-05 14:44:58,470 INFO Request is completed\n",
      "2023-05-05 14:44:58,471 INFO Downloading https://download-0006-clone.copernicus-climate.eu/cache-compute-0006/cache/data8/adaptor.esgf_wps.retrieve-1683290691.1234832-9286-20-3d281848-ad94-4612-a7e0-b060467abde6.zip to download.zip (2.8M)\n",
      "2023-05-05 14:44:59,252 INFO Download rate 3.6M/s                                                                      \n"
     ]
    },
    {
     "name": "stdout",
     "output_type": "stream",
     "text": [
      "\n",
      " The downloaded file is extracted\n",
      "path_for_file does exist Function copernicus search for nc\n",
      "The file is in the path Function copernicus search for nc\n",
      "\n",
      "The final path for the nc file is: C:\\Users\\CLMRX\\OneDrive - COWI\\Documents\\GitHub\\CRVA_tool\\outputs\\Datasets\\surface_downwelling_shortwave_radiation\\CompleteMozambique\\ssp1_2_6\\cams_csm1_0\\2015-2099\\CMIP6-copernicus-GCM\\rsds_Amon_CAMS-CSM1-0_ssp126_r1i1p1f1_gn_20150116-20991216_v20190708.nc\n",
      "\n",
      " The final path for nc file exists ? True\n",
      "\n",
      "\n",
      "\n",
      "---------------  Path to nc file exists ?? ---------------\n",
      "\n",
      "False\n",
      "\n",
      "\n",
      "Registering the data in a dataframe\n",
      "\n",
      "Value were found for the period and the project tested\n",
      "\n",
      "Test with model canesm5_canoe\n",
      "path_for_file does not exist: the data may not have been downloaded\n",
      "file_download does not exist: the data were not downloaded\n"
     ]
    },
    {
     "name": "stderr",
     "output_type": "stream",
     "text": [
      "2023-05-05 14:48:50,217 INFO Welcome to the CDS\n",
      "2023-05-05 14:48:50,217 INFO Sending request to https://cds.climate.copernicus.eu/api/v2/resources/projections-cmip6\n",
      "2023-05-05 14:48:50,301 INFO Request is queued\n",
      "2023-05-05 14:48:51,345 INFO Request is running\n",
      "2023-05-05 14:48:58,610 INFO Request is completed\n",
      "2023-05-05 14:48:58,610 INFO Downloading https://download-0004-clone.copernicus-climate.eu/cache-compute-0004/cache/data4/adaptor.esgf_wps.retrieve-1683290937.7973723-15102-18-e9e062b1-cea2-4ea0-95ed-b07d797b9075.zip to download.zip (718.7K)\n",
      "2023-05-05 14:48:59,327 INFO Download rate 1003.2K/s                                                                   \n"
     ]
    },
    {
     "name": "stdout",
     "output_type": "stream",
     "text": [
      "\n",
      " The downloaded file is extracted\n",
      "path_for_file does exist Function copernicus search for nc\n",
      "The file is in the path Function copernicus search for nc\n",
      "\n",
      "The final path for the nc file is: C:\\Users\\CLMRX\\OneDrive - COWI\\Documents\\GitHub\\CRVA_tool\\outputs\\Datasets\\surface_downwelling_shortwave_radiation\\CompleteMozambique\\ssp1_2_6\\canesm5_canoe\\2015-2099\\CMIP6-copernicus-GCM\\rsds_Amon_CanESM5-CanOE_ssp126_r1i1p2f1_gn_20150116-20991216_v20190429.nc\n",
      "\n",
      " The final path for nc file exists ? True\n",
      "\n",
      "\n",
      "\n",
      "---------------  Path to nc file exists ?? ---------------\n",
      "\n",
      "False\n",
      "\n",
      "\n",
      "Registering the data in a dataframe\n",
      "\n",
      "Value were found for the period and the project tested\n",
      "\n",
      "Test with model cesm2_fv2\n",
      "path_for_file does not exist: the data may not have been downloaded\n",
      "file_download does not exist: the data were not downloaded\n"
     ]
    },
    {
     "name": "stderr",
     "output_type": "stream",
     "text": [
      "2023-05-05 14:52:52,603 INFO Welcome to the CDS\n",
      "2023-05-05 14:52:52,603 INFO Sending request to https://cds.climate.copernicus.eu/api/v2/resources/projections-cmip6\n",
      "2023-05-05 14:52:52,659 INFO Request is queued\n",
      "2023-05-05 14:52:53,719 INFO Request is failed\n",
      "2023-05-05 14:52:53,719 ERROR Message: an internal error occurred processing your request\n",
      "2023-05-05 14:52:53,719 ERROR Reason:  No matching data for request {'experiment': 'ssp126', 'model': 'CESM2-FV2', 'temporal_resolution': 'mon', 'variable': 'rsds'}\n",
      "2023-05-05 14:52:53,719 ERROR   Traceback (most recent call last):\n",
      "2023-05-05 14:52:53,719 ERROR     File \"/opt/cdstoolbox/cdscompute/cdscompute/cdshandlers/services/handler.py\", line 59, in handle_request\n",
      "2023-05-05 14:52:53,728 ERROR       result = cached(context.method, proc, context, context.args, context.kwargs)\n",
      "2023-05-05 14:52:53,729 ERROR     File \"/opt/cdstoolbox/cdscompute/cdscompute/caching.py\", line 108, in cached\n",
      "2023-05-05 14:52:53,730 ERROR       result = proc(context, *context.args, **context.kwargs)\n",
      "2023-05-05 14:52:53,730 ERROR     File \"/opt/cdstoolbox/cdscompute/cdscompute/services.py\", line 124, in __call__\n",
      "2023-05-05 14:52:53,732 ERROR       return p(*args, **kwargs)\n",
      "2023-05-05 14:52:53,733 ERROR     File \"/opt/cdstoolbox/cdscompute/cdscompute/services.py\", line 60, in __call__\n",
      "2023-05-05 14:52:53,735 ERROR       return self.proc(context, *args, **kwargs)\n",
      "2023-05-05 14:52:53,735 ERROR     File \"/home/cds/cdsservices/services/esgf_wps/__init__.py\", line 30, in execute\n",
      "2023-05-05 14:52:53,736 ERROR       request_facets, request = facets.search(context, request)\n",
      "2023-05-05 14:52:53,736 ERROR     File \"/home/cds/cdsservices/services/esgf_wps/facets.py\", line 61, in search\n",
      "2023-05-05 14:52:53,736 ERROR       raise ValueError(f'No matching data for request {tmp_request}')\n",
      "2023-05-05 14:52:53,742 ERROR   ValueError: No matching data for request {'experiment': 'ssp126', 'model': 'CESM2-FV2', 'temporal_resolution': 'mon', 'variable': 'rsds'}\n",
      "2023-05-05 14:52:53,782 INFO Welcome to the CDS\n",
      "2023-05-05 14:52:53,782 INFO Sending request to https://cds.climate.copernicus.eu/api/v2/resources/projections-cmip6\n",
      "2023-05-05 14:52:53,845 INFO Request is queued\n"
     ]
    },
    {
     "name": "stdout",
     "output_type": "stream",
     "text": [
      "Some parameters are not matching\n",
      "\n",
      "No value were found for the period and the project tested\n",
      "\n",
      "Test with model cesm2_waccm_fv2\n",
      "path_for_file does not exist: the data may not have been downloaded\n",
      "file_download does not exist: the data were not downloaded\n"
     ]
    },
    {
     "name": "stderr",
     "output_type": "stream",
     "text": [
      "2023-05-05 14:52:54,903 INFO Request is failed\n",
      "2023-05-05 14:52:54,903 ERROR Message: an internal error occurred processing your request\n",
      "2023-05-05 14:52:54,903 ERROR Reason:  No matching data for request {'experiment': 'ssp126', 'model': 'CESM2-WACCM-FV2', 'temporal_resolution': 'mon', 'variable': 'rsds'}\n",
      "2023-05-05 14:52:54,903 ERROR   Traceback (most recent call last):\n",
      "2023-05-05 14:52:54,903 ERROR     File \"/opt/cdstoolbox/cdscompute/cdscompute/cdshandlers/services/handler.py\", line 59, in handle_request\n",
      "2023-05-05 14:52:54,912 ERROR       result = cached(context.method, proc, context, context.args, context.kwargs)\n",
      "2023-05-05 14:52:54,912 ERROR     File \"/opt/cdstoolbox/cdscompute/cdscompute/caching.py\", line 108, in cached\n",
      "2023-05-05 14:52:54,912 ERROR       result = proc(context, *context.args, **context.kwargs)\n",
      "2023-05-05 14:52:54,912 ERROR     File \"/opt/cdstoolbox/cdscompute/cdscompute/services.py\", line 124, in __call__\n",
      "2023-05-05 14:52:54,912 ERROR       return p(*args, **kwargs)\n",
      "2023-05-05 14:52:54,912 ERROR     File \"/opt/cdstoolbox/cdscompute/cdscompute/services.py\", line 60, in __call__\n",
      "2023-05-05 14:52:54,912 ERROR       return self.proc(context, *args, **kwargs)\n",
      "2023-05-05 14:52:54,912 ERROR     File \"/home/cds/cdsservices/services/esgf_wps/__init__.py\", line 30, in execute\n",
      "2023-05-05 14:52:54,912 ERROR       request_facets, request = facets.search(context, request)\n",
      "2023-05-05 14:52:54,920 ERROR     File \"/home/cds/cdsservices/services/esgf_wps/facets.py\", line 61, in search\n",
      "2023-05-05 14:52:54,920 ERROR       raise ValueError(f'No matching data for request {tmp_request}')\n",
      "2023-05-05 14:52:54,920 ERROR   ValueError: No matching data for request {'experiment': 'ssp126', 'model': 'CESM2-WACCM-FV2', 'temporal_resolution': 'mon', 'variable': 'rsds'}\n",
      "2023-05-05 14:52:54,962 INFO Welcome to the CDS\n",
      "2023-05-05 14:52:54,962 INFO Sending request to https://cds.climate.copernicus.eu/api/v2/resources/projections-cmip6\n",
      "2023-05-05 14:52:55,055 INFO Request is queued\n"
     ]
    },
    {
     "name": "stdout",
     "output_type": "stream",
     "text": [
      "Some parameters are not matching\n",
      "\n",
      "No value were found for the period and the project tested\n",
      "\n",
      "Test with model cmcc_cm2_hr4\n",
      "path_for_file does not exist: the data may not have been downloaded\n",
      "file_download does not exist: the data were not downloaded\n"
     ]
    },
    {
     "name": "stderr",
     "output_type": "stream",
     "text": [
      "2023-05-05 14:52:56,101 INFO Request is failed\n",
      "2023-05-05 14:52:56,101 ERROR Message: an internal error occurred processing your request\n",
      "2023-05-05 14:52:56,109 ERROR Reason:  No matching data for request {'experiment': 'ssp126', 'model': 'CMCC-CM2-HR4', 'temporal_resolution': 'mon', 'variable': 'rsds'}\n",
      "2023-05-05 14:52:56,110 ERROR   Traceback (most recent call last):\n",
      "2023-05-05 14:52:56,110 ERROR     File \"/opt/cdstoolbox/cdscompute/cdscompute/cdshandlers/services/handler.py\", line 59, in handle_request\n",
      "2023-05-05 14:52:56,113 ERROR       result = cached(context.method, proc, context, context.args, context.kwargs)\n",
      "2023-05-05 14:52:56,113 ERROR     File \"/opt/cdstoolbox/cdscompute/cdscompute/caching.py\", line 108, in cached\n",
      "2023-05-05 14:52:56,113 ERROR       result = proc(context, *context.args, **context.kwargs)\n",
      "2023-05-05 14:52:56,113 ERROR     File \"/opt/cdstoolbox/cdscompute/cdscompute/services.py\", line 124, in __call__\n",
      "2023-05-05 14:52:56,118 ERROR       return p(*args, **kwargs)\n",
      "2023-05-05 14:52:56,118 ERROR     File \"/opt/cdstoolbox/cdscompute/cdscompute/services.py\", line 60, in __call__\n",
      "2023-05-05 14:52:56,118 ERROR       return self.proc(context, *args, **kwargs)\n",
      "2023-05-05 14:52:56,118 ERROR     File \"/home/cds/cdsservices/services/esgf_wps/__init__.py\", line 30, in execute\n",
      "2023-05-05 14:52:56,118 ERROR       request_facets, request = facets.search(context, request)\n",
      "2023-05-05 14:52:56,118 ERROR     File \"/home/cds/cdsservices/services/esgf_wps/facets.py\", line 61, in search\n",
      "2023-05-05 14:52:56,124 ERROR       raise ValueError(f'No matching data for request {tmp_request}')\n",
      "2023-05-05 14:52:56,125 ERROR   ValueError: No matching data for request {'experiment': 'ssp126', 'model': 'CMCC-CM2-HR4', 'temporal_resolution': 'mon', 'variable': 'rsds'}\n",
      "2023-05-05 14:52:56,160 INFO Welcome to the CDS\n",
      "2023-05-05 14:52:56,168 INFO Sending request to https://cds.climate.copernicus.eu/api/v2/resources/projections-cmip6\n",
      "2023-05-05 14:52:56,217 INFO Request is queued\n"
     ]
    },
    {
     "name": "stdout",
     "output_type": "stream",
     "text": [
      "Some parameters are not matching\n",
      "\n",
      "No value were found for the period and the project tested\n",
      "\n",
      "Test with model cmcc_esm2\n",
      "path_for_file does not exist: the data may not have been downloaded\n",
      "file_download does not exist: the data were not downloaded\n"
     ]
    },
    {
     "name": "stderr",
     "output_type": "stream",
     "text": [
      "2023-05-05 14:52:57,269 INFO Request is running\n",
      "2023-05-05 14:53:17,311 INFO Request is completed\n",
      "2023-05-05 14:53:17,313 INFO Downloading https://download-0008-clone.copernicus-climate.eu/cache-compute-0008/cache/data7/adaptor.esgf_wps.retrieve-1683291189.8172119-2262-17-71c097a1-88b5-46f7-ac87-65425d1d3c08.zip to download.zip (2.3M)\n",
      "2023-05-05 14:53:18,106 INFO Download rate 2.9M/s                                                                      \n"
     ]
    },
    {
     "name": "stdout",
     "output_type": "stream",
     "text": [
      "\n",
      " The downloaded file is extracted\n",
      "path_for_file does exist Function copernicus search for nc\n",
      "The file is in the path Function copernicus search for nc\n",
      "\n",
      "The final path for the nc file is: C:\\Users\\CLMRX\\OneDrive - COWI\\Documents\\GitHub\\CRVA_tool\\outputs\\Datasets\\surface_downwelling_shortwave_radiation\\CompleteMozambique\\ssp1_2_6\\cmcc_esm2\\2015-2099\\CMIP6-copernicus-GCM\\rsds_Amon_CMCC-ESM2_ssp126_r1i1p1f1_gn_20150116-20991216_v20210126.nc\n",
      "\n",
      " The final path for nc file exists ? True\n",
      "\n",
      "\n",
      "\n",
      "---------------  Path to nc file exists ?? ---------------\n",
      "\n",
      "False\n",
      "\n",
      "\n",
      "Registering the data in a dataframe\n",
      "\n",
      "Value were found for the period and the project tested\n",
      "\n",
      "Test with model cnrm_cm6_1_hr\n",
      "path_for_file does not exist: the data may not have been downloaded\n",
      "file_download does not exist: the data were not downloaded\n"
     ]
    },
    {
     "name": "stderr",
     "output_type": "stream",
     "text": [
      "2023-05-05 14:57:08,550 INFO Welcome to the CDS\n",
      "2023-05-05 14:57:08,550 INFO Sending request to https://cds.climate.copernicus.eu/api/v2/resources/projections-cmip6\n",
      "2023-05-05 14:57:08,625 INFO Request is queued\n",
      "2023-05-05 14:57:09,666 INFO Request is running\n",
      "2023-05-05 14:57:41,149 INFO Request is completed\n",
      "2023-05-05 14:57:41,149 INFO Downloading https://download-0021.copernicus-climate.eu/cache-compute-0021/cache/data4/adaptor.esgf_wps.retrieve-1683291454.6289387-31813-15-7c302e21-b8c3-4979-a23c-8f8e93fc2e0e.zip to download.zip (9.5M)\n",
      "2023-05-05 14:57:42,143 INFO Download rate 9.5M/s                                                                      \n"
     ]
    },
    {
     "name": "stdout",
     "output_type": "stream",
     "text": [
      "\n",
      " The downloaded file is extracted\n",
      "path_for_file does exist Function copernicus search for nc\n",
      "The file is in the path Function copernicus search for nc\n",
      "\n",
      "The final path for the nc file is: C:\\Users\\CLMRX\\OneDrive - COWI\\Documents\\GitHub\\CRVA_tool\\outputs\\Datasets\\surface_downwelling_shortwave_radiation\\CompleteMozambique\\ssp1_2_6\\cnrm_cm6_1_hr\\2015-2099\\CMIP6-copernicus-GCM\\rsds_Amon_CNRM-CM6-1-HR_ssp126_r1i1p1f2_gr_20150116-20991216_v20200127.nc\n",
      "\n",
      " The final path for nc file exists ? True\n",
      "\n",
      "\n",
      "\n",
      "---------------  Path to nc file exists ?? ---------------\n",
      "\n",
      "False\n",
      "\n",
      "\n",
      "Registering the data in a dataframe\n",
      "\n",
      "Value were found for the period and the project tested\n",
      "\n",
      "Test with model e3sm_1_0\n",
      "path_for_file does not exist: the data may not have been downloaded\n",
      "file_download does not exist: the data were not downloaded\n"
     ]
    },
    {
     "name": "stderr",
     "output_type": "stream",
     "text": [
      "2023-05-05 15:02:36,811 INFO Welcome to the CDS\n",
      "2023-05-05 15:02:36,811 INFO Sending request to https://cds.climate.copernicus.eu/api/v2/resources/projections-cmip6\n",
      "2023-05-05 15:02:36,889 INFO Request is queued\n",
      "2023-05-05 15:02:37,929 INFO Request is failed\n",
      "2023-05-05 15:02:37,929 ERROR Message: an internal error occurred processing your request\n",
      "2023-05-05 15:02:37,929 ERROR Reason:  No matching data for request {'experiment': 'ssp126', 'model': 'E3SM-1-0', 'temporal_resolution': 'mon', 'variable': 'rsds'}\n",
      "2023-05-05 15:02:37,929 ERROR   Traceback (most recent call last):\n",
      "2023-05-05 15:02:37,937 ERROR     File \"/opt/cdstoolbox/cdscompute/cdscompute/cdshandlers/services/handler.py\", line 59, in handle_request\n",
      "2023-05-05 15:02:37,939 ERROR       result = cached(context.method, proc, context, context.args, context.kwargs)\n",
      "2023-05-05 15:02:37,939 ERROR     File \"/opt/cdstoolbox/cdscompute/cdscompute/caching.py\", line 108, in cached\n",
      "2023-05-05 15:02:37,939 ERROR       result = proc(context, *context.args, **context.kwargs)\n",
      "2023-05-05 15:02:37,939 ERROR     File \"/opt/cdstoolbox/cdscompute/cdscompute/services.py\", line 124, in __call__\n",
      "2023-05-05 15:02:37,939 ERROR       return p(*args, **kwargs)\n",
      "2023-05-05 15:02:37,939 ERROR     File \"/opt/cdstoolbox/cdscompute/cdscompute/services.py\", line 60, in __call__\n",
      "2023-05-05 15:02:37,939 ERROR       return self.proc(context, *args, **kwargs)\n",
      "2023-05-05 15:02:37,939 ERROR     File \"/home/cds/cdsservices/services/esgf_wps/__init__.py\", line 30, in execute\n",
      "2023-05-05 15:02:37,947 ERROR       request_facets, request = facets.search(context, request)\n",
      "2023-05-05 15:02:37,948 ERROR     File \"/home/cds/cdsservices/services/esgf_wps/facets.py\", line 61, in search\n",
      "2023-05-05 15:02:37,948 ERROR       raise ValueError(f'No matching data for request {tmp_request}')\n",
      "2023-05-05 15:02:37,948 ERROR   ValueError: No matching data for request {'experiment': 'ssp126', 'model': 'E3SM-1-0', 'temporal_resolution': 'mon', 'variable': 'rsds'}\n",
      "2023-05-05 15:02:37,989 INFO Welcome to the CDS\n",
      "2023-05-05 15:02:37,989 INFO Sending request to https://cds.climate.copernicus.eu/api/v2/resources/projections-cmip6\n",
      "2023-05-05 15:02:38,045 INFO Request is queued\n"
     ]
    },
    {
     "name": "stdout",
     "output_type": "stream",
     "text": [
      "Some parameters are not matching\n",
      "\n",
      "No value were found for the period and the project tested\n",
      "\n",
      "Test with model e3sm_1_1_eca\n",
      "path_for_file does not exist: the data may not have been downloaded\n",
      "file_download does not exist: the data were not downloaded\n"
     ]
    },
    {
     "name": "stderr",
     "output_type": "stream",
     "text": [
      "2023-05-05 15:02:39,088 INFO Request is failed\n",
      "2023-05-05 15:02:39,096 ERROR Message: an internal error occurred processing your request\n",
      "2023-05-05 15:02:39,096 ERROR Reason:  No matching data for request {'experiment': 'ssp126', 'model': 'E3SM-1-1-ECA', 'temporal_resolution': 'mon', 'variable': 'rsds'}\n",
      "2023-05-05 15:02:39,096 ERROR   Traceback (most recent call last):\n",
      "2023-05-05 15:02:39,096 ERROR     File \"/opt/cdstoolbox/cdscompute/cdscompute/cdshandlers/services/handler.py\", line 59, in handle_request\n",
      "2023-05-05 15:02:39,096 ERROR       result = cached(context.method, proc, context, context.args, context.kwargs)\n",
      "2023-05-05 15:02:39,096 ERROR     File \"/opt/cdstoolbox/cdscompute/cdscompute/caching.py\", line 108, in cached\n",
      "2023-05-05 15:02:39,096 ERROR       result = proc(context, *context.args, **context.kwargs)\n",
      "2023-05-05 15:02:39,096 ERROR     File \"/opt/cdstoolbox/cdscompute/cdscompute/services.py\", line 124, in __call__\n",
      "2023-05-05 15:02:39,096 ERROR       return p(*args, **kwargs)\n",
      "2023-05-05 15:02:39,096 ERROR     File \"/opt/cdstoolbox/cdscompute/cdscompute/services.py\", line 60, in __call__\n",
      "2023-05-05 15:02:39,104 ERROR       return self.proc(context, *args, **kwargs)\n",
      "2023-05-05 15:02:39,105 ERROR     File \"/home/cds/cdsservices/services/esgf_wps/__init__.py\", line 30, in execute\n",
      "2023-05-05 15:02:39,106 ERROR       request_facets, request = facets.search(context, request)\n",
      "2023-05-05 15:02:39,106 ERROR     File \"/home/cds/cdsservices/services/esgf_wps/facets.py\", line 61, in search\n",
      "2023-05-05 15:02:39,106 ERROR       raise ValueError(f'No matching data for request {tmp_request}')\n",
      "2023-05-05 15:02:39,106 ERROR   ValueError: No matching data for request {'experiment': 'ssp126', 'model': 'E3SM-1-1-ECA', 'temporal_resolution': 'mon', 'variable': 'rsds'}\n",
      "2023-05-05 15:02:39,151 INFO Welcome to the CDS\n",
      "2023-05-05 15:02:39,153 INFO Sending request to https://cds.climate.copernicus.eu/api/v2/resources/projections-cmip6\n"
     ]
    },
    {
     "name": "stdout",
     "output_type": "stream",
     "text": [
      "Some parameters are not matching\n",
      "\n",
      "No value were found for the period and the project tested\n",
      "\n",
      "Test with model ec_earth3_aerchem\n",
      "path_for_file does not exist: the data may not have been downloaded\n",
      "file_download does not exist: the data were not downloaded\n"
     ]
    },
    {
     "name": "stderr",
     "output_type": "stream",
     "text": [
      "2023-05-05 15:02:39,361 INFO Request is queued\n",
      "2023-05-05 15:02:40,419 INFO Request is failed\n",
      "2023-05-05 15:02:40,419 ERROR Message: an internal error occurred processing your request\n",
      "2023-05-05 15:02:40,419 ERROR Reason:  No matching data for request {'experiment': 'ssp126', 'model': 'EC-Earth3-AerChem', 'temporal_resolution': 'mon', 'variable': 'rsds'}\n",
      "2023-05-05 15:02:40,424 ERROR   Traceback (most recent call last):\n",
      "2023-05-05 15:02:40,425 ERROR     File \"/opt/cdstoolbox/cdscompute/cdscompute/cdshandlers/services/handler.py\", line 59, in handle_request\n",
      "2023-05-05 15:02:40,426 ERROR       result = cached(context.method, proc, context, context.args, context.kwargs)\n",
      "2023-05-05 15:02:40,426 ERROR     File \"/opt/cdstoolbox/cdscompute/cdscompute/caching.py\", line 108, in cached\n",
      "2023-05-05 15:02:40,426 ERROR       result = proc(context, *context.args, **context.kwargs)\n",
      "2023-05-05 15:02:40,429 ERROR     File \"/opt/cdstoolbox/cdscompute/cdscompute/services.py\", line 124, in __call__\n",
      "2023-05-05 15:02:40,429 ERROR       return p(*args, **kwargs)\n",
      "2023-05-05 15:02:40,429 ERROR     File \"/opt/cdstoolbox/cdscompute/cdscompute/services.py\", line 60, in __call__\n",
      "2023-05-05 15:02:40,429 ERROR       return self.proc(context, *args, **kwargs)\n",
      "2023-05-05 15:02:40,432 ERROR     File \"/home/cds/cdsservices/services/esgf_wps/__init__.py\", line 30, in execute\n",
      "2023-05-05 15:02:40,432 ERROR       request_facets, request = facets.search(context, request)\n",
      "2023-05-05 15:02:40,435 ERROR     File \"/home/cds/cdsservices/services/esgf_wps/facets.py\", line 61, in search\n",
      "2023-05-05 15:02:40,435 ERROR       raise ValueError(f'No matching data for request {tmp_request}')\n",
      "2023-05-05 15:02:40,435 ERROR   ValueError: No matching data for request {'experiment': 'ssp126', 'model': 'EC-Earth3-AerChem', 'temporal_resolution': 'mon', 'variable': 'rsds'}\n",
      "2023-05-05 15:02:40,473 INFO Welcome to the CDS\n",
      "2023-05-05 15:02:40,473 INFO Sending request to https://cds.climate.copernicus.eu/api/v2/resources/projections-cmip6\n",
      "2023-05-05 15:02:40,521 INFO Request is queued\n"
     ]
    },
    {
     "name": "stdout",
     "output_type": "stream",
     "text": [
      "Some parameters are not matching\n",
      "\n",
      "No value were found for the period and the project tested\n",
      "\n",
      "Test with model ec_earth3_veg\n",
      "path_for_file does not exist: the data may not have been downloaded\n",
      "file_download does not exist: the data were not downloaded\n"
     ]
    },
    {
     "name": "stderr",
     "output_type": "stream",
     "text": [
      "2023-05-05 15:02:41,584 INFO Request is failed\n",
      "2023-05-05 15:02:41,584 ERROR Message: an internal error occurred processing your request\n",
      "2023-05-05 15:02:41,584 ERROR Reason:  No matching data for request {'experiment': 'ssp126', 'model': 'EC-Earth3-Veg', 'temporal_resolution': 'mon', 'variable': 'rsds'}\n",
      "2023-05-05 15:02:41,584 ERROR   Traceback (most recent call last):\n",
      "2023-05-05 15:02:41,592 ERROR     File \"/opt/cdstoolbox/cdscompute/cdscompute/cdshandlers/services/handler.py\", line 59, in handle_request\n",
      "2023-05-05 15:02:41,592 ERROR       result = cached(context.method, proc, context, context.args, context.kwargs)\n",
      "2023-05-05 15:02:41,592 ERROR     File \"/opt/cdstoolbox/cdscompute/cdscompute/caching.py\", line 108, in cached\n",
      "2023-05-05 15:02:41,592 ERROR       result = proc(context, *context.args, **context.kwargs)\n",
      "2023-05-05 15:02:41,592 ERROR     File \"/opt/cdstoolbox/cdscompute/cdscompute/services.py\", line 124, in __call__\n",
      "2023-05-05 15:02:41,592 ERROR       return p(*args, **kwargs)\n",
      "2023-05-05 15:02:41,592 ERROR     File \"/opt/cdstoolbox/cdscompute/cdscompute/services.py\", line 60, in __call__\n",
      "2023-05-05 15:02:41,592 ERROR       return self.proc(context, *args, **kwargs)\n",
      "2023-05-05 15:02:41,600 ERROR     File \"/home/cds/cdsservices/services/esgf_wps/__init__.py\", line 30, in execute\n",
      "2023-05-05 15:02:41,600 ERROR       request_facets, request = facets.search(context, request)\n",
      "2023-05-05 15:02:41,601 ERROR     File \"/home/cds/cdsservices/services/esgf_wps/facets.py\", line 61, in search\n",
      "2023-05-05 15:02:41,601 ERROR       raise ValueError(f'No matching data for request {tmp_request}')\n",
      "2023-05-05 15:02:41,601 ERROR   ValueError: No matching data for request {'experiment': 'ssp126', 'model': 'EC-Earth3-Veg', 'temporal_resolution': 'mon', 'variable': 'rsds'}\n",
      "2023-05-05 15:02:41,640 INFO Welcome to the CDS\n",
      "2023-05-05 15:02:41,640 INFO Sending request to https://cds.climate.copernicus.eu/api/v2/resources/projections-cmip6\n",
      "2023-05-05 15:02:41,745 INFO Request is queued\n"
     ]
    },
    {
     "name": "stdout",
     "output_type": "stream",
     "text": [
      "Some parameters are not matching\n",
      "\n",
      "No value were found for the period and the project tested\n",
      "\n",
      "Test with model fgoals_f3_l\n",
      "path_for_file does not exist: the data may not have been downloaded\n",
      "file_download does not exist: the data were not downloaded\n"
     ]
    },
    {
     "name": "stderr",
     "output_type": "stream",
     "text": [
      "2023-05-05 15:02:42,786 INFO Request is running\n",
      "2023-05-05 15:03:14,258 INFO Request is completed\n",
      "2023-05-05 15:03:14,258 INFO Downloading https://download-0001-clone.copernicus-climate.eu/cache-compute-0001/cache/data8/adaptor.esgf_wps.retrieve-1683291787.6396887-16622-20-b60ce3c4-f8c6-4398-8c55-41c2ebdfc320.zip to download.zip (2.8M)\n",
      "2023-05-05 15:03:15,282 INFO Download rate 2.8M/s                                                                      \n"
     ]
    },
    {
     "name": "stdout",
     "output_type": "stream",
     "text": [
      "\n",
      " The downloaded file is extracted\n",
      "path_for_file does exist Function copernicus search for nc\n",
      "The file is in the path Function copernicus search for nc\n",
      "\n",
      "The final path for the nc file is: C:\\Users\\CLMRX\\OneDrive - COWI\\Documents\\GitHub\\CRVA_tool\\outputs\\Datasets\\surface_downwelling_shortwave_radiation\\CompleteMozambique\\ssp1_2_6\\fgoals_f3_l\\2015-2099\\CMIP6-copernicus-GCM\\rsds_Amon_FGOALS-f3-L_ssp126_r1i1p1f1_gr_20150116-20991216_v20191013.nc\n",
      "\n",
      " The final path for nc file exists ? True\n",
      "\n",
      "\n",
      "\n",
      "---------------  Path to nc file exists ?? ---------------\n",
      "\n",
      "False\n",
      "\n",
      "\n",
      "Registering the data in a dataframe\n",
      "\n",
      "Value were found for the period and the project tested\n",
      "\n",
      "Test with model fio_esm_2_0\n",
      "path_for_file does not exist: the data may not have been downloaded\n",
      "file_download does not exist: the data were not downloaded\n"
     ]
    },
    {
     "name": "stderr",
     "output_type": "stream",
     "text": [
      "2023-05-05 15:08:43,771 INFO Welcome to the CDS\n",
      "2023-05-05 15:08:43,771 INFO Sending request to https://cds.climate.copernicus.eu/api/v2/resources/projections-cmip6\n",
      "2023-05-05 15:08:43,837 INFO Request is queued\n",
      "2023-05-05 15:08:44,893 INFO Request is running\n",
      "2023-05-05 15:09:04,932 INFO Request is completed\n",
      "2023-05-05 15:09:04,932 INFO Downloading https://download-0014-clone.copernicus-climate.eu/cache-compute-0014/cache/data8/adaptor.esgf_wps.retrieve-1683292137.567783-28373-11-b88e3a1f-4e34-4588-8603-40de24a5f82f.zip to download.zip (2.6M)\n",
      "2023-05-05 15:09:05,764 INFO Download rate 3.1M/s                                                                      \n"
     ]
    },
    {
     "name": "stdout",
     "output_type": "stream",
     "text": [
      "\n",
      " The downloaded file is extracted\n",
      "path_for_file does exist Function copernicus search for nc\n",
      "The file is in the path Function copernicus search for nc\n",
      "\n",
      "The final path for the nc file is: C:\\Users\\CLMRX\\OneDrive - COWI\\Documents\\GitHub\\CRVA_tool\\outputs\\Datasets\\surface_downwelling_shortwave_radiation\\CompleteMozambique\\ssp1_2_6\\fio_esm_2_0\\2015-2099\\CMIP6-copernicus-GCM\\rsds_Amon_FIO-ESM-2-0_ssp126_r1i1p1f1_gn_20150116-20991216_v20200923.nc\n",
      "\n",
      " The final path for nc file exists ? True\n",
      "\n",
      "\n",
      "\n",
      "---------------  Path to nc file exists ?? ---------------\n",
      "\n",
      "False\n",
      "\n",
      "\n",
      "Registering the data in a dataframe\n",
      "\n",
      "Value were found for the period and the project tested\n",
      "\n",
      "Test with model giss_e2_1_g\n",
      "path_for_file does not exist: the data may not have been downloaded\n",
      "file_download does not exist: the data were not downloaded\n"
     ]
    },
    {
     "name": "stderr",
     "output_type": "stream",
     "text": [
      "2023-05-05 15:14:25,074 INFO Welcome to the CDS\n",
      "2023-05-05 15:14:25,074 INFO Sending request to https://cds.climate.copernicus.eu/api/v2/resources/projections-cmip6\n",
      "2023-05-05 15:14:25,147 INFO Request is queued\n",
      "2023-05-05 15:14:26,198 INFO Request is failed\n",
      "2023-05-05 15:14:26,200 ERROR Message: an internal error occurred processing your request\n",
      "2023-05-05 15:14:26,200 ERROR Reason:  No matching data for request {'experiment': 'ssp126', 'model': 'GISS-E2-1-G', 'temporal_resolution': 'mon', 'variable': 'rsds'}\n",
      "2023-05-05 15:14:26,200 ERROR   Traceback (most recent call last):\n",
      "2023-05-05 15:14:26,203 ERROR     File \"/opt/cdstoolbox/cdscompute/cdscompute/cdshandlers/services/handler.py\", line 59, in handle_request\n",
      "2023-05-05 15:14:26,203 ERROR       result = cached(context.method, proc, context, context.args, context.kwargs)\n",
      "2023-05-05 15:14:26,204 ERROR     File \"/opt/cdstoolbox/cdscompute/cdscompute/caching.py\", line 108, in cached\n",
      "2023-05-05 15:14:26,205 ERROR       result = proc(context, *context.args, **context.kwargs)\n",
      "2023-05-05 15:14:26,206 ERROR     File \"/opt/cdstoolbox/cdscompute/cdscompute/services.py\", line 124, in __call__\n",
      "2023-05-05 15:14:26,206 ERROR       return p(*args, **kwargs)\n",
      "2023-05-05 15:14:26,206 ERROR     File \"/opt/cdstoolbox/cdscompute/cdscompute/services.py\", line 60, in __call__\n",
      "2023-05-05 15:14:26,206 ERROR       return self.proc(context, *args, **kwargs)\n",
      "2023-05-05 15:14:26,210 ERROR     File \"/home/cds/cdsservices/services/esgf_wps/__init__.py\", line 30, in execute\n",
      "2023-05-05 15:14:26,210 ERROR       request_facets, request = facets.search(context, request)\n",
      "2023-05-05 15:14:26,211 ERROR     File \"/home/cds/cdsservices/services/esgf_wps/facets.py\", line 61, in search\n",
      "2023-05-05 15:14:26,211 ERROR       raise ValueError(f'No matching data for request {tmp_request}')\n",
      "2023-05-05 15:14:26,212 ERROR   ValueError: No matching data for request {'experiment': 'ssp126', 'model': 'GISS-E2-1-G', 'temporal_resolution': 'mon', 'variable': 'rsds'}\n",
      "2023-05-05 15:14:26,249 INFO Welcome to the CDS\n",
      "2023-05-05 15:14:26,249 INFO Sending request to https://cds.climate.copernicus.eu/api/v2/resources/projections-cmip6\n",
      "2023-05-05 15:14:26,305 INFO Request is queued\n"
     ]
    },
    {
     "name": "stdout",
     "output_type": "stream",
     "text": [
      "Some parameters are not matching\n",
      "\n",
      "No value were found for the period and the project tested\n",
      "\n",
      "Test with model hadgem3_gc31_ll\n",
      "path_for_file does not exist: the data may not have been downloaded\n",
      "file_download does not exist: the data were not downloaded\n"
     ]
    },
    {
     "name": "stderr",
     "output_type": "stream",
     "text": [
      "2023-05-05 15:14:27,354 INFO Request is running\n",
      "2023-05-05 15:14:39,736 INFO Request is completed\n",
      "2023-05-05 15:14:39,736 INFO Downloading https://download-0008-clone.copernicus-climate.eu/cache-compute-0008/cache/data5/adaptor.esgf_wps.retrieve-1683292477.282259-16879-19-c79e8218-7336-45c5-84da-7dfab39f92b3.zip to download.zip (1.1M)\n",
      "2023-05-05 15:14:40,481 INFO Download rate 1.5M/s                                                                      \n"
     ]
    },
    {
     "name": "stdout",
     "output_type": "stream",
     "text": [
      "\n",
      " The downloaded file is extracted\n",
      "path_for_file does exist Function copernicus search for nc\n",
      "The file is in the path Function copernicus search for nc\n",
      "\n",
      "The final path for the nc file is: C:\\Users\\CLMRX\\OneDrive - COWI\\Documents\\GitHub\\CRVA_tool\\outputs\\Datasets\\surface_downwelling_shortwave_radiation\\CompleteMozambique\\ssp1_2_6\\hadgem3_gc31_ll\\2015-2099\\CMIP6-copernicus-GCM\\rsds_Amon_HadGEM3-GC31-LL_ssp126_r1i1p1f3_gn_20150116-20991216_v20200114.nc\n",
      "\n",
      " The final path for nc file exists ? True\n",
      "\n",
      "\n",
      "\n",
      "---------------  Path to nc file exists ?? ---------------\n",
      "\n",
      "False\n",
      "\n",
      "\n",
      "Registering the data in a dataframe\n",
      "\n",
      "Value were found for the period and the project tested\n",
      "\n",
      "Test with model iitm_esm\n",
      "path_for_file does not exist: the data may not have been downloaded\n",
      "file_download does not exist: the data were not downloaded\n"
     ]
    },
    {
     "name": "stderr",
     "output_type": "stream",
     "text": [
      "2023-05-05 15:19:59,789 INFO Welcome to the CDS\n",
      "2023-05-05 15:19:59,789 INFO Sending request to https://cds.climate.copernicus.eu/api/v2/resources/projections-cmip6\n",
      "2023-05-05 15:19:59,886 INFO Request is queued\n",
      "2023-05-05 15:20:00,933 INFO Request is running\n",
      "2023-05-05 15:20:20,925 INFO Request is completed\n",
      "2023-05-05 15:20:20,933 INFO Downloading https://download-0002-clone.copernicus-climate.eu/cache-compute-0002/cache/data9/adaptor.esgf_wps.retrieve-1683292816.6187692-25784-15-cff13a3f-ef76-477b-9492-7a698d3517d1.zip to download.zip (1022.1K)\n",
      "2023-05-05 15:20:21,632 INFO Download rate 1.4M/s                                                                      \n"
     ]
    },
    {
     "name": "stdout",
     "output_type": "stream",
     "text": [
      "\n",
      " The downloaded file is extracted\n",
      "path_for_file does exist Function copernicus search for nc\n",
      "The file is in the path Function copernicus search for nc\n",
      "\n",
      "The final path for the nc file is: C:\\Users\\CLMRX\\OneDrive - COWI\\Documents\\GitHub\\CRVA_tool\\outputs\\Datasets\\surface_downwelling_shortwave_radiation\\CompleteMozambique\\ssp1_2_6\\iitm_esm\\2015-2099\\CMIP6-copernicus-GCM\\rsds_Amon_IITM-ESM_ssp126_r1i1p1f1_gn_20150116-20991216_v20201112.nc\n",
      "\n",
      " The final path for nc file exists ? True\n",
      "\n",
      "\n",
      "\n",
      "---------------  Path to nc file exists ?? ---------------\n",
      "\n",
      "False\n",
      "\n",
      "\n",
      "Registering the data in a dataframe\n",
      "\n",
      "Value were found for the period and the project tested\n",
      "\n",
      "Test with model inm_cm5_0\n",
      "path_for_file does not exist: the data may not have been downloaded\n",
      "file_download does not exist: the data were not downloaded\n"
     ]
    },
    {
     "name": "stderr",
     "output_type": "stream",
     "text": [
      "2023-05-05 15:25:58,779 INFO Welcome to the CDS\n",
      "2023-05-05 15:25:58,779 INFO Sending request to https://cds.climate.copernicus.eu/api/v2/resources/projections-cmip6\n",
      "2023-05-05 15:25:58,867 INFO Request is queued\n",
      "2023-05-05 15:25:59,916 INFO Request is running\n",
      "2023-05-05 15:26:12,287 INFO Request is completed\n",
      "2023-05-05 15:26:12,287 INFO Downloading https://download-0008-clone.copernicus-climate.eu/cache-compute-0008/cache/data5/adaptor.esgf_wps.retrieve-1683293169.6955633-20298-19-5df2a28a-350d-40c7-a3d1-df809263a6ed.zip to download.zip (1.1M)\n",
      "2023-05-05 15:26:13,010 INFO Download rate 1.6M/s                                                                      \n"
     ]
    },
    {
     "name": "stdout",
     "output_type": "stream",
     "text": [
      "\n",
      " The downloaded file is extracted\n",
      "path_for_file does exist Function copernicus search for nc\n",
      "The file is in the path Function copernicus search for nc\n",
      "\n",
      "The final path for the nc file is: C:\\Users\\CLMRX\\OneDrive - COWI\\Documents\\GitHub\\CRVA_tool\\outputs\\Datasets\\surface_downwelling_shortwave_radiation\\CompleteMozambique\\ssp1_2_6\\inm_cm5_0\\2015-2099\\CMIP6-copernicus-GCM\\rsds_Amon_INM-CM5-0_ssp126_r1i1p1f1_gr1_20150116-20991216_v20190619.nc\n",
      "\n",
      " The final path for nc file exists ? True\n",
      "\n",
      "\n",
      "\n",
      "---------------  Path to nc file exists ?? ---------------\n",
      "\n",
      "False\n",
      "\n",
      "\n",
      "Registering the data in a dataframe\n",
      "\n",
      "Value were found for the period and the project tested\n",
      "\n",
      "Test with model ipsl_cm6a_lr\n",
      "path_for_file does not exist: the data may not have been downloaded\n",
      "file_download does not exist: the data were not downloaded\n"
     ]
    },
    {
     "name": "stderr",
     "output_type": "stream",
     "text": [
      "2023-05-05 15:32:11,153 INFO Welcome to the CDS\n",
      "2023-05-05 15:32:11,153 INFO Sending request to https://cds.climate.copernicus.eu/api/v2/resources/projections-cmip6\n",
      "2023-05-05 15:32:11,228 INFO Request is queued\n",
      "2023-05-05 15:32:12,277 INFO Request is running\n",
      "2023-05-05 15:32:32,333 INFO Request is completed\n",
      "2023-05-05 15:32:32,333 INFO Downloading https://download-0018.copernicus-climate.eu/cache-compute-0018/cache/data2/adaptor.esgf_wps.retrieve-1683293548.170085-8705-17-d9e80e4d-4100-4dec-a5e4-8cf2651c4b09.zip to download.zip (1.1M)\n",
      "2023-05-05 15:32:33,056 INFO Download rate 1.6M/s                                                                      \n"
     ]
    },
    {
     "name": "stdout",
     "output_type": "stream",
     "text": [
      "\n",
      " The downloaded file is extracted\n",
      "path_for_file does exist Function copernicus search for nc\n",
      "The file is in the path Function copernicus search for nc\n",
      "\n",
      "The final path for the nc file is: C:\\Users\\CLMRX\\OneDrive - COWI\\Documents\\GitHub\\CRVA_tool\\outputs\\Datasets\\surface_downwelling_shortwave_radiation\\CompleteMozambique\\ssp1_2_6\\ipsl_cm6a_lr\\2015-2099\\CMIP6-copernicus-GCM\\rsds_Amon_IPSL-CM6A-LR_ssp126_r1i1p1f1_gr_20150116-20991216_v20190903.nc\n",
      "\n",
      " The final path for nc file exists ? True\n",
      "\n",
      "\n",
      "\n",
      "---------------  Path to nc file exists ?? ---------------\n",
      "\n",
      "False\n",
      "\n",
      "\n",
      "Registering the data in a dataframe\n",
      "\n",
      "Value were found for the period and the project tested\n",
      "\n",
      "Test with model kiost_esm\n",
      "path_for_file does not exist: the data may not have been downloaded\n",
      "file_download does not exist: the data were not downloaded\n"
     ]
    },
    {
     "name": "stderr",
     "output_type": "stream",
     "text": [
      "2023-05-05 15:38:52,432 INFO Welcome to the CDS\n",
      "2023-05-05 15:38:52,432 INFO Sending request to https://cds.climate.copernicus.eu/api/v2/resources/projections-cmip6\n",
      "2023-05-05 15:38:52,502 INFO Request is queued\n",
      "2023-05-05 15:38:53,566 INFO Request is running\n",
      "2023-05-05 15:39:13,633 INFO Request is completed\n",
      "2023-05-05 15:39:13,633 INFO Downloading https://download-0017.copernicus-climate.eu/cache-compute-0017/cache/data8/adaptor.esgf_wps.retrieve-1683293946.6579578-24938-19-0179d45c-7c8d-48ce-aec1-6ac8f0f565da.zip to download.zip (1.2M)\n",
      "2023-05-05 15:39:14,577 INFO Download rate 1.3M/s                                                                      \n"
     ]
    },
    {
     "name": "stdout",
     "output_type": "stream",
     "text": [
      "\n",
      " The downloaded file is extracted\n",
      "path_for_file does exist Function copernicus search for nc\n",
      "The file is in the path Function copernicus search for nc\n",
      "\n",
      "The final path for the nc file is: C:\\Users\\CLMRX\\OneDrive - COWI\\Documents\\GitHub\\CRVA_tool\\outputs\\Datasets\\surface_downwelling_shortwave_radiation\\CompleteMozambique\\ssp1_2_6\\kiost_esm\\2015-2099\\CMIP6-copernicus-GCM\\rsds_Amon_KIOST-ESM_ssp126_r1i1p1f1_gr1_20150117-20991217_v20191106.nc\n",
      "\n",
      " The final path for nc file exists ? True\n",
      "\n",
      "\n",
      "\n",
      "---------------  Path to nc file exists ?? ---------------\n",
      "\n",
      "False\n",
      "\n",
      "\n",
      "Registering the data in a dataframe\n",
      "\n",
      "Value were found for the period and the project tested\n",
      "\n",
      "Test with model miroc6\n",
      "path_for_file does not exist: the data may not have been downloaded\n",
      "file_download does not exist: the data were not downloaded\n"
     ]
    },
    {
     "name": "stderr",
     "output_type": "stream",
     "text": [
      "2023-05-05 15:45:29,465 INFO Welcome to the CDS\n",
      "2023-05-05 15:45:29,465 INFO Sending request to https://cds.climate.copernicus.eu/api/v2/resources/projections-cmip6\n",
      "2023-05-05 15:45:29,564 INFO Request is queued\n",
      "2023-05-05 15:45:30,604 INFO Request is running\n",
      "2023-05-05 15:45:42,990 INFO Request is completed\n",
      "2023-05-05 15:45:42,999 INFO Downloading https://download-0006-clone.copernicus-climate.eu/cache-compute-0006/cache/data0/adaptor.esgf_wps.retrieve-1683294340.372122-12339-11-92fc7d1a-ea3a-481f-9396-55e537761568.zip to download.zip (1.6M)\n",
      "2023-05-05 15:45:43,763 INFO Download rate 2M/s                                                                        \n"
     ]
    },
    {
     "name": "stdout",
     "output_type": "stream",
     "text": [
      "\n",
      " The downloaded file is extracted\n",
      "path_for_file does exist Function copernicus search for nc\n",
      "The file is in the path Function copernicus search for nc\n",
      "\n",
      "The final path for the nc file is: C:\\Users\\CLMRX\\OneDrive - COWI\\Documents\\GitHub\\CRVA_tool\\outputs\\Datasets\\surface_downwelling_shortwave_radiation\\CompleteMozambique\\ssp1_2_6\\miroc6\\2015-2099\\CMIP6-copernicus-GCM\\rsds_Amon_MIROC6_ssp126_r1i1p1f1_gn_20150116-20991216_v20190627.nc\n",
      "\n",
      " The final path for nc file exists ? True\n",
      "\n",
      "\n",
      "\n",
      "---------------  Path to nc file exists ?? ---------------\n",
      "\n",
      "False\n",
      "\n",
      "\n",
      "Registering the data in a dataframe\n",
      "\n",
      "Value were found for the period and the project tested\n",
      "\n",
      "Test with model miroc_es2l\n",
      "path_for_file does not exist: the data may not have been downloaded\n",
      "file_download does not exist: the data were not downloaded\n"
     ]
    },
    {
     "name": "stderr",
     "output_type": "stream",
     "text": [
      "2023-05-05 15:51:58,617 INFO Welcome to the CDS\n",
      "2023-05-05 15:51:58,617 INFO Sending request to https://cds.climate.copernicus.eu/api/v2/resources/projections-cmip6\n",
      "2023-05-05 15:51:58,691 INFO Request is queued\n",
      "2023-05-05 15:51:59,731 INFO Request is running\n",
      "2023-05-05 15:52:19,754 INFO Request is completed\n",
      "2023-05-05 15:52:19,754 INFO Downloading https://download-0008-clone.copernicus-climate.eu/cache-compute-0008/cache/data6/adaptor.esgf_wps.retrieve-1683294726.758857-28219-20-2502c58a-50d7-434d-a65a-e0398b3ee48b.zip to download.zip (641.4K)\n",
      "2023-05-05 15:52:20,349 INFO Download rate 1.1M/s                                                                      \n"
     ]
    },
    {
     "name": "stdout",
     "output_type": "stream",
     "text": [
      "\n",
      " The downloaded file is extracted\n",
      "path_for_file does exist Function copernicus search for nc\n",
      "The file is in the path Function copernicus search for nc\n",
      "\n",
      "The final path for the nc file is: C:\\Users\\CLMRX\\OneDrive - COWI\\Documents\\GitHub\\CRVA_tool\\outputs\\Datasets\\surface_downwelling_shortwave_radiation\\CompleteMozambique\\ssp1_2_6\\miroc_es2l\\2015-2099\\CMIP6-copernicus-GCM\\rsds_Amon_MIROC-ES2L_ssp126_r1i1p1f2_gn_20150116-20991216_v20190823.nc\n",
      "\n",
      " The final path for nc file exists ? True\n",
      "\n",
      "\n",
      "\n",
      "---------------  Path to nc file exists ?? ---------------\n",
      "\n",
      "False\n",
      "\n",
      "\n",
      "Registering the data in a dataframe\n",
      "\n",
      "Value were found for the period and the project tested\n",
      "\n",
      "Test with model mpi_esm1_2_hr\n",
      "path_for_file does not exist: the data may not have been downloaded\n",
      "file_download does not exist: the data were not downloaded\n"
     ]
    },
    {
     "name": "stderr",
     "output_type": "stream",
     "text": [
      "2023-05-05 15:59:01,589 INFO Welcome to the CDS\n",
      "2023-05-05 15:59:01,591 INFO Sending request to https://cds.climate.copernicus.eu/api/v2/resources/projections-cmip6\n",
      "2023-05-05 15:59:01,631 INFO Request is queued\n",
      "2023-05-05 15:59:02,668 INFO Request is failed\n",
      "2023-05-05 15:59:02,671 ERROR Message: an internal error occurred processing your request\n",
      "2023-05-05 15:59:02,671 ERROR Reason:  No matching data for request {'experiment': 'ssp126', 'model': 'MPI-ESM1-2-HR', 'temporal_resolution': 'mon', 'variable': 'rsds'}\n",
      "2023-05-05 15:59:02,671 ERROR   Traceback (most recent call last):\n",
      "2023-05-05 15:59:02,671 ERROR     File \"/opt/cdstoolbox/cdscompute/cdscompute/cdshandlers/services/handler.py\", line 59, in handle_request\n",
      "2023-05-05 15:59:02,676 ERROR       result = cached(context.method, proc, context, context.args, context.kwargs)\n",
      "2023-05-05 15:59:02,676 ERROR     File \"/opt/cdstoolbox/cdscompute/cdscompute/caching.py\", line 108, in cached\n",
      "2023-05-05 15:59:02,676 ERROR       result = proc(context, *context.args, **context.kwargs)\n",
      "2023-05-05 15:59:02,676 ERROR     File \"/opt/cdstoolbox/cdscompute/cdscompute/services.py\", line 124, in __call__\n",
      "2023-05-05 15:59:02,681 ERROR       return p(*args, **kwargs)\n",
      "2023-05-05 15:59:02,682 ERROR     File \"/opt/cdstoolbox/cdscompute/cdscompute/services.py\", line 60, in __call__\n",
      "2023-05-05 15:59:02,682 ERROR       return self.proc(context, *args, **kwargs)\n",
      "2023-05-05 15:59:02,684 ERROR     File \"/home/cds/cdsservices/services/esgf_wps/__init__.py\", line 30, in execute\n",
      "2023-05-05 15:59:02,684 ERROR       request_facets, request = facets.search(context, request)\n",
      "2023-05-05 15:59:02,685 ERROR     File \"/home/cds/cdsservices/services/esgf_wps/facets.py\", line 61, in search\n",
      "2023-05-05 15:59:02,686 ERROR       raise ValueError(f'No matching data for request {tmp_request}')\n",
      "2023-05-05 15:59:02,686 ERROR   ValueError: No matching data for request {'experiment': 'ssp126', 'model': 'MPI-ESM1-2-HR', 'temporal_resolution': 'mon', 'variable': 'rsds'}\n",
      "2023-05-05 15:59:02,721 INFO Welcome to the CDS\n",
      "2023-05-05 15:59:02,721 INFO Sending request to https://cds.climate.copernicus.eu/api/v2/resources/projections-cmip6\n",
      "2023-05-05 15:59:02,769 INFO Request is queued\n"
     ]
    },
    {
     "name": "stdout",
     "output_type": "stream",
     "text": [
      "Some parameters are not matching\n",
      "\n",
      "No value were found for the period and the project tested\n",
      "\n",
      "Test with model mri_esm2_0\n",
      "path_for_file does not exist: the data may not have been downloaded\n",
      "file_download does not exist: the data were not downloaded\n"
     ]
    },
    {
     "name": "stderr",
     "output_type": "stream",
     "text": [
      "2023-05-05 15:59:03,811 INFO Request is running\n",
      "2023-05-05 15:59:23,801 INFO Request is completed\n",
      "2023-05-05 15:59:23,801 INFO Downloading https://download-0019.copernicus-climate.eu/cache-compute-0019/cache/data3/adaptor.esgf_wps.retrieve-1683295162.6874478-24882-16-4290a158-d991-4f4e-80ce-b0ba39c16bbb.zip to download.zip (2.2M)\n",
      "2023-05-05 15:59:24,662 INFO Download rate 2.6M/s                                                                      \n"
     ]
    },
    {
     "name": "stdout",
     "output_type": "stream",
     "text": [
      "\n",
      " The downloaded file is extracted\n",
      "path_for_file does exist Function copernicus search for nc\n",
      "The file is in the path Function copernicus search for nc\n",
      "\n",
      "The final path for the nc file is: C:\\Users\\CLMRX\\OneDrive - COWI\\Documents\\GitHub\\CRVA_tool\\outputs\\Datasets\\surface_downwelling_shortwave_radiation\\CompleteMozambique\\ssp1_2_6\\mri_esm2_0\\2015-2099\\CMIP6-copernicus-GCM\\rsds_Amon_MRI-ESM2-0_ssp126_r1i1p1f1_gn_20150116-20991216_v20191108.nc\n",
      "\n",
      " The final path for nc file exists ? True\n",
      "\n",
      "\n",
      "\n",
      "---------------  Path to nc file exists ?? ---------------\n",
      "\n",
      "False\n",
      "\n",
      "\n",
      "Registering the data in a dataframe\n",
      "\n",
      "Value were found for the period and the project tested\n",
      "\n",
      "Test with model norcpm1\n",
      "path_for_file does not exist: the data may not have been downloaded\n",
      "file_download does not exist: the data were not downloaded\n"
     ]
    },
    {
     "name": "stderr",
     "output_type": "stream",
     "text": [
      "2023-05-05 16:06:18,537 INFO Welcome to the CDS\n",
      "2023-05-05 16:06:18,538 INFO Sending request to https://cds.climate.copernicus.eu/api/v2/resources/projections-cmip6\n",
      "2023-05-05 16:06:18,624 INFO Request is queued\n",
      "2023-05-05 16:06:19,674 INFO Request is failed\n",
      "2023-05-05 16:06:19,675 ERROR Message: an internal error occurred processing your request\n",
      "2023-05-05 16:06:19,675 ERROR Reason:  No matching data for request {'experiment': 'ssp126', 'model': 'NorCPM1', 'temporal_resolution': 'mon', 'variable': 'rsds'}\n",
      "2023-05-05 16:06:19,676 ERROR   Traceback (most recent call last):\n",
      "2023-05-05 16:06:19,676 ERROR     File \"/opt/cdstoolbox/cdscompute/cdscompute/cdshandlers/services/handler.py\", line 59, in handle_request\n",
      "2023-05-05 16:06:19,677 ERROR       result = cached(context.method, proc, context, context.args, context.kwargs)\n",
      "2023-05-05 16:06:19,677 ERROR     File \"/opt/cdstoolbox/cdscompute/cdscompute/caching.py\", line 108, in cached\n",
      "2023-05-05 16:06:19,678 ERROR       result = proc(context, *context.args, **context.kwargs)\n",
      "2023-05-05 16:06:19,678 ERROR     File \"/opt/cdstoolbox/cdscompute/cdscompute/services.py\", line 124, in __call__\n",
      "2023-05-05 16:06:19,679 ERROR       return p(*args, **kwargs)\n",
      "2023-05-05 16:06:19,679 ERROR     File \"/opt/cdstoolbox/cdscompute/cdscompute/services.py\", line 60, in __call__\n",
      "2023-05-05 16:06:19,680 ERROR       return self.proc(context, *args, **kwargs)\n",
      "2023-05-05 16:06:19,681 ERROR     File \"/home/cds/cdsservices/services/esgf_wps/__init__.py\", line 30, in execute\n",
      "2023-05-05 16:06:19,682 ERROR       request_facets, request = facets.search(context, request)\n",
      "2023-05-05 16:06:19,682 ERROR     File \"/home/cds/cdsservices/services/esgf_wps/facets.py\", line 61, in search\n",
      "2023-05-05 16:06:19,683 ERROR       raise ValueError(f'No matching data for request {tmp_request}')\n",
      "2023-05-05 16:06:19,683 ERROR   ValueError: No matching data for request {'experiment': 'ssp126', 'model': 'NorCPM1', 'temporal_resolution': 'mon', 'variable': 'rsds'}\n",
      "2023-05-05 16:06:19,724 INFO Welcome to the CDS\n",
      "2023-05-05 16:06:19,725 INFO Sending request to https://cds.climate.copernicus.eu/api/v2/resources/projections-cmip6\n",
      "2023-05-05 16:06:19,769 INFO Request is queued\n"
     ]
    },
    {
     "name": "stdout",
     "output_type": "stream",
     "text": [
      "Some parameters are not matching\n",
      "\n",
      "No value were found for the period and the project tested\n",
      "\n",
      "Test with model noresm2_mm\n",
      "path_for_file does not exist: the data may not have been downloaded\n",
      "file_download does not exist: the data were not downloaded\n"
     ]
    },
    {
     "name": "stderr",
     "output_type": "stream",
     "text": [
      "2023-05-05 16:06:20,820 INFO Request is running\n",
      "2023-05-05 16:06:33,210 INFO Request is completed\n",
      "2023-05-05 16:06:33,211 INFO Downloading https://download-0012-clone.copernicus-climate.eu/cache-compute-0012/cache/data5/adaptor.esgf_wps.retrieve-1683295590.718107-19511-12-aa68f58f-2837-4b3c-86be-36d97b4ede5d.zip to download.zip (2.1M)\n",
      "2023-05-05 16:06:34,104 INFO Download rate 2.3M/s                                                                      \n"
     ]
    },
    {
     "name": "stdout",
     "output_type": "stream",
     "text": [
      "\n",
      " The downloaded file is extracted\n",
      "path_for_file does exist Function copernicus search for nc\n",
      "The file is in the path Function copernicus search for nc\n",
      "\n",
      "The final path for the nc file is: C:\\Users\\CLMRX\\OneDrive - COWI\\Documents\\GitHub\\CRVA_tool\\outputs\\Datasets\\surface_downwelling_shortwave_radiation\\CompleteMozambique\\ssp1_2_6\\noresm2_mm\\2015-2099\\CMIP6-copernicus-GCM\\rsds_Amon_NorESM2-MM_ssp126_r1i1p1f1_gn_20150116-20991216_v20191108.nc\n",
      "\n",
      " The final path for nc file exists ? True\n",
      "\n",
      "\n",
      "\n",
      "---------------  Path to nc file exists ?? ---------------\n",
      "\n",
      "False\n",
      "\n",
      "\n",
      "Registering the data in a dataframe\n",
      "\n",
      "Value were found for the period and the project tested\n",
      "\n",
      "Test with model taiesm1\n",
      "path_for_file does not exist: the data may not have been downloaded\n",
      "file_download does not exist: the data were not downloaded\n"
     ]
    },
    {
     "name": "stderr",
     "output_type": "stream",
     "text": [
      "2023-05-05 16:12:35,442 INFO Welcome to the CDS\n",
      "2023-05-05 16:12:35,444 INFO Sending request to https://cds.climate.copernicus.eu/api/v2/resources/projections-cmip6\n",
      "2023-05-05 16:12:35,498 INFO Request is queued\n",
      "2023-05-05 16:12:36,550 INFO Request is running\n",
      "2023-05-05 16:12:48,943 INFO Request is completed\n",
      "2023-05-05 16:12:48,943 INFO Downloading https://download-0014-clone.copernicus-climate.eu/cache-compute-0014/cache/data1/adaptor.esgf_wps.retrieve-1683295966.209798-1385-20-ee4cd128-3c5c-4b56-a26b-131721defa16.zip to download.zip (2.3M)\n",
      "2023-05-05 16:12:49,667 INFO Download rate 3.2M/s                                                                      \n"
     ]
    },
    {
     "name": "stdout",
     "output_type": "stream",
     "text": [
      "\n",
      " The downloaded file is extracted\n",
      "path_for_file does exist Function copernicus search for nc\n",
      "The file is in the path Function copernicus search for nc\n",
      "\n",
      "The final path for the nc file is: C:\\Users\\CLMRX\\OneDrive - COWI\\Documents\\GitHub\\CRVA_tool\\outputs\\Datasets\\surface_downwelling_shortwave_radiation\\CompleteMozambique\\ssp1_2_6\\taiesm1\\2015-2099\\CMIP6-copernicus-GCM\\rsds_Amon_TaiESM1_ssp126_r1i1p1f1_gn_20150116-20991216_v20201124.nc\n",
      "\n",
      " The final path for nc file exists ? True\n",
      "\n",
      "\n",
      "\n",
      "---------------  Path to nc file exists ?? ---------------\n",
      "\n",
      "False\n",
      "\n",
      "\n",
      "Registering the data in a dataframe\n",
      "\n",
      "Value were found for the period and the project tested\n",
      "\n",
      "Test with model access_esm1_5\n",
      "path_for_file does not exist: the data may not have been downloaded\n",
      "file_download does not exist: the data were not downloaded\n"
     ]
    },
    {
     "name": "stderr",
     "output_type": "stream",
     "text": [
      "2023-05-05 16:18:59,986 INFO Welcome to the CDS\n",
      "2023-05-05 16:18:59,987 INFO Sending request to https://cds.climate.copernicus.eu/api/v2/resources/projections-cmip6\n",
      "2023-05-05 16:19:00,051 INFO Request is queued\n",
      "2023-05-05 16:19:01,102 INFO Request is failed\n",
      "2023-05-05 16:19:01,103 ERROR Message: an internal error occurred processing your request\n",
      "2023-05-05 16:19:01,103 ERROR Reason:  No matching data for request {'experiment': 'ssp126', 'model': 'ACCESS-ESM1-5', 'temporal_resolution': 'mon', 'variable': 'rsds'}\n",
      "2023-05-05 16:19:01,105 ERROR   Traceback (most recent call last):\n",
      "2023-05-05 16:19:01,106 ERROR     File \"/opt/cdstoolbox/cdscompute/cdscompute/cdshandlers/services/handler.py\", line 59, in handle_request\n",
      "2023-05-05 16:19:01,106 ERROR       result = cached(context.method, proc, context, context.args, context.kwargs)\n",
      "2023-05-05 16:19:01,107 ERROR     File \"/opt/cdstoolbox/cdscompute/cdscompute/caching.py\", line 108, in cached\n",
      "2023-05-05 16:19:01,108 ERROR       result = proc(context, *context.args, **context.kwargs)\n",
      "2023-05-05 16:19:01,109 ERROR     File \"/opt/cdstoolbox/cdscompute/cdscompute/services.py\", line 124, in __call__\n",
      "2023-05-05 16:19:01,109 ERROR       return p(*args, **kwargs)\n",
      "2023-05-05 16:19:01,110 ERROR     File \"/opt/cdstoolbox/cdscompute/cdscompute/services.py\", line 60, in __call__\n",
      "2023-05-05 16:19:01,110 ERROR       return self.proc(context, *args, **kwargs)\n",
      "2023-05-05 16:19:01,110 ERROR     File \"/home/cds/cdsservices/services/esgf_wps/__init__.py\", line 30, in execute\n",
      "2023-05-05 16:19:01,111 ERROR       request_facets, request = facets.search(context, request)\n",
      "2023-05-05 16:19:01,111 ERROR     File \"/home/cds/cdsservices/services/esgf_wps/facets.py\", line 61, in search\n",
      "2023-05-05 16:19:01,112 ERROR       raise ValueError(f'No matching data for request {tmp_request}')\n",
      "2023-05-05 16:19:01,112 ERROR   ValueError: No matching data for request {'experiment': 'ssp126', 'model': 'ACCESS-ESM1-5', 'temporal_resolution': 'mon', 'variable': 'rsds'}\n",
      "2023-05-05 16:19:01,152 INFO Welcome to the CDS\n",
      "2023-05-05 16:19:01,153 INFO Sending request to https://cds.climate.copernicus.eu/api/v2/resources/projections-cmip6\n",
      "2023-05-05 16:19:01,214 INFO Request is queued\n"
     ]
    },
    {
     "name": "stdout",
     "output_type": "stream",
     "text": [
      "Some parameters are not matching\n",
      "\n",
      "No value were found for the period and the project tested\n",
      "\n",
      "Test with model awi_esm_1_1_lr\n",
      "path_for_file does not exist: the data may not have been downloaded\n",
      "file_download does not exist: the data were not downloaded\n"
     ]
    },
    {
     "name": "stderr",
     "output_type": "stream",
     "text": [
      "2023-05-05 16:19:02,264 INFO Request is failed\n",
      "2023-05-05 16:19:02,265 ERROR Message: an internal error occurred processing your request\n",
      "2023-05-05 16:19:02,265 ERROR Reason:  No matching data for request {'experiment': 'ssp126', 'model': 'AWI-ESM-1-1-LR', 'temporal_resolution': 'mon', 'variable': 'rsds'}\n",
      "2023-05-05 16:19:02,266 ERROR   Traceback (most recent call last):\n",
      "2023-05-05 16:19:02,266 ERROR     File \"/opt/cdstoolbox/cdscompute/cdscompute/cdshandlers/services/handler.py\", line 59, in handle_request\n",
      "2023-05-05 16:19:02,267 ERROR       result = cached(context.method, proc, context, context.args, context.kwargs)\n",
      "2023-05-05 16:19:02,268 ERROR     File \"/opt/cdstoolbox/cdscompute/cdscompute/caching.py\", line 108, in cached\n",
      "2023-05-05 16:19:02,268 ERROR       result = proc(context, *context.args, **context.kwargs)\n",
      "2023-05-05 16:19:02,269 ERROR     File \"/opt/cdstoolbox/cdscompute/cdscompute/services.py\", line 124, in __call__\n",
      "2023-05-05 16:19:02,269 ERROR       return p(*args, **kwargs)\n",
      "2023-05-05 16:19:02,270 ERROR     File \"/opt/cdstoolbox/cdscompute/cdscompute/services.py\", line 60, in __call__\n",
      "2023-05-05 16:19:02,271 ERROR       return self.proc(context, *args, **kwargs)\n",
      "2023-05-05 16:19:02,271 ERROR     File \"/home/cds/cdsservices/services/esgf_wps/__init__.py\", line 30, in execute\n",
      "2023-05-05 16:19:02,272 ERROR       request_facets, request = facets.search(context, request)\n",
      "2023-05-05 16:19:02,273 ERROR     File \"/home/cds/cdsservices/services/esgf_wps/facets.py\", line 61, in search\n",
      "2023-05-05 16:19:02,274 ERROR       raise ValueError(f'No matching data for request {tmp_request}')\n",
      "2023-05-05 16:19:02,275 ERROR   ValueError: No matching data for request {'experiment': 'ssp126', 'model': 'AWI-ESM-1-1-LR', 'temporal_resolution': 'mon', 'variable': 'rsds'}\n",
      "2023-05-05 16:19:02,316 INFO Welcome to the CDS\n",
      "2023-05-05 16:19:02,317 INFO Sending request to https://cds.climate.copernicus.eu/api/v2/resources/projections-cmip6\n",
      "2023-05-05 16:19:02,376 INFO Request is queued\n"
     ]
    },
    {
     "name": "stdout",
     "output_type": "stream",
     "text": [
      "Some parameters are not matching\n",
      "\n",
      "No value were found for the period and the project tested\n",
      "\n",
      "Test with model bcc_esm1\n",
      "path_for_file does not exist: the data may not have been downloaded\n",
      "file_download does not exist: the data were not downloaded\n"
     ]
    },
    {
     "name": "stderr",
     "output_type": "stream",
     "text": [
      "2023-05-05 16:19:03,442 INFO Request is failed\n",
      "2023-05-05 16:19:03,443 ERROR Message: an internal error occurred processing your request\n",
      "2023-05-05 16:19:03,445 ERROR Reason:  No matching data for request {'experiment': 'ssp126', 'model': 'BCC-ESM1', 'temporal_resolution': 'mon', 'variable': 'rsds'}\n",
      "2023-05-05 16:19:03,447 ERROR   Traceback (most recent call last):\n",
      "2023-05-05 16:19:03,448 ERROR     File \"/opt/cdstoolbox/cdscompute/cdscompute/cdshandlers/services/handler.py\", line 59, in handle_request\n",
      "2023-05-05 16:19:03,450 ERROR       result = cached(context.method, proc, context, context.args, context.kwargs)\n",
      "2023-05-05 16:19:03,451 ERROR     File \"/opt/cdstoolbox/cdscompute/cdscompute/caching.py\", line 108, in cached\n",
      "2023-05-05 16:19:03,452 ERROR       result = proc(context, *context.args, **context.kwargs)\n",
      "2023-05-05 16:19:03,454 ERROR     File \"/opt/cdstoolbox/cdscompute/cdscompute/services.py\", line 124, in __call__\n",
      "2023-05-05 16:19:03,455 ERROR       return p(*args, **kwargs)\n",
      "2023-05-05 16:19:03,455 ERROR     File \"/opt/cdstoolbox/cdscompute/cdscompute/services.py\", line 60, in __call__\n",
      "2023-05-05 16:19:03,456 ERROR       return self.proc(context, *args, **kwargs)\n",
      "2023-05-05 16:19:03,456 ERROR     File \"/home/cds/cdsservices/services/esgf_wps/__init__.py\", line 30, in execute\n",
      "2023-05-05 16:19:03,457 ERROR       request_facets, request = facets.search(context, request)\n",
      "2023-05-05 16:19:03,458 ERROR     File \"/home/cds/cdsservices/services/esgf_wps/facets.py\", line 61, in search\n",
      "2023-05-05 16:19:03,458 ERROR       raise ValueError(f'No matching data for request {tmp_request}')\n",
      "2023-05-05 16:19:03,459 ERROR   ValueError: No matching data for request {'experiment': 'ssp126', 'model': 'BCC-ESM1', 'temporal_resolution': 'mon', 'variable': 'rsds'}\n",
      "2023-05-05 16:19:03,496 INFO Welcome to the CDS\n",
      "2023-05-05 16:19:03,497 INFO Sending request to https://cds.climate.copernicus.eu/api/v2/resources/projections-cmip6\n",
      "2023-05-05 16:19:03,626 INFO Request is queued\n"
     ]
    },
    {
     "name": "stdout",
     "output_type": "stream",
     "text": [
      "Some parameters are not matching\n",
      "\n",
      "No value were found for the period and the project tested\n",
      "\n",
      "Test with model canesm5\n",
      "path_for_file does not exist: the data may not have been downloaded\n",
      "file_download does not exist: the data were not downloaded\n"
     ]
    },
    {
     "name": "stderr",
     "output_type": "stream",
     "text": [
      "2023-05-05 16:19:04,677 INFO Request is running\n",
      "2023-05-05 16:19:11,941 INFO Request is completed\n",
      "2023-05-05 16:19:11,943 INFO Downloading https://download-0009-clone.copernicus-climate.eu/cache-compute-0009/cache/data7/adaptor.esgf_wps.retrieve-1683296351.151795-5142-19-8847c0b0-c3a8-4161-8ac4-6da2f8da8951.zip to download.zip (717K)\n",
      "2023-05-05 16:19:12,658 INFO Download rate 1004.2K/s                                                                   \n"
     ]
    },
    {
     "name": "stdout",
     "output_type": "stream",
     "text": [
      "\n",
      " The downloaded file is extracted\n",
      "path_for_file does exist Function copernicus search for nc\n",
      "The file is in the path Function copernicus search for nc\n",
      "\n",
      "The final path for the nc file is: C:\\Users\\CLMRX\\OneDrive - COWI\\Documents\\GitHub\\CRVA_tool\\outputs\\Datasets\\surface_downwelling_shortwave_radiation\\CompleteMozambique\\ssp1_2_6\\canesm5\\2015-2099\\CMIP6-copernicus-GCM\\rsds_Amon_CanESM5_ssp126_r1i1p1f1_gn_20150116-20991216_v20190429.nc\n",
      "\n",
      " The final path for nc file exists ? True\n",
      "\n",
      "\n",
      "\n",
      "---------------  Path to nc file exists ?? ---------------\n",
      "\n",
      "False\n",
      "\n",
      "\n",
      "Registering the data in a dataframe\n",
      "\n",
      "Value were found for the period and the project tested\n",
      "\n",
      "Test with model cesm2\n",
      "path_for_file does not exist: the data may not have been downloaded\n",
      "file_download does not exist: the data were not downloaded\n"
     ]
    },
    {
     "name": "stderr",
     "output_type": "stream",
     "text": [
      "2023-05-05 16:25:23,326 INFO Welcome to the CDS\n",
      "2023-05-05 16:25:23,327 INFO Sending request to https://cds.climate.copernicus.eu/api/v2/resources/projections-cmip6\n",
      "2023-05-05 16:25:23,380 INFO Request is queued\n",
      "2023-05-05 16:25:24,428 INFO Request is running\n",
      "2023-05-05 16:25:44,450 INFO Request is completed\n",
      "2023-05-05 16:25:44,452 INFO Downloading https://download-0000-clone.copernicus-climate.eu/cache-compute-0000/cache/data6/adaptor.esgf_wps.retrieve-1683296737.3692503-31675-14-1c596130-15f9-45ad-bdf6-eefe5abad6e9.zip to download.zip (2.1M)\n",
      "2023-05-05 16:25:45,193 INFO Download rate 2.8M/s                                                                      \n"
     ]
    },
    {
     "name": "stdout",
     "output_type": "stream",
     "text": [
      "\n",
      " The downloaded file is extracted\n",
      "path_for_file does exist Function copernicus search for nc\n",
      "The file is in the path Function copernicus search for nc\n",
      "\n",
      "The final path for the nc file is: C:\\Users\\CLMRX\\OneDrive - COWI\\Documents\\GitHub\\CRVA_tool\\outputs\\Datasets\\surface_downwelling_shortwave_radiation\\CompleteMozambique\\ssp1_2_6\\cesm2\\2015-2099\\CMIP6-copernicus-GCM\\rsds_Amon_CESM2_ssp126_r4i1p1f1_gn_20150115-20991215_v20200528.nc\n",
      "\n",
      " The final path for nc file exists ? True\n",
      "\n",
      "\n",
      "\n",
      "---------------  Path to nc file exists ?? ---------------\n",
      "\n",
      "False\n",
      "\n",
      "\n",
      "Registering the data in a dataframe\n",
      "\n",
      "Value were found for the period and the project tested\n",
      "\n",
      "Test with model cesm2_waccm\n",
      "path_for_file does not exist: the data may not have been downloaded\n",
      "file_download does not exist: the data were not downloaded\n"
     ]
    },
    {
     "name": "stderr",
     "output_type": "stream",
     "text": [
      "2023-05-05 16:32:11,988 INFO Welcome to the CDS\n",
      "2023-05-05 16:32:11,990 INFO Sending request to https://cds.climate.copernicus.eu/api/v2/resources/projections-cmip6\n",
      "2023-05-05 16:32:12,078 INFO Request is queued\n",
      "2023-05-05 16:32:13,121 INFO Request is failed\n",
      "2023-05-05 16:32:13,123 ERROR Message: an internal error occurred processing your request\n",
      "2023-05-05 16:32:13,123 ERROR Reason:  No matching data for request {'experiment': 'ssp126', 'model': 'CESM2-WACCM', 'temporal_resolution': 'mon', 'variable': 'rsds'}\n",
      "2023-05-05 16:32:13,123 ERROR   Traceback (most recent call last):\n",
      "2023-05-05 16:32:13,123 ERROR     File \"/opt/cdstoolbox/cdscompute/cdscompute/cdshandlers/services/handler.py\", line 59, in handle_request\n",
      "2023-05-05 16:32:13,124 ERROR       result = cached(context.method, proc, context, context.args, context.kwargs)\n",
      "2023-05-05 16:32:13,125 ERROR     File \"/opt/cdstoolbox/cdscompute/cdscompute/caching.py\", line 108, in cached\n",
      "2023-05-05 16:32:13,125 ERROR       result = proc(context, *context.args, **context.kwargs)\n",
      "2023-05-05 16:32:13,126 ERROR     File \"/opt/cdstoolbox/cdscompute/cdscompute/services.py\", line 124, in __call__\n",
      "2023-05-05 16:32:13,126 ERROR       return p(*args, **kwargs)\n",
      "2023-05-05 16:32:13,126 ERROR     File \"/opt/cdstoolbox/cdscompute/cdscompute/services.py\", line 60, in __call__\n",
      "2023-05-05 16:32:13,127 ERROR       return self.proc(context, *args, **kwargs)\n",
      "2023-05-05 16:32:13,129 ERROR     File \"/home/cds/cdsservices/services/esgf_wps/__init__.py\", line 30, in execute\n",
      "2023-05-05 16:32:13,130 ERROR       request_facets, request = facets.search(context, request)\n",
      "2023-05-05 16:32:13,130 ERROR     File \"/home/cds/cdsservices/services/esgf_wps/facets.py\", line 61, in search\n",
      "2023-05-05 16:32:13,131 ERROR       raise ValueError(f'No matching data for request {tmp_request}')\n",
      "2023-05-05 16:32:13,131 ERROR   ValueError: No matching data for request {'experiment': 'ssp126', 'model': 'CESM2-WACCM', 'temporal_resolution': 'mon', 'variable': 'rsds'}\n",
      "2023-05-05 16:32:13,172 INFO Welcome to the CDS\n",
      "2023-05-05 16:32:13,173 INFO Sending request to https://cds.climate.copernicus.eu/api/v2/resources/projections-cmip6\n",
      "2023-05-05 16:32:13,219 INFO Request is queued\n"
     ]
    },
    {
     "name": "stdout",
     "output_type": "stream",
     "text": [
      "Some parameters are not matching\n",
      "\n",
      "No value were found for the period and the project tested\n",
      "\n",
      "Test with model ciesm\n",
      "path_for_file does not exist: the data may not have been downloaded\n",
      "file_download does not exist: the data were not downloaded\n"
     ]
    },
    {
     "name": "stderr",
     "output_type": "stream",
     "text": [
      "2023-05-05 16:32:14,274 INFO Request is running\n",
      "2023-05-05 16:32:34,323 INFO Request is completed\n",
      "2023-05-05 16:32:34,324 INFO Downloading https://download-0004-clone.copernicus-climate.eu/cache-compute-0004/cache/data0/adaptor.esgf_wps.retrieve-1683297147.1285465-2744-8-c2464f61-9cd7-418b-afd7-6b1b4f20e2d3.zip to download.zip (2.6M)\n",
      "2023-05-05 16:32:35,088 INFO Download rate 3.4M/s                                                                      \n"
     ]
    },
    {
     "name": "stdout",
     "output_type": "stream",
     "text": [
      "\n",
      " The downloaded file is extracted\n",
      "path_for_file does exist Function copernicus search for nc\n",
      "The file is in the path Function copernicus search for nc\n",
      "\n",
      "The final path for the nc file is: C:\\Users\\CLMRX\\OneDrive - COWI\\Documents\\GitHub\\CRVA_tool\\outputs\\Datasets\\surface_downwelling_shortwave_radiation\\CompleteMozambique\\ssp1_2_6\\ciesm\\2015-2099\\CMIP6-copernicus-GCM\\rsds_Amon_CIESM_ssp126_r1i1p1f1_gr_20150116-20991216_v20200417.nc\n",
      "\n",
      " The final path for nc file exists ? True\n",
      "\n",
      "\n",
      "\n",
      "---------------  Path to nc file exists ?? ---------------\n",
      "\n",
      "False\n",
      "\n",
      "\n",
      "Registering the data in a dataframe\n",
      "\n",
      "Value were found for the period and the project tested\n",
      "\n",
      "Test with model cmcc_cm2_sr5\n",
      "path_for_file does not exist: the data may not have been downloaded\n",
      "file_download does not exist: the data were not downloaded\n"
     ]
    },
    {
     "name": "stderr",
     "output_type": "stream",
     "text": [
      "2023-05-05 16:39:21,368 INFO Welcome to the CDS\n",
      "2023-05-05 16:39:21,368 INFO Sending request to https://cds.climate.copernicus.eu/api/v2/resources/projections-cmip6\n",
      "2023-05-05 16:39:21,497 INFO Request is queued\n",
      "2023-05-05 16:39:22,547 INFO Request is running\n",
      "2023-05-05 16:39:34,933 INFO Request is completed\n",
      "2023-05-05 16:39:34,934 INFO Downloading https://download-0000-clone.copernicus-climate.eu/cache-compute-0000/cache/data2/adaptor.esgf_wps.retrieve-1683297572.3734825-10239-18-1f18e91e-abe4-4cce-868b-dfd0edd908c3.zip to download.zip (2.3M)\n",
      "2023-05-05 16:39:35,734 INFO Download rate 2.9M/s                                                                      \n"
     ]
    },
    {
     "name": "stdout",
     "output_type": "stream",
     "text": [
      "\n",
      " The downloaded file is extracted\n",
      "path_for_file does exist Function copernicus search for nc\n",
      "The file is in the path Function copernicus search for nc\n",
      "\n",
      "The final path for the nc file is: C:\\Users\\CLMRX\\OneDrive - COWI\\Documents\\GitHub\\CRVA_tool\\outputs\\Datasets\\surface_downwelling_shortwave_radiation\\CompleteMozambique\\ssp1_2_6\\cmcc_cm2_sr5\\2015-2099\\CMIP6-copernicus-GCM\\rsds_Amon_CMCC-CM2-SR5_ssp126_r1i1p1f1_gn_20150116-20991216_v20200717.nc\n",
      "\n",
      " The final path for nc file exists ? True\n",
      "\n",
      "\n",
      "\n",
      "---------------  Path to nc file exists ?? ---------------\n",
      "\n",
      "False\n",
      "\n",
      "\n",
      "Registering the data in a dataframe\n",
      "\n",
      "Value were found for the period and the project tested\n",
      "\n",
      "Test with model cnrm_cm6_1\n",
      "path_for_file does not exist: the data may not have been downloaded\n",
      "file_download does not exist: the data were not downloaded\n"
     ]
    },
    {
     "name": "stderr",
     "output_type": "stream",
     "text": [
      "2023-05-05 16:46:46,721 INFO Welcome to the CDS\n",
      "2023-05-05 16:46:46,722 INFO Sending request to https://cds.climate.copernicus.eu/api/v2/resources/projections-cmip6\n",
      "2023-05-05 16:46:46,820 INFO Request is queued\n",
      "2023-05-05 16:46:47,865 INFO Request is running\n",
      "2023-05-05 16:47:00,269 INFO Request is completed\n",
      "2023-05-05 16:47:00,271 INFO Downloading https://download-0011-clone.copernicus-climate.eu/cache-compute-0011/cache/data1/adaptor.esgf_wps.retrieve-1683298017.7004302-31174-18-e5f03dc7-0361-4c9e-bb92-f416fe26358c.zip to download.zip (1.5M)\n",
      "2023-05-05 16:47:01,038 INFO Download rate 2M/s                                                                        \n"
     ]
    },
    {
     "name": "stdout",
     "output_type": "stream",
     "text": [
      "\n",
      " The downloaded file is extracted\n",
      "path_for_file does exist Function copernicus search for nc\n",
      "The file is in the path Function copernicus search for nc\n",
      "\n",
      "The final path for the nc file is: C:\\Users\\CLMRX\\OneDrive - COWI\\Documents\\GitHub\\CRVA_tool\\outputs\\Datasets\\surface_downwelling_shortwave_radiation\\CompleteMozambique\\ssp1_2_6\\cnrm_cm6_1\\2015-2099\\CMIP6-copernicus-GCM\\rsds_Amon_CNRM-CM6-1_ssp126_r1i1p1f2_gr_20150116-20991216_v20190219.nc\n",
      "\n",
      " The final path for nc file exists ? True\n",
      "\n",
      "\n",
      "\n",
      "---------------  Path to nc file exists ?? ---------------\n",
      "\n",
      "False\n",
      "\n",
      "\n",
      "Registering the data in a dataframe\n",
      "\n",
      "Value were found for the period and the project tested\n",
      "\n",
      "Test with model cnrm_esm2_1\n",
      "path_for_file does not exist: the data may not have been downloaded\n",
      "file_download does not exist: the data were not downloaded\n"
     ]
    },
    {
     "name": "stderr",
     "output_type": "stream",
     "text": [
      "2023-05-05 16:54:21,029 INFO Welcome to the CDS\n",
      "2023-05-05 16:54:21,030 INFO Sending request to https://cds.climate.copernicus.eu/api/v2/resources/projections-cmip6\n",
      "2023-05-05 16:54:21,098 INFO Request is queued\n",
      "2023-05-05 16:54:22,137 INFO Request is running\n",
      "2023-05-05 16:54:34,511 INFO Request is completed\n",
      "2023-05-05 16:54:34,512 INFO Downloading https://download-0003-clone.copernicus-climate.eu/cache-compute-0003/cache/data4/adaptor.esgf_wps.retrieve-1683298471.772191-10151-14-9806d86c-8261-496a-89a9-f346f71d9cfd.zip to download.zip (1.6M)\n",
      "2023-05-05 16:54:35,183 INFO Download rate 2.3M/s                                                                      \n"
     ]
    },
    {
     "name": "stdout",
     "output_type": "stream",
     "text": [
      "\n",
      " The downloaded file is extracted\n",
      "path_for_file does exist Function copernicus search for nc\n",
      "The file is in the path Function copernicus search for nc\n",
      "\n",
      "The final path for the nc file is: C:\\Users\\CLMRX\\OneDrive - COWI\\Documents\\GitHub\\CRVA_tool\\outputs\\Datasets\\surface_downwelling_shortwave_radiation\\CompleteMozambique\\ssp1_2_6\\cnrm_esm2_1\\2015-2099\\CMIP6-copernicus-GCM\\rsds_Amon_CNRM-ESM2-1_ssp126_r1i1p1f2_gr_20150116-20991216_v20190328.nc\n",
      "\n",
      " The final path for nc file exists ? True\n",
      "\n",
      "\n",
      "\n",
      "---------------  Path to nc file exists ?? ---------------\n",
      "\n",
      "False\n",
      "\n",
      "\n",
      "Registering the data in a dataframe\n",
      "\n",
      "Value were found for the period and the project tested\n",
      "\n",
      "Test with model e3sm_1_1\n",
      "path_for_file does not exist: the data may not have been downloaded\n",
      "file_download does not exist: the data were not downloaded\n"
     ]
    },
    {
     "name": "stderr",
     "output_type": "stream",
     "text": [
      "2023-05-05 17:02:06,580 INFO Welcome to the CDS\n",
      "2023-05-05 17:02:06,580 INFO Sending request to https://cds.climate.copernicus.eu/api/v2/resources/projections-cmip6\n",
      "2023-05-05 17:02:06,660 INFO Request is queued\n",
      "2023-05-05 17:02:07,703 INFO Request is failed\n",
      "2023-05-05 17:02:07,705 ERROR Message: an internal error occurred processing your request\n",
      "2023-05-05 17:02:07,706 ERROR Reason:  No matching data for request {'experiment': 'ssp126', 'model': 'E3SM-1-1', 'temporal_resolution': 'mon', 'variable': 'rsds'}\n",
      "2023-05-05 17:02:07,707 ERROR   Traceback (most recent call last):\n",
      "2023-05-05 17:02:07,708 ERROR     File \"/opt/cdstoolbox/cdscompute/cdscompute/cdshandlers/services/handler.py\", line 59, in handle_request\n",
      "2023-05-05 17:02:07,709 ERROR       result = cached(context.method, proc, context, context.args, context.kwargs)\n",
      "2023-05-05 17:02:07,709 ERROR     File \"/opt/cdstoolbox/cdscompute/cdscompute/caching.py\", line 108, in cached\n",
      "2023-05-05 17:02:07,710 ERROR       result = proc(context, *context.args, **context.kwargs)\n",
      "2023-05-05 17:02:07,711 ERROR     File \"/opt/cdstoolbox/cdscompute/cdscompute/services.py\", line 124, in __call__\n",
      "2023-05-05 17:02:07,712 ERROR       return p(*args, **kwargs)\n",
      "2023-05-05 17:02:07,712 ERROR     File \"/opt/cdstoolbox/cdscompute/cdscompute/services.py\", line 60, in __call__\n",
      "2023-05-05 17:02:07,713 ERROR       return self.proc(context, *args, **kwargs)\n",
      "2023-05-05 17:02:07,713 ERROR     File \"/home/cds/cdsservices/services/esgf_wps/__init__.py\", line 30, in execute\n",
      "2023-05-05 17:02:07,713 ERROR       request_facets, request = facets.search(context, request)\n",
      "2023-05-05 17:02:07,715 ERROR     File \"/home/cds/cdsservices/services/esgf_wps/facets.py\", line 61, in search\n",
      "2023-05-05 17:02:07,715 ERROR       raise ValueError(f'No matching data for request {tmp_request}')\n",
      "2023-05-05 17:02:07,715 ERROR   ValueError: No matching data for request {'experiment': 'ssp126', 'model': 'E3SM-1-1', 'temporal_resolution': 'mon', 'variable': 'rsds'}\n",
      "2023-05-05 17:02:07,757 INFO Welcome to the CDS\n",
      "2023-05-05 17:02:07,758 INFO Sending request to https://cds.climate.copernicus.eu/api/v2/resources/projections-cmip6\n",
      "2023-05-05 17:02:07,829 INFO Request is queued\n"
     ]
    },
    {
     "name": "stdout",
     "output_type": "stream",
     "text": [
      "Some parameters are not matching\n",
      "\n",
      "No value were found for the period and the project tested\n",
      "\n",
      "Test with model ec_earth3\n",
      "path_for_file does not exist: the data may not have been downloaded\n",
      "file_download does not exist: the data were not downloaded\n"
     ]
    },
    {
     "name": "stderr",
     "output_type": "stream",
     "text": [
      "2023-05-05 17:02:08,872 INFO Request is failed\n",
      "2023-05-05 17:02:08,873 ERROR Message: an internal error occurred processing your request\n",
      "2023-05-05 17:02:08,875 ERROR Reason:  No matching data for request {'experiment': 'ssp126', 'model': 'EC-Earth3', 'temporal_resolution': 'mon', 'variable': 'rsds'}\n",
      "2023-05-05 17:02:08,876 ERROR   Traceback (most recent call last):\n",
      "2023-05-05 17:02:08,877 ERROR     File \"/opt/cdstoolbox/cdscompute/cdscompute/cdshandlers/services/handler.py\", line 59, in handle_request\n",
      "2023-05-05 17:02:08,879 ERROR       result = cached(context.method, proc, context, context.args, context.kwargs)\n",
      "2023-05-05 17:02:08,880 ERROR     File \"/opt/cdstoolbox/cdscompute/cdscompute/caching.py\", line 108, in cached\n",
      "2023-05-05 17:02:08,880 ERROR       result = proc(context, *context.args, **context.kwargs)\n",
      "2023-05-05 17:02:08,881 ERROR     File \"/opt/cdstoolbox/cdscompute/cdscompute/services.py\", line 124, in __call__\n",
      "2023-05-05 17:02:08,881 ERROR       return p(*args, **kwargs)\n",
      "2023-05-05 17:02:08,882 ERROR     File \"/opt/cdstoolbox/cdscompute/cdscompute/services.py\", line 60, in __call__\n",
      "2023-05-05 17:02:08,882 ERROR       return self.proc(context, *args, **kwargs)\n",
      "2023-05-05 17:02:08,884 ERROR     File \"/home/cds/cdsservices/services/esgf_wps/__init__.py\", line 30, in execute\n",
      "2023-05-05 17:02:08,884 ERROR       request_facets, request = facets.search(context, request)\n",
      "2023-05-05 17:02:08,885 ERROR     File \"/home/cds/cdsservices/services/esgf_wps/facets.py\", line 61, in search\n",
      "2023-05-05 17:02:08,885 ERROR       raise ValueError(f'No matching data for request {tmp_request}')\n",
      "2023-05-05 17:02:08,886 ERROR   ValueError: No matching data for request {'experiment': 'ssp126', 'model': 'EC-Earth3', 'temporal_resolution': 'mon', 'variable': 'rsds'}\n",
      "2023-05-05 17:02:08,923 INFO Welcome to the CDS\n",
      "2023-05-05 17:02:08,924 INFO Sending request to https://cds.climate.copernicus.eu/api/v2/resources/projections-cmip6\n",
      "2023-05-05 17:02:08,988 INFO Request is queued\n"
     ]
    },
    {
     "name": "stdout",
     "output_type": "stream",
     "text": [
      "Some parameters are not matching\n",
      "\n",
      "No value were found for the period and the project tested\n",
      "\n",
      "Test with model ec_earth3_cc\n",
      "path_for_file does not exist: the data may not have been downloaded\n",
      "file_download does not exist: the data were not downloaded\n"
     ]
    },
    {
     "name": "stderr",
     "output_type": "stream",
     "text": [
      "2023-05-05 17:02:10,035 INFO Request is failed\n",
      "2023-05-05 17:02:10,036 ERROR Message: an internal error occurred processing your request\n",
      "2023-05-05 17:02:10,038 ERROR Reason:  No matching data for request {'experiment': 'ssp126', 'model': 'EC-Earth3-CC', 'temporal_resolution': 'mon', 'variable': 'rsds'}\n",
      "2023-05-05 17:02:10,039 ERROR   Traceback (most recent call last):\n",
      "2023-05-05 17:02:10,039 ERROR     File \"/opt/cdstoolbox/cdscompute/cdscompute/cdshandlers/services/handler.py\", line 59, in handle_request\n",
      "2023-05-05 17:02:10,040 ERROR       result = cached(context.method, proc, context, context.args, context.kwargs)\n",
      "2023-05-05 17:02:10,041 ERROR     File \"/opt/cdstoolbox/cdscompute/cdscompute/caching.py\", line 108, in cached\n",
      "2023-05-05 17:02:10,042 ERROR       result = proc(context, *context.args, **context.kwargs)\n",
      "2023-05-05 17:02:10,042 ERROR     File \"/opt/cdstoolbox/cdscompute/cdscompute/services.py\", line 124, in __call__\n",
      "2023-05-05 17:02:10,044 ERROR       return p(*args, **kwargs)\n",
      "2023-05-05 17:02:10,045 ERROR     File \"/opt/cdstoolbox/cdscompute/cdscompute/services.py\", line 60, in __call__\n",
      "2023-05-05 17:02:10,046 ERROR       return self.proc(context, *args, **kwargs)\n",
      "2023-05-05 17:02:10,046 ERROR     File \"/home/cds/cdsservices/services/esgf_wps/__init__.py\", line 30, in execute\n",
      "2023-05-05 17:02:10,047 ERROR       request_facets, request = facets.search(context, request)\n",
      "2023-05-05 17:02:10,048 ERROR     File \"/home/cds/cdsservices/services/esgf_wps/facets.py\", line 61, in search\n",
      "2023-05-05 17:02:10,049 ERROR       raise ValueError(f'No matching data for request {tmp_request}')\n",
      "2023-05-05 17:02:10,049 ERROR   ValueError: No matching data for request {'experiment': 'ssp126', 'model': 'EC-Earth3-CC', 'temporal_resolution': 'mon', 'variable': 'rsds'}\n",
      "2023-05-05 17:02:10,091 INFO Welcome to the CDS\n",
      "2023-05-05 17:02:10,092 INFO Sending request to https://cds.climate.copernicus.eu/api/v2/resources/projections-cmip6\n",
      "2023-05-05 17:02:10,166 INFO Request is queued\n"
     ]
    },
    {
     "name": "stdout",
     "output_type": "stream",
     "text": [
      "Some parameters are not matching\n",
      "\n",
      "No value were found for the period and the project tested\n",
      "\n",
      "Test with model ec_earth3_veg_lr\n",
      "path_for_file does not exist: the data may not have been downloaded\n",
      "file_download does not exist: the data were not downloaded\n"
     ]
    },
    {
     "name": "stderr",
     "output_type": "stream",
     "text": [
      "2023-05-05 17:02:11,212 INFO Request is running\n",
      "2023-05-05 17:02:31,217 INFO Request is completed\n",
      "2023-05-05 17:02:31,218 INFO Downloading https://download-0013-clone.copernicus-climate.eu/cache-compute-0013/cache/data8/adaptor.esgf_wps.retrieve-1683298947.298666-8119-17-de250aad-3fec-4d2b-8c42-0a8e4ca31e5c.zip to download.zip (2.4M)\n",
      "2023-05-05 17:02:32,248 INFO Download rate 2.3M/s                                                                      \n"
     ]
    },
    {
     "name": "stdout",
     "output_type": "stream",
     "text": [
      "\n",
      " The downloaded file is extracted\n",
      "path_for_file does exist Function copernicus search for nc\n",
      "The file is in the path Function copernicus search for nc\n",
      "\n",
      "The final path for the nc file is: C:\\Users\\CLMRX\\OneDrive - COWI\\Documents\\GitHub\\CRVA_tool\\outputs\\Datasets\\surface_downwelling_shortwave_radiation\\CompleteMozambique\\ssp1_2_6\\ec_earth3_veg_lr\\2015-2099\\CMIP6-copernicus-GCM\\rsds_Amon_EC-Earth3-Veg-LR_ssp126_r1i1p1f1_gr_20150116-20991216_v20201201.nc\n",
      "\n",
      " The final path for nc file exists ? True\n",
      "\n",
      "\n",
      "\n",
      "---------------  Path to nc file exists ?? ---------------\n",
      "\n",
      "False\n",
      "\n",
      "\n",
      "Registering the data in a dataframe\n",
      "\n",
      "Value were found for the period and the project tested\n",
      "\n",
      "Test with model fgoals_g3\n",
      "path_for_file does not exist: the data may not have been downloaded\n",
      "file_download does not exist: the data were not downloaded\n"
     ]
    },
    {
     "name": "stderr",
     "output_type": "stream",
     "text": [
      "2023-05-05 17:10:07,473 INFO Welcome to the CDS\n",
      "2023-05-05 17:10:07,475 INFO Sending request to https://cds.climate.copernicus.eu/api/v2/resources/projections-cmip6\n",
      "2023-05-05 17:10:07,560 INFO Request is queued\n",
      "2023-05-05 17:10:08,604 INFO Request is running\n",
      "2023-05-05 17:11:22,880 INFO Request is completed\n",
      "2023-05-05 17:11:22,881 INFO Downloading https://download-0013-clone.copernicus-climate.eu/cache-compute-0013/cache/data6/adaptor.esgf_wps.retrieve-1683299467.0790405-9026-16-db12ebdb-d191-41cc-b276-954d9365085d.zip to download.zip (1.4M)\n",
      "2023-05-05 17:11:23,559 INFO Download rate 2.1M/s                                                                      \n"
     ]
    },
    {
     "name": "stdout",
     "output_type": "stream",
     "text": [
      "\n",
      " The downloaded file is extracted\n",
      "path_for_file does exist Function copernicus search for nc\n",
      "The file is in the path Function copernicus search for nc\n",
      "\n",
      "The final path for the nc file is: C:\\Users\\CLMRX\\OneDrive - COWI\\Documents\\GitHub\\CRVA_tool\\outputs\\Datasets\\surface_downwelling_shortwave_radiation\\CompleteMozambique\\ssp1_2_6\\fgoals_g3\\2015-2099\\CMIP6-copernicus-GCM\\rsds_Amon_FGOALS-g3_ssp126_r1i1p1f1_gn_20150116-20991216_v20200927.nc\n",
      "\n",
      " The final path for nc file exists ? True\n",
      "\n",
      "\n",
      "\n",
      "---------------  Path to nc file exists ?? ---------------\n",
      "\n",
      "False\n",
      "\n",
      "\n",
      "Registering the data in a dataframe\n",
      "\n",
      "Value were found for the period and the project tested\n",
      "\n",
      "Test with model gfdl_esm4\n",
      "path_for_file does not exist: the data may not have been downloaded\n",
      "file_download does not exist: the data were not downloaded\n"
     ]
    },
    {
     "name": "stderr",
     "output_type": "stream",
     "text": [
      "2023-05-05 17:19:10,721 INFO Welcome to the CDS\n",
      "2023-05-05 17:19:10,721 INFO Sending request to https://cds.climate.copernicus.eu/api/v2/resources/projections-cmip6\n",
      "2023-05-05 17:19:10,770 INFO Request is queued\n",
      "2023-05-05 17:19:11,818 INFO Request is running\n",
      "2023-05-05 17:19:31,836 INFO Request is completed\n",
      "2023-05-05 17:19:31,838 INFO Downloading https://download-0001-clone.copernicus-climate.eu/cache-compute-0001/cache/data4/adaptor.esgf_wps.retrieve-1683299964.4837103-5442-18-c73a4b3b-4458-4b4b-8a6f-45a47e80c918.zip to download.zip (2.2M)\n",
      "2023-05-05 17:19:32,803 INFO Download rate 2.3M/s                                                                      \n"
     ]
    },
    {
     "name": "stdout",
     "output_type": "stream",
     "text": [
      "\n",
      " The downloaded file is extracted\n",
      "path_for_file does exist Function copernicus search for nc\n",
      "The file is in the path Function copernicus search for nc\n",
      "\n",
      "The final path for the nc file is: C:\\Users\\CLMRX\\OneDrive - COWI\\Documents\\GitHub\\CRVA_tool\\outputs\\Datasets\\surface_downwelling_shortwave_radiation\\CompleteMozambique\\ssp1_2_6\\gfdl_esm4\\2015-2099\\CMIP6-copernicus-GCM\\rsds_Amon_GFDL-ESM4_ssp126_r1i1p1f1_gr1_20150116-20991216_v20180701.nc\n",
      "\n",
      " The final path for nc file exists ? True\n",
      "\n",
      "\n",
      "\n",
      "---------------  Path to nc file exists ?? ---------------\n",
      "\n",
      "False\n",
      "\n",
      "\n",
      "Registering the data in a dataframe\n",
      "\n",
      "Value were found for the period and the project tested\n",
      "\n",
      "Test with model giss_e2_1_h\n",
      "path_for_file does not exist: the data may not have been downloaded\n",
      "file_download does not exist: the data were not downloaded\n"
     ]
    },
    {
     "name": "stderr",
     "output_type": "stream",
     "text": [
      "2023-05-05 17:27:26,876 INFO Welcome to the CDS\n",
      "2023-05-05 17:27:26,877 INFO Sending request to https://cds.climate.copernicus.eu/api/v2/resources/projections-cmip6\n",
      "2023-05-05 17:27:26,953 INFO Request is queued\n",
      "2023-05-05 17:27:27,998 INFO Request is failed\n",
      "2023-05-05 17:27:27,999 ERROR Message: an internal error occurred processing your request\n",
      "2023-05-05 17:27:28,000 ERROR Reason:  No matching data for request {'experiment': 'ssp126', 'model': 'GISS-E2-1-H', 'temporal_resolution': 'mon', 'variable': 'rsds'}\n",
      "2023-05-05 17:27:28,000 ERROR   Traceback (most recent call last):\n",
      "2023-05-05 17:27:28,001 ERROR     File \"/opt/cdstoolbox/cdscompute/cdscompute/cdshandlers/services/handler.py\", line 59, in handle_request\n",
      "2023-05-05 17:27:28,002 ERROR       result = cached(context.method, proc, context, context.args, context.kwargs)\n",
      "2023-05-05 17:27:28,003 ERROR     File \"/opt/cdstoolbox/cdscompute/cdscompute/caching.py\", line 108, in cached\n",
      "2023-05-05 17:27:28,004 ERROR       result = proc(context, *context.args, **context.kwargs)\n",
      "2023-05-05 17:27:28,005 ERROR     File \"/opt/cdstoolbox/cdscompute/cdscompute/services.py\", line 124, in __call__\n",
      "2023-05-05 17:27:28,005 ERROR       return p(*args, **kwargs)\n",
      "2023-05-05 17:27:28,006 ERROR     File \"/opt/cdstoolbox/cdscompute/cdscompute/services.py\", line 60, in __call__\n",
      "2023-05-05 17:27:28,006 ERROR       return self.proc(context, *args, **kwargs)\n",
      "2023-05-05 17:27:28,007 ERROR     File \"/home/cds/cdsservices/services/esgf_wps/__init__.py\", line 30, in execute\n",
      "2023-05-05 17:27:28,007 ERROR       request_facets, request = facets.search(context, request)\n",
      "2023-05-05 17:27:28,007 ERROR     File \"/home/cds/cdsservices/services/esgf_wps/facets.py\", line 61, in search\n",
      "2023-05-05 17:27:28,008 ERROR       raise ValueError(f'No matching data for request {tmp_request}')\n",
      "2023-05-05 17:27:28,008 ERROR   ValueError: No matching data for request {'experiment': 'ssp126', 'model': 'GISS-E2-1-H', 'temporal_resolution': 'mon', 'variable': 'rsds'}\n",
      "2023-05-05 17:27:28,058 INFO Welcome to the CDS\n",
      "2023-05-05 17:27:28,058 INFO Sending request to https://cds.climate.copernicus.eu/api/v2/resources/projections-cmip6\n",
      "2023-05-05 17:27:28,138 INFO Request is queued\n"
     ]
    },
    {
     "name": "stdout",
     "output_type": "stream",
     "text": [
      "Some parameters are not matching\n",
      "\n",
      "No value were found for the period and the project tested\n",
      "\n",
      "Test with model hadgem3_gc31_mm\n",
      "path_for_file does not exist: the data may not have been downloaded\n",
      "file_download does not exist: the data were not downloaded\n"
     ]
    },
    {
     "name": "stderr",
     "output_type": "stream",
     "text": [
      "2023-05-05 17:27:29,192 INFO Request is running\n",
      "2023-05-05 17:28:00,676 INFO Request is completed\n",
      "2023-05-05 17:28:00,678 INFO Downloading https://download-0002-clone.copernicus-climate.eu/cache-compute-0002/cache/data2/adaptor.esgf_wps.retrieve-1683300471.233163-4373-14-b0ab6f07-85c0-4131-8d91-8fe713b95cc6.zip to download.zip (4.8M)\n",
      "2023-05-05 17:28:01,549 INFO Download rate 5.5M/s                                                                      \n"
     ]
    },
    {
     "name": "stdout",
     "output_type": "stream",
     "text": [
      "\n",
      " The downloaded file is extracted\n",
      "path_for_file does exist Function copernicus search for nc\n",
      "The file is in the path Function copernicus search for nc\n",
      "\n",
      "The final path for the nc file is: C:\\Users\\CLMRX\\OneDrive - COWI\\Documents\\GitHub\\CRVA_tool\\outputs\\Datasets\\surface_downwelling_shortwave_radiation\\CompleteMozambique\\ssp1_2_6\\hadgem3_gc31_mm\\2015-2099\\CMIP6-copernicus-GCM\\rsds_Amon_HadGEM3-GC31-MM_ssp126_r1i1p1f3_gn_20150116-20991216_v20200515.nc\n",
      "\n",
      " The final path for nc file exists ? True\n",
      "\n",
      "\n",
      "\n",
      "---------------  Path to nc file exists ?? ---------------\n",
      "\n",
      "False\n",
      "\n",
      "\n",
      "Registering the data in a dataframe\n",
      "\n",
      "Value were found for the period and the project tested\n",
      "\n",
      "Test with model inm_cm4_8\n",
      "path_for_file does not exist: the data may not have been downloaded\n",
      "file_download does not exist: the data were not downloaded\n"
     ]
    },
    {
     "name": "stderr",
     "output_type": "stream",
     "text": [
      "2023-05-05 17:37:08,697 INFO Welcome to the CDS\n",
      "2023-05-05 17:37:08,699 INFO Sending request to https://cds.climate.copernicus.eu/api/v2/resources/projections-cmip6\n",
      "2023-05-05 17:37:08,766 INFO Request is queued\n",
      "2023-05-05 17:37:09,821 INFO Request is running\n",
      "2023-05-05 17:37:29,856 INFO Request is completed\n",
      "2023-05-05 17:37:29,858 INFO Downloading https://download-0004-clone.copernicus-climate.eu/cache-compute-0004/cache/data3/adaptor.esgf_wps.retrieve-1683301039.9086258-10962-6-15288797-a57a-4837-8a51-ccab18081362.zip to download.zip (1.1M)\n",
      "2023-05-05 17:37:30,597 INFO Download rate 1.5M/s                                                                      \n"
     ]
    },
    {
     "name": "stdout",
     "output_type": "stream",
     "text": [
      "\n",
      " The downloaded file is extracted\n",
      "path_for_file does exist Function copernicus search for nc\n",
      "The file is in the path Function copernicus search for nc\n",
      "\n",
      "The final path for the nc file is: C:\\Users\\CLMRX\\OneDrive - COWI\\Documents\\GitHub\\CRVA_tool\\outputs\\Datasets\\surface_downwelling_shortwave_radiation\\CompleteMozambique\\ssp1_2_6\\inm_cm4_8\\2015-2099\\CMIP6-copernicus-GCM\\rsds_Amon_INM-CM4-8_ssp126_r1i1p1f1_gr1_20150116-20991216_v20190603.nc\n",
      "\n",
      " The final path for nc file exists ? True\n",
      "\n",
      "\n",
      "\n",
      "---------------  Path to nc file exists ?? ---------------\n",
      "\n",
      "False\n",
      "\n",
      "\n",
      "Registering the data in a dataframe\n",
      "\n",
      "Value were found for the period and the project tested\n",
      "\n",
      "Test with model ipsl_cm5a2_inca\n",
      "path_for_file does not exist: the data may not have been downloaded\n",
      "file_download does not exist: the data were not downloaded\n"
     ]
    },
    {
     "name": "stderr",
     "output_type": "stream",
     "text": [
      "2023-05-05 17:46:42,730 INFO Welcome to the CDS\n",
      "2023-05-05 17:46:42,732 INFO Sending request to https://cds.climate.copernicus.eu/api/v2/resources/projections-cmip6\n",
      "2023-05-05 17:46:42,797 INFO Request is queued\n",
      "2023-05-05 17:46:43,854 INFO Request is running\n",
      "2023-05-05 17:47:03,887 INFO Request is completed\n",
      "2023-05-05 17:47:03,890 INFO Downloading https://download-0006-clone.copernicus-climate.eu/cache-compute-0006/cache/data0/adaptor.esgf_wps.retrieve-1683301622.6993737-14734-13-6750cf0a-0906-498b-a504-52c01eb4aad7.zip to download.zip (557.4K)\n",
      "2023-05-05 17:47:04,556 INFO Download rate 838.1K/s                                                                    \n"
     ]
    },
    {
     "name": "stdout",
     "output_type": "stream",
     "text": [
      "\n",
      " The downloaded file is extracted\n",
      "path_for_file does exist Function copernicus search for nc\n",
      "The file is in the path Function copernicus search for nc\n",
      "\n",
      "The final path for the nc file is: C:\\Users\\CLMRX\\OneDrive - COWI\\Documents\\GitHub\\CRVA_tool\\outputs\\Datasets\\surface_downwelling_shortwave_radiation\\CompleteMozambique\\ssp1_2_6\\ipsl_cm5a2_inca\\2015-2099\\CMIP6-copernicus-GCM\\rsds_Amon_IPSL-CM5A2-INCA_ssp126_r1i1p1f1_gr_20150116-20991216_v20201218.nc\n",
      "\n",
      " The final path for nc file exists ? True\n",
      "\n",
      "\n",
      "\n",
      "---------------  Path to nc file exists ?? ---------------\n",
      "\n",
      "False\n",
      "\n",
      "\n",
      "Registering the data in a dataframe\n",
      "\n",
      "Value were found for the period and the project tested\n",
      "\n",
      "Test with model kace_1_0_g\n",
      "path_for_file does not exist: the data may not have been downloaded\n",
      "file_download does not exist: the data were not downloaded\n"
     ]
    },
    {
     "name": "stderr",
     "output_type": "stream",
     "text": [
      "2023-05-05 17:56:46,519 INFO Welcome to the CDS\n",
      "2023-05-05 17:56:46,519 INFO Sending request to https://cds.climate.copernicus.eu/api/v2/resources/projections-cmip6\n",
      "2023-05-05 17:56:46,641 INFO Request is queued\n",
      "2023-05-05 17:56:47,683 INFO Request is running\n",
      "2023-05-05 17:57:00,062 INFO Request is completed\n",
      "2023-05-05 17:57:00,064 INFO Downloading https://download-0011-clone.copernicus-climate.eu/cache-compute-0011/cache/data9/adaptor.esgf_wps.retrieve-1683302217.2797492-15563-14-615e316e-5d8c-41be-9d98-302c383f9038.zip to download.zip (1.4M)\n",
      "2023-05-05 17:57:00,872 INFO Download rate 1.7M/s                                                                      \n"
     ]
    },
    {
     "name": "stdout",
     "output_type": "stream",
     "text": [
      "\n",
      " The downloaded file is extracted\n",
      "path_for_file does exist Function copernicus search for nc\n",
      "The file is in the path Function copernicus search for nc\n",
      "\n",
      "The final path for the nc file is: C:\\Users\\CLMRX\\OneDrive - COWI\\Documents\\GitHub\\CRVA_tool\\outputs\\Datasets\\surface_downwelling_shortwave_radiation\\CompleteMozambique\\ssp1_2_6\\kace_1_0_g\\2015-2099\\CMIP6-copernicus-GCM\\rsds_Amon_KACE-1-0-G_ssp126_r1i1p1f1_gr_20150116-20991216_v20191007.nc\n",
      "\n",
      " The final path for nc file exists ? True\n",
      "\n",
      "\n",
      "\n",
      "---------------  Path to nc file exists ?? ---------------\n",
      "\n",
      "False\n",
      "\n",
      "\n",
      "Registering the data in a dataframe\n",
      "\n",
      "Value were found for the period and the project tested\n",
      "\n",
      "Test with model mcm_ua_1_0\n",
      "path_for_file does not exist: the data may not have been downloaded\n",
      "file_download does not exist: the data were not downloaded\n"
     ]
    },
    {
     "name": "stderr",
     "output_type": "stream",
     "text": [
      "2023-05-05 18:06:09,045 INFO Welcome to the CDS\n",
      "2023-05-05 18:06:09,047 INFO Sending request to https://cds.climate.copernicus.eu/api/v2/resources/projections-cmip6\n",
      "2023-05-05 18:06:09,119 INFO Request is queued\n",
      "2023-05-05 18:06:10,168 INFO Request is failed\n",
      "2023-05-05 18:06:10,169 ERROR Message: an internal error occurred processing your request\n",
      "2023-05-05 18:06:10,170 ERROR Reason:  No matching data for request {'experiment': 'ssp126', 'model': 'MCM-UA-1-0', 'temporal_resolution': 'mon', 'variable': 'rsds'}\n",
      "2023-05-05 18:06:10,171 ERROR   Traceback (most recent call last):\n",
      "2023-05-05 18:06:10,172 ERROR     File \"/opt/cdstoolbox/cdscompute/cdscompute/cdshandlers/services/handler.py\", line 59, in handle_request\n",
      "2023-05-05 18:06:10,173 ERROR       result = cached(context.method, proc, context, context.args, context.kwargs)\n",
      "2023-05-05 18:06:10,173 ERROR     File \"/opt/cdstoolbox/cdscompute/cdscompute/caching.py\", line 108, in cached\n",
      "2023-05-05 18:06:10,174 ERROR       result = proc(context, *context.args, **context.kwargs)\n",
      "2023-05-05 18:06:10,174 ERROR     File \"/opt/cdstoolbox/cdscompute/cdscompute/services.py\", line 124, in __call__\n",
      "2023-05-05 18:06:10,175 ERROR       return p(*args, **kwargs)\n",
      "2023-05-05 18:06:10,176 ERROR     File \"/opt/cdstoolbox/cdscompute/cdscompute/services.py\", line 60, in __call__\n",
      "2023-05-05 18:06:10,176 ERROR       return self.proc(context, *args, **kwargs)\n",
      "2023-05-05 18:06:10,176 ERROR     File \"/home/cds/cdsservices/services/esgf_wps/__init__.py\", line 30, in execute\n",
      "2023-05-05 18:06:10,177 ERROR       request_facets, request = facets.search(context, request)\n",
      "2023-05-05 18:06:10,177 ERROR     File \"/home/cds/cdsservices/services/esgf_wps/facets.py\", line 61, in search\n",
      "2023-05-05 18:06:10,177 ERROR       raise ValueError(f'No matching data for request {tmp_request}')\n",
      "2023-05-05 18:06:10,178 ERROR   ValueError: No matching data for request {'experiment': 'ssp126', 'model': 'MCM-UA-1-0', 'temporal_resolution': 'mon', 'variable': 'rsds'}\n",
      "2023-05-05 18:06:10,218 INFO Welcome to the CDS\n",
      "2023-05-05 18:06:10,220 INFO Sending request to https://cds.climate.copernicus.eu/api/v2/resources/projections-cmip6\n",
      "2023-05-05 18:06:10,268 INFO Request is queued\n"
     ]
    },
    {
     "name": "stdout",
     "output_type": "stream",
     "text": [
      "Some parameters are not matching\n",
      "\n",
      "No value were found for the period and the project tested\n",
      "\n",
      "Test with model miroc_es2h\n",
      "path_for_file does not exist: the data may not have been downloaded\n",
      "file_download does not exist: the data were not downloaded\n"
     ]
    },
    {
     "name": "stderr",
     "output_type": "stream",
     "text": [
      "2023-05-05 18:06:11,311 INFO Request is failed\n",
      "2023-05-05 18:06:11,313 ERROR Message: an internal error occurred processing your request\n",
      "2023-05-05 18:06:11,314 ERROR Reason:  No matching data for request {'experiment': 'ssp126', 'model': 'MIROC-ES2H', 'temporal_resolution': 'mon', 'variable': 'rsds'}\n",
      "2023-05-05 18:06:11,315 ERROR   Traceback (most recent call last):\n",
      "2023-05-05 18:06:11,318 ERROR     File \"/opt/cdstoolbox/cdscompute/cdscompute/cdshandlers/services/handler.py\", line 59, in handle_request\n",
      "2023-05-05 18:06:11,319 ERROR       result = cached(context.method, proc, context, context.args, context.kwargs)\n",
      "2023-05-05 18:06:11,320 ERROR     File \"/opt/cdstoolbox/cdscompute/cdscompute/caching.py\", line 108, in cached\n",
      "2023-05-05 18:06:11,321 ERROR       result = proc(context, *context.args, **context.kwargs)\n",
      "2023-05-05 18:06:11,322 ERROR     File \"/opt/cdstoolbox/cdscompute/cdscompute/services.py\", line 124, in __call__\n",
      "2023-05-05 18:06:11,322 ERROR       return p(*args, **kwargs)\n",
      "2023-05-05 18:06:11,323 ERROR     File \"/opt/cdstoolbox/cdscompute/cdscompute/services.py\", line 60, in __call__\n",
      "2023-05-05 18:06:11,323 ERROR       return self.proc(context, *args, **kwargs)\n",
      "2023-05-05 18:06:11,325 ERROR     File \"/home/cds/cdsservices/services/esgf_wps/__init__.py\", line 30, in execute\n",
      "2023-05-05 18:06:11,325 ERROR       request_facets, request = facets.search(context, request)\n",
      "2023-05-05 18:06:11,326 ERROR     File \"/home/cds/cdsservices/services/esgf_wps/facets.py\", line 61, in search\n",
      "2023-05-05 18:06:11,326 ERROR       raise ValueError(f'No matching data for request {tmp_request}')\n",
      "2023-05-05 18:06:11,327 ERROR   ValueError: No matching data for request {'experiment': 'ssp126', 'model': 'MIROC-ES2H', 'temporal_resolution': 'mon', 'variable': 'rsds'}\n",
      "2023-05-05 18:06:11,365 INFO Welcome to the CDS\n",
      "2023-05-05 18:06:11,366 INFO Sending request to https://cds.climate.copernicus.eu/api/v2/resources/projections-cmip6\n",
      "2023-05-05 18:06:11,456 INFO Request is queued\n"
     ]
    },
    {
     "name": "stdout",
     "output_type": "stream",
     "text": [
      "Some parameters are not matching\n",
      "\n",
      "No value were found for the period and the project tested\n",
      "\n",
      "Test with model mpi_esm_1_2_ham\n",
      "path_for_file does not exist: the data may not have been downloaded\n",
      "file_download does not exist: the data were not downloaded\n"
     ]
    },
    {
     "name": "stderr",
     "output_type": "stream",
     "text": [
      "2023-05-05 18:06:12,511 INFO Request is failed\n",
      "2023-05-05 18:06:12,513 ERROR Message: an internal error occurred processing your request\n",
      "2023-05-05 18:06:12,514 ERROR Reason:  No matching data for request {'experiment': 'ssp126', 'model': 'MPI-ESM-1-2-HAM', 'temporal_resolution': 'mon', 'variable': 'rsds'}\n",
      "2023-05-05 18:06:12,515 ERROR   Traceback (most recent call last):\n",
      "2023-05-05 18:06:12,516 ERROR     File \"/opt/cdstoolbox/cdscompute/cdscompute/cdshandlers/services/handler.py\", line 59, in handle_request\n",
      "2023-05-05 18:06:12,518 ERROR       result = cached(context.method, proc, context, context.args, context.kwargs)\n",
      "2023-05-05 18:06:12,521 ERROR     File \"/opt/cdstoolbox/cdscompute/cdscompute/caching.py\", line 108, in cached\n",
      "2023-05-05 18:06:12,521 ERROR       result = proc(context, *context.args, **context.kwargs)\n",
      "2023-05-05 18:06:12,523 ERROR     File \"/opt/cdstoolbox/cdscompute/cdscompute/services.py\", line 124, in __call__\n",
      "2023-05-05 18:06:12,523 ERROR       return p(*args, **kwargs)\n",
      "2023-05-05 18:06:12,524 ERROR     File \"/opt/cdstoolbox/cdscompute/cdscompute/services.py\", line 60, in __call__\n",
      "2023-05-05 18:06:12,524 ERROR       return self.proc(context, *args, **kwargs)\n",
      "2023-05-05 18:06:12,524 ERROR     File \"/home/cds/cdsservices/services/esgf_wps/__init__.py\", line 30, in execute\n",
      "2023-05-05 18:06:12,525 ERROR       request_facets, request = facets.search(context, request)\n",
      "2023-05-05 18:06:12,526 ERROR     File \"/home/cds/cdsservices/services/esgf_wps/facets.py\", line 61, in search\n",
      "2023-05-05 18:06:12,526 ERROR       raise ValueError(f'No matching data for request {tmp_request}')\n",
      "2023-05-05 18:06:12,527 ERROR   ValueError: No matching data for request {'experiment': 'ssp126', 'model': 'MPI-ESM-1-2-HAM', 'temporal_resolution': 'mon', 'variable': 'rsds'}\n",
      "2023-05-05 18:06:12,565 INFO Welcome to the CDS\n",
      "2023-05-05 18:06:12,566 INFO Sending request to https://cds.climate.copernicus.eu/api/v2/resources/projections-cmip6\n",
      "2023-05-05 18:06:12,629 INFO Request is queued\n"
     ]
    },
    {
     "name": "stdout",
     "output_type": "stream",
     "text": [
      "Some parameters are not matching\n",
      "\n",
      "No value were found for the period and the project tested\n",
      "\n",
      "Test with model mpi_esm1_2_lr\n",
      "path_for_file does not exist: the data may not have been downloaded\n",
      "file_download does not exist: the data were not downloaded\n"
     ]
    },
    {
     "name": "stderr",
     "output_type": "stream",
     "text": [
      "2023-05-05 18:06:13,674 INFO Request is running\n",
      "2023-05-05 18:06:26,057 INFO Request is completed\n",
      "2023-05-05 18:06:26,059 INFO Downloading https://download-0014-clone.copernicus-climate.eu/cache-compute-0014/cache/data8/adaptor.esgf_wps.retrieve-1683302780.452411-28172-19-d21c5a94-c1cb-43c4-8409-84380e189db9.zip to download.zip (693.7K)\n",
      "2023-05-05 18:06:26,820 INFO Download rate 912.4K/s                                                                    \n"
     ]
    },
    {
     "name": "stdout",
     "output_type": "stream",
     "text": [
      "\n",
      " The downloaded file is extracted\n",
      "path_for_file does exist Function copernicus search for nc\n",
      "The file is in the path Function copernicus search for nc\n",
      "\n",
      "The final path for the nc file is: C:\\Users\\CLMRX\\OneDrive - COWI\\Documents\\GitHub\\CRVA_tool\\outputs\\Datasets\\surface_downwelling_shortwave_radiation\\CompleteMozambique\\ssp1_2_6\\mpi_esm1_2_lr\\2015-2099\\CMIP6-copernicus-GCM\\rsds_Amon_MPI-ESM1-2-LR_ssp126_r1i1p1f1_gn_20150116-20991216_v20190710.nc\n",
      "\n",
      " The final path for nc file exists ? True\n",
      "\n",
      "\n",
      "\n",
      "---------------  Path to nc file exists ?? ---------------\n",
      "\n",
      "False\n",
      "\n",
      "\n",
      "Registering the data in a dataframe\n",
      "\n",
      "Value were found for the period and the project tested\n",
      "\n",
      "Test with model nesm3\n",
      "path_for_file does not exist: the data may not have been downloaded\n",
      "file_download does not exist: the data were not downloaded\n"
     ]
    },
    {
     "name": "stderr",
     "output_type": "stream",
     "text": [
      "2023-05-05 18:15:47,978 INFO Welcome to the CDS\n",
      "2023-05-05 18:15:47,978 INFO Sending request to https://cds.climate.copernicus.eu/api/v2/resources/projections-cmip6\n",
      "2023-05-05 18:15:48,045 INFO Request is queued\n",
      "2023-05-05 18:15:49,098 INFO Request is failed\n",
      "2023-05-05 18:15:49,099 ERROR Message: an internal error occurred processing your request\n",
      "2023-05-05 18:15:49,100 ERROR Reason:  execution failed\n",
      "2023-05-05 18:15:49,100 ERROR   Traceback (most recent call last):\n",
      "2023-05-05 18:15:49,100 ERROR     File \"/usr/local/lib/python3.6/site-packages/birdy/client/base.py\", line 373, in _execute\n",
      "2023-05-05 18:15:49,101 ERROR       lineage=self._lineage,\n",
      "2023-05-05 18:15:49,102 ERROR     File \"/usr/local/lib/python3.6/site-packages/owslib/wps.py\", line 359, in execute\n",
      "2023-05-05 18:15:49,102 ERROR       response = execution.submitRequest(request)\n",
      "2023-05-05 18:15:49,103 ERROR     File \"/usr/local/lib/python3.6/site-packages/owslib/wps.py\", line 912, in submitRequest\n",
      "2023-05-05 18:15:49,103 ERROR       self.url, request, method='Post', headers=self.headers)\n",
      "2023-05-05 18:15:49,104 ERROR     File \"/usr/local/lib/python3.6/site-packages/owslib/wps.py\", line 603, in readFromUrl\n",
      "2023-05-05 18:15:49,105 ERROR       headers=headers, verify=verify, cert=cert)\n",
      "2023-05-05 18:15:49,105 ERROR     File \"/usr/local/lib/python3.6/site-packages/owslib/wps.py\", line 515, in _readFromUrl\n",
      "2023-05-05 18:15:49,106 ERROR       headers=headers, verify=self.auth.verify, cert=self.auth.cert, timeout=timeout)\n",
      "2023-05-05 18:15:49,107 ERROR     File \"/usr/local/lib/python3.6/site-packages/owslib/util.py\", line 209, in openURL\n",
      "2023-05-05 18:15:49,107 ERROR       req.raise_for_status()\n",
      "2023-05-05 18:15:49,107 ERROR     File \"/usr/local/lib/python3.6/site-packages/requests/models.py\", line 960, in raise_for_status\n",
      "2023-05-05 18:15:49,108 ERROR       raise HTTPError(http_error_msg, response=self)\n",
      "2023-05-05 18:15:49,108 ERROR   requests.exceptions.HTTPError: 500 Server Error: INTERNAL SERVER ERROR for url: http://compute.mips.copernicus-climate.eu/wps\n",
      "2023-05-05 18:15:49,153 INFO Welcome to the CDS\n",
      "2023-05-05 18:15:49,154 INFO Sending request to https://cds.climate.copernicus.eu/api/v2/resources/projections-cmip6\n",
      "2023-05-05 18:15:49,291 INFO Request is queued\n"
     ]
    },
    {
     "name": "stdout",
     "output_type": "stream",
     "text": [
      "Some parameters are not matching\n",
      "\n",
      "No value were found for the period and the project tested\n",
      "\n",
      "Test with model noresm2_lm\n",
      "path_for_file does not exist: the data may not have been downloaded\n",
      "file_download does not exist: the data were not downloaded\n"
     ]
    },
    {
     "name": "stderr",
     "output_type": "stream",
     "text": [
      "2023-05-05 18:15:50,344 INFO Request is failed\n",
      "2023-05-05 18:15:50,345 ERROR Message: an internal error occurred processing your request\n",
      "2023-05-05 18:15:50,347 ERROR Reason:  execution failed\n",
      "2023-05-05 18:15:50,347 ERROR   Traceback (most recent call last):\n",
      "2023-05-05 18:15:50,348 ERROR     File \"/usr/local/lib/python3.6/site-packages/birdy/client/base.py\", line 373, in _execute\n",
      "2023-05-05 18:15:50,349 ERROR       lineage=self._lineage,\n",
      "2023-05-05 18:15:50,349 ERROR     File \"/usr/local/lib/python3.6/site-packages/owslib/wps.py\", line 359, in execute\n",
      "2023-05-05 18:15:50,350 ERROR       response = execution.submitRequest(request)\n",
      "2023-05-05 18:15:50,350 ERROR     File \"/usr/local/lib/python3.6/site-packages/owslib/wps.py\", line 912, in submitRequest\n",
      "2023-05-05 18:15:50,350 ERROR       self.url, request, method='Post', headers=self.headers)\n",
      "2023-05-05 18:15:50,351 ERROR     File \"/usr/local/lib/python3.6/site-packages/owslib/wps.py\", line 603, in readFromUrl\n",
      "2023-05-05 18:15:50,352 ERROR       headers=headers, verify=verify, cert=cert)\n",
      "2023-05-05 18:15:50,352 ERROR     File \"/usr/local/lib/python3.6/site-packages/owslib/wps.py\", line 515, in _readFromUrl\n",
      "2023-05-05 18:15:50,353 ERROR       headers=headers, verify=self.auth.verify, cert=self.auth.cert, timeout=timeout)\n",
      "2023-05-05 18:15:50,354 ERROR     File \"/usr/local/lib/python3.6/site-packages/owslib/util.py\", line 209, in openURL\n",
      "2023-05-05 18:15:50,356 ERROR       req.raise_for_status()\n",
      "2023-05-05 18:15:50,356 ERROR     File \"/usr/local/lib/python3.6/site-packages/requests/models.py\", line 960, in raise_for_status\n",
      "2023-05-05 18:15:50,357 ERROR       raise HTTPError(http_error_msg, response=self)\n",
      "2023-05-05 18:15:50,357 ERROR   requests.exceptions.HTTPError: 500 Server Error: INTERNAL SERVER ERROR for url: http://compute.mips.copernicus-climate.eu/wps\n",
      "2023-05-05 18:15:50,399 INFO Welcome to the CDS\n",
      "2023-05-05 18:15:50,400 INFO Sending request to https://cds.climate.copernicus.eu/api/v2/resources/projections-cmip6\n",
      "2023-05-05 18:15:50,454 INFO Request is queued\n"
     ]
    },
    {
     "name": "stdout",
     "output_type": "stream",
     "text": [
      "Some parameters are not matching\n",
      "\n",
      "No value were found for the period and the project tested\n",
      "\n",
      "Test with model sam0_unicon\n",
      "path_for_file does not exist: the data may not have been downloaded\n",
      "file_download does not exist: the data were not downloaded\n"
     ]
    },
    {
     "name": "stderr",
     "output_type": "stream",
     "text": [
      "2023-05-05 18:15:51,510 INFO Request is failed\n",
      "2023-05-05 18:15:51,511 ERROR Message: an internal error occurred processing your request\n",
      "2023-05-05 18:15:51,511 ERROR Reason:  No matching data for request {'experiment': 'ssp126', 'model': 'SAM0-UNICON', 'temporal_resolution': 'mon', 'variable': 'rsds'}\n",
      "2023-05-05 18:15:51,511 ERROR   Traceback (most recent call last):\n",
      "2023-05-05 18:15:51,512 ERROR     File \"/opt/cdstoolbox/cdscompute/cdscompute/cdshandlers/services/handler.py\", line 59, in handle_request\n",
      "2023-05-05 18:15:51,513 ERROR       result = cached(context.method, proc, context, context.args, context.kwargs)\n",
      "2023-05-05 18:15:51,514 ERROR     File \"/opt/cdstoolbox/cdscompute/cdscompute/caching.py\", line 108, in cached\n",
      "2023-05-05 18:15:51,514 ERROR       result = proc(context, *context.args, **context.kwargs)\n",
      "2023-05-05 18:15:51,515 ERROR     File \"/opt/cdstoolbox/cdscompute/cdscompute/services.py\", line 124, in __call__\n",
      "2023-05-05 18:15:51,515 ERROR       return p(*args, **kwargs)\n",
      "2023-05-05 18:15:51,517 ERROR     File \"/opt/cdstoolbox/cdscompute/cdscompute/services.py\", line 60, in __call__\n",
      "2023-05-05 18:15:51,517 ERROR       return self.proc(context, *args, **kwargs)\n",
      "2023-05-05 18:15:51,517 ERROR     File \"/home/cds/cdsservices/services/esgf_wps/__init__.py\", line 30, in execute\n",
      "2023-05-05 18:15:51,518 ERROR       request_facets, request = facets.search(context, request)\n",
      "2023-05-05 18:15:51,518 ERROR     File \"/home/cds/cdsservices/services/esgf_wps/facets.py\", line 61, in search\n",
      "2023-05-05 18:15:51,519 ERROR       raise ValueError(f'No matching data for request {tmp_request}')\n",
      "2023-05-05 18:15:51,519 ERROR   ValueError: No matching data for request {'experiment': 'ssp126', 'model': 'SAM0-UNICON', 'temporal_resolution': 'mon', 'variable': 'rsds'}\n",
      "2023-05-05 18:15:51,562 INFO Welcome to the CDS\n",
      "2023-05-05 18:15:51,563 INFO Sending request to https://cds.climate.copernicus.eu/api/v2/resources/projections-cmip6\n",
      "2023-05-05 18:15:51,635 INFO Request is queued\n"
     ]
    },
    {
     "name": "stdout",
     "output_type": "stream",
     "text": [
      "Some parameters are not matching\n",
      "\n",
      "No value were found for the period and the project tested\n",
      "\n",
      "Test with model ukesm1_0_ll\n",
      "path_for_file does not exist: the data may not have been downloaded\n",
      "file_download does not exist: the data were not downloaded\n"
     ]
    },
    {
     "name": "stderr",
     "output_type": "stream",
     "text": [
      "2023-05-05 18:15:52,690 INFO Request is running\n",
      "2023-05-05 18:16:05,078 INFO Request is completed\n",
      "2023-05-05 18:16:05,080 INFO Downloading https://download-0005-clone.copernicus-climate.eu/cache-compute-0005/cache/data5/adaptor.esgf_wps.retrieve-1683303362.4729526-25977-18-faef7013-c578-43d8-bd65-a5d2a1338969.zip to download.zip (1.1M)\n",
      "2023-05-05 18:16:05,963 INFO Download rate 1.3M/s                                                                      \n"
     ]
    },
    {
     "name": "stdout",
     "output_type": "stream",
     "text": [
      "\n",
      " The downloaded file is extracted\n",
      "path_for_file does exist Function copernicus search for nc\n",
      "The file is in the path Function copernicus search for nc\n",
      "\n",
      "The final path for the nc file is: C:\\Users\\CLMRX\\OneDrive - COWI\\Documents\\GitHub\\CRVA_tool\\outputs\\Datasets\\surface_downwelling_shortwave_radiation\\CompleteMozambique\\ssp1_2_6\\ukesm1_0_ll\\2015-2099\\CMIP6-copernicus-GCM\\rsds_Amon_UKESM1-0-LL_ssp126_r1i1p1f2_gn_20150116-20991216_v20190503.nc\n",
      "\n",
      " The final path for nc file exists ? True\n",
      "\n",
      "\n",
      "\n",
      "---------------  Path to nc file exists ?? ---------------\n",
      "\n",
      "False\n",
      "\n",
      "\n",
      "Registering the data in a dataframe\n",
      "\n",
      "Value were found for the period and the project tested\n",
      "\n",
      "Test with scenario ssp4_3_4\n",
      "Test with model access_cm2\n",
      "path_for_file does not exist: the data may not have been downloaded\n",
      "file_download does not exist: the data were not downloaded\n"
     ]
    },
    {
     "name": "stderr",
     "output_type": "stream",
     "text": [
      "2023-05-05 18:25:34,083 INFO Welcome to the CDS\n",
      "2023-05-05 18:25:34,084 INFO Sending request to https://cds.climate.copernicus.eu/api/v2/resources/projections-cmip6\n",
      "2023-05-05 18:25:34,185 INFO Request is queued\n",
      "2023-05-05 18:25:35,238 INFO Request is failed\n",
      "2023-05-05 18:25:35,239 ERROR Message: an internal error occurred processing your request\n",
      "2023-05-05 18:25:35,242 ERROR Reason:  No matching data for request {'experiment': 'ssp434', 'model': 'ACCESS-CM2', 'temporal_resolution': 'mon', 'variable': 'rsds'}\n",
      "2023-05-05 18:25:35,243 ERROR   Traceback (most recent call last):\n",
      "2023-05-05 18:25:35,243 ERROR     File \"/opt/cdstoolbox/cdscompute/cdscompute/cdshandlers/services/handler.py\", line 59, in handle_request\n",
      "2023-05-05 18:25:35,244 ERROR       result = cached(context.method, proc, context, context.args, context.kwargs)\n",
      "2023-05-05 18:25:35,244 ERROR     File \"/opt/cdstoolbox/cdscompute/cdscompute/caching.py\", line 108, in cached\n",
      "2023-05-05 18:25:35,245 ERROR       result = proc(context, *context.args, **context.kwargs)\n",
      "2023-05-05 18:25:35,245 ERROR     File \"/opt/cdstoolbox/cdscompute/cdscompute/services.py\", line 124, in __call__\n",
      "2023-05-05 18:25:35,246 ERROR       return p(*args, **kwargs)\n",
      "2023-05-05 18:25:35,246 ERROR     File \"/opt/cdstoolbox/cdscompute/cdscompute/services.py\", line 60, in __call__\n",
      "2023-05-05 18:25:35,247 ERROR       return self.proc(context, *args, **kwargs)\n",
      "2023-05-05 18:25:35,247 ERROR     File \"/home/cds/cdsservices/services/esgf_wps/__init__.py\", line 30, in execute\n",
      "2023-05-05 18:25:35,248 ERROR       request_facets, request = facets.search(context, request)\n",
      "2023-05-05 18:25:35,248 ERROR     File \"/home/cds/cdsservices/services/esgf_wps/facets.py\", line 61, in search\n",
      "2023-05-05 18:25:35,249 ERROR       raise ValueError(f'No matching data for request {tmp_request}')\n",
      "2023-05-05 18:25:35,249 ERROR   ValueError: No matching data for request {'experiment': 'ssp434', 'model': 'ACCESS-CM2', 'temporal_resolution': 'mon', 'variable': 'rsds'}\n",
      "2023-05-05 18:25:35,286 INFO Welcome to the CDS\n",
      "2023-05-05 18:25:35,287 INFO Sending request to https://cds.climate.copernicus.eu/api/v2/resources/projections-cmip6\n",
      "2023-05-05 18:25:35,352 INFO Request is queued\n"
     ]
    },
    {
     "name": "stdout",
     "output_type": "stream",
     "text": [
      "Some parameters are not matching\n",
      "\n",
      "No value were found for the period and the project tested\n",
      "\n",
      "Test with model awi_cm_1_1_mr\n",
      "path_for_file does not exist: the data may not have been downloaded\n",
      "file_download does not exist: the data were not downloaded\n"
     ]
    },
    {
     "name": "stderr",
     "output_type": "stream",
     "text": [
      "2023-05-05 18:25:36,394 INFO Request is failed\n",
      "2023-05-05 18:25:36,395 ERROR Message: an internal error occurred processing your request\n",
      "2023-05-05 18:25:36,396 ERROR Reason:  No matching data for request {'experiment': 'ssp434', 'model': 'AWI-CM-1-1-MR', 'temporal_resolution': 'mon', 'variable': 'rsds'}\n",
      "2023-05-05 18:25:36,397 ERROR   Traceback (most recent call last):\n",
      "2023-05-05 18:25:36,399 ERROR     File \"/opt/cdstoolbox/cdscompute/cdscompute/cdshandlers/services/handler.py\", line 59, in handle_request\n",
      "2023-05-05 18:25:36,400 ERROR       result = cached(context.method, proc, context, context.args, context.kwargs)\n",
      "2023-05-05 18:25:36,401 ERROR     File \"/opt/cdstoolbox/cdscompute/cdscompute/caching.py\", line 108, in cached\n",
      "2023-05-05 18:25:36,402 ERROR       result = proc(context, *context.args, **context.kwargs)\n",
      "2023-05-05 18:25:36,403 ERROR     File \"/opt/cdstoolbox/cdscompute/cdscompute/services.py\", line 124, in __call__\n",
      "2023-05-05 18:25:36,403 ERROR       return p(*args, **kwargs)\n",
      "2023-05-05 18:25:36,404 ERROR     File \"/opt/cdstoolbox/cdscompute/cdscompute/services.py\", line 60, in __call__\n",
      "2023-05-05 18:25:36,404 ERROR       return self.proc(context, *args, **kwargs)\n",
      "2023-05-05 18:25:36,405 ERROR     File \"/home/cds/cdsservices/services/esgf_wps/__init__.py\", line 30, in execute\n",
      "2023-05-05 18:25:36,406 ERROR       request_facets, request = facets.search(context, request)\n",
      "2023-05-05 18:25:36,406 ERROR     File \"/home/cds/cdsservices/services/esgf_wps/facets.py\", line 61, in search\n",
      "2023-05-05 18:25:36,407 ERROR       raise ValueError(f'No matching data for request {tmp_request}')\n",
      "2023-05-05 18:25:36,407 ERROR   ValueError: No matching data for request {'experiment': 'ssp434', 'model': 'AWI-CM-1-1-MR', 'temporal_resolution': 'mon', 'variable': 'rsds'}\n",
      "2023-05-05 18:25:36,445 INFO Welcome to the CDS\n",
      "2023-05-05 18:25:36,446 INFO Sending request to https://cds.climate.copernicus.eu/api/v2/resources/projections-cmip6\n"
     ]
    },
    {
     "name": "stdout",
     "output_type": "stream",
     "text": [
      "Some parameters are not matching\n",
      "\n",
      "No value were found for the period and the project tested\n",
      "\n",
      "Test with model bcc_csm2_mr\n",
      "path_for_file does not exist: the data may not have been downloaded\n",
      "file_download does not exist: the data were not downloaded\n"
     ]
    },
    {
     "name": "stderr",
     "output_type": "stream",
     "text": [
      "2023-05-05 18:25:36,904 INFO Request is queued\n",
      "2023-05-05 18:25:37,954 INFO Request is failed\n",
      "2023-05-05 18:25:37,955 ERROR Message: an internal error occurred processing your request\n",
      "2023-05-05 18:25:37,955 ERROR Reason:  No matching data for request {'experiment': 'ssp434', 'model': 'BCC-CSM2-MR', 'temporal_resolution': 'mon', 'variable': 'rsds'}\n",
      "2023-05-05 18:25:37,956 ERROR   Traceback (most recent call last):\n",
      "2023-05-05 18:25:37,956 ERROR     File \"/opt/cdstoolbox/cdscompute/cdscompute/cdshandlers/services/handler.py\", line 59, in handle_request\n",
      "2023-05-05 18:25:37,957 ERROR       result = cached(context.method, proc, context, context.args, context.kwargs)\n",
      "2023-05-05 18:25:37,957 ERROR     File \"/opt/cdstoolbox/cdscompute/cdscompute/caching.py\", line 108, in cached\n",
      "2023-05-05 18:25:37,958 ERROR       result = proc(context, *context.args, **context.kwargs)\n",
      "2023-05-05 18:25:37,959 ERROR     File \"/opt/cdstoolbox/cdscompute/cdscompute/services.py\", line 124, in __call__\n",
      "2023-05-05 18:25:37,959 ERROR       return p(*args, **kwargs)\n",
      "2023-05-05 18:25:37,960 ERROR     File \"/opt/cdstoolbox/cdscompute/cdscompute/services.py\", line 60, in __call__\n",
      "2023-05-05 18:25:37,961 ERROR       return self.proc(context, *args, **kwargs)\n",
      "2023-05-05 18:25:37,961 ERROR     File \"/home/cds/cdsservices/services/esgf_wps/__init__.py\", line 30, in execute\n",
      "2023-05-05 18:25:37,961 ERROR       request_facets, request = facets.search(context, request)\n",
      "2023-05-05 18:25:37,962 ERROR     File \"/home/cds/cdsservices/services/esgf_wps/facets.py\", line 61, in search\n",
      "2023-05-05 18:25:37,962 ERROR       raise ValueError(f'No matching data for request {tmp_request}')\n",
      "2023-05-05 18:25:37,963 ERROR   ValueError: No matching data for request {'experiment': 'ssp434', 'model': 'BCC-CSM2-MR', 'temporal_resolution': 'mon', 'variable': 'rsds'}\n",
      "2023-05-05 18:25:38,001 INFO Welcome to the CDS\n",
      "2023-05-05 18:25:38,002 INFO Sending request to https://cds.climate.copernicus.eu/api/v2/resources/projections-cmip6\n",
      "2023-05-05 18:25:38,081 INFO Request is queued\n"
     ]
    },
    {
     "name": "stdout",
     "output_type": "stream",
     "text": [
      "Some parameters are not matching\n",
      "\n",
      "No value were found for the period and the project tested\n",
      "\n",
      "Test with model cams_csm1_0\n",
      "path_for_file does not exist: the data may not have been downloaded\n",
      "file_download does not exist: the data were not downloaded\n"
     ]
    },
    {
     "name": "stderr",
     "output_type": "stream",
     "text": [
      "2023-05-05 18:25:39,155 INFO Request is failed\n",
      "2023-05-05 18:25:39,156 ERROR Message: an internal error occurred processing your request\n",
      "2023-05-05 18:25:39,158 ERROR Reason:  No matching data for request {'experiment': 'ssp434', 'model': 'CAMS-CSM1-0', 'temporal_resolution': 'mon', 'variable': 'rsds'}\n",
      "2023-05-05 18:25:39,158 ERROR   Traceback (most recent call last):\n",
      "2023-05-05 18:25:39,159 ERROR     File \"/opt/cdstoolbox/cdscompute/cdscompute/cdshandlers/services/handler.py\", line 59, in handle_request\n",
      "2023-05-05 18:25:39,160 ERROR       result = cached(context.method, proc, context, context.args, context.kwargs)\n",
      "2023-05-05 18:25:39,160 ERROR     File \"/opt/cdstoolbox/cdscompute/cdscompute/caching.py\", line 108, in cached\n",
      "2023-05-05 18:25:39,161 ERROR       result = proc(context, *context.args, **context.kwargs)\n",
      "2023-05-05 18:25:39,162 ERROR     File \"/opt/cdstoolbox/cdscompute/cdscompute/services.py\", line 124, in __call__\n",
      "2023-05-05 18:25:39,162 ERROR       return p(*args, **kwargs)\n",
      "2023-05-05 18:25:39,163 ERROR     File \"/opt/cdstoolbox/cdscompute/cdscompute/services.py\", line 60, in __call__\n",
      "2023-05-05 18:25:39,163 ERROR       return self.proc(context, *args, **kwargs)\n",
      "2023-05-05 18:25:39,164 ERROR     File \"/home/cds/cdsservices/services/esgf_wps/__init__.py\", line 30, in execute\n",
      "2023-05-05 18:25:39,164 ERROR       request_facets, request = facets.search(context, request)\n",
      "2023-05-05 18:25:39,164 ERROR     File \"/home/cds/cdsservices/services/esgf_wps/facets.py\", line 61, in search\n",
      "2023-05-05 18:25:39,165 ERROR       raise ValueError(f'No matching data for request {tmp_request}')\n",
      "2023-05-05 18:25:39,165 ERROR   ValueError: No matching data for request {'experiment': 'ssp434', 'model': 'CAMS-CSM1-0', 'temporal_resolution': 'mon', 'variable': 'rsds'}\n",
      "2023-05-05 18:25:39,210 INFO Welcome to the CDS\n",
      "2023-05-05 18:25:39,211 INFO Sending request to https://cds.climate.copernicus.eu/api/v2/resources/projections-cmip6\n",
      "2023-05-05 18:25:39,274 INFO Request is queued\n"
     ]
    },
    {
     "name": "stdout",
     "output_type": "stream",
     "text": [
      "Some parameters are not matching\n",
      "\n",
      "No value were found for the period and the project tested\n",
      "\n",
      "Test with model canesm5_canoe\n",
      "path_for_file does not exist: the data may not have been downloaded\n",
      "file_download does not exist: the data were not downloaded\n"
     ]
    },
    {
     "name": "stderr",
     "output_type": "stream",
     "text": [
      "2023-05-05 18:25:40,318 INFO Request is failed\n",
      "2023-05-05 18:25:40,319 ERROR Message: an internal error occurred processing your request\n",
      "2023-05-05 18:25:40,320 ERROR Reason:  No matching data for request {'experiment': 'ssp434', 'model': 'CanESM5-CanOE', 'temporal_resolution': 'mon', 'variable': 'rsds'}\n",
      "2023-05-05 18:25:40,321 ERROR   Traceback (most recent call last):\n",
      "2023-05-05 18:25:40,321 ERROR     File \"/opt/cdstoolbox/cdscompute/cdscompute/cdshandlers/services/handler.py\", line 59, in handle_request\n",
      "2023-05-05 18:25:40,322 ERROR       result = cached(context.method, proc, context, context.args, context.kwargs)\n",
      "2023-05-05 18:25:40,322 ERROR     File \"/opt/cdstoolbox/cdscompute/cdscompute/caching.py\", line 108, in cached\n",
      "2023-05-05 18:25:40,323 ERROR       result = proc(context, *context.args, **context.kwargs)\n",
      "2023-05-05 18:25:40,323 ERROR     File \"/opt/cdstoolbox/cdscompute/cdscompute/services.py\", line 124, in __call__\n",
      "2023-05-05 18:25:40,324 ERROR       return p(*args, **kwargs)\n",
      "2023-05-05 18:25:40,324 ERROR     File \"/opt/cdstoolbox/cdscompute/cdscompute/services.py\", line 60, in __call__\n",
      "2023-05-05 18:25:40,324 ERROR       return self.proc(context, *args, **kwargs)\n",
      "2023-05-05 18:25:40,326 ERROR     File \"/home/cds/cdsservices/services/esgf_wps/__init__.py\", line 30, in execute\n",
      "2023-05-05 18:25:40,326 ERROR       request_facets, request = facets.search(context, request)\n",
      "2023-05-05 18:25:40,327 ERROR     File \"/home/cds/cdsservices/services/esgf_wps/facets.py\", line 61, in search\n",
      "2023-05-05 18:25:40,327 ERROR       raise ValueError(f'No matching data for request {tmp_request}')\n",
      "2023-05-05 18:25:40,328 ERROR   ValueError: No matching data for request {'experiment': 'ssp434', 'model': 'CanESM5-CanOE', 'temporal_resolution': 'mon', 'variable': 'rsds'}\n",
      "2023-05-05 18:25:40,368 INFO Welcome to the CDS\n",
      "2023-05-05 18:25:40,369 INFO Sending request to https://cds.climate.copernicus.eu/api/v2/resources/projections-cmip6\n",
      "2023-05-05 18:25:40,448 INFO Request is queued\n"
     ]
    },
    {
     "name": "stdout",
     "output_type": "stream",
     "text": [
      "Some parameters are not matching\n",
      "\n",
      "No value were found for the period and the project tested\n",
      "\n",
      "Test with model cesm2_fv2\n",
      "path_for_file does not exist: the data may not have been downloaded\n",
      "file_download does not exist: the data were not downloaded\n"
     ]
    },
    {
     "name": "stderr",
     "output_type": "stream",
     "text": [
      "2023-05-05 18:25:41,501 INFO Request is failed\n",
      "2023-05-05 18:25:41,503 ERROR Message: an internal error occurred processing your request\n",
      "2023-05-05 18:25:41,504 ERROR Reason:  No matching data for request {'experiment': 'ssp434', 'model': 'CESM2-FV2', 'temporal_resolution': 'mon', 'variable': 'rsds'}\n",
      "2023-05-05 18:25:41,505 ERROR   Traceback (most recent call last):\n",
      "2023-05-05 18:25:41,506 ERROR     File \"/opt/cdstoolbox/cdscompute/cdscompute/cdshandlers/services/handler.py\", line 59, in handle_request\n",
      "2023-05-05 18:25:41,507 ERROR       result = cached(context.method, proc, context, context.args, context.kwargs)\n",
      "2023-05-05 18:25:41,507 ERROR     File \"/opt/cdstoolbox/cdscompute/cdscompute/caching.py\", line 108, in cached\n",
      "2023-05-05 18:25:41,508 ERROR       result = proc(context, *context.args, **context.kwargs)\n",
      "2023-05-05 18:25:41,509 ERROR     File \"/opt/cdstoolbox/cdscompute/cdscompute/services.py\", line 124, in __call__\n",
      "2023-05-05 18:25:41,509 ERROR       return p(*args, **kwargs)\n",
      "2023-05-05 18:25:41,510 ERROR     File \"/opt/cdstoolbox/cdscompute/cdscompute/services.py\", line 60, in __call__\n",
      "2023-05-05 18:25:41,510 ERROR       return self.proc(context, *args, **kwargs)\n",
      "2023-05-05 18:25:41,511 ERROR     File \"/home/cds/cdsservices/services/esgf_wps/__init__.py\", line 30, in execute\n",
      "2023-05-05 18:25:41,511 ERROR       request_facets, request = facets.search(context, request)\n",
      "2023-05-05 18:25:41,512 ERROR     File \"/home/cds/cdsservices/services/esgf_wps/facets.py\", line 61, in search\n",
      "2023-05-05 18:25:41,513 ERROR       raise ValueError(f'No matching data for request {tmp_request}')\n",
      "2023-05-05 18:25:41,513 ERROR   ValueError: No matching data for request {'experiment': 'ssp434', 'model': 'CESM2-FV2', 'temporal_resolution': 'mon', 'variable': 'rsds'}\n",
      "2023-05-05 18:25:41,551 INFO Welcome to the CDS\n",
      "2023-05-05 18:25:41,552 INFO Sending request to https://cds.climate.copernicus.eu/api/v2/resources/projections-cmip6\n",
      "2023-05-05 18:25:41,624 INFO Request is queued\n"
     ]
    },
    {
     "name": "stdout",
     "output_type": "stream",
     "text": [
      "Some parameters are not matching\n",
      "\n",
      "No value were found for the period and the project tested\n",
      "\n",
      "Test with model cesm2_waccm_fv2\n",
      "path_for_file does not exist: the data may not have been downloaded\n",
      "file_download does not exist: the data were not downloaded\n"
     ]
    },
    {
     "name": "stderr",
     "output_type": "stream",
     "text": [
      "2023-05-05 18:25:42,671 INFO Request is failed\n",
      "2023-05-05 18:25:42,672 ERROR Message: an internal error occurred processing your request\n",
      "2023-05-05 18:25:42,673 ERROR Reason:  No matching data for request {'experiment': 'ssp434', 'model': 'CESM2-WACCM-FV2', 'temporal_resolution': 'mon', 'variable': 'rsds'}\n",
      "2023-05-05 18:25:42,674 ERROR   Traceback (most recent call last):\n",
      "2023-05-05 18:25:42,674 ERROR     File \"/opt/cdstoolbox/cdscompute/cdscompute/cdshandlers/services/handler.py\", line 59, in handle_request\n",
      "2023-05-05 18:25:42,675 ERROR       result = cached(context.method, proc, context, context.args, context.kwargs)\n",
      "2023-05-05 18:25:42,675 ERROR     File \"/opt/cdstoolbox/cdscompute/cdscompute/caching.py\", line 108, in cached\n",
      "2023-05-05 18:25:42,676 ERROR       result = proc(context, *context.args, **context.kwargs)\n",
      "2023-05-05 18:25:42,677 ERROR     File \"/opt/cdstoolbox/cdscompute/cdscompute/services.py\", line 124, in __call__\n",
      "2023-05-05 18:25:42,677 ERROR       return p(*args, **kwargs)\n",
      "2023-05-05 18:25:42,678 ERROR     File \"/opt/cdstoolbox/cdscompute/cdscompute/services.py\", line 60, in __call__\n",
      "2023-05-05 18:25:42,678 ERROR       return self.proc(context, *args, **kwargs)\n",
      "2023-05-05 18:25:42,678 ERROR     File \"/home/cds/cdsservices/services/esgf_wps/__init__.py\", line 30, in execute\n",
      "2023-05-05 18:25:42,679 ERROR       request_facets, request = facets.search(context, request)\n",
      "2023-05-05 18:25:42,680 ERROR     File \"/home/cds/cdsservices/services/esgf_wps/facets.py\", line 61, in search\n",
      "2023-05-05 18:25:42,680 ERROR       raise ValueError(f'No matching data for request {tmp_request}')\n",
      "2023-05-05 18:25:42,681 ERROR   ValueError: No matching data for request {'experiment': 'ssp434', 'model': 'CESM2-WACCM-FV2', 'temporal_resolution': 'mon', 'variable': 'rsds'}\n",
      "2023-05-05 18:25:42,719 INFO Welcome to the CDS\n",
      "2023-05-05 18:25:42,720 INFO Sending request to https://cds.climate.copernicus.eu/api/v2/resources/projections-cmip6\n",
      "2023-05-05 18:25:42,765 INFO Request is queued\n"
     ]
    },
    {
     "name": "stdout",
     "output_type": "stream",
     "text": [
      "Some parameters are not matching\n",
      "\n",
      "No value were found for the period and the project tested\n",
      "\n",
      "Test with model cmcc_cm2_hr4\n",
      "path_for_file does not exist: the data may not have been downloaded\n",
      "file_download does not exist: the data were not downloaded\n"
     ]
    },
    {
     "name": "stderr",
     "output_type": "stream",
     "text": [
      "2023-05-05 18:25:43,809 INFO Request is failed\n",
      "2023-05-05 18:25:43,810 ERROR Message: an internal error occurred processing your request\n",
      "2023-05-05 18:25:43,811 ERROR Reason:  No matching data for request {'experiment': 'ssp434', 'model': 'CMCC-CM2-HR4', 'temporal_resolution': 'mon', 'variable': 'rsds'}\n",
      "2023-05-05 18:25:43,812 ERROR   Traceback (most recent call last):\n",
      "2023-05-05 18:25:43,812 ERROR     File \"/opt/cdstoolbox/cdscompute/cdscompute/cdshandlers/services/handler.py\", line 59, in handle_request\n",
      "2023-05-05 18:25:43,813 ERROR       result = cached(context.method, proc, context, context.args, context.kwargs)\n",
      "2023-05-05 18:25:43,813 ERROR     File \"/opt/cdstoolbox/cdscompute/cdscompute/caching.py\", line 108, in cached\n",
      "2023-05-05 18:25:43,814 ERROR       result = proc(context, *context.args, **context.kwargs)\n",
      "2023-05-05 18:25:43,815 ERROR     File \"/opt/cdstoolbox/cdscompute/cdscompute/services.py\", line 124, in __call__\n",
      "2023-05-05 18:25:43,815 ERROR       return p(*args, **kwargs)\n",
      "2023-05-05 18:25:43,815 ERROR     File \"/opt/cdstoolbox/cdscompute/cdscompute/services.py\", line 60, in __call__\n",
      "2023-05-05 18:25:43,816 ERROR       return self.proc(context, *args, **kwargs)\n",
      "2023-05-05 18:25:43,817 ERROR     File \"/home/cds/cdsservices/services/esgf_wps/__init__.py\", line 30, in execute\n",
      "2023-05-05 18:25:43,817 ERROR       request_facets, request = facets.search(context, request)\n",
      "2023-05-05 18:25:43,817 ERROR     File \"/home/cds/cdsservices/services/esgf_wps/facets.py\", line 61, in search\n",
      "2023-05-05 18:25:43,818 ERROR       raise ValueError(f'No matching data for request {tmp_request}')\n",
      "2023-05-05 18:25:43,818 ERROR   ValueError: No matching data for request {'experiment': 'ssp434', 'model': 'CMCC-CM2-HR4', 'temporal_resolution': 'mon', 'variable': 'rsds'}\n",
      "2023-05-05 18:25:43,856 INFO Welcome to the CDS\n",
      "2023-05-05 18:25:43,857 INFO Sending request to https://cds.climate.copernicus.eu/api/v2/resources/projections-cmip6\n",
      "2023-05-05 18:25:43,992 INFO Request is queued\n"
     ]
    },
    {
     "name": "stdout",
     "output_type": "stream",
     "text": [
      "Some parameters are not matching\n",
      "\n",
      "No value were found for the period and the project tested\n",
      "\n",
      "Test with model cmcc_esm2\n",
      "path_for_file does not exist: the data may not have been downloaded\n",
      "file_download does not exist: the data were not downloaded\n"
     ]
    },
    {
     "name": "stderr",
     "output_type": "stream",
     "text": [
      "2023-05-05 18:25:45,041 INFO Request is failed\n",
      "2023-05-05 18:25:45,043 ERROR Message: an internal error occurred processing your request\n",
      "2023-05-05 18:25:45,043 ERROR Reason:  No matching data for request {'experiment': 'ssp434', 'model': 'CMCC-ESM2', 'temporal_resolution': 'mon', 'variable': 'rsds'}\n",
      "2023-05-05 18:25:45,045 ERROR   Traceback (most recent call last):\n",
      "2023-05-05 18:25:45,045 ERROR     File \"/opt/cdstoolbox/cdscompute/cdscompute/cdshandlers/services/handler.py\", line 59, in handle_request\n",
      "2023-05-05 18:25:45,046 ERROR       result = cached(context.method, proc, context, context.args, context.kwargs)\n",
      "2023-05-05 18:25:45,046 ERROR     File \"/opt/cdstoolbox/cdscompute/cdscompute/caching.py\", line 108, in cached\n",
      "2023-05-05 18:25:45,047 ERROR       result = proc(context, *context.args, **context.kwargs)\n",
      "2023-05-05 18:25:45,047 ERROR     File \"/opt/cdstoolbox/cdscompute/cdscompute/services.py\", line 124, in __call__\n",
      "2023-05-05 18:25:45,048 ERROR       return p(*args, **kwargs)\n",
      "2023-05-05 18:25:45,048 ERROR     File \"/opt/cdstoolbox/cdscompute/cdscompute/services.py\", line 60, in __call__\n",
      "2023-05-05 18:25:45,048 ERROR       return self.proc(context, *args, **kwargs)\n",
      "2023-05-05 18:25:45,049 ERROR     File \"/home/cds/cdsservices/services/esgf_wps/__init__.py\", line 30, in execute\n",
      "2023-05-05 18:25:45,049 ERROR       request_facets, request = facets.search(context, request)\n",
      "2023-05-05 18:25:45,049 ERROR     File \"/home/cds/cdsservices/services/esgf_wps/facets.py\", line 61, in search\n",
      "2023-05-05 18:25:45,050 ERROR       raise ValueError(f'No matching data for request {tmp_request}')\n",
      "2023-05-05 18:25:45,050 ERROR   ValueError: No matching data for request {'experiment': 'ssp434', 'model': 'CMCC-ESM2', 'temporal_resolution': 'mon', 'variable': 'rsds'}\n",
      "2023-05-05 18:25:45,090 INFO Welcome to the CDS\n",
      "2023-05-05 18:25:45,091 INFO Sending request to https://cds.climate.copernicus.eu/api/v2/resources/projections-cmip6\n",
      "2023-05-05 18:25:45,175 INFO Request is queued\n"
     ]
    },
    {
     "name": "stdout",
     "output_type": "stream",
     "text": [
      "Some parameters are not matching\n",
      "\n",
      "No value were found for the period and the project tested\n",
      "\n",
      "Test with model cnrm_cm6_1_hr\n",
      "path_for_file does not exist: the data may not have been downloaded\n",
      "file_download does not exist: the data were not downloaded\n"
     ]
    },
    {
     "name": "stderr",
     "output_type": "stream",
     "text": [
      "2023-05-05 18:25:46,228 INFO Request is failed\n",
      "2023-05-05 18:25:46,230 ERROR Message: an internal error occurred processing your request\n",
      "2023-05-05 18:25:46,231 ERROR Reason:  No matching data for request {'experiment': 'ssp434', 'model': 'CNRM-CM6-1-HR', 'temporal_resolution': 'mon', 'variable': 'rsds'}\n",
      "2023-05-05 18:25:46,232 ERROR   Traceback (most recent call last):\n",
      "2023-05-05 18:25:46,234 ERROR     File \"/opt/cdstoolbox/cdscompute/cdscompute/cdshandlers/services/handler.py\", line 59, in handle_request\n",
      "2023-05-05 18:25:46,234 ERROR       result = cached(context.method, proc, context, context.args, context.kwargs)\n",
      "2023-05-05 18:25:46,236 ERROR     File \"/opt/cdstoolbox/cdscompute/cdscompute/caching.py\", line 108, in cached\n",
      "2023-05-05 18:25:46,239 ERROR       result = proc(context, *context.args, **context.kwargs)\n",
      "2023-05-05 18:25:46,239 ERROR     File \"/opt/cdstoolbox/cdscompute/cdscompute/services.py\", line 124, in __call__\n",
      "2023-05-05 18:25:46,240 ERROR       return p(*args, **kwargs)\n",
      "2023-05-05 18:25:46,240 ERROR     File \"/opt/cdstoolbox/cdscompute/cdscompute/services.py\", line 60, in __call__\n",
      "2023-05-05 18:25:46,240 ERROR       return self.proc(context, *args, **kwargs)\n",
      "2023-05-05 18:25:46,241 ERROR     File \"/home/cds/cdsservices/services/esgf_wps/__init__.py\", line 30, in execute\n",
      "2023-05-05 18:25:46,242 ERROR       request_facets, request = facets.search(context, request)\n",
      "2023-05-05 18:25:46,244 ERROR     File \"/home/cds/cdsservices/services/esgf_wps/facets.py\", line 61, in search\n",
      "2023-05-05 18:25:46,244 ERROR       raise ValueError(f'No matching data for request {tmp_request}')\n",
      "2023-05-05 18:25:46,245 ERROR   ValueError: No matching data for request {'experiment': 'ssp434', 'model': 'CNRM-CM6-1-HR', 'temporal_resolution': 'mon', 'variable': 'rsds'}\n",
      "2023-05-05 18:25:46,281 INFO Welcome to the CDS\n",
      "2023-05-05 18:25:46,282 INFO Sending request to https://cds.climate.copernicus.eu/api/v2/resources/projections-cmip6\n",
      "2023-05-05 18:25:46,350 INFO Request is queued\n"
     ]
    },
    {
     "name": "stdout",
     "output_type": "stream",
     "text": [
      "Some parameters are not matching\n",
      "\n",
      "No value were found for the period and the project tested\n",
      "\n",
      "Test with model e3sm_1_0\n",
      "path_for_file does not exist: the data may not have been downloaded\n",
      "file_download does not exist: the data were not downloaded\n"
     ]
    },
    {
     "name": "stderr",
     "output_type": "stream",
     "text": [
      "2023-05-05 18:25:47,402 INFO Request is failed\n",
      "2023-05-05 18:25:47,404 ERROR Message: an internal error occurred processing your request\n",
      "2023-05-05 18:25:47,405 ERROR Reason:  No matching data for request {'experiment': 'ssp434', 'model': 'E3SM-1-0', 'temporal_resolution': 'mon', 'variable': 'rsds'}\n",
      "2023-05-05 18:25:47,406 ERROR   Traceback (most recent call last):\n",
      "2023-05-05 18:25:47,408 ERROR     File \"/opt/cdstoolbox/cdscompute/cdscompute/cdshandlers/services/handler.py\", line 59, in handle_request\n",
      "2023-05-05 18:25:47,409 ERROR       result = cached(context.method, proc, context, context.args, context.kwargs)\n",
      "2023-05-05 18:25:47,409 ERROR     File \"/opt/cdstoolbox/cdscompute/cdscompute/caching.py\", line 108, in cached\n",
      "2023-05-05 18:25:47,410 ERROR       result = proc(context, *context.args, **context.kwargs)\n",
      "2023-05-05 18:25:47,410 ERROR     File \"/opt/cdstoolbox/cdscompute/cdscompute/services.py\", line 124, in __call__\n",
      "2023-05-05 18:25:47,411 ERROR       return p(*args, **kwargs)\n",
      "2023-05-05 18:25:47,411 ERROR     File \"/opt/cdstoolbox/cdscompute/cdscompute/services.py\", line 60, in __call__\n",
      "2023-05-05 18:25:47,412 ERROR       return self.proc(context, *args, **kwargs)\n",
      "2023-05-05 18:25:47,412 ERROR     File \"/home/cds/cdsservices/services/esgf_wps/__init__.py\", line 30, in execute\n",
      "2023-05-05 18:25:47,413 ERROR       request_facets, request = facets.search(context, request)\n",
      "2023-05-05 18:25:47,413 ERROR     File \"/home/cds/cdsservices/services/esgf_wps/facets.py\", line 61, in search\n",
      "2023-05-05 18:25:47,413 ERROR       raise ValueError(f'No matching data for request {tmp_request}')\n",
      "2023-05-05 18:25:47,414 ERROR   ValueError: No matching data for request {'experiment': 'ssp434', 'model': 'E3SM-1-0', 'temporal_resolution': 'mon', 'variable': 'rsds'}\n",
      "2023-05-05 18:25:47,453 INFO Welcome to the CDS\n",
      "2023-05-05 18:25:47,453 INFO Sending request to https://cds.climate.copernicus.eu/api/v2/resources/projections-cmip6\n",
      "2023-05-05 18:25:47,590 INFO Request is queued\n"
     ]
    },
    {
     "name": "stdout",
     "output_type": "stream",
     "text": [
      "Some parameters are not matching\n",
      "\n",
      "No value were found for the period and the project tested\n",
      "\n",
      "Test with model e3sm_1_1_eca\n",
      "path_for_file does not exist: the data may not have been downloaded\n",
      "file_download does not exist: the data were not downloaded\n"
     ]
    },
    {
     "name": "stderr",
     "output_type": "stream",
     "text": [
      "2023-05-05 18:25:48,635 INFO Request is failed\n",
      "2023-05-05 18:25:48,637 ERROR Message: an internal error occurred processing your request\n",
      "2023-05-05 18:25:48,637 ERROR Reason:  No matching data for request {'experiment': 'ssp434', 'model': 'E3SM-1-1-ECA', 'temporal_resolution': 'mon', 'variable': 'rsds'}\n",
      "2023-05-05 18:25:48,638 ERROR   Traceback (most recent call last):\n",
      "2023-05-05 18:25:48,638 ERROR     File \"/opt/cdstoolbox/cdscompute/cdscompute/cdshandlers/services/handler.py\", line 59, in handle_request\n",
      "2023-05-05 18:25:48,639 ERROR       result = cached(context.method, proc, context, context.args, context.kwargs)\n",
      "2023-05-05 18:25:48,639 ERROR     File \"/opt/cdstoolbox/cdscompute/cdscompute/caching.py\", line 108, in cached\n",
      "2023-05-05 18:25:48,640 ERROR       result = proc(context, *context.args, **context.kwargs)\n",
      "2023-05-05 18:25:48,640 ERROR     File \"/opt/cdstoolbox/cdscompute/cdscompute/services.py\", line 124, in __call__\n",
      "2023-05-05 18:25:48,641 ERROR       return p(*args, **kwargs)\n",
      "2023-05-05 18:25:48,641 ERROR     File \"/opt/cdstoolbox/cdscompute/cdscompute/services.py\", line 60, in __call__\n",
      "2023-05-05 18:25:48,642 ERROR       return self.proc(context, *args, **kwargs)\n",
      "2023-05-05 18:25:48,644 ERROR     File \"/home/cds/cdsservices/services/esgf_wps/__init__.py\", line 30, in execute\n",
      "2023-05-05 18:25:48,644 ERROR       request_facets, request = facets.search(context, request)\n",
      "2023-05-05 18:25:48,645 ERROR     File \"/home/cds/cdsservices/services/esgf_wps/facets.py\", line 61, in search\n",
      "2023-05-05 18:25:48,646 ERROR       raise ValueError(f'No matching data for request {tmp_request}')\n",
      "2023-05-05 18:25:48,646 ERROR   ValueError: No matching data for request {'experiment': 'ssp434', 'model': 'E3SM-1-1-ECA', 'temporal_resolution': 'mon', 'variable': 'rsds'}\n",
      "2023-05-05 18:25:48,684 INFO Welcome to the CDS\n",
      "2023-05-05 18:25:48,685 INFO Sending request to https://cds.climate.copernicus.eu/api/v2/resources/projections-cmip6\n",
      "2023-05-05 18:25:48,746 INFO Request is queued\n"
     ]
    },
    {
     "name": "stdout",
     "output_type": "stream",
     "text": [
      "Some parameters are not matching\n",
      "\n",
      "No value were found for the period and the project tested\n",
      "\n",
      "Test with model ec_earth3_aerchem\n",
      "path_for_file does not exist: the data may not have been downloaded\n",
      "file_download does not exist: the data were not downloaded\n"
     ]
    },
    {
     "name": "stderr",
     "output_type": "stream",
     "text": [
      "2023-05-05 18:25:49,788 INFO Request is failed\n",
      "2023-05-05 18:25:49,790 ERROR Message: an internal error occurred processing your request\n",
      "2023-05-05 18:25:49,791 ERROR Reason:  No matching data for request {'experiment': 'ssp434', 'model': 'EC-Earth3-AerChem', 'temporal_resolution': 'mon', 'variable': 'rsds'}\n",
      "2023-05-05 18:25:49,792 ERROR   Traceback (most recent call last):\n",
      "2023-05-05 18:25:49,793 ERROR     File \"/opt/cdstoolbox/cdscompute/cdscompute/cdshandlers/services/handler.py\", line 59, in handle_request\n",
      "2023-05-05 18:25:49,794 ERROR       result = cached(context.method, proc, context, context.args, context.kwargs)\n",
      "2023-05-05 18:25:49,795 ERROR     File \"/opt/cdstoolbox/cdscompute/cdscompute/caching.py\", line 108, in cached\n",
      "2023-05-05 18:25:49,796 ERROR       result = proc(context, *context.args, **context.kwargs)\n",
      "2023-05-05 18:25:49,796 ERROR     File \"/opt/cdstoolbox/cdscompute/cdscompute/services.py\", line 124, in __call__\n",
      "2023-05-05 18:25:49,798 ERROR       return p(*args, **kwargs)\n",
      "2023-05-05 18:25:49,798 ERROR     File \"/opt/cdstoolbox/cdscompute/cdscompute/services.py\", line 60, in __call__\n",
      "2023-05-05 18:25:49,799 ERROR       return self.proc(context, *args, **kwargs)\n",
      "2023-05-05 18:25:49,800 ERROR     File \"/home/cds/cdsservices/services/esgf_wps/__init__.py\", line 30, in execute\n",
      "2023-05-05 18:25:49,800 ERROR       request_facets, request = facets.search(context, request)\n",
      "2023-05-05 18:25:49,801 ERROR     File \"/home/cds/cdsservices/services/esgf_wps/facets.py\", line 61, in search\n",
      "2023-05-05 18:25:49,801 ERROR       raise ValueError(f'No matching data for request {tmp_request}')\n",
      "2023-05-05 18:25:49,802 ERROR   ValueError: No matching data for request {'experiment': 'ssp434', 'model': 'EC-Earth3-AerChem', 'temporal_resolution': 'mon', 'variable': 'rsds'}\n",
      "2023-05-05 18:25:49,841 INFO Welcome to the CDS\n",
      "2023-05-05 18:25:49,841 INFO Sending request to https://cds.climate.copernicus.eu/api/v2/resources/projections-cmip6\n",
      "2023-05-05 18:25:49,936 INFO Request is queued\n"
     ]
    },
    {
     "name": "stdout",
     "output_type": "stream",
     "text": [
      "Some parameters are not matching\n",
      "\n",
      "No value were found for the period and the project tested\n",
      "\n",
      "Test with model ec_earth3_veg\n",
      "path_for_file does not exist: the data may not have been downloaded\n",
      "file_download does not exist: the data were not downloaded\n"
     ]
    },
    {
     "name": "stderr",
     "output_type": "stream",
     "text": [
      "2023-05-05 18:25:50,991 INFO Request is failed\n",
      "2023-05-05 18:25:50,993 ERROR Message: an internal error occurred processing your request\n",
      "2023-05-05 18:25:50,994 ERROR Reason:  No matching data for request {'experiment': 'ssp434', 'model': 'EC-Earth3-Veg', 'temporal_resolution': 'mon', 'variable': 'rsds'}\n",
      "2023-05-05 18:25:50,995 ERROR   Traceback (most recent call last):\n",
      "2023-05-05 18:25:50,996 ERROR     File \"/opt/cdstoolbox/cdscompute/cdscompute/cdshandlers/services/handler.py\", line 59, in handle_request\n",
      "2023-05-05 18:25:50,996 ERROR       result = cached(context.method, proc, context, context.args, context.kwargs)\n",
      "2023-05-05 18:25:50,997 ERROR     File \"/opt/cdstoolbox/cdscompute/cdscompute/caching.py\", line 108, in cached\n",
      "2023-05-05 18:25:50,998 ERROR       result = proc(context, *context.args, **context.kwargs)\n",
      "2023-05-05 18:25:50,999 ERROR     File \"/opt/cdstoolbox/cdscompute/cdscompute/services.py\", line 124, in __call__\n",
      "2023-05-05 18:25:50,999 ERROR       return p(*args, **kwargs)\n",
      "2023-05-05 18:25:51,000 ERROR     File \"/opt/cdstoolbox/cdscompute/cdscompute/services.py\", line 60, in __call__\n",
      "2023-05-05 18:25:51,000 ERROR       return self.proc(context, *args, **kwargs)\n",
      "2023-05-05 18:25:51,001 ERROR     File \"/home/cds/cdsservices/services/esgf_wps/__init__.py\", line 30, in execute\n",
      "2023-05-05 18:25:51,001 ERROR       request_facets, request = facets.search(context, request)\n",
      "2023-05-05 18:25:51,002 ERROR     File \"/home/cds/cdsservices/services/esgf_wps/facets.py\", line 61, in search\n",
      "2023-05-05 18:25:51,003 ERROR       raise ValueError(f'No matching data for request {tmp_request}')\n",
      "2023-05-05 18:25:51,003 ERROR   ValueError: No matching data for request {'experiment': 'ssp434', 'model': 'EC-Earth3-Veg', 'temporal_resolution': 'mon', 'variable': 'rsds'}\n",
      "2023-05-05 18:25:51,041 INFO Welcome to the CDS\n",
      "2023-05-05 18:25:51,042 INFO Sending request to https://cds.climate.copernicus.eu/api/v2/resources/projections-cmip6\n",
      "2023-05-05 18:25:51,111 INFO Request is queued\n"
     ]
    },
    {
     "name": "stdout",
     "output_type": "stream",
     "text": [
      "Some parameters are not matching\n",
      "\n",
      "No value were found for the period and the project tested\n",
      "\n",
      "Test with model fgoals_f3_l\n",
      "path_for_file does not exist: the data may not have been downloaded\n",
      "file_download does not exist: the data were not downloaded\n"
     ]
    },
    {
     "name": "stderr",
     "output_type": "stream",
     "text": [
      "2023-05-05 18:25:52,169 INFO Request is failed\n",
      "2023-05-05 18:25:52,170 ERROR Message: an internal error occurred processing your request\n",
      "2023-05-05 18:25:52,171 ERROR Reason:  No matching data for request {'experiment': 'ssp434', 'model': 'FGOALS-f3-L', 'temporal_resolution': 'mon', 'variable': 'rsds'}\n",
      "2023-05-05 18:25:52,171 ERROR   Traceback (most recent call last):\n",
      "2023-05-05 18:25:52,173 ERROR     File \"/opt/cdstoolbox/cdscompute/cdscompute/cdshandlers/services/handler.py\", line 59, in handle_request\n",
      "2023-05-05 18:25:52,173 ERROR       result = cached(context.method, proc, context, context.args, context.kwargs)\n",
      "2023-05-05 18:25:52,174 ERROR     File \"/opt/cdstoolbox/cdscompute/cdscompute/caching.py\", line 108, in cached\n",
      "2023-05-05 18:25:52,175 ERROR       result = proc(context, *context.args, **context.kwargs)\n",
      "2023-05-05 18:25:52,176 ERROR     File \"/opt/cdstoolbox/cdscompute/cdscompute/services.py\", line 124, in __call__\n",
      "2023-05-05 18:25:52,177 ERROR       return p(*args, **kwargs)\n",
      "2023-05-05 18:25:52,178 ERROR     File \"/opt/cdstoolbox/cdscompute/cdscompute/services.py\", line 60, in __call__\n",
      "2023-05-05 18:25:52,178 ERROR       return self.proc(context, *args, **kwargs)\n",
      "2023-05-05 18:25:52,179 ERROR     File \"/home/cds/cdsservices/services/esgf_wps/__init__.py\", line 30, in execute\n",
      "2023-05-05 18:25:52,179 ERROR       request_facets, request = facets.search(context, request)\n",
      "2023-05-05 18:25:52,179 ERROR     File \"/home/cds/cdsservices/services/esgf_wps/facets.py\", line 61, in search\n",
      "2023-05-05 18:25:52,180 ERROR       raise ValueError(f'No matching data for request {tmp_request}')\n",
      "2023-05-05 18:25:52,180 ERROR   ValueError: No matching data for request {'experiment': 'ssp434', 'model': 'FGOALS-f3-L', 'temporal_resolution': 'mon', 'variable': 'rsds'}\n",
      "2023-05-05 18:25:52,216 INFO Welcome to the CDS\n",
      "2023-05-05 18:25:52,217 INFO Sending request to https://cds.climate.copernicus.eu/api/v2/resources/projections-cmip6\n",
      "2023-05-05 18:25:52,275 INFO Request is queued\n"
     ]
    },
    {
     "name": "stdout",
     "output_type": "stream",
     "text": [
      "Some parameters are not matching\n",
      "\n",
      "No value were found for the period and the project tested\n",
      "\n",
      "Test with model fio_esm_2_0\n",
      "path_for_file does not exist: the data may not have been downloaded\n",
      "file_download does not exist: the data were not downloaded\n"
     ]
    },
    {
     "name": "stderr",
     "output_type": "stream",
     "text": [
      "2023-05-05 18:25:53,325 INFO Request is failed\n",
      "2023-05-05 18:25:53,326 ERROR Message: an internal error occurred processing your request\n",
      "2023-05-05 18:25:53,327 ERROR Reason:  No matching data for request {'experiment': 'ssp434', 'model': 'FIO-ESM-2-0', 'temporal_resolution': 'mon', 'variable': 'rsds'}\n",
      "2023-05-05 18:25:53,328 ERROR   Traceback (most recent call last):\n",
      "2023-05-05 18:25:53,329 ERROR     File \"/opt/cdstoolbox/cdscompute/cdscompute/cdshandlers/services/handler.py\", line 59, in handle_request\n",
      "2023-05-05 18:25:53,330 ERROR       result = cached(context.method, proc, context, context.args, context.kwargs)\n",
      "2023-05-05 18:25:53,331 ERROR     File \"/opt/cdstoolbox/cdscompute/cdscompute/caching.py\", line 108, in cached\n",
      "2023-05-05 18:25:53,331 ERROR       result = proc(context, *context.args, **context.kwargs)\n",
      "2023-05-05 18:25:53,332 ERROR     File \"/opt/cdstoolbox/cdscompute/cdscompute/services.py\", line 124, in __call__\n",
      "2023-05-05 18:25:53,332 ERROR       return p(*args, **kwargs)\n",
      "2023-05-05 18:25:53,333 ERROR     File \"/opt/cdstoolbox/cdscompute/cdscompute/services.py\", line 60, in __call__\n",
      "2023-05-05 18:25:53,333 ERROR       return self.proc(context, *args, **kwargs)\n",
      "2023-05-05 18:25:53,334 ERROR     File \"/home/cds/cdsservices/services/esgf_wps/__init__.py\", line 30, in execute\n",
      "2023-05-05 18:25:53,334 ERROR       request_facets, request = facets.search(context, request)\n",
      "2023-05-05 18:25:53,335 ERROR     File \"/home/cds/cdsservices/services/esgf_wps/facets.py\", line 61, in search\n",
      "2023-05-05 18:25:53,335 ERROR       raise ValueError(f'No matching data for request {tmp_request}')\n",
      "2023-05-05 18:25:53,335 ERROR   ValueError: No matching data for request {'experiment': 'ssp434', 'model': 'FIO-ESM-2-0', 'temporal_resolution': 'mon', 'variable': 'rsds'}\n",
      "2023-05-05 18:25:53,376 INFO Welcome to the CDS\n",
      "2023-05-05 18:25:53,377 INFO Sending request to https://cds.climate.copernicus.eu/api/v2/resources/projections-cmip6\n",
      "2023-05-05 18:25:53,423 INFO Request is queued\n"
     ]
    },
    {
     "name": "stdout",
     "output_type": "stream",
     "text": [
      "Some parameters are not matching\n",
      "\n",
      "No value were found for the period and the project tested\n",
      "\n",
      "Test with model giss_e2_1_g\n",
      "path_for_file does not exist: the data may not have been downloaded\n",
      "file_download does not exist: the data were not downloaded\n"
     ]
    },
    {
     "name": "stderr",
     "output_type": "stream",
     "text": [
      "2023-05-05 18:25:54,471 INFO Request is running\n",
      "2023-05-05 18:26:06,840 INFO Request is completed\n",
      "2023-05-05 18:26:06,841 INFO Downloading https://download-0015-clone.copernicus-climate.eu/cache-compute-0015/cache/data9/adaptor.esgf_wps.retrieve-1683303964.0719225-2344-14-7e94e1ee-4a69-4d59-a8a0-995b9f60636f.zip to download.zip (1.3M)\n",
      "2023-05-05 18:26:07,646 INFO Download rate 1.6M/s                                                                      \n"
     ]
    },
    {
     "name": "stdout",
     "output_type": "stream",
     "text": [
      "\n",
      " The downloaded file is extracted\n",
      "path_for_file does exist Function copernicus search for nc\n",
      "The file is in the path Function copernicus search for nc\n",
      "\n",
      "The final path for the nc file is: C:\\Users\\CLMRX\\OneDrive - COWI\\Documents\\GitHub\\CRVA_tool\\outputs\\Datasets\\surface_downwelling_shortwave_radiation\\CompleteMozambique\\ssp4_3_4\\giss_e2_1_g\\2015-2099\\CMIP6-copernicus-GCM\\rsds_Amon_GISS-E2-1-G_ssp434_r1i1p1f2_gn_20150116-20991216_v20200115.nc\n",
      "\n",
      " The final path for nc file exists ? True\n",
      "\n",
      "\n",
      "\n",
      "---------------  Path to nc file exists ?? ---------------\n",
      "\n",
      "False\n",
      "\n",
      "\n",
      "Registering the data in a dataframe\n",
      "\n",
      "Value were found for the period and the project tested\n",
      "\n",
      "Test with model hadgem3_gc31_ll\n",
      "path_for_file does not exist: the data may not have been downloaded\n",
      "file_download does not exist: the data were not downloaded\n"
     ]
    },
    {
     "name": "stderr",
     "output_type": "stream",
     "text": [
      "2023-05-05 18:36:08,104 INFO Welcome to the CDS\n",
      "2023-05-05 18:36:08,105 INFO Sending request to https://cds.climate.copernicus.eu/api/v2/resources/projections-cmip6\n",
      "2023-05-05 18:36:08,152 INFO Request is queued\n",
      "2023-05-05 18:36:09,205 INFO Request is failed\n",
      "2023-05-05 18:36:09,205 ERROR Message: an internal error occurred processing your request\n",
      "2023-05-05 18:36:09,206 ERROR Reason:  No matching data for request {'experiment': 'ssp434', 'model': 'HadGEM3-GC31-LL', 'temporal_resolution': 'mon', 'variable': 'rsds'}\n",
      "2023-05-05 18:36:09,207 ERROR   Traceback (most recent call last):\n",
      "2023-05-05 18:36:09,208 ERROR     File \"/opt/cdstoolbox/cdscompute/cdscompute/cdshandlers/services/handler.py\", line 59, in handle_request\n",
      "2023-05-05 18:36:09,209 ERROR       result = cached(context.method, proc, context, context.args, context.kwargs)\n",
      "2023-05-05 18:36:09,209 ERROR     File \"/opt/cdstoolbox/cdscompute/cdscompute/caching.py\", line 108, in cached\n",
      "2023-05-05 18:36:09,210 ERROR       result = proc(context, *context.args, **context.kwargs)\n",
      "2023-05-05 18:36:09,210 ERROR     File \"/opt/cdstoolbox/cdscompute/cdscompute/services.py\", line 124, in __call__\n",
      "2023-05-05 18:36:09,211 ERROR       return p(*args, **kwargs)\n",
      "2023-05-05 18:36:09,212 ERROR     File \"/opt/cdstoolbox/cdscompute/cdscompute/services.py\", line 60, in __call__\n",
      "2023-05-05 18:36:09,212 ERROR       return self.proc(context, *args, **kwargs)\n",
      "2023-05-05 18:36:09,213 ERROR     File \"/home/cds/cdsservices/services/esgf_wps/__init__.py\", line 30, in execute\n",
      "2023-05-05 18:36:09,214 ERROR       request_facets, request = facets.search(context, request)\n",
      "2023-05-05 18:36:09,214 ERROR     File \"/home/cds/cdsservices/services/esgf_wps/facets.py\", line 61, in search\n",
      "2023-05-05 18:36:09,215 ERROR       raise ValueError(f'No matching data for request {tmp_request}')\n",
      "2023-05-05 18:36:09,216 ERROR   ValueError: No matching data for request {'experiment': 'ssp434', 'model': 'HadGEM3-GC31-LL', 'temporal_resolution': 'mon', 'variable': 'rsds'}\n",
      "2023-05-05 18:36:09,254 INFO Welcome to the CDS\n",
      "2023-05-05 18:36:09,255 INFO Sending request to https://cds.climate.copernicus.eu/api/v2/resources/projections-cmip6\n",
      "2023-05-05 18:36:09,319 INFO Request is queued\n"
     ]
    },
    {
     "name": "stdout",
     "output_type": "stream",
     "text": [
      "Some parameters are not matching\n",
      "\n",
      "No value were found for the period and the project tested\n",
      "\n",
      "Test with model iitm_esm\n",
      "path_for_file does not exist: the data may not have been downloaded\n",
      "file_download does not exist: the data were not downloaded\n"
     ]
    },
    {
     "name": "stderr",
     "output_type": "stream",
     "text": [
      "2023-05-05 18:36:10,367 INFO Request is failed\n",
      "2023-05-05 18:36:10,368 ERROR Message: an internal error occurred processing your request\n",
      "2023-05-05 18:36:10,370 ERROR Reason:  No matching data for request {'experiment': 'ssp434', 'model': 'IITM-ESM', 'temporal_resolution': 'mon', 'variable': 'rsds'}\n",
      "2023-05-05 18:36:10,371 ERROR   Traceback (most recent call last):\n",
      "2023-05-05 18:36:10,371 ERROR     File \"/opt/cdstoolbox/cdscompute/cdscompute/cdshandlers/services/handler.py\", line 59, in handle_request\n",
      "2023-05-05 18:36:10,372 ERROR       result = cached(context.method, proc, context, context.args, context.kwargs)\n",
      "2023-05-05 18:36:10,373 ERROR     File \"/opt/cdstoolbox/cdscompute/cdscompute/caching.py\", line 108, in cached\n",
      "2023-05-05 18:36:10,373 ERROR       result = proc(context, *context.args, **context.kwargs)\n",
      "2023-05-05 18:36:10,374 ERROR     File \"/opt/cdstoolbox/cdscompute/cdscompute/services.py\", line 124, in __call__\n",
      "2023-05-05 18:36:10,375 ERROR       return p(*args, **kwargs)\n",
      "2023-05-05 18:36:10,375 ERROR     File \"/opt/cdstoolbox/cdscompute/cdscompute/services.py\", line 60, in __call__\n",
      "2023-05-05 18:36:10,376 ERROR       return self.proc(context, *args, **kwargs)\n",
      "2023-05-05 18:36:10,376 ERROR     File \"/home/cds/cdsservices/services/esgf_wps/__init__.py\", line 30, in execute\n",
      "2023-05-05 18:36:10,377 ERROR       request_facets, request = facets.search(context, request)\n",
      "2023-05-05 18:36:10,378 ERROR     File \"/home/cds/cdsservices/services/esgf_wps/facets.py\", line 61, in search\n",
      "2023-05-05 18:36:10,378 ERROR       raise ValueError(f'No matching data for request {tmp_request}')\n",
      "2023-05-05 18:36:10,379 ERROR   ValueError: No matching data for request {'experiment': 'ssp434', 'model': 'IITM-ESM', 'temporal_resolution': 'mon', 'variable': 'rsds'}\n",
      "2023-05-05 18:36:10,426 INFO Welcome to the CDS\n",
      "2023-05-05 18:36:10,426 INFO Sending request to https://cds.climate.copernicus.eu/api/v2/resources/projections-cmip6\n",
      "2023-05-05 18:36:10,497 INFO Request is queued\n"
     ]
    },
    {
     "name": "stdout",
     "output_type": "stream",
     "text": [
      "Some parameters are not matching\n",
      "\n",
      "No value were found for the period and the project tested\n",
      "\n",
      "Test with model inm_cm5_0\n",
      "path_for_file does not exist: the data may not have been downloaded\n",
      "file_download does not exist: the data were not downloaded\n"
     ]
    },
    {
     "name": "stderr",
     "output_type": "stream",
     "text": [
      "2023-05-05 18:36:11,545 INFO Request is failed\n",
      "2023-05-05 18:36:11,546 ERROR Message: an internal error occurred processing your request\n",
      "2023-05-05 18:36:11,547 ERROR Reason:  No matching data for request {'experiment': 'ssp434', 'model': 'INM-CM5-0', 'temporal_resolution': 'mon', 'variable': 'rsds'}\n",
      "2023-05-05 18:36:11,547 ERROR   Traceback (most recent call last):\n",
      "2023-05-05 18:36:11,548 ERROR     File \"/opt/cdstoolbox/cdscompute/cdscompute/cdshandlers/services/handler.py\", line 59, in handle_request\n",
      "2023-05-05 18:36:11,549 ERROR       result = cached(context.method, proc, context, context.args, context.kwargs)\n",
      "2023-05-05 18:36:11,550 ERROR     File \"/opt/cdstoolbox/cdscompute/cdscompute/caching.py\", line 108, in cached\n",
      "2023-05-05 18:36:11,550 ERROR       result = proc(context, *context.args, **context.kwargs)\n",
      "2023-05-05 18:36:11,551 ERROR     File \"/opt/cdstoolbox/cdscompute/cdscompute/services.py\", line 124, in __call__\n",
      "2023-05-05 18:36:11,552 ERROR       return p(*args, **kwargs)\n",
      "2023-05-05 18:36:11,553 ERROR     File \"/opt/cdstoolbox/cdscompute/cdscompute/services.py\", line 60, in __call__\n",
      "2023-05-05 18:36:11,553 ERROR       return self.proc(context, *args, **kwargs)\n",
      "2023-05-05 18:36:11,554 ERROR     File \"/home/cds/cdsservices/services/esgf_wps/__init__.py\", line 30, in execute\n",
      "2023-05-05 18:36:11,554 ERROR       request_facets, request = facets.search(context, request)\n",
      "2023-05-05 18:36:11,554 ERROR     File \"/home/cds/cdsservices/services/esgf_wps/facets.py\", line 61, in search\n",
      "2023-05-05 18:36:11,554 ERROR       raise ValueError(f'No matching data for request {tmp_request}')\n",
      "2023-05-05 18:36:11,555 ERROR   ValueError: No matching data for request {'experiment': 'ssp434', 'model': 'INM-CM5-0', 'temporal_resolution': 'mon', 'variable': 'rsds'}\n",
      "2023-05-05 18:36:11,594 INFO Welcome to the CDS\n",
      "2023-05-05 18:36:11,594 INFO Sending request to https://cds.climate.copernicus.eu/api/v2/resources/projections-cmip6\n",
      "2023-05-05 18:36:11,684 INFO Request is queued\n"
     ]
    },
    {
     "name": "stdout",
     "output_type": "stream",
     "text": [
      "Some parameters are not matching\n",
      "\n",
      "No value were found for the period and the project tested\n",
      "\n",
      "Test with model ipsl_cm6a_lr\n",
      "path_for_file does not exist: the data may not have been downloaded\n",
      "file_download does not exist: the data were not downloaded\n"
     ]
    },
    {
     "name": "stderr",
     "output_type": "stream",
     "text": [
      "2023-05-05 18:36:12,731 INFO Request is running\n",
      "2023-05-05 18:36:32,741 INFO Request is completed\n",
      "2023-05-05 18:36:32,743 INFO Downloading https://download-0018.copernicus-climate.eu/cache-compute-0018/cache/data2/adaptor.esgf_wps.retrieve-1683304585.3436627-19265-17-28ab406f-1ebd-47aa-8a4f-ee5deea172d8.zip to download.zip (1.1M)\n",
      "2023-05-05 18:36:33,606 INFO Download rate 1.3M/s                                                                      \n"
     ]
    },
    {
     "name": "stdout",
     "output_type": "stream",
     "text": [
      "\n",
      " The downloaded file is extracted\n",
      "path_for_file does exist Function copernicus search for nc\n",
      "The file is in the path Function copernicus search for nc\n",
      "\n",
      "The final path for the nc file is: C:\\Users\\CLMRX\\OneDrive - COWI\\Documents\\GitHub\\CRVA_tool\\outputs\\Datasets\\surface_downwelling_shortwave_radiation\\CompleteMozambique\\ssp4_3_4\\ipsl_cm6a_lr\\2015-2099\\CMIP6-copernicus-GCM\\rsds_Amon_IPSL-CM6A-LR_ssp434_r1i1p1f1_gr_20150116-20991216_v20190506.nc\n",
      "\n",
      " The final path for nc file exists ? True\n",
      "\n",
      "\n",
      "\n",
      "---------------  Path to nc file exists ?? ---------------\n",
      "\n",
      "False\n",
      "\n",
      "\n",
      "Registering the data in a dataframe\n",
      "\n",
      "Value were found for the period and the project tested\n",
      "\n",
      "Test with model kiost_esm\n",
      "path_for_file does not exist: the data may not have been downloaded\n",
      "file_download does not exist: the data were not downloaded\n"
     ]
    },
    {
     "name": "stderr",
     "output_type": "stream",
     "text": [
      "2023-05-05 18:46:15,373 INFO Welcome to the CDS\n",
      "2023-05-05 18:46:15,374 INFO Sending request to https://cds.climate.copernicus.eu/api/v2/resources/projections-cmip6\n",
      "2023-05-05 18:46:15,437 INFO Request is queued\n",
      "2023-05-05 18:46:16,481 INFO Request is failed\n",
      "2023-05-05 18:46:16,482 ERROR Message: an internal error occurred processing your request\n",
      "2023-05-05 18:46:16,483 ERROR Reason:  No matching data for request {'experiment': 'ssp434', 'model': 'KIOST-ESM', 'temporal_resolution': 'mon', 'variable': 'rsds'}\n",
      "2023-05-05 18:46:16,485 ERROR   Traceback (most recent call last):\n",
      "2023-05-05 18:46:16,486 ERROR     File \"/opt/cdstoolbox/cdscompute/cdscompute/cdshandlers/services/handler.py\", line 59, in handle_request\n",
      "2023-05-05 18:46:16,486 ERROR       result = cached(context.method, proc, context, context.args, context.kwargs)\n",
      "2023-05-05 18:46:16,487 ERROR     File \"/opt/cdstoolbox/cdscompute/cdscompute/caching.py\", line 108, in cached\n",
      "2023-05-05 18:46:16,488 ERROR       result = proc(context, *context.args, **context.kwargs)\n",
      "2023-05-05 18:46:16,489 ERROR     File \"/opt/cdstoolbox/cdscompute/cdscompute/services.py\", line 124, in __call__\n",
      "2023-05-05 18:46:16,490 ERROR       return p(*args, **kwargs)\n",
      "2023-05-05 18:46:16,492 ERROR     File \"/opt/cdstoolbox/cdscompute/cdscompute/services.py\", line 60, in __call__\n",
      "2023-05-05 18:46:16,492 ERROR       return self.proc(context, *args, **kwargs)\n",
      "2023-05-05 18:46:16,492 ERROR     File \"/home/cds/cdsservices/services/esgf_wps/__init__.py\", line 30, in execute\n",
      "2023-05-05 18:46:16,493 ERROR       request_facets, request = facets.search(context, request)\n",
      "2023-05-05 18:46:16,494 ERROR     File \"/home/cds/cdsservices/services/esgf_wps/facets.py\", line 61, in search\n",
      "2023-05-05 18:46:16,494 ERROR       raise ValueError(f'No matching data for request {tmp_request}')\n",
      "2023-05-05 18:46:16,495 ERROR   ValueError: No matching data for request {'experiment': 'ssp434', 'model': 'KIOST-ESM', 'temporal_resolution': 'mon', 'variable': 'rsds'}\n",
      "2023-05-05 18:46:16,535 INFO Welcome to the CDS\n",
      "2023-05-05 18:46:16,536 INFO Sending request to https://cds.climate.copernicus.eu/api/v2/resources/projections-cmip6\n",
      "2023-05-05 18:46:16,665 INFO Request is queued\n"
     ]
    },
    {
     "name": "stdout",
     "output_type": "stream",
     "text": [
      "Some parameters are not matching\n",
      "\n",
      "No value were found for the period and the project tested\n",
      "\n",
      "Test with model miroc6\n",
      "path_for_file does not exist: the data may not have been downloaded\n",
      "file_download does not exist: the data were not downloaded\n"
     ]
    },
    {
     "name": "stderr",
     "output_type": "stream",
     "text": [
      "2023-05-05 18:46:17,715 INFO Request is running\n",
      "2023-05-05 18:46:37,729 INFO Request is completed\n",
      "2023-05-05 18:46:37,731 INFO Downloading https://download-0004-clone.copernicus-climate.eu/cache-compute-0004/cache/data2/adaptor.esgf_wps.retrieve-1683305196.5394638-9740-13-57fa55b9-3b0e-4c22-a662-a4ba7a758fd5.zip to download.zip (1.6M)\n",
      "2023-05-05 18:46:38,519 INFO Download rate 2M/s                                                                        \n"
     ]
    },
    {
     "name": "stdout",
     "output_type": "stream",
     "text": [
      "\n",
      " The downloaded file is extracted\n",
      "path_for_file does exist Function copernicus search for nc\n",
      "The file is in the path Function copernicus search for nc\n",
      "\n",
      "The final path for the nc file is: C:\\Users\\CLMRX\\OneDrive - COWI\\Documents\\GitHub\\CRVA_tool\\outputs\\Datasets\\surface_downwelling_shortwave_radiation\\CompleteMozambique\\ssp4_3_4\\miroc6\\2015-2099\\CMIP6-copernicus-GCM\\rsds_Amon_MIROC6_ssp434_r1i1p1f1_gn_20150116-20991216_v20190807.nc\n",
      "\n",
      " The final path for nc file exists ? True\n",
      "\n",
      "\n",
      "\n",
      "---------------  Path to nc file exists ?? ---------------\n",
      "\n",
      "False\n",
      "\n",
      "\n",
      "Registering the data in a dataframe\n",
      "\n",
      "Value were found for the period and the project tested\n",
      "\n",
      "Test with model miroc_es2l\n",
      "path_for_file does not exist: the data may not have been downloaded\n",
      "file_download does not exist: the data were not downloaded\n"
     ]
    },
    {
     "name": "stderr",
     "output_type": "stream",
     "text": [
      "2023-05-05 18:56:24,571 INFO Welcome to the CDS\n",
      "2023-05-05 18:56:24,572 INFO Sending request to https://cds.climate.copernicus.eu/api/v2/resources/projections-cmip6\n",
      "2023-05-05 18:56:24,644 INFO Request is queued\n",
      "2023-05-05 18:56:25,696 INFO Request is failed\n",
      "2023-05-05 18:56:25,698 ERROR Message: an internal error occurred processing your request\n",
      "2023-05-05 18:56:25,698 ERROR Reason:  No matching data for request {'experiment': 'ssp434', 'model': 'MIROC-ES2L', 'temporal_resolution': 'mon', 'variable': 'rsds'}\n",
      "2023-05-05 18:56:25,699 ERROR   Traceback (most recent call last):\n",
      "2023-05-05 18:56:25,700 ERROR     File \"/opt/cdstoolbox/cdscompute/cdscompute/cdshandlers/services/handler.py\", line 59, in handle_request\n",
      "2023-05-05 18:56:25,701 ERROR       result = cached(context.method, proc, context, context.args, context.kwargs)\n",
      "2023-05-05 18:56:25,702 ERROR     File \"/opt/cdstoolbox/cdscompute/cdscompute/caching.py\", line 108, in cached\n",
      "2023-05-05 18:56:25,702 ERROR       result = proc(context, *context.args, **context.kwargs)\n",
      "2023-05-05 18:56:25,703 ERROR     File \"/opt/cdstoolbox/cdscompute/cdscompute/services.py\", line 124, in __call__\n",
      "2023-05-05 18:56:25,703 ERROR       return p(*args, **kwargs)\n",
      "2023-05-05 18:56:25,704 ERROR     File \"/opt/cdstoolbox/cdscompute/cdscompute/services.py\", line 60, in __call__\n",
      "2023-05-05 18:56:25,704 ERROR       return self.proc(context, *args, **kwargs)\n",
      "2023-05-05 18:56:25,705 ERROR     File \"/home/cds/cdsservices/services/esgf_wps/__init__.py\", line 30, in execute\n",
      "2023-05-05 18:56:25,705 ERROR       request_facets, request = facets.search(context, request)\n",
      "2023-05-05 18:56:25,707 ERROR     File \"/home/cds/cdsservices/services/esgf_wps/facets.py\", line 61, in search\n",
      "2023-05-05 18:56:25,708 ERROR       raise ValueError(f'No matching data for request {tmp_request}')\n",
      "2023-05-05 18:56:25,708 ERROR   ValueError: No matching data for request {'experiment': 'ssp434', 'model': 'MIROC-ES2L', 'temporal_resolution': 'mon', 'variable': 'rsds'}\n",
      "2023-05-05 18:56:25,750 INFO Welcome to the CDS\n",
      "2023-05-05 18:56:25,751 INFO Sending request to https://cds.climate.copernicus.eu/api/v2/resources/projections-cmip6\n"
     ]
    },
    {
     "name": "stdout",
     "output_type": "stream",
     "text": [
      "Some parameters are not matching\n",
      "\n",
      "No value were found for the period and the project tested\n",
      "\n",
      "Test with model mpi_esm1_2_hr\n",
      "path_for_file does not exist: the data may not have been downloaded\n",
      "file_download does not exist: the data were not downloaded\n"
     ]
    },
    {
     "name": "stderr",
     "output_type": "stream",
     "text": [
      "2023-05-05 18:56:25,938 INFO Request is queued\n",
      "2023-05-05 18:56:26,993 INFO Request is failed\n",
      "2023-05-05 18:56:26,994 ERROR Message: an internal error occurred processing your request\n",
      "2023-05-05 18:56:26,994 ERROR Reason:  No matching data for request {'experiment': 'ssp434', 'model': 'MPI-ESM1-2-HR', 'temporal_resolution': 'mon', 'variable': 'rsds'}\n",
      "2023-05-05 18:56:26,995 ERROR   Traceback (most recent call last):\n",
      "2023-05-05 18:56:26,996 ERROR     File \"/opt/cdstoolbox/cdscompute/cdscompute/cdshandlers/services/handler.py\", line 59, in handle_request\n",
      "2023-05-05 18:56:26,997 ERROR       result = cached(context.method, proc, context, context.args, context.kwargs)\n",
      "2023-05-05 18:56:26,997 ERROR     File \"/opt/cdstoolbox/cdscompute/cdscompute/caching.py\", line 108, in cached\n",
      "2023-05-05 18:56:26,997 ERROR       result = proc(context, *context.args, **context.kwargs)\n",
      "2023-05-05 18:56:26,998 ERROR     File \"/opt/cdstoolbox/cdscompute/cdscompute/services.py\", line 124, in __call__\n",
      "2023-05-05 18:56:26,998 ERROR       return p(*args, **kwargs)\n",
      "2023-05-05 18:56:26,999 ERROR     File \"/opt/cdstoolbox/cdscompute/cdscompute/services.py\", line 60, in __call__\n",
      "2023-05-05 18:56:27,000 ERROR       return self.proc(context, *args, **kwargs)\n",
      "2023-05-05 18:56:27,000 ERROR     File \"/home/cds/cdsservices/services/esgf_wps/__init__.py\", line 30, in execute\n",
      "2023-05-05 18:56:27,000 ERROR       request_facets, request = facets.search(context, request)\n",
      "2023-05-05 18:56:27,001 ERROR     File \"/home/cds/cdsservices/services/esgf_wps/facets.py\", line 61, in search\n",
      "2023-05-05 18:56:27,001 ERROR       raise ValueError(f'No matching data for request {tmp_request}')\n",
      "2023-05-05 18:56:27,002 ERROR   ValueError: No matching data for request {'experiment': 'ssp434', 'model': 'MPI-ESM1-2-HR', 'temporal_resolution': 'mon', 'variable': 'rsds'}\n",
      "2023-05-05 18:56:27,045 INFO Welcome to the CDS\n",
      "2023-05-05 18:56:27,046 INFO Sending request to https://cds.climate.copernicus.eu/api/v2/resources/projections-cmip6\n",
      "2023-05-05 18:56:27,120 INFO Request is queued\n"
     ]
    },
    {
     "name": "stdout",
     "output_type": "stream",
     "text": [
      "Some parameters are not matching\n",
      "\n",
      "No value were found for the period and the project tested\n",
      "\n",
      "Test with model mri_esm2_0\n",
      "path_for_file does not exist: the data may not have been downloaded\n",
      "file_download does not exist: the data were not downloaded\n"
     ]
    },
    {
     "name": "stderr",
     "output_type": "stream",
     "text": [
      "2023-05-05 18:56:28,170 INFO Request is failed\n",
      "2023-05-05 18:56:28,172 ERROR Message: an internal error occurred processing your request\n",
      "2023-05-05 18:56:28,174 ERROR Reason:  execution failed\n",
      "2023-05-05 18:56:28,175 ERROR   Traceback (most recent call last):\n",
      "2023-05-05 18:56:28,175 ERROR     File \"/usr/local/lib/python3.6/site-packages/birdy/client/base.py\", line 373, in _execute\n",
      "2023-05-05 18:56:28,177 ERROR       lineage=self._lineage,\n",
      "2023-05-05 18:56:28,178 ERROR     File \"/usr/local/lib/python3.6/site-packages/owslib/wps.py\", line 359, in execute\n",
      "2023-05-05 18:56:28,179 ERROR       response = execution.submitRequest(request)\n",
      "2023-05-05 18:56:28,180 ERROR     File \"/usr/local/lib/python3.6/site-packages/owslib/wps.py\", line 912, in submitRequest\n",
      "2023-05-05 18:56:28,181 ERROR       self.url, request, method='Post', headers=self.headers)\n",
      "2023-05-05 18:56:28,182 ERROR     File \"/usr/local/lib/python3.6/site-packages/owslib/wps.py\", line 603, in readFromUrl\n",
      "2023-05-05 18:56:28,182 ERROR       headers=headers, verify=verify, cert=cert)\n",
      "2023-05-05 18:56:28,183 ERROR     File \"/usr/local/lib/python3.6/site-packages/owslib/wps.py\", line 515, in _readFromUrl\n",
      "2023-05-05 18:56:28,184 ERROR       headers=headers, verify=self.auth.verify, cert=self.auth.cert, timeout=timeout)\n",
      "2023-05-05 18:56:28,185 ERROR     File \"/usr/local/lib/python3.6/site-packages/owslib/util.py\", line 209, in openURL\n",
      "2023-05-05 18:56:28,185 ERROR       req.raise_for_status()\n",
      "2023-05-05 18:56:28,185 ERROR     File \"/usr/local/lib/python3.6/site-packages/requests/models.py\", line 960, in raise_for_status\n",
      "2023-05-05 18:56:28,186 ERROR       raise HTTPError(http_error_msg, response=self)\n",
      "2023-05-05 18:56:28,186 ERROR   requests.exceptions.HTTPError: 500 Server Error: INTERNAL SERVER ERROR for url: http://compute.mips.copernicus-climate.eu/wps\n",
      "2023-05-05 18:56:28,228 INFO Welcome to the CDS\n",
      "2023-05-05 18:56:28,230 INFO Sending request to https://cds.climate.copernicus.eu/api/v2/resources/projections-cmip6\n",
      "2023-05-05 18:56:28,296 INFO Request is queued\n"
     ]
    },
    {
     "name": "stdout",
     "output_type": "stream",
     "text": [
      "Some parameters are not matching\n",
      "\n",
      "No value were found for the period and the project tested\n",
      "\n",
      "Test with model norcpm1\n",
      "path_for_file does not exist: the data may not have been downloaded\n",
      "file_download does not exist: the data were not downloaded\n"
     ]
    },
    {
     "name": "stderr",
     "output_type": "stream",
     "text": [
      "2023-05-05 18:56:29,351 INFO Request is failed\n",
      "2023-05-05 18:56:29,353 ERROR Message: an internal error occurred processing your request\n",
      "2023-05-05 18:56:29,354 ERROR Reason:  No matching data for request {'experiment': 'ssp434', 'model': 'NorCPM1', 'temporal_resolution': 'mon', 'variable': 'rsds'}\n",
      "2023-05-05 18:56:29,356 ERROR   Traceback (most recent call last):\n",
      "2023-05-05 18:56:29,357 ERROR     File \"/opt/cdstoolbox/cdscompute/cdscompute/cdshandlers/services/handler.py\", line 59, in handle_request\n",
      "2023-05-05 18:56:29,360 ERROR       result = cached(context.method, proc, context, context.args, context.kwargs)\n",
      "2023-05-05 18:56:29,360 ERROR     File \"/opt/cdstoolbox/cdscompute/cdscompute/caching.py\", line 108, in cached\n",
      "2023-05-05 18:56:29,360 ERROR       result = proc(context, *context.args, **context.kwargs)\n",
      "2023-05-05 18:56:29,360 ERROR     File \"/opt/cdstoolbox/cdscompute/cdscompute/services.py\", line 124, in __call__\n",
      "2023-05-05 18:56:29,361 ERROR       return p(*args, **kwargs)\n",
      "2023-05-05 18:56:29,361 ERROR     File \"/opt/cdstoolbox/cdscompute/cdscompute/services.py\", line 60, in __call__\n",
      "2023-05-05 18:56:29,362 ERROR       return self.proc(context, *args, **kwargs)\n",
      "2023-05-05 18:56:29,362 ERROR     File \"/home/cds/cdsservices/services/esgf_wps/__init__.py\", line 30, in execute\n",
      "2023-05-05 18:56:29,363 ERROR       request_facets, request = facets.search(context, request)\n",
      "2023-05-05 18:56:29,363 ERROR     File \"/home/cds/cdsservices/services/esgf_wps/facets.py\", line 61, in search\n",
      "2023-05-05 18:56:29,364 ERROR       raise ValueError(f'No matching data for request {tmp_request}')\n",
      "2023-05-05 18:56:29,365 ERROR   ValueError: No matching data for request {'experiment': 'ssp434', 'model': 'NorCPM1', 'temporal_resolution': 'mon', 'variable': 'rsds'}\n",
      "2023-05-05 18:56:29,405 INFO Welcome to the CDS\n",
      "2023-05-05 18:56:29,406 INFO Sending request to https://cds.climate.copernicus.eu/api/v2/resources/projections-cmip6\n",
      "2023-05-05 18:56:29,505 INFO Request is queued\n"
     ]
    },
    {
     "name": "stdout",
     "output_type": "stream",
     "text": [
      "Some parameters are not matching\n",
      "\n",
      "No value were found for the period and the project tested\n",
      "\n",
      "Test with model noresm2_mm\n",
      "path_for_file does not exist: the data may not have been downloaded\n",
      "file_download does not exist: the data were not downloaded\n"
     ]
    },
    {
     "name": "stderr",
     "output_type": "stream",
     "text": [
      "2023-05-05 18:56:30,552 INFO Request is failed\n",
      "2023-05-05 18:56:30,553 ERROR Message: an internal error occurred processing your request\n",
      "2023-05-05 18:56:30,555 ERROR Reason:  No matching data for request {'experiment': 'ssp434', 'model': 'NorESM2-MM', 'temporal_resolution': 'mon', 'variable': 'rsds'}\n",
      "2023-05-05 18:56:30,556 ERROR   Traceback (most recent call last):\n",
      "2023-05-05 18:56:30,557 ERROR     File \"/opt/cdstoolbox/cdscompute/cdscompute/cdshandlers/services/handler.py\", line 59, in handle_request\n",
      "2023-05-05 18:56:30,558 ERROR       result = cached(context.method, proc, context, context.args, context.kwargs)\n",
      "2023-05-05 18:56:30,561 ERROR     File \"/opt/cdstoolbox/cdscompute/cdscompute/caching.py\", line 108, in cached\n",
      "2023-05-05 18:56:30,561 ERROR       result = proc(context, *context.args, **context.kwargs)\n",
      "2023-05-05 18:56:30,562 ERROR     File \"/opt/cdstoolbox/cdscompute/cdscompute/services.py\", line 124, in __call__\n",
      "2023-05-05 18:56:30,563 ERROR       return p(*args, **kwargs)\n",
      "2023-05-05 18:56:30,563 ERROR     File \"/opt/cdstoolbox/cdscompute/cdscompute/services.py\", line 60, in __call__\n",
      "2023-05-05 18:56:30,564 ERROR       return self.proc(context, *args, **kwargs)\n",
      "2023-05-05 18:56:30,564 ERROR     File \"/home/cds/cdsservices/services/esgf_wps/__init__.py\", line 30, in execute\n",
      "2023-05-05 18:56:30,565 ERROR       request_facets, request = facets.search(context, request)\n",
      "2023-05-05 18:56:30,565 ERROR     File \"/home/cds/cdsservices/services/esgf_wps/facets.py\", line 61, in search\n",
      "2023-05-05 18:56:30,566 ERROR       raise ValueError(f'No matching data for request {tmp_request}')\n",
      "2023-05-05 18:56:30,566 ERROR   ValueError: No matching data for request {'experiment': 'ssp434', 'model': 'NorESM2-MM', 'temporal_resolution': 'mon', 'variable': 'rsds'}\n",
      "2023-05-05 18:56:30,605 INFO Welcome to the CDS\n",
      "2023-05-05 18:56:30,606 INFO Sending request to https://cds.climate.copernicus.eu/api/v2/resources/projections-cmip6\n",
      "2023-05-05 18:56:30,677 INFO Request is queued\n"
     ]
    },
    {
     "name": "stdout",
     "output_type": "stream",
     "text": [
      "Some parameters are not matching\n",
      "\n",
      "No value were found for the period and the project tested\n",
      "\n",
      "Test with model taiesm1\n",
      "path_for_file does not exist: the data may not have been downloaded\n",
      "file_download does not exist: the data were not downloaded\n"
     ]
    },
    {
     "name": "stderr",
     "output_type": "stream",
     "text": [
      "2023-05-05 18:56:31,729 INFO Request is failed\n",
      "2023-05-05 18:56:31,730 ERROR Message: an internal error occurred processing your request\n",
      "2023-05-05 18:56:31,730 ERROR Reason:  No matching data for request {'experiment': 'ssp434', 'model': 'TaiESM1', 'temporal_resolution': 'mon', 'variable': 'rsds'}\n",
      "2023-05-05 18:56:31,733 ERROR   Traceback (most recent call last):\n",
      "2023-05-05 18:56:31,734 ERROR     File \"/opt/cdstoolbox/cdscompute/cdscompute/cdshandlers/services/handler.py\", line 59, in handle_request\n",
      "2023-05-05 18:56:31,734 ERROR       result = cached(context.method, proc, context, context.args, context.kwargs)\n",
      "2023-05-05 18:56:31,735 ERROR     File \"/opt/cdstoolbox/cdscompute/cdscompute/caching.py\", line 108, in cached\n",
      "2023-05-05 18:56:31,735 ERROR       result = proc(context, *context.args, **context.kwargs)\n",
      "2023-05-05 18:56:31,736 ERROR     File \"/opt/cdstoolbox/cdscompute/cdscompute/services.py\", line 124, in __call__\n",
      "2023-05-05 18:56:31,736 ERROR       return p(*args, **kwargs)\n",
      "2023-05-05 18:56:31,737 ERROR     File \"/opt/cdstoolbox/cdscompute/cdscompute/services.py\", line 60, in __call__\n",
      "2023-05-05 18:56:31,738 ERROR       return self.proc(context, *args, **kwargs)\n",
      "2023-05-05 18:56:31,738 ERROR     File \"/home/cds/cdsservices/services/esgf_wps/__init__.py\", line 30, in execute\n",
      "2023-05-05 18:56:31,738 ERROR       request_facets, request = facets.search(context, request)\n",
      "2023-05-05 18:56:31,739 ERROR     File \"/home/cds/cdsservices/services/esgf_wps/facets.py\", line 61, in search\n",
      "2023-05-05 18:56:31,739 ERROR       raise ValueError(f'No matching data for request {tmp_request}')\n",
      "2023-05-05 18:56:31,741 ERROR   ValueError: No matching data for request {'experiment': 'ssp434', 'model': 'TaiESM1', 'temporal_resolution': 'mon', 'variable': 'rsds'}\n",
      "2023-05-05 18:56:31,792 INFO Welcome to the CDS\n",
      "2023-05-05 18:56:31,793 INFO Sending request to https://cds.climate.copernicus.eu/api/v2/resources/projections-cmip6\n",
      "2023-05-05 18:56:31,861 INFO Request is queued\n"
     ]
    },
    {
     "name": "stdout",
     "output_type": "stream",
     "text": [
      "Some parameters are not matching\n",
      "\n",
      "No value were found for the period and the project tested\n",
      "\n",
      "Test with model access_esm1_5\n",
      "path_for_file does not exist: the data may not have been downloaded\n",
      "file_download does not exist: the data were not downloaded\n"
     ]
    },
    {
     "name": "stderr",
     "output_type": "stream",
     "text": [
      "2023-05-05 18:56:32,915 INFO Request is failed\n",
      "2023-05-05 18:56:32,917 ERROR Message: an internal error occurred processing your request\n",
      "2023-05-05 18:56:32,919 ERROR Reason:  No matching data for request {'experiment': 'ssp434', 'model': 'ACCESS-ESM1-5', 'temporal_resolution': 'mon', 'variable': 'rsds'}\n",
      "2023-05-05 18:56:32,920 ERROR   Traceback (most recent call last):\n",
      "2023-05-05 18:56:32,921 ERROR     File \"/opt/cdstoolbox/cdscompute/cdscompute/cdshandlers/services/handler.py\", line 59, in handle_request\n",
      "2023-05-05 18:56:32,922 ERROR       result = cached(context.method, proc, context, context.args, context.kwargs)\n",
      "2023-05-05 18:56:32,922 ERROR     File \"/opt/cdstoolbox/cdscompute/cdscompute/caching.py\", line 108, in cached\n",
      "2023-05-05 18:56:32,923 ERROR       result = proc(context, *context.args, **context.kwargs)\n",
      "2023-05-05 18:56:32,923 ERROR     File \"/opt/cdstoolbox/cdscompute/cdscompute/services.py\", line 124, in __call__\n",
      "2023-05-05 18:56:32,924 ERROR       return p(*args, **kwargs)\n",
      "2023-05-05 18:56:32,924 ERROR     File \"/opt/cdstoolbox/cdscompute/cdscompute/services.py\", line 60, in __call__\n",
      "2023-05-05 18:56:32,925 ERROR       return self.proc(context, *args, **kwargs)\n",
      "2023-05-05 18:56:32,925 ERROR     File \"/home/cds/cdsservices/services/esgf_wps/__init__.py\", line 30, in execute\n",
      "2023-05-05 18:56:32,926 ERROR       request_facets, request = facets.search(context, request)\n",
      "2023-05-05 18:56:32,926 ERROR     File \"/home/cds/cdsservices/services/esgf_wps/facets.py\", line 61, in search\n",
      "2023-05-05 18:56:32,928 ERROR       raise ValueError(f'No matching data for request {tmp_request}')\n",
      "2023-05-05 18:56:32,928 ERROR   ValueError: No matching data for request {'experiment': 'ssp434', 'model': 'ACCESS-ESM1-5', 'temporal_resolution': 'mon', 'variable': 'rsds'}\n",
      "2023-05-05 18:56:32,967 INFO Welcome to the CDS\n",
      "2023-05-05 18:56:32,969 INFO Sending request to https://cds.climate.copernicus.eu/api/v2/resources/projections-cmip6\n",
      "2023-05-05 18:56:33,034 INFO Request is queued\n"
     ]
    },
    {
     "name": "stdout",
     "output_type": "stream",
     "text": [
      "Some parameters are not matching\n",
      "\n",
      "No value were found for the period and the project tested\n",
      "\n",
      "Test with model awi_esm_1_1_lr\n",
      "path_for_file does not exist: the data may not have been downloaded\n",
      "file_download does not exist: the data were not downloaded\n"
     ]
    },
    {
     "name": "stderr",
     "output_type": "stream",
     "text": [
      "2023-05-05 18:56:34,086 INFO Request is failed\n",
      "2023-05-05 18:56:34,087 ERROR Message: an internal error occurred processing your request\n",
      "2023-05-05 18:56:34,087 ERROR Reason:  No matching data for request {'experiment': 'ssp434', 'model': 'AWI-ESM-1-1-LR', 'temporal_resolution': 'mon', 'variable': 'rsds'}\n",
      "2023-05-05 18:56:34,088 ERROR   Traceback (most recent call last):\n",
      "2023-05-05 18:56:34,089 ERROR     File \"/opt/cdstoolbox/cdscompute/cdscompute/cdshandlers/services/handler.py\", line 59, in handle_request\n",
      "2023-05-05 18:56:34,090 ERROR       result = cached(context.method, proc, context, context.args, context.kwargs)\n",
      "2023-05-05 18:56:34,091 ERROR     File \"/opt/cdstoolbox/cdscompute/cdscompute/caching.py\", line 108, in cached\n",
      "2023-05-05 18:56:34,091 ERROR       result = proc(context, *context.args, **context.kwargs)\n",
      "2023-05-05 18:56:34,092 ERROR     File \"/opt/cdstoolbox/cdscompute/cdscompute/services.py\", line 124, in __call__\n",
      "2023-05-05 18:56:34,093 ERROR       return p(*args, **kwargs)\n",
      "2023-05-05 18:56:34,094 ERROR     File \"/opt/cdstoolbox/cdscompute/cdscompute/services.py\", line 60, in __call__\n",
      "2023-05-05 18:56:34,094 ERROR       return self.proc(context, *args, **kwargs)\n",
      "2023-05-05 18:56:34,095 ERROR     File \"/home/cds/cdsservices/services/esgf_wps/__init__.py\", line 30, in execute\n",
      "2023-05-05 18:56:34,095 ERROR       request_facets, request = facets.search(context, request)\n",
      "2023-05-05 18:56:34,096 ERROR     File \"/home/cds/cdsservices/services/esgf_wps/facets.py\", line 61, in search\n",
      "2023-05-05 18:56:34,096 ERROR       raise ValueError(f'No matching data for request {tmp_request}')\n",
      "2023-05-05 18:56:34,097 ERROR   ValueError: No matching data for request {'experiment': 'ssp434', 'model': 'AWI-ESM-1-1-LR', 'temporal_resolution': 'mon', 'variable': 'rsds'}\n",
      "2023-05-05 18:56:34,137 INFO Welcome to the CDS\n",
      "2023-05-05 18:56:34,138 INFO Sending request to https://cds.climate.copernicus.eu/api/v2/resources/projections-cmip6\n",
      "2023-05-05 18:56:34,188 INFO Request is queued\n"
     ]
    },
    {
     "name": "stdout",
     "output_type": "stream",
     "text": [
      "Some parameters are not matching\n",
      "\n",
      "No value were found for the period and the project tested\n",
      "\n",
      "Test with model bcc_esm1\n",
      "path_for_file does not exist: the data may not have been downloaded\n",
      "file_download does not exist: the data were not downloaded\n"
     ]
    },
    {
     "name": "stderr",
     "output_type": "stream",
     "text": [
      "2023-05-05 18:56:35,237 INFO Request is failed\n",
      "2023-05-05 18:56:35,238 ERROR Message: an internal error occurred processing your request\n",
      "2023-05-05 18:56:35,239 ERROR Reason:  No matching data for request {'experiment': 'ssp434', 'model': 'BCC-ESM1', 'temporal_resolution': 'mon', 'variable': 'rsds'}\n",
      "2023-05-05 18:56:35,240 ERROR   Traceback (most recent call last):\n",
      "2023-05-05 18:56:35,240 ERROR     File \"/opt/cdstoolbox/cdscompute/cdscompute/cdshandlers/services/handler.py\", line 59, in handle_request\n",
      "2023-05-05 18:56:35,241 ERROR       result = cached(context.method, proc, context, context.args, context.kwargs)\n",
      "2023-05-05 18:56:35,242 ERROR     File \"/opt/cdstoolbox/cdscompute/cdscompute/caching.py\", line 108, in cached\n",
      "2023-05-05 18:56:35,243 ERROR       result = proc(context, *context.args, **context.kwargs)\n",
      "2023-05-05 18:56:35,243 ERROR     File \"/opt/cdstoolbox/cdscompute/cdscompute/services.py\", line 124, in __call__\n",
      "2023-05-05 18:56:35,244 ERROR       return p(*args, **kwargs)\n",
      "2023-05-05 18:56:35,244 ERROR     File \"/opt/cdstoolbox/cdscompute/cdscompute/services.py\", line 60, in __call__\n",
      "2023-05-05 18:56:35,244 ERROR       return self.proc(context, *args, **kwargs)\n",
      "2023-05-05 18:56:35,245 ERROR     File \"/home/cds/cdsservices/services/esgf_wps/__init__.py\", line 30, in execute\n",
      "2023-05-05 18:56:35,245 ERROR       request_facets, request = facets.search(context, request)\n",
      "2023-05-05 18:56:35,246 ERROR     File \"/home/cds/cdsservices/services/esgf_wps/facets.py\", line 61, in search\n",
      "2023-05-05 18:56:35,246 ERROR       raise ValueError(f'No matching data for request {tmp_request}')\n",
      "2023-05-05 18:56:35,247 ERROR   ValueError: No matching data for request {'experiment': 'ssp434', 'model': 'BCC-ESM1', 'temporal_resolution': 'mon', 'variable': 'rsds'}\n",
      "2023-05-05 18:56:35,288 INFO Welcome to the CDS\n",
      "2023-05-05 18:56:35,289 INFO Sending request to https://cds.climate.copernicus.eu/api/v2/resources/projections-cmip6\n",
      "2023-05-05 18:56:35,337 INFO Request is queued\n"
     ]
    },
    {
     "name": "stdout",
     "output_type": "stream",
     "text": [
      "Some parameters are not matching\n",
      "\n",
      "No value were found for the period and the project tested\n",
      "\n",
      "Test with model canesm5\n",
      "path_for_file does not exist: the data may not have been downloaded\n",
      "file_download does not exist: the data were not downloaded\n"
     ]
    },
    {
     "name": "stderr",
     "output_type": "stream",
     "text": [
      "2023-05-05 18:56:36,395 INFO Request is running\n",
      "2023-05-05 18:56:48,781 INFO Request is completed\n",
      "2023-05-05 18:56:48,782 INFO Downloading https://download-0006-clone.copernicus-climate.eu/cache-compute-0006/cache/data2/adaptor.esgf_wps.retrieve-1683305806.250403-18111-12-8d10ef8f-eec4-4d30-a29f-37fc291ed7d4.zip to download.zip (717.2K)\n",
      "2023-05-05 18:56:49,482 INFO Download rate 1M/s                                                                        \n"
     ]
    },
    {
     "name": "stdout",
     "output_type": "stream",
     "text": [
      "\n",
      " The downloaded file is extracted\n",
      "path_for_file does exist Function copernicus search for nc\n",
      "The file is in the path Function copernicus search for nc\n",
      "\n",
      "The final path for the nc file is: C:\\Users\\CLMRX\\OneDrive - COWI\\Documents\\GitHub\\CRVA_tool\\outputs\\Datasets\\surface_downwelling_shortwave_radiation\\CompleteMozambique\\ssp4_3_4\\canesm5\\2015-2099\\CMIP6-copernicus-GCM\\rsds_Amon_CanESM5_ssp434_r1i1p1f1_gn_20150116-20991216_v20190429.nc\n",
      "\n",
      " The final path for nc file exists ? True\n",
      "\n",
      "\n",
      "\n",
      "---------------  Path to nc file exists ?? ---------------\n",
      "\n",
      "False\n",
      "\n",
      "\n",
      "Registering the data in a dataframe\n",
      "\n",
      "Value were found for the period and the project tested\n",
      "\n",
      "Test with model cesm2\n",
      "path_for_file does not exist: the data may not have been downloaded\n",
      "file_download does not exist: the data were not downloaded\n"
     ]
    },
    {
     "name": "stderr",
     "output_type": "stream",
     "text": [
      "2023-05-05 19:06:52,837 INFO Welcome to the CDS\n",
      "2023-05-05 19:06:52,838 INFO Sending request to https://cds.climate.copernicus.eu/api/v2/resources/projections-cmip6\n",
      "2023-05-05 19:06:52,893 INFO Request is queued\n",
      "2023-05-05 19:06:53,939 INFO Request is failed\n",
      "2023-05-05 19:06:53,941 ERROR Message: an internal error occurred processing your request\n",
      "2023-05-05 19:06:53,942 ERROR Reason:  No matching data for request {'experiment': 'ssp434', 'model': 'CESM2', 'temporal_resolution': 'mon', 'variable': 'rsds'}\n",
      "2023-05-05 19:06:53,942 ERROR   Traceback (most recent call last):\n",
      "2023-05-05 19:06:53,943 ERROR     File \"/opt/cdstoolbox/cdscompute/cdscompute/cdshandlers/services/handler.py\", line 59, in handle_request\n",
      "2023-05-05 19:06:53,944 ERROR       result = cached(context.method, proc, context, context.args, context.kwargs)\n",
      "2023-05-05 19:06:53,944 ERROR     File \"/opt/cdstoolbox/cdscompute/cdscompute/caching.py\", line 108, in cached\n",
      "2023-05-05 19:06:53,944 ERROR       result = proc(context, *context.args, **context.kwargs)\n",
      "2023-05-05 19:06:53,945 ERROR     File \"/opt/cdstoolbox/cdscompute/cdscompute/services.py\", line 124, in __call__\n",
      "2023-05-05 19:06:53,946 ERROR       return p(*args, **kwargs)\n",
      "2023-05-05 19:06:53,947 ERROR     File \"/opt/cdstoolbox/cdscompute/cdscompute/services.py\", line 60, in __call__\n",
      "2023-05-05 19:06:53,947 ERROR       return self.proc(context, *args, **kwargs)\n",
      "2023-05-05 19:06:53,948 ERROR     File \"/home/cds/cdsservices/services/esgf_wps/__init__.py\", line 30, in execute\n",
      "2023-05-05 19:06:53,948 ERROR       request_facets, request = facets.search(context, request)\n",
      "2023-05-05 19:06:53,949 ERROR     File \"/home/cds/cdsservices/services/esgf_wps/facets.py\", line 61, in search\n",
      "2023-05-05 19:06:53,949 ERROR       raise ValueError(f'No matching data for request {tmp_request}')\n",
      "2023-05-05 19:06:53,951 ERROR   ValueError: No matching data for request {'experiment': 'ssp434', 'model': 'CESM2', 'temporal_resolution': 'mon', 'variable': 'rsds'}\n",
      "2023-05-05 19:06:53,991 INFO Welcome to the CDS\n",
      "2023-05-05 19:06:53,993 INFO Sending request to https://cds.climate.copernicus.eu/api/v2/resources/projections-cmip6\n",
      "2023-05-05 19:06:54,038 INFO Request is queued\n"
     ]
    },
    {
     "name": "stdout",
     "output_type": "stream",
     "text": [
      "Some parameters are not matching\n",
      "\n",
      "No value were found for the period and the project tested\n",
      "\n",
      "Test with model cesm2_waccm\n",
      "path_for_file does not exist: the data may not have been downloaded\n",
      "file_download does not exist: the data were not downloaded\n"
     ]
    },
    {
     "name": "stderr",
     "output_type": "stream",
     "text": [
      "2023-05-05 19:06:55,082 INFO Request is failed\n",
      "2023-05-05 19:06:55,083 ERROR Message: an internal error occurred processing your request\n",
      "2023-05-05 19:06:55,085 ERROR Reason:  No matching data for request {'experiment': 'ssp434', 'model': 'CESM2-WACCM', 'temporal_resolution': 'mon', 'variable': 'rsds'}\n",
      "2023-05-05 19:06:55,085 ERROR   Traceback (most recent call last):\n",
      "2023-05-05 19:06:55,086 ERROR     File \"/opt/cdstoolbox/cdscompute/cdscompute/cdshandlers/services/handler.py\", line 59, in handle_request\n",
      "2023-05-05 19:06:55,087 ERROR       result = cached(context.method, proc, context, context.args, context.kwargs)\n",
      "2023-05-05 19:06:55,087 ERROR     File \"/opt/cdstoolbox/cdscompute/cdscompute/caching.py\", line 108, in cached\n",
      "2023-05-05 19:06:55,089 ERROR       result = proc(context, *context.args, **context.kwargs)\n",
      "2023-05-05 19:06:55,089 ERROR     File \"/opt/cdstoolbox/cdscompute/cdscompute/services.py\", line 124, in __call__\n",
      "2023-05-05 19:06:55,090 ERROR       return p(*args, **kwargs)\n",
      "2023-05-05 19:06:55,090 ERROR     File \"/opt/cdstoolbox/cdscompute/cdscompute/services.py\", line 60, in __call__\n",
      "2023-05-05 19:06:55,090 ERROR       return self.proc(context, *args, **kwargs)\n",
      "2023-05-05 19:06:55,091 ERROR     File \"/home/cds/cdsservices/services/esgf_wps/__init__.py\", line 30, in execute\n",
      "2023-05-05 19:06:55,092 ERROR       request_facets, request = facets.search(context, request)\n",
      "2023-05-05 19:06:55,092 ERROR     File \"/home/cds/cdsservices/services/esgf_wps/facets.py\", line 61, in search\n",
      "2023-05-05 19:06:55,094 ERROR       raise ValueError(f'No matching data for request {tmp_request}')\n",
      "2023-05-05 19:06:55,094 ERROR   ValueError: No matching data for request {'experiment': 'ssp434', 'model': 'CESM2-WACCM', 'temporal_resolution': 'mon', 'variable': 'rsds'}\n",
      "2023-05-05 19:06:55,132 INFO Welcome to the CDS\n",
      "2023-05-05 19:06:55,133 INFO Sending request to https://cds.climate.copernicus.eu/api/v2/resources/projections-cmip6\n",
      "2023-05-05 19:06:55,180 INFO Request is queued\n"
     ]
    },
    {
     "name": "stdout",
     "output_type": "stream",
     "text": [
      "Some parameters are not matching\n",
      "\n",
      "No value were found for the period and the project tested\n",
      "\n",
      "Test with model ciesm\n",
      "path_for_file does not exist: the data may not have been downloaded\n",
      "file_download does not exist: the data were not downloaded\n"
     ]
    },
    {
     "name": "stderr",
     "output_type": "stream",
     "text": [
      "2023-05-05 19:06:56,235 INFO Request is failed\n",
      "2023-05-05 19:06:56,235 ERROR Message: an internal error occurred processing your request\n",
      "2023-05-05 19:06:56,236 ERROR Reason:  No matching data for request {'experiment': 'ssp434', 'model': 'CIESM', 'temporal_resolution': 'mon', 'variable': 'rsds'}\n",
      "2023-05-05 19:06:56,237 ERROR   Traceback (most recent call last):\n",
      "2023-05-05 19:06:56,237 ERROR     File \"/opt/cdstoolbox/cdscompute/cdscompute/cdshandlers/services/handler.py\", line 59, in handle_request\n",
      "2023-05-05 19:06:56,238 ERROR       result = cached(context.method, proc, context, context.args, context.kwargs)\n",
      "2023-05-05 19:06:56,238 ERROR     File \"/opt/cdstoolbox/cdscompute/cdscompute/caching.py\", line 108, in cached\n",
      "2023-05-05 19:06:56,239 ERROR       result = proc(context, *context.args, **context.kwargs)\n",
      "2023-05-05 19:06:56,240 ERROR     File \"/opt/cdstoolbox/cdscompute/cdscompute/services.py\", line 124, in __call__\n",
      "2023-05-05 19:06:56,240 ERROR       return p(*args, **kwargs)\n",
      "2023-05-05 19:06:56,240 ERROR     File \"/opt/cdstoolbox/cdscompute/cdscompute/services.py\", line 60, in __call__\n",
      "2023-05-05 19:06:56,241 ERROR       return self.proc(context, *args, **kwargs)\n",
      "2023-05-05 19:06:56,241 ERROR     File \"/home/cds/cdsservices/services/esgf_wps/__init__.py\", line 30, in execute\n",
      "2023-05-05 19:06:56,242 ERROR       request_facets, request = facets.search(context, request)\n",
      "2023-05-05 19:06:56,242 ERROR     File \"/home/cds/cdsservices/services/esgf_wps/facets.py\", line 61, in search\n",
      "2023-05-05 19:06:56,243 ERROR       raise ValueError(f'No matching data for request {tmp_request}')\n",
      "2023-05-05 19:06:56,244 ERROR   ValueError: No matching data for request {'experiment': 'ssp434', 'model': 'CIESM', 'temporal_resolution': 'mon', 'variable': 'rsds'}\n",
      "2023-05-05 19:06:56,282 INFO Welcome to the CDS\n",
      "2023-05-05 19:06:56,283 INFO Sending request to https://cds.climate.copernicus.eu/api/v2/resources/projections-cmip6\n",
      "2023-05-05 19:06:56,371 INFO Request is queued\n"
     ]
    },
    {
     "name": "stdout",
     "output_type": "stream",
     "text": [
      "Some parameters are not matching\n",
      "\n",
      "No value were found for the period and the project tested\n",
      "\n",
      "Test with model cmcc_cm2_sr5\n",
      "path_for_file does not exist: the data may not have been downloaded\n",
      "file_download does not exist: the data were not downloaded\n"
     ]
    },
    {
     "name": "stderr",
     "output_type": "stream",
     "text": [
      "2023-05-05 19:06:57,422 INFO Request is failed\n",
      "2023-05-05 19:06:57,423 ERROR Message: an internal error occurred processing your request\n",
      "2023-05-05 19:06:57,424 ERROR Reason:  No matching data for request {'experiment': 'ssp434', 'model': 'CMCC-CM2-SR5', 'temporal_resolution': 'mon', 'variable': 'rsds'}\n",
      "2023-05-05 19:06:57,424 ERROR   Traceback (most recent call last):\n",
      "2023-05-05 19:06:57,424 ERROR     File \"/opt/cdstoolbox/cdscompute/cdscompute/cdshandlers/services/handler.py\", line 59, in handle_request\n",
      "2023-05-05 19:06:57,426 ERROR       result = cached(context.method, proc, context, context.args, context.kwargs)\n",
      "2023-05-05 19:06:57,427 ERROR     File \"/opt/cdstoolbox/cdscompute/cdscompute/caching.py\", line 108, in cached\n",
      "2023-05-05 19:06:57,427 ERROR       result = proc(context, *context.args, **context.kwargs)\n",
      "2023-05-05 19:06:57,428 ERROR     File \"/opt/cdstoolbox/cdscompute/cdscompute/services.py\", line 124, in __call__\n",
      "2023-05-05 19:06:57,428 ERROR       return p(*args, **kwargs)\n",
      "2023-05-05 19:06:57,429 ERROR     File \"/opt/cdstoolbox/cdscompute/cdscompute/services.py\", line 60, in __call__\n",
      "2023-05-05 19:06:57,430 ERROR       return self.proc(context, *args, **kwargs)\n",
      "2023-05-05 19:06:57,431 ERROR     File \"/home/cds/cdsservices/services/esgf_wps/__init__.py\", line 30, in execute\n",
      "2023-05-05 19:06:57,431 ERROR       request_facets, request = facets.search(context, request)\n",
      "2023-05-05 19:06:57,431 ERROR     File \"/home/cds/cdsservices/services/esgf_wps/facets.py\", line 61, in search\n",
      "2023-05-05 19:06:57,432 ERROR       raise ValueError(f'No matching data for request {tmp_request}')\n",
      "2023-05-05 19:06:57,433 ERROR   ValueError: No matching data for request {'experiment': 'ssp434', 'model': 'CMCC-CM2-SR5', 'temporal_resolution': 'mon', 'variable': 'rsds'}\n",
      "2023-05-05 19:06:57,472 INFO Welcome to the CDS\n",
      "2023-05-05 19:06:57,473 INFO Sending request to https://cds.climate.copernicus.eu/api/v2/resources/projections-cmip6\n",
      "2023-05-05 19:06:57,520 INFO Request is queued\n"
     ]
    },
    {
     "name": "stdout",
     "output_type": "stream",
     "text": [
      "Some parameters are not matching\n",
      "\n",
      "No value were found for the period and the project tested\n",
      "\n",
      "Test with model cnrm_cm6_1\n",
      "path_for_file does not exist: the data may not have been downloaded\n",
      "file_download does not exist: the data were not downloaded\n"
     ]
    },
    {
     "name": "stderr",
     "output_type": "stream",
     "text": [
      "2023-05-05 19:06:58,619 INFO Request is failed\n",
      "2023-05-05 19:06:58,621 ERROR Message: an internal error occurred processing your request\n",
      "2023-05-05 19:06:58,622 ERROR Reason:  No matching data for request {'experiment': 'ssp434', 'model': 'CNRM-CM6-1', 'temporal_resolution': 'mon', 'variable': 'rsds'}\n",
      "2023-05-05 19:06:58,623 ERROR   Traceback (most recent call last):\n",
      "2023-05-05 19:06:58,625 ERROR     File \"/opt/cdstoolbox/cdscompute/cdscompute/cdshandlers/services/handler.py\", line 59, in handle_request\n",
      "2023-05-05 19:06:58,626 ERROR       result = cached(context.method, proc, context, context.args, context.kwargs)\n",
      "2023-05-05 19:06:58,627 ERROR     File \"/opt/cdstoolbox/cdscompute/cdscompute/caching.py\", line 108, in cached\n",
      "2023-05-05 19:06:58,628 ERROR       result = proc(context, *context.args, **context.kwargs)\n",
      "2023-05-05 19:06:58,629 ERROR     File \"/opt/cdstoolbox/cdscompute/cdscompute/services.py\", line 124, in __call__\n",
      "2023-05-05 19:06:58,629 ERROR       return p(*args, **kwargs)\n",
      "2023-05-05 19:06:58,630 ERROR     File \"/opt/cdstoolbox/cdscompute/cdscompute/services.py\", line 60, in __call__\n",
      "2023-05-05 19:06:58,631 ERROR       return self.proc(context, *args, **kwargs)\n",
      "2023-05-05 19:06:58,632 ERROR     File \"/home/cds/cdsservices/services/esgf_wps/__init__.py\", line 30, in execute\n",
      "2023-05-05 19:06:58,632 ERROR       request_facets, request = facets.search(context, request)\n",
      "2023-05-05 19:06:58,632 ERROR     File \"/home/cds/cdsservices/services/esgf_wps/facets.py\", line 61, in search\n",
      "2023-05-05 19:06:58,632 ERROR       raise ValueError(f'No matching data for request {tmp_request}')\n",
      "2023-05-05 19:06:58,633 ERROR   ValueError: No matching data for request {'experiment': 'ssp434', 'model': 'CNRM-CM6-1', 'temporal_resolution': 'mon', 'variable': 'rsds'}\n",
      "2023-05-05 19:06:58,672 INFO Welcome to the CDS\n",
      "2023-05-05 19:06:58,673 INFO Sending request to https://cds.climate.copernicus.eu/api/v2/resources/projections-cmip6\n",
      "2023-05-05 19:06:58,757 INFO Request is queued\n"
     ]
    },
    {
     "name": "stdout",
     "output_type": "stream",
     "text": [
      "Some parameters are not matching\n",
      "\n",
      "No value were found for the period and the project tested\n",
      "\n",
      "Test with model cnrm_esm2_1\n",
      "path_for_file does not exist: the data may not have been downloaded\n",
      "file_download does not exist: the data were not downloaded\n"
     ]
    },
    {
     "name": "stderr",
     "output_type": "stream",
     "text": [
      "2023-05-05 19:06:59,807 INFO Request is running\n",
      "2023-05-05 19:07:12,194 INFO Request is completed\n",
      "2023-05-05 19:07:12,196 INFO Downloading https://download-0015-clone.copernicus-climate.eu/cache-compute-0015/cache/data4/adaptor.esgf_wps.retrieve-1683306429.7782166-24407-12-7ffe4941-80ac-44aa-b5b5-4c4920240132.zip to download.zip (1.6M)\n",
      "2023-05-05 19:07:13,017 INFO Download rate 1.9M/s                                                                      \n"
     ]
    },
    {
     "name": "stdout",
     "output_type": "stream",
     "text": [
      "\n",
      " The downloaded file is extracted\n",
      "path_for_file does exist Function copernicus search for nc\n",
      "The file is in the path Function copernicus search for nc\n",
      "\n",
      "The final path for the nc file is: C:\\Users\\CLMRX\\OneDrive - COWI\\Documents\\GitHub\\CRVA_tool\\outputs\\Datasets\\surface_downwelling_shortwave_radiation\\CompleteMozambique\\ssp4_3_4\\cnrm_esm2_1\\2015-2099\\CMIP6-copernicus-GCM\\rsds_Amon_CNRM-ESM2-1_ssp434_r1i1p1f2_gr_20150116-20991216_v20190328.nc\n",
      "\n",
      " The final path for nc file exists ? True\n",
      "\n",
      "\n",
      "\n",
      "---------------  Path to nc file exists ?? ---------------\n",
      "\n",
      "False\n",
      "\n",
      "\n",
      "Registering the data in a dataframe\n",
      "\n",
      "Value were found for the period and the project tested\n",
      "\n",
      "Test with model e3sm_1_1\n",
      "path_for_file does not exist: the data may not have been downloaded\n",
      "file_download does not exist: the data were not downloaded\n"
     ]
    },
    {
     "name": "stderr",
     "output_type": "stream",
     "text": [
      "2023-05-05 19:17:37,752 INFO Welcome to the CDS\n",
      "2023-05-05 19:17:37,753 INFO Sending request to https://cds.climate.copernicus.eu/api/v2/resources/projections-cmip6\n",
      "2023-05-05 19:17:37,835 INFO Request is queued\n",
      "2023-05-05 19:17:38,887 INFO Request is failed\n",
      "2023-05-05 19:17:38,888 ERROR Message: an internal error occurred processing your request\n",
      "2023-05-05 19:17:38,889 ERROR Reason:  No matching data for request {'experiment': 'ssp434', 'model': 'E3SM-1-1', 'temporal_resolution': 'mon', 'variable': 'rsds'}\n",
      "2023-05-05 19:17:38,890 ERROR   Traceback (most recent call last):\n",
      "2023-05-05 19:17:38,891 ERROR     File \"/opt/cdstoolbox/cdscompute/cdscompute/cdshandlers/services/handler.py\", line 59, in handle_request\n",
      "2023-05-05 19:17:38,892 ERROR       result = cached(context.method, proc, context, context.args, context.kwargs)\n",
      "2023-05-05 19:17:38,892 ERROR     File \"/opt/cdstoolbox/cdscompute/cdscompute/caching.py\", line 108, in cached\n",
      "2023-05-05 19:17:38,893 ERROR       result = proc(context, *context.args, **context.kwargs)\n",
      "2023-05-05 19:17:38,893 ERROR     File \"/opt/cdstoolbox/cdscompute/cdscompute/services.py\", line 124, in __call__\n",
      "2023-05-05 19:17:38,894 ERROR       return p(*args, **kwargs)\n",
      "2023-05-05 19:17:38,895 ERROR     File \"/opt/cdstoolbox/cdscompute/cdscompute/services.py\", line 60, in __call__\n",
      "2023-05-05 19:17:38,895 ERROR       return self.proc(context, *args, **kwargs)\n",
      "2023-05-05 19:17:38,896 ERROR     File \"/home/cds/cdsservices/services/esgf_wps/__init__.py\", line 30, in execute\n",
      "2023-05-05 19:17:38,896 ERROR       request_facets, request = facets.search(context, request)\n",
      "2023-05-05 19:17:38,897 ERROR     File \"/home/cds/cdsservices/services/esgf_wps/facets.py\", line 61, in search\n",
      "2023-05-05 19:17:38,898 ERROR       raise ValueError(f'No matching data for request {tmp_request}')\n",
      "2023-05-05 19:17:38,898 ERROR   ValueError: No matching data for request {'experiment': 'ssp434', 'model': 'E3SM-1-1', 'temporal_resolution': 'mon', 'variable': 'rsds'}\n",
      "2023-05-05 19:17:38,935 INFO Welcome to the CDS\n",
      "2023-05-05 19:17:38,936 INFO Sending request to https://cds.climate.copernicus.eu/api/v2/resources/projections-cmip6\n",
      "2023-05-05 19:17:39,017 INFO Request is queued\n"
     ]
    },
    {
     "name": "stdout",
     "output_type": "stream",
     "text": [
      "Some parameters are not matching\n",
      "\n",
      "No value were found for the period and the project tested\n",
      "\n",
      "Test with model ec_earth3\n",
      "path_for_file does not exist: the data may not have been downloaded\n",
      "file_download does not exist: the data were not downloaded\n"
     ]
    },
    {
     "name": "stderr",
     "output_type": "stream",
     "text": [
      "2023-05-05 19:17:40,067 INFO Request is failed\n",
      "2023-05-05 19:17:40,068 ERROR Message: an internal error occurred processing your request\n",
      "2023-05-05 19:17:40,069 ERROR Reason:  execution failed\n",
      "2023-05-05 19:17:40,070 ERROR   Traceback (most recent call last):\n",
      "2023-05-05 19:17:40,072 ERROR     File \"/usr/local/lib/python3.6/site-packages/birdy/client/base.py\", line 373, in _execute\n",
      "2023-05-05 19:17:40,072 ERROR       lineage=self._lineage,\n",
      "2023-05-05 19:17:40,073 ERROR     File \"/usr/local/lib/python3.6/site-packages/owslib/wps.py\", line 359, in execute\n",
      "2023-05-05 19:17:40,074 ERROR       response = execution.submitRequest(request)\n",
      "2023-05-05 19:17:40,075 ERROR     File \"/usr/local/lib/python3.6/site-packages/owslib/wps.py\", line 912, in submitRequest\n",
      "2023-05-05 19:17:40,076 ERROR       self.url, request, method='Post', headers=self.headers)\n",
      "2023-05-05 19:17:40,076 ERROR     File \"/usr/local/lib/python3.6/site-packages/owslib/wps.py\", line 603, in readFromUrl\n",
      "2023-05-05 19:17:40,077 ERROR       headers=headers, verify=verify, cert=cert)\n",
      "2023-05-05 19:17:40,077 ERROR     File \"/usr/local/lib/python3.6/site-packages/owslib/wps.py\", line 515, in _readFromUrl\n",
      "2023-05-05 19:17:40,078 ERROR       headers=headers, verify=self.auth.verify, cert=self.auth.cert, timeout=timeout)\n",
      "2023-05-05 19:17:40,078 ERROR     File \"/usr/local/lib/python3.6/site-packages/owslib/util.py\", line 209, in openURL\n",
      "2023-05-05 19:17:40,079 ERROR       req.raise_for_status()\n",
      "2023-05-05 19:17:40,079 ERROR     File \"/usr/local/lib/python3.6/site-packages/requests/models.py\", line 960, in raise_for_status\n",
      "2023-05-05 19:17:40,080 ERROR       raise HTTPError(http_error_msg, response=self)\n",
      "2023-05-05 19:17:40,081 ERROR   requests.exceptions.HTTPError: 500 Server Error: INTERNAL SERVER ERROR for url: http://compute.mips.copernicus-climate.eu/wps\n",
      "2023-05-05 19:17:40,122 INFO Welcome to the CDS\n",
      "2023-05-05 19:17:40,123 INFO Sending request to https://cds.climate.copernicus.eu/api/v2/resources/projections-cmip6\n",
      "2023-05-05 19:17:40,210 INFO Request is queued\n"
     ]
    },
    {
     "name": "stdout",
     "output_type": "stream",
     "text": [
      "Some parameters are not matching\n",
      "\n",
      "No value were found for the period and the project tested\n",
      "\n",
      "Test with model ec_earth3_cc\n",
      "path_for_file does not exist: the data may not have been downloaded\n",
      "file_download does not exist: the data were not downloaded\n"
     ]
    },
    {
     "name": "stderr",
     "output_type": "stream",
     "text": [
      "2023-05-05 19:17:41,259 INFO Request is failed\n",
      "2023-05-05 19:17:41,261 ERROR Message: an internal error occurred processing your request\n",
      "2023-05-05 19:17:41,262 ERROR Reason:  No matching data for request {'experiment': 'ssp434', 'model': 'EC-Earth3-CC', 'temporal_resolution': 'mon', 'variable': 'rsds'}\n",
      "2023-05-05 19:17:41,263 ERROR   Traceback (most recent call last):\n",
      "2023-05-05 19:17:41,263 ERROR     File \"/opt/cdstoolbox/cdscompute/cdscompute/cdshandlers/services/handler.py\", line 59, in handle_request\n",
      "2023-05-05 19:17:41,264 ERROR       result = cached(context.method, proc, context, context.args, context.kwargs)\n",
      "2023-05-05 19:17:41,265 ERROR     File \"/opt/cdstoolbox/cdscompute/cdscompute/caching.py\", line 108, in cached\n",
      "2023-05-05 19:17:41,266 ERROR       result = proc(context, *context.args, **context.kwargs)\n",
      "2023-05-05 19:17:41,266 ERROR     File \"/opt/cdstoolbox/cdscompute/cdscompute/services.py\", line 124, in __call__\n",
      "2023-05-05 19:17:41,267 ERROR       return p(*args, **kwargs)\n",
      "2023-05-05 19:17:41,267 ERROR     File \"/opt/cdstoolbox/cdscompute/cdscompute/services.py\", line 60, in __call__\n",
      "2023-05-05 19:17:41,268 ERROR       return self.proc(context, *args, **kwargs)\n",
      "2023-05-05 19:17:41,268 ERROR     File \"/home/cds/cdsservices/services/esgf_wps/__init__.py\", line 30, in execute\n",
      "2023-05-05 19:17:41,269 ERROR       request_facets, request = facets.search(context, request)\n",
      "2023-05-05 19:17:41,269 ERROR     File \"/home/cds/cdsservices/services/esgf_wps/facets.py\", line 61, in search\n",
      "2023-05-05 19:17:41,271 ERROR       raise ValueError(f'No matching data for request {tmp_request}')\n",
      "2023-05-05 19:17:41,271 ERROR   ValueError: No matching data for request {'experiment': 'ssp434', 'model': 'EC-Earth3-CC', 'temporal_resolution': 'mon', 'variable': 'rsds'}\n",
      "2023-05-05 19:17:41,313 INFO Welcome to the CDS\n",
      "2023-05-05 19:17:41,314 INFO Sending request to https://cds.climate.copernicus.eu/api/v2/resources/projections-cmip6\n",
      "2023-05-05 19:17:41,398 INFO Request is queued\n"
     ]
    },
    {
     "name": "stdout",
     "output_type": "stream",
     "text": [
      "Some parameters are not matching\n",
      "\n",
      "No value were found for the period and the project tested\n",
      "\n",
      "Test with model ec_earth3_veg_lr\n",
      "path_for_file does not exist: the data may not have been downloaded\n",
      "file_download does not exist: the data were not downloaded\n"
     ]
    },
    {
     "name": "stderr",
     "output_type": "stream",
     "text": [
      "2023-05-05 19:17:42,443 INFO Request is failed\n",
      "2023-05-05 19:17:42,445 ERROR Message: an internal error occurred processing your request\n",
      "2023-05-05 19:17:42,446 ERROR Reason:  No matching data for request {'experiment': 'ssp434', 'model': 'EC-Earth3-Veg-LR', 'temporal_resolution': 'mon', 'variable': 'rsds'}\n",
      "2023-05-05 19:17:42,447 ERROR   Traceback (most recent call last):\n",
      "2023-05-05 19:17:42,449 ERROR     File \"/opt/cdstoolbox/cdscompute/cdscompute/cdshandlers/services/handler.py\", line 59, in handle_request\n",
      "2023-05-05 19:17:42,450 ERROR       result = cached(context.method, proc, context, context.args, context.kwargs)\n",
      "2023-05-05 19:17:42,451 ERROR     File \"/opt/cdstoolbox/cdscompute/cdscompute/caching.py\", line 108, in cached\n",
      "2023-05-05 19:17:42,452 ERROR       result = proc(context, *context.args, **context.kwargs)\n",
      "2023-05-05 19:17:42,453 ERROR     File \"/opt/cdstoolbox/cdscompute/cdscompute/services.py\", line 124, in __call__\n",
      "2023-05-05 19:17:42,454 ERROR       return p(*args, **kwargs)\n",
      "2023-05-05 19:17:42,455 ERROR     File \"/opt/cdstoolbox/cdscompute/cdscompute/services.py\", line 60, in __call__\n",
      "2023-05-05 19:17:42,455 ERROR       return self.proc(context, *args, **kwargs)\n",
      "2023-05-05 19:17:42,455 ERROR     File \"/home/cds/cdsservices/services/esgf_wps/__init__.py\", line 30, in execute\n",
      "2023-05-05 19:17:42,456 ERROR       request_facets, request = facets.search(context, request)\n",
      "2023-05-05 19:17:42,457 ERROR     File \"/home/cds/cdsservices/services/esgf_wps/facets.py\", line 61, in search\n",
      "2023-05-05 19:17:42,458 ERROR       raise ValueError(f'No matching data for request {tmp_request}')\n",
      "2023-05-05 19:17:42,459 ERROR   ValueError: No matching data for request {'experiment': 'ssp434', 'model': 'EC-Earth3-Veg-LR', 'temporal_resolution': 'mon', 'variable': 'rsds'}\n",
      "2023-05-05 19:17:42,497 INFO Welcome to the CDS\n",
      "2023-05-05 19:17:42,498 INFO Sending request to https://cds.climate.copernicus.eu/api/v2/resources/projections-cmip6\n",
      "2023-05-05 19:17:42,585 INFO Request is queued\n"
     ]
    },
    {
     "name": "stdout",
     "output_type": "stream",
     "text": [
      "Some parameters are not matching\n",
      "\n",
      "No value were found for the period and the project tested\n",
      "\n",
      "Test with model fgoals_g3\n",
      "path_for_file does not exist: the data may not have been downloaded\n",
      "file_download does not exist: the data were not downloaded\n"
     ]
    },
    {
     "name": "stderr",
     "output_type": "stream",
     "text": [
      "2023-05-05 19:17:43,635 INFO Request is failed\n",
      "2023-05-05 19:17:43,636 ERROR Message: an internal error occurred processing your request\n",
      "2023-05-05 19:17:43,637 ERROR Reason:  500 Server Error: INTERNAL SERVER ERROR for url: http://compute.mips.copernicus-climate.eu/wps?service=WPS&request=DescribeProcess&version=1.0.0&identifier=all\n",
      "2023-05-05 19:17:43,637 ERROR   Traceback (most recent call last):\n",
      "2023-05-05 19:17:43,638 ERROR     File \"/opt/cdstoolbox/cdscompute/cdscompute/cdshandlers/services/handler.py\", line 59, in handle_request\n",
      "2023-05-05 19:17:43,639 ERROR       result = cached(context.method, proc, context, context.args, context.kwargs)\n",
      "2023-05-05 19:17:43,640 ERROR     File \"/opt/cdstoolbox/cdscompute/cdscompute/caching.py\", line 108, in cached\n",
      "2023-05-05 19:17:43,640 ERROR       result = proc(context, *context.args, **context.kwargs)\n",
      "2023-05-05 19:17:43,640 ERROR     File \"/opt/cdstoolbox/cdscompute/cdscompute/services.py\", line 124, in __call__\n",
      "2023-05-05 19:17:43,642 ERROR       return p(*args, **kwargs)\n",
      "2023-05-05 19:17:43,642 ERROR     File \"/opt/cdstoolbox/cdscompute/cdscompute/services.py\", line 60, in __call__\n",
      "2023-05-05 19:17:43,643 ERROR       return self.proc(context, *args, **kwargs)\n",
      "2023-05-05 19:17:43,644 ERROR     File \"/home/cds/cdsservices/services/esgf_wps/__init__.py\", line 41, in execute\n",
      "2023-05-05 19:17:43,645 ERROR       result = requests.process(context, request_facets, request, **process_kwargs)\n",
      "2023-05-05 19:17:43,645 ERROR     File \"/home/cds/cdsservices/services/esgf_wps/requests.py\", line 31, in process\n",
      "2023-05-05 19:17:43,645 ERROR       raise ROOKI_EXCEPTION\n",
      "2023-05-05 19:17:43,646 ERROR     File \"/home/cds/cdsservices/services/esgf_wps/requests.py\", line 15, in <module>\n",
      "2023-05-05 19:17:43,646 ERROR       from rooki import rooki          # rooki must be imported before rookops\n",
      "2023-05-05 19:17:43,647 ERROR     File \"/usr/local/lib/python3.6/site-packages/rooki/__init__.py\", line 10, in <module>\n",
      "2023-05-05 19:17:43,648 ERROR       rooki = Rooki()\n",
      "2023-05-05 19:17:43,648 ERROR     File \"/usr/local/lib/python3.6/site-packages/rooki/client.py\", line 49, in __init__\n",
      "2023-05-05 19:17:43,649 ERROR       lineage=lineage,\n",
      "2023-05-05 19:17:43,649 ERROR     File \"/usr/local/lib/python3.6/site-packages/birdy/client/base.py\", line 142, in __init__\n",
      "2023-05-05 19:17:43,649 ERROR       self._processes = self._get_process_description(processes, xml=desc_xml)\n",
      "2023-05-05 19:17:43,650 ERROR     File \"/usr/local/lib/python3.6/site-packages/birdy/client/base.py\", line 188, in _get_process_description\n",
      "2023-05-05 19:17:43,650 ERROR       ps = self._wps.describeprocess(\"all\", xml=xml)\n",
      "2023-05-05 19:17:43,651 ERROR     File \"/usr/local/lib/python3.6/site-packages/owslib/wps.py\", line 303, in describeprocess\n",
      "2023-05-05 19:17:43,651 ERROR       self.url, identifier, headers=self.headers)\n",
      "2023-05-05 19:17:43,651 ERROR     File \"/usr/local/lib/python3.6/site-packages/owslib/wps.py\", line 582, in readFromUrl\n",
      "2023-05-05 19:17:43,652 ERROR       headers=headers, verify=verify, cert=cert)\n",
      "2023-05-05 19:17:43,653 ERROR     File \"/usr/local/lib/python3.6/site-packages/owslib/wps.py\", line 509, in _readFromUrl\n",
      "2023-05-05 19:17:43,654 ERROR       headers=headers, verify=self.auth.verify, cert=self.auth.cert, timeout=self.timeout)\n",
      "2023-05-05 19:17:43,655 ERROR     File \"/usr/local/lib/python3.6/site-packages/owslib/util.py\", line 209, in openURL\n",
      "2023-05-05 19:17:43,655 ERROR       req.raise_for_status()\n",
      "2023-05-05 19:17:43,656 ERROR     File \"/usr/local/lib/python3.6/site-packages/requests/models.py\", line 960, in raise_for_status\n",
      "2023-05-05 19:17:43,657 ERROR       raise HTTPError(http_error_msg, response=self)\n",
      "2023-05-05 19:17:43,658 ERROR   requests.exceptions.HTTPError: 500 Server Error: INTERNAL SERVER ERROR for url: http://compute.mips.copernicus-climate.eu/wps?service=WPS&request=DescribeProcess&version=1.0.0&identifier=all\n",
      "2023-05-05 19:17:43,695 INFO Welcome to the CDS\n",
      "2023-05-05 19:17:43,695 INFO Sending request to https://cds.climate.copernicus.eu/api/v2/resources/projections-cmip6\n",
      "2023-05-05 19:17:43,753 INFO Request is queued\n"
     ]
    },
    {
     "name": "stdout",
     "output_type": "stream",
     "text": [
      "Some parameters are not matching\n",
      "\n",
      "No value were found for the period and the project tested\n",
      "\n",
      "Test with model gfdl_esm4\n",
      "path_for_file does not exist: the data may not have been downloaded\n",
      "file_download does not exist: the data were not downloaded\n"
     ]
    },
    {
     "name": "stderr",
     "output_type": "stream",
     "text": [
      "2023-05-05 19:17:44,806 INFO Request is failed\n",
      "2023-05-05 19:17:44,808 ERROR Message: an internal error occurred processing your request\n",
      "2023-05-05 19:17:44,809 ERROR Reason:  No matching data for request {'experiment': 'ssp434', 'model': 'GFDL-ESM4', 'temporal_resolution': 'mon', 'variable': 'rsds'}\n",
      "2023-05-05 19:17:44,811 ERROR   Traceback (most recent call last):\n",
      "2023-05-05 19:17:44,813 ERROR     File \"/opt/cdstoolbox/cdscompute/cdscompute/cdshandlers/services/handler.py\", line 59, in handle_request\n",
      "2023-05-05 19:17:44,814 ERROR       result = cached(context.method, proc, context, context.args, context.kwargs)\n",
      "2023-05-05 19:17:44,814 ERROR     File \"/opt/cdstoolbox/cdscompute/cdscompute/caching.py\", line 108, in cached\n",
      "2023-05-05 19:17:44,815 ERROR       result = proc(context, *context.args, **context.kwargs)\n",
      "2023-05-05 19:17:44,816 ERROR     File \"/opt/cdstoolbox/cdscompute/cdscompute/services.py\", line 124, in __call__\n",
      "2023-05-05 19:17:44,816 ERROR       return p(*args, **kwargs)\n",
      "2023-05-05 19:17:44,817 ERROR     File \"/opt/cdstoolbox/cdscompute/cdscompute/services.py\", line 60, in __call__\n",
      "2023-05-05 19:17:44,819 ERROR       return self.proc(context, *args, **kwargs)\n",
      "2023-05-05 19:17:44,819 ERROR     File \"/home/cds/cdsservices/services/esgf_wps/__init__.py\", line 30, in execute\n",
      "2023-05-05 19:17:44,820 ERROR       request_facets, request = facets.search(context, request)\n",
      "2023-05-05 19:17:44,820 ERROR     File \"/home/cds/cdsservices/services/esgf_wps/facets.py\", line 61, in search\n",
      "2023-05-05 19:17:44,821 ERROR       raise ValueError(f'No matching data for request {tmp_request}')\n",
      "2023-05-05 19:17:44,821 ERROR   ValueError: No matching data for request {'experiment': 'ssp434', 'model': 'GFDL-ESM4', 'temporal_resolution': 'mon', 'variable': 'rsds'}\n",
      "2023-05-05 19:17:44,859 INFO Welcome to the CDS\n",
      "2023-05-05 19:17:44,861 INFO Sending request to https://cds.climate.copernicus.eu/api/v2/resources/projections-cmip6\n",
      "2023-05-05 19:17:44,910 INFO Request is queued\n"
     ]
    },
    {
     "name": "stdout",
     "output_type": "stream",
     "text": [
      "Some parameters are not matching\n",
      "\n",
      "No value were found for the period and the project tested\n",
      "\n",
      "Test with model giss_e2_1_h\n",
      "path_for_file does not exist: the data may not have been downloaded\n",
      "file_download does not exist: the data were not downloaded\n"
     ]
    },
    {
     "name": "stderr",
     "output_type": "stream",
     "text": [
      "2023-05-05 19:17:45,959 INFO Request is failed\n",
      "2023-05-05 19:17:45,960 ERROR Message: an internal error occurred processing your request\n",
      "2023-05-05 19:17:45,962 ERROR Reason:  No matching data for request {'experiment': 'ssp434', 'model': 'GISS-E2-1-H', 'temporal_resolution': 'mon', 'variable': 'rsds'}\n",
      "2023-05-05 19:17:45,962 ERROR   Traceback (most recent call last):\n",
      "2023-05-05 19:17:45,963 ERROR     File \"/opt/cdstoolbox/cdscompute/cdscompute/cdshandlers/services/handler.py\", line 59, in handle_request\n",
      "2023-05-05 19:17:45,964 ERROR       result = cached(context.method, proc, context, context.args, context.kwargs)\n",
      "2023-05-05 19:17:45,964 ERROR     File \"/opt/cdstoolbox/cdscompute/cdscompute/caching.py\", line 108, in cached\n",
      "2023-05-05 19:17:45,965 ERROR       result = proc(context, *context.args, **context.kwargs)\n",
      "2023-05-05 19:17:45,965 ERROR     File \"/opt/cdstoolbox/cdscompute/cdscompute/services.py\", line 124, in __call__\n",
      "2023-05-05 19:17:45,965 ERROR       return p(*args, **kwargs)\n",
      "2023-05-05 19:17:45,966 ERROR     File \"/opt/cdstoolbox/cdscompute/cdscompute/services.py\", line 60, in __call__\n",
      "2023-05-05 19:17:45,966 ERROR       return self.proc(context, *args, **kwargs)\n",
      "2023-05-05 19:17:45,967 ERROR     File \"/home/cds/cdsservices/services/esgf_wps/__init__.py\", line 30, in execute\n",
      "2023-05-05 19:17:45,967 ERROR       request_facets, request = facets.search(context, request)\n",
      "2023-05-05 19:17:45,968 ERROR     File \"/home/cds/cdsservices/services/esgf_wps/facets.py\", line 61, in search\n",
      "2023-05-05 19:17:45,968 ERROR       raise ValueError(f'No matching data for request {tmp_request}')\n",
      "2023-05-05 19:17:45,969 ERROR   ValueError: No matching data for request {'experiment': 'ssp434', 'model': 'GISS-E2-1-H', 'temporal_resolution': 'mon', 'variable': 'rsds'}\n",
      "2023-05-05 19:17:46,007 INFO Welcome to the CDS\n",
      "2023-05-05 19:17:46,007 INFO Sending request to https://cds.climate.copernicus.eu/api/v2/resources/projections-cmip6\n"
     ]
    },
    {
     "name": "stdout",
     "output_type": "stream",
     "text": [
      "Some parameters are not matching\n",
      "\n",
      "No value were found for the period and the project tested\n",
      "\n",
      "Test with model hadgem3_gc31_mm\n",
      "path_for_file does not exist: the data may not have been downloaded\n",
      "file_download does not exist: the data were not downloaded\n"
     ]
    },
    {
     "name": "stderr",
     "output_type": "stream",
     "text": [
      "2023-05-05 19:17:46,169 INFO Request is queued\n",
      "2023-05-05 19:17:47,217 INFO Request is failed\n",
      "2023-05-05 19:17:47,219 ERROR Message: an internal error occurred processing your request\n",
      "2023-05-05 19:17:47,220 ERROR Reason:  No matching data for request {'experiment': 'ssp434', 'model': 'HadGEM3-GC31-MM', 'temporal_resolution': 'mon', 'variable': 'rsds'}\n",
      "2023-05-05 19:17:47,222 ERROR   Traceback (most recent call last):\n",
      "2023-05-05 19:17:47,223 ERROR     File \"/opt/cdstoolbox/cdscompute/cdscompute/cdshandlers/services/handler.py\", line 59, in handle_request\n",
      "2023-05-05 19:17:47,224 ERROR       result = cached(context.method, proc, context, context.args, context.kwargs)\n",
      "2023-05-05 19:17:47,225 ERROR     File \"/opt/cdstoolbox/cdscompute/cdscompute/caching.py\", line 108, in cached\n",
      "2023-05-05 19:17:47,226 ERROR       result = proc(context, *context.args, **context.kwargs)\n",
      "2023-05-05 19:17:47,226 ERROR     File \"/opt/cdstoolbox/cdscompute/cdscompute/services.py\", line 124, in __call__\n",
      "2023-05-05 19:17:47,227 ERROR       return p(*args, **kwargs)\n",
      "2023-05-05 19:17:47,227 ERROR     File \"/opt/cdstoolbox/cdscompute/cdscompute/services.py\", line 60, in __call__\n",
      "2023-05-05 19:17:47,229 ERROR       return self.proc(context, *args, **kwargs)\n",
      "2023-05-05 19:17:47,230 ERROR     File \"/home/cds/cdsservices/services/esgf_wps/__init__.py\", line 30, in execute\n",
      "2023-05-05 19:17:47,230 ERROR       request_facets, request = facets.search(context, request)\n",
      "2023-05-05 19:17:47,231 ERROR     File \"/home/cds/cdsservices/services/esgf_wps/facets.py\", line 61, in search\n",
      "2023-05-05 19:17:47,232 ERROR       raise ValueError(f'No matching data for request {tmp_request}')\n",
      "2023-05-05 19:17:47,232 ERROR   ValueError: No matching data for request {'experiment': 'ssp434', 'model': 'HadGEM3-GC31-MM', 'temporal_resolution': 'mon', 'variable': 'rsds'}\n",
      "2023-05-05 19:17:47,275 INFO Welcome to the CDS\n",
      "2023-05-05 19:17:47,276 INFO Sending request to https://cds.climate.copernicus.eu/api/v2/resources/projections-cmip6\n",
      "2023-05-05 19:17:47,356 INFO Request is queued\n"
     ]
    },
    {
     "name": "stdout",
     "output_type": "stream",
     "text": [
      "Some parameters are not matching\n",
      "\n",
      "No value were found for the period and the project tested\n",
      "\n",
      "Test with model inm_cm4_8\n",
      "path_for_file does not exist: the data may not have been downloaded\n",
      "file_download does not exist: the data were not downloaded\n"
     ]
    },
    {
     "name": "stderr",
     "output_type": "stream",
     "text": [
      "2023-05-05 19:17:48,403 INFO Request is failed\n",
      "2023-05-05 19:17:48,404 ERROR Message: an internal error occurred processing your request\n",
      "2023-05-05 19:17:48,406 ERROR Reason:  No matching data for request {'experiment': 'ssp434', 'model': 'INM-CM4-8', 'temporal_resolution': 'mon', 'variable': 'rsds'}\n",
      "2023-05-05 19:17:48,407 ERROR   Traceback (most recent call last):\n",
      "2023-05-05 19:17:48,407 ERROR     File \"/opt/cdstoolbox/cdscompute/cdscompute/cdshandlers/services/handler.py\", line 59, in handle_request\n",
      "2023-05-05 19:17:48,408 ERROR       result = cached(context.method, proc, context, context.args, context.kwargs)\n",
      "2023-05-05 19:17:48,408 ERROR     File \"/opt/cdstoolbox/cdscompute/cdscompute/caching.py\", line 108, in cached\n",
      "2023-05-05 19:17:48,409 ERROR       result = proc(context, *context.args, **context.kwargs)\n",
      "2023-05-05 19:17:48,410 ERROR     File \"/opt/cdstoolbox/cdscompute/cdscompute/services.py\", line 124, in __call__\n",
      "2023-05-05 19:17:48,410 ERROR       return p(*args, **kwargs)\n",
      "2023-05-05 19:17:48,411 ERROR     File \"/opt/cdstoolbox/cdscompute/cdscompute/services.py\", line 60, in __call__\n",
      "2023-05-05 19:17:48,412 ERROR       return self.proc(context, *args, **kwargs)\n",
      "2023-05-05 19:17:48,412 ERROR     File \"/home/cds/cdsservices/services/esgf_wps/__init__.py\", line 30, in execute\n",
      "2023-05-05 19:17:48,413 ERROR       request_facets, request = facets.search(context, request)\n",
      "2023-05-05 19:17:48,413 ERROR     File \"/home/cds/cdsservices/services/esgf_wps/facets.py\", line 61, in search\n",
      "2023-05-05 19:17:48,416 ERROR       raise ValueError(f'No matching data for request {tmp_request}')\n",
      "2023-05-05 19:17:48,416 ERROR   ValueError: No matching data for request {'experiment': 'ssp434', 'model': 'INM-CM4-8', 'temporal_resolution': 'mon', 'variable': 'rsds'}\n",
      "2023-05-05 19:17:48,458 INFO Welcome to the CDS\n",
      "2023-05-05 19:17:48,459 INFO Sending request to https://cds.climate.copernicus.eu/api/v2/resources/projections-cmip6\n",
      "2023-05-05 19:17:48,552 INFO Request is queued\n"
     ]
    },
    {
     "name": "stdout",
     "output_type": "stream",
     "text": [
      "Some parameters are not matching\n",
      "\n",
      "No value were found for the period and the project tested\n",
      "\n",
      "Test with model ipsl_cm5a2_inca\n",
      "path_for_file does not exist: the data may not have been downloaded\n",
      "file_download does not exist: the data were not downloaded\n"
     ]
    },
    {
     "name": "stderr",
     "output_type": "stream",
     "text": [
      "2023-05-05 19:17:49,596 INFO Request is failed\n",
      "2023-05-05 19:17:49,597 ERROR Message: an internal error occurred processing your request\n",
      "2023-05-05 19:17:49,598 ERROR Reason:  No matching data for request {'experiment': 'ssp434', 'model': 'IPSL-CM5A2-INCA', 'temporal_resolution': 'mon', 'variable': 'rsds'}\n",
      "2023-05-05 19:17:49,599 ERROR   Traceback (most recent call last):\n",
      "2023-05-05 19:17:49,599 ERROR     File \"/opt/cdstoolbox/cdscompute/cdscompute/cdshandlers/services/handler.py\", line 59, in handle_request\n",
      "2023-05-05 19:17:49,600 ERROR       result = cached(context.method, proc, context, context.args, context.kwargs)\n",
      "2023-05-05 19:17:49,600 ERROR     File \"/opt/cdstoolbox/cdscompute/cdscompute/caching.py\", line 108, in cached\n",
      "2023-05-05 19:17:49,601 ERROR       result = proc(context, *context.args, **context.kwargs)\n",
      "2023-05-05 19:17:49,601 ERROR     File \"/opt/cdstoolbox/cdscompute/cdscompute/services.py\", line 124, in __call__\n",
      "2023-05-05 19:17:49,602 ERROR       return p(*args, **kwargs)\n",
      "2023-05-05 19:17:49,602 ERROR     File \"/opt/cdstoolbox/cdscompute/cdscompute/services.py\", line 60, in __call__\n",
      "2023-05-05 19:17:49,603 ERROR       return self.proc(context, *args, **kwargs)\n",
      "2023-05-05 19:17:49,603 ERROR     File \"/home/cds/cdsservices/services/esgf_wps/__init__.py\", line 30, in execute\n",
      "2023-05-05 19:17:49,604 ERROR       request_facets, request = facets.search(context, request)\n",
      "2023-05-05 19:17:49,604 ERROR     File \"/home/cds/cdsservices/services/esgf_wps/facets.py\", line 61, in search\n",
      "2023-05-05 19:17:49,606 ERROR       raise ValueError(f'No matching data for request {tmp_request}')\n",
      "2023-05-05 19:17:49,606 ERROR   ValueError: No matching data for request {'experiment': 'ssp434', 'model': 'IPSL-CM5A2-INCA', 'temporal_resolution': 'mon', 'variable': 'rsds'}\n",
      "2023-05-05 19:17:49,655 INFO Welcome to the CDS\n",
      "2023-05-05 19:17:49,655 INFO Sending request to https://cds.climate.copernicus.eu/api/v2/resources/projections-cmip6\n",
      "2023-05-05 19:17:49,753 INFO Request is queued\n"
     ]
    },
    {
     "name": "stdout",
     "output_type": "stream",
     "text": [
      "Some parameters are not matching\n",
      "\n",
      "No value were found for the period and the project tested\n",
      "\n",
      "Test with model kace_1_0_g\n",
      "path_for_file does not exist: the data may not have been downloaded\n",
      "file_download does not exist: the data were not downloaded\n"
     ]
    },
    {
     "name": "stderr",
     "output_type": "stream",
     "text": [
      "2023-05-05 19:17:50,805 INFO Request is failed\n",
      "2023-05-05 19:17:50,805 ERROR Message: an internal error occurred processing your request\n",
      "2023-05-05 19:17:50,806 ERROR Reason:  No matching data for request {'experiment': 'ssp434', 'model': 'KACE-1-0-G', 'temporal_resolution': 'mon', 'variable': 'rsds'}\n",
      "2023-05-05 19:17:50,806 ERROR   Traceback (most recent call last):\n",
      "2023-05-05 19:17:50,807 ERROR     File \"/opt/cdstoolbox/cdscompute/cdscompute/cdshandlers/services/handler.py\", line 59, in handle_request\n",
      "2023-05-05 19:17:50,808 ERROR       result = cached(context.method, proc, context, context.args, context.kwargs)\n",
      "2023-05-05 19:17:50,809 ERROR     File \"/opt/cdstoolbox/cdscompute/cdscompute/caching.py\", line 108, in cached\n",
      "2023-05-05 19:17:50,810 ERROR       result = proc(context, *context.args, **context.kwargs)\n",
      "2023-05-05 19:17:50,811 ERROR     File \"/opt/cdstoolbox/cdscompute/cdscompute/services.py\", line 124, in __call__\n",
      "2023-05-05 19:17:50,812 ERROR       return p(*args, **kwargs)\n",
      "2023-05-05 19:17:50,812 ERROR     File \"/opt/cdstoolbox/cdscompute/cdscompute/services.py\", line 60, in __call__\n",
      "2023-05-05 19:17:50,813 ERROR       return self.proc(context, *args, **kwargs)\n",
      "2023-05-05 19:17:50,814 ERROR     File \"/home/cds/cdsservices/services/esgf_wps/__init__.py\", line 30, in execute\n",
      "2023-05-05 19:17:50,815 ERROR       request_facets, request = facets.search(context, request)\n",
      "2023-05-05 19:17:50,816 ERROR     File \"/home/cds/cdsservices/services/esgf_wps/facets.py\", line 61, in search\n",
      "2023-05-05 19:17:50,817 ERROR       raise ValueError(f'No matching data for request {tmp_request}')\n",
      "2023-05-05 19:17:50,817 ERROR   ValueError: No matching data for request {'experiment': 'ssp434', 'model': 'KACE-1-0-G', 'temporal_resolution': 'mon', 'variable': 'rsds'}\n",
      "2023-05-05 19:17:50,856 INFO Welcome to the CDS\n",
      "2023-05-05 19:17:50,857 INFO Sending request to https://cds.climate.copernicus.eu/api/v2/resources/projections-cmip6\n",
      "2023-05-05 19:17:50,953 INFO Request is queued\n"
     ]
    },
    {
     "name": "stdout",
     "output_type": "stream",
     "text": [
      "Some parameters are not matching\n",
      "\n",
      "No value were found for the period and the project tested\n",
      "\n",
      "Test with model mcm_ua_1_0\n",
      "path_for_file does not exist: the data may not have been downloaded\n",
      "file_download does not exist: the data were not downloaded\n"
     ]
    },
    {
     "name": "stderr",
     "output_type": "stream",
     "text": [
      "2023-05-05 19:17:52,004 INFO Request is failed\n",
      "2023-05-05 19:17:52,005 ERROR Message: an internal error occurred processing your request\n",
      "2023-05-05 19:17:52,006 ERROR Reason:  No matching data for request {'experiment': 'ssp434', 'model': 'MCM-UA-1-0', 'temporal_resolution': 'mon', 'variable': 'rsds'}\n",
      "2023-05-05 19:17:52,007 ERROR   Traceback (most recent call last):\n",
      "2023-05-05 19:17:52,007 ERROR     File \"/opt/cdstoolbox/cdscompute/cdscompute/cdshandlers/services/handler.py\", line 59, in handle_request\n",
      "2023-05-05 19:17:52,008 ERROR       result = cached(context.method, proc, context, context.args, context.kwargs)\n",
      "2023-05-05 19:17:52,008 ERROR     File \"/opt/cdstoolbox/cdscompute/cdscompute/caching.py\", line 108, in cached\n",
      "2023-05-05 19:17:52,009 ERROR       result = proc(context, *context.args, **context.kwargs)\n",
      "2023-05-05 19:17:52,011 ERROR     File \"/opt/cdstoolbox/cdscompute/cdscompute/services.py\", line 124, in __call__\n",
      "2023-05-05 19:17:52,011 ERROR       return p(*args, **kwargs)\n",
      "2023-05-05 19:17:52,012 ERROR     File \"/opt/cdstoolbox/cdscompute/cdscompute/services.py\", line 60, in __call__\n",
      "2023-05-05 19:17:52,012 ERROR       return self.proc(context, *args, **kwargs)\n",
      "2023-05-05 19:17:52,013 ERROR     File \"/home/cds/cdsservices/services/esgf_wps/__init__.py\", line 30, in execute\n",
      "2023-05-05 19:17:52,014 ERROR       request_facets, request = facets.search(context, request)\n",
      "2023-05-05 19:17:52,014 ERROR     File \"/home/cds/cdsservices/services/esgf_wps/facets.py\", line 61, in search\n",
      "2023-05-05 19:17:52,015 ERROR       raise ValueError(f'No matching data for request {tmp_request}')\n",
      "2023-05-05 19:17:52,015 ERROR   ValueError: No matching data for request {'experiment': 'ssp434', 'model': 'MCM-UA-1-0', 'temporal_resolution': 'mon', 'variable': 'rsds'}\n",
      "2023-05-05 19:17:52,056 INFO Welcome to the CDS\n",
      "2023-05-05 19:17:52,057 INFO Sending request to https://cds.climate.copernicus.eu/api/v2/resources/projections-cmip6\n",
      "2023-05-05 19:17:52,123 INFO Request is queued\n"
     ]
    },
    {
     "name": "stdout",
     "output_type": "stream",
     "text": [
      "Some parameters are not matching\n",
      "\n",
      "No value were found for the period and the project tested\n",
      "\n",
      "Test with model miroc_es2h\n",
      "path_for_file does not exist: the data may not have been downloaded\n",
      "file_download does not exist: the data were not downloaded\n"
     ]
    },
    {
     "name": "stderr",
     "output_type": "stream",
     "text": [
      "2023-05-05 19:17:53,167 INFO Request is failed\n",
      "2023-05-05 19:17:53,168 ERROR Message: an internal error occurred processing your request\n",
      "2023-05-05 19:17:53,168 ERROR Reason:  No matching data for request {'experiment': 'ssp434', 'model': 'MIROC-ES2H', 'temporal_resolution': 'mon', 'variable': 'rsds'}\n",
      "2023-05-05 19:17:53,169 ERROR   Traceback (most recent call last):\n",
      "2023-05-05 19:17:53,170 ERROR     File \"/opt/cdstoolbox/cdscompute/cdscompute/cdshandlers/services/handler.py\", line 59, in handle_request\n",
      "2023-05-05 19:17:53,171 ERROR       result = cached(context.method, proc, context, context.args, context.kwargs)\n",
      "2023-05-05 19:17:53,172 ERROR     File \"/opt/cdstoolbox/cdscompute/cdscompute/caching.py\", line 108, in cached\n",
      "2023-05-05 19:17:53,173 ERROR       result = proc(context, *context.args, **context.kwargs)\n",
      "2023-05-05 19:17:53,174 ERROR     File \"/opt/cdstoolbox/cdscompute/cdscompute/services.py\", line 124, in __call__\n",
      "2023-05-05 19:17:53,175 ERROR       return p(*args, **kwargs)\n",
      "2023-05-05 19:17:53,175 ERROR     File \"/opt/cdstoolbox/cdscompute/cdscompute/services.py\", line 60, in __call__\n",
      "2023-05-05 19:17:53,176 ERROR       return self.proc(context, *args, **kwargs)\n",
      "2023-05-05 19:17:53,177 ERROR     File \"/home/cds/cdsservices/services/esgf_wps/__init__.py\", line 30, in execute\n",
      "2023-05-05 19:17:53,177 ERROR       request_facets, request = facets.search(context, request)\n",
      "2023-05-05 19:17:53,178 ERROR     File \"/home/cds/cdsservices/services/esgf_wps/facets.py\", line 61, in search\n",
      "2023-05-05 19:17:53,178 ERROR       raise ValueError(f'No matching data for request {tmp_request}')\n",
      "2023-05-05 19:17:53,179 ERROR   ValueError: No matching data for request {'experiment': 'ssp434', 'model': 'MIROC-ES2H', 'temporal_resolution': 'mon', 'variable': 'rsds'}\n",
      "2023-05-05 19:17:53,222 INFO Welcome to the CDS\n",
      "2023-05-05 19:17:53,223 INFO Sending request to https://cds.climate.copernicus.eu/api/v2/resources/projections-cmip6\n",
      "2023-05-05 19:17:53,306 INFO Request is queued\n"
     ]
    },
    {
     "name": "stdout",
     "output_type": "stream",
     "text": [
      "Some parameters are not matching\n",
      "\n",
      "No value were found for the period and the project tested\n",
      "\n",
      "Test with model mpi_esm_1_2_ham\n",
      "path_for_file does not exist: the data may not have been downloaded\n",
      "file_download does not exist: the data were not downloaded\n"
     ]
    },
    {
     "name": "stderr",
     "output_type": "stream",
     "text": [
      "2023-05-05 19:17:54,355 INFO Request is failed\n",
      "2023-05-05 19:17:54,356 ERROR Message: an internal error occurred processing your request\n",
      "2023-05-05 19:17:54,356 ERROR Reason:  No matching data for request {'experiment': 'ssp434', 'model': 'MPI-ESM-1-2-HAM', 'temporal_resolution': 'mon', 'variable': 'rsds'}\n",
      "2023-05-05 19:17:54,358 ERROR   Traceback (most recent call last):\n",
      "2023-05-05 19:17:54,358 ERROR     File \"/opt/cdstoolbox/cdscompute/cdscompute/cdshandlers/services/handler.py\", line 59, in handle_request\n",
      "2023-05-05 19:17:54,359 ERROR       result = cached(context.method, proc, context, context.args, context.kwargs)\n",
      "2023-05-05 19:17:54,360 ERROR     File \"/opt/cdstoolbox/cdscompute/cdscompute/caching.py\", line 108, in cached\n",
      "2023-05-05 19:17:54,360 ERROR       result = proc(context, *context.args, **context.kwargs)\n",
      "2023-05-05 19:17:54,361 ERROR     File \"/opt/cdstoolbox/cdscompute/cdscompute/services.py\", line 124, in __call__\n",
      "2023-05-05 19:17:54,361 ERROR       return p(*args, **kwargs)\n",
      "2023-05-05 19:17:54,363 ERROR     File \"/opt/cdstoolbox/cdscompute/cdscompute/services.py\", line 60, in __call__\n",
      "2023-05-05 19:17:54,364 ERROR       return self.proc(context, *args, **kwargs)\n",
      "2023-05-05 19:17:54,364 ERROR     File \"/home/cds/cdsservices/services/esgf_wps/__init__.py\", line 30, in execute\n",
      "2023-05-05 19:17:54,365 ERROR       request_facets, request = facets.search(context, request)\n",
      "2023-05-05 19:17:54,366 ERROR     File \"/home/cds/cdsservices/services/esgf_wps/facets.py\", line 61, in search\n",
      "2023-05-05 19:17:54,366 ERROR       raise ValueError(f'No matching data for request {tmp_request}')\n",
      "2023-05-05 19:17:54,367 ERROR   ValueError: No matching data for request {'experiment': 'ssp434', 'model': 'MPI-ESM-1-2-HAM', 'temporal_resolution': 'mon', 'variable': 'rsds'}\n",
      "2023-05-05 19:17:54,406 INFO Welcome to the CDS\n",
      "2023-05-05 19:17:54,408 INFO Sending request to https://cds.climate.copernicus.eu/api/v2/resources/projections-cmip6\n",
      "2023-05-05 19:17:54,455 INFO Request is queued\n"
     ]
    },
    {
     "name": "stdout",
     "output_type": "stream",
     "text": [
      "Some parameters are not matching\n",
      "\n",
      "No value were found for the period and the project tested\n",
      "\n",
      "Test with model mpi_esm1_2_lr\n",
      "path_for_file does not exist: the data may not have been downloaded\n",
      "file_download does not exist: the data were not downloaded\n"
     ]
    },
    {
     "name": "stderr",
     "output_type": "stream",
     "text": [
      "2023-05-05 19:17:55,503 INFO Request is failed\n",
      "2023-05-05 19:17:55,505 ERROR Message: an internal error occurred processing your request\n",
      "2023-05-05 19:17:55,507 ERROR Reason:  No matching data for request {'experiment': 'ssp434', 'model': 'MPI-ESM1-2-LR', 'temporal_resolution': 'mon', 'variable': 'rsds'}\n",
      "2023-05-05 19:17:55,508 ERROR   Traceback (most recent call last):\n",
      "2023-05-05 19:17:55,509 ERROR     File \"/opt/cdstoolbox/cdscompute/cdscompute/cdshandlers/services/handler.py\", line 59, in handle_request\n",
      "2023-05-05 19:17:55,510 ERROR       result = cached(context.method, proc, context, context.args, context.kwargs)\n",
      "2023-05-05 19:17:55,510 ERROR     File \"/opt/cdstoolbox/cdscompute/cdscompute/caching.py\", line 108, in cached\n",
      "2023-05-05 19:17:55,511 ERROR       result = proc(context, *context.args, **context.kwargs)\n",
      "2023-05-05 19:17:55,511 ERROR     File \"/opt/cdstoolbox/cdscompute/cdscompute/services.py\", line 124, in __call__\n",
      "2023-05-05 19:17:55,512 ERROR       return p(*args, **kwargs)\n",
      "2023-05-05 19:17:55,513 ERROR     File \"/opt/cdstoolbox/cdscompute/cdscompute/services.py\", line 60, in __call__\n",
      "2023-05-05 19:17:55,513 ERROR       return self.proc(context, *args, **kwargs)\n",
      "2023-05-05 19:17:55,513 ERROR     File \"/home/cds/cdsservices/services/esgf_wps/__init__.py\", line 30, in execute\n",
      "2023-05-05 19:17:55,514 ERROR       request_facets, request = facets.search(context, request)\n",
      "2023-05-05 19:17:55,514 ERROR     File \"/home/cds/cdsservices/services/esgf_wps/facets.py\", line 61, in search\n",
      "2023-05-05 19:17:55,515 ERROR       raise ValueError(f'No matching data for request {tmp_request}')\n",
      "2023-05-05 19:17:55,515 ERROR   ValueError: No matching data for request {'experiment': 'ssp434', 'model': 'MPI-ESM1-2-LR', 'temporal_resolution': 'mon', 'variable': 'rsds'}\n",
      "2023-05-05 19:17:55,556 INFO Welcome to the CDS\n",
      "2023-05-05 19:17:55,557 INFO Sending request to https://cds.climate.copernicus.eu/api/v2/resources/projections-cmip6\n",
      "2023-05-05 19:17:55,677 INFO Request is queued\n"
     ]
    },
    {
     "name": "stdout",
     "output_type": "stream",
     "text": [
      "Some parameters are not matching\n",
      "\n",
      "No value were found for the period and the project tested\n",
      "\n",
      "Test with model nesm3\n",
      "path_for_file does not exist: the data may not have been downloaded\n",
      "file_download does not exist: the data were not downloaded\n"
     ]
    },
    {
     "name": "stderr",
     "output_type": "stream",
     "text": [
      "2023-05-05 19:17:56,727 INFO Request is failed\n",
      "2023-05-05 19:17:56,728 ERROR Message: an internal error occurred processing your request\n",
      "2023-05-05 19:17:56,729 ERROR Reason:  No matching data for request {'experiment': 'ssp434', 'model': 'NESM3', 'temporal_resolution': 'mon', 'variable': 'rsds'}\n",
      "2023-05-05 19:17:56,730 ERROR   Traceback (most recent call last):\n",
      "2023-05-05 19:17:56,730 ERROR     File \"/opt/cdstoolbox/cdscompute/cdscompute/cdshandlers/services/handler.py\", line 59, in handle_request\n",
      "2023-05-05 19:17:56,731 ERROR       result = cached(context.method, proc, context, context.args, context.kwargs)\n",
      "2023-05-05 19:17:56,732 ERROR     File \"/opt/cdstoolbox/cdscompute/cdscompute/caching.py\", line 108, in cached\n",
      "2023-05-05 19:17:56,732 ERROR       result = proc(context, *context.args, **context.kwargs)\n",
      "2023-05-05 19:17:56,733 ERROR     File \"/opt/cdstoolbox/cdscompute/cdscompute/services.py\", line 124, in __call__\n",
      "2023-05-05 19:17:56,733 ERROR       return p(*args, **kwargs)\n",
      "2023-05-05 19:17:56,734 ERROR     File \"/opt/cdstoolbox/cdscompute/cdscompute/services.py\", line 60, in __call__\n",
      "2023-05-05 19:17:56,734 ERROR       return self.proc(context, *args, **kwargs)\n",
      "2023-05-05 19:17:56,735 ERROR     File \"/home/cds/cdsservices/services/esgf_wps/__init__.py\", line 30, in execute\n",
      "2023-05-05 19:17:56,735 ERROR       request_facets, request = facets.search(context, request)\n",
      "2023-05-05 19:17:56,736 ERROR     File \"/home/cds/cdsservices/services/esgf_wps/facets.py\", line 61, in search\n",
      "2023-05-05 19:17:56,736 ERROR       raise ValueError(f'No matching data for request {tmp_request}')\n",
      "2023-05-05 19:17:56,737 ERROR   ValueError: No matching data for request {'experiment': 'ssp434', 'model': 'NESM3', 'temporal_resolution': 'mon', 'variable': 'rsds'}\n",
      "2023-05-05 19:17:56,774 INFO Welcome to the CDS\n",
      "2023-05-05 19:17:56,775 INFO Sending request to https://cds.climate.copernicus.eu/api/v2/resources/projections-cmip6\n",
      "2023-05-05 19:17:56,858 INFO Request is queued\n"
     ]
    },
    {
     "name": "stdout",
     "output_type": "stream",
     "text": [
      "Some parameters are not matching\n",
      "\n",
      "No value were found for the period and the project tested\n",
      "\n",
      "Test with model noresm2_lm\n",
      "path_for_file does not exist: the data may not have been downloaded\n",
      "file_download does not exist: the data were not downloaded\n"
     ]
    },
    {
     "name": "stderr",
     "output_type": "stream",
     "text": [
      "2023-05-05 19:17:57,910 INFO Request is failed\n",
      "2023-05-05 19:17:57,912 ERROR Message: an internal error occurred processing your request\n",
      "2023-05-05 19:17:57,913 ERROR Reason:  No matching data for request {'experiment': 'ssp434', 'model': 'NorESM2-LM', 'temporal_resolution': 'mon', 'variable': 'rsds'}\n",
      "2023-05-05 19:17:57,914 ERROR   Traceback (most recent call last):\n",
      "2023-05-05 19:17:57,915 ERROR     File \"/opt/cdstoolbox/cdscompute/cdscompute/cdshandlers/services/handler.py\", line 59, in handle_request\n",
      "2023-05-05 19:17:57,917 ERROR       result = cached(context.method, proc, context, context.args, context.kwargs)\n",
      "2023-05-05 19:17:57,917 ERROR     File \"/opt/cdstoolbox/cdscompute/cdscompute/caching.py\", line 108, in cached\n",
      "2023-05-05 19:17:57,917 ERROR       result = proc(context, *context.args, **context.kwargs)\n",
      "2023-05-05 19:17:57,918 ERROR     File \"/opt/cdstoolbox/cdscompute/cdscompute/services.py\", line 124, in __call__\n",
      "2023-05-05 19:17:57,918 ERROR       return p(*args, **kwargs)\n",
      "2023-05-05 19:17:57,919 ERROR     File \"/opt/cdstoolbox/cdscompute/cdscompute/services.py\", line 60, in __call__\n",
      "2023-05-05 19:17:57,919 ERROR       return self.proc(context, *args, **kwargs)\n",
      "2023-05-05 19:17:57,921 ERROR     File \"/home/cds/cdsservices/services/esgf_wps/__init__.py\", line 30, in execute\n",
      "2023-05-05 19:17:57,921 ERROR       request_facets, request = facets.search(context, request)\n",
      "2023-05-05 19:17:57,922 ERROR     File \"/home/cds/cdsservices/services/esgf_wps/facets.py\", line 61, in search\n",
      "2023-05-05 19:17:57,922 ERROR       raise ValueError(f'No matching data for request {tmp_request}')\n",
      "2023-05-05 19:17:57,922 ERROR   ValueError: No matching data for request {'experiment': 'ssp434', 'model': 'NorESM2-LM', 'temporal_resolution': 'mon', 'variable': 'rsds'}\n",
      "2023-05-05 19:17:57,963 INFO Welcome to the CDS\n",
      "2023-05-05 19:17:57,964 INFO Sending request to https://cds.climate.copernicus.eu/api/v2/resources/projections-cmip6\n",
      "2023-05-05 19:17:58,012 INFO Request is queued\n"
     ]
    },
    {
     "name": "stdout",
     "output_type": "stream",
     "text": [
      "Some parameters are not matching\n",
      "\n",
      "No value were found for the period and the project tested\n",
      "\n",
      "Test with model sam0_unicon\n",
      "path_for_file does not exist: the data may not have been downloaded\n",
      "file_download does not exist: the data were not downloaded\n"
     ]
    },
    {
     "name": "stderr",
     "output_type": "stream",
     "text": [
      "2023-05-05 19:17:59,064 INFO Request is failed\n",
      "2023-05-05 19:17:59,065 ERROR Message: an internal error occurred processing your request\n",
      "2023-05-05 19:17:59,065 ERROR Reason:  No matching data for request {'experiment': 'ssp434', 'model': 'SAM0-UNICON', 'temporal_resolution': 'mon', 'variable': 'rsds'}\n",
      "2023-05-05 19:17:59,065 ERROR   Traceback (most recent call last):\n",
      "2023-05-05 19:17:59,066 ERROR     File \"/opt/cdstoolbox/cdscompute/cdscompute/cdshandlers/services/handler.py\", line 59, in handle_request\n",
      "2023-05-05 19:17:59,068 ERROR       result = cached(context.method, proc, context, context.args, context.kwargs)\n",
      "2023-05-05 19:17:59,068 ERROR     File \"/opt/cdstoolbox/cdscompute/cdscompute/caching.py\", line 108, in cached\n",
      "2023-05-05 19:17:59,068 ERROR       result = proc(context, *context.args, **context.kwargs)\n",
      "2023-05-05 19:17:59,069 ERROR     File \"/opt/cdstoolbox/cdscompute/cdscompute/services.py\", line 124, in __call__\n",
      "2023-05-05 19:17:59,069 ERROR       return p(*args, **kwargs)\n",
      "2023-05-05 19:17:59,070 ERROR     File \"/opt/cdstoolbox/cdscompute/cdscompute/services.py\", line 60, in __call__\n",
      "2023-05-05 19:17:59,071 ERROR       return self.proc(context, *args, **kwargs)\n",
      "2023-05-05 19:17:59,071 ERROR     File \"/home/cds/cdsservices/services/esgf_wps/__init__.py\", line 30, in execute\n",
      "2023-05-05 19:17:59,072 ERROR       request_facets, request = facets.search(context, request)\n",
      "2023-05-05 19:17:59,072 ERROR     File \"/home/cds/cdsservices/services/esgf_wps/facets.py\", line 61, in search\n",
      "2023-05-05 19:17:59,073 ERROR       raise ValueError(f'No matching data for request {tmp_request}')\n",
      "2023-05-05 19:17:59,073 ERROR   ValueError: No matching data for request {'experiment': 'ssp434', 'model': 'SAM0-UNICON', 'temporal_resolution': 'mon', 'variable': 'rsds'}\n",
      "2023-05-05 19:17:59,112 INFO Welcome to the CDS\n",
      "2023-05-05 19:17:59,113 INFO Sending request to https://cds.climate.copernicus.eu/api/v2/resources/projections-cmip6\n",
      "2023-05-05 19:17:59,196 INFO Request is queued\n"
     ]
    },
    {
     "name": "stdout",
     "output_type": "stream",
     "text": [
      "Some parameters are not matching\n",
      "\n",
      "No value were found for the period and the project tested\n",
      "\n",
      "Test with model ukesm1_0_ll\n",
      "path_for_file does not exist: the data may not have been downloaded\n",
      "file_download does not exist: the data were not downloaded\n"
     ]
    },
    {
     "name": "stderr",
     "output_type": "stream",
     "text": [
      "2023-05-05 19:18:00,245 INFO Request is failed\n",
      "2023-05-05 19:18:00,246 ERROR Message: an internal error occurred processing your request\n",
      "2023-05-05 19:18:00,246 ERROR Reason:  execution failed\n",
      "2023-05-05 19:18:00,247 ERROR   Traceback (most recent call last):\n",
      "2023-05-05 19:18:00,247 ERROR     File \"/usr/local/lib/python3.6/site-packages/birdy/client/base.py\", line 373, in _execute\n",
      "2023-05-05 19:18:00,248 ERROR       lineage=self._lineage,\n",
      "2023-05-05 19:18:00,249 ERROR     File \"/usr/local/lib/python3.6/site-packages/owslib/wps.py\", line 359, in execute\n",
      "2023-05-05 19:18:00,249 ERROR       response = execution.submitRequest(request)\n",
      "2023-05-05 19:18:00,249 ERROR     File \"/usr/local/lib/python3.6/site-packages/owslib/wps.py\", line 912, in submitRequest\n",
      "2023-05-05 19:18:00,250 ERROR       self.url, request, method='Post', headers=self.headers)\n",
      "2023-05-05 19:18:00,252 ERROR     File \"/usr/local/lib/python3.6/site-packages/owslib/wps.py\", line 603, in readFromUrl\n",
      "2023-05-05 19:18:00,252 ERROR       headers=headers, verify=verify, cert=cert)\n",
      "2023-05-05 19:18:00,253 ERROR     File \"/usr/local/lib/python3.6/site-packages/owslib/wps.py\", line 515, in _readFromUrl\n",
      "2023-05-05 19:18:00,253 ERROR       headers=headers, verify=self.auth.verify, cert=self.auth.cert, timeout=timeout)\n",
      "2023-05-05 19:18:00,254 ERROR     File \"/usr/local/lib/python3.6/site-packages/owslib/util.py\", line 209, in openURL\n",
      "2023-05-05 19:18:00,254 ERROR       req.raise_for_status()\n",
      "2023-05-05 19:18:00,255 ERROR     File \"/usr/local/lib/python3.6/site-packages/requests/models.py\", line 960, in raise_for_status\n",
      "2023-05-05 19:18:00,255 ERROR       raise HTTPError(http_error_msg, response=self)\n",
      "2023-05-05 19:18:00,256 ERROR   requests.exceptions.HTTPError: 500 Server Error: INTERNAL SERVER ERROR for url: http://compute.mips.copernicus-climate.eu/wps\n",
      "2023-05-05 19:18:00,294 INFO Welcome to the CDS\n",
      "2023-05-05 19:18:00,295 INFO Sending request to https://cds.climate.copernicus.eu/api/v2/resources/projections-cmip6\n",
      "2023-05-05 19:18:00,340 INFO Request is queued\n"
     ]
    },
    {
     "name": "stdout",
     "output_type": "stream",
     "text": [
      "Some parameters are not matching\n",
      "\n",
      "No value were found for the period and the project tested\n",
      "\n",
      "Test with scenario ssp5_3_4os\n",
      "Test with model access_cm2\n",
      "path_for_file does not exist: the data may not have been downloaded\n",
      "file_download does not exist: the data were not downloaded\n"
     ]
    },
    {
     "name": "stderr",
     "output_type": "stream",
     "text": [
      "2023-05-05 19:18:01,395 INFO Request is failed\n",
      "2023-05-05 19:18:01,396 ERROR Message: an internal error occurred processing your request\n",
      "2023-05-05 19:18:01,396 ERROR Reason:  No matching data for request {'experiment': 'ssp534-over', 'model': 'ACCESS-CM2', 'temporal_resolution': 'mon', 'variable': 'rsds'}\n",
      "2023-05-05 19:18:01,397 ERROR   Traceback (most recent call last):\n",
      "2023-05-05 19:18:01,398 ERROR     File \"/opt/cdstoolbox/cdscompute/cdscompute/cdshandlers/services/handler.py\", line 59, in handle_request\n",
      "2023-05-05 19:18:01,399 ERROR       result = cached(context.method, proc, context, context.args, context.kwargs)\n",
      "2023-05-05 19:18:01,399 ERROR     File \"/opt/cdstoolbox/cdscompute/cdscompute/caching.py\", line 108, in cached\n",
      "2023-05-05 19:18:01,400 ERROR       result = proc(context, *context.args, **context.kwargs)\n",
      "2023-05-05 19:18:01,401 ERROR     File \"/opt/cdstoolbox/cdscompute/cdscompute/services.py\", line 124, in __call__\n",
      "2023-05-05 19:18:01,401 ERROR       return p(*args, **kwargs)\n",
      "2023-05-05 19:18:01,402 ERROR     File \"/opt/cdstoolbox/cdscompute/cdscompute/services.py\", line 60, in __call__\n",
      "2023-05-05 19:18:01,402 ERROR       return self.proc(context, *args, **kwargs)\n",
      "2023-05-05 19:18:01,403 ERROR     File \"/home/cds/cdsservices/services/esgf_wps/__init__.py\", line 30, in execute\n",
      "2023-05-05 19:18:01,404 ERROR       request_facets, request = facets.search(context, request)\n",
      "2023-05-05 19:18:01,405 ERROR     File \"/home/cds/cdsservices/services/esgf_wps/facets.py\", line 61, in search\n",
      "2023-05-05 19:18:01,406 ERROR       raise ValueError(f'No matching data for request {tmp_request}')\n",
      "2023-05-05 19:18:01,406 ERROR   ValueError: No matching data for request {'experiment': 'ssp534-over', 'model': 'ACCESS-CM2', 'temporal_resolution': 'mon', 'variable': 'rsds'}\n",
      "2023-05-05 19:18:01,448 INFO Welcome to the CDS\n",
      "2023-05-05 19:18:01,449 INFO Sending request to https://cds.climate.copernicus.eu/api/v2/resources/projections-cmip6\n",
      "2023-05-05 19:18:01,544 INFO Request is queued\n"
     ]
    },
    {
     "name": "stdout",
     "output_type": "stream",
     "text": [
      "Some parameters are not matching\n",
      "\n",
      "No value were found for the period and the project tested\n",
      "\n",
      "Test with model awi_cm_1_1_mr\n",
      "path_for_file does not exist: the data may not have been downloaded\n",
      "file_download does not exist: the data were not downloaded\n"
     ]
    },
    {
     "name": "stderr",
     "output_type": "stream",
     "text": [
      "2023-05-05 19:18:02,602 INFO Request is failed\n",
      "2023-05-05 19:18:02,603 ERROR Message: an internal error occurred processing your request\n",
      "2023-05-05 19:18:02,604 ERROR Reason:  No matching data for request {'experiment': 'ssp534-over', 'model': 'AWI-CM-1-1-MR', 'temporal_resolution': 'mon', 'variable': 'rsds'}\n",
      "2023-05-05 19:18:02,605 ERROR   Traceback (most recent call last):\n",
      "2023-05-05 19:18:02,606 ERROR     File \"/opt/cdstoolbox/cdscompute/cdscompute/cdshandlers/services/handler.py\", line 59, in handle_request\n",
      "2023-05-05 19:18:02,607 ERROR       result = cached(context.method, proc, context, context.args, context.kwargs)\n",
      "2023-05-05 19:18:02,608 ERROR     File \"/opt/cdstoolbox/cdscompute/cdscompute/caching.py\", line 108, in cached\n",
      "2023-05-05 19:18:02,609 ERROR       result = proc(context, *context.args, **context.kwargs)\n",
      "2023-05-05 19:18:02,609 ERROR     File \"/opt/cdstoolbox/cdscompute/cdscompute/services.py\", line 124, in __call__\n",
      "2023-05-05 19:18:02,610 ERROR       return p(*args, **kwargs)\n",
      "2023-05-05 19:18:02,610 ERROR     File \"/opt/cdstoolbox/cdscompute/cdscompute/services.py\", line 60, in __call__\n",
      "2023-05-05 19:18:02,611 ERROR       return self.proc(context, *args, **kwargs)\n",
      "2023-05-05 19:18:02,611 ERROR     File \"/home/cds/cdsservices/services/esgf_wps/__init__.py\", line 30, in execute\n",
      "2023-05-05 19:18:02,612 ERROR       request_facets, request = facets.search(context, request)\n",
      "2023-05-05 19:18:02,613 ERROR     File \"/home/cds/cdsservices/services/esgf_wps/facets.py\", line 61, in search\n",
      "2023-05-05 19:18:02,613 ERROR       raise ValueError(f'No matching data for request {tmp_request}')\n",
      "2023-05-05 19:18:02,614 ERROR   ValueError: No matching data for request {'experiment': 'ssp534-over', 'model': 'AWI-CM-1-1-MR', 'temporal_resolution': 'mon', 'variable': 'rsds'}\n",
      "2023-05-05 19:18:02,654 INFO Welcome to the CDS\n",
      "2023-05-05 19:18:02,656 INFO Sending request to https://cds.climate.copernicus.eu/api/v2/resources/projections-cmip6\n",
      "2023-05-05 19:18:02,734 INFO Request is queued\n"
     ]
    },
    {
     "name": "stdout",
     "output_type": "stream",
     "text": [
      "Some parameters are not matching\n",
      "\n",
      "No value were found for the period and the project tested\n",
      "\n",
      "Test with model bcc_csm2_mr\n",
      "path_for_file does not exist: the data may not have been downloaded\n",
      "file_download does not exist: the data were not downloaded\n"
     ]
    },
    {
     "name": "stderr",
     "output_type": "stream",
     "text": [
      "2023-05-05 19:18:03,790 INFO Request is failed\n",
      "2023-05-05 19:18:03,792 ERROR Message: an internal error occurred processing your request\n",
      "2023-05-05 19:18:03,793 ERROR Reason:  No matching data for request {'experiment': 'ssp534-over', 'model': 'BCC-CSM2-MR', 'temporal_resolution': 'mon', 'variable': 'rsds'}\n",
      "2023-05-05 19:18:03,795 ERROR   Traceback (most recent call last):\n",
      "2023-05-05 19:18:03,795 ERROR     File \"/opt/cdstoolbox/cdscompute/cdscompute/cdshandlers/services/handler.py\", line 59, in handle_request\n",
      "2023-05-05 19:18:03,796 ERROR       result = cached(context.method, proc, context, context.args, context.kwargs)\n",
      "2023-05-05 19:18:03,797 ERROR     File \"/opt/cdstoolbox/cdscompute/cdscompute/caching.py\", line 108, in cached\n",
      "2023-05-05 19:18:03,797 ERROR       result = proc(context, *context.args, **context.kwargs)\n",
      "2023-05-05 19:18:03,798 ERROR     File \"/opt/cdstoolbox/cdscompute/cdscompute/services.py\", line 124, in __call__\n",
      "2023-05-05 19:18:03,799 ERROR       return p(*args, **kwargs)\n",
      "2023-05-05 19:18:03,799 ERROR     File \"/opt/cdstoolbox/cdscompute/cdscompute/services.py\", line 60, in __call__\n",
      "2023-05-05 19:18:03,800 ERROR       return self.proc(context, *args, **kwargs)\n",
      "2023-05-05 19:18:03,800 ERROR     File \"/home/cds/cdsservices/services/esgf_wps/__init__.py\", line 30, in execute\n",
      "2023-05-05 19:18:03,800 ERROR       request_facets, request = facets.search(context, request)\n",
      "2023-05-05 19:18:03,801 ERROR     File \"/home/cds/cdsservices/services/esgf_wps/facets.py\", line 61, in search\n",
      "2023-05-05 19:18:03,801 ERROR       raise ValueError(f'No matching data for request {tmp_request}')\n",
      "2023-05-05 19:18:03,802 ERROR   ValueError: No matching data for request {'experiment': 'ssp534-over', 'model': 'BCC-CSM2-MR', 'temporal_resolution': 'mon', 'variable': 'rsds'}\n",
      "2023-05-05 19:18:03,842 INFO Welcome to the CDS\n",
      "2023-05-05 19:18:03,843 INFO Sending request to https://cds.climate.copernicus.eu/api/v2/resources/projections-cmip6\n",
      "2023-05-05 19:18:03,905 INFO Request is queued\n"
     ]
    },
    {
     "name": "stdout",
     "output_type": "stream",
     "text": [
      "Some parameters are not matching\n",
      "\n",
      "No value were found for the period and the project tested\n",
      "\n",
      "Test with model cams_csm1_0\n",
      "path_for_file does not exist: the data may not have been downloaded\n",
      "file_download does not exist: the data were not downloaded\n"
     ]
    },
    {
     "name": "stderr",
     "output_type": "stream",
     "text": [
      "2023-05-05 19:18:04,957 INFO Request is failed\n",
      "2023-05-05 19:18:04,958 ERROR Message: an internal error occurred processing your request\n",
      "2023-05-05 19:18:04,958 ERROR Reason:  No matching data for request {'experiment': 'ssp534-over', 'model': 'CAMS-CSM1-0', 'temporal_resolution': 'mon', 'variable': 'rsds'}\n",
      "2023-05-05 19:18:04,959 ERROR   Traceback (most recent call last):\n",
      "2023-05-05 19:18:04,960 ERROR     File \"/opt/cdstoolbox/cdscompute/cdscompute/cdshandlers/services/handler.py\", line 59, in handle_request\n",
      "2023-05-05 19:18:04,960 ERROR       result = cached(context.method, proc, context, context.args, context.kwargs)\n",
      "2023-05-05 19:18:04,961 ERROR     File \"/opt/cdstoolbox/cdscompute/cdscompute/caching.py\", line 108, in cached\n",
      "2023-05-05 19:18:04,961 ERROR       result = proc(context, *context.args, **context.kwargs)\n",
      "2023-05-05 19:18:04,962 ERROR     File \"/opt/cdstoolbox/cdscompute/cdscompute/services.py\", line 124, in __call__\n",
      "2023-05-05 19:18:04,962 ERROR       return p(*args, **kwargs)\n",
      "2023-05-05 19:18:04,963 ERROR     File \"/opt/cdstoolbox/cdscompute/cdscompute/services.py\", line 60, in __call__\n",
      "2023-05-05 19:18:04,964 ERROR       return self.proc(context, *args, **kwargs)\n",
      "2023-05-05 19:18:04,965 ERROR     File \"/home/cds/cdsservices/services/esgf_wps/__init__.py\", line 30, in execute\n",
      "2023-05-05 19:18:04,965 ERROR       request_facets, request = facets.search(context, request)\n",
      "2023-05-05 19:18:04,966 ERROR     File \"/home/cds/cdsservices/services/esgf_wps/facets.py\", line 61, in search\n",
      "2023-05-05 19:18:04,966 ERROR       raise ValueError(f'No matching data for request {tmp_request}')\n",
      "2023-05-05 19:18:04,966 ERROR   ValueError: No matching data for request {'experiment': 'ssp534-over', 'model': 'CAMS-CSM1-0', 'temporal_resolution': 'mon', 'variable': 'rsds'}\n",
      "2023-05-05 19:18:05,004 INFO Welcome to the CDS\n",
      "2023-05-05 19:18:05,005 INFO Sending request to https://cds.climate.copernicus.eu/api/v2/resources/projections-cmip6\n",
      "2023-05-05 19:18:05,063 INFO Request is queued\n"
     ]
    },
    {
     "name": "stdout",
     "output_type": "stream",
     "text": [
      "Some parameters are not matching\n",
      "\n",
      "No value were found for the period and the project tested\n",
      "\n",
      "Test with model canesm5_canoe\n",
      "path_for_file does not exist: the data may not have been downloaded\n",
      "file_download does not exist: the data were not downloaded\n"
     ]
    },
    {
     "name": "stderr",
     "output_type": "stream",
     "text": [
      "2023-05-05 19:18:06,110 INFO Request is failed\n",
      "2023-05-05 19:18:06,111 ERROR Message: an internal error occurred processing your request\n",
      "2023-05-05 19:18:06,113 ERROR Reason:  No matching data for request {'experiment': 'ssp534-over', 'model': 'CanESM5-CanOE', 'temporal_resolution': 'mon', 'variable': 'rsds'}\n",
      "2023-05-05 19:18:06,115 ERROR   Traceback (most recent call last):\n",
      "2023-05-05 19:18:06,116 ERROR     File \"/opt/cdstoolbox/cdscompute/cdscompute/cdshandlers/services/handler.py\", line 59, in handle_request\n",
      "2023-05-05 19:18:06,117 ERROR       result = cached(context.method, proc, context, context.args, context.kwargs)\n",
      "2023-05-05 19:18:06,118 ERROR     File \"/opt/cdstoolbox/cdscompute/cdscompute/caching.py\", line 108, in cached\n",
      "2023-05-05 19:18:06,119 ERROR       result = proc(context, *context.args, **context.kwargs)\n",
      "2023-05-05 19:18:06,119 ERROR     File \"/opt/cdstoolbox/cdscompute/cdscompute/services.py\", line 124, in __call__\n",
      "2023-05-05 19:18:06,120 ERROR       return p(*args, **kwargs)\n",
      "2023-05-05 19:18:06,121 ERROR     File \"/opt/cdstoolbox/cdscompute/cdscompute/services.py\", line 60, in __call__\n",
      "2023-05-05 19:18:06,121 ERROR       return self.proc(context, *args, **kwargs)\n",
      "2023-05-05 19:18:06,122 ERROR     File \"/home/cds/cdsservices/services/esgf_wps/__init__.py\", line 30, in execute\n",
      "2023-05-05 19:18:06,122 ERROR       request_facets, request = facets.search(context, request)\n",
      "2023-05-05 19:18:06,123 ERROR     File \"/home/cds/cdsservices/services/esgf_wps/facets.py\", line 61, in search\n",
      "2023-05-05 19:18:06,124 ERROR       raise ValueError(f'No matching data for request {tmp_request}')\n",
      "2023-05-05 19:18:06,125 ERROR   ValueError: No matching data for request {'experiment': 'ssp534-over', 'model': 'CanESM5-CanOE', 'temporal_resolution': 'mon', 'variable': 'rsds'}\n",
      "2023-05-05 19:18:06,163 INFO Welcome to the CDS\n",
      "2023-05-05 19:18:06,164 INFO Sending request to https://cds.climate.copernicus.eu/api/v2/resources/projections-cmip6\n",
      "2023-05-05 19:18:06,277 INFO Request is queued\n"
     ]
    },
    {
     "name": "stdout",
     "output_type": "stream",
     "text": [
      "Some parameters are not matching\n",
      "\n",
      "No value were found for the period and the project tested\n",
      "\n",
      "Test with model cesm2_fv2\n",
      "path_for_file does not exist: the data may not have been downloaded\n",
      "file_download does not exist: the data were not downloaded\n"
     ]
    },
    {
     "name": "stderr",
     "output_type": "stream",
     "text": [
      "2023-05-05 19:18:07,331 INFO Request is failed\n",
      "2023-05-05 19:18:07,332 ERROR Message: an internal error occurred processing your request\n",
      "2023-05-05 19:18:07,333 ERROR Reason:  No matching data for request {'experiment': 'ssp534-over', 'model': 'CESM2-FV2', 'temporal_resolution': 'mon', 'variable': 'rsds'}\n",
      "2023-05-05 19:18:07,334 ERROR   Traceback (most recent call last):\n",
      "2023-05-05 19:18:07,334 ERROR     File \"/opt/cdstoolbox/cdscompute/cdscompute/cdshandlers/services/handler.py\", line 59, in handle_request\n",
      "2023-05-05 19:18:07,335 ERROR       result = cached(context.method, proc, context, context.args, context.kwargs)\n",
      "2023-05-05 19:18:07,335 ERROR     File \"/opt/cdstoolbox/cdscompute/cdscompute/caching.py\", line 108, in cached\n",
      "2023-05-05 19:18:07,336 ERROR       result = proc(context, *context.args, **context.kwargs)\n",
      "2023-05-05 19:18:07,336 ERROR     File \"/opt/cdstoolbox/cdscompute/cdscompute/services.py\", line 124, in __call__\n",
      "2023-05-05 19:18:07,337 ERROR       return p(*args, **kwargs)\n",
      "2023-05-05 19:18:07,337 ERROR     File \"/opt/cdstoolbox/cdscompute/cdscompute/services.py\", line 60, in __call__\n",
      "2023-05-05 19:18:07,338 ERROR       return self.proc(context, *args, **kwargs)\n",
      "2023-05-05 19:18:07,338 ERROR     File \"/home/cds/cdsservices/services/esgf_wps/__init__.py\", line 30, in execute\n",
      "2023-05-05 19:18:07,341 ERROR       request_facets, request = facets.search(context, request)\n",
      "2023-05-05 19:18:07,342 ERROR     File \"/home/cds/cdsservices/services/esgf_wps/facets.py\", line 61, in search\n",
      "2023-05-05 19:18:07,343 ERROR       raise ValueError(f'No matching data for request {tmp_request}')\n",
      "2023-05-05 19:18:07,344 ERROR   ValueError: No matching data for request {'experiment': 'ssp534-over', 'model': 'CESM2-FV2', 'temporal_resolution': 'mon', 'variable': 'rsds'}\n",
      "2023-05-05 19:18:07,389 INFO Welcome to the CDS\n",
      "2023-05-05 19:18:07,389 INFO Sending request to https://cds.climate.copernicus.eu/api/v2/resources/projections-cmip6\n",
      "2023-05-05 19:18:07,490 INFO Request is queued\n"
     ]
    },
    {
     "name": "stdout",
     "output_type": "stream",
     "text": [
      "Some parameters are not matching\n",
      "\n",
      "No value were found for the period and the project tested\n",
      "\n",
      "Test with model cesm2_waccm_fv2\n",
      "path_for_file does not exist: the data may not have been downloaded\n",
      "file_download does not exist: the data were not downloaded\n"
     ]
    },
    {
     "name": "stderr",
     "output_type": "stream",
     "text": [
      "2023-05-05 19:18:08,536 INFO Request is failed\n",
      "2023-05-05 19:18:08,537 ERROR Message: an internal error occurred processing your request\n",
      "2023-05-05 19:18:08,539 ERROR Reason:  No matching data for request {'experiment': 'ssp534-over', 'model': 'CESM2-WACCM-FV2', 'temporal_resolution': 'mon', 'variable': 'rsds'}\n",
      "2023-05-05 19:18:08,540 ERROR   Traceback (most recent call last):\n",
      "2023-05-05 19:18:08,540 ERROR     File \"/opt/cdstoolbox/cdscompute/cdscompute/cdshandlers/services/handler.py\", line 59, in handle_request\n",
      "2023-05-05 19:18:08,541 ERROR       result = cached(context.method, proc, context, context.args, context.kwargs)\n",
      "2023-05-05 19:18:08,543 ERROR     File \"/opt/cdstoolbox/cdscompute/cdscompute/caching.py\", line 108, in cached\n",
      "2023-05-05 19:18:08,543 ERROR       result = proc(context, *context.args, **context.kwargs)\n",
      "2023-05-05 19:18:08,543 ERROR     File \"/opt/cdstoolbox/cdscompute/cdscompute/services.py\", line 124, in __call__\n",
      "2023-05-05 19:18:08,545 ERROR       return p(*args, **kwargs)\n",
      "2023-05-05 19:18:08,545 ERROR     File \"/opt/cdstoolbox/cdscompute/cdscompute/services.py\", line 60, in __call__\n",
      "2023-05-05 19:18:08,546 ERROR       return self.proc(context, *args, **kwargs)\n",
      "2023-05-05 19:18:08,546 ERROR     File \"/home/cds/cdsservices/services/esgf_wps/__init__.py\", line 30, in execute\n",
      "2023-05-05 19:18:08,547 ERROR       request_facets, request = facets.search(context, request)\n",
      "2023-05-05 19:18:08,547 ERROR     File \"/home/cds/cdsservices/services/esgf_wps/facets.py\", line 61, in search\n",
      "2023-05-05 19:18:08,548 ERROR       raise ValueError(f'No matching data for request {tmp_request}')\n",
      "2023-05-05 19:18:08,548 ERROR   ValueError: No matching data for request {'experiment': 'ssp534-over', 'model': 'CESM2-WACCM-FV2', 'temporal_resolution': 'mon', 'variable': 'rsds'}\n",
      "2023-05-05 19:18:08,586 INFO Welcome to the CDS\n",
      "2023-05-05 19:18:08,588 INFO Sending request to https://cds.climate.copernicus.eu/api/v2/resources/projections-cmip6\n",
      "2023-05-05 19:18:08,682 INFO Request is queued\n"
     ]
    },
    {
     "name": "stdout",
     "output_type": "stream",
     "text": [
      "Some parameters are not matching\n",
      "\n",
      "No value were found for the period and the project tested\n",
      "\n",
      "Test with model cmcc_cm2_hr4\n",
      "path_for_file does not exist: the data may not have been downloaded\n",
      "file_download does not exist: the data were not downloaded\n"
     ]
    },
    {
     "name": "stderr",
     "output_type": "stream",
     "text": [
      "2023-05-05 19:18:09,730 INFO Request is failed\n",
      "2023-05-05 19:18:09,731 ERROR Message: an internal error occurred processing your request\n",
      "2023-05-05 19:18:09,731 ERROR Reason:  No matching data for request {'experiment': 'ssp534-over', 'model': 'CMCC-CM2-HR4', 'temporal_resolution': 'mon', 'variable': 'rsds'}\n",
      "2023-05-05 19:18:09,732 ERROR   Traceback (most recent call last):\n",
      "2023-05-05 19:18:09,732 ERROR     File \"/opt/cdstoolbox/cdscompute/cdscompute/cdshandlers/services/handler.py\", line 59, in handle_request\n",
      "2023-05-05 19:18:09,734 ERROR       result = cached(context.method, proc, context, context.args, context.kwargs)\n",
      "2023-05-05 19:18:09,734 ERROR     File \"/opt/cdstoolbox/cdscompute/cdscompute/caching.py\", line 108, in cached\n",
      "2023-05-05 19:18:09,735 ERROR       result = proc(context, *context.args, **context.kwargs)\n",
      "2023-05-05 19:18:09,736 ERROR     File \"/opt/cdstoolbox/cdscompute/cdscompute/services.py\", line 124, in __call__\n",
      "2023-05-05 19:18:09,736 ERROR       return p(*args, **kwargs)\n",
      "2023-05-05 19:18:09,737 ERROR     File \"/opt/cdstoolbox/cdscompute/cdscompute/services.py\", line 60, in __call__\n",
      "2023-05-05 19:18:09,738 ERROR       return self.proc(context, *args, **kwargs)\n",
      "2023-05-05 19:18:09,739 ERROR     File \"/home/cds/cdsservices/services/esgf_wps/__init__.py\", line 30, in execute\n",
      "2023-05-05 19:18:09,739 ERROR       request_facets, request = facets.search(context, request)\n",
      "2023-05-05 19:18:09,740 ERROR     File \"/home/cds/cdsservices/services/esgf_wps/facets.py\", line 61, in search\n",
      "2023-05-05 19:18:09,740 ERROR       raise ValueError(f'No matching data for request {tmp_request}')\n",
      "2023-05-05 19:18:09,741 ERROR   ValueError: No matching data for request {'experiment': 'ssp534-over', 'model': 'CMCC-CM2-HR4', 'temporal_resolution': 'mon', 'variable': 'rsds'}\n",
      "2023-05-05 19:18:09,782 INFO Welcome to the CDS\n",
      "2023-05-05 19:18:09,783 INFO Sending request to https://cds.climate.copernicus.eu/api/v2/resources/projections-cmip6\n",
      "2023-05-05 19:18:09,841 INFO Request is queued\n"
     ]
    },
    {
     "name": "stdout",
     "output_type": "stream",
     "text": [
      "Some parameters are not matching\n",
      "\n",
      "No value were found for the period and the project tested\n",
      "\n",
      "Test with model cmcc_esm2\n",
      "path_for_file does not exist: the data may not have been downloaded\n",
      "file_download does not exist: the data were not downloaded\n"
     ]
    },
    {
     "name": "stderr",
     "output_type": "stream",
     "text": [
      "2023-05-05 19:18:10,893 INFO Request is failed\n",
      "2023-05-05 19:18:10,895 ERROR Message: an internal error occurred processing your request\n",
      "2023-05-05 19:18:10,896 ERROR Reason:  No matching data for request {'experiment': 'ssp534-over', 'model': 'CMCC-ESM2', 'temporal_resolution': 'mon', 'variable': 'rsds'}\n",
      "2023-05-05 19:18:10,896 ERROR   Traceback (most recent call last):\n",
      "2023-05-05 19:18:10,897 ERROR     File \"/opt/cdstoolbox/cdscompute/cdscompute/cdshandlers/services/handler.py\", line 59, in handle_request\n",
      "2023-05-05 19:18:10,898 ERROR       result = cached(context.method, proc, context, context.args, context.kwargs)\n",
      "2023-05-05 19:18:10,898 ERROR     File \"/opt/cdstoolbox/cdscompute/cdscompute/caching.py\", line 108, in cached\n",
      "2023-05-05 19:18:10,899 ERROR       result = proc(context, *context.args, **context.kwargs)\n",
      "2023-05-05 19:18:10,900 ERROR     File \"/opt/cdstoolbox/cdscompute/cdscompute/services.py\", line 124, in __call__\n",
      "2023-05-05 19:18:10,900 ERROR       return p(*args, **kwargs)\n",
      "2023-05-05 19:18:10,900 ERROR     File \"/opt/cdstoolbox/cdscompute/cdscompute/services.py\", line 60, in __call__\n",
      "2023-05-05 19:18:10,901 ERROR       return self.proc(context, *args, **kwargs)\n",
      "2023-05-05 19:18:10,902 ERROR     File \"/home/cds/cdsservices/services/esgf_wps/__init__.py\", line 30, in execute\n",
      "2023-05-05 19:18:10,902 ERROR       request_facets, request = facets.search(context, request)\n",
      "2023-05-05 19:18:10,903 ERROR     File \"/home/cds/cdsservices/services/esgf_wps/facets.py\", line 61, in search\n",
      "2023-05-05 19:18:10,903 ERROR       raise ValueError(f'No matching data for request {tmp_request}')\n",
      "2023-05-05 19:18:10,903 ERROR   ValueError: No matching data for request {'experiment': 'ssp534-over', 'model': 'CMCC-ESM2', 'temporal_resolution': 'mon', 'variable': 'rsds'}\n",
      "2023-05-05 19:18:10,942 INFO Welcome to the CDS\n",
      "2023-05-05 19:18:10,943 INFO Sending request to https://cds.climate.copernicus.eu/api/v2/resources/projections-cmip6\n",
      "2023-05-05 19:18:11,056 INFO Request is queued\n"
     ]
    },
    {
     "name": "stdout",
     "output_type": "stream",
     "text": [
      "Some parameters are not matching\n",
      "\n",
      "No value were found for the period and the project tested\n",
      "\n",
      "Test with model cnrm_cm6_1_hr\n",
      "path_for_file does not exist: the data may not have been downloaded\n",
      "file_download does not exist: the data were not downloaded\n"
     ]
    },
    {
     "name": "stderr",
     "output_type": "stream",
     "text": [
      "2023-05-05 19:18:12,105 INFO Request is failed\n",
      "2023-05-05 19:18:12,106 ERROR Message: an internal error occurred processing your request\n",
      "2023-05-05 19:18:12,107 ERROR Reason:  No matching data for request {'experiment': 'ssp534-over', 'model': 'CNRM-CM6-1-HR', 'temporal_resolution': 'mon', 'variable': 'rsds'}\n",
      "2023-05-05 19:18:12,108 ERROR   Traceback (most recent call last):\n",
      "2023-05-05 19:18:12,109 ERROR     File \"/opt/cdstoolbox/cdscompute/cdscompute/cdshandlers/services/handler.py\", line 59, in handle_request\n",
      "2023-05-05 19:18:12,110 ERROR       result = cached(context.method, proc, context, context.args, context.kwargs)\n",
      "2023-05-05 19:18:12,112 ERROR     File \"/opt/cdstoolbox/cdscompute/cdscompute/caching.py\", line 108, in cached\n",
      "2023-05-05 19:18:12,113 ERROR       result = proc(context, *context.args, **context.kwargs)\n",
      "2023-05-05 19:18:12,113 ERROR     File \"/opt/cdstoolbox/cdscompute/cdscompute/services.py\", line 124, in __call__\n",
      "2023-05-05 19:18:12,113 ERROR       return p(*args, **kwargs)\n",
      "2023-05-05 19:18:12,114 ERROR     File \"/opt/cdstoolbox/cdscompute/cdscompute/services.py\", line 60, in __call__\n",
      "2023-05-05 19:18:12,114 ERROR       return self.proc(context, *args, **kwargs)\n",
      "2023-05-05 19:18:12,115 ERROR     File \"/home/cds/cdsservices/services/esgf_wps/__init__.py\", line 30, in execute\n",
      "2023-05-05 19:18:12,115 ERROR       request_facets, request = facets.search(context, request)\n",
      "2023-05-05 19:18:12,116 ERROR     File \"/home/cds/cdsservices/services/esgf_wps/facets.py\", line 61, in search\n",
      "2023-05-05 19:18:12,116 ERROR       raise ValueError(f'No matching data for request {tmp_request}')\n",
      "2023-05-05 19:18:12,117 ERROR   ValueError: No matching data for request {'experiment': 'ssp534-over', 'model': 'CNRM-CM6-1-HR', 'temporal_resolution': 'mon', 'variable': 'rsds'}\n",
      "2023-05-05 19:18:12,156 INFO Welcome to the CDS\n",
      "2023-05-05 19:18:12,157 INFO Sending request to https://cds.climate.copernicus.eu/api/v2/resources/projections-cmip6\n",
      "2023-05-05 19:18:12,231 INFO Request is queued\n"
     ]
    },
    {
     "name": "stdout",
     "output_type": "stream",
     "text": [
      "Some parameters are not matching\n",
      "\n",
      "No value were found for the period and the project tested\n",
      "\n",
      "Test with model e3sm_1_0\n",
      "path_for_file does not exist: the data may not have been downloaded\n",
      "file_download does not exist: the data were not downloaded\n"
     ]
    },
    {
     "name": "stderr",
     "output_type": "stream",
     "text": [
      "2023-05-05 19:18:13,273 INFO Request is failed\n",
      "2023-05-05 19:18:13,274 ERROR Message: an internal error occurred processing your request\n",
      "2023-05-05 19:18:13,277 ERROR Reason:  No matching data for request {'experiment': 'ssp534-over', 'model': 'E3SM-1-0', 'temporal_resolution': 'mon', 'variable': 'rsds'}\n",
      "2023-05-05 19:18:13,279 ERROR   Traceback (most recent call last):\n",
      "2023-05-05 19:18:13,280 ERROR     File \"/opt/cdstoolbox/cdscompute/cdscompute/cdshandlers/services/handler.py\", line 59, in handle_request\n",
      "2023-05-05 19:18:13,281 ERROR       result = cached(context.method, proc, context, context.args, context.kwargs)\n",
      "2023-05-05 19:18:13,281 ERROR     File \"/opt/cdstoolbox/cdscompute/cdscompute/caching.py\", line 108, in cached\n",
      "2023-05-05 19:18:13,282 ERROR       result = proc(context, *context.args, **context.kwargs)\n",
      "2023-05-05 19:18:13,283 ERROR     File \"/opt/cdstoolbox/cdscompute/cdscompute/services.py\", line 124, in __call__\n",
      "2023-05-05 19:18:13,283 ERROR       return p(*args, **kwargs)\n",
      "2023-05-05 19:18:13,284 ERROR     File \"/opt/cdstoolbox/cdscompute/cdscompute/services.py\", line 60, in __call__\n",
      "2023-05-05 19:18:13,284 ERROR       return self.proc(context, *args, **kwargs)\n",
      "2023-05-05 19:18:13,284 ERROR     File \"/home/cds/cdsservices/services/esgf_wps/__init__.py\", line 30, in execute\n",
      "2023-05-05 19:18:13,285 ERROR       request_facets, request = facets.search(context, request)\n",
      "2023-05-05 19:18:13,285 ERROR     File \"/home/cds/cdsservices/services/esgf_wps/facets.py\", line 61, in search\n",
      "2023-05-05 19:18:13,286 ERROR       raise ValueError(f'No matching data for request {tmp_request}')\n",
      "2023-05-05 19:18:13,286 ERROR   ValueError: No matching data for request {'experiment': 'ssp534-over', 'model': 'E3SM-1-0', 'temporal_resolution': 'mon', 'variable': 'rsds'}\n",
      "2023-05-05 19:18:13,323 INFO Welcome to the CDS\n",
      "2023-05-05 19:18:13,324 INFO Sending request to https://cds.climate.copernicus.eu/api/v2/resources/projections-cmip6\n",
      "2023-05-05 19:18:13,394 INFO Request is queued\n"
     ]
    },
    {
     "name": "stdout",
     "output_type": "stream",
     "text": [
      "Some parameters are not matching\n",
      "\n",
      "No value were found for the period and the project tested\n",
      "\n",
      "Test with model e3sm_1_1_eca\n",
      "path_for_file does not exist: the data may not have been downloaded\n",
      "file_download does not exist: the data were not downloaded\n"
     ]
    },
    {
     "name": "stderr",
     "output_type": "stream",
     "text": [
      "2023-05-05 19:18:14,438 INFO Request is failed\n",
      "2023-05-05 19:18:14,440 ERROR Message: an internal error occurred processing your request\n",
      "2023-05-05 19:18:14,441 ERROR Reason:  No matching data for request {'experiment': 'ssp534-over', 'model': 'E3SM-1-1-ECA', 'temporal_resolution': 'mon', 'variable': 'rsds'}\n",
      "2023-05-05 19:18:14,444 ERROR   Traceback (most recent call last):\n",
      "2023-05-05 19:18:14,445 ERROR     File \"/opt/cdstoolbox/cdscompute/cdscompute/cdshandlers/services/handler.py\", line 59, in handle_request\n",
      "2023-05-05 19:18:14,446 ERROR       result = cached(context.method, proc, context, context.args, context.kwargs)\n",
      "2023-05-05 19:18:14,447 ERROR     File \"/opt/cdstoolbox/cdscompute/cdscompute/caching.py\", line 108, in cached\n",
      "2023-05-05 19:18:14,447 ERROR       result = proc(context, *context.args, **context.kwargs)\n",
      "2023-05-05 19:18:14,449 ERROR     File \"/opt/cdstoolbox/cdscompute/cdscompute/services.py\", line 124, in __call__\n",
      "2023-05-05 19:18:14,449 ERROR       return p(*args, **kwargs)\n",
      "2023-05-05 19:18:14,450 ERROR     File \"/opt/cdstoolbox/cdscompute/cdscompute/services.py\", line 60, in __call__\n",
      "2023-05-05 19:18:14,450 ERROR       return self.proc(context, *args, **kwargs)\n",
      "2023-05-05 19:18:14,451 ERROR     File \"/home/cds/cdsservices/services/esgf_wps/__init__.py\", line 30, in execute\n",
      "2023-05-05 19:18:14,451 ERROR       request_facets, request = facets.search(context, request)\n",
      "2023-05-05 19:18:14,452 ERROR     File \"/home/cds/cdsservices/services/esgf_wps/facets.py\", line 61, in search\n",
      "2023-05-05 19:18:14,452 ERROR       raise ValueError(f'No matching data for request {tmp_request}')\n",
      "2023-05-05 19:18:14,453 ERROR   ValueError: No matching data for request {'experiment': 'ssp534-over', 'model': 'E3SM-1-1-ECA', 'temporal_resolution': 'mon', 'variable': 'rsds'}\n",
      "2023-05-05 19:18:14,494 INFO Welcome to the CDS\n",
      "2023-05-05 19:18:14,495 INFO Sending request to https://cds.climate.copernicus.eu/api/v2/resources/projections-cmip6\n",
      "2023-05-05 19:18:14,599 INFO Request is queued\n"
     ]
    },
    {
     "name": "stdout",
     "output_type": "stream",
     "text": [
      "Some parameters are not matching\n",
      "\n",
      "No value were found for the period and the project tested\n",
      "\n",
      "Test with model ec_earth3_aerchem\n",
      "path_for_file does not exist: the data may not have been downloaded\n",
      "file_download does not exist: the data were not downloaded\n"
     ]
    },
    {
     "name": "stderr",
     "output_type": "stream",
     "text": [
      "2023-05-05 19:18:15,649 INFO Request is failed\n",
      "2023-05-05 19:18:15,650 ERROR Message: an internal error occurred processing your request\n",
      "2023-05-05 19:18:15,652 ERROR Reason:  No matching data for request {'experiment': 'ssp534-over', 'model': 'EC-Earth3-AerChem', 'temporal_resolution': 'mon', 'variable': 'rsds'}\n",
      "2023-05-05 19:18:15,654 ERROR   Traceback (most recent call last):\n",
      "2023-05-05 19:18:15,654 ERROR     File \"/opt/cdstoolbox/cdscompute/cdscompute/cdshandlers/services/handler.py\", line 59, in handle_request\n",
      "2023-05-05 19:18:15,655 ERROR       result = cached(context.method, proc, context, context.args, context.kwargs)\n",
      "2023-05-05 19:18:15,656 ERROR     File \"/opt/cdstoolbox/cdscompute/cdscompute/caching.py\", line 108, in cached\n",
      "2023-05-05 19:18:15,656 ERROR       result = proc(context, *context.args, **context.kwargs)\n",
      "2023-05-05 19:18:15,657 ERROR     File \"/opt/cdstoolbox/cdscompute/cdscompute/services.py\", line 124, in __call__\n",
      "2023-05-05 19:18:15,658 ERROR       return p(*args, **kwargs)\n",
      "2023-05-05 19:18:15,658 ERROR     File \"/opt/cdstoolbox/cdscompute/cdscompute/services.py\", line 60, in __call__\n",
      "2023-05-05 19:18:15,659 ERROR       return self.proc(context, *args, **kwargs)\n",
      "2023-05-05 19:18:15,659 ERROR     File \"/home/cds/cdsservices/services/esgf_wps/__init__.py\", line 30, in execute\n",
      "2023-05-05 19:18:15,659 ERROR       request_facets, request = facets.search(context, request)\n",
      "2023-05-05 19:18:15,660 ERROR     File \"/home/cds/cdsservices/services/esgf_wps/facets.py\", line 61, in search\n",
      "2023-05-05 19:18:15,661 ERROR       raise ValueError(f'No matching data for request {tmp_request}')\n",
      "2023-05-05 19:18:15,662 ERROR   ValueError: No matching data for request {'experiment': 'ssp534-over', 'model': 'EC-Earth3-AerChem', 'temporal_resolution': 'mon', 'variable': 'rsds'}\n",
      "2023-05-05 19:18:15,700 INFO Welcome to the CDS\n",
      "2023-05-05 19:18:15,701 INFO Sending request to https://cds.climate.copernicus.eu/api/v2/resources/projections-cmip6\n",
      "2023-05-05 19:18:15,766 INFO Request is queued\n"
     ]
    },
    {
     "name": "stdout",
     "output_type": "stream",
     "text": [
      "Some parameters are not matching\n",
      "\n",
      "No value were found for the period and the project tested\n",
      "\n",
      "Test with model ec_earth3_veg\n",
      "path_for_file does not exist: the data may not have been downloaded\n",
      "file_download does not exist: the data were not downloaded\n"
     ]
    },
    {
     "name": "stderr",
     "output_type": "stream",
     "text": [
      "2023-05-05 19:18:16,813 INFO Request is failed\n",
      "2023-05-05 19:18:16,815 ERROR Message: an internal error occurred processing your request\n",
      "2023-05-05 19:18:16,816 ERROR Reason:  No matching data for request {'experiment': 'ssp534-over', 'model': 'EC-Earth3-Veg', 'temporal_resolution': 'mon', 'variable': 'rsds'}\n",
      "2023-05-05 19:18:16,818 ERROR   Traceback (most recent call last):\n",
      "2023-05-05 19:18:16,819 ERROR     File \"/opt/cdstoolbox/cdscompute/cdscompute/cdshandlers/services/handler.py\", line 59, in handle_request\n",
      "2023-05-05 19:18:16,821 ERROR       result = cached(context.method, proc, context, context.args, context.kwargs)\n",
      "2023-05-05 19:18:16,821 ERROR     File \"/opt/cdstoolbox/cdscompute/cdscompute/caching.py\", line 108, in cached\n",
      "2023-05-05 19:18:16,822 ERROR       result = proc(context, *context.args, **context.kwargs)\n",
      "2023-05-05 19:18:16,822 ERROR     File \"/opt/cdstoolbox/cdscompute/cdscompute/services.py\", line 124, in __call__\n",
      "2023-05-05 19:18:16,824 ERROR       return p(*args, **kwargs)\n",
      "2023-05-05 19:18:16,825 ERROR     File \"/opt/cdstoolbox/cdscompute/cdscompute/services.py\", line 60, in __call__\n",
      "2023-05-05 19:18:16,825 ERROR       return self.proc(context, *args, **kwargs)\n",
      "2023-05-05 19:18:16,826 ERROR     File \"/home/cds/cdsservices/services/esgf_wps/__init__.py\", line 30, in execute\n",
      "2023-05-05 19:18:16,827 ERROR       request_facets, request = facets.search(context, request)\n",
      "2023-05-05 19:18:16,828 ERROR     File \"/home/cds/cdsservices/services/esgf_wps/facets.py\", line 61, in search\n",
      "2023-05-05 19:18:16,828 ERROR       raise ValueError(f'No matching data for request {tmp_request}')\n",
      "2023-05-05 19:18:16,829 ERROR   ValueError: No matching data for request {'experiment': 'ssp534-over', 'model': 'EC-Earth3-Veg', 'temporal_resolution': 'mon', 'variable': 'rsds'}\n",
      "2023-05-05 19:18:16,866 INFO Welcome to the CDS\n",
      "2023-05-05 19:18:16,867 INFO Sending request to https://cds.climate.copernicus.eu/api/v2/resources/projections-cmip6\n"
     ]
    },
    {
     "name": "stdout",
     "output_type": "stream",
     "text": [
      "Some parameters are not matching\n",
      "\n",
      "No value were found for the period and the project tested\n",
      "\n",
      "Test with model fgoals_f3_l\n",
      "path_for_file does not exist: the data may not have been downloaded\n",
      "file_download does not exist: the data were not downloaded\n"
     ]
    },
    {
     "name": "stderr",
     "output_type": "stream",
     "text": [
      "2023-05-05 19:18:17,298 INFO Request is queued\n",
      "2023-05-05 19:18:18,352 INFO Request is failed\n",
      "2023-05-05 19:18:18,354 ERROR Message: an internal error occurred processing your request\n",
      "2023-05-05 19:18:18,355 ERROR Reason:  No matching data for request {'experiment': 'ssp534-over', 'model': 'FGOALS-f3-L', 'temporal_resolution': 'mon', 'variable': 'rsds'}\n",
      "2023-05-05 19:18:18,357 ERROR   Traceback (most recent call last):\n",
      "2023-05-05 19:18:18,358 ERROR     File \"/opt/cdstoolbox/cdscompute/cdscompute/cdshandlers/services/handler.py\", line 59, in handle_request\n",
      "2023-05-05 19:18:18,358 ERROR       result = cached(context.method, proc, context, context.args, context.kwargs)\n",
      "2023-05-05 19:18:18,359 ERROR     File \"/opt/cdstoolbox/cdscompute/cdscompute/caching.py\", line 108, in cached\n",
      "2023-05-05 19:18:18,360 ERROR       result = proc(context, *context.args, **context.kwargs)\n",
      "2023-05-05 19:18:18,360 ERROR     File \"/opt/cdstoolbox/cdscompute/cdscompute/services.py\", line 124, in __call__\n",
      "2023-05-05 19:18:18,361 ERROR       return p(*args, **kwargs)\n",
      "2023-05-05 19:18:18,361 ERROR     File \"/opt/cdstoolbox/cdscompute/cdscompute/services.py\", line 60, in __call__\n",
      "2023-05-05 19:18:18,362 ERROR       return self.proc(context, *args, **kwargs)\n",
      "2023-05-05 19:18:18,362 ERROR     File \"/home/cds/cdsservices/services/esgf_wps/__init__.py\", line 30, in execute\n",
      "2023-05-05 19:18:18,363 ERROR       request_facets, request = facets.search(context, request)\n",
      "2023-05-05 19:18:18,363 ERROR     File \"/home/cds/cdsservices/services/esgf_wps/facets.py\", line 61, in search\n",
      "2023-05-05 19:18:18,364 ERROR       raise ValueError(f'No matching data for request {tmp_request}')\n",
      "2023-05-05 19:18:18,364 ERROR   ValueError: No matching data for request {'experiment': 'ssp534-over', 'model': 'FGOALS-f3-L', 'temporal_resolution': 'mon', 'variable': 'rsds'}\n",
      "2023-05-05 19:18:18,402 INFO Welcome to the CDS\n",
      "2023-05-05 19:18:18,402 INFO Sending request to https://cds.climate.copernicus.eu/api/v2/resources/projections-cmip6\n",
      "2023-05-05 19:18:18,500 INFO Request is queued\n"
     ]
    },
    {
     "name": "stdout",
     "output_type": "stream",
     "text": [
      "Some parameters are not matching\n",
      "\n",
      "No value were found for the period and the project tested\n",
      "\n",
      "Test with model fio_esm_2_0\n",
      "path_for_file does not exist: the data may not have been downloaded\n",
      "file_download does not exist: the data were not downloaded\n"
     ]
    },
    {
     "name": "stderr",
     "output_type": "stream",
     "text": [
      "2023-05-05 19:18:19,558 INFO Request is failed\n",
      "2023-05-05 19:18:19,560 ERROR Message: an internal error occurred processing your request\n",
      "2023-05-05 19:18:19,562 ERROR Reason:  No matching data for request {'experiment': 'ssp534-over', 'model': 'FIO-ESM-2-0', 'temporal_resolution': 'mon', 'variable': 'rsds'}\n",
      "2023-05-05 19:18:19,563 ERROR   Traceback (most recent call last):\n",
      "2023-05-05 19:18:19,563 ERROR     File \"/opt/cdstoolbox/cdscompute/cdscompute/cdshandlers/services/handler.py\", line 59, in handle_request\n",
      "2023-05-05 19:18:19,564 ERROR       result = cached(context.method, proc, context, context.args, context.kwargs)\n",
      "2023-05-05 19:18:19,564 ERROR     File \"/opt/cdstoolbox/cdscompute/cdscompute/caching.py\", line 108, in cached\n",
      "2023-05-05 19:18:19,565 ERROR       result = proc(context, *context.args, **context.kwargs)\n",
      "2023-05-05 19:18:19,566 ERROR     File \"/opt/cdstoolbox/cdscompute/cdscompute/services.py\", line 124, in __call__\n",
      "2023-05-05 19:18:19,567 ERROR       return p(*args, **kwargs)\n",
      "2023-05-05 19:18:19,567 ERROR     File \"/opt/cdstoolbox/cdscompute/cdscompute/services.py\", line 60, in __call__\n",
      "2023-05-05 19:18:19,568 ERROR       return self.proc(context, *args, **kwargs)\n",
      "2023-05-05 19:18:19,568 ERROR     File \"/home/cds/cdsservices/services/esgf_wps/__init__.py\", line 30, in execute\n",
      "2023-05-05 19:18:19,568 ERROR       request_facets, request = facets.search(context, request)\n",
      "2023-05-05 19:18:19,570 ERROR     File \"/home/cds/cdsservices/services/esgf_wps/facets.py\", line 61, in search\n",
      "2023-05-05 19:18:19,570 ERROR       raise ValueError(f'No matching data for request {tmp_request}')\n",
      "2023-05-05 19:18:19,570 ERROR   ValueError: No matching data for request {'experiment': 'ssp534-over', 'model': 'FIO-ESM-2-0', 'temporal_resolution': 'mon', 'variable': 'rsds'}\n",
      "2023-05-05 19:18:19,607 INFO Welcome to the CDS\n",
      "2023-05-05 19:18:19,608 INFO Sending request to https://cds.climate.copernicus.eu/api/v2/resources/projections-cmip6\n",
      "2023-05-05 19:18:19,681 INFO Request is queued\n"
     ]
    },
    {
     "name": "stdout",
     "output_type": "stream",
     "text": [
      "Some parameters are not matching\n",
      "\n",
      "No value were found for the period and the project tested\n",
      "\n",
      "Test with model giss_e2_1_g\n",
      "path_for_file does not exist: the data may not have been downloaded\n",
      "file_download does not exist: the data were not downloaded\n"
     ]
    },
    {
     "name": "stderr",
     "output_type": "stream",
     "text": [
      "2023-05-05 19:18:20,728 INFO Request is failed\n",
      "2023-05-05 19:18:20,729 ERROR Message: an internal error occurred processing your request\n",
      "2023-05-05 19:18:20,731 ERROR Reason:  No matching data for request {'experiment': 'ssp534-over', 'model': 'GISS-E2-1-G', 'temporal_resolution': 'mon', 'variable': 'rsds'}\n",
      "2023-05-05 19:18:20,733 ERROR   Traceback (most recent call last):\n",
      "2023-05-05 19:18:20,734 ERROR     File \"/opt/cdstoolbox/cdscompute/cdscompute/cdshandlers/services/handler.py\", line 59, in handle_request\n",
      "2023-05-05 19:18:20,735 ERROR       result = cached(context.method, proc, context, context.args, context.kwargs)\n",
      "2023-05-05 19:18:20,735 ERROR     File \"/opt/cdstoolbox/cdscompute/cdscompute/caching.py\", line 108, in cached\n",
      "2023-05-05 19:18:20,736 ERROR       result = proc(context, *context.args, **context.kwargs)\n",
      "2023-05-05 19:18:20,736 ERROR     File \"/opt/cdstoolbox/cdscompute/cdscompute/services.py\", line 124, in __call__\n",
      "2023-05-05 19:18:20,737 ERROR       return p(*args, **kwargs)\n",
      "2023-05-05 19:18:20,737 ERROR     File \"/opt/cdstoolbox/cdscompute/cdscompute/services.py\", line 60, in __call__\n",
      "2023-05-05 19:18:20,738 ERROR       return self.proc(context, *args, **kwargs)\n",
      "2023-05-05 19:18:20,738 ERROR     File \"/home/cds/cdsservices/services/esgf_wps/__init__.py\", line 30, in execute\n",
      "2023-05-05 19:18:20,739 ERROR       request_facets, request = facets.search(context, request)\n",
      "2023-05-05 19:18:20,740 ERROR     File \"/home/cds/cdsservices/services/esgf_wps/facets.py\", line 61, in search\n",
      "2023-05-05 19:18:20,740 ERROR       raise ValueError(f'No matching data for request {tmp_request}')\n",
      "2023-05-05 19:18:20,741 ERROR   ValueError: No matching data for request {'experiment': 'ssp534-over', 'model': 'GISS-E2-1-G', 'temporal_resolution': 'mon', 'variable': 'rsds'}\n",
      "2023-05-05 19:18:20,780 INFO Welcome to the CDS\n",
      "2023-05-05 19:18:20,780 INFO Sending request to https://cds.climate.copernicus.eu/api/v2/resources/projections-cmip6\n",
      "2023-05-05 19:18:20,833 INFO Request is queued\n"
     ]
    },
    {
     "name": "stdout",
     "output_type": "stream",
     "text": [
      "Some parameters are not matching\n",
      "\n",
      "No value were found for the period and the project tested\n",
      "\n",
      "Test with model hadgem3_gc31_ll\n",
      "path_for_file does not exist: the data may not have been downloaded\n",
      "file_download does not exist: the data were not downloaded\n"
     ]
    },
    {
     "name": "stderr",
     "output_type": "stream",
     "text": [
      "2023-05-05 19:18:21,876 INFO Request is failed\n",
      "2023-05-05 19:18:21,877 ERROR Message: an internal error occurred processing your request\n",
      "2023-05-05 19:18:21,878 ERROR Reason:  No matching data for request {'experiment': 'ssp534-over', 'model': 'HadGEM3-GC31-LL', 'temporal_resolution': 'mon', 'variable': 'rsds'}\n",
      "2023-05-05 19:18:21,879 ERROR   Traceback (most recent call last):\n",
      "2023-05-05 19:18:21,880 ERROR     File \"/opt/cdstoolbox/cdscompute/cdscompute/cdshandlers/services/handler.py\", line 59, in handle_request\n",
      "2023-05-05 19:18:21,880 ERROR       result = cached(context.method, proc, context, context.args, context.kwargs)\n",
      "2023-05-05 19:18:21,881 ERROR     File \"/opt/cdstoolbox/cdscompute/cdscompute/caching.py\", line 108, in cached\n",
      "2023-05-05 19:18:21,881 ERROR       result = proc(context, *context.args, **context.kwargs)\n",
      "2023-05-05 19:18:21,882 ERROR     File \"/opt/cdstoolbox/cdscompute/cdscompute/services.py\", line 124, in __call__\n",
      "2023-05-05 19:18:21,882 ERROR       return p(*args, **kwargs)\n",
      "2023-05-05 19:18:21,883 ERROR     File \"/opt/cdstoolbox/cdscompute/cdscompute/services.py\", line 60, in __call__\n",
      "2023-05-05 19:18:21,884 ERROR       return self.proc(context, *args, **kwargs)\n",
      "2023-05-05 19:18:21,884 ERROR     File \"/home/cds/cdsservices/services/esgf_wps/__init__.py\", line 30, in execute\n",
      "2023-05-05 19:18:21,885 ERROR       request_facets, request = facets.search(context, request)\n",
      "2023-05-05 19:18:21,886 ERROR     File \"/home/cds/cdsservices/services/esgf_wps/facets.py\", line 61, in search\n",
      "2023-05-05 19:18:21,886 ERROR       raise ValueError(f'No matching data for request {tmp_request}')\n",
      "2023-05-05 19:18:21,887 ERROR   ValueError: No matching data for request {'experiment': 'ssp534-over', 'model': 'HadGEM3-GC31-LL', 'temporal_resolution': 'mon', 'variable': 'rsds'}\n",
      "2023-05-05 19:18:21,926 INFO Welcome to the CDS\n",
      "2023-05-05 19:18:21,927 INFO Sending request to https://cds.climate.copernicus.eu/api/v2/resources/projections-cmip6\n",
      "2023-05-05 19:18:21,970 INFO Request is queued\n"
     ]
    },
    {
     "name": "stdout",
     "output_type": "stream",
     "text": [
      "Some parameters are not matching\n",
      "\n",
      "No value were found for the period and the project tested\n",
      "\n",
      "Test with model iitm_esm\n",
      "path_for_file does not exist: the data may not have been downloaded\n",
      "file_download does not exist: the data were not downloaded\n"
     ]
    },
    {
     "name": "stderr",
     "output_type": "stream",
     "text": [
      "2023-05-05 19:18:23,022 INFO Request is failed\n",
      "2023-05-05 19:18:23,023 ERROR Message: an internal error occurred processing your request\n",
      "2023-05-05 19:18:23,024 ERROR Reason:  No matching data for request {'experiment': 'ssp534-over', 'model': 'IITM-ESM', 'temporal_resolution': 'mon', 'variable': 'rsds'}\n",
      "2023-05-05 19:18:23,025 ERROR   Traceback (most recent call last):\n",
      "2023-05-05 19:18:23,025 ERROR     File \"/opt/cdstoolbox/cdscompute/cdscompute/cdshandlers/services/handler.py\", line 59, in handle_request\n",
      "2023-05-05 19:18:23,027 ERROR       result = cached(context.method, proc, context, context.args, context.kwargs)\n",
      "2023-05-05 19:18:23,028 ERROR     File \"/opt/cdstoolbox/cdscompute/cdscompute/caching.py\", line 108, in cached\n",
      "2023-05-05 19:18:23,028 ERROR       result = proc(context, *context.args, **context.kwargs)\n",
      "2023-05-05 19:18:23,029 ERROR     File \"/opt/cdstoolbox/cdscompute/cdscompute/services.py\", line 124, in __call__\n",
      "2023-05-05 19:18:23,030 ERROR       return p(*args, **kwargs)\n",
      "2023-05-05 19:18:23,030 ERROR     File \"/opt/cdstoolbox/cdscompute/cdscompute/services.py\", line 60, in __call__\n",
      "2023-05-05 19:18:23,030 ERROR       return self.proc(context, *args, **kwargs)\n",
      "2023-05-05 19:18:23,031 ERROR     File \"/home/cds/cdsservices/services/esgf_wps/__init__.py\", line 30, in execute\n",
      "2023-05-05 19:18:23,031 ERROR       request_facets, request = facets.search(context, request)\n",
      "2023-05-05 19:18:23,032 ERROR     File \"/home/cds/cdsservices/services/esgf_wps/facets.py\", line 61, in search\n",
      "2023-05-05 19:18:23,032 ERROR       raise ValueError(f'No matching data for request {tmp_request}')\n",
      "2023-05-05 19:18:23,032 ERROR   ValueError: No matching data for request {'experiment': 'ssp534-over', 'model': 'IITM-ESM', 'temporal_resolution': 'mon', 'variable': 'rsds'}\n",
      "2023-05-05 19:18:23,076 INFO Welcome to the CDS\n",
      "2023-05-05 19:18:23,077 INFO Sending request to https://cds.climate.copernicus.eu/api/v2/resources/projections-cmip6\n",
      "2023-05-05 19:18:23,148 INFO Request is queued\n"
     ]
    },
    {
     "name": "stdout",
     "output_type": "stream",
     "text": [
      "Some parameters are not matching\n",
      "\n",
      "No value were found for the period and the project tested\n",
      "\n",
      "Test with model inm_cm5_0\n",
      "path_for_file does not exist: the data may not have been downloaded\n",
      "file_download does not exist: the data were not downloaded\n"
     ]
    },
    {
     "name": "stderr",
     "output_type": "stream",
     "text": [
      "2023-05-05 19:18:24,201 INFO Request is failed\n",
      "2023-05-05 19:18:24,202 ERROR Message: an internal error occurred processing your request\n",
      "2023-05-05 19:18:24,203 ERROR Reason:  No matching data for request {'experiment': 'ssp534-over', 'model': 'INM-CM5-0', 'temporal_resolution': 'mon', 'variable': 'rsds'}\n",
      "2023-05-05 19:18:24,204 ERROR   Traceback (most recent call last):\n",
      "2023-05-05 19:18:24,204 ERROR     File \"/opt/cdstoolbox/cdscompute/cdscompute/cdshandlers/services/handler.py\", line 59, in handle_request\n",
      "2023-05-05 19:18:24,204 ERROR       result = cached(context.method, proc, context, context.args, context.kwargs)\n",
      "2023-05-05 19:18:24,205 ERROR     File \"/opt/cdstoolbox/cdscompute/cdscompute/caching.py\", line 108, in cached\n",
      "2023-05-05 19:18:24,207 ERROR       result = proc(context, *context.args, **context.kwargs)\n",
      "2023-05-05 19:18:24,208 ERROR     File \"/opt/cdstoolbox/cdscompute/cdscompute/services.py\", line 124, in __call__\n",
      "2023-05-05 19:18:24,209 ERROR       return p(*args, **kwargs)\n",
      "2023-05-05 19:18:24,209 ERROR     File \"/opt/cdstoolbox/cdscompute/cdscompute/services.py\", line 60, in __call__\n",
      "2023-05-05 19:18:24,210 ERROR       return self.proc(context, *args, **kwargs)\n",
      "2023-05-05 19:18:24,210 ERROR     File \"/home/cds/cdsservices/services/esgf_wps/__init__.py\", line 30, in execute\n",
      "2023-05-05 19:18:24,211 ERROR       request_facets, request = facets.search(context, request)\n",
      "2023-05-05 19:18:24,212 ERROR     File \"/home/cds/cdsservices/services/esgf_wps/facets.py\", line 61, in search\n",
      "2023-05-05 19:18:24,212 ERROR       raise ValueError(f'No matching data for request {tmp_request}')\n",
      "2023-05-05 19:18:24,213 ERROR   ValueError: No matching data for request {'experiment': 'ssp534-over', 'model': 'INM-CM5-0', 'temporal_resolution': 'mon', 'variable': 'rsds'}\n",
      "2023-05-05 19:18:24,250 INFO Welcome to the CDS\n",
      "2023-05-05 19:18:24,251 INFO Sending request to https://cds.climate.copernicus.eu/api/v2/resources/projections-cmip6\n",
      "2023-05-05 19:18:24,315 INFO Request is queued\n"
     ]
    },
    {
     "name": "stdout",
     "output_type": "stream",
     "text": [
      "Some parameters are not matching\n",
      "\n",
      "No value were found for the period and the project tested\n",
      "\n",
      "Test with model ipsl_cm6a_lr\n",
      "path_for_file does not exist: the data may not have been downloaded\n",
      "file_download does not exist: the data were not downloaded\n"
     ]
    },
    {
     "name": "stderr",
     "output_type": "stream",
     "text": [
      "2023-05-05 19:18:25,363 INFO Request is failed\n",
      "2023-05-05 19:18:25,364 ERROR Message: an internal error occurred processing your request\n",
      "2023-05-05 19:18:25,365 ERROR Reason:  execution failed\n",
      "2023-05-05 19:18:25,365 ERROR   Traceback (most recent call last):\n",
      "2023-05-05 19:18:25,366 ERROR     File \"/usr/local/lib/python3.6/site-packages/birdy/client/base.py\", line 373, in _execute\n",
      "2023-05-05 19:18:25,366 ERROR       lineage=self._lineage,\n",
      "2023-05-05 19:18:25,367 ERROR     File \"/usr/local/lib/python3.6/site-packages/owslib/wps.py\", line 359, in execute\n",
      "2023-05-05 19:18:25,368 ERROR       response = execution.submitRequest(request)\n",
      "2023-05-05 19:18:25,368 ERROR     File \"/usr/local/lib/python3.6/site-packages/owslib/wps.py\", line 912, in submitRequest\n",
      "2023-05-05 19:18:25,369 ERROR       self.url, request, method='Post', headers=self.headers)\n",
      "2023-05-05 19:18:25,370 ERROR     File \"/usr/local/lib/python3.6/site-packages/owslib/wps.py\", line 603, in readFromUrl\n",
      "2023-05-05 19:18:25,370 ERROR       headers=headers, verify=verify, cert=cert)\n",
      "2023-05-05 19:18:25,371 ERROR     File \"/usr/local/lib/python3.6/site-packages/owslib/wps.py\", line 515, in _readFromUrl\n",
      "2023-05-05 19:18:25,372 ERROR       headers=headers, verify=self.auth.verify, cert=self.auth.cert, timeout=timeout)\n",
      "2023-05-05 19:18:25,372 ERROR     File \"/usr/local/lib/python3.6/site-packages/owslib/util.py\", line 209, in openURL\n",
      "2023-05-05 19:18:25,373 ERROR       req.raise_for_status()\n",
      "2023-05-05 19:18:25,373 ERROR     File \"/usr/local/lib/python3.6/site-packages/requests/models.py\", line 960, in raise_for_status\n",
      "2023-05-05 19:18:25,374 ERROR       raise HTTPError(http_error_msg, response=self)\n",
      "2023-05-05 19:18:25,375 ERROR   requests.exceptions.HTTPError: 500 Server Error: INTERNAL SERVER ERROR for url: http://compute.mips.copernicus-climate.eu/wps\n",
      "2023-05-05 19:18:25,413 INFO Welcome to the CDS\n",
      "2023-05-05 19:18:25,413 INFO Sending request to https://cds.climate.copernicus.eu/api/v2/resources/projections-cmip6\n",
      "2023-05-05 19:18:25,489 INFO Request is queued\n"
     ]
    },
    {
     "name": "stdout",
     "output_type": "stream",
     "text": [
      "Some parameters are not matching\n",
      "\n",
      "No value were found for the period and the project tested\n",
      "\n",
      "Test with model kiost_esm\n",
      "path_for_file does not exist: the data may not have been downloaded\n",
      "file_download does not exist: the data were not downloaded\n"
     ]
    },
    {
     "name": "stderr",
     "output_type": "stream",
     "text": [
      "2023-05-05 19:18:26,540 INFO Request is failed\n",
      "2023-05-05 19:18:26,541 ERROR Message: an internal error occurred processing your request\n",
      "2023-05-05 19:18:26,542 ERROR Reason:  No matching data for request {'experiment': 'ssp534-over', 'model': 'KIOST-ESM', 'temporal_resolution': 'mon', 'variable': 'rsds'}\n",
      "2023-05-05 19:18:26,543 ERROR   Traceback (most recent call last):\n",
      "2023-05-05 19:18:26,544 ERROR     File \"/opt/cdstoolbox/cdscompute/cdscompute/cdshandlers/services/handler.py\", line 59, in handle_request\n",
      "2023-05-05 19:18:26,545 ERROR       result = cached(context.method, proc, context, context.args, context.kwargs)\n",
      "2023-05-05 19:18:26,546 ERROR     File \"/opt/cdstoolbox/cdscompute/cdscompute/caching.py\", line 108, in cached\n",
      "2023-05-05 19:18:26,547 ERROR       result = proc(context, *context.args, **context.kwargs)\n",
      "2023-05-05 19:18:26,547 ERROR     File \"/opt/cdstoolbox/cdscompute/cdscompute/services.py\", line 124, in __call__\n",
      "2023-05-05 19:18:26,548 ERROR       return p(*args, **kwargs)\n",
      "2023-05-05 19:18:26,549 ERROR     File \"/opt/cdstoolbox/cdscompute/cdscompute/services.py\", line 60, in __call__\n",
      "2023-05-05 19:18:26,549 ERROR       return self.proc(context, *args, **kwargs)\n",
      "2023-05-05 19:18:26,550 ERROR     File \"/home/cds/cdsservices/services/esgf_wps/__init__.py\", line 30, in execute\n",
      "2023-05-05 19:18:26,550 ERROR       request_facets, request = facets.search(context, request)\n",
      "2023-05-05 19:18:26,551 ERROR     File \"/home/cds/cdsservices/services/esgf_wps/facets.py\", line 61, in search\n",
      "2023-05-05 19:18:26,551 ERROR       raise ValueError(f'No matching data for request {tmp_request}')\n",
      "2023-05-05 19:18:26,551 ERROR   ValueError: No matching data for request {'experiment': 'ssp534-over', 'model': 'KIOST-ESM', 'temporal_resolution': 'mon', 'variable': 'rsds'}\n",
      "2023-05-05 19:18:26,589 INFO Welcome to the CDS\n",
      "2023-05-05 19:18:26,590 INFO Sending request to https://cds.climate.copernicus.eu/api/v2/resources/projections-cmip6\n",
      "2023-05-05 19:18:26,636 INFO Request is queued\n"
     ]
    },
    {
     "name": "stdout",
     "output_type": "stream",
     "text": [
      "Some parameters are not matching\n",
      "\n",
      "No value were found for the period and the project tested\n",
      "\n",
      "Test with model miroc6\n",
      "path_for_file does not exist: the data may not have been downloaded\n",
      "file_download does not exist: the data were not downloaded\n"
     ]
    },
    {
     "name": "stderr",
     "output_type": "stream",
     "text": [
      "2023-05-05 19:18:27,693 INFO Request is failed\n",
      "2023-05-05 19:18:27,695 ERROR Message: an internal error occurred processing your request\n",
      "2023-05-05 19:18:27,696 ERROR Reason:  execution failed\n",
      "2023-05-05 19:18:27,697 ERROR   Traceback (most recent call last):\n",
      "2023-05-05 19:18:27,698 ERROR     File \"/usr/local/lib/python3.6/site-packages/birdy/client/base.py\", line 373, in _execute\n",
      "2023-05-05 19:18:27,699 ERROR       lineage=self._lineage,\n",
      "2023-05-05 19:18:27,699 ERROR     File \"/usr/local/lib/python3.6/site-packages/owslib/wps.py\", line 359, in execute\n",
      "2023-05-05 19:18:27,700 ERROR       response = execution.submitRequest(request)\n",
      "2023-05-05 19:18:27,701 ERROR     File \"/usr/local/lib/python3.6/site-packages/owslib/wps.py\", line 912, in submitRequest\n",
      "2023-05-05 19:18:27,701 ERROR       self.url, request, method='Post', headers=self.headers)\n",
      "2023-05-05 19:18:27,702 ERROR     File \"/usr/local/lib/python3.6/site-packages/owslib/wps.py\", line 603, in readFromUrl\n",
      "2023-05-05 19:18:27,702 ERROR       headers=headers, verify=verify, cert=cert)\n",
      "2023-05-05 19:18:27,703 ERROR     File \"/usr/local/lib/python3.6/site-packages/owslib/wps.py\", line 515, in _readFromUrl\n",
      "2023-05-05 19:18:27,703 ERROR       headers=headers, verify=self.auth.verify, cert=self.auth.cert, timeout=timeout)\n",
      "2023-05-05 19:18:27,704 ERROR     File \"/usr/local/lib/python3.6/site-packages/owslib/util.py\", line 209, in openURL\n",
      "2023-05-05 19:18:27,704 ERROR       req.raise_for_status()\n",
      "2023-05-05 19:18:27,704 ERROR     File \"/usr/local/lib/python3.6/site-packages/requests/models.py\", line 960, in raise_for_status\n",
      "2023-05-05 19:18:27,705 ERROR       raise HTTPError(http_error_msg, response=self)\n",
      "2023-05-05 19:18:27,706 ERROR   requests.exceptions.HTTPError: 500 Server Error: INTERNAL SERVER ERROR for url: http://compute.mips.copernicus-climate.eu/wps\n",
      "2023-05-05 19:18:27,744 INFO Welcome to the CDS\n",
      "2023-05-05 19:18:27,745 INFO Sending request to https://cds.climate.copernicus.eu/api/v2/resources/projections-cmip6\n",
      "2023-05-05 19:18:27,806 INFO Request is queued\n"
     ]
    },
    {
     "name": "stdout",
     "output_type": "stream",
     "text": [
      "Some parameters are not matching\n",
      "\n",
      "No value were found for the period and the project tested\n",
      "\n",
      "Test with model miroc_es2l\n",
      "path_for_file does not exist: the data may not have been downloaded\n",
      "file_download does not exist: the data were not downloaded\n"
     ]
    },
    {
     "name": "stderr",
     "output_type": "stream",
     "text": [
      "2023-05-05 19:18:28,858 INFO Request is running\n",
      "2023-05-05 19:18:41,232 INFO Request is completed\n",
      "2023-05-05 19:18:41,233 INFO Downloading https://download-0010-clone.copernicus-climate.eu/cache-compute-0010/cache/data6/adaptor.esgf_wps.retrieve-1683307115.603441-580-13-9b99fb72-48bb-44f9-8284-94585769afbc.zip to download.zip (643.5K)\n",
      "2023-05-05 19:18:41,902 INFO Download rate 963.7K/s                                                                    \n"
     ]
    },
    {
     "name": "stdout",
     "output_type": "stream",
     "text": [
      "\n",
      " The downloaded file is extracted\n",
      "path_for_file does exist Function copernicus search for nc\n",
      "The file is in the path Function copernicus search for nc\n",
      "\n",
      "The final path for the nc file is: C:\\Users\\CLMRX\\OneDrive - COWI\\Documents\\GitHub\\CRVA_tool\\outputs\\Datasets\\surface_downwelling_shortwave_radiation\\CompleteMozambique\\ssp5_3_4os\\miroc_es2l\\2015-2099\\CMIP6-copernicus-GCM\\rsds_Amon_MIROC-ES2L_ssp534-over_r1i1p1f2_gn_20150116-20991216_v20201014.nc\n",
      "\n",
      " The final path for nc file exists ? True\n",
      "\n",
      "\n",
      "\n",
      "---------------  Path to nc file exists ?? ---------------\n",
      "\n",
      "False\n",
      "\n",
      "\n",
      "Registering the data in a dataframe\n"
     ]
    }
   ],
   "source": [
    "(year, year_str, index)=year_copernicus(2015,2099)\n",
    "temporal_resolution = 'monthly'\n",
    "name_project = 'CompleteMozambique'\n",
    "\n",
    "Projections_solar_radiation_country = pd.DataFrame() # create an empty dataframe\n",
    "(Projections_solar_radiation_country,period) = csv_copernicus(temporal_resolution,year_str,copernicus_elements.experiments,copernicus_elements.models,out_path,global_variable, name_variable,name_project,area,'CMIP6-copernicus-GCM')  "
   ]
  },
  {
   "cell_type": "code",
   "execution_count": null,
   "id": "3821efa7",
   "metadata": {},
   "outputs": [],
   "source": [
    "Open_path=Dataset(r'C:\\Users\\CLMRX\\OneDrive - COWI\\Documents\\GitHub\\CRVA_tool\\outputs\\Datasets\\surface_downwelling_shortwave_radiation\\CompleteMozambique\\ssp1_1_9\\ipsl_cm6a_lr\\2015-2099\\CMIP6-copernicus-GCM\\rsds_Amon_IPSL-CM6A-LR_ssp119_r1i1p1f1_gr_20150116-20991216_v20190410.nc')\n",
    "data_with_all = ma.getdata(Open_path.variables['rsds']).data"
   ]
  },
  {
   "cell_type": "code",
   "execution_count": null,
   "id": "05f6c067",
   "metadata": {},
   "outputs": [],
   "source": [
    "climate_variables_variables=list(Open_path.variables)\n",
    "# variables that are not the column name of interest \n",
    "elements_not_climate_var =['time', 'time_bnds', 'bnds','lat', 'lat_bnds', 'lon', 'lon_bnds']\n",
    "# difference between the 2 lists to select the column name of the climate variable of interest\n",
    "column_name = list(set(climate_variables_variables).difference(elements_not_climate_var))"
   ]
  },
  {
   "cell_type": "code",
   "execution_count": null,
   "id": "6503700b",
   "metadata": {},
   "outputs": [],
   "source": [
    "column_name"
   ]
  },
  {
   "cell_type": "code",
   "execution_count": null,
   "id": "496ab30a",
   "metadata": {},
   "outputs": [],
   "source": [
    "# make a list with every variables of the netCDF file of interest\n",
    "climate_variables_variables=list(Open_path.variables)\n",
    "# variables that are not the column name of interest \n",
    "elements_not_climate_var =['time', 'time_bnds', 'bnds','lat', 'lat_bnds', 'lon', 'lon_bnds','time_bounds','bounds','lat_bounds','lon_bounds']\n",
    "# difference between the 2 lists to select the column name of the climate variable of interest\n",
    "for str in elements_not_climate_var:\n",
    "    if str in climate_variables_variables:\n",
    "        climate_variables_variables.remove(str)\n",
    "climate_variables_variables[0]"
   ]
  },
  {
   "cell_type": "code",
   "execution_count": null,
   "id": "f0e932a7",
   "metadata": {},
   "outputs": [],
   "source": [
    "list(Open_path.variables)"
   ]
  },
  {
   "cell_type": "code",
   "execution_count": null,
   "id": "21bf7a31",
   "metadata": {},
   "outputs": [],
   "source": [
    "data_dataframe = data_with_all[1,:,:]"
   ]
  },
  {
   "cell_type": "code",
   "execution_count": null,
   "id": "9728d903",
   "metadata": {},
   "outputs": [],
   "source": [
    "path=r'C:\\Users\\CLMRX\\OneDrive - COWI\\Documents\\GitHub\\CRVA_tool\\outputs\\Datasets\\surface_downwelling_shortwave_radiation\\CompleteMozambique\\ssp1_1_9\\ec_earth3_veg\\2015-2099\\CMIP6-copernicus-GCM\\rsds_Amon_EC-Earth3-Veg_ssp119_r1i1p1f1_gr_20150116-20991216_v20200226.nc'"
   ]
  },
  {
   "cell_type": "code",
   "execution_count": null,
   "id": "5ad7b428",
   "metadata": {},
   "outputs": [],
   "source": [
    "path"
   ]
  },
  {
   "cell_type": "code",
   "execution_count": null,
   "id": "e84977ca",
   "metadata": {},
   "outputs": [],
   "source": [
    "print(len(path)) #261"
   ]
  },
  {
   "cell_type": "code",
   "execution_count": null,
   "id": "34afd2b8",
   "metadata": {},
   "outputs": [],
   "source": [
    "path2 = os.path.abspath(path)\n",
    "\n",
    "if path2.startswith(u\"\\\\\\\\\"):\n",
    "    path2=u\"\\\\\\\\?\\\\UNC\\\\\"+path2[2:]\n",
    "else:\n",
    "    path2=u\"\\\\\\\\?\\\\\"+path2"
   ]
  },
  {
   "cell_type": "code",
   "execution_count": null,
   "id": "ac4b066a",
   "metadata": {},
   "outputs": [],
   "source": [
    "answer=os.path.isfile(path2)\n",
    "answer"
   ]
  },
  {
   "cell_type": "code",
   "execution_count": null,
   "id": "c603e910",
   "metadata": {},
   "outputs": [],
   "source": [
    "Dataset(path2)"
   ]
  },
  {
   "cell_type": "code",
   "execution_count": null,
   "id": "723e8cff",
   "metadata": {},
   "outputs": [],
   "source": [
    "# need to find name of column\n",
    "\n",
    "(year, year_str, index)=year_copernicus(2020,2100)\n",
    "temporal_resolution = 'monthly'\n",
    "name_project = 'CompleteMozambique'\n",
    "# Register data from copernicus for humidity in a dataframe and production of a csv file for the period indicated above\n",
    "#Solar_radiation = dataframe_csv_copernicus(temporal_resolution,year_str,copernicus_elements.experiments,copernicus_elements.models,out_path,global_variable, name_variable,area)\n",
    "if temporal_resolution == 'fixed':\n",
    "    period = 'fixed'\n",
    "else:\n",
    "    period=year_str[0]+'-'+year_str[len(year_str)-1]\n",
    "\n",
    "(dates, index_dates)=date_copernicus(temporal_resolution,year_str) # create time vector depending on temporal resolution\n",
    "\n",
    "path_for_file= os.path.join(out_path,'Datasets',name_variable,name_project,copernicus_elements.experiments[0],copernicus_elements.models[0],period)#,'')\n",
    "\n",
    "climate_variable_path=copernicus_data(temporal_resolution,copernicus_elements.experiments[0],name_variable,copernicus_elements.models[0],year_str,area,path_for_file,out_path,name_project)\n",
    "\n",
    "df = pd.DataFrame()\n",
    "experiment = (copernicus_elements.experiments[0],)\n",
    "model = (copernicus_elements.models[0],)\n",
    "df=register_data(climate_variable_path,name_project,index_dates,dates,experiment,model,df)\n"
   ]
  },
  {
   "cell_type": "code",
   "execution_count": null,
   "id": "ff95712b",
   "metadata": {},
   "outputs": [],
   "source": [
    "type(df)"
   ]
  },
  {
   "cell_type": "code",
   "execution_count": null,
   "id": "db6d7c5b",
   "metadata": {},
   "outputs": [],
   "source": [
    "# need to find name of column\n",
    "\n",
    "(year, year_str, index)=year_copernicus(2020,2100)\n",
    "temporal_resolution = 'monthly'\n",
    "name_project = 'CompleteMozambique'\n",
    "# Register data from copernicus for humidity in a dataframe and production of a csv file for the period indicated above\n",
    "#Solar_radiation = dataframe_csv_copernicus(temporal_resolution,year_str,copernicus_elements.experiments,copernicus_elements.models,out_path,global_variable, name_variable,area)\n",
    "if temporal_resolution == 'fixed':\n",
    "    period = 'fixed'\n",
    "else:\n",
    "    period=year_str[0]+'-'+year_str[len(year_str)-1]\n",
    "\n",
    "(dates, index_dates)=date_copernicus(temporal_resolution,year_str) # create time vector depending on temporal resolution\n",
    "\n",
    "path_for_file= os.path.join(out_path,'Datasets',name_variable,name_project,copernicus_elements.experiments[0],copernicus_elements.models[0],period)#,'')\n",
    "\n",
    "climate_variable_path=copernicus_data(temporal_resolution,copernicus_elements.experiments[0],name_variable,copernicus_elements.models[0],year_str,area,path_for_file,out_path,name_project)\n",
    "#Open_path = Dataset(climate_variable_path) # open netcdf file\n",
    "df = pd.DataFrame()\n",
    "#df=register_data(climate_variable_path,index_dates,dates,copernicus_elements.experiments[0],copernicus_elements.models[0],df)\n",
    "Open_path = Dataset(climate_variable_path) # open netcdf file\n",
    "lat_dataframe = np.ma.getdata(Open_path.variables['lat']).data\n",
    "lon_dataframe = np.ma.getdata(Open_path.variables['lon']).data\n",
    "column_name = find_column_name(Open_path)\n",
    "data_with_all = ma.getdata(Open_path.variables[column_name]).data\n",
    "\n",
    "for moment in index_dates: # case if temporal resolution is daily\n",
    "    data_dataframe = data_with_all[moment,:,:]\n",
    "    Date = (dates[moment],) # create tuple for iteration of dataframe\n",
    "    \n",
    "    experiment = (copernicus_elements.experiments[0],)\n",
    "    model = (copernicus_elements.models[0],)\n",
    "    Name_Project = (name_project,)\n",
    "    \n",
    "    # Create the MultiIndex\n",
    "    midx = pd.MultiIndex.from_product([Name_Project,experiment,model, Date, lat_dataframe],names=['Name project','Experiment', 'Model', 'Date', 'Latitude'])\n",
    "    # multiindex to name the columns\n",
    "    lon_str = ('Longitude',)\n",
    "    cols = pd.MultiIndex.from_product([lon_str,lon_dataframe])\n",
    "    # Create the Dataframe\n",
    "    Variable_dataframe = pd.DataFrame(data = data_dataframe, \n",
    "                                index = midx,\n",
    "                                columns = cols)\n",
    "    # Concatenate former and new dataframe\n",
    "    df = pd.concat([df,Variable_dataframe])# register information for project\n",
    "\n",
    "Open_path.close # to spare memory\n",
    "#(df,period)=dataframe_csv_copernicus(temporal_resolution,year_str,experiments,models,out_path, global_variable, name_variable, name_project,area):    \n",
    "\n"
   ]
  },
  {
   "cell_type": "code",
   "execution_count": null,
   "id": "3142c046",
   "metadata": {},
   "outputs": [],
   "source": [
    "df"
   ]
  },
  {
   "cell_type": "code",
   "execution_count": null,
   "id": "b455d699",
   "metadata": {},
   "outputs": [],
   "source": [
    "climate_variables_variables=list(Open_path.variables)\n",
    "elements_not_climate_var =['time', 'time_bnds', 'lat', 'lat_bnds', 'lon', 'lon_bnds']\n",
    "\n",
    "column_name = list(set(climate_variables_variables).difference(elements_not_climate_var))\n",
    "column_name[0]"
   ]
  },
  {
   "cell_type": "code",
   "execution_count": null,
   "id": "0318b5b1",
   "metadata": {},
   "outputs": [],
   "source": [
    "start_date = \"01-01-\"+year_str[0] # string start date based on start year\n",
    "stop_date = \"31-12-\"+year_str[len(year_str)-1] # string stop date based on stop year\n",
    "\n",
    "dates = pd.date_range(start_date,stop_date,freq='MS') # vector of dates between start date and stop date\n",
    "# freq='MS' is month start frequency\n",
    "type(dates)"
   ]
  },
  {
   "cell_type": "code",
   "execution_count": null,
   "id": "89ff06a0",
   "metadata": {},
   "outputs": [],
   "source": [
    "dates=list(dates.strftime('%m-%Y'))\n",
    "#dates=list(dates)\n",
    "dates[0]"
   ]
  },
  {
   "cell_type": "markdown",
   "id": "788310cb",
   "metadata": {},
   "source": [
    "<a id='land_climate_variables'></a>\n",
    "# LAND\n",
    "\n",
    "[Home](#beginning_CRVA)"
   ]
  },
  {
   "cell_type": "markdown",
   "id": "338692f1",
   "metadata": {},
   "source": [
    "<a id='landslides'></a>\n",
    "## Landslides - Land\n",
    "\n",
    "source: https://datacatalog.worldbank.org/search/dataset/0037584 (Global Landslide Hazard Map, The World Bank)\n",
    "\n",
    "### Description of LS_TH : \n",
    "The Global Landslide Hazard Map presents a qualitative representation of global landslide hazard at a global scale. It is the combination of the The Global Landslide Hazard Map: Median Annual Rainfall-Triggered Landslide Hazard (1980-2018) and The Global Landslide Hazard Map: Earthquake-Triggered Landslide Hazard which has then been simplified to four rank categories, ranging from Very low to High landslide hazard, based on the existing system used by ThinkHazard! (www.thinkhazard.org)\n",
    "\n",
    "### Description of LS_RF_Median_1980-2018 :\n",
    "The Global Rainfall-Triggered Landslide Hazard Map presents a quantitative representation of landslide hazard. This component is the median annual rainfall-triggered landslide hazard assessment for the period 1980 – 2018. Raster values represent the modelled average annual frequency of significant rainfall-triggered landslides per sq. km."
   ]
  },
  {
   "cell_type": "code",
   "execution_count": null,
   "id": "1e1bd3c3",
   "metadata": {},
   "outputs": [],
   "source": [
    "\n",
    "#Landslides data path\n",
    "landslidesTH_path=os.path.join(data_folder,'landslides/wb_GlLandslHazard/ls_th/LS_TH.tif') ## Global landslide hazard map (TH ranks --> Think hazard ranks)\n",
    "landslidesRF_path=os.path.join(data_folder,'landslides/wb_GlLandslHazard/ls_rf_median_1980-2018/LS_RF_Median_1980-2018.tif')\n",
    "\n",
    "#spatial stats\n",
    "projects['landslides_THmax']=pd.DataFrame(zonal_stats(vectors=projects_buf, raster=landslidesTH_path, \n",
    "                                                            all_touched=True, stats='max'))\n",
    "projects['landslidesRF_medianMax']=pd.DataFrame(zonal_stats(vectors=projects_buf, raster=landslidesRF_path, \n",
    "                                                            all_touched=True, stats='max'))\n",
    "#show table\n",
    "projects[[project_id,'landslides_THmax','landslidesRF_medianMax']].head()\n",
    "\n",
    "#plot landslides TH\n",
    "fig, ax = plt.subplots()\n",
    "landslides = rioxarray.open_rasterio(landslidesTH_path)\n",
    "landslides_clip = landslides.rio.clip(study_area.geometry, study_area.crs, drop=True)\n",
    "landslides_clip.plot(ax=ax, cmap='Reds',vmin=1, vmax=4)\n",
    "points=projects.plot(ax=ax,cmap='Greys') # what are those points ????\n",
    "\n",
    "#close\n",
    "landslides.close()\n",
    "landslides_clip.close()\n",
    "\n",
    "# didn't achieved to present the RF datas\n",
    "#plot landslides RF\n",
    "#fig, ax = plt.subplots()\n",
    "#landslides = rioxarray.open_rasterio(landslidesRF_path)\n",
    "#landslides_clip = landslides.rio.clip(study_area.geometry, study_area.crs, drop=True)\n",
    "#landslides_clip.plot(ax=ax, cmap='Reds',vmin=1, vmax=4)\n",
    "#points=projects.plot(ax=ax,cmap='Greys') # what are those points ????\n",
    "#landslides.close()"
   ]
  },
  {
   "cell_type": "markdown",
   "id": "7b840dac",
   "metadata": {},
   "source": [
    "## Global wildfire hazard - Land\n",
    "\n",
    "This jupyter notebook is to study the global wildfire hazard\n",
    "\n",
    "Source : https://datacatalog.worldbank.org/search/dataset/0042058/Global-wildfire-hazard\n",
    "\n",
    "Description of the source : The approach to classify wildfire hazard levels used is based solely on fire weather index climatology. Fire weather indices are used in many countries to assess both the onset of conditions that will allow fires to spread, as well as the likelihood of fire at any point in the landscape. The method presented uses statistical modelling (extreme value analysis) of a 30 year fire weather climatology to assess the predicted fire weather intensity for specific return period intervals. These intensities are classified based on thresholds using conventions to provide hazard classes that correspond to conditions that can support problematic fire spread in the landscape if an ignition and sufficient fuel were to be present.\n",
    "\n",
    "Date of export : 23.03.23\n",
    "\n",
    "Projection FWI for europe : https://cds.climate.copernicus.eu/cdsapp#!/dataset/sis-tourism-fire-danger-indicators?tab=overview\n",
    "\n",
    "Projection seasonal severity rating of for EUrope : https://www.eea.europa.eu/data-and-maps/figures/projected-meteorological-forest-fire-danger\n",
    "\n",
    "Calculation of the FWI : https://cwfis.cfs.nrcan.gc.ca/background/summary/fwi\n",
    "\n",
    "GLOBAL PROJeTIONS NOT FOUND\n"
   ]
  },
  {
   "cell_type": "markdown",
   "id": "91c1bf95",
   "metadata": {},
   "source": [
    "## Soil erosion - Land\n",
    "\n",
    "Source for global actual situations : https://data.jrc.ec.europa.eu/dataset/jrc-esdac-120"
   ]
  },
  {
   "cell_type": "markdown",
   "id": "c064cf21",
   "metadata": {},
   "source": [
    "<a id='hydrosphere_climate_variables'></a>\n",
    "# HYDROSPHERE\n",
    "\n",
    "[Home](#beginning_CRVA)"
   ]
  },
  {
   "cell_type": "markdown",
   "id": "db1a31ad",
   "metadata": {},
   "source": [
    "<a id='relative_sea_level_rise'></a>\n",
    "## Relative sea level rise"
   ]
  },
  {
   "cell_type": "code",
   "execution_count": null,
   "id": "ae5e6708",
   "metadata": {},
   "outputs": [],
   "source": [
    "## use copernicus or NASA data ? NASA data are in COWI servor \\\\COWI.net\\projects\\A245000\\A248363\\CRVA\\Datasets\\SeaLevelRise\\Nasa\n",
    "# use mean sea level > https://cds.climate.copernicus.eu/cdsapp#!/dataset/sis-water-level-change-indicators-cmip6?tab=overview"
   ]
  },
  {
   "cell_type": "markdown",
   "id": "68ac7c48",
   "metadata": {},
   "source": [
    "<a id='sea_water_temperature'></a>\n",
    "## Sea water temperature"
   ]
  },
  {
   "cell_type": "code",
   "execution_count": null,
   "id": "992b5f1c",
   "metadata": {},
   "outputs": [],
   "source": [
    "global_variable = 'Sea_water_temperature'\n",
    "name_variable = 'sea_surface_temperature' # only estimate for the surface in the copernicus CMIP6"
   ]
  },
  {
   "cell_type": "markdown",
   "id": "91c53183",
   "metadata": {},
   "source": [
    "#### Historical data"
   ]
  },
  {
   "cell_type": "code",
   "execution_count": null,
   "id": "7ca3cac1",
   "metadata": {},
   "outputs": [],
   "source": [
    "(year_historical, year_str_historical, index_historical)=year_copernicus(1850,2014)\n",
    "temporal_resolution = 'monthly'\n",
    "# Register data from copernicus for humidity in a dataframe and production of a csv file for the period indicated above\n",
    "Sea_water_temperature_historical = dataframe_csv_copernicus(temporal_resolution,year_str_historical,copernicus_elements.experiments_historical,copernicus_elements.models,out_path,global_variable, name_variable,area)    "
   ]
  },
  {
   "cell_type": "markdown",
   "id": "d8909323",
   "metadata": {},
   "source": [
    "#### Projection data"
   ]
  },
  {
   "cell_type": "code",
   "execution_count": null,
   "id": "2d135b21",
   "metadata": {},
   "outputs": [],
   "source": [
    "(year, year_str, index)=year_copernicus(2020,2100)\n",
    "temporal_resolution = 'monthly'\n",
    "# Register data from copernicus for humidity in a dataframe and production of a csv file for the period indicated above\n",
    "Sea_water_temperature = dataframe_csv_copernicus(temporal_resolution,year_str,copernicus_elements.experiments,copernicus_elements.models,out_path,global_variable, name_variable,area)    "
   ]
  },
  {
   "cell_type": "markdown",
   "id": "534cc101",
   "metadata": {},
   "source": [
    "<a id='water_availability'></a>\n",
    "### Water availability\n",
    "Represented with water stress\n",
    "\n",
    "Did not find historical data, look into world bank\n",
    "\n",
    "Source for projections from 2020 to 2050 : https://www.wri.org/data/aqueduct-water-stress-projections-data\n",
    "Informations about how the shp is designed located here : data_folder, Water_Availability_WaterStress\\aqueduct_projections_20150309_shp\\aqueduct_projections_schematic_20140615 (excel sheet)"
   ]
  },
  {
   "cell_type": "code",
   "execution_count": null,
   "id": "9d1d4569",
   "metadata": {},
   "outputs": [],
   "source": [
    "## Projection of water stress\n",
    "# register path to water stress data\n",
    "water_stress_location_path=os.path.join(data_folder,'Water_Availability_WaterStress/aqueduct_projections_20150309_shp/aqueduct_projections_20150309.shp')\n",
    "# register data in default projection 4326\n",
    "water_stress = gpd.read_file(water_stress_location_path).to_crs(bCRS) # uncertain that projeciton is the default one\n",
    "ws_geometry = water_stress.geometry # register geometry for later\n",
    "# filter columns of dataframe that are not water stress related\n",
    "elements_to_drop=('sv','ut','bt','r','u','c','20','BasinID','dwnBasinID','Shape_Leng','Shape_Le_1') # if a column contains a str in this list, the column should be drop\n",
    "# 20 to remove the projections for 2020 (the projections were made in 2015)\n",
    "\n",
    "for name_column_out in elements_to_drop:\n",
    "    water_stress=water_stress.drop(water_stress.filter(regex=name_column_out).columns, axis=1)\n",
    "    \n",
    "# making name of columns more precise\n",
    "# information on column names come from \n",
    "#\\\\COWI.net\\projects\\A245000\\A248363\\CRVA\\Datasets\\Water_Availability_WaterStress\\aqueduct_projections_20150309_shp\\aqueduct_projections_schematic_20140615\n",
    "scenarios_ws=['ssp2_rcp45','ssp2_rcp85','ssp3_rcp85']\n",
    "projections_ws = ['projection_2030 ','projection_2040 ']\n",
    "old_name = ['ws', '30','40','24','28','38','tl']\n",
    "new_name = ['water stress ','projection_2030 ','projection_2040 ','ssp2_rcp45','ssp2_rcp85','ssp3_rcp85','']\n",
    "\n",
    "for o,n in zip(old_name,new_name): # iterate accross the two list at a time\n",
    "    water_stress.columns = water_stress.columns.str.replace(o, n) # replacing \"40\" by \"projection_2040\" in names of columns\n",
    "        \n",
    "# water_stress is a panda dataframe, not geopanda.dataframe. Need to convert it again in geopandas.geodataframe.GeoDataFrame. \n",
    "# Otherwise, impossible to use sjoin later\n",
    "water_stress = GeoDataFrame(water_stress, crs=bCRS, geometry=ws_geometry) # convert panda.dataframe in geopandas.geodataframe.GeoDataFrame\n",
    "\n",
    "# join information from water stress to projects\n",
    "\n",
    "projects=projects.sjoin(water_stress,how='left',predicate='within', lsuffix=\"_left\") # need to rename name of columns to make it understandable\n",
    "projects.drop('index_right', axis=1, inplace=True) # drop column containing index from water stress\n",
    "projects # projects stays a geopandas.geodataframe.GeoDataFrame"
   ]
  },
  {
   "cell_type": "code",
   "execution_count": null,
   "id": "e076e5c1",
   "metadata": {},
   "outputs": [],
   "source": [
    "Display_map_projects(projects,study_area,'water stress','Map presenting water stress projections for Mozambique projects', 2, 3, out_path)\n",
    "# This function aims to display every projects wanted by the user with a map as a background\n",
    "### Parameters of the function : \n",
    "# projects: geopanda.dataframe containing projects information\n",
    "# study_area: geopanda.dataframe containing study_area information\n",
    "# str_interest: string of the climate variable of interest to be represented\n",
    "# title_for_image: title for image composed of subplots\n",
    "# number_rows: the user should indicate the number of rows for the subplots\n",
    "# number_cols: the user should indicate the number of cols for the subplots\n",
    "# out_path: begenning of the path to register the image"
   ]
  },
  {
   "cell_type": "code",
   "execution_count": null,
   "id": "94dd92ea",
   "metadata": {
    "scrolled": true
   },
   "outputs": [],
   "source": [
    "# select climate variable to be represented\n",
    "columns_to_represent= list(projects.filter(regex='water stress').columns) # select columns that should be presented in plots\n",
    "columns_to_represent2=[ ('\\n').join(k.split(' ')[-2:])  for k in columns_to_represent] # delete 'water stress' from \n",
    "# the list column_to_represent and insert \\n to do a back to line\n",
    "number_plots = len(columns_to_represent)\n",
    "\n",
    "# create figure\n",
    "fig, axs = plt.subplots(nrows=2,ncols=3, sharex=True, sharey=True,figsize=(8,8))\n",
    "\n",
    "color_dict = {'Low':'green', 'Antarctica':'white', 'Asia':'pink', \n",
    "              'Europe':'green', 'North America':'brown',\n",
    "              'Oceania':'blue', 'Seven seas (open ocean)':'gray',\n",
    "              'South America':'red'}\n",
    "\n",
    "# map in the subplot\n",
    "k = 0\n",
    "\n",
    "for i in np.arange(0,3):# columns\n",
    "    for j in np.arange(0,2): # lines\n",
    "        base = study_area.plot(ax=axs[j][i],color='white', edgecolor='black')# background is map of the study area presenting \n",
    "        # country borders of this area\n",
    "        projects.plot(ax=axs[j][i], column=columns_to_represent[k])# plot the projects as points; legeng = True \n",
    "        # impose a color for the projects point depending on the value in the column\n",
    "        \n",
    "        # give subplot a title\n",
    "        ax_created = axs[j][i]\n",
    "        ax_created.title.set_text(columns_to_represent2[k])\n",
    "        \n",
    "        k+=1 # incrementation to iterate columns_to_represent\n",
    "plr\n",
    "plt.suptitle('Map presenting water stress projections for Mozambique projects') # give a global name to the image\n",
    "plt.savefig(os.path.join(out_path,'figures','water stress','Map presenting water stress projections for Mozambique projects'),format ='png') # savefig or save text must be before plt.show. for savefig, format should be explicity written\n",
    "plt.show()"
   ]
  },
  {
   "cell_type": "code",
   "execution_count": null,
   "id": "edbca3c9",
   "metadata": {},
   "outputs": [],
   "source": [
    "np.arange(0,3)"
   ]
  },
  {
   "cell_type": "code",
   "execution_count": null,
   "id": "7a2e45de",
   "metadata": {},
   "outputs": [],
   "source": [
    "axs"
   ]
  },
  {
   "cell_type": "code",
   "execution_count": null,
   "id": "e2840572",
   "metadata": {},
   "outputs": [],
   "source": [
    "projects"
   ]
  },
  {
   "cell_type": "code",
   "execution_count": null,
   "id": "1e1321c9",
   "metadata": {},
   "outputs": [],
   "source": [
    "columns_to_represent= list(projects.filter(regex='water stress').columns) # select columns that should be presented in plots\n",
    "columns_to_represent=[ (' ').join(k.split(' ')[-2:])  for k in columns_to_represent] # delete 'water stress' from the list column_to_represent"
   ]
  },
  {
   "cell_type": "code",
   "execution_count": null,
   "id": "1ccbd298",
   "metadata": {},
   "outputs": [],
   "source": [
    "columns_to_represent"
   ]
  },
  {
   "cell_type": "code",
   "execution_count": null,
   "id": "7234cf58",
   "metadata": {},
   "outputs": [],
   "source": [
    "[s.replace('water stress ', '') for s in columns_to_represent]\n",
    "columns_to_represent"
   ]
  },
  {
   "cell_type": "code",
   "execution_count": null,
   "id": "66bb0686",
   "metadata": {},
   "outputs": [],
   "source": [
    "# plot results for projects\n",
    "columns_to_represent= list(projects.filter(regex='water stress').columns) # select columns that should be presented in plots\n",
    "number_plots = len(columns_to_represent)\n",
    "\n",
    "# trying to do a map with shape of area and points projets\n",
    "#projects.plot(column='water stress projection_2030 ssp2_rcp45', legend=True)"
   ]
  },
  {
   "cell_type": "code",
   "execution_count": null,
   "id": "90469688",
   "metadata": {},
   "outputs": [],
   "source": [
    "fig, (ax1, ax2,ax3) = plt.subplots(ncols=3, sharex=True, sharey=True,figsize=(8,8))\n",
    "#norm = plt.colors.Normalize(vmin=projects.val.min(), vmax=projects.val.max()) # to normalize legend between the different plots\n",
    "# wait to see if new intallation worked\n",
    "base = study_area.plot(ax=ax1,color='white', edgecolor='black')\n",
    "projects.plot(ax=ax1, column='water stress projection_2030 ssp2_rcp45',legend=True)\n",
    "base = study_area.plot(ax=ax2,color='white', edgecolor='black')\n",
    "projects.plot(ax=ax2, column='water stress projection_2040 ssp2_rcp45',legend=True)\n",
    "base = study_area.plot(ax=ax3,color='white', edgecolor='black')\n",
    "projects.plot(ax=ax3, column='water stress projection_2030 ssp2_rcp85',legend=True)\n",
    "#projects.plot(column='water stress projection_2030 ssp2_rcp45',ax=base, legend=True);"
   ]
  },
  {
   "cell_type": "markdown",
   "id": "e6564dce",
   "metadata": {},
   "source": [
    "<a id='floods'></a>\n",
    "## Floods - Hydrosphere\n",
    "\n",
    "####  Fluvial\n",
    "Sources:\n",
    "1) JRC Flood Hazard Map, http://data.europa.eu/89h/jrc-floods-floodmapgl_rp100y-tif : The map depicts flood prone areas at global scale for flood events with 100-year return period. Resolution is 30 arcseconds (approx. 1km). Cell values indicate water depth (in m). The map can be used to assess flood exposure and risk of population and assets. NOTE: this dataset is based on JRC elaborations and is not an official flood hazard map (for details and limitations please refer to related publications).\n",
    "2) Dataset of tropical cyclone Idai and subsequent flood disaster in Southern Africa (March 2019). National Tibetan Plateau Data Center, https://data.tpdc.ac.cn/en/data/8d836d13-a8e6-492b-9324-00fbfce40619/ \n",
    "\n",
    "#### Coastal \n",
    "Source: WRI Aqueduct database"
   ]
  },
  {
   "cell_type": "code",
   "execution_count": null,
   "id": "14df49eb",
   "metadata": {},
   "outputs": [],
   "source": [
    "# save the path for the image presenting the floods which have a return period of a 100 year\n",
    "flood_path=os.path.join(data_folder,'floodMapGL_rp100y/floodMapGL_rp100y.tif')\n",
    "\n",
    "buffer_flood=1000#meters # pas sure : sert a avoir les \n",
    "if buffer_flood != 0:\n",
    "    projects_bufFlood=projects.to_crs(mCRS)  #project to crs with metric units to get buffer in meters\n",
    "    projects_bufFlood['geometry']=projects.to_crs(mCRS).buffer(buffer_flood) #assign the buffer as the new geometry - \n",
    "    projects_bufFlood=projects_bufFlood.to_crs(bCRS)#project back to orginal crs\n",
    "\n",
    "projects['floods100yr_max']=pd.DataFrame(zonal_stats(vectors=projects_bufFlood, raster=flood_path, \n",
    "                                                            all_touched=True, stats='max'))\n",
    "#plot\n",
    "fig, ax = plt.subplots()\n",
    "floods = rioxarray.open_rasterio(flood_path)\n",
    "floods_clip = floods.rio.clip(study_area.geometry, study_area.crs, drop=True)\n",
    "floods_clip.plot(ax=ax,cmap='Blues',vmin=0,vmax=25)\n",
    "projects.plot(ax=ax,color='Black') # mapping the projects located in the study area\n",
    "#cb.set_label('Water depth (m)') # name for color scale ne fonctionne pas car cette ligne appartient a basemap language\n",
    "ax.set_title('Floods extent with a\\nreturn period of 100 years') # set a title to the image\n",
    "\n",
    "#close\n",
    "floods_clip.close()\n",
    "floods.close()"
   ]
  },
  {
   "cell_type": "markdown",
   "id": "9a2421d5",
   "metadata": {},
   "source": [
    "#### Sea level rise\n",
    "\n",
    "Global Mean Sea Level\n",
    "Source : https://climate.nasa.gov/vital-signs/sea-level/ ; used the Global Mean Sea Level (Global Isostatic Adjustment (GIA) applied) variation (mm) with respect to 20-year TOPEX/Jason collinear mean reference \n",
    "\n",
    "Sea Level Trends\n",
    "Source : https://sealevel.colorado.edu/trend-map : sea level trend from 1992 to 2022"
   ]
  },
  {
   "cell_type": "markdown",
   "id": "b0881784",
   "metadata": {},
   "source": [
    "<a id='second_effect_climate_variables'></a>\n",
    "# Second effect climate variables\n",
    "\n",
    "[Home](#beginning_CRVA)"
   ]
  },
  {
   "cell_type": "markdown",
   "id": "ce6fbd21",
   "metadata": {},
   "source": [
    "<a id='cyclone_risk'></a>\n",
    "## Cyclones\n",
    "data source: https://wesr.unepgrid.ch/?project=MX-XVK-HPH-OGN-HVE-GGN&language=en UNEP-GRID, \n",
    "\n",
    "cyclone risk level from 1 (low) to 5 (extreme)"
   ]
  },
  {
   "cell_type": "code",
   "execution_count": null,
   "id": "a4a6dd62",
   "metadata": {},
   "outputs": [],
   "source": [
    "#cyclone data path\n",
    "cyclone_path=os.path.join(data_folder,'cyclones/unep_grid/cy_risk.tif')\n",
    " \n",
    "   # \\\\COWI.net\\projects\\A245000\\A248363\\CRVA\\Datasets\\cyclones\\unep_grid\n",
    "#spatial stats\n",
    "projects['cyclone_risk']=pd.DataFrame(zonal_stats(vectors=projects_buf, raster=cyclone_path, all_touched=True, stats='max'))\n",
    "\n",
    "#show table\n",
    "projects[[project_id,'cyclone_risk']].head()\n",
    "\n",
    "#plot\n",
    "fig, ax = plt.subplots()\n",
    "cyclone = rioxarray.open_rasterio(cyclone_path)\n",
    "cyclone_clip = cyclone.rio.clip(study_area.geometry, study_area.crs, drop=True)\n",
    "cyclone_clip.plot(ax=ax)\n",
    "projects.plot(ax=ax) # plot the projects on the map\n",
    "\n",
    "plt.title('Cyclone risk level') # title of the graph\n",
    "\n",
    "#close\n",
    "cyclone_clip.close()\n",
    "cyclone.close()"
   ]
  },
  {
   "cell_type": "markdown",
   "id": "c263a351",
   "metadata": {},
   "source": [
    "<a id='climate_change_info_for_each_project_in_study_area'></a>\n",
    "# Climate change information concerning the projects in the study area\n",
    "\n",
    "Display climate change information concerning the project you are looking into.\n",
    "\n",
    "[Home](#beginning_CRVA)"
   ]
  },
  {
   "cell_type": "code",
   "execution_count": null,
   "id": "8b397fbc",
   "metadata": {},
   "outputs": [],
   "source": [
    "# selection of projects in the study area\n",
    "#RAPY: not useful since study area is just for plotting purposes, projects should be only the relevant ones already\n",
    "#projects_of_interest=projects[projects.within(study_area)]\n",
    "\n",
    "# selection of the information to display\n",
    "list_of_names=['Name','province','climatology-hd40_2020-2039_ssp245_median',\n",
    "               'daily-median-Wind-2100-ssp5_8_5','landslides_THmax','floods100yr_max','cyclone_risk']\n",
    "\n",
    "# display selected climate change information of the projects in the study area\n",
    "projects_of_interest_filtered = projects[list_of_names]\n",
    "projects_of_interest_filtered"
   ]
  },
  {
   "cell_type": "markdown",
   "id": "6cae4afe",
   "metadata": {},
   "source": [
    "# Export\n",
    "Exports the calculated climate variables to a csv file\n",
    "\n",
    "[Home](#beginning_CRVA)"
   ]
  },
  {
   "cell_type": "code",
   "execution_count": null,
   "id": "9f64fe4a",
   "metadata": {},
   "outputs": [],
   "source": [
    "projects.T.to_csv('outputs/csv/projects_climate_risks.csv')"
   ]
  },
  {
   "cell_type": "code",
   "execution_count": null,
   "id": "1702c5cb",
   "metadata": {},
   "outputs": [],
   "source": []
  }
 ],
 "metadata": {
  "kernelspec": {
   "display_name": "Python 3 (ipykernel)",
   "language": "python",
   "name": "python3"
  },
  "language_info": {
   "codemirror_mode": {
    "name": "ipython",
    "version": 3
   },
   "file_extension": ".py",
   "mimetype": "text/x-python",
   "name": "python",
   "nbconvert_exporter": "python",
   "pygments_lexer": "ipython3",
   "version": "3.10.6"
  }
 },
 "nbformat": 4,
 "nbformat_minor": 5
}
