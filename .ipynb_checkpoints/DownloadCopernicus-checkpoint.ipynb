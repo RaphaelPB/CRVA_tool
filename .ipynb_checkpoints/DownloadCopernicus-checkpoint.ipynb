{
 "cells": [
  {
   "cell_type": "markdown",
   "id": "b93dcc14",
   "metadata": {},
   "source": [
    "This notebook is meant to download data from copernicus CMIP6.\n",
    "\n",
    "Data source : https://cds.climate.copernicus.eu/cdsapp#!/dataset/projections-cmip6?tab=form"
   ]
  },
  {
   "cell_type": "markdown",
   "id": "dbaa68de",
   "metadata": {},
   "source": [
    "# User input"
   ]
  },
  {
   "cell_type": "code",
   "execution_count": 1,
   "id": "59a4269d",
   "metadata": {},
   "outputs": [],
   "source": [
    "\n",
    "global_variable = 'pr'\n",
    "name_variable = 'precipitation' \n",
    "\n",
    "# 'tas' 'near_surface_air_temperature'\n",
    "# 'tasmax' 'daily_maximum_near_surface_air_temperature'\n",
    "# 'tasmin' 'daily_minimum_near_surface_air_temperature'\n",
    "# 'hurs' 'near_surface_specific_humidity'\n",
    "# 'Wind' 'near_surface_wind_speed'\n",
    "\n",
    "temporal_resolution = 'daily'\n",
    "\n",
    "y_start = 2015\n",
    "y_end = 2100\n",
    "\n",
    "# wind register at 10 m"
   ]
  },
  {
   "cell_type": "markdown",
   "id": "843fe416",
   "metadata": {},
   "source": [
    "# Functions and packages"
   ]
  },
  {
   "cell_type": "code",
   "execution_count": 2,
   "id": "9510fc3b",
   "metadata": {},
   "outputs": [],
   "source": [
    "import pandas as pd\n",
    "import numpy as np\n",
    "import numpy.ma as ma\n",
    "import netCDF4 as nc#not directly used but needs to be imported for some nc4 files manipulations, use for nc files\n",
    "from netCDF4 import Dataset\n",
    "import xarray as xr\n",
    "import datetime # to have actual date\n",
    "import os\n",
    "import os.path\n",
    "import cdsapi # for copernicus function\n",
    "import shutil\n",
    "from datetime import datetime"
   ]
  },
  {
   "cell_type": "markdown",
   "id": "c3262e08",
   "metadata": {},
   "source": [
    "# Out path"
   ]
  },
  {
   "cell_type": "code",
   "execution_count": 3,
   "id": "ead08c23",
   "metadata": {},
   "outputs": [],
   "source": [
    "out_path=r'\\\\COWI.net\\projects\\A245000\\A248363\\CRVA\\Datasets'"
   ]
  },
  {
   "cell_type": "markdown",
   "id": "53516663",
   "metadata": {},
   "source": [
    "# Area information\n",
    "\n",
    "This code download data one area at the time. The user must indicate which part of the word he/she wnats to download.\n",
    "\n",
    "Reminder: \n",
    "\n",
    "latitude is vertical, it specifies North-South positions.\n",
    "\n",
    "longitude is horizontal, it specifies West-East positions."
   ]
  },
  {
   "cell_type": "code",
   "execution_count": 4,
   "id": "1f2fba23",
   "metadata": {},
   "outputs": [],
   "source": [
    "# default coordinates are the ones of Mozambique\n",
    "\n",
    "name_area = 'all-Mozambique'\n",
    "\n",
    "North = -10\n",
    "South = -27\n",
    "West = 30\n",
    "East = 41\n",
    "\n",
    "area = [North, West, South, East] # list format"
   ]
  },
  {
   "cell_type": "markdown",
   "id": "e9b3f294",
   "metadata": {},
   "source": [
    "# Class"
   ]
  },
  {
   "cell_type": "markdown",
   "id": "b9e29fa6",
   "metadata": {},
   "source": [
    "### Calendar class"
   ]
  },
  {
   "cell_type": "code",
   "execution_count": 5,
   "id": "d2d6a2c5",
   "metadata": {},
   "outputs": [],
   "source": [
    "# class to define parameter of time that remain constant durinf the whole script\n",
    "class calendar:\n",
    "    default_month = [ \n",
    "                '01', '02', '03',\n",
    "                '04', '05', '06',\n",
    "                '07', '08', '09',\n",
    "                '10', '11', '12',\n",
    "                ]\n",
    "    default_day = [\n",
    "                '01', '02', '03',\n",
    "                '04', '05', '06',\n",
    "                '07', '08', '09',\n",
    "                '10', '11', '12',\n",
    "                '13', '14', '15',\n",
    "                '16', '17', '18',\n",
    "                '19', '20', '21',\n",
    "                '22', '23', '24',\n",
    "                '25', '26', '27',\n",
    "                '28', '29', '30',\n",
    "                '31',\n",
    "                ]\n",
    "    #actual_date = datetime.date.today()\n",
    "    #actual_year = actual_date.year"
   ]
  },
  {
   "cell_type": "markdown",
   "id": "c24c5e67",
   "metadata": {},
   "source": [
    "### Copernicus class"
   ]
  },
  {
   "cell_type": "code",
   "execution_count": 6,
   "id": "d8f79fb3",
   "metadata": {},
   "outputs": [],
   "source": [
    "## Definition of tuples that will be useful to search which data are available or not\n",
    "# make it tuples to make unchangeable\n",
    "class copernicus_elements:\n",
    "    # there is 58 models\n",
    "    models =('access_cm2','awi_cm_1_1_mr','bcc_csm2_mr','cams_csm1_0','canesm5_canoe','cesm2_fv2','cesm2_waccm_fv2','cmcc_cm2_hr4','cmcc_esm2','cnrm_cm6_1_hr','e3sm_1_0','e3sm_1_1_eca','ec_earth3_aerchem','ec_earth3_veg','fgoals_f3_l','fio_esm_2_0','giss_e2_1_g','hadgem3_gc31_ll','iitm_esm','inm_cm5_0','ipsl_cm6a_lr','kiost_esm','miroc6','miroc_es2l','mpi_esm1_2_hr','mri_esm2_0','norcpm1','noresm2_mm','taiesm1','access_esm1_5','awi_esm_1_1_lr','bcc_esm1','canesm5','cesm2','cesm2_waccm','ciesm','cmcc_cm2_sr5','cnrm_cm6_1','cnrm_esm2_1','e3sm_1_1','ec_earth3','ec_earth3_cc','ec_earth3_veg_lr','fgoals_g3','gfdl_esm4','giss_e2_1_h','hadgem3_gc31_mm','inm_cm4_8','ipsl_cm5a2_inca','kace_1_0_g','mcm_ua_1_0','miroc_es2h','mpi_esm_1_2_ham','mpi_esm1_2_lr','nesm3','noresm2_lm','sam0_unicon','ukesm1_0_ll')\n",
    "    experiments = ('ssp1_1_9','ssp1_2_6','ssp4_3_4','ssp5_3_4os','ssp2_4_5','ssp4_6_0','ssp3_7_0','ssp5_8_5')\n",
    "    experiments_historical=('historical',)"
   ]
  },
  {
   "cell_type": "markdown",
   "id": "80c51b12",
   "metadata": {},
   "source": [
    "## Functions"
   ]
  },
  {
   "cell_type": "code",
   "execution_count": 7,
   "id": "d9542f8c",
   "metadata": {},
   "outputs": [],
   "source": [
    "################################################ Period for copernicus function ################################################\n",
    "# Aim of the function: by giving it a first and last year of the period that must analyzed, this function produce several \n",
    "# vectors,containing time informations, useful to download and treat data from CMIP6 projections (https://cds.climate.copernicus.eu/cdsapp#!/dataset/projections-cmip6?tab=overview )\n",
    "# Those time vectors are used in the copernicus_data and the dataframe_copernicus and csv_copernicus functions\n",
    "\n",
    "# function year_copernicus produce \n",
    "# year: a vector containing all the year in the period of interest\n",
    "# year_str: an array containing all the year in the period of interest in the string format\n",
    "# index: an array containing the index of the year and year_str\n",
    "#### Parameters of the function\n",
    "# first_year: number in int format, of the first year of the period of interest\n",
    "# last_year: number in int format, of the last year of the period of interest\n",
    "def year_copernicus(first_year,last_year):\n",
    "    year = np.arange(first_year,(last_year+1),1) # create vector of years\n",
    "    year_str = [0]*len(year) # create initiale empty vector to convert years in int\n",
    "    index = np.arange(0,len(year)) # create vector of index for year\n",
    "    i = 0 # initialize index\n",
    "    for i in index: # convert all the date in string format\n",
    "        year_str[i]=str(year[i])\n",
    "    return (year, year_str, index)\n",
    "\n",
    "# function date_copernicus produce \n",
    "# dates: the format depend on the temporal reolution, but always contain the dates of the period of interest.\n",
    "#        with temporal_resolution=daily, dates is a DatetimeIndex\n",
    "#        with temporal_resolution=monthly, dates is a list\n",
    "# index_dates: an array containing the index of the dates\n",
    "#### Parameters of the function\n",
    "# temporal_resolution: daily or monthly\n",
    "# year_str: ???? produce by function year_copernicus, containing the year of the period of interest in string format\n",
    "def date_copernicus(temporal_resolution,year_str):\n",
    "    start_date = \"01-01-\"+year_str[0] # string start date based on start year\n",
    "    stop_date = \"31-12-\"+year_str[len(year_str)-1] # string stop date based on stop year\n",
    "    if temporal_resolution =='daily':\n",
    "        # vector of dates between start date and stop date\n",
    "        dates = pd.date_range(start_date,stop_date)# dates is a pandas.core.indexes.datetimes.DatetimeIndex\n",
    "        # By default, freq = 'D', which means calendar day frequency (source : https://pandas.pydata.org/docs/user_guide/timeseries.html#timeseries-offset-aliases)\n",
    "        #index_dates = np.arange(0,len(dates)) # vector containning index o dates vector\n",
    "    if temporal_resolution =='monthly':\n",
    "        dates = pd.date_range(start_date,stop_date,freq='MS') # vector of dates between start date and stop date\n",
    "        dates=list(dates.strftime('%m-%Y')) # dates is an pandas.core.indexes.base.Index, not a pandas.core.indexes.datetimes.DatetimeIndex\n",
    "    #if temporal_resolution =='fixed': trouver donnees pour gerer cela\n",
    "    index_dates = np.arange(0,len(dates)) # vector containning index o dates vector\n",
    "    return (dates, index_dates)"
   ]
  },
  {
   "cell_type": "code",
   "execution_count": 8,
   "id": "1bec7c7b",
   "metadata": {},
   "outputs": [],
   "source": [
    "########################################### Download data from Copernicus Website ############################################\n",
    "# Aim of the function: this function aims to downloaded with the function copernicus_data the files of interest from the website\n",
    "# Copernicus CMIP6\n",
    "# Actions of this function\n",
    "#     1) Create the string indicating the period of interest\n",
    "#     2) Download data, with its corresponding experiments and models\n",
    "#        2 a) Creates path for file\n",
    "#        2 b) Thanks to function 'copernicus_data', download the data inthe path just created\n",
    "\n",
    "# Parameters of the function\n",
    "# temporal_resolution: 'daily', 'monthly', or 'fixed'. String type \n",
    "# year_str: list containing all the years under the string type and in the period of interest\n",
    "# experiments: copernicus_elements.experiments\n",
    "# models: copernicus_elements.models\n",
    "# out_path: path were the outputs are registered. Defined by the user at the beginning of the code \n",
    "# global_variable: global name of the climate variable of interest (example: Wind)\n",
    "# name_variable: name of the elements downloaded from copernicus (example: 'near_surface_wind_speed')\n",
    "# area: list containing latitudes and longitudes of area of interest\n",
    "# name_area: Name of the area of interest\n",
    "# source: name of the source of the data, by default it is 'Copernicus-CMIP6'\n",
    "\n",
    "def download_copernicus(temporal_resolution,year_str,experiments,models,out_path, global_variable, name_variable,area, name_area,source='Copernicus-CMIP6'):    \n",
    "    # create string for name of folder depending on type of period\n",
    "    if temporal_resolution == 'fixed':\n",
    "        period = 'fixed'\n",
    "    else:\n",
    "        period=year_str[0]+'-'+year_str[len(year_str)-1]\n",
    "        \n",
    "    for SSP in experiments:\n",
    "        experiment = (SSP,) # create tuple for iteration of dataframe\n",
    "        print('Test with scenario '+SSP)\n",
    "        for model_simulation in models:\n",
    "            model =(model_simulation,) # create tuple for iteration of dataframe\n",
    "            print('Test with model '+model_simulation)\n",
    "            # path were the futur downloaded file is registered\n",
    "            path_for_file= os.path.join(out_path,name_variable,source,'raw_data',period,SSP,model_simulation)\n",
    "            # existence of path_for_file tested in copernicus function\n",
    "            copernicus_data(temporal_resolution,SSP,name_variable,model_simulation,year_str,area,path_for_file,out_path,name_area,source)\n",
    "\n",
    "    return"
   ]
  },
  {
   "cell_type": "code",
   "execution_count": 9,
   "id": "350b5a88",
   "metadata": {},
   "outputs": [],
   "source": [
    "################################################### Copernicus data function ###################################################\n",
    "# Aim of the function : Determine if the data were already downloadeed or not. If the data were not downloaded, call\n",
    "# function 'try_download_copernicus' to download them. If the data were already downloaded but not extracted, call function\n",
    "# 'download_extract'\n",
    "# Actions of this function\n",
    "#     1) create the string of the path where the data will be registered \n",
    "#        \n",
    "#     2) Check if the path where the data will be registered already exists or not\n",
    "#        2 a) The path where the data will be registered does not exist\n",
    "#             The path where are the compressed data exists ?\n",
    "#                   ---> no : call the 'try_download_copernicus' to download and extract the data of interest\n",
    "#                   ---> yes : is the path empty ?\n",
    "#                              > yes : use 'try_download_copernicus' to download and extract the data of interest\n",
    "#                              > no : call function 'download_extract' to extract the files in this path to path_for_file\n",
    "#        2 b) The path where the data will be registered does exist\n",
    "#             Is the path empty ?\n",
    "#                   ---> yes : the path where the compressed data are exists ?\n",
    "#                             > no : use 'try_download_copernicus' to download and extract the data of interest\n",
    "#                             > yes : is the folder empty ?\n",
    "#                                     * yes : use 'try_download_copernicus' to download and extract the data of interest\n",
    "#                                     * no : call function 'download_extract' to extract the files in this path to path_for_file\n",
    "#                   ---> no : the data were downloaded and extracted for the elements of interest \n",
    "\n",
    "#### Parameters of the function\n",
    "# temporal_resolution : daily or monthly or fixed\n",
    "# SSP : scenario that is studied \"Historical\", \"SSP1-1.9\", \"SSP1-2.6\" ...\n",
    "# name_variable : variable to be studied\n",
    "# model: model of projection to choose\n",
    "# year: year(s) of study to choose\n",
    "# area: area of study, if not specific, area should be an empty array area=[]\n",
    "# path_for_file: path where the file must be unzipped\n",
    "# out_path: path were all the outputs are registered, defined by the user in the begining of the main code\n",
    "# name_area :  Name of the area of interest\n",
    "# source: name of the source of the data (here 'Copernicus-CMIP6')\n",
    "\n",
    "def copernicus_data(temporal_resolution,SSP,name_variable,model,year,area,path_for_file,out_path,name_area,source): \n",
    "    # create path for the downloaded file\n",
    "    start_path = os.path.join(out_path,'Data_download_zip')\n",
    "    file_download=create_file_download_path(start_path,name_variable,name_area,SSP,model,year,temporal_resolution,source)\n",
    "    \n",
    "    if not os.path.isdir(path_for_file):\n",
    "        # the path for the file does not exist\n",
    "        print('path_for_file does not exist: the data may not have been downloaded') \n",
    "        if not os.path.isdir(file_download):\n",
    "            print('file_download does not exist: the data were not downloaded')\n",
    "            # function try to download from copernicus\n",
    "            try_download_copernicus(temporal_resolution,SSP,name_variable,model,area,year,path_for_file,file_download,name_area)\n",
    "            return\n",
    "            \n",
    "        else: # if the path already exist, the data in zip format should also exists\n",
    "            if not os.path.isfile(os.path.join(file_download,'download.zip')):\n",
    "                print('The path for the download file exists, but is empty')\n",
    "                # function try to download from copernicus\n",
    "                try_download_copernicus(temporal_resolution,SSP,name_variable,model,area,year,path_for_file,file_download,name_area)                \n",
    "                return\n",
    "            else:\n",
    "                print('file_download does exist, the data have been downloaded, but not extracted')\n",
    "                download_extract(path_for_file,file_download,name_area)\n",
    "                return\n",
    "                \n",
    "    else: \n",
    "        # the path for the file exists\n",
    "        if not os.listdir(path_for_file): # if the path is empty\n",
    "            if not os.path.isdir(file_download):\n",
    "                print('file_download does not exist: the data were not downloaded')\n",
    "                # function try to download from copernicus\n",
    "                try_download_copernicus(temporal_resolution,SSP,name_variable,model,area,year,path_for_file,file_download,name_area)\n",
    "                return\n",
    "\n",
    "            else: # if the path already exist, the data in zip format should also exists\n",
    "                if not os.path.isfile(os.path.join(file_download,'download.zip')):\n",
    "                    print('The path for the download file exists, but is empty')\n",
    "                    # function try to download from copernicus\n",
    "                    try_download_copernicus(temporal_resolution,SSP,name_variable,model,area,year,path_for_file,file_download,name_area)\n",
    "                    return\n",
    "                else:\n",
    "                    print('file_download does exist, the data have been downloaded, but not extracted')\n",
    "                    download_extract(path_for_file,file_download,name_area)\n",
    "                    return\n",
    "        \n",
    "        else: # if the path is not empty\n",
    "            print(f'The data has already been downloaded and extracted at {path_for_file}')\n",
    "            return"
   ]
  },
  {
   "cell_type": "code",
   "execution_count": 10,
   "id": "3c6d6b4b",
   "metadata": {},
   "outputs": [],
   "source": [
    "################################################### try_download_copernicus function ###################################################\n",
    "# Aim of the function : download compressed files from the Copernicus CMIP6 website (indicated at the beginning of the website)\n",
    "\n",
    "##### Actions of the functions :\n",
    "#     1) import function cdsapi.Client(). Will be use in step 3, with c.retrieve\n",
    "#     2) Create the variables dictionnary, depending on the parameters of 'try_download_copernicus'. this dictionnary will then\n",
    "#        be used in the c.retrieve function\n",
    "#     3) Try to downloaded compressed file from Copernicus CMIP6 website. If parameters are not matching, will fall in except \n",
    "#        and continue\n",
    "#     4) Use function 'download_extract' to extract compressed files in path_for_file\n",
    "\n",
    "##### Parameters :\n",
    "# temporal_resolution : daily or monthly or fixed\n",
    "# SSP : scenario that is studied \"Historical\", \"SSP1-1.9\", \"SSP1-2.6\" ...\n",
    "# name_variable : variable to be studied\n",
    "# model: model of projection to choose\n",
    "# area: area of study, if not specific, area should be an empty array area=[]\n",
    "# year: year(s) of study to choose\n",
    "# path_for_file: path where the file must be unzipped\n",
    "# file_download : path where the compressed files under a zip format are registered\n",
    "# name_area : Name of the area of interest\n",
    "\n",
    "def try_download_copernicus(temporal_resolution,SSP,name_variable,model,area,year,path_for_file,file_download,name_area):\n",
    "    c = cdsapi.Client()# function to use the c.retrieve\n",
    "    # basic needed dictionnary to give to the c.retrieve function the parameters asked by the user\n",
    "    variables = {\n",
    "                'format': 'zip', # this function is only designed to download and unzip zip files\n",
    "                'temporal_resolution': temporal_resolution,\n",
    "                'experiment': SSP,\n",
    "                'variable': name_variable,\n",
    "                'model': model,\n",
    "    }\n",
    "\n",
    "    if area != []: # the user is interested by a sub region and not the whole region \n",
    "        variables.update({'area':area}) \n",
    "\n",
    "    if 'air_temperature' in name_variable: # test if variable is temperature\n",
    "        variables['level'] = '1000' # [hPa], value of the standard pressure at sea level is 1013.25 [hPa], so 1000 [hPa] is the neareste value. Other pressure value are available but there is no interest for the aim of this project\n",
    "\n",
    "    if temporal_resolution != 'fixed':# if 'fixed', no year, month, date to choose\n",
    "        variables['year']=year # period chosen by the user\n",
    "        variables['month']= calendar.default_month  # be default, all the months are given; defined in class calendar\n",
    "        if temporal_resolution == 'daily':\n",
    "            variables['day']= calendar.default_day # be default, all the days are given; defined in class calendar\n",
    "    # c.retrieve download the data from the website\n",
    "    try:\n",
    "        c.retrieve(\n",
    "            'projections-cmip6',\n",
    "            variables,\n",
    "            'download.zip') # the file in a zip format is registered in the current directory\n",
    "    except:\n",
    "        print('Some parameters are not matching')\n",
    "        return # stop the function, because some data the user entered are not matching\n",
    "    print('The file has been download')\n",
    "    # function to extract the downloaded zip\n",
    "    download_extract(path_for_file,file_download,name_area)\n",
    "    print('The file has been extracted')\n",
    "    return"
   ]
  },
  {
   "cell_type": "code",
   "execution_count": 11,
   "id": "f4958584",
   "metadata": {},
   "outputs": [],
   "source": [
    "# 'download_extract' function aims to extract in path_for_file, the downloaded file in zip format which is registered \n",
    "# in file_download\n",
    "\n",
    "#### Actions of the function :\n",
    "#     1) Check if the path_for_file, where the decompressed file should be registered, exists\n",
    "#        > no : ensure the creation of the path with os.makedirs\n",
    "#     2) Check if the compressed file is in the working directory\n",
    "#        > no : move the compressed fil to the working directory\n",
    "#     3) Extract the compressed file, in a folder named 'name_area'\n",
    "#     4) Check if the file_download, where the compressed file should be registered, exists\n",
    "#        > no : ensure the creation of the path with os.makedirs\n",
    "#     5) move the files to the appropriate places\n",
    "\n",
    "def download_extract(path_for_file,file_download,name_area):\n",
    "    # step 1\n",
    "    if not os.path.isdir(path_for_file): # path_for_file does not exists, need to ensure that is is created\n",
    "        os.makedirs(path_for_file) # to ensure the creation of the path\n",
    "        print('Path for the file is created, did not existed before')\n",
    "    \n",
    "    # step 2\n",
    "    if 'download.zip' not in os.listdir(): # check if download is in the working directory\n",
    "        print('The download zip is moved to the working directory')\n",
    "        path_downloaded_zip=os.path.join(file_download,'download.zip')\n",
    "        shutil.move(path_downloaded_zip,r'C:\\Users\\CLMRX\\OneDrive - COWI\\Documents\\GitHub\\CRVA_tool') # move download file to working directory\n",
    "    \n",
    "    # step 3\n",
    "    from zipfile import ZipFile\n",
    "    zf = ZipFile('download.zip', 'r')\n",
    "    zf.extractall(name_area) # if no precision of directory, extract in current directory\n",
    "    zf.close()\n",
    "\n",
    "    # step 4\n",
    "    if not os.path.isdir(file_download): # path_for_file does not exists, need to ensure that is is created\n",
    "        os.makedirs(file_download) # to ensure the creation of the path\n",
    "    \n",
    "    # step 5\n",
    "    # moving download to appropriate place\n",
    "    shutil.move('download.zip',file_download) # no need to delete 'download.zip' from inital place\n",
    "    shutil.move(name_area,path_for_file) # move extracted data to the path created for them\n",
    "    print('\\n The downloaded file is extracted')\n",
    "    return"
   ]
  },
  {
   "cell_type": "code",
   "execution_count": 12,
   "id": "a1770731",
   "metadata": {},
   "outputs": [],
   "source": [
    "# 'create_file_download_path' function to create path for the downloaded compressed folder\n",
    "\n",
    "def create_file_download_path(start_path,name_variable,name_area,SSP,model,year,temporal_resolution,source):\n",
    "    # adapt the name of the folder for the period, depending on the type of period\n",
    "    if len(year)==1:\n",
    "        file_download = os.path.join(start_path,name_variable,source,year,SSP,model,name_area)\n",
    "    elif len(year)>1:\n",
    "        period=year[0]+'-'+year[len(year)-1]\n",
    "        file_download = os.path.join(start_path,name_variable,source,period,SSP,model,name_area)\n",
    "    elif temporal_resolution == 'fixed':\n",
    "        file_download = os.path.join(start_path,name_variable,source,'fixed_period',SSP,model,name_area)\n",
    "    return file_download # returns string of the path where the downloaded compressed folder must be registered"
   ]
  },
  {
   "cell_type": "markdown",
   "id": "feccff81",
   "metadata": {},
   "source": [
    "# Register copernicus data"
   ]
  },
  {
   "cell_type": "code",
   "execution_count": 13,
   "id": "a29445a3",
   "metadata": {},
   "outputs": [],
   "source": [
    "(year, year_str, index)=year_copernicus(y_start,y_end)"
   ]
  },
  {
   "cell_type": "code",
   "execution_count": null,
   "id": "e85220a1",
   "metadata": {},
   "outputs": [
    {
     "name": "stdout",
     "output_type": "stream",
     "text": [
      "Test with scenario ssp1_1_9\n",
      "Test with model access_cm2\n",
      "path_for_file does not exist: the data may not have been downloaded\n",
      "file_download does not exist: the data were not downloaded\n"
     ]
    },
    {
     "name": "stderr",
     "output_type": "stream",
     "text": [
      "2023-07-11 14:11:45,764 INFO Welcome to the CDS\n",
      "2023-07-11 14:11:45,765 INFO Sending request to https://cds.climate.copernicus.eu/api/v2/resources/projections-cmip6\n",
      "2023-07-11 14:11:45,828 INFO Request is queued\n",
      "2023-07-11 14:11:46,904 INFO Request is failed\n",
      "2023-07-11 14:11:46,906 ERROR Message: an internal error occurred processing your request\n",
      "2023-07-11 14:11:46,908 ERROR Reason:  No matching data for request {'experiment': 'ssp119', 'model': 'ACCESS-CM2', 'temporal_resolution': 'day', 'variable': 'pr'}\n",
      "2023-07-11 14:11:46,909 ERROR   Traceback (most recent call last):\n",
      "2023-07-11 14:11:46,910 ERROR     File \"/opt/cdstoolbox/cdscompute/cdscompute/cdshandlers/services/handler.py\", line 59, in handle_request\n",
      "2023-07-11 14:11:46,910 ERROR       result = cached(context.method, proc, context, context.args, context.kwargs)\n",
      "2023-07-11 14:11:46,911 ERROR     File \"/opt/cdstoolbox/cdscompute/cdscompute/caching.py\", line 108, in cached\n",
      "2023-07-11 14:11:46,912 ERROR       result = proc(context, *context.args, **context.kwargs)\n",
      "2023-07-11 14:11:46,912 ERROR     File \"/opt/cdstoolbox/cdscompute/cdscompute/services.py\", line 124, in __call__\n",
      "2023-07-11 14:11:46,913 ERROR       return p(*args, **kwargs)\n",
      "2023-07-11 14:11:46,914 ERROR     File \"/opt/cdstoolbox/cdscompute/cdscompute/services.py\", line 60, in __call__\n",
      "2023-07-11 14:11:46,915 ERROR       return self.proc(context, *args, **kwargs)\n",
      "2023-07-11 14:11:46,916 ERROR     File \"/home/cds/cdsservices/services/esgf_wps/__init__.py\", line 30, in execute\n",
      "2023-07-11 14:11:46,916 ERROR       request_facets, request = facets.search(context, request)\n",
      "2023-07-11 14:11:46,917 ERROR     File \"/home/cds/cdsservices/services/esgf_wps/facets.py\", line 61, in search\n",
      "2023-07-11 14:11:46,918 ERROR       raise ValueError(f'No matching data for request {tmp_request}')\n",
      "2023-07-11 14:11:46,918 ERROR   ValueError: No matching data for request {'experiment': 'ssp119', 'model': 'ACCESS-CM2', 'temporal_resolution': 'day', 'variable': 'pr'}\n",
      "2023-07-11 14:11:46,967 INFO Welcome to the CDS\n",
      "2023-07-11 14:11:46,969 INFO Sending request to https://cds.climate.copernicus.eu/api/v2/resources/projections-cmip6\n",
      "2023-07-11 14:11:47,087 INFO Request is queued\n"
     ]
    },
    {
     "name": "stdout",
     "output_type": "stream",
     "text": [
      "Some parameters are not matching\n",
      "Test with model awi_cm_1_1_mr\n",
      "path_for_file does not exist: the data may not have been downloaded\n",
      "file_download does not exist: the data were not downloaded\n"
     ]
    },
    {
     "name": "stderr",
     "output_type": "stream",
     "text": [
      "2023-07-11 14:11:48,131 INFO Request is failed\n",
      "2023-07-11 14:11:48,132 ERROR Message: an internal error occurred processing your request\n",
      "2023-07-11 14:11:48,132 ERROR Reason:  No matching data for request {'experiment': 'ssp119', 'model': 'AWI-CM-1-1-MR', 'temporal_resolution': 'day', 'variable': 'pr'}\n",
      "2023-07-11 14:11:48,133 ERROR   Traceback (most recent call last):\n",
      "2023-07-11 14:11:48,134 ERROR     File \"/opt/cdstoolbox/cdscompute/cdscompute/cdshandlers/services/handler.py\", line 59, in handle_request\n",
      "2023-07-11 14:11:48,135 ERROR       result = cached(context.method, proc, context, context.args, context.kwargs)\n",
      "2023-07-11 14:11:48,136 ERROR     File \"/opt/cdstoolbox/cdscompute/cdscompute/caching.py\", line 108, in cached\n",
      "2023-07-11 14:11:48,137 ERROR       result = proc(context, *context.args, **context.kwargs)\n",
      "2023-07-11 14:11:48,138 ERROR     File \"/opt/cdstoolbox/cdscompute/cdscompute/services.py\", line 124, in __call__\n",
      "2023-07-11 14:11:48,138 ERROR       return p(*args, **kwargs)\n",
      "2023-07-11 14:11:48,139 ERROR     File \"/opt/cdstoolbox/cdscompute/cdscompute/services.py\", line 60, in __call__\n",
      "2023-07-11 14:11:48,140 ERROR       return self.proc(context, *args, **kwargs)\n",
      "2023-07-11 14:11:48,141 ERROR     File \"/home/cds/cdsservices/services/esgf_wps/__init__.py\", line 30, in execute\n",
      "2023-07-11 14:11:48,141 ERROR       request_facets, request = facets.search(context, request)\n",
      "2023-07-11 14:11:48,142 ERROR     File \"/home/cds/cdsservices/services/esgf_wps/facets.py\", line 61, in search\n",
      "2023-07-11 14:11:48,142 ERROR       raise ValueError(f'No matching data for request {tmp_request}')\n",
      "2023-07-11 14:11:48,143 ERROR   ValueError: No matching data for request {'experiment': 'ssp119', 'model': 'AWI-CM-1-1-MR', 'temporal_resolution': 'day', 'variable': 'pr'}\n"
     ]
    },
    {
     "name": "stdout",
     "output_type": "stream",
     "text": [
      "Some parameters are not matching\n",
      "Test with model bcc_csm2_mr\n",
      "path_for_file does not exist: the data may not have been downloaded\n"
     ]
    },
    {
     "name": "stderr",
     "output_type": "stream",
     "text": [
      "2023-07-11 14:11:48,374 INFO Welcome to the CDS\n",
      "2023-07-11 14:11:48,374 INFO Sending request to https://cds.climate.copernicus.eu/api/v2/resources/projections-cmip6\n",
      "2023-07-11 14:11:48,496 INFO Request is queued\n"
     ]
    },
    {
     "name": "stdout",
     "output_type": "stream",
     "text": [
      "file_download does not exist: the data were not downloaded\n"
     ]
    },
    {
     "name": "stderr",
     "output_type": "stream",
     "text": [
      "2023-07-11 14:11:49,542 INFO Request is failed\n",
      "2023-07-11 14:11:49,543 ERROR Message: an internal error occurred processing your request\n",
      "2023-07-11 14:11:49,544 ERROR Reason:  No matching data for request {'experiment': 'ssp119', 'model': 'BCC-CSM2-MR', 'temporal_resolution': 'day', 'variable': 'pr'}\n",
      "2023-07-11 14:11:49,545 ERROR   Traceback (most recent call last):\n",
      "2023-07-11 14:11:49,546 ERROR     File \"/opt/cdstoolbox/cdscompute/cdscompute/cdshandlers/services/handler.py\", line 59, in handle_request\n",
      "2023-07-11 14:11:49,546 ERROR       result = cached(context.method, proc, context, context.args, context.kwargs)\n",
      "2023-07-11 14:11:49,547 ERROR     File \"/opt/cdstoolbox/cdscompute/cdscompute/caching.py\", line 108, in cached\n",
      "2023-07-11 14:11:49,548 ERROR       result = proc(context, *context.args, **context.kwargs)\n",
      "2023-07-11 14:11:49,558 ERROR     File \"/opt/cdstoolbox/cdscompute/cdscompute/services.py\", line 124, in __call__\n",
      "2023-07-11 14:11:49,559 ERROR       return p(*args, **kwargs)\n",
      "2023-07-11 14:11:49,560 ERROR     File \"/opt/cdstoolbox/cdscompute/cdscompute/services.py\", line 60, in __call__\n",
      "2023-07-11 14:11:49,561 ERROR       return self.proc(context, *args, **kwargs)\n",
      "2023-07-11 14:11:49,562 ERROR     File \"/home/cds/cdsservices/services/esgf_wps/__init__.py\", line 30, in execute\n",
      "2023-07-11 14:11:49,565 ERROR       request_facets, request = facets.search(context, request)\n",
      "2023-07-11 14:11:49,566 ERROR     File \"/home/cds/cdsservices/services/esgf_wps/facets.py\", line 61, in search\n",
      "2023-07-11 14:11:49,567 ERROR       raise ValueError(f'No matching data for request {tmp_request}')\n",
      "2023-07-11 14:11:49,567 ERROR   ValueError: No matching data for request {'experiment': 'ssp119', 'model': 'BCC-CSM2-MR', 'temporal_resolution': 'day', 'variable': 'pr'}\n",
      "2023-07-11 14:11:49,645 INFO Welcome to the CDS\n",
      "2023-07-11 14:11:49,647 INFO Sending request to https://cds.climate.copernicus.eu/api/v2/resources/projections-cmip6\n",
      "2023-07-11 14:11:49,706 INFO Request is queued\n"
     ]
    },
    {
     "name": "stdout",
     "output_type": "stream",
     "text": [
      "Some parameters are not matching\n",
      "Test with model cams_csm1_0\n",
      "path_for_file does not exist: the data may not have been downloaded\n",
      "file_download does not exist: the data were not downloaded\n"
     ]
    },
    {
     "name": "stderr",
     "output_type": "stream",
     "text": [
      "2023-07-11 14:11:50,765 INFO Request is running\n",
      "2023-07-11 14:16:08,089 INFO Request is failed\n",
      "2023-07-11 14:16:08,090 ERROR Message: an internal error occurred processing your request\n",
      "2023-07-11 14:16:08,091 ERROR Reason:  Process error: 2100\n",
      "2023-07-11 14:16:08,091 ERROR   Traceback (most recent call last):\n",
      "2023-07-11 14:16:08,092 ERROR     File \"/usr/local/lib/python3.6/site-packages/rooki/results.py\", line 33, in url\n",
      "2023-07-11 14:16:08,093 ERROR       return self.response.get()[0]\n",
      "2023-07-11 14:16:08,094 ERROR     File \"/usr/local/lib/python3.6/site-packages/birdy/client/outputs.py\", line 40, in get\n",
      "2023-07-11 14:16:08,094 ERROR       raise ProcessFailed(\"Sorry, process failed.\")\n",
      "2023-07-11 14:16:08,094 ERROR   birdy.exceptions.ProcessFailed: Sorry, process failed.\n",
      "2023-07-11 14:16:08,133 INFO Welcome to the CDS\n",
      "2023-07-11 14:16:08,133 INFO Sending request to https://cds.climate.copernicus.eu/api/v2/resources/projections-cmip6\n",
      "2023-07-11 14:16:08,195 INFO Request is queued\n"
     ]
    },
    {
     "name": "stdout",
     "output_type": "stream",
     "text": [
      "Some parameters are not matching\n",
      "Test with model canesm5_canoe\n",
      "path_for_file does not exist: the data may not have been downloaded\n",
      "file_download does not exist: the data were not downloaded\n"
     ]
    },
    {
     "name": "stderr",
     "output_type": "stream",
     "text": [
      "2023-07-11 14:16:09,243 INFO Request is failed\n",
      "2023-07-11 14:16:09,244 ERROR Message: an internal error occurred processing your request\n",
      "2023-07-11 14:16:09,245 ERROR Reason:  No matching data for request {'experiment': 'ssp119', 'model': 'CanESM5-CanOE', 'temporal_resolution': 'day', 'variable': 'pr'}\n",
      "2023-07-11 14:16:09,246 ERROR   Traceback (most recent call last):\n",
      "2023-07-11 14:16:09,247 ERROR     File \"/opt/cdstoolbox/cdscompute/cdscompute/cdshandlers/services/handler.py\", line 59, in handle_request\n",
      "2023-07-11 14:16:09,248 ERROR       result = cached(context.method, proc, context, context.args, context.kwargs)\n",
      "2023-07-11 14:16:09,249 ERROR     File \"/opt/cdstoolbox/cdscompute/cdscompute/caching.py\", line 108, in cached\n",
      "2023-07-11 14:16:09,250 ERROR       result = proc(context, *context.args, **context.kwargs)\n",
      "2023-07-11 14:16:09,251 ERROR     File \"/opt/cdstoolbox/cdscompute/cdscompute/services.py\", line 124, in __call__\n",
      "2023-07-11 14:16:09,252 ERROR       return p(*args, **kwargs)\n",
      "2023-07-11 14:16:09,253 ERROR     File \"/opt/cdstoolbox/cdscompute/cdscompute/services.py\", line 60, in __call__\n",
      "2023-07-11 14:16:09,253 ERROR       return self.proc(context, *args, **kwargs)\n",
      "2023-07-11 14:16:09,255 ERROR     File \"/home/cds/cdsservices/services/esgf_wps/__init__.py\", line 30, in execute\n",
      "2023-07-11 14:16:09,255 ERROR       request_facets, request = facets.search(context, request)\n",
      "2023-07-11 14:16:09,256 ERROR     File \"/home/cds/cdsservices/services/esgf_wps/facets.py\", line 61, in search\n",
      "2023-07-11 14:16:09,256 ERROR       raise ValueError(f'No matching data for request {tmp_request}')\n",
      "2023-07-11 14:16:09,257 ERROR   ValueError: No matching data for request {'experiment': 'ssp119', 'model': 'CanESM5-CanOE', 'temporal_resolution': 'day', 'variable': 'pr'}\n",
      "2023-07-11 14:16:09,295 INFO Welcome to the CDS\n",
      "2023-07-11 14:16:09,296 INFO Sending request to https://cds.climate.copernicus.eu/api/v2/resources/projections-cmip6\n",
      "2023-07-11 14:16:09,376 INFO Request is queued\n"
     ]
    },
    {
     "name": "stdout",
     "output_type": "stream",
     "text": [
      "Some parameters are not matching\n",
      "Test with model cesm2_fv2\n",
      "path_for_file does not exist: the data may not have been downloaded\n",
      "file_download does not exist: the data were not downloaded\n"
     ]
    },
    {
     "name": "stderr",
     "output_type": "stream",
     "text": [
      "2023-07-11 14:16:10,425 INFO Request is failed\n",
      "2023-07-11 14:16:10,426 ERROR Message: an internal error occurred processing your request\n",
      "2023-07-11 14:16:10,426 ERROR Reason:  No matching data for request {'experiment': 'ssp119', 'model': 'CESM2-FV2', 'temporal_resolution': 'day', 'variable': 'pr'}\n",
      "2023-07-11 14:16:10,427 ERROR   Traceback (most recent call last):\n",
      "2023-07-11 14:16:10,427 ERROR     File \"/opt/cdstoolbox/cdscompute/cdscompute/cdshandlers/services/handler.py\", line 59, in handle_request\n",
      "2023-07-11 14:16:10,429 ERROR       result = cached(context.method, proc, context, context.args, context.kwargs)\n",
      "2023-07-11 14:16:10,429 ERROR     File \"/opt/cdstoolbox/cdscompute/cdscompute/caching.py\", line 108, in cached\n",
      "2023-07-11 14:16:10,430 ERROR       result = proc(context, *context.args, **context.kwargs)\n",
      "2023-07-11 14:16:10,431 ERROR     File \"/opt/cdstoolbox/cdscompute/cdscompute/services.py\", line 124, in __call__\n",
      "2023-07-11 14:16:10,432 ERROR       return p(*args, **kwargs)\n",
      "2023-07-11 14:16:10,433 ERROR     File \"/opt/cdstoolbox/cdscompute/cdscompute/services.py\", line 60, in __call__\n",
      "2023-07-11 14:16:10,433 ERROR       return self.proc(context, *args, **kwargs)\n",
      "2023-07-11 14:16:10,434 ERROR     File \"/home/cds/cdsservices/services/esgf_wps/__init__.py\", line 30, in execute\n",
      "2023-07-11 14:16:10,435 ERROR       request_facets, request = facets.search(context, request)\n",
      "2023-07-11 14:16:10,435 ERROR     File \"/home/cds/cdsservices/services/esgf_wps/facets.py\", line 61, in search\n",
      "2023-07-11 14:16:10,436 ERROR       raise ValueError(f'No matching data for request {tmp_request}')\n",
      "2023-07-11 14:16:10,437 ERROR   ValueError: No matching data for request {'experiment': 'ssp119', 'model': 'CESM2-FV2', 'temporal_resolution': 'day', 'variable': 'pr'}\n",
      "2023-07-11 14:16:10,472 INFO Welcome to the CDS\n",
      "2023-07-11 14:16:10,472 INFO Sending request to https://cds.climate.copernicus.eu/api/v2/resources/projections-cmip6\n",
      "2023-07-11 14:16:10,551 INFO Request is queued\n"
     ]
    },
    {
     "name": "stdout",
     "output_type": "stream",
     "text": [
      "Some parameters are not matching\n",
      "Test with model cesm2_waccm_fv2\n",
      "path_for_file does not exist: the data may not have been downloaded\n",
      "file_download does not exist: the data were not downloaded\n"
     ]
    },
    {
     "name": "stderr",
     "output_type": "stream",
     "text": [
      "2023-07-11 14:16:11,589 INFO Request is failed\n",
      "2023-07-11 14:16:11,590 ERROR Message: an internal error occurred processing your request\n",
      "2023-07-11 14:16:11,590 ERROR Reason:  No matching data for request {'experiment': 'ssp119', 'model': 'CESM2-WACCM-FV2', 'temporal_resolution': 'day', 'variable': 'pr'}\n",
      "2023-07-11 14:16:11,591 ERROR   Traceback (most recent call last):\n",
      "2023-07-11 14:16:11,592 ERROR     File \"/opt/cdstoolbox/cdscompute/cdscompute/cdshandlers/services/handler.py\", line 59, in handle_request\n",
      "2023-07-11 14:16:11,592 ERROR       result = cached(context.method, proc, context, context.args, context.kwargs)\n",
      "2023-07-11 14:16:11,593 ERROR     File \"/opt/cdstoolbox/cdscompute/cdscompute/caching.py\", line 108, in cached\n",
      "2023-07-11 14:16:11,594 ERROR       result = proc(context, *context.args, **context.kwargs)\n",
      "2023-07-11 14:16:11,595 ERROR     File \"/opt/cdstoolbox/cdscompute/cdscompute/services.py\", line 124, in __call__\n",
      "2023-07-11 14:16:11,595 ERROR       return p(*args, **kwargs)\n",
      "2023-07-11 14:16:11,596 ERROR     File \"/opt/cdstoolbox/cdscompute/cdscompute/services.py\", line 60, in __call__\n",
      "2023-07-11 14:16:11,596 ERROR       return self.proc(context, *args, **kwargs)\n",
      "2023-07-11 14:16:11,597 ERROR     File \"/home/cds/cdsservices/services/esgf_wps/__init__.py\", line 30, in execute\n",
      "2023-07-11 14:16:11,597 ERROR       request_facets, request = facets.search(context, request)\n",
      "2023-07-11 14:16:11,598 ERROR     File \"/home/cds/cdsservices/services/esgf_wps/facets.py\", line 61, in search\n",
      "2023-07-11 14:16:11,598 ERROR       raise ValueError(f'No matching data for request {tmp_request}')\n",
      "2023-07-11 14:16:11,599 ERROR   ValueError: No matching data for request {'experiment': 'ssp119', 'model': 'CESM2-WACCM-FV2', 'temporal_resolution': 'day', 'variable': 'pr'}\n",
      "2023-07-11 14:16:11,803 INFO Welcome to the CDS\n"
     ]
    },
    {
     "name": "stdout",
     "output_type": "stream",
     "text": [
      "Some parameters are not matching\n",
      "Test with model cmcc_cm2_hr4\n",
      "path_for_file does not exist: the data may not have been downloaded\n",
      "file_download does not exist: the data were not downloaded\n"
     ]
    },
    {
     "name": "stderr",
     "output_type": "stream",
     "text": [
      "2023-07-11 14:16:11,804 INFO Sending request to https://cds.climate.copernicus.eu/api/v2/resources/projections-cmip6\n",
      "2023-07-11 14:16:11,906 INFO Request is queued\n",
      "2023-07-11 14:16:12,990 INFO Request is failed\n",
      "2023-07-11 14:16:12,991 ERROR Message: an internal error occurred processing your request\n",
      "2023-07-11 14:16:12,992 ERROR Reason:  No matching data for request {'experiment': 'ssp119', 'model': 'CMCC-CM2-HR4', 'temporal_resolution': 'day', 'variable': 'pr'}\n",
      "2023-07-11 14:16:12,993 ERROR   Traceback (most recent call last):\n",
      "2023-07-11 14:16:12,994 ERROR     File \"/opt/cdstoolbox/cdscompute/cdscompute/cdshandlers/services/handler.py\", line 59, in handle_request\n",
      "2023-07-11 14:16:12,995 ERROR       result = cached(context.method, proc, context, context.args, context.kwargs)\n",
      "2023-07-11 14:16:12,995 ERROR     File \"/opt/cdstoolbox/cdscompute/cdscompute/caching.py\", line 108, in cached\n",
      "2023-07-11 14:16:12,996 ERROR       result = proc(context, *context.args, **context.kwargs)\n",
      "2023-07-11 14:16:12,997 ERROR     File \"/opt/cdstoolbox/cdscompute/cdscompute/services.py\", line 124, in __call__\n",
      "2023-07-11 14:16:12,999 ERROR       return p(*args, **kwargs)\n",
      "2023-07-11 14:16:13,001 ERROR     File \"/opt/cdstoolbox/cdscompute/cdscompute/services.py\", line 60, in __call__\n",
      "2023-07-11 14:16:13,002 ERROR       return self.proc(context, *args, **kwargs)\n",
      "2023-07-11 14:16:13,003 ERROR     File \"/home/cds/cdsservices/services/esgf_wps/__init__.py\", line 30, in execute\n",
      "2023-07-11 14:16:13,003 ERROR       request_facets, request = facets.search(context, request)\n",
      "2023-07-11 14:16:13,004 ERROR     File \"/home/cds/cdsservices/services/esgf_wps/facets.py\", line 61, in search\n",
      "2023-07-11 14:16:13,005 ERROR       raise ValueError(f'No matching data for request {tmp_request}')\n",
      "2023-07-11 14:16:13,006 ERROR   ValueError: No matching data for request {'experiment': 'ssp119', 'model': 'CMCC-CM2-HR4', 'temporal_resolution': 'day', 'variable': 'pr'}\n",
      "2023-07-11 14:16:13,051 INFO Welcome to the CDS\n",
      "2023-07-11 14:16:13,051 INFO Sending request to https://cds.climate.copernicus.eu/api/v2/resources/projections-cmip6\n",
      "2023-07-11 14:16:13,138 INFO Request is queued\n"
     ]
    },
    {
     "name": "stdout",
     "output_type": "stream",
     "text": [
      "Some parameters are not matching\n",
      "Test with model cmcc_esm2\n",
      "path_for_file does not exist: the data may not have been downloaded\n",
      "file_download does not exist: the data were not downloaded\n"
     ]
    },
    {
     "name": "stderr",
     "output_type": "stream",
     "text": [
      "2023-07-11 14:16:14,177 INFO Request is failed\n",
      "2023-07-11 14:16:14,178 ERROR Message: an internal error occurred processing your request\n",
      "2023-07-11 14:16:14,178 ERROR Reason:  No matching data for request {'experiment': 'ssp119', 'model': 'CMCC-ESM2', 'temporal_resolution': 'day', 'variable': 'pr'}\n",
      "2023-07-11 14:16:14,180 ERROR   Traceback (most recent call last):\n",
      "2023-07-11 14:16:14,181 ERROR     File \"/opt/cdstoolbox/cdscompute/cdscompute/cdshandlers/services/handler.py\", line 59, in handle_request\n",
      "2023-07-11 14:16:14,181 ERROR       result = cached(context.method, proc, context, context.args, context.kwargs)\n",
      "2023-07-11 14:16:14,182 ERROR     File \"/opt/cdstoolbox/cdscompute/cdscompute/caching.py\", line 108, in cached\n",
      "2023-07-11 14:16:14,183 ERROR       result = proc(context, *context.args, **context.kwargs)\n",
      "2023-07-11 14:16:14,185 ERROR     File \"/opt/cdstoolbox/cdscompute/cdscompute/services.py\", line 124, in __call__\n",
      "2023-07-11 14:16:14,186 ERROR       return p(*args, **kwargs)\n",
      "2023-07-11 14:16:14,186 ERROR     File \"/opt/cdstoolbox/cdscompute/cdscompute/services.py\", line 60, in __call__\n",
      "2023-07-11 14:16:14,187 ERROR       return self.proc(context, *args, **kwargs)\n",
      "2023-07-11 14:16:14,187 ERROR     File \"/home/cds/cdsservices/services/esgf_wps/__init__.py\", line 30, in execute\n",
      "2023-07-11 14:16:14,188 ERROR       request_facets, request = facets.search(context, request)\n",
      "2023-07-11 14:16:14,188 ERROR     File \"/home/cds/cdsservices/services/esgf_wps/facets.py\", line 61, in search\n",
      "2023-07-11 14:16:14,189 ERROR       raise ValueError(f'No matching data for request {tmp_request}')\n",
      "2023-07-11 14:16:14,190 ERROR   ValueError: No matching data for request {'experiment': 'ssp119', 'model': 'CMCC-ESM2', 'temporal_resolution': 'day', 'variable': 'pr'}\n",
      "2023-07-11 14:16:14,225 INFO Welcome to the CDS\n",
      "2023-07-11 14:16:14,226 INFO Sending request to https://cds.climate.copernicus.eu/api/v2/resources/projections-cmip6\n",
      "2023-07-11 14:16:14,364 INFO Request is queued\n"
     ]
    },
    {
     "name": "stdout",
     "output_type": "stream",
     "text": [
      "Some parameters are not matching\n",
      "Test with model cnrm_cm6_1_hr\n",
      "path_for_file does not exist: the data may not have been downloaded\n",
      "file_download does not exist: the data were not downloaded\n"
     ]
    },
    {
     "name": "stderr",
     "output_type": "stream",
     "text": [
      "2023-07-11 14:16:15,412 INFO Request is failed\n",
      "2023-07-11 14:16:15,413 ERROR Message: an internal error occurred processing your request\n",
      "2023-07-11 14:16:15,414 ERROR Reason:  No matching data for request {'experiment': 'ssp119', 'model': 'CNRM-CM6-1-HR', 'temporal_resolution': 'day', 'variable': 'pr'}\n",
      "2023-07-11 14:16:15,415 ERROR   Traceback (most recent call last):\n",
      "2023-07-11 14:16:15,416 ERROR     File \"/opt/cdstoolbox/cdscompute/cdscompute/cdshandlers/services/handler.py\", line 59, in handle_request\n",
      "2023-07-11 14:16:15,416 ERROR       result = cached(context.method, proc, context, context.args, context.kwargs)\n",
      "2023-07-11 14:16:15,417 ERROR     File \"/opt/cdstoolbox/cdscompute/cdscompute/caching.py\", line 108, in cached\n",
      "2023-07-11 14:16:15,417 ERROR       result = proc(context, *context.args, **context.kwargs)\n",
      "2023-07-11 14:16:15,418 ERROR     File \"/opt/cdstoolbox/cdscompute/cdscompute/services.py\", line 124, in __call__\n",
      "2023-07-11 14:16:15,418 ERROR       return p(*args, **kwargs)\n",
      "2023-07-11 14:16:15,420 ERROR     File \"/opt/cdstoolbox/cdscompute/cdscompute/services.py\", line 60, in __call__\n",
      "2023-07-11 14:16:15,421 ERROR       return self.proc(context, *args, **kwargs)\n",
      "2023-07-11 14:16:15,422 ERROR     File \"/home/cds/cdsservices/services/esgf_wps/__init__.py\", line 30, in execute\n",
      "2023-07-11 14:16:15,422 ERROR       request_facets, request = facets.search(context, request)\n",
      "2023-07-11 14:16:15,423 ERROR     File \"/home/cds/cdsservices/services/esgf_wps/facets.py\", line 61, in search\n",
      "2023-07-11 14:16:15,423 ERROR       raise ValueError(f'No matching data for request {tmp_request}')\n",
      "2023-07-11 14:16:15,424 ERROR   ValueError: No matching data for request {'experiment': 'ssp119', 'model': 'CNRM-CM6-1-HR', 'temporal_resolution': 'day', 'variable': 'pr'}\n",
      "2023-07-11 14:16:15,458 INFO Welcome to the CDS\n",
      "2023-07-11 14:16:15,459 INFO Sending request to https://cds.climate.copernicus.eu/api/v2/resources/projections-cmip6\n",
      "2023-07-11 14:16:15,521 INFO Request is queued\n"
     ]
    },
    {
     "name": "stdout",
     "output_type": "stream",
     "text": [
      "Some parameters are not matching\n",
      "Test with model e3sm_1_0\n",
      "path_for_file does not exist: the data may not have been downloaded\n",
      "file_download does not exist: the data were not downloaded\n"
     ]
    },
    {
     "name": "stderr",
     "output_type": "stream",
     "text": [
      "2023-07-11 14:16:16,565 INFO Request is failed\n",
      "2023-07-11 14:16:16,566 ERROR Message: an internal error occurred processing your request\n",
      "2023-07-11 14:16:16,567 ERROR Reason:  No matching data for request {'experiment': 'ssp119', 'model': 'E3SM-1-0', 'temporal_resolution': 'day', 'variable': 'pr'}\n",
      "2023-07-11 14:16:16,567 ERROR   Traceback (most recent call last):\n",
      "2023-07-11 14:16:16,568 ERROR     File \"/opt/cdstoolbox/cdscompute/cdscompute/cdshandlers/services/handler.py\", line 59, in handle_request\n",
      "2023-07-11 14:16:16,569 ERROR       result = cached(context.method, proc, context, context.args, context.kwargs)\n",
      "2023-07-11 14:16:16,570 ERROR     File \"/opt/cdstoolbox/cdscompute/cdscompute/caching.py\", line 108, in cached\n",
      "2023-07-11 14:16:16,571 ERROR       result = proc(context, *context.args, **context.kwargs)\n",
      "2023-07-11 14:16:16,571 ERROR     File \"/opt/cdstoolbox/cdscompute/cdscompute/services.py\", line 124, in __call__\n",
      "2023-07-11 14:16:16,572 ERROR       return p(*args, **kwargs)\n",
      "2023-07-11 14:16:16,573 ERROR     File \"/opt/cdstoolbox/cdscompute/cdscompute/services.py\", line 60, in __call__\n",
      "2023-07-11 14:16:16,574 ERROR       return self.proc(context, *args, **kwargs)\n",
      "2023-07-11 14:16:16,574 ERROR     File \"/home/cds/cdsservices/services/esgf_wps/__init__.py\", line 30, in execute\n",
      "2023-07-11 14:16:16,575 ERROR       request_facets, request = facets.search(context, request)\n",
      "2023-07-11 14:16:16,576 ERROR     File \"/home/cds/cdsservices/services/esgf_wps/facets.py\", line 61, in search\n",
      "2023-07-11 14:16:16,577 ERROR       raise ValueError(f'No matching data for request {tmp_request}')\n",
      "2023-07-11 14:16:16,577 ERROR   ValueError: No matching data for request {'experiment': 'ssp119', 'model': 'E3SM-1-0', 'temporal_resolution': 'day', 'variable': 'pr'}\n",
      "2023-07-11 14:16:16,674 INFO Welcome to the CDS\n",
      "2023-07-11 14:16:16,675 INFO Sending request to https://cds.climate.copernicus.eu/api/v2/resources/projections-cmip6\n",
      "2023-07-11 14:16:16,752 INFO Request is queued\n"
     ]
    },
    {
     "name": "stdout",
     "output_type": "stream",
     "text": [
      "Some parameters are not matching\n",
      "Test with model e3sm_1_1_eca\n",
      "path_for_file does not exist: the data may not have been downloaded\n",
      "file_download does not exist: the data were not downloaded\n"
     ]
    },
    {
     "name": "stderr",
     "output_type": "stream",
     "text": [
      "2023-07-11 14:16:17,816 INFO Request is failed\n",
      "2023-07-11 14:16:17,817 ERROR Message: an internal error occurred processing your request\n",
      "2023-07-11 14:16:17,819 ERROR Reason:  No matching data for request {'experiment': 'ssp119', 'model': 'E3SM-1-1-ECA', 'temporal_resolution': 'day', 'variable': 'pr'}\n",
      "2023-07-11 14:16:17,820 ERROR   Traceback (most recent call last):\n",
      "2023-07-11 14:16:17,821 ERROR     File \"/opt/cdstoolbox/cdscompute/cdscompute/cdshandlers/services/handler.py\", line 59, in handle_request\n",
      "2023-07-11 14:16:17,822 ERROR       result = cached(context.method, proc, context, context.args, context.kwargs)\n",
      "2023-07-11 14:16:17,822 ERROR     File \"/opt/cdstoolbox/cdscompute/cdscompute/caching.py\", line 108, in cached\n",
      "2023-07-11 14:16:17,823 ERROR       result = proc(context, *context.args, **context.kwargs)\n",
      "2023-07-11 14:16:17,823 ERROR     File \"/opt/cdstoolbox/cdscompute/cdscompute/services.py\", line 124, in __call__\n",
      "2023-07-11 14:16:17,824 ERROR       return p(*args, **kwargs)\n",
      "2023-07-11 14:16:17,826 ERROR     File \"/opt/cdstoolbox/cdscompute/cdscompute/services.py\", line 60, in __call__\n",
      "2023-07-11 14:16:17,826 ERROR       return self.proc(context, *args, **kwargs)\n",
      "2023-07-11 14:16:17,828 ERROR     File \"/home/cds/cdsservices/services/esgf_wps/__init__.py\", line 30, in execute\n",
      "2023-07-11 14:16:17,829 ERROR       request_facets, request = facets.search(context, request)\n",
      "2023-07-11 14:16:17,830 ERROR     File \"/home/cds/cdsservices/services/esgf_wps/facets.py\", line 61, in search\n",
      "2023-07-11 14:16:17,831 ERROR       raise ValueError(f'No matching data for request {tmp_request}')\n",
      "2023-07-11 14:16:17,832 ERROR   ValueError: No matching data for request {'experiment': 'ssp119', 'model': 'E3SM-1-1-ECA', 'temporal_resolution': 'day', 'variable': 'pr'}\n",
      "2023-07-11 14:16:17,903 INFO Welcome to the CDS\n",
      "2023-07-11 14:16:17,904 INFO Sending request to https://cds.climate.copernicus.eu/api/v2/resources/projections-cmip6\n",
      "2023-07-11 14:16:17,972 INFO Request is queued\n"
     ]
    },
    {
     "name": "stdout",
     "output_type": "stream",
     "text": [
      "Some parameters are not matching\n",
      "Test with model ec_earth3_aerchem\n",
      "path_for_file does not exist: the data may not have been downloaded\n",
      "file_download does not exist: the data were not downloaded\n"
     ]
    },
    {
     "name": "stderr",
     "output_type": "stream",
     "text": [
      "2023-07-11 14:16:19,011 INFO Request is failed\n",
      "2023-07-11 14:16:19,013 ERROR Message: an internal error occurred processing your request\n",
      "2023-07-11 14:16:19,014 ERROR Reason:  No matching data for request {'experiment': 'ssp119', 'model': 'EC-Earth3-AerChem', 'temporal_resolution': 'day', 'variable': 'pr'}\n",
      "2023-07-11 14:16:19,014 ERROR   Traceback (most recent call last):\n",
      "2023-07-11 14:16:19,015 ERROR     File \"/opt/cdstoolbox/cdscompute/cdscompute/cdshandlers/services/handler.py\", line 59, in handle_request\n",
      "2023-07-11 14:16:19,015 ERROR       result = cached(context.method, proc, context, context.args, context.kwargs)\n",
      "2023-07-11 14:16:19,016 ERROR     File \"/opt/cdstoolbox/cdscompute/cdscompute/caching.py\", line 108, in cached\n",
      "2023-07-11 14:16:19,016 ERROR       result = proc(context, *context.args, **context.kwargs)\n",
      "2023-07-11 14:16:19,017 ERROR     File \"/opt/cdstoolbox/cdscompute/cdscompute/services.py\", line 124, in __call__\n",
      "2023-07-11 14:16:19,017 ERROR       return p(*args, **kwargs)\n",
      "2023-07-11 14:16:19,018 ERROR     File \"/opt/cdstoolbox/cdscompute/cdscompute/services.py\", line 60, in __call__\n",
      "2023-07-11 14:16:19,019 ERROR       return self.proc(context, *args, **kwargs)\n",
      "2023-07-11 14:16:19,020 ERROR     File \"/home/cds/cdsservices/services/esgf_wps/__init__.py\", line 30, in execute\n",
      "2023-07-11 14:16:19,021 ERROR       request_facets, request = facets.search(context, request)\n",
      "2023-07-11 14:16:19,021 ERROR     File \"/home/cds/cdsservices/services/esgf_wps/facets.py\", line 61, in search\n",
      "2023-07-11 14:16:19,022 ERROR       raise ValueError(f'No matching data for request {tmp_request}')\n",
      "2023-07-11 14:16:19,022 ERROR   ValueError: No matching data for request {'experiment': 'ssp119', 'model': 'EC-Earth3-AerChem', 'temporal_resolution': 'day', 'variable': 'pr'}\n",
      "2023-07-11 14:16:19,058 INFO Welcome to the CDS\n",
      "2023-07-11 14:16:19,059 INFO Sending request to https://cds.climate.copernicus.eu/api/v2/resources/projections-cmip6\n",
      "2023-07-11 14:16:19,140 INFO Request is queued\n"
     ]
    },
    {
     "name": "stdout",
     "output_type": "stream",
     "text": [
      "Some parameters are not matching\n",
      "Test with model ec_earth3_veg\n",
      "path_for_file does not exist: the data may not have been downloaded\n",
      "file_download does not exist: the data were not downloaded\n"
     ]
    },
    {
     "name": "stderr",
     "output_type": "stream",
     "text": [
      "2023-07-11 14:16:20,185 INFO Request is failed\n",
      "2023-07-11 14:16:20,186 ERROR Message: an internal error occurred processing your request\n",
      "2023-07-11 14:16:20,187 ERROR Reason:  No matching data for request {'experiment': 'ssp119', 'model': 'EC-Earth3-Veg', 'temporal_resolution': 'day', 'variable': 'pr'}\n",
      "2023-07-11 14:16:20,188 ERROR   Traceback (most recent call last):\n",
      "2023-07-11 14:16:20,188 ERROR     File \"/opt/cdstoolbox/cdscompute/cdscompute/cdshandlers/services/handler.py\", line 59, in handle_request\n",
      "2023-07-11 14:16:20,189 ERROR       result = cached(context.method, proc, context, context.args, context.kwargs)\n",
      "2023-07-11 14:16:20,190 ERROR     File \"/opt/cdstoolbox/cdscompute/cdscompute/caching.py\", line 108, in cached\n",
      "2023-07-11 14:16:20,191 ERROR       result = proc(context, *context.args, **context.kwargs)\n",
      "2023-07-11 14:16:20,191 ERROR     File \"/opt/cdstoolbox/cdscompute/cdscompute/services.py\", line 124, in __call__\n",
      "2023-07-11 14:16:20,192 ERROR       return p(*args, **kwargs)\n",
      "2023-07-11 14:16:20,193 ERROR     File \"/opt/cdstoolbox/cdscompute/cdscompute/services.py\", line 60, in __call__\n",
      "2023-07-11 14:16:20,194 ERROR       return self.proc(context, *args, **kwargs)\n",
      "2023-07-11 14:16:20,195 ERROR     File \"/home/cds/cdsservices/services/esgf_wps/__init__.py\", line 30, in execute\n",
      "2023-07-11 14:16:20,195 ERROR       request_facets, request = facets.search(context, request)\n",
      "2023-07-11 14:16:20,196 ERROR     File \"/home/cds/cdsservices/services/esgf_wps/facets.py\", line 61, in search\n",
      "2023-07-11 14:16:20,197 ERROR       raise ValueError(f'No matching data for request {tmp_request}')\n",
      "2023-07-11 14:16:20,198 ERROR   ValueError: No matching data for request {'experiment': 'ssp119', 'model': 'EC-Earth3-Veg', 'temporal_resolution': 'day', 'variable': 'pr'}\n",
      "2023-07-11 14:16:20,240 INFO Welcome to the CDS\n",
      "2023-07-11 14:16:20,241 INFO Sending request to https://cds.climate.copernicus.eu/api/v2/resources/projections-cmip6\n",
      "2023-07-11 14:16:20,350 INFO Request is queued\n"
     ]
    },
    {
     "name": "stdout",
     "output_type": "stream",
     "text": [
      "Some parameters are not matching\n",
      "Test with model fgoals_f3_l\n",
      "path_for_file does not exist: the data may not have been downloaded\n",
      "file_download does not exist: the data were not downloaded\n"
     ]
    },
    {
     "name": "stderr",
     "output_type": "stream",
     "text": [
      "2023-07-11 14:16:21,398 INFO Request is failed\n",
      "2023-07-11 14:16:21,399 ERROR Message: an internal error occurred processing your request\n",
      "2023-07-11 14:16:21,400 ERROR Reason:  No matching data for request {'experiment': 'ssp119', 'model': 'FGOALS-f3-L', 'temporal_resolution': 'day', 'variable': 'pr'}\n",
      "2023-07-11 14:16:21,400 ERROR   Traceback (most recent call last):\n",
      "2023-07-11 14:16:21,401 ERROR     File \"/opt/cdstoolbox/cdscompute/cdscompute/cdshandlers/services/handler.py\", line 59, in handle_request\n",
      "2023-07-11 14:16:21,402 ERROR       result = cached(context.method, proc, context, context.args, context.kwargs)\n",
      "2023-07-11 14:16:21,402 ERROR     File \"/opt/cdstoolbox/cdscompute/cdscompute/caching.py\", line 108, in cached\n",
      "2023-07-11 14:16:21,403 ERROR       result = proc(context, *context.args, **context.kwargs)\n",
      "2023-07-11 14:16:21,403 ERROR     File \"/opt/cdstoolbox/cdscompute/cdscompute/services.py\", line 124, in __call__\n",
      "2023-07-11 14:16:21,403 ERROR       return p(*args, **kwargs)\n",
      "2023-07-11 14:16:21,404 ERROR     File \"/opt/cdstoolbox/cdscompute/cdscompute/services.py\", line 60, in __call__\n",
      "2023-07-11 14:16:21,404 ERROR       return self.proc(context, *args, **kwargs)\n",
      "2023-07-11 14:16:21,405 ERROR     File \"/home/cds/cdsservices/services/esgf_wps/__init__.py\", line 30, in execute\n",
      "2023-07-11 14:16:21,405 ERROR       request_facets, request = facets.search(context, request)\n",
      "2023-07-11 14:16:21,405 ERROR     File \"/home/cds/cdsservices/services/esgf_wps/facets.py\", line 61, in search\n",
      "2023-07-11 14:16:21,406 ERROR       raise ValueError(f'No matching data for request {tmp_request}')\n",
      "2023-07-11 14:16:21,406 ERROR   ValueError: No matching data for request {'experiment': 'ssp119', 'model': 'FGOALS-f3-L', 'temporal_resolution': 'day', 'variable': 'pr'}\n",
      "2023-07-11 14:16:21,442 INFO Welcome to the CDS\n",
      "2023-07-11 14:16:21,443 INFO Sending request to https://cds.climate.copernicus.eu/api/v2/resources/projections-cmip6\n",
      "2023-07-11 14:16:21,538 INFO Request is queued\n"
     ]
    },
    {
     "name": "stdout",
     "output_type": "stream",
     "text": [
      "Some parameters are not matching\n",
      "Test with model fio_esm_2_0\n",
      "path_for_file does not exist: the data may not have been downloaded\n",
      "file_download does not exist: the data were not downloaded\n"
     ]
    },
    {
     "name": "stderr",
     "output_type": "stream",
     "text": [
      "2023-07-11 14:16:22,585 INFO Request is failed\n",
      "2023-07-11 14:16:22,585 ERROR Message: an internal error occurred processing your request\n",
      "2023-07-11 14:16:22,586 ERROR Reason:  No matching data for request {'experiment': 'ssp119', 'model': 'FIO-ESM-2-0', 'temporal_resolution': 'day', 'variable': 'pr'}\n",
      "2023-07-11 14:16:22,587 ERROR   Traceback (most recent call last):\n",
      "2023-07-11 14:16:22,587 ERROR     File \"/opt/cdstoolbox/cdscompute/cdscompute/cdshandlers/services/handler.py\", line 59, in handle_request\n",
      "2023-07-11 14:16:22,588 ERROR       result = cached(context.method, proc, context, context.args, context.kwargs)\n",
      "2023-07-11 14:16:22,588 ERROR     File \"/opt/cdstoolbox/cdscompute/cdscompute/caching.py\", line 108, in cached\n",
      "2023-07-11 14:16:22,589 ERROR       result = proc(context, *context.args, **context.kwargs)\n",
      "2023-07-11 14:16:22,589 ERROR     File \"/opt/cdstoolbox/cdscompute/cdscompute/services.py\", line 124, in __call__\n",
      "2023-07-11 14:16:22,590 ERROR       return p(*args, **kwargs)\n",
      "2023-07-11 14:16:22,591 ERROR     File \"/opt/cdstoolbox/cdscompute/cdscompute/services.py\", line 60, in __call__\n",
      "2023-07-11 14:16:22,591 ERROR       return self.proc(context, *args, **kwargs)\n",
      "2023-07-11 14:16:22,592 ERROR     File \"/home/cds/cdsservices/services/esgf_wps/__init__.py\", line 30, in execute\n",
      "2023-07-11 14:16:22,592 ERROR       request_facets, request = facets.search(context, request)\n",
      "2023-07-11 14:16:22,593 ERROR     File \"/home/cds/cdsservices/services/esgf_wps/facets.py\", line 61, in search\n",
      "2023-07-11 14:16:22,593 ERROR       raise ValueError(f'No matching data for request {tmp_request}')\n",
      "2023-07-11 14:16:22,594 ERROR   ValueError: No matching data for request {'experiment': 'ssp119', 'model': 'FIO-ESM-2-0', 'temporal_resolution': 'day', 'variable': 'pr'}\n",
      "2023-07-11 14:16:22,654 INFO Welcome to the CDS\n",
      "2023-07-11 14:16:22,655 INFO Sending request to https://cds.climate.copernicus.eu/api/v2/resources/projections-cmip6\n",
      "2023-07-11 14:16:22,695 INFO Request is queued\n"
     ]
    },
    {
     "name": "stdout",
     "output_type": "stream",
     "text": [
      "Some parameters are not matching\n",
      "Test with model giss_e2_1_g\n",
      "path_for_file does not exist: the data may not have been downloaded\n",
      "file_download does not exist: the data were not downloaded\n"
     ]
    },
    {
     "name": "stderr",
     "output_type": "stream",
     "text": [
      "2023-07-11 14:16:23,735 INFO Request is failed\n",
      "2023-07-11 14:16:23,736 ERROR Message: an internal error occurred processing your request\n",
      "2023-07-11 14:16:23,738 ERROR Reason:  No matching data for request {'experiment': 'ssp119', 'model': 'GISS-E2-1-G', 'temporal_resolution': 'day', 'variable': 'pr'}\n",
      "2023-07-11 14:16:23,738 ERROR   Traceback (most recent call last):\n",
      "2023-07-11 14:16:23,739 ERROR     File \"/opt/cdstoolbox/cdscompute/cdscompute/cdshandlers/services/handler.py\", line 59, in handle_request\n",
      "2023-07-11 14:16:23,740 ERROR       result = cached(context.method, proc, context, context.args, context.kwargs)\n",
      "2023-07-11 14:16:23,741 ERROR     File \"/opt/cdstoolbox/cdscompute/cdscompute/caching.py\", line 108, in cached\n",
      "2023-07-11 14:16:23,742 ERROR       result = proc(context, *context.args, **context.kwargs)\n",
      "2023-07-11 14:16:23,742 ERROR     File \"/opt/cdstoolbox/cdscompute/cdscompute/services.py\", line 124, in __call__\n",
      "2023-07-11 14:16:23,743 ERROR       return p(*args, **kwargs)\n",
      "2023-07-11 14:16:23,743 ERROR     File \"/opt/cdstoolbox/cdscompute/cdscompute/services.py\", line 60, in __call__\n",
      "2023-07-11 14:16:23,745 ERROR       return self.proc(context, *args, **kwargs)\n",
      "2023-07-11 14:16:23,745 ERROR     File \"/home/cds/cdsservices/services/esgf_wps/__init__.py\", line 30, in execute\n",
      "2023-07-11 14:16:23,746 ERROR       request_facets, request = facets.search(context, request)\n",
      "2023-07-11 14:16:23,747 ERROR     File \"/home/cds/cdsservices/services/esgf_wps/facets.py\", line 61, in search\n",
      "2023-07-11 14:16:23,748 ERROR       raise ValueError(f'No matching data for request {tmp_request}')\n",
      "2023-07-11 14:16:23,748 ERROR   ValueError: No matching data for request {'experiment': 'ssp119', 'model': 'GISS-E2-1-G', 'temporal_resolution': 'day', 'variable': 'pr'}\n",
      "2023-07-11 14:16:23,787 INFO Welcome to the CDS\n",
      "2023-07-11 14:16:23,788 INFO Sending request to https://cds.climate.copernicus.eu/api/v2/resources/projections-cmip6\n",
      "2023-07-11 14:16:23,905 INFO Request is queued\n"
     ]
    },
    {
     "name": "stdout",
     "output_type": "stream",
     "text": [
      "Some parameters are not matching\n",
      "Test with model hadgem3_gc31_ll\n",
      "path_for_file does not exist: the data may not have been downloaded\n",
      "file_download does not exist: the data were not downloaded\n"
     ]
    },
    {
     "name": "stderr",
     "output_type": "stream",
     "text": [
      "2023-07-11 14:16:24,950 INFO Request is failed\n",
      "2023-07-11 14:16:24,952 ERROR Message: an internal error occurred processing your request\n",
      "2023-07-11 14:16:24,952 ERROR Reason:  No matching data for request {'experiment': 'ssp119', 'model': 'HadGEM3-GC31-LL', 'temporal_resolution': 'day', 'variable': 'pr'}\n",
      "2023-07-11 14:16:24,953 ERROR   Traceback (most recent call last):\n",
      "2023-07-11 14:16:24,954 ERROR     File \"/opt/cdstoolbox/cdscompute/cdscompute/cdshandlers/services/handler.py\", line 59, in handle_request\n",
      "2023-07-11 14:16:24,956 ERROR       result = cached(context.method, proc, context, context.args, context.kwargs)\n",
      "2023-07-11 14:16:24,958 ERROR     File \"/opt/cdstoolbox/cdscompute/cdscompute/caching.py\", line 108, in cached\n",
      "2023-07-11 14:16:24,959 ERROR       result = proc(context, *context.args, **context.kwargs)\n",
      "2023-07-11 14:16:24,959 ERROR     File \"/opt/cdstoolbox/cdscompute/cdscompute/services.py\", line 124, in __call__\n",
      "2023-07-11 14:16:24,960 ERROR       return p(*args, **kwargs)\n",
      "2023-07-11 14:16:24,961 ERROR     File \"/opt/cdstoolbox/cdscompute/cdscompute/services.py\", line 60, in __call__\n",
      "2023-07-11 14:16:24,962 ERROR       return self.proc(context, *args, **kwargs)\n",
      "2023-07-11 14:16:24,962 ERROR     File \"/home/cds/cdsservices/services/esgf_wps/__init__.py\", line 30, in execute\n",
      "2023-07-11 14:16:24,962 ERROR       request_facets, request = facets.search(context, request)\n",
      "2023-07-11 14:16:24,963 ERROR     File \"/home/cds/cdsservices/services/esgf_wps/facets.py\", line 61, in search\n",
      "2023-07-11 14:16:24,964 ERROR       raise ValueError(f'No matching data for request {tmp_request}')\n",
      "2023-07-11 14:16:24,965 ERROR   ValueError: No matching data for request {'experiment': 'ssp119', 'model': 'HadGEM3-GC31-LL', 'temporal_resolution': 'day', 'variable': 'pr'}\n",
      "2023-07-11 14:16:25,008 INFO Welcome to the CDS\n",
      "2023-07-11 14:16:25,010 INFO Sending request to https://cds.climate.copernicus.eu/api/v2/resources/projections-cmip6\n",
      "2023-07-11 14:16:25,059 INFO Request is queued\n"
     ]
    },
    {
     "name": "stdout",
     "output_type": "stream",
     "text": [
      "Some parameters are not matching\n",
      "Test with model iitm_esm\n",
      "path_for_file does not exist: the data may not have been downloaded\n",
      "file_download does not exist: the data were not downloaded\n"
     ]
    },
    {
     "name": "stderr",
     "output_type": "stream",
     "text": [
      "2023-07-11 14:16:26,098 INFO Request is failed\n",
      "2023-07-11 14:16:26,099 ERROR Message: an internal error occurred processing your request\n",
      "2023-07-11 14:16:26,100 ERROR Reason:  No matching data for request {'experiment': 'ssp119', 'model': 'IITM-ESM', 'temporal_resolution': 'day', 'variable': 'pr'}\n",
      "2023-07-11 14:16:26,100 ERROR   Traceback (most recent call last):\n",
      "2023-07-11 14:16:26,101 ERROR     File \"/opt/cdstoolbox/cdscompute/cdscompute/cdshandlers/services/handler.py\", line 59, in handle_request\n",
      "2023-07-11 14:16:26,102 ERROR       result = cached(context.method, proc, context, context.args, context.kwargs)\n",
      "2023-07-11 14:16:26,103 ERROR     File \"/opt/cdstoolbox/cdscompute/cdscompute/caching.py\", line 108, in cached\n",
      "2023-07-11 14:16:26,103 ERROR       result = proc(context, *context.args, **context.kwargs)\n",
      "2023-07-11 14:16:26,104 ERROR     File \"/opt/cdstoolbox/cdscompute/cdscompute/services.py\", line 124, in __call__\n",
      "2023-07-11 14:16:26,105 ERROR       return p(*args, **kwargs)\n",
      "2023-07-11 14:16:26,106 ERROR     File \"/opt/cdstoolbox/cdscompute/cdscompute/services.py\", line 60, in __call__\n",
      "2023-07-11 14:16:26,106 ERROR       return self.proc(context, *args, **kwargs)\n",
      "2023-07-11 14:16:26,107 ERROR     File \"/home/cds/cdsservices/services/esgf_wps/__init__.py\", line 30, in execute\n",
      "2023-07-11 14:16:26,107 ERROR       request_facets, request = facets.search(context, request)\n",
      "2023-07-11 14:16:26,109 ERROR     File \"/home/cds/cdsservices/services/esgf_wps/facets.py\", line 61, in search\n",
      "2023-07-11 14:16:26,110 ERROR       raise ValueError(f'No matching data for request {tmp_request}')\n",
      "2023-07-11 14:16:26,110 ERROR   ValueError: No matching data for request {'experiment': 'ssp119', 'model': 'IITM-ESM', 'temporal_resolution': 'day', 'variable': 'pr'}\n",
      "2023-07-11 14:16:26,144 INFO Welcome to the CDS\n",
      "2023-07-11 14:16:26,145 INFO Sending request to https://cds.climate.copernicus.eu/api/v2/resources/projections-cmip6\n",
      "2023-07-11 14:16:26,217 INFO Request is queued\n"
     ]
    },
    {
     "name": "stdout",
     "output_type": "stream",
     "text": [
      "Some parameters are not matching\n",
      "Test with model inm_cm5_0\n",
      "path_for_file does not exist: the data may not have been downloaded\n",
      "file_download does not exist: the data were not downloaded\n"
     ]
    },
    {
     "name": "stderr",
     "output_type": "stream",
     "text": [
      "2023-07-11 14:16:27,265 INFO Request is failed\n",
      "2023-07-11 14:16:27,266 ERROR Message: an internal error occurred processing your request\n",
      "2023-07-11 14:16:27,266 ERROR Reason:  No matching data for request {'experiment': 'ssp119', 'model': 'INM-CM5-0', 'temporal_resolution': 'day', 'variable': 'pr'}\n",
      "2023-07-11 14:16:27,267 ERROR   Traceback (most recent call last):\n",
      "2023-07-11 14:16:27,268 ERROR     File \"/opt/cdstoolbox/cdscompute/cdscompute/cdshandlers/services/handler.py\", line 59, in handle_request\n",
      "2023-07-11 14:16:27,268 ERROR       result = cached(context.method, proc, context, context.args, context.kwargs)\n",
      "2023-07-11 14:16:27,269 ERROR     File \"/opt/cdstoolbox/cdscompute/cdscompute/caching.py\", line 108, in cached\n",
      "2023-07-11 14:16:27,270 ERROR       result = proc(context, *context.args, **context.kwargs)\n",
      "2023-07-11 14:16:27,272 ERROR     File \"/opt/cdstoolbox/cdscompute/cdscompute/services.py\", line 124, in __call__\n",
      "2023-07-11 14:16:27,272 ERROR       return p(*args, **kwargs)\n",
      "2023-07-11 14:16:27,273 ERROR     File \"/opt/cdstoolbox/cdscompute/cdscompute/services.py\", line 60, in __call__\n",
      "2023-07-11 14:16:27,273 ERROR       return self.proc(context, *args, **kwargs)\n",
      "2023-07-11 14:16:27,274 ERROR     File \"/home/cds/cdsservices/services/esgf_wps/__init__.py\", line 30, in execute\n",
      "2023-07-11 14:16:27,275 ERROR       request_facets, request = facets.search(context, request)\n",
      "2023-07-11 14:16:27,276 ERROR     File \"/home/cds/cdsservices/services/esgf_wps/facets.py\", line 61, in search\n",
      "2023-07-11 14:16:27,276 ERROR       raise ValueError(f'No matching data for request {tmp_request}')\n",
      "2023-07-11 14:16:27,277 ERROR   ValueError: No matching data for request {'experiment': 'ssp119', 'model': 'INM-CM5-0', 'temporal_resolution': 'day', 'variable': 'pr'}\n",
      "2023-07-11 14:16:27,314 INFO Welcome to the CDS\n",
      "2023-07-11 14:16:27,315 INFO Sending request to https://cds.climate.copernicus.eu/api/v2/resources/projections-cmip6\n",
      "2023-07-11 14:16:27,400 INFO Request is queued\n"
     ]
    },
    {
     "name": "stdout",
     "output_type": "stream",
     "text": [
      "Some parameters are not matching\n",
      "Test with model ipsl_cm6a_lr\n",
      "path_for_file does not exist: the data may not have been downloaded\n",
      "file_download does not exist: the data were not downloaded\n"
     ]
    },
    {
     "name": "stderr",
     "output_type": "stream",
     "text": [
      "2023-07-11 14:16:28,440 INFO Request is running\n",
      "2023-07-11 14:17:17,008 INFO Request is completed\n",
      "2023-07-11 14:17:17,009 INFO Downloading https://download-0015-clone.copernicus-climate.eu/cache-compute-0015/cache/data4/adaptor.esgf_wps.retrieve-1689077835.2775633-21505-6-1067dcbd-e405-44a1-a378-e56e88700158.zip to download.zip (11M)\n",
      "2023-07-11 14:17:19,020 INFO Download rate 5.5M/s                                                                      \n"
     ]
    },
    {
     "name": "stdout",
     "output_type": "stream",
     "text": [
      "The file has been download\n",
      "Path for the file is created, did not existed before\n"
     ]
    },
    {
     "name": "stderr",
     "output_type": "stream",
     "text": [
      "2023-07-11 14:17:20,965 INFO Welcome to the CDS\n",
      "2023-07-11 14:17:20,967 INFO Sending request to https://cds.climate.copernicus.eu/api/v2/resources/projections-cmip6\n",
      "2023-07-11 14:17:21,042 INFO Request is queued\n"
     ]
    },
    {
     "name": "stdout",
     "output_type": "stream",
     "text": [
      "\n",
      " The downloaded file is extracted\n",
      "The file has been extracted\n",
      "Test with model kiost_esm\n",
      "path_for_file does not exist: the data may not have been downloaded\n",
      "file_download does not exist: the data were not downloaded\n"
     ]
    },
    {
     "name": "stderr",
     "output_type": "stream",
     "text": [
      "2023-07-11 14:17:22,098 INFO Request is failed\n",
      "2023-07-11 14:17:22,099 ERROR Message: an internal error occurred processing your request\n",
      "2023-07-11 14:17:22,100 ERROR Reason:  No matching data for request {'experiment': 'ssp119', 'model': 'KIOST-ESM', 'temporal_resolution': 'day', 'variable': 'pr'}\n",
      "2023-07-11 14:17:22,101 ERROR   Traceback (most recent call last):\n",
      "2023-07-11 14:17:22,102 ERROR     File \"/opt/cdstoolbox/cdscompute/cdscompute/cdshandlers/services/handler.py\", line 59, in handle_request\n",
      "2023-07-11 14:17:22,103 ERROR       result = cached(context.method, proc, context, context.args, context.kwargs)\n",
      "2023-07-11 14:17:22,104 ERROR     File \"/opt/cdstoolbox/cdscompute/cdscompute/caching.py\", line 108, in cached\n",
      "2023-07-11 14:17:22,104 ERROR       result = proc(context, *context.args, **context.kwargs)\n",
      "2023-07-11 14:17:22,106 ERROR     File \"/opt/cdstoolbox/cdscompute/cdscompute/services.py\", line 124, in __call__\n",
      "2023-07-11 14:17:22,107 ERROR       return p(*args, **kwargs)\n",
      "2023-07-11 14:17:22,108 ERROR     File \"/opt/cdstoolbox/cdscompute/cdscompute/services.py\", line 60, in __call__\n",
      "2023-07-11 14:17:22,109 ERROR       return self.proc(context, *args, **kwargs)\n",
      "2023-07-11 14:17:22,111 ERROR     File \"/home/cds/cdsservices/services/esgf_wps/__init__.py\", line 30, in execute\n",
      "2023-07-11 14:17:22,112 ERROR       request_facets, request = facets.search(context, request)\n",
      "2023-07-11 14:17:22,117 ERROR     File \"/home/cds/cdsservices/services/esgf_wps/facets.py\", line 61, in search\n",
      "2023-07-11 14:17:22,119 ERROR       raise ValueError(f'No matching data for request {tmp_request}')\n",
      "2023-07-11 14:17:22,120 ERROR   ValueError: No matching data for request {'experiment': 'ssp119', 'model': 'KIOST-ESM', 'temporal_resolution': 'day', 'variable': 'pr'}\n",
      "2023-07-11 14:17:22,157 INFO Welcome to the CDS\n",
      "2023-07-11 14:17:22,158 INFO Sending request to https://cds.climate.copernicus.eu/api/v2/resources/projections-cmip6\n",
      "2023-07-11 14:17:22,295 INFO Request is queued\n"
     ]
    },
    {
     "name": "stdout",
     "output_type": "stream",
     "text": [
      "Some parameters are not matching\n",
      "Test with model miroc6\n",
      "path_for_file does not exist: the data may not have been downloaded\n",
      "file_download does not exist: the data were not downloaded\n"
     ]
    },
    {
     "name": "stderr",
     "output_type": "stream",
     "text": [
      "2023-07-11 14:17:23,344 INFO Request is running\n",
      "2023-07-11 14:20:13,795 INFO Request is completed\n",
      "2023-07-11 14:20:13,797 INFO Downloading https://download-0018.copernicus-climate.eu/cache-compute-0018/cache/data9/adaptor.esgf_wps.retrieve-1689077987.312295-21613-17-7a010dc3-2151-43c8-822b-b5a9a1926326.zip to download.zip (9.2M)\n",
      "2023-07-11 14:20:15,187 INFO Download rate 6.7M/s                                                                      \n"
     ]
    },
    {
     "name": "stdout",
     "output_type": "stream",
     "text": [
      "The file has been download\n",
      "Path for the file is created, did not existed before\n"
     ]
    },
    {
     "name": "stderr",
     "output_type": "stream",
     "text": [
      "2023-07-11 14:20:16,367 INFO Welcome to the CDS\n",
      "2023-07-11 14:20:16,368 INFO Sending request to https://cds.climate.copernicus.eu/api/v2/resources/projections-cmip6\n",
      "2023-07-11 14:20:16,454 INFO Request is queued\n"
     ]
    },
    {
     "name": "stdout",
     "output_type": "stream",
     "text": [
      "\n",
      " The downloaded file is extracted\n",
      "The file has been extracted\n",
      "Test with model miroc_es2l\n",
      "path_for_file does not exist: the data may not have been downloaded\n",
      "file_download does not exist: the data were not downloaded\n"
     ]
    },
    {
     "name": "stderr",
     "output_type": "stream",
     "text": [
      "2023-07-11 14:20:17,491 INFO Request is running\n",
      "2023-07-11 14:23:07,924 INFO Request is completed\n",
      "2023-07-11 14:23:07,925 INFO Downloading https://download-0004-clone.copernicus-climate.eu/cache-compute-0004/cache/data6/adaptor.esgf_wps.retrieve-1689078162.169506-9868-19-3b2a3824-4fef-4175-b607-de0780dc5e2d.zip to download.zip (2.9M)\n",
      "2023-07-11 14:23:10,278 INFO Download rate 1.2M/s                                                                      \n"
     ]
    },
    {
     "name": "stdout",
     "output_type": "stream",
     "text": [
      "The file has been download\n",
      "Path for the file is created, did not existed before\n"
     ]
    },
    {
     "name": "stderr",
     "output_type": "stream",
     "text": [
      "2023-07-11 14:23:11,009 INFO Welcome to the CDS\n",
      "2023-07-11 14:23:11,011 INFO Sending request to https://cds.climate.copernicus.eu/api/v2/resources/projections-cmip6\n",
      "2023-07-11 14:23:11,152 INFO Request is queued\n"
     ]
    },
    {
     "name": "stdout",
     "output_type": "stream",
     "text": [
      "\n",
      " The downloaded file is extracted\n",
      "The file has been extracted\n",
      "Test with model mpi_esm1_2_hr\n",
      "path_for_file does not exist: the data may not have been downloaded\n",
      "file_download does not exist: the data were not downloaded\n"
     ]
    },
    {
     "name": "stderr",
     "output_type": "stream",
     "text": [
      "2023-07-11 14:23:12,195 INFO Request is failed\n",
      "2023-07-11 14:23:12,195 ERROR Message: an internal error occurred processing your request\n",
      "2023-07-11 14:23:12,197 ERROR Reason:  No matching data for request {'experiment': 'ssp119', 'model': 'MPI-ESM1-2-HR', 'temporal_resolution': 'day', 'variable': 'pr'}\n",
      "2023-07-11 14:23:12,197 ERROR   Traceback (most recent call last):\n",
      "2023-07-11 14:23:12,198 ERROR     File \"/opt/cdstoolbox/cdscompute/cdscompute/cdshandlers/services/handler.py\", line 59, in handle_request\n",
      "2023-07-11 14:23:12,199 ERROR       result = cached(context.method, proc, context, context.args, context.kwargs)\n",
      "2023-07-11 14:23:12,199 ERROR     File \"/opt/cdstoolbox/cdscompute/cdscompute/caching.py\", line 108, in cached\n",
      "2023-07-11 14:23:12,200 ERROR       result = proc(context, *context.args, **context.kwargs)\n",
      "2023-07-11 14:23:12,201 ERROR     File \"/opt/cdstoolbox/cdscompute/cdscompute/services.py\", line 124, in __call__\n",
      "2023-07-11 14:23:12,202 ERROR       return p(*args, **kwargs)\n",
      "2023-07-11 14:23:12,202 ERROR     File \"/opt/cdstoolbox/cdscompute/cdscompute/services.py\", line 60, in __call__\n",
      "2023-07-11 14:23:12,203 ERROR       return self.proc(context, *args, **kwargs)\n",
      "2023-07-11 14:23:12,204 ERROR     File \"/home/cds/cdsservices/services/esgf_wps/__init__.py\", line 30, in execute\n",
      "2023-07-11 14:23:12,204 ERROR       request_facets, request = facets.search(context, request)\n",
      "2023-07-11 14:23:12,204 ERROR     File \"/home/cds/cdsservices/services/esgf_wps/facets.py\", line 61, in search\n",
      "2023-07-11 14:23:12,204 ERROR       raise ValueError(f'No matching data for request {tmp_request}')\n",
      "2023-07-11 14:23:12,205 ERROR   ValueError: No matching data for request {'experiment': 'ssp119', 'model': 'MPI-ESM1-2-HR', 'temporal_resolution': 'day', 'variable': 'pr'}\n",
      "2023-07-11 14:23:12,242 INFO Welcome to the CDS\n",
      "2023-07-11 14:23:12,243 INFO Sending request to https://cds.climate.copernicus.eu/api/v2/resources/projections-cmip6\n",
      "2023-07-11 14:23:12,333 INFO Request is queued\n"
     ]
    },
    {
     "name": "stdout",
     "output_type": "stream",
     "text": [
      "Some parameters are not matching\n",
      "Test with model mri_esm2_0\n",
      "path_for_file does not exist: the data may not have been downloaded\n",
      "file_download does not exist: the data were not downloaded\n"
     ]
    },
    {
     "name": "stderr",
     "output_type": "stream",
     "text": [
      "2023-07-11 14:23:13,378 INFO Request is running\n",
      "2023-07-11 14:27:31,630 INFO Request is completed\n",
      "2023-07-11 14:27:31,631 INFO Downloading https://download-0013-clone.copernicus-climate.eu/cache-compute-0013/cache/data0/adaptor.esgf_wps.retrieve-1689078402.6558907-18011-17-4c55d7f4-3041-4fa3-8ccb-b4df4a02a5e2.zip to download.zip (16.7M)\n",
      "2023-07-11 14:27:34,280 INFO Download rate 6.3M/s                                                                      \n"
     ]
    },
    {
     "name": "stdout",
     "output_type": "stream",
     "text": [
      "The file has been download\n",
      "Path for the file is created, did not existed before\n"
     ]
    },
    {
     "name": "stderr",
     "output_type": "stream",
     "text": [
      "2023-07-11 14:27:36,627 INFO Welcome to the CDS\n",
      "2023-07-11 14:27:36,627 INFO Sending request to https://cds.climate.copernicus.eu/api/v2/resources/projections-cmip6\n",
      "2023-07-11 14:27:36,696 INFO Request is queued\n"
     ]
    },
    {
     "name": "stdout",
     "output_type": "stream",
     "text": [
      "\n",
      " The downloaded file is extracted\n",
      "The file has been extracted\n",
      "Test with model norcpm1\n",
      "path_for_file does not exist: the data may not have been downloaded\n",
      "file_download does not exist: the data were not downloaded\n"
     ]
    },
    {
     "name": "stderr",
     "output_type": "stream",
     "text": [
      "2023-07-11 14:27:37,727 INFO Request is failed\n",
      "2023-07-11 14:27:37,728 ERROR Message: an internal error occurred processing your request\n",
      "2023-07-11 14:27:37,729 ERROR Reason:  No matching data for request {'experiment': 'ssp119', 'model': 'NorCPM1', 'temporal_resolution': 'day', 'variable': 'pr'}\n",
      "2023-07-11 14:27:37,729 ERROR   Traceback (most recent call last):\n",
      "2023-07-11 14:27:37,730 ERROR     File \"/opt/cdstoolbox/cdscompute/cdscompute/cdshandlers/services/handler.py\", line 59, in handle_request\n",
      "2023-07-11 14:27:37,730 ERROR       result = cached(context.method, proc, context, context.args, context.kwargs)\n",
      "2023-07-11 14:27:37,731 ERROR     File \"/opt/cdstoolbox/cdscompute/cdscompute/caching.py\", line 108, in cached\n",
      "2023-07-11 14:27:37,731 ERROR       result = proc(context, *context.args, **context.kwargs)\n",
      "2023-07-11 14:27:37,734 ERROR     File \"/opt/cdstoolbox/cdscompute/cdscompute/services.py\", line 124, in __call__\n",
      "2023-07-11 14:27:37,734 ERROR       return p(*args, **kwargs)\n",
      "2023-07-11 14:27:37,734 ERROR     File \"/opt/cdstoolbox/cdscompute/cdscompute/services.py\", line 60, in __call__\n",
      "2023-07-11 14:27:37,734 ERROR       return self.proc(context, *args, **kwargs)\n",
      "2023-07-11 14:27:37,735 ERROR     File \"/home/cds/cdsservices/services/esgf_wps/__init__.py\", line 30, in execute\n",
      "2023-07-11 14:27:37,736 ERROR       request_facets, request = facets.search(context, request)\n",
      "2023-07-11 14:27:37,736 ERROR     File \"/home/cds/cdsservices/services/esgf_wps/facets.py\", line 61, in search\n",
      "2023-07-11 14:27:37,737 ERROR       raise ValueError(f'No matching data for request {tmp_request}')\n",
      "2023-07-11 14:27:37,738 ERROR   ValueError: No matching data for request {'experiment': 'ssp119', 'model': 'NorCPM1', 'temporal_resolution': 'day', 'variable': 'pr'}\n",
      "2023-07-11 14:27:37,769 INFO Welcome to the CDS\n",
      "2023-07-11 14:27:37,770 INFO Sending request to https://cds.climate.copernicus.eu/api/v2/resources/projections-cmip6\n",
      "2023-07-11 14:27:37,839 INFO Request is queued\n"
     ]
    },
    {
     "name": "stdout",
     "output_type": "stream",
     "text": [
      "Some parameters are not matching\n",
      "Test with model noresm2_mm\n",
      "path_for_file does not exist: the data may not have been downloaded\n",
      "file_download does not exist: the data were not downloaded\n"
     ]
    },
    {
     "name": "stderr",
     "output_type": "stream",
     "text": [
      "2023-07-11 14:27:38,883 INFO Request is failed\n",
      "2023-07-11 14:27:38,885 ERROR Message: an internal error occurred processing your request\n",
      "2023-07-11 14:27:38,886 ERROR Reason:  No matching data for request {'experiment': 'ssp119', 'model': 'NorESM2-MM', 'temporal_resolution': 'day', 'variable': 'pr'}\n",
      "2023-07-11 14:27:38,886 ERROR   Traceback (most recent call last):\n",
      "2023-07-11 14:27:38,888 ERROR     File \"/opt/cdstoolbox/cdscompute/cdscompute/cdshandlers/services/handler.py\", line 59, in handle_request\n",
      "2023-07-11 14:27:38,888 ERROR       result = cached(context.method, proc, context, context.args, context.kwargs)\n",
      "2023-07-11 14:27:38,889 ERROR     File \"/opt/cdstoolbox/cdscompute/cdscompute/caching.py\", line 108, in cached\n",
      "2023-07-11 14:27:38,890 ERROR       result = proc(context, *context.args, **context.kwargs)\n",
      "2023-07-11 14:27:38,890 ERROR     File \"/opt/cdstoolbox/cdscompute/cdscompute/services.py\", line 124, in __call__\n",
      "2023-07-11 14:27:38,892 ERROR       return p(*args, **kwargs)\n",
      "2023-07-11 14:27:38,892 ERROR     File \"/opt/cdstoolbox/cdscompute/cdscompute/services.py\", line 60, in __call__\n",
      "2023-07-11 14:27:38,892 ERROR       return self.proc(context, *args, **kwargs)\n",
      "2023-07-11 14:27:38,892 ERROR     File \"/home/cds/cdsservices/services/esgf_wps/__init__.py\", line 30, in execute\n",
      "2023-07-11 14:27:38,894 ERROR       request_facets, request = facets.search(context, request)\n",
      "2023-07-11 14:27:38,894 ERROR     File \"/home/cds/cdsservices/services/esgf_wps/facets.py\", line 61, in search\n",
      "2023-07-11 14:27:38,895 ERROR       raise ValueError(f'No matching data for request {tmp_request}')\n",
      "2023-07-11 14:27:38,895 ERROR   ValueError: No matching data for request {'experiment': 'ssp119', 'model': 'NorESM2-MM', 'temporal_resolution': 'day', 'variable': 'pr'}\n",
      "2023-07-11 14:27:38,926 INFO Welcome to the CDS\n",
      "2023-07-11 14:27:38,926 INFO Sending request to https://cds.climate.copernicus.eu/api/v2/resources/projections-cmip6\n",
      "2023-07-11 14:27:38,988 INFO Request is queued\n"
     ]
    },
    {
     "name": "stdout",
     "output_type": "stream",
     "text": [
      "Some parameters are not matching\n",
      "Test with model taiesm1\n",
      "path_for_file does not exist: the data may not have been downloaded\n",
      "file_download does not exist: the data were not downloaded\n"
     ]
    },
    {
     "name": "stderr",
     "output_type": "stream",
     "text": [
      "2023-07-11 14:27:40,035 INFO Request is failed\n",
      "2023-07-11 14:27:40,036 ERROR Message: an internal error occurred processing your request\n",
      "2023-07-11 14:27:40,037 ERROR Reason:  No matching data for request {'experiment': 'ssp119', 'model': 'TaiESM1', 'temporal_resolution': 'day', 'variable': 'pr'}\n",
      "2023-07-11 14:27:40,038 ERROR   Traceback (most recent call last):\n",
      "2023-07-11 14:27:40,038 ERROR     File \"/opt/cdstoolbox/cdscompute/cdscompute/cdshandlers/services/handler.py\", line 59, in handle_request\n",
      "2023-07-11 14:27:40,039 ERROR       result = cached(context.method, proc, context, context.args, context.kwargs)\n",
      "2023-07-11 14:27:40,040 ERROR     File \"/opt/cdstoolbox/cdscompute/cdscompute/caching.py\", line 108, in cached\n",
      "2023-07-11 14:27:40,040 ERROR       result = proc(context, *context.args, **context.kwargs)\n",
      "2023-07-11 14:27:40,041 ERROR     File \"/opt/cdstoolbox/cdscompute/cdscompute/services.py\", line 124, in __call__\n",
      "2023-07-11 14:27:40,041 ERROR       return p(*args, **kwargs)\n",
      "2023-07-11 14:27:40,043 ERROR     File \"/opt/cdstoolbox/cdscompute/cdscompute/services.py\", line 60, in __call__\n",
      "2023-07-11 14:27:40,043 ERROR       return self.proc(context, *args, **kwargs)\n",
      "2023-07-11 14:27:40,045 ERROR     File \"/home/cds/cdsservices/services/esgf_wps/__init__.py\", line 30, in execute\n",
      "2023-07-11 14:27:40,045 ERROR       request_facets, request = facets.search(context, request)\n",
      "2023-07-11 14:27:40,046 ERROR     File \"/home/cds/cdsservices/services/esgf_wps/facets.py\", line 61, in search\n",
      "2023-07-11 14:27:40,046 ERROR       raise ValueError(f'No matching data for request {tmp_request}')\n",
      "2023-07-11 14:27:40,047 ERROR   ValueError: No matching data for request {'experiment': 'ssp119', 'model': 'TaiESM1', 'temporal_resolution': 'day', 'variable': 'pr'}\n",
      "2023-07-11 14:27:40,078 INFO Welcome to the CDS\n",
      "2023-07-11 14:27:40,079 INFO Sending request to https://cds.climate.copernicus.eu/api/v2/resources/projections-cmip6\n",
      "2023-07-11 14:27:40,146 INFO Request is queued\n"
     ]
    },
    {
     "name": "stdout",
     "output_type": "stream",
     "text": [
      "Some parameters are not matching\n",
      "Test with model access_esm1_5\n",
      "path_for_file does not exist: the data may not have been downloaded\n",
      "file_download does not exist: the data were not downloaded\n"
     ]
    },
    {
     "name": "stderr",
     "output_type": "stream",
     "text": [
      "2023-07-11 14:27:41,187 INFO Request is failed\n",
      "2023-07-11 14:27:41,189 ERROR Message: an internal error occurred processing your request\n",
      "2023-07-11 14:27:41,189 ERROR Reason:  No matching data for request {'experiment': 'ssp119', 'model': 'ACCESS-ESM1-5', 'temporal_resolution': 'day', 'variable': 'pr'}\n",
      "2023-07-11 14:27:41,190 ERROR   Traceback (most recent call last):\n",
      "2023-07-11 14:27:41,191 ERROR     File \"/opt/cdstoolbox/cdscompute/cdscompute/cdshandlers/services/handler.py\", line 59, in handle_request\n",
      "2023-07-11 14:27:41,192 ERROR       result = cached(context.method, proc, context, context.args, context.kwargs)\n",
      "2023-07-11 14:27:41,192 ERROR     File \"/opt/cdstoolbox/cdscompute/cdscompute/caching.py\", line 108, in cached\n",
      "2023-07-11 14:27:41,193 ERROR       result = proc(context, *context.args, **context.kwargs)\n",
      "2023-07-11 14:27:41,193 ERROR     File \"/opt/cdstoolbox/cdscompute/cdscompute/services.py\", line 124, in __call__\n",
      "2023-07-11 14:27:41,194 ERROR       return p(*args, **kwargs)\n",
      "2023-07-11 14:27:41,196 ERROR     File \"/opt/cdstoolbox/cdscompute/cdscompute/services.py\", line 60, in __call__\n",
      "2023-07-11 14:27:41,197 ERROR       return self.proc(context, *args, **kwargs)\n",
      "2023-07-11 14:27:41,197 ERROR     File \"/home/cds/cdsservices/services/esgf_wps/__init__.py\", line 30, in execute\n",
      "2023-07-11 14:27:41,197 ERROR       request_facets, request = facets.search(context, request)\n",
      "2023-07-11 14:27:41,198 ERROR     File \"/home/cds/cdsservices/services/esgf_wps/facets.py\", line 61, in search\n",
      "2023-07-11 14:27:41,198 ERROR       raise ValueError(f'No matching data for request {tmp_request}')\n",
      "2023-07-11 14:27:41,200 ERROR   ValueError: No matching data for request {'experiment': 'ssp119', 'model': 'ACCESS-ESM1-5', 'temporal_resolution': 'day', 'variable': 'pr'}\n",
      "2023-07-11 14:27:41,235 INFO Welcome to the CDS\n",
      "2023-07-11 14:27:41,236 INFO Sending request to https://cds.climate.copernicus.eu/api/v2/resources/projections-cmip6\n",
      "2023-07-11 14:27:41,293 INFO Request is queued\n"
     ]
    },
    {
     "name": "stdout",
     "output_type": "stream",
     "text": [
      "Some parameters are not matching\n",
      "Test with model awi_esm_1_1_lr\n",
      "path_for_file does not exist: the data may not have been downloaded\n",
      "file_download does not exist: the data were not downloaded\n"
     ]
    },
    {
     "name": "stderr",
     "output_type": "stream",
     "text": [
      "2023-07-11 14:27:42,325 INFO Request is failed\n",
      "2023-07-11 14:27:42,327 ERROR Message: an internal error occurred processing your request\n",
      "2023-07-11 14:27:42,327 ERROR Reason:  No matching data for request {'experiment': 'ssp119', 'model': 'AWI-ESM-1-1-LR', 'temporal_resolution': 'day', 'variable': 'pr'}\n",
      "2023-07-11 14:27:42,327 ERROR   Traceback (most recent call last):\n",
      "2023-07-11 14:27:42,329 ERROR     File \"/opt/cdstoolbox/cdscompute/cdscompute/cdshandlers/services/handler.py\", line 59, in handle_request\n",
      "2023-07-11 14:27:42,330 ERROR       result = cached(context.method, proc, context, context.args, context.kwargs)\n",
      "2023-07-11 14:27:42,330 ERROR     File \"/opt/cdstoolbox/cdscompute/cdscompute/caching.py\", line 108, in cached\n",
      "2023-07-11 14:27:42,331 ERROR       result = proc(context, *context.args, **context.kwargs)\n",
      "2023-07-11 14:27:42,331 ERROR     File \"/opt/cdstoolbox/cdscompute/cdscompute/services.py\", line 124, in __call__\n",
      "2023-07-11 14:27:42,332 ERROR       return p(*args, **kwargs)\n",
      "2023-07-11 14:27:42,333 ERROR     File \"/opt/cdstoolbox/cdscompute/cdscompute/services.py\", line 60, in __call__\n",
      "2023-07-11 14:27:42,334 ERROR       return self.proc(context, *args, **kwargs)\n",
      "2023-07-11 14:27:42,335 ERROR     File \"/home/cds/cdsservices/services/esgf_wps/__init__.py\", line 30, in execute\n",
      "2023-07-11 14:27:42,336 ERROR       request_facets, request = facets.search(context, request)\n",
      "2023-07-11 14:27:42,337 ERROR     File \"/home/cds/cdsservices/services/esgf_wps/facets.py\", line 61, in search\n",
      "2023-07-11 14:27:42,338 ERROR       raise ValueError(f'No matching data for request {tmp_request}')\n",
      "2023-07-11 14:27:42,338 ERROR   ValueError: No matching data for request {'experiment': 'ssp119', 'model': 'AWI-ESM-1-1-LR', 'temporal_resolution': 'day', 'variable': 'pr'}\n",
      "2023-07-11 14:27:42,370 INFO Welcome to the CDS\n",
      "2023-07-11 14:27:42,371 INFO Sending request to https://cds.climate.copernicus.eu/api/v2/resources/projections-cmip6\n",
      "2023-07-11 14:27:42,435 INFO Request is queued\n"
     ]
    },
    {
     "name": "stdout",
     "output_type": "stream",
     "text": [
      "Some parameters are not matching\n",
      "Test with model bcc_esm1\n",
      "path_for_file does not exist: the data may not have been downloaded\n",
      "file_download does not exist: the data were not downloaded\n"
     ]
    },
    {
     "name": "stderr",
     "output_type": "stream",
     "text": [
      "2023-07-11 14:27:43,475 INFO Request is failed\n",
      "2023-07-11 14:27:43,477 ERROR Message: an internal error occurred processing your request\n",
      "2023-07-11 14:27:43,477 ERROR Reason:  No matching data for request {'experiment': 'ssp119', 'model': 'BCC-ESM1', 'temporal_resolution': 'day', 'variable': 'pr'}\n",
      "2023-07-11 14:27:43,478 ERROR   Traceback (most recent call last):\n",
      "2023-07-11 14:27:43,479 ERROR     File \"/opt/cdstoolbox/cdscompute/cdscompute/cdshandlers/services/handler.py\", line 59, in handle_request\n",
      "2023-07-11 14:27:43,479 ERROR       result = cached(context.method, proc, context, context.args, context.kwargs)\n",
      "2023-07-11 14:27:43,480 ERROR     File \"/opt/cdstoolbox/cdscompute/cdscompute/caching.py\", line 108, in cached\n",
      "2023-07-11 14:27:43,481 ERROR       result = proc(context, *context.args, **context.kwargs)\n",
      "2023-07-11 14:27:43,481 ERROR     File \"/opt/cdstoolbox/cdscompute/cdscompute/services.py\", line 124, in __call__\n",
      "2023-07-11 14:27:43,482 ERROR       return p(*args, **kwargs)\n",
      "2023-07-11 14:27:43,482 ERROR     File \"/opt/cdstoolbox/cdscompute/cdscompute/services.py\", line 60, in __call__\n",
      "2023-07-11 14:27:43,482 ERROR       return self.proc(context, *args, **kwargs)\n",
      "2023-07-11 14:27:43,483 ERROR     File \"/home/cds/cdsservices/services/esgf_wps/__init__.py\", line 30, in execute\n",
      "2023-07-11 14:27:43,484 ERROR       request_facets, request = facets.search(context, request)\n",
      "2023-07-11 14:27:43,484 ERROR     File \"/home/cds/cdsservices/services/esgf_wps/facets.py\", line 61, in search\n",
      "2023-07-11 14:27:43,484 ERROR       raise ValueError(f'No matching data for request {tmp_request}')\n",
      "2023-07-11 14:27:43,485 ERROR   ValueError: No matching data for request {'experiment': 'ssp119', 'model': 'BCC-ESM1', 'temporal_resolution': 'day', 'variable': 'pr'}\n",
      "2023-07-11 14:27:43,516 INFO Welcome to the CDS\n",
      "2023-07-11 14:27:43,518 INFO Sending request to https://cds.climate.copernicus.eu/api/v2/resources/projections-cmip6\n",
      "2023-07-11 14:27:43,584 INFO Request is queued\n"
     ]
    },
    {
     "name": "stdout",
     "output_type": "stream",
     "text": [
      "Some parameters are not matching\n",
      "Test with model canesm5\n",
      "path_for_file does not exist: the data may not have been downloaded\n",
      "file_download does not exist: the data were not downloaded\n"
     ]
    },
    {
     "name": "stderr",
     "output_type": "stream",
     "text": [
      "2023-07-11 14:27:44,626 INFO Request is running\n",
      "2023-07-11 14:28:58,853 INFO Request is completed\n",
      "2023-07-11 14:28:58,854 INFO Downloading https://download-0011-clone.copernicus-climate.eu/cache-compute-0011/cache/data8/adaptor.esgf_wps.retrieve-1689078527.6943836-15716-16-5ac3c34e-4e52-4abb-bf80-e89307e5f63a.zip to download.zip (8.4M)\n",
      "2023-07-11 14:28:59,795 INFO Download rate 8.9M/s                                                                      \n"
     ]
    },
    {
     "name": "stdout",
     "output_type": "stream",
     "text": [
      "The file has been download\n",
      "Path for the file is created, did not existed before\n"
     ]
    },
    {
     "name": "stderr",
     "output_type": "stream",
     "text": [
      "2023-07-11 14:29:00,833 INFO Welcome to the CDS\n",
      "2023-07-11 14:29:00,834 INFO Sending request to https://cds.climate.copernicus.eu/api/v2/resources/projections-cmip6\n",
      "2023-07-11 14:29:00,937 INFO Request is queued\n"
     ]
    },
    {
     "name": "stdout",
     "output_type": "stream",
     "text": [
      "\n",
      " The downloaded file is extracted\n",
      "The file has been extracted\n",
      "Test with model cesm2\n",
      "path_for_file does not exist: the data may not have been downloaded\n",
      "file_download does not exist: the data were not downloaded\n"
     ]
    },
    {
     "name": "stderr",
     "output_type": "stream",
     "text": [
      "2023-07-11 14:29:01,984 INFO Request is failed\n",
      "2023-07-11 14:29:01,985 ERROR Message: an internal error occurred processing your request\n",
      "2023-07-11 14:29:01,985 ERROR Reason:  No matching data for request {'experiment': 'ssp119', 'model': 'CESM2', 'temporal_resolution': 'day', 'variable': 'pr'}\n",
      "2023-07-11 14:29:01,986 ERROR   Traceback (most recent call last):\n",
      "2023-07-11 14:29:01,986 ERROR     File \"/opt/cdstoolbox/cdscompute/cdscompute/cdshandlers/services/handler.py\", line 59, in handle_request\n",
      "2023-07-11 14:29:01,987 ERROR       result = cached(context.method, proc, context, context.args, context.kwargs)\n",
      "2023-07-11 14:29:01,987 ERROR     File \"/opt/cdstoolbox/cdscompute/cdscompute/caching.py\", line 108, in cached\n",
      "2023-07-11 14:29:01,988 ERROR       result = proc(context, *context.args, **context.kwargs)\n",
      "2023-07-11 14:29:01,988 ERROR     File \"/opt/cdstoolbox/cdscompute/cdscompute/services.py\", line 124, in __call__\n",
      "2023-07-11 14:29:01,990 ERROR       return p(*args, **kwargs)\n",
      "2023-07-11 14:29:01,990 ERROR     File \"/opt/cdstoolbox/cdscompute/cdscompute/services.py\", line 60, in __call__\n",
      "2023-07-11 14:29:01,990 ERROR       return self.proc(context, *args, **kwargs)\n",
      "2023-07-11 14:29:01,991 ERROR     File \"/home/cds/cdsservices/services/esgf_wps/__init__.py\", line 30, in execute\n",
      "2023-07-11 14:29:01,991 ERROR       request_facets, request = facets.search(context, request)\n",
      "2023-07-11 14:29:01,992 ERROR     File \"/home/cds/cdsservices/services/esgf_wps/facets.py\", line 61, in search\n",
      "2023-07-11 14:29:01,992 ERROR       raise ValueError(f'No matching data for request {tmp_request}')\n",
      "2023-07-11 14:29:01,993 ERROR   ValueError: No matching data for request {'experiment': 'ssp119', 'model': 'CESM2', 'temporal_resolution': 'day', 'variable': 'pr'}\n",
      "2023-07-11 14:29:02,033 INFO Welcome to the CDS\n",
      "2023-07-11 14:29:02,034 INFO Sending request to https://cds.climate.copernicus.eu/api/v2/resources/projections-cmip6\n",
      "2023-07-11 14:29:02,100 INFO Request is queued\n"
     ]
    },
    {
     "name": "stdout",
     "output_type": "stream",
     "text": [
      "Some parameters are not matching\n",
      "Test with model cesm2_waccm\n",
      "path_for_file does not exist: the data may not have been downloaded\n",
      "file_download does not exist: the data were not downloaded\n"
     ]
    },
    {
     "name": "stderr",
     "output_type": "stream",
     "text": [
      "2023-07-11 14:29:03,134 INFO Request is failed\n",
      "2023-07-11 14:29:03,136 ERROR Message: an internal error occurred processing your request\n",
      "2023-07-11 14:29:03,138 ERROR Reason:  No matching data for request {'experiment': 'ssp119', 'model': 'CESM2-WACCM', 'temporal_resolution': 'day', 'variable': 'pr'}\n",
      "2023-07-11 14:29:03,139 ERROR   Traceback (most recent call last):\n",
      "2023-07-11 14:29:03,139 ERROR     File \"/opt/cdstoolbox/cdscompute/cdscompute/cdshandlers/services/handler.py\", line 59, in handle_request\n",
      "2023-07-11 14:29:03,140 ERROR       result = cached(context.method, proc, context, context.args, context.kwargs)\n",
      "2023-07-11 14:29:03,142 ERROR     File \"/opt/cdstoolbox/cdscompute/cdscompute/caching.py\", line 108, in cached\n",
      "2023-07-11 14:29:03,143 ERROR       result = proc(context, *context.args, **context.kwargs)\n",
      "2023-07-11 14:29:03,144 ERROR     File \"/opt/cdstoolbox/cdscompute/cdscompute/services.py\", line 124, in __call__\n",
      "2023-07-11 14:29:03,145 ERROR       return p(*args, **kwargs)\n",
      "2023-07-11 14:29:03,145 ERROR     File \"/opt/cdstoolbox/cdscompute/cdscompute/services.py\", line 60, in __call__\n",
      "2023-07-11 14:29:03,146 ERROR       return self.proc(context, *args, **kwargs)\n",
      "2023-07-11 14:29:03,148 ERROR     File \"/home/cds/cdsservices/services/esgf_wps/__init__.py\", line 30, in execute\n",
      "2023-07-11 14:29:03,149 ERROR       request_facets, request = facets.search(context, request)\n",
      "2023-07-11 14:29:03,150 ERROR     File \"/home/cds/cdsservices/services/esgf_wps/facets.py\", line 61, in search\n",
      "2023-07-11 14:29:03,151 ERROR       raise ValueError(f'No matching data for request {tmp_request}')\n",
      "2023-07-11 14:29:03,152 ERROR   ValueError: No matching data for request {'experiment': 'ssp119', 'model': 'CESM2-WACCM', 'temporal_resolution': 'day', 'variable': 'pr'}\n",
      "2023-07-11 14:29:03,192 INFO Welcome to the CDS\n",
      "2023-07-11 14:29:03,193 INFO Sending request to https://cds.climate.copernicus.eu/api/v2/resources/projections-cmip6\n",
      "2023-07-11 14:29:03,310 INFO Request is queued\n"
     ]
    },
    {
     "name": "stdout",
     "output_type": "stream",
     "text": [
      "Some parameters are not matching\n",
      "Test with model ciesm\n",
      "path_for_file does not exist: the data may not have been downloaded\n",
      "file_download does not exist: the data were not downloaded\n"
     ]
    },
    {
     "name": "stderr",
     "output_type": "stream",
     "text": [
      "2023-07-11 14:29:04,393 INFO Request is failed\n",
      "2023-07-11 14:29:04,395 ERROR Message: an internal error occurred processing your request\n",
      "2023-07-11 14:29:04,396 ERROR Reason:  No matching data for request {'experiment': 'ssp119', 'model': 'CIESM', 'temporal_resolution': 'day', 'variable': 'pr'}\n",
      "2023-07-11 14:29:04,408 ERROR   Traceback (most recent call last):\n",
      "2023-07-11 14:29:04,411 ERROR     File \"/opt/cdstoolbox/cdscompute/cdscompute/cdshandlers/services/handler.py\", line 59, in handle_request\n",
      "2023-07-11 14:29:04,413 ERROR       result = cached(context.method, proc, context, context.args, context.kwargs)\n",
      "2023-07-11 14:29:04,415 ERROR     File \"/opt/cdstoolbox/cdscompute/cdscompute/caching.py\", line 108, in cached\n",
      "2023-07-11 14:29:04,416 ERROR       result = proc(context, *context.args, **context.kwargs)\n",
      "2023-07-11 14:29:04,418 ERROR     File \"/opt/cdstoolbox/cdscompute/cdscompute/services.py\", line 124, in __call__\n",
      "2023-07-11 14:29:04,419 ERROR       return p(*args, **kwargs)\n",
      "2023-07-11 14:29:04,422 ERROR     File \"/opt/cdstoolbox/cdscompute/cdscompute/services.py\", line 60, in __call__\n",
      "2023-07-11 14:29:04,423 ERROR       return self.proc(context, *args, **kwargs)\n",
      "2023-07-11 14:29:04,424 ERROR     File \"/home/cds/cdsservices/services/esgf_wps/__init__.py\", line 30, in execute\n",
      "2023-07-11 14:29:04,426 ERROR       request_facets, request = facets.search(context, request)\n",
      "2023-07-11 14:29:04,427 ERROR     File \"/home/cds/cdsservices/services/esgf_wps/facets.py\", line 61, in search\n",
      "2023-07-11 14:29:04,429 ERROR       raise ValueError(f'No matching data for request {tmp_request}')\n",
      "2023-07-11 14:29:04,430 ERROR   ValueError: No matching data for request {'experiment': 'ssp119', 'model': 'CIESM', 'temporal_resolution': 'day', 'variable': 'pr'}\n"
     ]
    },
    {
     "name": "stdout",
     "output_type": "stream",
     "text": [
      "Some parameters are not matching\n",
      "Test with model cmcc_cm2_sr5\n"
     ]
    },
    {
     "name": "stderr",
     "output_type": "stream",
     "text": [
      "2023-07-11 14:29:06,111 INFO Welcome to the CDS\n",
      "2023-07-11 14:29:06,111 INFO Sending request to https://cds.climate.copernicus.eu/api/v2/resources/projections-cmip6\n",
      "2023-07-11 14:29:06,156 INFO Request is queued\n"
     ]
    },
    {
     "name": "stdout",
     "output_type": "stream",
     "text": [
      "path_for_file does not exist: the data may not have been downloaded\n",
      "file_download does not exist: the data were not downloaded\n"
     ]
    },
    {
     "name": "stderr",
     "output_type": "stream",
     "text": [
      "2023-07-11 14:29:07,199 INFO Request is failed\n",
      "2023-07-11 14:29:07,200 ERROR Message: an internal error occurred processing your request\n",
      "2023-07-11 14:29:07,201 ERROR Reason:  No matching data for request {'experiment': 'ssp119', 'model': 'CMCC-CM2-SR5', 'temporal_resolution': 'day', 'variable': 'pr'}\n",
      "2023-07-11 14:29:07,202 ERROR   Traceback (most recent call last):\n",
      "2023-07-11 14:29:07,203 ERROR     File \"/opt/cdstoolbox/cdscompute/cdscompute/cdshandlers/services/handler.py\", line 59, in handle_request\n",
      "2023-07-11 14:29:07,203 ERROR       result = cached(context.method, proc, context, context.args, context.kwargs)\n",
      "2023-07-11 14:29:07,204 ERROR     File \"/opt/cdstoolbox/cdscompute/cdscompute/caching.py\", line 108, in cached\n",
      "2023-07-11 14:29:07,204 ERROR       result = proc(context, *context.args, **context.kwargs)\n",
      "2023-07-11 14:29:07,206 ERROR     File \"/opt/cdstoolbox/cdscompute/cdscompute/services.py\", line 124, in __call__\n",
      "2023-07-11 14:29:07,206 ERROR       return p(*args, **kwargs)\n",
      "2023-07-11 14:29:07,206 ERROR     File \"/opt/cdstoolbox/cdscompute/cdscompute/services.py\", line 60, in __call__\n",
      "2023-07-11 14:29:07,207 ERROR       return self.proc(context, *args, **kwargs)\n",
      "2023-07-11 14:29:07,207 ERROR     File \"/home/cds/cdsservices/services/esgf_wps/__init__.py\", line 30, in execute\n",
      "2023-07-11 14:29:07,208 ERROR       request_facets, request = facets.search(context, request)\n",
      "2023-07-11 14:29:07,208 ERROR     File \"/home/cds/cdsservices/services/esgf_wps/facets.py\", line 61, in search\n",
      "2023-07-11 14:29:07,209 ERROR       raise ValueError(f'No matching data for request {tmp_request}')\n",
      "2023-07-11 14:29:07,209 ERROR   ValueError: No matching data for request {'experiment': 'ssp119', 'model': 'CMCC-CM2-SR5', 'temporal_resolution': 'day', 'variable': 'pr'}\n",
      "2023-07-11 14:29:07,241 INFO Welcome to the CDS\n",
      "2023-07-11 14:29:07,242 INFO Sending request to https://cds.climate.copernicus.eu/api/v2/resources/projections-cmip6\n",
      "2023-07-11 14:29:07,295 INFO Request is queued\n"
     ]
    },
    {
     "name": "stdout",
     "output_type": "stream",
     "text": [
      "Some parameters are not matching\n",
      "Test with model cnrm_cm6_1\n",
      "path_for_file does not exist: the data may not have been downloaded\n",
      "file_download does not exist: the data were not downloaded\n"
     ]
    },
    {
     "name": "stderr",
     "output_type": "stream",
     "text": [
      "2023-07-11 14:29:08,340 INFO Request is running\n",
      "2023-07-11 14:29:09,884 INFO Request is failed\n",
      "2023-07-11 14:29:09,884 ERROR Message: an internal error occurred processing your request\n",
      "2023-07-11 14:29:09,886 ERROR Reason:  No matching data for request {'experiment': 'ssp119', 'model': 'CNRM-CM6-1', 'temporal_resolution': 'day', 'variable': 'pr'}\n",
      "2023-07-11 14:29:09,886 ERROR   Traceback (most recent call last):\n",
      "2023-07-11 14:29:09,886 ERROR     File \"/opt/cdstoolbox/cdscompute/cdscompute/cdshandlers/services/handler.py\", line 59, in handle_request\n",
      "2023-07-11 14:29:09,888 ERROR       result = cached(context.method, proc, context, context.args, context.kwargs)\n",
      "2023-07-11 14:29:09,888 ERROR     File \"/opt/cdstoolbox/cdscompute/cdscompute/caching.py\", line 108, in cached\n",
      "2023-07-11 14:29:09,889 ERROR       result = proc(context, *context.args, **context.kwargs)\n",
      "2023-07-11 14:29:09,889 ERROR     File \"/opt/cdstoolbox/cdscompute/cdscompute/services.py\", line 124, in __call__\n",
      "2023-07-11 14:29:09,890 ERROR       return p(*args, **kwargs)\n",
      "2023-07-11 14:29:09,890 ERROR     File \"/opt/cdstoolbox/cdscompute/cdscompute/services.py\", line 60, in __call__\n",
      "2023-07-11 14:29:09,890 ERROR       return self.proc(context, *args, **kwargs)\n",
      "2023-07-11 14:29:09,891 ERROR     File \"/home/cds/cdsservices/services/esgf_wps/__init__.py\", line 30, in execute\n",
      "2023-07-11 14:29:09,891 ERROR       request_facets, request = facets.search(context, request)\n",
      "2023-07-11 14:29:09,892 ERROR     File \"/home/cds/cdsservices/services/esgf_wps/facets.py\", line 61, in search\n",
      "2023-07-11 14:29:09,892 ERROR       raise ValueError(f'No matching data for request {tmp_request}')\n",
      "2023-07-11 14:29:09,893 ERROR   ValueError: No matching data for request {'experiment': 'ssp119', 'model': 'CNRM-CM6-1', 'temporal_resolution': 'day', 'variable': 'pr'}\n",
      "2023-07-11 14:29:09,926 INFO Welcome to the CDS\n",
      "2023-07-11 14:29:09,927 INFO Sending request to https://cds.climate.copernicus.eu/api/v2/resources/projections-cmip6\n",
      "2023-07-11 14:29:09,977 INFO Request is queued\n"
     ]
    },
    {
     "name": "stdout",
     "output_type": "stream",
     "text": [
      "Some parameters are not matching\n",
      "Test with model cnrm_esm2_1\n",
      "path_for_file does not exist: the data may not have been downloaded\n",
      "file_download does not exist: the data were not downloaded\n"
     ]
    },
    {
     "name": "stderr",
     "output_type": "stream",
     "text": [
      "2023-07-11 14:29:11,012 INFO Request is running\n",
      "2023-07-11 14:31:03,799 INFO Request is completed\n",
      "2023-07-11 14:31:03,800 INFO Downloading https://download-0011-clone.copernicus-climate.eu/cache-compute-0011/cache/data1/adaptor.esgf_wps.retrieve-1689078634.6556299-16690-18-0eb38b45-fbb0-44b2-9bbb-a7599e1b45ad.zip to download.zip (16.9M)\n",
      "2023-07-11 14:31:05,245 INFO Download rate 11.7M/s                                                                     \n"
     ]
    },
    {
     "name": "stdout",
     "output_type": "stream",
     "text": [
      "The file has been download\n",
      "Path for the file is created, did not existed before\n"
     ]
    },
    {
     "name": "stderr",
     "output_type": "stream",
     "text": [
      "2023-07-11 14:31:07,009 INFO Welcome to the CDS\n",
      "2023-07-11 14:31:07,010 INFO Sending request to https://cds.climate.copernicus.eu/api/v2/resources/projections-cmip6\n",
      "2023-07-11 14:31:07,182 INFO Request is queued\n"
     ]
    },
    {
     "name": "stdout",
     "output_type": "stream",
     "text": [
      "\n",
      " The downloaded file is extracted\n",
      "The file has been extracted\n",
      "Test with model e3sm_1_1\n",
      "path_for_file does not exist: the data may not have been downloaded\n",
      "file_download does not exist: the data were not downloaded\n"
     ]
    },
    {
     "name": "stderr",
     "output_type": "stream",
     "text": [
      "2023-07-11 14:31:08,221 INFO Request is failed\n",
      "2023-07-11 14:31:08,223 ERROR Message: an internal error occurred processing your request\n",
      "2023-07-11 14:31:08,224 ERROR Reason:  No matching data for request {'experiment': 'ssp119', 'model': 'E3SM-1-1', 'temporal_resolution': 'day', 'variable': 'pr'}\n",
      "2023-07-11 14:31:08,225 ERROR   Traceback (most recent call last):\n",
      "2023-07-11 14:31:08,225 ERROR     File \"/opt/cdstoolbox/cdscompute/cdscompute/cdshandlers/services/handler.py\", line 59, in handle_request\n",
      "2023-07-11 14:31:08,226 ERROR       result = cached(context.method, proc, context, context.args, context.kwargs)\n",
      "2023-07-11 14:31:08,228 ERROR     File \"/opt/cdstoolbox/cdscompute/cdscompute/caching.py\", line 108, in cached\n",
      "2023-07-11 14:31:08,229 ERROR       result = proc(context, *context.args, **context.kwargs)\n",
      "2023-07-11 14:31:08,229 ERROR     File \"/opt/cdstoolbox/cdscompute/cdscompute/services.py\", line 124, in __call__\n",
      "2023-07-11 14:31:08,230 ERROR       return p(*args, **kwargs)\n",
      "2023-07-11 14:31:08,231 ERROR     File \"/opt/cdstoolbox/cdscompute/cdscompute/services.py\", line 60, in __call__\n",
      "2023-07-11 14:31:08,233 ERROR       return self.proc(context, *args, **kwargs)\n",
      "2023-07-11 14:31:08,234 ERROR     File \"/home/cds/cdsservices/services/esgf_wps/__init__.py\", line 30, in execute\n",
      "2023-07-11 14:31:08,234 ERROR       request_facets, request = facets.search(context, request)\n",
      "2023-07-11 14:31:08,235 ERROR     File \"/home/cds/cdsservices/services/esgf_wps/facets.py\", line 61, in search\n",
      "2023-07-11 14:31:08,237 ERROR       raise ValueError(f'No matching data for request {tmp_request}')\n",
      "2023-07-11 14:31:08,237 ERROR   ValueError: No matching data for request {'experiment': 'ssp119', 'model': 'E3SM-1-1', 'temporal_resolution': 'day', 'variable': 'pr'}\n",
      "2023-07-11 14:31:08,272 INFO Welcome to the CDS\n",
      "2023-07-11 14:31:08,273 INFO Sending request to https://cds.climate.copernicus.eu/api/v2/resources/projections-cmip6\n",
      "2023-07-11 14:31:08,343 INFO Request is queued\n"
     ]
    },
    {
     "name": "stdout",
     "output_type": "stream",
     "text": [
      "Some parameters are not matching\n",
      "Test with model ec_earth3\n",
      "path_for_file does not exist: the data may not have been downloaded\n",
      "file_download does not exist: the data were not downloaded\n"
     ]
    },
    {
     "name": "stderr",
     "output_type": "stream",
     "text": [
      "2023-07-11 14:31:09,392 INFO Request is running\n",
      "2023-07-11 14:37:27,105 INFO Request is completed\n",
      "2023-07-11 14:37:27,106 INFO Downloading https://download-0011-clone.copernicus-climate.eu/cache-compute-0011/cache/data8/adaptor.esgf_wps.retrieve-1689078952.3576994-17110-16-d8ccd865-e51a-4101-8417-d2cc2ea28cb8.zip to download.zip (31.5M)\n",
      "2023-07-11 14:37:29,548 INFO Download rate 12.9M/s                                                                     \n"
     ]
    },
    {
     "name": "stdout",
     "output_type": "stream",
     "text": [
      "The file has been download\n",
      "Path for the file is created, did not existed before\n"
     ]
    },
    {
     "name": "stderr",
     "output_type": "stream",
     "text": [
      "2023-07-11 14:37:31,795 INFO Welcome to the CDS\n",
      "2023-07-11 14:37:31,797 INFO Sending request to https://cds.climate.copernicus.eu/api/v2/resources/projections-cmip6\n",
      "2023-07-11 14:37:31,858 INFO Request is queued\n"
     ]
    },
    {
     "name": "stdout",
     "output_type": "stream",
     "text": [
      "\n",
      " The downloaded file is extracted\n",
      "The file has been extracted\n",
      "Test with model ec_earth3_cc\n",
      "path_for_file does not exist: the data may not have been downloaded\n",
      "file_download does not exist: the data were not downloaded\n"
     ]
    },
    {
     "name": "stderr",
     "output_type": "stream",
     "text": [
      "2023-07-11 14:37:32,902 INFO Request is failed\n",
      "2023-07-11 14:37:32,903 ERROR Message: an internal error occurred processing your request\n",
      "2023-07-11 14:37:32,903 ERROR Reason:  No matching data for request {'experiment': 'ssp119', 'model': 'EC-Earth3-CC', 'temporal_resolution': 'day', 'variable': 'pr'}\n",
      "2023-07-11 14:37:32,904 ERROR   Traceback (most recent call last):\n",
      "2023-07-11 14:37:32,904 ERROR     File \"/opt/cdstoolbox/cdscompute/cdscompute/cdshandlers/services/handler.py\", line 59, in handle_request\n",
      "2023-07-11 14:37:32,905 ERROR       result = cached(context.method, proc, context, context.args, context.kwargs)\n",
      "2023-07-11 14:37:32,906 ERROR     File \"/opt/cdstoolbox/cdscompute/cdscompute/caching.py\", line 108, in cached\n",
      "2023-07-11 14:37:32,906 ERROR       result = proc(context, *context.args, **context.kwargs)\n",
      "2023-07-11 14:37:32,907 ERROR     File \"/opt/cdstoolbox/cdscompute/cdscompute/services.py\", line 124, in __call__\n",
      "2023-07-11 14:37:32,907 ERROR       return p(*args, **kwargs)\n",
      "2023-07-11 14:37:32,908 ERROR     File \"/opt/cdstoolbox/cdscompute/cdscompute/services.py\", line 60, in __call__\n",
      "2023-07-11 14:37:32,908 ERROR       return self.proc(context, *args, **kwargs)\n",
      "2023-07-11 14:37:32,909 ERROR     File \"/home/cds/cdsservices/services/esgf_wps/__init__.py\", line 30, in execute\n",
      "2023-07-11 14:37:32,909 ERROR       request_facets, request = facets.search(context, request)\n",
      "2023-07-11 14:37:32,910 ERROR     File \"/home/cds/cdsservices/services/esgf_wps/facets.py\", line 61, in search\n",
      "2023-07-11 14:37:32,910 ERROR       raise ValueError(f'No matching data for request {tmp_request}')\n",
      "2023-07-11 14:37:32,910 ERROR   ValueError: No matching data for request {'experiment': 'ssp119', 'model': 'EC-Earth3-CC', 'temporal_resolution': 'day', 'variable': 'pr'}\n",
      "2023-07-11 14:37:32,960 INFO Welcome to the CDS\n",
      "2023-07-11 14:37:32,962 INFO Sending request to https://cds.climate.copernicus.eu/api/v2/resources/projections-cmip6\n",
      "2023-07-11 14:37:33,038 INFO Request is queued\n"
     ]
    },
    {
     "name": "stdout",
     "output_type": "stream",
     "text": [
      "Some parameters are not matching\n",
      "Test with model ec_earth3_veg_lr\n",
      "path_for_file does not exist: the data may not have been downloaded\n",
      "file_download does not exist: the data were not downloaded\n"
     ]
    },
    {
     "name": "stderr",
     "output_type": "stream",
     "text": [
      "2023-07-11 14:37:34,077 INFO Request is running\n",
      "2023-07-11 14:41:51,427 INFO Request is completed\n",
      "2023-07-11 14:41:51,428 INFO Downloading https://download-0009-clone.copernicus-climate.eu/cache-compute-0009/cache/data7/adaptor.esgf_wps.retrieve-1689079226.6404216-7072-7-a0ad16eb-e79d-45c9-9cb3-bb659c81b84e.zip to download.zip (12.4M)\n",
      "2023-07-11 14:41:52,489 INFO Download rate 11.7M/s                                                                     \n"
     ]
    },
    {
     "name": "stdout",
     "output_type": "stream",
     "text": [
      "The file has been download\n",
      "Path for the file is created, did not existed before\n"
     ]
    },
    {
     "name": "stderr",
     "output_type": "stream",
     "text": [
      "2023-07-11 14:41:53,673 INFO Welcome to the CDS\n",
      "2023-07-11 14:41:53,674 INFO Sending request to https://cds.climate.copernicus.eu/api/v2/resources/projections-cmip6\n",
      "2023-07-11 14:41:53,737 INFO Request is queued\n"
     ]
    },
    {
     "name": "stdout",
     "output_type": "stream",
     "text": [
      "\n",
      " The downloaded file is extracted\n",
      "The file has been extracted\n",
      "Test with model fgoals_g3\n",
      "path_for_file does not exist: the data may not have been downloaded\n",
      "file_download does not exist: the data were not downloaded\n"
     ]
    },
    {
     "name": "stderr",
     "output_type": "stream",
     "text": [
      "2023-07-11 14:41:54,779 INFO Request is running\n",
      "2023-07-11 14:50:12,941 INFO Request is completed\n",
      "2023-07-11 14:50:12,942 INFO Downloading https://download-0015-clone.copernicus-climate.eu/cache-compute-0015/cache/data3/adaptor.esgf_wps.retrieve-1689079787.8442073-28172-16-dde88480-30f7-4119-9884-eba1306e8f0a.zip to download.zip (13.4M)\n",
      "2023-07-11 14:50:14,350 INFO Download rate 9.5M/s                                                                      \n"
     ]
    },
    {
     "name": "stdout",
     "output_type": "stream",
     "text": [
      "The file has been download\n",
      "Path for the file is created, did not existed before\n"
     ]
    },
    {
     "name": "stderr",
     "output_type": "stream",
     "text": [
      "2023-07-11 14:50:15,692 INFO Welcome to the CDS\n",
      "2023-07-11 14:50:15,693 INFO Sending request to https://cds.climate.copernicus.eu/api/v2/resources/projections-cmip6\n",
      "2023-07-11 14:50:15,749 INFO Request is queued\n"
     ]
    },
    {
     "name": "stdout",
     "output_type": "stream",
     "text": [
      "\n",
      " The downloaded file is extracted\n",
      "The file has been extracted\n",
      "Test with model gfdl_esm4\n",
      "path_for_file does not exist: the data may not have been downloaded\n",
      "file_download does not exist: the data were not downloaded\n"
     ]
    },
    {
     "name": "stderr",
     "output_type": "stream",
     "text": [
      "2023-07-11 14:50:16,786 INFO Request is running\n",
      "2023-07-11 14:52:09,526 INFO Request is completed\n",
      "2023-07-11 14:52:09,527 INFO Downloading https://download-0016.copernicus-climate.eu/cache-compute-0016/cache/data9/adaptor.esgf_wps.retrieve-1689079924.8447251-29321-15-927b3bbc-65d9-4c77-9423-94a646fa0bf5.zip to download.zip (17.5M)\n",
      "2023-07-11 14:52:11,474 INFO Download rate 9M/s                                                                        \n"
     ]
    },
    {
     "name": "stdout",
     "output_type": "stream",
     "text": [
      "The file has been download\n",
      "Path for the file is created, did not existed before\n"
     ]
    },
    {
     "name": "stderr",
     "output_type": "stream",
     "text": [
      "2023-07-11 14:52:13,904 INFO Welcome to the CDS\n",
      "2023-07-11 14:52:13,906 INFO Sending request to https://cds.climate.copernicus.eu/api/v2/resources/projections-cmip6\n",
      "2023-07-11 14:52:13,980 INFO Request is queued\n"
     ]
    },
    {
     "name": "stdout",
     "output_type": "stream",
     "text": [
      "\n",
      " The downloaded file is extracted\n",
      "The file has been extracted\n",
      "Test with model giss_e2_1_h\n",
      "path_for_file does not exist: the data may not have been downloaded\n",
      "file_download does not exist: the data were not downloaded\n"
     ]
    },
    {
     "name": "stderr",
     "output_type": "stream",
     "text": [
      "2023-07-11 14:52:15,020 INFO Request is failed\n",
      "2023-07-11 14:52:15,021 ERROR Message: an internal error occurred processing your request\n",
      "2023-07-11 14:52:15,022 ERROR Reason:  No matching data for request {'experiment': 'ssp119', 'model': 'GISS-E2-1-H', 'temporal_resolution': 'day', 'variable': 'pr'}\n",
      "2023-07-11 14:52:15,024 ERROR   Traceback (most recent call last):\n",
      "2023-07-11 14:52:15,025 ERROR     File \"/opt/cdstoolbox/cdscompute/cdscompute/cdshandlers/services/handler.py\", line 59, in handle_request\n",
      "2023-07-11 14:52:15,027 ERROR       result = cached(context.method, proc, context, context.args, context.kwargs)\n",
      "2023-07-11 14:52:15,028 ERROR     File \"/opt/cdstoolbox/cdscompute/cdscompute/caching.py\", line 108, in cached\n",
      "2023-07-11 14:52:15,030 ERROR       result = proc(context, *context.args, **context.kwargs)\n",
      "2023-07-11 14:52:15,032 ERROR     File \"/opt/cdstoolbox/cdscompute/cdscompute/services.py\", line 124, in __call__\n",
      "2023-07-11 14:52:15,034 ERROR       return p(*args, **kwargs)\n",
      "2023-07-11 14:52:15,035 ERROR     File \"/opt/cdstoolbox/cdscompute/cdscompute/services.py\", line 60, in __call__\n",
      "2023-07-11 14:52:15,037 ERROR       return self.proc(context, *args, **kwargs)\n",
      "2023-07-11 14:52:15,038 ERROR     File \"/home/cds/cdsservices/services/esgf_wps/__init__.py\", line 30, in execute\n",
      "2023-07-11 14:52:15,039 ERROR       request_facets, request = facets.search(context, request)\n",
      "2023-07-11 14:52:15,040 ERROR     File \"/home/cds/cdsservices/services/esgf_wps/facets.py\", line 61, in search\n",
      "2023-07-11 14:52:15,041 ERROR       raise ValueError(f'No matching data for request {tmp_request}')\n",
      "2023-07-11 14:52:15,042 ERROR   ValueError: No matching data for request {'experiment': 'ssp119', 'model': 'GISS-E2-1-H', 'temporal_resolution': 'day', 'variable': 'pr'}\n",
      "2023-07-11 14:52:15,081 INFO Welcome to the CDS\n",
      "2023-07-11 14:52:15,082 INFO Sending request to https://cds.climate.copernicus.eu/api/v2/resources/projections-cmip6\n",
      "2023-07-11 14:52:15,124 INFO Request is queued\n"
     ]
    },
    {
     "name": "stdout",
     "output_type": "stream",
     "text": [
      "Some parameters are not matching\n",
      "Test with model hadgem3_gc31_mm\n",
      "path_for_file does not exist: the data may not have been downloaded\n",
      "file_download does not exist: the data were not downloaded\n"
     ]
    },
    {
     "name": "stderr",
     "output_type": "stream",
     "text": [
      "2023-07-11 14:52:16,165 INFO Request is failed\n",
      "2023-07-11 14:52:16,166 ERROR Message: an internal error occurred processing your request\n",
      "2023-07-11 14:52:16,167 ERROR Reason:  No matching data for request {'experiment': 'ssp119', 'model': 'HadGEM3-GC31-MM', 'temporal_resolution': 'day', 'variable': 'pr'}\n",
      "2023-07-11 14:52:16,169 ERROR   Traceback (most recent call last):\n",
      "2023-07-11 14:52:16,171 ERROR     File \"/opt/cdstoolbox/cdscompute/cdscompute/cdshandlers/services/handler.py\", line 59, in handle_request\n",
      "2023-07-11 14:52:16,172 ERROR       result = cached(context.method, proc, context, context.args, context.kwargs)\n",
      "2023-07-11 14:52:16,173 ERROR     File \"/opt/cdstoolbox/cdscompute/cdscompute/caching.py\", line 108, in cached\n",
      "2023-07-11 14:52:16,174 ERROR       result = proc(context, *context.args, **context.kwargs)\n",
      "2023-07-11 14:52:16,176 ERROR     File \"/opt/cdstoolbox/cdscompute/cdscompute/services.py\", line 124, in __call__\n",
      "2023-07-11 14:52:16,177 ERROR       return p(*args, **kwargs)\n",
      "2023-07-11 14:52:16,178 ERROR     File \"/opt/cdstoolbox/cdscompute/cdscompute/services.py\", line 60, in __call__\n",
      "2023-07-11 14:52:16,179 ERROR       return self.proc(context, *args, **kwargs)\n",
      "2023-07-11 14:52:16,180 ERROR     File \"/home/cds/cdsservices/services/esgf_wps/__init__.py\", line 30, in execute\n",
      "2023-07-11 14:52:16,182 ERROR       request_facets, request = facets.search(context, request)\n",
      "2023-07-11 14:52:16,184 ERROR     File \"/home/cds/cdsservices/services/esgf_wps/facets.py\", line 61, in search\n",
      "2023-07-11 14:52:16,186 ERROR       raise ValueError(f'No matching data for request {tmp_request}')\n",
      "2023-07-11 14:52:16,186 ERROR   ValueError: No matching data for request {'experiment': 'ssp119', 'model': 'HadGEM3-GC31-MM', 'temporal_resolution': 'day', 'variable': 'pr'}\n",
      "2023-07-11 14:52:16,229 INFO Welcome to the CDS\n",
      "2023-07-11 14:52:16,229 INFO Sending request to https://cds.climate.copernicus.eu/api/v2/resources/projections-cmip6\n",
      "2023-07-11 14:52:16,306 INFO Request is queued\n"
     ]
    },
    {
     "name": "stdout",
     "output_type": "stream",
     "text": [
      "Some parameters are not matching\n",
      "Test with model inm_cm4_8\n",
      "path_for_file does not exist: the data may not have been downloaded\n",
      "file_download does not exist: the data were not downloaded\n"
     ]
    },
    {
     "name": "stderr",
     "output_type": "stream",
     "text": [
      "2023-07-11 14:52:17,349 INFO Request is failed\n",
      "2023-07-11 14:52:17,350 ERROR Message: an internal error occurred processing your request\n",
      "2023-07-11 14:52:17,351 ERROR Reason:  No matching data for request {'experiment': 'ssp119', 'model': 'INM-CM4-8', 'temporal_resolution': 'day', 'variable': 'pr'}\n",
      "2023-07-11 14:52:17,351 ERROR   Traceback (most recent call last):\n",
      "2023-07-11 14:52:17,352 ERROR     File \"/opt/cdstoolbox/cdscompute/cdscompute/cdshandlers/services/handler.py\", line 59, in handle_request\n",
      "2023-07-11 14:52:17,352 ERROR       result = cached(context.method, proc, context, context.args, context.kwargs)\n",
      "2023-07-11 14:52:17,353 ERROR     File \"/opt/cdstoolbox/cdscompute/cdscompute/caching.py\", line 108, in cached\n",
      "2023-07-11 14:52:17,353 ERROR       result = proc(context, *context.args, **context.kwargs)\n",
      "2023-07-11 14:52:17,354 ERROR     File \"/opt/cdstoolbox/cdscompute/cdscompute/services.py\", line 124, in __call__\n",
      "2023-07-11 14:52:17,355 ERROR       return p(*args, **kwargs)\n",
      "2023-07-11 14:52:17,356 ERROR     File \"/opt/cdstoolbox/cdscompute/cdscompute/services.py\", line 60, in __call__\n",
      "2023-07-11 14:52:17,358 ERROR       return self.proc(context, *args, **kwargs)\n",
      "2023-07-11 14:52:17,359 ERROR     File \"/home/cds/cdsservices/services/esgf_wps/__init__.py\", line 30, in execute\n",
      "2023-07-11 14:52:17,360 ERROR       request_facets, request = facets.search(context, request)\n",
      "2023-07-11 14:52:17,362 ERROR     File \"/home/cds/cdsservices/services/esgf_wps/facets.py\", line 61, in search\n",
      "2023-07-11 14:52:17,363 ERROR       raise ValueError(f'No matching data for request {tmp_request}')\n",
      "2023-07-11 14:52:17,366 ERROR   ValueError: No matching data for request {'experiment': 'ssp119', 'model': 'INM-CM4-8', 'temporal_resolution': 'day', 'variable': 'pr'}\n",
      "2023-07-11 14:52:17,416 INFO Welcome to the CDS\n",
      "2023-07-11 14:52:17,417 INFO Sending request to https://cds.climate.copernicus.eu/api/v2/resources/projections-cmip6\n",
      "2023-07-11 14:52:17,457 INFO Request is queued\n"
     ]
    },
    {
     "name": "stdout",
     "output_type": "stream",
     "text": [
      "Some parameters are not matching\n",
      "Test with model ipsl_cm5a2_inca\n",
      "path_for_file does not exist: the data may not have been downloaded\n",
      "file_download does not exist: the data were not downloaded\n"
     ]
    },
    {
     "name": "stderr",
     "output_type": "stream",
     "text": [
      "2023-07-11 14:52:18,498 INFO Request is failed\n",
      "2023-07-11 14:52:18,499 ERROR Message: an internal error occurred processing your request\n",
      "2023-07-11 14:52:18,500 ERROR Reason:  No matching data for request {'experiment': 'ssp119', 'model': 'IPSL-CM5A2-INCA', 'temporal_resolution': 'day', 'variable': 'pr'}\n",
      "2023-07-11 14:52:18,500 ERROR   Traceback (most recent call last):\n",
      "2023-07-11 14:52:18,501 ERROR     File \"/opt/cdstoolbox/cdscompute/cdscompute/cdshandlers/services/handler.py\", line 59, in handle_request\n",
      "2023-07-11 14:52:18,502 ERROR       result = cached(context.method, proc, context, context.args, context.kwargs)\n",
      "2023-07-11 14:52:18,503 ERROR     File \"/opt/cdstoolbox/cdscompute/cdscompute/caching.py\", line 108, in cached\n",
      "2023-07-11 14:52:18,504 ERROR       result = proc(context, *context.args, **context.kwargs)\n",
      "2023-07-11 14:52:18,505 ERROR     File \"/opt/cdstoolbox/cdscompute/cdscompute/services.py\", line 124, in __call__\n",
      "2023-07-11 14:52:18,505 ERROR       return p(*args, **kwargs)\n",
      "2023-07-11 14:52:18,507 ERROR     File \"/opt/cdstoolbox/cdscompute/cdscompute/services.py\", line 60, in __call__\n",
      "2023-07-11 14:52:18,507 ERROR       return self.proc(context, *args, **kwargs)\n",
      "2023-07-11 14:52:18,508 ERROR     File \"/home/cds/cdsservices/services/esgf_wps/__init__.py\", line 30, in execute\n",
      "2023-07-11 14:52:18,508 ERROR       request_facets, request = facets.search(context, request)\n",
      "2023-07-11 14:52:18,508 ERROR     File \"/home/cds/cdsservices/services/esgf_wps/facets.py\", line 61, in search\n",
      "2023-07-11 14:52:18,510 ERROR       raise ValueError(f'No matching data for request {tmp_request}')\n",
      "2023-07-11 14:52:18,512 ERROR   ValueError: No matching data for request {'experiment': 'ssp119', 'model': 'IPSL-CM5A2-INCA', 'temporal_resolution': 'day', 'variable': 'pr'}\n",
      "2023-07-11 14:52:18,543 INFO Welcome to the CDS\n",
      "2023-07-11 14:52:18,544 INFO Sending request to https://cds.climate.copernicus.eu/api/v2/resources/projections-cmip6\n",
      "2023-07-11 14:52:18,612 INFO Request is queued\n"
     ]
    },
    {
     "name": "stdout",
     "output_type": "stream",
     "text": [
      "Some parameters are not matching\n",
      "Test with model kace_1_0_g\n",
      "path_for_file does not exist: the data may not have been downloaded\n",
      "file_download does not exist: the data were not downloaded\n"
     ]
    },
    {
     "name": "stderr",
     "output_type": "stream",
     "text": [
      "2023-07-11 14:52:19,654 INFO Request is failed\n",
      "2023-07-11 14:52:19,655 ERROR Message: an internal error occurred processing your request\n",
      "2023-07-11 14:52:19,655 ERROR Reason:  No matching data for request {'experiment': 'ssp119', 'model': 'KACE-1-0-G', 'temporal_resolution': 'day', 'variable': 'pr'}\n",
      "2023-07-11 14:52:19,655 ERROR   Traceback (most recent call last):\n",
      "2023-07-11 14:52:19,657 ERROR     File \"/opt/cdstoolbox/cdscompute/cdscompute/cdshandlers/services/handler.py\", line 59, in handle_request\n",
      "2023-07-11 14:52:19,658 ERROR       result = cached(context.method, proc, context, context.args, context.kwargs)\n",
      "2023-07-11 14:52:19,659 ERROR     File \"/opt/cdstoolbox/cdscompute/cdscompute/caching.py\", line 108, in cached\n",
      "2023-07-11 14:52:19,660 ERROR       result = proc(context, *context.args, **context.kwargs)\n",
      "2023-07-11 14:52:19,661 ERROR     File \"/opt/cdstoolbox/cdscompute/cdscompute/services.py\", line 124, in __call__\n",
      "2023-07-11 14:52:19,662 ERROR       return p(*args, **kwargs)\n",
      "2023-07-11 14:52:19,662 ERROR     File \"/opt/cdstoolbox/cdscompute/cdscompute/services.py\", line 60, in __call__\n",
      "2023-07-11 14:52:19,663 ERROR       return self.proc(context, *args, **kwargs)\n",
      "2023-07-11 14:52:19,663 ERROR     File \"/home/cds/cdsservices/services/esgf_wps/__init__.py\", line 30, in execute\n",
      "2023-07-11 14:52:19,665 ERROR       request_facets, request = facets.search(context, request)\n",
      "2023-07-11 14:52:19,665 ERROR     File \"/home/cds/cdsservices/services/esgf_wps/facets.py\", line 61, in search\n",
      "2023-07-11 14:52:19,667 ERROR       raise ValueError(f'No matching data for request {tmp_request}')\n",
      "2023-07-11 14:52:19,667 ERROR   ValueError: No matching data for request {'experiment': 'ssp119', 'model': 'KACE-1-0-G', 'temporal_resolution': 'day', 'variable': 'pr'}\n",
      "2023-07-11 14:52:19,700 INFO Welcome to the CDS\n",
      "2023-07-11 14:52:19,701 INFO Sending request to https://cds.climate.copernicus.eu/api/v2/resources/projections-cmip6\n",
      "2023-07-11 14:52:19,757 INFO Request is queued\n"
     ]
    },
    {
     "name": "stdout",
     "output_type": "stream",
     "text": [
      "Some parameters are not matching\n",
      "Test with model mcm_ua_1_0\n",
      "path_for_file does not exist: the data may not have been downloaded\n",
      "file_download does not exist: the data were not downloaded\n"
     ]
    },
    {
     "name": "stderr",
     "output_type": "stream",
     "text": [
      "2023-07-11 14:52:20,804 INFO Request is running\n",
      "2023-07-11 14:52:22,347 INFO Request is failed\n",
      "2023-07-11 14:52:22,348 ERROR Message: an internal error occurred processing your request\n",
      "2023-07-11 14:52:22,349 ERROR Reason:  No matching data for request {'experiment': 'ssp119', 'model': 'MCM-UA-1-0', 'temporal_resolution': 'day', 'variable': 'pr'}\n",
      "2023-07-11 14:52:22,350 ERROR   Traceback (most recent call last):\n",
      "2023-07-11 14:52:22,350 ERROR     File \"/opt/cdstoolbox/cdscompute/cdscompute/cdshandlers/services/handler.py\", line 59, in handle_request\n",
      "2023-07-11 14:52:22,351 ERROR       result = cached(context.method, proc, context, context.args, context.kwargs)\n",
      "2023-07-11 14:52:22,352 ERROR     File \"/opt/cdstoolbox/cdscompute/cdscompute/caching.py\", line 108, in cached\n",
      "2023-07-11 14:52:22,353 ERROR       result = proc(context, *context.args, **context.kwargs)\n",
      "2023-07-11 14:52:22,353 ERROR     File \"/opt/cdstoolbox/cdscompute/cdscompute/services.py\", line 124, in __call__\n",
      "2023-07-11 14:52:22,354 ERROR       return p(*args, **kwargs)\n",
      "2023-07-11 14:52:22,354 ERROR     File \"/opt/cdstoolbox/cdscompute/cdscompute/services.py\", line 60, in __call__\n",
      "2023-07-11 14:52:22,356 ERROR       return self.proc(context, *args, **kwargs)\n",
      "2023-07-11 14:52:22,357 ERROR     File \"/home/cds/cdsservices/services/esgf_wps/__init__.py\", line 30, in execute\n",
      "2023-07-11 14:52:22,357 ERROR       request_facets, request = facets.search(context, request)\n",
      "2023-07-11 14:52:22,358 ERROR     File \"/home/cds/cdsservices/services/esgf_wps/facets.py\", line 61, in search\n",
      "2023-07-11 14:52:22,358 ERROR       raise ValueError(f'No matching data for request {tmp_request}')\n",
      "2023-07-11 14:52:22,359 ERROR   ValueError: No matching data for request {'experiment': 'ssp119', 'model': 'MCM-UA-1-0', 'temporal_resolution': 'day', 'variable': 'pr'}\n",
      "2023-07-11 14:52:22,392 INFO Welcome to the CDS\n",
      "2023-07-11 14:52:22,393 INFO Sending request to https://cds.climate.copernicus.eu/api/v2/resources/projections-cmip6\n",
      "2023-07-11 14:52:22,470 INFO Request is queued\n"
     ]
    },
    {
     "name": "stdout",
     "output_type": "stream",
     "text": [
      "Some parameters are not matching\n",
      "Test with model miroc_es2h\n",
      "path_for_file does not exist: the data may not have been downloaded\n",
      "file_download does not exist: the data were not downloaded\n"
     ]
    },
    {
     "name": "stderr",
     "output_type": "stream",
     "text": [
      "2023-07-11 14:52:23,503 INFO Request is failed\n",
      "2023-07-11 14:52:23,504 ERROR Message: an internal error occurred processing your request\n",
      "2023-07-11 14:52:23,505 ERROR Reason:  No matching data for request {'experiment': 'ssp119', 'model': 'MIROC-ES2H', 'temporal_resolution': 'day', 'variable': 'pr'}\n",
      "2023-07-11 14:52:23,506 ERROR   Traceback (most recent call last):\n",
      "2023-07-11 14:52:23,506 ERROR     File \"/opt/cdstoolbox/cdscompute/cdscompute/cdshandlers/services/handler.py\", line 59, in handle_request\n",
      "2023-07-11 14:52:23,507 ERROR       result = cached(context.method, proc, context, context.args, context.kwargs)\n",
      "2023-07-11 14:52:23,508 ERROR     File \"/opt/cdstoolbox/cdscompute/cdscompute/caching.py\", line 108, in cached\n",
      "2023-07-11 14:52:23,509 ERROR       result = proc(context, *context.args, **context.kwargs)\n",
      "2023-07-11 14:52:23,509 ERROR     File \"/opt/cdstoolbox/cdscompute/cdscompute/services.py\", line 124, in __call__\n",
      "2023-07-11 14:52:23,510 ERROR       return p(*args, **kwargs)\n",
      "2023-07-11 14:52:23,510 ERROR     File \"/opt/cdstoolbox/cdscompute/cdscompute/services.py\", line 60, in __call__\n",
      "2023-07-11 14:52:23,512 ERROR       return self.proc(context, *args, **kwargs)\n",
      "2023-07-11 14:52:23,512 ERROR     File \"/home/cds/cdsservices/services/esgf_wps/__init__.py\", line 30, in execute\n",
      "2023-07-11 14:52:23,513 ERROR       request_facets, request = facets.search(context, request)\n",
      "2023-07-11 14:52:23,514 ERROR     File \"/home/cds/cdsservices/services/esgf_wps/facets.py\", line 61, in search\n",
      "2023-07-11 14:52:23,514 ERROR       raise ValueError(f'No matching data for request {tmp_request}')\n",
      "2023-07-11 14:52:23,514 ERROR   ValueError: No matching data for request {'experiment': 'ssp119', 'model': 'MIROC-ES2H', 'temporal_resolution': 'day', 'variable': 'pr'}\n",
      "2023-07-11 14:52:23,547 INFO Welcome to the CDS\n",
      "2023-07-11 14:52:23,548 INFO Sending request to https://cds.climate.copernicus.eu/api/v2/resources/projections-cmip6\n",
      "2023-07-11 14:52:23,585 INFO Request is queued\n"
     ]
    },
    {
     "name": "stdout",
     "output_type": "stream",
     "text": [
      "Some parameters are not matching\n",
      "Test with model mpi_esm_1_2_ham\n",
      "path_for_file does not exist: the data may not have been downloaded\n",
      "file_download does not exist: the data were not downloaded\n"
     ]
    },
    {
     "name": "stderr",
     "output_type": "stream",
     "text": [
      "2023-07-11 14:52:26,183 INFO Request is failed\n",
      "2023-07-11 14:52:26,184 ERROR Message: an internal error occurred processing your request\n",
      "2023-07-11 14:52:26,186 ERROR Reason:  No matching data for request {'experiment': 'ssp119', 'model': 'MPI-ESM-1-2-HAM', 'temporal_resolution': 'day', 'variable': 'pr'}\n",
      "2023-07-11 14:52:26,187 ERROR   Traceback (most recent call last):\n",
      "2023-07-11 14:52:26,189 ERROR     File \"/opt/cdstoolbox/cdscompute/cdscompute/cdshandlers/services/handler.py\", line 59, in handle_request\n",
      "2023-07-11 14:52:26,193 ERROR       result = cached(context.method, proc, context, context.args, context.kwargs)\n",
      "2023-07-11 14:52:26,194 ERROR     File \"/opt/cdstoolbox/cdscompute/cdscompute/caching.py\", line 108, in cached\n",
      "2023-07-11 14:52:26,195 ERROR       result = proc(context, *context.args, **context.kwargs)\n",
      "2023-07-11 14:52:26,196 ERROR     File \"/opt/cdstoolbox/cdscompute/cdscompute/services.py\", line 124, in __call__\n",
      "2023-07-11 14:52:26,197 ERROR       return p(*args, **kwargs)\n",
      "2023-07-11 14:52:26,198 ERROR     File \"/opt/cdstoolbox/cdscompute/cdscompute/services.py\", line 60, in __call__\n",
      "2023-07-11 14:52:26,199 ERROR       return self.proc(context, *args, **kwargs)\n",
      "2023-07-11 14:52:26,200 ERROR     File \"/home/cds/cdsservices/services/esgf_wps/__init__.py\", line 30, in execute\n",
      "2023-07-11 14:52:26,202 ERROR       request_facets, request = facets.search(context, request)\n",
      "2023-07-11 14:52:26,202 ERROR     File \"/home/cds/cdsservices/services/esgf_wps/facets.py\", line 61, in search\n",
      "2023-07-11 14:52:26,205 ERROR       raise ValueError(f'No matching data for request {tmp_request}')\n",
      "2023-07-11 14:52:26,208 ERROR   ValueError: No matching data for request {'experiment': 'ssp119', 'model': 'MPI-ESM-1-2-HAM', 'temporal_resolution': 'day', 'variable': 'pr'}\n",
      "2023-07-11 14:52:26,264 INFO Welcome to the CDS\n",
      "2023-07-11 14:52:26,265 INFO Sending request to https://cds.climate.copernicus.eu/api/v2/resources/projections-cmip6\n",
      "2023-07-11 14:52:26,316 INFO Request is queued\n"
     ]
    },
    {
     "name": "stdout",
     "output_type": "stream",
     "text": [
      "Some parameters are not matching\n",
      "Test with model mpi_esm1_2_lr\n",
      "path_for_file does not exist: the data may not have been downloaded\n",
      "file_download does not exist: the data were not downloaded\n"
     ]
    },
    {
     "name": "stderr",
     "output_type": "stream",
     "text": [
      "2023-07-11 14:52:27,359 INFO Request is failed\n",
      "2023-07-11 14:52:27,360 ERROR Message: an internal error occurred processing your request\n",
      "2023-07-11 14:52:27,363 ERROR Reason:  No matching data for request {'experiment': 'ssp119', 'model': 'MPI-ESM1-2-LR', 'temporal_resolution': 'day', 'variable': 'pr'}\n",
      "2023-07-11 14:52:27,365 ERROR   Traceback (most recent call last):\n",
      "2023-07-11 14:52:27,367 ERROR     File \"/opt/cdstoolbox/cdscompute/cdscompute/cdshandlers/services/handler.py\", line 59, in handle_request\n",
      "2023-07-11 14:52:27,368 ERROR       result = cached(context.method, proc, context, context.args, context.kwargs)\n",
      "2023-07-11 14:52:27,369 ERROR     File \"/opt/cdstoolbox/cdscompute/cdscompute/caching.py\", line 108, in cached\n",
      "2023-07-11 14:52:27,370 ERROR       result = proc(context, *context.args, **context.kwargs)\n",
      "2023-07-11 14:52:27,370 ERROR     File \"/opt/cdstoolbox/cdscompute/cdscompute/services.py\", line 124, in __call__\n",
      "2023-07-11 14:52:27,371 ERROR       return p(*args, **kwargs)\n",
      "2023-07-11 14:52:27,372 ERROR     File \"/opt/cdstoolbox/cdscompute/cdscompute/services.py\", line 60, in __call__\n",
      "2023-07-11 14:52:27,373 ERROR       return self.proc(context, *args, **kwargs)\n",
      "2023-07-11 14:52:27,374 ERROR     File \"/home/cds/cdsservices/services/esgf_wps/__init__.py\", line 30, in execute\n",
      "2023-07-11 14:52:27,376 ERROR       request_facets, request = facets.search(context, request)\n",
      "2023-07-11 14:52:27,377 ERROR     File \"/home/cds/cdsservices/services/esgf_wps/facets.py\", line 61, in search\n",
      "2023-07-11 14:52:27,378 ERROR       raise ValueError(f'No matching data for request {tmp_request}')\n",
      "2023-07-11 14:52:27,380 ERROR   ValueError: No matching data for request {'experiment': 'ssp119', 'model': 'MPI-ESM1-2-LR', 'temporal_resolution': 'day', 'variable': 'pr'}\n",
      "2023-07-11 14:52:27,427 INFO Welcome to the CDS\n",
      "2023-07-11 14:52:27,432 INFO Sending request to https://cds.climate.copernicus.eu/api/v2/resources/projections-cmip6\n",
      "2023-07-11 14:52:27,483 INFO Request is queued\n"
     ]
    },
    {
     "name": "stdout",
     "output_type": "stream",
     "text": [
      "Some parameters are not matching\n",
      "Test with model nesm3\n",
      "path_for_file does not exist: the data may not have been downloaded\n",
      "file_download does not exist: the data were not downloaded\n"
     ]
    },
    {
     "name": "stderr",
     "output_type": "stream",
     "text": [
      "2023-07-11 14:52:28,517 INFO Request is failed\n",
      "2023-07-11 14:52:28,518 ERROR Message: an internal error occurred processing your request\n",
      "2023-07-11 14:52:28,519 ERROR Reason:  No matching data for request {'experiment': 'ssp119', 'model': 'NESM3', 'temporal_resolution': 'day', 'variable': 'pr'}\n",
      "2023-07-11 14:52:28,519 ERROR   Traceback (most recent call last):\n",
      "2023-07-11 14:52:28,521 ERROR     File \"/opt/cdstoolbox/cdscompute/cdscompute/cdshandlers/services/handler.py\", line 59, in handle_request\n",
      "2023-07-11 14:52:28,524 ERROR       result = cached(context.method, proc, context, context.args, context.kwargs)\n",
      "2023-07-11 14:52:28,525 ERROR     File \"/opt/cdstoolbox/cdscompute/cdscompute/caching.py\", line 108, in cached\n",
      "2023-07-11 14:52:28,525 ERROR       result = proc(context, *context.args, **context.kwargs)\n",
      "2023-07-11 14:52:28,526 ERROR     File \"/opt/cdstoolbox/cdscompute/cdscompute/services.py\", line 124, in __call__\n",
      "2023-07-11 14:52:28,527 ERROR       return p(*args, **kwargs)\n",
      "2023-07-11 14:52:28,528 ERROR     File \"/opt/cdstoolbox/cdscompute/cdscompute/services.py\", line 60, in __call__\n",
      "2023-07-11 14:52:28,529 ERROR       return self.proc(context, *args, **kwargs)\n",
      "2023-07-11 14:52:28,530 ERROR     File \"/home/cds/cdsservices/services/esgf_wps/__init__.py\", line 30, in execute\n",
      "2023-07-11 14:52:28,530 ERROR       request_facets, request = facets.search(context, request)\n",
      "2023-07-11 14:52:28,531 ERROR     File \"/home/cds/cdsservices/services/esgf_wps/facets.py\", line 61, in search\n",
      "2023-07-11 14:52:28,533 ERROR       raise ValueError(f'No matching data for request {tmp_request}')\n",
      "2023-07-11 14:52:28,534 ERROR   ValueError: No matching data for request {'experiment': 'ssp119', 'model': 'NESM3', 'temporal_resolution': 'day', 'variable': 'pr'}\n",
      "2023-07-11 14:52:28,568 INFO Welcome to the CDS\n",
      "2023-07-11 14:52:28,569 INFO Sending request to https://cds.climate.copernicus.eu/api/v2/resources/projections-cmip6\n",
      "2023-07-11 14:52:28,647 INFO Request is queued\n"
     ]
    },
    {
     "name": "stdout",
     "output_type": "stream",
     "text": [
      "Some parameters are not matching\n",
      "Test with model noresm2_lm\n",
      "path_for_file does not exist: the data may not have been downloaded\n",
      "file_download does not exist: the data were not downloaded\n"
     ]
    },
    {
     "name": "stderr",
     "output_type": "stream",
     "text": [
      "2023-07-11 14:52:29,684 INFO Request is failed\n",
      "2023-07-11 14:52:29,686 ERROR Message: an internal error occurred processing your request\n",
      "2023-07-11 14:52:29,687 ERROR Reason:  No matching data for request {'experiment': 'ssp119', 'model': 'NorESM2-LM', 'temporal_resolution': 'day', 'variable': 'pr'}\n",
      "2023-07-11 14:52:29,688 ERROR   Traceback (most recent call last):\n",
      "2023-07-11 14:52:29,689 ERROR     File \"/opt/cdstoolbox/cdscompute/cdscompute/cdshandlers/services/handler.py\", line 59, in handle_request\n",
      "2023-07-11 14:52:29,690 ERROR       result = cached(context.method, proc, context, context.args, context.kwargs)\n",
      "2023-07-11 14:52:29,690 ERROR     File \"/opt/cdstoolbox/cdscompute/cdscompute/caching.py\", line 108, in cached\n",
      "2023-07-11 14:52:29,692 ERROR       result = proc(context, *context.args, **context.kwargs)\n",
      "2023-07-11 14:52:29,693 ERROR     File \"/opt/cdstoolbox/cdscompute/cdscompute/services.py\", line 124, in __call__\n",
      "2023-07-11 14:52:29,693 ERROR       return p(*args, **kwargs)\n",
      "2023-07-11 14:52:29,694 ERROR     File \"/opt/cdstoolbox/cdscompute/cdscompute/services.py\", line 60, in __call__\n",
      "2023-07-11 14:52:29,694 ERROR       return self.proc(context, *args, **kwargs)\n",
      "2023-07-11 14:52:29,695 ERROR     File \"/home/cds/cdsservices/services/esgf_wps/__init__.py\", line 30, in execute\n",
      "2023-07-11 14:52:29,696 ERROR       request_facets, request = facets.search(context, request)\n",
      "2023-07-11 14:52:29,697 ERROR     File \"/home/cds/cdsservices/services/esgf_wps/facets.py\", line 61, in search\n",
      "2023-07-11 14:52:29,698 ERROR       raise ValueError(f'No matching data for request {tmp_request}')\n",
      "2023-07-11 14:52:29,700 ERROR   ValueError: No matching data for request {'experiment': 'ssp119', 'model': 'NorESM2-LM', 'temporal_resolution': 'day', 'variable': 'pr'}\n",
      "2023-07-11 14:52:29,731 INFO Welcome to the CDS\n",
      "2023-07-11 14:52:29,732 INFO Sending request to https://cds.climate.copernicus.eu/api/v2/resources/projections-cmip6\n",
      "2023-07-11 14:52:29,784 INFO Request is queued\n"
     ]
    },
    {
     "name": "stdout",
     "output_type": "stream",
     "text": [
      "Some parameters are not matching\n",
      "Test with model sam0_unicon\n",
      "path_for_file does not exist: the data may not have been downloaded\n",
      "file_download does not exist: the data were not downloaded\n"
     ]
    },
    {
     "name": "stderr",
     "output_type": "stream",
     "text": [
      "2023-07-11 14:52:30,822 INFO Request is failed\n",
      "2023-07-11 14:52:30,823 ERROR Message: an internal error occurred processing your request\n",
      "2023-07-11 14:52:30,824 ERROR Reason:  No matching data for request {'experiment': 'ssp119', 'model': 'SAM0-UNICON', 'temporal_resolution': 'day', 'variable': 'pr'}\n",
      "2023-07-11 14:52:30,824 ERROR   Traceback (most recent call last):\n",
      "2023-07-11 14:52:30,825 ERROR     File \"/opt/cdstoolbox/cdscompute/cdscompute/cdshandlers/services/handler.py\", line 59, in handle_request\n",
      "2023-07-11 14:52:30,826 ERROR       result = cached(context.method, proc, context, context.args, context.kwargs)\n",
      "2023-07-11 14:52:30,826 ERROR     File \"/opt/cdstoolbox/cdscompute/cdscompute/caching.py\", line 108, in cached\n",
      "2023-07-11 14:52:30,827 ERROR       result = proc(context, *context.args, **context.kwargs)\n",
      "2023-07-11 14:52:30,828 ERROR     File \"/opt/cdstoolbox/cdscompute/cdscompute/services.py\", line 124, in __call__\n",
      "2023-07-11 14:52:30,828 ERROR       return p(*args, **kwargs)\n",
      "2023-07-11 14:52:30,829 ERROR     File \"/opt/cdstoolbox/cdscompute/cdscompute/services.py\", line 60, in __call__\n",
      "2023-07-11 14:52:30,830 ERROR       return self.proc(context, *args, **kwargs)\n",
      "2023-07-11 14:52:30,831 ERROR     File \"/home/cds/cdsservices/services/esgf_wps/__init__.py\", line 30, in execute\n",
      "2023-07-11 14:52:30,832 ERROR       request_facets, request = facets.search(context, request)\n",
      "2023-07-11 14:52:30,832 ERROR     File \"/home/cds/cdsservices/services/esgf_wps/facets.py\", line 61, in search\n",
      "2023-07-11 14:52:30,832 ERROR       raise ValueError(f'No matching data for request {tmp_request}')\n",
      "2023-07-11 14:52:30,833 ERROR   ValueError: No matching data for request {'experiment': 'ssp119', 'model': 'SAM0-UNICON', 'temporal_resolution': 'day', 'variable': 'pr'}\n",
      "2023-07-11 14:52:30,866 INFO Welcome to the CDS\n",
      "2023-07-11 14:52:30,867 INFO Sending request to https://cds.climate.copernicus.eu/api/v2/resources/projections-cmip6\n",
      "2023-07-11 14:52:30,906 INFO Request is queued\n"
     ]
    },
    {
     "name": "stdout",
     "output_type": "stream",
     "text": [
      "Some parameters are not matching\n",
      "Test with model ukesm1_0_ll\n",
      "path_for_file does not exist: the data may not have been downloaded\n",
      "file_download does not exist: the data were not downloaded\n"
     ]
    },
    {
     "name": "stderr",
     "output_type": "stream",
     "text": [
      "2023-07-11 14:52:31,946 INFO Request is running\n",
      "2023-07-11 14:53:46,264 INFO Request is failed\n",
      "2023-07-11 14:53:46,265 ERROR Message: an internal error occurred processing your request\n",
      "2023-07-11 14:53:46,266 ERROR Reason:  Process error: Sorry, process failed. Please check server error log.\n",
      "2023-07-11 14:53:46,267 ERROR   Traceback (most recent call last):\n",
      "2023-07-11 14:53:46,267 ERROR     File \"/usr/local/lib/python3.6/site-packages/rooki/results.py\", line 33, in url\n",
      "2023-07-11 14:53:46,268 ERROR       return self.response.get()[0]\n",
      "2023-07-11 14:53:46,269 ERROR     File \"/usr/local/lib/python3.6/site-packages/birdy/client/outputs.py\", line 40, in get\n",
      "2023-07-11 14:53:46,269 ERROR       raise ProcessFailed(\"Sorry, process failed.\")\n",
      "2023-07-11 14:53:46,270 ERROR   birdy.exceptions.ProcessFailed: Sorry, process failed.\n",
      "2023-07-11 14:53:46,308 INFO Welcome to the CDS\n",
      "2023-07-11 14:53:46,309 INFO Sending request to https://cds.climate.copernicus.eu/api/v2/resources/projections-cmip6\n",
      "2023-07-11 14:53:46,347 INFO Request is queued\n"
     ]
    },
    {
     "name": "stdout",
     "output_type": "stream",
     "text": [
      "Some parameters are not matching\n",
      "Test with scenario ssp1_2_6\n",
      "Test with model access_cm2\n",
      "path_for_file does not exist: the data may not have been downloaded\n",
      "file_download does not exist: the data were not downloaded\n"
     ]
    },
    {
     "name": "stderr",
     "output_type": "stream",
     "text": [
      "2023-07-11 14:53:47,387 INFO Request is running\n",
      "2023-07-11 14:55:01,588 INFO Request is completed\n",
      "2023-07-11 14:55:01,590 INFO Downloading https://download-0020.copernicus-climate.eu/cache-compute-0020/cache/data6/adaptor.esgf_wps.retrieve-1689080089.2396402-21594-7-db01586b-003b-407d-8475-00a8836b6632.zip to download.zip (10M)\n",
      "2023-07-11 14:55:02,760 INFO Download rate 8.6M/s                                                                      \n"
     ]
    },
    {
     "name": "stdout",
     "output_type": "stream",
     "text": [
      "The file has been download\n",
      "Path for the file is created, did not existed before\n"
     ]
    },
    {
     "name": "stderr",
     "output_type": "stream",
     "text": [
      "2023-07-11 14:55:05,374 INFO Welcome to the CDS\n",
      "2023-07-11 14:55:05,375 INFO Sending request to https://cds.climate.copernicus.eu/api/v2/resources/projections-cmip6\n",
      "2023-07-11 14:55:05,438 INFO Request is queued\n"
     ]
    },
    {
     "name": "stdout",
     "output_type": "stream",
     "text": [
      "\n",
      " The downloaded file is extracted\n",
      "The file has been extracted\n",
      "Test with model awi_cm_1_1_mr\n",
      "path_for_file does not exist: the data may not have been downloaded\n",
      "file_download does not exist: the data were not downloaded\n"
     ]
    },
    {
     "name": "stderr",
     "output_type": "stream",
     "text": [
      "2023-07-11 14:55:06,472 INFO Request is running\n",
      "2023-07-11 14:59:23,890 INFO Request is completed\n",
      "2023-07-11 14:59:23,892 INFO Downloading https://download-0020.copernicus-climate.eu/cache-compute-0020/cache/data3/adaptor.esgf_wps.retrieve-1689080352.706512-22016-13-a859b6ca-3620-4885-bd01-a9206afb984c.zip to download.zip (25.1M)\n",
      "2023-07-11 14:59:28,432 INFO Download rate 5.5M/s                                                                      \n"
     ]
    },
    {
     "name": "stdout",
     "output_type": "stream",
     "text": [
      "The file has been download\n",
      "Path for the file is created, did not existed before\n"
     ]
    },
    {
     "name": "stderr",
     "output_type": "stream",
     "text": [
      "2023-07-11 14:59:30,749 INFO Welcome to the CDS\n",
      "2023-07-11 14:59:30,750 INFO Sending request to https://cds.climate.copernicus.eu/api/v2/resources/projections-cmip6\n",
      "2023-07-11 14:59:30,863 INFO Request is queued\n"
     ]
    },
    {
     "name": "stdout",
     "output_type": "stream",
     "text": [
      "\n",
      " The downloaded file is extracted\n",
      "The file has been extracted\n",
      "Test with model bcc_csm2_mr\n",
      "path_for_file does not exist: the data may not have been downloaded\n",
      "file_download does not exist: the data were not downloaded\n"
     ]
    },
    {
     "name": "stderr",
     "output_type": "stream",
     "text": [
      "2023-07-11 14:59:31,916 INFO Request is running\n",
      "2023-07-11 15:07:50,595 INFO Request is completed\n",
      "2023-07-11 15:07:50,598 INFO Downloading https://download-0013-clone.copernicus-climate.eu/cache-compute-0013/cache/data2/adaptor.esgf_wps.retrieve-1689080836.0070963-2597-11-e6562c5a-5a2a-428b-a671-82471eabced7.zip to download.zip (30.9M)\n",
      "2023-07-11 15:07:59,288 INFO Download rate 3.6M/s                                                                      \n"
     ]
    },
    {
     "name": "stdout",
     "output_type": "stream",
     "text": [
      "The file has been download\n",
      "Path for the file is created, did not existed before\n"
     ]
    },
    {
     "name": "stderr",
     "output_type": "stream",
     "text": [
      "2023-07-11 15:08:01,535 INFO Welcome to the CDS\n",
      "2023-07-11 15:08:01,536 INFO Sending request to https://cds.climate.copernicus.eu/api/v2/resources/projections-cmip6\n",
      "2023-07-11 15:08:01,609 INFO Request is queued\n"
     ]
    },
    {
     "name": "stdout",
     "output_type": "stream",
     "text": [
      "\n",
      " The downloaded file is extracted\n",
      "The file has been extracted\n",
      "Test with model cams_csm1_0\n",
      "path_for_file does not exist: the data may not have been downloaded\n",
      "file_download does not exist: the data were not downloaded\n"
     ]
    },
    {
     "name": "stderr",
     "output_type": "stream",
     "text": [
      "2023-07-11 15:08:02,647 INFO Request is running\n",
      "2023-07-11 15:10:53,025 INFO Request is failed\n",
      "2023-07-11 15:10:53,026 ERROR Message: an internal error occurred processing your request\n",
      "2023-07-11 15:10:53,027 ERROR Reason:  Process error: 2100\n",
      "2023-07-11 15:10:53,028 ERROR   Traceback (most recent call last):\n",
      "2023-07-11 15:10:53,028 ERROR     File \"/usr/local/lib/python3.6/site-packages/rooki/results.py\", line 33, in url\n",
      "2023-07-11 15:10:53,029 ERROR       return self.response.get()[0]\n",
      "2023-07-11 15:10:53,030 ERROR     File \"/usr/local/lib/python3.6/site-packages/birdy/client/outputs.py\", line 40, in get\n",
      "2023-07-11 15:10:53,030 ERROR       raise ProcessFailed(\"Sorry, process failed.\")\n",
      "2023-07-11 15:10:53,031 ERROR   birdy.exceptions.ProcessFailed: Sorry, process failed.\n",
      "2023-07-11 15:10:53,072 INFO Welcome to the CDS\n",
      "2023-07-11 15:10:53,073 INFO Sending request to https://cds.climate.copernicus.eu/api/v2/resources/projections-cmip6\n",
      "2023-07-11 15:10:53,144 INFO Request is queued\n"
     ]
    },
    {
     "name": "stdout",
     "output_type": "stream",
     "text": [
      "Some parameters are not matching\n",
      "Test with model canesm5_canoe\n",
      "path_for_file does not exist: the data may not have been downloaded\n",
      "file_download does not exist: the data were not downloaded\n"
     ]
    },
    {
     "name": "stderr",
     "output_type": "stream",
     "text": [
      "2023-07-11 15:10:54,189 INFO Request is failed\n",
      "2023-07-11 15:10:54,190 ERROR Message: an internal error occurred processing your request\n",
      "2023-07-11 15:10:54,191 ERROR Reason:  No matching data for request {'experiment': 'ssp126', 'model': 'CanESM5-CanOE', 'temporal_resolution': 'day', 'variable': 'pr'}\n",
      "2023-07-11 15:10:54,192 ERROR   Traceback (most recent call last):\n",
      "2023-07-11 15:10:54,193 ERROR     File \"/opt/cdstoolbox/cdscompute/cdscompute/cdshandlers/services/handler.py\", line 59, in handle_request\n",
      "2023-07-11 15:10:54,193 ERROR       result = cached(context.method, proc, context, context.args, context.kwargs)\n",
      "2023-07-11 15:10:54,194 ERROR     File \"/opt/cdstoolbox/cdscompute/cdscompute/caching.py\", line 108, in cached\n",
      "2023-07-11 15:10:54,194 ERROR       result = proc(context, *context.args, **context.kwargs)\n",
      "2023-07-11 15:10:54,195 ERROR     File \"/opt/cdstoolbox/cdscompute/cdscompute/services.py\", line 124, in __call__\n",
      "2023-07-11 15:10:54,195 ERROR       return p(*args, **kwargs)\n",
      "2023-07-11 15:10:54,196 ERROR     File \"/opt/cdstoolbox/cdscompute/cdscompute/services.py\", line 60, in __call__\n",
      "2023-07-11 15:10:54,197 ERROR       return self.proc(context, *args, **kwargs)\n",
      "2023-07-11 15:10:54,197 ERROR     File \"/home/cds/cdsservices/services/esgf_wps/__init__.py\", line 30, in execute\n",
      "2023-07-11 15:10:54,198 ERROR       request_facets, request = facets.search(context, request)\n",
      "2023-07-11 15:10:54,199 ERROR     File \"/home/cds/cdsservices/services/esgf_wps/facets.py\", line 61, in search\n",
      "2023-07-11 15:10:54,200 ERROR       raise ValueError(f'No matching data for request {tmp_request}')\n",
      "2023-07-11 15:10:54,200 ERROR   ValueError: No matching data for request {'experiment': 'ssp126', 'model': 'CanESM5-CanOE', 'temporal_resolution': 'day', 'variable': 'pr'}\n",
      "2023-07-11 15:10:54,242 INFO Welcome to the CDS\n",
      "2023-07-11 15:10:54,244 INFO Sending request to https://cds.climate.copernicus.eu/api/v2/resources/projections-cmip6\n",
      "2023-07-11 15:10:54,373 INFO Request is queued\n"
     ]
    },
    {
     "name": "stdout",
     "output_type": "stream",
     "text": [
      "Some parameters are not matching\n",
      "Test with model cesm2_fv2\n",
      "path_for_file does not exist: the data may not have been downloaded\n",
      "file_download does not exist: the data were not downloaded\n"
     ]
    },
    {
     "name": "stderr",
     "output_type": "stream",
     "text": [
      "2023-07-11 15:10:55,416 INFO Request is failed\n",
      "2023-07-11 15:10:55,417 ERROR Message: an internal error occurred processing your request\n",
      "2023-07-11 15:10:55,417 ERROR Reason:  No matching data for request {'experiment': 'ssp126', 'model': 'CESM2-FV2', 'temporal_resolution': 'day', 'variable': 'pr'}\n",
      "2023-07-11 15:10:55,419 ERROR   Traceback (most recent call last):\n",
      "2023-07-11 15:10:55,420 ERROR     File \"/opt/cdstoolbox/cdscompute/cdscompute/cdshandlers/services/handler.py\", line 59, in handle_request\n",
      "2023-07-11 15:10:55,421 ERROR       result = cached(context.method, proc, context, context.args, context.kwargs)\n",
      "2023-07-11 15:10:55,422 ERROR     File \"/opt/cdstoolbox/cdscompute/cdscompute/caching.py\", line 108, in cached\n",
      "2023-07-11 15:10:55,422 ERROR       result = proc(context, *context.args, **context.kwargs)\n",
      "2023-07-11 15:10:55,423 ERROR     File \"/opt/cdstoolbox/cdscompute/cdscompute/services.py\", line 124, in __call__\n",
      "2023-07-11 15:10:55,424 ERROR       return p(*args, **kwargs)\n",
      "2023-07-11 15:10:55,424 ERROR     File \"/opt/cdstoolbox/cdscompute/cdscompute/services.py\", line 60, in __call__\n",
      "2023-07-11 15:10:55,425 ERROR       return self.proc(context, *args, **kwargs)\n",
      "2023-07-11 15:10:55,425 ERROR     File \"/home/cds/cdsservices/services/esgf_wps/__init__.py\", line 30, in execute\n",
      "2023-07-11 15:10:55,425 ERROR       request_facets, request = facets.search(context, request)\n",
      "2023-07-11 15:10:55,426 ERROR     File \"/home/cds/cdsservices/services/esgf_wps/facets.py\", line 61, in search\n",
      "2023-07-11 15:10:55,426 ERROR       raise ValueError(f'No matching data for request {tmp_request}')\n",
      "2023-07-11 15:10:55,427 ERROR   ValueError: No matching data for request {'experiment': 'ssp126', 'model': 'CESM2-FV2', 'temporal_resolution': 'day', 'variable': 'pr'}\n",
      "2023-07-11 15:10:55,465 INFO Welcome to the CDS\n",
      "2023-07-11 15:10:55,465 INFO Sending request to https://cds.climate.copernicus.eu/api/v2/resources/projections-cmip6\n",
      "2023-07-11 15:10:55,611 INFO Request is queued\n"
     ]
    },
    {
     "name": "stdout",
     "output_type": "stream",
     "text": [
      "Some parameters are not matching\n",
      "Test with model cesm2_waccm_fv2\n",
      "path_for_file does not exist: the data may not have been downloaded\n",
      "file_download does not exist: the data were not downloaded\n"
     ]
    },
    {
     "name": "stderr",
     "output_type": "stream",
     "text": [
      "2023-07-11 15:10:56,645 INFO Request is failed\n",
      "2023-07-11 15:10:56,645 ERROR Message: an internal error occurred processing your request\n",
      "2023-07-11 15:10:56,647 ERROR Reason:  No matching data for request {'experiment': 'ssp126', 'model': 'CESM2-WACCM-FV2', 'temporal_resolution': 'day', 'variable': 'pr'}\n",
      "2023-07-11 15:10:56,648 ERROR   Traceback (most recent call last):\n",
      "2023-07-11 15:10:56,648 ERROR     File \"/opt/cdstoolbox/cdscompute/cdscompute/cdshandlers/services/handler.py\", line 59, in handle_request\n",
      "2023-07-11 15:10:56,649 ERROR       result = cached(context.method, proc, context, context.args, context.kwargs)\n",
      "2023-07-11 15:10:56,649 ERROR     File \"/opt/cdstoolbox/cdscompute/cdscompute/caching.py\", line 108, in cached\n",
      "2023-07-11 15:10:56,650 ERROR       result = proc(context, *context.args, **context.kwargs)\n",
      "2023-07-11 15:10:56,650 ERROR     File \"/opt/cdstoolbox/cdscompute/cdscompute/services.py\", line 124, in __call__\n",
      "2023-07-11 15:10:56,651 ERROR       return p(*args, **kwargs)\n",
      "2023-07-11 15:10:56,651 ERROR     File \"/opt/cdstoolbox/cdscompute/cdscompute/services.py\", line 60, in __call__\n",
      "2023-07-11 15:10:56,651 ERROR       return self.proc(context, *args, **kwargs)\n",
      "2023-07-11 15:10:56,652 ERROR     File \"/home/cds/cdsservices/services/esgf_wps/__init__.py\", line 30, in execute\n",
      "2023-07-11 15:10:56,652 ERROR       request_facets, request = facets.search(context, request)\n",
      "2023-07-11 15:10:56,653 ERROR     File \"/home/cds/cdsservices/services/esgf_wps/facets.py\", line 61, in search\n",
      "2023-07-11 15:10:56,653 ERROR       raise ValueError(f'No matching data for request {tmp_request}')\n",
      "2023-07-11 15:10:56,653 ERROR   ValueError: No matching data for request {'experiment': 'ssp126', 'model': 'CESM2-WACCM-FV2', 'temporal_resolution': 'day', 'variable': 'pr'}\n",
      "2023-07-11 15:10:56,686 INFO Welcome to the CDS\n",
      "2023-07-11 15:10:56,686 INFO Sending request to https://cds.climate.copernicus.eu/api/v2/resources/projections-cmip6\n",
      "2023-07-11 15:10:56,736 INFO Request is queued\n"
     ]
    },
    {
     "name": "stdout",
     "output_type": "stream",
     "text": [
      "Some parameters are not matching\n",
      "Test with model cmcc_cm2_hr4\n",
      "path_for_file does not exist: the data may not have been downloaded\n",
      "file_download does not exist: the data were not downloaded\n"
     ]
    },
    {
     "name": "stderr",
     "output_type": "stream",
     "text": [
      "2023-07-11 15:10:57,783 INFO Request is failed\n",
      "2023-07-11 15:10:57,784 ERROR Message: an internal error occurred processing your request\n",
      "2023-07-11 15:10:57,785 ERROR Reason:  No matching data for request {'experiment': 'ssp126', 'model': 'CMCC-CM2-HR4', 'temporal_resolution': 'day', 'variable': 'pr'}\n",
      "2023-07-11 15:10:57,786 ERROR   Traceback (most recent call last):\n",
      "2023-07-11 15:10:57,787 ERROR     File \"/opt/cdstoolbox/cdscompute/cdscompute/cdshandlers/services/handler.py\", line 59, in handle_request\n",
      "2023-07-11 15:10:57,788 ERROR       result = cached(context.method, proc, context, context.args, context.kwargs)\n",
      "2023-07-11 15:10:57,790 ERROR     File \"/opt/cdstoolbox/cdscompute/cdscompute/caching.py\", line 108, in cached\n",
      "2023-07-11 15:10:57,791 ERROR       result = proc(context, *context.args, **context.kwargs)\n",
      "2023-07-11 15:10:57,791 ERROR     File \"/opt/cdstoolbox/cdscompute/cdscompute/services.py\", line 124, in __call__\n",
      "2023-07-11 15:10:57,792 ERROR       return p(*args, **kwargs)\n",
      "2023-07-11 15:10:57,792 ERROR     File \"/opt/cdstoolbox/cdscompute/cdscompute/services.py\", line 60, in __call__\n",
      "2023-07-11 15:10:57,793 ERROR       return self.proc(context, *args, **kwargs)\n",
      "2023-07-11 15:10:57,793 ERROR     File \"/home/cds/cdsservices/services/esgf_wps/__init__.py\", line 30, in execute\n",
      "2023-07-11 15:10:57,794 ERROR       request_facets, request = facets.search(context, request)\n",
      "2023-07-11 15:10:57,795 ERROR     File \"/home/cds/cdsservices/services/esgf_wps/facets.py\", line 61, in search\n",
      "2023-07-11 15:10:57,796 ERROR       raise ValueError(f'No matching data for request {tmp_request}')\n",
      "2023-07-11 15:10:57,797 ERROR   ValueError: No matching data for request {'experiment': 'ssp126', 'model': 'CMCC-CM2-HR4', 'temporal_resolution': 'day', 'variable': 'pr'}\n",
      "2023-07-11 15:10:57,830 INFO Welcome to the CDS\n",
      "2023-07-11 15:10:57,831 INFO Sending request to https://cds.climate.copernicus.eu/api/v2/resources/projections-cmip6\n",
      "2023-07-11 15:10:57,909 INFO Request is queued\n"
     ]
    },
    {
     "name": "stdout",
     "output_type": "stream",
     "text": [
      "Some parameters are not matching\n",
      "Test with model cmcc_esm2\n",
      "path_for_file does not exist: the data may not have been downloaded\n",
      "file_download does not exist: the data were not downloaded\n"
     ]
    },
    {
     "name": "stderr",
     "output_type": "stream",
     "text": [
      "2023-07-11 15:10:58,943 INFO Request is running\n",
      "2023-07-11 15:12:51,645 INFO Request is completed\n",
      "2023-07-11 15:12:51,647 INFO Downloading https://download-0020.copernicus-climate.eu/cache-compute-0020/cache/data9/adaptor.esgf_wps.retrieve-1689081154.827976-26652-14-bc52135e-1fc7-411a-8d74-0dba6c0b723c.zip to download.zip (17.8M)\n",
      "2023-07-11 15:12:57,667 INFO Download rate 3M/s                                                                        \n"
     ]
    },
    {
     "name": "stdout",
     "output_type": "stream",
     "text": [
      "The file has been download\n",
      "Path for the file is created, did not existed before\n"
     ]
    },
    {
     "name": "stderr",
     "output_type": "stream",
     "text": [
      "2023-07-11 15:12:59,136 INFO Welcome to the CDS\n",
      "2023-07-11 15:12:59,137 INFO Sending request to https://cds.climate.copernicus.eu/api/v2/resources/projections-cmip6\n",
      "2023-07-11 15:12:59,196 INFO Request is queued\n"
     ]
    },
    {
     "name": "stdout",
     "output_type": "stream",
     "text": [
      "\n",
      " The downloaded file is extracted\n",
      "The file has been extracted\n",
      "Test with model cnrm_cm6_1_hr\n",
      "path_for_file does not exist: the data may not have been downloaded\n",
      "file_download does not exist: the data were not downloaded\n"
     ]
    },
    {
     "name": "stderr",
     "output_type": "stream",
     "text": [
      "2023-07-11 15:13:00,237 INFO Request is running\n",
      "2023-07-11 15:19:18,381 INFO Request is completed\n",
      "2023-07-11 15:19:18,384 INFO Downloading https://download-0020.copernicus-climate.eu/cache-compute-0020/cache/data2/adaptor.esgf_wps.retrieve-1689081478.4975898-27093-18-ac4ab48f-a106-4fc7-a6a7-dba24a1a0ffb.zip to download.zip (84.9M)\n",
      "2023-07-11 15:19:26,776 INFO Download rate 10.1M/s                                                                     \n"
     ]
    },
    {
     "name": "stdout",
     "output_type": "stream",
     "text": [
      "The file has been download\n",
      "Path for the file is created, did not existed before\n"
     ]
    },
    {
     "name": "stderr",
     "output_type": "stream",
     "text": [
      "2023-07-11 15:19:31,826 INFO Welcome to the CDS\n",
      "2023-07-11 15:19:31,827 INFO Sending request to https://cds.climate.copernicus.eu/api/v2/resources/projections-cmip6\n",
      "2023-07-11 15:19:31,890 INFO Request is queued\n"
     ]
    },
    {
     "name": "stdout",
     "output_type": "stream",
     "text": [
      "\n",
      " The downloaded file is extracted\n",
      "The file has been extracted\n",
      "Test with model e3sm_1_0\n",
      "path_for_file does not exist: the data may not have been downloaded\n",
      "file_download does not exist: the data were not downloaded\n"
     ]
    },
    {
     "name": "stderr",
     "output_type": "stream",
     "text": [
      "2023-07-11 15:19:32,946 INFO Request is failed\n",
      "2023-07-11 15:19:32,947 ERROR Message: an internal error occurred processing your request\n",
      "2023-07-11 15:19:32,948 ERROR Reason:  No matching data for request {'experiment': 'ssp126', 'model': 'E3SM-1-0', 'temporal_resolution': 'day', 'variable': 'pr'}\n",
      "2023-07-11 15:19:32,948 ERROR   Traceback (most recent call last):\n",
      "2023-07-11 15:19:32,949 ERROR     File \"/opt/cdstoolbox/cdscompute/cdscompute/cdshandlers/services/handler.py\", line 59, in handle_request\n",
      "2023-07-11 15:19:32,949 ERROR       result = cached(context.method, proc, context, context.args, context.kwargs)\n",
      "2023-07-11 15:19:32,950 ERROR     File \"/opt/cdstoolbox/cdscompute/cdscompute/caching.py\", line 108, in cached\n",
      "2023-07-11 15:19:32,951 ERROR       result = proc(context, *context.args, **context.kwargs)\n",
      "2023-07-11 15:19:32,951 ERROR     File \"/opt/cdstoolbox/cdscompute/cdscompute/services.py\", line 124, in __call__\n",
      "2023-07-11 15:19:32,952 ERROR       return p(*args, **kwargs)\n",
      "2023-07-11 15:19:32,953 ERROR     File \"/opt/cdstoolbox/cdscompute/cdscompute/services.py\", line 60, in __call__\n",
      "2023-07-11 15:19:32,953 ERROR       return self.proc(context, *args, **kwargs)\n",
      "2023-07-11 15:19:32,953 ERROR     File \"/home/cds/cdsservices/services/esgf_wps/__init__.py\", line 30, in execute\n",
      "2023-07-11 15:19:32,954 ERROR       request_facets, request = facets.search(context, request)\n",
      "2023-07-11 15:19:32,955 ERROR     File \"/home/cds/cdsservices/services/esgf_wps/facets.py\", line 61, in search\n",
      "2023-07-11 15:19:32,955 ERROR       raise ValueError(f'No matching data for request {tmp_request}')\n",
      "2023-07-11 15:19:32,955 ERROR   ValueError: No matching data for request {'experiment': 'ssp126', 'model': 'E3SM-1-0', 'temporal_resolution': 'day', 'variable': 'pr'}\n",
      "2023-07-11 15:19:32,988 INFO Welcome to the CDS\n",
      "2023-07-11 15:19:32,989 INFO Sending request to https://cds.climate.copernicus.eu/api/v2/resources/projections-cmip6\n",
      "2023-07-11 15:19:33,089 INFO Request is queued\n"
     ]
    },
    {
     "name": "stdout",
     "output_type": "stream",
     "text": [
      "Some parameters are not matching\n",
      "Test with model e3sm_1_1_eca\n",
      "path_for_file does not exist: the data may not have been downloaded\n",
      "file_download does not exist: the data were not downloaded\n"
     ]
    },
    {
     "name": "stderr",
     "output_type": "stream",
     "text": [
      "2023-07-11 15:19:34,133 INFO Request is failed\n",
      "2023-07-11 15:19:34,134 ERROR Message: an internal error occurred processing your request\n",
      "2023-07-11 15:19:34,134 ERROR Reason:  No matching data for request {'experiment': 'ssp126', 'model': 'E3SM-1-1-ECA', 'temporal_resolution': 'day', 'variable': 'pr'}\n",
      "2023-07-11 15:19:34,135 ERROR   Traceback (most recent call last):\n",
      "2023-07-11 15:19:34,136 ERROR     File \"/opt/cdstoolbox/cdscompute/cdscompute/cdshandlers/services/handler.py\", line 59, in handle_request\n",
      "2023-07-11 15:19:34,136 ERROR       result = cached(context.method, proc, context, context.args, context.kwargs)\n",
      "2023-07-11 15:19:34,136 ERROR     File \"/opt/cdstoolbox/cdscompute/cdscompute/caching.py\", line 108, in cached\n",
      "2023-07-11 15:19:34,137 ERROR       result = proc(context, *context.args, **context.kwargs)\n",
      "2023-07-11 15:19:34,138 ERROR     File \"/opt/cdstoolbox/cdscompute/cdscompute/services.py\", line 124, in __call__\n",
      "2023-07-11 15:19:34,138 ERROR       return p(*args, **kwargs)\n",
      "2023-07-11 15:19:34,138 ERROR     File \"/opt/cdstoolbox/cdscompute/cdscompute/services.py\", line 60, in __call__\n",
      "2023-07-11 15:19:34,139 ERROR       return self.proc(context, *args, **kwargs)\n",
      "2023-07-11 15:19:34,139 ERROR     File \"/home/cds/cdsservices/services/esgf_wps/__init__.py\", line 30, in execute\n",
      "2023-07-11 15:19:34,140 ERROR       request_facets, request = facets.search(context, request)\n",
      "2023-07-11 15:19:34,140 ERROR     File \"/home/cds/cdsservices/services/esgf_wps/facets.py\", line 61, in search\n",
      "2023-07-11 15:19:34,141 ERROR       raise ValueError(f'No matching data for request {tmp_request}')\n",
      "2023-07-11 15:19:34,143 ERROR   ValueError: No matching data for request {'experiment': 'ssp126', 'model': 'E3SM-1-1-ECA', 'temporal_resolution': 'day', 'variable': 'pr'}\n",
      "2023-07-11 15:19:34,178 INFO Welcome to the CDS\n",
      "2023-07-11 15:19:34,179 INFO Sending request to https://cds.climate.copernicus.eu/api/v2/resources/projections-cmip6\n",
      "2023-07-11 15:19:34,245 INFO Request is queued\n"
     ]
    },
    {
     "name": "stdout",
     "output_type": "stream",
     "text": [
      "Some parameters are not matching\n",
      "Test with model ec_earth3_aerchem\n",
      "path_for_file does not exist: the data may not have been downloaded\n",
      "file_download does not exist: the data were not downloaded\n"
     ]
    },
    {
     "name": "stderr",
     "output_type": "stream",
     "text": [
      "2023-07-11 15:19:35,281 INFO Request is failed\n",
      "2023-07-11 15:19:35,282 ERROR Message: an internal error occurred processing your request\n",
      "2023-07-11 15:19:35,284 ERROR Reason:  No matching data for request {'experiment': 'ssp126', 'model': 'EC-Earth3-AerChem', 'temporal_resolution': 'day', 'variable': 'pr'}\n",
      "2023-07-11 15:19:35,286 ERROR   Traceback (most recent call last):\n",
      "2023-07-11 15:19:35,287 ERROR     File \"/opt/cdstoolbox/cdscompute/cdscompute/cdshandlers/services/handler.py\", line 59, in handle_request\n",
      "2023-07-11 15:19:35,288 ERROR       result = cached(context.method, proc, context, context.args, context.kwargs)\n",
      "2023-07-11 15:19:35,289 ERROR     File \"/opt/cdstoolbox/cdscompute/cdscompute/caching.py\", line 108, in cached\n",
      "2023-07-11 15:19:35,291 ERROR       result = proc(context, *context.args, **context.kwargs)\n",
      "2023-07-11 15:19:35,291 ERROR     File \"/opt/cdstoolbox/cdscompute/cdscompute/services.py\", line 124, in __call__\n",
      "2023-07-11 15:19:35,292 ERROR       return p(*args, **kwargs)\n",
      "2023-07-11 15:19:35,293 ERROR     File \"/opt/cdstoolbox/cdscompute/cdscompute/services.py\", line 60, in __call__\n",
      "2023-07-11 15:19:35,293 ERROR       return self.proc(context, *args, **kwargs)\n",
      "2023-07-11 15:19:35,294 ERROR     File \"/home/cds/cdsservices/services/esgf_wps/__init__.py\", line 30, in execute\n",
      "2023-07-11 15:19:35,295 ERROR       request_facets, request = facets.search(context, request)\n",
      "2023-07-11 15:19:35,295 ERROR     File \"/home/cds/cdsservices/services/esgf_wps/facets.py\", line 61, in search\n",
      "2023-07-11 15:19:35,295 ERROR       raise ValueError(f'No matching data for request {tmp_request}')\n",
      "2023-07-11 15:19:35,297 ERROR   ValueError: No matching data for request {'experiment': 'ssp126', 'model': 'EC-Earth3-AerChem', 'temporal_resolution': 'day', 'variable': 'pr'}\n",
      "2023-07-11 15:19:35,348 INFO Welcome to the CDS\n",
      "2023-07-11 15:19:35,349 INFO Sending request to https://cds.climate.copernicus.eu/api/v2/resources/projections-cmip6\n"
     ]
    },
    {
     "name": "stdout",
     "output_type": "stream",
     "text": [
      "Some parameters are not matching\n",
      "Test with model ec_earth3_veg\n",
      "path_for_file does not exist: the data may not have been downloaded\n",
      "file_download does not exist: the data were not downloaded\n"
     ]
    },
    {
     "name": "stderr",
     "output_type": "stream",
     "text": [
      "2023-07-11 15:19:35,511 INFO Request is queued\n",
      "2023-07-11 15:19:36,561 INFO Request is failed\n",
      "2023-07-11 15:19:36,563 ERROR Message: an internal error occurred processing your request\n",
      "2023-07-11 15:19:36,565 ERROR Reason:  No matching data for request {'experiment': 'ssp126', 'model': 'EC-Earth3-Veg', 'temporal_resolution': 'day', 'variable': 'pr'}\n",
      "2023-07-11 15:19:36,566 ERROR   Traceback (most recent call last):\n",
      "2023-07-11 15:19:36,569 ERROR     File \"/opt/cdstoolbox/cdscompute/cdscompute/cdshandlers/services/handler.py\", line 59, in handle_request\n",
      "2023-07-11 15:19:36,570 ERROR       result = cached(context.method, proc, context, context.args, context.kwargs)\n",
      "2023-07-11 15:19:36,570 ERROR     File \"/opt/cdstoolbox/cdscompute/cdscompute/caching.py\", line 108, in cached\n",
      "2023-07-11 15:19:36,571 ERROR       result = proc(context, *context.args, **context.kwargs)\n",
      "2023-07-11 15:19:36,571 ERROR     File \"/opt/cdstoolbox/cdscompute/cdscompute/services.py\", line 124, in __call__\n",
      "2023-07-11 15:19:36,572 ERROR       return p(*args, **kwargs)\n",
      "2023-07-11 15:19:36,572 ERROR     File \"/opt/cdstoolbox/cdscompute/cdscompute/services.py\", line 60, in __call__\n",
      "2023-07-11 15:19:36,573 ERROR       return self.proc(context, *args, **kwargs)\n",
      "2023-07-11 15:19:36,573 ERROR     File \"/home/cds/cdsservices/services/esgf_wps/__init__.py\", line 30, in execute\n",
      "2023-07-11 15:19:36,574 ERROR       request_facets, request = facets.search(context, request)\n",
      "2023-07-11 15:19:36,575 ERROR     File \"/home/cds/cdsservices/services/esgf_wps/facets.py\", line 61, in search\n",
      "2023-07-11 15:19:36,575 ERROR       raise ValueError(f'No matching data for request {tmp_request}')\n",
      "2023-07-11 15:19:36,577 ERROR   ValueError: No matching data for request {'experiment': 'ssp126', 'model': 'EC-Earth3-Veg', 'temporal_resolution': 'day', 'variable': 'pr'}\n",
      "2023-07-11 15:19:36,611 INFO Welcome to the CDS\n",
      "2023-07-11 15:19:36,611 INFO Sending request to https://cds.climate.copernicus.eu/api/v2/resources/projections-cmip6\n",
      "2023-07-11 15:19:36,675 INFO Request is queued\n"
     ]
    },
    {
     "name": "stdout",
     "output_type": "stream",
     "text": [
      "Some parameters are not matching\n",
      "Test with model fgoals_f3_l\n",
      "path_for_file does not exist: the data may not have been downloaded\n",
      "file_download does not exist: the data were not downloaded\n"
     ]
    },
    {
     "name": "stderr",
     "output_type": "stream",
     "text": [
      "2023-07-11 15:19:37,720 INFO Request is failed\n",
      "2023-07-11 15:19:37,721 ERROR Message: an internal error occurred processing your request\n",
      "2023-07-11 15:19:37,722 ERROR Reason:  No matching data for request {'experiment': 'ssp126', 'model': 'FGOALS-f3-L', 'temporal_resolution': 'day', 'variable': 'pr'}\n",
      "2023-07-11 15:19:37,723 ERROR   Traceback (most recent call last):\n",
      "2023-07-11 15:19:37,723 ERROR     File \"/opt/cdstoolbox/cdscompute/cdscompute/cdshandlers/services/handler.py\", line 59, in handle_request\n",
      "2023-07-11 15:19:37,724 ERROR       result = cached(context.method, proc, context, context.args, context.kwargs)\n",
      "2023-07-11 15:19:37,724 ERROR     File \"/opt/cdstoolbox/cdscompute/cdscompute/caching.py\", line 108, in cached\n",
      "2023-07-11 15:19:37,725 ERROR       result = proc(context, *context.args, **context.kwargs)\n",
      "2023-07-11 15:19:37,725 ERROR     File \"/opt/cdstoolbox/cdscompute/cdscompute/services.py\", line 124, in __call__\n",
      "2023-07-11 15:19:37,726 ERROR       return p(*args, **kwargs)\n",
      "2023-07-11 15:19:37,727 ERROR     File \"/opt/cdstoolbox/cdscompute/cdscompute/services.py\", line 60, in __call__\n",
      "2023-07-11 15:19:37,727 ERROR       return self.proc(context, *args, **kwargs)\n",
      "2023-07-11 15:19:37,728 ERROR     File \"/home/cds/cdsservices/services/esgf_wps/__init__.py\", line 30, in execute\n",
      "2023-07-11 15:19:37,729 ERROR       request_facets, request = facets.search(context, request)\n",
      "2023-07-11 15:19:37,729 ERROR     File \"/home/cds/cdsservices/services/esgf_wps/facets.py\", line 61, in search\n",
      "2023-07-11 15:19:37,730 ERROR       raise ValueError(f'No matching data for request {tmp_request}')\n",
      "2023-07-11 15:19:37,731 ERROR   ValueError: No matching data for request {'experiment': 'ssp126', 'model': 'FGOALS-f3-L', 'temporal_resolution': 'day', 'variable': 'pr'}\n",
      "2023-07-11 15:19:37,769 INFO Welcome to the CDS\n",
      "2023-07-11 15:19:37,770 INFO Sending request to https://cds.climate.copernicus.eu/api/v2/resources/projections-cmip6\n",
      "2023-07-11 15:19:37,849 INFO Request is queued\n"
     ]
    },
    {
     "name": "stdout",
     "output_type": "stream",
     "text": [
      "Some parameters are not matching\n",
      "Test with model fio_esm_2_0\n",
      "path_for_file does not exist: the data may not have been downloaded\n",
      "file_download does not exist: the data were not downloaded\n"
     ]
    },
    {
     "name": "stderr",
     "output_type": "stream",
     "text": [
      "2023-07-11 15:19:38,891 INFO Request is failed\n",
      "2023-07-11 15:19:38,892 ERROR Message: an internal error occurred processing your request\n",
      "2023-07-11 15:19:38,893 ERROR Reason:  No matching data for request {'experiment': 'ssp126', 'model': 'FIO-ESM-2-0', 'temporal_resolution': 'day', 'variable': 'pr'}\n",
      "2023-07-11 15:19:38,893 ERROR   Traceback (most recent call last):\n",
      "2023-07-11 15:19:38,894 ERROR     File \"/opt/cdstoolbox/cdscompute/cdscompute/cdshandlers/services/handler.py\", line 59, in handle_request\n",
      "2023-07-11 15:19:38,895 ERROR       result = cached(context.method, proc, context, context.args, context.kwargs)\n",
      "2023-07-11 15:19:38,895 ERROR     File \"/opt/cdstoolbox/cdscompute/cdscompute/caching.py\", line 108, in cached\n",
      "2023-07-11 15:19:38,896 ERROR       result = proc(context, *context.args, **context.kwargs)\n",
      "2023-07-11 15:19:38,896 ERROR     File \"/opt/cdstoolbox/cdscompute/cdscompute/services.py\", line 124, in __call__\n",
      "2023-07-11 15:19:38,897 ERROR       return p(*args, **kwargs)\n",
      "2023-07-11 15:19:38,898 ERROR     File \"/opt/cdstoolbox/cdscompute/cdscompute/services.py\", line 60, in __call__\n",
      "2023-07-11 15:19:38,898 ERROR       return self.proc(context, *args, **kwargs)\n",
      "2023-07-11 15:19:38,899 ERROR     File \"/home/cds/cdsservices/services/esgf_wps/__init__.py\", line 30, in execute\n",
      "2023-07-11 15:19:38,900 ERROR       request_facets, request = facets.search(context, request)\n",
      "2023-07-11 15:19:38,900 ERROR     File \"/home/cds/cdsservices/services/esgf_wps/facets.py\", line 61, in search\n",
      "2023-07-11 15:19:38,902 ERROR       raise ValueError(f'No matching data for request {tmp_request}')\n",
      "2023-07-11 15:19:38,902 ERROR   ValueError: No matching data for request {'experiment': 'ssp126', 'model': 'FIO-ESM-2-0', 'temporal_resolution': 'day', 'variable': 'pr'}\n",
      "2023-07-11 15:19:38,946 INFO Welcome to the CDS\n",
      "2023-07-11 15:19:38,947 INFO Sending request to https://cds.climate.copernicus.eu/api/v2/resources/projections-cmip6\n",
      "2023-07-11 15:19:39,027 INFO Request is queued\n"
     ]
    },
    {
     "name": "stdout",
     "output_type": "stream",
     "text": [
      "Some parameters are not matching\n",
      "Test with model giss_e2_1_g\n",
      "path_for_file does not exist: the data may not have been downloaded\n",
      "file_download does not exist: the data were not downloaded\n"
     ]
    },
    {
     "name": "stderr",
     "output_type": "stream",
     "text": [
      "2023-07-11 15:19:40,074 INFO Request is failed\n",
      "2023-07-11 15:19:40,075 ERROR Message: an internal error occurred processing your request\n",
      "2023-07-11 15:19:40,076 ERROR Reason:  No matching data for request {'experiment': 'ssp126', 'model': 'GISS-E2-1-G', 'temporal_resolution': 'day', 'variable': 'pr'}\n",
      "2023-07-11 15:19:40,077 ERROR   Traceback (most recent call last):\n",
      "2023-07-11 15:19:40,078 ERROR     File \"/opt/cdstoolbox/cdscompute/cdscompute/cdshandlers/services/handler.py\", line 59, in handle_request\n",
      "2023-07-11 15:19:40,079 ERROR       result = cached(context.method, proc, context, context.args, context.kwargs)\n",
      "2023-07-11 15:19:40,079 ERROR     File \"/opt/cdstoolbox/cdscompute/cdscompute/caching.py\", line 108, in cached\n",
      "2023-07-11 15:19:40,079 ERROR       result = proc(context, *context.args, **context.kwargs)\n",
      "2023-07-11 15:19:40,080 ERROR     File \"/opt/cdstoolbox/cdscompute/cdscompute/services.py\", line 124, in __call__\n",
      "2023-07-11 15:19:40,080 ERROR       return p(*args, **kwargs)\n",
      "2023-07-11 15:19:40,081 ERROR     File \"/opt/cdstoolbox/cdscompute/cdscompute/services.py\", line 60, in __call__\n",
      "2023-07-11 15:19:40,082 ERROR       return self.proc(context, *args, **kwargs)\n",
      "2023-07-11 15:19:40,082 ERROR     File \"/home/cds/cdsservices/services/esgf_wps/__init__.py\", line 30, in execute\n",
      "2023-07-11 15:19:40,084 ERROR       request_facets, request = facets.search(context, request)\n",
      "2023-07-11 15:19:40,085 ERROR     File \"/home/cds/cdsservices/services/esgf_wps/facets.py\", line 61, in search\n",
      "2023-07-11 15:19:40,085 ERROR       raise ValueError(f'No matching data for request {tmp_request}')\n",
      "2023-07-11 15:19:40,086 ERROR   ValueError: No matching data for request {'experiment': 'ssp126', 'model': 'GISS-E2-1-G', 'temporal_resolution': 'day', 'variable': 'pr'}\n",
      "2023-07-11 15:19:40,120 INFO Welcome to the CDS\n",
      "2023-07-11 15:19:40,121 INFO Sending request to https://cds.climate.copernicus.eu/api/v2/resources/projections-cmip6\n",
      "2023-07-11 15:19:40,185 INFO Request is queued\n"
     ]
    },
    {
     "name": "stdout",
     "output_type": "stream",
     "text": [
      "Some parameters are not matching\n",
      "Test with model hadgem3_gc31_ll\n",
      "path_for_file does not exist: the data may not have been downloaded\n",
      "file_download does not exist: the data were not downloaded\n"
     ]
    },
    {
     "name": "stderr",
     "output_type": "stream",
     "text": [
      "2023-07-11 15:19:41,221 INFO Request is running\n",
      "2023-07-11 15:20:55,642 INFO Request is failed\n",
      "2023-07-11 15:20:55,643 ERROR Message: an internal error occurred processing your request\n",
      "2023-07-11 15:20:55,644 ERROR Reason:  Process error: Sorry, process failed. Please check server error log.\n",
      "2023-07-11 15:20:55,644 ERROR   Traceback (most recent call last):\n",
      "2023-07-11 15:20:55,645 ERROR     File \"/usr/local/lib/python3.6/site-packages/rooki/results.py\", line 33, in url\n",
      "2023-07-11 15:20:55,645 ERROR       return self.response.get()[0]\n",
      "2023-07-11 15:20:55,646 ERROR     File \"/usr/local/lib/python3.6/site-packages/birdy/client/outputs.py\", line 40, in get\n",
      "2023-07-11 15:20:55,647 ERROR       raise ProcessFailed(\"Sorry, process failed.\")\n",
      "2023-07-11 15:20:55,647 ERROR   birdy.exceptions.ProcessFailed: Sorry, process failed.\n",
      "2023-07-11 15:20:55,682 INFO Welcome to the CDS\n",
      "2023-07-11 15:20:55,683 INFO Sending request to https://cds.climate.copernicus.eu/api/v2/resources/projections-cmip6\n",
      "2023-07-11 15:20:55,752 INFO Request is queued\n"
     ]
    },
    {
     "name": "stdout",
     "output_type": "stream",
     "text": [
      "Some parameters are not matching\n",
      "Test with model iitm_esm\n",
      "path_for_file does not exist: the data may not have been downloaded\n",
      "file_download does not exist: the data were not downloaded\n"
     ]
    },
    {
     "name": "stderr",
     "output_type": "stream",
     "text": [
      "2023-07-11 15:20:56,794 INFO Request is running\n",
      "2023-07-11 15:22:11,020 INFO Request is failed\n",
      "2023-07-11 15:22:11,021 ERROR Message: an internal error occurred processing your request\n",
      "2023-07-11 15:22:11,021 ERROR Reason:  Process error: 2100\n",
      "2023-07-11 15:22:11,022 ERROR   Traceback (most recent call last):\n",
      "2023-07-11 15:22:11,023 ERROR     File \"/usr/local/lib/python3.6/site-packages/rooki/results.py\", line 33, in url\n",
      "2023-07-11 15:22:11,023 ERROR       return self.response.get()[0]\n",
      "2023-07-11 15:22:11,024 ERROR     File \"/usr/local/lib/python3.6/site-packages/birdy/client/outputs.py\", line 40, in get\n",
      "2023-07-11 15:22:11,024 ERROR       raise ProcessFailed(\"Sorry, process failed.\")\n",
      "2023-07-11 15:22:11,025 ERROR   birdy.exceptions.ProcessFailed: Sorry, process failed.\n",
      "2023-07-11 15:22:11,063 INFO Welcome to the CDS\n",
      "2023-07-11 15:22:11,065 INFO Sending request to https://cds.climate.copernicus.eu/api/v2/resources/projections-cmip6\n",
      "2023-07-11 15:22:11,219 INFO Request is queued\n"
     ]
    },
    {
     "name": "stdout",
     "output_type": "stream",
     "text": [
      "Some parameters are not matching\n",
      "Test with model inm_cm5_0\n",
      "path_for_file does not exist: the data may not have been downloaded\n",
      "file_download does not exist: the data were not downloaded\n"
     ]
    },
    {
     "name": "stderr",
     "output_type": "stream",
     "text": [
      "2023-07-11 15:22:12,262 INFO Request is running\n",
      "2023-07-11 15:25:02,711 INFO Request is completed\n",
      "2023-07-11 15:25:02,712 INFO Downloading https://download-0009-clone.copernicus-climate.eu/cache-compute-0009/cache/data9/adaptor.esgf_wps.retrieve-1689081898.6088448-31036-14-da36768a-cf9e-4f4e-956f-43dd990c7a7c.zip to download.zip (7.3M)\n",
      "2023-07-11 15:25:04,128 INFO Download rate 5.2M/s                                                                      \n"
     ]
    },
    {
     "name": "stdout",
     "output_type": "stream",
     "text": [
      "The file has been download\n",
      "Path for the file is created, did not existed before\n"
     ]
    },
    {
     "name": "stderr",
     "output_type": "stream",
     "text": [
      "2023-07-11 15:25:05,729 INFO Welcome to the CDS\n",
      "2023-07-11 15:25:05,731 INFO Sending request to https://cds.climate.copernicus.eu/api/v2/resources/projections-cmip6\n",
      "2023-07-11 15:25:05,837 INFO Request is queued\n"
     ]
    },
    {
     "name": "stdout",
     "output_type": "stream",
     "text": [
      "\n",
      " The downloaded file is extracted\n",
      "The file has been extracted\n",
      "Test with model ipsl_cm6a_lr\n",
      "path_for_file does not exist: the data may not have been downloaded\n",
      "file_download does not exist: the data were not downloaded\n"
     ]
    },
    {
     "name": "stderr",
     "output_type": "stream",
     "text": [
      "2023-07-11 15:25:06,897 INFO Request is running\n",
      "2023-07-11 15:26:21,132 INFO Request is completed\n",
      "2023-07-11 15:26:21,133 INFO Downloading https://download-0005-clone.copernicus-climate.eu/cache-compute-0005/cache/data7/adaptor.esgf_wps.retrieve-1689081959.6759117-30492-18-c8acd326-0167-472d-a323-f5893d9be8df.zip to download.zip (10.9M)\n",
      "2023-07-11 15:26:22,934 INFO Download rate 6.1M/s                                                                      \n"
     ]
    },
    {
     "name": "stdout",
     "output_type": "stream",
     "text": [
      "The file has been download\n",
      "Path for the file is created, did not existed before\n"
     ]
    },
    {
     "name": "stderr",
     "output_type": "stream",
     "text": [
      "2023-07-11 15:26:24,037 INFO Welcome to the CDS\n",
      "2023-07-11 15:26:24,038 INFO Sending request to https://cds.climate.copernicus.eu/api/v2/resources/projections-cmip6\n",
      "2023-07-11 15:26:24,152 INFO Request is queued\n"
     ]
    },
    {
     "name": "stdout",
     "output_type": "stream",
     "text": [
      "\n",
      " The downloaded file is extracted\n",
      "The file has been extracted\n",
      "Test with model kiost_esm\n",
      "path_for_file does not exist: the data may not have been downloaded\n",
      "file_download does not exist: the data were not downloaded\n"
     ]
    },
    {
     "name": "stderr",
     "output_type": "stream",
     "text": [
      "2023-07-11 15:26:25,193 INFO Request is running\n",
      "2023-07-11 15:34:43,322 INFO Request is completed\n",
      "2023-07-11 15:34:43,323 INFO Downloading https://download-0011-clone.copernicus-climate.eu/cache-compute-0011/cache/data1/adaptor.esgf_wps.retrieve-1689082369.8151488-13986-18-f30907a2-5e6f-45c1-bb83-e280e9b24905.zip to download.zip (10.5M)\n",
      "2023-07-11 15:34:44,981 INFO Download rate 6.3M/s                                                                      \n"
     ]
    },
    {
     "name": "stdout",
     "output_type": "stream",
     "text": [
      "The file has been download\n",
      "Path for the file is created, did not existed before\n"
     ]
    },
    {
     "name": "stderr",
     "output_type": "stream",
     "text": [
      "2023-07-11 15:34:46,125 INFO Welcome to the CDS\n",
      "2023-07-11 15:34:46,125 INFO Sending request to https://cds.climate.copernicus.eu/api/v2/resources/projections-cmip6\n",
      "2023-07-11 15:34:46,188 INFO Request is queued\n"
     ]
    },
    {
     "name": "stdout",
     "output_type": "stream",
     "text": [
      "\n",
      " The downloaded file is extracted\n",
      "The file has been extracted\n",
      "Test with model miroc6\n",
      "path_for_file does not exist: the data may not have been downloaded\n",
      "file_download does not exist: the data were not downloaded\n"
     ]
    },
    {
     "name": "stderr",
     "output_type": "stream",
     "text": [
      "2023-07-11 15:34:47,229 INFO Request is running\n",
      "2023-07-11 15:37:37,639 INFO Request is completed\n",
      "2023-07-11 15:37:37,641 INFO Downloading https://download-0008-clone.copernicus-climate.eu/cache-compute-0008/cache/data4/adaptor.esgf_wps.retrieve-1689082647.0322633-29888-18-4d15c5fa-bd2a-4adf-b929-2d98bdb4c228.zip to download.zip (9.2M)\n",
      "2023-07-11 15:37:38,940 INFO Download rate 7.1M/s                                                                      \n"
     ]
    },
    {
     "name": "stdout",
     "output_type": "stream",
     "text": [
      "The file has been download\n",
      "Path for the file is created, did not existed before\n"
     ]
    },
    {
     "name": "stderr",
     "output_type": "stream",
     "text": [
      "2023-07-11 15:37:40,328 INFO Welcome to the CDS\n",
      "2023-07-11 15:37:40,329 INFO Sending request to https://cds.climate.copernicus.eu/api/v2/resources/projections-cmip6\n",
      "2023-07-11 15:37:40,394 INFO Request is queued\n"
     ]
    },
    {
     "name": "stdout",
     "output_type": "stream",
     "text": [
      "\n",
      " The downloaded file is extracted\n",
      "The file has been extracted\n",
      "Test with model miroc_es2l\n",
      "path_for_file does not exist: the data may not have been downloaded\n",
      "file_download does not exist: the data were not downloaded\n"
     ]
    },
    {
     "name": "stderr",
     "output_type": "stream",
     "text": [
      "2023-07-11 15:37:41,434 INFO Request is running\n",
      "2023-07-11 15:39:34,122 INFO Request is completed\n",
      "2023-07-11 15:39:34,123 INFO Downloading https://download-0001-clone.copernicus-climate.eu/cache-compute-0001/cache/data6/adaptor.esgf_wps.retrieve-1689082760.042908-18503-11-415213c9-8d45-412f-b8a1-e8e1cae5a3c1.zip to download.zip (2.9M)\n",
      "2023-07-11 15:39:34,922 INFO Download rate 3.6M/s                                                                      \n"
     ]
    },
    {
     "name": "stdout",
     "output_type": "stream",
     "text": [
      "The file has been download\n",
      "Path for the file is created, did not existed before\n"
     ]
    },
    {
     "name": "stderr",
     "output_type": "stream",
     "text": [
      "2023-07-11 15:39:35,836 INFO Welcome to the CDS\n",
      "2023-07-11 15:39:35,836 INFO Sending request to https://cds.climate.copernicus.eu/api/v2/resources/projections-cmip6\n",
      "2023-07-11 15:39:35,910 INFO Request is queued\n"
     ]
    },
    {
     "name": "stdout",
     "output_type": "stream",
     "text": [
      "\n",
      " The downloaded file is extracted\n",
      "The file has been extracted\n",
      "Test with model mpi_esm1_2_hr\n",
      "path_for_file does not exist: the data may not have been downloaded\n",
      "file_download does not exist: the data were not downloaded\n"
     ]
    },
    {
     "name": "stderr",
     "output_type": "stream",
     "text": [
      "2023-07-11 15:39:36,955 INFO Request is failed\n",
      "2023-07-11 15:39:36,956 ERROR Message: an internal error occurred processing your request\n",
      "2023-07-11 15:39:36,957 ERROR Reason:  No matching data for request {'experiment': 'ssp126', 'model': 'MPI-ESM1-2-HR', 'temporal_resolution': 'day', 'variable': 'pr'}\n",
      "2023-07-11 15:39:36,957 ERROR   Traceback (most recent call last):\n",
      "2023-07-11 15:39:36,957 ERROR     File \"/opt/cdstoolbox/cdscompute/cdscompute/cdshandlers/services/handler.py\", line 59, in handle_request\n",
      "2023-07-11 15:39:36,958 ERROR       result = cached(context.method, proc, context, context.args, context.kwargs)\n",
      "2023-07-11 15:39:36,958 ERROR     File \"/opt/cdstoolbox/cdscompute/cdscompute/caching.py\", line 108, in cached\n",
      "2023-07-11 15:39:36,959 ERROR       result = proc(context, *context.args, **context.kwargs)\n",
      "2023-07-11 15:39:36,960 ERROR     File \"/opt/cdstoolbox/cdscompute/cdscompute/services.py\", line 124, in __call__\n",
      "2023-07-11 15:39:36,960 ERROR       return p(*args, **kwargs)\n",
      "2023-07-11 15:39:36,963 ERROR     File \"/opt/cdstoolbox/cdscompute/cdscompute/services.py\", line 60, in __call__\n",
      "2023-07-11 15:39:36,963 ERROR       return self.proc(context, *args, **kwargs)\n",
      "2023-07-11 15:39:36,964 ERROR     File \"/home/cds/cdsservices/services/esgf_wps/__init__.py\", line 30, in execute\n",
      "2023-07-11 15:39:36,964 ERROR       request_facets, request = facets.search(context, request)\n",
      "2023-07-11 15:39:36,965 ERROR     File \"/home/cds/cdsservices/services/esgf_wps/facets.py\", line 61, in search\n",
      "2023-07-11 15:39:36,966 ERROR       raise ValueError(f'No matching data for request {tmp_request}')\n",
      "2023-07-11 15:39:36,967 ERROR   ValueError: No matching data for request {'experiment': 'ssp126', 'model': 'MPI-ESM1-2-HR', 'temporal_resolution': 'day', 'variable': 'pr'}\n",
      "2023-07-11 15:39:37,010 INFO Welcome to the CDS\n",
      "2023-07-11 15:39:37,010 INFO Sending request to https://cds.climate.copernicus.eu/api/v2/resources/projections-cmip6\n",
      "2023-07-11 15:39:37,077 INFO Request is queued\n"
     ]
    },
    {
     "name": "stdout",
     "output_type": "stream",
     "text": [
      "Some parameters are not matching\n",
      "Test with model mri_esm2_0\n",
      "path_for_file does not exist: the data may not have been downloaded\n",
      "file_download does not exist: the data were not downloaded\n"
     ]
    },
    {
     "name": "stderr",
     "output_type": "stream",
     "text": [
      "2023-07-11 15:39:38,118 INFO Request is running\n",
      "2023-07-11 15:42:28,713 INFO Request is completed\n",
      "2023-07-11 15:42:28,714 INFO Downloading https://download-0014-clone.copernicus-climate.eu/cache-compute-0014/cache/data5/adaptor.esgf_wps.retrieve-1689082898.7975144-17706-11-f8ee0afa-4998-4d00-80ad-27f35da5afac.zip to download.zip (16.7M)\n",
      "2023-07-11 15:42:30,021 INFO Download rate 12.8M/s                                                                     \n"
     ]
    },
    {
     "name": "stdout",
     "output_type": "stream",
     "text": [
      "The file has been download\n",
      "Path for the file is created, did not existed before\n"
     ]
    },
    {
     "name": "stderr",
     "output_type": "stream",
     "text": [
      "2023-07-11 15:42:31,532 INFO Welcome to the CDS\n",
      "2023-07-11 15:42:31,534 INFO Sending request to https://cds.climate.copernicus.eu/api/v2/resources/projections-cmip6\n",
      "2023-07-11 15:42:31,578 INFO Request is queued\n"
     ]
    },
    {
     "name": "stdout",
     "output_type": "stream",
     "text": [
      "\n",
      " The downloaded file is extracted\n",
      "The file has been extracted\n",
      "Test with model norcpm1\n",
      "path_for_file does not exist: the data may not have been downloaded\n",
      "file_download does not exist: the data were not downloaded\n"
     ]
    },
    {
     "name": "stderr",
     "output_type": "stream",
     "text": [
      "2023-07-11 15:42:32,621 INFO Request is failed\n",
      "2023-07-11 15:42:32,623 ERROR Message: an internal error occurred processing your request\n",
      "2023-07-11 15:42:32,624 ERROR Reason:  No matching data for request {'experiment': 'ssp126', 'model': 'NorCPM1', 'temporal_resolution': 'day', 'variable': 'pr'}\n",
      "2023-07-11 15:42:32,625 ERROR   Traceback (most recent call last):\n",
      "2023-07-11 15:42:32,626 ERROR     File \"/opt/cdstoolbox/cdscompute/cdscompute/cdshandlers/services/handler.py\", line 59, in handle_request\n",
      "2023-07-11 15:42:32,626 ERROR       result = cached(context.method, proc, context, context.args, context.kwargs)\n",
      "2023-07-11 15:42:32,629 ERROR     File \"/opt/cdstoolbox/cdscompute/cdscompute/caching.py\", line 108, in cached\n",
      "2023-07-11 15:42:32,629 ERROR       result = proc(context, *context.args, **context.kwargs)\n",
      "2023-07-11 15:42:32,630 ERROR     File \"/opt/cdstoolbox/cdscompute/cdscompute/services.py\", line 124, in __call__\n",
      "2023-07-11 15:42:32,631 ERROR       return p(*args, **kwargs)\n",
      "2023-07-11 15:42:32,631 ERROR     File \"/opt/cdstoolbox/cdscompute/cdscompute/services.py\", line 60, in __call__\n",
      "2023-07-11 15:42:32,633 ERROR       return self.proc(context, *args, **kwargs)\n",
      "2023-07-11 15:42:32,633 ERROR     File \"/home/cds/cdsservices/services/esgf_wps/__init__.py\", line 30, in execute\n",
      "2023-07-11 15:42:32,634 ERROR       request_facets, request = facets.search(context, request)\n",
      "2023-07-11 15:42:32,635 ERROR     File \"/home/cds/cdsservices/services/esgf_wps/facets.py\", line 61, in search\n",
      "2023-07-11 15:42:32,635 ERROR       raise ValueError(f'No matching data for request {tmp_request}')\n",
      "2023-07-11 15:42:32,637 ERROR   ValueError: No matching data for request {'experiment': 'ssp126', 'model': 'NorCPM1', 'temporal_resolution': 'day', 'variable': 'pr'}\n",
      "2023-07-11 15:42:32,672 INFO Welcome to the CDS\n",
      "2023-07-11 15:42:32,673 INFO Sending request to https://cds.climate.copernicus.eu/api/v2/resources/projections-cmip6\n",
      "2023-07-11 15:42:32,716 INFO Request is queued\n"
     ]
    },
    {
     "name": "stdout",
     "output_type": "stream",
     "text": [
      "Some parameters are not matching\n",
      "Test with model noresm2_mm\n",
      "path_for_file does not exist: the data may not have been downloaded\n",
      "file_download does not exist: the data were not downloaded\n"
     ]
    },
    {
     "name": "stderr",
     "output_type": "stream",
     "text": [
      "2023-07-11 15:42:33,762 INFO Request is running\n",
      "2023-07-11 15:45:24,239 INFO Request is completed\n",
      "2023-07-11 15:45:24,241 INFO Downloading https://download-0012-clone.copernicus-climate.eu/cache-compute-0012/cache/data6/adaptor.esgf_wps.retrieve-1689083086.4544768-10075-18-76dfbcc7-250d-4186-95bb-e128c40e4552.zip to download.zip (18.1M)\n",
      "2023-07-11 15:45:25,709 INFO Download rate 12.3M/s                                                                     \n"
     ]
    },
    {
     "name": "stdout",
     "output_type": "stream",
     "text": [
      "The file has been download\n",
      "Path for the file is created, did not existed before\n"
     ]
    },
    {
     "name": "stderr",
     "output_type": "stream",
     "text": [
      "2023-07-11 15:45:28,126 INFO Welcome to the CDS\n",
      "2023-07-11 15:45:28,127 INFO Sending request to https://cds.climate.copernicus.eu/api/v2/resources/projections-cmip6\n",
      "2023-07-11 15:45:28,222 INFO Request is queued\n"
     ]
    },
    {
     "name": "stdout",
     "output_type": "stream",
     "text": [
      "\n",
      " The downloaded file is extracted\n",
      "The file has been extracted\n",
      "Test with model taiesm1\n",
      "path_for_file does not exist: the data may not have been downloaded\n",
      "file_download does not exist: the data were not downloaded\n"
     ]
    },
    {
     "name": "stderr",
     "output_type": "stream",
     "text": [
      "2023-07-11 15:45:29,263 INFO Request is failed\n",
      "2023-07-11 15:45:29,264 ERROR Message: an internal error occurred processing your request\n",
      "2023-07-11 15:45:29,264 ERROR Reason:  No matching data for request {'experiment': 'ssp126', 'model': 'TaiESM1', 'temporal_resolution': 'day', 'variable': 'pr'}\n",
      "2023-07-11 15:45:29,265 ERROR   Traceback (most recent call last):\n",
      "2023-07-11 15:45:29,265 ERROR     File \"/opt/cdstoolbox/cdscompute/cdscompute/cdshandlers/services/handler.py\", line 59, in handle_request\n",
      "2023-07-11 15:45:29,266 ERROR       result = cached(context.method, proc, context, context.args, context.kwargs)\n",
      "2023-07-11 15:45:29,266 ERROR     File \"/opt/cdstoolbox/cdscompute/cdscompute/caching.py\", line 108, in cached\n",
      "2023-07-11 15:45:29,267 ERROR       result = proc(context, *context.args, **context.kwargs)\n",
      "2023-07-11 15:45:29,268 ERROR     File \"/opt/cdstoolbox/cdscompute/cdscompute/services.py\", line 124, in __call__\n",
      "2023-07-11 15:45:29,269 ERROR       return p(*args, **kwargs)\n",
      "2023-07-11 15:45:29,270 ERROR     File \"/opt/cdstoolbox/cdscompute/cdscompute/services.py\", line 60, in __call__\n",
      "2023-07-11 15:45:29,270 ERROR       return self.proc(context, *args, **kwargs)\n",
      "2023-07-11 15:45:29,270 ERROR     File \"/home/cds/cdsservices/services/esgf_wps/__init__.py\", line 30, in execute\n",
      "2023-07-11 15:45:29,271 ERROR       request_facets, request = facets.search(context, request)\n",
      "2023-07-11 15:45:29,271 ERROR     File \"/home/cds/cdsservices/services/esgf_wps/facets.py\", line 61, in search\n",
      "2023-07-11 15:45:29,272 ERROR       raise ValueError(f'No matching data for request {tmp_request}')\n",
      "2023-07-11 15:45:29,272 ERROR   ValueError: No matching data for request {'experiment': 'ssp126', 'model': 'TaiESM1', 'temporal_resolution': 'day', 'variable': 'pr'}\n",
      "2023-07-11 15:45:29,307 INFO Welcome to the CDS\n",
      "2023-07-11 15:45:29,308 INFO Sending request to https://cds.climate.copernicus.eu/api/v2/resources/projections-cmip6\n",
      "2023-07-11 15:45:29,385 INFO Request is queued\n"
     ]
    },
    {
     "name": "stdout",
     "output_type": "stream",
     "text": [
      "Some parameters are not matching\n",
      "Test with model access_esm1_5\n",
      "path_for_file does not exist: the data may not have been downloaded\n",
      "file_download does not exist: the data were not downloaded\n"
     ]
    },
    {
     "name": "stderr",
     "output_type": "stream",
     "text": [
      "2023-07-11 15:45:30,426 INFO Request is failed\n",
      "2023-07-11 15:45:30,427 ERROR Message: an internal error occurred processing your request\n",
      "2023-07-11 15:45:30,428 ERROR Reason:  No matching data for request {'experiment': 'ssp126', 'model': 'ACCESS-ESM1-5', 'temporal_resolution': 'day', 'variable': 'pr'}\n",
      "2023-07-11 15:45:30,428 ERROR   Traceback (most recent call last):\n",
      "2023-07-11 15:45:30,429 ERROR     File \"/opt/cdstoolbox/cdscompute/cdscompute/cdshandlers/services/handler.py\", line 59, in handle_request\n",
      "2023-07-11 15:45:30,429 ERROR       result = cached(context.method, proc, context, context.args, context.kwargs)\n",
      "2023-07-11 15:45:30,430 ERROR     File \"/opt/cdstoolbox/cdscompute/cdscompute/caching.py\", line 108, in cached\n",
      "2023-07-11 15:45:30,431 ERROR       result = proc(context, *context.args, **context.kwargs)\n",
      "2023-07-11 15:45:30,431 ERROR     File \"/opt/cdstoolbox/cdscompute/cdscompute/services.py\", line 124, in __call__\n",
      "2023-07-11 15:45:30,431 ERROR       return p(*args, **kwargs)\n",
      "2023-07-11 15:45:30,432 ERROR     File \"/opt/cdstoolbox/cdscompute/cdscompute/services.py\", line 60, in __call__\n",
      "2023-07-11 15:45:30,432 ERROR       return self.proc(context, *args, **kwargs)\n",
      "2023-07-11 15:45:30,433 ERROR     File \"/home/cds/cdsservices/services/esgf_wps/__init__.py\", line 30, in execute\n",
      "2023-07-11 15:45:30,433 ERROR       request_facets, request = facets.search(context, request)\n",
      "2023-07-11 15:45:30,434 ERROR     File \"/home/cds/cdsservices/services/esgf_wps/facets.py\", line 61, in search\n",
      "2023-07-11 15:45:30,434 ERROR       raise ValueError(f'No matching data for request {tmp_request}')\n",
      "2023-07-11 15:45:30,435 ERROR   ValueError: No matching data for request {'experiment': 'ssp126', 'model': 'ACCESS-ESM1-5', 'temporal_resolution': 'day', 'variable': 'pr'}\n",
      "2023-07-11 15:45:30,485 INFO Welcome to the CDS\n",
      "2023-07-11 15:45:30,486 INFO Sending request to https://cds.climate.copernicus.eu/api/v2/resources/projections-cmip6\n",
      "2023-07-11 15:45:30,553 INFO Request is queued\n"
     ]
    },
    {
     "name": "stdout",
     "output_type": "stream",
     "text": [
      "Some parameters are not matching\n",
      "Test with model awi_esm_1_1_lr\n",
      "path_for_file does not exist: the data may not have been downloaded\n",
      "file_download does not exist: the data were not downloaded\n"
     ]
    },
    {
     "name": "stderr",
     "output_type": "stream",
     "text": [
      "2023-07-11 15:45:31,592 INFO Request is failed\n",
      "2023-07-11 15:45:31,594 ERROR Message: an internal error occurred processing your request\n",
      "2023-07-11 15:45:31,595 ERROR Reason:  No matching data for request {'experiment': 'ssp126', 'model': 'AWI-ESM-1-1-LR', 'temporal_resolution': 'day', 'variable': 'pr'}\n",
      "2023-07-11 15:45:31,595 ERROR   Traceback (most recent call last):\n",
      "2023-07-11 15:45:31,596 ERROR     File \"/opt/cdstoolbox/cdscompute/cdscompute/cdshandlers/services/handler.py\", line 59, in handle_request\n",
      "2023-07-11 15:45:31,598 ERROR       result = cached(context.method, proc, context, context.args, context.kwargs)\n",
      "2023-07-11 15:45:31,598 ERROR     File \"/opt/cdstoolbox/cdscompute/cdscompute/caching.py\", line 108, in cached\n",
      "2023-07-11 15:45:31,599 ERROR       result = proc(context, *context.args, **context.kwargs)\n",
      "2023-07-11 15:45:31,599 ERROR     File \"/opt/cdstoolbox/cdscompute/cdscompute/services.py\", line 124, in __call__\n",
      "2023-07-11 15:45:31,600 ERROR       return p(*args, **kwargs)\n",
      "2023-07-11 15:45:31,601 ERROR     File \"/opt/cdstoolbox/cdscompute/cdscompute/services.py\", line 60, in __call__\n",
      "2023-07-11 15:45:31,601 ERROR       return self.proc(context, *args, **kwargs)\n",
      "2023-07-11 15:45:31,602 ERROR     File \"/home/cds/cdsservices/services/esgf_wps/__init__.py\", line 30, in execute\n",
      "2023-07-11 15:45:31,604 ERROR       request_facets, request = facets.search(context, request)\n",
      "2023-07-11 15:45:31,604 ERROR     File \"/home/cds/cdsservices/services/esgf_wps/facets.py\", line 61, in search\n",
      "2023-07-11 15:45:31,604 ERROR       raise ValueError(f'No matching data for request {tmp_request}')\n",
      "2023-07-11 15:45:31,604 ERROR   ValueError: No matching data for request {'experiment': 'ssp126', 'model': 'AWI-ESM-1-1-LR', 'temporal_resolution': 'day', 'variable': 'pr'}\n",
      "2023-07-11 15:45:31,646 INFO Welcome to the CDS\n",
      "2023-07-11 15:45:31,647 INFO Sending request to https://cds.climate.copernicus.eu/api/v2/resources/projections-cmip6\n",
      "2023-07-11 15:45:31,705 INFO Request is queued\n"
     ]
    },
    {
     "name": "stdout",
     "output_type": "stream",
     "text": [
      "Some parameters are not matching\n",
      "Test with model bcc_esm1\n",
      "path_for_file does not exist: the data may not have been downloaded\n",
      "file_download does not exist: the data were not downloaded\n"
     ]
    },
    {
     "name": "stderr",
     "output_type": "stream",
     "text": [
      "2023-07-11 15:45:32,749 INFO Request is failed\n",
      "2023-07-11 15:45:32,750 ERROR Message: an internal error occurred processing your request\n",
      "2023-07-11 15:45:32,751 ERROR Reason:  No matching data for request {'experiment': 'ssp126', 'model': 'BCC-ESM1', 'temporal_resolution': 'day', 'variable': 'pr'}\n",
      "2023-07-11 15:45:32,751 ERROR   Traceback (most recent call last):\n",
      "2023-07-11 15:45:32,752 ERROR     File \"/opt/cdstoolbox/cdscompute/cdscompute/cdshandlers/services/handler.py\", line 59, in handle_request\n",
      "2023-07-11 15:45:32,752 ERROR       result = cached(context.method, proc, context, context.args, context.kwargs)\n",
      "2023-07-11 15:45:32,754 ERROR     File \"/opt/cdstoolbox/cdscompute/cdscompute/caching.py\", line 108, in cached\n",
      "2023-07-11 15:45:32,754 ERROR       result = proc(context, *context.args, **context.kwargs)\n",
      "2023-07-11 15:45:32,755 ERROR     File \"/opt/cdstoolbox/cdscompute/cdscompute/services.py\", line 124, in __call__\n",
      "2023-07-11 15:45:32,755 ERROR       return p(*args, **kwargs)\n",
      "2023-07-11 15:45:32,756 ERROR     File \"/opt/cdstoolbox/cdscompute/cdscompute/services.py\", line 60, in __call__\n",
      "2023-07-11 15:45:32,757 ERROR       return self.proc(context, *args, **kwargs)\n",
      "2023-07-11 15:45:32,757 ERROR     File \"/home/cds/cdsservices/services/esgf_wps/__init__.py\", line 30, in execute\n",
      "2023-07-11 15:45:32,758 ERROR       request_facets, request = facets.search(context, request)\n",
      "2023-07-11 15:45:32,758 ERROR     File \"/home/cds/cdsservices/services/esgf_wps/facets.py\", line 61, in search\n",
      "2023-07-11 15:45:32,759 ERROR       raise ValueError(f'No matching data for request {tmp_request}')\n",
      "2023-07-11 15:45:32,760 ERROR   ValueError: No matching data for request {'experiment': 'ssp126', 'model': 'BCC-ESM1', 'temporal_resolution': 'day', 'variable': 'pr'}\n",
      "2023-07-11 15:45:32,823 INFO Welcome to the CDS\n",
      "2023-07-11 15:45:32,824 INFO Sending request to https://cds.climate.copernicus.eu/api/v2/resources/projections-cmip6\n",
      "2023-07-11 15:45:32,878 INFO Request is queued\n"
     ]
    },
    {
     "name": "stdout",
     "output_type": "stream",
     "text": [
      "Some parameters are not matching\n",
      "Test with model canesm5\n",
      "path_for_file does not exist: the data may not have been downloaded\n",
      "file_download does not exist: the data were not downloaded\n"
     ]
    },
    {
     "name": "stderr",
     "output_type": "stream",
     "text": [
      "2023-07-11 15:45:33,919 INFO Request is running\n",
      "2023-07-11 15:46:48,164 INFO Request is completed\n",
      "2023-07-11 15:46:48,165 INFO Downloading https://download-0000-clone.copernicus-climate.eu/cache-compute-0000/cache/data8/adaptor.esgf_wps.retrieve-1689083196.9509947-21592-15-45d19a6c-69a0-45ae-9737-df0e480ebb44.zip to download.zip (8.4M)\n",
      "2023-07-11 15:46:50,088 INFO Download rate 4.4M/s                                                                      \n"
     ]
    },
    {
     "name": "stdout",
     "output_type": "stream",
     "text": [
      "The file has been download\n",
      "Path for the file is created, did not existed before\n"
     ]
    },
    {
     "name": "stderr",
     "output_type": "stream",
     "text": [
      "2023-07-11 15:46:51,215 INFO Welcome to the CDS\n",
      "2023-07-11 15:46:51,216 INFO Sending request to https://cds.climate.copernicus.eu/api/v2/resources/projections-cmip6\n",
      "2023-07-11 15:46:51,258 INFO Request is queued\n"
     ]
    },
    {
     "name": "stdout",
     "output_type": "stream",
     "text": [
      "\n",
      " The downloaded file is extracted\n",
      "The file has been extracted\n",
      "Test with model cesm2\n",
      "path_for_file does not exist: the data may not have been downloaded\n",
      "file_download does not exist: the data were not downloaded\n"
     ]
    },
    {
     "name": "stderr",
     "output_type": "stream",
     "text": [
      "2023-07-11 15:46:52,308 INFO Request is running\n",
      "2023-07-11 15:48:45,023 INFO Request is completed\n",
      "2023-07-11 15:48:45,025 INFO Downloading https://download-0020.copernicus-climate.eu/cache-compute-0020/cache/data1/adaptor.esgf_wps.retrieve-1689083302.0964365-10797-15-9ad07739-29bc-422d-899a-c7fb15db4f53.zip to download.zip (18.3M)\n",
      "2023-07-11 15:48:47,035 INFO Download rate 9.1M/s                                                                      \n"
     ]
    },
    {
     "name": "stdout",
     "output_type": "stream",
     "text": [
      "The file has been download\n",
      "Path for the file is created, did not existed before\n",
      "\n",
      " The downloaded file is extracted\n",
      "The file has been extracted\n",
      "Test with model cesm2_waccm\n",
      "path_for_file does not exist: the data may not have been downloaded\n",
      "file_download does not exist: the data were not downloaded\n"
     ]
    },
    {
     "name": "stderr",
     "output_type": "stream",
     "text": [
      "2023-07-11 15:48:49,888 INFO Welcome to the CDS\n",
      "2023-07-11 15:48:49,890 INFO Sending request to https://cds.climate.copernicus.eu/api/v2/resources/projections-cmip6\n",
      "2023-07-11 15:48:49,953 INFO Request is queued\n",
      "2023-07-11 15:48:51,001 INFO Request is failed\n",
      "2023-07-11 15:48:51,002 ERROR Message: an internal error occurred processing your request\n",
      "2023-07-11 15:48:51,003 ERROR Reason:  No matching data for request {'experiment': 'ssp126', 'model': 'CESM2-WACCM', 'temporal_resolution': 'day', 'variable': 'pr'}\n",
      "2023-07-11 15:48:51,005 ERROR   Traceback (most recent call last):\n",
      "2023-07-11 15:48:51,006 ERROR     File \"/opt/cdstoolbox/cdscompute/cdscompute/cdshandlers/services/handler.py\", line 59, in handle_request\n",
      "2023-07-11 15:48:51,007 ERROR       result = cached(context.method, proc, context, context.args, context.kwargs)\n",
      "2023-07-11 15:48:51,007 ERROR     File \"/opt/cdstoolbox/cdscompute/cdscompute/caching.py\", line 108, in cached\n",
      "2023-07-11 15:48:51,008 ERROR       result = proc(context, *context.args, **context.kwargs)\n",
      "2023-07-11 15:48:51,009 ERROR     File \"/opt/cdstoolbox/cdscompute/cdscompute/services.py\", line 124, in __call__\n",
      "2023-07-11 15:48:51,011 ERROR       return p(*args, **kwargs)\n",
      "2023-07-11 15:48:51,012 ERROR     File \"/opt/cdstoolbox/cdscompute/cdscompute/services.py\", line 60, in __call__\n",
      "2023-07-11 15:48:51,013 ERROR       return self.proc(context, *args, **kwargs)\n",
      "2023-07-11 15:48:51,013 ERROR     File \"/home/cds/cdsservices/services/esgf_wps/__init__.py\", line 30, in execute\n",
      "2023-07-11 15:48:51,014 ERROR       request_facets, request = facets.search(context, request)\n",
      "2023-07-11 15:48:51,015 ERROR     File \"/home/cds/cdsservices/services/esgf_wps/facets.py\", line 61, in search\n",
      "2023-07-11 15:48:51,015 ERROR       raise ValueError(f'No matching data for request {tmp_request}')\n",
      "2023-07-11 15:48:51,017 ERROR   ValueError: No matching data for request {'experiment': 'ssp126', 'model': 'CESM2-WACCM', 'temporal_resolution': 'day', 'variable': 'pr'}\n",
      "2023-07-11 15:48:51,056 INFO Welcome to the CDS\n",
      "2023-07-11 15:48:51,058 INFO Sending request to https://cds.climate.copernicus.eu/api/v2/resources/projections-cmip6\n",
      "2023-07-11 15:48:51,113 INFO Request is queued\n"
     ]
    },
    {
     "name": "stdout",
     "output_type": "stream",
     "text": [
      "Some parameters are not matching\n",
      "Test with model ciesm\n",
      "path_for_file does not exist: the data may not have been downloaded\n",
      "file_download does not exist: the data were not downloaded\n"
     ]
    },
    {
     "name": "stderr",
     "output_type": "stream",
     "text": [
      "2023-07-11 15:48:52,177 INFO Request is failed\n",
      "2023-07-11 15:48:52,178 ERROR Message: an internal error occurred processing your request\n",
      "2023-07-11 15:48:52,179 ERROR Reason:  No matching data for request {'experiment': 'ssp126', 'model': 'CIESM', 'temporal_resolution': 'day', 'variable': 'pr'}\n",
      "2023-07-11 15:48:52,179 ERROR   Traceback (most recent call last):\n",
      "2023-07-11 15:48:52,179 ERROR     File \"/opt/cdstoolbox/cdscompute/cdscompute/cdshandlers/services/handler.py\", line 59, in handle_request\n",
      "2023-07-11 15:48:52,182 ERROR       result = cached(context.method, proc, context, context.args, context.kwargs)\n",
      "2023-07-11 15:48:52,184 ERROR     File \"/opt/cdstoolbox/cdscompute/cdscompute/caching.py\", line 108, in cached\n",
      "2023-07-11 15:48:52,185 ERROR       result = proc(context, *context.args, **context.kwargs)\n",
      "2023-07-11 15:48:52,186 ERROR     File \"/opt/cdstoolbox/cdscompute/cdscompute/services.py\", line 124, in __call__\n",
      "2023-07-11 15:48:52,187 ERROR       return p(*args, **kwargs)\n",
      "2023-07-11 15:48:52,188 ERROR     File \"/opt/cdstoolbox/cdscompute/cdscompute/services.py\", line 60, in __call__\n",
      "2023-07-11 15:48:52,188 ERROR       return self.proc(context, *args, **kwargs)\n",
      "2023-07-11 15:48:52,190 ERROR     File \"/home/cds/cdsservices/services/esgf_wps/__init__.py\", line 30, in execute\n",
      "2023-07-11 15:48:52,191 ERROR       request_facets, request = facets.search(context, request)\n",
      "2023-07-11 15:48:52,192 ERROR     File \"/home/cds/cdsservices/services/esgf_wps/facets.py\", line 61, in search\n",
      "2023-07-11 15:48:52,192 ERROR       raise ValueError(f'No matching data for request {tmp_request}')\n",
      "2023-07-11 15:48:52,193 ERROR   ValueError: No matching data for request {'experiment': 'ssp126', 'model': 'CIESM', 'temporal_resolution': 'day', 'variable': 'pr'}\n",
      "2023-07-11 15:48:52,228 INFO Welcome to the CDS\n",
      "2023-07-11 15:48:52,229 INFO Sending request to https://cds.climate.copernicus.eu/api/v2/resources/projections-cmip6\n",
      "2023-07-11 15:48:52,284 INFO Request is queued\n"
     ]
    },
    {
     "name": "stdout",
     "output_type": "stream",
     "text": [
      "Some parameters are not matching\n",
      "Test with model cmcc_cm2_sr5\n",
      "path_for_file does not exist: the data may not have been downloaded\n",
      "file_download does not exist: the data were not downloaded\n"
     ]
    },
    {
     "name": "stderr",
     "output_type": "stream",
     "text": [
      "2023-07-11 15:48:53,329 INFO Request is failed\n",
      "2023-07-11 15:48:53,331 ERROR Message: an internal error occurred processing your request\n",
      "2023-07-11 15:48:53,333 ERROR Reason:  No matching data for request {'experiment': 'ssp126', 'model': 'CMCC-CM2-SR5', 'temporal_resolution': 'day', 'variable': 'pr'}\n",
      "2023-07-11 15:48:53,334 ERROR   Traceback (most recent call last):\n",
      "2023-07-11 15:48:53,334 ERROR     File \"/opt/cdstoolbox/cdscompute/cdscompute/cdshandlers/services/handler.py\", line 59, in handle_request\n",
      "2023-07-11 15:48:53,335 ERROR       result = cached(context.method, proc, context, context.args, context.kwargs)\n",
      "2023-07-11 15:48:53,336 ERROR     File \"/opt/cdstoolbox/cdscompute/cdscompute/caching.py\", line 108, in cached\n",
      "2023-07-11 15:48:53,337 ERROR       result = proc(context, *context.args, **context.kwargs)\n",
      "2023-07-11 15:48:53,338 ERROR     File \"/opt/cdstoolbox/cdscompute/cdscompute/services.py\", line 124, in __call__\n",
      "2023-07-11 15:48:53,339 ERROR       return p(*args, **kwargs)\n",
      "2023-07-11 15:48:53,340 ERROR     File \"/opt/cdstoolbox/cdscompute/cdscompute/services.py\", line 60, in __call__\n",
      "2023-07-11 15:48:53,341 ERROR       return self.proc(context, *args, **kwargs)\n",
      "2023-07-11 15:48:53,341 ERROR     File \"/home/cds/cdsservices/services/esgf_wps/__init__.py\", line 30, in execute\n",
      "2023-07-11 15:48:53,342 ERROR       request_facets, request = facets.search(context, request)\n",
      "2023-07-11 15:48:53,343 ERROR     File \"/home/cds/cdsservices/services/esgf_wps/facets.py\", line 61, in search\n",
      "2023-07-11 15:48:53,343 ERROR       raise ValueError(f'No matching data for request {tmp_request}')\n",
      "2023-07-11 15:48:53,344 ERROR   ValueError: No matching data for request {'experiment': 'ssp126', 'model': 'CMCC-CM2-SR5', 'temporal_resolution': 'day', 'variable': 'pr'}\n",
      "2023-07-11 15:48:53,392 INFO Welcome to the CDS\n",
      "2023-07-11 15:48:53,393 INFO Sending request to https://cds.climate.copernicus.eu/api/v2/resources/projections-cmip6\n",
      "2023-07-11 15:48:53,446 INFO Request is queued\n"
     ]
    },
    {
     "name": "stdout",
     "output_type": "stream",
     "text": [
      "Some parameters are not matching\n",
      "Test with model cnrm_cm6_1\n",
      "path_for_file does not exist: the data may not have been downloaded\n",
      "file_download does not exist: the data were not downloaded\n"
     ]
    },
    {
     "name": "stderr",
     "output_type": "stream",
     "text": [
      "2023-07-11 15:48:54,496 INFO Request is running\n",
      "2023-07-11 15:51:44,944 INFO Request is completed\n",
      "2023-07-11 15:51:44,945 INFO Downloading https://download-0005-clone.copernicus-climate.eu/cache-compute-0005/cache/data2/adaptor.esgf_wps.retrieve-1689083469.400608-9512-16-a1fb2969-93d1-4fd1-9d03-d3cb1a35039e.zip to download.zip (16.8M)\n",
      "2023-07-11 15:51:47,038 INFO Download rate 8.1M/s                                                                      \n"
     ]
    },
    {
     "name": "stdout",
     "output_type": "stream",
     "text": [
      "The file has been download\n",
      "Path for the file is created, did not existed before\n"
     ]
    },
    {
     "name": "stderr",
     "output_type": "stream",
     "text": [
      "2023-07-11 15:51:49,227 INFO Welcome to the CDS\n",
      "2023-07-11 15:51:49,228 INFO Sending request to https://cds.climate.copernicus.eu/api/v2/resources/projections-cmip6\n",
      "2023-07-11 15:51:49,312 INFO Request is queued\n"
     ]
    },
    {
     "name": "stdout",
     "output_type": "stream",
     "text": [
      "\n",
      " The downloaded file is extracted\n",
      "The file has been extracted\n",
      "Test with model cnrm_esm2_1\n",
      "path_for_file does not exist: the data may not have been downloaded\n",
      "file_download does not exist: the data were not downloaded\n"
     ]
    },
    {
     "name": "stderr",
     "output_type": "stream",
     "text": [
      "2023-07-11 15:51:50,358 INFO Request is running\n",
      "2023-07-11 15:53:43,080 INFO Request is completed\n",
      "2023-07-11 15:53:43,082 INFO Downloading https://download-0021.copernicus-climate.eu/cache-compute-0021/cache/data6/adaptor.esgf_wps.retrieve-1689083616.2374895-20742-14-eae9de26-09c1-4d16-9980-fb9e89943283.zip to download.zip (16.9M)\n",
      "2023-07-11 15:53:44,643 INFO Download rate 10.8M/s                                                                     \n"
     ]
    },
    {
     "name": "stdout",
     "output_type": "stream",
     "text": [
      "The file has been download\n",
      "Path for the file is created, did not existed before\n"
     ]
    },
    {
     "name": "stderr",
     "output_type": "stream",
     "text": [
      "2023-07-11 15:53:46,415 INFO Welcome to the CDS\n",
      "2023-07-11 15:53:46,416 INFO Sending request to https://cds.climate.copernicus.eu/api/v2/resources/projections-cmip6\n",
      "2023-07-11 15:53:46,457 INFO Request is queued\n"
     ]
    },
    {
     "name": "stdout",
     "output_type": "stream",
     "text": [
      "\n",
      " The downloaded file is extracted\n",
      "The file has been extracted\n",
      "Test with model e3sm_1_1\n",
      "path_for_file does not exist: the data may not have been downloaded\n",
      "file_download does not exist: the data were not downloaded\n"
     ]
    },
    {
     "name": "stderr",
     "output_type": "stream",
     "text": [
      "2023-07-11 15:53:47,509 INFO Request is failed\n",
      "2023-07-11 15:53:47,510 ERROR Message: an internal error occurred processing your request\n",
      "2023-07-11 15:53:47,511 ERROR Reason:  No matching data for request {'experiment': 'ssp126', 'model': 'E3SM-1-1', 'temporal_resolution': 'day', 'variable': 'pr'}\n",
      "2023-07-11 15:53:47,512 ERROR   Traceback (most recent call last):\n",
      "2023-07-11 15:53:47,512 ERROR     File \"/opt/cdstoolbox/cdscompute/cdscompute/cdshandlers/services/handler.py\", line 59, in handle_request\n",
      "2023-07-11 15:53:47,513 ERROR       result = cached(context.method, proc, context, context.args, context.kwargs)\n",
      "2023-07-11 15:53:47,513 ERROR     File \"/opt/cdstoolbox/cdscompute/cdscompute/caching.py\", line 108, in cached\n",
      "2023-07-11 15:53:47,514 ERROR       result = proc(context, *context.args, **context.kwargs)\n",
      "2023-07-11 15:53:47,515 ERROR     File \"/opt/cdstoolbox/cdscompute/cdscompute/services.py\", line 124, in __call__\n",
      "2023-07-11 15:53:47,515 ERROR       return p(*args, **kwargs)\n",
      "2023-07-11 15:53:47,515 ERROR     File \"/opt/cdstoolbox/cdscompute/cdscompute/services.py\", line 60, in __call__\n",
      "2023-07-11 15:53:47,516 ERROR       return self.proc(context, *args, **kwargs)\n",
      "2023-07-11 15:53:47,517 ERROR     File \"/home/cds/cdsservices/services/esgf_wps/__init__.py\", line 30, in execute\n",
      "2023-07-11 15:53:47,518 ERROR       request_facets, request = facets.search(context, request)\n",
      "2023-07-11 15:53:47,519 ERROR     File \"/home/cds/cdsservices/services/esgf_wps/facets.py\", line 61, in search\n",
      "2023-07-11 15:53:47,520 ERROR       raise ValueError(f'No matching data for request {tmp_request}')\n",
      "2023-07-11 15:53:47,521 ERROR   ValueError: No matching data for request {'experiment': 'ssp126', 'model': 'E3SM-1-1', 'temporal_resolution': 'day', 'variable': 'pr'}\n",
      "2023-07-11 15:53:47,559 INFO Welcome to the CDS\n",
      "2023-07-11 15:53:47,560 INFO Sending request to https://cds.climate.copernicus.eu/api/v2/resources/projections-cmip6\n",
      "2023-07-11 15:53:47,658 INFO Request is queued\n"
     ]
    },
    {
     "name": "stdout",
     "output_type": "stream",
     "text": [
      "Some parameters are not matching\n",
      "Test with model ec_earth3\n",
      "path_for_file does not exist: the data may not have been downloaded\n",
      "file_download does not exist: the data were not downloaded\n"
     ]
    },
    {
     "name": "stderr",
     "output_type": "stream",
     "text": [
      "2023-07-11 15:53:48,710 INFO Request is failed\n",
      "2023-07-11 15:53:48,711 ERROR Message: an internal error occurred processing your request\n",
      "2023-07-11 15:53:48,713 ERROR Reason:  No matching data for request {'experiment': 'ssp126', 'model': 'EC-Earth3', 'temporal_resolution': 'day', 'variable': 'pr'}\n",
      "2023-07-11 15:53:48,715 ERROR   Traceback (most recent call last):\n",
      "2023-07-11 15:53:48,716 ERROR     File \"/opt/cdstoolbox/cdscompute/cdscompute/cdshandlers/services/handler.py\", line 59, in handle_request\n",
      "2023-07-11 15:53:48,717 ERROR       result = cached(context.method, proc, context, context.args, context.kwargs)\n",
      "2023-07-11 15:53:48,720 ERROR     File \"/opt/cdstoolbox/cdscompute/cdscompute/caching.py\", line 108, in cached\n",
      "2023-07-11 15:53:48,721 ERROR       result = proc(context, *context.args, **context.kwargs)\n",
      "2023-07-11 15:53:48,722 ERROR     File \"/opt/cdstoolbox/cdscompute/cdscompute/services.py\", line 124, in __call__\n",
      "2023-07-11 15:53:48,723 ERROR       return p(*args, **kwargs)\n",
      "2023-07-11 15:53:48,724 ERROR     File \"/opt/cdstoolbox/cdscompute/cdscompute/services.py\", line 60, in __call__\n",
      "2023-07-11 15:53:48,725 ERROR       return self.proc(context, *args, **kwargs)\n",
      "2023-07-11 15:53:48,725 ERROR     File \"/home/cds/cdsservices/services/esgf_wps/__init__.py\", line 30, in execute\n",
      "2023-07-11 15:53:48,727 ERROR       request_facets, request = facets.search(context, request)\n",
      "2023-07-11 15:53:48,729 ERROR     File \"/home/cds/cdsservices/services/esgf_wps/facets.py\", line 61, in search\n",
      "2023-07-11 15:53:48,731 ERROR       raise ValueError(f'No matching data for request {tmp_request}')\n",
      "2023-07-11 15:53:48,732 ERROR   ValueError: No matching data for request {'experiment': 'ssp126', 'model': 'EC-Earth3', 'temporal_resolution': 'day', 'variable': 'pr'}\n",
      "2023-07-11 15:53:48,780 INFO Welcome to the CDS\n",
      "2023-07-11 15:53:48,781 INFO Sending request to https://cds.climate.copernicus.eu/api/v2/resources/projections-cmip6\n",
      "2023-07-11 15:53:48,892 INFO Request is queued\n"
     ]
    },
    {
     "name": "stdout",
     "output_type": "stream",
     "text": [
      "Some parameters are not matching\n",
      "Test with model ec_earth3_cc\n",
      "path_for_file does not exist: the data may not have been downloaded\n",
      "file_download does not exist: the data were not downloaded\n"
     ]
    },
    {
     "name": "stderr",
     "output_type": "stream",
     "text": [
      "2023-07-11 15:53:49,936 INFO Request is failed\n",
      "2023-07-11 15:53:49,937 ERROR Message: an internal error occurred processing your request\n",
      "2023-07-11 15:53:49,937 ERROR Reason:  No matching data for request {'experiment': 'ssp126', 'model': 'EC-Earth3-CC', 'temporal_resolution': 'day', 'variable': 'pr'}\n",
      "2023-07-11 15:53:49,938 ERROR   Traceback (most recent call last):\n",
      "2023-07-11 15:53:49,939 ERROR     File \"/opt/cdstoolbox/cdscompute/cdscompute/cdshandlers/services/handler.py\", line 59, in handle_request\n",
      "2023-07-11 15:53:49,940 ERROR       result = cached(context.method, proc, context, context.args, context.kwargs)\n",
      "2023-07-11 15:53:49,940 ERROR     File \"/opt/cdstoolbox/cdscompute/cdscompute/caching.py\", line 108, in cached\n",
      "2023-07-11 15:53:49,941 ERROR       result = proc(context, *context.args, **context.kwargs)\n",
      "2023-07-11 15:53:49,943 ERROR     File \"/opt/cdstoolbox/cdscompute/cdscompute/services.py\", line 124, in __call__\n",
      "2023-07-11 15:53:49,944 ERROR       return p(*args, **kwargs)\n",
      "2023-07-11 15:53:49,944 ERROR     File \"/opt/cdstoolbox/cdscompute/cdscompute/services.py\", line 60, in __call__\n",
      "2023-07-11 15:53:49,945 ERROR       return self.proc(context, *args, **kwargs)\n",
      "2023-07-11 15:53:49,946 ERROR     File \"/home/cds/cdsservices/services/esgf_wps/__init__.py\", line 30, in execute\n",
      "2023-07-11 15:53:49,946 ERROR       request_facets, request = facets.search(context, request)\n",
      "2023-07-11 15:53:49,947 ERROR     File \"/home/cds/cdsservices/services/esgf_wps/facets.py\", line 61, in search\n",
      "2023-07-11 15:53:49,947 ERROR       raise ValueError(f'No matching data for request {tmp_request}')\n",
      "2023-07-11 15:53:49,947 ERROR   ValueError: No matching data for request {'experiment': 'ssp126', 'model': 'EC-Earth3-CC', 'temporal_resolution': 'day', 'variable': 'pr'}\n",
      "2023-07-11 15:53:49,983 INFO Welcome to the CDS\n",
      "2023-07-11 15:53:49,983 INFO Sending request to https://cds.climate.copernicus.eu/api/v2/resources/projections-cmip6\n",
      "2023-07-11 15:53:50,051 INFO Request is queued\n"
     ]
    },
    {
     "name": "stdout",
     "output_type": "stream",
     "text": [
      "Some parameters are not matching\n",
      "Test with model ec_earth3_veg_lr\n",
      "path_for_file does not exist: the data may not have been downloaded\n",
      "file_download does not exist: the data were not downloaded\n"
     ]
    },
    {
     "name": "stderr",
     "output_type": "stream",
     "text": [
      "2023-07-11 15:53:51,100 INFO Request is running\n",
      "2023-07-11 15:56:41,545 INFO Request is completed\n",
      "2023-07-11 15:56:41,546 INFO Downloading https://download-0006-clone.copernicus-climate.eu/cache-compute-0006/cache/data3/adaptor.esgf_wps.retrieve-1689083793.7371488-30800-16-dde53168-614e-42fe-add4-31c5e25f553a.zip to download.zip (12.3M)\n",
      "2023-07-11 15:56:44,697 INFO Download rate 3.9M/s                                                                      \n"
     ]
    },
    {
     "name": "stdout",
     "output_type": "stream",
     "text": [
      "The file has been download\n",
      "Path for the file is created, did not existed before\n"
     ]
    },
    {
     "name": "stderr",
     "output_type": "stream",
     "text": [
      "2023-07-11 15:56:46,410 INFO Welcome to the CDS\n",
      "2023-07-11 15:56:46,412 INFO Sending request to https://cds.climate.copernicus.eu/api/v2/resources/projections-cmip6\n",
      "2023-07-11 15:56:46,462 INFO Request is queued\n"
     ]
    },
    {
     "name": "stdout",
     "output_type": "stream",
     "text": [
      "\n",
      " The downloaded file is extracted\n",
      "The file has been extracted\n",
      "Test with model fgoals_g3\n",
      "path_for_file does not exist: the data may not have been downloaded\n",
      "file_download does not exist: the data were not downloaded\n"
     ]
    },
    {
     "name": "stderr",
     "output_type": "stream",
     "text": [
      "2023-07-11 15:56:47,504 INFO Request is running\n",
      "2023-07-11 16:05:05,605 INFO Request is completed\n",
      "2023-07-11 16:05:05,607 INFO Downloading https://download-0013-clone.copernicus-climate.eu/cache-compute-0013/cache/data4/adaptor.esgf_wps.retrieve-1689084214.249775-31002-12-e2c84a73-31de-495a-a795-4366408642a8.zip to download.zip (13.4M)\n",
      "2023-07-11 16:05:06,923 INFO Download rate 10.2M/s                                                                     \n"
     ]
    },
    {
     "name": "stdout",
     "output_type": "stream",
     "text": [
      "The file has been download\n",
      "Path for the file is created, did not existed before\n"
     ]
    },
    {
     "name": "stderr",
     "output_type": "stream",
     "text": [
      "2023-07-11 16:05:09,588 INFO Welcome to the CDS\n",
      "2023-07-11 16:05:09,589 INFO Sending request to https://cds.climate.copernicus.eu/api/v2/resources/projections-cmip6\n",
      "2023-07-11 16:05:09,690 INFO Request is queued\n"
     ]
    },
    {
     "name": "stdout",
     "output_type": "stream",
     "text": [
      "\n",
      " The downloaded file is extracted\n",
      "The file has been extracted\n",
      "Test with model gfdl_esm4\n",
      "path_for_file does not exist: the data may not have been downloaded\n",
      "file_download does not exist: the data were not downloaded\n"
     ]
    },
    {
     "name": "stderr",
     "output_type": "stream",
     "text": [
      "2023-07-11 16:05:10,731 INFO Request is running\n",
      "2023-07-11 16:08:01,160 INFO Request is completed\n",
      "2023-07-11 16:08:01,161 INFO Downloading https://download-0021.copernicus-climate.eu/cache-compute-0021/cache/data4/adaptor.esgf_wps.retrieve-1689084431.0977461-28016-2-95e93725-0ffe-4b09-b889-ecd176dd0dc4.zip to download.zip (17.5M)\n",
      "2023-07-11 16:08:08,505 INFO Download rate 2.4M/s                                                                      \n"
     ]
    },
    {
     "name": "stdout",
     "output_type": "stream",
     "text": [
      "The file has been download\n",
      "Path for the file is created, did not existed before\n"
     ]
    },
    {
     "name": "stderr",
     "output_type": "stream",
     "text": [
      "2023-07-11 16:08:11,235 INFO Welcome to the CDS\n",
      "2023-07-11 16:08:11,236 INFO Sending request to https://cds.climate.copernicus.eu/api/v2/resources/projections-cmip6\n",
      "2023-07-11 16:08:11,290 INFO Request is queued\n"
     ]
    },
    {
     "name": "stdout",
     "output_type": "stream",
     "text": [
      "\n",
      " The downloaded file is extracted\n",
      "The file has been extracted\n",
      "Test with model giss_e2_1_h\n",
      "path_for_file does not exist: the data may not have been downloaded\n",
      "file_download does not exist: the data were not downloaded\n"
     ]
    },
    {
     "name": "stderr",
     "output_type": "stream",
     "text": [
      "2023-07-11 16:08:12,346 INFO Request is failed\n",
      "2023-07-11 16:08:12,346 ERROR Message: an internal error occurred processing your request\n",
      "2023-07-11 16:08:12,347 ERROR Reason:  No matching data for request {'experiment': 'ssp126', 'model': 'GISS-E2-1-H', 'temporal_resolution': 'day', 'variable': 'pr'}\n",
      "2023-07-11 16:08:12,347 ERROR   Traceback (most recent call last):\n",
      "2023-07-11 16:08:12,348 ERROR     File \"/opt/cdstoolbox/cdscompute/cdscompute/cdshandlers/services/handler.py\", line 59, in handle_request\n",
      "2023-07-11 16:08:12,348 ERROR       result = cached(context.method, proc, context, context.args, context.kwargs)\n",
      "2023-07-11 16:08:12,352 ERROR     File \"/opt/cdstoolbox/cdscompute/cdscompute/caching.py\", line 108, in cached\n",
      "2023-07-11 16:08:12,353 ERROR       result = proc(context, *context.args, **context.kwargs)\n",
      "2023-07-11 16:08:12,354 ERROR     File \"/opt/cdstoolbox/cdscompute/cdscompute/services.py\", line 124, in __call__\n",
      "2023-07-11 16:08:12,355 ERROR       return p(*args, **kwargs)\n",
      "2023-07-11 16:08:12,356 ERROR     File \"/opt/cdstoolbox/cdscompute/cdscompute/services.py\", line 60, in __call__\n",
      "2023-07-11 16:08:12,357 ERROR       return self.proc(context, *args, **kwargs)\n",
      "2023-07-11 16:08:12,357 ERROR     File \"/home/cds/cdsservices/services/esgf_wps/__init__.py\", line 30, in execute\n",
      "2023-07-11 16:08:12,358 ERROR       request_facets, request = facets.search(context, request)\n",
      "2023-07-11 16:08:12,359 ERROR     File \"/home/cds/cdsservices/services/esgf_wps/facets.py\", line 61, in search\n",
      "2023-07-11 16:08:12,360 ERROR       raise ValueError(f'No matching data for request {tmp_request}')\n",
      "2023-07-11 16:08:12,362 ERROR   ValueError: No matching data for request {'experiment': 'ssp126', 'model': 'GISS-E2-1-H', 'temporal_resolution': 'day', 'variable': 'pr'}\n",
      "2023-07-11 16:08:12,403 INFO Welcome to the CDS\n",
      "2023-07-11 16:08:12,404 INFO Sending request to https://cds.climate.copernicus.eu/api/v2/resources/projections-cmip6\n",
      "2023-07-11 16:08:12,481 INFO Request is queued\n"
     ]
    },
    {
     "name": "stdout",
     "output_type": "stream",
     "text": [
      "Some parameters are not matching\n",
      "Test with model hadgem3_gc31_mm\n",
      "path_for_file does not exist: the data may not have been downloaded\n",
      "file_download does not exist: the data were not downloaded\n"
     ]
    },
    {
     "name": "stderr",
     "output_type": "stream",
     "text": [
      "2023-07-11 16:08:13,526 INFO Request is running\n",
      "2023-07-11 16:09:27,815 INFO Request is failed\n",
      "2023-07-11 16:09:27,816 ERROR Message: an internal error occurred processing your request\n",
      "2023-07-11 16:09:27,818 ERROR Reason:  Process error: Sorry, process failed. Please check server error log.\n",
      "2023-07-11 16:09:27,818 ERROR   Traceback (most recent call last):\n",
      "2023-07-11 16:09:27,819 ERROR     File \"/usr/local/lib/python3.6/site-packages/rooki/results.py\", line 33, in url\n",
      "2023-07-11 16:09:27,820 ERROR       return self.response.get()[0]\n",
      "2023-07-11 16:09:27,820 ERROR     File \"/usr/local/lib/python3.6/site-packages/birdy/client/outputs.py\", line 40, in get\n",
      "2023-07-11 16:09:27,822 ERROR       raise ProcessFailed(\"Sorry, process failed.\")\n",
      "2023-07-11 16:09:27,826 ERROR   birdy.exceptions.ProcessFailed: Sorry, process failed.\n",
      "2023-07-11 16:09:27,882 INFO Welcome to the CDS\n",
      "2023-07-11 16:09:27,883 INFO Sending request to https://cds.climate.copernicus.eu/api/v2/resources/projections-cmip6\n",
      "2023-07-11 16:09:27,951 INFO Request is queued\n"
     ]
    },
    {
     "name": "stdout",
     "output_type": "stream",
     "text": [
      "Some parameters are not matching\n",
      "Test with model inm_cm4_8\n",
      "path_for_file does not exist: the data may not have been downloaded\n",
      "file_download does not exist: the data were not downloaded\n"
     ]
    },
    {
     "name": "stderr",
     "output_type": "stream",
     "text": [
      "2023-07-11 16:09:29,003 INFO Request is running\n",
      "2023-07-11 16:12:19,488 INFO Request is completed\n",
      "2023-07-11 16:12:19,489 INFO Downloading https://download-0005-clone.copernicus-climate.eu/cache-compute-0005/cache/data6/adaptor.esgf_wps.retrieve-1689084729.079117-23666-2-ceb225bc-b57d-4f19-bf23-95a6ee3208bb.zip to download.zip (7.4M)\n",
      "2023-07-11 16:12:20,859 INFO Download rate 5.4M/s                                                                      \n"
     ]
    },
    {
     "name": "stdout",
     "output_type": "stream",
     "text": [
      "The file has been download\n",
      "Path for the file is created, did not existed before\n"
     ]
    },
    {
     "name": "stderr",
     "output_type": "stream",
     "text": [
      "2023-07-11 16:12:22,308 INFO Welcome to the CDS\n",
      "2023-07-11 16:12:22,309 INFO Sending request to https://cds.climate.copernicus.eu/api/v2/resources/projections-cmip6\n",
      "2023-07-11 16:12:22,353 INFO Request is queued\n"
     ]
    },
    {
     "name": "stdout",
     "output_type": "stream",
     "text": [
      "\n",
      " The downloaded file is extracted\n",
      "The file has been extracted\n",
      "Test with model ipsl_cm5a2_inca\n",
      "path_for_file does not exist: the data may not have been downloaded\n",
      "file_download does not exist: the data were not downloaded\n"
     ]
    },
    {
     "name": "stderr",
     "output_type": "stream",
     "text": [
      "2023-07-11 16:12:23,399 INFO Request is running\n",
      "2023-07-11 16:13:37,623 INFO Request is completed\n",
      "2023-07-11 16:13:37,624 INFO Downloading https://download-0007-clone.copernicus-climate.eu/cache-compute-0007/cache/data8/adaptor.esgf_wps.retrieve-1689084794.189087-5850-1-404be190-ed50-4ad2-a6f0-904b7464a788.zip to download.zip (3.4M)\n",
      "2023-07-11 16:13:38,691 INFO Download rate 3.2M/s                                                                      \n"
     ]
    },
    {
     "name": "stdout",
     "output_type": "stream",
     "text": [
      "The file has been download\n",
      "Path for the file is created, did not existed before\n"
     ]
    },
    {
     "name": "stderr",
     "output_type": "stream",
     "text": [
      "2023-07-11 16:13:39,584 INFO Welcome to the CDS\n",
      "2023-07-11 16:13:39,585 INFO Sending request to https://cds.climate.copernicus.eu/api/v2/resources/projections-cmip6\n",
      "2023-07-11 16:13:39,655 INFO Request is queued\n"
     ]
    },
    {
     "name": "stdout",
     "output_type": "stream",
     "text": [
      "\n",
      " The downloaded file is extracted\n",
      "The file has been extracted\n",
      "Test with model kace_1_0_g\n",
      "path_for_file does not exist: the data may not have been downloaded\n",
      "file_download does not exist: the data were not downloaded\n"
     ]
    },
    {
     "name": "stderr",
     "output_type": "stream",
     "text": [
      "2023-07-11 16:13:40,694 INFO Request is running\n",
      "2023-07-11 16:13:53,038 INFO Request is failed\n",
      "2023-07-11 16:13:53,039 ERROR Message: an internal error occurred processing your request\n",
      "2023-07-11 16:13:53,039 ERROR Reason:  Process error: Sorry, process failed. Please check server error log.\n",
      "2023-07-11 16:13:53,040 ERROR   Traceback (most recent call last):\n",
      "2023-07-11 16:13:53,041 ERROR     File \"/usr/local/lib/python3.6/site-packages/rooki/results.py\", line 33, in url\n",
      "2023-07-11 16:13:53,041 ERROR       return self.response.get()[0]\n",
      "2023-07-11 16:13:53,042 ERROR     File \"/usr/local/lib/python3.6/site-packages/birdy/client/outputs.py\", line 40, in get\n",
      "2023-07-11 16:13:53,043 ERROR       raise ProcessFailed(\"Sorry, process failed.\")\n",
      "2023-07-11 16:13:53,043 ERROR   birdy.exceptions.ProcessFailed: Sorry, process failed.\n",
      "2023-07-11 16:13:53,085 INFO Welcome to the CDS\n",
      "2023-07-11 16:13:53,086 INFO Sending request to https://cds.climate.copernicus.eu/api/v2/resources/projections-cmip6\n",
      "2023-07-11 16:13:53,202 INFO Request is queued\n"
     ]
    },
    {
     "name": "stdout",
     "output_type": "stream",
     "text": [
      "Some parameters are not matching\n",
      "Test with model mcm_ua_1_0\n",
      "path_for_file does not exist: the data may not have been downloaded\n",
      "file_download does not exist: the data were not downloaded\n"
     ]
    },
    {
     "name": "stderr",
     "output_type": "stream",
     "text": [
      "2023-07-11 16:13:54,239 INFO Request is failed\n",
      "2023-07-11 16:13:54,240 ERROR Message: an internal error occurred processing your request\n",
      "2023-07-11 16:13:54,242 ERROR Reason:  No matching data for request {'experiment': 'ssp126', 'model': 'MCM-UA-1-0', 'temporal_resolution': 'day', 'variable': 'pr'}\n",
      "2023-07-11 16:13:54,244 ERROR   Traceback (most recent call last):\n",
      "2023-07-11 16:13:54,245 ERROR     File \"/opt/cdstoolbox/cdscompute/cdscompute/cdshandlers/services/handler.py\", line 59, in handle_request\n",
      "2023-07-11 16:13:54,246 ERROR       result = cached(context.method, proc, context, context.args, context.kwargs)\n",
      "2023-07-11 16:13:54,247 ERROR     File \"/opt/cdstoolbox/cdscompute/cdscompute/caching.py\", line 108, in cached\n",
      "2023-07-11 16:13:54,247 ERROR       result = proc(context, *context.args, **context.kwargs)\n",
      "2023-07-11 16:13:54,248 ERROR     File \"/opt/cdstoolbox/cdscompute/cdscompute/services.py\", line 124, in __call__\n",
      "2023-07-11 16:13:54,249 ERROR       return p(*args, **kwargs)\n",
      "2023-07-11 16:13:54,249 ERROR     File \"/opt/cdstoolbox/cdscompute/cdscompute/services.py\", line 60, in __call__\n",
      "2023-07-11 16:13:54,249 ERROR       return self.proc(context, *args, **kwargs)\n",
      "2023-07-11 16:13:54,250 ERROR     File \"/home/cds/cdsservices/services/esgf_wps/__init__.py\", line 30, in execute\n",
      "2023-07-11 16:13:54,251 ERROR       request_facets, request = facets.search(context, request)\n",
      "2023-07-11 16:13:54,251 ERROR     File \"/home/cds/cdsservices/services/esgf_wps/facets.py\", line 61, in search\n",
      "2023-07-11 16:13:54,252 ERROR       raise ValueError(f'No matching data for request {tmp_request}')\n",
      "2023-07-11 16:13:54,253 ERROR   ValueError: No matching data for request {'experiment': 'ssp126', 'model': 'MCM-UA-1-0', 'temporal_resolution': 'day', 'variable': 'pr'}\n",
      "2023-07-11 16:13:54,307 INFO Welcome to the CDS\n",
      "2023-07-11 16:13:54,308 INFO Sending request to https://cds.climate.copernicus.eu/api/v2/resources/projections-cmip6\n",
      "2023-07-11 16:13:54,360 INFO Request is queued\n"
     ]
    },
    {
     "name": "stdout",
     "output_type": "stream",
     "text": [
      "Some parameters are not matching\n",
      "Test with model miroc_es2h\n",
      "path_for_file does not exist: the data may not have been downloaded\n",
      "file_download does not exist: the data were not downloaded\n"
     ]
    },
    {
     "name": "stderr",
     "output_type": "stream",
     "text": [
      "2023-07-11 16:13:55,405 INFO Request is failed\n",
      "2023-07-11 16:13:55,406 ERROR Message: an internal error occurred processing your request\n",
      "2023-07-11 16:13:55,407 ERROR Reason:  No matching data for request {'experiment': 'ssp126', 'model': 'MIROC-ES2H', 'temporal_resolution': 'day', 'variable': 'pr'}\n",
      "2023-07-11 16:13:55,407 ERROR   Traceback (most recent call last):\n",
      "2023-07-11 16:13:55,408 ERROR     File \"/opt/cdstoolbox/cdscompute/cdscompute/cdshandlers/services/handler.py\", line 59, in handle_request\n",
      "2023-07-11 16:13:55,409 ERROR       result = cached(context.method, proc, context, context.args, context.kwargs)\n",
      "2023-07-11 16:13:55,409 ERROR     File \"/opt/cdstoolbox/cdscompute/cdscompute/caching.py\", line 108, in cached\n",
      "2023-07-11 16:13:55,409 ERROR       result = proc(context, *context.args, **context.kwargs)\n",
      "2023-07-11 16:13:55,410 ERROR     File \"/opt/cdstoolbox/cdscompute/cdscompute/services.py\", line 124, in __call__\n",
      "2023-07-11 16:13:55,410 ERROR       return p(*args, **kwargs)\n",
      "2023-07-11 16:13:55,411 ERROR     File \"/opt/cdstoolbox/cdscompute/cdscompute/services.py\", line 60, in __call__\n",
      "2023-07-11 16:13:55,411 ERROR       return self.proc(context, *args, **kwargs)\n",
      "2023-07-11 16:13:55,411 ERROR     File \"/home/cds/cdsservices/services/esgf_wps/__init__.py\", line 30, in execute\n",
      "2023-07-11 16:13:55,412 ERROR       request_facets, request = facets.search(context, request)\n",
      "2023-07-11 16:13:55,412 ERROR     File \"/home/cds/cdsservices/services/esgf_wps/facets.py\", line 61, in search\n",
      "2023-07-11 16:13:55,413 ERROR       raise ValueError(f'No matching data for request {tmp_request}')\n",
      "2023-07-11 16:13:55,415 ERROR   ValueError: No matching data for request {'experiment': 'ssp126', 'model': 'MIROC-ES2H', 'temporal_resolution': 'day', 'variable': 'pr'}\n",
      "2023-07-11 16:13:55,452 INFO Welcome to the CDS\n",
      "2023-07-11 16:13:55,454 INFO Sending request to https://cds.climate.copernicus.eu/api/v2/resources/projections-cmip6\n",
      "2023-07-11 16:13:55,536 INFO Request is queued\n"
     ]
    },
    {
     "name": "stdout",
     "output_type": "stream",
     "text": [
      "Some parameters are not matching\n",
      "Test with model mpi_esm_1_2_ham\n",
      "path_for_file does not exist: the data may not have been downloaded\n",
      "file_download does not exist: the data were not downloaded\n"
     ]
    },
    {
     "name": "stderr",
     "output_type": "stream",
     "text": [
      "2023-07-11 16:13:56,574 INFO Request is failed\n",
      "2023-07-11 16:13:56,576 ERROR Message: an internal error occurred processing your request\n",
      "2023-07-11 16:13:56,576 ERROR Reason:  No matching data for request {'experiment': 'ssp126', 'model': 'MPI-ESM-1-2-HAM', 'temporal_resolution': 'day', 'variable': 'pr'}\n",
      "2023-07-11 16:13:56,577 ERROR   Traceback (most recent call last):\n",
      "2023-07-11 16:13:56,579 ERROR     File \"/opt/cdstoolbox/cdscompute/cdscompute/cdshandlers/services/handler.py\", line 59, in handle_request\n",
      "2023-07-11 16:13:56,582 ERROR       result = cached(context.method, proc, context, context.args, context.kwargs)\n",
      "2023-07-11 16:13:56,584 ERROR     File \"/opt/cdstoolbox/cdscompute/cdscompute/caching.py\", line 108, in cached\n",
      "2023-07-11 16:13:56,584 ERROR       result = proc(context, *context.args, **context.kwargs)\n",
      "2023-07-11 16:13:56,585 ERROR     File \"/opt/cdstoolbox/cdscompute/cdscompute/services.py\", line 124, in __call__\n",
      "2023-07-11 16:13:56,587 ERROR       return p(*args, **kwargs)\n",
      "2023-07-11 16:13:56,587 ERROR     File \"/opt/cdstoolbox/cdscompute/cdscompute/services.py\", line 60, in __call__\n",
      "2023-07-11 16:13:56,588 ERROR       return self.proc(context, *args, **kwargs)\n",
      "2023-07-11 16:13:56,589 ERROR     File \"/home/cds/cdsservices/services/esgf_wps/__init__.py\", line 30, in execute\n",
      "2023-07-11 16:13:56,590 ERROR       request_facets, request = facets.search(context, request)\n",
      "2023-07-11 16:13:56,590 ERROR     File \"/home/cds/cdsservices/services/esgf_wps/facets.py\", line 61, in search\n",
      "2023-07-11 16:13:56,591 ERROR       raise ValueError(f'No matching data for request {tmp_request}')\n",
      "2023-07-11 16:13:56,592 ERROR   ValueError: No matching data for request {'experiment': 'ssp126', 'model': 'MPI-ESM-1-2-HAM', 'temporal_resolution': 'day', 'variable': 'pr'}\n",
      "2023-07-11 16:13:56,636 INFO Welcome to the CDS\n",
      "2023-07-11 16:13:56,638 INFO Sending request to https://cds.climate.copernicus.eu/api/v2/resources/projections-cmip6\n",
      "2023-07-11 16:13:56,697 INFO Request is queued\n"
     ]
    },
    {
     "name": "stdout",
     "output_type": "stream",
     "text": [
      "Some parameters are not matching\n",
      "Test with model mpi_esm1_2_lr\n",
      "path_for_file does not exist: the data may not have been downloaded\n",
      "file_download does not exist: the data were not downloaded\n"
     ]
    },
    {
     "name": "stderr",
     "output_type": "stream",
     "text": [
      "2023-07-11 16:13:57,733 INFO Request is running\n",
      "2023-07-11 16:15:11,961 INFO Request is completed\n",
      "2023-07-11 16:15:11,963 INFO Downloading https://download-0001-clone.copernicus-climate.eu/cache-compute-0001/cache/data7/adaptor.esgf_wps.retrieve-1689084887.4936917-10951-3-d1617fb0-d00a-42d1-bd18-f19bf8b89ade.zip to download.zip (4.9M)\n",
      "2023-07-11 16:15:13,304 INFO Download rate 3.6M/s                                                                      \n"
     ]
    },
    {
     "name": "stdout",
     "output_type": "stream",
     "text": [
      "The file has been download\n",
      "Path for the file is created, did not existed before\n"
     ]
    },
    {
     "name": "stderr",
     "output_type": "stream",
     "text": [
      "2023-07-11 16:15:14,492 INFO Welcome to the CDS\n",
      "2023-07-11 16:15:14,492 INFO Sending request to https://cds.climate.copernicus.eu/api/v2/resources/projections-cmip6\n",
      "2023-07-11 16:15:14,535 INFO Request is queued\n"
     ]
    },
    {
     "name": "stdout",
     "output_type": "stream",
     "text": [
      "\n",
      " The downloaded file is extracted\n",
      "The file has been extracted\n",
      "Test with model nesm3\n",
      "path_for_file does not exist: the data may not have been downloaded\n",
      "file_download does not exist: the data were not downloaded\n"
     ]
    },
    {
     "name": "stderr",
     "output_type": "stream",
     "text": [
      "2023-07-11 16:15:15,583 INFO Request is failed\n",
      "2023-07-11 16:15:15,584 ERROR Message: an internal error occurred processing your request\n",
      "2023-07-11 16:15:15,585 ERROR Reason:  No matching data for request {'experiment': 'ssp126', 'model': 'NESM3', 'temporal_resolution': 'day', 'variable': 'pr'}\n",
      "2023-07-11 16:15:15,588 ERROR   Traceback (most recent call last):\n",
      "2023-07-11 16:15:15,589 ERROR     File \"/opt/cdstoolbox/cdscompute/cdscompute/cdshandlers/services/handler.py\", line 59, in handle_request\n",
      "2023-07-11 16:15:15,590 ERROR       result = cached(context.method, proc, context, context.args, context.kwargs)\n",
      "2023-07-11 16:15:15,591 ERROR     File \"/opt/cdstoolbox/cdscompute/cdscompute/caching.py\", line 108, in cached\n",
      "2023-07-11 16:15:15,592 ERROR       result = proc(context, *context.args, **context.kwargs)\n",
      "2023-07-11 16:15:15,593 ERROR     File \"/opt/cdstoolbox/cdscompute/cdscompute/services.py\", line 124, in __call__\n",
      "2023-07-11 16:15:15,594 ERROR       return p(*args, **kwargs)\n",
      "2023-07-11 16:15:15,595 ERROR     File \"/opt/cdstoolbox/cdscompute/cdscompute/services.py\", line 60, in __call__\n",
      "2023-07-11 16:15:15,595 ERROR       return self.proc(context, *args, **kwargs)\n",
      "2023-07-11 16:15:15,596 ERROR     File \"/home/cds/cdsservices/services/esgf_wps/__init__.py\", line 30, in execute\n",
      "2023-07-11 16:15:15,598 ERROR       request_facets, request = facets.search(context, request)\n",
      "2023-07-11 16:15:15,598 ERROR     File \"/home/cds/cdsservices/services/esgf_wps/facets.py\", line 61, in search\n",
      "2023-07-11 16:15:15,599 ERROR       raise ValueError(f'No matching data for request {tmp_request}')\n",
      "2023-07-11 16:15:15,599 ERROR   ValueError: No matching data for request {'experiment': 'ssp126', 'model': 'NESM3', 'temporal_resolution': 'day', 'variable': 'pr'}\n",
      "2023-07-11 16:15:15,641 INFO Welcome to the CDS\n",
      "2023-07-11 16:15:15,642 INFO Sending request to https://cds.climate.copernicus.eu/api/v2/resources/projections-cmip6\n",
      "2023-07-11 16:15:15,684 INFO Request is queued\n"
     ]
    },
    {
     "name": "stdout",
     "output_type": "stream",
     "text": [
      "Some parameters are not matching\n",
      "Test with model noresm2_lm\n",
      "path_for_file does not exist: the data may not have been downloaded\n",
      "file_download does not exist: the data were not downloaded\n"
     ]
    },
    {
     "name": "stderr",
     "output_type": "stream",
     "text": [
      "2023-07-11 16:15:16,738 INFO Request is running\n",
      "2023-07-11 16:17:09,454 INFO Request is completed\n",
      "2023-07-11 16:17:09,455 INFO Downloading https://download-0012-clone.copernicus-climate.eu/cache-compute-0012/cache/data0/adaptor.esgf_wps.retrieve-1689085012.4786732-30389-8-66fc4262-af52-4454-a64e-64760dce6209.zip to download.zip (5.1M)\n",
      "2023-07-11 16:17:10,286 INFO Download rate 6.2M/s                                                                      \n"
     ]
    },
    {
     "name": "stdout",
     "output_type": "stream",
     "text": [
      "The file has been download\n",
      "Path for the file is created, did not existed before\n",
      "\n",
      " The downloaded file is extracted\n",
      "The file has been extracted\n",
      "Test with model sam0_unicon\n",
      "path_for_file does not exist: the data may not have been downloaded\n",
      "file_download does not exist: the data were not downloaded\n"
     ]
    },
    {
     "name": "stderr",
     "output_type": "stream",
     "text": [
      "2023-07-11 16:17:11,748 INFO Welcome to the CDS\n",
      "2023-07-11 16:17:11,748 INFO Sending request to https://cds.climate.copernicus.eu/api/v2/resources/projections-cmip6\n",
      "2023-07-11 16:17:11,814 INFO Request is queued\n",
      "2023-07-11 16:17:12,857 INFO Request is failed\n",
      "2023-07-11 16:17:12,857 ERROR Message: an internal error occurred processing your request\n",
      "2023-07-11 16:17:12,858 ERROR Reason:  No matching data for request {'experiment': 'ssp126', 'model': 'SAM0-UNICON', 'temporal_resolution': 'day', 'variable': 'pr'}\n",
      "2023-07-11 16:17:12,858 ERROR   Traceback (most recent call last):\n",
      "2023-07-11 16:17:12,859 ERROR     File \"/opt/cdstoolbox/cdscompute/cdscompute/cdshandlers/services/handler.py\", line 59, in handle_request\n",
      "2023-07-11 16:17:12,859 ERROR       result = cached(context.method, proc, context, context.args, context.kwargs)\n",
      "2023-07-11 16:17:12,860 ERROR     File \"/opt/cdstoolbox/cdscompute/cdscompute/caching.py\", line 108, in cached\n",
      "2023-07-11 16:17:12,861 ERROR       result = proc(context, *context.args, **context.kwargs)\n",
      "2023-07-11 16:17:12,861 ERROR     File \"/opt/cdstoolbox/cdscompute/cdscompute/services.py\", line 124, in __call__\n",
      "2023-07-11 16:17:12,862 ERROR       return p(*args, **kwargs)\n",
      "2023-07-11 16:17:12,862 ERROR     File \"/opt/cdstoolbox/cdscompute/cdscompute/services.py\", line 60, in __call__\n",
      "2023-07-11 16:17:12,863 ERROR       return self.proc(context, *args, **kwargs)\n",
      "2023-07-11 16:17:12,864 ERROR     File \"/home/cds/cdsservices/services/esgf_wps/__init__.py\", line 30, in execute\n",
      "2023-07-11 16:17:12,865 ERROR       request_facets, request = facets.search(context, request)\n",
      "2023-07-11 16:17:12,865 ERROR     File \"/home/cds/cdsservices/services/esgf_wps/facets.py\", line 61, in search\n",
      "2023-07-11 16:17:12,865 ERROR       raise ValueError(f'No matching data for request {tmp_request}')\n",
      "2023-07-11 16:17:12,866 ERROR   ValueError: No matching data for request {'experiment': 'ssp126', 'model': 'SAM0-UNICON', 'temporal_resolution': 'day', 'variable': 'pr'}\n",
      "2023-07-11 16:17:12,900 INFO Welcome to the CDS\n",
      "2023-07-11 16:17:12,901 INFO Sending request to https://cds.climate.copernicus.eu/api/v2/resources/projections-cmip6\n",
      "2023-07-11 16:17:12,940 INFO Request is queued\n"
     ]
    },
    {
     "name": "stdout",
     "output_type": "stream",
     "text": [
      "Some parameters are not matching\n",
      "Test with model ukesm1_0_ll\n",
      "path_for_file does not exist: the data may not have been downloaded\n",
      "file_download does not exist: the data were not downloaded\n"
     ]
    },
    {
     "name": "stderr",
     "output_type": "stream",
     "text": [
      "2023-07-11 16:17:13,987 INFO Request is running\n",
      "2023-07-11 16:17:26,340 INFO Request is failed\n",
      "2023-07-11 16:17:26,341 ERROR Message: an internal error occurred processing your request\n",
      "2023-07-11 16:17:26,342 ERROR Reason:  Process error: Sorry, process failed. Please check server error log.\n",
      "2023-07-11 16:17:26,343 ERROR   Traceback (most recent call last):\n",
      "2023-07-11 16:17:26,344 ERROR     File \"/usr/local/lib/python3.6/site-packages/rooki/results.py\", line 33, in url\n",
      "2023-07-11 16:17:26,345 ERROR       return self.response.get()[0]\n",
      "2023-07-11 16:17:26,345 ERROR     File \"/usr/local/lib/python3.6/site-packages/birdy/client/outputs.py\", line 40, in get\n",
      "2023-07-11 16:17:26,346 ERROR       raise ProcessFailed(\"Sorry, process failed.\")\n",
      "2023-07-11 16:17:26,346 ERROR   birdy.exceptions.ProcessFailed: Sorry, process failed.\n",
      "2023-07-11 16:17:26,390 INFO Welcome to the CDS\n",
      "2023-07-11 16:17:26,391 INFO Sending request to https://cds.climate.copernicus.eu/api/v2/resources/projections-cmip6\n",
      "2023-07-11 16:17:26,439 INFO Request is queued\n"
     ]
    },
    {
     "name": "stdout",
     "output_type": "stream",
     "text": [
      "Some parameters are not matching\n",
      "Test with scenario ssp4_3_4\n",
      "Test with model access_cm2\n",
      "path_for_file does not exist: the data may not have been downloaded\n",
      "file_download does not exist: the data were not downloaded\n"
     ]
    },
    {
     "name": "stderr",
     "output_type": "stream",
     "text": [
      "2023-07-11 16:17:27,487 INFO Request is failed\n",
      "2023-07-11 16:17:27,488 ERROR Message: an internal error occurred processing your request\n",
      "2023-07-11 16:17:27,488 ERROR Reason:  No matching data for request {'experiment': 'ssp434', 'model': 'ACCESS-CM2', 'temporal_resolution': 'day', 'variable': 'pr'}\n",
      "2023-07-11 16:17:27,489 ERROR   Traceback (most recent call last):\n",
      "2023-07-11 16:17:27,489 ERROR     File \"/opt/cdstoolbox/cdscompute/cdscompute/cdshandlers/services/handler.py\", line 59, in handle_request\n",
      "2023-07-11 16:17:27,490 ERROR       result = cached(context.method, proc, context, context.args, context.kwargs)\n",
      "2023-07-11 16:17:27,491 ERROR     File \"/opt/cdstoolbox/cdscompute/cdscompute/caching.py\", line 108, in cached\n",
      "2023-07-11 16:17:27,491 ERROR       result = proc(context, *context.args, **context.kwargs)\n",
      "2023-07-11 16:17:27,492 ERROR     File \"/opt/cdstoolbox/cdscompute/cdscompute/services.py\", line 124, in __call__\n",
      "2023-07-11 16:17:27,493 ERROR       return p(*args, **kwargs)\n",
      "2023-07-11 16:17:27,493 ERROR     File \"/opt/cdstoolbox/cdscompute/cdscompute/services.py\", line 60, in __call__\n",
      "2023-07-11 16:17:27,494 ERROR       return self.proc(context, *args, **kwargs)\n",
      "2023-07-11 16:17:27,495 ERROR     File \"/home/cds/cdsservices/services/esgf_wps/__init__.py\", line 30, in execute\n",
      "2023-07-11 16:17:27,495 ERROR       request_facets, request = facets.search(context, request)\n",
      "2023-07-11 16:17:27,496 ERROR     File \"/home/cds/cdsservices/services/esgf_wps/facets.py\", line 61, in search\n",
      "2023-07-11 16:17:27,496 ERROR       raise ValueError(f'No matching data for request {tmp_request}')\n",
      "2023-07-11 16:17:27,497 ERROR   ValueError: No matching data for request {'experiment': 'ssp434', 'model': 'ACCESS-CM2', 'temporal_resolution': 'day', 'variable': 'pr'}\n",
      "2023-07-11 16:17:27,532 INFO Welcome to the CDS\n",
      "2023-07-11 16:17:27,532 INFO Sending request to https://cds.climate.copernicus.eu/api/v2/resources/projections-cmip6\n",
      "2023-07-11 16:17:27,598 INFO Request is queued\n"
     ]
    },
    {
     "name": "stdout",
     "output_type": "stream",
     "text": [
      "Some parameters are not matching\n",
      "Test with model awi_cm_1_1_mr\n",
      "path_for_file does not exist: the data may not have been downloaded\n",
      "file_download does not exist: the data were not downloaded\n"
     ]
    },
    {
     "name": "stderr",
     "output_type": "stream",
     "text": [
      "2023-07-11 16:17:28,640 INFO Request is failed\n",
      "2023-07-11 16:17:28,641 ERROR Message: an internal error occurred processing your request\n",
      "2023-07-11 16:17:28,642 ERROR Reason:  No matching data for request {'experiment': 'ssp434', 'model': 'AWI-CM-1-1-MR', 'temporal_resolution': 'day', 'variable': 'pr'}\n",
      "2023-07-11 16:17:28,643 ERROR   Traceback (most recent call last):\n",
      "2023-07-11 16:17:28,643 ERROR     File \"/opt/cdstoolbox/cdscompute/cdscompute/cdshandlers/services/handler.py\", line 59, in handle_request\n",
      "2023-07-11 16:17:28,644 ERROR       result = cached(context.method, proc, context, context.args, context.kwargs)\n",
      "2023-07-11 16:17:28,645 ERROR     File \"/opt/cdstoolbox/cdscompute/cdscompute/caching.py\", line 108, in cached\n",
      "2023-07-11 16:17:28,645 ERROR       result = proc(context, *context.args, **context.kwargs)\n",
      "2023-07-11 16:17:28,646 ERROR     File \"/opt/cdstoolbox/cdscompute/cdscompute/services.py\", line 124, in __call__\n",
      "2023-07-11 16:17:28,647 ERROR       return p(*args, **kwargs)\n",
      "2023-07-11 16:17:28,649 ERROR     File \"/opt/cdstoolbox/cdscompute/cdscompute/services.py\", line 60, in __call__\n",
      "2023-07-11 16:17:28,649 ERROR       return self.proc(context, *args, **kwargs)\n",
      "2023-07-11 16:17:28,650 ERROR     File \"/home/cds/cdsservices/services/esgf_wps/__init__.py\", line 30, in execute\n",
      "2023-07-11 16:17:28,650 ERROR       request_facets, request = facets.search(context, request)\n",
      "2023-07-11 16:17:28,651 ERROR     File \"/home/cds/cdsservices/services/esgf_wps/facets.py\", line 61, in search\n",
      "2023-07-11 16:17:28,651 ERROR       raise ValueError(f'No matching data for request {tmp_request}')\n",
      "2023-07-11 16:17:28,652 ERROR   ValueError: No matching data for request {'experiment': 'ssp434', 'model': 'AWI-CM-1-1-MR', 'temporal_resolution': 'day', 'variable': 'pr'}\n",
      "2023-07-11 16:17:28,694 INFO Welcome to the CDS\n",
      "2023-07-11 16:17:28,697 INFO Sending request to https://cds.climate.copernicus.eu/api/v2/resources/projections-cmip6\n",
      "2023-07-11 16:17:28,775 INFO Request is queued\n"
     ]
    },
    {
     "name": "stdout",
     "output_type": "stream",
     "text": [
      "Some parameters are not matching\n",
      "Test with model bcc_csm2_mr\n",
      "path_for_file does not exist: the data may not have been downloaded\n",
      "file_download does not exist: the data were not downloaded\n"
     ]
    },
    {
     "name": "stderr",
     "output_type": "stream",
     "text": [
      "2023-07-11 16:17:29,827 INFO Request is running\n",
      "2023-07-11 16:17:31,381 INFO Request is failed\n",
      "2023-07-11 16:17:31,382 ERROR Message: an internal error occurred processing your request\n",
      "2023-07-11 16:17:31,383 ERROR Reason:  No matching data for request {'experiment': 'ssp434', 'model': 'BCC-CSM2-MR', 'temporal_resolution': 'day', 'variable': 'pr'}\n",
      "2023-07-11 16:17:31,383 ERROR   Traceback (most recent call last):\n",
      "2023-07-11 16:17:31,384 ERROR     File \"/opt/cdstoolbox/cdscompute/cdscompute/cdshandlers/services/handler.py\", line 59, in handle_request\n",
      "2023-07-11 16:17:31,384 ERROR       result = cached(context.method, proc, context, context.args, context.kwargs)\n",
      "2023-07-11 16:17:31,385 ERROR     File \"/opt/cdstoolbox/cdscompute/cdscompute/caching.py\", line 108, in cached\n",
      "2023-07-11 16:17:31,385 ERROR       result = proc(context, *context.args, **context.kwargs)\n",
      "2023-07-11 16:17:31,386 ERROR     File \"/opt/cdstoolbox/cdscompute/cdscompute/services.py\", line 124, in __call__\n",
      "2023-07-11 16:17:31,386 ERROR       return p(*args, **kwargs)\n",
      "2023-07-11 16:17:31,387 ERROR     File \"/opt/cdstoolbox/cdscompute/cdscompute/services.py\", line 60, in __call__\n",
      "2023-07-11 16:17:31,389 ERROR       return self.proc(context, *args, **kwargs)\n",
      "2023-07-11 16:17:31,390 ERROR     File \"/home/cds/cdsservices/services/esgf_wps/__init__.py\", line 30, in execute\n",
      "2023-07-11 16:17:31,390 ERROR       request_facets, request = facets.search(context, request)\n",
      "2023-07-11 16:17:31,391 ERROR     File \"/home/cds/cdsservices/services/esgf_wps/facets.py\", line 61, in search\n",
      "2023-07-11 16:17:31,392 ERROR       raise ValueError(f'No matching data for request {tmp_request}')\n",
      "2023-07-11 16:17:31,393 ERROR   ValueError: No matching data for request {'experiment': 'ssp434', 'model': 'BCC-CSM2-MR', 'temporal_resolution': 'day', 'variable': 'pr'}\n",
      "2023-07-11 16:17:31,434 INFO Welcome to the CDS\n",
      "2023-07-11 16:17:31,435 INFO Sending request to https://cds.climate.copernicus.eu/api/v2/resources/projections-cmip6\n",
      "2023-07-11 16:17:31,495 INFO Request is queued\n"
     ]
    },
    {
     "name": "stdout",
     "output_type": "stream",
     "text": [
      "Some parameters are not matching\n",
      "Test with model cams_csm1_0\n",
      "path_for_file does not exist: the data may not have been downloaded\n",
      "file_download does not exist: the data were not downloaded\n"
     ]
    },
    {
     "name": "stderr",
     "output_type": "stream",
     "text": [
      "2023-07-11 16:17:32,536 INFO Request is failed\n",
      "2023-07-11 16:17:32,537 ERROR Message: an internal error occurred processing your request\n",
      "2023-07-11 16:17:32,538 ERROR Reason:  No matching data for request {'experiment': 'ssp434', 'model': 'CAMS-CSM1-0', 'temporal_resolution': 'day', 'variable': 'pr'}\n",
      "2023-07-11 16:17:32,538 ERROR   Traceback (most recent call last):\n",
      "2023-07-11 16:17:32,539 ERROR     File \"/opt/cdstoolbox/cdscompute/cdscompute/cdshandlers/services/handler.py\", line 59, in handle_request\n",
      "2023-07-11 16:17:32,539 ERROR       result = cached(context.method, proc, context, context.args, context.kwargs)\n",
      "2023-07-11 16:17:32,539 ERROR     File \"/opt/cdstoolbox/cdscompute/cdscompute/caching.py\", line 108, in cached\n",
      "2023-07-11 16:17:32,540 ERROR       result = proc(context, *context.args, **context.kwargs)\n",
      "2023-07-11 16:17:32,540 ERROR     File \"/opt/cdstoolbox/cdscompute/cdscompute/services.py\", line 124, in __call__\n",
      "2023-07-11 16:17:32,541 ERROR       return p(*args, **kwargs)\n",
      "2023-07-11 16:17:32,541 ERROR     File \"/opt/cdstoolbox/cdscompute/cdscompute/services.py\", line 60, in __call__\n",
      "2023-07-11 16:17:32,542 ERROR       return self.proc(context, *args, **kwargs)\n",
      "2023-07-11 16:17:32,542 ERROR     File \"/home/cds/cdsservices/services/esgf_wps/__init__.py\", line 30, in execute\n",
      "2023-07-11 16:17:32,545 ERROR       request_facets, request = facets.search(context, request)\n",
      "2023-07-11 16:17:32,546 ERROR     File \"/home/cds/cdsservices/services/esgf_wps/facets.py\", line 61, in search\n",
      "2023-07-11 16:17:32,546 ERROR       raise ValueError(f'No matching data for request {tmp_request}')\n",
      "2023-07-11 16:17:32,547 ERROR   ValueError: No matching data for request {'experiment': 'ssp434', 'model': 'CAMS-CSM1-0', 'temporal_resolution': 'day', 'variable': 'pr'}\n",
      "2023-07-11 16:17:32,604 INFO Welcome to the CDS\n",
      "2023-07-11 16:17:32,605 INFO Sending request to https://cds.climate.copernicus.eu/api/v2/resources/projections-cmip6\n",
      "2023-07-11 16:17:32,649 INFO Request is queued\n"
     ]
    },
    {
     "name": "stdout",
     "output_type": "stream",
     "text": [
      "Some parameters are not matching\n",
      "Test with model canesm5_canoe\n",
      "path_for_file does not exist: the data may not have been downloaded\n",
      "file_download does not exist: the data were not downloaded\n"
     ]
    },
    {
     "name": "stderr",
     "output_type": "stream",
     "text": [
      "2023-07-11 16:17:33,693 INFO Request is running\n",
      "2023-07-11 16:17:35,235 INFO Request is failed\n",
      "2023-07-11 16:17:35,236 ERROR Message: an internal error occurred processing your request\n",
      "2023-07-11 16:17:35,236 ERROR Reason:  No matching data for request {'experiment': 'ssp434', 'model': 'CanESM5-CanOE', 'temporal_resolution': 'day', 'variable': 'pr'}\n",
      "2023-07-11 16:17:35,237 ERROR   Traceback (most recent call last):\n",
      "2023-07-11 16:17:35,237 ERROR     File \"/opt/cdstoolbox/cdscompute/cdscompute/cdshandlers/services/handler.py\", line 59, in handle_request\n",
      "2023-07-11 16:17:35,238 ERROR       result = cached(context.method, proc, context, context.args, context.kwargs)\n",
      "2023-07-11 16:17:35,239 ERROR     File \"/opt/cdstoolbox/cdscompute/cdscompute/caching.py\", line 108, in cached\n",
      "2023-07-11 16:17:35,239 ERROR       result = proc(context, *context.args, **context.kwargs)\n",
      "2023-07-11 16:17:35,240 ERROR     File \"/opt/cdstoolbox/cdscompute/cdscompute/services.py\", line 124, in __call__\n",
      "2023-07-11 16:17:35,241 ERROR       return p(*args, **kwargs)\n",
      "2023-07-11 16:17:35,241 ERROR     File \"/opt/cdstoolbox/cdscompute/cdscompute/services.py\", line 60, in __call__\n",
      "2023-07-11 16:17:35,242 ERROR       return self.proc(context, *args, **kwargs)\n",
      "2023-07-11 16:17:35,243 ERROR     File \"/home/cds/cdsservices/services/esgf_wps/__init__.py\", line 30, in execute\n",
      "2023-07-11 16:17:35,244 ERROR       request_facets, request = facets.search(context, request)\n",
      "2023-07-11 16:17:35,244 ERROR     File \"/home/cds/cdsservices/services/esgf_wps/facets.py\", line 61, in search\n",
      "2023-07-11 16:17:35,245 ERROR       raise ValueError(f'No matching data for request {tmp_request}')\n",
      "2023-07-11 16:17:35,246 ERROR   ValueError: No matching data for request {'experiment': 'ssp434', 'model': 'CanESM5-CanOE', 'temporal_resolution': 'day', 'variable': 'pr'}\n",
      "2023-07-11 16:17:35,280 INFO Welcome to the CDS\n",
      "2023-07-11 16:17:35,280 INFO Sending request to https://cds.climate.copernicus.eu/api/v2/resources/projections-cmip6\n",
      "2023-07-11 16:17:35,322 INFO Request is queued\n"
     ]
    },
    {
     "name": "stdout",
     "output_type": "stream",
     "text": [
      "Some parameters are not matching\n",
      "Test with model cesm2_fv2\n",
      "path_for_file does not exist: the data may not have been downloaded\n",
      "file_download does not exist: the data were not downloaded\n"
     ]
    },
    {
     "name": "stderr",
     "output_type": "stream",
     "text": [
      "2023-07-11 16:17:36,373 INFO Request is failed\n",
      "2023-07-11 16:17:36,374 ERROR Message: an internal error occurred processing your request\n",
      "2023-07-11 16:17:36,374 ERROR Reason:  No matching data for request {'experiment': 'ssp434', 'model': 'CESM2-FV2', 'temporal_resolution': 'day', 'variable': 'pr'}\n",
      "2023-07-11 16:17:36,375 ERROR   Traceback (most recent call last):\n",
      "2023-07-11 16:17:36,375 ERROR     File \"/opt/cdstoolbox/cdscompute/cdscompute/cdshandlers/services/handler.py\", line 59, in handle_request\n",
      "2023-07-11 16:17:36,377 ERROR       result = cached(context.method, proc, context, context.args, context.kwargs)\n",
      "2023-07-11 16:17:36,377 ERROR     File \"/opt/cdstoolbox/cdscompute/cdscompute/caching.py\", line 108, in cached\n",
      "2023-07-11 16:17:36,378 ERROR       result = proc(context, *context.args, **context.kwargs)\n",
      "2023-07-11 16:17:36,379 ERROR     File \"/opt/cdstoolbox/cdscompute/cdscompute/services.py\", line 124, in __call__\n",
      "2023-07-11 16:17:36,381 ERROR       return p(*args, **kwargs)\n",
      "2023-07-11 16:17:36,381 ERROR     File \"/opt/cdstoolbox/cdscompute/cdscompute/services.py\", line 60, in __call__\n",
      "2023-07-11 16:17:36,382 ERROR       return self.proc(context, *args, **kwargs)\n",
      "2023-07-11 16:17:36,383 ERROR     File \"/home/cds/cdsservices/services/esgf_wps/__init__.py\", line 30, in execute\n",
      "2023-07-11 16:17:36,383 ERROR       request_facets, request = facets.search(context, request)\n",
      "2023-07-11 16:17:36,384 ERROR     File \"/home/cds/cdsservices/services/esgf_wps/facets.py\", line 61, in search\n",
      "2023-07-11 16:17:36,384 ERROR       raise ValueError(f'No matching data for request {tmp_request}')\n",
      "2023-07-11 16:17:36,387 ERROR   ValueError: No matching data for request {'experiment': 'ssp434', 'model': 'CESM2-FV2', 'temporal_resolution': 'day', 'variable': 'pr'}\n",
      "2023-07-11 16:17:36,444 INFO Welcome to the CDS\n",
      "2023-07-11 16:17:36,445 INFO Sending request to https://cds.climate.copernicus.eu/api/v2/resources/projections-cmip6\n",
      "2023-07-11 16:17:36,495 INFO Request is queued\n"
     ]
    },
    {
     "name": "stdout",
     "output_type": "stream",
     "text": [
      "Some parameters are not matching\n",
      "Test with model cesm2_waccm_fv2\n",
      "path_for_file does not exist: the data may not have been downloaded\n",
      "file_download does not exist: the data were not downloaded\n"
     ]
    },
    {
     "name": "stderr",
     "output_type": "stream",
     "text": [
      "2023-07-11 16:17:37,532 INFO Request is failed\n",
      "2023-07-11 16:17:37,533 ERROR Message: an internal error occurred processing your request\n",
      "2023-07-11 16:17:37,534 ERROR Reason:  No matching data for request {'experiment': 'ssp434', 'model': 'CESM2-WACCM-FV2', 'temporal_resolution': 'day', 'variable': 'pr'}\n",
      "2023-07-11 16:17:37,535 ERROR   Traceback (most recent call last):\n",
      "2023-07-11 16:17:37,536 ERROR     File \"/opt/cdstoolbox/cdscompute/cdscompute/cdshandlers/services/handler.py\", line 59, in handle_request\n",
      "2023-07-11 16:17:37,536 ERROR       result = cached(context.method, proc, context, context.args, context.kwargs)\n",
      "2023-07-11 16:17:37,537 ERROR     File \"/opt/cdstoolbox/cdscompute/cdscompute/caching.py\", line 108, in cached\n",
      "2023-07-11 16:17:37,537 ERROR       result = proc(context, *context.args, **context.kwargs)\n",
      "2023-07-11 16:17:37,538 ERROR     File \"/opt/cdstoolbox/cdscompute/cdscompute/services.py\", line 124, in __call__\n",
      "2023-07-11 16:17:37,538 ERROR       return p(*args, **kwargs)\n",
      "2023-07-11 16:17:37,539 ERROR     File \"/opt/cdstoolbox/cdscompute/cdscompute/services.py\", line 60, in __call__\n",
      "2023-07-11 16:17:37,541 ERROR       return self.proc(context, *args, **kwargs)\n",
      "2023-07-11 16:17:37,541 ERROR     File \"/home/cds/cdsservices/services/esgf_wps/__init__.py\", line 30, in execute\n",
      "2023-07-11 16:17:37,542 ERROR       request_facets, request = facets.search(context, request)\n",
      "2023-07-11 16:17:37,543 ERROR     File \"/home/cds/cdsservices/services/esgf_wps/facets.py\", line 61, in search\n",
      "2023-07-11 16:17:37,543 ERROR       raise ValueError(f'No matching data for request {tmp_request}')\n",
      "2023-07-11 16:17:37,544 ERROR   ValueError: No matching data for request {'experiment': 'ssp434', 'model': 'CESM2-WACCM-FV2', 'temporal_resolution': 'day', 'variable': 'pr'}\n",
      "2023-07-11 16:17:37,586 INFO Welcome to the CDS\n",
      "2023-07-11 16:17:37,587 INFO Sending request to https://cds.climate.copernicus.eu/api/v2/resources/projections-cmip6\n",
      "2023-07-11 16:17:37,645 INFO Request is queued\n"
     ]
    },
    {
     "name": "stdout",
     "output_type": "stream",
     "text": [
      "Some parameters are not matching\n",
      "Test with model cmcc_cm2_hr4\n",
      "path_for_file does not exist: the data may not have been downloaded\n",
      "file_download does not exist: the data were not downloaded\n"
     ]
    },
    {
     "name": "stderr",
     "output_type": "stream",
     "text": [
      "2023-07-11 16:17:38,684 INFO Request is running\n",
      "2023-07-11 16:17:40,233 INFO Request is failed\n",
      "2023-07-11 16:17:40,235 ERROR Message: an internal error occurred processing your request\n",
      "2023-07-11 16:17:40,235 ERROR Reason:  No matching data for request {'experiment': 'ssp434', 'model': 'CMCC-CM2-HR4', 'temporal_resolution': 'day', 'variable': 'pr'}\n",
      "2023-07-11 16:17:40,235 ERROR   Traceback (most recent call last):\n",
      "2023-07-11 16:17:40,236 ERROR     File \"/opt/cdstoolbox/cdscompute/cdscompute/cdshandlers/services/handler.py\", line 59, in handle_request\n",
      "2023-07-11 16:17:40,236 ERROR       result = cached(context.method, proc, context, context.args, context.kwargs)\n",
      "2023-07-11 16:17:40,237 ERROR     File \"/opt/cdstoolbox/cdscompute/cdscompute/caching.py\", line 108, in cached\n",
      "2023-07-11 16:17:40,238 ERROR       result = proc(context, *context.args, **context.kwargs)\n",
      "2023-07-11 16:17:40,238 ERROR     File \"/opt/cdstoolbox/cdscompute/cdscompute/services.py\", line 124, in __call__\n",
      "2023-07-11 16:17:40,239 ERROR       return p(*args, **kwargs)\n",
      "2023-07-11 16:17:40,239 ERROR     File \"/opt/cdstoolbox/cdscompute/cdscompute/services.py\", line 60, in __call__\n",
      "2023-07-11 16:17:40,241 ERROR       return self.proc(context, *args, **kwargs)\n",
      "2023-07-11 16:17:40,241 ERROR     File \"/home/cds/cdsservices/services/esgf_wps/__init__.py\", line 30, in execute\n",
      "2023-07-11 16:17:40,241 ERROR       request_facets, request = facets.search(context, request)\n",
      "2023-07-11 16:17:40,241 ERROR     File \"/home/cds/cdsservices/services/esgf_wps/facets.py\", line 61, in search\n",
      "2023-07-11 16:17:40,242 ERROR       raise ValueError(f'No matching data for request {tmp_request}')\n",
      "2023-07-11 16:17:40,243 ERROR   ValueError: No matching data for request {'experiment': 'ssp434', 'model': 'CMCC-CM2-HR4', 'temporal_resolution': 'day', 'variable': 'pr'}\n",
      "2023-07-11 16:17:40,282 INFO Welcome to the CDS\n",
      "2023-07-11 16:17:40,284 INFO Sending request to https://cds.climate.copernicus.eu/api/v2/resources/projections-cmip6\n",
      "2023-07-11 16:17:40,390 INFO Request is queued\n"
     ]
    },
    {
     "name": "stdout",
     "output_type": "stream",
     "text": [
      "Some parameters are not matching\n",
      "Test with model cmcc_esm2\n",
      "path_for_file does not exist: the data may not have been downloaded\n",
      "file_download does not exist: the data were not downloaded\n"
     ]
    },
    {
     "name": "stderr",
     "output_type": "stream",
     "text": [
      "2023-07-11 16:17:41,439 INFO Request is failed\n",
      "2023-07-11 16:17:41,440 ERROR Message: an internal error occurred processing your request\n",
      "2023-07-11 16:17:41,441 ERROR Reason:  No matching data for request {'experiment': 'ssp434', 'model': 'CMCC-ESM2', 'temporal_resolution': 'day', 'variable': 'pr'}\n",
      "2023-07-11 16:17:41,442 ERROR   Traceback (most recent call last):\n",
      "2023-07-11 16:17:41,443 ERROR     File \"/opt/cdstoolbox/cdscompute/cdscompute/cdshandlers/services/handler.py\", line 59, in handle_request\n",
      "2023-07-11 16:17:41,443 ERROR       result = cached(context.method, proc, context, context.args, context.kwargs)\n",
      "2023-07-11 16:17:41,444 ERROR     File \"/opt/cdstoolbox/cdscompute/cdscompute/caching.py\", line 108, in cached\n",
      "2023-07-11 16:17:41,445 ERROR       result = proc(context, *context.args, **context.kwargs)\n",
      "2023-07-11 16:17:41,445 ERROR     File \"/opt/cdstoolbox/cdscompute/cdscompute/services.py\", line 124, in __call__\n",
      "2023-07-11 16:17:41,446 ERROR       return p(*args, **kwargs)\n",
      "2023-07-11 16:17:41,446 ERROR     File \"/opt/cdstoolbox/cdscompute/cdscompute/services.py\", line 60, in __call__\n",
      "2023-07-11 16:17:41,447 ERROR       return self.proc(context, *args, **kwargs)\n",
      "2023-07-11 16:17:41,447 ERROR     File \"/home/cds/cdsservices/services/esgf_wps/__init__.py\", line 30, in execute\n",
      "2023-07-11 16:17:41,448 ERROR       request_facets, request = facets.search(context, request)\n",
      "2023-07-11 16:17:41,448 ERROR     File \"/home/cds/cdsservices/services/esgf_wps/facets.py\", line 61, in search\n",
      "2023-07-11 16:17:41,449 ERROR       raise ValueError(f'No matching data for request {tmp_request}')\n",
      "2023-07-11 16:17:41,450 ERROR   ValueError: No matching data for request {'experiment': 'ssp434', 'model': 'CMCC-ESM2', 'temporal_resolution': 'day', 'variable': 'pr'}\n",
      "2023-07-11 16:17:41,520 INFO Welcome to the CDS\n",
      "2023-07-11 16:17:41,522 INFO Sending request to https://cds.climate.copernicus.eu/api/v2/resources/projections-cmip6\n"
     ]
    },
    {
     "name": "stdout",
     "output_type": "stream",
     "text": [
      "Some parameters are not matching\n",
      "Test with model cnrm_cm6_1_hr\n",
      "path_for_file does not exist: the data may not have been downloaded\n",
      "file_download does not exist: the data were not downloaded\n"
     ]
    },
    {
     "name": "stderr",
     "output_type": "stream",
     "text": [
      "2023-07-11 16:17:41,676 INFO Request is queued\n",
      "2023-07-11 16:17:42,720 INFO Request is failed\n",
      "2023-07-11 16:17:42,721 ERROR Message: an internal error occurred processing your request\n",
      "2023-07-11 16:17:42,722 ERROR Reason:  No matching data for request {'experiment': 'ssp434', 'model': 'CNRM-CM6-1-HR', 'temporal_resolution': 'day', 'variable': 'pr'}\n",
      "2023-07-11 16:17:42,722 ERROR   Traceback (most recent call last):\n",
      "2023-07-11 16:17:42,722 ERROR     File \"/opt/cdstoolbox/cdscompute/cdscompute/cdshandlers/services/handler.py\", line 59, in handle_request\n",
      "2023-07-11 16:17:42,723 ERROR       result = cached(context.method, proc, context, context.args, context.kwargs)\n",
      "2023-07-11 16:17:42,723 ERROR     File \"/opt/cdstoolbox/cdscompute/cdscompute/caching.py\", line 108, in cached\n",
      "2023-07-11 16:17:42,724 ERROR       result = proc(context, *context.args, **context.kwargs)\n",
      "2023-07-11 16:17:42,725 ERROR     File \"/opt/cdstoolbox/cdscompute/cdscompute/services.py\", line 124, in __call__\n",
      "2023-07-11 16:17:42,725 ERROR       return p(*args, **kwargs)\n",
      "2023-07-11 16:17:42,726 ERROR     File \"/opt/cdstoolbox/cdscompute/cdscompute/services.py\", line 60, in __call__\n",
      "2023-07-11 16:17:42,726 ERROR       return self.proc(context, *args, **kwargs)\n",
      "2023-07-11 16:17:42,726 ERROR     File \"/home/cds/cdsservices/services/esgf_wps/__init__.py\", line 30, in execute\n",
      "2023-07-11 16:17:42,727 ERROR       request_facets, request = facets.search(context, request)\n",
      "2023-07-11 16:17:42,727 ERROR     File \"/home/cds/cdsservices/services/esgf_wps/facets.py\", line 61, in search\n",
      "2023-07-11 16:17:42,729 ERROR       raise ValueError(f'No matching data for request {tmp_request}')\n",
      "2023-07-11 16:17:42,729 ERROR   ValueError: No matching data for request {'experiment': 'ssp434', 'model': 'CNRM-CM6-1-HR', 'temporal_resolution': 'day', 'variable': 'pr'}\n",
      "2023-07-11 16:17:42,769 INFO Welcome to the CDS\n",
      "2023-07-11 16:17:42,769 INFO Sending request to https://cds.climate.copernicus.eu/api/v2/resources/projections-cmip6\n",
      "2023-07-11 16:17:42,831 INFO Request is queued\n"
     ]
    },
    {
     "name": "stdout",
     "output_type": "stream",
     "text": [
      "Some parameters are not matching\n",
      "Test with model e3sm_1_0\n",
      "path_for_file does not exist: the data may not have been downloaded\n",
      "file_download does not exist: the data were not downloaded\n"
     ]
    },
    {
     "name": "stderr",
     "output_type": "stream",
     "text": [
      "2023-07-11 16:17:43,870 INFO Request is failed\n",
      "2023-07-11 16:17:43,870 ERROR Message: an internal error occurred processing your request\n",
      "2023-07-11 16:17:43,871 ERROR Reason:  No matching data for request {'experiment': 'ssp434', 'model': 'E3SM-1-0', 'temporal_resolution': 'day', 'variable': 'pr'}\n",
      "2023-07-11 16:17:43,872 ERROR   Traceback (most recent call last):\n",
      "2023-07-11 16:17:43,872 ERROR     File \"/opt/cdstoolbox/cdscompute/cdscompute/cdshandlers/services/handler.py\", line 59, in handle_request\n",
      "2023-07-11 16:17:43,872 ERROR       result = cached(context.method, proc, context, context.args, context.kwargs)\n",
      "2023-07-11 16:17:43,873 ERROR     File \"/opt/cdstoolbox/cdscompute/cdscompute/caching.py\", line 108, in cached\n",
      "2023-07-11 16:17:43,874 ERROR       result = proc(context, *context.args, **context.kwargs)\n",
      "2023-07-11 16:17:43,875 ERROR     File \"/opt/cdstoolbox/cdscompute/cdscompute/services.py\", line 124, in __call__\n",
      "2023-07-11 16:17:43,875 ERROR       return p(*args, **kwargs)\n",
      "2023-07-11 16:17:43,875 ERROR     File \"/opt/cdstoolbox/cdscompute/cdscompute/services.py\", line 60, in __call__\n",
      "2023-07-11 16:17:43,876 ERROR       return self.proc(context, *args, **kwargs)\n",
      "2023-07-11 16:17:43,876 ERROR     File \"/home/cds/cdsservices/services/esgf_wps/__init__.py\", line 30, in execute\n",
      "2023-07-11 16:17:43,876 ERROR       request_facets, request = facets.search(context, request)\n",
      "2023-07-11 16:17:43,877 ERROR     File \"/home/cds/cdsservices/services/esgf_wps/facets.py\", line 61, in search\n",
      "2023-07-11 16:17:43,877 ERROR       raise ValueError(f'No matching data for request {tmp_request}')\n",
      "2023-07-11 16:17:43,878 ERROR   ValueError: No matching data for request {'experiment': 'ssp434', 'model': 'E3SM-1-0', 'temporal_resolution': 'day', 'variable': 'pr'}\n",
      "2023-07-11 16:17:43,913 INFO Welcome to the CDS\n",
      "2023-07-11 16:17:43,915 INFO Sending request to https://cds.climate.copernicus.eu/api/v2/resources/projections-cmip6\n",
      "2023-07-11 16:17:44,028 INFO Request is queued\n"
     ]
    },
    {
     "name": "stdout",
     "output_type": "stream",
     "text": [
      "Some parameters are not matching\n",
      "Test with model e3sm_1_1_eca\n",
      "path_for_file does not exist: the data may not have been downloaded\n",
      "file_download does not exist: the data were not downloaded\n"
     ]
    },
    {
     "name": "stderr",
     "output_type": "stream",
     "text": [
      "2023-07-11 16:17:45,069 INFO Request is running\n",
      "2023-07-11 16:17:46,616 INFO Request is failed\n",
      "2023-07-11 16:17:46,617 ERROR Message: an internal error occurred processing your request\n",
      "2023-07-11 16:17:46,618 ERROR Reason:  No matching data for request {'experiment': 'ssp434', 'model': 'E3SM-1-1-ECA', 'temporal_resolution': 'day', 'variable': 'pr'}\n",
      "2023-07-11 16:17:46,618 ERROR   Traceback (most recent call last):\n",
      "2023-07-11 16:17:46,619 ERROR     File \"/opt/cdstoolbox/cdscompute/cdscompute/cdshandlers/services/handler.py\", line 59, in handle_request\n",
      "2023-07-11 16:17:46,620 ERROR       result = cached(context.method, proc, context, context.args, context.kwargs)\n",
      "2023-07-11 16:17:46,621 ERROR     File \"/opt/cdstoolbox/cdscompute/cdscompute/caching.py\", line 108, in cached\n",
      "2023-07-11 16:17:46,622 ERROR       result = proc(context, *context.args, **context.kwargs)\n",
      "2023-07-11 16:17:46,622 ERROR     File \"/opt/cdstoolbox/cdscompute/cdscompute/services.py\", line 124, in __call__\n",
      "2023-07-11 16:17:46,623 ERROR       return p(*args, **kwargs)\n",
      "2023-07-11 16:17:46,624 ERROR     File \"/opt/cdstoolbox/cdscompute/cdscompute/services.py\", line 60, in __call__\n",
      "2023-07-11 16:17:46,624 ERROR       return self.proc(context, *args, **kwargs)\n",
      "2023-07-11 16:17:46,625 ERROR     File \"/home/cds/cdsservices/services/esgf_wps/__init__.py\", line 30, in execute\n",
      "2023-07-11 16:17:46,626 ERROR       request_facets, request = facets.search(context, request)\n",
      "2023-07-11 16:17:46,626 ERROR     File \"/home/cds/cdsservices/services/esgf_wps/facets.py\", line 61, in search\n",
      "2023-07-11 16:17:46,627 ERROR       raise ValueError(f'No matching data for request {tmp_request}')\n",
      "2023-07-11 16:17:46,627 ERROR   ValueError: No matching data for request {'experiment': 'ssp434', 'model': 'E3SM-1-1-ECA', 'temporal_resolution': 'day', 'variable': 'pr'}\n",
      "2023-07-11 16:17:46,661 INFO Welcome to the CDS\n",
      "2023-07-11 16:17:46,662 INFO Sending request to https://cds.climate.copernicus.eu/api/v2/resources/projections-cmip6\n",
      "2023-07-11 16:17:46,729 INFO Request is queued\n"
     ]
    },
    {
     "name": "stdout",
     "output_type": "stream",
     "text": [
      "Some parameters are not matching\n",
      "Test with model ec_earth3_aerchem\n",
      "path_for_file does not exist: the data may not have been downloaded\n",
      "file_download does not exist: the data were not downloaded\n"
     ]
    },
    {
     "name": "stderr",
     "output_type": "stream",
     "text": [
      "2023-07-11 16:17:47,765 INFO Request is failed\n",
      "2023-07-11 16:17:47,766 ERROR Message: an internal error occurred processing your request\n",
      "2023-07-11 16:17:47,766 ERROR Reason:  No matching data for request {'experiment': 'ssp434', 'model': 'EC-Earth3-AerChem', 'temporal_resolution': 'day', 'variable': 'pr'}\n",
      "2023-07-11 16:17:47,767 ERROR   Traceback (most recent call last):\n",
      "2023-07-11 16:17:47,768 ERROR     File \"/opt/cdstoolbox/cdscompute/cdscompute/cdshandlers/services/handler.py\", line 59, in handle_request\n",
      "2023-07-11 16:17:47,768 ERROR       result = cached(context.method, proc, context, context.args, context.kwargs)\n",
      "2023-07-11 16:17:47,769 ERROR     File \"/opt/cdstoolbox/cdscompute/cdscompute/caching.py\", line 108, in cached\n",
      "2023-07-11 16:17:47,769 ERROR       result = proc(context, *context.args, **context.kwargs)\n",
      "2023-07-11 16:17:47,770 ERROR     File \"/opt/cdstoolbox/cdscompute/cdscompute/services.py\", line 124, in __call__\n",
      "2023-07-11 16:17:47,771 ERROR       return p(*args, **kwargs)\n",
      "2023-07-11 16:17:47,771 ERROR     File \"/opt/cdstoolbox/cdscompute/cdscompute/services.py\", line 60, in __call__\n",
      "2023-07-11 16:17:47,772 ERROR       return self.proc(context, *args, **kwargs)\n",
      "2023-07-11 16:17:47,773 ERROR     File \"/home/cds/cdsservices/services/esgf_wps/__init__.py\", line 30, in execute\n",
      "2023-07-11 16:17:47,774 ERROR       request_facets, request = facets.search(context, request)\n",
      "2023-07-11 16:17:47,774 ERROR     File \"/home/cds/cdsservices/services/esgf_wps/facets.py\", line 61, in search\n",
      "2023-07-11 16:17:47,775 ERROR       raise ValueError(f'No matching data for request {tmp_request}')\n",
      "2023-07-11 16:17:47,775 ERROR   ValueError: No matching data for request {'experiment': 'ssp434', 'model': 'EC-Earth3-AerChem', 'temporal_resolution': 'day', 'variable': 'pr'}\n",
      "2023-07-11 16:17:47,811 INFO Welcome to the CDS\n",
      "2023-07-11 16:17:47,811 INFO Sending request to https://cds.climate.copernicus.eu/api/v2/resources/projections-cmip6\n",
      "2023-07-11 16:17:47,879 INFO Request is queued\n"
     ]
    },
    {
     "name": "stdout",
     "output_type": "stream",
     "text": [
      "Some parameters are not matching\n",
      "Test with model ec_earth3_veg\n",
      "path_for_file does not exist: the data may not have been downloaded\n",
      "file_download does not exist: the data were not downloaded\n"
     ]
    },
    {
     "name": "stderr",
     "output_type": "stream",
     "text": [
      "2023-07-11 16:17:48,920 INFO Request is failed\n",
      "2023-07-11 16:17:48,922 ERROR Message: an internal error occurred processing your request\n",
      "2023-07-11 16:17:48,923 ERROR Reason:  No matching data for request {'experiment': 'ssp434', 'model': 'EC-Earth3-Veg', 'temporal_resolution': 'day', 'variable': 'pr'}\n",
      "2023-07-11 16:17:48,923 ERROR   Traceback (most recent call last):\n",
      "2023-07-11 16:17:48,924 ERROR     File \"/opt/cdstoolbox/cdscompute/cdscompute/cdshandlers/services/handler.py\", line 59, in handle_request\n",
      "2023-07-11 16:17:48,925 ERROR       result = cached(context.method, proc, context, context.args, context.kwargs)\n",
      "2023-07-11 16:17:48,926 ERROR     File \"/opt/cdstoolbox/cdscompute/cdscompute/caching.py\", line 108, in cached\n",
      "2023-07-11 16:17:48,926 ERROR       result = proc(context, *context.args, **context.kwargs)\n",
      "2023-07-11 16:17:48,927 ERROR     File \"/opt/cdstoolbox/cdscompute/cdscompute/services.py\", line 124, in __call__\n",
      "2023-07-11 16:17:48,928 ERROR       return p(*args, **kwargs)\n",
      "2023-07-11 16:17:48,928 ERROR     File \"/opt/cdstoolbox/cdscompute/cdscompute/services.py\", line 60, in __call__\n",
      "2023-07-11 16:17:48,929 ERROR       return self.proc(context, *args, **kwargs)\n",
      "2023-07-11 16:17:48,929 ERROR     File \"/home/cds/cdsservices/services/esgf_wps/__init__.py\", line 30, in execute\n",
      "2023-07-11 16:17:48,930 ERROR       request_facets, request = facets.search(context, request)\n",
      "2023-07-11 16:17:48,930 ERROR     File \"/home/cds/cdsservices/services/esgf_wps/facets.py\", line 61, in search\n",
      "2023-07-11 16:17:48,931 ERROR       raise ValueError(f'No matching data for request {tmp_request}')\n",
      "2023-07-11 16:17:48,931 ERROR   ValueError: No matching data for request {'experiment': 'ssp434', 'model': 'EC-Earth3-Veg', 'temporal_resolution': 'day', 'variable': 'pr'}\n",
      "2023-07-11 16:17:48,965 INFO Welcome to the CDS\n",
      "2023-07-11 16:17:48,965 INFO Sending request to https://cds.climate.copernicus.eu/api/v2/resources/projections-cmip6\n",
      "2023-07-11 16:17:49,027 INFO Request is queued\n"
     ]
    },
    {
     "name": "stdout",
     "output_type": "stream",
     "text": [
      "Some parameters are not matching\n",
      "Test with model fgoals_f3_l\n",
      "path_for_file does not exist: the data may not have been downloaded\n",
      "file_download does not exist: the data were not downloaded\n"
     ]
    },
    {
     "name": "stderr",
     "output_type": "stream",
     "text": [
      "2023-07-11 16:17:50,070 INFO Request is failed\n",
      "2023-07-11 16:17:50,071 ERROR Message: an internal error occurred processing your request\n",
      "2023-07-11 16:17:50,071 ERROR Reason:  No matching data for request {'experiment': 'ssp434', 'model': 'FGOALS-f3-L', 'temporal_resolution': 'day', 'variable': 'pr'}\n",
      "2023-07-11 16:17:50,072 ERROR   Traceback (most recent call last):\n",
      "2023-07-11 16:17:50,072 ERROR     File \"/opt/cdstoolbox/cdscompute/cdscompute/cdshandlers/services/handler.py\", line 59, in handle_request\n",
      "2023-07-11 16:17:50,073 ERROR       result = cached(context.method, proc, context, context.args, context.kwargs)\n",
      "2023-07-11 16:17:50,074 ERROR     File \"/opt/cdstoolbox/cdscompute/cdscompute/caching.py\", line 108, in cached\n",
      "2023-07-11 16:17:50,074 ERROR       result = proc(context, *context.args, **context.kwargs)\n",
      "2023-07-11 16:17:50,075 ERROR     File \"/opt/cdstoolbox/cdscompute/cdscompute/services.py\", line 124, in __call__\n",
      "2023-07-11 16:17:50,075 ERROR       return p(*args, **kwargs)\n",
      "2023-07-11 16:17:50,077 ERROR     File \"/opt/cdstoolbox/cdscompute/cdscompute/services.py\", line 60, in __call__\n",
      "2023-07-11 16:17:50,077 ERROR       return self.proc(context, *args, **kwargs)\n",
      "2023-07-11 16:17:50,078 ERROR     File \"/home/cds/cdsservices/services/esgf_wps/__init__.py\", line 30, in execute\n",
      "2023-07-11 16:17:50,079 ERROR       request_facets, request = facets.search(context, request)\n",
      "2023-07-11 16:17:50,080 ERROR     File \"/home/cds/cdsservices/services/esgf_wps/facets.py\", line 61, in search\n",
      "2023-07-11 16:17:50,080 ERROR       raise ValueError(f'No matching data for request {tmp_request}')\n",
      "2023-07-11 16:17:50,081 ERROR   ValueError: No matching data for request {'experiment': 'ssp434', 'model': 'FGOALS-f3-L', 'temporal_resolution': 'day', 'variable': 'pr'}\n",
      "2023-07-11 16:17:50,117 INFO Welcome to the CDS\n",
      "2023-07-11 16:17:50,119 INFO Sending request to https://cds.climate.copernicus.eu/api/v2/resources/projections-cmip6\n",
      "2023-07-11 16:17:50,199 INFO Request is queued\n"
     ]
    },
    {
     "name": "stdout",
     "output_type": "stream",
     "text": [
      "Some parameters are not matching\n",
      "Test with model fio_esm_2_0\n",
      "path_for_file does not exist: the data may not have been downloaded\n",
      "file_download does not exist: the data were not downloaded\n"
     ]
    },
    {
     "name": "stderr",
     "output_type": "stream",
     "text": [
      "2023-07-11 16:17:51,246 INFO Request is failed\n",
      "2023-07-11 16:17:51,247 ERROR Message: an internal error occurred processing your request\n",
      "2023-07-11 16:17:51,248 ERROR Reason:  No matching data for request {'experiment': 'ssp434', 'model': 'FIO-ESM-2-0', 'temporal_resolution': 'day', 'variable': 'pr'}\n",
      "2023-07-11 16:17:51,249 ERROR   Traceback (most recent call last):\n",
      "2023-07-11 16:17:51,249 ERROR     File \"/opt/cdstoolbox/cdscompute/cdscompute/cdshandlers/services/handler.py\", line 59, in handle_request\n",
      "2023-07-11 16:17:51,250 ERROR       result = cached(context.method, proc, context, context.args, context.kwargs)\n",
      "2023-07-11 16:17:51,252 ERROR     File \"/opt/cdstoolbox/cdscompute/cdscompute/caching.py\", line 108, in cached\n",
      "2023-07-11 16:17:51,253 ERROR       result = proc(context, *context.args, **context.kwargs)\n",
      "2023-07-11 16:17:51,253 ERROR     File \"/opt/cdstoolbox/cdscompute/cdscompute/services.py\", line 124, in __call__\n",
      "2023-07-11 16:17:51,254 ERROR       return p(*args, **kwargs)\n",
      "2023-07-11 16:17:51,254 ERROR     File \"/opt/cdstoolbox/cdscompute/cdscompute/services.py\", line 60, in __call__\n",
      "2023-07-11 16:17:51,255 ERROR       return self.proc(context, *args, **kwargs)\n",
      "2023-07-11 16:17:51,256 ERROR     File \"/home/cds/cdsservices/services/esgf_wps/__init__.py\", line 30, in execute\n",
      "2023-07-11 16:17:51,257 ERROR       request_facets, request = facets.search(context, request)\n",
      "2023-07-11 16:17:51,259 ERROR     File \"/home/cds/cdsservices/services/esgf_wps/facets.py\", line 61, in search\n",
      "2023-07-11 16:17:51,259 ERROR       raise ValueError(f'No matching data for request {tmp_request}')\n",
      "2023-07-11 16:17:51,260 ERROR   ValueError: No matching data for request {'experiment': 'ssp434', 'model': 'FIO-ESM-2-0', 'temporal_resolution': 'day', 'variable': 'pr'}\n",
      "2023-07-11 16:17:51,442 INFO Welcome to the CDS\n",
      "2023-07-11 16:17:51,443 INFO Sending request to https://cds.climate.copernicus.eu/api/v2/resources/projections-cmip6\n"
     ]
    },
    {
     "name": "stdout",
     "output_type": "stream",
     "text": [
      "Some parameters are not matching\n",
      "Test with model giss_e2_1_g\n",
      "path_for_file does not exist: the data may not have been downloaded\n",
      "file_download does not exist: the data were not downloaded\n"
     ]
    },
    {
     "name": "stderr",
     "output_type": "stream",
     "text": [
      "2023-07-11 16:17:51,503 INFO Request is queued\n",
      "2023-07-11 16:17:52,555 INFO Request is failed\n",
      "2023-07-11 16:17:52,557 ERROR Message: an internal error occurred processing your request\n",
      "2023-07-11 16:17:52,558 ERROR Reason:  No matching data for request {'experiment': 'ssp434', 'model': 'GISS-E2-1-G', 'temporal_resolution': 'day', 'variable': 'pr'}\n",
      "2023-07-11 16:17:52,559 ERROR   Traceback (most recent call last):\n",
      "2023-07-11 16:17:52,560 ERROR     File \"/opt/cdstoolbox/cdscompute/cdscompute/cdshandlers/services/handler.py\", line 59, in handle_request\n",
      "2023-07-11 16:17:52,560 ERROR       result = cached(context.method, proc, context, context.args, context.kwargs)\n",
      "2023-07-11 16:17:52,561 ERROR     File \"/opt/cdstoolbox/cdscompute/cdscompute/caching.py\", line 108, in cached\n",
      "2023-07-11 16:17:52,561 ERROR       result = proc(context, *context.args, **context.kwargs)\n",
      "2023-07-11 16:17:52,562 ERROR     File \"/opt/cdstoolbox/cdscompute/cdscompute/services.py\", line 124, in __call__\n",
      "2023-07-11 16:17:52,562 ERROR       return p(*args, **kwargs)\n",
      "2023-07-11 16:17:52,563 ERROR     File \"/opt/cdstoolbox/cdscompute/cdscompute/services.py\", line 60, in __call__\n",
      "2023-07-11 16:17:52,564 ERROR       return self.proc(context, *args, **kwargs)\n",
      "2023-07-11 16:17:52,565 ERROR     File \"/home/cds/cdsservices/services/esgf_wps/__init__.py\", line 30, in execute\n",
      "2023-07-11 16:17:52,565 ERROR       request_facets, request = facets.search(context, request)\n",
      "2023-07-11 16:17:52,566 ERROR     File \"/home/cds/cdsservices/services/esgf_wps/facets.py\", line 61, in search\n",
      "2023-07-11 16:17:52,568 ERROR       raise ValueError(f'No matching data for request {tmp_request}')\n",
      "2023-07-11 16:17:52,569 ERROR   ValueError: No matching data for request {'experiment': 'ssp434', 'model': 'GISS-E2-1-G', 'temporal_resolution': 'day', 'variable': 'pr'}\n",
      "2023-07-11 16:17:52,612 INFO Welcome to the CDS\n",
      "2023-07-11 16:17:52,613 INFO Sending request to https://cds.climate.copernicus.eu/api/v2/resources/projections-cmip6\n",
      "2023-07-11 16:17:52,699 INFO Request is queued\n"
     ]
    },
    {
     "name": "stdout",
     "output_type": "stream",
     "text": [
      "Some parameters are not matching\n",
      "Test with model hadgem3_gc31_ll\n",
      "path_for_file does not exist: the data may not have been downloaded\n",
      "file_download does not exist: the data were not downloaded\n"
     ]
    },
    {
     "name": "stderr",
     "output_type": "stream",
     "text": [
      "2023-07-11 16:17:53,744 INFO Request is failed\n",
      "2023-07-11 16:17:53,745 ERROR Message: an internal error occurred processing your request\n",
      "2023-07-11 16:17:53,746 ERROR Reason:  No matching data for request {'experiment': 'ssp434', 'model': 'HadGEM3-GC31-LL', 'temporal_resolution': 'day', 'variable': 'pr'}\n",
      "2023-07-11 16:17:53,746 ERROR   Traceback (most recent call last):\n",
      "2023-07-11 16:17:53,747 ERROR     File \"/opt/cdstoolbox/cdscompute/cdscompute/cdshandlers/services/handler.py\", line 59, in handle_request\n",
      "2023-07-11 16:17:53,748 ERROR       result = cached(context.method, proc, context, context.args, context.kwargs)\n",
      "2023-07-11 16:17:53,749 ERROR     File \"/opt/cdstoolbox/cdscompute/cdscompute/caching.py\", line 108, in cached\n",
      "2023-07-11 16:17:53,750 ERROR       result = proc(context, *context.args, **context.kwargs)\n",
      "2023-07-11 16:17:53,750 ERROR     File \"/opt/cdstoolbox/cdscompute/cdscompute/services.py\", line 124, in __call__\n",
      "2023-07-11 16:17:53,751 ERROR       return p(*args, **kwargs)\n",
      "2023-07-11 16:17:53,751 ERROR     File \"/opt/cdstoolbox/cdscompute/cdscompute/services.py\", line 60, in __call__\n",
      "2023-07-11 16:17:53,752 ERROR       return self.proc(context, *args, **kwargs)\n",
      "2023-07-11 16:17:53,752 ERROR     File \"/home/cds/cdsservices/services/esgf_wps/__init__.py\", line 30, in execute\n",
      "2023-07-11 16:17:53,753 ERROR       request_facets, request = facets.search(context, request)\n",
      "2023-07-11 16:17:53,753 ERROR     File \"/home/cds/cdsservices/services/esgf_wps/facets.py\", line 61, in search\n",
      "2023-07-11 16:17:53,754 ERROR       raise ValueError(f'No matching data for request {tmp_request}')\n",
      "2023-07-11 16:17:53,754 ERROR   ValueError: No matching data for request {'experiment': 'ssp434', 'model': 'HadGEM3-GC31-LL', 'temporal_resolution': 'day', 'variable': 'pr'}\n",
      "2023-07-11 16:17:53,798 INFO Welcome to the CDS\n",
      "2023-07-11 16:17:53,799 INFO Sending request to https://cds.climate.copernicus.eu/api/v2/resources/projections-cmip6\n",
      "2023-07-11 16:17:53,863 INFO Request is queued\n"
     ]
    },
    {
     "name": "stdout",
     "output_type": "stream",
     "text": [
      "Some parameters are not matching\n",
      "Test with model iitm_esm\n",
      "path_for_file does not exist: the data may not have been downloaded\n",
      "file_download does not exist: the data were not downloaded\n"
     ]
    },
    {
     "name": "stderr",
     "output_type": "stream",
     "text": [
      "2023-07-11 16:17:54,911 INFO Request is failed\n",
      "2023-07-11 16:17:54,912 ERROR Message: an internal error occurred processing your request\n",
      "2023-07-11 16:17:54,913 ERROR Reason:  No matching data for request {'experiment': 'ssp434', 'model': 'IITM-ESM', 'temporal_resolution': 'day', 'variable': 'pr'}\n",
      "2023-07-11 16:17:54,914 ERROR   Traceback (most recent call last):\n",
      "2023-07-11 16:17:54,916 ERROR     File \"/opt/cdstoolbox/cdscompute/cdscompute/cdshandlers/services/handler.py\", line 59, in handle_request\n",
      "2023-07-11 16:17:54,916 ERROR       result = cached(context.method, proc, context, context.args, context.kwargs)\n",
      "2023-07-11 16:17:54,917 ERROR     File \"/opt/cdstoolbox/cdscompute/cdscompute/caching.py\", line 108, in cached\n",
      "2023-07-11 16:17:54,917 ERROR       result = proc(context, *context.args, **context.kwargs)\n",
      "2023-07-11 16:17:54,918 ERROR     File \"/opt/cdstoolbox/cdscompute/cdscompute/services.py\", line 124, in __call__\n",
      "2023-07-11 16:17:54,918 ERROR       return p(*args, **kwargs)\n",
      "2023-07-11 16:17:54,919 ERROR     File \"/opt/cdstoolbox/cdscompute/cdscompute/services.py\", line 60, in __call__\n",
      "2023-07-11 16:17:54,920 ERROR       return self.proc(context, *args, **kwargs)\n",
      "2023-07-11 16:17:54,920 ERROR     File \"/home/cds/cdsservices/services/esgf_wps/__init__.py\", line 30, in execute\n",
      "2023-07-11 16:17:54,921 ERROR       request_facets, request = facets.search(context, request)\n",
      "2023-07-11 16:17:54,922 ERROR     File \"/home/cds/cdsservices/services/esgf_wps/facets.py\", line 61, in search\n",
      "2023-07-11 16:17:54,922 ERROR       raise ValueError(f'No matching data for request {tmp_request}')\n",
      "2023-07-11 16:17:54,925 ERROR   ValueError: No matching data for request {'experiment': 'ssp434', 'model': 'IITM-ESM', 'temporal_resolution': 'day', 'variable': 'pr'}\n",
      "2023-07-11 16:17:54,961 INFO Welcome to the CDS\n",
      "2023-07-11 16:17:54,962 INFO Sending request to https://cds.climate.copernicus.eu/api/v2/resources/projections-cmip6\n",
      "2023-07-11 16:17:55,004 INFO Request is queued\n"
     ]
    },
    {
     "name": "stdout",
     "output_type": "stream",
     "text": [
      "Some parameters are not matching\n",
      "Test with model inm_cm5_0\n",
      "path_for_file does not exist: the data may not have been downloaded\n",
      "file_download does not exist: the data were not downloaded\n"
     ]
    },
    {
     "name": "stderr",
     "output_type": "stream",
     "text": [
      "2023-07-11 16:17:56,042 INFO Request is failed\n",
      "2023-07-11 16:17:56,043 ERROR Message: an internal error occurred processing your request\n",
      "2023-07-11 16:17:56,044 ERROR Reason:  No matching data for request {'experiment': 'ssp434', 'model': 'INM-CM5-0', 'temporal_resolution': 'day', 'variable': 'pr'}\n",
      "2023-07-11 16:17:56,044 ERROR   Traceback (most recent call last):\n",
      "2023-07-11 16:17:56,045 ERROR     File \"/opt/cdstoolbox/cdscompute/cdscompute/cdshandlers/services/handler.py\", line 59, in handle_request\n",
      "2023-07-11 16:17:56,046 ERROR       result = cached(context.method, proc, context, context.args, context.kwargs)\n",
      "2023-07-11 16:17:56,047 ERROR     File \"/opt/cdstoolbox/cdscompute/cdscompute/caching.py\", line 108, in cached\n",
      "2023-07-11 16:17:56,047 ERROR       result = proc(context, *context.args, **context.kwargs)\n",
      "2023-07-11 16:17:56,048 ERROR     File \"/opt/cdstoolbox/cdscompute/cdscompute/services.py\", line 124, in __call__\n",
      "2023-07-11 16:17:56,049 ERROR       return p(*args, **kwargs)\n",
      "2023-07-11 16:17:56,049 ERROR     File \"/opt/cdstoolbox/cdscompute/cdscompute/services.py\", line 60, in __call__\n",
      "2023-07-11 16:17:56,050 ERROR       return self.proc(context, *args, **kwargs)\n",
      "2023-07-11 16:17:56,051 ERROR     File \"/home/cds/cdsservices/services/esgf_wps/__init__.py\", line 30, in execute\n",
      "2023-07-11 16:17:56,051 ERROR       request_facets, request = facets.search(context, request)\n",
      "2023-07-11 16:17:56,053 ERROR     File \"/home/cds/cdsservices/services/esgf_wps/facets.py\", line 61, in search\n",
      "2023-07-11 16:17:56,053 ERROR       raise ValueError(f'No matching data for request {tmp_request}')\n",
      "2023-07-11 16:17:56,054 ERROR   ValueError: No matching data for request {'experiment': 'ssp434', 'model': 'INM-CM5-0', 'temporal_resolution': 'day', 'variable': 'pr'}\n",
      "2023-07-11 16:17:56,090 INFO Welcome to the CDS\n",
      "2023-07-11 16:17:56,091 INFO Sending request to https://cds.climate.copernicus.eu/api/v2/resources/projections-cmip6\n",
      "2023-07-11 16:17:56,138 INFO Request is queued\n"
     ]
    },
    {
     "name": "stdout",
     "output_type": "stream",
     "text": [
      "Some parameters are not matching\n",
      "Test with model ipsl_cm6a_lr\n",
      "path_for_file does not exist: the data may not have been downloaded\n",
      "file_download does not exist: the data were not downloaded\n"
     ]
    },
    {
     "name": "stderr",
     "output_type": "stream",
     "text": [
      "2023-07-11 16:17:57,200 INFO Request is running\n",
      "2023-07-11 16:19:11,455 INFO Request is completed\n",
      "2023-07-11 16:19:11,457 INFO Downloading https://download-0007-clone.copernicus-climate.eu/cache-compute-0007/cache/data2/adaptor.esgf_wps.retrieve-1689085133.1025698-2662-11-1c7b4dfc-8fea-4157-8c1a-422bff520afe.zip to download.zip (11M)\n",
      "2023-07-11 16:19:12,650 INFO Download rate 9.2M/s                                                                      \n"
     ]
    },
    {
     "name": "stdout",
     "output_type": "stream",
     "text": [
      "The file has been download\n",
      "Path for the file is created, did not existed before\n"
     ]
    },
    {
     "name": "stderr",
     "output_type": "stream",
     "text": [
      "2023-07-11 16:19:14,019 INFO Welcome to the CDS\n",
      "2023-07-11 16:19:14,020 INFO Sending request to https://cds.climate.copernicus.eu/api/v2/resources/projections-cmip6\n",
      "2023-07-11 16:19:14,078 INFO Request is queued\n"
     ]
    },
    {
     "name": "stdout",
     "output_type": "stream",
     "text": [
      "\n",
      " The downloaded file is extracted\n",
      "The file has been extracted\n",
      "Test with model kiost_esm\n",
      "path_for_file does not exist: the data may not have been downloaded\n",
      "file_download does not exist: the data were not downloaded\n"
     ]
    },
    {
     "name": "stderr",
     "output_type": "stream",
     "text": [
      "2023-07-11 16:19:15,114 INFO Request is failed\n",
      "2023-07-11 16:19:15,115 ERROR Message: an internal error occurred processing your request\n",
      "2023-07-11 16:19:15,115 ERROR Reason:  No matching data for request {'experiment': 'ssp434', 'model': 'KIOST-ESM', 'temporal_resolution': 'day', 'variable': 'pr'}\n",
      "2023-07-11 16:19:15,116 ERROR   Traceback (most recent call last):\n",
      "2023-07-11 16:19:15,117 ERROR     File \"/opt/cdstoolbox/cdscompute/cdscompute/cdshandlers/services/handler.py\", line 59, in handle_request\n",
      "2023-07-11 16:19:15,118 ERROR       result = cached(context.method, proc, context, context.args, context.kwargs)\n",
      "2023-07-11 16:19:15,118 ERROR     File \"/opt/cdstoolbox/cdscompute/cdscompute/caching.py\", line 108, in cached\n",
      "2023-07-11 16:19:15,119 ERROR       result = proc(context, *context.args, **context.kwargs)\n",
      "2023-07-11 16:19:15,120 ERROR     File \"/opt/cdstoolbox/cdscompute/cdscompute/services.py\", line 124, in __call__\n",
      "2023-07-11 16:19:15,120 ERROR       return p(*args, **kwargs)\n",
      "2023-07-11 16:19:15,121 ERROR     File \"/opt/cdstoolbox/cdscompute/cdscompute/services.py\", line 60, in __call__\n",
      "2023-07-11 16:19:15,121 ERROR       return self.proc(context, *args, **kwargs)\n",
      "2023-07-11 16:19:15,122 ERROR     File \"/home/cds/cdsservices/services/esgf_wps/__init__.py\", line 30, in execute\n",
      "2023-07-11 16:19:15,122 ERROR       request_facets, request = facets.search(context, request)\n",
      "2023-07-11 16:19:15,123 ERROR     File \"/home/cds/cdsservices/services/esgf_wps/facets.py\", line 61, in search\n",
      "2023-07-11 16:19:15,123 ERROR       raise ValueError(f'No matching data for request {tmp_request}')\n",
      "2023-07-11 16:19:15,123 ERROR   ValueError: No matching data for request {'experiment': 'ssp434', 'model': 'KIOST-ESM', 'temporal_resolution': 'day', 'variable': 'pr'}\n",
      "2023-07-11 16:19:15,162 INFO Welcome to the CDS\n",
      "2023-07-11 16:19:15,163 INFO Sending request to https://cds.climate.copernicus.eu/api/v2/resources/projections-cmip6\n",
      "2023-07-11 16:19:15,216 INFO Request is queued\n"
     ]
    },
    {
     "name": "stdout",
     "output_type": "stream",
     "text": [
      "Some parameters are not matching\n",
      "Test with model miroc6\n",
      "path_for_file does not exist: the data may not have been downloaded\n",
      "file_download does not exist: the data were not downloaded\n"
     ]
    },
    {
     "name": "stderr",
     "output_type": "stream",
     "text": [
      "2023-07-11 16:19:16,251 INFO Request is running\n",
      "2023-07-11 16:21:09,328 INFO Request is completed\n",
      "2023-07-11 16:21:09,330 INFO Downloading https://download-0021.copernicus-climate.eu/cache-compute-0021/cache/data4/adaptor.esgf_wps.retrieve-1689085261.0960283-1832-7-e96dd307-0bc2-4af8-8a1a-b0d7941cc27d.zip to download.zip (9.2M)\n",
      "2023-07-11 16:21:10,204 INFO Download rate 10.5M/s                                                                     \n"
     ]
    },
    {
     "name": "stdout",
     "output_type": "stream",
     "text": [
      "The file has been download\n",
      "Path for the file is created, did not existed before\n"
     ]
    },
    {
     "name": "stderr",
     "output_type": "stream",
     "text": [
      "2023-07-11 16:21:11,309 INFO Welcome to the CDS\n",
      "2023-07-11 16:21:11,310 INFO Sending request to https://cds.climate.copernicus.eu/api/v2/resources/projections-cmip6\n",
      "2023-07-11 16:21:11,353 INFO Request is queued\n"
     ]
    },
    {
     "name": "stdout",
     "output_type": "stream",
     "text": [
      "\n",
      " The downloaded file is extracted\n",
      "The file has been extracted\n",
      "Test with model miroc_es2l\n",
      "path_for_file does not exist: the data may not have been downloaded\n",
      "file_download does not exist: the data were not downloaded\n"
     ]
    },
    {
     "name": "stderr",
     "output_type": "stream",
     "text": [
      "2023-07-11 16:21:12,395 INFO Request is failed\n",
      "2023-07-11 16:21:12,396 ERROR Message: an internal error occurred processing your request\n",
      "2023-07-11 16:21:12,397 ERROR Reason:  No matching data for request {'experiment': 'ssp434', 'model': 'MIROC-ES2L', 'temporal_resolution': 'day', 'variable': 'pr'}\n",
      "2023-07-11 16:21:12,398 ERROR   Traceback (most recent call last):\n",
      "2023-07-11 16:21:12,398 ERROR     File \"/opt/cdstoolbox/cdscompute/cdscompute/cdshandlers/services/handler.py\", line 59, in handle_request\n",
      "2023-07-11 16:21:12,398 ERROR       result = cached(context.method, proc, context, context.args, context.kwargs)\n",
      "2023-07-11 16:21:12,399 ERROR     File \"/opt/cdstoolbox/cdscompute/cdscompute/caching.py\", line 108, in cached\n",
      "2023-07-11 16:21:12,400 ERROR       result = proc(context, *context.args, **context.kwargs)\n",
      "2023-07-11 16:21:12,400 ERROR     File \"/opt/cdstoolbox/cdscompute/cdscompute/services.py\", line 124, in __call__\n",
      "2023-07-11 16:21:12,401 ERROR       return p(*args, **kwargs)\n",
      "2023-07-11 16:21:12,402 ERROR     File \"/opt/cdstoolbox/cdscompute/cdscompute/services.py\", line 60, in __call__\n",
      "2023-07-11 16:21:12,402 ERROR       return self.proc(context, *args, **kwargs)\n",
      "2023-07-11 16:21:12,403 ERROR     File \"/home/cds/cdsservices/services/esgf_wps/__init__.py\", line 30, in execute\n",
      "2023-07-11 16:21:12,403 ERROR       request_facets, request = facets.search(context, request)\n",
      "2023-07-11 16:21:12,405 ERROR     File \"/home/cds/cdsservices/services/esgf_wps/facets.py\", line 61, in search\n",
      "2023-07-11 16:21:12,406 ERROR       raise ValueError(f'No matching data for request {tmp_request}')\n",
      "2023-07-11 16:21:12,406 ERROR   ValueError: No matching data for request {'experiment': 'ssp434', 'model': 'MIROC-ES2L', 'temporal_resolution': 'day', 'variable': 'pr'}\n",
      "2023-07-11 16:21:12,440 INFO Welcome to the CDS\n",
      "2023-07-11 16:21:12,441 INFO Sending request to https://cds.climate.copernicus.eu/api/v2/resources/projections-cmip6\n",
      "2023-07-11 16:21:12,481 INFO Request is queued\n"
     ]
    },
    {
     "name": "stdout",
     "output_type": "stream",
     "text": [
      "Some parameters are not matching\n",
      "Test with model mpi_esm1_2_hr\n",
      "path_for_file does not exist: the data may not have been downloaded\n",
      "file_download does not exist: the data were not downloaded\n"
     ]
    },
    {
     "name": "stderr",
     "output_type": "stream",
     "text": [
      "2023-07-11 16:21:13,528 INFO Request is failed\n",
      "2023-07-11 16:21:13,529 ERROR Message: an internal error occurred processing your request\n",
      "2023-07-11 16:21:13,530 ERROR Reason:  No matching data for request {'experiment': 'ssp434', 'model': 'MPI-ESM1-2-HR', 'temporal_resolution': 'day', 'variable': 'pr'}\n",
      "2023-07-11 16:21:13,531 ERROR   Traceback (most recent call last):\n",
      "2023-07-11 16:21:13,531 ERROR     File \"/opt/cdstoolbox/cdscompute/cdscompute/cdshandlers/services/handler.py\", line 59, in handle_request\n",
      "2023-07-11 16:21:13,532 ERROR       result = cached(context.method, proc, context, context.args, context.kwargs)\n",
      "2023-07-11 16:21:13,532 ERROR     File \"/opt/cdstoolbox/cdscompute/cdscompute/caching.py\", line 108, in cached\n",
      "2023-07-11 16:21:13,533 ERROR       result = proc(context, *context.args, **context.kwargs)\n",
      "2023-07-11 16:21:13,533 ERROR     File \"/opt/cdstoolbox/cdscompute/cdscompute/services.py\", line 124, in __call__\n",
      "2023-07-11 16:21:13,535 ERROR       return p(*args, **kwargs)\n",
      "2023-07-11 16:21:13,536 ERROR     File \"/opt/cdstoolbox/cdscompute/cdscompute/services.py\", line 60, in __call__\n",
      "2023-07-11 16:21:13,537 ERROR       return self.proc(context, *args, **kwargs)\n",
      "2023-07-11 16:21:13,537 ERROR     File \"/home/cds/cdsservices/services/esgf_wps/__init__.py\", line 30, in execute\n",
      "2023-07-11 16:21:13,538 ERROR       request_facets, request = facets.search(context, request)\n",
      "2023-07-11 16:21:13,538 ERROR     File \"/home/cds/cdsservices/services/esgf_wps/facets.py\", line 61, in search\n",
      "2023-07-11 16:21:13,539 ERROR       raise ValueError(f'No matching data for request {tmp_request}')\n",
      "2023-07-11 16:21:13,539 ERROR   ValueError: No matching data for request {'experiment': 'ssp434', 'model': 'MPI-ESM1-2-HR', 'temporal_resolution': 'day', 'variable': 'pr'}\n",
      "2023-07-11 16:21:13,576 INFO Welcome to the CDS\n",
      "2023-07-11 16:21:13,577 INFO Sending request to https://cds.climate.copernicus.eu/api/v2/resources/projections-cmip6\n",
      "2023-07-11 16:21:13,681 INFO Request is queued\n"
     ]
    },
    {
     "name": "stdout",
     "output_type": "stream",
     "text": [
      "Some parameters are not matching\n",
      "Test with model mri_esm2_0\n",
      "path_for_file does not exist: the data may not have been downloaded\n",
      "file_download does not exist: the data were not downloaded\n"
     ]
    },
    {
     "name": "stderr",
     "output_type": "stream",
     "text": [
      "2023-07-11 16:21:14,722 INFO Request is running\n",
      "2023-07-11 16:24:05,325 INFO Request is completed\n",
      "2023-07-11 16:24:05,326 INFO Downloading https://download-0012-clone.copernicus-climate.eu/cache-compute-0012/cache/data8/adaptor.esgf_wps.retrieve-1689085388.9539428-27186-7-47f28145-3e47-4647-82f1-c39edcd644e2.zip to download.zip (16.7M)\n",
      "2023-07-11 16:24:11,703 INFO Download rate 2.6M/s                                                                      \n"
     ]
    },
    {
     "name": "stdout",
     "output_type": "stream",
     "text": [
      "The file has been download\n",
      "Path for the file is created, did not existed before\n"
     ]
    },
    {
     "name": "stderr",
     "output_type": "stream",
     "text": [
      "2023-07-11 16:24:13,491 INFO Welcome to the CDS\n",
      "2023-07-11 16:24:13,492 INFO Sending request to https://cds.climate.copernicus.eu/api/v2/resources/projections-cmip6\n",
      "2023-07-11 16:24:13,553 INFO Request is queued\n"
     ]
    },
    {
     "name": "stdout",
     "output_type": "stream",
     "text": [
      "\n",
      " The downloaded file is extracted\n",
      "The file has been extracted\n",
      "Test with model norcpm1\n",
      "path_for_file does not exist: the data may not have been downloaded\n",
      "file_download does not exist: the data were not downloaded\n"
     ]
    },
    {
     "name": "stderr",
     "output_type": "stream",
     "text": [
      "2023-07-11 16:24:14,590 INFO Request is failed\n",
      "2023-07-11 16:24:14,591 ERROR Message: an internal error occurred processing your request\n",
      "2023-07-11 16:24:14,592 ERROR Reason:  No matching data for request {'experiment': 'ssp434', 'model': 'NorCPM1', 'temporal_resolution': 'day', 'variable': 'pr'}\n",
      "2023-07-11 16:24:14,593 ERROR   Traceback (most recent call last):\n",
      "2023-07-11 16:24:14,593 ERROR     File \"/opt/cdstoolbox/cdscompute/cdscompute/cdshandlers/services/handler.py\", line 59, in handle_request\n",
      "2023-07-11 16:24:14,594 ERROR       result = cached(context.method, proc, context, context.args, context.kwargs)\n",
      "2023-07-11 16:24:14,595 ERROR     File \"/opt/cdstoolbox/cdscompute/cdscompute/caching.py\", line 108, in cached\n",
      "2023-07-11 16:24:14,596 ERROR       result = proc(context, *context.args, **context.kwargs)\n",
      "2023-07-11 16:24:14,596 ERROR     File \"/opt/cdstoolbox/cdscompute/cdscompute/services.py\", line 124, in __call__\n",
      "2023-07-11 16:24:14,597 ERROR       return p(*args, **kwargs)\n",
      "2023-07-11 16:24:14,598 ERROR     File \"/opt/cdstoolbox/cdscompute/cdscompute/services.py\", line 60, in __call__\n",
      "2023-07-11 16:24:14,598 ERROR       return self.proc(context, *args, **kwargs)\n",
      "2023-07-11 16:24:14,599 ERROR     File \"/home/cds/cdsservices/services/esgf_wps/__init__.py\", line 30, in execute\n",
      "2023-07-11 16:24:14,600 ERROR       request_facets, request = facets.search(context, request)\n",
      "2023-07-11 16:24:14,601 ERROR     File \"/home/cds/cdsservices/services/esgf_wps/facets.py\", line 61, in search\n",
      "2023-07-11 16:24:14,602 ERROR       raise ValueError(f'No matching data for request {tmp_request}')\n",
      "2023-07-11 16:24:14,602 ERROR   ValueError: No matching data for request {'experiment': 'ssp434', 'model': 'NorCPM1', 'temporal_resolution': 'day', 'variable': 'pr'}\n",
      "2023-07-11 16:24:14,642 INFO Welcome to the CDS\n",
      "2023-07-11 16:24:14,642 INFO Sending request to https://cds.climate.copernicus.eu/api/v2/resources/projections-cmip6\n",
      "2023-07-11 16:24:14,704 INFO Request is queued\n"
     ]
    },
    {
     "name": "stdout",
     "output_type": "stream",
     "text": [
      "Some parameters are not matching\n",
      "Test with model noresm2_mm\n",
      "path_for_file does not exist: the data may not have been downloaded\n",
      "file_download does not exist: the data were not downloaded\n"
     ]
    },
    {
     "name": "stderr",
     "output_type": "stream",
     "text": [
      "2023-07-11 16:24:15,743 INFO Request is failed\n",
      "2023-07-11 16:24:15,745 ERROR Message: an internal error occurred processing your request\n",
      "2023-07-11 16:24:15,745 ERROR Reason:  No matching data for request {'experiment': 'ssp434', 'model': 'NorESM2-MM', 'temporal_resolution': 'day', 'variable': 'pr'}\n",
      "2023-07-11 16:24:15,746 ERROR   Traceback (most recent call last):\n",
      "2023-07-11 16:24:15,746 ERROR     File \"/opt/cdstoolbox/cdscompute/cdscompute/cdshandlers/services/handler.py\", line 59, in handle_request\n",
      "2023-07-11 16:24:15,747 ERROR       result = cached(context.method, proc, context, context.args, context.kwargs)\n",
      "2023-07-11 16:24:15,749 ERROR     File \"/opt/cdstoolbox/cdscompute/cdscompute/caching.py\", line 108, in cached\n",
      "2023-07-11 16:24:15,749 ERROR       result = proc(context, *context.args, **context.kwargs)\n",
      "2023-07-11 16:24:15,750 ERROR     File \"/opt/cdstoolbox/cdscompute/cdscompute/services.py\", line 124, in __call__\n",
      "2023-07-11 16:24:15,751 ERROR       return p(*args, **kwargs)\n",
      "2023-07-11 16:24:15,751 ERROR     File \"/opt/cdstoolbox/cdscompute/cdscompute/services.py\", line 60, in __call__\n",
      "2023-07-11 16:24:15,752 ERROR       return self.proc(context, *args, **kwargs)\n",
      "2023-07-11 16:24:15,753 ERROR     File \"/home/cds/cdsservices/services/esgf_wps/__init__.py\", line 30, in execute\n",
      "2023-07-11 16:24:15,754 ERROR       request_facets, request = facets.search(context, request)\n",
      "2023-07-11 16:24:15,755 ERROR     File \"/home/cds/cdsservices/services/esgf_wps/facets.py\", line 61, in search\n",
      "2023-07-11 16:24:15,755 ERROR       raise ValueError(f'No matching data for request {tmp_request}')\n",
      "2023-07-11 16:24:15,755 ERROR   ValueError: No matching data for request {'experiment': 'ssp434', 'model': 'NorESM2-MM', 'temporal_resolution': 'day', 'variable': 'pr'}\n",
      "2023-07-11 16:24:15,789 INFO Welcome to the CDS\n",
      "2023-07-11 16:24:15,790 INFO Sending request to https://cds.climate.copernicus.eu/api/v2/resources/projections-cmip6\n",
      "2023-07-11 16:24:15,847 INFO Request is queued\n"
     ]
    },
    {
     "name": "stdout",
     "output_type": "stream",
     "text": [
      "Some parameters are not matching\n",
      "Test with model taiesm1\n",
      "path_for_file does not exist: the data may not have been downloaded\n",
      "file_download does not exist: the data were not downloaded\n"
     ]
    },
    {
     "name": "stderr",
     "output_type": "stream",
     "text": [
      "2023-07-11 16:24:16,885 INFO Request is failed\n",
      "2023-07-11 16:24:16,886 ERROR Message: an internal error occurred processing your request\n",
      "2023-07-11 16:24:16,887 ERROR Reason:  No matching data for request {'experiment': 'ssp434', 'model': 'TaiESM1', 'temporal_resolution': 'day', 'variable': 'pr'}\n",
      "2023-07-11 16:24:16,888 ERROR   Traceback (most recent call last):\n",
      "2023-07-11 16:24:16,888 ERROR     File \"/opt/cdstoolbox/cdscompute/cdscompute/cdshandlers/services/handler.py\", line 59, in handle_request\n",
      "2023-07-11 16:24:16,889 ERROR       result = cached(context.method, proc, context, context.args, context.kwargs)\n",
      "2023-07-11 16:24:16,889 ERROR     File \"/opt/cdstoolbox/cdscompute/cdscompute/caching.py\", line 108, in cached\n",
      "2023-07-11 16:24:16,891 ERROR       result = proc(context, *context.args, **context.kwargs)\n",
      "2023-07-11 16:24:16,891 ERROR     File \"/opt/cdstoolbox/cdscompute/cdscompute/services.py\", line 124, in __call__\n",
      "2023-07-11 16:24:16,892 ERROR       return p(*args, **kwargs)\n",
      "2023-07-11 16:24:16,892 ERROR     File \"/opt/cdstoolbox/cdscompute/cdscompute/services.py\", line 60, in __call__\n",
      "2023-07-11 16:24:16,893 ERROR       return self.proc(context, *args, **kwargs)\n",
      "2023-07-11 16:24:16,894 ERROR     File \"/home/cds/cdsservices/services/esgf_wps/__init__.py\", line 30, in execute\n",
      "2023-07-11 16:24:16,895 ERROR       request_facets, request = facets.search(context, request)\n",
      "2023-07-11 16:24:16,895 ERROR     File \"/home/cds/cdsservices/services/esgf_wps/facets.py\", line 61, in search\n",
      "2023-07-11 16:24:16,895 ERROR       raise ValueError(f'No matching data for request {tmp_request}')\n",
      "2023-07-11 16:24:16,897 ERROR   ValueError: No matching data for request {'experiment': 'ssp434', 'model': 'TaiESM1', 'temporal_resolution': 'day', 'variable': 'pr'}\n",
      "2023-07-11 16:24:16,934 INFO Welcome to the CDS\n",
      "2023-07-11 16:24:16,935 INFO Sending request to https://cds.climate.copernicus.eu/api/v2/resources/projections-cmip6\n",
      "2023-07-11 16:24:16,975 INFO Request is queued\n"
     ]
    },
    {
     "name": "stdout",
     "output_type": "stream",
     "text": [
      "Some parameters are not matching\n",
      "Test with model access_esm1_5\n",
      "path_for_file does not exist: the data may not have been downloaded\n",
      "file_download does not exist: the data were not downloaded\n"
     ]
    },
    {
     "name": "stderr",
     "output_type": "stream",
     "text": [
      "2023-07-11 16:24:18,026 INFO Request is failed\n",
      "2023-07-11 16:24:18,027 ERROR Message: an internal error occurred processing your request\n",
      "2023-07-11 16:24:18,027 ERROR Reason:  No matching data for request {'experiment': 'ssp434', 'model': 'ACCESS-ESM1-5', 'temporal_resolution': 'day', 'variable': 'pr'}\n",
      "2023-07-11 16:24:18,028 ERROR   Traceback (most recent call last):\n",
      "2023-07-11 16:24:18,029 ERROR     File \"/opt/cdstoolbox/cdscompute/cdscompute/cdshandlers/services/handler.py\", line 59, in handle_request\n",
      "2023-07-11 16:24:18,030 ERROR       result = cached(context.method, proc, context, context.args, context.kwargs)\n",
      "2023-07-11 16:24:18,030 ERROR     File \"/opt/cdstoolbox/cdscompute/cdscompute/caching.py\", line 108, in cached\n",
      "2023-07-11 16:24:18,031 ERROR       result = proc(context, *context.args, **context.kwargs)\n",
      "2023-07-11 16:24:18,031 ERROR     File \"/opt/cdstoolbox/cdscompute/cdscompute/services.py\", line 124, in __call__\n",
      "2023-07-11 16:24:18,031 ERROR       return p(*args, **kwargs)\n",
      "2023-07-11 16:24:18,033 ERROR     File \"/opt/cdstoolbox/cdscompute/cdscompute/services.py\", line 60, in __call__\n",
      "2023-07-11 16:24:18,034 ERROR       return self.proc(context, *args, **kwargs)\n",
      "2023-07-11 16:24:18,035 ERROR     File \"/home/cds/cdsservices/services/esgf_wps/__init__.py\", line 30, in execute\n",
      "2023-07-11 16:24:18,035 ERROR       request_facets, request = facets.search(context, request)\n",
      "2023-07-11 16:24:18,036 ERROR     File \"/home/cds/cdsservices/services/esgf_wps/facets.py\", line 61, in search\n",
      "2023-07-11 16:24:18,037 ERROR       raise ValueError(f'No matching data for request {tmp_request}')\n",
      "2023-07-11 16:24:18,037 ERROR   ValueError: No matching data for request {'experiment': 'ssp434', 'model': 'ACCESS-ESM1-5', 'temporal_resolution': 'day', 'variable': 'pr'}\n",
      "2023-07-11 16:24:18,072 INFO Welcome to the CDS\n",
      "2023-07-11 16:24:18,073 INFO Sending request to https://cds.climate.copernicus.eu/api/v2/resources/projections-cmip6\n",
      "2023-07-11 16:24:18,114 INFO Request is queued\n"
     ]
    },
    {
     "name": "stdout",
     "output_type": "stream",
     "text": [
      "Some parameters are not matching\n",
      "Test with model awi_esm_1_1_lr\n",
      "path_for_file does not exist: the data may not have been downloaded\n",
      "file_download does not exist: the data were not downloaded\n"
     ]
    },
    {
     "name": "stderr",
     "output_type": "stream",
     "text": [
      "2023-07-11 16:24:19,163 INFO Request is failed\n",
      "2023-07-11 16:24:19,164 ERROR Message: an internal error occurred processing your request\n",
      "2023-07-11 16:24:19,165 ERROR Reason:  No matching data for request {'experiment': 'ssp434', 'model': 'AWI-ESM-1-1-LR', 'temporal_resolution': 'day', 'variable': 'pr'}\n",
      "2023-07-11 16:24:19,165 ERROR   Traceback (most recent call last):\n",
      "2023-07-11 16:24:19,166 ERROR     File \"/opt/cdstoolbox/cdscompute/cdscompute/cdshandlers/services/handler.py\", line 59, in handle_request\n",
      "2023-07-11 16:24:19,166 ERROR       result = cached(context.method, proc, context, context.args, context.kwargs)\n",
      "2023-07-11 16:24:19,167 ERROR     File \"/opt/cdstoolbox/cdscompute/cdscompute/caching.py\", line 108, in cached\n",
      "2023-07-11 16:24:19,167 ERROR       result = proc(context, *context.args, **context.kwargs)\n",
      "2023-07-11 16:24:19,168 ERROR     File \"/opt/cdstoolbox/cdscompute/cdscompute/services.py\", line 124, in __call__\n",
      "2023-07-11 16:24:19,168 ERROR       return p(*args, **kwargs)\n",
      "2023-07-11 16:24:19,169 ERROR     File \"/opt/cdstoolbox/cdscompute/cdscompute/services.py\", line 60, in __call__\n",
      "2023-07-11 16:24:19,170 ERROR       return self.proc(context, *args, **kwargs)\n",
      "2023-07-11 16:24:19,170 ERROR     File \"/home/cds/cdsservices/services/esgf_wps/__init__.py\", line 30, in execute\n",
      "2023-07-11 16:24:19,171 ERROR       request_facets, request = facets.search(context, request)\n",
      "2023-07-11 16:24:19,172 ERROR     File \"/home/cds/cdsservices/services/esgf_wps/facets.py\", line 61, in search\n",
      "2023-07-11 16:24:19,173 ERROR       raise ValueError(f'No matching data for request {tmp_request}')\n",
      "2023-07-11 16:24:19,173 ERROR   ValueError: No matching data for request {'experiment': 'ssp434', 'model': 'AWI-ESM-1-1-LR', 'temporal_resolution': 'day', 'variable': 'pr'}\n",
      "2023-07-11 16:24:19,211 INFO Welcome to the CDS\n",
      "2023-07-11 16:24:19,212 INFO Sending request to https://cds.climate.copernicus.eu/api/v2/resources/projections-cmip6\n",
      "2023-07-11 16:24:19,263 INFO Request is queued\n"
     ]
    },
    {
     "name": "stdout",
     "output_type": "stream",
     "text": [
      "Some parameters are not matching\n",
      "Test with model bcc_esm1\n",
      "path_for_file does not exist: the data may not have been downloaded\n",
      "file_download does not exist: the data were not downloaded\n"
     ]
    },
    {
     "name": "stderr",
     "output_type": "stream",
     "text": [
      "2023-07-11 16:24:20,306 INFO Request is failed\n",
      "2023-07-11 16:24:20,307 ERROR Message: an internal error occurred processing your request\n",
      "2023-07-11 16:24:20,308 ERROR Reason:  No matching data for request {'experiment': 'ssp434', 'model': 'BCC-ESM1', 'temporal_resolution': 'day', 'variable': 'pr'}\n",
      "2023-07-11 16:24:20,308 ERROR   Traceback (most recent call last):\n",
      "2023-07-11 16:24:20,309 ERROR     File \"/opt/cdstoolbox/cdscompute/cdscompute/cdshandlers/services/handler.py\", line 59, in handle_request\n",
      "2023-07-11 16:24:20,310 ERROR       result = cached(context.method, proc, context, context.args, context.kwargs)\n",
      "2023-07-11 16:24:20,310 ERROR     File \"/opt/cdstoolbox/cdscompute/cdscompute/caching.py\", line 108, in cached\n",
      "2023-07-11 16:24:20,311 ERROR       result = proc(context, *context.args, **context.kwargs)\n",
      "2023-07-11 16:24:20,312 ERROR     File \"/opt/cdstoolbox/cdscompute/cdscompute/services.py\", line 124, in __call__\n",
      "2023-07-11 16:24:20,313 ERROR       return p(*args, **kwargs)\n",
      "2023-07-11 16:24:20,313 ERROR     File \"/opt/cdstoolbox/cdscompute/cdscompute/services.py\", line 60, in __call__\n",
      "2023-07-11 16:24:20,314 ERROR       return self.proc(context, *args, **kwargs)\n",
      "2023-07-11 16:24:20,315 ERROR     File \"/home/cds/cdsservices/services/esgf_wps/__init__.py\", line 30, in execute\n",
      "2023-07-11 16:24:20,316 ERROR       request_facets, request = facets.search(context, request)\n",
      "2023-07-11 16:24:20,317 ERROR     File \"/home/cds/cdsservices/services/esgf_wps/facets.py\", line 61, in search\n",
      "2023-07-11 16:24:20,317 ERROR       raise ValueError(f'No matching data for request {tmp_request}')\n",
      "2023-07-11 16:24:20,318 ERROR   ValueError: No matching data for request {'experiment': 'ssp434', 'model': 'BCC-ESM1', 'temporal_resolution': 'day', 'variable': 'pr'}\n",
      "2023-07-11 16:24:20,354 INFO Welcome to the CDS\n",
      "2023-07-11 16:24:20,354 INFO Sending request to https://cds.climate.copernicus.eu/api/v2/resources/projections-cmip6\n",
      "2023-07-11 16:24:20,414 INFO Request is queued\n"
     ]
    },
    {
     "name": "stdout",
     "output_type": "stream",
     "text": [
      "Some parameters are not matching\n",
      "Test with model canesm5\n",
      "path_for_file does not exist: the data may not have been downloaded\n",
      "file_download does not exist: the data were not downloaded\n"
     ]
    },
    {
     "name": "stderr",
     "output_type": "stream",
     "text": [
      "2023-07-11 16:24:21,471 INFO Request is running\n",
      "2023-07-11 16:26:14,201 INFO Request is completed\n",
      "2023-07-11 16:26:14,202 INFO Downloading https://download-0001-clone.copernicus-climate.eu/cache-compute-0001/cache/data9/adaptor.esgf_wps.retrieve-1689085560.2273047-3074-12-1e216a52-636b-4bff-b7fa-e7afaabd782d.zip to download.zip (8.4M)\n",
      "2023-07-11 16:26:15,153 INFO Download rate 8.8M/s                                                                      \n"
     ]
    },
    {
     "name": "stdout",
     "output_type": "stream",
     "text": [
      "The file has been download\n",
      "Path for the file is created, did not existed before\n"
     ]
    },
    {
     "name": "stderr",
     "output_type": "stream",
     "text": [
      "2023-07-11 16:26:16,437 INFO Welcome to the CDS\n",
      "2023-07-11 16:26:16,439 INFO Sending request to https://cds.climate.copernicus.eu/api/v2/resources/projections-cmip6\n",
      "2023-07-11 16:26:16,513 INFO Request is queued\n"
     ]
    },
    {
     "name": "stdout",
     "output_type": "stream",
     "text": [
      "\n",
      " The downloaded file is extracted\n",
      "The file has been extracted\n",
      "Test with model cesm2\n",
      "path_for_file does not exist: the data may not have been downloaded\n",
      "file_download does not exist: the data were not downloaded\n"
     ]
    },
    {
     "name": "stderr",
     "output_type": "stream",
     "text": [
      "2023-07-11 16:26:17,551 INFO Request is failed\n",
      "2023-07-11 16:26:17,552 ERROR Message: an internal error occurred processing your request\n",
      "2023-07-11 16:26:17,552 ERROR Reason:  No matching data for request {'experiment': 'ssp434', 'model': 'CESM2', 'temporal_resolution': 'day', 'variable': 'pr'}\n",
      "2023-07-11 16:26:17,553 ERROR   Traceback (most recent call last):\n",
      "2023-07-11 16:26:17,554 ERROR     File \"/opt/cdstoolbox/cdscompute/cdscompute/cdshandlers/services/handler.py\", line 59, in handle_request\n",
      "2023-07-11 16:26:17,554 ERROR       result = cached(context.method, proc, context, context.args, context.kwargs)\n",
      "2023-07-11 16:26:17,555 ERROR     File \"/opt/cdstoolbox/cdscompute/cdscompute/caching.py\", line 108, in cached\n",
      "2023-07-11 16:26:17,555 ERROR       result = proc(context, *context.args, **context.kwargs)\n",
      "2023-07-11 16:26:17,556 ERROR     File \"/opt/cdstoolbox/cdscompute/cdscompute/services.py\", line 124, in __call__\n",
      "2023-07-11 16:26:17,556 ERROR       return p(*args, **kwargs)\n",
      "2023-07-11 16:26:17,557 ERROR     File \"/opt/cdstoolbox/cdscompute/cdscompute/services.py\", line 60, in __call__\n",
      "2023-07-11 16:26:17,558 ERROR       return self.proc(context, *args, **kwargs)\n",
      "2023-07-11 16:26:17,559 ERROR     File \"/home/cds/cdsservices/services/esgf_wps/__init__.py\", line 30, in execute\n",
      "2023-07-11 16:26:17,559 ERROR       request_facets, request = facets.search(context, request)\n",
      "2023-07-11 16:26:17,560 ERROR     File \"/home/cds/cdsservices/services/esgf_wps/facets.py\", line 61, in search\n",
      "2023-07-11 16:26:17,561 ERROR       raise ValueError(f'No matching data for request {tmp_request}')\n",
      "2023-07-11 16:26:17,561 ERROR   ValueError: No matching data for request {'experiment': 'ssp434', 'model': 'CESM2', 'temporal_resolution': 'day', 'variable': 'pr'}\n",
      "2023-07-11 16:26:17,597 INFO Welcome to the CDS\n",
      "2023-07-11 16:26:17,598 INFO Sending request to https://cds.climate.copernicus.eu/api/v2/resources/projections-cmip6\n",
      "2023-07-11 16:26:17,655 INFO Request is queued\n"
     ]
    },
    {
     "name": "stdout",
     "output_type": "stream",
     "text": [
      "Some parameters are not matching\n",
      "Test with model cesm2_waccm\n",
      "path_for_file does not exist: the data may not have been downloaded\n",
      "file_download does not exist: the data were not downloaded\n"
     ]
    },
    {
     "name": "stderr",
     "output_type": "stream",
     "text": [
      "2023-07-11 16:26:18,703 INFO Request is failed\n",
      "2023-07-11 16:26:18,704 ERROR Message: an internal error occurred processing your request\n",
      "2023-07-11 16:26:18,705 ERROR Reason:  No matching data for request {'experiment': 'ssp434', 'model': 'CESM2-WACCM', 'temporal_resolution': 'day', 'variable': 'pr'}\n",
      "2023-07-11 16:26:18,706 ERROR   Traceback (most recent call last):\n",
      "2023-07-11 16:26:18,707 ERROR     File \"/opt/cdstoolbox/cdscompute/cdscompute/cdshandlers/services/handler.py\", line 59, in handle_request\n",
      "2023-07-11 16:26:18,707 ERROR       result = cached(context.method, proc, context, context.args, context.kwargs)\n",
      "2023-07-11 16:26:18,708 ERROR     File \"/opt/cdstoolbox/cdscompute/cdscompute/caching.py\", line 108, in cached\n",
      "2023-07-11 16:26:18,709 ERROR       result = proc(context, *context.args, **context.kwargs)\n",
      "2023-07-11 16:26:18,709 ERROR     File \"/opt/cdstoolbox/cdscompute/cdscompute/services.py\", line 124, in __call__\n",
      "2023-07-11 16:26:18,710 ERROR       return p(*args, **kwargs)\n",
      "2023-07-11 16:26:18,710 ERROR     File \"/opt/cdstoolbox/cdscompute/cdscompute/services.py\", line 60, in __call__\n",
      "2023-07-11 16:26:18,711 ERROR       return self.proc(context, *args, **kwargs)\n",
      "2023-07-11 16:26:18,711 ERROR     File \"/home/cds/cdsservices/services/esgf_wps/__init__.py\", line 30, in execute\n",
      "2023-07-11 16:26:18,712 ERROR       request_facets, request = facets.search(context, request)\n",
      "2023-07-11 16:26:18,712 ERROR     File \"/home/cds/cdsservices/services/esgf_wps/facets.py\", line 61, in search\n",
      "2023-07-11 16:26:18,713 ERROR       raise ValueError(f'No matching data for request {tmp_request}')\n",
      "2023-07-11 16:26:18,714 ERROR   ValueError: No matching data for request {'experiment': 'ssp434', 'model': 'CESM2-WACCM', 'temporal_resolution': 'day', 'variable': 'pr'}\n",
      "2023-07-11 16:26:18,754 INFO Welcome to the CDS\n",
      "2023-07-11 16:26:18,755 INFO Sending request to https://cds.climate.copernicus.eu/api/v2/resources/projections-cmip6\n",
      "2023-07-11 16:26:18,876 INFO Request is queued\n"
     ]
    },
    {
     "name": "stdout",
     "output_type": "stream",
     "text": [
      "Some parameters are not matching\n",
      "Test with model ciesm\n",
      "path_for_file does not exist: the data may not have been downloaded\n",
      "file_download does not exist: the data were not downloaded\n"
     ]
    },
    {
     "name": "stderr",
     "output_type": "stream",
     "text": [
      "2023-07-11 16:26:19,920 INFO Request is failed\n",
      "2023-07-11 16:26:19,921 ERROR Message: an internal error occurred processing your request\n",
      "2023-07-11 16:26:19,922 ERROR Reason:  No matching data for request {'experiment': 'ssp434', 'model': 'CIESM', 'temporal_resolution': 'day', 'variable': 'pr'}\n",
      "2023-07-11 16:26:19,923 ERROR   Traceback (most recent call last):\n",
      "2023-07-11 16:26:19,923 ERROR     File \"/opt/cdstoolbox/cdscompute/cdscompute/cdshandlers/services/handler.py\", line 59, in handle_request\n",
      "2023-07-11 16:26:19,924 ERROR       result = cached(context.method, proc, context, context.args, context.kwargs)\n",
      "2023-07-11 16:26:19,924 ERROR     File \"/opt/cdstoolbox/cdscompute/cdscompute/caching.py\", line 108, in cached\n",
      "2023-07-11 16:26:19,925 ERROR       result = proc(context, *context.args, **context.kwargs)\n",
      "2023-07-11 16:26:19,926 ERROR     File \"/opt/cdstoolbox/cdscompute/cdscompute/services.py\", line 124, in __call__\n",
      "2023-07-11 16:26:19,926 ERROR       return p(*args, **kwargs)\n",
      "2023-07-11 16:26:19,927 ERROR     File \"/opt/cdstoolbox/cdscompute/cdscompute/services.py\", line 60, in __call__\n",
      "2023-07-11 16:26:19,928 ERROR       return self.proc(context, *args, **kwargs)\n",
      "2023-07-11 16:26:19,929 ERROR     File \"/home/cds/cdsservices/services/esgf_wps/__init__.py\", line 30, in execute\n",
      "2023-07-11 16:26:19,930 ERROR       request_facets, request = facets.search(context, request)\n",
      "2023-07-11 16:26:19,930 ERROR     File \"/home/cds/cdsservices/services/esgf_wps/facets.py\", line 61, in search\n",
      "2023-07-11 16:26:19,932 ERROR       raise ValueError(f'No matching data for request {tmp_request}')\n",
      "2023-07-11 16:26:19,932 ERROR   ValueError: No matching data for request {'experiment': 'ssp434', 'model': 'CIESM', 'temporal_resolution': 'day', 'variable': 'pr'}\n",
      "2023-07-11 16:26:19,978 INFO Welcome to the CDS\n",
      "2023-07-11 16:26:19,979 INFO Sending request to https://cds.climate.copernicus.eu/api/v2/resources/projections-cmip6\n",
      "2023-07-11 16:26:20,039 INFO Request is queued\n"
     ]
    },
    {
     "name": "stdout",
     "output_type": "stream",
     "text": [
      "Some parameters are not matching\n",
      "Test with model cmcc_cm2_sr5\n",
      "path_for_file does not exist: the data may not have been downloaded\n",
      "file_download does not exist: the data were not downloaded\n"
     ]
    },
    {
     "name": "stderr",
     "output_type": "stream",
     "text": [
      "2023-07-11 16:26:21,086 INFO Request is failed\n",
      "2023-07-11 16:26:21,087 ERROR Message: an internal error occurred processing your request\n",
      "2023-07-11 16:26:21,088 ERROR Reason:  No matching data for request {'experiment': 'ssp434', 'model': 'CMCC-CM2-SR5', 'temporal_resolution': 'day', 'variable': 'pr'}\n",
      "2023-07-11 16:26:21,089 ERROR   Traceback (most recent call last):\n",
      "2023-07-11 16:26:21,089 ERROR     File \"/opt/cdstoolbox/cdscompute/cdscompute/cdshandlers/services/handler.py\", line 59, in handle_request\n",
      "2023-07-11 16:26:21,090 ERROR       result = cached(context.method, proc, context, context.args, context.kwargs)\n",
      "2023-07-11 16:26:21,091 ERROR     File \"/opt/cdstoolbox/cdscompute/cdscompute/caching.py\", line 108, in cached\n",
      "2023-07-11 16:26:21,091 ERROR       result = proc(context, *context.args, **context.kwargs)\n",
      "2023-07-11 16:26:21,092 ERROR     File \"/opt/cdstoolbox/cdscompute/cdscompute/services.py\", line 124, in __call__\n",
      "2023-07-11 16:26:21,092 ERROR       return p(*args, **kwargs)\n",
      "2023-07-11 16:26:21,093 ERROR     File \"/opt/cdstoolbox/cdscompute/cdscompute/services.py\", line 60, in __call__\n",
      "2023-07-11 16:26:21,094 ERROR       return self.proc(context, *args, **kwargs)\n",
      "2023-07-11 16:26:21,094 ERROR     File \"/home/cds/cdsservices/services/esgf_wps/__init__.py\", line 30, in execute\n",
      "2023-07-11 16:26:21,095 ERROR       request_facets, request = facets.search(context, request)\n",
      "2023-07-11 16:26:21,095 ERROR     File \"/home/cds/cdsservices/services/esgf_wps/facets.py\", line 61, in search\n",
      "2023-07-11 16:26:21,096 ERROR       raise ValueError(f'No matching data for request {tmp_request}')\n",
      "2023-07-11 16:26:21,096 ERROR   ValueError: No matching data for request {'experiment': 'ssp434', 'model': 'CMCC-CM2-SR5', 'temporal_resolution': 'day', 'variable': 'pr'}\n",
      "2023-07-11 16:26:21,144 INFO Welcome to the CDS\n",
      "2023-07-11 16:26:21,145 INFO Sending request to https://cds.climate.copernicus.eu/api/v2/resources/projections-cmip6\n",
      "2023-07-11 16:26:21,197 INFO Request is queued\n"
     ]
    },
    {
     "name": "stdout",
     "output_type": "stream",
     "text": [
      "Some parameters are not matching\n",
      "Test with model cnrm_cm6_1\n",
      "path_for_file does not exist: the data may not have been downloaded\n",
      "file_download does not exist: the data were not downloaded\n"
     ]
    },
    {
     "name": "stderr",
     "output_type": "stream",
     "text": [
      "2023-07-11 16:26:22,247 INFO Request is failed\n",
      "2023-07-11 16:26:22,249 ERROR Message: an internal error occurred processing your request\n",
      "2023-07-11 16:26:22,249 ERROR Reason:  No matching data for request {'experiment': 'ssp434', 'model': 'CNRM-CM6-1', 'temporal_resolution': 'day', 'variable': 'pr'}\n",
      "2023-07-11 16:26:22,250 ERROR   Traceback (most recent call last):\n",
      "2023-07-11 16:26:22,250 ERROR     File \"/opt/cdstoolbox/cdscompute/cdscompute/cdshandlers/services/handler.py\", line 59, in handle_request\n",
      "2023-07-11 16:26:22,251 ERROR       result = cached(context.method, proc, context, context.args, context.kwargs)\n",
      "2023-07-11 16:26:22,251 ERROR     File \"/opt/cdstoolbox/cdscompute/cdscompute/caching.py\", line 108, in cached\n",
      "2023-07-11 16:26:22,251 ERROR       result = proc(context, *context.args, **context.kwargs)\n",
      "2023-07-11 16:26:22,252 ERROR     File \"/opt/cdstoolbox/cdscompute/cdscompute/services.py\", line 124, in __call__\n",
      "2023-07-11 16:26:22,253 ERROR       return p(*args, **kwargs)\n",
      "2023-07-11 16:26:22,254 ERROR     File \"/opt/cdstoolbox/cdscompute/cdscompute/services.py\", line 60, in __call__\n",
      "2023-07-11 16:26:22,254 ERROR       return self.proc(context, *args, **kwargs)\n",
      "2023-07-11 16:26:22,256 ERROR     File \"/home/cds/cdsservices/services/esgf_wps/__init__.py\", line 30, in execute\n",
      "2023-07-11 16:26:22,256 ERROR       request_facets, request = facets.search(context, request)\n",
      "2023-07-11 16:26:22,257 ERROR     File \"/home/cds/cdsservices/services/esgf_wps/facets.py\", line 61, in search\n",
      "2023-07-11 16:26:22,257 ERROR       raise ValueError(f'No matching data for request {tmp_request}')\n",
      "2023-07-11 16:26:22,259 ERROR   ValueError: No matching data for request {'experiment': 'ssp434', 'model': 'CNRM-CM6-1', 'temporal_resolution': 'day', 'variable': 'pr'}\n",
      "2023-07-11 16:26:22,305 INFO Welcome to the CDS\n",
      "2023-07-11 16:26:22,306 INFO Sending request to https://cds.climate.copernicus.eu/api/v2/resources/projections-cmip6\n",
      "2023-07-11 16:26:22,364 INFO Request is queued\n"
     ]
    },
    {
     "name": "stdout",
     "output_type": "stream",
     "text": [
      "Some parameters are not matching\n",
      "Test with model cnrm_esm2_1\n",
      "path_for_file does not exist: the data may not have been downloaded\n",
      "file_download does not exist: the data were not downloaded\n"
     ]
    },
    {
     "name": "stderr",
     "output_type": "stream",
     "text": [
      "2023-07-11 16:26:23,410 INFO Request is running\n",
      "2023-07-11 16:28:16,163 INFO Request is completed\n",
      "2023-07-11 16:28:16,164 INFO Downloading https://download-0007-clone.copernicus-climate.eu/cache-compute-0007/cache/data5/adaptor.esgf_wps.retrieve-1689085670.0225356-7619-5-64c3d0c8-e5e5-4e45-bfad-07eb78ac7f9a.zip to download.zip (16.9M)\n",
      "2023-07-11 16:28:17,887 INFO Download rate 9.8M/s                                                                      \n"
     ]
    },
    {
     "name": "stdout",
     "output_type": "stream",
     "text": [
      "The file has been download\n",
      "Path for the file is created, did not existed before\n"
     ]
    },
    {
     "name": "stderr",
     "output_type": "stream",
     "text": [
      "2023-07-11 16:28:19,403 INFO Welcome to the CDS\n",
      "2023-07-11 16:28:19,404 INFO Sending request to https://cds.climate.copernicus.eu/api/v2/resources/projections-cmip6\n",
      "2023-07-11 16:28:19,450 INFO Request is queued\n"
     ]
    },
    {
     "name": "stdout",
     "output_type": "stream",
     "text": [
      "\n",
      " The downloaded file is extracted\n",
      "The file has been extracted\n",
      "Test with model e3sm_1_1\n",
      "path_for_file does not exist: the data may not have been downloaded\n",
      "file_download does not exist: the data were not downloaded\n"
     ]
    },
    {
     "name": "stderr",
     "output_type": "stream",
     "text": [
      "2023-07-11 16:28:20,494 INFO Request is failed\n",
      "2023-07-11 16:28:20,496 ERROR Message: an internal error occurred processing your request\n",
      "2023-07-11 16:28:20,496 ERROR Reason:  No matching data for request {'experiment': 'ssp434', 'model': 'E3SM-1-1', 'temporal_resolution': 'day', 'variable': 'pr'}\n",
      "2023-07-11 16:28:20,497 ERROR   Traceback (most recent call last):\n",
      "2023-07-11 16:28:20,498 ERROR     File \"/opt/cdstoolbox/cdscompute/cdscompute/cdshandlers/services/handler.py\", line 59, in handle_request\n",
      "2023-07-11 16:28:20,499 ERROR       result = cached(context.method, proc, context, context.args, context.kwargs)\n",
      "2023-07-11 16:28:20,500 ERROR     File \"/opt/cdstoolbox/cdscompute/cdscompute/caching.py\", line 108, in cached\n",
      "2023-07-11 16:28:20,500 ERROR       result = proc(context, *context.args, **context.kwargs)\n",
      "2023-07-11 16:28:20,501 ERROR     File \"/opt/cdstoolbox/cdscompute/cdscompute/services.py\", line 124, in __call__\n",
      "2023-07-11 16:28:20,501 ERROR       return p(*args, **kwargs)\n",
      "2023-07-11 16:28:20,502 ERROR     File \"/opt/cdstoolbox/cdscompute/cdscompute/services.py\", line 60, in __call__\n",
      "2023-07-11 16:28:20,503 ERROR       return self.proc(context, *args, **kwargs)\n",
      "2023-07-11 16:28:20,503 ERROR     File \"/home/cds/cdsservices/services/esgf_wps/__init__.py\", line 30, in execute\n",
      "2023-07-11 16:28:20,504 ERROR       request_facets, request = facets.search(context, request)\n",
      "2023-07-11 16:28:20,504 ERROR     File \"/home/cds/cdsservices/services/esgf_wps/facets.py\", line 61, in search\n",
      "2023-07-11 16:28:20,505 ERROR       raise ValueError(f'No matching data for request {tmp_request}')\n",
      "2023-07-11 16:28:20,505 ERROR   ValueError: No matching data for request {'experiment': 'ssp434', 'model': 'E3SM-1-1', 'temporal_resolution': 'day', 'variable': 'pr'}\n",
      "2023-07-11 16:28:20,540 INFO Welcome to the CDS\n",
      "2023-07-11 16:28:20,542 INFO Sending request to https://cds.climate.copernicus.eu/api/v2/resources/projections-cmip6\n",
      "2023-07-11 16:28:20,641 INFO Request is queued\n"
     ]
    },
    {
     "name": "stdout",
     "output_type": "stream",
     "text": [
      "Some parameters are not matching\n",
      "Test with model ec_earth3\n",
      "path_for_file does not exist: the data may not have been downloaded\n",
      "file_download does not exist: the data were not downloaded\n"
     ]
    },
    {
     "name": "stderr",
     "output_type": "stream",
     "text": [
      "2023-07-11 16:28:21,680 INFO Request is running\n",
      "2023-07-11 16:34:39,438 INFO Request is completed\n",
      "2023-07-11 16:34:39,439 INFO Downloading https://download-0017.copernicus-climate.eu/cache-compute-0017/cache/data3/adaptor.esgf_wps.retrieve-1689086003.1771047-26704-10-a553f77a-3f14-463a-b0d5-f1dfc0660e0c.zip to download.zip (30.3M)\n",
      "2023-07-11 16:34:42,092 INFO Download rate 11.4M/s                                                                     \n"
     ]
    },
    {
     "name": "stdout",
     "output_type": "stream",
     "text": [
      "The file has been download\n",
      "Path for the file is created, did not existed before\n"
     ]
    },
    {
     "name": "stderr",
     "output_type": "stream",
     "text": [
      "2023-07-11 16:34:44,060 INFO Welcome to the CDS\n",
      "2023-07-11 16:34:44,061 INFO Sending request to https://cds.climate.copernicus.eu/api/v2/resources/projections-cmip6\n",
      "2023-07-11 16:34:44,117 INFO Request is queued\n"
     ]
    },
    {
     "name": "stdout",
     "output_type": "stream",
     "text": [
      "\n",
      " The downloaded file is extracted\n",
      "The file has been extracted\n",
      "Test with model ec_earth3_cc\n",
      "path_for_file does not exist: the data may not have been downloaded\n",
      "file_download does not exist: the data were not downloaded\n"
     ]
    },
    {
     "name": "stderr",
     "output_type": "stream",
     "text": [
      "2023-07-11 16:34:45,154 INFO Request is failed\n",
      "2023-07-11 16:34:45,155 ERROR Message: an internal error occurred processing your request\n",
      "2023-07-11 16:34:45,156 ERROR Reason:  No matching data for request {'experiment': 'ssp434', 'model': 'EC-Earth3-CC', 'temporal_resolution': 'day', 'variable': 'pr'}\n",
      "2023-07-11 16:34:45,156 ERROR   Traceback (most recent call last):\n",
      "2023-07-11 16:34:45,157 ERROR     File \"/opt/cdstoolbox/cdscompute/cdscompute/cdshandlers/services/handler.py\", line 59, in handle_request\n",
      "2023-07-11 16:34:45,158 ERROR       result = cached(context.method, proc, context, context.args, context.kwargs)\n",
      "2023-07-11 16:34:45,159 ERROR     File \"/opt/cdstoolbox/cdscompute/cdscompute/caching.py\", line 108, in cached\n",
      "2023-07-11 16:34:45,160 ERROR       result = proc(context, *context.args, **context.kwargs)\n",
      "2023-07-11 16:34:45,161 ERROR     File \"/opt/cdstoolbox/cdscompute/cdscompute/services.py\", line 124, in __call__\n",
      "2023-07-11 16:34:45,162 ERROR       return p(*args, **kwargs)\n",
      "2023-07-11 16:34:45,162 ERROR     File \"/opt/cdstoolbox/cdscompute/cdscompute/services.py\", line 60, in __call__\n",
      "2023-07-11 16:34:45,163 ERROR       return self.proc(context, *args, **kwargs)\n",
      "2023-07-11 16:34:45,164 ERROR     File \"/home/cds/cdsservices/services/esgf_wps/__init__.py\", line 30, in execute\n",
      "2023-07-11 16:34:45,164 ERROR       request_facets, request = facets.search(context, request)\n",
      "2023-07-11 16:34:45,165 ERROR     File \"/home/cds/cdsservices/services/esgf_wps/facets.py\", line 61, in search\n",
      "2023-07-11 16:34:45,166 ERROR       raise ValueError(f'No matching data for request {tmp_request}')\n",
      "2023-07-11 16:34:45,166 ERROR   ValueError: No matching data for request {'experiment': 'ssp434', 'model': 'EC-Earth3-CC', 'temporal_resolution': 'day', 'variable': 'pr'}\n",
      "2023-07-11 16:34:45,204 INFO Welcome to the CDS\n",
      "2023-07-11 16:34:45,205 INFO Sending request to https://cds.climate.copernicus.eu/api/v2/resources/projections-cmip6\n",
      "2023-07-11 16:34:45,268 INFO Request is queued\n"
     ]
    },
    {
     "name": "stdout",
     "output_type": "stream",
     "text": [
      "Some parameters are not matching\n",
      "Test with model ec_earth3_veg_lr\n",
      "path_for_file does not exist: the data may not have been downloaded\n",
      "file_download does not exist: the data were not downloaded\n"
     ]
    },
    {
     "name": "stderr",
     "output_type": "stream",
     "text": [
      "2023-07-11 16:34:46,308 INFO Request is failed\n",
      "2023-07-11 16:34:46,309 ERROR Message: an internal error occurred processing your request\n",
      "2023-07-11 16:34:46,310 ERROR Reason:  No matching data for request {'experiment': 'ssp434', 'model': 'EC-Earth3-Veg-LR', 'temporal_resolution': 'day', 'variable': 'pr'}\n",
      "2023-07-11 16:34:46,310 ERROR   Traceback (most recent call last):\n",
      "2023-07-11 16:34:46,310 ERROR     File \"/opt/cdstoolbox/cdscompute/cdscompute/cdshandlers/services/handler.py\", line 59, in handle_request\n",
      "2023-07-11 16:34:46,311 ERROR       result = cached(context.method, proc, context, context.args, context.kwargs)\n",
      "2023-07-11 16:34:46,312 ERROR     File \"/opt/cdstoolbox/cdscompute/cdscompute/caching.py\", line 108, in cached\n",
      "2023-07-11 16:34:46,312 ERROR       result = proc(context, *context.args, **context.kwargs)\n",
      "2023-07-11 16:34:46,313 ERROR     File \"/opt/cdstoolbox/cdscompute/cdscompute/services.py\", line 124, in __call__\n",
      "2023-07-11 16:34:46,314 ERROR       return p(*args, **kwargs)\n",
      "2023-07-11 16:34:46,314 ERROR     File \"/opt/cdstoolbox/cdscompute/cdscompute/services.py\", line 60, in __call__\n",
      "2023-07-11 16:34:46,315 ERROR       return self.proc(context, *args, **kwargs)\n",
      "2023-07-11 16:34:46,315 ERROR     File \"/home/cds/cdsservices/services/esgf_wps/__init__.py\", line 30, in execute\n",
      "2023-07-11 16:34:46,316 ERROR       request_facets, request = facets.search(context, request)\n",
      "2023-07-11 16:34:46,316 ERROR     File \"/home/cds/cdsservices/services/esgf_wps/facets.py\", line 61, in search\n",
      "2023-07-11 16:34:46,317 ERROR       raise ValueError(f'No matching data for request {tmp_request}')\n",
      "2023-07-11 16:34:46,318 ERROR   ValueError: No matching data for request {'experiment': 'ssp434', 'model': 'EC-Earth3-Veg-LR', 'temporal_resolution': 'day', 'variable': 'pr'}\n",
      "2023-07-11 16:34:46,351 INFO Welcome to the CDS\n",
      "2023-07-11 16:34:46,352 INFO Sending request to https://cds.climate.copernicus.eu/api/v2/resources/projections-cmip6\n",
      "2023-07-11 16:34:46,423 INFO Request is queued\n"
     ]
    },
    {
     "name": "stdout",
     "output_type": "stream",
     "text": [
      "Some parameters are not matching\n",
      "Test with model fgoals_g3\n",
      "path_for_file does not exist: the data may not have been downloaded\n",
      "file_download does not exist: the data were not downloaded\n"
     ]
    },
    {
     "name": "stderr",
     "output_type": "stream",
     "text": [
      "2023-07-11 16:34:47,467 INFO Request is failed\n",
      "2023-07-11 16:34:47,469 ERROR Message: an internal error occurred processing your request\n",
      "2023-07-11 16:34:47,470 ERROR Reason:  No matching data for request {'experiment': 'ssp434', 'model': 'FGOALS-g3', 'temporal_resolution': 'day', 'variable': 'pr'}\n",
      "2023-07-11 16:34:47,471 ERROR   Traceback (most recent call last):\n",
      "2023-07-11 16:34:47,472 ERROR     File \"/opt/cdstoolbox/cdscompute/cdscompute/cdshandlers/services/handler.py\", line 59, in handle_request\n",
      "2023-07-11 16:34:47,473 ERROR       result = cached(context.method, proc, context, context.args, context.kwargs)\n",
      "2023-07-11 16:34:47,473 ERROR     File \"/opt/cdstoolbox/cdscompute/cdscompute/caching.py\", line 108, in cached\n",
      "2023-07-11 16:34:47,474 ERROR       result = proc(context, *context.args, **context.kwargs)\n",
      "2023-07-11 16:34:47,474 ERROR     File \"/opt/cdstoolbox/cdscompute/cdscompute/services.py\", line 124, in __call__\n",
      "2023-07-11 16:34:47,475 ERROR       return p(*args, **kwargs)\n",
      "2023-07-11 16:34:47,475 ERROR     File \"/opt/cdstoolbox/cdscompute/cdscompute/services.py\", line 60, in __call__\n",
      "2023-07-11 16:34:47,477 ERROR       return self.proc(context, *args, **kwargs)\n",
      "2023-07-11 16:34:47,477 ERROR     File \"/home/cds/cdsservices/services/esgf_wps/__init__.py\", line 30, in execute\n",
      "2023-07-11 16:34:47,478 ERROR       request_facets, request = facets.search(context, request)\n",
      "2023-07-11 16:34:47,478 ERROR     File \"/home/cds/cdsservices/services/esgf_wps/facets.py\", line 61, in search\n",
      "2023-07-11 16:34:47,479 ERROR       raise ValueError(f'No matching data for request {tmp_request}')\n",
      "2023-07-11 16:34:47,480 ERROR   ValueError: No matching data for request {'experiment': 'ssp434', 'model': 'FGOALS-g3', 'temporal_resolution': 'day', 'variable': 'pr'}\n",
      "2023-07-11 16:34:47,512 INFO Welcome to the CDS\n",
      "2023-07-11 16:34:47,512 INFO Sending request to https://cds.climate.copernicus.eu/api/v2/resources/projections-cmip6\n",
      "2023-07-11 16:34:47,569 INFO Request is queued\n"
     ]
    },
    {
     "name": "stdout",
     "output_type": "stream",
     "text": [
      "Some parameters are not matching\n",
      "Test with model gfdl_esm4\n",
      "path_for_file does not exist: the data may not have been downloaded\n",
      "file_download does not exist: the data were not downloaded\n"
     ]
    },
    {
     "name": "stderr",
     "output_type": "stream",
     "text": [
      "2023-07-11 16:34:48,606 INFO Request is failed\n",
      "2023-07-11 16:34:48,607 ERROR Message: an internal error occurred processing your request\n",
      "2023-07-11 16:34:48,608 ERROR Reason:  No matching data for request {'experiment': 'ssp434', 'model': 'GFDL-ESM4', 'temporal_resolution': 'day', 'variable': 'pr'}\n",
      "2023-07-11 16:34:48,608 ERROR   Traceback (most recent call last):\n",
      "2023-07-11 16:34:48,609 ERROR     File \"/opt/cdstoolbox/cdscompute/cdscompute/cdshandlers/services/handler.py\", line 59, in handle_request\n",
      "2023-07-11 16:34:48,609 ERROR       result = cached(context.method, proc, context, context.args, context.kwargs)\n",
      "2023-07-11 16:34:48,611 ERROR     File \"/opt/cdstoolbox/cdscompute/cdscompute/caching.py\", line 108, in cached\n",
      "2023-07-11 16:34:48,611 ERROR       result = proc(context, *context.args, **context.kwargs)\n",
      "2023-07-11 16:34:48,611 ERROR     File \"/opt/cdstoolbox/cdscompute/cdscompute/services.py\", line 124, in __call__\n",
      "2023-07-11 16:34:48,612 ERROR       return p(*args, **kwargs)\n",
      "2023-07-11 16:34:48,613 ERROR     File \"/opt/cdstoolbox/cdscompute/cdscompute/services.py\", line 60, in __call__\n",
      "2023-07-11 16:34:48,614 ERROR       return self.proc(context, *args, **kwargs)\n",
      "2023-07-11 16:34:48,614 ERROR     File \"/home/cds/cdsservices/services/esgf_wps/__init__.py\", line 30, in execute\n",
      "2023-07-11 16:34:48,615 ERROR       request_facets, request = facets.search(context, request)\n",
      "2023-07-11 16:34:48,615 ERROR     File \"/home/cds/cdsservices/services/esgf_wps/facets.py\", line 61, in search\n",
      "2023-07-11 16:34:48,616 ERROR       raise ValueError(f'No matching data for request {tmp_request}')\n",
      "2023-07-11 16:34:48,617 ERROR   ValueError: No matching data for request {'experiment': 'ssp434', 'model': 'GFDL-ESM4', 'temporal_resolution': 'day', 'variable': 'pr'}\n",
      "2023-07-11 16:34:48,648 INFO Welcome to the CDS\n",
      "2023-07-11 16:34:48,649 INFO Sending request to https://cds.climate.copernicus.eu/api/v2/resources/projections-cmip6\n",
      "2023-07-11 16:34:48,705 INFO Request is queued\n"
     ]
    },
    {
     "name": "stdout",
     "output_type": "stream",
     "text": [
      "Some parameters are not matching\n",
      "Test with model giss_e2_1_h\n",
      "path_for_file does not exist: the data may not have been downloaded\n",
      "file_download does not exist: the data were not downloaded\n"
     ]
    },
    {
     "name": "stderr",
     "output_type": "stream",
     "text": [
      "2023-07-11 16:34:49,751 INFO Request is failed\n",
      "2023-07-11 16:34:49,751 ERROR Message: an internal error occurred processing your request\n",
      "2023-07-11 16:34:49,752 ERROR Reason:  No matching data for request {'experiment': 'ssp434', 'model': 'GISS-E2-1-H', 'temporal_resolution': 'day', 'variable': 'pr'}\n",
      "2023-07-11 16:34:49,753 ERROR   Traceback (most recent call last):\n",
      "2023-07-11 16:34:49,753 ERROR     File \"/opt/cdstoolbox/cdscompute/cdscompute/cdshandlers/services/handler.py\", line 59, in handle_request\n",
      "2023-07-11 16:34:49,754 ERROR       result = cached(context.method, proc, context, context.args, context.kwargs)\n",
      "2023-07-11 16:34:49,755 ERROR     File \"/opt/cdstoolbox/cdscompute/cdscompute/caching.py\", line 108, in cached\n",
      "2023-07-11 16:34:49,755 ERROR       result = proc(context, *context.args, **context.kwargs)\n",
      "2023-07-11 16:34:49,757 ERROR     File \"/opt/cdstoolbox/cdscompute/cdscompute/services.py\", line 124, in __call__\n",
      "2023-07-11 16:34:49,757 ERROR       return p(*args, **kwargs)\n",
      "2023-07-11 16:34:49,758 ERROR     File \"/opt/cdstoolbox/cdscompute/cdscompute/services.py\", line 60, in __call__\n",
      "2023-07-11 16:34:49,758 ERROR       return self.proc(context, *args, **kwargs)\n",
      "2023-07-11 16:34:49,758 ERROR     File \"/home/cds/cdsservices/services/esgf_wps/__init__.py\", line 30, in execute\n",
      "2023-07-11 16:34:49,759 ERROR       request_facets, request = facets.search(context, request)\n",
      "2023-07-11 16:34:49,760 ERROR     File \"/home/cds/cdsservices/services/esgf_wps/facets.py\", line 61, in search\n",
      "2023-07-11 16:34:49,761 ERROR       raise ValueError(f'No matching data for request {tmp_request}')\n",
      "2023-07-11 16:34:49,762 ERROR   ValueError: No matching data for request {'experiment': 'ssp434', 'model': 'GISS-E2-1-H', 'temporal_resolution': 'day', 'variable': 'pr'}\n",
      "2023-07-11 16:34:49,799 INFO Welcome to the CDS\n",
      "2023-07-11 16:34:49,799 INFO Sending request to https://cds.climate.copernicus.eu/api/v2/resources/projections-cmip6\n",
      "2023-07-11 16:34:49,872 INFO Request is queued\n"
     ]
    },
    {
     "name": "stdout",
     "output_type": "stream",
     "text": [
      "Some parameters are not matching\n",
      "Test with model hadgem3_gc31_mm\n",
      "path_for_file does not exist: the data may not have been downloaded\n",
      "file_download does not exist: the data were not downloaded\n"
     ]
    },
    {
     "name": "stderr",
     "output_type": "stream",
     "text": [
      "2023-07-11 16:34:50,910 INFO Request is failed\n",
      "2023-07-11 16:34:50,910 ERROR Message: an internal error occurred processing your request\n",
      "2023-07-11 16:34:50,911 ERROR Reason:  No matching data for request {'experiment': 'ssp434', 'model': 'HadGEM3-GC31-MM', 'temporal_resolution': 'day', 'variable': 'pr'}\n",
      "2023-07-11 16:34:50,911 ERROR   Traceback (most recent call last):\n",
      "2023-07-11 16:34:50,913 ERROR     File \"/opt/cdstoolbox/cdscompute/cdscompute/cdshandlers/services/handler.py\", line 59, in handle_request\n",
      "2023-07-11 16:34:50,913 ERROR       result = cached(context.method, proc, context, context.args, context.kwargs)\n",
      "2023-07-11 16:34:50,914 ERROR     File \"/opt/cdstoolbox/cdscompute/cdscompute/caching.py\", line 108, in cached\n",
      "2023-07-11 16:34:50,915 ERROR       result = proc(context, *context.args, **context.kwargs)\n",
      "2023-07-11 16:34:50,915 ERROR     File \"/opt/cdstoolbox/cdscompute/cdscompute/services.py\", line 124, in __call__\n",
      "2023-07-11 16:34:50,917 ERROR       return p(*args, **kwargs)\n",
      "2023-07-11 16:34:50,917 ERROR     File \"/opt/cdstoolbox/cdscompute/cdscompute/services.py\", line 60, in __call__\n",
      "2023-07-11 16:34:50,918 ERROR       return self.proc(context, *args, **kwargs)\n",
      "2023-07-11 16:34:50,919 ERROR     File \"/home/cds/cdsservices/services/esgf_wps/__init__.py\", line 30, in execute\n",
      "2023-07-11 16:34:50,919 ERROR       request_facets, request = facets.search(context, request)\n",
      "2023-07-11 16:34:50,919 ERROR     File \"/home/cds/cdsservices/services/esgf_wps/facets.py\", line 61, in search\n",
      "2023-07-11 16:34:50,920 ERROR       raise ValueError(f'No matching data for request {tmp_request}')\n",
      "2023-07-11 16:34:50,921 ERROR   ValueError: No matching data for request {'experiment': 'ssp434', 'model': 'HadGEM3-GC31-MM', 'temporal_resolution': 'day', 'variable': 'pr'}\n",
      "2023-07-11 16:34:50,952 INFO Welcome to the CDS\n",
      "2023-07-11 16:34:50,953 INFO Sending request to https://cds.climate.copernicus.eu/api/v2/resources/projections-cmip6\n",
      "2023-07-11 16:34:50,993 INFO Request is queued\n"
     ]
    },
    {
     "name": "stdout",
     "output_type": "stream",
     "text": [
      "Some parameters are not matching\n",
      "Test with model inm_cm4_8\n",
      "path_for_file does not exist: the data may not have been downloaded\n",
      "file_download does not exist: the data were not downloaded\n"
     ]
    },
    {
     "name": "stderr",
     "output_type": "stream",
     "text": [
      "2023-07-11 16:34:52,030 INFO Request is failed\n",
      "2023-07-11 16:34:52,030 ERROR Message: an internal error occurred processing your request\n",
      "2023-07-11 16:34:52,032 ERROR Reason:  No matching data for request {'experiment': 'ssp434', 'model': 'INM-CM4-8', 'temporal_resolution': 'day', 'variable': 'pr'}\n",
      "2023-07-11 16:34:52,033 ERROR   Traceback (most recent call last):\n",
      "2023-07-11 16:34:52,034 ERROR     File \"/opt/cdstoolbox/cdscompute/cdscompute/cdshandlers/services/handler.py\", line 59, in handle_request\n",
      "2023-07-11 16:34:52,035 ERROR       result = cached(context.method, proc, context, context.args, context.kwargs)\n",
      "2023-07-11 16:34:52,035 ERROR     File \"/opt/cdstoolbox/cdscompute/cdscompute/caching.py\", line 108, in cached\n",
      "2023-07-11 16:34:52,036 ERROR       result = proc(context, *context.args, **context.kwargs)\n",
      "2023-07-11 16:34:52,036 ERROR     File \"/opt/cdstoolbox/cdscompute/cdscompute/services.py\", line 124, in __call__\n",
      "2023-07-11 16:34:52,037 ERROR       return p(*args, **kwargs)\n",
      "2023-07-11 16:34:52,037 ERROR     File \"/opt/cdstoolbox/cdscompute/cdscompute/services.py\", line 60, in __call__\n",
      "2023-07-11 16:34:52,038 ERROR       return self.proc(context, *args, **kwargs)\n",
      "2023-07-11 16:34:52,038 ERROR     File \"/home/cds/cdsservices/services/esgf_wps/__init__.py\", line 30, in execute\n",
      "2023-07-11 16:34:52,038 ERROR       request_facets, request = facets.search(context, request)\n",
      "2023-07-11 16:34:52,039 ERROR     File \"/home/cds/cdsservices/services/esgf_wps/facets.py\", line 61, in search\n",
      "2023-07-11 16:34:52,039 ERROR       raise ValueError(f'No matching data for request {tmp_request}')\n",
      "2023-07-11 16:34:52,040 ERROR   ValueError: No matching data for request {'experiment': 'ssp434', 'model': 'INM-CM4-8', 'temporal_resolution': 'day', 'variable': 'pr'}\n",
      "2023-07-11 16:34:52,072 INFO Welcome to the CDS\n",
      "2023-07-11 16:34:52,073 INFO Sending request to https://cds.climate.copernicus.eu/api/v2/resources/projections-cmip6\n",
      "2023-07-11 16:34:52,138 INFO Request is queued\n"
     ]
    },
    {
     "name": "stdout",
     "output_type": "stream",
     "text": [
      "Some parameters are not matching\n",
      "Test with model ipsl_cm5a2_inca\n",
      "path_for_file does not exist: the data may not have been downloaded\n",
      "file_download does not exist: the data were not downloaded\n"
     ]
    },
    {
     "name": "stderr",
     "output_type": "stream",
     "text": [
      "2023-07-11 16:34:53,176 INFO Request is failed\n",
      "2023-07-11 16:34:53,178 ERROR Message: an internal error occurred processing your request\n",
      "2023-07-11 16:34:53,178 ERROR Reason:  No matching data for request {'experiment': 'ssp434', 'model': 'IPSL-CM5A2-INCA', 'temporal_resolution': 'day', 'variable': 'pr'}\n",
      "2023-07-11 16:34:53,179 ERROR   Traceback (most recent call last):\n",
      "2023-07-11 16:34:53,179 ERROR     File \"/opt/cdstoolbox/cdscompute/cdscompute/cdshandlers/services/handler.py\", line 59, in handle_request\n",
      "2023-07-11 16:34:53,180 ERROR       result = cached(context.method, proc, context, context.args, context.kwargs)\n",
      "2023-07-11 16:34:53,180 ERROR     File \"/opt/cdstoolbox/cdscompute/cdscompute/caching.py\", line 108, in cached\n",
      "2023-07-11 16:34:53,181 ERROR       result = proc(context, *context.args, **context.kwargs)\n",
      "2023-07-11 16:34:53,182 ERROR     File \"/opt/cdstoolbox/cdscompute/cdscompute/services.py\", line 124, in __call__\n",
      "2023-07-11 16:34:53,183 ERROR       return p(*args, **kwargs)\n",
      "2023-07-11 16:34:53,183 ERROR     File \"/opt/cdstoolbox/cdscompute/cdscompute/services.py\", line 60, in __call__\n",
      "2023-07-11 16:34:53,183 ERROR       return self.proc(context, *args, **kwargs)\n",
      "2023-07-11 16:34:53,184 ERROR     File \"/home/cds/cdsservices/services/esgf_wps/__init__.py\", line 30, in execute\n",
      "2023-07-11 16:34:53,185 ERROR       request_facets, request = facets.search(context, request)\n",
      "2023-07-11 16:34:53,186 ERROR     File \"/home/cds/cdsservices/services/esgf_wps/facets.py\", line 61, in search\n",
      "2023-07-11 16:34:53,186 ERROR       raise ValueError(f'No matching data for request {tmp_request}')\n",
      "2023-07-11 16:34:53,187 ERROR   ValueError: No matching data for request {'experiment': 'ssp434', 'model': 'IPSL-CM5A2-INCA', 'temporal_resolution': 'day', 'variable': 'pr'}\n",
      "2023-07-11 16:34:53,217 INFO Welcome to the CDS\n",
      "2023-07-11 16:34:53,218 INFO Sending request to https://cds.climate.copernicus.eu/api/v2/resources/projections-cmip6\n",
      "2023-07-11 16:34:53,295 INFO Request is queued\n"
     ]
    },
    {
     "name": "stdout",
     "output_type": "stream",
     "text": [
      "Some parameters are not matching\n",
      "Test with model kace_1_0_g\n",
      "path_for_file does not exist: the data may not have been downloaded\n",
      "file_download does not exist: the data were not downloaded\n"
     ]
    },
    {
     "name": "stderr",
     "output_type": "stream",
     "text": [
      "2023-07-11 16:34:54,334 INFO Request is failed\n",
      "2023-07-11 16:34:54,335 ERROR Message: an internal error occurred processing your request\n",
      "2023-07-11 16:34:54,336 ERROR Reason:  No matching data for request {'experiment': 'ssp434', 'model': 'KACE-1-0-G', 'temporal_resolution': 'day', 'variable': 'pr'}\n",
      "2023-07-11 16:34:54,336 ERROR   Traceback (most recent call last):\n",
      "2023-07-11 16:34:54,337 ERROR     File \"/opt/cdstoolbox/cdscompute/cdscompute/cdshandlers/services/handler.py\", line 59, in handle_request\n",
      "2023-07-11 16:34:54,337 ERROR       result = cached(context.method, proc, context, context.args, context.kwargs)\n",
      "2023-07-11 16:34:54,339 ERROR     File \"/opt/cdstoolbox/cdscompute/cdscompute/caching.py\", line 108, in cached\n",
      "2023-07-11 16:34:54,339 ERROR       result = proc(context, *context.args, **context.kwargs)\n",
      "2023-07-11 16:34:54,340 ERROR     File \"/opt/cdstoolbox/cdscompute/cdscompute/services.py\", line 124, in __call__\n",
      "2023-07-11 16:34:54,341 ERROR       return p(*args, **kwargs)\n",
      "2023-07-11 16:34:54,341 ERROR     File \"/opt/cdstoolbox/cdscompute/cdscompute/services.py\", line 60, in __call__\n",
      "2023-07-11 16:34:54,342 ERROR       return self.proc(context, *args, **kwargs)\n",
      "2023-07-11 16:34:54,343 ERROR     File \"/home/cds/cdsservices/services/esgf_wps/__init__.py\", line 30, in execute\n",
      "2023-07-11 16:34:54,343 ERROR       request_facets, request = facets.search(context, request)\n",
      "2023-07-11 16:34:54,344 ERROR     File \"/home/cds/cdsservices/services/esgf_wps/facets.py\", line 61, in search\n",
      "2023-07-11 16:34:54,345 ERROR       raise ValueError(f'No matching data for request {tmp_request}')\n",
      "2023-07-11 16:34:54,346 ERROR   ValueError: No matching data for request {'experiment': 'ssp434', 'model': 'KACE-1-0-G', 'temporal_resolution': 'day', 'variable': 'pr'}\n",
      "2023-07-11 16:34:54,383 INFO Welcome to the CDS\n",
      "2023-07-11 16:34:54,384 INFO Sending request to https://cds.climate.copernicus.eu/api/v2/resources/projections-cmip6\n",
      "2023-07-11 16:34:54,455 INFO Request is queued\n"
     ]
    },
    {
     "name": "stdout",
     "output_type": "stream",
     "text": [
      "Some parameters are not matching\n",
      "Test with model mcm_ua_1_0\n",
      "path_for_file does not exist: the data may not have been downloaded\n",
      "file_download does not exist: the data were not downloaded\n"
     ]
    },
    {
     "name": "stderr",
     "output_type": "stream",
     "text": [
      "2023-07-11 16:34:55,500 INFO Request is failed\n",
      "2023-07-11 16:34:55,501 ERROR Message: an internal error occurred processing your request\n",
      "2023-07-11 16:34:55,501 ERROR Reason:  No matching data for request {'experiment': 'ssp434', 'model': 'MCM-UA-1-0', 'temporal_resolution': 'day', 'variable': 'pr'}\n",
      "2023-07-11 16:34:55,501 ERROR   Traceback (most recent call last):\n",
      "2023-07-11 16:34:55,502 ERROR     File \"/opt/cdstoolbox/cdscompute/cdscompute/cdshandlers/services/handler.py\", line 59, in handle_request\n",
      "2023-07-11 16:34:55,502 ERROR       result = cached(context.method, proc, context, context.args, context.kwargs)\n",
      "2023-07-11 16:34:55,504 ERROR     File \"/opt/cdstoolbox/cdscompute/cdscompute/caching.py\", line 108, in cached\n",
      "2023-07-11 16:34:55,505 ERROR       result = proc(context, *context.args, **context.kwargs)\n",
      "2023-07-11 16:34:55,505 ERROR     File \"/opt/cdstoolbox/cdscompute/cdscompute/services.py\", line 124, in __call__\n",
      "2023-07-11 16:34:55,506 ERROR       return p(*args, **kwargs)\n",
      "2023-07-11 16:34:55,507 ERROR     File \"/opt/cdstoolbox/cdscompute/cdscompute/services.py\", line 60, in __call__\n",
      "2023-07-11 16:34:55,507 ERROR       return self.proc(context, *args, **kwargs)\n",
      "2023-07-11 16:34:55,508 ERROR     File \"/home/cds/cdsservices/services/esgf_wps/__init__.py\", line 30, in execute\n",
      "2023-07-11 16:34:55,508 ERROR       request_facets, request = facets.search(context, request)\n",
      "2023-07-11 16:34:55,508 ERROR     File \"/home/cds/cdsservices/services/esgf_wps/facets.py\", line 61, in search\n",
      "2023-07-11 16:34:55,509 ERROR       raise ValueError(f'No matching data for request {tmp_request}')\n",
      "2023-07-11 16:34:55,509 ERROR   ValueError: No matching data for request {'experiment': 'ssp434', 'model': 'MCM-UA-1-0', 'temporal_resolution': 'day', 'variable': 'pr'}\n",
      "2023-07-11 16:34:55,540 INFO Welcome to the CDS\n",
      "2023-07-11 16:34:55,540 INFO Sending request to https://cds.climate.copernicus.eu/api/v2/resources/projections-cmip6\n",
      "2023-07-11 16:34:55,614 INFO Request is queued\n"
     ]
    },
    {
     "name": "stdout",
     "output_type": "stream",
     "text": [
      "Some parameters are not matching\n",
      "Test with model miroc_es2h\n",
      "path_for_file does not exist: the data may not have been downloaded\n",
      "file_download does not exist: the data were not downloaded\n"
     ]
    },
    {
     "name": "stderr",
     "output_type": "stream",
     "text": [
      "2023-07-11 16:34:56,655 INFO Request is failed\n",
      "2023-07-11 16:34:56,656 ERROR Message: an internal error occurred processing your request\n",
      "2023-07-11 16:34:56,656 ERROR Reason:  No matching data for request {'experiment': 'ssp434', 'model': 'MIROC-ES2H', 'temporal_resolution': 'day', 'variable': 'pr'}\n",
      "2023-07-11 16:34:56,657 ERROR   Traceback (most recent call last):\n",
      "2023-07-11 16:34:56,658 ERROR     File \"/opt/cdstoolbox/cdscompute/cdscompute/cdshandlers/services/handler.py\", line 59, in handle_request\n",
      "2023-07-11 16:34:56,658 ERROR       result = cached(context.method, proc, context, context.args, context.kwargs)\n",
      "2023-07-11 16:34:56,659 ERROR     File \"/opt/cdstoolbox/cdscompute/cdscompute/caching.py\", line 108, in cached\n",
      "2023-07-11 16:34:56,659 ERROR       result = proc(context, *context.args, **context.kwargs)\n",
      "2023-07-11 16:34:56,660 ERROR     File \"/opt/cdstoolbox/cdscompute/cdscompute/services.py\", line 124, in __call__\n",
      "2023-07-11 16:34:56,661 ERROR       return p(*args, **kwargs)\n",
      "2023-07-11 16:34:56,662 ERROR     File \"/opt/cdstoolbox/cdscompute/cdscompute/services.py\", line 60, in __call__\n",
      "2023-07-11 16:34:56,663 ERROR       return self.proc(context, *args, **kwargs)\n",
      "2023-07-11 16:34:56,663 ERROR     File \"/home/cds/cdsservices/services/esgf_wps/__init__.py\", line 30, in execute\n",
      "2023-07-11 16:34:56,664 ERROR       request_facets, request = facets.search(context, request)\n",
      "2023-07-11 16:34:56,665 ERROR     File \"/home/cds/cdsservices/services/esgf_wps/facets.py\", line 61, in search\n",
      "2023-07-11 16:34:56,665 ERROR       raise ValueError(f'No matching data for request {tmp_request}')\n",
      "2023-07-11 16:34:56,667 ERROR   ValueError: No matching data for request {'experiment': 'ssp434', 'model': 'MIROC-ES2H', 'temporal_resolution': 'day', 'variable': 'pr'}\n",
      "2023-07-11 16:34:56,699 INFO Welcome to the CDS\n",
      "2023-07-11 16:34:56,700 INFO Sending request to https://cds.climate.copernicus.eu/api/v2/resources/projections-cmip6\n",
      "2023-07-11 16:34:56,784 INFO Request is queued\n"
     ]
    },
    {
     "name": "stdout",
     "output_type": "stream",
     "text": [
      "Some parameters are not matching\n",
      "Test with model mpi_esm_1_2_ham\n",
      "path_for_file does not exist: the data may not have been downloaded\n",
      "file_download does not exist: the data were not downloaded\n"
     ]
    },
    {
     "name": "stderr",
     "output_type": "stream",
     "text": [
      "2023-07-11 16:34:57,823 INFO Request is failed\n",
      "2023-07-11 16:34:57,824 ERROR Message: an internal error occurred processing your request\n",
      "2023-07-11 16:34:57,824 ERROR Reason:  No matching data for request {'experiment': 'ssp434', 'model': 'MPI-ESM-1-2-HAM', 'temporal_resolution': 'day', 'variable': 'pr'}\n",
      "2023-07-11 16:34:57,825 ERROR   Traceback (most recent call last):\n",
      "2023-07-11 16:34:57,826 ERROR     File \"/opt/cdstoolbox/cdscompute/cdscompute/cdshandlers/services/handler.py\", line 59, in handle_request\n",
      "2023-07-11 16:34:57,826 ERROR       result = cached(context.method, proc, context, context.args, context.kwargs)\n",
      "2023-07-11 16:34:57,828 ERROR     File \"/opt/cdstoolbox/cdscompute/cdscompute/caching.py\", line 108, in cached\n",
      "2023-07-11 16:34:57,828 ERROR       result = proc(context, *context.args, **context.kwargs)\n",
      "2023-07-11 16:34:57,829 ERROR     File \"/opt/cdstoolbox/cdscompute/cdscompute/services.py\", line 124, in __call__\n",
      "2023-07-11 16:34:57,829 ERROR       return p(*args, **kwargs)\n",
      "2023-07-11 16:34:57,830 ERROR     File \"/opt/cdstoolbox/cdscompute/cdscompute/services.py\", line 60, in __call__\n",
      "2023-07-11 16:34:57,830 ERROR       return self.proc(context, *args, **kwargs)\n",
      "2023-07-11 16:34:57,831 ERROR     File \"/home/cds/cdsservices/services/esgf_wps/__init__.py\", line 30, in execute\n",
      "2023-07-11 16:34:57,831 ERROR       request_facets, request = facets.search(context, request)\n",
      "2023-07-11 16:34:57,832 ERROR     File \"/home/cds/cdsservices/services/esgf_wps/facets.py\", line 61, in search\n",
      "2023-07-11 16:34:57,833 ERROR       raise ValueError(f'No matching data for request {tmp_request}')\n",
      "2023-07-11 16:34:57,834 ERROR   ValueError: No matching data for request {'experiment': 'ssp434', 'model': 'MPI-ESM-1-2-HAM', 'temporal_resolution': 'day', 'variable': 'pr'}\n",
      "2023-07-11 16:34:57,878 INFO Welcome to the CDS\n",
      "2023-07-11 16:34:57,879 INFO Sending request to https://cds.climate.copernicus.eu/api/v2/resources/projections-cmip6\n",
      "2023-07-11 16:34:57,956 INFO Request is queued\n"
     ]
    },
    {
     "name": "stdout",
     "output_type": "stream",
     "text": [
      "Some parameters are not matching\n",
      "Test with model mpi_esm1_2_lr\n",
      "path_for_file does not exist: the data may not have been downloaded\n",
      "file_download does not exist: the data were not downloaded\n"
     ]
    },
    {
     "name": "stderr",
     "output_type": "stream",
     "text": [
      "2023-07-11 16:34:59,002 INFO Request is failed\n",
      "2023-07-11 16:34:59,003 ERROR Message: an internal error occurred processing your request\n",
      "2023-07-11 16:34:59,004 ERROR Reason:  No matching data for request {'experiment': 'ssp434', 'model': 'MPI-ESM1-2-LR', 'temporal_resolution': 'day', 'variable': 'pr'}\n",
      "2023-07-11 16:34:59,004 ERROR   Traceback (most recent call last):\n",
      "2023-07-11 16:34:59,005 ERROR     File \"/opt/cdstoolbox/cdscompute/cdscompute/cdshandlers/services/handler.py\", line 59, in handle_request\n",
      "2023-07-11 16:34:59,006 ERROR       result = cached(context.method, proc, context, context.args, context.kwargs)\n",
      "2023-07-11 16:34:59,007 ERROR     File \"/opt/cdstoolbox/cdscompute/cdscompute/caching.py\", line 108, in cached\n",
      "2023-07-11 16:34:59,007 ERROR       result = proc(context, *context.args, **context.kwargs)\n",
      "2023-07-11 16:34:59,008 ERROR     File \"/opt/cdstoolbox/cdscompute/cdscompute/services.py\", line 124, in __call__\n",
      "2023-07-11 16:34:59,009 ERROR       return p(*args, **kwargs)\n",
      "2023-07-11 16:34:59,009 ERROR     File \"/opt/cdstoolbox/cdscompute/cdscompute/services.py\", line 60, in __call__\n",
      "2023-07-11 16:34:59,009 ERROR       return self.proc(context, *args, **kwargs)\n",
      "2023-07-11 16:34:59,010 ERROR     File \"/home/cds/cdsservices/services/esgf_wps/__init__.py\", line 30, in execute\n",
      "2023-07-11 16:34:59,011 ERROR       request_facets, request = facets.search(context, request)\n",
      "2023-07-11 16:34:59,011 ERROR     File \"/home/cds/cdsservices/services/esgf_wps/facets.py\", line 61, in search\n",
      "2023-07-11 16:34:59,011 ERROR       raise ValueError(f'No matching data for request {tmp_request}')\n",
      "2023-07-11 16:34:59,012 ERROR   ValueError: No matching data for request {'experiment': 'ssp434', 'model': 'MPI-ESM1-2-LR', 'temporal_resolution': 'day', 'variable': 'pr'}\n",
      "2023-07-11 16:34:59,044 INFO Welcome to the CDS\n",
      "2023-07-11 16:34:59,045 INFO Sending request to https://cds.climate.copernicus.eu/api/v2/resources/projections-cmip6\n",
      "2023-07-11 16:34:59,082 INFO Request is queued\n"
     ]
    },
    {
     "name": "stdout",
     "output_type": "stream",
     "text": [
      "Some parameters are not matching\n",
      "Test with model nesm3\n",
      "path_for_file does not exist: the data may not have been downloaded\n",
      "file_download does not exist: the data were not downloaded\n"
     ]
    },
    {
     "name": "stderr",
     "output_type": "stream",
     "text": [
      "2023-07-11 16:35:00,128 INFO Request is failed\n",
      "2023-07-11 16:35:00,129 ERROR Message: an internal error occurred processing your request\n",
      "2023-07-11 16:35:00,129 ERROR Reason:  No matching data for request {'experiment': 'ssp434', 'model': 'NESM3', 'temporal_resolution': 'day', 'variable': 'pr'}\n",
      "2023-07-11 16:35:00,130 ERROR   Traceback (most recent call last):\n",
      "2023-07-11 16:35:00,130 ERROR     File \"/opt/cdstoolbox/cdscompute/cdscompute/cdshandlers/services/handler.py\", line 59, in handle_request\n",
      "2023-07-11 16:35:00,132 ERROR       result = cached(context.method, proc, context, context.args, context.kwargs)\n",
      "2023-07-11 16:35:00,132 ERROR     File \"/opt/cdstoolbox/cdscompute/cdscompute/caching.py\", line 108, in cached\n",
      "2023-07-11 16:35:00,133 ERROR       result = proc(context, *context.args, **context.kwargs)\n",
      "2023-07-11 16:35:00,133 ERROR     File \"/opt/cdstoolbox/cdscompute/cdscompute/services.py\", line 124, in __call__\n",
      "2023-07-11 16:35:00,133 ERROR       return p(*args, **kwargs)\n",
      "2023-07-11 16:35:00,135 ERROR     File \"/opt/cdstoolbox/cdscompute/cdscompute/services.py\", line 60, in __call__\n",
      "2023-07-11 16:35:00,135 ERROR       return self.proc(context, *args, **kwargs)\n",
      "2023-07-11 16:35:00,136 ERROR     File \"/home/cds/cdsservices/services/esgf_wps/__init__.py\", line 30, in execute\n",
      "2023-07-11 16:35:00,136 ERROR       request_facets, request = facets.search(context, request)\n",
      "2023-07-11 16:35:00,137 ERROR     File \"/home/cds/cdsservices/services/esgf_wps/facets.py\", line 61, in search\n",
      "2023-07-11 16:35:00,138 ERROR       raise ValueError(f'No matching data for request {tmp_request}')\n",
      "2023-07-11 16:35:00,138 ERROR   ValueError: No matching data for request {'experiment': 'ssp434', 'model': 'NESM3', 'temporal_resolution': 'day', 'variable': 'pr'}\n",
      "2023-07-11 16:35:00,178 INFO Welcome to the CDS\n",
      "2023-07-11 16:35:00,179 INFO Sending request to https://cds.climate.copernicus.eu/api/v2/resources/projections-cmip6\n",
      "2023-07-11 16:35:00,239 INFO Request is queued\n"
     ]
    },
    {
     "name": "stdout",
     "output_type": "stream",
     "text": [
      "Some parameters are not matching\n",
      "Test with model noresm2_lm\n",
      "path_for_file does not exist: the data may not have been downloaded\n",
      "file_download does not exist: the data were not downloaded\n"
     ]
    },
    {
     "name": "stderr",
     "output_type": "stream",
     "text": [
      "2023-07-11 16:35:01,280 INFO Request is failed\n",
      "2023-07-11 16:35:01,280 ERROR Message: an internal error occurred processing your request\n",
      "2023-07-11 16:35:01,281 ERROR Reason:  No matching data for request {'experiment': 'ssp434', 'model': 'NorESM2-LM', 'temporal_resolution': 'day', 'variable': 'pr'}\n",
      "2023-07-11 16:35:01,281 ERROR   Traceback (most recent call last):\n",
      "2023-07-11 16:35:01,281 ERROR     File \"/opt/cdstoolbox/cdscompute/cdscompute/cdshandlers/services/handler.py\", line 59, in handle_request\n",
      "2023-07-11 16:35:01,282 ERROR       result = cached(context.method, proc, context, context.args, context.kwargs)\n",
      "2023-07-11 16:35:01,283 ERROR     File \"/opt/cdstoolbox/cdscompute/cdscompute/caching.py\", line 108, in cached\n",
      "2023-07-11 16:35:01,283 ERROR       result = proc(context, *context.args, **context.kwargs)\n",
      "2023-07-11 16:35:01,285 ERROR     File \"/opt/cdstoolbox/cdscompute/cdscompute/services.py\", line 124, in __call__\n",
      "2023-07-11 16:35:01,285 ERROR       return p(*args, **kwargs)\n",
      "2023-07-11 16:35:01,286 ERROR     File \"/opt/cdstoolbox/cdscompute/cdscompute/services.py\", line 60, in __call__\n",
      "2023-07-11 16:35:01,287 ERROR       return self.proc(context, *args, **kwargs)\n",
      "2023-07-11 16:35:01,288 ERROR     File \"/home/cds/cdsservices/services/esgf_wps/__init__.py\", line 30, in execute\n",
      "2023-07-11 16:35:01,288 ERROR       request_facets, request = facets.search(context, request)\n",
      "2023-07-11 16:35:01,289 ERROR     File \"/home/cds/cdsservices/services/esgf_wps/facets.py\", line 61, in search\n",
      "2023-07-11 16:35:01,289 ERROR       raise ValueError(f'No matching data for request {tmp_request}')\n",
      "2023-07-11 16:35:01,290 ERROR   ValueError: No matching data for request {'experiment': 'ssp434', 'model': 'NorESM2-LM', 'temporal_resolution': 'day', 'variable': 'pr'}\n",
      "2023-07-11 16:35:01,323 INFO Welcome to the CDS\n",
      "2023-07-11 16:35:01,324 INFO Sending request to https://cds.climate.copernicus.eu/api/v2/resources/projections-cmip6\n",
      "2023-07-11 16:35:01,368 INFO Request is queued\n"
     ]
    },
    {
     "name": "stdout",
     "output_type": "stream",
     "text": [
      "Some parameters are not matching\n",
      "Test with model sam0_unicon\n",
      "path_for_file does not exist: the data may not have been downloaded\n",
      "file_download does not exist: the data were not downloaded\n"
     ]
    },
    {
     "name": "stderr",
     "output_type": "stream",
     "text": [
      "2023-07-11 16:35:02,423 INFO Request is failed\n",
      "2023-07-11 16:35:02,425 ERROR Message: an internal error occurred processing your request\n",
      "2023-07-11 16:35:02,426 ERROR Reason:  No matching data for request {'experiment': 'ssp434', 'model': 'SAM0-UNICON', 'temporal_resolution': 'day', 'variable': 'pr'}\n",
      "2023-07-11 16:35:02,426 ERROR   Traceback (most recent call last):\n",
      "2023-07-11 16:35:02,427 ERROR     File \"/opt/cdstoolbox/cdscompute/cdscompute/cdshandlers/services/handler.py\", line 59, in handle_request\n",
      "2023-07-11 16:35:02,427 ERROR       result = cached(context.method, proc, context, context.args, context.kwargs)\n",
      "2023-07-11 16:35:02,428 ERROR     File \"/opt/cdstoolbox/cdscompute/cdscompute/caching.py\", line 108, in cached\n",
      "2023-07-11 16:35:02,428 ERROR       result = proc(context, *context.args, **context.kwargs)\n",
      "2023-07-11 16:35:02,429 ERROR     File \"/opt/cdstoolbox/cdscompute/cdscompute/services.py\", line 124, in __call__\n",
      "2023-07-11 16:35:02,429 ERROR       return p(*args, **kwargs)\n",
      "2023-07-11 16:35:02,430 ERROR     File \"/opt/cdstoolbox/cdscompute/cdscompute/services.py\", line 60, in __call__\n",
      "2023-07-11 16:35:02,430 ERROR       return self.proc(context, *args, **kwargs)\n",
      "2023-07-11 16:35:02,430 ERROR     File \"/home/cds/cdsservices/services/esgf_wps/__init__.py\", line 30, in execute\n",
      "2023-07-11 16:35:02,432 ERROR       request_facets, request = facets.search(context, request)\n",
      "2023-07-11 16:35:02,433 ERROR     File \"/home/cds/cdsservices/services/esgf_wps/facets.py\", line 61, in search\n",
      "2023-07-11 16:35:02,433 ERROR       raise ValueError(f'No matching data for request {tmp_request}')\n",
      "2023-07-11 16:35:02,435 ERROR   ValueError: No matching data for request {'experiment': 'ssp434', 'model': 'SAM0-UNICON', 'temporal_resolution': 'day', 'variable': 'pr'}\n",
      "2023-07-11 16:35:02,465 INFO Welcome to the CDS\n",
      "2023-07-11 16:35:02,466 INFO Sending request to https://cds.climate.copernicus.eu/api/v2/resources/projections-cmip6\n",
      "2023-07-11 16:35:02,529 INFO Request is queued\n"
     ]
    },
    {
     "name": "stdout",
     "output_type": "stream",
     "text": [
      "Some parameters are not matching\n",
      "Test with model ukesm1_0_ll\n",
      "path_for_file does not exist: the data may not have been downloaded\n",
      "file_download does not exist: the data were not downloaded\n"
     ]
    },
    {
     "name": "stderr",
     "output_type": "stream",
     "text": [
      "2023-07-11 16:35:03,569 INFO Request is running\n",
      "2023-07-11 16:36:17,777 INFO Request is failed\n",
      "2023-07-11 16:36:17,777 ERROR Message: an internal error occurred processing your request\n",
      "2023-07-11 16:36:17,778 ERROR Reason:  Process error: Sorry, process failed. Please check server error log.\n",
      "2023-07-11 16:36:17,779 ERROR   Traceback (most recent call last):\n",
      "2023-07-11 16:36:17,779 ERROR     File \"/usr/local/lib/python3.6/site-packages/rooki/results.py\", line 33, in url\n",
      "2023-07-11 16:36:17,780 ERROR       return self.response.get()[0]\n",
      "2023-07-11 16:36:17,781 ERROR     File \"/usr/local/lib/python3.6/site-packages/birdy/client/outputs.py\", line 40, in get\n",
      "2023-07-11 16:36:17,781 ERROR       raise ProcessFailed(\"Sorry, process failed.\")\n",
      "2023-07-11 16:36:17,781 ERROR   birdy.exceptions.ProcessFailed: Sorry, process failed.\n",
      "2023-07-11 16:36:17,815 INFO Welcome to the CDS\n",
      "2023-07-11 16:36:17,816 INFO Sending request to https://cds.climate.copernicus.eu/api/v2/resources/projections-cmip6\n",
      "2023-07-11 16:36:17,868 INFO Request is queued\n"
     ]
    },
    {
     "name": "stdout",
     "output_type": "stream",
     "text": [
      "Some parameters are not matching\n",
      "Test with scenario ssp5_3_4os\n",
      "Test with model access_cm2\n",
      "path_for_file does not exist: the data may not have been downloaded\n",
      "file_download does not exist: the data were not downloaded\n"
     ]
    },
    {
     "name": "stderr",
     "output_type": "stream",
     "text": [
      "2023-07-11 16:36:18,910 INFO Request is failed\n",
      "2023-07-11 16:36:18,910 ERROR Message: an internal error occurred processing your request\n",
      "2023-07-11 16:36:18,911 ERROR Reason:  No matching data for request {'experiment': 'ssp534-over', 'model': 'ACCESS-CM2', 'temporal_resolution': 'day', 'variable': 'pr'}\n",
      "2023-07-11 16:36:18,911 ERROR   Traceback (most recent call last):\n",
      "2023-07-11 16:36:18,912 ERROR     File \"/opt/cdstoolbox/cdscompute/cdscompute/cdshandlers/services/handler.py\", line 59, in handle_request\n",
      "2023-07-11 16:36:18,912 ERROR       result = cached(context.method, proc, context, context.args, context.kwargs)\n",
      "2023-07-11 16:36:18,913 ERROR     File \"/opt/cdstoolbox/cdscompute/cdscompute/caching.py\", line 108, in cached\n",
      "2023-07-11 16:36:18,913 ERROR       result = proc(context, *context.args, **context.kwargs)\n",
      "2023-07-11 16:36:18,914 ERROR     File \"/opt/cdstoolbox/cdscompute/cdscompute/services.py\", line 124, in __call__\n",
      "2023-07-11 16:36:18,914 ERROR       return p(*args, **kwargs)\n",
      "2023-07-11 16:36:18,915 ERROR     File \"/opt/cdstoolbox/cdscompute/cdscompute/services.py\", line 60, in __call__\n",
      "2023-07-11 16:36:18,916 ERROR       return self.proc(context, *args, **kwargs)\n",
      "2023-07-11 16:36:18,916 ERROR     File \"/home/cds/cdsservices/services/esgf_wps/__init__.py\", line 30, in execute\n",
      "2023-07-11 16:36:18,917 ERROR       request_facets, request = facets.search(context, request)\n",
      "2023-07-11 16:36:18,917 ERROR     File \"/home/cds/cdsservices/services/esgf_wps/facets.py\", line 61, in search\n",
      "2023-07-11 16:36:18,919 ERROR       raise ValueError(f'No matching data for request {tmp_request}')\n",
      "2023-07-11 16:36:18,919 ERROR   ValueError: No matching data for request {'experiment': 'ssp534-over', 'model': 'ACCESS-CM2', 'temporal_resolution': 'day', 'variable': 'pr'}\n",
      "2023-07-11 16:36:18,959 INFO Welcome to the CDS\n",
      "2023-07-11 16:36:18,960 INFO Sending request to https://cds.climate.copernicus.eu/api/v2/resources/projections-cmip6\n",
      "2023-07-11 16:36:19,015 INFO Request is queued\n"
     ]
    },
    {
     "name": "stdout",
     "output_type": "stream",
     "text": [
      "Some parameters are not matching\n",
      "Test with model awi_cm_1_1_mr\n",
      "path_for_file does not exist: the data may not have been downloaded\n",
      "file_download does not exist: the data were not downloaded\n"
     ]
    },
    {
     "name": "stderr",
     "output_type": "stream",
     "text": [
      "2023-07-11 16:36:20,062 INFO Request is failed\n",
      "2023-07-11 16:36:20,063 ERROR Message: an internal error occurred processing your request\n",
      "2023-07-11 16:36:20,063 ERROR Reason:  No matching data for request {'experiment': 'ssp534-over', 'model': 'AWI-CM-1-1-MR', 'temporal_resolution': 'day', 'variable': 'pr'}\n",
      "2023-07-11 16:36:20,064 ERROR   Traceback (most recent call last):\n",
      "2023-07-11 16:36:20,064 ERROR     File \"/opt/cdstoolbox/cdscompute/cdscompute/cdshandlers/services/handler.py\", line 59, in handle_request\n",
      "2023-07-11 16:36:20,064 ERROR       result = cached(context.method, proc, context, context.args, context.kwargs)\n",
      "2023-07-11 16:36:20,065 ERROR     File \"/opt/cdstoolbox/cdscompute/cdscompute/caching.py\", line 108, in cached\n",
      "2023-07-11 16:36:20,065 ERROR       result = proc(context, *context.args, **context.kwargs)\n",
      "2023-07-11 16:36:20,065 ERROR     File \"/opt/cdstoolbox/cdscompute/cdscompute/services.py\", line 124, in __call__\n",
      "2023-07-11 16:36:20,066 ERROR       return p(*args, **kwargs)\n",
      "2023-07-11 16:36:20,068 ERROR     File \"/opt/cdstoolbox/cdscompute/cdscompute/services.py\", line 60, in __call__\n",
      "2023-07-11 16:36:20,069 ERROR       return self.proc(context, *args, **kwargs)\n",
      "2023-07-11 16:36:20,071 ERROR     File \"/home/cds/cdsservices/services/esgf_wps/__init__.py\", line 30, in execute\n",
      "2023-07-11 16:36:20,072 ERROR       request_facets, request = facets.search(context, request)\n",
      "2023-07-11 16:36:20,073 ERROR     File \"/home/cds/cdsservices/services/esgf_wps/facets.py\", line 61, in search\n",
      "2023-07-11 16:36:20,074 ERROR       raise ValueError(f'No matching data for request {tmp_request}')\n",
      "2023-07-11 16:36:20,075 ERROR   ValueError: No matching data for request {'experiment': 'ssp534-over', 'model': 'AWI-CM-1-1-MR', 'temporal_resolution': 'day', 'variable': 'pr'}\n",
      "2023-07-11 16:36:20,108 INFO Welcome to the CDS\n",
      "2023-07-11 16:36:20,109 INFO Sending request to https://cds.climate.copernicus.eu/api/v2/resources/projections-cmip6\n",
      "2023-07-11 16:36:20,160 INFO Request is queued\n"
     ]
    },
    {
     "name": "stdout",
     "output_type": "stream",
     "text": [
      "Some parameters are not matching\n",
      "Test with model bcc_csm2_mr\n",
      "path_for_file does not exist: the data may not have been downloaded\n",
      "file_download does not exist: the data were not downloaded\n"
     ]
    },
    {
     "name": "stderr",
     "output_type": "stream",
     "text": [
      "2023-07-11 16:36:21,197 INFO Request is failed\n",
      "2023-07-11 16:36:21,198 ERROR Message: an internal error occurred processing your request\n",
      "2023-07-11 16:36:21,199 ERROR Reason:  No matching data for request {'experiment': 'ssp534-over', 'model': 'BCC-CSM2-MR', 'temporal_resolution': 'day', 'variable': 'pr'}\n",
      "2023-07-11 16:36:21,199 ERROR   Traceback (most recent call last):\n",
      "2023-07-11 16:36:21,200 ERROR     File \"/opt/cdstoolbox/cdscompute/cdscompute/cdshandlers/services/handler.py\", line 59, in handle_request\n",
      "2023-07-11 16:36:21,200 ERROR       result = cached(context.method, proc, context, context.args, context.kwargs)\n",
      "2023-07-11 16:36:21,201 ERROR     File \"/opt/cdstoolbox/cdscompute/cdscompute/caching.py\", line 108, in cached\n",
      "2023-07-11 16:36:21,202 ERROR       result = proc(context, *context.args, **context.kwargs)\n",
      "2023-07-11 16:36:21,202 ERROR     File \"/opt/cdstoolbox/cdscompute/cdscompute/services.py\", line 124, in __call__\n",
      "2023-07-11 16:36:21,203 ERROR       return p(*args, **kwargs)\n",
      "2023-07-11 16:36:21,203 ERROR     File \"/opt/cdstoolbox/cdscompute/cdscompute/services.py\", line 60, in __call__\n",
      "2023-07-11 16:36:21,204 ERROR       return self.proc(context, *args, **kwargs)\n",
      "2023-07-11 16:36:21,205 ERROR     File \"/home/cds/cdsservices/services/esgf_wps/__init__.py\", line 30, in execute\n",
      "2023-07-11 16:36:21,205 ERROR       request_facets, request = facets.search(context, request)\n",
      "2023-07-11 16:36:21,206 ERROR     File \"/home/cds/cdsservices/services/esgf_wps/facets.py\", line 61, in search\n",
      "2023-07-11 16:36:21,206 ERROR       raise ValueError(f'No matching data for request {tmp_request}')\n",
      "2023-07-11 16:36:21,207 ERROR   ValueError: No matching data for request {'experiment': 'ssp534-over', 'model': 'BCC-CSM2-MR', 'temporal_resolution': 'day', 'variable': 'pr'}\n",
      "2023-07-11 16:36:21,239 INFO Welcome to the CDS\n",
      "2023-07-11 16:36:21,239 INFO Sending request to https://cds.climate.copernicus.eu/api/v2/resources/projections-cmip6\n",
      "2023-07-11 16:36:21,319 INFO Request is queued\n"
     ]
    },
    {
     "name": "stdout",
     "output_type": "stream",
     "text": [
      "Some parameters are not matching\n",
      "Test with model cams_csm1_0\n",
      "path_for_file does not exist: the data may not have been downloaded\n",
      "file_download does not exist: the data were not downloaded\n"
     ]
    },
    {
     "name": "stderr",
     "output_type": "stream",
     "text": [
      "2023-07-11 16:36:22,364 INFO Request is failed\n",
      "2023-07-11 16:36:22,365 ERROR Message: an internal error occurred processing your request\n",
      "2023-07-11 16:36:22,366 ERROR Reason:  No matching data for request {'experiment': 'ssp534-over', 'model': 'CAMS-CSM1-0', 'temporal_resolution': 'day', 'variable': 'pr'}\n",
      "2023-07-11 16:36:22,367 ERROR   Traceback (most recent call last):\n",
      "2023-07-11 16:36:22,367 ERROR     File \"/opt/cdstoolbox/cdscompute/cdscompute/cdshandlers/services/handler.py\", line 59, in handle_request\n",
      "2023-07-11 16:36:22,367 ERROR       result = cached(context.method, proc, context, context.args, context.kwargs)\n",
      "2023-07-11 16:36:22,368 ERROR     File \"/opt/cdstoolbox/cdscompute/cdscompute/caching.py\", line 108, in cached\n",
      "2023-07-11 16:36:22,368 ERROR       result = proc(context, *context.args, **context.kwargs)\n",
      "2023-07-11 16:36:22,369 ERROR     File \"/opt/cdstoolbox/cdscompute/cdscompute/services.py\", line 124, in __call__\n",
      "2023-07-11 16:36:22,370 ERROR       return p(*args, **kwargs)\n",
      "2023-07-11 16:36:22,370 ERROR     File \"/opt/cdstoolbox/cdscompute/cdscompute/services.py\", line 60, in __call__\n",
      "2023-07-11 16:36:22,371 ERROR       return self.proc(context, *args, **kwargs)\n",
      "2023-07-11 16:36:22,371 ERROR     File \"/home/cds/cdsservices/services/esgf_wps/__init__.py\", line 30, in execute\n",
      "2023-07-11 16:36:22,371 ERROR       request_facets, request = facets.search(context, request)\n",
      "2023-07-11 16:36:22,372 ERROR     File \"/home/cds/cdsservices/services/esgf_wps/facets.py\", line 61, in search\n",
      "2023-07-11 16:36:22,372 ERROR       raise ValueError(f'No matching data for request {tmp_request}')\n",
      "2023-07-11 16:36:22,373 ERROR   ValueError: No matching data for request {'experiment': 'ssp534-over', 'model': 'CAMS-CSM1-0', 'temporal_resolution': 'day', 'variable': 'pr'}\n",
      "2023-07-11 16:36:22,410 INFO Welcome to the CDS\n",
      "2023-07-11 16:36:22,410 INFO Sending request to https://cds.climate.copernicus.eu/api/v2/resources/projections-cmip6\n",
      "2023-07-11 16:36:22,477 INFO Request is queued\n"
     ]
    },
    {
     "name": "stdout",
     "output_type": "stream",
     "text": [
      "Some parameters are not matching\n",
      "Test with model canesm5_canoe\n",
      "path_for_file does not exist: the data may not have been downloaded\n",
      "file_download does not exist: the data were not downloaded\n"
     ]
    },
    {
     "name": "stderr",
     "output_type": "stream",
     "text": [
      "2023-07-11 16:36:23,521 INFO Request is failed\n",
      "2023-07-11 16:36:23,522 ERROR Message: an internal error occurred processing your request\n",
      "2023-07-11 16:36:23,523 ERROR Reason:  No matching data for request {'experiment': 'ssp534-over', 'model': 'CanESM5-CanOE', 'temporal_resolution': 'day', 'variable': 'pr'}\n",
      "2023-07-11 16:36:23,524 ERROR   Traceback (most recent call last):\n",
      "2023-07-11 16:36:23,525 ERROR     File \"/opt/cdstoolbox/cdscompute/cdscompute/cdshandlers/services/handler.py\", line 59, in handle_request\n",
      "2023-07-11 16:36:23,525 ERROR       result = cached(context.method, proc, context, context.args, context.kwargs)\n",
      "2023-07-11 16:36:23,526 ERROR     File \"/opt/cdstoolbox/cdscompute/cdscompute/caching.py\", line 108, in cached\n",
      "2023-07-11 16:36:23,527 ERROR       result = proc(context, *context.args, **context.kwargs)\n",
      "2023-07-11 16:36:23,527 ERROR     File \"/opt/cdstoolbox/cdscompute/cdscompute/services.py\", line 124, in __call__\n",
      "2023-07-11 16:36:23,527 ERROR       return p(*args, **kwargs)\n",
      "2023-07-11 16:36:23,528 ERROR     File \"/opt/cdstoolbox/cdscompute/cdscompute/services.py\", line 60, in __call__\n",
      "2023-07-11 16:36:23,529 ERROR       return self.proc(context, *args, **kwargs)\n",
      "2023-07-11 16:36:23,530 ERROR     File \"/home/cds/cdsservices/services/esgf_wps/__init__.py\", line 30, in execute\n",
      "2023-07-11 16:36:23,534 ERROR       request_facets, request = facets.search(context, request)\n",
      "2023-07-11 16:36:23,536 ERROR     File \"/home/cds/cdsservices/services/esgf_wps/facets.py\", line 61, in search\n",
      "2023-07-11 16:36:23,537 ERROR       raise ValueError(f'No matching data for request {tmp_request}')\n",
      "2023-07-11 16:36:23,538 ERROR   ValueError: No matching data for request {'experiment': 'ssp534-over', 'model': 'CanESM5-CanOE', 'temporal_resolution': 'day', 'variable': 'pr'}\n",
      "2023-07-11 16:36:23,576 INFO Welcome to the CDS\n",
      "2023-07-11 16:36:23,581 INFO Sending request to https://cds.climate.copernicus.eu/api/v2/resources/projections-cmip6\n",
      "2023-07-11 16:36:23,640 INFO Request is queued\n"
     ]
    },
    {
     "name": "stdout",
     "output_type": "stream",
     "text": [
      "Some parameters are not matching\n",
      "Test with model cesm2_fv2\n",
      "path_for_file does not exist: the data may not have been downloaded\n",
      "file_download does not exist: the data were not downloaded\n"
     ]
    },
    {
     "name": "stderr",
     "output_type": "stream",
     "text": [
      "2023-07-11 16:36:24,681 INFO Request is failed\n",
      "2023-07-11 16:36:24,683 ERROR Message: an internal error occurred processing your request\n",
      "2023-07-11 16:36:24,684 ERROR Reason:  No matching data for request {'experiment': 'ssp534-over', 'model': 'CESM2-FV2', 'temporal_resolution': 'day', 'variable': 'pr'}\n",
      "2023-07-11 16:36:24,684 ERROR   Traceback (most recent call last):\n",
      "2023-07-11 16:36:24,685 ERROR     File \"/opt/cdstoolbox/cdscompute/cdscompute/cdshandlers/services/handler.py\", line 59, in handle_request\n",
      "2023-07-11 16:36:24,686 ERROR       result = cached(context.method, proc, context, context.args, context.kwargs)\n",
      "2023-07-11 16:36:24,686 ERROR     File \"/opt/cdstoolbox/cdscompute/cdscompute/caching.py\", line 108, in cached\n",
      "2023-07-11 16:36:24,687 ERROR       result = proc(context, *context.args, **context.kwargs)\n",
      "2023-07-11 16:36:24,687 ERROR     File \"/opt/cdstoolbox/cdscompute/cdscompute/services.py\", line 124, in __call__\n",
      "2023-07-11 16:36:24,688 ERROR       return p(*args, **kwargs)\n",
      "2023-07-11 16:36:24,689 ERROR     File \"/opt/cdstoolbox/cdscompute/cdscompute/services.py\", line 60, in __call__\n",
      "2023-07-11 16:36:24,690 ERROR       return self.proc(context, *args, **kwargs)\n",
      "2023-07-11 16:36:24,691 ERROR     File \"/home/cds/cdsservices/services/esgf_wps/__init__.py\", line 30, in execute\n",
      "2023-07-11 16:36:24,691 ERROR       request_facets, request = facets.search(context, request)\n",
      "2023-07-11 16:36:24,692 ERROR     File \"/home/cds/cdsservices/services/esgf_wps/facets.py\", line 61, in search\n",
      "2023-07-11 16:36:24,692 ERROR       raise ValueError(f'No matching data for request {tmp_request}')\n",
      "2023-07-11 16:36:24,694 ERROR   ValueError: No matching data for request {'experiment': 'ssp534-over', 'model': 'CESM2-FV2', 'temporal_resolution': 'day', 'variable': 'pr'}\n",
      "2023-07-11 16:36:24,742 INFO Welcome to the CDS\n",
      "2023-07-11 16:36:24,742 INFO Sending request to https://cds.climate.copernicus.eu/api/v2/resources/projections-cmip6\n",
      "2023-07-11 16:36:24,816 INFO Request is queued\n"
     ]
    },
    {
     "name": "stdout",
     "output_type": "stream",
     "text": [
      "Some parameters are not matching\n",
      "Test with model cesm2_waccm_fv2\n",
      "path_for_file does not exist: the data may not have been downloaded\n",
      "file_download does not exist: the data were not downloaded\n"
     ]
    },
    {
     "name": "stderr",
     "output_type": "stream",
     "text": [
      "2023-07-11 16:36:25,849 INFO Request is failed\n",
      "2023-07-11 16:36:25,850 ERROR Message: an internal error occurred processing your request\n",
      "2023-07-11 16:36:25,851 ERROR Reason:  No matching data for request {'experiment': 'ssp534-over', 'model': 'CESM2-WACCM-FV2', 'temporal_resolution': 'day', 'variable': 'pr'}\n",
      "2023-07-11 16:36:25,851 ERROR   Traceback (most recent call last):\n",
      "2023-07-11 16:36:25,851 ERROR     File \"/opt/cdstoolbox/cdscompute/cdscompute/cdshandlers/services/handler.py\", line 59, in handle_request\n",
      "2023-07-11 16:36:25,852 ERROR       result = cached(context.method, proc, context, context.args, context.kwargs)\n",
      "2023-07-11 16:36:25,852 ERROR     File \"/opt/cdstoolbox/cdscompute/cdscompute/caching.py\", line 108, in cached\n",
      "2023-07-11 16:36:25,853 ERROR       result = proc(context, *context.args, **context.kwargs)\n",
      "2023-07-11 16:36:25,854 ERROR     File \"/opt/cdstoolbox/cdscompute/cdscompute/services.py\", line 124, in __call__\n",
      "2023-07-11 16:36:25,854 ERROR       return p(*args, **kwargs)\n",
      "2023-07-11 16:36:25,855 ERROR     File \"/opt/cdstoolbox/cdscompute/cdscompute/services.py\", line 60, in __call__\n",
      "2023-07-11 16:36:25,856 ERROR       return self.proc(context, *args, **kwargs)\n",
      "2023-07-11 16:36:25,857 ERROR     File \"/home/cds/cdsservices/services/esgf_wps/__init__.py\", line 30, in execute\n",
      "2023-07-11 16:36:25,857 ERROR       request_facets, request = facets.search(context, request)\n",
      "2023-07-11 16:36:25,859 ERROR     File \"/home/cds/cdsservices/services/esgf_wps/facets.py\", line 61, in search\n",
      "2023-07-11 16:36:25,860 ERROR       raise ValueError(f'No matching data for request {tmp_request}')\n",
      "2023-07-11 16:36:25,860 ERROR   ValueError: No matching data for request {'experiment': 'ssp534-over', 'model': 'CESM2-WACCM-FV2', 'temporal_resolution': 'day', 'variable': 'pr'}\n",
      "2023-07-11 16:36:25,892 INFO Welcome to the CDS\n",
      "2023-07-11 16:36:25,893 INFO Sending request to https://cds.climate.copernicus.eu/api/v2/resources/projections-cmip6\n",
      "2023-07-11 16:36:25,993 INFO Request is queued\n"
     ]
    },
    {
     "name": "stdout",
     "output_type": "stream",
     "text": [
      "Some parameters are not matching\n",
      "Test with model cmcc_cm2_hr4\n",
      "path_for_file does not exist: the data may not have been downloaded\n",
      "file_download does not exist: the data were not downloaded\n"
     ]
    },
    {
     "name": "stderr",
     "output_type": "stream",
     "text": [
      "2023-07-11 16:36:27,033 INFO Request is failed\n",
      "2023-07-11 16:36:27,034 ERROR Message: an internal error occurred processing your request\n",
      "2023-07-11 16:36:27,035 ERROR Reason:  No matching data for request {'experiment': 'ssp534-over', 'model': 'CMCC-CM2-HR4', 'temporal_resolution': 'day', 'variable': 'pr'}\n",
      "2023-07-11 16:36:27,036 ERROR   Traceback (most recent call last):\n",
      "2023-07-11 16:36:27,036 ERROR     File \"/opt/cdstoolbox/cdscompute/cdscompute/cdshandlers/services/handler.py\", line 59, in handle_request\n",
      "2023-07-11 16:36:27,037 ERROR       result = cached(context.method, proc, context, context.args, context.kwargs)\n",
      "2023-07-11 16:36:27,037 ERROR     File \"/opt/cdstoolbox/cdscompute/cdscompute/caching.py\", line 108, in cached\n",
      "2023-07-11 16:36:27,038 ERROR       result = proc(context, *context.args, **context.kwargs)\n",
      "2023-07-11 16:36:27,039 ERROR     File \"/opt/cdstoolbox/cdscompute/cdscompute/services.py\", line 124, in __call__\n",
      "2023-07-11 16:36:27,039 ERROR       return p(*args, **kwargs)\n",
      "2023-07-11 16:36:27,040 ERROR     File \"/opt/cdstoolbox/cdscompute/cdscompute/services.py\", line 60, in __call__\n",
      "2023-07-11 16:36:27,040 ERROR       return self.proc(context, *args, **kwargs)\n",
      "2023-07-11 16:36:27,040 ERROR     File \"/home/cds/cdsservices/services/esgf_wps/__init__.py\", line 30, in execute\n",
      "2023-07-11 16:36:27,041 ERROR       request_facets, request = facets.search(context, request)\n",
      "2023-07-11 16:36:27,041 ERROR     File \"/home/cds/cdsservices/services/esgf_wps/facets.py\", line 61, in search\n",
      "2023-07-11 16:36:27,041 ERROR       raise ValueError(f'No matching data for request {tmp_request}')\n",
      "2023-07-11 16:36:27,041 ERROR   ValueError: No matching data for request {'experiment': 'ssp534-over', 'model': 'CMCC-CM2-HR4', 'temporal_resolution': 'day', 'variable': 'pr'}\n",
      "2023-07-11 16:36:27,073 INFO Welcome to the CDS\n",
      "2023-07-11 16:36:27,074 INFO Sending request to https://cds.climate.copernicus.eu/api/v2/resources/projections-cmip6\n",
      "2023-07-11 16:36:27,149 INFO Request is queued\n"
     ]
    },
    {
     "name": "stdout",
     "output_type": "stream",
     "text": [
      "Some parameters are not matching\n",
      "Test with model cmcc_esm2\n",
      "path_for_file does not exist: the data may not have been downloaded\n",
      "file_download does not exist: the data were not downloaded\n"
     ]
    },
    {
     "name": "stderr",
     "output_type": "stream",
     "text": [
      "2023-07-11 16:36:28,186 INFO Request is failed\n",
      "2023-07-11 16:36:28,187 ERROR Message: an internal error occurred processing your request\n",
      "2023-07-11 16:36:28,187 ERROR Reason:  No matching data for request {'experiment': 'ssp534-over', 'model': 'CMCC-ESM2', 'temporal_resolution': 'day', 'variable': 'pr'}\n",
      "2023-07-11 16:36:28,188 ERROR   Traceback (most recent call last):\n",
      "2023-07-11 16:36:28,189 ERROR     File \"/opt/cdstoolbox/cdscompute/cdscompute/cdshandlers/services/handler.py\", line 59, in handle_request\n",
      "2023-07-11 16:36:28,190 ERROR       result = cached(context.method, proc, context, context.args, context.kwargs)\n",
      "2023-07-11 16:36:28,190 ERROR     File \"/opt/cdstoolbox/cdscompute/cdscompute/caching.py\", line 108, in cached\n",
      "2023-07-11 16:36:28,191 ERROR       result = proc(context, *context.args, **context.kwargs)\n",
      "2023-07-11 16:36:28,191 ERROR     File \"/opt/cdstoolbox/cdscompute/cdscompute/services.py\", line 124, in __call__\n",
      "2023-07-11 16:36:28,191 ERROR       return p(*args, **kwargs)\n",
      "2023-07-11 16:36:28,192 ERROR     File \"/opt/cdstoolbox/cdscompute/cdscompute/services.py\", line 60, in __call__\n",
      "2023-07-11 16:36:28,194 ERROR       return self.proc(context, *args, **kwargs)\n",
      "2023-07-11 16:36:28,195 ERROR     File \"/home/cds/cdsservices/services/esgf_wps/__init__.py\", line 30, in execute\n",
      "2023-07-11 16:36:28,195 ERROR       request_facets, request = facets.search(context, request)\n",
      "2023-07-11 16:36:28,196 ERROR     File \"/home/cds/cdsservices/services/esgf_wps/facets.py\", line 61, in search\n",
      "2023-07-11 16:36:28,197 ERROR       raise ValueError(f'No matching data for request {tmp_request}')\n",
      "2023-07-11 16:36:28,198 ERROR   ValueError: No matching data for request {'experiment': 'ssp534-over', 'model': 'CMCC-ESM2', 'temporal_resolution': 'day', 'variable': 'pr'}\n",
      "2023-07-11 16:36:28,229 INFO Welcome to the CDS\n",
      "2023-07-11 16:36:28,231 INFO Sending request to https://cds.climate.copernicus.eu/api/v2/resources/projections-cmip6\n",
      "2023-07-11 16:36:28,268 INFO Request is queued\n"
     ]
    },
    {
     "name": "stdout",
     "output_type": "stream",
     "text": [
      "Some parameters are not matching\n",
      "Test with model cnrm_cm6_1_hr\n",
      "path_for_file does not exist: the data may not have been downloaded\n",
      "file_download does not exist: the data were not downloaded\n"
     ]
    },
    {
     "name": "stderr",
     "output_type": "stream",
     "text": [
      "2023-07-11 16:36:29,306 INFO Request is failed\n",
      "2023-07-11 16:36:29,307 ERROR Message: an internal error occurred processing your request\n",
      "2023-07-11 16:36:29,307 ERROR Reason:  No matching data for request {'experiment': 'ssp534-over', 'model': 'CNRM-CM6-1-HR', 'temporal_resolution': 'day', 'variable': 'pr'}\n",
      "2023-07-11 16:36:29,308 ERROR   Traceback (most recent call last):\n",
      "2023-07-11 16:36:29,308 ERROR     File \"/opt/cdstoolbox/cdscompute/cdscompute/cdshandlers/services/handler.py\", line 59, in handle_request\n",
      "2023-07-11 16:36:29,309 ERROR       result = cached(context.method, proc, context, context.args, context.kwargs)\n",
      "2023-07-11 16:36:29,309 ERROR     File \"/opt/cdstoolbox/cdscompute/cdscompute/caching.py\", line 108, in cached\n",
      "2023-07-11 16:36:29,310 ERROR       result = proc(context, *context.args, **context.kwargs)\n",
      "2023-07-11 16:36:29,311 ERROR     File \"/opt/cdstoolbox/cdscompute/cdscompute/services.py\", line 124, in __call__\n",
      "2023-07-11 16:36:29,311 ERROR       return p(*args, **kwargs)\n",
      "2023-07-11 16:36:29,312 ERROR     File \"/opt/cdstoolbox/cdscompute/cdscompute/services.py\", line 60, in __call__\n",
      "2023-07-11 16:36:29,312 ERROR       return self.proc(context, *args, **kwargs)\n",
      "2023-07-11 16:36:29,313 ERROR     File \"/home/cds/cdsservices/services/esgf_wps/__init__.py\", line 30, in execute\n",
      "2023-07-11 16:36:29,313 ERROR       request_facets, request = facets.search(context, request)\n",
      "2023-07-11 16:36:29,314 ERROR     File \"/home/cds/cdsservices/services/esgf_wps/facets.py\", line 61, in search\n",
      "2023-07-11 16:36:29,314 ERROR       raise ValueError(f'No matching data for request {tmp_request}')\n",
      "2023-07-11 16:36:29,315 ERROR   ValueError: No matching data for request {'experiment': 'ssp534-over', 'model': 'CNRM-CM6-1-HR', 'temporal_resolution': 'day', 'variable': 'pr'}\n",
      "2023-07-11 16:36:29,350 INFO Welcome to the CDS\n",
      "2023-07-11 16:36:29,352 INFO Sending request to https://cds.climate.copernicus.eu/api/v2/resources/projections-cmip6\n",
      "2023-07-11 16:36:29,430 INFO Request is queued\n"
     ]
    },
    {
     "name": "stdout",
     "output_type": "stream",
     "text": [
      "Some parameters are not matching\n",
      "Test with model e3sm_1_0\n",
      "path_for_file does not exist: the data may not have been downloaded\n",
      "file_download does not exist: the data were not downloaded\n"
     ]
    },
    {
     "name": "stderr",
     "output_type": "stream",
     "text": [
      "2023-07-11 16:36:30,475 INFO Request is failed\n",
      "2023-07-11 16:36:30,476 ERROR Message: an internal error occurred processing your request\n",
      "2023-07-11 16:36:30,477 ERROR Reason:  No matching data for request {'experiment': 'ssp534-over', 'model': 'E3SM-1-0', 'temporal_resolution': 'day', 'variable': 'pr'}\n",
      "2023-07-11 16:36:30,477 ERROR   Traceback (most recent call last):\n",
      "2023-07-11 16:36:30,478 ERROR     File \"/opt/cdstoolbox/cdscompute/cdscompute/cdshandlers/services/handler.py\", line 59, in handle_request\n",
      "2023-07-11 16:36:30,478 ERROR       result = cached(context.method, proc, context, context.args, context.kwargs)\n",
      "2023-07-11 16:36:30,479 ERROR     File \"/opt/cdstoolbox/cdscompute/cdscompute/caching.py\", line 108, in cached\n",
      "2023-07-11 16:36:30,480 ERROR       result = proc(context, *context.args, **context.kwargs)\n",
      "2023-07-11 16:36:30,480 ERROR     File \"/opt/cdstoolbox/cdscompute/cdscompute/services.py\", line 124, in __call__\n",
      "2023-07-11 16:36:30,481 ERROR       return p(*args, **kwargs)\n",
      "2023-07-11 16:36:30,482 ERROR     File \"/opt/cdstoolbox/cdscompute/cdscompute/services.py\", line 60, in __call__\n",
      "2023-07-11 16:36:30,483 ERROR       return self.proc(context, *args, **kwargs)\n",
      "2023-07-11 16:36:30,484 ERROR     File \"/home/cds/cdsservices/services/esgf_wps/__init__.py\", line 30, in execute\n",
      "2023-07-11 16:36:30,484 ERROR       request_facets, request = facets.search(context, request)\n",
      "2023-07-11 16:36:30,485 ERROR     File \"/home/cds/cdsservices/services/esgf_wps/facets.py\", line 61, in search\n",
      "2023-07-11 16:36:30,486 ERROR       raise ValueError(f'No matching data for request {tmp_request}')\n",
      "2023-07-11 16:36:30,486 ERROR   ValueError: No matching data for request {'experiment': 'ssp534-over', 'model': 'E3SM-1-0', 'temporal_resolution': 'day', 'variable': 'pr'}\n",
      "2023-07-11 16:36:30,518 INFO Welcome to the CDS\n",
      "2023-07-11 16:36:30,520 INFO Sending request to https://cds.climate.copernicus.eu/api/v2/resources/projections-cmip6\n",
      "2023-07-11 16:36:30,590 INFO Request is queued\n"
     ]
    },
    {
     "name": "stdout",
     "output_type": "stream",
     "text": [
      "Some parameters are not matching\n",
      "Test with model e3sm_1_1_eca\n",
      "path_for_file does not exist: the data may not have been downloaded\n",
      "file_download does not exist: the data were not downloaded\n"
     ]
    },
    {
     "name": "stderr",
     "output_type": "stream",
     "text": [
      "2023-07-11 16:36:31,629 INFO Request is failed\n",
      "2023-07-11 16:36:31,631 ERROR Message: an internal error occurred processing your request\n",
      "2023-07-11 16:36:31,632 ERROR Reason:  No matching data for request {'experiment': 'ssp534-over', 'model': 'E3SM-1-1-ECA', 'temporal_resolution': 'day', 'variable': 'pr'}\n",
      "2023-07-11 16:36:31,633 ERROR   Traceback (most recent call last):\n",
      "2023-07-11 16:36:31,633 ERROR     File \"/opt/cdstoolbox/cdscompute/cdscompute/cdshandlers/services/handler.py\", line 59, in handle_request\n",
      "2023-07-11 16:36:31,635 ERROR       result = cached(context.method, proc, context, context.args, context.kwargs)\n",
      "2023-07-11 16:36:31,638 ERROR     File \"/opt/cdstoolbox/cdscompute/cdscompute/caching.py\", line 108, in cached\n",
      "2023-07-11 16:36:31,640 ERROR       result = proc(context, *context.args, **context.kwargs)\n",
      "2023-07-11 16:36:31,641 ERROR     File \"/opt/cdstoolbox/cdscompute/cdscompute/services.py\", line 124, in __call__\n",
      "2023-07-11 16:36:31,641 ERROR       return p(*args, **kwargs)\n",
      "2023-07-11 16:36:31,641 ERROR     File \"/opt/cdstoolbox/cdscompute/cdscompute/services.py\", line 60, in __call__\n",
      "2023-07-11 16:36:31,642 ERROR       return self.proc(context, *args, **kwargs)\n",
      "2023-07-11 16:36:31,643 ERROR     File \"/home/cds/cdsservices/services/esgf_wps/__init__.py\", line 30, in execute\n",
      "2023-07-11 16:36:31,643 ERROR       request_facets, request = facets.search(context, request)\n",
      "2023-07-11 16:36:31,644 ERROR     File \"/home/cds/cdsservices/services/esgf_wps/facets.py\", line 61, in search\n",
      "2023-07-11 16:36:31,644 ERROR       raise ValueError(f'No matching data for request {tmp_request}')\n",
      "2023-07-11 16:36:31,647 ERROR   ValueError: No matching data for request {'experiment': 'ssp534-over', 'model': 'E3SM-1-1-ECA', 'temporal_resolution': 'day', 'variable': 'pr'}\n",
      "2023-07-11 16:36:31,690 INFO Welcome to the CDS\n",
      "2023-07-11 16:36:31,691 INFO Sending request to https://cds.climate.copernicus.eu/api/v2/resources/projections-cmip6\n",
      "2023-07-11 16:36:31,730 INFO Request is queued\n"
     ]
    },
    {
     "name": "stdout",
     "output_type": "stream",
     "text": [
      "Some parameters are not matching\n",
      "Test with model ec_earth3_aerchem\n",
      "path_for_file does not exist: the data may not have been downloaded\n",
      "file_download does not exist: the data were not downloaded\n"
     ]
    },
    {
     "name": "stderr",
     "output_type": "stream",
     "text": [
      "2023-07-11 16:36:32,769 INFO Request is failed\n",
      "2023-07-11 16:36:32,770 ERROR Message: an internal error occurred processing your request\n",
      "2023-07-11 16:36:32,771 ERROR Reason:  No matching data for request {'experiment': 'ssp534-over', 'model': 'EC-Earth3-AerChem', 'temporal_resolution': 'day', 'variable': 'pr'}\n",
      "2023-07-11 16:36:32,771 ERROR   Traceback (most recent call last):\n",
      "2023-07-11 16:36:32,772 ERROR     File \"/opt/cdstoolbox/cdscompute/cdscompute/cdshandlers/services/handler.py\", line 59, in handle_request\n",
      "2023-07-11 16:36:32,772 ERROR       result = cached(context.method, proc, context, context.args, context.kwargs)\n",
      "2023-07-11 16:36:32,773 ERROR     File \"/opt/cdstoolbox/cdscompute/cdscompute/caching.py\", line 108, in cached\n",
      "2023-07-11 16:36:32,774 ERROR       result = proc(context, *context.args, **context.kwargs)\n",
      "2023-07-11 16:36:32,774 ERROR     File \"/opt/cdstoolbox/cdscompute/cdscompute/services.py\", line 124, in __call__\n",
      "2023-07-11 16:36:32,775 ERROR       return p(*args, **kwargs)\n",
      "2023-07-11 16:36:32,775 ERROR     File \"/opt/cdstoolbox/cdscompute/cdscompute/services.py\", line 60, in __call__\n",
      "2023-07-11 16:36:32,775 ERROR       return self.proc(context, *args, **kwargs)\n",
      "2023-07-11 16:36:32,775 ERROR     File \"/home/cds/cdsservices/services/esgf_wps/__init__.py\", line 30, in execute\n",
      "2023-07-11 16:36:32,776 ERROR       request_facets, request = facets.search(context, request)\n",
      "2023-07-11 16:36:32,777 ERROR     File \"/home/cds/cdsservices/services/esgf_wps/facets.py\", line 61, in search\n",
      "2023-07-11 16:36:32,777 ERROR       raise ValueError(f'No matching data for request {tmp_request}')\n",
      "2023-07-11 16:36:32,778 ERROR   ValueError: No matching data for request {'experiment': 'ssp534-over', 'model': 'EC-Earth3-AerChem', 'temporal_resolution': 'day', 'variable': 'pr'}\n"
     ]
    },
    {
     "name": "stdout",
     "output_type": "stream",
     "text": [
      "Some parameters are not matching\n",
      "Test with model ec_earth3_veg\n",
      "path_for_file does not exist: the data may not have been downloaded\n",
      "file_download does not exist: the data were not downloaded\n"
     ]
    },
    {
     "name": "stderr",
     "output_type": "stream",
     "text": [
      "2023-07-11 16:36:33,286 INFO Welcome to the CDS\n",
      "2023-07-11 16:36:33,286 INFO Sending request to https://cds.climate.copernicus.eu/api/v2/resources/projections-cmip6\n",
      "2023-07-11 16:36:33,361 INFO Request is queued\n",
      "2023-07-11 16:36:34,417 INFO Request is failed\n",
      "2023-07-11 16:36:34,418 ERROR Message: an internal error occurred processing your request\n",
      "2023-07-11 16:36:34,419 ERROR Reason:  No matching data for request {'experiment': 'ssp534-over', 'model': 'EC-Earth3-Veg', 'temporal_resolution': 'day', 'variable': 'pr'}\n",
      "2023-07-11 16:36:34,419 ERROR   Traceback (most recent call last):\n",
      "2023-07-11 16:36:34,419 ERROR     File \"/opt/cdstoolbox/cdscompute/cdscompute/cdshandlers/services/handler.py\", line 59, in handle_request\n",
      "2023-07-11 16:36:34,420 ERROR       result = cached(context.method, proc, context, context.args, context.kwargs)\n",
      "2023-07-11 16:36:34,420 ERROR     File \"/opt/cdstoolbox/cdscompute/cdscompute/caching.py\", line 108, in cached\n",
      "2023-07-11 16:36:34,421 ERROR       result = proc(context, *context.args, **context.kwargs)\n",
      "2023-07-11 16:36:34,422 ERROR     File \"/opt/cdstoolbox/cdscompute/cdscompute/services.py\", line 124, in __call__\n",
      "2023-07-11 16:36:34,422 ERROR       return p(*args, **kwargs)\n",
      "2023-07-11 16:36:34,422 ERROR     File \"/opt/cdstoolbox/cdscompute/cdscompute/services.py\", line 60, in __call__\n",
      "2023-07-11 16:36:34,423 ERROR       return self.proc(context, *args, **kwargs)\n",
      "2023-07-11 16:36:34,423 ERROR     File \"/home/cds/cdsservices/services/esgf_wps/__init__.py\", line 30, in execute\n",
      "2023-07-11 16:36:34,424 ERROR       request_facets, request = facets.search(context, request)\n",
      "2023-07-11 16:36:34,425 ERROR     File \"/home/cds/cdsservices/services/esgf_wps/facets.py\", line 61, in search\n",
      "2023-07-11 16:36:34,425 ERROR       raise ValueError(f'No matching data for request {tmp_request}')\n",
      "2023-07-11 16:36:34,426 ERROR   ValueError: No matching data for request {'experiment': 'ssp534-over', 'model': 'EC-Earth3-Veg', 'temporal_resolution': 'day', 'variable': 'pr'}\n",
      "2023-07-11 16:36:34,469 INFO Welcome to the CDS\n",
      "2023-07-11 16:36:34,470 INFO Sending request to https://cds.climate.copernicus.eu/api/v2/resources/projections-cmip6\n",
      "2023-07-11 16:36:34,567 INFO Request is queued\n"
     ]
    },
    {
     "name": "stdout",
     "output_type": "stream",
     "text": [
      "Some parameters are not matching\n",
      "Test with model fgoals_f3_l\n",
      "path_for_file does not exist: the data may not have been downloaded\n",
      "file_download does not exist: the data were not downloaded\n"
     ]
    },
    {
     "name": "stderr",
     "output_type": "stream",
     "text": [
      "2023-07-11 16:36:35,613 INFO Request is failed\n",
      "2023-07-11 16:36:35,614 ERROR Message: an internal error occurred processing your request\n",
      "2023-07-11 16:36:35,616 ERROR Reason:  No matching data for request {'experiment': 'ssp534-over', 'model': 'FGOALS-f3-L', 'temporal_resolution': 'day', 'variable': 'pr'}\n",
      "2023-07-11 16:36:35,616 ERROR   Traceback (most recent call last):\n",
      "2023-07-11 16:36:35,617 ERROR     File \"/opt/cdstoolbox/cdscompute/cdscompute/cdshandlers/services/handler.py\", line 59, in handle_request\n",
      "2023-07-11 16:36:35,618 ERROR       result = cached(context.method, proc, context, context.args, context.kwargs)\n",
      "2023-07-11 16:36:35,619 ERROR     File \"/opt/cdstoolbox/cdscompute/cdscompute/caching.py\", line 108, in cached\n",
      "2023-07-11 16:36:35,619 ERROR       result = proc(context, *context.args, **context.kwargs)\n",
      "2023-07-11 16:36:35,620 ERROR     File \"/opt/cdstoolbox/cdscompute/cdscompute/services.py\", line 124, in __call__\n",
      "2023-07-11 16:36:35,622 ERROR       return p(*args, **kwargs)\n",
      "2023-07-11 16:36:35,622 ERROR     File \"/opt/cdstoolbox/cdscompute/cdscompute/services.py\", line 60, in __call__\n",
      "2023-07-11 16:36:35,622 ERROR       return self.proc(context, *args, **kwargs)\n",
      "2023-07-11 16:36:35,623 ERROR     File \"/home/cds/cdsservices/services/esgf_wps/__init__.py\", line 30, in execute\n",
      "2023-07-11 16:36:35,625 ERROR       request_facets, request = facets.search(context, request)\n",
      "2023-07-11 16:36:35,625 ERROR     File \"/home/cds/cdsservices/services/esgf_wps/facets.py\", line 61, in search\n",
      "2023-07-11 16:36:35,625 ERROR       raise ValueError(f'No matching data for request {tmp_request}')\n",
      "2023-07-11 16:36:35,626 ERROR   ValueError: No matching data for request {'experiment': 'ssp534-over', 'model': 'FGOALS-f3-L', 'temporal_resolution': 'day', 'variable': 'pr'}\n",
      "2023-07-11 16:36:35,664 INFO Welcome to the CDS\n",
      "2023-07-11 16:36:35,665 INFO Sending request to https://cds.climate.copernicus.eu/api/v2/resources/projections-cmip6\n",
      "2023-07-11 16:36:35,728 INFO Request is queued\n"
     ]
    },
    {
     "name": "stdout",
     "output_type": "stream",
     "text": [
      "Some parameters are not matching\n",
      "Test with model fio_esm_2_0\n",
      "path_for_file does not exist: the data may not have been downloaded\n",
      "file_download does not exist: the data were not downloaded\n"
     ]
    },
    {
     "name": "stderr",
     "output_type": "stream",
     "text": [
      "2023-07-11 16:36:36,767 INFO Request is failed\n",
      "2023-07-11 16:36:36,768 ERROR Message: an internal error occurred processing your request\n",
      "2023-07-11 16:36:36,769 ERROR Reason:  No matching data for request {'experiment': 'ssp534-over', 'model': 'FIO-ESM-2-0', 'temporal_resolution': 'day', 'variable': 'pr'}\n",
      "2023-07-11 16:36:36,769 ERROR   Traceback (most recent call last):\n",
      "2023-07-11 16:36:36,770 ERROR     File \"/opt/cdstoolbox/cdscompute/cdscompute/cdshandlers/services/handler.py\", line 59, in handle_request\n",
      "2023-07-11 16:36:36,771 ERROR       result = cached(context.method, proc, context, context.args, context.kwargs)\n",
      "2023-07-11 16:36:36,771 ERROR     File \"/opt/cdstoolbox/cdscompute/cdscompute/caching.py\", line 108, in cached\n",
      "2023-07-11 16:36:36,772 ERROR       result = proc(context, *context.args, **context.kwargs)\n",
      "2023-07-11 16:36:36,772 ERROR     File \"/opt/cdstoolbox/cdscompute/cdscompute/services.py\", line 124, in __call__\n",
      "2023-07-11 16:36:36,773 ERROR       return p(*args, **kwargs)\n",
      "2023-07-11 16:36:36,774 ERROR     File \"/opt/cdstoolbox/cdscompute/cdscompute/services.py\", line 60, in __call__\n",
      "2023-07-11 16:36:36,774 ERROR       return self.proc(context, *args, **kwargs)\n",
      "2023-07-11 16:36:36,774 ERROR     File \"/home/cds/cdsservices/services/esgf_wps/__init__.py\", line 30, in execute\n",
      "2023-07-11 16:36:36,775 ERROR       request_facets, request = facets.search(context, request)\n",
      "2023-07-11 16:36:36,775 ERROR     File \"/home/cds/cdsservices/services/esgf_wps/facets.py\", line 61, in search\n",
      "2023-07-11 16:36:36,775 ERROR       raise ValueError(f'No matching data for request {tmp_request}')\n",
      "2023-07-11 16:36:36,776 ERROR   ValueError: No matching data for request {'experiment': 'ssp534-over', 'model': 'FIO-ESM-2-0', 'temporal_resolution': 'day', 'variable': 'pr'}\n",
      "2023-07-11 16:36:36,813 INFO Welcome to the CDS\n",
      "2023-07-11 16:36:36,813 INFO Sending request to https://cds.climate.copernicus.eu/api/v2/resources/projections-cmip6\n",
      "2023-07-11 16:36:36,898 INFO Request is queued\n"
     ]
    },
    {
     "name": "stdout",
     "output_type": "stream",
     "text": [
      "Some parameters are not matching\n",
      "Test with model giss_e2_1_g\n",
      "path_for_file does not exist: the data may not have been downloaded\n",
      "file_download does not exist: the data were not downloaded\n"
     ]
    },
    {
     "name": "stderr",
     "output_type": "stream",
     "text": [
      "2023-07-11 16:36:37,948 INFO Request is failed\n",
      "2023-07-11 16:36:37,949 ERROR Message: an internal error occurred processing your request\n",
      "2023-07-11 16:36:37,950 ERROR Reason:  No matching data for request {'experiment': 'ssp534-over', 'model': 'GISS-E2-1-G', 'temporal_resolution': 'day', 'variable': 'pr'}\n",
      "2023-07-11 16:36:37,951 ERROR   Traceback (most recent call last):\n",
      "2023-07-11 16:36:37,952 ERROR     File \"/opt/cdstoolbox/cdscompute/cdscompute/cdshandlers/services/handler.py\", line 59, in handle_request\n",
      "2023-07-11 16:36:37,952 ERROR       result = cached(context.method, proc, context, context.args, context.kwargs)\n",
      "2023-07-11 16:36:37,953 ERROR     File \"/opt/cdstoolbox/cdscompute/cdscompute/caching.py\", line 108, in cached\n",
      "2023-07-11 16:36:37,953 ERROR       result = proc(context, *context.args, **context.kwargs)\n",
      "2023-07-11 16:36:37,954 ERROR     File \"/opt/cdstoolbox/cdscompute/cdscompute/services.py\", line 124, in __call__\n",
      "2023-07-11 16:36:37,955 ERROR       return p(*args, **kwargs)\n",
      "2023-07-11 16:36:37,955 ERROR     File \"/opt/cdstoolbox/cdscompute/cdscompute/services.py\", line 60, in __call__\n",
      "2023-07-11 16:36:37,955 ERROR       return self.proc(context, *args, **kwargs)\n",
      "2023-07-11 16:36:37,956 ERROR     File \"/home/cds/cdsservices/services/esgf_wps/__init__.py\", line 30, in execute\n",
      "2023-07-11 16:36:37,957 ERROR       request_facets, request = facets.search(context, request)\n",
      "2023-07-11 16:36:37,957 ERROR     File \"/home/cds/cdsservices/services/esgf_wps/facets.py\", line 61, in search\n",
      "2023-07-11 16:36:37,958 ERROR       raise ValueError(f'No matching data for request {tmp_request}')\n",
      "2023-07-11 16:36:37,959 ERROR   ValueError: No matching data for request {'experiment': 'ssp534-over', 'model': 'GISS-E2-1-G', 'temporal_resolution': 'day', 'variable': 'pr'}\n",
      "2023-07-11 16:36:38,002 INFO Welcome to the CDS\n",
      "2023-07-11 16:36:38,003 INFO Sending request to https://cds.climate.copernicus.eu/api/v2/resources/projections-cmip6\n",
      "2023-07-11 16:36:38,143 INFO Request is queued\n"
     ]
    },
    {
     "name": "stdout",
     "output_type": "stream",
     "text": [
      "Some parameters are not matching\n",
      "Test with model hadgem3_gc31_ll\n",
      "path_for_file does not exist: the data may not have been downloaded\n",
      "file_download does not exist: the data were not downloaded\n"
     ]
    },
    {
     "name": "stderr",
     "output_type": "stream",
     "text": [
      "2023-07-11 16:36:39,192 INFO Request is failed\n",
      "2023-07-11 16:36:39,193 ERROR Message: an internal error occurred processing your request\n",
      "2023-07-11 16:36:39,193 ERROR Reason:  No matching data for request {'experiment': 'ssp534-over', 'model': 'HadGEM3-GC31-LL', 'temporal_resolution': 'day', 'variable': 'pr'}\n",
      "2023-07-11 16:36:39,195 ERROR   Traceback (most recent call last):\n",
      "2023-07-11 16:36:39,195 ERROR     File \"/opt/cdstoolbox/cdscompute/cdscompute/cdshandlers/services/handler.py\", line 59, in handle_request\n",
      "2023-07-11 16:36:39,195 ERROR       result = cached(context.method, proc, context, context.args, context.kwargs)\n",
      "2023-07-11 16:36:39,196 ERROR     File \"/opt/cdstoolbox/cdscompute/cdscompute/caching.py\", line 108, in cached\n",
      "2023-07-11 16:36:39,198 ERROR       result = proc(context, *context.args, **context.kwargs)\n",
      "2023-07-11 16:36:39,198 ERROR     File \"/opt/cdstoolbox/cdscompute/cdscompute/services.py\", line 124, in __call__\n",
      "2023-07-11 16:36:39,198 ERROR       return p(*args, **kwargs)\n",
      "2023-07-11 16:36:39,199 ERROR     File \"/opt/cdstoolbox/cdscompute/cdscompute/services.py\", line 60, in __call__\n",
      "2023-07-11 16:36:39,199 ERROR       return self.proc(context, *args, **kwargs)\n",
      "2023-07-11 16:36:39,200 ERROR     File \"/home/cds/cdsservices/services/esgf_wps/__init__.py\", line 30, in execute\n",
      "2023-07-11 16:36:39,200 ERROR       request_facets, request = facets.search(context, request)\n",
      "2023-07-11 16:36:39,201 ERROR     File \"/home/cds/cdsservices/services/esgf_wps/facets.py\", line 61, in search\n",
      "2023-07-11 16:36:39,201 ERROR       raise ValueError(f'No matching data for request {tmp_request}')\n",
      "2023-07-11 16:36:39,204 ERROR   ValueError: No matching data for request {'experiment': 'ssp534-over', 'model': 'HadGEM3-GC31-LL', 'temporal_resolution': 'day', 'variable': 'pr'}\n",
      "2023-07-11 16:36:39,264 INFO Welcome to the CDS\n",
      "2023-07-11 16:36:39,264 INFO Sending request to https://cds.climate.copernicus.eu/api/v2/resources/projections-cmip6\n",
      "2023-07-11 16:36:39,306 INFO Request is queued\n"
     ]
    },
    {
     "name": "stdout",
     "output_type": "stream",
     "text": [
      "Some parameters are not matching\n",
      "Test with model iitm_esm\n",
      "path_for_file does not exist: the data may not have been downloaded\n",
      "file_download does not exist: the data were not downloaded\n"
     ]
    },
    {
     "name": "stderr",
     "output_type": "stream",
     "text": [
      "2023-07-11 16:36:40,356 INFO Request is failed\n",
      "2023-07-11 16:36:40,357 ERROR Message: an internal error occurred processing your request\n",
      "2023-07-11 16:36:40,358 ERROR Reason:  No matching data for request {'experiment': 'ssp534-over', 'model': 'IITM-ESM', 'temporal_resolution': 'day', 'variable': 'pr'}\n",
      "2023-07-11 16:36:40,359 ERROR   Traceback (most recent call last):\n",
      "2023-07-11 16:36:40,359 ERROR     File \"/opt/cdstoolbox/cdscompute/cdscompute/cdshandlers/services/handler.py\", line 59, in handle_request\n",
      "2023-07-11 16:36:40,359 ERROR       result = cached(context.method, proc, context, context.args, context.kwargs)\n",
      "2023-07-11 16:36:40,360 ERROR     File \"/opt/cdstoolbox/cdscompute/cdscompute/caching.py\", line 108, in cached\n",
      "2023-07-11 16:36:40,361 ERROR       result = proc(context, *context.args, **context.kwargs)\n",
      "2023-07-11 16:36:40,362 ERROR     File \"/opt/cdstoolbox/cdscompute/cdscompute/services.py\", line 124, in __call__\n",
      "2023-07-11 16:36:40,363 ERROR       return p(*args, **kwargs)\n",
      "2023-07-11 16:36:40,363 ERROR     File \"/opt/cdstoolbox/cdscompute/cdscompute/services.py\", line 60, in __call__\n",
      "2023-07-11 16:36:40,364 ERROR       return self.proc(context, *args, **kwargs)\n",
      "2023-07-11 16:36:40,365 ERROR     File \"/home/cds/cdsservices/services/esgf_wps/__init__.py\", line 30, in execute\n",
      "2023-07-11 16:36:40,365 ERROR       request_facets, request = facets.search(context, request)\n",
      "2023-07-11 16:36:40,365 ERROR     File \"/home/cds/cdsservices/services/esgf_wps/facets.py\", line 61, in search\n",
      "2023-07-11 16:36:40,366 ERROR       raise ValueError(f'No matching data for request {tmp_request}')\n",
      "2023-07-11 16:36:40,367 ERROR   ValueError: No matching data for request {'experiment': 'ssp534-over', 'model': 'IITM-ESM', 'temporal_resolution': 'day', 'variable': 'pr'}\n",
      "2023-07-11 16:36:40,410 INFO Welcome to the CDS\n",
      "2023-07-11 16:36:40,411 INFO Sending request to https://cds.climate.copernicus.eu/api/v2/resources/projections-cmip6\n",
      "2023-07-11 16:36:40,465 INFO Request is queued\n"
     ]
    },
    {
     "name": "stdout",
     "output_type": "stream",
     "text": [
      "Some parameters are not matching\n",
      "Test with model inm_cm5_0\n",
      "path_for_file does not exist: the data may not have been downloaded\n",
      "file_download does not exist: the data were not downloaded\n"
     ]
    },
    {
     "name": "stderr",
     "output_type": "stream",
     "text": [
      "2023-07-11 16:36:41,506 INFO Request is failed\n",
      "2023-07-11 16:36:41,507 ERROR Message: an internal error occurred processing your request\n",
      "2023-07-11 16:36:41,508 ERROR Reason:  No matching data for request {'experiment': 'ssp534-over', 'model': 'INM-CM5-0', 'temporal_resolution': 'day', 'variable': 'pr'}\n",
      "2023-07-11 16:36:41,508 ERROR   Traceback (most recent call last):\n",
      "2023-07-11 16:36:41,509 ERROR     File \"/opt/cdstoolbox/cdscompute/cdscompute/cdshandlers/services/handler.py\", line 59, in handle_request\n",
      "2023-07-11 16:36:41,510 ERROR       result = cached(context.method, proc, context, context.args, context.kwargs)\n",
      "2023-07-11 16:36:41,510 ERROR     File \"/opt/cdstoolbox/cdscompute/cdscompute/caching.py\", line 108, in cached\n",
      "2023-07-11 16:36:41,511 ERROR       result = proc(context, *context.args, **context.kwargs)\n",
      "2023-07-11 16:36:41,512 ERROR     File \"/opt/cdstoolbox/cdscompute/cdscompute/services.py\", line 124, in __call__\n",
      "2023-07-11 16:36:41,512 ERROR       return p(*args, **kwargs)\n",
      "2023-07-11 16:36:41,512 ERROR     File \"/opt/cdstoolbox/cdscompute/cdscompute/services.py\", line 60, in __call__\n",
      "2023-07-11 16:36:41,512 ERROR       return self.proc(context, *args, **kwargs)\n",
      "2023-07-11 16:36:41,514 ERROR     File \"/home/cds/cdsservices/services/esgf_wps/__init__.py\", line 30, in execute\n",
      "2023-07-11 16:36:41,514 ERROR       request_facets, request = facets.search(context, request)\n",
      "2023-07-11 16:36:41,515 ERROR     File \"/home/cds/cdsservices/services/esgf_wps/facets.py\", line 61, in search\n",
      "2023-07-11 16:36:41,515 ERROR       raise ValueError(f'No matching data for request {tmp_request}')\n",
      "2023-07-11 16:36:41,516 ERROR   ValueError: No matching data for request {'experiment': 'ssp534-over', 'model': 'INM-CM5-0', 'temporal_resolution': 'day', 'variable': 'pr'}\n",
      "2023-07-11 16:36:41,563 INFO Welcome to the CDS\n",
      "2023-07-11 16:36:41,563 INFO Sending request to https://cds.climate.copernicus.eu/api/v2/resources/projections-cmip6\n",
      "2023-07-11 16:36:41,641 INFO Request is queued\n"
     ]
    },
    {
     "name": "stdout",
     "output_type": "stream",
     "text": [
      "Some parameters are not matching\n",
      "Test with model ipsl_cm6a_lr\n",
      "path_for_file does not exist: the data may not have been downloaded\n",
      "file_download does not exist: the data were not downloaded\n"
     ]
    },
    {
     "name": "stderr",
     "output_type": "stream",
     "text": [
      "2023-07-11 16:36:42,720 INFO Request is running\n",
      "2023-07-11 16:36:49,979 INFO Request is failed\n",
      "2023-07-11 16:36:49,980 ERROR Message: an internal error occurred processing your request\n",
      "2023-07-11 16:36:49,980 ERROR Reason:  Process error: 2015\n",
      "2023-07-11 16:36:49,982 ERROR   Traceback (most recent call last):\n",
      "2023-07-11 16:36:49,982 ERROR     File \"/usr/local/lib/python3.6/site-packages/rooki/results.py\", line 33, in url\n",
      "2023-07-11 16:36:49,983 ERROR       return self.response.get()[0]\n",
      "2023-07-11 16:36:49,983 ERROR     File \"/usr/local/lib/python3.6/site-packages/birdy/client/outputs.py\", line 40, in get\n",
      "2023-07-11 16:36:49,984 ERROR       raise ProcessFailed(\"Sorry, process failed.\")\n",
      "2023-07-11 16:36:49,984 ERROR   birdy.exceptions.ProcessFailed: Sorry, process failed.\n",
      "2023-07-11 16:36:50,035 INFO Welcome to the CDS\n",
      "2023-07-11 16:36:50,036 INFO Sending request to https://cds.climate.copernicus.eu/api/v2/resources/projections-cmip6\n",
      "2023-07-11 16:36:50,104 INFO Request is queued\n"
     ]
    },
    {
     "name": "stdout",
     "output_type": "stream",
     "text": [
      "Some parameters are not matching\n",
      "Test with model kiost_esm\n",
      "path_for_file does not exist: the data may not have been downloaded\n",
      "file_download does not exist: the data were not downloaded\n"
     ]
    },
    {
     "name": "stderr",
     "output_type": "stream",
     "text": [
      "2023-07-11 16:36:51,146 INFO Request is failed\n",
      "2023-07-11 16:36:51,147 ERROR Message: an internal error occurred processing your request\n",
      "2023-07-11 16:36:51,148 ERROR Reason:  No matching data for request {'experiment': 'ssp534-over', 'model': 'KIOST-ESM', 'temporal_resolution': 'day', 'variable': 'pr'}\n",
      "2023-07-11 16:36:51,148 ERROR   Traceback (most recent call last):\n",
      "2023-07-11 16:36:51,149 ERROR     File \"/opt/cdstoolbox/cdscompute/cdscompute/cdshandlers/services/handler.py\", line 59, in handle_request\n",
      "2023-07-11 16:36:51,150 ERROR       result = cached(context.method, proc, context, context.args, context.kwargs)\n",
      "2023-07-11 16:36:51,150 ERROR     File \"/opt/cdstoolbox/cdscompute/cdscompute/caching.py\", line 108, in cached\n",
      "2023-07-11 16:36:51,151 ERROR       result = proc(context, *context.args, **context.kwargs)\n",
      "2023-07-11 16:36:51,152 ERROR     File \"/opt/cdstoolbox/cdscompute/cdscompute/services.py\", line 124, in __call__\n",
      "2023-07-11 16:36:51,152 ERROR       return p(*args, **kwargs)\n",
      "2023-07-11 16:36:51,153 ERROR     File \"/opt/cdstoolbox/cdscompute/cdscompute/services.py\", line 60, in __call__\n",
      "2023-07-11 16:36:51,153 ERROR       return self.proc(context, *args, **kwargs)\n",
      "2023-07-11 16:36:51,154 ERROR     File \"/home/cds/cdsservices/services/esgf_wps/__init__.py\", line 30, in execute\n",
      "2023-07-11 16:36:51,154 ERROR       request_facets, request = facets.search(context, request)\n",
      "2023-07-11 16:36:51,155 ERROR     File \"/home/cds/cdsservices/services/esgf_wps/facets.py\", line 61, in search\n",
      "2023-07-11 16:36:51,156 ERROR       raise ValueError(f'No matching data for request {tmp_request}')\n",
      "2023-07-11 16:36:51,156 ERROR   ValueError: No matching data for request {'experiment': 'ssp534-over', 'model': 'KIOST-ESM', 'temporal_resolution': 'day', 'variable': 'pr'}\n",
      "2023-07-11 16:36:51,193 INFO Welcome to the CDS\n",
      "2023-07-11 16:36:51,194 INFO Sending request to https://cds.climate.copernicus.eu/api/v2/resources/projections-cmip6\n",
      "2023-07-11 16:36:51,260 INFO Request is queued\n"
     ]
    },
    {
     "name": "stdout",
     "output_type": "stream",
     "text": [
      "Some parameters are not matching\n",
      "Test with model miroc6\n",
      "path_for_file does not exist: the data may not have been downloaded\n",
      "file_download does not exist: the data were not downloaded\n"
     ]
    },
    {
     "name": "stderr",
     "output_type": "stream",
     "text": [
      "2023-07-11 16:36:52,311 INFO Request is running\n",
      "2023-07-11 16:37:23,743 INFO Request is failed\n",
      "2023-07-11 16:37:23,744 ERROR Message: an internal error occurred processing your request\n",
      "2023-07-11 16:37:23,745 ERROR Reason:  Process error: 2015\n",
      "2023-07-11 16:37:23,746 ERROR   Traceback (most recent call last):\n",
      "2023-07-11 16:37:23,746 ERROR     File \"/usr/local/lib/python3.6/site-packages/rooki/results.py\", line 33, in url\n",
      "2023-07-11 16:37:23,747 ERROR       return self.response.get()[0]\n",
      "2023-07-11 16:37:23,747 ERROR     File \"/usr/local/lib/python3.6/site-packages/birdy/client/outputs.py\", line 40, in get\n",
      "2023-07-11 16:37:23,747 ERROR       raise ProcessFailed(\"Sorry, process failed.\")\n",
      "2023-07-11 16:37:23,748 ERROR   birdy.exceptions.ProcessFailed: Sorry, process failed.\n",
      "2023-07-11 16:37:23,802 INFO Welcome to the CDS\n",
      "2023-07-11 16:37:23,803 INFO Sending request to https://cds.climate.copernicus.eu/api/v2/resources/projections-cmip6\n",
      "2023-07-11 16:37:23,874 INFO Request is queued\n"
     ]
    },
    {
     "name": "stdout",
     "output_type": "stream",
     "text": [
      "Some parameters are not matching\n",
      "Test with model miroc_es2l\n",
      "path_for_file does not exist: the data may not have been downloaded\n",
      "file_download does not exist: the data were not downloaded\n"
     ]
    },
    {
     "name": "stderr",
     "output_type": "stream",
     "text": [
      "2023-07-11 16:37:24,922 INFO Request is running\n",
      "2023-07-11 16:40:15,387 INFO Request is completed\n",
      "2023-07-11 16:40:15,388 INFO Downloading https://download-0009-clone.copernicus-climate.eu/cache-compute-0009/cache/data8/adaptor.esgf_wps.retrieve-1689086374.8734365-31102-11-675f0306-51dc-443f-bad6-3996e305dbb4.zip to download.zip (2.9M)\n",
      "2023-07-11 16:40:16,444 INFO Download rate 2.7M/s                                                                      \n"
     ]
    },
    {
     "name": "stdout",
     "output_type": "stream",
     "text": [
      "The file has been download\n",
      "Path for the file is created, did not existed before\n"
     ]
    },
    {
     "name": "stderr",
     "output_type": "stream",
     "text": [
      "2023-07-11 16:40:17,266 INFO Welcome to the CDS\n",
      "2023-07-11 16:40:17,268 INFO Sending request to https://cds.climate.copernicus.eu/api/v2/resources/projections-cmip6\n",
      "2023-07-11 16:40:17,349 INFO Request is queued\n"
     ]
    },
    {
     "name": "stdout",
     "output_type": "stream",
     "text": [
      "\n",
      " The downloaded file is extracted\n",
      "The file has been extracted\n",
      "Test with model mpi_esm1_2_hr\n",
      "path_for_file does not exist: the data may not have been downloaded\n",
      "file_download does not exist: the data were not downloaded\n"
     ]
    },
    {
     "name": "stderr",
     "output_type": "stream",
     "text": [
      "2023-07-11 16:40:18,390 INFO Request is failed\n",
      "2023-07-11 16:40:18,391 ERROR Message: an internal error occurred processing your request\n",
      "2023-07-11 16:40:18,393 ERROR Reason:  No matching data for request {'experiment': 'ssp534-over', 'model': 'MPI-ESM1-2-HR', 'temporal_resolution': 'day', 'variable': 'pr'}\n",
      "2023-07-11 16:40:18,394 ERROR   Traceback (most recent call last):\n",
      "2023-07-11 16:40:18,395 ERROR     File \"/opt/cdstoolbox/cdscompute/cdscompute/cdshandlers/services/handler.py\", line 59, in handle_request\n",
      "2023-07-11 16:40:18,395 ERROR       result = cached(context.method, proc, context, context.args, context.kwargs)\n",
      "2023-07-11 16:40:18,396 ERROR     File \"/opt/cdstoolbox/cdscompute/cdscompute/caching.py\", line 108, in cached\n",
      "2023-07-11 16:40:18,398 ERROR       result = proc(context, *context.args, **context.kwargs)\n",
      "2023-07-11 16:40:18,400 ERROR     File \"/opt/cdstoolbox/cdscompute/cdscompute/services.py\", line 124, in __call__\n",
      "2023-07-11 16:40:18,401 ERROR       return p(*args, **kwargs)\n",
      "2023-07-11 16:40:18,402 ERROR     File \"/opt/cdstoolbox/cdscompute/cdscompute/services.py\", line 60, in __call__\n",
      "2023-07-11 16:40:18,402 ERROR       return self.proc(context, *args, **kwargs)\n",
      "2023-07-11 16:40:18,403 ERROR     File \"/home/cds/cdsservices/services/esgf_wps/__init__.py\", line 30, in execute\n",
      "2023-07-11 16:40:18,404 ERROR       request_facets, request = facets.search(context, request)\n",
      "2023-07-11 16:40:18,404 ERROR     File \"/home/cds/cdsservices/services/esgf_wps/facets.py\", line 61, in search\n",
      "2023-07-11 16:40:18,405 ERROR       raise ValueError(f'No matching data for request {tmp_request}')\n",
      "2023-07-11 16:40:18,405 ERROR   ValueError: No matching data for request {'experiment': 'ssp534-over', 'model': 'MPI-ESM1-2-HR', 'temporal_resolution': 'day', 'variable': 'pr'}\n",
      "2023-07-11 16:40:18,457 INFO Welcome to the CDS\n",
      "2023-07-11 16:40:18,459 INFO Sending request to https://cds.climate.copernicus.eu/api/v2/resources/projections-cmip6\n",
      "2023-07-11 16:40:18,538 INFO Request is queued\n"
     ]
    },
    {
     "name": "stdout",
     "output_type": "stream",
     "text": [
      "Some parameters are not matching\n",
      "Test with model mri_esm2_0\n",
      "path_for_file does not exist: the data may not have been downloaded\n",
      "file_download does not exist: the data were not downloaded\n"
     ]
    },
    {
     "name": "stderr",
     "output_type": "stream",
     "text": [
      "2023-07-11 16:40:19,598 INFO Request is running\n",
      "2023-07-11 16:41:08,187 INFO Request is failed\n",
      "2023-07-11 16:41:08,188 ERROR Message: an internal error occurred processing your request\n",
      "2023-07-11 16:41:08,188 ERROR Reason:  Process error: 2015\n",
      "2023-07-11 16:41:08,189 ERROR   Traceback (most recent call last):\n",
      "2023-07-11 16:41:08,190 ERROR     File \"/usr/local/lib/python3.6/site-packages/rooki/results.py\", line 33, in url\n",
      "2023-07-11 16:41:08,190 ERROR       return self.response.get()[0]\n",
      "2023-07-11 16:41:08,191 ERROR     File \"/usr/local/lib/python3.6/site-packages/birdy/client/outputs.py\", line 40, in get\n",
      "2023-07-11 16:41:08,192 ERROR       raise ProcessFailed(\"Sorry, process failed.\")\n",
      "2023-07-11 16:41:08,193 ERROR   birdy.exceptions.ProcessFailed: Sorry, process failed.\n",
      "2023-07-11 16:41:08,263 INFO Welcome to the CDS\n",
      "2023-07-11 16:41:08,264 INFO Sending request to https://cds.climate.copernicus.eu/api/v2/resources/projections-cmip6\n",
      "2023-07-11 16:41:08,307 INFO Request is queued\n"
     ]
    },
    {
     "name": "stdout",
     "output_type": "stream",
     "text": [
      "Some parameters are not matching\n",
      "Test with model norcpm1\n",
      "path_for_file does not exist: the data may not have been downloaded\n",
      "file_download does not exist: the data were not downloaded\n"
     ]
    },
    {
     "name": "stderr",
     "output_type": "stream",
     "text": [
      "2023-07-11 16:41:09,352 INFO Request is failed\n",
      "2023-07-11 16:41:09,353 ERROR Message: an internal error occurred processing your request\n",
      "2023-07-11 16:41:09,354 ERROR Reason:  No matching data for request {'experiment': 'ssp534-over', 'model': 'NorCPM1', 'temporal_resolution': 'day', 'variable': 'pr'}\n",
      "2023-07-11 16:41:09,355 ERROR   Traceback (most recent call last):\n",
      "2023-07-11 16:41:09,355 ERROR     File \"/opt/cdstoolbox/cdscompute/cdscompute/cdshandlers/services/handler.py\", line 59, in handle_request\n",
      "2023-07-11 16:41:09,356 ERROR       result = cached(context.method, proc, context, context.args, context.kwargs)\n",
      "2023-07-11 16:41:09,357 ERROR     File \"/opt/cdstoolbox/cdscompute/cdscompute/caching.py\", line 108, in cached\n",
      "2023-07-11 16:41:09,357 ERROR       result = proc(context, *context.args, **context.kwargs)\n",
      "2023-07-11 16:41:09,358 ERROR     File \"/opt/cdstoolbox/cdscompute/cdscompute/services.py\", line 124, in __call__\n",
      "2023-07-11 16:41:09,359 ERROR       return p(*args, **kwargs)\n",
      "2023-07-11 16:41:09,360 ERROR     File \"/opt/cdstoolbox/cdscompute/cdscompute/services.py\", line 60, in __call__\n",
      "2023-07-11 16:41:09,361 ERROR       return self.proc(context, *args, **kwargs)\n",
      "2023-07-11 16:41:09,361 ERROR     File \"/home/cds/cdsservices/services/esgf_wps/__init__.py\", line 30, in execute\n",
      "2023-07-11 16:41:09,362 ERROR       request_facets, request = facets.search(context, request)\n",
      "2023-07-11 16:41:09,362 ERROR     File \"/home/cds/cdsservices/services/esgf_wps/facets.py\", line 61, in search\n",
      "2023-07-11 16:41:09,364 ERROR       raise ValueError(f'No matching data for request {tmp_request}')\n",
      "2023-07-11 16:41:09,365 ERROR   ValueError: No matching data for request {'experiment': 'ssp534-over', 'model': 'NorCPM1', 'temporal_resolution': 'day', 'variable': 'pr'}\n",
      "2023-07-11 16:41:09,408 INFO Welcome to the CDS\n",
      "2023-07-11 16:41:09,409 INFO Sending request to https://cds.climate.copernicus.eu/api/v2/resources/projections-cmip6\n",
      "2023-07-11 16:41:09,510 INFO Request is queued\n"
     ]
    },
    {
     "name": "stdout",
     "output_type": "stream",
     "text": [
      "Some parameters are not matching\n",
      "Test with model noresm2_mm\n",
      "path_for_file does not exist: the data may not have been downloaded\n",
      "file_download does not exist: the data were not downloaded\n"
     ]
    },
    {
     "name": "stderr",
     "output_type": "stream",
     "text": [
      "2023-07-11 16:41:10,564 INFO Request is failed\n",
      "2023-07-11 16:41:10,564 ERROR Message: an internal error occurred processing your request\n",
      "2023-07-11 16:41:10,565 ERROR Reason:  No matching data for request {'experiment': 'ssp534-over', 'model': 'NorESM2-MM', 'temporal_resolution': 'day', 'variable': 'pr'}\n",
      "2023-07-11 16:41:10,567 ERROR   Traceback (most recent call last):\n",
      "2023-07-11 16:41:10,567 ERROR     File \"/opt/cdstoolbox/cdscompute/cdscompute/cdshandlers/services/handler.py\", line 59, in handle_request\n",
      "2023-07-11 16:41:10,568 ERROR       result = cached(context.method, proc, context, context.args, context.kwargs)\n",
      "2023-07-11 16:41:10,568 ERROR     File \"/opt/cdstoolbox/cdscompute/cdscompute/caching.py\", line 108, in cached\n",
      "2023-07-11 16:41:10,570 ERROR       result = proc(context, *context.args, **context.kwargs)\n",
      "2023-07-11 16:41:10,571 ERROR     File \"/opt/cdstoolbox/cdscompute/cdscompute/services.py\", line 124, in __call__\n",
      "2023-07-11 16:41:10,572 ERROR       return p(*args, **kwargs)\n",
      "2023-07-11 16:41:10,572 ERROR     File \"/opt/cdstoolbox/cdscompute/cdscompute/services.py\", line 60, in __call__\n",
      "2023-07-11 16:41:10,573 ERROR       return self.proc(context, *args, **kwargs)\n",
      "2023-07-11 16:41:10,573 ERROR     File \"/home/cds/cdsservices/services/esgf_wps/__init__.py\", line 30, in execute\n",
      "2023-07-11 16:41:10,574 ERROR       request_facets, request = facets.search(context, request)\n",
      "2023-07-11 16:41:10,574 ERROR     File \"/home/cds/cdsservices/services/esgf_wps/facets.py\", line 61, in search\n",
      "2023-07-11 16:41:10,575 ERROR       raise ValueError(f'No matching data for request {tmp_request}')\n",
      "2023-07-11 16:41:10,576 ERROR   ValueError: No matching data for request {'experiment': 'ssp534-over', 'model': 'NorESM2-MM', 'temporal_resolution': 'day', 'variable': 'pr'}\n",
      "2023-07-11 16:41:10,616 INFO Welcome to the CDS\n",
      "2023-07-11 16:41:10,617 INFO Sending request to https://cds.climate.copernicus.eu/api/v2/resources/projections-cmip6\n",
      "2023-07-11 16:41:10,693 INFO Request is queued\n"
     ]
    },
    {
     "name": "stdout",
     "output_type": "stream",
     "text": [
      "Some parameters are not matching\n",
      "Test with model taiesm1\n",
      "path_for_file does not exist: the data may not have been downloaded\n",
      "file_download does not exist: the data were not downloaded\n"
     ]
    },
    {
     "name": "stderr",
     "output_type": "stream",
     "text": [
      "2023-07-11 16:41:11,735 INFO Request is failed\n",
      "2023-07-11 16:41:11,735 ERROR Message: an internal error occurred processing your request\n",
      "2023-07-11 16:41:11,736 ERROR Reason:  No matching data for request {'experiment': 'ssp534-over', 'model': 'TaiESM1', 'temporal_resolution': 'day', 'variable': 'pr'}\n",
      "2023-07-11 16:41:11,736 ERROR   Traceback (most recent call last):\n",
      "2023-07-11 16:41:11,737 ERROR     File \"/opt/cdstoolbox/cdscompute/cdscompute/cdshandlers/services/handler.py\", line 59, in handle_request\n",
      "2023-07-11 16:41:11,737 ERROR       result = cached(context.method, proc, context, context.args, context.kwargs)\n",
      "2023-07-11 16:41:11,738 ERROR     File \"/opt/cdstoolbox/cdscompute/cdscompute/caching.py\", line 108, in cached\n",
      "2023-07-11 16:41:11,738 ERROR       result = proc(context, *context.args, **context.kwargs)\n",
      "2023-07-11 16:41:11,738 ERROR     File \"/opt/cdstoolbox/cdscompute/cdscompute/services.py\", line 124, in __call__\n",
      "2023-07-11 16:41:11,740 ERROR       return p(*args, **kwargs)\n",
      "2023-07-11 16:41:11,741 ERROR     File \"/opt/cdstoolbox/cdscompute/cdscompute/services.py\", line 60, in __call__\n",
      "2023-07-11 16:41:11,741 ERROR       return self.proc(context, *args, **kwargs)\n",
      "2023-07-11 16:41:11,741 ERROR     File \"/home/cds/cdsservices/services/esgf_wps/__init__.py\", line 30, in execute\n",
      "2023-07-11 16:41:11,742 ERROR       request_facets, request = facets.search(context, request)\n",
      "2023-07-11 16:41:11,743 ERROR     File \"/home/cds/cdsservices/services/esgf_wps/facets.py\", line 61, in search\n",
      "2023-07-11 16:41:11,744 ERROR       raise ValueError(f'No matching data for request {tmp_request}')\n",
      "2023-07-11 16:41:11,744 ERROR   ValueError: No matching data for request {'experiment': 'ssp534-over', 'model': 'TaiESM1', 'temporal_resolution': 'day', 'variable': 'pr'}\n",
      "2023-07-11 16:41:11,781 INFO Welcome to the CDS\n",
      "2023-07-11 16:41:11,782 INFO Sending request to https://cds.climate.copernicus.eu/api/v2/resources/projections-cmip6\n",
      "2023-07-11 16:41:11,867 INFO Request is queued\n"
     ]
    },
    {
     "name": "stdout",
     "output_type": "stream",
     "text": [
      "Some parameters are not matching\n",
      "Test with model access_esm1_5\n",
      "path_for_file does not exist: the data may not have been downloaded\n",
      "file_download does not exist: the data were not downloaded\n"
     ]
    },
    {
     "name": "stderr",
     "output_type": "stream",
     "text": [
      "2023-07-11 16:41:12,923 INFO Request is failed\n",
      "2023-07-11 16:41:12,924 ERROR Message: an internal error occurred processing your request\n",
      "2023-07-11 16:41:12,925 ERROR Reason:  No matching data for request {'experiment': 'ssp534-over', 'model': 'ACCESS-ESM1-5', 'temporal_resolution': 'day', 'variable': 'pr'}\n",
      "2023-07-11 16:41:12,925 ERROR   Traceback (most recent call last):\n",
      "2023-07-11 16:41:12,926 ERROR     File \"/opt/cdstoolbox/cdscompute/cdscompute/cdshandlers/services/handler.py\", line 59, in handle_request\n",
      "2023-07-11 16:41:12,927 ERROR       result = cached(context.method, proc, context, context.args, context.kwargs)\n",
      "2023-07-11 16:41:12,927 ERROR     File \"/opt/cdstoolbox/cdscompute/cdscompute/caching.py\", line 108, in cached\n",
      "2023-07-11 16:41:12,927 ERROR       result = proc(context, *context.args, **context.kwargs)\n",
      "2023-07-11 16:41:12,931 ERROR     File \"/opt/cdstoolbox/cdscompute/cdscompute/services.py\", line 124, in __call__\n",
      "2023-07-11 16:41:12,932 ERROR       return p(*args, **kwargs)\n",
      "2023-07-11 16:41:12,933 ERROR     File \"/opt/cdstoolbox/cdscompute/cdscompute/services.py\", line 60, in __call__\n",
      "2023-07-11 16:41:12,934 ERROR       return self.proc(context, *args, **kwargs)\n",
      "2023-07-11 16:41:12,935 ERROR     File \"/home/cds/cdsservices/services/esgf_wps/__init__.py\", line 30, in execute\n",
      "2023-07-11 16:41:12,936 ERROR       request_facets, request = facets.search(context, request)\n",
      "2023-07-11 16:41:12,936 ERROR     File \"/home/cds/cdsservices/services/esgf_wps/facets.py\", line 61, in search\n",
      "2023-07-11 16:41:12,937 ERROR       raise ValueError(f'No matching data for request {tmp_request}')\n",
      "2023-07-11 16:41:12,937 ERROR   ValueError: No matching data for request {'experiment': 'ssp534-over', 'model': 'ACCESS-ESM1-5', 'temporal_resolution': 'day', 'variable': 'pr'}\n",
      "2023-07-11 16:41:12,991 INFO Welcome to the CDS\n",
      "2023-07-11 16:41:12,993 INFO Sending request to https://cds.climate.copernicus.eu/api/v2/resources/projections-cmip6\n",
      "2023-07-11 16:41:13,058 INFO Request is queued\n"
     ]
    },
    {
     "name": "stdout",
     "output_type": "stream",
     "text": [
      "Some parameters are not matching\n",
      "Test with model awi_esm_1_1_lr\n",
      "path_for_file does not exist: the data may not have been downloaded\n",
      "file_download does not exist: the data were not downloaded\n"
     ]
    },
    {
     "name": "stderr",
     "output_type": "stream",
     "text": [
      "2023-07-11 16:41:14,104 INFO Request is failed\n",
      "2023-07-11 16:41:14,105 ERROR Message: an internal error occurred processing your request\n",
      "2023-07-11 16:41:14,106 ERROR Reason:  No matching data for request {'experiment': 'ssp534-over', 'model': 'AWI-ESM-1-1-LR', 'temporal_resolution': 'day', 'variable': 'pr'}\n",
      "2023-07-11 16:41:14,108 ERROR   Traceback (most recent call last):\n",
      "2023-07-11 16:41:14,109 ERROR     File \"/opt/cdstoolbox/cdscompute/cdscompute/cdshandlers/services/handler.py\", line 59, in handle_request\n",
      "2023-07-11 16:41:14,110 ERROR       result = cached(context.method, proc, context, context.args, context.kwargs)\n",
      "2023-07-11 16:41:14,110 ERROR     File \"/opt/cdstoolbox/cdscompute/cdscompute/caching.py\", line 108, in cached\n",
      "2023-07-11 16:41:14,112 ERROR       result = proc(context, *context.args, **context.kwargs)\n",
      "2023-07-11 16:41:14,114 ERROR     File \"/opt/cdstoolbox/cdscompute/cdscompute/services.py\", line 124, in __call__\n",
      "2023-07-11 16:41:14,115 ERROR       return p(*args, **kwargs)\n",
      "2023-07-11 16:41:14,116 ERROR     File \"/opt/cdstoolbox/cdscompute/cdscompute/services.py\", line 60, in __call__\n",
      "2023-07-11 16:41:14,117 ERROR       return self.proc(context, *args, **kwargs)\n",
      "2023-07-11 16:41:14,118 ERROR     File \"/home/cds/cdsservices/services/esgf_wps/__init__.py\", line 30, in execute\n",
      "2023-07-11 16:41:14,119 ERROR       request_facets, request = facets.search(context, request)\n",
      "2023-07-11 16:41:14,119 ERROR     File \"/home/cds/cdsservices/services/esgf_wps/facets.py\", line 61, in search\n",
      "2023-07-11 16:41:14,120 ERROR       raise ValueError(f'No matching data for request {tmp_request}')\n",
      "2023-07-11 16:41:14,121 ERROR   ValueError: No matching data for request {'experiment': 'ssp534-over', 'model': 'AWI-ESM-1-1-LR', 'temporal_resolution': 'day', 'variable': 'pr'}\n",
      "2023-07-11 16:41:14,158 INFO Welcome to the CDS\n",
      "2023-07-11 16:41:14,159 INFO Sending request to https://cds.climate.copernicus.eu/api/v2/resources/projections-cmip6\n",
      "2023-07-11 16:41:14,207 INFO Request is queued\n"
     ]
    },
    {
     "name": "stdout",
     "output_type": "stream",
     "text": [
      "Some parameters are not matching\n",
      "Test with model bcc_esm1\n",
      "path_for_file does not exist: the data may not have been downloaded\n",
      "file_download does not exist: the data were not downloaded\n"
     ]
    },
    {
     "name": "stderr",
     "output_type": "stream",
     "text": [
      "2023-07-11 16:41:15,254 INFO Request is failed\n",
      "2023-07-11 16:41:15,255 ERROR Message: an internal error occurred processing your request\n",
      "2023-07-11 16:41:15,256 ERROR Reason:  No matching data for request {'experiment': 'ssp534-over', 'model': 'BCC-ESM1', 'temporal_resolution': 'day', 'variable': 'pr'}\n",
      "2023-07-11 16:41:15,256 ERROR   Traceback (most recent call last):\n",
      "2023-07-11 16:41:15,256 ERROR     File \"/opt/cdstoolbox/cdscompute/cdscompute/cdshandlers/services/handler.py\", line 59, in handle_request\n",
      "2023-07-11 16:41:15,258 ERROR       result = cached(context.method, proc, context, context.args, context.kwargs)\n",
      "2023-07-11 16:41:15,258 ERROR     File \"/opt/cdstoolbox/cdscompute/cdscompute/caching.py\", line 108, in cached\n",
      "2023-07-11 16:41:15,259 ERROR       result = proc(context, *context.args, **context.kwargs)\n",
      "2023-07-11 16:41:15,259 ERROR     File \"/opt/cdstoolbox/cdscompute/cdscompute/services.py\", line 124, in __call__\n",
      "2023-07-11 16:41:15,260 ERROR       return p(*args, **kwargs)\n",
      "2023-07-11 16:41:15,260 ERROR     File \"/opt/cdstoolbox/cdscompute/cdscompute/services.py\", line 60, in __call__\n",
      "2023-07-11 16:41:15,261 ERROR       return self.proc(context, *args, **kwargs)\n",
      "2023-07-11 16:41:15,262 ERROR     File \"/home/cds/cdsservices/services/esgf_wps/__init__.py\", line 30, in execute\n",
      "2023-07-11 16:41:15,262 ERROR       request_facets, request = facets.search(context, request)\n",
      "2023-07-11 16:41:15,263 ERROR     File \"/home/cds/cdsservices/services/esgf_wps/facets.py\", line 61, in search\n",
      "2023-07-11 16:41:15,263 ERROR       raise ValueError(f'No matching data for request {tmp_request}')\n",
      "2023-07-11 16:41:15,264 ERROR   ValueError: No matching data for request {'experiment': 'ssp534-over', 'model': 'BCC-ESM1', 'temporal_resolution': 'day', 'variable': 'pr'}\n",
      "2023-07-11 16:41:15,319 INFO Welcome to the CDS\n",
      "2023-07-11 16:41:15,320 INFO Sending request to https://cds.climate.copernicus.eu/api/v2/resources/projections-cmip6\n"
     ]
    },
    {
     "name": "stdout",
     "output_type": "stream",
     "text": [
      "Some parameters are not matching\n",
      "Test with model canesm5\n",
      "path_for_file does not exist: the data may not have been downloaded\n",
      "file_download does not exist: the data were not downloaded\n"
     ]
    },
    {
     "name": "stderr",
     "output_type": "stream",
     "text": [
      "2023-07-11 16:41:15,586 INFO Request is queued\n",
      "2023-07-11 16:41:16,631 INFO Request is running\n",
      "2023-07-11 16:41:48,094 INFO Request is failed\n",
      "2023-07-11 16:41:48,096 ERROR Message: an internal error occurred processing your request\n",
      "2023-07-11 16:41:48,097 ERROR Reason:  Process error: 2015\n",
      "2023-07-11 16:41:48,098 ERROR   Traceback (most recent call last):\n",
      "2023-07-11 16:41:48,099 ERROR     File \"/usr/local/lib/python3.6/site-packages/rooki/results.py\", line 33, in url\n",
      "2023-07-11 16:41:48,099 ERROR       return self.response.get()[0]\n",
      "2023-07-11 16:41:48,100 ERROR     File \"/usr/local/lib/python3.6/site-packages/birdy/client/outputs.py\", line 40, in get\n",
      "2023-07-11 16:41:48,100 ERROR       raise ProcessFailed(\"Sorry, process failed.\")\n",
      "2023-07-11 16:41:48,102 ERROR   birdy.exceptions.ProcessFailed: Sorry, process failed.\n",
      "2023-07-11 16:41:48,172 INFO Welcome to the CDS\n",
      "2023-07-11 16:41:48,173 INFO Sending request to https://cds.climate.copernicus.eu/api/v2/resources/projections-cmip6\n",
      "2023-07-11 16:41:48,235 INFO Request is queued\n"
     ]
    },
    {
     "name": "stdout",
     "output_type": "stream",
     "text": [
      "Some parameters are not matching\n",
      "Test with model cesm2\n",
      "path_for_file does not exist: the data may not have been downloaded\n",
      "file_download does not exist: the data were not downloaded\n"
     ]
    },
    {
     "name": "stderr",
     "output_type": "stream",
     "text": [
      "2023-07-11 16:41:49,287 INFO Request is failed\n",
      "2023-07-11 16:41:49,288 ERROR Message: an internal error occurred processing your request\n",
      "2023-07-11 16:41:49,289 ERROR Reason:  No matching data for request {'experiment': 'ssp534-over', 'model': 'CESM2', 'temporal_resolution': 'day', 'variable': 'pr'}\n",
      "2023-07-11 16:41:49,290 ERROR   Traceback (most recent call last):\n",
      "2023-07-11 16:41:49,291 ERROR     File \"/opt/cdstoolbox/cdscompute/cdscompute/cdshandlers/services/handler.py\", line 59, in handle_request\n",
      "2023-07-11 16:41:49,292 ERROR       result = cached(context.method, proc, context, context.args, context.kwargs)\n",
      "2023-07-11 16:41:49,292 ERROR     File \"/opt/cdstoolbox/cdscompute/cdscompute/caching.py\", line 108, in cached\n",
      "2023-07-11 16:41:49,293 ERROR       result = proc(context, *context.args, **context.kwargs)\n",
      "2023-07-11 16:41:49,293 ERROR     File \"/opt/cdstoolbox/cdscompute/cdscompute/services.py\", line 124, in __call__\n",
      "2023-07-11 16:41:49,293 ERROR       return p(*args, **kwargs)\n",
      "2023-07-11 16:41:49,295 ERROR     File \"/opt/cdstoolbox/cdscompute/cdscompute/services.py\", line 60, in __call__\n",
      "2023-07-11 16:41:49,295 ERROR       return self.proc(context, *args, **kwargs)\n",
      "2023-07-11 16:41:49,296 ERROR     File \"/home/cds/cdsservices/services/esgf_wps/__init__.py\", line 30, in execute\n",
      "2023-07-11 16:41:49,296 ERROR       request_facets, request = facets.search(context, request)\n",
      "2023-07-11 16:41:49,296 ERROR     File \"/home/cds/cdsservices/services/esgf_wps/facets.py\", line 61, in search\n",
      "2023-07-11 16:41:49,298 ERROR       raise ValueError(f'No matching data for request {tmp_request}')\n",
      "2023-07-11 16:41:49,298 ERROR   ValueError: No matching data for request {'experiment': 'ssp534-over', 'model': 'CESM2', 'temporal_resolution': 'day', 'variable': 'pr'}\n",
      "2023-07-11 16:41:49,338 INFO Welcome to the CDS\n",
      "2023-07-11 16:41:49,339 INFO Sending request to https://cds.climate.copernicus.eu/api/v2/resources/projections-cmip6\n",
      "2023-07-11 16:41:49,422 INFO Request is queued\n"
     ]
    },
    {
     "name": "stdout",
     "output_type": "stream",
     "text": [
      "Some parameters are not matching\n",
      "Test with model cesm2_waccm\n",
      "path_for_file does not exist: the data may not have been downloaded\n",
      "file_download does not exist: the data were not downloaded\n"
     ]
    },
    {
     "name": "stderr",
     "output_type": "stream",
     "text": [
      "2023-07-11 16:41:50,468 INFO Request is running\n",
      "2023-07-11 16:42:10,826 INFO Request is failed\n",
      "2023-07-11 16:42:10,827 ERROR Message: an internal error occurred processing your request\n",
      "2023-07-11 16:42:10,828 ERROR Reason:  Process error: 2015\n",
      "2023-07-11 16:42:10,829 ERROR   Traceback (most recent call last):\n",
      "2023-07-11 16:42:10,829 ERROR     File \"/usr/local/lib/python3.6/site-packages/rooki/results.py\", line 33, in url\n",
      "2023-07-11 16:42:10,830 ERROR       return self.response.get()[0]\n",
      "2023-07-11 16:42:10,831 ERROR     File \"/usr/local/lib/python3.6/site-packages/birdy/client/outputs.py\", line 40, in get\n",
      "2023-07-11 16:42:10,831 ERROR       raise ProcessFailed(\"Sorry, process failed.\")\n",
      "2023-07-11 16:42:10,831 ERROR   birdy.exceptions.ProcessFailed: Sorry, process failed.\n",
      "2023-07-11 16:42:10,868 INFO Welcome to the CDS\n",
      "2023-07-11 16:42:10,869 INFO Sending request to https://cds.climate.copernicus.eu/api/v2/resources/projections-cmip6\n",
      "2023-07-11 16:42:10,953 INFO Request is queued\n"
     ]
    },
    {
     "name": "stdout",
     "output_type": "stream",
     "text": [
      "Some parameters are not matching\n",
      "Test with model ciesm\n",
      "path_for_file does not exist: the data may not have been downloaded\n",
      "file_download does not exist: the data were not downloaded\n"
     ]
    },
    {
     "name": "stderr",
     "output_type": "stream",
     "text": [
      "2023-07-11 16:42:11,992 INFO Request is failed\n",
      "2023-07-11 16:42:11,994 ERROR Message: an internal error occurred processing your request\n",
      "2023-07-11 16:42:11,995 ERROR Reason:  No matching data for request {'experiment': 'ssp534-over', 'model': 'CIESM', 'temporal_resolution': 'day', 'variable': 'pr'}\n",
      "2023-07-11 16:42:11,995 ERROR   Traceback (most recent call last):\n",
      "2023-07-11 16:42:11,996 ERROR     File \"/opt/cdstoolbox/cdscompute/cdscompute/cdshandlers/services/handler.py\", line 59, in handle_request\n",
      "2023-07-11 16:42:11,997 ERROR       result = cached(context.method, proc, context, context.args, context.kwargs)\n",
      "2023-07-11 16:42:11,997 ERROR     File \"/opt/cdstoolbox/cdscompute/cdscompute/caching.py\", line 108, in cached\n",
      "2023-07-11 16:42:11,997 ERROR       result = proc(context, *context.args, **context.kwargs)\n",
      "2023-07-11 16:42:11,997 ERROR     File \"/opt/cdstoolbox/cdscompute/cdscompute/services.py\", line 124, in __call__\n",
      "2023-07-11 16:42:11,998 ERROR       return p(*args, **kwargs)\n",
      "2023-07-11 16:42:11,998 ERROR     File \"/opt/cdstoolbox/cdscompute/cdscompute/services.py\", line 60, in __call__\n",
      "2023-07-11 16:42:11,998 ERROR       return self.proc(context, *args, **kwargs)\n",
      "2023-07-11 16:42:11,999 ERROR     File \"/home/cds/cdsservices/services/esgf_wps/__init__.py\", line 30, in execute\n",
      "2023-07-11 16:42:11,999 ERROR       request_facets, request = facets.search(context, request)\n",
      "2023-07-11 16:42:11,999 ERROR     File \"/home/cds/cdsservices/services/esgf_wps/facets.py\", line 61, in search\n",
      "2023-07-11 16:42:12,000 ERROR       raise ValueError(f'No matching data for request {tmp_request}')\n",
      "2023-07-11 16:42:12,000 ERROR   ValueError: No matching data for request {'experiment': 'ssp534-over', 'model': 'CIESM', 'temporal_resolution': 'day', 'variable': 'pr'}\n",
      "2023-07-11 16:42:12,044 INFO Welcome to the CDS\n",
      "2023-07-11 16:42:12,044 INFO Sending request to https://cds.climate.copernicus.eu/api/v2/resources/projections-cmip6\n",
      "2023-07-11 16:42:12,093 INFO Request is queued\n"
     ]
    },
    {
     "name": "stdout",
     "output_type": "stream",
     "text": [
      "Some parameters are not matching\n",
      "Test with model cmcc_cm2_sr5\n",
      "path_for_file does not exist: the data may not have been downloaded\n",
      "file_download does not exist: the data were not downloaded\n"
     ]
    },
    {
     "name": "stderr",
     "output_type": "stream",
     "text": [
      "2023-07-11 16:42:13,141 INFO Request is failed\n",
      "2023-07-11 16:42:13,143 ERROR Message: an internal error occurred processing your request\n",
      "2023-07-11 16:42:13,144 ERROR Reason:  No matching data for request {'experiment': 'ssp534-over', 'model': 'CMCC-CM2-SR5', 'temporal_resolution': 'day', 'variable': 'pr'}\n",
      "2023-07-11 16:42:13,144 ERROR   Traceback (most recent call last):\n",
      "2023-07-11 16:42:13,145 ERROR     File \"/opt/cdstoolbox/cdscompute/cdscompute/cdshandlers/services/handler.py\", line 59, in handle_request\n",
      "2023-07-11 16:42:13,146 ERROR       result = cached(context.method, proc, context, context.args, context.kwargs)\n",
      "2023-07-11 16:42:13,146 ERROR     File \"/opt/cdstoolbox/cdscompute/cdscompute/caching.py\", line 108, in cached\n",
      "2023-07-11 16:42:13,146 ERROR       result = proc(context, *context.args, **context.kwargs)\n",
      "2023-07-11 16:42:13,148 ERROR     File \"/opt/cdstoolbox/cdscompute/cdscompute/services.py\", line 124, in __call__\n",
      "2023-07-11 16:42:13,149 ERROR       return p(*args, **kwargs)\n",
      "2023-07-11 16:42:13,150 ERROR     File \"/opt/cdstoolbox/cdscompute/cdscompute/services.py\", line 60, in __call__\n",
      "2023-07-11 16:42:13,150 ERROR       return self.proc(context, *args, **kwargs)\n",
      "2023-07-11 16:42:13,150 ERROR     File \"/home/cds/cdsservices/services/esgf_wps/__init__.py\", line 30, in execute\n",
      "2023-07-11 16:42:13,151 ERROR       request_facets, request = facets.search(context, request)\n",
      "2023-07-11 16:42:13,152 ERROR     File \"/home/cds/cdsservices/services/esgf_wps/facets.py\", line 61, in search\n",
      "2023-07-11 16:42:13,152 ERROR       raise ValueError(f'No matching data for request {tmp_request}')\n",
      "2023-07-11 16:42:13,153 ERROR   ValueError: No matching data for request {'experiment': 'ssp534-over', 'model': 'CMCC-CM2-SR5', 'temporal_resolution': 'day', 'variable': 'pr'}\n",
      "2023-07-11 16:42:13,186 INFO Welcome to the CDS\n",
      "2023-07-11 16:42:13,186 INFO Sending request to https://cds.climate.copernicus.eu/api/v2/resources/projections-cmip6\n",
      "2023-07-11 16:42:13,237 INFO Request is queued\n"
     ]
    },
    {
     "name": "stdout",
     "output_type": "stream",
     "text": [
      "Some parameters are not matching\n",
      "Test with model cnrm_cm6_1\n",
      "path_for_file does not exist: the data may not have been downloaded\n",
      "file_download does not exist: the data were not downloaded\n"
     ]
    },
    {
     "name": "stderr",
     "output_type": "stream",
     "text": [
      "2023-07-11 16:42:14,287 INFO Request is failed\n",
      "2023-07-11 16:42:14,288 ERROR Message: an internal error occurred processing your request\n",
      "2023-07-11 16:42:14,288 ERROR Reason:  No matching data for request {'experiment': 'ssp534-over', 'model': 'CNRM-CM6-1', 'temporal_resolution': 'day', 'variable': 'pr'}\n",
      "2023-07-11 16:42:14,288 ERROR   Traceback (most recent call last):\n",
      "2023-07-11 16:42:14,289 ERROR     File \"/opt/cdstoolbox/cdscompute/cdscompute/cdshandlers/services/handler.py\", line 59, in handle_request\n",
      "2023-07-11 16:42:14,289 ERROR       result = cached(context.method, proc, context, context.args, context.kwargs)\n",
      "2023-07-11 16:42:14,290 ERROR     File \"/opt/cdstoolbox/cdscompute/cdscompute/caching.py\", line 108, in cached\n",
      "2023-07-11 16:42:14,290 ERROR       result = proc(context, *context.args, **context.kwargs)\n",
      "2023-07-11 16:42:14,291 ERROR     File \"/opt/cdstoolbox/cdscompute/cdscompute/services.py\", line 124, in __call__\n",
      "2023-07-11 16:42:14,291 ERROR       return p(*args, **kwargs)\n",
      "2023-07-11 16:42:14,293 ERROR     File \"/opt/cdstoolbox/cdscompute/cdscompute/services.py\", line 60, in __call__\n",
      "2023-07-11 16:42:14,293 ERROR       return self.proc(context, *args, **kwargs)\n",
      "2023-07-11 16:42:14,294 ERROR     File \"/home/cds/cdsservices/services/esgf_wps/__init__.py\", line 30, in execute\n",
      "2023-07-11 16:42:14,296 ERROR       request_facets, request = facets.search(context, request)\n",
      "2023-07-11 16:42:14,297 ERROR     File \"/home/cds/cdsservices/services/esgf_wps/facets.py\", line 61, in search\n",
      "2023-07-11 16:42:14,297 ERROR       raise ValueError(f'No matching data for request {tmp_request}')\n",
      "2023-07-11 16:42:14,298 ERROR   ValueError: No matching data for request {'experiment': 'ssp534-over', 'model': 'CNRM-CM6-1', 'temporal_resolution': 'day', 'variable': 'pr'}\n",
      "2023-07-11 16:42:14,339 INFO Welcome to the CDS\n",
      "2023-07-11 16:42:14,340 INFO Sending request to https://cds.climate.copernicus.eu/api/v2/resources/projections-cmip6\n",
      "2023-07-11 16:42:14,392 INFO Request is queued\n"
     ]
    },
    {
     "name": "stdout",
     "output_type": "stream",
     "text": [
      "Some parameters are not matching\n",
      "Test with model cnrm_esm2_1\n",
      "path_for_file does not exist: the data may not have been downloaded\n",
      "file_download does not exist: the data were not downloaded\n"
     ]
    },
    {
     "name": "stderr",
     "output_type": "stream",
     "text": [
      "2023-07-11 16:42:15,431 INFO Request is failed\n",
      "2023-07-11 16:42:15,432 ERROR Message: an internal error occurred processing your request\n",
      "2023-07-11 16:42:15,433 ERROR Reason:  No matching data for request {'experiment': 'ssp534-over', 'model': 'CNRM-ESM2-1', 'temporal_resolution': 'day', 'variable': 'pr'}\n",
      "2023-07-11 16:42:15,433 ERROR   Traceback (most recent call last):\n",
      "2023-07-11 16:42:15,434 ERROR     File \"/opt/cdstoolbox/cdscompute/cdscompute/cdshandlers/services/handler.py\", line 59, in handle_request\n",
      "2023-07-11 16:42:15,434 ERROR       result = cached(context.method, proc, context, context.args, context.kwargs)\n",
      "2023-07-11 16:42:15,435 ERROR     File \"/opt/cdstoolbox/cdscompute/cdscompute/caching.py\", line 108, in cached\n",
      "2023-07-11 16:42:15,436 ERROR       result = proc(context, *context.args, **context.kwargs)\n",
      "2023-07-11 16:42:15,436 ERROR     File \"/opt/cdstoolbox/cdscompute/cdscompute/services.py\", line 124, in __call__\n",
      "2023-07-11 16:42:15,437 ERROR       return p(*args, **kwargs)\n",
      "2023-07-11 16:42:15,437 ERROR     File \"/opt/cdstoolbox/cdscompute/cdscompute/services.py\", line 60, in __call__\n",
      "2023-07-11 16:42:15,438 ERROR       return self.proc(context, *args, **kwargs)\n",
      "2023-07-11 16:42:15,438 ERROR     File \"/home/cds/cdsservices/services/esgf_wps/__init__.py\", line 30, in execute\n",
      "2023-07-11 16:42:15,439 ERROR       request_facets, request = facets.search(context, request)\n",
      "2023-07-11 16:42:15,439 ERROR     File \"/home/cds/cdsservices/services/esgf_wps/facets.py\", line 61, in search\n",
      "2023-07-11 16:42:15,440 ERROR       raise ValueError(f'No matching data for request {tmp_request}')\n",
      "2023-07-11 16:42:15,440 ERROR   ValueError: No matching data for request {'experiment': 'ssp534-over', 'model': 'CNRM-ESM2-1', 'temporal_resolution': 'day', 'variable': 'pr'}\n",
      "2023-07-11 16:42:15,478 INFO Welcome to the CDS\n",
      "2023-07-11 16:42:15,479 INFO Sending request to https://cds.climate.copernicus.eu/api/v2/resources/projections-cmip6\n",
      "2023-07-11 16:42:15,565 INFO Request is queued\n"
     ]
    },
    {
     "name": "stdout",
     "output_type": "stream",
     "text": [
      "Some parameters are not matching\n",
      "Test with model e3sm_1_1\n",
      "path_for_file does not exist: the data may not have been downloaded\n",
      "file_download does not exist: the data were not downloaded\n"
     ]
    },
    {
     "name": "stderr",
     "output_type": "stream",
     "text": [
      "2023-07-11 16:42:16,614 INFO Request is failed\n",
      "2023-07-11 16:42:16,615 ERROR Message: an internal error occurred processing your request\n",
      "2023-07-11 16:42:16,615 ERROR Reason:  No matching data for request {'experiment': 'ssp534-over', 'model': 'E3SM-1-1', 'temporal_resolution': 'day', 'variable': 'pr'}\n",
      "2023-07-11 16:42:16,616 ERROR   Traceback (most recent call last):\n",
      "2023-07-11 16:42:16,617 ERROR     File \"/opt/cdstoolbox/cdscompute/cdscompute/cdshandlers/services/handler.py\", line 59, in handle_request\n",
      "2023-07-11 16:42:16,618 ERROR       result = cached(context.method, proc, context, context.args, context.kwargs)\n",
      "2023-07-11 16:42:16,618 ERROR     File \"/opt/cdstoolbox/cdscompute/cdscompute/caching.py\", line 108, in cached\n",
      "2023-07-11 16:42:16,619 ERROR       result = proc(context, *context.args, **context.kwargs)\n",
      "2023-07-11 16:42:16,620 ERROR     File \"/opt/cdstoolbox/cdscompute/cdscompute/services.py\", line 124, in __call__\n",
      "2023-07-11 16:42:16,620 ERROR       return p(*args, **kwargs)\n",
      "2023-07-11 16:42:16,621 ERROR     File \"/opt/cdstoolbox/cdscompute/cdscompute/services.py\", line 60, in __call__\n",
      "2023-07-11 16:42:16,621 ERROR       return self.proc(context, *args, **kwargs)\n",
      "2023-07-11 16:42:16,622 ERROR     File \"/home/cds/cdsservices/services/esgf_wps/__init__.py\", line 30, in execute\n",
      "2023-07-11 16:42:16,622 ERROR       request_facets, request = facets.search(context, request)\n",
      "2023-07-11 16:42:16,623 ERROR     File \"/home/cds/cdsservices/services/esgf_wps/facets.py\", line 61, in search\n",
      "2023-07-11 16:42:16,623 ERROR       raise ValueError(f'No matching data for request {tmp_request}')\n",
      "2023-07-11 16:42:16,624 ERROR   ValueError: No matching data for request {'experiment': 'ssp534-over', 'model': 'E3SM-1-1', 'temporal_resolution': 'day', 'variable': 'pr'}\n",
      "2023-07-11 16:42:16,665 INFO Welcome to the CDS\n",
      "2023-07-11 16:42:16,667 INFO Sending request to https://cds.climate.copernicus.eu/api/v2/resources/projections-cmip6\n",
      "2023-07-11 16:42:16,724 INFO Request is queued\n"
     ]
    },
    {
     "name": "stdout",
     "output_type": "stream",
     "text": [
      "Some parameters are not matching\n",
      "Test with model ec_earth3\n",
      "path_for_file does not exist: the data may not have been downloaded\n",
      "file_download does not exist: the data were not downloaded\n"
     ]
    },
    {
     "name": "stderr",
     "output_type": "stream",
     "text": [
      "2023-07-11 16:42:17,773 INFO Request is running\n",
      "2023-07-11 16:42:49,233 INFO Request is failed\n",
      "2023-07-11 16:42:49,236 ERROR Message: an internal error occurred processing your request\n",
      "2023-07-11 16:42:49,236 ERROR Reason:  Process error: 2015\n",
      "2023-07-11 16:42:49,237 ERROR   Traceback (most recent call last):\n",
      "2023-07-11 16:42:49,238 ERROR     File \"/usr/local/lib/python3.6/site-packages/rooki/results.py\", line 33, in url\n",
      "2023-07-11 16:42:49,238 ERROR       return self.response.get()[0]\n",
      "2023-07-11 16:42:49,239 ERROR     File \"/usr/local/lib/python3.6/site-packages/birdy/client/outputs.py\", line 40, in get\n",
      "2023-07-11 16:42:49,239 ERROR       raise ProcessFailed(\"Sorry, process failed.\")\n",
      "2023-07-11 16:42:49,241 ERROR   birdy.exceptions.ProcessFailed: Sorry, process failed.\n",
      "2023-07-11 16:42:49,278 INFO Welcome to the CDS\n",
      "2023-07-11 16:42:49,278 INFO Sending request to https://cds.climate.copernicus.eu/api/v2/resources/projections-cmip6\n",
      "2023-07-11 16:42:49,336 INFO Request is queued\n"
     ]
    },
    {
     "name": "stdout",
     "output_type": "stream",
     "text": [
      "Some parameters are not matching\n",
      "Test with model ec_earth3_cc\n",
      "path_for_file does not exist: the data may not have been downloaded\n",
      "file_download does not exist: the data were not downloaded\n"
     ]
    },
    {
     "name": "stderr",
     "output_type": "stream",
     "text": [
      "2023-07-11 16:42:50,376 INFO Request is failed\n",
      "2023-07-11 16:42:50,377 ERROR Message: an internal error occurred processing your request\n",
      "2023-07-11 16:42:50,377 ERROR Reason:  No matching data for request {'experiment': 'ssp534-over', 'model': 'EC-Earth3-CC', 'temporal_resolution': 'day', 'variable': 'pr'}\n",
      "2023-07-11 16:42:50,378 ERROR   Traceback (most recent call last):\n",
      "2023-07-11 16:42:50,379 ERROR     File \"/opt/cdstoolbox/cdscompute/cdscompute/cdshandlers/services/handler.py\", line 59, in handle_request\n",
      "2023-07-11 16:42:50,380 ERROR       result = cached(context.method, proc, context, context.args, context.kwargs)\n",
      "2023-07-11 16:42:50,381 ERROR     File \"/opt/cdstoolbox/cdscompute/cdscompute/caching.py\", line 108, in cached\n",
      "2023-07-11 16:42:50,381 ERROR       result = proc(context, *context.args, **context.kwargs)\n",
      "2023-07-11 16:42:50,382 ERROR     File \"/opt/cdstoolbox/cdscompute/cdscompute/services.py\", line 124, in __call__\n",
      "2023-07-11 16:42:50,382 ERROR       return p(*args, **kwargs)\n",
      "2023-07-11 16:42:50,383 ERROR     File \"/opt/cdstoolbox/cdscompute/cdscompute/services.py\", line 60, in __call__\n",
      "2023-07-11 16:42:50,383 ERROR       return self.proc(context, *args, **kwargs)\n",
      "2023-07-11 16:42:50,384 ERROR     File \"/home/cds/cdsservices/services/esgf_wps/__init__.py\", line 30, in execute\n",
      "2023-07-11 16:42:50,384 ERROR       request_facets, request = facets.search(context, request)\n",
      "2023-07-11 16:42:50,385 ERROR     File \"/home/cds/cdsservices/services/esgf_wps/facets.py\", line 61, in search\n",
      "2023-07-11 16:42:50,385 ERROR       raise ValueError(f'No matching data for request {tmp_request}')\n",
      "2023-07-11 16:42:50,386 ERROR   ValueError: No matching data for request {'experiment': 'ssp534-over', 'model': 'EC-Earth3-CC', 'temporal_resolution': 'day', 'variable': 'pr'}\n",
      "2023-07-11 16:42:50,419 INFO Welcome to the CDS\n",
      "2023-07-11 16:42:50,420 INFO Sending request to https://cds.climate.copernicus.eu/api/v2/resources/projections-cmip6\n",
      "2023-07-11 16:42:50,461 INFO Request is queued\n"
     ]
    },
    {
     "name": "stdout",
     "output_type": "stream",
     "text": [
      "Some parameters are not matching\n",
      "Test with model ec_earth3_veg_lr\n",
      "path_for_file does not exist: the data may not have been downloaded\n",
      "file_download does not exist: the data were not downloaded\n"
     ]
    },
    {
     "name": "stderr",
     "output_type": "stream",
     "text": [
      "2023-07-11 16:42:51,511 INFO Request is failed\n",
      "2023-07-11 16:42:51,512 ERROR Message: an internal error occurred processing your request\n",
      "2023-07-11 16:42:51,513 ERROR Reason:  No matching data for request {'experiment': 'ssp534-over', 'model': 'EC-Earth3-Veg-LR', 'temporal_resolution': 'day', 'variable': 'pr'}\n",
      "2023-07-11 16:42:51,514 ERROR   Traceback (most recent call last):\n",
      "2023-07-11 16:42:51,514 ERROR     File \"/opt/cdstoolbox/cdscompute/cdscompute/cdshandlers/services/handler.py\", line 59, in handle_request\n",
      "2023-07-11 16:42:51,515 ERROR       result = cached(context.method, proc, context, context.args, context.kwargs)\n",
      "2023-07-11 16:42:51,516 ERROR     File \"/opt/cdstoolbox/cdscompute/cdscompute/caching.py\", line 108, in cached\n",
      "2023-07-11 16:42:51,516 ERROR       result = proc(context, *context.args, **context.kwargs)\n",
      "2023-07-11 16:42:51,517 ERROR     File \"/opt/cdstoolbox/cdscompute/cdscompute/services.py\", line 124, in __call__\n",
      "2023-07-11 16:42:51,518 ERROR       return p(*args, **kwargs)\n",
      "2023-07-11 16:42:51,519 ERROR     File \"/opt/cdstoolbox/cdscompute/cdscompute/services.py\", line 60, in __call__\n",
      "2023-07-11 16:42:51,519 ERROR       return self.proc(context, *args, **kwargs)\n",
      "2023-07-11 16:42:51,520 ERROR     File \"/home/cds/cdsservices/services/esgf_wps/__init__.py\", line 30, in execute\n",
      "2023-07-11 16:42:51,521 ERROR       request_facets, request = facets.search(context, request)\n",
      "2023-07-11 16:42:51,521 ERROR     File \"/home/cds/cdsservices/services/esgf_wps/facets.py\", line 61, in search\n",
      "2023-07-11 16:42:51,522 ERROR       raise ValueError(f'No matching data for request {tmp_request}')\n",
      "2023-07-11 16:42:51,522 ERROR   ValueError: No matching data for request {'experiment': 'ssp534-over', 'model': 'EC-Earth3-Veg-LR', 'temporal_resolution': 'day', 'variable': 'pr'}\n",
      "2023-07-11 16:42:51,558 INFO Welcome to the CDS\n",
      "2023-07-11 16:42:51,560 INFO Sending request to https://cds.climate.copernicus.eu/api/v2/resources/projections-cmip6\n",
      "2023-07-11 16:42:51,622 INFO Request is queued\n"
     ]
    },
    {
     "name": "stdout",
     "output_type": "stream",
     "text": [
      "Some parameters are not matching\n",
      "Test with model fgoals_g3\n",
      "path_for_file does not exist: the data may not have been downloaded\n",
      "file_download does not exist: the data were not downloaded\n"
     ]
    },
    {
     "name": "stderr",
     "output_type": "stream",
     "text": [
      "2023-07-11 16:42:52,671 INFO Request is failed\n",
      "2023-07-11 16:42:52,673 ERROR Message: an internal error occurred processing your request\n",
      "2023-07-11 16:42:52,674 ERROR Reason:  No matching data for request {'experiment': 'ssp534-over', 'model': 'FGOALS-g3', 'temporal_resolution': 'day', 'variable': 'pr'}\n",
      "2023-07-11 16:42:52,676 ERROR   Traceback (most recent call last):\n",
      "2023-07-11 16:42:52,676 ERROR     File \"/opt/cdstoolbox/cdscompute/cdscompute/cdshandlers/services/handler.py\", line 59, in handle_request\n",
      "2023-07-11 16:42:52,676 ERROR       result = cached(context.method, proc, context, context.args, context.kwargs)\n",
      "2023-07-11 16:42:52,677 ERROR     File \"/opt/cdstoolbox/cdscompute/cdscompute/caching.py\", line 108, in cached\n",
      "2023-07-11 16:42:52,678 ERROR       result = proc(context, *context.args, **context.kwargs)\n",
      "2023-07-11 16:42:52,679 ERROR     File \"/opt/cdstoolbox/cdscompute/cdscompute/services.py\", line 124, in __call__\n",
      "2023-07-11 16:42:52,680 ERROR       return p(*args, **kwargs)\n",
      "2023-07-11 16:42:52,680 ERROR     File \"/opt/cdstoolbox/cdscompute/cdscompute/services.py\", line 60, in __call__\n",
      "2023-07-11 16:42:52,680 ERROR       return self.proc(context, *args, **kwargs)\n",
      "2023-07-11 16:42:52,682 ERROR     File \"/home/cds/cdsservices/services/esgf_wps/__init__.py\", line 30, in execute\n",
      "2023-07-11 16:42:52,682 ERROR       request_facets, request = facets.search(context, request)\n",
      "2023-07-11 16:42:52,682 ERROR     File \"/home/cds/cdsservices/services/esgf_wps/facets.py\", line 61, in search\n",
      "2023-07-11 16:42:52,683 ERROR       raise ValueError(f'No matching data for request {tmp_request}')\n",
      "2023-07-11 16:42:52,683 ERROR   ValueError: No matching data for request {'experiment': 'ssp534-over', 'model': 'FGOALS-g3', 'temporal_resolution': 'day', 'variable': 'pr'}\n",
      "2023-07-11 16:42:52,718 INFO Welcome to the CDS\n",
      "2023-07-11 16:42:52,719 INFO Sending request to https://cds.climate.copernicus.eu/api/v2/resources/projections-cmip6\n",
      "2023-07-11 16:42:52,847 INFO Request is queued\n"
     ]
    },
    {
     "name": "stdout",
     "output_type": "stream",
     "text": [
      "Some parameters are not matching\n",
      "Test with model gfdl_esm4\n",
      "path_for_file does not exist: the data may not have been downloaded\n",
      "file_download does not exist: the data were not downloaded\n"
     ]
    },
    {
     "name": "stderr",
     "output_type": "stream",
     "text": [
      "2023-07-11 16:43:01,471 INFO Request is failed\n",
      "2023-07-11 16:43:01,472 ERROR Message: an internal error occurred processing your request\n",
      "2023-07-11 16:43:01,473 ERROR Reason:  No matching data for request {'experiment': 'ssp534-over', 'model': 'GFDL-ESM4', 'temporal_resolution': 'day', 'variable': 'pr'}\n",
      "2023-07-11 16:43:01,474 ERROR   Traceback (most recent call last):\n",
      "2023-07-11 16:43:01,474 ERROR     File \"/opt/cdstoolbox/cdscompute/cdscompute/cdshandlers/services/handler.py\", line 59, in handle_request\n",
      "2023-07-11 16:43:01,475 ERROR       result = cached(context.method, proc, context, context.args, context.kwargs)\n",
      "2023-07-11 16:43:01,476 ERROR     File \"/opt/cdstoolbox/cdscompute/cdscompute/caching.py\", line 108, in cached\n",
      "2023-07-11 16:43:01,476 ERROR       result = proc(context, *context.args, **context.kwargs)\n",
      "2023-07-11 16:43:01,477 ERROR     File \"/opt/cdstoolbox/cdscompute/cdscompute/services.py\", line 124, in __call__\n",
      "2023-07-11 16:43:01,478 ERROR       return p(*args, **kwargs)\n",
      "2023-07-11 16:43:01,479 ERROR     File \"/opt/cdstoolbox/cdscompute/cdscompute/services.py\", line 60, in __call__\n",
      "2023-07-11 16:43:01,480 ERROR       return self.proc(context, *args, **kwargs)\n",
      "2023-07-11 16:43:01,480 ERROR     File \"/home/cds/cdsservices/services/esgf_wps/__init__.py\", line 30, in execute\n",
      "2023-07-11 16:43:01,480 ERROR       request_facets, request = facets.search(context, request)\n",
      "2023-07-11 16:43:01,481 ERROR     File \"/home/cds/cdsservices/services/esgf_wps/facets.py\", line 61, in search\n",
      "2023-07-11 16:43:01,481 ERROR       raise ValueError(f'No matching data for request {tmp_request}')\n",
      "2023-07-11 16:43:01,482 ERROR   ValueError: No matching data for request {'experiment': 'ssp534-over', 'model': 'GFDL-ESM4', 'temporal_resolution': 'day', 'variable': 'pr'}\n",
      "2023-07-11 16:43:01,516 INFO Welcome to the CDS\n",
      "2023-07-11 16:43:01,517 INFO Sending request to https://cds.climate.copernicus.eu/api/v2/resources/projections-cmip6\n",
      "2023-07-11 16:43:01,557 INFO Request is queued\n"
     ]
    },
    {
     "name": "stdout",
     "output_type": "stream",
     "text": [
      "Some parameters are not matching\n",
      "Test with model giss_e2_1_h\n",
      "path_for_file does not exist: the data may not have been downloaded\n",
      "file_download does not exist: the data were not downloaded\n"
     ]
    },
    {
     "name": "stderr",
     "output_type": "stream",
     "text": [
      "2023-07-11 16:43:04,141 INFO Request is failed\n",
      "2023-07-11 16:43:04,143 ERROR Message: an internal error occurred processing your request\n",
      "2023-07-11 16:43:04,143 ERROR Reason:  No matching data for request {'experiment': 'ssp534-over', 'model': 'GISS-E2-1-H', 'temporal_resolution': 'day', 'variable': 'pr'}\n",
      "2023-07-11 16:43:04,143 ERROR   Traceback (most recent call last):\n",
      "2023-07-11 16:43:04,143 ERROR     File \"/opt/cdstoolbox/cdscompute/cdscompute/cdshandlers/services/handler.py\", line 59, in handle_request\n",
      "2023-07-11 16:43:04,144 ERROR       result = cached(context.method, proc, context, context.args, context.kwargs)\n",
      "2023-07-11 16:43:04,145 ERROR     File \"/opt/cdstoolbox/cdscompute/cdscompute/caching.py\", line 108, in cached\n",
      "2023-07-11 16:43:04,145 ERROR       result = proc(context, *context.args, **context.kwargs)\n",
      "2023-07-11 16:43:04,145 ERROR     File \"/opt/cdstoolbox/cdscompute/cdscompute/services.py\", line 124, in __call__\n",
      "2023-07-11 16:43:04,146 ERROR       return p(*args, **kwargs)\n",
      "2023-07-11 16:43:04,146 ERROR     File \"/opt/cdstoolbox/cdscompute/cdscompute/services.py\", line 60, in __call__\n",
      "2023-07-11 16:43:04,147 ERROR       return self.proc(context, *args, **kwargs)\n",
      "2023-07-11 16:43:04,147 ERROR     File \"/home/cds/cdsservices/services/esgf_wps/__init__.py\", line 30, in execute\n",
      "2023-07-11 16:43:04,148 ERROR       request_facets, request = facets.search(context, request)\n",
      "2023-07-11 16:43:04,148 ERROR     File \"/home/cds/cdsservices/services/esgf_wps/facets.py\", line 61, in search\n",
      "2023-07-11 16:43:04,149 ERROR       raise ValueError(f'No matching data for request {tmp_request}')\n",
      "2023-07-11 16:43:04,149 ERROR   ValueError: No matching data for request {'experiment': 'ssp534-over', 'model': 'GISS-E2-1-H', 'temporal_resolution': 'day', 'variable': 'pr'}\n",
      "2023-07-11 16:43:04,185 INFO Welcome to the CDS\n",
      "2023-07-11 16:43:04,186 INFO Sending request to https://cds.climate.copernicus.eu/api/v2/resources/projections-cmip6\n",
      "2023-07-11 16:43:04,283 INFO Request is queued\n"
     ]
    },
    {
     "name": "stdout",
     "output_type": "stream",
     "text": [
      "Some parameters are not matching\n",
      "Test with model hadgem3_gc31_mm\n",
      "path_for_file does not exist: the data may not have been downloaded\n",
      "file_download does not exist: the data were not downloaded\n"
     ]
    },
    {
     "name": "stderr",
     "output_type": "stream",
     "text": [
      "2023-07-11 16:43:05,332 INFO Request is failed\n",
      "2023-07-11 16:43:05,333 ERROR Message: an internal error occurred processing your request\n",
      "2023-07-11 16:43:05,334 ERROR Reason:  No matching data for request {'experiment': 'ssp534-over', 'model': 'HadGEM3-GC31-MM', 'temporal_resolution': 'day', 'variable': 'pr'}\n",
      "2023-07-11 16:43:05,335 ERROR   Traceback (most recent call last):\n",
      "2023-07-11 16:43:05,335 ERROR     File \"/opt/cdstoolbox/cdscompute/cdscompute/cdshandlers/services/handler.py\", line 59, in handle_request\n",
      "2023-07-11 16:43:05,336 ERROR       result = cached(context.method, proc, context, context.args, context.kwargs)\n",
      "2023-07-11 16:43:05,336 ERROR     File \"/opt/cdstoolbox/cdscompute/cdscompute/caching.py\", line 108, in cached\n",
      "2023-07-11 16:43:05,337 ERROR       result = proc(context, *context.args, **context.kwargs)\n",
      "2023-07-11 16:43:05,338 ERROR     File \"/opt/cdstoolbox/cdscompute/cdscompute/services.py\", line 124, in __call__\n",
      "2023-07-11 16:43:05,339 ERROR       return p(*args, **kwargs)\n",
      "2023-07-11 16:43:05,339 ERROR     File \"/opt/cdstoolbox/cdscompute/cdscompute/services.py\", line 60, in __call__\n",
      "2023-07-11 16:43:05,340 ERROR       return self.proc(context, *args, **kwargs)\n",
      "2023-07-11 16:43:05,341 ERROR     File \"/home/cds/cdsservices/services/esgf_wps/__init__.py\", line 30, in execute\n",
      "2023-07-11 16:43:05,341 ERROR       request_facets, request = facets.search(context, request)\n",
      "2023-07-11 16:43:05,342 ERROR     File \"/home/cds/cdsservices/services/esgf_wps/facets.py\", line 61, in search\n",
      "2023-07-11 16:43:05,343 ERROR       raise ValueError(f'No matching data for request {tmp_request}')\n",
      "2023-07-11 16:43:05,344 ERROR   ValueError: No matching data for request {'experiment': 'ssp534-over', 'model': 'HadGEM3-GC31-MM', 'temporal_resolution': 'day', 'variable': 'pr'}\n",
      "2023-07-11 16:43:05,382 INFO Welcome to the CDS\n",
      "2023-07-11 16:43:05,383 INFO Sending request to https://cds.climate.copernicus.eu/api/v2/resources/projections-cmip6\n",
      "2023-07-11 16:43:05,425 INFO Request is queued\n"
     ]
    },
    {
     "name": "stdout",
     "output_type": "stream",
     "text": [
      "Some parameters are not matching\n",
      "Test with model inm_cm4_8\n",
      "path_for_file does not exist: the data may not have been downloaded\n",
      "file_download does not exist: the data were not downloaded\n"
     ]
    },
    {
     "name": "stderr",
     "output_type": "stream",
     "text": [
      "2023-07-11 16:43:06,469 INFO Request is failed\n",
      "2023-07-11 16:43:06,470 ERROR Message: an internal error occurred processing your request\n",
      "2023-07-11 16:43:06,471 ERROR Reason:  No matching data for request {'experiment': 'ssp534-over', 'model': 'INM-CM4-8', 'temporal_resolution': 'day', 'variable': 'pr'}\n",
      "2023-07-11 16:43:06,471 ERROR   Traceback (most recent call last):\n",
      "2023-07-11 16:43:06,472 ERROR     File \"/opt/cdstoolbox/cdscompute/cdscompute/cdshandlers/services/handler.py\", line 59, in handle_request\n",
      "2023-07-11 16:43:06,473 ERROR       result = cached(context.method, proc, context, context.args, context.kwargs)\n",
      "2023-07-11 16:43:06,473 ERROR     File \"/opt/cdstoolbox/cdscompute/cdscompute/caching.py\", line 108, in cached\n",
      "2023-07-11 16:43:06,473 ERROR       result = proc(context, *context.args, **context.kwargs)\n",
      "2023-07-11 16:43:06,474 ERROR     File \"/opt/cdstoolbox/cdscompute/cdscompute/services.py\", line 124, in __call__\n",
      "2023-07-11 16:43:06,474 ERROR       return p(*args, **kwargs)\n",
      "2023-07-11 16:43:06,475 ERROR     File \"/opt/cdstoolbox/cdscompute/cdscompute/services.py\", line 60, in __call__\n",
      "2023-07-11 16:43:06,475 ERROR       return self.proc(context, *args, **kwargs)\n",
      "2023-07-11 16:43:06,476 ERROR     File \"/home/cds/cdsservices/services/esgf_wps/__init__.py\", line 30, in execute\n",
      "2023-07-11 16:43:06,477 ERROR       request_facets, request = facets.search(context, request)\n",
      "2023-07-11 16:43:06,477 ERROR     File \"/home/cds/cdsservices/services/esgf_wps/facets.py\", line 61, in search\n",
      "2023-07-11 16:43:06,478 ERROR       raise ValueError(f'No matching data for request {tmp_request}')\n",
      "2023-07-11 16:43:06,480 ERROR   ValueError: No matching data for request {'experiment': 'ssp534-over', 'model': 'INM-CM4-8', 'temporal_resolution': 'day', 'variable': 'pr'}\n",
      "2023-07-11 16:43:06,516 INFO Welcome to the CDS\n",
      "2023-07-11 16:43:06,516 INFO Sending request to https://cds.climate.copernicus.eu/api/v2/resources/projections-cmip6\n",
      "2023-07-11 16:43:06,619 INFO Request is queued\n"
     ]
    },
    {
     "name": "stdout",
     "output_type": "stream",
     "text": [
      "Some parameters are not matching\n",
      "Test with model ipsl_cm5a2_inca\n",
      "path_for_file does not exist: the data may not have been downloaded\n",
      "file_download does not exist: the data were not downloaded\n"
     ]
    },
    {
     "name": "stderr",
     "output_type": "stream",
     "text": [
      "2023-07-11 16:43:07,653 INFO Request is failed\n",
      "2023-07-11 16:43:07,655 ERROR Message: an internal error occurred processing your request\n",
      "2023-07-11 16:43:07,655 ERROR Reason:  No matching data for request {'experiment': 'ssp534-over', 'model': 'IPSL-CM5A2-INCA', 'temporal_resolution': 'day', 'variable': 'pr'}\n",
      "2023-07-11 16:43:07,656 ERROR   Traceback (most recent call last):\n",
      "2023-07-11 16:43:07,657 ERROR     File \"/opt/cdstoolbox/cdscompute/cdscompute/cdshandlers/services/handler.py\", line 59, in handle_request\n",
      "2023-07-11 16:43:07,657 ERROR       result = cached(context.method, proc, context, context.args, context.kwargs)\n",
      "2023-07-11 16:43:07,658 ERROR     File \"/opt/cdstoolbox/cdscompute/cdscompute/caching.py\", line 108, in cached\n",
      "2023-07-11 16:43:07,659 ERROR       result = proc(context, *context.args, **context.kwargs)\n",
      "2023-07-11 16:43:07,659 ERROR     File \"/opt/cdstoolbox/cdscompute/cdscompute/services.py\", line 124, in __call__\n",
      "2023-07-11 16:43:07,660 ERROR       return p(*args, **kwargs)\n",
      "2023-07-11 16:43:07,660 ERROR     File \"/opt/cdstoolbox/cdscompute/cdscompute/services.py\", line 60, in __call__\n",
      "2023-07-11 16:43:07,661 ERROR       return self.proc(context, *args, **kwargs)\n",
      "2023-07-11 16:43:07,662 ERROR     File \"/home/cds/cdsservices/services/esgf_wps/__init__.py\", line 30, in execute\n",
      "2023-07-11 16:43:07,662 ERROR       request_facets, request = facets.search(context, request)\n",
      "2023-07-11 16:43:07,663 ERROR     File \"/home/cds/cdsservices/services/esgf_wps/facets.py\", line 61, in search\n",
      "2023-07-11 16:43:07,663 ERROR       raise ValueError(f'No matching data for request {tmp_request}')\n",
      "2023-07-11 16:43:07,664 ERROR   ValueError: No matching data for request {'experiment': 'ssp534-over', 'model': 'IPSL-CM5A2-INCA', 'temporal_resolution': 'day', 'variable': 'pr'}\n",
      "2023-07-11 16:43:07,701 INFO Welcome to the CDS\n",
      "2023-07-11 16:43:07,702 INFO Sending request to https://cds.climate.copernicus.eu/api/v2/resources/projections-cmip6\n",
      "2023-07-11 16:43:07,768 INFO Request is queued\n"
     ]
    },
    {
     "name": "stdout",
     "output_type": "stream",
     "text": [
      "Some parameters are not matching\n",
      "Test with model kace_1_0_g\n",
      "path_for_file does not exist: the data may not have been downloaded\n",
      "file_download does not exist: the data were not downloaded\n"
     ]
    },
    {
     "name": "stderr",
     "output_type": "stream",
     "text": [
      "2023-07-11 16:43:08,817 INFO Request is failed\n",
      "2023-07-11 16:43:08,817 ERROR Message: an internal error occurred processing your request\n",
      "2023-07-11 16:43:08,818 ERROR Reason:  No matching data for request {'experiment': 'ssp534-over', 'model': 'KACE-1-0-G', 'temporal_resolution': 'day', 'variable': 'pr'}\n",
      "2023-07-11 16:43:08,819 ERROR   Traceback (most recent call last):\n",
      "2023-07-11 16:43:08,820 ERROR     File \"/opt/cdstoolbox/cdscompute/cdscompute/cdshandlers/services/handler.py\", line 59, in handle_request\n",
      "2023-07-11 16:43:08,821 ERROR       result = cached(context.method, proc, context, context.args, context.kwargs)\n",
      "2023-07-11 16:43:08,821 ERROR     File \"/opt/cdstoolbox/cdscompute/cdscompute/caching.py\", line 108, in cached\n",
      "2023-07-11 16:43:08,822 ERROR       result = proc(context, *context.args, **context.kwargs)\n",
      "2023-07-11 16:43:08,823 ERROR     File \"/opt/cdstoolbox/cdscompute/cdscompute/services.py\", line 124, in __call__\n",
      "2023-07-11 16:43:08,823 ERROR       return p(*args, **kwargs)\n",
      "2023-07-11 16:43:08,824 ERROR     File \"/opt/cdstoolbox/cdscompute/cdscompute/services.py\", line 60, in __call__\n",
      "2023-07-11 16:43:08,825 ERROR       return self.proc(context, *args, **kwargs)\n",
      "2023-07-11 16:43:08,827 ERROR     File \"/home/cds/cdsservices/services/esgf_wps/__init__.py\", line 30, in execute\n",
      "2023-07-11 16:43:08,828 ERROR       request_facets, request = facets.search(context, request)\n",
      "2023-07-11 16:43:08,828 ERROR     File \"/home/cds/cdsservices/services/esgf_wps/facets.py\", line 61, in search\n",
      "2023-07-11 16:43:08,829 ERROR       raise ValueError(f'No matching data for request {tmp_request}')\n",
      "2023-07-11 16:43:08,830 ERROR   ValueError: No matching data for request {'experiment': 'ssp534-over', 'model': 'KACE-1-0-G', 'temporal_resolution': 'day', 'variable': 'pr'}\n",
      "2023-07-11 16:43:08,868 INFO Welcome to the CDS\n",
      "2023-07-11 16:43:08,870 INFO Sending request to https://cds.climate.copernicus.eu/api/v2/resources/projections-cmip6\n",
      "2023-07-11 16:43:08,909 INFO Request is queued\n"
     ]
    },
    {
     "name": "stdout",
     "output_type": "stream",
     "text": [
      "Some parameters are not matching\n",
      "Test with model mcm_ua_1_0\n",
      "path_for_file does not exist: the data may not have been downloaded\n",
      "file_download does not exist: the data were not downloaded\n"
     ]
    },
    {
     "name": "stderr",
     "output_type": "stream",
     "text": [
      "2023-07-11 16:43:09,951 INFO Request is failed\n",
      "2023-07-11 16:43:09,952 ERROR Message: an internal error occurred processing your request\n",
      "2023-07-11 16:43:09,952 ERROR Reason:  No matching data for request {'experiment': 'ssp534-over', 'model': 'MCM-UA-1-0', 'temporal_resolution': 'day', 'variable': 'pr'}\n",
      "2023-07-11 16:43:09,953 ERROR   Traceback (most recent call last):\n",
      "2023-07-11 16:43:09,954 ERROR     File \"/opt/cdstoolbox/cdscompute/cdscompute/cdshandlers/services/handler.py\", line 59, in handle_request\n",
      "2023-07-11 16:43:09,954 ERROR       result = cached(context.method, proc, context, context.args, context.kwargs)\n",
      "2023-07-11 16:43:09,955 ERROR     File \"/opt/cdstoolbox/cdscompute/cdscompute/caching.py\", line 108, in cached\n",
      "2023-07-11 16:43:09,955 ERROR       result = proc(context, *context.args, **context.kwargs)\n",
      "2023-07-11 16:43:09,956 ERROR     File \"/opt/cdstoolbox/cdscompute/cdscompute/services.py\", line 124, in __call__\n",
      "2023-07-11 16:43:09,957 ERROR       return p(*args, **kwargs)\n",
      "2023-07-11 16:43:09,957 ERROR     File \"/opt/cdstoolbox/cdscompute/cdscompute/services.py\", line 60, in __call__\n",
      "2023-07-11 16:43:09,957 ERROR       return self.proc(context, *args, **kwargs)\n",
      "2023-07-11 16:43:09,958 ERROR     File \"/home/cds/cdsservices/services/esgf_wps/__init__.py\", line 30, in execute\n",
      "2023-07-11 16:43:09,959 ERROR       request_facets, request = facets.search(context, request)\n",
      "2023-07-11 16:43:09,959 ERROR     File \"/home/cds/cdsservices/services/esgf_wps/facets.py\", line 61, in search\n",
      "2023-07-11 16:43:09,960 ERROR       raise ValueError(f'No matching data for request {tmp_request}')\n",
      "2023-07-11 16:43:09,961 ERROR   ValueError: No matching data for request {'experiment': 'ssp534-over', 'model': 'MCM-UA-1-0', 'temporal_resolution': 'day', 'variable': 'pr'}\n",
      "2023-07-11 16:43:09,996 INFO Welcome to the CDS\n",
      "2023-07-11 16:43:09,996 INFO Sending request to https://cds.climate.copernicus.eu/api/v2/resources/projections-cmip6\n",
      "2023-07-11 16:43:10,048 INFO Request is queued\n"
     ]
    },
    {
     "name": "stdout",
     "output_type": "stream",
     "text": [
      "Some parameters are not matching\n",
      "Test with model miroc_es2h\n",
      "path_for_file does not exist: the data may not have been downloaded\n",
      "file_download does not exist: the data were not downloaded\n"
     ]
    },
    {
     "name": "stderr",
     "output_type": "stream",
     "text": [
      "2023-07-11 16:43:11,089 INFO Request is failed\n",
      "2023-07-11 16:43:11,090 ERROR Message: an internal error occurred processing your request\n",
      "2023-07-11 16:43:11,090 ERROR Reason:  No matching data for request {'experiment': 'ssp534-over', 'model': 'MIROC-ES2H', 'temporal_resolution': 'day', 'variable': 'pr'}\n",
      "2023-07-11 16:43:11,091 ERROR   Traceback (most recent call last):\n",
      "2023-07-11 16:43:11,092 ERROR     File \"/opt/cdstoolbox/cdscompute/cdscompute/cdshandlers/services/handler.py\", line 59, in handle_request\n",
      "2023-07-11 16:43:11,092 ERROR       result = cached(context.method, proc, context, context.args, context.kwargs)\n",
      "2023-07-11 16:43:11,093 ERROR     File \"/opt/cdstoolbox/cdscompute/cdscompute/caching.py\", line 108, in cached\n",
      "2023-07-11 16:43:11,094 ERROR       result = proc(context, *context.args, **context.kwargs)\n",
      "2023-07-11 16:43:11,095 ERROR     File \"/opt/cdstoolbox/cdscompute/cdscompute/services.py\", line 124, in __call__\n",
      "2023-07-11 16:43:11,095 ERROR       return p(*args, **kwargs)\n",
      "2023-07-11 16:43:11,096 ERROR     File \"/opt/cdstoolbox/cdscompute/cdscompute/services.py\", line 60, in __call__\n",
      "2023-07-11 16:43:11,097 ERROR       return self.proc(context, *args, **kwargs)\n",
      "2023-07-11 16:43:11,098 ERROR     File \"/home/cds/cdsservices/services/esgf_wps/__init__.py\", line 30, in execute\n",
      "2023-07-11 16:43:11,098 ERROR       request_facets, request = facets.search(context, request)\n",
      "2023-07-11 16:43:11,099 ERROR     File \"/home/cds/cdsservices/services/esgf_wps/facets.py\", line 61, in search\n",
      "2023-07-11 16:43:11,100 ERROR       raise ValueError(f'No matching data for request {tmp_request}')\n",
      "2023-07-11 16:43:11,100 ERROR   ValueError: No matching data for request {'experiment': 'ssp534-over', 'model': 'MIROC-ES2H', 'temporal_resolution': 'day', 'variable': 'pr'}\n",
      "2023-07-11 16:43:11,136 INFO Welcome to the CDS\n",
      "2023-07-11 16:43:11,137 INFO Sending request to https://cds.climate.copernicus.eu/api/v2/resources/projections-cmip6\n",
      "2023-07-11 16:43:11,209 INFO Request is queued\n"
     ]
    },
    {
     "name": "stdout",
     "output_type": "stream",
     "text": [
      "Some parameters are not matching\n",
      "Test with model mpi_esm_1_2_ham\n",
      "path_for_file does not exist: the data may not have been downloaded\n",
      "file_download does not exist: the data were not downloaded\n"
     ]
    },
    {
     "name": "stderr",
     "output_type": "stream",
     "text": [
      "2023-07-11 16:43:12,251 INFO Request is failed\n",
      "2023-07-11 16:43:12,253 ERROR Message: an internal error occurred processing your request\n",
      "2023-07-11 16:43:12,254 ERROR Reason:  No matching data for request {'experiment': 'ssp534-over', 'model': 'MPI-ESM-1-2-HAM', 'temporal_resolution': 'day', 'variable': 'pr'}\n",
      "2023-07-11 16:43:12,255 ERROR   Traceback (most recent call last):\n",
      "2023-07-11 16:43:12,256 ERROR     File \"/opt/cdstoolbox/cdscompute/cdscompute/cdshandlers/services/handler.py\", line 59, in handle_request\n",
      "2023-07-11 16:43:12,256 ERROR       result = cached(context.method, proc, context, context.args, context.kwargs)\n",
      "2023-07-11 16:43:12,256 ERROR     File \"/opt/cdstoolbox/cdscompute/cdscompute/caching.py\", line 108, in cached\n",
      "2023-07-11 16:43:12,258 ERROR       result = proc(context, *context.args, **context.kwargs)\n",
      "2023-07-11 16:43:12,259 ERROR     File \"/opt/cdstoolbox/cdscompute/cdscompute/services.py\", line 124, in __call__\n",
      "2023-07-11 16:43:12,259 ERROR       return p(*args, **kwargs)\n",
      "2023-07-11 16:43:12,260 ERROR     File \"/opt/cdstoolbox/cdscompute/cdscompute/services.py\", line 60, in __call__\n",
      "2023-07-11 16:43:12,262 ERROR       return self.proc(context, *args, **kwargs)\n",
      "2023-07-11 16:43:12,263 ERROR     File \"/home/cds/cdsservices/services/esgf_wps/__init__.py\", line 30, in execute\n",
      "2023-07-11 16:43:12,263 ERROR       request_facets, request = facets.search(context, request)\n",
      "2023-07-11 16:43:12,264 ERROR     File \"/home/cds/cdsservices/services/esgf_wps/facets.py\", line 61, in search\n",
      "2023-07-11 16:43:12,264 ERROR       raise ValueError(f'No matching data for request {tmp_request}')\n",
      "2023-07-11 16:43:12,265 ERROR   ValueError: No matching data for request {'experiment': 'ssp534-over', 'model': 'MPI-ESM-1-2-HAM', 'temporal_resolution': 'day', 'variable': 'pr'}\n",
      "2023-07-11 16:43:12,301 INFO Welcome to the CDS\n",
      "2023-07-11 16:43:12,302 INFO Sending request to https://cds.climate.copernicus.eu/api/v2/resources/projections-cmip6\n",
      "2023-07-11 16:43:12,358 INFO Request is queued\n"
     ]
    },
    {
     "name": "stdout",
     "output_type": "stream",
     "text": [
      "Some parameters are not matching\n",
      "Test with model mpi_esm1_2_lr\n",
      "path_for_file does not exist: the data may not have been downloaded\n",
      "file_download does not exist: the data were not downloaded\n"
     ]
    },
    {
     "name": "stderr",
     "output_type": "stream",
     "text": [
      "2023-07-11 16:43:13,396 INFO Request is failed\n",
      "2023-07-11 16:43:13,397 ERROR Message: an internal error occurred processing your request\n",
      "2023-07-11 16:43:13,398 ERROR Reason:  No matching data for request {'experiment': 'ssp534-over', 'model': 'MPI-ESM1-2-LR', 'temporal_resolution': 'day', 'variable': 'pr'}\n",
      "2023-07-11 16:43:13,398 ERROR   Traceback (most recent call last):\n",
      "2023-07-11 16:43:13,399 ERROR     File \"/opt/cdstoolbox/cdscompute/cdscompute/cdshandlers/services/handler.py\", line 59, in handle_request\n",
      "2023-07-11 16:43:13,399 ERROR       result = cached(context.method, proc, context, context.args, context.kwargs)\n",
      "2023-07-11 16:43:13,400 ERROR     File \"/opt/cdstoolbox/cdscompute/cdscompute/caching.py\", line 108, in cached\n",
      "2023-07-11 16:43:13,401 ERROR       result = proc(context, *context.args, **context.kwargs)\n",
      "2023-07-11 16:43:13,402 ERROR     File \"/opt/cdstoolbox/cdscompute/cdscompute/services.py\", line 124, in __call__\n",
      "2023-07-11 16:43:13,403 ERROR       return p(*args, **kwargs)\n",
      "2023-07-11 16:43:13,403 ERROR     File \"/opt/cdstoolbox/cdscompute/cdscompute/services.py\", line 60, in __call__\n",
      "2023-07-11 16:43:13,404 ERROR       return self.proc(context, *args, **kwargs)\n",
      "2023-07-11 16:43:13,404 ERROR     File \"/home/cds/cdsservices/services/esgf_wps/__init__.py\", line 30, in execute\n",
      "2023-07-11 16:43:13,405 ERROR       request_facets, request = facets.search(context, request)\n",
      "2023-07-11 16:43:13,406 ERROR     File \"/home/cds/cdsservices/services/esgf_wps/facets.py\", line 61, in search\n",
      "2023-07-11 16:43:13,407 ERROR       raise ValueError(f'No matching data for request {tmp_request}')\n",
      "2023-07-11 16:43:13,407 ERROR   ValueError: No matching data for request {'experiment': 'ssp534-over', 'model': 'MPI-ESM1-2-LR', 'temporal_resolution': 'day', 'variable': 'pr'}\n",
      "2023-07-11 16:43:13,447 INFO Welcome to the CDS\n",
      "2023-07-11 16:43:13,448 INFO Sending request to https://cds.climate.copernicus.eu/api/v2/resources/projections-cmip6\n",
      "2023-07-11 16:43:13,517 INFO Request is queued\n"
     ]
    },
    {
     "name": "stdout",
     "output_type": "stream",
     "text": [
      "Some parameters are not matching\n",
      "Test with model nesm3\n",
      "path_for_file does not exist: the data may not have been downloaded\n",
      "file_download does not exist: the data were not downloaded\n"
     ]
    },
    {
     "name": "stderr",
     "output_type": "stream",
     "text": [
      "2023-07-11 16:43:14,566 INFO Request is failed\n",
      "2023-07-11 16:43:14,567 ERROR Message: an internal error occurred processing your request\n",
      "2023-07-11 16:43:14,567 ERROR Reason:  No matching data for request {'experiment': 'ssp534-over', 'model': 'NESM3', 'temporal_resolution': 'day', 'variable': 'pr'}\n",
      "2023-07-11 16:43:14,567 ERROR   Traceback (most recent call last):\n",
      "2023-07-11 16:43:14,568 ERROR     File \"/opt/cdstoolbox/cdscompute/cdscompute/cdshandlers/services/handler.py\", line 59, in handle_request\n",
      "2023-07-11 16:43:14,568 ERROR       result = cached(context.method, proc, context, context.args, context.kwargs)\n",
      "2023-07-11 16:43:14,569 ERROR     File \"/opt/cdstoolbox/cdscompute/cdscompute/caching.py\", line 108, in cached\n",
      "2023-07-11 16:43:14,571 ERROR       result = proc(context, *context.args, **context.kwargs)\n",
      "2023-07-11 16:43:14,571 ERROR     File \"/opt/cdstoolbox/cdscompute/cdscompute/services.py\", line 124, in __call__\n",
      "2023-07-11 16:43:14,572 ERROR       return p(*args, **kwargs)\n",
      "2023-07-11 16:43:14,573 ERROR     File \"/opt/cdstoolbox/cdscompute/cdscompute/services.py\", line 60, in __call__\n",
      "2023-07-11 16:43:14,573 ERROR       return self.proc(context, *args, **kwargs)\n",
      "2023-07-11 16:43:14,574 ERROR     File \"/home/cds/cdsservices/services/esgf_wps/__init__.py\", line 30, in execute\n",
      "2023-07-11 16:43:14,575 ERROR       request_facets, request = facets.search(context, request)\n",
      "2023-07-11 16:43:14,575 ERROR     File \"/home/cds/cdsservices/services/esgf_wps/facets.py\", line 61, in search\n",
      "2023-07-11 16:43:14,576 ERROR       raise ValueError(f'No matching data for request {tmp_request}')\n",
      "2023-07-11 16:43:14,577 ERROR   ValueError: No matching data for request {'experiment': 'ssp534-over', 'model': 'NESM3', 'temporal_resolution': 'day', 'variable': 'pr'}\n",
      "2023-07-11 16:43:14,616 INFO Welcome to the CDS\n",
      "2023-07-11 16:43:14,617 INFO Sending request to https://cds.climate.copernicus.eu/api/v2/resources/projections-cmip6\n",
      "2023-07-11 16:43:14,728 INFO Request is queued\n"
     ]
    },
    {
     "name": "stdout",
     "output_type": "stream",
     "text": [
      "Some parameters are not matching\n",
      "Test with model noresm2_lm\n",
      "path_for_file does not exist: the data may not have been downloaded\n",
      "file_download does not exist: the data were not downloaded\n"
     ]
    },
    {
     "name": "stderr",
     "output_type": "stream",
     "text": [
      "2023-07-11 16:43:15,772 INFO Request is failed\n",
      "2023-07-11 16:43:15,773 ERROR Message: an internal error occurred processing your request\n",
      "2023-07-11 16:43:15,774 ERROR Reason:  No matching data for request {'experiment': 'ssp534-over', 'model': 'NorESM2-LM', 'temporal_resolution': 'day', 'variable': 'pr'}\n",
      "2023-07-11 16:43:15,774 ERROR   Traceback (most recent call last):\n",
      "2023-07-11 16:43:15,775 ERROR     File \"/opt/cdstoolbox/cdscompute/cdscompute/cdshandlers/services/handler.py\", line 59, in handle_request\n",
      "2023-07-11 16:43:15,776 ERROR       result = cached(context.method, proc, context, context.args, context.kwargs)\n",
      "2023-07-11 16:43:15,776 ERROR     File \"/opt/cdstoolbox/cdscompute/cdscompute/caching.py\", line 108, in cached\n",
      "2023-07-11 16:43:15,776 ERROR       result = proc(context, *context.args, **context.kwargs)\n",
      "2023-07-11 16:43:15,777 ERROR     File \"/opt/cdstoolbox/cdscompute/cdscompute/services.py\", line 124, in __call__\n",
      "2023-07-11 16:43:15,777 ERROR       return p(*args, **kwargs)\n",
      "2023-07-11 16:43:15,778 ERROR     File \"/opt/cdstoolbox/cdscompute/cdscompute/services.py\", line 60, in __call__\n",
      "2023-07-11 16:43:15,778 ERROR       return self.proc(context, *args, **kwargs)\n",
      "2023-07-11 16:43:15,780 ERROR     File \"/home/cds/cdsservices/services/esgf_wps/__init__.py\", line 30, in execute\n",
      "2023-07-11 16:43:15,781 ERROR       request_facets, request = facets.search(context, request)\n",
      "2023-07-11 16:43:15,781 ERROR     File \"/home/cds/cdsservices/services/esgf_wps/facets.py\", line 61, in search\n",
      "2023-07-11 16:43:15,782 ERROR       raise ValueError(f'No matching data for request {tmp_request}')\n",
      "2023-07-11 16:43:15,782 ERROR   ValueError: No matching data for request {'experiment': 'ssp534-over', 'model': 'NorESM2-LM', 'temporal_resolution': 'day', 'variable': 'pr'}\n",
      "2023-07-11 16:43:15,816 INFO Welcome to the CDS\n",
      "2023-07-11 16:43:15,817 INFO Sending request to https://cds.climate.copernicus.eu/api/v2/resources/projections-cmip6\n",
      "2023-07-11 16:43:15,905 INFO Request is queued\n"
     ]
    },
    {
     "name": "stdout",
     "output_type": "stream",
     "text": [
      "Some parameters are not matching\n",
      "Test with model sam0_unicon\n",
      "path_for_file does not exist: the data may not have been downloaded\n",
      "file_download does not exist: the data were not downloaded\n"
     ]
    },
    {
     "name": "stderr",
     "output_type": "stream",
     "text": [
      "2023-07-11 16:43:16,945 INFO Request is failed\n",
      "2023-07-11 16:43:16,946 ERROR Message: an internal error occurred processing your request\n",
      "2023-07-11 16:43:16,946 ERROR Reason:  No matching data for request {'experiment': 'ssp534-over', 'model': 'SAM0-UNICON', 'temporal_resolution': 'day', 'variable': 'pr'}\n",
      "2023-07-11 16:43:16,947 ERROR   Traceback (most recent call last):\n",
      "2023-07-11 16:43:16,947 ERROR     File \"/opt/cdstoolbox/cdscompute/cdscompute/cdshandlers/services/handler.py\", line 59, in handle_request\n",
      "2023-07-11 16:43:16,947 ERROR       result = cached(context.method, proc, context, context.args, context.kwargs)\n",
      "2023-07-11 16:43:16,948 ERROR     File \"/opt/cdstoolbox/cdscompute/cdscompute/caching.py\", line 108, in cached\n",
      "2023-07-11 16:43:16,949 ERROR       result = proc(context, *context.args, **context.kwargs)\n",
      "2023-07-11 16:43:16,949 ERROR     File \"/opt/cdstoolbox/cdscompute/cdscompute/services.py\", line 124, in __call__\n",
      "2023-07-11 16:43:16,950 ERROR       return p(*args, **kwargs)\n",
      "2023-07-11 16:43:16,950 ERROR     File \"/opt/cdstoolbox/cdscompute/cdscompute/services.py\", line 60, in __call__\n",
      "2023-07-11 16:43:16,951 ERROR       return self.proc(context, *args, **kwargs)\n",
      "2023-07-11 16:43:16,952 ERROR     File \"/home/cds/cdsservices/services/esgf_wps/__init__.py\", line 30, in execute\n",
      "2023-07-11 16:43:16,952 ERROR       request_facets, request = facets.search(context, request)\n",
      "2023-07-11 16:43:16,953 ERROR     File \"/home/cds/cdsservices/services/esgf_wps/facets.py\", line 61, in search\n",
      "2023-07-11 16:43:16,953 ERROR       raise ValueError(f'No matching data for request {tmp_request}')\n",
      "2023-07-11 16:43:16,954 ERROR   ValueError: No matching data for request {'experiment': 'ssp534-over', 'model': 'SAM0-UNICON', 'temporal_resolution': 'day', 'variable': 'pr'}\n",
      "2023-07-11 16:43:16,992 INFO Welcome to the CDS\n",
      "2023-07-11 16:43:16,993 INFO Sending request to https://cds.climate.copernicus.eu/api/v2/resources/projections-cmip6\n",
      "2023-07-11 16:43:17,078 INFO Request is queued\n"
     ]
    },
    {
     "name": "stdout",
     "output_type": "stream",
     "text": [
      "Some parameters are not matching\n",
      "Test with model ukesm1_0_ll\n",
      "path_for_file does not exist: the data may not have been downloaded\n",
      "file_download does not exist: the data were not downloaded\n"
     ]
    },
    {
     "name": "stderr",
     "output_type": "stream",
     "text": [
      "2023-07-11 16:43:18,123 INFO Request is running\n",
      "2023-07-11 16:45:10,840 INFO Request is failed\n",
      "2023-07-11 16:45:10,841 ERROR Message: an internal error occurred processing your request\n",
      "2023-07-11 16:45:10,841 ERROR Reason:  Process error: 2015\n",
      "2023-07-11 16:45:10,842 ERROR   Traceback (most recent call last):\n",
      "2023-07-11 16:45:10,843 ERROR     File \"/usr/local/lib/python3.6/site-packages/rooki/results.py\", line 33, in url\n",
      "2023-07-11 16:45:10,843 ERROR       return self.response.get()[0]\n",
      "2023-07-11 16:45:10,845 ERROR     File \"/usr/local/lib/python3.6/site-packages/birdy/client/outputs.py\", line 40, in get\n",
      "2023-07-11 16:45:10,845 ERROR       raise ProcessFailed(\"Sorry, process failed.\")\n",
      "2023-07-11 16:45:10,846 ERROR   birdy.exceptions.ProcessFailed: Sorry, process failed.\n",
      "2023-07-11 16:45:10,883 INFO Welcome to the CDS\n",
      "2023-07-11 16:45:10,884 INFO Sending request to https://cds.climate.copernicus.eu/api/v2/resources/projections-cmip6\n",
      "2023-07-11 16:45:10,964 INFO Request is queued\n"
     ]
    },
    {
     "name": "stdout",
     "output_type": "stream",
     "text": [
      "Some parameters are not matching\n",
      "Test with scenario ssp2_4_5\n",
      "Test with model access_cm2\n",
      "path_for_file does not exist: the data may not have been downloaded\n",
      "file_download does not exist: the data were not downloaded\n"
     ]
    },
    {
     "name": "stderr",
     "output_type": "stream",
     "text": [
      "2023-07-11 16:45:12,004 INFO Request is running\n",
      "2023-07-11 16:47:05,094 INFO Request is completed\n",
      "2023-07-11 16:47:05,095 INFO Downloading https://download-0020.copernicus-climate.eu/cache-compute-0020/cache/data5/adaptor.esgf_wps.retrieve-1689086789.3122988-10868-17-eeae463c-82d3-4bec-864c-6edeb556d891.zip to download.zip (10M)\n",
      "2023-07-11 16:47:06,838 INFO Download rate 5.7M/s                                                                      \n"
     ]
    },
    {
     "name": "stdout",
     "output_type": "stream",
     "text": [
      "The file has been download\n",
      "Path for the file is created, did not existed before\n"
     ]
    },
    {
     "name": "stderr",
     "output_type": "stream",
     "text": [
      "2023-07-11 16:47:08,352 INFO Welcome to the CDS\n",
      "2023-07-11 16:47:08,353 INFO Sending request to https://cds.climate.copernicus.eu/api/v2/resources/projections-cmip6\n",
      "2023-07-11 16:47:08,412 INFO Request is queued\n"
     ]
    },
    {
     "name": "stdout",
     "output_type": "stream",
     "text": [
      "\n",
      " The downloaded file is extracted\n",
      "The file has been extracted\n",
      "Test with model awi_cm_1_1_mr\n",
      "path_for_file does not exist: the data may not have been downloaded\n",
      "file_download does not exist: the data were not downloaded\n"
     ]
    },
    {
     "name": "stderr",
     "output_type": "stream",
     "text": [
      "2023-07-11 16:47:09,462 INFO Request is running\n",
      "2023-07-11 16:51:26,801 INFO Request is completed\n",
      "2023-07-11 16:51:26,802 INFO Downloading https://download-0017.copernicus-climate.eu/cache-compute-0017/cache/data7/adaptor.esgf_wps.retrieve-1689087085.0002773-8766-15-b41fba3d-3b7a-4fb3-8abe-54f5e6332ea6.zip to download.zip (25.1M)\n",
      "2023-07-11 16:51:30,795 INFO Download rate 6.3M/s                                                                      \n"
     ]
    },
    {
     "name": "stdout",
     "output_type": "stream",
     "text": [
      "The file has been download\n",
      "Path for the file is created, did not existed before\n"
     ]
    },
    {
     "name": "stderr",
     "output_type": "stream",
     "text": [
      "2023-07-11 16:51:33,048 INFO Welcome to the CDS\n",
      "2023-07-11 16:51:33,048 INFO Sending request to https://cds.climate.copernicus.eu/api/v2/resources/projections-cmip6\n",
      "2023-07-11 16:51:33,126 INFO Request is queued\n"
     ]
    },
    {
     "name": "stdout",
     "output_type": "stream",
     "text": [
      "\n",
      " The downloaded file is extracted\n",
      "The file has been extracted\n",
      "Test with model bcc_csm2_mr\n",
      "path_for_file does not exist: the data may not have been downloaded\n",
      "file_download does not exist: the data were not downloaded\n"
     ]
    },
    {
     "name": "stderr",
     "output_type": "stream",
     "text": [
      "2023-07-11 16:51:34,165 INFO Request is running\n",
      "2023-07-11 17:01:53,002 INFO Request is completed\n",
      "2023-07-11 17:01:53,004 INFO Downloading https://download-0016.copernicus-climate.eu/cache-compute-0016/cache/data9/adaptor.esgf_wps.retrieve-1689087625.826052-30994-15-76ff07cb-c9cc-4ac6-8744-84491da61809.zip to download.zip (30.9M)\n",
      "2023-07-11 17:01:56,111 INFO Download rate 9.9M/s                                                                      \n"
     ]
    },
    {
     "name": "stdout",
     "output_type": "stream",
     "text": [
      "The file has been download\n",
      "Path for the file is created, did not existed before\n"
     ]
    },
    {
     "name": "stderr",
     "output_type": "stream",
     "text": [
      "2023-07-11 17:02:00,475 INFO Welcome to the CDS\n",
      "2023-07-11 17:02:00,475 INFO Sending request to https://cds.climate.copernicus.eu/api/v2/resources/projections-cmip6\n",
      "2023-07-11 17:02:00,567 INFO Request is queued\n"
     ]
    },
    {
     "name": "stdout",
     "output_type": "stream",
     "text": [
      "\n",
      " The downloaded file is extracted\n",
      "The file has been extracted\n",
      "Test with model cams_csm1_0\n",
      "path_for_file does not exist: the data may not have been downloaded\n",
      "file_download does not exist: the data were not downloaded\n"
     ]
    },
    {
     "name": "stderr",
     "output_type": "stream",
     "text": [
      "2023-07-11 17:02:01,617 INFO Request is running\n",
      "2023-07-11 17:04:52,066 INFO Request is failed\n",
      "2023-07-11 17:04:52,067 ERROR Message: an internal error occurred processing your request\n",
      "2023-07-11 17:04:52,068 ERROR Reason:  Process error: 2100\n",
      "2023-07-11 17:04:52,069 ERROR   Traceback (most recent call last):\n",
      "2023-07-11 17:04:52,070 ERROR     File \"/usr/local/lib/python3.6/site-packages/rooki/results.py\", line 33, in url\n",
      "2023-07-11 17:04:52,070 ERROR       return self.response.get()[0]\n",
      "2023-07-11 17:04:52,071 ERROR     File \"/usr/local/lib/python3.6/site-packages/birdy/client/outputs.py\", line 40, in get\n",
      "2023-07-11 17:04:52,073 ERROR       raise ProcessFailed(\"Sorry, process failed.\")\n",
      "2023-07-11 17:04:52,074 ERROR   birdy.exceptions.ProcessFailed: Sorry, process failed.\n",
      "2023-07-11 17:04:52,118 INFO Welcome to the CDS\n",
      "2023-07-11 17:04:52,120 INFO Sending request to https://cds.climate.copernicus.eu/api/v2/resources/projections-cmip6\n",
      "2023-07-11 17:04:52,211 INFO Request is queued\n"
     ]
    },
    {
     "name": "stdout",
     "output_type": "stream",
     "text": [
      "Some parameters are not matching\n",
      "Test with model canesm5_canoe\n",
      "path_for_file does not exist: the data may not have been downloaded\n",
      "file_download does not exist: the data were not downloaded\n"
     ]
    },
    {
     "name": "stderr",
     "output_type": "stream",
     "text": [
      "2023-07-11 17:04:53,263 INFO Request is failed\n",
      "2023-07-11 17:04:53,265 ERROR Message: an internal error occurred processing your request\n",
      "2023-07-11 17:04:53,266 ERROR Reason:  No matching data for request {'experiment': 'ssp245', 'model': 'CanESM5-CanOE', 'temporal_resolution': 'day', 'variable': 'pr'}\n",
      "2023-07-11 17:04:53,267 ERROR   Traceback (most recent call last):\n",
      "2023-07-11 17:04:53,268 ERROR     File \"/opt/cdstoolbox/cdscompute/cdscompute/cdshandlers/services/handler.py\", line 59, in handle_request\n",
      "2023-07-11 17:04:53,268 ERROR       result = cached(context.method, proc, context, context.args, context.kwargs)\n",
      "2023-07-11 17:04:53,269 ERROR     File \"/opt/cdstoolbox/cdscompute/cdscompute/caching.py\", line 108, in cached\n",
      "2023-07-11 17:04:53,269 ERROR       result = proc(context, *context.args, **context.kwargs)\n",
      "2023-07-11 17:04:53,271 ERROR     File \"/opt/cdstoolbox/cdscompute/cdscompute/services.py\", line 124, in __call__\n",
      "2023-07-11 17:04:53,271 ERROR       return p(*args, **kwargs)\n",
      "2023-07-11 17:04:53,271 ERROR     File \"/opt/cdstoolbox/cdscompute/cdscompute/services.py\", line 60, in __call__\n",
      "2023-07-11 17:04:53,272 ERROR       return self.proc(context, *args, **kwargs)\n",
      "2023-07-11 17:04:53,273 ERROR     File \"/home/cds/cdsservices/services/esgf_wps/__init__.py\", line 30, in execute\n",
      "2023-07-11 17:04:53,273 ERROR       request_facets, request = facets.search(context, request)\n",
      "2023-07-11 17:04:53,274 ERROR     File \"/home/cds/cdsservices/services/esgf_wps/facets.py\", line 61, in search\n",
      "2023-07-11 17:04:53,275 ERROR       raise ValueError(f'No matching data for request {tmp_request}')\n",
      "2023-07-11 17:04:53,275 ERROR   ValueError: No matching data for request {'experiment': 'ssp245', 'model': 'CanESM5-CanOE', 'temporal_resolution': 'day', 'variable': 'pr'}\n",
      "2023-07-11 17:04:53,315 INFO Welcome to the CDS\n",
      "2023-07-11 17:04:53,317 INFO Sending request to https://cds.climate.copernicus.eu/api/v2/resources/projections-cmip6\n",
      "2023-07-11 17:04:53,414 INFO Request is queued\n"
     ]
    },
    {
     "name": "stdout",
     "output_type": "stream",
     "text": [
      "Some parameters are not matching\n",
      "Test with model cesm2_fv2\n",
      "path_for_file does not exist: the data may not have been downloaded\n",
      "file_download does not exist: the data were not downloaded\n"
     ]
    },
    {
     "name": "stderr",
     "output_type": "stream",
     "text": [
      "2023-07-11 17:04:54,454 INFO Request is failed\n",
      "2023-07-11 17:04:54,455 ERROR Message: an internal error occurred processing your request\n",
      "2023-07-11 17:04:54,457 ERROR Reason:  No matching data for request {'experiment': 'ssp245', 'model': 'CESM2-FV2', 'temporal_resolution': 'day', 'variable': 'pr'}\n",
      "2023-07-11 17:04:54,458 ERROR   Traceback (most recent call last):\n",
      "2023-07-11 17:04:54,458 ERROR     File \"/opt/cdstoolbox/cdscompute/cdscompute/cdshandlers/services/handler.py\", line 59, in handle_request\n",
      "2023-07-11 17:04:54,460 ERROR       result = cached(context.method, proc, context, context.args, context.kwargs)\n",
      "2023-07-11 17:04:54,460 ERROR     File \"/opt/cdstoolbox/cdscompute/cdscompute/caching.py\", line 108, in cached\n",
      "2023-07-11 17:04:54,461 ERROR       result = proc(context, *context.args, **context.kwargs)\n",
      "2023-07-11 17:04:54,461 ERROR     File \"/opt/cdstoolbox/cdscompute/cdscompute/services.py\", line 124, in __call__\n",
      "2023-07-11 17:04:54,462 ERROR       return p(*args, **kwargs)\n",
      "2023-07-11 17:04:54,462 ERROR     File \"/opt/cdstoolbox/cdscompute/cdscompute/services.py\", line 60, in __call__\n",
      "2023-07-11 17:04:54,464 ERROR       return self.proc(context, *args, **kwargs)\n",
      "2023-07-11 17:04:54,466 ERROR     File \"/home/cds/cdsservices/services/esgf_wps/__init__.py\", line 30, in execute\n",
      "2023-07-11 17:04:54,468 ERROR       request_facets, request = facets.search(context, request)\n",
      "2023-07-11 17:04:54,469 ERROR     File \"/home/cds/cdsservices/services/esgf_wps/facets.py\", line 61, in search\n",
      "2023-07-11 17:04:54,470 ERROR       raise ValueError(f'No matching data for request {tmp_request}')\n",
      "2023-07-11 17:04:54,471 ERROR   ValueError: No matching data for request {'experiment': 'ssp245', 'model': 'CESM2-FV2', 'temporal_resolution': 'day', 'variable': 'pr'}\n",
      "2023-07-11 17:04:54,519 INFO Welcome to the CDS\n",
      "2023-07-11 17:04:54,520 INFO Sending request to https://cds.climate.copernicus.eu/api/v2/resources/projections-cmip6\n",
      "2023-07-11 17:04:54,577 INFO Request is queued\n"
     ]
    },
    {
     "name": "stdout",
     "output_type": "stream",
     "text": [
      "Some parameters are not matching\n",
      "Test with model cesm2_waccm_fv2\n",
      "path_for_file does not exist: the data may not have been downloaded\n",
      "file_download does not exist: the data were not downloaded\n"
     ]
    },
    {
     "name": "stderr",
     "output_type": "stream",
     "text": [
      "2023-07-11 17:04:55,629 INFO Request is failed\n",
      "2023-07-11 17:04:55,631 ERROR Message: an internal error occurred processing your request\n",
      "2023-07-11 17:04:55,632 ERROR Reason:  No matching data for request {'experiment': 'ssp245', 'model': 'CESM2-WACCM-FV2', 'temporal_resolution': 'day', 'variable': 'pr'}\n",
      "2023-07-11 17:04:55,632 ERROR   Traceback (most recent call last):\n",
      "2023-07-11 17:04:55,633 ERROR     File \"/opt/cdstoolbox/cdscompute/cdscompute/cdshandlers/services/handler.py\", line 59, in handle_request\n",
      "2023-07-11 17:04:55,633 ERROR       result = cached(context.method, proc, context, context.args, context.kwargs)\n",
      "2023-07-11 17:04:55,634 ERROR     File \"/opt/cdstoolbox/cdscompute/cdscompute/caching.py\", line 108, in cached\n",
      "2023-07-11 17:04:55,635 ERROR       result = proc(context, *context.args, **context.kwargs)\n",
      "2023-07-11 17:04:55,635 ERROR     File \"/opt/cdstoolbox/cdscompute/cdscompute/services.py\", line 124, in __call__\n",
      "2023-07-11 17:04:55,636 ERROR       return p(*args, **kwargs)\n",
      "2023-07-11 17:04:55,637 ERROR     File \"/opt/cdstoolbox/cdscompute/cdscompute/services.py\", line 60, in __call__\n",
      "2023-07-11 17:04:55,637 ERROR       return self.proc(context, *args, **kwargs)\n",
      "2023-07-11 17:04:55,637 ERROR     File \"/home/cds/cdsservices/services/esgf_wps/__init__.py\", line 30, in execute\n",
      "2023-07-11 17:04:55,638 ERROR       request_facets, request = facets.search(context, request)\n",
      "2023-07-11 17:04:55,640 ERROR     File \"/home/cds/cdsservices/services/esgf_wps/facets.py\", line 61, in search\n",
      "2023-07-11 17:04:55,640 ERROR       raise ValueError(f'No matching data for request {tmp_request}')\n",
      "2023-07-11 17:04:55,641 ERROR   ValueError: No matching data for request {'experiment': 'ssp245', 'model': 'CESM2-WACCM-FV2', 'temporal_resolution': 'day', 'variable': 'pr'}\n",
      "2023-07-11 17:04:55,680 INFO Welcome to the CDS\n",
      "2023-07-11 17:04:55,680 INFO Sending request to https://cds.climate.copernicus.eu/api/v2/resources/projections-cmip6\n"
     ]
    },
    {
     "name": "stdout",
     "output_type": "stream",
     "text": [
      "Some parameters are not matching\n",
      "Test with model cmcc_cm2_hr4\n",
      "path_for_file does not exist: the data may not have been downloaded\n",
      "file_download does not exist: the data were not downloaded\n"
     ]
    },
    {
     "name": "stderr",
     "output_type": "stream",
     "text": [
      "2023-07-11 17:04:55,852 INFO Request is queued\n",
      "2023-07-11 17:04:56,893 INFO Request is failed\n",
      "2023-07-11 17:04:56,894 ERROR Message: an internal error occurred processing your request\n",
      "2023-07-11 17:04:56,896 ERROR Reason:  No matching data for request {'experiment': 'ssp245', 'model': 'CMCC-CM2-HR4', 'temporal_resolution': 'day', 'variable': 'pr'}\n",
      "2023-07-11 17:04:56,897 ERROR   Traceback (most recent call last):\n",
      "2023-07-11 17:04:56,897 ERROR     File \"/opt/cdstoolbox/cdscompute/cdscompute/cdshandlers/services/handler.py\", line 59, in handle_request\n",
      "2023-07-11 17:04:56,898 ERROR       result = cached(context.method, proc, context, context.args, context.kwargs)\n",
      "2023-07-11 17:04:56,900 ERROR     File \"/opt/cdstoolbox/cdscompute/cdscompute/caching.py\", line 108, in cached\n",
      "2023-07-11 17:04:56,900 ERROR       result = proc(context, *context.args, **context.kwargs)\n",
      "2023-07-11 17:04:56,901 ERROR     File \"/opt/cdstoolbox/cdscompute/cdscompute/services.py\", line 124, in __call__\n",
      "2023-07-11 17:04:56,902 ERROR       return p(*args, **kwargs)\n",
      "2023-07-11 17:04:56,902 ERROR     File \"/opt/cdstoolbox/cdscompute/cdscompute/services.py\", line 60, in __call__\n",
      "2023-07-11 17:04:56,903 ERROR       return self.proc(context, *args, **kwargs)\n",
      "2023-07-11 17:04:56,904 ERROR     File \"/home/cds/cdsservices/services/esgf_wps/__init__.py\", line 30, in execute\n",
      "2023-07-11 17:04:56,905 ERROR       request_facets, request = facets.search(context, request)\n",
      "2023-07-11 17:04:56,906 ERROR     File \"/home/cds/cdsservices/services/esgf_wps/facets.py\", line 61, in search\n",
      "2023-07-11 17:04:56,907 ERROR       raise ValueError(f'No matching data for request {tmp_request}')\n",
      "2023-07-11 17:04:56,907 ERROR   ValueError: No matching data for request {'experiment': 'ssp245', 'model': 'CMCC-CM2-HR4', 'temporal_resolution': 'day', 'variable': 'pr'}\n",
      "2023-07-11 17:04:56,947 INFO Welcome to the CDS\n",
      "2023-07-11 17:04:56,948 INFO Sending request to https://cds.climate.copernicus.eu/api/v2/resources/projections-cmip6\n",
      "2023-07-11 17:04:57,050 INFO Request is queued\n"
     ]
    },
    {
     "name": "stdout",
     "output_type": "stream",
     "text": [
      "Some parameters are not matching\n",
      "Test with model cmcc_esm2\n",
      "path_for_file does not exist: the data may not have been downloaded\n",
      "file_download does not exist: the data were not downloaded\n"
     ]
    },
    {
     "name": "stderr",
     "output_type": "stream",
     "text": [
      "2023-07-11 17:04:58,093 INFO Request is running\n",
      "2023-07-11 17:07:48,560 INFO Request is completed\n",
      "2023-07-11 17:07:48,562 INFO Downloading https://download-0018.copernicus-climate.eu/cache-compute-0018/cache/data1/adaptor.esgf_wps.retrieve-1689088054.4315848-6001-13-a81414de-65d2-4ca0-8e95-5c8bea36630e.zip to download.zip (17.7M)\n",
      "2023-07-11 17:07:51,498 INFO Download rate 6M/s                                                                        \n"
     ]
    },
    {
     "name": "stdout",
     "output_type": "stream",
     "text": [
      "The file has been download\n",
      "Path for the file is created, did not existed before\n"
     ]
    },
    {
     "name": "stderr",
     "output_type": "stream",
     "text": [
      "2023-07-11 17:07:54,884 INFO Welcome to the CDS\n",
      "2023-07-11 17:07:54,885 INFO Sending request to https://cds.climate.copernicus.eu/api/v2/resources/projections-cmip6\n",
      "2023-07-11 17:07:54,977 INFO Request is queued\n"
     ]
    },
    {
     "name": "stdout",
     "output_type": "stream",
     "text": [
      "\n",
      " The downloaded file is extracted\n",
      "The file has been extracted\n",
      "Test with model cnrm_cm6_1_hr\n",
      "path_for_file does not exist: the data may not have been downloaded\n",
      "file_download does not exist: the data were not downloaded\n"
     ]
    },
    {
     "name": "stderr",
     "output_type": "stream",
     "text": [
      "2023-07-11 17:07:56,019 INFO Request is failed\n",
      "2023-07-11 17:07:56,020 ERROR Message: an internal error occurred processing your request\n",
      "2023-07-11 17:07:56,021 ERROR Reason:  No matching data for request {'experiment': 'ssp245', 'model': 'CNRM-CM6-1-HR', 'temporal_resolution': 'day', 'variable': 'pr'}\n",
      "2023-07-11 17:07:56,021 ERROR   Traceback (most recent call last):\n",
      "2023-07-11 17:07:56,022 ERROR     File \"/opt/cdstoolbox/cdscompute/cdscompute/cdshandlers/services/handler.py\", line 59, in handle_request\n",
      "2023-07-11 17:07:56,022 ERROR       result = cached(context.method, proc, context, context.args, context.kwargs)\n",
      "2023-07-11 17:07:56,023 ERROR     File \"/opt/cdstoolbox/cdscompute/cdscompute/caching.py\", line 108, in cached\n",
      "2023-07-11 17:07:56,024 ERROR       result = proc(context, *context.args, **context.kwargs)\n",
      "2023-07-11 17:07:56,024 ERROR     File \"/opt/cdstoolbox/cdscompute/cdscompute/services.py\", line 124, in __call__\n",
      "2023-07-11 17:07:56,025 ERROR       return p(*args, **kwargs)\n",
      "2023-07-11 17:07:56,025 ERROR     File \"/opt/cdstoolbox/cdscompute/cdscompute/services.py\", line 60, in __call__\n",
      "2023-07-11 17:07:56,026 ERROR       return self.proc(context, *args, **kwargs)\n",
      "2023-07-11 17:07:56,028 ERROR     File \"/home/cds/cdsservices/services/esgf_wps/__init__.py\", line 30, in execute\n",
      "2023-07-11 17:07:56,029 ERROR       request_facets, request = facets.search(context, request)\n",
      "2023-07-11 17:07:56,030 ERROR     File \"/home/cds/cdsservices/services/esgf_wps/facets.py\", line 61, in search\n",
      "2023-07-11 17:07:56,031 ERROR       raise ValueError(f'No matching data for request {tmp_request}')\n",
      "2023-07-11 17:07:56,032 ERROR   ValueError: No matching data for request {'experiment': 'ssp245', 'model': 'CNRM-CM6-1-HR', 'temporal_resolution': 'day', 'variable': 'pr'}\n",
      "2023-07-11 17:07:56,077 INFO Welcome to the CDS\n",
      "2023-07-11 17:07:56,079 INFO Sending request to https://cds.climate.copernicus.eu/api/v2/resources/projections-cmip6\n",
      "2023-07-11 17:07:56,136 INFO Request is queued\n"
     ]
    },
    {
     "name": "stdout",
     "output_type": "stream",
     "text": [
      "Some parameters are not matching\n",
      "Test with model e3sm_1_0\n",
      "path_for_file does not exist: the data may not have been downloaded\n",
      "file_download does not exist: the data were not downloaded\n"
     ]
    },
    {
     "name": "stderr",
     "output_type": "stream",
     "text": [
      "2023-07-11 17:07:57,179 INFO Request is failed\n",
      "2023-07-11 17:07:57,180 ERROR Message: an internal error occurred processing your request\n",
      "2023-07-11 17:07:57,181 ERROR Reason:  No matching data for request {'experiment': 'ssp245', 'model': 'E3SM-1-0', 'temporal_resolution': 'day', 'variable': 'pr'}\n",
      "2023-07-11 17:07:57,182 ERROR   Traceback (most recent call last):\n",
      "2023-07-11 17:07:57,182 ERROR     File \"/opt/cdstoolbox/cdscompute/cdscompute/cdshandlers/services/handler.py\", line 59, in handle_request\n",
      "2023-07-11 17:07:57,183 ERROR       result = cached(context.method, proc, context, context.args, context.kwargs)\n",
      "2023-07-11 17:07:57,184 ERROR     File \"/opt/cdstoolbox/cdscompute/cdscompute/caching.py\", line 108, in cached\n",
      "2023-07-11 17:07:57,185 ERROR       result = proc(context, *context.args, **context.kwargs)\n",
      "2023-07-11 17:07:57,185 ERROR     File \"/opt/cdstoolbox/cdscompute/cdscompute/services.py\", line 124, in __call__\n",
      "2023-07-11 17:07:57,186 ERROR       return p(*args, **kwargs)\n",
      "2023-07-11 17:07:57,187 ERROR     File \"/opt/cdstoolbox/cdscompute/cdscompute/services.py\", line 60, in __call__\n",
      "2023-07-11 17:07:57,188 ERROR       return self.proc(context, *args, **kwargs)\n",
      "2023-07-11 17:07:57,189 ERROR     File \"/home/cds/cdsservices/services/esgf_wps/__init__.py\", line 30, in execute\n",
      "2023-07-11 17:07:57,190 ERROR       request_facets, request = facets.search(context, request)\n",
      "2023-07-11 17:07:57,191 ERROR     File \"/home/cds/cdsservices/services/esgf_wps/facets.py\", line 61, in search\n",
      "2023-07-11 17:07:57,192 ERROR       raise ValueError(f'No matching data for request {tmp_request}')\n",
      "2023-07-11 17:07:57,192 ERROR   ValueError: No matching data for request {'experiment': 'ssp245', 'model': 'E3SM-1-0', 'temporal_resolution': 'day', 'variable': 'pr'}\n",
      "2023-07-11 17:07:57,233 INFO Welcome to the CDS\n",
      "2023-07-11 17:07:57,234 INFO Sending request to https://cds.climate.copernicus.eu/api/v2/resources/projections-cmip6\n",
      "2023-07-11 17:07:57,337 INFO Request is queued\n"
     ]
    },
    {
     "name": "stdout",
     "output_type": "stream",
     "text": [
      "Some parameters are not matching\n",
      "Test with model e3sm_1_1_eca\n",
      "path_for_file does not exist: the data may not have been downloaded\n",
      "file_download does not exist: the data were not downloaded\n"
     ]
    },
    {
     "name": "stderr",
     "output_type": "stream",
     "text": [
      "2023-07-11 17:07:58,394 INFO Request is failed\n",
      "2023-07-11 17:07:58,394 ERROR Message: an internal error occurred processing your request\n",
      "2023-07-11 17:07:58,395 ERROR Reason:  No matching data for request {'experiment': 'ssp245', 'model': 'E3SM-1-1-ECA', 'temporal_resolution': 'day', 'variable': 'pr'}\n",
      "2023-07-11 17:07:58,396 ERROR   Traceback (most recent call last):\n",
      "2023-07-11 17:07:58,396 ERROR     File \"/opt/cdstoolbox/cdscompute/cdscompute/cdshandlers/services/handler.py\", line 59, in handle_request\n",
      "2023-07-11 17:07:58,397 ERROR       result = cached(context.method, proc, context, context.args, context.kwargs)\n",
      "2023-07-11 17:07:58,397 ERROR     File \"/opt/cdstoolbox/cdscompute/cdscompute/caching.py\", line 108, in cached\n",
      "2023-07-11 17:07:58,399 ERROR       result = proc(context, *context.args, **context.kwargs)\n",
      "2023-07-11 17:07:58,400 ERROR     File \"/opt/cdstoolbox/cdscompute/cdscompute/services.py\", line 124, in __call__\n",
      "2023-07-11 17:07:58,401 ERROR       return p(*args, **kwargs)\n",
      "2023-07-11 17:07:58,401 ERROR     File \"/opt/cdstoolbox/cdscompute/cdscompute/services.py\", line 60, in __call__\n",
      "2023-07-11 17:07:58,402 ERROR       return self.proc(context, *args, **kwargs)\n",
      "2023-07-11 17:07:58,403 ERROR     File \"/home/cds/cdsservices/services/esgf_wps/__init__.py\", line 30, in execute\n",
      "2023-07-11 17:07:58,403 ERROR       request_facets, request = facets.search(context, request)\n",
      "2023-07-11 17:07:58,404 ERROR     File \"/home/cds/cdsservices/services/esgf_wps/facets.py\", line 61, in search\n",
      "2023-07-11 17:07:58,405 ERROR       raise ValueError(f'No matching data for request {tmp_request}')\n",
      "2023-07-11 17:07:58,405 ERROR   ValueError: No matching data for request {'experiment': 'ssp245', 'model': 'E3SM-1-1-ECA', 'temporal_resolution': 'day', 'variable': 'pr'}\n",
      "2023-07-11 17:07:58,448 INFO Welcome to the CDS\n",
      "2023-07-11 17:07:58,450 INFO Sending request to https://cds.climate.copernicus.eu/api/v2/resources/projections-cmip6\n",
      "2023-07-11 17:07:58,507 INFO Request is queued\n"
     ]
    },
    {
     "name": "stdout",
     "output_type": "stream",
     "text": [
      "Some parameters are not matching\n",
      "Test with model ec_earth3_aerchem\n",
      "path_for_file does not exist: the data may not have been downloaded\n",
      "file_download does not exist: the data were not downloaded\n"
     ]
    },
    {
     "name": "stderr",
     "output_type": "stream",
     "text": [
      "2023-07-11 17:07:59,551 INFO Request is failed\n",
      "2023-07-11 17:07:59,553 ERROR Message: an internal error occurred processing your request\n",
      "2023-07-11 17:07:59,554 ERROR Reason:  No matching data for request {'experiment': 'ssp245', 'model': 'EC-Earth3-AerChem', 'temporal_resolution': 'day', 'variable': 'pr'}\n",
      "2023-07-11 17:07:59,555 ERROR   Traceback (most recent call last):\n",
      "2023-07-11 17:07:59,556 ERROR     File \"/opt/cdstoolbox/cdscompute/cdscompute/cdshandlers/services/handler.py\", line 59, in handle_request\n",
      "2023-07-11 17:07:59,556 ERROR       result = cached(context.method, proc, context, context.args, context.kwargs)\n",
      "2023-07-11 17:07:59,558 ERROR     File \"/opt/cdstoolbox/cdscompute/cdscompute/caching.py\", line 108, in cached\n",
      "2023-07-11 17:07:59,559 ERROR       result = proc(context, *context.args, **context.kwargs)\n",
      "2023-07-11 17:07:59,560 ERROR     File \"/opt/cdstoolbox/cdscompute/cdscompute/services.py\", line 124, in __call__\n",
      "2023-07-11 17:07:59,562 ERROR       return p(*args, **kwargs)\n",
      "2023-07-11 17:07:59,563 ERROR     File \"/opt/cdstoolbox/cdscompute/cdscompute/services.py\", line 60, in __call__\n",
      "2023-07-11 17:07:59,563 ERROR       return self.proc(context, *args, **kwargs)\n",
      "2023-07-11 17:07:59,563 ERROR     File \"/home/cds/cdsservices/services/esgf_wps/__init__.py\", line 30, in execute\n",
      "2023-07-11 17:07:59,564 ERROR       request_facets, request = facets.search(context, request)\n",
      "2023-07-11 17:07:59,565 ERROR     File \"/home/cds/cdsservices/services/esgf_wps/facets.py\", line 61, in search\n",
      "2023-07-11 17:07:59,566 ERROR       raise ValueError(f'No matching data for request {tmp_request}')\n",
      "2023-07-11 17:07:59,567 ERROR   ValueError: No matching data for request {'experiment': 'ssp245', 'model': 'EC-Earth3-AerChem', 'temporal_resolution': 'day', 'variable': 'pr'}\n",
      "2023-07-11 17:07:59,607 INFO Welcome to the CDS\n",
      "2023-07-11 17:07:59,607 INFO Sending request to https://cds.climate.copernicus.eu/api/v2/resources/projections-cmip6\n",
      "2023-07-11 17:07:59,682 INFO Request is queued\n"
     ]
    },
    {
     "name": "stdout",
     "output_type": "stream",
     "text": [
      "Some parameters are not matching\n",
      "Test with model ec_earth3_veg\n",
      "path_for_file does not exist: the data may not have been downloaded\n",
      "file_download does not exist: the data were not downloaded\n"
     ]
    },
    {
     "name": "stderr",
     "output_type": "stream",
     "text": [
      "2023-07-11 17:08:00,723 INFO Request is failed\n",
      "2023-07-11 17:08:00,725 ERROR Message: an internal error occurred processing your request\n",
      "2023-07-11 17:08:00,728 ERROR Reason:  No matching data for request {'experiment': 'ssp245', 'model': 'EC-Earth3-Veg', 'temporal_resolution': 'day', 'variable': 'pr'}\n",
      "2023-07-11 17:08:00,729 ERROR   Traceback (most recent call last):\n",
      "2023-07-11 17:08:00,730 ERROR     File \"/opt/cdstoolbox/cdscompute/cdscompute/cdshandlers/services/handler.py\", line 59, in handle_request\n",
      "2023-07-11 17:08:00,732 ERROR       result = cached(context.method, proc, context, context.args, context.kwargs)\n",
      "2023-07-11 17:08:00,734 ERROR     File \"/opt/cdstoolbox/cdscompute/cdscompute/caching.py\", line 108, in cached\n",
      "2023-07-11 17:08:00,737 ERROR       result = proc(context, *context.args, **context.kwargs)\n",
      "2023-07-11 17:08:00,739 ERROR     File \"/opt/cdstoolbox/cdscompute/cdscompute/services.py\", line 124, in __call__\n",
      "2023-07-11 17:08:00,740 ERROR       return p(*args, **kwargs)\n",
      "2023-07-11 17:08:00,741 ERROR     File \"/opt/cdstoolbox/cdscompute/cdscompute/services.py\", line 60, in __call__\n",
      "2023-07-11 17:08:00,743 ERROR       return self.proc(context, *args, **kwargs)\n",
      "2023-07-11 17:08:00,745 ERROR     File \"/home/cds/cdsservices/services/esgf_wps/__init__.py\", line 30, in execute\n",
      "2023-07-11 17:08:00,747 ERROR       request_facets, request = facets.search(context, request)\n",
      "2023-07-11 17:08:00,749 ERROR     File \"/home/cds/cdsservices/services/esgf_wps/facets.py\", line 61, in search\n",
      "2023-07-11 17:08:00,750 ERROR       raise ValueError(f'No matching data for request {tmp_request}')\n",
      "2023-07-11 17:08:00,755 ERROR   ValueError: No matching data for request {'experiment': 'ssp245', 'model': 'EC-Earth3-Veg', 'temporal_resolution': 'day', 'variable': 'pr'}\n",
      "2023-07-11 17:08:00,804 INFO Welcome to the CDS\n",
      "2023-07-11 17:08:00,806 INFO Sending request to https://cds.climate.copernicus.eu/api/v2/resources/projections-cmip6\n",
      "2023-07-11 17:08:00,883 INFO Request is queued\n"
     ]
    },
    {
     "name": "stdout",
     "output_type": "stream",
     "text": [
      "Some parameters are not matching\n",
      "Test with model fgoals_f3_l\n",
      "path_for_file does not exist: the data may not have been downloaded\n",
      "file_download does not exist: the data were not downloaded\n"
     ]
    },
    {
     "name": "stderr",
     "output_type": "stream",
     "text": [
      "2023-07-11 17:08:01,929 INFO Request is failed\n",
      "2023-07-11 17:08:01,930 ERROR Message: an internal error occurred processing your request\n",
      "2023-07-11 17:08:01,932 ERROR Reason:  No matching data for request {'experiment': 'ssp245', 'model': 'FGOALS-f3-L', 'temporal_resolution': 'day', 'variable': 'pr'}\n",
      "2023-07-11 17:08:01,932 ERROR   Traceback (most recent call last):\n",
      "2023-07-11 17:08:01,933 ERROR     File \"/opt/cdstoolbox/cdscompute/cdscompute/cdshandlers/services/handler.py\", line 59, in handle_request\n",
      "2023-07-11 17:08:01,933 ERROR       result = cached(context.method, proc, context, context.args, context.kwargs)\n",
      "2023-07-11 17:08:01,934 ERROR     File \"/opt/cdstoolbox/cdscompute/cdscompute/caching.py\", line 108, in cached\n",
      "2023-07-11 17:08:01,935 ERROR       result = proc(context, *context.args, **context.kwargs)\n",
      "2023-07-11 17:08:01,936 ERROR     File \"/opt/cdstoolbox/cdscompute/cdscompute/services.py\", line 124, in __call__\n",
      "2023-07-11 17:08:01,936 ERROR       return p(*args, **kwargs)\n",
      "2023-07-11 17:08:01,940 ERROR     File \"/opt/cdstoolbox/cdscompute/cdscompute/services.py\", line 60, in __call__\n",
      "2023-07-11 17:08:01,940 ERROR       return self.proc(context, *args, **kwargs)\n",
      "2023-07-11 17:08:01,942 ERROR     File \"/home/cds/cdsservices/services/esgf_wps/__init__.py\", line 30, in execute\n",
      "2023-07-11 17:08:01,943 ERROR       request_facets, request = facets.search(context, request)\n",
      "2023-07-11 17:08:01,943 ERROR     File \"/home/cds/cdsservices/services/esgf_wps/facets.py\", line 61, in search\n",
      "2023-07-11 17:08:01,944 ERROR       raise ValueError(f'No matching data for request {tmp_request}')\n",
      "2023-07-11 17:08:01,945 ERROR   ValueError: No matching data for request {'experiment': 'ssp245', 'model': 'FGOALS-f3-L', 'temporal_resolution': 'day', 'variable': 'pr'}\n",
      "2023-07-11 17:08:01,983 INFO Welcome to the CDS\n",
      "2023-07-11 17:08:01,984 INFO Sending request to https://cds.climate.copernicus.eu/api/v2/resources/projections-cmip6\n",
      "2023-07-11 17:08:02,097 INFO Request is queued\n"
     ]
    },
    {
     "name": "stdout",
     "output_type": "stream",
     "text": [
      "Some parameters are not matching\n",
      "Test with model fio_esm_2_0\n",
      "path_for_file does not exist: the data may not have been downloaded\n",
      "file_download does not exist: the data were not downloaded\n"
     ]
    },
    {
     "name": "stderr",
     "output_type": "stream",
     "text": [
      "2023-07-11 17:08:03,146 INFO Request is failed\n",
      "2023-07-11 17:08:03,147 ERROR Message: an internal error occurred processing your request\n",
      "2023-07-11 17:08:03,149 ERROR Reason:  No matching data for request {'experiment': 'ssp245', 'model': 'FIO-ESM-2-0', 'temporal_resolution': 'day', 'variable': 'pr'}\n",
      "2023-07-11 17:08:03,150 ERROR   Traceback (most recent call last):\n",
      "2023-07-11 17:08:03,151 ERROR     File \"/opt/cdstoolbox/cdscompute/cdscompute/cdshandlers/services/handler.py\", line 59, in handle_request\n",
      "2023-07-11 17:08:03,152 ERROR       result = cached(context.method, proc, context, context.args, context.kwargs)\n",
      "2023-07-11 17:08:03,152 ERROR     File \"/opt/cdstoolbox/cdscompute/cdscompute/caching.py\", line 108, in cached\n",
      "2023-07-11 17:08:03,154 ERROR       result = proc(context, *context.args, **context.kwargs)\n",
      "2023-07-11 17:08:03,155 ERROR     File \"/opt/cdstoolbox/cdscompute/cdscompute/services.py\", line 124, in __call__\n",
      "2023-07-11 17:08:03,156 ERROR       return p(*args, **kwargs)\n",
      "2023-07-11 17:08:03,156 ERROR     File \"/opt/cdstoolbox/cdscompute/cdscompute/services.py\", line 60, in __call__\n",
      "2023-07-11 17:08:03,157 ERROR       return self.proc(context, *args, **kwargs)\n",
      "2023-07-11 17:08:03,158 ERROR     File \"/home/cds/cdsservices/services/esgf_wps/__init__.py\", line 30, in execute\n",
      "2023-07-11 17:08:03,158 ERROR       request_facets, request = facets.search(context, request)\n",
      "2023-07-11 17:08:03,158 ERROR     File \"/home/cds/cdsservices/services/esgf_wps/facets.py\", line 61, in search\n",
      "2023-07-11 17:08:03,159 ERROR       raise ValueError(f'No matching data for request {tmp_request}')\n",
      "2023-07-11 17:08:03,160 ERROR   ValueError: No matching data for request {'experiment': 'ssp245', 'model': 'FIO-ESM-2-0', 'temporal_resolution': 'day', 'variable': 'pr'}\n",
      "2023-07-11 17:08:03,199 INFO Welcome to the CDS\n",
      "2023-07-11 17:08:03,200 INFO Sending request to https://cds.climate.copernicus.eu/api/v2/resources/projections-cmip6\n",
      "2023-07-11 17:08:03,264 INFO Request is queued\n"
     ]
    },
    {
     "name": "stdout",
     "output_type": "stream",
     "text": [
      "Some parameters are not matching\n",
      "Test with model giss_e2_1_g\n",
      "path_for_file does not exist: the data may not have been downloaded\n",
      "file_download does not exist: the data were not downloaded\n"
     ]
    },
    {
     "name": "stderr",
     "output_type": "stream",
     "text": [
      "2023-07-11 17:08:04,315 INFO Request is failed\n",
      "2023-07-11 17:08:04,316 ERROR Message: an internal error occurred processing your request\n",
      "2023-07-11 17:08:04,317 ERROR Reason:  No matching data for request {'experiment': 'ssp245', 'model': 'GISS-E2-1-G', 'temporal_resolution': 'day', 'variable': 'pr'}\n",
      "2023-07-11 17:08:04,317 ERROR   Traceback (most recent call last):\n",
      "2023-07-11 17:08:04,318 ERROR     File \"/opt/cdstoolbox/cdscompute/cdscompute/cdshandlers/services/handler.py\", line 59, in handle_request\n",
      "2023-07-11 17:08:04,318 ERROR       result = cached(context.method, proc, context, context.args, context.kwargs)\n",
      "2023-07-11 17:08:04,319 ERROR     File \"/opt/cdstoolbox/cdscompute/cdscompute/caching.py\", line 108, in cached\n",
      "2023-07-11 17:08:04,320 ERROR       result = proc(context, *context.args, **context.kwargs)\n",
      "2023-07-11 17:08:04,321 ERROR     File \"/opt/cdstoolbox/cdscompute/cdscompute/services.py\", line 124, in __call__\n",
      "2023-07-11 17:08:04,321 ERROR       return p(*args, **kwargs)\n",
      "2023-07-11 17:08:04,322 ERROR     File \"/opt/cdstoolbox/cdscompute/cdscompute/services.py\", line 60, in __call__\n",
      "2023-07-11 17:08:04,323 ERROR       return self.proc(context, *args, **kwargs)\n",
      "2023-07-11 17:08:04,324 ERROR     File \"/home/cds/cdsservices/services/esgf_wps/__init__.py\", line 30, in execute\n",
      "2023-07-11 17:08:04,325 ERROR       request_facets, request = facets.search(context, request)\n",
      "2023-07-11 17:08:04,326 ERROR     File \"/home/cds/cdsservices/services/esgf_wps/facets.py\", line 61, in search\n",
      "2023-07-11 17:08:04,326 ERROR       raise ValueError(f'No matching data for request {tmp_request}')\n",
      "2023-07-11 17:08:04,327 ERROR   ValueError: No matching data for request {'experiment': 'ssp245', 'model': 'GISS-E2-1-G', 'temporal_resolution': 'day', 'variable': 'pr'}\n",
      "2023-07-11 17:08:04,375 INFO Welcome to the CDS\n",
      "2023-07-11 17:08:04,376 INFO Sending request to https://cds.climate.copernicus.eu/api/v2/resources/projections-cmip6\n",
      "2023-07-11 17:08:04,442 INFO Request is queued\n"
     ]
    },
    {
     "name": "stdout",
     "output_type": "stream",
     "text": [
      "Some parameters are not matching\n",
      "Test with model hadgem3_gc31_ll\n",
      "path_for_file does not exist: the data may not have been downloaded\n",
      "file_download does not exist: the data were not downloaded\n"
     ]
    },
    {
     "name": "stderr",
     "output_type": "stream",
     "text": [
      "2023-07-11 17:08:05,487 INFO Request is running\n",
      "2023-07-11 17:08:54,043 INFO Request is failed\n",
      "2023-07-11 17:08:54,044 ERROR Message: an internal error occurred processing your request\n",
      "2023-07-11 17:08:54,045 ERROR Reason:  Process error: Sorry, process failed. Please check server error log.\n",
      "2023-07-11 17:08:54,047 ERROR   Traceback (most recent call last):\n",
      "2023-07-11 17:08:54,047 ERROR     File \"/usr/local/lib/python3.6/site-packages/rooki/results.py\", line 33, in url\n",
      "2023-07-11 17:08:54,049 ERROR       return self.response.get()[0]\n",
      "2023-07-11 17:08:54,049 ERROR     File \"/usr/local/lib/python3.6/site-packages/birdy/client/outputs.py\", line 40, in get\n",
      "2023-07-11 17:08:54,051 ERROR       raise ProcessFailed(\"Sorry, process failed.\")\n",
      "2023-07-11 17:08:54,052 ERROR   birdy.exceptions.ProcessFailed: Sorry, process failed.\n",
      "2023-07-11 17:08:54,099 INFO Welcome to the CDS\n",
      "2023-07-11 17:08:54,101 INFO Sending request to https://cds.climate.copernicus.eu/api/v2/resources/projections-cmip6\n",
      "2023-07-11 17:08:54,208 INFO Request is queued\n"
     ]
    },
    {
     "name": "stdout",
     "output_type": "stream",
     "text": [
      "Some parameters are not matching\n",
      "Test with model iitm_esm\n",
      "path_for_file does not exist: the data may not have been downloaded\n",
      "file_download does not exist: the data were not downloaded\n"
     ]
    },
    {
     "name": "stderr",
     "output_type": "stream",
     "text": [
      "2023-07-11 17:08:55,258 INFO Request is running\n",
      "2023-07-11 17:09:26,738 INFO Request is failed\n",
      "2023-07-11 17:09:26,739 ERROR Message: an internal error occurred processing your request\n",
      "2023-07-11 17:09:26,741 ERROR Reason:  Process error: 2100\n",
      "2023-07-11 17:09:26,742 ERROR   Traceback (most recent call last):\n",
      "2023-07-11 17:09:26,743 ERROR     File \"/usr/local/lib/python3.6/site-packages/rooki/results.py\", line 33, in url\n",
      "2023-07-11 17:09:26,744 ERROR       return self.response.get()[0]\n",
      "2023-07-11 17:09:26,745 ERROR     File \"/usr/local/lib/python3.6/site-packages/birdy/client/outputs.py\", line 40, in get\n",
      "2023-07-11 17:09:26,748 ERROR       raise ProcessFailed(\"Sorry, process failed.\")\n",
      "2023-07-11 17:09:26,749 ERROR   birdy.exceptions.ProcessFailed: Sorry, process failed.\n",
      "2023-07-11 17:09:26,797 INFO Welcome to the CDS\n",
      "2023-07-11 17:09:26,799 INFO Sending request to https://cds.climate.copernicus.eu/api/v2/resources/projections-cmip6\n",
      "2023-07-11 17:09:26,882 INFO Request is queued\n"
     ]
    },
    {
     "name": "stdout",
     "output_type": "stream",
     "text": [
      "Some parameters are not matching\n",
      "Test with model inm_cm5_0\n",
      "path_for_file does not exist: the data may not have been downloaded\n",
      "file_download does not exist: the data were not downloaded\n"
     ]
    },
    {
     "name": "stderr",
     "output_type": "stream",
     "text": [
      "2023-07-11 17:09:27,929 INFO Request is running\n",
      "2023-07-11 17:13:45,315 INFO Request is completed\n",
      "2023-07-11 17:13:45,318 INFO Downloading https://download-0010-clone.copernicus-climate.eu/cache-compute-0010/cache/data2/adaptor.esgf_wps.retrieve-1689088367.8926814-25645-15-e6815bf1-a20a-4662-aadf-4f7fd7590e35.zip to download.zip (7.3M)\n",
      "2023-07-11 17:13:47,889 INFO Download rate 2.9M/s                                                                      \n"
     ]
    },
    {
     "name": "stdout",
     "output_type": "stream",
     "text": [
      "The file has been download\n",
      "Path for the file is created, did not existed before\n"
     ]
    },
    {
     "name": "stderr",
     "output_type": "stream",
     "text": [
      "2023-07-11 17:13:50,283 INFO Welcome to the CDS\n",
      "2023-07-11 17:13:50,284 INFO Sending request to https://cds.climate.copernicus.eu/api/v2/resources/projections-cmip6\n",
      "2023-07-11 17:13:50,329 INFO Request is queued\n"
     ]
    },
    {
     "name": "stdout",
     "output_type": "stream",
     "text": [
      "\n",
      " The downloaded file is extracted\n",
      "The file has been extracted\n",
      "Test with model ipsl_cm6a_lr\n",
      "path_for_file does not exist: the data may not have been downloaded\n",
      "file_download does not exist: the data were not downloaded\n"
     ]
    },
    {
     "name": "stderr",
     "output_type": "stream",
     "text": [
      "2023-07-11 17:13:51,384 INFO Request is running\n",
      "2023-07-11 17:14:39,990 INFO Request is completed\n",
      "2023-07-11 17:14:39,991 INFO Downloading https://download-0018.copernicus-climate.eu/cache-compute-0018/cache/data2/adaptor.esgf_wps.retrieve-1689088475.0514362-7301-12-ae908da0-af4c-4c0c-8cf0-7ee145db71a1.zip to download.zip (10.9M)\n",
      "2023-07-11 17:14:42,022 INFO Download rate 5.4M/s                                                                      \n"
     ]
    },
    {
     "name": "stdout",
     "output_type": "stream",
     "text": [
      "The file has been download\n",
      "Path for the file is created, did not existed before\n"
     ]
    },
    {
     "name": "stderr",
     "output_type": "stream",
     "text": [
      "2023-07-11 17:14:44,637 INFO Welcome to the CDS\n",
      "2023-07-11 17:14:44,638 INFO Sending request to https://cds.climate.copernicus.eu/api/v2/resources/projections-cmip6\n",
      "2023-07-11 17:14:44,705 INFO Request is queued\n"
     ]
    },
    {
     "name": "stdout",
     "output_type": "stream",
     "text": [
      "\n",
      " The downloaded file is extracted\n",
      "The file has been extracted\n",
      "Test with model kiost_esm\n",
      "path_for_file does not exist: the data may not have been downloaded\n",
      "file_download does not exist: the data were not downloaded\n"
     ]
    },
    {
     "name": "stderr",
     "output_type": "stream",
     "text": [
      "2023-07-11 17:14:45,755 INFO Request is running\n",
      "2023-07-11 17:21:03,611 INFO Request is completed\n",
      "2023-07-11 17:21:03,612 INFO Downloading https://download-0006-clone.copernicus-climate.eu/cache-compute-0006/cache/data7/adaptor.esgf_wps.retrieve-1689088764.304979-32147-10-c9a6cf4b-7f7f-4637-98c5-eb1f3f29c2d1.zip to download.zip (10.5M)\n",
      "2023-07-11 17:21:05,577 INFO Download rate 5.3M/s                                                                      \n"
     ]
    },
    {
     "name": "stdout",
     "output_type": "stream",
     "text": [
      "The file has been download\n",
      "Path for the file is created, did not existed before\n"
     ]
    },
    {
     "name": "stderr",
     "output_type": "stream",
     "text": [
      "2023-07-11 17:21:08,580 INFO Welcome to the CDS\n",
      "2023-07-11 17:21:08,580 INFO Sending request to https://cds.climate.copernicus.eu/api/v2/resources/projections-cmip6\n",
      "2023-07-11 17:21:08,656 INFO Request is queued\n"
     ]
    },
    {
     "name": "stdout",
     "output_type": "stream",
     "text": [
      "\n",
      " The downloaded file is extracted\n",
      "The file has been extracted\n",
      "Test with model miroc6\n",
      "path_for_file does not exist: the data may not have been downloaded\n",
      "file_download does not exist: the data were not downloaded\n"
     ]
    },
    {
     "name": "stderr",
     "output_type": "stream",
     "text": [
      "2023-07-11 17:21:09,698 INFO Request is running\n",
      "2023-07-11 17:24:00,232 INFO Request is completed\n",
      "2023-07-11 17:24:00,234 INFO Downloading https://download-0014-clone.copernicus-climate.eu/cache-compute-0014/cache/data4/adaptor.esgf_wps.retrieve-1689089010.469287-8124-8-81af2365-37f7-4a29-b443-8a2da2706fb0.zip to download.zip (9.2M)\n",
      "2023-07-11 17:24:03,416 INFO Download rate 2.9M/s                                                                      \n"
     ]
    },
    {
     "name": "stdout",
     "output_type": "stream",
     "text": [
      "The file has been download\n",
      "Path for the file is created, did not existed before\n"
     ]
    },
    {
     "name": "stderr",
     "output_type": "stream",
     "text": [
      "2023-07-11 17:24:06,800 INFO Welcome to the CDS\n",
      "2023-07-11 17:24:06,801 INFO Sending request to https://cds.climate.copernicus.eu/api/v2/resources/projections-cmip6\n",
      "2023-07-11 17:24:06,896 INFO Request is queued\n"
     ]
    },
    {
     "name": "stdout",
     "output_type": "stream",
     "text": [
      "\n",
      " The downloaded file is extracted\n",
      "The file has been extracted\n",
      "Test with model miroc_es2l\n",
      "path_for_file does not exist: the data may not have been downloaded\n",
      "file_download does not exist: the data were not downloaded\n"
     ]
    },
    {
     "name": "stderr",
     "output_type": "stream",
     "text": [
      "2023-07-11 17:24:07,953 INFO Request is running\n",
      "2023-07-11 17:24:56,534 INFO Request is completed\n",
      "2023-07-11 17:24:56,536 INFO Downloading https://download-0021.copernicus-climate.eu/cache-compute-0021/cache/data6/adaptor.esgf_wps.retrieve-1689089092.2302873-21061-19-41e4cdb3-259f-4002-9271-73ed64fda47f.zip to download.zip (2.9M)\n",
      "2023-07-11 17:24:57,856 INFO Download rate 2.2M/s                                                                      \n"
     ]
    },
    {
     "name": "stdout",
     "output_type": "stream",
     "text": [
      "The file has been download\n",
      "Path for the file is created, did not existed before\n"
     ]
    },
    {
     "name": "stderr",
     "output_type": "stream",
     "text": [
      "2023-07-11 17:24:59,768 INFO Welcome to the CDS\n",
      "2023-07-11 17:24:59,770 INFO Sending request to https://cds.climate.copernicus.eu/api/v2/resources/projections-cmip6\n",
      "2023-07-11 17:24:59,858 INFO Request is queued\n"
     ]
    },
    {
     "name": "stdout",
     "output_type": "stream",
     "text": [
      "\n",
      " The downloaded file is extracted\n",
      "The file has been extracted\n",
      "Test with model mpi_esm1_2_hr\n",
      "path_for_file does not exist: the data may not have been downloaded\n",
      "file_download does not exist: the data were not downloaded\n"
     ]
    },
    {
     "name": "stderr",
     "output_type": "stream",
     "text": [
      "2023-07-11 17:25:00,912 INFO Request is failed\n",
      "2023-07-11 17:25:00,914 ERROR Message: an internal error occurred processing your request\n",
      "2023-07-11 17:25:00,916 ERROR Reason:  No matching data for request {'experiment': 'ssp245', 'model': 'MPI-ESM1-2-HR', 'temporal_resolution': 'day', 'variable': 'pr'}\n",
      "2023-07-11 17:25:00,917 ERROR   Traceback (most recent call last):\n",
      "2023-07-11 17:25:00,920 ERROR     File \"/opt/cdstoolbox/cdscompute/cdscompute/cdshandlers/services/handler.py\", line 59, in handle_request\n",
      "2023-07-11 17:25:00,921 ERROR       result = cached(context.method, proc, context, context.args, context.kwargs)\n",
      "2023-07-11 17:25:00,923 ERROR     File \"/opt/cdstoolbox/cdscompute/cdscompute/caching.py\", line 108, in cached\n",
      "2023-07-11 17:25:00,923 ERROR       result = proc(context, *context.args, **context.kwargs)\n",
      "2023-07-11 17:25:00,927 ERROR     File \"/opt/cdstoolbox/cdscompute/cdscompute/services.py\", line 124, in __call__\n",
      "2023-07-11 17:25:00,928 ERROR       return p(*args, **kwargs)\n",
      "2023-07-11 17:25:00,929 ERROR     File \"/opt/cdstoolbox/cdscompute/cdscompute/services.py\", line 60, in __call__\n",
      "2023-07-11 17:25:00,930 ERROR       return self.proc(context, *args, **kwargs)\n",
      "2023-07-11 17:25:00,931 ERROR     File \"/home/cds/cdsservices/services/esgf_wps/__init__.py\", line 30, in execute\n",
      "2023-07-11 17:25:00,933 ERROR       request_facets, request = facets.search(context, request)\n",
      "2023-07-11 17:25:00,934 ERROR     File \"/home/cds/cdsservices/services/esgf_wps/facets.py\", line 61, in search\n",
      "2023-07-11 17:25:00,935 ERROR       raise ValueError(f'No matching data for request {tmp_request}')\n",
      "2023-07-11 17:25:00,937 ERROR   ValueError: No matching data for request {'experiment': 'ssp245', 'model': 'MPI-ESM1-2-HR', 'temporal_resolution': 'day', 'variable': 'pr'}\n",
      "2023-07-11 17:25:00,977 INFO Welcome to the CDS\n",
      "2023-07-11 17:25:00,979 INFO Sending request to https://cds.climate.copernicus.eu/api/v2/resources/projections-cmip6\n"
     ]
    },
    {
     "name": "stdout",
     "output_type": "stream",
     "text": [
      "Some parameters are not matching\n",
      "Test with model mri_esm2_0\n",
      "path_for_file does not exist: the data may not have been downloaded\n",
      "file_download does not exist: the data were not downloaded\n"
     ]
    },
    {
     "name": "stderr",
     "output_type": "stream",
     "text": [
      "2023-07-11 17:25:01,138 INFO Request is queued\n",
      "2023-07-11 17:25:02,188 INFO Request is running\n",
      "2023-07-11 17:27:52,657 INFO Request is completed\n",
      "2023-07-11 17:27:52,658 INFO Downloading https://download-0000-clone.copernicus-climate.eu/cache-compute-0000/cache/data6/adaptor.esgf_wps.retrieve-1689089234.627628-6341-8-cbecf75f-1b20-435f-8a66-266fe606a1c0.zip to download.zip (16.7M)\n",
      "2023-07-11 17:27:55,240 INFO Download rate 6.5M/s                                                                      \n"
     ]
    },
    {
     "name": "stdout",
     "output_type": "stream",
     "text": [
      "The file has been download\n",
      "Path for the file is created, did not existed before\n"
     ]
    },
    {
     "name": "stderr",
     "output_type": "stream",
     "text": [
      "2023-07-11 17:27:58,905 INFO Welcome to the CDS\n",
      "2023-07-11 17:27:58,906 INFO Sending request to https://cds.climate.copernicus.eu/api/v2/resources/projections-cmip6\n",
      "2023-07-11 17:27:58,988 INFO Request is queued\n"
     ]
    },
    {
     "name": "stdout",
     "output_type": "stream",
     "text": [
      "\n",
      " The downloaded file is extracted\n",
      "The file has been extracted\n",
      "Test with model norcpm1\n",
      "path_for_file does not exist: the data may not have been downloaded\n",
      "file_download does not exist: the data were not downloaded\n"
     ]
    },
    {
     "name": "stderr",
     "output_type": "stream",
     "text": [
      "2023-07-11 17:28:00,044 INFO Request is failed\n",
      "2023-07-11 17:28:00,045 ERROR Message: an internal error occurred processing your request\n",
      "2023-07-11 17:28:00,046 ERROR Reason:  No matching data for request {'experiment': 'ssp245', 'model': 'NorCPM1', 'temporal_resolution': 'day', 'variable': 'pr'}\n",
      "2023-07-11 17:28:00,047 ERROR   Traceback (most recent call last):\n",
      "2023-07-11 17:28:00,048 ERROR     File \"/opt/cdstoolbox/cdscompute/cdscompute/cdshandlers/services/handler.py\", line 59, in handle_request\n",
      "2023-07-11 17:28:00,048 ERROR       result = cached(context.method, proc, context, context.args, context.kwargs)\n",
      "2023-07-11 17:28:00,049 ERROR     File \"/opt/cdstoolbox/cdscompute/cdscompute/caching.py\", line 108, in cached\n",
      "2023-07-11 17:28:00,050 ERROR       result = proc(context, *context.args, **context.kwargs)\n",
      "2023-07-11 17:28:00,050 ERROR     File \"/opt/cdstoolbox/cdscompute/cdscompute/services.py\", line 124, in __call__\n",
      "2023-07-11 17:28:00,050 ERROR       return p(*args, **kwargs)\n",
      "2023-07-11 17:28:00,051 ERROR     File \"/opt/cdstoolbox/cdscompute/cdscompute/services.py\", line 60, in __call__\n",
      "2023-07-11 17:28:00,052 ERROR       return self.proc(context, *args, **kwargs)\n",
      "2023-07-11 17:28:00,053 ERROR     File \"/home/cds/cdsservices/services/esgf_wps/__init__.py\", line 30, in execute\n",
      "2023-07-11 17:28:00,054 ERROR       request_facets, request = facets.search(context, request)\n",
      "2023-07-11 17:28:00,054 ERROR     File \"/home/cds/cdsservices/services/esgf_wps/facets.py\", line 61, in search\n",
      "2023-07-11 17:28:00,055 ERROR       raise ValueError(f'No matching data for request {tmp_request}')\n",
      "2023-07-11 17:28:00,056 ERROR   ValueError: No matching data for request {'experiment': 'ssp245', 'model': 'NorCPM1', 'temporal_resolution': 'day', 'variable': 'pr'}\n",
      "2023-07-11 17:28:00,096 INFO Welcome to the CDS\n",
      "2023-07-11 17:28:00,098 INFO Sending request to https://cds.climate.copernicus.eu/api/v2/resources/projections-cmip6\n",
      "2023-07-11 17:28:00,159 INFO Request is queued\n"
     ]
    },
    {
     "name": "stdout",
     "output_type": "stream",
     "text": [
      "Some parameters are not matching\n",
      "Test with model noresm2_mm\n",
      "path_for_file does not exist: the data may not have been downloaded\n",
      "file_download does not exist: the data were not downloaded\n"
     ]
    },
    {
     "name": "stderr",
     "output_type": "stream",
     "text": [
      "2023-07-11 17:28:01,213 INFO Request is running\n",
      "2023-07-11 17:30:51,703 INFO Request is completed\n",
      "2023-07-11 17:30:51,705 INFO Downloading https://download-0010-clone.copernicus-climate.eu/cache-compute-0010/cache/data4/adaptor.esgf_wps.retrieve-1689089413.6956468-4592-3-5631b1ef-2096-4291-be44-932a9c8b1e1c.zip to download.zip (18.1M)\n",
      "2023-07-11 17:30:54,049 INFO Download rate 7.7M/s                                                                      \n"
     ]
    },
    {
     "name": "stdout",
     "output_type": "stream",
     "text": [
      "The file has been download\n",
      "Path for the file is created, did not existed before\n"
     ]
    },
    {
     "name": "stderr",
     "output_type": "stream",
     "text": [
      "2023-07-11 17:30:57,642 INFO Welcome to the CDS\n",
      "2023-07-11 17:30:57,644 INFO Sending request to https://cds.climate.copernicus.eu/api/v2/resources/projections-cmip6\n",
      "2023-07-11 17:30:57,729 INFO Request is queued\n"
     ]
    },
    {
     "name": "stdout",
     "output_type": "stream",
     "text": [
      "\n",
      " The downloaded file is extracted\n",
      "The file has been extracted\n",
      "Test with model taiesm1\n",
      "path_for_file does not exist: the data may not have been downloaded\n",
      "file_download does not exist: the data were not downloaded\n"
     ]
    },
    {
     "name": "stderr",
     "output_type": "stream",
     "text": [
      "2023-07-11 17:30:58,785 INFO Request is failed\n",
      "2023-07-11 17:30:58,786 ERROR Message: an internal error occurred processing your request\n",
      "2023-07-11 17:30:58,786 ERROR Reason:  No matching data for request {'experiment': 'ssp245', 'model': 'TaiESM1', 'temporal_resolution': 'day', 'variable': 'pr'}\n",
      "2023-07-11 17:30:58,787 ERROR   Traceback (most recent call last):\n",
      "2023-07-11 17:30:58,788 ERROR     File \"/opt/cdstoolbox/cdscompute/cdscompute/cdshandlers/services/handler.py\", line 59, in handle_request\n",
      "2023-07-11 17:30:58,789 ERROR       result = cached(context.method, proc, context, context.args, context.kwargs)\n",
      "2023-07-11 17:30:58,790 ERROR     File \"/opt/cdstoolbox/cdscompute/cdscompute/caching.py\", line 108, in cached\n",
      "2023-07-11 17:30:58,791 ERROR       result = proc(context, *context.args, **context.kwargs)\n",
      "2023-07-11 17:30:58,793 ERROR     File \"/opt/cdstoolbox/cdscompute/cdscompute/services.py\", line 124, in __call__\n",
      "2023-07-11 17:30:58,793 ERROR       return p(*args, **kwargs)\n",
      "2023-07-11 17:30:58,794 ERROR     File \"/opt/cdstoolbox/cdscompute/cdscompute/services.py\", line 60, in __call__\n",
      "2023-07-11 17:30:58,795 ERROR       return self.proc(context, *args, **kwargs)\n",
      "2023-07-11 17:30:58,796 ERROR     File \"/home/cds/cdsservices/services/esgf_wps/__init__.py\", line 30, in execute\n",
      "2023-07-11 17:30:58,797 ERROR       request_facets, request = facets.search(context, request)\n",
      "2023-07-11 17:30:58,798 ERROR     File \"/home/cds/cdsservices/services/esgf_wps/facets.py\", line 61, in search\n",
      "2023-07-11 17:30:58,799 ERROR       raise ValueError(f'No matching data for request {tmp_request}')\n",
      "2023-07-11 17:30:58,800 ERROR   ValueError: No matching data for request {'experiment': 'ssp245', 'model': 'TaiESM1', 'temporal_resolution': 'day', 'variable': 'pr'}\n",
      "2023-07-11 17:30:58,840 INFO Welcome to the CDS\n",
      "2023-07-11 17:30:58,842 INFO Sending request to https://cds.climate.copernicus.eu/api/v2/resources/projections-cmip6\n",
      "2023-07-11 17:30:58,918 INFO Request is queued\n"
     ]
    },
    {
     "name": "stdout",
     "output_type": "stream",
     "text": [
      "Some parameters are not matching\n",
      "Test with model access_esm1_5\n",
      "path_for_file does not exist: the data may not have been downloaded\n",
      "file_download does not exist: the data were not downloaded\n"
     ]
    },
    {
     "name": "stderr",
     "output_type": "stream",
     "text": [
      "2023-07-11 17:30:59,971 INFO Request is failed\n",
      "2023-07-11 17:30:59,972 ERROR Message: an internal error occurred processing your request\n",
      "2023-07-11 17:30:59,974 ERROR Reason:  No matching data for request {'experiment': 'ssp245', 'model': 'ACCESS-ESM1-5', 'temporal_resolution': 'day', 'variable': 'pr'}\n",
      "2023-07-11 17:30:59,976 ERROR   Traceback (most recent call last):\n",
      "2023-07-11 17:30:59,977 ERROR     File \"/opt/cdstoolbox/cdscompute/cdscompute/cdshandlers/services/handler.py\", line 59, in handle_request\n",
      "2023-07-11 17:30:59,978 ERROR       result = cached(context.method, proc, context, context.args, context.kwargs)\n",
      "2023-07-11 17:30:59,979 ERROR     File \"/opt/cdstoolbox/cdscompute/cdscompute/caching.py\", line 108, in cached\n",
      "2023-07-11 17:30:59,980 ERROR       result = proc(context, *context.args, **context.kwargs)\n",
      "2023-07-11 17:30:59,982 ERROR     File \"/opt/cdstoolbox/cdscompute/cdscompute/services.py\", line 124, in __call__\n",
      "2023-07-11 17:30:59,983 ERROR       return p(*args, **kwargs)\n",
      "2023-07-11 17:30:59,985 ERROR     File \"/opt/cdstoolbox/cdscompute/cdscompute/services.py\", line 60, in __call__\n",
      "2023-07-11 17:30:59,985 ERROR       return self.proc(context, *args, **kwargs)\n",
      "2023-07-11 17:30:59,987 ERROR     File \"/home/cds/cdsservices/services/esgf_wps/__init__.py\", line 30, in execute\n",
      "2023-07-11 17:30:59,988 ERROR       request_facets, request = facets.search(context, request)\n",
      "2023-07-11 17:30:59,989 ERROR     File \"/home/cds/cdsservices/services/esgf_wps/facets.py\", line 61, in search\n",
      "2023-07-11 17:30:59,990 ERROR       raise ValueError(f'No matching data for request {tmp_request}')\n",
      "2023-07-11 17:30:59,991 ERROR   ValueError: No matching data for request {'experiment': 'ssp245', 'model': 'ACCESS-ESM1-5', 'temporal_resolution': 'day', 'variable': 'pr'}\n",
      "2023-07-11 17:31:00,037 INFO Welcome to the CDS\n",
      "2023-07-11 17:31:00,038 INFO Sending request to https://cds.climate.copernicus.eu/api/v2/resources/projections-cmip6\n",
      "2023-07-11 17:31:00,133 INFO Request is queued\n"
     ]
    },
    {
     "name": "stdout",
     "output_type": "stream",
     "text": [
      "Some parameters are not matching\n",
      "Test with model awi_esm_1_1_lr\n",
      "path_for_file does not exist: the data may not have been downloaded\n",
      "file_download does not exist: the data were not downloaded\n"
     ]
    },
    {
     "name": "stderr",
     "output_type": "stream",
     "text": [
      "2023-07-11 17:31:01,175 INFO Request is failed\n",
      "2023-07-11 17:31:01,176 ERROR Message: an internal error occurred processing your request\n",
      "2023-07-11 17:31:01,177 ERROR Reason:  No matching data for request {'experiment': 'ssp245', 'model': 'AWI-ESM-1-1-LR', 'temporal_resolution': 'day', 'variable': 'pr'}\n",
      "2023-07-11 17:31:01,178 ERROR   Traceback (most recent call last):\n",
      "2023-07-11 17:31:01,180 ERROR     File \"/opt/cdstoolbox/cdscompute/cdscompute/cdshandlers/services/handler.py\", line 59, in handle_request\n",
      "2023-07-11 17:31:01,181 ERROR       result = cached(context.method, proc, context, context.args, context.kwargs)\n",
      "2023-07-11 17:31:01,184 ERROR     File \"/opt/cdstoolbox/cdscompute/cdscompute/caching.py\", line 108, in cached\n",
      "2023-07-11 17:31:01,185 ERROR       result = proc(context, *context.args, **context.kwargs)\n",
      "2023-07-11 17:31:01,186 ERROR     File \"/opt/cdstoolbox/cdscompute/cdscompute/services.py\", line 124, in __call__\n",
      "2023-07-11 17:31:01,186 ERROR       return p(*args, **kwargs)\n",
      "2023-07-11 17:31:01,187 ERROR     File \"/opt/cdstoolbox/cdscompute/cdscompute/services.py\", line 60, in __call__\n",
      "2023-07-11 17:31:01,188 ERROR       return self.proc(context, *args, **kwargs)\n",
      "2023-07-11 17:31:01,189 ERROR     File \"/home/cds/cdsservices/services/esgf_wps/__init__.py\", line 30, in execute\n",
      "2023-07-11 17:31:01,190 ERROR       request_facets, request = facets.search(context, request)\n",
      "2023-07-11 17:31:01,191 ERROR     File \"/home/cds/cdsservices/services/esgf_wps/facets.py\", line 61, in search\n",
      "2023-07-11 17:31:01,192 ERROR       raise ValueError(f'No matching data for request {tmp_request}')\n",
      "2023-07-11 17:31:01,193 ERROR   ValueError: No matching data for request {'experiment': 'ssp245', 'model': 'AWI-ESM-1-1-LR', 'temporal_resolution': 'day', 'variable': 'pr'}\n",
      "2023-07-11 17:31:01,236 INFO Welcome to the CDS\n",
      "2023-07-11 17:31:01,237 INFO Sending request to https://cds.climate.copernicus.eu/api/v2/resources/projections-cmip6\n",
      "2023-07-11 17:31:01,301 INFO Request is queued\n"
     ]
    },
    {
     "name": "stdout",
     "output_type": "stream",
     "text": [
      "Some parameters are not matching\n",
      "Test with model bcc_esm1\n",
      "path_for_file does not exist: the data may not have been downloaded\n",
      "file_download does not exist: the data were not downloaded\n"
     ]
    },
    {
     "name": "stderr",
     "output_type": "stream",
     "text": [
      "2023-07-11 17:31:02,347 INFO Request is failed\n",
      "2023-07-11 17:31:02,349 ERROR Message: an internal error occurred processing your request\n",
      "2023-07-11 17:31:02,351 ERROR Reason:  No matching data for request {'experiment': 'ssp245', 'model': 'BCC-ESM1', 'temporal_resolution': 'day', 'variable': 'pr'}\n",
      "2023-07-11 17:31:02,352 ERROR   Traceback (most recent call last):\n",
      "2023-07-11 17:31:02,354 ERROR     File \"/opt/cdstoolbox/cdscompute/cdscompute/cdshandlers/services/handler.py\", line 59, in handle_request\n",
      "2023-07-11 17:31:02,357 ERROR       result = cached(context.method, proc, context, context.args, context.kwargs)\n",
      "2023-07-11 17:31:02,358 ERROR     File \"/opt/cdstoolbox/cdscompute/cdscompute/caching.py\", line 108, in cached\n",
      "2023-07-11 17:31:02,358 ERROR       result = proc(context, *context.args, **context.kwargs)\n",
      "2023-07-11 17:31:02,359 ERROR     File \"/opt/cdstoolbox/cdscompute/cdscompute/services.py\", line 124, in __call__\n",
      "2023-07-11 17:31:02,361 ERROR       return p(*args, **kwargs)\n",
      "2023-07-11 17:31:02,361 ERROR     File \"/opt/cdstoolbox/cdscompute/cdscompute/services.py\", line 60, in __call__\n",
      "2023-07-11 17:31:02,362 ERROR       return self.proc(context, *args, **kwargs)\n",
      "2023-07-11 17:31:02,362 ERROR     File \"/home/cds/cdsservices/services/esgf_wps/__init__.py\", line 30, in execute\n",
      "2023-07-11 17:31:02,364 ERROR       request_facets, request = facets.search(context, request)\n",
      "2023-07-11 17:31:02,365 ERROR     File \"/home/cds/cdsservices/services/esgf_wps/facets.py\", line 61, in search\n",
      "2023-07-11 17:31:02,366 ERROR       raise ValueError(f'No matching data for request {tmp_request}')\n",
      "2023-07-11 17:31:02,367 ERROR   ValueError: No matching data for request {'experiment': 'ssp245', 'model': 'BCC-ESM1', 'temporal_resolution': 'day', 'variable': 'pr'}\n",
      "2023-07-11 17:31:02,421 INFO Welcome to the CDS\n",
      "2023-07-11 17:31:02,422 INFO Sending request to https://cds.climate.copernicus.eu/api/v2/resources/projections-cmip6\n",
      "2023-07-11 17:31:02,478 INFO Request is queued\n"
     ]
    },
    {
     "name": "stdout",
     "output_type": "stream",
     "text": [
      "Some parameters are not matching\n",
      "Test with model canesm5\n",
      "path_for_file does not exist: the data may not have been downloaded\n",
      "file_download does not exist: the data were not downloaded\n"
     ]
    },
    {
     "name": "stderr",
     "output_type": "stream",
     "text": [
      "2023-07-11 17:31:03,533 INFO Request is running\n",
      "2023-07-11 17:32:17,814 INFO Request is completed\n",
      "2023-07-11 17:32:17,815 INFO Downloading https://download-0006-clone.copernicus-climate.eu/cache-compute-0006/cache/data8/adaptor.esgf_wps.retrieve-1689089523.131858-32147-17-1e9d6542-4546-478b-a7d7-5968d9f1c20e.zip to download.zip (8.4M)\n",
      "2023-07-11 17:32:19,551 INFO Download rate 4.8M/s                                                                      \n"
     ]
    },
    {
     "name": "stdout",
     "output_type": "stream",
     "text": [
      "The file has been download\n",
      "Path for the file is created, did not existed before\n"
     ]
    },
    {
     "name": "stderr",
     "output_type": "stream",
     "text": [
      "2023-07-11 17:32:22,410 INFO Welcome to the CDS\n",
      "2023-07-11 17:32:22,411 INFO Sending request to https://cds.climate.copernicus.eu/api/v2/resources/projections-cmip6\n",
      "2023-07-11 17:32:22,464 INFO Request is queued\n"
     ]
    },
    {
     "name": "stdout",
     "output_type": "stream",
     "text": [
      "\n",
      " The downloaded file is extracted\n",
      "The file has been extracted\n",
      "Test with model cesm2\n",
      "path_for_file does not exist: the data may not have been downloaded\n",
      "file_download does not exist: the data were not downloaded\n"
     ]
    },
    {
     "name": "stderr",
     "output_type": "stream",
     "text": [
      "2023-07-11 17:32:23,513 INFO Request is running\n",
      "2023-07-11 17:35:14,010 INFO Request is completed\n",
      "2023-07-11 17:35:14,012 INFO Downloading https://download-0001-clone.copernicus-climate.eu/cache-compute-0001/cache/data0/adaptor.esgf_wps.retrieve-1689089696.5602698-7230-10-ecf189b5-5b9a-4fd0-948f-48010936d025.zip to download.zip (18.3M)\n",
      "2023-07-11 17:35:15,676 INFO Download rate 11M/s                                                                       \n"
     ]
    },
    {
     "name": "stdout",
     "output_type": "stream",
     "text": [
      "The file has been download\n",
      "Path for the file is created, did not existed before\n"
     ]
    },
    {
     "name": "stderr",
     "output_type": "stream",
     "text": [
      "2023-07-11 17:35:19,475 INFO Welcome to the CDS\n",
      "2023-07-11 17:35:19,477 INFO Sending request to https://cds.climate.copernicus.eu/api/v2/resources/projections-cmip6\n"
     ]
    },
    {
     "name": "stdout",
     "output_type": "stream",
     "text": [
      "\n",
      " The downloaded file is extracted\n",
      "The file has been extracted\n",
      "Test with model cesm2_waccm\n",
      "path_for_file does not exist: the data may not have been downloaded\n",
      "file_download does not exist: the data were not downloaded\n"
     ]
    },
    {
     "name": "stderr",
     "output_type": "stream",
     "text": [
      "2023-07-11 17:35:20,025 INFO Request is queued\n",
      "2023-07-11 17:35:21,073 INFO Request is failed\n",
      "2023-07-11 17:35:21,074 ERROR Message: an internal error occurred processing your request\n",
      "2023-07-11 17:35:21,074 ERROR Reason:  No matching data for request {'experiment': 'ssp245', 'model': 'CESM2-WACCM', 'temporal_resolution': 'day', 'variable': 'pr'}\n",
      "2023-07-11 17:35:21,076 ERROR   Traceback (most recent call last):\n",
      "2023-07-11 17:35:21,077 ERROR     File \"/opt/cdstoolbox/cdscompute/cdscompute/cdshandlers/services/handler.py\", line 59, in handle_request\n",
      "2023-07-11 17:35:21,078 ERROR       result = cached(context.method, proc, context, context.args, context.kwargs)\n",
      "2023-07-11 17:35:21,079 ERROR     File \"/opt/cdstoolbox/cdscompute/cdscompute/caching.py\", line 108, in cached\n",
      "2023-07-11 17:35:21,080 ERROR       result = proc(context, *context.args, **context.kwargs)\n",
      "2023-07-11 17:35:21,080 ERROR     File \"/opt/cdstoolbox/cdscompute/cdscompute/services.py\", line 124, in __call__\n",
      "2023-07-11 17:35:21,081 ERROR       return p(*args, **kwargs)\n",
      "2023-07-11 17:35:21,081 ERROR     File \"/opt/cdstoolbox/cdscompute/cdscompute/services.py\", line 60, in __call__\n",
      "2023-07-11 17:35:21,082 ERROR       return self.proc(context, *args, **kwargs)\n",
      "2023-07-11 17:35:21,082 ERROR     File \"/home/cds/cdsservices/services/esgf_wps/__init__.py\", line 30, in execute\n",
      "2023-07-11 17:35:21,083 ERROR       request_facets, request = facets.search(context, request)\n",
      "2023-07-11 17:35:21,084 ERROR     File \"/home/cds/cdsservices/services/esgf_wps/facets.py\", line 61, in search\n",
      "2023-07-11 17:35:21,086 ERROR       raise ValueError(f'No matching data for request {tmp_request}')\n",
      "2023-07-11 17:35:21,087 ERROR   ValueError: No matching data for request {'experiment': 'ssp245', 'model': 'CESM2-WACCM', 'temporal_resolution': 'day', 'variable': 'pr'}\n",
      "2023-07-11 17:35:21,124 INFO Welcome to the CDS\n",
      "2023-07-11 17:35:21,125 INFO Sending request to https://cds.climate.copernicus.eu/api/v2/resources/projections-cmip6\n",
      "2023-07-11 17:35:21,211 INFO Request is queued\n"
     ]
    },
    {
     "name": "stdout",
     "output_type": "stream",
     "text": [
      "Some parameters are not matching\n",
      "Test with model ciesm\n",
      "path_for_file does not exist: the data may not have been downloaded\n",
      "file_download does not exist: the data were not downloaded\n"
     ]
    },
    {
     "name": "stderr",
     "output_type": "stream",
     "text": [
      "2023-07-11 17:35:22,252 INFO Request is failed\n",
      "2023-07-11 17:35:22,253 ERROR Message: an internal error occurred processing your request\n",
      "2023-07-11 17:35:22,254 ERROR Reason:  No matching data for request {'experiment': 'ssp245', 'model': 'CIESM', 'temporal_resolution': 'day', 'variable': 'pr'}\n",
      "2023-07-11 17:35:22,255 ERROR   Traceback (most recent call last):\n",
      "2023-07-11 17:35:22,255 ERROR     File \"/opt/cdstoolbox/cdscompute/cdscompute/cdshandlers/services/handler.py\", line 59, in handle_request\n",
      "2023-07-11 17:35:22,256 ERROR       result = cached(context.method, proc, context, context.args, context.kwargs)\n",
      "2023-07-11 17:35:22,257 ERROR     File \"/opt/cdstoolbox/cdscompute/cdscompute/caching.py\", line 108, in cached\n",
      "2023-07-11 17:35:22,259 ERROR       result = proc(context, *context.args, **context.kwargs)\n",
      "2023-07-11 17:35:22,260 ERROR     File \"/opt/cdstoolbox/cdscompute/cdscompute/services.py\", line 124, in __call__\n",
      "2023-07-11 17:35:22,260 ERROR       return p(*args, **kwargs)\n",
      "2023-07-11 17:35:22,261 ERROR     File \"/opt/cdstoolbox/cdscompute/cdscompute/services.py\", line 60, in __call__\n",
      "2023-07-11 17:35:22,261 ERROR       return self.proc(context, *args, **kwargs)\n",
      "2023-07-11 17:35:22,262 ERROR     File \"/home/cds/cdsservices/services/esgf_wps/__init__.py\", line 30, in execute\n",
      "2023-07-11 17:35:22,263 ERROR       request_facets, request = facets.search(context, request)\n",
      "2023-07-11 17:35:22,264 ERROR     File \"/home/cds/cdsservices/services/esgf_wps/facets.py\", line 61, in search\n",
      "2023-07-11 17:35:22,264 ERROR       raise ValueError(f'No matching data for request {tmp_request}')\n",
      "2023-07-11 17:35:22,265 ERROR   ValueError: No matching data for request {'experiment': 'ssp245', 'model': 'CIESM', 'temporal_resolution': 'day', 'variable': 'pr'}\n",
      "2023-07-11 17:35:22,306 INFO Welcome to the CDS\n",
      "2023-07-11 17:35:22,306 INFO Sending request to https://cds.climate.copernicus.eu/api/v2/resources/projections-cmip6\n",
      "2023-07-11 17:35:22,384 INFO Request is queued\n"
     ]
    },
    {
     "name": "stdout",
     "output_type": "stream",
     "text": [
      "Some parameters are not matching\n",
      "Test with model cmcc_cm2_sr5\n",
      "path_for_file does not exist: the data may not have been downloaded\n",
      "file_download does not exist: the data were not downloaded\n"
     ]
    },
    {
     "name": "stderr",
     "output_type": "stream",
     "text": [
      "2023-07-11 17:35:23,434 INFO Request is running\n",
      "2023-07-11 17:38:13,891 INFO Request is completed\n",
      "2023-07-11 17:38:13,893 INFO Downloading https://download-0011-clone.copernicus-climate.eu/cache-compute-0011/cache/data2/adaptor.esgf_wps.retrieve-1689089868.2573872-8646-8-33f8092a-efe8-487c-b11d-14e0ad0d596e.zip to download.zip (17.7M)\n",
      "2023-07-11 17:38:17,784 INFO Download rate 4.6M/s                                                                      \n"
     ]
    },
    {
     "name": "stdout",
     "output_type": "stream",
     "text": [
      "The file has been download\n",
      "Path for the file is created, did not existed before\n"
     ]
    },
    {
     "name": "stderr",
     "output_type": "stream",
     "text": [
      "2023-07-11 17:38:21,302 INFO Welcome to the CDS\n",
      "2023-07-11 17:38:21,303 INFO Sending request to https://cds.climate.copernicus.eu/api/v2/resources/projections-cmip6\n",
      "2023-07-11 17:38:21,394 INFO Request is queued\n"
     ]
    },
    {
     "name": "stdout",
     "output_type": "stream",
     "text": [
      "\n",
      " The downloaded file is extracted\n",
      "The file has been extracted\n",
      "Test with model cnrm_cm6_1\n",
      "path_for_file does not exist: the data may not have been downloaded\n",
      "file_download does not exist: the data were not downloaded\n"
     ]
    },
    {
     "name": "stderr",
     "output_type": "stream",
     "text": [
      "2023-07-11 17:38:22,430 INFO Request is running\n",
      "2023-07-11 17:40:15,189 INFO Request is completed\n",
      "2023-07-11 17:40:15,190 INFO Downloading https://download-0016.copernicus-climate.eu/cache-compute-0016/cache/data2/adaptor.esgf_wps.retrieve-1689089980.3071308-12271-13-8686d50c-4c5b-4226-9388-1ac41eeb9414.zip to download.zip (16.8M)\n",
      "2023-07-11 17:40:16,949 INFO Download rate 9.6M/s                                                                      \n"
     ]
    },
    {
     "name": "stdout",
     "output_type": "stream",
     "text": [
      "The file has been download\n",
      "Path for the file is created, did not existed before\n"
     ]
    },
    {
     "name": "stderr",
     "output_type": "stream",
     "text": [
      "2023-07-11 17:40:20,076 INFO Welcome to the CDS\n",
      "2023-07-11 17:40:20,077 INFO Sending request to https://cds.climate.copernicus.eu/api/v2/resources/projections-cmip6\n",
      "2023-07-11 17:40:20,152 INFO Request is queued\n"
     ]
    },
    {
     "name": "stdout",
     "output_type": "stream",
     "text": [
      "\n",
      " The downloaded file is extracted\n",
      "The file has been extracted\n",
      "Test with model cnrm_esm2_1\n",
      "path_for_file does not exist: the data may not have been downloaded\n",
      "file_download does not exist: the data were not downloaded\n"
     ]
    },
    {
     "name": "stderr",
     "output_type": "stream",
     "text": [
      "2023-07-11 17:40:21,198 INFO Request is running\n",
      "2023-07-11 17:43:11,663 INFO Request is completed\n",
      "2023-07-11 17:43:11,663 INFO Downloading https://download-0013-clone.copernicus-climate.eu/cache-compute-0013/cache/data0/adaptor.esgf_wps.retrieve-1689090129.1393988-14317-17-c9b7f2c5-e9d8-4420-ab4c-a3e36a579961.zip to download.zip (16.9M)\n",
      "2023-07-11 17:43:14,500 INFO Download rate 6M/s                                                                        \n"
     ]
    },
    {
     "name": "stdout",
     "output_type": "stream",
     "text": [
      "The file has been download\n",
      "Path for the file is created, did not existed before\n"
     ]
    },
    {
     "name": "stderr",
     "output_type": "stream",
     "text": [
      "2023-07-11 17:43:18,342 INFO Welcome to the CDS\n",
      "2023-07-11 17:43:18,342 INFO Sending request to https://cds.climate.copernicus.eu/api/v2/resources/projections-cmip6\n",
      "2023-07-11 17:43:18,392 INFO Request is queued\n"
     ]
    },
    {
     "name": "stdout",
     "output_type": "stream",
     "text": [
      "\n",
      " The downloaded file is extracted\n",
      "The file has been extracted\n",
      "Test with model e3sm_1_1\n",
      "path_for_file does not exist: the data may not have been downloaded\n",
      "file_download does not exist: the data were not downloaded\n"
     ]
    },
    {
     "name": "stderr",
     "output_type": "stream",
     "text": [
      "2023-07-11 17:43:19,444 INFO Request is failed\n",
      "2023-07-11 17:43:19,444 ERROR Message: an internal error occurred processing your request\n",
      "2023-07-11 17:43:19,452 ERROR Reason:  No matching data for request {'experiment': 'ssp245', 'model': 'E3SM-1-1', 'temporal_resolution': 'day', 'variable': 'pr'}\n",
      "2023-07-11 17:43:19,456 ERROR   Traceback (most recent call last):\n",
      "2023-07-11 17:43:19,456 ERROR     File \"/opt/cdstoolbox/cdscompute/cdscompute/cdshandlers/services/handler.py\", line 59, in handle_request\n",
      "2023-07-11 17:43:19,461 ERROR       result = cached(context.method, proc, context, context.args, context.kwargs)\n",
      "2023-07-11 17:43:19,461 ERROR     File \"/opt/cdstoolbox/cdscompute/cdscompute/caching.py\", line 108, in cached\n",
      "2023-07-11 17:43:19,461 ERROR       result = proc(context, *context.args, **context.kwargs)\n",
      "2023-07-11 17:43:19,461 ERROR     File \"/opt/cdstoolbox/cdscompute/cdscompute/services.py\", line 124, in __call__\n",
      "2023-07-11 17:43:19,461 ERROR       return p(*args, **kwargs)\n",
      "2023-07-11 17:43:19,467 ERROR     File \"/opt/cdstoolbox/cdscompute/cdscompute/services.py\", line 60, in __call__\n",
      "2023-07-11 17:43:19,469 ERROR       return self.proc(context, *args, **kwargs)\n",
      "2023-07-11 17:43:19,470 ERROR     File \"/home/cds/cdsservices/services/esgf_wps/__init__.py\", line 30, in execute\n",
      "2023-07-11 17:43:19,470 ERROR       request_facets, request = facets.search(context, request)\n",
      "2023-07-11 17:43:19,470 ERROR     File \"/home/cds/cdsservices/services/esgf_wps/facets.py\", line 61, in search\n",
      "2023-07-11 17:43:19,473 ERROR       raise ValueError(f'No matching data for request {tmp_request}')\n",
      "2023-07-11 17:43:19,473 ERROR   ValueError: No matching data for request {'experiment': 'ssp245', 'model': 'E3SM-1-1', 'temporal_resolution': 'day', 'variable': 'pr'}\n",
      "2023-07-11 17:43:19,513 INFO Welcome to the CDS\n",
      "2023-07-11 17:43:19,521 INFO Sending request to https://cds.climate.copernicus.eu/api/v2/resources/projections-cmip6\n",
      "2023-07-11 17:43:19,644 INFO Request is queued\n"
     ]
    },
    {
     "name": "stdout",
     "output_type": "stream",
     "text": [
      "Some parameters are not matching\n",
      "Test with model ec_earth3\n",
      "path_for_file does not exist: the data may not have been downloaded\n",
      "file_download does not exist: the data were not downloaded\n"
     ]
    },
    {
     "name": "stderr",
     "output_type": "stream",
     "text": [
      "2023-07-11 17:43:20,687 INFO Request is failed\n",
      "2023-07-11 17:43:20,689 ERROR Message: an internal error occurred processing your request\n",
      "2023-07-11 17:43:20,689 ERROR Reason:  No matching data for request {'experiment': 'ssp245', 'model': 'EC-Earth3', 'temporal_resolution': 'day', 'variable': 'pr'}\n",
      "2023-07-11 17:43:20,689 ERROR   Traceback (most recent call last):\n",
      "2023-07-11 17:43:20,689 ERROR     File \"/opt/cdstoolbox/cdscompute/cdscompute/cdshandlers/services/handler.py\", line 59, in handle_request\n",
      "2023-07-11 17:43:20,689 ERROR       result = cached(context.method, proc, context, context.args, context.kwargs)\n",
      "2023-07-11 17:43:20,695 ERROR     File \"/opt/cdstoolbox/cdscompute/cdscompute/caching.py\", line 108, in cached\n",
      "2023-07-11 17:43:20,696 ERROR       result = proc(context, *context.args, **context.kwargs)\n",
      "2023-07-11 17:43:20,696 ERROR     File \"/opt/cdstoolbox/cdscompute/cdscompute/services.py\", line 124, in __call__\n",
      "2023-07-11 17:43:20,697 ERROR       return p(*args, **kwargs)\n",
      "2023-07-11 17:43:20,697 ERROR     File \"/opt/cdstoolbox/cdscompute/cdscompute/services.py\", line 60, in __call__\n",
      "2023-07-11 17:43:20,697 ERROR       return self.proc(context, *args, **kwargs)\n",
      "2023-07-11 17:43:20,697 ERROR     File \"/home/cds/cdsservices/services/esgf_wps/__init__.py\", line 30, in execute\n",
      "2023-07-11 17:43:20,699 ERROR       request_facets, request = facets.search(context, request)\n",
      "2023-07-11 17:43:20,699 ERROR     File \"/home/cds/cdsservices/services/esgf_wps/facets.py\", line 61, in search\n",
      "2023-07-11 17:43:20,699 ERROR       raise ValueError(f'No matching data for request {tmp_request}')\n",
      "2023-07-11 17:43:20,701 ERROR   ValueError: No matching data for request {'experiment': 'ssp245', 'model': 'EC-Earth3', 'temporal_resolution': 'day', 'variable': 'pr'}\n",
      "2023-07-11 17:43:20,736 INFO Welcome to the CDS\n",
      "2023-07-11 17:43:20,744 INFO Sending request to https://cds.climate.copernicus.eu/api/v2/resources/projections-cmip6\n",
      "2023-07-11 17:43:20,813 INFO Request is queued\n"
     ]
    },
    {
     "name": "stdout",
     "output_type": "stream",
     "text": [
      "Some parameters are not matching\n",
      "Test with model ec_earth3_cc\n",
      "path_for_file does not exist: the data may not have been downloaded\n",
      "file_download does not exist: the data were not downloaded\n"
     ]
    },
    {
     "name": "stderr",
     "output_type": "stream",
     "text": [
      "2023-07-11 17:43:21,878 INFO Request is running\n"
     ]
    }
   ],
   "source": [
    "download_copernicus(temporal_resolution,year_str,copernicus_elements.experiments,copernicus_elements.models,out_path, global_variable, name_variable,area,name_area)"
   ]
  },
  {
   "cell_type": "code",
   "execution_count": null,
   "id": "24447e9c",
   "metadata": {},
   "outputs": [],
   "source": []
  },
  {
   "cell_type": "code",
   "execution_count": null,
   "id": "608a1c5d",
   "metadata": {},
   "outputs": [],
   "source": []
  },
  {
   "cell_type": "code",
   "execution_count": null,
   "id": "e3f49376",
   "metadata": {},
   "outputs": [],
   "source": []
  },
  {
   "cell_type": "code",
   "execution_count": null,
   "id": "c0fa8f86",
   "metadata": {},
   "outputs": [],
   "source": []
  },
  {
   "cell_type": "code",
   "execution_count": null,
   "id": "e84d26ff",
   "metadata": {},
   "outputs": [],
   "source": []
  },
  {
   "cell_type": "code",
   "execution_count": null,
   "id": "5b61213d",
   "metadata": {},
   "outputs": [],
   "source": []
  }
 ],
 "metadata": {
  "kernelspec": {
   "display_name": "Python 3 (ipykernel)",
   "language": "python",
   "name": "python3"
  },
  "language_info": {
   "codemirror_mode": {
    "name": "ipython",
    "version": 3
   },
   "file_extension": ".py",
   "mimetype": "text/x-python",
   "name": "python",
   "nbconvert_exporter": "python",
   "pygments_lexer": "ipython3",
   "version": "3.10.6"
  }
 },
 "nbformat": 4,
 "nbformat_minor": 5
}
