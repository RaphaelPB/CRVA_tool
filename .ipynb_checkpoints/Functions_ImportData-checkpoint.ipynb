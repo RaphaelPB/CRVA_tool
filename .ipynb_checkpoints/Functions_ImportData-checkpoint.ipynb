{
 "cells": [
  {
   "cell_type": "code",
   "execution_count": 1,
   "id": "4091e1cb",
   "metadata": {},
   "outputs": [],
   "source": [
    "import pandas as pd\n",
    "import numpy as np\n",
    "import os\n",
    "import os.path\n",
    "\n",
    "from Functions_Indicators import str_month\n",
    "from Functions_Indicators import add_year_month_season"
   ]
  },
  {
   "cell_type": "markdown",
   "id": "626e011d",
   "metadata": {},
   "source": [
    "## NOAA"
   ]
  },
  {
   "cell_type": "markdown",
   "id": "ef025f63",
   "metadata": {},
   "source": [
    "import_treat_obs_NOAA aims to import the original file containing the NOAA observation data. It used in 'Treat DATA NOAA Station'"
   ]
  },
  {
   "cell_type": "code",
   "execution_count": 2,
   "id": "377f6904",
   "metadata": {},
   "outputs": [],
   "source": [
    "# this function is meant to import the NOAA observation data\n",
    "def import_treat_obs_NOAA():\n",
    "    # path where the file is placed\n",
    "    path_file_NOAA = r'C:\\Users\\CLMRX\\COWI\\A248363 - Climate analysis - Documents\\General\\CRVA_tool\\Master_thesis\\Project\\3 - Implementation\\1 - Data\\1-BC\\NOAA-ClimateDataOnline\\3370204.csv'\n",
    "    # read the information in the file\n",
    "    data_obs_NOAA = pd.read_csv(path_file_NOAA)\n",
    "    # unit of PRCP are mm\n",
    "    # unit of temperature are degrees Celsius\n",
    "    \n",
    "    # add Year, month and season columns for graphs\n",
    "    data_obs_NOAA = add_year_month_season(data_obs_NOAA,'DATE')\n",
    "\n",
    "    return data_obs_NOAA"
   ]
  },
  {
   "cell_type": "markdown",
   "id": "536813f7",
   "metadata": {},
   "source": [
    "treat_NOAA_data aims to add information to the dataframe of the observation data. It is used in 'Treat DATA NOAA Station'"
   ]
  },
  {
   "cell_type": "code",
   "execution_count": 3,
   "id": "c59fd951",
   "metadata": {},
   "outputs": [],
   "source": [
    "def treat_NOAA_data(daily_sum_obs_from_NOAA):\n",
    "    \n",
    "    daily_sum_obs_from_NOAA = add_year_month_season(daily_sum_obs_from_NOAA,'DATE')\n",
    "    \n",
    "    daily_sum_obs_from_NOAA = daily_sum_obs_from_NOAA[daily_sum_obs_from_NOAA['Year'].between(1970,2014)]\n",
    "    \n",
    "    daily_sum_obs_from_NOAA=count_na_in_df_NOAA(daily_sum_obs_from_NOAA,'PRCP')\n",
    "    daily_sum_obs_from_NOAA=count_na_in_df_NOAA(daily_sum_obs_from_NOAA,'TAVG')\n",
    "    daily_sum_obs_from_NOAA=count_na_in_df_NOAA(daily_sum_obs_from_NOAA,'TMAX')\n",
    "    daily_sum_obs_from_NOAA=count_na_in_df_NOAA(daily_sum_obs_from_NOAA,'TMIN')\n",
    "    \n",
    "    return daily_sum_obs_from_NOAA"
   ]
  },
  {
   "cell_type": "code",
   "execution_count": 4,
   "id": "0fb9f6b4",
   "metadata": {},
   "outputs": [],
   "source": [
    "# this funciton count the missing values in the columns named name_col in the dataframe df\n",
    "def count_na_in_df_NOAA(df,name_col): # function used in treat_NOAA_data\n",
    "    df[name_col+' MISSING']=0\n",
    "    df[name_col+' MISSING'][df[name_col].isna()]=1\n",
    "    return df"
   ]
  },
  {
   "cell_type": "markdown",
   "id": "8f2572af",
   "metadata": {},
   "source": [
    "import_filtered_NOAA_obs aims to import the filtered observation NOAA data"
   ]
  },
  {
   "cell_type": "code",
   "execution_count": 13,
   "id": "493b54d2",
   "metadata": {},
   "outputs": [],
   "source": [
    "def import_filtered_NOAA_obs():\n",
    "    # path where the filtered file is placed\n",
    "    path_file_NOAA = r'C:\\Users\\CLMRX\\COWI\\A248363 - Climate analysis - Documents\\General\\CRVA_tool\\Master_thesis\\Project\\3 - Implementation\\1 - Data\\1-BC\\NOAA-ClimateDataOnline\\filtred_NOAA_obs_data.csv'\n",
    "    # read the information in the file\n",
    "    data_obs_NOAA = pd.read_csv(path_file_NOAA) \n",
    "    \n",
    "    data_obs_NOAA = data_obs_NOAA.drop('Unnamed: 0',axis=1)\n",
    "    \n",
    "    return data_obs_NOAA"
   ]
  },
  {
   "cell_type": "markdown",
   "id": "dee6322a",
   "metadata": {},
   "source": [
    "## CMIP6\n",
    "\n",
    "function 'import_CMIP6_past_close_to_NOAA' aims to import past CMIP6 data, at the same emplacement than the NOAA station"
   ]
  },
  {
   "cell_type": "code",
   "execution_count": 35,
   "id": "a7203d22",
   "metadata": {},
   "outputs": [],
   "source": [
    "def import_CMIP6_past_close_to_NOAA(global_variable,climate_var=''):\n",
    "    if 'pr' in global_variable:\n",
    "        path = r'\\\\COWI.net\\projects\\A245000\\A248363\\CRVA\\Datasets\\precipitation\\Copernicus-CMIP6\\csv\\1950-2014'\n",
    "    else:\n",
    "        out_path = r'\\\\COWI.net\\projects\\A245000\\A248363\\CRVA\\Datasets'\n",
    "        path = os.path.join(out_path,global_variable,climate_var,'Copernicus-CMIP6','csv','1950-2014')\n",
    "    \n",
    "    for name in os.listdir(path):\n",
    "        if 'Close_to_NOAA_Station' in name:\n",
    "            path_csv = os.path.join(path,name)\n",
    "            \n",
    "    df = pd.read_csv(path_csv)\n",
    "    \n",
    "    df = add_year_month_season(df,'Date') # add month, year and season\n",
    "    \n",
    "    return df"
   ]
  },
  {
   "cell_type": "markdown",
   "id": "d7db0976",
   "metadata": {},
   "source": [
    "## NEX-GDDP-CMIP6"
   ]
  },
  {
   "cell_type": "markdown",
   "id": "209927db",
   "metadata": {},
   "source": [
    "import_treat_modeled_NEX_GDDP_CMIP6_close_to_stationNOAA aims to import and treat the NEX GDDP CMIP6 data close to the NOAA station\n",
    "\n",
    "does not work"
   ]
  },
  {
   "cell_type": "code",
   "execution_count": 5,
   "id": "028c2ca6",
   "metadata": {},
   "outputs": [],
   "source": [
    "def import_treat_modeled_NEX_GDDP_CMIP6_close_to_stationNOAA(climate_var, unit):\n",
    "    # import data\n",
    "    \n",
    "    path_NEX_GDDP_CMIP6_EmplacementStation=os.path.join(r'\\\\COWI.net\\projects\\A245000\\A248363\\CRVA\\Datasets\\NEX-GDDP-CMIP6-AllMoz\\csv_file',climate_var,climate_var+'_'+unit+'_day_1970-2014_Closest_to_NOAA','NEXGDDPCMIP6_at_same_emplacement_as_NOAA_stationPembaChimoioBeira_'+climate_var+'_1970-2014_projectsMoz.csv')\n",
    "    \n",
    "    data_NEX_GDDP_CMIP6_EmplacementStation = pd.read_csv(path_NEX_GDDP_CMIP6_EmplacementStation)\n",
    "    \n",
    "    data_NEX_GDDP_CMIP6_EmplacementStation = add_year_month_season(data_NEX_GDDP_CMIP6_EmplacementStation,'Date')\n",
    "    \n",
    "    return data_NEX_GDDP_CMIP6_EmplacementStation"
   ]
  },
  {
   "cell_type": "markdown",
   "id": "e1ab30fd",
   "metadata": {},
   "source": [
    "import_treat_modeled_NEX_GDDP_CMIP6 aims to import and treat the NEX GDDP CMIP6 data at the emplacement of the project of interest\n",
    "\n",
    "does not work"
   ]
  },
  {
   "cell_type": "code",
   "execution_count": 6,
   "id": "7269f510",
   "metadata": {},
   "outputs": [],
   "source": [
    "def import_treat_modeled_NEX_GDDP_CMIP6(climate_var, unit,temporal_resolution,start_y,stop_y):\n",
    "    # import data\n",
    "    \n",
    "    #if climate_var =='pr':\n",
    "    path_NEX_GDDP_CMIP6=os.path.join(r'\\\\COWI.net\\projects\\A245000\\A248363\\CRVA\\Datasets\\NEX-GDDP-CMIP6-AllMoz\\csv_file',climate_var,climate_var+'_'+unit+'_'+temporal_resolution+'_'+str(start_y)+'-'+str(stop_y),climate_var+'_'+str(start_y)+'-'+str(stop_y)+'_projectsMoz.csv')\n",
    "    #else: # temperature\n",
    "        #path_NEX_GDDP_CMIP6=os.path.join(r'\\\\COWI.net\\projects\\A245000\\A248363\\CRVA\\Datasets\\NEX-GDDP-CMIP6-AllMoz\\csv_file',climate_var,climate_var+'_Celsius_day_1950-2100',climate_var+'_1950-2100_projectsMoz.csv')\n",
    "        \n",
    "    data_NEX_GDDP_CMIP6 = pd.read_csv(path_NEX_GDDP_CMIP6)\n",
    "    \n",
    "    data_NEX_GDDP_CMIP6 = add_year_month_season(data_NEX_GDDP_CMIP6,'Date')\n",
    "    \n",
    "    return data_NEX_GDDP_CMIP6"
   ]
  },
  {
   "cell_type": "code",
   "execution_count": null,
   "id": "6ba87728",
   "metadata": {},
   "outputs": [],
   "source": []
  },
  {
   "cell_type": "code",
   "execution_count": null,
   "id": "f3bd44f8",
   "metadata": {},
   "outputs": [],
   "source": []
  }
 ],
 "metadata": {
  "kernelspec": {
   "display_name": "Python 3 (ipykernel)",
   "language": "python",
   "name": "python3"
  },
  "language_info": {
   "codemirror_mode": {
    "name": "ipython",
    "version": 3
   },
   "file_extension": ".py",
   "mimetype": "text/x-python",
   "name": "python",
   "nbconvert_exporter": "python",
   "pygments_lexer": "ipython3",
   "version": "3.10.6"
  }
 },
 "nbformat": 4,
 "nbformat_minor": 5
}
