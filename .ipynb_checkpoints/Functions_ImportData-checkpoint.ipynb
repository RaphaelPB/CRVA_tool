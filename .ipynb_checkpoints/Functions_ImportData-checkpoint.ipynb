{
 "cells": [
  {
   "cell_type": "code",
   "execution_count": 1,
   "id": "362ee4cb",
   "metadata": {},
   "outputs": [],
   "source": [
    "import pandas as pd\n",
    "import os\n",
    "import os.path"
   ]
  },
  {
   "cell_type": "code",
   "execution_count": 2,
   "id": "f2f299a6",
   "metadata": {},
   "outputs": [],
   "source": [
    "def treat_NOAA_data(daily_sum_obs_from_NOAA):\n",
    "    \n",
    "    daily_sum_obs_from_NOAA = add_year_month_season(daily_sum_obs_from_NOAA,'DATE')\n",
    "    \n",
    "    daily_sum_obs_from_NOAA = daily_sum_obs_from_NOAA[daily_sum_obs_from_NOAA['Year'].between(1970,2014)]\n",
    "    \n",
    "    daily_sum_obs_from_NOAA=count_na_in_df_NOAA(daily_sum_obs_from_NOAA,'PRCP')\n",
    "    daily_sum_obs_from_NOAA=count_na_in_df_NOAA(daily_sum_obs_from_NOAA,'TAVG')\n",
    "    daily_sum_obs_from_NOAA=count_na_in_df_NOAA(daily_sum_obs_from_NOAA,'TMAX')\n",
    "    daily_sum_obs_from_NOAA=count_na_in_df_NOAA(daily_sum_obs_from_NOAA,'TMIN')\n",
    "    \n",
    "    return daily_sum_obs_from_NOAA"
   ]
  },
  {
   "cell_type": "code",
   "execution_count": 3,
   "id": "2b36012c",
   "metadata": {},
   "outputs": [],
   "source": [
    "def import_treat_modeled_NEX_GDDP_CMIP6_close_to_stationNOAA(climate_var, unit):\n",
    "    # import data\n",
    "    \n",
    "    path_NEX_GDDP_CMIP6_EmplacementStation=os.path.join(r'\\\\COWI.net\\projects\\A245000\\A248363\\CRVA\\Datasets\\NEX-GDDP-CMIP6-AllMoz\\csv_file',climate_var,climate_var+'_'+unit+'_day_1970-2014_closest_point_to_NOAA','NEXGDDPCMIP6_at_same_emplacement_as_NOAA_stationPembaChimoioBeira_'+climate_var+'_1970-2014_projectsMoz.csv')\n",
    "    \n",
    "    data_NEX_GDDP_CMIP6_EmplacementStation = pd.read_csv(path_NEX_GDDP_CMIP6_EmplacementStation)\n",
    "    \n",
    "    data_NEX_GDDP_CMIP6_EmplacementStation = add_year_month_season(data_NEX_GDDP_CMIP6_EmplacementStation,'Date')\n",
    "    \n",
    "    return data_NEX_GDDP_CMIP6_EmplacementStation"
   ]
  },
  {
   "cell_type": "code",
   "execution_count": 4,
   "id": "b376b96b",
   "metadata": {},
   "outputs": [],
   "source": [
    "def import_treat_modeled_NEX_GDDP_CMIP6(climate_var, unit,temporal_resolution,start_y,stop_y):\n",
    "    # import data\n",
    "    \n",
    "    path_NEX_GDDP_CMIP6=os.path.join(r'\\\\COWI.net\\projects\\A245000\\A248363\\CRVA\\Datasets\\NEX-GDDP-CMIP6-AllMoz\\csv_file',climate_var,climate_var+'_'+unit+'_'+temporal_resolution+'_'+str(start_y)+'-'+str(stop_y),climate_var+'_'+str(start_y)+'-'+str(stop_y)+'_projectsMoz.csv')\n",
    "    \n",
    "    data_NEX_GDDP_CMIP6 = pd.read_csv(path_NEX_GDDP_CMIP6)\n",
    "    \n",
    "    data_NEX_GDDP_CMIP6 = add_year_month_season(data_NEX_GDDP_CMIP6,'Date')\n",
    "    \n",
    "    return data_NEX_GDDP_CMIP6"
   ]
  },
  {
   "cell_type": "code",
   "execution_count": null,
   "id": "4e751d77",
   "metadata": {},
   "outputs": [],
   "source": [
    "def add_year_month_season(df,column_date):\n",
    "    # add Year, month and season columns for graphs\n",
    "    Year = df[[column_date]].values.reshape(len(df[[column_date]].values),)\n",
    "    Month = df[[column_date]].values.reshape(len(df[[column_date]].values),)\n",
    "    Season = df[[column_date]].values.reshape(len(df[[column_date]].values),)\n",
    "    \n",
    "    if str(Year[1]).find('-')==2:\n",
    "        for i in np.arange(0,len(df[[column_date]].values)):\n",
    "            Year[i]=int(Year[i][6:10])\n",
    "            Month[i]=int(Month[i][3:5])\n",
    "            if Month[i]>3 and Month[i]<10: # dry season in Mozambique is between April and September\n",
    "                Season[i]='Dry'\n",
    "            else:# humid season is between October and March\n",
    "                Season[i]='Humid'\n",
    "            \n",
    "            Month[i]=str_month(Month[i])\n",
    "            \n",
    "    if str(Year[1]).find('-')==4:\n",
    "        for i in np.arange(0,len(df[[column_date]].values)):\n",
    "            Year[i]=int(Year[i][0:4])\n",
    "            Month[i]=int(Month[i][5:7])\n",
    "            if Month[i]>3 and Month[i]<10: # dry season in Mozambique is between April and September\n",
    "                Season[i]='Dry'\n",
    "            else:# humid season is between October and March\n",
    "                Season[i]='Humid'\n",
    "            \n",
    "            Month[i]=str_month(Month[i])\n",
    "                \n",
    "    df['Year'] = Year\n",
    "    df['Month'] = Month\n",
    "    df['Season'] = Season\n",
    "    return df"
   ]
  },
  {
   "cell_type": "code",
   "execution_count": null,
   "id": "0e55fd03",
   "metadata": {},
   "outputs": [],
   "source": []
  }
 ],
 "metadata": {
  "kernelspec": {
   "display_name": "Python 3 (ipykernel)",
   "language": "python",
   "name": "python3"
  },
  "language_info": {
   "codemirror_mode": {
    "name": "ipython",
    "version": 3
   },
   "file_extension": ".py",
   "mimetype": "text/x-python",
   "name": "python",
   "nbconvert_exporter": "python",
   "pygments_lexer": "ipython3",
   "version": "3.10.6"
  }
 },
 "nbformat": 4,
 "nbformat_minor": 5
}
