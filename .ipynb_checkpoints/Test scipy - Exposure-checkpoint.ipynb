{
 "cells": [
  {
   "cell_type": "code",
   "execution_count": 1,
   "id": "d93f7e3c",
   "metadata": {},
   "outputs": [],
   "source": [
    "from scipy import stats\n",
    "import pandas as pd\n",
    "from matplotlib import pyplot as plt\n",
    "import numpy as np\n",
    "from scipy.stats import gumbel_r\n",
    "from scipy.stats import gumbel_l\n",
    "import os\n",
    "import os.path"
   ]
  },
  {
   "cell_type": "code",
   "execution_count": 2,
   "id": "3617617a",
   "metadata": {},
   "outputs": [],
   "source": [
    "out_path = r'\\\\COWI.net\\projects\\A245000\\A248363\\CRVA\\Datasets\\NEX-GDDP-CMIP6'\n",
    "csv_path = os.path.join(out_path,'csv_file','pr_day_2021-2060','All_projects_moz_precipitation_2021-2060.csv')\n",
    "precipitation_2021_2060 = pd.read_csv(csv_path,header=[0,1],index_col=[0,1,2,3,4])*86400 # units kg.m^(-2).s^(-1)\n",
    "# convert precipitation data from kg.m^(-2).s^(-1) to mm/day :  1 kg/m2/s = 86400 mm/day\n",
    "# source: https://www.researchgate.net/post/How-do-I-convert-ERA-Interim-precipitation-estimates-from-kg-m2-s-to-mm-day\n",
    "list_time_2021_2060=pd.date_range('01-01-2021','31-12-2060', freq='D').strftime('%d-%m-%Y').values.tolist()"
   ]
  },
  {
   "cell_type": "code",
   "execution_count": 3,
   "id": "760bde06",
   "metadata": {},
   "outputs": [
    {
     "data": {
      "text/html": [
       "<div>\n",
       "<style scoped>\n",
       "    .dataframe tbody tr th:only-of-type {\n",
       "        vertical-align: middle;\n",
       "    }\n",
       "\n",
       "    .dataframe tbody tr th {\n",
       "        vertical-align: top;\n",
       "    }\n",
       "\n",
       "    .dataframe thead tr th {\n",
       "        text-align: left;\n",
       "    }\n",
       "\n",
       "    .dataframe thead tr:last-of-type th {\n",
       "        text-align: right;\n",
       "    }\n",
       "</style>\n",
       "<table border=\"1\" class=\"dataframe\">\n",
       "  <thead>\n",
       "    <tr>\n",
       "      <th></th>\n",
       "      <th></th>\n",
       "      <th></th>\n",
       "      <th></th>\n",
       "      <th></th>\n",
       "      <th colspan=\"4\" halign=\"left\">Longitude</th>\n",
       "    </tr>\n",
       "    <tr>\n",
       "      <th></th>\n",
       "      <th></th>\n",
       "      <th></th>\n",
       "      <th></th>\n",
       "      <th></th>\n",
       "      <th>33.625</th>\n",
       "      <th>39.875</th>\n",
       "      <th>36.875</th>\n",
       "      <th>40.375</th>\n",
       "    </tr>\n",
       "    <tr>\n",
       "      <th>Name project</th>\n",
       "      <th>Experiment</th>\n",
       "      <th>Model</th>\n",
       "      <th>Date</th>\n",
       "      <th>Latitude</th>\n",
       "      <th></th>\n",
       "      <th></th>\n",
       "      <th></th>\n",
       "      <th></th>\n",
       "    </tr>\n",
       "  </thead>\n",
       "  <tbody>\n",
       "    <tr>\n",
       "      <th rowspan=\"5\" valign=\"top\">PT_Revubue_2_Rev_2_01</th>\n",
       "      <th rowspan=\"5\" valign=\"top\">ssp245</th>\n",
       "      <th rowspan=\"5\" valign=\"top\">ACCESS-CM2</th>\n",
       "      <th>01-01-2021</th>\n",
       "      <th>-16.125</th>\n",
       "      <td>5.057179</td>\n",
       "      <td>NaN</td>\n",
       "      <td>NaN</td>\n",
       "      <td>NaN</td>\n",
       "    </tr>\n",
       "    <tr>\n",
       "      <th>02-01-2021</th>\n",
       "      <th>-16.125</th>\n",
       "      <td>17.624178</td>\n",
       "      <td>NaN</td>\n",
       "      <td>NaN</td>\n",
       "      <td>NaN</td>\n",
       "    </tr>\n",
       "    <tr>\n",
       "      <th>03-01-2021</th>\n",
       "      <th>-16.125</th>\n",
       "      <td>7.632648</td>\n",
       "      <td>NaN</td>\n",
       "      <td>NaN</td>\n",
       "      <td>NaN</td>\n",
       "    </tr>\n",
       "    <tr>\n",
       "      <th>04-01-2021</th>\n",
       "      <th>-16.125</th>\n",
       "      <td>4.736492</td>\n",
       "      <td>NaN</td>\n",
       "      <td>NaN</td>\n",
       "      <td>NaN</td>\n",
       "    </tr>\n",
       "    <tr>\n",
       "      <th>05-01-2021</th>\n",
       "      <th>-16.125</th>\n",
       "      <td>4.981353</td>\n",
       "      <td>NaN</td>\n",
       "      <td>NaN</td>\n",
       "      <td>NaN</td>\n",
       "    </tr>\n",
       "    <tr>\n",
       "      <th>...</th>\n",
       "      <th>...</th>\n",
       "      <th>...</th>\n",
       "      <th>...</th>\n",
       "      <th>...</th>\n",
       "      <td>...</td>\n",
       "      <td>...</td>\n",
       "      <td>...</td>\n",
       "      <td>...</td>\n",
       "    </tr>\n",
       "    <tr>\n",
       "      <th rowspan=\"5\" valign=\"top\">PT__Dumping_Site</th>\n",
       "      <th rowspan=\"5\" valign=\"top\">ssp370</th>\n",
       "      <th rowspan=\"5\" valign=\"top\">TaiESM1</th>\n",
       "      <th>27-12-2060</th>\n",
       "      <th>-13.125</th>\n",
       "      <td>NaN</td>\n",
       "      <td>NaN</td>\n",
       "      <td>NaN</td>\n",
       "      <td>0.000000</td>\n",
       "    </tr>\n",
       "    <tr>\n",
       "      <th>28-12-2060</th>\n",
       "      <th>-13.125</th>\n",
       "      <td>NaN</td>\n",
       "      <td>NaN</td>\n",
       "      <td>NaN</td>\n",
       "      <td>0.435942</td>\n",
       "    </tr>\n",
       "    <tr>\n",
       "      <th>29-12-2060</th>\n",
       "      <th>-13.125</th>\n",
       "      <td>NaN</td>\n",
       "      <td>NaN</td>\n",
       "      <td>NaN</td>\n",
       "      <td>6.300328</td>\n",
       "    </tr>\n",
       "    <tr>\n",
       "      <th>30-12-2060</th>\n",
       "      <th>-13.125</th>\n",
       "      <td>NaN</td>\n",
       "      <td>NaN</td>\n",
       "      <td>NaN</td>\n",
       "      <td>8.168522</td>\n",
       "    </tr>\n",
       "    <tr>\n",
       "      <th>31-12-2060</th>\n",
       "      <th>-13.125</th>\n",
       "      <td>NaN</td>\n",
       "      <td>NaN</td>\n",
       "      <td>NaN</td>\n",
       "      <td>0.737792</td>\n",
       "    </tr>\n",
       "  </tbody>\n",
       "</table>\n",
       "<p>6136200 rows × 4 columns</p>\n",
       "</div>"
      ],
      "text/plain": [
       "                                                                 Longitude  \\\n",
       "                                                                    33.625   \n",
       "Name project          Experiment Model      Date       Latitude              \n",
       "PT_Revubue_2_Rev_2_01 ssp245     ACCESS-CM2 01-01-2021 -16.125    5.057179   \n",
       "                                            02-01-2021 -16.125   17.624178   \n",
       "                                            03-01-2021 -16.125    7.632648   \n",
       "                                            04-01-2021 -16.125    4.736492   \n",
       "                                            05-01-2021 -16.125    4.981353   \n",
       "...                                                                    ...   \n",
       "PT__Dumping_Site      ssp370     TaiESM1    27-12-2060 -13.125         NaN   \n",
       "                                            28-12-2060 -13.125         NaN   \n",
       "                                            29-12-2060 -13.125         NaN   \n",
       "                                            30-12-2060 -13.125         NaN   \n",
       "                                            31-12-2060 -13.125         NaN   \n",
       "\n",
       "                                                                               \\\n",
       "                                                                39.875 36.875   \n",
       "Name project          Experiment Model      Date       Latitude                 \n",
       "PT_Revubue_2_Rev_2_01 ssp245     ACCESS-CM2 01-01-2021 -16.125     NaN    NaN   \n",
       "                                            02-01-2021 -16.125     NaN    NaN   \n",
       "                                            03-01-2021 -16.125     NaN    NaN   \n",
       "                                            04-01-2021 -16.125     NaN    NaN   \n",
       "                                            05-01-2021 -16.125     NaN    NaN   \n",
       "...                                                                ...    ...   \n",
       "PT__Dumping_Site      ssp370     TaiESM1    27-12-2060 -13.125     NaN    NaN   \n",
       "                                            28-12-2060 -13.125     NaN    NaN   \n",
       "                                            29-12-2060 -13.125     NaN    NaN   \n",
       "                                            30-12-2060 -13.125     NaN    NaN   \n",
       "                                            31-12-2060 -13.125     NaN    NaN   \n",
       "\n",
       "                                                                           \n",
       "                                                                   40.375  \n",
       "Name project          Experiment Model      Date       Latitude            \n",
       "PT_Revubue_2_Rev_2_01 ssp245     ACCESS-CM2 01-01-2021 -16.125        NaN  \n",
       "                                            02-01-2021 -16.125        NaN  \n",
       "                                            03-01-2021 -16.125        NaN  \n",
       "                                            04-01-2021 -16.125        NaN  \n",
       "                                            05-01-2021 -16.125        NaN  \n",
       "...                                                                   ...  \n",
       "PT__Dumping_Site      ssp370     TaiESM1    27-12-2060 -13.125   0.000000  \n",
       "                                            28-12-2060 -13.125   0.435942  \n",
       "                                            29-12-2060 -13.125   6.300328  \n",
       "                                            30-12-2060 -13.125   8.168522  \n",
       "                                            31-12-2060 -13.125   0.737792  \n",
       "\n",
       "[6136200 rows x 4 columns]"
      ]
     },
     "execution_count": 3,
     "metadata": {},
     "output_type": "execute_result"
    }
   ],
   "source": [
    "precipitation_2021_2060"
   ]
  },
  {
   "cell_type": "code",
   "execution_count": 4,
   "id": "e31b5633",
   "metadata": {},
   "outputs": [
    {
     "data": {
      "text/plain": [
       "MultiIndex([('Longitude', '33.625'),\n",
       "            ('Longitude', '39.875'),\n",
       "            ('Longitude', '36.875'),\n",
       "            ('Longitude', '40.375')],\n",
       "           )"
      ]
     },
     "execution_count": 4,
     "metadata": {},
     "output_type": "execute_result"
    }
   ],
   "source": [
    "precipitation_2021_2060.columns"
   ]
  },
  {
   "cell_type": "code",
   "execution_count": 5,
   "id": "16b890b7",
   "metadata": {},
   "outputs": [],
   "source": [
    "df_test=precipitation_2021_2060.droplevel(level=4)\n",
    "df_test = df_test.loc[[precipitation_2021_2060.index.levels[0][0]],[df_test.columns[2]]]\n",
    "df_test.columns = df_test.columns.droplevel(0)\n",
    "df_test=df_test.rename(columns={'36.875':'Precipitation mm/day'})"
   ]
  },
  {
   "cell_type": "code",
   "execution_count": 6,
   "id": "e38aef9e",
   "metadata": {},
   "outputs": [
    {
     "data": {
      "text/html": [
       "<div>\n",
       "<style scoped>\n",
       "    .dataframe tbody tr th:only-of-type {\n",
       "        vertical-align: middle;\n",
       "    }\n",
       "\n",
       "    .dataframe tbody tr th {\n",
       "        vertical-align: top;\n",
       "    }\n",
       "\n",
       "    .dataframe thead th {\n",
       "        text-align: right;\n",
       "    }\n",
       "</style>\n",
       "<table border=\"1\" class=\"dataframe\">\n",
       "  <thead>\n",
       "    <tr style=\"text-align: right;\">\n",
       "      <th></th>\n",
       "      <th></th>\n",
       "      <th></th>\n",
       "      <th></th>\n",
       "      <th>Precipitation mm/day</th>\n",
       "    </tr>\n",
       "    <tr>\n",
       "      <th>Name project</th>\n",
       "      <th>Experiment</th>\n",
       "      <th>Model</th>\n",
       "      <th>Date</th>\n",
       "      <th></th>\n",
       "    </tr>\n",
       "  </thead>\n",
       "  <tbody>\n",
       "    <tr>\n",
       "      <th rowspan=\"11\" valign=\"top\">Chimoio_2ML_Reservoir</th>\n",
       "      <th rowspan=\"5\" valign=\"top\">ssp245</th>\n",
       "      <th rowspan=\"5\" valign=\"top\">ACCESS-CM2</th>\n",
       "      <th>01-01-2021</th>\n",
       "      <td>5.864585</td>\n",
       "    </tr>\n",
       "    <tr>\n",
       "      <th>02-01-2021</th>\n",
       "      <td>14.548427</td>\n",
       "    </tr>\n",
       "    <tr>\n",
       "      <th>03-01-2021</th>\n",
       "      <td>14.611184</td>\n",
       "    </tr>\n",
       "    <tr>\n",
       "      <th>04-01-2021</th>\n",
       "      <td>16.038884</td>\n",
       "    </tr>\n",
       "    <tr>\n",
       "      <th>05-01-2021</th>\n",
       "      <td>19.461020</td>\n",
       "    </tr>\n",
       "    <tr>\n",
       "      <th>...</th>\n",
       "      <th>...</th>\n",
       "      <th>...</th>\n",
       "      <td>...</td>\n",
       "    </tr>\n",
       "    <tr>\n",
       "      <th rowspan=\"5\" valign=\"top\">ssp370</th>\n",
       "      <th rowspan=\"5\" valign=\"top\">TaiESM1</th>\n",
       "      <th>27-12-2060</th>\n",
       "      <td>0.167396</td>\n",
       "    </tr>\n",
       "    <tr>\n",
       "      <th>28-12-2060</th>\n",
       "      <td>6.138710</td>\n",
       "    </tr>\n",
       "    <tr>\n",
       "      <th>29-12-2060</th>\n",
       "      <td>14.712479</td>\n",
       "    </tr>\n",
       "    <tr>\n",
       "      <th>30-12-2060</th>\n",
       "      <td>20.146751</td>\n",
       "    </tr>\n",
       "    <tr>\n",
       "      <th>31-12-2060</th>\n",
       "      <td>10.920106</td>\n",
       "    </tr>\n",
       "  </tbody>\n",
       "</table>\n",
       "<p>876600 rows × 1 columns</p>\n",
       "</div>"
      ],
      "text/plain": [
       "                                                        Precipitation mm/day\n",
       "Name project          Experiment Model      Date                            \n",
       "Chimoio_2ML_Reservoir ssp245     ACCESS-CM2 01-01-2021              5.864585\n",
       "                                            02-01-2021             14.548427\n",
       "                                            03-01-2021             14.611184\n",
       "                                            04-01-2021             16.038884\n",
       "                                            05-01-2021             19.461020\n",
       "...                                                                      ...\n",
       "                      ssp370     TaiESM1    27-12-2060              0.167396\n",
       "                                            28-12-2060              6.138710\n",
       "                                            29-12-2060             14.712479\n",
       "                                            30-12-2060             20.146751\n",
       "                                            31-12-2060             10.920106\n",
       "\n",
       "[876600 rows x 1 columns]"
      ]
     },
     "execution_count": 6,
     "metadata": {},
     "output_type": "execute_result"
    }
   ],
   "source": [
    "df_test"
   ]
  },
  {
   "cell_type": "code",
   "execution_count": 8,
   "id": "80d52b88",
   "metadata": {},
   "outputs": [
    {
     "data": {
      "text/html": [
       "<div>\n",
       "<style scoped>\n",
       "    .dataframe tbody tr th:only-of-type {\n",
       "        vertical-align: middle;\n",
       "    }\n",
       "\n",
       "    .dataframe tbody tr th {\n",
       "        vertical-align: top;\n",
       "    }\n",
       "\n",
       "    .dataframe thead th {\n",
       "        text-align: right;\n",
       "    }\n",
       "</style>\n",
       "<table border=\"1\" class=\"dataframe\">\n",
       "  <thead>\n",
       "    <tr style=\"text-align: right;\">\n",
       "      <th></th>\n",
       "      <th>Name project</th>\n",
       "      <th>Experiment</th>\n",
       "      <th>Model</th>\n",
       "      <th>Date</th>\n",
       "      <th>Precipitation mm/day</th>\n",
       "    </tr>\n",
       "  </thead>\n",
       "  <tbody>\n",
       "    <tr>\n",
       "      <th>0</th>\n",
       "      <td>Chimoio_2ML_Reservoir</td>\n",
       "      <td>ssp245</td>\n",
       "      <td>ACCESS-CM2</td>\n",
       "      <td>01-01-2021</td>\n",
       "      <td>5.864585</td>\n",
       "    </tr>\n",
       "    <tr>\n",
       "      <th>1</th>\n",
       "      <td>Chimoio_2ML_Reservoir</td>\n",
       "      <td>ssp245</td>\n",
       "      <td>ACCESS-CM2</td>\n",
       "      <td>02-01-2021</td>\n",
       "      <td>14.548427</td>\n",
       "    </tr>\n",
       "    <tr>\n",
       "      <th>2</th>\n",
       "      <td>Chimoio_2ML_Reservoir</td>\n",
       "      <td>ssp245</td>\n",
       "      <td>ACCESS-CM2</td>\n",
       "      <td>03-01-2021</td>\n",
       "      <td>14.611184</td>\n",
       "    </tr>\n",
       "    <tr>\n",
       "      <th>3</th>\n",
       "      <td>Chimoio_2ML_Reservoir</td>\n",
       "      <td>ssp245</td>\n",
       "      <td>ACCESS-CM2</td>\n",
       "      <td>04-01-2021</td>\n",
       "      <td>16.038884</td>\n",
       "    </tr>\n",
       "    <tr>\n",
       "      <th>4</th>\n",
       "      <td>Chimoio_2ML_Reservoir</td>\n",
       "      <td>ssp245</td>\n",
       "      <td>ACCESS-CM2</td>\n",
       "      <td>05-01-2021</td>\n",
       "      <td>19.461020</td>\n",
       "    </tr>\n",
       "    <tr>\n",
       "      <th>...</th>\n",
       "      <td>...</td>\n",
       "      <td>...</td>\n",
       "      <td>...</td>\n",
       "      <td>...</td>\n",
       "      <td>...</td>\n",
       "    </tr>\n",
       "    <tr>\n",
       "      <th>876595</th>\n",
       "      <td>Chimoio_2ML_Reservoir</td>\n",
       "      <td>ssp370</td>\n",
       "      <td>TaiESM1</td>\n",
       "      <td>27-12-2060</td>\n",
       "      <td>0.167396</td>\n",
       "    </tr>\n",
       "    <tr>\n",
       "      <th>876596</th>\n",
       "      <td>Chimoio_2ML_Reservoir</td>\n",
       "      <td>ssp370</td>\n",
       "      <td>TaiESM1</td>\n",
       "      <td>28-12-2060</td>\n",
       "      <td>6.138710</td>\n",
       "    </tr>\n",
       "    <tr>\n",
       "      <th>876597</th>\n",
       "      <td>Chimoio_2ML_Reservoir</td>\n",
       "      <td>ssp370</td>\n",
       "      <td>TaiESM1</td>\n",
       "      <td>29-12-2060</td>\n",
       "      <td>14.712479</td>\n",
       "    </tr>\n",
       "    <tr>\n",
       "      <th>876598</th>\n",
       "      <td>Chimoio_2ML_Reservoir</td>\n",
       "      <td>ssp370</td>\n",
       "      <td>TaiESM1</td>\n",
       "      <td>30-12-2060</td>\n",
       "      <td>20.146751</td>\n",
       "    </tr>\n",
       "    <tr>\n",
       "      <th>876599</th>\n",
       "      <td>Chimoio_2ML_Reservoir</td>\n",
       "      <td>ssp370</td>\n",
       "      <td>TaiESM1</td>\n",
       "      <td>31-12-2060</td>\n",
       "      <td>10.920106</td>\n",
       "    </tr>\n",
       "  </tbody>\n",
       "</table>\n",
       "<p>876600 rows × 5 columns</p>\n",
       "</div>"
      ],
      "text/plain": [
       "                 Name project Experiment       Model        Date  \\\n",
       "0       Chimoio_2ML_Reservoir     ssp245  ACCESS-CM2  01-01-2021   \n",
       "1       Chimoio_2ML_Reservoir     ssp245  ACCESS-CM2  02-01-2021   \n",
       "2       Chimoio_2ML_Reservoir     ssp245  ACCESS-CM2  03-01-2021   \n",
       "3       Chimoio_2ML_Reservoir     ssp245  ACCESS-CM2  04-01-2021   \n",
       "4       Chimoio_2ML_Reservoir     ssp245  ACCESS-CM2  05-01-2021   \n",
       "...                       ...        ...         ...         ...   \n",
       "876595  Chimoio_2ML_Reservoir     ssp370     TaiESM1  27-12-2060   \n",
       "876596  Chimoio_2ML_Reservoir     ssp370     TaiESM1  28-12-2060   \n",
       "876597  Chimoio_2ML_Reservoir     ssp370     TaiESM1  29-12-2060   \n",
       "876598  Chimoio_2ML_Reservoir     ssp370     TaiESM1  30-12-2060   \n",
       "876599  Chimoio_2ML_Reservoir     ssp370     TaiESM1  31-12-2060   \n",
       "\n",
       "        Precipitation mm/day  \n",
       "0                   5.864585  \n",
       "1                  14.548427  \n",
       "2                  14.611184  \n",
       "3                  16.038884  \n",
       "4                  19.461020  \n",
       "...                      ...  \n",
       "876595              0.167396  \n",
       "876596              6.138710  \n",
       "876597             14.712479  \n",
       "876598             20.146751  \n",
       "876599             10.920106  \n",
       "\n",
       "[876600 rows x 5 columns]"
      ]
     },
     "execution_count": 8,
     "metadata": {},
     "output_type": "execute_result"
    }
   ],
   "source": [
    "df_test1 = df_test.reset_index()\n",
    "df_test1"
   ]
  },
  {
   "cell_type": "code",
   "execution_count": null,
   "id": "6821b2d9",
   "metadata": {
    "scrolled": true
   },
   "outputs": [],
   "source": [
    "df_projet0_percentile=df_test.groupby(['Date']).describe(percentiles=[.1, .5, .9])"
   ]
  },
  {
   "cell_type": "code",
   "execution_count": null,
   "id": "0155a8a2",
   "metadata": {},
   "outputs": [],
   "source": [
    "df_projet0_percentile"
   ]
  },
  {
   "cell_type": "code",
   "execution_count": null,
   "id": "b15dc9a6",
   "metadata": {},
   "outputs": [],
   "source": [
    "df_projet0_percentile.columns"
   ]
  },
  {
   "cell_type": "code",
   "execution_count": null,
   "id": "309da3dc",
   "metadata": {},
   "outputs": [],
   "source": [
    "df_projet0_percentile[[('Precipitation mm/day', '10%')]].plot()"
   ]
  },
  {
   "cell_type": "code",
   "execution_count": null,
   "id": "e8353633",
   "metadata": {},
   "outputs": [],
   "source": [
    "# Exposure"
   ]
  },
  {
   "cell_type": "code",
   "execution_count": null,
   "id": "6d07be6e",
   "metadata": {},
   "outputs": [],
   "source": [
    "df_test.index.levels[0]"
   ]
  },
  {
   "cell_type": "code",
   "execution_count": null,
   "id": "40692008",
   "metadata": {},
   "outputs": [],
   "source": []
  },
  {
   "cell_type": "code",
   "execution_count": null,
   "id": "6ca3e43d",
   "metadata": {},
   "outputs": [],
   "source": []
  },
  {
   "cell_type": "code",
   "execution_count": null,
   "id": "fca744ff",
   "metadata": {},
   "outputs": [],
   "source": [
    "# find non finite values"
   ]
  },
  {
   "cell_type": "code",
   "execution_count": null,
   "id": "3516ae3c",
   "metadata": {},
   "outputs": [],
   "source": [
    "non_finite_index=np.where(~np.isfinite(precipitation_2020_2060))[0].tolist()\n",
    "non_finite_index"
   ]
  },
  {
   "cell_type": "code",
   "execution_count": null,
   "id": "0cac8389",
   "metadata": {},
   "outputs": [],
   "source": [
    "len(non_finite_index)"
   ]
  },
  {
   "cell_type": "code",
   "execution_count": null,
   "id": "21722e12",
   "metadata": {},
   "outputs": [],
   "source": [
    "df_non_finite=precipitation_2020_2060.iloc[non_finite_index]\n",
    "df_non_finite"
   ]
  },
  {
   "cell_type": "code",
   "execution_count": null,
   "id": "ebc94400",
   "metadata": {},
   "outputs": [],
   "source": [
    "models_to_delete = []\n",
    "for i in (np.arange(0,len(df_non_finite.index.tolist())-1)):\n",
    "    if df_non_finite.index.tolist()[i][2] not in models_to_delete:\n",
    "        models_to_delete.append(df_non_finite.index.tolist()[i][2])"
   ]
  },
  {
   "cell_type": "code",
   "execution_count": null,
   "id": "169e5181",
   "metadata": {},
   "outputs": [],
   "source": [
    "models_to_delete"
   ]
  },
  {
   "cell_type": "code",
   "execution_count": null,
   "id": "d70e1e11",
   "metadata": {},
   "outputs": [],
   "source": [
    "precipitation_2020_2060.shape"
   ]
  },
  {
   "cell_type": "code",
   "execution_count": null,
   "id": "b7caea9b",
   "metadata": {},
   "outputs": [],
   "source": [
    "precipitation_2020_2060_no_NaN = precipitation_2020_2060.drop(models_to_delete,level=2)"
   ]
  },
  {
   "cell_type": "code",
   "execution_count": null,
   "id": "c9509f3b",
   "metadata": {},
   "outputs": [],
   "source": [
    "precipitation_2020_2060_no_NaN.shape"
   ]
  },
  {
   "cell_type": "code",
   "execution_count": null,
   "id": "be9287a0",
   "metadata": {},
   "outputs": [],
   "source": [
    "precipitation_2020_2060_no_NaN.index.levels[2].tolist()"
   ]
  },
  {
   "cell_type": "code",
   "execution_count": null,
   "id": "68a428a4",
   "metadata": {},
   "outputs": [],
   "source": [
    "new_index_models=[]\n",
    "for item in precipitation_2020_2060.index.levels[2].tolist():\n",
    "    if item in models_to_delete:\n",
    "        continue\n",
    "    else:\n",
    "        new_index_models.append(item)"
   ]
  },
  {
   "cell_type": "code",
   "execution_count": null,
   "id": "e91fbf04",
   "metadata": {},
   "outputs": [],
   "source": [
    "type(new_index_models)"
   ]
  },
  {
   "cell_type": "code",
   "execution_count": null,
   "id": "c3904bb2",
   "metadata": {},
   "outputs": [],
   "source": [
    "new_index_models"
   ]
  },
  {
   "cell_type": "code",
   "execution_count": null,
   "id": "0b20529f",
   "metadata": {},
   "outputs": [],
   "source": [
    "time_2020_2060=pd.date_range('01-01-2030','31-12-2060', freq='D').strftime('%d-%m-%Y').values.tolist()\n",
    "list_time_2020_2060= [item[6:10] for item in time_2020_2060]\n",
    "list_time_2020_2060"
   ]
  },
  {
   "cell_type": "code",
   "execution_count": null,
   "id": "54633781",
   "metadata": {},
   "outputs": [],
   "source": [
    "df = pd.DataFrame()\n",
    "midx = pd.MultiIndex.from_product([[precipitation_2020_2060_no_NaN.index.levels[0].tolist()[0],],precipitation_2020_2060_no_NaN.index.levels[1].tolist(), new_index_models, list_time_2020_2060],names=['Name project','Experiment', 'Model', 'Year'])\n",
    "cols = pd.MultiIndex.from_product([('Precipitation mm/day',)])\n",
    "Variable_dataframe = pd.DataFrame(data = precipitation_2020_2060_no_NaN.values*86400, \n",
    "                            index = midx,\n",
    "                            columns = cols)\n",
    "df = pd.concat([df,Variable_dataframe])\n",
    "#df['year']=df.reset_index()['Month and year'].apply(lambda k: int(k.split('-')[1]))"
   ]
  },
  {
   "cell_type": "code",
   "execution_count": null,
   "id": "5c6cb673",
   "metadata": {},
   "outputs": [],
   "source": [
    "DF=df.groupby(['Name project','Experiment', 'Model', 'Year']).max()"
   ]
  },
  {
   "cell_type": "code",
   "execution_count": null,
   "id": "ab96b4bf",
   "metadata": {},
   "outputs": [],
   "source": [
    "DF"
   ]
  },
  {
   "cell_type": "code",
   "execution_count": null,
   "id": "8d4e3b77",
   "metadata": {},
   "outputs": [],
   "source": [
    "DF_median=DF.groupby(['Name project','Experiment', 'Model']).median()"
   ]
  },
  {
   "cell_type": "code",
   "execution_count": null,
   "id": "c1e87e43",
   "metadata": {},
   "outputs": [],
   "source": [
    "DF_median"
   ]
  },
  {
   "cell_type": "code",
   "execution_count": null,
   "id": "f17b2610",
   "metadata": {},
   "outputs": [],
   "source": [
    "DF_describe=DF.groupby(['Name project','Experiment', 'Model']).describe(percentiles=[.1, .5, .9]) #default percentiles are [.25, .5, .75]"
   ]
  },
  {
   "cell_type": "code",
   "execution_count": null,
   "id": "ec636afc",
   "metadata": {},
   "outputs": [],
   "source": [
    "DF_describe"
   ]
  },
  {
   "cell_type": "code",
   "execution_count": null,
   "id": "87f89be8",
   "metadata": {},
   "outputs": [],
   "source": []
  },
  {
   "cell_type": "code",
   "execution_count": null,
   "id": "d3932fc8",
   "metadata": {},
   "outputs": [],
   "source": []
  },
  {
   "cell_type": "code",
   "execution_count": null,
   "id": "d84c2d1a",
   "metadata": {},
   "outputs": [],
   "source": []
  },
  {
   "cell_type": "code",
   "execution_count": null,
   "id": "450028e9",
   "metadata": {},
   "outputs": [],
   "source": []
  },
  {
   "cell_type": "code",
   "execution_count": null,
   "id": "186a9095",
   "metadata": {},
   "outputs": [],
   "source": []
  },
  {
   "cell_type": "code",
   "execution_count": null,
   "id": "644e4a7b",
   "metadata": {},
   "outputs": [],
   "source": []
  },
  {
   "cell_type": "code",
   "execution_count": null,
   "id": "d30587de",
   "metadata": {},
   "outputs": [],
   "source": []
  },
  {
   "cell_type": "code",
   "execution_count": null,
   "id": "22dbede1",
   "metadata": {},
   "outputs": [],
   "source": [
    "# test return period"
   ]
  },
  {
   "cell_type": "code",
   "execution_count": null,
   "id": "2e7f088e",
   "metadata": {},
   "outputs": [],
   "source": [
    "Z=DF.loc[('PT_Revubue_2_Rev_2_01','ssp126','ACCESS-CM2'),'Precipitation mm/day'].values"
   ]
  },
  {
   "cell_type": "code",
   "execution_count": null,
   "id": "c547be94",
   "metadata": {},
   "outputs": [],
   "source": [
    "Z.reshape((31,)).sort()"
   ]
  },
  {
   "cell_type": "code",
   "execution_count": null,
   "id": "018ea67b",
   "metadata": {},
   "outputs": [],
   "source": [
    "Z"
   ]
  },
  {
   "cell_type": "code",
   "execution_count": null,
   "id": "74fa07c2",
   "metadata": {},
   "outputs": [],
   "source": [
    "(loc,scale)=stats.gumbel_r.fit(Z) # renvoie les deux parametres necessaire pour etablir la fonction continue\n",
    "loc"
   ]
  },
  {
   "cell_type": "code",
   "execution_count": null,
   "id": "ab5e2b57",
   "metadata": {},
   "outputs": [],
   "source": [
    "scale"
   ]
  },
  {
   "cell_type": "code",
   "execution_count": null,
   "id": "aac1783d",
   "metadata": {},
   "outputs": [],
   "source": [
    "x = 25 # precipitation data\n",
    "gumbel_r.pdf(x,loc,scale)"
   ]
  },
  {
   "cell_type": "code",
   "execution_count": null,
   "id": "a31c2b6b",
   "metadata": {},
   "outputs": [],
   "source": [
    "p = 0.995 # percentile of non-exceedance\n",
    "return_period = 1/(1-p)\n",
    "print('For a return period '+str(round(return_period))+' years')\n",
    "print(round(gumbel_r.ppf(p,loc,scale))) # Percent point function\n",
    "print('mm/day')"
   ]
  },
  {
   "cell_type": "code",
   "execution_count": null,
   "id": "41beaf0e",
   "metadata": {},
   "outputs": [],
   "source": [
    "p_non_exceedance = 0.99 # percentile of non-exceedance\n",
    "p_exceedance = 1 - p_non_exceedance\n",
    "return_period = 1/p_exceedance\n",
    "threshold_coresponding = round(gumbel_r.ppf(p_non_exceedance,loc,scale)) # ppf: Percent point function\n",
    "print('Threshold '+str(threshold_coresponding)+' mm/day will be exceeded at least once in 1 year, with a probability of '+str(round(p_exceedance*100))+ ' %')\n",
    "print('A probability of '+str(round(p_exceedance*100))+' % correspond to a return period of '+str(round(return_period))+ ' years')"
   ]
  },
  {
   "cell_type": "code",
   "execution_count": null,
   "id": "9c16370e",
   "metadata": {},
   "outputs": [],
   "source": [
    "n = 1 # number of year of the period over which the threshold \n",
    "# could be exceeded with a certain probability\n",
    "p_non_exceedance = 0.99 # percentile of non-exceedance\n",
    "p_exceedance = 1 - p_non_exceedance**n\n",
    "return_period = 1/(1-p_non_exceedance)\n",
    "threshold_coresponding = round(gumbel_r.ppf(p_non_exceedance,loc,scale)) \n",
    "# ppf: Percent point function\n",
    "print('Threshold '+str(threshold_coresponding)+' mm/day will be exceeded at least once in '+str(n)+' year, with a probability of '+str(round(p_exceedance*100))+ ' %')\n",
    "print('This threshold corresponds to a return period of '+str(round(return_period))+ ' year event over a '+str(n)+' year period')"
   ]
  },
  {
   "cell_type": "code",
   "execution_count": null,
   "id": "c39337cb",
   "metadata": {},
   "outputs": [],
   "source": [
    "fig, ax = plt.subplots(1, 1)\n",
    "ax.plot(Z,gumbel_r.pdf(Z,loc,scale))"
   ]
  },
  {
   "cell_type": "code",
   "execution_count": null,
   "id": "c0d364e6",
   "metadata": {},
   "outputs": [],
   "source": [
    "fig, ax = plt.subplots(1, 1)\n",
    "ax.plot(Z,gumbel_r.pdf((Z-loc)/scale) / scale)"
   ]
  },
  {
   "cell_type": "code",
   "execution_count": null,
   "id": "f2599880",
   "metadata": {},
   "outputs": [],
   "source": [
    "# xaxis is precipitation and yaxis is densiy of probability\n",
    "myHist = plt.hist(Z,density=True) # If ``True``, draw and return a probability density: each bin \n",
    "# will display the bin's raw count divided by the total number of counts *and the bin width*\n",
    "h = plt.plot(Z,gumbel_r.pdf(Z,loc,scale))\n",
    "plt.xlabel('Precipitation value mm/day')\n",
    "plt.ylabel('Density of probability' )\n",
    "plt.title('Histogram and probability density function of annual maximum precipitation values\\nbetween 2030 and 2060 for project PT_Revubue_2_Rev_2_01,\\nscenario ssp126 and model ACCESS-CM2',fontdict={'fontsize': 10})\n",
    "plt.legend(['Probability density function','Histogramm'])\n",
    "title_png = 'test_density.png'\n",
    "path_figure = os.path.join(out_path,'figures')\n",
    "if not os.path.isdir(path_figure):\n",
    "    os.makedirs(path_figure)\n",
    "plt.savefig(os.path.join(path_figure,title_png),format ='png')\n",
    "plt.show()"
   ]
  },
  {
   "cell_type": "code",
   "execution_count": null,
   "id": "b0453ef9",
   "metadata": {},
   "outputs": [],
   "source": []
  },
  {
   "cell_type": "code",
   "execution_count": null,
   "id": "bf9bbd73",
   "metadata": {},
   "outputs": [],
   "source": []
  },
  {
   "cell_type": "code",
   "execution_count": null,
   "id": "6b1a4953",
   "metadata": {},
   "outputs": [],
   "source": []
  },
  {
   "cell_type": "code",
   "execution_count": null,
   "id": "ce2ae030",
   "metadata": {},
   "outputs": [],
   "source": []
  },
  {
   "cell_type": "code",
   "execution_count": null,
   "id": "18f8a753",
   "metadata": {},
   "outputs": [],
   "source": []
  },
  {
   "cell_type": "code",
   "execution_count": null,
   "id": "c9657ac0",
   "metadata": {},
   "outputs": [],
   "source": [
    "DF.index.levels[1].tolist()"
   ]
  },
  {
   "cell_type": "code",
   "execution_count": null,
   "id": "753cc038",
   "metadata": {},
   "outputs": [],
   "source": [
    "DF.loc[('PT_Revubue_2_Rev_2_01','ssp245'),'Precipitation mm/day'].values.reshape(186,)"
   ]
  },
  {
   "cell_type": "code",
   "execution_count": null,
   "id": "5e95be02",
   "metadata": {},
   "outputs": [],
   "source": [
    "#### BOXPLOTS\n",
    "\n",
    "\n",
    "#df_reordered3 = df.reorder_levels(['Experiment', 'Model', 'Latitude', 'Date']) # reordering to ...\n",
    "#df_reordered3_mean=df_reordered3.groupby(level=[0,1,2],axis=0,group_keys=True).mean()\n",
    "#numpy_array = df_reordered3_mean.loc['ssp1_2_6'].values\n",
    "#numpy_array=numpy_array.flatten() # make the array a vector to use it in boxplot function\n",
    "#numpy_array4 = numpy_array[~np.isnan(numpy_array)]\n",
    "# boxplot do not deal with NaN, have to take them out\n",
    "\n",
    "dict_boxplot = plt.boxplot([DF.loc[('PT_Revubue_2_Rev_2_01','ssp126'),'Precipitation mm/day'].values.reshape(186,),DF.loc[('PT_Revubue_2_Rev_2_01','ssp245'),'Precipitation mm/day'].values.reshape(186,),DF.loc[('PT_Revubue_2_Rev_2_01','ssp370'),'Precipitation mm/day'].values.reshape(186,),DF.loc[('PT_Revubue_2_Rev_2_01','ssp585'),'Precipitation mm/day'].values.reshape(186,)],notch=True, whis =(10,90),widths = 0.15, patch_artist=True,labels=DF.index.levels[1].tolist())\n",
    "# ... present boxplot over the period for each models\n",
    "# this functions returns varius parameters of the boxplot in the dict_boxplot. This funcitons also returns an image of it\n",
    "# here, numpy_array is a vector. But can also include array with several columns. Each columns will have a boxplot\n",
    "# 'notch' is true to enhance part where the median is\n",
    "# 'whis' is the percentile value for the whiskers, every data out of the range indicted by those 2 floats are represented as points\n",
    "# 'widths' determine width of the boxes\n",
    "# 'patch_artist' colors the boxplots\n",
    "# 'labels' gives a name to every column included in the data part\n",
    "str = 'Annual maximum precipitation mm/day\\naccross different scenarios between 2030 and 2060'\n",
    "title_png = 'Annual maximum precipitation mm.day accross different scenarios between 2030 and 2060.png'\n",
    "plt.title(str)\n",
    "plt.xlabel('Scenarios')\n",
    "plt.ylabel('Annual maximum precipitation mm/day')\n",
    "path_boxplot = os.path.join(path_figure,'Boxplots')\n",
    "if not os.path.isdir(path_boxplot):\n",
    "    os.makedirs(path_boxplot)\n",
    "plt.savefig(os.path.join(path_boxplot,title_png),format ='png') # savefig or save text must be before plt.show. for savefig, format should be explicity written\n",
    "plt.show()"
   ]
  },
  {
   "cell_type": "code",
   "execution_count": null,
   "id": "6d5fd2e6",
   "metadata": {},
   "outputs": [],
   "source": []
  },
  {
   "cell_type": "code",
   "execution_count": null,
   "id": "4506ade5",
   "metadata": {},
   "outputs": [],
   "source": [
    "# need to find which law to apply when"
   ]
  }
 ],
 "metadata": {
  "kernelspec": {
   "display_name": "Python 3 (ipykernel)",
   "language": "python",
   "name": "python3"
  },
  "language_info": {
   "codemirror_mode": {
    "name": "ipython",
    "version": 3
   },
   "file_extension": ".py",
   "mimetype": "text/x-python",
   "name": "python",
   "nbconvert_exporter": "python",
   "pygments_lexer": "ipython3",
   "version": "3.10.6"
  }
 },
 "nbformat": 4,
 "nbformat_minor": 5
}
