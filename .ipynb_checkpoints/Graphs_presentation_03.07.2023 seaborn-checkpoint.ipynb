{
 "cells": [
  {
   "cell_type": "markdown",
   "id": "7af19aaf",
   "metadata": {},
   "source": [
    "This notebook was meant to contain the graphs to be used for the presentation of the 3 July 2023, with people from the sub project from Gorongosa.\n",
    "\n",
    "Plots to do, with only temperature and precipitation for the moment:\n",
    "\n",
    ">Compare historic observed v historic model​\n",
    "\n",
    ">Compare WB v downscaled/bc data​\n",
    "\n",
    ">Create overview of trends (monthly, annual evolution)​\n",
    "\n",
    ">Compare historic model v historic projection​ (some analysis require separation of SSPs / model uncertainty)\n",
    "\n",
    ">Taste of indicators:​\n",
    "\n",
    ">SSP3: days above 40C (over time)​\n",
    "\n",
    ">100yr precipitation​"
   ]
  },
  {
   "cell_type": "code",
   "execution_count": null,
   "id": "13caf5c4",
   "metadata": {},
   "outputs": [],
   "source": [
    "# packages\n",
    "import pandas as pd\n",
    "import numpy as np\n",
    "import seaborn as sns"
   ]
  },
  {
   "cell_type": "code",
   "execution_count": null,
   "id": "c93859dc",
   "metadata": {},
   "outputs": [],
   "source": [
    "# Compare historic observed vs historic model\n"
   ]
  }
 ],
 "metadata": {
  "kernelspec": {
   "display_name": "Python 3 (ipykernel)",
   "language": "python",
   "name": "python3"
  },
  "language_info": {
   "codemirror_mode": {
    "name": "ipython",
    "version": 3
   },
   "file_extension": ".py",
   "mimetype": "text/x-python",
   "name": "python",
   "nbconvert_exporter": "python",
   "pygments_lexer": "ipython3",
   "version": "3.10.6"
  }
 },
 "nbformat": 4,
 "nbformat_minor": 5
}
