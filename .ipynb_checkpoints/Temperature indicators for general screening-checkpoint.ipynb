{
 "cells": [
  {
   "cell_type": "markdown",
   "id": "1a18be03",
   "metadata": {},
   "source": [
    "# User input"
   ]
  },
  {
   "cell_type": "code",
   "execution_count": 1,
   "id": "8cd957a0",
   "metadata": {},
   "outputs": [],
   "source": [
    "#start_year_past = 2021\n",
    "#stop_year_past = 2040\n",
    "#start_year_future = 2041\n",
    "#stop_year_future = 2060\n",
    "\n",
    "tuple_error_bar = ('pi',80)\n",
    "name_project = 'WTP_Mutua_EIB'\n",
    "name_city = 'Mutua'"
   ]
  },
  {
   "cell_type": "markdown",
   "id": "9b7cec39",
   "metadata": {},
   "source": [
    "# Import packages"
   ]
  },
  {
   "cell_type": "code",
   "execution_count": 2,
   "id": "554678eb",
   "metadata": {},
   "outputs": [],
   "source": [
    "from scipy import stats\n",
    "import pandas as pd\n",
    "from matplotlib import pyplot as plt\n",
    "import numpy as np\n",
    "from scipy.stats import gumbel_r\n",
    "from scipy.stats import gumbel_l\n",
    "import os\n",
    "import os.path\n",
    "import math\n",
    "import seaborn as sns\n",
    "\n",
    "from Functions_Indicators import add_year_month_season\n",
    "from Functions_Indicators import filter_dataframe\n",
    "from Functions_Indicators import find_name_col\n",
    "\n",
    "#from Graphs_presentation_seaborn import trends_year"
   ]
  },
  {
   "cell_type": "markdown",
   "id": "dfee6503",
   "metadata": {},
   "source": [
    "# Import data"
   ]
  },
  {
   "cell_type": "markdown",
   "id": "ac7f3678",
   "metadata": {},
   "source": [
    "## Temperature"
   ]
  },
  {
   "cell_type": "code",
   "execution_count": null,
   "id": "88b47f0a",
   "metadata": {},
   "outputs": [],
   "source": [
    "out_path = r'\\\\COWI.net\\projects\\A245000\\A248363\\CRVA\\Datasets\\NEX-GDDP-CMIP6-AllMoz'\n",
    "csv_path = os.path.join(out_path,'csv_file','tas','tas_Celsius_day_1950-2100','tas_1950-2100_projectsMoz.csv')\n",
    "tas_clim_var = pd.read_csv(csv_path,header=[0],index_col=[0,1,2,3,4])"
   ]
  },
  {
   "cell_type": "code",
   "execution_count": null,
   "id": "8da73ce0",
   "metadata": {},
   "outputs": [],
   "source": [
    "# list of project available in this dataframe\n",
    "tas_clim_var.index.levels[0]"
   ]
  },
  {
   "cell_type": "code",
   "execution_count": null,
   "id": "0a1e608d",
   "metadata": {},
   "outputs": [],
   "source": [
    "list_model_to_kill = ['TaiESM1','CMCC-CM2-SR5'] # determinated by comparing observed data and modeled data.\n",
    "# Modeled data with those models are not following the same trend as for observed data"
   ]
  },
  {
   "cell_type": "code",
   "execution_count": null,
   "id": "26e86a40",
   "metadata": {},
   "outputs": [],
   "source": [
    "tas_clim_var_filtered=filter_dataframe(tas_clim_var,name_project,list_model_to_kill)\n",
    "tas_clim_var_filtered"
   ]
  },
  {
   "cell_type": "markdown",
   "id": "0c0f6da4",
   "metadata": {},
   "source": [
    "We saw in another Python notebook that model 'TAIESM1' and 'CMCC-CM2-SR5' must be killed because do not follow the behaviour of temperature for the average temperature."
   ]
  },
  {
   "cell_type": "markdown",
   "id": "e87ff50f",
   "metadata": {},
   "source": [
    "## Temperature maximum"
   ]
  },
  {
   "cell_type": "code",
   "execution_count": null,
   "id": "229df289",
   "metadata": {},
   "outputs": [],
   "source": [
    "out_path = r'\\\\COWI.net\\projects\\A245000\\A248363\\CRVA\\Datasets\\NEX-GDDP-CMIP6-AllMoz'\n",
    "csv_path = os.path.join(out_path,'csv_file','tasmax','tasmax_Celsius_day_1950-2100','tasmax_1950-2100_projectsMoz.csv')\n",
    "tasmax_clim_var = pd.read_csv(csv_path,header=[0],index_col=[0,1,2,3,4])"
   ]
  },
  {
   "cell_type": "code",
   "execution_count": null,
   "id": "34baa942",
   "metadata": {},
   "outputs": [],
   "source": [
    "# we delete the models not working for temperature, also for tasmax\n",
    "tasmax_clim_var_filtered=filter_dataframe(tasmax_clim_var,name_project,list_model_to_kill)"
   ]
  },
  {
   "cell_type": "code",
   "execution_count": null,
   "id": "cfedf3d4",
   "metadata": {},
   "outputs": [],
   "source": [
    "tasmax_clim_var_filtered"
   ]
  },
  {
   "cell_type": "markdown",
   "id": "4b7677a6",
   "metadata": {},
   "source": [
    "## Incremental air temperature change"
   ]
  },
  {
   "cell_type": "code",
   "execution_count": null,
   "id": "bf04159b",
   "metadata": {},
   "outputs": [],
   "source": [
    "#from Functions_Indicators import yearly_avg"
   ]
  },
  {
   "cell_type": "code",
   "execution_count": null,
   "id": "386115a9",
   "metadata": {},
   "outputs": [],
   "source": [
    "def yearly_avg(df,title_column,climate_var_longName):\n",
    "    df_yearly_avg = df.copy(deep =True)\n",
    "    #df_yearly_avg=df_yearly_avg.drop(['Date','Month','Season'],axis=1)\n",
    "    old_title_column=find_name_col(df,climate_var_longName)\n",
    "    df_yearly_avg=df_yearly_avg.rename(columns={old_title_column:'Yearly average '+climate_var_longName})\n",
    "    df_yearly_avg = df_yearly_avg.groupby(['Experiment','Model','Year'])[['Yearly average '+climate_var_longName]].mean() # .sum() for precipitaitonsum per year\n",
    "    #df_yearly_avg = df_yearly_avg.groupby(['Name project','Experiment','Model']).mean()\n",
    "    return df_yearly_avg"
   ]
  },
  {
   "cell_type": "code",
   "execution_count": null,
   "id": "ad985a26",
   "metadata": {},
   "outputs": [],
   "source": [
    "tas_yearly_avg=yearly_avg(tas_clim_var_filtered,'Daily Near-Surface Air Temperature °C','temperature')\n",
    "tas_yearly_avg"
   ]
  },
  {
   "cell_type": "code",
   "execution_count": null,
   "id": "9b5e0a73",
   "metadata": {},
   "outputs": [],
   "source": [
    "tas_yearly_avg=tas_yearly_avg.reset_index()"
   ]
  },
  {
   "cell_type": "code",
   "execution_count": null,
   "id": "343387f5",
   "metadata": {},
   "outputs": [],
   "source": [
    "sns.lineplot(tas_yearly_avg,x='Year',y='Yearly average temperature',hue='Experiment',errorbar=tuple_error_bar)\n",
    "plt.ylabel('Average yearly temperature °C')\n",
    "plt.title('Average yearly temperature °C, depending on scenario and\\naccross models, between 1950 to 2100 at '+name_city+'\\ndata modeled with NEX-GDDP-CMIP6')"
   ]
  },
  {
   "cell_type": "markdown",
   "id": "12bd0da8",
   "metadata": {},
   "source": [
    "## number of days with temperatures above 40 degres"
   ]
  },
  {
   "cell_type": "code",
   "execution_count": null,
   "id": "3c3deafb",
   "metadata": {},
   "outputs": [],
   "source": [
    "def number_day_above_threshold(df,climate_var_longName,threshold):\n",
    "    try:\n",
    "        try:\n",
    "            old_title_column=df.filter(like=climate_var_longName, axis=1).columns[0]\n",
    "        except:\n",
    "            old_title_column=df.filter(like=climate_var_longName.capitalize(), axis=1).columns[0]\n",
    "    except:\n",
    "        old_title_column=df.filter(like=climate_var_longName.upper(), axis=1).columns[0]\n",
    "    new_name='Average annual number of days with '+climate_var_longName+' above '+str(threshold)\n",
    "    #df = df.rename(columns={old_title_column:new_name})\n",
    "    \n",
    "    df = df.drop(['Date','Month','Season'],axis=1) \n",
    "    df=df.reset_index()\n",
    "    #df=df.groupby(['Experiment','Model','Year']).apply(lambda x: x[x[new_name]>40].count()).reset_index()\n",
    "    df[new_name]=0\n",
    "    df[new_name].iloc[np.where(df[old_title_column]>40)[0]]=1    \n",
    "    df = df.groupby(['Experiment','Model','Year'])[[new_name]].sum()\n",
    "    \n",
    "    return df"
   ]
  },
  {
   "cell_type": "code",
   "execution_count": null,
   "id": "32f26cbe",
   "metadata": {},
   "outputs": [],
   "source": [
    "max_tas_over_40 = number_day_above_threshold(tasmax_clim_var_filtered,'temperature',40)\n",
    "max_tas_over_40 "
   ]
  },
  {
   "cell_type": "code",
   "execution_count": null,
   "id": "61b087e1",
   "metadata": {},
   "outputs": [],
   "source": [
    "max_tas_over_40 = max_tas_over_40.reset_index()"
   ]
  },
  {
   "cell_type": "code",
   "execution_count": null,
   "id": "c8b083e5",
   "metadata": {},
   "outputs": [],
   "source": [
    "max_tas_over_40 = max_tas_over_40[max_tas_over_40['Model']!='TaiESM1']"
   ]
  },
  {
   "cell_type": "code",
   "execution_count": null,
   "id": "bde16744",
   "metadata": {},
   "outputs": [],
   "source": [
    "fig,ax = plt.subplots()\n",
    "sns.lineplot(max_tas_over_40,x='Year',y='Average annual number of days with temperature above 40',hue='Model',errorbar=('pi',80))\n",
    "plt.ylabel('Number of days with temperature above 40°C')\n",
    "plt.title('Number of days with temperature above 40°C, depending on model,\\n accross scenarios between 1950 to 2100 at '+name_city)\n",
    "handles, labels=ax.get_legend_handles_labels()\n",
    "ax.get_legend().remove() # this line permits to have a common legend for the boxplots and the line\n",
    "fig.legend(handles, labels, loc='upper right', ncol=1, bbox_to_anchor=(1.3, 0.88),title='Legend')"
   ]
  },
  {
   "cell_type": "code",
   "execution_count": null,
   "id": "afd0b001",
   "metadata": {},
   "outputs": [],
   "source": [
    "fig,ax = plt.subplots()\n",
    "sns.lineplot(max_tas_over_40,x='Year',y='Average annual number of days with temperature above 40',hue='Experiment',errorbar=('pi',80))\n",
    "#plt.ylim(0,100)\n",
    "plt.ylabel('Number of days with maximum temperature above 40°C')\n",
    "plt.title('Number of days with maximum temperature above 40°C, depending on\\nscenario, accross model, between 1950 to 2100 at '+name_city+'\\ndata modeled with NEX-GDDP-CMIP6')\n",
    "handles, labels=ax.get_legend_handles_labels()\n",
    "ax.get_legend().remove() # this line permits to have a common legend for the boxplots and the line\n",
    "fig.legend(handles, labels, loc='upper right', ncol=1, bbox_to_anchor=(1.1, 0.6),title='Legend')\n"
   ]
  },
  {
   "cell_type": "code",
   "execution_count": null,
   "id": "61098889",
   "metadata": {},
   "outputs": [],
   "source": [
    "fig,ax = plt.subplots()\n",
    "sns.lineplot(max_tas_over_40[(max_tas_over_40['Experiment']=='ssp370') | (max_tas_over_40['Experiment']=='historical')],x='Year',y='Average annual number of days with temperature above 40',hue='Experiment',errorbar=('pi',80))\n",
    "plt.ylabel('Number of days with temperature above 40°C')\n",
    "plt.title('Number of days with temperature above 40°C for ssp370,\\n accross models, between 1950 to 2100 at '+name_city+'\\ndata modeled with NEX-GDDP-CMIP6')\n",
    "handles, labels=ax.get_legend_handles_labels()\n",
    "ax.get_legend().remove() # this line permits to have a common legend for the boxplots and the line\n",
    "fig.legend(handles, labels, loc='upper right', ncol=1, bbox_to_anchor=(1.1, 0.6),title='Legend')"
   ]
  },
  {
   "cell_type": "markdown",
   "id": "37cc259a",
   "metadata": {},
   "source": [
    "## Maximum temperature in year"
   ]
  },
  {
   "cell_type": "code",
   "execution_count": null,
   "id": "f002f9d9",
   "metadata": {},
   "outputs": [],
   "source": [
    "# mettre les max pour donnees"
   ]
  },
  {
   "cell_type": "code",
   "execution_count": null,
   "id": "0537de22",
   "metadata": {},
   "outputs": [],
   "source": [
    "def max_per_year_for_each_model_ssp(df,climate_var_longName):\n",
    "    try:\n",
    "        try:\n",
    "            old_title_column=df.filter(like=climate_var_longName, axis=1).columns[0]\n",
    "        except:\n",
    "            old_title_column=df.filter(like=climate_var_longName.capitalize(), axis=1).columns[0]\n",
    "    except:\n",
    "        old_title_column=df.filter(like=climate_var_longName.upper(), axis=1).columns[0]\n",
    "    df = df.rename(columns={old_title_column:'Yearly maximum '+climate_var_longName})\n",
    "    df = df.drop(['Date','Month','Season'],axis=1)\n",
    "    df = df.groupby(['Experiment','Model','Year'])[['Yearly maximum '+climate_var_longName]].max()\n",
    "    return df"
   ]
  },
  {
   "cell_type": "code",
   "execution_count": null,
   "id": "6449a9a6",
   "metadata": {},
   "outputs": [],
   "source": [
    "df=max_per_year_for_each_model_ssp(tasmax_clim_var_filtered,'temperature')"
   ]
  },
  {
   "cell_type": "code",
   "execution_count": null,
   "id": "d67a62c4",
   "metadata": {},
   "outputs": [],
   "source": [
    "df"
   ]
  },
  {
   "cell_type": "code",
   "execution_count": null,
   "id": "65bdc0c5",
   "metadata": {},
   "outputs": [],
   "source": [
    "df=df.reset_index()"
   ]
  },
  {
   "cell_type": "code",
   "execution_count": null,
   "id": "0d17a183",
   "metadata": {},
   "outputs": [],
   "source": [
    "fig,ax = plt.subplots()\n",
    "sns.lineplot(df,x='Year',y='Yearly maximum temperature',hue='Experiment',errorbar=('pi',80))# ajouter les donnes obs\n",
    "plt.ylabel('Yearly maximum temperature °C')\n",
    "plt.title('Yearly maximum temperature °C depending on scenario,\\n accross models between 1950 to 2100 at Gorongosa, MZ\\ndata modeled with NEX-GDDP-CMIP6')\n",
    "handles, labels=ax.get_legend_handles_labels()\n",
    "ax.get_legend().remove() # this line permits to have a common legend for the boxplots and the line\n",
    "fig.legend(handles, labels, loc='upper right', ncol=1, bbox_to_anchor=(1.1, 0.6),title='Legend')"
   ]
  },
  {
   "cell_type": "code",
   "execution_count": null,
   "id": "2e25dc58",
   "metadata": {},
   "outputs": [],
   "source": [
    "g = sns.FacetGrid(df, col=\"Experiment\", height=4, aspect=.5)\n",
    "g.map(sns.lineplot, \"Year\",'Yearly maximum temperature')"
   ]
  },
  {
   "cell_type": "code",
   "execution_count": null,
   "id": "c6a04622",
   "metadata": {},
   "outputs": [],
   "source": [
    "trends_year('tas',df,'NEX-GDDP-CMIP6','mean','gorongosa',1960,2100)"
   ]
  },
  {
   "cell_type": "code",
   "execution_count": null,
   "id": "d8437e45",
   "metadata": {},
   "outputs": [],
   "source": []
  },
  {
   "cell_type": "code",
   "execution_count": null,
   "id": "880b3e20",
   "metadata": {},
   "outputs": [],
   "source": []
  }
 ],
 "metadata": {
  "kernelspec": {
   "display_name": "Python 3 (ipykernel)",
   "language": "python",
   "name": "python3"
  },
  "language_info": {
   "codemirror_mode": {
    "name": "ipython",
    "version": 3
   },
   "file_extension": ".py",
   "mimetype": "text/x-python",
   "name": "python",
   "nbconvert_exporter": "python",
   "pygments_lexer": "ipython3",
   "version": "3.10.6"
  }
 },
 "nbformat": 4,
 "nbformat_minor": 5
}
