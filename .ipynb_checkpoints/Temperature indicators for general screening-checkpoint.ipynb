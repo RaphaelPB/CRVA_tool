{
 "cells": [
  {
   "cell_type": "markdown",
   "id": "1a18be03",
   "metadata": {},
   "source": [
    "# User input"
   ]
  },
  {
   "cell_type": "code",
   "execution_count": 1,
   "id": "8cd957a0",
   "metadata": {},
   "outputs": [],
   "source": [
    "#start_year_past = 2021\n",
    "#stop_year_past = 2040\n",
    "#start_year_future = 2041\n",
    "#stop_year_future = 2060\n",
    "\n",
    "tuple_error_bar = ('pi',80)\n",
    "name_project = 'WTP_Mutua_EIB'\n",
    "name_city = 'Mutua'"
   ]
  },
  {
   "cell_type": "markdown",
   "id": "9b7cec39",
   "metadata": {},
   "source": [
    "# Import packages"
   ]
  },
  {
   "cell_type": "code",
   "execution_count": 2,
   "id": "554678eb",
   "metadata": {},
   "outputs": [],
   "source": [
    "from scipy import stats\n",
    "import pandas as pd\n",
    "from matplotlib import pyplot as plt\n",
    "import numpy as np\n",
    "from scipy.stats import gumbel_r\n",
    "from scipy.stats import gumbel_l\n",
    "import os\n",
    "import os.path\n",
    "import math\n",
    "import seaborn as sns\n",
    "\n",
    "from Functions_Indicators import add_year_month_season\n",
    "from Functions_Indicators import filter_dataframe\n",
    "from Functions_Indicators import find_name_col\n",
    "\n",
    "#from Graphs_presentation_seaborn import trends_year"
   ]
  },
  {
   "cell_type": "markdown",
   "id": "dfee6503",
   "metadata": {},
   "source": [
    "# Import data"
   ]
  },
  {
   "cell_type": "markdown",
   "id": "ac7f3678",
   "metadata": {},
   "source": [
    "## Temperature"
   ]
  },
  {
   "cell_type": "code",
   "execution_count": 3,
   "id": "88b47f0a",
   "metadata": {},
   "outputs": [],
   "source": [
    "out_path = r'\\\\COWI.net\\projects\\A245000\\A248363\\CRVA\\Datasets\\NEX-GDDP-CMIP6-AllMoz'\n",
    "csv_path = os.path.join(out_path,'csv_file','tas','tas_Celsius_day_1950-2100','tas_1950-2100_projectsMoz.csv')\n",
    "tas_clim_var = pd.read_csv(csv_path,header=[0],index_col=[0,1,2,3,4])"
   ]
  },
  {
   "cell_type": "code",
   "execution_count": 4,
   "id": "8da73ce0",
   "metadata": {},
   "outputs": [
    {
     "data": {
      "text/plain": [
       "Index(['Chimoio_WTP_EIB', 'Gorongosa_EIB', 'Pemba_EIB', 'WTP_Mutua_EIB'], dtype='object', name='Name project')"
      ]
     },
     "execution_count": 4,
     "metadata": {},
     "output_type": "execute_result"
    }
   ],
   "source": [
    "# list of project available in this dataframe\n",
    "tas_clim_var.index.levels[0]"
   ]
  },
  {
   "cell_type": "code",
   "execution_count": 5,
   "id": "55cc6d35",
   "metadata": {},
   "outputs": [],
   "source": [
    "list_model_to_kill = ['TaiESM1','CMCC-CM2-SR5'] # determinated by comparing observed data and modeled data.\n",
    "# Modeled data with those models are not following the same trend as for observed data"
   ]
  },
  {
   "cell_type": "code",
   "execution_count": 6,
   "id": "09919ad5",
   "metadata": {},
   "outputs": [
    {
     "data": {
      "text/html": [
       "<div>\n",
       "<style scoped>\n",
       "    .dataframe tbody tr th:only-of-type {\n",
       "        vertical-align: middle;\n",
       "    }\n",
       "\n",
       "    .dataframe tbody tr th {\n",
       "        vertical-align: top;\n",
       "    }\n",
       "\n",
       "    .dataframe thead th {\n",
       "        text-align: right;\n",
       "    }\n",
       "</style>\n",
       "<table border=\"1\" class=\"dataframe\">\n",
       "  <thead>\n",
       "    <tr style=\"text-align: right;\">\n",
       "      <th></th>\n",
       "      <th>Name project</th>\n",
       "      <th>Experiment</th>\n",
       "      <th>Model</th>\n",
       "      <th>Latitude</th>\n",
       "      <th>Longitude</th>\n",
       "      <th>Date</th>\n",
       "      <th>Daily Near-Surface Air Temperature °C</th>\n",
       "      <th>Year</th>\n",
       "      <th>Month</th>\n",
       "      <th>Season</th>\n",
       "    </tr>\n",
       "  </thead>\n",
       "  <tbody>\n",
       "    <tr>\n",
       "      <th>0</th>\n",
       "      <td>WTP_Mutua_EIB</td>\n",
       "      <td>historical</td>\n",
       "      <td>ACCESS-CM2</td>\n",
       "      <td>-19.375</td>\n",
       "      <td>34.625</td>\n",
       "      <td>01-01-1950</td>\n",
       "      <td>30.038757</td>\n",
       "      <td>1950</td>\n",
       "      <td>Jan</td>\n",
       "      <td>Humid</td>\n",
       "    </tr>\n",
       "    <tr>\n",
       "      <th>1</th>\n",
       "      <td>WTP_Mutua_EIB</td>\n",
       "      <td>historical</td>\n",
       "      <td>ACCESS-CM2</td>\n",
       "      <td>-19.375</td>\n",
       "      <td>34.625</td>\n",
       "      <td>02-01-1950</td>\n",
       "      <td>30.407043</td>\n",
       "      <td>1950</td>\n",
       "      <td>Jan</td>\n",
       "      <td>Humid</td>\n",
       "    </tr>\n",
       "    <tr>\n",
       "      <th>2</th>\n",
       "      <td>WTP_Mutua_EIB</td>\n",
       "      <td>historical</td>\n",
       "      <td>ACCESS-CM2</td>\n",
       "      <td>-19.375</td>\n",
       "      <td>34.625</td>\n",
       "      <td>03-01-1950</td>\n",
       "      <td>30.592712</td>\n",
       "      <td>1950</td>\n",
       "      <td>Jan</td>\n",
       "      <td>Humid</td>\n",
       "    </tr>\n",
       "    <tr>\n",
       "      <th>3</th>\n",
       "      <td>WTP_Mutua_EIB</td>\n",
       "      <td>historical</td>\n",
       "      <td>ACCESS-CM2</td>\n",
       "      <td>-19.375</td>\n",
       "      <td>34.625</td>\n",
       "      <td>04-01-1950</td>\n",
       "      <td>31.287659</td>\n",
       "      <td>1950</td>\n",
       "      <td>Jan</td>\n",
       "      <td>Humid</td>\n",
       "    </tr>\n",
       "    <tr>\n",
       "      <th>4</th>\n",
       "      <td>WTP_Mutua_EIB</td>\n",
       "      <td>historical</td>\n",
       "      <td>ACCESS-CM2</td>\n",
       "      <td>-19.375</td>\n",
       "      <td>34.625</td>\n",
       "      <td>05-01-1950</td>\n",
       "      <td>25.517853</td>\n",
       "      <td>1950</td>\n",
       "      <td>Jan</td>\n",
       "      <td>Humid</td>\n",
       "    </tr>\n",
       "    <tr>\n",
       "      <th>...</th>\n",
       "      <td>...</td>\n",
       "      <td>...</td>\n",
       "      <td>...</td>\n",
       "      <td>...</td>\n",
       "      <td>...</td>\n",
       "      <td>...</td>\n",
       "      <td>...</td>\n",
       "      <td>...</td>\n",
       "      <td>...</td>\n",
       "      <td>...</td>\n",
       "    </tr>\n",
       "    <tr>\n",
       "      <th>2209359</th>\n",
       "      <td>WTP_Mutua_EIB</td>\n",
       "      <td>ssp370</td>\n",
       "      <td>NorESM2-MM</td>\n",
       "      <td>-19.375</td>\n",
       "      <td>34.625</td>\n",
       "      <td>27-12-2100</td>\n",
       "      <td>33.455231</td>\n",
       "      <td>2100</td>\n",
       "      <td>Dec</td>\n",
       "      <td>Humid</td>\n",
       "    </tr>\n",
       "    <tr>\n",
       "      <th>2209360</th>\n",
       "      <td>WTP_Mutua_EIB</td>\n",
       "      <td>ssp370</td>\n",
       "      <td>NorESM2-MM</td>\n",
       "      <td>-19.375</td>\n",
       "      <td>34.625</td>\n",
       "      <td>28-12-2100</td>\n",
       "      <td>33.220306</td>\n",
       "      <td>2100</td>\n",
       "      <td>Dec</td>\n",
       "      <td>Humid</td>\n",
       "    </tr>\n",
       "    <tr>\n",
       "      <th>2209361</th>\n",
       "      <td>WTP_Mutua_EIB</td>\n",
       "      <td>ssp370</td>\n",
       "      <td>NorESM2-MM</td>\n",
       "      <td>-19.375</td>\n",
       "      <td>34.625</td>\n",
       "      <td>29-12-2100</td>\n",
       "      <td>33.295776</td>\n",
       "      <td>2100</td>\n",
       "      <td>Dec</td>\n",
       "      <td>Humid</td>\n",
       "    </tr>\n",
       "    <tr>\n",
       "      <th>2209362</th>\n",
       "      <td>WTP_Mutua_EIB</td>\n",
       "      <td>ssp370</td>\n",
       "      <td>NorESM2-MM</td>\n",
       "      <td>-19.375</td>\n",
       "      <td>34.625</td>\n",
       "      <td>30-12-2100</td>\n",
       "      <td>33.413116</td>\n",
       "      <td>2100</td>\n",
       "      <td>Dec</td>\n",
       "      <td>Humid</td>\n",
       "    </tr>\n",
       "    <tr>\n",
       "      <th>2209363</th>\n",
       "      <td>WTP_Mutua_EIB</td>\n",
       "      <td>ssp370</td>\n",
       "      <td>NorESM2-MM</td>\n",
       "      <td>-19.375</td>\n",
       "      <td>34.625</td>\n",
       "      <td>31-12-2100</td>\n",
       "      <td>33.983002</td>\n",
       "      <td>2100</td>\n",
       "      <td>Dec</td>\n",
       "      <td>Humid</td>\n",
       "    </tr>\n",
       "  </tbody>\n",
       "</table>\n",
       "<p>1942005 rows × 10 columns</p>\n",
       "</div>"
      ],
      "text/plain": [
       "          Name project  Experiment       Model  Latitude  Longitude  \\\n",
       "0        WTP_Mutua_EIB  historical  ACCESS-CM2   -19.375     34.625   \n",
       "1        WTP_Mutua_EIB  historical  ACCESS-CM2   -19.375     34.625   \n",
       "2        WTP_Mutua_EIB  historical  ACCESS-CM2   -19.375     34.625   \n",
       "3        WTP_Mutua_EIB  historical  ACCESS-CM2   -19.375     34.625   \n",
       "4        WTP_Mutua_EIB  historical  ACCESS-CM2   -19.375     34.625   \n",
       "...                ...         ...         ...       ...        ...   \n",
       "2209359  WTP_Mutua_EIB      ssp370  NorESM2-MM   -19.375     34.625   \n",
       "2209360  WTP_Mutua_EIB      ssp370  NorESM2-MM   -19.375     34.625   \n",
       "2209361  WTP_Mutua_EIB      ssp370  NorESM2-MM   -19.375     34.625   \n",
       "2209362  WTP_Mutua_EIB      ssp370  NorESM2-MM   -19.375     34.625   \n",
       "2209363  WTP_Mutua_EIB      ssp370  NorESM2-MM   -19.375     34.625   \n",
       "\n",
       "               Date  Daily Near-Surface Air Temperature °C  Year Month Season  \n",
       "0        01-01-1950                              30.038757  1950   Jan  Humid  \n",
       "1        02-01-1950                              30.407043  1950   Jan  Humid  \n",
       "2        03-01-1950                              30.592712  1950   Jan  Humid  \n",
       "3        04-01-1950                              31.287659  1950   Jan  Humid  \n",
       "4        05-01-1950                              25.517853  1950   Jan  Humid  \n",
       "...             ...                                    ...   ...   ...    ...  \n",
       "2209359  27-12-2100                              33.455231  2100   Dec  Humid  \n",
       "2209360  28-12-2100                              33.220306  2100   Dec  Humid  \n",
       "2209361  29-12-2100                              33.295776  2100   Dec  Humid  \n",
       "2209362  30-12-2100                              33.413116  2100   Dec  Humid  \n",
       "2209363  31-12-2100                              33.983002  2100   Dec  Humid  \n",
       "\n",
       "[1942005 rows x 10 columns]"
      ]
     },
     "execution_count": 6,
     "metadata": {},
     "output_type": "execute_result"
    }
   ],
   "source": [
    "tas_clim_var_filtered=filter_dataframe(tas_clim_var,name_project,list_model_to_kill)\n",
    "tas_clim_var_filtered"
   ]
  },
  {
   "cell_type": "markdown",
   "id": "b0b1fc6c",
   "metadata": {},
   "source": [
    "We saw in another Python notebook that model 'TAIESM1' and 'CMCC-CM2-SR5' must be killed because do not follow the behaviour of temperature for the average temperature."
   ]
  },
  {
   "cell_type": "markdown",
   "id": "326527ef",
   "metadata": {},
   "source": [
    "## Temperature maximum"
   ]
  },
  {
   "cell_type": "code",
   "execution_count": 7,
   "id": "e12585c0",
   "metadata": {},
   "outputs": [],
   "source": [
    "out_path = r'\\\\COWI.net\\projects\\A245000\\A248363\\CRVA\\Datasets\\NEX-GDDP-CMIP6-AllMoz'\n",
    "csv_path = os.path.join(out_path,'csv_file','tasmax','tasmax_Celsius_day_1950-2100','tasmax_1950-2100_projectsMoz.csv')\n",
    "tasmax_clim_var = pd.read_csv(csv_path,header=[0],index_col=[0,1,2,3,4])"
   ]
  },
  {
   "cell_type": "code",
   "execution_count": 8,
   "id": "a638dd8a",
   "metadata": {},
   "outputs": [],
   "source": [
    "# we delete the models not working for temperature, also for tasmax\n",
    "tasmax_clim_var_filtered=filter_dataframe(tasmax_clim_var,name_project,list_model_to_kill)"
   ]
  },
  {
   "cell_type": "code",
   "execution_count": 9,
   "id": "5633bfb8",
   "metadata": {},
   "outputs": [
    {
     "data": {
      "text/html": [
       "<div>\n",
       "<style scoped>\n",
       "    .dataframe tbody tr th:only-of-type {\n",
       "        vertical-align: middle;\n",
       "    }\n",
       "\n",
       "    .dataframe tbody tr th {\n",
       "        vertical-align: top;\n",
       "    }\n",
       "\n",
       "    .dataframe thead th {\n",
       "        text-align: right;\n",
       "    }\n",
       "</style>\n",
       "<table border=\"1\" class=\"dataframe\">\n",
       "  <thead>\n",
       "    <tr style=\"text-align: right;\">\n",
       "      <th></th>\n",
       "      <th>Name project</th>\n",
       "      <th>Experiment</th>\n",
       "      <th>Model</th>\n",
       "      <th>Latitude</th>\n",
       "      <th>Longitude</th>\n",
       "      <th>Date</th>\n",
       "      <th>Daily Maximum Near-Surface Air Temperature °C</th>\n",
       "      <th>Year</th>\n",
       "      <th>Month</th>\n",
       "      <th>Season</th>\n",
       "    </tr>\n",
       "  </thead>\n",
       "  <tbody>\n",
       "    <tr>\n",
       "      <th>0</th>\n",
       "      <td>WTP_Mutua_EIB</td>\n",
       "      <td>historical</td>\n",
       "      <td>ACCESS-CM2</td>\n",
       "      <td>-19.375</td>\n",
       "      <td>34.625</td>\n",
       "      <td>01-01-1950</td>\n",
       "      <td>35.320282</td>\n",
       "      <td>1950</td>\n",
       "      <td>Jan</td>\n",
       "      <td>Humid</td>\n",
       "    </tr>\n",
       "    <tr>\n",
       "      <th>1</th>\n",
       "      <td>WTP_Mutua_EIB</td>\n",
       "      <td>historical</td>\n",
       "      <td>ACCESS-CM2</td>\n",
       "      <td>-19.375</td>\n",
       "      <td>34.625</td>\n",
       "      <td>02-01-1950</td>\n",
       "      <td>36.137665</td>\n",
       "      <td>1950</td>\n",
       "      <td>Jan</td>\n",
       "      <td>Humid</td>\n",
       "    </tr>\n",
       "    <tr>\n",
       "      <th>2</th>\n",
       "      <td>WTP_Mutua_EIB</td>\n",
       "      <td>historical</td>\n",
       "      <td>ACCESS-CM2</td>\n",
       "      <td>-19.375</td>\n",
       "      <td>34.625</td>\n",
       "      <td>03-01-1950</td>\n",
       "      <td>36.790802</td>\n",
       "      <td>1950</td>\n",
       "      <td>Jan</td>\n",
       "      <td>Humid</td>\n",
       "    </tr>\n",
       "    <tr>\n",
       "      <th>3</th>\n",
       "      <td>WTP_Mutua_EIB</td>\n",
       "      <td>historical</td>\n",
       "      <td>ACCESS-CM2</td>\n",
       "      <td>-19.375</td>\n",
       "      <td>34.625</td>\n",
       "      <td>04-01-1950</td>\n",
       "      <td>38.028870</td>\n",
       "      <td>1950</td>\n",
       "      <td>Jan</td>\n",
       "      <td>Humid</td>\n",
       "    </tr>\n",
       "    <tr>\n",
       "      <th>4</th>\n",
       "      <td>WTP_Mutua_EIB</td>\n",
       "      <td>historical</td>\n",
       "      <td>ACCESS-CM2</td>\n",
       "      <td>-19.375</td>\n",
       "      <td>34.625</td>\n",
       "      <td>05-01-1950</td>\n",
       "      <td>30.809021</td>\n",
       "      <td>1950</td>\n",
       "      <td>Jan</td>\n",
       "      <td>Humid</td>\n",
       "    </tr>\n",
       "    <tr>\n",
       "      <th>...</th>\n",
       "      <td>...</td>\n",
       "      <td>...</td>\n",
       "      <td>...</td>\n",
       "      <td>...</td>\n",
       "      <td>...</td>\n",
       "      <td>...</td>\n",
       "      <td>...</td>\n",
       "      <td>...</td>\n",
       "      <td>...</td>\n",
       "      <td>...</td>\n",
       "    </tr>\n",
       "    <tr>\n",
       "      <th>2059974</th>\n",
       "      <td>WTP_Mutua_EIB</td>\n",
       "      <td>ssp370</td>\n",
       "      <td>NorESM2-MM</td>\n",
       "      <td>-19.375</td>\n",
       "      <td>34.625</td>\n",
       "      <td>27-12-2100</td>\n",
       "      <td>39.643280</td>\n",
       "      <td>2100</td>\n",
       "      <td>Dec</td>\n",
       "      <td>Humid</td>\n",
       "    </tr>\n",
       "    <tr>\n",
       "      <th>2059975</th>\n",
       "      <td>WTP_Mutua_EIB</td>\n",
       "      <td>ssp370</td>\n",
       "      <td>NorESM2-MM</td>\n",
       "      <td>-19.375</td>\n",
       "      <td>34.625</td>\n",
       "      <td>28-12-2100</td>\n",
       "      <td>38.232727</td>\n",
       "      <td>2100</td>\n",
       "      <td>Dec</td>\n",
       "      <td>Humid</td>\n",
       "    </tr>\n",
       "    <tr>\n",
       "      <th>2059976</th>\n",
       "      <td>WTP_Mutua_EIB</td>\n",
       "      <td>ssp370</td>\n",
       "      <td>NorESM2-MM</td>\n",
       "      <td>-19.375</td>\n",
       "      <td>34.625</td>\n",
       "      <td>29-12-2100</td>\n",
       "      <td>38.471527</td>\n",
       "      <td>2100</td>\n",
       "      <td>Dec</td>\n",
       "      <td>Humid</td>\n",
       "    </tr>\n",
       "    <tr>\n",
       "      <th>2059977</th>\n",
       "      <td>WTP_Mutua_EIB</td>\n",
       "      <td>ssp370</td>\n",
       "      <td>NorESM2-MM</td>\n",
       "      <td>-19.375</td>\n",
       "      <td>34.625</td>\n",
       "      <td>30-12-2100</td>\n",
       "      <td>38.699799</td>\n",
       "      <td>2100</td>\n",
       "      <td>Dec</td>\n",
       "      <td>Humid</td>\n",
       "    </tr>\n",
       "    <tr>\n",
       "      <th>2059978</th>\n",
       "      <td>WTP_Mutua_EIB</td>\n",
       "      <td>ssp370</td>\n",
       "      <td>NorESM2-MM</td>\n",
       "      <td>-19.375</td>\n",
       "      <td>34.625</td>\n",
       "      <td>31-12-2100</td>\n",
       "      <td>39.646729</td>\n",
       "      <td>2100</td>\n",
       "      <td>Dec</td>\n",
       "      <td>Humid</td>\n",
       "    </tr>\n",
       "  </tbody>\n",
       "</table>\n",
       "<p>1792620 rows × 10 columns</p>\n",
       "</div>"
      ],
      "text/plain": [
       "          Name project  Experiment       Model  Latitude  Longitude  \\\n",
       "0        WTP_Mutua_EIB  historical  ACCESS-CM2   -19.375     34.625   \n",
       "1        WTP_Mutua_EIB  historical  ACCESS-CM2   -19.375     34.625   \n",
       "2        WTP_Mutua_EIB  historical  ACCESS-CM2   -19.375     34.625   \n",
       "3        WTP_Mutua_EIB  historical  ACCESS-CM2   -19.375     34.625   \n",
       "4        WTP_Mutua_EIB  historical  ACCESS-CM2   -19.375     34.625   \n",
       "...                ...         ...         ...       ...        ...   \n",
       "2059974  WTP_Mutua_EIB      ssp370  NorESM2-MM   -19.375     34.625   \n",
       "2059975  WTP_Mutua_EIB      ssp370  NorESM2-MM   -19.375     34.625   \n",
       "2059976  WTP_Mutua_EIB      ssp370  NorESM2-MM   -19.375     34.625   \n",
       "2059977  WTP_Mutua_EIB      ssp370  NorESM2-MM   -19.375     34.625   \n",
       "2059978  WTP_Mutua_EIB      ssp370  NorESM2-MM   -19.375     34.625   \n",
       "\n",
       "               Date  Daily Maximum Near-Surface Air Temperature °C  Year  \\\n",
       "0        01-01-1950                                      35.320282  1950   \n",
       "1        02-01-1950                                      36.137665  1950   \n",
       "2        03-01-1950                                      36.790802  1950   \n",
       "3        04-01-1950                                      38.028870  1950   \n",
       "4        05-01-1950                                      30.809021  1950   \n",
       "...             ...                                            ...   ...   \n",
       "2059974  27-12-2100                                      39.643280  2100   \n",
       "2059975  28-12-2100                                      38.232727  2100   \n",
       "2059976  29-12-2100                                      38.471527  2100   \n",
       "2059977  30-12-2100                                      38.699799  2100   \n",
       "2059978  31-12-2100                                      39.646729  2100   \n",
       "\n",
       "        Month Season  \n",
       "0         Jan  Humid  \n",
       "1         Jan  Humid  \n",
       "2         Jan  Humid  \n",
       "3         Jan  Humid  \n",
       "4         Jan  Humid  \n",
       "...       ...    ...  \n",
       "2059974   Dec  Humid  \n",
       "2059975   Dec  Humid  \n",
       "2059976   Dec  Humid  \n",
       "2059977   Dec  Humid  \n",
       "2059978   Dec  Humid  \n",
       "\n",
       "[1792620 rows x 10 columns]"
      ]
     },
     "execution_count": 9,
     "metadata": {},
     "output_type": "execute_result"
    }
   ],
   "source": [
    "tasmax_clim_var_filtered"
   ]
  },
  {
   "cell_type": "markdown",
   "id": "4b7677a6",
   "metadata": {},
   "source": [
    "## Incremental air temperature change"
   ]
  },
  {
   "cell_type": "code",
   "execution_count": 10,
   "id": "bf04159b",
   "metadata": {},
   "outputs": [],
   "source": [
    "#from Functions_Indicators import yearly_avg"
   ]
  },
  {
   "cell_type": "code",
   "execution_count": 11,
   "id": "386115a9",
   "metadata": {},
   "outputs": [],
   "source": [
    "def yearly_avg(df,title_column,climate_var_longName):\n",
    "    df_yearly_avg = df.copy(deep =True)\n",
    "    #df_yearly_avg=df_yearly_avg.drop(['Date','Month','Season'],axis=1)\n",
    "    old_title_column=find_name_col(df,climate_var_longName)\n",
    "    df_yearly_avg=df_yearly_avg.rename(columns={old_title_column:'Yearly average '+climate_var_longName})\n",
    "    df_yearly_avg = df_yearly_avg.groupby(['Experiment','Model','Year'])[['Yearly average '+climate_var_longName]].mean() # .sum() for precipitaitonsum per year\n",
    "    #df_yearly_avg = df_yearly_avg.groupby(['Name project','Experiment','Model']).mean()\n",
    "    return df_yearly_avg"
   ]
  },
  {
   "cell_type": "code",
   "execution_count": 12,
   "id": "ad985a26",
   "metadata": {},
   "outputs": [
    {
     "data": {
      "text/html": [
       "<div>\n",
       "<style scoped>\n",
       "    .dataframe tbody tr th:only-of-type {\n",
       "        vertical-align: middle;\n",
       "    }\n",
       "\n",
       "    .dataframe tbody tr th {\n",
       "        vertical-align: top;\n",
       "    }\n",
       "\n",
       "    .dataframe thead th {\n",
       "        text-align: right;\n",
       "    }\n",
       "</style>\n",
       "<table border=\"1\" class=\"dataframe\">\n",
       "  <thead>\n",
       "    <tr style=\"text-align: right;\">\n",
       "      <th></th>\n",
       "      <th></th>\n",
       "      <th></th>\n",
       "      <th>Yearly average temperature</th>\n",
       "    </tr>\n",
       "    <tr>\n",
       "      <th>Experiment</th>\n",
       "      <th>Model</th>\n",
       "      <th>Year</th>\n",
       "      <th></th>\n",
       "    </tr>\n",
       "  </thead>\n",
       "  <tbody>\n",
       "    <tr>\n",
       "      <th rowspan=\"5\" valign=\"top\">historical</th>\n",
       "      <th rowspan=\"5\" valign=\"top\">ACCESS-CM2</th>\n",
       "      <th>1950</th>\n",
       "      <td>25.203555</td>\n",
       "    </tr>\n",
       "    <tr>\n",
       "      <th>1951</th>\n",
       "      <td>24.747717</td>\n",
       "    </tr>\n",
       "    <tr>\n",
       "      <th>1952</th>\n",
       "      <td>25.015565</td>\n",
       "    </tr>\n",
       "    <tr>\n",
       "      <th>1953</th>\n",
       "      <td>24.473332</td>\n",
       "    </tr>\n",
       "    <tr>\n",
       "      <th>1954</th>\n",
       "      <td>24.669184</td>\n",
       "    </tr>\n",
       "    <tr>\n",
       "      <th>...</th>\n",
       "      <th>...</th>\n",
       "      <th>...</th>\n",
       "      <td>...</td>\n",
       "    </tr>\n",
       "    <tr>\n",
       "      <th rowspan=\"5\" valign=\"top\">ssp585</th>\n",
       "      <th rowspan=\"5\" valign=\"top\">NorESM2-MM</th>\n",
       "      <th>2096</th>\n",
       "      <td>28.976463</td>\n",
       "    </tr>\n",
       "    <tr>\n",
       "      <th>2097</th>\n",
       "      <td>30.096728</td>\n",
       "    </tr>\n",
       "    <tr>\n",
       "      <th>2098</th>\n",
       "      <td>29.380016</td>\n",
       "    </tr>\n",
       "    <tr>\n",
       "      <th>2099</th>\n",
       "      <td>29.806842</td>\n",
       "    </tr>\n",
       "    <tr>\n",
       "      <th>2100</th>\n",
       "      <td>30.238027</td>\n",
       "    </tr>\n",
       "  </tbody>\n",
       "</table>\n",
       "<p>5317 rows × 1 columns</p>\n",
       "</div>"
      ],
      "text/plain": [
       "                            Yearly average temperature\n",
       "Experiment Model      Year                            \n",
       "historical ACCESS-CM2 1950                   25.203555\n",
       "                      1951                   24.747717\n",
       "                      1952                   25.015565\n",
       "                      1953                   24.473332\n",
       "                      1954                   24.669184\n",
       "...                                                ...\n",
       "ssp585     NorESM2-MM 2096                   28.976463\n",
       "                      2097                   30.096728\n",
       "                      2098                   29.380016\n",
       "                      2099                   29.806842\n",
       "                      2100                   30.238027\n",
       "\n",
       "[5317 rows x 1 columns]"
      ]
     },
     "execution_count": 12,
     "metadata": {},
     "output_type": "execute_result"
    }
   ],
   "source": [
    "tas_yearly_avg=yearly_avg(tas_clim_var_filtered,'Daily Near-Surface Air Temperature °C','temperature')\n",
    "tas_yearly_avg"
   ]
  },
  {
   "cell_type": "code",
   "execution_count": 13,
   "id": "9b5e0a73",
   "metadata": {},
   "outputs": [],
   "source": [
    "tas_yearly_avg=tas_yearly_avg.reset_index()"
   ]
  },
  {
   "cell_type": "code",
   "execution_count": 14,
   "id": "343387f5",
   "metadata": {},
   "outputs": [
    {
     "data": {
      "text/plain": [
       "Text(0.5, 1.0, 'Average yearly temperature °C, depending on scenario and\\naccross models, between 1950 to 2100 at Mutua\\ndata modeled with NEX-GDDP-CMIP6')"
      ]
     },
     "execution_count": 14,
     "metadata": {},
     "output_type": "execute_result"
    },
    {
     "data": {
      "image/png": "[encoded data removed]",
      "text/plain": [
       "<Figure size 640x480 with 1 Axes>"
      ]
     },
     "metadata": {},
     "output_type": "display_data"
    }
   ],
   "source": [
    "sns.lineplot(tas_yearly_avg,x='Year',y='Yearly average temperature',hue='Experiment',errorbar=tuple_error_bar)\n",
    "plt.ylabel('Average yearly temperature °C')\n",
    "plt.title('Average yearly temperature °C, depending on scenario and\\naccross models, between 1950 to 2100 at '+name_city+'\\ndata modeled with NEX-GDDP-CMIP6')"
   ]
  },
  {
   "cell_type": "markdown",
   "id": "12bd0da8",
   "metadata": {},
   "source": [
    "## number of days with temperatures above 40 degres"
   ]
  },
  {
   "cell_type": "code",
   "execution_count": null,
   "id": "3c3deafb",
   "metadata": {},
   "outputs": [],
   "source": [
    "def number_day_above_threshold(df,climate_var_longName,threshold):\n",
    "    try:\n",
    "        try:\n",
    "            old_title_column=df.filter(like=climate_var_longName, axis=1).columns[0]\n",
    "        except:\n",
    "            old_title_column=df.filter(like=climate_var_longName.capitalize(), axis=1).columns[0]\n",
    "    except:\n",
    "        old_title_column=df.filter(like=climate_var_longName.upper(), axis=1).columns[0]\n",
    "    new_name='Average annual number of days with '+climate_var_longName+' above '+str(threshold)\n",
    "    #df = df.rename(columns={old_title_column:new_name})\n",
    "    \n",
    "    df = df.drop(['Date','Month','Season'],axis=1) \n",
    "    df=df.reset_index()\n",
    "    #df=df.groupby(['Experiment','Model','Year']).apply(lambda x: x[x[new_name]>40].count()).reset_index()\n",
    "    df[new_name]=0\n",
    "    df[new_name].iloc[np.where(df[old_title_column]>40)[0]]=1    \n",
    "    df = df.groupby(['Experiment','Model','Year'])[[new_name]].sum()\n",
    "    \n",
    "    return df"
   ]
  },
  {
   "cell_type": "code",
   "execution_count": null,
   "id": "32f26cbe",
   "metadata": {},
   "outputs": [],
   "source": [
    "max_tas_over_40 = number_day_above_threshold(tasmax_clim_var_filtered,'temperature',40)\n",
    "max_tas_over_40 "
   ]
  },
  {
   "cell_type": "code",
   "execution_count": null,
   "id": "15f2625c",
   "metadata": {},
   "outputs": [],
   "source": [
    "max_tas_over_40 = max_tas_over_40.reset_index()"
   ]
  },
  {
   "cell_type": "code",
   "execution_count": null,
   "id": "840c84cb",
   "metadata": {},
   "outputs": [],
   "source": [
    "max_tas_over_40 = max_tas_over_40[max_tas_over_40['Model']!='TaiESM1']"
   ]
  },
  {
   "cell_type": "code",
   "execution_count": null,
   "id": "bde16744",
   "metadata": {},
   "outputs": [],
   "source": [
    "fig,ax = plt.subplots()\n",
    "sns.lineplot(max_tas_over_40,x='Year',y='Average annual number of days with temperature above 40',hue='Model',errorbar=('pi',80))\n",
    "plt.ylabel('Number of days with temperature above 40°C')\n",
    "plt.title('Number of days with temperature above 40°C, depending on model,\\n accross scenarios between 1950 to 2100 at '+name_city)\n",
    "handles, labels=ax.get_legend_handles_labels()\n",
    "ax.get_legend().remove() # this line permits to have a common legend for the boxplots and the line\n",
    "fig.legend(handles, labels, loc='upper right', ncol=1, bbox_to_anchor=(1.3, 0.88),title='Legend')"
   ]
  },
  {
   "cell_type": "code",
   "execution_count": null,
   "id": "ed3762f5",
   "metadata": {},
   "outputs": [],
   "source": [
    "fig,ax = plt.subplots()\n",
    "sns.lineplot(max_tas_over_40,x='Year',y='Average annual number of days with temperature above 40',hue='Experiment',errorbar=('pi',80))\n",
    "#plt.ylim(0,100)\n",
    "plt.ylabel('Number of days with maximum temperature above 40°C')\n",
    "plt.title('Number of days with maximum temperature above 40°C, depending on\\nscenario, accross model, between 1950 to 2100 at '+name_city+'\\ndata modeled with NEX-GDDP-CMIP6')\n",
    "handles, labels=ax.get_legend_handles_labels()\n",
    "ax.get_legend().remove() # this line permits to have a common legend for the boxplots and the line\n",
    "fig.legend(handles, labels, loc='upper right', ncol=1, bbox_to_anchor=(1.1, 0.6),title='Legend')\n"
   ]
  },
  {
   "cell_type": "code",
   "execution_count": null,
   "id": "952475bc",
   "metadata": {},
   "outputs": [],
   "source": [
    "fig,ax = plt.subplots()\n",
    "sns.lineplot(max_tas_over_40[(max_tas_over_40['Experiment']=='ssp370') | (max_tas_over_40['Experiment']=='historical')],x='Year',y='Average annual number of days with temperature above 40',hue='Experiment',errorbar=('pi',80))\n",
    "plt.ylabel('Number of days with temperature above 40°C')\n",
    "plt.title('Number of days with temperature above 40°C for ssp370,\\n accross models, between 1950 to 2100 at '+name_city+'\\ndata modeled with NEX-GDDP-CMIP6')\n",
    "handles, labels=ax.get_legend_handles_labels()\n",
    "ax.get_legend().remove() # this line permits to have a common legend for the boxplots and the line\n",
    "fig.legend(handles, labels, loc='upper right', ncol=1, bbox_to_anchor=(1.1, 0.6),title='Legend')"
   ]
  },
  {
   "cell_type": "markdown",
   "id": "37cc259a",
   "metadata": {},
   "source": [
    "## Maximum temperature in year"
   ]
  },
  {
   "cell_type": "code",
   "execution_count": null,
   "id": "f002f9d9",
   "metadata": {},
   "outputs": [],
   "source": [
    "# mettre les max pour donnees"
   ]
  },
  {
   "cell_type": "code",
   "execution_count": null,
   "id": "0537de22",
   "metadata": {},
   "outputs": [],
   "source": [
    "def max_per_year_for_each_model_ssp(df,climate_var_longName):\n",
    "    try:\n",
    "        try:\n",
    "            old_title_column=df.filter(like=climate_var_longName, axis=1).columns[0]\n",
    "        except:\n",
    "            old_title_column=df.filter(like=climate_var_longName.capitalize(), axis=1).columns[0]\n",
    "    except:\n",
    "        old_title_column=df.filter(like=climate_var_longName.upper(), axis=1).columns[0]\n",
    "    df = df.rename(columns={old_title_column:'Yearly maximum '+climate_var_longName})\n",
    "    df = df.drop(['Date','Month','Season'],axis=1)\n",
    "    df = df.groupby(['Experiment','Model','Year'])[['Yearly maximum '+climate_var_longName]].max()\n",
    "    return df"
   ]
  },
  {
   "cell_type": "code",
   "execution_count": null,
   "id": "6449a9a6",
   "metadata": {},
   "outputs": [],
   "source": [
    "df=max_per_year_for_each_model_ssp(tasmax_clim_var_filtered,'temperature')"
   ]
  },
  {
   "cell_type": "code",
   "execution_count": null,
   "id": "d67a62c4",
   "metadata": {},
   "outputs": [],
   "source": [
    "df"
   ]
  },
  {
   "cell_type": "code",
   "execution_count": null,
   "id": "65bdc0c5",
   "metadata": {},
   "outputs": [],
   "source": [
    "df=df.reset_index()"
   ]
  },
  {
   "cell_type": "code",
   "execution_count": null,
   "id": "0d17a183",
   "metadata": {},
   "outputs": [],
   "source": [
    "fig,ax = plt.subplots()\n",
    "sns.lineplot(df,x='Year',y='Yearly maximum temperature',hue='Experiment',errorbar=('pi',80))# ajouter les donnes obs\n",
    "plt.ylabel('Yearly maximum temperature °C')\n",
    "plt.title('Yearly maximum temperature °C depending on scenario,\\n accross models between 1950 to 2100 at Gorongosa, MZ\\ndata modeled with NEX-GDDP-CMIP6')\n",
    "handles, labels=ax.get_legend_handles_labels()\n",
    "ax.get_legend().remove() # this line permits to have a common legend for the boxplots and the line\n",
    "fig.legend(handles, labels, loc='upper right', ncol=1, bbox_to_anchor=(1.1, 0.6),title='Legend')"
   ]
  },
  {
   "cell_type": "code",
   "execution_count": null,
   "id": "2e25dc58",
   "metadata": {},
   "outputs": [],
   "source": [
    "g = sns.FacetGrid(df, col=\"Experiment\", height=4, aspect=.5)\n",
    "g.map(sns.lineplot, \"Year\",'Yearly maximum temperature')"
   ]
  },
  {
   "cell_type": "code",
   "execution_count": null,
   "id": "c6a04622",
   "metadata": {},
   "outputs": [],
   "source": [
    "trends_year('tas',df,'NEX-GDDP-CMIP6','mean','gorongosa',1960,2100)"
   ]
  },
  {
   "cell_type": "code",
   "execution_count": null,
   "id": "d8437e45",
   "metadata": {},
   "outputs": [],
   "source": []
  },
  {
   "cell_type": "code",
   "execution_count": null,
   "id": "b8c53bd0",
   "metadata": {},
   "outputs": [],
   "source": []
  }
 ],
 "metadata": {
  "kernelspec": {
   "display_name": "Python 3 (ipykernel)",
   "language": "python",
   "name": "python3"
  },
  "language_info": {
   "codemirror_mode": {
    "name": "ipython",
    "version": 3
   },
   "file_extension": ".py",
   "mimetype": "text/x-python",
   "name": "python",
   "nbconvert_exporter": "python",
   "pygments_lexer": "ipython3",
   "version": "3.10.6"
  }
 },
 "nbformat": 4,
 "nbformat_minor": 5
}
