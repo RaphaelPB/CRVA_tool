{
 "cells": [
  {
   "cell_type": "markdown",
   "id": "b93dcc14",
   "metadata": {},
   "source": [
    "This notebook is meant to download data from copernicus CMIP6.\n",
    "\n",
    "Data source : https://cds.climate.copernicus.eu/cdsapp#!/dataset/projections-cmip6?tab=form"
   ]
  },
  {
   "cell_type": "markdown",
   "id": "e2ba8c42",
   "metadata": {},
   "source": [
    "# User input"
   ]
  },
  {
   "cell_type": "code",
   "execution_count": 1,
   "id": "59a4269d",
   "metadata": {},
   "outputs": [],
   "source": [
    "\n",
    "global_variable = 'pr'\n",
    "name_variable = 'precipitation' \n",
    "\n",
    "# 'tas' 'near_surface_air_temperature'\n",
    "# 'tasmax' 'daily_maximum_near_surface_air_temperature'\n",
    "# 'tasmin' 'daily_minimum_near_surface_air_temperature'\n",
    "# 'hurs' 'near_surface_specific_humidity'\n",
    "# 'Wind' 'near_surface_wind_speed'\n",
    "\n",
    "temporal_resolution = 'daily'\n",
    "\n",
    "y_start = 2015\n",
    "y_end = 2100\n",
    "\n",
    "# wind register at 10 m"
   ]
  },
  {
   "cell_type": "markdown",
   "id": "843fe416",
   "metadata": {},
   "source": [
    "# Functions and packages"
   ]
  },
  {
   "cell_type": "code",
   "execution_count": 2,
   "id": "9510fc3b",
   "metadata": {},
   "outputs": [],
   "source": [
    "import pandas as pd\n",
    "import numpy as np\n",
    "import numpy.ma as ma\n",
    "import netCDF4 as nc#not directly used but needs to be imported for some nc4 files manipulations, use for nc files\n",
    "from netCDF4 import Dataset\n",
    "import xarray as xr\n",
    "import datetime # to have actual date\n",
    "import os\n",
    "import os.path\n",
    "import cdsapi # for copernicus function\n",
    "import shutil\n",
    "from datetime import datetime"
   ]
  },
  {
   "cell_type": "markdown",
   "id": "c3262e08",
   "metadata": {},
   "source": [
    "# Out path"
   ]
  },
  {
   "cell_type": "code",
   "execution_count": 3,
   "id": "ead08c23",
   "metadata": {},
   "outputs": [],
   "source": [
    "out_path=r'\\\\COWI.net\\projects\\A245000\\A248363\\CRVA\\Datasets'"
   ]
  },
  {
   "cell_type": "markdown",
   "id": "53516663",
   "metadata": {},
   "source": [
    "# Area information\n",
    "\n",
    "This code download data one area at the time. The user must indicate which part of the word he/she wnats to download.\n",
    "\n",
    "Reminder: \n",
    "\n",
    "latitude is vertical, it specifies North-South positions.\n",
    "\n",
    "longitude is horizontal, it specifies West-East positions."
   ]
  },
  {
   "cell_type": "code",
   "execution_count": 4,
   "id": "1f2fba23",
   "metadata": {},
   "outputs": [],
   "source": [
    "# default coordinates are the ones of Mozambique\n",
    "\n",
    "name_area = 'all-Mozambique'\n",
    "\n",
    "North = -10\n",
    "South = -27\n",
    "West = 30\n",
    "East = 41\n",
    "\n",
    "area = [North, West, South, East] # list format"
   ]
  },
  {
   "cell_type": "markdown",
   "id": "e9b3f294",
   "metadata": {},
   "source": [
    "# Class"
   ]
  },
  {
   "cell_type": "markdown",
   "id": "b9e29fa6",
   "metadata": {},
   "source": [
    "### Calendar class"
   ]
  },
  {
   "cell_type": "code",
   "execution_count": 5,
   "id": "d2d6a2c5",
   "metadata": {},
   "outputs": [],
   "source": [
    "# class to define parameter of time that remain constant durinf the whole script\n",
    "class calendar:\n",
    "    default_month = [ \n",
    "                '01', '02', '03',\n",
    "                '04', '05', '06',\n",
    "                '07', '08', '09',\n",
    "                '10', '11', '12',\n",
    "                ]\n",
    "    default_day = [\n",
    "                '01', '02', '03',\n",
    "                '04', '05', '06',\n",
    "                '07', '08', '09',\n",
    "                '10', '11', '12',\n",
    "                '13', '14', '15',\n",
    "                '16', '17', '18',\n",
    "                '19', '20', '21',\n",
    "                '22', '23', '24',\n",
    "                '25', '26', '27',\n",
    "                '28', '29', '30',\n",
    "                '31',\n",
    "                ]\n",
    "    #actual_date = datetime.date.today()\n",
    "    #actual_year = actual_date.year"
   ]
  },
  {
   "cell_type": "markdown",
   "id": "c24c5e67",
   "metadata": {},
   "source": [
    "### Copernicus class"
   ]
  },
  {
   "cell_type": "code",
   "execution_count": 6,
   "id": "d8f79fb3",
   "metadata": {},
   "outputs": [],
   "source": [
    "## Definition of tuples that will be useful to search which data are available or not\n",
    "# make it tuples to make unchangeable\n",
    "class copernicus_elements:\n",
    "    # there is 58 models\n",
    "    models =('access_cm2','awi_cm_1_1_mr','bcc_csm2_mr','cams_csm1_0','canesm5_canoe','cesm2_fv2','cesm2_waccm_fv2','cmcc_cm2_hr4','cmcc_esm2','cnrm_cm6_1_hr','e3sm_1_0','e3sm_1_1_eca','ec_earth3_aerchem','ec_earth3_veg','fgoals_f3_l','fio_esm_2_0','giss_e2_1_g','hadgem3_gc31_ll','iitm_esm','inm_cm5_0','ipsl_cm6a_lr','kiost_esm','miroc6','miroc_es2l','mpi_esm1_2_hr','mri_esm2_0','norcpm1','noresm2_mm','taiesm1','access_esm1_5','awi_esm_1_1_lr','bcc_esm1','canesm5','cesm2','cesm2_waccm','ciesm','cmcc_cm2_sr5','cnrm_cm6_1','cnrm_esm2_1','e3sm_1_1','ec_earth3','ec_earth3_cc','ec_earth3_veg_lr','fgoals_g3','gfdl_esm4','giss_e2_1_h','hadgem3_gc31_mm','inm_cm4_8','ipsl_cm5a2_inca','kace_1_0_g','mcm_ua_1_0','miroc_es2h','mpi_esm_1_2_ham','mpi_esm1_2_lr','nesm3','noresm2_lm','sam0_unicon','ukesm1_0_ll')\n",
    "    experiments = ('ssp1_1_9','ssp1_2_6','ssp4_3_4','ssp5_3_4os','ssp2_4_5','ssp4_6_0','ssp3_7_0','ssp5_8_5')\n",
    "    experiments_historical=('historical',)"
   ]
  },
  {
   "cell_type": "markdown",
   "id": "80c51b12",
   "metadata": {},
   "source": [
    "## Functions"
   ]
  },
  {
   "cell_type": "code",
   "execution_count": 7,
   "id": "bc711275",
   "metadata": {},
   "outputs": [],
   "source": [
    "################################################ Period for copernicus function ################################################\n",
    "# Aim of the function: by giving it a first and last year of the period that must analyzed, this function produce several \n",
    "# vectors,containing time informations, useful to download and treat data from CMIP6 projections (https://cds.climate.copernicus.eu/cdsapp#!/dataset/projections-cmip6?tab=overview )\n",
    "# Those time vectors are used in the copernicus_data and the dataframe_copernicus and csv_copernicus functions\n",
    "\n",
    "# function year_copernicus produce \n",
    "# year: a vector containing all the year in the period of interest\n",
    "# year_str: an array containing all the year in the period of interest in the string format\n",
    "# index: an array containing the index of the year and year_str\n",
    "#### Parameters of the function\n",
    "# first_year: number in int format, of the first year of the period of interest\n",
    "# last_year: number in int format, of the last year of the period of interest\n",
    "def year_copernicus(first_year,last_year):\n",
    "    year = np.arange(first_year,(last_year+1),1) # create vector of years\n",
    "    year_str = [0]*len(year) # create initiale empty vector to convert years in int\n",
    "    index = np.arange(0,len(year)) # create vector of index for year\n",
    "    i = 0 # initialize index\n",
    "    for i in index: # convert all the date in string format\n",
    "        year_str[i]=str(year[i])\n",
    "    return (year, year_str, index)\n",
    "\n",
    "# function date_copernicus produce \n",
    "# dates: the format depend on the temporal reolution, but always contain the dates of the period of interest.\n",
    "#        with temporal_resolution=daily, dates is a DatetimeIndex\n",
    "#        with temporal_resolution=monthly, dates is a list\n",
    "# index_dates: an array containing the index of the dates\n",
    "#### Parameters of the function\n",
    "# temporal_resolution: daily or monthly\n",
    "# year_str: ???? produce by function year_copernicus, containing the year of the period of interest in string format\n",
    "def date_copernicus(temporal_resolution,year_str):\n",
    "    start_date = \"01-01-\"+year_str[0] # string start date based on start year\n",
    "    stop_date = \"31-12-\"+year_str[len(year_str)-1] # string stop date based on stop year\n",
    "    if temporal_resolution =='daily':\n",
    "        # vector of dates between start date and stop date\n",
    "        dates = pd.date_range(start_date,stop_date)# dates is a pandas.core.indexes.datetimes.DatetimeIndex\n",
    "        # By default, freq = 'D', which means calendar day frequency (source : https://pandas.pydata.org/docs/user_guide/timeseries.html#timeseries-offset-aliases)\n",
    "        #index_dates = np.arange(0,len(dates)) # vector containning index o dates vector\n",
    "    if temporal_resolution =='monthly':\n",
    "        dates = pd.date_range(start_date,stop_date,freq='MS') # vector of dates between start date and stop date\n",
    "        dates=list(dates.strftime('%m-%Y')) # dates is an pandas.core.indexes.base.Index, not a pandas.core.indexes.datetimes.DatetimeIndex\n",
    "    #if temporal_resolution =='fixed': trouver donnees pour gerer cela\n",
    "    index_dates = np.arange(0,len(dates)) # vector containning index o dates vector\n",
    "    return (dates, index_dates)"
   ]
  },
  {
   "cell_type": "code",
   "execution_count": 8,
   "id": "1bec7c7b",
   "metadata": {},
   "outputs": [],
   "source": [
    "########################################### Download data from Copernicus Website ############################################\n",
    "# Aim of the function: this function aims to downloaded with the function copernicus_data the files of interest from the website\n",
    "# Copernicus CMIP6\n",
    "# Actions of this function\n",
    "#     1) Create the string indicating the period of interest\n",
    "#     2) Download data, with its corresponding experiments and models\n",
    "#        2 a) Creates path for file\n",
    "#        2 b) Thanks to function 'copernicus_data', download the data inthe path just created\n",
    "\n",
    "# Parameters of the function\n",
    "# temporal_resolution: 'daily', 'monthly', or 'fixed'. String type \n",
    "# year_str: list containing all the years under the string type and in the period of interest\n",
    "# experiments: copernicus_elements.experiments\n",
    "# models: copernicus_elements.models\n",
    "# out_path: path were the outputs are registered. Defined by the user at the beginning of the code \n",
    "# global_variable: global name of the climate variable of interest (example: Wind)\n",
    "# name_variable: name of the elements downloaded from copernicus (example: 'near_surface_wind_speed')\n",
    "# area: list containing latitudes and longitudes of area of interest\n",
    "# name_area: Name of the area of interest\n",
    "# source: name of the source of the data, by default it is 'Copernicus-CMIP6'\n",
    "\n",
    "def download_copernicus(temporal_resolution,year_str,experiments,models,out_path, global_variable, name_variable,area, name_area,source='Copernicus-CMIP6'):    \n",
    "    # create string for name of folder depending on type of period\n",
    "    if temporal_resolution == 'fixed':\n",
    "        period = 'fixed'\n",
    "    else:\n",
    "        period=year_str[0]+'-'+year_str[len(year_str)-1]\n",
    "        \n",
    "    for SSP in experiments:\n",
    "        experiment = (SSP,) # create tuple for iteration of dataframe\n",
    "        print('Test with scenario '+SSP)\n",
    "        for model_simulation in models:\n",
    "            model =(model_simulation,) # create tuple for iteration of dataframe\n",
    "            print('Test with model '+model_simulation)\n",
    "            # path were the futur downloaded file is registered\n",
    "            path_for_file= os.path.join(out_path,name_variable,source,period,SSP,model_simulation)\n",
    "            # existence of path_for_file tested in copernicus function\n",
    "            copernicus_data(temporal_resolution,SSP,name_variable,model_simulation,year_str,area,path_for_file,out_path,name_area,source)\n",
    "\n",
    "    return"
   ]
  },
  {
   "cell_type": "code",
   "execution_count": 9,
   "id": "350b5a88",
   "metadata": {},
   "outputs": [],
   "source": [
    "################################################### Copernicus data function ###################################################\n",
    "# Aim of the function : Determine if the data were already downloadeed or not. If the data were not downloaded, call\n",
    "# function 'try_download_copernicus' to download them. If the data were already downloaded but not extracted, call function\n",
    "# 'download_extract'\n",
    "# Actions of this function\n",
    "#     1) create the string of the path where the data will be registered \n",
    "#        \n",
    "#     2) Check if the path where the data will be registered already exists or not\n",
    "#        2 a) The path where the data will be registered does not exist\n",
    "#             The path where are the compressed data exists ?\n",
    "#                   ---> no : call the 'try_download_copernicus' to download and extract the data of interest\n",
    "#                   ---> yes : is the path empty ?\n",
    "#                              > yes : use 'try_download_copernicus' to download and extract the data of interest\n",
    "#                              > no : call function 'download_extract' to extract the files in this path to path_for_file\n",
    "#        2 b) The path where the data will be registered does exist\n",
    "#             Is the path empty ?\n",
    "#                   ---> yes : the path where the compressed data are exists ?\n",
    "#                             > no : use 'try_download_copernicus' to download and extract the data of interest\n",
    "#                             > yes : is the folder empty ?\n",
    "#                                     * yes : use 'try_download_copernicus' to download and extract the data of interest\n",
    "#                                     * no : call function 'download_extract' to extract the files in this path to path_for_file\n",
    "#                   ---> no : the data were downloaded and extracted for the elements of interest \n",
    "\n",
    "#### Parameters of the function\n",
    "# temporal_resolution : daily or monthly or fixed\n",
    "# SSP : scenario that is studied \"Historical\", \"SSP1-1.9\", \"SSP1-2.6\" ...\n",
    "# name_variable : variable to be studied\n",
    "# model: model of projection to choose\n",
    "# year: year(s) of study to choose\n",
    "# area: area of study, if not specific, area should be an empty array area=[]\n",
    "# path_for_file: path where the file must be unzipped\n",
    "# out_path: path were all the outputs are registered, defined by the user in the begining of the main code\n",
    "# name_area :  Name of the area of interest\n",
    "# source: name of the source of the data (here 'Copernicus-CMIP6')\n",
    "\n",
    "def copernicus_data(temporal_resolution,SSP,name_variable,model,year,area,path_for_file,out_path,name_area,source): \n",
    "    # create path for the downloaded file\n",
    "    start_path = os.path.join(out_path,'Data_download_zip')\n",
    "    file_download=create_file_download_path(start_path,name_variable,name_area,SSP,model,year,temporal_resolution,source)\n",
    "    \n",
    "    if not os.path.isdir(path_for_file):\n",
    "        # the path for the file does not exist\n",
    "        print('path_for_file does not exist: the data may not have been downloaded') \n",
    "        if not os.path.isdir(file_download):\n",
    "            print('file_download does not exist: the data were not downloaded')\n",
    "            # function try to download from copernicus\n",
    "            try_download_copernicus(temporal_resolution,SSP,name_variable,model,area,year,path_for_file,file_download,name_area)\n",
    "            return\n",
    "            \n",
    "        else: # if the path already exist, the data in zip format should also exists\n",
    "            if not os.path.isfile(os.path.join(file_download,'download.zip')):\n",
    "                print('The path for the download file exists, but is empty')\n",
    "                # function try to download from copernicus\n",
    "                try_download_copernicus(temporal_resolution,SSP,name_variable,model,area,year,path_for_file,file_download,name_area)                \n",
    "                return\n",
    "            else:\n",
    "                print('file_download does exist, the data have been downloaded, but not extracted')\n",
    "                download_extract(path_for_file,file_download,name_area)\n",
    "                return\n",
    "                \n",
    "    else: \n",
    "        # the path for the file exists\n",
    "        if not os.listdir(path_for_file): # if the path is empty\n",
    "            if not os.path.isdir(file_download):\n",
    "                print('file_download does not exist: the data were not downloaded')\n",
    "                # function try to download from copernicus\n",
    "                try_download_copernicus(temporal_resolution,SSP,name_variable,model,area,year,path_for_file,file_download,name_area)\n",
    "                return\n",
    "\n",
    "            else: # if the path already exist, the data in zip format should also exists\n",
    "                if not os.path.isfile(os.path.join(file_download,'download.zip')):\n",
    "                    print('The path for the download file exists, but is empty')\n",
    "                    # function try to download from copernicus\n",
    "                    try_download_copernicus(temporal_resolution,SSP,name_variable,model,area,year,path_for_file,file_download,name_area)\n",
    "                    return\n",
    "                else:\n",
    "                    print('file_download does exist, the data have been downloaded, but not extracted')\n",
    "                    download_extract(path_for_file,file_download,name_area)\n",
    "                    return\n",
    "        \n",
    "        else: # if the path is not empty\n",
    "            print(f'The data has already been downloaded and extracted at {path_for_file}')\n",
    "            return"
   ]
  },
  {
   "cell_type": "code",
   "execution_count": 10,
   "id": "3c6d6b4b",
   "metadata": {},
   "outputs": [],
   "source": [
    "################################################### try_download_copernicus function ###################################################\n",
    "# Aim of the function : download compressed files from the Copernicus CMIP6 website (indicated at the beginning of the website)\n",
    "\n",
    "##### Actions of the functions :\n",
    "#     1) import function cdsapi.Client(). Will be use in step 3, with c.retrieve\n",
    "#     2) Create the variables dictionnary, depending on the parameters of 'try_download_copernicus'. this dictionnary will then\n",
    "#        be used in the c.retrieve function\n",
    "#     3) Try to downloaded compressed file from Copernicus CMIP6 website. If parameters are not matching, will fall in except \n",
    "#        and continue\n",
    "#     4) Use function 'download_extract' to extract compressed files in path_for_file\n",
    "\n",
    "##### Parameters :\n",
    "# temporal_resolution : daily or monthly or fixed\n",
    "# SSP : scenario that is studied \"Historical\", \"SSP1-1.9\", \"SSP1-2.6\" ...\n",
    "# name_variable : variable to be studied\n",
    "# model: model of projection to choose\n",
    "# area: area of study, if not specific, area should be an empty array area=[]\n",
    "# year: year(s) of study to choose\n",
    "# path_for_file: path where the file must be unzipped\n",
    "# file_download : path where the compressed files under a zip format are registered\n",
    "# name_area : Name of the area of interest\n",
    "\n",
    "def try_download_copernicus(temporal_resolution,SSP,name_variable,model,area,year,path_for_file,file_download,name_area):\n",
    "    c = cdsapi.Client()# function to use the c.retrieve\n",
    "    # basic needed dictionnary to give to the c.retrieve function the parameters asked by the user\n",
    "    variables = {\n",
    "                'format': 'zip', # this function is only designed to download and unzip zip files\n",
    "                'temporal_resolution': temporal_resolution,\n",
    "                'experiment': SSP,\n",
    "                'variable': name_variable,\n",
    "                'model': model,\n",
    "    }\n",
    "\n",
    "    if area != []: # the user is interested by a sub region and not the whole region \n",
    "        variables.update({'area':area}) \n",
    "\n",
    "    if 'air_temperature' in name_variable: # test if variable is temperature\n",
    "        variables['level'] = '1000' # [hPa], value of the standard pressure at sea level is 1013.25 [hPa], so 1000 [hPa] is the neareste value. Other pressure value are available but there is no interest for the aim of this project\n",
    "\n",
    "    if temporal_resolution != 'fixed':# if 'fixed', no year, month, date to choose\n",
    "        variables['year']=year # period chosen by the user\n",
    "        variables['month']= calendar.default_month  # be default, all the months are given; defined in class calendar\n",
    "        if temporal_resolution == 'daily':\n",
    "            variables['day']= calendar.default_day # be default, all the days are given; defined in class calendar\n",
    "    # c.retrieve download the data from the website\n",
    "    try:\n",
    "        c.retrieve(\n",
    "            'projections-cmip6',\n",
    "            variables,\n",
    "            'download.zip') # the file in a zip format is registered in the current directory\n",
    "    except:\n",
    "        print('Some parameters are not matching')\n",
    "        return # stop the function, because some data the user entered are not matching\n",
    "    print('The file has been download')\n",
    "    # function to extract the downloaded zip\n",
    "    download_extract(path_for_file,file_download,name_area)\n",
    "    print('The file has been extracted')\n",
    "    return"
   ]
  },
  {
   "cell_type": "code",
   "execution_count": 11,
   "id": "f4958584",
   "metadata": {},
   "outputs": [],
   "source": [
    "# 'download_extract' function aims to extract in path_for_file, the downloaded file in zip format which is registered \n",
    "# in file_download\n",
    "\n",
    "#### Actions of the function :\n",
    "#     1) Check if the path_for_file, where the decompressed file should be registered, exists\n",
    "#        > no : ensure the creation of the path with os.makedirs\n",
    "#     2) Check if the compressed file is in the working directory\n",
    "#        > no : move the compressed fil to the working directory\n",
    "#     3) Extract the compressed file, in a folder named 'name_area'\n",
    "#     4) Check if the file_download, where the compressed file should be registered, exists\n",
    "#        > no : ensure the creation of the path with os.makedirs\n",
    "#     5) move the files to the appropriate places\n",
    "\n",
    "def download_extract(path_for_file,file_download,name_area):\n",
    "    # step 1\n",
    "    if not os.path.isdir(path_for_file): # path_for_file does not exists, need to ensure that is is created\n",
    "        os.makedirs(path_for_file) # to ensure the creation of the path\n",
    "        print('Path for the file is created, did not existed before')\n",
    "    \n",
    "    # step 2\n",
    "    if 'download.zip' not in os.listdir(): # check if download is in the working directory\n",
    "        print('The download zip is moved to the working directory')\n",
    "        path_downloaded_zip=os.path.join(file_download,'download.zip')\n",
    "        shutil.move(path_downloaded_zip,r'C:\\Users\\CLMRX\\OneDrive - COWI\\Documents\\GitHub\\CRVA_tool') # move download file to working directory\n",
    "    \n",
    "    # step 3\n",
    "    from zipfile import ZipFile\n",
    "    zf = ZipFile('download.zip', 'r')\n",
    "    zf.extractall(name_area) # if no precision of directory, extract in current directory\n",
    "    zf.close()\n",
    "\n",
    "    # step 4\n",
    "    if not os.path.isdir(file_download): # path_for_file does not exists, need to ensure that is is created\n",
    "        os.makedirs(file_download) # to ensure the creation of the path\n",
    "    \n",
    "    # step 5\n",
    "    # moving download to appropriate place\n",
    "    shutil.move('download.zip',file_download) # no need to delete 'download.zip' from inital place\n",
    "    shutil.move(name_area,path_for_file) # move extracted data to the path created for them\n",
    "    print('\\n The downloaded file is extracted')\n",
    "    return"
   ]
  },
  {
   "cell_type": "code",
   "execution_count": 12,
   "id": "a1770731",
   "metadata": {},
   "outputs": [],
   "source": [
    "# 'create_file_download_path' function to create path for the downloaded compressed folder\n",
    "\n",
    "def create_file_download_path(start_path,name_variable,name_area,SSP,model,year,temporal_resolution,source):\n",
    "    # adapt the name of the folder for the period, depending on the type of period\n",
    "    if len(year)==1:\n",
    "        file_download = os.path.join(start_path,name_variable,source,year,SSP,model,name_area)\n",
    "    elif len(year)>1:\n",
    "        period=year[0]+'-'+year[len(year)-1]\n",
    "        file_download = os.path.join(start_path,name_variable,source,period,SSP,model,name_area)\n",
    "    elif temporal_resolution == 'fixed':\n",
    "        file_download = os.path.join(start_path,name_variable,source,'fixed_period',SSP,model,name_area)\n",
    "    return file_download # returns string of the path where the downloaded compressed folder must be registered"
   ]
  },
  {
   "cell_type": "markdown",
   "id": "feccff81",
   "metadata": {},
   "source": [
    "# Register copernicus data"
   ]
  },
  {
   "cell_type": "code",
   "execution_count": 13,
   "id": "becf5fd0",
   "metadata": {},
   "outputs": [],
   "source": [
    "(year, year_str, index)=year_copernicus(y_start,y_end)"
   ]
  },
  {
   "cell_type": "code",
   "execution_count": null,
   "id": "c0ccb78d",
   "metadata": {},
   "outputs": [
    {
     "name": "stdout",
     "output_type": "stream",
     "text": [
      "Test with scenario ssp1_1_9\n",
      "Test with model access_cm2\n",
      "path_for_file does not exist: the data may not have been downloaded\n",
      "file_download does not exist: the data were not downloaded\n"
     ]
    },
    {
     "name": "stderr",
     "output_type": "stream",
     "text": [
      "2023-07-11 14:11:45,764 INFO Welcome to the CDS\n",
      "2023-07-11 14:11:45,765 INFO Sending request to https://cds.climate.copernicus.eu/api/v2/resources/projections-cmip6\n",
      "2023-07-11 14:11:45,828 INFO Request is queued\n",
      "2023-07-11 14:11:46,904 INFO Request is failed\n",
      "2023-07-11 14:11:46,906 ERROR Message: an internal error occurred processing your request\n",
      "2023-07-11 14:11:46,908 ERROR Reason:  No matching data for request {'experiment': 'ssp119', 'model': 'ACCESS-CM2', 'temporal_resolution': 'day', 'variable': 'pr'}\n",
      "2023-07-11 14:11:46,909 ERROR   Traceback (most recent call last):\n",
      "2023-07-11 14:11:46,910 ERROR     File \"/opt/cdstoolbox/cdscompute/cdscompute/cdshandlers/services/handler.py\", line 59, in handle_request\n",
      "2023-07-11 14:11:46,910 ERROR       result = cached(context.method, proc, context, context.args, context.kwargs)\n",
      "2023-07-11 14:11:46,911 ERROR     File \"/opt/cdstoolbox/cdscompute/cdscompute/caching.py\", line 108, in cached\n",
      "2023-07-11 14:11:46,912 ERROR       result = proc(context, *context.args, **context.kwargs)\n",
      "2023-07-11 14:11:46,912 ERROR     File \"/opt/cdstoolbox/cdscompute/cdscompute/services.py\", line 124, in __call__\n",
      "2023-07-11 14:11:46,913 ERROR       return p(*args, **kwargs)\n",
      "2023-07-11 14:11:46,914 ERROR     File \"/opt/cdstoolbox/cdscompute/cdscompute/services.py\", line 60, in __call__\n",
      "2023-07-11 14:11:46,915 ERROR       return self.proc(context, *args, **kwargs)\n",
      "2023-07-11 14:11:46,916 ERROR     File \"/home/cds/cdsservices/services/esgf_wps/__init__.py\", line 30, in execute\n",
      "2023-07-11 14:11:46,916 ERROR       request_facets, request = facets.search(context, request)\n",
      "2023-07-11 14:11:46,917 ERROR     File \"/home/cds/cdsservices/services/esgf_wps/facets.py\", line 61, in search\n",
      "2023-07-11 14:11:46,918 ERROR       raise ValueError(f'No matching data for request {tmp_request}')\n",
      "2023-07-11 14:11:46,918 ERROR   ValueError: No matching data for request {'experiment': 'ssp119', 'model': 'ACCESS-CM2', 'temporal_resolution': 'day', 'variable': 'pr'}\n",
      "2023-07-11 14:11:46,967 INFO Welcome to the CDS\n",
      "2023-07-11 14:11:46,969 INFO Sending request to https://cds.climate.copernicus.eu/api/v2/resources/projections-cmip6\n",
      "2023-07-11 14:11:47,087 INFO Request is queued\n"
     ]
    },
    {
     "name": "stdout",
     "output_type": "stream",
     "text": [
      "Some parameters are not matching\n",
      "Test with model awi_cm_1_1_mr\n",
      "path_for_file does not exist: the data may not have been downloaded\n",
      "file_download does not exist: the data were not downloaded\n"
     ]
    },
    {
     "name": "stderr",
     "output_type": "stream",
     "text": [
      "2023-07-11 14:11:48,131 INFO Request is failed\n",
      "2023-07-11 14:11:48,132 ERROR Message: an internal error occurred processing your request\n",
      "2023-07-11 14:11:48,132 ERROR Reason:  No matching data for request {'experiment': 'ssp119', 'model': 'AWI-CM-1-1-MR', 'temporal_resolution': 'day', 'variable': 'pr'}\n",
      "2023-07-11 14:11:48,133 ERROR   Traceback (most recent call last):\n",
      "2023-07-11 14:11:48,134 ERROR     File \"/opt/cdstoolbox/cdscompute/cdscompute/cdshandlers/services/handler.py\", line 59, in handle_request\n",
      "2023-07-11 14:11:48,135 ERROR       result = cached(context.method, proc, context, context.args, context.kwargs)\n",
      "2023-07-11 14:11:48,136 ERROR     File \"/opt/cdstoolbox/cdscompute/cdscompute/caching.py\", line 108, in cached\n",
      "2023-07-11 14:11:48,137 ERROR       result = proc(context, *context.args, **context.kwargs)\n",
      "2023-07-11 14:11:48,138 ERROR     File \"/opt/cdstoolbox/cdscompute/cdscompute/services.py\", line 124, in __call__\n",
      "2023-07-11 14:11:48,138 ERROR       return p(*args, **kwargs)\n",
      "2023-07-11 14:11:48,139 ERROR     File \"/opt/cdstoolbox/cdscompute/cdscompute/services.py\", line 60, in __call__\n",
      "2023-07-11 14:11:48,140 ERROR       return self.proc(context, *args, **kwargs)\n",
      "2023-07-11 14:11:48,141 ERROR     File \"/home/cds/cdsservices/services/esgf_wps/__init__.py\", line 30, in execute\n",
      "2023-07-11 14:11:48,141 ERROR       request_facets, request = facets.search(context, request)\n",
      "2023-07-11 14:11:48,142 ERROR     File \"/home/cds/cdsservices/services/esgf_wps/facets.py\", line 61, in search\n",
      "2023-07-11 14:11:48,142 ERROR       raise ValueError(f'No matching data for request {tmp_request}')\n",
      "2023-07-11 14:11:48,143 ERROR   ValueError: No matching data for request {'experiment': 'ssp119', 'model': 'AWI-CM-1-1-MR', 'temporal_resolution': 'day', 'variable': 'pr'}\n"
     ]
    },
    {
     "name": "stdout",
     "output_type": "stream",
     "text": [
      "Some parameters are not matching\n",
      "Test with model bcc_csm2_mr\n",
      "path_for_file does not exist: the data may not have been downloaded\n"
     ]
    },
    {
     "name": "stderr",
     "output_type": "stream",
     "text": [
      "2023-07-11 14:11:48,374 INFO Welcome to the CDS\n",
      "2023-07-11 14:11:48,374 INFO Sending request to https://cds.climate.copernicus.eu/api/v2/resources/projections-cmip6\n",
      "2023-07-11 14:11:48,496 INFO Request is queued\n"
     ]
    },
    {
     "name": "stdout",
     "output_type": "stream",
     "text": [
      "file_download does not exist: the data were not downloaded\n"
     ]
    },
    {
     "name": "stderr",
     "output_type": "stream",
     "text": [
      "2023-07-11 14:11:49,542 INFO Request is failed\n",
      "2023-07-11 14:11:49,543 ERROR Message: an internal error occurred processing your request\n",
      "2023-07-11 14:11:49,544 ERROR Reason:  No matching data for request {'experiment': 'ssp119', 'model': 'BCC-CSM2-MR', 'temporal_resolution': 'day', 'variable': 'pr'}\n",
      "2023-07-11 14:11:49,545 ERROR   Traceback (most recent call last):\n",
      "2023-07-11 14:11:49,546 ERROR     File \"/opt/cdstoolbox/cdscompute/cdscompute/cdshandlers/services/handler.py\", line 59, in handle_request\n",
      "2023-07-11 14:11:49,546 ERROR       result = cached(context.method, proc, context, context.args, context.kwargs)\n",
      "2023-07-11 14:11:49,547 ERROR     File \"/opt/cdstoolbox/cdscompute/cdscompute/caching.py\", line 108, in cached\n",
      "2023-07-11 14:11:49,548 ERROR       result = proc(context, *context.args, **context.kwargs)\n",
      "2023-07-11 14:11:49,558 ERROR     File \"/opt/cdstoolbox/cdscompute/cdscompute/services.py\", line 124, in __call__\n",
      "2023-07-11 14:11:49,559 ERROR       return p(*args, **kwargs)\n",
      "2023-07-11 14:11:49,560 ERROR     File \"/opt/cdstoolbox/cdscompute/cdscompute/services.py\", line 60, in __call__\n",
      "2023-07-11 14:11:49,561 ERROR       return self.proc(context, *args, **kwargs)\n",
      "2023-07-11 14:11:49,562 ERROR     File \"/home/cds/cdsservices/services/esgf_wps/__init__.py\", line 30, in execute\n",
      "2023-07-11 14:11:49,565 ERROR       request_facets, request = facets.search(context, request)\n",
      "2023-07-11 14:11:49,566 ERROR     File \"/home/cds/cdsservices/services/esgf_wps/facets.py\", line 61, in search\n",
      "2023-07-11 14:11:49,567 ERROR       raise ValueError(f'No matching data for request {tmp_request}')\n",
      "2023-07-11 14:11:49,567 ERROR   ValueError: No matching data for request {'experiment': 'ssp119', 'model': 'BCC-CSM2-MR', 'temporal_resolution': 'day', 'variable': 'pr'}\n",
      "2023-07-11 14:11:49,645 INFO Welcome to the CDS\n",
      "2023-07-11 14:11:49,647 INFO Sending request to https://cds.climate.copernicus.eu/api/v2/resources/projections-cmip6\n",
      "2023-07-11 14:11:49,706 INFO Request is queued\n"
     ]
    },
    {
     "name": "stdout",
     "output_type": "stream",
     "text": [
      "Some parameters are not matching\n",
      "Test with model cams_csm1_0\n",
      "path_for_file does not exist: the data may not have been downloaded\n",
      "file_download does not exist: the data were not downloaded\n"
     ]
    },
    {
     "name": "stderr",
     "output_type": "stream",
     "text": [
      "2023-07-11 14:11:50,765 INFO Request is running\n",
      "2023-07-11 14:16:08,089 INFO Request is failed\n",
      "2023-07-11 14:16:08,090 ERROR Message: an internal error occurred processing your request\n",
      "2023-07-11 14:16:08,091 ERROR Reason:  Process error: 2100\n",
      "2023-07-11 14:16:08,091 ERROR   Traceback (most recent call last):\n",
      "2023-07-11 14:16:08,092 ERROR     File \"/usr/local/lib/python3.6/site-packages/rooki/results.py\", line 33, in url\n",
      "2023-07-11 14:16:08,093 ERROR       return self.response.get()[0]\n",
      "2023-07-11 14:16:08,094 ERROR     File \"/usr/local/lib/python3.6/site-packages/birdy/client/outputs.py\", line 40, in get\n",
      "2023-07-11 14:16:08,094 ERROR       raise ProcessFailed(\"Sorry, process failed.\")\n",
      "2023-07-11 14:16:08,094 ERROR   birdy.exceptions.ProcessFailed: Sorry, process failed.\n",
      "2023-07-11 14:16:08,133 INFO Welcome to the CDS\n",
      "2023-07-11 14:16:08,133 INFO Sending request to https://cds.climate.copernicus.eu/api/v2/resources/projections-cmip6\n",
      "2023-07-11 14:16:08,195 INFO Request is queued\n"
     ]
    },
    {
     "name": "stdout",
     "output_type": "stream",
     "text": [
      "Some parameters are not matching\n",
      "Test with model canesm5_canoe\n",
      "path_for_file does not exist: the data may not have been downloaded\n",
      "file_download does not exist: the data were not downloaded\n"
     ]
    },
    {
     "name": "stderr",
     "output_type": "stream",
     "text": [
      "2023-07-11 14:16:09,243 INFO Request is failed\n",
      "2023-07-11 14:16:09,244 ERROR Message: an internal error occurred processing your request\n",
      "2023-07-11 14:16:09,245 ERROR Reason:  No matching data for request {'experiment': 'ssp119', 'model': 'CanESM5-CanOE', 'temporal_resolution': 'day', 'variable': 'pr'}\n",
      "2023-07-11 14:16:09,246 ERROR   Traceback (most recent call last):\n",
      "2023-07-11 14:16:09,247 ERROR     File \"/opt/cdstoolbox/cdscompute/cdscompute/cdshandlers/services/handler.py\", line 59, in handle_request\n",
      "2023-07-11 14:16:09,248 ERROR       result = cached(context.method, proc, context, context.args, context.kwargs)\n",
      "2023-07-11 14:16:09,249 ERROR     File \"/opt/cdstoolbox/cdscompute/cdscompute/caching.py\", line 108, in cached\n",
      "2023-07-11 14:16:09,250 ERROR       result = proc(context, *context.args, **context.kwargs)\n",
      "2023-07-11 14:16:09,251 ERROR     File \"/opt/cdstoolbox/cdscompute/cdscompute/services.py\", line 124, in __call__\n",
      "2023-07-11 14:16:09,252 ERROR       return p(*args, **kwargs)\n",
      "2023-07-11 14:16:09,253 ERROR     File \"/opt/cdstoolbox/cdscompute/cdscompute/services.py\", line 60, in __call__\n",
      "2023-07-11 14:16:09,253 ERROR       return self.proc(context, *args, **kwargs)\n",
      "2023-07-11 14:16:09,255 ERROR     File \"/home/cds/cdsservices/services/esgf_wps/__init__.py\", line 30, in execute\n",
      "2023-07-11 14:16:09,255 ERROR       request_facets, request = facets.search(context, request)\n",
      "2023-07-11 14:16:09,256 ERROR     File \"/home/cds/cdsservices/services/esgf_wps/facets.py\", line 61, in search\n",
      "2023-07-11 14:16:09,256 ERROR       raise ValueError(f'No matching data for request {tmp_request}')\n",
      "2023-07-11 14:16:09,257 ERROR   ValueError: No matching data for request {'experiment': 'ssp119', 'model': 'CanESM5-CanOE', 'temporal_resolution': 'day', 'variable': 'pr'}\n",
      "2023-07-11 14:16:09,295 INFO Welcome to the CDS\n",
      "2023-07-11 14:16:09,296 INFO Sending request to https://cds.climate.copernicus.eu/api/v2/resources/projections-cmip6\n",
      "2023-07-11 14:16:09,376 INFO Request is queued\n"
     ]
    },
    {
     "name": "stdout",
     "output_type": "stream",
     "text": [
      "Some parameters are not matching\n",
      "Test with model cesm2_fv2\n",
      "path_for_file does not exist: the data may not have been downloaded\n",
      "file_download does not exist: the data were not downloaded\n"
     ]
    },
    {
     "name": "stderr",
     "output_type": "stream",
     "text": [
      "2023-07-11 14:16:10,425 INFO Request is failed\n",
      "2023-07-11 14:16:10,426 ERROR Message: an internal error occurred processing your request\n",
      "2023-07-11 14:16:10,426 ERROR Reason:  No matching data for request {'experiment': 'ssp119', 'model': 'CESM2-FV2', 'temporal_resolution': 'day', 'variable': 'pr'}\n",
      "2023-07-11 14:16:10,427 ERROR   Traceback (most recent call last):\n",
      "2023-07-11 14:16:10,427 ERROR     File \"/opt/cdstoolbox/cdscompute/cdscompute/cdshandlers/services/handler.py\", line 59, in handle_request\n",
      "2023-07-11 14:16:10,429 ERROR       result = cached(context.method, proc, context, context.args, context.kwargs)\n",
      "2023-07-11 14:16:10,429 ERROR     File \"/opt/cdstoolbox/cdscompute/cdscompute/caching.py\", line 108, in cached\n",
      "2023-07-11 14:16:10,430 ERROR       result = proc(context, *context.args, **context.kwargs)\n",
      "2023-07-11 14:16:10,431 ERROR     File \"/opt/cdstoolbox/cdscompute/cdscompute/services.py\", line 124, in __call__\n",
      "2023-07-11 14:16:10,432 ERROR       return p(*args, **kwargs)\n",
      "2023-07-11 14:16:10,433 ERROR     File \"/opt/cdstoolbox/cdscompute/cdscompute/services.py\", line 60, in __call__\n",
      "2023-07-11 14:16:10,433 ERROR       return self.proc(context, *args, **kwargs)\n",
      "2023-07-11 14:16:10,434 ERROR     File \"/home/cds/cdsservices/services/esgf_wps/__init__.py\", line 30, in execute\n",
      "2023-07-11 14:16:10,435 ERROR       request_facets, request = facets.search(context, request)\n",
      "2023-07-11 14:16:10,435 ERROR     File \"/home/cds/cdsservices/services/esgf_wps/facets.py\", line 61, in search\n",
      "2023-07-11 14:16:10,436 ERROR       raise ValueError(f'No matching data for request {tmp_request}')\n",
      "2023-07-11 14:16:10,437 ERROR   ValueError: No matching data for request {'experiment': 'ssp119', 'model': 'CESM2-FV2', 'temporal_resolution': 'day', 'variable': 'pr'}\n",
      "2023-07-11 14:16:10,472 INFO Welcome to the CDS\n",
      "2023-07-11 14:16:10,472 INFO Sending request to https://cds.climate.copernicus.eu/api/v2/resources/projections-cmip6\n",
      "2023-07-11 14:16:10,551 INFO Request is queued\n"
     ]
    },
    {
     "name": "stdout",
     "output_type": "stream",
     "text": [
      "Some parameters are not matching\n",
      "Test with model cesm2_waccm_fv2\n",
      "path_for_file does not exist: the data may not have been downloaded\n",
      "file_download does not exist: the data were not downloaded\n"
     ]
    },
    {
     "name": "stderr",
     "output_type": "stream",
     "text": [
      "2023-07-11 14:16:11,589 INFO Request is failed\n",
      "2023-07-11 14:16:11,590 ERROR Message: an internal error occurred processing your request\n",
      "2023-07-11 14:16:11,590 ERROR Reason:  No matching data for request {'experiment': 'ssp119', 'model': 'CESM2-WACCM-FV2', 'temporal_resolution': 'day', 'variable': 'pr'}\n",
      "2023-07-11 14:16:11,591 ERROR   Traceback (most recent call last):\n",
      "2023-07-11 14:16:11,592 ERROR     File \"/opt/cdstoolbox/cdscompute/cdscompute/cdshandlers/services/handler.py\", line 59, in handle_request\n",
      "2023-07-11 14:16:11,592 ERROR       result = cached(context.method, proc, context, context.args, context.kwargs)\n",
      "2023-07-11 14:16:11,593 ERROR     File \"/opt/cdstoolbox/cdscompute/cdscompute/caching.py\", line 108, in cached\n",
      "2023-07-11 14:16:11,594 ERROR       result = proc(context, *context.args, **context.kwargs)\n",
      "2023-07-11 14:16:11,595 ERROR     File \"/opt/cdstoolbox/cdscompute/cdscompute/services.py\", line 124, in __call__\n",
      "2023-07-11 14:16:11,595 ERROR       return p(*args, **kwargs)\n",
      "2023-07-11 14:16:11,596 ERROR     File \"/opt/cdstoolbox/cdscompute/cdscompute/services.py\", line 60, in __call__\n",
      "2023-07-11 14:16:11,596 ERROR       return self.proc(context, *args, **kwargs)\n",
      "2023-07-11 14:16:11,597 ERROR     File \"/home/cds/cdsservices/services/esgf_wps/__init__.py\", line 30, in execute\n",
      "2023-07-11 14:16:11,597 ERROR       request_facets, request = facets.search(context, request)\n",
      "2023-07-11 14:16:11,598 ERROR     File \"/home/cds/cdsservices/services/esgf_wps/facets.py\", line 61, in search\n",
      "2023-07-11 14:16:11,598 ERROR       raise ValueError(f'No matching data for request {tmp_request}')\n",
      "2023-07-11 14:16:11,599 ERROR   ValueError: No matching data for request {'experiment': 'ssp119', 'model': 'CESM2-WACCM-FV2', 'temporal_resolution': 'day', 'variable': 'pr'}\n",
      "2023-07-11 14:16:11,803 INFO Welcome to the CDS\n"
     ]
    },
    {
     "name": "stdout",
     "output_type": "stream",
     "text": [
      "Some parameters are not matching\n",
      "Test with model cmcc_cm2_hr4\n",
      "path_for_file does not exist: the data may not have been downloaded\n",
      "file_download does not exist: the data were not downloaded\n"
     ]
    },
    {
     "name": "stderr",
     "output_type": "stream",
     "text": [
      "2023-07-11 14:16:11,804 INFO Sending request to https://cds.climate.copernicus.eu/api/v2/resources/projections-cmip6\n",
      "2023-07-11 14:16:11,906 INFO Request is queued\n",
      "2023-07-11 14:16:12,990 INFO Request is failed\n",
      "2023-07-11 14:16:12,991 ERROR Message: an internal error occurred processing your request\n",
      "2023-07-11 14:16:12,992 ERROR Reason:  No matching data for request {'experiment': 'ssp119', 'model': 'CMCC-CM2-HR4', 'temporal_resolution': 'day', 'variable': 'pr'}\n",
      "2023-07-11 14:16:12,993 ERROR   Traceback (most recent call last):\n",
      "2023-07-11 14:16:12,994 ERROR     File \"/opt/cdstoolbox/cdscompute/cdscompute/cdshandlers/services/handler.py\", line 59, in handle_request\n",
      "2023-07-11 14:16:12,995 ERROR       result = cached(context.method, proc, context, context.args, context.kwargs)\n",
      "2023-07-11 14:16:12,995 ERROR     File \"/opt/cdstoolbox/cdscompute/cdscompute/caching.py\", line 108, in cached\n",
      "2023-07-11 14:16:12,996 ERROR       result = proc(context, *context.args, **context.kwargs)\n",
      "2023-07-11 14:16:12,997 ERROR     File \"/opt/cdstoolbox/cdscompute/cdscompute/services.py\", line 124, in __call__\n",
      "2023-07-11 14:16:12,999 ERROR       return p(*args, **kwargs)\n",
      "2023-07-11 14:16:13,001 ERROR     File \"/opt/cdstoolbox/cdscompute/cdscompute/services.py\", line 60, in __call__\n",
      "2023-07-11 14:16:13,002 ERROR       return self.proc(context, *args, **kwargs)\n",
      "2023-07-11 14:16:13,003 ERROR     File \"/home/cds/cdsservices/services/esgf_wps/__init__.py\", line 30, in execute\n",
      "2023-07-11 14:16:13,003 ERROR       request_facets, request = facets.search(context, request)\n",
      "2023-07-11 14:16:13,004 ERROR     File \"/home/cds/cdsservices/services/esgf_wps/facets.py\", line 61, in search\n",
      "2023-07-11 14:16:13,005 ERROR       raise ValueError(f'No matching data for request {tmp_request}')\n",
      "2023-07-11 14:16:13,006 ERROR   ValueError: No matching data for request {'experiment': 'ssp119', 'model': 'CMCC-CM2-HR4', 'temporal_resolution': 'day', 'variable': 'pr'}\n",
      "2023-07-11 14:16:13,051 INFO Welcome to the CDS\n",
      "2023-07-11 14:16:13,051 INFO Sending request to https://cds.climate.copernicus.eu/api/v2/resources/projections-cmip6\n",
      "2023-07-11 14:16:13,138 INFO Request is queued\n"
     ]
    },
    {
     "name": "stdout",
     "output_type": "stream",
     "text": [
      "Some parameters are not matching\n",
      "Test with model cmcc_esm2\n",
      "path_for_file does not exist: the data may not have been downloaded\n",
      "file_download does not exist: the data were not downloaded\n"
     ]
    },
    {
     "name": "stderr",
     "output_type": "stream",
     "text": [
      "2023-07-11 14:16:14,177 INFO Request is failed\n",
      "2023-07-11 14:16:14,178 ERROR Message: an internal error occurred processing your request\n",
      "2023-07-11 14:16:14,178 ERROR Reason:  No matching data for request {'experiment': 'ssp119', 'model': 'CMCC-ESM2', 'temporal_resolution': 'day', 'variable': 'pr'}\n",
      "2023-07-11 14:16:14,180 ERROR   Traceback (most recent call last):\n",
      "2023-07-11 14:16:14,181 ERROR     File \"/opt/cdstoolbox/cdscompute/cdscompute/cdshandlers/services/handler.py\", line 59, in handle_request\n",
      "2023-07-11 14:16:14,181 ERROR       result = cached(context.method, proc, context, context.args, context.kwargs)\n",
      "2023-07-11 14:16:14,182 ERROR     File \"/opt/cdstoolbox/cdscompute/cdscompute/caching.py\", line 108, in cached\n",
      "2023-07-11 14:16:14,183 ERROR       result = proc(context, *context.args, **context.kwargs)\n",
      "2023-07-11 14:16:14,185 ERROR     File \"/opt/cdstoolbox/cdscompute/cdscompute/services.py\", line 124, in __call__\n",
      "2023-07-11 14:16:14,186 ERROR       return p(*args, **kwargs)\n",
      "2023-07-11 14:16:14,186 ERROR     File \"/opt/cdstoolbox/cdscompute/cdscompute/services.py\", line 60, in __call__\n",
      "2023-07-11 14:16:14,187 ERROR       return self.proc(context, *args, **kwargs)\n",
      "2023-07-11 14:16:14,187 ERROR     File \"/home/cds/cdsservices/services/esgf_wps/__init__.py\", line 30, in execute\n",
      "2023-07-11 14:16:14,188 ERROR       request_facets, request = facets.search(context, request)\n",
      "2023-07-11 14:16:14,188 ERROR     File \"/home/cds/cdsservices/services/esgf_wps/facets.py\", line 61, in search\n",
      "2023-07-11 14:16:14,189 ERROR       raise ValueError(f'No matching data for request {tmp_request}')\n",
      "2023-07-11 14:16:14,190 ERROR   ValueError: No matching data for request {'experiment': 'ssp119', 'model': 'CMCC-ESM2', 'temporal_resolution': 'day', 'variable': 'pr'}\n",
      "2023-07-11 14:16:14,225 INFO Welcome to the CDS\n",
      "2023-07-11 14:16:14,226 INFO Sending request to https://cds.climate.copernicus.eu/api/v2/resources/projections-cmip6\n",
      "2023-07-11 14:16:14,364 INFO Request is queued\n"
     ]
    },
    {
     "name": "stdout",
     "output_type": "stream",
     "text": [
      "Some parameters are not matching\n",
      "Test with model cnrm_cm6_1_hr\n",
      "path_for_file does not exist: the data may not have been downloaded\n",
      "file_download does not exist: the data were not downloaded\n"
     ]
    },
    {
     "name": "stderr",
     "output_type": "stream",
     "text": [
      "2023-07-11 14:16:15,412 INFO Request is failed\n",
      "2023-07-11 14:16:15,413 ERROR Message: an internal error occurred processing your request\n",
      "2023-07-11 14:16:15,414 ERROR Reason:  No matching data for request {'experiment': 'ssp119', 'model': 'CNRM-CM6-1-HR', 'temporal_resolution': 'day', 'variable': 'pr'}\n",
      "2023-07-11 14:16:15,415 ERROR   Traceback (most recent call last):\n",
      "2023-07-11 14:16:15,416 ERROR     File \"/opt/cdstoolbox/cdscompute/cdscompute/cdshandlers/services/handler.py\", line 59, in handle_request\n",
      "2023-07-11 14:16:15,416 ERROR       result = cached(context.method, proc, context, context.args, context.kwargs)\n",
      "2023-07-11 14:16:15,417 ERROR     File \"/opt/cdstoolbox/cdscompute/cdscompute/caching.py\", line 108, in cached\n",
      "2023-07-11 14:16:15,417 ERROR       result = proc(context, *context.args, **context.kwargs)\n",
      "2023-07-11 14:16:15,418 ERROR     File \"/opt/cdstoolbox/cdscompute/cdscompute/services.py\", line 124, in __call__\n",
      "2023-07-11 14:16:15,418 ERROR       return p(*args, **kwargs)\n",
      "2023-07-11 14:16:15,420 ERROR     File \"/opt/cdstoolbox/cdscompute/cdscompute/services.py\", line 60, in __call__\n",
      "2023-07-11 14:16:15,421 ERROR       return self.proc(context, *args, **kwargs)\n",
      "2023-07-11 14:16:15,422 ERROR     File \"/home/cds/cdsservices/services/esgf_wps/__init__.py\", line 30, in execute\n",
      "2023-07-11 14:16:15,422 ERROR       request_facets, request = facets.search(context, request)\n",
      "2023-07-11 14:16:15,423 ERROR     File \"/home/cds/cdsservices/services/esgf_wps/facets.py\", line 61, in search\n",
      "2023-07-11 14:16:15,423 ERROR       raise ValueError(f'No matching data for request {tmp_request}')\n",
      "2023-07-11 14:16:15,424 ERROR   ValueError: No matching data for request {'experiment': 'ssp119', 'model': 'CNRM-CM6-1-HR', 'temporal_resolution': 'day', 'variable': 'pr'}\n",
      "2023-07-11 14:16:15,458 INFO Welcome to the CDS\n",
      "2023-07-11 14:16:15,459 INFO Sending request to https://cds.climate.copernicus.eu/api/v2/resources/projections-cmip6\n",
      "2023-07-11 14:16:15,521 INFO Request is queued\n"
     ]
    },
    {
     "name": "stdout",
     "output_type": "stream",
     "text": [
      "Some parameters are not matching\n",
      "Test with model e3sm_1_0\n",
      "path_for_file does not exist: the data may not have been downloaded\n",
      "file_download does not exist: the data were not downloaded\n"
     ]
    },
    {
     "name": "stderr",
     "output_type": "stream",
     "text": [
      "2023-07-11 14:16:16,565 INFO Request is failed\n",
      "2023-07-11 14:16:16,566 ERROR Message: an internal error occurred processing your request\n",
      "2023-07-11 14:16:16,567 ERROR Reason:  No matching data for request {'experiment': 'ssp119', 'model': 'E3SM-1-0', 'temporal_resolution': 'day', 'variable': 'pr'}\n",
      "2023-07-11 14:16:16,567 ERROR   Traceback (most recent call last):\n",
      "2023-07-11 14:16:16,568 ERROR     File \"/opt/cdstoolbox/cdscompute/cdscompute/cdshandlers/services/handler.py\", line 59, in handle_request\n",
      "2023-07-11 14:16:16,569 ERROR       result = cached(context.method, proc, context, context.args, context.kwargs)\n",
      "2023-07-11 14:16:16,570 ERROR     File \"/opt/cdstoolbox/cdscompute/cdscompute/caching.py\", line 108, in cached\n",
      "2023-07-11 14:16:16,571 ERROR       result = proc(context, *context.args, **context.kwargs)\n",
      "2023-07-11 14:16:16,571 ERROR     File \"/opt/cdstoolbox/cdscompute/cdscompute/services.py\", line 124, in __call__\n",
      "2023-07-11 14:16:16,572 ERROR       return p(*args, **kwargs)\n",
      "2023-07-11 14:16:16,573 ERROR     File \"/opt/cdstoolbox/cdscompute/cdscompute/services.py\", line 60, in __call__\n",
      "2023-07-11 14:16:16,574 ERROR       return self.proc(context, *args, **kwargs)\n",
      "2023-07-11 14:16:16,574 ERROR     File \"/home/cds/cdsservices/services/esgf_wps/__init__.py\", line 30, in execute\n",
      "2023-07-11 14:16:16,575 ERROR       request_facets, request = facets.search(context, request)\n",
      "2023-07-11 14:16:16,576 ERROR     File \"/home/cds/cdsservices/services/esgf_wps/facets.py\", line 61, in search\n",
      "2023-07-11 14:16:16,577 ERROR       raise ValueError(f'No matching data for request {tmp_request}')\n",
      "2023-07-11 14:16:16,577 ERROR   ValueError: No matching data for request {'experiment': 'ssp119', 'model': 'E3SM-1-0', 'temporal_resolution': 'day', 'variable': 'pr'}\n",
      "2023-07-11 14:16:16,674 INFO Welcome to the CDS\n",
      "2023-07-11 14:16:16,675 INFO Sending request to https://cds.climate.copernicus.eu/api/v2/resources/projections-cmip6\n",
      "2023-07-11 14:16:16,752 INFO Request is queued\n"
     ]
    },
    {
     "name": "stdout",
     "output_type": "stream",
     "text": [
      "Some parameters are not matching\n",
      "Test with model e3sm_1_1_eca\n",
      "path_for_file does not exist: the data may not have been downloaded\n",
      "file_download does not exist: the data were not downloaded\n"
     ]
    },
    {
     "name": "stderr",
     "output_type": "stream",
     "text": [
      "2023-07-11 14:16:17,816 INFO Request is failed\n",
      "2023-07-11 14:16:17,817 ERROR Message: an internal error occurred processing your request\n",
      "2023-07-11 14:16:17,819 ERROR Reason:  No matching data for request {'experiment': 'ssp119', 'model': 'E3SM-1-1-ECA', 'temporal_resolution': 'day', 'variable': 'pr'}\n",
      "2023-07-11 14:16:17,820 ERROR   Traceback (most recent call last):\n",
      "2023-07-11 14:16:17,821 ERROR     File \"/opt/cdstoolbox/cdscompute/cdscompute/cdshandlers/services/handler.py\", line 59, in handle_request\n",
      "2023-07-11 14:16:17,822 ERROR       result = cached(context.method, proc, context, context.args, context.kwargs)\n",
      "2023-07-11 14:16:17,822 ERROR     File \"/opt/cdstoolbox/cdscompute/cdscompute/caching.py\", line 108, in cached\n",
      "2023-07-11 14:16:17,823 ERROR       result = proc(context, *context.args, **context.kwargs)\n",
      "2023-07-11 14:16:17,823 ERROR     File \"/opt/cdstoolbox/cdscompute/cdscompute/services.py\", line 124, in __call__\n",
      "2023-07-11 14:16:17,824 ERROR       return p(*args, **kwargs)\n",
      "2023-07-11 14:16:17,826 ERROR     File \"/opt/cdstoolbox/cdscompute/cdscompute/services.py\", line 60, in __call__\n",
      "2023-07-11 14:16:17,826 ERROR       return self.proc(context, *args, **kwargs)\n",
      "2023-07-11 14:16:17,828 ERROR     File \"/home/cds/cdsservices/services/esgf_wps/__init__.py\", line 30, in execute\n",
      "2023-07-11 14:16:17,829 ERROR       request_facets, request = facets.search(context, request)\n",
      "2023-07-11 14:16:17,830 ERROR     File \"/home/cds/cdsservices/services/esgf_wps/facets.py\", line 61, in search\n",
      "2023-07-11 14:16:17,831 ERROR       raise ValueError(f'No matching data for request {tmp_request}')\n",
      "2023-07-11 14:16:17,832 ERROR   ValueError: No matching data for request {'experiment': 'ssp119', 'model': 'E3SM-1-1-ECA', 'temporal_resolution': 'day', 'variable': 'pr'}\n",
      "2023-07-11 14:16:17,903 INFO Welcome to the CDS\n",
      "2023-07-11 14:16:17,904 INFO Sending request to https://cds.climate.copernicus.eu/api/v2/resources/projections-cmip6\n",
      "2023-07-11 14:16:17,972 INFO Request is queued\n"
     ]
    },
    {
     "name": "stdout",
     "output_type": "stream",
     "text": [
      "Some parameters are not matching\n",
      "Test with model ec_earth3_aerchem\n",
      "path_for_file does not exist: the data may not have been downloaded\n",
      "file_download does not exist: the data were not downloaded\n"
     ]
    },
    {
     "name": "stderr",
     "output_type": "stream",
     "text": [
      "2023-07-11 14:16:19,011 INFO Request is failed\n",
      "2023-07-11 14:16:19,013 ERROR Message: an internal error occurred processing your request\n",
      "2023-07-11 14:16:19,014 ERROR Reason:  No matching data for request {'experiment': 'ssp119', 'model': 'EC-Earth3-AerChem', 'temporal_resolution': 'day', 'variable': 'pr'}\n",
      "2023-07-11 14:16:19,014 ERROR   Traceback (most recent call last):\n",
      "2023-07-11 14:16:19,015 ERROR     File \"/opt/cdstoolbox/cdscompute/cdscompute/cdshandlers/services/handler.py\", line 59, in handle_request\n",
      "2023-07-11 14:16:19,015 ERROR       result = cached(context.method, proc, context, context.args, context.kwargs)\n",
      "2023-07-11 14:16:19,016 ERROR     File \"/opt/cdstoolbox/cdscompute/cdscompute/caching.py\", line 108, in cached\n",
      "2023-07-11 14:16:19,016 ERROR       result = proc(context, *context.args, **context.kwargs)\n",
      "2023-07-11 14:16:19,017 ERROR     File \"/opt/cdstoolbox/cdscompute/cdscompute/services.py\", line 124, in __call__\n",
      "2023-07-11 14:16:19,017 ERROR       return p(*args, **kwargs)\n",
      "2023-07-11 14:16:19,018 ERROR     File \"/opt/cdstoolbox/cdscompute/cdscompute/services.py\", line 60, in __call__\n",
      "2023-07-11 14:16:19,019 ERROR       return self.proc(context, *args, **kwargs)\n",
      "2023-07-11 14:16:19,020 ERROR     File \"/home/cds/cdsservices/services/esgf_wps/__init__.py\", line 30, in execute\n",
      "2023-07-11 14:16:19,021 ERROR       request_facets, request = facets.search(context, request)\n",
      "2023-07-11 14:16:19,021 ERROR     File \"/home/cds/cdsservices/services/esgf_wps/facets.py\", line 61, in search\n",
      "2023-07-11 14:16:19,022 ERROR       raise ValueError(f'No matching data for request {tmp_request}')\n",
      "2023-07-11 14:16:19,022 ERROR   ValueError: No matching data for request {'experiment': 'ssp119', 'model': 'EC-Earth3-AerChem', 'temporal_resolution': 'day', 'variable': 'pr'}\n",
      "2023-07-11 14:16:19,058 INFO Welcome to the CDS\n",
      "2023-07-11 14:16:19,059 INFO Sending request to https://cds.climate.copernicus.eu/api/v2/resources/projections-cmip6\n",
      "2023-07-11 14:16:19,140 INFO Request is queued\n"
     ]
    },
    {
     "name": "stdout",
     "output_type": "stream",
     "text": [
      "Some parameters are not matching\n",
      "Test with model ec_earth3_veg\n",
      "path_for_file does not exist: the data may not have been downloaded\n",
      "file_download does not exist: the data were not downloaded\n"
     ]
    },
    {
     "name": "stderr",
     "output_type": "stream",
     "text": [
      "2023-07-11 14:16:20,185 INFO Request is failed\n",
      "2023-07-11 14:16:20,186 ERROR Message: an internal error occurred processing your request\n",
      "2023-07-11 14:16:20,187 ERROR Reason:  No matching data for request {'experiment': 'ssp119', 'model': 'EC-Earth3-Veg', 'temporal_resolution': 'day', 'variable': 'pr'}\n",
      "2023-07-11 14:16:20,188 ERROR   Traceback (most recent call last):\n",
      "2023-07-11 14:16:20,188 ERROR     File \"/opt/cdstoolbox/cdscompute/cdscompute/cdshandlers/services/handler.py\", line 59, in handle_request\n",
      "2023-07-11 14:16:20,189 ERROR       result = cached(context.method, proc, context, context.args, context.kwargs)\n",
      "2023-07-11 14:16:20,190 ERROR     File \"/opt/cdstoolbox/cdscompute/cdscompute/caching.py\", line 108, in cached\n",
      "2023-07-11 14:16:20,191 ERROR       result = proc(context, *context.args, **context.kwargs)\n",
      "2023-07-11 14:16:20,191 ERROR     File \"/opt/cdstoolbox/cdscompute/cdscompute/services.py\", line 124, in __call__\n",
      "2023-07-11 14:16:20,192 ERROR       return p(*args, **kwargs)\n",
      "2023-07-11 14:16:20,193 ERROR     File \"/opt/cdstoolbox/cdscompute/cdscompute/services.py\", line 60, in __call__\n",
      "2023-07-11 14:16:20,194 ERROR       return self.proc(context, *args, **kwargs)\n",
      "2023-07-11 14:16:20,195 ERROR     File \"/home/cds/cdsservices/services/esgf_wps/__init__.py\", line 30, in execute\n",
      "2023-07-11 14:16:20,195 ERROR       request_facets, request = facets.search(context, request)\n",
      "2023-07-11 14:16:20,196 ERROR     File \"/home/cds/cdsservices/services/esgf_wps/facets.py\", line 61, in search\n",
      "2023-07-11 14:16:20,197 ERROR       raise ValueError(f'No matching data for request {tmp_request}')\n",
      "2023-07-11 14:16:20,198 ERROR   ValueError: No matching data for request {'experiment': 'ssp119', 'model': 'EC-Earth3-Veg', 'temporal_resolution': 'day', 'variable': 'pr'}\n",
      "2023-07-11 14:16:20,240 INFO Welcome to the CDS\n",
      "2023-07-11 14:16:20,241 INFO Sending request to https://cds.climate.copernicus.eu/api/v2/resources/projections-cmip6\n",
      "2023-07-11 14:16:20,350 INFO Request is queued\n"
     ]
    },
    {
     "name": "stdout",
     "output_type": "stream",
     "text": [
      "Some parameters are not matching\n",
      "Test with model fgoals_f3_l\n",
      "path_for_file does not exist: the data may not have been downloaded\n",
      "file_download does not exist: the data were not downloaded\n"
     ]
    },
    {
     "name": "stderr",
     "output_type": "stream",
     "text": [
      "2023-07-11 14:16:21,398 INFO Request is failed\n",
      "2023-07-11 14:16:21,399 ERROR Message: an internal error occurred processing your request\n",
      "2023-07-11 14:16:21,400 ERROR Reason:  No matching data for request {'experiment': 'ssp119', 'model': 'FGOALS-f3-L', 'temporal_resolution': 'day', 'variable': 'pr'}\n",
      "2023-07-11 14:16:21,400 ERROR   Traceback (most recent call last):\n",
      "2023-07-11 14:16:21,401 ERROR     File \"/opt/cdstoolbox/cdscompute/cdscompute/cdshandlers/services/handler.py\", line 59, in handle_request\n",
      "2023-07-11 14:16:21,402 ERROR       result = cached(context.method, proc, context, context.args, context.kwargs)\n",
      "2023-07-11 14:16:21,402 ERROR     File \"/opt/cdstoolbox/cdscompute/cdscompute/caching.py\", line 108, in cached\n",
      "2023-07-11 14:16:21,403 ERROR       result = proc(context, *context.args, **context.kwargs)\n",
      "2023-07-11 14:16:21,403 ERROR     File \"/opt/cdstoolbox/cdscompute/cdscompute/services.py\", line 124, in __call__\n",
      "2023-07-11 14:16:21,403 ERROR       return p(*args, **kwargs)\n",
      "2023-07-11 14:16:21,404 ERROR     File \"/opt/cdstoolbox/cdscompute/cdscompute/services.py\", line 60, in __call__\n",
      "2023-07-11 14:16:21,404 ERROR       return self.proc(context, *args, **kwargs)\n",
      "2023-07-11 14:16:21,405 ERROR     File \"/home/cds/cdsservices/services/esgf_wps/__init__.py\", line 30, in execute\n",
      "2023-07-11 14:16:21,405 ERROR       request_facets, request = facets.search(context, request)\n",
      "2023-07-11 14:16:21,405 ERROR     File \"/home/cds/cdsservices/services/esgf_wps/facets.py\", line 61, in search\n",
      "2023-07-11 14:16:21,406 ERROR       raise ValueError(f'No matching data for request {tmp_request}')\n",
      "2023-07-11 14:16:21,406 ERROR   ValueError: No matching data for request {'experiment': 'ssp119', 'model': 'FGOALS-f3-L', 'temporal_resolution': 'day', 'variable': 'pr'}\n",
      "2023-07-11 14:16:21,442 INFO Welcome to the CDS\n",
      "2023-07-11 14:16:21,443 INFO Sending request to https://cds.climate.copernicus.eu/api/v2/resources/projections-cmip6\n",
      "2023-07-11 14:16:21,538 INFO Request is queued\n"
     ]
    },
    {
     "name": "stdout",
     "output_type": "stream",
     "text": [
      "Some parameters are not matching\n",
      "Test with model fio_esm_2_0\n",
      "path_for_file does not exist: the data may not have been downloaded\n",
      "file_download does not exist: the data were not downloaded\n"
     ]
    },
    {
     "name": "stderr",
     "output_type": "stream",
     "text": [
      "2023-07-11 14:16:22,585 INFO Request is failed\n",
      "2023-07-11 14:16:22,585 ERROR Message: an internal error occurred processing your request\n",
      "2023-07-11 14:16:22,586 ERROR Reason:  No matching data for request {'experiment': 'ssp119', 'model': 'FIO-ESM-2-0', 'temporal_resolution': 'day', 'variable': 'pr'}\n",
      "2023-07-11 14:16:22,587 ERROR   Traceback (most recent call last):\n",
      "2023-07-11 14:16:22,587 ERROR     File \"/opt/cdstoolbox/cdscompute/cdscompute/cdshandlers/services/handler.py\", line 59, in handle_request\n",
      "2023-07-11 14:16:22,588 ERROR       result = cached(context.method, proc, context, context.args, context.kwargs)\n",
      "2023-07-11 14:16:22,588 ERROR     File \"/opt/cdstoolbox/cdscompute/cdscompute/caching.py\", line 108, in cached\n",
      "2023-07-11 14:16:22,589 ERROR       result = proc(context, *context.args, **context.kwargs)\n",
      "2023-07-11 14:16:22,589 ERROR     File \"/opt/cdstoolbox/cdscompute/cdscompute/services.py\", line 124, in __call__\n",
      "2023-07-11 14:16:22,590 ERROR       return p(*args, **kwargs)\n",
      "2023-07-11 14:16:22,591 ERROR     File \"/opt/cdstoolbox/cdscompute/cdscompute/services.py\", line 60, in __call__\n",
      "2023-07-11 14:16:22,591 ERROR       return self.proc(context, *args, **kwargs)\n",
      "2023-07-11 14:16:22,592 ERROR     File \"/home/cds/cdsservices/services/esgf_wps/__init__.py\", line 30, in execute\n",
      "2023-07-11 14:16:22,592 ERROR       request_facets, request = facets.search(context, request)\n",
      "2023-07-11 14:16:22,593 ERROR     File \"/home/cds/cdsservices/services/esgf_wps/facets.py\", line 61, in search\n",
      "2023-07-11 14:16:22,593 ERROR       raise ValueError(f'No matching data for request {tmp_request}')\n",
      "2023-07-11 14:16:22,594 ERROR   ValueError: No matching data for request {'experiment': 'ssp119', 'model': 'FIO-ESM-2-0', 'temporal_resolution': 'day', 'variable': 'pr'}\n",
      "2023-07-11 14:16:22,654 INFO Welcome to the CDS\n",
      "2023-07-11 14:16:22,655 INFO Sending request to https://cds.climate.copernicus.eu/api/v2/resources/projections-cmip6\n",
      "2023-07-11 14:16:22,695 INFO Request is queued\n"
     ]
    },
    {
     "name": "stdout",
     "output_type": "stream",
     "text": [
      "Some parameters are not matching\n",
      "Test with model giss_e2_1_g\n",
      "path_for_file does not exist: the data may not have been downloaded\n",
      "file_download does not exist: the data were not downloaded\n"
     ]
    },
    {
     "name": "stderr",
     "output_type": "stream",
     "text": [
      "2023-07-11 14:16:23,735 INFO Request is failed\n",
      "2023-07-11 14:16:23,736 ERROR Message: an internal error occurred processing your request\n",
      "2023-07-11 14:16:23,738 ERROR Reason:  No matching data for request {'experiment': 'ssp119', 'model': 'GISS-E2-1-G', 'temporal_resolution': 'day', 'variable': 'pr'}\n",
      "2023-07-11 14:16:23,738 ERROR   Traceback (most recent call last):\n",
      "2023-07-11 14:16:23,739 ERROR     File \"/opt/cdstoolbox/cdscompute/cdscompute/cdshandlers/services/handler.py\", line 59, in handle_request\n",
      "2023-07-11 14:16:23,740 ERROR       result = cached(context.method, proc, context, context.args, context.kwargs)\n",
      "2023-07-11 14:16:23,741 ERROR     File \"/opt/cdstoolbox/cdscompute/cdscompute/caching.py\", line 108, in cached\n",
      "2023-07-11 14:16:23,742 ERROR       result = proc(context, *context.args, **context.kwargs)\n",
      "2023-07-11 14:16:23,742 ERROR     File \"/opt/cdstoolbox/cdscompute/cdscompute/services.py\", line 124, in __call__\n",
      "2023-07-11 14:16:23,743 ERROR       return p(*args, **kwargs)\n",
      "2023-07-11 14:16:23,743 ERROR     File \"/opt/cdstoolbox/cdscompute/cdscompute/services.py\", line 60, in __call__\n",
      "2023-07-11 14:16:23,745 ERROR       return self.proc(context, *args, **kwargs)\n",
      "2023-07-11 14:16:23,745 ERROR     File \"/home/cds/cdsservices/services/esgf_wps/__init__.py\", line 30, in execute\n",
      "2023-07-11 14:16:23,746 ERROR       request_facets, request = facets.search(context, request)\n",
      "2023-07-11 14:16:23,747 ERROR     File \"/home/cds/cdsservices/services/esgf_wps/facets.py\", line 61, in search\n",
      "2023-07-11 14:16:23,748 ERROR       raise ValueError(f'No matching data for request {tmp_request}')\n",
      "2023-07-11 14:16:23,748 ERROR   ValueError: No matching data for request {'experiment': 'ssp119', 'model': 'GISS-E2-1-G', 'temporal_resolution': 'day', 'variable': 'pr'}\n",
      "2023-07-11 14:16:23,787 INFO Welcome to the CDS\n",
      "2023-07-11 14:16:23,788 INFO Sending request to https://cds.climate.copernicus.eu/api/v2/resources/projections-cmip6\n",
      "2023-07-11 14:16:23,905 INFO Request is queued\n"
     ]
    },
    {
     "name": "stdout",
     "output_type": "stream",
     "text": [
      "Some parameters are not matching\n",
      "Test with model hadgem3_gc31_ll\n",
      "path_for_file does not exist: the data may not have been downloaded\n",
      "file_download does not exist: the data were not downloaded\n"
     ]
    },
    {
     "name": "stderr",
     "output_type": "stream",
     "text": [
      "2023-07-11 14:16:24,950 INFO Request is failed\n",
      "2023-07-11 14:16:24,952 ERROR Message: an internal error occurred processing your request\n",
      "2023-07-11 14:16:24,952 ERROR Reason:  No matching data for request {'experiment': 'ssp119', 'model': 'HadGEM3-GC31-LL', 'temporal_resolution': 'day', 'variable': 'pr'}\n",
      "2023-07-11 14:16:24,953 ERROR   Traceback (most recent call last):\n",
      "2023-07-11 14:16:24,954 ERROR     File \"/opt/cdstoolbox/cdscompute/cdscompute/cdshandlers/services/handler.py\", line 59, in handle_request\n",
      "2023-07-11 14:16:24,956 ERROR       result = cached(context.method, proc, context, context.args, context.kwargs)\n",
      "2023-07-11 14:16:24,958 ERROR     File \"/opt/cdstoolbox/cdscompute/cdscompute/caching.py\", line 108, in cached\n",
      "2023-07-11 14:16:24,959 ERROR       result = proc(context, *context.args, **context.kwargs)\n",
      "2023-07-11 14:16:24,959 ERROR     File \"/opt/cdstoolbox/cdscompute/cdscompute/services.py\", line 124, in __call__\n",
      "2023-07-11 14:16:24,960 ERROR       return p(*args, **kwargs)\n",
      "2023-07-11 14:16:24,961 ERROR     File \"/opt/cdstoolbox/cdscompute/cdscompute/services.py\", line 60, in __call__\n",
      "2023-07-11 14:16:24,962 ERROR       return self.proc(context, *args, **kwargs)\n",
      "2023-07-11 14:16:24,962 ERROR     File \"/home/cds/cdsservices/services/esgf_wps/__init__.py\", line 30, in execute\n",
      "2023-07-11 14:16:24,962 ERROR       request_facets, request = facets.search(context, request)\n",
      "2023-07-11 14:16:24,963 ERROR     File \"/home/cds/cdsservices/services/esgf_wps/facets.py\", line 61, in search\n",
      "2023-07-11 14:16:24,964 ERROR       raise ValueError(f'No matching data for request {tmp_request}')\n",
      "2023-07-11 14:16:24,965 ERROR   ValueError: No matching data for request {'experiment': 'ssp119', 'model': 'HadGEM3-GC31-LL', 'temporal_resolution': 'day', 'variable': 'pr'}\n",
      "2023-07-11 14:16:25,008 INFO Welcome to the CDS\n",
      "2023-07-11 14:16:25,010 INFO Sending request to https://cds.climate.copernicus.eu/api/v2/resources/projections-cmip6\n",
      "2023-07-11 14:16:25,059 INFO Request is queued\n"
     ]
    },
    {
     "name": "stdout",
     "output_type": "stream",
     "text": [
      "Some parameters are not matching\n",
      "Test with model iitm_esm\n",
      "path_for_file does not exist: the data may not have been downloaded\n",
      "file_download does not exist: the data were not downloaded\n"
     ]
    },
    {
     "name": "stderr",
     "output_type": "stream",
     "text": [
      "2023-07-11 14:16:26,098 INFO Request is failed\n",
      "2023-07-11 14:16:26,099 ERROR Message: an internal error occurred processing your request\n",
      "2023-07-11 14:16:26,100 ERROR Reason:  No matching data for request {'experiment': 'ssp119', 'model': 'IITM-ESM', 'temporal_resolution': 'day', 'variable': 'pr'}\n",
      "2023-07-11 14:16:26,100 ERROR   Traceback (most recent call last):\n",
      "2023-07-11 14:16:26,101 ERROR     File \"/opt/cdstoolbox/cdscompute/cdscompute/cdshandlers/services/handler.py\", line 59, in handle_request\n",
      "2023-07-11 14:16:26,102 ERROR       result = cached(context.method, proc, context, context.args, context.kwargs)\n",
      "2023-07-11 14:16:26,103 ERROR     File \"/opt/cdstoolbox/cdscompute/cdscompute/caching.py\", line 108, in cached\n",
      "2023-07-11 14:16:26,103 ERROR       result = proc(context, *context.args, **context.kwargs)\n",
      "2023-07-11 14:16:26,104 ERROR     File \"/opt/cdstoolbox/cdscompute/cdscompute/services.py\", line 124, in __call__\n",
      "2023-07-11 14:16:26,105 ERROR       return p(*args, **kwargs)\n",
      "2023-07-11 14:16:26,106 ERROR     File \"/opt/cdstoolbox/cdscompute/cdscompute/services.py\", line 60, in __call__\n",
      "2023-07-11 14:16:26,106 ERROR       return self.proc(context, *args, **kwargs)\n",
      "2023-07-11 14:16:26,107 ERROR     File \"/home/cds/cdsservices/services/esgf_wps/__init__.py\", line 30, in execute\n",
      "2023-07-11 14:16:26,107 ERROR       request_facets, request = facets.search(context, request)\n",
      "2023-07-11 14:16:26,109 ERROR     File \"/home/cds/cdsservices/services/esgf_wps/facets.py\", line 61, in search\n",
      "2023-07-11 14:16:26,110 ERROR       raise ValueError(f'No matching data for request {tmp_request}')\n",
      "2023-07-11 14:16:26,110 ERROR   ValueError: No matching data for request {'experiment': 'ssp119', 'model': 'IITM-ESM', 'temporal_resolution': 'day', 'variable': 'pr'}\n",
      "2023-07-11 14:16:26,144 INFO Welcome to the CDS\n",
      "2023-07-11 14:16:26,145 INFO Sending request to https://cds.climate.copernicus.eu/api/v2/resources/projections-cmip6\n",
      "2023-07-11 14:16:26,217 INFO Request is queued\n"
     ]
    },
    {
     "name": "stdout",
     "output_type": "stream",
     "text": [
      "Some parameters are not matching\n",
      "Test with model inm_cm5_0\n",
      "path_for_file does not exist: the data may not have been downloaded\n",
      "file_download does not exist: the data were not downloaded\n"
     ]
    },
    {
     "name": "stderr",
     "output_type": "stream",
     "text": [
      "2023-07-11 14:16:27,265 INFO Request is failed\n",
      "2023-07-11 14:16:27,266 ERROR Message: an internal error occurred processing your request\n",
      "2023-07-11 14:16:27,266 ERROR Reason:  No matching data for request {'experiment': 'ssp119', 'model': 'INM-CM5-0', 'temporal_resolution': 'day', 'variable': 'pr'}\n",
      "2023-07-11 14:16:27,267 ERROR   Traceback (most recent call last):\n",
      "2023-07-11 14:16:27,268 ERROR     File \"/opt/cdstoolbox/cdscompute/cdscompute/cdshandlers/services/handler.py\", line 59, in handle_request\n",
      "2023-07-11 14:16:27,268 ERROR       result = cached(context.method, proc, context, context.args, context.kwargs)\n",
      "2023-07-11 14:16:27,269 ERROR     File \"/opt/cdstoolbox/cdscompute/cdscompute/caching.py\", line 108, in cached\n",
      "2023-07-11 14:16:27,270 ERROR       result = proc(context, *context.args, **context.kwargs)\n",
      "2023-07-11 14:16:27,272 ERROR     File \"/opt/cdstoolbox/cdscompute/cdscompute/services.py\", line 124, in __call__\n",
      "2023-07-11 14:16:27,272 ERROR       return p(*args, **kwargs)\n",
      "2023-07-11 14:16:27,273 ERROR     File \"/opt/cdstoolbox/cdscompute/cdscompute/services.py\", line 60, in __call__\n",
      "2023-07-11 14:16:27,273 ERROR       return self.proc(context, *args, **kwargs)\n",
      "2023-07-11 14:16:27,274 ERROR     File \"/home/cds/cdsservices/services/esgf_wps/__init__.py\", line 30, in execute\n",
      "2023-07-11 14:16:27,275 ERROR       request_facets, request = facets.search(context, request)\n",
      "2023-07-11 14:16:27,276 ERROR     File \"/home/cds/cdsservices/services/esgf_wps/facets.py\", line 61, in search\n",
      "2023-07-11 14:16:27,276 ERROR       raise ValueError(f'No matching data for request {tmp_request}')\n",
      "2023-07-11 14:16:27,277 ERROR   ValueError: No matching data for request {'experiment': 'ssp119', 'model': 'INM-CM5-0', 'temporal_resolution': 'day', 'variable': 'pr'}\n",
      "2023-07-11 14:16:27,314 INFO Welcome to the CDS\n",
      "2023-07-11 14:16:27,315 INFO Sending request to https://cds.climate.copernicus.eu/api/v2/resources/projections-cmip6\n",
      "2023-07-11 14:16:27,400 INFO Request is queued\n"
     ]
    },
    {
     "name": "stdout",
     "output_type": "stream",
     "text": [
      "Some parameters are not matching\n",
      "Test with model ipsl_cm6a_lr\n",
      "path_for_file does not exist: the data may not have been downloaded\n",
      "file_download does not exist: the data were not downloaded\n"
     ]
    },
    {
     "name": "stderr",
     "output_type": "stream",
     "text": [
      "2023-07-11 14:16:28,440 INFO Request is running\n",
      "2023-07-11 14:17:17,008 INFO Request is completed\n",
      "2023-07-11 14:17:17,009 INFO Downloading https://download-0015-clone.copernicus-climate.eu/cache-compute-0015/cache/data4/adaptor.esgf_wps.retrieve-1689077835.2775633-21505-6-1067dcbd-e405-44a1-a378-e56e88700158.zip to download.zip (11M)\n",
      "2023-07-11 14:17:19,020 INFO Download rate 5.5M/s                                                                      \n"
     ]
    },
    {
     "name": "stdout",
     "output_type": "stream",
     "text": [
      "The file has been download\n",
      "Path for the file is created, did not existed before\n"
     ]
    },
    {
     "name": "stderr",
     "output_type": "stream",
     "text": [
      "2023-07-11 14:17:20,965 INFO Welcome to the CDS\n",
      "2023-07-11 14:17:20,967 INFO Sending request to https://cds.climate.copernicus.eu/api/v2/resources/projections-cmip6\n",
      "2023-07-11 14:17:21,042 INFO Request is queued\n"
     ]
    },
    {
     "name": "stdout",
     "output_type": "stream",
     "text": [
      "\n",
      " The downloaded file is extracted\n",
      "The file has been extracted\n",
      "Test with model kiost_esm\n",
      "path_for_file does not exist: the data may not have been downloaded\n",
      "file_download does not exist: the data were not downloaded\n"
     ]
    },
    {
     "name": "stderr",
     "output_type": "stream",
     "text": [
      "2023-07-11 14:17:22,098 INFO Request is failed\n",
      "2023-07-11 14:17:22,099 ERROR Message: an internal error occurred processing your request\n",
      "2023-07-11 14:17:22,100 ERROR Reason:  No matching data for request {'experiment': 'ssp119', 'model': 'KIOST-ESM', 'temporal_resolution': 'day', 'variable': 'pr'}\n",
      "2023-07-11 14:17:22,101 ERROR   Traceback (most recent call last):\n",
      "2023-07-11 14:17:22,102 ERROR     File \"/opt/cdstoolbox/cdscompute/cdscompute/cdshandlers/services/handler.py\", line 59, in handle_request\n",
      "2023-07-11 14:17:22,103 ERROR       result = cached(context.method, proc, context, context.args, context.kwargs)\n",
      "2023-07-11 14:17:22,104 ERROR     File \"/opt/cdstoolbox/cdscompute/cdscompute/caching.py\", line 108, in cached\n",
      "2023-07-11 14:17:22,104 ERROR       result = proc(context, *context.args, **context.kwargs)\n",
      "2023-07-11 14:17:22,106 ERROR     File \"/opt/cdstoolbox/cdscompute/cdscompute/services.py\", line 124, in __call__\n",
      "2023-07-11 14:17:22,107 ERROR       return p(*args, **kwargs)\n",
      "2023-07-11 14:17:22,108 ERROR     File \"/opt/cdstoolbox/cdscompute/cdscompute/services.py\", line 60, in __call__\n",
      "2023-07-11 14:17:22,109 ERROR       return self.proc(context, *args, **kwargs)\n",
      "2023-07-11 14:17:22,111 ERROR     File \"/home/cds/cdsservices/services/esgf_wps/__init__.py\", line 30, in execute\n",
      "2023-07-11 14:17:22,112 ERROR       request_facets, request = facets.search(context, request)\n",
      "2023-07-11 14:17:22,117 ERROR     File \"/home/cds/cdsservices/services/esgf_wps/facets.py\", line 61, in search\n",
      "2023-07-11 14:17:22,119 ERROR       raise ValueError(f'No matching data for request {tmp_request}')\n",
      "2023-07-11 14:17:22,120 ERROR   ValueError: No matching data for request {'experiment': 'ssp119', 'model': 'KIOST-ESM', 'temporal_resolution': 'day', 'variable': 'pr'}\n",
      "2023-07-11 14:17:22,157 INFO Welcome to the CDS\n",
      "2023-07-11 14:17:22,158 INFO Sending request to https://cds.climate.copernicus.eu/api/v2/resources/projections-cmip6\n",
      "2023-07-11 14:17:22,295 INFO Request is queued\n"
     ]
    },
    {
     "name": "stdout",
     "output_type": "stream",
     "text": [
      "Some parameters are not matching\n",
      "Test with model miroc6\n",
      "path_for_file does not exist: the data may not have been downloaded\n",
      "file_download does not exist: the data were not downloaded\n"
     ]
    },
    {
     "name": "stderr",
     "output_type": "stream",
     "text": [
      "2023-07-11 14:17:23,344 INFO Request is running\n",
      "2023-07-11 14:20:13,795 INFO Request is completed\n",
      "2023-07-11 14:20:13,797 INFO Downloading https://download-0018.copernicus-climate.eu/cache-compute-0018/cache/data9/adaptor.esgf_wps.retrieve-1689077987.312295-21613-17-7a010dc3-2151-43c8-822b-b5a9a1926326.zip to download.zip (9.2M)\n",
      "2023-07-11 14:20:15,187 INFO Download rate 6.7M/s                                                                      \n"
     ]
    },
    {
     "name": "stdout",
     "output_type": "stream",
     "text": [
      "The file has been download\n",
      "Path for the file is created, did not existed before\n"
     ]
    },
    {
     "name": "stderr",
     "output_type": "stream",
     "text": [
      "2023-07-11 14:20:16,367 INFO Welcome to the CDS\n",
      "2023-07-11 14:20:16,368 INFO Sending request to https://cds.climate.copernicus.eu/api/v2/resources/projections-cmip6\n",
      "2023-07-11 14:20:16,454 INFO Request is queued\n"
     ]
    },
    {
     "name": "stdout",
     "output_type": "stream",
     "text": [
      "\n",
      " The downloaded file is extracted\n",
      "The file has been extracted\n",
      "Test with model miroc_es2l\n",
      "path_for_file does not exist: the data may not have been downloaded\n",
      "file_download does not exist: the data were not downloaded\n"
     ]
    },
    {
     "name": "stderr",
     "output_type": "stream",
     "text": [
      "2023-07-11 14:20:17,491 INFO Request is running\n",
      "2023-07-11 14:23:07,924 INFO Request is completed\n",
      "2023-07-11 14:23:07,925 INFO Downloading https://download-0004-clone.copernicus-climate.eu/cache-compute-0004/cache/data6/adaptor.esgf_wps.retrieve-1689078162.169506-9868-19-3b2a3824-4fef-4175-b607-de0780dc5e2d.zip to download.zip (2.9M)\n",
      "2023-07-11 14:23:10,278 INFO Download rate 1.2M/s                                                                      \n"
     ]
    },
    {
     "name": "stdout",
     "output_type": "stream",
     "text": [
      "The file has been download\n",
      "Path for the file is created, did not existed before\n"
     ]
    },
    {
     "name": "stderr",
     "output_type": "stream",
     "text": [
      "2023-07-11 14:23:11,009 INFO Welcome to the CDS\n",
      "2023-07-11 14:23:11,011 INFO Sending request to https://cds.climate.copernicus.eu/api/v2/resources/projections-cmip6\n",
      "2023-07-11 14:23:11,152 INFO Request is queued\n"
     ]
    },
    {
     "name": "stdout",
     "output_type": "stream",
     "text": [
      "\n",
      " The downloaded file is extracted\n",
      "The file has been extracted\n",
      "Test with model mpi_esm1_2_hr\n",
      "path_for_file does not exist: the data may not have been downloaded\n",
      "file_download does not exist: the data were not downloaded\n"
     ]
    },
    {
     "name": "stderr",
     "output_type": "stream",
     "text": [
      "2023-07-11 14:23:12,195 INFO Request is failed\n",
      "2023-07-11 14:23:12,195 ERROR Message: an internal error occurred processing your request\n",
      "2023-07-11 14:23:12,197 ERROR Reason:  No matching data for request {'experiment': 'ssp119', 'model': 'MPI-ESM1-2-HR', 'temporal_resolution': 'day', 'variable': 'pr'}\n",
      "2023-07-11 14:23:12,197 ERROR   Traceback (most recent call last):\n",
      "2023-07-11 14:23:12,198 ERROR     File \"/opt/cdstoolbox/cdscompute/cdscompute/cdshandlers/services/handler.py\", line 59, in handle_request\n",
      "2023-07-11 14:23:12,199 ERROR       result = cached(context.method, proc, context, context.args, context.kwargs)\n",
      "2023-07-11 14:23:12,199 ERROR     File \"/opt/cdstoolbox/cdscompute/cdscompute/caching.py\", line 108, in cached\n",
      "2023-07-11 14:23:12,200 ERROR       result = proc(context, *context.args, **context.kwargs)\n",
      "2023-07-11 14:23:12,201 ERROR     File \"/opt/cdstoolbox/cdscompute/cdscompute/services.py\", line 124, in __call__\n",
      "2023-07-11 14:23:12,202 ERROR       return p(*args, **kwargs)\n",
      "2023-07-11 14:23:12,202 ERROR     File \"/opt/cdstoolbox/cdscompute/cdscompute/services.py\", line 60, in __call__\n",
      "2023-07-11 14:23:12,203 ERROR       return self.proc(context, *args, **kwargs)\n",
      "2023-07-11 14:23:12,204 ERROR     File \"/home/cds/cdsservices/services/esgf_wps/__init__.py\", line 30, in execute\n",
      "2023-07-11 14:23:12,204 ERROR       request_facets, request = facets.search(context, request)\n",
      "2023-07-11 14:23:12,204 ERROR     File \"/home/cds/cdsservices/services/esgf_wps/facets.py\", line 61, in search\n",
      "2023-07-11 14:23:12,204 ERROR       raise ValueError(f'No matching data for request {tmp_request}')\n",
      "2023-07-11 14:23:12,205 ERROR   ValueError: No matching data for request {'experiment': 'ssp119', 'model': 'MPI-ESM1-2-HR', 'temporal_resolution': 'day', 'variable': 'pr'}\n",
      "2023-07-11 14:23:12,242 INFO Welcome to the CDS\n",
      "2023-07-11 14:23:12,243 INFO Sending request to https://cds.climate.copernicus.eu/api/v2/resources/projections-cmip6\n",
      "2023-07-11 14:23:12,333 INFO Request is queued\n"
     ]
    },
    {
     "name": "stdout",
     "output_type": "stream",
     "text": [
      "Some parameters are not matching\n",
      "Test with model mri_esm2_0\n",
      "path_for_file does not exist: the data may not have been downloaded\n",
      "file_download does not exist: the data were not downloaded\n"
     ]
    },
    {
     "name": "stderr",
     "output_type": "stream",
     "text": [
      "2023-07-11 14:23:13,378 INFO Request is running\n",
      "2023-07-11 14:27:31,630 INFO Request is completed\n",
      "2023-07-11 14:27:31,631 INFO Downloading https://download-0013-clone.copernicus-climate.eu/cache-compute-0013/cache/data0/adaptor.esgf_wps.retrieve-1689078402.6558907-18011-17-4c55d7f4-3041-4fa3-8ccb-b4df4a02a5e2.zip to download.zip (16.7M)\n",
      "2023-07-11 14:27:34,280 INFO Download rate 6.3M/s                                                                      \n"
     ]
    },
    {
     "name": "stdout",
     "output_type": "stream",
     "text": [
      "The file has been download\n",
      "Path for the file is created, did not existed before\n"
     ]
    },
    {
     "name": "stderr",
     "output_type": "stream",
     "text": [
      "2023-07-11 14:27:36,627 INFO Welcome to the CDS\n",
      "2023-07-11 14:27:36,627 INFO Sending request to https://cds.climate.copernicus.eu/api/v2/resources/projections-cmip6\n",
      "2023-07-11 14:27:36,696 INFO Request is queued\n"
     ]
    },
    {
     "name": "stdout",
     "output_type": "stream",
     "text": [
      "\n",
      " The downloaded file is extracted\n",
      "The file has been extracted\n",
      "Test with model norcpm1\n",
      "path_for_file does not exist: the data may not have been downloaded\n",
      "file_download does not exist: the data were not downloaded\n"
     ]
    },
    {
     "name": "stderr",
     "output_type": "stream",
     "text": [
      "2023-07-11 14:27:37,727 INFO Request is failed\n",
      "2023-07-11 14:27:37,728 ERROR Message: an internal error occurred processing your request\n",
      "2023-07-11 14:27:37,729 ERROR Reason:  No matching data for request {'experiment': 'ssp119', 'model': 'NorCPM1', 'temporal_resolution': 'day', 'variable': 'pr'}\n",
      "2023-07-11 14:27:37,729 ERROR   Traceback (most recent call last):\n",
      "2023-07-11 14:27:37,730 ERROR     File \"/opt/cdstoolbox/cdscompute/cdscompute/cdshandlers/services/handler.py\", line 59, in handle_request\n",
      "2023-07-11 14:27:37,730 ERROR       result = cached(context.method, proc, context, context.args, context.kwargs)\n",
      "2023-07-11 14:27:37,731 ERROR     File \"/opt/cdstoolbox/cdscompute/cdscompute/caching.py\", line 108, in cached\n",
      "2023-07-11 14:27:37,731 ERROR       result = proc(context, *context.args, **context.kwargs)\n",
      "2023-07-11 14:27:37,734 ERROR     File \"/opt/cdstoolbox/cdscompute/cdscompute/services.py\", line 124, in __call__\n",
      "2023-07-11 14:27:37,734 ERROR       return p(*args, **kwargs)\n",
      "2023-07-11 14:27:37,734 ERROR     File \"/opt/cdstoolbox/cdscompute/cdscompute/services.py\", line 60, in __call__\n",
      "2023-07-11 14:27:37,734 ERROR       return self.proc(context, *args, **kwargs)\n",
      "2023-07-11 14:27:37,735 ERROR     File \"/home/cds/cdsservices/services/esgf_wps/__init__.py\", line 30, in execute\n",
      "2023-07-11 14:27:37,736 ERROR       request_facets, request = facets.search(context, request)\n",
      "2023-07-11 14:27:37,736 ERROR     File \"/home/cds/cdsservices/services/esgf_wps/facets.py\", line 61, in search\n",
      "2023-07-11 14:27:37,737 ERROR       raise ValueError(f'No matching data for request {tmp_request}')\n",
      "2023-07-11 14:27:37,738 ERROR   ValueError: No matching data for request {'experiment': 'ssp119', 'model': 'NorCPM1', 'temporal_resolution': 'day', 'variable': 'pr'}\n",
      "2023-07-11 14:27:37,769 INFO Welcome to the CDS\n",
      "2023-07-11 14:27:37,770 INFO Sending request to https://cds.climate.copernicus.eu/api/v2/resources/projections-cmip6\n",
      "2023-07-11 14:27:37,839 INFO Request is queued\n"
     ]
    },
    {
     "name": "stdout",
     "output_type": "stream",
     "text": [
      "Some parameters are not matching\n",
      "Test with model noresm2_mm\n",
      "path_for_file does not exist: the data may not have been downloaded\n",
      "file_download does not exist: the data were not downloaded\n"
     ]
    },
    {
     "name": "stderr",
     "output_type": "stream",
     "text": [
      "2023-07-11 14:27:38,883 INFO Request is failed\n",
      "2023-07-11 14:27:38,885 ERROR Message: an internal error occurred processing your request\n",
      "2023-07-11 14:27:38,886 ERROR Reason:  No matching data for request {'experiment': 'ssp119', 'model': 'NorESM2-MM', 'temporal_resolution': 'day', 'variable': 'pr'}\n",
      "2023-07-11 14:27:38,886 ERROR   Traceback (most recent call last):\n",
      "2023-07-11 14:27:38,888 ERROR     File \"/opt/cdstoolbox/cdscompute/cdscompute/cdshandlers/services/handler.py\", line 59, in handle_request\n",
      "2023-07-11 14:27:38,888 ERROR       result = cached(context.method, proc, context, context.args, context.kwargs)\n",
      "2023-07-11 14:27:38,889 ERROR     File \"/opt/cdstoolbox/cdscompute/cdscompute/caching.py\", line 108, in cached\n",
      "2023-07-11 14:27:38,890 ERROR       result = proc(context, *context.args, **context.kwargs)\n",
      "2023-07-11 14:27:38,890 ERROR     File \"/opt/cdstoolbox/cdscompute/cdscompute/services.py\", line 124, in __call__\n",
      "2023-07-11 14:27:38,892 ERROR       return p(*args, **kwargs)\n",
      "2023-07-11 14:27:38,892 ERROR     File \"/opt/cdstoolbox/cdscompute/cdscompute/services.py\", line 60, in __call__\n",
      "2023-07-11 14:27:38,892 ERROR       return self.proc(context, *args, **kwargs)\n",
      "2023-07-11 14:27:38,892 ERROR     File \"/home/cds/cdsservices/services/esgf_wps/__init__.py\", line 30, in execute\n",
      "2023-07-11 14:27:38,894 ERROR       request_facets, request = facets.search(context, request)\n",
      "2023-07-11 14:27:38,894 ERROR     File \"/home/cds/cdsservices/services/esgf_wps/facets.py\", line 61, in search\n",
      "2023-07-11 14:27:38,895 ERROR       raise ValueError(f'No matching data for request {tmp_request}')\n",
      "2023-07-11 14:27:38,895 ERROR   ValueError: No matching data for request {'experiment': 'ssp119', 'model': 'NorESM2-MM', 'temporal_resolution': 'day', 'variable': 'pr'}\n",
      "2023-07-11 14:27:38,926 INFO Welcome to the CDS\n",
      "2023-07-11 14:27:38,926 INFO Sending request to https://cds.climate.copernicus.eu/api/v2/resources/projections-cmip6\n",
      "2023-07-11 14:27:38,988 INFO Request is queued\n"
     ]
    },
    {
     "name": "stdout",
     "output_type": "stream",
     "text": [
      "Some parameters are not matching\n",
      "Test with model taiesm1\n",
      "path_for_file does not exist: the data may not have been downloaded\n",
      "file_download does not exist: the data were not downloaded\n"
     ]
    },
    {
     "name": "stderr",
     "output_type": "stream",
     "text": [
      "2023-07-11 14:27:40,035 INFO Request is failed\n",
      "2023-07-11 14:27:40,036 ERROR Message: an internal error occurred processing your request\n",
      "2023-07-11 14:27:40,037 ERROR Reason:  No matching data for request {'experiment': 'ssp119', 'model': 'TaiESM1', 'temporal_resolution': 'day', 'variable': 'pr'}\n",
      "2023-07-11 14:27:40,038 ERROR   Traceback (most recent call last):\n",
      "2023-07-11 14:27:40,038 ERROR     File \"/opt/cdstoolbox/cdscompute/cdscompute/cdshandlers/services/handler.py\", line 59, in handle_request\n",
      "2023-07-11 14:27:40,039 ERROR       result = cached(context.method, proc, context, context.args, context.kwargs)\n",
      "2023-07-11 14:27:40,040 ERROR     File \"/opt/cdstoolbox/cdscompute/cdscompute/caching.py\", line 108, in cached\n",
      "2023-07-11 14:27:40,040 ERROR       result = proc(context, *context.args, **context.kwargs)\n",
      "2023-07-11 14:27:40,041 ERROR     File \"/opt/cdstoolbox/cdscompute/cdscompute/services.py\", line 124, in __call__\n",
      "2023-07-11 14:27:40,041 ERROR       return p(*args, **kwargs)\n",
      "2023-07-11 14:27:40,043 ERROR     File \"/opt/cdstoolbox/cdscompute/cdscompute/services.py\", line 60, in __call__\n",
      "2023-07-11 14:27:40,043 ERROR       return self.proc(context, *args, **kwargs)\n",
      "2023-07-11 14:27:40,045 ERROR     File \"/home/cds/cdsservices/services/esgf_wps/__init__.py\", line 30, in execute\n",
      "2023-07-11 14:27:40,045 ERROR       request_facets, request = facets.search(context, request)\n",
      "2023-07-11 14:27:40,046 ERROR     File \"/home/cds/cdsservices/services/esgf_wps/facets.py\", line 61, in search\n",
      "2023-07-11 14:27:40,046 ERROR       raise ValueError(f'No matching data for request {tmp_request}')\n",
      "2023-07-11 14:27:40,047 ERROR   ValueError: No matching data for request {'experiment': 'ssp119', 'model': 'TaiESM1', 'temporal_resolution': 'day', 'variable': 'pr'}\n",
      "2023-07-11 14:27:40,078 INFO Welcome to the CDS\n",
      "2023-07-11 14:27:40,079 INFO Sending request to https://cds.climate.copernicus.eu/api/v2/resources/projections-cmip6\n",
      "2023-07-11 14:27:40,146 INFO Request is queued\n"
     ]
    },
    {
     "name": "stdout",
     "output_type": "stream",
     "text": [
      "Some parameters are not matching\n",
      "Test with model access_esm1_5\n",
      "path_for_file does not exist: the data may not have been downloaded\n",
      "file_download does not exist: the data were not downloaded\n"
     ]
    },
    {
     "name": "stderr",
     "output_type": "stream",
     "text": [
      "2023-07-11 14:27:41,187 INFO Request is failed\n",
      "2023-07-11 14:27:41,189 ERROR Message: an internal error occurred processing your request\n",
      "2023-07-11 14:27:41,189 ERROR Reason:  No matching data for request {'experiment': 'ssp119', 'model': 'ACCESS-ESM1-5', 'temporal_resolution': 'day', 'variable': 'pr'}\n",
      "2023-07-11 14:27:41,190 ERROR   Traceback (most recent call last):\n",
      "2023-07-11 14:27:41,191 ERROR     File \"/opt/cdstoolbox/cdscompute/cdscompute/cdshandlers/services/handler.py\", line 59, in handle_request\n",
      "2023-07-11 14:27:41,192 ERROR       result = cached(context.method, proc, context, context.args, context.kwargs)\n",
      "2023-07-11 14:27:41,192 ERROR     File \"/opt/cdstoolbox/cdscompute/cdscompute/caching.py\", line 108, in cached\n",
      "2023-07-11 14:27:41,193 ERROR       result = proc(context, *context.args, **context.kwargs)\n",
      "2023-07-11 14:27:41,193 ERROR     File \"/opt/cdstoolbox/cdscompute/cdscompute/services.py\", line 124, in __call__\n",
      "2023-07-11 14:27:41,194 ERROR       return p(*args, **kwargs)\n",
      "2023-07-11 14:27:41,196 ERROR     File \"/opt/cdstoolbox/cdscompute/cdscompute/services.py\", line 60, in __call__\n",
      "2023-07-11 14:27:41,197 ERROR       return self.proc(context, *args, **kwargs)\n",
      "2023-07-11 14:27:41,197 ERROR     File \"/home/cds/cdsservices/services/esgf_wps/__init__.py\", line 30, in execute\n",
      "2023-07-11 14:27:41,197 ERROR       request_facets, request = facets.search(context, request)\n",
      "2023-07-11 14:27:41,198 ERROR     File \"/home/cds/cdsservices/services/esgf_wps/facets.py\", line 61, in search\n",
      "2023-07-11 14:27:41,198 ERROR       raise ValueError(f'No matching data for request {tmp_request}')\n",
      "2023-07-11 14:27:41,200 ERROR   ValueError: No matching data for request {'experiment': 'ssp119', 'model': 'ACCESS-ESM1-5', 'temporal_resolution': 'day', 'variable': 'pr'}\n",
      "2023-07-11 14:27:41,235 INFO Welcome to the CDS\n",
      "2023-07-11 14:27:41,236 INFO Sending request to https://cds.climate.copernicus.eu/api/v2/resources/projections-cmip6\n",
      "2023-07-11 14:27:41,293 INFO Request is queued\n"
     ]
    },
    {
     "name": "stdout",
     "output_type": "stream",
     "text": [
      "Some parameters are not matching\n",
      "Test with model awi_esm_1_1_lr\n",
      "path_for_file does not exist: the data may not have been downloaded\n",
      "file_download does not exist: the data were not downloaded\n"
     ]
    },
    {
     "name": "stderr",
     "output_type": "stream",
     "text": [
      "2023-07-11 14:27:42,325 INFO Request is failed\n",
      "2023-07-11 14:27:42,327 ERROR Message: an internal error occurred processing your request\n",
      "2023-07-11 14:27:42,327 ERROR Reason:  No matching data for request {'experiment': 'ssp119', 'model': 'AWI-ESM-1-1-LR', 'temporal_resolution': 'day', 'variable': 'pr'}\n",
      "2023-07-11 14:27:42,327 ERROR   Traceback (most recent call last):\n",
      "2023-07-11 14:27:42,329 ERROR     File \"/opt/cdstoolbox/cdscompute/cdscompute/cdshandlers/services/handler.py\", line 59, in handle_request\n",
      "2023-07-11 14:27:42,330 ERROR       result = cached(context.method, proc, context, context.args, context.kwargs)\n",
      "2023-07-11 14:27:42,330 ERROR     File \"/opt/cdstoolbox/cdscompute/cdscompute/caching.py\", line 108, in cached\n",
      "2023-07-11 14:27:42,331 ERROR       result = proc(context, *context.args, **context.kwargs)\n",
      "2023-07-11 14:27:42,331 ERROR     File \"/opt/cdstoolbox/cdscompute/cdscompute/services.py\", line 124, in __call__\n",
      "2023-07-11 14:27:42,332 ERROR       return p(*args, **kwargs)\n",
      "2023-07-11 14:27:42,333 ERROR     File \"/opt/cdstoolbox/cdscompute/cdscompute/services.py\", line 60, in __call__\n",
      "2023-07-11 14:27:42,334 ERROR       return self.proc(context, *args, **kwargs)\n",
      "2023-07-11 14:27:42,335 ERROR     File \"/home/cds/cdsservices/services/esgf_wps/__init__.py\", line 30, in execute\n",
      "2023-07-11 14:27:42,336 ERROR       request_facets, request = facets.search(context, request)\n",
      "2023-07-11 14:27:42,337 ERROR     File \"/home/cds/cdsservices/services/esgf_wps/facets.py\", line 61, in search\n",
      "2023-07-11 14:27:42,338 ERROR       raise ValueError(f'No matching data for request {tmp_request}')\n",
      "2023-07-11 14:27:42,338 ERROR   ValueError: No matching data for request {'experiment': 'ssp119', 'model': 'AWI-ESM-1-1-LR', 'temporal_resolution': 'day', 'variable': 'pr'}\n",
      "2023-07-11 14:27:42,370 INFO Welcome to the CDS\n",
      "2023-07-11 14:27:42,371 INFO Sending request to https://cds.climate.copernicus.eu/api/v2/resources/projections-cmip6\n",
      "2023-07-11 14:27:42,435 INFO Request is queued\n"
     ]
    },
    {
     "name": "stdout",
     "output_type": "stream",
     "text": [
      "Some parameters are not matching\n",
      "Test with model bcc_esm1\n",
      "path_for_file does not exist: the data may not have been downloaded\n",
      "file_download does not exist: the data were not downloaded\n"
     ]
    },
    {
     "name": "stderr",
     "output_type": "stream",
     "text": [
      "2023-07-11 14:27:43,475 INFO Request is failed\n",
      "2023-07-11 14:27:43,477 ERROR Message: an internal error occurred processing your request\n",
      "2023-07-11 14:27:43,477 ERROR Reason:  No matching data for request {'experiment': 'ssp119', 'model': 'BCC-ESM1', 'temporal_resolution': 'day', 'variable': 'pr'}\n",
      "2023-07-11 14:27:43,478 ERROR   Traceback (most recent call last):\n",
      "2023-07-11 14:27:43,479 ERROR     File \"/opt/cdstoolbox/cdscompute/cdscompute/cdshandlers/services/handler.py\", line 59, in handle_request\n",
      "2023-07-11 14:27:43,479 ERROR       result = cached(context.method, proc, context, context.args, context.kwargs)\n",
      "2023-07-11 14:27:43,480 ERROR     File \"/opt/cdstoolbox/cdscompute/cdscompute/caching.py\", line 108, in cached\n",
      "2023-07-11 14:27:43,481 ERROR       result = proc(context, *context.args, **context.kwargs)\n",
      "2023-07-11 14:27:43,481 ERROR     File \"/opt/cdstoolbox/cdscompute/cdscompute/services.py\", line 124, in __call__\n",
      "2023-07-11 14:27:43,482 ERROR       return p(*args, **kwargs)\n",
      "2023-07-11 14:27:43,482 ERROR     File \"/opt/cdstoolbox/cdscompute/cdscompute/services.py\", line 60, in __call__\n",
      "2023-07-11 14:27:43,482 ERROR       return self.proc(context, *args, **kwargs)\n",
      "2023-07-11 14:27:43,483 ERROR     File \"/home/cds/cdsservices/services/esgf_wps/__init__.py\", line 30, in execute\n",
      "2023-07-11 14:27:43,484 ERROR       request_facets, request = facets.search(context, request)\n",
      "2023-07-11 14:27:43,484 ERROR     File \"/home/cds/cdsservices/services/esgf_wps/facets.py\", line 61, in search\n",
      "2023-07-11 14:27:43,484 ERROR       raise ValueError(f'No matching data for request {tmp_request}')\n",
      "2023-07-11 14:27:43,485 ERROR   ValueError: No matching data for request {'experiment': 'ssp119', 'model': 'BCC-ESM1', 'temporal_resolution': 'day', 'variable': 'pr'}\n",
      "2023-07-11 14:27:43,516 INFO Welcome to the CDS\n",
      "2023-07-11 14:27:43,518 INFO Sending request to https://cds.climate.copernicus.eu/api/v2/resources/projections-cmip6\n",
      "2023-07-11 14:27:43,584 INFO Request is queued\n"
     ]
    },
    {
     "name": "stdout",
     "output_type": "stream",
     "text": [
      "Some parameters are not matching\n",
      "Test with model canesm5\n",
      "path_for_file does not exist: the data may not have been downloaded\n",
      "file_download does not exist: the data were not downloaded\n"
     ]
    },
    {
     "name": "stderr",
     "output_type": "stream",
     "text": [
      "2023-07-11 14:27:44,626 INFO Request is running\n"
     ]
    }
   ],
   "source": [
    "download_copernicus(temporal_resolution,year_str,copernicus_elements.experiments,copernicus_elements.models,out_path, global_variable, name_variable,area,name_area)"
   ]
  },
  {
   "cell_type": "code",
   "execution_count": null,
   "id": "c7f91fcb",
   "metadata": {},
   "outputs": [],
   "source": []
  },
  {
   "cell_type": "code",
   "execution_count": null,
   "id": "0f926595",
   "metadata": {},
   "outputs": [],
   "source": []
  },
  {
   "cell_type": "code",
   "execution_count": null,
   "id": "67bf001e",
   "metadata": {},
   "outputs": [],
   "source": []
  },
  {
   "cell_type": "code",
   "execution_count": null,
   "id": "fb5cfbdc",
   "metadata": {},
   "outputs": [],
   "source": []
  },
  {
   "cell_type": "code",
   "execution_count": null,
   "id": "86a0b860",
   "metadata": {},
   "outputs": [],
   "source": []
  },
  {
   "cell_type": "code",
   "execution_count": null,
   "id": "246d6cd2",
   "metadata": {},
   "outputs": [],
   "source": []
  }
 ],
 "metadata": {
  "kernelspec": {
   "display_name": "Python 3 (ipykernel)",
   "language": "python",
   "name": "python3"
  },
  "language_info": {
   "codemirror_mode": {
    "name": "ipython",
    "version": 3
   },
   "file_extension": ".py",
   "mimetype": "text/x-python",
   "name": "python",
   "nbconvert_exporter": "python",
   "pygments_lexer": "ipython3",
   "version": "3.10.6"
  }
 },
 "nbformat": 4,
 "nbformat_minor": 5
}
