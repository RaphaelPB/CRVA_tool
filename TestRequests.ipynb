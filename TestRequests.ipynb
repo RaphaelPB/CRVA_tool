{
 "cells": [
  {
   "cell_type": "code",
   "execution_count": 2,
   "id": "4de232a7",
   "metadata": {},
   "outputs": [],
   "source": [
    "import requests\n",
    "\n",
    "r = requests.get('https://statics.teams.cdn.office.net/evergreen-assets/safelinks/1/atp-safelinks.html')#, timeout=(connect_timeout, read_timeout)) # return the url were data need to be downloaded\n",
    "with open(f'//COWI.net/projects/A245000/A248363/CRVA/Datasets/NEX-GDDP-CMIP6/TEST_requests', 'wb') as f:\n",
    "        f.write(r.content)\n",
    "    "
   ]
  },
  {
   "cell_type": "code",
   "execution_count": null,
   "id": "cff62d39",
   "metadata": {},
   "outputs": [],
   "source": []
  }
 ],
 "metadata": {
  "kernelspec": {
   "display_name": "Python 3 (ipykernel)",
   "language": "python",
   "name": "python3"
  },
  "language_info": {
   "codemirror_mode": {
    "name": "ipython",
    "version": 3
   },
   "file_extension": ".py",
   "mimetype": "text/x-python",
   "name": "python",
   "nbconvert_exporter": "python",
   "pygments_lexer": "ipython3",
   "version": "3.10.6"
  }
 },
 "nbformat": 4,
 "nbformat_minor": 5
}
