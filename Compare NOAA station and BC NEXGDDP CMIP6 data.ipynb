{
 "cells": [
  {
   "cell_type": "markdown",
   "id": "115184df",
   "metadata": {},
   "source": [
    "This notebook contains the comparaison between observed and modeled NEX GDDP CMIP6 data.\n",
    "\n",
    "Notice: The modeled data only contains one point. Good to do it again but with a zone"
   ]
  },
  {
   "cell_type": "markdown",
   "id": "e19ed021",
   "metadata": {},
   "source": [
    "# Packages"
   ]
  },
  {
   "cell_type": "code",
   "execution_count": 1,
   "id": "98eb9357",
   "metadata": {},
   "outputs": [],
   "source": [
    "import pandas as pd\n",
    "import numpy as np\n",
    "import os\n",
    "import os.path\n",
    "import seaborn as sns\n",
    "import matplotlib\n",
    "import geopy.distance\n",
    "from matplotlib import pyplot as plt\n",
    "\n",
    "from Functions_ImportData import import_filtered_NOAA_obs\n",
    "from Functions_ImportData import import_BC_NEX_GDDP_CMIP6\n",
    "from Functions_Indicators import add_year_month_season\n",
    "from Functions_Indicators import str_month\n",
    "from Functions_Indicators import select_station\n",
    "\n",
    "from Graphs_functions import cdf_plot_category_or_obs\n",
    "from Graphs_functions import boxplots_\n",
    "from Graphs_functions import compare_3_lines"
   ]
  },
  {
   "cell_type": "markdown",
   "id": "18891155",
   "metadata": {},
   "source": [
    "# Import data"
   ]
  },
  {
   "cell_type": "markdown",
   "id": "bc58a4e9",
   "metadata": {},
   "source": [
    "## Observations data"
   ]
  },
  {
   "cell_type": "markdown",
   "id": "12d2cea9",
   "metadata": {},
   "source": [
    "### Precipitation and temperature NOAA"
   ]
  },
  {
   "cell_type": "code",
   "execution_count": 2,
   "id": "f05613de",
   "metadata": {},
   "outputs": [],
   "source": [
    "daily_sum_obs_from_NOAA = import_filtered_NOAA_obs()"
   ]
  },
  {
   "cell_type": "code",
   "execution_count": 3,
   "id": "e398eb66",
   "metadata": {},
   "outputs": [
    {
     "data": {
      "text/plain": [
       "0         29.0\n",
       "1         27.0\n",
       "2          NaN\n",
       "3          NaN\n",
       "4          NaN\n",
       "          ... \n",
       "137721     NaN\n",
       "137722     NaN\n",
       "137723     NaN\n",
       "137724     NaN\n",
       "137725     NaN\n",
       "Name: TMAX, Length: 137726, dtype: float64"
      ]
     },
     "execution_count": 3,
     "metadata": {},
     "output_type": "execute_result"
    }
   ],
   "source": [
    "daily_sum_obs_from_NOAA['TMAX']"
   ]
  },
  {
   "cell_type": "code",
   "execution_count": 4,
   "id": "06deda16",
   "metadata": {},
   "outputs": [],
   "source": [
    "daily_sum_obs_from_NOAA_BEIRA=select_station(daily_sum_obs_from_NOAA,'NAME','BEIRA, MZ')"
   ]
  },
  {
   "cell_type": "code",
   "execution_count": 5,
   "id": "ee16c3a2",
   "metadata": {},
   "outputs": [],
   "source": [
    "daily_sum_obs_from_NOAA_PEMBA=select_station(daily_sum_obs_from_NOAA,'NAME','PEMBA, MZ')"
   ]
  },
  {
   "cell_type": "code",
   "execution_count": 6,
   "id": "c5644379",
   "metadata": {},
   "outputs": [],
   "source": [
    "daily_sum_obs_from_NOAA_CHIMOIO=select_station(daily_sum_obs_from_NOAA,'NAME','CHIMOIO, MZ')"
   ]
  },
  {
   "cell_type": "code",
   "execution_count": 7,
   "id": "6eefdf1c",
   "metadata": {},
   "outputs": [
    {
     "data": {
      "text/html": [
       "<div>\n",
       "<style scoped>\n",
       "    .dataframe tbody tr th:only-of-type {\n",
       "        vertical-align: middle;\n",
       "    }\n",
       "\n",
       "    .dataframe tbody tr th {\n",
       "        vertical-align: top;\n",
       "    }\n",
       "\n",
       "    .dataframe thead th {\n",
       "        text-align: right;\n",
       "    }\n",
       "</style>\n",
       "<table border=\"1\" class=\"dataframe\">\n",
       "  <thead>\n",
       "    <tr style=\"text-align: right;\">\n",
       "      <th></th>\n",
       "      <th>STATION</th>\n",
       "      <th>NAME</th>\n",
       "      <th>LATITUDE</th>\n",
       "      <th>LONGITUDE</th>\n",
       "      <th>ELEVATION</th>\n",
       "      <th>DATE</th>\n",
       "      <th>PRCP</th>\n",
       "      <th>PRCP_ATTRIBUTES</th>\n",
       "      <th>TAVG</th>\n",
       "      <th>TAVG_ATTRIBUTES</th>\n",
       "      <th>...</th>\n",
       "      <th>TMAX_ATTRIBUTES</th>\n",
       "      <th>TMIN</th>\n",
       "      <th>TMIN_ATTRIBUTES</th>\n",
       "      <th>Year</th>\n",
       "      <th>Month</th>\n",
       "      <th>Season</th>\n",
       "      <th>PRCP MISSING</th>\n",
       "      <th>TAVG MISSING</th>\n",
       "      <th>TMAX MISSING</th>\n",
       "      <th>TMIN MISSING</th>\n",
       "    </tr>\n",
       "  </thead>\n",
       "  <tbody>\n",
       "    <tr>\n",
       "      <th>2689</th>\n",
       "      <td>MZ000067295</td>\n",
       "      <td>CHIMOIO, MZ</td>\n",
       "      <td>-19.117</td>\n",
       "      <td>33.467</td>\n",
       "      <td>732.0</td>\n",
       "      <td>1970-01-01</td>\n",
       "      <td>0.4</td>\n",
       "      <td>,,Q</td>\n",
       "      <td>NaN</td>\n",
       "      <td>NaN</td>\n",
       "      <td>...</td>\n",
       "      <td>,,Q</td>\n",
       "      <td>20.7</td>\n",
       "      <td>,,Q</td>\n",
       "      <td>1970</td>\n",
       "      <td>Jan</td>\n",
       "      <td>Humid</td>\n",
       "      <td>0</td>\n",
       "      <td>1</td>\n",
       "      <td>0</td>\n",
       "      <td>0</td>\n",
       "    </tr>\n",
       "    <tr>\n",
       "      <th>2690</th>\n",
       "      <td>MZ000067295</td>\n",
       "      <td>CHIMOIO, MZ</td>\n",
       "      <td>-19.117</td>\n",
       "      <td>33.467</td>\n",
       "      <td>732.0</td>\n",
       "      <td>1970-01-02</td>\n",
       "      <td>0.0</td>\n",
       "      <td>,,Q</td>\n",
       "      <td>NaN</td>\n",
       "      <td>NaN</td>\n",
       "      <td>...</td>\n",
       "      <td>,,Q</td>\n",
       "      <td>21.2</td>\n",
       "      <td>,,Q</td>\n",
       "      <td>1970</td>\n",
       "      <td>Jan</td>\n",
       "      <td>Humid</td>\n",
       "      <td>0</td>\n",
       "      <td>1</td>\n",
       "      <td>0</td>\n",
       "      <td>0</td>\n",
       "    </tr>\n",
       "    <tr>\n",
       "      <th>2691</th>\n",
       "      <td>MZ000067295</td>\n",
       "      <td>CHIMOIO, MZ</td>\n",
       "      <td>-19.117</td>\n",
       "      <td>33.467</td>\n",
       "      <td>732.0</td>\n",
       "      <td>1970-01-03</td>\n",
       "      <td>0.0</td>\n",
       "      <td>,,Q</td>\n",
       "      <td>NaN</td>\n",
       "      <td>NaN</td>\n",
       "      <td>...</td>\n",
       "      <td>,,Q</td>\n",
       "      <td>20.5</td>\n",
       "      <td>,,Q</td>\n",
       "      <td>1970</td>\n",
       "      <td>Jan</td>\n",
       "      <td>Humid</td>\n",
       "      <td>0</td>\n",
       "      <td>1</td>\n",
       "      <td>0</td>\n",
       "      <td>0</td>\n",
       "    </tr>\n",
       "    <tr>\n",
       "      <th>2692</th>\n",
       "      <td>MZ000067295</td>\n",
       "      <td>CHIMOIO, MZ</td>\n",
       "      <td>-19.117</td>\n",
       "      <td>33.467</td>\n",
       "      <td>732.0</td>\n",
       "      <td>1970-01-04</td>\n",
       "      <td>0.0</td>\n",
       "      <td>,,Q</td>\n",
       "      <td>NaN</td>\n",
       "      <td>NaN</td>\n",
       "      <td>...</td>\n",
       "      <td>,,Q</td>\n",
       "      <td>19.2</td>\n",
       "      <td>,,Q</td>\n",
       "      <td>1970</td>\n",
       "      <td>Jan</td>\n",
       "      <td>Humid</td>\n",
       "      <td>0</td>\n",
       "      <td>1</td>\n",
       "      <td>0</td>\n",
       "      <td>0</td>\n",
       "    </tr>\n",
       "    <tr>\n",
       "      <th>2693</th>\n",
       "      <td>MZ000067295</td>\n",
       "      <td>CHIMOIO, MZ</td>\n",
       "      <td>-19.117</td>\n",
       "      <td>33.467</td>\n",
       "      <td>732.0</td>\n",
       "      <td>1970-01-05</td>\n",
       "      <td>0.0</td>\n",
       "      <td>,,Q</td>\n",
       "      <td>NaN</td>\n",
       "      <td>NaN</td>\n",
       "      <td>...</td>\n",
       "      <td>,,Q</td>\n",
       "      <td>20.2</td>\n",
       "      <td>,,Q</td>\n",
       "      <td>1970</td>\n",
       "      <td>Jan</td>\n",
       "      <td>Humid</td>\n",
       "      <td>0</td>\n",
       "      <td>1</td>\n",
       "      <td>0</td>\n",
       "      <td>0</td>\n",
       "    </tr>\n",
       "    <tr>\n",
       "      <th>...</th>\n",
       "      <td>...</td>\n",
       "      <td>...</td>\n",
       "      <td>...</td>\n",
       "      <td>...</td>\n",
       "      <td>...</td>\n",
       "      <td>...</td>\n",
       "      <td>...</td>\n",
       "      <td>...</td>\n",
       "      <td>...</td>\n",
       "      <td>...</td>\n",
       "      <td>...</td>\n",
       "      <td>...</td>\n",
       "      <td>...</td>\n",
       "      <td>...</td>\n",
       "      <td>...</td>\n",
       "      <td>...</td>\n",
       "      <td>...</td>\n",
       "      <td>...</td>\n",
       "      <td>...</td>\n",
       "      <td>...</td>\n",
       "      <td>...</td>\n",
       "    </tr>\n",
       "    <tr>\n",
       "      <th>14159</th>\n",
       "      <td>MZ000067295</td>\n",
       "      <td>CHIMOIO, MZ</td>\n",
       "      <td>-19.117</td>\n",
       "      <td>33.467</td>\n",
       "      <td>732.0</td>\n",
       "      <td>2014-12-27</td>\n",
       "      <td>NaN</td>\n",
       "      <td>NaN</td>\n",
       "      <td>24.9</td>\n",
       "      <td>H,,S</td>\n",
       "      <td>...</td>\n",
       "      <td>NaN</td>\n",
       "      <td>21.8</td>\n",
       "      <td>,,S</td>\n",
       "      <td>2014</td>\n",
       "      <td>Dec</td>\n",
       "      <td>Humid</td>\n",
       "      <td>1</td>\n",
       "      <td>0</td>\n",
       "      <td>1</td>\n",
       "      <td>0</td>\n",
       "    </tr>\n",
       "    <tr>\n",
       "      <th>14160</th>\n",
       "      <td>MZ000067295</td>\n",
       "      <td>CHIMOIO, MZ</td>\n",
       "      <td>-19.117</td>\n",
       "      <td>33.467</td>\n",
       "      <td>732.0</td>\n",
       "      <td>2014-12-28</td>\n",
       "      <td>NaN</td>\n",
       "      <td>NaN</td>\n",
       "      <td>25.9</td>\n",
       "      <td>H,,S</td>\n",
       "      <td>...</td>\n",
       "      <td>,,S</td>\n",
       "      <td>20.0</td>\n",
       "      <td>,,S</td>\n",
       "      <td>2014</td>\n",
       "      <td>Dec</td>\n",
       "      <td>Humid</td>\n",
       "      <td>1</td>\n",
       "      <td>0</td>\n",
       "      <td>0</td>\n",
       "      <td>0</td>\n",
       "    </tr>\n",
       "    <tr>\n",
       "      <th>14161</th>\n",
       "      <td>MZ000067295</td>\n",
       "      <td>CHIMOIO, MZ</td>\n",
       "      <td>-19.117</td>\n",
       "      <td>33.467</td>\n",
       "      <td>732.0</td>\n",
       "      <td>2014-12-29</td>\n",
       "      <td>23.1</td>\n",
       "      <td>,,S</td>\n",
       "      <td>24.3</td>\n",
       "      <td>H,,S</td>\n",
       "      <td>...</td>\n",
       "      <td>,,S</td>\n",
       "      <td>20.9</td>\n",
       "      <td>,,S</td>\n",
       "      <td>2014</td>\n",
       "      <td>Dec</td>\n",
       "      <td>Humid</td>\n",
       "      <td>0</td>\n",
       "      <td>0</td>\n",
       "      <td>0</td>\n",
       "      <td>0</td>\n",
       "    </tr>\n",
       "    <tr>\n",
       "      <th>14162</th>\n",
       "      <td>MZ000067295</td>\n",
       "      <td>CHIMOIO, MZ</td>\n",
       "      <td>-19.117</td>\n",
       "      <td>33.467</td>\n",
       "      <td>732.0</td>\n",
       "      <td>2014-12-30</td>\n",
       "      <td>45.0</td>\n",
       "      <td>,,S</td>\n",
       "      <td>22.9</td>\n",
       "      <td>H,,S</td>\n",
       "      <td>...</td>\n",
       "      <td>,,S</td>\n",
       "      <td>21.0</td>\n",
       "      <td>,,S</td>\n",
       "      <td>2014</td>\n",
       "      <td>Dec</td>\n",
       "      <td>Humid</td>\n",
       "      <td>0</td>\n",
       "      <td>0</td>\n",
       "      <td>0</td>\n",
       "      <td>0</td>\n",
       "    </tr>\n",
       "    <tr>\n",
       "      <th>14163</th>\n",
       "      <td>MZ000067295</td>\n",
       "      <td>CHIMOIO, MZ</td>\n",
       "      <td>-19.117</td>\n",
       "      <td>33.467</td>\n",
       "      <td>732.0</td>\n",
       "      <td>2014-12-31</td>\n",
       "      <td>33.0</td>\n",
       "      <td>,,S</td>\n",
       "      <td>21.6</td>\n",
       "      <td>H,,S</td>\n",
       "      <td>...</td>\n",
       "      <td>NaN</td>\n",
       "      <td>20.4</td>\n",
       "      <td>,,S</td>\n",
       "      <td>2014</td>\n",
       "      <td>Dec</td>\n",
       "      <td>Humid</td>\n",
       "      <td>0</td>\n",
       "      <td>0</td>\n",
       "      <td>1</td>\n",
       "      <td>0</td>\n",
       "    </tr>\n",
       "  </tbody>\n",
       "</table>\n",
       "<p>11475 rows × 21 columns</p>\n",
       "</div>"
      ],
      "text/plain": [
       "           STATION         NAME  LATITUDE  LONGITUDE  ELEVATION        DATE  \\\n",
       "2689   MZ000067295  CHIMOIO, MZ   -19.117     33.467      732.0  1970-01-01   \n",
       "2690   MZ000067295  CHIMOIO, MZ   -19.117     33.467      732.0  1970-01-02   \n",
       "2691   MZ000067295  CHIMOIO, MZ   -19.117     33.467      732.0  1970-01-03   \n",
       "2692   MZ000067295  CHIMOIO, MZ   -19.117     33.467      732.0  1970-01-04   \n",
       "2693   MZ000067295  CHIMOIO, MZ   -19.117     33.467      732.0  1970-01-05   \n",
       "...            ...          ...       ...        ...        ...         ...   \n",
       "14159  MZ000067295  CHIMOIO, MZ   -19.117     33.467      732.0  2014-12-27   \n",
       "14160  MZ000067295  CHIMOIO, MZ   -19.117     33.467      732.0  2014-12-28   \n",
       "14161  MZ000067295  CHIMOIO, MZ   -19.117     33.467      732.0  2014-12-29   \n",
       "14162  MZ000067295  CHIMOIO, MZ   -19.117     33.467      732.0  2014-12-30   \n",
       "14163  MZ000067295  CHIMOIO, MZ   -19.117     33.467      732.0  2014-12-31   \n",
       "\n",
       "       PRCP PRCP_ATTRIBUTES  TAVG TAVG_ATTRIBUTES  ...  TMAX_ATTRIBUTES  TMIN  \\\n",
       "2689    0.4             ,,Q   NaN             NaN  ...              ,,Q  20.7   \n",
       "2690    0.0             ,,Q   NaN             NaN  ...              ,,Q  21.2   \n",
       "2691    0.0             ,,Q   NaN             NaN  ...              ,,Q  20.5   \n",
       "2692    0.0             ,,Q   NaN             NaN  ...              ,,Q  19.2   \n",
       "2693    0.0             ,,Q   NaN             NaN  ...              ,,Q  20.2   \n",
       "...     ...             ...   ...             ...  ...              ...   ...   \n",
       "14159   NaN             NaN  24.9            H,,S  ...              NaN  21.8   \n",
       "14160   NaN             NaN  25.9            H,,S  ...              ,,S  20.0   \n",
       "14161  23.1             ,,S  24.3            H,,S  ...              ,,S  20.9   \n",
       "14162  45.0             ,,S  22.9            H,,S  ...              ,,S  21.0   \n",
       "14163  33.0             ,,S  21.6            H,,S  ...              NaN  20.4   \n",
       "\n",
       "       TMIN_ATTRIBUTES  Year  Month Season PRCP MISSING  TAVG MISSING  \\\n",
       "2689               ,,Q  1970    Jan  Humid            0             1   \n",
       "2690               ,,Q  1970    Jan  Humid            0             1   \n",
       "2691               ,,Q  1970    Jan  Humid            0             1   \n",
       "2692               ,,Q  1970    Jan  Humid            0             1   \n",
       "2693               ,,Q  1970    Jan  Humid            0             1   \n",
       "...                ...   ...    ...    ...          ...           ...   \n",
       "14159              ,,S  2014    Dec  Humid            1             0   \n",
       "14160              ,,S  2014    Dec  Humid            1             0   \n",
       "14161              ,,S  2014    Dec  Humid            0             0   \n",
       "14162              ,,S  2014    Dec  Humid            0             0   \n",
       "14163              ,,S  2014    Dec  Humid            0             0   \n",
       "\n",
       "       TMAX MISSING  TMIN MISSING  \n",
       "2689              0             0  \n",
       "2690              0             0  \n",
       "2691              0             0  \n",
       "2692              0             0  \n",
       "2693              0             0  \n",
       "...             ...           ...  \n",
       "14159             1             0  \n",
       "14160             0             0  \n",
       "14161             0             0  \n",
       "14162             0             0  \n",
       "14163             1             0  \n",
       "\n",
       "[11475 rows x 21 columns]"
      ]
     },
     "execution_count": 7,
     "metadata": {},
     "output_type": "execute_result"
    }
   ],
   "source": [
    "daily_sum_obs_from_NOAA_CHIMOIO"
   ]
  },
  {
   "cell_type": "markdown",
   "id": "8d2c4381",
   "metadata": {},
   "source": [
    "### Precipitation from Gorongosa "
   ]
  },
  {
   "cell_type": "code",
   "execution_count": 8,
   "id": "82906d06",
   "metadata": {},
   "outputs": [
    {
     "data": {
      "text/html": [
       "<div>\n",
       "<style scoped>\n",
       "    .dataframe tbody tr th:only-of-type {\n",
       "        vertical-align: middle;\n",
       "    }\n",
       "\n",
       "    .dataframe tbody tr th {\n",
       "        vertical-align: top;\n",
       "    }\n",
       "\n",
       "    .dataframe thead th {\n",
       "        text-align: right;\n",
       "    }\n",
       "</style>\n",
       "<table border=\"1\" class=\"dataframe\">\n",
       "  <thead>\n",
       "    <tr style=\"text-align: right;\">\n",
       "      <th></th>\n",
       "      <th>time</th>\n",
       "      <th>pr</th>\n",
       "      <th>Year</th>\n",
       "      <th>Month</th>\n",
       "      <th>Season</th>\n",
       "    </tr>\n",
       "  </thead>\n",
       "  <tbody>\n",
       "    <tr>\n",
       "      <th>0</th>\n",
       "      <td>1980-01-01</td>\n",
       "      <td>NaN</td>\n",
       "      <td>1980</td>\n",
       "      <td>Jan</td>\n",
       "      <td>Humid</td>\n",
       "    </tr>\n",
       "    <tr>\n",
       "      <th>1</th>\n",
       "      <td>1980-01-02</td>\n",
       "      <td>NaN</td>\n",
       "      <td>1980</td>\n",
       "      <td>Jan</td>\n",
       "      <td>Humid</td>\n",
       "    </tr>\n",
       "    <tr>\n",
       "      <th>2</th>\n",
       "      <td>1980-01-03</td>\n",
       "      <td>NaN</td>\n",
       "      <td>1980</td>\n",
       "      <td>Jan</td>\n",
       "      <td>Humid</td>\n",
       "    </tr>\n",
       "    <tr>\n",
       "      <th>3</th>\n",
       "      <td>1980-01-04</td>\n",
       "      <td>NaN</td>\n",
       "      <td>1980</td>\n",
       "      <td>Jan</td>\n",
       "      <td>Humid</td>\n",
       "    </tr>\n",
       "    <tr>\n",
       "      <th>4</th>\n",
       "      <td>1980-01-05</td>\n",
       "      <td>NaN</td>\n",
       "      <td>1980</td>\n",
       "      <td>Jan</td>\n",
       "      <td>Humid</td>\n",
       "    </tr>\n",
       "    <tr>\n",
       "      <th>...</th>\n",
       "      <td>...</td>\n",
       "      <td>...</td>\n",
       "      <td>...</td>\n",
       "      <td>...</td>\n",
       "      <td>...</td>\n",
       "    </tr>\n",
       "    <tr>\n",
       "      <th>14971</th>\n",
       "      <td>2020-12-27</td>\n",
       "      <td>2.7</td>\n",
       "      <td>2020</td>\n",
       "      <td>Dec</td>\n",
       "      <td>Humid</td>\n",
       "    </tr>\n",
       "    <tr>\n",
       "      <th>14972</th>\n",
       "      <td>2020-12-28</td>\n",
       "      <td>0.0</td>\n",
       "      <td>2020</td>\n",
       "      <td>Dec</td>\n",
       "      <td>Humid</td>\n",
       "    </tr>\n",
       "    <tr>\n",
       "      <th>14973</th>\n",
       "      <td>2020-12-29</td>\n",
       "      <td>0.0</td>\n",
       "      <td>2020</td>\n",
       "      <td>Dec</td>\n",
       "      <td>Humid</td>\n",
       "    </tr>\n",
       "    <tr>\n",
       "      <th>14974</th>\n",
       "      <td>2020-12-30</td>\n",
       "      <td>138.4</td>\n",
       "      <td>2020</td>\n",
       "      <td>Dec</td>\n",
       "      <td>Humid</td>\n",
       "    </tr>\n",
       "    <tr>\n",
       "      <th>14975</th>\n",
       "      <td>2020-12-31</td>\n",
       "      <td>80.4</td>\n",
       "      <td>2020</td>\n",
       "      <td>Dec</td>\n",
       "      <td>Humid</td>\n",
       "    </tr>\n",
       "  </tbody>\n",
       "</table>\n",
       "<p>14976 rows × 5 columns</p>\n",
       "</div>"
      ],
      "text/plain": [
       "             time     pr  Year Month Season\n",
       "0      1980-01-01    NaN  1980   Jan  Humid\n",
       "1      1980-01-02    NaN  1980   Jan  Humid\n",
       "2      1980-01-03    NaN  1980   Jan  Humid\n",
       "3      1980-01-04    NaN  1980   Jan  Humid\n",
       "4      1980-01-05    NaN  1980   Jan  Humid\n",
       "...           ...    ...   ...   ...    ...\n",
       "14971  2020-12-27    2.7  2020   Dec  Humid\n",
       "14972  2020-12-28    0.0  2020   Dec  Humid\n",
       "14973  2020-12-29    0.0  2020   Dec  Humid\n",
       "14974  2020-12-30  138.4  2020   Dec  Humid\n",
       "14975  2020-12-31   80.4  2020   Dec  Humid\n",
       "\n",
       "[14976 rows x 5 columns]"
      ]
     },
     "execution_count": 8,
     "metadata": {},
     "output_type": "execute_result"
    }
   ],
   "source": [
    "path = r'C:\\Users\\CLMRX\\COWI\\A248363 - Climate analysis - Documents\\General\\CRVA_tool\\Master_thesis\\Project\\3 - Implementation\\1 - Data\\1-BC\\DirecltyfromMoz\\Precipitation_Gorongosa_reformat.csv'\n",
    "pr_obs_gorongosa_from_gorongosa = pd.read_csv(path)\n",
    "pr_obs_gorongosa_from_gorongosa=add_year_month_season(pr_obs_gorongosa_from_gorongosa,'time')\n",
    "pr_obs_gorongosa_from_gorongosa['pr'][pr_obs_gorongosa_from_gorongosa['pr']=='s/i'] = pr_obs_gorongosa_from_gorongosa['pr'].iloc[0]\n",
    "pr_obs_gorongosa_from_gorongosa['pr'] = pr_obs_gorongosa_from_gorongosa['pr'].astype(float)\n",
    "pr_obs_gorongosa_from_gorongosa"
   ]
  },
  {
   "cell_type": "markdown",
   "id": "97f64bf4",
   "metadata": {},
   "source": [
    "## MODELED DATA"
   ]
  },
  {
   "cell_type": "markdown",
   "id": "a8cfd65a",
   "metadata": {},
   "source": [
    "### Precipitation NEX-GDDP-CMIP6"
   ]
  },
  {
   "cell_type": "code",
   "execution_count": 9,
   "id": "dd393350",
   "metadata": {},
   "outputs": [
    {
     "ename": "FileNotFoundError",
     "evalue": "[Errno 2] No such file or directory: '\\\\\\\\COWI.net\\\\projects\\\\A245000\\\\A248363\\\\CRVA\\\\Datasets\\\\NEX-GDDP-CMIP6-AllMoz\\\\csv_file\\\\pr\\\\pr_mm_per_day_day_2030-2065_BiasCorrected\\\\pr_mm_per_dayday2030-2065_BiasCorrected.csv'",
     "output_type": "error",
     "traceback": [
      "\u001b[1;31m---------------------------------------------------------------------------\u001b[0m",
      "\u001b[1;31mFileNotFoundError\u001b[0m                         Traceback (most recent call last)",
      "Cell \u001b[1;32mIn[9], line 2\u001b[0m\n\u001b[0;32m      1\u001b[0m \u001b[38;5;66;03m# to compare historic modelisation with NOAA observation data\u001b[39;00m\n\u001b[1;32m----> 2\u001b[0m pr_model_BC_NEX_GDDPCMIP6_to_comp_NOAA_past \u001b[38;5;241m=\u001b[39m \u001b[43mimport_BC_NEX_GDDP_CMIP6\u001b[49m\u001b[43m(\u001b[49m\u001b[38;5;124;43m'\u001b[39;49m\u001b[38;5;124;43mpr\u001b[39;49m\u001b[38;5;124;43m'\u001b[39;49m\u001b[43m,\u001b[49m\u001b[38;5;241;43m2030\u001b[39;49m\u001b[43m,\u001b[49m\u001b[38;5;241;43m2065\u001b[39;49m\u001b[43m)\u001b[49m\n",
      "File \u001b[1;32m~\\OneDrive - COWI\\Documents\\GitHub\\CRVA_tool\\Functions_ImportData.py:157\u001b[0m, in \u001b[0;36mimport_BC_NEX_GDDP_CMIP6\u001b[1;34m(climate_var, start_y, stop_y, resolution)\u001b[0m\n\u001b[0;32m    155\u001b[0m \u001b[38;5;28;01mif\u001b[39;00m \u001b[38;5;124m'\u001b[39m\u001b[38;5;124mtas\u001b[39m\u001b[38;5;124m'\u001b[39m \u001b[38;5;129;01min\u001b[39;00m climate_var:\n\u001b[0;32m    156\u001b[0m     unit \u001b[38;5;241m=\u001b[39m\u001b[38;5;124m'\u001b[39m\u001b[38;5;124mCelsius\u001b[39m\u001b[38;5;124m'\u001b[39m\n\u001b[1;32m--> 157\u001b[0m df\u001b[38;5;241m=\u001b[39m\u001b[43mpd\u001b[49m\u001b[38;5;241;43m.\u001b[39;49m\u001b[43mread_csv\u001b[49m\u001b[43m(\u001b[49m\u001b[43mos\u001b[49m\u001b[38;5;241;43m.\u001b[39;49m\u001b[43mpath\u001b[49m\u001b[38;5;241;43m.\u001b[39;49m\u001b[43mjoin\u001b[49m\u001b[43m(\u001b[49m\u001b[43mpath\u001b[49m\u001b[43m,\u001b[49m\u001b[43mclimate_var\u001b[49m\u001b[43m,\u001b[49m\u001b[43mclimate_var\u001b[49m\u001b[38;5;241;43m+\u001b[39;49m\u001b[38;5;124;43m'\u001b[39;49m\u001b[38;5;124;43m_\u001b[39;49m\u001b[38;5;124;43m'\u001b[39;49m\u001b[38;5;241;43m+\u001b[39;49m\u001b[43munit\u001b[49m\u001b[38;5;241;43m+\u001b[39;49m\u001b[38;5;124;43m'\u001b[39;49m\u001b[38;5;124;43m_\u001b[39;49m\u001b[38;5;124;43m'\u001b[39;49m\u001b[38;5;241;43m+\u001b[39;49m\u001b[43mresolution\u001b[49m\u001b[38;5;241;43m+\u001b[39;49m\u001b[38;5;124;43m'\u001b[39;49m\u001b[38;5;124;43m_\u001b[39;49m\u001b[38;5;124;43m'\u001b[39;49m\u001b[38;5;241;43m+\u001b[39;49m\u001b[38;5;28;43mstr\u001b[39;49m\u001b[43m(\u001b[49m\u001b[43mstart_y\u001b[49m\u001b[43m)\u001b[49m\u001b[38;5;241;43m+\u001b[39;49m\u001b[38;5;124;43m'\u001b[39;49m\u001b[38;5;124;43m-\u001b[39;49m\u001b[38;5;124;43m'\u001b[39;49m\u001b[38;5;241;43m+\u001b[39;49m\u001b[38;5;28;43mstr\u001b[39;49m\u001b[43m(\u001b[49m\u001b[43mstop_y\u001b[49m\u001b[43m)\u001b[49m\u001b[38;5;241;43m+\u001b[39;49m\u001b[38;5;124;43m'\u001b[39;49m\u001b[38;5;124;43m_BiasCorrected\u001b[39;49m\u001b[38;5;124;43m'\u001b[39;49m\u001b[43m,\u001b[49m\u001b[43mclimate_var\u001b[49m\u001b[38;5;241;43m+\u001b[39;49m\u001b[38;5;124;43m'\u001b[39;49m\u001b[38;5;124;43m_\u001b[39;49m\u001b[38;5;124;43m'\u001b[39;49m\u001b[38;5;241;43m+\u001b[39;49m\u001b[43munit\u001b[49m\u001b[38;5;241;43m+\u001b[39;49m\u001b[43mresolution\u001b[49m\u001b[38;5;241;43m+\u001b[39;49m\u001b[38;5;28;43mstr\u001b[39;49m\u001b[43m(\u001b[49m\u001b[43mstart_y\u001b[49m\u001b[43m)\u001b[49m\u001b[38;5;241;43m+\u001b[39;49m\u001b[38;5;124;43m'\u001b[39;49m\u001b[38;5;124;43m-\u001b[39;49m\u001b[38;5;124;43m'\u001b[39;49m\u001b[38;5;241;43m+\u001b[39;49m\u001b[38;5;28;43mstr\u001b[39;49m\u001b[43m(\u001b[49m\u001b[43mstop_y\u001b[49m\u001b[43m)\u001b[49m\u001b[38;5;241;43m+\u001b[39;49m\u001b[38;5;124;43m'\u001b[39;49m\u001b[38;5;124;43m_BiasCorrected.csv\u001b[39;49m\u001b[38;5;124;43m'\u001b[39;49m\u001b[43m)\u001b[49m\u001b[43m)\u001b[49m\n\u001b[0;32m    158\u001b[0m df\u001b[38;5;241m=\u001b[39mdf\u001b[38;5;241m.\u001b[39mdrop(\u001b[38;5;124m'\u001b[39m\u001b[38;5;124mUnnamed: 0\u001b[39m\u001b[38;5;124m'\u001b[39m,axis\u001b[38;5;241m=\u001b[39m\u001b[38;5;241m1\u001b[39m)\n\u001b[0;32m    159\u001b[0m \u001b[38;5;28;01mreturn\u001b[39;00m df\n",
      "File \u001b[1;32m~\\AppData\\Local\\miniconda3\\envs\\geodata\\lib\\site-packages\\pandas\\io\\parsers\\readers.py:912\u001b[0m, in \u001b[0;36mread_csv\u001b[1;34m(filepath_or_buffer, sep, delimiter, header, names, index_col, usecols, dtype, engine, converters, true_values, false_values, skipinitialspace, skiprows, skipfooter, nrows, na_values, keep_default_na, na_filter, verbose, skip_blank_lines, parse_dates, infer_datetime_format, keep_date_col, date_parser, date_format, dayfirst, cache_dates, iterator, chunksize, compression, thousands, decimal, lineterminator, quotechar, quoting, doublequote, escapechar, comment, encoding, encoding_errors, dialect, on_bad_lines, delim_whitespace, low_memory, memory_map, float_precision, storage_options, dtype_backend)\u001b[0m\n\u001b[0;32m    899\u001b[0m kwds_defaults \u001b[38;5;241m=\u001b[39m _refine_defaults_read(\n\u001b[0;32m    900\u001b[0m     dialect,\n\u001b[0;32m    901\u001b[0m     delimiter,\n\u001b[1;32m   (...)\u001b[0m\n\u001b[0;32m    908\u001b[0m     dtype_backend\u001b[38;5;241m=\u001b[39mdtype_backend,\n\u001b[0;32m    909\u001b[0m )\n\u001b[0;32m    910\u001b[0m kwds\u001b[38;5;241m.\u001b[39mupdate(kwds_defaults)\n\u001b[1;32m--> 912\u001b[0m \u001b[38;5;28;01mreturn\u001b[39;00m \u001b[43m_read\u001b[49m\u001b[43m(\u001b[49m\u001b[43mfilepath_or_buffer\u001b[49m\u001b[43m,\u001b[49m\u001b[43m \u001b[49m\u001b[43mkwds\u001b[49m\u001b[43m)\u001b[49m\n",
      "File \u001b[1;32m~\\AppData\\Local\\miniconda3\\envs\\geodata\\lib\\site-packages\\pandas\\io\\parsers\\readers.py:577\u001b[0m, in \u001b[0;36m_read\u001b[1;34m(filepath_or_buffer, kwds)\u001b[0m\n\u001b[0;32m    574\u001b[0m _validate_names(kwds\u001b[38;5;241m.\u001b[39mget(\u001b[38;5;124m\"\u001b[39m\u001b[38;5;124mnames\u001b[39m\u001b[38;5;124m\"\u001b[39m, \u001b[38;5;28;01mNone\u001b[39;00m))\n\u001b[0;32m    576\u001b[0m \u001b[38;5;66;03m# Create the parser.\u001b[39;00m\n\u001b[1;32m--> 577\u001b[0m parser \u001b[38;5;241m=\u001b[39m TextFileReader(filepath_or_buffer, \u001b[38;5;241m*\u001b[39m\u001b[38;5;241m*\u001b[39mkwds)\n\u001b[0;32m    579\u001b[0m \u001b[38;5;28;01mif\u001b[39;00m chunksize \u001b[38;5;129;01mor\u001b[39;00m iterator:\n\u001b[0;32m    580\u001b[0m     \u001b[38;5;28;01mreturn\u001b[39;00m parser\n",
      "File \u001b[1;32m~\\AppData\\Local\\miniconda3\\envs\\geodata\\lib\\site-packages\\pandas\\io\\parsers\\readers.py:1407\u001b[0m, in \u001b[0;36mTextFileReader.__init__\u001b[1;34m(self, f, engine, **kwds)\u001b[0m\n\u001b[0;32m   1404\u001b[0m     \u001b[38;5;28mself\u001b[39m\u001b[38;5;241m.\u001b[39moptions[\u001b[38;5;124m\"\u001b[39m\u001b[38;5;124mhas_index_names\u001b[39m\u001b[38;5;124m\"\u001b[39m] \u001b[38;5;241m=\u001b[39m kwds[\u001b[38;5;124m\"\u001b[39m\u001b[38;5;124mhas_index_names\u001b[39m\u001b[38;5;124m\"\u001b[39m]\n\u001b[0;32m   1406\u001b[0m \u001b[38;5;28mself\u001b[39m\u001b[38;5;241m.\u001b[39mhandles: IOHandles \u001b[38;5;241m|\u001b[39m \u001b[38;5;28;01mNone\u001b[39;00m \u001b[38;5;241m=\u001b[39m \u001b[38;5;28;01mNone\u001b[39;00m\n\u001b[1;32m-> 1407\u001b[0m \u001b[38;5;28mself\u001b[39m\u001b[38;5;241m.\u001b[39m_engine \u001b[38;5;241m=\u001b[39m \u001b[38;5;28;43mself\u001b[39;49m\u001b[38;5;241;43m.\u001b[39;49m\u001b[43m_make_engine\u001b[49m\u001b[43m(\u001b[49m\u001b[43mf\u001b[49m\u001b[43m,\u001b[49m\u001b[43m \u001b[49m\u001b[38;5;28;43mself\u001b[39;49m\u001b[38;5;241;43m.\u001b[39;49m\u001b[43mengine\u001b[49m\u001b[43m)\u001b[49m\n",
      "File \u001b[1;32m~\\AppData\\Local\\miniconda3\\envs\\geodata\\lib\\site-packages\\pandas\\io\\parsers\\readers.py:1661\u001b[0m, in \u001b[0;36mTextFileReader._make_engine\u001b[1;34m(self, f, engine)\u001b[0m\n\u001b[0;32m   1659\u001b[0m     \u001b[38;5;28;01mif\u001b[39;00m \u001b[38;5;124m\"\u001b[39m\u001b[38;5;124mb\u001b[39m\u001b[38;5;124m\"\u001b[39m \u001b[38;5;129;01mnot\u001b[39;00m \u001b[38;5;129;01min\u001b[39;00m mode:\n\u001b[0;32m   1660\u001b[0m         mode \u001b[38;5;241m+\u001b[39m\u001b[38;5;241m=\u001b[39m \u001b[38;5;124m\"\u001b[39m\u001b[38;5;124mb\u001b[39m\u001b[38;5;124m\"\u001b[39m\n\u001b[1;32m-> 1661\u001b[0m \u001b[38;5;28mself\u001b[39m\u001b[38;5;241m.\u001b[39mhandles \u001b[38;5;241m=\u001b[39m \u001b[43mget_handle\u001b[49m\u001b[43m(\u001b[49m\n\u001b[0;32m   1662\u001b[0m \u001b[43m    \u001b[49m\u001b[43mf\u001b[49m\u001b[43m,\u001b[49m\n\u001b[0;32m   1663\u001b[0m \u001b[43m    \u001b[49m\u001b[43mmode\u001b[49m\u001b[43m,\u001b[49m\n\u001b[0;32m   1664\u001b[0m \u001b[43m    \u001b[49m\u001b[43mencoding\u001b[49m\u001b[38;5;241;43m=\u001b[39;49m\u001b[38;5;28;43mself\u001b[39;49m\u001b[38;5;241;43m.\u001b[39;49m\u001b[43moptions\u001b[49m\u001b[38;5;241;43m.\u001b[39;49m\u001b[43mget\u001b[49m\u001b[43m(\u001b[49m\u001b[38;5;124;43m\"\u001b[39;49m\u001b[38;5;124;43mencoding\u001b[39;49m\u001b[38;5;124;43m\"\u001b[39;49m\u001b[43m,\u001b[49m\u001b[43m \u001b[49m\u001b[38;5;28;43;01mNone\u001b[39;49;00m\u001b[43m)\u001b[49m\u001b[43m,\u001b[49m\n\u001b[0;32m   1665\u001b[0m \u001b[43m    \u001b[49m\u001b[43mcompression\u001b[49m\u001b[38;5;241;43m=\u001b[39;49m\u001b[38;5;28;43mself\u001b[39;49m\u001b[38;5;241;43m.\u001b[39;49m\u001b[43moptions\u001b[49m\u001b[38;5;241;43m.\u001b[39;49m\u001b[43mget\u001b[49m\u001b[43m(\u001b[49m\u001b[38;5;124;43m\"\u001b[39;49m\u001b[38;5;124;43mcompression\u001b[39;49m\u001b[38;5;124;43m\"\u001b[39;49m\u001b[43m,\u001b[49m\u001b[43m \u001b[49m\u001b[38;5;28;43;01mNone\u001b[39;49;00m\u001b[43m)\u001b[49m\u001b[43m,\u001b[49m\n\u001b[0;32m   1666\u001b[0m \u001b[43m    \u001b[49m\u001b[43mmemory_map\u001b[49m\u001b[38;5;241;43m=\u001b[39;49m\u001b[38;5;28;43mself\u001b[39;49m\u001b[38;5;241;43m.\u001b[39;49m\u001b[43moptions\u001b[49m\u001b[38;5;241;43m.\u001b[39;49m\u001b[43mget\u001b[49m\u001b[43m(\u001b[49m\u001b[38;5;124;43m\"\u001b[39;49m\u001b[38;5;124;43mmemory_map\u001b[39;49m\u001b[38;5;124;43m\"\u001b[39;49m\u001b[43m,\u001b[49m\u001b[43m \u001b[49m\u001b[38;5;28;43;01mFalse\u001b[39;49;00m\u001b[43m)\u001b[49m\u001b[43m,\u001b[49m\n\u001b[0;32m   1667\u001b[0m \u001b[43m    \u001b[49m\u001b[43mis_text\u001b[49m\u001b[38;5;241;43m=\u001b[39;49m\u001b[43mis_text\u001b[49m\u001b[43m,\u001b[49m\n\u001b[0;32m   1668\u001b[0m \u001b[43m    \u001b[49m\u001b[43merrors\u001b[49m\u001b[38;5;241;43m=\u001b[39;49m\u001b[38;5;28;43mself\u001b[39;49m\u001b[38;5;241;43m.\u001b[39;49m\u001b[43moptions\u001b[49m\u001b[38;5;241;43m.\u001b[39;49m\u001b[43mget\u001b[49m\u001b[43m(\u001b[49m\u001b[38;5;124;43m\"\u001b[39;49m\u001b[38;5;124;43mencoding_errors\u001b[39;49m\u001b[38;5;124;43m\"\u001b[39;49m\u001b[43m,\u001b[49m\u001b[43m \u001b[49m\u001b[38;5;124;43m\"\u001b[39;49m\u001b[38;5;124;43mstrict\u001b[39;49m\u001b[38;5;124;43m\"\u001b[39;49m\u001b[43m)\u001b[49m\u001b[43m,\u001b[49m\n\u001b[0;32m   1669\u001b[0m \u001b[43m    \u001b[49m\u001b[43mstorage_options\u001b[49m\u001b[38;5;241;43m=\u001b[39;49m\u001b[38;5;28;43mself\u001b[39;49m\u001b[38;5;241;43m.\u001b[39;49m\u001b[43moptions\u001b[49m\u001b[38;5;241;43m.\u001b[39;49m\u001b[43mget\u001b[49m\u001b[43m(\u001b[49m\u001b[38;5;124;43m\"\u001b[39;49m\u001b[38;5;124;43mstorage_options\u001b[39;49m\u001b[38;5;124;43m\"\u001b[39;49m\u001b[43m,\u001b[49m\u001b[43m \u001b[49m\u001b[38;5;28;43;01mNone\u001b[39;49;00m\u001b[43m)\u001b[49m\u001b[43m,\u001b[49m\n\u001b[0;32m   1670\u001b[0m \u001b[43m\u001b[49m\u001b[43m)\u001b[49m\n\u001b[0;32m   1671\u001b[0m \u001b[38;5;28;01massert\u001b[39;00m \u001b[38;5;28mself\u001b[39m\u001b[38;5;241m.\u001b[39mhandles \u001b[38;5;129;01mis\u001b[39;00m \u001b[38;5;129;01mnot\u001b[39;00m \u001b[38;5;28;01mNone\u001b[39;00m\n\u001b[0;32m   1672\u001b[0m f \u001b[38;5;241m=\u001b[39m \u001b[38;5;28mself\u001b[39m\u001b[38;5;241m.\u001b[39mhandles\u001b[38;5;241m.\u001b[39mhandle\n",
      "File \u001b[1;32m~\\AppData\\Local\\miniconda3\\envs\\geodata\\lib\\site-packages\\pandas\\io\\common.py:859\u001b[0m, in \u001b[0;36mget_handle\u001b[1;34m(path_or_buf, mode, encoding, compression, memory_map, is_text, errors, storage_options)\u001b[0m\n\u001b[0;32m    854\u001b[0m \u001b[38;5;28;01melif\u001b[39;00m \u001b[38;5;28misinstance\u001b[39m(handle, \u001b[38;5;28mstr\u001b[39m):\n\u001b[0;32m    855\u001b[0m     \u001b[38;5;66;03m# Check whether the filename is to be opened in binary mode.\u001b[39;00m\n\u001b[0;32m    856\u001b[0m     \u001b[38;5;66;03m# Binary mode does not support 'encoding' and 'newline'.\u001b[39;00m\n\u001b[0;32m    857\u001b[0m     \u001b[38;5;28;01mif\u001b[39;00m ioargs\u001b[38;5;241m.\u001b[39mencoding \u001b[38;5;129;01mand\u001b[39;00m \u001b[38;5;124m\"\u001b[39m\u001b[38;5;124mb\u001b[39m\u001b[38;5;124m\"\u001b[39m \u001b[38;5;129;01mnot\u001b[39;00m \u001b[38;5;129;01min\u001b[39;00m ioargs\u001b[38;5;241m.\u001b[39mmode:\n\u001b[0;32m    858\u001b[0m         \u001b[38;5;66;03m# Encoding\u001b[39;00m\n\u001b[1;32m--> 859\u001b[0m         handle \u001b[38;5;241m=\u001b[39m \u001b[38;5;28;43mopen\u001b[39;49m\u001b[43m(\u001b[49m\n\u001b[0;32m    860\u001b[0m \u001b[43m            \u001b[49m\u001b[43mhandle\u001b[49m\u001b[43m,\u001b[49m\n\u001b[0;32m    861\u001b[0m \u001b[43m            \u001b[49m\u001b[43mioargs\u001b[49m\u001b[38;5;241;43m.\u001b[39;49m\u001b[43mmode\u001b[49m\u001b[43m,\u001b[49m\n\u001b[0;32m    862\u001b[0m \u001b[43m            \u001b[49m\u001b[43mencoding\u001b[49m\u001b[38;5;241;43m=\u001b[39;49m\u001b[43mioargs\u001b[49m\u001b[38;5;241;43m.\u001b[39;49m\u001b[43mencoding\u001b[49m\u001b[43m,\u001b[49m\n\u001b[0;32m    863\u001b[0m \u001b[43m            \u001b[49m\u001b[43merrors\u001b[49m\u001b[38;5;241;43m=\u001b[39;49m\u001b[43merrors\u001b[49m\u001b[43m,\u001b[49m\n\u001b[0;32m    864\u001b[0m \u001b[43m            \u001b[49m\u001b[43mnewline\u001b[49m\u001b[38;5;241;43m=\u001b[39;49m\u001b[38;5;124;43m\"\u001b[39;49m\u001b[38;5;124;43m\"\u001b[39;49m\u001b[43m,\u001b[49m\n\u001b[0;32m    865\u001b[0m \u001b[43m        \u001b[49m\u001b[43m)\u001b[49m\n\u001b[0;32m    866\u001b[0m     \u001b[38;5;28;01melse\u001b[39;00m:\n\u001b[0;32m    867\u001b[0m         \u001b[38;5;66;03m# Binary mode\u001b[39;00m\n\u001b[0;32m    868\u001b[0m         handle \u001b[38;5;241m=\u001b[39m \u001b[38;5;28mopen\u001b[39m(handle, ioargs\u001b[38;5;241m.\u001b[39mmode)\n",
      "\u001b[1;31mFileNotFoundError\u001b[0m: [Errno 2] No such file or directory: '\\\\\\\\COWI.net\\\\projects\\\\A245000\\\\A248363\\\\CRVA\\\\Datasets\\\\NEX-GDDP-CMIP6-AllMoz\\\\csv_file\\\\pr\\\\pr_mm_per_day_day_2030-2065_BiasCorrected\\\\pr_mm_per_dayday2030-2065_BiasCorrected.csv'"
     ]
    }
   ],
   "source": [
    "# to compare historic modelisation with NOAA observation data\n",
    "pr_model_BC_NEX_GDDPCMIP6_to_comp_NOAA_past = import_BC_NEX_GDDP_CMIP6('pr',2030,2065)"
   ]
  },
  {
   "cell_type": "code",
   "execution_count": null,
   "id": "8fccdda6",
   "metadata": {},
   "outputs": [],
   "source": [
    "set(pr_model_BC_NEX_GDDPCMIP6_to_comp_NOAA_past['Name project'])"
   ]
  },
  {
   "cell_type": "code",
   "execution_count": null,
   "id": "d895e1ce",
   "metadata": {},
   "outputs": [],
   "source": [
    "pr_model_BC_NEX_GDDPCMIP6_to_comp_NOAA_past_MUTUA=select_station(pr_model_BC_NEX_GDDPCMIP6_to_comp_NOAA_past,'Name project','WTP_Mutua_EIB')"
   ]
  },
  {
   "cell_type": "code",
   "execution_count": null,
   "id": "a86de933",
   "metadata": {},
   "outputs": [],
   "source": [
    "pr_model_BC_NEX_GDDPCMIP6_to_comp_NOAA_past_MUTUA"
   ]
  },
  {
   "cell_type": "code",
   "execution_count": null,
   "id": "3df95d1b",
   "metadata": {},
   "outputs": [],
   "source": [
    "pr_model_BC_NEX_GDDPCMIP6_to_comp_NOAA_past_GORONGOSA=select_station(pr_model_BC_NEX_GDDPCMIP6_to_comp_NOAA_past,'Name project','Gorongosa_EIB')"
   ]
  },
  {
   "cell_type": "markdown",
   "id": "05cce432",
   "metadata": {},
   "source": [
    "### Temperature NEX-GDDP-CMIP6"
   ]
  },
  {
   "cell_type": "code",
   "execution_count": null,
   "id": "c3cf2a2b",
   "metadata": {},
   "outputs": [],
   "source": [
    "# to compare with NOAA observation data\n",
    "path_model_tas_past = r'\\\\COWI.net\\projects\\A245000\\A248363\\CRVA\\Datasets\\NEX-GDDP-CMIP6-AllMoz\\csv_file\\tas\\tas_Celsius_day_1970-2014_closest_to_NOAA\\NEXGDDPCMIP6_at_same_emplacement_as_NOAA_stationPembaChimoioBeira_tas_1970-2014_projectsMoz.csv'\n",
    "tas_model_NEX_GDDPCMIP6_to_comp_NOAA_past = pd.read_csv(path_model_tas_past)\n",
    "tas_model_NEX_GDDPCMIP6_to_comp_NOAA_past=add_year_month_season(tas_model_NEX_GDDPCMIP6_to_comp_NOAA_past,'Date')\n",
    "tas_model_NEX_GDDPCMIP6_to_comp_NOAA_past = tas_model_NEX_GDDPCMIP6_to_comp_NOAA_past[tas_model_NEX_GDDPCMIP6_to_comp_NOAA_past['Year'].between(1970,2014)]\n",
    "tas_model_NEX_GDDPCMIP6_to_comp_NOAA_CHIMOIO_past = tas_model_NEX_GDDPCMIP6_to_comp_NOAA_past[tas_model_NEX_GDDPCMIP6_to_comp_NOAA_past['Name station']=='CHIMOIO, MZ']\n",
    "tas_model_NEX_GDDPCMIP6_to_comp_NOAA_PEMBA_past = tas_model_NEX_GDDPCMIP6_to_comp_NOAA_past[tas_model_NEX_GDDPCMIP6_to_comp_NOAA_past['Name station']=='PEMBA, MZ']\n",
    "tas_model_NEX_GDDPCMIP6_to_comp_NOAA_BEIRA_past = tas_model_NEX_GDDPCMIP6_to_comp_NOAA_past[tas_model_NEX_GDDPCMIP6_to_comp_NOAA_past['Name station']=='BEIRA, MZ']"
   ]
  },
  {
   "cell_type": "markdown",
   "id": "bf14fbb4",
   "metadata": {},
   "source": [
    "### Maximum temperature NEX-GDDP-CMIP6"
   ]
  },
  {
   "cell_type": "code",
   "execution_count": null,
   "id": "2faabbfe",
   "metadata": {},
   "outputs": [],
   "source": [
    "# to compare with NOAA observation data\n",
    "path = r'\\\\COWI.net\\projects\\A245000\\A248363\\CRVA\\Datasets\\NEX-GDDP-CMIP6-AllMoz\\csv_file\\tasmax\\tasmax_Celsius_day_1970-2014_closest_to_NOAA\\NEXGDDPCMIP6_at_same_emplacement_as_NOAA_stationPembaChimoioBeira_tasmax_1970-2014_projectsMoz.csv'\n",
    "tasmax_model_NEX_GDDPCMIP6_to_comp_NOAA_past = pd.read_csv(path)\n",
    "tasmax_model_NEX_GDDPCMIP6_to_comp_NOAA_past=add_year_month_season(tasmax_model_NEX_GDDPCMIP6_to_comp_NOAA_past,'Date')\n",
    "tasmax_model_NEX_GDDPCMIP6_to_comp_NOAA_CHIMOIO_past = tasmax_model_NEX_GDDPCMIP6_to_comp_NOAA_past[tasmax_model_NEX_GDDPCMIP6_to_comp_NOAA_past['Name station']=='CHIMOIO, MZ']\n",
    "tasmax_model_NEX_GDDPCMIP6_to_comp_NOAA_PEMBA_past = tasmax_model_NEX_GDDPCMIP6_to_comp_NOAA_past[tasmax_model_NEX_GDDPCMIP6_to_comp_NOAA_past['Name station']=='PEMBA, MZ']\n",
    "tasmax_model_NEX_GDDPCMIP6_to_comp_NOAA_BEIRA_past = tasmax_model_NEX_GDDPCMIP6_to_comp_NOAA_past[tasmax_model_NEX_GDDPCMIP6_to_comp_NOAA_past['Name station']=='BEIRA, MZ']"
   ]
  },
  {
   "cell_type": "code",
   "execution_count": null,
   "id": "7eff266a",
   "metadata": {},
   "outputs": [],
   "source": [
    "# to compare projections with NOAA observation data\n",
    "path_past_proj_tasmax = r'\\\\COWI.net\\projects\\A245000\\A248363\\CRVA\\Datasets\\NEX-GDDP-CMIP6-AllMoz\\csv_file\\tasmax\\tasmax_Celsius_day_1950-2100_Closest_to_NOAA\\NEXGDDPCMIP6_at_same_emplacement_as_NOAA_stationPembaChimoioBeira_tasmax_1950-2100.csv'\n",
    "tasmax_model_NEX_GDDPCMIP6_to_comp_NOAA_past_proj = pd.read_csv(path_past_proj_tasmax)\n",
    "tasmax_model_NEX_GDDPCMIP6_to_comp_NOAA_past_proj=add_year_month_season(tasmax_model_NEX_GDDPCMIP6_to_comp_NOAA_past_proj,'Date')\n",
    "tasmax_model_NEX_GDDPCMIP6_to_comp_NOAA_past_proj_CHIMOIO = tasmax_model_NEX_GDDPCMIP6_to_comp_NOAA_past_proj[tasmax_model_NEX_GDDPCMIP6_to_comp_NOAA_past_proj['Name station']=='CHIMOIO, MZ']\n",
    "tasmax_model_NEX_GDDPCMIP6_to_comp_NOAA_past_proj_PEMBA = tasmax_model_NEX_GDDPCMIP6_to_comp_NOAA_past_proj[tasmax_model_NEX_GDDPCMIP6_to_comp_NOAA_past_proj['Name station']=='PEMBA, MZ']\n",
    "tasmax_model_NEX_GDDPCMIP6_to_comp_NOAA_past_proj_BEIRA = tasmax_model_NEX_GDDPCMIP6_to_comp_NOAA_past_proj[tasmax_model_NEX_GDDPCMIP6_to_comp_NOAA_past_proj['Name station']=='BEIRA, MZ']"
   ]
  },
  {
   "cell_type": "markdown",
   "id": "dfa36787",
   "metadata": {},
   "source": [
    "### Minimum temperature NEX GDDP CMIP6"
   ]
  },
  {
   "cell_type": "code",
   "execution_count": null,
   "id": "7c40df38",
   "metadata": {},
   "outputs": [],
   "source": [
    "# to compare with NOAA observation data\n",
    "path = r'\\\\COWI.net\\projects\\A245000\\A248363\\CRVA\\Datasets\\NEX-GDDP-CMIP6-AllMoz\\csv_file\\tasmin\\tasmin_Celsius_day_1970-2014_closest_to_NOAA\\NEXGDDPCMIP6_at_same_emplacement_as_NOAA_stationPembaChimoioBeira_tasmin_1970-2014_projectsMoz.csv'\n",
    "tasmin_model_NEX_GDDPCMIP6_to_comp_NOAA_past = pd.read_csv(path)\n",
    "tasmin_model_NEX_GDDPCMIP6_to_comp_NOAA_past=add_year_month_season(tasmin_model_NEX_GDDPCMIP6_to_comp_NOAA_past,'Date')\n",
    "tasmin_model_NEX_GDDPCMIP6_to_comp_NOAA_CHIMOIO_past = tasmin_model_NEX_GDDPCMIP6_to_comp_NOAA_past[tasmin_model_NEX_GDDPCMIP6_to_comp_NOAA_past['Name station']=='CHIMOIO, MZ']\n",
    "tasmin_model_NEX_GDDPCMIP6_to_comp_NOAA_PEMBA_past = tasmin_model_NEX_GDDPCMIP6_to_comp_NOAA_past[tasmin_model_NEX_GDDPCMIP6_to_comp_NOAA_past['Name station']=='PEMBA, MZ']\n",
    "tasmin_model_NEX_GDDPCMIP6_to_comp_NOAA_BEIRA_past = tasmin_model_NEX_GDDPCMIP6_to_comp_NOAA_past[tasmin_model_NEX_GDDPCMIP6_to_comp_NOAA_past['Name station']=='BEIRA, MZ']"
   ]
  },
  {
   "cell_type": "markdown",
   "id": "047d12f6",
   "metadata": {},
   "source": [
    "# Compare NOAA station with NEX-GDDP-CMIP6 data at the same emplacement"
   ]
  },
  {
   "cell_type": "markdown",
   "id": "6288d60e",
   "metadata": {},
   "source": [
    "## Temperature"
   ]
  },
  {
   "cell_type": "code",
   "execution_count": null,
   "id": "65129aa9",
   "metadata": {},
   "outputs": [],
   "source": [
    "# beira"
   ]
  },
  {
   "cell_type": "code",
   "execution_count": null,
   "id": "eebd78a8",
   "metadata": {},
   "outputs": [],
   "source": [
    "daily_sum_obs_from_NOAA_BEIRA"
   ]
  },
  {
   "cell_type": "code",
   "execution_count": null,
   "id": "7427269e",
   "metadata": {},
   "outputs": [],
   "source": [
    "df_obs_Beira=daily_sum_obs_from_NOAA_BEIRA#[daily_sum_obs_from_NOAA_BEIRA['Year'].between(1974,2014)]"
   ]
  },
  {
   "cell_type": "code",
   "execution_count": null,
   "id": "5d061bb1",
   "metadata": {
    "scrolled": true
   },
   "outputs": [],
   "source": [
    "compare_3_lines('test','Mean','temperature',tas_model_NEX_GDDPCMIP6_to_comp_NOAA_BEIRA_past,'Daily Near-Surface Air Temperature °C','NEX-GDDP-CMIP6',df_obs_Beira,'TAVG','NOAA','Annual mean daily temperature °C','Beira')"
   ]
  },
  {
   "cell_type": "code",
   "execution_count": null,
   "id": "8d7c0eda",
   "metadata": {},
   "outputs": [],
   "source": [
    "cdf_plot_category_or_obs('Beira, MZ',df_initial=tas_model_NEX_GDDPCMIP6_to_comp_NOAA_BEIRA_past[['Model','Year','Daily Near-Surface Air Temperature °C']],name_column_df='Daily Near-Surface Air Temperature °C',source_df='NEX-GDDP-CMIP6',category='Model',obs_initial=df_obs_Beira,name_column_obs='TAVG',source_obs='NOAA')"
   ]
  },
  {
   "cell_type": "code",
   "execution_count": null,
   "id": "c22b73d3",
   "metadata": {},
   "outputs": [],
   "source": [
    "boxplots_('temperature',tas_model_NEX_GDDPCMIP6_to_comp_NOAA_BEIRA_past,'Daily Near-Surface Air Temperature °C',df_obs_Beira,'TAVG','Beira')"
   ]
  },
  {
   "cell_type": "code",
   "execution_count": null,
   "id": "c0859691",
   "metadata": {},
   "outputs": [],
   "source": [
    "# pemba"
   ]
  },
  {
   "cell_type": "code",
   "execution_count": null,
   "id": "45d0c439",
   "metadata": {},
   "outputs": [],
   "source": [
    "compare_3_lines('test','Mean','temperature',tas_model_NEX_GDDPCMIP6_to_comp_NOAA_PEMBA_past,'Daily Near-Surface Air Temperature °C','NEX-GDDP-CMIP6',daily_sum_obs_from_NOAA_PEMBA,'TAVG','NOAA','Annual mean daily temperature °C','Pemba')"
   ]
  },
  {
   "cell_type": "code",
   "execution_count": null,
   "id": "bbd020a2",
   "metadata": {},
   "outputs": [],
   "source": [
    "cdf_plot_category_or_obs('Pemba, MZ',df_initial=tas_model_NEX_GDDPCMIP6_to_comp_NOAA_PEMBA_past[['Model','Year','Daily Near-Surface Air Temperature °C']],name_column_df='Daily Near-Surface Air Temperature °C',source_df='NEX-GDDP-CMIP6',category='Model',obs_initial=daily_sum_obs_from_NOAA_PEMBA,name_column_obs='TAVG',source_obs='NOAA')"
   ]
  },
  {
   "cell_type": "code",
   "execution_count": null,
   "id": "e3de6b1b",
   "metadata": {},
   "outputs": [],
   "source": [
    "boxplots_('temperature',tas_model_NEX_GDDPCMIP6_to_comp_NOAA_PEMBA_past,'Daily Near-Surface Air Temperature °C',daily_sum_obs_from_NOAA_PEMBA,'TAVG','Pemba')"
   ]
  },
  {
   "cell_type": "code",
   "execution_count": null,
   "id": "182fa87a",
   "metadata": {},
   "outputs": [],
   "source": [
    "# Chimoio"
   ]
  },
  {
   "cell_type": "code",
   "execution_count": null,
   "id": "42e660ec",
   "metadata": {},
   "outputs": [],
   "source": [
    "df_obs_Chimoio=daily_sum_obs_from_NOAA_CHIMOIO#[daily_sum_obs_from_NOAA_CHIMOIO['Year'].between(1974,2014)]"
   ]
  },
  {
   "cell_type": "code",
   "execution_count": null,
   "id": "b9a69274",
   "metadata": {},
   "outputs": [],
   "source": [
    "compare_3_lines('test','Mean','temperature',tas_model_NEX_GDDPCMIP6_to_comp_NOAA_CHIMOIO_past,'Daily Near-Surface Air Temperature °C','NEX-GDDP-CMIP6',df_obs_Chimoio,'TAVG','NOAA','Annual mean daily temperature °C','Chimoio')"
   ]
  },
  {
   "cell_type": "code",
   "execution_count": null,
   "id": "303f8e30",
   "metadata": {},
   "outputs": [],
   "source": [
    "cdf_plot_category_or_obs('Chimoio, MZ',df_initial=tas_model_NEX_GDDPCMIP6_to_comp_NOAA_CHIMOIO_past[['Model','Year','Daily Near-Surface Air Temperature °C']],name_column_df='Daily Near-Surface Air Temperature °C',source_df='NEX-GDDP-CMIP6',category='Model',obs_initial=df_obs_Chimoio,name_column_obs='TAVG',source_obs='NOAA')"
   ]
  },
  {
   "cell_type": "code",
   "execution_count": null,
   "id": "f87cc3bd",
   "metadata": {},
   "outputs": [],
   "source": [
    "boxplots_('temperature',tas_model_NEX_GDDPCMIP6_to_comp_NOAA_CHIMOIO_past,'Daily Near-Surface Air Temperature °C',df_obs_Chimoio,'TAVG','Chimoio')"
   ]
  },
  {
   "cell_type": "markdown",
   "id": "73611e35",
   "metadata": {},
   "source": [
    "## Maximum temperature"
   ]
  },
  {
   "cell_type": "code",
   "execution_count": null,
   "id": "06c69d30",
   "metadata": {},
   "outputs": [],
   "source": [
    "# beira"
   ]
  },
  {
   "cell_type": "code",
   "execution_count": null,
   "id": "286e741b",
   "metadata": {},
   "outputs": [],
   "source": [
    "compare_3_lines('test','Mean','maximum temperature',tasmax_model_NEX_GDDPCMIP6_to_comp_NOAA_BEIRA_past,'Daily Maximum Near-Surface Air Temperature °C','NEX-GDDP-CMIP6',daily_sum_obs_from_NOAA_BEIRA,'TMAX','NOAA','Annual mean maximum daily temperature °C','Beira')"
   ]
  },
  {
   "cell_type": "code",
   "execution_count": null,
   "id": "b42d5237",
   "metadata": {},
   "outputs": [],
   "source": [
    "cdf_plot_category_or_obs('Beira, MZ',df_initial=tasmax_model_NEX_GDDPCMIP6_to_comp_NOAA_BEIRA_past[['Model','Year','Daily Maximum Near-Surface Air Temperature °C']],name_column_df='Daily Maximum Near-Surface Air Temperature °C',source_df='NEX-GDDP-CMIP6',category='Model',obs_initial=daily_sum_obs_from_NOAA_BEIRA,name_column_obs='TMAX',source_obs='NOAA')"
   ]
  },
  {
   "cell_type": "code",
   "execution_count": null,
   "id": "6b0ad028",
   "metadata": {},
   "outputs": [],
   "source": [
    "boxplots_('maximum temperature',tasmax_model_NEX_GDDPCMIP6_to_comp_NOAA_BEIRA_past,'Daily Maximum Near-Surface Air Temperature °C',daily_sum_obs_from_NOAA_BEIRA,'TMAX','Beira')"
   ]
  },
  {
   "cell_type": "code",
   "execution_count": null,
   "id": "1f4c2b85",
   "metadata": {},
   "outputs": [],
   "source": [
    "# pemba"
   ]
  },
  {
   "cell_type": "code",
   "execution_count": null,
   "id": "820c32e7",
   "metadata": {},
   "outputs": [],
   "source": [
    "compare_3_lines('test','Mean','maximum temperature',tasmax_model_NEX_GDDPCMIP6_to_comp_NOAA_PEMBA_past,'Daily Maximum Near-Surface Air Temperature °C',daily_sum_obs_from_NOAA_PEMBA,'TMAX','NOAA','Annual mean maximum daily temperature °C','PEMBA')"
   ]
  },
  {
   "cell_type": "code",
   "execution_count": null,
   "id": "bd68cd76",
   "metadata": {},
   "outputs": [],
   "source": [
    "cdf_plot_category_or_obs('Pemba, MZ',df_initial=tasmax_model_NEX_GDDPCMIP6_to_comp_NOAA_PEMBA_past[['Model','Year','Daily Maximum Near-Surface Air Temperature °C']],name_column_df='Daily Maximum Near-Surface Air Temperature °C',source_df='NEX-GDDP-CMIP6',category='Model',obs_initial=daily_sum_obs_from_NOAA_PEMBA,name_column_obs='TMAX',source_obs='NOAA')"
   ]
  },
  {
   "cell_type": "code",
   "execution_count": null,
   "id": "dfd67e5f",
   "metadata": {},
   "outputs": [],
   "source": [
    "boxplots_('maximum temperature',tasmax_model_NEX_GDDPCMIP6_to_comp_NOAA_PEMBA_past,'Daily Maximum Near-Surface Air Temperature °C',daily_sum_obs_from_NOAA_PEMBA,'TMAX','Pemba')"
   ]
  },
  {
   "cell_type": "code",
   "execution_count": null,
   "id": "b70d88f1",
   "metadata": {},
   "outputs": [],
   "source": [
    "df = tasmax_model_NEX_GDDPCMIP6_to_comp_NOAA_past_proj_PEMBA[['Experiment','Year','Model','Daily Maximum Near-Surface Air Temperature °C']]#.groupby(['Experiment','Year'])[['Daily Maximum Near-Surface Air Temperature °C']].mean().reset_index()\n",
    "cdf_plot_category_or_obs('Pemba, MZ',df_initial=df,name_column_df='Daily Maximum Near-Surface Air Temperature °C',source_df='NEX-GDDP-CMIP6',category='Experiment',obs_initial=daily_sum_obs_from_NOAA_PEMBA,name_column_obs='TMAX',source_obs='NOAA')"
   ]
  },
  {
   "cell_type": "code",
   "execution_count": null,
   "id": "4c99680a",
   "metadata": {},
   "outputs": [],
   "source": [
    "# chimoio"
   ]
  },
  {
   "cell_type": "code",
   "execution_count": null,
   "id": "b367cf1f",
   "metadata": {},
   "outputs": [],
   "source": [
    "compare_3_lines('test','Mean','maximum temperature',tasmax_model_NEX_GDDPCMIP6_to_comp_NOAA_CHIMOIO_past,'Daily Maximum Near-Surface Air Temperature °C','NEX-GDDP-CMIP6',daily_sum_obs_from_NOAA_CHIMOIO,'TMAX','NOAA','Annual mean maximum daily temperature °C','CHIMOIO')"
   ]
  },
  {
   "cell_type": "code",
   "execution_count": null,
   "id": "70debc9a",
   "metadata": {},
   "outputs": [],
   "source": [
    "cdf_plot_category_or_obs('Chimoio, MZ',df_initial=tasmax_model_NEX_GDDPCMIP6_to_comp_NOAA_CHIMOIO_past[['Model','Year','Daily Maximum Near-Surface Air Temperature °C']],name_column_df='Daily Maximum Near-Surface Air Temperature °C',source_df='NEX-GDDP-CMIP6',category='Model',obs_initial=daily_sum_obs_from_NOAA_CHIMOIO,name_column_obs='TMAX',source_obs='NOAA')"
   ]
  },
  {
   "cell_type": "code",
   "execution_count": null,
   "id": "dea54f5c",
   "metadata": {},
   "outputs": [],
   "source": [
    "boxplots_('maximum temperature',tasmax_model_NEX_GDDPCMIP6_to_comp_NOAA_CHIMOIO_past,'Daily Maximum Near-Surface Air Temperature °C',daily_sum_obs_from_NOAA_CHIMOIO,'TMAX','Chimoio')"
   ]
  },
  {
   "cell_type": "markdown",
   "id": "9f0394af",
   "metadata": {},
   "source": [
    "## Minimum temperature"
   ]
  },
  {
   "cell_type": "code",
   "execution_count": null,
   "id": "4d47b54d",
   "metadata": {},
   "outputs": [],
   "source": [
    "# Beira"
   ]
  },
  {
   "cell_type": "code",
   "execution_count": null,
   "id": "2eee1738",
   "metadata": {},
   "outputs": [],
   "source": [
    "compare_3_lines('test','Mean','minimum temperature',tasmin_model_NEX_GDDPCMIP6_to_comp_NOAA_BEIRA_past,'Daily Minimum Near-Surface Air Temperature °C','NEX-GDDP-CMIP6',daily_sum_obs_from_NOAA_BEIRA,'TMIN','NOAA','Annual mean daily minimum temperature °C','Beira')"
   ]
  },
  {
   "cell_type": "code",
   "execution_count": null,
   "id": "7dd5a2d4",
   "metadata": {},
   "outputs": [],
   "source": [
    "cdf_plot_category_or_obs('BEIRA, MZ',df_initial=tasmin_model_NEX_GDDPCMIP6_to_comp_NOAA_BEIRA_past[['Model','Year','Daily Minimum Near-Surface Air Temperature °C']],name_column_df='Daily Minimum Near-Surface Air Temperature °C',source_df='NEX-GDDP-CMIP6',category='Model',obs_initial=daily_sum_obs_from_NOAA_BEIRA,name_column_obs='TMIN',source_obs='NOAA')"
   ]
  },
  {
   "cell_type": "code",
   "execution_count": null,
   "id": "df55a197",
   "metadata": {},
   "outputs": [],
   "source": [
    "boxplots_('minimum temperature',tasmin_model_NEX_GDDPCMIP6_to_comp_NOAA_BEIRA_past,'Daily Minimum Near-Surface Air Temperature °C',daily_sum_obs_from_NOAA_BEIRA,'TMIN','Beira')"
   ]
  },
  {
   "cell_type": "code",
   "execution_count": null,
   "id": "453c1f37",
   "metadata": {},
   "outputs": [],
   "source": [
    "# pemba"
   ]
  },
  {
   "cell_type": "code",
   "execution_count": null,
   "id": "dc18c193",
   "metadata": {},
   "outputs": [],
   "source": [
    "compare_3_lines('test','Mean','minimum temperature',tasmin_model_NEX_GDDPCMIP6_to_comp_NOAA_PEMBA_past,'Daily Minimum Near-Surface Air Temperature °C',daily_sum_obs_from_NOAA_PEMBA,'TMIN','NOAA','Annual mean daily minimum temperature °C','Pemba')"
   ]
  },
  {
   "cell_type": "code",
   "execution_count": null,
   "id": "022175f1",
   "metadata": {},
   "outputs": [],
   "source": [
    "cdf_plot_category_or_obs('PEMBA, MZ',df_initial=tasmin_model_NEX_GDDPCMIP6_to_comp_NOAA_PEMBA_past[['Model','Year','Daily Minimum Near-Surface Air Temperature °C']],name_column_df='Daily Minimum Near-Surface Air Temperature °C',source_df='NEX-GDDP-CMIP6',category='Model',obs_initial=daily_sum_obs_from_NOAA_PEMBA,name_column_obs='TMIN',source_obs='NOAA')"
   ]
  },
  {
   "cell_type": "code",
   "execution_count": null,
   "id": "919a0906",
   "metadata": {},
   "outputs": [],
   "source": [
    "boxplots_('minimum temperature',tasmin_model_NEX_GDDPCMIP6_to_comp_NOAA_PEMBA_past,'Daily Minimum Near-Surface Air Temperature °C',daily_sum_obs_from_NOAA_PEMBA,'TMIN','Pemba')"
   ]
  },
  {
   "cell_type": "code",
   "execution_count": null,
   "id": "c0b6aea3",
   "metadata": {},
   "outputs": [],
   "source": [
    "# Chimoio"
   ]
  },
  {
   "cell_type": "code",
   "execution_count": null,
   "id": "54c77406",
   "metadata": {},
   "outputs": [],
   "source": [
    "compare_3_lines('test','Mean','minimum temperature',tasmin_model_NEX_GDDPCMIP6_to_comp_NOAA_CHIMOIO_past,'Daily Minimum Near-Surface Air Temperature °C','NEX-GDDP-CMIP6',daily_sum_obs_from_NOAA_CHIMOIO,'TMIN','NOAA','Annual mean daily minimum temperature °C','Chimoio')"
   ]
  },
  {
   "cell_type": "code",
   "execution_count": null,
   "id": "ac7189d9",
   "metadata": {},
   "outputs": [],
   "source": [
    "cdf_plot_category_or_obs('CHIMOIO, MZ',df_initial=tasmin_model_NEX_GDDPCMIP6_to_comp_NOAA_CHIMOIO_past[['Model','Year','Daily Minimum Near-Surface Air Temperature °C']],name_column_df='Daily Minimum Near-Surface Air Temperature °C',source_df='NEX-GDDP-CMIP6',category='Model',obs_initial=daily_sum_obs_from_NOAA_CHIMOIO,name_column_obs='TMIN',source_obs='NOAA')"
   ]
  },
  {
   "cell_type": "code",
   "execution_count": null,
   "id": "f39d0c82",
   "metadata": {},
   "outputs": [],
   "source": [
    "boxplots_('minimum temperature',tasmin_model_NEX_GDDPCMIP6_to_comp_NOAA_CHIMOIO_past,'Daily Minimum Near-Surface Air Temperature °C',daily_sum_obs_from_NOAA_CHIMOIO,'TMIN','Chimoio')"
   ]
  },
  {
   "cell_type": "markdown",
   "id": "094a6834",
   "metadata": {},
   "source": [
    "## Precipitation"
   ]
  },
  {
   "cell_type": "code",
   "execution_count": null,
   "id": "f4a046b4",
   "metadata": {},
   "outputs": [],
   "source": [
    "# Beira"
   ]
  },
  {
   "cell_type": "code",
   "execution_count": null,
   "id": "6724a51d",
   "metadata": {},
   "outputs": [],
   "source": [
    "compare_3_lines('test','Mean','precipitation',pr_model_BC_NEX_GDDPCMIP6_to_comp_NOAA_past_MUTUA,'Mean of the daily precipitation rate mm_per_day','NEX-GDDP-CMIP6',daily_sum_obs_from_NOAA_BEIRA,'PRCP','NOAA','Yearly mean of the mean daily precipitation rate mm/day','Beira')"
   ]
  },
  {
   "cell_type": "code",
   "execution_count": null,
   "id": "fd3f71d2",
   "metadata": {},
   "outputs": [],
   "source": [
    "cdf_plot_category_or_obs('Beira, MZ',df_initial=pr_model_BC_NEX_GDDPCMIP6_to_comp_NOAA_past_MUTUA[['Model','Year','Mean of the daily precipitation rate mm_per_day']],name_column_df='Mean of the daily precipitation rate mm_per_day',source_df='NEX-GDDP-CMIP6',category='Model',obs_initial=daily_sum_obs_from_NOAA_BEIRA,name_column_obs='PRCP',source_obs='NOAA')"
   ]
  },
  {
   "cell_type": "code",
   "execution_count": null,
   "id": "8bd8da7b",
   "metadata": {},
   "outputs": [],
   "source": [
    "boxplots_('precipitation',pr_model_BC_NEX_GDDPCMIP6_to_comp_NOAA_past_MUTUA,'Mean of the daily precipitation rate mm_per_day',daily_sum_obs_from_NOAA_BEIRA,'PRCP','Beira')"
   ]
  },
  {
   "cell_type": "code",
   "execution_count": null,
   "id": "821fc0d1",
   "metadata": {},
   "outputs": [],
   "source": [
    "# pemba"
   ]
  },
  {
   "cell_type": "code",
   "execution_count": null,
   "id": "d6fd9c5f",
   "metadata": {},
   "outputs": [],
   "source": [
    "compare_3_lines('test','Mean','precipitation',pr_model_NEX_GDDPCMIP6_to_comp_NOAA_PEMBA_past,'Mean of the daily precipitation rate mm/day','NEX-GDDP-CMIP6',daily_sum_obs_from_NOAA_PEMBA,'PRCP','NOAA','Yearly mean of the mean daily precipitation rate mm/day','Pemba')"
   ]
  },
  {
   "cell_type": "code",
   "execution_count": null,
   "id": "60e95f83",
   "metadata": {},
   "outputs": [],
   "source": [
    "cdf_plot_category_or_obs('Pemba, MZ',df_initial=pr_model_NEX_GDDPCMIP6_to_comp_NOAA_PEMBA_past[['Model','Year','Mean of the daily precipitation rate mm/day']],name_column_df='Mean of the daily precipitation rate mm/day',source_df='NEX-GDDP-CMIP6',category='Model',obs_initial=daily_sum_obs_from_NOAA_PEMBA,name_column_obs='PRCP',source_obs='NOAA')"
   ]
  },
  {
   "cell_type": "code",
   "execution_count": null,
   "id": "60ee4d8d",
   "metadata": {},
   "outputs": [],
   "source": [
    "boxplots_('precipitation',pr_model_NEX_GDDPCMIP6_to_comp_NOAA_PEMBA_past,'Mean of the daily precipitation rate mm/day',daily_sum_obs_from_NOAA_PEMBA,'PRCP','Pemba')"
   ]
  },
  {
   "cell_type": "code",
   "execution_count": null,
   "id": "1206d9d1",
   "metadata": {},
   "outputs": [],
   "source": [
    "# Chimoio"
   ]
  },
  {
   "cell_type": "code",
   "execution_count": null,
   "id": "c2e6b7c9",
   "metadata": {},
   "outputs": [],
   "source": [
    "compare_3_lines('test','Mean','precipitation',pr_model_NEX_GDDPCMIP6_to_comp_NOAA_CHIMOIO_past,'Mean of the daily precipitation rate mm/day','NEX-GDDP-CMIP6',daily_sum_obs_from_NOAA_CHIMOIO,'PRCP','NOAA','Yearly mean of the mean daily precipitation rate mm/day','Chimoio')"
   ]
  },
  {
   "cell_type": "code",
   "execution_count": null,
   "id": "a12ebcad",
   "metadata": {},
   "outputs": [],
   "source": [
    "cdf_plot_category_or_obs('Chimoio, MZ',df_initial=pr_model_NEX_GDDPCMIP6_to_comp_NOAA_CHIMOIO_past[['Model','Year','Mean of the daily precipitation rate mm/day']],name_column_df='Mean of the daily precipitation rate mm/day',source_df='NEX-GDDP-CMIP6',category='Model',obs_initial=daily_sum_obs_from_NOAA_CHIMOIO,name_column_obs='PRCP',source_obs='NOAA')"
   ]
  },
  {
   "cell_type": "code",
   "execution_count": null,
   "id": "338e765c",
   "metadata": {},
   "outputs": [],
   "source": [
    "boxplots_('precipitation',pr_model_NEX_GDDPCMIP6_to_comp_NOAA_CHIMOIO_past,'Mean of the daily precipitation rate mm/day',daily_sum_obs_from_NOAA_CHIMOIO,'PRCP','Chimoio')"
   ]
  },
  {
   "cell_type": "markdown",
   "id": "b5adf42c",
   "metadata": {},
   "source": [
    "# What needs to be changed ?\n",
    "## Which models need to be taken out ?"
   ]
  },
  {
   "cell_type": "markdown",
   "id": "2880b962",
   "metadata": {},
   "source": [
    "those graphs confirm that for precipitation and maximum temperature, no need to kill a model. But, for temperature and minimum temeprature, 'TAIESM1' and 'CMCC-CM2-SR5' are not following the trend. Take out those 2 models for all climate variable"
   ]
  },
  {
   "cell_type": "code",
   "execution_count": null,
   "id": "1ff7fe5b",
   "metadata": {},
   "outputs": [],
   "source": [
    "# take out models for maximum temperature\n",
    "tasmax_model_NEX_GDDPCMIP6_to_comp_NOAA_past = tasmax_model_NEX_GDDPCMIP6_to_comp_NOAA_past[tasmax_model_NEX_GDDPCMIP6_to_comp_NOAA_past['Model']!='CMCC-CM2-SR5']\n",
    "tasmax_model_NEX_GDDPCMIP6_to_comp_NOAA_past = tasmax_model_NEX_GDDPCMIP6_to_comp_NOAA_past[tasmax_model_NEX_GDDPCMIP6_to_comp_NOAA_past['Model']!='TaiESM1']\n",
    "\n",
    "tasmax_model_NEX_GDDPCMIP6_to_comp_NOAA_CHIMOIO_past = tasmax_model_NEX_GDDPCMIP6_to_comp_NOAA_past[tasmax_model_NEX_GDDPCMIP6_to_comp_NOAA_past['Name station']=='CHIMOIO, MZ']\n",
    "tasmax_model_NEX_GDDPCMIP6_to_comp_NOAA_PEMBA_past = tasmax_model_NEX_GDDPCMIP6_to_comp_NOAA_past[tasmax_model_NEX_GDDPCMIP6_to_comp_NOAA_past['Name station']=='PEMBA, MZ']\n",
    "tasmax_model_NEX_GDDPCMIP6_to_comp_NOAA_BEIRA_past = tasmax_model_NEX_GDDPCMIP6_to_comp_NOAA_past[tasmax_model_NEX_GDDPCMIP6_to_comp_NOAA_past['Name station']=='BEIRA, MZ']"
   ]
  },
  {
   "cell_type": "code",
   "execution_count": null,
   "id": "c389bbae",
   "metadata": {},
   "outputs": [],
   "source": [
    "# take out models for average temperature\n",
    "tas_model_NEX_GDDPCMIP6_to_comp_NOAA_past = tas_model_NEX_GDDPCMIP6_to_comp_NOAA_past[tas_model_NEX_GDDPCMIP6_to_comp_NOAA_past['Model']!='CMCC-CM2-SR5']\n",
    "tas_model_NEX_GDDPCMIP6_to_comp_NOAA_past = tas_model_NEX_GDDPCMIP6_to_comp_NOAA_past[tas_model_NEX_GDDPCMIP6_to_comp_NOAA_past['Model']!='TaiESM1']\n",
    "\n",
    "tas_model_NEX_GDDPCMIP6_to_comp_NOAA_CHIMOIO_past = tas_model_NEX_GDDPCMIP6_to_comp_NOAA_past[tas_model_NEX_GDDPCMIP6_to_comp_NOAA_past['Name station']=='CHIMOIO, MZ']\n",
    "tas_model_NEX_GDDPCMIP6_to_comp_NOAA_PEMBA_past = tas_model_NEX_GDDPCMIP6_to_comp_NOAA_past[tas_model_NEX_GDDPCMIP6_to_comp_NOAA_past['Name station']=='PEMBA, MZ']\n",
    "tas_model_NEX_GDDPCMIP6_to_comp_NOAA_BEIRA_past = tas_model_NEX_GDDPCMIP6_to_comp_NOAA_past[tas_model_NEX_GDDPCMIP6_to_comp_NOAA_past['Name station']=='BEIRA, MZ']"
   ]
  },
  {
   "cell_type": "code",
   "execution_count": null,
   "id": "3673f88a",
   "metadata": {},
   "outputs": [],
   "source": [
    "# take out models for maximum temperature\n",
    "tasmax_model_NEX_GDDPCMIP6_to_comp_NOAA_past = tasmax_model_NEX_GDDPCMIP6_to_comp_NOAA_past[tasmax_model_NEX_GDDPCMIP6_to_comp_NOAA_past['Model']!='CMCC-CM2-SR5']\n",
    "tasmax_model_NEX_GDDPCMIP6_to_comp_NOAA_past = tasmax_model_NEX_GDDPCMIP6_to_comp_NOAA_past[tasmax_model_NEX_GDDPCMIP6_to_comp_NOAA_past['Model']!='TaiESM1']\n",
    "\n",
    "tasmax_model_NEX_GDDPCMIP6_to_comp_NOAA_CHIMOIO_past = tasmax_model_NEX_GDDPCMIP6_to_comp_NOAA_past[tasmax_model_NEX_GDDPCMIP6_to_comp_NOAA_past['Name station']=='CHIMOIO, MZ']\n",
    "tasmax_model_NEX_GDDPCMIP6_to_comp_NOAA_PEMBA_past = tasmax_model_NEX_GDDPCMIP6_to_comp_NOAA_past[tasmax_model_NEX_GDDPCMIP6_to_comp_NOAA_past['Name station']=='PEMBA, MZ']\n",
    "tasmax_model_NEX_GDDPCMIP6_to_comp_NOAA_BEIRA_past = tasmax_model_NEX_GDDPCMIP6_to_comp_NOAA_past[tasmax_model_NEX_GDDPCMIP6_to_comp_NOAA_past['Name station']=='BEIRA, MZ']"
   ]
  },
  {
   "cell_type": "code",
   "execution_count": null,
   "id": "c09ebf4f",
   "metadata": {},
   "outputs": [],
   "source": [
    "# take out models for minimum temperature\n",
    "tasmin_model_NEX_GDDPCMIP6_to_comp_NOAA_past = tasmin_model_NEX_GDDPCMIP6_to_comp_NOAA_past[tasmin_model_NEX_GDDPCMIP6_to_comp_NOAA_past['Model']!='CMCC-CM2-SR5']\n",
    "tasmin_model_NEX_GDDPCMIP6_to_comp_NOAA_past = tasmin_model_NEX_GDDPCMIP6_to_comp_NOAA_past[tasmin_model_NEX_GDDPCMIP6_to_comp_NOAA_past['Model']!='TaiESM1']\n",
    "\n",
    "tasmin_model_NEX_GDDPCMIP6_to_comp_NOAA_CHIMOIO_past = tasmin_model_NEX_GDDPCMIP6_to_comp_NOAA_past[tasmin_model_NEX_GDDPCMIP6_to_comp_NOAA_past['Name station']=='CHIMOIO, MZ']\n",
    "tasmin_model_NEX_GDDPCMIP6_to_comp_NOAA_PEMBA_past = tasmin_model_NEX_GDDPCMIP6_to_comp_NOAA_past[tasmin_model_NEX_GDDPCMIP6_to_comp_NOAA_past['Name station']=='PEMBA, MZ']\n",
    "tasmin_model_NEX_GDDPCMIP6_to_comp_NOAA_BEIRA_past = tasmin_model_NEX_GDDPCMIP6_to_comp_NOAA_past[tasmin_model_NEX_GDDPCMIP6_to_comp_NOAA_past['Name station']=='BEIRA, MZ']"
   ]
  },
  {
   "cell_type": "markdown",
   "id": "bc6ed224",
   "metadata": {},
   "source": [
    "## Temperature : take out some models"
   ]
  },
  {
   "cell_type": "code",
   "execution_count": null,
   "id": "097138b9",
   "metadata": {},
   "outputs": [],
   "source": [
    "tas_model_NEX_GDDPCMIP6_to_comp_NOAA_past = tas_model_NEX_GDDPCMIP6_to_comp_NOAA_past[tas_model_NEX_GDDPCMIP6_to_comp_NOAA_past['Model']!='TaiESM1']"
   ]
  },
  {
   "cell_type": "code",
   "execution_count": null,
   "id": "bab45d8b",
   "metadata": {},
   "outputs": [],
   "source": [
    "tas_model_NEX_GDDPCMIP6_to_comp_NOAA_past = tas_model_NEX_GDDPCMIP6_to_comp_NOAA_past[tas_model_NEX_GDDPCMIP6_to_comp_NOAA_past['Model']!='CMCC-CM2-SR5']"
   ]
  },
  {
   "cell_type": "code",
   "execution_count": null,
   "id": "a8d00696",
   "metadata": {},
   "outputs": [],
   "source": [
    "tas_model_NEX_GDDPCMIP6_to_comp_NOAA_CHIMOIO_past = tas_model_NEX_GDDPCMIP6_to_comp_NOAA_past[tas_model_NEX_GDDPCMIP6_to_comp_NOAA_past['Name station']=='CHIMOIO, MZ']\n",
    "tas_model_NEX_GDDPCMIP6_to_comp_NOAA_PEMBA_past = tas_model_NEX_GDDPCMIP6_to_comp_NOAA_past[tas_model_NEX_GDDPCMIP6_to_comp_NOAA_past['Name station']=='PEMBA, MZ']\n",
    "tas_model_NEX_GDDPCMIP6_to_comp_NOAA_BEIRA_past = tas_model_NEX_GDDPCMIP6_to_comp_NOAA_past[tas_model_NEX_GDDPCMIP6_to_comp_NOAA_past['Name station']=='BEIRA, MZ']"
   ]
  },
  {
   "cell_type": "code",
   "execution_count": null,
   "id": "9d8b87f9",
   "metadata": {},
   "outputs": [],
   "source": [
    "compare_3_lines('test','Mean','temperature',tas_model_NEX_GDDPCMIP6_to_comp_NOAA_BEIRA_past,'Daily Near-Surface Air Temperature °C',daily_sum_obs_from_NOAA_BEIRA,'TAVG','NOAA','Annual mean daily temperature °C','Beira')"
   ]
  },
  {
   "cell_type": "code",
   "execution_count": null,
   "id": "dbbeadfe",
   "metadata": {},
   "outputs": [],
   "source": [
    "cdf_plot_category_or_obs('Beira, MZ',df_initial=tas_model_NEX_GDDPCMIP6_to_comp_NOAA_BEIRA_past[['Model','Year','Daily Near-Surface Air Temperature °C']],name_column_df='Daily Near-Surface Air Temperature °C',source_df='NEX-GDDP-CMIP6',category='Model',obs_initial=daily_sum_obs_from_NOAA_BEIRA,name_column_obs='TAVG',source_obs='NOAA')"
   ]
  },
  {
   "cell_type": "code",
   "execution_count": null,
   "id": "1eec3caf",
   "metadata": {},
   "outputs": [],
   "source": [
    "boxplots_('temperature',tas_model_NEX_GDDPCMIP6_to_comp_NOAA_BEIRA_past,'Daily Near-Surface Air Temperature °C',daily_sum_obs_from_NOAA_BEIRA,'TAVG','Beira')"
   ]
  },
  {
   "cell_type": "code",
   "execution_count": null,
   "id": "be187c4d",
   "metadata": {},
   "outputs": [],
   "source": [
    "compare_3_lines('test','Mean','temperature',tas_model_NEX_GDDPCMIP6_to_comp_NOAA_PEMBA_past,'Daily Near-Surface Air Temperature °C',daily_sum_obs_from_NOAA_PEMBA,'TAVG','NOAA','Annual mean daily temperature °C','Pemba')"
   ]
  },
  {
   "cell_type": "code",
   "execution_count": null,
   "id": "9470e77c",
   "metadata": {},
   "outputs": [],
   "source": [
    "cdf_plot_category_or_obs('Pemba, MZ',df_initial=tas_model_NEX_GDDPCMIP6_to_comp_NOAA_PEMBA_past[['Model','Year','Daily Near-Surface Air Temperature °C']],name_column_df='Daily Near-Surface Air Temperature °C',source_df='NEX-GDDP-CMIP6',category='Model',obs_initial=daily_sum_obs_from_NOAA_PEMBA,name_column_obs='TAVG',source_obs='NOAA')"
   ]
  },
  {
   "cell_type": "code",
   "execution_count": null,
   "id": "c8abe2dd",
   "metadata": {},
   "outputs": [],
   "source": [
    "boxplots_('temperature',tas_model_NEX_GDDPCMIP6_to_comp_NOAA_PEMBA_past,'Daily Near-Surface Air Temperature °C',daily_sum_obs_from_NOAA_PEMBA,'TAVG','Pemba')"
   ]
  },
  {
   "cell_type": "code",
   "execution_count": null,
   "id": "c7850a10",
   "metadata": {},
   "outputs": [],
   "source": [
    "compare_3_lines('test','Mean','temperature',tas_model_NEX_GDDPCMIP6_to_comp_NOAA_CHIMOIO_past,'Daily Near-Surface Air Temperature °C',daily_sum_obs_from_NOAA_CHIMOIO,'TAVG','NOAA','Annual mean daily temperature °C','Chimoio')"
   ]
  },
  {
   "cell_type": "code",
   "execution_count": null,
   "id": "a79b22cc",
   "metadata": {},
   "outputs": [],
   "source": [
    "cdf_plot_category_or_obs('Chimoio, MZ',df_initial=tas_model_NEX_GDDPCMIP6_to_comp_NOAA_CHIMOIO_past[['Model','Year','Daily Near-Surface Air Temperature °C']],name_column_df='Daily Near-Surface Air Temperature °C',source_df='NEX-GDDP-CMIP6',category='Model',obs_initial=daily_sum_obs_from_NOAA_CHIMOIO,name_column_obs='TAVG',source_obs='NOAA')"
   ]
  },
  {
   "cell_type": "code",
   "execution_count": null,
   "id": "aefb4843",
   "metadata": {},
   "outputs": [],
   "source": [
    "boxplots_('temperature',tas_model_NEX_GDDPCMIP6_to_comp_NOAA_CHIMOIO_past,'Daily Near-Surface Air Temperature °C',daily_sum_obs_from_NOAA_CHIMOIO,'TAVG','CHIMOIO')"
   ]
  },
  {
   "cell_type": "markdown",
   "id": "ed283030",
   "metadata": {},
   "source": [
    "## Maximum temperature : take out some models (the ones that were not performing well for average temperature) from modelled data and some extreme values that are not plausible from observation data"
   ]
  },
  {
   "cell_type": "code",
   "execution_count": null,
   "id": "1482f9b7",
   "metadata": {},
   "outputs": [],
   "source": [
    "# take out models \n",
    "tasmax_model_NEX_GDDPCMIP6_to_comp_NOAA_past = tasmax_model_NEX_GDDPCMIP6_to_comp_NOAA_past[tasmax_model_NEX_GDDPCMIP6_to_comp_NOAA_past['Model']!='CMCC-CM2-SR5']\n",
    "tasmax_model_NEX_GDDPCMIP6_to_comp_NOAA_past = tasmax_model_NEX_GDDPCMIP6_to_comp_NOAA_past[tasmax_model_NEX_GDDPCMIP6_to_comp_NOAA_past['Model']!='TaiESM1']"
   ]
  },
  {
   "cell_type": "code",
   "execution_count": null,
   "id": "db428352",
   "metadata": {},
   "outputs": [],
   "source": [
    "tasmax_model_NEX_GDDPCMIP6_to_comp_NOAA_CHIMOIO_past = tasmax_model_NEX_GDDPCMIP6_to_comp_NOAA_past[tasmax_model_NEX_GDDPCMIP6_to_comp_NOAA_past['Name station']=='CHIMOIO, MZ']\n",
    "tasmax_model_NEX_GDDPCMIP6_to_comp_NOAA_PEMBA_past = tasmax_model_NEX_GDDPCMIP6_to_comp_NOAA_past[tasmax_model_NEX_GDDPCMIP6_to_comp_NOAA_past['Name station']=='PEMBA, MZ']\n",
    "tasmax_model_NEX_GDDPCMIP6_to_comp_NOAA_BEIRA_past = tasmax_model_NEX_GDDPCMIP6_to_comp_NOAA_past[tasmax_model_NEX_GDDPCMIP6_to_comp_NOAA_past['Name station']=='BEIRA, MZ']"
   ]
  },
  {
   "cell_type": "code",
   "execution_count": null,
   "id": "26759e78",
   "metadata": {},
   "outputs": [],
   "source": [
    "# chimoio"
   ]
  },
  {
   "cell_type": "code",
   "execution_count": null,
   "id": "6ab6416e",
   "metadata": {},
   "outputs": [],
   "source": [
    "compare_3_lines('test','Mean','maximum temperature',tasmax_model_NEX_GDDPCMIP6_to_comp_NOAA_CHIMOIO_past,'Daily Maximum Near-Surface Air Temperature °C',daily_sum_obs_from_NOAA_CHIMOIO,'TMAX','NOAA','Annual mean daily maximum temperature °C','Chimoio')"
   ]
  },
  {
   "cell_type": "code",
   "execution_count": null,
   "id": "dde3b1db",
   "metadata": {},
   "outputs": [],
   "source": [
    "cdf_plot_category_or_obs('CHIMOIO, MZ',df_initial=tasmax_model_NEX_GDDPCMIP6_to_comp_NOAA_CHIMOIO_past[['Model','Year','Daily Maximum Near-Surface Air Temperature °C']],name_column_df='Daily Maximum Near-Surface Air Temperature °C',source_df='NEX-GDDP-CMIP6',category='Model',obs_initial=daily_sum_obs_from_NOAA_CHIMOIO,name_column_obs='TMAX',source_obs='NOAA')"
   ]
  },
  {
   "cell_type": "code",
   "execution_count": null,
   "id": "a980c662",
   "metadata": {},
   "outputs": [],
   "source": [
    "boxplots_('maximum temperature',tasmax_model_NEX_GDDPCMIP6_to_comp_NOAA_CHIMOIO_past,'Daily Maximum Near-Surface Air Temperature °C',daily_sum_obs_from_NOAA_CHIMOIO,'TMAX','Chimoio')"
   ]
  },
  {
   "cell_type": "code",
   "execution_count": null,
   "id": "ffb89a00",
   "metadata": {},
   "outputs": [],
   "source": [
    "# pemba"
   ]
  },
  {
   "cell_type": "code",
   "execution_count": null,
   "id": "9d2a1415",
   "metadata": {},
   "outputs": [],
   "source": [
    "compare_3_lines('test','Mean','maximum temperature',tasmax_model_NEX_GDDPCMIP6_to_comp_NOAA_PEMBA_past,'Daily Maximum Near-Surface Air Temperature °C',daily_sum_obs_from_NOAA_PEMBA,'TMAX','NOAA','Annual mean daily maximum temperature °C','Pemba')"
   ]
  },
  {
   "cell_type": "code",
   "execution_count": null,
   "id": "9c5f8cbc",
   "metadata": {},
   "outputs": [],
   "source": [
    "cdf_plot_category_or_obs('PEMBA, MZ',df_initial=tasmax_model_NEX_GDDPCMIP6_to_comp_NOAA_PEMBA_past[['Model','Year','Daily Maximum Near-Surface Air Temperature °C']],name_column_df='Daily Maximum Near-Surface Air Temperature °C',source_df='NEX-GDDP-CMIP6',category='Model',obs_initial=daily_sum_obs_from_NOAA_PEMBA,name_column_obs='TMAX',source_obs='NOAA')"
   ]
  },
  {
   "cell_type": "code",
   "execution_count": null,
   "id": "b03a16b3",
   "metadata": {},
   "outputs": [],
   "source": [
    "boxplots_('maximum temperature',tasmax_model_NEX_GDDPCMIP6_to_comp_NOAA_PEMBA_past,'Daily Maximum Near-Surface Air Temperature °C',daily_sum_obs_from_NOAA_PEMBA,'TMAX','Pemba')"
   ]
  },
  {
   "cell_type": "code",
   "execution_count": null,
   "id": "8adb7e1f",
   "metadata": {},
   "outputs": [],
   "source": [
    "# Beira"
   ]
  },
  {
   "cell_type": "code",
   "execution_count": null,
   "id": "95e2cdaa",
   "metadata": {},
   "outputs": [],
   "source": [
    "compare_3_lines('test','Mean','maximum temperature',tasmax_model_NEX_GDDPCMIP6_to_comp_NOAA_BEIRA_past,'Daily Maximum Near-Surface Air Temperature °C',daily_sum_obs_from_NOAA_BEIRA,'TMAX','NOAA','Annual mean daily maximum temperature °C','Beira')"
   ]
  },
  {
   "cell_type": "code",
   "execution_count": null,
   "id": "53eef34b",
   "metadata": {},
   "outputs": [],
   "source": [
    "cdf_plot_category_or_obs('Beira, MZ',df_initial=tasmax_model_NEX_GDDPCMIP6_to_comp_NOAA_BEIRA_past[['Model','Year','Daily Maximum Near-Surface Air Temperature °C']],name_column_df='Daily Maximum Near-Surface Air Temperature °C',source_df='NEX-GDDP-CMIP6',category='Model',obs_initial=daily_sum_obs_from_NOAA_BEIRA,name_column_obs='TMAX',source_obs='NOAA')"
   ]
  },
  {
   "cell_type": "code",
   "execution_count": null,
   "id": "420b520c",
   "metadata": {},
   "outputs": [],
   "source": [
    "boxplots_('maximum temperature',tasmax_model_NEX_GDDPCMIP6_to_comp_NOAA_BEIRA_past,'Daily Maximum Near-Surface Air Temperature °C',daily_sum_obs_from_NOAA_BEIRA,'TMAX','Beira')"
   ]
  },
  {
   "cell_type": "code",
   "execution_count": null,
   "id": "d7a64264",
   "metadata": {},
   "outputs": [],
   "source": []
  },
  {
   "cell_type": "code",
   "execution_count": null,
   "id": "426a195a",
   "metadata": {},
   "outputs": [],
   "source": []
  },
  {
   "cell_type": "code",
   "execution_count": null,
   "id": "30cbbc74",
   "metadata": {},
   "outputs": [],
   "source": []
  },
  {
   "cell_type": "code",
   "execution_count": null,
   "id": "1f3483af",
   "metadata": {},
   "outputs": [],
   "source": []
  },
  {
   "cell_type": "code",
   "execution_count": null,
   "id": "7b76b279",
   "metadata": {},
   "outputs": [],
   "source": []
  },
  {
   "cell_type": "code",
   "execution_count": null,
   "id": "59c2212d",
   "metadata": {},
   "outputs": [],
   "source": []
  },
  {
   "cell_type": "code",
   "execution_count": null,
   "id": "2ff49a2a",
   "metadata": {},
   "outputs": [],
   "source": []
  },
  {
   "cell_type": "code",
   "execution_count": null,
   "id": "d25f2766",
   "metadata": {},
   "outputs": [],
   "source": []
  },
  {
   "cell_type": "code",
   "execution_count": null,
   "id": "289893bf",
   "metadata": {},
   "outputs": [],
   "source": []
  },
  {
   "cell_type": "code",
   "execution_count": null,
   "id": "e5446e81",
   "metadata": {},
   "outputs": [],
   "source": []
  },
  {
   "cell_type": "code",
   "execution_count": null,
   "id": "5a10ce26",
   "metadata": {},
   "outputs": [],
   "source": []
  },
  {
   "cell_type": "code",
   "execution_count": null,
   "id": "57de20c6",
   "metadata": {},
   "outputs": [],
   "source": []
  },
  {
   "cell_type": "code",
   "execution_count": null,
   "id": "1d4aa809",
   "metadata": {},
   "outputs": [],
   "source": []
  }
 ],
 "metadata": {
  "kernelspec": {
   "display_name": "Python 3 (ipykernel)",
   "language": "python",
   "name": "python3"
  },
  "language_info": {
   "codemirror_mode": {
    "name": "ipython",
    "version": 3
   },
   "file_extension": ".py",
   "mimetype": "text/x-python",
   "name": "python",
   "nbconvert_exporter": "python",
   "pygments_lexer": "ipython3",
   "version": "3.10.6"
  }
 },
 "nbformat": 4,
 "nbformat_minor": 5
}
