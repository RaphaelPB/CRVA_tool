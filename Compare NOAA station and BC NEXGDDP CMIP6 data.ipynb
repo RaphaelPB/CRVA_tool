{
 "cells": [
  {
   "cell_type": "markdown",
   "id": "115184df",
   "metadata": {},
   "source": [
    "This notebook contains the comparaison between observed and modeled NEX GDDP CMIP6 data.\n",
    "\n",
    "Notice: The modeled data only contains one point. Good to do it again but with a zone"
   ]
  },
  {
   "cell_type": "markdown",
   "id": "e19ed021",
   "metadata": {},
   "source": [
    "# Packages"
   ]
  },
  {
   "cell_type": "code",
   "execution_count": 1,
   "id": "98eb9357",
   "metadata": {},
   "outputs": [],
   "source": [
    "import pandas as pd\n",
    "import numpy as np\n",
    "import os\n",
    "import os.path\n",
    "import seaborn as sns\n",
    "import matplotlib\n",
    "import geopy.distance\n",
    "from matplotlib import pyplot as plt\n",
    "\n",
    "from Functions_ImportData import import_filtered_NOAA_obs\n",
    "from Functions_ImportData import import_BC_NEX_GDDP_CMIP6\n",
    "from Functions_Indicators import add_year_month_season\n",
    "from Functions_Indicators import str_month\n",
    "from Functions_Indicators import select_station\n",
    "\n",
    "from Graphs_functions import cdf_plot_category_or_obs\n",
    "from Graphs_functions import boxplots_\n",
    "from Graphs_functions import compare_3_lines"
   ]
  },
  {
   "cell_type": "markdown",
   "id": "18891155",
   "metadata": {},
   "source": [
    "# Import data"
   ]
  },
  {
   "cell_type": "markdown",
   "id": "bc58a4e9",
   "metadata": {},
   "source": [
    "## Observations data"
   ]
  },
  {
   "cell_type": "markdown",
   "id": "12d2cea9",
   "metadata": {},
   "source": [
    "### Precipitation and temperature NOAA"
   ]
  },
  {
   "cell_type": "code",
   "execution_count": 2,
   "id": "f05613de",
   "metadata": {},
   "outputs": [],
   "source": [
    "daily_sum_obs_from_NOAA = import_filtered_NOAA_obs()"
   ]
  },
  {
   "cell_type": "code",
   "execution_count": 3,
   "id": "e398eb66",
   "metadata": {},
   "outputs": [
    {
     "data": {
      "text/plain": [
       "0         29.0\n",
       "1         27.0\n",
       "2          NaN\n",
       "3          NaN\n",
       "4          NaN\n",
       "          ... \n",
       "137721     NaN\n",
       "137722     NaN\n",
       "137723     NaN\n",
       "137724     NaN\n",
       "137725     NaN\n",
       "Name: TMAX, Length: 137726, dtype: float64"
      ]
     },
     "execution_count": 3,
     "metadata": {},
     "output_type": "execute_result"
    }
   ],
   "source": [
    "daily_sum_obs_from_NOAA['TMAX']"
   ]
  },
  {
   "cell_type": "code",
   "execution_count": 4,
   "id": "06deda16",
   "metadata": {},
   "outputs": [],
   "source": [
    "daily_sum_obs_from_NOAA_BEIRA=select_station(daily_sum_obs_from_NOAA,'NAME','BEIRA, MZ')"
   ]
  },
  {
   "cell_type": "code",
   "execution_count": 5,
   "id": "ee16c3a2",
   "metadata": {},
   "outputs": [],
   "source": [
    "daily_sum_obs_from_NOAA_PEMBA=select_station(daily_sum_obs_from_NOAA,'NAME','PEMBA, MZ')"
   ]
  },
  {
   "cell_type": "code",
   "execution_count": 6,
   "id": "c5644379",
   "metadata": {},
   "outputs": [],
   "source": [
    "daily_sum_obs_from_NOAA_CHIMOIO=select_station(daily_sum_obs_from_NOAA,'NAME','CHIMOIO, MZ')"
   ]
  },
  {
   "cell_type": "code",
   "execution_count": 7,
   "id": "6eefdf1c",
   "metadata": {},
   "outputs": [
    {
     "data": {
      "text/html": [
       "<div>\n",
       "<style scoped>\n",
       "    .dataframe tbody tr th:only-of-type {\n",
       "        vertical-align: middle;\n",
       "    }\n",
       "\n",
       "    .dataframe tbody tr th {\n",
       "        vertical-align: top;\n",
       "    }\n",
       "\n",
       "    .dataframe thead th {\n",
       "        text-align: right;\n",
       "    }\n",
       "</style>\n",
       "<table border=\"1\" class=\"dataframe\">\n",
       "  <thead>\n",
       "    <tr style=\"text-align: right;\">\n",
       "      <th></th>\n",
       "      <th>STATION</th>\n",
       "      <th>NAME</th>\n",
       "      <th>LATITUDE</th>\n",
       "      <th>LONGITUDE</th>\n",
       "      <th>ELEVATION</th>\n",
       "      <th>DATE</th>\n",
       "      <th>PRCP</th>\n",
       "      <th>PRCP_ATTRIBUTES</th>\n",
       "      <th>TAVG</th>\n",
       "      <th>TAVG_ATTRIBUTES</th>\n",
       "      <th>...</th>\n",
       "      <th>TMAX_ATTRIBUTES</th>\n",
       "      <th>TMIN</th>\n",
       "      <th>TMIN_ATTRIBUTES</th>\n",
       "      <th>Year</th>\n",
       "      <th>Month</th>\n",
       "      <th>Season</th>\n",
       "      <th>PRCP MISSING</th>\n",
       "      <th>TAVG MISSING</th>\n",
       "      <th>TMAX MISSING</th>\n",
       "      <th>TMIN MISSING</th>\n",
       "    </tr>\n",
       "  </thead>\n",
       "  <tbody>\n",
       "    <tr>\n",
       "      <th>2689</th>\n",
       "      <td>MZ000067295</td>\n",
       "      <td>CHIMOIO, MZ</td>\n",
       "      <td>-19.117</td>\n",
       "      <td>33.467</td>\n",
       "      <td>732.0</td>\n",
       "      <td>1970-01-01</td>\n",
       "      <td>0.4</td>\n",
       "      <td>,,Q</td>\n",
       "      <td>NaN</td>\n",
       "      <td>NaN</td>\n",
       "      <td>...</td>\n",
       "      <td>,,Q</td>\n",
       "      <td>20.7</td>\n",
       "      <td>,,Q</td>\n",
       "      <td>1970</td>\n",
       "      <td>Jan</td>\n",
       "      <td>Humid</td>\n",
       "      <td>0</td>\n",
       "      <td>1</td>\n",
       "      <td>0</td>\n",
       "      <td>0</td>\n",
       "    </tr>\n",
       "    <tr>\n",
       "      <th>2690</th>\n",
       "      <td>MZ000067295</td>\n",
       "      <td>CHIMOIO, MZ</td>\n",
       "      <td>-19.117</td>\n",
       "      <td>33.467</td>\n",
       "      <td>732.0</td>\n",
       "      <td>1970-01-02</td>\n",
       "      <td>0.0</td>\n",
       "      <td>,,Q</td>\n",
       "      <td>NaN</td>\n",
       "      <td>NaN</td>\n",
       "      <td>...</td>\n",
       "      <td>,,Q</td>\n",
       "      <td>21.2</td>\n",
       "      <td>,,Q</td>\n",
       "      <td>1970</td>\n",
       "      <td>Jan</td>\n",
       "      <td>Humid</td>\n",
       "      <td>0</td>\n",
       "      <td>1</td>\n",
       "      <td>0</td>\n",
       "      <td>0</td>\n",
       "    </tr>\n",
       "    <tr>\n",
       "      <th>2691</th>\n",
       "      <td>MZ000067295</td>\n",
       "      <td>CHIMOIO, MZ</td>\n",
       "      <td>-19.117</td>\n",
       "      <td>33.467</td>\n",
       "      <td>732.0</td>\n",
       "      <td>1970-01-03</td>\n",
       "      <td>0.0</td>\n",
       "      <td>,,Q</td>\n",
       "      <td>NaN</td>\n",
       "      <td>NaN</td>\n",
       "      <td>...</td>\n",
       "      <td>,,Q</td>\n",
       "      <td>20.5</td>\n",
       "      <td>,,Q</td>\n",
       "      <td>1970</td>\n",
       "      <td>Jan</td>\n",
       "      <td>Humid</td>\n",
       "      <td>0</td>\n",
       "      <td>1</td>\n",
       "      <td>0</td>\n",
       "      <td>0</td>\n",
       "    </tr>\n",
       "    <tr>\n",
       "      <th>2692</th>\n",
       "      <td>MZ000067295</td>\n",
       "      <td>CHIMOIO, MZ</td>\n",
       "      <td>-19.117</td>\n",
       "      <td>33.467</td>\n",
       "      <td>732.0</td>\n",
       "      <td>1970-01-04</td>\n",
       "      <td>0.0</td>\n",
       "      <td>,,Q</td>\n",
       "      <td>NaN</td>\n",
       "      <td>NaN</td>\n",
       "      <td>...</td>\n",
       "      <td>,,Q</td>\n",
       "      <td>19.2</td>\n",
       "      <td>,,Q</td>\n",
       "      <td>1970</td>\n",
       "      <td>Jan</td>\n",
       "      <td>Humid</td>\n",
       "      <td>0</td>\n",
       "      <td>1</td>\n",
       "      <td>0</td>\n",
       "      <td>0</td>\n",
       "    </tr>\n",
       "    <tr>\n",
       "      <th>2693</th>\n",
       "      <td>MZ000067295</td>\n",
       "      <td>CHIMOIO, MZ</td>\n",
       "      <td>-19.117</td>\n",
       "      <td>33.467</td>\n",
       "      <td>732.0</td>\n",
       "      <td>1970-01-05</td>\n",
       "      <td>0.0</td>\n",
       "      <td>,,Q</td>\n",
       "      <td>NaN</td>\n",
       "      <td>NaN</td>\n",
       "      <td>...</td>\n",
       "      <td>,,Q</td>\n",
       "      <td>20.2</td>\n",
       "      <td>,,Q</td>\n",
       "      <td>1970</td>\n",
       "      <td>Jan</td>\n",
       "      <td>Humid</td>\n",
       "      <td>0</td>\n",
       "      <td>1</td>\n",
       "      <td>0</td>\n",
       "      <td>0</td>\n",
       "    </tr>\n",
       "    <tr>\n",
       "      <th>...</th>\n",
       "      <td>...</td>\n",
       "      <td>...</td>\n",
       "      <td>...</td>\n",
       "      <td>...</td>\n",
       "      <td>...</td>\n",
       "      <td>...</td>\n",
       "      <td>...</td>\n",
       "      <td>...</td>\n",
       "      <td>...</td>\n",
       "      <td>...</td>\n",
       "      <td>...</td>\n",
       "      <td>...</td>\n",
       "      <td>...</td>\n",
       "      <td>...</td>\n",
       "      <td>...</td>\n",
       "      <td>...</td>\n",
       "      <td>...</td>\n",
       "      <td>...</td>\n",
       "      <td>...</td>\n",
       "      <td>...</td>\n",
       "      <td>...</td>\n",
       "    </tr>\n",
       "    <tr>\n",
       "      <th>14159</th>\n",
       "      <td>MZ000067295</td>\n",
       "      <td>CHIMOIO, MZ</td>\n",
       "      <td>-19.117</td>\n",
       "      <td>33.467</td>\n",
       "      <td>732.0</td>\n",
       "      <td>2014-12-27</td>\n",
       "      <td>NaN</td>\n",
       "      <td>NaN</td>\n",
       "      <td>24.9</td>\n",
       "      <td>H,,S</td>\n",
       "      <td>...</td>\n",
       "      <td>NaN</td>\n",
       "      <td>21.8</td>\n",
       "      <td>,,S</td>\n",
       "      <td>2014</td>\n",
       "      <td>Dec</td>\n",
       "      <td>Humid</td>\n",
       "      <td>1</td>\n",
       "      <td>0</td>\n",
       "      <td>1</td>\n",
       "      <td>0</td>\n",
       "    </tr>\n",
       "    <tr>\n",
       "      <th>14160</th>\n",
       "      <td>MZ000067295</td>\n",
       "      <td>CHIMOIO, MZ</td>\n",
       "      <td>-19.117</td>\n",
       "      <td>33.467</td>\n",
       "      <td>732.0</td>\n",
       "      <td>2014-12-28</td>\n",
       "      <td>NaN</td>\n",
       "      <td>NaN</td>\n",
       "      <td>25.9</td>\n",
       "      <td>H,,S</td>\n",
       "      <td>...</td>\n",
       "      <td>,,S</td>\n",
       "      <td>20.0</td>\n",
       "      <td>,,S</td>\n",
       "      <td>2014</td>\n",
       "      <td>Dec</td>\n",
       "      <td>Humid</td>\n",
       "      <td>1</td>\n",
       "      <td>0</td>\n",
       "      <td>0</td>\n",
       "      <td>0</td>\n",
       "    </tr>\n",
       "    <tr>\n",
       "      <th>14161</th>\n",
       "      <td>MZ000067295</td>\n",
       "      <td>CHIMOIO, MZ</td>\n",
       "      <td>-19.117</td>\n",
       "      <td>33.467</td>\n",
       "      <td>732.0</td>\n",
       "      <td>2014-12-29</td>\n",
       "      <td>23.1</td>\n",
       "      <td>,,S</td>\n",
       "      <td>24.3</td>\n",
       "      <td>H,,S</td>\n",
       "      <td>...</td>\n",
       "      <td>,,S</td>\n",
       "      <td>20.9</td>\n",
       "      <td>,,S</td>\n",
       "      <td>2014</td>\n",
       "      <td>Dec</td>\n",
       "      <td>Humid</td>\n",
       "      <td>0</td>\n",
       "      <td>0</td>\n",
       "      <td>0</td>\n",
       "      <td>0</td>\n",
       "    </tr>\n",
       "    <tr>\n",
       "      <th>14162</th>\n",
       "      <td>MZ000067295</td>\n",
       "      <td>CHIMOIO, MZ</td>\n",
       "      <td>-19.117</td>\n",
       "      <td>33.467</td>\n",
       "      <td>732.0</td>\n",
       "      <td>2014-12-30</td>\n",
       "      <td>45.0</td>\n",
       "      <td>,,S</td>\n",
       "      <td>22.9</td>\n",
       "      <td>H,,S</td>\n",
       "      <td>...</td>\n",
       "      <td>,,S</td>\n",
       "      <td>21.0</td>\n",
       "      <td>,,S</td>\n",
       "      <td>2014</td>\n",
       "      <td>Dec</td>\n",
       "      <td>Humid</td>\n",
       "      <td>0</td>\n",
       "      <td>0</td>\n",
       "      <td>0</td>\n",
       "      <td>0</td>\n",
       "    </tr>\n",
       "    <tr>\n",
       "      <th>14163</th>\n",
       "      <td>MZ000067295</td>\n",
       "      <td>CHIMOIO, MZ</td>\n",
       "      <td>-19.117</td>\n",
       "      <td>33.467</td>\n",
       "      <td>732.0</td>\n",
       "      <td>2014-12-31</td>\n",
       "      <td>33.0</td>\n",
       "      <td>,,S</td>\n",
       "      <td>21.6</td>\n",
       "      <td>H,,S</td>\n",
       "      <td>...</td>\n",
       "      <td>NaN</td>\n",
       "      <td>20.4</td>\n",
       "      <td>,,S</td>\n",
       "      <td>2014</td>\n",
       "      <td>Dec</td>\n",
       "      <td>Humid</td>\n",
       "      <td>0</td>\n",
       "      <td>0</td>\n",
       "      <td>1</td>\n",
       "      <td>0</td>\n",
       "    </tr>\n",
       "  </tbody>\n",
       "</table>\n",
       "<p>11475 rows × 21 columns</p>\n",
       "</div>"
      ],
      "text/plain": [
       "           STATION         NAME  LATITUDE  LONGITUDE  ELEVATION        DATE  \\\n",
       "2689   MZ000067295  CHIMOIO, MZ   -19.117     33.467      732.0  1970-01-01   \n",
       "2690   MZ000067295  CHIMOIO, MZ   -19.117     33.467      732.0  1970-01-02   \n",
       "2691   MZ000067295  CHIMOIO, MZ   -19.117     33.467      732.0  1970-01-03   \n",
       "2692   MZ000067295  CHIMOIO, MZ   -19.117     33.467      732.0  1970-01-04   \n",
       "2693   MZ000067295  CHIMOIO, MZ   -19.117     33.467      732.0  1970-01-05   \n",
       "...            ...          ...       ...        ...        ...         ...   \n",
       "14159  MZ000067295  CHIMOIO, MZ   -19.117     33.467      732.0  2014-12-27   \n",
       "14160  MZ000067295  CHIMOIO, MZ   -19.117     33.467      732.0  2014-12-28   \n",
       "14161  MZ000067295  CHIMOIO, MZ   -19.117     33.467      732.0  2014-12-29   \n",
       "14162  MZ000067295  CHIMOIO, MZ   -19.117     33.467      732.0  2014-12-30   \n",
       "14163  MZ000067295  CHIMOIO, MZ   -19.117     33.467      732.0  2014-12-31   \n",
       "\n",
       "       PRCP PRCP_ATTRIBUTES  TAVG TAVG_ATTRIBUTES  ...  TMAX_ATTRIBUTES  TMIN  \\\n",
       "2689    0.4             ,,Q   NaN             NaN  ...              ,,Q  20.7   \n",
       "2690    0.0             ,,Q   NaN             NaN  ...              ,,Q  21.2   \n",
       "2691    0.0             ,,Q   NaN             NaN  ...              ,,Q  20.5   \n",
       "2692    0.0             ,,Q   NaN             NaN  ...              ,,Q  19.2   \n",
       "2693    0.0             ,,Q   NaN             NaN  ...              ,,Q  20.2   \n",
       "...     ...             ...   ...             ...  ...              ...   ...   \n",
       "14159   NaN             NaN  24.9            H,,S  ...              NaN  21.8   \n",
       "14160   NaN             NaN  25.9            H,,S  ...              ,,S  20.0   \n",
       "14161  23.1             ,,S  24.3            H,,S  ...              ,,S  20.9   \n",
       "14162  45.0             ,,S  22.9            H,,S  ...              ,,S  21.0   \n",
       "14163  33.0             ,,S  21.6            H,,S  ...              NaN  20.4   \n",
       "\n",
       "       TMIN_ATTRIBUTES  Year  Month Season PRCP MISSING  TAVG MISSING  \\\n",
       "2689               ,,Q  1970    Jan  Humid            0             1   \n",
       "2690               ,,Q  1970    Jan  Humid            0             1   \n",
       "2691               ,,Q  1970    Jan  Humid            0             1   \n",
       "2692               ,,Q  1970    Jan  Humid            0             1   \n",
       "2693               ,,Q  1970    Jan  Humid            0             1   \n",
       "...                ...   ...    ...    ...          ...           ...   \n",
       "14159              ,,S  2014    Dec  Humid            1             0   \n",
       "14160              ,,S  2014    Dec  Humid            1             0   \n",
       "14161              ,,S  2014    Dec  Humid            0             0   \n",
       "14162              ,,S  2014    Dec  Humid            0             0   \n",
       "14163              ,,S  2014    Dec  Humid            0             0   \n",
       "\n",
       "       TMAX MISSING  TMIN MISSING  \n",
       "2689              0             0  \n",
       "2690              0             0  \n",
       "2691              0             0  \n",
       "2692              0             0  \n",
       "2693              0             0  \n",
       "...             ...           ...  \n",
       "14159             1             0  \n",
       "14160             0             0  \n",
       "14161             0             0  \n",
       "14162             0             0  \n",
       "14163             1             0  \n",
       "\n",
       "[11475 rows x 21 columns]"
      ]
     },
     "execution_count": 7,
     "metadata": {},
     "output_type": "execute_result"
    }
   ],
   "source": [
    "daily_sum_obs_from_NOAA_CHIMOIO"
   ]
  },
  {
   "cell_type": "markdown",
   "id": "8d2c4381",
   "metadata": {},
   "source": [
    "### Precipitation from Gorongosa "
   ]
  },
  {
   "cell_type": "code",
   "execution_count": 8,
   "id": "82906d06",
   "metadata": {},
   "outputs": [
    {
     "data": {
      "text/html": [
       "<div>\n",
       "<style scoped>\n",
       "    .dataframe tbody tr th:only-of-type {\n",
       "        vertical-align: middle;\n",
       "    }\n",
       "\n",
       "    .dataframe tbody tr th {\n",
       "        vertical-align: top;\n",
       "    }\n",
       "\n",
       "    .dataframe thead th {\n",
       "        text-align: right;\n",
       "    }\n",
       "</style>\n",
       "<table border=\"1\" class=\"dataframe\">\n",
       "  <thead>\n",
       "    <tr style=\"text-align: right;\">\n",
       "      <th></th>\n",
       "      <th>time</th>\n",
       "      <th>pr</th>\n",
       "      <th>Year</th>\n",
       "      <th>Month</th>\n",
       "      <th>Season</th>\n",
       "    </tr>\n",
       "  </thead>\n",
       "  <tbody>\n",
       "    <tr>\n",
       "      <th>0</th>\n",
       "      <td>1980-01-01</td>\n",
       "      <td>NaN</td>\n",
       "      <td>1980</td>\n",
       "      <td>Jan</td>\n",
       "      <td>Humid</td>\n",
       "    </tr>\n",
       "    <tr>\n",
       "      <th>1</th>\n",
       "      <td>1980-01-02</td>\n",
       "      <td>NaN</td>\n",
       "      <td>1980</td>\n",
       "      <td>Jan</td>\n",
       "      <td>Humid</td>\n",
       "    </tr>\n",
       "    <tr>\n",
       "      <th>2</th>\n",
       "      <td>1980-01-03</td>\n",
       "      <td>NaN</td>\n",
       "      <td>1980</td>\n",
       "      <td>Jan</td>\n",
       "      <td>Humid</td>\n",
       "    </tr>\n",
       "    <tr>\n",
       "      <th>3</th>\n",
       "      <td>1980-01-04</td>\n",
       "      <td>NaN</td>\n",
       "      <td>1980</td>\n",
       "      <td>Jan</td>\n",
       "      <td>Humid</td>\n",
       "    </tr>\n",
       "    <tr>\n",
       "      <th>4</th>\n",
       "      <td>1980-01-05</td>\n",
       "      <td>NaN</td>\n",
       "      <td>1980</td>\n",
       "      <td>Jan</td>\n",
       "      <td>Humid</td>\n",
       "    </tr>\n",
       "    <tr>\n",
       "      <th>...</th>\n",
       "      <td>...</td>\n",
       "      <td>...</td>\n",
       "      <td>...</td>\n",
       "      <td>...</td>\n",
       "      <td>...</td>\n",
       "    </tr>\n",
       "    <tr>\n",
       "      <th>14971</th>\n",
       "      <td>2020-12-27</td>\n",
       "      <td>2.7</td>\n",
       "      <td>2020</td>\n",
       "      <td>Dec</td>\n",
       "      <td>Humid</td>\n",
       "    </tr>\n",
       "    <tr>\n",
       "      <th>14972</th>\n",
       "      <td>2020-12-28</td>\n",
       "      <td>0.0</td>\n",
       "      <td>2020</td>\n",
       "      <td>Dec</td>\n",
       "      <td>Humid</td>\n",
       "    </tr>\n",
       "    <tr>\n",
       "      <th>14973</th>\n",
       "      <td>2020-12-29</td>\n",
       "      <td>0.0</td>\n",
       "      <td>2020</td>\n",
       "      <td>Dec</td>\n",
       "      <td>Humid</td>\n",
       "    </tr>\n",
       "    <tr>\n",
       "      <th>14974</th>\n",
       "      <td>2020-12-30</td>\n",
       "      <td>138.4</td>\n",
       "      <td>2020</td>\n",
       "      <td>Dec</td>\n",
       "      <td>Humid</td>\n",
       "    </tr>\n",
       "    <tr>\n",
       "      <th>14975</th>\n",
       "      <td>2020-12-31</td>\n",
       "      <td>80.4</td>\n",
       "      <td>2020</td>\n",
       "      <td>Dec</td>\n",
       "      <td>Humid</td>\n",
       "    </tr>\n",
       "  </tbody>\n",
       "</table>\n",
       "<p>14976 rows × 5 columns</p>\n",
       "</div>"
      ],
      "text/plain": [
       "             time     pr  Year Month Season\n",
       "0      1980-01-01    NaN  1980   Jan  Humid\n",
       "1      1980-01-02    NaN  1980   Jan  Humid\n",
       "2      1980-01-03    NaN  1980   Jan  Humid\n",
       "3      1980-01-04    NaN  1980   Jan  Humid\n",
       "4      1980-01-05    NaN  1980   Jan  Humid\n",
       "...           ...    ...   ...   ...    ...\n",
       "14971  2020-12-27    2.7  2020   Dec  Humid\n",
       "14972  2020-12-28    0.0  2020   Dec  Humid\n",
       "14973  2020-12-29    0.0  2020   Dec  Humid\n",
       "14974  2020-12-30  138.4  2020   Dec  Humid\n",
       "14975  2020-12-31   80.4  2020   Dec  Humid\n",
       "\n",
       "[14976 rows x 5 columns]"
      ]
     },
     "execution_count": 8,
     "metadata": {},
     "output_type": "execute_result"
    }
   ],
   "source": [
    "path = r'C:\\Users\\CLMRX\\COWI\\A248363 - Climate analysis - Documents\\General\\CRVA_tool\\Master_thesis\\Project\\3 - Implementation\\1 - Data\\1-BC\\DirecltyfromMoz\\Precipitation_Gorongosa_reformat.csv'\n",
    "pr_obs_gorongosa_from_gorongosa = pd.read_csv(path)\n",
    "pr_obs_gorongosa_from_gorongosa=add_year_month_season(pr_obs_gorongosa_from_gorongosa,'time')\n",
    "pr_obs_gorongosa_from_gorongosa['pr'][pr_obs_gorongosa_from_gorongosa['pr']=='s/i'] = pr_obs_gorongosa_from_gorongosa['pr'].iloc[0]\n",
    "pr_obs_gorongosa_from_gorongosa['pr'] = pr_obs_gorongosa_from_gorongosa['pr'].astype(float)\n",
    "pr_obs_gorongosa_from_gorongosa"
   ]
  },
  {
   "cell_type": "markdown",
   "id": "97f64bf4",
   "metadata": {},
   "source": [
    "## MODELED DATA"
   ]
  },
  {
   "cell_type": "markdown",
   "id": "a8cfd65a",
   "metadata": {},
   "source": [
    "### Precipitation NEX-GDDP-CMIP6"
   ]
  },
  {
   "cell_type": "markdown",
   "id": "05c83296",
   "metadata": {},
   "source": [
    "#### Past"
   ]
  },
  {
   "cell_type": "code",
   "execution_count": null,
   "id": "d6ac966c",
   "metadata": {},
   "outputs": [],
   "source": [
    "# to compare historic modelisation with NOAA observation data at the same emplacement\n",
    "pr_model_BC_NEX_GDDPCMIP6_to_comp_NOAA_past = import_BC_NEX_GDDP_CMIP6('pr',1970,2014)\n",
    "pr_model_BC_NEX_GDDPCMIP6_to_comp_NOAA_past_BEIRA=select_station(pr_model_BC_NEX_GDDPCMIP6_to_comp_NOAA_past,'Name station','BEIRA, MZ')\n",
    "pr_model_BC_NEX_GDDPCMIP6_to_comp_NOAA_past_CHIMOIO=select_station(pr_model_BC_NEX_GDDPCMIP6_to_comp_NOAA_past,'Name station','CHIMOIO, MZ')"
   ]
  },
  {
   "cell_type": "markdown",
   "id": "05cce432",
   "metadata": {},
   "source": [
    "### Temperature NEX-GDDP-CMIP6"
   ]
  },
  {
   "cell_type": "markdown",
   "id": "c0559181",
   "metadata": {},
   "source": [
    "#### Past"
   ]
  },
  {
   "cell_type": "code",
   "execution_count": null,
   "id": "0fae03ad",
   "metadata": {},
   "outputs": [],
   "source": [
    "# to compare with NOAA observation data\n",
    "tas_model_BC_NEX_GDDPCMIP6_to_comp_NOAA_past = import_BC_NEX_GDDP_CMIP6('tas',1970,2014)\n",
    "tas_model_BC_NEX_GDDPCMIP6_to_comp_NOAA_past_BEIRA=select_station(tas_model_BC_NEX_GDDPCMIP6_to_comp_NOAA_past,'Name station','BEIRA, MZ')\n",
    "tas_model_BC_NEX_GDDPCMIP6_to_comp_NOAA_past_CHIMOIO=select_station(tas_model_BC_NEX_GDDPCMIP6_to_comp_NOAA_past,'Name station','CHIMOIO, MZ')"
   ]
  },
  {
   "cell_type": "markdown",
   "id": "bf14fbb4",
   "metadata": {},
   "source": [
    "### Maximum temperature NEX-GDDP-CMIP6"
   ]
  },
  {
   "cell_type": "code",
   "execution_count": null,
   "id": "7eff266a",
   "metadata": {},
   "outputs": [],
   "source": [
    "# to compare with NOAA observation data\n",
    "tasmax_model_BC_NEX_GDDPCMIP6_to_comp_NOAA_past = import_BC_NEX_GDDP_CMIP6('tasmax',1970,2014)\n",
    "tasmax_model_BC_NEX_GDDPCMIP6_to_comp_NOAA_past_BEIRA=select_station(tasmax_model_BC_NEX_GDDPCMIP6_to_comp_NOAA_past,'Name station','BEIRA, MZ')\n",
    "tasmax_model_BC_NEX_GDDPCMIP6_to_comp_NOAA_past_CHIMOIO=select_station(tasmax_model_BC_NEX_GDDPCMIP6_to_comp_NOAA_past,'Name station','CHIMOIO, MZ')"
   ]
  },
  {
   "cell_type": "markdown",
   "id": "dfa36787",
   "metadata": {},
   "source": [
    "### Minimum temperature NEX GDDP CMIP6"
   ]
  },
  {
   "cell_type": "code",
   "execution_count": null,
   "id": "7c40df38",
   "metadata": {},
   "outputs": [],
   "source": [
    "# to compare with NOAA observation data\n",
    "tasmin_model_BC_NEX_GDDPCMIP6_to_comp_NOAA_past = import_BC_NEX_GDDP_CMIP6('tasmin',1970,2014)\n",
    "tasmin_model_BC_NEX_GDDPCMIP6_to_comp_NOAA_past_BEIRA=select_station(tasmin_model_BC_NEX_GDDPCMIP6_to_comp_NOAA_past,'Name station','BEIRA, MZ')\n",
    "tasmin_model_BC_NEX_GDDPCMIP6_to_comp_NOAA_past_CHIMOIO=select_station(tasmin_model_BC_NEX_GDDPCMIP6_to_comp_NOAA_past,'Name station','CHIMOIO, MZ')"
   ]
  },
  {
   "cell_type": "markdown",
   "id": "047d12f6",
   "metadata": {},
   "source": [
    "# Compare NOAA station with NEX-GDDP-CMIP6 data at the same emplacement"
   ]
  },
  {
   "cell_type": "markdown",
   "id": "6288d60e",
   "metadata": {},
   "source": [
    "## Temperature"
   ]
  },
  {
   "cell_type": "code",
   "execution_count": null,
   "id": "65129aa9",
   "metadata": {},
   "outputs": [],
   "source": [
    "# beira"
   ]
  },
  {
   "cell_type": "code",
   "execution_count": null,
   "id": "eebd78a8",
   "metadata": {},
   "outputs": [],
   "source": [
    "daily_sum_obs_from_NOAA_BEIRA"
   ]
  },
  {
   "cell_type": "code",
   "execution_count": null,
   "id": "7427269e",
   "metadata": {},
   "outputs": [],
   "source": [
    "df_obs_Beira=daily_sum_obs_from_NOAA_BEIRA#[daily_sum_obs_from_NOAA_BEIRA['Year'].between(1974,2014)]"
   ]
  },
  {
   "cell_type": "code",
   "execution_count": null,
   "id": "5d061bb1",
   "metadata": {
    "scrolled": true
   },
   "outputs": [],
   "source": [
    "compare_3_lines('test','Mean','temperature',tas_model_BC_NEX_GDDPCMIP6_to_comp_NOAA_past_BEIRA,'Daily Near-Surface Air Temperature °C','NEX-GDDP-CMIP6',df_obs_Beira,'TAVG','NOAA','Annual mean daily temperature °C','Beira')"
   ]
  },
  {
   "cell_type": "code",
   "execution_count": null,
   "id": "8d7c0eda",
   "metadata": {},
   "outputs": [],
   "source": [
    "cdf_plot_category_or_obs('Beira, MZ',df_initial=tas_model_BC_NEX_GDDPCMIP6_to_comp_NOAA_past_BEIRA[['Model','Year','Daily Near-Surface Air Temperature °C']],name_column_df='Daily Near-Surface Air Temperature °C',source_df='NEX-GDDP-CMIP6',category='Model',obs_initial=df_obs_Beira,name_column_obs='TAVG',source_obs='NOAA')"
   ]
  },
  {
   "cell_type": "code",
   "execution_count": null,
   "id": "c22b73d3",
   "metadata": {},
   "outputs": [],
   "source": [
    "boxplots_('temperature',tas_model_BC_NEX_GDDPCMIP6_to_comp_NOAA_past_BEIRA,'Daily Near-Surface Air Temperature °C',df_obs_Beira,'TAVG','Beira')"
   ]
  },
  {
   "cell_type": "code",
   "execution_count": null,
   "id": "20cd2a32",
   "metadata": {},
   "outputs": [],
   "source": [
    "# Chimoio"
   ]
  },
  {
   "cell_type": "code",
   "execution_count": null,
   "id": "42e660ec",
   "metadata": {},
   "outputs": [],
   "source": [
    "df_obs_Chimoio=daily_sum_obs_from_NOAA_CHIMOIO#[daily_sum_obs_from_NOAA_CHIMOIO['Year'].between(1974,2014)]"
   ]
  },
  {
   "cell_type": "code",
   "execution_count": null,
   "id": "b9a69274",
   "metadata": {},
   "outputs": [],
   "source": [
    "compare_3_lines('test','Mean','temperature',tas_model_BC_NEX_GDDPCMIP6_to_comp_NOAA_past_CHIMOIO,'Daily Near-Surface Air Temperature °C','NEX-GDDP-CMIP6',df_obs_Chimoio,'TAVG','NOAA','Annual mean daily temperature °C','Chimoio')"
   ]
  },
  {
   "cell_type": "code",
   "execution_count": null,
   "id": "303f8e30",
   "metadata": {},
   "outputs": [],
   "source": [
    "cdf_plot_category_or_obs('Chimoio, MZ',df_initial=tas_model_BC_NEX_GDDPCMIP6_to_comp_NOAA_past_CHIMOIO[['Model','Year','Daily Near-Surface Air Temperature °C']],name_column_df='Daily Near-Surface Air Temperature °C',source_df='NEX-GDDP-CMIP6',category='Model',obs_initial=df_obs_Chimoio,name_column_obs='TAVG',source_obs='NOAA')"
   ]
  },
  {
   "cell_type": "code",
   "execution_count": null,
   "id": "f87cc3bd",
   "metadata": {},
   "outputs": [],
   "source": [
    "boxplots_('temperature',tas_model_BC_NEX_GDDPCMIP6_to_comp_NOAA_past_CHIMOIO,'Daily Near-Surface Air Temperature °C',df_obs_Chimoio,'TAVG','Chimoio')"
   ]
  },
  {
   "cell_type": "markdown",
   "id": "73611e35",
   "metadata": {},
   "source": [
    "## Maximum temperature"
   ]
  },
  {
   "cell_type": "code",
   "execution_count": null,
   "id": "06c69d30",
   "metadata": {},
   "outputs": [],
   "source": [
    "# beira"
   ]
  },
  {
   "cell_type": "code",
   "execution_count": null,
   "id": "286e741b",
   "metadata": {},
   "outputs": [],
   "source": [
    "compare_3_lines('test','Mean','maximum temperature',tasmax_model_NEX_GDDPCMIP6_to_comp_NOAA_BEIRA_past,'Daily Maximum Near-Surface Air Temperature °C','NEX-GDDP-CMIP6',daily_sum_obs_from_NOAA_BEIRA,'TMAX','NOAA','Annual mean maximum daily temperature °C','Beira')"
   ]
  },
  {
   "cell_type": "code",
   "execution_count": null,
   "id": "b42d5237",
   "metadata": {},
   "outputs": [],
   "source": [
    "cdf_plot_category_or_obs('Beira, MZ',df_initial=tasmax_model_NEX_GDDPCMIP6_to_comp_NOAA_BEIRA_past[['Model','Year','Daily Maximum Near-Surface Air Temperature °C']],name_column_df='Daily Maximum Near-Surface Air Temperature °C',source_df='NEX-GDDP-CMIP6',category='Model',obs_initial=daily_sum_obs_from_NOAA_BEIRA,name_column_obs='TMAX',source_obs='NOAA')"
   ]
  },
  {
   "cell_type": "code",
   "execution_count": null,
   "id": "6b0ad028",
   "metadata": {},
   "outputs": [],
   "source": [
    "boxplots_('maximum temperature',tasmax_model_NEX_GDDPCMIP6_to_comp_NOAA_BEIRA_past,'Daily Maximum Near-Surface Air Temperature °C',daily_sum_obs_from_NOAA_BEIRA,'TMAX','Beira')"
   ]
  },
  {
   "cell_type": "code",
   "execution_count": null,
   "id": "1f4c2b85",
   "metadata": {},
   "outputs": [],
   "source": [
    "# chimoio"
   ]
  },
  {
   "cell_type": "code",
   "execution_count": null,
   "id": "b367cf1f",
   "metadata": {},
   "outputs": [],
   "source": [
    "compare_3_lines('test','Mean','maximum temperature',tasmax_model_BC_NEX_GDDPCMIP6_to_comp_NOAA_past_CHIMOIO,'Daily Maximum Near-Surface Air Temperature °C','NEX-GDDP-CMIP6',daily_sum_obs_from_NOAA_CHIMOIO,'TMAX','NOAA','Annual mean maximum daily temperature °C','CHIMOIO')"
   ]
  },
  {
   "cell_type": "code",
   "execution_count": null,
   "id": "70debc9a",
   "metadata": {},
   "outputs": [],
   "source": [
    "cdf_plot_category_or_obs('Chimoio, MZ',df_initial=tasmax_model_BC_NEX_GDDPCMIP6_to_comp_NOAA_past_CHIMOIO[['Model','Year','Daily Maximum Near-Surface Air Temperature °C']],name_column_df='Daily Maximum Near-Surface Air Temperature °C',source_df='NEX-GDDP-CMIP6',category='Model',obs_initial=daily_sum_obs_from_NOAA_CHIMOIO,name_column_obs='TMAX',source_obs='NOAA')"
   ]
  },
  {
   "cell_type": "code",
   "execution_count": null,
   "id": "dea54f5c",
   "metadata": {},
   "outputs": [],
   "source": [
    "boxplots_('maximum temperature',tasmax_model_BC_NEX_GDDPCMIP6_to_comp_NOAA_past_CHIMOIO,'Daily Maximum Near-Surface Air Temperature °C',daily_sum_obs_from_NOAA_CHIMOIO,'TMAX','Chimoio')"
   ]
  },
  {
   "cell_type": "markdown",
   "id": "9f0394af",
   "metadata": {},
   "source": [
    "## Minimum temperature"
   ]
  },
  {
   "cell_type": "code",
   "execution_count": null,
   "id": "4d47b54d",
   "metadata": {},
   "outputs": [],
   "source": [
    "# Beira"
   ]
  },
  {
   "cell_type": "code",
   "execution_count": null,
   "id": "2eee1738",
   "metadata": {},
   "outputs": [],
   "source": [
    "compare_3_lines('test','Mean','minimum temperature',tasmin_model_BC_NEX_GDDPCMIP6_to_comp_NOAA_past_BEIRA,'Daily Minimum Near-Surface Air Temperature °C','NEX-GDDP-CMIP6',daily_sum_obs_from_NOAA_BEIRA,'TMIN','NOAA','Annual mean daily minimum temperature °C','Beira')"
   ]
  },
  {
   "cell_type": "code",
   "execution_count": null,
   "id": "7dd5a2d4",
   "metadata": {},
   "outputs": [],
   "source": [
    "cdf_plot_category_or_obs('BEIRA, MZ',df_initial=tasmin_model_BC_NEX_GDDPCMIP6_to_comp_NOAA_past_BEIRA[['Model','Year','Daily Minimum Near-Surface Air Temperature °C']],name_column_df='Daily Minimum Near-Surface Air Temperature °C',source_df='NEX-GDDP-CMIP6',category='Model',obs_initial=daily_sum_obs_from_NOAA_BEIRA,name_column_obs='TMIN',source_obs='NOAA')"
   ]
  },
  {
   "cell_type": "code",
   "execution_count": null,
   "id": "df55a197",
   "metadata": {},
   "outputs": [],
   "source": [
    "boxplots_('minimum temperature',tasmin_model_BC_NEX_GDDPCMIP6_to_comp_NOAA_past_BEIRA,'Daily Minimum Near-Surface Air Temperature °C',daily_sum_obs_from_NOAA_BEIRA,'TMIN','Beira')"
   ]
  },
  {
   "cell_type": "code",
   "execution_count": null,
   "id": "c0b6aea3",
   "metadata": {},
   "outputs": [],
   "source": [
    "# Chimoio"
   ]
  },
  {
   "cell_type": "code",
   "execution_count": null,
   "id": "54c77406",
   "metadata": {},
   "outputs": [],
   "source": [
    "compare_3_lines('test','Mean','minimum temperature',tasmin_model_BC_NEX_GDDPCMIP6_to_comp_NOAA_past_CHIMOIO,'Daily Minimum Near-Surface Air Temperature °C','NEX-GDDP-CMIP6',daily_sum_obs_from_NOAA_CHIMOIO,'TMIN','NOAA','Annual mean daily minimum temperature °C','Chimoio')"
   ]
  },
  {
   "cell_type": "code",
   "execution_count": null,
   "id": "ac7189d9",
   "metadata": {},
   "outputs": [],
   "source": [
    "cdf_plot_category_or_obs('CHIMOIO, MZ',df_initial=tasmin_model_BC_NEX_GDDPCMIP6_to_comp_NOAA_past_CHIMOIO[['Model','Year','Daily Minimum Near-Surface Air Temperature °C']],name_column_df='Daily Minimum Near-Surface Air Temperature °C',source_df='NEX-GDDP-CMIP6',category='Model',obs_initial=daily_sum_obs_from_NOAA_CHIMOIO,name_column_obs='TMIN',source_obs='NOAA')"
   ]
  },
  {
   "cell_type": "code",
   "execution_count": null,
   "id": "f39d0c82",
   "metadata": {},
   "outputs": [],
   "source": [
    "boxplots_('minimum temperature',tasmin_model_BC_NEX_GDDPCMIP6_to_comp_NOAA_past_CHIMOIO,'Daily Minimum Near-Surface Air Temperature °C',daily_sum_obs_from_NOAA_CHIMOIO,'TMIN','Chimoio')"
   ]
  },
  {
   "cell_type": "markdown",
   "id": "094a6834",
   "metadata": {},
   "source": [
    "## Precipitation"
   ]
  },
  {
   "cell_type": "code",
   "execution_count": null,
   "id": "f4a046b4",
   "metadata": {},
   "outputs": [],
   "source": [
    "# Beira"
   ]
  },
  {
   "cell_type": "code",
   "execution_count": null,
   "id": "6724a51d",
   "metadata": {},
   "outputs": [],
   "source": [
    "compare_3_lines('test','Mean','precipitation',pr_model_BC_NEX_GDDPCMIP6_to_comp_NOAA_past_BEIRA,'Mean of the daily precipitation rate mm_per_day','NEX-GDDP-CMIP6',daily_sum_obs_from_NOAA_BEIRA,'PRCP','NOAA','Yearly mean of the mean daily precipitation rate mm/day','Beira')"
   ]
  },
  {
   "cell_type": "code",
   "execution_count": null,
   "id": "fd3f71d2",
   "metadata": {},
   "outputs": [],
   "source": [
    "cdf_plot_category_or_obs('Beira, MZ',df_initial=pr_model_BC_NEX_GDDPCMIP6_to_comp_NOAA_past_BEIRA[['Model','Year','Mean of the daily precipitation rate mm_per_day']],name_column_df='Mean of the daily precipitation rate mm_per_day',source_df='NEX-GDDP-CMIP6',category='Model',obs_initial=daily_sum_obs_from_NOAA_BEIRA,name_column_obs='PRCP',source_obs='NOAA')"
   ]
  },
  {
   "cell_type": "code",
   "execution_count": null,
   "id": "8bd8da7b",
   "metadata": {},
   "outputs": [],
   "source": [
    "boxplots_('precipitation',pr_model_BC_NEX_GDDPCMIP6_to_comp_NOAA_past_BEIRA,'Mean of the daily precipitation rate mm_per_day',daily_sum_obs_from_NOAA_BEIRA,'PRCP','Beira')"
   ]
  },
  {
   "cell_type": "code",
   "execution_count": null,
   "id": "1206d9d1",
   "metadata": {},
   "outputs": [],
   "source": [
    "# Chimoio"
   ]
  },
  {
   "cell_type": "code",
   "execution_count": null,
   "id": "c2e6b7c9",
   "metadata": {},
   "outputs": [],
   "source": [
    "compare_3_lines('test','Mean','precipitation',pr_model_BC_NEX_GDDPCMIP6_to_comp_NOAA_past_CHIMOIO,'Mean of the daily precipitation rate mm/day','NEX-GDDP-CMIP6',daily_sum_obs_from_NOAA_CHIMOIO,'PRCP','NOAA','Yearly mean of the mean daily precipitation rate mm/day','Chimoio')"
   ]
  },
  {
   "cell_type": "code",
   "execution_count": null,
   "id": "a12ebcad",
   "metadata": {},
   "outputs": [],
   "source": [
    "cdf_plot_category_or_obs('Chimoio, MZ',df_initial=pr_model_BC_NEX_GDDPCMIP6_to_comp_NOAA_past_CHIMOIO[['Model','Year','Mean of the daily precipitation rate mm/day']],name_column_df='Mean of the daily precipitation rate mm/day',source_df='NEX-GDDP-CMIP6',category='Model',obs_initial=daily_sum_obs_from_NOAA_CHIMOIO,name_column_obs='PRCP',source_obs='NOAA')"
   ]
  },
  {
   "cell_type": "code",
   "execution_count": null,
   "id": "338e765c",
   "metadata": {},
   "outputs": [],
   "source": [
    "boxplots_('precipitation',pr_model_BC_NEX_GDDPCMIP6_to_comp_NOAA_past_CHIMOIO,'Mean of the daily precipitation rate mm/day',daily_sum_obs_from_NOAA_CHIMOIO,'PRCP','Chimoio')"
   ]
  },
  {
   "cell_type": "code",
   "execution_count": null,
   "id": "c1b44d9f",
   "metadata": {},
   "outputs": [],
   "source": []
  },
  {
   "cell_type": "code",
   "execution_count": null,
   "id": "18fbc642",
   "metadata": {},
   "outputs": [],
   "source": []
  },
  {
   "cell_type": "code",
   "execution_count": null,
   "id": "96c8933d",
   "metadata": {},
   "outputs": [],
   "source": []
  },
  {
   "cell_type": "code",
   "execution_count": null,
   "id": "7009e8f7",
   "metadata": {},
   "outputs": [],
   "source": []
  },
  {
   "cell_type": "code",
   "execution_count": null,
   "id": "c1891863",
   "metadata": {},
   "outputs": [],
   "source": []
  },
  {
   "cell_type": "code",
   "execution_count": null,
   "id": "82434f0f",
   "metadata": {},
   "outputs": [],
   "source": []
  },
  {
   "cell_type": "code",
   "execution_count": null,
   "id": "db4ad11a",
   "metadata": {},
   "outputs": [],
   "source": [
    "# supprimer la suite ?"
   ]
  },
  {
   "cell_type": "markdown",
   "id": "b5adf42c",
   "metadata": {},
   "source": [
    "# What needs to be changed ?\n",
    "## Which models need to be taken out ?"
   ]
  },
  {
   "cell_type": "markdown",
   "id": "2880b962",
   "metadata": {},
   "source": [
    "those graphs confirm that for precipitation and maximum temperature, no need to kill a model. But, for temperature and minimum temeprature, 'TAIESM1' and 'CMCC-CM2-SR5' are not following the trend. Take out those 2 models for all climate variable"
   ]
  },
  {
   "cell_type": "code",
   "execution_count": null,
   "id": "1ff7fe5b",
   "metadata": {},
   "outputs": [],
   "source": [
    "# take out models for maximum temperature\n",
    "tasmax_model_NEX_GDDPCMIP6_to_comp_NOAA_past = tasmax_model_NEX_GDDPCMIP6_to_comp_NOAA_past[tasmax_model_NEX_GDDPCMIP6_to_comp_NOAA_past['Model']!='CMCC-CM2-SR5']\n",
    "tasmax_model_NEX_GDDPCMIP6_to_comp_NOAA_past = tasmax_model_NEX_GDDPCMIP6_to_comp_NOAA_past[tasmax_model_NEX_GDDPCMIP6_to_comp_NOAA_past['Model']!='TaiESM1']\n",
    "\n",
    "tasmax_model_NEX_GDDPCMIP6_to_comp_NOAA_CHIMOIO_past = tasmax_model_NEX_GDDPCMIP6_to_comp_NOAA_past[tasmax_model_NEX_GDDPCMIP6_to_comp_NOAA_past['Name station']=='CHIMOIO, MZ']\n",
    "tasmax_model_NEX_GDDPCMIP6_to_comp_NOAA_PEMBA_past = tasmax_model_NEX_GDDPCMIP6_to_comp_NOAA_past[tasmax_model_NEX_GDDPCMIP6_to_comp_NOAA_past['Name station']=='PEMBA, MZ']\n",
    "tasmax_model_NEX_GDDPCMIP6_to_comp_NOAA_BEIRA_past = tasmax_model_NEX_GDDPCMIP6_to_comp_NOAA_past[tasmax_model_NEX_GDDPCMIP6_to_comp_NOAA_past['Name station']=='BEIRA, MZ']"
   ]
  },
  {
   "cell_type": "code",
   "execution_count": null,
   "id": "c389bbae",
   "metadata": {},
   "outputs": [],
   "source": [
    "# take out models for average temperature\n",
    "tas_model_NEX_GDDPCMIP6_to_comp_NOAA_past = tas_model_NEX_GDDPCMIP6_to_comp_NOAA_past[tas_model_NEX_GDDPCMIP6_to_comp_NOAA_past['Model']!='CMCC-CM2-SR5']\n",
    "tas_model_NEX_GDDPCMIP6_to_comp_NOAA_past = tas_model_NEX_GDDPCMIP6_to_comp_NOAA_past[tas_model_NEX_GDDPCMIP6_to_comp_NOAA_past['Model']!='TaiESM1']\n",
    "\n",
    "tas_model_NEX_GDDPCMIP6_to_comp_NOAA_CHIMOIO_past = tas_model_NEX_GDDPCMIP6_to_comp_NOAA_past[tas_model_NEX_GDDPCMIP6_to_comp_NOAA_past['Name station']=='CHIMOIO, MZ']\n",
    "tas_model_NEX_GDDPCMIP6_to_comp_NOAA_PEMBA_past = tas_model_NEX_GDDPCMIP6_to_comp_NOAA_past[tas_model_NEX_GDDPCMIP6_to_comp_NOAA_past['Name station']=='PEMBA, MZ']\n",
    "tas_model_NEX_GDDPCMIP6_to_comp_NOAA_BEIRA_past = tas_model_NEX_GDDPCMIP6_to_comp_NOAA_past[tas_model_NEX_GDDPCMIP6_to_comp_NOAA_past['Name station']=='BEIRA, MZ']"
   ]
  },
  {
   "cell_type": "code",
   "execution_count": null,
   "id": "3673f88a",
   "metadata": {},
   "outputs": [],
   "source": [
    "# take out models for maximum temperature\n",
    "tasmax_model_NEX_GDDPCMIP6_to_comp_NOAA_past = tasmax_model_NEX_GDDPCMIP6_to_comp_NOAA_past[tasmax_model_NEX_GDDPCMIP6_to_comp_NOAA_past['Model']!='CMCC-CM2-SR5']\n",
    "tasmax_model_NEX_GDDPCMIP6_to_comp_NOAA_past = tasmax_model_NEX_GDDPCMIP6_to_comp_NOAA_past[tasmax_model_NEX_GDDPCMIP6_to_comp_NOAA_past['Model']!='TaiESM1']\n",
    "\n",
    "tasmax_model_NEX_GDDPCMIP6_to_comp_NOAA_CHIMOIO_past = tasmax_model_NEX_GDDPCMIP6_to_comp_NOAA_past[tasmax_model_NEX_GDDPCMIP6_to_comp_NOAA_past['Name station']=='CHIMOIO, MZ']\n",
    "tasmax_model_NEX_GDDPCMIP6_to_comp_NOAA_PEMBA_past = tasmax_model_NEX_GDDPCMIP6_to_comp_NOAA_past[tasmax_model_NEX_GDDPCMIP6_to_comp_NOAA_past['Name station']=='PEMBA, MZ']\n",
    "tasmax_model_NEX_GDDPCMIP6_to_comp_NOAA_BEIRA_past = tasmax_model_NEX_GDDPCMIP6_to_comp_NOAA_past[tasmax_model_NEX_GDDPCMIP6_to_comp_NOAA_past['Name station']=='BEIRA, MZ']"
   ]
  },
  {
   "cell_type": "code",
   "execution_count": null,
   "id": "c09ebf4f",
   "metadata": {},
   "outputs": [],
   "source": [
    "# take out models for minimum temperature\n",
    "tasmin_model_NEX_GDDPCMIP6_to_comp_NOAA_past = tasmin_model_NEX_GDDPCMIP6_to_comp_NOAA_past[tasmin_model_NEX_GDDPCMIP6_to_comp_NOAA_past['Model']!='CMCC-CM2-SR5']\n",
    "tasmin_model_NEX_GDDPCMIP6_to_comp_NOAA_past = tasmin_model_NEX_GDDPCMIP6_to_comp_NOAA_past[tasmin_model_NEX_GDDPCMIP6_to_comp_NOAA_past['Model']!='TaiESM1']\n",
    "\n",
    "tasmin_model_NEX_GDDPCMIP6_to_comp_NOAA_CHIMOIO_past = tasmin_model_NEX_GDDPCMIP6_to_comp_NOAA_past[tasmin_model_NEX_GDDPCMIP6_to_comp_NOAA_past['Name station']=='CHIMOIO, MZ']\n",
    "tasmin_model_NEX_GDDPCMIP6_to_comp_NOAA_PEMBA_past = tasmin_model_NEX_GDDPCMIP6_to_comp_NOAA_past[tasmin_model_NEX_GDDPCMIP6_to_comp_NOAA_past['Name station']=='PEMBA, MZ']\n",
    "tasmin_model_NEX_GDDPCMIP6_to_comp_NOAA_BEIRA_past = tasmin_model_NEX_GDDPCMIP6_to_comp_NOAA_past[tasmin_model_NEX_GDDPCMIP6_to_comp_NOAA_past['Name station']=='BEIRA, MZ']"
   ]
  },
  {
   "cell_type": "markdown",
   "id": "bc6ed224",
   "metadata": {},
   "source": [
    "## Temperature : take out some models"
   ]
  },
  {
   "cell_type": "code",
   "execution_count": null,
   "id": "097138b9",
   "metadata": {},
   "outputs": [],
   "source": [
    "tas_model_NEX_GDDPCMIP6_to_comp_NOAA_past = tas_model_NEX_GDDPCMIP6_to_comp_NOAA_past[tas_model_NEX_GDDPCMIP6_to_comp_NOAA_past['Model']!='TaiESM1']"
   ]
  },
  {
   "cell_type": "code",
   "execution_count": null,
   "id": "bab45d8b",
   "metadata": {},
   "outputs": [],
   "source": [
    "tas_model_NEX_GDDPCMIP6_to_comp_NOAA_past = tas_model_NEX_GDDPCMIP6_to_comp_NOAA_past[tas_model_NEX_GDDPCMIP6_to_comp_NOAA_past['Model']!='CMCC-CM2-SR5']"
   ]
  },
  {
   "cell_type": "code",
   "execution_count": null,
   "id": "a8d00696",
   "metadata": {},
   "outputs": [],
   "source": [
    "tas_model_NEX_GDDPCMIP6_to_comp_NOAA_CHIMOIO_past = tas_model_NEX_GDDPCMIP6_to_comp_NOAA_past[tas_model_NEX_GDDPCMIP6_to_comp_NOAA_past['Name station']=='CHIMOIO, MZ']\n",
    "tas_model_NEX_GDDPCMIP6_to_comp_NOAA_PEMBA_past = tas_model_NEX_GDDPCMIP6_to_comp_NOAA_past[tas_model_NEX_GDDPCMIP6_to_comp_NOAA_past['Name station']=='PEMBA, MZ']\n",
    "tas_model_NEX_GDDPCMIP6_to_comp_NOAA_BEIRA_past = tas_model_NEX_GDDPCMIP6_to_comp_NOAA_past[tas_model_NEX_GDDPCMIP6_to_comp_NOAA_past['Name station']=='BEIRA, MZ']"
   ]
  },
  {
   "cell_type": "code",
   "execution_count": null,
   "id": "9d8b87f9",
   "metadata": {},
   "outputs": [],
   "source": [
    "compare_3_lines('test','Mean','temperature',tas_model_NEX_GDDPCMIP6_to_comp_NOAA_BEIRA_past,'Daily Near-Surface Air Temperature °C',daily_sum_obs_from_NOAA_BEIRA,'TAVG','NOAA','Annual mean daily temperature °C','Beira')"
   ]
  },
  {
   "cell_type": "code",
   "execution_count": null,
   "id": "dbbeadfe",
   "metadata": {},
   "outputs": [],
   "source": [
    "cdf_plot_category_or_obs('Beira, MZ',df_initial=tas_model_NEX_GDDPCMIP6_to_comp_NOAA_BEIRA_past[['Model','Year','Daily Near-Surface Air Temperature °C']],name_column_df='Daily Near-Surface Air Temperature °C',source_df='NEX-GDDP-CMIP6',category='Model',obs_initial=daily_sum_obs_from_NOAA_BEIRA,name_column_obs='TAVG',source_obs='NOAA')"
   ]
  },
  {
   "cell_type": "code",
   "execution_count": null,
   "id": "1eec3caf",
   "metadata": {},
   "outputs": [],
   "source": [
    "boxplots_('temperature',tas_model_NEX_GDDPCMIP6_to_comp_NOAA_BEIRA_past,'Daily Near-Surface Air Temperature °C',daily_sum_obs_from_NOAA_BEIRA,'TAVG','Beira')"
   ]
  },
  {
   "cell_type": "code",
   "execution_count": null,
   "id": "be187c4d",
   "metadata": {},
   "outputs": [],
   "source": [
    "compare_3_lines('test','Mean','temperature',tas_model_NEX_GDDPCMIP6_to_comp_NOAA_PEMBA_past,'Daily Near-Surface Air Temperature °C',daily_sum_obs_from_NOAA_PEMBA,'TAVG','NOAA','Annual mean daily temperature °C','Pemba')"
   ]
  },
  {
   "cell_type": "code",
   "execution_count": null,
   "id": "9470e77c",
   "metadata": {},
   "outputs": [],
   "source": [
    "cdf_plot_category_or_obs('Pemba, MZ',df_initial=tas_model_NEX_GDDPCMIP6_to_comp_NOAA_PEMBA_past[['Model','Year','Daily Near-Surface Air Temperature °C']],name_column_df='Daily Near-Surface Air Temperature °C',source_df='NEX-GDDP-CMIP6',category='Model',obs_initial=daily_sum_obs_from_NOAA_PEMBA,name_column_obs='TAVG',source_obs='NOAA')"
   ]
  },
  {
   "cell_type": "code",
   "execution_count": null,
   "id": "c8abe2dd",
   "metadata": {},
   "outputs": [],
   "source": [
    "boxplots_('temperature',tas_model_NEX_GDDPCMIP6_to_comp_NOAA_PEMBA_past,'Daily Near-Surface Air Temperature °C',daily_sum_obs_from_NOAA_PEMBA,'TAVG','Pemba')"
   ]
  },
  {
   "cell_type": "code",
   "execution_count": null,
   "id": "c7850a10",
   "metadata": {},
   "outputs": [],
   "source": [
    "compare_3_lines('test','Mean','temperature',tas_model_NEX_GDDPCMIP6_to_comp_NOAA_CHIMOIO_past,'Daily Near-Surface Air Temperature °C',daily_sum_obs_from_NOAA_CHIMOIO,'TAVG','NOAA','Annual mean daily temperature °C','Chimoio')"
   ]
  },
  {
   "cell_type": "code",
   "execution_count": null,
   "id": "a79b22cc",
   "metadata": {},
   "outputs": [],
   "source": [
    "cdf_plot_category_or_obs('Chimoio, MZ',df_initial=tas_model_NEX_GDDPCMIP6_to_comp_NOAA_CHIMOIO_past[['Model','Year','Daily Near-Surface Air Temperature °C']],name_column_df='Daily Near-Surface Air Temperature °C',source_df='NEX-GDDP-CMIP6',category='Model',obs_initial=daily_sum_obs_from_NOAA_CHIMOIO,name_column_obs='TAVG',source_obs='NOAA')"
   ]
  },
  {
   "cell_type": "code",
   "execution_count": null,
   "id": "aefb4843",
   "metadata": {},
   "outputs": [],
   "source": [
    "boxplots_('temperature',tas_model_NEX_GDDPCMIP6_to_comp_NOAA_CHIMOIO_past,'Daily Near-Surface Air Temperature °C',daily_sum_obs_from_NOAA_CHIMOIO,'TAVG','CHIMOIO')"
   ]
  },
  {
   "cell_type": "markdown",
   "id": "ed283030",
   "metadata": {},
   "source": [
    "## Maximum temperature : take out some models (the ones that were not performing well for average temperature) from modelled data and some extreme values that are not plausible from observation data"
   ]
  },
  {
   "cell_type": "code",
   "execution_count": null,
   "id": "1482f9b7",
   "metadata": {},
   "outputs": [],
   "source": [
    "# take out models \n",
    "tasmax_model_NEX_GDDPCMIP6_to_comp_NOAA_past = tasmax_model_NEX_GDDPCMIP6_to_comp_NOAA_past[tasmax_model_NEX_GDDPCMIP6_to_comp_NOAA_past['Model']!='CMCC-CM2-SR5']\n",
    "tasmax_model_NEX_GDDPCMIP6_to_comp_NOAA_past = tasmax_model_NEX_GDDPCMIP6_to_comp_NOAA_past[tasmax_model_NEX_GDDPCMIP6_to_comp_NOAA_past['Model']!='TaiESM1']"
   ]
  },
  {
   "cell_type": "code",
   "execution_count": null,
   "id": "db428352",
   "metadata": {},
   "outputs": [],
   "source": [
    "tasmax_model_NEX_GDDPCMIP6_to_comp_NOAA_CHIMOIO_past = tasmax_model_NEX_GDDPCMIP6_to_comp_NOAA_past[tasmax_model_NEX_GDDPCMIP6_to_comp_NOAA_past['Name station']=='CHIMOIO, MZ']\n",
    "tasmax_model_NEX_GDDPCMIP6_to_comp_NOAA_PEMBA_past = tasmax_model_NEX_GDDPCMIP6_to_comp_NOAA_past[tasmax_model_NEX_GDDPCMIP6_to_comp_NOAA_past['Name station']=='PEMBA, MZ']\n",
    "tasmax_model_NEX_GDDPCMIP6_to_comp_NOAA_BEIRA_past = tasmax_model_NEX_GDDPCMIP6_to_comp_NOAA_past[tasmax_model_NEX_GDDPCMIP6_to_comp_NOAA_past['Name station']=='BEIRA, MZ']"
   ]
  },
  {
   "cell_type": "code",
   "execution_count": null,
   "id": "26759e78",
   "metadata": {},
   "outputs": [],
   "source": [
    "# chimoio"
   ]
  },
  {
   "cell_type": "code",
   "execution_count": null,
   "id": "6ab6416e",
   "metadata": {},
   "outputs": [],
   "source": [
    "compare_3_lines('test','Mean','maximum temperature',tasmax_model_NEX_GDDPCMIP6_to_comp_NOAA_CHIMOIO_past,'Daily Maximum Near-Surface Air Temperature °C',daily_sum_obs_from_NOAA_CHIMOIO,'TMAX','NOAA','Annual mean daily maximum temperature °C','Chimoio')"
   ]
  },
  {
   "cell_type": "code",
   "execution_count": null,
   "id": "dde3b1db",
   "metadata": {},
   "outputs": [],
   "source": [
    "cdf_plot_category_or_obs('CHIMOIO, MZ',df_initial=tasmax_model_NEX_GDDPCMIP6_to_comp_NOAA_CHIMOIO_past[['Model','Year','Daily Maximum Near-Surface Air Temperature °C']],name_column_df='Daily Maximum Near-Surface Air Temperature °C',source_df='NEX-GDDP-CMIP6',category='Model',obs_initial=daily_sum_obs_from_NOAA_CHIMOIO,name_column_obs='TMAX',source_obs='NOAA')"
   ]
  },
  {
   "cell_type": "code",
   "execution_count": null,
   "id": "a980c662",
   "metadata": {},
   "outputs": [],
   "source": [
    "boxplots_('maximum temperature',tasmax_model_NEX_GDDPCMIP6_to_comp_NOAA_CHIMOIO_past,'Daily Maximum Near-Surface Air Temperature °C',daily_sum_obs_from_NOAA_CHIMOIO,'TMAX','Chimoio')"
   ]
  },
  {
   "cell_type": "code",
   "execution_count": null,
   "id": "ffb89a00",
   "metadata": {},
   "outputs": [],
   "source": [
    "# pemba"
   ]
  },
  {
   "cell_type": "code",
   "execution_count": null,
   "id": "9d2a1415",
   "metadata": {},
   "outputs": [],
   "source": [
    "compare_3_lines('test','Mean','maximum temperature',tasmax_model_NEX_GDDPCMIP6_to_comp_NOAA_PEMBA_past,'Daily Maximum Near-Surface Air Temperature °C',daily_sum_obs_from_NOAA_PEMBA,'TMAX','NOAA','Annual mean daily maximum temperature °C','Pemba')"
   ]
  },
  {
   "cell_type": "code",
   "execution_count": null,
   "id": "9c5f8cbc",
   "metadata": {},
   "outputs": [],
   "source": [
    "cdf_plot_category_or_obs('PEMBA, MZ',df_initial=tasmax_model_NEX_GDDPCMIP6_to_comp_NOAA_PEMBA_past[['Model','Year','Daily Maximum Near-Surface Air Temperature °C']],name_column_df='Daily Maximum Near-Surface Air Temperature °C',source_df='NEX-GDDP-CMIP6',category='Model',obs_initial=daily_sum_obs_from_NOAA_PEMBA,name_column_obs='TMAX',source_obs='NOAA')"
   ]
  },
  {
   "cell_type": "code",
   "execution_count": null,
   "id": "b03a16b3",
   "metadata": {},
   "outputs": [],
   "source": [
    "boxplots_('maximum temperature',tasmax_model_NEX_GDDPCMIP6_to_comp_NOAA_PEMBA_past,'Daily Maximum Near-Surface Air Temperature °C',daily_sum_obs_from_NOAA_PEMBA,'TMAX','Pemba')"
   ]
  },
  {
   "cell_type": "code",
   "execution_count": null,
   "id": "8adb7e1f",
   "metadata": {},
   "outputs": [],
   "source": [
    "# Beira"
   ]
  },
  {
   "cell_type": "code",
   "execution_count": null,
   "id": "95e2cdaa",
   "metadata": {},
   "outputs": [],
   "source": [
    "compare_3_lines('test','Mean','maximum temperature',tasmax_model_NEX_GDDPCMIP6_to_comp_NOAA_BEIRA_past,'Daily Maximum Near-Surface Air Temperature °C',daily_sum_obs_from_NOAA_BEIRA,'TMAX','NOAA','Annual mean daily maximum temperature °C','Beira')"
   ]
  },
  {
   "cell_type": "code",
   "execution_count": null,
   "id": "53eef34b",
   "metadata": {},
   "outputs": [],
   "source": [
    "cdf_plot_category_or_obs('Beira, MZ',df_initial=tasmax_model_NEX_GDDPCMIP6_to_comp_NOAA_BEIRA_past[['Model','Year','Daily Maximum Near-Surface Air Temperature °C']],name_column_df='Daily Maximum Near-Surface Air Temperature °C',source_df='NEX-GDDP-CMIP6',category='Model',obs_initial=daily_sum_obs_from_NOAA_BEIRA,name_column_obs='TMAX',source_obs='NOAA')"
   ]
  },
  {
   "cell_type": "code",
   "execution_count": null,
   "id": "420b520c",
   "metadata": {},
   "outputs": [],
   "source": [
    "boxplots_('maximum temperature',tasmax_model_NEX_GDDPCMIP6_to_comp_NOAA_BEIRA_past,'Daily Maximum Near-Surface Air Temperature °C',daily_sum_obs_from_NOAA_BEIRA,'TMAX','Beira')"
   ]
  },
  {
   "cell_type": "code",
   "execution_count": null,
   "id": "d7a64264",
   "metadata": {},
   "outputs": [],
   "source": []
  },
  {
   "cell_type": "code",
   "execution_count": null,
   "id": "426a195a",
   "metadata": {},
   "outputs": [],
   "source": []
  },
  {
   "cell_type": "code",
   "execution_count": null,
   "id": "30cbbc74",
   "metadata": {},
   "outputs": [],
   "source": []
  },
  {
   "cell_type": "code",
   "execution_count": null,
   "id": "1f3483af",
   "metadata": {},
   "outputs": [],
   "source": []
  },
  {
   "cell_type": "code",
   "execution_count": null,
   "id": "7b76b279",
   "metadata": {},
   "outputs": [],
   "source": []
  },
  {
   "cell_type": "code",
   "execution_count": null,
   "id": "59c2212d",
   "metadata": {},
   "outputs": [],
   "source": []
  },
  {
   "cell_type": "code",
   "execution_count": null,
   "id": "2ff49a2a",
   "metadata": {},
   "outputs": [],
   "source": []
  },
  {
   "cell_type": "code",
   "execution_count": null,
   "id": "d25f2766",
   "metadata": {},
   "outputs": [],
   "source": []
  },
  {
   "cell_type": "code",
   "execution_count": null,
   "id": "289893bf",
   "metadata": {},
   "outputs": [],
   "source": []
  },
  {
   "cell_type": "code",
   "execution_count": null,
   "id": "e5446e81",
   "metadata": {},
   "outputs": [],
   "source": []
  },
  {
   "cell_type": "code",
   "execution_count": null,
   "id": "5a10ce26",
   "metadata": {},
   "outputs": [],
   "source": []
  },
  {
   "cell_type": "code",
   "execution_count": null,
   "id": "57de20c6",
   "metadata": {},
   "outputs": [],
   "source": []
  },
  {
   "cell_type": "code",
   "execution_count": null,
   "id": "1d4aa809",
   "metadata": {},
   "outputs": [],
   "source": []
  }
 ],
 "metadata": {
  "kernelspec": {
   "display_name": "Python 3 (ipykernel)",
   "language": "python",
   "name": "python3"
  },
  "language_info": {
   "codemirror_mode": {
    "name": "ipython",
    "version": 3
   },
   "file_extension": ".py",
   "mimetype": "text/x-python",
   "name": "python",
   "nbconvert_exporter": "python",
   "pygments_lexer": "ipython3",
   "version": "3.10.6"
  }
 },
 "nbformat": 4,
 "nbformat_minor": 5
}
