{
 "cells": [
  {
   "cell_type": "markdown",
   "id": "b93dcc14",
   "metadata": {},
   "source": [
    "This notebook is meant to download data from copernicus CMIP6.\n",
    "\n",
    "Data source : https://cds.climate.copernicus.eu/cdsapp#!/dataset/projections-cmip6?tab=form"
   ]
  },
  {
   "cell_type": "markdown",
   "id": "161c8b78",
   "metadata": {},
   "source": [
    "# User input"
   ]
  },
  {
   "cell_type": "code",
   "execution_count": 1,
   "id": "59a4269d",
   "metadata": {},
   "outputs": [],
   "source": [
    "period_of_interest = 'past' # 'future' (2015-2100) or 'past' (1950-2014)\n",
    "global_variable = 'temperature'\n",
    "name_variable = 'near_surface_air_temperature' \n",
    "\n",
    "# 'tas' 'near_surface_air_temperature'\n",
    "# 'tasmax' 'daily_maximum_near_surface_air_temperature'\n",
    "# 'tasmin' 'daily_minimum_near_surface_air_temperature'\n",
    "# 'hurs' 'near_surface_specific_humidity'\n",
    "# 'Wind' 'near_surface_wind_speed'\n",
    "\n",
    "temporal_resolution = 'daily'\n",
    "\n",
    "# wind register at 10 m"
   ]
  },
  {
   "cell_type": "markdown",
   "id": "843fe416",
   "metadata": {},
   "source": [
    "# Functions and packages"
   ]
  },
  {
   "cell_type": "code",
   "execution_count": 2,
   "id": "9510fc3b",
   "metadata": {},
   "outputs": [],
   "source": [
    "import pandas as pd\n",
    "import numpy as np\n",
    "import numpy.ma as ma\n",
    "import netCDF4 as nc#not directly used but needs to be imported for some nc4 files manipulations, use for nc files\n",
    "from netCDF4 import Dataset\n",
    "import xarray as xr\n",
    "import datetime # to have actual date\n",
    "import os\n",
    "import os.path\n",
    "import cdsapi # for copernicus function\n",
    "import shutil\n",
    "from datetime import datetime"
   ]
  },
  {
   "cell_type": "markdown",
   "id": "c3262e08",
   "metadata": {},
   "source": [
    "# Out path"
   ]
  },
  {
   "cell_type": "code",
   "execution_count": 3,
   "id": "ead08c23",
   "metadata": {},
   "outputs": [],
   "source": [
    "out_path=r'\\\\COWI.net\\projects\\A245000\\A248363\\CRVA\\Datasets'"
   ]
  },
  {
   "cell_type": "markdown",
   "id": "53516663",
   "metadata": {},
   "source": [
    "# Area information\n",
    "\n",
    "This code download data one area at the time. The user must indicate which part of the word he/she wnats to download.\n",
    "\n",
    "Reminder: \n",
    "\n",
    "latitude is vertical, it specifies North-South positions.\n",
    "\n",
    "longitude is horizontal, it specifies West-East positions."
   ]
  },
  {
   "cell_type": "code",
   "execution_count": 4,
   "id": "1f2fba23",
   "metadata": {},
   "outputs": [],
   "source": [
    "# default coordinates are the ones of Mozambique\n",
    "\n",
    "name_area = 'all-Mozambique'\n",
    "\n",
    "North = -10\n",
    "South = -27\n",
    "West = 30\n",
    "East = 41\n",
    "\n",
    "area = [North, West, South, East] # list format"
   ]
  },
  {
   "cell_type": "markdown",
   "id": "e9b3f294",
   "metadata": {},
   "source": [
    "# Class"
   ]
  },
  {
   "cell_type": "markdown",
   "id": "b9e29fa6",
   "metadata": {},
   "source": [
    "### Calendar class"
   ]
  },
  {
   "cell_type": "code",
   "execution_count": 5,
   "id": "d2d6a2c5",
   "metadata": {},
   "outputs": [],
   "source": [
    "# class to define parameter of time that remain constant durinf the whole script\n",
    "class calendar:\n",
    "    default_month = [ \n",
    "                '01', '02', '03',\n",
    "                '04', '05', '06',\n",
    "                '07', '08', '09',\n",
    "                '10', '11', '12',\n",
    "                ]\n",
    "    default_day = [\n",
    "                '01', '02', '03',\n",
    "                '04', '05', '06',\n",
    "                '07', '08', '09',\n",
    "                '10', '11', '12',\n",
    "                '13', '14', '15',\n",
    "                '16', '17', '18',\n",
    "                '19', '20', '21',\n",
    "                '22', '23', '24',\n",
    "                '25', '26', '27',\n",
    "                '28', '29', '30',\n",
    "                '31',\n",
    "                ]\n",
    "    #actual_date = datetime.date.today()\n",
    "    #actual_year = actual_date.year"
   ]
  },
  {
   "cell_type": "markdown",
   "id": "c24c5e67",
   "metadata": {},
   "source": [
    "### Copernicus class"
   ]
  },
  {
   "cell_type": "code",
   "execution_count": 6,
   "id": "d8f79fb3",
   "metadata": {},
   "outputs": [],
   "source": [
    "## Definition of tuples that will be useful to search which data are available or not\n",
    "# make it tuples to make unchangeable\n",
    "class copernicus_elements:\n",
    "    # there is 58 models\n",
    "    models =('access_cm2','awi_cm_1_1_mr','bcc_csm2_mr','cams_csm1_0','canesm5_canoe','cesm2_fv2','cesm2_waccm_fv2','cmcc_cm2_hr4','cmcc_esm2','cnrm_cm6_1_hr','e3sm_1_0','e3sm_1_1_eca','ec_earth3_aerchem','ec_earth3_veg','fgoals_f3_l','fio_esm_2_0','giss_e2_1_g','hadgem3_gc31_ll','iitm_esm','inm_cm5_0','ipsl_cm6a_lr','kiost_esm','miroc6','miroc_es2l','mpi_esm1_2_hr','mri_esm2_0','norcpm1','noresm2_mm','taiesm1','access_esm1_5','awi_esm_1_1_lr','bcc_esm1','canesm5','cesm2','cesm2_waccm','ciesm','cmcc_cm2_sr5','cnrm_cm6_1','cnrm_esm2_1','e3sm_1_1','ec_earth3','ec_earth3_cc','ec_earth3_veg_lr','fgoals_g3','gfdl_esm4','giss_e2_1_h','hadgem3_gc31_mm','inm_cm4_8','ipsl_cm5a2_inca','kace_1_0_g','mcm_ua_1_0','miroc_es2h','mpi_esm_1_2_ham','mpi_esm1_2_lr','nesm3','noresm2_lm','sam0_unicon','ukesm1_0_ll')\n",
    "    experiments = ('ssp1_1_9','ssp1_2_6','ssp4_3_4','ssp5_3_4os','ssp2_4_5','ssp4_6_0','ssp3_7_0','ssp5_8_5')\n",
    "    experiments_historical=('historical',)"
   ]
  },
  {
   "cell_type": "code",
   "execution_count": 7,
   "id": "e9a04313",
   "metadata": {},
   "outputs": [],
   "source": [
    "if period_of_interest == 'past':\n",
    "    y_start = 1950\n",
    "    y_end = 2014\n",
    "    scenarios = copernicus_elements.experiments_historical\n",
    "if period_of_interest == 'future':\n",
    "    y_start = 2015\n",
    "    y_end = 2100\n",
    "    scenarios = copernicus_elements.experiments"
   ]
  },
  {
   "cell_type": "markdown",
   "id": "80c51b12",
   "metadata": {},
   "source": [
    "## Functions"
   ]
  },
  {
   "cell_type": "code",
   "execution_count": 8,
   "id": "503373bb",
   "metadata": {},
   "outputs": [],
   "source": [
    "################################################ Period for copernicus function ################################################\n",
    "# Aim of the function: by giving it a first and last year of the period that must analyzed, this function produce several \n",
    "# vectors,containing time informations, useful to download and treat data from CMIP6 projections (https://cds.climate.copernicus.eu/cdsapp#!/dataset/projections-cmip6?tab=overview )\n",
    "# Those time vectors are used in the copernicus_data and the dataframe_copernicus and csv_copernicus functions\n",
    "\n",
    "# function year_copernicus produce \n",
    "# year: a vector containing all the year in the period of interest\n",
    "# year_str: an array containing all the year in the period of interest in the string format\n",
    "# index: an array containing the index of the year and year_str\n",
    "#### Parameters of the function\n",
    "# first_year: number in int format, of the first year of the period of interest\n",
    "# last_year: number in int format, of the last year of the period of interest\n",
    "def year_copernicus(first_year,last_year):\n",
    "    year = np.arange(first_year,(last_year+1),1) # create vector of years\n",
    "    year_str = [0]*len(year) # create initiale empty vector to convert years in int\n",
    "    index = np.arange(0,len(year)) # create vector of index for year\n",
    "    i = 0 # initialize index\n",
    "    for i in index: # convert all the date in string format\n",
    "        year_str[i]=str(year[i])\n",
    "    return (year, year_str, index)\n",
    "\n",
    "# function date_copernicus produce \n",
    "# dates: the format depend on the temporal reolution, but always contain the dates of the period of interest.\n",
    "#        with temporal_resolution=daily, dates is a DatetimeIndex\n",
    "#        with temporal_resolution=monthly, dates is a list\n",
    "# index_dates: an array containing the index of the dates\n",
    "#### Parameters of the function\n",
    "# temporal_resolution: daily or monthly\n",
    "# year_str: ???? produce by function year_copernicus, containing the year of the period of interest in string format\n",
    "def date_copernicus(temporal_resolution,year_str):\n",
    "    start_date = \"01-01-\"+year_str[0] # string start date based on start year\n",
    "    stop_date = \"31-12-\"+year_str[len(year_str)-1] # string stop date based on stop year\n",
    "    if temporal_resolution =='daily':\n",
    "        # vector of dates between start date and stop date\n",
    "        dates = pd.date_range(start_date,stop_date)# dates is a pandas.core.indexes.datetimes.DatetimeIndex\n",
    "        # By default, freq = 'D', which means calendar day frequency (source : https://pandas.pydata.org/docs/user_guide/timeseries.html#timeseries-offset-aliases)\n",
    "        #index_dates = np.arange(0,len(dates)) # vector containning index o dates vector\n",
    "    if temporal_resolution =='monthly':\n",
    "        dates = pd.date_range(start_date,stop_date,freq='MS') # vector of dates between start date and stop date\n",
    "        dates=list(dates.strftime('%m-%Y')) # dates is an pandas.core.indexes.base.Index, not a pandas.core.indexes.datetimes.DatetimeIndex\n",
    "    #if temporal_resolution =='fixed': trouver donnees pour gerer cela\n",
    "    index_dates = np.arange(0,len(dates)) # vector containning index o dates vector\n",
    "    return (dates, index_dates)"
   ]
  },
  {
   "cell_type": "code",
   "execution_count": 9,
   "id": "1bec7c7b",
   "metadata": {},
   "outputs": [],
   "source": [
    "########################################### Download data from Copernicus Website ############################################\n",
    "# Aim of the function: this function aims to downloaded with the function copernicus_data the files of interest from the website\n",
    "# Copernicus CMIP6\n",
    "# Actions of this function\n",
    "#     1) Create the string indicating the period of interest\n",
    "#     2) Download data, with its corresponding experiments and models\n",
    "#        2 a) Creates path for file\n",
    "#        2 b) Thanks to function 'copernicus_data', download the data inthe path just created\n",
    "\n",
    "# Parameters of the function\n",
    "# temporal_resolution: 'daily', 'monthly', or 'fixed'. String type \n",
    "# year_str: list containing all the years under the string type and in the period of interest\n",
    "# experiments: copernicus_elements.experiments\n",
    "# models: copernicus_elements.models\n",
    "# out_path: path were the outputs are registered. Defined by the user at the beginning of the code \n",
    "# global_variable: global name of the climate variable of interest (example: Wind)\n",
    "# name_variable: name of the elements downloaded from copernicus (example: 'near_surface_wind_speed')\n",
    "# area: list containing latitudes and longitudes of area of interest\n",
    "# name_area: Name of the area of interest\n",
    "# source: name of the source of the data, by default it is 'Copernicus-CMIP6'\n",
    "\n",
    "def download_copernicus(temporal_resolution,year_str,experiments,models,out_path, global_variable, name_variable,area, name_area,source='Copernicus-CMIP6'):    \n",
    "    # create string for name of folder depending on type of period\n",
    "    if temporal_resolution == 'fixed':\n",
    "        period = 'fixed'\n",
    "    else:\n",
    "        period=year_str[0]+'-'+year_str[len(year_str)-1]\n",
    "        \n",
    "    for SSP in experiments:\n",
    "        experiment = (SSP,) # create tuple for iteration of dataframe\n",
    "        for model_simulation in models:\n",
    "            model =(model_simulation,) # create tuple for iteration of dataframe\n",
    "            print('Test with scenario '+SSP+' and model '+model_simulation)\n",
    "            # path were the futur downloaded file is registered\n",
    "            path_for_file= os.path.join(out_path,global_variable,name_variable,source,'raw_data',period,SSP,model_simulation)\n",
    "            #path_for_file = path_length(path_for_file)\n",
    "            # existence of path_for_file tested in copernicus function\n",
    "            copernicus_data(temporal_resolution,SSP,name_variable,model_simulation,year_str,area,path_for_file,out_path,name_area,source)\n",
    "\n",
    "    return"
   ]
  },
  {
   "cell_type": "code",
   "execution_count": 10,
   "id": "350b5a88",
   "metadata": {},
   "outputs": [],
   "source": [
    "################################################### Copernicus data function ###################################################\n",
    "# Aim of the function : Determine if the data were already downloadeed or not. If the data were not downloaded, call\n",
    "# function 'try_download_copernicus' to download them. If the data were already downloaded but not extracted, call function\n",
    "# 'download_extract'\n",
    "# Actions of this function\n",
    "#     1) create the string of the path where the data will be registered \n",
    "#        \n",
    "#     2) Check if the path where the data will be registered already exists or not\n",
    "#        2 a) The path where the data will be registered does not exist\n",
    "#             The path where are the compressed data exists ?\n",
    "#                   ---> no : call the 'try_download_copernicus' to download and extract the data of interest\n",
    "#                   ---> yes : is the path empty ?\n",
    "#                              > yes : use 'try_download_copernicus' to download and extract the data of interest\n",
    "#                              > no : call function 'download_extract' to extract the files in this path to path_for_file\n",
    "#        2 b) The path where the data will be registered does exist\n",
    "#             Is the path empty ?\n",
    "#                   ---> yes : the path where the compressed data are exists ?\n",
    "#                             > no : use 'try_download_copernicus' to download and extract the data of interest\n",
    "#                             > yes : is the folder empty ?\n",
    "#                                     * yes : use 'try_download_copernicus' to download and extract the data of interest\n",
    "#                                     * no : call function 'download_extract' to extract the files in this path to path_for_file\n",
    "#                   ---> no : the data were downloaded and extracted for the elements of interest \n",
    "\n",
    "#### Parameters of the function\n",
    "# temporal_resolution : daily or monthly or fixed\n",
    "# SSP : scenario that is studied \"Historical\", \"SSP1-1.9\", \"SSP1-2.6\" ...\n",
    "# name_variable : variable to be studied\n",
    "# model: model of projection to choose\n",
    "# year: year(s) of study to choose\n",
    "# area: area of study, if not specific, area should be an empty array area=[]\n",
    "# path_for_file: path where the file must be unzipped\n",
    "# out_path: path were all the outputs are registered, defined by the user in the begining of the main code\n",
    "# name_area :  Name of the area of interest\n",
    "# source: name of the source of the data (here 'Copernicus-CMIP6')\n",
    "\n",
    "def copernicus_data(temporal_resolution,SSP,name_variable,model,year,area,path_for_file,out_path,name_area,source): \n",
    "    # create path for the downloaded file\n",
    "    start_path = os.path.join(out_path,'Data_download_zip')\n",
    "    file_download=create_file_download_path(start_path,name_variable,name_area,SSP,model,year,temporal_resolution,source)\n",
    "    \n",
    "    if not os.path.isdir(path_for_file):\n",
    "        # the path for the file does not exist\n",
    "        print('path_for_file does not exist: the data may not have been downloaded') \n",
    "        if not os.path.isdir(file_download):\n",
    "            print('file_download does not exist: the data were not downloaded')\n",
    "            # function try to download from copernicus\n",
    "            try_download_copernicus(temporal_resolution,SSP,name_variable,model,area,year,path_for_file,file_download,name_area)\n",
    "            return\n",
    "            \n",
    "        else: # if the path already exist, the data in zip format should also exists\n",
    "            if not os.path.isfile(os.path.join(file_download,'download.zip')):\n",
    "                print('The path for the download file exists, but is empty')\n",
    "                # function try to download from copernicus\n",
    "                try_download_copernicus(temporal_resolution,SSP,name_variable,model,area,year,path_for_file,file_download,name_area)                \n",
    "                return\n",
    "            else:\n",
    "                print('file_download does exist, the data have been downloaded, but not extracted')\n",
    "                download_extract(path_for_file,file_download,name_area)\n",
    "                return\n",
    "                \n",
    "    else: \n",
    "        # the path for the file exists\n",
    "        if not os.listdir(path_for_file): # if the path is empty\n",
    "            if not os.path.isdir(file_download):\n",
    "                print('file_download does not exist: the data were not downloaded')\n",
    "                # function try to download from copernicus\n",
    "                try_download_copernicus(temporal_resolution,SSP,name_variable,model,area,year,path_for_file,file_download,name_area)\n",
    "                return\n",
    "\n",
    "            else: # if the path already exist, the data in zip format should also exists\n",
    "                if not os.path.isfile(os.path.join(file_download,'download.zip')):\n",
    "                    print('The path for the download file exists, but is empty')\n",
    "                    # function try to download from copernicus\n",
    "                    try_download_copernicus(temporal_resolution,SSP,name_variable,model,area,year,path_for_file,file_download,name_area)\n",
    "                    return\n",
    "                else:\n",
    "                    print('file_download does exist, the data have been downloaded, but not extracted')\n",
    "                    download_extract(path_for_file,file_download,name_area)\n",
    "                    return\n",
    "        \n",
    "        else: # if the path is not empty\n",
    "            print(f'The data has already been downloaded and extracted at {path_for_file}')\n",
    "            return"
   ]
  },
  {
   "cell_type": "code",
   "execution_count": 11,
   "id": "3c6d6b4b",
   "metadata": {},
   "outputs": [],
   "source": [
    "################################################### try_download_copernicus function ###################################################\n",
    "# Aim of the function : download compressed files from the Copernicus CMIP6 website (indicated at the beginning of the website)\n",
    "\n",
    "##### Actions of the functions :\n",
    "#     1) import function cdsapi.Client(). Will be use in step 3, with c.retrieve\n",
    "#     2) Create the variables dictionnary, depending on the parameters of 'try_download_copernicus'. this dictionnary will then\n",
    "#        be used in the c.retrieve function\n",
    "#     3) Try to downloaded compressed file from Copernicus CMIP6 website. If parameters are not matching, will fall in except \n",
    "#        and continue\n",
    "#     4) Use function 'download_extract' to extract compressed files in path_for_file\n",
    "\n",
    "##### Parameters :\n",
    "# temporal_resolution : daily or monthly or fixed\n",
    "# SSP : scenario that is studied \"Historical\", \"SSP1-1.9\", \"SSP1-2.6\" ...\n",
    "# name_variable : variable to be studied\n",
    "# model: model of projection to choose\n",
    "# area: area of study, if not specific, area should be an empty array area=[]\n",
    "# year: year(s) of study to choose\n",
    "# path_for_file: path where the file must be unzipped\n",
    "# file_download : path where the compressed files under a zip format are registered\n",
    "# name_area : Name of the area of interest\n",
    "\n",
    "def try_download_copernicus(temporal_resolution,SSP,name_variable,model,area,year,path_for_file,file_download,name_area):\n",
    "    c = cdsapi.Client()# function to use the c.retrieve\n",
    "    # basic needed dictionnary to give to the c.retrieve function the parameters asked by the user\n",
    "    variables = {\n",
    "                'format': 'zip', # this function is only designed to download and unzip zip files\n",
    "                'temporal_resolution': temporal_resolution,\n",
    "                'experiment': SSP,\n",
    "                'variable': name_variable,\n",
    "                'model': model,\n",
    "    }\n",
    "\n",
    "    if area != []: # the user is interested by a sub region and not the whole region \n",
    "        variables.update({'area':area}) \n",
    "\n",
    "    if (name_variable=='air_temperature') or (name_variable=='relative_humidity') or (name_variable=='specific_humidity') or (name_variable=='eastward_wind') or (name_variable=='northward_wind') or (name_variable=='geopotential_height'): # test if variable is temperature\n",
    "        variables['level'] = '1000' # [hPa], value of the standard pressure at sea level is 1013.25 [hPa], so 1000 [hPa] is the neareste value. Other pressure value are available but there is no interest for the aim of this project\n",
    "\n",
    "    if temporal_resolution != 'fixed':# if 'fixed', no year, month, date to choose\n",
    "        variables['year']=year # period chosen by the user\n",
    "        variables['month']= calendar.default_month  # be default, all the months are given; defined in class calendar\n",
    "        if temporal_resolution == 'daily':\n",
    "            variables['day']= calendar.default_day # be default, all the days are given; defined in class calendar\n",
    "    # c.retrieve download the data from the website\n",
    "    try:\n",
    "        c.retrieve(\n",
    "            'projections-cmip6',\n",
    "            variables,\n",
    "            'download.zip') # the file in a zip format is registered in the current directory\n",
    "    except:\n",
    "        print('Some parameters are not matching')\n",
    "        return # stop the function, because some data the user entered are not matching\n",
    "    print('The file has been download')\n",
    "    # function to extract the downloaded zip\n",
    "    download_extract(path_for_file,file_download,name_area)\n",
    "    print('The file has been extracted')\n",
    "    return"
   ]
  },
  {
   "cell_type": "code",
   "execution_count": 39,
   "id": "f4958584",
   "metadata": {},
   "outputs": [],
   "source": [
    "# 'download_extract' function aims to extract in path_for_file, the downloaded file in zip format which is registered \n",
    "# in file_download\n",
    "\n",
    "#### Actions of the function :\n",
    "#     1) Check if the path_for_file, where the decompressed file should be registered, exists\n",
    "#        > no : ensure the creation of the path with os.makedirs\n",
    "#     2) Check if the compressed file is in the working directory\n",
    "#        > no : move the compressed fil to the working directory\n",
    "#     3) Extract the compressed file, in a folder named 'name_area'\n",
    "#     4) Check if the file_download, where the compressed file should be registered, exists\n",
    "#        > no : ensure the creation of the path with os.makedirs\n",
    "#     5) move the files to the appropriate places\n",
    "\n",
    "def download_extract(path_for_file,file_download,name_area):\n",
    "    # step 1\n",
    "    path_for_file = os.path.join(path_for_file,name_area)\n",
    "    if not os.path.isdir(path_for_file): # path_for_file does not exists, need to ensure that is is created\n",
    "        os.makedirs(path_for_file) # to ensure the creation of the path\n",
    "        print(path_for_file)\n",
    "        print('Path for the file is created, did not existed before')\n",
    "    \n",
    "    # step 2\n",
    "    if 'download.zip' not in os.listdir(): # check if download is in the working directory\n",
    "        print('The download zip is moved to the working directory')\n",
    "        path_downloaded_zip=os.path.join(file_download,'download.zip')\n",
    "        shutil.move(path_downloaded_zip,r'C:\\Users\\CLMRX\\OneDrive - COWI\\Documents\\GitHub\\CRVA_tool') # move download file to working directory\n",
    "    \n",
    "    # step 3\n",
    "    from zipfile import ZipFile\n",
    "    zf = ZipFile('download.zip', 'r')\n",
    "    zf.extractall(name_area) # if no precision of directory, extract in current directory\n",
    "    zf.close()\n",
    "\n",
    "    # step 4\n",
    "    if not os.path.isdir(file_download): # path_for_file does not exists, need to ensure that is is created\n",
    "        os.makedirs(file_download) # to ensure the creation of the path\n",
    "    \n",
    "    # step 5\n",
    "    # moving download to appropriate place\n",
    "    shutil.move('download.zip',file_download) # no need to delete 'download.zip' from inital place\n",
    "    for file in os.listdir(name_area):\n",
    "        shutil.move(os.path.join(r'C:\\Users\\CLMRX\\OneDrive - COWI\\Documents\\GitHub\\CRVA_tool',name_area,file),os.path.join(path_for_file,file)) # move extracted data to the path created for them\n",
    "    #if name_area in os.listdir():\n",
    "    #    print(name_area + ' is here')\n",
    "    #    shutil.rmtree(name_area)\n",
    "    #    print(name_area + ' has been deleted')\n",
    "    print('\\n The downloaded file is extracted')\n",
    "    return"
   ]
  },
  {
   "cell_type": "code",
   "execution_count": 40,
   "id": "a1770731",
   "metadata": {},
   "outputs": [],
   "source": [
    "# 'create_file_download_path' function to create path for the downloaded compressed folder\n",
    "\n",
    "def create_file_download_path(start_path,name_variable,name_area,SSP,model,year,temporal_resolution,source):\n",
    "    # adapt the name of the folder for the period, depending on the type of period\n",
    "    if len(year)==1:\n",
    "        file_download = os.path.join(start_path,name_variable,source,year,SSP,model,name_area)\n",
    "    elif len(year)>1:\n",
    "        period=year[0]+'-'+year[len(year)-1]\n",
    "        file_download = os.path.join(start_path,name_variable,source,period,SSP,model,name_area)\n",
    "    elif temporal_resolution == 'fixed':\n",
    "        file_download = os.path.join(start_path,name_variable,source,'fixed_period',SSP,model,name_area)\n",
    "    #file_download = path_length(file_download)\n",
    "    return file_download # returns string of the path where the downloaded compressed folder must be registered"
   ]
  },
  {
   "cell_type": "code",
   "execution_count": 41,
   "id": "073da551",
   "metadata": {},
   "outputs": [],
   "source": [
    "# this functions test if the path is too long\n",
    "# if the path is more than 250 char, the path wll be modified in order for windows to accept is as a path\n",
    "\n",
    "def path_length(str1):\n",
    "    if len(str1)>250:\n",
    "        path = os.path.abspath(str1) # normalize path\n",
    "        if path.startswith(u\"\\\\\\\\\"):\n",
    "            path=u\"\\\\\\\\?\\\\UNC\\\\\"+path[2:]\n",
    "        else:\n",
    "            path=u\"\\\\\\\\?\\\\\"+path\n",
    "        return path\n",
    "    else:\n",
    "        return str1"
   ]
  },
  {
   "cell_type": "markdown",
   "id": "feccff81",
   "metadata": {},
   "source": [
    "# Register copernicus data"
   ]
  },
  {
   "cell_type": "code",
   "execution_count": 42,
   "id": "f3f80c2f",
   "metadata": {},
   "outputs": [],
   "source": [
    "(year, year_str, index)=year_copernicus(y_start,y_end)"
   ]
  },
  {
   "cell_type": "code",
   "execution_count": 43,
   "id": "2844115c",
   "metadata": {},
   "outputs": [
    {
     "name": "stdout",
     "output_type": "stream",
     "text": [
      "Test with scenario historical and model access_cm2\n",
      "The data has already been downloaded and extracted at \\\\COWI.net\\projects\\A245000\\A248363\\CRVA\\Datasets\\temperature\\near_surface_air_temperature\\Copernicus-CMIP6\\raw_data\\1950-2014\\historical\\access_cm2\n",
      "Test with scenario historical and model awi_cm_1_1_mr\n",
      "The data has already been downloaded and extracted at \\\\COWI.net\\projects\\A245000\\A248363\\CRVA\\Datasets\\temperature\\near_surface_air_temperature\\Copernicus-CMIP6\\raw_data\\1950-2014\\historical\\awi_cm_1_1_mr\n",
      "Test with scenario historical and model bcc_csm2_mr\n",
      "The data has already been downloaded and extracted at \\\\COWI.net\\projects\\A245000\\A248363\\CRVA\\Datasets\\temperature\\near_surface_air_temperature\\Copernicus-CMIP6\\raw_data\\1950-2014\\historical\\bcc_csm2_mr\n",
      "Test with scenario historical and model cams_csm1_0\n",
      "path_for_file does not exist: the data may not have been downloaded\n",
      "file_download does not exist: the data were not downloaded\n"
     ]
    },
    {
     "name": "stderr",
     "output_type": "stream",
     "text": [
      "2023-07-12 15:33:24,517 INFO Welcome to the CDS\n",
      "2023-07-12 15:33:24,519 INFO Sending request to https://cds.climate.copernicus.eu/api/v2/resources/projections-cmip6\n",
      "2023-07-12 15:33:24,560 INFO Request is queued\n",
      "2023-07-12 15:33:25,603 INFO Request is failed\n",
      "2023-07-12 15:33:25,604 ERROR Message: an internal error occurred processing your request\n",
      "2023-07-12 15:33:25,605 ERROR Reason:  No matching data for request {'experiment': 'historical', 'model': 'CAMS-CSM1-0', 'temporal_resolution': 'day', 'variable': 'tas'}\n",
      "2023-07-12 15:33:25,605 ERROR   Traceback (most recent call last):\n",
      "2023-07-12 15:33:25,606 ERROR     File \"/opt/cdstoolbox/cdscompute/cdscompute/cdshandlers/services/handler.py\", line 59, in handle_request\n",
      "2023-07-12 15:33:25,607 ERROR       result = cached(context.method, proc, context, context.args, context.kwargs)\n",
      "2023-07-12 15:33:25,607 ERROR     File \"/opt/cdstoolbox/cdscompute/cdscompute/caching.py\", line 108, in cached\n",
      "2023-07-12 15:33:25,607 ERROR       result = proc(context, *context.args, **context.kwargs)\n",
      "2023-07-12 15:33:25,608 ERROR     File \"/opt/cdstoolbox/cdscompute/cdscompute/services.py\", line 124, in __call__\n",
      "2023-07-12 15:33:25,608 ERROR       return p(*args, **kwargs)\n",
      "2023-07-12 15:33:25,609 ERROR     File \"/opt/cdstoolbox/cdscompute/cdscompute/services.py\", line 60, in __call__\n",
      "2023-07-12 15:33:25,610 ERROR       return self.proc(context, *args, **kwargs)\n",
      "2023-07-12 15:33:25,610 ERROR     File \"/home/cds/cdsservices/services/esgf_wps/__init__.py\", line 30, in execute\n",
      "2023-07-12 15:33:25,611 ERROR       request_facets, request = facets.search(context, request)\n",
      "2023-07-12 15:33:25,611 ERROR     File \"/home/cds/cdsservices/services/esgf_wps/facets.py\", line 61, in search\n",
      "2023-07-12 15:33:25,612 ERROR       raise ValueError(f'No matching data for request {tmp_request}')\n",
      "2023-07-12 15:33:25,613 ERROR   ValueError: No matching data for request {'experiment': 'historical', 'model': 'CAMS-CSM1-0', 'temporal_resolution': 'day', 'variable': 'tas'}\n",
      "2023-07-12 15:33:25,656 INFO Welcome to the CDS\n",
      "2023-07-12 15:33:25,659 INFO Sending request to https://cds.climate.copernicus.eu/api/v2/resources/projections-cmip6\n",
      "2023-07-12 15:33:25,700 INFO Request is queued\n"
     ]
    },
    {
     "name": "stdout",
     "output_type": "stream",
     "text": [
      "Some parameters are not matching\n",
      "Test with scenario historical and model canesm5_canoe\n",
      "path_for_file does not exist: the data may not have been downloaded\n",
      "file_download does not exist: the data were not downloaded\n"
     ]
    },
    {
     "name": "stderr",
     "output_type": "stream",
     "text": [
      "2023-07-12 15:33:26,736 INFO Request is failed\n",
      "2023-07-12 15:33:26,737 ERROR Message: an internal error occurred processing your request\n",
      "2023-07-12 15:33:26,738 ERROR Reason:  No matching data for request {'experiment': 'historical', 'model': 'CanESM5-CanOE', 'temporal_resolution': 'day', 'variable': 'tas'}\n",
      "2023-07-12 15:33:26,738 ERROR   Traceback (most recent call last):\n",
      "2023-07-12 15:33:26,738 ERROR     File \"/opt/cdstoolbox/cdscompute/cdscompute/cdshandlers/services/handler.py\", line 59, in handle_request\n",
      "2023-07-12 15:33:26,740 ERROR       result = cached(context.method, proc, context, context.args, context.kwargs)\n",
      "2023-07-12 15:33:26,740 ERROR     File \"/opt/cdstoolbox/cdscompute/cdscompute/caching.py\", line 108, in cached\n",
      "2023-07-12 15:33:26,741 ERROR       result = proc(context, *context.args, **context.kwargs)\n",
      "2023-07-12 15:33:26,741 ERROR     File \"/opt/cdstoolbox/cdscompute/cdscompute/services.py\", line 124, in __call__\n",
      "2023-07-12 15:33:26,742 ERROR       return p(*args, **kwargs)\n",
      "2023-07-12 15:33:26,742 ERROR     File \"/opt/cdstoolbox/cdscompute/cdscompute/services.py\", line 60, in __call__\n",
      "2023-07-12 15:33:26,743 ERROR       return self.proc(context, *args, **kwargs)\n",
      "2023-07-12 15:33:26,744 ERROR     File \"/home/cds/cdsservices/services/esgf_wps/__init__.py\", line 30, in execute\n",
      "2023-07-12 15:33:26,745 ERROR       request_facets, request = facets.search(context, request)\n",
      "2023-07-12 15:33:26,746 ERROR     File \"/home/cds/cdsservices/services/esgf_wps/facets.py\", line 61, in search\n",
      "2023-07-12 15:33:26,747 ERROR       raise ValueError(f'No matching data for request {tmp_request}')\n",
      "2023-07-12 15:33:26,747 ERROR   ValueError: No matching data for request {'experiment': 'historical', 'model': 'CanESM5-CanOE', 'temporal_resolution': 'day', 'variable': 'tas'}\n",
      "2023-07-12 15:33:26,798 INFO Welcome to the CDS\n",
      "2023-07-12 15:33:26,799 INFO Sending request to https://cds.climate.copernicus.eu/api/v2/resources/projections-cmip6\n",
      "2023-07-12 15:33:26,841 INFO Request is queued\n"
     ]
    },
    {
     "name": "stdout",
     "output_type": "stream",
     "text": [
      "Some parameters are not matching\n",
      "Test with scenario historical and model cesm2_fv2\n",
      "The data has already been downloaded and extracted at \\\\COWI.net\\projects\\A245000\\A248363\\CRVA\\Datasets\\temperature\\near_surface_air_temperature\\Copernicus-CMIP6\\raw_data\\1950-2014\\historical\\cesm2_fv2\n",
      "Test with scenario historical and model cesm2_waccm_fv2\n",
      "path_for_file does not exist: the data may not have been downloaded\n",
      "file_download does not exist: the data were not downloaded\n"
     ]
    },
    {
     "name": "stderr",
     "output_type": "stream",
     "text": [
      "2023-07-12 15:33:27,876 INFO Request is running\n",
      "2023-07-12 15:33:35,146 INFO Request is failed\n",
      "2023-07-12 15:33:35,146 ERROR Message: an internal error occurred processing your request\n",
      "2023-07-12 15:33:35,147 ERROR Reason:  Process error: Resulting object does not have monotonic global indexes along dimension time\n",
      "2023-07-12 15:33:35,147 ERROR   Traceback (most recent call last):\n",
      "2023-07-12 15:33:35,148 ERROR     File \"/usr/local/lib/python3.6/site-packages/rooki/results.py\", line 33, in url\n",
      "2023-07-12 15:33:35,149 ERROR       return self.response.get()[0]\n",
      "2023-07-12 15:33:35,149 ERROR     File \"/usr/local/lib/python3.6/site-packages/birdy/client/outputs.py\", line 40, in get\n",
      "2023-07-12 15:33:35,150 ERROR       raise ProcessFailed(\"Sorry, process failed.\")\n",
      "2023-07-12 15:33:35,150 ERROR   birdy.exceptions.ProcessFailed: Sorry, process failed.\n",
      "2023-07-12 15:33:35,223 INFO Welcome to the CDS\n",
      "2023-07-12 15:33:35,224 INFO Sending request to https://cds.climate.copernicus.eu/api/v2/resources/projections-cmip6\n",
      "2023-07-12 15:33:35,275 INFO Request is queued\n"
     ]
    },
    {
     "name": "stdout",
     "output_type": "stream",
     "text": [
      "Some parameters are not matching\n",
      "Test with scenario historical and model cmcc_cm2_hr4\n",
      "The data has already been downloaded and extracted at \\\\COWI.net\\projects\\A245000\\A248363\\CRVA\\Datasets\\temperature\\near_surface_air_temperature\\Copernicus-CMIP6\\raw_data\\1950-2014\\historical\\cmcc_cm2_hr4\n",
      "Test with scenario historical and model cmcc_esm2\n",
      "The data has already been downloaded and extracted at \\\\COWI.net\\projects\\A245000\\A248363\\CRVA\\Datasets\\temperature\\near_surface_air_temperature\\Copernicus-CMIP6\\raw_data\\1950-2014\\historical\\cmcc_esm2\n",
      "Test with scenario historical and model cnrm_cm6_1_hr\n",
      "The data has already been downloaded and extracted at \\\\COWI.net\\projects\\A245000\\A248363\\CRVA\\Datasets\\temperature\\near_surface_air_temperature\\Copernicus-CMIP6\\raw_data\\1950-2014\\historical\\cnrm_cm6_1_hr\n",
      "Test with scenario historical and model e3sm_1_0\n",
      "path_for_file does not exist: the data may not have been downloaded\n",
      "file_download does not exist: the data were not downloaded\n"
     ]
    },
    {
     "name": "stderr",
     "output_type": "stream",
     "text": [
      "2023-07-12 15:33:36,313 INFO Request is failed\n",
      "2023-07-12 15:33:36,314 ERROR Message: an internal error occurred processing your request\n",
      "2023-07-12 15:33:36,315 ERROR Reason:  No matching data for request {'experiment': 'historical', 'model': 'E3SM-1-0', 'temporal_resolution': 'day', 'variable': 'tas'}\n",
      "2023-07-12 15:33:36,316 ERROR   Traceback (most recent call last):\n",
      "2023-07-12 15:33:36,317 ERROR     File \"/opt/cdstoolbox/cdscompute/cdscompute/cdshandlers/services/handler.py\", line 59, in handle_request\n",
      "2023-07-12 15:33:36,318 ERROR       result = cached(context.method, proc, context, context.args, context.kwargs)\n",
      "2023-07-12 15:33:36,318 ERROR     File \"/opt/cdstoolbox/cdscompute/cdscompute/caching.py\", line 108, in cached\n",
      "2023-07-12 15:33:36,319 ERROR       result = proc(context, *context.args, **context.kwargs)\n",
      "2023-07-12 15:33:36,319 ERROR     File \"/opt/cdstoolbox/cdscompute/cdscompute/services.py\", line 124, in __call__\n",
      "2023-07-12 15:33:36,320 ERROR       return p(*args, **kwargs)\n",
      "2023-07-12 15:33:36,322 ERROR     File \"/opt/cdstoolbox/cdscompute/cdscompute/services.py\", line 60, in __call__\n",
      "2023-07-12 15:33:36,322 ERROR       return self.proc(context, *args, **kwargs)\n",
      "2023-07-12 15:33:36,323 ERROR     File \"/home/cds/cdsservices/services/esgf_wps/__init__.py\", line 30, in execute\n",
      "2023-07-12 15:33:36,323 ERROR       request_facets, request = facets.search(context, request)\n",
      "2023-07-12 15:33:36,323 ERROR     File \"/home/cds/cdsservices/services/esgf_wps/facets.py\", line 61, in search\n",
      "2023-07-12 15:33:36,324 ERROR       raise ValueError(f'No matching data for request {tmp_request}')\n",
      "2023-07-12 15:33:36,324 ERROR   ValueError: No matching data for request {'experiment': 'historical', 'model': 'E3SM-1-0', 'temporal_resolution': 'day', 'variable': 'tas'}\n",
      "2023-07-12 15:33:36,366 INFO Welcome to the CDS\n",
      "2023-07-12 15:33:36,367 INFO Sending request to https://cds.climate.copernicus.eu/api/v2/resources/projections-cmip6\n",
      "2023-07-12 15:33:36,450 INFO Request is queued\n"
     ]
    },
    {
     "name": "stdout",
     "output_type": "stream",
     "text": [
      "Some parameters are not matching\n",
      "Test with scenario historical and model e3sm_1_1_eca\n",
      "path_for_file does not exist: the data may not have been downloaded\n",
      "file_download does not exist: the data were not downloaded\n"
     ]
    },
    {
     "name": "stderr",
     "output_type": "stream",
     "text": [
      "2023-07-12 15:33:37,496 INFO Request is failed\n",
      "2023-07-12 15:33:37,497 ERROR Message: an internal error occurred processing your request\n",
      "2023-07-12 15:33:37,499 ERROR Reason:  No matching data for request {'experiment': 'historical', 'model': 'E3SM-1-1-ECA', 'temporal_resolution': 'day', 'variable': 'tas'}\n",
      "2023-07-12 15:33:37,500 ERROR   Traceback (most recent call last):\n",
      "2023-07-12 15:33:37,501 ERROR     File \"/opt/cdstoolbox/cdscompute/cdscompute/cdshandlers/services/handler.py\", line 59, in handle_request\n",
      "2023-07-12 15:33:37,502 ERROR       result = cached(context.method, proc, context, context.args, context.kwargs)\n",
      "2023-07-12 15:33:37,503 ERROR     File \"/opt/cdstoolbox/cdscompute/cdscompute/caching.py\", line 108, in cached\n",
      "2023-07-12 15:33:37,503 ERROR       result = proc(context, *context.args, **context.kwargs)\n",
      "2023-07-12 15:33:37,504 ERROR     File \"/opt/cdstoolbox/cdscompute/cdscompute/services.py\", line 124, in __call__\n",
      "2023-07-12 15:33:37,505 ERROR       return p(*args, **kwargs)\n",
      "2023-07-12 15:33:37,506 ERROR     File \"/opt/cdstoolbox/cdscompute/cdscompute/services.py\", line 60, in __call__\n",
      "2023-07-12 15:33:37,507 ERROR       return self.proc(context, *args, **kwargs)\n",
      "2023-07-12 15:33:37,508 ERROR     File \"/home/cds/cdsservices/services/esgf_wps/__init__.py\", line 30, in execute\n",
      "2023-07-12 15:33:37,509 ERROR       request_facets, request = facets.search(context, request)\n",
      "2023-07-12 15:33:37,510 ERROR     File \"/home/cds/cdsservices/services/esgf_wps/facets.py\", line 61, in search\n",
      "2023-07-12 15:33:37,511 ERROR       raise ValueError(f'No matching data for request {tmp_request}')\n",
      "2023-07-12 15:33:37,513 ERROR   ValueError: No matching data for request {'experiment': 'historical', 'model': 'E3SM-1-1-ECA', 'temporal_resolution': 'day', 'variable': 'tas'}\n",
      "2023-07-12 15:33:37,569 INFO Welcome to the CDS\n",
      "2023-07-12 15:33:37,569 INFO Sending request to https://cds.climate.copernicus.eu/api/v2/resources/projections-cmip6\n",
      "2023-07-12 15:33:37,649 INFO Request is queued\n"
     ]
    },
    {
     "name": "stdout",
     "output_type": "stream",
     "text": [
      "Some parameters are not matching\n",
      "Test with scenario historical and model ec_earth3_aerchem\n",
      "The data has already been downloaded and extracted at \\\\COWI.net\\projects\\A245000\\A248363\\CRVA\\Datasets\\temperature\\near_surface_air_temperature\\Copernicus-CMIP6\\raw_data\\1950-2014\\historical\\ec_earth3_aerchem\n",
      "Test with scenario historical and model ec_earth3_veg\n",
      "path_for_file does not exist: the data may not have been downloaded\n",
      "file_download does not exist: the data were not downloaded\n"
     ]
    },
    {
     "name": "stderr",
     "output_type": "stream",
     "text": [
      "2023-07-12 15:33:38,695 INFO Request is failed\n",
      "2023-07-12 15:33:38,695 ERROR Message: an internal error occurred processing your request\n",
      "2023-07-12 15:33:38,696 ERROR Reason:  No matching data for request {'experiment': 'historical', 'model': 'EC-Earth3-Veg', 'temporal_resolution': 'day', 'variable': 'tas'}\n",
      "2023-07-12 15:33:38,697 ERROR   Traceback (most recent call last):\n",
      "2023-07-12 15:33:38,697 ERROR     File \"/opt/cdstoolbox/cdscompute/cdscompute/cdshandlers/services/handler.py\", line 59, in handle_request\n",
      "2023-07-12 15:33:38,698 ERROR       result = cached(context.method, proc, context, context.args, context.kwargs)\n",
      "2023-07-12 15:33:38,698 ERROR     File \"/opt/cdstoolbox/cdscompute/cdscompute/caching.py\", line 108, in cached\n",
      "2023-07-12 15:33:38,699 ERROR       result = proc(context, *context.args, **context.kwargs)\n",
      "2023-07-12 15:33:38,699 ERROR     File \"/opt/cdstoolbox/cdscompute/cdscompute/services.py\", line 124, in __call__\n",
      "2023-07-12 15:33:38,700 ERROR       return p(*args, **kwargs)\n",
      "2023-07-12 15:33:38,701 ERROR     File \"/opt/cdstoolbox/cdscompute/cdscompute/services.py\", line 60, in __call__\n",
      "2023-07-12 15:33:38,701 ERROR       return self.proc(context, *args, **kwargs)\n",
      "2023-07-12 15:33:38,702 ERROR     File \"/home/cds/cdsservices/services/esgf_wps/__init__.py\", line 30, in execute\n",
      "2023-07-12 15:33:38,702 ERROR       request_facets, request = facets.search(context, request)\n",
      "2023-07-12 15:33:38,704 ERROR     File \"/home/cds/cdsservices/services/esgf_wps/facets.py\", line 61, in search\n",
      "2023-07-12 15:33:38,706 ERROR       raise ValueError(f'No matching data for request {tmp_request}')\n",
      "2023-07-12 15:33:38,707 ERROR   ValueError: No matching data for request {'experiment': 'historical', 'model': 'EC-Earth3-Veg', 'temporal_resolution': 'day', 'variable': 'tas'}\n",
      "2023-07-12 15:33:38,764 INFO Welcome to the CDS\n",
      "2023-07-12 15:33:38,765 INFO Sending request to https://cds.climate.copernicus.eu/api/v2/resources/projections-cmip6\n",
      "2023-07-12 15:33:38,835 INFO Request is queued\n"
     ]
    },
    {
     "name": "stdout",
     "output_type": "stream",
     "text": [
      "Some parameters are not matching\n",
      "Test with scenario historical and model fgoals_f3_l\n",
      "The data has already been downloaded and extracted at \\\\COWI.net\\projects\\A245000\\A248363\\CRVA\\Datasets\\temperature\\near_surface_air_temperature\\Copernicus-CMIP6\\raw_data\\1950-2014\\historical\\fgoals_f3_l\n",
      "Test with scenario historical and model fio_esm_2_0\n",
      "path_for_file does not exist: the data may not have been downloaded\n",
      "file_download does not exist: the data were not downloaded\n"
     ]
    },
    {
     "name": "stderr",
     "output_type": "stream",
     "text": [
      "2023-07-12 15:33:39,876 INFO Request is failed\n",
      "2023-07-12 15:33:39,877 ERROR Message: an internal error occurred processing your request\n",
      "2023-07-12 15:33:39,877 ERROR Reason:  No matching data for request {'experiment': 'historical', 'model': 'FIO-ESM-2-0', 'temporal_resolution': 'day', 'variable': 'tas'}\n",
      "2023-07-12 15:33:39,879 ERROR   Traceback (most recent call last):\n",
      "2023-07-12 15:33:39,879 ERROR     File \"/opt/cdstoolbox/cdscompute/cdscompute/cdshandlers/services/handler.py\", line 59, in handle_request\n",
      "2023-07-12 15:33:39,880 ERROR       result = cached(context.method, proc, context, context.args, context.kwargs)\n",
      "2023-07-12 15:33:39,881 ERROR     File \"/opt/cdstoolbox/cdscompute/cdscompute/caching.py\", line 108, in cached\n",
      "2023-07-12 15:33:39,881 ERROR       result = proc(context, *context.args, **context.kwargs)\n",
      "2023-07-12 15:33:39,882 ERROR     File \"/opt/cdstoolbox/cdscompute/cdscompute/services.py\", line 124, in __call__\n",
      "2023-07-12 15:33:39,882 ERROR       return p(*args, **kwargs)\n",
      "2023-07-12 15:33:39,883 ERROR     File \"/opt/cdstoolbox/cdscompute/cdscompute/services.py\", line 60, in __call__\n",
      "2023-07-12 15:33:39,886 ERROR       return self.proc(context, *args, **kwargs)\n",
      "2023-07-12 15:33:39,888 ERROR     File \"/home/cds/cdsservices/services/esgf_wps/__init__.py\", line 30, in execute\n",
      "2023-07-12 15:33:39,891 ERROR       request_facets, request = facets.search(context, request)\n",
      "2023-07-12 15:33:39,891 ERROR     File \"/home/cds/cdsservices/services/esgf_wps/facets.py\", line 61, in search\n",
      "2023-07-12 15:33:39,892 ERROR       raise ValueError(f'No matching data for request {tmp_request}')\n",
      "2023-07-12 15:33:39,892 ERROR   ValueError: No matching data for request {'experiment': 'historical', 'model': 'FIO-ESM-2-0', 'temporal_resolution': 'day', 'variable': 'tas'}\n",
      "2023-07-12 15:33:39,928 INFO Welcome to the CDS\n",
      "2023-07-12 15:33:39,929 INFO Sending request to https://cds.climate.copernicus.eu/api/v2/resources/projections-cmip6\n",
      "2023-07-12 15:33:39,983 INFO Request is queued\n"
     ]
    },
    {
     "name": "stdout",
     "output_type": "stream",
     "text": [
      "Some parameters are not matching\n",
      "Test with scenario historical and model giss_e2_1_g\n",
      "path_for_file does not exist: the data may not have been downloaded\n",
      "file_download does not exist: the data were not downloaded\n"
     ]
    },
    {
     "name": "stderr",
     "output_type": "stream",
     "text": [
      "2023-07-12 15:33:41,020 INFO Request is failed\n",
      "2023-07-12 15:33:41,021 ERROR Message: an internal error occurred processing your request\n",
      "2023-07-12 15:33:41,021 ERROR Reason:  No matching data for request {'experiment': 'historical', 'model': 'GISS-E2-1-G', 'temporal_resolution': 'day', 'variable': 'tas'}\n",
      "2023-07-12 15:33:41,022 ERROR   Traceback (most recent call last):\n",
      "2023-07-12 15:33:41,022 ERROR     File \"/opt/cdstoolbox/cdscompute/cdscompute/cdshandlers/services/handler.py\", line 59, in handle_request\n",
      "2023-07-12 15:33:41,024 ERROR       result = cached(context.method, proc, context, context.args, context.kwargs)\n",
      "2023-07-12 15:33:41,024 ERROR     File \"/opt/cdstoolbox/cdscompute/cdscompute/caching.py\", line 108, in cached\n",
      "2023-07-12 15:33:41,025 ERROR       result = proc(context, *context.args, **context.kwargs)\n",
      "2023-07-12 15:33:41,025 ERROR     File \"/opt/cdstoolbox/cdscompute/cdscompute/services.py\", line 124, in __call__\n",
      "2023-07-12 15:33:41,026 ERROR       return p(*args, **kwargs)\n",
      "2023-07-12 15:33:41,026 ERROR     File \"/opt/cdstoolbox/cdscompute/cdscompute/services.py\", line 60, in __call__\n",
      "2023-07-12 15:33:41,027 ERROR       return self.proc(context, *args, **kwargs)\n",
      "2023-07-12 15:33:41,028 ERROR     File \"/home/cds/cdsservices/services/esgf_wps/__init__.py\", line 30, in execute\n",
      "2023-07-12 15:33:41,028 ERROR       request_facets, request = facets.search(context, request)\n",
      "2023-07-12 15:33:41,029 ERROR     File \"/home/cds/cdsservices/services/esgf_wps/facets.py\", line 61, in search\n",
      "2023-07-12 15:33:41,029 ERROR       raise ValueError(f'No matching data for request {tmp_request}')\n",
      "2023-07-12 15:33:41,030 ERROR   ValueError: No matching data for request {'experiment': 'historical', 'model': 'GISS-E2-1-G', 'temporal_resolution': 'day', 'variable': 'tas'}\n",
      "2023-07-12 15:33:41,066 INFO Welcome to the CDS\n",
      "2023-07-12 15:33:41,067 INFO Sending request to https://cds.climate.copernicus.eu/api/v2/resources/projections-cmip6\n",
      "2023-07-12 15:33:41,170 INFO Request is queued\n"
     ]
    },
    {
     "name": "stdout",
     "output_type": "stream",
     "text": [
      "Some parameters are not matching\n",
      "Test with scenario historical and model hadgem3_gc31_ll\n",
      "path_for_file does not exist: the data may not have been downloaded\n",
      "file_download does not exist: the data were not downloaded\n"
     ]
    },
    {
     "name": "stderr",
     "output_type": "stream",
     "text": [
      "2023-07-12 15:33:42,214 INFO Request is running\n",
      "2023-07-12 15:33:49,480 INFO Request is failed\n",
      "2023-07-12 15:33:49,481 ERROR Message: an internal error occurred processing your request\n",
      "2023-07-12 15:33:49,482 ERROR Reason:  Process error: Sorry, process failed. Please check server error log.\n",
      "2023-07-12 15:33:49,483 ERROR   Traceback (most recent call last):\n",
      "2023-07-12 15:33:49,483 ERROR     File \"/usr/local/lib/python3.6/site-packages/rooki/results.py\", line 33, in url\n",
      "2023-07-12 15:33:49,484 ERROR       return self.response.get()[0]\n",
      "2023-07-12 15:33:49,485 ERROR     File \"/usr/local/lib/python3.6/site-packages/birdy/client/outputs.py\", line 40, in get\n",
      "2023-07-12 15:33:49,485 ERROR       raise ProcessFailed(\"Sorry, process failed.\")\n",
      "2023-07-12 15:33:49,486 ERROR   birdy.exceptions.ProcessFailed: Sorry, process failed.\n",
      "2023-07-12 15:33:49,547 INFO Welcome to the CDS\n",
      "2023-07-12 15:33:49,548 INFO Sending request to https://cds.climate.copernicus.eu/api/v2/resources/projections-cmip6\n",
      "2023-07-12 15:33:49,619 INFO Request is queued\n"
     ]
    },
    {
     "name": "stdout",
     "output_type": "stream",
     "text": [
      "Some parameters are not matching\n",
      "Test with scenario historical and model iitm_esm\n",
      "The data has already been downloaded and extracted at \\\\COWI.net\\projects\\A245000\\A248363\\CRVA\\Datasets\\temperature\\near_surface_air_temperature\\Copernicus-CMIP6\\raw_data\\1950-2014\\historical\\iitm_esm\n",
      "Test with scenario historical and model inm_cm5_0\n",
      "The data has already been downloaded and extracted at \\\\COWI.net\\projects\\A245000\\A248363\\CRVA\\Datasets\\temperature\\near_surface_air_temperature\\Copernicus-CMIP6\\raw_data\\1950-2014\\historical\\inm_cm5_0\n",
      "Test with scenario historical and model ipsl_cm6a_lr\n",
      "The data has already been downloaded and extracted at \\\\COWI.net\\projects\\A245000\\A248363\\CRVA\\Datasets\\temperature\\near_surface_air_temperature\\Copernicus-CMIP6\\raw_data\\1950-2014\\historical\\ipsl_cm6a_lr\n",
      "Test with scenario historical and model kiost_esm\n",
      "path_for_file does not exist: the data may not have been downloaded\n",
      "file_download does not exist: the data were not downloaded\n"
     ]
    },
    {
     "name": "stderr",
     "output_type": "stream",
     "text": [
      "2023-07-12 15:33:50,660 INFO Request is running\n",
      "2023-07-12 15:40:08,395 INFO Request is completed\n",
      "2023-07-12 15:40:08,398 INFO Downloading https://download-0017.copernicus-climate.eu/cache-compute-0017/cache/data3/adaptor.esgf_wps.retrieve-1689169153.15843-1234-17-68bb0f07-aa61-47ed-8da9-cf09919ba771.zip to download.zip (8M)\n",
      "2023-07-12 15:40:09,459 INFO Download rate 7.5M/s                                                                      \n"
     ]
    },
    {
     "name": "stdout",
     "output_type": "stream",
     "text": [
      "The file has been download\n",
      "\\\\COWI.net\\projects\\A245000\\A248363\\CRVA\\Datasets\\temperature\\near_surface_air_temperature\\Copernicus-CMIP6\\raw_data\\1950-2014\\historical\\kiost_esm\\all-Mozambique\n",
      "Path for the file is created, did not existed before\n"
     ]
    },
    {
     "ename": "FileNotFoundError",
     "evalue": "[Errno 2] No such file or directory: '\\\\\\\\COWI.net\\\\projects\\\\A245000\\\\A248363\\\\CRVA\\\\Datasets\\\\temperature\\\\near_surface_air_temperature\\\\Copernicus-CMIP6\\\\raw_data\\\\1950-2014\\\\historical\\\\kiost_esm\\\\all-Mozambique\\\\adaptor.esgf_wps.retrieve-1689169153.15843-1234-17-68bb0f07-aa61-47ed-8da9-cf09919ba771_provenance.json'",
     "output_type": "error",
     "traceback": [
      "\u001b[1;31m---------------------------------------------------------------------------\u001b[0m",
      "\u001b[1;31mFileNotFoundError\u001b[0m                         Traceback (most recent call last)",
      "File \u001b[1;32m~\\AppData\\Local\\miniconda3\\envs\\geodata\\lib\\shutil.py:815\u001b[0m, in \u001b[0;36mmove\u001b[1;34m(src, dst, copy_function)\u001b[0m\n\u001b[0;32m    814\u001b[0m \u001b[38;5;28;01mtry\u001b[39;00m:\n\u001b[1;32m--> 815\u001b[0m     \u001b[43mos\u001b[49m\u001b[38;5;241;43m.\u001b[39;49m\u001b[43mrename\u001b[49m\u001b[43m(\u001b[49m\u001b[43msrc\u001b[49m\u001b[43m,\u001b[49m\u001b[43m \u001b[49m\u001b[43mreal_dst\u001b[49m\u001b[43m)\u001b[49m\n\u001b[0;32m    816\u001b[0m \u001b[38;5;28;01mexcept\u001b[39;00m \u001b[38;5;167;01mOSError\u001b[39;00m:\n",
      "\u001b[1;31mFileNotFoundError\u001b[0m: [WinError 3] The system cannot find the path specified: 'C:\\\\Users\\\\CLMRX\\\\OneDrive - COWI\\\\Documents\\\\GitHub\\\\CRVA_tool\\\\all-Mozambique\\\\adaptor.esgf_wps.retrieve-1689169153.15843-1234-17-68bb0f07-aa61-47ed-8da9-cf09919ba771_provenance.json' -> '\\\\\\\\COWI.net\\\\projects\\\\A245000\\\\A248363\\\\CRVA\\\\Datasets\\\\temperature\\\\near_surface_air_temperature\\\\Copernicus-CMIP6\\\\raw_data\\\\1950-2014\\\\historical\\\\kiost_esm\\\\all-Mozambique\\\\adaptor.esgf_wps.retrieve-1689169153.15843-1234-17-68bb0f07-aa61-47ed-8da9-cf09919ba771_provenance.json'",
      "\nDuring handling of the above exception, another exception occurred:\n",
      "\u001b[1;31mFileNotFoundError\u001b[0m                         Traceback (most recent call last)",
      "Cell \u001b[1;32mIn[43], line 1\u001b[0m\n\u001b[1;32m----> 1\u001b[0m \u001b[43mdownload_copernicus\u001b[49m\u001b[43m(\u001b[49m\u001b[43mtemporal_resolution\u001b[49m\u001b[43m,\u001b[49m\u001b[43myear_str\u001b[49m\u001b[43m,\u001b[49m\u001b[43mscenarios\u001b[49m\u001b[43m,\u001b[49m\u001b[43mcopernicus_elements\u001b[49m\u001b[38;5;241;43m.\u001b[39;49m\u001b[43mmodels\u001b[49m\u001b[43m,\u001b[49m\u001b[43mout_path\u001b[49m\u001b[43m,\u001b[49m\u001b[43m \u001b[49m\u001b[43mglobal_variable\u001b[49m\u001b[43m,\u001b[49m\u001b[43m \u001b[49m\u001b[43mname_variable\u001b[49m\u001b[43m,\u001b[49m\u001b[43marea\u001b[49m\u001b[43m,\u001b[49m\u001b[43mname_area\u001b[49m\u001b[43m)\u001b[49m\n",
      "Cell \u001b[1;32mIn[9], line 38\u001b[0m, in \u001b[0;36mdownload_copernicus\u001b[1;34m(temporal_resolution, year_str, experiments, models, out_path, global_variable, name_variable, area, name_area, source)\u001b[0m\n\u001b[0;32m     35\u001b[0m         path_for_file\u001b[38;5;241m=\u001b[39m os\u001b[38;5;241m.\u001b[39mpath\u001b[38;5;241m.\u001b[39mjoin(out_path,global_variable,name_variable,source,\u001b[38;5;124m'\u001b[39m\u001b[38;5;124mraw_data\u001b[39m\u001b[38;5;124m'\u001b[39m,period,SSP,model_simulation)\n\u001b[0;32m     36\u001b[0m         \u001b[38;5;66;03m#path_for_file = path_length(path_for_file)\u001b[39;00m\n\u001b[0;32m     37\u001b[0m         \u001b[38;5;66;03m# existence of path_for_file tested in copernicus function\u001b[39;00m\n\u001b[1;32m---> 38\u001b[0m         \u001b[43mcopernicus_data\u001b[49m\u001b[43m(\u001b[49m\u001b[43mtemporal_resolution\u001b[49m\u001b[43m,\u001b[49m\u001b[43mSSP\u001b[49m\u001b[43m,\u001b[49m\u001b[43mname_variable\u001b[49m\u001b[43m,\u001b[49m\u001b[43mmodel_simulation\u001b[49m\u001b[43m,\u001b[49m\u001b[43myear_str\u001b[49m\u001b[43m,\u001b[49m\u001b[43marea\u001b[49m\u001b[43m,\u001b[49m\u001b[43mpath_for_file\u001b[49m\u001b[43m,\u001b[49m\u001b[43mout_path\u001b[49m\u001b[43m,\u001b[49m\u001b[43mname_area\u001b[49m\u001b[43m,\u001b[49m\u001b[43msource\u001b[49m\u001b[43m)\u001b[49m\n\u001b[0;32m     40\u001b[0m \u001b[38;5;28;01mreturn\u001b[39;00m\n",
      "Cell \u001b[1;32mIn[10], line 47\u001b[0m, in \u001b[0;36mcopernicus_data\u001b[1;34m(temporal_resolution, SSP, name_variable, model, year, area, path_for_file, out_path, name_area, source)\u001b[0m\n\u001b[0;32m     45\u001b[0m     \u001b[38;5;28mprint\u001b[39m(\u001b[38;5;124m'\u001b[39m\u001b[38;5;124mfile_download does not exist: the data were not downloaded\u001b[39m\u001b[38;5;124m'\u001b[39m)\n\u001b[0;32m     46\u001b[0m     \u001b[38;5;66;03m# function try to download from copernicus\u001b[39;00m\n\u001b[1;32m---> 47\u001b[0m     \u001b[43mtry_download_copernicus\u001b[49m\u001b[43m(\u001b[49m\u001b[43mtemporal_resolution\u001b[49m\u001b[43m,\u001b[49m\u001b[43mSSP\u001b[49m\u001b[43m,\u001b[49m\u001b[43mname_variable\u001b[49m\u001b[43m,\u001b[49m\u001b[43mmodel\u001b[49m\u001b[43m,\u001b[49m\u001b[43marea\u001b[49m\u001b[43m,\u001b[49m\u001b[43myear\u001b[49m\u001b[43m,\u001b[49m\u001b[43mpath_for_file\u001b[49m\u001b[43m,\u001b[49m\u001b[43mfile_download\u001b[49m\u001b[43m,\u001b[49m\u001b[43mname_area\u001b[49m\u001b[43m)\u001b[49m\n\u001b[0;32m     48\u001b[0m     \u001b[38;5;28;01mreturn\u001b[39;00m\n\u001b[0;32m     50\u001b[0m \u001b[38;5;28;01melse\u001b[39;00m: \u001b[38;5;66;03m# if the path already exist, the data in zip format should also exists\u001b[39;00m\n",
      "Cell \u001b[1;32mIn[11], line 56\u001b[0m, in \u001b[0;36mtry_download_copernicus\u001b[1;34m(temporal_resolution, SSP, name_variable, model, area, year, path_for_file, file_download, name_area)\u001b[0m\n\u001b[0;32m     54\u001b[0m \u001b[38;5;28mprint\u001b[39m(\u001b[38;5;124m'\u001b[39m\u001b[38;5;124mThe file has been download\u001b[39m\u001b[38;5;124m'\u001b[39m)\n\u001b[0;32m     55\u001b[0m \u001b[38;5;66;03m# function to extract the downloaded zip\u001b[39;00m\n\u001b[1;32m---> 56\u001b[0m \u001b[43mdownload_extract\u001b[49m\u001b[43m(\u001b[49m\u001b[43mpath_for_file\u001b[49m\u001b[43m,\u001b[49m\u001b[43mfile_download\u001b[49m\u001b[43m,\u001b[49m\u001b[43mname_area\u001b[49m\u001b[43m)\u001b[49m\n\u001b[0;32m     57\u001b[0m \u001b[38;5;28mprint\u001b[39m(\u001b[38;5;124m'\u001b[39m\u001b[38;5;124mThe file has been extracted\u001b[39m\u001b[38;5;124m'\u001b[39m)\n\u001b[0;32m     58\u001b[0m \u001b[38;5;28;01mreturn\u001b[39;00m\n",
      "Cell \u001b[1;32mIn[39], line 42\u001b[0m, in \u001b[0;36mdownload_extract\u001b[1;34m(path_for_file, file_download, name_area)\u001b[0m\n\u001b[0;32m     40\u001b[0m shutil\u001b[38;5;241m.\u001b[39mmove(\u001b[38;5;124m'\u001b[39m\u001b[38;5;124mdownload.zip\u001b[39m\u001b[38;5;124m'\u001b[39m,file_download) \u001b[38;5;66;03m# no need to delete 'download.zip' from inital place\u001b[39;00m\n\u001b[0;32m     41\u001b[0m \u001b[38;5;28;01mfor\u001b[39;00m file \u001b[38;5;129;01min\u001b[39;00m os\u001b[38;5;241m.\u001b[39mlistdir(name_area):\n\u001b[1;32m---> 42\u001b[0m     \u001b[43mshutil\u001b[49m\u001b[38;5;241;43m.\u001b[39;49m\u001b[43mmove\u001b[49m\u001b[43m(\u001b[49m\u001b[43mos\u001b[49m\u001b[38;5;241;43m.\u001b[39;49m\u001b[43mpath\u001b[49m\u001b[38;5;241;43m.\u001b[39;49m\u001b[43mjoin\u001b[49m\u001b[43m(\u001b[49m\u001b[38;5;124;43mr\u001b[39;49m\u001b[38;5;124;43m'\u001b[39;49m\u001b[38;5;124;43mC:\u001b[39;49m\u001b[38;5;124;43m\\\u001b[39;49m\u001b[38;5;124;43mUsers\u001b[39;49m\u001b[38;5;124;43m\\\u001b[39;49m\u001b[38;5;124;43mCLMRX\u001b[39;49m\u001b[38;5;124;43m\\\u001b[39;49m\u001b[38;5;124;43mOneDrive - COWI\u001b[39;49m\u001b[38;5;124;43m\\\u001b[39;49m\u001b[38;5;124;43mDocuments\u001b[39;49m\u001b[38;5;124;43m\\\u001b[39;49m\u001b[38;5;124;43mGitHub\u001b[39;49m\u001b[38;5;124;43m\\\u001b[39;49m\u001b[38;5;124;43mCRVA_tool\u001b[39;49m\u001b[38;5;124;43m'\u001b[39;49m\u001b[43m,\u001b[49m\u001b[43mname_area\u001b[49m\u001b[43m,\u001b[49m\u001b[43mfile\u001b[49m\u001b[43m)\u001b[49m\u001b[43m,\u001b[49m\u001b[43mos\u001b[49m\u001b[38;5;241;43m.\u001b[39;49m\u001b[43mpath\u001b[49m\u001b[38;5;241;43m.\u001b[39;49m\u001b[43mjoin\u001b[49m\u001b[43m(\u001b[49m\u001b[43mpath_for_file\u001b[49m\u001b[43m,\u001b[49m\u001b[43mfile\u001b[49m\u001b[43m)\u001b[49m\u001b[43m)\u001b[49m \u001b[38;5;66;03m# move extracted data to the path created for them\u001b[39;00m\n\u001b[0;32m     43\u001b[0m \u001b[38;5;66;03m#if name_area in os.listdir():\u001b[39;00m\n\u001b[0;32m     44\u001b[0m \u001b[38;5;66;03m#    print(name_area + ' is here')\u001b[39;00m\n\u001b[0;32m     45\u001b[0m \u001b[38;5;66;03m#    shutil.rmtree(name_area)\u001b[39;00m\n\u001b[0;32m     46\u001b[0m \u001b[38;5;66;03m#    print(name_area + ' has been deleted')\u001b[39;00m\n\u001b[0;32m     47\u001b[0m \u001b[38;5;28mprint\u001b[39m(\u001b[38;5;124m'\u001b[39m\u001b[38;5;130;01m\\n\u001b[39;00m\u001b[38;5;124m The downloaded file is extracted\u001b[39m\u001b[38;5;124m'\u001b[39m)\n",
      "File \u001b[1;32m~\\AppData\\Local\\miniconda3\\envs\\geodata\\lib\\shutil.py:835\u001b[0m, in \u001b[0;36mmove\u001b[1;34m(src, dst, copy_function)\u001b[0m\n\u001b[0;32m    833\u001b[0m         rmtree(src)\n\u001b[0;32m    834\u001b[0m     \u001b[38;5;28;01melse\u001b[39;00m:\n\u001b[1;32m--> 835\u001b[0m         \u001b[43mcopy_function\u001b[49m\u001b[43m(\u001b[49m\u001b[43msrc\u001b[49m\u001b[43m,\u001b[49m\u001b[43m \u001b[49m\u001b[43mreal_dst\u001b[49m\u001b[43m)\u001b[49m\n\u001b[0;32m    836\u001b[0m         os\u001b[38;5;241m.\u001b[39munlink(src)\n\u001b[0;32m    837\u001b[0m \u001b[38;5;28;01mreturn\u001b[39;00m real_dst\n",
      "File \u001b[1;32m~\\AppData\\Local\\miniconda3\\envs\\geodata\\lib\\shutil.py:434\u001b[0m, in \u001b[0;36mcopy2\u001b[1;34m(src, dst, follow_symlinks)\u001b[0m\n\u001b[0;32m    432\u001b[0m \u001b[38;5;28;01mif\u001b[39;00m os\u001b[38;5;241m.\u001b[39mpath\u001b[38;5;241m.\u001b[39misdir(dst):\n\u001b[0;32m    433\u001b[0m     dst \u001b[38;5;241m=\u001b[39m os\u001b[38;5;241m.\u001b[39mpath\u001b[38;5;241m.\u001b[39mjoin(dst, os\u001b[38;5;241m.\u001b[39mpath\u001b[38;5;241m.\u001b[39mbasename(src))\n\u001b[1;32m--> 434\u001b[0m \u001b[43mcopyfile\u001b[49m\u001b[43m(\u001b[49m\u001b[43msrc\u001b[49m\u001b[43m,\u001b[49m\u001b[43m \u001b[49m\u001b[43mdst\u001b[49m\u001b[43m,\u001b[49m\u001b[43m \u001b[49m\u001b[43mfollow_symlinks\u001b[49m\u001b[38;5;241;43m=\u001b[39;49m\u001b[43mfollow_symlinks\u001b[49m\u001b[43m)\u001b[49m\n\u001b[0;32m    435\u001b[0m copystat(src, dst, follow_symlinks\u001b[38;5;241m=\u001b[39mfollow_symlinks)\n\u001b[0;32m    436\u001b[0m \u001b[38;5;28;01mreturn\u001b[39;00m dst\n",
      "File \u001b[1;32m~\\AppData\\Local\\miniconda3\\envs\\geodata\\lib\\shutil.py:256\u001b[0m, in \u001b[0;36mcopyfile\u001b[1;34m(src, dst, follow_symlinks)\u001b[0m\n\u001b[0;32m    254\u001b[0m \u001b[38;5;28;01mwith\u001b[39;00m \u001b[38;5;28mopen\u001b[39m(src, \u001b[38;5;124m'\u001b[39m\u001b[38;5;124mrb\u001b[39m\u001b[38;5;124m'\u001b[39m) \u001b[38;5;28;01mas\u001b[39;00m fsrc:\n\u001b[0;32m    255\u001b[0m     \u001b[38;5;28;01mtry\u001b[39;00m:\n\u001b[1;32m--> 256\u001b[0m         \u001b[38;5;28;01mwith\u001b[39;00m \u001b[38;5;28;43mopen\u001b[39;49m\u001b[43m(\u001b[49m\u001b[43mdst\u001b[49m\u001b[43m,\u001b[49m\u001b[43m \u001b[49m\u001b[38;5;124;43m'\u001b[39;49m\u001b[38;5;124;43mwb\u001b[39;49m\u001b[38;5;124;43m'\u001b[39;49m\u001b[43m)\u001b[49m \u001b[38;5;28;01mas\u001b[39;00m fdst:\n\u001b[0;32m    257\u001b[0m             \u001b[38;5;66;03m# macOS\u001b[39;00m\n\u001b[0;32m    258\u001b[0m             \u001b[38;5;28;01mif\u001b[39;00m _HAS_FCOPYFILE:\n\u001b[0;32m    259\u001b[0m                 \u001b[38;5;28;01mtry\u001b[39;00m:\n",
      "\u001b[1;31mFileNotFoundError\u001b[0m: [Errno 2] No such file or directory: '\\\\\\\\COWI.net\\\\projects\\\\A245000\\\\A248363\\\\CRVA\\\\Datasets\\\\temperature\\\\near_surface_air_temperature\\\\Copernicus-CMIP6\\\\raw_data\\\\1950-2014\\\\historical\\\\kiost_esm\\\\all-Mozambique\\\\adaptor.esgf_wps.retrieve-1689169153.15843-1234-17-68bb0f07-aa61-47ed-8da9-cf09919ba771_provenance.json'"
     ]
    }
   ],
   "source": [
    "download_copernicus(temporal_resolution,year_str,scenarios,copernicus_elements.models,out_path, global_variable, name_variable,area,name_area)"
   ]
  },
  {
   "cell_type": "code",
   "execution_count": null,
   "id": "ace72068",
   "metadata": {},
   "outputs": [],
   "source": [
    "path = r'\\\\COWI.net\\projects\\A245000\\A248363\\CRVA\\Datasets\\temperature\\near_surface_air_temperature\\Copernicus-CMIP6\\raw_data\\1950-2014\\historical\\inm_cm5_0\\all-Mozambique'"
   ]
  },
  {
   "cell_type": "code",
   "execution_count": 25,
   "id": "25ec776d",
   "metadata": {},
   "outputs": [
    {
     "data": {
      "text/plain": [
       "True"
      ]
     },
     "execution_count": 25,
     "metadata": {},
     "output_type": "execute_result"
    }
   ],
   "source": [
    "os.path.isdir(path)"
   ]
  },
  {
   "cell_type": "code",
   "execution_count": 51,
   "id": "0d25b485",
   "metadata": {},
   "outputs": [
    {
     "data": {
      "text/plain": [
       "['adaptor.esgf_wps.retrieve-1689169153.15843-1234-17-68bb0f07-aa61-47ed-8da9-cf09919ba771_provenance.json',\n",
       " 'adaptor.esgf_wps.retrieve-1689169153.15843-1234-17-68bb0f07-aa61-47ed-8da9-cf09919ba771_provenance.png',\n",
       " 'tas_day_KIOST-ESM_historical_r1i1p1f1_gr1_19500101-20141231_v20191202.nc']"
      ]
     },
     "execution_count": 51,
     "metadata": {},
     "output_type": "execute_result"
    }
   ],
   "source": [
    "os.listdir(name_area)"
   ]
  },
  {
   "cell_type": "code",
   "execution_count": 32,
   "id": "9e7a0ef1",
   "metadata": {},
   "outputs": [
    {
     "data": {
      "text/plain": [
       "True"
      ]
     },
     "execution_count": 32,
     "metadata": {},
     "output_type": "execute_result"
    }
   ],
   "source": [
    "os.path.isdir(r'C:\\Users\\CLMRX\\OneDrive - COWI\\Documents\\GitHub\\CRVA_tool\\all-Mozambique')"
   ]
  },
  {
   "cell_type": "code",
   "execution_count": 62,
   "id": "8ea84d2b",
   "metadata": {},
   "outputs": [
    {
     "data": {
      "text/plain": [
       "'C:\\\\Users\\\\CLMRX\\\\OneDrive - COWI\\\\Documents\\\\GitHub\\\\CRVA_tool\\\\adaptor.esgf_wps.retrieve-1689169153.15843-1234-17-68bb0f07-aa61-47ed-8da9-cf09919ba771_provenance.json'"
      ]
     },
     "execution_count": 62,
     "metadata": {},
     "output_type": "execute_result"
    }
   ],
   "source": [
    "path_1 = r'C:\\Users\\CLMRX\\OneDrive - COWI\\Documents\\GitHub\\CRVA_tool\\all-Mozambique\\adaptor.esgf_wps.retrieve-1689169153.15843-1234-17-68bb0f07-aa61-47ed-8da9-cf09919ba771_provenance.json'\n",
    "path_2 = r'\\\\COWI.net\\projects\\A245000\\A248363\\CRVA\\Datasets\\temperature\\near_surface_air_temperature\\Copernicus-CMIP6\\raw_data\\1950-2014\\historical\\kiost_esm\\all-Mozambique\\adaptor.esgf_wps.retrieve-1689169153.15843-1234-17-68bb0f07-aa61-47ed-8da9-cf09919ba771_provenance.json'\n",
    "\n",
    "shutil.move(path_1,r'C:\\Users\\CLMRX\\OneDrive - COWI\\Documents\\GitHub\\CRVA_tool')"
   ]
  },
  {
   "cell_type": "code",
   "execution_count": 59,
   "id": "48401c39",
   "metadata": {},
   "outputs": [
    {
     "data": {
      "text/plain": [
       "True"
      ]
     },
     "execution_count": 59,
     "metadata": {},
     "output_type": "execute_result"
    }
   ],
   "source": [
    "os.path.isdir(path_2)"
   ]
  },
  {
   "cell_type": "code",
   "execution_count": null,
   "id": "3d28fd6c",
   "metadata": {},
   "outputs": [],
   "source": []
  }
 ],
 "metadata": {
  "kernelspec": {
   "display_name": "Python 3 (ipykernel)",
   "language": "python",
   "name": "python3"
  },
  "language_info": {
   "codemirror_mode": {
    "name": "ipython",
    "version": 3
   },
   "file_extension": ".py",
   "mimetype": "text/x-python",
   "name": "python",
   "nbconvert_exporter": "python",
   "pygments_lexer": "ipython3",
   "version": "3.10.6"
  }
 },
 "nbformat": 4,
 "nbformat_minor": 5
}
