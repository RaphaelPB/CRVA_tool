{
 "cells": [
  {
   "cell_type": "markdown",
   "id": "b93dcc14",
   "metadata": {},
   "source": [
    "This notebook is meant to download data from copernicus CMIP6.\n",
    "\n",
    "Data source : https://cds.climate.copernicus.eu/cdsapp#!/dataset/projections-cmip6?tab=form"
   ]
  },
  {
   "cell_type": "markdown",
   "id": "161c8b78",
   "metadata": {},
   "source": [
    "# User input"
   ]
  },
  {
   "cell_type": "code",
   "execution_count": 1,
   "id": "59a4269d",
   "metadata": {},
   "outputs": [],
   "source": [
    "period_of_interest = 'future' # 'future' (2015-2100) or 'past' (1950-2014)\n",
    "global_variable = 'radiation'\n",
    "name_variable = 'surface_downwelling_shortwave_radiation' \n",
    "\n",
    "# 'tas' 'near_surface_air_temperature' \n",
    "# 'tasmax' 'daily_maximum_near_surface_air_temperature' \n",
    "# 'tasmin' 'daily_minimum_near_surface_air_temperature' \n",
    "# 'huss' 'near_surface_specific_humidity' --> done, for past\n",
    "# 'hurs' 'near_surface_relative_humidity', 'monthly'\n",
    "# radiation longwave 'surface_downwelling_longwave_radiation' 'monthly' --> done for past and future\n",
    "# radiation shortwave 'surface_downwelling_shortwave_radiation' 'monthly'\n",
    "# 'Wind' 'near_surface_wind_speed' --> done\n",
    "\n",
    "\n",
    "temporal_resolution = 'monthly'\n",
    "\n",
    "# wind register at 10 m"
   ]
  },
  {
   "cell_type": "markdown",
   "id": "843fe416",
   "metadata": {},
   "source": [
    "# Functions and packages"
   ]
  },
  {
   "cell_type": "code",
   "execution_count": 2,
   "id": "9510fc3b",
   "metadata": {},
   "outputs": [],
   "source": [
    "import pandas as pd\n",
    "import numpy as np\n",
    "import numpy.ma as ma\n",
    "import netCDF4 as nc#not directly used but needs to be imported for some nc4 files manipulations, use for nc files\n",
    "from netCDF4 import Dataset\n",
    "import xarray as xr\n",
    "import datetime # to have actual date\n",
    "import os\n",
    "import os.path\n",
    "import cdsapi # for copernicus function\n",
    "import shutil\n",
    "from datetime import datetime"
   ]
  },
  {
   "cell_type": "markdown",
   "id": "c3262e08",
   "metadata": {},
   "source": [
    "# Out path"
   ]
  },
  {
   "cell_type": "code",
   "execution_count": 3,
   "id": "ead08c23",
   "metadata": {},
   "outputs": [],
   "source": [
    "out_path=r'\\\\COWI.net\\projects\\A245000\\A248363\\CRVA\\Datasets'"
   ]
  },
  {
   "cell_type": "markdown",
   "id": "53516663",
   "metadata": {},
   "source": [
    "# Area information\n",
    "\n",
    "This code download data one area at the time. The user must indicate which part of the word he/she wnats to download.\n",
    "\n",
    "Reminder: \n",
    "\n",
    "latitude is vertical, it specifies North-South positions.\n",
    "\n",
    "longitude is horizontal, it specifies West-East positions."
   ]
  },
  {
   "cell_type": "code",
   "execution_count": 4,
   "id": "1f2fba23",
   "metadata": {},
   "outputs": [],
   "source": [
    "# default coordinates are the ones of Mozambique\n",
    "\n",
    "name_area = 'all-Mozambique'\n",
    "\n",
    "North = -10\n",
    "South = -27\n",
    "West = 30\n",
    "East = 41\n",
    "\n",
    "area = [North, West, South, East] # list format"
   ]
  },
  {
   "cell_type": "markdown",
   "id": "e9b3f294",
   "metadata": {},
   "source": [
    "# Class"
   ]
  },
  {
   "cell_type": "markdown",
   "id": "b9e29fa6",
   "metadata": {},
   "source": [
    "### Calendar class"
   ]
  },
  {
   "cell_type": "code",
   "execution_count": 5,
   "id": "d2d6a2c5",
   "metadata": {},
   "outputs": [],
   "source": [
    "# class to define parameter of time that remain constant durinf the whole script\n",
    "class calendar:\n",
    "    default_month = [ \n",
    "                '01', '02', '03',\n",
    "                '04', '05', '06',\n",
    "                '07', '08', '09',\n",
    "                '10', '11', '12',\n",
    "                ]\n",
    "    default_day = [\n",
    "                '01', '02', '03',\n",
    "                '04', '05', '06',\n",
    "                '07', '08', '09',\n",
    "                '10', '11', '12',\n",
    "                '13', '14', '15',\n",
    "                '16', '17', '18',\n",
    "                '19', '20', '21',\n",
    "                '22', '23', '24',\n",
    "                '25', '26', '27',\n",
    "                '28', '29', '30',\n",
    "                '31',\n",
    "                ]\n",
    "    #actual_date = datetime.date.today()\n",
    "    #actual_year = actual_date.year"
   ]
  },
  {
   "cell_type": "markdown",
   "id": "c24c5e67",
   "metadata": {},
   "source": [
    "### Copernicus class"
   ]
  },
  {
   "cell_type": "code",
   "execution_count": 6,
   "id": "d8f79fb3",
   "metadata": {},
   "outputs": [],
   "source": [
    "## Definition of tuples that will be useful to search which data are available or not\n",
    "# make it tuples to make unchangeable\n",
    "class copernicus_elements:\n",
    "    # there is 58 models\n",
    "    models =('access_cm2','awi_cm_1_1_mr','bcc_csm2_mr','cams_csm1_0','canesm5_canoe','cesm2_fv2','cesm2_waccm_fv2','cmcc_cm2_hr4','cmcc_esm2','cnrm_cm6_1_hr','e3sm_1_0','e3sm_1_1_eca','ec_earth3_aerchem','ec_earth3_veg','fgoals_f3_l','fio_esm_2_0','giss_e2_1_g','hadgem3_gc31_ll','iitm_esm','inm_cm5_0','ipsl_cm6a_lr','kiost_esm','miroc6','miroc_es2l','mpi_esm1_2_hr','mri_esm2_0','norcpm1','noresm2_mm','taiesm1','access_esm1_5','awi_esm_1_1_lr','bcc_esm1','canesm5','cesm2','cesm2_waccm','ciesm','cmcc_cm2_sr5','cnrm_cm6_1','cnrm_esm2_1','e3sm_1_1','ec_earth3','ec_earth3_cc','ec_earth3_veg_lr','fgoals_g3','gfdl_esm4','giss_e2_1_h','hadgem3_gc31_mm','inm_cm4_8','ipsl_cm5a2_inca','kace_1_0_g','mcm_ua_1_0','miroc_es2h','mpi_esm_1_2_ham','mpi_esm1_2_lr','nesm3','noresm2_lm','sam0_unicon','ukesm1_0_ll')\n",
    "    experiments = ('ssp1_1_9','ssp1_2_6','ssp4_3_4','ssp5_3_4os','ssp2_4_5','ssp4_6_0','ssp3_7_0','ssp5_8_5')\n",
    "    experiments_historical=('historical',)"
   ]
  },
  {
   "cell_type": "code",
   "execution_count": 7,
   "id": "e9a04313",
   "metadata": {},
   "outputs": [],
   "source": [
    "if period_of_interest == 'past':\n",
    "    y_start = 1950\n",
    "    y_end = 2014\n",
    "    scenarios = copernicus_elements.experiments_historical\n",
    "if period_of_interest == 'future':\n",
    "    y_start = 2015\n",
    "    y_end = 2100\n",
    "    scenarios = copernicus_elements.experiments"
   ]
  },
  {
   "cell_type": "markdown",
   "id": "80c51b12",
   "metadata": {},
   "source": [
    "## Functions"
   ]
  },
  {
   "cell_type": "code",
   "execution_count": 8,
   "id": "503373bb",
   "metadata": {},
   "outputs": [],
   "source": [
    "################################################ Period for copernicus function ################################################\n",
    "# Aim of the function: by giving it a first and last year of the period that must analyzed, this function produce several \n",
    "# vectors,containing time informations, useful to download and treat data from CMIP6 projections (https://cds.climate.copernicus.eu/cdsapp#!/dataset/projections-cmip6?tab=overview )\n",
    "# Those time vectors are used in the copernicus_data and the dataframe_copernicus and csv_copernicus functions\n",
    "\n",
    "# function year_copernicus produce \n",
    "# year: a vector containing all the year in the period of interest\n",
    "# year_str: an array containing all the year in the period of interest in the string format\n",
    "# index: an array containing the index of the year and year_str\n",
    "#### Parameters of the function\n",
    "# first_year: number in int format, of the first year of the period of interest\n",
    "# last_year: number in int format, of the last year of the period of interest\n",
    "def year_copernicus(first_year,last_year):\n",
    "    year = np.arange(first_year,(last_year+1),1) # create vector of years\n",
    "    year_str = [0]*len(year) # create initiale empty vector to convert years in int\n",
    "    index = np.arange(0,len(year)) # create vector of index for year\n",
    "    i = 0 # initialize index\n",
    "    for i in index: # convert all the date in string format\n",
    "        year_str[i]=str(year[i])\n",
    "    return (year, year_str, index)\n",
    "\n",
    "# function date_copernicus produce \n",
    "# dates: the format depend on the temporal reolution, but always contain the dates of the period of interest.\n",
    "#        with temporal_resolution=daily, dates is a DatetimeIndex\n",
    "#        with temporal_resolution=monthly, dates is a list\n",
    "# index_dates: an array containing the index of the dates\n",
    "#### Parameters of the function\n",
    "# temporal_resolution: daily or monthly\n",
    "# year_str: ???? produce by function year_copernicus, containing the year of the period of interest in string format\n",
    "def date_copernicus(temporal_resolution,year_str):\n",
    "    start_date = \"01-01-\"+year_str[0] # string start date based on start year\n",
    "    stop_date = \"31-12-\"+year_str[len(year_str)-1] # string stop date based on stop year\n",
    "    if temporal_resolution =='daily':\n",
    "        # vector of dates between start date and stop date\n",
    "        dates = pd.date_range(start_date,stop_date)# dates is a pandas.core.indexes.datetimes.DatetimeIndex\n",
    "        # By default, freq = 'D', which means calendar day frequency (source : https://pandas.pydata.org/docs/user_guide/timeseries.html#timeseries-offset-aliases)\n",
    "        #index_dates = np.arange(0,len(dates)) # vector containning index o dates vector\n",
    "    if temporal_resolution =='monthly':\n",
    "        dates = pd.date_range(start_date,stop_date,freq='MS') # vector of dates between start date and stop date\n",
    "        dates=list(dates.strftime('%m-%Y')) # dates is an pandas.core.indexes.base.Index, not a pandas.core.indexes.datetimes.DatetimeIndex\n",
    "    #if temporal_resolution =='fixed': trouver donnees pour gerer cela\n",
    "    index_dates = np.arange(0,len(dates)) # vector containning index o dates vector\n",
    "    return (dates, index_dates)"
   ]
  },
  {
   "cell_type": "code",
   "execution_count": 9,
   "id": "1bec7c7b",
   "metadata": {},
   "outputs": [],
   "source": [
    "########################################### Download data from Copernicus Website ############################################\n",
    "# Aim of the function: this function aims to downloaded with the function copernicus_data the files of interest from the website\n",
    "# Copernicus CMIP6\n",
    "# Actions of this function\n",
    "#     1) Create the string indicating the period of interest\n",
    "#     2) Download data, with its corresponding experiments and models\n",
    "#        2 a) Creates path for file\n",
    "#        2 b) Thanks to function 'copernicus_data', download the data inthe path just created\n",
    "\n",
    "# Parameters of the function\n",
    "# temporal_resolution: 'daily', 'monthly', or 'fixed'. String type \n",
    "# year_str: list containing all the years under the string type and in the period of interest\n",
    "# experiments: copernicus_elements.experiments\n",
    "# models: copernicus_elements.models\n",
    "# out_path: path were the outputs are registered. Defined by the user at the beginning of the code \n",
    "# global_variable: global name of the climate variable of interest (example: Wind)\n",
    "# name_variable: name of the elements downloaded from copernicus (example: 'near_surface_wind_speed')\n",
    "# area: list containing latitudes and longitudes of area of interest\n",
    "# name_area: Name of the area of interest\n",
    "# source: name of the source of the data, by default it is 'Copernicus-CMIP6'\n",
    "\n",
    "def download_copernicus(temporal_resolution,year_str,experiments,models,out_path, global_variable, name_variable,area, name_area,source='Copernicus-CMIP6'):    \n",
    "    # create string for name of folder depending on type of period\n",
    "    if temporal_resolution == 'fixed':\n",
    "        period = 'fixed'\n",
    "    else:\n",
    "        period=year_str[0]+'-'+year_str[len(year_str)-1]\n",
    "        \n",
    "    for SSP in experiments:\n",
    "        experiment = (SSP,) # create tuple for iteration of dataframe\n",
    "        for model_simulation in models:\n",
    "            model =(model_simulation,) # create tuple for iteration of dataframe\n",
    "            print('Test with scenario '+SSP+' and model '+model_simulation)\n",
    "            # path were the futur downloaded file is registered\n",
    "            path_for_file= os.path.join(out_path,global_variable,name_variable,source,'raw_data',period,SSP,model_simulation)\n",
    "            #path_for_file = path_length(path_for_file)\n",
    "            # existence of path_for_file tested in copernicus function\n",
    "            copernicus_data(temporal_resolution,SSP,name_variable,model_simulation,year_str,area,path_for_file,out_path,name_area,source)\n",
    "\n",
    "    return"
   ]
  },
  {
   "cell_type": "code",
   "execution_count": 10,
   "id": "350b5a88",
   "metadata": {},
   "outputs": [],
   "source": [
    "################################################### Copernicus data function ###################################################\n",
    "# Aim of the function : Determine if the data were already downloadeed or not. If the data were not downloaded, call\n",
    "# function 'try_download_copernicus' to download them. If the data were already downloaded but not extracted, call function\n",
    "# 'download_extract'\n",
    "# Actions of this function\n",
    "#     1) create the string of the path where the data will be registered \n",
    "#        \n",
    "#     2) Check if the path where the data will be registered already exists or not\n",
    "#        2 a) The path where the data will be registered does not exist\n",
    "#             The path where are the compressed data exists ?\n",
    "#                   ---> no : call the 'try_download_copernicus' to download and extract the data of interest\n",
    "#                   ---> yes : is the path empty ?\n",
    "#                              > yes : use 'try_download_copernicus' to download and extract the data of interest\n",
    "#                              > no : call function 'download_extract' to extract the files in this path to path_for_file\n",
    "#        2 b) The path where the data will be registered does exist\n",
    "#             Is the path empty ?\n",
    "#                   ---> yes : the path where the compressed data are exists ?\n",
    "#                             > no : use 'try_download_copernicus' to download and extract the data of interest\n",
    "#                             > yes : is the folder empty ?\n",
    "#                                     * yes : use 'try_download_copernicus' to download and extract the data of interest\n",
    "#                                     * no : call function 'download_extract' to extract the files in this path to path_for_file\n",
    "#                   ---> no : the data were downloaded and extracted for the elements of interest \n",
    "\n",
    "#### Parameters of the function\n",
    "# temporal_resolution : daily or monthly or fixed\n",
    "# SSP : scenario that is studied \"Historical\", \"SSP1-1.9\", \"SSP1-2.6\" ...\n",
    "# name_variable : variable to be studied\n",
    "# model: model of projection to choose\n",
    "# year: year(s) of study to choose\n",
    "# area: area of study, if not specific, area should be an empty array area=[]\n",
    "# path_for_file: path where the file must be unzipped\n",
    "# out_path: path were all the outputs are registered, defined by the user in the begining of the main code\n",
    "# name_area :  Name of the area of interest\n",
    "# source: name of the source of the data (here 'Copernicus-CMIP6')\n",
    "\n",
    "def copernicus_data(temporal_resolution,SSP,name_variable,model,year,area,path_for_file,out_path,name_area,source): \n",
    "    # create path for the downloaded file\n",
    "    start_path = os.path.join(out_path,'Data_download_zip')\n",
    "    file_download=create_file_download_path(start_path,name_variable,name_area,SSP,model,year,temporal_resolution,source)\n",
    "    \n",
    "    if not os.path.isdir(path_for_file):\n",
    "        # the path for the file does not exist\n",
    "        print('path_for_file does not exist: the data may not have been downloaded') \n",
    "        if not os.path.isdir(file_download):\n",
    "            print('file_download does not exist: the data were not downloaded')\n",
    "            # function try to download from copernicus\n",
    "            try_download_copernicus(temporal_resolution,SSP,name_variable,model,area,year,path_for_file,file_download,name_area)\n",
    "            return\n",
    "            \n",
    "        else: # if the path already exist, the data in zip format should also exists\n",
    "            if not os.path.isfile(os.path.join(file_download,'download.zip')):\n",
    "                print('The path for the download file exists, but is empty')\n",
    "                # function try to download from copernicus\n",
    "                try_download_copernicus(temporal_resolution,SSP,name_variable,model,area,year,path_for_file,file_download,name_area)                \n",
    "                return\n",
    "            else:\n",
    "                print('file_download does exist, the data have been downloaded, but not extracted')\n",
    "                download_extract(path_for_file,file_download,name_area)\n",
    "                return\n",
    "                \n",
    "    else: \n",
    "        # the path for the file exists\n",
    "        if not os.listdir(path_for_file): # if the path is empty\n",
    "            if not os.path.isdir(file_download):\n",
    "                print('file_download does not exist: the data were not downloaded')\n",
    "                # function try to download from copernicus\n",
    "                try_download_copernicus(temporal_resolution,SSP,name_variable,model,area,year,path_for_file,file_download,name_area)\n",
    "                return\n",
    "\n",
    "            else: # if the path already exist, the data in zip format should also exists\n",
    "                if not os.path.isfile(os.path.join(file_download,'download.zip')):\n",
    "                    print('The path for the download file exists, but is empty')\n",
    "                    # function try to download from copernicus\n",
    "                    try_download_copernicus(temporal_resolution,SSP,name_variable,model,area,year,path_for_file,file_download,name_area)\n",
    "                    return\n",
    "                else:\n",
    "                    print('file_download does exist, the data have been downloaded, but not extracted')\n",
    "                    download_extract(path_for_file,file_download,name_area)\n",
    "                    return\n",
    "        \n",
    "        else: # if the path is not empty\n",
    "            print(f'The data has already been downloaded and extracted at {path_for_file}')\n",
    "            return"
   ]
  },
  {
   "cell_type": "code",
   "execution_count": 11,
   "id": "3c6d6b4b",
   "metadata": {},
   "outputs": [],
   "source": [
    "################################################### try_download_copernicus function ###################################################\n",
    "# Aim of the function : download compressed files from the Copernicus CMIP6 website (indicated at the beginning of the website)\n",
    "\n",
    "##### Actions of the functions :\n",
    "#     1) import function cdsapi.Client(). Will be use in step 3, with c.retrieve\n",
    "#     2) Create the variables dictionnary, depending on the parameters of 'try_download_copernicus'. this dictionnary will then\n",
    "#        be used in the c.retrieve function\n",
    "#     3) Try to downloaded compressed file from Copernicus CMIP6 website. If parameters are not matching, will fall in except \n",
    "#        and continue\n",
    "#     4) Use function 'download_extract' to extract compressed files in path_for_file\n",
    "\n",
    "##### Parameters :\n",
    "# temporal_resolution : daily or monthly or fixed\n",
    "# SSP : scenario that is studied \"Historical\", \"SSP1-1.9\", \"SSP1-2.6\" ...\n",
    "# name_variable : variable to be studied\n",
    "# model: model of projection to choose\n",
    "# area: area of study, if not specific, area should be an empty array area=[]\n",
    "# year: year(s) of study to choose\n",
    "# path_for_file: path where the file must be unzipped\n",
    "# file_download : path where the compressed files under a zip format are registered\n",
    "# name_area : Name of the area of interest\n",
    "\n",
    "def try_download_copernicus(temporal_resolution,SSP,name_variable,model,area,year,path_for_file,file_download,name_area):\n",
    "    c = cdsapi.Client()# function to use the c.retrieve\n",
    "    # basic needed dictionnary to give to the c.retrieve function the parameters asked by the user\n",
    "    variables = {\n",
    "                'format': 'zip', # this function is only designed to download and unzip zip files\n",
    "                'temporal_resolution': temporal_resolution,\n",
    "                'experiment': SSP,\n",
    "                'variable': name_variable,\n",
    "                'model': model,\n",
    "    }\n",
    "\n",
    "    if area != []: # the user is interested by a sub region and not the whole region \n",
    "        variables.update({'area':area}) \n",
    "\n",
    "    if (name_variable=='air_temperature') or (name_variable=='relative_humidity') or (name_variable=='specific_humidity') or (name_variable=='eastward_wind') or (name_variable=='northward_wind') or (name_variable=='geopotential_height'): # test if variable is temperature\n",
    "        variables['level'] = '1000' # [hPa], value of the standard pressure at sea level is 1013.25 [hPa], so 1000 [hPa] is the neareste value. Other pressure value are available but there is no interest for the aim of this project\n",
    "\n",
    "    if temporal_resolution != 'fixed':# if 'fixed', no year, month, date to choose\n",
    "        variables['year']=year # period chosen by the user\n",
    "        variables['month']= calendar.default_month  # be default, all the months are given; defined in class calendar\n",
    "        if temporal_resolution == 'daily':\n",
    "            variables['day']= calendar.default_day # be default, all the days are given; defined in class calendar\n",
    "    # c.retrieve download the data from the website\n",
    "    try:\n",
    "        c.retrieve(\n",
    "            'projections-cmip6',\n",
    "            variables,\n",
    "            'download.zip') # the file in a zip format is registered in the current directory\n",
    "    except:\n",
    "        print('Some parameters are not matching')\n",
    "        return # stop the function, because some data the user entered are not matching\n",
    "    print('The file has been download')\n",
    "    # function to extract the downloaded zip\n",
    "    download_extract(path_for_file,file_download,name_area)\n",
    "    print('The file has been extracted')\n",
    "    return"
   ]
  },
  {
   "cell_type": "code",
   "execution_count": 12,
   "id": "f4958584",
   "metadata": {},
   "outputs": [],
   "source": [
    "# 'download_extract' function aims to extract in path_for_file, the downloaded file in zip format which is registered \n",
    "# in file_download\n",
    "\n",
    "#### Actions of the function :\n",
    "#     1) Check if the path_for_file, where the decompressed file should be registered, exists\n",
    "#        > no : ensure the creation of the path with os.makedirs\n",
    "#     2) Check if the compressed file is in the working directory\n",
    "#        > no : move the compressed fil to the working directory\n",
    "#     3) Extract the compressed file, in a folder named 'name_area'\n",
    "#     4) Check if the file_download, where the compressed file should be registered, exists\n",
    "#        > no : ensure the creation of the path with os.makedirs\n",
    "#     5) move the files to the appropriate places\n",
    "\n",
    "def download_extract(path_for_file,file_download,name_area):\n",
    "    # step 1\n",
    "    path_for_file = os.path.join(path_for_file,name_area)\n",
    "    path_for_file = path_length(path_for_file)\n",
    "    if not os.path.isdir(path_for_file): # path_for_file does not exists, need to ensure that is is created\n",
    "        os.makedirs(path_for_file) # to ensure the creation of the path\n",
    "        print(path_for_file)\n",
    "        print('Path for the file is created, did not existed before')\n",
    "    \n",
    "    # step 2\n",
    "    if 'download.zip' not in os.listdir(): # check if download is in the working directory\n",
    "        print('The download zip is moved to the working directory')\n",
    "        path_downloaded_zip=os.path.join(file_download,'download.zip')\n",
    "        shutil.move(path_downloaded_zip,r'C:\\Users\\CLMRX\\OneDrive - COWI\\Documents\\GitHub\\CRVA_tool') # move download file to working directory\n",
    "    \n",
    "    # step 3\n",
    "    from zipfile import ZipFile\n",
    "    zf = ZipFile('download.zip', 'r')\n",
    "    zf.extractall(name_area) # if no precision of directory, extract in current directory\n",
    "    zf.close()\n",
    "\n",
    "    # step 4\n",
    "    if not os.path.isdir(file_download): # path_for_file does not exists, need to ensure that is is created\n",
    "        os.makedirs(file_download) # to ensure the creation of the path\n",
    "    \n",
    "    # step 5\n",
    "    # moving download to appropriate place\n",
    "    shutil.move('download.zip',file_download) # no need to delete 'download.zip' from inital place\n",
    "    for file in os.listdir(name_area):\n",
    "        try:\n",
    "            shutil.move(os.path.join(r'C:\\Users\\CLMRX\\OneDrive - COWI\\Documents\\GitHub\\CRVA_tool',name_area,file),os.path.join(path_for_file,file)) # move extracted data to the path created for them\n",
    "            print('the file named '+file+ ' was moved')\n",
    "        except:\n",
    "            #os.remove(file) # does not work\n",
    "            pass\n",
    "    #if name_area in os.listdir():\n",
    "    #    print(name_area + ' is here')\n",
    "    #    shutil.rmtree(name_area)\n",
    "    #    print(name_area + ' has been deleted')\n",
    "    print('\\n The downloaded file is extracted')\n",
    "    return"
   ]
  },
  {
   "cell_type": "code",
   "execution_count": 13,
   "id": "a1770731",
   "metadata": {},
   "outputs": [],
   "source": [
    "# 'create_file_download_path' function to create path for the downloaded compressed folder\n",
    "\n",
    "def create_file_download_path(start_path,name_variable,name_area,SSP,model,year,temporal_resolution,source):\n",
    "    # adapt the name of the folder for the period, depending on the type of period\n",
    "    if len(year)==1:\n",
    "        file_download = os.path.join(start_path,name_variable,source,year,SSP,model,name_area)\n",
    "    elif len(year)>1:\n",
    "        period=year[0]+'-'+year[len(year)-1]\n",
    "        file_download = os.path.join(start_path,name_variable,source,period,SSP,model,name_area)\n",
    "    elif temporal_resolution == 'fixed':\n",
    "        file_download = os.path.join(start_path,name_variable,source,'fixed_period',SSP,model,name_area)\n",
    "    file_download = path_length(file_download)\n",
    "    return file_download # returns string of the path where the downloaded compressed folder must be registered"
   ]
  },
  {
   "cell_type": "code",
   "execution_count": 14,
   "id": "073da551",
   "metadata": {},
   "outputs": [],
   "source": [
    "# this functions test if the path is too long\n",
    "# if the path is more than 250 char, the path wll be modified in order for windows to accept is as a path\n",
    "\n",
    "def path_length(str1):\n",
    "    if len(str1)>250:\n",
    "        path = os.path.abspath(str1) # normalize path\n",
    "        if path.startswith(u\"\\\\\\\\\"):\n",
    "            path=u\"\\\\\\\\?\\\\UNC\\\\\"+path[2:]\n",
    "        else:\n",
    "            path=u\"\\\\\\\\?\\\\\"+path\n",
    "        return path\n",
    "    else:\n",
    "        return str1"
   ]
  },
  {
   "cell_type": "markdown",
   "id": "feccff81",
   "metadata": {},
   "source": [
    "# Register copernicus data"
   ]
  },
  {
   "cell_type": "code",
   "execution_count": 15,
   "id": "f3f80c2f",
   "metadata": {},
   "outputs": [],
   "source": [
    "(year, year_str, index)=year_copernicus(y_start,y_end)"
   ]
  },
  {
   "cell_type": "code",
   "execution_count": null,
   "id": "2844115c",
   "metadata": {},
   "outputs": [
    {
     "name": "stdout",
     "output_type": "stream",
     "text": [
      "Test with scenario ssp1_1_9 and model access_cm2\n",
      "path_for_file does not exist: the data may not have been downloaded\n",
      "file_download does not exist: the data were not downloaded\n"
     ]
    },
    {
     "name": "stderr",
     "output_type": "stream",
     "text": [
      "2023-07-15 21:44:39,942 INFO Welcome to the CDS\n",
      "2023-07-15 21:44:39,943 INFO Sending request to https://cds.climate.copernicus.eu/api/v2/resources/projections-cmip6\n",
      "2023-07-15 21:44:40,021 INFO Request is queued\n",
      "2023-07-15 21:44:41,073 INFO Request is failed\n",
      "2023-07-15 21:44:41,074 ERROR Message: an internal error occurred processing your request\n",
      "2023-07-15 21:44:41,076 ERROR Reason:  No matching data for request {'experiment': 'ssp119', 'model': 'ACCESS-CM2', 'temporal_resolution': 'mon', 'variable': 'rsds'}\n",
      "2023-07-15 21:44:41,077 ERROR   Traceback (most recent call last):\n",
      "2023-07-15 21:44:41,077 ERROR     File \"/opt/cdstoolbox/cdscompute/cdscompute/cdshandlers/services/handler.py\", line 59, in handle_request\n",
      "2023-07-15 21:44:41,079 ERROR       result = cached(context.method, proc, context, context.args, context.kwargs)\n",
      "2023-07-15 21:44:41,080 ERROR     File \"/opt/cdstoolbox/cdscompute/cdscompute/caching.py\", line 108, in cached\n",
      "2023-07-15 21:44:41,081 ERROR       result = proc(context, *context.args, **context.kwargs)\n",
      "2023-07-15 21:44:41,081 ERROR     File \"/opt/cdstoolbox/cdscompute/cdscompute/services.py\", line 124, in __call__\n",
      "2023-07-15 21:44:41,084 ERROR       return p(*args, **kwargs)\n",
      "2023-07-15 21:44:41,085 ERROR     File \"/opt/cdstoolbox/cdscompute/cdscompute/services.py\", line 60, in __call__\n",
      "2023-07-15 21:44:41,086 ERROR       return self.proc(context, *args, **kwargs)\n",
      "2023-07-15 21:44:41,087 ERROR     File \"/home/cds/cdsservices/services/esgf_wps/__init__.py\", line 30, in execute\n",
      "2023-07-15 21:44:41,088 ERROR       request_facets, request = facets.search(context, request)\n",
      "2023-07-15 21:44:41,089 ERROR     File \"/home/cds/cdsservices/services/esgf_wps/facets.py\", line 61, in search\n",
      "2023-07-15 21:44:41,090 ERROR       raise ValueError(f'No matching data for request {tmp_request}')\n",
      "2023-07-15 21:44:41,092 ERROR   ValueError: No matching data for request {'experiment': 'ssp119', 'model': 'ACCESS-CM2', 'temporal_resolution': 'mon', 'variable': 'rsds'}\n",
      "2023-07-15 21:44:41,150 INFO Welcome to the CDS\n",
      "2023-07-15 21:44:41,151 INFO Sending request to https://cds.climate.copernicus.eu/api/v2/resources/projections-cmip6\n",
      "2023-07-15 21:44:41,201 INFO Request is queued\n"
     ]
    },
    {
     "name": "stdout",
     "output_type": "stream",
     "text": [
      "Some parameters are not matching\n",
      "Test with scenario ssp1_1_9 and model awi_cm_1_1_mr\n",
      "path_for_file does not exist: the data may not have been downloaded\n",
      "file_download does not exist: the data were not downloaded\n"
     ]
    },
    {
     "name": "stderr",
     "output_type": "stream",
     "text": [
      "2023-07-15 21:44:42,253 INFO Request is failed\n",
      "2023-07-15 21:44:42,255 ERROR Message: an internal error occurred processing your request\n",
      "2023-07-15 21:44:42,256 ERROR Reason:  No matching data for request {'experiment': 'ssp119', 'model': 'AWI-CM-1-1-MR', 'temporal_resolution': 'mon', 'variable': 'rsds'}\n",
      "2023-07-15 21:44:42,256 ERROR   Traceback (most recent call last):\n",
      "2023-07-15 21:44:42,257 ERROR     File \"/opt/cdstoolbox/cdscompute/cdscompute/cdshandlers/services/handler.py\", line 59, in handle_request\n",
      "2023-07-15 21:44:42,258 ERROR       result = cached(context.method, proc, context, context.args, context.kwargs)\n",
      "2023-07-15 21:44:42,259 ERROR     File \"/opt/cdstoolbox/cdscompute/cdscompute/caching.py\", line 108, in cached\n",
      "2023-07-15 21:44:42,260 ERROR       result = proc(context, *context.args, **context.kwargs)\n",
      "2023-07-15 21:44:42,260 ERROR     File \"/opt/cdstoolbox/cdscompute/cdscompute/services.py\", line 124, in __call__\n",
      "2023-07-15 21:44:42,262 ERROR       return p(*args, **kwargs)\n",
      "2023-07-15 21:44:42,262 ERROR     File \"/opt/cdstoolbox/cdscompute/cdscompute/services.py\", line 60, in __call__\n",
      "2023-07-15 21:44:42,264 ERROR       return self.proc(context, *args, **kwargs)\n",
      "2023-07-15 21:44:42,266 ERROR     File \"/home/cds/cdsservices/services/esgf_wps/__init__.py\", line 30, in execute\n",
      "2023-07-15 21:44:42,268 ERROR       request_facets, request = facets.search(context, request)\n",
      "2023-07-15 21:44:42,273 ERROR     File \"/home/cds/cdsservices/services/esgf_wps/facets.py\", line 61, in search\n",
      "2023-07-15 21:44:42,274 ERROR       raise ValueError(f'No matching data for request {tmp_request}')\n",
      "2023-07-15 21:44:42,275 ERROR   ValueError: No matching data for request {'experiment': 'ssp119', 'model': 'AWI-CM-1-1-MR', 'temporal_resolution': 'mon', 'variable': 'rsds'}\n",
      "2023-07-15 21:44:42,328 INFO Welcome to the CDS\n",
      "2023-07-15 21:44:42,329 INFO Sending request to https://cds.climate.copernicus.eu/api/v2/resources/projections-cmip6\n",
      "2023-07-15 21:44:42,390 INFO Request is queued\n"
     ]
    },
    {
     "name": "stdout",
     "output_type": "stream",
     "text": [
      "Some parameters are not matching\n",
      "Test with scenario ssp1_1_9 and model bcc_csm2_mr\n",
      "path_for_file does not exist: the data may not have been downloaded\n",
      "file_download does not exist: the data were not downloaded\n"
     ]
    },
    {
     "name": "stderr",
     "output_type": "stream",
     "text": [
      "2023-07-15 21:44:43,442 INFO Request is failed\n",
      "2023-07-15 21:44:43,443 ERROR Message: an internal error occurred processing your request\n",
      "2023-07-15 21:44:43,444 ERROR Reason:  No matching data for request {'experiment': 'ssp119', 'model': 'BCC-CSM2-MR', 'temporal_resolution': 'mon', 'variable': 'rsds'}\n",
      "2023-07-15 21:44:43,447 ERROR   Traceback (most recent call last):\n",
      "2023-07-15 21:44:43,448 ERROR     File \"/opt/cdstoolbox/cdscompute/cdscompute/cdshandlers/services/handler.py\", line 59, in handle_request\n",
      "2023-07-15 21:44:43,450 ERROR       result = cached(context.method, proc, context, context.args, context.kwargs)\n",
      "2023-07-15 21:44:43,451 ERROR     File \"/opt/cdstoolbox/cdscompute/cdscompute/caching.py\", line 108, in cached\n",
      "2023-07-15 21:44:43,451 ERROR       result = proc(context, *context.args, **context.kwargs)\n",
      "2023-07-15 21:44:43,452 ERROR     File \"/opt/cdstoolbox/cdscompute/cdscompute/services.py\", line 124, in __call__\n",
      "2023-07-15 21:44:43,453 ERROR       return p(*args, **kwargs)\n",
      "2023-07-15 21:44:43,453 ERROR     File \"/opt/cdstoolbox/cdscompute/cdscompute/services.py\", line 60, in __call__\n",
      "2023-07-15 21:44:43,455 ERROR       return self.proc(context, *args, **kwargs)\n",
      "2023-07-15 21:44:43,456 ERROR     File \"/home/cds/cdsservices/services/esgf_wps/__init__.py\", line 30, in execute\n",
      "2023-07-15 21:44:43,457 ERROR       request_facets, request = facets.search(context, request)\n",
      "2023-07-15 21:44:43,458 ERROR     File \"/home/cds/cdsservices/services/esgf_wps/facets.py\", line 61, in search\n",
      "2023-07-15 21:44:43,458 ERROR       raise ValueError(f'No matching data for request {tmp_request}')\n",
      "2023-07-15 21:44:43,459 ERROR   ValueError: No matching data for request {'experiment': 'ssp119', 'model': 'BCC-CSM2-MR', 'temporal_resolution': 'mon', 'variable': 'rsds'}\n",
      "2023-07-15 21:44:43,502 INFO Welcome to the CDS\n",
      "2023-07-15 21:44:43,504 INFO Sending request to https://cds.climate.copernicus.eu/api/v2/resources/projections-cmip6\n",
      "2023-07-15 21:44:43,551 INFO Request is queued\n"
     ]
    },
    {
     "name": "stdout",
     "output_type": "stream",
     "text": [
      "Some parameters are not matching\n",
      "Test with scenario ssp1_1_9 and model cams_csm1_0\n",
      "path_for_file does not exist: the data may not have been downloaded\n",
      "file_download does not exist: the data were not downloaded\n"
     ]
    },
    {
     "name": "stderr",
     "output_type": "stream",
     "text": [
      "2023-07-15 21:44:44,594 INFO Request is running\n",
      "2023-07-15 21:44:56,967 INFO Request is failed\n",
      "2023-07-15 21:44:56,969 ERROR Message: an internal error occurred processing your request\n",
      "2023-07-15 21:44:56,971 ERROR Reason:  Process error: 2100\n",
      "2023-07-15 21:44:56,973 ERROR   Traceback (most recent call last):\n",
      "2023-07-15 21:44:56,975 ERROR     File \"/usr/local/lib/python3.6/site-packages/rooki/results.py\", line 33, in url\n",
      "2023-07-15 21:44:56,977 ERROR       return self.response.get()[0]\n",
      "2023-07-15 21:44:56,978 ERROR     File \"/usr/local/lib/python3.6/site-packages/birdy/client/outputs.py\", line 40, in get\n",
      "2023-07-15 21:44:56,979 ERROR       raise ProcessFailed(\"Sorry, process failed.\")\n",
      "2023-07-15 21:44:56,980 ERROR   birdy.exceptions.ProcessFailed: Sorry, process failed.\n",
      "2023-07-15 21:44:57,037 INFO Welcome to the CDS\n",
      "2023-07-15 21:44:57,037 INFO Sending request to https://cds.climate.copernicus.eu/api/v2/resources/projections-cmip6\n",
      "2023-07-15 21:44:57,107 INFO Request is queued\n"
     ]
    },
    {
     "name": "stdout",
     "output_type": "stream",
     "text": [
      "Some parameters are not matching\n",
      "Test with scenario ssp1_1_9 and model canesm5_canoe\n",
      "path_for_file does not exist: the data may not have been downloaded\n",
      "file_download does not exist: the data were not downloaded\n"
     ]
    },
    {
     "name": "stderr",
     "output_type": "stream",
     "text": [
      "2023-07-15 21:44:58,147 INFO Request is failed\n",
      "2023-07-15 21:44:58,148 ERROR Message: an internal error occurred processing your request\n",
      "2023-07-15 21:44:58,149 ERROR Reason:  No matching data for request {'experiment': 'ssp119', 'model': 'CanESM5-CanOE', 'temporal_resolution': 'mon', 'variable': 'rsds'}\n",
      "2023-07-15 21:44:58,150 ERROR   Traceback (most recent call last):\n",
      "2023-07-15 21:44:58,151 ERROR     File \"/opt/cdstoolbox/cdscompute/cdscompute/cdshandlers/services/handler.py\", line 59, in handle_request\n",
      "2023-07-15 21:44:58,151 ERROR       result = cached(context.method, proc, context, context.args, context.kwargs)\n",
      "2023-07-15 21:44:58,152 ERROR     File \"/opt/cdstoolbox/cdscompute/cdscompute/caching.py\", line 108, in cached\n",
      "2023-07-15 21:44:58,153 ERROR       result = proc(context, *context.args, **context.kwargs)\n",
      "2023-07-15 21:44:58,153 ERROR     File \"/opt/cdstoolbox/cdscompute/cdscompute/services.py\", line 124, in __call__\n",
      "2023-07-15 21:44:58,154 ERROR       return p(*args, **kwargs)\n",
      "2023-07-15 21:44:58,154 ERROR     File \"/opt/cdstoolbox/cdscompute/cdscompute/services.py\", line 60, in __call__\n",
      "2023-07-15 21:44:58,155 ERROR       return self.proc(context, *args, **kwargs)\n",
      "2023-07-15 21:44:58,155 ERROR     File \"/home/cds/cdsservices/services/esgf_wps/__init__.py\", line 30, in execute\n",
      "2023-07-15 21:44:58,158 ERROR       request_facets, request = facets.search(context, request)\n",
      "2023-07-15 21:44:58,158 ERROR     File \"/home/cds/cdsservices/services/esgf_wps/facets.py\", line 61, in search\n",
      "2023-07-15 21:44:58,158 ERROR       raise ValueError(f'No matching data for request {tmp_request}')\n",
      "2023-07-15 21:44:58,158 ERROR   ValueError: No matching data for request {'experiment': 'ssp119', 'model': 'CanESM5-CanOE', 'temporal_resolution': 'mon', 'variable': 'rsds'}\n",
      "2023-07-15 21:44:58,194 INFO Welcome to the CDS\n",
      "2023-07-15 21:44:58,196 INFO Sending request to https://cds.climate.copernicus.eu/api/v2/resources/projections-cmip6\n",
      "2023-07-15 21:44:58,264 INFO Request is queued\n"
     ]
    },
    {
     "name": "stdout",
     "output_type": "stream",
     "text": [
      "Some parameters are not matching\n",
      "Test with scenario ssp1_1_9 and model cesm2_fv2\n",
      "path_for_file does not exist: the data may not have been downloaded\n",
      "file_download does not exist: the data were not downloaded\n"
     ]
    },
    {
     "name": "stderr",
     "output_type": "stream",
     "text": [
      "2023-07-15 21:44:59,325 INFO Request is failed\n",
      "2023-07-15 21:44:59,327 ERROR Message: an internal error occurred processing your request\n",
      "2023-07-15 21:44:59,328 ERROR Reason:  No matching data for request {'experiment': 'ssp119', 'model': 'CESM2-FV2', 'temporal_resolution': 'mon', 'variable': 'rsds'}\n",
      "2023-07-15 21:44:59,328 ERROR   Traceback (most recent call last):\n",
      "2023-07-15 21:44:59,329 ERROR     File \"/opt/cdstoolbox/cdscompute/cdscompute/cdshandlers/services/handler.py\", line 59, in handle_request\n",
      "2023-07-15 21:44:59,330 ERROR       result = cached(context.method, proc, context, context.args, context.kwargs)\n",
      "2023-07-15 21:44:59,332 ERROR     File \"/opt/cdstoolbox/cdscompute/cdscompute/caching.py\", line 108, in cached\n",
      "2023-07-15 21:44:59,333 ERROR       result = proc(context, *context.args, **context.kwargs)\n",
      "2023-07-15 21:44:59,334 ERROR     File \"/opt/cdstoolbox/cdscompute/cdscompute/services.py\", line 124, in __call__\n",
      "2023-07-15 21:44:59,335 ERROR       return p(*args, **kwargs)\n",
      "2023-07-15 21:44:59,336 ERROR     File \"/opt/cdstoolbox/cdscompute/cdscompute/services.py\", line 60, in __call__\n",
      "2023-07-15 21:44:59,337 ERROR       return self.proc(context, *args, **kwargs)\n",
      "2023-07-15 21:44:59,338 ERROR     File \"/home/cds/cdsservices/services/esgf_wps/__init__.py\", line 30, in execute\n",
      "2023-07-15 21:44:59,339 ERROR       request_facets, request = facets.search(context, request)\n",
      "2023-07-15 21:44:59,339 ERROR     File \"/home/cds/cdsservices/services/esgf_wps/facets.py\", line 61, in search\n",
      "2023-07-15 21:44:59,340 ERROR       raise ValueError(f'No matching data for request {tmp_request}')\n",
      "2023-07-15 21:44:59,341 ERROR   ValueError: No matching data for request {'experiment': 'ssp119', 'model': 'CESM2-FV2', 'temporal_resolution': 'mon', 'variable': 'rsds'}\n",
      "2023-07-15 21:44:59,384 INFO Welcome to the CDS\n",
      "2023-07-15 21:44:59,385 INFO Sending request to https://cds.climate.copernicus.eu/api/v2/resources/projections-cmip6\n",
      "2023-07-15 21:44:59,449 INFO Request is queued\n"
     ]
    },
    {
     "name": "stdout",
     "output_type": "stream",
     "text": [
      "Some parameters are not matching\n",
      "Test with scenario ssp1_1_9 and model cesm2_waccm_fv2\n",
      "path_for_file does not exist: the data may not have been downloaded\n",
      "file_download does not exist: the data were not downloaded\n"
     ]
    },
    {
     "name": "stderr",
     "output_type": "stream",
     "text": [
      "2023-07-15 21:45:00,496 INFO Request is failed\n",
      "2023-07-15 21:45:00,496 ERROR Message: an internal error occurred processing your request\n",
      "2023-07-15 21:45:00,497 ERROR Reason:  No matching data for request {'experiment': 'ssp119', 'model': 'CESM2-WACCM-FV2', 'temporal_resolution': 'mon', 'variable': 'rsds'}\n",
      "2023-07-15 21:45:00,497 ERROR   Traceback (most recent call last):\n",
      "2023-07-15 21:45:00,497 ERROR     File \"/opt/cdstoolbox/cdscompute/cdscompute/cdshandlers/services/handler.py\", line 59, in handle_request\n",
      "2023-07-15 21:45:00,498 ERROR       result = cached(context.method, proc, context, context.args, context.kwargs)\n",
      "2023-07-15 21:45:00,498 ERROR     File \"/opt/cdstoolbox/cdscompute/cdscompute/caching.py\", line 108, in cached\n",
      "2023-07-15 21:45:00,499 ERROR       result = proc(context, *context.args, **context.kwargs)\n",
      "2023-07-15 21:45:00,499 ERROR     File \"/opt/cdstoolbox/cdscompute/cdscompute/services.py\", line 124, in __call__\n",
      "2023-07-15 21:45:00,500 ERROR       return p(*args, **kwargs)\n",
      "2023-07-15 21:45:00,501 ERROR     File \"/opt/cdstoolbox/cdscompute/cdscompute/services.py\", line 60, in __call__\n",
      "2023-07-15 21:45:00,502 ERROR       return self.proc(context, *args, **kwargs)\n",
      "2023-07-15 21:45:00,503 ERROR     File \"/home/cds/cdsservices/services/esgf_wps/__init__.py\", line 30, in execute\n",
      "2023-07-15 21:45:00,504 ERROR       request_facets, request = facets.search(context, request)\n",
      "2023-07-15 21:45:00,504 ERROR     File \"/home/cds/cdsservices/services/esgf_wps/facets.py\", line 61, in search\n",
      "2023-07-15 21:45:00,505 ERROR       raise ValueError(f'No matching data for request {tmp_request}')\n",
      "2023-07-15 21:45:00,506 ERROR   ValueError: No matching data for request {'experiment': 'ssp119', 'model': 'CESM2-WACCM-FV2', 'temporal_resolution': 'mon', 'variable': 'rsds'}\n",
      "2023-07-15 21:45:00,558 INFO Welcome to the CDS\n",
      "2023-07-15 21:45:00,559 INFO Sending request to https://cds.climate.copernicus.eu/api/v2/resources/projections-cmip6\n",
      "2023-07-15 21:45:00,633 INFO Request is queued\n"
     ]
    },
    {
     "name": "stdout",
     "output_type": "stream",
     "text": [
      "Some parameters are not matching\n",
      "Test with scenario ssp1_1_9 and model cmcc_cm2_hr4\n",
      "path_for_file does not exist: the data may not have been downloaded\n",
      "file_download does not exist: the data were not downloaded\n"
     ]
    },
    {
     "name": "stderr",
     "output_type": "stream",
     "text": [
      "2023-07-15 21:45:01,681 INFO Request is failed\n",
      "2023-07-15 21:45:01,682 ERROR Message: an internal error occurred processing your request\n",
      "2023-07-15 21:45:01,683 ERROR Reason:  No matching data for request {'experiment': 'ssp119', 'model': 'CMCC-CM2-HR4', 'temporal_resolution': 'mon', 'variable': 'rsds'}\n",
      "2023-07-15 21:45:01,684 ERROR   Traceback (most recent call last):\n",
      "2023-07-15 21:45:01,684 ERROR     File \"/opt/cdstoolbox/cdscompute/cdscompute/cdshandlers/services/handler.py\", line 59, in handle_request\n",
      "2023-07-15 21:45:01,685 ERROR       result = cached(context.method, proc, context, context.args, context.kwargs)\n",
      "2023-07-15 21:45:01,686 ERROR     File \"/opt/cdstoolbox/cdscompute/cdscompute/caching.py\", line 108, in cached\n",
      "2023-07-15 21:45:01,686 ERROR       result = proc(context, *context.args, **context.kwargs)\n",
      "2023-07-15 21:45:01,686 ERROR     File \"/opt/cdstoolbox/cdscompute/cdscompute/services.py\", line 124, in __call__\n",
      "2023-07-15 21:45:01,687 ERROR       return p(*args, **kwargs)\n",
      "2023-07-15 21:45:01,687 ERROR     File \"/opt/cdstoolbox/cdscompute/cdscompute/services.py\", line 60, in __call__\n",
      "2023-07-15 21:45:01,688 ERROR       return self.proc(context, *args, **kwargs)\n",
      "2023-07-15 21:45:01,689 ERROR     File \"/home/cds/cdsservices/services/esgf_wps/__init__.py\", line 30, in execute\n",
      "2023-07-15 21:45:01,689 ERROR       request_facets, request = facets.search(context, request)\n",
      "2023-07-15 21:45:01,689 ERROR     File \"/home/cds/cdsservices/services/esgf_wps/facets.py\", line 61, in search\n",
      "2023-07-15 21:45:01,690 ERROR       raise ValueError(f'No matching data for request {tmp_request}')\n",
      "2023-07-15 21:45:01,691 ERROR   ValueError: No matching data for request {'experiment': 'ssp119', 'model': 'CMCC-CM2-HR4', 'temporal_resolution': 'mon', 'variable': 'rsds'}\n",
      "2023-07-15 21:45:01,732 INFO Welcome to the CDS\n",
      "2023-07-15 21:45:01,733 INFO Sending request to https://cds.climate.copernicus.eu/api/v2/resources/projections-cmip6\n",
      "2023-07-15 21:45:01,774 INFO Request is queued\n"
     ]
    },
    {
     "name": "stdout",
     "output_type": "stream",
     "text": [
      "Some parameters are not matching\n",
      "Test with scenario ssp1_1_9 and model cmcc_esm2\n",
      "path_for_file does not exist: the data may not have been downloaded\n",
      "file_download does not exist: the data were not downloaded\n"
     ]
    },
    {
     "name": "stderr",
     "output_type": "stream",
     "text": [
      "2023-07-15 21:45:02,817 INFO Request is failed\n",
      "2023-07-15 21:45:02,818 ERROR Message: an internal error occurred processing your request\n",
      "2023-07-15 21:45:02,819 ERROR Reason:  No matching data for request {'experiment': 'ssp119', 'model': 'CMCC-ESM2', 'temporal_resolution': 'mon', 'variable': 'rsds'}\n",
      "2023-07-15 21:45:02,819 ERROR   Traceback (most recent call last):\n",
      "2023-07-15 21:45:02,820 ERROR     File \"/opt/cdstoolbox/cdscompute/cdscompute/cdshandlers/services/handler.py\", line 59, in handle_request\n",
      "2023-07-15 21:45:02,821 ERROR       result = cached(context.method, proc, context, context.args, context.kwargs)\n",
      "2023-07-15 21:45:02,822 ERROR     File \"/opt/cdstoolbox/cdscompute/cdscompute/caching.py\", line 108, in cached\n",
      "2023-07-15 21:45:02,824 ERROR       result = proc(context, *context.args, **context.kwargs)\n",
      "2023-07-15 21:45:02,824 ERROR     File \"/opt/cdstoolbox/cdscompute/cdscompute/services.py\", line 124, in __call__\n",
      "2023-07-15 21:45:02,825 ERROR       return p(*args, **kwargs)\n",
      "2023-07-15 21:45:02,826 ERROR     File \"/opt/cdstoolbox/cdscompute/cdscompute/services.py\", line 60, in __call__\n",
      "2023-07-15 21:45:02,827 ERROR       return self.proc(context, *args, **kwargs)\n",
      "2023-07-15 21:45:02,827 ERROR     File \"/home/cds/cdsservices/services/esgf_wps/__init__.py\", line 30, in execute\n",
      "2023-07-15 21:45:02,829 ERROR       request_facets, request = facets.search(context, request)\n",
      "2023-07-15 21:45:02,829 ERROR     File \"/home/cds/cdsservices/services/esgf_wps/facets.py\", line 61, in search\n",
      "2023-07-15 21:45:02,830 ERROR       raise ValueError(f'No matching data for request {tmp_request}')\n",
      "2023-07-15 21:45:02,831 ERROR   ValueError: No matching data for request {'experiment': 'ssp119', 'model': 'CMCC-ESM2', 'temporal_resolution': 'mon', 'variable': 'rsds'}\n",
      "2023-07-15 21:45:02,924 INFO Welcome to the CDS\n",
      "2023-07-15 21:45:02,925 INFO Sending request to https://cds.climate.copernicus.eu/api/v2/resources/projections-cmip6\n",
      "2023-07-15 21:45:02,980 INFO Request is queued\n"
     ]
    },
    {
     "name": "stdout",
     "output_type": "stream",
     "text": [
      "Some parameters are not matching\n",
      "Test with scenario ssp1_1_9 and model cnrm_cm6_1_hr\n",
      "path_for_file does not exist: the data may not have been downloaded\n",
      "file_download does not exist: the data were not downloaded\n"
     ]
    },
    {
     "name": "stderr",
     "output_type": "stream",
     "text": [
      "2023-07-15 21:45:04,022 INFO Request is failed\n",
      "2023-07-15 21:45:04,022 ERROR Message: an internal error occurred processing your request\n",
      "2023-07-15 21:45:04,022 ERROR Reason:  No matching data for request {'experiment': 'ssp119', 'model': 'CNRM-CM6-1-HR', 'temporal_resolution': 'mon', 'variable': 'rsds'}\n",
      "2023-07-15 21:45:04,023 ERROR   Traceback (most recent call last):\n",
      "2023-07-15 21:45:04,023 ERROR     File \"/opt/cdstoolbox/cdscompute/cdscompute/cdshandlers/services/handler.py\", line 59, in handle_request\n",
      "2023-07-15 21:45:04,023 ERROR       result = cached(context.method, proc, context, context.args, context.kwargs)\n",
      "2023-07-15 21:45:04,024 ERROR     File \"/opt/cdstoolbox/cdscompute/cdscompute/caching.py\", line 108, in cached\n",
      "2023-07-15 21:45:04,025 ERROR       result = proc(context, *context.args, **context.kwargs)\n",
      "2023-07-15 21:45:04,027 ERROR     File \"/opt/cdstoolbox/cdscompute/cdscompute/services.py\", line 124, in __call__\n",
      "2023-07-15 21:45:04,027 ERROR       return p(*args, **kwargs)\n",
      "2023-07-15 21:45:04,028 ERROR     File \"/opt/cdstoolbox/cdscompute/cdscompute/services.py\", line 60, in __call__\n",
      "2023-07-15 21:45:04,029 ERROR       return self.proc(context, *args, **kwargs)\n",
      "2023-07-15 21:45:04,029 ERROR     File \"/home/cds/cdsservices/services/esgf_wps/__init__.py\", line 30, in execute\n",
      "2023-07-15 21:45:04,030 ERROR       request_facets, request = facets.search(context, request)\n",
      "2023-07-15 21:45:04,030 ERROR     File \"/home/cds/cdsservices/services/esgf_wps/facets.py\", line 61, in search\n",
      "2023-07-15 21:45:04,031 ERROR       raise ValueError(f'No matching data for request {tmp_request}')\n",
      "2023-07-15 21:45:04,031 ERROR   ValueError: No matching data for request {'experiment': 'ssp119', 'model': 'CNRM-CM6-1-HR', 'temporal_resolution': 'mon', 'variable': 'rsds'}\n",
      "2023-07-15 21:45:04,074 INFO Welcome to the CDS\n",
      "2023-07-15 21:45:04,075 INFO Sending request to https://cds.climate.copernicus.eu/api/v2/resources/projections-cmip6\n",
      "2023-07-15 21:45:04,127 INFO Request is queued\n"
     ]
    },
    {
     "name": "stdout",
     "output_type": "stream",
     "text": [
      "Some parameters are not matching\n",
      "Test with scenario ssp1_1_9 and model e3sm_1_0\n",
      "path_for_file does not exist: the data may not have been downloaded\n",
      "file_download does not exist: the data were not downloaded\n"
     ]
    },
    {
     "name": "stderr",
     "output_type": "stream",
     "text": [
      "2023-07-15 21:45:05,174 INFO Request is failed\n",
      "2023-07-15 21:45:05,175 ERROR Message: an internal error occurred processing your request\n",
      "2023-07-15 21:45:05,175 ERROR Reason:  No matching data for request {'experiment': 'ssp119', 'model': 'E3SM-1-0', 'temporal_resolution': 'mon', 'variable': 'rsds'}\n",
      "2023-07-15 21:45:05,176 ERROR   Traceback (most recent call last):\n",
      "2023-07-15 21:45:05,177 ERROR     File \"/opt/cdstoolbox/cdscompute/cdscompute/cdshandlers/services/handler.py\", line 59, in handle_request\n",
      "2023-07-15 21:45:05,177 ERROR       result = cached(context.method, proc, context, context.args, context.kwargs)\n",
      "2023-07-15 21:45:05,178 ERROR     File \"/opt/cdstoolbox/cdscompute/cdscompute/caching.py\", line 108, in cached\n",
      "2023-07-15 21:45:05,179 ERROR       result = proc(context, *context.args, **context.kwargs)\n",
      "2023-07-15 21:45:05,179 ERROR     File \"/opt/cdstoolbox/cdscompute/cdscompute/services.py\", line 124, in __call__\n",
      "2023-07-15 21:45:05,180 ERROR       return p(*args, **kwargs)\n",
      "2023-07-15 21:45:05,181 ERROR     File \"/opt/cdstoolbox/cdscompute/cdscompute/services.py\", line 60, in __call__\n",
      "2023-07-15 21:45:05,181 ERROR       return self.proc(context, *args, **kwargs)\n",
      "2023-07-15 21:45:05,183 ERROR     File \"/home/cds/cdsservices/services/esgf_wps/__init__.py\", line 30, in execute\n",
      "2023-07-15 21:45:05,183 ERROR       request_facets, request = facets.search(context, request)\n",
      "2023-07-15 21:45:05,183 ERROR     File \"/home/cds/cdsservices/services/esgf_wps/facets.py\", line 61, in search\n",
      "2023-07-15 21:45:05,184 ERROR       raise ValueError(f'No matching data for request {tmp_request}')\n",
      "2023-07-15 21:45:05,185 ERROR   ValueError: No matching data for request {'experiment': 'ssp119', 'model': 'E3SM-1-0', 'temporal_resolution': 'mon', 'variable': 'rsds'}\n",
      "2023-07-15 21:45:05,222 INFO Welcome to the CDS\n",
      "2023-07-15 21:45:05,223 INFO Sending request to https://cds.climate.copernicus.eu/api/v2/resources/projections-cmip6\n",
      "2023-07-15 21:45:05,265 INFO Request is queued\n"
     ]
    },
    {
     "name": "stdout",
     "output_type": "stream",
     "text": [
      "Some parameters are not matching\n",
      "Test with scenario ssp1_1_9 and model e3sm_1_1_eca\n",
      "path_for_file does not exist: the data may not have been downloaded\n",
      "file_download does not exist: the data were not downloaded\n"
     ]
    },
    {
     "name": "stderr",
     "output_type": "stream",
     "text": [
      "2023-07-15 21:45:06,318 INFO Request is failed\n",
      "2023-07-15 21:45:06,320 ERROR Message: an internal error occurred processing your request\n",
      "2023-07-15 21:45:06,323 ERROR Reason:  No matching data for request {'experiment': 'ssp119', 'model': 'E3SM-1-1-ECA', 'temporal_resolution': 'mon', 'variable': 'rsds'}\n",
      "2023-07-15 21:45:06,325 ERROR   Traceback (most recent call last):\n",
      "2023-07-15 21:45:06,326 ERROR     File \"/opt/cdstoolbox/cdscompute/cdscompute/cdshandlers/services/handler.py\", line 59, in handle_request\n",
      "2023-07-15 21:45:06,328 ERROR       result = cached(context.method, proc, context, context.args, context.kwargs)\n",
      "2023-07-15 21:45:06,329 ERROR     File \"/opt/cdstoolbox/cdscompute/cdscompute/caching.py\", line 108, in cached\n",
      "2023-07-15 21:45:06,329 ERROR       result = proc(context, *context.args, **context.kwargs)\n",
      "2023-07-15 21:45:06,330 ERROR     File \"/opt/cdstoolbox/cdscompute/cdscompute/services.py\", line 124, in __call__\n",
      "2023-07-15 21:45:06,331 ERROR       return p(*args, **kwargs)\n",
      "2023-07-15 21:45:06,331 ERROR     File \"/opt/cdstoolbox/cdscompute/cdscompute/services.py\", line 60, in __call__\n",
      "2023-07-15 21:45:06,332 ERROR       return self.proc(context, *args, **kwargs)\n",
      "2023-07-15 21:45:06,332 ERROR     File \"/home/cds/cdsservices/services/esgf_wps/__init__.py\", line 30, in execute\n",
      "2023-07-15 21:45:06,333 ERROR       request_facets, request = facets.search(context, request)\n",
      "2023-07-15 21:45:06,333 ERROR     File \"/home/cds/cdsservices/services/esgf_wps/facets.py\", line 61, in search\n",
      "2023-07-15 21:45:06,334 ERROR       raise ValueError(f'No matching data for request {tmp_request}')\n",
      "2023-07-15 21:45:06,335 ERROR   ValueError: No matching data for request {'experiment': 'ssp119', 'model': 'E3SM-1-1-ECA', 'temporal_resolution': 'mon', 'variable': 'rsds'}\n",
      "2023-07-15 21:45:06,402 INFO Welcome to the CDS\n",
      "2023-07-15 21:45:06,403 INFO Sending request to https://cds.climate.copernicus.eu/api/v2/resources/projections-cmip6\n",
      "2023-07-15 21:45:06,444 INFO Request is queued\n"
     ]
    },
    {
     "name": "stdout",
     "output_type": "stream",
     "text": [
      "Some parameters are not matching\n",
      "Test with scenario ssp1_1_9 and model ec_earth3_aerchem\n",
      "path_for_file does not exist: the data may not have been downloaded\n",
      "file_download does not exist: the data were not downloaded\n"
     ]
    },
    {
     "name": "stderr",
     "output_type": "stream",
     "text": [
      "2023-07-15 21:45:07,487 INFO Request is failed\n",
      "2023-07-15 21:45:07,489 ERROR Message: an internal error occurred processing your request\n",
      "2023-07-15 21:45:07,489 ERROR Reason:  No matching data for request {'experiment': 'ssp119', 'model': 'EC-Earth3-AerChem', 'temporal_resolution': 'mon', 'variable': 'rsds'}\n",
      "2023-07-15 21:45:07,489 ERROR   Traceback (most recent call last):\n",
      "2023-07-15 21:45:07,489 ERROR     File \"/opt/cdstoolbox/cdscompute/cdscompute/cdshandlers/services/handler.py\", line 59, in handle_request\n",
      "2023-07-15 21:45:07,490 ERROR       result = cached(context.method, proc, context, context.args, context.kwargs)\n",
      "2023-07-15 21:45:07,491 ERROR     File \"/opt/cdstoolbox/cdscompute/cdscompute/caching.py\", line 108, in cached\n",
      "2023-07-15 21:45:07,491 ERROR       result = proc(context, *context.args, **context.kwargs)\n",
      "2023-07-15 21:45:07,491 ERROR     File \"/opt/cdstoolbox/cdscompute/cdscompute/services.py\", line 124, in __call__\n",
      "2023-07-15 21:45:07,493 ERROR       return p(*args, **kwargs)\n",
      "2023-07-15 21:45:07,494 ERROR     File \"/opt/cdstoolbox/cdscompute/cdscompute/services.py\", line 60, in __call__\n",
      "2023-07-15 21:45:07,495 ERROR       return self.proc(context, *args, **kwargs)\n",
      "2023-07-15 21:45:07,495 ERROR     File \"/home/cds/cdsservices/services/esgf_wps/__init__.py\", line 30, in execute\n",
      "2023-07-15 21:45:07,496 ERROR       request_facets, request = facets.search(context, request)\n",
      "2023-07-15 21:45:07,498 ERROR     File \"/home/cds/cdsservices/services/esgf_wps/facets.py\", line 61, in search\n",
      "2023-07-15 21:45:07,499 ERROR       raise ValueError(f'No matching data for request {tmp_request}')\n",
      "2023-07-15 21:45:07,500 ERROR   ValueError: No matching data for request {'experiment': 'ssp119', 'model': 'EC-Earth3-AerChem', 'temporal_resolution': 'mon', 'variable': 'rsds'}\n",
      "2023-07-15 21:45:07,541 INFO Welcome to the CDS\n",
      "2023-07-15 21:45:07,541 INFO Sending request to https://cds.climate.copernicus.eu/api/v2/resources/projections-cmip6\n",
      "2023-07-15 21:45:07,590 INFO Request is queued\n"
     ]
    },
    {
     "name": "stdout",
     "output_type": "stream",
     "text": [
      "Some parameters are not matching\n",
      "Test with scenario ssp1_1_9 and model ec_earth3_veg\n",
      "path_for_file does not exist: the data may not have been downloaded\n",
      "file_download does not exist: the data were not downloaded\n"
     ]
    },
    {
     "name": "stderr",
     "output_type": "stream",
     "text": [
      "2023-07-15 21:45:08,640 INFO Request is failed\n",
      "2023-07-15 21:45:08,641 ERROR Message: an internal error occurred processing your request\n",
      "2023-07-15 21:45:08,642 ERROR Reason:  500 Server Error: INTERNAL SERVER ERROR for url: http://compute.mips.copernicus-climate.eu/wps?service=WPS&request=DescribeProcess&version=1.0.0&identifier=all\n",
      "2023-07-15 21:45:08,642 ERROR   Traceback (most recent call last):\n",
      "2023-07-15 21:45:08,644 ERROR     File \"/opt/cdstoolbox/cdscompute/cdscompute/cdshandlers/services/handler.py\", line 59, in handle_request\n",
      "2023-07-15 21:45:08,645 ERROR       result = cached(context.method, proc, context, context.args, context.kwargs)\n",
      "2023-07-15 21:45:08,646 ERROR     File \"/opt/cdstoolbox/cdscompute/cdscompute/caching.py\", line 108, in cached\n",
      "2023-07-15 21:45:08,647 ERROR       result = proc(context, *context.args, **context.kwargs)\n",
      "2023-07-15 21:45:08,647 ERROR     File \"/opt/cdstoolbox/cdscompute/cdscompute/services.py\", line 124, in __call__\n",
      "2023-07-15 21:45:08,648 ERROR       return p(*args, **kwargs)\n",
      "2023-07-15 21:45:08,649 ERROR     File \"/opt/cdstoolbox/cdscompute/cdscompute/services.py\", line 60, in __call__\n",
      "2023-07-15 21:45:08,649 ERROR       return self.proc(context, *args, **kwargs)\n",
      "2023-07-15 21:45:08,650 ERROR     File \"/home/cds/cdsservices/services/esgf_wps/__init__.py\", line 41, in execute\n",
      "2023-07-15 21:45:08,650 ERROR       result = requests.process(context, request_facets, request, **process_kwargs)\n",
      "2023-07-15 21:45:08,652 ERROR     File \"/home/cds/cdsservices/services/esgf_wps/requests.py\", line 55, in process\n",
      "2023-07-15 21:45:08,653 ERROR       response = workflow.orchestrate()\n",
      "2023-07-15 21:45:08,653 ERROR     File \"/usr/local/lib/python3.6/site-packages/rooki/operators.py\", line 40, in orchestrate\n",
      "2023-07-15 21:45:08,654 ERROR       reinit()\n",
      "2023-07-15 21:45:08,655 ERROR     File \"/usr/local/lib/python3.6/site-packages/rooki/operators.py\", line 13, in reinit\n",
      "2023-07-15 21:45:08,655 ERROR       rooki = Rooki()\n",
      "2023-07-15 21:45:08,656 ERROR     File \"/usr/local/lib/python3.6/site-packages/rooki/client.py\", line 49, in __init__\n",
      "2023-07-15 21:45:08,656 ERROR       lineage=lineage,\n",
      "2023-07-15 21:45:08,657 ERROR     File \"/usr/local/lib/python3.6/site-packages/birdy/client/base.py\", line 155, in __init__\n",
      "2023-07-15 21:45:08,657 ERROR       self._processes = self._get_process_description(processes, xml=desc_xml)\n",
      "2023-07-15 21:45:08,658 ERROR     File \"/usr/local/lib/python3.6/site-packages/birdy/client/base.py\", line 201, in _get_process_description\n",
      "2023-07-15 21:45:08,658 ERROR       ps = self._wps.describeprocess(\"all\", xml=xml)\n",
      "2023-07-15 21:45:08,658 ERROR     File \"/usr/local/lib/python3.6/site-packages/owslib/wps.py\", line 303, in describeprocess\n",
      "2023-07-15 21:45:08,659 ERROR       self.url, identifier, headers=self.headers)\n",
      "2023-07-15 21:45:08,659 ERROR     File \"/usr/local/lib/python3.6/site-packages/owslib/wps.py\", line 582, in readFromUrl\n",
      "2023-07-15 21:45:08,660 ERROR       headers=headers, verify=verify, cert=cert)\n",
      "2023-07-15 21:45:08,661 ERROR     File \"/usr/local/lib/python3.6/site-packages/owslib/wps.py\", line 509, in _readFromUrl\n",
      "2023-07-15 21:45:08,661 ERROR       headers=headers, verify=self.auth.verify, cert=self.auth.cert, timeout=self.timeout)\n",
      "2023-07-15 21:45:08,662 ERROR     File \"/usr/local/lib/python3.6/site-packages/owslib/util.py\", line 209, in openURL\n",
      "2023-07-15 21:45:08,662 ERROR       req.raise_for_status()\n",
      "2023-07-15 21:45:08,662 ERROR     File \"/usr/local/lib/python3.6/site-packages/requests/models.py\", line 960, in raise_for_status\n",
      "2023-07-15 21:45:08,664 ERROR       raise HTTPError(http_error_msg, response=self)\n",
      "2023-07-15 21:45:08,664 ERROR   requests.exceptions.HTTPError: 500 Server Error: INTERNAL SERVER ERROR for url: http://compute.mips.copernicus-climate.eu/wps?service=WPS&request=DescribeProcess&version=1.0.0&identifier=all\n",
      "2023-07-15 21:45:08,706 INFO Welcome to the CDS\n",
      "2023-07-15 21:45:08,706 INFO Sending request to https://cds.climate.copernicus.eu/api/v2/resources/projections-cmip6\n",
      "2023-07-15 21:45:08,787 INFO Request is queued\n"
     ]
    },
    {
     "name": "stdout",
     "output_type": "stream",
     "text": [
      "Some parameters are not matching\n",
      "Test with scenario ssp1_1_9 and model fgoals_f3_l\n",
      "path_for_file does not exist: the data may not have been downloaded\n",
      "file_download does not exist: the data were not downloaded\n"
     ]
    },
    {
     "name": "stderr",
     "output_type": "stream",
     "text": [
      "2023-07-15 21:45:09,826 INFO Request is failed\n",
      "2023-07-15 21:45:09,827 ERROR Message: an internal error occurred processing your request\n",
      "2023-07-15 21:45:09,828 ERROR Reason:  No matching data for request {'experiment': 'ssp119', 'model': 'FGOALS-f3-L', 'temporal_resolution': 'mon', 'variable': 'rsds'}\n",
      "2023-07-15 21:45:09,828 ERROR   Traceback (most recent call last):\n",
      "2023-07-15 21:45:09,829 ERROR     File \"/opt/cdstoolbox/cdscompute/cdscompute/cdshandlers/services/handler.py\", line 59, in handle_request\n",
      "2023-07-15 21:45:09,830 ERROR       result = cached(context.method, proc, context, context.args, context.kwargs)\n",
      "2023-07-15 21:45:09,831 ERROR     File \"/opt/cdstoolbox/cdscompute/cdscompute/caching.py\", line 108, in cached\n",
      "2023-07-15 21:45:09,831 ERROR       result = proc(context, *context.args, **context.kwargs)\n",
      "2023-07-15 21:45:09,831 ERROR     File \"/opt/cdstoolbox/cdscompute/cdscompute/services.py\", line 124, in __call__\n",
      "2023-07-15 21:45:09,832 ERROR       return p(*args, **kwargs)\n",
      "2023-07-15 21:45:09,832 ERROR     File \"/opt/cdstoolbox/cdscompute/cdscompute/services.py\", line 60, in __call__\n",
      "2023-07-15 21:45:09,833 ERROR       return self.proc(context, *args, **kwargs)\n",
      "2023-07-15 21:45:09,834 ERROR     File \"/home/cds/cdsservices/services/esgf_wps/__init__.py\", line 30, in execute\n",
      "2023-07-15 21:45:09,835 ERROR       request_facets, request = facets.search(context, request)\n",
      "2023-07-15 21:45:09,836 ERROR     File \"/home/cds/cdsservices/services/esgf_wps/facets.py\", line 61, in search\n",
      "2023-07-15 21:45:09,837 ERROR       raise ValueError(f'No matching data for request {tmp_request}')\n",
      "2023-07-15 21:45:09,838 ERROR   ValueError: No matching data for request {'experiment': 'ssp119', 'model': 'FGOALS-f3-L', 'temporal_resolution': 'mon', 'variable': 'rsds'}\n",
      "2023-07-15 21:45:09,875 INFO Welcome to the CDS\n",
      "2023-07-15 21:45:09,876 INFO Sending request to https://cds.climate.copernicus.eu/api/v2/resources/projections-cmip6\n",
      "2023-07-15 21:45:09,934 INFO Request is queued\n"
     ]
    },
    {
     "name": "stdout",
     "output_type": "stream",
     "text": [
      "Some parameters are not matching\n",
      "Test with scenario ssp1_1_9 and model fio_esm_2_0\n",
      "path_for_file does not exist: the data may not have been downloaded\n",
      "file_download does not exist: the data were not downloaded\n"
     ]
    },
    {
     "name": "stderr",
     "output_type": "stream",
     "text": [
      "2023-07-15 21:45:10,980 INFO Request is failed\n",
      "2023-07-15 21:45:10,982 ERROR Message: an internal error occurred processing your request\n",
      "2023-07-15 21:45:10,983 ERROR Reason:  No matching data for request {'experiment': 'ssp119', 'model': 'FIO-ESM-2-0', 'temporal_resolution': 'mon', 'variable': 'rsds'}\n",
      "2023-07-15 21:45:10,983 ERROR   Traceback (most recent call last):\n",
      "2023-07-15 21:45:10,984 ERROR     File \"/opt/cdstoolbox/cdscompute/cdscompute/cdshandlers/services/handler.py\", line 59, in handle_request\n",
      "2023-07-15 21:45:10,985 ERROR       result = cached(context.method, proc, context, context.args, context.kwargs)\n",
      "2023-07-15 21:45:10,985 ERROR     File \"/opt/cdstoolbox/cdscompute/cdscompute/caching.py\", line 108, in cached\n",
      "2023-07-15 21:45:10,986 ERROR       result = proc(context, *context.args, **context.kwargs)\n",
      "2023-07-15 21:45:10,986 ERROR     File \"/opt/cdstoolbox/cdscompute/cdscompute/services.py\", line 124, in __call__\n",
      "2023-07-15 21:45:10,987 ERROR       return p(*args, **kwargs)\n",
      "2023-07-15 21:45:10,989 ERROR     File \"/opt/cdstoolbox/cdscompute/cdscompute/services.py\", line 60, in __call__\n",
      "2023-07-15 21:45:10,991 ERROR       return self.proc(context, *args, **kwargs)\n",
      "2023-07-15 21:45:10,991 ERROR     File \"/home/cds/cdsservices/services/esgf_wps/__init__.py\", line 30, in execute\n",
      "2023-07-15 21:45:10,992 ERROR       request_facets, request = facets.search(context, request)\n",
      "2023-07-15 21:45:10,992 ERROR     File \"/home/cds/cdsservices/services/esgf_wps/facets.py\", line 61, in search\n",
      "2023-07-15 21:45:10,992 ERROR       raise ValueError(f'No matching data for request {tmp_request}')\n",
      "2023-07-15 21:45:10,994 ERROR   ValueError: No matching data for request {'experiment': 'ssp119', 'model': 'FIO-ESM-2-0', 'temporal_resolution': 'mon', 'variable': 'rsds'}\n",
      "2023-07-15 21:45:11,039 INFO Welcome to the CDS\n",
      "2023-07-15 21:45:11,040 INFO Sending request to https://cds.climate.copernicus.eu/api/v2/resources/projections-cmip6\n",
      "2023-07-15 21:45:11,127 INFO Request is queued\n"
     ]
    },
    {
     "name": "stdout",
     "output_type": "stream",
     "text": [
      "Some parameters are not matching\n",
      "Test with scenario ssp1_1_9 and model giss_e2_1_g\n",
      "path_for_file does not exist: the data may not have been downloaded\n",
      "file_download does not exist: the data were not downloaded\n"
     ]
    },
    {
     "name": "stderr",
     "output_type": "stream",
     "text": [
      "2023-07-15 21:45:12,167 INFO Request is failed\n",
      "2023-07-15 21:45:12,168 ERROR Message: an internal error occurred processing your request\n",
      "2023-07-15 21:45:12,168 ERROR Reason:  execution failed\n",
      "2023-07-15 21:45:12,169 ERROR   Traceback (most recent call last):\n",
      "2023-07-15 21:45:12,169 ERROR     File \"/usr/local/lib/python3.6/site-packages/birdy/client/base.py\", line 386, in _execute\n",
      "2023-07-15 21:45:12,171 ERROR       lineage=self._lineage,\n",
      "2023-07-15 21:45:12,171 ERROR     File \"/usr/local/lib/python3.6/site-packages/owslib/wps.py\", line 359, in execute\n",
      "2023-07-15 21:45:12,171 ERROR       response = execution.submitRequest(request)\n",
      "2023-07-15 21:45:12,173 ERROR     File \"/usr/local/lib/python3.6/site-packages/owslib/wps.py\", line 912, in submitRequest\n",
      "2023-07-15 21:45:12,173 ERROR       self.url, request, method='Post', headers=self.headers)\n",
      "2023-07-15 21:45:12,174 ERROR     File \"/usr/local/lib/python3.6/site-packages/owslib/wps.py\", line 603, in readFromUrl\n",
      "2023-07-15 21:45:12,175 ERROR       headers=headers, verify=verify, cert=cert)\n",
      "2023-07-15 21:45:12,175 ERROR     File \"/usr/local/lib/python3.6/site-packages/owslib/wps.py\", line 515, in _readFromUrl\n",
      "2023-07-15 21:45:12,176 ERROR       headers=headers, verify=self.auth.verify, cert=self.auth.cert, timeout=timeout)\n",
      "2023-07-15 21:45:12,176 ERROR     File \"/usr/local/lib/python3.6/site-packages/owslib/util.py\", line 209, in openURL\n",
      "2023-07-15 21:45:12,177 ERROR       req.raise_for_status()\n",
      "2023-07-15 21:45:12,179 ERROR     File \"/usr/local/lib/python3.6/site-packages/requests/models.py\", line 960, in raise_for_status\n",
      "2023-07-15 21:45:12,180 ERROR       raise HTTPError(http_error_msg, response=self)\n",
      "2023-07-15 21:45:12,181 ERROR   requests.exceptions.HTTPError: 500 Server Error: INTERNAL SERVER ERROR for url: http://compute.mips.copernicus-climate.eu/wps\n",
      "2023-07-15 21:45:12,218 INFO Welcome to the CDS\n",
      "2023-07-15 21:45:12,219 INFO Sending request to https://cds.climate.copernicus.eu/api/v2/resources/projections-cmip6\n",
      "2023-07-15 21:45:12,290 INFO Request is queued\n"
     ]
    },
    {
     "name": "stdout",
     "output_type": "stream",
     "text": [
      "Some parameters are not matching\n",
      "Test with scenario ssp1_1_9 and model hadgem3_gc31_ll\n",
      "path_for_file does not exist: the data may not have been downloaded\n",
      "file_download does not exist: the data were not downloaded\n"
     ]
    },
    {
     "name": "stderr",
     "output_type": "stream",
     "text": [
      "2023-07-15 21:45:13,335 INFO Request is failed\n",
      "2023-07-15 21:45:13,335 ERROR Message: an internal error occurred processing your request\n",
      "2023-07-15 21:45:13,336 ERROR Reason:  No matching data for request {'experiment': 'ssp119', 'model': 'HadGEM3-GC31-LL', 'temporal_resolution': 'mon', 'variable': 'rsds'}\n",
      "2023-07-15 21:45:13,337 ERROR   Traceback (most recent call last):\n",
      "2023-07-15 21:45:13,338 ERROR     File \"/opt/cdstoolbox/cdscompute/cdscompute/cdshandlers/services/handler.py\", line 59, in handle_request\n",
      "2023-07-15 21:45:13,339 ERROR       result = cached(context.method, proc, context, context.args, context.kwargs)\n",
      "2023-07-15 21:45:13,339 ERROR     File \"/opt/cdstoolbox/cdscompute/cdscompute/caching.py\", line 108, in cached\n",
      "2023-07-15 21:45:13,340 ERROR       result = proc(context, *context.args, **context.kwargs)\n",
      "2023-07-15 21:45:13,341 ERROR     File \"/opt/cdstoolbox/cdscompute/cdscompute/services.py\", line 124, in __call__\n",
      "2023-07-15 21:45:13,342 ERROR       return p(*args, **kwargs)\n",
      "2023-07-15 21:45:13,342 ERROR     File \"/opt/cdstoolbox/cdscompute/cdscompute/services.py\", line 60, in __call__\n",
      "2023-07-15 21:45:13,343 ERROR       return self.proc(context, *args, **kwargs)\n",
      "2023-07-15 21:45:13,344 ERROR     File \"/home/cds/cdsservices/services/esgf_wps/__init__.py\", line 30, in execute\n",
      "2023-07-15 21:45:13,345 ERROR       request_facets, request = facets.search(context, request)\n",
      "2023-07-15 21:45:13,347 ERROR     File \"/home/cds/cdsservices/services/esgf_wps/facets.py\", line 61, in search\n",
      "2023-07-15 21:45:13,348 ERROR       raise ValueError(f'No matching data for request {tmp_request}')\n",
      "2023-07-15 21:45:13,349 ERROR   ValueError: No matching data for request {'experiment': 'ssp119', 'model': 'HadGEM3-GC31-LL', 'temporal_resolution': 'mon', 'variable': 'rsds'}\n",
      "2023-07-15 21:45:13,395 INFO Welcome to the CDS\n",
      "2023-07-15 21:45:13,397 INFO Sending request to https://cds.climate.copernicus.eu/api/v2/resources/projections-cmip6\n",
      "2023-07-15 21:45:13,451 INFO Request is queued\n"
     ]
    },
    {
     "name": "stdout",
     "output_type": "stream",
     "text": [
      "Some parameters are not matching\n",
      "Test with scenario ssp1_1_9 and model iitm_esm\n",
      "path_for_file does not exist: the data may not have been downloaded\n",
      "file_download does not exist: the data were not downloaded\n"
     ]
    },
    {
     "name": "stderr",
     "output_type": "stream",
     "text": [
      "2023-07-15 21:45:14,492 INFO Request is failed\n",
      "2023-07-15 21:45:14,494 ERROR Message: an internal error occurred processing your request\n",
      "2023-07-15 21:45:14,495 ERROR Reason:  No matching data for request {'experiment': 'ssp119', 'model': 'IITM-ESM', 'temporal_resolution': 'mon', 'variable': 'rsds'}\n",
      "2023-07-15 21:45:14,495 ERROR   Traceback (most recent call last):\n",
      "2023-07-15 21:45:14,496 ERROR     File \"/opt/cdstoolbox/cdscompute/cdscompute/cdshandlers/services/handler.py\", line 59, in handle_request\n",
      "2023-07-15 21:45:14,496 ERROR       result = cached(context.method, proc, context, context.args, context.kwargs)\n",
      "2023-07-15 21:45:14,497 ERROR     File \"/opt/cdstoolbox/cdscompute/cdscompute/caching.py\", line 108, in cached\n",
      "2023-07-15 21:45:14,498 ERROR       result = proc(context, *context.args, **context.kwargs)\n",
      "2023-07-15 21:45:14,498 ERROR     File \"/opt/cdstoolbox/cdscompute/cdscompute/services.py\", line 124, in __call__\n",
      "2023-07-15 21:45:14,499 ERROR       return p(*args, **kwargs)\n",
      "2023-07-15 21:45:14,499 ERROR     File \"/opt/cdstoolbox/cdscompute/cdscompute/services.py\", line 60, in __call__\n",
      "2023-07-15 21:45:14,500 ERROR       return self.proc(context, *args, **kwargs)\n",
      "2023-07-15 21:45:14,500 ERROR     File \"/home/cds/cdsservices/services/esgf_wps/__init__.py\", line 30, in execute\n",
      "2023-07-15 21:45:14,501 ERROR       request_facets, request = facets.search(context, request)\n",
      "2023-07-15 21:45:14,503 ERROR     File \"/home/cds/cdsservices/services/esgf_wps/facets.py\", line 61, in search\n",
      "2023-07-15 21:45:14,505 ERROR       raise ValueError(f'No matching data for request {tmp_request}')\n",
      "2023-07-15 21:45:14,506 ERROR   ValueError: No matching data for request {'experiment': 'ssp119', 'model': 'IITM-ESM', 'temporal_resolution': 'mon', 'variable': 'rsds'}\n",
      "2023-07-15 21:45:14,555 INFO Welcome to the CDS\n",
      "2023-07-15 21:45:14,556 INFO Sending request to https://cds.climate.copernicus.eu/api/v2/resources/projections-cmip6\n",
      "2023-07-15 21:45:14,597 INFO Request is queued\n"
     ]
    },
    {
     "name": "stdout",
     "output_type": "stream",
     "text": [
      "Some parameters are not matching\n",
      "Test with scenario ssp1_1_9 and model inm_cm5_0\n",
      "path_for_file does not exist: the data may not have been downloaded\n",
      "file_download does not exist: the data were not downloaded\n"
     ]
    },
    {
     "name": "stderr",
     "output_type": "stream",
     "text": [
      "2023-07-15 21:45:15,638 INFO Request is failed\n",
      "2023-07-15 21:45:15,639 ERROR Message: an internal error occurred processing your request\n",
      "2023-07-15 21:45:15,640 ERROR Reason:  No matching data for request {'experiment': 'ssp119', 'model': 'INM-CM5-0', 'temporal_resolution': 'mon', 'variable': 'rsds'}\n",
      "2023-07-15 21:45:15,641 ERROR   Traceback (most recent call last):\n",
      "2023-07-15 21:45:15,642 ERROR     File \"/opt/cdstoolbox/cdscompute/cdscompute/cdshandlers/services/handler.py\", line 59, in handle_request\n",
      "2023-07-15 21:45:15,642 ERROR       result = cached(context.method, proc, context, context.args, context.kwargs)\n",
      "2023-07-15 21:45:15,643 ERROR     File \"/opt/cdstoolbox/cdscompute/cdscompute/caching.py\", line 108, in cached\n",
      "2023-07-15 21:45:15,644 ERROR       result = proc(context, *context.args, **context.kwargs)\n",
      "2023-07-15 21:45:15,644 ERROR     File \"/opt/cdstoolbox/cdscompute/cdscompute/services.py\", line 124, in __call__\n",
      "2023-07-15 21:45:15,645 ERROR       return p(*args, **kwargs)\n",
      "2023-07-15 21:45:15,645 ERROR     File \"/opt/cdstoolbox/cdscompute/cdscompute/services.py\", line 60, in __call__\n",
      "2023-07-15 21:45:15,645 ERROR       return self.proc(context, *args, **kwargs)\n",
      "2023-07-15 21:45:15,647 ERROR     File \"/home/cds/cdsservices/services/esgf_wps/__init__.py\", line 30, in execute\n",
      "2023-07-15 21:45:15,648 ERROR       request_facets, request = facets.search(context, request)\n",
      "2023-07-15 21:45:15,650 ERROR     File \"/home/cds/cdsservices/services/esgf_wps/facets.py\", line 61, in search\n",
      "2023-07-15 21:45:15,651 ERROR       raise ValueError(f'No matching data for request {tmp_request}')\n",
      "2023-07-15 21:45:15,651 ERROR   ValueError: No matching data for request {'experiment': 'ssp119', 'model': 'INM-CM5-0', 'temporal_resolution': 'mon', 'variable': 'rsds'}\n",
      "2023-07-15 21:45:15,694 INFO Welcome to the CDS\n",
      "2023-07-15 21:45:15,696 INFO Sending request to https://cds.climate.copernicus.eu/api/v2/resources/projections-cmip6\n",
      "2023-07-15 21:45:15,737 INFO Request is queued\n"
     ]
    },
    {
     "name": "stdout",
     "output_type": "stream",
     "text": [
      "Some parameters are not matching\n",
      "Test with scenario ssp1_1_9 and model ipsl_cm6a_lr\n",
      "path_for_file does not exist: the data may not have been downloaded\n",
      "file_download does not exist: the data were not downloaded\n"
     ]
    },
    {
     "name": "stderr",
     "output_type": "stream",
     "text": [
      "2023-07-15 21:45:16,808 INFO Request is failed\n",
      "2023-07-15 21:45:16,809 ERROR Message: an internal error occurred processing your request\n",
      "2023-07-15 21:45:16,810 ERROR Reason:  execution failed\n",
      "2023-07-15 21:45:16,811 ERROR   Traceback (most recent call last):\n",
      "2023-07-15 21:45:16,812 ERROR     File \"/usr/local/lib/python3.6/site-packages/birdy/client/base.py\", line 386, in _execute\n",
      "2023-07-15 21:45:16,812 ERROR       lineage=self._lineage,\n",
      "2023-07-15 21:45:16,813 ERROR     File \"/usr/local/lib/python3.6/site-packages/owslib/wps.py\", line 359, in execute\n",
      "2023-07-15 21:45:16,813 ERROR       response = execution.submitRequest(request)\n",
      "2023-07-15 21:45:16,814 ERROR     File \"/usr/local/lib/python3.6/site-packages/owslib/wps.py\", line 912, in submitRequest\n",
      "2023-07-15 21:45:16,815 ERROR       self.url, request, method='Post', headers=self.headers)\n",
      "2023-07-15 21:45:16,815 ERROR     File \"/usr/local/lib/python3.6/site-packages/owslib/wps.py\", line 603, in readFromUrl\n",
      "2023-07-15 21:45:16,817 ERROR       headers=headers, verify=verify, cert=cert)\n",
      "2023-07-15 21:45:16,817 ERROR     File \"/usr/local/lib/python3.6/site-packages/owslib/wps.py\", line 515, in _readFromUrl\n",
      "2023-07-15 21:45:16,817 ERROR       headers=headers, verify=self.auth.verify, cert=self.auth.cert, timeout=timeout)\n",
      "2023-07-15 21:45:16,818 ERROR     File \"/usr/local/lib/python3.6/site-packages/owslib/util.py\", line 209, in openURL\n",
      "2023-07-15 21:45:16,819 ERROR       req.raise_for_status()\n",
      "2023-07-15 21:45:16,820 ERROR     File \"/usr/local/lib/python3.6/site-packages/requests/models.py\", line 960, in raise_for_status\n",
      "2023-07-15 21:45:16,821 ERROR       raise HTTPError(http_error_msg, response=self)\n",
      "2023-07-15 21:45:16,822 ERROR   requests.exceptions.HTTPError: 500 Server Error: INTERNAL SERVER ERROR for url: http://compute.mips.copernicus-climate.eu/wps\n",
      "2023-07-15 21:45:16,858 INFO Welcome to the CDS\n",
      "2023-07-15 21:45:16,859 INFO Sending request to https://cds.climate.copernicus.eu/api/v2/resources/projections-cmip6\n",
      "2023-07-15 21:45:16,932 INFO Request is queued\n"
     ]
    },
    {
     "name": "stdout",
     "output_type": "stream",
     "text": [
      "Some parameters are not matching\n",
      "Test with scenario ssp1_1_9 and model kiost_esm\n",
      "path_for_file does not exist: the data may not have been downloaded\n",
      "file_download does not exist: the data were not downloaded\n"
     ]
    },
    {
     "name": "stderr",
     "output_type": "stream",
     "text": [
      "2023-07-15 21:45:17,976 INFO Request is failed\n",
      "2023-07-15 21:45:17,977 ERROR Message: an internal error occurred processing your request\n",
      "2023-07-15 21:45:17,978 ERROR Reason:  No matching data for request {'experiment': 'ssp119', 'model': 'KIOST-ESM', 'temporal_resolution': 'mon', 'variable': 'rsds'}\n",
      "2023-07-15 21:45:17,979 ERROR   Traceback (most recent call last):\n",
      "2023-07-15 21:45:17,980 ERROR     File \"/opt/cdstoolbox/cdscompute/cdscompute/cdshandlers/services/handler.py\", line 59, in handle_request\n",
      "2023-07-15 21:45:17,981 ERROR       result = cached(context.method, proc, context, context.args, context.kwargs)\n",
      "2023-07-15 21:45:17,981 ERROR     File \"/opt/cdstoolbox/cdscompute/cdscompute/caching.py\", line 108, in cached\n",
      "2023-07-15 21:45:17,982 ERROR       result = proc(context, *context.args, **context.kwargs)\n",
      "2023-07-15 21:45:17,983 ERROR     File \"/opt/cdstoolbox/cdscompute/cdscompute/services.py\", line 124, in __call__\n",
      "2023-07-15 21:45:17,983 ERROR       return p(*args, **kwargs)\n",
      "2023-07-15 21:45:17,984 ERROR     File \"/opt/cdstoolbox/cdscompute/cdscompute/services.py\", line 60, in __call__\n",
      "2023-07-15 21:45:17,984 ERROR       return self.proc(context, *args, **kwargs)\n",
      "2023-07-15 21:45:17,986 ERROR     File \"/home/cds/cdsservices/services/esgf_wps/__init__.py\", line 30, in execute\n",
      "2023-07-15 21:45:17,987 ERROR       request_facets, request = facets.search(context, request)\n",
      "2023-07-15 21:45:17,988 ERROR     File \"/home/cds/cdsservices/services/esgf_wps/facets.py\", line 61, in search\n",
      "2023-07-15 21:45:17,989 ERROR       raise ValueError(f'No matching data for request {tmp_request}')\n",
      "2023-07-15 21:45:17,990 ERROR   ValueError: No matching data for request {'experiment': 'ssp119', 'model': 'KIOST-ESM', 'temporal_resolution': 'mon', 'variable': 'rsds'}\n",
      "2023-07-15 21:45:18,026 INFO Welcome to the CDS\n",
      "2023-07-15 21:45:18,027 INFO Sending request to https://cds.climate.copernicus.eu/api/v2/resources/projections-cmip6\n",
      "2023-07-15 21:45:18,092 INFO Request is queued\n"
     ]
    },
    {
     "name": "stdout",
     "output_type": "stream",
     "text": [
      "Some parameters are not matching\n",
      "Test with scenario ssp1_1_9 and model miroc6\n",
      "path_for_file does not exist: the data may not have been downloaded\n",
      "file_download does not exist: the data were not downloaded\n"
     ]
    },
    {
     "name": "stderr",
     "output_type": "stream",
     "text": [
      "2023-07-15 21:45:19,130 INFO Request is running\n",
      "2023-07-15 21:45:31,476 INFO Request is completed\n",
      "2023-07-15 21:45:31,477 INFO Downloading https://download-0007-clone.copernicus-climate.eu/cache-compute-0007/cache/data1/adaptor.esgf_wps.retrieve-1689450328.691381-29422-16-58ba6e73-69be-4508-9b39-36cef49b2ef8.zip to download.zip (672.1K)\n",
      "2023-07-15 21:45:32,087 INFO Download rate 1.1M/s                                                                      \n"
     ]
    },
    {
     "name": "stdout",
     "output_type": "stream",
     "text": [
      "The file has been download\n",
      "\\\\COWI.net\\projects\\A245000\\A248363\\CRVA\\Datasets\\radiation\\surface_downwelling_shortwave_radiation\\Copernicus-CMIP6\\raw_data\\2015-2100\\ssp1_1_9\\miroc6\\all-Mozambique\n",
      "Path for the file is created, did not existed before\n"
     ]
    },
    {
     "name": "stderr",
     "output_type": "stream",
     "text": [
      "2023-07-15 21:45:35,175 INFO Welcome to the CDS\n",
      "2023-07-15 21:45:35,175 INFO Sending request to https://cds.climate.copernicus.eu/api/v2/resources/projections-cmip6\n",
      "2023-07-15 21:45:35,237 INFO Request is queued\n"
     ]
    },
    {
     "name": "stdout",
     "output_type": "stream",
     "text": [
      "the file named rsds_Amon_MIROC6_ssp119_r1i1p1f1_gn_20150116-21001216_v20190807.nc was moved\n",
      "\n",
      " The downloaded file is extracted\n",
      "The file has been extracted\n",
      "Test with scenario ssp1_1_9 and model miroc_es2l\n",
      "path_for_file does not exist: the data may not have been downloaded\n",
      "file_download does not exist: the data were not downloaded\n"
     ]
    },
    {
     "name": "stderr",
     "output_type": "stream",
     "text": [
      "2023-07-15 21:45:36,280 INFO Request is failed\n",
      "2023-07-15 21:45:36,280 ERROR Message: an internal error occurred processing your request\n",
      "2023-07-15 21:45:36,282 ERROR Reason:  execution failed\n",
      "2023-07-15 21:45:36,282 ERROR   Traceback (most recent call last):\n",
      "2023-07-15 21:45:36,283 ERROR     File \"/usr/local/lib/python3.6/site-packages/birdy/client/base.py\", line 386, in _execute\n",
      "2023-07-15 21:45:36,284 ERROR       lineage=self._lineage,\n",
      "2023-07-15 21:45:36,343 ERROR     File \"/usr/local/lib/python3.6/site-packages/owslib/wps.py\", line 359, in execute\n",
      "2023-07-15 21:45:36,344 ERROR       response = execution.submitRequest(request)\n",
      "2023-07-15 21:45:36,345 ERROR     File \"/usr/local/lib/python3.6/site-packages/owslib/wps.py\", line 912, in submitRequest\n",
      "2023-07-15 21:45:36,346 ERROR       self.url, request, method='Post', headers=self.headers)\n",
      "2023-07-15 21:45:36,348 ERROR     File \"/usr/local/lib/python3.6/site-packages/owslib/wps.py\", line 603, in readFromUrl\n",
      "2023-07-15 21:45:36,349 ERROR       headers=headers, verify=verify, cert=cert)\n",
      "2023-07-15 21:45:36,350 ERROR     File \"/usr/local/lib/python3.6/site-packages/owslib/wps.py\", line 515, in _readFromUrl\n",
      "2023-07-15 21:45:36,351 ERROR       headers=headers, verify=self.auth.verify, cert=self.auth.cert, timeout=timeout)\n",
      "2023-07-15 21:45:36,351 ERROR     File \"/usr/local/lib/python3.6/site-packages/owslib/util.py\", line 209, in openURL\n",
      "2023-07-15 21:45:36,352 ERROR       req.raise_for_status()\n",
      "2023-07-15 21:45:36,353 ERROR     File \"/usr/local/lib/python3.6/site-packages/requests/models.py\", line 960, in raise_for_status\n",
      "2023-07-15 21:45:36,354 ERROR       raise HTTPError(http_error_msg, response=self)\n",
      "2023-07-15 21:45:36,354 ERROR   requests.exceptions.HTTPError: 500 Server Error: INTERNAL SERVER ERROR for url: http://compute.mips.copernicus-climate.eu/wps\n",
      "2023-07-15 21:45:36,396 INFO Welcome to the CDS\n",
      "2023-07-15 21:45:36,397 INFO Sending request to https://cds.climate.copernicus.eu/api/v2/resources/projections-cmip6\n",
      "2023-07-15 21:45:36,459 INFO Request is queued\n"
     ]
    },
    {
     "name": "stdout",
     "output_type": "stream",
     "text": [
      "Some parameters are not matching\n",
      "Test with scenario ssp1_1_9 and model mpi_esm1_2_hr\n",
      "path_for_file does not exist: the data may not have been downloaded\n",
      "file_download does not exist: the data were not downloaded\n"
     ]
    },
    {
     "name": "stderr",
     "output_type": "stream",
     "text": [
      "2023-07-15 21:45:37,509 INFO Request is failed\n",
      "2023-07-15 21:45:37,510 ERROR Message: an internal error occurred processing your request\n",
      "2023-07-15 21:45:37,511 ERROR Reason:  No matching data for request {'experiment': 'ssp119', 'model': 'MPI-ESM1-2-HR', 'temporal_resolution': 'mon', 'variable': 'rsds'}\n",
      "2023-07-15 21:45:37,512 ERROR   Traceback (most recent call last):\n",
      "2023-07-15 21:45:37,512 ERROR     File \"/opt/cdstoolbox/cdscompute/cdscompute/cdshandlers/services/handler.py\", line 59, in handle_request\n",
      "2023-07-15 21:45:37,513 ERROR       result = cached(context.method, proc, context, context.args, context.kwargs)\n",
      "2023-07-15 21:45:37,514 ERROR     File \"/opt/cdstoolbox/cdscompute/cdscompute/caching.py\", line 108, in cached\n",
      "2023-07-15 21:45:37,514 ERROR       result = proc(context, *context.args, **context.kwargs)\n",
      "2023-07-15 21:45:37,515 ERROR     File \"/opt/cdstoolbox/cdscompute/cdscompute/services.py\", line 124, in __call__\n",
      "2023-07-15 21:45:37,516 ERROR       return p(*args, **kwargs)\n",
      "2023-07-15 21:45:37,518 ERROR     File \"/opt/cdstoolbox/cdscompute/cdscompute/services.py\", line 60, in __call__\n",
      "2023-07-15 21:45:37,519 ERROR       return self.proc(context, *args, **kwargs)\n",
      "2023-07-15 21:45:37,520 ERROR     File \"/home/cds/cdsservices/services/esgf_wps/__init__.py\", line 30, in execute\n",
      "2023-07-15 21:45:37,524 ERROR       request_facets, request = facets.search(context, request)\n",
      "2023-07-15 21:45:37,525 ERROR     File \"/home/cds/cdsservices/services/esgf_wps/facets.py\", line 61, in search\n",
      "2023-07-15 21:45:37,526 ERROR       raise ValueError(f'No matching data for request {tmp_request}')\n",
      "2023-07-15 21:45:37,527 ERROR   ValueError: No matching data for request {'experiment': 'ssp119', 'model': 'MPI-ESM1-2-HR', 'temporal_resolution': 'mon', 'variable': 'rsds'}\n",
      "2023-07-15 21:45:37,561 INFO Welcome to the CDS\n",
      "2023-07-15 21:45:37,562 INFO Sending request to https://cds.climate.copernicus.eu/api/v2/resources/projections-cmip6\n",
      "2023-07-15 21:45:37,715 INFO Request is queued\n"
     ]
    },
    {
     "name": "stdout",
     "output_type": "stream",
     "text": [
      "Some parameters are not matching\n",
      "Test with scenario ssp1_1_9 and model mri_esm2_0\n",
      "path_for_file does not exist: the data may not have been downloaded\n",
      "file_download does not exist: the data were not downloaded\n"
     ]
    },
    {
     "name": "stderr",
     "output_type": "stream",
     "text": [
      "2023-07-15 21:45:38,761 INFO Request is running\n",
      "2023-07-15 21:45:51,120 INFO Request is completed\n",
      "2023-07-15 21:45:51,120 INFO Downloading https://download-0013-clone.copernicus-climate.eu/cache-compute-0013/cache/data7/adaptor.esgf_wps.retrieve-1689450348.1617355-28941-12-14687fd3-ba94-435a-bd0f-d75617c66bfc.zip to download.zip (859.5K)\n",
      "2023-07-15 21:45:51,743 INFO Download rate 1.3M/s                                                                      \n"
     ]
    },
    {
     "name": "stdout",
     "output_type": "stream",
     "text": [
      "The file has been download\n",
      "\\\\COWI.net\\projects\\A245000\\A248363\\CRVA\\Datasets\\radiation\\surface_downwelling_shortwave_radiation\\Copernicus-CMIP6\\raw_data\\2015-2100\\ssp1_1_9\\mri_esm2_0\\all-Mozambique\n",
      "Path for the file is created, did not existed before\n"
     ]
    },
    {
     "name": "stderr",
     "output_type": "stream",
     "text": [
      "2023-07-15 21:45:52,528 INFO Welcome to the CDS\n",
      "2023-07-15 21:45:52,529 INFO Sending request to https://cds.climate.copernicus.eu/api/v2/resources/projections-cmip6\n",
      "2023-07-15 21:45:52,586 INFO Request is queued\n"
     ]
    },
    {
     "name": "stdout",
     "output_type": "stream",
     "text": [
      "the file named rsds_Amon_MRI-ESM2-0_ssp119_r1i1p1f1_gn_20150116-21001216_v20190222.nc was moved\n",
      "\n",
      " The downloaded file is extracted\n",
      "The file has been extracted\n",
      "Test with scenario ssp1_1_9 and model norcpm1\n",
      "path_for_file does not exist: the data may not have been downloaded\n",
      "file_download does not exist: the data were not downloaded\n"
     ]
    },
    {
     "name": "stderr",
     "output_type": "stream",
     "text": [
      "2023-07-15 21:45:53,633 INFO Request is failed\n",
      "2023-07-15 21:45:53,634 ERROR Message: an internal error occurred processing your request\n",
      "2023-07-15 21:45:53,636 ERROR Reason:  No matching data for request {'experiment': 'ssp119', 'model': 'NorCPM1', 'temporal_resolution': 'mon', 'variable': 'rsds'}\n",
      "2023-07-15 21:45:53,636 ERROR   Traceback (most recent call last):\n",
      "2023-07-15 21:45:53,638 ERROR     File \"/opt/cdstoolbox/cdscompute/cdscompute/cdshandlers/services/handler.py\", line 59, in handle_request\n",
      "2023-07-15 21:45:53,639 ERROR       result = cached(context.method, proc, context, context.args, context.kwargs)\n",
      "2023-07-15 21:45:53,640 ERROR     File \"/opt/cdstoolbox/cdscompute/cdscompute/caching.py\", line 108, in cached\n",
      "2023-07-15 21:45:53,641 ERROR       result = proc(context, *context.args, **context.kwargs)\n",
      "2023-07-15 21:45:53,641 ERROR     File \"/opt/cdstoolbox/cdscompute/cdscompute/services.py\", line 124, in __call__\n",
      "2023-07-15 21:45:53,642 ERROR       return p(*args, **kwargs)\n",
      "2023-07-15 21:45:53,644 ERROR     File \"/opt/cdstoolbox/cdscompute/cdscompute/services.py\", line 60, in __call__\n",
      "2023-07-15 21:45:53,644 ERROR       return self.proc(context, *args, **kwargs)\n",
      "2023-07-15 21:45:53,645 ERROR     File \"/home/cds/cdsservices/services/esgf_wps/__init__.py\", line 30, in execute\n",
      "2023-07-15 21:45:53,646 ERROR       request_facets, request = facets.search(context, request)\n",
      "2023-07-15 21:45:53,646 ERROR     File \"/home/cds/cdsservices/services/esgf_wps/facets.py\", line 61, in search\n",
      "2023-07-15 21:45:53,647 ERROR       raise ValueError(f'No matching data for request {tmp_request}')\n",
      "2023-07-15 21:45:53,648 ERROR   ValueError: No matching data for request {'experiment': 'ssp119', 'model': 'NorCPM1', 'temporal_resolution': 'mon', 'variable': 'rsds'}\n",
      "2023-07-15 21:45:53,684 INFO Welcome to the CDS\n",
      "2023-07-15 21:45:53,684 INFO Sending request to https://cds.climate.copernicus.eu/api/v2/resources/projections-cmip6\n",
      "2023-07-15 21:45:53,729 INFO Request is queued\n"
     ]
    },
    {
     "name": "stdout",
     "output_type": "stream",
     "text": [
      "Some parameters are not matching\n",
      "Test with scenario ssp1_1_9 and model noresm2_mm\n",
      "path_for_file does not exist: the data may not have been downloaded\n",
      "file_download does not exist: the data were not downloaded\n"
     ]
    },
    {
     "name": "stderr",
     "output_type": "stream",
     "text": [
      "2023-07-15 21:45:54,769 INFO Request is failed\n",
      "2023-07-15 21:45:54,770 ERROR Message: an internal error occurred processing your request\n",
      "2023-07-15 21:45:54,770 ERROR Reason:  No matching data for request {'experiment': 'ssp119', 'model': 'NorESM2-MM', 'temporal_resolution': 'mon', 'variable': 'rsds'}\n",
      "2023-07-15 21:45:54,771 ERROR   Traceback (most recent call last):\n",
      "2023-07-15 21:45:54,772 ERROR     File \"/opt/cdstoolbox/cdscompute/cdscompute/cdshandlers/services/handler.py\", line 59, in handle_request\n",
      "2023-07-15 21:45:54,772 ERROR       result = cached(context.method, proc, context, context.args, context.kwargs)\n",
      "2023-07-15 21:45:54,773 ERROR     File \"/opt/cdstoolbox/cdscompute/cdscompute/caching.py\", line 108, in cached\n",
      "2023-07-15 21:45:54,773 ERROR       result = proc(context, *context.args, **context.kwargs)\n",
      "2023-07-15 21:45:54,774 ERROR     File \"/opt/cdstoolbox/cdscompute/cdscompute/services.py\", line 124, in __call__\n",
      "2023-07-15 21:45:54,774 ERROR       return p(*args, **kwargs)\n",
      "2023-07-15 21:45:54,775 ERROR     File \"/opt/cdstoolbox/cdscompute/cdscompute/services.py\", line 60, in __call__\n",
      "2023-07-15 21:45:54,776 ERROR       return self.proc(context, *args, **kwargs)\n",
      "2023-07-15 21:45:54,776 ERROR     File \"/home/cds/cdsservices/services/esgf_wps/__init__.py\", line 30, in execute\n",
      "2023-07-15 21:45:54,777 ERROR       request_facets, request = facets.search(context, request)\n",
      "2023-07-15 21:45:54,778 ERROR     File \"/home/cds/cdsservices/services/esgf_wps/facets.py\", line 61, in search\n",
      "2023-07-15 21:45:54,778 ERROR       raise ValueError(f'No matching data for request {tmp_request}')\n",
      "2023-07-15 21:45:54,779 ERROR   ValueError: No matching data for request {'experiment': 'ssp119', 'model': 'NorESM2-MM', 'temporal_resolution': 'mon', 'variable': 'rsds'}\n",
      "2023-07-15 21:45:54,828 INFO Welcome to the CDS\n",
      "2023-07-15 21:45:54,828 INFO Sending request to https://cds.climate.copernicus.eu/api/v2/resources/projections-cmip6\n",
      "2023-07-15 21:45:54,901 INFO Request is queued\n"
     ]
    },
    {
     "name": "stdout",
     "output_type": "stream",
     "text": [
      "Some parameters are not matching\n",
      "Test with scenario ssp1_1_9 and model taiesm1\n",
      "path_for_file does not exist: the data may not have been downloaded\n",
      "file_download does not exist: the data were not downloaded\n"
     ]
    },
    {
     "name": "stderr",
     "output_type": "stream",
     "text": [
      "2023-07-15 21:45:56,310 INFO Request is failed\n",
      "2023-07-15 21:45:56,311 ERROR Message: an internal error occurred processing your request\n",
      "2023-07-15 21:45:56,312 ERROR Reason:  No matching data for request {'experiment': 'ssp119', 'model': 'TaiESM1', 'temporal_resolution': 'mon', 'variable': 'rsds'}\n",
      "2023-07-15 21:45:56,312 ERROR   Traceback (most recent call last):\n",
      "2023-07-15 21:45:56,312 ERROR     File \"/opt/cdstoolbox/cdscompute/cdscompute/cdshandlers/services/handler.py\", line 59, in handle_request\n",
      "2023-07-15 21:45:56,313 ERROR       result = cached(context.method, proc, context, context.args, context.kwargs)\n",
      "2023-07-15 21:45:56,314 ERROR     File \"/opt/cdstoolbox/cdscompute/cdscompute/caching.py\", line 108, in cached\n",
      "2023-07-15 21:45:56,315 ERROR       result = proc(context, *context.args, **context.kwargs)\n",
      "2023-07-15 21:45:56,315 ERROR     File \"/opt/cdstoolbox/cdscompute/cdscompute/services.py\", line 124, in __call__\n",
      "2023-07-15 21:45:56,316 ERROR       return p(*args, **kwargs)\n",
      "2023-07-15 21:45:56,316 ERROR     File \"/opt/cdstoolbox/cdscompute/cdscompute/services.py\", line 60, in __call__\n",
      "2023-07-15 21:45:56,316 ERROR       return self.proc(context, *args, **kwargs)\n",
      "2023-07-15 21:45:56,317 ERROR     File \"/home/cds/cdsservices/services/esgf_wps/__init__.py\", line 30, in execute\n",
      "2023-07-15 21:45:56,317 ERROR       request_facets, request = facets.search(context, request)\n",
      "2023-07-15 21:45:56,319 ERROR     File \"/home/cds/cdsservices/services/esgf_wps/facets.py\", line 61, in search\n",
      "2023-07-15 21:45:56,320 ERROR       raise ValueError(f'No matching data for request {tmp_request}')\n",
      "2023-07-15 21:45:56,320 ERROR   ValueError: No matching data for request {'experiment': 'ssp119', 'model': 'TaiESM1', 'temporal_resolution': 'mon', 'variable': 'rsds'}\n",
      "2023-07-15 21:45:56,358 INFO Welcome to the CDS\n",
      "2023-07-15 21:45:56,359 INFO Sending request to https://cds.climate.copernicus.eu/api/v2/resources/projections-cmip6\n",
      "2023-07-15 21:45:56,466 INFO Request is queued\n"
     ]
    },
    {
     "name": "stdout",
     "output_type": "stream",
     "text": [
      "Some parameters are not matching\n",
      "Test with scenario ssp1_1_9 and model access_esm1_5\n",
      "path_for_file does not exist: the data may not have been downloaded\n",
      "file_download does not exist: the data were not downloaded\n"
     ]
    },
    {
     "name": "stderr",
     "output_type": "stream",
     "text": [
      "2023-07-15 21:45:57,506 INFO Request is failed\n",
      "2023-07-15 21:45:57,507 ERROR Message: an internal error occurred processing your request\n",
      "2023-07-15 21:45:57,508 ERROR Reason:  No matching data for request {'experiment': 'ssp119', 'model': 'ACCESS-ESM1-5', 'temporal_resolution': 'mon', 'variable': 'rsds'}\n",
      "2023-07-15 21:45:57,509 ERROR   Traceback (most recent call last):\n",
      "2023-07-15 21:45:57,510 ERROR     File \"/opt/cdstoolbox/cdscompute/cdscompute/cdshandlers/services/handler.py\", line 59, in handle_request\n",
      "2023-07-15 21:45:57,510 ERROR       result = cached(context.method, proc, context, context.args, context.kwargs)\n",
      "2023-07-15 21:45:57,511 ERROR     File \"/opt/cdstoolbox/cdscompute/cdscompute/caching.py\", line 108, in cached\n",
      "2023-07-15 21:45:57,512 ERROR       result = proc(context, *context.args, **context.kwargs)\n",
      "2023-07-15 21:45:57,512 ERROR     File \"/opt/cdstoolbox/cdscompute/cdscompute/services.py\", line 124, in __call__\n",
      "2023-07-15 21:45:57,513 ERROR       return p(*args, **kwargs)\n",
      "2023-07-15 21:45:57,513 ERROR     File \"/opt/cdstoolbox/cdscompute/cdscompute/services.py\", line 60, in __call__\n",
      "2023-07-15 21:45:57,514 ERROR       return self.proc(context, *args, **kwargs)\n",
      "2023-07-15 21:45:57,514 ERROR     File \"/home/cds/cdsservices/services/esgf_wps/__init__.py\", line 30, in execute\n",
      "2023-07-15 21:45:57,515 ERROR       request_facets, request = facets.search(context, request)\n",
      "2023-07-15 21:45:57,516 ERROR     File \"/home/cds/cdsservices/services/esgf_wps/facets.py\", line 61, in search\n",
      "2023-07-15 21:45:57,517 ERROR       raise ValueError(f'No matching data for request {tmp_request}')\n",
      "2023-07-15 21:45:57,519 ERROR   ValueError: No matching data for request {'experiment': 'ssp119', 'model': 'ACCESS-ESM1-5', 'temporal_resolution': 'mon', 'variable': 'rsds'}\n",
      "2023-07-15 21:45:57,558 INFO Welcome to the CDS\n",
      "2023-07-15 21:45:57,559 INFO Sending request to https://cds.climate.copernicus.eu/api/v2/resources/projections-cmip6\n",
      "2023-07-15 21:45:57,596 INFO Request is queued\n"
     ]
    },
    {
     "name": "stdout",
     "output_type": "stream",
     "text": [
      "Some parameters are not matching\n",
      "Test with scenario ssp1_1_9 and model awi_esm_1_1_lr\n",
      "path_for_file does not exist: the data may not have been downloaded\n",
      "file_download does not exist: the data were not downloaded\n"
     ]
    },
    {
     "name": "stderr",
     "output_type": "stream",
     "text": [
      "2023-07-15 21:45:58,632 INFO Request is failed\n",
      "2023-07-15 21:45:58,633 ERROR Message: an internal error occurred processing your request\n",
      "2023-07-15 21:45:58,633 ERROR Reason:  No matching data for request {'experiment': 'ssp119', 'model': 'AWI-ESM-1-1-LR', 'temporal_resolution': 'mon', 'variable': 'rsds'}\n",
      "2023-07-15 21:45:58,635 ERROR   Traceback (most recent call last):\n",
      "2023-07-15 21:45:58,636 ERROR     File \"/opt/cdstoolbox/cdscompute/cdscompute/cdshandlers/services/handler.py\", line 59, in handle_request\n",
      "2023-07-15 21:45:58,636 ERROR       result = cached(context.method, proc, context, context.args, context.kwargs)\n",
      "2023-07-15 21:45:58,637 ERROR     File \"/opt/cdstoolbox/cdscompute/cdscompute/caching.py\", line 108, in cached\n",
      "2023-07-15 21:45:58,638 ERROR       result = proc(context, *context.args, **context.kwargs)\n",
      "2023-07-15 21:45:58,639 ERROR     File \"/opt/cdstoolbox/cdscompute/cdscompute/services.py\", line 124, in __call__\n",
      "2023-07-15 21:45:58,639 ERROR       return p(*args, **kwargs)\n",
      "2023-07-15 21:45:58,640 ERROR     File \"/opt/cdstoolbox/cdscompute/cdscompute/services.py\", line 60, in __call__\n",
      "2023-07-15 21:45:58,640 ERROR       return self.proc(context, *args, **kwargs)\n",
      "2023-07-15 21:45:58,642 ERROR     File \"/home/cds/cdsservices/services/esgf_wps/__init__.py\", line 30, in execute\n",
      "2023-07-15 21:45:58,644 ERROR       request_facets, request = facets.search(context, request)\n",
      "2023-07-15 21:45:58,645 ERROR     File \"/home/cds/cdsservices/services/esgf_wps/facets.py\", line 61, in search\n",
      "2023-07-15 21:45:58,645 ERROR       raise ValueError(f'No matching data for request {tmp_request}')\n",
      "2023-07-15 21:45:58,647 ERROR   ValueError: No matching data for request {'experiment': 'ssp119', 'model': 'AWI-ESM-1-1-LR', 'temporal_resolution': 'mon', 'variable': 'rsds'}\n",
      "2023-07-15 21:45:58,682 INFO Welcome to the CDS\n",
      "2023-07-15 21:45:58,683 INFO Sending request to https://cds.climate.copernicus.eu/api/v2/resources/projections-cmip6\n",
      "2023-07-15 21:45:58,722 INFO Request is queued\n"
     ]
    },
    {
     "name": "stdout",
     "output_type": "stream",
     "text": [
      "Some parameters are not matching\n",
      "Test with scenario ssp1_1_9 and model bcc_esm1\n",
      "path_for_file does not exist: the data may not have been downloaded\n",
      "file_download does not exist: the data were not downloaded\n"
     ]
    },
    {
     "name": "stderr",
     "output_type": "stream",
     "text": [
      "2023-07-15 21:45:59,762 INFO Request is failed\n",
      "2023-07-15 21:45:59,764 ERROR Message: an internal error occurred processing your request\n",
      "2023-07-15 21:45:59,764 ERROR Reason:  No matching data for request {'experiment': 'ssp119', 'model': 'BCC-ESM1', 'temporal_resolution': 'mon', 'variable': 'rsds'}\n",
      "2023-07-15 21:45:59,765 ERROR   Traceback (most recent call last):\n",
      "2023-07-15 21:45:59,765 ERROR     File \"/opt/cdstoolbox/cdscompute/cdscompute/cdshandlers/services/handler.py\", line 59, in handle_request\n",
      "2023-07-15 21:45:59,766 ERROR       result = cached(context.method, proc, context, context.args, context.kwargs)\n",
      "2023-07-15 21:45:59,766 ERROR     File \"/opt/cdstoolbox/cdscompute/cdscompute/caching.py\", line 108, in cached\n",
      "2023-07-15 21:45:59,767 ERROR       result = proc(context, *context.args, **context.kwargs)\n",
      "2023-07-15 21:45:59,767 ERROR     File \"/opt/cdstoolbox/cdscompute/cdscompute/services.py\", line 124, in __call__\n",
      "2023-07-15 21:45:59,768 ERROR       return p(*args, **kwargs)\n",
      "2023-07-15 21:45:59,769 ERROR     File \"/opt/cdstoolbox/cdscompute/cdscompute/services.py\", line 60, in __call__\n",
      "2023-07-15 21:45:59,770 ERROR       return self.proc(context, *args, **kwargs)\n",
      "2023-07-15 21:45:59,770 ERROR     File \"/home/cds/cdsservices/services/esgf_wps/__init__.py\", line 30, in execute\n",
      "2023-07-15 21:45:59,771 ERROR       request_facets, request = facets.search(context, request)\n",
      "2023-07-15 21:45:59,771 ERROR     File \"/home/cds/cdsservices/services/esgf_wps/facets.py\", line 61, in search\n",
      "2023-07-15 21:45:59,773 ERROR       raise ValueError(f'No matching data for request {tmp_request}')\n",
      "2023-07-15 21:45:59,774 ERROR   ValueError: No matching data for request {'experiment': 'ssp119', 'model': 'BCC-ESM1', 'temporal_resolution': 'mon', 'variable': 'rsds'}\n",
      "2023-07-15 21:45:59,816 INFO Welcome to the CDS\n",
      "2023-07-15 21:45:59,817 INFO Sending request to https://cds.climate.copernicus.eu/api/v2/resources/projections-cmip6\n",
      "2023-07-15 21:45:59,912 INFO Request is queued\n"
     ]
    },
    {
     "name": "stdout",
     "output_type": "stream",
     "text": [
      "Some parameters are not matching\n",
      "Test with scenario ssp1_1_9 and model canesm5\n",
      "path_for_file does not exist: the data may not have been downloaded\n",
      "file_download does not exist: the data were not downloaded\n"
     ]
    },
    {
     "name": "stderr",
     "output_type": "stream",
     "text": [
      "2023-07-15 21:46:00,949 INFO Request is running\n",
      "2023-07-15 21:46:08,201 INFO Request is completed\n",
      "2023-07-15 21:46:08,202 INFO Downloading https://download-0008-clone.copernicus-climate.eu/cache-compute-0008/cache/data5/adaptor.esgf_wps.retrieve-1689450367.60969-20831-13-431a4f13-c23c-4690-8d43-3245706aa668.zip to download.zip (488.1K)\n",
      "2023-07-15 21:46:08,773 INFO Download rate 854.7K/s                                                                    \n"
     ]
    },
    {
     "name": "stdout",
     "output_type": "stream",
     "text": [
      "The file has been download\n",
      "\\\\COWI.net\\projects\\A245000\\A248363\\CRVA\\Datasets\\radiation\\surface_downwelling_shortwave_radiation\\Copernicus-CMIP6\\raw_data\\2015-2100\\ssp1_1_9\\canesm5\\all-Mozambique\n",
      "Path for the file is created, did not existed before\n"
     ]
    },
    {
     "name": "stderr",
     "output_type": "stream",
     "text": [
      "2023-07-15 21:46:10,067 INFO Welcome to the CDS\n",
      "2023-07-15 21:46:10,068 INFO Sending request to https://cds.climate.copernicus.eu/api/v2/resources/projections-cmip6\n",
      "2023-07-15 21:46:10,120 INFO Request is queued\n"
     ]
    },
    {
     "name": "stdout",
     "output_type": "stream",
     "text": [
      "the file named rsds_Amon_CanESM5_ssp119_r1i1p1f1_gn_20150116-21001216_v20190429.nc was moved\n",
      "\n",
      " The downloaded file is extracted\n",
      "The file has been extracted\n",
      "Test with scenario ssp1_1_9 and model cesm2\n",
      "path_for_file does not exist: the data may not have been downloaded\n",
      "file_download does not exist: the data were not downloaded\n"
     ]
    },
    {
     "name": "stderr",
     "output_type": "stream",
     "text": [
      "2023-07-15 21:46:11,262 INFO Request is failed\n",
      "2023-07-15 21:46:11,263 ERROR Message: an internal error occurred processing your request\n",
      "2023-07-15 21:46:11,263 ERROR Reason:  No matching data for request {'experiment': 'ssp119', 'model': 'CESM2', 'temporal_resolution': 'mon', 'variable': 'rsds'}\n",
      "2023-07-15 21:46:11,264 ERROR   Traceback (most recent call last):\n",
      "2023-07-15 21:46:11,264 ERROR     File \"/opt/cdstoolbox/cdscompute/cdscompute/cdshandlers/services/handler.py\", line 59, in handle_request\n",
      "2023-07-15 21:46:11,265 ERROR       result = cached(context.method, proc, context, context.args, context.kwargs)\n",
      "2023-07-15 21:46:11,266 ERROR     File \"/opt/cdstoolbox/cdscompute/cdscompute/caching.py\", line 108, in cached\n",
      "2023-07-15 21:46:11,266 ERROR       result = proc(context, *context.args, **context.kwargs)\n",
      "2023-07-15 21:46:11,267 ERROR     File \"/opt/cdstoolbox/cdscompute/cdscompute/services.py\", line 124, in __call__\n",
      "2023-07-15 21:46:11,268 ERROR       return p(*args, **kwargs)\n",
      "2023-07-15 21:46:11,269 ERROR     File \"/opt/cdstoolbox/cdscompute/cdscompute/services.py\", line 60, in __call__\n",
      "2023-07-15 21:46:11,269 ERROR       return self.proc(context, *args, **kwargs)\n",
      "2023-07-15 21:46:11,270 ERROR     File \"/home/cds/cdsservices/services/esgf_wps/__init__.py\", line 30, in execute\n",
      "2023-07-15 21:46:11,270 ERROR       request_facets, request = facets.search(context, request)\n",
      "2023-07-15 21:46:11,271 ERROR     File \"/home/cds/cdsservices/services/esgf_wps/facets.py\", line 61, in search\n",
      "2023-07-15 21:46:11,272 ERROR       raise ValueError(f'No matching data for request {tmp_request}')\n",
      "2023-07-15 21:46:11,272 ERROR   ValueError: No matching data for request {'experiment': 'ssp119', 'model': 'CESM2', 'temporal_resolution': 'mon', 'variable': 'rsds'}\n",
      "2023-07-15 21:46:11,305 INFO Welcome to the CDS\n",
      "2023-07-15 21:46:11,306 INFO Sending request to https://cds.climate.copernicus.eu/api/v2/resources/projections-cmip6\n",
      "2023-07-15 21:46:11,344 INFO Request is queued\n"
     ]
    },
    {
     "name": "stdout",
     "output_type": "stream",
     "text": [
      "Some parameters are not matching\n",
      "Test with scenario ssp1_1_9 and model cesm2_waccm\n",
      "path_for_file does not exist: the data may not have been downloaded\n",
      "file_download does not exist: the data were not downloaded\n"
     ]
    },
    {
     "name": "stderr",
     "output_type": "stream",
     "text": [
      "2023-07-15 21:46:12,376 INFO Request is failed\n",
      "2023-07-15 21:46:12,377 ERROR Message: an internal error occurred processing your request\n",
      "2023-07-15 21:46:12,378 ERROR Reason:  No matching data for request {'experiment': 'ssp119', 'model': 'CESM2-WACCM', 'temporal_resolution': 'mon', 'variable': 'rsds'}\n",
      "2023-07-15 21:46:12,379 ERROR   Traceback (most recent call last):\n",
      "2023-07-15 21:46:12,379 ERROR     File \"/opt/cdstoolbox/cdscompute/cdscompute/cdshandlers/services/handler.py\", line 59, in handle_request\n",
      "2023-07-15 21:46:12,380 ERROR       result = cached(context.method, proc, context, context.args, context.kwargs)\n",
      "2023-07-15 21:46:12,381 ERROR     File \"/opt/cdstoolbox/cdscompute/cdscompute/caching.py\", line 108, in cached\n",
      "2023-07-15 21:46:12,381 ERROR       result = proc(context, *context.args, **context.kwargs)\n",
      "2023-07-15 21:46:12,383 ERROR     File \"/opt/cdstoolbox/cdscompute/cdscompute/services.py\", line 124, in __call__\n",
      "2023-07-15 21:46:12,383 ERROR       return p(*args, **kwargs)\n",
      "2023-07-15 21:46:12,384 ERROR     File \"/opt/cdstoolbox/cdscompute/cdscompute/services.py\", line 60, in __call__\n",
      "2023-07-15 21:46:12,385 ERROR       return self.proc(context, *args, **kwargs)\n",
      "2023-07-15 21:46:12,386 ERROR     File \"/home/cds/cdsservices/services/esgf_wps/__init__.py\", line 30, in execute\n",
      "2023-07-15 21:46:12,387 ERROR       request_facets, request = facets.search(context, request)\n",
      "2023-07-15 21:46:12,388 ERROR     File \"/home/cds/cdsservices/services/esgf_wps/facets.py\", line 61, in search\n",
      "2023-07-15 21:46:12,388 ERROR       raise ValueError(f'No matching data for request {tmp_request}')\n",
      "2023-07-15 21:46:12,389 ERROR   ValueError: No matching data for request {'experiment': 'ssp119', 'model': 'CESM2-WACCM', 'temporal_resolution': 'mon', 'variable': 'rsds'}\n",
      "2023-07-15 21:46:12,422 INFO Welcome to the CDS\n",
      "2023-07-15 21:46:12,423 INFO Sending request to https://cds.climate.copernicus.eu/api/v2/resources/projections-cmip6\n",
      "2023-07-15 21:46:12,460 INFO Request is queued\n"
     ]
    },
    {
     "name": "stdout",
     "output_type": "stream",
     "text": [
      "Some parameters are not matching\n",
      "Test with scenario ssp1_1_9 and model ciesm\n",
      "path_for_file does not exist: the data may not have been downloaded\n",
      "file_download does not exist: the data were not downloaded\n"
     ]
    },
    {
     "name": "stderr",
     "output_type": "stream",
     "text": [
      "2023-07-15 21:46:13,499 INFO Request is failed\n",
      "2023-07-15 21:46:13,500 ERROR Message: an internal error occurred processing your request\n",
      "2023-07-15 21:46:13,502 ERROR Reason:  No matching data for request {'experiment': 'ssp119', 'model': 'CIESM', 'temporal_resolution': 'mon', 'variable': 'rsds'}\n",
      "2023-07-15 21:46:13,503 ERROR   Traceback (most recent call last):\n",
      "2023-07-15 21:46:13,504 ERROR     File \"/opt/cdstoolbox/cdscompute/cdscompute/cdshandlers/services/handler.py\", line 59, in handle_request\n",
      "2023-07-15 21:46:13,505 ERROR       result = cached(context.method, proc, context, context.args, context.kwargs)\n",
      "2023-07-15 21:46:13,505 ERROR     File \"/opt/cdstoolbox/cdscompute/cdscompute/caching.py\", line 108, in cached\n",
      "2023-07-15 21:46:13,506 ERROR       result = proc(context, *context.args, **context.kwargs)\n",
      "2023-07-15 21:46:13,506 ERROR     File \"/opt/cdstoolbox/cdscompute/cdscompute/services.py\", line 124, in __call__\n",
      "2023-07-15 21:46:13,508 ERROR       return p(*args, **kwargs)\n",
      "2023-07-15 21:46:13,508 ERROR     File \"/opt/cdstoolbox/cdscompute/cdscompute/services.py\", line 60, in __call__\n",
      "2023-07-15 21:46:13,509 ERROR       return self.proc(context, *args, **kwargs)\n",
      "2023-07-15 21:46:13,509 ERROR     File \"/home/cds/cdsservices/services/esgf_wps/__init__.py\", line 30, in execute\n",
      "2023-07-15 21:46:13,510 ERROR       request_facets, request = facets.search(context, request)\n",
      "2023-07-15 21:46:13,510 ERROR     File \"/home/cds/cdsservices/services/esgf_wps/facets.py\", line 61, in search\n",
      "2023-07-15 21:46:13,513 ERROR       raise ValueError(f'No matching data for request {tmp_request}')\n",
      "2023-07-15 21:46:13,515 ERROR   ValueError: No matching data for request {'experiment': 'ssp119', 'model': 'CIESM', 'temporal_resolution': 'mon', 'variable': 'rsds'}\n",
      "2023-07-15 21:46:13,547 INFO Welcome to the CDS\n",
      "2023-07-15 21:46:13,548 INFO Sending request to https://cds.climate.copernicus.eu/api/v2/resources/projections-cmip6\n",
      "2023-07-15 21:46:13,609 INFO Request is queued\n"
     ]
    },
    {
     "name": "stdout",
     "output_type": "stream",
     "text": [
      "Some parameters are not matching\n",
      "Test with scenario ssp1_1_9 and model cmcc_cm2_sr5\n",
      "path_for_file does not exist: the data may not have been downloaded\n",
      "file_download does not exist: the data were not downloaded\n"
     ]
    },
    {
     "name": "stderr",
     "output_type": "stream",
     "text": [
      "2023-07-15 21:46:14,653 INFO Request is failed\n",
      "2023-07-15 21:46:14,654 ERROR Message: an internal error occurred processing your request\n",
      "2023-07-15 21:46:14,655 ERROR Reason:  No matching data for request {'experiment': 'ssp119', 'model': 'CMCC-CM2-SR5', 'temporal_resolution': 'mon', 'variable': 'rsds'}\n",
      "2023-07-15 21:46:14,655 ERROR   Traceback (most recent call last):\n",
      "2023-07-15 21:46:14,656 ERROR     File \"/opt/cdstoolbox/cdscompute/cdscompute/cdshandlers/services/handler.py\", line 59, in handle_request\n",
      "2023-07-15 21:46:14,657 ERROR       result = cached(context.method, proc, context, context.args, context.kwargs)\n",
      "2023-07-15 21:46:14,657 ERROR     File \"/opt/cdstoolbox/cdscompute/cdscompute/caching.py\", line 108, in cached\n",
      "2023-07-15 21:46:14,658 ERROR       result = proc(context, *context.args, **context.kwargs)\n",
      "2023-07-15 21:46:14,659 ERROR     File \"/opt/cdstoolbox/cdscompute/cdscompute/services.py\", line 124, in __call__\n",
      "2023-07-15 21:46:14,659 ERROR       return p(*args, **kwargs)\n",
      "2023-07-15 21:46:14,660 ERROR     File \"/opt/cdstoolbox/cdscompute/cdscompute/services.py\", line 60, in __call__\n",
      "2023-07-15 21:46:14,660 ERROR       return self.proc(context, *args, **kwargs)\n",
      "2023-07-15 21:46:14,661 ERROR     File \"/home/cds/cdsservices/services/esgf_wps/__init__.py\", line 30, in execute\n",
      "2023-07-15 21:46:14,662 ERROR       request_facets, request = facets.search(context, request)\n",
      "2023-07-15 21:46:14,662 ERROR     File \"/home/cds/cdsservices/services/esgf_wps/facets.py\", line 61, in search\n",
      "2023-07-15 21:46:14,664 ERROR       raise ValueError(f'No matching data for request {tmp_request}')\n",
      "2023-07-15 21:46:14,666 ERROR   ValueError: No matching data for request {'experiment': 'ssp119', 'model': 'CMCC-CM2-SR5', 'temporal_resolution': 'mon', 'variable': 'rsds'}\n",
      "2023-07-15 21:46:14,709 INFO Welcome to the CDS\n",
      "2023-07-15 21:46:14,710 INFO Sending request to https://cds.climate.copernicus.eu/api/v2/resources/projections-cmip6\n",
      "2023-07-15 21:46:14,748 INFO Request is queued\n"
     ]
    },
    {
     "name": "stdout",
     "output_type": "stream",
     "text": [
      "Some parameters are not matching\n",
      "Test with scenario ssp1_1_9 and model cnrm_cm6_1\n",
      "path_for_file does not exist: the data may not have been downloaded\n",
      "file_download does not exist: the data were not downloaded\n"
     ]
    },
    {
     "name": "stderr",
     "output_type": "stream",
     "text": [
      "2023-07-15 21:46:15,789 INFO Request is failed\n",
      "2023-07-15 21:46:15,790 ERROR Message: an internal error occurred processing your request\n",
      "2023-07-15 21:46:15,790 ERROR Reason:  No matching data for request {'experiment': 'ssp119', 'model': 'CNRM-CM6-1', 'temporal_resolution': 'mon', 'variable': 'rsds'}\n",
      "2023-07-15 21:46:15,791 ERROR   Traceback (most recent call last):\n",
      "2023-07-15 21:46:15,791 ERROR     File \"/opt/cdstoolbox/cdscompute/cdscompute/cdshandlers/services/handler.py\", line 59, in handle_request\n",
      "2023-07-15 21:46:15,793 ERROR       result = cached(context.method, proc, context, context.args, context.kwargs)\n",
      "2023-07-15 21:46:15,793 ERROR     File \"/opt/cdstoolbox/cdscompute/cdscompute/caching.py\", line 108, in cached\n",
      "2023-07-15 21:46:15,794 ERROR       result = proc(context, *context.args, **context.kwargs)\n",
      "2023-07-15 21:46:15,794 ERROR     File \"/opt/cdstoolbox/cdscompute/cdscompute/services.py\", line 124, in __call__\n",
      "2023-07-15 21:46:15,795 ERROR       return p(*args, **kwargs)\n",
      "2023-07-15 21:46:15,796 ERROR     File \"/opt/cdstoolbox/cdscompute/cdscompute/services.py\", line 60, in __call__\n",
      "2023-07-15 21:46:15,796 ERROR       return self.proc(context, *args, **kwargs)\n",
      "2023-07-15 21:46:15,797 ERROR     File \"/home/cds/cdsservices/services/esgf_wps/__init__.py\", line 30, in execute\n",
      "2023-07-15 21:46:15,797 ERROR       request_facets, request = facets.search(context, request)\n",
      "2023-07-15 21:46:15,798 ERROR     File \"/home/cds/cdsservices/services/esgf_wps/facets.py\", line 61, in search\n",
      "2023-07-15 21:46:15,799 ERROR       raise ValueError(f'No matching data for request {tmp_request}')\n",
      "2023-07-15 21:46:15,800 ERROR   ValueError: No matching data for request {'experiment': 'ssp119', 'model': 'CNRM-CM6-1', 'temporal_resolution': 'mon', 'variable': 'rsds'}\n",
      "2023-07-15 21:46:15,833 INFO Welcome to the CDS\n",
      "2023-07-15 21:46:15,834 INFO Sending request to https://cds.climate.copernicus.eu/api/v2/resources/projections-cmip6\n",
      "2023-07-15 21:46:15,879 INFO Request is queued\n"
     ]
    },
    {
     "name": "stdout",
     "output_type": "stream",
     "text": [
      "Some parameters are not matching\n",
      "Test with scenario ssp1_1_9 and model cnrm_esm2_1\n",
      "path_for_file does not exist: the data may not have been downloaded\n",
      "file_download does not exist: the data were not downloaded\n"
     ]
    },
    {
     "name": "stderr",
     "output_type": "stream",
     "text": [
      "2023-07-15 21:46:16,927 INFO Request is running\n",
      "2023-07-15 21:46:29,280 INFO Request is completed\n",
      "2023-07-15 21:46:29,281 INFO Downloading https://download-0006-clone.copernicus-climate.eu/cache-compute-0006/cache/data2/adaptor.esgf_wps.retrieve-1689450386.3277018-11293-12-da50b294-d674-4f06-9f20-80463c64182c.zip to download.zip (664.5K)\n",
      "2023-07-15 21:46:29,936 INFO Download rate 1014.5K/s                                                                   \n"
     ]
    },
    {
     "name": "stdout",
     "output_type": "stream",
     "text": [
      "The file has been download\n",
      "\\\\COWI.net\\projects\\A245000\\A248363\\CRVA\\Datasets\\radiation\\surface_downwelling_shortwave_radiation\\Copernicus-CMIP6\\raw_data\\2015-2100\\ssp1_1_9\\cnrm_esm2_1\\all-Mozambique\n",
      "Path for the file is created, did not existed before\n"
     ]
    },
    {
     "name": "stderr",
     "output_type": "stream",
     "text": [
      "2023-07-15 21:46:30,814 INFO Welcome to the CDS\n",
      "2023-07-15 21:46:30,815 INFO Sending request to https://cds.climate.copernicus.eu/api/v2/resources/projections-cmip6\n",
      "2023-07-15 21:46:30,855 INFO Request is queued\n"
     ]
    },
    {
     "name": "stdout",
     "output_type": "stream",
     "text": [
      "the file named rsds_Amon_CNRM-ESM2-1_ssp119_r1i1p1f2_gr_20150116-21001216_v20190328.nc was moved\n",
      "\n",
      " The downloaded file is extracted\n",
      "The file has been extracted\n",
      "Test with scenario ssp1_1_9 and model e3sm_1_1\n",
      "path_for_file does not exist: the data may not have been downloaded\n",
      "file_download does not exist: the data were not downloaded\n"
     ]
    },
    {
     "name": "stderr",
     "output_type": "stream",
     "text": [
      "2023-07-15 21:46:31,896 INFO Request is failed\n",
      "2023-07-15 21:46:31,897 ERROR Message: an internal error occurred processing your request\n",
      "2023-07-15 21:46:31,898 ERROR Reason:  No matching data for request {'experiment': 'ssp119', 'model': 'E3SM-1-1', 'temporal_resolution': 'mon', 'variable': 'rsds'}\n",
      "2023-07-15 21:46:31,898 ERROR   Traceback (most recent call last):\n",
      "2023-07-15 21:46:31,899 ERROR     File \"/opt/cdstoolbox/cdscompute/cdscompute/cdshandlers/services/handler.py\", line 59, in handle_request\n",
      "2023-07-15 21:46:31,900 ERROR       result = cached(context.method, proc, context, context.args, context.kwargs)\n",
      "2023-07-15 21:46:31,900 ERROR     File \"/opt/cdstoolbox/cdscompute/cdscompute/caching.py\", line 108, in cached\n",
      "2023-07-15 21:46:31,901 ERROR       result = proc(context, *context.args, **context.kwargs)\n",
      "2023-07-15 21:46:31,901 ERROR     File \"/opt/cdstoolbox/cdscompute/cdscompute/services.py\", line 124, in __call__\n",
      "2023-07-15 21:46:31,903 ERROR       return p(*args, **kwargs)\n",
      "2023-07-15 21:46:31,904 ERROR     File \"/opt/cdstoolbox/cdscompute/cdscompute/services.py\", line 60, in __call__\n",
      "2023-07-15 21:46:31,905 ERROR       return self.proc(context, *args, **kwargs)\n",
      "2023-07-15 21:46:31,906 ERROR     File \"/home/cds/cdsservices/services/esgf_wps/__init__.py\", line 30, in execute\n",
      "2023-07-15 21:46:31,907 ERROR       request_facets, request = facets.search(context, request)\n",
      "2023-07-15 21:46:31,908 ERROR     File \"/home/cds/cdsservices/services/esgf_wps/facets.py\", line 61, in search\n",
      "2023-07-15 21:46:31,910 ERROR       raise ValueError(f'No matching data for request {tmp_request}')\n",
      "2023-07-15 21:46:31,910 ERROR   ValueError: No matching data for request {'experiment': 'ssp119', 'model': 'E3SM-1-1', 'temporal_resolution': 'mon', 'variable': 'rsds'}\n",
      "2023-07-15 21:46:31,944 INFO Welcome to the CDS\n",
      "2023-07-15 21:46:31,945 INFO Sending request to https://cds.climate.copernicus.eu/api/v2/resources/projections-cmip6\n",
      "2023-07-15 21:46:31,999 INFO Request is queued\n"
     ]
    },
    {
     "name": "stdout",
     "output_type": "stream",
     "text": [
      "Some parameters are not matching\n",
      "Test with scenario ssp1_1_9 and model ec_earth3\n",
      "path_for_file does not exist: the data may not have been downloaded\n",
      "file_download does not exist: the data were not downloaded\n"
     ]
    },
    {
     "name": "stderr",
     "output_type": "stream",
     "text": [
      "2023-07-15 21:46:33,047 INFO Request is running\n",
      "2023-07-15 21:47:47,258 INFO Request is completed\n",
      "2023-07-15 21:47:47,259 INFO Downloading https://download-0012-clone.copernicus-climate.eu/cache-compute-0012/cache/data8/adaptor.esgf_wps.retrieve-1689450454.393261-12806-14-386f2abe-c0de-479e-bfb8-8902e6b89833.zip to download.zip (1.5M)\n",
      "2023-07-15 21:47:47,959 INFO Download rate 2.2M/s                                                                      \n"
     ]
    },
    {
     "name": "stdout",
     "output_type": "stream",
     "text": [
      "The file has been download\n",
      "\\\\COWI.net\\projects\\A245000\\A248363\\CRVA\\Datasets\\radiation\\surface_downwelling_shortwave_radiation\\Copernicus-CMIP6\\raw_data\\2015-2100\\ssp1_1_9\\ec_earth3\\all-Mozambique\n",
      "Path for the file is created, did not existed before\n"
     ]
    },
    {
     "name": "stderr",
     "output_type": "stream",
     "text": [
      "2023-07-15 21:47:49,290 INFO Welcome to the CDS\n",
      "2023-07-15 21:47:49,290 INFO Sending request to https://cds.climate.copernicus.eu/api/v2/resources/projections-cmip6\n",
      "2023-07-15 21:47:49,333 INFO Request is queued\n"
     ]
    },
    {
     "name": "stdout",
     "output_type": "stream",
     "text": [
      "the file named rsds_Amon_EC-Earth3_ssp119_r4i1p1f1_gr_20150116-21001216_v20200425.nc was moved\n",
      "\n",
      " The downloaded file is extracted\n",
      "The file has been extracted\n",
      "Test with scenario ssp1_1_9 and model ec_earth3_cc\n",
      "path_for_file does not exist: the data may not have been downloaded\n",
      "file_download does not exist: the data were not downloaded\n"
     ]
    },
    {
     "name": "stderr",
     "output_type": "stream",
     "text": [
      "2023-07-15 21:47:50,372 INFO Request is failed\n",
      "2023-07-15 21:47:50,373 ERROR Message: an internal error occurred processing your request\n",
      "2023-07-15 21:47:50,374 ERROR Reason:  No matching data for request {'experiment': 'ssp119', 'model': 'EC-Earth3-CC', 'temporal_resolution': 'mon', 'variable': 'rsds'}\n",
      "2023-07-15 21:47:50,375 ERROR   Traceback (most recent call last):\n",
      "2023-07-15 21:47:50,375 ERROR     File \"/opt/cdstoolbox/cdscompute/cdscompute/cdshandlers/services/handler.py\", line 59, in handle_request\n",
      "2023-07-15 21:47:50,376 ERROR       result = cached(context.method, proc, context, context.args, context.kwargs)\n",
      "2023-07-15 21:47:50,377 ERROR     File \"/opt/cdstoolbox/cdscompute/cdscompute/caching.py\", line 108, in cached\n",
      "2023-07-15 21:47:50,377 ERROR       result = proc(context, *context.args, **context.kwargs)\n",
      "2023-07-15 21:47:50,377 ERROR     File \"/opt/cdstoolbox/cdscompute/cdscompute/services.py\", line 124, in __call__\n",
      "2023-07-15 21:47:50,380 ERROR       return p(*args, **kwargs)\n",
      "2023-07-15 21:47:50,380 ERROR     File \"/opt/cdstoolbox/cdscompute/cdscompute/services.py\", line 60, in __call__\n",
      "2023-07-15 21:47:50,380 ERROR       return self.proc(context, *args, **kwargs)\n",
      "2023-07-15 21:47:50,380 ERROR     File \"/home/cds/cdsservices/services/esgf_wps/__init__.py\", line 30, in execute\n",
      "2023-07-15 21:47:50,381 ERROR       request_facets, request = facets.search(context, request)\n",
      "2023-07-15 21:47:50,382 ERROR     File \"/home/cds/cdsservices/services/esgf_wps/facets.py\", line 61, in search\n",
      "2023-07-15 21:47:50,383 ERROR       raise ValueError(f'No matching data for request {tmp_request}')\n",
      "2023-07-15 21:47:50,383 ERROR   ValueError: No matching data for request {'experiment': 'ssp119', 'model': 'EC-Earth3-CC', 'temporal_resolution': 'mon', 'variable': 'rsds'}\n",
      "2023-07-15 21:47:50,417 INFO Welcome to the CDS\n",
      "2023-07-15 21:47:50,418 INFO Sending request to https://cds.climate.copernicus.eu/api/v2/resources/projections-cmip6\n",
      "2023-07-15 21:47:50,505 INFO Request is queued\n"
     ]
    },
    {
     "name": "stdout",
     "output_type": "stream",
     "text": [
      "Some parameters are not matching\n",
      "Test with scenario ssp1_1_9 and model ec_earth3_veg_lr\n",
      "path_for_file does not exist: the data may not have been downloaded\n",
      "file_download does not exist: the data were not downloaded\n"
     ]
    },
    {
     "name": "stderr",
     "output_type": "stream",
     "text": [
      "2023-07-15 21:47:51,540 INFO Request is failed\n",
      "2023-07-15 21:47:51,541 ERROR Message: an internal error occurred processing your request\n",
      "2023-07-15 21:47:51,542 ERROR Reason:  500 Server Error: INTERNAL SERVER ERROR for url: http://compute.mips.copernicus-climate.eu/wps?service=WPS&request=GetCapabilities&version=1.0.0\n",
      "2023-07-15 21:47:51,542 ERROR   Traceback (most recent call last):\n",
      "2023-07-15 21:47:51,543 ERROR     File \"/opt/cdstoolbox/cdscompute/cdscompute/cdshandlers/services/handler.py\", line 59, in handle_request\n",
      "2023-07-15 21:47:51,543 ERROR       result = cached(context.method, proc, context, context.args, context.kwargs)\n",
      "2023-07-15 21:47:51,544 ERROR     File \"/opt/cdstoolbox/cdscompute/cdscompute/caching.py\", line 108, in cached\n",
      "2023-07-15 21:47:51,545 ERROR       result = proc(context, *context.args, **context.kwargs)\n",
      "2023-07-15 21:47:51,545 ERROR     File \"/opt/cdstoolbox/cdscompute/cdscompute/services.py\", line 124, in __call__\n",
      "2023-07-15 21:47:51,546 ERROR       return p(*args, **kwargs)\n",
      "2023-07-15 21:47:51,546 ERROR     File \"/opt/cdstoolbox/cdscompute/cdscompute/services.py\", line 60, in __call__\n",
      "2023-07-15 21:47:51,547 ERROR       return self.proc(context, *args, **kwargs)\n",
      "2023-07-15 21:47:51,547 ERROR     File \"/home/cds/cdsservices/services/esgf_wps/__init__.py\", line 41, in execute\n",
      "2023-07-15 21:47:51,548 ERROR       result = requests.process(context, request_facets, request, **process_kwargs)\n",
      "2023-07-15 21:47:51,548 ERROR     File \"/home/cds/cdsservices/services/esgf_wps/requests.py\", line 55, in process\n",
      "2023-07-15 21:47:51,548 ERROR       response = workflow.orchestrate()\n",
      "2023-07-15 21:47:51,549 ERROR     File \"/usr/local/lib/python3.6/site-packages/rooki/operators.py\", line 40, in orchestrate\n",
      "2023-07-15 21:47:51,550 ERROR       reinit()\n",
      "2023-07-15 21:47:51,551 ERROR     File \"/usr/local/lib/python3.6/site-packages/rooki/operators.py\", line 13, in reinit\n",
      "2023-07-15 21:47:51,552 ERROR       rooki = Rooki()\n",
      "2023-07-15 21:47:51,552 ERROR     File \"/usr/local/lib/python3.6/site-packages/rooki/client.py\", line 49, in __init__\n",
      "2023-07-15 21:47:51,553 ERROR       lineage=lineage,\n",
      "2023-07-15 21:47:51,553 ERROR     File \"/usr/local/lib/python3.6/site-packages/birdy/client/base.py\", line 147, in __init__\n",
      "2023-07-15 21:47:51,553 ERROR       self._wps.getcapabilities(xml=caps_xml)\n",
      "2023-07-15 21:47:51,555 ERROR     File \"/usr/local/lib/python3.6/site-packages/owslib/wps.py\", line 275, in getcapabilities\n",
      "2023-07-15 21:47:51,555 ERROR       self.url, headers=self.headers)\n",
      "2023-07-15 21:47:51,556 ERROR     File \"/usr/local/lib/python3.6/site-packages/owslib/wps.py\", line 555, in readFromUrl\n",
      "2023-07-15 21:47:51,556 ERROR       headers=headers, verify=verify, cert=cert)\n",
      "2023-07-15 21:47:51,557 ERROR     File \"/usr/local/lib/python3.6/site-packages/owslib/wps.py\", line 509, in _readFromUrl\n",
      "2023-07-15 21:47:51,557 ERROR       headers=headers, verify=self.auth.verify, cert=self.auth.cert, timeout=self.timeout)\n",
      "2023-07-15 21:47:51,558 ERROR     File \"/usr/local/lib/python3.6/site-packages/owslib/util.py\", line 209, in openURL\n",
      "2023-07-15 21:47:51,558 ERROR       req.raise_for_status()\n",
      "2023-07-15 21:47:51,558 ERROR     File \"/usr/local/lib/python3.6/site-packages/requests/models.py\", line 960, in raise_for_status\n",
      "2023-07-15 21:47:51,559 ERROR       raise HTTPError(http_error_msg, response=self)\n",
      "2023-07-15 21:47:51,559 ERROR   requests.exceptions.HTTPError: 500 Server Error: INTERNAL SERVER ERROR for url: http://compute.mips.copernicus-climate.eu/wps?service=WPS&request=GetCapabilities&version=1.0.0\n",
      "2023-07-15 21:47:51,591 INFO Welcome to the CDS\n",
      "2023-07-15 21:47:51,592 INFO Sending request to https://cds.climate.copernicus.eu/api/v2/resources/projections-cmip6\n",
      "2023-07-15 21:47:51,656 INFO Request is queued\n"
     ]
    },
    {
     "name": "stdout",
     "output_type": "stream",
     "text": [
      "Some parameters are not matching\n",
      "Test with scenario ssp1_1_9 and model fgoals_g3\n",
      "path_for_file does not exist: the data may not have been downloaded\n",
      "file_download does not exist: the data were not downloaded\n"
     ]
    },
    {
     "name": "stderr",
     "output_type": "stream",
     "text": [
      "2023-07-15 21:47:52,703 INFO Request is failed\n",
      "2023-07-15 21:47:52,704 ERROR Message: an internal error occurred processing your request\n",
      "2023-07-15 21:47:52,706 ERROR Reason:  500 Server Error: INTERNAL SERVER ERROR for url: http://compute.mips.copernicus-climate.eu/wps?service=WPS&request=GetCapabilities&version=1.0.0\n",
      "2023-07-15 21:47:52,706 ERROR   Traceback (most recent call last):\n",
      "2023-07-15 21:47:52,706 ERROR     File \"/opt/cdstoolbox/cdscompute/cdscompute/cdshandlers/services/handler.py\", line 59, in handle_request\n",
      "2023-07-15 21:47:52,708 ERROR       result = cached(context.method, proc, context, context.args, context.kwargs)\n",
      "2023-07-15 21:47:52,708 ERROR     File \"/opt/cdstoolbox/cdscompute/cdscompute/caching.py\", line 108, in cached\n",
      "2023-07-15 21:47:52,709 ERROR       result = proc(context, *context.args, **context.kwargs)\n",
      "2023-07-15 21:47:52,709 ERROR     File \"/opt/cdstoolbox/cdscompute/cdscompute/services.py\", line 124, in __call__\n",
      "2023-07-15 21:47:52,710 ERROR       return p(*args, **kwargs)\n",
      "2023-07-15 21:47:52,711 ERROR     File \"/opt/cdstoolbox/cdscompute/cdscompute/services.py\", line 60, in __call__\n",
      "2023-07-15 21:47:52,711 ERROR       return self.proc(context, *args, **kwargs)\n",
      "2023-07-15 21:47:52,712 ERROR     File \"/home/cds/cdsservices/services/esgf_wps/__init__.py\", line 41, in execute\n",
      "2023-07-15 21:47:52,713 ERROR       result = requests.process(context, request_facets, request, **process_kwargs)\n",
      "2023-07-15 21:47:52,713 ERROR     File \"/home/cds/cdsservices/services/esgf_wps/requests.py\", line 55, in process\n",
      "2023-07-15 21:47:52,715 ERROR       response = workflow.orchestrate()\n",
      "2023-07-15 21:47:52,715 ERROR     File \"/usr/local/lib/python3.6/site-packages/rooki/operators.py\", line 40, in orchestrate\n",
      "2023-07-15 21:47:52,715 ERROR       reinit()\n",
      "2023-07-15 21:47:52,715 ERROR     File \"/usr/local/lib/python3.6/site-packages/rooki/operators.py\", line 13, in reinit\n",
      "2023-07-15 21:47:52,717 ERROR       rooki = Rooki()\n",
      "2023-07-15 21:47:52,718 ERROR     File \"/usr/local/lib/python3.6/site-packages/rooki/client.py\", line 49, in __init__\n",
      "2023-07-15 21:47:52,719 ERROR       lineage=lineage,\n",
      "2023-07-15 21:47:52,720 ERROR     File \"/usr/local/lib/python3.6/site-packages/birdy/client/base.py\", line 147, in __init__\n",
      "2023-07-15 21:47:52,721 ERROR       self._wps.getcapabilities(xml=caps_xml)\n",
      "2023-07-15 21:47:52,721 ERROR     File \"/usr/local/lib/python3.6/site-packages/owslib/wps.py\", line 275, in getcapabilities\n",
      "2023-07-15 21:47:52,721 ERROR       self.url, headers=self.headers)\n",
      "2023-07-15 21:47:52,721 ERROR     File \"/usr/local/lib/python3.6/site-packages/owslib/wps.py\", line 555, in readFromUrl\n",
      "2023-07-15 21:47:52,723 ERROR       headers=headers, verify=verify, cert=cert)\n",
      "2023-07-15 21:47:52,723 ERROR     File \"/usr/local/lib/python3.6/site-packages/owslib/wps.py\", line 509, in _readFromUrl\n",
      "2023-07-15 21:47:52,724 ERROR       headers=headers, verify=self.auth.verify, cert=self.auth.cert, timeout=self.timeout)\n",
      "2023-07-15 21:47:52,724 ERROR     File \"/usr/local/lib/python3.6/site-packages/owslib/util.py\", line 209, in openURL\n",
      "2023-07-15 21:47:52,725 ERROR       req.raise_for_status()\n",
      "2023-07-15 21:47:52,725 ERROR     File \"/usr/local/lib/python3.6/site-packages/requests/models.py\", line 960, in raise_for_status\n",
      "2023-07-15 21:47:52,726 ERROR       raise HTTPError(http_error_msg, response=self)\n",
      "2023-07-15 21:47:52,727 ERROR   requests.exceptions.HTTPError: 500 Server Error: INTERNAL SERVER ERROR for url: http://compute.mips.copernicus-climate.eu/wps?service=WPS&request=GetCapabilities&version=1.0.0\n",
      "2023-07-15 21:47:52,766 INFO Welcome to the CDS\n",
      "2023-07-15 21:47:52,766 INFO Sending request to https://cds.climate.copernicus.eu/api/v2/resources/projections-cmip6\n",
      "2023-07-15 21:47:52,847 INFO Request is queued\n"
     ]
    },
    {
     "name": "stdout",
     "output_type": "stream",
     "text": [
      "Some parameters are not matching\n",
      "Test with scenario ssp1_1_9 and model gfdl_esm4\n",
      "path_for_file does not exist: the data may not have been downloaded\n",
      "file_download does not exist: the data were not downloaded\n"
     ]
    },
    {
     "name": "stderr",
     "output_type": "stream",
     "text": [
      "2023-07-15 21:47:53,887 INFO Request is failed\n",
      "2023-07-15 21:47:53,887 ERROR Message: an internal error occurred processing your request\n",
      "2023-07-15 21:47:53,888 ERROR Reason:  500 Server Error: INTERNAL SERVER ERROR for url: http://compute.mips.copernicus-climate.eu/wps?service=WPS&request=GetCapabilities&version=1.0.0\n",
      "2023-07-15 21:47:53,890 ERROR   Traceback (most recent call last):\n",
      "2023-07-15 21:47:53,891 ERROR     File \"/opt/cdstoolbox/cdscompute/cdscompute/cdshandlers/services/handler.py\", line 59, in handle_request\n",
      "2023-07-15 21:47:53,892 ERROR       result = cached(context.method, proc, context, context.args, context.kwargs)\n",
      "2023-07-15 21:47:53,892 ERROR     File \"/opt/cdstoolbox/cdscompute/cdscompute/caching.py\", line 108, in cached\n",
      "2023-07-15 21:47:53,893 ERROR       result = proc(context, *context.args, **context.kwargs)\n",
      "2023-07-15 21:47:53,893 ERROR     File \"/opt/cdstoolbox/cdscompute/cdscompute/services.py\", line 124, in __call__\n",
      "2023-07-15 21:47:53,894 ERROR       return p(*args, **kwargs)\n",
      "2023-07-15 21:47:53,895 ERROR     File \"/opt/cdstoolbox/cdscompute/cdscompute/services.py\", line 60, in __call__\n",
      "2023-07-15 21:47:53,895 ERROR       return self.proc(context, *args, **kwargs)\n",
      "2023-07-15 21:47:53,895 ERROR     File \"/home/cds/cdsservices/services/esgf_wps/__init__.py\", line 41, in execute\n",
      "2023-07-15 21:47:53,896 ERROR       result = requests.process(context, request_facets, request, **process_kwargs)\n",
      "2023-07-15 21:47:53,896 ERROR     File \"/home/cds/cdsservices/services/esgf_wps/requests.py\", line 55, in process\n",
      "2023-07-15 21:47:53,897 ERROR       response = workflow.orchestrate()\n",
      "2023-07-15 21:47:53,897 ERROR     File \"/usr/local/lib/python3.6/site-packages/rooki/operators.py\", line 40, in orchestrate\n",
      "2023-07-15 21:47:53,898 ERROR       reinit()\n",
      "2023-07-15 21:47:53,898 ERROR     File \"/usr/local/lib/python3.6/site-packages/rooki/operators.py\", line 13, in reinit\n",
      "2023-07-15 21:47:53,898 ERROR       rooki = Rooki()\n",
      "2023-07-15 21:47:53,899 ERROR     File \"/usr/local/lib/python3.6/site-packages/rooki/client.py\", line 49, in __init__\n",
      "2023-07-15 21:47:53,899 ERROR       lineage=lineage,\n",
      "2023-07-15 21:47:53,900 ERROR     File \"/usr/local/lib/python3.6/site-packages/birdy/client/base.py\", line 147, in __init__\n",
      "2023-07-15 21:47:53,900 ERROR       self._wps.getcapabilities(xml=caps_xml)\n",
      "2023-07-15 21:47:53,900 ERROR     File \"/usr/local/lib/python3.6/site-packages/owslib/wps.py\", line 275, in getcapabilities\n",
      "2023-07-15 21:47:53,902 ERROR       self.url, headers=self.headers)\n",
      "2023-07-15 21:47:53,902 ERROR     File \"/usr/local/lib/python3.6/site-packages/owslib/wps.py\", line 555, in readFromUrl\n",
      "2023-07-15 21:47:53,904 ERROR       headers=headers, verify=verify, cert=cert)\n",
      "2023-07-15 21:47:53,905 ERROR     File \"/usr/local/lib/python3.6/site-packages/owslib/wps.py\", line 509, in _readFromUrl\n",
      "2023-07-15 21:47:53,906 ERROR       headers=headers, verify=self.auth.verify, cert=self.auth.cert, timeout=self.timeout)\n",
      "2023-07-15 21:47:53,906 ERROR     File \"/usr/local/lib/python3.6/site-packages/owslib/util.py\", line 209, in openURL\n",
      "2023-07-15 21:47:53,907 ERROR       req.raise_for_status()\n",
      "2023-07-15 21:47:53,907 ERROR     File \"/usr/local/lib/python3.6/site-packages/requests/models.py\", line 960, in raise_for_status\n",
      "2023-07-15 21:47:53,908 ERROR       raise HTTPError(http_error_msg, response=self)\n",
      "2023-07-15 21:47:53,908 ERROR   requests.exceptions.HTTPError: 500 Server Error: INTERNAL SERVER ERROR for url: http://compute.mips.copernicus-climate.eu/wps?service=WPS&request=GetCapabilities&version=1.0.0\n",
      "2023-07-15 21:47:53,950 INFO Welcome to the CDS\n",
      "2023-07-15 21:47:53,951 INFO Sending request to https://cds.climate.copernicus.eu/api/v2/resources/projections-cmip6\n",
      "2023-07-15 21:47:54,005 INFO Request is queued\n"
     ]
    },
    {
     "name": "stdout",
     "output_type": "stream",
     "text": [
      "Some parameters are not matching\n",
      "Test with scenario ssp1_1_9 and model giss_e2_1_h\n",
      "path_for_file does not exist: the data may not have been downloaded\n",
      "file_download does not exist: the data were not downloaded\n"
     ]
    },
    {
     "name": "stderr",
     "output_type": "stream",
     "text": [
      "2023-07-15 21:47:55,052 INFO Request is failed\n",
      "2023-07-15 21:47:55,052 ERROR Message: an internal error occurred processing your request\n",
      "2023-07-15 21:47:55,053 ERROR Reason:  No matching data for request {'experiment': 'ssp119', 'model': 'GISS-E2-1-H', 'temporal_resolution': 'mon', 'variable': 'rsds'}\n",
      "2023-07-15 21:47:55,053 ERROR   Traceback (most recent call last):\n",
      "2023-07-15 21:47:55,054 ERROR     File \"/opt/cdstoolbox/cdscompute/cdscompute/cdshandlers/services/handler.py\", line 59, in handle_request\n",
      "2023-07-15 21:47:55,054 ERROR       result = cached(context.method, proc, context, context.args, context.kwargs)\n",
      "2023-07-15 21:47:55,055 ERROR     File \"/opt/cdstoolbox/cdscompute/cdscompute/caching.py\", line 108, in cached\n",
      "2023-07-15 21:47:55,055 ERROR       result = proc(context, *context.args, **context.kwargs)\n",
      "2023-07-15 21:47:55,055 ERROR     File \"/opt/cdstoolbox/cdscompute/cdscompute/services.py\", line 124, in __call__\n",
      "2023-07-15 21:47:55,056 ERROR       return p(*args, **kwargs)\n",
      "2023-07-15 21:47:55,056 ERROR     File \"/opt/cdstoolbox/cdscompute/cdscompute/services.py\", line 60, in __call__\n",
      "2023-07-15 21:47:55,057 ERROR       return self.proc(context, *args, **kwargs)\n",
      "2023-07-15 21:47:55,057 ERROR     File \"/home/cds/cdsservices/services/esgf_wps/__init__.py\", line 30, in execute\n",
      "2023-07-15 21:47:55,058 ERROR       request_facets, request = facets.search(context, request)\n",
      "2023-07-15 21:47:55,058 ERROR     File \"/home/cds/cdsservices/services/esgf_wps/facets.py\", line 61, in search\n",
      "2023-07-15 21:47:55,058 ERROR       raise ValueError(f'No matching data for request {tmp_request}')\n",
      "2023-07-15 21:47:55,059 ERROR   ValueError: No matching data for request {'experiment': 'ssp119', 'model': 'GISS-E2-1-H', 'temporal_resolution': 'mon', 'variable': 'rsds'}\n",
      "2023-07-15 21:47:55,092 INFO Welcome to the CDS\n",
      "2023-07-15 21:47:55,092 INFO Sending request to https://cds.climate.copernicus.eu/api/v2/resources/projections-cmip6\n",
      "2023-07-15 21:47:55,151 INFO Request is queued\n"
     ]
    },
    {
     "name": "stdout",
     "output_type": "stream",
     "text": [
      "Some parameters are not matching\n",
      "Test with scenario ssp1_1_9 and model hadgem3_gc31_mm\n",
      "path_for_file does not exist: the data may not have been downloaded\n",
      "file_download does not exist: the data were not downloaded\n"
     ]
    },
    {
     "name": "stderr",
     "output_type": "stream",
     "text": [
      "2023-07-15 21:47:56,191 INFO Request is failed\n",
      "2023-07-15 21:47:56,193 ERROR Message: an internal error occurred processing your request\n",
      "2023-07-15 21:47:56,193 ERROR Reason:  No matching data for request {'experiment': 'ssp119', 'model': 'HadGEM3-GC31-MM', 'temporal_resolution': 'mon', 'variable': 'rsds'}\n",
      "2023-07-15 21:47:56,194 ERROR   Traceback (most recent call last):\n",
      "2023-07-15 21:47:56,195 ERROR     File \"/opt/cdstoolbox/cdscompute/cdscompute/cdshandlers/services/handler.py\", line 59, in handle_request\n",
      "2023-07-15 21:47:56,196 ERROR       result = cached(context.method, proc, context, context.args, context.kwargs)\n",
      "2023-07-15 21:47:56,198 ERROR     File \"/opt/cdstoolbox/cdscompute/cdscompute/caching.py\", line 108, in cached\n",
      "2023-07-15 21:47:56,201 ERROR       result = proc(context, *context.args, **context.kwargs)\n",
      "2023-07-15 21:47:56,201 ERROR     File \"/opt/cdstoolbox/cdscompute/cdscompute/services.py\", line 124, in __call__\n",
      "2023-07-15 21:47:56,202 ERROR       return p(*args, **kwargs)\n",
      "2023-07-15 21:47:56,202 ERROR     File \"/opt/cdstoolbox/cdscompute/cdscompute/services.py\", line 60, in __call__\n",
      "2023-07-15 21:47:56,203 ERROR       return self.proc(context, *args, **kwargs)\n",
      "2023-07-15 21:47:56,204 ERROR     File \"/home/cds/cdsservices/services/esgf_wps/__init__.py\", line 30, in execute\n",
      "2023-07-15 21:47:56,204 ERROR       request_facets, request = facets.search(context, request)\n",
      "2023-07-15 21:47:56,205 ERROR     File \"/home/cds/cdsservices/services/esgf_wps/facets.py\", line 61, in search\n",
      "2023-07-15 21:47:56,205 ERROR       raise ValueError(f'No matching data for request {tmp_request}')\n",
      "2023-07-15 21:47:56,206 ERROR   ValueError: No matching data for request {'experiment': 'ssp119', 'model': 'HadGEM3-GC31-MM', 'temporal_resolution': 'mon', 'variable': 'rsds'}\n",
      "2023-07-15 21:47:56,244 INFO Welcome to the CDS\n",
      "2023-07-15 21:47:56,245 INFO Sending request to https://cds.climate.copernicus.eu/api/v2/resources/projections-cmip6\n",
      "2023-07-15 21:47:56,307 INFO Request is queued\n"
     ]
    },
    {
     "name": "stdout",
     "output_type": "stream",
     "text": [
      "Some parameters are not matching\n",
      "Test with scenario ssp1_1_9 and model inm_cm4_8\n",
      "path_for_file does not exist: the data may not have been downloaded\n",
      "file_download does not exist: the data were not downloaded\n"
     ]
    },
    {
     "name": "stderr",
     "output_type": "stream",
     "text": [
      "2023-07-15 21:47:57,345 INFO Request is failed\n",
      "2023-07-15 21:47:57,346 ERROR Message: an internal error occurred processing your request\n",
      "2023-07-15 21:47:57,347 ERROR Reason:  No matching data for request {'experiment': 'ssp119', 'model': 'INM-CM4-8', 'temporal_resolution': 'mon', 'variable': 'rsds'}\n",
      "2023-07-15 21:47:57,348 ERROR   Traceback (most recent call last):\n",
      "2023-07-15 21:47:57,348 ERROR     File \"/opt/cdstoolbox/cdscompute/cdscompute/cdshandlers/services/handler.py\", line 59, in handle_request\n",
      "2023-07-15 21:47:57,349 ERROR       result = cached(context.method, proc, context, context.args, context.kwargs)\n",
      "2023-07-15 21:47:57,350 ERROR     File \"/opt/cdstoolbox/cdscompute/cdscompute/caching.py\", line 108, in cached\n",
      "2023-07-15 21:47:57,350 ERROR       result = proc(context, *context.args, **context.kwargs)\n",
      "2023-07-15 21:47:57,351 ERROR     File \"/opt/cdstoolbox/cdscompute/cdscompute/services.py\", line 124, in __call__\n",
      "2023-07-15 21:47:57,352 ERROR       return p(*args, **kwargs)\n",
      "2023-07-15 21:47:57,352 ERROR     File \"/opt/cdstoolbox/cdscompute/cdscompute/services.py\", line 60, in __call__\n",
      "2023-07-15 21:47:57,353 ERROR       return self.proc(context, *args, **kwargs)\n",
      "2023-07-15 21:47:57,354 ERROR     File \"/home/cds/cdsservices/services/esgf_wps/__init__.py\", line 30, in execute\n",
      "2023-07-15 21:47:57,355 ERROR       request_facets, request = facets.search(context, request)\n",
      "2023-07-15 21:47:57,355 ERROR     File \"/home/cds/cdsservices/services/esgf_wps/facets.py\", line 61, in search\n",
      "2023-07-15 21:47:57,356 ERROR       raise ValueError(f'No matching data for request {tmp_request}')\n",
      "2023-07-15 21:47:57,357 ERROR   ValueError: No matching data for request {'experiment': 'ssp119', 'model': 'INM-CM4-8', 'temporal_resolution': 'mon', 'variable': 'rsds'}\n",
      "2023-07-15 21:47:57,389 INFO Welcome to the CDS\n",
      "2023-07-15 21:47:57,390 INFO Sending request to https://cds.climate.copernicus.eu/api/v2/resources/projections-cmip6\n",
      "2023-07-15 21:47:57,495 INFO Request is queued\n"
     ]
    },
    {
     "name": "stdout",
     "output_type": "stream",
     "text": [
      "Some parameters are not matching\n",
      "Test with scenario ssp1_1_9 and model ipsl_cm5a2_inca\n",
      "path_for_file does not exist: the data may not have been downloaded\n",
      "file_download does not exist: the data were not downloaded\n"
     ]
    },
    {
     "name": "stderr",
     "output_type": "stream",
     "text": [
      "2023-07-15 21:47:58,539 INFO Request is failed\n",
      "2023-07-15 21:47:58,541 ERROR Message: an internal error occurred processing your request\n",
      "2023-07-15 21:47:58,542 ERROR Reason:  No matching data for request {'experiment': 'ssp119', 'model': 'IPSL-CM5A2-INCA', 'temporal_resolution': 'mon', 'variable': 'rsds'}\n",
      "2023-07-15 21:47:58,542 ERROR   Traceback (most recent call last):\n",
      "2023-07-15 21:47:58,543 ERROR     File \"/opt/cdstoolbox/cdscompute/cdscompute/cdshandlers/services/handler.py\", line 59, in handle_request\n",
      "2023-07-15 21:47:58,544 ERROR       result = cached(context.method, proc, context, context.args, context.kwargs)\n",
      "2023-07-15 21:47:58,544 ERROR     File \"/opt/cdstoolbox/cdscompute/cdscompute/caching.py\", line 108, in cached\n",
      "2023-07-15 21:47:58,545 ERROR       result = proc(context, *context.args, **context.kwargs)\n",
      "2023-07-15 21:47:58,546 ERROR     File \"/opt/cdstoolbox/cdscompute/cdscompute/services.py\", line 124, in __call__\n",
      "2023-07-15 21:47:58,547 ERROR       return p(*args, **kwargs)\n",
      "2023-07-15 21:47:58,548 ERROR     File \"/opt/cdstoolbox/cdscompute/cdscompute/services.py\", line 60, in __call__\n",
      "2023-07-15 21:47:58,550 ERROR       return self.proc(context, *args, **kwargs)\n",
      "2023-07-15 21:47:58,550 ERROR     File \"/home/cds/cdsservices/services/esgf_wps/__init__.py\", line 30, in execute\n",
      "2023-07-15 21:47:58,551 ERROR       request_facets, request = facets.search(context, request)\n",
      "2023-07-15 21:47:58,552 ERROR     File \"/home/cds/cdsservices/services/esgf_wps/facets.py\", line 61, in search\n",
      "2023-07-15 21:47:58,553 ERROR       raise ValueError(f'No matching data for request {tmp_request}')\n",
      "2023-07-15 21:47:58,554 ERROR   ValueError: No matching data for request {'experiment': 'ssp119', 'model': 'IPSL-CM5A2-INCA', 'temporal_resolution': 'mon', 'variable': 'rsds'}\n",
      "2023-07-15 21:47:58,587 INFO Welcome to the CDS\n",
      "2023-07-15 21:47:58,588 INFO Sending request to https://cds.climate.copernicus.eu/api/v2/resources/projections-cmip6\n",
      "2023-07-15 21:47:58,626 INFO Request is queued\n"
     ]
    },
    {
     "name": "stdout",
     "output_type": "stream",
     "text": [
      "Some parameters are not matching\n",
      "Test with scenario ssp1_1_9 and model kace_1_0_g\n",
      "path_for_file does not exist: the data may not have been downloaded\n",
      "file_download does not exist: the data were not downloaded\n"
     ]
    },
    {
     "name": "stderr",
     "output_type": "stream",
     "text": [
      "2023-07-15 21:47:59,669 INFO Request is failed\n",
      "2023-07-15 21:47:59,670 ERROR Message: an internal error occurred processing your request\n",
      "2023-07-15 21:47:59,671 ERROR Reason:  No matching data for request {'experiment': 'ssp119', 'model': 'KACE-1-0-G', 'temporal_resolution': 'mon', 'variable': 'rsds'}\n",
      "2023-07-15 21:47:59,672 ERROR   Traceback (most recent call last):\n",
      "2023-07-15 21:47:59,673 ERROR     File \"/opt/cdstoolbox/cdscompute/cdscompute/cdshandlers/services/handler.py\", line 59, in handle_request\n",
      "2023-07-15 21:47:59,673 ERROR       result = cached(context.method, proc, context, context.args, context.kwargs)\n",
      "2023-07-15 21:47:59,674 ERROR     File \"/opt/cdstoolbox/cdscompute/cdscompute/caching.py\", line 108, in cached\n",
      "2023-07-15 21:47:59,675 ERROR       result = proc(context, *context.args, **context.kwargs)\n",
      "2023-07-15 21:47:59,675 ERROR     File \"/opt/cdstoolbox/cdscompute/cdscompute/services.py\", line 124, in __call__\n",
      "2023-07-15 21:47:59,676 ERROR       return p(*args, **kwargs)\n",
      "2023-07-15 21:47:59,676 ERROR     File \"/opt/cdstoolbox/cdscompute/cdscompute/services.py\", line 60, in __call__\n",
      "2023-07-15 21:47:59,678 ERROR       return self.proc(context, *args, **kwargs)\n",
      "2023-07-15 21:47:59,679 ERROR     File \"/home/cds/cdsservices/services/esgf_wps/__init__.py\", line 30, in execute\n",
      "2023-07-15 21:47:59,679 ERROR       request_facets, request = facets.search(context, request)\n",
      "2023-07-15 21:47:59,680 ERROR     File \"/home/cds/cdsservices/services/esgf_wps/facets.py\", line 61, in search\n",
      "2023-07-15 21:47:59,681 ERROR       raise ValueError(f'No matching data for request {tmp_request}')\n",
      "2023-07-15 21:47:59,682 ERROR   ValueError: No matching data for request {'experiment': 'ssp119', 'model': 'KACE-1-0-G', 'temporal_resolution': 'mon', 'variable': 'rsds'}\n",
      "2023-07-15 21:47:59,715 INFO Welcome to the CDS\n",
      "2023-07-15 21:47:59,716 INFO Sending request to https://cds.climate.copernicus.eu/api/v2/resources/projections-cmip6\n",
      "2023-07-15 21:47:59,764 INFO Request is queued\n"
     ]
    },
    {
     "name": "stdout",
     "output_type": "stream",
     "text": [
      "Some parameters are not matching\n",
      "Test with scenario ssp1_1_9 and model mcm_ua_1_0\n",
      "path_for_file does not exist: the data may not have been downloaded\n",
      "file_download does not exist: the data were not downloaded\n"
     ]
    },
    {
     "name": "stderr",
     "output_type": "stream",
     "text": [
      "2023-07-15 21:48:00,811 INFO Request is failed\n",
      "2023-07-15 21:48:00,813 ERROR Message: an internal error occurred processing your request\n",
      "2023-07-15 21:48:00,815 ERROR Reason:  No matching data for request {'experiment': 'ssp119', 'model': 'MCM-UA-1-0', 'temporal_resolution': 'mon', 'variable': 'rsds'}\n",
      "2023-07-15 21:48:00,816 ERROR   Traceback (most recent call last):\n",
      "2023-07-15 21:48:00,817 ERROR     File \"/opt/cdstoolbox/cdscompute/cdscompute/cdshandlers/services/handler.py\", line 59, in handle_request\n",
      "2023-07-15 21:48:00,818 ERROR       result = cached(context.method, proc, context, context.args, context.kwargs)\n",
      "2023-07-15 21:48:00,819 ERROR     File \"/opt/cdstoolbox/cdscompute/cdscompute/caching.py\", line 108, in cached\n",
      "2023-07-15 21:48:00,819 ERROR       result = proc(context, *context.args, **context.kwargs)\n",
      "2023-07-15 21:48:00,820 ERROR     File \"/opt/cdstoolbox/cdscompute/cdscompute/services.py\", line 124, in __call__\n",
      "2023-07-15 21:48:00,821 ERROR       return p(*args, **kwargs)\n",
      "2023-07-15 21:48:00,821 ERROR     File \"/opt/cdstoolbox/cdscompute/cdscompute/services.py\", line 60, in __call__\n",
      "2023-07-15 21:48:00,822 ERROR       return self.proc(context, *args, **kwargs)\n",
      "2023-07-15 21:48:00,823 ERROR     File \"/home/cds/cdsservices/services/esgf_wps/__init__.py\", line 30, in execute\n",
      "2023-07-15 21:48:00,823 ERROR       request_facets, request = facets.search(context, request)\n",
      "2023-07-15 21:48:00,824 ERROR     File \"/home/cds/cdsservices/services/esgf_wps/facets.py\", line 61, in search\n",
      "2023-07-15 21:48:00,824 ERROR       raise ValueError(f'No matching data for request {tmp_request}')\n",
      "2023-07-15 21:48:00,824 ERROR   ValueError: No matching data for request {'experiment': 'ssp119', 'model': 'MCM-UA-1-0', 'temporal_resolution': 'mon', 'variable': 'rsds'}\n",
      "2023-07-15 21:48:00,858 INFO Welcome to the CDS\n",
      "2023-07-15 21:48:00,858 INFO Sending request to https://cds.climate.copernicus.eu/api/v2/resources/projections-cmip6\n",
      "2023-07-15 21:48:00,932 INFO Request is queued\n"
     ]
    },
    {
     "name": "stdout",
     "output_type": "stream",
     "text": [
      "Some parameters are not matching\n",
      "Test with scenario ssp1_1_9 and model miroc_es2h\n",
      "path_for_file does not exist: the data may not have been downloaded\n",
      "file_download does not exist: the data were not downloaded\n"
     ]
    },
    {
     "name": "stderr",
     "output_type": "stream",
     "text": [
      "2023-07-15 21:48:01,981 INFO Request is failed\n",
      "2023-07-15 21:48:01,982 ERROR Message: an internal error occurred processing your request\n",
      "2023-07-15 21:48:01,983 ERROR Reason:  No matching data for request {'experiment': 'ssp119', 'model': 'MIROC-ES2H', 'temporal_resolution': 'mon', 'variable': 'rsds'}\n",
      "2023-07-15 21:48:01,984 ERROR   Traceback (most recent call last):\n",
      "2023-07-15 21:48:01,984 ERROR     File \"/opt/cdstoolbox/cdscompute/cdscompute/cdshandlers/services/handler.py\", line 59, in handle_request\n",
      "2023-07-15 21:48:01,985 ERROR       result = cached(context.method, proc, context, context.args, context.kwargs)\n",
      "2023-07-15 21:48:01,986 ERROR     File \"/opt/cdstoolbox/cdscompute/cdscompute/caching.py\", line 108, in cached\n",
      "2023-07-15 21:48:01,987 ERROR       result = proc(context, *context.args, **context.kwargs)\n",
      "2023-07-15 21:48:01,988 ERROR     File \"/opt/cdstoolbox/cdscompute/cdscompute/services.py\", line 124, in __call__\n",
      "2023-07-15 21:48:01,988 ERROR       return p(*args, **kwargs)\n",
      "2023-07-15 21:48:01,990 ERROR     File \"/opt/cdstoolbox/cdscompute/cdscompute/services.py\", line 60, in __call__\n",
      "2023-07-15 21:48:01,991 ERROR       return self.proc(context, *args, **kwargs)\n",
      "2023-07-15 21:48:01,991 ERROR     File \"/home/cds/cdsservices/services/esgf_wps/__init__.py\", line 30, in execute\n",
      "2023-07-15 21:48:01,992 ERROR       request_facets, request = facets.search(context, request)\n",
      "2023-07-15 21:48:01,992 ERROR     File \"/home/cds/cdsservices/services/esgf_wps/facets.py\", line 61, in search\n",
      "2023-07-15 21:48:01,994 ERROR       raise ValueError(f'No matching data for request {tmp_request}')\n",
      "2023-07-15 21:48:01,994 ERROR   ValueError: No matching data for request {'experiment': 'ssp119', 'model': 'MIROC-ES2H', 'temporal_resolution': 'mon', 'variable': 'rsds'}\n",
      "2023-07-15 21:48:02,028 INFO Welcome to the CDS\n",
      "2023-07-15 21:48:02,029 INFO Sending request to https://cds.climate.copernicus.eu/api/v2/resources/projections-cmip6\n",
      "2023-07-15 21:48:02,066 INFO Request is queued\n"
     ]
    },
    {
     "name": "stdout",
     "output_type": "stream",
     "text": [
      "Some parameters are not matching\n",
      "Test with scenario ssp1_1_9 and model mpi_esm_1_2_ham\n",
      "path_for_file does not exist: the data may not have been downloaded\n",
      "file_download does not exist: the data were not downloaded\n"
     ]
    },
    {
     "name": "stderr",
     "output_type": "stream",
     "text": [
      "2023-07-15 21:48:03,109 INFO Request is failed\n",
      "2023-07-15 21:48:03,111 ERROR Message: an internal error occurred processing your request\n",
      "2023-07-15 21:48:03,112 ERROR Reason:  No matching data for request {'experiment': 'ssp119', 'model': 'MPI-ESM-1-2-HAM', 'temporal_resolution': 'mon', 'variable': 'rsds'}\n",
      "2023-07-15 21:48:03,113 ERROR   Traceback (most recent call last):\n",
      "2023-07-15 21:48:03,113 ERROR     File \"/opt/cdstoolbox/cdscompute/cdscompute/cdshandlers/services/handler.py\", line 59, in handle_request\n",
      "2023-07-15 21:48:03,114 ERROR       result = cached(context.method, proc, context, context.args, context.kwargs)\n",
      "2023-07-15 21:48:03,114 ERROR     File \"/opt/cdstoolbox/cdscompute/cdscompute/caching.py\", line 108, in cached\n",
      "2023-07-15 21:48:03,115 ERROR       result = proc(context, *context.args, **context.kwargs)\n",
      "2023-07-15 21:48:03,115 ERROR     File \"/opt/cdstoolbox/cdscompute/cdscompute/services.py\", line 124, in __call__\n",
      "2023-07-15 21:48:03,115 ERROR       return p(*args, **kwargs)\n",
      "2023-07-15 21:48:03,116 ERROR     File \"/opt/cdstoolbox/cdscompute/cdscompute/services.py\", line 60, in __call__\n",
      "2023-07-15 21:48:03,116 ERROR       return self.proc(context, *args, **kwargs)\n",
      "2023-07-15 21:48:03,117 ERROR     File \"/home/cds/cdsservices/services/esgf_wps/__init__.py\", line 30, in execute\n",
      "2023-07-15 21:48:03,118 ERROR       request_facets, request = facets.search(context, request)\n",
      "2023-07-15 21:48:03,119 ERROR     File \"/home/cds/cdsservices/services/esgf_wps/facets.py\", line 61, in search\n",
      "2023-07-15 21:48:03,119 ERROR       raise ValueError(f'No matching data for request {tmp_request}')\n",
      "2023-07-15 21:48:03,120 ERROR   ValueError: No matching data for request {'experiment': 'ssp119', 'model': 'MPI-ESM-1-2-HAM', 'temporal_resolution': 'mon', 'variable': 'rsds'}\n",
      "2023-07-15 21:48:03,153 INFO Welcome to the CDS\n",
      "2023-07-15 21:48:03,154 INFO Sending request to https://cds.climate.copernicus.eu/api/v2/resources/projections-cmip6\n",
      "2023-07-15 21:48:03,232 INFO Request is queued\n"
     ]
    },
    {
     "name": "stdout",
     "output_type": "stream",
     "text": [
      "Some parameters are not matching\n",
      "Test with scenario ssp1_1_9 and model mpi_esm1_2_lr\n",
      "path_for_file does not exist: the data may not have been downloaded\n",
      "file_download does not exist: the data were not downloaded\n"
     ]
    },
    {
     "name": "stderr",
     "output_type": "stream",
     "text": [
      "2023-07-15 21:48:04,276 INFO Request is failed\n",
      "2023-07-15 21:48:04,277 ERROR Message: an internal error occurred processing your request\n",
      "2023-07-15 21:48:04,278 ERROR Reason:  No matching data for request {'experiment': 'ssp119', 'model': 'MPI-ESM1-2-LR', 'temporal_resolution': 'mon', 'variable': 'rsds'}\n",
      "2023-07-15 21:48:04,279 ERROR   Traceback (most recent call last):\n",
      "2023-07-15 21:48:04,280 ERROR     File \"/opt/cdstoolbox/cdscompute/cdscompute/cdshandlers/services/handler.py\", line 59, in handle_request\n",
      "2023-07-15 21:48:04,281 ERROR       result = cached(context.method, proc, context, context.args, context.kwargs)\n",
      "2023-07-15 21:48:04,281 ERROR     File \"/opt/cdstoolbox/cdscompute/cdscompute/caching.py\", line 108, in cached\n",
      "2023-07-15 21:48:04,282 ERROR       result = proc(context, *context.args, **context.kwargs)\n",
      "2023-07-15 21:48:04,283 ERROR     File \"/opt/cdstoolbox/cdscompute/cdscompute/services.py\", line 124, in __call__\n",
      "2023-07-15 21:48:04,284 ERROR       return p(*args, **kwargs)\n",
      "2023-07-15 21:48:04,284 ERROR     File \"/opt/cdstoolbox/cdscompute/cdscompute/services.py\", line 60, in __call__\n",
      "2023-07-15 21:48:04,284 ERROR       return self.proc(context, *args, **kwargs)\n",
      "2023-07-15 21:48:04,285 ERROR     File \"/home/cds/cdsservices/services/esgf_wps/__init__.py\", line 30, in execute\n",
      "2023-07-15 21:48:04,286 ERROR       request_facets, request = facets.search(context, request)\n",
      "2023-07-15 21:48:04,286 ERROR     File \"/home/cds/cdsservices/services/esgf_wps/facets.py\", line 61, in search\n",
      "2023-07-15 21:48:04,287 ERROR       raise ValueError(f'No matching data for request {tmp_request}')\n",
      "2023-07-15 21:48:04,287 ERROR   ValueError: No matching data for request {'experiment': 'ssp119', 'model': 'MPI-ESM1-2-LR', 'temporal_resolution': 'mon', 'variable': 'rsds'}\n",
      "2023-07-15 21:48:04,321 INFO Welcome to the CDS\n",
      "2023-07-15 21:48:04,322 INFO Sending request to https://cds.climate.copernicus.eu/api/v2/resources/projections-cmip6\n",
      "2023-07-15 21:48:04,378 INFO Request is queued\n"
     ]
    },
    {
     "name": "stdout",
     "output_type": "stream",
     "text": [
      "Some parameters are not matching\n",
      "Test with scenario ssp1_1_9 and model nesm3\n",
      "path_for_file does not exist: the data may not have been downloaded\n",
      "file_download does not exist: the data were not downloaded\n"
     ]
    },
    {
     "name": "stderr",
     "output_type": "stream",
     "text": [
      "2023-07-15 21:48:05,424 INFO Request is failed\n",
      "2023-07-15 21:48:05,425 ERROR Message: an internal error occurred processing your request\n",
      "2023-07-15 21:48:05,426 ERROR Reason:  No matching data for request {'experiment': 'ssp119', 'model': 'NESM3', 'temporal_resolution': 'mon', 'variable': 'rsds'}\n",
      "2023-07-15 21:48:05,427 ERROR   Traceback (most recent call last):\n",
      "2023-07-15 21:48:05,428 ERROR     File \"/opt/cdstoolbox/cdscompute/cdscompute/cdshandlers/services/handler.py\", line 59, in handle_request\n",
      "2023-07-15 21:48:05,428 ERROR       result = cached(context.method, proc, context, context.args, context.kwargs)\n",
      "2023-07-15 21:48:05,428 ERROR     File \"/opt/cdstoolbox/cdscompute/cdscompute/caching.py\", line 108, in cached\n",
      "2023-07-15 21:48:05,429 ERROR       result = proc(context, *context.args, **context.kwargs)\n",
      "2023-07-15 21:48:05,429 ERROR     File \"/opt/cdstoolbox/cdscompute/cdscompute/services.py\", line 124, in __call__\n",
      "2023-07-15 21:48:05,430 ERROR       return p(*args, **kwargs)\n",
      "2023-07-15 21:48:05,432 ERROR     File \"/opt/cdstoolbox/cdscompute/cdscompute/services.py\", line 60, in __call__\n",
      "2023-07-15 21:48:05,433 ERROR       return self.proc(context, *args, **kwargs)\n",
      "2023-07-15 21:48:05,433 ERROR     File \"/home/cds/cdsservices/services/esgf_wps/__init__.py\", line 30, in execute\n",
      "2023-07-15 21:48:05,434 ERROR       request_facets, request = facets.search(context, request)\n",
      "2023-07-15 21:48:05,435 ERROR     File \"/home/cds/cdsservices/services/esgf_wps/facets.py\", line 61, in search\n",
      "2023-07-15 21:48:05,435 ERROR       raise ValueError(f'No matching data for request {tmp_request}')\n",
      "2023-07-15 21:48:05,437 ERROR   ValueError: No matching data for request {'experiment': 'ssp119', 'model': 'NESM3', 'temporal_resolution': 'mon', 'variable': 'rsds'}\n",
      "2023-07-15 21:48:05,470 INFO Welcome to the CDS\n",
      "2023-07-15 21:48:05,471 INFO Sending request to https://cds.climate.copernicus.eu/api/v2/resources/projections-cmip6\n",
      "2023-07-15 21:48:05,517 INFO Request is queued\n"
     ]
    },
    {
     "name": "stdout",
     "output_type": "stream",
     "text": [
      "Some parameters are not matching\n",
      "Test with scenario ssp1_1_9 and model noresm2_lm\n",
      "path_for_file does not exist: the data may not have been downloaded\n",
      "file_download does not exist: the data were not downloaded\n"
     ]
    },
    {
     "name": "stderr",
     "output_type": "stream",
     "text": [
      "2023-07-15 21:48:06,560 INFO Request is failed\n",
      "2023-07-15 21:48:06,561 ERROR Message: an internal error occurred processing your request\n",
      "2023-07-15 21:48:06,562 ERROR Reason:  No matching data for request {'experiment': 'ssp119', 'model': 'NorESM2-LM', 'temporal_resolution': 'mon', 'variable': 'rsds'}\n",
      "2023-07-15 21:48:06,563 ERROR   Traceback (most recent call last):\n",
      "2023-07-15 21:48:06,564 ERROR     File \"/opt/cdstoolbox/cdscompute/cdscompute/cdshandlers/services/handler.py\", line 59, in handle_request\n",
      "2023-07-15 21:48:06,564 ERROR       result = cached(context.method, proc, context, context.args, context.kwargs)\n",
      "2023-07-15 21:48:06,565 ERROR     File \"/opt/cdstoolbox/cdscompute/cdscompute/caching.py\", line 108, in cached\n",
      "2023-07-15 21:48:06,566 ERROR       result = proc(context, *context.args, **context.kwargs)\n",
      "2023-07-15 21:48:06,567 ERROR     File \"/opt/cdstoolbox/cdscompute/cdscompute/services.py\", line 124, in __call__\n",
      "2023-07-15 21:48:06,570 ERROR       return p(*args, **kwargs)\n",
      "2023-07-15 21:48:06,570 ERROR     File \"/opt/cdstoolbox/cdscompute/cdscompute/services.py\", line 60, in __call__\n",
      "2023-07-15 21:48:06,571 ERROR       return self.proc(context, *args, **kwargs)\n",
      "2023-07-15 21:48:06,571 ERROR     File \"/home/cds/cdsservices/services/esgf_wps/__init__.py\", line 30, in execute\n",
      "2023-07-15 21:48:06,572 ERROR       request_facets, request = facets.search(context, request)\n",
      "2023-07-15 21:48:06,573 ERROR     File \"/home/cds/cdsservices/services/esgf_wps/facets.py\", line 61, in search\n",
      "2023-07-15 21:48:06,573 ERROR       raise ValueError(f'No matching data for request {tmp_request}')\n",
      "2023-07-15 21:48:06,574 ERROR   ValueError: No matching data for request {'experiment': 'ssp119', 'model': 'NorESM2-LM', 'temporal_resolution': 'mon', 'variable': 'rsds'}\n"
     ]
    },
    {
     "name": "stdout",
     "output_type": "stream",
     "text": [
      "Some parameters are not matching\n",
      "Test with scenario ssp1_1_9 and model sam0_unicon\n",
      "path_for_file does not exist: the data may not have been downloaded\n",
      "file_download does not exist: the data were not downloaded\n"
     ]
    },
    {
     "name": "stderr",
     "output_type": "stream",
     "text": [
      "2023-07-15 21:48:07,019 INFO Welcome to the CDS\n",
      "2023-07-15 21:48:07,020 INFO Sending request to https://cds.climate.copernicus.eu/api/v2/resources/projections-cmip6\n",
      "2023-07-15 21:48:07,085 INFO Request is queued\n",
      "2023-07-15 21:48:08,137 INFO Request is failed\n",
      "2023-07-15 21:48:08,138 ERROR Message: an internal error occurred processing your request\n",
      "2023-07-15 21:48:08,139 ERROR Reason:  No matching data for request {'experiment': 'ssp119', 'model': 'SAM0-UNICON', 'temporal_resolution': 'mon', 'variable': 'rsds'}\n",
      "2023-07-15 21:48:08,140 ERROR   Traceback (most recent call last):\n",
      "2023-07-15 21:48:08,141 ERROR     File \"/opt/cdstoolbox/cdscompute/cdscompute/cdshandlers/services/handler.py\", line 59, in handle_request\n",
      "2023-07-15 21:48:08,142 ERROR       result = cached(context.method, proc, context, context.args, context.kwargs)\n",
      "2023-07-15 21:48:08,143 ERROR     File \"/opt/cdstoolbox/cdscompute/cdscompute/caching.py\", line 108, in cached\n",
      "2023-07-15 21:48:08,144 ERROR       result = proc(context, *context.args, **context.kwargs)\n",
      "2023-07-15 21:48:08,144 ERROR     File \"/opt/cdstoolbox/cdscompute/cdscompute/services.py\", line 124, in __call__\n",
      "2023-07-15 21:48:08,145 ERROR       return p(*args, **kwargs)\n",
      "2023-07-15 21:48:08,146 ERROR     File \"/opt/cdstoolbox/cdscompute/cdscompute/services.py\", line 60, in __call__\n",
      "2023-07-15 21:48:08,146 ERROR       return self.proc(context, *args, **kwargs)\n",
      "2023-07-15 21:48:08,147 ERROR     File \"/home/cds/cdsservices/services/esgf_wps/__init__.py\", line 30, in execute\n",
      "2023-07-15 21:48:08,147 ERROR       request_facets, request = facets.search(context, request)\n",
      "2023-07-15 21:48:08,147 ERROR     File \"/home/cds/cdsservices/services/esgf_wps/facets.py\", line 61, in search\n",
      "2023-07-15 21:48:08,147 ERROR       raise ValueError(f'No matching data for request {tmp_request}')\n",
      "2023-07-15 21:48:08,148 ERROR   ValueError: No matching data for request {'experiment': 'ssp119', 'model': 'SAM0-UNICON', 'temporal_resolution': 'mon', 'variable': 'rsds'}\n",
      "2023-07-15 21:48:08,186 INFO Welcome to the CDS\n",
      "2023-07-15 21:48:08,187 INFO Sending request to https://cds.climate.copernicus.eu/api/v2/resources/projections-cmip6\n",
      "2023-07-15 21:48:08,246 INFO Request is queued\n"
     ]
    },
    {
     "name": "stdout",
     "output_type": "stream",
     "text": [
      "Some parameters are not matching\n",
      "Test with scenario ssp1_1_9 and model ukesm1_0_ll\n",
      "path_for_file does not exist: the data may not have been downloaded\n",
      "file_download does not exist: the data were not downloaded\n"
     ]
    },
    {
     "name": "stderr",
     "output_type": "stream",
     "text": [
      "2023-07-15 21:48:09,288 INFO Request is running\n",
      "2023-07-15 21:48:16,552 INFO Request is completed\n",
      "2023-07-15 21:48:16,554 INFO Downloading https://download-0000-clone.copernicus-climate.eu/cache-compute-0000/cache/data5/adaptor.esgf_wps.retrieve-1689450495.8585796-8811-13-532e00c1-575e-4e7d-8c88-5fe44511474a.zip to download.zip (450.1K)\n",
      "2023-07-15 21:48:17,134 INFO Download rate 776.2K/s                                                                    \n"
     ]
    },
    {
     "name": "stdout",
     "output_type": "stream",
     "text": [
      "The file has been download\n",
      "\\\\COWI.net\\projects\\A245000\\A248363\\CRVA\\Datasets\\radiation\\surface_downwelling_shortwave_radiation\\Copernicus-CMIP6\\raw_data\\2015-2100\\ssp1_1_9\\ukesm1_0_ll\\all-Mozambique\n",
      "Path for the file is created, did not existed before\n"
     ]
    },
    {
     "name": "stderr",
     "output_type": "stream",
     "text": [
      "2023-07-15 21:48:17,975 INFO Welcome to the CDS\n",
      "2023-07-15 21:48:17,977 INFO Sending request to https://cds.climate.copernicus.eu/api/v2/resources/projections-cmip6\n",
      "2023-07-15 21:48:18,052 INFO Request is queued\n"
     ]
    },
    {
     "name": "stdout",
     "output_type": "stream",
     "text": [
      "the file named rsds_Amon_UKESM1-0-LL_ssp119_r1i1p1f2_gn_20150116-21001216_v20190830.nc was moved\n",
      "\n",
      " The downloaded file is extracted\n",
      "The file has been extracted\n",
      "Test with scenario ssp1_2_6 and model access_cm2\n",
      "path_for_file does not exist: the data may not have been downloaded\n",
      "file_download does not exist: the data were not downloaded\n"
     ]
    },
    {
     "name": "stderr",
     "output_type": "stream",
     "text": [
      "2023-07-15 21:48:19,096 INFO Request is failed\n",
      "2023-07-15 21:48:19,098 ERROR Message: an internal error occurred processing your request\n",
      "2023-07-15 21:48:19,099 ERROR Reason:  500 Server Error: INTERNAL SERVER ERROR for url: http://compute.mips.copernicus-climate.eu/wps?service=WPS&request=GetCapabilities&version=1.0.0\n",
      "2023-07-15 21:48:19,099 ERROR   Traceback (most recent call last):\n",
      "2023-07-15 21:48:19,100 ERROR     File \"/opt/cdstoolbox/cdscompute/cdscompute/cdshandlers/services/handler.py\", line 59, in handle_request\n",
      "2023-07-15 21:48:19,100 ERROR       result = cached(context.method, proc, context, context.args, context.kwargs)\n",
      "2023-07-15 21:48:19,101 ERROR     File \"/opt/cdstoolbox/cdscompute/cdscompute/caching.py\", line 108, in cached\n",
      "2023-07-15 21:48:19,102 ERROR       result = proc(context, *context.args, **context.kwargs)\n",
      "2023-07-15 21:48:19,102 ERROR     File \"/opt/cdstoolbox/cdscompute/cdscompute/services.py\", line 124, in __call__\n",
      "2023-07-15 21:48:19,103 ERROR       return p(*args, **kwargs)\n",
      "2023-07-15 21:48:19,103 ERROR     File \"/opt/cdstoolbox/cdscompute/cdscompute/services.py\", line 60, in __call__\n",
      "2023-07-15 21:48:19,104 ERROR       return self.proc(context, *args, **kwargs)\n",
      "2023-07-15 21:48:19,104 ERROR     File \"/home/cds/cdsservices/services/esgf_wps/__init__.py\", line 41, in execute\n",
      "2023-07-15 21:48:19,106 ERROR       result = requests.process(context, request_facets, request, **process_kwargs)\n",
      "2023-07-15 21:48:19,106 ERROR     File \"/home/cds/cdsservices/services/esgf_wps/requests.py\", line 55, in process\n",
      "2023-07-15 21:48:19,108 ERROR       response = workflow.orchestrate()\n",
      "2023-07-15 21:48:19,109 ERROR     File \"/usr/local/lib/python3.6/site-packages/rooki/operators.py\", line 40, in orchestrate\n",
      "2023-07-15 21:48:19,109 ERROR       reinit()\n",
      "2023-07-15 21:48:19,109 ERROR     File \"/usr/local/lib/python3.6/site-packages/rooki/operators.py\", line 13, in reinit\n",
      "2023-07-15 21:48:19,110 ERROR       rooki = Rooki()\n",
      "2023-07-15 21:48:19,110 ERROR     File \"/usr/local/lib/python3.6/site-packages/rooki/client.py\", line 49, in __init__\n",
      "2023-07-15 21:48:19,111 ERROR       lineage=lineage,\n",
      "2023-07-15 21:48:19,112 ERROR     File \"/usr/local/lib/python3.6/site-packages/birdy/client/base.py\", line 147, in __init__\n",
      "2023-07-15 21:48:19,112 ERROR       self._wps.getcapabilities(xml=caps_xml)\n",
      "2023-07-15 21:48:19,113 ERROR     File \"/usr/local/lib/python3.6/site-packages/owslib/wps.py\", line 275, in getcapabilities\n",
      "2023-07-15 21:48:19,113 ERROR       self.url, headers=self.headers)\n",
      "2023-07-15 21:48:19,114 ERROR     File \"/usr/local/lib/python3.6/site-packages/owslib/wps.py\", line 555, in readFromUrl\n",
      "2023-07-15 21:48:19,115 ERROR       headers=headers, verify=verify, cert=cert)\n",
      "2023-07-15 21:48:19,115 ERROR     File \"/usr/local/lib/python3.6/site-packages/owslib/wps.py\", line 509, in _readFromUrl\n",
      "2023-07-15 21:48:19,115 ERROR       headers=headers, verify=self.auth.verify, cert=self.auth.cert, timeout=self.timeout)\n",
      "2023-07-15 21:48:19,116 ERROR     File \"/usr/local/lib/python3.6/site-packages/owslib/util.py\", line 209, in openURL\n",
      "2023-07-15 21:48:19,117 ERROR       req.raise_for_status()\n",
      "2023-07-15 21:48:19,117 ERROR     File \"/usr/local/lib/python3.6/site-packages/requests/models.py\", line 960, in raise_for_status\n",
      "2023-07-15 21:48:19,118 ERROR       raise HTTPError(http_error_msg, response=self)\n",
      "2023-07-15 21:48:19,118 ERROR   requests.exceptions.HTTPError: 500 Server Error: INTERNAL SERVER ERROR for url: http://compute.mips.copernicus-climate.eu/wps?service=WPS&request=GetCapabilities&version=1.0.0\n",
      "2023-07-15 21:48:19,196 INFO Welcome to the CDS\n",
      "2023-07-15 21:48:19,199 INFO Sending request to https://cds.climate.copernicus.eu/api/v2/resources/projections-cmip6\n",
      "2023-07-15 21:48:19,294 INFO Request is queued\n"
     ]
    },
    {
     "name": "stdout",
     "output_type": "stream",
     "text": [
      "Some parameters are not matching\n",
      "Test with scenario ssp1_2_6 and model awi_cm_1_1_mr\n",
      "path_for_file does not exist: the data may not have been downloaded\n",
      "file_download does not exist: the data were not downloaded\n"
     ]
    },
    {
     "name": "stderr",
     "output_type": "stream",
     "text": [
      "2023-07-15 21:48:20,344 INFO Request is failed\n",
      "2023-07-15 21:48:20,345 ERROR Message: an internal error occurred processing your request\n",
      "2023-07-15 21:48:20,345 ERROR Reason:  execution failed\n",
      "2023-07-15 21:48:20,346 ERROR   Traceback (most recent call last):\n",
      "2023-07-15 21:48:20,346 ERROR     File \"/usr/local/lib/python3.6/site-packages/birdy/client/base.py\", line 386, in _execute\n",
      "2023-07-15 21:48:20,347 ERROR       lineage=self._lineage,\n",
      "2023-07-15 21:48:20,347 ERROR     File \"/usr/local/lib/python3.6/site-packages/owslib/wps.py\", line 359, in execute\n",
      "2023-07-15 21:48:20,348 ERROR       response = execution.submitRequest(request)\n",
      "2023-07-15 21:48:20,349 ERROR     File \"/usr/local/lib/python3.6/site-packages/owslib/wps.py\", line 912, in submitRequest\n",
      "2023-07-15 21:48:20,350 ERROR       self.url, request, method='Post', headers=self.headers)\n",
      "2023-07-15 21:48:20,351 ERROR     File \"/usr/local/lib/python3.6/site-packages/owslib/wps.py\", line 603, in readFromUrl\n",
      "2023-07-15 21:48:20,351 ERROR       headers=headers, verify=verify, cert=cert)\n",
      "2023-07-15 21:48:20,353 ERROR     File \"/usr/local/lib/python3.6/site-packages/owslib/wps.py\", line 515, in _readFromUrl\n",
      "2023-07-15 21:48:20,353 ERROR       headers=headers, verify=self.auth.verify, cert=self.auth.cert, timeout=timeout)\n",
      "2023-07-15 21:48:20,354 ERROR     File \"/usr/local/lib/python3.6/site-packages/owslib/util.py\", line 209, in openURL\n",
      "2023-07-15 21:48:20,354 ERROR       req.raise_for_status()\n",
      "2023-07-15 21:48:20,355 ERROR     File \"/usr/local/lib/python3.6/site-packages/requests/models.py\", line 960, in raise_for_status\n",
      "2023-07-15 21:48:20,355 ERROR       raise HTTPError(http_error_msg, response=self)\n",
      "2023-07-15 21:48:20,356 ERROR   requests.exceptions.HTTPError: 500 Server Error: INTERNAL SERVER ERROR for url: http://compute.mips.copernicus-climate.eu/wps\n",
      "2023-07-15 21:48:20,402 INFO Welcome to the CDS\n",
      "2023-07-15 21:48:20,404 INFO Sending request to https://cds.climate.copernicus.eu/api/v2/resources/projections-cmip6\n",
      "2023-07-15 21:48:20,521 INFO Request is queued\n"
     ]
    },
    {
     "name": "stdout",
     "output_type": "stream",
     "text": [
      "Some parameters are not matching\n",
      "Test with scenario ssp1_2_6 and model bcc_csm2_mr\n",
      "path_for_file does not exist: the data may not have been downloaded\n",
      "file_download does not exist: the data were not downloaded\n"
     ]
    },
    {
     "name": "stderr",
     "output_type": "stream",
     "text": [
      "2023-07-15 21:48:21,569 INFO Request is failed\n",
      "2023-07-15 21:48:21,570 ERROR Message: an internal error occurred processing your request\n",
      "2023-07-15 21:48:21,571 ERROR Reason:  execution failed\n",
      "2023-07-15 21:48:21,571 ERROR   Traceback (most recent call last):\n",
      "2023-07-15 21:48:21,572 ERROR     File \"/usr/local/lib/python3.6/site-packages/birdy/client/base.py\", line 386, in _execute\n",
      "2023-07-15 21:48:21,574 ERROR       lineage=self._lineage,\n",
      "2023-07-15 21:48:21,574 ERROR     File \"/usr/local/lib/python3.6/site-packages/owslib/wps.py\", line 359, in execute\n",
      "2023-07-15 21:48:21,575 ERROR       response = execution.submitRequest(request)\n",
      "2023-07-15 21:48:21,575 ERROR     File \"/usr/local/lib/python3.6/site-packages/owslib/wps.py\", line 912, in submitRequest\n",
      "2023-07-15 21:48:21,576 ERROR       self.url, request, method='Post', headers=self.headers)\n",
      "2023-07-15 21:48:21,577 ERROR     File \"/usr/local/lib/python3.6/site-packages/owslib/wps.py\", line 603, in readFromUrl\n",
      "2023-07-15 21:48:21,579 ERROR       headers=headers, verify=verify, cert=cert)\n",
      "2023-07-15 21:48:21,579 ERROR     File \"/usr/local/lib/python3.6/site-packages/owslib/wps.py\", line 515, in _readFromUrl\n",
      "2023-07-15 21:48:21,580 ERROR       headers=headers, verify=self.auth.verify, cert=self.auth.cert, timeout=timeout)\n",
      "2023-07-15 21:48:21,580 ERROR     File \"/usr/local/lib/python3.6/site-packages/owslib/util.py\", line 209, in openURL\n",
      "2023-07-15 21:48:21,581 ERROR       req.raise_for_status()\n",
      "2023-07-15 21:48:21,581 ERROR     File \"/usr/local/lib/python3.6/site-packages/requests/models.py\", line 960, in raise_for_status\n",
      "2023-07-15 21:48:21,582 ERROR       raise HTTPError(http_error_msg, response=self)\n",
      "2023-07-15 21:48:21,582 ERROR   requests.exceptions.HTTPError: 500 Server Error: INTERNAL SERVER ERROR for url: http://compute.mips.copernicus-climate.eu/wps\n",
      "2023-07-15 21:48:21,703 INFO Welcome to the CDS\n",
      "2023-07-15 21:48:21,704 INFO Sending request to https://cds.climate.copernicus.eu/api/v2/resources/projections-cmip6\n",
      "2023-07-15 21:48:21,750 INFO Request is queued\n"
     ]
    },
    {
     "name": "stdout",
     "output_type": "stream",
     "text": [
      "Some parameters are not matching\n",
      "Test with scenario ssp1_2_6 and model cams_csm1_0\n",
      "path_for_file does not exist: the data may not have been downloaded\n",
      "file_download does not exist: the data were not downloaded\n"
     ]
    },
    {
     "name": "stderr",
     "output_type": "stream",
     "text": [
      "2023-07-15 21:48:22,804 INFO Request is failed\n",
      "2023-07-15 21:48:22,805 ERROR Message: an internal error occurred processing your request\n",
      "2023-07-15 21:48:22,806 ERROR Reason:  execution failed\n",
      "2023-07-15 21:48:22,807 ERROR   Traceback (most recent call last):\n",
      "2023-07-15 21:48:22,808 ERROR     File \"/usr/local/lib/python3.6/site-packages/birdy/client/base.py\", line 386, in _execute\n",
      "2023-07-15 21:48:22,808 ERROR       lineage=self._lineage,\n",
      "2023-07-15 21:48:22,808 ERROR     File \"/usr/local/lib/python3.6/site-packages/owslib/wps.py\", line 359, in execute\n",
      "2023-07-15 21:48:22,810 ERROR       response = execution.submitRequest(request)\n",
      "2023-07-15 21:48:22,811 ERROR     File \"/usr/local/lib/python3.6/site-packages/owslib/wps.py\", line 912, in submitRequest\n",
      "2023-07-15 21:48:22,812 ERROR       self.url, request, method='Post', headers=self.headers)\n",
      "2023-07-15 21:48:22,814 ERROR     File \"/usr/local/lib/python3.6/site-packages/owslib/wps.py\", line 603, in readFromUrl\n",
      "2023-07-15 21:48:22,815 ERROR       headers=headers, verify=verify, cert=cert)\n",
      "2023-07-15 21:48:22,815 ERROR     File \"/usr/local/lib/python3.6/site-packages/owslib/wps.py\", line 515, in _readFromUrl\n",
      "2023-07-15 21:48:22,816 ERROR       headers=headers, verify=self.auth.verify, cert=self.auth.cert, timeout=timeout)\n",
      "2023-07-15 21:48:22,816 ERROR     File \"/usr/local/lib/python3.6/site-packages/owslib/util.py\", line 209, in openURL\n",
      "2023-07-15 21:48:22,818 ERROR       req.raise_for_status()\n",
      "2023-07-15 21:48:22,818 ERROR     File \"/usr/local/lib/python3.6/site-packages/requests/models.py\", line 960, in raise_for_status\n",
      "2023-07-15 21:48:22,820 ERROR       raise HTTPError(http_error_msg, response=self)\n",
      "2023-07-15 21:48:22,820 ERROR   requests.exceptions.HTTPError: 500 Server Error: INTERNAL SERVER ERROR for url: http://compute.mips.copernicus-climate.eu/wps\n",
      "2023-07-15 21:48:22,862 INFO Welcome to the CDS\n",
      "2023-07-15 21:48:22,863 INFO Sending request to https://cds.climate.copernicus.eu/api/v2/resources/projections-cmip6\n",
      "2023-07-15 21:48:22,905 INFO Request is queued\n"
     ]
    },
    {
     "name": "stdout",
     "output_type": "stream",
     "text": [
      "Some parameters are not matching\n",
      "Test with scenario ssp1_2_6 and model canesm5_canoe\n",
      "path_for_file does not exist: the data may not have been downloaded\n",
      "file_download does not exist: the data were not downloaded\n"
     ]
    },
    {
     "name": "stderr",
     "output_type": "stream",
     "text": [
      "2023-07-15 21:48:23,954 INFO Request is failed\n",
      "2023-07-15 21:48:23,955 ERROR Message: an internal error occurred processing your request\n",
      "2023-07-15 21:48:23,956 ERROR Reason:  execution failed\n",
      "2023-07-15 21:48:23,957 ERROR   Traceback (most recent call last):\n",
      "2023-07-15 21:48:23,958 ERROR     File \"/usr/local/lib/python3.6/site-packages/birdy/client/base.py\", line 386, in _execute\n",
      "2023-07-15 21:48:23,959 ERROR       lineage=self._lineage,\n",
      "2023-07-15 21:48:23,959 ERROR     File \"/usr/local/lib/python3.6/site-packages/owslib/wps.py\", line 359, in execute\n",
      "2023-07-15 21:48:23,960 ERROR       response = execution.submitRequest(request)\n",
      "2023-07-15 21:48:23,960 ERROR     File \"/usr/local/lib/python3.6/site-packages/owslib/wps.py\", line 912, in submitRequest\n",
      "2023-07-15 21:48:23,961 ERROR       self.url, request, method='Post', headers=self.headers)\n",
      "2023-07-15 21:48:23,961 ERROR     File \"/usr/local/lib/python3.6/site-packages/owslib/wps.py\", line 603, in readFromUrl\n",
      "2023-07-15 21:48:23,963 ERROR       headers=headers, verify=verify, cert=cert)\n",
      "2023-07-15 21:48:23,964 ERROR     File \"/usr/local/lib/python3.6/site-packages/owslib/wps.py\", line 515, in _readFromUrl\n",
      "2023-07-15 21:48:23,964 ERROR       headers=headers, verify=self.auth.verify, cert=self.auth.cert, timeout=timeout)\n",
      "2023-07-15 21:48:23,965 ERROR     File \"/usr/local/lib/python3.6/site-packages/owslib/util.py\", line 209, in openURL\n",
      "2023-07-15 21:48:23,965 ERROR       req.raise_for_status()\n",
      "2023-07-15 21:48:23,966 ERROR     File \"/usr/local/lib/python3.6/site-packages/requests/models.py\", line 960, in raise_for_status\n",
      "2023-07-15 21:48:23,968 ERROR       raise HTTPError(http_error_msg, response=self)\n",
      "2023-07-15 21:48:23,968 ERROR   requests.exceptions.HTTPError: 500 Server Error: INTERNAL SERVER ERROR for url: http://compute.mips.copernicus-climate.eu/wps\n",
      "2023-07-15 21:48:24,013 INFO Welcome to the CDS\n",
      "2023-07-15 21:48:24,013 INFO Sending request to https://cds.climate.copernicus.eu/api/v2/resources/projections-cmip6\n",
      "2023-07-15 21:48:24,113 INFO Request is queued\n"
     ]
    },
    {
     "name": "stdout",
     "output_type": "stream",
     "text": [
      "Some parameters are not matching\n",
      "Test with scenario ssp1_2_6 and model cesm2_fv2\n",
      "path_for_file does not exist: the data may not have been downloaded\n",
      "file_download does not exist: the data were not downloaded\n"
     ]
    },
    {
     "name": "stderr",
     "output_type": "stream",
     "text": [
      "2023-07-15 21:48:25,154 INFO Request is failed\n",
      "2023-07-15 21:48:25,155 ERROR Message: an internal error occurred processing your request\n",
      "2023-07-15 21:48:25,156 ERROR Reason:  No matching data for request {'experiment': 'ssp126', 'model': 'CESM2-FV2', 'temporal_resolution': 'mon', 'variable': 'rsds'}\n",
      "2023-07-15 21:48:25,157 ERROR   Traceback (most recent call last):\n",
      "2023-07-15 21:48:25,157 ERROR     File \"/opt/cdstoolbox/cdscompute/cdscompute/cdshandlers/services/handler.py\", line 59, in handle_request\n",
      "2023-07-15 21:48:25,158 ERROR       result = cached(context.method, proc, context, context.args, context.kwargs)\n",
      "2023-07-15 21:48:25,158 ERROR     File \"/opt/cdstoolbox/cdscompute/cdscompute/caching.py\", line 108, in cached\n",
      "2023-07-15 21:48:25,159 ERROR       result = proc(context, *context.args, **context.kwargs)\n",
      "2023-07-15 21:48:25,159 ERROR     File \"/opt/cdstoolbox/cdscompute/cdscompute/services.py\", line 124, in __call__\n",
      "2023-07-15 21:48:25,160 ERROR       return p(*args, **kwargs)\n",
      "2023-07-15 21:48:25,160 ERROR     File \"/opt/cdstoolbox/cdscompute/cdscompute/services.py\", line 60, in __call__\n",
      "2023-07-15 21:48:25,161 ERROR       return self.proc(context, *args, **kwargs)\n",
      "2023-07-15 21:48:25,162 ERROR     File \"/home/cds/cdsservices/services/esgf_wps/__init__.py\", line 30, in execute\n",
      "2023-07-15 21:48:25,162 ERROR       request_facets, request = facets.search(context, request)\n",
      "2023-07-15 21:48:25,162 ERROR     File \"/home/cds/cdsservices/services/esgf_wps/facets.py\", line 61, in search\n",
      "2023-07-15 21:48:25,163 ERROR       raise ValueError(f'No matching data for request {tmp_request}')\n",
      "2023-07-15 21:48:25,163 ERROR   ValueError: No matching data for request {'experiment': 'ssp126', 'model': 'CESM2-FV2', 'temporal_resolution': 'mon', 'variable': 'rsds'}\n",
      "2023-07-15 21:48:25,215 INFO Welcome to the CDS\n",
      "2023-07-15 21:48:25,217 INFO Sending request to https://cds.climate.copernicus.eu/api/v2/resources/projections-cmip6\n",
      "2023-07-15 21:48:25,261 INFO Request is queued\n"
     ]
    },
    {
     "name": "stdout",
     "output_type": "stream",
     "text": [
      "Some parameters are not matching\n",
      "Test with scenario ssp1_2_6 and model cesm2_waccm_fv2\n",
      "path_for_file does not exist: the data may not have been downloaded\n",
      "file_download does not exist: the data were not downloaded\n"
     ]
    },
    {
     "name": "stderr",
     "output_type": "stream",
     "text": [
      "2023-07-15 21:48:26,301 INFO Request is failed\n",
      "2023-07-15 21:48:26,302 ERROR Message: an internal error occurred processing your request\n",
      "2023-07-15 21:48:26,303 ERROR Reason:  No matching data for request {'experiment': 'ssp126', 'model': 'CESM2-WACCM-FV2', 'temporal_resolution': 'mon', 'variable': 'rsds'}\n",
      "2023-07-15 21:48:26,303 ERROR   Traceback (most recent call last):\n",
      "2023-07-15 21:48:26,303 ERROR     File \"/opt/cdstoolbox/cdscompute/cdscompute/cdshandlers/services/handler.py\", line 59, in handle_request\n",
      "2023-07-15 21:48:26,304 ERROR       result = cached(context.method, proc, context, context.args, context.kwargs)\n",
      "2023-07-15 21:48:26,305 ERROR     File \"/opt/cdstoolbox/cdscompute/cdscompute/caching.py\", line 108, in cached\n",
      "2023-07-15 21:48:26,307 ERROR       result = proc(context, *context.args, **context.kwargs)\n",
      "2023-07-15 21:48:26,307 ERROR     File \"/opt/cdstoolbox/cdscompute/cdscompute/services.py\", line 124, in __call__\n",
      "2023-07-15 21:48:26,308 ERROR       return p(*args, **kwargs)\n",
      "2023-07-15 21:48:26,309 ERROR     File \"/opt/cdstoolbox/cdscompute/cdscompute/services.py\", line 60, in __call__\n",
      "2023-07-15 21:48:26,310 ERROR       return self.proc(context, *args, **kwargs)\n",
      "2023-07-15 21:48:26,311 ERROR     File \"/home/cds/cdsservices/services/esgf_wps/__init__.py\", line 30, in execute\n",
      "2023-07-15 21:48:26,312 ERROR       request_facets, request = facets.search(context, request)\n",
      "2023-07-15 21:48:26,314 ERROR     File \"/home/cds/cdsservices/services/esgf_wps/facets.py\", line 61, in search\n",
      "2023-07-15 21:48:26,315 ERROR       raise ValueError(f'No matching data for request {tmp_request}')\n",
      "2023-07-15 21:48:26,316 ERROR   ValueError: No matching data for request {'experiment': 'ssp126', 'model': 'CESM2-WACCM-FV2', 'temporal_resolution': 'mon', 'variable': 'rsds'}\n",
      "2023-07-15 21:48:26,353 INFO Welcome to the CDS\n",
      "2023-07-15 21:48:26,354 INFO Sending request to https://cds.climate.copernicus.eu/api/v2/resources/projections-cmip6\n",
      "2023-07-15 21:48:26,415 INFO Request is queued\n"
     ]
    },
    {
     "name": "stdout",
     "output_type": "stream",
     "text": [
      "Some parameters are not matching\n",
      "Test with scenario ssp1_2_6 and model cmcc_cm2_hr4\n",
      "path_for_file does not exist: the data may not have been downloaded\n",
      "file_download does not exist: the data were not downloaded\n"
     ]
    },
    {
     "name": "stderr",
     "output_type": "stream",
     "text": [
      "2023-07-15 21:48:27,468 INFO Request is failed\n",
      "2023-07-15 21:48:27,469 ERROR Message: an internal error occurred processing your request\n",
      "2023-07-15 21:48:27,470 ERROR Reason:  No matching data for request {'experiment': 'ssp126', 'model': 'CMCC-CM2-HR4', 'temporal_resolution': 'mon', 'variable': 'rsds'}\n",
      "2023-07-15 21:48:27,470 ERROR   Traceback (most recent call last):\n",
      "2023-07-15 21:48:27,472 ERROR     File \"/opt/cdstoolbox/cdscompute/cdscompute/cdshandlers/services/handler.py\", line 59, in handle_request\n",
      "2023-07-15 21:48:27,472 ERROR       result = cached(context.method, proc, context, context.args, context.kwargs)\n",
      "2023-07-15 21:48:27,473 ERROR     File \"/opt/cdstoolbox/cdscompute/cdscompute/caching.py\", line 108, in cached\n",
      "2023-07-15 21:48:27,473 ERROR       result = proc(context, *context.args, **context.kwargs)\n",
      "2023-07-15 21:48:27,474 ERROR     File \"/opt/cdstoolbox/cdscompute/cdscompute/services.py\", line 124, in __call__\n",
      "2023-07-15 21:48:27,475 ERROR       return p(*args, **kwargs)\n",
      "2023-07-15 21:48:27,476 ERROR     File \"/opt/cdstoolbox/cdscompute/cdscompute/services.py\", line 60, in __call__\n",
      "2023-07-15 21:48:27,476 ERROR       return self.proc(context, *args, **kwargs)\n",
      "2023-07-15 21:48:27,477 ERROR     File \"/home/cds/cdsservices/services/esgf_wps/__init__.py\", line 30, in execute\n",
      "2023-07-15 21:48:27,477 ERROR       request_facets, request = facets.search(context, request)\n",
      "2023-07-15 21:48:27,477 ERROR     File \"/home/cds/cdsservices/services/esgf_wps/facets.py\", line 61, in search\n",
      "2023-07-15 21:48:27,478 ERROR       raise ValueError(f'No matching data for request {tmp_request}')\n",
      "2023-07-15 21:48:27,480 ERROR   ValueError: No matching data for request {'experiment': 'ssp126', 'model': 'CMCC-CM2-HR4', 'temporal_resolution': 'mon', 'variable': 'rsds'}\n",
      "2023-07-15 21:48:27,522 INFO Welcome to the CDS\n",
      "2023-07-15 21:48:27,523 INFO Sending request to https://cds.climate.copernicus.eu/api/v2/resources/projections-cmip6\n",
      "2023-07-15 21:48:27,577 INFO Request is queued\n"
     ]
    },
    {
     "name": "stdout",
     "output_type": "stream",
     "text": [
      "Some parameters are not matching\n",
      "Test with scenario ssp1_2_6 and model cmcc_esm2\n",
      "path_for_file does not exist: the data may not have been downloaded\n",
      "file_download does not exist: the data were not downloaded\n"
     ]
    },
    {
     "name": "stderr",
     "output_type": "stream",
     "text": [
      "2023-07-15 21:48:28,631 INFO Request is failed\n",
      "2023-07-15 21:48:28,632 ERROR Message: an internal error occurred processing your request\n",
      "2023-07-15 21:48:28,632 ERROR Reason:  execution failed\n",
      "2023-07-15 21:48:28,633 ERROR   Traceback (most recent call last):\n",
      "2023-07-15 21:48:28,633 ERROR     File \"/usr/local/lib/python3.6/site-packages/birdy/client/base.py\", line 386, in _execute\n",
      "2023-07-15 21:48:28,635 ERROR       lineage=self._lineage,\n",
      "2023-07-15 21:48:28,636 ERROR     File \"/usr/local/lib/python3.6/site-packages/owslib/wps.py\", line 359, in execute\n",
      "2023-07-15 21:48:28,637 ERROR       response = execution.submitRequest(request)\n",
      "2023-07-15 21:48:28,638 ERROR     File \"/usr/local/lib/python3.6/site-packages/owslib/wps.py\", line 912, in submitRequest\n",
      "2023-07-15 21:48:28,639 ERROR       self.url, request, method='Post', headers=self.headers)\n",
      "2023-07-15 21:48:28,640 ERROR     File \"/usr/local/lib/python3.6/site-packages/owslib/wps.py\", line 603, in readFromUrl\n",
      "2023-07-15 21:48:28,641 ERROR       headers=headers, verify=verify, cert=cert)\n",
      "2023-07-15 21:48:28,641 ERROR     File \"/usr/local/lib/python3.6/site-packages/owslib/wps.py\", line 515, in _readFromUrl\n",
      "2023-07-15 21:48:28,642 ERROR       headers=headers, verify=self.auth.verify, cert=self.auth.cert, timeout=timeout)\n",
      "2023-07-15 21:48:28,642 ERROR     File \"/usr/local/lib/python3.6/site-packages/owslib/util.py\", line 209, in openURL\n",
      "2023-07-15 21:48:28,643 ERROR       req.raise_for_status()\n",
      "2023-07-15 21:48:28,643 ERROR     File \"/usr/local/lib/python3.6/site-packages/requests/models.py\", line 960, in raise_for_status\n",
      "2023-07-15 21:48:28,644 ERROR       raise HTTPError(http_error_msg, response=self)\n",
      "2023-07-15 21:48:28,644 ERROR   requests.exceptions.HTTPError: 500 Server Error: INTERNAL SERVER ERROR for url: http://compute.mips.copernicus-climate.eu/wps\n",
      "2023-07-15 21:48:28,683 INFO Welcome to the CDS\n",
      "2023-07-15 21:48:28,684 INFO Sending request to https://cds.climate.copernicus.eu/api/v2/resources/projections-cmip6\n",
      "2023-07-15 21:48:28,728 INFO Request is queued\n"
     ]
    },
    {
     "name": "stdout",
     "output_type": "stream",
     "text": [
      "Some parameters are not matching\n",
      "Test with scenario ssp1_2_6 and model cnrm_cm6_1_hr\n",
      "path_for_file does not exist: the data may not have been downloaded\n",
      "file_download does not exist: the data were not downloaded\n"
     ]
    },
    {
     "name": "stderr",
     "output_type": "stream",
     "text": [
      "2023-07-15 21:48:29,779 INFO Request is failed\n",
      "2023-07-15 21:48:29,780 ERROR Message: an internal error occurred processing your request\n",
      "2023-07-15 21:48:29,781 ERROR Reason:  execution failed\n",
      "2023-07-15 21:48:29,781 ERROR   Traceback (most recent call last):\n",
      "2023-07-15 21:48:29,782 ERROR     File \"/usr/local/lib/python3.6/site-packages/birdy/client/base.py\", line 386, in _execute\n",
      "2023-07-15 21:48:29,783 ERROR       lineage=self._lineage,\n",
      "2023-07-15 21:48:29,784 ERROR     File \"/usr/local/lib/python3.6/site-packages/owslib/wps.py\", line 359, in execute\n",
      "2023-07-15 21:48:29,784 ERROR       response = execution.submitRequest(request)\n",
      "2023-07-15 21:48:29,784 ERROR     File \"/usr/local/lib/python3.6/site-packages/owslib/wps.py\", line 912, in submitRequest\n",
      "2023-07-15 21:48:29,784 ERROR       self.url, request, method='Post', headers=self.headers)\n",
      "2023-07-15 21:48:29,786 ERROR     File \"/usr/local/lib/python3.6/site-packages/owslib/wps.py\", line 603, in readFromUrl\n",
      "2023-07-15 21:48:29,786 ERROR       headers=headers, verify=verify, cert=cert)\n",
      "2023-07-15 21:48:29,787 ERROR     File \"/usr/local/lib/python3.6/site-packages/owslib/wps.py\", line 515, in _readFromUrl\n",
      "2023-07-15 21:48:29,787 ERROR       headers=headers, verify=self.auth.verify, cert=self.auth.cert, timeout=timeout)\n",
      "2023-07-15 21:48:29,787 ERROR     File \"/usr/local/lib/python3.6/site-packages/owslib/util.py\", line 209, in openURL\n",
      "2023-07-15 21:48:29,788 ERROR       req.raise_for_status()\n",
      "2023-07-15 21:48:29,788 ERROR     File \"/usr/local/lib/python3.6/site-packages/requests/models.py\", line 960, in raise_for_status\n",
      "2023-07-15 21:48:29,788 ERROR       raise HTTPError(http_error_msg, response=self)\n",
      "2023-07-15 21:48:29,789 ERROR   requests.exceptions.HTTPError: 500 Server Error: INTERNAL SERVER ERROR for url: http://compute.mips.copernicus-climate.eu/wps\n",
      "2023-07-15 21:48:29,827 INFO Welcome to the CDS\n",
      "2023-07-15 21:48:29,829 INFO Sending request to https://cds.climate.copernicus.eu/api/v2/resources/projections-cmip6\n",
      "2023-07-15 21:48:29,874 INFO Request is queued\n"
     ]
    },
    {
     "name": "stdout",
     "output_type": "stream",
     "text": [
      "Some parameters are not matching\n",
      "Test with scenario ssp1_2_6 and model e3sm_1_0\n",
      "path_for_file does not exist: the data may not have been downloaded\n",
      "file_download does not exist: the data were not downloaded\n"
     ]
    },
    {
     "name": "stderr",
     "output_type": "stream",
     "text": [
      "2023-07-15 21:48:30,916 INFO Request is failed\n",
      "2023-07-15 21:48:30,917 ERROR Message: an internal error occurred processing your request\n",
      "2023-07-15 21:48:30,918 ERROR Reason:  No matching data for request {'experiment': 'ssp126', 'model': 'E3SM-1-0', 'temporal_resolution': 'mon', 'variable': 'rsds'}\n",
      "2023-07-15 21:48:30,919 ERROR   Traceback (most recent call last):\n",
      "2023-07-15 21:48:30,919 ERROR     File \"/opt/cdstoolbox/cdscompute/cdscompute/cdshandlers/services/handler.py\", line 59, in handle_request\n",
      "2023-07-15 21:48:30,920 ERROR       result = cached(context.method, proc, context, context.args, context.kwargs)\n",
      "2023-07-15 21:48:30,920 ERROR     File \"/opt/cdstoolbox/cdscompute/cdscompute/caching.py\", line 108, in cached\n",
      "2023-07-15 21:48:30,921 ERROR       result = proc(context, *context.args, **context.kwargs)\n",
      "2023-07-15 21:48:30,922 ERROR     File \"/opt/cdstoolbox/cdscompute/cdscompute/services.py\", line 124, in __call__\n",
      "2023-07-15 21:48:30,923 ERROR       return p(*args, **kwargs)\n",
      "2023-07-15 21:48:30,924 ERROR     File \"/opt/cdstoolbox/cdscompute/cdscompute/services.py\", line 60, in __call__\n",
      "2023-07-15 21:48:30,925 ERROR       return self.proc(context, *args, **kwargs)\n",
      "2023-07-15 21:48:30,926 ERROR     File \"/home/cds/cdsservices/services/esgf_wps/__init__.py\", line 30, in execute\n",
      "2023-07-15 21:48:30,926 ERROR       request_facets, request = facets.search(context, request)\n",
      "2023-07-15 21:48:30,926 ERROR     File \"/home/cds/cdsservices/services/esgf_wps/facets.py\", line 61, in search\n",
      "2023-07-15 21:48:30,927 ERROR       raise ValueError(f'No matching data for request {tmp_request}')\n",
      "2023-07-15 21:48:30,927 ERROR   ValueError: No matching data for request {'experiment': 'ssp126', 'model': 'E3SM-1-0', 'temporal_resolution': 'mon', 'variable': 'rsds'}\n",
      "2023-07-15 21:48:30,967 INFO Welcome to the CDS\n",
      "2023-07-15 21:48:30,968 INFO Sending request to https://cds.climate.copernicus.eu/api/v2/resources/projections-cmip6\n",
      "2023-07-15 21:48:31,012 INFO Request is queued\n"
     ]
    },
    {
     "name": "stdout",
     "output_type": "stream",
     "text": [
      "Some parameters are not matching\n",
      "Test with scenario ssp1_2_6 and model e3sm_1_1_eca\n",
      "path_for_file does not exist: the data may not have been downloaded\n",
      "file_download does not exist: the data were not downloaded\n"
     ]
    },
    {
     "name": "stderr",
     "output_type": "stream",
     "text": [
      "2023-07-15 21:48:32,071 INFO Request is failed\n",
      "2023-07-15 21:48:32,072 ERROR Message: an internal error occurred processing your request\n",
      "2023-07-15 21:48:32,072 ERROR Reason:  No matching data for request {'experiment': 'ssp126', 'model': 'E3SM-1-1-ECA', 'temporal_resolution': 'mon', 'variable': 'rsds'}\n",
      "2023-07-15 21:48:32,073 ERROR   Traceback (most recent call last):\n",
      "2023-07-15 21:48:32,073 ERROR     File \"/opt/cdstoolbox/cdscompute/cdscompute/cdshandlers/services/handler.py\", line 59, in handle_request\n",
      "2023-07-15 21:48:32,075 ERROR       result = cached(context.method, proc, context, context.args, context.kwargs)\n",
      "2023-07-15 21:48:32,075 ERROR     File \"/opt/cdstoolbox/cdscompute/cdscompute/caching.py\", line 108, in cached\n",
      "2023-07-15 21:48:32,076 ERROR       result = proc(context, *context.args, **context.kwargs)\n",
      "2023-07-15 21:48:32,076 ERROR     File \"/opt/cdstoolbox/cdscompute/cdscompute/services.py\", line 124, in __call__\n",
      "2023-07-15 21:48:32,076 ERROR       return p(*args, **kwargs)\n",
      "2023-07-15 21:48:32,077 ERROR     File \"/opt/cdstoolbox/cdscompute/cdscompute/services.py\", line 60, in __call__\n",
      "2023-07-15 21:48:32,078 ERROR       return self.proc(context, *args, **kwargs)\n",
      "2023-07-15 21:48:32,078 ERROR     File \"/home/cds/cdsservices/services/esgf_wps/__init__.py\", line 30, in execute\n",
      "2023-07-15 21:48:32,079 ERROR       request_facets, request = facets.search(context, request)\n",
      "2023-07-15 21:48:32,079 ERROR     File \"/home/cds/cdsservices/services/esgf_wps/facets.py\", line 61, in search\n",
      "2023-07-15 21:48:32,080 ERROR       raise ValueError(f'No matching data for request {tmp_request}')\n",
      "2023-07-15 21:48:32,080 ERROR   ValueError: No matching data for request {'experiment': 'ssp126', 'model': 'E3SM-1-1-ECA', 'temporal_resolution': 'mon', 'variable': 'rsds'}\n",
      "2023-07-15 21:48:32,122 INFO Welcome to the CDS\n",
      "2023-07-15 21:48:32,123 INFO Sending request to https://cds.climate.copernicus.eu/api/v2/resources/projections-cmip6\n",
      "2023-07-15 21:48:32,181 INFO Request is queued\n"
     ]
    },
    {
     "name": "stdout",
     "output_type": "stream",
     "text": [
      "Some parameters are not matching\n",
      "Test with scenario ssp1_2_6 and model ec_earth3_aerchem\n",
      "path_for_file does not exist: the data may not have been downloaded\n",
      "file_download does not exist: the data were not downloaded\n"
     ]
    },
    {
     "name": "stderr",
     "output_type": "stream",
     "text": [
      "2023-07-15 21:48:33,229 INFO Request is failed\n",
      "2023-07-15 21:48:33,230 ERROR Message: an internal error occurred processing your request\n",
      "2023-07-15 21:48:33,231 ERROR Reason:  No matching data for request {'experiment': 'ssp126', 'model': 'EC-Earth3-AerChem', 'temporal_resolution': 'mon', 'variable': 'rsds'}\n",
      "2023-07-15 21:48:33,232 ERROR   Traceback (most recent call last):\n",
      "2023-07-15 21:48:33,233 ERROR     File \"/opt/cdstoolbox/cdscompute/cdscompute/cdshandlers/services/handler.py\", line 59, in handle_request\n",
      "2023-07-15 21:48:33,234 ERROR       result = cached(context.method, proc, context, context.args, context.kwargs)\n",
      "2023-07-15 21:48:33,235 ERROR     File \"/opt/cdstoolbox/cdscompute/cdscompute/caching.py\", line 108, in cached\n",
      "2023-07-15 21:48:33,235 ERROR       result = proc(context, *context.args, **context.kwargs)\n",
      "2023-07-15 21:48:33,236 ERROR     File \"/opt/cdstoolbox/cdscompute/cdscompute/services.py\", line 124, in __call__\n",
      "2023-07-15 21:48:33,237 ERROR       return p(*args, **kwargs)\n",
      "2023-07-15 21:48:33,237 ERROR     File \"/opt/cdstoolbox/cdscompute/cdscompute/services.py\", line 60, in __call__\n",
      "2023-07-15 21:48:33,238 ERROR       return self.proc(context, *args, **kwargs)\n",
      "2023-07-15 21:48:33,238 ERROR     File \"/home/cds/cdsservices/services/esgf_wps/__init__.py\", line 30, in execute\n",
      "2023-07-15 21:48:33,239 ERROR       request_facets, request = facets.search(context, request)\n",
      "2023-07-15 21:48:33,240 ERROR     File \"/home/cds/cdsservices/services/esgf_wps/facets.py\", line 61, in search\n",
      "2023-07-15 21:48:33,240 ERROR       raise ValueError(f'No matching data for request {tmp_request}')\n",
      "2023-07-15 21:48:33,240 ERROR   ValueError: No matching data for request {'experiment': 'ssp126', 'model': 'EC-Earth3-AerChem', 'temporal_resolution': 'mon', 'variable': 'rsds'}\n",
      "2023-07-15 21:48:33,279 INFO Welcome to the CDS\n",
      "2023-07-15 21:48:33,281 INFO Sending request to https://cds.climate.copernicus.eu/api/v2/resources/projections-cmip6\n",
      "2023-07-15 21:48:33,376 INFO Request is queued\n"
     ]
    },
    {
     "name": "stdout",
     "output_type": "stream",
     "text": [
      "Some parameters are not matching\n",
      "Test with scenario ssp1_2_6 and model ec_earth3_veg\n",
      "path_for_file does not exist: the data may not have been downloaded\n",
      "file_download does not exist: the data were not downloaded\n"
     ]
    },
    {
     "name": "stderr",
     "output_type": "stream",
     "text": [
      "2023-07-15 21:48:34,431 INFO Request is failed\n",
      "2023-07-15 21:48:34,433 ERROR Message: an internal error occurred processing your request\n",
      "2023-07-15 21:48:34,435 ERROR Reason:  No matching data for request {'experiment': 'ssp126', 'model': 'EC-Earth3-Veg', 'temporal_resolution': 'mon', 'variable': 'rsds'}\n",
      "2023-07-15 21:48:34,437 ERROR   Traceback (most recent call last):\n",
      "2023-07-15 21:48:34,438 ERROR     File \"/opt/cdstoolbox/cdscompute/cdscompute/cdshandlers/services/handler.py\", line 59, in handle_request\n",
      "2023-07-15 21:48:34,440 ERROR       result = cached(context.method, proc, context, context.args, context.kwargs)\n",
      "2023-07-15 21:48:34,441 ERROR     File \"/opt/cdstoolbox/cdscompute/cdscompute/caching.py\", line 108, in cached\n",
      "2023-07-15 21:48:34,442 ERROR       result = proc(context, *context.args, **context.kwargs)\n",
      "2023-07-15 21:48:34,443 ERROR     File \"/opt/cdstoolbox/cdscompute/cdscompute/services.py\", line 124, in __call__\n",
      "2023-07-15 21:48:34,444 ERROR       return p(*args, **kwargs)\n",
      "2023-07-15 21:48:34,445 ERROR     File \"/opt/cdstoolbox/cdscompute/cdscompute/services.py\", line 60, in __call__\n",
      "2023-07-15 21:48:34,445 ERROR       return self.proc(context, *args, **kwargs)\n",
      "2023-07-15 21:48:34,446 ERROR     File \"/home/cds/cdsservices/services/esgf_wps/__init__.py\", line 30, in execute\n",
      "2023-07-15 21:48:34,447 ERROR       request_facets, request = facets.search(context, request)\n",
      "2023-07-15 21:48:34,448 ERROR     File \"/home/cds/cdsservices/services/esgf_wps/facets.py\", line 61, in search\n",
      "2023-07-15 21:48:34,449 ERROR       raise ValueError(f'No matching data for request {tmp_request}')\n",
      "2023-07-15 21:48:34,450 ERROR   ValueError: No matching data for request {'experiment': 'ssp126', 'model': 'EC-Earth3-Veg', 'temporal_resolution': 'mon', 'variable': 'rsds'}\n",
      "2023-07-15 21:48:34,488 INFO Welcome to the CDS\n",
      "2023-07-15 21:48:34,489 INFO Sending request to https://cds.climate.copernicus.eu/api/v2/resources/projections-cmip6\n",
      "2023-07-15 21:48:34,532 INFO Request is queued\n"
     ]
    },
    {
     "name": "stdout",
     "output_type": "stream",
     "text": [
      "Some parameters are not matching\n",
      "Test with scenario ssp1_2_6 and model fgoals_f3_l\n",
      "path_for_file does not exist: the data may not have been downloaded\n",
      "file_download does not exist: the data were not downloaded\n"
     ]
    },
    {
     "name": "stderr",
     "output_type": "stream",
     "text": [
      "2023-07-15 21:48:35,583 INFO Request is failed\n",
      "2023-07-15 21:48:35,585 ERROR Message: an internal error occurred processing your request\n",
      "2023-07-15 21:48:35,586 ERROR Reason:  execution failed\n",
      "2023-07-15 21:48:35,586 ERROR   Traceback (most recent call last):\n",
      "2023-07-15 21:48:35,587 ERROR     File \"/usr/local/lib/python3.6/site-packages/birdy/client/base.py\", line 386, in _execute\n",
      "2023-07-15 21:48:35,588 ERROR       lineage=self._lineage,\n",
      "2023-07-15 21:48:35,588 ERROR     File \"/usr/local/lib/python3.6/site-packages/owslib/wps.py\", line 359, in execute\n",
      "2023-07-15 21:48:35,589 ERROR       response = execution.submitRequest(request)\n",
      "2023-07-15 21:48:35,590 ERROR     File \"/usr/local/lib/python3.6/site-packages/owslib/wps.py\", line 912, in submitRequest\n",
      "2023-07-15 21:48:35,590 ERROR       self.url, request, method='Post', headers=self.headers)\n",
      "2023-07-15 21:48:35,591 ERROR     File \"/usr/local/lib/python3.6/site-packages/owslib/wps.py\", line 603, in readFromUrl\n",
      "2023-07-15 21:48:35,592 ERROR       headers=headers, verify=verify, cert=cert)\n",
      "2023-07-15 21:48:35,592 ERROR     File \"/usr/local/lib/python3.6/site-packages/owslib/wps.py\", line 515, in _readFromUrl\n",
      "2023-07-15 21:48:35,593 ERROR       headers=headers, verify=self.auth.verify, cert=self.auth.cert, timeout=timeout)\n",
      "2023-07-15 21:48:35,594 ERROR     File \"/usr/local/lib/python3.6/site-packages/owslib/util.py\", line 209, in openURL\n",
      "2023-07-15 21:48:35,595 ERROR       req.raise_for_status()\n",
      "2023-07-15 21:48:35,596 ERROR     File \"/usr/local/lib/python3.6/site-packages/requests/models.py\", line 960, in raise_for_status\n",
      "2023-07-15 21:48:35,597 ERROR       raise HTTPError(http_error_msg, response=self)\n",
      "2023-07-15 21:48:35,597 ERROR   requests.exceptions.HTTPError: 500 Server Error: INTERNAL SERVER ERROR for url: http://compute.mips.copernicus-climate.eu/wps\n",
      "2023-07-15 21:48:35,639 INFO Welcome to the CDS\n",
      "2023-07-15 21:48:35,640 INFO Sending request to https://cds.climate.copernicus.eu/api/v2/resources/projections-cmip6\n",
      "2023-07-15 21:48:35,710 INFO Request is queued\n"
     ]
    },
    {
     "name": "stdout",
     "output_type": "stream",
     "text": [
      "Some parameters are not matching\n",
      "Test with scenario ssp1_2_6 and model fio_esm_2_0\n",
      "path_for_file does not exist: the data may not have been downloaded\n",
      "file_download does not exist: the data were not downloaded\n"
     ]
    },
    {
     "name": "stderr",
     "output_type": "stream",
     "text": [
      "2023-07-15 21:48:36,751 INFO Request is failed\n",
      "2023-07-15 21:48:36,753 ERROR Message: an internal error occurred processing your request\n",
      "2023-07-15 21:48:36,753 ERROR Reason:  execution failed\n",
      "2023-07-15 21:48:36,754 ERROR   Traceback (most recent call last):\n",
      "2023-07-15 21:48:36,755 ERROR     File \"/usr/local/lib/python3.6/site-packages/birdy/client/base.py\", line 386, in _execute\n",
      "2023-07-15 21:48:36,755 ERROR       lineage=self._lineage,\n",
      "2023-07-15 21:48:36,756 ERROR     File \"/usr/local/lib/python3.6/site-packages/owslib/wps.py\", line 359, in execute\n",
      "2023-07-15 21:48:36,756 ERROR       response = execution.submitRequest(request)\n",
      "2023-07-15 21:48:36,757 ERROR     File \"/usr/local/lib/python3.6/site-packages/owslib/wps.py\", line 912, in submitRequest\n",
      "2023-07-15 21:48:36,758 ERROR       self.url, request, method='Post', headers=self.headers)\n",
      "2023-07-15 21:48:36,758 ERROR     File \"/usr/local/lib/python3.6/site-packages/owslib/wps.py\", line 603, in readFromUrl\n",
      "2023-07-15 21:48:36,758 ERROR       headers=headers, verify=verify, cert=cert)\n",
      "2023-07-15 21:48:36,759 ERROR     File \"/usr/local/lib/python3.6/site-packages/owslib/wps.py\", line 515, in _readFromUrl\n",
      "2023-07-15 21:48:36,759 ERROR       headers=headers, verify=self.auth.verify, cert=self.auth.cert, timeout=timeout)\n",
      "2023-07-15 21:48:36,761 ERROR     File \"/usr/local/lib/python3.6/site-packages/owslib/util.py\", line 209, in openURL\n",
      "2023-07-15 21:48:36,761 ERROR       req.raise_for_status()\n",
      "2023-07-15 21:48:36,762 ERROR     File \"/usr/local/lib/python3.6/site-packages/requests/models.py\", line 960, in raise_for_status\n",
      "2023-07-15 21:48:36,762 ERROR       raise HTTPError(http_error_msg, response=self)\n",
      "2023-07-15 21:48:36,763 ERROR   requests.exceptions.HTTPError: 500 Server Error: INTERNAL SERVER ERROR for url: http://compute.mips.copernicus-climate.eu/wps\n",
      "2023-07-15 21:48:36,800 INFO Welcome to the CDS\n",
      "2023-07-15 21:48:36,801 INFO Sending request to https://cds.climate.copernicus.eu/api/v2/resources/projections-cmip6\n",
      "2023-07-15 21:48:36,846 INFO Request is queued\n"
     ]
    },
    {
     "name": "stdout",
     "output_type": "stream",
     "text": [
      "Some parameters are not matching\n",
      "Test with scenario ssp1_2_6 and model giss_e2_1_g\n",
      "path_for_file does not exist: the data may not have been downloaded\n",
      "file_download does not exist: the data were not downloaded\n"
     ]
    },
    {
     "name": "stderr",
     "output_type": "stream",
     "text": [
      "2023-07-15 21:48:37,898 INFO Request is failed\n",
      "2023-07-15 21:48:37,899 ERROR Message: an internal error occurred processing your request\n",
      "2023-07-15 21:48:37,900 ERROR Reason:  No matching data for request {'experiment': 'ssp126', 'model': 'GISS-E2-1-G', 'temporal_resolution': 'mon', 'variable': 'rsds'}\n",
      "2023-07-15 21:48:37,900 ERROR   Traceback (most recent call last):\n",
      "2023-07-15 21:48:37,900 ERROR     File \"/opt/cdstoolbox/cdscompute/cdscompute/cdshandlers/services/handler.py\", line 59, in handle_request\n",
      "2023-07-15 21:48:37,901 ERROR       result = cached(context.method, proc, context, context.args, context.kwargs)\n",
      "2023-07-15 21:48:37,902 ERROR     File \"/opt/cdstoolbox/cdscompute/cdscompute/caching.py\", line 108, in cached\n",
      "2023-07-15 21:48:37,902 ERROR       result = proc(context, *context.args, **context.kwargs)\n",
      "2023-07-15 21:48:37,903 ERROR     File \"/opt/cdstoolbox/cdscompute/cdscompute/services.py\", line 124, in __call__\n",
      "2023-07-15 21:48:37,904 ERROR       return p(*args, **kwargs)\n",
      "2023-07-15 21:48:37,904 ERROR     File \"/opt/cdstoolbox/cdscompute/cdscompute/services.py\", line 60, in __call__\n",
      "2023-07-15 21:48:37,906 ERROR       return self.proc(context, *args, **kwargs)\n",
      "2023-07-15 21:48:37,906 ERROR     File \"/home/cds/cdsservices/services/esgf_wps/__init__.py\", line 30, in execute\n",
      "2023-07-15 21:48:37,907 ERROR       request_facets, request = facets.search(context, request)\n",
      "2023-07-15 21:48:37,908 ERROR     File \"/home/cds/cdsservices/services/esgf_wps/facets.py\", line 61, in search\n",
      "2023-07-15 21:48:37,908 ERROR       raise ValueError(f'No matching data for request {tmp_request}')\n",
      "2023-07-15 21:48:37,908 ERROR   ValueError: No matching data for request {'experiment': 'ssp126', 'model': 'GISS-E2-1-G', 'temporal_resolution': 'mon', 'variable': 'rsds'}\n",
      "2023-07-15 21:48:37,951 INFO Welcome to the CDS\n",
      "2023-07-15 21:48:37,952 INFO Sending request to https://cds.climate.copernicus.eu/api/v2/resources/projections-cmip6\n",
      "2023-07-15 21:48:38,040 INFO Request is queued\n"
     ]
    },
    {
     "name": "stdout",
     "output_type": "stream",
     "text": [
      "Some parameters are not matching\n",
      "Test with scenario ssp1_2_6 and model hadgem3_gc31_ll\n",
      "path_for_file does not exist: the data may not have been downloaded\n",
      "file_download does not exist: the data were not downloaded\n"
     ]
    },
    {
     "name": "stderr",
     "output_type": "stream",
     "text": [
      "2023-07-15 21:48:39,091 INFO Request is failed\n",
      "2023-07-15 21:48:39,091 ERROR Message: an internal error occurred processing your request\n",
      "2023-07-15 21:48:39,093 ERROR Reason:  execution failed\n",
      "2023-07-15 21:48:39,094 ERROR   Traceback (most recent call last):\n",
      "2023-07-15 21:48:39,095 ERROR     File \"/usr/local/lib/python3.6/site-packages/birdy/client/base.py\", line 386, in _execute\n",
      "2023-07-15 21:48:39,095 ERROR       lineage=self._lineage,\n",
      "2023-07-15 21:48:39,096 ERROR     File \"/usr/local/lib/python3.6/site-packages/owslib/wps.py\", line 359, in execute\n",
      "2023-07-15 21:48:39,097 ERROR       response = execution.submitRequest(request)\n",
      "2023-07-15 21:48:39,097 ERROR     File \"/usr/local/lib/python3.6/site-packages/owslib/wps.py\", line 912, in submitRequest\n",
      "2023-07-15 21:48:39,097 ERROR       self.url, request, method='Post', headers=self.headers)\n",
      "2023-07-15 21:48:39,098 ERROR     File \"/usr/local/lib/python3.6/site-packages/owslib/wps.py\", line 603, in readFromUrl\n",
      "2023-07-15 21:48:39,098 ERROR       headers=headers, verify=verify, cert=cert)\n",
      "2023-07-15 21:48:39,098 ERROR     File \"/usr/local/lib/python3.6/site-packages/owslib/wps.py\", line 515, in _readFromUrl\n",
      "2023-07-15 21:48:39,100 ERROR       headers=headers, verify=self.auth.verify, cert=self.auth.cert, timeout=timeout)\n",
      "2023-07-15 21:48:39,100 ERROR     File \"/usr/local/lib/python3.6/site-packages/owslib/util.py\", line 209, in openURL\n",
      "2023-07-15 21:48:39,101 ERROR       req.raise_for_status()\n",
      "2023-07-15 21:48:39,101 ERROR     File \"/usr/local/lib/python3.6/site-packages/requests/models.py\", line 960, in raise_for_status\n",
      "2023-07-15 21:48:39,101 ERROR       raise HTTPError(http_error_msg, response=self)\n",
      "2023-07-15 21:48:39,101 ERROR   requests.exceptions.HTTPError: 500 Server Error: INTERNAL SERVER ERROR for url: http://compute.mips.copernicus-climate.eu/wps\n",
      "2023-07-15 21:48:39,140 INFO Welcome to the CDS\n",
      "2023-07-15 21:48:39,141 INFO Sending request to https://cds.climate.copernicus.eu/api/v2/resources/projections-cmip6\n",
      "2023-07-15 21:48:39,241 INFO Request is queued\n"
     ]
    },
    {
     "name": "stdout",
     "output_type": "stream",
     "text": [
      "Some parameters are not matching\n",
      "Test with scenario ssp1_2_6 and model iitm_esm\n",
      "path_for_file does not exist: the data may not have been downloaded\n",
      "file_download does not exist: the data were not downloaded\n"
     ]
    },
    {
     "name": "stderr",
     "output_type": "stream",
     "text": [
      "2023-07-15 21:48:40,295 INFO Request is failed\n",
      "2023-07-15 21:48:40,296 ERROR Message: an internal error occurred processing your request\n",
      "2023-07-15 21:48:40,296 ERROR Reason:  execution failed\n",
      "2023-07-15 21:48:40,297 ERROR   Traceback (most recent call last):\n",
      "2023-07-15 21:48:40,297 ERROR     File \"/usr/local/lib/python3.6/site-packages/birdy/client/base.py\", line 386, in _execute\n",
      "2023-07-15 21:48:40,298 ERROR       lineage=self._lineage,\n",
      "2023-07-15 21:48:40,299 ERROR     File \"/usr/local/lib/python3.6/site-packages/owslib/wps.py\", line 359, in execute\n",
      "2023-07-15 21:48:40,299 ERROR       response = execution.submitRequest(request)\n",
      "2023-07-15 21:48:40,299 ERROR     File \"/usr/local/lib/python3.6/site-packages/owslib/wps.py\", line 912, in submitRequest\n",
      "2023-07-15 21:48:40,300 ERROR       self.url, request, method='Post', headers=self.headers)\n",
      "2023-07-15 21:48:40,301 ERROR     File \"/usr/local/lib/python3.6/site-packages/owslib/wps.py\", line 603, in readFromUrl\n",
      "2023-07-15 21:48:40,302 ERROR       headers=headers, verify=verify, cert=cert)\n",
      "2023-07-15 21:48:40,302 ERROR     File \"/usr/local/lib/python3.6/site-packages/owslib/wps.py\", line 515, in _readFromUrl\n",
      "2023-07-15 21:48:40,303 ERROR       headers=headers, verify=self.auth.verify, cert=self.auth.cert, timeout=timeout)\n",
      "2023-07-15 21:48:40,303 ERROR     File \"/usr/local/lib/python3.6/site-packages/owslib/util.py\", line 209, in openURL\n",
      "2023-07-15 21:48:40,304 ERROR       req.raise_for_status()\n",
      "2023-07-15 21:48:40,304 ERROR     File \"/usr/local/lib/python3.6/site-packages/requests/models.py\", line 960, in raise_for_status\n",
      "2023-07-15 21:48:40,306 ERROR       raise HTTPError(http_error_msg, response=self)\n",
      "2023-07-15 21:48:40,306 ERROR   requests.exceptions.HTTPError: 500 Server Error: INTERNAL SERVER ERROR for url: http://compute.mips.copernicus-climate.eu/wps\n",
      "2023-07-15 21:48:40,347 INFO Welcome to the CDS\n",
      "2023-07-15 21:48:40,348 INFO Sending request to https://cds.climate.copernicus.eu/api/v2/resources/projections-cmip6\n",
      "2023-07-15 21:48:40,393 INFO Request is queued\n"
     ]
    },
    {
     "name": "stdout",
     "output_type": "stream",
     "text": [
      "Some parameters are not matching\n",
      "Test with scenario ssp1_2_6 and model inm_cm5_0\n",
      "path_for_file does not exist: the data may not have been downloaded\n",
      "file_download does not exist: the data were not downloaded\n"
     ]
    },
    {
     "name": "stderr",
     "output_type": "stream",
     "text": [
      "2023-07-15 21:48:41,445 INFO Request is failed\n",
      "2023-07-15 21:48:41,446 ERROR Message: an internal error occurred processing your request\n",
      "2023-07-15 21:48:41,447 ERROR Reason:  execution failed\n",
      "2023-07-15 21:48:41,448 ERROR   Traceback (most recent call last):\n",
      "2023-07-15 21:48:41,450 ERROR     File \"/usr/local/lib/python3.6/site-packages/birdy/client/base.py\", line 386, in _execute\n",
      "2023-07-15 21:48:41,450 ERROR       lineage=self._lineage,\n",
      "2023-07-15 21:48:41,451 ERROR     File \"/usr/local/lib/python3.6/site-packages/owslib/wps.py\", line 359, in execute\n",
      "2023-07-15 21:48:41,452 ERROR       response = execution.submitRequest(request)\n",
      "2023-07-15 21:48:41,452 ERROR     File \"/usr/local/lib/python3.6/site-packages/owslib/wps.py\", line 912, in submitRequest\n",
      "2023-07-15 21:48:41,453 ERROR       self.url, request, method='Post', headers=self.headers)\n",
      "2023-07-15 21:48:41,453 ERROR     File \"/usr/local/lib/python3.6/site-packages/owslib/wps.py\", line 603, in readFromUrl\n",
      "2023-07-15 21:48:41,454 ERROR       headers=headers, verify=verify, cert=cert)\n",
      "2023-07-15 21:48:41,455 ERROR     File \"/usr/local/lib/python3.6/site-packages/owslib/wps.py\", line 515, in _readFromUrl\n",
      "2023-07-15 21:48:41,455 ERROR       headers=headers, verify=self.auth.verify, cert=self.auth.cert, timeout=timeout)\n",
      "2023-07-15 21:48:41,456 ERROR     File \"/usr/local/lib/python3.6/site-packages/owslib/util.py\", line 209, in openURL\n",
      "2023-07-15 21:48:41,456 ERROR       req.raise_for_status()\n",
      "2023-07-15 21:48:41,457 ERROR     File \"/usr/local/lib/python3.6/site-packages/requests/models.py\", line 960, in raise_for_status\n",
      "2023-07-15 21:48:41,458 ERROR       raise HTTPError(http_error_msg, response=self)\n",
      "2023-07-15 21:48:41,458 ERROR   requests.exceptions.HTTPError: 500 Server Error: INTERNAL SERVER ERROR for url: http://compute.mips.copernicus-climate.eu/wps\n",
      "2023-07-15 21:48:41,497 INFO Welcome to the CDS\n",
      "2023-07-15 21:48:41,498 INFO Sending request to https://cds.climate.copernicus.eu/api/v2/resources/projections-cmip6\n",
      "2023-07-15 21:48:41,568 INFO Request is queued\n"
     ]
    },
    {
     "name": "stdout",
     "output_type": "stream",
     "text": [
      "Some parameters are not matching\n",
      "Test with scenario ssp1_2_6 and model ipsl_cm6a_lr\n",
      "path_for_file does not exist: the data may not have been downloaded\n",
      "file_download does not exist: the data were not downloaded\n"
     ]
    },
    {
     "name": "stderr",
     "output_type": "stream",
     "text": [
      "2023-07-15 21:48:42,618 INFO Request is failed\n",
      "2023-07-15 21:48:42,620 ERROR Message: an internal error occurred processing your request\n",
      "2023-07-15 21:48:42,621 ERROR Reason:  execution failed\n",
      "2023-07-15 21:48:42,622 ERROR   Traceback (most recent call last):\n",
      "2023-07-15 21:48:42,622 ERROR     File \"/usr/local/lib/python3.6/site-packages/birdy/client/base.py\", line 386, in _execute\n",
      "2023-07-15 21:48:42,623 ERROR       lineage=self._lineage,\n",
      "2023-07-15 21:48:42,623 ERROR     File \"/usr/local/lib/python3.6/site-packages/owslib/wps.py\", line 359, in execute\n",
      "2023-07-15 21:48:42,624 ERROR       response = execution.submitRequest(request)\n",
      "2023-07-15 21:48:42,625 ERROR     File \"/usr/local/lib/python3.6/site-packages/owslib/wps.py\", line 912, in submitRequest\n",
      "2023-07-15 21:48:42,625 ERROR       self.url, request, method='Post', headers=self.headers)\n",
      "2023-07-15 21:48:42,625 ERROR     File \"/usr/local/lib/python3.6/site-packages/owslib/wps.py\", line 603, in readFromUrl\n",
      "2023-07-15 21:48:42,626 ERROR       headers=headers, verify=verify, cert=cert)\n",
      "2023-07-15 21:48:42,627 ERROR     File \"/usr/local/lib/python3.6/site-packages/owslib/wps.py\", line 515, in _readFromUrl\n",
      "2023-07-15 21:48:42,628 ERROR       headers=headers, verify=self.auth.verify, cert=self.auth.cert, timeout=timeout)\n",
      "2023-07-15 21:48:42,629 ERROR     File \"/usr/local/lib/python3.6/site-packages/owslib/util.py\", line 209, in openURL\n",
      "2023-07-15 21:48:42,629 ERROR       req.raise_for_status()\n",
      "2023-07-15 21:48:42,629 ERROR     File \"/usr/local/lib/python3.6/site-packages/requests/models.py\", line 960, in raise_for_status\n",
      "2023-07-15 21:48:42,630 ERROR       raise HTTPError(http_error_msg, response=self)\n",
      "2023-07-15 21:48:42,630 ERROR   requests.exceptions.HTTPError: 500 Server Error: INTERNAL SERVER ERROR for url: http://compute.mips.copernicus-climate.eu/wps\n",
      "2023-07-15 21:48:42,668 INFO Welcome to the CDS\n",
      "2023-07-15 21:48:42,669 INFO Sending request to https://cds.climate.copernicus.eu/api/v2/resources/projections-cmip6\n",
      "2023-07-15 21:48:42,753 INFO Request is queued\n"
     ]
    },
    {
     "name": "stdout",
     "output_type": "stream",
     "text": [
      "Some parameters are not matching\n",
      "Test with scenario ssp1_2_6 and model kiost_esm\n",
      "path_for_file does not exist: the data may not have been downloaded\n",
      "file_download does not exist: the data were not downloaded\n"
     ]
    },
    {
     "name": "stderr",
     "output_type": "stream",
     "text": [
      "2023-07-15 21:48:43,794 INFO Request is running\n",
      "2023-07-15 21:48:56,149 INFO Request is completed\n",
      "2023-07-15 21:48:56,150 INFO Downloading https://download-0008-clone.copernicus-climate.eu/cache-compute-0008/cache/data4/adaptor.esgf_wps.retrieve-1689450533.357586-22361-11-383bc605-d89a-434f-b44b-abaf97303e44.zip to download.zip (555.8K)\n",
      "2023-07-15 21:48:56,696 INFO Download rate 1020.7K/s                                                                   \n"
     ]
    },
    {
     "name": "stdout",
     "output_type": "stream",
     "text": [
      "The file has been download\n",
      "\\\\COWI.net\\projects\\A245000\\A248363\\CRVA\\Datasets\\radiation\\surface_downwelling_shortwave_radiation\\Copernicus-CMIP6\\raw_data\\2015-2100\\ssp1_2_6\\kiost_esm\\all-Mozambique\n",
      "Path for the file is created, did not existed before\n"
     ]
    },
    {
     "name": "stderr",
     "output_type": "stream",
     "text": [
      "2023-07-15 21:48:57,721 INFO Welcome to the CDS\n",
      "2023-07-15 21:48:57,722 INFO Sending request to https://cds.climate.copernicus.eu/api/v2/resources/projections-cmip6\n",
      "2023-07-15 21:48:57,771 INFO Request is queued\n"
     ]
    },
    {
     "name": "stdout",
     "output_type": "stream",
     "text": [
      "the file named rsds_Amon_KIOST-ESM_ssp126_r1i1p1f1_gr1_20150117-21001217_v20191106.nc was moved\n",
      "\n",
      " The downloaded file is extracted\n",
      "The file has been extracted\n",
      "Test with scenario ssp1_2_6 and model miroc6\n",
      "path_for_file does not exist: the data may not have been downloaded\n",
      "file_download does not exist: the data were not downloaded\n"
     ]
    },
    {
     "name": "stderr",
     "output_type": "stream",
     "text": [
      "2023-07-15 21:48:58,814 INFO Request is running\n",
      "2023-07-15 21:49:06,069 INFO Request is completed\n",
      "2023-07-15 21:49:06,070 INFO Downloading https://download-0008-clone.copernicus-climate.eu/cache-compute-0008/cache/data4/adaptor.esgf_wps.retrieve-1689450545.217594-22437-11-ecc115e4-73c8-4cc2-b6e3-8ea349e4ae11.zip to download.zip (690.3K)\n",
      "2023-07-15 21:49:06,249 INFO Download rate 3.8M/s                                                                      \n"
     ]
    },
    {
     "name": "stdout",
     "output_type": "stream",
     "text": [
      "The file has been download\n",
      "\\\\COWI.net\\projects\\A245000\\A248363\\CRVA\\Datasets\\radiation\\surface_downwelling_shortwave_radiation\\Copernicus-CMIP6\\raw_data\\2015-2100\\ssp1_2_6\\miroc6\\all-Mozambique\n",
      "Path for the file is created, did not existed before\n"
     ]
    },
    {
     "name": "stderr",
     "output_type": "stream",
     "text": [
      "2023-07-15 21:49:07,142 INFO Welcome to the CDS\n",
      "2023-07-15 21:49:07,143 INFO Sending request to https://cds.climate.copernicus.eu/api/v2/resources/projections-cmip6\n",
      "2023-07-15 21:49:07,187 INFO Request is queued\n"
     ]
    },
    {
     "name": "stdout",
     "output_type": "stream",
     "text": [
      "the file named rsds_Amon_MIROC6_ssp126_r1i1p1f1_gn_20150116-21001216_v20190627.nc was moved\n",
      "\n",
      " The downloaded file is extracted\n",
      "The file has been extracted\n",
      "Test with scenario ssp1_2_6 and model miroc_es2l\n",
      "path_for_file does not exist: the data may not have been downloaded\n",
      "file_download does not exist: the data were not downloaded\n"
     ]
    },
    {
     "name": "stderr",
     "output_type": "stream",
     "text": [
      "2023-07-15 21:49:08,232 INFO Request is failed\n",
      "2023-07-15 21:49:08,233 ERROR Message: an internal error occurred processing your request\n",
      "2023-07-15 21:49:08,234 ERROR Reason:  execution failed\n",
      "2023-07-15 21:49:08,235 ERROR   Traceback (most recent call last):\n",
      "2023-07-15 21:49:08,235 ERROR     File \"/usr/local/lib/python3.6/site-packages/birdy/client/base.py\", line 386, in _execute\n",
      "2023-07-15 21:49:08,236 ERROR       lineage=self._lineage,\n",
      "2023-07-15 21:49:08,237 ERROR     File \"/usr/local/lib/python3.6/site-packages/owslib/wps.py\", line 359, in execute\n",
      "2023-07-15 21:49:08,238 ERROR       response = execution.submitRequest(request)\n",
      "2023-07-15 21:49:08,239 ERROR     File \"/usr/local/lib/python3.6/site-packages/owslib/wps.py\", line 912, in submitRequest\n",
      "2023-07-15 21:49:08,239 ERROR       self.url, request, method='Post', headers=self.headers)\n",
      "2023-07-15 21:49:08,239 ERROR     File \"/usr/local/lib/python3.6/site-packages/owslib/wps.py\", line 603, in readFromUrl\n",
      "2023-07-15 21:49:08,240 ERROR       headers=headers, verify=verify, cert=cert)\n",
      "2023-07-15 21:49:08,240 ERROR     File \"/usr/local/lib/python3.6/site-packages/owslib/wps.py\", line 515, in _readFromUrl\n",
      "2023-07-15 21:49:08,241 ERROR       headers=headers, verify=self.auth.verify, cert=self.auth.cert, timeout=timeout)\n",
      "2023-07-15 21:49:08,241 ERROR     File \"/usr/local/lib/python3.6/site-packages/owslib/util.py\", line 209, in openURL\n",
      "2023-07-15 21:49:08,243 ERROR       req.raise_for_status()\n",
      "2023-07-15 21:49:08,243 ERROR     File \"/usr/local/lib/python3.6/site-packages/requests/models.py\", line 960, in raise_for_status\n",
      "2023-07-15 21:49:08,244 ERROR       raise HTTPError(http_error_msg, response=self)\n",
      "2023-07-15 21:49:08,244 ERROR   requests.exceptions.HTTPError: 500 Server Error: INTERNAL SERVER ERROR for url: http://compute.mips.copernicus-climate.eu/wps\n",
      "2023-07-15 21:49:08,281 INFO Welcome to the CDS\n",
      "2023-07-15 21:49:08,282 INFO Sending request to https://cds.climate.copernicus.eu/api/v2/resources/projections-cmip6\n",
      "2023-07-15 21:49:08,346 INFO Request is queued\n"
     ]
    },
    {
     "name": "stdout",
     "output_type": "stream",
     "text": [
      "Some parameters are not matching\n",
      "Test with scenario ssp1_2_6 and model mpi_esm1_2_hr\n",
      "path_for_file does not exist: the data may not have been downloaded\n",
      "file_download does not exist: the data were not downloaded\n"
     ]
    },
    {
     "name": "stderr",
     "output_type": "stream",
     "text": [
      "2023-07-15 21:49:09,388 INFO Request is failed\n",
      "2023-07-15 21:49:09,389 ERROR Message: an internal error occurred processing your request\n",
      "2023-07-15 21:49:09,390 ERROR Reason:  No matching data for request {'experiment': 'ssp126', 'model': 'MPI-ESM1-2-HR', 'temporal_resolution': 'mon', 'variable': 'rsds'}\n",
      "2023-07-15 21:49:09,390 ERROR   Traceback (most recent call last):\n",
      "2023-07-15 21:49:09,391 ERROR     File \"/opt/cdstoolbox/cdscompute/cdscompute/cdshandlers/services/handler.py\", line 59, in handle_request\n",
      "2023-07-15 21:49:09,392 ERROR       result = cached(context.method, proc, context, context.args, context.kwargs)\n",
      "2023-07-15 21:49:09,393 ERROR     File \"/opt/cdstoolbox/cdscompute/cdscompute/caching.py\", line 108, in cached\n",
      "2023-07-15 21:49:09,393 ERROR       result = proc(context, *context.args, **context.kwargs)\n",
      "2023-07-15 21:49:09,393 ERROR     File \"/opt/cdstoolbox/cdscompute/cdscompute/services.py\", line 124, in __call__\n",
      "2023-07-15 21:49:09,394 ERROR       return p(*args, **kwargs)\n",
      "2023-07-15 21:49:09,395 ERROR     File \"/opt/cdstoolbox/cdscompute/cdscompute/services.py\", line 60, in __call__\n",
      "2023-07-15 21:49:09,395 ERROR       return self.proc(context, *args, **kwargs)\n",
      "2023-07-15 21:49:09,396 ERROR     File \"/home/cds/cdsservices/services/esgf_wps/__init__.py\", line 30, in execute\n",
      "2023-07-15 21:49:09,396 ERROR       request_facets, request = facets.search(context, request)\n",
      "2023-07-15 21:49:09,397 ERROR     File \"/home/cds/cdsservices/services/esgf_wps/facets.py\", line 61, in search\n",
      "2023-07-15 21:49:09,397 ERROR       raise ValueError(f'No matching data for request {tmp_request}')\n",
      "2023-07-15 21:49:09,398 ERROR   ValueError: No matching data for request {'experiment': 'ssp126', 'model': 'MPI-ESM1-2-HR', 'temporal_resolution': 'mon', 'variable': 'rsds'}\n",
      "2023-07-15 21:49:09,437 INFO Welcome to the CDS\n",
      "2023-07-15 21:49:09,438 INFO Sending request to https://cds.climate.copernicus.eu/api/v2/resources/projections-cmip6\n",
      "2023-07-15 21:49:09,530 INFO Request is queued\n"
     ]
    },
    {
     "name": "stdout",
     "output_type": "stream",
     "text": [
      "Some parameters are not matching\n",
      "Test with scenario ssp1_2_6 and model mri_esm2_0\n",
      "path_for_file does not exist: the data may not have been downloaded\n",
      "file_download does not exist: the data were not downloaded\n"
     ]
    },
    {
     "name": "stderr",
     "output_type": "stream",
     "text": [
      "2023-07-15 21:49:10,573 INFO Request is running\n",
      "2023-07-15 21:49:23,276 INFO Request is completed\n",
      "2023-07-15 21:49:23,277 INFO Downloading https://download-0003-clone.copernicus-climate.eu/cache-compute-0003/cache/data2/adaptor.esgf_wps.retrieve-1689450560.1045976-9448-10-ec05cacf-d435-4356-9bb6-8d89325308a5.zip to download.zip (859.6K)\n",
      "2023-07-15 21:49:23,903 INFO Download rate 1.3M/s                                                                      \n"
     ]
    },
    {
     "name": "stdout",
     "output_type": "stream",
     "text": [
      "The file has been download\n",
      "\\\\COWI.net\\projects\\A245000\\A248363\\CRVA\\Datasets\\radiation\\surface_downwelling_shortwave_radiation\\Copernicus-CMIP6\\raw_data\\2015-2100\\ssp1_2_6\\mri_esm2_0\\all-Mozambique\n",
      "Path for the file is created, did not existed before\n"
     ]
    },
    {
     "name": "stderr",
     "output_type": "stream",
     "text": [
      "2023-07-15 21:49:25,078 INFO Welcome to the CDS\n",
      "2023-07-15 21:49:25,080 INFO Sending request to https://cds.climate.copernicus.eu/api/v2/resources/projections-cmip6\n",
      "2023-07-15 21:49:25,191 INFO Request is queued\n"
     ]
    },
    {
     "name": "stdout",
     "output_type": "stream",
     "text": [
      "the file named rsds_Amon_MRI-ESM2-0_ssp126_r1i1p1f1_gn_20150116-21001216_v20191108.nc was moved\n",
      "\n",
      " The downloaded file is extracted\n",
      "The file has been extracted\n",
      "Test with scenario ssp1_2_6 and model norcpm1\n",
      "path_for_file does not exist: the data may not have been downloaded\n",
      "file_download does not exist: the data were not downloaded\n"
     ]
    },
    {
     "name": "stderr",
     "output_type": "stream",
     "text": [
      "2023-07-15 21:49:26,234 INFO Request is failed\n",
      "2023-07-15 21:49:26,235 ERROR Message: an internal error occurred processing your request\n",
      "2023-07-15 21:49:26,235 ERROR Reason:  No matching data for request {'experiment': 'ssp126', 'model': 'NorCPM1', 'temporal_resolution': 'mon', 'variable': 'rsds'}\n",
      "2023-07-15 21:49:26,236 ERROR   Traceback (most recent call last):\n",
      "2023-07-15 21:49:26,236 ERROR     File \"/opt/cdstoolbox/cdscompute/cdscompute/cdshandlers/services/handler.py\", line 59, in handle_request\n",
      "2023-07-15 21:49:26,237 ERROR       result = cached(context.method, proc, context, context.args, context.kwargs)\n",
      "2023-07-15 21:49:26,237 ERROR     File \"/opt/cdstoolbox/cdscompute/cdscompute/caching.py\", line 108, in cached\n",
      "2023-07-15 21:49:26,238 ERROR       result = proc(context, *context.args, **context.kwargs)\n",
      "2023-07-15 21:49:26,239 ERROR     File \"/opt/cdstoolbox/cdscompute/cdscompute/services.py\", line 124, in __call__\n",
      "2023-07-15 21:49:26,239 ERROR       return p(*args, **kwargs)\n",
      "2023-07-15 21:49:26,240 ERROR     File \"/opt/cdstoolbox/cdscompute/cdscompute/services.py\", line 60, in __call__\n",
      "2023-07-15 21:49:26,240 ERROR       return self.proc(context, *args, **kwargs)\n",
      "2023-07-15 21:49:26,241 ERROR     File \"/home/cds/cdsservices/services/esgf_wps/__init__.py\", line 30, in execute\n",
      "2023-07-15 21:49:26,242 ERROR       request_facets, request = facets.search(context, request)\n",
      "2023-07-15 21:49:26,243 ERROR     File \"/home/cds/cdsservices/services/esgf_wps/facets.py\", line 61, in search\n",
      "2023-07-15 21:49:26,244 ERROR       raise ValueError(f'No matching data for request {tmp_request}')\n",
      "2023-07-15 21:49:26,244 ERROR   ValueError: No matching data for request {'experiment': 'ssp126', 'model': 'NorCPM1', 'temporal_resolution': 'mon', 'variable': 'rsds'}\n",
      "2023-07-15 21:49:26,278 INFO Welcome to the CDS\n",
      "2023-07-15 21:49:26,279 INFO Sending request to https://cds.climate.copernicus.eu/api/v2/resources/projections-cmip6\n",
      "2023-07-15 21:49:26,400 INFO Request is queued\n"
     ]
    },
    {
     "name": "stdout",
     "output_type": "stream",
     "text": [
      "Some parameters are not matching\n",
      "Test with scenario ssp1_2_6 and model noresm2_mm\n",
      "path_for_file does not exist: the data may not have been downloaded\n",
      "file_download does not exist: the data were not downloaded\n"
     ]
    },
    {
     "name": "stderr",
     "output_type": "stream",
     "text": [
      "2023-07-15 21:49:27,448 INFO Request is failed\n",
      "2023-07-15 21:49:27,448 ERROR Message: an internal error occurred processing your request\n",
      "2023-07-15 21:49:27,451 ERROR Reason:  execution failed\n",
      "2023-07-15 21:49:27,451 ERROR   Traceback (most recent call last):\n",
      "2023-07-15 21:49:27,452 ERROR     File \"/usr/local/lib/python3.6/site-packages/birdy/client/base.py\", line 386, in _execute\n",
      "2023-07-15 21:49:27,452 ERROR       lineage=self._lineage,\n",
      "2023-07-15 21:49:27,453 ERROR     File \"/usr/local/lib/python3.6/site-packages/owslib/wps.py\", line 359, in execute\n",
      "2023-07-15 21:49:27,454 ERROR       response = execution.submitRequest(request)\n",
      "2023-07-15 21:49:27,455 ERROR     File \"/usr/local/lib/python3.6/site-packages/owslib/wps.py\", line 912, in submitRequest\n",
      "2023-07-15 21:49:27,456 ERROR       self.url, request, method='Post', headers=self.headers)\n",
      "2023-07-15 21:49:27,456 ERROR     File \"/usr/local/lib/python3.6/site-packages/owslib/wps.py\", line 603, in readFromUrl\n",
      "2023-07-15 21:49:27,457 ERROR       headers=headers, verify=verify, cert=cert)\n",
      "2023-07-15 21:49:27,457 ERROR     File \"/usr/local/lib/python3.6/site-packages/owslib/wps.py\", line 515, in _readFromUrl\n",
      "2023-07-15 21:49:27,458 ERROR       headers=headers, verify=self.auth.verify, cert=self.auth.cert, timeout=timeout)\n",
      "2023-07-15 21:49:27,458 ERROR     File \"/usr/local/lib/python3.6/site-packages/owslib/util.py\", line 209, in openURL\n",
      "2023-07-15 21:49:27,460 ERROR       req.raise_for_status()\n",
      "2023-07-15 21:49:27,460 ERROR     File \"/usr/local/lib/python3.6/site-packages/requests/models.py\", line 960, in raise_for_status\n",
      "2023-07-15 21:49:27,460 ERROR       raise HTTPError(http_error_msg, response=self)\n",
      "2023-07-15 21:49:27,460 ERROR   requests.exceptions.HTTPError: 500 Server Error: INTERNAL SERVER ERROR for url: http://compute.mips.copernicus-climate.eu/wps\n",
      "2023-07-15 21:49:27,494 INFO Welcome to the CDS\n",
      "2023-07-15 21:49:27,496 INFO Sending request to https://cds.climate.copernicus.eu/api/v2/resources/projections-cmip6\n",
      "2023-07-15 21:49:27,574 INFO Request is queued\n"
     ]
    },
    {
     "name": "stdout",
     "output_type": "stream",
     "text": [
      "Some parameters are not matching\n",
      "Test with scenario ssp1_2_6 and model taiesm1\n",
      "path_for_file does not exist: the data may not have been downloaded\n",
      "file_download does not exist: the data were not downloaded\n"
     ]
    },
    {
     "name": "stderr",
     "output_type": "stream",
     "text": [
      "2023-07-15 21:49:28,614 INFO Request is failed\n",
      "2023-07-15 21:49:28,614 ERROR Message: an internal error occurred processing your request\n",
      "2023-07-15 21:49:28,615 ERROR Reason:  execution failed\n",
      "2023-07-15 21:49:28,616 ERROR   Traceback (most recent call last):\n",
      "2023-07-15 21:49:28,617 ERROR     File \"/usr/local/lib/python3.6/site-packages/birdy/client/base.py\", line 386, in _execute\n",
      "2023-07-15 21:49:28,617 ERROR       lineage=self._lineage,\n",
      "2023-07-15 21:49:28,618 ERROR     File \"/usr/local/lib/python3.6/site-packages/owslib/wps.py\", line 359, in execute\n",
      "2023-07-15 21:49:28,618 ERROR       response = execution.submitRequest(request)\n",
      "2023-07-15 21:49:28,619 ERROR     File \"/usr/local/lib/python3.6/site-packages/owslib/wps.py\", line 912, in submitRequest\n",
      "2023-07-15 21:49:28,619 ERROR       self.url, request, method='Post', headers=self.headers)\n",
      "2023-07-15 21:49:28,620 ERROR     File \"/usr/local/lib/python3.6/site-packages/owslib/wps.py\", line 603, in readFromUrl\n",
      "2023-07-15 21:49:28,620 ERROR       headers=headers, verify=verify, cert=cert)\n",
      "2023-07-15 21:49:28,621 ERROR     File \"/usr/local/lib/python3.6/site-packages/owslib/wps.py\", line 515, in _readFromUrl\n",
      "2023-07-15 21:49:28,621 ERROR       headers=headers, verify=self.auth.verify, cert=self.auth.cert, timeout=timeout)\n",
      "2023-07-15 21:49:28,622 ERROR     File \"/usr/local/lib/python3.6/site-packages/owslib/util.py\", line 209, in openURL\n",
      "2023-07-15 21:49:28,624 ERROR       req.raise_for_status()\n",
      "2023-07-15 21:49:28,624 ERROR     File \"/usr/local/lib/python3.6/site-packages/requests/models.py\", line 960, in raise_for_status\n",
      "2023-07-15 21:49:28,625 ERROR       raise HTTPError(http_error_msg, response=self)\n",
      "2023-07-15 21:49:28,626 ERROR   requests.exceptions.HTTPError: 500 Server Error: INTERNAL SERVER ERROR for url: http://compute.mips.copernicus-climate.eu/wps\n",
      "2023-07-15 21:49:28,659 INFO Welcome to the CDS\n",
      "2023-07-15 21:49:28,659 INFO Sending request to https://cds.climate.copernicus.eu/api/v2/resources/projections-cmip6\n",
      "2023-07-15 21:49:28,738 INFO Request is queued\n"
     ]
    },
    {
     "name": "stdout",
     "output_type": "stream",
     "text": [
      "Some parameters are not matching\n",
      "Test with scenario ssp1_2_6 and model access_esm1_5\n",
      "path_for_file does not exist: the data may not have been downloaded\n",
      "file_download does not exist: the data were not downloaded\n"
     ]
    },
    {
     "name": "stderr",
     "output_type": "stream",
     "text": [
      "2023-07-15 21:49:29,798 INFO Request is failed\n",
      "2023-07-15 21:49:29,798 ERROR Message: an internal error occurred processing your request\n",
      "2023-07-15 21:49:29,799 ERROR Reason:  No matching data for request {'experiment': 'ssp126', 'model': 'ACCESS-ESM1-5', 'temporal_resolution': 'mon', 'variable': 'rsds'}\n",
      "2023-07-15 21:49:29,800 ERROR   Traceback (most recent call last):\n",
      "2023-07-15 21:49:29,800 ERROR     File \"/opt/cdstoolbox/cdscompute/cdscompute/cdshandlers/services/handler.py\", line 59, in handle_request\n",
      "2023-07-15 21:49:29,800 ERROR       result = cached(context.method, proc, context, context.args, context.kwargs)\n",
      "2023-07-15 21:49:29,802 ERROR     File \"/opt/cdstoolbox/cdscompute/cdscompute/caching.py\", line 108, in cached\n",
      "2023-07-15 21:49:29,802 ERROR       result = proc(context, *context.args, **context.kwargs)\n",
      "2023-07-15 21:49:29,803 ERROR     File \"/opt/cdstoolbox/cdscompute/cdscompute/services.py\", line 124, in __call__\n",
      "2023-07-15 21:49:29,803 ERROR       return p(*args, **kwargs)\n",
      "2023-07-15 21:49:29,804 ERROR     File \"/opt/cdstoolbox/cdscompute/cdscompute/services.py\", line 60, in __call__\n",
      "2023-07-15 21:49:29,805 ERROR       return self.proc(context, *args, **kwargs)\n",
      "2023-07-15 21:49:29,805 ERROR     File \"/home/cds/cdsservices/services/esgf_wps/__init__.py\", line 30, in execute\n",
      "2023-07-15 21:49:29,805 ERROR       request_facets, request = facets.search(context, request)\n",
      "2023-07-15 21:49:29,806 ERROR     File \"/home/cds/cdsservices/services/esgf_wps/facets.py\", line 61, in search\n",
      "2023-07-15 21:49:29,806 ERROR       raise ValueError(f'No matching data for request {tmp_request}')\n",
      "2023-07-15 21:49:29,807 ERROR   ValueError: No matching data for request {'experiment': 'ssp126', 'model': 'ACCESS-ESM1-5', 'temporal_resolution': 'mon', 'variable': 'rsds'}\n",
      "2023-07-15 21:49:29,848 INFO Welcome to the CDS\n",
      "2023-07-15 21:49:29,849 INFO Sending request to https://cds.climate.copernicus.eu/api/v2/resources/projections-cmip6\n",
      "2023-07-15 21:49:29,954 INFO Request is queued\n"
     ]
    },
    {
     "name": "stdout",
     "output_type": "stream",
     "text": [
      "Some parameters are not matching\n",
      "Test with scenario ssp1_2_6 and model awi_esm_1_1_lr\n",
      "path_for_file does not exist: the data may not have been downloaded\n",
      "file_download does not exist: the data were not downloaded\n"
     ]
    },
    {
     "name": "stderr",
     "output_type": "stream",
     "text": [
      "2023-07-15 21:49:30,998 INFO Request is failed\n",
      "2023-07-15 21:49:30,999 ERROR Message: an internal error occurred processing your request\n",
      "2023-07-15 21:49:31,000 ERROR Reason:  No matching data for request {'experiment': 'ssp126', 'model': 'AWI-ESM-1-1-LR', 'temporal_resolution': 'mon', 'variable': 'rsds'}\n",
      "2023-07-15 21:49:31,000 ERROR   Traceback (most recent call last):\n",
      "2023-07-15 21:49:31,001 ERROR     File \"/opt/cdstoolbox/cdscompute/cdscompute/cdshandlers/services/handler.py\", line 59, in handle_request\n",
      "2023-07-15 21:49:31,001 ERROR       result = cached(context.method, proc, context, context.args, context.kwargs)\n",
      "2023-07-15 21:49:31,002 ERROR     File \"/opt/cdstoolbox/cdscompute/cdscompute/caching.py\", line 108, in cached\n",
      "2023-07-15 21:49:31,003 ERROR       result = proc(context, *context.args, **context.kwargs)\n",
      "2023-07-15 21:49:31,005 ERROR     File \"/opt/cdstoolbox/cdscompute/cdscompute/services.py\", line 124, in __call__\n",
      "2023-07-15 21:49:31,005 ERROR       return p(*args, **kwargs)\n",
      "2023-07-15 21:49:31,006 ERROR     File \"/opt/cdstoolbox/cdscompute/cdscompute/services.py\", line 60, in __call__\n",
      "2023-07-15 21:49:31,007 ERROR       return self.proc(context, *args, **kwargs)\n",
      "2023-07-15 21:49:31,008 ERROR     File \"/home/cds/cdsservices/services/esgf_wps/__init__.py\", line 30, in execute\n",
      "2023-07-15 21:49:31,008 ERROR       request_facets, request = facets.search(context, request)\n",
      "2023-07-15 21:49:31,009 ERROR     File \"/home/cds/cdsservices/services/esgf_wps/facets.py\", line 61, in search\n",
      "2023-07-15 21:49:31,010 ERROR       raise ValueError(f'No matching data for request {tmp_request}')\n",
      "2023-07-15 21:49:31,010 ERROR   ValueError: No matching data for request {'experiment': 'ssp126', 'model': 'AWI-ESM-1-1-LR', 'temporal_resolution': 'mon', 'variable': 'rsds'}\n",
      "2023-07-15 21:49:31,044 INFO Welcome to the CDS\n",
      "2023-07-15 21:49:31,044 INFO Sending request to https://cds.climate.copernicus.eu/api/v2/resources/projections-cmip6\n",
      "2023-07-15 21:49:31,143 INFO Request is queued\n"
     ]
    },
    {
     "name": "stdout",
     "output_type": "stream",
     "text": [
      "Some parameters are not matching\n",
      "Test with scenario ssp1_2_6 and model bcc_esm1\n",
      "path_for_file does not exist: the data may not have been downloaded\n",
      "file_download does not exist: the data were not downloaded\n"
     ]
    },
    {
     "name": "stderr",
     "output_type": "stream",
     "text": [
      "2023-07-15 21:49:32,185 INFO Request is failed\n",
      "2023-07-15 21:49:32,185 ERROR Message: an internal error occurred processing your request\n",
      "2023-07-15 21:49:32,186 ERROR Reason:  No matching data for request {'experiment': 'ssp126', 'model': 'BCC-ESM1', 'temporal_resolution': 'mon', 'variable': 'rsds'}\n",
      "2023-07-15 21:49:32,186 ERROR   Traceback (most recent call last):\n",
      "2023-07-15 21:49:32,187 ERROR     File \"/opt/cdstoolbox/cdscompute/cdscompute/cdshandlers/services/handler.py\", line 59, in handle_request\n",
      "2023-07-15 21:49:32,188 ERROR       result = cached(context.method, proc, context, context.args, context.kwargs)\n",
      "2023-07-15 21:49:32,189 ERROR     File \"/opt/cdstoolbox/cdscompute/cdscompute/caching.py\", line 108, in cached\n",
      "2023-07-15 21:49:32,189 ERROR       result = proc(context, *context.args, **context.kwargs)\n",
      "2023-07-15 21:49:32,190 ERROR     File \"/opt/cdstoolbox/cdscompute/cdscompute/services.py\", line 124, in __call__\n",
      "2023-07-15 21:49:32,190 ERROR       return p(*args, **kwargs)\n",
      "2023-07-15 21:49:32,192 ERROR     File \"/opt/cdstoolbox/cdscompute/cdscompute/services.py\", line 60, in __call__\n",
      "2023-07-15 21:49:32,192 ERROR       return self.proc(context, *args, **kwargs)\n",
      "2023-07-15 21:49:32,193 ERROR     File \"/home/cds/cdsservices/services/esgf_wps/__init__.py\", line 30, in execute\n",
      "2023-07-15 21:49:32,193 ERROR       request_facets, request = facets.search(context, request)\n",
      "2023-07-15 21:49:32,195 ERROR     File \"/home/cds/cdsservices/services/esgf_wps/facets.py\", line 61, in search\n",
      "2023-07-15 21:49:32,195 ERROR       raise ValueError(f'No matching data for request {tmp_request}')\n",
      "2023-07-15 21:49:32,196 ERROR   ValueError: No matching data for request {'experiment': 'ssp126', 'model': 'BCC-ESM1', 'temporal_resolution': 'mon', 'variable': 'rsds'}\n",
      "2023-07-15 21:49:32,230 INFO Welcome to the CDS\n",
      "2023-07-15 21:49:32,231 INFO Sending request to https://cds.climate.copernicus.eu/api/v2/resources/projections-cmip6\n",
      "2023-07-15 21:49:32,288 INFO Request is queued\n"
     ]
    },
    {
     "name": "stdout",
     "output_type": "stream",
     "text": [
      "Some parameters are not matching\n",
      "Test with scenario ssp1_2_6 and model canesm5\n",
      "path_for_file does not exist: the data may not have been downloaded\n",
      "file_download does not exist: the data were not downloaded\n"
     ]
    },
    {
     "name": "stderr",
     "output_type": "stream",
     "text": [
      "2023-07-15 21:49:33,319 INFO Request is failed\n",
      "2023-07-15 21:49:33,320 ERROR Message: an internal error occurred processing your request\n",
      "2023-07-15 21:49:33,321 ERROR Reason:  execution failed\n",
      "2023-07-15 21:49:33,322 ERROR   Traceback (most recent call last):\n",
      "2023-07-15 21:49:33,322 ERROR     File \"/usr/local/lib/python3.6/site-packages/birdy/client/base.py\", line 386, in _execute\n",
      "2023-07-15 21:49:33,323 ERROR       lineage=self._lineage,\n",
      "2023-07-15 21:49:33,324 ERROR     File \"/usr/local/lib/python3.6/site-packages/owslib/wps.py\", line 359, in execute\n",
      "2023-07-15 21:49:33,325 ERROR       response = execution.submitRequest(request)\n",
      "2023-07-15 21:49:33,325 ERROR     File \"/usr/local/lib/python3.6/site-packages/owslib/wps.py\", line 912, in submitRequest\n",
      "2023-07-15 21:49:33,326 ERROR       self.url, request, method='Post', headers=self.headers)\n",
      "2023-07-15 21:49:33,326 ERROR     File \"/usr/local/lib/python3.6/site-packages/owslib/wps.py\", line 603, in readFromUrl\n",
      "2023-07-15 21:49:33,327 ERROR       headers=headers, verify=verify, cert=cert)\n",
      "2023-07-15 21:49:33,328 ERROR     File \"/usr/local/lib/python3.6/site-packages/owslib/wps.py\", line 515, in _readFromUrl\n",
      "2023-07-15 21:49:33,328 ERROR       headers=headers, verify=self.auth.verify, cert=self.auth.cert, timeout=timeout)\n",
      "2023-07-15 21:49:33,329 ERROR     File \"/usr/local/lib/python3.6/site-packages/owslib/util.py\", line 209, in openURL\n",
      "2023-07-15 21:49:33,329 ERROR       req.raise_for_status()\n",
      "2023-07-15 21:49:33,330 ERROR     File \"/usr/local/lib/python3.6/site-packages/requests/models.py\", line 960, in raise_for_status\n",
      "2023-07-15 21:49:33,331 ERROR       raise HTTPError(http_error_msg, response=self)\n",
      "2023-07-15 21:49:33,331 ERROR   requests.exceptions.HTTPError: 500 Server Error: INTERNAL SERVER ERROR for url: http://compute.mips.copernicus-climate.eu/wps\n",
      "2023-07-15 21:49:33,373 INFO Welcome to the CDS\n",
      "2023-07-15 21:49:33,374 INFO Sending request to https://cds.climate.copernicus.eu/api/v2/resources/projections-cmip6\n",
      "2023-07-15 21:49:33,425 INFO Request is queued\n"
     ]
    },
    {
     "name": "stdout",
     "output_type": "stream",
     "text": [
      "Some parameters are not matching\n",
      "Test with scenario ssp1_2_6 and model cesm2\n",
      "path_for_file does not exist: the data may not have been downloaded\n",
      "file_download does not exist: the data were not downloaded\n"
     ]
    },
    {
     "name": "stderr",
     "output_type": "stream",
     "text": [
      "2023-07-15 21:49:34,461 INFO Request is failed\n",
      "2023-07-15 21:49:34,462 ERROR Message: an internal error occurred processing your request\n",
      "2023-07-15 21:49:34,462 ERROR Reason:  execution failed\n",
      "2023-07-15 21:49:34,463 ERROR   Traceback (most recent call last):\n",
      "2023-07-15 21:49:34,464 ERROR     File \"/usr/local/lib/python3.6/site-packages/birdy/client/base.py\", line 386, in _execute\n",
      "2023-07-15 21:49:34,464 ERROR       lineage=self._lineage,\n",
      "2023-07-15 21:49:34,465 ERROR     File \"/usr/local/lib/python3.6/site-packages/owslib/wps.py\", line 359, in execute\n",
      "2023-07-15 21:49:34,466 ERROR       response = execution.submitRequest(request)\n",
      "2023-07-15 21:49:34,466 ERROR     File \"/usr/local/lib/python3.6/site-packages/owslib/wps.py\", line 912, in submitRequest\n",
      "2023-07-15 21:49:34,468 ERROR       self.url, request, method='Post', headers=self.headers)\n",
      "2023-07-15 21:49:34,468 ERROR     File \"/usr/local/lib/python3.6/site-packages/owslib/wps.py\", line 603, in readFromUrl\n",
      "2023-07-15 21:49:34,468 ERROR       headers=headers, verify=verify, cert=cert)\n",
      "2023-07-15 21:49:34,469 ERROR     File \"/usr/local/lib/python3.6/site-packages/owslib/wps.py\", line 515, in _readFromUrl\n",
      "2023-07-15 21:49:34,470 ERROR       headers=headers, verify=self.auth.verify, cert=self.auth.cert, timeout=timeout)\n",
      "2023-07-15 21:49:34,471 ERROR     File \"/usr/local/lib/python3.6/site-packages/owslib/util.py\", line 209, in openURL\n",
      "2023-07-15 21:49:34,472 ERROR       req.raise_for_status()\n",
      "2023-07-15 21:49:34,472 ERROR     File \"/usr/local/lib/python3.6/site-packages/requests/models.py\", line 960, in raise_for_status\n",
      "2023-07-15 21:49:34,473 ERROR       raise HTTPError(http_error_msg, response=self)\n",
      "2023-07-15 21:49:34,473 ERROR   requests.exceptions.HTTPError: 500 Server Error: INTERNAL SERVER ERROR for url: http://compute.mips.copernicus-climate.eu/wps\n",
      "2023-07-15 21:49:34,509 INFO Welcome to the CDS\n",
      "2023-07-15 21:49:34,510 INFO Sending request to https://cds.climate.copernicus.eu/api/v2/resources/projections-cmip6\n",
      "2023-07-15 21:49:34,585 INFO Request is queued\n"
     ]
    },
    {
     "name": "stdout",
     "output_type": "stream",
     "text": [
      "Some parameters are not matching\n",
      "Test with scenario ssp1_2_6 and model cesm2_waccm\n",
      "path_for_file does not exist: the data may not have been downloaded\n",
      "file_download does not exist: the data were not downloaded\n"
     ]
    },
    {
     "name": "stderr",
     "output_type": "stream",
     "text": [
      "2023-07-15 21:49:35,630 INFO Request is failed\n",
      "2023-07-15 21:49:35,631 ERROR Message: an internal error occurred processing your request\n",
      "2023-07-15 21:49:35,631 ERROR Reason:  No matching data for request {'experiment': 'ssp126', 'model': 'CESM2-WACCM', 'temporal_resolution': 'mon', 'variable': 'rsds'}\n",
      "2023-07-15 21:49:35,632 ERROR   Traceback (most recent call last):\n",
      "2023-07-15 21:49:35,633 ERROR     File \"/opt/cdstoolbox/cdscompute/cdscompute/cdshandlers/services/handler.py\", line 59, in handle_request\n",
      "2023-07-15 21:49:35,633 ERROR       result = cached(context.method, proc, context, context.args, context.kwargs)\n",
      "2023-07-15 21:49:35,634 ERROR     File \"/opt/cdstoolbox/cdscompute/cdscompute/caching.py\", line 108, in cached\n",
      "2023-07-15 21:49:35,634 ERROR       result = proc(context, *context.args, **context.kwargs)\n",
      "2023-07-15 21:49:35,634 ERROR     File \"/opt/cdstoolbox/cdscompute/cdscompute/services.py\", line 124, in __call__\n",
      "2023-07-15 21:49:35,635 ERROR       return p(*args, **kwargs)\n",
      "2023-07-15 21:49:35,635 ERROR     File \"/opt/cdstoolbox/cdscompute/cdscompute/services.py\", line 60, in __call__\n",
      "2023-07-15 21:49:35,636 ERROR       return self.proc(context, *args, **kwargs)\n",
      "2023-07-15 21:49:35,636 ERROR     File \"/home/cds/cdsservices/services/esgf_wps/__init__.py\", line 30, in execute\n",
      "2023-07-15 21:49:35,637 ERROR       request_facets, request = facets.search(context, request)\n",
      "2023-07-15 21:49:35,638 ERROR     File \"/home/cds/cdsservices/services/esgf_wps/facets.py\", line 61, in search\n",
      "2023-07-15 21:49:35,639 ERROR       raise ValueError(f'No matching data for request {tmp_request}')\n",
      "2023-07-15 21:49:35,639 ERROR   ValueError: No matching data for request {'experiment': 'ssp126', 'model': 'CESM2-WACCM', 'temporal_resolution': 'mon', 'variable': 'rsds'}\n",
      "2023-07-15 21:49:35,677 INFO Welcome to the CDS\n",
      "2023-07-15 21:49:35,677 INFO Sending request to https://cds.climate.copernicus.eu/api/v2/resources/projections-cmip6\n",
      "2023-07-15 21:49:35,724 INFO Request is queued\n"
     ]
    },
    {
     "name": "stdout",
     "output_type": "stream",
     "text": [
      "Some parameters are not matching\n",
      "Test with scenario ssp1_2_6 and model ciesm\n",
      "path_for_file does not exist: the data may not have been downloaded\n",
      "file_download does not exist: the data were not downloaded\n"
     ]
    },
    {
     "name": "stderr",
     "output_type": "stream",
     "text": [
      "2023-07-15 21:49:36,761 INFO Request is failed\n",
      "2023-07-15 21:49:36,762 ERROR Message: an internal error occurred processing your request\n",
      "2023-07-15 21:49:36,763 ERROR Reason:  execution failed\n",
      "2023-07-15 21:49:36,763 ERROR   Traceback (most recent call last):\n",
      "2023-07-15 21:49:36,764 ERROR     File \"/usr/local/lib/python3.6/site-packages/birdy/client/base.py\", line 386, in _execute\n",
      "2023-07-15 21:49:36,764 ERROR       lineage=self._lineage,\n",
      "2023-07-15 21:49:36,765 ERROR     File \"/usr/local/lib/python3.6/site-packages/owslib/wps.py\", line 359, in execute\n",
      "2023-07-15 21:49:36,766 ERROR       response = execution.submitRequest(request)\n",
      "2023-07-15 21:49:36,766 ERROR     File \"/usr/local/lib/python3.6/site-packages/owslib/wps.py\", line 912, in submitRequest\n",
      "2023-07-15 21:49:36,766 ERROR       self.url, request, method='Post', headers=self.headers)\n",
      "2023-07-15 21:49:36,767 ERROR     File \"/usr/local/lib/python3.6/site-packages/owslib/wps.py\", line 603, in readFromUrl\n",
      "2023-07-15 21:49:36,768 ERROR       headers=headers, verify=verify, cert=cert)\n",
      "2023-07-15 21:49:36,769 ERROR     File \"/usr/local/lib/python3.6/site-packages/owslib/wps.py\", line 515, in _readFromUrl\n",
      "2023-07-15 21:49:36,769 ERROR       headers=headers, verify=self.auth.verify, cert=self.auth.cert, timeout=timeout)\n",
      "2023-07-15 21:49:36,769 ERROR     File \"/usr/local/lib/python3.6/site-packages/owslib/util.py\", line 209, in openURL\n",
      "2023-07-15 21:49:36,770 ERROR       req.raise_for_status()\n",
      "2023-07-15 21:49:36,770 ERROR     File \"/usr/local/lib/python3.6/site-packages/requests/models.py\", line 960, in raise_for_status\n",
      "2023-07-15 21:49:36,770 ERROR       raise HTTPError(http_error_msg, response=self)\n",
      "2023-07-15 21:49:36,771 ERROR   requests.exceptions.HTTPError: 500 Server Error: INTERNAL SERVER ERROR for url: http://compute.mips.copernicus-climate.eu/wps\n",
      "2023-07-15 21:49:36,805 INFO Welcome to the CDS\n",
      "2023-07-15 21:49:36,806 INFO Sending request to https://cds.climate.copernicus.eu/api/v2/resources/projections-cmip6\n",
      "2023-07-15 21:49:36,911 INFO Request is queued\n"
     ]
    },
    {
     "name": "stdout",
     "output_type": "stream",
     "text": [
      "Some parameters are not matching\n",
      "Test with scenario ssp1_2_6 and model cmcc_cm2_sr5\n",
      "path_for_file does not exist: the data may not have been downloaded\n",
      "file_download does not exist: the data were not downloaded\n"
     ]
    },
    {
     "name": "stderr",
     "output_type": "stream",
     "text": [
      "2023-07-15 21:49:37,959 INFO Request is running\n",
      "2023-07-15 21:49:50,308 INFO Request is completed\n",
      "2023-07-15 21:49:50,309 INFO Downloading https://download-0016.copernicus-climate.eu/cache-compute-0016/cache/data8/adaptor.esgf_wps.retrieve-1689450587.561101-596-6-2f3b37a1-f2a9-42bc-91b4-dac605c37df0.zip to download.zip (880K)\n",
      "2023-07-15 21:49:51,005 INFO Download rate 1.2M/s                                                                      \n"
     ]
    },
    {
     "name": "stdout",
     "output_type": "stream",
     "text": [
      "The file has been download\n",
      "\\\\COWI.net\\projects\\A245000\\A248363\\CRVA\\Datasets\\radiation\\surface_downwelling_shortwave_radiation\\Copernicus-CMIP6\\raw_data\\2015-2100\\ssp1_2_6\\cmcc_cm2_sr5\\all-Mozambique\n",
      "Path for the file is created, did not existed before\n"
     ]
    },
    {
     "name": "stderr",
     "output_type": "stream",
     "text": [
      "2023-07-15 21:49:51,847 INFO Welcome to the CDS\n",
      "2023-07-15 21:49:51,847 INFO Sending request to https://cds.climate.copernicus.eu/api/v2/resources/projections-cmip6\n",
      "2023-07-15 21:49:51,949 INFO Request is queued\n"
     ]
    },
    {
     "name": "stdout",
     "output_type": "stream",
     "text": [
      "the file named rsds_Amon_CMCC-CM2-SR5_ssp126_r1i1p1f1_gn_20150116-21001216_v20200717.nc was moved\n",
      "\n",
      " The downloaded file is extracted\n",
      "The file has been extracted\n",
      "Test with scenario ssp1_2_6 and model cnrm_cm6_1\n",
      "path_for_file does not exist: the data may not have been downloaded\n",
      "file_download does not exist: the data were not downloaded\n"
     ]
    },
    {
     "name": "stderr",
     "output_type": "stream",
     "text": [
      "2023-07-15 21:49:52,989 INFO Request is running\n",
      "2023-07-15 21:50:00,242 INFO Request is completed\n",
      "2023-07-15 21:50:00,243 INFO Downloading https://download-0012-clone.copernicus-climate.eu/cache-compute-0012/cache/data3/adaptor.esgf_wps.retrieve-1689450599.3580568-14705-7-596b0bcd-6fbb-4c0c-b724-8f3a56f20a56.zip to download.zip (683.6K)\n",
      "2023-07-15 21:50:00,807 INFO Download rate 1.2M/s                                                                      \n"
     ]
    },
    {
     "name": "stdout",
     "output_type": "stream",
     "text": [
      "The file has been download\n",
      "\\\\COWI.net\\projects\\A245000\\A248363\\CRVA\\Datasets\\radiation\\surface_downwelling_shortwave_radiation\\Copernicus-CMIP6\\raw_data\\2015-2100\\ssp1_2_6\\cnrm_cm6_1\\all-Mozambique\n",
      "Path for the file is created, did not existed before\n"
     ]
    },
    {
     "name": "stderr",
     "output_type": "stream",
     "text": [
      "2023-07-15 21:50:01,725 INFO Welcome to the CDS\n",
      "2023-07-15 21:50:01,726 INFO Sending request to https://cds.climate.copernicus.eu/api/v2/resources/projections-cmip6\n",
      "2023-07-15 21:50:01,816 INFO Request is queued\n"
     ]
    },
    {
     "name": "stdout",
     "output_type": "stream",
     "text": [
      "the file named rsds_Amon_CNRM-CM6-1_ssp126_r1i1p1f2_gr_20150116-21001216_v20190219.nc was moved\n",
      "\n",
      " The downloaded file is extracted\n",
      "The file has been extracted\n",
      "Test with scenario ssp1_2_6 and model cnrm_esm2_1\n",
      "path_for_file does not exist: the data may not have been downloaded\n",
      "file_download does not exist: the data were not downloaded\n"
     ]
    },
    {
     "name": "stderr",
     "output_type": "stream",
     "text": [
      "2023-07-15 21:50:02,850 INFO Request is running\n",
      "2023-07-15 21:50:10,100 INFO Request is completed\n",
      "2023-07-15 21:50:10,101 INFO Downloading https://download-0014-clone.copernicus-climate.eu/cache-compute-0014/cache/data0/adaptor.esgf_wps.retrieve-1689450609.4188116-30693-10-54081b87-356e-4628-aefb-421e6042464d.zip to download.zip (665K)\n",
      "2023-07-15 21:50:10,676 INFO Download rate 1.1M/s                                                                      \n"
     ]
    },
    {
     "name": "stdout",
     "output_type": "stream",
     "text": [
      "The file has been download\n",
      "\\\\COWI.net\\projects\\A245000\\A248363\\CRVA\\Datasets\\radiation\\surface_downwelling_shortwave_radiation\\Copernicus-CMIP6\\raw_data\\2015-2100\\ssp1_2_6\\cnrm_esm2_1\\all-Mozambique\n",
      "Path for the file is created, did not existed before\n"
     ]
    },
    {
     "name": "stderr",
     "output_type": "stream",
     "text": [
      "2023-07-15 21:50:12,150 INFO Welcome to the CDS\n",
      "2023-07-15 21:50:12,151 INFO Sending request to https://cds.climate.copernicus.eu/api/v2/resources/projections-cmip6\n",
      "2023-07-15 21:50:12,241 INFO Request is queued\n"
     ]
    },
    {
     "name": "stdout",
     "output_type": "stream",
     "text": [
      "the file named rsds_Amon_CNRM-ESM2-1_ssp126_r1i1p1f2_gr_20150116-21001216_v20190328.nc was moved\n",
      "\n",
      " The downloaded file is extracted\n",
      "The file has been extracted\n",
      "Test with scenario ssp1_2_6 and model e3sm_1_1\n",
      "path_for_file does not exist: the data may not have been downloaded\n",
      "file_download does not exist: the data were not downloaded\n"
     ]
    },
    {
     "name": "stderr",
     "output_type": "stream",
     "text": [
      "2023-07-15 21:50:13,294 INFO Request is failed\n",
      "2023-07-15 21:50:13,295 ERROR Message: an internal error occurred processing your request\n",
      "2023-07-15 21:50:13,296 ERROR Reason:  No matching data for request {'experiment': 'ssp126', 'model': 'E3SM-1-1', 'temporal_resolution': 'mon', 'variable': 'rsds'}\n",
      "2023-07-15 21:50:13,296 ERROR   Traceback (most recent call last):\n",
      "2023-07-15 21:50:13,297 ERROR     File \"/opt/cdstoolbox/cdscompute/cdscompute/cdshandlers/services/handler.py\", line 59, in handle_request\n",
      "2023-07-15 21:50:13,298 ERROR       result = cached(context.method, proc, context, context.args, context.kwargs)\n",
      "2023-07-15 21:50:13,299 ERROR     File \"/opt/cdstoolbox/cdscompute/cdscompute/caching.py\", line 108, in cached\n",
      "2023-07-15 21:50:13,301 ERROR       result = proc(context, *context.args, **context.kwargs)\n",
      "2023-07-15 21:50:13,301 ERROR     File \"/opt/cdstoolbox/cdscompute/cdscompute/services.py\", line 124, in __call__\n",
      "2023-07-15 21:50:13,302 ERROR       return p(*args, **kwargs)\n",
      "2023-07-15 21:50:13,303 ERROR     File \"/opt/cdstoolbox/cdscompute/cdscompute/services.py\", line 60, in __call__\n",
      "2023-07-15 21:50:13,305 ERROR       return self.proc(context, *args, **kwargs)\n",
      "2023-07-15 21:50:13,306 ERROR     File \"/home/cds/cdsservices/services/esgf_wps/__init__.py\", line 30, in execute\n",
      "2023-07-15 21:50:13,307 ERROR       request_facets, request = facets.search(context, request)\n",
      "2023-07-15 21:50:13,307 ERROR     File \"/home/cds/cdsservices/services/esgf_wps/facets.py\", line 61, in search\n",
      "2023-07-15 21:50:13,308 ERROR       raise ValueError(f'No matching data for request {tmp_request}')\n",
      "2023-07-15 21:50:13,309 ERROR   ValueError: No matching data for request {'experiment': 'ssp126', 'model': 'E3SM-1-1', 'temporal_resolution': 'mon', 'variable': 'rsds'}\n",
      "2023-07-15 21:50:13,349 INFO Welcome to the CDS\n",
      "2023-07-15 21:50:13,350 INFO Sending request to https://cds.climate.copernicus.eu/api/v2/resources/projections-cmip6\n",
      "2023-07-15 21:50:13,389 INFO Request is queued\n"
     ]
    },
    {
     "name": "stdout",
     "output_type": "stream",
     "text": [
      "Some parameters are not matching\n",
      "Test with scenario ssp1_2_6 and model ec_earth3\n",
      "path_for_file does not exist: the data may not have been downloaded\n",
      "file_download does not exist: the data were not downloaded\n"
     ]
    },
    {
     "name": "stderr",
     "output_type": "stream",
     "text": [
      "2023-07-15 21:50:14,436 INFO Request is failed\n",
      "2023-07-15 21:50:14,438 ERROR Message: an internal error occurred processing your request\n",
      "2023-07-15 21:50:14,439 ERROR Reason:  No matching data for request {'experiment': 'ssp126', 'model': 'EC-Earth3', 'temporal_resolution': 'mon', 'variable': 'rsds'}\n",
      "2023-07-15 21:50:14,440 ERROR   Traceback (most recent call last):\n",
      "2023-07-15 21:50:14,441 ERROR     File \"/opt/cdstoolbox/cdscompute/cdscompute/cdshandlers/services/handler.py\", line 59, in handle_request\n",
      "2023-07-15 21:50:14,441 ERROR       result = cached(context.method, proc, context, context.args, context.kwargs)\n",
      "2023-07-15 21:50:14,441 ERROR     File \"/opt/cdstoolbox/cdscompute/cdscompute/caching.py\", line 108, in cached\n",
      "2023-07-15 21:50:14,442 ERROR       result = proc(context, *context.args, **context.kwargs)\n",
      "2023-07-15 21:50:14,443 ERROR     File \"/opt/cdstoolbox/cdscompute/cdscompute/services.py\", line 124, in __call__\n",
      "2023-07-15 21:50:14,443 ERROR       return p(*args, **kwargs)\n",
      "2023-07-15 21:50:14,444 ERROR     File \"/opt/cdstoolbox/cdscompute/cdscompute/services.py\", line 60, in __call__\n",
      "2023-07-15 21:50:14,444 ERROR       return self.proc(context, *args, **kwargs)\n",
      "2023-07-15 21:50:14,445 ERROR     File \"/home/cds/cdsservices/services/esgf_wps/__init__.py\", line 30, in execute\n",
      "2023-07-15 21:50:14,445 ERROR       request_facets, request = facets.search(context, request)\n",
      "2023-07-15 21:50:14,446 ERROR     File \"/home/cds/cdsservices/services/esgf_wps/facets.py\", line 61, in search\n",
      "2023-07-15 21:50:14,446 ERROR       raise ValueError(f'No matching data for request {tmp_request}')\n",
      "2023-07-15 21:50:14,447 ERROR   ValueError: No matching data for request {'experiment': 'ssp126', 'model': 'EC-Earth3', 'temporal_resolution': 'mon', 'variable': 'rsds'}\n",
      "2023-07-15 21:50:14,480 INFO Welcome to the CDS\n",
      "2023-07-15 21:50:14,481 INFO Sending request to https://cds.climate.copernicus.eu/api/v2/resources/projections-cmip6\n"
     ]
    },
    {
     "name": "stdout",
     "output_type": "stream",
     "text": [
      "Some parameters are not matching\n",
      "Test with scenario ssp1_2_6 and model ec_earth3_cc\n",
      "path_for_file does not exist: the data may not have been downloaded\n",
      "file_download does not exist: the data were not downloaded\n"
     ]
    },
    {
     "name": "stderr",
     "output_type": "stream",
     "text": [
      "2023-07-15 21:50:14,753 INFO Request is queued\n",
      "2023-07-15 21:50:15,791 INFO Request is failed\n",
      "2023-07-15 21:50:15,792 ERROR Message: an internal error occurred processing your request\n",
      "2023-07-15 21:50:15,792 ERROR Reason:  No matching data for request {'experiment': 'ssp126', 'model': 'EC-Earth3-CC', 'temporal_resolution': 'mon', 'variable': 'rsds'}\n",
      "2023-07-15 21:50:15,793 ERROR   Traceback (most recent call last):\n",
      "2023-07-15 21:50:15,793 ERROR     File \"/opt/cdstoolbox/cdscompute/cdscompute/cdshandlers/services/handler.py\", line 59, in handle_request\n",
      "2023-07-15 21:50:15,794 ERROR       result = cached(context.method, proc, context, context.args, context.kwargs)\n",
      "2023-07-15 21:50:15,795 ERROR     File \"/opt/cdstoolbox/cdscompute/cdscompute/caching.py\", line 108, in cached\n",
      "2023-07-15 21:50:15,795 ERROR       result = proc(context, *context.args, **context.kwargs)\n",
      "2023-07-15 21:50:15,796 ERROR     File \"/opt/cdstoolbox/cdscompute/cdscompute/services.py\", line 124, in __call__\n",
      "2023-07-15 21:50:15,797 ERROR       return p(*args, **kwargs)\n",
      "2023-07-15 21:50:15,797 ERROR     File \"/opt/cdstoolbox/cdscompute/cdscompute/services.py\", line 60, in __call__\n",
      "2023-07-15 21:50:15,798 ERROR       return self.proc(context, *args, **kwargs)\n",
      "2023-07-15 21:50:15,798 ERROR     File \"/home/cds/cdsservices/services/esgf_wps/__init__.py\", line 30, in execute\n",
      "2023-07-15 21:50:15,798 ERROR       request_facets, request = facets.search(context, request)\n",
      "2023-07-15 21:50:15,799 ERROR     File \"/home/cds/cdsservices/services/esgf_wps/facets.py\", line 61, in search\n",
      "2023-07-15 21:50:15,799 ERROR       raise ValueError(f'No matching data for request {tmp_request}')\n",
      "2023-07-15 21:50:15,799 ERROR   ValueError: No matching data for request {'experiment': 'ssp126', 'model': 'EC-Earth3-CC', 'temporal_resolution': 'mon', 'variable': 'rsds'}\n",
      "2023-07-15 21:50:15,843 INFO Welcome to the CDS\n",
      "2023-07-15 21:50:15,843 INFO Sending request to https://cds.climate.copernicus.eu/api/v2/resources/projections-cmip6\n",
      "2023-07-15 21:50:15,906 INFO Request is queued\n"
     ]
    },
    {
     "name": "stdout",
     "output_type": "stream",
     "text": [
      "Some parameters are not matching\n",
      "Test with scenario ssp1_2_6 and model ec_earth3_veg_lr\n",
      "path_for_file does not exist: the data may not have been downloaded\n",
      "file_download does not exist: the data were not downloaded\n"
     ]
    },
    {
     "name": "stderr",
     "output_type": "stream",
     "text": [
      "2023-07-15 21:50:16,947 INFO Request is running\n",
      "2023-07-15 21:50:36,941 INFO Request is completed\n",
      "2023-07-15 21:50:36,942 INFO Downloading https://download-0020.copernicus-climate.eu/cache-compute-0020/cache/data7/adaptor.esgf_wps.retrieve-1689450632.9107625-10229-6-4734799c-5f6f-41a3-8884-2628dc27f967.zip to download.zip (751.8K)\n",
      "2023-07-15 21:50:37,678 INFO Download rate 1022.6K/s                                                                   \n"
     ]
    },
    {
     "name": "stdout",
     "output_type": "stream",
     "text": [
      "The file has been download\n",
      "\\\\COWI.net\\projects\\A245000\\A248363\\CRVA\\Datasets\\radiation\\surface_downwelling_shortwave_radiation\\Copernicus-CMIP6\\raw_data\\2015-2100\\ssp1_2_6\\ec_earth3_veg_lr\\all-Mozambique\n",
      "Path for the file is created, did not existed before\n"
     ]
    },
    {
     "name": "stderr",
     "output_type": "stream",
     "text": [
      "2023-07-15 21:50:38,551 INFO Welcome to the CDS\n",
      "2023-07-15 21:50:38,552 INFO Sending request to https://cds.climate.copernicus.eu/api/v2/resources/projections-cmip6\n",
      "2023-07-15 21:50:38,647 INFO Request is queued\n"
     ]
    },
    {
     "name": "stdout",
     "output_type": "stream",
     "text": [
      "the file named rsds_Amon_EC-Earth3-Veg-LR_ssp126_r1i1p1f1_gr_20150116-21001216_v20201201.nc was moved\n",
      "\n",
      " The downloaded file is extracted\n",
      "The file has been extracted\n",
      "Test with scenario ssp1_2_6 and model fgoals_g3\n",
      "path_for_file does not exist: the data may not have been downloaded\n",
      "file_download does not exist: the data were not downloaded\n"
     ]
    },
    {
     "name": "stderr",
     "output_type": "stream",
     "text": [
      "2023-07-15 21:50:39,685 INFO Request is running\n",
      "2023-07-15 21:50:46,938 INFO Request is completed\n",
      "2023-07-15 21:50:46,940 INFO Downloading https://download-0008-clone.copernicus-climate.eu/cache-compute-0008/cache/data6/adaptor.esgf_wps.retrieve-1689450646.2442827-23484-8-e66caebe-336f-44bd-be78-02698053735e.zip to download.zip (645.1K)\n",
      "2023-07-15 21:50:47,596 INFO Download rate 986.5K/s                                                                    \n"
     ]
    },
    {
     "name": "stdout",
     "output_type": "stream",
     "text": [
      "The file has been download\n",
      "\\\\COWI.net\\projects\\A245000\\A248363\\CRVA\\Datasets\\radiation\\surface_downwelling_shortwave_radiation\\Copernicus-CMIP6\\raw_data\\2015-2100\\ssp1_2_6\\fgoals_g3\\all-Mozambique\n",
      "Path for the file is created, did not existed before\n"
     ]
    },
    {
     "name": "stderr",
     "output_type": "stream",
     "text": [
      "2023-07-15 21:50:49,053 INFO Welcome to the CDS\n",
      "2023-07-15 21:50:49,053 INFO Sending request to https://cds.climate.copernicus.eu/api/v2/resources/projections-cmip6\n",
      "2023-07-15 21:50:49,113 INFO Request is queued\n"
     ]
    },
    {
     "name": "stdout",
     "output_type": "stream",
     "text": [
      "the file named rsds_Amon_FGOALS-g3_ssp126_r1i1p1f1_gn_20150116-21001216_v20200927.nc was moved\n",
      "\n",
      " The downloaded file is extracted\n",
      "The file has been extracted\n",
      "Test with scenario ssp1_2_6 and model gfdl_esm4\n",
      "path_for_file does not exist: the data may not have been downloaded\n",
      "file_download does not exist: the data were not downloaded\n"
     ]
    },
    {
     "name": "stderr",
     "output_type": "stream",
     "text": [
      "2023-07-15 21:50:50,155 INFO Request is running\n",
      "2023-07-15 21:51:02,510 INFO Request is completed\n",
      "2023-07-15 21:51:02,512 INFO Downloading https://download-0019.copernicus-climate.eu/cache-compute-0019/cache/data2/adaptor.esgf_wps.retrieve-1689450659.5977545-27737-10-f1392b5b-71f4-41f6-a40b-036d1430aa9b.zip to download.zip (866.5K)\n",
      "2023-07-15 21:51:03,094 INFO Download rate 1.5M/s                                                                      \n"
     ]
    },
    {
     "name": "stdout",
     "output_type": "stream",
     "text": [
      "The file has been download\n",
      "\\\\COWI.net\\projects\\A245000\\A248363\\CRVA\\Datasets\\radiation\\surface_downwelling_shortwave_radiation\\Copernicus-CMIP6\\raw_data\\2015-2100\\ssp1_2_6\\gfdl_esm4\\all-Mozambique\n",
      "Path for the file is created, did not existed before\n"
     ]
    },
    {
     "name": "stderr",
     "output_type": "stream",
     "text": [
      "2023-07-15 21:51:03,971 INFO Welcome to the CDS\n",
      "2023-07-15 21:51:03,972 INFO Sending request to https://cds.climate.copernicus.eu/api/v2/resources/projections-cmip6\n",
      "2023-07-15 21:51:04,026 INFO Request is queued\n"
     ]
    },
    {
     "name": "stdout",
     "output_type": "stream",
     "text": [
      "the file named rsds_Amon_GFDL-ESM4_ssp126_r1i1p1f1_gr1_20150116-21001216_v20180701.nc was moved\n",
      "\n",
      " The downloaded file is extracted\n",
      "The file has been extracted\n",
      "Test with scenario ssp1_2_6 and model giss_e2_1_h\n",
      "path_for_file does not exist: the data may not have been downloaded\n",
      "file_download does not exist: the data were not downloaded\n"
     ]
    },
    {
     "name": "stderr",
     "output_type": "stream",
     "text": [
      "2023-07-15 21:51:05,065 INFO Request is failed\n",
      "2023-07-15 21:51:05,066 ERROR Message: an internal error occurred processing your request\n",
      "2023-07-15 21:51:05,068 ERROR Reason:  No matching data for request {'experiment': 'ssp126', 'model': 'GISS-E2-1-H', 'temporal_resolution': 'mon', 'variable': 'rsds'}\n",
      "2023-07-15 21:51:05,068 ERROR   Traceback (most recent call last):\n",
      "2023-07-15 21:51:05,068 ERROR     File \"/opt/cdstoolbox/cdscompute/cdscompute/cdshandlers/services/handler.py\", line 59, in handle_request\n",
      "2023-07-15 21:51:05,069 ERROR       result = cached(context.method, proc, context, context.args, context.kwargs)\n",
      "2023-07-15 21:51:05,070 ERROR     File \"/opt/cdstoolbox/cdscompute/cdscompute/caching.py\", line 108, in cached\n",
      "2023-07-15 21:51:05,070 ERROR       result = proc(context, *context.args, **context.kwargs)\n",
      "2023-07-15 21:51:05,071 ERROR     File \"/opt/cdstoolbox/cdscompute/cdscompute/services.py\", line 124, in __call__\n",
      "2023-07-15 21:51:05,072 ERROR       return p(*args, **kwargs)\n",
      "2023-07-15 21:51:05,072 ERROR     File \"/opt/cdstoolbox/cdscompute/cdscompute/services.py\", line 60, in __call__\n",
      "2023-07-15 21:51:05,072 ERROR       return self.proc(context, *args, **kwargs)\n",
      "2023-07-15 21:51:05,073 ERROR     File \"/home/cds/cdsservices/services/esgf_wps/__init__.py\", line 30, in execute\n",
      "2023-07-15 21:51:05,074 ERROR       request_facets, request = facets.search(context, request)\n",
      "2023-07-15 21:51:05,074 ERROR     File \"/home/cds/cdsservices/services/esgf_wps/facets.py\", line 61, in search\n",
      "2023-07-15 21:51:05,075 ERROR       raise ValueError(f'No matching data for request {tmp_request}')\n",
      "2023-07-15 21:51:05,075 ERROR   ValueError: No matching data for request {'experiment': 'ssp126', 'model': 'GISS-E2-1-H', 'temporal_resolution': 'mon', 'variable': 'rsds'}\n",
      "2023-07-15 21:51:05,111 INFO Welcome to the CDS\n",
      "2023-07-15 21:51:05,112 INFO Sending request to https://cds.climate.copernicus.eu/api/v2/resources/projections-cmip6\n",
      "2023-07-15 21:51:05,201 INFO Request is queued\n"
     ]
    },
    {
     "name": "stdout",
     "output_type": "stream",
     "text": [
      "Some parameters are not matching\n",
      "Test with scenario ssp1_2_6 and model hadgem3_gc31_mm\n",
      "path_for_file does not exist: the data may not have been downloaded\n",
      "file_download does not exist: the data were not downloaded\n"
     ]
    },
    {
     "name": "stderr",
     "output_type": "stream",
     "text": [
      "2023-07-15 21:51:06,239 INFO Request is failed\n",
      "2023-07-15 21:51:06,239 ERROR Message: an internal error occurred processing your request\n",
      "2023-07-15 21:51:06,240 ERROR Reason:  execution failed\n",
      "2023-07-15 21:51:06,241 ERROR   Traceback (most recent call last):\n",
      "2023-07-15 21:51:06,241 ERROR     File \"/usr/local/lib/python3.6/site-packages/birdy/client/base.py\", line 386, in _execute\n",
      "2023-07-15 21:51:06,241 ERROR       lineage=self._lineage,\n",
      "2023-07-15 21:51:06,242 ERROR     File \"/usr/local/lib/python3.6/site-packages/owslib/wps.py\", line 359, in execute\n",
      "2023-07-15 21:51:06,242 ERROR       response = execution.submitRequest(request)\n",
      "2023-07-15 21:51:06,243 ERROR     File \"/usr/local/lib/python3.6/site-packages/owslib/wps.py\", line 912, in submitRequest\n",
      "2023-07-15 21:51:06,244 ERROR       self.url, request, method='Post', headers=self.headers)\n",
      "2023-07-15 21:51:06,244 ERROR     File \"/usr/local/lib/python3.6/site-packages/owslib/wps.py\", line 603, in readFromUrl\n",
      "2023-07-15 21:51:06,245 ERROR       headers=headers, verify=verify, cert=cert)\n",
      "2023-07-15 21:51:06,246 ERROR     File \"/usr/local/lib/python3.6/site-packages/owslib/wps.py\", line 515, in _readFromUrl\n",
      "2023-07-15 21:51:06,246 ERROR       headers=headers, verify=self.auth.verify, cert=self.auth.cert, timeout=timeout)\n",
      "2023-07-15 21:51:06,246 ERROR     File \"/usr/local/lib/python3.6/site-packages/owslib/util.py\", line 209, in openURL\n",
      "2023-07-15 21:51:06,247 ERROR       req.raise_for_status()\n",
      "2023-07-15 21:51:06,248 ERROR     File \"/usr/local/lib/python3.6/site-packages/requests/models.py\", line 960, in raise_for_status\n",
      "2023-07-15 21:51:06,248 ERROR       raise HTTPError(http_error_msg, response=self)\n",
      "2023-07-15 21:51:06,248 ERROR   requests.exceptions.HTTPError: 500 Server Error: INTERNAL SERVER ERROR for url: http://compute.mips.copernicus-climate.eu/wps\n",
      "2023-07-15 21:51:06,281 INFO Welcome to the CDS\n",
      "2023-07-15 21:51:06,282 INFO Sending request to https://cds.climate.copernicus.eu/api/v2/resources/projections-cmip6\n",
      "2023-07-15 21:51:06,330 INFO Request is queued\n"
     ]
    },
    {
     "name": "stdout",
     "output_type": "stream",
     "text": [
      "Some parameters are not matching\n",
      "Test with scenario ssp1_2_6 and model inm_cm4_8\n",
      "path_for_file does not exist: the data may not have been downloaded\n",
      "file_download does not exist: the data were not downloaded\n"
     ]
    },
    {
     "name": "stderr",
     "output_type": "stream",
     "text": [
      "2023-07-15 21:51:07,371 INFO Request is running\n",
      "2023-07-15 21:51:19,731 INFO Request is completed\n",
      "2023-07-15 21:51:19,732 INFO Downloading https://download-0011-clone.copernicus-climate.eu/cache-compute-0011/cache/data5/adaptor.esgf_wps.retrieve-1689450676.8417542-11430-10-dacb2025-f982-4036-9ea9-04dd7468e140.zip to download.zip (573.9K)\n",
      "2023-07-15 21:51:20,321 INFO Download rate 974.8K/s                                                                    \n"
     ]
    },
    {
     "name": "stdout",
     "output_type": "stream",
     "text": [
      "The file has been download\n",
      "\\\\COWI.net\\projects\\A245000\\A248363\\CRVA\\Datasets\\radiation\\surface_downwelling_shortwave_radiation\\Copernicus-CMIP6\\raw_data\\2015-2100\\ssp1_2_6\\inm_cm4_8\\all-Mozambique\n",
      "Path for the file is created, did not existed before\n"
     ]
    },
    {
     "name": "stderr",
     "output_type": "stream",
     "text": [
      "2023-07-15 21:51:21,649 INFO Welcome to the CDS\n",
      "2023-07-15 21:51:21,649 INFO Sending request to https://cds.climate.copernicus.eu/api/v2/resources/projections-cmip6\n",
      "2023-07-15 21:51:21,739 INFO Request is queued\n"
     ]
    },
    {
     "name": "stdout",
     "output_type": "stream",
     "text": [
      "the file named rsds_Amon_INM-CM4-8_ssp126_r1i1p1f1_gr1_20150116-21001216_v20190603.nc was moved\n",
      "\n",
      " The downloaded file is extracted\n",
      "The file has been extracted\n",
      "Test with scenario ssp1_2_6 and model ipsl_cm5a2_inca\n",
      "path_for_file does not exist: the data may not have been downloaded\n",
      "file_download does not exist: the data were not downloaded\n"
     ]
    },
    {
     "name": "stderr",
     "output_type": "stream",
     "text": [
      "2023-07-15 21:51:22,786 INFO Request is failed\n",
      "2023-07-15 21:51:22,787 ERROR Message: an internal error occurred processing your request\n",
      "2023-07-15 21:51:22,788 ERROR Reason:  execution failed\n",
      "2023-07-15 21:51:22,789 ERROR   Traceback (most recent call last):\n",
      "2023-07-15 21:51:22,789 ERROR     File \"/usr/local/lib/python3.6/site-packages/birdy/client/base.py\", line 386, in _execute\n",
      "2023-07-15 21:51:22,790 ERROR       lineage=self._lineage,\n",
      "2023-07-15 21:51:22,790 ERROR     File \"/usr/local/lib/python3.6/site-packages/owslib/wps.py\", line 359, in execute\n",
      "2023-07-15 21:51:22,790 ERROR       response = execution.submitRequest(request)\n",
      "2023-07-15 21:51:22,791 ERROR     File \"/usr/local/lib/python3.6/site-packages/owslib/wps.py\", line 912, in submitRequest\n",
      "2023-07-15 21:51:22,791 ERROR       self.url, request, method='Post', headers=self.headers)\n",
      "2023-07-15 21:51:22,791 ERROR     File \"/usr/local/lib/python3.6/site-packages/owslib/wps.py\", line 603, in readFromUrl\n",
      "2023-07-15 21:51:22,793 ERROR       headers=headers, verify=verify, cert=cert)\n",
      "2023-07-15 21:51:22,793 ERROR     File \"/usr/local/lib/python3.6/site-packages/owslib/wps.py\", line 515, in _readFromUrl\n",
      "2023-07-15 21:51:22,795 ERROR       headers=headers, verify=self.auth.verify, cert=self.auth.cert, timeout=timeout)\n",
      "2023-07-15 21:51:22,795 ERROR     File \"/usr/local/lib/python3.6/site-packages/owslib/util.py\", line 209, in openURL\n",
      "2023-07-15 21:51:22,795 ERROR       req.raise_for_status()\n",
      "2023-07-15 21:51:22,796 ERROR     File \"/usr/local/lib/python3.6/site-packages/requests/models.py\", line 960, in raise_for_status\n",
      "2023-07-15 21:51:22,796 ERROR       raise HTTPError(http_error_msg, response=self)\n",
      "2023-07-15 21:51:22,797 ERROR   requests.exceptions.HTTPError: 500 Server Error: INTERNAL SERVER ERROR for url: http://compute.mips.copernicus-climate.eu/wps\n",
      "2023-07-15 21:51:22,835 INFO Welcome to the CDS\n",
      "2023-07-15 21:51:22,835 INFO Sending request to https://cds.climate.copernicus.eu/api/v2/resources/projections-cmip6\n",
      "2023-07-15 21:51:22,950 INFO Request is queued\n"
     ]
    },
    {
     "name": "stdout",
     "output_type": "stream",
     "text": [
      "Some parameters are not matching\n",
      "Test with scenario ssp1_2_6 and model kace_1_0_g\n",
      "path_for_file does not exist: the data may not have been downloaded\n",
      "file_download does not exist: the data were not downloaded\n"
     ]
    },
    {
     "name": "stderr",
     "output_type": "stream",
     "text": [
      "2023-07-15 21:51:24,000 INFO Request is failed\n",
      "2023-07-15 21:51:24,001 ERROR Message: an internal error occurred processing your request\n",
      "2023-07-15 21:51:24,002 ERROR Reason:  execution failed\n",
      "2023-07-15 21:51:24,002 ERROR   Traceback (most recent call last):\n",
      "2023-07-15 21:51:24,003 ERROR     File \"/usr/local/lib/python3.6/site-packages/birdy/client/base.py\", line 386, in _execute\n",
      "2023-07-15 21:51:24,003 ERROR       lineage=self._lineage,\n",
      "2023-07-15 21:51:24,004 ERROR     File \"/usr/local/lib/python3.6/site-packages/owslib/wps.py\", line 359, in execute\n",
      "2023-07-15 21:51:24,005 ERROR       response = execution.submitRequest(request)\n",
      "2023-07-15 21:51:24,005 ERROR     File \"/usr/local/lib/python3.6/site-packages/owslib/wps.py\", line 912, in submitRequest\n",
      "2023-07-15 21:51:24,006 ERROR       self.url, request, method='Post', headers=self.headers)\n",
      "2023-07-15 21:51:24,006 ERROR     File \"/usr/local/lib/python3.6/site-packages/owslib/wps.py\", line 603, in readFromUrl\n",
      "2023-07-15 21:51:24,007 ERROR       headers=headers, verify=verify, cert=cert)\n",
      "2023-07-15 21:51:24,008 ERROR     File \"/usr/local/lib/python3.6/site-packages/owslib/wps.py\", line 515, in _readFromUrl\n",
      "2023-07-15 21:51:24,008 ERROR       headers=headers, verify=self.auth.verify, cert=self.auth.cert, timeout=timeout)\n",
      "2023-07-15 21:51:24,009 ERROR     File \"/usr/local/lib/python3.6/site-packages/owslib/util.py\", line 209, in openURL\n",
      "2023-07-15 21:51:24,009 ERROR       req.raise_for_status()\n",
      "2023-07-15 21:51:24,010 ERROR     File \"/usr/local/lib/python3.6/site-packages/requests/models.py\", line 960, in raise_for_status\n",
      "2023-07-15 21:51:24,010 ERROR       raise HTTPError(http_error_msg, response=self)\n",
      "2023-07-15 21:51:24,011 ERROR   requests.exceptions.HTTPError: 500 Server Error: INTERNAL SERVER ERROR for url: http://compute.mips.copernicus-climate.eu/wps\n",
      "2023-07-15 21:51:24,052 INFO Welcome to the CDS\n",
      "2023-07-15 21:51:24,053 INFO Sending request to https://cds.climate.copernicus.eu/api/v2/resources/projections-cmip6\n",
      "2023-07-15 21:51:24,111 INFO Request is queued\n"
     ]
    },
    {
     "name": "stdout",
     "output_type": "stream",
     "text": [
      "Some parameters are not matching\n",
      "Test with scenario ssp1_2_6 and model mcm_ua_1_0\n",
      "path_for_file does not exist: the data may not have been downloaded\n",
      "file_download does not exist: the data were not downloaded\n"
     ]
    },
    {
     "name": "stderr",
     "output_type": "stream",
     "text": [
      "2023-07-15 21:51:25,157 INFO Request is failed\n",
      "2023-07-15 21:51:25,159 ERROR Message: an internal error occurred processing your request\n",
      "2023-07-15 21:51:25,159 ERROR Reason:  No matching data for request {'experiment': 'ssp126', 'model': 'MCM-UA-1-0', 'temporal_resolution': 'mon', 'variable': 'rsds'}\n",
      "2023-07-15 21:51:25,160 ERROR   Traceback (most recent call last):\n",
      "2023-07-15 21:51:25,160 ERROR     File \"/opt/cdstoolbox/cdscompute/cdscompute/cdshandlers/services/handler.py\", line 59, in handle_request\n",
      "2023-07-15 21:51:25,161 ERROR       result = cached(context.method, proc, context, context.args, context.kwargs)\n",
      "2023-07-15 21:51:25,161 ERROR     File \"/opt/cdstoolbox/cdscompute/cdscompute/caching.py\", line 108, in cached\n",
      "2023-07-15 21:51:25,162 ERROR       result = proc(context, *context.args, **context.kwargs)\n",
      "2023-07-15 21:51:25,163 ERROR     File \"/opt/cdstoolbox/cdscompute/cdscompute/services.py\", line 124, in __call__\n",
      "2023-07-15 21:51:25,163 ERROR       return p(*args, **kwargs)\n",
      "2023-07-15 21:51:25,164 ERROR     File \"/opt/cdstoolbox/cdscompute/cdscompute/services.py\", line 60, in __call__\n",
      "2023-07-15 21:51:25,165 ERROR       return self.proc(context, *args, **kwargs)\n",
      "2023-07-15 21:51:25,166 ERROR     File \"/home/cds/cdsservices/services/esgf_wps/__init__.py\", line 30, in execute\n",
      "2023-07-15 21:51:25,166 ERROR       request_facets, request = facets.search(context, request)\n",
      "2023-07-15 21:51:25,167 ERROR     File \"/home/cds/cdsservices/services/esgf_wps/facets.py\", line 61, in search\n",
      "2023-07-15 21:51:25,167 ERROR       raise ValueError(f'No matching data for request {tmp_request}')\n",
      "2023-07-15 21:51:25,168 ERROR   ValueError: No matching data for request {'experiment': 'ssp126', 'model': 'MCM-UA-1-0', 'temporal_resolution': 'mon', 'variable': 'rsds'}\n",
      "2023-07-15 21:51:25,206 INFO Welcome to the CDS\n",
      "2023-07-15 21:51:25,207 INFO Sending request to https://cds.climate.copernicus.eu/api/v2/resources/projections-cmip6\n",
      "2023-07-15 21:51:25,259 INFO Request is queued\n"
     ]
    },
    {
     "name": "stdout",
     "output_type": "stream",
     "text": [
      "Some parameters are not matching\n",
      "Test with scenario ssp1_2_6 and model miroc_es2h\n",
      "path_for_file does not exist: the data may not have been downloaded\n",
      "file_download does not exist: the data were not downloaded\n"
     ]
    },
    {
     "name": "stderr",
     "output_type": "stream",
     "text": [
      "2023-07-15 21:51:26,310 INFO Request is failed\n",
      "2023-07-15 21:51:26,311 ERROR Message: an internal error occurred processing your request\n",
      "2023-07-15 21:51:26,311 ERROR Reason:  No matching data for request {'experiment': 'ssp126', 'model': 'MIROC-ES2H', 'temporal_resolution': 'mon', 'variable': 'rsds'}\n",
      "2023-07-15 21:51:26,312 ERROR   Traceback (most recent call last):\n",
      "2023-07-15 21:51:26,312 ERROR     File \"/opt/cdstoolbox/cdscompute/cdscompute/cdshandlers/services/handler.py\", line 59, in handle_request\n",
      "2023-07-15 21:51:26,313 ERROR       result = cached(context.method, proc, context, context.args, context.kwargs)\n",
      "2023-07-15 21:51:26,314 ERROR     File \"/opt/cdstoolbox/cdscompute/cdscompute/caching.py\", line 108, in cached\n",
      "2023-07-15 21:51:26,314 ERROR       result = proc(context, *context.args, **context.kwargs)\n",
      "2023-07-15 21:51:26,315 ERROR     File \"/opt/cdstoolbox/cdscompute/cdscompute/services.py\", line 124, in __call__\n",
      "2023-07-15 21:51:26,315 ERROR       return p(*args, **kwargs)\n",
      "2023-07-15 21:51:26,317 ERROR     File \"/opt/cdstoolbox/cdscompute/cdscompute/services.py\", line 60, in __call__\n",
      "2023-07-15 21:51:26,317 ERROR       return self.proc(context, *args, **kwargs)\n",
      "2023-07-15 21:51:26,318 ERROR     File \"/home/cds/cdsservices/services/esgf_wps/__init__.py\", line 30, in execute\n",
      "2023-07-15 21:51:26,319 ERROR       request_facets, request = facets.search(context, request)\n",
      "2023-07-15 21:51:26,319 ERROR     File \"/home/cds/cdsservices/services/esgf_wps/facets.py\", line 61, in search\n",
      "2023-07-15 21:51:26,319 ERROR       raise ValueError(f'No matching data for request {tmp_request}')\n",
      "2023-07-15 21:51:26,320 ERROR   ValueError: No matching data for request {'experiment': 'ssp126', 'model': 'MIROC-ES2H', 'temporal_resolution': 'mon', 'variable': 'rsds'}\n",
      "2023-07-15 21:51:26,357 INFO Welcome to the CDS\n",
      "2023-07-15 21:51:26,358 INFO Sending request to https://cds.climate.copernicus.eu/api/v2/resources/projections-cmip6\n",
      "2023-07-15 21:51:26,412 INFO Request is queued\n"
     ]
    },
    {
     "name": "stdout",
     "output_type": "stream",
     "text": [
      "Some parameters are not matching\n",
      "Test with scenario ssp1_2_6 and model mpi_esm_1_2_ham\n",
      "path_for_file does not exist: the data may not have been downloaded\n",
      "file_download does not exist: the data were not downloaded\n"
     ]
    },
    {
     "name": "stderr",
     "output_type": "stream",
     "text": [
      "2023-07-15 21:51:27,457 INFO Request is failed\n",
      "2023-07-15 21:51:27,458 ERROR Message: an internal error occurred processing your request\n",
      "2023-07-15 21:51:27,459 ERROR Reason:  No matching data for request {'experiment': 'ssp126', 'model': 'MPI-ESM-1-2-HAM', 'temporal_resolution': 'mon', 'variable': 'rsds'}\n",
      "2023-07-15 21:51:27,460 ERROR   Traceback (most recent call last):\n",
      "2023-07-15 21:51:27,460 ERROR     File \"/opt/cdstoolbox/cdscompute/cdscompute/cdshandlers/services/handler.py\", line 59, in handle_request\n",
      "2023-07-15 21:51:27,461 ERROR       result = cached(context.method, proc, context, context.args, context.kwargs)\n",
      "2023-07-15 21:51:27,462 ERROR     File \"/opt/cdstoolbox/cdscompute/cdscompute/caching.py\", line 108, in cached\n",
      "2023-07-15 21:51:27,462 ERROR       result = proc(context, *context.args, **context.kwargs)\n",
      "2023-07-15 21:51:27,462 ERROR     File \"/opt/cdstoolbox/cdscompute/cdscompute/services.py\", line 124, in __call__\n",
      "2023-07-15 21:51:27,463 ERROR       return p(*args, **kwargs)\n",
      "2023-07-15 21:51:27,465 ERROR     File \"/opt/cdstoolbox/cdscompute/cdscompute/services.py\", line 60, in __call__\n",
      "2023-07-15 21:51:27,465 ERROR       return self.proc(context, *args, **kwargs)\n",
      "2023-07-15 21:51:27,466 ERROR     File \"/home/cds/cdsservices/services/esgf_wps/__init__.py\", line 30, in execute\n",
      "2023-07-15 21:51:27,466 ERROR       request_facets, request = facets.search(context, request)\n",
      "2023-07-15 21:51:27,467 ERROR     File \"/home/cds/cdsservices/services/esgf_wps/facets.py\", line 61, in search\n",
      "2023-07-15 21:51:27,467 ERROR       raise ValueError(f'No matching data for request {tmp_request}')\n",
      "2023-07-15 21:51:27,468 ERROR   ValueError: No matching data for request {'experiment': 'ssp126', 'model': 'MPI-ESM-1-2-HAM', 'temporal_resolution': 'mon', 'variable': 'rsds'}\n",
      "2023-07-15 21:51:27,504 INFO Welcome to the CDS\n",
      "2023-07-15 21:51:27,504 INFO Sending request to https://cds.climate.copernicus.eu/api/v2/resources/projections-cmip6\n",
      "2023-07-15 21:51:27,561 INFO Request is queued\n"
     ]
    },
    {
     "name": "stdout",
     "output_type": "stream",
     "text": [
      "Some parameters are not matching\n",
      "Test with scenario ssp1_2_6 and model mpi_esm1_2_lr\n",
      "path_for_file does not exist: the data may not have been downloaded\n",
      "file_download does not exist: the data were not downloaded\n"
     ]
    },
    {
     "name": "stderr",
     "output_type": "stream",
     "text": [
      "2023-07-15 21:51:28,609 INFO Request is running\n",
      "2023-07-15 21:51:35,856 INFO Request is completed\n",
      "2023-07-15 21:51:35,857 INFO Downloading https://download-0014-clone.copernicus-climate.eu/cache-compute-0014/cache/data9/adaptor.esgf_wps.retrieve-1689450695.0212507-28621-11-dfb710c1-1634-4ac9-8364-d7a045777915.zip to download.zip (323K)\n",
      "2023-07-15 21:51:36,406 INFO Download rate 587.9K/s                                                                    \n"
     ]
    },
    {
     "name": "stdout",
     "output_type": "stream",
     "text": [
      "The file has been download\n",
      "\\\\COWI.net\\projects\\A245000\\A248363\\CRVA\\Datasets\\radiation\\surface_downwelling_shortwave_radiation\\Copernicus-CMIP6\\raw_data\\2015-2100\\ssp1_2_6\\mpi_esm1_2_lr\\all-Mozambique\n",
      "Path for the file is created, did not existed before\n"
     ]
    },
    {
     "name": "stderr",
     "output_type": "stream",
     "text": [
      "2023-07-15 21:51:37,537 INFO Welcome to the CDS\n",
      "2023-07-15 21:51:37,538 INFO Sending request to https://cds.climate.copernicus.eu/api/v2/resources/projections-cmip6\n",
      "2023-07-15 21:51:37,629 INFO Request is queued\n"
     ]
    },
    {
     "name": "stdout",
     "output_type": "stream",
     "text": [
      "the file named rsds_Amon_MPI-ESM1-2-LR_ssp126_r1i1p1f1_gn_20150116-21001216_v20190710.nc was moved\n",
      "\n",
      " The downloaded file is extracted\n",
      "The file has been extracted\n",
      "Test with scenario ssp1_2_6 and model nesm3\n",
      "path_for_file does not exist: the data may not have been downloaded\n",
      "file_download does not exist: the data were not downloaded\n"
     ]
    },
    {
     "name": "stderr",
     "output_type": "stream",
     "text": [
      "2023-07-15 21:51:38,669 INFO Request is failed\n",
      "2023-07-15 21:51:38,670 ERROR Message: an internal error occurred processing your request\n",
      "2023-07-15 21:51:38,673 ERROR Reason:  execution failed\n",
      "2023-07-15 21:51:38,673 ERROR   Traceback (most recent call last):\n",
      "2023-07-15 21:51:38,674 ERROR     File \"/usr/local/lib/python3.6/site-packages/birdy/client/base.py\", line 386, in _execute\n",
      "2023-07-15 21:51:38,675 ERROR       lineage=self._lineage,\n",
      "2023-07-15 21:51:38,675 ERROR     File \"/usr/local/lib/python3.6/site-packages/owslib/wps.py\", line 359, in execute\n",
      "2023-07-15 21:51:38,675 ERROR       response = execution.submitRequest(request)\n",
      "2023-07-15 21:51:38,676 ERROR     File \"/usr/local/lib/python3.6/site-packages/owslib/wps.py\", line 912, in submitRequest\n",
      "2023-07-15 21:51:38,676 ERROR       self.url, request, method='Post', headers=self.headers)\n",
      "2023-07-15 21:51:38,677 ERROR     File \"/usr/local/lib/python3.6/site-packages/owslib/wps.py\", line 603, in readFromUrl\n",
      "2023-07-15 21:51:38,677 ERROR       headers=headers, verify=verify, cert=cert)\n",
      "2023-07-15 21:51:38,679 ERROR     File \"/usr/local/lib/python3.6/site-packages/owslib/wps.py\", line 515, in _readFromUrl\n",
      "2023-07-15 21:51:38,679 ERROR       headers=headers, verify=self.auth.verify, cert=self.auth.cert, timeout=timeout)\n",
      "2023-07-15 21:51:38,680 ERROR     File \"/usr/local/lib/python3.6/site-packages/owslib/util.py\", line 209, in openURL\n",
      "2023-07-15 21:51:38,680 ERROR       req.raise_for_status()\n",
      "2023-07-15 21:51:38,680 ERROR     File \"/usr/local/lib/python3.6/site-packages/requests/models.py\", line 960, in raise_for_status\n",
      "2023-07-15 21:51:38,681 ERROR       raise HTTPError(http_error_msg, response=self)\n",
      "2023-07-15 21:51:38,681 ERROR   requests.exceptions.HTTPError: 500 Server Error: INTERNAL SERVER ERROR for url: http://compute.mips.copernicus-climate.eu/wps\n",
      "2023-07-15 21:51:38,718 INFO Welcome to the CDS\n",
      "2023-07-15 21:51:38,719 INFO Sending request to https://cds.climate.copernicus.eu/api/v2/resources/projections-cmip6\n",
      "2023-07-15 21:51:38,779 INFO Request is queued\n"
     ]
    },
    {
     "name": "stdout",
     "output_type": "stream",
     "text": [
      "Some parameters are not matching\n",
      "Test with scenario ssp1_2_6 and model noresm2_lm\n",
      "path_for_file does not exist: the data may not have been downloaded\n",
      "file_download does not exist: the data were not downloaded\n"
     ]
    },
    {
     "name": "stderr",
     "output_type": "stream",
     "text": [
      "2023-07-15 21:51:39,823 INFO Request is failed\n",
      "2023-07-15 21:51:39,824 ERROR Message: an internal error occurred processing your request\n",
      "2023-07-15 21:51:39,824 ERROR Reason:  execution failed\n",
      "2023-07-15 21:51:39,825 ERROR   Traceback (most recent call last):\n",
      "2023-07-15 21:51:39,825 ERROR     File \"/usr/local/lib/python3.6/site-packages/birdy/client/base.py\", line 386, in _execute\n",
      "2023-07-15 21:51:39,826 ERROR       lineage=self._lineage,\n",
      "2023-07-15 21:51:39,827 ERROR     File \"/usr/local/lib/python3.6/site-packages/owslib/wps.py\", line 359, in execute\n",
      "2023-07-15 21:51:39,827 ERROR       response = execution.submitRequest(request)\n",
      "2023-07-15 21:51:39,828 ERROR     File \"/usr/local/lib/python3.6/site-packages/owslib/wps.py\", line 912, in submitRequest\n",
      "2023-07-15 21:51:39,829 ERROR       self.url, request, method='Post', headers=self.headers)\n",
      "2023-07-15 21:51:39,829 ERROR     File \"/usr/local/lib/python3.6/site-packages/owslib/wps.py\", line 603, in readFromUrl\n",
      "2023-07-15 21:51:39,830 ERROR       headers=headers, verify=verify, cert=cert)\n",
      "2023-07-15 21:51:39,830 ERROR     File \"/usr/local/lib/python3.6/site-packages/owslib/wps.py\", line 515, in _readFromUrl\n",
      "2023-07-15 21:51:39,831 ERROR       headers=headers, verify=self.auth.verify, cert=self.auth.cert, timeout=timeout)\n",
      "2023-07-15 21:51:39,832 ERROR     File \"/usr/local/lib/python3.6/site-packages/owslib/util.py\", line 209, in openURL\n",
      "2023-07-15 21:51:39,832 ERROR       req.raise_for_status()\n",
      "2023-07-15 21:51:39,833 ERROR     File \"/usr/local/lib/python3.6/site-packages/requests/models.py\", line 960, in raise_for_status\n",
      "2023-07-15 21:51:39,833 ERROR       raise HTTPError(http_error_msg, response=self)\n",
      "2023-07-15 21:51:39,833 ERROR   requests.exceptions.HTTPError: 500 Server Error: INTERNAL SERVER ERROR for url: http://compute.mips.copernicus-climate.eu/wps\n",
      "2023-07-15 21:51:39,868 INFO Welcome to the CDS\n",
      "2023-07-15 21:51:39,869 INFO Sending request to https://cds.climate.copernicus.eu/api/v2/resources/projections-cmip6\n",
      "2023-07-15 21:51:39,926 INFO Request is queued\n"
     ]
    },
    {
     "name": "stdout",
     "output_type": "stream",
     "text": [
      "Some parameters are not matching\n",
      "Test with scenario ssp1_2_6 and model sam0_unicon\n",
      "path_for_file does not exist: the data may not have been downloaded\n",
      "file_download does not exist: the data were not downloaded\n"
     ]
    },
    {
     "name": "stderr",
     "output_type": "stream",
     "text": [
      "2023-07-15 21:51:40,978 INFO Request is failed\n",
      "2023-07-15 21:51:40,979 ERROR Message: an internal error occurred processing your request\n",
      "2023-07-15 21:51:40,980 ERROR Reason:  No matching data for request {'experiment': 'ssp126', 'model': 'SAM0-UNICON', 'temporal_resolution': 'mon', 'variable': 'rsds'}\n",
      "2023-07-15 21:51:40,981 ERROR   Traceback (most recent call last):\n",
      "2023-07-15 21:51:40,981 ERROR     File \"/opt/cdstoolbox/cdscompute/cdscompute/cdshandlers/services/handler.py\", line 59, in handle_request\n",
      "2023-07-15 21:51:40,982 ERROR       result = cached(context.method, proc, context, context.args, context.kwargs)\n",
      "2023-07-15 21:51:40,983 ERROR     File \"/opt/cdstoolbox/cdscompute/cdscompute/caching.py\", line 108, in cached\n",
      "2023-07-15 21:51:40,983 ERROR       result = proc(context, *context.args, **context.kwargs)\n",
      "2023-07-15 21:51:40,984 ERROR     File \"/opt/cdstoolbox/cdscompute/cdscompute/services.py\", line 124, in __call__\n",
      "2023-07-15 21:51:40,985 ERROR       return p(*args, **kwargs)\n",
      "2023-07-15 21:51:40,986 ERROR     File \"/opt/cdstoolbox/cdscompute/cdscompute/services.py\", line 60, in __call__\n",
      "2023-07-15 21:51:40,986 ERROR       return self.proc(context, *args, **kwargs)\n",
      "2023-07-15 21:51:40,987 ERROR     File \"/home/cds/cdsservices/services/esgf_wps/__init__.py\", line 30, in execute\n",
      "2023-07-15 21:51:40,987 ERROR       request_facets, request = facets.search(context, request)\n",
      "2023-07-15 21:51:40,989 ERROR     File \"/home/cds/cdsservices/services/esgf_wps/facets.py\", line 61, in search\n",
      "2023-07-15 21:51:40,989 ERROR       raise ValueError(f'No matching data for request {tmp_request}')\n",
      "2023-07-15 21:51:40,990 ERROR   ValueError: No matching data for request {'experiment': 'ssp126', 'model': 'SAM0-UNICON', 'temporal_resolution': 'mon', 'variable': 'rsds'}\n",
      "2023-07-15 21:51:41,032 INFO Welcome to the CDS\n",
      "2023-07-15 21:51:41,033 INFO Sending request to https://cds.climate.copernicus.eu/api/v2/resources/projections-cmip6\n",
      "2023-07-15 21:51:41,089 INFO Request is queued\n"
     ]
    },
    {
     "name": "stdout",
     "output_type": "stream",
     "text": [
      "Some parameters are not matching\n",
      "Test with scenario ssp1_2_6 and model ukesm1_0_ll\n",
      "path_for_file does not exist: the data may not have been downloaded\n",
      "file_download does not exist: the data were not downloaded\n"
     ]
    },
    {
     "name": "stderr",
     "output_type": "stream",
     "text": [
      "2023-07-15 21:51:42,125 INFO Request is failed\n",
      "2023-07-15 21:51:42,126 ERROR Message: an internal error occurred processing your request\n",
      "2023-07-15 21:51:42,128 ERROR Reason:  execution failed\n",
      "2023-07-15 21:51:42,128 ERROR   Traceback (most recent call last):\n",
      "2023-07-15 21:51:42,128 ERROR     File \"/usr/local/lib/python3.6/site-packages/birdy/client/base.py\", line 386, in _execute\n",
      "2023-07-15 21:51:42,130 ERROR       lineage=self._lineage,\n",
      "2023-07-15 21:51:42,130 ERROR     File \"/usr/local/lib/python3.6/site-packages/owslib/wps.py\", line 359, in execute\n",
      "2023-07-15 21:51:42,131 ERROR       response = execution.submitRequest(request)\n",
      "2023-07-15 21:51:42,131 ERROR     File \"/usr/local/lib/python3.6/site-packages/owslib/wps.py\", line 912, in submitRequest\n",
      "2023-07-15 21:51:42,132 ERROR       self.url, request, method='Post', headers=self.headers)\n",
      "2023-07-15 21:51:42,132 ERROR     File \"/usr/local/lib/python3.6/site-packages/owslib/wps.py\", line 603, in readFromUrl\n",
      "2023-07-15 21:51:42,133 ERROR       headers=headers, verify=verify, cert=cert)\n",
      "2023-07-15 21:51:42,133 ERROR     File \"/usr/local/lib/python3.6/site-packages/owslib/wps.py\", line 515, in _readFromUrl\n",
      "2023-07-15 21:51:42,133 ERROR       headers=headers, verify=self.auth.verify, cert=self.auth.cert, timeout=timeout)\n",
      "2023-07-15 21:51:42,134 ERROR     File \"/usr/local/lib/python3.6/site-packages/owslib/util.py\", line 209, in openURL\n",
      "2023-07-15 21:51:42,134 ERROR       req.raise_for_status()\n",
      "2023-07-15 21:51:42,135 ERROR     File \"/usr/local/lib/python3.6/site-packages/requests/models.py\", line 960, in raise_for_status\n",
      "2023-07-15 21:51:42,135 ERROR       raise HTTPError(http_error_msg, response=self)\n",
      "2023-07-15 21:51:42,136 ERROR   requests.exceptions.HTTPError: 500 Server Error: INTERNAL SERVER ERROR for url: http://compute.mips.copernicus-climate.eu/wps\n",
      "2023-07-15 21:51:42,172 INFO Welcome to the CDS\n",
      "2023-07-15 21:51:42,173 INFO Sending request to https://cds.climate.copernicus.eu/api/v2/resources/projections-cmip6\n",
      "2023-07-15 21:51:42,246 INFO Request is queued\n"
     ]
    },
    {
     "name": "stdout",
     "output_type": "stream",
     "text": [
      "Some parameters are not matching\n",
      "Test with scenario ssp4_3_4 and model access_cm2\n",
      "path_for_file does not exist: the data may not have been downloaded\n",
      "file_download does not exist: the data were not downloaded\n"
     ]
    },
    {
     "name": "stderr",
     "output_type": "stream",
     "text": [
      "2023-07-15 21:51:43,292 INFO Request is failed\n",
      "2023-07-15 21:51:43,293 ERROR Message: an internal error occurred processing your request\n",
      "2023-07-15 21:51:43,293 ERROR Reason:  No matching data for request {'experiment': 'ssp434', 'model': 'ACCESS-CM2', 'temporal_resolution': 'mon', 'variable': 'rsds'}\n",
      "2023-07-15 21:51:43,294 ERROR   Traceback (most recent call last):\n",
      "2023-07-15 21:51:43,295 ERROR     File \"/opt/cdstoolbox/cdscompute/cdscompute/cdshandlers/services/handler.py\", line 59, in handle_request\n",
      "2023-07-15 21:51:43,295 ERROR       result = cached(context.method, proc, context, context.args, context.kwargs)\n",
      "2023-07-15 21:51:43,295 ERROR     File \"/opt/cdstoolbox/cdscompute/cdscompute/caching.py\", line 108, in cached\n",
      "2023-07-15 21:51:43,296 ERROR       result = proc(context, *context.args, **context.kwargs)\n",
      "2023-07-15 21:51:43,296 ERROR     File \"/opt/cdstoolbox/cdscompute/cdscompute/services.py\", line 124, in __call__\n",
      "2023-07-15 21:51:43,297 ERROR       return p(*args, **kwargs)\n",
      "2023-07-15 21:51:43,297 ERROR     File \"/opt/cdstoolbox/cdscompute/cdscompute/services.py\", line 60, in __call__\n",
      "2023-07-15 21:51:43,297 ERROR       return self.proc(context, *args, **kwargs)\n",
      "2023-07-15 21:51:43,298 ERROR     File \"/home/cds/cdsservices/services/esgf_wps/__init__.py\", line 30, in execute\n",
      "2023-07-15 21:51:43,298 ERROR       request_facets, request = facets.search(context, request)\n",
      "2023-07-15 21:51:43,298 ERROR     File \"/home/cds/cdsservices/services/esgf_wps/facets.py\", line 61, in search\n",
      "2023-07-15 21:51:43,299 ERROR       raise ValueError(f'No matching data for request {tmp_request}')\n",
      "2023-07-15 21:51:43,299 ERROR   ValueError: No matching data for request {'experiment': 'ssp434', 'model': 'ACCESS-CM2', 'temporal_resolution': 'mon', 'variable': 'rsds'}\n",
      "2023-07-15 21:51:43,335 INFO Welcome to the CDS\n",
      "2023-07-15 21:51:43,336 INFO Sending request to https://cds.climate.copernicus.eu/api/v2/resources/projections-cmip6\n",
      "2023-07-15 21:51:43,405 INFO Request is queued\n"
     ]
    },
    {
     "name": "stdout",
     "output_type": "stream",
     "text": [
      "Some parameters are not matching\n",
      "Test with scenario ssp4_3_4 and model awi_cm_1_1_mr\n",
      "path_for_file does not exist: the data may not have been downloaded\n",
      "file_download does not exist: the data were not downloaded\n"
     ]
    },
    {
     "name": "stderr",
     "output_type": "stream",
     "text": [
      "2023-07-15 21:51:44,446 INFO Request is failed\n",
      "2023-07-15 21:51:44,448 ERROR Message: an internal error occurred processing your request\n",
      "2023-07-15 21:51:44,449 ERROR Reason:  No matching data for request {'experiment': 'ssp434', 'model': 'AWI-CM-1-1-MR', 'temporal_resolution': 'mon', 'variable': 'rsds'}\n",
      "2023-07-15 21:51:44,450 ERROR   Traceback (most recent call last):\n",
      "2023-07-15 21:51:44,450 ERROR     File \"/opt/cdstoolbox/cdscompute/cdscompute/cdshandlers/services/handler.py\", line 59, in handle_request\n",
      "2023-07-15 21:51:44,451 ERROR       result = cached(context.method, proc, context, context.args, context.kwargs)\n",
      "2023-07-15 21:51:44,452 ERROR     File \"/opt/cdstoolbox/cdscompute/cdscompute/caching.py\", line 108, in cached\n",
      "2023-07-15 21:51:44,452 ERROR       result = proc(context, *context.args, **context.kwargs)\n",
      "2023-07-15 21:51:44,452 ERROR     File \"/opt/cdstoolbox/cdscompute/cdscompute/services.py\", line 124, in __call__\n",
      "2023-07-15 21:51:44,454 ERROR       return p(*args, **kwargs)\n",
      "2023-07-15 21:51:44,455 ERROR     File \"/opt/cdstoolbox/cdscompute/cdscompute/services.py\", line 60, in __call__\n",
      "2023-07-15 21:51:44,456 ERROR       return self.proc(context, *args, **kwargs)\n",
      "2023-07-15 21:51:44,456 ERROR     File \"/home/cds/cdsservices/services/esgf_wps/__init__.py\", line 30, in execute\n",
      "2023-07-15 21:51:44,457 ERROR       request_facets, request = facets.search(context, request)\n",
      "2023-07-15 21:51:44,458 ERROR     File \"/home/cds/cdsservices/services/esgf_wps/facets.py\", line 61, in search\n",
      "2023-07-15 21:51:44,459 ERROR       raise ValueError(f'No matching data for request {tmp_request}')\n",
      "2023-07-15 21:51:44,459 ERROR   ValueError: No matching data for request {'experiment': 'ssp434', 'model': 'AWI-CM-1-1-MR', 'temporal_resolution': 'mon', 'variable': 'rsds'}\n",
      "2023-07-15 21:51:44,495 INFO Welcome to the CDS\n",
      "2023-07-15 21:51:44,496 INFO Sending request to https://cds.climate.copernicus.eu/api/v2/resources/projections-cmip6\n",
      "2023-07-15 21:51:44,631 INFO Request is queued\n"
     ]
    },
    {
     "name": "stdout",
     "output_type": "stream",
     "text": [
      "Some parameters are not matching\n",
      "Test with scenario ssp4_3_4 and model bcc_csm2_mr\n",
      "path_for_file does not exist: the data may not have been downloaded\n",
      "file_download does not exist: the data were not downloaded\n"
     ]
    },
    {
     "name": "stderr",
     "output_type": "stream",
     "text": [
      "2023-07-15 21:51:45,677 INFO Request is failed\n",
      "2023-07-15 21:51:45,677 ERROR Message: an internal error occurred processing your request\n",
      "2023-07-15 21:51:45,677 ERROR Reason:  No matching data for request {'experiment': 'ssp434', 'model': 'BCC-CSM2-MR', 'temporal_resolution': 'mon', 'variable': 'rsds'}\n",
      "2023-07-15 21:51:45,678 ERROR   Traceback (most recent call last):\n",
      "2023-07-15 21:51:45,678 ERROR     File \"/opt/cdstoolbox/cdscompute/cdscompute/cdshandlers/services/handler.py\", line 59, in handle_request\n",
      "2023-07-15 21:51:45,679 ERROR       result = cached(context.method, proc, context, context.args, context.kwargs)\n",
      "2023-07-15 21:51:45,679 ERROR     File \"/opt/cdstoolbox/cdscompute/cdscompute/caching.py\", line 108, in cached\n",
      "2023-07-15 21:51:45,681 ERROR       result = proc(context, *context.args, **context.kwargs)\n",
      "2023-07-15 21:51:45,682 ERROR     File \"/opt/cdstoolbox/cdscompute/cdscompute/services.py\", line 124, in __call__\n",
      "2023-07-15 21:51:45,682 ERROR       return p(*args, **kwargs)\n",
      "2023-07-15 21:51:45,683 ERROR     File \"/opt/cdstoolbox/cdscompute/cdscompute/services.py\", line 60, in __call__\n",
      "2023-07-15 21:51:45,683 ERROR       return self.proc(context, *args, **kwargs)\n",
      "2023-07-15 21:51:45,685 ERROR     File \"/home/cds/cdsservices/services/esgf_wps/__init__.py\", line 30, in execute\n",
      "2023-07-15 21:51:45,685 ERROR       request_facets, request = facets.search(context, request)\n",
      "2023-07-15 21:51:45,686 ERROR     File \"/home/cds/cdsservices/services/esgf_wps/facets.py\", line 61, in search\n",
      "2023-07-15 21:51:45,686 ERROR       raise ValueError(f'No matching data for request {tmp_request}')\n",
      "2023-07-15 21:51:45,687 ERROR   ValueError: No matching data for request {'experiment': 'ssp434', 'model': 'BCC-CSM2-MR', 'temporal_resolution': 'mon', 'variable': 'rsds'}\n",
      "2023-07-15 21:51:45,723 INFO Welcome to the CDS\n",
      "2023-07-15 21:51:45,724 INFO Sending request to https://cds.climate.copernicus.eu/api/v2/resources/projections-cmip6\n",
      "2023-07-15 21:51:45,777 INFO Request is queued\n"
     ]
    },
    {
     "name": "stdout",
     "output_type": "stream",
     "text": [
      "Some parameters are not matching\n",
      "Test with scenario ssp4_3_4 and model cams_csm1_0\n",
      "path_for_file does not exist: the data may not have been downloaded\n",
      "file_download does not exist: the data were not downloaded\n"
     ]
    },
    {
     "name": "stderr",
     "output_type": "stream",
     "text": [
      "2023-07-15 21:51:46,827 INFO Request is failed\n",
      "2023-07-15 21:51:46,828 ERROR Message: an internal error occurred processing your request\n",
      "2023-07-15 21:51:46,829 ERROR Reason:  No matching data for request {'experiment': 'ssp434', 'model': 'CAMS-CSM1-0', 'temporal_resolution': 'mon', 'variable': 'rsds'}\n",
      "2023-07-15 21:51:46,829 ERROR   Traceback (most recent call last):\n",
      "2023-07-15 21:51:46,830 ERROR     File \"/opt/cdstoolbox/cdscompute/cdscompute/cdshandlers/services/handler.py\", line 59, in handle_request\n",
      "2023-07-15 21:51:46,830 ERROR       result = cached(context.method, proc, context, context.args, context.kwargs)\n",
      "2023-07-15 21:51:46,830 ERROR     File \"/opt/cdstoolbox/cdscompute/cdscompute/caching.py\", line 108, in cached\n",
      "2023-07-15 21:51:46,830 ERROR       result = proc(context, *context.args, **context.kwargs)\n",
      "2023-07-15 21:51:46,831 ERROR     File \"/opt/cdstoolbox/cdscompute/cdscompute/services.py\", line 124, in __call__\n",
      "2023-07-15 21:51:46,832 ERROR       return p(*args, **kwargs)\n",
      "2023-07-15 21:51:46,832 ERROR     File \"/opt/cdstoolbox/cdscompute/cdscompute/services.py\", line 60, in __call__\n",
      "2023-07-15 21:51:46,834 ERROR       return self.proc(context, *args, **kwargs)\n",
      "2023-07-15 21:51:46,834 ERROR     File \"/home/cds/cdsservices/services/esgf_wps/__init__.py\", line 30, in execute\n",
      "2023-07-15 21:51:46,835 ERROR       request_facets, request = facets.search(context, request)\n",
      "2023-07-15 21:51:46,835 ERROR     File \"/home/cds/cdsservices/services/esgf_wps/facets.py\", line 61, in search\n",
      "2023-07-15 21:51:46,836 ERROR       raise ValueError(f'No matching data for request {tmp_request}')\n",
      "2023-07-15 21:51:46,837 ERROR   ValueError: No matching data for request {'experiment': 'ssp434', 'model': 'CAMS-CSM1-0', 'temporal_resolution': 'mon', 'variable': 'rsds'}\n",
      "2023-07-15 21:51:46,872 INFO Welcome to the CDS\n",
      "2023-07-15 21:51:46,873 INFO Sending request to https://cds.climate.copernicus.eu/api/v2/resources/projections-cmip6\n",
      "2023-07-15 21:51:46,932 INFO Request is queued\n"
     ]
    },
    {
     "name": "stdout",
     "output_type": "stream",
     "text": [
      "Some parameters are not matching\n",
      "Test with scenario ssp4_3_4 and model canesm5_canoe\n",
      "path_for_file does not exist: the data may not have been downloaded\n",
      "file_download does not exist: the data were not downloaded\n"
     ]
    },
    {
     "name": "stderr",
     "output_type": "stream",
     "text": [
      "2023-07-15 21:51:47,975 INFO Request is failed\n",
      "2023-07-15 21:51:47,976 ERROR Message: an internal error occurred processing your request\n",
      "2023-07-15 21:51:47,976 ERROR Reason:  No matching data for request {'experiment': 'ssp434', 'model': 'CanESM5-CanOE', 'temporal_resolution': 'mon', 'variable': 'rsds'}\n",
      "2023-07-15 21:51:47,977 ERROR   Traceback (most recent call last):\n",
      "2023-07-15 21:51:47,977 ERROR     File \"/opt/cdstoolbox/cdscompute/cdscompute/cdshandlers/services/handler.py\", line 59, in handle_request\n",
      "2023-07-15 21:51:47,978 ERROR       result = cached(context.method, proc, context, context.args, context.kwargs)\n",
      "2023-07-15 21:51:47,979 ERROR     File \"/opt/cdstoolbox/cdscompute/cdscompute/caching.py\", line 108, in cached\n",
      "2023-07-15 21:51:47,980 ERROR       result = proc(context, *context.args, **context.kwargs)\n",
      "2023-07-15 21:51:47,981 ERROR     File \"/opt/cdstoolbox/cdscompute/cdscompute/services.py\", line 124, in __call__\n",
      "2023-07-15 21:51:47,981 ERROR       return p(*args, **kwargs)\n",
      "2023-07-15 21:51:47,982 ERROR     File \"/opt/cdstoolbox/cdscompute/cdscompute/services.py\", line 60, in __call__\n",
      "2023-07-15 21:51:47,982 ERROR       return self.proc(context, *args, **kwargs)\n",
      "2023-07-15 21:51:47,983 ERROR     File \"/home/cds/cdsservices/services/esgf_wps/__init__.py\", line 30, in execute\n",
      "2023-07-15 21:51:47,984 ERROR       request_facets, request = facets.search(context, request)\n",
      "2023-07-15 21:51:47,984 ERROR     File \"/home/cds/cdsservices/services/esgf_wps/facets.py\", line 61, in search\n",
      "2023-07-15 21:51:47,985 ERROR       raise ValueError(f'No matching data for request {tmp_request}')\n",
      "2023-07-15 21:51:47,985 ERROR   ValueError: No matching data for request {'experiment': 'ssp434', 'model': 'CanESM5-CanOE', 'temporal_resolution': 'mon', 'variable': 'rsds'}\n",
      "2023-07-15 21:51:48,020 INFO Welcome to the CDS\n",
      "2023-07-15 21:51:48,021 INFO Sending request to https://cds.climate.copernicus.eu/api/v2/resources/projections-cmip6\n",
      "2023-07-15 21:51:48,097 INFO Request is queued\n"
     ]
    },
    {
     "name": "stdout",
     "output_type": "stream",
     "text": [
      "Some parameters are not matching\n",
      "Test with scenario ssp4_3_4 and model cesm2_fv2\n",
      "path_for_file does not exist: the data may not have been downloaded\n",
      "file_download does not exist: the data were not downloaded\n"
     ]
    },
    {
     "name": "stderr",
     "output_type": "stream",
     "text": [
      "2023-07-15 21:51:49,142 INFO Request is failed\n",
      "2023-07-15 21:51:49,144 ERROR Message: an internal error occurred processing your request\n",
      "2023-07-15 21:51:49,146 ERROR Reason:  No matching data for request {'experiment': 'ssp434', 'model': 'CESM2-FV2', 'temporal_resolution': 'mon', 'variable': 'rsds'}\n",
      "2023-07-15 21:51:49,147 ERROR   Traceback (most recent call last):\n",
      "2023-07-15 21:51:49,148 ERROR     File \"/opt/cdstoolbox/cdscompute/cdscompute/cdshandlers/services/handler.py\", line 59, in handle_request\n",
      "2023-07-15 21:51:49,148 ERROR       result = cached(context.method, proc, context, context.args, context.kwargs)\n",
      "2023-07-15 21:51:49,149 ERROR     File \"/opt/cdstoolbox/cdscompute/cdscompute/caching.py\", line 108, in cached\n",
      "2023-07-15 21:51:49,149 ERROR       result = proc(context, *context.args, **context.kwargs)\n",
      "2023-07-15 21:51:49,151 ERROR     File \"/opt/cdstoolbox/cdscompute/cdscompute/services.py\", line 124, in __call__\n",
      "2023-07-15 21:51:49,151 ERROR       return p(*args, **kwargs)\n",
      "2023-07-15 21:51:49,152 ERROR     File \"/opt/cdstoolbox/cdscompute/cdscompute/services.py\", line 60, in __call__\n",
      "2023-07-15 21:51:49,152 ERROR       return self.proc(context, *args, **kwargs)\n",
      "2023-07-15 21:51:49,153 ERROR     File \"/home/cds/cdsservices/services/esgf_wps/__init__.py\", line 30, in execute\n",
      "2023-07-15 21:51:49,153 ERROR       request_facets, request = facets.search(context, request)\n",
      "2023-07-15 21:51:49,154 ERROR     File \"/home/cds/cdsservices/services/esgf_wps/facets.py\", line 61, in search\n",
      "2023-07-15 21:51:49,154 ERROR       raise ValueError(f'No matching data for request {tmp_request}')\n",
      "2023-07-15 21:51:49,154 ERROR   ValueError: No matching data for request {'experiment': 'ssp434', 'model': 'CESM2-FV2', 'temporal_resolution': 'mon', 'variable': 'rsds'}\n",
      "2023-07-15 21:51:49,190 INFO Welcome to the CDS\n",
      "2023-07-15 21:51:49,191 INFO Sending request to https://cds.climate.copernicus.eu/api/v2/resources/projections-cmip6\n",
      "2023-07-15 21:51:49,268 INFO Request is queued\n"
     ]
    },
    {
     "name": "stdout",
     "output_type": "stream",
     "text": [
      "Some parameters are not matching\n",
      "Test with scenario ssp4_3_4 and model cesm2_waccm_fv2\n",
      "path_for_file does not exist: the data may not have been downloaded\n",
      "file_download does not exist: the data were not downloaded\n"
     ]
    },
    {
     "name": "stderr",
     "output_type": "stream",
     "text": [
      "2023-07-15 21:51:50,307 INFO Request is failed\n",
      "2023-07-15 21:51:50,307 ERROR Message: an internal error occurred processing your request\n",
      "2023-07-15 21:51:50,308 ERROR Reason:  No matching data for request {'experiment': 'ssp434', 'model': 'CESM2-WACCM-FV2', 'temporal_resolution': 'mon', 'variable': 'rsds'}\n",
      "2023-07-15 21:51:50,309 ERROR   Traceback (most recent call last):\n",
      "2023-07-15 21:51:50,309 ERROR     File \"/opt/cdstoolbox/cdscompute/cdscompute/cdshandlers/services/handler.py\", line 59, in handle_request\n",
      "2023-07-15 21:51:50,310 ERROR       result = cached(context.method, proc, context, context.args, context.kwargs)\n",
      "2023-07-15 21:51:50,310 ERROR     File \"/opt/cdstoolbox/cdscompute/cdscompute/caching.py\", line 108, in cached\n",
      "2023-07-15 21:51:50,310 ERROR       result = proc(context, *context.args, **context.kwargs)\n",
      "2023-07-15 21:51:50,311 ERROR     File \"/opt/cdstoolbox/cdscompute/cdscompute/services.py\", line 124, in __call__\n",
      "2023-07-15 21:51:50,311 ERROR       return p(*args, **kwargs)\n",
      "2023-07-15 21:51:50,312 ERROR     File \"/opt/cdstoolbox/cdscompute/cdscompute/services.py\", line 60, in __call__\n",
      "2023-07-15 21:51:50,312 ERROR       return self.proc(context, *args, **kwargs)\n",
      "2023-07-15 21:51:50,312 ERROR     File \"/home/cds/cdsservices/services/esgf_wps/__init__.py\", line 30, in execute\n",
      "2023-07-15 21:51:50,312 ERROR       request_facets, request = facets.search(context, request)\n",
      "2023-07-15 21:51:50,313 ERROR     File \"/home/cds/cdsservices/services/esgf_wps/facets.py\", line 61, in search\n",
      "2023-07-15 21:51:50,315 ERROR       raise ValueError(f'No matching data for request {tmp_request}')\n",
      "2023-07-15 21:51:50,316 ERROR   ValueError: No matching data for request {'experiment': 'ssp434', 'model': 'CESM2-WACCM-FV2', 'temporal_resolution': 'mon', 'variable': 'rsds'}\n",
      "2023-07-15 21:51:50,351 INFO Welcome to the CDS\n",
      "2023-07-15 21:51:50,352 INFO Sending request to https://cds.climate.copernicus.eu/api/v2/resources/projections-cmip6\n",
      "2023-07-15 21:51:50,409 INFO Request is queued\n"
     ]
    },
    {
     "name": "stdout",
     "output_type": "stream",
     "text": [
      "Some parameters are not matching\n",
      "Test with scenario ssp4_3_4 and model cmcc_cm2_hr4\n",
      "path_for_file does not exist: the data may not have been downloaded\n",
      "file_download does not exist: the data were not downloaded\n"
     ]
    },
    {
     "name": "stderr",
     "output_type": "stream",
     "text": [
      "2023-07-15 21:51:51,459 INFO Request is failed\n",
      "2023-07-15 21:51:51,460 ERROR Message: an internal error occurred processing your request\n",
      "2023-07-15 21:51:51,461 ERROR Reason:  No matching data for request {'experiment': 'ssp434', 'model': 'CMCC-CM2-HR4', 'temporal_resolution': 'mon', 'variable': 'rsds'}\n",
      "2023-07-15 21:51:51,461 ERROR   Traceback (most recent call last):\n",
      "2023-07-15 21:51:51,462 ERROR     File \"/opt/cdstoolbox/cdscompute/cdscompute/cdshandlers/services/handler.py\", line 59, in handle_request\n",
      "2023-07-15 21:51:51,464 ERROR       result = cached(context.method, proc, context, context.args, context.kwargs)\n",
      "2023-07-15 21:51:51,465 ERROR     File \"/opt/cdstoolbox/cdscompute/cdscompute/caching.py\", line 108, in cached\n",
      "2023-07-15 21:51:51,466 ERROR       result = proc(context, *context.args, **context.kwargs)\n",
      "2023-07-15 21:51:51,467 ERROR     File \"/opt/cdstoolbox/cdscompute/cdscompute/services.py\", line 124, in __call__\n",
      "2023-07-15 21:51:51,467 ERROR       return p(*args, **kwargs)\n",
      "2023-07-15 21:51:51,467 ERROR     File \"/opt/cdstoolbox/cdscompute/cdscompute/services.py\", line 60, in __call__\n",
      "2023-07-15 21:51:51,469 ERROR       return self.proc(context, *args, **kwargs)\n",
      "2023-07-15 21:51:51,470 ERROR     File \"/home/cds/cdsservices/services/esgf_wps/__init__.py\", line 30, in execute\n",
      "2023-07-15 21:51:51,470 ERROR       request_facets, request = facets.search(context, request)\n",
      "2023-07-15 21:51:51,470 ERROR     File \"/home/cds/cdsservices/services/esgf_wps/facets.py\", line 61, in search\n",
      "2023-07-15 21:51:51,471 ERROR       raise ValueError(f'No matching data for request {tmp_request}')\n",
      "2023-07-15 21:51:51,472 ERROR   ValueError: No matching data for request {'experiment': 'ssp434', 'model': 'CMCC-CM2-HR4', 'temporal_resolution': 'mon', 'variable': 'rsds'}\n",
      "2023-07-15 21:51:51,513 INFO Welcome to the CDS\n",
      "2023-07-15 21:51:51,514 INFO Sending request to https://cds.climate.copernicus.eu/api/v2/resources/projections-cmip6\n",
      "2023-07-15 21:51:51,592 INFO Request is queued\n"
     ]
    },
    {
     "name": "stdout",
     "output_type": "stream",
     "text": [
      "Some parameters are not matching\n",
      "Test with scenario ssp4_3_4 and model cmcc_esm2\n",
      "path_for_file does not exist: the data may not have been downloaded\n",
      "file_download does not exist: the data were not downloaded\n"
     ]
    },
    {
     "name": "stderr",
     "output_type": "stream",
     "text": [
      "2023-07-15 21:51:52,642 INFO Request is failed\n",
      "2023-07-15 21:51:52,644 ERROR Message: an internal error occurred processing your request\n",
      "2023-07-15 21:51:52,646 ERROR Reason:  No matching data for request {'experiment': 'ssp434', 'model': 'CMCC-ESM2', 'temporal_resolution': 'mon', 'variable': 'rsds'}\n",
      "2023-07-15 21:51:52,647 ERROR   Traceback (most recent call last):\n",
      "2023-07-15 21:51:52,648 ERROR     File \"/opt/cdstoolbox/cdscompute/cdscompute/cdshandlers/services/handler.py\", line 59, in handle_request\n",
      "2023-07-15 21:51:52,649 ERROR       result = cached(context.method, proc, context, context.args, context.kwargs)\n",
      "2023-07-15 21:51:52,649 ERROR     File \"/opt/cdstoolbox/cdscompute/cdscompute/caching.py\", line 108, in cached\n",
      "2023-07-15 21:51:52,650 ERROR       result = proc(context, *context.args, **context.kwargs)\n",
      "2023-07-15 21:51:52,651 ERROR     File \"/opt/cdstoolbox/cdscompute/cdscompute/services.py\", line 124, in __call__\n",
      "2023-07-15 21:51:52,652 ERROR       return p(*args, **kwargs)\n",
      "2023-07-15 21:51:52,653 ERROR     File \"/opt/cdstoolbox/cdscompute/cdscompute/services.py\", line 60, in __call__\n",
      "2023-07-15 21:51:52,654 ERROR       return self.proc(context, *args, **kwargs)\n",
      "2023-07-15 21:51:52,654 ERROR     File \"/home/cds/cdsservices/services/esgf_wps/__init__.py\", line 30, in execute\n",
      "2023-07-15 21:51:52,656 ERROR       request_facets, request = facets.search(context, request)\n",
      "2023-07-15 21:51:52,656 ERROR     File \"/home/cds/cdsservices/services/esgf_wps/facets.py\", line 61, in search\n",
      "2023-07-15 21:51:52,657 ERROR       raise ValueError(f'No matching data for request {tmp_request}')\n",
      "2023-07-15 21:51:52,657 ERROR   ValueError: No matching data for request {'experiment': 'ssp434', 'model': 'CMCC-ESM2', 'temporal_resolution': 'mon', 'variable': 'rsds'}\n",
      "2023-07-15 21:51:52,693 INFO Welcome to the CDS\n",
      "2023-07-15 21:51:52,694 INFO Sending request to https://cds.climate.copernicus.eu/api/v2/resources/projections-cmip6\n",
      "2023-07-15 21:51:52,776 INFO Request is queued\n"
     ]
    },
    {
     "name": "stdout",
     "output_type": "stream",
     "text": [
      "Some parameters are not matching\n",
      "Test with scenario ssp4_3_4 and model cnrm_cm6_1_hr\n",
      "path_for_file does not exist: the data may not have been downloaded\n",
      "file_download does not exist: the data were not downloaded\n"
     ]
    },
    {
     "name": "stderr",
     "output_type": "stream",
     "text": [
      "2023-07-15 21:51:53,823 INFO Request is failed\n",
      "2023-07-15 21:51:53,823 ERROR Message: an internal error occurred processing your request\n",
      "2023-07-15 21:51:53,824 ERROR Reason:  No matching data for request {'experiment': 'ssp434', 'model': 'CNRM-CM6-1-HR', 'temporal_resolution': 'mon', 'variable': 'rsds'}\n",
      "2023-07-15 21:51:53,825 ERROR   Traceback (most recent call last):\n",
      "2023-07-15 21:51:53,825 ERROR     File \"/opt/cdstoolbox/cdscompute/cdscompute/cdshandlers/services/handler.py\", line 59, in handle_request\n",
      "2023-07-15 21:51:53,826 ERROR       result = cached(context.method, proc, context, context.args, context.kwargs)\n",
      "2023-07-15 21:51:53,827 ERROR     File \"/opt/cdstoolbox/cdscompute/cdscompute/caching.py\", line 108, in cached\n",
      "2023-07-15 21:51:53,828 ERROR       result = proc(context, *context.args, **context.kwargs)\n",
      "2023-07-15 21:51:53,828 ERROR     File \"/opt/cdstoolbox/cdscompute/cdscompute/services.py\", line 124, in __call__\n",
      "2023-07-15 21:51:53,829 ERROR       return p(*args, **kwargs)\n",
      "2023-07-15 21:51:53,829 ERROR     File \"/opt/cdstoolbox/cdscompute/cdscompute/services.py\", line 60, in __call__\n",
      "2023-07-15 21:51:53,830 ERROR       return self.proc(context, *args, **kwargs)\n",
      "2023-07-15 21:51:53,830 ERROR     File \"/home/cds/cdsservices/services/esgf_wps/__init__.py\", line 30, in execute\n",
      "2023-07-15 21:51:53,831 ERROR       request_facets, request = facets.search(context, request)\n",
      "2023-07-15 21:51:53,832 ERROR     File \"/home/cds/cdsservices/services/esgf_wps/facets.py\", line 61, in search\n",
      "2023-07-15 21:51:53,833 ERROR       raise ValueError(f'No matching data for request {tmp_request}')\n",
      "2023-07-15 21:51:53,835 ERROR   ValueError: No matching data for request {'experiment': 'ssp434', 'model': 'CNRM-CM6-1-HR', 'temporal_resolution': 'mon', 'variable': 'rsds'}\n",
      "2023-07-15 21:51:53,877 INFO Welcome to the CDS\n",
      "2023-07-15 21:51:53,877 INFO Sending request to https://cds.climate.copernicus.eu/api/v2/resources/projections-cmip6\n",
      "2023-07-15 21:51:53,944 INFO Request is queued\n"
     ]
    },
    {
     "name": "stdout",
     "output_type": "stream",
     "text": [
      "Some parameters are not matching\n",
      "Test with scenario ssp4_3_4 and model e3sm_1_0\n",
      "path_for_file does not exist: the data may not have been downloaded\n",
      "file_download does not exist: the data were not downloaded\n"
     ]
    },
    {
     "name": "stderr",
     "output_type": "stream",
     "text": [
      "2023-07-15 21:51:54,986 INFO Request is failed\n",
      "2023-07-15 21:51:54,987 ERROR Message: an internal error occurred processing your request\n",
      "2023-07-15 21:51:54,988 ERROR Reason:  No matching data for request {'experiment': 'ssp434', 'model': 'E3SM-1-0', 'temporal_resolution': 'mon', 'variable': 'rsds'}\n",
      "2023-07-15 21:51:54,988 ERROR   Traceback (most recent call last):\n",
      "2023-07-15 21:51:54,989 ERROR     File \"/opt/cdstoolbox/cdscompute/cdscompute/cdshandlers/services/handler.py\", line 59, in handle_request\n",
      "2023-07-15 21:51:54,989 ERROR       result = cached(context.method, proc, context, context.args, context.kwargs)\n",
      "2023-07-15 21:51:54,990 ERROR     File \"/opt/cdstoolbox/cdscompute/cdscompute/caching.py\", line 108, in cached\n",
      "2023-07-15 21:51:54,990 ERROR       result = proc(context, *context.args, **context.kwargs)\n",
      "2023-07-15 21:51:54,991 ERROR     File \"/opt/cdstoolbox/cdscompute/cdscompute/services.py\", line 124, in __call__\n",
      "2023-07-15 21:51:54,991 ERROR       return p(*args, **kwargs)\n",
      "2023-07-15 21:51:54,992 ERROR     File \"/opt/cdstoolbox/cdscompute/cdscompute/services.py\", line 60, in __call__\n",
      "2023-07-15 21:51:54,992 ERROR       return self.proc(context, *args, **kwargs)\n",
      "2023-07-15 21:51:54,993 ERROR     File \"/home/cds/cdsservices/services/esgf_wps/__init__.py\", line 30, in execute\n",
      "2023-07-15 21:51:54,993 ERROR       request_facets, request = facets.search(context, request)\n",
      "2023-07-15 21:51:54,993 ERROR     File \"/home/cds/cdsservices/services/esgf_wps/facets.py\", line 61, in search\n",
      "2023-07-15 21:51:54,994 ERROR       raise ValueError(f'No matching data for request {tmp_request}')\n",
      "2023-07-15 21:51:54,994 ERROR   ValueError: No matching data for request {'experiment': 'ssp434', 'model': 'E3SM-1-0', 'temporal_resolution': 'mon', 'variable': 'rsds'}\n",
      "2023-07-15 21:51:55,030 INFO Welcome to the CDS\n",
      "2023-07-15 21:51:55,031 INFO Sending request to https://cds.climate.copernicus.eu/api/v2/resources/projections-cmip6\n",
      "2023-07-15 21:51:55,081 INFO Request is queued\n"
     ]
    },
    {
     "name": "stdout",
     "output_type": "stream",
     "text": [
      "Some parameters are not matching\n",
      "Test with scenario ssp4_3_4 and model e3sm_1_1_eca\n",
      "path_for_file does not exist: the data may not have been downloaded\n",
      "file_download does not exist: the data were not downloaded\n"
     ]
    },
    {
     "name": "stderr",
     "output_type": "stream",
     "text": [
      "2023-07-15 21:51:56,121 INFO Request is failed\n",
      "2023-07-15 21:51:56,122 ERROR Message: an internal error occurred processing your request\n",
      "2023-07-15 21:51:56,123 ERROR Reason:  No matching data for request {'experiment': 'ssp434', 'model': 'E3SM-1-1-ECA', 'temporal_resolution': 'mon', 'variable': 'rsds'}\n",
      "2023-07-15 21:51:56,124 ERROR   Traceback (most recent call last):\n",
      "2023-07-15 21:51:56,125 ERROR     File \"/opt/cdstoolbox/cdscompute/cdscompute/cdshandlers/services/handler.py\", line 59, in handle_request\n",
      "2023-07-15 21:51:56,126 ERROR       result = cached(context.method, proc, context, context.args, context.kwargs)\n",
      "2023-07-15 21:51:56,127 ERROR     File \"/opt/cdstoolbox/cdscompute/cdscompute/caching.py\", line 108, in cached\n",
      "2023-07-15 21:51:56,128 ERROR       result = proc(context, *context.args, **context.kwargs)\n",
      "2023-07-15 21:51:56,128 ERROR     File \"/opt/cdstoolbox/cdscompute/cdscompute/services.py\", line 124, in __call__\n",
      "2023-07-15 21:51:56,130 ERROR       return p(*args, **kwargs)\n",
      "2023-07-15 21:51:56,130 ERROR     File \"/opt/cdstoolbox/cdscompute/cdscompute/services.py\", line 60, in __call__\n",
      "2023-07-15 21:51:56,131 ERROR       return self.proc(context, *args, **kwargs)\n",
      "2023-07-15 21:51:56,132 ERROR     File \"/home/cds/cdsservices/services/esgf_wps/__init__.py\", line 30, in execute\n",
      "2023-07-15 21:51:56,133 ERROR       request_facets, request = facets.search(context, request)\n",
      "2023-07-15 21:51:56,133 ERROR     File \"/home/cds/cdsservices/services/esgf_wps/facets.py\", line 61, in search\n",
      "2023-07-15 21:51:56,133 ERROR       raise ValueError(f'No matching data for request {tmp_request}')\n",
      "2023-07-15 21:51:56,135 ERROR   ValueError: No matching data for request {'experiment': 'ssp434', 'model': 'E3SM-1-1-ECA', 'temporal_resolution': 'mon', 'variable': 'rsds'}\n",
      "2023-07-15 21:51:56,176 INFO Welcome to the CDS\n",
      "2023-07-15 21:51:56,177 INFO Sending request to https://cds.climate.copernicus.eu/api/v2/resources/projections-cmip6\n",
      "2023-07-15 21:51:56,220 INFO Request is queued\n"
     ]
    },
    {
     "name": "stdout",
     "output_type": "stream",
     "text": [
      "Some parameters are not matching\n",
      "Test with scenario ssp4_3_4 and model ec_earth3_aerchem\n",
      "path_for_file does not exist: the data may not have been downloaded\n",
      "file_download does not exist: the data were not downloaded\n"
     ]
    },
    {
     "name": "stderr",
     "output_type": "stream",
     "text": [
      "2023-07-15 21:51:57,259 INFO Request is failed\n",
      "2023-07-15 21:51:57,260 ERROR Message: an internal error occurred processing your request\n",
      "2023-07-15 21:51:57,261 ERROR Reason:  No matching data for request {'experiment': 'ssp434', 'model': 'EC-Earth3-AerChem', 'temporal_resolution': 'mon', 'variable': 'rsds'}\n",
      "2023-07-15 21:51:57,262 ERROR   Traceback (most recent call last):\n",
      "2023-07-15 21:51:57,264 ERROR     File \"/opt/cdstoolbox/cdscompute/cdscompute/cdshandlers/services/handler.py\", line 59, in handle_request\n",
      "2023-07-15 21:51:57,264 ERROR       result = cached(context.method, proc, context, context.args, context.kwargs)\n",
      "2023-07-15 21:51:57,265 ERROR     File \"/opt/cdstoolbox/cdscompute/cdscompute/caching.py\", line 108, in cached\n",
      "2023-07-15 21:51:57,266 ERROR       result = proc(context, *context.args, **context.kwargs)\n",
      "2023-07-15 21:51:57,266 ERROR     File \"/opt/cdstoolbox/cdscompute/cdscompute/services.py\", line 124, in __call__\n",
      "2023-07-15 21:51:57,267 ERROR       return p(*args, **kwargs)\n",
      "2023-07-15 21:51:57,267 ERROR     File \"/opt/cdstoolbox/cdscompute/cdscompute/services.py\", line 60, in __call__\n",
      "2023-07-15 21:51:57,268 ERROR       return self.proc(context, *args, **kwargs)\n",
      "2023-07-15 21:51:57,268 ERROR     File \"/home/cds/cdsservices/services/esgf_wps/__init__.py\", line 30, in execute\n",
      "2023-07-15 21:51:57,268 ERROR       request_facets, request = facets.search(context, request)\n",
      "2023-07-15 21:51:57,269 ERROR     File \"/home/cds/cdsservices/services/esgf_wps/facets.py\", line 61, in search\n",
      "2023-07-15 21:51:57,269 ERROR       raise ValueError(f'No matching data for request {tmp_request}')\n",
      "2023-07-15 21:51:57,270 ERROR   ValueError: No matching data for request {'experiment': 'ssp434', 'model': 'EC-Earth3-AerChem', 'temporal_resolution': 'mon', 'variable': 'rsds'}\n",
      "2023-07-15 21:51:57,305 INFO Welcome to the CDS\n",
      "2023-07-15 21:51:57,306 INFO Sending request to https://cds.climate.copernicus.eu/api/v2/resources/projections-cmip6\n",
      "2023-07-15 21:51:57,385 INFO Request is queued\n"
     ]
    },
    {
     "name": "stdout",
     "output_type": "stream",
     "text": [
      "Some parameters are not matching\n",
      "Test with scenario ssp4_3_4 and model ec_earth3_veg\n",
      "path_for_file does not exist: the data may not have been downloaded\n",
      "file_download does not exist: the data were not downloaded\n"
     ]
    },
    {
     "name": "stderr",
     "output_type": "stream",
     "text": [
      "2023-07-15 21:51:58,426 INFO Request is failed\n",
      "2023-07-15 21:51:58,427 ERROR Message: an internal error occurred processing your request\n",
      "2023-07-15 21:51:58,427 ERROR Reason:  No matching data for request {'experiment': 'ssp434', 'model': 'EC-Earth3-Veg', 'temporal_resolution': 'mon', 'variable': 'rsds'}\n",
      "2023-07-15 21:51:58,428 ERROR   Traceback (most recent call last):\n",
      "2023-07-15 21:51:58,428 ERROR     File \"/opt/cdstoolbox/cdscompute/cdscompute/cdshandlers/services/handler.py\", line 59, in handle_request\n",
      "2023-07-15 21:51:58,429 ERROR       result = cached(context.method, proc, context, context.args, context.kwargs)\n",
      "2023-07-15 21:51:58,429 ERROR     File \"/opt/cdstoolbox/cdscompute/cdscompute/caching.py\", line 108, in cached\n",
      "2023-07-15 21:51:58,430 ERROR       result = proc(context, *context.args, **context.kwargs)\n",
      "2023-07-15 21:51:58,430 ERROR     File \"/opt/cdstoolbox/cdscompute/cdscompute/services.py\", line 124, in __call__\n",
      "2023-07-15 21:51:58,431 ERROR       return p(*args, **kwargs)\n",
      "2023-07-15 21:51:58,431 ERROR     File \"/opt/cdstoolbox/cdscompute/cdscompute/services.py\", line 60, in __call__\n",
      "2023-07-15 21:51:58,432 ERROR       return self.proc(context, *args, **kwargs)\n",
      "2023-07-15 21:51:58,432 ERROR     File \"/home/cds/cdsservices/services/esgf_wps/__init__.py\", line 30, in execute\n",
      "2023-07-15 21:51:58,432 ERROR       request_facets, request = facets.search(context, request)\n",
      "2023-07-15 21:51:58,433 ERROR     File \"/home/cds/cdsservices/services/esgf_wps/facets.py\", line 61, in search\n",
      "2023-07-15 21:51:58,433 ERROR       raise ValueError(f'No matching data for request {tmp_request}')\n",
      "2023-07-15 21:51:58,433 ERROR   ValueError: No matching data for request {'experiment': 'ssp434', 'model': 'EC-Earth3-Veg', 'temporal_resolution': 'mon', 'variable': 'rsds'}\n",
      "2023-07-15 21:51:58,475 INFO Welcome to the CDS\n",
      "2023-07-15 21:51:58,476 INFO Sending request to https://cds.climate.copernicus.eu/api/v2/resources/projections-cmip6\n",
      "2023-07-15 21:51:58,516 INFO Request is queued\n"
     ]
    },
    {
     "name": "stdout",
     "output_type": "stream",
     "text": [
      "Some parameters are not matching\n",
      "Test with scenario ssp4_3_4 and model fgoals_f3_l\n",
      "path_for_file does not exist: the data may not have been downloaded\n",
      "file_download does not exist: the data were not downloaded\n"
     ]
    },
    {
     "name": "stderr",
     "output_type": "stream",
     "text": [
      "2023-07-15 21:51:59,560 INFO Request is failed\n",
      "2023-07-15 21:51:59,560 ERROR Message: an internal error occurred processing your request\n",
      "2023-07-15 21:51:59,561 ERROR Reason:  No matching data for request {'experiment': 'ssp434', 'model': 'FGOALS-f3-L', 'temporal_resolution': 'mon', 'variable': 'rsds'}\n",
      "2023-07-15 21:51:59,562 ERROR   Traceback (most recent call last):\n",
      "2023-07-15 21:51:59,562 ERROR     File \"/opt/cdstoolbox/cdscompute/cdscompute/cdshandlers/services/handler.py\", line 59, in handle_request\n",
      "2023-07-15 21:51:59,563 ERROR       result = cached(context.method, proc, context, context.args, context.kwargs)\n",
      "2023-07-15 21:51:59,563 ERROR     File \"/opt/cdstoolbox/cdscompute/cdscompute/caching.py\", line 108, in cached\n",
      "2023-07-15 21:51:59,564 ERROR       result = proc(context, *context.args, **context.kwargs)\n",
      "2023-07-15 21:51:59,564 ERROR     File \"/opt/cdstoolbox/cdscompute/cdscompute/services.py\", line 124, in __call__\n",
      "2023-07-15 21:51:59,565 ERROR       return p(*args, **kwargs)\n",
      "2023-07-15 21:51:59,565 ERROR     File \"/opt/cdstoolbox/cdscompute/cdscompute/services.py\", line 60, in __call__\n",
      "2023-07-15 21:51:59,566 ERROR       return self.proc(context, *args, **kwargs)\n",
      "2023-07-15 21:51:59,567 ERROR     File \"/home/cds/cdsservices/services/esgf_wps/__init__.py\", line 30, in execute\n",
      "2023-07-15 21:51:59,567 ERROR       request_facets, request = facets.search(context, request)\n",
      "2023-07-15 21:51:59,568 ERROR     File \"/home/cds/cdsservices/services/esgf_wps/facets.py\", line 61, in search\n",
      "2023-07-15 21:51:59,569 ERROR       raise ValueError(f'No matching data for request {tmp_request}')\n",
      "2023-07-15 21:51:59,569 ERROR   ValueError: No matching data for request {'experiment': 'ssp434', 'model': 'FGOALS-f3-L', 'temporal_resolution': 'mon', 'variable': 'rsds'}\n",
      "2023-07-15 21:51:59,607 INFO Welcome to the CDS\n",
      "2023-07-15 21:51:59,608 INFO Sending request to https://cds.climate.copernicus.eu/api/v2/resources/projections-cmip6\n",
      "2023-07-15 21:51:59,666 INFO Request is queued\n"
     ]
    },
    {
     "name": "stdout",
     "output_type": "stream",
     "text": [
      "Some parameters are not matching\n",
      "Test with scenario ssp4_3_4 and model fio_esm_2_0\n",
      "path_for_file does not exist: the data may not have been downloaded\n",
      "file_download does not exist: the data were not downloaded\n"
     ]
    },
    {
     "name": "stderr",
     "output_type": "stream",
     "text": [
      "2023-07-15 21:52:00,712 INFO Request is failed\n",
      "2023-07-15 21:52:00,713 ERROR Message: an internal error occurred processing your request\n",
      "2023-07-15 21:52:00,715 ERROR Reason:  No matching data for request {'experiment': 'ssp434', 'model': 'FIO-ESM-2-0', 'temporal_resolution': 'mon', 'variable': 'rsds'}\n",
      "2023-07-15 21:52:00,716 ERROR   Traceback (most recent call last):\n",
      "2023-07-15 21:52:00,717 ERROR     File \"/opt/cdstoolbox/cdscompute/cdscompute/cdshandlers/services/handler.py\", line 59, in handle_request\n",
      "2023-07-15 21:52:00,718 ERROR       result = cached(context.method, proc, context, context.args, context.kwargs)\n",
      "2023-07-15 21:52:00,718 ERROR     File \"/opt/cdstoolbox/cdscompute/cdscompute/caching.py\", line 108, in cached\n",
      "2023-07-15 21:52:00,720 ERROR       result = proc(context, *context.args, **context.kwargs)\n",
      "2023-07-15 21:52:00,720 ERROR     File \"/opt/cdstoolbox/cdscompute/cdscompute/services.py\", line 124, in __call__\n",
      "2023-07-15 21:52:00,721 ERROR       return p(*args, **kwargs)\n",
      "2023-07-15 21:52:00,722 ERROR     File \"/opt/cdstoolbox/cdscompute/cdscompute/services.py\", line 60, in __call__\n",
      "2023-07-15 21:52:00,722 ERROR       return self.proc(context, *args, **kwargs)\n",
      "2023-07-15 21:52:00,724 ERROR     File \"/home/cds/cdsservices/services/esgf_wps/__init__.py\", line 30, in execute\n",
      "2023-07-15 21:52:00,724 ERROR       request_facets, request = facets.search(context, request)\n",
      "2023-07-15 21:52:00,725 ERROR     File \"/home/cds/cdsservices/services/esgf_wps/facets.py\", line 61, in search\n",
      "2023-07-15 21:52:00,725 ERROR       raise ValueError(f'No matching data for request {tmp_request}')\n",
      "2023-07-15 21:52:00,726 ERROR   ValueError: No matching data for request {'experiment': 'ssp434', 'model': 'FIO-ESM-2-0', 'temporal_resolution': 'mon', 'variable': 'rsds'}\n",
      "2023-07-15 21:52:00,762 INFO Welcome to the CDS\n",
      "2023-07-15 21:52:00,763 INFO Sending request to https://cds.climate.copernicus.eu/api/v2/resources/projections-cmip6\n",
      "2023-07-15 21:52:00,816 INFO Request is queued\n"
     ]
    },
    {
     "name": "stdout",
     "output_type": "stream",
     "text": [
      "Some parameters are not matching\n",
      "Test with scenario ssp4_3_4 and model giss_e2_1_g\n",
      "path_for_file does not exist: the data may not have been downloaded\n",
      "file_download does not exist: the data were not downloaded\n"
     ]
    },
    {
     "name": "stderr",
     "output_type": "stream",
     "text": [
      "2023-07-15 21:52:01,864 INFO Request is running\n",
      "2023-07-15 21:52:14,218 INFO Request is completed\n",
      "2023-07-15 21:52:14,219 INFO Downloading https://download-0003-clone.copernicus-climate.eu/cache-compute-0003/cache/data9/adaptor.esgf_wps.retrieve-1689450731.425812-10877-8-0413b695-d1f9-4a76-aac1-c2fbaba6b3de.zip to download.zip (563.5K)\n",
      "2023-07-15 21:52:15,371 INFO Download rate 489.6K/s                                                                    \n"
     ]
    },
    {
     "name": "stdout",
     "output_type": "stream",
     "text": [
      "The file has been download\n",
      "\\\\COWI.net\\projects\\A245000\\A248363\\CRVA\\Datasets\\radiation\\surface_downwelling_shortwave_radiation\\Copernicus-CMIP6\\raw_data\\2015-2100\\ssp4_3_4\\giss_e2_1_g\\all-Mozambique\n",
      "Path for the file is created, did not existed before\n"
     ]
    },
    {
     "name": "stderr",
     "output_type": "stream",
     "text": [
      "2023-07-15 21:52:16,572 INFO Welcome to the CDS\n",
      "2023-07-15 21:52:16,574 INFO Sending request to https://cds.climate.copernicus.eu/api/v2/resources/projections-cmip6\n",
      "2023-07-15 21:52:16,645 INFO Request is queued\n"
     ]
    },
    {
     "name": "stdout",
     "output_type": "stream",
     "text": [
      "the file named rsds_Amon_GISS-E2-1-G_ssp434_r1i1p1f2_gn_20150116-21001216_v20200115.nc was moved\n",
      "\n",
      " The downloaded file is extracted\n",
      "The file has been extracted\n",
      "Test with scenario ssp4_3_4 and model hadgem3_gc31_ll\n",
      "path_for_file does not exist: the data may not have been downloaded\n",
      "file_download does not exist: the data were not downloaded\n"
     ]
    },
    {
     "name": "stderr",
     "output_type": "stream",
     "text": [
      "2023-07-15 21:52:17,682 INFO Request is failed\n",
      "2023-07-15 21:52:17,683 ERROR Message: an internal error occurred processing your request\n",
      "2023-07-15 21:52:17,683 ERROR Reason:  No matching data for request {'experiment': 'ssp434', 'model': 'HadGEM3-GC31-LL', 'temporal_resolution': 'mon', 'variable': 'rsds'}\n",
      "2023-07-15 21:52:17,685 ERROR   Traceback (most recent call last):\n",
      "2023-07-15 21:52:17,685 ERROR     File \"/opt/cdstoolbox/cdscompute/cdscompute/cdshandlers/services/handler.py\", line 59, in handle_request\n",
      "2023-07-15 21:52:17,685 ERROR       result = cached(context.method, proc, context, context.args, context.kwargs)\n",
      "2023-07-15 21:52:17,686 ERROR     File \"/opt/cdstoolbox/cdscompute/cdscompute/caching.py\", line 108, in cached\n",
      "2023-07-15 21:52:17,687 ERROR       result = proc(context, *context.args, **context.kwargs)\n",
      "2023-07-15 21:52:17,687 ERROR     File \"/opt/cdstoolbox/cdscompute/cdscompute/services.py\", line 124, in __call__\n",
      "2023-07-15 21:52:17,688 ERROR       return p(*args, **kwargs)\n",
      "2023-07-15 21:52:17,688 ERROR     File \"/opt/cdstoolbox/cdscompute/cdscompute/services.py\", line 60, in __call__\n",
      "2023-07-15 21:52:17,689 ERROR       return self.proc(context, *args, **kwargs)\n",
      "2023-07-15 21:52:17,689 ERROR     File \"/home/cds/cdsservices/services/esgf_wps/__init__.py\", line 30, in execute\n",
      "2023-07-15 21:52:17,690 ERROR       request_facets, request = facets.search(context, request)\n",
      "2023-07-15 21:52:17,690 ERROR     File \"/home/cds/cdsservices/services/esgf_wps/facets.py\", line 61, in search\n",
      "2023-07-15 21:52:17,691 ERROR       raise ValueError(f'No matching data for request {tmp_request}')\n",
      "2023-07-15 21:52:17,692 ERROR   ValueError: No matching data for request {'experiment': 'ssp434', 'model': 'HadGEM3-GC31-LL', 'temporal_resolution': 'mon', 'variable': 'rsds'}\n",
      "2023-07-15 21:52:17,728 INFO Welcome to the CDS\n",
      "2023-07-15 21:52:17,729 INFO Sending request to https://cds.climate.copernicus.eu/api/v2/resources/projections-cmip6\n",
      "2023-07-15 21:52:17,817 INFO Request is queued\n"
     ]
    },
    {
     "name": "stdout",
     "output_type": "stream",
     "text": [
      "Some parameters are not matching\n",
      "Test with scenario ssp4_3_4 and model iitm_esm\n",
      "path_for_file does not exist: the data may not have been downloaded\n",
      "file_download does not exist: the data were not downloaded\n"
     ]
    },
    {
     "name": "stderr",
     "output_type": "stream",
     "text": [
      "2023-07-15 21:52:18,856 INFO Request is failed\n",
      "2023-07-15 21:52:18,858 ERROR Message: an internal error occurred processing your request\n",
      "2023-07-15 21:52:18,858 ERROR Reason:  No matching data for request {'experiment': 'ssp434', 'model': 'IITM-ESM', 'temporal_resolution': 'mon', 'variable': 'rsds'}\n",
      "2023-07-15 21:52:18,859 ERROR   Traceback (most recent call last):\n",
      "2023-07-15 21:52:18,859 ERROR     File \"/opt/cdstoolbox/cdscompute/cdscompute/cdshandlers/services/handler.py\", line 59, in handle_request\n",
      "2023-07-15 21:52:18,860 ERROR       result = cached(context.method, proc, context, context.args, context.kwargs)\n",
      "2023-07-15 21:52:18,860 ERROR     File \"/opt/cdstoolbox/cdscompute/cdscompute/caching.py\", line 108, in cached\n",
      "2023-07-15 21:52:18,861 ERROR       result = proc(context, *context.args, **context.kwargs)\n",
      "2023-07-15 21:52:18,861 ERROR     File \"/opt/cdstoolbox/cdscompute/cdscompute/services.py\", line 124, in __call__\n",
      "2023-07-15 21:52:18,862 ERROR       return p(*args, **kwargs)\n",
      "2023-07-15 21:52:18,862 ERROR     File \"/opt/cdstoolbox/cdscompute/cdscompute/services.py\", line 60, in __call__\n",
      "2023-07-15 21:52:18,863 ERROR       return self.proc(context, *args, **kwargs)\n",
      "2023-07-15 21:52:18,863 ERROR     File \"/home/cds/cdsservices/services/esgf_wps/__init__.py\", line 30, in execute\n",
      "2023-07-15 21:52:18,863 ERROR       request_facets, request = facets.search(context, request)\n",
      "2023-07-15 21:52:18,864 ERROR     File \"/home/cds/cdsservices/services/esgf_wps/facets.py\", line 61, in search\n",
      "2023-07-15 21:52:18,866 ERROR       raise ValueError(f'No matching data for request {tmp_request}')\n",
      "2023-07-15 21:52:18,866 ERROR   ValueError: No matching data for request {'experiment': 'ssp434', 'model': 'IITM-ESM', 'temporal_resolution': 'mon', 'variable': 'rsds'}\n",
      "2023-07-15 21:52:18,901 INFO Welcome to the CDS\n",
      "2023-07-15 21:52:18,902 INFO Sending request to https://cds.climate.copernicus.eu/api/v2/resources/projections-cmip6\n",
      "2023-07-15 21:52:18,972 INFO Request is queued\n"
     ]
    },
    {
     "name": "stdout",
     "output_type": "stream",
     "text": [
      "Some parameters are not matching\n",
      "Test with scenario ssp4_3_4 and model inm_cm5_0\n",
      "path_for_file does not exist: the data may not have been downloaded\n",
      "file_download does not exist: the data were not downloaded\n"
     ]
    },
    {
     "name": "stderr",
     "output_type": "stream",
     "text": [
      "2023-07-15 21:52:20,025 INFO Request is failed\n",
      "2023-07-15 21:52:20,026 ERROR Message: an internal error occurred processing your request\n",
      "2023-07-15 21:52:20,027 ERROR Reason:  No matching data for request {'experiment': 'ssp434', 'model': 'INM-CM5-0', 'temporal_resolution': 'mon', 'variable': 'rsds'}\n",
      "2023-07-15 21:52:20,028 ERROR   Traceback (most recent call last):\n",
      "2023-07-15 21:52:20,028 ERROR     File \"/opt/cdstoolbox/cdscompute/cdscompute/cdshandlers/services/handler.py\", line 59, in handle_request\n",
      "2023-07-15 21:52:20,029 ERROR       result = cached(context.method, proc, context, context.args, context.kwargs)\n",
      "2023-07-15 21:52:20,029 ERROR     File \"/opt/cdstoolbox/cdscompute/cdscompute/caching.py\", line 108, in cached\n",
      "2023-07-15 21:52:20,030 ERROR       result = proc(context, *context.args, **context.kwargs)\n",
      "2023-07-15 21:52:20,031 ERROR     File \"/opt/cdstoolbox/cdscompute/cdscompute/services.py\", line 124, in __call__\n",
      "2023-07-15 21:52:20,031 ERROR       return p(*args, **kwargs)\n",
      "2023-07-15 21:52:20,032 ERROR     File \"/opt/cdstoolbox/cdscompute/cdscompute/services.py\", line 60, in __call__\n",
      "2023-07-15 21:52:20,032 ERROR       return self.proc(context, *args, **kwargs)\n",
      "2023-07-15 21:52:20,033 ERROR     File \"/home/cds/cdsservices/services/esgf_wps/__init__.py\", line 30, in execute\n",
      "2023-07-15 21:52:20,034 ERROR       request_facets, request = facets.search(context, request)\n",
      "2023-07-15 21:52:20,034 ERROR     File \"/home/cds/cdsservices/services/esgf_wps/facets.py\", line 61, in search\n",
      "2023-07-15 21:52:20,034 ERROR       raise ValueError(f'No matching data for request {tmp_request}')\n",
      "2023-07-15 21:52:20,035 ERROR   ValueError: No matching data for request {'experiment': 'ssp434', 'model': 'INM-CM5-0', 'temporal_resolution': 'mon', 'variable': 'rsds'}\n"
     ]
    },
    {
     "name": "stdout",
     "output_type": "stream",
     "text": [
      "Some parameters are not matching\n",
      "Test with scenario ssp4_3_4 and model ipsl_cm6a_lr\n",
      "path_for_file does not exist: the data may not have been downloaded\n",
      "file_download does not exist: the data were not downloaded\n"
     ]
    },
    {
     "name": "stderr",
     "output_type": "stream",
     "text": [
      "2023-07-15 21:52:20,428 INFO Welcome to the CDS\n",
      "2023-07-15 21:52:20,430 INFO Sending request to https://cds.climate.copernicus.eu/api/v2/resources/projections-cmip6\n",
      "2023-07-15 21:52:20,478 INFO Request is queued\n",
      "2023-07-15 21:52:21,526 INFO Request is running\n",
      "2023-07-15 21:52:33,867 INFO Request is completed\n",
      "2023-07-15 21:52:33,868 INFO Downloading https://download-0004-clone.copernicus-climate.eu/cache-compute-0004/cache/data9/adaptor.esgf_wps.retrieve-1689450751.1727102-19520-8-74c24fa9-6bca-44f4-8910-e977ef80303b.zip to download.zip (587K)\n",
      "2023-07-15 21:52:34,441 INFO Download rate 1M/s                                                                        \n"
     ]
    },
    {
     "name": "stdout",
     "output_type": "stream",
     "text": [
      "The file has been download\n",
      "\\\\COWI.net\\projects\\A245000\\A248363\\CRVA\\Datasets\\radiation\\surface_downwelling_shortwave_radiation\\Copernicus-CMIP6\\raw_data\\2015-2100\\ssp4_3_4\\ipsl_cm6a_lr\\all-Mozambique\n",
      "Path for the file is created, did not existed before\n"
     ]
    },
    {
     "name": "stderr",
     "output_type": "stream",
     "text": [
      "2023-07-15 21:52:35,276 INFO Welcome to the CDS\n",
      "2023-07-15 21:52:35,277 INFO Sending request to https://cds.climate.copernicus.eu/api/v2/resources/projections-cmip6\n",
      "2023-07-15 21:52:35,382 INFO Request is queued\n"
     ]
    },
    {
     "name": "stdout",
     "output_type": "stream",
     "text": [
      "the file named rsds_Amon_IPSL-CM6A-LR_ssp434_r1i1p1f1_gr_20150116-21001216_v20190506.nc was moved\n",
      "\n",
      " The downloaded file is extracted\n",
      "The file has been extracted\n",
      "Test with scenario ssp4_3_4 and model kiost_esm\n",
      "path_for_file does not exist: the data may not have been downloaded\n",
      "file_download does not exist: the data were not downloaded\n"
     ]
    },
    {
     "name": "stderr",
     "output_type": "stream",
     "text": [
      "2023-07-15 21:52:36,418 INFO Request is failed\n",
      "2023-07-15 21:52:36,419 ERROR Message: an internal error occurred processing your request\n",
      "2023-07-15 21:52:36,420 ERROR Reason:  No matching data for request {'experiment': 'ssp434', 'model': 'KIOST-ESM', 'temporal_resolution': 'mon', 'variable': 'rsds'}\n",
      "2023-07-15 21:52:36,421 ERROR   Traceback (most recent call last):\n",
      "2023-07-15 21:52:36,421 ERROR     File \"/opt/cdstoolbox/cdscompute/cdscompute/cdshandlers/services/handler.py\", line 59, in handle_request\n",
      "2023-07-15 21:52:36,422 ERROR       result = cached(context.method, proc, context, context.args, context.kwargs)\n",
      "2023-07-15 21:52:36,423 ERROR     File \"/opt/cdstoolbox/cdscompute/cdscompute/caching.py\", line 108, in cached\n",
      "2023-07-15 21:52:36,423 ERROR       result = proc(context, *context.args, **context.kwargs)\n",
      "2023-07-15 21:52:36,424 ERROR     File \"/opt/cdstoolbox/cdscompute/cdscompute/services.py\", line 124, in __call__\n",
      "2023-07-15 21:52:36,424 ERROR       return p(*args, **kwargs)\n",
      "2023-07-15 21:52:36,425 ERROR     File \"/opt/cdstoolbox/cdscompute/cdscompute/services.py\", line 60, in __call__\n",
      "2023-07-15 21:52:36,425 ERROR       return self.proc(context, *args, **kwargs)\n",
      "2023-07-15 21:52:36,426 ERROR     File \"/home/cds/cdsservices/services/esgf_wps/__init__.py\", line 30, in execute\n",
      "2023-07-15 21:52:36,426 ERROR       request_facets, request = facets.search(context, request)\n",
      "2023-07-15 21:52:36,427 ERROR     File \"/home/cds/cdsservices/services/esgf_wps/facets.py\", line 61, in search\n",
      "2023-07-15 21:52:36,427 ERROR       raise ValueError(f'No matching data for request {tmp_request}')\n",
      "2023-07-15 21:52:36,427 ERROR   ValueError: No matching data for request {'experiment': 'ssp434', 'model': 'KIOST-ESM', 'temporal_resolution': 'mon', 'variable': 'rsds'}\n",
      "2023-07-15 21:52:36,462 INFO Welcome to the CDS\n",
      "2023-07-15 21:52:36,463 INFO Sending request to https://cds.climate.copernicus.eu/api/v2/resources/projections-cmip6\n",
      "2023-07-15 21:52:36,526 INFO Request is queued\n"
     ]
    },
    {
     "name": "stdout",
     "output_type": "stream",
     "text": [
      "Some parameters are not matching\n",
      "Test with scenario ssp4_3_4 and model miroc6\n",
      "path_for_file does not exist: the data may not have been downloaded\n",
      "file_download does not exist: the data were not downloaded\n"
     ]
    },
    {
     "name": "stderr",
     "output_type": "stream",
     "text": [
      "2023-07-15 21:52:37,572 INFO Request is running\n",
      "2023-07-15 21:52:49,908 INFO Request is completed\n",
      "2023-07-15 21:52:49,909 INFO Downloading https://download-0004-clone.copernicus-climate.eu/cache-compute-0004/cache/data2/adaptor.esgf_wps.retrieve-1689450764.09738-17060-19-110a82eb-1344-429a-803e-06410c87eacb.zip to download.zip (692.2K)\n",
      "2023-07-15 21:52:50,089 INFO Download rate 3.8M/s                                                                      \n"
     ]
    },
    {
     "name": "stdout",
     "output_type": "stream",
     "text": [
      "The file has been download\n",
      "\\\\COWI.net\\projects\\A245000\\A248363\\CRVA\\Datasets\\radiation\\surface_downwelling_shortwave_radiation\\Copernicus-CMIP6\\raw_data\\2015-2100\\ssp4_3_4\\miroc6\\all-Mozambique\n",
      "Path for the file is created, did not existed before\n"
     ]
    },
    {
     "name": "stderr",
     "output_type": "stream",
     "text": [
      "2023-07-15 21:52:50,929 INFO Welcome to the CDS\n",
      "2023-07-15 21:52:50,929 INFO Sending request to https://cds.climate.copernicus.eu/api/v2/resources/projections-cmip6\n",
      "2023-07-15 21:52:50,967 INFO Request is queued\n"
     ]
    },
    {
     "name": "stdout",
     "output_type": "stream",
     "text": [
      "the file named rsds_Amon_MIROC6_ssp434_r1i1p1f1_gn_20150116-21001216_v20190807.nc was moved\n",
      "\n",
      " The downloaded file is extracted\n",
      "The file has been extracted\n",
      "Test with scenario ssp4_3_4 and model miroc_es2l\n",
      "path_for_file does not exist: the data may not have been downloaded\n",
      "file_download does not exist: the data were not downloaded\n"
     ]
    },
    {
     "name": "stderr",
     "output_type": "stream",
     "text": [
      "2023-07-15 21:52:52,002 INFO Request is failed\n",
      "2023-07-15 21:52:52,004 ERROR Message: an internal error occurred processing your request\n",
      "2023-07-15 21:52:52,005 ERROR Reason:  No matching data for request {'experiment': 'ssp434', 'model': 'MIROC-ES2L', 'temporal_resolution': 'mon', 'variable': 'rsds'}\n",
      "2023-07-15 21:52:52,006 ERROR   Traceback (most recent call last):\n",
      "2023-07-15 21:52:52,006 ERROR     File \"/opt/cdstoolbox/cdscompute/cdscompute/cdshandlers/services/handler.py\", line 59, in handle_request\n",
      "2023-07-15 21:52:52,006 ERROR       result = cached(context.method, proc, context, context.args, context.kwargs)\n",
      "2023-07-15 21:52:52,007 ERROR     File \"/opt/cdstoolbox/cdscompute/cdscompute/caching.py\", line 108, in cached\n",
      "2023-07-15 21:52:52,008 ERROR       result = proc(context, *context.args, **context.kwargs)\n",
      "2023-07-15 21:52:52,009 ERROR     File \"/opt/cdstoolbox/cdscompute/cdscompute/services.py\", line 124, in __call__\n",
      "2023-07-15 21:52:52,010 ERROR       return p(*args, **kwargs)\n",
      "2023-07-15 21:52:52,010 ERROR     File \"/opt/cdstoolbox/cdscompute/cdscompute/services.py\", line 60, in __call__\n",
      "2023-07-15 21:52:52,011 ERROR       return self.proc(context, *args, **kwargs)\n",
      "2023-07-15 21:52:52,011 ERROR     File \"/home/cds/cdsservices/services/esgf_wps/__init__.py\", line 30, in execute\n",
      "2023-07-15 21:52:52,012 ERROR       request_facets, request = facets.search(context, request)\n",
      "2023-07-15 21:52:52,013 ERROR     File \"/home/cds/cdsservices/services/esgf_wps/facets.py\", line 61, in search\n",
      "2023-07-15 21:52:52,013 ERROR       raise ValueError(f'No matching data for request {tmp_request}')\n",
      "2023-07-15 21:52:52,015 ERROR   ValueError: No matching data for request {'experiment': 'ssp434', 'model': 'MIROC-ES2L', 'temporal_resolution': 'mon', 'variable': 'rsds'}\n",
      "2023-07-15 21:52:52,048 INFO Welcome to the CDS\n",
      "2023-07-15 21:52:52,048 INFO Sending request to https://cds.climate.copernicus.eu/api/v2/resources/projections-cmip6\n",
      "2023-07-15 21:52:52,121 INFO Request is queued\n"
     ]
    },
    {
     "name": "stdout",
     "output_type": "stream",
     "text": [
      "Some parameters are not matching\n",
      "Test with scenario ssp4_3_4 and model mpi_esm1_2_hr\n",
      "path_for_file does not exist: the data may not have been downloaded\n",
      "file_download does not exist: the data were not downloaded\n"
     ]
    },
    {
     "name": "stderr",
     "output_type": "stream",
     "text": [
      "2023-07-15 21:52:53,161 INFO Request is failed\n",
      "2023-07-15 21:52:53,161 ERROR Message: an internal error occurred processing your request\n",
      "2023-07-15 21:52:53,162 ERROR Reason:  No matching data for request {'experiment': 'ssp434', 'model': 'MPI-ESM1-2-HR', 'temporal_resolution': 'mon', 'variable': 'rsds'}\n",
      "2023-07-15 21:52:53,162 ERROR   Traceback (most recent call last):\n",
      "2023-07-15 21:52:53,163 ERROR     File \"/opt/cdstoolbox/cdscompute/cdscompute/cdshandlers/services/handler.py\", line 59, in handle_request\n",
      "2023-07-15 21:52:53,164 ERROR       result = cached(context.method, proc, context, context.args, context.kwargs)\n",
      "2023-07-15 21:52:53,164 ERROR     File \"/opt/cdstoolbox/cdscompute/cdscompute/caching.py\", line 108, in cached\n",
      "2023-07-15 21:52:53,164 ERROR       result = proc(context, *context.args, **context.kwargs)\n",
      "2023-07-15 21:52:53,165 ERROR     File \"/opt/cdstoolbox/cdscompute/cdscompute/services.py\", line 124, in __call__\n",
      "2023-07-15 21:52:53,165 ERROR       return p(*args, **kwargs)\n",
      "2023-07-15 21:52:53,167 ERROR     File \"/opt/cdstoolbox/cdscompute/cdscompute/services.py\", line 60, in __call__\n",
      "2023-07-15 21:52:53,167 ERROR       return self.proc(context, *args, **kwargs)\n",
      "2023-07-15 21:52:53,169 ERROR     File \"/home/cds/cdsservices/services/esgf_wps/__init__.py\", line 30, in execute\n",
      "2023-07-15 21:52:53,170 ERROR       request_facets, request = facets.search(context, request)\n",
      "2023-07-15 21:52:53,171 ERROR     File \"/home/cds/cdsservices/services/esgf_wps/facets.py\", line 61, in search\n",
      "2023-07-15 21:52:53,171 ERROR       raise ValueError(f'No matching data for request {tmp_request}')\n",
      "2023-07-15 21:52:53,171 ERROR   ValueError: No matching data for request {'experiment': 'ssp434', 'model': 'MPI-ESM1-2-HR', 'temporal_resolution': 'mon', 'variable': 'rsds'}\n",
      "2023-07-15 21:52:53,204 INFO Welcome to the CDS\n",
      "2023-07-15 21:52:53,205 INFO Sending request to https://cds.climate.copernicus.eu/api/v2/resources/projections-cmip6\n",
      "2023-07-15 21:52:53,245 INFO Request is queued\n"
     ]
    },
    {
     "name": "stdout",
     "output_type": "stream",
     "text": [
      "Some parameters are not matching\n",
      "Test with scenario ssp4_3_4 and model mri_esm2_0\n",
      "path_for_file does not exist: the data may not have been downloaded\n",
      "file_download does not exist: the data were not downloaded\n"
     ]
    },
    {
     "name": "stderr",
     "output_type": "stream",
     "text": [
      "2023-07-15 21:52:54,291 INFO Request is running\n",
      "2023-07-15 21:53:06,627 INFO Request is completed\n",
      "2023-07-15 21:53:06,629 INFO Downloading https://download-0011-clone.copernicus-climate.eu/cache-compute-0011/cache/data5/adaptor.esgf_wps.retrieve-1689450783.6809561-12120-3-4e4fe6a0-30b4-44ce-b42e-fc2a79b5f581.zip to download.zip (859.3K)\n",
      "2023-07-15 21:53:07,176 INFO Download rate 1.5M/s                                                                      \n"
     ]
    },
    {
     "name": "stdout",
     "output_type": "stream",
     "text": [
      "The file has been download\n",
      "\\\\COWI.net\\projects\\A245000\\A248363\\CRVA\\Datasets\\radiation\\surface_downwelling_shortwave_radiation\\Copernicus-CMIP6\\raw_data\\2015-2100\\ssp4_3_4\\mri_esm2_0\\all-Mozambique\n",
      "Path for the file is created, did not existed before\n"
     ]
    },
    {
     "name": "stderr",
     "output_type": "stream",
     "text": [
      "2023-07-15 21:53:08,056 INFO Welcome to the CDS\n",
      "2023-07-15 21:53:08,056 INFO Sending request to https://cds.climate.copernicus.eu/api/v2/resources/projections-cmip6\n",
      "2023-07-15 21:53:08,147 INFO Request is queued\n"
     ]
    },
    {
     "name": "stdout",
     "output_type": "stream",
     "text": [
      "the file named rsds_Amon_MRI-ESM2-0_ssp434_r1i1p1f1_gn_20150116-21001216_v20190222.nc was moved\n",
      "\n",
      " The downloaded file is extracted\n",
      "The file has been extracted\n",
      "Test with scenario ssp4_3_4 and model norcpm1\n",
      "path_for_file does not exist: the data may not have been downloaded\n",
      "file_download does not exist: the data were not downloaded\n"
     ]
    },
    {
     "name": "stderr",
     "output_type": "stream",
     "text": [
      "2023-07-15 21:53:09,184 INFO Request is failed\n",
      "2023-07-15 21:53:09,185 ERROR Message: an internal error occurred processing your request\n",
      "2023-07-15 21:53:09,187 ERROR Reason:  No matching data for request {'experiment': 'ssp434', 'model': 'NorCPM1', 'temporal_resolution': 'mon', 'variable': 'rsds'}\n",
      "2023-07-15 21:53:09,188 ERROR   Traceback (most recent call last):\n",
      "2023-07-15 21:53:09,189 ERROR     File \"/opt/cdstoolbox/cdscompute/cdscompute/cdshandlers/services/handler.py\", line 59, in handle_request\n",
      "2023-07-15 21:53:09,190 ERROR       result = cached(context.method, proc, context, context.args, context.kwargs)\n",
      "2023-07-15 21:53:09,191 ERROR     File \"/opt/cdstoolbox/cdscompute/cdscompute/caching.py\", line 108, in cached\n",
      "2023-07-15 21:53:09,192 ERROR       result = proc(context, *context.args, **context.kwargs)\n",
      "2023-07-15 21:53:09,192 ERROR     File \"/opt/cdstoolbox/cdscompute/cdscompute/services.py\", line 124, in __call__\n",
      "2023-07-15 21:53:09,193 ERROR       return p(*args, **kwargs)\n",
      "2023-07-15 21:53:09,194 ERROR     File \"/opt/cdstoolbox/cdscompute/cdscompute/services.py\", line 60, in __call__\n",
      "2023-07-15 21:53:09,194 ERROR       return self.proc(context, *args, **kwargs)\n",
      "2023-07-15 21:53:09,195 ERROR     File \"/home/cds/cdsservices/services/esgf_wps/__init__.py\", line 30, in execute\n",
      "2023-07-15 21:53:09,196 ERROR       request_facets, request = facets.search(context, request)\n",
      "2023-07-15 21:53:09,196 ERROR     File \"/home/cds/cdsservices/services/esgf_wps/facets.py\", line 61, in search\n",
      "2023-07-15 21:53:09,197 ERROR       raise ValueError(f'No matching data for request {tmp_request}')\n",
      "2023-07-15 21:53:09,198 ERROR   ValueError: No matching data for request {'experiment': 'ssp434', 'model': 'NorCPM1', 'temporal_resolution': 'mon', 'variable': 'rsds'}\n",
      "2023-07-15 21:53:09,239 INFO Welcome to the CDS\n",
      "2023-07-15 21:53:09,240 INFO Sending request to https://cds.climate.copernicus.eu/api/v2/resources/projections-cmip6\n",
      "2023-07-15 21:53:09,309 INFO Request is queued\n"
     ]
    },
    {
     "name": "stdout",
     "output_type": "stream",
     "text": [
      "Some parameters are not matching\n",
      "Test with scenario ssp4_3_4 and model noresm2_mm\n",
      "path_for_file does not exist: the data may not have been downloaded\n",
      "file_download does not exist: the data were not downloaded\n"
     ]
    },
    {
     "name": "stderr",
     "output_type": "stream",
     "text": [
      "2023-07-15 21:53:10,343 INFO Request is failed\n",
      "2023-07-15 21:53:10,344 ERROR Message: an internal error occurred processing your request\n",
      "2023-07-15 21:53:10,345 ERROR Reason:  No matching data for request {'experiment': 'ssp434', 'model': 'NorESM2-MM', 'temporal_resolution': 'mon', 'variable': 'rsds'}\n",
      "2023-07-15 21:53:10,345 ERROR   Traceback (most recent call last):\n",
      "2023-07-15 21:53:10,346 ERROR     File \"/opt/cdstoolbox/cdscompute/cdscompute/cdshandlers/services/handler.py\", line 59, in handle_request\n",
      "2023-07-15 21:53:10,347 ERROR       result = cached(context.method, proc, context, context.args, context.kwargs)\n",
      "2023-07-15 21:53:10,347 ERROR     File \"/opt/cdstoolbox/cdscompute/cdscompute/caching.py\", line 108, in cached\n",
      "2023-07-15 21:53:10,348 ERROR       result = proc(context, *context.args, **context.kwargs)\n",
      "2023-07-15 21:53:10,348 ERROR     File \"/opt/cdstoolbox/cdscompute/cdscompute/services.py\", line 124, in __call__\n",
      "2023-07-15 21:53:10,349 ERROR       return p(*args, **kwargs)\n",
      "2023-07-15 21:53:10,350 ERROR     File \"/opt/cdstoolbox/cdscompute/cdscompute/services.py\", line 60, in __call__\n",
      "2023-07-15 21:53:10,350 ERROR       return self.proc(context, *args, **kwargs)\n",
      "2023-07-15 21:53:10,351 ERROR     File \"/home/cds/cdsservices/services/esgf_wps/__init__.py\", line 30, in execute\n",
      "2023-07-15 21:53:10,352 ERROR       request_facets, request = facets.search(context, request)\n",
      "2023-07-15 21:53:10,353 ERROR     File \"/home/cds/cdsservices/services/esgf_wps/facets.py\", line 61, in search\n",
      "2023-07-15 21:53:10,353 ERROR       raise ValueError(f'No matching data for request {tmp_request}')\n",
      "2023-07-15 21:53:10,354 ERROR   ValueError: No matching data for request {'experiment': 'ssp434', 'model': 'NorESM2-MM', 'temporal_resolution': 'mon', 'variable': 'rsds'}\n",
      "2023-07-15 21:53:10,391 INFO Welcome to the CDS\n",
      "2023-07-15 21:53:10,391 INFO Sending request to https://cds.climate.copernicus.eu/api/v2/resources/projections-cmip6\n",
      "2023-07-15 21:53:10,438 INFO Request is queued\n"
     ]
    },
    {
     "name": "stdout",
     "output_type": "stream",
     "text": [
      "Some parameters are not matching\n",
      "Test with scenario ssp4_3_4 and model taiesm1\n",
      "path_for_file does not exist: the data may not have been downloaded\n",
      "file_download does not exist: the data were not downloaded\n"
     ]
    },
    {
     "name": "stderr",
     "output_type": "stream",
     "text": [
      "2023-07-15 21:53:11,474 INFO Request is failed\n",
      "2023-07-15 21:53:11,475 ERROR Message: an internal error occurred processing your request\n",
      "2023-07-15 21:53:11,476 ERROR Reason:  No matching data for request {'experiment': 'ssp434', 'model': 'TaiESM1', 'temporal_resolution': 'mon', 'variable': 'rsds'}\n",
      "2023-07-15 21:53:11,476 ERROR   Traceback (most recent call last):\n",
      "2023-07-15 21:53:11,477 ERROR     File \"/opt/cdstoolbox/cdscompute/cdscompute/cdshandlers/services/handler.py\", line 59, in handle_request\n",
      "2023-07-15 21:53:11,477 ERROR       result = cached(context.method, proc, context, context.args, context.kwargs)\n",
      "2023-07-15 21:53:11,478 ERROR     File \"/opt/cdstoolbox/cdscompute/cdscompute/caching.py\", line 108, in cached\n",
      "2023-07-15 21:53:11,479 ERROR       result = proc(context, *context.args, **context.kwargs)\n",
      "2023-07-15 21:53:11,480 ERROR     File \"/opt/cdstoolbox/cdscompute/cdscompute/services.py\", line 124, in __call__\n",
      "2023-07-15 21:53:11,480 ERROR       return p(*args, **kwargs)\n",
      "2023-07-15 21:53:11,481 ERROR     File \"/opt/cdstoolbox/cdscompute/cdscompute/services.py\", line 60, in __call__\n",
      "2023-07-15 21:53:11,481 ERROR       return self.proc(context, *args, **kwargs)\n",
      "2023-07-15 21:53:11,482 ERROR     File \"/home/cds/cdsservices/services/esgf_wps/__init__.py\", line 30, in execute\n",
      "2023-07-15 21:53:11,483 ERROR       request_facets, request = facets.search(context, request)\n",
      "2023-07-15 21:53:11,483 ERROR     File \"/home/cds/cdsservices/services/esgf_wps/facets.py\", line 61, in search\n",
      "2023-07-15 21:53:11,484 ERROR       raise ValueError(f'No matching data for request {tmp_request}')\n",
      "2023-07-15 21:53:11,485 ERROR   ValueError: No matching data for request {'experiment': 'ssp434', 'model': 'TaiESM1', 'temporal_resolution': 'mon', 'variable': 'rsds'}\n",
      "2023-07-15 21:53:11,519 INFO Welcome to the CDS\n",
      "2023-07-15 21:53:11,519 INFO Sending request to https://cds.climate.copernicus.eu/api/v2/resources/projections-cmip6\n",
      "2023-07-15 21:53:11,560 INFO Request is queued\n"
     ]
    },
    {
     "name": "stdout",
     "output_type": "stream",
     "text": [
      "Some parameters are not matching\n",
      "Test with scenario ssp4_3_4 and model access_esm1_5\n",
      "path_for_file does not exist: the data may not have been downloaded\n",
      "file_download does not exist: the data were not downloaded\n"
     ]
    },
    {
     "name": "stderr",
     "output_type": "stream",
     "text": [
      "2023-07-15 21:53:12,605 INFO Request is failed\n",
      "2023-07-15 21:53:12,606 ERROR Message: an internal error occurred processing your request\n",
      "2023-07-15 21:53:12,607 ERROR Reason:  No matching data for request {'experiment': 'ssp434', 'model': 'ACCESS-ESM1-5', 'temporal_resolution': 'mon', 'variable': 'rsds'}\n",
      "2023-07-15 21:53:12,607 ERROR   Traceback (most recent call last):\n",
      "2023-07-15 21:53:12,608 ERROR     File \"/opt/cdstoolbox/cdscompute/cdscompute/cdshandlers/services/handler.py\", line 59, in handle_request\n",
      "2023-07-15 21:53:12,609 ERROR       result = cached(context.method, proc, context, context.args, context.kwargs)\n",
      "2023-07-15 21:53:12,610 ERROR     File \"/opt/cdstoolbox/cdscompute/cdscompute/caching.py\", line 108, in cached\n",
      "2023-07-15 21:53:12,610 ERROR       result = proc(context, *context.args, **context.kwargs)\n",
      "2023-07-15 21:53:12,611 ERROR     File \"/opt/cdstoolbox/cdscompute/cdscompute/services.py\", line 124, in __call__\n",
      "2023-07-15 21:53:12,612 ERROR       return p(*args, **kwargs)\n",
      "2023-07-15 21:53:12,612 ERROR     File \"/opt/cdstoolbox/cdscompute/cdscompute/services.py\", line 60, in __call__\n",
      "2023-07-15 21:53:12,613 ERROR       return self.proc(context, *args, **kwargs)\n",
      "2023-07-15 21:53:12,613 ERROR     File \"/home/cds/cdsservices/services/esgf_wps/__init__.py\", line 30, in execute\n",
      "2023-07-15 21:53:12,614 ERROR       request_facets, request = facets.search(context, request)\n",
      "2023-07-15 21:53:12,614 ERROR     File \"/home/cds/cdsservices/services/esgf_wps/facets.py\", line 61, in search\n",
      "2023-07-15 21:53:12,615 ERROR       raise ValueError(f'No matching data for request {tmp_request}')\n",
      "2023-07-15 21:53:12,617 ERROR   ValueError: No matching data for request {'experiment': 'ssp434', 'model': 'ACCESS-ESM1-5', 'temporal_resolution': 'mon', 'variable': 'rsds'}\n",
      "2023-07-15 21:53:12,651 INFO Welcome to the CDS\n",
      "2023-07-15 21:53:12,652 INFO Sending request to https://cds.climate.copernicus.eu/api/v2/resources/projections-cmip6\n",
      "2023-07-15 21:53:12,727 INFO Request is queued\n"
     ]
    },
    {
     "name": "stdout",
     "output_type": "stream",
     "text": [
      "Some parameters are not matching\n",
      "Test with scenario ssp4_3_4 and model awi_esm_1_1_lr\n",
      "path_for_file does not exist: the data may not have been downloaded\n",
      "file_download does not exist: the data were not downloaded\n"
     ]
    },
    {
     "name": "stderr",
     "output_type": "stream",
     "text": [
      "2023-07-15 21:53:13,774 INFO Request is failed\n",
      "2023-07-15 21:53:13,775 ERROR Message: an internal error occurred processing your request\n",
      "2023-07-15 21:53:13,777 ERROR Reason:  No matching data for request {'experiment': 'ssp434', 'model': 'AWI-ESM-1-1-LR', 'temporal_resolution': 'mon', 'variable': 'rsds'}\n",
      "2023-07-15 21:53:13,778 ERROR   Traceback (most recent call last):\n",
      "2023-07-15 21:53:13,779 ERROR     File \"/opt/cdstoolbox/cdscompute/cdscompute/cdshandlers/services/handler.py\", line 59, in handle_request\n",
      "2023-07-15 21:53:13,780 ERROR       result = cached(context.method, proc, context, context.args, context.kwargs)\n",
      "2023-07-15 21:53:13,781 ERROR     File \"/opt/cdstoolbox/cdscompute/cdscompute/caching.py\", line 108, in cached\n",
      "2023-07-15 21:53:13,783 ERROR       result = proc(context, *context.args, **context.kwargs)\n",
      "2023-07-15 21:53:13,783 ERROR     File \"/opt/cdstoolbox/cdscompute/cdscompute/services.py\", line 124, in __call__\n",
      "2023-07-15 21:53:13,785 ERROR       return p(*args, **kwargs)\n",
      "2023-07-15 21:53:13,786 ERROR     File \"/opt/cdstoolbox/cdscompute/cdscompute/services.py\", line 60, in __call__\n",
      "2023-07-15 21:53:13,788 ERROR       return self.proc(context, *args, **kwargs)\n",
      "2023-07-15 21:53:13,789 ERROR     File \"/home/cds/cdsservices/services/esgf_wps/__init__.py\", line 30, in execute\n",
      "2023-07-15 21:53:13,790 ERROR       request_facets, request = facets.search(context, request)\n",
      "2023-07-15 21:53:13,790 ERROR     File \"/home/cds/cdsservices/services/esgf_wps/facets.py\", line 61, in search\n",
      "2023-07-15 21:53:13,792 ERROR       raise ValueError(f'No matching data for request {tmp_request}')\n",
      "2023-07-15 21:53:13,793 ERROR   ValueError: No matching data for request {'experiment': 'ssp434', 'model': 'AWI-ESM-1-1-LR', 'temporal_resolution': 'mon', 'variable': 'rsds'}\n",
      "2023-07-15 21:53:13,838 INFO Welcome to the CDS\n",
      "2023-07-15 21:53:13,840 INFO Sending request to https://cds.climate.copernicus.eu/api/v2/resources/projections-cmip6\n",
      "2023-07-15 21:53:13,919 INFO Request is queued\n"
     ]
    },
    {
     "name": "stdout",
     "output_type": "stream",
     "text": [
      "Some parameters are not matching\n",
      "Test with scenario ssp4_3_4 and model bcc_esm1\n",
      "path_for_file does not exist: the data may not have been downloaded\n",
      "file_download does not exist: the data were not downloaded\n"
     ]
    },
    {
     "name": "stderr",
     "output_type": "stream",
     "text": [
      "2023-07-15 21:53:14,960 INFO Request is failed\n",
      "2023-07-15 21:53:14,963 ERROR Message: an internal error occurred processing your request\n",
      "2023-07-15 21:53:14,966 ERROR Reason:  No matching data for request {'experiment': 'ssp434', 'model': 'BCC-ESM1', 'temporal_resolution': 'mon', 'variable': 'rsds'}\n",
      "2023-07-15 21:53:14,967 ERROR   Traceback (most recent call last):\n",
      "2023-07-15 21:53:14,968 ERROR     File \"/opt/cdstoolbox/cdscompute/cdscompute/cdshandlers/services/handler.py\", line 59, in handle_request\n",
      "2023-07-15 21:53:14,969 ERROR       result = cached(context.method, proc, context, context.args, context.kwargs)\n",
      "2023-07-15 21:53:14,970 ERROR     File \"/opt/cdstoolbox/cdscompute/cdscompute/caching.py\", line 108, in cached\n",
      "2023-07-15 21:53:14,972 ERROR       result = proc(context, *context.args, **context.kwargs)\n",
      "2023-07-15 21:53:14,975 ERROR     File \"/opt/cdstoolbox/cdscompute/cdscompute/services.py\", line 124, in __call__\n",
      "2023-07-15 21:53:14,976 ERROR       return p(*args, **kwargs)\n",
      "2023-07-15 21:53:14,977 ERROR     File \"/opt/cdstoolbox/cdscompute/cdscompute/services.py\", line 60, in __call__\n",
      "2023-07-15 21:53:14,978 ERROR       return self.proc(context, *args, **kwargs)\n",
      "2023-07-15 21:53:14,979 ERROR     File \"/home/cds/cdsservices/services/esgf_wps/__init__.py\", line 30, in execute\n",
      "2023-07-15 21:53:14,980 ERROR       request_facets, request = facets.search(context, request)\n",
      "2023-07-15 21:53:14,981 ERROR     File \"/home/cds/cdsservices/services/esgf_wps/facets.py\", line 61, in search\n",
      "2023-07-15 21:53:14,982 ERROR       raise ValueError(f'No matching data for request {tmp_request}')\n",
      "2023-07-15 21:53:14,983 ERROR   ValueError: No matching data for request {'experiment': 'ssp434', 'model': 'BCC-ESM1', 'temporal_resolution': 'mon', 'variable': 'rsds'}\n",
      "2023-07-15 21:53:15,022 INFO Welcome to the CDS\n",
      "2023-07-15 21:53:15,024 INFO Sending request to https://cds.climate.copernicus.eu/api/v2/resources/projections-cmip6\n",
      "2023-07-15 21:53:15,084 INFO Request is queued\n"
     ]
    },
    {
     "name": "stdout",
     "output_type": "stream",
     "text": [
      "Some parameters are not matching\n",
      "Test with scenario ssp4_3_4 and model canesm5\n",
      "path_for_file does not exist: the data may not have been downloaded\n",
      "file_download does not exist: the data were not downloaded\n"
     ]
    },
    {
     "name": "stderr",
     "output_type": "stream",
     "text": [
      "2023-07-15 21:53:16,132 INFO Request is running\n",
      "2023-07-15 21:53:23,383 INFO Request is completed\n",
      "2023-07-15 21:53:23,385 INFO Downloading https://download-0003-clone.copernicus-climate.eu/cache-compute-0003/cache/data7/adaptor.esgf_wps.retrieve-1689450802.3647933-9272-19-01664f85-bcc4-432d-a7be-bb48b172d102.zip to download.zip (488.3K)\n",
      "2023-07-15 21:53:24,300 INFO Download rate 534.2K/s                                                                    \n"
     ]
    },
    {
     "name": "stdout",
     "output_type": "stream",
     "text": [
      "The file has been download\n",
      "\\\\COWI.net\\projects\\A245000\\A248363\\CRVA\\Datasets\\radiation\\surface_downwelling_shortwave_radiation\\Copernicus-CMIP6\\raw_data\\2015-2100\\ssp4_3_4\\canesm5\\all-Mozambique\n",
      "Path for the file is created, did not existed before\n"
     ]
    },
    {
     "name": "stderr",
     "output_type": "stream",
     "text": [
      "2023-07-15 21:53:25,774 INFO Welcome to the CDS\n",
      "2023-07-15 21:53:25,776 INFO Sending request to https://cds.climate.copernicus.eu/api/v2/resources/projections-cmip6\n",
      "2023-07-15 21:53:25,878 INFO Request is queued\n"
     ]
    },
    {
     "name": "stdout",
     "output_type": "stream",
     "text": [
      "the file named rsds_Amon_CanESM5_ssp434_r1i1p1f1_gn_20150116-21001216_v20190429.nc was moved\n",
      "\n",
      " The downloaded file is extracted\n",
      "The file has been extracted\n",
      "Test with scenario ssp4_3_4 and model cesm2\n",
      "path_for_file does not exist: the data may not have been downloaded\n",
      "file_download does not exist: the data were not downloaded\n"
     ]
    },
    {
     "name": "stderr",
     "output_type": "stream",
     "text": [
      "2023-07-15 21:53:26,920 INFO Request is failed\n",
      "2023-07-15 21:53:26,923 ERROR Message: an internal error occurred processing your request\n",
      "2023-07-15 21:53:26,925 ERROR Reason:  No matching data for request {'experiment': 'ssp434', 'model': 'CESM2', 'temporal_resolution': 'mon', 'variable': 'rsds'}\n",
      "2023-07-15 21:53:26,927 ERROR   Traceback (most recent call last):\n",
      "2023-07-15 21:53:26,928 ERROR     File \"/opt/cdstoolbox/cdscompute/cdscompute/cdshandlers/services/handler.py\", line 59, in handle_request\n",
      "2023-07-15 21:53:26,929 ERROR       result = cached(context.method, proc, context, context.args, context.kwargs)\n",
      "2023-07-15 21:53:26,930 ERROR     File \"/opt/cdstoolbox/cdscompute/cdscompute/caching.py\", line 108, in cached\n",
      "2023-07-15 21:53:26,931 ERROR       result = proc(context, *context.args, **context.kwargs)\n",
      "2023-07-15 21:53:26,932 ERROR     File \"/opt/cdstoolbox/cdscompute/cdscompute/services.py\", line 124, in __call__\n",
      "2023-07-15 21:53:26,933 ERROR       return p(*args, **kwargs)\n",
      "2023-07-15 21:53:26,934 ERROR     File \"/opt/cdstoolbox/cdscompute/cdscompute/services.py\", line 60, in __call__\n",
      "2023-07-15 21:53:26,935 ERROR       return self.proc(context, *args, **kwargs)\n",
      "2023-07-15 21:53:26,936 ERROR     File \"/home/cds/cdsservices/services/esgf_wps/__init__.py\", line 30, in execute\n",
      "2023-07-15 21:53:26,940 ERROR       request_facets, request = facets.search(context, request)\n",
      "2023-07-15 21:53:26,942 ERROR     File \"/home/cds/cdsservices/services/esgf_wps/facets.py\", line 61, in search\n",
      "2023-07-15 21:53:26,944 ERROR       raise ValueError(f'No matching data for request {tmp_request}')\n",
      "2023-07-15 21:53:26,947 ERROR   ValueError: No matching data for request {'experiment': 'ssp434', 'model': 'CESM2', 'temporal_resolution': 'mon', 'variable': 'rsds'}\n",
      "2023-07-15 21:53:26,987 INFO Welcome to the CDS\n",
      "2023-07-15 21:53:26,989 INFO Sending request to https://cds.climate.copernicus.eu/api/v2/resources/projections-cmip6\n",
      "2023-07-15 21:53:27,080 INFO Request is queued\n"
     ]
    },
    {
     "name": "stdout",
     "output_type": "stream",
     "text": [
      "Some parameters are not matching\n",
      "Test with scenario ssp4_3_4 and model cesm2_waccm\n",
      "path_for_file does not exist: the data may not have been downloaded\n",
      "file_download does not exist: the data were not downloaded\n"
     ]
    },
    {
     "name": "stderr",
     "output_type": "stream",
     "text": [
      "2023-07-15 21:53:28,133 INFO Request is failed\n",
      "2023-07-15 21:53:28,134 ERROR Message: an internal error occurred processing your request\n",
      "2023-07-15 21:53:28,136 ERROR Reason:  No matching data for request {'experiment': 'ssp434', 'model': 'CESM2-WACCM', 'temporal_resolution': 'mon', 'variable': 'rsds'}\n",
      "2023-07-15 21:53:28,138 ERROR   Traceback (most recent call last):\n",
      "2023-07-15 21:53:28,140 ERROR     File \"/opt/cdstoolbox/cdscompute/cdscompute/cdshandlers/services/handler.py\", line 59, in handle_request\n",
      "2023-07-15 21:53:28,141 ERROR       result = cached(context.method, proc, context, context.args, context.kwargs)\n",
      "2023-07-15 21:53:28,142 ERROR     File \"/opt/cdstoolbox/cdscompute/cdscompute/caching.py\", line 108, in cached\n",
      "2023-07-15 21:53:28,143 ERROR       result = proc(context, *context.args, **context.kwargs)\n",
      "2023-07-15 21:53:28,145 ERROR     File \"/opt/cdstoolbox/cdscompute/cdscompute/services.py\", line 124, in __call__\n",
      "2023-07-15 21:53:28,147 ERROR       return p(*args, **kwargs)\n",
      "2023-07-15 21:53:28,148 ERROR     File \"/opt/cdstoolbox/cdscompute/cdscompute/services.py\", line 60, in __call__\n",
      "2023-07-15 21:53:28,149 ERROR       return self.proc(context, *args, **kwargs)\n",
      "2023-07-15 21:53:28,151 ERROR     File \"/home/cds/cdsservices/services/esgf_wps/__init__.py\", line 30, in execute\n",
      "2023-07-15 21:53:28,152 ERROR       request_facets, request = facets.search(context, request)\n",
      "2023-07-15 21:53:28,155 ERROR     File \"/home/cds/cdsservices/services/esgf_wps/facets.py\", line 61, in search\n",
      "2023-07-15 21:53:28,156 ERROR       raise ValueError(f'No matching data for request {tmp_request}')\n",
      "2023-07-15 21:53:28,157 ERROR   ValueError: No matching data for request {'experiment': 'ssp434', 'model': 'CESM2-WACCM', 'temporal_resolution': 'mon', 'variable': 'rsds'}\n",
      "2023-07-15 21:53:28,201 INFO Welcome to the CDS\n",
      "2023-07-15 21:53:28,203 INFO Sending request to https://cds.climate.copernicus.eu/api/v2/resources/projections-cmip6\n",
      "2023-07-15 21:53:28,290 INFO Request is queued\n"
     ]
    },
    {
     "name": "stdout",
     "output_type": "stream",
     "text": [
      "Some parameters are not matching\n",
      "Test with scenario ssp4_3_4 and model ciesm\n",
      "path_for_file does not exist: the data may not have been downloaded\n",
      "file_download does not exist: the data were not downloaded\n"
     ]
    },
    {
     "name": "stderr",
     "output_type": "stream",
     "text": [
      "2023-07-15 21:53:29,329 INFO Request is failed\n",
      "2023-07-15 21:53:29,329 ERROR Message: an internal error occurred processing your request\n",
      "2023-07-15 21:53:29,331 ERROR Reason:  No matching data for request {'experiment': 'ssp434', 'model': 'CIESM', 'temporal_resolution': 'mon', 'variable': 'rsds'}\n",
      "2023-07-15 21:53:29,331 ERROR   Traceback (most recent call last):\n",
      "2023-07-15 21:53:29,332 ERROR     File \"/opt/cdstoolbox/cdscompute/cdscompute/cdshandlers/services/handler.py\", line 59, in handle_request\n",
      "2023-07-15 21:53:29,333 ERROR       result = cached(context.method, proc, context, context.args, context.kwargs)\n",
      "2023-07-15 21:53:29,334 ERROR     File \"/opt/cdstoolbox/cdscompute/cdscompute/caching.py\", line 108, in cached\n",
      "2023-07-15 21:53:29,335 ERROR       result = proc(context, *context.args, **context.kwargs)\n",
      "2023-07-15 21:53:29,335 ERROR     File \"/opt/cdstoolbox/cdscompute/cdscompute/services.py\", line 124, in __call__\n",
      "2023-07-15 21:53:29,337 ERROR       return p(*args, **kwargs)\n",
      "2023-07-15 21:53:29,337 ERROR     File \"/opt/cdstoolbox/cdscompute/cdscompute/services.py\", line 60, in __call__\n",
      "2023-07-15 21:53:29,338 ERROR       return self.proc(context, *args, **kwargs)\n",
      "2023-07-15 21:53:29,338 ERROR     File \"/home/cds/cdsservices/services/esgf_wps/__init__.py\", line 30, in execute\n",
      "2023-07-15 21:53:29,339 ERROR       request_facets, request = facets.search(context, request)\n",
      "2023-07-15 21:53:29,340 ERROR     File \"/home/cds/cdsservices/services/esgf_wps/facets.py\", line 61, in search\n",
      "2023-07-15 21:53:29,340 ERROR       raise ValueError(f'No matching data for request {tmp_request}')\n",
      "2023-07-15 21:53:29,340 ERROR   ValueError: No matching data for request {'experiment': 'ssp434', 'model': 'CIESM', 'temporal_resolution': 'mon', 'variable': 'rsds'}\n",
      "2023-07-15 21:53:29,372 INFO Welcome to the CDS\n",
      "2023-07-15 21:53:29,373 INFO Sending request to https://cds.climate.copernicus.eu/api/v2/resources/projections-cmip6\n",
      "2023-07-15 21:53:29,426 INFO Request is queued\n"
     ]
    },
    {
     "name": "stdout",
     "output_type": "stream",
     "text": [
      "Some parameters are not matching\n",
      "Test with scenario ssp4_3_4 and model cmcc_cm2_sr5\n",
      "path_for_file does not exist: the data may not have been downloaded\n",
      "file_download does not exist: the data were not downloaded\n"
     ]
    },
    {
     "name": "stderr",
     "output_type": "stream",
     "text": [
      "2023-07-15 21:53:30,469 INFO Request is failed\n",
      "2023-07-15 21:53:30,471 ERROR Message: an internal error occurred processing your request\n",
      "2023-07-15 21:53:30,471 ERROR Reason:  No matching data for request {'experiment': 'ssp434', 'model': 'CMCC-CM2-SR5', 'temporal_resolution': 'mon', 'variable': 'rsds'}\n",
      "2023-07-15 21:53:30,472 ERROR   Traceback (most recent call last):\n",
      "2023-07-15 21:53:30,472 ERROR     File \"/opt/cdstoolbox/cdscompute/cdscompute/cdshandlers/services/handler.py\", line 59, in handle_request\n",
      "2023-07-15 21:53:30,473 ERROR       result = cached(context.method, proc, context, context.args, context.kwargs)\n",
      "2023-07-15 21:53:30,474 ERROR     File \"/opt/cdstoolbox/cdscompute/cdscompute/caching.py\", line 108, in cached\n",
      "2023-07-15 21:53:30,474 ERROR       result = proc(context, *context.args, **context.kwargs)\n",
      "2023-07-15 21:53:30,475 ERROR     File \"/opt/cdstoolbox/cdscompute/cdscompute/services.py\", line 124, in __call__\n",
      "2023-07-15 21:53:30,476 ERROR       return p(*args, **kwargs)\n",
      "2023-07-15 21:53:30,477 ERROR     File \"/opt/cdstoolbox/cdscompute/cdscompute/services.py\", line 60, in __call__\n",
      "2023-07-15 21:53:30,477 ERROR       return self.proc(context, *args, **kwargs)\n",
      "2023-07-15 21:53:30,477 ERROR     File \"/home/cds/cdsservices/services/esgf_wps/__init__.py\", line 30, in execute\n",
      "2023-07-15 21:53:30,478 ERROR       request_facets, request = facets.search(context, request)\n",
      "2023-07-15 21:53:30,478 ERROR     File \"/home/cds/cdsservices/services/esgf_wps/facets.py\", line 61, in search\n",
      "2023-07-15 21:53:30,479 ERROR       raise ValueError(f'No matching data for request {tmp_request}')\n",
      "2023-07-15 21:53:30,480 ERROR   ValueError: No matching data for request {'experiment': 'ssp434', 'model': 'CMCC-CM2-SR5', 'temporal_resolution': 'mon', 'variable': 'rsds'}\n",
      "2023-07-15 21:53:30,577 INFO Welcome to the CDS\n",
      "2023-07-15 21:53:30,578 INFO Sending request to https://cds.climate.copernicus.eu/api/v2/resources/projections-cmip6\n"
     ]
    },
    {
     "name": "stdout",
     "output_type": "stream",
     "text": [
      "Some parameters are not matching\n",
      "Test with scenario ssp4_3_4 and model cnrm_cm6_1\n",
      "path_for_file does not exist: the data may not have been downloaded\n",
      "file_download does not exist: the data were not downloaded\n"
     ]
    },
    {
     "name": "stderr",
     "output_type": "stream",
     "text": [
      "2023-07-15 21:53:30,675 INFO Request is queued\n",
      "2023-07-15 21:53:31,719 INFO Request is failed\n",
      "2023-07-15 21:53:31,720 ERROR Message: an internal error occurred processing your request\n",
      "2023-07-15 21:53:31,720 ERROR Reason:  No matching data for request {'experiment': 'ssp434', 'model': 'CNRM-CM6-1', 'temporal_resolution': 'mon', 'variable': 'rsds'}\n",
      "2023-07-15 21:53:31,721 ERROR   Traceback (most recent call last):\n",
      "2023-07-15 21:53:31,721 ERROR     File \"/opt/cdstoolbox/cdscompute/cdscompute/cdshandlers/services/handler.py\", line 59, in handle_request\n",
      "2023-07-15 21:53:31,722 ERROR       result = cached(context.method, proc, context, context.args, context.kwargs)\n",
      "2023-07-15 21:53:31,722 ERROR     File \"/opt/cdstoolbox/cdscompute/cdscompute/caching.py\", line 108, in cached\n",
      "2023-07-15 21:53:31,723 ERROR       result = proc(context, *context.args, **context.kwargs)\n",
      "2023-07-15 21:53:31,723 ERROR     File \"/opt/cdstoolbox/cdscompute/cdscompute/services.py\", line 124, in __call__\n",
      "2023-07-15 21:53:31,724 ERROR       return p(*args, **kwargs)\n",
      "2023-07-15 21:53:31,725 ERROR     File \"/opt/cdstoolbox/cdscompute/cdscompute/services.py\", line 60, in __call__\n",
      "2023-07-15 21:53:31,726 ERROR       return self.proc(context, *args, **kwargs)\n",
      "2023-07-15 21:53:31,726 ERROR     File \"/home/cds/cdsservices/services/esgf_wps/__init__.py\", line 30, in execute\n",
      "2023-07-15 21:53:31,726 ERROR       request_facets, request = facets.search(context, request)\n",
      "2023-07-15 21:53:31,727 ERROR     File \"/home/cds/cdsservices/services/esgf_wps/facets.py\", line 61, in search\n",
      "2023-07-15 21:53:31,728 ERROR       raise ValueError(f'No matching data for request {tmp_request}')\n",
      "2023-07-15 21:53:31,728 ERROR   ValueError: No matching data for request {'experiment': 'ssp434', 'model': 'CNRM-CM6-1', 'temporal_resolution': 'mon', 'variable': 'rsds'}\n",
      "2023-07-15 21:53:31,759 INFO Welcome to the CDS\n",
      "2023-07-15 21:53:31,760 INFO Sending request to https://cds.climate.copernicus.eu/api/v2/resources/projections-cmip6\n",
      "2023-07-15 21:53:31,797 INFO Request is queued\n"
     ]
    },
    {
     "name": "stdout",
     "output_type": "stream",
     "text": [
      "Some parameters are not matching\n",
      "Test with scenario ssp4_3_4 and model cnrm_esm2_1\n",
      "path_for_file does not exist: the data may not have been downloaded\n",
      "file_download does not exist: the data were not downloaded\n"
     ]
    },
    {
     "name": "stderr",
     "output_type": "stream",
     "text": [
      "2023-07-15 21:53:32,837 INFO Request is failed\n",
      "2023-07-15 21:53:32,838 ERROR Message: an internal error occurred processing your request\n",
      "2023-07-15 21:53:32,839 ERROR Reason:  execution failed\n",
      "2023-07-15 21:53:32,840 ERROR   Traceback (most recent call last):\n",
      "2023-07-15 21:53:32,840 ERROR     File \"/usr/local/lib/python3.6/site-packages/birdy/client/base.py\", line 386, in _execute\n",
      "2023-07-15 21:53:32,841 ERROR       lineage=self._lineage,\n",
      "2023-07-15 21:53:32,841 ERROR     File \"/usr/local/lib/python3.6/site-packages/owslib/wps.py\", line 359, in execute\n",
      "2023-07-15 21:53:32,842 ERROR       response = execution.submitRequest(request)\n",
      "2023-07-15 21:53:32,842 ERROR     File \"/usr/local/lib/python3.6/site-packages/owslib/wps.py\", line 912, in submitRequest\n",
      "2023-07-15 21:53:32,844 ERROR       self.url, request, method='Post', headers=self.headers)\n",
      "2023-07-15 21:53:32,845 ERROR     File \"/usr/local/lib/python3.6/site-packages/owslib/wps.py\", line 603, in readFromUrl\n",
      "2023-07-15 21:53:32,845 ERROR       headers=headers, verify=verify, cert=cert)\n",
      "2023-07-15 21:53:32,846 ERROR     File \"/usr/local/lib/python3.6/site-packages/owslib/wps.py\", line 515, in _readFromUrl\n",
      "2023-07-15 21:53:32,846 ERROR       headers=headers, verify=self.auth.verify, cert=self.auth.cert, timeout=timeout)\n",
      "2023-07-15 21:53:32,847 ERROR     File \"/usr/local/lib/python3.6/site-packages/owslib/util.py\", line 209, in openURL\n",
      "2023-07-15 21:53:32,847 ERROR       req.raise_for_status()\n",
      "2023-07-15 21:53:32,848 ERROR     File \"/usr/local/lib/python3.6/site-packages/requests/models.py\", line 960, in raise_for_status\n",
      "2023-07-15 21:53:32,849 ERROR       raise HTTPError(http_error_msg, response=self)\n",
      "2023-07-15 21:53:32,849 ERROR   requests.exceptions.HTTPError: 500 Server Error: INTERNAL SERVER ERROR for url: http://compute.mips.copernicus-climate.eu/wps\n",
      "2023-07-15 21:53:32,882 INFO Welcome to the CDS\n",
      "2023-07-15 21:53:32,883 INFO Sending request to https://cds.climate.copernicus.eu/api/v2/resources/projections-cmip6\n",
      "2023-07-15 21:53:32,936 INFO Request is queued\n"
     ]
    },
    {
     "name": "stdout",
     "output_type": "stream",
     "text": [
      "Some parameters are not matching\n",
      "Test with scenario ssp4_3_4 and model e3sm_1_1\n",
      "path_for_file does not exist: the data may not have been downloaded\n",
      "file_download does not exist: the data were not downloaded\n"
     ]
    },
    {
     "name": "stderr",
     "output_type": "stream",
     "text": [
      "2023-07-15 21:53:33,976 INFO Request is failed\n",
      "2023-07-15 21:53:33,977 ERROR Message: an internal error occurred processing your request\n",
      "2023-07-15 21:53:33,978 ERROR Reason:  No matching data for request {'experiment': 'ssp434', 'model': 'E3SM-1-1', 'temporal_resolution': 'mon', 'variable': 'rsds'}\n",
      "2023-07-15 21:53:33,978 ERROR   Traceback (most recent call last):\n",
      "2023-07-15 21:53:33,979 ERROR     File \"/opt/cdstoolbox/cdscompute/cdscompute/cdshandlers/services/handler.py\", line 59, in handle_request\n",
      "2023-07-15 21:53:33,980 ERROR       result = cached(context.method, proc, context, context.args, context.kwargs)\n",
      "2023-07-15 21:53:33,980 ERROR     File \"/opt/cdstoolbox/cdscompute/cdscompute/caching.py\", line 108, in cached\n",
      "2023-07-15 21:53:33,980 ERROR       result = proc(context, *context.args, **context.kwargs)\n",
      "2023-07-15 21:53:33,981 ERROR     File \"/opt/cdstoolbox/cdscompute/cdscompute/services.py\", line 124, in __call__\n",
      "2023-07-15 21:53:33,982 ERROR       return p(*args, **kwargs)\n",
      "2023-07-15 21:53:33,982 ERROR     File \"/opt/cdstoolbox/cdscompute/cdscompute/services.py\", line 60, in __call__\n",
      "2023-07-15 21:53:33,983 ERROR       return self.proc(context, *args, **kwargs)\n",
      "2023-07-15 21:53:33,983 ERROR     File \"/home/cds/cdsservices/services/esgf_wps/__init__.py\", line 30, in execute\n",
      "2023-07-15 21:53:33,985 ERROR       request_facets, request = facets.search(context, request)\n",
      "2023-07-15 21:53:33,986 ERROR     File \"/home/cds/cdsservices/services/esgf_wps/facets.py\", line 61, in search\n",
      "2023-07-15 21:53:33,987 ERROR       raise ValueError(f'No matching data for request {tmp_request}')\n",
      "2023-07-15 21:53:33,987 ERROR   ValueError: No matching data for request {'experiment': 'ssp434', 'model': 'E3SM-1-1', 'temporal_resolution': 'mon', 'variable': 'rsds'}\n",
      "2023-07-15 21:53:34,024 INFO Welcome to the CDS\n",
      "2023-07-15 21:53:34,025 INFO Sending request to https://cds.climate.copernicus.eu/api/v2/resources/projections-cmip6\n",
      "2023-07-15 21:53:34,174 INFO Request is queued\n"
     ]
    },
    {
     "name": "stdout",
     "output_type": "stream",
     "text": [
      "Some parameters are not matching\n",
      "Test with scenario ssp4_3_4 and model ec_earth3\n",
      "path_for_file does not exist: the data may not have been downloaded\n",
      "file_download does not exist: the data were not downloaded\n"
     ]
    },
    {
     "name": "stderr",
     "output_type": "stream",
     "text": [
      "2023-07-15 21:53:35,219 INFO Request is running\n",
      "2023-07-15 21:54:06,629 INFO Request is completed\n",
      "2023-07-15 21:54:06,631 INFO Downloading https://download-0017.copernicus-climate.eu/cache-compute-0017/cache/data1/adaptor.esgf_wps.retrieve-1689450840.2415206-21470-8-67724fcd-ea61-4cd9-851d-261cce51812f.zip to download.zip (1.5M)\n",
      "2023-07-15 21:54:07,334 INFO Download rate 2.2M/s                                                                      \n"
     ]
    },
    {
     "name": "stdout",
     "output_type": "stream",
     "text": [
      "The file has been download\n",
      "\\\\COWI.net\\projects\\A245000\\A248363\\CRVA\\Datasets\\radiation\\surface_downwelling_shortwave_radiation\\Copernicus-CMIP6\\raw_data\\2015-2100\\ssp4_3_4\\ec_earth3\\all-Mozambique\n",
      "Path for the file is created, did not existed before\n"
     ]
    },
    {
     "name": "stderr",
     "output_type": "stream",
     "text": [
      "2023-07-15 21:54:09,090 INFO Welcome to the CDS\n",
      "2023-07-15 21:54:09,091 INFO Sending request to https://cds.climate.copernicus.eu/api/v2/resources/projections-cmip6\n",
      "2023-07-15 21:54:09,181 INFO Request is queued\n"
     ]
    },
    {
     "name": "stdout",
     "output_type": "stream",
     "text": [
      "the file named rsds_Amon_EC-Earth3_ssp434_r101i1p1f1_gr_20150116-21001216_v20200412.nc was moved\n",
      "\n",
      " The downloaded file is extracted\n",
      "The file has been extracted\n",
      "Test with scenario ssp4_3_4 and model ec_earth3_cc\n",
      "path_for_file does not exist: the data may not have been downloaded\n",
      "file_download does not exist: the data were not downloaded\n"
     ]
    },
    {
     "name": "stderr",
     "output_type": "stream",
     "text": [
      "2023-07-15 21:54:10,226 INFO Request is failed\n",
      "2023-07-15 21:54:10,226 ERROR Message: an internal error occurred processing your request\n",
      "2023-07-15 21:54:10,227 ERROR Reason:  No matching data for request {'experiment': 'ssp434', 'model': 'EC-Earth3-CC', 'temporal_resolution': 'mon', 'variable': 'rsds'}\n",
      "2023-07-15 21:54:10,228 ERROR   Traceback (most recent call last):\n",
      "2023-07-15 21:54:10,228 ERROR     File \"/opt/cdstoolbox/cdscompute/cdscompute/cdshandlers/services/handler.py\", line 59, in handle_request\n",
      "2023-07-15 21:54:10,230 ERROR       result = cached(context.method, proc, context, context.args, context.kwargs)\n",
      "2023-07-15 21:54:10,230 ERROR     File \"/opt/cdstoolbox/cdscompute/cdscompute/caching.py\", line 108, in cached\n",
      "2023-07-15 21:54:10,230 ERROR       result = proc(context, *context.args, **context.kwargs)\n",
      "2023-07-15 21:54:10,231 ERROR     File \"/opt/cdstoolbox/cdscompute/cdscompute/services.py\", line 124, in __call__\n",
      "2023-07-15 21:54:10,231 ERROR       return p(*args, **kwargs)\n",
      "2023-07-15 21:54:10,232 ERROR     File \"/opt/cdstoolbox/cdscompute/cdscompute/services.py\", line 60, in __call__\n",
      "2023-07-15 21:54:10,232 ERROR       return self.proc(context, *args, **kwargs)\n",
      "2023-07-15 21:54:10,232 ERROR     File \"/home/cds/cdsservices/services/esgf_wps/__init__.py\", line 30, in execute\n",
      "2023-07-15 21:54:10,232 ERROR       request_facets, request = facets.search(context, request)\n",
      "2023-07-15 21:54:10,234 ERROR     File \"/home/cds/cdsservices/services/esgf_wps/facets.py\", line 61, in search\n",
      "2023-07-15 21:54:10,236 ERROR       raise ValueError(f'No matching data for request {tmp_request}')\n",
      "2023-07-15 21:54:10,236 ERROR   ValueError: No matching data for request {'experiment': 'ssp434', 'model': 'EC-Earth3-CC', 'temporal_resolution': 'mon', 'variable': 'rsds'}\n",
      "2023-07-15 21:54:10,269 INFO Welcome to the CDS\n",
      "2023-07-15 21:54:10,270 INFO Sending request to https://cds.climate.copernicus.eu/api/v2/resources/projections-cmip6\n",
      "2023-07-15 21:54:10,340 INFO Request is queued\n"
     ]
    },
    {
     "name": "stdout",
     "output_type": "stream",
     "text": [
      "Some parameters are not matching\n",
      "Test with scenario ssp4_3_4 and model ec_earth3_veg_lr\n",
      "path_for_file does not exist: the data may not have been downloaded\n",
      "file_download does not exist: the data were not downloaded\n"
     ]
    },
    {
     "name": "stderr",
     "output_type": "stream",
     "text": [
      "2023-07-15 21:54:11,386 INFO Request is failed\n",
      "2023-07-15 21:54:11,387 ERROR Message: an internal error occurred processing your request\n",
      "2023-07-15 21:54:11,388 ERROR Reason:  No matching data for request {'experiment': 'ssp434', 'model': 'EC-Earth3-Veg-LR', 'temporal_resolution': 'mon', 'variable': 'rsds'}\n",
      "2023-07-15 21:54:11,389 ERROR   Traceback (most recent call last):\n",
      "2023-07-15 21:54:11,389 ERROR     File \"/opt/cdstoolbox/cdscompute/cdscompute/cdshandlers/services/handler.py\", line 59, in handle_request\n",
      "2023-07-15 21:54:11,390 ERROR       result = cached(context.method, proc, context, context.args, context.kwargs)\n",
      "2023-07-15 21:54:11,390 ERROR     File \"/opt/cdstoolbox/cdscompute/cdscompute/caching.py\", line 108, in cached\n",
      "2023-07-15 21:54:11,391 ERROR       result = proc(context, *context.args, **context.kwargs)\n",
      "2023-07-15 21:54:11,392 ERROR     File \"/opt/cdstoolbox/cdscompute/cdscompute/services.py\", line 124, in __call__\n",
      "2023-07-15 21:54:11,393 ERROR       return p(*args, **kwargs)\n",
      "2023-07-15 21:54:11,394 ERROR     File \"/opt/cdstoolbox/cdscompute/cdscompute/services.py\", line 60, in __call__\n",
      "2023-07-15 21:54:11,395 ERROR       return self.proc(context, *args, **kwargs)\n",
      "2023-07-15 21:54:11,396 ERROR     File \"/home/cds/cdsservices/services/esgf_wps/__init__.py\", line 30, in execute\n",
      "2023-07-15 21:54:11,396 ERROR       request_facets, request = facets.search(context, request)\n",
      "2023-07-15 21:54:11,397 ERROR     File \"/home/cds/cdsservices/services/esgf_wps/facets.py\", line 61, in search\n",
      "2023-07-15 21:54:11,398 ERROR       raise ValueError(f'No matching data for request {tmp_request}')\n",
      "2023-07-15 21:54:11,398 ERROR   ValueError: No matching data for request {'experiment': 'ssp434', 'model': 'EC-Earth3-Veg-LR', 'temporal_resolution': 'mon', 'variable': 'rsds'}\n",
      "2023-07-15 21:54:11,443 INFO Welcome to the CDS\n",
      "2023-07-15 21:54:11,444 INFO Sending request to https://cds.climate.copernicus.eu/api/v2/resources/projections-cmip6\n",
      "2023-07-15 21:54:11,492 INFO Request is queued\n"
     ]
    },
    {
     "name": "stdout",
     "output_type": "stream",
     "text": [
      "Some parameters are not matching\n",
      "Test with scenario ssp4_3_4 and model fgoals_g3\n",
      "path_for_file does not exist: the data may not have been downloaded\n",
      "file_download does not exist: the data were not downloaded\n"
     ]
    },
    {
     "name": "stderr",
     "output_type": "stream",
     "text": [
      "2023-07-15 21:54:12,526 INFO Request is failed\n",
      "2023-07-15 21:54:12,528 ERROR Message: an internal error occurred processing your request\n",
      "2023-07-15 21:54:12,528 ERROR Reason:  execution failed\n",
      "2023-07-15 21:54:12,529 ERROR   Traceback (most recent call last):\n",
      "2023-07-15 21:54:12,530 ERROR     File \"/usr/local/lib/python3.6/site-packages/birdy/client/base.py\", line 386, in _execute\n",
      "2023-07-15 21:54:12,530 ERROR       lineage=self._lineage,\n",
      "2023-07-15 21:54:12,531 ERROR     File \"/usr/local/lib/python3.6/site-packages/owslib/wps.py\", line 359, in execute\n",
      "2023-07-15 21:54:12,532 ERROR       response = execution.submitRequest(request)\n",
      "2023-07-15 21:54:12,532 ERROR     File \"/usr/local/lib/python3.6/site-packages/owslib/wps.py\", line 912, in submitRequest\n",
      "2023-07-15 21:54:12,532 ERROR       self.url, request, method='Post', headers=self.headers)\n",
      "2023-07-15 21:54:12,533 ERROR     File \"/usr/local/lib/python3.6/site-packages/owslib/wps.py\", line 603, in readFromUrl\n",
      "2023-07-15 21:54:12,533 ERROR       headers=headers, verify=verify, cert=cert)\n",
      "2023-07-15 21:54:12,534 ERROR     File \"/usr/local/lib/python3.6/site-packages/owslib/wps.py\", line 515, in _readFromUrl\n",
      "2023-07-15 21:54:12,535 ERROR       headers=headers, verify=self.auth.verify, cert=self.auth.cert, timeout=timeout)\n",
      "2023-07-15 21:54:12,535 ERROR     File \"/usr/local/lib/python3.6/site-packages/owslib/util.py\", line 209, in openURL\n",
      "2023-07-15 21:54:12,536 ERROR       req.raise_for_status()\n",
      "2023-07-15 21:54:12,536 ERROR     File \"/usr/local/lib/python3.6/site-packages/requests/models.py\", line 960, in raise_for_status\n",
      "2023-07-15 21:54:12,538 ERROR       raise HTTPError(http_error_msg, response=self)\n",
      "2023-07-15 21:54:12,538 ERROR   requests.exceptions.HTTPError: 500 Server Error: INTERNAL SERVER ERROR for url: http://compute.mips.copernicus-climate.eu/wps\n",
      "2023-07-15 21:54:12,572 INFO Welcome to the CDS\n",
      "2023-07-15 21:54:12,573 INFO Sending request to https://cds.climate.copernicus.eu/api/v2/resources/projections-cmip6\n",
      "2023-07-15 21:54:12,634 INFO Request is queued\n"
     ]
    },
    {
     "name": "stdout",
     "output_type": "stream",
     "text": [
      "Some parameters are not matching\n",
      "Test with scenario ssp4_3_4 and model gfdl_esm4\n",
      "path_for_file does not exist: the data may not have been downloaded\n",
      "file_download does not exist: the data were not downloaded\n"
     ]
    },
    {
     "name": "stderr",
     "output_type": "stream",
     "text": [
      "2023-07-15 21:54:14,048 INFO Request is failed\n",
      "2023-07-15 21:54:14,050 ERROR Message: an internal error occurred processing your request\n",
      "2023-07-15 21:54:14,051 ERROR Reason:  No matching data for request {'experiment': 'ssp434', 'model': 'GFDL-ESM4', 'temporal_resolution': 'mon', 'variable': 'rsds'}\n",
      "2023-07-15 21:54:14,051 ERROR   Traceback (most recent call last):\n",
      "2023-07-15 21:54:14,053 ERROR     File \"/opt/cdstoolbox/cdscompute/cdscompute/cdshandlers/services/handler.py\", line 59, in handle_request\n",
      "2023-07-15 21:54:14,053 ERROR       result = cached(context.method, proc, context, context.args, context.kwargs)\n",
      "2023-07-15 21:54:14,053 ERROR     File \"/opt/cdstoolbox/cdscompute/cdscompute/caching.py\", line 108, in cached\n",
      "2023-07-15 21:54:14,053 ERROR       result = proc(context, *context.args, **context.kwargs)\n",
      "2023-07-15 21:54:14,054 ERROR     File \"/opt/cdstoolbox/cdscompute/cdscompute/services.py\", line 124, in __call__\n",
      "2023-07-15 21:54:14,054 ERROR       return p(*args, **kwargs)\n",
      "2023-07-15 21:54:14,055 ERROR     File \"/opt/cdstoolbox/cdscompute/cdscompute/services.py\", line 60, in __call__\n",
      "2023-07-15 21:54:14,055 ERROR       return self.proc(context, *args, **kwargs)\n",
      "2023-07-15 21:54:14,055 ERROR     File \"/home/cds/cdsservices/services/esgf_wps/__init__.py\", line 30, in execute\n",
      "2023-07-15 21:54:14,056 ERROR       request_facets, request = facets.search(context, request)\n",
      "2023-07-15 21:54:14,057 ERROR     File \"/home/cds/cdsservices/services/esgf_wps/facets.py\", line 61, in search\n",
      "2023-07-15 21:54:14,057 ERROR       raise ValueError(f'No matching data for request {tmp_request}')\n",
      "2023-07-15 21:54:14,057 ERROR   ValueError: No matching data for request {'experiment': 'ssp434', 'model': 'GFDL-ESM4', 'temporal_resolution': 'mon', 'variable': 'rsds'}\n",
      "2023-07-15 21:54:14,115 INFO Welcome to the CDS\n",
      "2023-07-15 21:54:14,116 INFO Sending request to https://cds.climate.copernicus.eu/api/v2/resources/projections-cmip6\n",
      "2023-07-15 21:54:14,202 INFO Request is queued\n"
     ]
    },
    {
     "name": "stdout",
     "output_type": "stream",
     "text": [
      "Some parameters are not matching\n",
      "Test with scenario ssp4_3_4 and model giss_e2_1_h\n",
      "path_for_file does not exist: the data may not have been downloaded\n",
      "file_download does not exist: the data were not downloaded\n"
     ]
    },
    {
     "name": "stderr",
     "output_type": "stream",
     "text": [
      "2023-07-15 21:54:15,265 INFO Request is failed\n",
      "2023-07-15 21:54:15,266 ERROR Message: an internal error occurred processing your request\n",
      "2023-07-15 21:54:15,266 ERROR Reason:  No matching data for request {'experiment': 'ssp434', 'model': 'GISS-E2-1-H', 'temporal_resolution': 'mon', 'variable': 'rsds'}\n",
      "2023-07-15 21:54:15,268 ERROR   Traceback (most recent call last):\n",
      "2023-07-15 21:54:15,268 ERROR     File \"/opt/cdstoolbox/cdscompute/cdscompute/cdshandlers/services/handler.py\", line 59, in handle_request\n",
      "2023-07-15 21:54:15,269 ERROR       result = cached(context.method, proc, context, context.args, context.kwargs)\n",
      "2023-07-15 21:54:15,269 ERROR     File \"/opt/cdstoolbox/cdscompute/cdscompute/caching.py\", line 108, in cached\n",
      "2023-07-15 21:54:15,270 ERROR       result = proc(context, *context.args, **context.kwargs)\n",
      "2023-07-15 21:54:15,271 ERROR     File \"/opt/cdstoolbox/cdscompute/cdscompute/services.py\", line 124, in __call__\n",
      "2023-07-15 21:54:15,272 ERROR       return p(*args, **kwargs)\n",
      "2023-07-15 21:54:15,273 ERROR     File \"/opt/cdstoolbox/cdscompute/cdscompute/services.py\", line 60, in __call__\n",
      "2023-07-15 21:54:15,273 ERROR       return self.proc(context, *args, **kwargs)\n",
      "2023-07-15 21:54:15,274 ERROR     File \"/home/cds/cdsservices/services/esgf_wps/__init__.py\", line 30, in execute\n",
      "2023-07-15 21:54:15,275 ERROR       request_facets, request = facets.search(context, request)\n",
      "2023-07-15 21:54:15,275 ERROR     File \"/home/cds/cdsservices/services/esgf_wps/facets.py\", line 61, in search\n",
      "2023-07-15 21:54:15,275 ERROR       raise ValueError(f'No matching data for request {tmp_request}')\n",
      "2023-07-15 21:54:15,277 ERROR   ValueError: No matching data for request {'experiment': 'ssp434', 'model': 'GISS-E2-1-H', 'temporal_resolution': 'mon', 'variable': 'rsds'}\n",
      "2023-07-15 21:54:15,319 INFO Welcome to the CDS\n",
      "2023-07-15 21:54:15,320 INFO Sending request to https://cds.climate.copernicus.eu/api/v2/resources/projections-cmip6\n",
      "2023-07-15 21:54:15,389 INFO Request is queued\n"
     ]
    },
    {
     "name": "stdout",
     "output_type": "stream",
     "text": [
      "Some parameters are not matching\n",
      "Test with scenario ssp4_3_4 and model hadgem3_gc31_mm\n",
      "path_for_file does not exist: the data may not have been downloaded\n",
      "file_download does not exist: the data were not downloaded\n"
     ]
    },
    {
     "name": "stderr",
     "output_type": "stream",
     "text": [
      "2023-07-15 21:54:16,432 INFO Request is failed\n",
      "2023-07-15 21:54:16,433 ERROR Message: an internal error occurred processing your request\n",
      "2023-07-15 21:54:16,433 ERROR Reason:  No matching data for request {'experiment': 'ssp434', 'model': 'HadGEM3-GC31-MM', 'temporal_resolution': 'mon', 'variable': 'rsds'}\n",
      "2023-07-15 21:54:16,434 ERROR   Traceback (most recent call last):\n",
      "2023-07-15 21:54:16,434 ERROR     File \"/opt/cdstoolbox/cdscompute/cdscompute/cdshandlers/services/handler.py\", line 59, in handle_request\n",
      "2023-07-15 21:54:16,435 ERROR       result = cached(context.method, proc, context, context.args, context.kwargs)\n",
      "2023-07-15 21:54:16,435 ERROR     File \"/opt/cdstoolbox/cdscompute/cdscompute/caching.py\", line 108, in cached\n",
      "2023-07-15 21:54:16,435 ERROR       result = proc(context, *context.args, **context.kwargs)\n",
      "2023-07-15 21:54:16,436 ERROR     File \"/opt/cdstoolbox/cdscompute/cdscompute/services.py\", line 124, in __call__\n",
      "2023-07-15 21:54:16,437 ERROR       return p(*args, **kwargs)\n",
      "2023-07-15 21:54:16,438 ERROR     File \"/opt/cdstoolbox/cdscompute/cdscompute/services.py\", line 60, in __call__\n",
      "2023-07-15 21:54:16,438 ERROR       return self.proc(context, *args, **kwargs)\n",
      "2023-07-15 21:54:16,439 ERROR     File \"/home/cds/cdsservices/services/esgf_wps/__init__.py\", line 30, in execute\n",
      "2023-07-15 21:54:16,440 ERROR       request_facets, request = facets.search(context, request)\n",
      "2023-07-15 21:54:16,441 ERROR     File \"/home/cds/cdsservices/services/esgf_wps/facets.py\", line 61, in search\n",
      "2023-07-15 21:54:16,441 ERROR       raise ValueError(f'No matching data for request {tmp_request}')\n",
      "2023-07-15 21:54:16,442 ERROR   ValueError: No matching data for request {'experiment': 'ssp434', 'model': 'HadGEM3-GC31-MM', 'temporal_resolution': 'mon', 'variable': 'rsds'}\n",
      "2023-07-15 21:54:16,485 INFO Welcome to the CDS\n",
      "2023-07-15 21:54:16,486 INFO Sending request to https://cds.climate.copernicus.eu/api/v2/resources/projections-cmip6\n",
      "2023-07-15 21:54:16,545 INFO Request is queued\n"
     ]
    },
    {
     "name": "stdout",
     "output_type": "stream",
     "text": [
      "Some parameters are not matching\n",
      "Test with scenario ssp4_3_4 and model inm_cm4_8\n",
      "path_for_file does not exist: the data may not have been downloaded\n",
      "file_download does not exist: the data were not downloaded\n"
     ]
    },
    {
     "name": "stderr",
     "output_type": "stream",
     "text": [
      "2023-07-15 21:54:17,588 INFO Request is failed\n",
      "2023-07-15 21:54:17,588 ERROR Message: an internal error occurred processing your request\n",
      "2023-07-15 21:54:17,589 ERROR Reason:  No matching data for request {'experiment': 'ssp434', 'model': 'INM-CM4-8', 'temporal_resolution': 'mon', 'variable': 'rsds'}\n",
      "2023-07-15 21:54:17,589 ERROR   Traceback (most recent call last):\n",
      "2023-07-15 21:54:17,590 ERROR     File \"/opt/cdstoolbox/cdscompute/cdscompute/cdshandlers/services/handler.py\", line 59, in handle_request\n",
      "2023-07-15 21:54:17,591 ERROR       result = cached(context.method, proc, context, context.args, context.kwargs)\n",
      "2023-07-15 21:54:17,592 ERROR     File \"/opt/cdstoolbox/cdscompute/cdscompute/caching.py\", line 108, in cached\n",
      "2023-07-15 21:54:17,592 ERROR       result = proc(context, *context.args, **context.kwargs)\n",
      "2023-07-15 21:54:17,592 ERROR     File \"/opt/cdstoolbox/cdscompute/cdscompute/services.py\", line 124, in __call__\n",
      "2023-07-15 21:54:17,593 ERROR       return p(*args, **kwargs)\n",
      "2023-07-15 21:54:17,593 ERROR     File \"/opt/cdstoolbox/cdscompute/cdscompute/services.py\", line 60, in __call__\n",
      "2023-07-15 21:54:17,594 ERROR       return self.proc(context, *args, **kwargs)\n",
      "2023-07-15 21:54:17,594 ERROR     File \"/home/cds/cdsservices/services/esgf_wps/__init__.py\", line 30, in execute\n",
      "2023-07-15 21:54:17,594 ERROR       request_facets, request = facets.search(context, request)\n",
      "2023-07-15 21:54:17,595 ERROR     File \"/home/cds/cdsservices/services/esgf_wps/facets.py\", line 61, in search\n",
      "2023-07-15 21:54:17,595 ERROR       raise ValueError(f'No matching data for request {tmp_request}')\n",
      "2023-07-15 21:54:17,596 ERROR   ValueError: No matching data for request {'experiment': 'ssp434', 'model': 'INM-CM4-8', 'temporal_resolution': 'mon', 'variable': 'rsds'}\n",
      "2023-07-15 21:54:17,634 INFO Welcome to the CDS\n",
      "2023-07-15 21:54:17,635 INFO Sending request to https://cds.climate.copernicus.eu/api/v2/resources/projections-cmip6\n",
      "2023-07-15 21:54:17,729 INFO Request is queued\n"
     ]
    },
    {
     "name": "stdout",
     "output_type": "stream",
     "text": [
      "Some parameters are not matching\n",
      "Test with scenario ssp4_3_4 and model ipsl_cm5a2_inca\n",
      "path_for_file does not exist: the data may not have been downloaded\n",
      "file_download does not exist: the data were not downloaded\n"
     ]
    },
    {
     "name": "stderr",
     "output_type": "stream",
     "text": [
      "2023-07-15 21:54:18,772 INFO Request is failed\n",
      "2023-07-15 21:54:18,773 ERROR Message: an internal error occurred processing your request\n",
      "2023-07-15 21:54:18,774 ERROR Reason:  No matching data for request {'experiment': 'ssp434', 'model': 'IPSL-CM5A2-INCA', 'temporal_resolution': 'mon', 'variable': 'rsds'}\n",
      "2023-07-15 21:54:18,776 ERROR   Traceback (most recent call last):\n",
      "2023-07-15 21:54:18,777 ERROR     File \"/opt/cdstoolbox/cdscompute/cdscompute/cdshandlers/services/handler.py\", line 59, in handle_request\n",
      "2023-07-15 21:54:18,778 ERROR       result = cached(context.method, proc, context, context.args, context.kwargs)\n",
      "2023-07-15 21:54:18,778 ERROR     File \"/opt/cdstoolbox/cdscompute/cdscompute/caching.py\", line 108, in cached\n",
      "2023-07-15 21:54:18,779 ERROR       result = proc(context, *context.args, **context.kwargs)\n",
      "2023-07-15 21:54:18,779 ERROR     File \"/opt/cdstoolbox/cdscompute/cdscompute/services.py\", line 124, in __call__\n",
      "2023-07-15 21:54:18,780 ERROR       return p(*args, **kwargs)\n",
      "2023-07-15 21:54:18,781 ERROR     File \"/opt/cdstoolbox/cdscompute/cdscompute/services.py\", line 60, in __call__\n",
      "2023-07-15 21:54:18,782 ERROR       return self.proc(context, *args, **kwargs)\n",
      "2023-07-15 21:54:18,782 ERROR     File \"/home/cds/cdsservices/services/esgf_wps/__init__.py\", line 30, in execute\n",
      "2023-07-15 21:54:18,782 ERROR       request_facets, request = facets.search(context, request)\n",
      "2023-07-15 21:54:18,783 ERROR     File \"/home/cds/cdsservices/services/esgf_wps/facets.py\", line 61, in search\n",
      "2023-07-15 21:54:18,784 ERROR       raise ValueError(f'No matching data for request {tmp_request}')\n",
      "2023-07-15 21:54:18,784 ERROR   ValueError: No matching data for request {'experiment': 'ssp434', 'model': 'IPSL-CM5A2-INCA', 'temporal_resolution': 'mon', 'variable': 'rsds'}\n",
      "2023-07-15 21:54:18,823 INFO Welcome to the CDS\n",
      "2023-07-15 21:54:18,824 INFO Sending request to https://cds.climate.copernicus.eu/api/v2/resources/projections-cmip6\n",
      "2023-07-15 21:54:18,879 INFO Request is queued\n"
     ]
    },
    {
     "name": "stdout",
     "output_type": "stream",
     "text": [
      "Some parameters are not matching\n",
      "Test with scenario ssp4_3_4 and model kace_1_0_g\n",
      "path_for_file does not exist: the data may not have been downloaded\n",
      "file_download does not exist: the data were not downloaded\n"
     ]
    },
    {
     "name": "stderr",
     "output_type": "stream",
     "text": [
      "2023-07-15 21:54:19,928 INFO Request is failed\n",
      "2023-07-15 21:54:19,928 ERROR Message: an internal error occurred processing your request\n",
      "2023-07-15 21:54:19,929 ERROR Reason:  No matching data for request {'experiment': 'ssp434', 'model': 'KACE-1-0-G', 'temporal_resolution': 'mon', 'variable': 'rsds'}\n",
      "2023-07-15 21:54:19,930 ERROR   Traceback (most recent call last):\n",
      "2023-07-15 21:54:19,931 ERROR     File \"/opt/cdstoolbox/cdscompute/cdscompute/cdshandlers/services/handler.py\", line 59, in handle_request\n",
      "2023-07-15 21:54:19,931 ERROR       result = cached(context.method, proc, context, context.args, context.kwargs)\n",
      "2023-07-15 21:54:19,932 ERROR     File \"/opt/cdstoolbox/cdscompute/cdscompute/caching.py\", line 108, in cached\n",
      "2023-07-15 21:54:19,932 ERROR       result = proc(context, *context.args, **context.kwargs)\n",
      "2023-07-15 21:54:19,933 ERROR     File \"/opt/cdstoolbox/cdscompute/cdscompute/services.py\", line 124, in __call__\n",
      "2023-07-15 21:54:19,933 ERROR       return p(*args, **kwargs)\n",
      "2023-07-15 21:54:19,934 ERROR     File \"/opt/cdstoolbox/cdscompute/cdscompute/services.py\", line 60, in __call__\n",
      "2023-07-15 21:54:19,935 ERROR       return self.proc(context, *args, **kwargs)\n",
      "2023-07-15 21:54:19,936 ERROR     File \"/home/cds/cdsservices/services/esgf_wps/__init__.py\", line 30, in execute\n",
      "2023-07-15 21:54:19,936 ERROR       request_facets, request = facets.search(context, request)\n",
      "2023-07-15 21:54:19,937 ERROR     File \"/home/cds/cdsservices/services/esgf_wps/facets.py\", line 61, in search\n",
      "2023-07-15 21:54:19,937 ERROR       raise ValueError(f'No matching data for request {tmp_request}')\n",
      "2023-07-15 21:54:19,937 ERROR   ValueError: No matching data for request {'experiment': 'ssp434', 'model': 'KACE-1-0-G', 'temporal_resolution': 'mon', 'variable': 'rsds'}\n",
      "2023-07-15 21:54:19,978 INFO Welcome to the CDS\n",
      "2023-07-15 21:54:19,979 INFO Sending request to https://cds.climate.copernicus.eu/api/v2/resources/projections-cmip6\n",
      "2023-07-15 21:54:20,041 INFO Request is queued\n"
     ]
    },
    {
     "name": "stdout",
     "output_type": "stream",
     "text": [
      "Some parameters are not matching\n",
      "Test with scenario ssp4_3_4 and model mcm_ua_1_0\n",
      "path_for_file does not exist: the data may not have been downloaded\n",
      "file_download does not exist: the data were not downloaded\n"
     ]
    },
    {
     "name": "stderr",
     "output_type": "stream",
     "text": [
      "2023-07-15 21:54:21,083 INFO Request is failed\n",
      "2023-07-15 21:54:21,084 ERROR Message: an internal error occurred processing your request\n",
      "2023-07-15 21:54:21,086 ERROR Reason:  No matching data for request {'experiment': 'ssp434', 'model': 'MCM-UA-1-0', 'temporal_resolution': 'mon', 'variable': 'rsds'}\n",
      "2023-07-15 21:54:21,086 ERROR   Traceback (most recent call last):\n",
      "2023-07-15 21:54:21,087 ERROR     File \"/opt/cdstoolbox/cdscompute/cdscompute/cdshandlers/services/handler.py\", line 59, in handle_request\n",
      "2023-07-15 21:54:21,087 ERROR       result = cached(context.method, proc, context, context.args, context.kwargs)\n",
      "2023-07-15 21:54:21,088 ERROR     File \"/opt/cdstoolbox/cdscompute/cdscompute/caching.py\", line 108, in cached\n",
      "2023-07-15 21:54:21,088 ERROR       result = proc(context, *context.args, **context.kwargs)\n",
      "2023-07-15 21:54:21,089 ERROR     File \"/opt/cdstoolbox/cdscompute/cdscompute/services.py\", line 124, in __call__\n",
      "2023-07-15 21:54:21,089 ERROR       return p(*args, **kwargs)\n",
      "2023-07-15 21:54:21,089 ERROR     File \"/opt/cdstoolbox/cdscompute/cdscompute/services.py\", line 60, in __call__\n",
      "2023-07-15 21:54:21,090 ERROR       return self.proc(context, *args, **kwargs)\n",
      "2023-07-15 21:54:21,090 ERROR     File \"/home/cds/cdsservices/services/esgf_wps/__init__.py\", line 30, in execute\n",
      "2023-07-15 21:54:21,091 ERROR       request_facets, request = facets.search(context, request)\n",
      "2023-07-15 21:54:21,091 ERROR     File \"/home/cds/cdsservices/services/esgf_wps/facets.py\", line 61, in search\n",
      "2023-07-15 21:54:21,092 ERROR       raise ValueError(f'No matching data for request {tmp_request}')\n",
      "2023-07-15 21:54:21,092 ERROR   ValueError: No matching data for request {'experiment': 'ssp434', 'model': 'MCM-UA-1-0', 'temporal_resolution': 'mon', 'variable': 'rsds'}\n",
      "2023-07-15 21:54:21,132 INFO Welcome to the CDS\n",
      "2023-07-15 21:54:21,133 INFO Sending request to https://cds.climate.copernicus.eu/api/v2/resources/projections-cmip6\n",
      "2023-07-15 21:54:21,234 INFO Request is queued\n"
     ]
    },
    {
     "name": "stdout",
     "output_type": "stream",
     "text": [
      "Some parameters are not matching\n",
      "Test with scenario ssp4_3_4 and model miroc_es2h\n",
      "path_for_file does not exist: the data may not have been downloaded\n",
      "file_download does not exist: the data were not downloaded\n"
     ]
    },
    {
     "name": "stderr",
     "output_type": "stream",
     "text": [
      "2023-07-15 21:54:22,282 INFO Request is failed\n",
      "2023-07-15 21:54:22,283 ERROR Message: an internal error occurred processing your request\n",
      "2023-07-15 21:54:22,283 ERROR Reason:  No matching data for request {'experiment': 'ssp434', 'model': 'MIROC-ES2H', 'temporal_resolution': 'mon', 'variable': 'rsds'}\n",
      "2023-07-15 21:54:22,284 ERROR   Traceback (most recent call last):\n",
      "2023-07-15 21:54:22,285 ERROR     File \"/opt/cdstoolbox/cdscompute/cdscompute/cdshandlers/services/handler.py\", line 59, in handle_request\n",
      "2023-07-15 21:54:22,286 ERROR       result = cached(context.method, proc, context, context.args, context.kwargs)\n",
      "2023-07-15 21:54:22,286 ERROR     File \"/opt/cdstoolbox/cdscompute/cdscompute/caching.py\", line 108, in cached\n",
      "2023-07-15 21:54:22,287 ERROR       result = proc(context, *context.args, **context.kwargs)\n",
      "2023-07-15 21:54:22,287 ERROR     File \"/opt/cdstoolbox/cdscompute/cdscompute/services.py\", line 124, in __call__\n",
      "2023-07-15 21:54:22,288 ERROR       return p(*args, **kwargs)\n",
      "2023-07-15 21:54:22,289 ERROR     File \"/opt/cdstoolbox/cdscompute/cdscompute/services.py\", line 60, in __call__\n",
      "2023-07-15 21:54:22,289 ERROR       return self.proc(context, *args, **kwargs)\n",
      "2023-07-15 21:54:22,289 ERROR     File \"/home/cds/cdsservices/services/esgf_wps/__init__.py\", line 30, in execute\n",
      "2023-07-15 21:54:22,289 ERROR       request_facets, request = facets.search(context, request)\n",
      "2023-07-15 21:54:22,291 ERROR     File \"/home/cds/cdsservices/services/esgf_wps/facets.py\", line 61, in search\n",
      "2023-07-15 21:54:22,291 ERROR       raise ValueError(f'No matching data for request {tmp_request}')\n",
      "2023-07-15 21:54:22,291 ERROR   ValueError: No matching data for request {'experiment': 'ssp434', 'model': 'MIROC-ES2H', 'temporal_resolution': 'mon', 'variable': 'rsds'}\n",
      "2023-07-15 21:54:22,331 INFO Welcome to the CDS\n",
      "2023-07-15 21:54:22,332 INFO Sending request to https://cds.climate.copernicus.eu/api/v2/resources/projections-cmip6\n",
      "2023-07-15 21:54:22,429 INFO Request is queued\n"
     ]
    },
    {
     "name": "stdout",
     "output_type": "stream",
     "text": [
      "Some parameters are not matching\n",
      "Test with scenario ssp4_3_4 and model mpi_esm_1_2_ham\n",
      "path_for_file does not exist: the data may not have been downloaded\n",
      "file_download does not exist: the data were not downloaded\n"
     ]
    },
    {
     "name": "stderr",
     "output_type": "stream",
     "text": [
      "2023-07-15 21:54:23,478 INFO Request is failed\n",
      "2023-07-15 21:54:23,479 ERROR Message: an internal error occurred processing your request\n",
      "2023-07-15 21:54:23,480 ERROR Reason:  No matching data for request {'experiment': 'ssp434', 'model': 'MPI-ESM-1-2-HAM', 'temporal_resolution': 'mon', 'variable': 'rsds'}\n",
      "2023-07-15 21:54:23,481 ERROR   Traceback (most recent call last):\n",
      "2023-07-15 21:54:23,481 ERROR     File \"/opt/cdstoolbox/cdscompute/cdscompute/cdshandlers/services/handler.py\", line 59, in handle_request\n",
      "2023-07-15 21:54:23,483 ERROR       result = cached(context.method, proc, context, context.args, context.kwargs)\n",
      "2023-07-15 21:54:23,484 ERROR     File \"/opt/cdstoolbox/cdscompute/cdscompute/caching.py\", line 108, in cached\n",
      "2023-07-15 21:54:23,484 ERROR       result = proc(context, *context.args, **context.kwargs)\n",
      "2023-07-15 21:54:23,486 ERROR     File \"/opt/cdstoolbox/cdscompute/cdscompute/services.py\", line 124, in __call__\n",
      "2023-07-15 21:54:23,486 ERROR       return p(*args, **kwargs)\n",
      "2023-07-15 21:54:23,487 ERROR     File \"/opt/cdstoolbox/cdscompute/cdscompute/services.py\", line 60, in __call__\n",
      "2023-07-15 21:54:23,487 ERROR       return self.proc(context, *args, **kwargs)\n",
      "2023-07-15 21:54:23,488 ERROR     File \"/home/cds/cdsservices/services/esgf_wps/__init__.py\", line 30, in execute\n",
      "2023-07-15 21:54:23,488 ERROR       request_facets, request = facets.search(context, request)\n",
      "2023-07-15 21:54:23,489 ERROR     File \"/home/cds/cdsservices/services/esgf_wps/facets.py\", line 61, in search\n",
      "2023-07-15 21:54:23,489 ERROR       raise ValueError(f'No matching data for request {tmp_request}')\n",
      "2023-07-15 21:54:23,491 ERROR   ValueError: No matching data for request {'experiment': 'ssp434', 'model': 'MPI-ESM-1-2-HAM', 'temporal_resolution': 'mon', 'variable': 'rsds'}\n",
      "2023-07-15 21:54:23,533 INFO Welcome to the CDS\n",
      "2023-07-15 21:54:23,534 INFO Sending request to https://cds.climate.copernicus.eu/api/v2/resources/projections-cmip6\n",
      "2023-07-15 21:54:23,630 INFO Request is queued\n"
     ]
    },
    {
     "name": "stdout",
     "output_type": "stream",
     "text": [
      "Some parameters are not matching\n",
      "Test with scenario ssp4_3_4 and model mpi_esm1_2_lr\n",
      "path_for_file does not exist: the data may not have been downloaded\n",
      "file_download does not exist: the data were not downloaded\n"
     ]
    },
    {
     "name": "stderr",
     "output_type": "stream",
     "text": [
      "2023-07-15 21:54:24,681 INFO Request is failed\n",
      "2023-07-15 21:54:24,683 ERROR Message: an internal error occurred processing your request\n",
      "2023-07-15 21:54:24,684 ERROR Reason:  No matching data for request {'experiment': 'ssp434', 'model': 'MPI-ESM1-2-LR', 'temporal_resolution': 'mon', 'variable': 'rsds'}\n",
      "2023-07-15 21:54:24,685 ERROR   Traceback (most recent call last):\n",
      "2023-07-15 21:54:24,685 ERROR     File \"/opt/cdstoolbox/cdscompute/cdscompute/cdshandlers/services/handler.py\", line 59, in handle_request\n",
      "2023-07-15 21:54:24,687 ERROR       result = cached(context.method, proc, context, context.args, context.kwargs)\n",
      "2023-07-15 21:54:24,688 ERROR     File \"/opt/cdstoolbox/cdscompute/cdscompute/caching.py\", line 108, in cached\n",
      "2023-07-15 21:54:24,689 ERROR       result = proc(context, *context.args, **context.kwargs)\n",
      "2023-07-15 21:54:24,689 ERROR     File \"/opt/cdstoolbox/cdscompute/cdscompute/services.py\", line 124, in __call__\n",
      "2023-07-15 21:54:24,689 ERROR       return p(*args, **kwargs)\n",
      "2023-07-15 21:54:24,691 ERROR     File \"/opt/cdstoolbox/cdscompute/cdscompute/services.py\", line 60, in __call__\n",
      "2023-07-15 21:54:24,691 ERROR       return self.proc(context, *args, **kwargs)\n",
      "2023-07-15 21:54:24,691 ERROR     File \"/home/cds/cdsservices/services/esgf_wps/__init__.py\", line 30, in execute\n",
      "2023-07-15 21:54:24,692 ERROR       request_facets, request = facets.search(context, request)\n",
      "2023-07-15 21:54:24,692 ERROR     File \"/home/cds/cdsservices/services/esgf_wps/facets.py\", line 61, in search\n",
      "2023-07-15 21:54:24,693 ERROR       raise ValueError(f'No matching data for request {tmp_request}')\n",
      "2023-07-15 21:54:24,693 ERROR   ValueError: No matching data for request {'experiment': 'ssp434', 'model': 'MPI-ESM1-2-LR', 'temporal_resolution': 'mon', 'variable': 'rsds'}\n",
      "2023-07-15 21:54:24,731 INFO Welcome to the CDS\n",
      "2023-07-15 21:54:24,732 INFO Sending request to https://cds.climate.copernicus.eu/api/v2/resources/projections-cmip6\n",
      "2023-07-15 21:54:24,813 INFO Request is queued\n"
     ]
    },
    {
     "name": "stdout",
     "output_type": "stream",
     "text": [
      "Some parameters are not matching\n",
      "Test with scenario ssp4_3_4 and model nesm3\n",
      "path_for_file does not exist: the data may not have been downloaded\n",
      "file_download does not exist: the data were not downloaded\n"
     ]
    },
    {
     "name": "stderr",
     "output_type": "stream",
     "text": [
      "2023-07-15 21:54:25,863 INFO Request is failed\n",
      "2023-07-15 21:54:25,864 ERROR Message: an internal error occurred processing your request\n",
      "2023-07-15 21:54:25,865 ERROR Reason:  No matching data for request {'experiment': 'ssp434', 'model': 'NESM3', 'temporal_resolution': 'mon', 'variable': 'rsds'}\n",
      "2023-07-15 21:54:25,866 ERROR   Traceback (most recent call last):\n",
      "2023-07-15 21:54:25,867 ERROR     File \"/opt/cdstoolbox/cdscompute/cdscompute/cdshandlers/services/handler.py\", line 59, in handle_request\n",
      "2023-07-15 21:54:25,868 ERROR       result = cached(context.method, proc, context, context.args, context.kwargs)\n",
      "2023-07-15 21:54:25,868 ERROR     File \"/opt/cdstoolbox/cdscompute/cdscompute/caching.py\", line 108, in cached\n",
      "2023-07-15 21:54:25,869 ERROR       result = proc(context, *context.args, **context.kwargs)\n",
      "2023-07-15 21:54:25,871 ERROR     File \"/opt/cdstoolbox/cdscompute/cdscompute/services.py\", line 124, in __call__\n",
      "2023-07-15 21:54:25,871 ERROR       return p(*args, **kwargs)\n",
      "2023-07-15 21:54:25,872 ERROR     File \"/opt/cdstoolbox/cdscompute/cdscompute/services.py\", line 60, in __call__\n",
      "2023-07-15 21:54:25,873 ERROR       return self.proc(context, *args, **kwargs)\n",
      "2023-07-15 21:54:25,873 ERROR     File \"/home/cds/cdsservices/services/esgf_wps/__init__.py\", line 30, in execute\n",
      "2023-07-15 21:54:25,874 ERROR       request_facets, request = facets.search(context, request)\n",
      "2023-07-15 21:54:25,874 ERROR     File \"/home/cds/cdsservices/services/esgf_wps/facets.py\", line 61, in search\n",
      "2023-07-15 21:54:25,875 ERROR       raise ValueError(f'No matching data for request {tmp_request}')\n",
      "2023-07-15 21:54:25,875 ERROR   ValueError: No matching data for request {'experiment': 'ssp434', 'model': 'NESM3', 'temporal_resolution': 'mon', 'variable': 'rsds'}\n",
      "2023-07-15 21:54:25,914 INFO Welcome to the CDS\n",
      "2023-07-15 21:54:25,915 INFO Sending request to https://cds.climate.copernicus.eu/api/v2/resources/projections-cmip6\n",
      "2023-07-15 21:54:25,985 INFO Request is queued\n"
     ]
    },
    {
     "name": "stdout",
     "output_type": "stream",
     "text": [
      "Some parameters are not matching\n",
      "Test with scenario ssp4_3_4 and model noresm2_lm\n",
      "path_for_file does not exist: the data may not have been downloaded\n",
      "file_download does not exist: the data were not downloaded\n"
     ]
    },
    {
     "name": "stderr",
     "output_type": "stream",
     "text": [
      "2023-07-15 21:54:27,036 INFO Request is failed\n",
      "2023-07-15 21:54:27,038 ERROR Message: an internal error occurred processing your request\n",
      "2023-07-15 21:54:27,039 ERROR Reason:  No matching data for request {'experiment': 'ssp434', 'model': 'NorESM2-LM', 'temporal_resolution': 'mon', 'variable': 'rsds'}\n",
      "2023-07-15 21:54:27,039 ERROR   Traceback (most recent call last):\n",
      "2023-07-15 21:54:27,040 ERROR     File \"/opt/cdstoolbox/cdscompute/cdscompute/cdshandlers/services/handler.py\", line 59, in handle_request\n",
      "2023-07-15 21:54:27,041 ERROR       result = cached(context.method, proc, context, context.args, context.kwargs)\n",
      "2023-07-15 21:54:27,042 ERROR     File \"/opt/cdstoolbox/cdscompute/cdscompute/caching.py\", line 108, in cached\n",
      "2023-07-15 21:54:27,042 ERROR       result = proc(context, *context.args, **context.kwargs)\n",
      "2023-07-15 21:54:27,043 ERROR     File \"/opt/cdstoolbox/cdscompute/cdscompute/services.py\", line 124, in __call__\n",
      "2023-07-15 21:54:27,044 ERROR       return p(*args, **kwargs)\n",
      "2023-07-15 21:54:27,044 ERROR     File \"/opt/cdstoolbox/cdscompute/cdscompute/services.py\", line 60, in __call__\n",
      "2023-07-15 21:54:27,045 ERROR       return self.proc(context, *args, **kwargs)\n",
      "2023-07-15 21:54:27,047 ERROR     File \"/home/cds/cdsservices/services/esgf_wps/__init__.py\", line 30, in execute\n",
      "2023-07-15 21:54:27,047 ERROR       request_facets, request = facets.search(context, request)\n",
      "2023-07-15 21:54:27,048 ERROR     File \"/home/cds/cdsservices/services/esgf_wps/facets.py\", line 61, in search\n",
      "2023-07-15 21:54:27,049 ERROR       raise ValueError(f'No matching data for request {tmp_request}')\n",
      "2023-07-15 21:54:27,049 ERROR   ValueError: No matching data for request {'experiment': 'ssp434', 'model': 'NorESM2-LM', 'temporal_resolution': 'mon', 'variable': 'rsds'}\n",
      "2023-07-15 21:54:27,092 INFO Welcome to the CDS\n",
      "2023-07-15 21:54:27,092 INFO Sending request to https://cds.climate.copernicus.eu/api/v2/resources/projections-cmip6\n",
      "2023-07-15 21:54:27,136 INFO Request is queued\n"
     ]
    },
    {
     "name": "stdout",
     "output_type": "stream",
     "text": [
      "Some parameters are not matching\n",
      "Test with scenario ssp4_3_4 and model sam0_unicon\n",
      "path_for_file does not exist: the data may not have been downloaded\n",
      "file_download does not exist: the data were not downloaded\n"
     ]
    },
    {
     "name": "stderr",
     "output_type": "stream",
     "text": [
      "2023-07-15 21:54:28,173 INFO Request is failed\n",
      "2023-07-15 21:54:28,174 ERROR Message: an internal error occurred processing your request\n",
      "2023-07-15 21:54:28,174 ERROR Reason:  No matching data for request {'experiment': 'ssp434', 'model': 'SAM0-UNICON', 'temporal_resolution': 'mon', 'variable': 'rsds'}\n",
      "2023-07-15 21:54:28,175 ERROR   Traceback (most recent call last):\n",
      "2023-07-15 21:54:28,176 ERROR     File \"/opt/cdstoolbox/cdscompute/cdscompute/cdshandlers/services/handler.py\", line 59, in handle_request\n",
      "2023-07-15 21:54:28,176 ERROR       result = cached(context.method, proc, context, context.args, context.kwargs)\n",
      "2023-07-15 21:54:28,176 ERROR     File \"/opt/cdstoolbox/cdscompute/cdscompute/caching.py\", line 108, in cached\n",
      "2023-07-15 21:54:28,178 ERROR       result = proc(context, *context.args, **context.kwargs)\n",
      "2023-07-15 21:54:28,178 ERROR     File \"/opt/cdstoolbox/cdscompute/cdscompute/services.py\", line 124, in __call__\n",
      "2023-07-15 21:54:28,178 ERROR       return p(*args, **kwargs)\n",
      "2023-07-15 21:54:28,178 ERROR     File \"/opt/cdstoolbox/cdscompute/cdscompute/services.py\", line 60, in __call__\n",
      "2023-07-15 21:54:28,179 ERROR       return self.proc(context, *args, **kwargs)\n",
      "2023-07-15 21:54:28,179 ERROR     File \"/home/cds/cdsservices/services/esgf_wps/__init__.py\", line 30, in execute\n",
      "2023-07-15 21:54:28,180 ERROR       request_facets, request = facets.search(context, request)\n",
      "2023-07-15 21:54:28,181 ERROR     File \"/home/cds/cdsservices/services/esgf_wps/facets.py\", line 61, in search\n",
      "2023-07-15 21:54:28,181 ERROR       raise ValueError(f'No matching data for request {tmp_request}')\n",
      "2023-07-15 21:54:28,181 ERROR   ValueError: No matching data for request {'experiment': 'ssp434', 'model': 'SAM0-UNICON', 'temporal_resolution': 'mon', 'variable': 'rsds'}\n",
      "2023-07-15 21:54:28,222 INFO Welcome to the CDS\n",
      "2023-07-15 21:54:28,223 INFO Sending request to https://cds.climate.copernicus.eu/api/v2/resources/projections-cmip6\n",
      "2023-07-15 21:54:28,298 INFO Request is queued\n"
     ]
    },
    {
     "name": "stdout",
     "output_type": "stream",
     "text": [
      "Some parameters are not matching\n",
      "Test with scenario ssp4_3_4 and model ukesm1_0_ll\n",
      "path_for_file does not exist: the data may not have been downloaded\n",
      "file_download does not exist: the data were not downloaded\n"
     ]
    },
    {
     "name": "stderr",
     "output_type": "stream",
     "text": [
      "2023-07-15 21:54:29,341 INFO Request is running\n",
      "2023-07-15 21:54:41,700 INFO Request is completed\n",
      "2023-07-15 21:54:41,701 INFO Downloading https://download-0017.copernicus-climate.eu/cache-compute-0017/cache/data0/adaptor.esgf_wps.retrieve-1689450879.0192184-21558-9-a086e2fe-79ee-47ab-be34-ebb5e07974da.zip to download.zip (450.3K)\n",
      "2023-07-15 21:54:41,925 INFO Download rate 2M/s                                                                        \n"
     ]
    },
    {
     "name": "stdout",
     "output_type": "stream",
     "text": [
      "The file has been download\n",
      "\\\\COWI.net\\projects\\A245000\\A248363\\CRVA\\Datasets\\radiation\\surface_downwelling_shortwave_radiation\\Copernicus-CMIP6\\raw_data\\2015-2100\\ssp4_3_4\\ukesm1_0_ll\\all-Mozambique\n",
      "Path for the file is created, did not existed before\n"
     ]
    },
    {
     "name": "stderr",
     "output_type": "stream",
     "text": [
      "2023-07-15 21:54:43,338 INFO Welcome to the CDS\n",
      "2023-07-15 21:54:43,339 INFO Sending request to https://cds.climate.copernicus.eu/api/v2/resources/projections-cmip6\n",
      "2023-07-15 21:54:43,399 INFO Request is queued\n"
     ]
    },
    {
     "name": "stdout",
     "output_type": "stream",
     "text": [
      "the file named rsds_Amon_UKESM1-0-LL_ssp434_r1i1p1f2_gn_20150116-21001216_v20190828.nc was moved\n",
      "\n",
      " The downloaded file is extracted\n",
      "The file has been extracted\n",
      "Test with scenario ssp5_3_4os and model access_cm2\n",
      "path_for_file does not exist: the data may not have been downloaded\n",
      "file_download does not exist: the data were not downloaded\n"
     ]
    },
    {
     "name": "stderr",
     "output_type": "stream",
     "text": [
      "2023-07-15 21:54:44,439 INFO Request is failed\n",
      "2023-07-15 21:54:44,440 ERROR Message: an internal error occurred processing your request\n",
      "2023-07-15 21:54:44,441 ERROR Reason:  No matching data for request {'experiment': 'ssp534-over', 'model': 'ACCESS-CM2', 'temporal_resolution': 'mon', 'variable': 'rsds'}\n",
      "2023-07-15 21:54:44,441 ERROR   Traceback (most recent call last):\n",
      "2023-07-15 21:54:44,442 ERROR     File \"/opt/cdstoolbox/cdscompute/cdscompute/cdshandlers/services/handler.py\", line 59, in handle_request\n",
      "2023-07-15 21:54:44,443 ERROR       result = cached(context.method, proc, context, context.args, context.kwargs)\n",
      "2023-07-15 21:54:44,444 ERROR     File \"/opt/cdstoolbox/cdscompute/cdscompute/caching.py\", line 108, in cached\n",
      "2023-07-15 21:54:44,444 ERROR       result = proc(context, *context.args, **context.kwargs)\n",
      "2023-07-15 21:54:44,445 ERROR     File \"/opt/cdstoolbox/cdscompute/cdscompute/services.py\", line 124, in __call__\n",
      "2023-07-15 21:54:44,445 ERROR       return p(*args, **kwargs)\n",
      "2023-07-15 21:54:44,445 ERROR     File \"/opt/cdstoolbox/cdscompute/cdscompute/services.py\", line 60, in __call__\n",
      "2023-07-15 21:54:44,446 ERROR       return self.proc(context, *args, **kwargs)\n",
      "2023-07-15 21:54:44,447 ERROR     File \"/home/cds/cdsservices/services/esgf_wps/__init__.py\", line 30, in execute\n",
      "2023-07-15 21:54:44,448 ERROR       request_facets, request = facets.search(context, request)\n",
      "2023-07-15 21:54:44,448 ERROR     File \"/home/cds/cdsservices/services/esgf_wps/facets.py\", line 61, in search\n",
      "2023-07-15 21:54:44,449 ERROR       raise ValueError(f'No matching data for request {tmp_request}')\n",
      "2023-07-15 21:54:44,449 ERROR   ValueError: No matching data for request {'experiment': 'ssp534-over', 'model': 'ACCESS-CM2', 'temporal_resolution': 'mon', 'variable': 'rsds'}\n",
      "2023-07-15 21:54:44,489 INFO Welcome to the CDS\n",
      "2023-07-15 21:54:44,490 INFO Sending request to https://cds.climate.copernicus.eu/api/v2/resources/projections-cmip6\n",
      "2023-07-15 21:54:44,558 INFO Request is queued\n"
     ]
    },
    {
     "name": "stdout",
     "output_type": "stream",
     "text": [
      "Some parameters are not matching\n",
      "Test with scenario ssp5_3_4os and model awi_cm_1_1_mr\n",
      "path_for_file does not exist: the data may not have been downloaded\n",
      "file_download does not exist: the data were not downloaded\n"
     ]
    },
    {
     "name": "stderr",
     "output_type": "stream",
     "text": [
      "2023-07-15 21:54:45,609 INFO Request is failed\n",
      "2023-07-15 21:54:45,610 ERROR Message: an internal error occurred processing your request\n",
      "2023-07-15 21:54:45,610 ERROR Reason:  No matching data for request {'experiment': 'ssp534-over', 'model': 'AWI-CM-1-1-MR', 'temporal_resolution': 'mon', 'variable': 'rsds'}\n",
      "2023-07-15 21:54:45,611 ERROR   Traceback (most recent call last):\n",
      "2023-07-15 21:54:45,612 ERROR     File \"/opt/cdstoolbox/cdscompute/cdscompute/cdshandlers/services/handler.py\", line 59, in handle_request\n",
      "2023-07-15 21:54:45,612 ERROR       result = cached(context.method, proc, context, context.args, context.kwargs)\n",
      "2023-07-15 21:54:45,613 ERROR     File \"/opt/cdstoolbox/cdscompute/cdscompute/caching.py\", line 108, in cached\n",
      "2023-07-15 21:54:45,613 ERROR       result = proc(context, *context.args, **context.kwargs)\n",
      "2023-07-15 21:54:45,614 ERROR     File \"/opt/cdstoolbox/cdscompute/cdscompute/services.py\", line 124, in __call__\n",
      "2023-07-15 21:54:45,614 ERROR       return p(*args, **kwargs)\n",
      "2023-07-15 21:54:45,615 ERROR     File \"/opt/cdstoolbox/cdscompute/cdscompute/services.py\", line 60, in __call__\n",
      "2023-07-15 21:54:45,615 ERROR       return self.proc(context, *args, **kwargs)\n",
      "2023-07-15 21:54:45,615 ERROR     File \"/home/cds/cdsservices/services/esgf_wps/__init__.py\", line 30, in execute\n",
      "2023-07-15 21:54:45,616 ERROR       request_facets, request = facets.search(context, request)\n",
      "2023-07-15 21:54:45,616 ERROR     File \"/home/cds/cdsservices/services/esgf_wps/facets.py\", line 61, in search\n",
      "2023-07-15 21:54:45,617 ERROR       raise ValueError(f'No matching data for request {tmp_request}')\n",
      "2023-07-15 21:54:45,617 ERROR   ValueError: No matching data for request {'experiment': 'ssp534-over', 'model': 'AWI-CM-1-1-MR', 'temporal_resolution': 'mon', 'variable': 'rsds'}\n",
      "2023-07-15 21:54:45,658 INFO Welcome to the CDS\n",
      "2023-07-15 21:54:45,659 INFO Sending request to https://cds.climate.copernicus.eu/api/v2/resources/projections-cmip6\n",
      "2023-07-15 21:54:45,728 INFO Request is queued\n"
     ]
    },
    {
     "name": "stdout",
     "output_type": "stream",
     "text": [
      "Some parameters are not matching\n",
      "Test with scenario ssp5_3_4os and model bcc_csm2_mr\n",
      "path_for_file does not exist: the data may not have been downloaded\n",
      "file_download does not exist: the data were not downloaded\n"
     ]
    },
    {
     "name": "stderr",
     "output_type": "stream",
     "text": [
      "2023-07-15 21:54:46,773 INFO Request is failed\n",
      "2023-07-15 21:54:46,774 ERROR Message: an internal error occurred processing your request\n",
      "2023-07-15 21:54:46,774 ERROR Reason:  No matching data for request {'experiment': 'ssp534-over', 'model': 'BCC-CSM2-MR', 'temporal_resolution': 'mon', 'variable': 'rsds'}\n",
      "2023-07-15 21:54:46,775 ERROR   Traceback (most recent call last):\n",
      "2023-07-15 21:54:46,775 ERROR     File \"/opt/cdstoolbox/cdscompute/cdscompute/cdshandlers/services/handler.py\", line 59, in handle_request\n",
      "2023-07-15 21:54:46,776 ERROR       result = cached(context.method, proc, context, context.args, context.kwargs)\n",
      "2023-07-15 21:54:46,776 ERROR     File \"/opt/cdstoolbox/cdscompute/cdscompute/caching.py\", line 108, in cached\n",
      "2023-07-15 21:54:46,777 ERROR       result = proc(context, *context.args, **context.kwargs)\n",
      "2023-07-15 21:54:46,777 ERROR     File \"/opt/cdstoolbox/cdscompute/cdscompute/services.py\", line 124, in __call__\n",
      "2023-07-15 21:54:46,778 ERROR       return p(*args, **kwargs)\n",
      "2023-07-15 21:54:46,778 ERROR     File \"/opt/cdstoolbox/cdscompute/cdscompute/services.py\", line 60, in __call__\n",
      "2023-07-15 21:54:46,779 ERROR       return self.proc(context, *args, **kwargs)\n",
      "2023-07-15 21:54:46,780 ERROR     File \"/home/cds/cdsservices/services/esgf_wps/__init__.py\", line 30, in execute\n",
      "2023-07-15 21:54:46,780 ERROR       request_facets, request = facets.search(context, request)\n",
      "2023-07-15 21:54:46,780 ERROR     File \"/home/cds/cdsservices/services/esgf_wps/facets.py\", line 61, in search\n",
      "2023-07-15 21:54:46,781 ERROR       raise ValueError(f'No matching data for request {tmp_request}')\n",
      "2023-07-15 21:54:46,782 ERROR   ValueError: No matching data for request {'experiment': 'ssp534-over', 'model': 'BCC-CSM2-MR', 'temporal_resolution': 'mon', 'variable': 'rsds'}\n",
      "2023-07-15 21:54:46,821 INFO Welcome to the CDS\n",
      "2023-07-15 21:54:46,822 INFO Sending request to https://cds.climate.copernicus.eu/api/v2/resources/projections-cmip6\n",
      "2023-07-15 21:54:46,866 INFO Request is queued\n"
     ]
    },
    {
     "name": "stdout",
     "output_type": "stream",
     "text": [
      "Some parameters are not matching\n",
      "Test with scenario ssp5_3_4os and model cams_csm1_0\n",
      "path_for_file does not exist: the data may not have been downloaded\n",
      "file_download does not exist: the data were not downloaded\n"
     ]
    },
    {
     "name": "stderr",
     "output_type": "stream",
     "text": [
      "2023-07-15 21:54:47,921 INFO Request is failed\n",
      "2023-07-15 21:54:47,922 ERROR Message: an internal error occurred processing your request\n",
      "2023-07-15 21:54:47,923 ERROR Reason:  No matching data for request {'experiment': 'ssp534-over', 'model': 'CAMS-CSM1-0', 'temporal_resolution': 'mon', 'variable': 'rsds'}\n",
      "2023-07-15 21:54:47,923 ERROR   Traceback (most recent call last):\n",
      "2023-07-15 21:54:47,924 ERROR     File \"/opt/cdstoolbox/cdscompute/cdscompute/cdshandlers/services/handler.py\", line 59, in handle_request\n",
      "2023-07-15 21:54:47,924 ERROR       result = cached(context.method, proc, context, context.args, context.kwargs)\n",
      "2023-07-15 21:54:47,926 ERROR     File \"/opt/cdstoolbox/cdscompute/cdscompute/caching.py\", line 108, in cached\n",
      "2023-07-15 21:54:47,927 ERROR       result = proc(context, *context.args, **context.kwargs)\n",
      "2023-07-15 21:54:47,927 ERROR     File \"/opt/cdstoolbox/cdscompute/cdscompute/services.py\", line 124, in __call__\n",
      "2023-07-15 21:54:47,927 ERROR       return p(*args, **kwargs)\n",
      "2023-07-15 21:54:47,928 ERROR     File \"/opt/cdstoolbox/cdscompute/cdscompute/services.py\", line 60, in __call__\n",
      "2023-07-15 21:54:47,928 ERROR       return self.proc(context, *args, **kwargs)\n",
      "2023-07-15 21:54:47,929 ERROR     File \"/home/cds/cdsservices/services/esgf_wps/__init__.py\", line 30, in execute\n",
      "2023-07-15 21:54:47,930 ERROR       request_facets, request = facets.search(context, request)\n",
      "2023-07-15 21:54:47,930 ERROR     File \"/home/cds/cdsservices/services/esgf_wps/facets.py\", line 61, in search\n",
      "2023-07-15 21:54:47,930 ERROR       raise ValueError(f'No matching data for request {tmp_request}')\n",
      "2023-07-15 21:54:47,930 ERROR   ValueError: No matching data for request {'experiment': 'ssp534-over', 'model': 'CAMS-CSM1-0', 'temporal_resolution': 'mon', 'variable': 'rsds'}\n",
      "2023-07-15 21:54:47,978 INFO Welcome to the CDS\n",
      "2023-07-15 21:54:47,979 INFO Sending request to https://cds.climate.copernicus.eu/api/v2/resources/projections-cmip6\n",
      "2023-07-15 21:54:48,046 INFO Request is queued\n"
     ]
    },
    {
     "name": "stdout",
     "output_type": "stream",
     "text": [
      "Some parameters are not matching\n",
      "Test with scenario ssp5_3_4os and model canesm5_canoe\n",
      "path_for_file does not exist: the data may not have been downloaded\n",
      "file_download does not exist: the data were not downloaded\n"
     ]
    },
    {
     "name": "stderr",
     "output_type": "stream",
     "text": [
      "2023-07-15 21:54:49,109 INFO Request is failed\n",
      "2023-07-15 21:54:49,110 ERROR Message: an internal error occurred processing your request\n",
      "2023-07-15 21:54:49,111 ERROR Reason:  No matching data for request {'experiment': 'ssp534-over', 'model': 'CanESM5-CanOE', 'temporal_resolution': 'mon', 'variable': 'rsds'}\n",
      "2023-07-15 21:54:49,112 ERROR   Traceback (most recent call last):\n",
      "2023-07-15 21:54:49,113 ERROR     File \"/opt/cdstoolbox/cdscompute/cdscompute/cdshandlers/services/handler.py\", line 59, in handle_request\n",
      "2023-07-15 21:54:49,114 ERROR       result = cached(context.method, proc, context, context.args, context.kwargs)\n",
      "2023-07-15 21:54:49,114 ERROR     File \"/opt/cdstoolbox/cdscompute/cdscompute/caching.py\", line 108, in cached\n",
      "2023-07-15 21:54:49,114 ERROR       result = proc(context, *context.args, **context.kwargs)\n",
      "2023-07-15 21:54:49,116 ERROR     File \"/opt/cdstoolbox/cdscompute/cdscompute/services.py\", line 124, in __call__\n",
      "2023-07-15 21:54:49,116 ERROR       return p(*args, **kwargs)\n",
      "2023-07-15 21:54:49,117 ERROR     File \"/opt/cdstoolbox/cdscompute/cdscompute/services.py\", line 60, in __call__\n",
      "2023-07-15 21:54:49,117 ERROR       return self.proc(context, *args, **kwargs)\n",
      "2023-07-15 21:54:49,118 ERROR     File \"/home/cds/cdsservices/services/esgf_wps/__init__.py\", line 30, in execute\n",
      "2023-07-15 21:54:49,119 ERROR       request_facets, request = facets.search(context, request)\n",
      "2023-07-15 21:54:49,120 ERROR     File \"/home/cds/cdsservices/services/esgf_wps/facets.py\", line 61, in search\n",
      "2023-07-15 21:54:49,121 ERROR       raise ValueError(f'No matching data for request {tmp_request}')\n",
      "2023-07-15 21:54:49,121 ERROR   ValueError: No matching data for request {'experiment': 'ssp534-over', 'model': 'CanESM5-CanOE', 'temporal_resolution': 'mon', 'variable': 'rsds'}\n",
      "2023-07-15 21:54:49,161 INFO Welcome to the CDS\n",
      "2023-07-15 21:54:49,162 INFO Sending request to https://cds.climate.copernicus.eu/api/v2/resources/projections-cmip6\n",
      "2023-07-15 21:54:49,297 INFO Request is queued\n"
     ]
    },
    {
     "name": "stdout",
     "output_type": "stream",
     "text": [
      "Some parameters are not matching\n",
      "Test with scenario ssp5_3_4os and model cesm2_fv2\n",
      "path_for_file does not exist: the data may not have been downloaded\n",
      "file_download does not exist: the data were not downloaded\n"
     ]
    },
    {
     "name": "stderr",
     "output_type": "stream",
     "text": [
      "2023-07-15 21:54:50,338 INFO Request is failed\n",
      "2023-07-15 21:54:50,339 ERROR Message: an internal error occurred processing your request\n",
      "2023-07-15 21:54:50,340 ERROR Reason:  No matching data for request {'experiment': 'ssp534-over', 'model': 'CESM2-FV2', 'temporal_resolution': 'mon', 'variable': 'rsds'}\n",
      "2023-07-15 21:54:50,340 ERROR   Traceback (most recent call last):\n",
      "2023-07-15 21:54:50,341 ERROR     File \"/opt/cdstoolbox/cdscompute/cdscompute/cdshandlers/services/handler.py\", line 59, in handle_request\n",
      "2023-07-15 21:54:50,343 ERROR       result = cached(context.method, proc, context, context.args, context.kwargs)\n",
      "2023-07-15 21:54:50,343 ERROR     File \"/opt/cdstoolbox/cdscompute/cdscompute/caching.py\", line 108, in cached\n",
      "2023-07-15 21:54:50,344 ERROR       result = proc(context, *context.args, **context.kwargs)\n",
      "2023-07-15 21:54:50,344 ERROR     File \"/opt/cdstoolbox/cdscompute/cdscompute/services.py\", line 124, in __call__\n",
      "2023-07-15 21:54:50,345 ERROR       return p(*args, **kwargs)\n",
      "2023-07-15 21:54:50,346 ERROR     File \"/opt/cdstoolbox/cdscompute/cdscompute/services.py\", line 60, in __call__\n",
      "2023-07-15 21:54:50,346 ERROR       return self.proc(context, *args, **kwargs)\n",
      "2023-07-15 21:54:50,347 ERROR     File \"/home/cds/cdsservices/services/esgf_wps/__init__.py\", line 30, in execute\n",
      "2023-07-15 21:54:50,348 ERROR       request_facets, request = facets.search(context, request)\n",
      "2023-07-15 21:54:50,348 ERROR     File \"/home/cds/cdsservices/services/esgf_wps/facets.py\", line 61, in search\n",
      "2023-07-15 21:54:50,348 ERROR       raise ValueError(f'No matching data for request {tmp_request}')\n",
      "2023-07-15 21:54:50,350 ERROR   ValueError: No matching data for request {'experiment': 'ssp534-over', 'model': 'CESM2-FV2', 'temporal_resolution': 'mon', 'variable': 'rsds'}\n",
      "2023-07-15 21:54:50,395 INFO Welcome to the CDS\n",
      "2023-07-15 21:54:50,396 INFO Sending request to https://cds.climate.copernicus.eu/api/v2/resources/projections-cmip6\n",
      "2023-07-15 21:54:50,499 INFO Request is queued\n"
     ]
    },
    {
     "name": "stdout",
     "output_type": "stream",
     "text": [
      "Some parameters are not matching\n",
      "Test with scenario ssp5_3_4os and model cesm2_waccm_fv2\n",
      "path_for_file does not exist: the data may not have been downloaded\n",
      "file_download does not exist: the data were not downloaded\n"
     ]
    },
    {
     "name": "stderr",
     "output_type": "stream",
     "text": [
      "2023-07-15 21:54:51,544 INFO Request is failed\n",
      "2023-07-15 21:54:51,545 ERROR Message: an internal error occurred processing your request\n",
      "2023-07-15 21:54:51,546 ERROR Reason:  No matching data for request {'experiment': 'ssp534-over', 'model': 'CESM2-WACCM-FV2', 'temporal_resolution': 'mon', 'variable': 'rsds'}\n",
      "2023-07-15 21:54:51,546 ERROR   Traceback (most recent call last):\n",
      "2023-07-15 21:54:51,547 ERROR     File \"/opt/cdstoolbox/cdscompute/cdscompute/cdshandlers/services/handler.py\", line 59, in handle_request\n",
      "2023-07-15 21:54:51,548 ERROR       result = cached(context.method, proc, context, context.args, context.kwargs)\n",
      "2023-07-15 21:54:51,548 ERROR     File \"/opt/cdstoolbox/cdscompute/cdscompute/caching.py\", line 108, in cached\n",
      "2023-07-15 21:54:51,549 ERROR       result = proc(context, *context.args, **context.kwargs)\n",
      "2023-07-15 21:54:51,549 ERROR     File \"/opt/cdstoolbox/cdscompute/cdscompute/services.py\", line 124, in __call__\n",
      "2023-07-15 21:54:51,550 ERROR       return p(*args, **kwargs)\n",
      "2023-07-15 21:54:51,550 ERROR     File \"/opt/cdstoolbox/cdscompute/cdscompute/services.py\", line 60, in __call__\n",
      "2023-07-15 21:54:51,550 ERROR       return self.proc(context, *args, **kwargs)\n",
      "2023-07-15 21:54:51,550 ERROR     File \"/home/cds/cdsservices/services/esgf_wps/__init__.py\", line 30, in execute\n",
      "2023-07-15 21:54:51,551 ERROR       request_facets, request = facets.search(context, request)\n",
      "2023-07-15 21:54:51,551 ERROR     File \"/home/cds/cdsservices/services/esgf_wps/facets.py\", line 61, in search\n",
      "2023-07-15 21:54:51,552 ERROR       raise ValueError(f'No matching data for request {tmp_request}')\n",
      "2023-07-15 21:54:51,552 ERROR   ValueError: No matching data for request {'experiment': 'ssp534-over', 'model': 'CESM2-WACCM-FV2', 'temporal_resolution': 'mon', 'variable': 'rsds'}\n",
      "2023-07-15 21:54:51,591 INFO Welcome to the CDS\n",
      "2023-07-15 21:54:51,591 INFO Sending request to https://cds.climate.copernicus.eu/api/v2/resources/projections-cmip6\n",
      "2023-07-15 21:54:51,654 INFO Request is queued\n"
     ]
    },
    {
     "name": "stdout",
     "output_type": "stream",
     "text": [
      "Some parameters are not matching\n",
      "Test with scenario ssp5_3_4os and model cmcc_cm2_hr4\n",
      "path_for_file does not exist: the data may not have been downloaded\n",
      "file_download does not exist: the data were not downloaded\n"
     ]
    },
    {
     "name": "stderr",
     "output_type": "stream",
     "text": [
      "2023-07-15 21:54:52,703 INFO Request is failed\n",
      "2023-07-15 21:54:52,704 ERROR Message: an internal error occurred processing your request\n",
      "2023-07-15 21:54:52,705 ERROR Reason:  No matching data for request {'experiment': 'ssp534-over', 'model': 'CMCC-CM2-HR4', 'temporal_resolution': 'mon', 'variable': 'rsds'}\n",
      "2023-07-15 21:54:52,705 ERROR   Traceback (most recent call last):\n",
      "2023-07-15 21:54:52,706 ERROR     File \"/opt/cdstoolbox/cdscompute/cdscompute/cdshandlers/services/handler.py\", line 59, in handle_request\n",
      "2023-07-15 21:54:52,707 ERROR       result = cached(context.method, proc, context, context.args, context.kwargs)\n",
      "2023-07-15 21:54:52,707 ERROR     File \"/opt/cdstoolbox/cdscompute/cdscompute/caching.py\", line 108, in cached\n",
      "2023-07-15 21:54:52,708 ERROR       result = proc(context, *context.args, **context.kwargs)\n",
      "2023-07-15 21:54:52,708 ERROR     File \"/opt/cdstoolbox/cdscompute/cdscompute/services.py\", line 124, in __call__\n",
      "2023-07-15 21:54:52,709 ERROR       return p(*args, **kwargs)\n",
      "2023-07-15 21:54:52,710 ERROR     File \"/opt/cdstoolbox/cdscompute/cdscompute/services.py\", line 60, in __call__\n",
      "2023-07-15 21:54:52,711 ERROR       return self.proc(context, *args, **kwargs)\n",
      "2023-07-15 21:54:52,711 ERROR     File \"/home/cds/cdsservices/services/esgf_wps/__init__.py\", line 30, in execute\n",
      "2023-07-15 21:54:52,712 ERROR       request_facets, request = facets.search(context, request)\n",
      "2023-07-15 21:54:52,713 ERROR     File \"/home/cds/cdsservices/services/esgf_wps/facets.py\", line 61, in search\n",
      "2023-07-15 21:54:52,714 ERROR       raise ValueError(f'No matching data for request {tmp_request}')\n",
      "2023-07-15 21:54:52,714 ERROR   ValueError: No matching data for request {'experiment': 'ssp534-over', 'model': 'CMCC-CM2-HR4', 'temporal_resolution': 'mon', 'variable': 'rsds'}\n",
      "2023-07-15 21:54:52,756 INFO Welcome to the CDS\n",
      "2023-07-15 21:54:52,756 INFO Sending request to https://cds.climate.copernicus.eu/api/v2/resources/projections-cmip6\n",
      "2023-07-15 21:54:52,838 INFO Request is queued\n"
     ]
    },
    {
     "name": "stdout",
     "output_type": "stream",
     "text": [
      "Some parameters are not matching\n",
      "Test with scenario ssp5_3_4os and model cmcc_esm2\n",
      "path_for_file does not exist: the data may not have been downloaded\n",
      "file_download does not exist: the data were not downloaded\n"
     ]
    },
    {
     "name": "stderr",
     "output_type": "stream",
     "text": [
      "2023-07-15 21:54:53,881 INFO Request is failed\n",
      "2023-07-15 21:54:53,881 ERROR Message: an internal error occurred processing your request\n",
      "2023-07-15 21:54:53,882 ERROR Reason:  No matching data for request {'experiment': 'ssp534-over', 'model': 'CMCC-ESM2', 'temporal_resolution': 'mon', 'variable': 'rsds'}\n",
      "2023-07-15 21:54:53,883 ERROR   Traceback (most recent call last):\n",
      "2023-07-15 21:54:53,883 ERROR     File \"/opt/cdstoolbox/cdscompute/cdscompute/cdshandlers/services/handler.py\", line 59, in handle_request\n",
      "2023-07-15 21:54:53,884 ERROR       result = cached(context.method, proc, context, context.args, context.kwargs)\n",
      "2023-07-15 21:54:53,886 ERROR     File \"/opt/cdstoolbox/cdscompute/cdscompute/caching.py\", line 108, in cached\n",
      "2023-07-15 21:54:53,887 ERROR       result = proc(context, *context.args, **context.kwargs)\n",
      "2023-07-15 21:54:53,887 ERROR     File \"/opt/cdstoolbox/cdscompute/cdscompute/services.py\", line 124, in __call__\n",
      "2023-07-15 21:54:53,888 ERROR       return p(*args, **kwargs)\n",
      "2023-07-15 21:54:53,889 ERROR     File \"/opt/cdstoolbox/cdscompute/cdscompute/services.py\", line 60, in __call__\n",
      "2023-07-15 21:54:53,890 ERROR       return self.proc(context, *args, **kwargs)\n",
      "2023-07-15 21:54:53,890 ERROR     File \"/home/cds/cdsservices/services/esgf_wps/__init__.py\", line 30, in execute\n",
      "2023-07-15 21:54:53,891 ERROR       request_facets, request = facets.search(context, request)\n",
      "2023-07-15 21:54:53,891 ERROR     File \"/home/cds/cdsservices/services/esgf_wps/facets.py\", line 61, in search\n",
      "2023-07-15 21:54:53,892 ERROR       raise ValueError(f'No matching data for request {tmp_request}')\n",
      "2023-07-15 21:54:53,893 ERROR   ValueError: No matching data for request {'experiment': 'ssp534-over', 'model': 'CMCC-ESM2', 'temporal_resolution': 'mon', 'variable': 'rsds'}\n",
      "2023-07-15 21:54:53,929 INFO Welcome to the CDS\n",
      "2023-07-15 21:54:53,930 INFO Sending request to https://cds.climate.copernicus.eu/api/v2/resources/projections-cmip6\n",
      "2023-07-15 21:54:54,060 INFO Request is queued\n"
     ]
    },
    {
     "name": "stdout",
     "output_type": "stream",
     "text": [
      "Some parameters are not matching\n",
      "Test with scenario ssp5_3_4os and model cnrm_cm6_1_hr\n",
      "path_for_file does not exist: the data may not have been downloaded\n",
      "file_download does not exist: the data were not downloaded\n"
     ]
    },
    {
     "name": "stderr",
     "output_type": "stream",
     "text": [
      "2023-07-15 21:54:55,109 INFO Request is failed\n",
      "2023-07-15 21:54:55,110 ERROR Message: an internal error occurred processing your request\n",
      "2023-07-15 21:54:55,110 ERROR Reason:  No matching data for request {'experiment': 'ssp534-over', 'model': 'CNRM-CM6-1-HR', 'temporal_resolution': 'mon', 'variable': 'rsds'}\n",
      "2023-07-15 21:54:55,112 ERROR   Traceback (most recent call last):\n",
      "2023-07-15 21:54:55,112 ERROR     File \"/opt/cdstoolbox/cdscompute/cdscompute/cdshandlers/services/handler.py\", line 59, in handle_request\n",
      "2023-07-15 21:54:55,112 ERROR       result = cached(context.method, proc, context, context.args, context.kwargs)\n",
      "2023-07-15 21:54:55,113 ERROR     File \"/opt/cdstoolbox/cdscompute/cdscompute/caching.py\", line 108, in cached\n",
      "2023-07-15 21:54:55,113 ERROR       result = proc(context, *context.args, **context.kwargs)\n",
      "2023-07-15 21:54:55,114 ERROR     File \"/opt/cdstoolbox/cdscompute/cdscompute/services.py\", line 124, in __call__\n",
      "2023-07-15 21:54:55,114 ERROR       return p(*args, **kwargs)\n",
      "2023-07-15 21:54:55,115 ERROR     File \"/opt/cdstoolbox/cdscompute/cdscompute/services.py\", line 60, in __call__\n",
      "2023-07-15 21:54:55,116 ERROR       return self.proc(context, *args, **kwargs)\n",
      "2023-07-15 21:54:55,116 ERROR     File \"/home/cds/cdsservices/services/esgf_wps/__init__.py\", line 30, in execute\n",
      "2023-07-15 21:54:55,117 ERROR       request_facets, request = facets.search(context, request)\n",
      "2023-07-15 21:54:55,117 ERROR     File \"/home/cds/cdsservices/services/esgf_wps/facets.py\", line 61, in search\n",
      "2023-07-15 21:54:55,117 ERROR       raise ValueError(f'No matching data for request {tmp_request}')\n",
      "2023-07-15 21:54:55,118 ERROR   ValueError: No matching data for request {'experiment': 'ssp534-over', 'model': 'CNRM-CM6-1-HR', 'temporal_resolution': 'mon', 'variable': 'rsds'}\n",
      "2023-07-15 21:54:55,156 INFO Welcome to the CDS\n",
      "2023-07-15 21:54:55,157 INFO Sending request to https://cds.climate.copernicus.eu/api/v2/resources/projections-cmip6\n",
      "2023-07-15 21:54:55,209 INFO Request is queued\n"
     ]
    },
    {
     "name": "stdout",
     "output_type": "stream",
     "text": [
      "Some parameters are not matching\n",
      "Test with scenario ssp5_3_4os and model e3sm_1_0\n",
      "path_for_file does not exist: the data may not have been downloaded\n",
      "file_download does not exist: the data were not downloaded\n"
     ]
    },
    {
     "name": "stderr",
     "output_type": "stream",
     "text": [
      "2023-07-15 21:54:56,251 INFO Request is failed\n",
      "2023-07-15 21:54:56,251 ERROR Message: an internal error occurred processing your request\n",
      "2023-07-15 21:54:56,252 ERROR Reason:  No matching data for request {'experiment': 'ssp534-over', 'model': 'E3SM-1-0', 'temporal_resolution': 'mon', 'variable': 'rsds'}\n",
      "2023-07-15 21:54:56,252 ERROR   Traceback (most recent call last):\n",
      "2023-07-15 21:54:56,253 ERROR     File \"/opt/cdstoolbox/cdscompute/cdscompute/cdshandlers/services/handler.py\", line 59, in handle_request\n",
      "2023-07-15 21:54:56,253 ERROR       result = cached(context.method, proc, context, context.args, context.kwargs)\n",
      "2023-07-15 21:54:56,254 ERROR     File \"/opt/cdstoolbox/cdscompute/cdscompute/caching.py\", line 108, in cached\n",
      "2023-07-15 21:54:56,254 ERROR       result = proc(context, *context.args, **context.kwargs)\n",
      "2023-07-15 21:54:56,255 ERROR     File \"/opt/cdstoolbox/cdscompute/cdscompute/services.py\", line 124, in __call__\n",
      "2023-07-15 21:54:56,256 ERROR       return p(*args, **kwargs)\n",
      "2023-07-15 21:54:56,256 ERROR     File \"/opt/cdstoolbox/cdscompute/cdscompute/services.py\", line 60, in __call__\n",
      "2023-07-15 21:54:56,256 ERROR       return self.proc(context, *args, **kwargs)\n",
      "2023-07-15 21:54:56,257 ERROR     File \"/home/cds/cdsservices/services/esgf_wps/__init__.py\", line 30, in execute\n",
      "2023-07-15 21:54:56,258 ERROR       request_facets, request = facets.search(context, request)\n",
      "2023-07-15 21:54:56,258 ERROR     File \"/home/cds/cdsservices/services/esgf_wps/facets.py\", line 61, in search\n",
      "2023-07-15 21:54:56,258 ERROR       raise ValueError(f'No matching data for request {tmp_request}')\n",
      "2023-07-15 21:54:56,258 ERROR   ValueError: No matching data for request {'experiment': 'ssp534-over', 'model': 'E3SM-1-0', 'temporal_resolution': 'mon', 'variable': 'rsds'}\n",
      "2023-07-15 21:54:56,297 INFO Welcome to the CDS\n",
      "2023-07-15 21:54:56,298 INFO Sending request to https://cds.climate.copernicus.eu/api/v2/resources/projections-cmip6\n",
      "2023-07-15 21:54:56,341 INFO Request is queued\n"
     ]
    },
    {
     "name": "stdout",
     "output_type": "stream",
     "text": [
      "Some parameters are not matching\n",
      "Test with scenario ssp5_3_4os and model e3sm_1_1_eca\n",
      "path_for_file does not exist: the data may not have been downloaded\n",
      "file_download does not exist: the data were not downloaded\n"
     ]
    },
    {
     "name": "stderr",
     "output_type": "stream",
     "text": [
      "2023-07-15 21:54:57,387 INFO Request is failed\n",
      "2023-07-15 21:54:57,387 ERROR Message: an internal error occurred processing your request\n",
      "2023-07-15 21:54:57,388 ERROR Reason:  No matching data for request {'experiment': 'ssp534-over', 'model': 'E3SM-1-1-ECA', 'temporal_resolution': 'mon', 'variable': 'rsds'}\n",
      "2023-07-15 21:54:57,388 ERROR   Traceback (most recent call last):\n",
      "2023-07-15 21:54:57,389 ERROR     File \"/opt/cdstoolbox/cdscompute/cdscompute/cdshandlers/services/handler.py\", line 59, in handle_request\n",
      "2023-07-15 21:54:57,389 ERROR       result = cached(context.method, proc, context, context.args, context.kwargs)\n",
      "2023-07-15 21:54:57,390 ERROR     File \"/opt/cdstoolbox/cdscompute/cdscompute/caching.py\", line 108, in cached\n",
      "2023-07-15 21:54:57,390 ERROR       result = proc(context, *context.args, **context.kwargs)\n",
      "2023-07-15 21:54:57,390 ERROR     File \"/opt/cdstoolbox/cdscompute/cdscompute/services.py\", line 124, in __call__\n",
      "2023-07-15 21:54:57,391 ERROR       return p(*args, **kwargs)\n",
      "2023-07-15 21:54:57,391 ERROR     File \"/opt/cdstoolbox/cdscompute/cdscompute/services.py\", line 60, in __call__\n",
      "2023-07-15 21:54:57,392 ERROR       return self.proc(context, *args, **kwargs)\n",
      "2023-07-15 21:54:57,392 ERROR     File \"/home/cds/cdsservices/services/esgf_wps/__init__.py\", line 30, in execute\n",
      "2023-07-15 21:54:57,392 ERROR       request_facets, request = facets.search(context, request)\n",
      "2023-07-15 21:54:57,393 ERROR     File \"/home/cds/cdsservices/services/esgf_wps/facets.py\", line 61, in search\n",
      "2023-07-15 21:54:57,394 ERROR       raise ValueError(f'No matching data for request {tmp_request}')\n",
      "2023-07-15 21:54:57,394 ERROR   ValueError: No matching data for request {'experiment': 'ssp534-over', 'model': 'E3SM-1-1-ECA', 'temporal_resolution': 'mon', 'variable': 'rsds'}\n",
      "2023-07-15 21:54:57,432 INFO Welcome to the CDS\n",
      "2023-07-15 21:54:57,433 INFO Sending request to https://cds.climate.copernicus.eu/api/v2/resources/projections-cmip6\n",
      "2023-07-15 21:54:57,476 INFO Request is queued\n"
     ]
    },
    {
     "name": "stdout",
     "output_type": "stream",
     "text": [
      "Some parameters are not matching\n",
      "Test with scenario ssp5_3_4os and model ec_earth3_aerchem\n",
      "path_for_file does not exist: the data may not have been downloaded\n",
      "file_download does not exist: the data were not downloaded\n"
     ]
    },
    {
     "name": "stderr",
     "output_type": "stream",
     "text": [
      "2023-07-15 21:54:58,522 INFO Request is failed\n",
      "2023-07-15 21:54:58,524 ERROR Message: an internal error occurred processing your request\n",
      "2023-07-15 21:54:58,525 ERROR Reason:  No matching data for request {'experiment': 'ssp534-over', 'model': 'EC-Earth3-AerChem', 'temporal_resolution': 'mon', 'variable': 'rsds'}\n",
      "2023-07-15 21:54:58,525 ERROR   Traceback (most recent call last):\n",
      "2023-07-15 21:54:58,526 ERROR     File \"/opt/cdstoolbox/cdscompute/cdscompute/cdshandlers/services/handler.py\", line 59, in handle_request\n",
      "2023-07-15 21:54:58,526 ERROR       result = cached(context.method, proc, context, context.args, context.kwargs)\n",
      "2023-07-15 21:54:58,527 ERROR     File \"/opt/cdstoolbox/cdscompute/cdscompute/caching.py\", line 108, in cached\n",
      "2023-07-15 21:54:58,528 ERROR       result = proc(context, *context.args, **context.kwargs)\n",
      "2023-07-15 21:54:58,528 ERROR     File \"/opt/cdstoolbox/cdscompute/cdscompute/services.py\", line 124, in __call__\n",
      "2023-07-15 21:54:58,528 ERROR       return p(*args, **kwargs)\n",
      "2023-07-15 21:54:58,529 ERROR     File \"/opt/cdstoolbox/cdscompute/cdscompute/services.py\", line 60, in __call__\n",
      "2023-07-15 21:54:58,529 ERROR       return self.proc(context, *args, **kwargs)\n",
      "2023-07-15 21:54:58,530 ERROR     File \"/home/cds/cdsservices/services/esgf_wps/__init__.py\", line 30, in execute\n",
      "2023-07-15 21:54:58,530 ERROR       request_facets, request = facets.search(context, request)\n",
      "2023-07-15 21:54:58,531 ERROR     File \"/home/cds/cdsservices/services/esgf_wps/facets.py\", line 61, in search\n",
      "2023-07-15 21:54:58,531 ERROR       raise ValueError(f'No matching data for request {tmp_request}')\n",
      "2023-07-15 21:54:58,531 ERROR   ValueError: No matching data for request {'experiment': 'ssp534-over', 'model': 'EC-Earth3-AerChem', 'temporal_resolution': 'mon', 'variable': 'rsds'}\n",
      "2023-07-15 21:54:58,569 INFO Welcome to the CDS\n",
      "2023-07-15 21:54:58,570 INFO Sending request to https://cds.climate.copernicus.eu/api/v2/resources/projections-cmip6\n",
      "2023-07-15 21:54:58,613 INFO Request is queued\n"
     ]
    },
    {
     "name": "stdout",
     "output_type": "stream",
     "text": [
      "Some parameters are not matching\n",
      "Test with scenario ssp5_3_4os and model ec_earth3_veg\n",
      "path_for_file does not exist: the data may not have been downloaded\n",
      "file_download does not exist: the data were not downloaded\n"
     ]
    },
    {
     "name": "stderr",
     "output_type": "stream",
     "text": [
      "2023-07-15 21:54:59,661 INFO Request is failed\n",
      "2023-07-15 21:54:59,662 ERROR Message: an internal error occurred processing your request\n",
      "2023-07-15 21:54:59,663 ERROR Reason:  No matching data for request {'experiment': 'ssp534-over', 'model': 'EC-Earth3-Veg', 'temporal_resolution': 'mon', 'variable': 'rsds'}\n",
      "2023-07-15 21:54:59,663 ERROR   Traceback (most recent call last):\n",
      "2023-07-15 21:54:59,664 ERROR     File \"/opt/cdstoolbox/cdscompute/cdscompute/cdshandlers/services/handler.py\", line 59, in handle_request\n",
      "2023-07-15 21:54:59,664 ERROR       result = cached(context.method, proc, context, context.args, context.kwargs)\n",
      "2023-07-15 21:54:59,664 ERROR     File \"/opt/cdstoolbox/cdscompute/cdscompute/caching.py\", line 108, in cached\n",
      "2023-07-15 21:54:59,665 ERROR       result = proc(context, *context.args, **context.kwargs)\n",
      "2023-07-15 21:54:59,666 ERROR     File \"/opt/cdstoolbox/cdscompute/cdscompute/services.py\", line 124, in __call__\n",
      "2023-07-15 21:54:59,666 ERROR       return p(*args, **kwargs)\n",
      "2023-07-15 21:54:59,666 ERROR     File \"/opt/cdstoolbox/cdscompute/cdscompute/services.py\", line 60, in __call__\n",
      "2023-07-15 21:54:59,667 ERROR       return self.proc(context, *args, **kwargs)\n",
      "2023-07-15 21:54:59,667 ERROR     File \"/home/cds/cdsservices/services/esgf_wps/__init__.py\", line 30, in execute\n",
      "2023-07-15 21:54:59,669 ERROR       request_facets, request = facets.search(context, request)\n",
      "2023-07-15 21:54:59,669 ERROR     File \"/home/cds/cdsservices/services/esgf_wps/facets.py\", line 61, in search\n",
      "2023-07-15 21:54:59,671 ERROR       raise ValueError(f'No matching data for request {tmp_request}')\n",
      "2023-07-15 21:54:59,671 ERROR   ValueError: No matching data for request {'experiment': 'ssp534-over', 'model': 'EC-Earth3-Veg', 'temporal_resolution': 'mon', 'variable': 'rsds'}\n",
      "2023-07-15 21:54:59,716 INFO Welcome to the CDS\n",
      "2023-07-15 21:54:59,718 INFO Sending request to https://cds.climate.copernicus.eu/api/v2/resources/projections-cmip6\n",
      "2023-07-15 21:54:59,763 INFO Request is queued\n"
     ]
    },
    {
     "name": "stdout",
     "output_type": "stream",
     "text": [
      "Some parameters are not matching\n",
      "Test with scenario ssp5_3_4os and model fgoals_f3_l\n",
      "path_for_file does not exist: the data may not have been downloaded\n",
      "file_download does not exist: the data were not downloaded\n"
     ]
    },
    {
     "name": "stderr",
     "output_type": "stream",
     "text": [
      "2023-07-15 21:55:00,807 INFO Request is failed\n",
      "2023-07-15 21:55:00,807 ERROR Message: an internal error occurred processing your request\n",
      "2023-07-15 21:55:00,808 ERROR Reason:  No matching data for request {'experiment': 'ssp534-over', 'model': 'FGOALS-f3-L', 'temporal_resolution': 'mon', 'variable': 'rsds'}\n",
      "2023-07-15 21:55:00,809 ERROR   Traceback (most recent call last):\n",
      "2023-07-15 21:55:00,810 ERROR     File \"/opt/cdstoolbox/cdscompute/cdscompute/cdshandlers/services/handler.py\", line 59, in handle_request\n",
      "2023-07-15 21:55:00,811 ERROR       result = cached(context.method, proc, context, context.args, context.kwargs)\n",
      "2023-07-15 21:55:00,812 ERROR     File \"/opt/cdstoolbox/cdscompute/cdscompute/caching.py\", line 108, in cached\n",
      "2023-07-15 21:55:00,812 ERROR       result = proc(context, *context.args, **context.kwargs)\n",
      "2023-07-15 21:55:00,813 ERROR     File \"/opt/cdstoolbox/cdscompute/cdscompute/services.py\", line 124, in __call__\n",
      "2023-07-15 21:55:00,813 ERROR       return p(*args, **kwargs)\n",
      "2023-07-15 21:55:00,814 ERROR     File \"/opt/cdstoolbox/cdscompute/cdscompute/services.py\", line 60, in __call__\n",
      "2023-07-15 21:55:00,815 ERROR       return self.proc(context, *args, **kwargs)\n",
      "2023-07-15 21:55:00,816 ERROR     File \"/home/cds/cdsservices/services/esgf_wps/__init__.py\", line 30, in execute\n",
      "2023-07-15 21:55:00,816 ERROR       request_facets, request = facets.search(context, request)\n",
      "2023-07-15 21:55:00,817 ERROR     File \"/home/cds/cdsservices/services/esgf_wps/facets.py\", line 61, in search\n",
      "2023-07-15 21:55:00,818 ERROR       raise ValueError(f'No matching data for request {tmp_request}')\n",
      "2023-07-15 21:55:00,818 ERROR   ValueError: No matching data for request {'experiment': 'ssp534-over', 'model': 'FGOALS-f3-L', 'temporal_resolution': 'mon', 'variable': 'rsds'}\n",
      "2023-07-15 21:55:00,873 INFO Welcome to the CDS\n",
      "2023-07-15 21:55:00,873 INFO Sending request to https://cds.climate.copernicus.eu/api/v2/resources/projections-cmip6\n",
      "2023-07-15 21:55:00,929 INFO Request is queued\n"
     ]
    },
    {
     "name": "stdout",
     "output_type": "stream",
     "text": [
      "Some parameters are not matching\n",
      "Test with scenario ssp5_3_4os and model fio_esm_2_0\n",
      "path_for_file does not exist: the data may not have been downloaded\n",
      "file_download does not exist: the data were not downloaded\n"
     ]
    },
    {
     "name": "stderr",
     "output_type": "stream",
     "text": [
      "2023-07-15 21:55:01,977 INFO Request is failed\n",
      "2023-07-15 21:55:01,980 ERROR Message: an internal error occurred processing your request\n",
      "2023-07-15 21:55:01,982 ERROR Reason:  No matching data for request {'experiment': 'ssp534-over', 'model': 'FIO-ESM-2-0', 'temporal_resolution': 'mon', 'variable': 'rsds'}\n",
      "2023-07-15 21:55:01,983 ERROR   Traceback (most recent call last):\n",
      "2023-07-15 21:55:01,983 ERROR     File \"/opt/cdstoolbox/cdscompute/cdscompute/cdshandlers/services/handler.py\", line 59, in handle_request\n",
      "2023-07-15 21:55:01,984 ERROR       result = cached(context.method, proc, context, context.args, context.kwargs)\n",
      "2023-07-15 21:55:01,985 ERROR     File \"/opt/cdstoolbox/cdscompute/cdscompute/caching.py\", line 108, in cached\n",
      "2023-07-15 21:55:01,986 ERROR       result = proc(context, *context.args, **context.kwargs)\n",
      "2023-07-15 21:55:01,986 ERROR     File \"/opt/cdstoolbox/cdscompute/cdscompute/services.py\", line 124, in __call__\n",
      "2023-07-15 21:55:01,987 ERROR       return p(*args, **kwargs)\n",
      "2023-07-15 21:55:01,987 ERROR     File \"/opt/cdstoolbox/cdscompute/cdscompute/services.py\", line 60, in __call__\n",
      "2023-07-15 21:55:01,988 ERROR       return self.proc(context, *args, **kwargs)\n",
      "2023-07-15 21:55:01,988 ERROR     File \"/home/cds/cdsservices/services/esgf_wps/__init__.py\", line 30, in execute\n",
      "2023-07-15 21:55:01,989 ERROR       request_facets, request = facets.search(context, request)\n",
      "2023-07-15 21:55:01,990 ERROR     File \"/home/cds/cdsservices/services/esgf_wps/facets.py\", line 61, in search\n",
      "2023-07-15 21:55:01,990 ERROR       raise ValueError(f'No matching data for request {tmp_request}')\n",
      "2023-07-15 21:55:01,991 ERROR   ValueError: No matching data for request {'experiment': 'ssp534-over', 'model': 'FIO-ESM-2-0', 'temporal_resolution': 'mon', 'variable': 'rsds'}\n",
      "2023-07-15 21:55:02,040 INFO Welcome to the CDS\n",
      "2023-07-15 21:55:02,041 INFO Sending request to https://cds.climate.copernicus.eu/api/v2/resources/projections-cmip6\n",
      "2023-07-15 21:55:02,107 INFO Request is queued\n"
     ]
    },
    {
     "name": "stdout",
     "output_type": "stream",
     "text": [
      "Some parameters are not matching\n",
      "Test with scenario ssp5_3_4os and model giss_e2_1_g\n",
      "path_for_file does not exist: the data may not have been downloaded\n",
      "file_download does not exist: the data were not downloaded\n"
     ]
    },
    {
     "name": "stderr",
     "output_type": "stream",
     "text": [
      "2023-07-15 21:55:03,157 INFO Request is failed\n",
      "2023-07-15 21:55:03,158 ERROR Message: an internal error occurred processing your request\n",
      "2023-07-15 21:55:03,159 ERROR Reason:  No matching data for request {'experiment': 'ssp534-over', 'model': 'GISS-E2-1-G', 'temporal_resolution': 'mon', 'variable': 'rsds'}\n",
      "2023-07-15 21:55:03,160 ERROR   Traceback (most recent call last):\n",
      "2023-07-15 21:55:03,160 ERROR     File \"/opt/cdstoolbox/cdscompute/cdscompute/cdshandlers/services/handler.py\", line 59, in handle_request\n",
      "2023-07-15 21:55:03,161 ERROR       result = cached(context.method, proc, context, context.args, context.kwargs)\n",
      "2023-07-15 21:55:03,163 ERROR     File \"/opt/cdstoolbox/cdscompute/cdscompute/caching.py\", line 108, in cached\n",
      "2023-07-15 21:55:03,164 ERROR       result = proc(context, *context.args, **context.kwargs)\n",
      "2023-07-15 21:55:03,165 ERROR     File \"/opt/cdstoolbox/cdscompute/cdscompute/services.py\", line 124, in __call__\n",
      "2023-07-15 21:55:03,166 ERROR       return p(*args, **kwargs)\n",
      "2023-07-15 21:55:03,166 ERROR     File \"/opt/cdstoolbox/cdscompute/cdscompute/services.py\", line 60, in __call__\n",
      "2023-07-15 21:55:03,168 ERROR       return self.proc(context, *args, **kwargs)\n",
      "2023-07-15 21:55:03,169 ERROR     File \"/home/cds/cdsservices/services/esgf_wps/__init__.py\", line 30, in execute\n",
      "2023-07-15 21:55:03,169 ERROR       request_facets, request = facets.search(context, request)\n",
      "2023-07-15 21:55:03,171 ERROR     File \"/home/cds/cdsservices/services/esgf_wps/facets.py\", line 61, in search\n",
      "2023-07-15 21:55:03,171 ERROR       raise ValueError(f'No matching data for request {tmp_request}')\n",
      "2023-07-15 21:55:03,173 ERROR   ValueError: No matching data for request {'experiment': 'ssp534-over', 'model': 'GISS-E2-1-G', 'temporal_resolution': 'mon', 'variable': 'rsds'}\n"
     ]
    },
    {
     "name": "stdout",
     "output_type": "stream",
     "text": [
      "Some parameters are not matching\n",
      "Test with scenario ssp5_3_4os and model hadgem3_gc31_ll\n",
      "path_for_file does not exist: the data may not have been downloaded\n",
      "file_download does not exist: the data were not downloaded\n"
     ]
    },
    {
     "name": "stderr",
     "output_type": "stream",
     "text": [
      "2023-07-15 21:55:03,408 INFO Welcome to the CDS\n",
      "2023-07-15 21:55:03,409 INFO Sending request to https://cds.climate.copernicus.eu/api/v2/resources/projections-cmip6\n",
      "2023-07-15 21:55:03,477 INFO Request is queued\n",
      "2023-07-15 21:55:04,526 INFO Request is failed\n",
      "2023-07-15 21:55:04,527 ERROR Message: an internal error occurred processing your request\n",
      "2023-07-15 21:55:04,527 ERROR Reason:  No matching data for request {'experiment': 'ssp534-over', 'model': 'HadGEM3-GC31-LL', 'temporal_resolution': 'mon', 'variable': 'rsds'}\n",
      "2023-07-15 21:55:04,527 ERROR   Traceback (most recent call last):\n",
      "2023-07-15 21:55:04,528 ERROR     File \"/opt/cdstoolbox/cdscompute/cdscompute/cdshandlers/services/handler.py\", line 59, in handle_request\n",
      "2023-07-15 21:55:04,528 ERROR       result = cached(context.method, proc, context, context.args, context.kwargs)\n",
      "2023-07-15 21:55:04,529 ERROR     File \"/opt/cdstoolbox/cdscompute/cdscompute/caching.py\", line 108, in cached\n",
      "2023-07-15 21:55:04,530 ERROR       result = proc(context, *context.args, **context.kwargs)\n",
      "2023-07-15 21:55:04,530 ERROR     File \"/opt/cdstoolbox/cdscompute/cdscompute/services.py\", line 124, in __call__\n",
      "2023-07-15 21:55:04,531 ERROR       return p(*args, **kwargs)\n",
      "2023-07-15 21:55:04,531 ERROR     File \"/opt/cdstoolbox/cdscompute/cdscompute/services.py\", line 60, in __call__\n",
      "2023-07-15 21:55:04,533 ERROR       return self.proc(context, *args, **kwargs)\n",
      "2023-07-15 21:55:04,533 ERROR     File \"/home/cds/cdsservices/services/esgf_wps/__init__.py\", line 30, in execute\n",
      "2023-07-15 21:55:04,533 ERROR       request_facets, request = facets.search(context, request)\n",
      "2023-07-15 21:55:04,533 ERROR     File \"/home/cds/cdsservices/services/esgf_wps/facets.py\", line 61, in search\n",
      "2023-07-15 21:55:04,534 ERROR       raise ValueError(f'No matching data for request {tmp_request}')\n",
      "2023-07-15 21:55:04,534 ERROR   ValueError: No matching data for request {'experiment': 'ssp534-over', 'model': 'HadGEM3-GC31-LL', 'temporal_resolution': 'mon', 'variable': 'rsds'}\n",
      "2023-07-15 21:55:04,614 INFO Welcome to the CDS\n",
      "2023-07-15 21:55:04,615 INFO Sending request to https://cds.climate.copernicus.eu/api/v2/resources/projections-cmip6\n"
     ]
    },
    {
     "name": "stdout",
     "output_type": "stream",
     "text": [
      "Some parameters are not matching\n",
      "Test with scenario ssp5_3_4os and model iitm_esm\n",
      "path_for_file does not exist: the data may not have been downloaded\n",
      "file_download does not exist: the data were not downloaded\n"
     ]
    },
    {
     "name": "stderr",
     "output_type": "stream",
     "text": [
      "2023-07-15 21:55:05,098 INFO Request is queued\n",
      "2023-07-15 21:55:06,139 INFO Request is failed\n",
      "2023-07-15 21:55:06,139 ERROR Message: an internal error occurred processing your request\n",
      "2023-07-15 21:55:06,140 ERROR Reason:  No matching data for request {'experiment': 'ssp534-over', 'model': 'IITM-ESM', 'temporal_resolution': 'mon', 'variable': 'rsds'}\n",
      "2023-07-15 21:55:06,141 ERROR   Traceback (most recent call last):\n",
      "2023-07-15 21:55:06,141 ERROR     File \"/opt/cdstoolbox/cdscompute/cdscompute/cdshandlers/services/handler.py\", line 59, in handle_request\n",
      "2023-07-15 21:55:06,142 ERROR       result = cached(context.method, proc, context, context.args, context.kwargs)\n",
      "2023-07-15 21:55:06,143 ERROR     File \"/opt/cdstoolbox/cdscompute/cdscompute/caching.py\", line 108, in cached\n",
      "2023-07-15 21:55:06,143 ERROR       result = proc(context, *context.args, **context.kwargs)\n",
      "2023-07-15 21:55:06,143 ERROR     File \"/opt/cdstoolbox/cdscompute/cdscompute/services.py\", line 124, in __call__\n",
      "2023-07-15 21:55:06,145 ERROR       return p(*args, **kwargs)\n",
      "2023-07-15 21:55:06,146 ERROR     File \"/opt/cdstoolbox/cdscompute/cdscompute/services.py\", line 60, in __call__\n",
      "2023-07-15 21:55:06,147 ERROR       return self.proc(context, *args, **kwargs)\n",
      "2023-07-15 21:55:06,148 ERROR     File \"/home/cds/cdsservices/services/esgf_wps/__init__.py\", line 30, in execute\n",
      "2023-07-15 21:55:06,149 ERROR       request_facets, request = facets.search(context, request)\n",
      "2023-07-15 21:55:06,149 ERROR     File \"/home/cds/cdsservices/services/esgf_wps/facets.py\", line 61, in search\n",
      "2023-07-15 21:55:06,150 ERROR       raise ValueError(f'No matching data for request {tmp_request}')\n",
      "2023-07-15 21:55:06,150 ERROR   ValueError: No matching data for request {'experiment': 'ssp534-over', 'model': 'IITM-ESM', 'temporal_resolution': 'mon', 'variable': 'rsds'}\n",
      "2023-07-15 21:55:06,187 INFO Welcome to the CDS\n",
      "2023-07-15 21:55:06,188 INFO Sending request to https://cds.climate.copernicus.eu/api/v2/resources/projections-cmip6\n",
      "2023-07-15 21:55:06,264 INFO Request is queued\n"
     ]
    },
    {
     "name": "stdout",
     "output_type": "stream",
     "text": [
      "Some parameters are not matching\n",
      "Test with scenario ssp5_3_4os and model inm_cm5_0\n",
      "path_for_file does not exist: the data may not have been downloaded\n",
      "file_download does not exist: the data were not downloaded\n"
     ]
    },
    {
     "name": "stderr",
     "output_type": "stream",
     "text": [
      "2023-07-15 21:55:07,313 INFO Request is failed\n",
      "2023-07-15 21:55:07,314 ERROR Message: an internal error occurred processing your request\n",
      "2023-07-15 21:55:07,314 ERROR Reason:  No matching data for request {'experiment': 'ssp534-over', 'model': 'INM-CM5-0', 'temporal_resolution': 'mon', 'variable': 'rsds'}\n",
      "2023-07-15 21:55:07,315 ERROR   Traceback (most recent call last):\n",
      "2023-07-15 21:55:07,315 ERROR     File \"/opt/cdstoolbox/cdscompute/cdscompute/cdshandlers/services/handler.py\", line 59, in handle_request\n",
      "2023-07-15 21:55:07,316 ERROR       result = cached(context.method, proc, context, context.args, context.kwargs)\n",
      "2023-07-15 21:55:07,318 ERROR     File \"/opt/cdstoolbox/cdscompute/cdscompute/caching.py\", line 108, in cached\n",
      "2023-07-15 21:55:07,319 ERROR       result = proc(context, *context.args, **context.kwargs)\n",
      "2023-07-15 21:55:07,320 ERROR     File \"/opt/cdstoolbox/cdscompute/cdscompute/services.py\", line 124, in __call__\n",
      "2023-07-15 21:55:07,320 ERROR       return p(*args, **kwargs)\n",
      "2023-07-15 21:55:07,322 ERROR     File \"/opt/cdstoolbox/cdscompute/cdscompute/services.py\", line 60, in __call__\n",
      "2023-07-15 21:55:07,322 ERROR       return self.proc(context, *args, **kwargs)\n",
      "2023-07-15 21:55:07,323 ERROR     File \"/home/cds/cdsservices/services/esgf_wps/__init__.py\", line 30, in execute\n",
      "2023-07-15 21:55:07,323 ERROR       request_facets, request = facets.search(context, request)\n",
      "2023-07-15 21:55:07,324 ERROR     File \"/home/cds/cdsservices/services/esgf_wps/facets.py\", line 61, in search\n",
      "2023-07-15 21:55:07,325 ERROR       raise ValueError(f'No matching data for request {tmp_request}')\n",
      "2023-07-15 21:55:07,325 ERROR   ValueError: No matching data for request {'experiment': 'ssp534-over', 'model': 'INM-CM5-0', 'temporal_resolution': 'mon', 'variable': 'rsds'}\n",
      "2023-07-15 21:55:07,362 INFO Welcome to the CDS\n",
      "2023-07-15 21:55:07,363 INFO Sending request to https://cds.climate.copernicus.eu/api/v2/resources/projections-cmip6\n",
      "2023-07-15 21:55:07,422 INFO Request is queued\n"
     ]
    },
    {
     "name": "stdout",
     "output_type": "stream",
     "text": [
      "Some parameters are not matching\n",
      "Test with scenario ssp5_3_4os and model ipsl_cm6a_lr\n",
      "path_for_file does not exist: the data may not have been downloaded\n",
      "file_download does not exist: the data were not downloaded\n"
     ]
    },
    {
     "name": "stderr",
     "output_type": "stream",
     "text": [
      "2023-07-15 21:55:08,467 INFO Request is failed\n",
      "2023-07-15 21:55:08,468 ERROR Message: an internal error occurred processing your request\n",
      "2023-07-15 21:55:08,470 ERROR Reason:  execution failed\n",
      "2023-07-15 21:55:08,470 ERROR   Traceback (most recent call last):\n",
      "2023-07-15 21:55:08,471 ERROR     File \"/usr/local/lib/python3.6/site-packages/birdy/client/base.py\", line 386, in _execute\n",
      "2023-07-15 21:55:08,472 ERROR       lineage=self._lineage,\n",
      "2023-07-15 21:55:08,473 ERROR     File \"/usr/local/lib/python3.6/site-packages/owslib/wps.py\", line 359, in execute\n",
      "2023-07-15 21:55:08,473 ERROR       response = execution.submitRequest(request)\n",
      "2023-07-15 21:55:08,474 ERROR     File \"/usr/local/lib/python3.6/site-packages/owslib/wps.py\", line 912, in submitRequest\n",
      "2023-07-15 21:55:08,474 ERROR       self.url, request, method='Post', headers=self.headers)\n",
      "2023-07-15 21:55:08,475 ERROR     File \"/usr/local/lib/python3.6/site-packages/owslib/wps.py\", line 603, in readFromUrl\n",
      "2023-07-15 21:55:08,475 ERROR       headers=headers, verify=verify, cert=cert)\n",
      "2023-07-15 21:55:08,476 ERROR     File \"/usr/local/lib/python3.6/site-packages/owslib/wps.py\", line 515, in _readFromUrl\n",
      "2023-07-15 21:55:08,476 ERROR       headers=headers, verify=self.auth.verify, cert=self.auth.cert, timeout=timeout)\n",
      "2023-07-15 21:55:08,477 ERROR     File \"/usr/local/lib/python3.6/site-packages/owslib/util.py\", line 209, in openURL\n",
      "2023-07-15 21:55:08,477 ERROR       req.raise_for_status()\n",
      "2023-07-15 21:55:08,478 ERROR     File \"/usr/local/lib/python3.6/site-packages/requests/models.py\", line 960, in raise_for_status\n",
      "2023-07-15 21:55:08,478 ERROR       raise HTTPError(http_error_msg, response=self)\n",
      "2023-07-15 21:55:08,478 ERROR   requests.exceptions.HTTPError: 500 Server Error: INTERNAL SERVER ERROR for url: http://compute.mips.copernicus-climate.eu/wps\n",
      "2023-07-15 21:55:08,515 INFO Welcome to the CDS\n",
      "2023-07-15 21:55:08,515 INFO Sending request to https://cds.climate.copernicus.eu/api/v2/resources/projections-cmip6\n",
      "2023-07-15 21:55:08,569 INFO Request is queued\n"
     ]
    },
    {
     "name": "stdout",
     "output_type": "stream",
     "text": [
      "Some parameters are not matching\n",
      "Test with scenario ssp5_3_4os and model kiost_esm\n",
      "path_for_file does not exist: the data may not have been downloaded\n",
      "file_download does not exist: the data were not downloaded\n"
     ]
    },
    {
     "name": "stderr",
     "output_type": "stream",
     "text": [
      "2023-07-15 21:55:09,624 INFO Request is failed\n",
      "2023-07-15 21:55:09,625 ERROR Message: an internal error occurred processing your request\n",
      "2023-07-15 21:55:09,626 ERROR Reason:  No matching data for request {'experiment': 'ssp534-over', 'model': 'KIOST-ESM', 'temporal_resolution': 'mon', 'variable': 'rsds'}\n",
      "2023-07-15 21:55:09,627 ERROR   Traceback (most recent call last):\n",
      "2023-07-15 21:55:09,627 ERROR     File \"/opt/cdstoolbox/cdscompute/cdscompute/cdshandlers/services/handler.py\", line 59, in handle_request\n",
      "2023-07-15 21:55:09,628 ERROR       result = cached(context.method, proc, context, context.args, context.kwargs)\n",
      "2023-07-15 21:55:09,629 ERROR     File \"/opt/cdstoolbox/cdscompute/cdscompute/caching.py\", line 108, in cached\n",
      "2023-07-15 21:55:09,630 ERROR       result = proc(context, *context.args, **context.kwargs)\n",
      "2023-07-15 21:55:09,631 ERROR     File \"/opt/cdstoolbox/cdscompute/cdscompute/services.py\", line 124, in __call__\n",
      "2023-07-15 21:55:09,631 ERROR       return p(*args, **kwargs)\n",
      "2023-07-15 21:55:09,632 ERROR     File \"/opt/cdstoolbox/cdscompute/cdscompute/services.py\", line 60, in __call__\n",
      "2023-07-15 21:55:09,632 ERROR       return self.proc(context, *args, **kwargs)\n",
      "2023-07-15 21:55:09,632 ERROR     File \"/home/cds/cdsservices/services/esgf_wps/__init__.py\", line 30, in execute\n",
      "2023-07-15 21:55:09,633 ERROR       request_facets, request = facets.search(context, request)\n",
      "2023-07-15 21:55:09,634 ERROR     File \"/home/cds/cdsservices/services/esgf_wps/facets.py\", line 61, in search\n",
      "2023-07-15 21:55:09,634 ERROR       raise ValueError(f'No matching data for request {tmp_request}')\n",
      "2023-07-15 21:55:09,634 ERROR   ValueError: No matching data for request {'experiment': 'ssp534-over', 'model': 'KIOST-ESM', 'temporal_resolution': 'mon', 'variable': 'rsds'}\n",
      "2023-07-15 21:55:09,676 INFO Welcome to the CDS\n",
      "2023-07-15 21:55:09,677 INFO Sending request to https://cds.climate.copernicus.eu/api/v2/resources/projections-cmip6\n",
      "2023-07-15 21:55:09,770 INFO Request is queued\n"
     ]
    },
    {
     "name": "stdout",
     "output_type": "stream",
     "text": [
      "Some parameters are not matching\n",
      "Test with scenario ssp5_3_4os and model miroc6\n",
      "path_for_file does not exist: the data may not have been downloaded\n",
      "file_download does not exist: the data were not downloaded\n"
     ]
    },
    {
     "name": "stderr",
     "output_type": "stream",
     "text": [
      "2023-07-15 21:55:10,821 INFO Request is failed\n",
      "2023-07-15 21:55:10,822 ERROR Message: an internal error occurred processing your request\n",
      "2023-07-15 21:55:10,822 ERROR Reason:  execution failed\n",
      "2023-07-15 21:55:10,823 ERROR   Traceback (most recent call last):\n",
      "2023-07-15 21:55:10,823 ERROR     File \"/usr/local/lib/python3.6/site-packages/birdy/client/base.py\", line 386, in _execute\n",
      "2023-07-15 21:55:10,823 ERROR       lineage=self._lineage,\n",
      "2023-07-15 21:55:10,824 ERROR     File \"/usr/local/lib/python3.6/site-packages/owslib/wps.py\", line 359, in execute\n",
      "2023-07-15 21:55:10,824 ERROR       response = execution.submitRequest(request)\n",
      "2023-07-15 21:55:10,825 ERROR     File \"/usr/local/lib/python3.6/site-packages/owslib/wps.py\", line 912, in submitRequest\n",
      "2023-07-15 21:55:10,826 ERROR       self.url, request, method='Post', headers=self.headers)\n",
      "2023-07-15 21:55:10,826 ERROR     File \"/usr/local/lib/python3.6/site-packages/owslib/wps.py\", line 603, in readFromUrl\n",
      "2023-07-15 21:55:10,827 ERROR       headers=headers, verify=verify, cert=cert)\n",
      "2023-07-15 21:55:10,827 ERROR     File \"/usr/local/lib/python3.6/site-packages/owslib/wps.py\", line 515, in _readFromUrl\n",
      "2023-07-15 21:55:10,828 ERROR       headers=headers, verify=self.auth.verify, cert=self.auth.cert, timeout=timeout)\n",
      "2023-07-15 21:55:10,828 ERROR     File \"/usr/local/lib/python3.6/site-packages/owslib/util.py\", line 209, in openURL\n",
      "2023-07-15 21:55:10,829 ERROR       req.raise_for_status()\n",
      "2023-07-15 21:55:10,829 ERROR     File \"/usr/local/lib/python3.6/site-packages/requests/models.py\", line 960, in raise_for_status\n",
      "2023-07-15 21:55:10,830 ERROR       raise HTTPError(http_error_msg, response=self)\n",
      "2023-07-15 21:55:10,830 ERROR   requests.exceptions.HTTPError: 500 Server Error: INTERNAL SERVER ERROR for url: http://compute.mips.copernicus-climate.eu/wps\n",
      "2023-07-15 21:55:10,865 INFO Welcome to the CDS\n",
      "2023-07-15 21:55:10,866 INFO Sending request to https://cds.climate.copernicus.eu/api/v2/resources/projections-cmip6\n",
      "2023-07-15 21:55:10,970 INFO Request is queued\n"
     ]
    },
    {
     "name": "stdout",
     "output_type": "stream",
     "text": [
      "Some parameters are not matching\n",
      "Test with scenario ssp5_3_4os and model miroc_es2l\n",
      "path_for_file does not exist: the data may not have been downloaded\n",
      "file_download does not exist: the data were not downloaded\n"
     ]
    },
    {
     "name": "stderr",
     "output_type": "stream",
     "text": [
      "2023-07-15 21:55:12,014 INFO Request is failed\n",
      "2023-07-15 21:55:12,015 ERROR Message: an internal error occurred processing your request\n",
      "2023-07-15 21:55:12,016 ERROR Reason:  execution failed\n",
      "2023-07-15 21:55:12,016 ERROR   Traceback (most recent call last):\n",
      "2023-07-15 21:55:12,017 ERROR     File \"/usr/local/lib/python3.6/site-packages/birdy/client/base.py\", line 386, in _execute\n",
      "2023-07-15 21:55:12,018 ERROR       lineage=self._lineage,\n",
      "2023-07-15 21:55:12,018 ERROR     File \"/usr/local/lib/python3.6/site-packages/owslib/wps.py\", line 359, in execute\n",
      "2023-07-15 21:55:12,018 ERROR       response = execution.submitRequest(request)\n",
      "2023-07-15 21:55:12,018 ERROR     File \"/usr/local/lib/python3.6/site-packages/owslib/wps.py\", line 912, in submitRequest\n",
      "2023-07-15 21:55:12,020 ERROR       self.url, request, method='Post', headers=self.headers)\n",
      "2023-07-15 21:55:12,020 ERROR     File \"/usr/local/lib/python3.6/site-packages/owslib/wps.py\", line 603, in readFromUrl\n",
      "2023-07-15 21:55:12,021 ERROR       headers=headers, verify=verify, cert=cert)\n",
      "2023-07-15 21:55:12,023 ERROR     File \"/usr/local/lib/python3.6/site-packages/owslib/wps.py\", line 515, in _readFromUrl\n",
      "2023-07-15 21:55:12,023 ERROR       headers=headers, verify=self.auth.verify, cert=self.auth.cert, timeout=timeout)\n",
      "2023-07-15 21:55:12,024 ERROR     File \"/usr/local/lib/python3.6/site-packages/owslib/util.py\", line 209, in openURL\n",
      "2023-07-15 21:55:12,024 ERROR       req.raise_for_status()\n",
      "2023-07-15 21:55:12,025 ERROR     File \"/usr/local/lib/python3.6/site-packages/requests/models.py\", line 960, in raise_for_status\n",
      "2023-07-15 21:55:12,026 ERROR       raise HTTPError(http_error_msg, response=self)\n",
      "2023-07-15 21:55:12,027 ERROR   requests.exceptions.HTTPError: 500 Server Error: INTERNAL SERVER ERROR for url: http://compute.mips.copernicus-climate.eu/wps\n",
      "2023-07-15 21:55:12,064 INFO Welcome to the CDS\n",
      "2023-07-15 21:55:12,065 INFO Sending request to https://cds.climate.copernicus.eu/api/v2/resources/projections-cmip6\n",
      "2023-07-15 21:55:12,135 INFO Request is queued\n"
     ]
    },
    {
     "name": "stdout",
     "output_type": "stream",
     "text": [
      "Some parameters are not matching\n",
      "Test with scenario ssp5_3_4os and model mpi_esm1_2_hr\n",
      "path_for_file does not exist: the data may not have been downloaded\n",
      "file_download does not exist: the data were not downloaded\n"
     ]
    },
    {
     "name": "stderr",
     "output_type": "stream",
     "text": [
      "2023-07-15 21:55:13,179 INFO Request is failed\n",
      "2023-07-15 21:55:13,180 ERROR Message: an internal error occurred processing your request\n",
      "2023-07-15 21:55:13,181 ERROR Reason:  No matching data for request {'experiment': 'ssp534-over', 'model': 'MPI-ESM1-2-HR', 'temporal_resolution': 'mon', 'variable': 'rsds'}\n",
      "2023-07-15 21:55:13,182 ERROR   Traceback (most recent call last):\n",
      "2023-07-15 21:55:13,182 ERROR     File \"/opt/cdstoolbox/cdscompute/cdscompute/cdshandlers/services/handler.py\", line 59, in handle_request\n",
      "2023-07-15 21:55:13,184 ERROR       result = cached(context.method, proc, context, context.args, context.kwargs)\n",
      "2023-07-15 21:55:13,185 ERROR     File \"/opt/cdstoolbox/cdscompute/cdscompute/caching.py\", line 108, in cached\n",
      "2023-07-15 21:55:13,185 ERROR       result = proc(context, *context.args, **context.kwargs)\n",
      "2023-07-15 21:55:13,186 ERROR     File \"/opt/cdstoolbox/cdscompute/cdscompute/services.py\", line 124, in __call__\n",
      "2023-07-15 21:55:13,187 ERROR       return p(*args, **kwargs)\n",
      "2023-07-15 21:55:13,187 ERROR     File \"/opt/cdstoolbox/cdscompute/cdscompute/services.py\", line 60, in __call__\n",
      "2023-07-15 21:55:13,188 ERROR       return self.proc(context, *args, **kwargs)\n",
      "2023-07-15 21:55:13,188 ERROR     File \"/home/cds/cdsservices/services/esgf_wps/__init__.py\", line 30, in execute\n",
      "2023-07-15 21:55:13,189 ERROR       request_facets, request = facets.search(context, request)\n",
      "2023-07-15 21:55:13,189 ERROR     File \"/home/cds/cdsservices/services/esgf_wps/facets.py\", line 61, in search\n",
      "2023-07-15 21:55:13,190 ERROR       raise ValueError(f'No matching data for request {tmp_request}')\n",
      "2023-07-15 21:55:13,191 ERROR   ValueError: No matching data for request {'experiment': 'ssp534-over', 'model': 'MPI-ESM1-2-HR', 'temporal_resolution': 'mon', 'variable': 'rsds'}\n",
      "2023-07-15 21:55:13,228 INFO Welcome to the CDS\n",
      "2023-07-15 21:55:13,229 INFO Sending request to https://cds.climate.copernicus.eu/api/v2/resources/projections-cmip6\n",
      "2023-07-15 21:55:13,294 INFO Request is queued\n"
     ]
    },
    {
     "name": "stdout",
     "output_type": "stream",
     "text": [
      "Some parameters are not matching\n",
      "Test with scenario ssp5_3_4os and model mri_esm2_0\n",
      "path_for_file does not exist: the data may not have been downloaded\n",
      "file_download does not exist: the data were not downloaded\n"
     ]
    },
    {
     "name": "stderr",
     "output_type": "stream",
     "text": [
      "2023-07-15 21:55:14,339 INFO Request is failed\n",
      "2023-07-15 21:55:14,340 ERROR Message: an internal error occurred processing your request\n",
      "2023-07-15 21:55:14,341 ERROR Reason:  500 Server Error: INTERNAL SERVER ERROR for url: http://compute.mips.copernicus-climate.eu/wps?service=WPS&request=DescribeProcess&version=1.0.0&identifier=all\n",
      "2023-07-15 21:55:14,342 ERROR   Traceback (most recent call last):\n",
      "2023-07-15 21:55:14,343 ERROR     File \"/opt/cdstoolbox/cdscompute/cdscompute/cdshandlers/services/handler.py\", line 59, in handle_request\n",
      "2023-07-15 21:55:14,343 ERROR       result = cached(context.method, proc, context, context.args, context.kwargs)\n",
      "2023-07-15 21:55:14,344 ERROR     File \"/opt/cdstoolbox/cdscompute/cdscompute/caching.py\", line 108, in cached\n",
      "2023-07-15 21:55:14,344 ERROR       result = proc(context, *context.args, **context.kwargs)\n",
      "2023-07-15 21:55:14,345 ERROR     File \"/opt/cdstoolbox/cdscompute/cdscompute/services.py\", line 124, in __call__\n",
      "2023-07-15 21:55:14,346 ERROR       return p(*args, **kwargs)\n",
      "2023-07-15 21:55:14,346 ERROR     File \"/opt/cdstoolbox/cdscompute/cdscompute/services.py\", line 60, in __call__\n",
      "2023-07-15 21:55:14,347 ERROR       return self.proc(context, *args, **kwargs)\n",
      "2023-07-15 21:55:14,347 ERROR     File \"/home/cds/cdsservices/services/esgf_wps/__init__.py\", line 41, in execute\n",
      "2023-07-15 21:55:14,349 ERROR       result = requests.process(context, request_facets, request, **process_kwargs)\n",
      "2023-07-15 21:55:14,349 ERROR     File \"/home/cds/cdsservices/services/esgf_wps/requests.py\", line 55, in process\n",
      "2023-07-15 21:55:14,351 ERROR       response = workflow.orchestrate()\n",
      "2023-07-15 21:55:14,352 ERROR     File \"/usr/local/lib/python3.6/site-packages/rooki/operators.py\", line 40, in orchestrate\n",
      "2023-07-15 21:55:14,352 ERROR       reinit()\n",
      "2023-07-15 21:55:14,353 ERROR     File \"/usr/local/lib/python3.6/site-packages/rooki/operators.py\", line 13, in reinit\n",
      "2023-07-15 21:55:14,353 ERROR       rooki = Rooki()\n",
      "2023-07-15 21:55:14,354 ERROR     File \"/usr/local/lib/python3.6/site-packages/rooki/client.py\", line 49, in __init__\n",
      "2023-07-15 21:55:14,355 ERROR       lineage=lineage,\n",
      "2023-07-15 21:55:14,356 ERROR     File \"/usr/local/lib/python3.6/site-packages/birdy/client/base.py\", line 155, in __init__\n",
      "2023-07-15 21:55:14,356 ERROR       self._processes = self._get_process_description(processes, xml=desc_xml)\n",
      "2023-07-15 21:55:14,357 ERROR     File \"/usr/local/lib/python3.6/site-packages/birdy/client/base.py\", line 201, in _get_process_description\n",
      "2023-07-15 21:55:14,357 ERROR       ps = self._wps.describeprocess(\"all\", xml=xml)\n",
      "2023-07-15 21:55:14,358 ERROR     File \"/usr/local/lib/python3.6/site-packages/owslib/wps.py\", line 303, in describeprocess\n",
      "2023-07-15 21:55:14,359 ERROR       self.url, identifier, headers=self.headers)\n",
      "2023-07-15 21:55:14,360 ERROR     File \"/usr/local/lib/python3.6/site-packages/owslib/wps.py\", line 582, in readFromUrl\n",
      "2023-07-15 21:55:14,360 ERROR       headers=headers, verify=verify, cert=cert)\n",
      "2023-07-15 21:55:14,360 ERROR     File \"/usr/local/lib/python3.6/site-packages/owslib/wps.py\", line 509, in _readFromUrl\n",
      "2023-07-15 21:55:14,361 ERROR       headers=headers, verify=self.auth.verify, cert=self.auth.cert, timeout=self.timeout)\n",
      "2023-07-15 21:55:14,361 ERROR     File \"/usr/local/lib/python3.6/site-packages/owslib/util.py\", line 209, in openURL\n",
      "2023-07-15 21:55:14,363 ERROR       req.raise_for_status()\n",
      "2023-07-15 21:55:14,363 ERROR     File \"/usr/local/lib/python3.6/site-packages/requests/models.py\", line 960, in raise_for_status\n",
      "2023-07-15 21:55:14,364 ERROR       raise HTTPError(http_error_msg, response=self)\n",
      "2023-07-15 21:55:14,365 ERROR   requests.exceptions.HTTPError: 500 Server Error: INTERNAL SERVER ERROR for url: http://compute.mips.copernicus-climate.eu/wps?service=WPS&request=DescribeProcess&version=1.0.0&identifier=all\n",
      "2023-07-15 21:55:14,412 INFO Welcome to the CDS\n",
      "2023-07-15 21:55:14,413 INFO Sending request to https://cds.climate.copernicus.eu/api/v2/resources/projections-cmip6\n",
      "2023-07-15 21:55:14,481 INFO Request is queued\n"
     ]
    },
    {
     "name": "stdout",
     "output_type": "stream",
     "text": [
      "Some parameters are not matching\n",
      "Test with scenario ssp5_3_4os and model norcpm1\n",
      "path_for_file does not exist: the data may not have been downloaded\n",
      "file_download does not exist: the data were not downloaded\n"
     ]
    },
    {
     "name": "stderr",
     "output_type": "stream",
     "text": [
      "2023-07-15 21:55:15,528 INFO Request is failed\n",
      "2023-07-15 21:55:15,529 ERROR Message: an internal error occurred processing your request\n",
      "2023-07-15 21:55:15,529 ERROR Reason:  No matching data for request {'experiment': 'ssp534-over', 'model': 'NorCPM1', 'temporal_resolution': 'mon', 'variable': 'rsds'}\n",
      "2023-07-15 21:55:15,529 ERROR   Traceback (most recent call last):\n",
      "2023-07-15 21:55:15,530 ERROR     File \"/opt/cdstoolbox/cdscompute/cdscompute/cdshandlers/services/handler.py\", line 59, in handle_request\n",
      "2023-07-15 21:55:15,530 ERROR       result = cached(context.method, proc, context, context.args, context.kwargs)\n",
      "2023-07-15 21:55:15,531 ERROR     File \"/opt/cdstoolbox/cdscompute/cdscompute/caching.py\", line 108, in cached\n",
      "2023-07-15 21:55:15,532 ERROR       result = proc(context, *context.args, **context.kwargs)\n",
      "2023-07-15 21:55:15,533 ERROR     File \"/opt/cdstoolbox/cdscompute/cdscompute/services.py\", line 124, in __call__\n",
      "2023-07-15 21:55:15,533 ERROR       return p(*args, **kwargs)\n",
      "2023-07-15 21:55:15,534 ERROR     File \"/opt/cdstoolbox/cdscompute/cdscompute/services.py\", line 60, in __call__\n",
      "2023-07-15 21:55:15,535 ERROR       return self.proc(context, *args, **kwargs)\n",
      "2023-07-15 21:55:15,536 ERROR     File \"/home/cds/cdsservices/services/esgf_wps/__init__.py\", line 30, in execute\n",
      "2023-07-15 21:55:15,537 ERROR       request_facets, request = facets.search(context, request)\n",
      "2023-07-15 21:55:15,538 ERROR     File \"/home/cds/cdsservices/services/esgf_wps/facets.py\", line 61, in search\n",
      "2023-07-15 21:55:15,538 ERROR       raise ValueError(f'No matching data for request {tmp_request}')\n",
      "2023-07-15 21:55:15,539 ERROR   ValueError: No matching data for request {'experiment': 'ssp534-over', 'model': 'NorCPM1', 'temporal_resolution': 'mon', 'variable': 'rsds'}\n",
      "2023-07-15 21:55:15,591 INFO Welcome to the CDS\n",
      "2023-07-15 21:55:15,593 INFO Sending request to https://cds.climate.copernicus.eu/api/v2/resources/projections-cmip6\n",
      "2023-07-15 21:55:15,658 INFO Request is queued\n"
     ]
    },
    {
     "name": "stdout",
     "output_type": "stream",
     "text": [
      "Some parameters are not matching\n",
      "Test with scenario ssp5_3_4os and model noresm2_mm\n",
      "path_for_file does not exist: the data may not have been downloaded\n",
      "file_download does not exist: the data were not downloaded\n"
     ]
    },
    {
     "name": "stderr",
     "output_type": "stream",
     "text": [
      "2023-07-15 21:55:16,710 INFO Request is failed\n",
      "2023-07-15 21:55:16,711 ERROR Message: an internal error occurred processing your request\n",
      "2023-07-15 21:55:16,713 ERROR Reason:  No matching data for request {'experiment': 'ssp534-over', 'model': 'NorESM2-MM', 'temporal_resolution': 'mon', 'variable': 'rsds'}\n",
      "2023-07-15 21:55:16,713 ERROR   Traceback (most recent call last):\n",
      "2023-07-15 21:55:16,714 ERROR     File \"/opt/cdstoolbox/cdscompute/cdscompute/cdshandlers/services/handler.py\", line 59, in handle_request\n",
      "2023-07-15 21:55:16,715 ERROR       result = cached(context.method, proc, context, context.args, context.kwargs)\n",
      "2023-07-15 21:55:16,715 ERROR     File \"/opt/cdstoolbox/cdscompute/cdscompute/caching.py\", line 108, in cached\n",
      "2023-07-15 21:55:16,716 ERROR       result = proc(context, *context.args, **context.kwargs)\n",
      "2023-07-15 21:55:16,716 ERROR     File \"/opt/cdstoolbox/cdscompute/cdscompute/services.py\", line 124, in __call__\n",
      "2023-07-15 21:55:16,717 ERROR       return p(*args, **kwargs)\n",
      "2023-07-15 21:55:16,719 ERROR     File \"/opt/cdstoolbox/cdscompute/cdscompute/services.py\", line 60, in __call__\n",
      "2023-07-15 21:55:16,719 ERROR       return self.proc(context, *args, **kwargs)\n",
      "2023-07-15 21:55:16,720 ERROR     File \"/home/cds/cdsservices/services/esgf_wps/__init__.py\", line 30, in execute\n",
      "2023-07-15 21:55:16,721 ERROR       request_facets, request = facets.search(context, request)\n",
      "2023-07-15 21:55:16,722 ERROR     File \"/home/cds/cdsservices/services/esgf_wps/facets.py\", line 61, in search\n",
      "2023-07-15 21:55:16,723 ERROR       raise ValueError(f'No matching data for request {tmp_request}')\n",
      "2023-07-15 21:55:16,724 ERROR   ValueError: No matching data for request {'experiment': 'ssp534-over', 'model': 'NorESM2-MM', 'temporal_resolution': 'mon', 'variable': 'rsds'}\n",
      "2023-07-15 21:55:16,761 INFO Welcome to the CDS\n",
      "2023-07-15 21:55:16,761 INFO Sending request to https://cds.climate.copernicus.eu/api/v2/resources/projections-cmip6\n",
      "2023-07-15 21:55:16,802 INFO Request is queued\n"
     ]
    },
    {
     "name": "stdout",
     "output_type": "stream",
     "text": [
      "Some parameters are not matching\n",
      "Test with scenario ssp5_3_4os and model taiesm1\n",
      "path_for_file does not exist: the data may not have been downloaded\n",
      "file_download does not exist: the data were not downloaded\n"
     ]
    },
    {
     "name": "stderr",
     "output_type": "stream",
     "text": [
      "2023-07-15 21:55:17,841 INFO Request is failed\n",
      "2023-07-15 21:55:17,842 ERROR Message: an internal error occurred processing your request\n",
      "2023-07-15 21:55:17,843 ERROR Reason:  No matching data for request {'experiment': 'ssp534-over', 'model': 'TaiESM1', 'temporal_resolution': 'mon', 'variable': 'rsds'}\n",
      "2023-07-15 21:55:17,843 ERROR   Traceback (most recent call last):\n",
      "2023-07-15 21:55:17,844 ERROR     File \"/opt/cdstoolbox/cdscompute/cdscompute/cdshandlers/services/handler.py\", line 59, in handle_request\n",
      "2023-07-15 21:55:17,845 ERROR       result = cached(context.method, proc, context, context.args, context.kwargs)\n",
      "2023-07-15 21:55:17,845 ERROR     File \"/opt/cdstoolbox/cdscompute/cdscompute/caching.py\", line 108, in cached\n",
      "2023-07-15 21:55:17,846 ERROR       result = proc(context, *context.args, **context.kwargs)\n",
      "2023-07-15 21:55:17,847 ERROR     File \"/opt/cdstoolbox/cdscompute/cdscompute/services.py\", line 124, in __call__\n",
      "2023-07-15 21:55:17,847 ERROR       return p(*args, **kwargs)\n",
      "2023-07-15 21:55:17,848 ERROR     File \"/opt/cdstoolbox/cdscompute/cdscompute/services.py\", line 60, in __call__\n",
      "2023-07-15 21:55:17,848 ERROR       return self.proc(context, *args, **kwargs)\n",
      "2023-07-15 21:55:17,849 ERROR     File \"/home/cds/cdsservices/services/esgf_wps/__init__.py\", line 30, in execute\n",
      "2023-07-15 21:55:17,850 ERROR       request_facets, request = facets.search(context, request)\n",
      "2023-07-15 21:55:17,850 ERROR     File \"/home/cds/cdsservices/services/esgf_wps/facets.py\", line 61, in search\n",
      "2023-07-15 21:55:17,850 ERROR       raise ValueError(f'No matching data for request {tmp_request}')\n",
      "2023-07-15 21:55:17,851 ERROR   ValueError: No matching data for request {'experiment': 'ssp534-over', 'model': 'TaiESM1', 'temporal_resolution': 'mon', 'variable': 'rsds'}\n",
      "2023-07-15 21:55:17,887 INFO Welcome to the CDS\n",
      "2023-07-15 21:55:17,887 INFO Sending request to https://cds.climate.copernicus.eu/api/v2/resources/projections-cmip6\n",
      "2023-07-15 21:55:17,927 INFO Request is queued\n"
     ]
    },
    {
     "name": "stdout",
     "output_type": "stream",
     "text": [
      "Some parameters are not matching\n",
      "Test with scenario ssp5_3_4os and model access_esm1_5\n",
      "path_for_file does not exist: the data may not have been downloaded\n",
      "file_download does not exist: the data were not downloaded\n"
     ]
    },
    {
     "name": "stderr",
     "output_type": "stream",
     "text": [
      "2023-07-15 21:55:18,961 INFO Request is failed\n",
      "2023-07-15 21:55:18,963 ERROR Message: an internal error occurred processing your request\n",
      "2023-07-15 21:55:18,963 ERROR Reason:  No matching data for request {'experiment': 'ssp534-over', 'model': 'ACCESS-ESM1-5', 'temporal_resolution': 'mon', 'variable': 'rsds'}\n",
      "2023-07-15 21:55:18,963 ERROR   Traceback (most recent call last):\n",
      "2023-07-15 21:55:18,964 ERROR     File \"/opt/cdstoolbox/cdscompute/cdscompute/cdshandlers/services/handler.py\", line 59, in handle_request\n",
      "2023-07-15 21:55:18,965 ERROR       result = cached(context.method, proc, context, context.args, context.kwargs)\n",
      "2023-07-15 21:55:18,965 ERROR     File \"/opt/cdstoolbox/cdscompute/cdscompute/caching.py\", line 108, in cached\n",
      "2023-07-15 21:55:18,965 ERROR       result = proc(context, *context.args, **context.kwargs)\n",
      "2023-07-15 21:55:18,966 ERROR     File \"/opt/cdstoolbox/cdscompute/cdscompute/services.py\", line 124, in __call__\n",
      "2023-07-15 21:55:18,966 ERROR       return p(*args, **kwargs)\n",
      "2023-07-15 21:55:18,967 ERROR     File \"/opt/cdstoolbox/cdscompute/cdscompute/services.py\", line 60, in __call__\n",
      "2023-07-15 21:55:18,967 ERROR       return self.proc(context, *args, **kwargs)\n",
      "2023-07-15 21:55:18,967 ERROR     File \"/home/cds/cdsservices/services/esgf_wps/__init__.py\", line 30, in execute\n",
      "2023-07-15 21:55:18,968 ERROR       request_facets, request = facets.search(context, request)\n",
      "2023-07-15 21:55:18,968 ERROR     File \"/home/cds/cdsservices/services/esgf_wps/facets.py\", line 61, in search\n",
      "2023-07-15 21:55:18,968 ERROR       raise ValueError(f'No matching data for request {tmp_request}')\n",
      "2023-07-15 21:55:18,969 ERROR   ValueError: No matching data for request {'experiment': 'ssp534-over', 'model': 'ACCESS-ESM1-5', 'temporal_resolution': 'mon', 'variable': 'rsds'}\n",
      "2023-07-15 21:55:19,005 INFO Welcome to the CDS\n",
      "2023-07-15 21:55:19,006 INFO Sending request to https://cds.climate.copernicus.eu/api/v2/resources/projections-cmip6\n",
      "2023-07-15 21:55:19,054 INFO Request is queued\n"
     ]
    },
    {
     "name": "stdout",
     "output_type": "stream",
     "text": [
      "Some parameters are not matching\n",
      "Test with scenario ssp5_3_4os and model awi_esm_1_1_lr\n",
      "path_for_file does not exist: the data may not have been downloaded\n",
      "file_download does not exist: the data were not downloaded\n"
     ]
    },
    {
     "name": "stderr",
     "output_type": "stream",
     "text": [
      "2023-07-15 21:55:20,097 INFO Request is failed\n",
      "2023-07-15 21:55:20,098 ERROR Message: an internal error occurred processing your request\n",
      "2023-07-15 21:55:20,099 ERROR Reason:  No matching data for request {'experiment': 'ssp534-over', 'model': 'AWI-ESM-1-1-LR', 'temporal_resolution': 'mon', 'variable': 'rsds'}\n",
      "2023-07-15 21:55:20,100 ERROR   Traceback (most recent call last):\n",
      "2023-07-15 21:55:20,101 ERROR     File \"/opt/cdstoolbox/cdscompute/cdscompute/cdshandlers/services/handler.py\", line 59, in handle_request\n",
      "2023-07-15 21:55:20,101 ERROR       result = cached(context.method, proc, context, context.args, context.kwargs)\n",
      "2023-07-15 21:55:20,102 ERROR     File \"/opt/cdstoolbox/cdscompute/cdscompute/caching.py\", line 108, in cached\n",
      "2023-07-15 21:55:20,102 ERROR       result = proc(context, *context.args, **context.kwargs)\n",
      "2023-07-15 21:55:20,103 ERROR     File \"/opt/cdstoolbox/cdscompute/cdscompute/services.py\", line 124, in __call__\n",
      "2023-07-15 21:55:20,104 ERROR       return p(*args, **kwargs)\n",
      "2023-07-15 21:55:20,105 ERROR     File \"/opt/cdstoolbox/cdscompute/cdscompute/services.py\", line 60, in __call__\n",
      "2023-07-15 21:55:20,105 ERROR       return self.proc(context, *args, **kwargs)\n",
      "2023-07-15 21:55:20,107 ERROR     File \"/home/cds/cdsservices/services/esgf_wps/__init__.py\", line 30, in execute\n",
      "2023-07-15 21:55:20,107 ERROR       request_facets, request = facets.search(context, request)\n",
      "2023-07-15 21:55:20,108 ERROR     File \"/home/cds/cdsservices/services/esgf_wps/facets.py\", line 61, in search\n",
      "2023-07-15 21:55:20,109 ERROR       raise ValueError(f'No matching data for request {tmp_request}')\n",
      "2023-07-15 21:55:20,110 ERROR   ValueError: No matching data for request {'experiment': 'ssp534-over', 'model': 'AWI-ESM-1-1-LR', 'temporal_resolution': 'mon', 'variable': 'rsds'}\n",
      "2023-07-15 21:55:20,148 INFO Welcome to the CDS\n",
      "2023-07-15 21:55:20,150 INFO Sending request to https://cds.climate.copernicus.eu/api/v2/resources/projections-cmip6\n",
      "2023-07-15 21:55:20,228 INFO Request is queued\n"
     ]
    },
    {
     "name": "stdout",
     "output_type": "stream",
     "text": [
      "Some parameters are not matching\n",
      "Test with scenario ssp5_3_4os and model bcc_esm1\n",
      "path_for_file does not exist: the data may not have been downloaded\n",
      "file_download does not exist: the data were not downloaded\n"
     ]
    },
    {
     "name": "stderr",
     "output_type": "stream",
     "text": [
      "2023-07-15 21:55:21,267 INFO Request is failed\n",
      "2023-07-15 21:55:21,268 ERROR Message: an internal error occurred processing your request\n",
      "2023-07-15 21:55:21,269 ERROR Reason:  No matching data for request {'experiment': 'ssp534-over', 'model': 'BCC-ESM1', 'temporal_resolution': 'mon', 'variable': 'rsds'}\n",
      "2023-07-15 21:55:21,271 ERROR   Traceback (most recent call last):\n",
      "2023-07-15 21:55:21,271 ERROR     File \"/opt/cdstoolbox/cdscompute/cdscompute/cdshandlers/services/handler.py\", line 59, in handle_request\n",
      "2023-07-15 21:55:21,272 ERROR       result = cached(context.method, proc, context, context.args, context.kwargs)\n",
      "2023-07-15 21:55:21,272 ERROR     File \"/opt/cdstoolbox/cdscompute/cdscompute/caching.py\", line 108, in cached\n",
      "2023-07-15 21:55:21,274 ERROR       result = proc(context, *context.args, **context.kwargs)\n",
      "2023-07-15 21:55:21,275 ERROR     File \"/opt/cdstoolbox/cdscompute/cdscompute/services.py\", line 124, in __call__\n",
      "2023-07-15 21:55:21,276 ERROR       return p(*args, **kwargs)\n",
      "2023-07-15 21:55:21,276 ERROR     File \"/opt/cdstoolbox/cdscompute/cdscompute/services.py\", line 60, in __call__\n",
      "2023-07-15 21:55:21,278 ERROR       return self.proc(context, *args, **kwargs)\n",
      "2023-07-15 21:55:21,279 ERROR     File \"/home/cds/cdsservices/services/esgf_wps/__init__.py\", line 30, in execute\n",
      "2023-07-15 21:55:21,279 ERROR       request_facets, request = facets.search(context, request)\n",
      "2023-07-15 21:55:21,280 ERROR     File \"/home/cds/cdsservices/services/esgf_wps/facets.py\", line 61, in search\n",
      "2023-07-15 21:55:21,282 ERROR       raise ValueError(f'No matching data for request {tmp_request}')\n",
      "2023-07-15 21:55:21,282 ERROR   ValueError: No matching data for request {'experiment': 'ssp534-over', 'model': 'BCC-ESM1', 'temporal_resolution': 'mon', 'variable': 'rsds'}\n",
      "2023-07-15 21:55:21,318 INFO Welcome to the CDS\n",
      "2023-07-15 21:55:21,319 INFO Sending request to https://cds.climate.copernicus.eu/api/v2/resources/projections-cmip6\n",
      "2023-07-15 21:55:21,359 INFO Request is queued\n"
     ]
    },
    {
     "name": "stdout",
     "output_type": "stream",
     "text": [
      "Some parameters are not matching\n",
      "Test with scenario ssp5_3_4os and model canesm5\n",
      "path_for_file does not exist: the data may not have been downloaded\n",
      "file_download does not exist: the data were not downloaded\n"
     ]
    },
    {
     "name": "stderr",
     "output_type": "stream",
     "text": [
      "2023-07-15 21:55:22,404 INFO Request is failed\n",
      "2023-07-15 21:55:22,405 ERROR Message: an internal error occurred processing your request\n",
      "2023-07-15 21:55:22,405 ERROR Reason:  500 Server Error: INTERNAL SERVER ERROR for url: http://compute.mips.copernicus-climate.eu/wps?service=WPS&request=DescribeProcess&version=1.0.0&identifier=all\n",
      "2023-07-15 21:55:22,406 ERROR   Traceback (most recent call last):\n",
      "2023-07-15 21:55:22,407 ERROR     File \"/opt/cdstoolbox/cdscompute/cdscompute/cdshandlers/services/handler.py\", line 59, in handle_request\n",
      "2023-07-15 21:55:22,407 ERROR       result = cached(context.method, proc, context, context.args, context.kwargs)\n",
      "2023-07-15 21:55:22,408 ERROR     File \"/opt/cdstoolbox/cdscompute/cdscompute/caching.py\", line 108, in cached\n",
      "2023-07-15 21:55:22,409 ERROR       result = proc(context, *context.args, **context.kwargs)\n",
      "2023-07-15 21:55:22,409 ERROR     File \"/opt/cdstoolbox/cdscompute/cdscompute/services.py\", line 124, in __call__\n",
      "2023-07-15 21:55:22,409 ERROR       return p(*args, **kwargs)\n",
      "2023-07-15 21:55:22,410 ERROR     File \"/opt/cdstoolbox/cdscompute/cdscompute/services.py\", line 60, in __call__\n",
      "2023-07-15 21:55:22,412 ERROR       return self.proc(context, *args, **kwargs)\n",
      "2023-07-15 21:55:22,413 ERROR     File \"/home/cds/cdsservices/services/esgf_wps/__init__.py\", line 41, in execute\n",
      "2023-07-15 21:55:22,413 ERROR       result = requests.process(context, request_facets, request, **process_kwargs)\n",
      "2023-07-15 21:55:22,414 ERROR     File \"/home/cds/cdsservices/services/esgf_wps/requests.py\", line 55, in process\n",
      "2023-07-15 21:55:22,414 ERROR       response = workflow.orchestrate()\n",
      "2023-07-15 21:55:22,414 ERROR     File \"/usr/local/lib/python3.6/site-packages/rooki/operators.py\", line 40, in orchestrate\n",
      "2023-07-15 21:55:22,415 ERROR       reinit()\n",
      "2023-07-15 21:55:22,416 ERROR     File \"/usr/local/lib/python3.6/site-packages/rooki/operators.py\", line 13, in reinit\n",
      "2023-07-15 21:55:22,416 ERROR       rooki = Rooki()\n",
      "2023-07-15 21:55:22,417 ERROR     File \"/usr/local/lib/python3.6/site-packages/rooki/client.py\", line 49, in __init__\n",
      "2023-07-15 21:55:22,417 ERROR       lineage=lineage,\n",
      "2023-07-15 21:55:22,418 ERROR     File \"/usr/local/lib/python3.6/site-packages/birdy/client/base.py\", line 155, in __init__\n",
      "2023-07-15 21:55:22,420 ERROR       self._processes = self._get_process_description(processes, xml=desc_xml)\n",
      "2023-07-15 21:55:22,420 ERROR     File \"/usr/local/lib/python3.6/site-packages/birdy/client/base.py\", line 201, in _get_process_description\n",
      "2023-07-15 21:55:22,420 ERROR       ps = self._wps.describeprocess(\"all\", xml=xml)\n",
      "2023-07-15 21:55:22,422 ERROR     File \"/usr/local/lib/python3.6/site-packages/owslib/wps.py\", line 303, in describeprocess\n",
      "2023-07-15 21:55:22,422 ERROR       self.url, identifier, headers=self.headers)\n",
      "2023-07-15 21:55:22,422 ERROR     File \"/usr/local/lib/python3.6/site-packages/owslib/wps.py\", line 582, in readFromUrl\n",
      "2023-07-15 21:55:22,423 ERROR       headers=headers, verify=verify, cert=cert)\n",
      "2023-07-15 21:55:22,423 ERROR     File \"/usr/local/lib/python3.6/site-packages/owslib/wps.py\", line 509, in _readFromUrl\n",
      "2023-07-15 21:55:22,423 ERROR       headers=headers, verify=self.auth.verify, cert=self.auth.cert, timeout=self.timeout)\n",
      "2023-07-15 21:55:22,425 ERROR     File \"/usr/local/lib/python3.6/site-packages/owslib/util.py\", line 209, in openURL\n",
      "2023-07-15 21:55:22,425 ERROR       req.raise_for_status()\n",
      "2023-07-15 21:55:22,427 ERROR     File \"/usr/local/lib/python3.6/site-packages/requests/models.py\", line 960, in raise_for_status\n",
      "2023-07-15 21:55:22,427 ERROR       raise HTTPError(http_error_msg, response=self)\n",
      "2023-07-15 21:55:22,428 ERROR   requests.exceptions.HTTPError: 500 Server Error: INTERNAL SERVER ERROR for url: http://compute.mips.copernicus-climate.eu/wps?service=WPS&request=DescribeProcess&version=1.0.0&identifier=all\n",
      "2023-07-15 21:55:22,485 INFO Welcome to the CDS\n",
      "2023-07-15 21:55:22,486 INFO Sending request to https://cds.climate.copernicus.eu/api/v2/resources/projections-cmip6\n",
      "2023-07-15 21:55:22,583 INFO Request is queued\n"
     ]
    },
    {
     "name": "stdout",
     "output_type": "stream",
     "text": [
      "Some parameters are not matching\n",
      "Test with scenario ssp5_3_4os and model cesm2\n",
      "path_for_file does not exist: the data may not have been downloaded\n",
      "file_download does not exist: the data were not downloaded\n"
     ]
    },
    {
     "name": "stderr",
     "output_type": "stream",
     "text": [
      "2023-07-15 21:55:23,621 INFO Request is failed\n",
      "2023-07-15 21:55:23,622 ERROR Message: an internal error occurred processing your request\n",
      "2023-07-15 21:55:23,623 ERROR Reason:  No matching data for request {'experiment': 'ssp534-over', 'model': 'CESM2', 'temporal_resolution': 'mon', 'variable': 'rsds'}\n",
      "2023-07-15 21:55:23,623 ERROR   Traceback (most recent call last):\n",
      "2023-07-15 21:55:23,624 ERROR     File \"/opt/cdstoolbox/cdscompute/cdscompute/cdshandlers/services/handler.py\", line 59, in handle_request\n",
      "2023-07-15 21:55:23,624 ERROR       result = cached(context.method, proc, context, context.args, context.kwargs)\n",
      "2023-07-15 21:55:23,625 ERROR     File \"/opt/cdstoolbox/cdscompute/cdscompute/caching.py\", line 108, in cached\n",
      "2023-07-15 21:55:23,625 ERROR       result = proc(context, *context.args, **context.kwargs)\n",
      "2023-07-15 21:55:23,626 ERROR     File \"/opt/cdstoolbox/cdscompute/cdscompute/services.py\", line 124, in __call__\n",
      "2023-07-15 21:55:23,626 ERROR       return p(*args, **kwargs)\n",
      "2023-07-15 21:55:23,627 ERROR     File \"/opt/cdstoolbox/cdscompute/cdscompute/services.py\", line 60, in __call__\n",
      "2023-07-15 21:55:23,628 ERROR       return self.proc(context, *args, **kwargs)\n",
      "2023-07-15 21:55:23,629 ERROR     File \"/home/cds/cdsservices/services/esgf_wps/__init__.py\", line 30, in execute\n",
      "2023-07-15 21:55:23,630 ERROR       request_facets, request = facets.search(context, request)\n",
      "2023-07-15 21:55:23,630 ERROR     File \"/home/cds/cdsservices/services/esgf_wps/facets.py\", line 61, in search\n",
      "2023-07-15 21:55:23,631 ERROR       raise ValueError(f'No matching data for request {tmp_request}')\n",
      "2023-07-15 21:55:23,632 ERROR   ValueError: No matching data for request {'experiment': 'ssp534-over', 'model': 'CESM2', 'temporal_resolution': 'mon', 'variable': 'rsds'}\n",
      "2023-07-15 21:55:23,666 INFO Welcome to the CDS\n",
      "2023-07-15 21:55:23,667 INFO Sending request to https://cds.climate.copernicus.eu/api/v2/resources/projections-cmip6\n",
      "2023-07-15 21:55:23,729 INFO Request is queued\n"
     ]
    },
    {
     "name": "stdout",
     "output_type": "stream",
     "text": [
      "Some parameters are not matching\n",
      "Test with scenario ssp5_3_4os and model cesm2_waccm\n",
      "path_for_file does not exist: the data may not have been downloaded\n",
      "file_download does not exist: the data were not downloaded\n"
     ]
    },
    {
     "name": "stderr",
     "output_type": "stream",
     "text": [
      "2023-07-15 21:55:24,773 INFO Request is failed\n",
      "2023-07-15 21:55:24,774 ERROR Message: an internal error occurred processing your request\n",
      "2023-07-15 21:55:24,774 ERROR Reason:  No matching data for request {'experiment': 'ssp534-over', 'model': 'CESM2-WACCM', 'temporal_resolution': 'mon', 'variable': 'rsds'}\n",
      "2023-07-15 21:55:24,775 ERROR   Traceback (most recent call last):\n",
      "2023-07-15 21:55:24,775 ERROR     File \"/opt/cdstoolbox/cdscompute/cdscompute/cdshandlers/services/handler.py\", line 59, in handle_request\n",
      "2023-07-15 21:55:24,775 ERROR       result = cached(context.method, proc, context, context.args, context.kwargs)\n",
      "2023-07-15 21:55:24,776 ERROR     File \"/opt/cdstoolbox/cdscompute/cdscompute/caching.py\", line 108, in cached\n",
      "2023-07-15 21:55:24,776 ERROR       result = proc(context, *context.args, **context.kwargs)\n",
      "2023-07-15 21:55:24,778 ERROR     File \"/opt/cdstoolbox/cdscompute/cdscompute/services.py\", line 124, in __call__\n",
      "2023-07-15 21:55:24,778 ERROR       return p(*args, **kwargs)\n",
      "2023-07-15 21:55:24,779 ERROR     File \"/opt/cdstoolbox/cdscompute/cdscompute/services.py\", line 60, in __call__\n",
      "2023-07-15 21:55:24,780 ERROR       return self.proc(context, *args, **kwargs)\n",
      "2023-07-15 21:55:24,781 ERROR     File \"/home/cds/cdsservices/services/esgf_wps/__init__.py\", line 30, in execute\n",
      "2023-07-15 21:55:24,781 ERROR       request_facets, request = facets.search(context, request)\n",
      "2023-07-15 21:55:24,781 ERROR     File \"/home/cds/cdsservices/services/esgf_wps/facets.py\", line 61, in search\n",
      "2023-07-15 21:55:24,782 ERROR       raise ValueError(f'No matching data for request {tmp_request}')\n",
      "2023-07-15 21:55:24,782 ERROR   ValueError: No matching data for request {'experiment': 'ssp534-over', 'model': 'CESM2-WACCM', 'temporal_resolution': 'mon', 'variable': 'rsds'}\n",
      "2023-07-15 21:55:24,821 INFO Welcome to the CDS\n",
      "2023-07-15 21:55:24,822 INFO Sending request to https://cds.climate.copernicus.eu/api/v2/resources/projections-cmip6\n",
      "2023-07-15 21:55:24,862 INFO Request is queued\n"
     ]
    },
    {
     "name": "stdout",
     "output_type": "stream",
     "text": [
      "Some parameters are not matching\n",
      "Test with scenario ssp5_3_4os and model ciesm\n",
      "path_for_file does not exist: the data may not have been downloaded\n",
      "file_download does not exist: the data were not downloaded\n"
     ]
    },
    {
     "name": "stderr",
     "output_type": "stream",
     "text": [
      "2023-07-15 21:55:25,903 INFO Request is failed\n",
      "2023-07-15 21:55:25,904 ERROR Message: an internal error occurred processing your request\n",
      "2023-07-15 21:55:25,905 ERROR Reason:  No matching data for request {'experiment': 'ssp534-over', 'model': 'CIESM', 'temporal_resolution': 'mon', 'variable': 'rsds'}\n",
      "2023-07-15 21:55:25,906 ERROR   Traceback (most recent call last):\n",
      "2023-07-15 21:55:25,907 ERROR     File \"/opt/cdstoolbox/cdscompute/cdscompute/cdshandlers/services/handler.py\", line 59, in handle_request\n",
      "2023-07-15 21:55:25,907 ERROR       result = cached(context.method, proc, context, context.args, context.kwargs)\n",
      "2023-07-15 21:55:25,908 ERROR     File \"/opt/cdstoolbox/cdscompute/cdscompute/caching.py\", line 108, in cached\n",
      "2023-07-15 21:55:25,908 ERROR       result = proc(context, *context.args, **context.kwargs)\n",
      "2023-07-15 21:55:25,909 ERROR     File \"/opt/cdstoolbox/cdscompute/cdscompute/services.py\", line 124, in __call__\n",
      "2023-07-15 21:55:25,909 ERROR       return p(*args, **kwargs)\n",
      "2023-07-15 21:55:25,910 ERROR     File \"/opt/cdstoolbox/cdscompute/cdscompute/services.py\", line 60, in __call__\n",
      "2023-07-15 21:55:25,911 ERROR       return self.proc(context, *args, **kwargs)\n",
      "2023-07-15 21:55:25,912 ERROR     File \"/home/cds/cdsservices/services/esgf_wps/__init__.py\", line 30, in execute\n",
      "2023-07-15 21:55:25,913 ERROR       request_facets, request = facets.search(context, request)\n",
      "2023-07-15 21:55:25,913 ERROR     File \"/home/cds/cdsservices/services/esgf_wps/facets.py\", line 61, in search\n",
      "2023-07-15 21:55:25,914 ERROR       raise ValueError(f'No matching data for request {tmp_request}')\n",
      "2023-07-15 21:55:25,915 ERROR   ValueError: No matching data for request {'experiment': 'ssp534-over', 'model': 'CIESM', 'temporal_resolution': 'mon', 'variable': 'rsds'}\n",
      "2023-07-15 21:55:25,952 INFO Welcome to the CDS\n",
      "2023-07-15 21:55:25,953 INFO Sending request to https://cds.climate.copernicus.eu/api/v2/resources/projections-cmip6\n",
      "2023-07-15 21:55:26,041 INFO Request is queued\n"
     ]
    },
    {
     "name": "stdout",
     "output_type": "stream",
     "text": [
      "Some parameters are not matching\n",
      "Test with scenario ssp5_3_4os and model cmcc_cm2_sr5\n",
      "path_for_file does not exist: the data may not have been downloaded\n",
      "file_download does not exist: the data were not downloaded\n"
     ]
    },
    {
     "name": "stderr",
     "output_type": "stream",
     "text": [
      "2023-07-15 21:55:27,089 INFO Request is failed\n",
      "2023-07-15 21:55:27,090 ERROR Message: an internal error occurred processing your request\n",
      "2023-07-15 21:55:27,090 ERROR Reason:  No matching data for request {'experiment': 'ssp534-over', 'model': 'CMCC-CM2-SR5', 'temporal_resolution': 'mon', 'variable': 'rsds'}\n",
      "2023-07-15 21:55:27,090 ERROR   Traceback (most recent call last):\n",
      "2023-07-15 21:55:27,091 ERROR     File \"/opt/cdstoolbox/cdscompute/cdscompute/cdshandlers/services/handler.py\", line 59, in handle_request\n",
      "2023-07-15 21:55:27,091 ERROR       result = cached(context.method, proc, context, context.args, context.kwargs)\n",
      "2023-07-15 21:55:27,091 ERROR     File \"/opt/cdstoolbox/cdscompute/cdscompute/caching.py\", line 108, in cached\n",
      "2023-07-15 21:55:27,092 ERROR       result = proc(context, *context.args, **context.kwargs)\n",
      "2023-07-15 21:55:27,092 ERROR     File \"/opt/cdstoolbox/cdscompute/cdscompute/services.py\", line 124, in __call__\n",
      "2023-07-15 21:55:27,093 ERROR       return p(*args, **kwargs)\n",
      "2023-07-15 21:55:27,094 ERROR     File \"/opt/cdstoolbox/cdscompute/cdscompute/services.py\", line 60, in __call__\n",
      "2023-07-15 21:55:27,095 ERROR       return self.proc(context, *args, **kwargs)\n",
      "2023-07-15 21:55:27,096 ERROR     File \"/home/cds/cdsservices/services/esgf_wps/__init__.py\", line 30, in execute\n",
      "2023-07-15 21:55:27,096 ERROR       request_facets, request = facets.search(context, request)\n",
      "2023-07-15 21:55:27,096 ERROR     File \"/home/cds/cdsservices/services/esgf_wps/facets.py\", line 61, in search\n",
      "2023-07-15 21:55:27,097 ERROR       raise ValueError(f'No matching data for request {tmp_request}')\n",
      "2023-07-15 21:55:27,097 ERROR   ValueError: No matching data for request {'experiment': 'ssp534-over', 'model': 'CMCC-CM2-SR5', 'temporal_resolution': 'mon', 'variable': 'rsds'}\n",
      "2023-07-15 21:55:27,133 INFO Welcome to the CDS\n",
      "2023-07-15 21:55:27,134 INFO Sending request to https://cds.climate.copernicus.eu/api/v2/resources/projections-cmip6\n",
      "2023-07-15 21:55:27,207 INFO Request is queued\n"
     ]
    },
    {
     "name": "stdout",
     "output_type": "stream",
     "text": [
      "Some parameters are not matching\n",
      "Test with scenario ssp5_3_4os and model cnrm_cm6_1\n",
      "path_for_file does not exist: the data may not have been downloaded\n",
      "file_download does not exist: the data were not downloaded\n"
     ]
    },
    {
     "name": "stderr",
     "output_type": "stream",
     "text": [
      "2023-07-15 21:55:28,242 INFO Request is failed\n",
      "2023-07-15 21:55:28,243 ERROR Message: an internal error occurred processing your request\n",
      "2023-07-15 21:55:28,243 ERROR Reason:  No matching data for request {'experiment': 'ssp534-over', 'model': 'CNRM-CM6-1', 'temporal_resolution': 'mon', 'variable': 'rsds'}\n",
      "2023-07-15 21:55:28,244 ERROR   Traceback (most recent call last):\n",
      "2023-07-15 21:55:28,244 ERROR     File \"/opt/cdstoolbox/cdscompute/cdscompute/cdshandlers/services/handler.py\", line 59, in handle_request\n",
      "2023-07-15 21:55:28,245 ERROR       result = cached(context.method, proc, context, context.args, context.kwargs)\n",
      "2023-07-15 21:55:28,245 ERROR     File \"/opt/cdstoolbox/cdscompute/cdscompute/caching.py\", line 108, in cached\n",
      "2023-07-15 21:55:28,246 ERROR       result = proc(context, *context.args, **context.kwargs)\n",
      "2023-07-15 21:55:28,248 ERROR     File \"/opt/cdstoolbox/cdscompute/cdscompute/services.py\", line 124, in __call__\n",
      "2023-07-15 21:55:28,248 ERROR       return p(*args, **kwargs)\n",
      "2023-07-15 21:55:28,249 ERROR     File \"/opt/cdstoolbox/cdscompute/cdscompute/services.py\", line 60, in __call__\n",
      "2023-07-15 21:55:28,250 ERROR       return self.proc(context, *args, **kwargs)\n",
      "2023-07-15 21:55:28,250 ERROR     File \"/home/cds/cdsservices/services/esgf_wps/__init__.py\", line 30, in execute\n",
      "2023-07-15 21:55:28,251 ERROR       request_facets, request = facets.search(context, request)\n",
      "2023-07-15 21:55:28,252 ERROR     File \"/home/cds/cdsservices/services/esgf_wps/facets.py\", line 61, in search\n",
      "2023-07-15 21:55:28,253 ERROR       raise ValueError(f'No matching data for request {tmp_request}')\n",
      "2023-07-15 21:55:28,253 ERROR   ValueError: No matching data for request {'experiment': 'ssp534-over', 'model': 'CNRM-CM6-1', 'temporal_resolution': 'mon', 'variable': 'rsds'}\n",
      "2023-07-15 21:55:28,289 INFO Welcome to the CDS\n",
      "2023-07-15 21:55:28,290 INFO Sending request to https://cds.climate.copernicus.eu/api/v2/resources/projections-cmip6\n",
      "2023-07-15 21:55:28,359 INFO Request is queued\n"
     ]
    },
    {
     "name": "stdout",
     "output_type": "stream",
     "text": [
      "Some parameters are not matching\n",
      "Test with scenario ssp5_3_4os and model cnrm_esm2_1\n",
      "path_for_file does not exist: the data may not have been downloaded\n",
      "file_download does not exist: the data were not downloaded\n"
     ]
    },
    {
     "name": "stderr",
     "output_type": "stream",
     "text": [
      "2023-07-15 21:55:29,409 INFO Request is failed\n",
      "2023-07-15 21:55:29,409 ERROR Message: an internal error occurred processing your request\n",
      "2023-07-15 21:55:29,410 ERROR Reason:  500 Server Error: INTERNAL SERVER ERROR for url: http://compute.mips.copernicus-climate.eu/wps?service=WPS&request=DescribeProcess&version=1.0.0&identifier=all\n",
      "2023-07-15 21:55:29,411 ERROR   Traceback (most recent call last):\n",
      "2023-07-15 21:55:29,411 ERROR     File \"/opt/cdstoolbox/cdscompute/cdscompute/cdshandlers/services/handler.py\", line 59, in handle_request\n",
      "2023-07-15 21:55:29,412 ERROR       result = cached(context.method, proc, context, context.args, context.kwargs)\n",
      "2023-07-15 21:55:29,412 ERROR     File \"/opt/cdstoolbox/cdscompute/cdscompute/caching.py\", line 108, in cached\n",
      "2023-07-15 21:55:29,413 ERROR       result = proc(context, *context.args, **context.kwargs)\n",
      "2023-07-15 21:55:29,413 ERROR     File \"/opt/cdstoolbox/cdscompute/cdscompute/services.py\", line 124, in __call__\n",
      "2023-07-15 21:55:29,414 ERROR       return p(*args, **kwargs)\n",
      "2023-07-15 21:55:29,416 ERROR     File \"/opt/cdstoolbox/cdscompute/cdscompute/services.py\", line 60, in __call__\n",
      "2023-07-15 21:55:29,417 ERROR       return self.proc(context, *args, **kwargs)\n",
      "2023-07-15 21:55:29,417 ERROR     File \"/home/cds/cdsservices/services/esgf_wps/__init__.py\", line 41, in execute\n",
      "2023-07-15 21:55:29,417 ERROR       result = requests.process(context, request_facets, request, **process_kwargs)\n",
      "2023-07-15 21:55:29,419 ERROR     File \"/home/cds/cdsservices/services/esgf_wps/requests.py\", line 55, in process\n",
      "2023-07-15 21:55:29,419 ERROR       response = workflow.orchestrate()\n",
      "2023-07-15 21:55:29,419 ERROR     File \"/usr/local/lib/python3.6/site-packages/rooki/operators.py\", line 40, in orchestrate\n",
      "2023-07-15 21:55:29,421 ERROR       reinit()\n",
      "2023-07-15 21:55:29,421 ERROR     File \"/usr/local/lib/python3.6/site-packages/rooki/operators.py\", line 13, in reinit\n",
      "2023-07-15 21:55:29,422 ERROR       rooki = Rooki()\n",
      "2023-07-15 21:55:29,422 ERROR     File \"/usr/local/lib/python3.6/site-packages/rooki/client.py\", line 49, in __init__\n",
      "2023-07-15 21:55:29,422 ERROR       lineage=lineage,\n",
      "2023-07-15 21:55:29,423 ERROR     File \"/usr/local/lib/python3.6/site-packages/birdy/client/base.py\", line 155, in __init__\n",
      "2023-07-15 21:55:29,425 ERROR       self._processes = self._get_process_description(processes, xml=desc_xml)\n",
      "2023-07-15 21:55:29,429 ERROR     File \"/usr/local/lib/python3.6/site-packages/birdy/client/base.py\", line 201, in _get_process_description\n",
      "2023-07-15 21:55:29,430 ERROR       ps = self._wps.describeprocess(\"all\", xml=xml)\n",
      "2023-07-15 21:55:29,431 ERROR     File \"/usr/local/lib/python3.6/site-packages/owslib/wps.py\", line 303, in describeprocess\n",
      "2023-07-15 21:55:29,431 ERROR       self.url, identifier, headers=self.headers)\n",
      "2023-07-15 21:55:29,432 ERROR     File \"/usr/local/lib/python3.6/site-packages/owslib/wps.py\", line 582, in readFromUrl\n",
      "2023-07-15 21:55:29,434 ERROR       headers=headers, verify=verify, cert=cert)\n",
      "2023-07-15 21:55:29,434 ERROR     File \"/usr/local/lib/python3.6/site-packages/owslib/wps.py\", line 509, in _readFromUrl\n",
      "2023-07-15 21:55:29,435 ERROR       headers=headers, verify=self.auth.verify, cert=self.auth.cert, timeout=self.timeout)\n",
      "2023-07-15 21:55:29,435 ERROR     File \"/usr/local/lib/python3.6/site-packages/owslib/util.py\", line 209, in openURL\n",
      "2023-07-15 21:55:29,436 ERROR       req.raise_for_status()\n",
      "2023-07-15 21:55:29,437 ERROR     File \"/usr/local/lib/python3.6/site-packages/requests/models.py\", line 960, in raise_for_status\n",
      "2023-07-15 21:55:29,437 ERROR       raise HTTPError(http_error_msg, response=self)\n",
      "2023-07-15 21:55:29,438 ERROR   requests.exceptions.HTTPError: 500 Server Error: INTERNAL SERVER ERROR for url: http://compute.mips.copernicus-climate.eu/wps?service=WPS&request=DescribeProcess&version=1.0.0&identifier=all\n",
      "2023-07-15 21:55:29,479 INFO Welcome to the CDS\n",
      "2023-07-15 21:55:29,480 INFO Sending request to https://cds.climate.copernicus.eu/api/v2/resources/projections-cmip6\n",
      "2023-07-15 21:55:29,545 INFO Request is queued\n"
     ]
    },
    {
     "name": "stdout",
     "output_type": "stream",
     "text": [
      "Some parameters are not matching\n",
      "Test with scenario ssp5_3_4os and model e3sm_1_1\n",
      "path_for_file does not exist: the data may not have been downloaded\n",
      "file_download does not exist: the data were not downloaded\n"
     ]
    },
    {
     "name": "stderr",
     "output_type": "stream",
     "text": [
      "2023-07-15 21:55:30,589 INFO Request is failed\n",
      "2023-07-15 21:55:30,590 ERROR Message: an internal error occurred processing your request\n",
      "2023-07-15 21:55:30,591 ERROR Reason:  No matching data for request {'experiment': 'ssp534-over', 'model': 'E3SM-1-1', 'temporal_resolution': 'mon', 'variable': 'rsds'}\n",
      "2023-07-15 21:55:30,592 ERROR   Traceback (most recent call last):\n",
      "2023-07-15 21:55:30,593 ERROR     File \"/opt/cdstoolbox/cdscompute/cdscompute/cdshandlers/services/handler.py\", line 59, in handle_request\n",
      "2023-07-15 21:55:30,593 ERROR       result = cached(context.method, proc, context, context.args, context.kwargs)\n",
      "2023-07-15 21:55:30,594 ERROR     File \"/opt/cdstoolbox/cdscompute/cdscompute/caching.py\", line 108, in cached\n",
      "2023-07-15 21:55:30,594 ERROR       result = proc(context, *context.args, **context.kwargs)\n",
      "2023-07-15 21:55:30,595 ERROR     File \"/opt/cdstoolbox/cdscompute/cdscompute/services.py\", line 124, in __call__\n",
      "2023-07-15 21:55:30,595 ERROR       return p(*args, **kwargs)\n",
      "2023-07-15 21:55:30,596 ERROR     File \"/opt/cdstoolbox/cdscompute/cdscompute/services.py\", line 60, in __call__\n",
      "2023-07-15 21:55:30,597 ERROR       return self.proc(context, *args, **kwargs)\n",
      "2023-07-15 21:55:30,598 ERROR     File \"/home/cds/cdsservices/services/esgf_wps/__init__.py\", line 30, in execute\n",
      "2023-07-15 21:55:30,599 ERROR       request_facets, request = facets.search(context, request)\n",
      "2023-07-15 21:55:30,599 ERROR     File \"/home/cds/cdsservices/services/esgf_wps/facets.py\", line 61, in search\n",
      "2023-07-15 21:55:30,600 ERROR       raise ValueError(f'No matching data for request {tmp_request}')\n",
      "2023-07-15 21:55:30,600 ERROR   ValueError: No matching data for request {'experiment': 'ssp534-over', 'model': 'E3SM-1-1', 'temporal_resolution': 'mon', 'variable': 'rsds'}\n",
      "2023-07-15 21:55:30,636 INFO Welcome to the CDS\n",
      "2023-07-15 21:55:30,637 INFO Sending request to https://cds.climate.copernicus.eu/api/v2/resources/projections-cmip6\n",
      "2023-07-15 21:55:30,710 INFO Request is queued\n"
     ]
    },
    {
     "name": "stdout",
     "output_type": "stream",
     "text": [
      "Some parameters are not matching\n",
      "Test with scenario ssp5_3_4os and model ec_earth3\n",
      "path_for_file does not exist: the data may not have been downloaded\n",
      "file_download does not exist: the data were not downloaded\n"
     ]
    },
    {
     "name": "stderr",
     "output_type": "stream",
     "text": [
      "2023-07-15 21:55:31,758 INFO Request is failed\n",
      "2023-07-15 21:55:31,759 ERROR Message: an internal error occurred processing your request\n",
      "2023-07-15 21:55:31,760 ERROR Reason:  500 Server Error: INTERNAL SERVER ERROR for url: http://compute.mips.copernicus-climate.eu/wps?service=WPS&request=DescribeProcess&version=1.0.0&identifier=all\n",
      "2023-07-15 21:55:31,760 ERROR   Traceback (most recent call last):\n",
      "2023-07-15 21:55:31,761 ERROR     File \"/opt/cdstoolbox/cdscompute/cdscompute/cdshandlers/services/handler.py\", line 59, in handle_request\n",
      "2023-07-15 21:55:31,761 ERROR       result = cached(context.method, proc, context, context.args, context.kwargs)\n",
      "2023-07-15 21:55:31,762 ERROR     File \"/opt/cdstoolbox/cdscompute/cdscompute/caching.py\", line 108, in cached\n",
      "2023-07-15 21:55:31,763 ERROR       result = proc(context, *context.args, **context.kwargs)\n",
      "2023-07-15 21:55:31,763 ERROR     File \"/opt/cdstoolbox/cdscompute/cdscompute/services.py\", line 124, in __call__\n",
      "2023-07-15 21:55:31,764 ERROR       return p(*args, **kwargs)\n",
      "2023-07-15 21:55:31,765 ERROR     File \"/opt/cdstoolbox/cdscompute/cdscompute/services.py\", line 60, in __call__\n",
      "2023-07-15 21:55:31,765 ERROR       return self.proc(context, *args, **kwargs)\n",
      "2023-07-15 21:55:31,766 ERROR     File \"/home/cds/cdsservices/services/esgf_wps/__init__.py\", line 41, in execute\n",
      "2023-07-15 21:55:31,766 ERROR       result = requests.process(context, request_facets, request, **process_kwargs)\n",
      "2023-07-15 21:55:31,767 ERROR     File \"/home/cds/cdsservices/services/esgf_wps/requests.py\", line 55, in process\n",
      "2023-07-15 21:55:31,767 ERROR       response = workflow.orchestrate()\n",
      "2023-07-15 21:55:31,767 ERROR     File \"/usr/local/lib/python3.6/site-packages/rooki/operators.py\", line 40, in orchestrate\n",
      "2023-07-15 21:55:31,769 ERROR       reinit()\n",
      "2023-07-15 21:55:31,769 ERROR     File \"/usr/local/lib/python3.6/site-packages/rooki/operators.py\", line 13, in reinit\n",
      "2023-07-15 21:55:31,770 ERROR       rooki = Rooki()\n",
      "2023-07-15 21:55:31,770 ERROR     File \"/usr/local/lib/python3.6/site-packages/rooki/client.py\", line 49, in __init__\n",
      "2023-07-15 21:55:31,771 ERROR       lineage=lineage,\n",
      "2023-07-15 21:55:31,771 ERROR     File \"/usr/local/lib/python3.6/site-packages/birdy/client/base.py\", line 155, in __init__\n",
      "2023-07-15 21:55:31,771 ERROR       self._processes = self._get_process_description(processes, xml=desc_xml)\n",
      "2023-07-15 21:55:31,772 ERROR     File \"/usr/local/lib/python3.6/site-packages/birdy/client/base.py\", line 201, in _get_process_description\n",
      "2023-07-15 21:55:31,773 ERROR       ps = self._wps.describeprocess(\"all\", xml=xml)\n",
      "2023-07-15 21:55:31,773 ERROR     File \"/usr/local/lib/python3.6/site-packages/owslib/wps.py\", line 303, in describeprocess\n",
      "2023-07-15 21:55:31,773 ERROR       self.url, identifier, headers=self.headers)\n",
      "2023-07-15 21:55:31,774 ERROR     File \"/usr/local/lib/python3.6/site-packages/owslib/wps.py\", line 582, in readFromUrl\n",
      "2023-07-15 21:55:31,775 ERROR       headers=headers, verify=verify, cert=cert)\n",
      "2023-07-15 21:55:31,775 ERROR     File \"/usr/local/lib/python3.6/site-packages/owslib/wps.py\", line 509, in _readFromUrl\n",
      "2023-07-15 21:55:31,776 ERROR       headers=headers, verify=self.auth.verify, cert=self.auth.cert, timeout=self.timeout)\n",
      "2023-07-15 21:55:31,777 ERROR     File \"/usr/local/lib/python3.6/site-packages/owslib/util.py\", line 209, in openURL\n",
      "2023-07-15 21:55:31,777 ERROR       req.raise_for_status()\n",
      "2023-07-15 21:55:31,777 ERROR     File \"/usr/local/lib/python3.6/site-packages/requests/models.py\", line 960, in raise_for_status\n",
      "2023-07-15 21:55:31,778 ERROR       raise HTTPError(http_error_msg, response=self)\n",
      "2023-07-15 21:55:31,778 ERROR   requests.exceptions.HTTPError: 500 Server Error: INTERNAL SERVER ERROR for url: http://compute.mips.copernicus-climate.eu/wps?service=WPS&request=DescribeProcess&version=1.0.0&identifier=all\n",
      "2023-07-15 21:55:31,815 INFO Welcome to the CDS\n",
      "2023-07-15 21:55:31,815 INFO Sending request to https://cds.climate.copernicus.eu/api/v2/resources/projections-cmip6\n",
      "2023-07-15 21:55:31,856 INFO Request is queued\n"
     ]
    },
    {
     "name": "stdout",
     "output_type": "stream",
     "text": [
      "Some parameters are not matching\n",
      "Test with scenario ssp5_3_4os and model ec_earth3_cc\n",
      "path_for_file does not exist: the data may not have been downloaded\n",
      "file_download does not exist: the data were not downloaded\n"
     ]
    },
    {
     "name": "stderr",
     "output_type": "stream",
     "text": [
      "2023-07-15 21:55:32,896 INFO Request is failed\n",
      "2023-07-15 21:55:32,897 ERROR Message: an internal error occurred processing your request\n",
      "2023-07-15 21:55:32,898 ERROR Reason:  No matching data for request {'experiment': 'ssp534-over', 'model': 'EC-Earth3-CC', 'temporal_resolution': 'mon', 'variable': 'rsds'}\n",
      "2023-07-15 21:55:32,899 ERROR   Traceback (most recent call last):\n",
      "2023-07-15 21:55:32,900 ERROR     File \"/opt/cdstoolbox/cdscompute/cdscompute/cdshandlers/services/handler.py\", line 59, in handle_request\n",
      "2023-07-15 21:55:32,900 ERROR       result = cached(context.method, proc, context, context.args, context.kwargs)\n",
      "2023-07-15 21:55:32,902 ERROR     File \"/opt/cdstoolbox/cdscompute/cdscompute/caching.py\", line 108, in cached\n",
      "2023-07-15 21:55:32,902 ERROR       result = proc(context, *context.args, **context.kwargs)\n",
      "2023-07-15 21:55:32,903 ERROR     File \"/opt/cdstoolbox/cdscompute/cdscompute/services.py\", line 124, in __call__\n",
      "2023-07-15 21:55:32,904 ERROR       return p(*args, **kwargs)\n",
      "2023-07-15 21:55:32,904 ERROR     File \"/opt/cdstoolbox/cdscompute/cdscompute/services.py\", line 60, in __call__\n",
      "2023-07-15 21:55:32,905 ERROR       return self.proc(context, *args, **kwargs)\n",
      "2023-07-15 21:55:32,905 ERROR     File \"/home/cds/cdsservices/services/esgf_wps/__init__.py\", line 30, in execute\n",
      "2023-07-15 21:55:32,905 ERROR       request_facets, request = facets.search(context, request)\n",
      "2023-07-15 21:55:32,906 ERROR     File \"/home/cds/cdsservices/services/esgf_wps/facets.py\", line 61, in search\n",
      "2023-07-15 21:55:32,906 ERROR       raise ValueError(f'No matching data for request {tmp_request}')\n",
      "2023-07-15 21:55:32,907 ERROR   ValueError: No matching data for request {'experiment': 'ssp534-over', 'model': 'EC-Earth3-CC', 'temporal_resolution': 'mon', 'variable': 'rsds'}\n",
      "2023-07-15 21:55:32,947 INFO Welcome to the CDS\n",
      "2023-07-15 21:55:32,949 INFO Sending request to https://cds.climate.copernicus.eu/api/v2/resources/projections-cmip6\n",
      "2023-07-15 21:55:33,095 INFO Request is queued\n"
     ]
    },
    {
     "name": "stdout",
     "output_type": "stream",
     "text": [
      "Some parameters are not matching\n",
      "Test with scenario ssp5_3_4os and model ec_earth3_veg_lr\n",
      "path_for_file does not exist: the data may not have been downloaded\n",
      "file_download does not exist: the data were not downloaded\n"
     ]
    },
    {
     "name": "stderr",
     "output_type": "stream",
     "text": [
      "2023-07-15 21:55:34,144 INFO Request is failed\n",
      "2023-07-15 21:55:34,145 ERROR Message: an internal error occurred processing your request\n",
      "2023-07-15 21:55:34,146 ERROR Reason:  No matching data for request {'experiment': 'ssp534-over', 'model': 'EC-Earth3-Veg-LR', 'temporal_resolution': 'mon', 'variable': 'rsds'}\n",
      "2023-07-15 21:55:34,146 ERROR   Traceback (most recent call last):\n",
      "2023-07-15 21:55:34,147 ERROR     File \"/opt/cdstoolbox/cdscompute/cdscompute/cdshandlers/services/handler.py\", line 59, in handle_request\n",
      "2023-07-15 21:55:34,147 ERROR       result = cached(context.method, proc, context, context.args, context.kwargs)\n",
      "2023-07-15 21:55:34,148 ERROR     File \"/opt/cdstoolbox/cdscompute/cdscompute/caching.py\", line 108, in cached\n",
      "2023-07-15 21:55:34,149 ERROR       result = proc(context, *context.args, **context.kwargs)\n",
      "2023-07-15 21:55:34,150 ERROR     File \"/opt/cdstoolbox/cdscompute/cdscompute/services.py\", line 124, in __call__\n",
      "2023-07-15 21:55:34,150 ERROR       return p(*args, **kwargs)\n",
      "2023-07-15 21:55:34,151 ERROR     File \"/opt/cdstoolbox/cdscompute/cdscompute/services.py\", line 60, in __call__\n",
      "2023-07-15 21:55:34,152 ERROR       return self.proc(context, *args, **kwargs)\n",
      "2023-07-15 21:55:34,152 ERROR     File \"/home/cds/cdsservices/services/esgf_wps/__init__.py\", line 30, in execute\n",
      "2023-07-15 21:55:34,153 ERROR       request_facets, request = facets.search(context, request)\n",
      "2023-07-15 21:55:34,153 ERROR     File \"/home/cds/cdsservices/services/esgf_wps/facets.py\", line 61, in search\n",
      "2023-07-15 21:55:34,154 ERROR       raise ValueError(f'No matching data for request {tmp_request}')\n",
      "2023-07-15 21:55:34,155 ERROR   ValueError: No matching data for request {'experiment': 'ssp534-over', 'model': 'EC-Earth3-Veg-LR', 'temporal_resolution': 'mon', 'variable': 'rsds'}\n",
      "2023-07-15 21:55:34,190 INFO Welcome to the CDS\n",
      "2023-07-15 21:55:34,190 INFO Sending request to https://cds.climate.copernicus.eu/api/v2/resources/projections-cmip6\n",
      "2023-07-15 21:55:34,259 INFO Request is queued\n"
     ]
    },
    {
     "name": "stdout",
     "output_type": "stream",
     "text": [
      "Some parameters are not matching\n",
      "Test with scenario ssp5_3_4os and model fgoals_g3\n",
      "path_for_file does not exist: the data may not have been downloaded\n",
      "file_download does not exist: the data were not downloaded\n"
     ]
    },
    {
     "name": "stderr",
     "output_type": "stream",
     "text": [
      "2023-07-15 21:55:35,293 INFO Request is failed\n",
      "2023-07-15 21:55:35,294 ERROR Message: an internal error occurred processing your request\n",
      "2023-07-15 21:55:35,294 ERROR Reason:  execution failed\n",
      "2023-07-15 21:55:35,295 ERROR   Traceback (most recent call last):\n",
      "2023-07-15 21:55:35,297 ERROR     File \"/usr/local/lib/python3.6/site-packages/birdy/client/base.py\", line 386, in _execute\n",
      "2023-07-15 21:55:35,297 ERROR       lineage=self._lineage,\n",
      "2023-07-15 21:55:35,298 ERROR     File \"/usr/local/lib/python3.6/site-packages/owslib/wps.py\", line 359, in execute\n",
      "2023-07-15 21:55:35,298 ERROR       response = execution.submitRequest(request)\n",
      "2023-07-15 21:55:35,300 ERROR     File \"/usr/local/lib/python3.6/site-packages/owslib/wps.py\", line 912, in submitRequest\n",
      "2023-07-15 21:55:35,300 ERROR       self.url, request, method='Post', headers=self.headers)\n",
      "2023-07-15 21:55:35,301 ERROR     File \"/usr/local/lib/python3.6/site-packages/owslib/wps.py\", line 603, in readFromUrl\n",
      "2023-07-15 21:55:35,302 ERROR       headers=headers, verify=verify, cert=cert)\n",
      "2023-07-15 21:55:35,302 ERROR     File \"/usr/local/lib/python3.6/site-packages/owslib/wps.py\", line 515, in _readFromUrl\n",
      "2023-07-15 21:55:35,303 ERROR       headers=headers, verify=self.auth.verify, cert=self.auth.cert, timeout=timeout)\n",
      "2023-07-15 21:55:35,303 ERROR     File \"/usr/local/lib/python3.6/site-packages/owslib/util.py\", line 209, in openURL\n",
      "2023-07-15 21:55:35,304 ERROR       req.raise_for_status()\n",
      "2023-07-15 21:55:35,304 ERROR     File \"/usr/local/lib/python3.6/site-packages/requests/models.py\", line 960, in raise_for_status\n",
      "2023-07-15 21:55:35,305 ERROR       raise HTTPError(http_error_msg, response=self)\n",
      "2023-07-15 21:55:35,307 ERROR   requests.exceptions.HTTPError: 500 Server Error: INTERNAL SERVER ERROR for url: http://compute.mips.copernicus-climate.eu/wps\n",
      "2023-07-15 21:55:35,342 INFO Welcome to the CDS\n",
      "2023-07-15 21:55:35,343 INFO Sending request to https://cds.climate.copernicus.eu/api/v2/resources/projections-cmip6\n",
      "2023-07-15 21:55:35,384 INFO Request is queued\n"
     ]
    },
    {
     "name": "stdout",
     "output_type": "stream",
     "text": [
      "Some parameters are not matching\n",
      "Test with scenario ssp5_3_4os and model gfdl_esm4\n",
      "path_for_file does not exist: the data may not have been downloaded\n",
      "file_download does not exist: the data were not downloaded\n"
     ]
    },
    {
     "name": "stderr",
     "output_type": "stream",
     "text": [
      "2023-07-15 21:55:36,427 INFO Request is failed\n",
      "2023-07-15 21:55:36,428 ERROR Message: an internal error occurred processing your request\n",
      "2023-07-15 21:55:36,429 ERROR Reason:  No matching data for request {'experiment': 'ssp534-over', 'model': 'GFDL-ESM4', 'temporal_resolution': 'mon', 'variable': 'rsds'}\n",
      "2023-07-15 21:55:36,430 ERROR   Traceback (most recent call last):\n",
      "2023-07-15 21:55:36,430 ERROR     File \"/opt/cdstoolbox/cdscompute/cdscompute/cdshandlers/services/handler.py\", line 59, in handle_request\n",
      "2023-07-15 21:55:36,431 ERROR       result = cached(context.method, proc, context, context.args, context.kwargs)\n",
      "2023-07-15 21:55:36,431 ERROR     File \"/opt/cdstoolbox/cdscompute/cdscompute/caching.py\", line 108, in cached\n",
      "2023-07-15 21:55:36,432 ERROR       result = proc(context, *context.args, **context.kwargs)\n",
      "2023-07-15 21:55:36,432 ERROR     File \"/opt/cdstoolbox/cdscompute/cdscompute/services.py\", line 124, in __call__\n",
      "2023-07-15 21:55:36,433 ERROR       return p(*args, **kwargs)\n",
      "2023-07-15 21:55:36,433 ERROR     File \"/opt/cdstoolbox/cdscompute/cdscompute/services.py\", line 60, in __call__\n",
      "2023-07-15 21:55:36,434 ERROR       return self.proc(context, *args, **kwargs)\n",
      "2023-07-15 21:55:36,435 ERROR     File \"/home/cds/cdsservices/services/esgf_wps/__init__.py\", line 30, in execute\n",
      "2023-07-15 21:55:36,436 ERROR       request_facets, request = facets.search(context, request)\n",
      "2023-07-15 21:55:36,436 ERROR     File \"/home/cds/cdsservices/services/esgf_wps/facets.py\", line 61, in search\n",
      "2023-07-15 21:55:36,437 ERROR       raise ValueError(f'No matching data for request {tmp_request}')\n",
      "2023-07-15 21:55:36,437 ERROR   ValueError: No matching data for request {'experiment': 'ssp534-over', 'model': 'GFDL-ESM4', 'temporal_resolution': 'mon', 'variable': 'rsds'}\n",
      "2023-07-15 21:55:36,477 INFO Welcome to the CDS\n",
      "2023-07-15 21:55:36,479 INFO Sending request to https://cds.climate.copernicus.eu/api/v2/resources/projections-cmip6\n",
      "2023-07-15 21:55:36,609 INFO Request is queued\n"
     ]
    },
    {
     "name": "stdout",
     "output_type": "stream",
     "text": [
      "Some parameters are not matching\n",
      "Test with scenario ssp5_3_4os and model giss_e2_1_h\n",
      "path_for_file does not exist: the data may not have been downloaded\n",
      "file_download does not exist: the data were not downloaded\n"
     ]
    },
    {
     "name": "stderr",
     "output_type": "stream",
     "text": [
      "2023-07-15 21:55:37,690 INFO Request is failed\n",
      "2023-07-15 21:55:37,691 ERROR Message: an internal error occurred processing your request\n",
      "2023-07-15 21:55:37,692 ERROR Reason:  No matching data for request {'experiment': 'ssp534-over', 'model': 'GISS-E2-1-H', 'temporal_resolution': 'mon', 'variable': 'rsds'}\n",
      "2023-07-15 21:55:37,692 ERROR   Traceback (most recent call last):\n",
      "2023-07-15 21:55:37,693 ERROR     File \"/opt/cdstoolbox/cdscompute/cdscompute/cdshandlers/services/handler.py\", line 59, in handle_request\n",
      "2023-07-15 21:55:37,694 ERROR       result = cached(context.method, proc, context, context.args, context.kwargs)\n",
      "2023-07-15 21:55:37,695 ERROR     File \"/opt/cdstoolbox/cdscompute/cdscompute/caching.py\", line 108, in cached\n",
      "2023-07-15 21:55:37,695 ERROR       result = proc(context, *context.args, **context.kwargs)\n",
      "2023-07-15 21:55:37,696 ERROR     File \"/opt/cdstoolbox/cdscompute/cdscompute/services.py\", line 124, in __call__\n",
      "2023-07-15 21:55:37,696 ERROR       return p(*args, **kwargs)\n",
      "2023-07-15 21:55:37,697 ERROR     File \"/opt/cdstoolbox/cdscompute/cdscompute/services.py\", line 60, in __call__\n",
      "2023-07-15 21:55:37,697 ERROR       return self.proc(context, *args, **kwargs)\n",
      "2023-07-15 21:55:37,698 ERROR     File \"/home/cds/cdsservices/services/esgf_wps/__init__.py\", line 30, in execute\n",
      "2023-07-15 21:55:37,698 ERROR       request_facets, request = facets.search(context, request)\n",
      "2023-07-15 21:55:37,699 ERROR     File \"/home/cds/cdsservices/services/esgf_wps/facets.py\", line 61, in search\n",
      "2023-07-15 21:55:37,700 ERROR       raise ValueError(f'No matching data for request {tmp_request}')\n",
      "2023-07-15 21:55:37,701 ERROR   ValueError: No matching data for request {'experiment': 'ssp534-over', 'model': 'GISS-E2-1-H', 'temporal_resolution': 'mon', 'variable': 'rsds'}\n",
      "2023-07-15 21:55:37,738 INFO Welcome to the CDS\n",
      "2023-07-15 21:55:37,739 INFO Sending request to https://cds.climate.copernicus.eu/api/v2/resources/projections-cmip6\n",
      "2023-07-15 21:55:37,814 INFO Request is queued\n"
     ]
    },
    {
     "name": "stdout",
     "output_type": "stream",
     "text": [
      "Some parameters are not matching\n",
      "Test with scenario ssp5_3_4os and model hadgem3_gc31_mm\n",
      "path_for_file does not exist: the data may not have been downloaded\n",
      "file_download does not exist: the data were not downloaded\n"
     ]
    },
    {
     "name": "stderr",
     "output_type": "stream",
     "text": [
      "2023-07-15 21:55:38,864 INFO Request is failed\n",
      "2023-07-15 21:55:38,865 ERROR Message: an internal error occurred processing your request\n",
      "2023-07-15 21:55:38,866 ERROR Reason:  No matching data for request {'experiment': 'ssp534-over', 'model': 'HadGEM3-GC31-MM', 'temporal_resolution': 'mon', 'variable': 'rsds'}\n",
      "2023-07-15 21:55:38,866 ERROR   Traceback (most recent call last):\n",
      "2023-07-15 21:55:38,867 ERROR     File \"/opt/cdstoolbox/cdscompute/cdscompute/cdshandlers/services/handler.py\", line 59, in handle_request\n",
      "2023-07-15 21:55:38,867 ERROR       result = cached(context.method, proc, context, context.args, context.kwargs)\n",
      "2023-07-15 21:55:38,868 ERROR     File \"/opt/cdstoolbox/cdscompute/cdscompute/caching.py\", line 108, in cached\n",
      "2023-07-15 21:55:38,868 ERROR       result = proc(context, *context.args, **context.kwargs)\n",
      "2023-07-15 21:55:38,869 ERROR     File \"/opt/cdstoolbox/cdscompute/cdscompute/services.py\", line 124, in __call__\n",
      "2023-07-15 21:55:38,870 ERROR       return p(*args, **kwargs)\n",
      "2023-07-15 21:55:38,870 ERROR     File \"/opt/cdstoolbox/cdscompute/cdscompute/services.py\", line 60, in __call__\n",
      "2023-07-15 21:55:38,871 ERROR       return self.proc(context, *args, **kwargs)\n",
      "2023-07-15 21:55:38,871 ERROR     File \"/home/cds/cdsservices/services/esgf_wps/__init__.py\", line 30, in execute\n",
      "2023-07-15 21:55:38,872 ERROR       request_facets, request = facets.search(context, request)\n",
      "2023-07-15 21:55:38,872 ERROR     File \"/home/cds/cdsservices/services/esgf_wps/facets.py\", line 61, in search\n",
      "2023-07-15 21:55:38,872 ERROR       raise ValueError(f'No matching data for request {tmp_request}')\n",
      "2023-07-15 21:55:38,873 ERROR   ValueError: No matching data for request {'experiment': 'ssp534-over', 'model': 'HadGEM3-GC31-MM', 'temporal_resolution': 'mon', 'variable': 'rsds'}\n",
      "2023-07-15 21:55:38,915 INFO Welcome to the CDS\n",
      "2023-07-15 21:55:38,916 INFO Sending request to https://cds.climate.copernicus.eu/api/v2/resources/projections-cmip6\n",
      "2023-07-15 21:55:38,983 INFO Request is queued\n"
     ]
    },
    {
     "name": "stdout",
     "output_type": "stream",
     "text": [
      "Some parameters are not matching\n",
      "Test with scenario ssp5_3_4os and model inm_cm4_8\n",
      "path_for_file does not exist: the data may not have been downloaded\n",
      "file_download does not exist: the data were not downloaded\n"
     ]
    },
    {
     "name": "stderr",
     "output_type": "stream",
     "text": [
      "2023-07-15 21:55:40,021 INFO Request is failed\n",
      "2023-07-15 21:55:40,021 ERROR Message: an internal error occurred processing your request\n",
      "2023-07-15 21:55:40,022 ERROR Reason:  No matching data for request {'experiment': 'ssp534-over', 'model': 'INM-CM4-8', 'temporal_resolution': 'mon', 'variable': 'rsds'}\n",
      "2023-07-15 21:55:40,024 ERROR   Traceback (most recent call last):\n",
      "2023-07-15 21:55:40,024 ERROR     File \"/opt/cdstoolbox/cdscompute/cdscompute/cdshandlers/services/handler.py\", line 59, in handle_request\n",
      "2023-07-15 21:55:40,025 ERROR       result = cached(context.method, proc, context, context.args, context.kwargs)\n",
      "2023-07-15 21:55:40,025 ERROR     File \"/opt/cdstoolbox/cdscompute/cdscompute/caching.py\", line 108, in cached\n",
      "2023-07-15 21:55:40,026 ERROR       result = proc(context, *context.args, **context.kwargs)\n",
      "2023-07-15 21:55:40,026 ERROR     File \"/opt/cdstoolbox/cdscompute/cdscompute/services.py\", line 124, in __call__\n",
      "2023-07-15 21:55:40,026 ERROR       return p(*args, **kwargs)\n",
      "2023-07-15 21:55:40,027 ERROR     File \"/opt/cdstoolbox/cdscompute/cdscompute/services.py\", line 60, in __call__\n",
      "2023-07-15 21:55:40,027 ERROR       return self.proc(context, *args, **kwargs)\n",
      "2023-07-15 21:55:40,028 ERROR     File \"/home/cds/cdsservices/services/esgf_wps/__init__.py\", line 30, in execute\n",
      "2023-07-15 21:55:40,028 ERROR       request_facets, request = facets.search(context, request)\n",
      "2023-07-15 21:55:40,029 ERROR     File \"/home/cds/cdsservices/services/esgf_wps/facets.py\", line 61, in search\n",
      "2023-07-15 21:55:40,030 ERROR       raise ValueError(f'No matching data for request {tmp_request}')\n",
      "2023-07-15 21:55:40,030 ERROR   ValueError: No matching data for request {'experiment': 'ssp534-over', 'model': 'INM-CM4-8', 'temporal_resolution': 'mon', 'variable': 'rsds'}\n",
      "2023-07-15 21:55:40,066 INFO Welcome to the CDS\n",
      "2023-07-15 21:55:40,067 INFO Sending request to https://cds.climate.copernicus.eu/api/v2/resources/projections-cmip6\n",
      "2023-07-15 21:55:40,122 INFO Request is queued\n"
     ]
    },
    {
     "name": "stdout",
     "output_type": "stream",
     "text": [
      "Some parameters are not matching\n",
      "Test with scenario ssp5_3_4os and model ipsl_cm5a2_inca\n",
      "path_for_file does not exist: the data may not have been downloaded\n",
      "file_download does not exist: the data were not downloaded\n"
     ]
    },
    {
     "name": "stderr",
     "output_type": "stream",
     "text": [
      "2023-07-15 21:55:41,158 INFO Request is failed\n",
      "2023-07-15 21:55:41,159 ERROR Message: an internal error occurred processing your request\n",
      "2023-07-15 21:55:41,160 ERROR Reason:  No matching data for request {'experiment': 'ssp534-over', 'model': 'IPSL-CM5A2-INCA', 'temporal_resolution': 'mon', 'variable': 'rsds'}\n",
      "2023-07-15 21:55:41,161 ERROR   Traceback (most recent call last):\n",
      "2023-07-15 21:55:41,161 ERROR     File \"/opt/cdstoolbox/cdscompute/cdscompute/cdshandlers/services/handler.py\", line 59, in handle_request\n",
      "2023-07-15 21:55:41,162 ERROR       result = cached(context.method, proc, context, context.args, context.kwargs)\n",
      "2023-07-15 21:55:41,162 ERROR     File \"/opt/cdstoolbox/cdscompute/cdscompute/caching.py\", line 108, in cached\n",
      "2023-07-15 21:55:41,163 ERROR       result = proc(context, *context.args, **context.kwargs)\n",
      "2023-07-15 21:55:41,163 ERROR     File \"/opt/cdstoolbox/cdscompute/cdscompute/services.py\", line 124, in __call__\n",
      "2023-07-15 21:55:41,164 ERROR       return p(*args, **kwargs)\n",
      "2023-07-15 21:55:41,164 ERROR     File \"/opt/cdstoolbox/cdscompute/cdscompute/services.py\", line 60, in __call__\n",
      "2023-07-15 21:55:41,165 ERROR       return self.proc(context, *args, **kwargs)\n",
      "2023-07-15 21:55:41,165 ERROR     File \"/home/cds/cdsservices/services/esgf_wps/__init__.py\", line 30, in execute\n",
      "2023-07-15 21:55:41,165 ERROR       request_facets, request = facets.search(context, request)\n",
      "2023-07-15 21:55:41,166 ERROR     File \"/home/cds/cdsservices/services/esgf_wps/facets.py\", line 61, in search\n",
      "2023-07-15 21:55:41,166 ERROR       raise ValueError(f'No matching data for request {tmp_request}')\n",
      "2023-07-15 21:55:41,167 ERROR   ValueError: No matching data for request {'experiment': 'ssp534-over', 'model': 'IPSL-CM5A2-INCA', 'temporal_resolution': 'mon', 'variable': 'rsds'}\n",
      "2023-07-15 21:55:41,203 INFO Welcome to the CDS\n",
      "2023-07-15 21:55:41,204 INFO Sending request to https://cds.climate.copernicus.eu/api/v2/resources/projections-cmip6\n",
      "2023-07-15 21:55:41,245 INFO Request is queued\n"
     ]
    },
    {
     "name": "stdout",
     "output_type": "stream",
     "text": [
      "Some parameters are not matching\n",
      "Test with scenario ssp5_3_4os and model kace_1_0_g\n",
      "path_for_file does not exist: the data may not have been downloaded\n",
      "file_download does not exist: the data were not downloaded\n"
     ]
    },
    {
     "name": "stderr",
     "output_type": "stream",
     "text": [
      "2023-07-15 21:55:42,283 INFO Request is failed\n",
      "2023-07-15 21:55:42,284 ERROR Message: an internal error occurred processing your request\n",
      "2023-07-15 21:55:42,284 ERROR Reason:  No matching data for request {'experiment': 'ssp534-over', 'model': 'KACE-1-0-G', 'temporal_resolution': 'mon', 'variable': 'rsds'}\n",
      "2023-07-15 21:55:42,285 ERROR   Traceback (most recent call last):\n",
      "2023-07-15 21:55:42,286 ERROR     File \"/opt/cdstoolbox/cdscompute/cdscompute/cdshandlers/services/handler.py\", line 59, in handle_request\n",
      "2023-07-15 21:55:42,286 ERROR       result = cached(context.method, proc, context, context.args, context.kwargs)\n",
      "2023-07-15 21:55:42,287 ERROR     File \"/opt/cdstoolbox/cdscompute/cdscompute/caching.py\", line 108, in cached\n",
      "2023-07-15 21:55:42,288 ERROR       result = proc(context, *context.args, **context.kwargs)\n",
      "2023-07-15 21:55:42,288 ERROR     File \"/opt/cdstoolbox/cdscompute/cdscompute/services.py\", line 124, in __call__\n",
      "2023-07-15 21:55:42,289 ERROR       return p(*args, **kwargs)\n",
      "2023-07-15 21:55:42,289 ERROR     File \"/opt/cdstoolbox/cdscompute/cdscompute/services.py\", line 60, in __call__\n",
      "2023-07-15 21:55:42,290 ERROR       return self.proc(context, *args, **kwargs)\n",
      "2023-07-15 21:55:42,290 ERROR     File \"/home/cds/cdsservices/services/esgf_wps/__init__.py\", line 30, in execute\n",
      "2023-07-15 21:55:42,292 ERROR       request_facets, request = facets.search(context, request)\n",
      "2023-07-15 21:55:42,293 ERROR     File \"/home/cds/cdsservices/services/esgf_wps/facets.py\", line 61, in search\n",
      "2023-07-15 21:55:42,293 ERROR       raise ValueError(f'No matching data for request {tmp_request}')\n",
      "2023-07-15 21:55:42,293 ERROR   ValueError: No matching data for request {'experiment': 'ssp534-over', 'model': 'KACE-1-0-G', 'temporal_resolution': 'mon', 'variable': 'rsds'}\n",
      "2023-07-15 21:55:42,328 INFO Welcome to the CDS\n",
      "2023-07-15 21:55:42,328 INFO Sending request to https://cds.climate.copernicus.eu/api/v2/resources/projections-cmip6\n",
      "2023-07-15 21:55:42,417 INFO Request is queued\n"
     ]
    },
    {
     "name": "stdout",
     "output_type": "stream",
     "text": [
      "Some parameters are not matching\n",
      "Test with scenario ssp5_3_4os and model mcm_ua_1_0\n",
      "path_for_file does not exist: the data may not have been downloaded\n",
      "file_download does not exist: the data were not downloaded\n"
     ]
    },
    {
     "name": "stderr",
     "output_type": "stream",
     "text": [
      "2023-07-15 21:55:43,469 INFO Request is failed\n",
      "2023-07-15 21:55:43,470 ERROR Message: an internal error occurred processing your request\n",
      "2023-07-15 21:55:43,471 ERROR Reason:  No matching data for request {'experiment': 'ssp534-over', 'model': 'MCM-UA-1-0', 'temporal_resolution': 'mon', 'variable': 'rsds'}\n",
      "2023-07-15 21:55:43,472 ERROR   Traceback (most recent call last):\n",
      "2023-07-15 21:55:43,473 ERROR     File \"/opt/cdstoolbox/cdscompute/cdscompute/cdshandlers/services/handler.py\", line 59, in handle_request\n",
      "2023-07-15 21:55:43,473 ERROR       result = cached(context.method, proc, context, context.args, context.kwargs)\n",
      "2023-07-15 21:55:43,474 ERROR     File \"/opt/cdstoolbox/cdscompute/cdscompute/caching.py\", line 108, in cached\n",
      "2023-07-15 21:55:43,475 ERROR       result = proc(context, *context.args, **context.kwargs)\n",
      "2023-07-15 21:55:43,475 ERROR     File \"/opt/cdstoolbox/cdscompute/cdscompute/services.py\", line 124, in __call__\n",
      "2023-07-15 21:55:43,476 ERROR       return p(*args, **kwargs)\n",
      "2023-07-15 21:55:43,477 ERROR     File \"/opt/cdstoolbox/cdscompute/cdscompute/services.py\", line 60, in __call__\n",
      "2023-07-15 21:55:43,479 ERROR       return self.proc(context, *args, **kwargs)\n",
      "2023-07-15 21:55:43,479 ERROR     File \"/home/cds/cdsservices/services/esgf_wps/__init__.py\", line 30, in execute\n",
      "2023-07-15 21:55:43,480 ERROR       request_facets, request = facets.search(context, request)\n",
      "2023-07-15 21:55:43,481 ERROR     File \"/home/cds/cdsservices/services/esgf_wps/facets.py\", line 61, in search\n",
      "2023-07-15 21:55:43,481 ERROR       raise ValueError(f'No matching data for request {tmp_request}')\n",
      "2023-07-15 21:55:43,482 ERROR   ValueError: No matching data for request {'experiment': 'ssp534-over', 'model': 'MCM-UA-1-0', 'temporal_resolution': 'mon', 'variable': 'rsds'}\n",
      "2023-07-15 21:55:43,518 INFO Welcome to the CDS\n",
      "2023-07-15 21:55:43,519 INFO Sending request to https://cds.climate.copernicus.eu/api/v2/resources/projections-cmip6\n",
      "2023-07-15 21:55:43,570 INFO Request is queued\n"
     ]
    },
    {
     "name": "stdout",
     "output_type": "stream",
     "text": [
      "Some parameters are not matching\n",
      "Test with scenario ssp5_3_4os and model miroc_es2h\n",
      "path_for_file does not exist: the data may not have been downloaded\n",
      "file_download does not exist: the data were not downloaded\n"
     ]
    },
    {
     "name": "stderr",
     "output_type": "stream",
     "text": [
      "2023-07-15 21:55:44,965 INFO Request is failed\n",
      "2023-07-15 21:55:44,966 ERROR Message: an internal error occurred processing your request\n",
      "2023-07-15 21:55:44,966 ERROR Reason:  No matching data for request {'experiment': 'ssp534-over', 'model': 'MIROC-ES2H', 'temporal_resolution': 'mon', 'variable': 'rsds'}\n",
      "2023-07-15 21:55:44,967 ERROR   Traceback (most recent call last):\n",
      "2023-07-15 21:55:44,968 ERROR     File \"/opt/cdstoolbox/cdscompute/cdscompute/cdshandlers/services/handler.py\", line 59, in handle_request\n",
      "2023-07-15 21:55:44,969 ERROR       result = cached(context.method, proc, context, context.args, context.kwargs)\n",
      "2023-07-15 21:55:44,969 ERROR     File \"/opt/cdstoolbox/cdscompute/cdscompute/caching.py\", line 108, in cached\n",
      "2023-07-15 21:55:44,970 ERROR       result = proc(context, *context.args, **context.kwargs)\n",
      "2023-07-15 21:55:44,970 ERROR     File \"/opt/cdstoolbox/cdscompute/cdscompute/services.py\", line 124, in __call__\n",
      "2023-07-15 21:55:44,972 ERROR       return p(*args, **kwargs)\n",
      "2023-07-15 21:55:44,972 ERROR     File \"/opt/cdstoolbox/cdscompute/cdscompute/services.py\", line 60, in __call__\n",
      "2023-07-15 21:55:44,973 ERROR       return self.proc(context, *args, **kwargs)\n",
      "2023-07-15 21:55:44,973 ERROR     File \"/home/cds/cdsservices/services/esgf_wps/__init__.py\", line 30, in execute\n",
      "2023-07-15 21:55:44,973 ERROR       request_facets, request = facets.search(context, request)\n",
      "2023-07-15 21:55:44,976 ERROR     File \"/home/cds/cdsservices/services/esgf_wps/facets.py\", line 61, in search\n",
      "2023-07-15 21:55:44,976 ERROR       raise ValueError(f'No matching data for request {tmp_request}')\n",
      "2023-07-15 21:55:44,977 ERROR   ValueError: No matching data for request {'experiment': 'ssp534-over', 'model': 'MIROC-ES2H', 'temporal_resolution': 'mon', 'variable': 'rsds'}\n",
      "2023-07-15 21:55:45,016 INFO Welcome to the CDS\n",
      "2023-07-15 21:55:45,016 INFO Sending request to https://cds.climate.copernicus.eu/api/v2/resources/projections-cmip6\n",
      "2023-07-15 21:55:45,093 INFO Request is queued\n"
     ]
    },
    {
     "name": "stdout",
     "output_type": "stream",
     "text": [
      "Some parameters are not matching\n",
      "Test with scenario ssp5_3_4os and model mpi_esm_1_2_ham\n",
      "path_for_file does not exist: the data may not have been downloaded\n",
      "file_download does not exist: the data were not downloaded\n"
     ]
    },
    {
     "name": "stderr",
     "output_type": "stream",
     "text": [
      "2023-07-15 21:55:46,146 INFO Request is failed\n",
      "2023-07-15 21:55:46,148 ERROR Message: an internal error occurred processing your request\n",
      "2023-07-15 21:55:46,149 ERROR Reason:  No matching data for request {'experiment': 'ssp534-over', 'model': 'MPI-ESM-1-2-HAM', 'temporal_resolution': 'mon', 'variable': 'rsds'}\n",
      "2023-07-15 21:55:46,150 ERROR   Traceback (most recent call last):\n",
      "2023-07-15 21:55:46,150 ERROR     File \"/opt/cdstoolbox/cdscompute/cdscompute/cdshandlers/services/handler.py\", line 59, in handle_request\n",
      "2023-07-15 21:55:46,151 ERROR       result = cached(context.method, proc, context, context.args, context.kwargs)\n",
      "2023-07-15 21:55:46,152 ERROR     File \"/opt/cdstoolbox/cdscompute/cdscompute/caching.py\", line 108, in cached\n",
      "2023-07-15 21:55:46,152 ERROR       result = proc(context, *context.args, **context.kwargs)\n",
      "2023-07-15 21:55:46,153 ERROR     File \"/opt/cdstoolbox/cdscompute/cdscompute/services.py\", line 124, in __call__\n",
      "2023-07-15 21:55:46,154 ERROR       return p(*args, **kwargs)\n",
      "2023-07-15 21:55:46,155 ERROR     File \"/opt/cdstoolbox/cdscompute/cdscompute/services.py\", line 60, in __call__\n",
      "2023-07-15 21:55:46,155 ERROR       return self.proc(context, *args, **kwargs)\n",
      "2023-07-15 21:55:46,157 ERROR     File \"/home/cds/cdsservices/services/esgf_wps/__init__.py\", line 30, in execute\n",
      "2023-07-15 21:55:46,157 ERROR       request_facets, request = facets.search(context, request)\n",
      "2023-07-15 21:55:46,157 ERROR     File \"/home/cds/cdsservices/services/esgf_wps/facets.py\", line 61, in search\n",
      "2023-07-15 21:55:46,158 ERROR       raise ValueError(f'No matching data for request {tmp_request}')\n",
      "2023-07-15 21:55:46,159 ERROR   ValueError: No matching data for request {'experiment': 'ssp534-over', 'model': 'MPI-ESM-1-2-HAM', 'temporal_resolution': 'mon', 'variable': 'rsds'}\n",
      "2023-07-15 21:55:46,195 INFO Welcome to the CDS\n",
      "2023-07-15 21:55:46,196 INFO Sending request to https://cds.climate.copernicus.eu/api/v2/resources/projections-cmip6\n",
      "2023-07-15 21:55:46,260 INFO Request is queued\n"
     ]
    },
    {
     "name": "stdout",
     "output_type": "stream",
     "text": [
      "Some parameters are not matching\n",
      "Test with scenario ssp5_3_4os and model mpi_esm1_2_lr\n",
      "path_for_file does not exist: the data may not have been downloaded\n",
      "file_download does not exist: the data were not downloaded\n"
     ]
    },
    {
     "name": "stderr",
     "output_type": "stream",
     "text": [
      "2023-07-15 21:55:47,298 INFO Request is failed\n",
      "2023-07-15 21:55:47,300 ERROR Message: an internal error occurred processing your request\n",
      "2023-07-15 21:55:47,301 ERROR Reason:  No matching data for request {'experiment': 'ssp534-over', 'model': 'MPI-ESM1-2-LR', 'temporal_resolution': 'mon', 'variable': 'rsds'}\n",
      "2023-07-15 21:55:47,302 ERROR   Traceback (most recent call last):\n",
      "2023-07-15 21:55:47,302 ERROR     File \"/opt/cdstoolbox/cdscompute/cdscompute/cdshandlers/services/handler.py\", line 59, in handle_request\n",
      "2023-07-15 21:55:47,303 ERROR       result = cached(context.method, proc, context, context.args, context.kwargs)\n",
      "2023-07-15 21:55:47,303 ERROR     File \"/opt/cdstoolbox/cdscompute/cdscompute/caching.py\", line 108, in cached\n",
      "2023-07-15 21:55:47,304 ERROR       result = proc(context, *context.args, **context.kwargs)\n",
      "2023-07-15 21:55:47,304 ERROR     File \"/opt/cdstoolbox/cdscompute/cdscompute/services.py\", line 124, in __call__\n",
      "2023-07-15 21:55:47,306 ERROR       return p(*args, **kwargs)\n",
      "2023-07-15 21:55:47,306 ERROR     File \"/opt/cdstoolbox/cdscompute/cdscompute/services.py\", line 60, in __call__\n",
      "2023-07-15 21:55:47,308 ERROR       return self.proc(context, *args, **kwargs)\n",
      "2023-07-15 21:55:47,309 ERROR     File \"/home/cds/cdsservices/services/esgf_wps/__init__.py\", line 30, in execute\n",
      "2023-07-15 21:55:47,309 ERROR       request_facets, request = facets.search(context, request)\n",
      "2023-07-15 21:55:47,310 ERROR     File \"/home/cds/cdsservices/services/esgf_wps/facets.py\", line 61, in search\n",
      "2023-07-15 21:55:47,310 ERROR       raise ValueError(f'No matching data for request {tmp_request}')\n",
      "2023-07-15 21:55:47,310 ERROR   ValueError: No matching data for request {'experiment': 'ssp534-over', 'model': 'MPI-ESM1-2-LR', 'temporal_resolution': 'mon', 'variable': 'rsds'}\n",
      "2023-07-15 21:55:47,359 INFO Welcome to the CDS\n",
      "2023-07-15 21:55:47,360 INFO Sending request to https://cds.climate.copernicus.eu/api/v2/resources/projections-cmip6\n",
      "2023-07-15 21:55:47,402 INFO Request is queued\n"
     ]
    },
    {
     "name": "stdout",
     "output_type": "stream",
     "text": [
      "Some parameters are not matching\n",
      "Test with scenario ssp5_3_4os and model nesm3\n",
      "path_for_file does not exist: the data may not have been downloaded\n",
      "file_download does not exist: the data were not downloaded\n"
     ]
    },
    {
     "name": "stderr",
     "output_type": "stream",
     "text": [
      "2023-07-15 21:55:48,441 INFO Request is failed\n",
      "2023-07-15 21:55:48,442 ERROR Message: an internal error occurred processing your request\n",
      "2023-07-15 21:55:48,443 ERROR Reason:  No matching data for request {'experiment': 'ssp534-over', 'model': 'NESM3', 'temporal_resolution': 'mon', 'variable': 'rsds'}\n",
      "2023-07-15 21:55:48,443 ERROR   Traceback (most recent call last):\n",
      "2023-07-15 21:55:48,444 ERROR     File \"/opt/cdstoolbox/cdscompute/cdscompute/cdshandlers/services/handler.py\", line 59, in handle_request\n",
      "2023-07-15 21:55:48,445 ERROR       result = cached(context.method, proc, context, context.args, context.kwargs)\n",
      "2023-07-15 21:55:48,445 ERROR     File \"/opt/cdstoolbox/cdscompute/cdscompute/caching.py\", line 108, in cached\n",
      "2023-07-15 21:55:48,445 ERROR       result = proc(context, *context.args, **context.kwargs)\n",
      "2023-07-15 21:55:48,446 ERROR     File \"/opt/cdstoolbox/cdscompute/cdscompute/services.py\", line 124, in __call__\n",
      "2023-07-15 21:55:48,447 ERROR       return p(*args, **kwargs)\n",
      "2023-07-15 21:55:48,447 ERROR     File \"/opt/cdstoolbox/cdscompute/cdscompute/services.py\", line 60, in __call__\n",
      "2023-07-15 21:55:48,447 ERROR       return self.proc(context, *args, **kwargs)\n",
      "2023-07-15 21:55:48,448 ERROR     File \"/home/cds/cdsservices/services/esgf_wps/__init__.py\", line 30, in execute\n",
      "2023-07-15 21:55:48,449 ERROR       request_facets, request = facets.search(context, request)\n",
      "2023-07-15 21:55:48,450 ERROR     File \"/home/cds/cdsservices/services/esgf_wps/facets.py\", line 61, in search\n",
      "2023-07-15 21:55:48,450 ERROR       raise ValueError(f'No matching data for request {tmp_request}')\n",
      "2023-07-15 21:55:48,451 ERROR   ValueError: No matching data for request {'experiment': 'ssp534-over', 'model': 'NESM3', 'temporal_resolution': 'mon', 'variable': 'rsds'}\n",
      "2023-07-15 21:55:48,489 INFO Welcome to the CDS\n",
      "2023-07-15 21:55:48,491 INFO Sending request to https://cds.climate.copernicus.eu/api/v2/resources/projections-cmip6\n",
      "2023-07-15 21:55:48,575 INFO Request is queued\n"
     ]
    },
    {
     "name": "stdout",
     "output_type": "stream",
     "text": [
      "Some parameters are not matching\n",
      "Test with scenario ssp5_3_4os and model noresm2_lm\n",
      "path_for_file does not exist: the data may not have been downloaded\n",
      "file_download does not exist: the data were not downloaded\n"
     ]
    },
    {
     "name": "stderr",
     "output_type": "stream",
     "text": [
      "2023-07-15 21:55:49,623 INFO Request is failed\n",
      "2023-07-15 21:55:49,624 ERROR Message: an internal error occurred processing your request\n",
      "2023-07-15 21:55:49,625 ERROR Reason:  No matching data for request {'experiment': 'ssp534-over', 'model': 'NorESM2-LM', 'temporal_resolution': 'mon', 'variable': 'rsds'}\n",
      "2023-07-15 21:55:49,625 ERROR   Traceback (most recent call last):\n",
      "2023-07-15 21:55:49,626 ERROR     File \"/opt/cdstoolbox/cdscompute/cdscompute/cdshandlers/services/handler.py\", line 59, in handle_request\n",
      "2023-07-15 21:55:49,627 ERROR       result = cached(context.method, proc, context, context.args, context.kwargs)\n",
      "2023-07-15 21:55:49,627 ERROR     File \"/opt/cdstoolbox/cdscompute/cdscompute/caching.py\", line 108, in cached\n",
      "2023-07-15 21:55:49,628 ERROR       result = proc(context, *context.args, **context.kwargs)\n",
      "2023-07-15 21:55:49,628 ERROR     File \"/opt/cdstoolbox/cdscompute/cdscompute/services.py\", line 124, in __call__\n",
      "2023-07-15 21:55:49,629 ERROR       return p(*args, **kwargs)\n",
      "2023-07-15 21:55:49,630 ERROR     File \"/opt/cdstoolbox/cdscompute/cdscompute/services.py\", line 60, in __call__\n",
      "2023-07-15 21:55:49,631 ERROR       return self.proc(context, *args, **kwargs)\n",
      "2023-07-15 21:55:49,632 ERROR     File \"/home/cds/cdsservices/services/esgf_wps/__init__.py\", line 30, in execute\n",
      "2023-07-15 21:55:49,632 ERROR       request_facets, request = facets.search(context, request)\n",
      "2023-07-15 21:55:49,632 ERROR     File \"/home/cds/cdsservices/services/esgf_wps/facets.py\", line 61, in search\n",
      "2023-07-15 21:55:49,634 ERROR       raise ValueError(f'No matching data for request {tmp_request}')\n",
      "2023-07-15 21:55:49,635 ERROR   ValueError: No matching data for request {'experiment': 'ssp534-over', 'model': 'NorESM2-LM', 'temporal_resolution': 'mon', 'variable': 'rsds'}\n",
      "2023-07-15 21:55:49,669 INFO Welcome to the CDS\n",
      "2023-07-15 21:55:49,671 INFO Sending request to https://cds.climate.copernicus.eu/api/v2/resources/projections-cmip6\n",
      "2023-07-15 21:55:49,728 INFO Request is queued\n"
     ]
    },
    {
     "name": "stdout",
     "output_type": "stream",
     "text": [
      "Some parameters are not matching\n",
      "Test with scenario ssp5_3_4os and model sam0_unicon\n",
      "path_for_file does not exist: the data may not have been downloaded\n",
      "file_download does not exist: the data were not downloaded\n"
     ]
    },
    {
     "name": "stderr",
     "output_type": "stream",
     "text": [
      "2023-07-15 21:55:50,777 INFO Request is failed\n",
      "2023-07-15 21:55:50,777 ERROR Message: an internal error occurred processing your request\n",
      "2023-07-15 21:55:50,778 ERROR Reason:  No matching data for request {'experiment': 'ssp534-over', 'model': 'SAM0-UNICON', 'temporal_resolution': 'mon', 'variable': 'rsds'}\n",
      "2023-07-15 21:55:50,779 ERROR   Traceback (most recent call last):\n",
      "2023-07-15 21:55:50,779 ERROR     File \"/opt/cdstoolbox/cdscompute/cdscompute/cdshandlers/services/handler.py\", line 59, in handle_request\n",
      "2023-07-15 21:55:50,780 ERROR       result = cached(context.method, proc, context, context.args, context.kwargs)\n",
      "2023-07-15 21:55:50,781 ERROR     File \"/opt/cdstoolbox/cdscompute/cdscompute/caching.py\", line 108, in cached\n",
      "2023-07-15 21:55:50,782 ERROR       result = proc(context, *context.args, **context.kwargs)\n",
      "2023-07-15 21:55:50,783 ERROR     File \"/opt/cdstoolbox/cdscompute/cdscompute/services.py\", line 124, in __call__\n",
      "2023-07-15 21:55:50,783 ERROR       return p(*args, **kwargs)\n",
      "2023-07-15 21:55:50,784 ERROR     File \"/opt/cdstoolbox/cdscompute/cdscompute/services.py\", line 60, in __call__\n",
      "2023-07-15 21:55:50,784 ERROR       return self.proc(context, *args, **kwargs)\n",
      "2023-07-15 21:55:50,786 ERROR     File \"/home/cds/cdsservices/services/esgf_wps/__init__.py\", line 30, in execute\n",
      "2023-07-15 21:55:50,786 ERROR       request_facets, request = facets.search(context, request)\n",
      "2023-07-15 21:55:50,786 ERROR     File \"/home/cds/cdsservices/services/esgf_wps/facets.py\", line 61, in search\n",
      "2023-07-15 21:55:50,787 ERROR       raise ValueError(f'No matching data for request {tmp_request}')\n",
      "2023-07-15 21:55:50,788 ERROR   ValueError: No matching data for request {'experiment': 'ssp534-over', 'model': 'SAM0-UNICON', 'temporal_resolution': 'mon', 'variable': 'rsds'}\n",
      "2023-07-15 21:55:50,825 INFO Welcome to the CDS\n",
      "2023-07-15 21:55:50,826 INFO Sending request to https://cds.climate.copernicus.eu/api/v2/resources/projections-cmip6\n",
      "2023-07-15 21:55:50,876 INFO Request is queued\n"
     ]
    },
    {
     "name": "stdout",
     "output_type": "stream",
     "text": [
      "Some parameters are not matching\n",
      "Test with scenario ssp5_3_4os and model ukesm1_0_ll\n",
      "path_for_file does not exist: the data may not have been downloaded\n",
      "file_download does not exist: the data were not downloaded\n"
     ]
    },
    {
     "name": "stderr",
     "output_type": "stream",
     "text": [
      "2023-07-15 21:55:51,924 INFO Request is running\n",
      "2023-07-15 21:55:59,195 INFO Request is failed\n",
      "2023-07-15 21:55:59,196 ERROR Message: an internal error occurred processing your request\n",
      "2023-07-15 21:55:59,197 ERROR Reason:  Process error: 2015\n",
      "2023-07-15 21:55:59,198 ERROR   Traceback (most recent call last):\n",
      "2023-07-15 21:55:59,198 ERROR     File \"/usr/local/lib/python3.6/site-packages/rooki/results.py\", line 33, in url\n",
      "2023-07-15 21:55:59,199 ERROR       return self.response.get()[0]\n",
      "2023-07-15 21:55:59,200 ERROR     File \"/usr/local/lib/python3.6/site-packages/birdy/client/outputs.py\", line 40, in get\n",
      "2023-07-15 21:55:59,200 ERROR       raise ProcessFailed(\"Sorry, process failed.\")\n",
      "2023-07-15 21:55:59,201 ERROR   birdy.exceptions.ProcessFailed: Sorry, process failed.\n",
      "2023-07-15 21:55:59,254 INFO Welcome to the CDS\n",
      "2023-07-15 21:55:59,255 INFO Sending request to https://cds.climate.copernicus.eu/api/v2/resources/projections-cmip6\n",
      "2023-07-15 21:55:59,348 INFO Request is queued\n"
     ]
    },
    {
     "name": "stdout",
     "output_type": "stream",
     "text": [
      "Some parameters are not matching\n",
      "Test with scenario ssp2_4_5 and model access_cm2\n",
      "path_for_file does not exist: the data may not have been downloaded\n",
      "file_download does not exist: the data were not downloaded\n"
     ]
    },
    {
     "name": "stderr",
     "output_type": "stream",
     "text": [
      "2023-07-15 21:56:00,395 INFO Request is failed\n",
      "2023-07-15 21:56:00,396 ERROR Message: an internal error occurred processing your request\n",
      "2023-07-15 21:56:00,396 ERROR Reason:  500 Server Error: INTERNAL SERVER ERROR for url: http://compute.mips.copernicus-climate.eu/wps?service=WPS&request=DescribeProcess&version=1.0.0&identifier=all\n",
      "2023-07-15 21:56:00,398 ERROR   Traceback (most recent call last):\n",
      "2023-07-15 21:56:00,398 ERROR     File \"/opt/cdstoolbox/cdscompute/cdscompute/cdshandlers/services/handler.py\", line 59, in handle_request\n",
      "2023-07-15 21:56:00,398 ERROR       result = cached(context.method, proc, context, context.args, context.kwargs)\n",
      "2023-07-15 21:56:00,399 ERROR     File \"/opt/cdstoolbox/cdscompute/cdscompute/caching.py\", line 108, in cached\n",
      "2023-07-15 21:56:00,399 ERROR       result = proc(context, *context.args, **context.kwargs)\n",
      "2023-07-15 21:56:00,400 ERROR     File \"/opt/cdstoolbox/cdscompute/cdscompute/services.py\", line 124, in __call__\n",
      "2023-07-15 21:56:00,401 ERROR       return p(*args, **kwargs)\n",
      "2023-07-15 21:56:00,402 ERROR     File \"/opt/cdstoolbox/cdscompute/cdscompute/services.py\", line 60, in __call__\n",
      "2023-07-15 21:56:00,402 ERROR       return self.proc(context, *args, **kwargs)\n",
      "2023-07-15 21:56:00,402 ERROR     File \"/home/cds/cdsservices/services/esgf_wps/__init__.py\", line 41, in execute\n",
      "2023-07-15 21:56:00,403 ERROR       result = requests.process(context, request_facets, request, **process_kwargs)\n",
      "2023-07-15 21:56:00,405 ERROR     File \"/home/cds/cdsservices/services/esgf_wps/requests.py\", line 55, in process\n",
      "2023-07-15 21:56:00,405 ERROR       response = workflow.orchestrate()\n",
      "2023-07-15 21:56:00,406 ERROR     File \"/usr/local/lib/python3.6/site-packages/rooki/operators.py\", line 40, in orchestrate\n",
      "2023-07-15 21:56:00,406 ERROR       reinit()\n",
      "2023-07-15 21:56:00,407 ERROR     File \"/usr/local/lib/python3.6/site-packages/rooki/operators.py\", line 13, in reinit\n",
      "2023-07-15 21:56:00,407 ERROR       rooki = Rooki()\n",
      "2023-07-15 21:56:00,408 ERROR     File \"/usr/local/lib/python3.6/site-packages/rooki/client.py\", line 49, in __init__\n",
      "2023-07-15 21:56:00,409 ERROR       lineage=lineage,\n",
      "2023-07-15 21:56:00,410 ERROR     File \"/usr/local/lib/python3.6/site-packages/birdy/client/base.py\", line 155, in __init__\n",
      "2023-07-15 21:56:00,410 ERROR       self._processes = self._get_process_description(processes, xml=desc_xml)\n",
      "2023-07-15 21:56:00,410 ERROR     File \"/usr/local/lib/python3.6/site-packages/birdy/client/base.py\", line 201, in _get_process_description\n",
      "2023-07-15 21:56:00,411 ERROR       ps = self._wps.describeprocess(\"all\", xml=xml)\n",
      "2023-07-15 21:56:00,411 ERROR     File \"/usr/local/lib/python3.6/site-packages/owslib/wps.py\", line 303, in describeprocess\n",
      "2023-07-15 21:56:00,412 ERROR       self.url, identifier, headers=self.headers)\n",
      "2023-07-15 21:56:00,413 ERROR     File \"/usr/local/lib/python3.6/site-packages/owslib/wps.py\", line 582, in readFromUrl\n",
      "2023-07-15 21:56:00,413 ERROR       headers=headers, verify=verify, cert=cert)\n",
      "2023-07-15 21:56:00,415 ERROR     File \"/usr/local/lib/python3.6/site-packages/owslib/wps.py\", line 509, in _readFromUrl\n",
      "2023-07-15 21:56:00,416 ERROR       headers=headers, verify=self.auth.verify, cert=self.auth.cert, timeout=self.timeout)\n",
      "2023-07-15 21:56:00,416 ERROR     File \"/usr/local/lib/python3.6/site-packages/owslib/util.py\", line 209, in openURL\n",
      "2023-07-15 21:56:00,417 ERROR       req.raise_for_status()\n",
      "2023-07-15 21:56:00,417 ERROR     File \"/usr/local/lib/python3.6/site-packages/requests/models.py\", line 960, in raise_for_status\n",
      "2023-07-15 21:56:00,418 ERROR       raise HTTPError(http_error_msg, response=self)\n",
      "2023-07-15 21:56:00,418 ERROR   requests.exceptions.HTTPError: 500 Server Error: INTERNAL SERVER ERROR for url: http://compute.mips.copernicus-climate.eu/wps?service=WPS&request=DescribeProcess&version=1.0.0&identifier=all\n",
      "2023-07-15 21:56:00,485 INFO Welcome to the CDS\n",
      "2023-07-15 21:56:00,485 INFO Sending request to https://cds.climate.copernicus.eu/api/v2/resources/projections-cmip6\n",
      "2023-07-15 21:56:00,541 INFO Request is queued\n"
     ]
    },
    {
     "name": "stdout",
     "output_type": "stream",
     "text": [
      "Some parameters are not matching\n",
      "Test with scenario ssp2_4_5 and model awi_cm_1_1_mr\n",
      "path_for_file does not exist: the data may not have been downloaded\n",
      "file_download does not exist: the data were not downloaded\n"
     ]
    },
    {
     "name": "stderr",
     "output_type": "stream",
     "text": [
      "2023-07-15 21:56:01,577 INFO Request is failed\n",
      "2023-07-15 21:56:01,578 ERROR Message: an internal error occurred processing your request\n",
      "2023-07-15 21:56:01,579 ERROR Reason:  500 Server Error: INTERNAL SERVER ERROR for url: http://compute.mips.copernicus-climate.eu/wps?service=WPS&request=DescribeProcess&version=1.0.0&identifier=all\n",
      "2023-07-15 21:56:01,580 ERROR   Traceback (most recent call last):\n",
      "2023-07-15 21:56:01,580 ERROR     File \"/opt/cdstoolbox/cdscompute/cdscompute/cdshandlers/services/handler.py\", line 59, in handle_request\n",
      "2023-07-15 21:56:01,581 ERROR       result = cached(context.method, proc, context, context.args, context.kwargs)\n",
      "2023-07-15 21:56:01,581 ERROR     File \"/opt/cdstoolbox/cdscompute/cdscompute/caching.py\", line 108, in cached\n",
      "2023-07-15 21:56:01,582 ERROR       result = proc(context, *context.args, **context.kwargs)\n",
      "2023-07-15 21:56:01,582 ERROR     File \"/opt/cdstoolbox/cdscompute/cdscompute/services.py\", line 124, in __call__\n",
      "2023-07-15 21:56:01,583 ERROR       return p(*args, **kwargs)\n",
      "2023-07-15 21:56:01,583 ERROR     File \"/opt/cdstoolbox/cdscompute/cdscompute/services.py\", line 60, in __call__\n",
      "2023-07-15 21:56:01,584 ERROR       return self.proc(context, *args, **kwargs)\n",
      "2023-07-15 21:56:01,584 ERROR     File \"/home/cds/cdsservices/services/esgf_wps/__init__.py\", line 41, in execute\n",
      "2023-07-15 21:56:01,584 ERROR       result = requests.process(context, request_facets, request, **process_kwargs)\n",
      "2023-07-15 21:56:01,585 ERROR     File \"/home/cds/cdsservices/services/esgf_wps/requests.py\", line 55, in process\n",
      "2023-07-15 21:56:01,585 ERROR       response = workflow.orchestrate()\n",
      "2023-07-15 21:56:01,586 ERROR     File \"/usr/local/lib/python3.6/site-packages/rooki/operators.py\", line 40, in orchestrate\n",
      "2023-07-15 21:56:01,587 ERROR       reinit()\n",
      "2023-07-15 21:56:01,587 ERROR     File \"/usr/local/lib/python3.6/site-packages/rooki/operators.py\", line 13, in reinit\n",
      "2023-07-15 21:56:01,588 ERROR       rooki = Rooki()\n",
      "2023-07-15 21:56:01,588 ERROR     File \"/usr/local/lib/python3.6/site-packages/rooki/client.py\", line 49, in __init__\n",
      "2023-07-15 21:56:01,588 ERROR       lineage=lineage,\n",
      "2023-07-15 21:56:01,590 ERROR     File \"/usr/local/lib/python3.6/site-packages/birdy/client/base.py\", line 155, in __init__\n",
      "2023-07-15 21:56:01,591 ERROR       self._processes = self._get_process_description(processes, xml=desc_xml)\n",
      "2023-07-15 21:56:01,591 ERROR     File \"/usr/local/lib/python3.6/site-packages/birdy/client/base.py\", line 201, in _get_process_description\n",
      "2023-07-15 21:56:01,592 ERROR       ps = self._wps.describeprocess(\"all\", xml=xml)\n",
      "2023-07-15 21:56:01,593 ERROR     File \"/usr/local/lib/python3.6/site-packages/owslib/wps.py\", line 303, in describeprocess\n",
      "2023-07-15 21:56:01,594 ERROR       self.url, identifier, headers=self.headers)\n",
      "2023-07-15 21:56:01,595 ERROR     File \"/usr/local/lib/python3.6/site-packages/owslib/wps.py\", line 582, in readFromUrl\n",
      "2023-07-15 21:56:01,595 ERROR       headers=headers, verify=verify, cert=cert)\n",
      "2023-07-15 21:56:01,595 ERROR     File \"/usr/local/lib/python3.6/site-packages/owslib/wps.py\", line 509, in _readFromUrl\n",
      "2023-07-15 21:56:01,596 ERROR       headers=headers, verify=self.auth.verify, cert=self.auth.cert, timeout=self.timeout)\n",
      "2023-07-15 21:56:01,596 ERROR     File \"/usr/local/lib/python3.6/site-packages/owslib/util.py\", line 209, in openURL\n",
      "2023-07-15 21:56:01,597 ERROR       req.raise_for_status()\n",
      "2023-07-15 21:56:01,597 ERROR     File \"/usr/local/lib/python3.6/site-packages/requests/models.py\", line 960, in raise_for_status\n",
      "2023-07-15 21:56:01,598 ERROR       raise HTTPError(http_error_msg, response=self)\n",
      "2023-07-15 21:56:01,599 ERROR   requests.exceptions.HTTPError: 500 Server Error: INTERNAL SERVER ERROR for url: http://compute.mips.copernicus-climate.eu/wps?service=WPS&request=DescribeProcess&version=1.0.0&identifier=all\n",
      "2023-07-15 21:56:01,634 INFO Welcome to the CDS\n",
      "2023-07-15 21:56:01,635 INFO Sending request to https://cds.climate.copernicus.eu/api/v2/resources/projections-cmip6\n",
      "2023-07-15 21:56:01,759 INFO Request is queued\n"
     ]
    },
    {
     "name": "stdout",
     "output_type": "stream",
     "text": [
      "Some parameters are not matching\n",
      "Test with scenario ssp2_4_5 and model bcc_csm2_mr\n",
      "path_for_file does not exist: the data may not have been downloaded\n",
      "file_download does not exist: the data were not downloaded\n"
     ]
    },
    {
     "name": "stderr",
     "output_type": "stream",
     "text": [
      "2023-07-15 21:56:02,808 INFO Request is failed\n",
      "2023-07-15 21:56:02,809 ERROR Message: an internal error occurred processing your request\n",
      "2023-07-15 21:56:02,809 ERROR Reason:  execution failed\n",
      "2023-07-15 21:56:02,810 ERROR   Traceback (most recent call last):\n",
      "2023-07-15 21:56:02,811 ERROR     File \"/usr/local/lib/python3.6/site-packages/birdy/client/base.py\", line 386, in _execute\n",
      "2023-07-15 21:56:02,812 ERROR       lineage=self._lineage,\n",
      "2023-07-15 21:56:02,812 ERROR     File \"/usr/local/lib/python3.6/site-packages/owslib/wps.py\", line 359, in execute\n",
      "2023-07-15 21:56:02,813 ERROR       response = execution.submitRequest(request)\n",
      "2023-07-15 21:56:02,814 ERROR     File \"/usr/local/lib/python3.6/site-packages/owslib/wps.py\", line 912, in submitRequest\n",
      "2023-07-15 21:56:02,814 ERROR       self.url, request, method='Post', headers=self.headers)\n",
      "2023-07-15 21:56:02,815 ERROR     File \"/usr/local/lib/python3.6/site-packages/owslib/wps.py\", line 603, in readFromUrl\n",
      "2023-07-15 21:56:02,815 ERROR       headers=headers, verify=verify, cert=cert)\n",
      "2023-07-15 21:56:02,815 ERROR     File \"/usr/local/lib/python3.6/site-packages/owslib/wps.py\", line 515, in _readFromUrl\n",
      "2023-07-15 21:56:02,816 ERROR       headers=headers, verify=self.auth.verify, cert=self.auth.cert, timeout=timeout)\n",
      "2023-07-15 21:56:02,817 ERROR     File \"/usr/local/lib/python3.6/site-packages/owslib/util.py\", line 209, in openURL\n",
      "2023-07-15 21:56:02,817 ERROR       req.raise_for_status()\n",
      "2023-07-15 21:56:02,819 ERROR     File \"/usr/local/lib/python3.6/site-packages/requests/models.py\", line 960, in raise_for_status\n",
      "2023-07-15 21:56:02,820 ERROR       raise HTTPError(http_error_msg, response=self)\n",
      "2023-07-15 21:56:02,820 ERROR   requests.exceptions.HTTPError: 500 Server Error: INTERNAL SERVER ERROR for url: http://compute.mips.copernicus-climate.eu/wps\n",
      "2023-07-15 21:56:02,857 INFO Welcome to the CDS\n",
      "2023-07-15 21:56:02,858 INFO Sending request to https://cds.climate.copernicus.eu/api/v2/resources/projections-cmip6\n",
      "2023-07-15 21:56:02,920 INFO Request is queued\n"
     ]
    },
    {
     "name": "stdout",
     "output_type": "stream",
     "text": [
      "Some parameters are not matching\n",
      "Test with scenario ssp2_4_5 and model cams_csm1_0\n",
      "path_for_file does not exist: the data may not have been downloaded\n",
      "file_download does not exist: the data were not downloaded\n"
     ]
    },
    {
     "name": "stderr",
     "output_type": "stream",
     "text": [
      "2023-07-15 21:56:03,965 INFO Request is running\n",
      "2023-07-15 21:56:16,315 INFO Request is failed\n",
      "2023-07-15 21:56:16,316 ERROR Message: an internal error occurred processing your request\n",
      "2023-07-15 21:56:16,317 ERROR Reason:  Process error: 2100\n",
      "2023-07-15 21:56:16,317 ERROR   Traceback (most recent call last):\n",
      "2023-07-15 21:56:16,318 ERROR     File \"/usr/local/lib/python3.6/site-packages/rooki/results.py\", line 33, in url\n",
      "2023-07-15 21:56:16,319 ERROR       return self.response.get()[0]\n",
      "2023-07-15 21:56:16,319 ERROR     File \"/usr/local/lib/python3.6/site-packages/birdy/client/outputs.py\", line 40, in get\n",
      "2023-07-15 21:56:16,320 ERROR       raise ProcessFailed(\"Sorry, process failed.\")\n",
      "2023-07-15 21:56:16,320 ERROR   birdy.exceptions.ProcessFailed: Sorry, process failed.\n",
      "2023-07-15 21:56:16,361 INFO Welcome to the CDS\n",
      "2023-07-15 21:56:16,362 INFO Sending request to https://cds.climate.copernicus.eu/api/v2/resources/projections-cmip6\n",
      "2023-07-15 21:56:16,417 INFO Request is queued\n"
     ]
    },
    {
     "name": "stdout",
     "output_type": "stream",
     "text": [
      "Some parameters are not matching\n",
      "Test with scenario ssp2_4_5 and model canesm5_canoe\n",
      "path_for_file does not exist: the data may not have been downloaded\n",
      "file_download does not exist: the data were not downloaded\n"
     ]
    },
    {
     "name": "stderr",
     "output_type": "stream",
     "text": [
      "2023-07-15 21:56:17,467 INFO Request is running\n",
      "2023-07-15 21:56:24,705 INFO Request is completed\n",
      "2023-07-15 21:56:24,708 INFO Downloading https://download-0000-clone.copernicus-climate.eu/cache-compute-0000/cache/data9/adaptor.esgf_wps.retrieve-1689450983.794021-12196-10-ddc49761-7082-420e-a8d4-177db5f8ad66.zip to download.zip (472.4K)\n",
      "2023-07-15 21:56:25,220 INFO Download rate 925.3K/s                                                                    \n"
     ]
    },
    {
     "name": "stdout",
     "output_type": "stream",
     "text": [
      "The file has been download\n",
      "\\\\COWI.net\\projects\\A245000\\A248363\\CRVA\\Datasets\\radiation\\surface_downwelling_shortwave_radiation\\Copernicus-CMIP6\\raw_data\\2015-2100\\ssp2_4_5\\canesm5_canoe\\all-Mozambique\n",
      "Path for the file is created, did not existed before\n"
     ]
    },
    {
     "name": "stderr",
     "output_type": "stream",
     "text": [
      "2023-07-15 21:56:26,366 INFO Welcome to the CDS\n",
      "2023-07-15 21:56:26,367 INFO Sending request to https://cds.climate.copernicus.eu/api/v2/resources/projections-cmip6\n",
      "2023-07-15 21:56:26,412 INFO Request is queued\n"
     ]
    },
    {
     "name": "stdout",
     "output_type": "stream",
     "text": [
      "the file named rsds_Amon_CanESM5-CanOE_ssp245_r1i1p2f1_gn_20150116-21001216_v20190429.nc was moved\n",
      "\n",
      " The downloaded file is extracted\n",
      "The file has been extracted\n",
      "Test with scenario ssp2_4_5 and model cesm2_fv2\n",
      "path_for_file does not exist: the data may not have been downloaded\n",
      "file_download does not exist: the data were not downloaded\n"
     ]
    },
    {
     "name": "stderr",
     "output_type": "stream",
     "text": [
      "2023-07-15 21:56:27,451 INFO Request is failed\n",
      "2023-07-15 21:56:27,452 ERROR Message: an internal error occurred processing your request\n",
      "2023-07-15 21:56:27,453 ERROR Reason:  No matching data for request {'experiment': 'ssp245', 'model': 'CESM2-FV2', 'temporal_resolution': 'mon', 'variable': 'rsds'}\n",
      "2023-07-15 21:56:27,454 ERROR   Traceback (most recent call last):\n",
      "2023-07-15 21:56:27,455 ERROR     File \"/opt/cdstoolbox/cdscompute/cdscompute/cdshandlers/services/handler.py\", line 59, in handle_request\n",
      "2023-07-15 21:56:27,456 ERROR       result = cached(context.method, proc, context, context.args, context.kwargs)\n",
      "2023-07-15 21:56:27,456 ERROR     File \"/opt/cdstoolbox/cdscompute/cdscompute/caching.py\", line 108, in cached\n",
      "2023-07-15 21:56:27,457 ERROR       result = proc(context, *context.args, **context.kwargs)\n",
      "2023-07-15 21:56:27,457 ERROR     File \"/opt/cdstoolbox/cdscompute/cdscompute/services.py\", line 124, in __call__\n",
      "2023-07-15 21:56:27,458 ERROR       return p(*args, **kwargs)\n",
      "2023-07-15 21:56:27,459 ERROR     File \"/opt/cdstoolbox/cdscompute/cdscompute/services.py\", line 60, in __call__\n",
      "2023-07-15 21:56:27,459 ERROR       return self.proc(context, *args, **kwargs)\n",
      "2023-07-15 21:56:27,460 ERROR     File \"/home/cds/cdsservices/services/esgf_wps/__init__.py\", line 30, in execute\n",
      "2023-07-15 21:56:27,460 ERROR       request_facets, request = facets.search(context, request)\n",
      "2023-07-15 21:56:27,461 ERROR     File \"/home/cds/cdsservices/services/esgf_wps/facets.py\", line 61, in search\n",
      "2023-07-15 21:56:27,461 ERROR       raise ValueError(f'No matching data for request {tmp_request}')\n",
      "2023-07-15 21:56:27,462 ERROR   ValueError: No matching data for request {'experiment': 'ssp245', 'model': 'CESM2-FV2', 'temporal_resolution': 'mon', 'variable': 'rsds'}\n",
      "2023-07-15 21:56:27,507 INFO Welcome to the CDS\n",
      "2023-07-15 21:56:27,507 INFO Sending request to https://cds.climate.copernicus.eu/api/v2/resources/projections-cmip6\n",
      "2023-07-15 21:56:27,574 INFO Request is queued\n"
     ]
    },
    {
     "name": "stdout",
     "output_type": "stream",
     "text": [
      "Some parameters are not matching\n",
      "Test with scenario ssp2_4_5 and model cesm2_waccm_fv2\n",
      "path_for_file does not exist: the data may not have been downloaded\n",
      "file_download does not exist: the data were not downloaded\n"
     ]
    }
   ],
   "source": [
    "download_copernicus(temporal_resolution,year_str,scenarios,copernicus_elements.models,out_path, global_variable, name_variable,area,name_area)"
   ]
  },
  {
   "cell_type": "code",
   "execution_count": null,
   "id": "9d3028ab",
   "metadata": {},
   "outputs": [],
   "source": []
  },
  {
   "cell_type": "code",
   "execution_count": null,
   "id": "94301813",
   "metadata": {},
   "outputs": [],
   "source": []
  },
  {
   "cell_type": "code",
   "execution_count": null,
   "id": "ebfd28b9",
   "metadata": {},
   "outputs": [],
   "source": []
  },
  {
   "cell_type": "code",
   "execution_count": null,
   "id": "1d9e0c24",
   "metadata": {},
   "outputs": [],
   "source": []
  },
  {
   "cell_type": "code",
   "execution_count": null,
   "id": "bb727fe0",
   "metadata": {},
   "outputs": [],
   "source": []
  },
  {
   "cell_type": "code",
   "execution_count": null,
   "id": "d8afbeb1",
   "metadata": {},
   "outputs": [],
   "source": []
  },
  {
   "cell_type": "code",
   "execution_count": null,
   "id": "0edf51ba",
   "metadata": {},
   "outputs": [],
   "source": []
  },
  {
   "cell_type": "code",
   "execution_count": null,
   "id": "9b008fe8",
   "metadata": {},
   "outputs": [],
   "source": []
  },
  {
   "cell_type": "code",
   "execution_count": null,
   "id": "095b0101",
   "metadata": {},
   "outputs": [],
   "source": []
  }
 ],
 "metadata": {
  "kernelspec": {
   "display_name": "Python 3 (ipykernel)",
   "language": "python",
   "name": "python3"
  },
  "language_info": {
   "codemirror_mode": {
    "name": "ipython",
    "version": 3
   },
   "file_extension": ".py",
   "mimetype": "text/x-python",
   "name": "python",
   "nbconvert_exporter": "python",
   "pygments_lexer": "ipython3",
   "version": "3.10.6"
  }
 },
 "nbformat": 4,
 "nbformat_minor": 5
}
