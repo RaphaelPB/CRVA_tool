{
 "cells": [
  {
   "cell_type": "code",
   "execution_count": null,
   "id": "7a6cb8b7",
   "metadata": {},
   "outputs": [],
   "source": [
    "import requests\n",
    "import pandas as pd\n",
    "\n",
    "import os\n",
    "import os.path\n",
    "import netCDF4 as nc#not directly used but needs to be imported for some nc4 files manipulations, use for nc files\n",
    "from netCDF4 import Dataset\n",
    "import numpy as np\n",
    "import numpy.ma as ma"
   ]
  },
  {
   "cell_type": "code",
   "execution_count": null,
   "id": "3b03976f",
   "metadata": {},
   "outputs": [],
   "source": [
    "# register information from csv file\n",
    "all_urls = pd.read_csv(r'C:\\Users\\CLMRX\\OneDrive - COWI\\Documents\\GitHub\\CRVA_tool\\outputs\\NEX-GDDP-CMIP6\\gddp-cmip6-thredds-fileserver.csv')"
   ]
  },
  {
   "cell_type": "code",
   "execution_count": null,
   "id": "bc6e550f",
   "metadata": {},
   "outputs": [],
   "source": [
    "### make all elements of the csv into a readable list\n",
    "\n",
    "temp_list = all_urls[[' fileUrl']].T # transpose csv\n",
    "temp_list=temp_list.values.tolist() # have all transpose value in a list\n",
    "temp_list=temp_list[0] # remove external bracket[]\n",
    "url_list=[s.replace(' ', '') for s in temp_list] # remove the space before the urls"
   ]
  },
  {
   "cell_type": "code",
   "execution_count": null,
   "id": "1d0cbf0e",
   "metadata": {},
   "outputs": [],
   "source": [
    "for file in url_list: # for loop to download the file in each url\n",
    "    # find the name of the file\n",
    "    index_before_name=file.rfind('/') # returns the highest index where the last character '/' was found, which is just before the name of the file    \n",
    "    f_name = file[index_before_name+1:len(file)-3] # return the name of the file as a string\n",
    "    # check if the file was already downloaded\n",
    "    test = os.path.join('//COWI.net/projects/A245000/A248363/CRVA/Datasets/NEX-GDDP-CMIP6/',f_name+'.nc')\n",
    "    if os.path.isfile(test): # if the file was aleready download\n",
    "        continue # continue the for loop without executing the code after this line. The code follonwing download the fil\n",
    "        # if we entered the if, the file was already dowloaded, no need to downloaded it again\n",
    "    # the file was not downloaded, the following code will permit to download it in the servor for dataset\n",
    "    r = requests.get(file) # return the url were data need to be downloaded\n",
    "    # download data in the servor for datasets\n",
    "    with open(f'//COWI.net/projects/A245000/A248363/CRVA/Datasets/NEX-GDDP-CMIP6/{f_name}.nc', 'wb') as f:\n",
    "        f.write(r.content)"
   ]
  },
  {
   "cell_type": "code",
   "execution_count": null,
   "id": "38c9392b",
   "metadata": {},
   "outputs": [],
   "source": [
    "## read data, _FillValue should be NaN"
   ]
  },
  {
   "cell_type": "code",
   "execution_count": null,
   "id": "8a7224b1",
   "metadata": {},
   "outputs": [],
   "source": [
    "solar_1950=Dataset(r'\\\\COWI.net\\projects\\A245000\\A248363\\CRVA\\Datasets\\NEX-GDDP-CMIP6\\hurs_day_ACCESS-CM2_historical_r1i1p1f1_gn_1950.nc')"
   ]
  },
  {
   "cell_type": "code",
   "execution_count": null,
   "id": "06107780",
   "metadata": {},
   "outputs": [],
   "source": [
    "hurs=solar_1950.variables['hurs']"
   ]
  },
  {
   "cell_type": "code",
   "execution_count": null,
   "id": "d5b9e244",
   "metadata": {},
   "outputs": [],
   "source": [
    "hurs"
   ]
  },
  {
   "cell_type": "code",
   "execution_count": null,
   "id": "64e08c65",
   "metadata": {},
   "outputs": [],
   "source": [
    "hurs._FillValue"
   ]
  },
  {
   "cell_type": "code",
   "execution_count": null,
   "id": "25fdd2ca",
   "metadata": {},
   "outputs": [],
   "source": [
    "solar_dataframe = np.ma.getdata(solar_1950.variables['hurs']).data"
   ]
  },
  {
   "cell_type": "code",
   "execution_count": null,
   "id": "2c519127",
   "metadata": {},
   "outputs": [],
   "source": [
    "solar_dataframe"
   ]
  },
  {
   "cell_type": "code",
   "execution_count": null,
   "id": "9acfafea",
   "metadata": {},
   "outputs": [],
   "source": [
    "len(solar_dataframe[solar_dataframe!=1.e+20])"
   ]
  },
  {
   "cell_type": "code",
   "execution_count": null,
   "id": "b0fabde2",
   "metadata": {},
   "outputs": [],
   "source": [
    "len(solar_dataframe[solar_dataframe==1.e+20])"
   ]
  },
  {
   "cell_type": "code",
   "execution_count": null,
   "id": "ba81d51c",
   "metadata": {},
   "outputs": [],
   "source": [
    "type(solar_dataframe)"
   ]
  },
  {
   "cell_type": "code",
   "execution_count": null,
   "id": "57d02dd9",
   "metadata": {},
   "outputs": [],
   "source": [
    "solar_dataframe.size"
   ]
  },
  {
   "cell_type": "code",
   "execution_count": null,
   "id": "5688da59",
   "metadata": {},
   "outputs": [],
   "source": [
    "solar_dataframe.size-len(solar_dataframe[solar_dataframe!=1.e+20])-len(solar_dataframe[solar_dataframe==1.e+20])"
   ]
  },
  {
   "cell_type": "code",
   "execution_count": null,
   "id": "5cce14ae",
   "metadata": {},
   "outputs": [],
   "source": []
  }
 ],
 "metadata": {
  "kernelspec": {
   "display_name": "Python 3 (ipykernel)",
   "language": "python",
   "name": "python3"
  },
  "language_info": {
   "codemirror_mode": {
    "name": "ipython",
    "version": 3
   },
   "file_extension": ".py",
   "mimetype": "text/x-python",
   "name": "python",
   "nbconvert_exporter": "python",
   "pygments_lexer": "ipython3",
   "version": "3.10.6"
  }
 },
 "nbformat": 4,
 "nbformat_minor": 5
}
