{
 "cells": [
  {
   "cell_type": "code",
   "execution_count": 1,
   "id": "3b6f1bd5",
   "metadata": {},
   "outputs": [],
   "source": [
    "import requests\n",
    "from requests.auth import HTTPBasicAuth\n",
    "from bs4 import BeautifulSoup\n",
    "def get_url_paths(url, ext=''):\n",
    "    response = requests.get(url)\n",
    "    print('Response :')\n",
    "    print(response)\n",
    "    print('\\n')\n",
    "    # response = requests.get(url, auth=HTTPBasicAuth('username', 'password'))\n",
    "    if response.ok:\n",
    "        response_text = response.text\n",
    "    else:\n",
    "        return response.raise_for_status()\n",
    "    soup = BeautifulSoup(response_text, 'html.parser')\n",
    "    parent = [url + node.get('href') for node in soup.find_all('a') if node.get('href').endswith(ext)]\n",
    "    return parent"
   ]
  },
  {
   "cell_type": "code",
   "execution_count": 2,
   "id": "72c078e1",
   "metadata": {},
   "outputs": [],
   "source": [
    "url = 'https://ds.nccs.nasa.gov/thredds2/fileServer/listing/gddp-cmip6-thredds-fileserver.csv'\n",
    "ext = '.nc'"
   ]
  },
  {
   "cell_type": "code",
   "execution_count": 3,
   "id": "2152d78d",
   "metadata": {},
   "outputs": [
    {
     "name": "stdout",
     "output_type": "stream",
     "text": [
      "Response :\n",
      "<Response [200]>\n",
      "\n",
      "\n",
      "[]\n",
      "\n",
      "\n"
     ]
    }
   ],
   "source": [
    "result = get_url_paths(url, ext)\n",
    "print(result)\n",
    "print('\\n')\n",
    "for file in result:\n",
    "    f_name = file[-19:-13]\n",
    "    print(f_name)\n",
    "    # f_name = file[-12:-4]\n",
    "    #r = requests.get(file)\n",
    "    # r = requests.get(file, auth=HTTPBasicAuth('username', 'password'))\n",
    "    #with open(f'C:/Users/CLMRX/OneDrive - COWI/Documents/GitHub/CRVA_tool/outputs/NEX-GDDP-CMIP6/{f_name}.nc', 'wb') as f:\n",
    "        #f.write(r.content)"
   ]
  },
  {
   "cell_type": "code",
   "execution_count": 4,
   "id": "10fddd31",
   "metadata": {},
   "outputs": [
    {
     "data": {
      "text/plain": [
       "[]"
      ]
     },
     "execution_count": 4,
     "metadata": {},
     "output_type": "execute_result"
    }
   ],
   "source": [
    "result"
   ]
  },
  {
   "cell_type": "code",
   "execution_count": 5,
   "id": "d08860f0",
   "metadata": {},
   "outputs": [
    {
     "data": {
      "text/plain": [
       "<Response [200]>"
      ]
     },
     "execution_count": 5,
     "metadata": {},
     "output_type": "execute_result"
    }
   ],
   "source": [
    "requests.get('https://ds.nccs.nasa.gov/thredds2/fileServer/AMES/NEX/GDDP-CMIP6/ACCESS-CM2/historical/r1i1p1f1/hurs/hurs_day_ACCESS-CM2_historical_r1i1p1f1_gn_1950.nc')"
   ]
  },
  {
   "cell_type": "code",
   "execution_count": 10,
   "id": "1ca658ea",
   "metadata": {},
   "outputs": [],
   "source": [
    "f_name='hurs_day_ACCESS-CM2_historical_r1i1p1f1_gn_1950'\n",
    "r = requests.get('https://ds.nccs.nasa.gov/thredds2/fileServer/AMES/NEX/GDDP-CMIP6/ACCESS-CM2/historical/r1i1p1f1/hurs/hurs_day_ACCESS-CM2_historical_r1i1p1f1_gn_1950.nc')\n",
    "with open(f'C:/Users/CLMRX/OneDrive - COWI/Documents/GitHub/CRVA_tool/outputs/NEX-GDDP-CMIP6/{f_name}.nc', 'wb') as f:\n",
    "    f.write(r.content)"
   ]
  },
  {
   "cell_type": "code",
   "execution_count": null,
   "id": "ff6f91fb",
   "metadata": {},
   "outputs": [],
   "source": []
  }
 ],
 "metadata": {
  "kernelspec": {
   "display_name": "Python 3 (ipykernel)",
   "language": "python",
   "name": "python3"
  },
  "language_info": {
   "codemirror_mode": {
    "name": "ipython",
    "version": 3
   },
   "file_extension": ".py",
   "mimetype": "text/x-python",
   "name": "python",
   "nbconvert_exporter": "python",
   "pygments_lexer": "ipython3",
   "version": "3.10.6"
  }
 },
 "nbformat": 4,
 "nbformat_minor": 5
}
