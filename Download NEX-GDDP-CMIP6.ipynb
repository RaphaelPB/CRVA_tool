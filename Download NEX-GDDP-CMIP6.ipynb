{
 "cells": [
  {
   "cell_type": "code",
   "execution_count": 1,
   "id": "7e486722",
   "metadata": {},
   "outputs": [],
   "source": [
    "import requests\n",
    "import pandas as pd\n",
    "\n",
    "import netCDF4 as nc#not directly used but needs to be imported for some nc4 files manipulations, use for nc files\n",
    "from netCDF4 import Dataset\n",
    "import numpy as np\n",
    "import numpy.ma as ma"
   ]
  },
  {
   "cell_type": "code",
   "execution_count": 2,
   "id": "09add4c7",
   "metadata": {},
   "outputs": [],
   "source": [
    "# register information from csv file\n",
    "all_urls = pd.read_csv(r'C:\\Users\\CLMRX\\OneDrive - COWI\\Documents\\GitHub\\CRVA_tool\\outputs\\NEX-GDDP-CMIP6\\gddp-cmip6-thredds-fileserver.csv')"
   ]
  },
  {
   "cell_type": "code",
   "execution_count": 3,
   "id": "2e4f2839",
   "metadata": {},
   "outputs": [],
   "source": [
    "### make all elements of the csv into a readable list\n",
    "\n",
    "# transpose csv\n",
    "temp_list = all_urls[[' fileUrl']].T\n",
    "temp_list=temp_list.values.tolist()\n",
    "temp_list=temp_list[0]\n",
    "url_list=[s.replace(' ', '') for s in temp_list]"
   ]
  },
  {
   "cell_type": "code",
   "execution_count": null,
   "id": "e894c48e",
   "metadata": {},
   "outputs": [],
   "source": [
    "for file in url_list:\n",
    "    # find the name of the file\n",
    "    index_before_name=file.rfind('/') # returns the highest index where the last character '/' was found, which is just before the name of the file    \n",
    "    f_name = file[index_before_name+1:len(file)-3] # return the name pf the file as a string\n",
    "    #r = requests.get(requests.get(file.url)) # return the url were data need to be downloaded\n",
    "    r = requests.get(file) # return the url were data need to be downloaded\n",
    "    # download data in the servor for datasets\n",
    "    with open(f'//COWI.net/projects/A245000/A248363/CRVA/Datasets/NEX-GDDP-CMIP6/{f_name}.nc', 'wb') as f:\n",
    "        f.write(r.content)"
   ]
  },
  {
   "cell_type": "code",
   "execution_count": null,
   "id": "673fbdd8",
   "metadata": {},
   "outputs": [],
   "source": [
    "## read data, _FillValue should be NaN"
   ]
  },
  {
   "cell_type": "code",
   "execution_count": null,
   "id": "6c00f30e",
   "metadata": {},
   "outputs": [],
   "source": [
    "solar_1950=Dataset(r'\\\\COWI.net\\projects\\A245000\\A248363\\CRVA\\Datasets\\NEX-GDDP-CMIP6\\hurs_day_ACCESS-CM2_historical_r1i1p1f1_gn_1950.nc')"
   ]
  },
  {
   "cell_type": "code",
   "execution_count": null,
   "id": "b43c2a09",
   "metadata": {},
   "outputs": [],
   "source": [
    "hurs=solar_1950.variables['hurs']"
   ]
  },
  {
   "cell_type": "code",
   "execution_count": null,
   "id": "1165fe37",
   "metadata": {},
   "outputs": [],
   "source": [
    "hurs"
   ]
  },
  {
   "cell_type": "code",
   "execution_count": null,
   "id": "9de221e9",
   "metadata": {},
   "outputs": [],
   "source": [
    "hurs._FillValue"
   ]
  },
  {
   "cell_type": "code",
   "execution_count": null,
   "id": "f747fcf0",
   "metadata": {},
   "outputs": [],
   "source": [
    "solar_dataframe = np.ma.getdata(solar_1950.variables['hurs']).data"
   ]
  },
  {
   "cell_type": "code",
   "execution_count": null,
   "id": "ab59ff63",
   "metadata": {},
   "outputs": [],
   "source": [
    "solar_dataframe"
   ]
  },
  {
   "cell_type": "code",
   "execution_count": null,
   "id": "df74f114",
   "metadata": {},
   "outputs": [],
   "source": [
    "len(solar_dataframe[solar_dataframe!=1.e+20])"
   ]
  },
  {
   "cell_type": "code",
   "execution_count": null,
   "id": "086a6528",
   "metadata": {},
   "outputs": [],
   "source": [
    "len(solar_dataframe[solar_dataframe==1.e+20])"
   ]
  },
  {
   "cell_type": "code",
   "execution_count": null,
   "id": "241c7ff6",
   "metadata": {},
   "outputs": [],
   "source": [
    "type(solar_dataframe)"
   ]
  },
  {
   "cell_type": "code",
   "execution_count": null,
   "id": "7255d39a",
   "metadata": {},
   "outputs": [],
   "source": [
    "solar_dataframe.size"
   ]
  },
  {
   "cell_type": "code",
   "execution_count": null,
   "id": "39cabe20",
   "metadata": {},
   "outputs": [],
   "source": [
    "solar_dataframe.size-len(solar_dataframe[solar_dataframe!=1.e+20])-len(solar_dataframe[solar_dataframe==1.e+20])"
   ]
  },
  {
   "cell_type": "code",
   "execution_count": null,
   "id": "444534fa",
   "metadata": {},
   "outputs": [],
   "source": []
  }
 ],
 "metadata": {
  "kernelspec": {
   "display_name": "Python 3 (ipykernel)",
   "language": "python",
   "name": "python3"
  },
  "language_info": {
   "codemirror_mode": {
    "name": "ipython",
    "version": 3
   },
   "file_extension": ".py",
   "mimetype": "text/x-python",
   "name": "python",
   "nbconvert_exporter": "python",
   "pygments_lexer": "ipython3",
   "version": "3.10.6"
  }
 },
 "nbformat": 4,
 "nbformat_minor": 5
}
