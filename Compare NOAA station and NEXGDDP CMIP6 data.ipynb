{
 "cells": [
  {
   "cell_type": "markdown",
   "id": "115184df",
   "metadata": {},
   "source": [
    "This notebook contains the comparaison between observed and modeled NEX GDDP CMIP6 data.\n",
    "\n",
    "Notice: The modeled data only contains one point. Good to do it again but with a zone"
   ]
  },
  {
   "cell_type": "markdown",
   "id": "e19ed021",
   "metadata": {},
   "source": [
    "# Packages"
   ]
  },
  {
   "cell_type": "code",
   "execution_count": 1,
   "id": "98eb9357",
   "metadata": {},
   "outputs": [],
   "source": [
    "import pandas as pd\n",
    "import numpy as np\n",
    "import os\n",
    "import os.path\n",
    "import seaborn as sns\n",
    "import matplotlib\n",
    "import geopy.distance\n",
    "from matplotlib import pyplot as plt\n",
    "\n",
    "from Graphs_functions import cdf_plot_category_or_obs"
   ]
  },
  {
   "cell_type": "markdown",
   "id": "428a45f0",
   "metadata": {},
   "source": [
    "# Functions"
   ]
  },
  {
   "cell_type": "code",
   "execution_count": 2,
   "id": "2db9fa96",
   "metadata": {},
   "outputs": [],
   "source": [
    "def import_treat_modeled_NEX_GDDP_CMIP6_close_to_stationNOAA(climate_var, unit):\n",
    "    # import data\n",
    "    \n",
    "    path_NEX_GDDP_CMIP6_EmplacementStation=os.path.join(r'\\\\COWI.net\\projects\\A245000\\A248363\\CRVA\\Datasets\\NEX-GDDP-CMIP6-AllMoz\\csv_file',climate_var,climate_var+'_'+unit+'_day_1970-2014_closest_point_to_NOAA','NEXGDDPCMIP6_at_same_emplacement_as_NOAA_stationPembaChimoioBeira_'+climate_var+'_1970-2014_projectsMoz.csv')\n",
    "    \n",
    "    data_NEX_GDDP_CMIP6_EmplacementStation = pd.read_csv(path_NEX_GDDP_CMIP6_EmplacementStation)\n",
    "    \n",
    "    data_NEX_GDDP_CMIP6_EmplacementStation = add_year_month_season(data_NEX_GDDP_CMIP6_EmplacementStation,'Date')\n",
    "    \n",
    "    return data_NEX_GDDP_CMIP6_EmplacementStation"
   ]
  },
  {
   "cell_type": "code",
   "execution_count": 3,
   "id": "11bdc891",
   "metadata": {},
   "outputs": [],
   "source": [
    "def treat_NOAA_data(daily_sum_obs_from_NOAA):\n",
    "    \n",
    "    daily_sum_obs_from_NOAA = add_year_month_season(daily_sum_obs_from_NOAA,'DATE')\n",
    "    \n",
    "    daily_sum_obs_from_NOAA = daily_sum_obs_from_NOAA[daily_sum_obs_from_NOAA['Year'].between(1970,2014)]\n",
    "    \n",
    "    daily_sum_obs_from_NOAA=count_na_in_df_NOAA(daily_sum_obs_from_NOAA,'PRCP')\n",
    "    daily_sum_obs_from_NOAA=count_na_in_df_NOAA(daily_sum_obs_from_NOAA,'TAVG')\n",
    "    daily_sum_obs_from_NOAA=count_na_in_df_NOAA(daily_sum_obs_from_NOAA,'TMAX')\n",
    "    daily_sum_obs_from_NOAA=count_na_in_df_NOAA(daily_sum_obs_from_NOAA,'TMIN')\n",
    "    \n",
    "    return daily_sum_obs_from_NOAA"
   ]
  },
  {
   "cell_type": "code",
   "execution_count": 4,
   "id": "06b1e7bb",
   "metadata": {},
   "outputs": [],
   "source": [
    "def count_na_in_df_NOAA(df,name_col):\n",
    "    df[name_col+' MISSING']=0\n",
    "    df[name_col+' MISSING'][df[name_col].isna()]=1\n",
    "    return df"
   ]
  },
  {
   "cell_type": "code",
   "execution_count": 5,
   "id": "41e16f10",
   "metadata": {},
   "outputs": [],
   "source": [
    "def select_station(daily_sum_obs_from_NOAA,name_station):\n",
    "    daily_sum_obs_from_NOAA_name_station = daily_sum_obs_from_NOAA[daily_sum_obs_from_NOAA['NAME']==name_station]\n",
    "    return daily_sum_obs_from_NOAA_name_station"
   ]
  },
  {
   "cell_type": "code",
   "execution_count": 6,
   "id": "74c97b55",
   "metadata": {},
   "outputs": [],
   "source": [
    "def add_year_month_season(df,column_date):\n",
    "    # add Year, month and season columns for graphs\n",
    "    Year = df[[column_date]].values.reshape(len(df[[column_date]].values),)\n",
    "    Month = df[[column_date]].values.reshape(len(df[[column_date]].values),)\n",
    "    Season = df[[column_date]].values.reshape(len(df[[column_date]].values),)\n",
    "    \n",
    "    if str(Year[1]).find('-')==2:\n",
    "        for i in np.arange(0,len(df[[column_date]].values)):\n",
    "            Year[i]=int(Year[i][6:10])\n",
    "            Month[i]=int(Month[i][3:5])\n",
    "            if Month[i]>3 and Month[i]<10: # dry season in Mozambique is between April and September\n",
    "                Season[i]='Dry'\n",
    "            else:# humid season is between October and March\n",
    "                Season[i]='Humid'\n",
    "            \n",
    "            Month[i]=str_month(Month[i])\n",
    "            \n",
    "    if str(Year[1]).find('-')==4:\n",
    "        for i in np.arange(0,len(df[[column_date]].values)):\n",
    "            Year[i]=int(Year[i][0:4])\n",
    "            Month[i]=int(Month[i][5:7])\n",
    "            if Month[i]>3 and Month[i]<10: # dry season in Mozambique is between April and September\n",
    "                Season[i]='Dry'\n",
    "            else:# humid season is between October and March\n",
    "                Season[i]='Humid'\n",
    "            \n",
    "            Month[i]=str_month(Month[i])\n",
    "                \n",
    "    df['Year'] = Year\n",
    "    df['Month'] = Month\n",
    "    df['Season'] = Season\n",
    "    return df"
   ]
  },
  {
   "cell_type": "code",
   "execution_count": 7,
   "id": "6fd30834",
   "metadata": {},
   "outputs": [],
   "source": [
    "def str_month(int_m):\n",
    "    if int_m==1:\n",
    "        str_m = 'Jan'\n",
    "    if int_m==2:\n",
    "        str_m = 'Feb'    \n",
    "    if int_m==3:\n",
    "        str_m = 'Mar'\n",
    "    if int_m==4:\n",
    "        str_m = 'Apr'\n",
    "    if int_m==5:\n",
    "        str_m = 'May'\n",
    "    if int_m==6:\n",
    "        str_m = 'Jun'\n",
    "    if int_m==7:\n",
    "        str_m = 'Jul'\n",
    "    if int_m==8:\n",
    "        str_m = 'Aug'    \n",
    "    if int_m==9:\n",
    "        str_m = 'Sep'\n",
    "    if int_m==10:\n",
    "        str_m = 'Oct'\n",
    "    if int_m==11:\n",
    "        str_m = 'Nov'\n",
    "    if int_m==12:\n",
    "        str_m = 'Dec'\n",
    "    return str_m"
   ]
  },
  {
   "cell_type": "code",
   "execution_count": 8,
   "id": "1c209586",
   "metadata": {},
   "outputs": [],
   "source": [
    "def compare_2_lines(data_1,data_2,y_name,x_name='Year',tuple_error_bar=('pi',80)):\n",
    "    \n",
    "    fig,ax=plt.subplots()\n",
    "    plt.tight_layout() # Adjust the padding between and around subplots.\n",
    "\n",
    "    sns.lineplot(data=pr_historic_modeled_NEXGDDPCMIP6_gorongosa.groupby(['Experiment','Model','Year'])[['Mean of the daily precipitation rate mm_per_day']].mean(),x='Year', y='Mean of the daily precipitation rate mm_per_day',hue='Model',errorbar=tuple_error_bar,ax=ax)\n",
    "    sns.lineplot(data=pr_obs_gorongosa_from_gorongosa.groupby('Year')[['Mean of the daily precipitation rate mm_per_day']].mean(),x='Year', y='Mean of the daily precipitation rate mm_per_day',color='black',label='Observation from Gorongosa',errorbar=tuple_error_bar,ax=ax)\n",
    "    \n",
    "    # display the legend\n",
    "    handles, labels=ax.get_legend_handles_labels()\n",
    "    fig.legend(handles, labels, loc='upper right', ncol=1, bbox_to_anchor=(1.38, 0.88),title='Legend')\n",
    "    ax.get_legend().remove() # this line permits to have a common legend for the boxplots and the line\n",
    "    plt.title('Modeled NEX-GDDP-CMIP6 yearly average precipitation accross time at Gorongosa,\\n compared to observed yearly average temperature from gorongosa, between '+str(start_year_hist)+' and '+str(stop_year_hist))\n",
    "    path_figure=r'C:\\Users\\CLMRX\\OneDrive - COWI\\Documents\\GitHub\\CRVA_tool\\outputs\\figures\\Comp_hist_m_o_pr.png'\n",
    "    plt.savefig(path_figure,format ='png') # savefig or save text must be before plt.show. for savefig, format should be explicity written\n",
    "    plt.show()"
   ]
  },
  {
   "cell_type": "code",
   "execution_count": 9,
   "id": "cc75eae9",
   "metadata": {},
   "outputs": [],
   "source": [
    "def compare_3_lines(title_fig,title_x_axis,clim_var,data_1,name_col_1,data_2,name_col_2,source_2,y_name,name_station,x_name='Year',tuple_error_bar=('pi',80)):\n",
    "    \n",
    "    fig,ax=plt.subplots()\n",
    "    plt.tight_layout() # Adjust the padding between and around subplots.\n",
    "    \n",
    "     # count the number of missing observation data per year\n",
    "    missing_data_per_year = data_2.groupby('Year')[[name_col_2+' MISSING']].sum()\n",
    "    # calculate the yearly mean of the observation data\n",
    "    obs_data_per_year = data_2.groupby('Year')[[name_col_2]].mean()\n",
    "    # replace value of the yearly mean by Nan if the year is missing more than 1/3 of its values\n",
    "    obs_data_per_year[missing_data_per_year[name_col_2+' MISSING']>122] = np.nan\n",
    "    \n",
    "    # determine which period we are plotting\n",
    "    start_year_hist=min(obs_data_per_year.index)\n",
    "    stop_year_hist=max(obs_data_per_year.index)\n",
    "    \n",
    "    # plot modeled data\n",
    "    sns.lineplot(data=data_1.groupby(['Experiment','Model','Year'])[[name_col_1]].mean(),x='Year', y=name_col_1,hue='Model',errorbar=tuple_error_bar,ax=ax)\n",
    "    \n",
    "    ########## plot observed data\n",
    "    obs_data_per_year=obs_data_per_year.rename(columns={name_col_2:'Observation data from '+source_2})\n",
    "\n",
    "    if sum(missing_data_per_year.values)==0:\n",
    "        sns.lineplot(data=obs_data_per_year,palette=['black'],ax=ax)\n",
    "    else:\n",
    "        for year in obs_data_per_year.index[0:len(obs_data_per_year.index)-2]:\n",
    "            try:\n",
    "                sns.lineplot(data=obs_data_per_year.loc[[year,year+1]],palette=['black'],ax=ax)\n",
    "            except: # some data dont cover every years\n",
    "                pass\n",
    "\n",
    "    ax.set_ylabel('Yearly average '+name_col_1)\n",
    "    # control labels in legend\n",
    "    handles1, labels1=ax.get_legend_handles_labels() # register information from first y axis for the legend\n",
    "    labels1, ids1 = np.unique(labels1, return_index=True)\n",
    "    labels1=list(labels1)\n",
    "    handles1 = [handles1[i] for i in ids1]\n",
    "    \n",
    "    # make the labels in the legend appear in the order wanted\n",
    "    if labels1[len(labels1)-1]!='Observation data from '+source_2:\n",
    "        str_1= labels1[len(labels1)-1]\n",
    "        str_2= labels1[len(labels1)-2]\n",
    "\n",
    "        handles1_end = handles1[len(handles1)-1]\n",
    "        handles1_end_1 = handles1[len(handles1)-2]\n",
    "\n",
    "        labels1[len(labels1)-1] = str_2\n",
    "        labels1[len(labels1)-2] = str_1\n",
    "\n",
    "        handles1[len(handles1)-2] = handles1_end\n",
    "        handles1[len(handles1)-1] = handles1_end_1\n",
    "    \n",
    "    # is there some missing data ? if yes, we plot them. If not, we don t plot them\n",
    "    if sum(missing_data_per_year[name_col_2+' MISSING'])!=0:\n",
    "        # there are some missing data in observation data\n",
    "        ax2 = ax.twinx()\n",
    "        sns.lineplot(data=missing_data_per_year.reset_index(),x='Year',y=name_col_2+' MISSING',color='red',label='Missing observation data',ax=ax2)\n",
    "        ax2.set_ylim(0, 370) # impose this scale to know how much data missing for 365 days\n",
    "        ax2.set_ylabel('Number of missing data in '+source_2+' dataset')\n",
    "        # set right axis on red\n",
    "        ax2.yaxis.label.set_color('red')\n",
    "        ax2.tick_params(axis='y', colors='red')\n",
    "        ax2.spines['right'].set_color('red')\n",
    "        handles2, labels2=ax2.get_legend_handles_labels() # register information from first y axis for the legend\n",
    "        # display the legend\n",
    "        fig.legend(handles1+handles2, labels1+labels2, loc='upper right', ncol=1, bbox_to_anchor=(1.47, 0.9),title='Legend')\n",
    "        ax2.get_legend().remove() # this line permits to have a common legend for the boxplots and the line\n",
    "\n",
    "    else:\n",
    "        # there are no missing data\n",
    "        plt.figtext(1.2, 0, \"There are no missing data in the observation data\", ha=\"center\", fontsize=7, bbox={\"facecolor\":\"white\", \"alpha\":0.5, \"pad\":5})\n",
    "        fig.legend(handles1, labels1, loc='upper right', ncol=1, bbox_to_anchor=(1.4, 0.9),title='Legend')\n",
    "\n",
    "    ax.get_legend().remove() # this line permits to have a common legend for the boxplots and the line\n",
    "\n",
    "\n",
    "    plt.title('Modeled NEX-GDDP-CMIP6 yearly average '+clim_var+' accross time at '+name_station+',\\n compared to observed yearly average '+clim_var+' from '+source_2+', between '+str(start_year_hist)+' and '+str(stop_year_hist))\n",
    "    #path_figure=os.path.join(r'C:\\Users\\CLMRX\\OneDrive - COWI\\Documents\\GitHub\\CRVA_tool\\outputs\\figures',title_fig+'.png')\n",
    "    #plt.savefig(path_figure,format ='png') # savefig or save text must be before plt.show. for savefig, format should be explicity written\n",
    "    plt.show()"
   ]
  },
  {
   "cell_type": "code",
   "execution_count": 10,
   "id": "e2d2fb8b",
   "metadata": {},
   "outputs": [],
   "source": [
    "def boxplots_(climate_var,df1,name_col1,df2,name_col2,name_station):\n",
    "    \n",
    "    df2['Model']='Observation NOAA'\n",
    "    df2=df2.rename(columns={name_col2:name_col1})\n",
    "    \n",
    "    df_boxplot=pd.concat([df2,df1])\n",
    "\n",
    "    \n",
    "    fig,ax=plt.subplots()\n",
    "    plt.tight_layout() # Adjust the padding between and around subplots.\n",
    "    cols = ['pink' if (x =='Observation NOAA') else 'skyblue' for x in df_boxplot.Model.drop_duplicates().values]\n",
    "    sns.boxplot(data=df_boxplot,x=df_boxplot.Model, y=name_col1,palette=cols,whis=[10,90],ax=ax)\n",
    "\n",
    "    # display the legend\n",
    "    #handles, labels=ax.get_legend_handles_labels()\n",
    "    #fig.legend(handles, labels, loc='upper right', ncol=1, bbox_to_anchor=(1.3, 1),title='Legend')\n",
    "    #ax.get_legend().remove() # this line permits to have a common legend for the boxplots and the line\n",
    "    ax.set_xticklabels(ax.get_xticklabels(),rotation=90)\n",
    "    plt.title('Compare observation for '+climate_var+' from NOAA,with modeled data\\nby NEX-GDDP-CMIP6 between 1970 to 2014 at '+name_station)\n",
    "\n",
    "    path_figure=r'C:\\Users\\CLMRX\\OneDrive - COWI\\Documents\\GitHub\\CRVA_tool\\outputs\\figures\\testBoxplotObs.png'\n",
    "    plt.savefig(path_figure,format ='png') # savefig or save text must be before plt.show. for savefig, format should be explicity written\n",
    "\n",
    "    plt.show()"
   ]
  },
  {
   "cell_type": "markdown",
   "id": "18891155",
   "metadata": {},
   "source": [
    "# Import data"
   ]
  },
  {
   "cell_type": "markdown",
   "id": "bc58a4e9",
   "metadata": {},
   "source": [
    "## Observations data"
   ]
  },
  {
   "cell_type": "markdown",
   "id": "12d2cea9",
   "metadata": {},
   "source": [
    "### Precipitation and temperature NOAA"
   ]
  },
  {
   "cell_type": "code",
   "execution_count": 11,
   "id": "bcc9fb53",
   "metadata": {},
   "outputs": [],
   "source": [
    "path = r'C:\\Users\\CLMRX\\COWI\\A248363 - Climate analysis - Documents\\General\\CRVA_tool\\Master_thesis\\Project\\3 - Implementation\\1 - Data\\1-BC\\NOAA-ClimateDataOnline\\3370204.csv'\n",
    "daily_sum_obs_from_NOAA = pd.read_csv(path)"
   ]
  },
  {
   "cell_type": "code",
   "execution_count": 12,
   "id": "b6ef6430",
   "metadata": {},
   "outputs": [
    {
     "name": "stderr",
     "output_type": "stream",
     "text": [
      "C:\\Users\\CLMRX\\AppData\\Local\\Temp\\1\\ipykernel_1888\\1741400354.py:2: SettingWithCopyWarning: \n",
      "A value is trying to be set on a copy of a slice from a DataFrame.\n",
      "Try using .loc[row_indexer,col_indexer] = value instead\n",
      "\n",
      "See the caveats in the documentation: https://pandas.pydata.org/pandas-docs/stable/user_guide/indexing.html#returning-a-view-versus-a-copy\n",
      "  df[name_col+' MISSING']=0\n",
      "C:\\Users\\CLMRX\\AppData\\Local\\Temp\\1\\ipykernel_1888\\1741400354.py:3: SettingWithCopyWarning: \n",
      "A value is trying to be set on a copy of a slice from a DataFrame\n",
      "\n",
      "See the caveats in the documentation: https://pandas.pydata.org/pandas-docs/stable/user_guide/indexing.html#returning-a-view-versus-a-copy\n",
      "  df[name_col+' MISSING'][df[name_col].isna()]=1\n",
      "C:\\Users\\CLMRX\\AppData\\Local\\Temp\\1\\ipykernel_1888\\1741400354.py:2: SettingWithCopyWarning: \n",
      "A value is trying to be set on a copy of a slice from a DataFrame.\n",
      "Try using .loc[row_indexer,col_indexer] = value instead\n",
      "\n",
      "See the caveats in the documentation: https://pandas.pydata.org/pandas-docs/stable/user_guide/indexing.html#returning-a-view-versus-a-copy\n",
      "  df[name_col+' MISSING']=0\n",
      "C:\\Users\\CLMRX\\AppData\\Local\\Temp\\1\\ipykernel_1888\\1741400354.py:3: SettingWithCopyWarning: \n",
      "A value is trying to be set on a copy of a slice from a DataFrame\n",
      "\n",
      "See the caveats in the documentation: https://pandas.pydata.org/pandas-docs/stable/user_guide/indexing.html#returning-a-view-versus-a-copy\n",
      "  df[name_col+' MISSING'][df[name_col].isna()]=1\n",
      "C:\\Users\\CLMRX\\AppData\\Local\\Temp\\1\\ipykernel_1888\\1741400354.py:2: SettingWithCopyWarning: \n",
      "A value is trying to be set on a copy of a slice from a DataFrame.\n",
      "Try using .loc[row_indexer,col_indexer] = value instead\n",
      "\n",
      "See the caveats in the documentation: https://pandas.pydata.org/pandas-docs/stable/user_guide/indexing.html#returning-a-view-versus-a-copy\n",
      "  df[name_col+' MISSING']=0\n",
      "C:\\Users\\CLMRX\\AppData\\Local\\Temp\\1\\ipykernel_1888\\1741400354.py:3: SettingWithCopyWarning: \n",
      "A value is trying to be set on a copy of a slice from a DataFrame\n",
      "\n",
      "See the caveats in the documentation: https://pandas.pydata.org/pandas-docs/stable/user_guide/indexing.html#returning-a-view-versus-a-copy\n",
      "  df[name_col+' MISSING'][df[name_col].isna()]=1\n",
      "C:\\Users\\CLMRX\\AppData\\Local\\Temp\\1\\ipykernel_1888\\1741400354.py:2: SettingWithCopyWarning: \n",
      "A value is trying to be set on a copy of a slice from a DataFrame.\n",
      "Try using .loc[row_indexer,col_indexer] = value instead\n",
      "\n",
      "See the caveats in the documentation: https://pandas.pydata.org/pandas-docs/stable/user_guide/indexing.html#returning-a-view-versus-a-copy\n",
      "  df[name_col+' MISSING']=0\n",
      "C:\\Users\\CLMRX\\AppData\\Local\\Temp\\1\\ipykernel_1888\\1741400354.py:3: SettingWithCopyWarning: \n",
      "A value is trying to be set on a copy of a slice from a DataFrame\n",
      "\n",
      "See the caveats in the documentation: https://pandas.pydata.org/pandas-docs/stable/user_guide/indexing.html#returning-a-view-versus-a-copy\n",
      "  df[name_col+' MISSING'][df[name_col].isna()]=1\n"
     ]
    }
   ],
   "source": [
    "daily_sum_obs_from_NOAA=treat_NOAA_data(daily_sum_obs_from_NOAA) # add Year Month, and count Nan, select between 1970 and 2014"
   ]
  },
  {
   "cell_type": "code",
   "execution_count": 13,
   "id": "9a546751",
   "metadata": {},
   "outputs": [],
   "source": [
    "# take out impossible observation data\n",
    "\n",
    "## We can see for some maximum temperature observation data that some data points are completely impossible \n",
    "#  (100 for minimum or maximum temperature at Chimoio and Beira sometimes)\n",
    "daily_sum_obs_from_NOAA=daily_sum_obs_from_NOAA[daily_sum_obs_from_NOAA['TMAX']<80]\n",
    "daily_sum_obs_from_NOAA=daily_sum_obs_from_NOAA[daily_sum_obs_from_NOAA['TMIN']<80]\n",
    "daily_sum_obs_from_NOAA=daily_sum_obs_from_NOAA[daily_sum_obs_from_NOAA['TAVG']<80]"
   ]
  },
  {
   "cell_type": "code",
   "execution_count": 14,
   "id": "b2ec49c7",
   "metadata": {},
   "outputs": [
    {
     "data": {
      "text/html": [
       "<div>\n",
       "<style scoped>\n",
       "    .dataframe tbody tr th:only-of-type {\n",
       "        vertical-align: middle;\n",
       "    }\n",
       "\n",
       "    .dataframe tbody tr th {\n",
       "        vertical-align: top;\n",
       "    }\n",
       "\n",
       "    .dataframe thead th {\n",
       "        text-align: right;\n",
       "    }\n",
       "</style>\n",
       "<table border=\"1\" class=\"dataframe\">\n",
       "  <thead>\n",
       "    <tr style=\"text-align: right;\">\n",
       "      <th></th>\n",
       "      <th>STATION</th>\n",
       "      <th>NAME</th>\n",
       "      <th>LATITUDE</th>\n",
       "      <th>LONGITUDE</th>\n",
       "      <th>ELEVATION</th>\n",
       "      <th>DATE</th>\n",
       "      <th>PRCP</th>\n",
       "      <th>PRCP_ATTRIBUTES</th>\n",
       "      <th>TAVG</th>\n",
       "      <th>TAVG_ATTRIBUTES</th>\n",
       "      <th>...</th>\n",
       "      <th>TMAX_ATTRIBUTES</th>\n",
       "      <th>TMIN</th>\n",
       "      <th>TMIN_ATTRIBUTES</th>\n",
       "      <th>Year</th>\n",
       "      <th>Month</th>\n",
       "      <th>Season</th>\n",
       "      <th>PRCP MISSING</th>\n",
       "      <th>TAVG MISSING</th>\n",
       "      <th>TMAX MISSING</th>\n",
       "      <th>TMIN MISSING</th>\n",
       "    </tr>\n",
       "  </thead>\n",
       "  <tbody>\n",
       "    <tr>\n",
       "      <th>0</th>\n",
       "      <td>MZM00067223</td>\n",
       "      <td>MONTEPUEZ, MZ</td>\n",
       "      <td>-13.133</td>\n",
       "      <td>39.033</td>\n",
       "      <td>535.0</td>\n",
       "      <td>1974-04-05</td>\n",
       "      <td>2.0</td>\n",
       "      <td>,,S</td>\n",
       "      <td>23.8</td>\n",
       "      <td>H,,S</td>\n",
       "      <td>...</td>\n",
       "      <td>,D,S</td>\n",
       "      <td>20.0</td>\n",
       "      <td>,,S</td>\n",
       "      <td>1974</td>\n",
       "      <td>Apr</td>\n",
       "      <td>Dry</td>\n",
       "      <td>0</td>\n",
       "      <td>0</td>\n",
       "      <td>0</td>\n",
       "      <td>0</td>\n",
       "    </tr>\n",
       "    <tr>\n",
       "      <th>1</th>\n",
       "      <td>MZM00067223</td>\n",
       "      <td>MONTEPUEZ, MZ</td>\n",
       "      <td>-13.133</td>\n",
       "      <td>39.033</td>\n",
       "      <td>535.0</td>\n",
       "      <td>1974-06-17</td>\n",
       "      <td>0.0</td>\n",
       "      <td>,,S</td>\n",
       "      <td>18.2</td>\n",
       "      <td>H,,S</td>\n",
       "      <td>...</td>\n",
       "      <td>,,S</td>\n",
       "      <td>11.0</td>\n",
       "      <td>,,S</td>\n",
       "      <td>1974</td>\n",
       "      <td>Jun</td>\n",
       "      <td>Dry</td>\n",
       "      <td>0</td>\n",
       "      <td>0</td>\n",
       "      <td>0</td>\n",
       "      <td>0</td>\n",
       "    </tr>\n",
       "    <tr>\n",
       "      <th>6</th>\n",
       "      <td>MZM00067223</td>\n",
       "      <td>MONTEPUEZ, MZ</td>\n",
       "      <td>-13.133</td>\n",
       "      <td>39.033</td>\n",
       "      <td>535.0</td>\n",
       "      <td>1974-07-13</td>\n",
       "      <td>0.0</td>\n",
       "      <td>,,S</td>\n",
       "      <td>17.8</td>\n",
       "      <td>H,,S</td>\n",
       "      <td>...</td>\n",
       "      <td>,,S</td>\n",
       "      <td>14.0</td>\n",
       "      <td>,,S</td>\n",
       "      <td>1974</td>\n",
       "      <td>Jul</td>\n",
       "      <td>Dry</td>\n",
       "      <td>0</td>\n",
       "      <td>0</td>\n",
       "      <td>0</td>\n",
       "      <td>0</td>\n",
       "    </tr>\n",
       "    <tr>\n",
       "      <th>8</th>\n",
       "      <td>MZM00067223</td>\n",
       "      <td>MONTEPUEZ, MZ</td>\n",
       "      <td>-13.133</td>\n",
       "      <td>39.033</td>\n",
       "      <td>535.0</td>\n",
       "      <td>1974-08-08</td>\n",
       "      <td>0.0</td>\n",
       "      <td>,,S</td>\n",
       "      <td>22.8</td>\n",
       "      <td>H,,S</td>\n",
       "      <td>...</td>\n",
       "      <td>,,S</td>\n",
       "      <td>18.0</td>\n",
       "      <td>,,S</td>\n",
       "      <td>1974</td>\n",
       "      <td>Aug</td>\n",
       "      <td>Dry</td>\n",
       "      <td>0</td>\n",
       "      <td>0</td>\n",
       "      <td>0</td>\n",
       "      <td>0</td>\n",
       "    </tr>\n",
       "    <tr>\n",
       "      <th>9</th>\n",
       "      <td>MZM00067223</td>\n",
       "      <td>MONTEPUEZ, MZ</td>\n",
       "      <td>-13.133</td>\n",
       "      <td>39.033</td>\n",
       "      <td>535.0</td>\n",
       "      <td>1975-06-23</td>\n",
       "      <td>NaN</td>\n",
       "      <td>NaN</td>\n",
       "      <td>22.3</td>\n",
       "      <td>H,,S</td>\n",
       "      <td>...</td>\n",
       "      <td>,,S</td>\n",
       "      <td>16.0</td>\n",
       "      <td>,,S</td>\n",
       "      <td>1975</td>\n",
       "      <td>Jun</td>\n",
       "      <td>Dry</td>\n",
       "      <td>1</td>\n",
       "      <td>0</td>\n",
       "      <td>0</td>\n",
       "      <td>0</td>\n",
       "    </tr>\n",
       "    <tr>\n",
       "      <th>...</th>\n",
       "      <td>...</td>\n",
       "      <td>...</td>\n",
       "      <td>...</td>\n",
       "      <td>...</td>\n",
       "      <td>...</td>\n",
       "      <td>...</td>\n",
       "      <td>...</td>\n",
       "      <td>...</td>\n",
       "      <td>...</td>\n",
       "      <td>...</td>\n",
       "      <td>...</td>\n",
       "      <td>...</td>\n",
       "      <td>...</td>\n",
       "      <td>...</td>\n",
       "      <td>...</td>\n",
       "      <td>...</td>\n",
       "      <td>...</td>\n",
       "      <td>...</td>\n",
       "      <td>...</td>\n",
       "      <td>...</td>\n",
       "      <td>...</td>\n",
       "    </tr>\n",
       "    <tr>\n",
       "      <th>159686</th>\n",
       "      <td>MZ000067297</td>\n",
       "      <td>BEIRA, MZ</td>\n",
       "      <td>-19.800</td>\n",
       "      <td>34.900</td>\n",
       "      <td>16.0</td>\n",
       "      <td>2014-11-08</td>\n",
       "      <td>0.0</td>\n",
       "      <td>,,S</td>\n",
       "      <td>25.0</td>\n",
       "      <td>H,,S</td>\n",
       "      <td>...</td>\n",
       "      <td>,,S</td>\n",
       "      <td>21.0</td>\n",
       "      <td>,,S</td>\n",
       "      <td>2014</td>\n",
       "      <td>Nov</td>\n",
       "      <td>Humid</td>\n",
       "      <td>0</td>\n",
       "      <td>0</td>\n",
       "      <td>0</td>\n",
       "      <td>0</td>\n",
       "    </tr>\n",
       "    <tr>\n",
       "      <th>159687</th>\n",
       "      <td>MZ000067297</td>\n",
       "      <td>BEIRA, MZ</td>\n",
       "      <td>-19.800</td>\n",
       "      <td>34.900</td>\n",
       "      <td>16.0</td>\n",
       "      <td>2014-11-09</td>\n",
       "      <td>NaN</td>\n",
       "      <td>NaN</td>\n",
       "      <td>26.0</td>\n",
       "      <td>H,,S</td>\n",
       "      <td>...</td>\n",
       "      <td>,,S</td>\n",
       "      <td>20.5</td>\n",
       "      <td>,,S</td>\n",
       "      <td>2014</td>\n",
       "      <td>Nov</td>\n",
       "      <td>Humid</td>\n",
       "      <td>1</td>\n",
       "      <td>0</td>\n",
       "      <td>0</td>\n",
       "      <td>0</td>\n",
       "    </tr>\n",
       "    <tr>\n",
       "      <th>159688</th>\n",
       "      <td>MZ000067297</td>\n",
       "      <td>BEIRA, MZ</td>\n",
       "      <td>-19.800</td>\n",
       "      <td>34.900</td>\n",
       "      <td>16.0</td>\n",
       "      <td>2014-11-10</td>\n",
       "      <td>NaN</td>\n",
       "      <td>NaN</td>\n",
       "      <td>27.2</td>\n",
       "      <td>H,,S</td>\n",
       "      <td>...</td>\n",
       "      <td>,,S</td>\n",
       "      <td>19.9</td>\n",
       "      <td>,,S</td>\n",
       "      <td>2014</td>\n",
       "      <td>Nov</td>\n",
       "      <td>Humid</td>\n",
       "      <td>1</td>\n",
       "      <td>0</td>\n",
       "      <td>0</td>\n",
       "      <td>0</td>\n",
       "    </tr>\n",
       "    <tr>\n",
       "      <th>159690</th>\n",
       "      <td>MZ000067297</td>\n",
       "      <td>BEIRA, MZ</td>\n",
       "      <td>-19.800</td>\n",
       "      <td>34.900</td>\n",
       "      <td>16.0</td>\n",
       "      <td>2014-11-12</td>\n",
       "      <td>NaN</td>\n",
       "      <td>NaN</td>\n",
       "      <td>26.3</td>\n",
       "      <td>H,,S</td>\n",
       "      <td>...</td>\n",
       "      <td>,,S</td>\n",
       "      <td>23.4</td>\n",
       "      <td>,,S</td>\n",
       "      <td>2014</td>\n",
       "      <td>Nov</td>\n",
       "      <td>Humid</td>\n",
       "      <td>1</td>\n",
       "      <td>0</td>\n",
       "      <td>0</td>\n",
       "      <td>0</td>\n",
       "    </tr>\n",
       "    <tr>\n",
       "      <th>159696</th>\n",
       "      <td>MZ000067297</td>\n",
       "      <td>BEIRA, MZ</td>\n",
       "      <td>-19.800</td>\n",
       "      <td>34.900</td>\n",
       "      <td>16.0</td>\n",
       "      <td>2014-11-19</td>\n",
       "      <td>23.1</td>\n",
       "      <td>,,S</td>\n",
       "      <td>23.4</td>\n",
       "      <td>H,,S</td>\n",
       "      <td>...</td>\n",
       "      <td>,,S</td>\n",
       "      <td>19.5</td>\n",
       "      <td>,,S</td>\n",
       "      <td>2014</td>\n",
       "      <td>Nov</td>\n",
       "      <td>Humid</td>\n",
       "      <td>0</td>\n",
       "      <td>0</td>\n",
       "      <td>0</td>\n",
       "      <td>0</td>\n",
       "    </tr>\n",
       "  </tbody>\n",
       "</table>\n",
       "<p>53983 rows × 21 columns</p>\n",
       "</div>"
      ],
      "text/plain": [
       "            STATION           NAME  LATITUDE  LONGITUDE  ELEVATION  \\\n",
       "0       MZM00067223  MONTEPUEZ, MZ   -13.133     39.033      535.0   \n",
       "1       MZM00067223  MONTEPUEZ, MZ   -13.133     39.033      535.0   \n",
       "6       MZM00067223  MONTEPUEZ, MZ   -13.133     39.033      535.0   \n",
       "8       MZM00067223  MONTEPUEZ, MZ   -13.133     39.033      535.0   \n",
       "9       MZM00067223  MONTEPUEZ, MZ   -13.133     39.033      535.0   \n",
       "...             ...            ...       ...        ...        ...   \n",
       "159686  MZ000067297      BEIRA, MZ   -19.800     34.900       16.0   \n",
       "159687  MZ000067297      BEIRA, MZ   -19.800     34.900       16.0   \n",
       "159688  MZ000067297      BEIRA, MZ   -19.800     34.900       16.0   \n",
       "159690  MZ000067297      BEIRA, MZ   -19.800     34.900       16.0   \n",
       "159696  MZ000067297      BEIRA, MZ   -19.800     34.900       16.0   \n",
       "\n",
       "              DATE  PRCP PRCP_ATTRIBUTES  TAVG TAVG_ATTRIBUTES  ...  \\\n",
       "0       1974-04-05   2.0             ,,S  23.8            H,,S  ...   \n",
       "1       1974-06-17   0.0             ,,S  18.2            H,,S  ...   \n",
       "6       1974-07-13   0.0             ,,S  17.8            H,,S  ...   \n",
       "8       1974-08-08   0.0             ,,S  22.8            H,,S  ...   \n",
       "9       1975-06-23   NaN             NaN  22.3            H,,S  ...   \n",
       "...            ...   ...             ...   ...             ...  ...   \n",
       "159686  2014-11-08   0.0             ,,S  25.0            H,,S  ...   \n",
       "159687  2014-11-09   NaN             NaN  26.0            H,,S  ...   \n",
       "159688  2014-11-10   NaN             NaN  27.2            H,,S  ...   \n",
       "159690  2014-11-12   NaN             NaN  26.3            H,,S  ...   \n",
       "159696  2014-11-19  23.1             ,,S  23.4            H,,S  ...   \n",
       "\n",
       "        TMAX_ATTRIBUTES  TMIN  TMIN_ATTRIBUTES  Year Month Season  \\\n",
       "0                  ,D,S  20.0              ,,S  1974   Apr    Dry   \n",
       "1                   ,,S  11.0              ,,S  1974   Jun    Dry   \n",
       "6                   ,,S  14.0              ,,S  1974   Jul    Dry   \n",
       "8                   ,,S  18.0              ,,S  1974   Aug    Dry   \n",
       "9                   ,,S  16.0              ,,S  1975   Jun    Dry   \n",
       "...                 ...   ...              ...   ...   ...    ...   \n",
       "159686              ,,S  21.0              ,,S  2014   Nov  Humid   \n",
       "159687              ,,S  20.5              ,,S  2014   Nov  Humid   \n",
       "159688              ,,S  19.9              ,,S  2014   Nov  Humid   \n",
       "159690              ,,S  23.4              ,,S  2014   Nov  Humid   \n",
       "159696              ,,S  19.5              ,,S  2014   Nov  Humid   \n",
       "\n",
       "       PRCP MISSING  TAVG MISSING  TMAX MISSING  TMIN MISSING  \n",
       "0                 0             0             0             0  \n",
       "1                 0             0             0             0  \n",
       "6                 0             0             0             0  \n",
       "8                 0             0             0             0  \n",
       "9                 1             0             0             0  \n",
       "...             ...           ...           ...           ...  \n",
       "159686            0             0             0             0  \n",
       "159687            1             0             0             0  \n",
       "159688            1             0             0             0  \n",
       "159690            1             0             0             0  \n",
       "159696            0             0             0             0  \n",
       "\n",
       "[53983 rows x 21 columns]"
      ]
     },
     "execution_count": 14,
     "metadata": {},
     "output_type": "execute_result"
    }
   ],
   "source": [
    "daily_sum_obs_from_NOAA"
   ]
  },
  {
   "cell_type": "code",
   "execution_count": null,
   "id": "06deda16",
   "metadata": {},
   "outputs": [],
   "source": [
    "daily_sum_obs_from_NOAA_BEIRA=select_station(daily_sum_obs_from_NOAA,'BEIRA, MZ')"
   ]
  },
  {
   "cell_type": "code",
   "execution_count": null,
   "id": "ee16c3a2",
   "metadata": {},
   "outputs": [],
   "source": [
    "daily_sum_obs_from_NOAA_PEMBA=select_station(daily_sum_obs_from_NOAA,'PEMBA, MZ')"
   ]
  },
  {
   "cell_type": "code",
   "execution_count": null,
   "id": "c5644379",
   "metadata": {},
   "outputs": [],
   "source": [
    "daily_sum_obs_from_NOAA_CHIMOIO=select_station(daily_sum_obs_from_NOAA,'CHIMOIO, MZ')"
   ]
  },
  {
   "cell_type": "markdown",
   "id": "8d2c4381",
   "metadata": {},
   "source": [
    "### Precipitation from Gorongosa "
   ]
  },
  {
   "cell_type": "code",
   "execution_count": null,
   "id": "82906d06",
   "metadata": {},
   "outputs": [],
   "source": [
    "path = r'C:\\Users\\CLMRX\\COWI\\A248363 - Climate analysis - Documents\\General\\CRVA_tool\\Master_thesis\\Project\\3 - Implementation\\1 - Data\\1-BC\\DirecltyfromMoz\\Precipitation_Gorongosa_reformat.csv'\n",
    "pr_obs_gorongosa_from_gorongosa = pd.read_csv(path)\n",
    "pr_obs_gorongosa_from_gorongosa=add_year_month_season(pr_obs_gorongosa_from_gorongosa,'time')\n",
    "pr_obs_gorongosa_from_gorongosa['pr'][pr_obs_gorongosa_from_gorongosa['pr']=='s/i'] = pr_obs_gorongosa_from_gorongosa['pr'].iloc[0]\n",
    "pr_obs_gorongosa_from_gorongosa['pr'] = pr_obs_gorongosa_from_gorongosa['pr'].astype(float)\n",
    "pr_obs_gorongosa_from_gorongosa"
   ]
  },
  {
   "cell_type": "markdown",
   "id": "97f64bf4",
   "metadata": {},
   "source": [
    "## MODELED DATA"
   ]
  },
  {
   "cell_type": "markdown",
   "id": "a8cfd65a",
   "metadata": {},
   "source": [
    "### Precipitation NEX-GDDP-CMIP6"
   ]
  },
  {
   "cell_type": "code",
   "execution_count": null,
   "id": "dd393350",
   "metadata": {},
   "outputs": [],
   "source": [
    "# to compare historic modelisation with NOAA observation data\n",
    "path_model_pr_past = r'\\\\COWI.net\\projects\\A245000\\A248363\\CRVA\\Datasets\\NEX-GDDP-CMIP6-AllMoz\\csv_file\\pr\\pr_mm_per_day_day_1970-2014_CLosest_to_NOAA\\NEXGDDPCMIP6_at_same_emplacement_as_NOAA_stationPembaChimoioBeira_pr_1970-2014_projectsMoz.csv'\n",
    "pr_model_NEX_GDDPCMIP6_to_comp_NOAA_past = pd.read_csv(path_model_pr_past)\n",
    "pr_model_NEX_GDDPCMIP6_to_comp_NOAA_past=add_year_month_season(pr_model_NEX_GDDPCMIP6_to_comp_NOAA_past,'Date')\n",
    "pr_model_NEX_GDDPCMIP6_to_comp_NOAA_CHIMOIO_past = pr_model_NEX_GDDPCMIP6_to_comp_NOAA_past[pr_model_NEX_GDDPCMIP6_to_comp_NOAA_past['Name station']=='CHIMOIO, MZ']\n",
    "pr_model_NEX_GDDPCMIP6_to_comp_NOAA_PEMBA_past = pr_model_NEX_GDDPCMIP6_to_comp_NOAA_past[pr_model_NEX_GDDPCMIP6_to_comp_NOAA_past['Name station']=='PEMBA, MZ']\n",
    "pr_model_NEX_GDDPCMIP6_to_comp_NOAA_BEIRA_past = pr_model_NEX_GDDPCMIP6_to_comp_NOAA_past[pr_model_NEX_GDDPCMIP6_to_comp_NOAA_past['Name station']=='BEIRA, MZ']"
   ]
  },
  {
   "cell_type": "code",
   "execution_count": null,
   "id": "8fccdda6",
   "metadata": {},
   "outputs": [],
   "source": [
    "pr_model_NEX_GDDPCMIP6_to_comp_NOAA_BEIRA_past"
   ]
  },
  {
   "cell_type": "code",
   "execution_count": null,
   "id": "3391c6e8",
   "metadata": {},
   "outputs": [],
   "source": [
    "# pas convaincue que le ligne suivante soit tres utile"
   ]
  },
  {
   "cell_type": "code",
   "execution_count": null,
   "id": "67f24be7",
   "metadata": {},
   "outputs": [],
   "source": [
    "# to compare projections with NOAA observation data\n",
    "path_past_proj = r'\\\\COWI.net\\projects\\A245000\\A248363\\CRVA\\Datasets\\NEX-GDDP-CMIP6-AllMoz\\csv_file\\pr\\pr_mm_per_day_day_1950-2100\\pr_1950-2100_projectsMoz.csv'\n",
    "pr_model_NEX_GDDPCMIP6_to_comp_NOAA_past_proj = pd.read_csv(path_past_proj)\n",
    "pr_model_NEX_GDDPCMIP6_to_comp_NOAA_past_proj=add_year_month_season(pr_model_NEX_GDDPCMIP6_to_comp_NOAA_past_proj,'Date')\n",
    "pr_model_NEX_GDDPCMIP6_to_comp_NOAA_project_Pemba = pr_model_NEX_GDDPCMIP6_to_comp_NOAA_past_proj[pr_model_NEX_GDDPCMIP6_to_comp_NOAA_past_proj['Name project']=='Pemba_EIB']\n",
    "pr_model_NEX_GDDPCMIP6_to_comp_NOAA_project_Chimoio = pr_model_NEX_GDDPCMIP6_to_comp_NOAA_past_proj[pr_model_NEX_GDDPCMIP6_to_comp_NOAA_past_proj['Name project']=='Chimoio_WTP_EIB']\n",
    "pr_model_NEX_GDDPCMIP6_to_comp_NOAA_project_Mutua = pr_model_NEX_GDDPCMIP6_to_comp_NOAA_past_proj[pr_model_NEX_GDDPCMIP6_to_comp_NOAA_past_proj['Name project']=='WTP_Mutua_EIB']"
   ]
  },
  {
   "cell_type": "markdown",
   "id": "05cce432",
   "metadata": {},
   "source": [
    "### Temperature NEX-GDDP-CMIP6"
   ]
  },
  {
   "cell_type": "code",
   "execution_count": null,
   "id": "c3cf2a2b",
   "metadata": {},
   "outputs": [],
   "source": [
    "# to compare with NOAA observation data\n",
    "path_model_tas_past = r'\\\\COWI.net\\projects\\A245000\\A248363\\CRVA\\Datasets\\NEX-GDDP-CMIP6-AllMoz\\csv_file\\tas\\tas_Celsius_day_1970-2014_closest_to_NOAA\\NEXGDDPCMIP6_at_same_emplacement_as_NOAA_stationPembaChimoioBeira_tas_1970-2014_projectsMoz.csv'\n",
    "tas_model_NEX_GDDPCMIP6_to_comp_NOAA_past = pd.read_csv(path_model_tas_past)\n",
    "tas_model_NEX_GDDPCMIP6_to_comp_NOAA_past=add_year_month_season(tas_model_NEX_GDDPCMIP6_to_comp_NOAA_past,'Date')\n",
    "tas_model_NEX_GDDPCMIP6_to_comp_NOAA_CHIMOIO_past = tas_model_NEX_GDDPCMIP6_to_comp_NOAA_past[tas_model_NEX_GDDPCMIP6_to_comp_NOAA_past['Name station']=='CHIMOIO, MZ']\n",
    "tas_model_NEX_GDDPCMIP6_to_comp_NOAA_PEMBA_past = tas_model_NEX_GDDPCMIP6_to_comp_NOAA_past[tas_model_NEX_GDDPCMIP6_to_comp_NOAA_past['Name station']=='PEMBA, MZ']\n",
    "tas_model_NEX_GDDPCMIP6_to_comp_NOAA_BEIRA_past = tas_model_NEX_GDDPCMIP6_to_comp_NOAA_past[tas_model_NEX_GDDPCMIP6_to_comp_NOAA_past['Name station']=='BEIRA, MZ']"
   ]
  },
  {
   "cell_type": "markdown",
   "id": "bf14fbb4",
   "metadata": {},
   "source": [
    "### Maximum temperature NEX-GDDP-CMIP6"
   ]
  },
  {
   "cell_type": "code",
   "execution_count": null,
   "id": "2faabbfe",
   "metadata": {},
   "outputs": [],
   "source": [
    "# to compare with NOAA observation data\n",
    "path = r'\\\\COWI.net\\projects\\A245000\\A248363\\CRVA\\Datasets\\NEX-GDDP-CMIP6-AllMoz\\csv_file\\tasmax\\tasmax_Celsius_day_1970-2014_closest_to_NOAA\\NEXGDDPCMIP6_at_same_emplacement_as_NOAA_stationPembaChimoioBeira_tasmax_1970-2014_projectsMoz.csv'\n",
    "tasmax_model_NEX_GDDPCMIP6_to_comp_NOAA_past = pd.read_csv(path)\n",
    "tasmax_model_NEX_GDDPCMIP6_to_comp_NOAA_past=add_year_month_season(tasmax_model_NEX_GDDPCMIP6_to_comp_NOAA_past,'Date')\n",
    "tasmax_model_NEX_GDDPCMIP6_to_comp_NOAA_CHIMOIO_past = tasmax_model_NEX_GDDPCMIP6_to_comp_NOAA_past[tasmax_model_NEX_GDDPCMIP6_to_comp_NOAA_past['Name station']=='CHIMOIO, MZ']\n",
    "tasmax_model_NEX_GDDPCMIP6_to_comp_NOAA_PEMBA_past = tasmax_model_NEX_GDDPCMIP6_to_comp_NOAA_past[tasmax_model_NEX_GDDPCMIP6_to_comp_NOAA_past['Name station']=='PEMBA, MZ']\n",
    "tasmax_model_NEX_GDDPCMIP6_to_comp_NOAA_BEIRA_past = tasmax_model_NEX_GDDPCMIP6_to_comp_NOAA_past[tasmax_model_NEX_GDDPCMIP6_to_comp_NOAA_past['Name station']=='BEIRA, MZ']"
   ]
  },
  {
   "cell_type": "code",
   "execution_count": null,
   "id": "7eff266a",
   "metadata": {},
   "outputs": [],
   "source": [
    "# to compare projections with NOAA observation data\n",
    "path_past_proj_tasmax = r'\\\\COWI.net\\projects\\A245000\\A248363\\CRVA\\Datasets\\NEX-GDDP-CMIP6-AllMoz\\csv_file\\tasmax\\tasmax_Celsius_day_1950-2100_Closest_to_NOAA\\NEXGDDPCMIP6_at_same_emplacement_as_NOAA_stationPembaChimoioBeira_tasmax_1950-2100.csv'\n",
    "tasmax_model_NEX_GDDPCMIP6_to_comp_NOAA_past_proj = pd.read_csv(path_past_proj_tasmax)\n",
    "tasmax_model_NEX_GDDPCMIP6_to_comp_NOAA_past_proj=add_year_month_season(tasmax_model_NEX_GDDPCMIP6_to_comp_NOAA_past_proj,'Date')\n",
    "tasmax_model_NEX_GDDPCMIP6_to_comp_NOAA_past_proj_CHIMOIO = tasmax_model_NEX_GDDPCMIP6_to_comp_NOAA_past_proj[tasmax_model_NEX_GDDPCMIP6_to_comp_NOAA_past_proj['Name station']=='CHIMOIO, MZ']\n",
    "tasmax_model_NEX_GDDPCMIP6_to_comp_NOAA_past_proj_PEMBA = tasmax_model_NEX_GDDPCMIP6_to_comp_NOAA_past_proj[tasmax_model_NEX_GDDPCMIP6_to_comp_NOAA_past_proj['Name station']=='PEMBA, MZ']\n",
    "tasmax_model_NEX_GDDPCMIP6_to_comp_NOAA_past_proj_BEIRA = tasmax_model_NEX_GDDPCMIP6_to_comp_NOAA_past_proj[tasmax_model_NEX_GDDPCMIP6_to_comp_NOAA_past_proj['Name station']=='BEIRA, MZ']"
   ]
  },
  {
   "cell_type": "markdown",
   "id": "dfa36787",
   "metadata": {},
   "source": [
    "### Minimum temperature NEX GDDP CMIP6"
   ]
  },
  {
   "cell_type": "code",
   "execution_count": null,
   "id": "7c40df38",
   "metadata": {},
   "outputs": [],
   "source": [
    "# to compare with NOAA observation data\n",
    "path = r'\\\\COWI.net\\projects\\A245000\\A248363\\CRVA\\Datasets\\NEX-GDDP-CMIP6-AllMoz\\csv_file\\tasmin\\tasmin_Celsius_day_1970-2014_closest_to_NOAA\\NEXGDDPCMIP6_at_same_emplacement_as_NOAA_stationPembaChimoioBeira_tasmin_1970-2014_projectsMoz.csv'\n",
    "tasmin_model_NEX_GDDPCMIP6_to_comp_NOAA_past = pd.read_csv(path)\n",
    "tasmin_model_NEX_GDDPCMIP6_to_comp_NOAA_past=add_year_month_season(tasmin_model_NEX_GDDPCMIP6_to_comp_NOAA_past,'Date')\n",
    "tasmin_model_NEX_GDDPCMIP6_to_comp_NOAA_CHIMOIO_past = tasmin_model_NEX_GDDPCMIP6_to_comp_NOAA_past[tasmin_model_NEX_GDDPCMIP6_to_comp_NOAA_past['Name station']=='CHIMOIO, MZ']\n",
    "tasmin_model_NEX_GDDPCMIP6_to_comp_NOAA_PEMBA_past = tasmin_model_NEX_GDDPCMIP6_to_comp_NOAA_past[tasmin_model_NEX_GDDPCMIP6_to_comp_NOAA_past['Name station']=='PEMBA, MZ']\n",
    "tasmin_model_NEX_GDDPCMIP6_to_comp_NOAA_BEIRA_past = tasmin_model_NEX_GDDPCMIP6_to_comp_NOAA_past[tasmin_model_NEX_GDDPCMIP6_to_comp_NOAA_past['Name station']=='BEIRA, MZ']"
   ]
  },
  {
   "cell_type": "markdown",
   "id": "047d12f6",
   "metadata": {},
   "source": [
    "# Compare NOAA station with NEX-GDDP-CMIP6 data at the same emplacement"
   ]
  },
  {
   "cell_type": "markdown",
   "id": "6288d60e",
   "metadata": {},
   "source": [
    "## Temperature"
   ]
  },
  {
   "cell_type": "code",
   "execution_count": null,
   "id": "5d061bb1",
   "metadata": {
    "scrolled": true
   },
   "outputs": [],
   "source": [
    "compare_3_lines('test','Mean','temperature',tas_model_NEX_GDDPCMIP6_to_comp_NOAA_BEIRA_past,'Daily Near-Surface Air Temperature °C',daily_sum_obs_from_NOAA_BEIRA,'TAVG','NOAA','Annual mean daily temperature °C','Beira')"
   ]
  },
  {
   "cell_type": "code",
   "execution_count": null,
   "id": "8d7c0eda",
   "metadata": {},
   "outputs": [],
   "source": [
    "cdf_plot_category_or_obs('Beira, MZ',df_initial=tas_model_NEX_GDDPCMIP6_to_comp_NOAA_BEIRA_past[['Model','Year','Daily Near-Surface Air Temperature °C']],name_column_df='Daily Near-Surface Air Temperature °C',source_df='NEX-GDDP-CMIP6',category='Model',obs_initial=daily_sum_obs_from_NOAA_BEIRA,name_column_obs='TAVG',source_obs='NOAA')"
   ]
  },
  {
   "cell_type": "code",
   "execution_count": null,
   "id": "c22b73d3",
   "metadata": {},
   "outputs": [],
   "source": [
    "boxplots_('temperature',tas_model_NEX_GDDPCMIP6_to_comp_NOAA_BEIRA_past,'Daily Near-Surface Air Temperature °C',daily_sum_obs_from_NOAA_BEIRA,'TAVG','Beira')"
   ]
  },
  {
   "cell_type": "code",
   "execution_count": null,
   "id": "45d0c439",
   "metadata": {},
   "outputs": [],
   "source": [
    "compare_3_lines('test','Mean','temperature',tas_model_NEX_GDDPCMIP6_to_comp_NOAA_PEMBA_past,'Daily Near-Surface Air Temperature °C',daily_sum_obs_from_NOAA_PEMBA,'TAVG','NOAA','Annual mean daily temperature °C','Pemba')"
   ]
  },
  {
   "cell_type": "code",
   "execution_count": null,
   "id": "bbd020a2",
   "metadata": {},
   "outputs": [],
   "source": [
    "cdf_plot_category_or_obs('Pemba, MZ',df_initial=tas_model_NEX_GDDPCMIP6_to_comp_NOAA_PEMBA_past[['Model','Year','Daily Near-Surface Air Temperature °C']],name_column_df='Daily Near-Surface Air Temperature °C',source_df='NEX-GDDP-CMIP6',category='Model',obs_initial=daily_sum_obs_from_NOAA_PEMBA,name_column_obs='TAVG',source_obs='NOAA')"
   ]
  },
  {
   "cell_type": "code",
   "execution_count": null,
   "id": "e3de6b1b",
   "metadata": {},
   "outputs": [],
   "source": [
    "boxplots_('temperature',tas_model_NEX_GDDPCMIP6_to_comp_NOAA_PEMBA_past,'Daily Near-Surface Air Temperature °C',daily_sum_obs_from_NOAA_PEMBA,'TAVG','Pemba')"
   ]
  },
  {
   "cell_type": "code",
   "execution_count": null,
   "id": "b9a69274",
   "metadata": {},
   "outputs": [],
   "source": [
    "compare_3_lines('test','Mean','temperature',tas_model_NEX_GDDPCMIP6_to_comp_NOAA_CHIMOIO_past,'Daily Near-Surface Air Temperature °C',daily_sum_obs_from_NOAA_CHIMOIO,'TAVG','NOAA','Annual mean daily temperature °C','Chimoio')"
   ]
  },
  {
   "cell_type": "code",
   "execution_count": null,
   "id": "3766c67d",
   "metadata": {},
   "outputs": [],
   "source": [
    "daily_sum_obs_from_NOAA_CHIMOIO[['Year','TAVG']].groupby('Year').mean().plot()"
   ]
  },
  {
   "cell_type": "code",
   "execution_count": null,
   "id": "7532c6b1",
   "metadata": {},
   "outputs": [],
   "source": [
    "sum(daily_sum_obs_from_NOAA_CHIMOIO[['TAVG MISSING']].values)"
   ]
  },
  {
   "cell_type": "code",
   "execution_count": null,
   "id": "9dcc22c0",
   "metadata": {},
   "outputs": [],
   "source": [
    "title_fig = 'test'\n",
    "title_x_axis = 'Mean'\n",
    "clim_var = 'temperature'\n",
    "data_1 = tas_model_NEX_GDDPCMIP6_to_comp_NOAA_CHIMOIO_past\n",
    "name_col_1 = 'Daily Near-Surface Air Temperature °C'\n",
    "data_2 = daily_sum_obs_from_NOAA_CHIMOIO\n",
    "name_col_2 = 'TAVG'\n",
    "source_2 = 'NOAA'\n",
    "y_name = 'Annual mean daily temperature °C'\n",
    "name_station = 'Chimoio'\n",
    "x_name='Year'\n",
    "tuple_error_bar=('pi',80)\n",
    "    "
   ]
  },
  {
   "cell_type": "code",
   "execution_count": null,
   "id": "73cd889d",
   "metadata": {},
   "outputs": [],
   "source": [
    "if sum(missing_data_per_year.values)==0:\n",
    "    print('lapin')"
   ]
  },
  {
   "cell_type": "code",
   "execution_count": null,
   "id": "ca0ef08a",
   "metadata": {},
   "outputs": [],
   "source": [
    "fig,ax=plt.subplots()\n",
    "plt.tight_layout() # Adjust the padding between and around subplots.\n",
    "\n",
    " # count the number of missing observation data per year\n",
    "missing_data_per_year = data_2.groupby('Year')[[name_col_2+' MISSING']].sum()\n",
    "# calculate the yearly mean of the observation data\n",
    "obs_data_per_year = data_2.groupby('Year')[[name_col_2]].mean()\n",
    "# replace value of the yearly mean by Nan if the year is missing more than 1/3 of its values\n",
    "obs_data_per_year[missing_data_per_year[name_col_2+' MISSING']>122] = np.nan\n",
    "\n",
    "# determine which period we are plotting\n",
    "start_year_hist=min(obs_data_per_year.index)\n",
    "stop_year_hist=max(obs_data_per_year.index)\n",
    "\n",
    "# plot modeled data\n",
    "sns.lineplot(data=data_1.groupby(['Experiment','Model','Year'])[[name_col_1]].mean(),x='Year', y=name_col_1,hue='Model',errorbar=tuple_error_bar,ax=ax)\n",
    "\n",
    "########## plot observed data\n",
    "obs_data_per_year=obs_data_per_year.rename(columns={name_col_2:'Observation data from '+source_2})\n",
    "\n",
    "if sum(missing_data_per_year.values)==0:\n",
    "    sns.lineplot(data=obs_data_per_year,palette=['black'],ax=ax)\n",
    "else:\n",
    "    for year in obs_data_per_year.index[0:len(obs_data_per_year.index)-2]:\n",
    "        try:\n",
    "            sns.lineplot(data=obs_data_per_year.loc[[year,year+1]],palette=['black'],ax=ax)\n",
    "        except: # some data dont cover every years\n",
    "            pass\n",
    "r'''\n",
    "ax.set_ylabel('Yearly average '+name_col_1)\n",
    "# control labels in legend\n",
    "handles1, labels1=ax.get_legend_handles_labels() # register information from first y axis for the legend\n",
    "labels1, ids1 = np.unique(labels1, return_index=True)\n",
    "labels1=list(labels1)\n",
    "handles1 = [handles1[i] for i in ids1]\n",
    "\n",
    "# make the labels in the legend appear in the order wanted\n",
    "if labels1[len(labels1)-1]!='Observation data from '+source_2:\n",
    "    str_1= labels1[len(labels1)-1]\n",
    "    str_2= labels1[len(labels1)-2]\n",
    "\n",
    "    handles1_end = handles1[len(handles1)-1]\n",
    "    handles1_end_1 = handles1[len(handles1)-2]\n",
    "\n",
    "    labels1[len(labels1)-1] = str_2\n",
    "    labels1[len(labels1)-2] = str_1\n",
    "\n",
    "    handles1[len(handles1)-2] = handles1_end\n",
    "    handles1[len(handles1)-1] = handles1_end_1\n",
    "\n",
    "# is there some missing data ? if yes, we plot them. If not, we don t plot them\n",
    "if sum(missing_data_per_year[name_col_2+' MISSING'])!=0:\n",
    "    # there are some missing data in observation data\n",
    "    ax2 = ax.twinx()\n",
    "    sns.lineplot(data=missing_data_per_year.reset_index(),x='Year',y=name_col_2+' MISSING',color='red',label='Missing observation data',ax=ax2)\n",
    "    ax2.set_ylim(0, 370) # impose this scale to know how much data missing for 365 days\n",
    "    ax2.set_ylabel('Number of missing data in '+source_2+' dataset')\n",
    "    # set right axis on red\n",
    "    ax2.yaxis.label.set_color('red')\n",
    "    ax2.tick_params(axis='y', colors='red')\n",
    "    ax2.spines['right'].set_color('red')\n",
    "    handles2, labels2=ax2.get_legend_handles_labels() # register information from first y axis for the legend\n",
    "    # display the legend\n",
    "    fig.legend(handles1+handles2, labels1+labels2, loc='upper right', ncol=1, bbox_to_anchor=(1.47, 0.9),title='Legend')\n",
    "    ax2.get_legend().remove() # this line permits to have a common legend for the boxplots and the line\n",
    "\n",
    "else:\n",
    "    # there are no missing data\n",
    "    plt.figtext(1.2, 0, \"There are no missing data in the observation data\", ha=\"center\", fontsize=7, bbox={\"facecolor\":\"white\", \"alpha\":0.5, \"pad\":5})\n",
    "    fig.legend(handles1, labels1, loc='upper right', ncol=1, bbox_to_anchor=(1.4, 0.9),title='Legend')\n",
    "\n",
    "ax.get_legend().remove() # this line permits to have a common legend for the boxplots and the line\n",
    "\n",
    "\n",
    "plt.title('Modeled NEX-GDDP-CMIP6 yearly average '+clim_var+' accross time at '+name_station+',\\n compared to observed yearly average '+clim_var+' from '+source_2+', between '+str(start_year_hist)+' and '+str(stop_year_hist))\n",
    "#path_figure=os.path.join(r'C:\\Users\\CLMRX\\OneDrive - COWI\\Documents\\GitHub\\CRVA_tool\\outputs\\figures',title_fig+'.png')\n",
    "#plt.savefig(path_figure,format ='png') # savefig or save text must be before plt.show. for savefig, format should be explicity written\n",
    "plt.show()\n",
    "'''"
   ]
  },
  {
   "cell_type": "code",
   "execution_count": null,
   "id": "a07cf365",
   "metadata": {},
   "outputs": [],
   "source": []
  },
  {
   "cell_type": "code",
   "execution_count": null,
   "id": "303f8e30",
   "metadata": {},
   "outputs": [],
   "source": [
    "cdf_plot_category_or_obs('Chimoio, MZ',df_initial=tas_model_NEX_GDDPCMIP6_to_comp_NOAA_CHIMOIO_past[['Model','Year','Daily Near-Surface Air Temperature °C']],name_column_df='Daily Near-Surface Air Temperature °C',source_df='NEX-GDDP-CMIP6',category='Model',obs_initial=daily_sum_obs_from_NOAA_CHIMOIO,name_column_obs='TAVG',source_obs='NOAA')"
   ]
  },
  {
   "cell_type": "code",
   "execution_count": null,
   "id": "f87cc3bd",
   "metadata": {},
   "outputs": [],
   "source": [
    "boxplots_('temperature',tas_model_NEX_GDDPCMIP6_to_comp_NOAA_CHIMOIO_past,'Daily Near-Surface Air Temperature °C',daily_sum_obs_from_NOAA_CHIMOIO,'TAVG','Chimoio')"
   ]
  },
  {
   "cell_type": "markdown",
   "id": "73611e35",
   "metadata": {},
   "source": [
    "## Maximum temperature"
   ]
  },
  {
   "cell_type": "code",
   "execution_count": null,
   "id": "286e741b",
   "metadata": {},
   "outputs": [],
   "source": [
    "compare_3_lines('test','Mean','maximum temperature',tasmax_model_NEX_GDDPCMIP6_to_comp_NOAA_BEIRA_past,'Daily Maximum Near-Surface Air Temperature °C',daily_sum_obs_from_NOAA_BEIRA,'TMAX','NOAA','Annual mean maximum daily temperature °C','Beira')"
   ]
  },
  {
   "cell_type": "code",
   "execution_count": null,
   "id": "b42d5237",
   "metadata": {},
   "outputs": [],
   "source": [
    "cdf_plot_category_or_obs('Beira, MZ',df_initial=tasmax_model_NEX_GDDPCMIP6_to_comp_NOAA_BEIRA_past[['Model','Year','Daily Maximum Near-Surface Air Temperature °C']],name_column_df='Daily Maximum Near-Surface Air Temperature °C',source_df='NEX-GDDP-CMIP6',category='Model',obs_initial=daily_sum_obs_from_NOAA_BEIRA,name_column_obs='TMAX',source_obs='NOAA')"
   ]
  },
  {
   "cell_type": "code",
   "execution_count": null,
   "id": "6b0ad028",
   "metadata": {},
   "outputs": [],
   "source": [
    "boxplots_('maximum temperature',tasmax_model_NEX_GDDPCMIP6_to_comp_NOAA_BEIRA_past,'Daily Maximum Near-Surface Air Temperature °C',daily_sum_obs_from_NOAA_BEIRA,'TMAX','Beira')"
   ]
  },
  {
   "cell_type": "code",
   "execution_count": null,
   "id": "820c32e7",
   "metadata": {},
   "outputs": [],
   "source": [
    "compare_3_lines('test','Mean','maximum temperature',tasmax_model_NEX_GDDPCMIP6_to_comp_NOAA_PEMBA_past,'Daily Maximum Near-Surface Air Temperature °C',daily_sum_obs_from_NOAA_PEMBA,'TMAX','NOAA','Annual mean maximum daily temperature °C','PEMBA')"
   ]
  },
  {
   "cell_type": "code",
   "execution_count": null,
   "id": "bd68cd76",
   "metadata": {},
   "outputs": [],
   "source": [
    "cdf_plot_category_or_obs('Pemba, MZ',df_initial=tasmax_model_NEX_GDDPCMIP6_to_comp_NOAA_PEMBA_past[['Model','Year','Daily Maximum Near-Surface Air Temperature °C']],name_column_df='Daily Maximum Near-Surface Air Temperature °C',source_df='NEX-GDDP-CMIP6',category='Model',obs_initial=daily_sum_obs_from_NOAA_PEMBA,name_column_obs='TMAX',source_obs='NOAA')"
   ]
  },
  {
   "cell_type": "code",
   "execution_count": null,
   "id": "dfd67e5f",
   "metadata": {},
   "outputs": [],
   "source": [
    "boxplots_('maximum temperature',tasmax_model_NEX_GDDPCMIP6_to_comp_NOAA_PEMBA_past,'Daily Maximum Near-Surface Air Temperature °C',daily_sum_obs_from_NOAA_PEMBA,'TMAX','Pemba')"
   ]
  },
  {
   "cell_type": "code",
   "execution_count": null,
   "id": "b70d88f1",
   "metadata": {},
   "outputs": [],
   "source": [
    "df = tasmax_model_NEX_GDDPCMIP6_to_comp_NOAA_past_proj_PEMBA[['Experiment','Year','Model','Daily Maximum Near-Surface Air Temperature °C']]#.groupby(['Experiment','Year'])[['Daily Maximum Near-Surface Air Temperature °C']].mean().reset_index()\n",
    "cdf_plot_category_or_obs('Pemba, MZ',df_initial=df,name_column_df='Daily Maximum Near-Surface Air Temperature °C',source_df='NEX-GDDP-CMIP6',category='Experiment',obs_initial=daily_sum_obs_from_NOAA_PEMBA,name_column_obs='TMAX',source_obs='NOAA')"
   ]
  },
  {
   "cell_type": "code",
   "execution_count": null,
   "id": "b367cf1f",
   "metadata": {},
   "outputs": [],
   "source": [
    "compare_3_lines('test','Mean','maximum temperature',tasmax_model_NEX_GDDPCMIP6_to_comp_NOAA_CHIMOIO_past,'Daily Maximum Near-Surface Air Temperature °C',daily_sum_obs_from_NOAA_CHIMOIO,'TMAX','NOAA','Annual mean maximum daily temperature °C','CHIMOIO')"
   ]
  },
  {
   "cell_type": "code",
   "execution_count": null,
   "id": "70debc9a",
   "metadata": {},
   "outputs": [],
   "source": [
    "cdf_plot_category_or_obs('Chimoio, MZ',df_initial=tasmax_model_NEX_GDDPCMIP6_to_comp_NOAA_CHIMOIO_past[['Model','Year','Daily Maximum Near-Surface Air Temperature °C']],name_column_df='Daily Maximum Near-Surface Air Temperature °C',source_df='NEX-GDDP-CMIP6',category='Model',obs_initial=daily_sum_obs_from_NOAA_CHIMOIO,name_column_obs='TMAX',source_obs='NOAA')"
   ]
  },
  {
   "cell_type": "code",
   "execution_count": null,
   "id": "dea54f5c",
   "metadata": {},
   "outputs": [],
   "source": [
    "boxplots_('maximum temperature',tasmax_model_NEX_GDDPCMIP6_to_comp_NOAA_CHIMOIO_past,'Daily Maximum Near-Surface Air Temperature °C',daily_sum_obs_from_NOAA_CHIMOIO,'TMAX','Chimoio')"
   ]
  },
  {
   "cell_type": "markdown",
   "id": "9f0394af",
   "metadata": {},
   "source": [
    "## Minimum temperature"
   ]
  },
  {
   "cell_type": "code",
   "execution_count": null,
   "id": "4d47b54d",
   "metadata": {},
   "outputs": [],
   "source": [
    "# Beira"
   ]
  },
  {
   "cell_type": "code",
   "execution_count": null,
   "id": "2eee1738",
   "metadata": {},
   "outputs": [],
   "source": [
    "compare_3_lines('test','Mean','minimum temperature',tasmin_model_NEX_GDDPCMIP6_to_comp_NOAA_BEIRA_past,'Daily Minimum Near-Surface Air Temperature °C',daily_sum_obs_from_NOAA_BEIRA,'TMIN','NOAA','Annual mean daily minimum temperature °C','Beira')"
   ]
  },
  {
   "cell_type": "code",
   "execution_count": null,
   "id": "7dd5a2d4",
   "metadata": {},
   "outputs": [],
   "source": [
    "cdf_plot_category_or_obs('BEIRA, MZ',df_initial=tasmin_model_NEX_GDDPCMIP6_to_comp_NOAA_BEIRA_past[['Model','Year','Daily Minimum Near-Surface Air Temperature °C']],name_column_df='Daily Minimum Near-Surface Air Temperature °C',source_df='NEX-GDDP-CMIP6',category='Model',obs_initial=daily_sum_obs_from_NOAA_BEIRA,name_column_obs='TMIN',source_obs='NOAA')"
   ]
  },
  {
   "cell_type": "code",
   "execution_count": null,
   "id": "df55a197",
   "metadata": {},
   "outputs": [],
   "source": [
    "boxplots_('minimum temperature',tasmin_model_NEX_GDDPCMIP6_to_comp_NOAA_BEIRA_past,'Daily Minimum Near-Surface Air Temperature °C',daily_sum_obs_from_NOAA_BEIRA,'TMIN','Beira')"
   ]
  },
  {
   "cell_type": "code",
   "execution_count": null,
   "id": "453c1f37",
   "metadata": {},
   "outputs": [],
   "source": [
    "# pemba"
   ]
  },
  {
   "cell_type": "code",
   "execution_count": null,
   "id": "dc18c193",
   "metadata": {},
   "outputs": [],
   "source": [
    "compare_3_lines('test','Mean','minimum temperature',tasmin_model_NEX_GDDPCMIP6_to_comp_NOAA_PEMBA_past,'Daily Minimum Near-Surface Air Temperature °C',daily_sum_obs_from_NOAA_PEMBA,'TMIN','NOAA','Annual mean daily minimum temperature °C','Pemba')"
   ]
  },
  {
   "cell_type": "code",
   "execution_count": null,
   "id": "022175f1",
   "metadata": {},
   "outputs": [],
   "source": [
    "cdf_plot_category_or_obs('PEMBA, MZ',df_initial=tasmin_model_NEX_GDDPCMIP6_to_comp_NOAA_PEMBA_past[['Model','Year','Daily Minimum Near-Surface Air Temperature °C']],name_column_df='Daily Minimum Near-Surface Air Temperature °C',source_df='NEX-GDDP-CMIP6',category='Model',obs_initial=daily_sum_obs_from_NOAA_PEMBA,name_column_obs='TMIN',source_obs='NOAA')"
   ]
  },
  {
   "cell_type": "code",
   "execution_count": null,
   "id": "919a0906",
   "metadata": {},
   "outputs": [],
   "source": [
    "boxplots_('minimum temperature',tasmin_model_NEX_GDDPCMIP6_to_comp_NOAA_PEMBA_past,'Daily Minimum Near-Surface Air Temperature °C',daily_sum_obs_from_NOAA_PEMBA,'TMIN','Pemba')"
   ]
  },
  {
   "cell_type": "code",
   "execution_count": null,
   "id": "c0b6aea3",
   "metadata": {},
   "outputs": [],
   "source": [
    "# Chimoio"
   ]
  },
  {
   "cell_type": "code",
   "execution_count": null,
   "id": "54c77406",
   "metadata": {},
   "outputs": [],
   "source": [
    "compare_3_lines('test','Mean','minimum temperature',tasmin_model_NEX_GDDPCMIP6_to_comp_NOAA_CHIMOIO_past,'Daily Minimum Near-Surface Air Temperature °C',daily_sum_obs_from_NOAA_CHIMOIO,'TMIN','NOAA','Annual mean daily minimum temperature °C','Chimoio')"
   ]
  },
  {
   "cell_type": "code",
   "execution_count": null,
   "id": "ac7189d9",
   "metadata": {},
   "outputs": [],
   "source": [
    "cdf_plot_category_or_obs('CHIMOIO, MZ',df_initial=tasmin_model_NEX_GDDPCMIP6_to_comp_NOAA_CHIMOIO_past[['Model','Year','Daily Minimum Near-Surface Air Temperature °C']],name_column_df='Daily Minimum Near-Surface Air Temperature °C',source_df='NEX-GDDP-CMIP6',category='Model',obs_initial=daily_sum_obs_from_NOAA_CHIMOIO,name_column_obs='TMIN',source_obs='NOAA')"
   ]
  },
  {
   "cell_type": "code",
   "execution_count": null,
   "id": "f39d0c82",
   "metadata": {},
   "outputs": [],
   "source": [
    "boxplots_('minimum temperature',tasmin_model_NEX_GDDPCMIP6_to_comp_NOAA_CHIMOIO_past,'Daily Minimum Near-Surface Air Temperature °C',daily_sum_obs_from_NOAA_CHIMOIO,'TMIN','Chimoio')"
   ]
  },
  {
   "cell_type": "markdown",
   "id": "094a6834",
   "metadata": {},
   "source": [
    "## Precipitation"
   ]
  },
  {
   "cell_type": "code",
   "execution_count": null,
   "id": "6724a51d",
   "metadata": {},
   "outputs": [],
   "source": [
    "compare_3_lines('test','Mean','precipitation',pr_model_NEX_GDDPCMIP6_to_comp_NOAA_BEIRA_past,'Mean of the daily precipitation rate mm/day',daily_sum_obs_from_NOAA_BEIRA,'PRCP','NOAA','Yearly mean of the mean daily precipitation rate mm/day','Beira')"
   ]
  },
  {
   "cell_type": "code",
   "execution_count": null,
   "id": "fd3f71d2",
   "metadata": {},
   "outputs": [],
   "source": [
    "cdf_plot_category_or_obs('Beira, MZ',df_initial=pr_model_NEX_GDDPCMIP6_to_comp_NOAA_BEIRA_past[['Model','Year','Mean of the daily precipitation rate mm/day']],name_column_df='Mean of the daily precipitation rate mm/day',source_df='NEX-GDDP-CMIP6',category='Model',obs_initial=daily_sum_obs_from_NOAA_BEIRA,name_column_obs='PRCP',source_obs='NOAA')"
   ]
  },
  {
   "cell_type": "code",
   "execution_count": null,
   "id": "8bd8da7b",
   "metadata": {},
   "outputs": [],
   "source": [
    "boxplots_('precipitation',pr_model_NEX_GDDPCMIP6_to_comp_NOAA_BEIRA_past,'Mean of the daily precipitation rate mm/day',daily_sum_obs_from_NOAA_BEIRA,'PRCP','Beira')"
   ]
  },
  {
   "cell_type": "code",
   "execution_count": null,
   "id": "d6fd9c5f",
   "metadata": {},
   "outputs": [],
   "source": [
    "compare_3_lines('test','Mean','precipitation',pr_model_NEX_GDDPCMIP6_to_comp_NOAA_PEMBA_past,'Mean of the daily precipitation rate mm/day',daily_sum_obs_from_NOAA_PEMBA,'PRCP','NOAA','Yearly mean of the mean daily precipitation rate mm/day','Pemba')"
   ]
  },
  {
   "cell_type": "code",
   "execution_count": null,
   "id": "60e95f83",
   "metadata": {},
   "outputs": [],
   "source": [
    "cdf_plot_category_or_obs('Pemba, MZ',df_initial=pr_model_NEX_GDDPCMIP6_to_comp_NOAA_PEMBA_past[['Model','Year','Mean of the daily precipitation rate mm/day']],name_column_df='Mean of the daily precipitation rate mm/day',source_df='NEX-GDDP-CMIP6',category='Model',obs_initial=daily_sum_obs_from_NOAA_PEMBA,name_column_obs='PRCP',source_obs='NOAA')"
   ]
  },
  {
   "cell_type": "code",
   "execution_count": null,
   "id": "60ee4d8d",
   "metadata": {},
   "outputs": [],
   "source": [
    "boxplots_('precipitation',pr_model_NEX_GDDPCMIP6_to_comp_NOAA_PEMBA_past,'Mean of the daily precipitation rate mm/day',daily_sum_obs_from_NOAA_PEMBA,'PRCP','Pemba')"
   ]
  },
  {
   "cell_type": "code",
   "execution_count": null,
   "id": "c2e6b7c9",
   "metadata": {},
   "outputs": [],
   "source": [
    "compare_3_lines('test','Mean','precipitation',pr_model_NEX_GDDPCMIP6_to_comp_NOAA_CHIMOIO_past,'Mean of the daily precipitation rate mm/day',daily_sum_obs_from_NOAA_CHIMOIO,'PRCP','NOAA','Yearly mean of the mean daily precipitation rate mm/day','Chimoio')"
   ]
  },
  {
   "cell_type": "code",
   "execution_count": null,
   "id": "a12ebcad",
   "metadata": {},
   "outputs": [],
   "source": [
    "cdf_plot_category_or_obs('Chimoio, MZ',df_initial=pr_model_NEX_GDDPCMIP6_to_comp_NOAA_CHIMOIO_past[['Model','Year','Mean of the daily precipitation rate mm/day']],name_column_df='Mean of the daily precipitation rate mm/day',source_df='NEX-GDDP-CMIP6',category='Model',obs_initial=daily_sum_obs_from_NOAA_CHIMOIO,name_column_obs='PRCP',source_obs='NOAA')"
   ]
  },
  {
   "cell_type": "code",
   "execution_count": null,
   "id": "338e765c",
   "metadata": {},
   "outputs": [],
   "source": [
    "boxplots_('precipitation',pr_model_NEX_GDDPCMIP6_to_comp_NOAA_CHIMOIO_past,'Mean of the daily precipitation rate mm/day',daily_sum_obs_from_NOAA_CHIMOIO,'PRCP','Chimoio')"
   ]
  },
  {
   "cell_type": "markdown",
   "id": "b5adf42c",
   "metadata": {},
   "source": [
    "# What needs to be changed ?\n",
    "## Which models need to be taken out ?"
   ]
  },
  {
   "cell_type": "markdown",
   "id": "2880b962",
   "metadata": {},
   "source": [
    "those graphs confirm that for precipitation and maximum temperature, no need to kill a model. But, for temperature and minimum temeprature, 'TAIESM1' and 'CMCC-CM2-SR5' are not following the trend. Take out those 2 models for all climate variable"
   ]
  },
  {
   "cell_type": "code",
   "execution_count": null,
   "id": "1ff7fe5b",
   "metadata": {},
   "outputs": [],
   "source": [
    "# take out models for maximum temperature\n",
    "tasmax_model_NEX_GDDPCMIP6_to_comp_NOAA_past = tasmax_model_NEX_GDDPCMIP6_to_comp_NOAA_past[tasmax_model_NEX_GDDPCMIP6_to_comp_NOAA_past['Model']!='CMCC-CM2-SR5']\n",
    "tasmax_model_NEX_GDDPCMIP6_to_comp_NOAA_past = tasmax_model_NEX_GDDPCMIP6_to_comp_NOAA_past[tasmax_model_NEX_GDDPCMIP6_to_comp_NOAA_past['Model']!='TaiESM1']\n",
    "\n",
    "tasmax_model_NEX_GDDPCMIP6_to_comp_NOAA_CHIMOIO_past = tasmax_model_NEX_GDDPCMIP6_to_comp_NOAA_past[tasmax_model_NEX_GDDPCMIP6_to_comp_NOAA_past['Name station']=='CHIMOIO, MZ']\n",
    "tasmax_model_NEX_GDDPCMIP6_to_comp_NOAA_PEMBA_past = tasmax_model_NEX_GDDPCMIP6_to_comp_NOAA_past[tasmax_model_NEX_GDDPCMIP6_to_comp_NOAA_past['Name station']=='PEMBA, MZ']\n",
    "tasmax_model_NEX_GDDPCMIP6_to_comp_NOAA_BEIRA_past = tasmax_model_NEX_GDDPCMIP6_to_comp_NOAA_past[tasmax_model_NEX_GDDPCMIP6_to_comp_NOAA_past['Name station']=='BEIRA, MZ']"
   ]
  },
  {
   "cell_type": "code",
   "execution_count": null,
   "id": "c389bbae",
   "metadata": {},
   "outputs": [],
   "source": [
    "# take out models for average temperature\n",
    "tas_model_NEX_GDDPCMIP6_to_comp_NOAA_past = tas_model_NEX_GDDPCMIP6_to_comp_NOAA_past[tas_model_NEX_GDDPCMIP6_to_comp_NOAA_past['Model']!='CMCC-CM2-SR5']\n",
    "tas_model_NEX_GDDPCMIP6_to_comp_NOAA_past = tas_model_NEX_GDDPCMIP6_to_comp_NOAA_past[tas_model_NEX_GDDPCMIP6_to_comp_NOAA_past['Model']!='TaiESM1']\n",
    "\n",
    "tas_model_NEX_GDDPCMIP6_to_comp_NOAA_CHIMOIO_past = tas_model_NEX_GDDPCMIP6_to_comp_NOAA_past[tas_model_NEX_GDDPCMIP6_to_comp_NOAA_past['Name station']=='CHIMOIO, MZ']\n",
    "tas_model_NEX_GDDPCMIP6_to_comp_NOAA_PEMBA_past = tas_model_NEX_GDDPCMIP6_to_comp_NOAA_past[tas_model_NEX_GDDPCMIP6_to_comp_NOAA_past['Name station']=='PEMBA, MZ']\n",
    "tas_model_NEX_GDDPCMIP6_to_comp_NOAA_BEIRA_past = tas_model_NEX_GDDPCMIP6_to_comp_NOAA_past[tas_model_NEX_GDDPCMIP6_to_comp_NOAA_past['Name station']=='BEIRA, MZ']"
   ]
  },
  {
   "cell_type": "code",
   "execution_count": null,
   "id": "3673f88a",
   "metadata": {},
   "outputs": [],
   "source": [
    "# take out models for maximum temperature\n",
    "tasmax_model_NEX_GDDPCMIP6_to_comp_NOAA_past = tasmax_model_NEX_GDDPCMIP6_to_comp_NOAA_past[tasmax_model_NEX_GDDPCMIP6_to_comp_NOAA_past['Model']!='CMCC-CM2-SR5']\n",
    "tasmax_model_NEX_GDDPCMIP6_to_comp_NOAA_past = tasmax_model_NEX_GDDPCMIP6_to_comp_NOAA_past[tasmax_model_NEX_GDDPCMIP6_to_comp_NOAA_past['Model']!='TaiESM1']\n",
    "\n",
    "tasmax_model_NEX_GDDPCMIP6_to_comp_NOAA_CHIMOIO_past = tasmax_model_NEX_GDDPCMIP6_to_comp_NOAA_past[tasmax_model_NEX_GDDPCMIP6_to_comp_NOAA_past['Name station']=='CHIMOIO, MZ']\n",
    "tasmax_model_NEX_GDDPCMIP6_to_comp_NOAA_PEMBA_past = tasmax_model_NEX_GDDPCMIP6_to_comp_NOAA_past[tasmax_model_NEX_GDDPCMIP6_to_comp_NOAA_past['Name station']=='PEMBA, MZ']\n",
    "tasmax_model_NEX_GDDPCMIP6_to_comp_NOAA_BEIRA_past = tasmax_model_NEX_GDDPCMIP6_to_comp_NOAA_past[tasmax_model_NEX_GDDPCMIP6_to_comp_NOAA_past['Name station']=='BEIRA, MZ']"
   ]
  },
  {
   "cell_type": "code",
   "execution_count": null,
   "id": "c09ebf4f",
   "metadata": {},
   "outputs": [],
   "source": [
    "# take out models for minimum temperature\n",
    "tasmin_model_NEX_GDDPCMIP6_to_comp_NOAA_past = tasmin_model_NEX_GDDPCMIP6_to_comp_NOAA_past[tasmin_model_NEX_GDDPCMIP6_to_comp_NOAA_past['Model']!='CMCC-CM2-SR5']\n",
    "tasmin_model_NEX_GDDPCMIP6_to_comp_NOAA_past = tasmin_model_NEX_GDDPCMIP6_to_comp_NOAA_past[tasmin_model_NEX_GDDPCMIP6_to_comp_NOAA_past['Model']!='TaiESM1']\n",
    "\n",
    "tasmin_model_NEX_GDDPCMIP6_to_comp_NOAA_CHIMOIO_past = tasmin_model_NEX_GDDPCMIP6_to_comp_NOAA_past[tasmin_model_NEX_GDDPCMIP6_to_comp_NOAA_past['Name station']=='CHIMOIO, MZ']\n",
    "tasmin_model_NEX_GDDPCMIP6_to_comp_NOAA_PEMBA_past = tasmin_model_NEX_GDDPCMIP6_to_comp_NOAA_past[tasmin_model_NEX_GDDPCMIP6_to_comp_NOAA_past['Name station']=='PEMBA, MZ']\n",
    "tasmin_model_NEX_GDDPCMIP6_to_comp_NOAA_BEIRA_past = tasmin_model_NEX_GDDPCMIP6_to_comp_NOAA_past[tasmin_model_NEX_GDDPCMIP6_to_comp_NOAA_past['Name station']=='BEIRA, MZ']"
   ]
  },
  {
   "cell_type": "markdown",
   "id": "bc6ed224",
   "metadata": {},
   "source": [
    "## Temperature : take out some models"
   ]
  },
  {
   "cell_type": "code",
   "execution_count": null,
   "id": "097138b9",
   "metadata": {},
   "outputs": [],
   "source": [
    "tas_model_NEX_GDDPCMIP6_to_comp_NOAA_past = tas_model_NEX_GDDPCMIP6_to_comp_NOAA_past[tas_model_NEX_GDDPCMIP6_to_comp_NOAA_past['Model']!='TaiESM1']"
   ]
  },
  {
   "cell_type": "code",
   "execution_count": null,
   "id": "bab45d8b",
   "metadata": {},
   "outputs": [],
   "source": [
    "tas_model_NEX_GDDPCMIP6_to_comp_NOAA_past = tas_model_NEX_GDDPCMIP6_to_comp_NOAA_past[tas_model_NEX_GDDPCMIP6_to_comp_NOAA_past['Model']!='CMCC-CM2-SR5']"
   ]
  },
  {
   "cell_type": "code",
   "execution_count": null,
   "id": "a8d00696",
   "metadata": {},
   "outputs": [],
   "source": [
    "tas_model_NEX_GDDPCMIP6_to_comp_NOAA_CHIMOIO_past = tas_model_NEX_GDDPCMIP6_to_comp_NOAA_past[tas_model_NEX_GDDPCMIP6_to_comp_NOAA_past['Name station']=='CHIMOIO, MZ']\n",
    "tas_model_NEX_GDDPCMIP6_to_comp_NOAA_PEMBA_past = tas_model_NEX_GDDPCMIP6_to_comp_NOAA_past[tas_model_NEX_GDDPCMIP6_to_comp_NOAA_past['Name station']=='PEMBA, MZ']\n",
    "tas_model_NEX_GDDPCMIP6_to_comp_NOAA_BEIRA_past = tas_model_NEX_GDDPCMIP6_to_comp_NOAA_past[tas_model_NEX_GDDPCMIP6_to_comp_NOAA_past['Name station']=='BEIRA, MZ']"
   ]
  },
  {
   "cell_type": "code",
   "execution_count": null,
   "id": "9d8b87f9",
   "metadata": {},
   "outputs": [],
   "source": [
    "compare_3_lines('test','Mean','temperature',tas_model_NEX_GDDPCMIP6_to_comp_NOAA_BEIRA_past,'Daily Near-Surface Air Temperature °C',daily_sum_obs_from_NOAA_BEIRA,'TAVG','NOAA','Annual mean daily temperature °C','Beira')"
   ]
  },
  {
   "cell_type": "code",
   "execution_count": null,
   "id": "dbbeadfe",
   "metadata": {},
   "outputs": [],
   "source": [
    "cdf_plot_category_or_obs('Beira, MZ',df_initial=tas_model_NEX_GDDPCMIP6_to_comp_NOAA_BEIRA_past[['Model','Year','Daily Near-Surface Air Temperature °C']],name_column_df='Daily Near-Surface Air Temperature °C',source_df='NEX-GDDP-CMIP6',category='Model',obs_initial=daily_sum_obs_from_NOAA_BEIRA,name_column_obs='TAVG',source_obs='NOAA')"
   ]
  },
  {
   "cell_type": "code",
   "execution_count": null,
   "id": "1eec3caf",
   "metadata": {},
   "outputs": [],
   "source": [
    "boxplots_('temperature',tas_model_NEX_GDDPCMIP6_to_comp_NOAA_BEIRA_past,'Daily Near-Surface Air Temperature °C',daily_sum_obs_from_NOAA_BEIRA,'TAVG','Beira')"
   ]
  },
  {
   "cell_type": "code",
   "execution_count": null,
   "id": "be187c4d",
   "metadata": {},
   "outputs": [],
   "source": [
    "compare_3_lines('test','Mean','temperature',tas_model_NEX_GDDPCMIP6_to_comp_NOAA_PEMBA_past,'Daily Near-Surface Air Temperature °C',daily_sum_obs_from_NOAA_PEMBA,'TAVG','NOAA','Annual mean daily temperature °C','Pemba')"
   ]
  },
  {
   "cell_type": "code",
   "execution_count": null,
   "id": "9470e77c",
   "metadata": {},
   "outputs": [],
   "source": [
    "cdf_plot_category_or_obs('Pemba, MZ',df_initial=tas_model_NEX_GDDPCMIP6_to_comp_NOAA_PEMBA_past[['Model','Year','Daily Near-Surface Air Temperature °C']],name_column_df='Daily Near-Surface Air Temperature °C',source_df='NEX-GDDP-CMIP6',category='Model',obs_initial=daily_sum_obs_from_NOAA_PEMBA,name_column_obs='TAVG',source_obs='NOAA')"
   ]
  },
  {
   "cell_type": "code",
   "execution_count": null,
   "id": "c8abe2dd",
   "metadata": {},
   "outputs": [],
   "source": [
    "boxplots_('temperature',tas_model_NEX_GDDPCMIP6_to_comp_NOAA_PEMBA_past,'Daily Near-Surface Air Temperature °C',daily_sum_obs_from_NOAA_PEMBA,'TAVG','Pemba')"
   ]
  },
  {
   "cell_type": "code",
   "execution_count": null,
   "id": "c7850a10",
   "metadata": {},
   "outputs": [],
   "source": [
    "compare_3_lines('test','Mean','temperature',tas_model_NEX_GDDPCMIP6_to_comp_NOAA_CHIMOIO_past,'Daily Near-Surface Air Temperature °C',daily_sum_obs_from_NOAA_CHIMOIO,'TAVG','NOAA','Annual mean daily temperature °C','Chimoio')"
   ]
  },
  {
   "cell_type": "code",
   "execution_count": null,
   "id": "a79b22cc",
   "metadata": {},
   "outputs": [],
   "source": [
    "cdf_plot_category_or_obs('Chimoio, MZ',df_initial=tas_model_NEX_GDDPCMIP6_to_comp_NOAA_CHIMOIO_past[['Model','Year','Daily Near-Surface Air Temperature °C']],name_column_df='Daily Near-Surface Air Temperature °C',source_df='NEX-GDDP-CMIP6',category='Model',obs_initial=daily_sum_obs_from_NOAA_CHIMOIO,name_column_obs='TAVG',source_obs='NOAA')"
   ]
  },
  {
   "cell_type": "code",
   "execution_count": null,
   "id": "aefb4843",
   "metadata": {},
   "outputs": [],
   "source": [
    "boxplots_('temperature',tas_model_NEX_GDDPCMIP6_to_comp_NOAA_CHIMOIO_past,'Daily Near-Surface Air Temperature °C',daily_sum_obs_from_NOAA_CHIMOIO,'TAVG','CHIMOIO')"
   ]
  },
  {
   "cell_type": "markdown",
   "id": "ed283030",
   "metadata": {},
   "source": [
    "## Maximum temperature : take out some models (the ones that were not performing well for average temperature) from modelled data and some extreme values that are not plausible from observation data"
   ]
  },
  {
   "cell_type": "code",
   "execution_count": null,
   "id": "1482f9b7",
   "metadata": {},
   "outputs": [],
   "source": [
    "# take out models \n",
    "tasmax_model_NEX_GDDPCMIP6_to_comp_NOAA_past = tasmax_model_NEX_GDDPCMIP6_to_comp_NOAA_past[tasmax_model_NEX_GDDPCMIP6_to_comp_NOAA_past['Model']!='CMCC-CM2-SR5']\n",
    "tasmax_model_NEX_GDDPCMIP6_to_comp_NOAA_past = tasmax_model_NEX_GDDPCMIP6_to_comp_NOAA_past[tasmax_model_NEX_GDDPCMIP6_to_comp_NOAA_past['Model']!='TaiESM1']"
   ]
  },
  {
   "cell_type": "code",
   "execution_count": null,
   "id": "db428352",
   "metadata": {},
   "outputs": [],
   "source": [
    "tasmax_model_NEX_GDDPCMIP6_to_comp_NOAA_CHIMOIO_past = tasmax_model_NEX_GDDPCMIP6_to_comp_NOAA_past[tasmax_model_NEX_GDDPCMIP6_to_comp_NOAA_past['Name station']=='CHIMOIO, MZ']\n",
    "tasmax_model_NEX_GDDPCMIP6_to_comp_NOAA_PEMBA_past = tasmax_model_NEX_GDDPCMIP6_to_comp_NOAA_past[tasmax_model_NEX_GDDPCMIP6_to_comp_NOAA_past['Name station']=='PEMBA, MZ']\n",
    "tasmax_model_NEX_GDDPCMIP6_to_comp_NOAA_BEIRA_past = tasmax_model_NEX_GDDPCMIP6_to_comp_NOAA_past[tasmax_model_NEX_GDDPCMIP6_to_comp_NOAA_past['Name station']=='BEIRA, MZ']"
   ]
  },
  {
   "cell_type": "code",
   "execution_count": null,
   "id": "26759e78",
   "metadata": {},
   "outputs": [],
   "source": [
    "# chimoio"
   ]
  },
  {
   "cell_type": "code",
   "execution_count": null,
   "id": "6ab6416e",
   "metadata": {},
   "outputs": [],
   "source": [
    "compare_3_lines('test','Mean','maximum temperature',tasmax_model_NEX_GDDPCMIP6_to_comp_NOAA_CHIMOIO_past,'Daily Maximum Near-Surface Air Temperature °C',daily_sum_obs_from_NOAA_CHIMOIO,'TMAX','NOAA','Annual mean daily maximum temperature °C','Chimoio')"
   ]
  },
  {
   "cell_type": "code",
   "execution_count": null,
   "id": "dde3b1db",
   "metadata": {},
   "outputs": [],
   "source": [
    "cdf_plot_category_or_obs('CHIMOIO, MZ',df_initial=tasmax_model_NEX_GDDPCMIP6_to_comp_NOAA_CHIMOIO_past[['Model','Year','Daily Maximum Near-Surface Air Temperature °C']],name_column_df='Daily Maximum Near-Surface Air Temperature °C',source_df='NEX-GDDP-CMIP6',category='Model',obs_initial=daily_sum_obs_from_NOAA_CHIMOIO,name_column_obs='TMAX',source_obs='NOAA')"
   ]
  },
  {
   "cell_type": "code",
   "execution_count": null,
   "id": "a980c662",
   "metadata": {},
   "outputs": [],
   "source": [
    "boxplots_('maximum temperature',tasmax_model_NEX_GDDPCMIP6_to_comp_NOAA_CHIMOIO_past,'Daily Maximum Near-Surface Air Temperature °C',daily_sum_obs_from_NOAA_CHIMOIO,'TMAX','Chimoio')"
   ]
  },
  {
   "cell_type": "code",
   "execution_count": null,
   "id": "ffb89a00",
   "metadata": {},
   "outputs": [],
   "source": [
    "# pemba"
   ]
  },
  {
   "cell_type": "code",
   "execution_count": null,
   "id": "9d2a1415",
   "metadata": {},
   "outputs": [],
   "source": [
    "compare_3_lines('test','Mean','maximum temperature',tasmax_model_NEX_GDDPCMIP6_to_comp_NOAA_PEMBA_past,'Daily Maximum Near-Surface Air Temperature °C',daily_sum_obs_from_NOAA_PEMBA,'TMAX','NOAA','Annual mean daily maximum temperature °C','Pemba')"
   ]
  },
  {
   "cell_type": "code",
   "execution_count": null,
   "id": "9c5f8cbc",
   "metadata": {},
   "outputs": [],
   "source": [
    "cdf_plot_category_or_obs('PEMBA, MZ',df_initial=tasmax_model_NEX_GDDPCMIP6_to_comp_NOAA_PEMBA_past[['Model','Year','Daily Maximum Near-Surface Air Temperature °C']],name_column_df='Daily Maximum Near-Surface Air Temperature °C',source_df='NEX-GDDP-CMIP6',category='Model',obs_initial=daily_sum_obs_from_NOAA_PEMBA,name_column_obs='TMAX',source_obs='NOAA')"
   ]
  },
  {
   "cell_type": "code",
   "execution_count": null,
   "id": "b03a16b3",
   "metadata": {},
   "outputs": [],
   "source": [
    "boxplots_('maximum temperature',tasmax_model_NEX_GDDPCMIP6_to_comp_NOAA_PEMBA_past,'Daily Maximum Near-Surface Air Temperature °C',daily_sum_obs_from_NOAA_PEMBA,'TMAX','Pemba')"
   ]
  },
  {
   "cell_type": "code",
   "execution_count": null,
   "id": "8adb7e1f",
   "metadata": {},
   "outputs": [],
   "source": [
    "# Beira"
   ]
  },
  {
   "cell_type": "code",
   "execution_count": null,
   "id": "95e2cdaa",
   "metadata": {},
   "outputs": [],
   "source": [
    "compare_3_lines('test','Mean','maximum temperature',tasmax_model_NEX_GDDPCMIP6_to_comp_NOAA_BEIRA_past,'Daily Maximum Near-Surface Air Temperature °C',daily_sum_obs_from_NOAA_BEIRA,'TMAX','NOAA','Annual mean daily maximum temperature °C','Beira')"
   ]
  },
  {
   "cell_type": "code",
   "execution_count": null,
   "id": "53eef34b",
   "metadata": {},
   "outputs": [],
   "source": [
    "cdf_plot_category_or_obs('Beira, MZ',df_initial=tasmax_model_NEX_GDDPCMIP6_to_comp_NOAA_BEIRA_past[['Model','Year','Daily Maximum Near-Surface Air Temperature °C']],name_column_df='Daily Maximum Near-Surface Air Temperature °C',source_df='NEX-GDDP-CMIP6',category='Model',obs_initial=daily_sum_obs_from_NOAA_BEIRA,name_column_obs='TMAX',source_obs='NOAA')"
   ]
  },
  {
   "cell_type": "code",
   "execution_count": null,
   "id": "420b520c",
   "metadata": {},
   "outputs": [],
   "source": [
    "boxplots_('maximum temperature',tasmax_model_NEX_GDDPCMIP6_to_comp_NOAA_BEIRA_past,'Daily Maximum Near-Surface Air Temperature °C',daily_sum_obs_from_NOAA_BEIRA,'TMAX','Beira')"
   ]
  },
  {
   "cell_type": "code",
   "execution_count": null,
   "id": "d7a64264",
   "metadata": {},
   "outputs": [],
   "source": []
  },
  {
   "cell_type": "code",
   "execution_count": null,
   "id": "9aea0fd3",
   "metadata": {},
   "outputs": [],
   "source": []
  },
  {
   "cell_type": "code",
   "execution_count": null,
   "id": "f0a5609c",
   "metadata": {},
   "outputs": [],
   "source": []
  },
  {
   "cell_type": "code",
   "execution_count": null,
   "id": "e1d2328b",
   "metadata": {},
   "outputs": [],
   "source": []
  },
  {
   "cell_type": "code",
   "execution_count": null,
   "id": "6547b33b",
   "metadata": {},
   "outputs": [],
   "source": []
  },
  {
   "cell_type": "code",
   "execution_count": null,
   "id": "518a20e0",
   "metadata": {},
   "outputs": [],
   "source": []
  },
  {
   "cell_type": "code",
   "execution_count": null,
   "id": "2918a781",
   "metadata": {},
   "outputs": [],
   "source": []
  },
  {
   "cell_type": "code",
   "execution_count": null,
   "id": "2e7b9cca",
   "metadata": {},
   "outputs": [],
   "source": []
  },
  {
   "cell_type": "code",
   "execution_count": null,
   "id": "460dbc74",
   "metadata": {},
   "outputs": [],
   "source": []
  },
  {
   "cell_type": "code",
   "execution_count": null,
   "id": "426a195a",
   "metadata": {},
   "outputs": [],
   "source": []
  }
 ],
 "metadata": {
  "kernelspec": {
   "display_name": "Python 3 (ipykernel)",
   "language": "python",
   "name": "python3"
  },
  "language_info": {
   "codemirror_mode": {
    "name": "ipython",
    "version": 3
   },
   "file_extension": ".py",
   "mimetype": "text/x-python",
   "name": "python",
   "nbconvert_exporter": "python",
   "pygments_lexer": "ipython3",
   "version": "3.10.6"
  }
 },
 "nbformat": 4,
 "nbformat_minor": 5
}
