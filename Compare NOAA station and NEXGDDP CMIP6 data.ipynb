{
 "cells": [
  {
   "cell_type": "markdown",
   "id": "115184df",
   "metadata": {},
   "source": [
    "This notebook contains the comparaison between observed and modeled NEX GDDP CMIP6 data.\n",
    "\n",
    "Notice: The modeled data only contains one point. Good to do it again but with a zone"
   ]
  },
  {
   "cell_type": "markdown",
   "id": "e19ed021",
   "metadata": {},
   "source": [
    "# Packages"
   ]
  },
  {
   "cell_type": "code",
   "execution_count": 1,
   "id": "98eb9357",
   "metadata": {},
   "outputs": [],
   "source": [
    "import pandas as pd\n",
    "import numpy as np\n",
    "import os\n",
    "import os.path\n",
    "import seaborn as sns\n",
    "import matplotlib\n",
    "import geopy.distance\n",
    "from matplotlib import pyplot as plt\n",
    "\n",
    "from Functions_ImportData import import_filtered_NOAA_obs\n",
    "from Functions_ImportData import import_treat_modeled_NEX_GDDP_CMIP6_close_to_stationNOAA\n",
    "from Functions_Indicators import add_year_month_season\n",
    "from Functions_Indicators import str_month\n",
    "from Functions_Indicators import select_station\n",
    "from Functions_ImportData import import_gorongosa_obs_pr\n",
    "\n",
    "from Graphs_functions import cdf_plot_category_or_obs\n",
    "from Graphs_functions import cdf_plot_category_or_obs_attempt\n",
    "from Graphs_functions import boxplots_\n",
    "from Graphs_functions import boxplots_without_outliers\n",
    "from Graphs_functions import compare_3_lines\n",
    "from Graphs_functions import boxplots_comp"
   ]
  },
  {
   "cell_type": "markdown",
   "id": "18891155",
   "metadata": {},
   "source": [
    "# Import data"
   ]
  },
  {
   "cell_type": "markdown",
   "id": "bc58a4e9",
   "metadata": {},
   "source": [
    "## Observations data"
   ]
  },
  {
   "cell_type": "markdown",
   "id": "12d2cea9",
   "metadata": {},
   "source": [
    "### Precipitation and temperature NOAA"
   ]
  },
  {
   "cell_type": "code",
   "execution_count": 2,
   "id": "f05613de",
   "metadata": {},
   "outputs": [],
   "source": [
    "daily_sum_obs_from_NOAA = import_filtered_NOAA_obs()"
   ]
  },
  {
   "cell_type": "code",
   "execution_count": 3,
   "id": "e398eb66",
   "metadata": {},
   "outputs": [
    {
     "data": {
      "text/plain": [
       "0         29.0\n",
       "1         27.0\n",
       "2          NaN\n",
       "3          NaN\n",
       "4          NaN\n",
       "          ... \n",
       "137721     NaN\n",
       "137722     NaN\n",
       "137723     NaN\n",
       "137724     NaN\n",
       "137725     NaN\n",
       "Name: TMAX, Length: 137726, dtype: float64"
      ]
     },
     "execution_count": 3,
     "metadata": {},
     "output_type": "execute_result"
    }
   ],
   "source": [
    "daily_sum_obs_from_NOAA['TMAX']"
   ]
  },
  {
   "cell_type": "code",
   "execution_count": 4,
   "id": "06deda16",
   "metadata": {},
   "outputs": [],
   "source": [
    "daily_sum_obs_from_NOAA_BEIRA=select_station(daily_sum_obs_from_NOAA,'NAME','BEIRA, MZ')"
   ]
  },
  {
   "cell_type": "code",
   "execution_count": 5,
   "id": "ee16c3a2",
   "metadata": {},
   "outputs": [],
   "source": [
    "daily_sum_obs_from_NOAA_PEMBA=select_station(daily_sum_obs_from_NOAA,'NAME','PEMBA, MZ')"
   ]
  },
  {
   "cell_type": "code",
   "execution_count": 6,
   "id": "c5644379",
   "metadata": {},
   "outputs": [],
   "source": [
    "daily_sum_obs_from_NOAA_CHIMOIO=select_station(daily_sum_obs_from_NOAA,'NAME','CHIMOIO, MZ')"
   ]
  },
  {
   "cell_type": "code",
   "execution_count": 7,
   "id": "6eefdf1c",
   "metadata": {},
   "outputs": [
    {
     "data": {
      "text/html": [
       "<div>\n",
       "<style scoped>\n",
       "    .dataframe tbody tr th:only-of-type {\n",
       "        vertical-align: middle;\n",
       "    }\n",
       "\n",
       "    .dataframe tbody tr th {\n",
       "        vertical-align: top;\n",
       "    }\n",
       "\n",
       "    .dataframe thead th {\n",
       "        text-align: right;\n",
       "    }\n",
       "</style>\n",
       "<table border=\"1\" class=\"dataframe\">\n",
       "  <thead>\n",
       "    <tr style=\"text-align: right;\">\n",
       "      <th></th>\n",
       "      <th>STATION</th>\n",
       "      <th>NAME</th>\n",
       "      <th>LATITUDE</th>\n",
       "      <th>LONGITUDE</th>\n",
       "      <th>ELEVATION</th>\n",
       "      <th>DATE</th>\n",
       "      <th>PRCP</th>\n",
       "      <th>PRCP_ATTRIBUTES</th>\n",
       "      <th>TAVG</th>\n",
       "      <th>TAVG_ATTRIBUTES</th>\n",
       "      <th>...</th>\n",
       "      <th>TMAX_ATTRIBUTES</th>\n",
       "      <th>TMIN</th>\n",
       "      <th>TMIN_ATTRIBUTES</th>\n",
       "      <th>Year</th>\n",
       "      <th>Month</th>\n",
       "      <th>Season</th>\n",
       "      <th>PRCP MISSING</th>\n",
       "      <th>TAVG MISSING</th>\n",
       "      <th>TMAX MISSING</th>\n",
       "      <th>TMIN MISSING</th>\n",
       "    </tr>\n",
       "  </thead>\n",
       "  <tbody>\n",
       "    <tr>\n",
       "      <th>2689</th>\n",
       "      <td>MZ000067295</td>\n",
       "      <td>CHIMOIO, MZ</td>\n",
       "      <td>-19.117</td>\n",
       "      <td>33.467</td>\n",
       "      <td>732.0</td>\n",
       "      <td>1970-01-01</td>\n",
       "      <td>0.4</td>\n",
       "      <td>,,Q</td>\n",
       "      <td>NaN</td>\n",
       "      <td>NaN</td>\n",
       "      <td>...</td>\n",
       "      <td>,,Q</td>\n",
       "      <td>20.7</td>\n",
       "      <td>,,Q</td>\n",
       "      <td>1970</td>\n",
       "      <td>Jan</td>\n",
       "      <td>Humid</td>\n",
       "      <td>0</td>\n",
       "      <td>1</td>\n",
       "      <td>0</td>\n",
       "      <td>0</td>\n",
       "    </tr>\n",
       "    <tr>\n",
       "      <th>2690</th>\n",
       "      <td>MZ000067295</td>\n",
       "      <td>CHIMOIO, MZ</td>\n",
       "      <td>-19.117</td>\n",
       "      <td>33.467</td>\n",
       "      <td>732.0</td>\n",
       "      <td>1970-01-02</td>\n",
       "      <td>0.0</td>\n",
       "      <td>,,Q</td>\n",
       "      <td>NaN</td>\n",
       "      <td>NaN</td>\n",
       "      <td>...</td>\n",
       "      <td>,,Q</td>\n",
       "      <td>21.2</td>\n",
       "      <td>,,Q</td>\n",
       "      <td>1970</td>\n",
       "      <td>Jan</td>\n",
       "      <td>Humid</td>\n",
       "      <td>0</td>\n",
       "      <td>1</td>\n",
       "      <td>0</td>\n",
       "      <td>0</td>\n",
       "    </tr>\n",
       "    <tr>\n",
       "      <th>2691</th>\n",
       "      <td>MZ000067295</td>\n",
       "      <td>CHIMOIO, MZ</td>\n",
       "      <td>-19.117</td>\n",
       "      <td>33.467</td>\n",
       "      <td>732.0</td>\n",
       "      <td>1970-01-03</td>\n",
       "      <td>0.0</td>\n",
       "      <td>,,Q</td>\n",
       "      <td>NaN</td>\n",
       "      <td>NaN</td>\n",
       "      <td>...</td>\n",
       "      <td>,,Q</td>\n",
       "      <td>20.5</td>\n",
       "      <td>,,Q</td>\n",
       "      <td>1970</td>\n",
       "      <td>Jan</td>\n",
       "      <td>Humid</td>\n",
       "      <td>0</td>\n",
       "      <td>1</td>\n",
       "      <td>0</td>\n",
       "      <td>0</td>\n",
       "    </tr>\n",
       "    <tr>\n",
       "      <th>2692</th>\n",
       "      <td>MZ000067295</td>\n",
       "      <td>CHIMOIO, MZ</td>\n",
       "      <td>-19.117</td>\n",
       "      <td>33.467</td>\n",
       "      <td>732.0</td>\n",
       "      <td>1970-01-04</td>\n",
       "      <td>0.0</td>\n",
       "      <td>,,Q</td>\n",
       "      <td>NaN</td>\n",
       "      <td>NaN</td>\n",
       "      <td>...</td>\n",
       "      <td>,,Q</td>\n",
       "      <td>19.2</td>\n",
       "      <td>,,Q</td>\n",
       "      <td>1970</td>\n",
       "      <td>Jan</td>\n",
       "      <td>Humid</td>\n",
       "      <td>0</td>\n",
       "      <td>1</td>\n",
       "      <td>0</td>\n",
       "      <td>0</td>\n",
       "    </tr>\n",
       "    <tr>\n",
       "      <th>2693</th>\n",
       "      <td>MZ000067295</td>\n",
       "      <td>CHIMOIO, MZ</td>\n",
       "      <td>-19.117</td>\n",
       "      <td>33.467</td>\n",
       "      <td>732.0</td>\n",
       "      <td>1970-01-05</td>\n",
       "      <td>0.0</td>\n",
       "      <td>,,Q</td>\n",
       "      <td>NaN</td>\n",
       "      <td>NaN</td>\n",
       "      <td>...</td>\n",
       "      <td>,,Q</td>\n",
       "      <td>20.2</td>\n",
       "      <td>,,Q</td>\n",
       "      <td>1970</td>\n",
       "      <td>Jan</td>\n",
       "      <td>Humid</td>\n",
       "      <td>0</td>\n",
       "      <td>1</td>\n",
       "      <td>0</td>\n",
       "      <td>0</td>\n",
       "    </tr>\n",
       "    <tr>\n",
       "      <th>...</th>\n",
       "      <td>...</td>\n",
       "      <td>...</td>\n",
       "      <td>...</td>\n",
       "      <td>...</td>\n",
       "      <td>...</td>\n",
       "      <td>...</td>\n",
       "      <td>...</td>\n",
       "      <td>...</td>\n",
       "      <td>...</td>\n",
       "      <td>...</td>\n",
       "      <td>...</td>\n",
       "      <td>...</td>\n",
       "      <td>...</td>\n",
       "      <td>...</td>\n",
       "      <td>...</td>\n",
       "      <td>...</td>\n",
       "      <td>...</td>\n",
       "      <td>...</td>\n",
       "      <td>...</td>\n",
       "      <td>...</td>\n",
       "      <td>...</td>\n",
       "    </tr>\n",
       "    <tr>\n",
       "      <th>14159</th>\n",
       "      <td>MZ000067295</td>\n",
       "      <td>CHIMOIO, MZ</td>\n",
       "      <td>-19.117</td>\n",
       "      <td>33.467</td>\n",
       "      <td>732.0</td>\n",
       "      <td>2014-12-27</td>\n",
       "      <td>NaN</td>\n",
       "      <td>NaN</td>\n",
       "      <td>24.9</td>\n",
       "      <td>H,,S</td>\n",
       "      <td>...</td>\n",
       "      <td>NaN</td>\n",
       "      <td>21.8</td>\n",
       "      <td>,,S</td>\n",
       "      <td>2014</td>\n",
       "      <td>Dec</td>\n",
       "      <td>Humid</td>\n",
       "      <td>1</td>\n",
       "      <td>0</td>\n",
       "      <td>1</td>\n",
       "      <td>0</td>\n",
       "    </tr>\n",
       "    <tr>\n",
       "      <th>14160</th>\n",
       "      <td>MZ000067295</td>\n",
       "      <td>CHIMOIO, MZ</td>\n",
       "      <td>-19.117</td>\n",
       "      <td>33.467</td>\n",
       "      <td>732.0</td>\n",
       "      <td>2014-12-28</td>\n",
       "      <td>NaN</td>\n",
       "      <td>NaN</td>\n",
       "      <td>25.9</td>\n",
       "      <td>H,,S</td>\n",
       "      <td>...</td>\n",
       "      <td>,,S</td>\n",
       "      <td>20.0</td>\n",
       "      <td>,,S</td>\n",
       "      <td>2014</td>\n",
       "      <td>Dec</td>\n",
       "      <td>Humid</td>\n",
       "      <td>1</td>\n",
       "      <td>0</td>\n",
       "      <td>0</td>\n",
       "      <td>0</td>\n",
       "    </tr>\n",
       "    <tr>\n",
       "      <th>14161</th>\n",
       "      <td>MZ000067295</td>\n",
       "      <td>CHIMOIO, MZ</td>\n",
       "      <td>-19.117</td>\n",
       "      <td>33.467</td>\n",
       "      <td>732.0</td>\n",
       "      <td>2014-12-29</td>\n",
       "      <td>23.1</td>\n",
       "      <td>,,S</td>\n",
       "      <td>24.3</td>\n",
       "      <td>H,,S</td>\n",
       "      <td>...</td>\n",
       "      <td>,,S</td>\n",
       "      <td>20.9</td>\n",
       "      <td>,,S</td>\n",
       "      <td>2014</td>\n",
       "      <td>Dec</td>\n",
       "      <td>Humid</td>\n",
       "      <td>0</td>\n",
       "      <td>0</td>\n",
       "      <td>0</td>\n",
       "      <td>0</td>\n",
       "    </tr>\n",
       "    <tr>\n",
       "      <th>14162</th>\n",
       "      <td>MZ000067295</td>\n",
       "      <td>CHIMOIO, MZ</td>\n",
       "      <td>-19.117</td>\n",
       "      <td>33.467</td>\n",
       "      <td>732.0</td>\n",
       "      <td>2014-12-30</td>\n",
       "      <td>45.0</td>\n",
       "      <td>,,S</td>\n",
       "      <td>22.9</td>\n",
       "      <td>H,,S</td>\n",
       "      <td>...</td>\n",
       "      <td>,,S</td>\n",
       "      <td>21.0</td>\n",
       "      <td>,,S</td>\n",
       "      <td>2014</td>\n",
       "      <td>Dec</td>\n",
       "      <td>Humid</td>\n",
       "      <td>0</td>\n",
       "      <td>0</td>\n",
       "      <td>0</td>\n",
       "      <td>0</td>\n",
       "    </tr>\n",
       "    <tr>\n",
       "      <th>14163</th>\n",
       "      <td>MZ000067295</td>\n",
       "      <td>CHIMOIO, MZ</td>\n",
       "      <td>-19.117</td>\n",
       "      <td>33.467</td>\n",
       "      <td>732.0</td>\n",
       "      <td>2014-12-31</td>\n",
       "      <td>33.0</td>\n",
       "      <td>,,S</td>\n",
       "      <td>21.6</td>\n",
       "      <td>H,,S</td>\n",
       "      <td>...</td>\n",
       "      <td>NaN</td>\n",
       "      <td>20.4</td>\n",
       "      <td>,,S</td>\n",
       "      <td>2014</td>\n",
       "      <td>Dec</td>\n",
       "      <td>Humid</td>\n",
       "      <td>0</td>\n",
       "      <td>0</td>\n",
       "      <td>1</td>\n",
       "      <td>0</td>\n",
       "    </tr>\n",
       "  </tbody>\n",
       "</table>\n",
       "<p>11475 rows × 21 columns</p>\n",
       "</div>"
      ],
      "text/plain": [
       "           STATION         NAME  LATITUDE  LONGITUDE  ELEVATION        DATE  \\\n",
       "2689   MZ000067295  CHIMOIO, MZ   -19.117     33.467      732.0  1970-01-01   \n",
       "2690   MZ000067295  CHIMOIO, MZ   -19.117     33.467      732.0  1970-01-02   \n",
       "2691   MZ000067295  CHIMOIO, MZ   -19.117     33.467      732.0  1970-01-03   \n",
       "2692   MZ000067295  CHIMOIO, MZ   -19.117     33.467      732.0  1970-01-04   \n",
       "2693   MZ000067295  CHIMOIO, MZ   -19.117     33.467      732.0  1970-01-05   \n",
       "...            ...          ...       ...        ...        ...         ...   \n",
       "14159  MZ000067295  CHIMOIO, MZ   -19.117     33.467      732.0  2014-12-27   \n",
       "14160  MZ000067295  CHIMOIO, MZ   -19.117     33.467      732.0  2014-12-28   \n",
       "14161  MZ000067295  CHIMOIO, MZ   -19.117     33.467      732.0  2014-12-29   \n",
       "14162  MZ000067295  CHIMOIO, MZ   -19.117     33.467      732.0  2014-12-30   \n",
       "14163  MZ000067295  CHIMOIO, MZ   -19.117     33.467      732.0  2014-12-31   \n",
       "\n",
       "       PRCP PRCP_ATTRIBUTES  TAVG TAVG_ATTRIBUTES  ...  TMAX_ATTRIBUTES  TMIN  \\\n",
       "2689    0.4             ,,Q   NaN             NaN  ...              ,,Q  20.7   \n",
       "2690    0.0             ,,Q   NaN             NaN  ...              ,,Q  21.2   \n",
       "2691    0.0             ,,Q   NaN             NaN  ...              ,,Q  20.5   \n",
       "2692    0.0             ,,Q   NaN             NaN  ...              ,,Q  19.2   \n",
       "2693    0.0             ,,Q   NaN             NaN  ...              ,,Q  20.2   \n",
       "...     ...             ...   ...             ...  ...              ...   ...   \n",
       "14159   NaN             NaN  24.9            H,,S  ...              NaN  21.8   \n",
       "14160   NaN             NaN  25.9            H,,S  ...              ,,S  20.0   \n",
       "14161  23.1             ,,S  24.3            H,,S  ...              ,,S  20.9   \n",
       "14162  45.0             ,,S  22.9            H,,S  ...              ,,S  21.0   \n",
       "14163  33.0             ,,S  21.6            H,,S  ...              NaN  20.4   \n",
       "\n",
       "       TMIN_ATTRIBUTES  Year  Month Season PRCP MISSING  TAVG MISSING  \\\n",
       "2689               ,,Q  1970    Jan  Humid            0             1   \n",
       "2690               ,,Q  1970    Jan  Humid            0             1   \n",
       "2691               ,,Q  1970    Jan  Humid            0             1   \n",
       "2692               ,,Q  1970    Jan  Humid            0             1   \n",
       "2693               ,,Q  1970    Jan  Humid            0             1   \n",
       "...                ...   ...    ...    ...          ...           ...   \n",
       "14159              ,,S  2014    Dec  Humid            1             0   \n",
       "14160              ,,S  2014    Dec  Humid            1             0   \n",
       "14161              ,,S  2014    Dec  Humid            0             0   \n",
       "14162              ,,S  2014    Dec  Humid            0             0   \n",
       "14163              ,,S  2014    Dec  Humid            0             0   \n",
       "\n",
       "       TMAX MISSING  TMIN MISSING  \n",
       "2689              0             0  \n",
       "2690              0             0  \n",
       "2691              0             0  \n",
       "2692              0             0  \n",
       "2693              0             0  \n",
       "...             ...           ...  \n",
       "14159             1             0  \n",
       "14160             0             0  \n",
       "14161             0             0  \n",
       "14162             0             0  \n",
       "14163             1             0  \n",
       "\n",
       "[11475 rows x 21 columns]"
      ]
     },
     "execution_count": 7,
     "metadata": {},
     "output_type": "execute_result"
    }
   ],
   "source": [
    "daily_sum_obs_from_NOAA_CHIMOIO"
   ]
  },
  {
   "cell_type": "markdown",
   "id": "8d2c4381",
   "metadata": {},
   "source": [
    "### Precipitation from Gorongosa "
   ]
  },
  {
   "cell_type": "code",
   "execution_count": 8,
   "id": "82906d06",
   "metadata": {},
   "outputs": [],
   "source": [
    "pr_obs_gorongosa_from_gorongosa=import_gorongosa_obs_pr()"
   ]
  },
  {
   "cell_type": "code",
   "execution_count": 9,
   "id": "15e9cf17",
   "metadata": {},
   "outputs": [
    {
     "data": {
      "text/html": [
       "<div>\n",
       "<style scoped>\n",
       "    .dataframe tbody tr th:only-of-type {\n",
       "        vertical-align: middle;\n",
       "    }\n",
       "\n",
       "    .dataframe tbody tr th {\n",
       "        vertical-align: top;\n",
       "    }\n",
       "\n",
       "    .dataframe thead th {\n",
       "        text-align: right;\n",
       "    }\n",
       "</style>\n",
       "<table border=\"1\" class=\"dataframe\">\n",
       "  <thead>\n",
       "    <tr style=\"text-align: right;\">\n",
       "      <th></th>\n",
       "      <th>time</th>\n",
       "      <th>pr</th>\n",
       "      <th>Year</th>\n",
       "      <th>Month</th>\n",
       "      <th>Season</th>\n",
       "      <th>pr MISSING</th>\n",
       "    </tr>\n",
       "  </thead>\n",
       "  <tbody>\n",
       "    <tr>\n",
       "      <th>0</th>\n",
       "      <td>1980-01-01</td>\n",
       "      <td>NaN</td>\n",
       "      <td>1980</td>\n",
       "      <td>Jan</td>\n",
       "      <td>Humid</td>\n",
       "      <td>1</td>\n",
       "    </tr>\n",
       "    <tr>\n",
       "      <th>1</th>\n",
       "      <td>1980-01-02</td>\n",
       "      <td>NaN</td>\n",
       "      <td>1980</td>\n",
       "      <td>Jan</td>\n",
       "      <td>Humid</td>\n",
       "      <td>1</td>\n",
       "    </tr>\n",
       "    <tr>\n",
       "      <th>2</th>\n",
       "      <td>1980-01-03</td>\n",
       "      <td>NaN</td>\n",
       "      <td>1980</td>\n",
       "      <td>Jan</td>\n",
       "      <td>Humid</td>\n",
       "      <td>1</td>\n",
       "    </tr>\n",
       "    <tr>\n",
       "      <th>3</th>\n",
       "      <td>1980-01-04</td>\n",
       "      <td>NaN</td>\n",
       "      <td>1980</td>\n",
       "      <td>Jan</td>\n",
       "      <td>Humid</td>\n",
       "      <td>1</td>\n",
       "    </tr>\n",
       "    <tr>\n",
       "      <th>4</th>\n",
       "      <td>1980-01-05</td>\n",
       "      <td>NaN</td>\n",
       "      <td>1980</td>\n",
       "      <td>Jan</td>\n",
       "      <td>Humid</td>\n",
       "      <td>1</td>\n",
       "    </tr>\n",
       "    <tr>\n",
       "      <th>...</th>\n",
       "      <td>...</td>\n",
       "      <td>...</td>\n",
       "      <td>...</td>\n",
       "      <td>...</td>\n",
       "      <td>...</td>\n",
       "      <td>...</td>\n",
       "    </tr>\n",
       "    <tr>\n",
       "      <th>14971</th>\n",
       "      <td>2020-12-27</td>\n",
       "      <td>2.7</td>\n",
       "      <td>2020</td>\n",
       "      <td>Dec</td>\n",
       "      <td>Humid</td>\n",
       "      <td>0</td>\n",
       "    </tr>\n",
       "    <tr>\n",
       "      <th>14972</th>\n",
       "      <td>2020-12-28</td>\n",
       "      <td>0.0</td>\n",
       "      <td>2020</td>\n",
       "      <td>Dec</td>\n",
       "      <td>Humid</td>\n",
       "      <td>0</td>\n",
       "    </tr>\n",
       "    <tr>\n",
       "      <th>14973</th>\n",
       "      <td>2020-12-29</td>\n",
       "      <td>0.0</td>\n",
       "      <td>2020</td>\n",
       "      <td>Dec</td>\n",
       "      <td>Humid</td>\n",
       "      <td>0</td>\n",
       "    </tr>\n",
       "    <tr>\n",
       "      <th>14974</th>\n",
       "      <td>2020-12-30</td>\n",
       "      <td>138.4</td>\n",
       "      <td>2020</td>\n",
       "      <td>Dec</td>\n",
       "      <td>Humid</td>\n",
       "      <td>0</td>\n",
       "    </tr>\n",
       "    <tr>\n",
       "      <th>14975</th>\n",
       "      <td>2020-12-31</td>\n",
       "      <td>80.4</td>\n",
       "      <td>2020</td>\n",
       "      <td>Dec</td>\n",
       "      <td>Humid</td>\n",
       "      <td>0</td>\n",
       "    </tr>\n",
       "  </tbody>\n",
       "</table>\n",
       "<p>14976 rows × 6 columns</p>\n",
       "</div>"
      ],
      "text/plain": [
       "             time     pr  Year Month Season  pr MISSING\n",
       "0      1980-01-01    NaN  1980   Jan  Humid           1\n",
       "1      1980-01-02    NaN  1980   Jan  Humid           1\n",
       "2      1980-01-03    NaN  1980   Jan  Humid           1\n",
       "3      1980-01-04    NaN  1980   Jan  Humid           1\n",
       "4      1980-01-05    NaN  1980   Jan  Humid           1\n",
       "...           ...    ...   ...   ...    ...         ...\n",
       "14971  2020-12-27    2.7  2020   Dec  Humid           0\n",
       "14972  2020-12-28    0.0  2020   Dec  Humid           0\n",
       "14973  2020-12-29    0.0  2020   Dec  Humid           0\n",
       "14974  2020-12-30  138.4  2020   Dec  Humid           0\n",
       "14975  2020-12-31   80.4  2020   Dec  Humid           0\n",
       "\n",
       "[14976 rows x 6 columns]"
      ]
     },
     "execution_count": 9,
     "metadata": {},
     "output_type": "execute_result"
    }
   ],
   "source": [
    "pr_obs_gorongosa_from_gorongosa"
   ]
  },
  {
   "cell_type": "markdown",
   "id": "97f64bf4",
   "metadata": {},
   "source": [
    "## MODELED DATA"
   ]
  },
  {
   "cell_type": "markdown",
   "id": "a8cfd65a",
   "metadata": {},
   "source": [
    "### Precipitation NEX-GDDP-CMIP6"
   ]
  },
  {
   "cell_type": "code",
   "execution_count": 10,
   "id": "dd393350",
   "metadata": {},
   "outputs": [],
   "source": [
    "# to compare historic modelisation with NOAA observation data\n",
    "path_model_pr_past = r'\\\\COWI.net\\projects\\A245000\\A248363\\CRVA\\Datasets\\NEX-GDDP-CMIP6-AllMoz\\csv_file\\pr\\pr_mm_per_day_day_1970-2014_CLosest_to_NOAA\\NEXGDDPCMIP6_at_same_emplacement_as_NOAA_stationPembaChimoioBeira_pr_1970-2014_projectsMoz.csv'\n",
    "pr_model_NEX_GDDPCMIP6_to_comp_NOAA_past = pd.read_csv(path_model_pr_past)\n",
    "pr_model_NEX_GDDPCMIP6_to_comp_NOAA_past=add_year_month_season(pr_model_NEX_GDDPCMIP6_to_comp_NOAA_past,'Date')\n",
    "pr_model_NEX_GDDPCMIP6_to_comp_NOAA_CHIMOIO_past = pr_model_NEX_GDDPCMIP6_to_comp_NOAA_past[pr_model_NEX_GDDPCMIP6_to_comp_NOAA_past['Name station']=='CHIMOIO, MZ']\n",
    "pr_model_NEX_GDDPCMIP6_to_comp_NOAA_PEMBA_past = pr_model_NEX_GDDPCMIP6_to_comp_NOAA_past[pr_model_NEX_GDDPCMIP6_to_comp_NOAA_past['Name station']=='PEMBA, MZ']\n",
    "pr_model_NEX_GDDPCMIP6_to_comp_NOAA_BEIRA_past = pr_model_NEX_GDDPCMIP6_to_comp_NOAA_past[pr_model_NEX_GDDPCMIP6_to_comp_NOAA_past['Name station']=='BEIRA, MZ']"
   ]
  },
  {
   "cell_type": "code",
   "execution_count": 11,
   "id": "8fccdda6",
   "metadata": {},
   "outputs": [
    {
     "name": "stderr",
     "output_type": "stream",
     "text": [
      "C:\\Users\\CLMRX\\AppData\\Local\\Temp\\1\\ipykernel_28388\\451104406.py:1: SettingWithCopyWarning: \n",
      "A value is trying to be set on a copy of a slice from a DataFrame\n",
      "\n",
      "See the caveats in the documentation: https://pandas.pydata.org/pandas-docs/stable/user_guide/indexing.html#returning-a-view-versus-a-copy\n",
      "  pr_model_NEX_GDDPCMIP6_to_comp_NOAA_CHIMOIO_past.sort_values(by='Model',inplace=True)\n"
     ]
    }
   ],
   "source": [
    "pr_model_NEX_GDDPCMIP6_to_comp_NOAA_CHIMOIO_past.sort_values(by='Model',inplace=True)"
   ]
  },
  {
   "cell_type": "code",
   "execution_count": 12,
   "id": "0002bfc6",
   "metadata": {},
   "outputs": [],
   "source": [
    "pr_model_NEX_GDDPCMIP6_to_comp_NOAA_future=import_treat_modeled_NEX_GDDP_CMIP6_close_to_stationNOAA('pr','mm_per_day')"
   ]
  },
  {
   "cell_type": "code",
   "execution_count": 13,
   "id": "22ebc8fb",
   "metadata": {},
   "outputs": [],
   "source": [
    "pr_model_NEX_GDDPCMIP6_to_comp_NOAA_future = pr_model_NEX_GDDPCMIP6_to_comp_NOAA_future[pr_model_NEX_GDDPCMIP6_to_comp_NOAA_future['Model']!='TaiESM1']\n",
    "pr_model_NEX_GDDPCMIP6_to_comp_NOAA_future = pr_model_NEX_GDDPCMIP6_to_comp_NOAA_future[pr_model_NEX_GDDPCMIP6_to_comp_NOAA_future['Model']!='NESM3']\n",
    "pr_model_NEX_GDDPCMIP6_to_comp_NOAA_future = pr_model_NEX_GDDPCMIP6_to_comp_NOAA_future[pr_model_NEX_GDDPCMIP6_to_comp_NOAA_future['Model']!='CMCC-CM2-SR5']"
   ]
  },
  {
   "cell_type": "code",
   "execution_count": 14,
   "id": "f6b900f4",
   "metadata": {},
   "outputs": [],
   "source": [
    "pr_model_NEX_GDDPCMIP6_to_comp_NOAA_CHIMOIO_future = pr_model_NEX_GDDPCMIP6_to_comp_NOAA_future[pr_model_NEX_GDDPCMIP6_to_comp_NOAA_future['Name station']=='CHIMOIO, MZ']"
   ]
  },
  {
   "cell_type": "code",
   "execution_count": 15,
   "id": "e261261a",
   "metadata": {},
   "outputs": [],
   "source": [
    "pr_model_NEX_GDDPCMIP6_to_comp_NOAA_CHIMOIO_future = pr_model_NEX_GDDPCMIP6_to_comp_NOAA_CHIMOIO_future[pr_model_NEX_GDDPCMIP6_to_comp_NOAA_CHIMOIO_future['Year'].between(2030,2065)]"
   ]
  },
  {
   "cell_type": "code",
   "execution_count": 16,
   "id": "bfcb209d",
   "metadata": {},
   "outputs": [],
   "source": [
    "pr_model_NEX_GDDPCMIP6_to_comp_NOAA_CHIMOIO_future.sort_values(by='Model',inplace=True)"
   ]
  },
  {
   "cell_type": "code",
   "execution_count": 17,
   "id": "3391c6e8",
   "metadata": {},
   "outputs": [],
   "source": [
    "# pas convaincue que le ligne suivante soit tres utile"
   ]
  },
  {
   "cell_type": "code",
   "execution_count": 18,
   "id": "67f24be7",
   "metadata": {},
   "outputs": [
    {
     "ename": "KeyboardInterrupt",
     "evalue": "",
     "output_type": "error",
     "traceback": [
      "\u001b[1;31m---------------------------------------------------------------------------\u001b[0m",
      "\u001b[1;31mKeyboardInterrupt\u001b[0m                         Traceback (most recent call last)",
      "Cell \u001b[1;32mIn[18], line 7\u001b[0m\n\u001b[0;32m      5\u001b[0m pr_model_NEX_GDDPCMIP6_to_comp_NOAA_project_Pemba \u001b[38;5;241m=\u001b[39m pr_model_NEX_GDDPCMIP6_to_comp_NOAA_past_proj[pr_model_NEX_GDDPCMIP6_to_comp_NOAA_past_proj[\u001b[38;5;124m'\u001b[39m\u001b[38;5;124mName project\u001b[39m\u001b[38;5;124m'\u001b[39m]\u001b[38;5;241m==\u001b[39m\u001b[38;5;124m'\u001b[39m\u001b[38;5;124mPemba_EIB\u001b[39m\u001b[38;5;124m'\u001b[39m]\n\u001b[0;32m      6\u001b[0m pr_model_NEX_GDDPCMIP6_to_comp_NOAA_project_Chimoio \u001b[38;5;241m=\u001b[39m pr_model_NEX_GDDPCMIP6_to_comp_NOAA_past_proj[pr_model_NEX_GDDPCMIP6_to_comp_NOAA_past_proj[\u001b[38;5;124m'\u001b[39m\u001b[38;5;124mName project\u001b[39m\u001b[38;5;124m'\u001b[39m]\u001b[38;5;241m==\u001b[39m\u001b[38;5;124m'\u001b[39m\u001b[38;5;124mChimoio_WTP_EIB\u001b[39m\u001b[38;5;124m'\u001b[39m]\n\u001b[1;32m----> 7\u001b[0m pr_model_NEX_GDDPCMIP6_to_comp_NOAA_project_Mutua \u001b[38;5;241m=\u001b[39m pr_model_NEX_GDDPCMIP6_to_comp_NOAA_past_proj[\u001b[43mpr_model_NEX_GDDPCMIP6_to_comp_NOAA_past_proj\u001b[49m\u001b[43m[\u001b[49m\u001b[38;5;124;43m'\u001b[39;49m\u001b[38;5;124;43mName project\u001b[39;49m\u001b[38;5;124;43m'\u001b[39;49m\u001b[43m]\u001b[49m\u001b[38;5;241;43m==\u001b[39;49m\u001b[38;5;124;43m'\u001b[39;49m\u001b[38;5;124;43mWTP_Mutua_EIB\u001b[39;49m\u001b[38;5;124;43m'\u001b[39;49m]\n\u001b[0;32m      8\u001b[0m pr_model_NEX_GDDPCMIP6_to_comp_NOAA_project_Gorongosa \u001b[38;5;241m=\u001b[39m pr_model_NEX_GDDPCMIP6_to_comp_NOAA_past_proj[pr_model_NEX_GDDPCMIP6_to_comp_NOAA_past_proj[\u001b[38;5;124m'\u001b[39m\u001b[38;5;124mName project\u001b[39m\u001b[38;5;124m'\u001b[39m]\u001b[38;5;241m==\u001b[39m\u001b[38;5;124m'\u001b[39m\u001b[38;5;124mGorongosa_EIB\u001b[39m\u001b[38;5;124m'\u001b[39m]\n",
      "File \u001b[1;32m~\\AppData\\Local\\miniconda3\\envs\\geodata\\lib\\site-packages\\pandas\\core\\ops\\common.py:81\u001b[0m, in \u001b[0;36m_unpack_zerodim_and_defer.<locals>.new_method\u001b[1;34m(self, other)\u001b[0m\n\u001b[0;32m     77\u001b[0m             \u001b[38;5;28;01mreturn\u001b[39;00m \u001b[38;5;28mNotImplemented\u001b[39m\n\u001b[0;32m     79\u001b[0m other \u001b[38;5;241m=\u001b[39m item_from_zerodim(other)\n\u001b[1;32m---> 81\u001b[0m \u001b[38;5;28;01mreturn\u001b[39;00m \u001b[43mmethod\u001b[49m\u001b[43m(\u001b[49m\u001b[38;5;28;43mself\u001b[39;49m\u001b[43m,\u001b[49m\u001b[43m \u001b[49m\u001b[43mother\u001b[49m\u001b[43m)\u001b[49m\n",
      "File \u001b[1;32m~\\AppData\\Local\\miniconda3\\envs\\geodata\\lib\\site-packages\\pandas\\core\\arraylike.py:40\u001b[0m, in \u001b[0;36mOpsMixin.__eq__\u001b[1;34m(self, other)\u001b[0m\n\u001b[0;32m     38\u001b[0m \u001b[38;5;129m@unpack_zerodim_and_defer\u001b[39m(\u001b[38;5;124m\"\u001b[39m\u001b[38;5;124m__eq__\u001b[39m\u001b[38;5;124m\"\u001b[39m)\n\u001b[0;32m     39\u001b[0m \u001b[38;5;28;01mdef\u001b[39;00m \u001b[38;5;21m__eq__\u001b[39m(\u001b[38;5;28mself\u001b[39m, other):\n\u001b[1;32m---> 40\u001b[0m     \u001b[38;5;28;01mreturn\u001b[39;00m \u001b[38;5;28;43mself\u001b[39;49m\u001b[38;5;241;43m.\u001b[39;49m\u001b[43m_cmp_method\u001b[49m\u001b[43m(\u001b[49m\u001b[43mother\u001b[49m\u001b[43m,\u001b[49m\u001b[43m \u001b[49m\u001b[43moperator\u001b[49m\u001b[38;5;241;43m.\u001b[39;49m\u001b[43meq\u001b[49m\u001b[43m)\u001b[49m\n",
      "File \u001b[1;32m~\\AppData\\Local\\miniconda3\\envs\\geodata\\lib\\site-packages\\pandas\\core\\series.py:6096\u001b[0m, in \u001b[0;36mSeries._cmp_method\u001b[1;34m(self, other, op)\u001b[0m\n\u001b[0;32m   6093\u001b[0m rvalues \u001b[38;5;241m=\u001b[39m extract_array(other, extract_numpy\u001b[38;5;241m=\u001b[39m\u001b[38;5;28;01mTrue\u001b[39;00m, extract_range\u001b[38;5;241m=\u001b[39m\u001b[38;5;28;01mTrue\u001b[39;00m)\n\u001b[0;32m   6095\u001b[0m \u001b[38;5;28;01mwith\u001b[39;00m np\u001b[38;5;241m.\u001b[39merrstate(\u001b[38;5;28mall\u001b[39m\u001b[38;5;241m=\u001b[39m\u001b[38;5;124m\"\u001b[39m\u001b[38;5;124mignore\u001b[39m\u001b[38;5;124m\"\u001b[39m):\n\u001b[1;32m-> 6096\u001b[0m     res_values \u001b[38;5;241m=\u001b[39m \u001b[43mops\u001b[49m\u001b[38;5;241;43m.\u001b[39;49m\u001b[43mcomparison_op\u001b[49m\u001b[43m(\u001b[49m\u001b[43mlvalues\u001b[49m\u001b[43m,\u001b[49m\u001b[43m \u001b[49m\u001b[43mrvalues\u001b[49m\u001b[43m,\u001b[49m\u001b[43m \u001b[49m\u001b[43mop\u001b[49m\u001b[43m)\u001b[49m\n\u001b[0;32m   6098\u001b[0m \u001b[38;5;28;01mreturn\u001b[39;00m \u001b[38;5;28mself\u001b[39m\u001b[38;5;241m.\u001b[39m_construct_result(res_values, name\u001b[38;5;241m=\u001b[39mres_name)\n",
      "File \u001b[1;32m~\\AppData\\Local\\miniconda3\\envs\\geodata\\lib\\site-packages\\pandas\\core\\ops\\array_ops.py:293\u001b[0m, in \u001b[0;36mcomparison_op\u001b[1;34m(left, right, op)\u001b[0m\n\u001b[0;32m    290\u001b[0m     \u001b[38;5;28;01mreturn\u001b[39;00m invalid_comparison(lvalues, rvalues, op)\n\u001b[0;32m    292\u001b[0m \u001b[38;5;28;01melif\u001b[39;00m is_object_dtype(lvalues\u001b[38;5;241m.\u001b[39mdtype) \u001b[38;5;129;01mor\u001b[39;00m \u001b[38;5;28misinstance\u001b[39m(rvalues, \u001b[38;5;28mstr\u001b[39m):\n\u001b[1;32m--> 293\u001b[0m     res_values \u001b[38;5;241m=\u001b[39m \u001b[43mcomp_method_OBJECT_ARRAY\u001b[49m\u001b[43m(\u001b[49m\u001b[43mop\u001b[49m\u001b[43m,\u001b[49m\u001b[43m \u001b[49m\u001b[43mlvalues\u001b[49m\u001b[43m,\u001b[49m\u001b[43m \u001b[49m\u001b[43mrvalues\u001b[49m\u001b[43m)\u001b[49m\n\u001b[0;32m    295\u001b[0m \u001b[38;5;28;01melse\u001b[39;00m:\n\u001b[0;32m    296\u001b[0m     res_values \u001b[38;5;241m=\u001b[39m _na_arithmetic_op(lvalues, rvalues, op, is_cmp\u001b[38;5;241m=\u001b[39m\u001b[38;5;28;01mTrue\u001b[39;00m)\n",
      "File \u001b[1;32m~\\AppData\\Local\\miniconda3\\envs\\geodata\\lib\\site-packages\\pandas\\core\\ops\\array_ops.py:83\u001b[0m, in \u001b[0;36mcomp_method_OBJECT_ARRAY\u001b[1;34m(op, x, y)\u001b[0m\n\u001b[0;32m     81\u001b[0m \u001b[38;5;28;01melse\u001b[39;00m:\n\u001b[0;32m     82\u001b[0m     result \u001b[38;5;241m=\u001b[39m libops\u001b[38;5;241m.\u001b[39mscalar_compare(x\u001b[38;5;241m.\u001b[39mravel(), y, op)\n\u001b[1;32m---> 83\u001b[0m \u001b[38;5;28;01mreturn\u001b[39;00m \u001b[43mresult\u001b[49m\u001b[38;5;241;43m.\u001b[39;49m\u001b[43mreshape\u001b[49m\u001b[43m(\u001b[49m\u001b[43mx\u001b[49m\u001b[38;5;241;43m.\u001b[39;49m\u001b[43mshape\u001b[49m\u001b[43m)\u001b[49m\n",
      "\u001b[1;31mKeyboardInterrupt\u001b[0m: "
     ]
    }
   ],
   "source": [
    "# to compare projections with NOAA observation data\n",
    "path_past_proj = r'\\\\COWI.net\\projects\\A245000\\A248363\\CRVA\\Datasets\\NEX-GDDP-CMIP6-AllMoz\\csv_file\\pr\\pr_mm_per_day_day_1950-2100\\pr_1950-2100_projectsMoz.csv'\n",
    "pr_model_NEX_GDDPCMIP6_to_comp_NOAA_past_proj = pd.read_csv(path_past_proj)\n",
    "pr_model_NEX_GDDPCMIP6_to_comp_NOAA_past_proj=add_year_month_season(pr_model_NEX_GDDPCMIP6_to_comp_NOAA_past_proj,'Date')\n",
    "pr_model_NEX_GDDPCMIP6_to_comp_NOAA_project_Pemba = pr_model_NEX_GDDPCMIP6_to_comp_NOAA_past_proj[pr_model_NEX_GDDPCMIP6_to_comp_NOAA_past_proj['Name project']=='Pemba_EIB']\n",
    "pr_model_NEX_GDDPCMIP6_to_comp_NOAA_project_Chimoio = pr_model_NEX_GDDPCMIP6_to_comp_NOAA_past_proj[pr_model_NEX_GDDPCMIP6_to_comp_NOAA_past_proj['Name project']=='Chimoio_WTP_EIB']\n",
    "pr_model_NEX_GDDPCMIP6_to_comp_NOAA_project_Mutua = pr_model_NEX_GDDPCMIP6_to_comp_NOAA_past_proj[pr_model_NEX_GDDPCMIP6_to_comp_NOAA_past_proj['Name project']=='WTP_Mutua_EIB']\n",
    "pr_model_NEX_GDDPCMIP6_to_comp_NOAA_project_Gorongosa = pr_model_NEX_GDDPCMIP6_to_comp_NOAA_past_proj[pr_model_NEX_GDDPCMIP6_to_comp_NOAA_past_proj['Name project']=='Gorongosa_EIB']"
   ]
  },
  {
   "cell_type": "markdown",
   "id": "05cce432",
   "metadata": {},
   "source": [
    "### Temperature NEX-GDDP-CMIP6"
   ]
  },
  {
   "cell_type": "code",
   "execution_count": null,
   "id": "c3cf2a2b",
   "metadata": {},
   "outputs": [],
   "source": [
    "# to compare with NOAA observation data\n",
    "path_model_tas_past = r'\\\\COWI.net\\projects\\A245000\\A248363\\CRVA\\Datasets\\NEX-GDDP-CMIP6-AllMoz\\csv_file\\tas\\tas_Celsius_day_1950-2100_Closest_to_NOAA\\NEXGDDPCMIP6_at_same_emplacement_as_NOAA_stationPembaChimoioBeira_tas_1950-2100.csv'\n",
    "tas_model_NEX_GDDPCMIP6_to_comp_NOAA_past = pd.read_csv(path_model_tas_past)\n",
    "\n",
    "tas_model_NEX_GDDPCMIP6_to_comp_NOAA_past=tas_model_NEX_GDDPCMIP6_to_comp_NOAA_past[tas_model_NEX_GDDPCMIP6_to_comp_NOAA_past['Model']!='TaiESM1']\n",
    "tas_model_NEX_GDDPCMIP6_to_comp_NOAA_past=tas_model_NEX_GDDPCMIP6_to_comp_NOAA_past[tas_model_NEX_GDDPCMIP6_to_comp_NOAA_past['Model']!='NESM3']\n",
    "tas_model_NEX_GDDPCMIP6_to_comp_NOAA_past=tas_model_NEX_GDDPCMIP6_to_comp_NOAA_past[tas_model_NEX_GDDPCMIP6_to_comp_NOAA_past['Model']!='CMCC-CM2-SR5']\n",
    "\n",
    "tas_model_NEX_GDDPCMIP6_to_comp_NOAA_past=add_year_month_season(tas_model_NEX_GDDPCMIP6_to_comp_NOAA_past,'Date')\n",
    "tas_model_NEX_GDDPCMIP6_to_comp_NOAA_past = tas_model_NEX_GDDPCMIP6_to_comp_NOAA_past[tas_model_NEX_GDDPCMIP6_to_comp_NOAA_past['Year'].between(1970,2014)]\n",
    "tas_model_NEX_GDDPCMIP6_to_comp_NOAA_CHIMOIO_past = tas_model_NEX_GDDPCMIP6_to_comp_NOAA_past[tas_model_NEX_GDDPCMIP6_to_comp_NOAA_past['Name station']=='CHIMOIO, MZ']\n",
    "tas_model_NEX_GDDPCMIP6_to_comp_NOAA_PEMBA_past = tas_model_NEX_GDDPCMIP6_to_comp_NOAA_past[tas_model_NEX_GDDPCMIP6_to_comp_NOAA_past['Name station']=='PEMBA, MZ']\n",
    "tas_model_NEX_GDDPCMIP6_to_comp_NOAA_PEMBA_past = tas_model_NEX_GDDPCMIP6_to_comp_NOAA_PEMBA_past[tas_model_NEX_GDDPCMIP6_to_comp_NOAA_PEMBA_past['Year'].between(1973,2013)]\n",
    "tas_model_NEX_GDDPCMIP6_to_comp_NOAA_BEIRA_past = tas_model_NEX_GDDPCMIP6_to_comp_NOAA_past[tas_model_NEX_GDDPCMIP6_to_comp_NOAA_past['Name station']=='BEIRA, MZ']"
   ]
  },
  {
   "cell_type": "code",
   "execution_count": null,
   "id": "abf31184",
   "metadata": {},
   "outputs": [],
   "source": [
    "tas_model_NEX_GDDPCMIP6_to_comp_NOAA=import_treat_modeled_NEX_GDDP_CMIP6_close_to_stationNOAA('tas','Celsius')"
   ]
  },
  {
   "cell_type": "code",
   "execution_count": null,
   "id": "cf130bb9",
   "metadata": {},
   "outputs": [],
   "source": [
    "tas_model_NEX_GDDPCMIP6_to_comp_NOAA=tas_model_NEX_GDDPCMIP6_to_comp_NOAA[tas_model_NEX_GDDPCMIP6_to_comp_NOAA['Model']!='TaiESM1']\n",
    "tas_model_NEX_GDDPCMIP6_to_comp_NOAA=tas_model_NEX_GDDPCMIP6_to_comp_NOAA[tas_model_NEX_GDDPCMIP6_to_comp_NOAA['Model']!='NESM3']\n",
    "tas_model_NEX_GDDPCMIP6_to_comp_NOAA=tas_model_NEX_GDDPCMIP6_to_comp_NOAA[tas_model_NEX_GDDPCMIP6_to_comp_NOAA['Model']!='CMCC-CM2-SR5']"
   ]
  },
  {
   "cell_type": "code",
   "execution_count": null,
   "id": "27b314db",
   "metadata": {},
   "outputs": [],
   "source": [
    "tas_model_NEX_GDDPCMIP6_to_comp_NOAA_future = tas_model_NEX_GDDPCMIP6_to_comp_NOAA[tas_model_NEX_GDDPCMIP6_to_comp_NOAA['Year'].between(2030,2065)]\n",
    "tas_model_NEX_GDDPCMIP6_to_comp_NOAA_CHIMOIO_future = tas_model_NEX_GDDPCMIP6_to_comp_NOAA_future[tas_model_NEX_GDDPCMIP6_to_comp_NOAA_future['Name station']=='CHIMOIO, MZ']\n",
    "tas_model_NEX_GDDPCMIP6_to_comp_NOAA_PEMBA_future = tas_model_NEX_GDDPCMIP6_to_comp_NOAA_future[tas_model_NEX_GDDPCMIP6_to_comp_NOAA_future['Name station']=='PEMBA, MZ']\n",
    "tas_model_NEX_GDDPCMIP6_to_comp_NOAA_BEIRA_future = tas_model_NEX_GDDPCMIP6_to_comp_NOAA_future[tas_model_NEX_GDDPCMIP6_to_comp_NOAA_future['Name station']=='BEIRA, MZ']"
   ]
  },
  {
   "cell_type": "markdown",
   "id": "bf14fbb4",
   "metadata": {},
   "source": [
    "### Maximum temperature NEX-GDDP-CMIP6"
   ]
  },
  {
   "cell_type": "code",
   "execution_count": null,
   "id": "2faabbfe",
   "metadata": {},
   "outputs": [],
   "source": [
    "# to compare with NOAA observation data\n",
    "path = r'\\\\COWI.net\\projects\\A245000\\A248363\\CRVA\\Datasets\\NEX-GDDP-CMIP6-AllMoz\\csv_file\\tasmax\\tasmax_Celsius_day_1950-2100_Closest_to_NOAA\\NEXGDDPCMIP6_at_same_emplacement_as_NOAA_stationPembaChimoioBeira_tasmax_1950-2100.csv'\n",
    "tasmax_model_NEX_GDDPCMIP6_to_comp_NOAA = pd.read_csv(path)\n",
    "tasmax_model_NEX_GDDPCMIP6_to_comp_NOAA=add_year_month_season(tasmax_model_NEX_GDDPCMIP6_to_comp_NOAA,'Date')\n",
    "\n",
    "tasmax_model_NEX_GDDPCMIP6_to_comp_NOAA_past = tasmax_model_NEX_GDDPCMIP6_to_comp_NOAA[tasmax_model_NEX_GDDPCMIP6_to_comp_NOAA['Year'].between(1973,2013)]\n",
    "tasmax_model_NEX_GDDPCMIP6_to_comp_NOAA_future = tasmax_model_NEX_GDDPCMIP6_to_comp_NOAA[tasmax_model_NEX_GDDPCMIP6_to_comp_NOAA['Year'].between(2030,2065)]\n",
    "\n",
    "tasmax_model_NEX_GDDPCMIP6_to_comp_NOAA_past = tasmax_model_NEX_GDDPCMIP6_to_comp_NOAA_past[tasmax_model_NEX_GDDPCMIP6_to_comp_NOAA_past['Model']!='TaiESM1']\n",
    "tasmax_model_NEX_GDDPCMIP6_to_comp_NOAA_past = tasmax_model_NEX_GDDPCMIP6_to_comp_NOAA_past[tasmax_model_NEX_GDDPCMIP6_to_comp_NOAA_past['Model']!='NESM3']\n",
    "tasmax_model_NEX_GDDPCMIP6_to_comp_NOAA_past = tasmax_model_NEX_GDDPCMIP6_to_comp_NOAA_past[tasmax_model_NEX_GDDPCMIP6_to_comp_NOAA_past['Model']!='CMCC-CM2-SR5']\n",
    "\n",
    "tasmax_model_NEX_GDDPCMIP6_to_comp_NOAA_future = tasmax_model_NEX_GDDPCMIP6_to_comp_NOAA_future[tasmax_model_NEX_GDDPCMIP6_to_comp_NOAA_future['Model']!='TaiESM1']\n",
    "tasmax_model_NEX_GDDPCMIP6_to_comp_NOAA_future = tasmax_model_NEX_GDDPCMIP6_to_comp_NOAA_future[tasmax_model_NEX_GDDPCMIP6_to_comp_NOAA_future['Model']!='NESM3']\n",
    "tasmax_model_NEX_GDDPCMIP6_to_comp_NOAA_future = tasmax_model_NEX_GDDPCMIP6_to_comp_NOAA_future[tasmax_model_NEX_GDDPCMIP6_to_comp_NOAA_future['Model']!='CMCC-CM2-SR5']\n",
    "\n",
    "tasmax_model_NEX_GDDPCMIP6_to_comp_NOAA_CHIMOIO_past = tasmax_model_NEX_GDDPCMIP6_to_comp_NOAA_past[tasmax_model_NEX_GDDPCMIP6_to_comp_NOAA_past['Name station']=='CHIMOIO, MZ']\n",
    "tasmax_model_NEX_GDDPCMIP6_to_comp_NOAA_PEMBA_past = tasmax_model_NEX_GDDPCMIP6_to_comp_NOAA_past[tasmax_model_NEX_GDDPCMIP6_to_comp_NOAA_past['Name station']=='PEMBA, MZ']\n",
    "tasmax_model_NEX_GDDPCMIP6_to_comp_NOAA_BEIRA_past = tasmax_model_NEX_GDDPCMIP6_to_comp_NOAA_past[tasmax_model_NEX_GDDPCMIP6_to_comp_NOAA_past['Name station']=='BEIRA, MZ']\n",
    "\n",
    "tasmax_model_NEX_GDDPCMIP6_to_comp_NOAA_CHIMOIO_future = tasmax_model_NEX_GDDPCMIP6_to_comp_NOAA_future[tasmax_model_NEX_GDDPCMIP6_to_comp_NOAA_future['Name station']=='CHIMOIO, MZ']\n",
    "tasmax_model_NEX_GDDPCMIP6_to_comp_NOAA_PEMBA_future = tasmax_model_NEX_GDDPCMIP6_to_comp_NOAA_future[tasmax_model_NEX_GDDPCMIP6_to_comp_NOAA_future['Name station']=='PEMBA, MZ']\n",
    "tasmax_model_NEX_GDDPCMIP6_to_comp_NOAA_BEIRA_future = tasmax_model_NEX_GDDPCMIP6_to_comp_NOAA_future[tasmax_model_NEX_GDDPCMIP6_to_comp_NOAA_future['Name station']=='BEIRA, MZ']"
   ]
  },
  {
   "cell_type": "code",
   "execution_count": null,
   "id": "7eff266a",
   "metadata": {},
   "outputs": [],
   "source": [
    "# to compare projections with NOAA observation data\n",
    "path_past_proj_tasmax = r'\\\\COWI.net\\projects\\A245000\\A248363\\CRVA\\Datasets\\NEX-GDDP-CMIP6-AllMoz\\csv_file\\tasmax\\tasmax_Celsius_day_1950-2100_Closest_to_NOAA\\NEXGDDPCMIP6_at_same_emplacement_as_NOAA_stationPembaChimoioBeira_tasmax_1950-2100.csv'\n",
    "tasmax_model_NEX_GDDPCMIP6_to_comp_NOAA_past_proj = pd.read_csv(path_past_proj_tasmax)\n",
    "tasmax_model_NEX_GDDPCMIP6_to_comp_NOAA_past_proj=add_year_month_season(tasmax_model_NEX_GDDPCMIP6_to_comp_NOAA_past_proj,'Date')\n",
    "tasmax_model_NEX_GDDPCMIP6_to_comp_NOAA_past_proj_CHIMOIO = tasmax_model_NEX_GDDPCMIP6_to_comp_NOAA_past_proj[tasmax_model_NEX_GDDPCMIP6_to_comp_NOAA_past_proj['Name station']=='CHIMOIO, MZ']\n",
    "tasmax_model_NEX_GDDPCMIP6_to_comp_NOAA_past_proj_PEMBA = tasmax_model_NEX_GDDPCMIP6_to_comp_NOAA_past_proj[tasmax_model_NEX_GDDPCMIP6_to_comp_NOAA_past_proj['Name station']=='PEMBA, MZ']\n",
    "tasmax_model_NEX_GDDPCMIP6_to_comp_NOAA_past_proj_BEIRA = tasmax_model_NEX_GDDPCMIP6_to_comp_NOAA_past_proj[tasmax_model_NEX_GDDPCMIP6_to_comp_NOAA_past_proj['Name station']=='BEIRA, MZ']"
   ]
  },
  {
   "cell_type": "markdown",
   "id": "dfa36787",
   "metadata": {},
   "source": [
    "### Minimum temperature NEX GDDP CMIP6"
   ]
  },
  {
   "cell_type": "code",
   "execution_count": null,
   "id": "7c40df38",
   "metadata": {},
   "outputs": [],
   "source": [
    "# to compare with NOAA observation data\n",
    "path = r'\\\\COWI.net\\projects\\A245000\\A248363\\CRVA\\Datasets\\NEX-GDDP-CMIP6-AllMoz\\csv_file\\tasmin\\tasmin_Celsius_day_1970-2014_closest_to_NOAA\\NEXGDDPCMIP6_at_same_emplacement_as_NOAA_stationPembaChimoioBeira_tasmin_1970-2014_projectsMoz.csv'\n",
    "tasmin_model_NEX_GDDPCMIP6_to_comp_NOAA_past = pd.read_csv(path)\n",
    "tasmin_model_NEX_GDDPCMIP6_to_comp_NOAA_past=add_year_month_season(tasmin_model_NEX_GDDPCMIP6_to_comp_NOAA_past,'Date')\n",
    "tasmin_model_NEX_GDDPCMIP6_to_comp_NOAA_CHIMOIO_past = tasmin_model_NEX_GDDPCMIP6_to_comp_NOAA_past[tasmin_model_NEX_GDDPCMIP6_to_comp_NOAA_past['Name station']=='CHIMOIO, MZ']\n",
    "tasmin_model_NEX_GDDPCMIP6_to_comp_NOAA_PEMBA_past = tasmin_model_NEX_GDDPCMIP6_to_comp_NOAA_past[tasmin_model_NEX_GDDPCMIP6_to_comp_NOAA_past['Name station']=='PEMBA, MZ']\n",
    "tasmin_model_NEX_GDDPCMIP6_to_comp_NOAA_BEIRA_past = tasmin_model_NEX_GDDPCMIP6_to_comp_NOAA_past[tasmin_model_NEX_GDDPCMIP6_to_comp_NOAA_past['Name station']=='BEIRA, MZ']"
   ]
  },
  {
   "cell_type": "markdown",
   "id": "047d12f6",
   "metadata": {},
   "source": [
    "# Compare NOAA station with NEX-GDDP-CMIP6 data at the same emplacement"
   ]
  },
  {
   "cell_type": "markdown",
   "id": "6288d60e",
   "metadata": {},
   "source": [
    "## Temperature"
   ]
  },
  {
   "cell_type": "code",
   "execution_count": null,
   "id": "ddc37203",
   "metadata": {},
   "outputs": [],
   "source": [
    "# beira"
   ]
  },
  {
   "cell_type": "code",
   "execution_count": null,
   "id": "9a15ace5",
   "metadata": {},
   "outputs": [],
   "source": [
    "daily_sum_obs_from_NOAA_BEIRA"
   ]
  },
  {
   "cell_type": "code",
   "execution_count": null,
   "id": "c9b0b7dc",
   "metadata": {},
   "outputs": [],
   "source": [
    "df_obs_Beira=daily_sum_obs_from_NOAA_BEIRA#[daily_sum_obs_from_NOAA_BEIRA['Year'].between(1974,2014)]"
   ]
  },
  {
   "cell_type": "code",
   "execution_count": null,
   "id": "5d061bb1",
   "metadata": {
    "scrolled": true
   },
   "outputs": [],
   "source": [
    "compare_3_lines('test','Mean','temperature',tas_model_NEX_GDDPCMIP6_to_comp_NOAA_BEIRA_past,'Daily Near-Surface Air Temperature °C','NEX-GDDP-CMIP6',df_obs_Beira,'TAVG','NOAA','Annual mean daily temperature °C','Beira')"
   ]
  },
  {
   "cell_type": "code",
   "execution_count": null,
   "id": "8d7c0eda",
   "metadata": {},
   "outputs": [],
   "source": [
    "cdf_plot_category_or_obs('Beira, MZ',df_initial=tas_model_NEX_GDDPCMIP6_to_comp_NOAA_BEIRA_past[['Model','Year','Daily Near-Surface Air Temperature °C']],name_column_df='Daily Near-Surface Air Temperature °C',source_df='NEX-GDDP-CMIP6',category='Model',obs_initial=df_obs_Beira,name_column_obs='TAVG',source_obs='NOAA')"
   ]
  },
  {
   "cell_type": "code",
   "execution_count": null,
   "id": "c22b73d3",
   "metadata": {},
   "outputs": [],
   "source": [
    "boxplots_('temperature',tas_model_NEX_GDDPCMIP6_to_comp_NOAA_BEIRA_past,'Daily Near-Surface Air Temperature °C',df_obs_Beira,'TAVG','Beira')"
   ]
  },
  {
   "cell_type": "code",
   "execution_count": null,
   "id": "5661a6e6",
   "metadata": {},
   "outputs": [],
   "source": [
    "# pemba"
   ]
  },
  {
   "cell_type": "code",
   "execution_count": null,
   "id": "45d0c439",
   "metadata": {},
   "outputs": [],
   "source": [
    "compare_3_lines('test','Mean','temperature',tas_model_NEX_GDDPCMIP6_to_comp_NOAA_PEMBA_past,'Daily Near-Surface Air Temperature °C','NEX-GDDP-CMIP6',daily_sum_obs_from_NOAA_PEMBA,'TAVG','NOAA','Annual mean daily temperature °C','Pemba')"
   ]
  },
  {
   "cell_type": "code",
   "execution_count": null,
   "id": "bbd020a2",
   "metadata": {},
   "outputs": [],
   "source": [
    "cdf_plot_category_or_obs('Pemba, MZ',df_initial=tas_model_NEX_GDDPCMIP6_to_comp_NOAA_PEMBA_past[['Model','Year','Daily Near-Surface Air Temperature °C']],name_column_df='Daily Near-Surface Air Temperature °C',source_df='NEX-GDDP-CMIP6',category='Model',obs_initial=daily_sum_obs_from_NOAA_PEMBA,name_column_obs='TAVG',source_obs='NOAA')"
   ]
  },
  {
   "cell_type": "code",
   "execution_count": null,
   "id": "b876fb25",
   "metadata": {},
   "outputs": [],
   "source": [
    "tas_model_NEX_GDDPCMIP6_to_comp_NOAA_PEMBA_future"
   ]
  },
  {
   "cell_type": "code",
   "execution_count": null,
   "id": "50728d24",
   "metadata": {},
   "outputs": [],
   "source": [
    "cdf_plot_category_or_obs_attempt('Pemba, MZ',df_initial=tas_model_NEX_GDDPCMIP6_to_comp_NOAA_PEMBA_future[['Experiment','Model','Year','Daily Near-Surface Air Temperature °C']],name_column_df='Daily Near-Surface Air Temperature °C',source_df='NEX-GDDP-CMIP6',category='Experiment',obs_initial=daily_sum_obs_from_NOAA_PEMBA,name_column_obs='TAVG',source_obs='NOAA')"
   ]
  },
  {
   "cell_type": "code",
   "execution_count": null,
   "id": "7388d7bb",
   "metadata": {},
   "outputs": [],
   "source": [
    "tas_model_NEX_GDDPCMIP6_to_comp_NOAA_PEMBA_future"
   ]
  },
  {
   "cell_type": "code",
   "execution_count": null,
   "id": "e3de6b1b",
   "metadata": {},
   "outputs": [],
   "source": [
    "boxplots_('temperature',tas_model_NEX_GDDPCMIP6_to_comp_NOAA_PEMBA_past,'Daily Near-Surface Air Temperature °C',daily_sum_obs_from_NOAA_PEMBA,'TAVG','Pemba')"
   ]
  },
  {
   "cell_type": "code",
   "execution_count": null,
   "id": "76905f7e",
   "metadata": {},
   "outputs": [],
   "source": [
    "# Chimoio"
   ]
  },
  {
   "cell_type": "code",
   "execution_count": null,
   "id": "fe73f79b",
   "metadata": {},
   "outputs": [],
   "source": [
    "df_obs_Chimoio=daily_sum_obs_from_NOAA_CHIMOIO#[daily_sum_obs_from_NOAA_CHIMOIO['Year'].between(1974,2014)]"
   ]
  },
  {
   "cell_type": "code",
   "execution_count": null,
   "id": "b9a69274",
   "metadata": {},
   "outputs": [],
   "source": [
    "compare_3_lines('test','Mean','temperature',tas_model_NEX_GDDPCMIP6_to_comp_NOAA_CHIMOIO_past,'Daily Near-Surface Air Temperature °C','NEX-GDDP-CMIP6',df_obs_Chimoio,'TAVG','NOAA','Annual mean daily temperature °C','Chimoio')"
   ]
  },
  {
   "cell_type": "code",
   "execution_count": null,
   "id": "303f8e30",
   "metadata": {},
   "outputs": [],
   "source": [
    "cdf_plot_category_or_obs('Chimoio, MZ',df_initial=tas_model_NEX_GDDPCMIP6_to_comp_NOAA_CHIMOIO_past[['Model','Year','Daily Near-Surface Air Temperature °C']],name_column_df='Daily Near-Surface Air Temperature °C',source_df='NEX-GDDP-CMIP6',category='Model',obs_initial=df_obs_Chimoio,name_column_obs='TAVG',source_obs='NOAA')"
   ]
  },
  {
   "cell_type": "code",
   "execution_count": null,
   "id": "f87cc3bd",
   "metadata": {},
   "outputs": [],
   "source": [
    "boxplots_('temperature',tas_model_NEX_GDDPCMIP6_to_comp_NOAA_CHIMOIO_past,'Daily Near-Surface Air Temperature °C',df_obs_Chimoio,'TAVG','Chimoio')"
   ]
  },
  {
   "cell_type": "markdown",
   "id": "73611e35",
   "metadata": {},
   "source": [
    "## Maximum temperature"
   ]
  },
  {
   "cell_type": "code",
   "execution_count": null,
   "id": "d25d9be0",
   "metadata": {},
   "outputs": [],
   "source": [
    "# beira"
   ]
  },
  {
   "cell_type": "code",
   "execution_count": null,
   "id": "286e741b",
   "metadata": {},
   "outputs": [],
   "source": [
    "compare_3_lines('test','Mean','maximum temperature',tasmax_model_NEX_GDDPCMIP6_to_comp_NOAA_BEIRA_past,'Daily Maximum Near-Surface Air Temperature °C','NEX-GDDP-CMIP6',daily_sum_obs_from_NOAA_BEIRA,'TMAX','NOAA','Annual mean maximum daily temperature °C','Beira')"
   ]
  },
  {
   "cell_type": "code",
   "execution_count": null,
   "id": "b42d5237",
   "metadata": {},
   "outputs": [],
   "source": [
    "cdf_plot_category_or_obs('Beira, MZ',df_initial=tasmax_model_NEX_GDDPCMIP6_to_comp_NOAA_BEIRA_past[['Model','Year','Daily Maximum Near-Surface Air Temperature °C']],name_column_df='Daily Maximum Near-Surface Air Temperature °C',source_df='NEX-GDDP-CMIP6',category='Model',obs_initial=daily_sum_obs_from_NOAA_BEIRA,name_column_obs='TMAX',source_obs='NOAA')"
   ]
  },
  {
   "cell_type": "code",
   "execution_count": null,
   "id": "6b0ad028",
   "metadata": {},
   "outputs": [],
   "source": [
    "boxplots_('maximum temperature',tasmax_model_NEX_GDDPCMIP6_to_comp_NOAA_BEIRA_past,'Daily Maximum Near-Surface Air Temperature °C',daily_sum_obs_from_NOAA_BEIRA,'TMAX','Beira')"
   ]
  },
  {
   "cell_type": "code",
   "execution_count": null,
   "id": "ec4914cb",
   "metadata": {},
   "outputs": [],
   "source": [
    "# pemba"
   ]
  },
  {
   "cell_type": "code",
   "execution_count": null,
   "id": "820c32e7",
   "metadata": {},
   "outputs": [],
   "source": [
    "compare_3_lines('test','Mean','maximum temperature',tasmax_model_NEX_GDDPCMIP6_to_comp_NOAA_PEMBA_past,'Daily Maximum Near-Surface Air Temperature °C','NEX-GDDP-CMIP6',daily_sum_obs_from_NOAA_PEMBA,'TMAX','NOAA','Annual mean maximum daily temperature °C','PEMBA')"
   ]
  },
  {
   "cell_type": "code",
   "execution_count": null,
   "id": "bd68cd76",
   "metadata": {},
   "outputs": [],
   "source": [
    "cdf_plot_category_or_obs('Pemba, MZ',df_initial=tasmax_model_NEX_GDDPCMIP6_to_comp_NOAA_PEMBA_past[['Model','Year','Daily Maximum Near-Surface Air Temperature °C']],name_column_df='Daily Maximum Near-Surface Air Temperature °C',source_df='NEX-GDDP-CMIP6',category='Model',obs_initial=daily_sum_obs_from_NOAA_PEMBA,name_column_obs='TMAX',source_obs='NOAA')"
   ]
  },
  {
   "cell_type": "code",
   "execution_count": null,
   "id": "b81b2dff",
   "metadata": {},
   "outputs": [],
   "source": [
    "cdf_plot_category_or_obs_attempt('Pemba, MZ',df_initial=tasmax_model_NEX_GDDPCMIP6_to_comp_NOAA_PEMBA_future[['Experiment','Model','Year','Daily Maximum Near-Surface Air Temperature °C']],name_column_df='Daily Maximum Near-Surface Air Temperature °C',source_df='NEX-GDDP-CMIP6',category='Experiment',obs_initial=daily_sum_obs_from_NOAA_PEMBA,name_column_obs='TMAX',source_obs='NOAA')"
   ]
  },
  {
   "cell_type": "code",
   "execution_count": null,
   "id": "dfd67e5f",
   "metadata": {},
   "outputs": [],
   "source": [
    "boxplots_('maximum temperature',tasmax_model_NEX_GDDPCMIP6_to_comp_NOAA_PEMBA_past,'Daily Maximum Near-Surface Air Temperature °C',daily_sum_obs_from_NOAA_PEMBA,'TMAX','Pemba')"
   ]
  },
  {
   "cell_type": "code",
   "execution_count": null,
   "id": "b70d88f1",
   "metadata": {},
   "outputs": [],
   "source": [
    "df = tasmax_model_NEX_GDDPCMIP6_to_comp_NOAA_past_proj_PEMBA[['Experiment','Year','Model','Daily Maximum Near-Surface Air Temperature °C']]#.groupby(['Experiment','Year'])[['Daily Maximum Near-Surface Air Temperature °C']].mean().reset_index()\n",
    "cdf_plot_category_or_obs('Pemba, MZ',df_initial=df,name_column_df='Daily Maximum Near-Surface Air Temperature °C',source_df='NEX-GDDP-CMIP6',category='Experiment',obs_initial=daily_sum_obs_from_NOAA_PEMBA,name_column_obs='TMAX',source_obs='NOAA')"
   ]
  },
  {
   "cell_type": "code",
   "execution_count": null,
   "id": "6735a3ca",
   "metadata": {},
   "outputs": [],
   "source": [
    "# chimoio"
   ]
  },
  {
   "cell_type": "code",
   "execution_count": null,
   "id": "b367cf1f",
   "metadata": {},
   "outputs": [],
   "source": [
    "compare_3_lines('test','Mean','maximum temperature',tasmax_model_NEX_GDDPCMIP6_to_comp_NOAA_CHIMOIO_past,'Daily Maximum Near-Surface Air Temperature °C','NEX-GDDP-CMIP6',daily_sum_obs_from_NOAA_CHIMOIO,'TMAX','NOAA','Annual mean maximum daily temperature °C','CHIMOIO')"
   ]
  },
  {
   "cell_type": "code",
   "execution_count": null,
   "id": "e80e2385",
   "metadata": {},
   "outputs": [],
   "source": [
    "max(tasmax_model_NEX_GDDPCMIP6_to_comp_NOAA_CHIMOIO_past['Year'])"
   ]
  },
  {
   "cell_type": "code",
   "execution_count": null,
   "id": "70debc9a",
   "metadata": {},
   "outputs": [],
   "source": [
    "cdf_plot_category_or_obs('Chimoio, MZ',df_initial=tasmax_model_NEX_GDDPCMIP6_to_comp_NOAA_CHIMOIO_past[tasmax_model_NEX_GDDPCMIP6_to_comp_NOAA_CHIMOIO_past['Year'].between(1985,2013)][['Model','Year','Daily Maximum Near-Surface Air Temperature °C']],name_column_df='Daily Maximum Near-Surface Air Temperature °C',source_df='NEX-GDDP-CMIP6',category='Model',obs_initial=daily_sum_obs_from_NOAA_CHIMOIO[daily_sum_obs_from_NOAA_CHIMOIO['Year'].between(1985,2013)],name_column_obs='TMAX',source_obs='NOAA')"
   ]
  },
  {
   "cell_type": "code",
   "execution_count": null,
   "id": "dea54f5c",
   "metadata": {},
   "outputs": [],
   "source": [
    "boxplots_('maximum temperature',tasmax_model_NEX_GDDPCMIP6_to_comp_NOAA_CHIMOIO_past[tasmax_model_NEX_GDDPCMIP6_to_comp_NOAA_CHIMOIO_past['Year'].between(1985,2013)],'Daily Maximum Near-Surface Air Temperature °C',daily_sum_obs_from_NOAA_CHIMOIO[daily_sum_obs_from_NOAA_CHIMOIO['Year'].between(1985,2013)],'TMAX','Chimoio')"
   ]
  },
  {
   "cell_type": "markdown",
   "id": "9f0394af",
   "metadata": {},
   "source": [
    "## Minimum temperature"
   ]
  },
  {
   "cell_type": "code",
   "execution_count": null,
   "id": "4d47b54d",
   "metadata": {},
   "outputs": [],
   "source": [
    "# Beira"
   ]
  },
  {
   "cell_type": "code",
   "execution_count": null,
   "id": "2eee1738",
   "metadata": {},
   "outputs": [],
   "source": [
    "compare_3_lines('test','Mean','minimum temperature',tasmin_model_NEX_GDDPCMIP6_to_comp_NOAA_BEIRA_past,'Daily Minimum Near-Surface Air Temperature °C','NEX-GDDP-CMIP6',daily_sum_obs_from_NOAA_BEIRA,'TMIN','NOAA','Annual mean daily minimum temperature °C','Beira')"
   ]
  },
  {
   "cell_type": "code",
   "execution_count": null,
   "id": "7dd5a2d4",
   "metadata": {},
   "outputs": [],
   "source": [
    "cdf_plot_category_or_obs('BEIRA, MZ',df_initial=tasmin_model_NEX_GDDPCMIP6_to_comp_NOAA_BEIRA_past[['Model','Year','Daily Minimum Near-Surface Air Temperature °C']],name_column_df='Daily Minimum Near-Surface Air Temperature °C',source_df='NEX-GDDP-CMIP6',category='Model',obs_initial=daily_sum_obs_from_NOAA_BEIRA,name_column_obs='TMIN',source_obs='NOAA')"
   ]
  },
  {
   "cell_type": "code",
   "execution_count": null,
   "id": "df55a197",
   "metadata": {},
   "outputs": [],
   "source": [
    "boxplots_('minimum temperature',tasmin_model_NEX_GDDPCMIP6_to_comp_NOAA_BEIRA_past,'Daily Minimum Near-Surface Air Temperature °C',daily_sum_obs_from_NOAA_BEIRA,'TMIN','Beira')"
   ]
  },
  {
   "cell_type": "code",
   "execution_count": null,
   "id": "453c1f37",
   "metadata": {},
   "outputs": [],
   "source": [
    "# pemba"
   ]
  },
  {
   "cell_type": "code",
   "execution_count": null,
   "id": "dc18c193",
   "metadata": {},
   "outputs": [],
   "source": [
    "compare_3_lines('test','Mean','minimum temperature',tasmin_model_NEX_GDDPCMIP6_to_comp_NOAA_PEMBA_past,'Daily Minimum Near-Surface Air Temperature °C','NEX-GDDP-CMIP6',daily_sum_obs_from_NOAA_PEMBA,'TMIN','NOAA','Annual mean daily minimum temperature °C','Pemba')"
   ]
  },
  {
   "cell_type": "code",
   "execution_count": null,
   "id": "022175f1",
   "metadata": {},
   "outputs": [],
   "source": [
    "cdf_plot_category_or_obs('PEMBA, MZ',df_initial=tasmin_model_NEX_GDDPCMIP6_to_comp_NOAA_PEMBA_past[['Model','Year','Daily Minimum Near-Surface Air Temperature °C']],name_column_df='Daily Minimum Near-Surface Air Temperature °C',source_df='NEX-GDDP-CMIP6',category='Model',obs_initial=daily_sum_obs_from_NOAA_PEMBA,name_column_obs='TMIN',source_obs='NOAA')"
   ]
  },
  {
   "cell_type": "code",
   "execution_count": null,
   "id": "919a0906",
   "metadata": {},
   "outputs": [],
   "source": [
    "boxplots_('minimum temperature',tasmin_model_NEX_GDDPCMIP6_to_comp_NOAA_PEMBA_past,'Daily Minimum Near-Surface Air Temperature °C',daily_sum_obs_from_NOAA_PEMBA,'TMIN','Pemba')"
   ]
  },
  {
   "cell_type": "code",
   "execution_count": null,
   "id": "c0b6aea3",
   "metadata": {},
   "outputs": [],
   "source": [
    "# Chimoio"
   ]
  },
  {
   "cell_type": "code",
   "execution_count": null,
   "id": "54c77406",
   "metadata": {},
   "outputs": [],
   "source": [
    "compare_3_lines('test','Mean','minimum temperature',tasmin_model_NEX_GDDPCMIP6_to_comp_NOAA_CHIMOIO_past,'Daily Minimum Near-Surface Air Temperature °C','NEX-GDDP-CMIP6',daily_sum_obs_from_NOAA_CHIMOIO,'TMIN','NOAA','Annual mean daily minimum temperature °C','Chimoio')"
   ]
  },
  {
   "cell_type": "code",
   "execution_count": null,
   "id": "ac7189d9",
   "metadata": {},
   "outputs": [],
   "source": [
    "cdf_plot_category_or_obs('CHIMOIO, MZ',df_initial=tasmin_model_NEX_GDDPCMIP6_to_comp_NOAA_CHIMOIO_past[['Model','Year','Daily Minimum Near-Surface Air Temperature °C']],name_column_df='Daily Minimum Near-Surface Air Temperature °C',source_df='NEX-GDDP-CMIP6',category='Model',obs_initial=daily_sum_obs_from_NOAA_CHIMOIO,name_column_obs='TMIN',source_obs='NOAA')"
   ]
  },
  {
   "cell_type": "code",
   "execution_count": null,
   "id": "f39d0c82",
   "metadata": {},
   "outputs": [],
   "source": [
    "boxplots_('minimum temperature',tasmin_model_NEX_GDDPCMIP6_to_comp_NOAA_CHIMOIO_past,'Daily Minimum Near-Surface Air Temperature °C',daily_sum_obs_from_NOAA_CHIMOIO,'TMIN','Chimoio')"
   ]
  },
  {
   "cell_type": "markdown",
   "id": "094a6834",
   "metadata": {},
   "source": [
    "## Precipitation"
   ]
  },
  {
   "cell_type": "code",
   "execution_count": null,
   "id": "caad009c",
   "metadata": {},
   "outputs": [],
   "source": [
    "# Beira"
   ]
  },
  {
   "cell_type": "code",
   "execution_count": null,
   "id": "6724a51d",
   "metadata": {},
   "outputs": [],
   "source": [
    "compare_3_lines('test','Mean','precipitation',pr_model_NEX_GDDPCMIP6_to_comp_NOAA_BEIRA_past,'Mean of the daily precipitation rate mm/day','NEX-GDDP-CMIP6',daily_sum_obs_from_NOAA_BEIRA,'PRCP','NOAA','Yearly mean of the mean daily precipitation rate mm/day','Beira')"
   ]
  },
  {
   "cell_type": "code",
   "execution_count": null,
   "id": "fd3f71d2",
   "metadata": {},
   "outputs": [],
   "source": [
    "cdf_plot_category_or_obs('Beira, MZ',df_initial=pr_model_NEX_GDDPCMIP6_to_comp_NOAA_BEIRA_past[['Model','Year','Mean of the daily precipitation rate mm/day']],name_column_df='Mean of the daily precipitation rate mm/day',source_df='NEX-GDDP-CMIP6',category='Model',obs_initial=daily_sum_obs_from_NOAA_BEIRA,name_column_obs='PRCP',source_obs='NOAA')"
   ]
  },
  {
   "cell_type": "code",
   "execution_count": null,
   "id": "8bd8da7b",
   "metadata": {},
   "outputs": [],
   "source": [
    "boxplots_('precipitation',pr_model_NEX_GDDPCMIP6_to_comp_NOAA_BEIRA_past,'Mean of the daily precipitation rate mm/day',daily_sum_obs_from_NOAA_BEIRA,'PRCP','Beira')"
   ]
  },
  {
   "cell_type": "code",
   "execution_count": null,
   "id": "70212a34",
   "metadata": {},
   "outputs": [],
   "source": [
    "# pemba"
   ]
  },
  {
   "cell_type": "code",
   "execution_count": null,
   "id": "d6fd9c5f",
   "metadata": {},
   "outputs": [],
   "source": [
    "compare_3_lines('test','Mean','precipitation',pr_model_NEX_GDDPCMIP6_to_comp_NOAA_PEMBA_past,'Mean of the daily precipitation rate mm/day','NEX-GDDP-CMIP6',daily_sum_obs_from_NOAA_PEMBA,'PRCP','NOAA','Yearly mean of the mean daily precipitation rate mm/day','Pemba')"
   ]
  },
  {
   "cell_type": "code",
   "execution_count": null,
   "id": "60e95f83",
   "metadata": {},
   "outputs": [],
   "source": [
    "cdf_plot_category_or_obs('Pemba, MZ',df_initial=pr_model_NEX_GDDPCMIP6_to_comp_NOAA_PEMBA_past[['Model','Year','Mean of the daily precipitation rate mm/day']],name_column_df='Mean of the daily precipitation rate mm/day',source_df='NEX-GDDP-CMIP6',category='Model',obs_initial=daily_sum_obs_from_NOAA_PEMBA,name_column_obs='PRCP',source_obs='NOAA')"
   ]
  },
  {
   "cell_type": "code",
   "execution_count": null,
   "id": "60ee4d8d",
   "metadata": {},
   "outputs": [],
   "source": [
    "boxplots_('precipitation',pr_model_NEX_GDDPCMIP6_to_comp_NOAA_PEMBA_past,'Mean of the daily precipitation rate mm/day',daily_sum_obs_from_NOAA_PEMBA,'PRCP','Pemba')"
   ]
  },
  {
   "cell_type": "code",
   "execution_count": null,
   "id": "756cb18c",
   "metadata": {},
   "outputs": [],
   "source": [
    "# Chimoio past emplacement station"
   ]
  },
  {
   "cell_type": "code",
   "execution_count": null,
   "id": "c2e6b7c9",
   "metadata": {},
   "outputs": [],
   "source": [
    "compare_3_lines('test','Mean','precipitation',pr_model_NEX_GDDPCMIP6_to_comp_NOAA_CHIMOIO_past,'Mean of the daily precipitation rate mm/day','NEX-GDDP-CMIP6',daily_sum_obs_from_NOAA_CHIMOIO,'PRCP','NOAA','Yearly mean of the mean daily precipitation rate mm/day','Chimoio')"
   ]
  },
  {
   "cell_type": "code",
   "execution_count": 20,
   "id": "b71d432a",
   "metadata": {},
   "outputs": [],
   "source": [
    "pr_model_NEX_GDDPCMIP6_to_comp_NOAA_CHIMOIO_past = pr_model_NEX_GDDPCMIP6_to_comp_NOAA_CHIMOIO_past[pr_model_NEX_GDDPCMIP6_to_comp_NOAA_CHIMOIO_past['Model']!='NESM3']\n",
    "pr_model_NEX_GDDPCMIP6_to_comp_NOAA_CHIMOIO_past = pr_model_NEX_GDDPCMIP6_to_comp_NOAA_CHIMOIO_past[pr_model_NEX_GDDPCMIP6_to_comp_NOAA_CHIMOIO_past['Model']!='TaiESM1']\n",
    "pr_model_NEX_GDDPCMIP6_to_comp_NOAA_CHIMOIO_past = pr_model_NEX_GDDPCMIP6_to_comp_NOAA_CHIMOIO_past[pr_model_NEX_GDDPCMIP6_to_comp_NOAA_CHIMOIO_past['Model']!='CMCC-CM2-SR5']"
   ]
  },
  {
   "cell_type": "code",
   "execution_count": 21,
   "id": "a12ebcad",
   "metadata": {},
   "outputs": [
    {
     "data": {
      "image/png": "[encoded data removed]",
      "text/plain": [
       "<Figure size 640x480 with 1 Axes>"
      ]
     },
     "metadata": {},
     "output_type": "display_data"
    }
   ],
   "source": [
    "cdf_plot_category_or_obs('Chimoio, MZ',df_initial=pr_model_NEX_GDDPCMIP6_to_comp_NOAA_CHIMOIO_past[pr_model_NEX_GDDPCMIP6_to_comp_NOAA_CHIMOIO_past['Year'].between(1985,2014)][['Model','Year','Mean of the daily precipitation rate mm/day']],name_column_df='Mean of the daily precipitation rate mm/day',source_df='NEX-GDDP-CMIP6',category='Model',obs_initial=daily_sum_obs_from_NOAA_CHIMOIO[daily_sum_obs_from_NOAA_CHIMOIO['Year'].between(1985,2014)],name_column_obs='PRCP',source_obs='NOAA')"
   ]
  },
  {
   "cell_type": "code",
   "execution_count": 22,
   "id": "338e765c",
   "metadata": {},
   "outputs": [
    {
     "name": "stderr",
     "output_type": "stream",
     "text": [
      "C:\\Users\\CLMRX\\OneDrive - COWI\\Documents\\GitHub\\CRVA_tool\\Graphs_functions.py:57: SettingWithCopyWarning: \n",
      "A value is trying to be set on a copy of a slice from a DataFrame.\n",
      "Try using .loc[row_indexer,col_indexer] = value instead\n",
      "\n",
      "See the caveats in the documentation: https://pandas.pydata.org/pandas-docs/stable/user_guide/indexing.html#returning-a-view-versus-a-copy\n",
      "  df2['Model']='Observation NOAA'\n"
     ]
    },
    {
     "data": {
      "image/png": "[encoded data removed]",
      "text/plain": [
       "<Figure size 640x480 with 1 Axes>"
      ]
     },
     "metadata": {},
     "output_type": "display_data"
    }
   ],
   "source": [
    "boxplots_('precipitation',pr_model_NEX_GDDPCMIP6_to_comp_NOAA_CHIMOIO_past[pr_model_NEX_GDDPCMIP6_to_comp_NOAA_CHIMOIO_past['Year'].between(1985,2014)],'Mean of the daily precipitation rate mm/day',daily_sum_obs_from_NOAA_CHIMOIO[daily_sum_obs_from_NOAA_CHIMOIO['Year'].between(1985,2014)],'PRCP','Chimoio')"
   ]
  },
  {
   "cell_type": "code",
   "execution_count": 23,
   "id": "f325c478",
   "metadata": {},
   "outputs": [
    {
     "name": "stderr",
     "output_type": "stream",
     "text": [
      "C:\\Users\\CLMRX\\OneDrive - COWI\\Documents\\GitHub\\CRVA_tool\\Graphs_functions.py:146: SettingWithCopyWarning: \n",
      "A value is trying to be set on a copy of a slice from a DataFrame.\n",
      "Try using .loc[row_indexer,col_indexer] = value instead\n",
      "\n",
      "See the caveats in the documentation: https://pandas.pydata.org/pandas-docs/stable/user_guide/indexing.html#returning-a-view-versus-a-copy\n",
      "  df2['Model']='Observation NOAA'\n"
     ]
    },
    {
     "data": {
      "image/png": "[encoded data removed]",
      "text/plain": [
       "<Figure size 640x480 with 1 Axes>"
      ]
     },
     "metadata": {},
     "output_type": "display_data"
    }
   ],
   "source": [
    "boxplots_without_outliers('precipitation',pr_model_NEX_GDDPCMIP6_to_comp_NOAA_CHIMOIO_past[pr_model_NEX_GDDPCMIP6_to_comp_NOAA_CHIMOIO_past['Year'].between(1985,2014)],'Mean of the daily precipitation rate mm/day',daily_sum_obs_from_NOAA_CHIMOIO[daily_sum_obs_from_NOAA_CHIMOIO['Year'].between(1985,2014)],'PRCP','Chimoio')"
   ]
  },
  {
   "cell_type": "code",
   "execution_count": null,
   "id": "752a1d0b",
   "metadata": {},
   "outputs": [],
   "source": [
    "# chimoio future emplacement station"
   ]
  },
  {
   "cell_type": "code",
   "execution_count": null,
   "id": "fb858fa0",
   "metadata": {},
   "outputs": [],
   "source": [
    "set(pr_model_NEX_GDDPCMIP6_to_comp_NOAA_CHIMOIO_future['Experiment'])"
   ]
  },
  {
   "cell_type": "code",
   "execution_count": null,
   "id": "e145f59b",
   "metadata": {},
   "outputs": [],
   "source": [
    "pr_model_NEX_GDDPCMIP6_to_comp_NOAA_CHIMOIO_future_spp126 = pr_model_NEX_GDDPCMIP6_to_comp_NOAA_CHIMOIO_future[pr_model_NEX_GDDPCMIP6_to_comp_NOAA_CHIMOIO_future['Experiment']=='ssp126']\n",
    "pr_model_NEX_GDDPCMIP6_to_comp_NOAA_CHIMOIO_future_ssp245 = pr_model_NEX_GDDPCMIP6_to_comp_NOAA_CHIMOIO_future[pr_model_NEX_GDDPCMIP6_to_comp_NOAA_CHIMOIO_future['Experiment']=='ssp245']\n",
    "pr_model_NEX_GDDPCMIP6_to_comp_NOAA_CHIMOIO_future_ssp370 = pr_model_NEX_GDDPCMIP6_to_comp_NOAA_CHIMOIO_future[pr_model_NEX_GDDPCMIP6_to_comp_NOAA_CHIMOIO_future['Experiment']=='ssp370']\n",
    "pr_model_NEX_GDDPCMIP6_to_comp_NOAA_CHIMOIO_future_ssp585 = pr_model_NEX_GDDPCMIP6_to_comp_NOAA_CHIMOIO_future[pr_model_NEX_GDDPCMIP6_to_comp_NOAA_CHIMOIO_future['Experiment']=='ssp585']"
   ]
  },
  {
   "cell_type": "code",
   "execution_count": null,
   "id": "68aa55d1",
   "metadata": {},
   "outputs": [],
   "source": [
    "sns.lineplot(data=pr_model_NEX_GDDPCMIP6_to_comp_NOAA_CHIMOIO_future_spp126, x= 'Year', y = 'Mean of the daily precipitation rate mm per day',hue='Model',errorbar=('pi',80))\n",
    "plt.legend(bbox_to_anchor=(1.02, 1), loc='upper left', borderaxespad=0)"
   ]
  },
  {
   "cell_type": "code",
   "execution_count": null,
   "id": "db7e3573",
   "metadata": {},
   "outputs": [],
   "source": [
    "cdf_plot_category_or_obs('Chimoio, MZ',df_initial=pr_model_NEX_GDDPCMIP6_to_comp_NOAA_CHIMOIO_future_spp126[['Model','Year','Mean of the daily precipitation rate mm per day']],name_column_df='Mean of the daily precipitation rate mm per day',source_df='NEX-GDDP-CMIP6',category='Model',obs_initial=daily_sum_obs_from_NOAA_CHIMOIO,name_column_obs='PRCP',source_obs='NOAA')"
   ]
  },
  {
   "cell_type": "code",
   "execution_count": null,
   "id": "d4962b46",
   "metadata": {},
   "outputs": [],
   "source": [
    "boxplots_('precipitation',pr_model_NEX_GDDPCMIP6_to_comp_NOAA_CHIMOIO_future_spp126,'Mean of the daily precipitation rate mm per day',daily_sum_obs_from_NOAA_CHIMOIO,'PRCP','Chimoio')"
   ]
  },
  {
   "cell_type": "code",
   "execution_count": null,
   "id": "94105654",
   "metadata": {},
   "outputs": [],
   "source": [
    "boxplots_without_outliers('precipitation',pr_model_NEX_GDDPCMIP6_to_comp_NOAA_CHIMOIO_future_spp126,'Mean of the daily precipitation rate mm per day',daily_sum_obs_from_NOAA_CHIMOIO,'PRCP','Chimoio')"
   ]
  },
  {
   "cell_type": "code",
   "execution_count": null,
   "id": "d94b9f68",
   "metadata": {},
   "outputs": [],
   "source": [
    "sns.lineplot(data=pr_model_NEX_GDDPCMIP6_to_comp_NOAA_CHIMOIO_future_ssp245, x= 'Year', y = 'Mean of the daily precipitation rate mm per day',hue='Model',errorbar=('pi',80))\n",
    "plt.legend(bbox_to_anchor=(1.02, 1), loc='upper left', borderaxespad=0)"
   ]
  },
  {
   "cell_type": "code",
   "execution_count": null,
   "id": "53aa38a2",
   "metadata": {},
   "outputs": [],
   "source": [
    "cdf_plot_category_or_obs('Chimoio, MZ',df_initial=pr_model_NEX_GDDPCMIP6_to_comp_NOAA_CHIMOIO_future_ssp245[['Model','Year','Mean of the daily precipitation rate mm per day']],name_column_df='Mean of the daily precipitation rate mm per day',source_df='NEX-GDDP-CMIP6',category='Model',obs_initial=daily_sum_obs_from_NOAA_CHIMOIO,name_column_obs='PRCP',source_obs='NOAA')"
   ]
  },
  {
   "cell_type": "code",
   "execution_count": null,
   "id": "74859a0d",
   "metadata": {},
   "outputs": [],
   "source": [
    "boxplots_('precipitation',pr_model_NEX_GDDPCMIP6_to_comp_NOAA_CHIMOIO_future_ssp245,'Mean of the daily precipitation rate mm per day',daily_sum_obs_from_NOAA_CHIMOIO,'PRCP','Chimoio')"
   ]
  },
  {
   "cell_type": "code",
   "execution_count": null,
   "id": "5ede39e6",
   "metadata": {},
   "outputs": [],
   "source": [
    "boxplots_without_outliers('precipitation',pr_model_NEX_GDDPCMIP6_to_comp_NOAA_CHIMOIO_future_ssp245,'Mean of the daily precipitation rate mm per day',daily_sum_obs_from_NOAA_CHIMOIO,'PRCP','Chimoio')"
   ]
  },
  {
   "cell_type": "code",
   "execution_count": null,
   "id": "667368d9",
   "metadata": {},
   "outputs": [],
   "source": [
    "sns.lineplot(data=pr_model_NEX_GDDPCMIP6_to_comp_NOAA_CHIMOIO_future_ssp370, x= 'Year', y = 'Mean of the daily precipitation rate mm per day',hue='Model',errorbar=('pi',80))\n",
    "plt.legend(bbox_to_anchor=(1.02, 1), loc='upper left', borderaxespad=0)"
   ]
  },
  {
   "cell_type": "code",
   "execution_count": null,
   "id": "f880845d",
   "metadata": {},
   "outputs": [],
   "source": [
    "cdf_plot_category_or_obs('Chimoio, MZ',df_initial=pr_model_NEX_GDDPCMIP6_to_comp_NOAA_CHIMOIO_future_ssp370[['Model','Year','Mean of the daily precipitation rate mm per day']],name_column_df='Mean of the daily precipitation rate mm per day',source_df='NEX-GDDP-CMIP6',category='Model',obs_initial=daily_sum_obs_from_NOAA_CHIMOIO,name_column_obs='PRCP',source_obs='NOAA')"
   ]
  },
  {
   "cell_type": "code",
   "execution_count": null,
   "id": "8cdbd4ba",
   "metadata": {},
   "outputs": [],
   "source": [
    "boxplots_('precipitation',pr_model_NEX_GDDPCMIP6_to_comp_NOAA_CHIMOIO_future_ssp370,'Mean of the daily precipitation rate mm per day',daily_sum_obs_from_NOAA_CHIMOIO,'PRCP','Chimoio')"
   ]
  },
  {
   "cell_type": "code",
   "execution_count": null,
   "id": "6e183cad",
   "metadata": {},
   "outputs": [],
   "source": [
    "boxplots_without_outliers('precipitation',pr_model_NEX_GDDPCMIP6_to_comp_NOAA_CHIMOIO_future_ssp370,'Mean of the daily precipitation rate mm per day',daily_sum_obs_from_NOAA_CHIMOIO,'PRCP','Chimoio')"
   ]
  },
  {
   "cell_type": "code",
   "execution_count": null,
   "id": "82607185",
   "metadata": {},
   "outputs": [],
   "source": [
    "sns.lineplot(data=pr_model_NEX_GDDPCMIP6_to_comp_NOAA_CHIMOIO_future_ssp585, x= 'Year', y = 'Mean of the daily precipitation rate mm per day',hue='Model',errorbar=('pi',80))\n",
    "plt.legend(bbox_to_anchor=(1.02, 1), loc='upper left', borderaxespad=0)"
   ]
  },
  {
   "cell_type": "code",
   "execution_count": null,
   "id": "06182987",
   "metadata": {},
   "outputs": [],
   "source": [
    "cdf_plot_category_or_obs('Chimoio, MZ',df_initial=pr_model_NEX_GDDPCMIP6_to_comp_NOAA_CHIMOIO_future_ssp585[['Model','Year','Mean of the daily precipitation rate mm per day']],name_column_df='Mean of the daily precipitation rate mm per day',source_df='NEX-GDDP-CMIP6',category='Model',obs_initial=daily_sum_obs_from_NOAA_CHIMOIO,name_column_obs='PRCP',source_obs='NOAA')"
   ]
  },
  {
   "cell_type": "code",
   "execution_count": null,
   "id": "d42ccec1",
   "metadata": {},
   "outputs": [],
   "source": [
    "boxplots_('precipitation',pr_model_NEX_GDDPCMIP6_to_comp_NOAA_CHIMOIO_future_ssp585,'Mean of the daily precipitation rate mm per day',daily_sum_obs_from_NOAA_CHIMOIO,'PRCP','Chimoio')"
   ]
  },
  {
   "cell_type": "code",
   "execution_count": null,
   "id": "f642f65e",
   "metadata": {},
   "outputs": [],
   "source": [
    "boxplots_without_outliers('precipitation',pr_model_NEX_GDDPCMIP6_to_comp_NOAA_CHIMOIO_future_ssp585,'Mean of the daily precipitation rate mm per day',daily_sum_obs_from_NOAA_CHIMOIO,'PRCP','Chimoio')"
   ]
  },
  {
   "cell_type": "code",
   "execution_count": null,
   "id": "9e8b1239",
   "metadata": {},
   "outputs": [],
   "source": [
    "def boxplots_comp(climate_var,df1,name_col1,df1_,name_col1_,name_station,fliersize_=0, max_y_lim=120,violin=False):#df2,name_col2,name_station,fliersize_=0):\n",
    "        \n",
    "    df1_=df1_.rename(columns={name_col1_:name_col1})\n",
    "\n",
    "    df_boxplot=pd.concat([df1,df1_])\n",
    "\n",
    "    fig,ax=plt.subplots()\n",
    "    plt.tight_layout() # Adjust the padding between and around subplots.\n",
    "    \n",
    "    if violin:\n",
    "        sns.violinplot(data=df_boxplot,x=df_boxplot.Model, y=name_col1,hue='Experiment',fliersize=fliersize_,whis=[10,90],ax=ax)#,palette=cols)\n",
    "    else:\n",
    "        sns.boxplot(data=df_boxplot,x=df_boxplot.Model, y=name_col1,hue='Experiment',fliersize=fliersize_,whis=[10,90],ax=ax)#,palette=cols)\n",
    "\n",
    "    # display the legend\n",
    "    handles, labels=ax.get_legend_handles_labels()\n",
    "    fig.legend(handles, labels, loc='upper right', ncol=1, bbox_to_anchor=(1.2, 0.8),title='Legend')\n",
    "    ax.get_legend().remove() # this line permits to have a common legend for the boxplots and the line\n",
    "    ax.set_ylim(0,max_y_lim)\n",
    "    ax.set_xticklabels(ax.get_xticklabels(),rotation=90)\n",
    "    plt.title('Compare past ('+str(min(df1['Year']))+' to '+str(max(df1['Year']))+') and future ('+str(min(df1_['Year']))+' to '+str(max(df1_['Year']))+')\\n'+climate_var+' NEX-GDDP-CMIP6 modelled data at '+name_station)\n",
    "\n",
    "    #path_figure=r'C:\\Users\\CLMRX\\OneDrive - COWI\\Documents\\GitHub\\CRVA_tool\\outputs\\figures\\testBoxplotObs.png'\n",
    "    #plt.savefig(path_figure,format ='png') # savefig or save text must be before plt.show. for savefig, format should be explicity written\n",
    "\n",
    "    plt.show()"
   ]
  },
  {
   "cell_type": "code",
   "execution_count": null,
   "id": "357265f2",
   "metadata": {},
   "outputs": [],
   "source": [
    "pr_model_NEX_GDDPCMIP6_to_comp_NOAA_CHIMOIO_past = pr_model_NEX_GDDPCMIP6_to_comp_NOAA_CHIMOIO_past[pr_model_NEX_GDDPCMIP6_to_comp_NOAA_CHIMOIO_past['Model']!='TaiESM1']\n",
    "pr_model_NEX_GDDPCMIP6_to_comp_NOAA_CHIMOIO_past = pr_model_NEX_GDDPCMIP6_to_comp_NOAA_CHIMOIO_past[pr_model_NEX_GDDPCMIP6_to_comp_NOAA_CHIMOIO_past['Model']!='CMCC-CM2-SR5']\n",
    "pr_model_NEX_GDDPCMIP6_to_comp_NOAA_CHIMOIO_past = pr_model_NEX_GDDPCMIP6_to_comp_NOAA_CHIMOIO_past[pr_model_NEX_GDDPCMIP6_to_comp_NOAA_CHIMOIO_past['Model']!='NESM3']"
   ]
  },
  {
   "cell_type": "code",
   "execution_count": null,
   "id": "789c39c2",
   "metadata": {},
   "outputs": [],
   "source": [
    "boxplots_comp('precipitation',pr_model_NEX_GDDPCMIP6_to_comp_NOAA_CHIMOIO_past,'Mean of the daily precipitation rate mm/day',pr_model_NEX_GDDPCMIP6_to_comp_NOAA_CHIMOIO_future,'Mean of the daily precipitation rate mm per day','Chimoio',fliersize_=1)"
   ]
  },
  {
   "cell_type": "code",
   "execution_count": null,
   "id": "244f14fd",
   "metadata": {},
   "outputs": [],
   "source": [
    "boxplots_comp('precipitation',pr_model_NEX_GDDPCMIP6_to_comp_NOAA_CHIMOIO_past,'Mean of the daily precipitation rate mm/day',pr_model_NEX_GDDPCMIP6_to_comp_NOAA_CHIMOIO_future,'Mean of the daily precipitation rate mm per day','Chimoio',fliersize_=1,violin=True)"
   ]
  },
  {
   "cell_type": "code",
   "execution_count": null,
   "id": "895b1e79",
   "metadata": {},
   "outputs": [],
   "source": [
    "boxplots_comp('precipitation',pr_model_NEX_GDDPCMIP6_to_comp_NOAA_CHIMOIO_past,'Mean of the daily precipitation rate mm/day',pr_model_NEX_GDDPCMIP6_to_comp_NOAA_CHIMOIO_future,'Mean of the daily precipitation rate mm per day','Chimoio',fliersize_=0,max_y_lim=12)"
   ]
  },
  {
   "cell_type": "code",
   "execution_count": null,
   "id": "b72f5244",
   "metadata": {},
   "outputs": [],
   "source": [
    "boxplots_comp('precipitation',pr_model_NEX_GDDPCMIP6_to_comp_NOAA_CHIMOIO_past,'Mean of the daily precipitation rate mm/day',pr_model_NEX_GDDPCMIP6_to_comp_NOAA_CHIMOIO_future,'Mean of the daily precipitation rate mm per day','Chimoio',fliersize_=0,max_y_lim=12,violin=True)"
   ]
  },
  {
   "cell_type": "code",
   "execution_count": null,
   "id": "08ee75df",
   "metadata": {},
   "outputs": [],
   "source": [
    "pr_model_NEX_GDDPCMIP6_to_comp_NOAA_CHIMOIO_past"
   ]
  },
  {
   "cell_type": "code",
   "execution_count": null,
   "id": "6df7a403",
   "metadata": {},
   "outputs": [],
   "source": [
    "pr_model_NEX_GDDPCMIP6_to_comp_NOAA_CHIMOIO_future_ssp585"
   ]
  },
  {
   "cell_type": "code",
   "execution_count": null,
   "id": "fa440d85",
   "metadata": {},
   "outputs": [],
   "source": [
    "# gorongosa (close to chimoio)"
   ]
  },
  {
   "cell_type": "code",
   "execution_count": null,
   "id": "ac0b4dc9",
   "metadata": {},
   "outputs": [],
   "source": [
    "pr_model_NEX_GDDPCMIP6_to_comp_NOAA_project_Gorongosa_to_compare =pr_model_NEX_GDDPCMIP6_to_comp_NOAA_project_Gorongosa[pr_model_NEX_GDDPCMIP6_to_comp_NOAA_project_Gorongosa['Year'].between(1980,2014)]"
   ]
  },
  {
   "cell_type": "code",
   "execution_count": null,
   "id": "68484635",
   "metadata": {},
   "outputs": [],
   "source": [
    "pr_model_NEX_GDDPCMIP6_to_comp_NOAA_project_Gorongosa_to_compare"
   ]
  },
  {
   "cell_type": "code",
   "execution_count": null,
   "id": "20f1a315",
   "metadata": {},
   "outputs": [],
   "source": [
    "pr_obs_gorongosa_from_gorongosa_to_comp = pr_obs_gorongosa_from_gorongosa[pr_obs_gorongosa_from_gorongosa['Year'].between(1980,2014)]"
   ]
  },
  {
   "cell_type": "code",
   "execution_count": null,
   "id": "4b19a187",
   "metadata": {},
   "outputs": [],
   "source": [
    "compare_3_lines('test','Mean','precipitation',pr_model_NEX_GDDPCMIP6_to_comp_NOAA_project_Gorongosa_to_compare,'Mean of the daily precipitation rate mm_per_day','NEX-GDDP-CMIP6',pr_obs_gorongosa_from_gorongosa_to_comp,'pr','\\nmeteorological station\\ngorongosa','Yearly mean of the mean daily precipitation rate mm/day','Gorongosa')"
   ]
  },
  {
   "cell_type": "code",
   "execution_count": null,
   "id": "89fe6196",
   "metadata": {},
   "outputs": [],
   "source": [
    "cdf_plot_category_or_obs('Gorongosa, MZ',df_initial=pr_model_NEX_GDDPCMIP6_to_comp_NOAA_project_Gorongosa_to_compare[['Model','Year','Mean of the daily precipitation rate mm_per_day']],name_column_df='Mean of the daily precipitation rate mm_per_day',source_df='NEX-GDDP-CMIP6',category='Model',obs_initial=pr_obs_gorongosa_from_gorongosa_to_comp,name_column_obs='pr',source_obs='\\nmeteorological station\\ngorongosa')"
   ]
  },
  {
   "cell_type": "code",
   "execution_count": null,
   "id": "5772ec55",
   "metadata": {},
   "outputs": [],
   "source": [
    "boxplots_('precipitation',pr_model_NEX_GDDPCMIP6_to_comp_NOAA_project_Gorongosa_to_compare,'Mean of the daily precipitation rate mm_per_day',pr_obs_gorongosa_from_gorongosa_to_comp,'pr','Gorongosa')"
   ]
  },
  {
   "cell_type": "code",
   "execution_count": null,
   "id": "87d20e70",
   "metadata": {},
   "outputs": [],
   "source": []
  },
  {
   "cell_type": "code",
   "execution_count": null,
   "id": "06f70066",
   "metadata": {},
   "outputs": [],
   "source": []
  },
  {
   "cell_type": "markdown",
   "id": "b5adf42c",
   "metadata": {},
   "source": [
    "# What needs to be changed ?\n",
    "## Which models need to be taken out ?"
   ]
  },
  {
   "cell_type": "markdown",
   "id": "2880b962",
   "metadata": {},
   "source": [
    "those graphs confirm that for precipitation and maximum temperature, no need to kill a model. But, for temperature and minimum temeprature, 'TAIESM1' and 'CMCC-CM2-SR5' are not following the trend. Take out those 2 models for all climate variable"
   ]
  },
  {
   "cell_type": "code",
   "execution_count": null,
   "id": "1ff7fe5b",
   "metadata": {},
   "outputs": [],
   "source": [
    "# take out models for maximum temperature\n",
    "tasmax_model_NEX_GDDPCMIP6_to_comp_NOAA_past = tasmax_model_NEX_GDDPCMIP6_to_comp_NOAA_past[tasmax_model_NEX_GDDPCMIP6_to_comp_NOAA_past['Model']!='CMCC-CM2-SR5']\n",
    "tasmax_model_NEX_GDDPCMIP6_to_comp_NOAA_past = tasmax_model_NEX_GDDPCMIP6_to_comp_NOAA_past[tasmax_model_NEX_GDDPCMIP6_to_comp_NOAA_past['Model']!='TaiESM1']\n",
    "tasmax_model_NEX_GDDPCMIP6_to_comp_NOAA_past = tasmax_model_NEX_GDDPCMIP6_to_comp_NOAA_past[tasmax_model_NEX_GDDPCMIP6_to_comp_NOAA_past['Model']!='NESM3']\n",
    "\n",
    "tasmax_model_NEX_GDDPCMIP6_to_comp_NOAA_CHIMOIO_past = tasmax_model_NEX_GDDPCMIP6_to_comp_NOAA_past[tasmax_model_NEX_GDDPCMIP6_to_comp_NOAA_past['Name station']=='CHIMOIO, MZ']\n",
    "tasmax_model_NEX_GDDPCMIP6_to_comp_NOAA_PEMBA_past = tasmax_model_NEX_GDDPCMIP6_to_comp_NOAA_past[tasmax_model_NEX_GDDPCMIP6_to_comp_NOAA_past['Name station']=='PEMBA, MZ']\n",
    "tasmax_model_NEX_GDDPCMIP6_to_comp_NOAA_BEIRA_past = tasmax_model_NEX_GDDPCMIP6_to_comp_NOAA_past[tasmax_model_NEX_GDDPCMIP6_to_comp_NOAA_past['Name station']=='BEIRA, MZ']"
   ]
  },
  {
   "cell_type": "code",
   "execution_count": null,
   "id": "c389bbae",
   "metadata": {},
   "outputs": [],
   "source": [
    "# take out models for average temperature past\n",
    "tas_model_NEX_GDDPCMIP6_to_comp_NOAA_past = tas_model_NEX_GDDPCMIP6_to_comp_NOAA_past[tas_model_NEX_GDDPCMIP6_to_comp_NOAA_past['Model']!='CMCC-CM2-SR5']\n",
    "tas_model_NEX_GDDPCMIP6_to_comp_NOAA_past = tas_model_NEX_GDDPCMIP6_to_comp_NOAA_past[tas_model_NEX_GDDPCMIP6_to_comp_NOAA_past['Model']!='TaiESM1']\n",
    "tas_model_NEX_GDDPCMIP6_to_comp_NOAA_past = tas_model_NEX_GDDPCMIP6_to_comp_NOAA_past[tas_model_NEX_GDDPCMIP6_to_comp_NOAA_past['Model']!='NESM3']\n",
    "\n",
    "tas_model_NEX_GDDPCMIP6_to_comp_NOAA_CHIMOIO_past = tas_model_NEX_GDDPCMIP6_to_comp_NOAA_past[tas_model_NEX_GDDPCMIP6_to_comp_NOAA_past['Name station']=='CHIMOIO, MZ']\n",
    "tas_model_NEX_GDDPCMIP6_to_comp_NOAA_PEMBA_past = tas_model_NEX_GDDPCMIP6_to_comp_NOAA_past[tas_model_NEX_GDDPCMIP6_to_comp_NOAA_past['Name station']=='PEMBA, MZ']\n",
    "tas_model_NEX_GDDPCMIP6_to_comp_NOAA_BEIRA_past = tas_model_NEX_GDDPCMIP6_to_comp_NOAA_past[tas_model_NEX_GDDPCMIP6_to_comp_NOAA_past['Name station']=='BEIRA, MZ']"
   ]
  },
  {
   "cell_type": "code",
   "execution_count": null,
   "id": "fec2380f",
   "metadata": {},
   "outputs": [],
   "source": [
    "# take out models for average temperature future\n",
    "tas_model_NEX_GDDPCMIP6_to_comp_NOAA_future = tas_model_NEX_GDDPCMIP6_to_comp_NOAA_future[tas_model_NEX_GDDPCMIP6_to_comp_NOAA_future['Model']!='CMCC-CM2-SR5']\n",
    "tas_model_NEX_GDDPCMIP6_to_comp_NOAA_future = tas_model_NEX_GDDPCMIP6_to_comp_NOAA_future[tas_model_NEX_GDDPCMIP6_to_comp_NOAA_future['Model']!='TaiESM1']\n",
    "tas_model_NEX_GDDPCMIP6_to_comp_NOAA_future = tas_model_NEX_GDDPCMIP6_to_comp_NOAA_future[tas_model_NEX_GDDPCMIP6_to_comp_NOAA_future['Model']!='NESM3']\n",
    "\n",
    "tas_model_NEX_GDDPCMIP6_to_comp_NOAA_CHIMOIO_future = tas_model_NEX_GDDPCMIP6_to_comp_NOAA_future[tas_model_NEX_GDDPCMIP6_to_comp_NOAA_future['Name station']=='CHIMOIO, MZ']\n",
    "tas_model_NEX_GDDPCMIP6_to_comp_NOAA_PEMBA_future = tas_model_NEX_GDDPCMIP6_to_comp_NOAA_future[tas_model_NEX_GDDPCMIP6_to_comp_NOAA_future['Name station']=='PEMBA, MZ']\n",
    "tas_model_NEX_GDDPCMIP6_to_comp_NOAA_BEIRA_future = tas_model_NEX_GDDPCMIP6_to_comp_NOAA_future[tas_model_NEX_GDDPCMIP6_to_comp_NOAA_future['Name station']=='BEIRA, MZ']"
   ]
  },
  {
   "cell_type": "code",
   "execution_count": null,
   "id": "3673f88a",
   "metadata": {},
   "outputs": [],
   "source": [
    "# take out models for precipitation\n",
    "pr_model_NEX_GDDPCMIP6_to_comp_NOAA_past = pr_model_NEX_GDDPCMIP6_to_comp_NOAA_past[pr_model_NEX_GDDPCMIP6_to_comp_NOAA_past['Model']!='CMCC-CM2-SR5']\n",
    "pr_model_NEX_GDDPCMIP6_to_comp_NOAA_past = pr_model_NEX_GDDPCMIP6_to_comp_NOAA_past[pr_model_NEX_GDDPCMIP6_to_comp_NOAA_past['Model']!='TaiESM1']\n",
    "pr_model_NEX_GDDPCMIP6_to_comp_NOAA_past = pr_model_NEX_GDDPCMIP6_to_comp_NOAA_past[pr_model_NEX_GDDPCMIP6_to_comp_NOAA_past['Model']!='NESM3']\n",
    "\n",
    "pr_model_NEX_GDDPCMIP6_to_comp_NOAA_CHIMOIO_past = pr_model_NEX_GDDPCMIP6_to_comp_NOAA_past[pr_model_NEX_GDDPCMIP6_to_comp_NOAA_past['Name station']=='CHIMOIO, MZ']\n",
    "pr_model_NEX_GDDPCMIP6_to_comp_NOAA_PEMBA_past = pr_model_NEX_GDDPCMIP6_to_comp_NOAA_past[pr_model_NEX_GDDPCMIP6_to_comp_NOAA_past['Name station']=='PEMBA, MZ']\n",
    "pr_model_NEX_GDDPCMIP6_to_comp_NOAA_BEIRA_past = pr_model_NEX_GDDPCMIP6_to_comp_NOAA_past[pr_model_NEX_GDDPCMIP6_to_comp_NOAA_past['Name station']=='BEIRA, MZ']"
   ]
  },
  {
   "cell_type": "code",
   "execution_count": null,
   "id": "c09ebf4f",
   "metadata": {},
   "outputs": [],
   "source": [
    "# take out models for minimum temperature\n",
    "tasmin_model_NEX_GDDPCMIP6_to_comp_NOAA_past = tasmin_model_NEX_GDDPCMIP6_to_comp_NOAA_past[tasmin_model_NEX_GDDPCMIP6_to_comp_NOAA_past['Model']!='CMCC-CM2-SR5']\n",
    "tasmin_model_NEX_GDDPCMIP6_to_comp_NOAA_past = tasmin_model_NEX_GDDPCMIP6_to_comp_NOAA_past[tasmin_model_NEX_GDDPCMIP6_to_comp_NOAA_past['Model']!='TaiESM1']\n",
    "tasmin_model_NEX_GDDPCMIP6_to_comp_NOAA_past = tasmin_model_NEX_GDDPCMIP6_to_comp_NOAA_past[tasmin_model_NEX_GDDPCMIP6_to_comp_NOAA_past['Model']!='NESM3']\n",
    "\n",
    "\n",
    "tasmin_model_NEX_GDDPCMIP6_to_comp_NOAA_CHIMOIO_past = tasmin_model_NEX_GDDPCMIP6_to_comp_NOAA_past[tasmin_model_NEX_GDDPCMIP6_to_comp_NOAA_past['Name station']=='CHIMOIO, MZ']\n",
    "tasmin_model_NEX_GDDPCMIP6_to_comp_NOAA_PEMBA_past = tasmin_model_NEX_GDDPCMIP6_to_comp_NOAA_past[tasmin_model_NEX_GDDPCMIP6_to_comp_NOAA_past['Name station']=='PEMBA, MZ']\n",
    "tasmin_model_NEX_GDDPCMIP6_to_comp_NOAA_BEIRA_past = tasmin_model_NEX_GDDPCMIP6_to_comp_NOAA_past[tasmin_model_NEX_GDDPCMIP6_to_comp_NOAA_past['Name station']=='BEIRA, MZ']"
   ]
  },
  {
   "cell_type": "markdown",
   "id": "bc6ed224",
   "metadata": {},
   "source": [
    "## Temperature : take out some models"
   ]
  },
  {
   "cell_type": "code",
   "execution_count": null,
   "id": "9d8b87f9",
   "metadata": {},
   "outputs": [],
   "source": [
    "compare_3_lines('test','Mean','temperature',tas_model_NEX_GDDPCMIP6_to_comp_NOAA_BEIRA_past,'Daily Near-Surface Air Temperature °C','NEX-GDDP-CMIP6',daily_sum_obs_from_NOAA_BEIRA,'TAVG','NOAA','Annual mean daily temperature °C','Beira')"
   ]
  },
  {
   "cell_type": "code",
   "execution_count": null,
   "id": "dbbeadfe",
   "metadata": {},
   "outputs": [],
   "source": [
    "cdf_plot_category_or_obs('Beira, MZ',df_initial=tas_model_NEX_GDDPCMIP6_to_comp_NOAA_BEIRA_past[['Model','Year','Daily Near-Surface Air Temperature °C']],name_column_df='Daily Near-Surface Air Temperature °C',source_df='NEX-GDDP-CMIP6',category='Model',obs_initial=daily_sum_obs_from_NOAA_BEIRA,name_column_obs='TAVG',source_obs='NOAA')"
   ]
  },
  {
   "cell_type": "code",
   "execution_count": null,
   "id": "1eec3caf",
   "metadata": {},
   "outputs": [],
   "source": [
    "boxplots_('temperature',tas_model_NEX_GDDPCMIP6_to_comp_NOAA_BEIRA_past,'Daily Near-Surface Air Temperature °C',daily_sum_obs_from_NOAA_BEIRA,'TAVG','Beira')"
   ]
  },
  {
   "cell_type": "code",
   "execution_count": null,
   "id": "be187c4d",
   "metadata": {},
   "outputs": [],
   "source": [
    "compare_3_lines('test','Mean','temperature',tas_model_NEX_GDDPCMIP6_to_comp_NOAA_PEMBA_past,'Daily Near-Surface Air Temperature °C','NEX-GDDP-CMIP6',daily_sum_obs_from_NOAA_PEMBA,'TAVG','NOAA','Annual mean daily temperature °C','Pemba')"
   ]
  },
  {
   "cell_type": "code",
   "execution_count": null,
   "id": "9470e77c",
   "metadata": {},
   "outputs": [],
   "source": [
    "cdf_plot_category_or_obs('Pemba, MZ',df_initial=tas_model_NEX_GDDPCMIP6_to_comp_NOAA_PEMBA_past[['Model','Year','Daily Near-Surface Air Temperature °C']],name_column_df='Daily Near-Surface Air Temperature °C',source_df='NEX-GDDP-CMIP6',category='Model',obs_initial=daily_sum_obs_from_NOAA_PEMBA,name_column_obs='TAVG',source_obs='NOAA')"
   ]
  },
  {
   "cell_type": "code",
   "execution_count": null,
   "id": "c8abe2dd",
   "metadata": {},
   "outputs": [],
   "source": [
    "boxplots_('temperature',tas_model_NEX_GDDPCMIP6_to_comp_NOAA_PEMBA_past,'Daily Near-Surface Air Temperature °C',daily_sum_obs_from_NOAA_PEMBA,'TAVG','Pemba')"
   ]
  },
  {
   "cell_type": "code",
   "execution_count": null,
   "id": "c7850a10",
   "metadata": {},
   "outputs": [],
   "source": [
    "compare_3_lines('test','Mean','temperature',tas_model_NEX_GDDPCMIP6_to_comp_NOAA_CHIMOIO_past,'Daily Near-Surface Air Temperature °C','NEX-GDDP-CMIP6',daily_sum_obs_from_NOAA_CHIMOIO,'TAVG','NOAA','Annual mean daily temperature °C','Chimoio')"
   ]
  },
  {
   "cell_type": "code",
   "execution_count": null,
   "id": "a79b22cc",
   "metadata": {},
   "outputs": [],
   "source": [
    "cdf_plot_category_or_obs('Chimoio, MZ',df_initial=tas_model_NEX_GDDPCMIP6_to_comp_NOAA_CHIMOIO_past[['Model','Year','Daily Near-Surface Air Temperature °C']],name_column_df='Daily Near-Surface Air Temperature °C',source_df='NEX-GDDP-CMIP6',category='Model',obs_initial=daily_sum_obs_from_NOAA_CHIMOIO,name_column_obs='TAVG',source_obs='NOAA')"
   ]
  },
  {
   "cell_type": "code",
   "execution_count": null,
   "id": "aefb4843",
   "metadata": {},
   "outputs": [],
   "source": [
    "boxplots_('temperature',tas_model_NEX_GDDPCMIP6_to_comp_NOAA_CHIMOIO_past,'Daily Near-Surface Air Temperature °C',daily_sum_obs_from_NOAA_CHIMOIO,'TAVG','CHIMOIO')"
   ]
  },
  {
   "cell_type": "code",
   "execution_count": null,
   "id": "b9a034b1",
   "metadata": {},
   "outputs": [],
   "source": [
    "set(tas_model_NEX_GDDPCMIP6_to_comp_NOAA_CHIMOIO_future['Experiment'])"
   ]
  },
  {
   "cell_type": "code",
   "execution_count": null,
   "id": "30b16047",
   "metadata": {},
   "outputs": [],
   "source": [
    "tas_model_NEX_GDDPCMIP6_to_comp_NOAA_CHIMOIO_future_ssp126=tas_model_NEX_GDDPCMIP6_to_comp_NOAA_CHIMOIO_future[tas_model_NEX_GDDPCMIP6_to_comp_NOAA_CHIMOIO_future['Experiment']=='ssp126']\n",
    "tas_model_NEX_GDDPCMIP6_to_comp_NOAA_CHIMOIO_future_ssp245=tas_model_NEX_GDDPCMIP6_to_comp_NOAA_CHIMOIO_future[tas_model_NEX_GDDPCMIP6_to_comp_NOAA_CHIMOIO_future['Experiment']=='ssp245']\n",
    "tas_model_NEX_GDDPCMIP6_to_comp_NOAA_CHIMOIO_future_ssp370=tas_model_NEX_GDDPCMIP6_to_comp_NOAA_CHIMOIO_future[tas_model_NEX_GDDPCMIP6_to_comp_NOAA_CHIMOIO_future['Experiment']=='ssp370']\n",
    "tas_model_NEX_GDDPCMIP6_to_comp_NOAA_CHIMOIO_future_ssp585=tas_model_NEX_GDDPCMIP6_to_comp_NOAA_CHIMOIO_future[tas_model_NEX_GDDPCMIP6_to_comp_NOAA_CHIMOIO_future['Experiment']=='ssp585']"
   ]
  },
  {
   "cell_type": "code",
   "execution_count": null,
   "id": "c661aae0",
   "metadata": {},
   "outputs": [],
   "source": []
  },
  {
   "cell_type": "code",
   "execution_count": null,
   "id": "89ffa5ca",
   "metadata": {},
   "outputs": [],
   "source": [
    "sns.lineplot(data=tas_model_NEX_GDDPCMIP6_to_comp_NOAA_CHIMOIO_future_ssp126, x= 'Year', y ='Daily Near-Surface Air Temperature °C',hue='Model',errorbar=('pi',80))\n",
    "plt.legend(bbox_to_anchor=(1.02, 1), loc='upper left', borderaxespad=0)"
   ]
  },
  {
   "cell_type": "code",
   "execution_count": null,
   "id": "2688f8cf",
   "metadata": {},
   "outputs": [],
   "source": [
    "cdf_plot_category_or_obs('Chimoio, MZ',df_initial=tas_model_NEX_GDDPCMIP6_to_comp_NOAA_CHIMOIO_future_ssp126[['Model','Year','Daily Near-Surface Air Temperature °C']],name_column_df='Daily Near-Surface Air Temperature °C',source_df='NEX-GDDP-CMIP6',category='Model',obs_initial=daily_sum_obs_from_NOAA_CHIMOIO,name_column_obs='TAVG',source_obs='NOAA')"
   ]
  },
  {
   "cell_type": "code",
   "execution_count": null,
   "id": "a3c9fb3c",
   "metadata": {},
   "outputs": [],
   "source": [
    "boxplots_('temperature',tas_model_NEX_GDDPCMIP6_to_comp_NOAA_CHIMOIO_future_ssp126,'Daily Near-Surface Air Temperature °C',daily_sum_obs_from_NOAA_CHIMOIO,'TAVG','CHIMOIO')"
   ]
  },
  {
   "cell_type": "code",
   "execution_count": null,
   "id": "8131c670",
   "metadata": {},
   "outputs": [],
   "source": [
    "sns.lineplot(data=tas_model_NEX_GDDPCMIP6_to_comp_NOAA_CHIMOIO_future_ssp245, x= 'Year', y ='Daily Near-Surface Air Temperature °C',hue='Model',errorbar=('pi',80))\n",
    "plt.legend(bbox_to_anchor=(1.02, 1), loc='upper left', borderaxespad=0)"
   ]
  },
  {
   "cell_type": "code",
   "execution_count": null,
   "id": "5b932d1e",
   "metadata": {},
   "outputs": [],
   "source": [
    "cdf_plot_category_or_obs('Chimoio, MZ',df_initial=tas_model_NEX_GDDPCMIP6_to_comp_NOAA_CHIMOIO_future[tas_model_NEX_GDDPCMIP6_to_comp_NOAA_CHIMOIO_future['Experiment']=='ssp245'][['Model','Year','Daily Near-Surface Air Temperature °C']],name_column_df='Daily Near-Surface Air Temperature °C',source_df='NEX-GDDP-CMIP6',category='Model',obs_initial=daily_sum_obs_from_NOAA_CHIMOIO,name_column_obs='TAVG',source_obs='NOAA')"
   ]
  },
  {
   "cell_type": "code",
   "execution_count": null,
   "id": "24f5c820",
   "metadata": {},
   "outputs": [],
   "source": [
    "boxplots_('temperature',tas_model_NEX_GDDPCMIP6_to_comp_NOAA_CHIMOIO_future_ssp245,'Daily Near-Surface Air Temperature °C',daily_sum_obs_from_NOAA_CHIMOIO,'TAVG','CHIMOIO')"
   ]
  },
  {
   "cell_type": "code",
   "execution_count": null,
   "id": "c7464a6a",
   "metadata": {},
   "outputs": [],
   "source": [
    "sns.lineplot(data=tas_model_NEX_GDDPCMIP6_to_comp_NOAA_CHIMOIO_future_ssp370, x= 'Year', y ='Daily Near-Surface Air Temperature °C',hue='Model',errorbar=('pi',80))\n",
    "plt.legend(bbox_to_anchor=(1.02, 1), loc='upper left', borderaxespad=0)"
   ]
  },
  {
   "cell_type": "code",
   "execution_count": null,
   "id": "5b4b63ef",
   "metadata": {},
   "outputs": [],
   "source": [
    "cdf_plot_category_or_obs('Chimoio, MZ',df_initial=tas_model_NEX_GDDPCMIP6_to_comp_NOAA_CHIMOIO_future[tas_model_NEX_GDDPCMIP6_to_comp_NOAA_CHIMOIO_future['Experiment']=='ssp370'][['Model','Year','Daily Near-Surface Air Temperature °C']],name_column_df='Daily Near-Surface Air Temperature °C',source_df='NEX-GDDP-CMIP6',category='Model',obs_initial=daily_sum_obs_from_NOAA_CHIMOIO,name_column_obs='TAVG',source_obs='NOAA')"
   ]
  },
  {
   "cell_type": "code",
   "execution_count": null,
   "id": "d5cae01c",
   "metadata": {},
   "outputs": [],
   "source": [
    "boxplots_('temperature',tas_model_NEX_GDDPCMIP6_to_comp_NOAA_CHIMOIO_future_ssp370,'Daily Near-Surface Air Temperature °C',daily_sum_obs_from_NOAA_CHIMOIO,'TAVG','CHIMOIO')"
   ]
  },
  {
   "cell_type": "code",
   "execution_count": null,
   "id": "bce611f3",
   "metadata": {},
   "outputs": [],
   "source": [
    "sns.lineplot(data=tas_model_NEX_GDDPCMIP6_to_comp_NOAA_CHIMOIO_future_ssp585, x= 'Year', y ='Daily Near-Surface Air Temperature °C',hue='Model',errorbar=('pi',80))\n",
    "plt.legend(bbox_to_anchor=(1.02, 1), loc='upper left', borderaxespad=0)"
   ]
  },
  {
   "cell_type": "code",
   "execution_count": null,
   "id": "e504976b",
   "metadata": {},
   "outputs": [],
   "source": [
    "cdf_plot_category_or_obs('Chimoio, MZ',df_initial=tas_model_NEX_GDDPCMIP6_to_comp_NOAA_CHIMOIO_future[tas_model_NEX_GDDPCMIP6_to_comp_NOAA_CHIMOIO_future['Experiment']=='ssp585'][['Model','Year','Daily Near-Surface Air Temperature °C']],name_column_df='Daily Near-Surface Air Temperature °C',source_df='NEX-GDDP-CMIP6',category='Model',obs_initial=daily_sum_obs_from_NOAA_CHIMOIO,name_column_obs='TAVG',source_obs='NOAA')"
   ]
  },
  {
   "cell_type": "code",
   "execution_count": null,
   "id": "4d7c7b73",
   "metadata": {},
   "outputs": [],
   "source": [
    "boxplots_('temperature',tas_model_NEX_GDDPCMIP6_to_comp_NOAA_CHIMOIO_future_ssp585,'Daily Near-Surface Air Temperature °C',daily_sum_obs_from_NOAA_CHIMOIO,'TAVG','CHIMOIO')"
   ]
  },
  {
   "cell_type": "code",
   "execution_count": null,
   "id": "4a99ae49",
   "metadata": {},
   "outputs": [],
   "source": []
  },
  {
   "cell_type": "markdown",
   "id": "ed283030",
   "metadata": {},
   "source": [
    "## Maximum temperature : take out some models (the ones that were not performing well for average temperature) from modelled data and some extreme values that are not plausible from observation data"
   ]
  },
  {
   "cell_type": "code",
   "execution_count": null,
   "id": "26759e78",
   "metadata": {},
   "outputs": [],
   "source": [
    "# chimoio"
   ]
  },
  {
   "cell_type": "code",
   "execution_count": null,
   "id": "6ab6416e",
   "metadata": {},
   "outputs": [],
   "source": [
    "compare_3_lines('test','Mean','maximum temperature',tasmax_model_NEX_GDDPCMIP6_to_comp_NOAA_CHIMOIO_past,'Daily Maximum Near-Surface Air Temperature °C',daily_sum_obs_from_NOAA_CHIMOIO,'TMAX','NOAA','Annual mean daily maximum temperature °C','Chimoio')"
   ]
  },
  {
   "cell_type": "code",
   "execution_count": null,
   "id": "dde3b1db",
   "metadata": {},
   "outputs": [],
   "source": [
    "cdf_plot_category_or_obs('CHIMOIO, MZ',df_initial=tasmax_model_NEX_GDDPCMIP6_to_comp_NOAA_CHIMOIO_past[['Model','Year','Daily Maximum Near-Surface Air Temperature °C']],name_column_df='Daily Maximum Near-Surface Air Temperature °C',source_df='NEX-GDDP-CMIP6',category='Model',obs_initial=daily_sum_obs_from_NOAA_CHIMOIO,name_column_obs='TMAX',source_obs='NOAA')"
   ]
  },
  {
   "cell_type": "code",
   "execution_count": null,
   "id": "a980c662",
   "metadata": {},
   "outputs": [],
   "source": [
    "boxplots_('maximum temperature',tasmax_model_NEX_GDDPCMIP6_to_comp_NOAA_CHIMOIO_past,'Daily Maximum Near-Surface Air Temperature °C',daily_sum_obs_from_NOAA_CHIMOIO,'TMAX','Chimoio')"
   ]
  },
  {
   "cell_type": "code",
   "execution_count": null,
   "id": "ffb89a00",
   "metadata": {},
   "outputs": [],
   "source": [
    "# pemba"
   ]
  },
  {
   "cell_type": "code",
   "execution_count": null,
   "id": "9d2a1415",
   "metadata": {},
   "outputs": [],
   "source": [
    "compare_3_lines('test','Mean','maximum temperature',tasmax_model_NEX_GDDPCMIP6_to_comp_NOAA_PEMBA_past,'Daily Maximum Near-Surface Air Temperature °C',daily_sum_obs_from_NOAA_PEMBA,'TMAX','NOAA','Annual mean daily maximum temperature °C','Pemba')"
   ]
  },
  {
   "cell_type": "code",
   "execution_count": null,
   "id": "9c5f8cbc",
   "metadata": {},
   "outputs": [],
   "source": [
    "cdf_plot_category_or_obs('PEMBA, MZ',df_initial=tasmax_model_NEX_GDDPCMIP6_to_comp_NOAA_PEMBA_past[['Model','Year','Daily Maximum Near-Surface Air Temperature °C']],name_column_df='Daily Maximum Near-Surface Air Temperature °C',source_df='NEX-GDDP-CMIP6',category='Model',obs_initial=daily_sum_obs_from_NOAA_PEMBA,name_column_obs='TMAX',source_obs='NOAA')"
   ]
  },
  {
   "cell_type": "code",
   "execution_count": null,
   "id": "b03a16b3",
   "metadata": {},
   "outputs": [],
   "source": [
    "boxplots_('maximum temperature',tasmax_model_NEX_GDDPCMIP6_to_comp_NOAA_PEMBA_past,'Daily Maximum Near-Surface Air Temperature °C',daily_sum_obs_from_NOAA_PEMBA,'TMAX','Pemba')"
   ]
  },
  {
   "cell_type": "code",
   "execution_count": null,
   "id": "8adb7e1f",
   "metadata": {},
   "outputs": [],
   "source": [
    "# Beira"
   ]
  },
  {
   "cell_type": "code",
   "execution_count": null,
   "id": "95e2cdaa",
   "metadata": {},
   "outputs": [],
   "source": [
    "compare_3_lines('test','Mean','maximum temperature',tasmax_model_NEX_GDDPCMIP6_to_comp_NOAA_BEIRA_past,'Daily Maximum Near-Surface Air Temperature °C',daily_sum_obs_from_NOAA_BEIRA,'TMAX','NOAA','Annual mean daily maximum temperature °C','Beira')"
   ]
  },
  {
   "cell_type": "code",
   "execution_count": null,
   "id": "53eef34b",
   "metadata": {},
   "outputs": [],
   "source": [
    "cdf_plot_category_or_obs('Beira, MZ',df_initial=tasmax_model_NEX_GDDPCMIP6_to_comp_NOAA_BEIRA_past[['Model','Year','Daily Maximum Near-Surface Air Temperature °C']],name_column_df='Daily Maximum Near-Surface Air Temperature °C',source_df='NEX-GDDP-CMIP6',category='Model',obs_initial=daily_sum_obs_from_NOAA_BEIRA,name_column_obs='TMAX',source_obs='NOAA')"
   ]
  },
  {
   "cell_type": "code",
   "execution_count": null,
   "id": "420b520c",
   "metadata": {},
   "outputs": [],
   "source": [
    "boxplots_('maximum temperature',tasmax_model_NEX_GDDPCMIP6_to_comp_NOAA_BEIRA_past,'Daily Maximum Near-Surface Air Temperature °C',daily_sum_obs_from_NOAA_BEIRA,'TMAX','Beira')"
   ]
  },
  {
   "cell_type": "code",
   "execution_count": null,
   "id": "d7a64264",
   "metadata": {},
   "outputs": [],
   "source": []
  },
  {
   "cell_type": "code",
   "execution_count": null,
   "id": "426a195a",
   "metadata": {},
   "outputs": [],
   "source": []
  },
  {
   "cell_type": "code",
   "execution_count": null,
   "id": "6163c03b",
   "metadata": {},
   "outputs": [],
   "source": []
  },
  {
   "cell_type": "code",
   "execution_count": null,
   "id": "16f6452a",
   "metadata": {},
   "outputs": [],
   "source": []
  },
  {
   "cell_type": "code",
   "execution_count": null,
   "id": "7dc5d9cf",
   "metadata": {},
   "outputs": [],
   "source": []
  },
  {
   "cell_type": "code",
   "execution_count": null,
   "id": "090d1dd8",
   "metadata": {},
   "outputs": [],
   "source": []
  },
  {
   "cell_type": "code",
   "execution_count": null,
   "id": "f22b4782",
   "metadata": {},
   "outputs": [],
   "source": []
  },
  {
   "cell_type": "code",
   "execution_count": null,
   "id": "d32ac21c",
   "metadata": {},
   "outputs": [],
   "source": []
  },
  {
   "cell_type": "code",
   "execution_count": null,
   "id": "051fc4f2",
   "metadata": {},
   "outputs": [],
   "source": []
  },
  {
   "cell_type": "code",
   "execution_count": null,
   "id": "292d14a0",
   "metadata": {},
   "outputs": [],
   "source": []
  },
  {
   "cell_type": "code",
   "execution_count": null,
   "id": "b991a0b4",
   "metadata": {},
   "outputs": [],
   "source": []
  },
  {
   "cell_type": "code",
   "execution_count": null,
   "id": "2b1e63f6",
   "metadata": {},
   "outputs": [],
   "source": []
  },
  {
   "cell_type": "code",
   "execution_count": null,
   "id": "481ce7ed",
   "metadata": {},
   "outputs": [],
   "source": []
  }
 ],
 "metadata": {
  "kernelspec": {
   "display_name": "Python 3 (ipykernel)",
   "language": "python",
   "name": "python3"
  },
  "language_info": {
   "codemirror_mode": {
    "name": "ipython",
    "version": 3
   },
   "file_extension": ".py",
   "mimetype": "text/x-python",
   "name": "python",
   "nbconvert_exporter": "python",
   "pygments_lexer": "ipython3",
   "version": "3.10.6"
  }
 },
 "nbformat": 4,
 "nbformat_minor": 5
}
